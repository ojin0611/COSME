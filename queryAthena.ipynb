{
 "cells": [
  {
   "cell_type": "code",
   "execution_count": 1,
   "metadata": {},
   "outputs": [],
   "source": [
    "import boto3\n",
    "#Function for starting athena query\n",
    "def run_query(query, database, s3_output):\n",
    "    client = boto3.client('athena')\n",
    "    response = client.start_query_execution(\n",
    "        QueryString=query,\n",
    "        QueryExecutionContext={\n",
    "            'Database': database\n",
    "            },\n",
    "        ResultConfiguration={\n",
    "            'OutputLocation': s3_output,\n",
    "            }\n",
    "        )\n",
    "    print('Execution ID: ' + response['QueryExecutionId'])\n",
    "    return response"
   ]
  },
  {
   "cell_type": "code",
   "execution_count": 2,
   "metadata": {},
   "outputs": [],
   "source": [
    "s3_input = 's3://cosmee-productbarcode/csv/'\n",
    "s3_output = 's3://cosmee-productbarcode/csv/'\n",
    "\n",
    "database = 'cosmee'\n",
    "table = 'posts'"
   ]
  },
  {
   "cell_type": "code",
   "execution_count": 4,
   "metadata": {},
   "outputs": [],
   "source": [
    "query_1 = \"select postid, authorid, tags, title, body from %s.posts\" % (database) \n",
    "query_2 = \"select userid, basicskininfo, profileproperties from %s.users\" % (database) \n",
    "query_3 = \"select userid, surveyset, questionid, step, answer from %s.surveyanswers\" % (database)"
   ]
  },
  {
   "cell_type": "code",
   "execution_count": 5,
   "metadata": {},
   "outputs": [
    {
     "name": "stdout",
     "output_type": "stream",
     "text": [
      "Executing query: select postid, authorid, tags, title, body from cosmee.posts\n",
      "Execution ID: 40e07a92-ee6b-413e-85f0-2eb491b4d505\n",
      "Executing query: select userid, basicskininfo, profileproperties from cosmee.users\n",
      "Execution ID: 2120d5f9-8b8e-4e28-b06b-d68357e06ab4\n",
      "Executing query: select userid, surveyset, questionid, step, answer from cosmee.surveyanswers\n",
      "Execution ID: 236b98d1-1c8d-4c63-8f76-8c4da85cf2b8\n"
     ]
    }
   ],
   "source": [
    "queries = [query_1, query_2, query_3 ]\n",
    "for q in queries:\n",
    "   print(\"Executing query: %s\" % (q))\n",
    "   res = run_query(q, database, s3_output)"
   ]
  },
  {
   "cell_type": "code",
   "execution_count": null,
   "metadata": {},
   "outputs": [],
   "source": []
  }
 ],
 "metadata": {
  "kernelspec": {
   "display_name": "Python 3",
   "language": "python",
   "name": "python3"
  },
  "language_info": {
   "codemirror_mode": {
    "name": "ipython",
    "version": 3
   },
   "file_extension": ".py",
   "mimetype": "text/x-python",
   "name": "python",
   "nbconvert_exporter": "python",
   "pygments_lexer": "ipython3",
   "version": "3.7.0"
  }
 },
 "nbformat": 4,
 "nbformat_minor": 2
}
