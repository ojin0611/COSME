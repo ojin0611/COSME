{
 "cells": [
  {
   "cell_type": "code",
   "execution_count": 1,
   "metadata": {},
   "outputs": [],
   "source": [
    "import os\n",
    "import pandas as pd\n",
    "import json, csv, sys\n",
    "from pandas.io.json import json_normalize\n",
    "import time\n",
    "import datetime\n"
   ]
  },
  {
   "cell_type": "markdown",
   "metadata": {},
   "source": [
    "# Import ProductBarcode"
   ]
  },
  {
   "cell_type": "code",
   "execution_count": 2,
   "metadata": {},
   "outputs": [],
   "source": [
    "def getJsonFileNameList(mydir):\n",
    "\n",
    "    fileNameList =os.listdir(mydir)\n",
    "    jsonFileNameList=[]\n",
    "    for file in fileNameList:\n",
    "        if file[-4:] == 'json':\n",
    "            jsonFileNameList.append(file)\n",
    "        \n",
    "    return jsonFileNameList\n",
    "\n",
    "def json2dataframe(mydir, jsonFile):\n",
    "    with open(mydir + jsonFile,encoding='UTF8') as f:\n",
    "        jsonData = json.load(f) # list 얻는다.\n",
    "        \n",
    "    df = pd.DataFrame.from_dict(json_normalize(jsonData), orient='columns')\n",
    "    return df"
   ]
  },
  {
   "cell_type": "code",
   "execution_count": 6,
   "metadata": {},
   "outputs": [
    {
     "name": "stdout",
     "output_type": "stream",
     "text": [
      "파일 목록\n",
      "['ProductBarcode.json']\n"
     ]
    }
   ],
   "source": [
    "mydir = 'C:/Users/dongm/COSMOCHAIN/Data/Product/상공회의소/'\n",
    "dir_output = 'C:/Users/dongm/COSMOCHAIN/Data/'\n",
    "\n",
    "jsonFileNameList = getJsonFileNameList(mydir)\n",
    "print('파일 목록')\n",
    "print(jsonFileNameList)"
   ]
  },
  {
   "cell_type": "code",
   "execution_count": 7,
   "metadata": {},
   "outputs": [
    {
     "name": "stdout",
     "output_type": "stream",
     "text": [
      "change < ProductBarcode.json > to Dataframe\n"
     ]
    }
   ],
   "source": [
    "dflist=[]\n",
    "for jsonFile in jsonFileNameList:\n",
    "    print('change <',jsonFile, '> to Dataframe')\n",
    "    dflist.append(json2dataframe(mydir,jsonFile))\n",
    "    \n",
    "    "
   ]
  },
  {
   "cell_type": "code",
   "execution_count": 11,
   "metadata": {},
   "outputs": [
    {
     "data": {
      "text/html": [
       "<div>\n",
       "<style scoped>\n",
       "    .dataframe tbody tr th:only-of-type {\n",
       "        vertical-align: middle;\n",
       "    }\n",
       "\n",
       "    .dataframe tbody tr th {\n",
       "        vertical-align: top;\n",
       "    }\n",
       "\n",
       "    .dataframe thead th {\n",
       "        text-align: right;\n",
       "    }\n",
       "</style>\n",
       "<table border=\"1\" class=\"dataframe\">\n",
       "  <thead>\n",
       "    <tr style=\"text-align: right;\">\n",
       "      <th></th>\n",
       "      <th>BARCODE</th>\n",
       "      <th>PRNM</th>\n",
       "      <th>CLASSCODE</th>\n",
       "      <th>CLASSNAME4</th>\n",
       "    </tr>\n",
       "  </thead>\n",
       "  <tbody>\n",
       "    <tr>\n",
       "      <th>477911</th>\n",
       "      <td>9556006011058</td>\n",
       "      <td>PH5.5 250ML</td>\n",
       "      <td>03200199</td>\n",
       "      <td>기타목욕용화장품</td>\n",
       "    </tr>\n",
       "    <tr>\n",
       "      <th>477912</th>\n",
       "      <td>9556006060247</td>\n",
       "      <td>JB Bedtime bath 1000ml</td>\n",
       "      <td>03200199</td>\n",
       "      <td>기타목욕용화장품</td>\n",
       "    </tr>\n",
       "    <tr>\n",
       "      <th>477913</th>\n",
       "      <td>9771210107001</td>\n",
       "      <td>이스틴 틴트 루즈 1,2</td>\n",
       "      <td>03200499</td>\n",
       "      <td>기타아이메이크업용품</td>\n",
       "    </tr>\n",
       "    <tr>\n",
       "      <th>477914</th>\n",
       "      <td>9809169793317</td>\n",
       "      <td>다이알 선물세트</td>\n",
       "      <td>03200205</td>\n",
       "      <td>핸드워시</td>\n",
       "    </tr>\n",
       "    <tr>\n",
       "      <th>477915</th>\n",
       "      <td>9909208059210</td>\n",
       "      <td>쥬리아 알로에 베라 수딩젤</td>\n",
       "      <td>03209999</td>\n",
       "      <td>기타화장품</td>\n",
       "    </tr>\n",
       "  </tbody>\n",
       "</table>\n",
       "</div>"
      ],
      "text/plain": [
       "              BARCODE                    PRNM CLASSCODE  CLASSNAME4\n",
       "477911  9556006011058             PH5.5 250ML  03200199    기타목욕용화장품\n",
       "477912  9556006060247  JB Bedtime bath 1000ml  03200199    기타목욕용화장품\n",
       "477913  9771210107001          이스틴 틴트 루즈 1,2   03200499  기타아이메이크업용품\n",
       "477914  9809169793317                다이알 선물세트  03200205        핸드워시\n",
       "477915  9909208059210          쥬리아 알로에 베라 수딩젤  03209999       기타화장품"
      ]
     },
     "metadata": {},
     "output_type": "display_data"
    }
   ],
   "source": [
    "barcode = dflist[0]\n",
    "barcode = barcode[['BARCODE','PRNM','CLASSCODE','CLASSNAME4']]\n",
    "barcode = barcode.sort_values(by=['BARCODE'])\n",
    "barcode = barcode.reset_index(drop=True)\n",
    "display(barcode.tail())\n"
   ]
  },
  {
   "cell_type": "markdown",
   "metadata": {},
   "source": [
    "# Import 상품데이터 Master"
   ]
  },
  {
   "cell_type": "code",
   "execution_count": null,
   "metadata": {},
   "outputs": [],
   "source": [
    "filename = '상품데이터 Master.xlsx'\n",
    "df = pd.read_excel(mydir + filename, sheet_name = 3)\n",
    "display(df.columns)"
   ]
  },
  {
   "cell_type": "code",
   "execution_count": 29,
   "metadata": {},
   "outputs": [],
   "source": [
    "master = df[['브랜드명 (한글)','상품명 (한글)','원상품명']]"
   ]
  },
  {
   "cell_type": "markdown",
   "metadata": {},
   "source": [
    "# 핵심부분 : 어떻게 유사도 계산할것인가?\n",
    "### 1. 공백 제거\n",
    "### 2. 모두 대문자로 변경\n",
    "### 3. master의 상품명 모두 포함"
   ]
  },
  {
   "cell_type": "code",
   "execution_count": 30,
   "metadata": {},
   "outputs": [],
   "source": [
    "# Master 파일의 상품명, trim\n",
    "master_products = list(master['상품명 (한글)'])\n",
    "master_products_trim = [product.replace(\" \",\"\").upper() for product in master_products]\n",
    "total_len = len(master_products)\n",
    "\n",
    "# BARCODE 파일의 바코드와 상품명, trim\n",
    "barcode_barcode = list(barcode['BARCODE'])\n",
    "barcode_prnms = list(barcode['PRNM'])\n",
    "barcode_prnms_trim = [prnm.replace(\" \",\"\").upper() for prnm in barcode_prnms]\n",
    "\n"
   ]
  },
  {
   "cell_type": "code",
   "execution_count": 55,
   "metadata": {},
   "outputs": [
    {
     "name": "stdout",
     "output_type": "stream",
     "text": [
      "--- 시작 : 2019-01-09 18:56:06.729373 ---\n",
      "--- Master Data 개수 : 18048 ---\n",
      "0.0 퍼센트 진행중\n",
      "0.5 퍼센트 진행중\n",
      "1.0 퍼센트 진행중\n",
      "--- 예상 소요 시간 : 1934.83 seconds ---\n",
      "--- 전체 소요 시간 : 21.50 seconds ---\n",
      "--- 종료 : 2019-01-09 18:56:28.232315 ---\n"
     ]
    }
   ],
   "source": [
    "start_time = time.time()\n",
    "now = datetime.datetime.now()\n",
    "print('--- 시작 :',now, '---')\n",
    "print('--- Master Data 개수 :',total_len,'---')\n",
    "\n",
    "# 매칭 결과를 저장하는 list\n",
    "PRNM = []\n",
    "BARCODE = []\n",
    "\n",
    "\n",
    "for idx, prod in enumerate(master_products_trim):\n",
    "    for f, prnm in enumerate(barcode_prnms_trim):\n",
    "        if prod in prnm:\n",
    "            PRNM.append(barcode_prnms[f])\n",
    "            BARCODE.append(barcode_barcode[f])\n",
    "            break\n",
    "    else:\n",
    "        PRNM.append('#')\n",
    "        BARCODE.append('#')\n",
    "        \n",
    "    if idx % (total_len//200) == 0:\n",
    "        print(\"%3.1f 퍼센트 진행중\" % (idx / total_len * 100))\n",
    "    if idx == total_len//100:\n",
    "        print(\"--- 예상 소요 시간 : %0.2f seconds\" % float((time.time() - start_time)*100), '---')\n",
    "    if idx > 201:\n",
    "        break\n",
    "    \n",
    "now = datetime.datetime.now()\n",
    "print(\"--- 전체 소요 시간 : %0.2f seconds ---\" % (time.time() - start_time))\n",
    "print('--- 종료 :',now, '---')\n"
   ]
  },
  {
   "cell_type": "markdown",
   "metadata": {},
   "source": [
    "# 매칭 개수 확인"
   ]
  },
  {
   "cell_type": "code",
   "execution_count": null,
   "metadata": {},
   "outputs": [],
   "source": [
    "# test용으로 짧게 했을 때 len(PRNM)만큼만 사용\n",
    "master = master.head(len(PRNM))\n",
    "master['BARCODE']=BARCODE\n",
    "master['PRNM']=PRNM\n",
    "\n",
    "brands = master.groupby('브랜드명 (한글)')\n",
    "brands = [brands.get_group(x) for x in brands.groups]\n",
    "\n",
    "sum1=0\n",
    "sum2=0\n",
    "for brand in brands:\n",
    "    matched = len(set(brand['PRNM'])) - 1\n",
    "    brand_total = len(brand)\n",
    "    print(brand['브랜드명 (한글)'].iloc[0]+' : '+str(matched)+'/'+str(brand_total))\n",
    "    print('-*-'*10)\n",
    "    sum1+=matched\n",
    "    sum2+=brand_total\n",
    "\n",
    "print(sum1)\n",
    "print(sum2)"
   ]
  },
  {
   "cell_type": "markdown",
   "metadata": {},
   "source": [
    "# Export to excel"
   ]
  },
  {
   "cell_type": "code",
   "execution_count": 34,
   "metadata": {},
   "outputs": [],
   "source": [
    "master.to_excel(dir_output+'공백제거 후 일치.xlsx')"
   ]
  },
  {
   "cell_type": "code",
   "execution_count": null,
   "metadata": {},
   "outputs": [],
   "source": []
  }
 ],
 "metadata": {
  "kernelspec": {
   "display_name": "Python 3",
   "language": "python",
   "name": "python3"
  },
  "language_info": {
   "codemirror_mode": {
    "name": "ipython",
    "version": 3
   },
   "file_extension": ".py",
   "mimetype": "text/x-python",
   "name": "python",
   "nbconvert_exporter": "python",
   "pygments_lexer": "ipython3",
   "version": "3.7.0"
  }
 },
 "nbformat": 4,
 "nbformat_minor": 2
}
