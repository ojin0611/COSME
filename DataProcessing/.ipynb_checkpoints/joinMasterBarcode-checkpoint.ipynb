{
 "cells": [
  {
   "cell_type": "code",
   "execution_count": 1,
   "metadata": {},
   "outputs": [],
   "source": [
    "from toMatch import *"
   ]
  },
  {
   "cell_type": "code",
   "execution_count": 2,
   "metadata": {},
   "outputs": [],
   "source": [
    "matchOutputFilename = 'matched 114.xlsx'\n",
    "notMatchOutputFilename = 'not matched 114.xlsx'\n",
    "naiveMatchOutputFilename = 'additional matched 114.xlsx'\n",
    "dir_output = 'C:/Users/dongm/COSMOCHAIN/Data/'\n"
   ]
  },
  {
   "cell_type": "markdown",
   "metadata": {},
   "source": [
    "# Import ProductBarcode"
   ]
  },
  {
   "cell_type": "code",
   "execution_count": 3,
   "metadata": {},
   "outputs": [
    {
     "name": "stdout",
     "output_type": "stream",
     "text": [
      "파일 목록\n",
      "['ProductBarcode.json']\n",
      "change < ProductBarcode.json > to Dataframe\n"
     ]
    },
    {
     "data": {
      "text/html": [
       "<div>\n",
       "<style scoped>\n",
       "    .dataframe tbody tr th:only-of-type {\n",
       "        vertical-align: middle;\n",
       "    }\n",
       "\n",
       "    .dataframe tbody tr th {\n",
       "        vertical-align: top;\n",
       "    }\n",
       "\n",
       "    .dataframe thead th {\n",
       "        text-align: right;\n",
       "    }\n",
       "</style>\n",
       "<table border=\"1\" class=\"dataframe\">\n",
       "  <thead>\n",
       "    <tr style=\"text-align: right;\">\n",
       "      <th></th>\n",
       "      <th>BARCODE</th>\n",
       "      <th>PRNM</th>\n",
       "      <th>CLASSCODE</th>\n",
       "      <th>CLASSNAME4</th>\n",
       "    </tr>\n",
       "  </thead>\n",
       "  <tbody>\n",
       "    <tr>\n",
       "      <th>0</th>\n",
       "      <td>9909208059210</td>\n",
       "      <td>쥬리아 알로에 베라 수딩젤</td>\n",
       "      <td>03209999</td>\n",
       "      <td>기타화장품</td>\n",
       "    </tr>\n",
       "    <tr>\n",
       "      <th>1</th>\n",
       "      <td>9809169793317</td>\n",
       "      <td>다이알 선물세트</td>\n",
       "      <td>03200205</td>\n",
       "      <td>핸드워시</td>\n",
       "    </tr>\n",
       "    <tr>\n",
       "      <th>2</th>\n",
       "      <td>9771210107001</td>\n",
       "      <td>이스틴 틴트 루즈 1,2</td>\n",
       "      <td>03200499</td>\n",
       "      <td>기타아이메이크업용품</td>\n",
       "    </tr>\n",
       "    <tr>\n",
       "      <th>3</th>\n",
       "      <td>9556006060247</td>\n",
       "      <td>JB Bedtime bath 1000ml</td>\n",
       "      <td>03200199</td>\n",
       "      <td>기타목욕용화장품</td>\n",
       "    </tr>\n",
       "    <tr>\n",
       "      <th>4</th>\n",
       "      <td>9556006011058</td>\n",
       "      <td>PH5.5 250ML</td>\n",
       "      <td>03200199</td>\n",
       "      <td>기타목욕용화장품</td>\n",
       "    </tr>\n",
       "  </tbody>\n",
       "</table>\n",
       "</div>"
      ],
      "text/plain": [
       "         BARCODE                    PRNM CLASSCODE  CLASSNAME4\n",
       "0  9909208059210          쥬리아 알로에 베라 수딩젤  03209999       기타화장품\n",
       "1  9809169793317                다이알 선물세트  03200205        핸드워시\n",
       "2  9771210107001          이스틴 틴트 루즈 1,2   03200499  기타아이메이크업용품\n",
       "3  9556006060247  JB Bedtime bath 1000ml  03200199    기타목욕용화장품\n",
       "4  9556006011058             PH5.5 250ML  03200199    기타목욕용화장품"
      ]
     },
     "metadata": {},
     "output_type": "display_data"
    }
   ],
   "source": [
    "mydir = 'C:/Users/dongm/COSMOCHAIN/Data/Product/상공회의소/'\n",
    "\n",
    "jsonFileNameList = getJsonFileNameList(mydir)\n",
    "print('파일 목록')\n",
    "print(jsonFileNameList)\n",
    "\n",
    "dflist=[]\n",
    "for jsonFile in jsonFileNameList:\n",
    "    print('change <',jsonFile, '> to Dataframe')\n",
    "    dflist.append(json2dataframe(mydir,jsonFile))\n",
    "    \n",
    "    \n",
    "\n",
    "barcode = dflist[0]\n",
    "barcode = barcode[['BARCODE','PRNM','CLASSCODE','CLASSNAME4']]\n",
    "# 바코드 국가번호 큰 애들부터 분류시작\n",
    "barcode = barcode.sort_values(by=['BARCODE'],ascending=False)\n",
    "barcode = barcode.reset_index(drop=True)\n",
    "display(barcode.head())\n"
   ]
  },
  {
   "cell_type": "markdown",
   "metadata": {},
   "source": [
    "# Import 상품데이터 Master"
   ]
  },
  {
   "cell_type": "code",
   "execution_count": 13,
   "metadata": {},
   "outputs": [],
   "source": [
    "mydir = 'C:/Users/dongm/COSMOCHAIN/Data/Product/크롤링/'\n",
    "filename = '상품데이터 Master Final.xlsx'\n",
    "# df = pd.read_excel(mydir + filename, sheet_name = 3)\n",
    "df2= pd.read_excel(mydir + filename, sheet_name = 4)\n",
    "df3= pd.read_excel(mydir + filename, sheet_name = 6)"
   ]
  },
  {
   "cell_type": "code",
   "execution_count": 14,
   "metadata": {},
   "outputs": [
    {
     "data": {
      "text/plain": [
       "Index(['브랜드명 (한글)', '브랜드명 (영문)', '상품명 (한글)', '색상', '타입', '사이트 기준 카테고리',\n",
       "       '코스모체인 기준 카테고리', 'URL', '이미지', '용량', '원상품명', '상품명 (영문)', 'Status',\n",
       "       '제품 이미지', '정상가', '판매가', '사이트 기준 pid', '한정판 유무', '88code', 'notes'],\n",
       "      dtype='object')"
      ]
     },
     "metadata": {},
     "output_type": "display_data"
    },
    {
     "data": {
      "text/plain": [
       "Index(['브랜드명 (한글)', '브랜드명 (영문)', '상품명 (한글)', '상품명 (영문)', '용량', '색상', '타입',\n",
       "       'URL', 'Status', '코스모체인 기준 카테고리', '사이트 기준 카테고리', '제품 이미지', '정상가', '판매가',\n",
       "       '사이트 기준 pid', '한정판 유무', '원상품명', '88code', 'notes'],\n",
       "      dtype='object')"
      ]
     },
     "metadata": {},
     "output_type": "display_data"
    }
   ],
   "source": [
    "display(df2.columns)\n",
    "display(df3.columns)"
   ]
  },
  {
   "cell_type": "code",
   "execution_count": 15,
   "metadata": {},
   "outputs": [
    {
     "data": {
      "text/plain": [
       "9664"
      ]
     },
     "execution_count": 15,
     "metadata": {},
     "output_type": "execute_result"
    }
   ],
   "source": [
    "len(df2)"
   ]
  },
  {
   "cell_type": "code",
   "execution_count": 16,
   "metadata": {},
   "outputs": [
    {
     "data": {
      "text/plain": [
       "8384"
      ]
     },
     "execution_count": 16,
     "metadata": {},
     "output_type": "execute_result"
    }
   ],
   "source": [
    "len(df3)"
   ]
  },
  {
   "cell_type": "code",
   "execution_count": 17,
   "metadata": {},
   "outputs": [
    {
     "name": "stderr",
     "output_type": "stream",
     "text": [
      "C:\\Users\\dongm\\Anaconda3\\lib\\site-packages\\pandas\\core\\frame.py:6211: FutureWarning: Sorting because non-concatenation axis is not aligned. A future version\n",
      "of pandas will change to not sort by default.\n",
      "\n",
      "To accept the future behavior, pass 'sort=False'.\n",
      "\n",
      "To retain the current behavior and silence the warning, pass 'sort=True'.\n",
      "\n",
      "  sort=sort)\n"
     ]
    },
    {
     "data": {
      "text/plain": [
       "18048"
      ]
     },
     "execution_count": 17,
     "metadata": {},
     "output_type": "execute_result"
    }
   ],
   "source": [
    "master = df2.append(df3)\n"
   ]
  },
  {
   "cell_type": "code",
   "execution_count": 8,
   "metadata": {},
   "outputs": [
    {
     "data": {
      "text/plain": [
       "Index(['브랜드명 (한글)', '브랜드명 (영문)', '상품명 (한글)', '색상', '타입', '사이트 기준 카테고리',\n",
       "       '코스모체인 기준 카테고리', 'URL', '이미지', '용량', '원상품명', '상품명 (영문)', 'Status',\n",
       "       '제품 이미지', '정상가', '판매가', '사이트 기준 pid', '한정판 유무', '88code', 'Unnamed: 19',\n",
       "       'notes'],\n",
       "      dtype='object')"
      ]
     },
     "execution_count": 8,
     "metadata": {},
     "output_type": "execute_result"
    }
   ],
   "source": [
    "# master = df.copy() #[['브랜드명 (한글)','상품명 (한글)','원상품명']]\n",
    "# master.columns"
   ]
  },
  {
   "cell_type": "markdown",
   "metadata": {},
   "source": [
    "# Match!"
   ]
  },
  {
   "cell_type": "code",
   "execution_count": null,
   "metadata": {},
   "outputs": [
    {
     "name": "stdout",
     "output_type": "stream",
     "text": [
      "--- 2019-01-14 18:23:28.256098 ---\n",
      "--- Master Data 개수 : 18048 ---\n",
      "--- 상품명 (한국) match start---\n",
      "0.0 퍼센트 진행중\n",
      "--- 예상 소요 시간 : 26.40 minutes ---\n"
     ]
    }
   ],
   "source": [
    "master = perfectMatch(master, barcode, test=False, kor=True, eng=False, version = 'perfect')\n"
   ]
  },
  {
   "cell_type": "markdown",
   "metadata": {},
   "source": [
    "# Export matched"
   ]
  },
  {
   "cell_type": "code",
   "execution_count": 12,
   "metadata": {},
   "outputs": [],
   "source": [
    "writer = pd.ExcelWriter(dir_output + matchOutputFilename, \n",
    "                        engine='xlsxwriter',options={'strings_to_urls': False})\n",
    "master.to_excel(writer, sheet_name='Sheet1')\n",
    "writer.close()"
   ]
  },
  {
   "cell_type": "markdown",
   "metadata": {},
   "source": [
    "# 매칭 개수 확인"
   ]
  },
  {
   "cell_type": "code",
   "execution_count": 13,
   "metadata": {},
   "outputs": [],
   "source": [
    "%%capture cap --no-stderr\n",
    "matchingResult(master)"
   ]
  },
  {
   "cell_type": "code",
   "execution_count": 14,
   "metadata": {},
   "outputs": [],
   "source": [
    "with open(dir_output+matchOutputFilename[:-4]+'txt', 'w') as out: out.write(cap.stdout)"
   ]
  },
  {
   "cell_type": "markdown",
   "metadata": {},
   "source": [
    "# Not Matched T_T"
   ]
  },
  {
   "cell_type": "code",
   "execution_count": 15,
   "metadata": {},
   "outputs": [],
   "source": [
    "master2 = notMatched(master)"
   ]
  },
  {
   "cell_type": "markdown",
   "metadata": {},
   "source": [
    "# Export not matched"
   ]
  },
  {
   "cell_type": "code",
   "execution_count": 16,
   "metadata": {},
   "outputs": [],
   "source": [
    "writer = pd.ExcelWriter(dir_output + notMatchOutputFilename, \n",
    "                        engine='xlsxwriter',options={'strings_to_urls': False})\n",
    "master2.to_excel(writer, sheet_name='Sheet1')\n",
    "writer.close()"
   ]
  },
  {
   "cell_type": "markdown",
   "metadata": {},
   "source": [
    "# 매칭 개수 확인"
   ]
  },
  {
   "cell_type": "code",
   "execution_count": 17,
   "metadata": {},
   "outputs": [],
   "source": [
    "%%capture cap --no-stderr\n",
    "matchingResult(master2)"
   ]
  },
  {
   "cell_type": "code",
   "execution_count": 18,
   "metadata": {},
   "outputs": [],
   "source": [
    "with open(dir_output+notMatchOutputFilename[:-4]+'txt', 'w') as out: out.write(cap.stdout)"
   ]
  },
  {
   "cell_type": "markdown",
   "metadata": {},
   "source": [
    "# Additional Match"
   ]
  },
  {
   "cell_type": "code",
   "execution_count": 16,
   "metadata": {},
   "outputs": [
    {
     "name": "stdout",
     "output_type": "stream",
     "text": [
      "--- 2019-01-14 12:03:36.683255 ---\n",
      "--- Master Data 개수 : 12333 ---\n",
      "0.0 퍼센트 진행중\n",
      "--- 예상 소요 시간 : 109.97 minutes ---\n",
      "2.0 퍼센트 진행중\n",
      "4.0 퍼센트 진행중\n",
      "6.0 퍼센트 진행중\n",
      "8.0 퍼센트 진행중\n",
      "10.0 퍼센트 진행중\n",
      "12.0 퍼센트 진행중\n",
      "14.0 퍼센트 진행중\n",
      "16.0 퍼센트 진행중\n",
      "18.0 퍼센트 진행중\n",
      "20.0 퍼센트 진행중\n",
      "22.0 퍼센트 진행중\n",
      "24.0 퍼센트 진행중\n",
      "26.0 퍼센트 진행중\n",
      "28.0 퍼센트 진행중\n",
      "30.0 퍼센트 진행중\n",
      "32.0 퍼센트 진행중\n",
      "34.0 퍼센트 진행중\n",
      "36.0 퍼센트 진행중\n",
      "38.0 퍼센트 진행중\n",
      "40.0 퍼센트 진행중\n",
      "42.0 퍼센트 진행중\n",
      "44.0 퍼센트 진행중\n",
      "46.0 퍼센트 진행중\n",
      "48.0 퍼센트 진행중\n",
      "50.0 퍼센트 진행중\n",
      "52.0 퍼센트 진행중\n",
      "54.0 퍼센트 진행중\n",
      "56.0 퍼센트 진행중\n",
      "58.0 퍼센트 진행중\n",
      "60.0 퍼센트 진행중\n",
      "62.0 퍼센트 진행중\n",
      "64.0 퍼센트 진행중\n",
      "66.0 퍼센트 진행중\n",
      "68.0 퍼센트 진행중\n",
      "70.0 퍼센트 진행중\n",
      "72.0 퍼센트 진행중\n",
      "74.0 퍼센트 진행중\n",
      "76.0 퍼센트 진행중\n",
      "78.0 퍼센트 진행중\n",
      "80.0 퍼센트 진행중\n",
      "82.0 퍼센트 진행중\n",
      "84.0 퍼센트 진행중\n",
      "86.0 퍼센트 진행중\n",
      "88.0 퍼센트 진행중\n",
      "90.0 퍼센트 진행중\n",
      "92.0 퍼센트 진행중\n",
      "94.0 퍼센트 진행중\n",
      "96.0 퍼센트 진행중\n",
      "98.0 퍼센트 진행중\n",
      "100.0 퍼센트 진행중\n",
      "--- Match End : 2019-01-14 14:52:26.605682 ---\n",
      "--- 전체 소요 시간 : 168.83 minutes ---\n"
     ]
    },
    {
     "name": "stderr",
     "output_type": "stream",
     "text": [
      "C:\\Users\\dongm\\COSMOCHAIN\\Code\\DataTeam\\DataProcessing\\toMatch.py:136: SettingWithCopyWarning: \n",
      "A value is trying to be set on a copy of a slice from a DataFrame.\n",
      "Try using .loc[row_indexer,col_indexer] = value instead\n",
      "\n",
      "See the caveats in the documentation: http://pandas.pydata.org/pandas-docs/stable/indexing.html#indexing-view-versus-copy\n",
      "  master['BARCODE']=BARCODE\n",
      "C:\\Users\\dongm\\COSMOCHAIN\\Code\\DataTeam\\DataProcessing\\toMatch.py:137: SettingWithCopyWarning: \n",
      "A value is trying to be set on a copy of a slice from a DataFrame.\n",
      "Try using .loc[row_indexer,col_indexer] = value instead\n",
      "\n",
      "See the caveats in the documentation: http://pandas.pydata.org/pandas-docs/stable/indexing.html#indexing-view-versus-copy\n",
      "  master['PRNM']=PRNM\n"
     ]
    }
   ],
   "source": [
    "master3 = master2.drop(columns=['BARCODE','PRNM'])\n",
    "master3 = perfectMatch(master3, barcode, test=False, kor=True, eng=True, version='perfect')"
   ]
  },
  {
   "cell_type": "markdown",
   "metadata": {},
   "source": [
    "# 매칭 개수 확인"
   ]
  },
  {
   "cell_type": "code",
   "execution_count": 23,
   "metadata": {},
   "outputs": [],
   "source": [
    "%%capture cap --no-stderr\n",
    "matchingResult(master3)"
   ]
  },
  {
   "cell_type": "code",
   "execution_count": 24,
   "metadata": {},
   "outputs": [],
   "source": [
    "with open(dir_output+'2'+notMatchOutputFilename[:-4]+'txt', 'w') as out: out.write(cap.stdout)"
   ]
  },
  {
   "cell_type": "markdown",
   "metadata": {},
   "source": [
    "# Export additional Match"
   ]
  },
  {
   "cell_type": "code",
   "execution_count": 17,
   "metadata": {},
   "outputs": [],
   "source": [
    "writer = pd.ExcelWriter(dir_output + naiveMatchOutputFilename, \n",
    "                        engine='xlsxwriter',options={'strings_to_urls': False})\n",
    "master3.to_excel(writer, sheet_name='Sheet1')\n",
    "writer.close()"
   ]
  },
  {
   "cell_type": "markdown",
   "metadata": {},
   "source": [
    "# Load Save File"
   ]
  },
  {
   "cell_type": "code",
   "execution_count": 6,
   "metadata": {},
   "outputs": [],
   "source": [
    "master = pd.read_excel(dir_output + matchOutputFilename)\n",
    "master2 = pd.read_excel(dir_output + notMatchOutputFilename)\n"
   ]
  },
  {
   "cell_type": "markdown",
   "metadata": {},
   "source": [
    "# Additional Match"
   ]
  },
  {
   "cell_type": "code",
   "execution_count": null,
   "metadata": {},
   "outputs": [
    {
     "name": "stdout",
     "output_type": "stream",
     "text": [
      "--- 2019-01-14 18:00:19.591442 ---\n",
      "--- Master Data 개수 : 11047 ---\n",
      "--- 상품명 (한국) match start---\n",
      "0.0 퍼센트 진행중\n",
      "--- 예상 소요 시간 : 17.44 minutes ---\n",
      "2.0 퍼센트 진행중\n",
      "4.0 퍼센트 진행중\n",
      "6.0 퍼센트 진행중\n",
      "8.0 퍼센트 진행중\n",
      "10.0 퍼센트 진행중\n",
      "12.0 퍼센트 진행중\n",
      "14.0 퍼센트 진행중\n",
      "16.0 퍼센트 진행중\n",
      "18.0 퍼센트 진행중\n",
      "20.0 퍼센트 진행중\n",
      "22.0 퍼센트 진행중\n",
      "24.0 퍼센트 진행중\n",
      "26.0 퍼센트 진행중\n",
      "28.0 퍼센트 진행중\n",
      "30.0 퍼센트 진행중\n",
      "32.0 퍼센트 진행중\n",
      "34.0 퍼센트 진행중\n",
      "36.0 퍼센트 진행중\n",
      "38.0 퍼센트 진행중\n",
      "40.0 퍼센트 진행중\n",
      "42.0 퍼센트 진행중\n",
      "44.0 퍼센트 진행중\n",
      "46.0 퍼센트 진행중\n",
      "48.0 퍼센트 진행중\n",
      "50.0 퍼센트 진행중\n",
      "52.0 퍼센트 진행중\n",
      "54.0 퍼센트 진행중\n"
     ]
    }
   ],
   "source": [
    "master3 = master2.drop(columns=['BARCODE','PRNM'])\n",
    "master3 = perfectMatch(master3, barcode, test=False, kor=True, eng=True, version='perfect')"
   ]
  },
  {
   "cell_type": "code",
   "execution_count": 21,
   "metadata": {},
   "outputs": [
    {
     "name": "stdout",
     "output_type": "stream",
     "text": [
      "--- 2019-01-14 10:29:52.509596 ---\n",
      "--- Master Data 개수 : 18032 ---\n",
      "0.0 퍼센트 진행중\n",
      "--- 예상 소요 시간 : 79.62 minutes ---\n",
      "--- Match End : 2019-01-14 10:30:40.283918 ---\n",
      "--- 전체 소요 시간 : 0.80 minutes ---\n"
     ]
    }
   ],
   "source": [
    "master2 = naiveMatch(master2, barcode, test=True)"
   ]
  },
  {
   "cell_type": "code",
   "execution_count": null,
   "metadata": {},
   "outputs": [],
   "source": []
  }
 ],
 "metadata": {
  "kernelspec": {
   "display_name": "Python 3",
   "language": "python",
   "name": "python3"
  },
  "language_info": {
   "codemirror_mode": {
    "name": "ipython",
    "version": 3
   },
   "file_extension": ".py",
   "mimetype": "text/x-python",
   "name": "python",
   "nbconvert_exporter": "python",
   "pygments_lexer": "ipython3",
   "version": "3.7.0"
  }
 },
 "nbformat": 4,
 "nbformat_minor": 2
}
