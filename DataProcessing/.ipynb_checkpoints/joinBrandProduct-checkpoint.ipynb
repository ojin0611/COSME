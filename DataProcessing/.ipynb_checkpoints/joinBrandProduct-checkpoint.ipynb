{
 "cells": [
  {
   "cell_type": "code",
   "execution_count": 1,
   "metadata": {},
   "outputs": [
    {
     "name": "stderr",
     "output_type": "stream",
     "text": [
      "C:\\Users\\dongm\\Anaconda3\\lib\\site-packages\\ipykernel\\parentpoller.py:116: UserWarning: Parent poll failed.  If the frontend dies,\n",
      "                the kernel may be left running.  Please let us know\n",
      "                about your system (bitness, Python, etc.) at\n",
      "                ipython-dev@scipy.org\n",
      "  ipython-dev@scipy.org\"\"\")\n"
     ]
    }
   ],
   "source": [
    "import os\n",
    "import pandas as pd\n",
    "import json, csv, sys\n",
    "from pandas.io.json import json_normalize\n"
   ]
  },
  {
   "cell_type": "markdown",
   "metadata": {},
   "source": [
    "# json to dataframe"
   ]
  },
  {
   "cell_type": "code",
   "execution_count": 2,
   "metadata": {},
   "outputs": [],
   "source": [
    "def getJsonFileNameList(mydir):\n",
    "\n",
    "    fileNameList =os.listdir(mydir)\n",
    "    jsonFileNameList=[]\n",
    "    for file in fileNameList:\n",
    "        if file[-4:] == 'json':\n",
    "            jsonFileNameList.append(file)\n",
    "        \n",
    "    return jsonFileNameList"
   ]
  },
  {
   "cell_type": "code",
   "execution_count": 3,
   "metadata": {},
   "outputs": [],
   "source": [
    "def json2dataframe(mydir, jsonFile):\n",
    "    with open(mydir + jsonFile,encoding='UTF8') as f:\n",
    "        jsonData = json.load(f) # list 얻는다.\n",
    "        \n",
    "    df = pd.DataFrame.from_dict(json_normalize(jsonData), orient='columns')\n",
    "    return df"
   ]
  },
  {
   "cell_type": "code",
   "execution_count": 4,
   "metadata": {},
   "outputs": [
    {
     "name": "stdout",
     "output_type": "stream",
     "text": [
      "['amore.json', 'drjart.json', 'etudehouse.json', 'isoi.json', 'larocheposay.json', 'thebodyshop.json', 'thesaem.json']\n"
     ]
    }
   ],
   "source": [
    "mydir = 'C:/Users/dongm/COSMOCHAIN/Data/Product/'\n",
    "dir_output = 'C:/Users/dongm/COSMOCHAIN/Data/'\n",
    "\n",
    "jsonFileNameList = getJsonFileNameList(mydir)\n",
    "print(jsonFileNameList)"
   ]
  },
  {
   "cell_type": "code",
   "execution_count": 5,
   "metadata": {},
   "outputs": [
    {
     "name": "stdout",
     "output_type": "stream",
     "text": [
      "amore.json\n",
      "drjart.json\n",
      "etudehouse.json\n",
      "isoi.json\n",
      "larocheposay.json\n",
      "thebodyshop.json\n",
      "thesaem.json\n"
     ]
    }
   ],
   "source": [
    "dflist=[]\n",
    "for jsonFile in jsonFileNameList:\n",
    "    print(jsonFile)\n",
    "    dflist.append(json2dataframe(mydir,jsonFile))\n",
    "    \n",
    "    "
   ]
  },
  {
   "cell_type": "code",
   "execution_count": 6,
   "metadata": {},
   "outputs": [
    {
     "data": {
      "text/plain": [
       "Index(['beforeOnlineSalePrice', 'brandName', 'category', 'colorname',\n",
       "       'finalOnlinePrice', 'image', 'mainName', 'prodId', 'rootCategory',\n",
       "       'subCategory', 'subName', 'url', 'volume'],\n",
       "      dtype='object')"
      ]
     },
     "metadata": {},
     "output_type": "display_data"
    }
   ],
   "source": [
    "amore = dflist[0]\n",
    "display(amore.columns)"
   ]
  },
  {
   "cell_type": "markdown",
   "metadata": {},
   "source": [
    "## colName_standard & colName_brand"
   ]
  },
  {
   "cell_type": "code",
   "execution_count": 7,
   "metadata": {},
   "outputs": [],
   "source": [
    "colName_standard = [\n",
    "    'brand',\n",
    "    'name',\n",
    "    'color',\n",
    "    'volume',\n",
    "    'type',\n",
    "    'category',\n",
    "    'image',\n",
    "    'originalPrice',\n",
    "    'url',\n",
    "    'salePrice',\n",
    "    'id',\n",
    "    'limited',\n",
    "    'originalName',\n",
    "    'notes'\n",
    "]"
   ]
  },
  {
   "cell_type": "code",
   "execution_count": 8,
   "metadata": {},
   "outputs": [],
   "source": [
    "colName_set = [\n",
    "    'brand',\n",
    "    'name',\n",
    "    'color',\n",
    "    'category',\n",
    "    'image',\n",
    "    'originalPrice',\n",
    "    'url',\n",
    "    'composition',\n",
    "    'salePrice',\n",
    "    'id',\n",
    "    'limited',\n",
    "    'originalName',\n",
    "    'notes'\n",
    "]"
   ]
  },
  {
   "cell_type": "code",
   "execution_count": 9,
   "metadata": {},
   "outputs": [],
   "source": [
    "colName_amore = {\n",
    "    'beforeOnlineSalePrice':'originalPrice', \n",
    "    'brandName':'brand', \n",
    "    'category':'category', \n",
    "    'colorname':'color',\n",
    "    'finalOnlinePrice':'salePrice',\n",
    "    'image':'image',\n",
    "    'mainName':'name',\n",
    "    'prodId':'id',\n",
    "    'rootCategory':'#',\n",
    "    'subCategory':'#',\n",
    "    'subName':'originalName',\n",
    "    'url':'url',\n",
    "    'volume':'volume'\n",
    "}"
   ]
  },
  {
   "cell_type": "code",
   "execution_count": 10,
   "metadata": {},
   "outputs": [
    {
     "data": {
      "text/plain": [
       "15"
      ]
     },
     "execution_count": 10,
     "metadata": {},
     "output_type": "execute_result"
    }
   ],
   "source": [
    "colName_drjart = {\n",
    "'brand':'brand',\n",
    "'category':'category',\n",
    "'companyOfManufacturer':'#',\n",
    "'countryOfManufacturer':'#',\n",
    "'expirationDate':'#',\n",
    "'id':'id',\n",
    "'image':'image',\n",
    "'ingredient':'#',\n",
    "'name':'name',\n",
    "'originalPrice':'originalPrice',\n",
    "'salePrice':'salePrice',\n",
    "'specifications':'#',\n",
    "'url':'url',\n",
    "'functionalCosmetics':'#',\n",
    "'volume':'volume'\n",
    "}\n",
    "len(colName_drjart)"
   ]
  },
  {
   "cell_type": "code",
   "execution_count": 11,
   "metadata": {},
   "outputs": [
    {
     "data": {
      "text/plain": [
       "11"
      ]
     },
     "execution_count": 11,
     "metadata": {},
     "output_type": "execute_result"
    }
   ],
   "source": [
    "colName_etudehouse = {\n",
    "'beforeOnlineSalePrice':'originalPrice',\n",
    "'brandName':'brand',\n",
    "'category':'category',\n",
    "'colorname':'color',\n",
    "'finalOnlinePrice':'salePrice',\n",
    "'id':'id',\n",
    "'url':'url',\n",
    "'image':'image',\n",
    "'mainName':'name',\n",
    "'subName':'#',\n",
    "'volume':'volume'\n",
    "}\n",
    "len(colName_etudehouse)"
   ]
  },
  {
   "cell_type": "code",
   "execution_count": 12,
   "metadata": {},
   "outputs": [
    {
     "data": {
      "text/plain": [
       "9"
      ]
     },
     "execution_count": 12,
     "metadata": {},
     "output_type": "execute_result"
    }
   ],
   "source": [
    "colName_isoi = {\n",
    "'brand':'brand',\n",
    "'name':'name',\n",
    "'category':'category',\n",
    "'image':'image',\n",
    "'originalPrice':'originalPrice',\n",
    "'salePrice':'salePrice',\n",
    "'color':'color',\n",
    "'id':'id',\n",
    "'url':'url'\n",
    "    \n",
    "}\n",
    "len(colName_isoi)"
   ]
  },
  {
   "cell_type": "code",
   "execution_count": 13,
   "metadata": {},
   "outputs": [
    {
     "data": {
      "text/plain": [
       "8"
      ]
     },
     "execution_count": 13,
     "metadata": {},
     "output_type": "execute_result"
    }
   ],
   "source": [
    "colName_larocheposay = {\n",
    "'id':'id',\n",
    "'name':'name',\n",
    "'image':'image',\n",
    "'category':'category',\n",
    "'volume':'volume',\n",
    "'originalPrice':'originalPrice',\n",
    "'salePrice':'salePrice',\n",
    "'brand':'brand'\n",
    "}\n",
    "len(colName_larocheposay)"
   ]
  },
  {
   "cell_type": "code",
   "execution_count": 14,
   "metadata": {},
   "outputs": [
    {
     "data": {
      "text/plain": [
       "8"
      ]
     },
     "execution_count": 14,
     "metadata": {},
     "output_type": "execute_result"
    }
   ],
   "source": [
    "colName_thebodyshop = {\n",
    "'brand':'brand',\n",
    "'id':'id',\n",
    "'name':'name',\n",
    "'category':'category',\n",
    "'image':'image',\n",
    "'originalPrice':'originalPrice',\n",
    "'salePrice':'salePrice',\n",
    "'url':'url'\n",
    "}\n",
    "len(colName_thebodyshop)"
   ]
  },
  {
   "cell_type": "code",
   "execution_count": 15,
   "metadata": {},
   "outputs": [
    {
     "data": {
      "text/plain": [
       "9"
      ]
     },
     "execution_count": 15,
     "metadata": {},
     "output_type": "execute_result"
    }
   ],
   "source": [
    "colName_thesaem = {\n",
    "'brand':'brand',\n",
    "'category':'category',\n",
    "'id':'id',\n",
    "'image':'image',\n",
    "'name':'name',\n",
    "'originalPrice':'originalPrice',\n",
    "'salePrice':'salePrice',\n",
    "'url':'url',\n",
    "'volume':'volume'\n",
    "}\n",
    "len(colName_thesaem)"
   ]
  },
  {
   "cell_type": "code",
   "execution_count": 16,
   "metadata": {},
   "outputs": [],
   "source": [
    "colNameList = [\n",
    "    colName_amore,\n",
    "    colName_drjart, \n",
    "    colName_etudehouse, \n",
    "    colName_isoi, \n",
    "    colName_larocheposay, \n",
    "    colName_thebodyshop, \n",
    "    colName_thesaem\n",
    "]"
   ]
  },
  {
   "cell_type": "markdown",
   "metadata": {},
   "source": [
    "# matching column name"
   ]
  },
  {
   "cell_type": "code",
   "execution_count": 17,
   "metadata": {},
   "outputs": [
    {
     "name": "stdout",
     "output_type": "stream",
     "text": [
      "['amore.json', 'drjart.json', 'etudehouse.json', 'isoi.json', 'larocheposay.json', 'thebodyshop.json', 'thesaem.json']\n"
     ]
    }
   ],
   "source": [
    "print(jsonFileNameList) # ['drjart.json', 'etudehouse.json', 'isoi.json', 'larocheposay.json', 'thebodyshop.json', 'thesaem.json']"
   ]
  },
  {
   "cell_type": "code",
   "execution_count": 18,
   "metadata": {},
   "outputs": [],
   "source": [
    "def setStandardColName(df, col):\n",
    "    df.rename(columns = col, inplace=True)\n",
    "    col_set = set(df.columns)\n",
    "    try:\n",
    "        col_set.remove('#')\n",
    "    except:\n",
    "        pass\n",
    "    df = df[list(col_set)]\n",
    "    return df"
   ]
  },
  {
   "cell_type": "code",
   "execution_count": 19,
   "metadata": {},
   "outputs": [
    {
     "data": {
      "text/html": [
       "<div>\n",
       "<style scoped>\n",
       "    .dataframe tbody tr th:only-of-type {\n",
       "        vertical-align: middle;\n",
       "    }\n",
       "\n",
       "    .dataframe tbody tr th {\n",
       "        vertical-align: top;\n",
       "    }\n",
       "\n",
       "    .dataframe thead th {\n",
       "        text-align: right;\n",
       "    }\n",
       "</style>\n",
       "<table border=\"1\" class=\"dataframe\">\n",
       "  <thead>\n",
       "    <tr style=\"text-align: right;\">\n",
       "      <th></th>\n",
       "      <th>brand</th>\n",
       "      <th>name</th>\n",
       "      <th>color</th>\n",
       "      <th>volume</th>\n",
       "      <th>type</th>\n",
       "      <th>category</th>\n",
       "      <th>image</th>\n",
       "      <th>originalPrice</th>\n",
       "      <th>url</th>\n",
       "      <th>salePrice</th>\n",
       "      <th>id</th>\n",
       "      <th>limited</th>\n",
       "      <th>originalName</th>\n",
       "      <th>notes</th>\n",
       "    </tr>\n",
       "  </thead>\n",
       "  <tbody>\n",
       "  </tbody>\n",
       "</table>\n",
       "</div>"
      ],
      "text/plain": [
       "Empty DataFrame\n",
       "Columns: [brand, name, color, volume, type, category, image, originalPrice, url, salePrice, id, limited, originalName, notes]\n",
       "Index: []"
      ]
     },
     "execution_count": 19,
     "metadata": {},
     "output_type": "execute_result"
    }
   ],
   "source": [
    "new_df = pd.DataFrame(columns = colName_standard)\n",
    "new_df"
   ]
  },
  {
   "cell_type": "code",
   "execution_count": 20,
   "metadata": {},
   "outputs": [],
   "source": [
    "for i, df in enumerate(dflist):\n",
    "    df = setStandardColName(df, colNameList[i])\n",
    "    new_df=new_df.append(df, ignore_index=True, sort=True)"
   ]
  },
  {
   "cell_type": "code",
   "execution_count": 21,
   "metadata": {},
   "outputs": [
    {
     "data": {
      "text/plain": [
       "{'drjart',\n",
       " 'isoi',\n",
       " 'larocheposay',\n",
       " 'thebodyshop',\n",
       " 'thesaem',\n",
       " '가온도담',\n",
       " '댄트롤',\n",
       " '디어, 클레어스',\n",
       " '라네즈',\n",
       " '려',\n",
       " '리리코스',\n",
       " '리리코스 마린에너지',\n",
       " '마몽드',\n",
       " '머지',\n",
       " '메디안',\n",
       " '미쟝센',\n",
       " '베리떼',\n",
       " '설화수',\n",
       " '스테디',\n",
       " '아닉구딸',\n",
       " '아모레퍼시픽',\n",
       " '아웃런',\n",
       " '아윤채',\n",
       " '아이오페',\n",
       " '에뛰드 하우스',\n",
       " '에스트라',\n",
       " '오딧세이',\n",
       " '일리윤',\n",
       " '프라도어',\n",
       " '프레시팝',\n",
       " '프리메라',\n",
       " '플레시아',\n",
       " '한율',\n",
       " '해피바스',\n",
       " '헤라'}"
      ]
     },
     "execution_count": 21,
     "metadata": {},
     "output_type": "execute_result"
    }
   ],
   "source": [
    "set(new_df['brand'])    "
   ]
  },
  {
   "cell_type": "markdown",
   "metadata": {},
   "source": [
    "# 수기 작성한 상품 데이터"
   ]
  },
  {
   "cell_type": "code",
   "execution_count": 22,
   "metadata": {},
   "outputs": [],
   "source": [
    "new_df_backup = new_df.copy()"
   ]
  },
  {
   "cell_type": "code",
   "execution_count": 23,
   "metadata": {},
   "outputs": [],
   "source": [
    "# filename = '상품DB.xlsx'\n",
    "filename = '상품DB.xlsx'"
   ]
  },
  {
   "cell_type": "markdown",
   "metadata": {},
   "source": [
    "# 일반 상품"
   ]
  },
  {
   "cell_type": "code",
   "execution_count": 24,
   "metadata": {},
   "outputs": [
    {
     "name": "stdout",
     "output_type": "stream",
     "text": [
      "2번 sheet 완료\n",
      "6번 sheet 완료\n",
      "8번 sheet 완료\n",
      "10번 sheet 완료\n"
     ]
    }
   ],
   "source": [
    "for sheetnumber in [2,6,8,10]:\n",
    "    product = pd.read_excel(mydir + filename,sheet_name=sheetnumber, encoding='UTF-8')\n",
    "    product.columns = colName_standard\n",
    "    new_df = new_df.append(product, ignore_index=True, sort=True)\n",
    "    print(str(sheetnumber)+'번 sheet 완료')\n",
    "    \n",
    "\n",
    "new_df = new_df.reset_index(drop=True)"
   ]
  },
  {
   "cell_type": "markdown",
   "metadata": {},
   "source": [
    "# 세트 상품"
   ]
  },
  {
   "cell_type": "code",
   "execution_count": 25,
   "metadata": {},
   "outputs": [
    {
     "name": "stdout",
     "output_type": "stream",
     "text": [
      "5번 sheet 완료\n",
      "7번 sheet 완료\n",
      "9번 sheet 완료\n",
      "11번 sheet 완료\n"
     ]
    }
   ],
   "source": [
    "set_df = pd.DataFrame(columns = colName_set)\n",
    "for sheetnumber in [5,7,9,11]:\n",
    "    product = pd.read_excel(mydir + filename,sheet_name=sheetnumber, encoding='UTF-8')\n",
    "    product.columns = colName_set\n",
    "    set_df = set_df.append(product, ignore_index=True, sort=True)\n",
    "    print(str(sheetnumber)+'번 sheet 완료')\n",
    "    \n",
    "\n",
    "set_df = set_df.reset_index(drop=True)"
   ]
  },
  {
   "cell_type": "code",
   "execution_count": 26,
   "metadata": {},
   "outputs": [],
   "source": [
    "# outputname = dir_output+'output_total.xlsx'\n",
    "writer = pd.ExcelWriter(r'crawling_product.xlsx', engine='xlsxwriter',options={'strings_to_urls': False})\n",
    "new_df.to_excel(writer, sheet_name='Sheet1')\n",
    "set_df.to_excel(writer, sheet_name='Sheet2')\n",
    "writer.close()"
   ]
  }
 ],
 "metadata": {
  "kernelspec": {
   "display_name": "Python 3",
   "language": "python",
   "name": "python3"
  },
  "language_info": {
   "codemirror_mode": {
    "name": "ipython",
    "version": 3
   },
   "file_extension": ".py",
   "mimetype": "text/x-python",
   "name": "python",
   "nbconvert_exporter": "python",
   "pygments_lexer": "ipython3",
   "version": "3.7.0"
  }
 },
 "nbformat": 4,
 "nbformat_minor": 2
}
