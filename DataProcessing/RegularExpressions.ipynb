{
 "cells": [
  {
   "cell_type": "markdown",
   "metadata": {},
   "source": [
    "# 정규식"
   ]
  },
  {
   "cell_type": "code",
   "execution_count": 1,
   "metadata": {},
   "outputs": [],
   "source": [
    "#find_all( )과 find( )를 사용할 때 정규식을 사용하면 좀 더 활용도가 높아집니다\n",
    "\n",
    "from bs4 import BeautifulSoup as bs\n",
    "import re"
   ]
  },
  {
   "cell_type": "code",
   "execution_count": 2,
   "metadata": {},
   "outputs": [],
   "source": [
    "test_str = \"test tlsd j test1\"\n",
    "\n",
    "pattern = re.compile('test')\n",
    "\n",
    "a = pattern.match(test_str)\n",
    "b = pattern.search(test_str)\n",
    "c = pattern.findall(test_str)\n",
    "d = pattern.finditer(test_str)"
   ]
  },
  {
   "cell_type": "code",
   "execution_count": 3,
   "metadata": {},
   "outputs": [
    {
     "name": "stdout",
     "output_type": "stream",
     "text": [
      "--match result--\n",
      "<re.Match object; span=(0, 4), match='test'>\n",
      "test <built-in method start of re.Match object at 0x000001F950978E68> 4 (0, 4)\n",
      "\n",
      "--search result--\n",
      "<re.Match object; span=(0, 4), match='test'>\n",
      "test <built-in method start of re.Match object at 0x000001F950978F38> 4 (0, 4)\n",
      "\n",
      "--findall result--\n",
      "['test', 'test']\n",
      "\n",
      "--finditer result--\n",
      "<callable_iterator object at 0x000001F9509D6588>\n",
      "test <built-in method start of re.Match object at 0x000001F9509DF030> 4 (0, 4)\n",
      "test <built-in method start of re.Match object at 0x000001F9509DF098> 16 (12, 16)\n"
     ]
    }
   ],
   "source": [
    "print('--match result--') #처음 시작부터 정규식과 일치해야 match가 이루어지며 정규식과 다르면 에러가 난다 \n",
    "print(a)\n",
    "print(a.group(),a.start, a.end(),a.span())\n",
    "print()\n",
    "\n",
    "print('--search result--') # 문자열에서 일치하는 정규식을 하나 찾아준다\n",
    "print(b)\n",
    "print(b.group(),b.start, b.end(),b.span())\n",
    "print()\n",
    "\n",
    "print('--findall result--') #정규식과 매치되는 모든 문자열을 리스트로 반환한다\n",
    "print(c)\n",
    "print()\n",
    "\n",
    "print('--finditer result--') #정규식과 매치되는 모든 문자열을 iterable 객체로 반환하기에 반복문을 이용해야 한다\n",
    "print(d)\n",
    "for i in d:\n",
    "    print(i.group(),i.start, i.end(),i.span())"
   ]
  },
  {
   "cell_type": "code",
   "execution_count": 3,
   "metadata": {},
   "outputs": [
    {
     "name": "stdout",
     "output_type": "stream",
     "text": [
      "<re.Match object; span=(0, 14), match='GrowthHackers3'>\n",
      "<re.Match object; span=(0, 14), match='GrowthHackers3'>\n",
      "None\n"
     ]
    },
    {
     "data": {
      "text/plain": [
       "['GrowthHackers3', 'GrowthHacker4']"
      ]
     },
     "execution_count": 3,
     "metadata": {},
     "output_type": "execute_result"
    }
   ],
   "source": [
    "p = re.compile(\"Grow[a-zA-Z]*[0-9]+\")\n",
    "\n",
    "print(p.match(\"GrowthHackers3\"))\n",
    "print(p.search(\"GrowthHackers3\"))\n",
    "print(p.match(\"GrowthHackers\"))\n",
    "\n",
    "p.findall(\"GrowthHackers GrowthHackers3 GrowthHacker4\")\n"
   ]
  },
  {
   "cell_type": "code",
   "execution_count": 4,
   "metadata": {},
   "outputs": [
    {
     "name": "stdout",
     "output_type": "stream",
     "text": [
      "['o', 'o', 'd', 'a', 'f', 't', 'e', 'r', 'n', 'o', 'o', 'n']\n",
      "['ood', 'afternoon']\n",
      "['Good', '', 'afternoon', '', '', '', '', '']\n",
      "['G', 'o', 'o', 'd', 'a', 'f', 't', 'e', 'r', 'n', 'o', 'o', 'n', '2', '2', '2']\n",
      "['Good', 'afternoon', '222']\n",
      "['G', ' ', ' 222']\n"
     ]
    }
   ],
   "source": [
    "\n",
    "test_str= \"\"\"Good afternoon 222\"\"\"\n",
    "\n",
    "pattern = re.compile('[a-z]')\n",
    "pattern1 = re.compile('[a-z]+')\n",
    "pattern2 = re.compile('[a-zA-Z]*')\n",
    "pattern3 = re.compile('[a-zA-Z0-9]')\n",
    "pattern4 = re.compile('\\w+')\n",
    "pattern5 = re.compile('[^a-z]+')\n",
    "\n",
    "a = pattern.findall(test_str)\n",
    "b = pattern1.findall(test_str)\n",
    "c = pattern2.findall(test_str)\n",
    "d = pattern3.findall(test_str)\n",
    "e = pattern4.findall(test_str)\n",
    "f = pattern5.findall(test_str)\n",
    "\n",
    "print(a)\n",
    "print(b)\n",
    "print(c)\n",
    "print(d)\n",
    "print(e)\n",
    "print(f)"
   ]
  },
  {
   "cell_type": "code",
   "execution_count": 5,
   "metadata": {},
   "outputs": [
    {
     "name": "stdout",
     "output_type": "stream",
     "text": [
      "['010-6354-0802']\n",
      "['010-6354-0802']\n",
      "['010-6354-0802']\n"
     ]
    }
   ],
   "source": [
    "\n",
    "test_num = \"저의 전화번호는 010-6354-0802 입니다\"\n",
    "\n",
    "pattern = re.compile('[0-9][0-9][0-9]-[0-9][0-9][0-9][0-9]-[0-9][0-9][0-9][0-9]')\n",
    "pattern1 = re.compile('\\d\\d\\d-\\d\\d\\d\\d-\\d\\d\\d\\d')\n",
    "pattern2 = re.compile('\\d{3}-\\d{4}-\\d{4}')\n",
    "\n",
    "a = pattern.findall(test_num)\n",
    "b = pattern1.findall(test_num)\n",
    "c = pattern2.findall(test_num)\n",
    "\n",
    "print(a)\n",
    "print(b)\n",
    "print(c)"
   ]
  },
  {
   "cell_type": "code",
   "execution_count": 6,
   "metadata": {},
   "outputs": [
    {
     "name": "stdout",
     "output_type": "stream",
     "text": [
      "['test', 'test']\n",
      "['toast', 'toast']\n",
      "['tests']\n",
      "['test', 'tests']\n"
     ]
    }
   ],
   "source": [
    "\n",
    "\n",
    "test_str = \"\"\"test tests toast toasts\"\"\"\n",
    "\n",
    "pattern = re.compile('t..t')\n",
    "pattern1 = re.compile('t...t')\n",
    "pattern2 = re.compile('t?est\\w+')\n",
    "pattern3 = re.compile('t?est\\w*')\n",
    "\n",
    "a = pattern.findall(test_str)\n",
    "b = pattern1.findall(test_str)\n",
    "c = pattern2.findall(test_str)\n",
    "d = pattern3.findall(test_str)\n",
    "\n",
    "print(a)\n",
    "print(b)\n",
    "print(c)\n",
    "print(d)"
   ]
  }
 ],
 "metadata": {
  "kernelspec": {
   "display_name": "Python 3",
   "language": "python",
   "name": "python3"
  },
  "language_info": {
   "codemirror_mode": {
    "name": "ipython",
    "version": 3
   },
   "file_extension": ".py",
   "mimetype": "text/x-python",
   "name": "python",
   "nbconvert_exporter": "python",
   "pygments_lexer": "ipython3",
   "version": "3.7.0"
  }
 },
 "nbformat": 4,
 "nbformat_minor": 2
}
