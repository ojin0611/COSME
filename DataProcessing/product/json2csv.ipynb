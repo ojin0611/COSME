{
 "cells": [
  {
   "cell_type": "code",
   "execution_count": 1,
   "metadata": {},
   "outputs": [],
   "source": [
    "import csv, json, sys\n",
    "import os\n"
   ]
  },
  {
   "cell_type": "code",
   "execution_count": 2,
   "metadata": {},
   "outputs": [],
   "source": [
    "def getJsonFileNameList(mydir):\n",
    "\n",
    "    fileNameList =os.listdir(mydir)\n",
    "    jsonFileNameList=[]\n",
    "    for file in fileNameList:\n",
    "        if file[-4:] == 'json':\n",
    "            jsonFileNameList.append(file)\n",
    "        \n",
    "    return jsonFileNameList"
   ]
  },
  {
   "cell_type": "code",
   "execution_count": 3,
   "metadata": {},
   "outputs": [
    {
     "data": {
      "text/plain": [
       "['aprilskin.json',\n",
       " 'bbia.json',\n",
       " 'bourjois.json',\n",
       " 'clio.json',\n",
       " 'eglips.json',\n",
       " 'giverny.json',\n",
       " 'innisfree.json',\n",
       " 'lunasol.json',\n",
       " 'lush.json',\n",
       " 'mediheal.json',\n",
       " 'naturerepublic.json',\n",
       " 'skinfood.json',\n",
       " 'sonandpark.json',\n",
       " 'thefaceshop.json',\n",
       " 'toocoolforschool.json',\n",
       " 'woodbury.json']"
      ]
     },
     "execution_count": 3,
     "metadata": {},
     "output_type": "execute_result"
    }
   ],
   "source": [
    "dir_products = 'C:/Users/dongm/COSMOCHAIN/Code/DataTeam/DataProcessing/product/crawling/'\n",
    "jsonFileList = getJsonFileNameList(dir_products)\n",
    "jsonFileList"
   ]
  },
  {
   "cell_type": "code",
   "execution_count": 4,
   "metadata": {},
   "outputs": [
    {
     "name": "stdout",
     "output_type": "stream",
     "text": [
      "json to csv change!\n"
     ]
    }
   ],
   "source": [
    "for jsonFile in jsonFileList:\n",
    "    fileInput = jsonFile\n",
    "    fileOutput = jsonFile[:-4]+'csv'\n",
    "    inputFile = open(dir_products + fileInput,encoding='UTF-8') #open json file\n",
    "    data = json.load(inputFile) #load json content\n",
    "    inputFile.close() #close the input file\n",
    "    \n",
    "    with open(dir_products + fileOutput, 'w',encoding='UTF-8') as outputFile:#load csv file\n",
    "        output = csv.writer(outputFile,lineterminator='\\n') #create a csv.write\n",
    "        output.writerow(data[3].keys())  # header row\n",
    "        for row in data:\n",
    "            output.writerow(row.values()) #values row\n",
    "        \n",
    "print('json to csv change!')"
   ]
  },
  {
   "cell_type": "code",
   "execution_count": null,
   "metadata": {},
   "outputs": [],
   "source": []
  }
 ],
 "metadata": {
  "kernelspec": {
   "display_name": "Python 3",
   "language": "python",
   "name": "python3"
  },
  "language_info": {
   "codemirror_mode": {
    "name": "ipython",
    "version": 3
   },
   "file_extension": ".py",
   "mimetype": "text/x-python",
   "name": "python",
   "nbconvert_exporter": "python",
   "pygments_lexer": "ipython3",
   "version": "3.7.0"
  }
 },
 "nbformat": 4,
 "nbformat_minor": 2
}
