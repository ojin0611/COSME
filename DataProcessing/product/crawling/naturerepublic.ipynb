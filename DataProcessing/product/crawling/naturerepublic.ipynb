{
 "cells": [
  {
   "cell_type": "markdown",
   "metadata": {},
   "source": [
    "# naturerepublic"
   ]
  },
  {
   "cell_type": "code",
   "execution_count": 1,
   "metadata": {},
   "outputs": [],
   "source": [
    "from bs4 import BeautifulSoup as bs              # 데이터파싱 라이브러리\n",
    "from selenium import webdriver\n",
    "import json\n",
    "import platform\n",
    "import re\n",
    "import time\n",
    "import copy\n",
    "from selenium.webdriver.support.ui import WebDriverWait"
   ]
  },
  {
   "cell_type": "code",
   "execution_count": 2,
   "metadata": {},
   "outputs": [],
   "source": [
    "def getNumber(string):\n",
    "    numExtracter = re.compile('[0-9]+')\n",
    "    return int(''.join(numExtracter.findall(string)))\n",
    "    "
   ]
  },
  {
   "cell_type": "code",
   "execution_count": 3,
   "metadata": {},
   "outputs": [],
   "source": [
    "def getCategoryList(url_products):\n",
    "    driver.get(url_products)\n",
    "    html = driver.page_source\n",
    "    soup = bs(html,'html.parser')\n",
    "    categories = soup.find('ul',{'class':'tab_category'})\n",
    "    categoryList = []\n",
    "    for category in categories:\n",
    "        try:\n",
    "            categoryList.append(url_home + category.li.a['href'])\n",
    "        except:\n",
    "            pass\n",
    "\n",
    "    return categoryList"
   ]
  },
  {
   "cell_type": "code",
   "execution_count": 4,
   "metadata": {},
   "outputs": [],
   "source": [
    "def clickSeeMoreButton():\n",
    "    while True:\n",
    "        try:\n",
    "            seeMoreButton = driver.find_element_by_class_name('btn_more')            \n",
    "            seeMoreButton.click()\n",
    "            time.sleep(3)\n",
    "            \n",
    "        except:\n",
    "            break"
   ]
  },
  {
   "cell_type": "code",
   "execution_count": 5,
   "metadata": {},
   "outputs": [],
   "source": [
    "def getItemList():\n",
    "    html = driver.page_source\n",
    "    soup = bs(html,'html.parser')\n",
    "    items = soup.find('ul',{'product_list contents_list'})\n",
    "    itemList = []\n",
    "    for i, item in enumerate(items):\n",
    "        try:\n",
    "            itemList.append(url_home + item.a['href'])\n",
    "        except:\n",
    "            pass\n",
    "    return itemList"
   ]
  },
  {
   "cell_type": "code",
   "execution_count": 13,
   "metadata": {},
   "outputs": [],
   "source": [
    "def getItem():\n",
    "    \n",
    "    html = driver.page_source\n",
    "    soup = bs(html, 'html.parser')\n",
    "\n",
    "    name = soup.find('div',{'class':'sub_tit_wrap tit_pro_view'}).h2.get_text().strip()\n",
    "\n",
    "    imageList = soup.find('div',{'class':'thumb_img'})\n",
    "    images = [image['rel'] for image in imageList.ul.find_all('img')]\n",
    "\n",
    "    categoryTexts = soup.find('div',{'class':'line-nav'}).find_all('a')\n",
    "    category = ''\n",
    "    for categoryText in categoryTexts:\n",
    "        category += categoryText.get_text()+' > '\n",
    "    category = category[:-3]\n",
    "\n",
    "    volume = soup.find('dl',{'class':'volume'}).dd.get_text().strip()\n",
    "\n",
    "    price = soup.find('dl',{'class':'wrap-price-area money'}).find_all('dd')\n",
    "    originalPrice = getNumber(price[0].get_text())\n",
    "    if len(price)>1:\n",
    "        salePrice = getNumber(price[1].get_text())\n",
    "    else:\n",
    "        salePrice = originalPrice\n",
    "\n",
    "    brand = '네이처리퍼블릭'\n",
    "\n",
    "    url = driver.current_url\n",
    "\n",
    "\n",
    "    item={}\n",
    "    item['name']=name\n",
    "    item['image']=images\n",
    "    item['category']=category\n",
    "    item['volume']=volume\n",
    "    item['originalPrice']=originalPrice\n",
    "    item['salePrice']=salePrice\n",
    "    item['brand']=brand\n",
    "    item['url']=url\n",
    "\n",
    "    items = []\n",
    "    colors = soup.find('ul',{'class':'txt_img'})\n",
    "    if colors:\n",
    "        colors = [color.get_text().strip() for color in colors.find_all('li')]\n",
    "        for color in colors:\n",
    "            item_copy = copy.deepcopy(item)\n",
    "            item_copy['color'] = color\n",
    "            items.append(item_copy)\n",
    "    else:\n",
    "        items.append(item)\n",
    "    display(items)\n",
    "    return items"
   ]
  },
  {
   "cell_type": "code",
   "execution_count": 14,
   "metadata": {},
   "outputs": [],
   "source": [
    "def writeJSON(jsonString, output_name='data.json'):\n",
    "    with open(output_name,'w',encoding='UTF-8') as file:\n",
    "        file.write(jsonString)\n"
   ]
  },
  {
   "cell_type": "code",
   "execution_count": 15,
   "metadata": {},
   "outputs": [],
   "source": [
    "path = 'chromedriver.exe' if (platform.system() == 'Windows') else '/Users/jg/Desktop/develop/DataTeam/DataProcessing/product/crawling/chromedriver';\n",
    "driver = webdriver.Chrome(path)\n",
    "\n",
    "url_home = 'https://www.naturerepublic.com'\n",
    "url_products = 'https://www.naturerepublic.com/shop/goods_list.php?cid=000000000000000&depth=0'\n",
    "driver.get(url_products)"
   ]
  },
  {
   "cell_type": "code",
   "execution_count": 16,
   "metadata": {},
   "outputs": [
    {
     "name": "stdout",
     "output_type": "stream",
     "text": [
      "상품 개수: 스킨케어\n",
      "전체\n",
      "총 127개\n"
     ]
    },
    {
     "data": {
      "text/plain": [
       "[{'name': '*행사* 히아 인텐스 로즈 앰플 세럼(+마스크 5매 증정)',\n",
       "  'image': ['http://lfyaklyqypvr852590.gcdn.ntruss.com/data/nature_data/images/product/00/00/01/21/17/b_0000012117.gif',\n",
       "   'http://lfyaklyqypvr852590.gcdn.ntruss.com/data/nature_data/images/addimg/00/00/01/21/17/b_00030030_add.gif',\n",
       "   'http://lfyaklyqypvr852590.gcdn.ntruss.com/data/nature_data/images/addimg/00/00/01/21/17/b_00030031_add.gif'],\n",
       "  'category': 'HOME > 카테고리 > 스킨케어',\n",
       "  'volume': '상세페이지 참조',\n",
       "  'originalPrice': 38000,\n",
       "  'salePrice': 26600,\n",
       "  'brand': '네이처리퍼블릭',\n",
       "  'url': 'https://www.naturerepublic.com/shop/goods_view.php?id=0000012117'}]"
      ]
     },
     "metadata": {},
     "output_type": "display_data"
    },
    {
     "data": {
      "text/plain": [
       "[{'name': '*행사* 히아 인텐스 로즈 크림 기획세트(+마스크 10매 증정)',\n",
       "  'image': ['http://lfyaklyqypvr852590.gcdn.ntruss.com/data/nature_data/images/product/00/00/01/21/16/b_0000012116.gif',\n",
       "   'http://lfyaklyqypvr852590.gcdn.ntruss.com/data/nature_data/images/addimg/00/00/01/21/16/b_00030028_add.gif',\n",
       "   'http://lfyaklyqypvr852590.gcdn.ntruss.com/data/nature_data/images/addimg/00/00/01/21/16/b_00030029_add.gif'],\n",
       "  'category': 'HOME > 카테고리 > 스킨케어',\n",
       "  'volume': '상세페이지 참조',\n",
       "  'originalPrice': 55000,\n",
       "  'salePrice': 55000,\n",
       "  'brand': '네이처리퍼블릭',\n",
       "  'url': 'https://www.naturerepublic.com/shop/goods_view.php?id=0000012116'}]"
      ]
     },
     "metadata": {},
     "output_type": "display_data"
    },
    {
     "data": {
      "text/plain": [
       "[{'name': '더 착한 마음 히알루론산 수분 앰플',\n",
       "  'image': ['http://lfyaklyqypvr852590.gcdn.ntruss.com/data/nature_data/images/product/00/00/01/21/02/b_0000012102.gif'],\n",
       "  'category': 'HOME > 카테고리 > 스킨케어',\n",
       "  'volume': '더 착한 마음 히알루론산 수분 앰플\\n50ml',\n",
       "  'originalPrice': 16000,\n",
       "  'salePrice': 11200,\n",
       "  'brand': '네이처리퍼블릭',\n",
       "  'url': 'https://www.naturerepublic.com/shop/goods_view.php?id=0000012102'}]"
      ]
     },
     "metadata": {},
     "output_type": "display_data"
    },
    {
     "data": {
      "text/plain": [
       "[{'name': '더 착한 마음 히알루론산 워터 토너',\n",
       "  'image': ['http://lfyaklyqypvr852590.gcdn.ntruss.com/data/nature_data/images/product/00/00/01/21/01/b_0000012101.gif'],\n",
       "  'category': 'HOME > 카테고리 > 스킨케어',\n",
       "  'volume': '더 착한 마음 히알루론산 워터 토너\\n400ml',\n",
       "  'originalPrice': 18000,\n",
       "  'salePrice': 12600,\n",
       "  'brand': '네이처리퍼블릭',\n",
       "  'url': 'https://www.naturerepublic.com/shop/goods_view.php?id=0000012101'}]"
      ]
     },
     "metadata": {},
     "output_type": "display_data"
    },
    {
     "data": {
      "text/plain": [
       "[{'name': '*행사* 쉐어버터 스팀크림(+추가 구매 시 할인혜택)',\n",
       "  'image': ['http://lfyaklyqypvr852590.gcdn.ntruss.com/data/nature_data/images/product/00/00/01/20/98/b_0000012098.gif',\n",
       "   'http://lfyaklyqypvr852590.gcdn.ntruss.com/data/nature_data/images/addimg/00/00/01/20/98/b_00029993_add.gif',\n",
       "   'http://lfyaklyqypvr852590.gcdn.ntruss.com/data/nature_data/images/addimg/00/00/01/20/98/b_00029994_add.gif',\n",
       "   'http://lfyaklyqypvr852590.gcdn.ntruss.com/data/nature_data/images/addimg/00/00/01/20/98/b_00029995_add.gif',\n",
       "   'http://lfyaklyqypvr852590.gcdn.ntruss.com/data/nature_data/images/addimg/00/00/01/20/98/b_00029996_add.gif',\n",
       "   'http://lfyaklyqypvr852590.gcdn.ntruss.com/data/nature_data/images/addimg/00/00/01/20/98/b_00029997_add.gif',\n",
       "   'http://lfyaklyqypvr852590.gcdn.ntruss.com/data/nature_data/images/addimg/00/00/01/20/98/b_00029998_add.gif'],\n",
       "  'category': 'HOME > 카테고리 > 스킨케어',\n",
       "  'volume': '상세페이지 참조',\n",
       "  'originalPrice': 45900,\n",
       "  'salePrice': 22950,\n",
       "  'brand': '네이처리퍼블릭',\n",
       "  'url': 'https://www.naturerepublic.com/shop/goods_view.php?id=0000012098'}]"
      ]
     },
     "metadata": {},
     "output_type": "display_data"
    },
    {
     "data": {
      "text/plain": [
       "[{'name': '*행사* 그린더마 마일드 크림 (+증정 or 할인혜택)',\n",
       "  'image': ['http://lfyaklyqypvr852590.gcdn.ntruss.com/data/nature_data/images/product/00/00/01/20/23/b_0000012023.gif',\n",
       "   'http://lfyaklyqypvr852590.gcdn.ntruss.com/data/nature_data/images/addimg/00/00/01/20/23/b_00029856_add.gif',\n",
       "   'http://lfyaklyqypvr852590.gcdn.ntruss.com/data/nature_data/images/addimg/00/00/01/20/23/b_00030040_add.gif'],\n",
       "  'category': 'HOME > 카테고리 > 스킨케어',\n",
       "  'volume': '상세페이지 참조',\n",
       "  'originalPrice': 25000,\n",
       "  'salePrice': 25000,\n",
       "  'brand': '네이처리퍼블릭',\n",
       "  'url': 'https://www.naturerepublic.com/shop/goods_view.php?id=0000012023'}]"
      ]
     },
     "metadata": {},
     "output_type": "display_data"
    },
    {
     "data": {
      "text/plain": [
       "[{'name': '진생 로얄 실크 럭셔리 케어 세트',\n",
       "  'image': ['http://lfyaklyqypvr852590.gcdn.ntruss.com/data/nature_data/images/product/00/00/01/19/74/b_0000011974.gif',\n",
       "   'http://lfyaklyqypvr852590.gcdn.ntruss.com/data/nature_data/images/addimg/00/00/01/19/74/b_00029746_add.gif',\n",
       "   'http://lfyaklyqypvr852590.gcdn.ntruss.com/data/nature_data/images/addimg/00/00/01/19/74/b_00029747_add.gif',\n",
       "   'http://lfyaklyqypvr852590.gcdn.ntruss.com/data/nature_data/images/addimg/00/00/01/19/74/b_00029748_add.gif'],\n",
       "  'category': 'HOME > 카테고리 > 스킨케어',\n",
       "  'volume': '진생 로얄 실크 럭셔리 케어 세트\\n크림 60g+앰플 10ml*4',\n",
       "  'originalPrice': 160000,\n",
       "  'salePrice': 128000,\n",
       "  'brand': '네이처리퍼블릭',\n",
       "  'url': 'https://www.naturerepublic.com/shop/goods_view.php?id=0000011974'}]"
      ]
     },
     "metadata": {},
     "output_type": "display_data"
    },
    {
     "data": {
      "text/plain": [
       "[{'name': '허브 블렌딩 에센스&크림 30ml 기획세트',\n",
       "  'image': ['http://lfyaklyqypvr852590.gcdn.ntruss.com/data/nature_data/images/product/00/00/01/19/69/b_0000011969.gif'],\n",
       "  'category': 'HOME > 카테고리 > 스킨케어',\n",
       "  'volume': '허브블렌딩 에센스&크림 30ml 기획세트\\n100ml+30ml',\n",
       "  'originalPrice': 38000,\n",
       "  'salePrice': 26600,\n",
       "  'brand': '네이처리퍼블릭',\n",
       "  'url': 'https://www.naturerepublic.com/shop/goods_view.php?id=0000011969'}]"
      ]
     },
     "metadata": {},
     "output_type": "display_data"
    },
    {
     "data": {
      "text/plain": [
       "[{'name': '진생 로얄 실크 워터리 크림(30mlX3)(+에센스 증정)',\n",
       "  'image': ['http://lfyaklyqypvr852590.gcdn.ntruss.com/data/nature_data/images/product/00/00/01/19/47/b_0000011947.gif',\n",
       "   'http://lfyaklyqypvr852590.gcdn.ntruss.com/data/nature_data/images/addimg/00/00/01/19/47/b_00029709_add.gif'],\n",
       "  'category': 'HOME > 카테고리 > 스킨케어',\n",
       "  'volume': '상세페이지 참조',\n",
       "  'originalPrice': 77000,\n",
       "  'salePrice': 77000,\n",
       "  'brand': '네이처리퍼블릭',\n",
       "  'url': 'https://www.naturerepublic.com/shop/goods_view.php?id=0000011947'}]"
      ]
     },
     "metadata": {},
     "output_type": "display_data"
    },
    {
     "data": {
      "text/plain": [
       "[{'name': '*행사* 진생 로얄 실크 워터리 크림(+에센스 증정)',\n",
       "  'image': ['http://lfyaklyqypvr852590.gcdn.ntruss.com/data/nature_data/images/product/00/00/01/19/36/b_0000011936.gif',\n",
       "   'http://lfyaklyqypvr852590.gcdn.ntruss.com/data/nature_data/images/addimg/00/00/01/19/36/b_00029951_add.gif'],\n",
       "  'category': 'HOME > 카테고리 > 스킨케어',\n",
       "  'volume': '상세페이지 참조',\n",
       "  'originalPrice': 66000,\n",
       "  'salePrice': 66000,\n",
       "  'brand': '네이처리퍼블릭',\n",
       "  'url': 'https://www.naturerepublic.com/shop/goods_view.php?id=0000011936'}]"
      ]
     },
     "metadata": {},
     "output_type": "display_data"
    },
    {
     "data": {
      "text/plain": [
       "[{'name': '하와이안 프레시 클리어 토너 (대용량)',\n",
       "  'image': ['http://lfyaklyqypvr852590.gcdn.ntruss.com/data/nature_data/images/product/00/00/01/06/87/b_0000010687.gif'],\n",
       "  'category': 'HOME > 카테고리 > 스킨케어',\n",
       "  'volume': '500㎖',\n",
       "  'originalPrice': 26000,\n",
       "  'salePrice': 18200,\n",
       "  'brand': '네이처리퍼블릭',\n",
       "  'url': 'https://www.naturerepublic.com/shop/goods_view.php?id=0000010687'}]"
      ]
     },
     "metadata": {},
     "output_type": "display_data"
    },
    {
     "data": {
      "text/plain": [
       "[{'name': '슈퍼 아쿠아 맥스 컴비네이션 수분크림(복합성용) (튜브)',\n",
       "  'image': ['http://lfyaklyqypvr852590.gcdn.ntruss.com/data/nature_data/images/product/00/00/01/02/12/b_0000010212.gif',\n",
       "   'http://lfyaklyqypvr852590.gcdn.ntruss.com/data/nature_data/images/addimg/00/00/01/02/12/b_00028029_add.gif'],\n",
       "  'category': 'HOME > 카테고리 > 스킨케어',\n",
       "  'volume': '150㎖',\n",
       "  'originalPrice': 22000,\n",
       "  'salePrice': 22000,\n",
       "  'brand': '네이처리퍼블릭',\n",
       "  'url': 'https://www.naturerepublic.com/shop/goods_view.php?id=0000010212'}]"
      ]
     },
     "metadata": {},
     "output_type": "display_data"
    },
    {
     "data": {
      "text/plain": [
       "[{'name': '스네일 솔루션 크림',\n",
       "  'image': ['http://lfyaklyqypvr852590.gcdn.ntruss.com/data/nature_data/images/product/00/00/01/07/56/b_0000010756.gif'],\n",
       "  'category': 'HOME > 카테고리 > 스킨케어',\n",
       "  'volume': '55㎖',\n",
       "  'originalPrice': 66000,\n",
       "  'salePrice': 33000,\n",
       "  'brand': '네이처리퍼블릭',\n",
       "  'url': 'https://www.naturerepublic.com/shop/goods_view.php?id=0000010756'}]"
      ]
     },
     "metadata": {},
     "output_type": "display_data"
    },
    {
     "data": {
      "text/plain": [
       "[{'name': '리얼 네이처 로터스 앰플',\n",
       "  'image': ['http://lfyaklyqypvr852590.gcdn.ntruss.com/data/nature_data/images/product/00/00/01/12/70/b_0000011270.gif',\n",
       "   'http://lfyaklyqypvr852590.gcdn.ntruss.com/data/nature_data/images/addimg/00/00/01/12/70/b_00029138_add.gif'],\n",
       "  'category': 'HOME > 카테고리 > 스킨케어',\n",
       "  'volume': '30ml',\n",
       "  'originalPrice': 12500,\n",
       "  'salePrice': 12500,\n",
       "  'brand': '네이처리퍼블릭',\n",
       "  'url': 'https://www.naturerepublic.com/shop/goods_view.php?id=0000011270'}]"
      ]
     },
     "metadata": {},
     "output_type": "display_data"
    },
    {
     "data": {
      "text/plain": [
       "[{'name': '프레시 그린티 70 토너',\n",
       "  'image': ['http://lfyaklyqypvr852590.gcdn.ntruss.com/data/nature_data/images/product/00/00/01/05/03/b_0000010503.gif',\n",
       "   'http://lfyaklyqypvr852590.gcdn.ntruss.com/data/nature_data/images/addimg/00/00/01/05/03/b_00028423_add.gif',\n",
       "   'http://lfyaklyqypvr852590.gcdn.ntruss.com/data/nature_data/images/addimg/00/00/01/05/03/b_00028424_add.gif'],\n",
       "  'category': 'HOME > 카테고리 > 스킨케어',\n",
       "  'volume': '180ml',\n",
       "  'originalPrice': 9900,\n",
       "  'salePrice': 7920,\n",
       "  'brand': '네이처리퍼블릭',\n",
       "  'url': 'https://www.naturerepublic.com/shop/goods_view.php?id=0000010503'}]"
      ]
     },
     "metadata": {},
     "output_type": "display_data"
    },
    {
     "data": {
      "text/plain": [
       "[{'name': '비베놈 토너',\n",
       "  'image': ['http://lfyaklyqypvr852590.gcdn.ntruss.com/data/nature_data/images/product/00/00/01/05/06/b_0000010506.gif',\n",
       "   'http://lfyaklyqypvr852590.gcdn.ntruss.com/data/nature_data/images/addimg/00/00/01/05/06/b_00028433_add.gif',\n",
       "   'http://lfyaklyqypvr852590.gcdn.ntruss.com/data/nature_data/images/addimg/00/00/01/05/06/b_00028434_add.gif'],\n",
       "  'category': 'HOME > 카테고리 > 스킨케어',\n",
       "  'volume': '150ml',\n",
       "  'originalPrice': 12000,\n",
       "  'salePrice': 9600,\n",
       "  'brand': '네이처리퍼블릭',\n",
       "  'url': 'https://www.naturerepublic.com/shop/goods_view.php?id=0000010506'}]"
      ]
     },
     "metadata": {},
     "output_type": "display_data"
    },
    {
     "data": {
      "text/plain": [
       "[{'name': '스네일 솔루션 앰플',\n",
       "  'image': ['http://lfyaklyqypvr852590.gcdn.ntruss.com/data/nature_data/images/product/00/00/01/05/14/b_0000010514.gif',\n",
       "   'http://lfyaklyqypvr852590.gcdn.ntruss.com/data/nature_data/images/addimg/00/00/01/05/14/b_00028439_add.gif'],\n",
       "  'category': 'HOME > 카테고리 > 스킨케어',\n",
       "  'volume': '30ml',\n",
       "  'originalPrice': 30000,\n",
       "  'salePrice': 15000,\n",
       "  'brand': '네이처리퍼블릭',\n",
       "  'url': 'https://www.naturerepublic.com/shop/goods_view.php?id=0000010514'}]"
      ]
     },
     "metadata": {},
     "output_type": "display_data"
    },
    {
     "data": {
      "text/plain": [
       "[{'name': '수딩 앤 모이스처 천년초 92% 수딩 젤 (펌프)',\n",
       "  'image': ['http://lfyaklyqypvr852590.gcdn.ntruss.com/data/nature_data/images/product/00/00/00/87/25/b_0000008725.gif'],\n",
       "  'category': 'HOME > 카테고리 > 스킨케어',\n",
       "  'volume': '400㎖',\n",
       "  'originalPrice': 9500,\n",
       "  'salePrice': 9500,\n",
       "  'brand': '네이처리퍼블릭',\n",
       "  'url': 'https://www.naturerepublic.com/shop/goods_view.php?id=0000008725'}]"
      ]
     },
     "metadata": {},
     "output_type": "display_data"
    },
    {
     "data": {
      "text/plain": [
       "[{'name': 'O2 에너지 옴므 플루이드',\n",
       "  'image': ['http://lfyaklyqypvr852590.gcdn.ntruss.com/data/nature_data/images/product/00/00/01/05/26/b_0000010526.gif',\n",
       "   'http://lfyaklyqypvr852590.gcdn.ntruss.com/data/nature_data/images/addimg/00/00/01/05/26/b_00028454_add.gif'],\n",
       "  'category': 'HOME > 카테고리 > 스킨케어',\n",
       "  'volume': '130ml',\n",
       "  'originalPrice': 13000,\n",
       "  'salePrice': 9100,\n",
       "  'brand': '네이처리퍼블릭',\n",
       "  'url': 'https://www.naturerepublic.com/shop/goods_view.php?id=0000010526'}]"
      ]
     },
     "metadata": {},
     "output_type": "display_data"
    },
    {
     "data": {
      "text/plain": [
       "[{'name': '쉐어버터 스팀크림 모이스트 [중·건성용]',\n",
       "  'image': ['http://lfyaklyqypvr852590.gcdn.ntruss.com/data/nature_data/images/product/00/00/01/05/36/b_0000010536.gif',\n",
       "   'http://lfyaklyqypvr852590.gcdn.ntruss.com/data/nature_data/images/addimg/00/00/01/05/36/b_00028463_add.gif'],\n",
       "  'category': 'HOME > 카테고리 > 스킨케어',\n",
       "  'volume': '100ml',\n",
       "  'originalPrice': 31000,\n",
       "  'salePrice': 15500,\n",
       "  'brand': '네이처리퍼블릭',\n",
       "  'url': 'https://www.naturerepublic.com/shop/goods_view.php?id=0000010536'}]"
      ]
     },
     "metadata": {},
     "output_type": "display_data"
    },
    {
     "data": {
      "text/plain": [
       "[{'name': '쉐어버터 스팀크림 프레시 [지·복합성용]',\n",
       "  'image': ['http://lfyaklyqypvr852590.gcdn.ntruss.com/data/nature_data/images/product/00/00/01/05/53/b_0000010553.gif'],\n",
       "  'category': 'HOME > 카테고리 > 스킨케어',\n",
       "  'volume': '100ml',\n",
       "  'originalPrice': 31000,\n",
       "  'salePrice': 15500,\n",
       "  'brand': '네이처리퍼블릭',\n",
       "  'url': 'https://www.naturerepublic.com/shop/goods_view.php?id=0000010553'}]"
      ]
     },
     "metadata": {},
     "output_type": "display_data"
    },
    {
     "data": {
      "text/plain": [
       "[{'name': '쉐어버터 스팀크림 울트라 [극건성용]',\n",
       "  'image': ['http://lfyaklyqypvr852590.gcdn.ntruss.com/data/nature_data/images/product/00/00/01/05/54/b_0000010554.gif'],\n",
       "  'category': 'HOME > 카테고리 > 스킨케어',\n",
       "  'volume': '100ml',\n",
       "  'originalPrice': 31000,\n",
       "  'salePrice': 15500,\n",
       "  'brand': '네이처리퍼블릭',\n",
       "  'url': 'https://www.naturerepublic.com/shop/goods_view.php?id=0000010554'}]"
      ]
     },
     "metadata": {},
     "output_type": "display_data"
    },
    {
     "data": {
      "text/plain": [
       "[{'name': '스네일 솔루션 에센스',\n",
       "  'image': ['http://lfyaklyqypvr852590.gcdn.ntruss.com/data/nature_data/images/product/00/00/01/05/55/b_0000010555.gif',\n",
       "   'http://lfyaklyqypvr852590.gcdn.ntruss.com/data/nature_data/images/addimg/00/00/01/05/55/b_00028474_add.gif',\n",
       "   'http://lfyaklyqypvr852590.gcdn.ntruss.com/data/nature_data/images/addimg/00/00/01/05/55/b_00028475_add.gif',\n",
       "   'http://lfyaklyqypvr852590.gcdn.ntruss.com/data/nature_data/images/addimg/00/00/01/05/55/b_00028476_add.gif'],\n",
       "  'category': 'HOME > 카테고리 > 스킨케어',\n",
       "  'volume': '40㎖',\n",
       "  'originalPrice': 33000,\n",
       "  'salePrice': 16500,\n",
       "  'brand': '네이처리퍼블릭',\n",
       "  'url': 'https://www.naturerepublic.com/shop/goods_view.php?id=0000010555'}]"
      ]
     },
     "metadata": {},
     "output_type": "display_data"
    },
    {
     "data": {
      "text/plain": [
       "[{'name': '슈퍼 아쿠아 맥스 수분 토너',\n",
       "  'image': ['http://lfyaklyqypvr852590.gcdn.ntruss.com/data/nature_data/images/product/00/00/01/03/00/b_0000010300.gif'],\n",
       "  'category': 'HOME > 카테고리 > 스킨케어',\n",
       "  'volume': '150ml',\n",
       "  'originalPrice': 13900,\n",
       "  'salePrice': 9730,\n",
       "  'brand': '네이처리퍼블릭',\n",
       "  'url': 'https://www.naturerepublic.com/shop/goods_view.php?id=0000010300'}]"
      ]
     },
     "metadata": {},
     "output_type": "display_data"
    },
    {
     "data": {
      "text/plain": [
       "[{'name': '시티 케어 마린 워터 크림',\n",
       "  'image': ['http://lfyaklyqypvr852590.gcdn.ntruss.com/data/nature_data/images/product/00/00/00/85/10/b_0000008510.gif',\n",
       "   'http://lfyaklyqypvr852590.gcdn.ntruss.com/data/nature_data/images/addimg/00/00/00/85/10/b_00026139_add.gif',\n",
       "   'http://lfyaklyqypvr852590.gcdn.ntruss.com/data/nature_data/images/addimg/00/00/00/85/10/b_00026140_add.gif'],\n",
       "  'category': 'HOME > 카테고리 > 스킨케어',\n",
       "  'volume': '50㎖',\n",
       "  'originalPrice': 16900,\n",
       "  'salePrice': 13520,\n",
       "  'brand': '네이처리퍼블릭',\n",
       "  'url': 'https://www.naturerepublic.com/shop/goods_view.php?id=0000008510'}]"
      ]
     },
     "metadata": {},
     "output_type": "display_data"
    },
    {
     "data": {
      "text/plain": [
       "[{'name': '시티케어 마린워터 토너',\n",
       "  'image': ['http://lfyaklyqypvr852590.gcdn.ntruss.com/data/nature_data/images/product/00/00/00/97/97/b_0000009797.gif'],\n",
       "  'category': 'HOME > 카테고리 > 스킨케어',\n",
       "  'volume': '260㎖',\n",
       "  'originalPrice': 14900,\n",
       "  'salePrice': 11920,\n",
       "  'brand': '네이처리퍼블릭',\n",
       "  'url': 'https://www.naturerepublic.com/shop/goods_view.php?id=0000009797'}]"
      ]
     },
     "metadata": {},
     "output_type": "display_data"
    },
    {
     "data": {
      "text/plain": [
       "[{'name': '수딩 앤 모이스처 알로에 베라 92% 수딩 젤 (튜브)',\n",
       "  'image': ['http://lfyaklyqypvr852590.gcdn.ntruss.com/data/nature_data/images/product/00/00/00/98/04/b_0000009804.gif',\n",
       "   'http://lfyaklyqypvr852590.gcdn.ntruss.com/data/nature_data/images/addimg/00/00/00/98/04/b_00027507_add.gif'],\n",
       "  'category': 'HOME > 카테고리 > 스킨케어',\n",
       "  'volume': '250㎖',\n",
       "  'originalPrice': 4900,\n",
       "  'salePrice': 4900,\n",
       "  'brand': '네이처리퍼블릭',\n",
       "  'url': 'https://www.naturerepublic.com/shop/goods_view.php?id=0000009804'}]"
      ]
     },
     "metadata": {},
     "output_type": "display_data"
    },
    {
     "data": {
      "text/plain": [
       "[{'name': '리얼 스퀴즈 알로에베라 크림',\n",
       "  'image': ['http://lfyaklyqypvr852590.gcdn.ntruss.com/data/nature_data/images/product/00/00/01/03/16/b_0000010316.gif',\n",
       "   'http://lfyaklyqypvr852590.gcdn.ntruss.com/data/nature_data/images/addimg/00/00/01/03/16/b_00028156_add.gif',\n",
       "   'http://lfyaklyqypvr852590.gcdn.ntruss.com/data/nature_data/images/addimg/00/00/01/03/16/b_00028157_add.gif',\n",
       "   'http://lfyaklyqypvr852590.gcdn.ntruss.com/data/nature_data/images/addimg/00/00/01/03/16/b_00028158_add.gif'],\n",
       "  'category': 'HOME > 카테고리 > 스킨케어',\n",
       "  'volume': '50ml',\n",
       "  'originalPrice': 16900,\n",
       "  'salePrice': 11830,\n",
       "  'brand': '네이처리퍼블릭',\n",
       "  'url': 'https://www.naturerepublic.com/shop/goods_view.php?id=0000010316'}]"
      ]
     },
     "metadata": {},
     "output_type": "display_data"
    },
    {
     "data": {
      "text/plain": [
       "[{'name': '비타민 비파이브 크림',\n",
       "  'image': ['http://lfyaklyqypvr852590.gcdn.ntruss.com/data/nature_data/images/product/00/00/01/05/72/b_0000010572.gif',\n",
       "   'http://lfyaklyqypvr852590.gcdn.ntruss.com/data/nature_data/images/addimg/00/00/01/05/72/b_00028492_add.gif',\n",
       "   'http://lfyaklyqypvr852590.gcdn.ntruss.com/data/nature_data/images/addimg/00/00/01/05/72/b_00028493_add.gif'],\n",
       "  'category': 'HOME > 카테고리 > 스킨케어',\n",
       "  'volume': '50ml',\n",
       "  'originalPrice': 24900,\n",
       "  'salePrice': 17430,\n",
       "  'brand': '네이처리퍼블릭',\n",
       "  'url': 'https://www.naturerepublic.com/shop/goods_view.php?id=0000010572'}]"
      ]
     },
     "metadata": {},
     "output_type": "display_data"
    },
    {
     "data": {
      "text/plain": [
       "[{'name': '비타민 비파이브 에센스',\n",
       "  'image': ['http://lfyaklyqypvr852590.gcdn.ntruss.com/data/nature_data/images/product/00/00/01/05/73/b_0000010573.gif',\n",
       "   'http://lfyaklyqypvr852590.gcdn.ntruss.com/data/nature_data/images/addimg/00/00/01/05/73/b_00028494_add.gif',\n",
       "   'http://lfyaklyqypvr852590.gcdn.ntruss.com/data/nature_data/images/addimg/00/00/01/05/73/b_00028495_add.gif'],\n",
       "  'category': 'HOME > 카테고리 > 스킨케어',\n",
       "  'volume': '35ml',\n",
       "  'originalPrice': 24900,\n",
       "  'salePrice': 17430,\n",
       "  'brand': '네이처리퍼블릭',\n",
       "  'url': 'https://www.naturerepublic.com/shop/goods_view.php?id=0000010573'}]"
      ]
     },
     "metadata": {},
     "output_type": "display_data"
    },
    {
     "data": {
      "text/plain": [
       "[{'name': '아이슬란드 퍼스트 수분 에센스',\n",
       "  'image': ['http://lfyaklyqypvr852590.gcdn.ntruss.com/data/nature_data/images/product/00/00/01/10/85/b_0000011085.gif',\n",
       "   'http://lfyaklyqypvr852590.gcdn.ntruss.com/data/nature_data/images/addimg/00/00/01/10/85/b_00028949_add.gif'],\n",
       "  'category': 'HOME > 카테고리 > 스킨케어',\n",
       "  'volume': '50㎖',\n",
       "  'originalPrice': 19900,\n",
       "  'salePrice': 15920,\n",
       "  'brand': '네이처리퍼블릭',\n",
       "  'url': 'https://www.naturerepublic.com/shop/goods_view.php?id=0000011085'}]"
      ]
     },
     "metadata": {},
     "output_type": "display_data"
    },
    {
     "data": {
      "text/plain": [
       "[{'name': '셀파워 에센스',\n",
       "  'image': ['http://lfyaklyqypvr852590.gcdn.ntruss.com/data/nature_data/images/product/00/00/00/98/06/b_0000009806.gif',\n",
       "   'http://lfyaklyqypvr852590.gcdn.ntruss.com/data/nature_data/images/addimg/00/00/00/98/06/b_00027510_add.gif'],\n",
       "  'category': 'HOME > 카테고리 > 스킨케어',\n",
       "  'volume': '40㎖',\n",
       "  'originalPrice': 35000,\n",
       "  'salePrice': 24500,\n",
       "  'brand': '네이처리퍼블릭',\n",
       "  'url': 'https://www.naturerepublic.com/shop/goods_view.php?id=0000009806'}]"
      ]
     },
     "metadata": {},
     "output_type": "display_data"
    },
    {
     "data": {
      "text/plain": [
       "[{'name': '하와이안 프레시 클리어 토너',\n",
       "  'image': ['http://lfyaklyqypvr852590.gcdn.ntruss.com/data/nature_data/images/product/00/00/00/98/07/b_0000009807.gif'],\n",
       "  'category': 'HOME > 카테고리 > 스킨케어',\n",
       "  'volume': '270㎖',\n",
       "  'originalPrice': 14000,\n",
       "  'salePrice': 9800,\n",
       "  'brand': '네이처리퍼블릭',\n",
       "  'url': 'https://www.naturerepublic.com/shop/goods_view.php?id=0000009807'}]"
      ]
     },
     "metadata": {},
     "output_type": "display_data"
    },
    {
     "data": {
      "text/plain": [
       "[{'name': '허브 블렌딩 토너',\n",
       "  'image': ['http://lfyaklyqypvr852590.gcdn.ntruss.com/data/nature_data/images/product/00/00/01/05/75/b_0000010575.gif',\n",
       "   'http://lfyaklyqypvr852590.gcdn.ntruss.com/data/nature_data/images/addimg/00/00/01/05/75/b_00028498_add.gif'],\n",
       "  'category': 'HOME > 카테고리 > 스킨케어',\n",
       "  'volume': '150ml',\n",
       "  'originalPrice': 22900,\n",
       "  'salePrice': 16030,\n",
       "  'brand': '네이처리퍼블릭',\n",
       "  'url': 'https://www.naturerepublic.com/shop/goods_view.php?id=0000010575'}]"
      ]
     },
     "metadata": {},
     "output_type": "display_data"
    },
    {
     "data": {
      "text/plain": [
       "[{'name': '허브 블렌딩 에멀전',\n",
       "  'image': ['http://lfyaklyqypvr852590.gcdn.ntruss.com/data/nature_data/images/product/00/00/01/05/80/b_0000010580.gif'],\n",
       "  'category': 'HOME > 카테고리 > 스킨케어',\n",
       "  'volume': '150ml',\n",
       "  'originalPrice': 22900,\n",
       "  'salePrice': 16030,\n",
       "  'brand': '네이처리퍼블릭',\n",
       "  'url': 'https://www.naturerepublic.com/shop/goods_view.php?id=0000010580'}]"
      ]
     },
     "metadata": {},
     "output_type": "display_data"
    },
    {
     "data": {
      "text/plain": [
       "[{'name': '스네일 솔루션 아이크림',\n",
       "  'image': ['http://lfyaklyqypvr852590.gcdn.ntruss.com/data/nature_data/images/product/00/00/01/03/25/b_0000010325.gif',\n",
       "   'http://lfyaklyqypvr852590.gcdn.ntruss.com/data/nature_data/images/addimg/00/00/01/03/25/b_00028171_add.gif',\n",
       "   'http://lfyaklyqypvr852590.gcdn.ntruss.com/data/nature_data/images/addimg/00/00/01/03/25/b_00028172_add.gif',\n",
       "   'http://lfyaklyqypvr852590.gcdn.ntruss.com/data/nature_data/images/addimg/00/00/01/03/25/b_00028173_add.gif'],\n",
       "  'category': 'HOME > 카테고리 > 스킨케어',\n",
       "  'volume': '30㎖',\n",
       "  'originalPrice': 33000,\n",
       "  'salePrice': 16500,\n",
       "  'brand': '네이처리퍼블릭',\n",
       "  'url': 'https://www.naturerepublic.com/shop/goods_view.php?id=0000010325'}]"
      ]
     },
     "metadata": {},
     "output_type": "display_data"
    },
    {
     "data": {
      "text/plain": [
       "[{'name': '슈퍼 아쿠아 맥스 수분 에센스',\n",
       "  'image': ['http://lfyaklyqypvr852590.gcdn.ntruss.com/data/nature_data/images/product/00/00/01/03/29/b_0000010329.gif'],\n",
       "  'category': 'HOME > 카테고리 > 스킨케어',\n",
       "  'volume': '42ml',\n",
       "  'originalPrice': 15900,\n",
       "  'salePrice': 11130,\n",
       "  'brand': '네이처리퍼블릭',\n",
       "  'url': 'https://www.naturerepublic.com/shop/goods_view.php?id=0000010329'}]"
      ]
     },
     "metadata": {},
     "output_type": "display_data"
    },
    {
     "data": {
      "text/plain": [
       "[{'name': '불가리안 로즈 모이스처 에센스',\n",
       "  'image': ['http://lfyaklyqypvr852590.gcdn.ntruss.com/data/nature_data/images/product/00/00/01/16/13/b_0000011613.gif'],\n",
       "  'category': 'HOME > 카테고리 > 스킨케어',\n",
       "  'volume': '35ml',\n",
       "  'originalPrice': 4900,\n",
       "  'salePrice': 3920,\n",
       "  'brand': '네이처리퍼블릭',\n",
       "  'url': 'https://www.naturerepublic.com/shop/goods_view.php?id=0000011613'}]"
      ]
     },
     "metadata": {},
     "output_type": "display_data"
    },
    {
     "data": {
      "text/plain": [
       "[{'name': '슈퍼 아쿠아 맥스 프레시 수분크림 [지성용]',\n",
       "  'image': ['http://lfyaklyqypvr852590.gcdn.ntruss.com/data/nature_data/images/product/00/00/01/05/91/b_0000010591.gif',\n",
       "   'http://lfyaklyqypvr852590.gcdn.ntruss.com/data/nature_data/images/addimg/00/00/01/05/91/b_00028529_add.gif',\n",
       "   'http://lfyaklyqypvr852590.gcdn.ntruss.com/data/nature_data/images/addimg/00/00/01/05/91/b_00028530_add.gif'],\n",
       "  'category': 'HOME > 카테고리 > 스킨케어',\n",
       "  'volume': '80ml',\n",
       "  'originalPrice': 25000,\n",
       "  'salePrice': 12500,\n",
       "  'brand': '네이처리퍼블릭',\n",
       "  'url': 'https://www.naturerepublic.com/shop/goods_view.php?id=0000010591'}]"
      ]
     },
     "metadata": {},
     "output_type": "display_data"
    },
    {
     "data": {
      "text/plain": [
       "[{'name': '셀파워 아이크림',\n",
       "  'image': ['http://lfyaklyqypvr852590.gcdn.ntruss.com/data/nature_data/images/product/00/00/00/98/24/b_0000009824.gif',\n",
       "   'http://lfyaklyqypvr852590.gcdn.ntruss.com/data/nature_data/images/addimg/00/00/00/98/24/b_00027525_add.gif'],\n",
       "  'category': 'HOME > 카테고리 > 스킨케어',\n",
       "  'volume': '25㎖',\n",
       "  'originalPrice': 35000,\n",
       "  'salePrice': 24500,\n",
       "  'brand': '네이처리퍼블릭',\n",
       "  'url': 'https://www.naturerepublic.com/shop/goods_view.php?id=0000009824'}]"
      ]
     },
     "metadata": {},
     "output_type": "display_data"
    },
    {
     "data": {
      "text/plain": [
       "[{'name': '수딩 앤 모이스처 알로에베라 92% 수딩젤',\n",
       "  'image': ['http://lfyaklyqypvr852590.gcdn.ntruss.com/data/nature_data/images/product/00/00/01/03/36/b_0000010336.gif',\n",
       "   'http://lfyaklyqypvr852590.gcdn.ntruss.com/data/nature_data/images/addimg/00/00/01/03/36/b_00028190_add.gif',\n",
       "   'http://lfyaklyqypvr852590.gcdn.ntruss.com/data/nature_data/images/addimg/00/00/01/03/36/b_00028191_add.gif',\n",
       "   'http://lfyaklyqypvr852590.gcdn.ntruss.com/data/nature_data/images/addimg/00/00/01/03/36/b_00028192_add.gif'],\n",
       "  'category': 'HOME > 카테고리 > 스킨케어',\n",
       "  'volume': '300ml',\n",
       "  'originalPrice': 4400,\n",
       "  'salePrice': 4400,\n",
       "  'brand': '네이처리퍼블릭',\n",
       "  'url': 'https://www.naturerepublic.com/shop/goods_view.php?id=0000010336'}]"
      ]
     },
     "metadata": {},
     "output_type": "display_data"
    },
    {
     "data": {
      "text/plain": [
       "[{'name': '셀파워 데이 크림',\n",
       "  'image': ['http://lfyaklyqypvr852590.gcdn.ntruss.com/data/nature_data/images/product/00/00/00/98/29/b_0000009829.gif',\n",
       "   'http://lfyaklyqypvr852590.gcdn.ntruss.com/data/nature_data/images/addimg/00/00/00/98/29/b_00027536_add.gif'],\n",
       "  'category': 'HOME > 카테고리 > 스킨케어',\n",
       "  'volume': '55㎖',\n",
       "  'originalPrice': 35000,\n",
       "  'salePrice': 24500,\n",
       "  'brand': '네이처리퍼블릭',\n",
       "  'url': 'https://www.naturerepublic.com/shop/goods_view.php?id=0000009829'}]"
      ]
     },
     "metadata": {},
     "output_type": "display_data"
    },
    {
     "data": {
      "text/plain": [
       "[{'name': '아이슬란드 브라이트닝 수분크림',\n",
       "  'image': ['http://lfyaklyqypvr852590.gcdn.ntruss.com/data/nature_data/images/product/00/00/01/00/85/b_0000010085.gif',\n",
       "   'http://lfyaklyqypvr852590.gcdn.ntruss.com/data/nature_data/images/addimg/00/00/01/00/85/b_00027835_add.gif',\n",
       "   'http://lfyaklyqypvr852590.gcdn.ntruss.com/data/nature_data/images/addimg/00/00/01/00/85/b_00027836_add.gif',\n",
       "   'http://lfyaklyqypvr852590.gcdn.ntruss.com/data/nature_data/images/addimg/00/00/01/00/85/b_00027837_add.gif'],\n",
       "  'category': 'HOME > 카테고리 > 스킨케어',\n",
       "  'volume': '50㎖',\n",
       "  'originalPrice': 24900,\n",
       "  'salePrice': 19920,\n",
       "  'brand': '네이처리퍼블릭',\n",
       "  'url': 'https://www.naturerepublic.com/shop/goods_view.php?id=0000010085'}]"
      ]
     },
     "metadata": {},
     "output_type": "display_data"
    },
    {
     "data": {
      "text/plain": [
       "[{'name': '진생 로얄 실크 에센스',\n",
       "  'image': ['http://lfyaklyqypvr852590.gcdn.ntruss.com/data/nature_data/images/product/00/00/01/03/42/b_0000010342.gif',\n",
       "   'http://lfyaklyqypvr852590.gcdn.ntruss.com/data/nature_data/images/addimg/00/00/01/03/42/b_00028198_add.gif',\n",
       "   'http://lfyaklyqypvr852590.gcdn.ntruss.com/data/nature_data/images/addimg/00/00/01/03/42/b_00028199_add.gif'],\n",
       "  'category': 'HOME > 카테고리 > 스킨케어',\n",
       "  'volume': '40ml',\n",
       "  'originalPrice': 55000,\n",
       "  'salePrice': 38500,\n",
       "  'brand': '네이처리퍼블릭',\n",
       "  'url': 'https://www.naturerepublic.com/shop/goods_view.php?id=0000010342'}]"
      ]
     },
     "metadata": {},
     "output_type": "display_data"
    },
    {
     "data": {
      "text/plain": [
       "[{'name': '캘리포니아 알로에베라 80% 에센스',\n",
       "  'image': ['http://lfyaklyqypvr852590.gcdn.ntruss.com/data/nature_data/images/product/00/00/01/03/48/b_0000010348.gif',\n",
       "   'http://lfyaklyqypvr852590.gcdn.ntruss.com/data/nature_data/images/addimg/00/00/01/03/48/b_00028208_add.gif',\n",
       "   'http://lfyaklyqypvr852590.gcdn.ntruss.com/data/nature_data/images/addimg/00/00/01/03/48/b_00028209_add.gif'],\n",
       "  'category': 'HOME > 카테고리 > 스킨케어',\n",
       "  'volume': '35ml',\n",
       "  'originalPrice': 9900,\n",
       "  'salePrice': 9900,\n",
       "  'brand': '네이처리퍼블릭',\n",
       "  'url': 'https://www.naturerepublic.com/shop/goods_view.php?id=0000010348'}]"
      ]
     },
     "metadata": {},
     "output_type": "display_data"
    },
    {
     "data": {
      "text/plain": [
       "[{'name': '폴리네시아 라군워터 하이드로 스킨',\n",
       "  'image': ['http://lfyaklyqypvr852590.gcdn.ntruss.com/data/nature_data/images/product/00/00/01/13/74/b_0000011374.gif',\n",
       "   'http://lfyaklyqypvr852590.gcdn.ntruss.com/data/nature_data/images/addimg/00/00/01/13/74/b_00029218_add.gif',\n",
       "   'http://lfyaklyqypvr852590.gcdn.ntruss.com/data/nature_data/images/addimg/00/00/01/13/74/b_00029219_add.gif'],\n",
       "  'category': 'HOME > 카테고리 > 스킨케어',\n",
       "  'volume': '180ml',\n",
       "  'originalPrice': 9900,\n",
       "  'salePrice': 7920,\n",
       "  'brand': '네이처리퍼블릭',\n",
       "  'url': 'https://www.naturerepublic.com/shop/goods_view.php?id=0000011374'}]"
      ]
     },
     "metadata": {},
     "output_type": "display_data"
    },
    {
     "data": {
      "text/plain": [
       "[{'name': '비베놈 에멀전',\n",
       "  'image': ['http://lfyaklyqypvr852590.gcdn.ntruss.com/data/nature_data/images/product/00/00/01/03/51/b_0000010351.gif',\n",
       "   'http://lfyaklyqypvr852590.gcdn.ntruss.com/data/nature_data/images/addimg/00/00/01/03/51/b_00028217_add.gif',\n",
       "   'http://lfyaklyqypvr852590.gcdn.ntruss.com/data/nature_data/images/addimg/00/00/01/03/51/b_00028218_add.gif'],\n",
       "  'category': 'HOME > 카테고리 > 스킨케어',\n",
       "  'volume': '120ml',\n",
       "  'originalPrice': 12000,\n",
       "  'salePrice': 9600,\n",
       "  'brand': '네이처리퍼블릭',\n",
       "  'url': 'https://www.naturerepublic.com/shop/goods_view.php?id=0000010351'}]"
      ]
     },
     "metadata": {},
     "output_type": "display_data"
    },
    {
     "data": {
      "text/plain": [
       "[{'name': '허브 블렌딩 크림',\n",
       "  'image': ['http://lfyaklyqypvr852590.gcdn.ntruss.com/data/nature_data/images/product/00/00/01/06/10/b_0000010610.gif',\n",
       "   'http://lfyaklyqypvr852590.gcdn.ntruss.com/data/nature_data/images/addimg/00/00/01/06/10/b_00028555_add.gif'],\n",
       "  'category': 'HOME > 카테고리 > 스킨케어',\n",
       "  'volume': '50ml',\n",
       "  'originalPrice': 26900,\n",
       "  'salePrice': 18830,\n",
       "  'brand': '네이처리퍼블릭',\n",
       "  'url': 'https://www.naturerepublic.com/shop/goods_view.php?id=0000010610'}]"
      ]
     },
     "metadata": {},
     "output_type": "display_data"
    },
    {
     "data": {
      "text/plain": [
       "[{'name': '리얼 네이처 올리브 앰플',\n",
       "  'image': ['http://lfyaklyqypvr852590.gcdn.ntruss.com/data/nature_data/images/product/00/00/01/03/55/b_0000010355.gif',\n",
       "   'http://lfyaklyqypvr852590.gcdn.ntruss.com/data/nature_data/images/addimg/00/00/01/03/55/b_00028223_add.gif',\n",
       "   'http://lfyaklyqypvr852590.gcdn.ntruss.com/data/nature_data/images/addimg/00/00/01/03/55/b_00028224_add.gif'],\n",
       "  'category': 'HOME > 카테고리 > 스킨케어',\n",
       "  'volume': '30ml',\n",
       "  'originalPrice': 12500,\n",
       "  'salePrice': 12500,\n",
       "  'brand': '네이처리퍼블릭',\n",
       "  'url': 'https://www.naturerepublic.com/shop/goods_view.php?id=0000010355'}]"
      ]
     },
     "metadata": {},
     "output_type": "display_data"
    },
    {
     "data": {
      "text/plain": [
       "[{'name': '허브 블렌딩 아이크림',\n",
       "  'image': ['http://lfyaklyqypvr852590.gcdn.ntruss.com/data/nature_data/images/product/00/00/01/06/11/b_0000010611.gif'],\n",
       "  'category': 'HOME > 카테고리 > 스킨케어',\n",
       "  'volume': '25ml',\n",
       "  'originalPrice': 24900,\n",
       "  'salePrice': 17430,\n",
       "  'brand': '네이처리퍼블릭',\n",
       "  'url': 'https://www.naturerepublic.com/shop/goods_view.php?id=0000010611'}]"
      ]
     },
     "metadata": {},
     "output_type": "display_data"
    },
    {
     "data": {
      "text/plain": [
       "[{'name': '불가리안 로즈 모이스처 크림',\n",
       "  'image': ['http://lfyaklyqypvr852590.gcdn.ntruss.com/data/nature_data/images/product/00/00/01/13/79/b_0000011379.gif',\n",
       "   'http://lfyaklyqypvr852590.gcdn.ntruss.com/data/nature_data/images/addimg/00/00/01/13/79/b_00029226_add.gif'],\n",
       "  'category': 'HOME > 카테고리 > 스킨케어',\n",
       "  'volume': '100㎖',\n",
       "  'originalPrice': 8900,\n",
       "  'salePrice': 7120,\n",
       "  'brand': '네이처리퍼블릭',\n",
       "  'url': 'https://www.naturerepublic.com/shop/goods_view.php?id=0000011379'}]"
      ]
     },
     "metadata": {},
     "output_type": "display_data"
    },
    {
     "data": {
      "text/plain": [
       "[{'name': '비타민 비파이브 토너',\n",
       "  'image': ['http://lfyaklyqypvr852590.gcdn.ntruss.com/data/nature_data/images/product/00/00/00/98/44/b_0000009844.gif',\n",
       "   'http://lfyaklyqypvr852590.gcdn.ntruss.com/data/nature_data/images/addimg/00/00/00/98/44/b_00027550_add.gif'],\n",
       "  'category': 'HOME > 카테고리 > 스킨케어',\n",
       "  'volume': '150ml',\n",
       "  'originalPrice': 18900,\n",
       "  'salePrice': 13230,\n",
       "  'brand': '네이처리퍼블릭',\n",
       "  'url': 'https://www.naturerepublic.com/shop/goods_view.php?id=0000009844'}]"
      ]
     },
     "metadata": {},
     "output_type": "display_data"
    },
    {
     "data": {
      "text/plain": [
       "[{'name': '비베놈 미스트 에센스 50ml (소용량)',\n",
       "  'image': ['http://lfyaklyqypvr852590.gcdn.ntruss.com/data/nature_data/images/product/00/00/01/03/56/b_0000010356.gif',\n",
       "   'http://lfyaklyqypvr852590.gcdn.ntruss.com/data/nature_data/images/addimg/00/00/01/03/56/b_00028225_add.gif'],\n",
       "  'category': 'HOME > 카테고리 > 스킨케어',\n",
       "  'volume': '50ml',\n",
       "  'originalPrice': 7700,\n",
       "  'salePrice': 6160,\n",
       "  'brand': '네이처리퍼블릭',\n",
       "  'url': 'https://www.naturerepublic.com/shop/goods_view.php?id=0000010356'}]"
      ]
     },
     "metadata": {},
     "output_type": "display_data"
    },
    {
     "data": {
      "text/plain": [
       "[{'name': '폴리네시아 라군워터 하이드로 에멀젼',\n",
       "  'image': ['http://lfyaklyqypvr852590.gcdn.ntruss.com/data/nature_data/images/product/00/00/01/13/80/b_0000011380.gif',\n",
       "   'http://lfyaklyqypvr852590.gcdn.ntruss.com/data/nature_data/images/addimg/00/00/01/13/80/b_00029227_add.gif',\n",
       "   'http://lfyaklyqypvr852590.gcdn.ntruss.com/data/nature_data/images/addimg/00/00/01/13/80/b_00029228_add.gif'],\n",
       "  'category': 'HOME > 카테고리 > 스킨케어',\n",
       "  'volume': '180ml',\n",
       "  'originalPrice': 9900,\n",
       "  'salePrice': 7920,\n",
       "  'brand': '네이처리퍼블릭',\n",
       "  'url': 'https://www.naturerepublic.com/shop/goods_view.php?id=0000011380'}]"
      ]
     },
     "metadata": {},
     "output_type": "display_data"
    },
    {
     "data": {
      "text/plain": [
       "[{'name': '폴리네시아 라군워터 하이드로 에센스',\n",
       "  'image': ['http://lfyaklyqypvr852590.gcdn.ntruss.com/data/nature_data/images/product/00/00/01/13/81/b_0000011381.gif',\n",
       "   'http://lfyaklyqypvr852590.gcdn.ntruss.com/data/nature_data/images/addimg/00/00/01/13/81/b_00029229_add.gif',\n",
       "   'http://lfyaklyqypvr852590.gcdn.ntruss.com/data/nature_data/images/addimg/00/00/01/13/81/b_00029230_add.gif'],\n",
       "  'category': 'HOME > 카테고리 > 스킨케어',\n",
       "  'volume': '50ml',\n",
       "  'originalPrice': 10900,\n",
       "  'salePrice': 8720,\n",
       "  'brand': '네이처리퍼블릭',\n",
       "  'url': 'https://www.naturerepublic.com/shop/goods_view.php?id=0000011381'}]"
      ]
     },
     "metadata": {},
     "output_type": "display_data"
    },
    {
     "data": {
      "text/plain": [
       "[{'name': '폴리네시아 라군워터 하이드로 크림',\n",
       "  'image': ['http://lfyaklyqypvr852590.gcdn.ntruss.com/data/nature_data/images/product/00/00/01/13/82/b_0000011382.gif',\n",
       "   'http://lfyaklyqypvr852590.gcdn.ntruss.com/data/nature_data/images/addimg/00/00/01/13/82/b_00029231_add.gif',\n",
       "   'http://lfyaklyqypvr852590.gcdn.ntruss.com/data/nature_data/images/addimg/00/00/01/13/82/b_00029232_add.gif'],\n",
       "  'category': 'HOME > 카테고리 > 스킨케어',\n",
       "  'volume': '55ml',\n",
       "  'originalPrice': 10900,\n",
       "  'salePrice': 8720,\n",
       "  'brand': '네이처리퍼블릭',\n",
       "  'url': 'https://www.naturerepublic.com/shop/goods_view.php?id=0000011382'}]"
      ]
     },
     "metadata": {},
     "output_type": "display_data"
    },
    {
     "data": {
      "text/plain": [
       "[{'name': '율리에센셜수액',\n",
       "  'image': ['http://lfyaklyqypvr852590.gcdn.ntruss.com/data/nature_data/images/product/00/00/00/93/36/b_0000009336.gif'],\n",
       "  'category': 'HOME > 카테고리 > 스킨케어',\n",
       "  'volume': '120㎖',\n",
       "  'originalPrice': 33000,\n",
       "  'salePrice': 16500,\n",
       "  'brand': '네이처리퍼블릭',\n",
       "  'url': 'https://www.naturerepublic.com/shop/goods_view.php?id=0000009336'}]"
      ]
     },
     "metadata": {},
     "output_type": "display_data"
    },
    {
     "data": {
      "text/plain": [
       "[{'name': '율리유액',\n",
       "  'image': ['http://lfyaklyqypvr852590.gcdn.ntruss.com/data/nature_data/images/product/00/00/00/93/37/b_0000009337.gif'],\n",
       "  'category': 'HOME > 카테고리 > 스킨케어',\n",
       "  'volume': '120㎖',\n",
       "  'originalPrice': 33000,\n",
       "  'salePrice': 16500,\n",
       "  'brand': '네이처리퍼블릭',\n",
       "  'url': 'https://www.naturerepublic.com/shop/goods_view.php?id=0000009337'}]"
      ]
     },
     "metadata": {},
     "output_type": "display_data"
    },
    {
     "data": {
      "text/plain": [
       "[{'name': '리얼 스퀴즈 알로에베라 토너',\n",
       "  'image': ['http://lfyaklyqypvr852590.gcdn.ntruss.com/data/nature_data/images/product/00/00/01/01/06/b_0000010106.gif',\n",
       "   'http://lfyaklyqypvr852590.gcdn.ntruss.com/data/nature_data/images/addimg/00/00/01/01/06/b_00027854_add.gif',\n",
       "   'http://lfyaklyqypvr852590.gcdn.ntruss.com/data/nature_data/images/addimg/00/00/01/01/06/b_00027855_add.gif'],\n",
       "  'category': 'HOME > 카테고리 > 스킨케어',\n",
       "  'volume': '150ml',\n",
       "  'originalPrice': 14900,\n",
       "  'salePrice': 10430,\n",
       "  'brand': '네이처리퍼블릭',\n",
       "  'url': 'https://www.naturerepublic.com/shop/goods_view.php?id=0000010106'}]"
      ]
     },
     "metadata": {},
     "output_type": "display_data"
    },
    {
     "data": {
      "text/plain": [
       "[{'name': '슈퍼 아쿠아 맥스 모이스처 수분크림 [건성용]',\n",
       "  'image': ['http://lfyaklyqypvr852590.gcdn.ntruss.com/data/nature_data/images/product/00/00/01/06/18/b_0000010618.gif',\n",
       "   'http://lfyaklyqypvr852590.gcdn.ntruss.com/data/nature_data/images/addimg/00/00/01/06/18/b_00028570_add.gif',\n",
       "   'http://lfyaklyqypvr852590.gcdn.ntruss.com/data/nature_data/images/addimg/00/00/01/06/18/b_00028571_add.gif'],\n",
       "  'category': 'HOME > 카테고리 > 스킨케어',\n",
       "  'volume': '80ml',\n",
       "  'originalPrice': 25000,\n",
       "  'salePrice': 12500,\n",
       "  'brand': '네이처리퍼블릭',\n",
       "  'url': 'https://www.naturerepublic.com/shop/goods_view.php?id=0000010618'}]"
      ]
     },
     "metadata": {},
     "output_type": "display_data"
    },
    {
     "ename": "WebDriverException",
     "evalue": "Message: chrome not reachable\n  (Session info: chrome=71.0.3578.98)\n  (Driver info: chromedriver=2.45.615291 (ec3682e3c9061c10f26ea9e5cdcf3c53f3f74387),platform=Windows NT 10.0.17134 x86_64)\n",
     "output_type": "error",
     "traceback": [
      "\u001b[1;31m---------------------------------------------------------------------------\u001b[0m",
      "\u001b[1;31mWebDriverException\u001b[0m                        Traceback (most recent call last)",
      "\u001b[1;32m<ipython-input-16-35afee78b2ab>\u001b[0m in \u001b[0;36m<module>\u001b[1;34m()\u001b[0m\n\u001b[0;32m     18\u001b[0m     \u001b[1;32mfor\u001b[0m \u001b[0mitem\u001b[0m \u001b[1;32min\u001b[0m \u001b[0mitemList\u001b[0m\u001b[1;33m:\u001b[0m\u001b[1;33m\u001b[0m\u001b[0m\n\u001b[0;32m     19\u001b[0m         \u001b[0mdriver\u001b[0m\u001b[1;33m.\u001b[0m\u001b[0mget\u001b[0m\u001b[1;33m(\u001b[0m\u001b[0mitem\u001b[0m\u001b[1;33m)\u001b[0m\u001b[1;33m\u001b[0m\u001b[0m\n\u001b[1;32m---> 20\u001b[1;33m         \u001b[0mresult\u001b[0m \u001b[1;33m+=\u001b[0m \u001b[0mgetItem\u001b[0m\u001b[1;33m(\u001b[0m\u001b[1;33m)\u001b[0m\u001b[1;33m\u001b[0m\u001b[0m\n\u001b[0m\u001b[0;32m     21\u001b[0m \u001b[1;31m#-------------------------------------------------------------#\u001b[0m\u001b[1;33m\u001b[0m\u001b[1;33m\u001b[0m\u001b[0m\n\u001b[0;32m     22\u001b[0m \u001b[0mprint\u001b[0m\u001b[1;33m(\u001b[0m\u001b[1;34m\"--- %0.2f seconds ---\"\u001b[0m \u001b[1;33m%\u001b[0m\u001b[1;33m(\u001b[0m\u001b[0mtime\u001b[0m\u001b[1;33m.\u001b[0m\u001b[0mtime\u001b[0m\u001b[1;33m(\u001b[0m\u001b[1;33m)\u001b[0m \u001b[1;33m-\u001b[0m \u001b[0mstart_time\u001b[0m\u001b[1;33m)\u001b[0m\u001b[1;33m)\u001b[0m\u001b[1;33m\u001b[0m\u001b[0m\n",
      "\u001b[1;32m<ipython-input-13-972f132f50bf>\u001b[0m in \u001b[0;36mgetItem\u001b[1;34m()\u001b[0m\n\u001b[0;32m      1\u001b[0m \u001b[1;32mdef\u001b[0m \u001b[0mgetItem\u001b[0m\u001b[1;33m(\u001b[0m\u001b[1;33m)\u001b[0m\u001b[1;33m:\u001b[0m\u001b[1;33m\u001b[0m\u001b[0m\n\u001b[0;32m      2\u001b[0m \u001b[1;33m\u001b[0m\u001b[0m\n\u001b[1;32m----> 3\u001b[1;33m     \u001b[0mhtml\u001b[0m \u001b[1;33m=\u001b[0m \u001b[0mdriver\u001b[0m\u001b[1;33m.\u001b[0m\u001b[0mpage_source\u001b[0m\u001b[1;33m\u001b[0m\u001b[0m\n\u001b[0m\u001b[0;32m      4\u001b[0m     \u001b[0msoup\u001b[0m \u001b[1;33m=\u001b[0m \u001b[0mbs\u001b[0m\u001b[1;33m(\u001b[0m\u001b[0mhtml\u001b[0m\u001b[1;33m,\u001b[0m \u001b[1;34m'html.parser'\u001b[0m\u001b[1;33m)\u001b[0m\u001b[1;33m\u001b[0m\u001b[0m\n\u001b[0;32m      5\u001b[0m \u001b[1;33m\u001b[0m\u001b[0m\n",
      "\u001b[1;32m~\\Anaconda3\\lib\\site-packages\\selenium\\webdriver\\remote\\webdriver.py\u001b[0m in \u001b[0;36mpage_source\u001b[1;34m(self)\u001b[0m\n\u001b[0;32m    677\u001b[0m             \u001b[0mdriver\u001b[0m\u001b[1;33m.\u001b[0m\u001b[0mpage_source\u001b[0m\u001b[1;33m\u001b[0m\u001b[0m\n\u001b[0;32m    678\u001b[0m         \"\"\"\n\u001b[1;32m--> 679\u001b[1;33m         \u001b[1;32mreturn\u001b[0m \u001b[0mself\u001b[0m\u001b[1;33m.\u001b[0m\u001b[0mexecute\u001b[0m\u001b[1;33m(\u001b[0m\u001b[0mCommand\u001b[0m\u001b[1;33m.\u001b[0m\u001b[0mGET_PAGE_SOURCE\u001b[0m\u001b[1;33m)\u001b[0m\u001b[1;33m[\u001b[0m\u001b[1;34m'value'\u001b[0m\u001b[1;33m]\u001b[0m\u001b[1;33m\u001b[0m\u001b[0m\n\u001b[0m\u001b[0;32m    680\u001b[0m \u001b[1;33m\u001b[0m\u001b[0m\n\u001b[0;32m    681\u001b[0m     \u001b[1;32mdef\u001b[0m \u001b[0mclose\u001b[0m\u001b[1;33m(\u001b[0m\u001b[0mself\u001b[0m\u001b[1;33m)\u001b[0m\u001b[1;33m:\u001b[0m\u001b[1;33m\u001b[0m\u001b[0m\n",
      "\u001b[1;32m~\\Anaconda3\\lib\\site-packages\\selenium\\webdriver\\remote\\webdriver.py\u001b[0m in \u001b[0;36mexecute\u001b[1;34m(self, driver_command, params)\u001b[0m\n\u001b[0;32m    319\u001b[0m         \u001b[0mresponse\u001b[0m \u001b[1;33m=\u001b[0m \u001b[0mself\u001b[0m\u001b[1;33m.\u001b[0m\u001b[0mcommand_executor\u001b[0m\u001b[1;33m.\u001b[0m\u001b[0mexecute\u001b[0m\u001b[1;33m(\u001b[0m\u001b[0mdriver_command\u001b[0m\u001b[1;33m,\u001b[0m \u001b[0mparams\u001b[0m\u001b[1;33m)\u001b[0m\u001b[1;33m\u001b[0m\u001b[0m\n\u001b[0;32m    320\u001b[0m         \u001b[1;32mif\u001b[0m \u001b[0mresponse\u001b[0m\u001b[1;33m:\u001b[0m\u001b[1;33m\u001b[0m\u001b[0m\n\u001b[1;32m--> 321\u001b[1;33m             \u001b[0mself\u001b[0m\u001b[1;33m.\u001b[0m\u001b[0merror_handler\u001b[0m\u001b[1;33m.\u001b[0m\u001b[0mcheck_response\u001b[0m\u001b[1;33m(\u001b[0m\u001b[0mresponse\u001b[0m\u001b[1;33m)\u001b[0m\u001b[1;33m\u001b[0m\u001b[0m\n\u001b[0m\u001b[0;32m    322\u001b[0m             response['value'] = self._unwrap_value(\n\u001b[0;32m    323\u001b[0m                 response.get('value', None))\n",
      "\u001b[1;32m~\\Anaconda3\\lib\\site-packages\\selenium\\webdriver\\remote\\errorhandler.py\u001b[0m in \u001b[0;36mcheck_response\u001b[1;34m(self, response)\u001b[0m\n\u001b[0;32m    240\u001b[0m                 \u001b[0malert_text\u001b[0m \u001b[1;33m=\u001b[0m \u001b[0mvalue\u001b[0m\u001b[1;33m[\u001b[0m\u001b[1;34m'alert'\u001b[0m\u001b[1;33m]\u001b[0m\u001b[1;33m.\u001b[0m\u001b[0mget\u001b[0m\u001b[1;33m(\u001b[0m\u001b[1;34m'text'\u001b[0m\u001b[1;33m)\u001b[0m\u001b[1;33m\u001b[0m\u001b[0m\n\u001b[0;32m    241\u001b[0m             \u001b[1;32mraise\u001b[0m \u001b[0mexception_class\u001b[0m\u001b[1;33m(\u001b[0m\u001b[0mmessage\u001b[0m\u001b[1;33m,\u001b[0m \u001b[0mscreen\u001b[0m\u001b[1;33m,\u001b[0m \u001b[0mstacktrace\u001b[0m\u001b[1;33m,\u001b[0m \u001b[0malert_text\u001b[0m\u001b[1;33m)\u001b[0m\u001b[1;33m\u001b[0m\u001b[0m\n\u001b[1;32m--> 242\u001b[1;33m         \u001b[1;32mraise\u001b[0m \u001b[0mexception_class\u001b[0m\u001b[1;33m(\u001b[0m\u001b[0mmessage\u001b[0m\u001b[1;33m,\u001b[0m \u001b[0mscreen\u001b[0m\u001b[1;33m,\u001b[0m \u001b[0mstacktrace\u001b[0m\u001b[1;33m)\u001b[0m\u001b[1;33m\u001b[0m\u001b[0m\n\u001b[0m\u001b[0;32m    243\u001b[0m \u001b[1;33m\u001b[0m\u001b[0m\n\u001b[0;32m    244\u001b[0m     \u001b[1;32mdef\u001b[0m \u001b[0m_value_or_default\u001b[0m\u001b[1;33m(\u001b[0m\u001b[0mself\u001b[0m\u001b[1;33m,\u001b[0m \u001b[0mobj\u001b[0m\u001b[1;33m,\u001b[0m \u001b[0mkey\u001b[0m\u001b[1;33m,\u001b[0m \u001b[0mdefault\u001b[0m\u001b[1;33m)\u001b[0m\u001b[1;33m:\u001b[0m\u001b[1;33m\u001b[0m\u001b[0m\n",
      "\u001b[1;31mWebDriverException\u001b[0m: Message: chrome not reachable\n  (Session info: chrome=71.0.3578.98)\n  (Driver info: chromedriver=2.45.615291 (ec3682e3c9061c10f26ea9e5cdcf3c53f3f74387),platform=Windows NT 10.0.17134 x86_64)\n"
     ]
    }
   ],
   "source": [
    "start_time = time.time() \n",
    "#-------------------------------------------------------------#\n",
    "categoryList = getCategoryList(url_products)\n",
    "result = []\n",
    "for category in categoryList:\n",
    "    driver.get(category)\n",
    "    driver.execute_script(\"window.scrollTo(0, 0)\") \n",
    "    clickSeeMoreButton()\n",
    "    itemList = getItemList()\n",
    "    \n",
    "    totalItemNum = driver.find_element_by_class_name('sel_cat').text\n",
    "    print('상품 개수:',totalItemNum)\n",
    "    if getNumber(totalItemNum) != len(itemList):\n",
    "        print('크롤링된 개수:',itemList)\n",
    "        print('더보기 버튼이 충분히 눌려지지 않았습니다.')\n",
    "        raise \n",
    "        \n",
    "    for item in itemList:\n",
    "        driver.get(item)\n",
    "        result += getItem()\n",
    "#-------------------------------------------------------------#\n",
    "print(\"--- %0.2f seconds ---\" %(time.time() - start_time))"
   ]
  },
  {
   "cell_type": "code",
   "execution_count": 17,
   "metadata": {},
   "outputs": [],
   "source": [
    "output = json.dumps(result,ensure_ascii=False, indent='\\t')\n",
    "\n",
    "writeJSON(output, output_name = 'naturerepublic.json')"
   ]
  },
  {
   "cell_type": "code",
   "execution_count": null,
   "metadata": {},
   "outputs": [],
   "source": []
  }
 ],
 "metadata": {
  "kernelspec": {
   "display_name": "Python 3",
   "language": "python",
   "name": "python3"
  },
  "language_info": {
   "codemirror_mode": {
    "name": "ipython",
    "version": 3
   },
   "file_extension": ".py",
   "mimetype": "text/x-python",
   "name": "python",
   "nbconvert_exporter": "python",
   "pygments_lexer": "ipython3",
   "version": "3.7.0"
  }
 },
 "nbformat": 4,
 "nbformat_minor": 2
}
