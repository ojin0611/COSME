{
 "cells": [
  {
   "cell_type": "markdown",
   "metadata": {},
   "source": [
    "# naturerepublic"
   ]
  },
  {
   "cell_type": "code",
   "execution_count": 1,
   "metadata": {},
   "outputs": [],
   "source": [
    "from bs4 import BeautifulSoup as bs              # 데이터파싱 라이브러리\n",
    "from selenium import webdriver\n",
    "import json\n",
    "import platform\n",
    "import re\n",
    "import time\n",
    "import copy\n",
    "from selenium.webdriver.support.ui import WebDriverWait"
   ]
  },
  {
   "cell_type": "code",
   "execution_count": 2,
   "metadata": {},
   "outputs": [],
   "source": [
    "def getNumber(string):\n",
    "    numExtracter = re.compile('[0-9]+')\n",
    "    return int(''.join(numExtracter.findall(string)))\n",
    "    "
   ]
  },
  {
   "cell_type": "code",
   "execution_count": 3,
   "metadata": {},
   "outputs": [],
   "source": [
    "def getCategoryList(url_products):\n",
    "    driver.get(url_products)\n",
    "    html = driver.page_source\n",
    "    soup = bs(html,'html.parser')\n",
    "    categories = soup.find('ul',{'class':'tab_category'})\n",
    "    categoryList = []\n",
    "    for category in categories:\n",
    "        try:\n",
    "            categoryList.append(url_home + category.li.a['href'])\n",
    "        except:\n",
    "            pass\n",
    "\n",
    "    return categoryList"
   ]
  },
  {
   "cell_type": "code",
   "execution_count": 4,
   "metadata": {},
   "outputs": [],
   "source": [
    "def clickSeeMoreButton():\n",
    "    while True:\n",
    "        try:\n",
    "            seeMoreButton = driver.find_element_by_class_name('btn_more')            \n",
    "            seeMoreButton.click()\n",
    "            time.sleep(3)\n",
    "            \n",
    "        except:\n",
    "            break"
   ]
  },
  {
   "cell_type": "code",
   "execution_count": 5,
   "metadata": {},
   "outputs": [],
   "source": [
    "def getItemList():\n",
    "    html = driver.page_source\n",
    "    soup = bs(html,'html.parser')\n",
    "    items = soup.find('ul',{'product_list contents_list'})\n",
    "    itemList = []\n",
    "    for i, item in enumerate(items):\n",
    "        try:\n",
    "            itemList.append(url_home + item.a['href'])\n",
    "        except:\n",
    "            pass\n",
    "    return itemList"
   ]
  },
  {
   "cell_type": "code",
   "execution_count": 6,
   "metadata": {},
   "outputs": [],
   "source": [
    "def getItem():\n",
    "    \n",
    "    html = driver.page_source\n",
    "    soup = bs(html, 'html.parser')\n",
    "\n",
    "    name = soup.find('div',{'class':'sub_tit_wrap tit_pro_view'}).h2.get_text().strip()\n",
    "\n",
    "    imageList = soup.find('div',{'class':'thumb_img'})\n",
    "    images = [image['rel'] for image in imageList.ul.find_all('img')]\n",
    "\n",
    "    categoryTexts = soup.find('div',{'class':'line-nav'}).find_all('a')\n",
    "    category = ''\n",
    "    for categoryText in categoryTexts:\n",
    "        category += categoryText.get_text()+' > '\n",
    "    category = category[:-3]\n",
    "\n",
    "    volume = soup.find('dl',{'class':'volume'}).dd.get_text().strip()\n",
    "\n",
    "    price = soup.find('dl',{'class':'wrap-price-area money'}).find_all('dd')\n",
    "    originalPrice = getNumber(price[0].get_text())\n",
    "    if len(price)>1:\n",
    "        salePrice = getNumber(price[1].get_text())\n",
    "    else:\n",
    "        salePrice = originalPrice\n",
    "\n",
    "    brand = 'naturerepublic'\n",
    "\n",
    "    url = driver.current_url\n",
    "\n",
    "    item = {'name':'#', 'url':'#', 'image':'#', 'color':'#', 'category':'#', \n",
    "                   'salePrice':'#', 'originalPrice':'#', 'brand':'#','volume':'#'}\n",
    "    item['name']=name\n",
    "    item['image']=images\n",
    "    item['category']=category\n",
    "    item['volume']=volume\n",
    "    item['originalPrice']=originalPrice\n",
    "    item['salePrice']=salePrice\n",
    "    item['brand']=brand\n",
    "    item['url']=url\n",
    "\n",
    "    items = []\n",
    "    colors = soup.find('ul',{'class':'txt_img'})\n",
    "    if colors:\n",
    "        colors = [color.get_text().strip() for color in colors.find_all('li')]\n",
    "        for color in colors:\n",
    "            item_copy = copy.deepcopy(item)\n",
    "            item_copy['color'] = color\n",
    "            items.append(item_copy)\n",
    "    else:\n",
    "        items.append(item)\n",
    "    display(items)\n",
    "    return items"
   ]
  },
  {
   "cell_type": "code",
   "execution_count": 7,
   "metadata": {},
   "outputs": [],
   "source": [
    "def writeJSON(jsonString, output_name='data.json'):\n",
    "    with open(output_name,'w',encoding='UTF-8') as file:\n",
    "        file.write(jsonString)\n"
   ]
  },
  {
   "cell_type": "code",
   "execution_count": 10,
   "metadata": {},
   "outputs": [],
   "source": [
    "path = 'chromedriver.exe' if (platform.system() == 'Windows') else '/Users/jg/Desktop/develop/DataTeam/DataProcessing/product/crawling/chromedriver';\n",
    "driver = webdriver.Chrome(path)\n",
    "\n",
    "url_home = 'https://www.naturerepublic.com'\n",
    "url_products = 'https://www.naturerepublic.com/shop/goods_list.php?cid=000000000000000&depth=0'\n",
    "driver.get(url_products)"
   ]
  },
  {
   "cell_type": "code",
   "execution_count": null,
   "metadata": {},
   "outputs": [
    {
     "name": "stdout",
     "output_type": "stream",
     "text": [
      "상품 개수: 스킨케어\n",
      "전체\n",
      "총 138개\n"
     ]
    },
    {
     "data": {
      "text/plain": [
       "[{'name': '슈퍼 아쿠아 맥스 EX 수분크림',\n",
       "  'url': 'https://www.naturerepublic.com/shop/goods_view.php?id=0000012137',\n",
       "  'image': ['http://lfyaklyqypvr852590.gcdn.ntruss.com/data/nature_data/images/product/00/00/01/21/37/b_0000012137.gif',\n",
       "   'http://lfyaklyqypvr852590.gcdn.ntruss.com/data/nature_data/images/addimg/00/00/01/21/37/b_00030052_add.gif'],\n",
       "  'color': '#',\n",
       "  'category': 'HOME > 카테고리 > 스킨케어',\n",
       "  'salePrice': 22400,\n",
       "  'originalPrice': 32000,\n",
       "  'brand': 'naturerepublic',\n",
       "  'volume': '80ml'}]"
      ]
     },
     "metadata": {},
     "output_type": "display_data"
    },
    {
     "data": {
      "text/plain": [
       "[{'name': '*행사* 슈퍼 아쿠아 맥스 수분 토너+에멀전',\n",
       "  'url': 'https://www.naturerepublic.com/shop/goods_view.php?id=0000012118',\n",
       "  'image': ['http://lfyaklyqypvr852590.gcdn.ntruss.com/data/nature_data/images/product/00/00/01/21/18/b_0000012118.gif',\n",
       "   'http://lfyaklyqypvr852590.gcdn.ntruss.com/data/nature_data/images/addimg/00/00/01/21/18/b_00030032_add.gif',\n",
       "   'http://lfyaklyqypvr852590.gcdn.ntruss.com/data/nature_data/images/addimg/00/00/01/21/18/b_00030033_add.gif'],\n",
       "  'color': '#',\n",
       "  'category': 'HOME > 카테고리 > 스킨케어',\n",
       "  'salePrice': 18000,\n",
       "  'originalPrice': 27800,\n",
       "  'brand': 'naturerepublic',\n",
       "  'volume': '상세페이지 참조'}]"
      ]
     },
     "metadata": {},
     "output_type": "display_data"
    },
    {
     "data": {
      "text/plain": [
       "[{'name': '*행사* 히아 인텐스 로즈 앰플 세럼(+마스크 5매 증정)',\n",
       "  'url': 'https://www.naturerepublic.com/shop/goods_view.php?id=0000012117',\n",
       "  'image': ['http://lfyaklyqypvr852590.gcdn.ntruss.com/data/nature_data/images/product/00/00/01/21/17/b_0000012117.gif',\n",
       "   'http://lfyaklyqypvr852590.gcdn.ntruss.com/data/nature_data/images/addimg/00/00/01/21/17/b_00030030_add.gif',\n",
       "   'http://lfyaklyqypvr852590.gcdn.ntruss.com/data/nature_data/images/addimg/00/00/01/21/17/b_00030031_add.gif'],\n",
       "  'color': '#',\n",
       "  'category': 'HOME > 카테고리 > 스킨케어',\n",
       "  'salePrice': 38000,\n",
       "  'originalPrice': 38000,\n",
       "  'brand': 'naturerepublic',\n",
       "  'volume': '상세페이지 참조'}]"
      ]
     },
     "metadata": {},
     "output_type": "display_data"
    },
    {
     "data": {
      "text/plain": [
       "[{'name': '*행사* 히아 인텐스 로즈 크림 기획세트(+마스크 10매 증정)',\n",
       "  'url': 'https://www.naturerepublic.com/shop/goods_view.php?id=0000012116',\n",
       "  'image': ['http://lfyaklyqypvr852590.gcdn.ntruss.com/data/nature_data/images/product/00/00/01/21/16/b_0000012116.gif',\n",
       "   'http://lfyaklyqypvr852590.gcdn.ntruss.com/data/nature_data/images/addimg/00/00/01/21/16/b_00030028_add.gif',\n",
       "   'http://lfyaklyqypvr852590.gcdn.ntruss.com/data/nature_data/images/addimg/00/00/01/21/16/b_00030029_add.gif'],\n",
       "  'color': '#',\n",
       "  'category': 'HOME > 카테고리 > 스킨케어',\n",
       "  'salePrice': 55000,\n",
       "  'originalPrice': 55000,\n",
       "  'brand': 'naturerepublic',\n",
       "  'volume': '상세페이지 참조'}]"
      ]
     },
     "metadata": {},
     "output_type": "display_data"
    },
    {
     "data": {
      "text/plain": [
       "[{'name': '더 착한 마음 히알루론산 수분 앰플',\n",
       "  'url': 'https://www.naturerepublic.com/shop/goods_view.php?id=0000012102',\n",
       "  'image': ['http://lfyaklyqypvr852590.gcdn.ntruss.com/data/nature_data/images/product/00/00/01/21/02/b_0000012102.gif'],\n",
       "  'color': '#',\n",
       "  'category': 'HOME > 카테고리 > 스킨케어',\n",
       "  'salePrice': 16000,\n",
       "  'originalPrice': 16000,\n",
       "  'brand': 'naturerepublic',\n",
       "  'volume': '더 착한 마음 히알루론산 수분 앰플\\n50ml'}]"
      ]
     },
     "metadata": {},
     "output_type": "display_data"
    },
    {
     "data": {
      "text/plain": [
       "[{'name': '더 착한 마음 히알루론산 워터 토너',\n",
       "  'url': 'https://www.naturerepublic.com/shop/goods_view.php?id=0000012101',\n",
       "  'image': ['http://lfyaklyqypvr852590.gcdn.ntruss.com/data/nature_data/images/product/00/00/01/21/01/b_0000012101.gif'],\n",
       "  'color': '#',\n",
       "  'category': 'HOME > 카테고리 > 스킨케어',\n",
       "  'salePrice': 18000,\n",
       "  'originalPrice': 18000,\n",
       "  'brand': 'naturerepublic',\n",
       "  'volume': '더 착한 마음 히알루론산 워터 토너\\n400ml'}]"
      ]
     },
     "metadata": {},
     "output_type": "display_data"
    },
    {
     "data": {
      "text/plain": [
       "[{'name': '*행사* 쉐어버터 스팀크림(+추가 구매 시 할인혜택)',\n",
       "  'url': 'https://www.naturerepublic.com/shop/goods_view.php?id=0000012098',\n",
       "  'image': ['http://lfyaklyqypvr852590.gcdn.ntruss.com/data/nature_data/images/product/00/00/01/20/98/b_0000012098.gif',\n",
       "   'http://lfyaklyqypvr852590.gcdn.ntruss.com/data/nature_data/images/addimg/00/00/01/20/98/b_00029993_add.gif',\n",
       "   'http://lfyaklyqypvr852590.gcdn.ntruss.com/data/nature_data/images/addimg/00/00/01/20/98/b_00029994_add.gif',\n",
       "   'http://lfyaklyqypvr852590.gcdn.ntruss.com/data/nature_data/images/addimg/00/00/01/20/98/b_00029995_add.gif',\n",
       "   'http://lfyaklyqypvr852590.gcdn.ntruss.com/data/nature_data/images/addimg/00/00/01/20/98/b_00029996_add.gif',\n",
       "   'http://lfyaklyqypvr852590.gcdn.ntruss.com/data/nature_data/images/addimg/00/00/01/20/98/b_00029997_add.gif',\n",
       "   'http://lfyaklyqypvr852590.gcdn.ntruss.com/data/nature_data/images/addimg/00/00/01/20/98/b_00029998_add.gif'],\n",
       "  'color': '#',\n",
       "  'category': 'HOME > 카테고리 > 스킨케어',\n",
       "  'salePrice': 22950,\n",
       "  'originalPrice': 45900,\n",
       "  'brand': 'naturerepublic',\n",
       "  'volume': '상세페이지 참조'}]"
      ]
     },
     "metadata": {},
     "output_type": "display_data"
    },
    {
     "data": {
      "text/plain": [
       "[{'name': '[1+1] 진짜진짜 촉촉한 올리브 토너+에멀전',\n",
       "  'url': 'https://www.naturerepublic.com/shop/goods_view.php?id=0000012096',\n",
       "  'image': ['http://lfyaklyqypvr852590.gcdn.ntruss.com/data/nature_data/images/product/00/00/01/20/96/b_0000012096.gif',\n",
       "   'http://lfyaklyqypvr852590.gcdn.ntruss.com/data/nature_data/images/addimg/00/00/01/20/96/b_00029979_add.gif',\n",
       "   'http://lfyaklyqypvr852590.gcdn.ntruss.com/data/nature_data/images/addimg/00/00/01/20/96/b_00029980_add.gif'],\n",
       "  'color': '#',\n",
       "  'category': 'HOME > 카테고리 > 스킨케어',\n",
       "  'salePrice': 10000,\n",
       "  'originalPrice': 10000,\n",
       "  'brand': 'naturerepublic',\n",
       "  'volume': '상세페이지 참조'}]"
      ]
     },
     "metadata": {},
     "output_type": "display_data"
    },
    {
     "data": {
      "text/plain": [
       "[{'name': '폴리네시아 세트',\n",
       "  'url': 'https://www.naturerepublic.com/shop/goods_view.php?id=0000012095',\n",
       "  'image': ['http://lfyaklyqypvr852590.gcdn.ntruss.com/data/nature_data/images/product/00/00/01/20/95/b_0000012095.gif',\n",
       "   'http://lfyaklyqypvr852590.gcdn.ntruss.com/data/nature_data/images/addimg/00/00/01/20/95/b_00029974_add.gif',\n",
       "   'http://lfyaklyqypvr852590.gcdn.ntruss.com/data/nature_data/images/addimg/00/00/01/20/95/b_00029975_add.gif',\n",
       "   'http://lfyaklyqypvr852590.gcdn.ntruss.com/data/nature_data/images/addimg/00/00/01/20/95/b_00029976_add.gif',\n",
       "   'http://lfyaklyqypvr852590.gcdn.ntruss.com/data/nature_data/images/addimg/00/00/01/20/95/b_00029977_add.gif',\n",
       "   'http://lfyaklyqypvr852590.gcdn.ntruss.com/data/nature_data/images/addimg/00/00/01/20/95/b_00029978_add.gif'],\n",
       "  'color': '#',\n",
       "  'category': 'HOME > 카테고리 > 스킨케어',\n",
       "  'salePrice': 26250,\n",
       "  'originalPrice': 52500,\n",
       "  'brand': 'naturerepublic',\n",
       "  'volume': '상세페이지 참조'}]"
      ]
     },
     "metadata": {},
     "output_type": "display_data"
    },
    {
     "data": {
      "text/plain": [
       "[{'name': '불가리안 로즈 세트',\n",
       "  'url': 'https://www.naturerepublic.com/shop/goods_view.php?id=0000012094',\n",
       "  'image': ['http://lfyaklyqypvr852590.gcdn.ntruss.com/data/nature_data/images/product/00/00/01/20/94/b_0000012094.gif',\n",
       "   'http://lfyaklyqypvr852590.gcdn.ntruss.com/data/nature_data/images/addimg/00/00/01/20/94/b_00029970_add.gif',\n",
       "   'http://lfyaklyqypvr852590.gcdn.ntruss.com/data/nature_data/images/addimg/00/00/01/20/94/b_00029971_add.gif',\n",
       "   'http://lfyaklyqypvr852590.gcdn.ntruss.com/data/nature_data/images/addimg/00/00/01/20/94/b_00029972_add.gif',\n",
       "   'http://lfyaklyqypvr852590.gcdn.ntruss.com/data/nature_data/images/addimg/00/00/01/20/94/b_00029973_add.gif'],\n",
       "  'color': '#',\n",
       "  'category': 'HOME > 카테고리 > 스킨케어',\n",
       "  'salePrice': 13750,\n",
       "  'originalPrice': 27500,\n",
       "  'brand': 'naturerepublic',\n",
       "  'volume': '상세페이지 참조'}]"
      ]
     },
     "metadata": {},
     "output_type": "display_data"
    },
    {
     "data": {
      "text/plain": [
       "[{'name': '*행사* 그린더마 마일드 크림 (+증정 or 할인혜택)',\n",
       "  'url': 'https://www.naturerepublic.com/shop/goods_view.php?id=0000012023',\n",
       "  'image': ['http://lfyaklyqypvr852590.gcdn.ntruss.com/data/nature_data/images/product/00/00/01/20/23/b_0000012023.gif',\n",
       "   'http://lfyaklyqypvr852590.gcdn.ntruss.com/data/nature_data/images/addimg/00/00/01/20/23/b_00029856_add.gif',\n",
       "   'http://lfyaklyqypvr852590.gcdn.ntruss.com/data/nature_data/images/addimg/00/00/01/20/23/b_00030040_add.gif'],\n",
       "  'color': '#',\n",
       "  'category': 'HOME > 카테고리 > 스킨케어',\n",
       "  'salePrice': 25000,\n",
       "  'originalPrice': 25000,\n",
       "  'brand': 'naturerepublic',\n",
       "  'volume': '상세페이지 참조'}]"
      ]
     },
     "metadata": {},
     "output_type": "display_data"
    },
    {
     "data": {
      "text/plain": [
       "[{'name': '진생 로얄 실크 럭셔리 케어 세트',\n",
       "  'url': 'https://www.naturerepublic.com/shop/goods_view.php?id=0000011974',\n",
       "  'image': ['http://lfyaklyqypvr852590.gcdn.ntruss.com/data/nature_data/images/product/00/00/01/19/74/b_0000011974.gif',\n",
       "   'http://lfyaklyqypvr852590.gcdn.ntruss.com/data/nature_data/images/addimg/00/00/01/19/74/b_00029746_add.gif',\n",
       "   'http://lfyaklyqypvr852590.gcdn.ntruss.com/data/nature_data/images/addimg/00/00/01/19/74/b_00029747_add.gif',\n",
       "   'http://lfyaklyqypvr852590.gcdn.ntruss.com/data/nature_data/images/addimg/00/00/01/19/74/b_00029748_add.gif'],\n",
       "  'color': '#',\n",
       "  'category': 'HOME > 카테고리 > 스킨케어',\n",
       "  'salePrice': 128000,\n",
       "  'originalPrice': 160000,\n",
       "  'brand': 'naturerepublic',\n",
       "  'volume': '진생 로얄 실크 럭셔리 케어 세트\\n크림 60g+앰플 10ml*4'}]"
      ]
     },
     "metadata": {},
     "output_type": "display_data"
    },
    {
     "data": {
      "text/plain": [
       "[{'name': '허브 블렌딩 에센스&크림 30ml 기획세트',\n",
       "  'url': 'https://www.naturerepublic.com/shop/goods_view.php?id=0000011969',\n",
       "  'image': ['http://lfyaklyqypvr852590.gcdn.ntruss.com/data/nature_data/images/product/00/00/01/19/69/b_0000011969.gif'],\n",
       "  'color': '#',\n",
       "  'category': 'HOME > 카테고리 > 스킨케어',\n",
       "  'salePrice': 26600,\n",
       "  'originalPrice': 38000,\n",
       "  'brand': 'naturerepublic',\n",
       "  'volume': '허브블렌딩 에센스&크림 30ml 기획세트\\n100ml+30ml'}]"
      ]
     },
     "metadata": {},
     "output_type": "display_data"
    },
    {
     "data": {
      "text/plain": [
       "[{'name': '*특가* 슈퍼 아쿠아 맥스 모이스처 수분크림 [건성용]+수분에센스',\n",
       "  'url': 'https://www.naturerepublic.com/shop/goods_view.php?id=0000011954',\n",
       "  'image': ['http://lfyaklyqypvr852590.gcdn.ntruss.com/data/nature_data/images/product/00/00/01/19/54/b_0000011954.gif'],\n",
       "  'color': '#',\n",
       "  'category': 'HOME > 카테고리 > 스킨케어',\n",
       "  'salePrice': 20000,\n",
       "  'originalPrice': 40900,\n",
       "  'brand': 'naturerepublic',\n",
       "  'volume': '크림 80ml/에센스 42ml'}]"
      ]
     },
     "metadata": {},
     "output_type": "display_data"
    },
    {
     "data": {
      "text/plain": [
       "[{'name': '*특가* 슈퍼 아쿠아 맥스 프레시 수분크림 [지성용]+수분에센스',\n",
       "  'url': 'https://www.naturerepublic.com/shop/goods_view.php?id=0000011953',\n",
       "  'image': ['http://lfyaklyqypvr852590.gcdn.ntruss.com/data/nature_data/images/product/00/00/01/19/53/b_0000011953.gif'],\n",
       "  'color': '#',\n",
       "  'category': 'HOME > 카테고리 > 스킨케어',\n",
       "  'salePrice': 20000,\n",
       "  'originalPrice': 40900,\n",
       "  'brand': 'naturerepublic',\n",
       "  'volume': '크림 80ml/에센스 42ml'}]"
      ]
     },
     "metadata": {},
     "output_type": "display_data"
    },
    {
     "data": {
      "text/plain": [
       "[{'name': '*특가* 슈퍼 아쿠아 맥스 컴비네이션 수분 크림 [복합성용]+수분에센스',\n",
       "  'url': 'https://www.naturerepublic.com/shop/goods_view.php?id=0000011952',\n",
       "  'image': ['http://lfyaklyqypvr852590.gcdn.ntruss.com/data/nature_data/images/product/00/00/01/19/52/b_0000011952.gif'],\n",
       "  'color': '#',\n",
       "  'category': 'HOME > 카테고리 > 스킨케어',\n",
       "  'salePrice': 20000,\n",
       "  'originalPrice': 40900,\n",
       "  'brand': 'naturerepublic',\n",
       "  'volume': '크림 80 ml/에센스 42ml'}]"
      ]
     },
     "metadata": {},
     "output_type": "display_data"
    },
    {
     "data": {
      "text/plain": [
       "[{'name': '진생 로얄 실크 워터리 크림(30mlX3)(+에센스 증정)',\n",
       "  'url': 'https://www.naturerepublic.com/shop/goods_view.php?id=0000011947',\n",
       "  'image': ['http://lfyaklyqypvr852590.gcdn.ntruss.com/data/nature_data/images/product/00/00/01/19/47/b_0000011947.gif',\n",
       "   'http://lfyaklyqypvr852590.gcdn.ntruss.com/data/nature_data/images/addimg/00/00/01/19/47/b_00029709_add.gif'],\n",
       "  'color': '#',\n",
       "  'category': 'HOME > 카테고리 > 스킨케어',\n",
       "  'salePrice': 77000,\n",
       "  'originalPrice': 77000,\n",
       "  'brand': 'naturerepublic',\n",
       "  'volume': '상세페이지 참조'}]"
      ]
     },
     "metadata": {},
     "output_type": "display_data"
    },
    {
     "data": {
      "text/plain": [
       "[{'name': '*행사* 진생 로얄 실크 워터리 크림(+에센스 증정)',\n",
       "  'url': 'https://www.naturerepublic.com/shop/goods_view.php?id=0000011936',\n",
       "  'image': ['http://lfyaklyqypvr852590.gcdn.ntruss.com/data/nature_data/images/product/00/00/01/19/36/b_0000011936.gif',\n",
       "   'http://lfyaklyqypvr852590.gcdn.ntruss.com/data/nature_data/images/addimg/00/00/01/19/36/b_00029951_add.gif'],\n",
       "  'color': '#',\n",
       "  'category': 'HOME > 카테고리 > 스킨케어',\n",
       "  'salePrice': 66000,\n",
       "  'originalPrice': 66000,\n",
       "  'brand': 'naturerepublic',\n",
       "  'volume': '상세페이지 참조'}]"
      ]
     },
     "metadata": {},
     "output_type": "display_data"
    },
    {
     "data": {
      "text/plain": [
       "[{'name': '하와이안 프레시 클리어 토너 (대용량)',\n",
       "  'url': 'https://www.naturerepublic.com/shop/goods_view.php?id=0000010687',\n",
       "  'image': ['http://lfyaklyqypvr852590.gcdn.ntruss.com/data/nature_data/images/product/00/00/01/06/87/b_0000010687.gif'],\n",
       "  'color': '#',\n",
       "  'category': 'HOME > 카테고리 > 스킨케어',\n",
       "  'salePrice': 18200,\n",
       "  'originalPrice': 26000,\n",
       "  'brand': 'naturerepublic',\n",
       "  'volume': '500㎖'}]"
      ]
     },
     "metadata": {},
     "output_type": "display_data"
    },
    {
     "data": {
      "text/plain": [
       "[{'name': '슈퍼 아쿠아 맥스 컴비네이션 수분크림(복합성용) (튜브)',\n",
       "  'url': 'https://www.naturerepublic.com/shop/goods_view.php?id=0000010212',\n",
       "  'image': ['http://lfyaklyqypvr852590.gcdn.ntruss.com/data/nature_data/images/product/00/00/01/02/12/b_0000010212.gif',\n",
       "   'http://lfyaklyqypvr852590.gcdn.ntruss.com/data/nature_data/images/addimg/00/00/01/02/12/b_00028029_add.gif'],\n",
       "  'color': '#',\n",
       "  'category': 'HOME > 카테고리 > 스킨케어',\n",
       "  'salePrice': 22000,\n",
       "  'originalPrice': 22000,\n",
       "  'brand': 'naturerepublic',\n",
       "  'volume': '150㎖'}]"
      ]
     },
     "metadata": {},
     "output_type": "display_data"
    },
    {
     "data": {
      "text/plain": [
       "[{'name': '스네일 솔루션 크림',\n",
       "  'url': 'https://www.naturerepublic.com/shop/goods_view.php?id=0000010756',\n",
       "  'image': ['http://lfyaklyqypvr852590.gcdn.ntruss.com/data/nature_data/images/product/00/00/01/07/56/b_0000010756.gif'],\n",
       "  'color': '#',\n",
       "  'category': 'HOME > 카테고리 > 스킨케어',\n",
       "  'salePrice': 33000,\n",
       "  'originalPrice': 66000,\n",
       "  'brand': 'naturerepublic',\n",
       "  'volume': '55㎖'}]"
      ]
     },
     "metadata": {},
     "output_type": "display_data"
    },
    {
     "data": {
      "text/plain": [
       "[{'name': '리얼 네이처 로터스 앰플',\n",
       "  'url': 'https://www.naturerepublic.com/shop/goods_view.php?id=0000011270',\n",
       "  'image': ['http://lfyaklyqypvr852590.gcdn.ntruss.com/data/nature_data/images/product/00/00/01/12/70/b_0000011270.gif',\n",
       "   'http://lfyaklyqypvr852590.gcdn.ntruss.com/data/nature_data/images/addimg/00/00/01/12/70/b_00029138_add.gif'],\n",
       "  'color': '#',\n",
       "  'category': 'HOME > 카테고리 > 스킨케어',\n",
       "  'salePrice': 12500,\n",
       "  'originalPrice': 12500,\n",
       "  'brand': 'naturerepublic',\n",
       "  'volume': '30ml'}]"
      ]
     },
     "metadata": {},
     "output_type": "display_data"
    },
    {
     "data": {
      "text/plain": [
       "[{'name': '프레시 그린티 70 토너',\n",
       "  'url': 'https://www.naturerepublic.com/shop/goods_view.php?id=0000010503',\n",
       "  'image': ['http://lfyaklyqypvr852590.gcdn.ntruss.com/data/nature_data/images/product/00/00/01/05/03/b_0000010503.gif',\n",
       "   'http://lfyaklyqypvr852590.gcdn.ntruss.com/data/nature_data/images/addimg/00/00/01/05/03/b_00028423_add.gif',\n",
       "   'http://lfyaklyqypvr852590.gcdn.ntruss.com/data/nature_data/images/addimg/00/00/01/05/03/b_00028424_add.gif'],\n",
       "  'color': '#',\n",
       "  'category': 'HOME > 카테고리 > 스킨케어',\n",
       "  'salePrice': 9900,\n",
       "  'originalPrice': 9900,\n",
       "  'brand': 'naturerepublic',\n",
       "  'volume': '180ml'}]"
      ]
     },
     "metadata": {},
     "output_type": "display_data"
    },
    {
     "data": {
      "text/plain": [
       "[{'name': '비베놈 토너',\n",
       "  'url': 'https://www.naturerepublic.com/shop/goods_view.php?id=0000010506',\n",
       "  'image': ['http://lfyaklyqypvr852590.gcdn.ntruss.com/data/nature_data/images/product/00/00/01/05/06/b_0000010506.gif',\n",
       "   'http://lfyaklyqypvr852590.gcdn.ntruss.com/data/nature_data/images/addimg/00/00/01/05/06/b_00028433_add.gif',\n",
       "   'http://lfyaklyqypvr852590.gcdn.ntruss.com/data/nature_data/images/addimg/00/00/01/05/06/b_00028434_add.gif'],\n",
       "  'color': '#',\n",
       "  'category': 'HOME > 카테고리 > 스킨케어',\n",
       "  'salePrice': 12000,\n",
       "  'originalPrice': 12000,\n",
       "  'brand': 'naturerepublic',\n",
       "  'volume': '150ml'}]"
      ]
     },
     "metadata": {},
     "output_type": "display_data"
    },
    {
     "data": {
      "text/plain": [
       "[{'name': '[GreenDeal] 셀부스팅 데이 크림 (201902 까지)',\n",
       "  'url': 'https://www.naturerepublic.com/shop/goods_view.php?id=0000009999',\n",
       "  'image': ['http://lfyaklyqypvr852590.gcdn.ntruss.com/data/nature_data/images/product/00/00/00/99/99/b_0000009999.gif',\n",
       "   'http://lfyaklyqypvr852590.gcdn.ntruss.com/data/nature_data/images/addimg/00/00/00/99/99/b_00027748_add.gif'],\n",
       "  'color': '#',\n",
       "  'category': 'HOME > 카테고리 > 스킨케어',\n",
       "  'salePrice': 7000,\n",
       "  'originalPrice': 35000,\n",
       "  'brand': 'naturerepublic',\n",
       "  'volume': '55ml'}]"
      ]
     },
     "metadata": {},
     "output_type": "display_data"
    },
    {
     "data": {
      "text/plain": [
       "[{'name': '스네일 솔루션 앰플',\n",
       "  'url': 'https://www.naturerepublic.com/shop/goods_view.php?id=0000010514',\n",
       "  'image': ['http://lfyaklyqypvr852590.gcdn.ntruss.com/data/nature_data/images/product/00/00/01/05/14/b_0000010514.gif',\n",
       "   'http://lfyaklyqypvr852590.gcdn.ntruss.com/data/nature_data/images/addimg/00/00/01/05/14/b_00028439_add.gif'],\n",
       "  'color': '#',\n",
       "  'category': 'HOME > 카테고리 > 스킨케어',\n",
       "  'salePrice': 30000,\n",
       "  'originalPrice': 30000,\n",
       "  'brand': 'naturerepublic',\n",
       "  'volume': '30ml'}]"
      ]
     },
     "metadata": {},
     "output_type": "display_data"
    },
    {
     "data": {
      "text/plain": [
       "[{'name': '수딩 앤 모이스처 천년초 92% 수딩 젤 (펌프)',\n",
       "  'url': 'https://www.naturerepublic.com/shop/goods_view.php?id=0000008725',\n",
       "  'image': ['http://lfyaklyqypvr852590.gcdn.ntruss.com/data/nature_data/images/product/00/00/00/87/25/b_0000008725.gif'],\n",
       "  'color': '#',\n",
       "  'category': 'HOME > 카테고리 > 스킨케어',\n",
       "  'salePrice': 9500,\n",
       "  'originalPrice': 9500,\n",
       "  'brand': 'naturerepublic',\n",
       "  'volume': '400㎖'}]"
      ]
     },
     "metadata": {},
     "output_type": "display_data"
    },
    {
     "data": {
      "text/plain": [
       "[{'name': '[GreenDeal] 진생 로얄 실크 부스팅 앰플 (201902 까지)',\n",
       "  'url': 'https://www.naturerepublic.com/shop/goods_view.php?id=0000010518',\n",
       "  'image': ['http://lfyaklyqypvr852590.gcdn.ntruss.com/data/nature_data/images/product/00/00/01/05/18/b_0000010518.gif',\n",
       "   'http://lfyaklyqypvr852590.gcdn.ntruss.com/data/nature_data/images/addimg/00/00/01/05/18/b_00028443_add.gif',\n",
       "   'http://lfyaklyqypvr852590.gcdn.ntruss.com/data/nature_data/images/addimg/00/00/01/05/18/b_00028444_add.gif'],\n",
       "  'color': '#',\n",
       "  'category': 'HOME > 카테고리 > 스킨케어',\n",
       "  'salePrice': 10000,\n",
       "  'originalPrice': 50000,\n",
       "  'brand': 'naturerepublic',\n",
       "  'volume': '30ml'}]"
      ]
     },
     "metadata": {},
     "output_type": "display_data"
    },
    {
     "data": {
      "text/plain": [
       "[{'name': 'O2 에너지 옴므 플루이드',\n",
       "  'url': 'https://www.naturerepublic.com/shop/goods_view.php?id=0000010526',\n",
       "  'image': ['http://lfyaklyqypvr852590.gcdn.ntruss.com/data/nature_data/images/product/00/00/01/05/26/b_0000010526.gif',\n",
       "   'http://lfyaklyqypvr852590.gcdn.ntruss.com/data/nature_data/images/addimg/00/00/01/05/26/b_00028454_add.gif'],\n",
       "  'color': '#',\n",
       "  'category': 'HOME > 카테고리 > 스킨케어',\n",
       "  'salePrice': 13000,\n",
       "  'originalPrice': 13000,\n",
       "  'brand': 'naturerepublic',\n",
       "  'volume': '130ml'}]"
      ]
     },
     "metadata": {},
     "output_type": "display_data"
    },
    {
     "data": {
      "text/plain": [
       "[{'name': '쉐어버터 스팀크림 모이스트 [중·건성용]',\n",
       "  'url': 'https://www.naturerepublic.com/shop/goods_view.php?id=0000010536',\n",
       "  'image': ['http://lfyaklyqypvr852590.gcdn.ntruss.com/data/nature_data/images/product/00/00/01/05/36/b_0000010536.gif',\n",
       "   'http://lfyaklyqypvr852590.gcdn.ntruss.com/data/nature_data/images/addimg/00/00/01/05/36/b_00028463_add.gif'],\n",
       "  'color': '#',\n",
       "  'category': 'HOME > 카테고리 > 스킨케어',\n",
       "  'salePrice': 15500,\n",
       "  'originalPrice': 31000,\n",
       "  'brand': 'naturerepublic',\n",
       "  'volume': '100ml'}]"
      ]
     },
     "metadata": {},
     "output_type": "display_data"
    },
    {
     "data": {
      "text/plain": [
       "[{'name': '쉐어버터 스팀크림 프레시 [지·복합성용]',\n",
       "  'url': 'https://www.naturerepublic.com/shop/goods_view.php?id=0000010553',\n",
       "  'image': ['http://lfyaklyqypvr852590.gcdn.ntruss.com/data/nature_data/images/product/00/00/01/05/53/b_0000010553.gif'],\n",
       "  'color': '#',\n",
       "  'category': 'HOME > 카테고리 > 스킨케어',\n",
       "  'salePrice': 15500,\n",
       "  'originalPrice': 31000,\n",
       "  'brand': 'naturerepublic',\n",
       "  'volume': '100ml'}]"
      ]
     },
     "metadata": {},
     "output_type": "display_data"
    },
    {
     "data": {
      "text/plain": [
       "[{'name': '쉐어버터 스팀크림 울트라 [극건성용]',\n",
       "  'url': 'https://www.naturerepublic.com/shop/goods_view.php?id=0000010554',\n",
       "  'image': ['http://lfyaklyqypvr852590.gcdn.ntruss.com/data/nature_data/images/product/00/00/01/05/54/b_0000010554.gif'],\n",
       "  'color': '#',\n",
       "  'category': 'HOME > 카테고리 > 스킨케어',\n",
       "  'salePrice': 15500,\n",
       "  'originalPrice': 31000,\n",
       "  'brand': 'naturerepublic',\n",
       "  'volume': '100ml'}]"
      ]
     },
     "metadata": {},
     "output_type": "display_data"
    },
    {
     "data": {
      "text/plain": [
       "[{'name': '스네일 솔루션 에센스',\n",
       "  'url': 'https://www.naturerepublic.com/shop/goods_view.php?id=0000010555',\n",
       "  'image': ['http://lfyaklyqypvr852590.gcdn.ntruss.com/data/nature_data/images/product/00/00/01/05/55/b_0000010555.gif',\n",
       "   'http://lfyaklyqypvr852590.gcdn.ntruss.com/data/nature_data/images/addimg/00/00/01/05/55/b_00028474_add.gif',\n",
       "   'http://lfyaklyqypvr852590.gcdn.ntruss.com/data/nature_data/images/addimg/00/00/01/05/55/b_00028475_add.gif',\n",
       "   'http://lfyaklyqypvr852590.gcdn.ntruss.com/data/nature_data/images/addimg/00/00/01/05/55/b_00028476_add.gif'],\n",
       "  'color': '#',\n",
       "  'category': 'HOME > 카테고리 > 스킨케어',\n",
       "  'salePrice': 33000,\n",
       "  'originalPrice': 33000,\n",
       "  'brand': 'naturerepublic',\n",
       "  'volume': '40㎖'}]"
      ]
     },
     "metadata": {},
     "output_type": "display_data"
    },
    {
     "data": {
      "text/plain": [
       "[{'name': '슈퍼 아쿠아 맥스 수분 토너',\n",
       "  'url': 'https://www.naturerepublic.com/shop/goods_view.php?id=0000010300',\n",
       "  'image': ['http://lfyaklyqypvr852590.gcdn.ntruss.com/data/nature_data/images/product/00/00/01/03/00/b_0000010300.gif'],\n",
       "  'color': '#',\n",
       "  'category': 'HOME > 카테고리 > 스킨케어',\n",
       "  'salePrice': 13900,\n",
       "  'originalPrice': 13900,\n",
       "  'brand': 'naturerepublic',\n",
       "  'volume': '150ml'}]"
      ]
     },
     "metadata": {},
     "output_type": "display_data"
    },
    {
     "data": {
      "text/plain": [
       "[{'name': '시티 케어 마린 워터 크림',\n",
       "  'url': 'https://www.naturerepublic.com/shop/goods_view.php?id=0000008510',\n",
       "  'image': ['http://lfyaklyqypvr852590.gcdn.ntruss.com/data/nature_data/images/product/00/00/00/85/10/b_0000008510.gif',\n",
       "   'http://lfyaklyqypvr852590.gcdn.ntruss.com/data/nature_data/images/addimg/00/00/00/85/10/b_00026139_add.gif',\n",
       "   'http://lfyaklyqypvr852590.gcdn.ntruss.com/data/nature_data/images/addimg/00/00/00/85/10/b_00026140_add.gif'],\n",
       "  'color': '#',\n",
       "  'category': 'HOME > 카테고리 > 스킨케어',\n",
       "  'salePrice': 16900,\n",
       "  'originalPrice': 16900,\n",
       "  'brand': 'naturerepublic',\n",
       "  'volume': '50㎖'}]"
      ]
     },
     "metadata": {},
     "output_type": "display_data"
    },
    {
     "data": {
      "text/plain": [
       "[{'name': '시티케어 마린워터 토너',\n",
       "  'url': 'https://www.naturerepublic.com/shop/goods_view.php?id=0000009797',\n",
       "  'image': ['http://lfyaklyqypvr852590.gcdn.ntruss.com/data/nature_data/images/product/00/00/00/97/97/b_0000009797.gif'],\n",
       "  'color': '#',\n",
       "  'category': 'HOME > 카테고리 > 스킨케어',\n",
       "  'salePrice': 14900,\n",
       "  'originalPrice': 14900,\n",
       "  'brand': 'naturerepublic',\n",
       "  'volume': '260㎖'}]"
      ]
     },
     "metadata": {},
     "output_type": "display_data"
    },
    {
     "data": {
      "text/plain": [
       "[{'name': '수딩 앤 모이스처 알로에 베라 92% 수딩 젤 (튜브)',\n",
       "  'url': 'https://www.naturerepublic.com/shop/goods_view.php?id=0000009804',\n",
       "  'image': ['http://lfyaklyqypvr852590.gcdn.ntruss.com/data/nature_data/images/product/00/00/00/98/04/b_0000009804.gif',\n",
       "   'http://lfyaklyqypvr852590.gcdn.ntruss.com/data/nature_data/images/addimg/00/00/00/98/04/b_00027507_add.gif'],\n",
       "  'color': '#',\n",
       "  'category': 'HOME > 카테고리 > 스킨케어',\n",
       "  'salePrice': 4900,\n",
       "  'originalPrice': 4900,\n",
       "  'brand': 'naturerepublic',\n",
       "  'volume': '250㎖'}]"
      ]
     },
     "metadata": {},
     "output_type": "display_data"
    },
    {
     "data": {
      "text/plain": [
       "[{'name': '리얼 스퀴즈 알로에베라 크림',\n",
       "  'url': 'https://www.naturerepublic.com/shop/goods_view.php?id=0000010316',\n",
       "  'image': ['http://lfyaklyqypvr852590.gcdn.ntruss.com/data/nature_data/images/product/00/00/01/03/16/b_0000010316.gif',\n",
       "   'http://lfyaklyqypvr852590.gcdn.ntruss.com/data/nature_data/images/addimg/00/00/01/03/16/b_00028156_add.gif',\n",
       "   'http://lfyaklyqypvr852590.gcdn.ntruss.com/data/nature_data/images/addimg/00/00/01/03/16/b_00028157_add.gif',\n",
       "   'http://lfyaklyqypvr852590.gcdn.ntruss.com/data/nature_data/images/addimg/00/00/01/03/16/b_00028158_add.gif'],\n",
       "  'color': '#',\n",
       "  'category': 'HOME > 카테고리 > 스킨케어',\n",
       "  'salePrice': 16900,\n",
       "  'originalPrice': 16900,\n",
       "  'brand': 'naturerepublic',\n",
       "  'volume': '50ml'}]"
      ]
     },
     "metadata": {},
     "output_type": "display_data"
    },
    {
     "data": {
      "text/plain": [
       "[{'name': '비타민 비파이브 크림',\n",
       "  'url': 'https://www.naturerepublic.com/shop/goods_view.php?id=0000010572',\n",
       "  'image': ['http://lfyaklyqypvr852590.gcdn.ntruss.com/data/nature_data/images/product/00/00/01/05/72/b_0000010572.gif',\n",
       "   'http://lfyaklyqypvr852590.gcdn.ntruss.com/data/nature_data/images/addimg/00/00/01/05/72/b_00028492_add.gif',\n",
       "   'http://lfyaklyqypvr852590.gcdn.ntruss.com/data/nature_data/images/addimg/00/00/01/05/72/b_00028493_add.gif'],\n",
       "  'color': '#',\n",
       "  'category': 'HOME > 카테고리 > 스킨케어',\n",
       "  'salePrice': 24900,\n",
       "  'originalPrice': 24900,\n",
       "  'brand': 'naturerepublic',\n",
       "  'volume': '50ml'}]"
      ]
     },
     "metadata": {},
     "output_type": "display_data"
    },
    {
     "data": {
      "text/plain": [
       "[{'name': '비타민 비파이브 에센스',\n",
       "  'url': 'https://www.naturerepublic.com/shop/goods_view.php?id=0000010573',\n",
       "  'image': ['http://lfyaklyqypvr852590.gcdn.ntruss.com/data/nature_data/images/product/00/00/01/05/73/b_0000010573.gif',\n",
       "   'http://lfyaklyqypvr852590.gcdn.ntruss.com/data/nature_data/images/addimg/00/00/01/05/73/b_00028494_add.gif',\n",
       "   'http://lfyaklyqypvr852590.gcdn.ntruss.com/data/nature_data/images/addimg/00/00/01/05/73/b_00028495_add.gif'],\n",
       "  'color': '#',\n",
       "  'category': 'HOME > 카테고리 > 스킨케어',\n",
       "  'salePrice': 24900,\n",
       "  'originalPrice': 24900,\n",
       "  'brand': 'naturerepublic',\n",
       "  'volume': '35ml'}]"
      ]
     },
     "metadata": {},
     "output_type": "display_data"
    },
    {
     "data": {
      "text/plain": [
       "[{'name': '아이슬란드 퍼스트 수분 에센스',\n",
       "  'url': 'https://www.naturerepublic.com/shop/goods_view.php?id=0000011085',\n",
       "  'image': ['http://lfyaklyqypvr852590.gcdn.ntruss.com/data/nature_data/images/product/00/00/01/10/85/b_0000011085.gif',\n",
       "   'http://lfyaklyqypvr852590.gcdn.ntruss.com/data/nature_data/images/addimg/00/00/01/10/85/b_00028949_add.gif'],\n",
       "  'color': '#',\n",
       "  'category': 'HOME > 카테고리 > 스킨케어',\n",
       "  'salePrice': 19900,\n",
       "  'originalPrice': 19900,\n",
       "  'brand': 'naturerepublic',\n",
       "  'volume': '50㎖'}]"
      ]
     },
     "metadata": {},
     "output_type": "display_data"
    },
    {
     "data": {
      "text/plain": [
       "[{'name': '셀파워 에센스',\n",
       "  'url': 'https://www.naturerepublic.com/shop/goods_view.php?id=0000009806',\n",
       "  'image': ['http://lfyaklyqypvr852590.gcdn.ntruss.com/data/nature_data/images/product/00/00/00/98/06/b_0000009806.gif',\n",
       "   'http://lfyaklyqypvr852590.gcdn.ntruss.com/data/nature_data/images/addimg/00/00/00/98/06/b_00027510_add.gif'],\n",
       "  'color': '#',\n",
       "  'category': 'HOME > 카테고리 > 스킨케어',\n",
       "  'salePrice': 35000,\n",
       "  'originalPrice': 35000,\n",
       "  'brand': 'naturerepublic',\n",
       "  'volume': '40㎖'}]"
      ]
     },
     "metadata": {},
     "output_type": "display_data"
    },
    {
     "data": {
      "text/plain": [
       "[{'name': '하와이안 프레시 클리어 토너',\n",
       "  'url': 'https://www.naturerepublic.com/shop/goods_view.php?id=0000009807',\n",
       "  'image': ['http://lfyaklyqypvr852590.gcdn.ntruss.com/data/nature_data/images/product/00/00/00/98/07/b_0000009807.gif'],\n",
       "  'color': '#',\n",
       "  'category': 'HOME > 카테고리 > 스킨케어',\n",
       "  'salePrice': 14000,\n",
       "  'originalPrice': 14000,\n",
       "  'brand': 'naturerepublic',\n",
       "  'volume': '270㎖'}]"
      ]
     },
     "metadata": {},
     "output_type": "display_data"
    },
    {
     "data": {
      "text/plain": [
       "[{'name': '허브 블렌딩 토너',\n",
       "  'url': 'https://www.naturerepublic.com/shop/goods_view.php?id=0000010575',\n",
       "  'image': ['http://lfyaklyqypvr852590.gcdn.ntruss.com/data/nature_data/images/product/00/00/01/05/75/b_0000010575.gif',\n",
       "   'http://lfyaklyqypvr852590.gcdn.ntruss.com/data/nature_data/images/addimg/00/00/01/05/75/b_00028498_add.gif'],\n",
       "  'color': '#',\n",
       "  'category': 'HOME > 카테고리 > 스킨케어',\n",
       "  'salePrice': 22900,\n",
       "  'originalPrice': 22900,\n",
       "  'brand': 'naturerepublic',\n",
       "  'volume': '150ml'}]"
      ]
     },
     "metadata": {},
     "output_type": "display_data"
    },
    {
     "data": {
      "text/plain": [
       "[{'name': '허브 블렌딩 에멀전',\n",
       "  'url': 'https://www.naturerepublic.com/shop/goods_view.php?id=0000010580',\n",
       "  'image': ['http://lfyaklyqypvr852590.gcdn.ntruss.com/data/nature_data/images/product/00/00/01/05/80/b_0000010580.gif'],\n",
       "  'color': '#',\n",
       "  'category': 'HOME > 카테고리 > 스킨케어',\n",
       "  'salePrice': 22900,\n",
       "  'originalPrice': 22900,\n",
       "  'brand': 'naturerepublic',\n",
       "  'volume': '150ml'}]"
      ]
     },
     "metadata": {},
     "output_type": "display_data"
    },
    {
     "data": {
      "text/plain": [
       "[{'name': '스네일 솔루션 아이크림',\n",
       "  'url': 'https://www.naturerepublic.com/shop/goods_view.php?id=0000010325',\n",
       "  'image': ['http://lfyaklyqypvr852590.gcdn.ntruss.com/data/nature_data/images/product/00/00/01/03/25/b_0000010325.gif',\n",
       "   'http://lfyaklyqypvr852590.gcdn.ntruss.com/data/nature_data/images/addimg/00/00/01/03/25/b_00028171_add.gif',\n",
       "   'http://lfyaklyqypvr852590.gcdn.ntruss.com/data/nature_data/images/addimg/00/00/01/03/25/b_00028172_add.gif',\n",
       "   'http://lfyaklyqypvr852590.gcdn.ntruss.com/data/nature_data/images/addimg/00/00/01/03/25/b_00028173_add.gif'],\n",
       "  'color': '#',\n",
       "  'category': 'HOME > 카테고리 > 스킨케어',\n",
       "  'salePrice': 33000,\n",
       "  'originalPrice': 33000,\n",
       "  'brand': 'naturerepublic',\n",
       "  'volume': '30㎖'}]"
      ]
     },
     "metadata": {},
     "output_type": "display_data"
    },
    {
     "data": {
      "text/plain": [
       "[{'name': '슈퍼 아쿠아 맥스 수분 에센스',\n",
       "  'url': 'https://www.naturerepublic.com/shop/goods_view.php?id=0000010329',\n",
       "  'image': ['http://lfyaklyqypvr852590.gcdn.ntruss.com/data/nature_data/images/product/00/00/01/03/29/b_0000010329.gif'],\n",
       "  'color': '#',\n",
       "  'category': 'HOME > 카테고리 > 스킨케어',\n",
       "  'salePrice': 15900,\n",
       "  'originalPrice': 15900,\n",
       "  'brand': 'naturerepublic',\n",
       "  'volume': '42ml'}]"
      ]
     },
     "metadata": {},
     "output_type": "display_data"
    },
    {
     "data": {
      "text/plain": [
       "[{'name': '불가리안 로즈 모이스처 에센스',\n",
       "  'url': 'https://www.naturerepublic.com/shop/goods_view.php?id=0000011613',\n",
       "  'image': ['http://lfyaklyqypvr852590.gcdn.ntruss.com/data/nature_data/images/product/00/00/01/16/13/b_0000011613.gif'],\n",
       "  'color': '#',\n",
       "  'category': 'HOME > 카테고리 > 스킨케어',\n",
       "  'salePrice': 3920,\n",
       "  'originalPrice': 4900,\n",
       "  'brand': 'naturerepublic',\n",
       "  'volume': '35ml'}]"
      ]
     },
     "metadata": {},
     "output_type": "display_data"
    },
    {
     "data": {
      "text/plain": [
       "[{'name': '슈퍼 아쿠아 맥스 프레시 수분크림 [지성용]',\n",
       "  'url': 'https://www.naturerepublic.com/shop/goods_view.php?id=0000010591',\n",
       "  'image': ['http://lfyaklyqypvr852590.gcdn.ntruss.com/data/nature_data/images/product/00/00/01/05/91/b_0000010591.gif',\n",
       "   'http://lfyaklyqypvr852590.gcdn.ntruss.com/data/nature_data/images/addimg/00/00/01/05/91/b_00028529_add.gif',\n",
       "   'http://lfyaklyqypvr852590.gcdn.ntruss.com/data/nature_data/images/addimg/00/00/01/05/91/b_00028530_add.gif'],\n",
       "  'color': '#',\n",
       "  'category': 'HOME > 카테고리 > 스킨케어',\n",
       "  'salePrice': 12500,\n",
       "  'originalPrice': 25000,\n",
       "  'brand': 'naturerepublic',\n",
       "  'volume': '80ml'}]"
      ]
     },
     "metadata": {},
     "output_type": "display_data"
    },
    {
     "data": {
      "text/plain": [
       "[{'name': '셀파워 아이크림',\n",
       "  'url': 'https://www.naturerepublic.com/shop/goods_view.php?id=0000009824',\n",
       "  'image': ['http://lfyaklyqypvr852590.gcdn.ntruss.com/data/nature_data/images/product/00/00/00/98/24/b_0000009824.gif',\n",
       "   'http://lfyaklyqypvr852590.gcdn.ntruss.com/data/nature_data/images/addimg/00/00/00/98/24/b_00027525_add.gif'],\n",
       "  'color': '#',\n",
       "  'category': 'HOME > 카테고리 > 스킨케어',\n",
       "  'salePrice': 35000,\n",
       "  'originalPrice': 35000,\n",
       "  'brand': 'naturerepublic',\n",
       "  'volume': '25㎖'}]"
      ]
     },
     "metadata": {},
     "output_type": "display_data"
    },
    {
     "data": {
      "text/plain": [
       "[{'name': '수딩 앤 모이스처 알로에베라 92% 수딩젤',\n",
       "  'url': 'https://www.naturerepublic.com/shop/goods_view.php?id=0000010336',\n",
       "  'image': ['http://lfyaklyqypvr852590.gcdn.ntruss.com/data/nature_data/images/product/00/00/01/03/36/b_0000010336.gif',\n",
       "   'http://lfyaklyqypvr852590.gcdn.ntruss.com/data/nature_data/images/addimg/00/00/01/03/36/b_00028190_add.gif',\n",
       "   'http://lfyaklyqypvr852590.gcdn.ntruss.com/data/nature_data/images/addimg/00/00/01/03/36/b_00028191_add.gif',\n",
       "   'http://lfyaklyqypvr852590.gcdn.ntruss.com/data/nature_data/images/addimg/00/00/01/03/36/b_00028192_add.gif'],\n",
       "  'color': '#',\n",
       "  'category': 'HOME > 카테고리 > 스킨케어',\n",
       "  'salePrice': 4400,\n",
       "  'originalPrice': 4400,\n",
       "  'brand': 'naturerepublic',\n",
       "  'volume': '300ml'}]"
      ]
     },
     "metadata": {},
     "output_type": "display_data"
    },
    {
     "data": {
      "text/plain": [
       "[{'name': '셀파워 데이 크림',\n",
       "  'url': 'https://www.naturerepublic.com/shop/goods_view.php?id=0000009829',\n",
       "  'image': ['http://lfyaklyqypvr852590.gcdn.ntruss.com/data/nature_data/images/product/00/00/00/98/29/b_0000009829.gif',\n",
       "   'http://lfyaklyqypvr852590.gcdn.ntruss.com/data/nature_data/images/addimg/00/00/00/98/29/b_00027536_add.gif'],\n",
       "  'color': '#',\n",
       "  'category': 'HOME > 카테고리 > 스킨케어',\n",
       "  'salePrice': 35000,\n",
       "  'originalPrice': 35000,\n",
       "  'brand': 'naturerepublic',\n",
       "  'volume': '55㎖'}]"
      ]
     },
     "metadata": {},
     "output_type": "display_data"
    },
    {
     "data": {
      "text/plain": [
       "[{'name': '아이슬란드 브라이트닝 수분크림',\n",
       "  'url': 'https://www.naturerepublic.com/shop/goods_view.php?id=0000010085',\n",
       "  'image': ['http://lfyaklyqypvr852590.gcdn.ntruss.com/data/nature_data/images/product/00/00/01/00/85/b_0000010085.gif',\n",
       "   'http://lfyaklyqypvr852590.gcdn.ntruss.com/data/nature_data/images/addimg/00/00/01/00/85/b_00027835_add.gif',\n",
       "   'http://lfyaklyqypvr852590.gcdn.ntruss.com/data/nature_data/images/addimg/00/00/01/00/85/b_00027836_add.gif',\n",
       "   'http://lfyaklyqypvr852590.gcdn.ntruss.com/data/nature_data/images/addimg/00/00/01/00/85/b_00027837_add.gif'],\n",
       "  'color': '#',\n",
       "  'category': 'HOME > 카테고리 > 스킨케어',\n",
       "  'salePrice': 24900,\n",
       "  'originalPrice': 24900,\n",
       "  'brand': 'naturerepublic',\n",
       "  'volume': '50㎖'}]"
      ]
     },
     "metadata": {},
     "output_type": "display_data"
    },
    {
     "data": {
      "text/plain": [
       "[{'name': '진생 로얄 실크 에센스',\n",
       "  'url': 'https://www.naturerepublic.com/shop/goods_view.php?id=0000010342',\n",
       "  'image': ['http://lfyaklyqypvr852590.gcdn.ntruss.com/data/nature_data/images/product/00/00/01/03/42/b_0000010342.gif',\n",
       "   'http://lfyaklyqypvr852590.gcdn.ntruss.com/data/nature_data/images/addimg/00/00/01/03/42/b_00028198_add.gif',\n",
       "   'http://lfyaklyqypvr852590.gcdn.ntruss.com/data/nature_data/images/addimg/00/00/01/03/42/b_00028199_add.gif'],\n",
       "  'color': '#',\n",
       "  'category': 'HOME > 카테고리 > 스킨케어',\n",
       "  'salePrice': 55000,\n",
       "  'originalPrice': 55000,\n",
       "  'brand': 'naturerepublic',\n",
       "  'volume': '40ml'}]"
      ]
     },
     "metadata": {},
     "output_type": "display_data"
    },
    {
     "data": {
      "text/plain": [
       "[{'name': '캘리포니아 알로에베라 80% 에센스',\n",
       "  'url': 'https://www.naturerepublic.com/shop/goods_view.php?id=0000010348',\n",
       "  'image': ['http://lfyaklyqypvr852590.gcdn.ntruss.com/data/nature_data/images/product/00/00/01/03/48/b_0000010348.gif',\n",
       "   'http://lfyaklyqypvr852590.gcdn.ntruss.com/data/nature_data/images/addimg/00/00/01/03/48/b_00028208_add.gif',\n",
       "   'http://lfyaklyqypvr852590.gcdn.ntruss.com/data/nature_data/images/addimg/00/00/01/03/48/b_00028209_add.gif'],\n",
       "  'color': '#',\n",
       "  'category': 'HOME > 카테고리 > 스킨케어',\n",
       "  'salePrice': 9900,\n",
       "  'originalPrice': 9900,\n",
       "  'brand': 'naturerepublic',\n",
       "  'volume': '35ml'}]"
      ]
     },
     "metadata": {},
     "output_type": "display_data"
    },
    {
     "data": {
      "text/plain": [
       "[{'name': '폴리네시아 라군워터 하이드로 스킨',\n",
       "  'url': 'https://www.naturerepublic.com/shop/goods_view.php?id=0000011374',\n",
       "  'image': ['http://lfyaklyqypvr852590.gcdn.ntruss.com/data/nature_data/images/product/00/00/01/13/74/b_0000011374.gif',\n",
       "   'http://lfyaklyqypvr852590.gcdn.ntruss.com/data/nature_data/images/addimg/00/00/01/13/74/b_00029218_add.gif',\n",
       "   'http://lfyaklyqypvr852590.gcdn.ntruss.com/data/nature_data/images/addimg/00/00/01/13/74/b_00029219_add.gif'],\n",
       "  'color': '#',\n",
       "  'category': 'HOME > 카테고리 > 스킨케어',\n",
       "  'salePrice': 7920,\n",
       "  'originalPrice': 9900,\n",
       "  'brand': 'naturerepublic',\n",
       "  'volume': '180ml'}]"
      ]
     },
     "metadata": {},
     "output_type": "display_data"
    },
    {
     "data": {
      "text/plain": [
       "[{'name': '비베놈 에멀전',\n",
       "  'url': 'https://www.naturerepublic.com/shop/goods_view.php?id=0000010351',\n",
       "  'image': ['http://lfyaklyqypvr852590.gcdn.ntruss.com/data/nature_data/images/product/00/00/01/03/51/b_0000010351.gif',\n",
       "   'http://lfyaklyqypvr852590.gcdn.ntruss.com/data/nature_data/images/addimg/00/00/01/03/51/b_00028217_add.gif',\n",
       "   'http://lfyaklyqypvr852590.gcdn.ntruss.com/data/nature_data/images/addimg/00/00/01/03/51/b_00028218_add.gif'],\n",
       "  'color': '#',\n",
       "  'category': 'HOME > 카테고리 > 스킨케어',\n",
       "  'salePrice': 12000,\n",
       "  'originalPrice': 12000,\n",
       "  'brand': 'naturerepublic',\n",
       "  'volume': '120ml'}]"
      ]
     },
     "metadata": {},
     "output_type": "display_data"
    },
    {
     "data": {
      "text/plain": [
       "[{'name': '허브 블렌딩 크림',\n",
       "  'url': 'https://www.naturerepublic.com/shop/goods_view.php?id=0000010610',\n",
       "  'image': ['http://lfyaklyqypvr852590.gcdn.ntruss.com/data/nature_data/images/product/00/00/01/06/10/b_0000010610.gif',\n",
       "   'http://lfyaklyqypvr852590.gcdn.ntruss.com/data/nature_data/images/addimg/00/00/01/06/10/b_00028555_add.gif'],\n",
       "  'color': '#',\n",
       "  'category': 'HOME > 카테고리 > 스킨케어',\n",
       "  'salePrice': 26900,\n",
       "  'originalPrice': 26900,\n",
       "  'brand': 'naturerepublic',\n",
       "  'volume': '50ml'}]"
      ]
     },
     "metadata": {},
     "output_type": "display_data"
    },
    {
     "data": {
      "text/plain": [
       "[{'name': '리얼 네이처 올리브 앰플',\n",
       "  'url': 'https://www.naturerepublic.com/shop/goods_view.php?id=0000010355',\n",
       "  'image': ['http://lfyaklyqypvr852590.gcdn.ntruss.com/data/nature_data/images/product/00/00/01/03/55/b_0000010355.gif',\n",
       "   'http://lfyaklyqypvr852590.gcdn.ntruss.com/data/nature_data/images/addimg/00/00/01/03/55/b_00028223_add.gif',\n",
       "   'http://lfyaklyqypvr852590.gcdn.ntruss.com/data/nature_data/images/addimg/00/00/01/03/55/b_00028224_add.gif'],\n",
       "  'color': '#',\n",
       "  'category': 'HOME > 카테고리 > 스킨케어',\n",
       "  'salePrice': 12500,\n",
       "  'originalPrice': 12500,\n",
       "  'brand': 'naturerepublic',\n",
       "  'volume': '30ml'}]"
      ]
     },
     "metadata": {},
     "output_type": "display_data"
    },
    {
     "data": {
      "text/plain": [
       "[{'name': '허브 블렌딩 아이크림',\n",
       "  'url': 'https://www.naturerepublic.com/shop/goods_view.php?id=0000010611',\n",
       "  'image': ['http://lfyaklyqypvr852590.gcdn.ntruss.com/data/nature_data/images/product/00/00/01/06/11/b_0000010611.gif'],\n",
       "  'color': '#',\n",
       "  'category': 'HOME > 카테고리 > 스킨케어',\n",
       "  'salePrice': 24900,\n",
       "  'originalPrice': 24900,\n",
       "  'brand': 'naturerepublic',\n",
       "  'volume': '25ml'}]"
      ]
     },
     "metadata": {},
     "output_type": "display_data"
    },
    {
     "data": {
      "text/plain": [
       "[{'name': '불가리안 로즈 모이스처 크림',\n",
       "  'url': 'https://www.naturerepublic.com/shop/goods_view.php?id=0000011379',\n",
       "  'image': ['http://lfyaklyqypvr852590.gcdn.ntruss.com/data/nature_data/images/product/00/00/01/13/79/b_0000011379.gif',\n",
       "   'http://lfyaklyqypvr852590.gcdn.ntruss.com/data/nature_data/images/addimg/00/00/01/13/79/b_00029226_add.gif'],\n",
       "  'color': '#',\n",
       "  'category': 'HOME > 카테고리 > 스킨케어',\n",
       "  'salePrice': 7120,\n",
       "  'originalPrice': 8900,\n",
       "  'brand': 'naturerepublic',\n",
       "  'volume': '100㎖'}]"
      ]
     },
     "metadata": {},
     "output_type": "display_data"
    },
    {
     "data": {
      "text/plain": [
       "[{'name': '비타민 비파이브 토너',\n",
       "  'url': 'https://www.naturerepublic.com/shop/goods_view.php?id=0000009844',\n",
       "  'image': ['http://lfyaklyqypvr852590.gcdn.ntruss.com/data/nature_data/images/product/00/00/00/98/44/b_0000009844.gif',\n",
       "   'http://lfyaklyqypvr852590.gcdn.ntruss.com/data/nature_data/images/addimg/00/00/00/98/44/b_00027550_add.gif'],\n",
       "  'color': '#',\n",
       "  'category': 'HOME > 카테고리 > 스킨케어',\n",
       "  'salePrice': 18900,\n",
       "  'originalPrice': 18900,\n",
       "  'brand': 'naturerepublic',\n",
       "  'volume': '150ml'}]"
      ]
     },
     "metadata": {},
     "output_type": "display_data"
    },
    {
     "data": {
      "text/plain": [
       "[{'name': '비베놈 미스트 에센스 50ml (소용량)',\n",
       "  'url': 'https://www.naturerepublic.com/shop/goods_view.php?id=0000010356',\n",
       "  'image': ['http://lfyaklyqypvr852590.gcdn.ntruss.com/data/nature_data/images/product/00/00/01/03/56/b_0000010356.gif',\n",
       "   'http://lfyaklyqypvr852590.gcdn.ntruss.com/data/nature_data/images/addimg/00/00/01/03/56/b_00028225_add.gif'],\n",
       "  'color': '#',\n",
       "  'category': 'HOME > 카테고리 > 스킨케어',\n",
       "  'salePrice': 7700,\n",
       "  'originalPrice': 7700,\n",
       "  'brand': 'naturerepublic',\n",
       "  'volume': '50ml'}]"
      ]
     },
     "metadata": {},
     "output_type": "display_data"
    },
    {
     "data": {
      "text/plain": [
       "[{'name': '폴리네시아 라군워터 하이드로 에멀젼',\n",
       "  'url': 'https://www.naturerepublic.com/shop/goods_view.php?id=0000011380',\n",
       "  'image': ['http://lfyaklyqypvr852590.gcdn.ntruss.com/data/nature_data/images/product/00/00/01/13/80/b_0000011380.gif',\n",
       "   'http://lfyaklyqypvr852590.gcdn.ntruss.com/data/nature_data/images/addimg/00/00/01/13/80/b_00029227_add.gif',\n",
       "   'http://lfyaklyqypvr852590.gcdn.ntruss.com/data/nature_data/images/addimg/00/00/01/13/80/b_00029228_add.gif'],\n",
       "  'color': '#',\n",
       "  'category': 'HOME > 카테고리 > 스킨케어',\n",
       "  'salePrice': 7920,\n",
       "  'originalPrice': 9900,\n",
       "  'brand': 'naturerepublic',\n",
       "  'volume': '180ml'}]"
      ]
     },
     "metadata": {},
     "output_type": "display_data"
    },
    {
     "data": {
      "text/plain": [
       "[{'name': '폴리네시아 라군워터 하이드로 에센스',\n",
       "  'url': 'https://www.naturerepublic.com/shop/goods_view.php?id=0000011381',\n",
       "  'image': ['http://lfyaklyqypvr852590.gcdn.ntruss.com/data/nature_data/images/product/00/00/01/13/81/b_0000011381.gif',\n",
       "   'http://lfyaklyqypvr852590.gcdn.ntruss.com/data/nature_data/images/addimg/00/00/01/13/81/b_00029229_add.gif',\n",
       "   'http://lfyaklyqypvr852590.gcdn.ntruss.com/data/nature_data/images/addimg/00/00/01/13/81/b_00029230_add.gif'],\n",
       "  'color': '#',\n",
       "  'category': 'HOME > 카테고리 > 스킨케어',\n",
       "  'salePrice': 8720,\n",
       "  'originalPrice': 10900,\n",
       "  'brand': 'naturerepublic',\n",
       "  'volume': '50ml'}]"
      ]
     },
     "metadata": {},
     "output_type": "display_data"
    },
    {
     "data": {
      "text/plain": [
       "[{'name': '폴리네시아 라군워터 하이드로 크림',\n",
       "  'url': 'https://www.naturerepublic.com/shop/goods_view.php?id=0000011382',\n",
       "  'image': ['http://lfyaklyqypvr852590.gcdn.ntruss.com/data/nature_data/images/product/00/00/01/13/82/b_0000011382.gif',\n",
       "   'http://lfyaklyqypvr852590.gcdn.ntruss.com/data/nature_data/images/addimg/00/00/01/13/82/b_00029231_add.gif',\n",
       "   'http://lfyaklyqypvr852590.gcdn.ntruss.com/data/nature_data/images/addimg/00/00/01/13/82/b_00029232_add.gif'],\n",
       "  'color': '#',\n",
       "  'category': 'HOME > 카테고리 > 스킨케어',\n",
       "  'salePrice': 8720,\n",
       "  'originalPrice': 10900,\n",
       "  'brand': 'naturerepublic',\n",
       "  'volume': '55ml'}]"
      ]
     },
     "metadata": {},
     "output_type": "display_data"
    },
    {
     "data": {
      "text/plain": [
       "[{'name': '율리에센셜수액',\n",
       "  'url': 'https://www.naturerepublic.com/shop/goods_view.php?id=0000009336',\n",
       "  'image': ['http://lfyaklyqypvr852590.gcdn.ntruss.com/data/nature_data/images/product/00/00/00/93/36/b_0000009336.gif'],\n",
       "  'color': '#',\n",
       "  'category': 'HOME > 카테고리 > 스킨케어',\n",
       "  'salePrice': 33000,\n",
       "  'originalPrice': 33000,\n",
       "  'brand': 'naturerepublic',\n",
       "  'volume': '120㎖'}]"
      ]
     },
     "metadata": {},
     "output_type": "display_data"
    },
    {
     "data": {
      "text/plain": [
       "[{'name': '율리유액',\n",
       "  'url': 'https://www.naturerepublic.com/shop/goods_view.php?id=0000009337',\n",
       "  'image': ['http://lfyaklyqypvr852590.gcdn.ntruss.com/data/nature_data/images/product/00/00/00/93/37/b_0000009337.gif'],\n",
       "  'color': '#',\n",
       "  'category': 'HOME > 카테고리 > 스킨케어',\n",
       "  'salePrice': 33000,\n",
       "  'originalPrice': 33000,\n",
       "  'brand': 'naturerepublic',\n",
       "  'volume': '120㎖'}]"
      ]
     },
     "metadata": {},
     "output_type": "display_data"
    },
    {
     "data": {
      "text/plain": [
       "[{'name': '리얼 스퀴즈 알로에베라 토너',\n",
       "  'url': 'https://www.naturerepublic.com/shop/goods_view.php?id=0000010106',\n",
       "  'image': ['http://lfyaklyqypvr852590.gcdn.ntruss.com/data/nature_data/images/product/00/00/01/01/06/b_0000010106.gif',\n",
       "   'http://lfyaklyqypvr852590.gcdn.ntruss.com/data/nature_data/images/addimg/00/00/01/01/06/b_00027854_add.gif',\n",
       "   'http://lfyaklyqypvr852590.gcdn.ntruss.com/data/nature_data/images/addimg/00/00/01/01/06/b_00027855_add.gif'],\n",
       "  'color': '#',\n",
       "  'category': 'HOME > 카테고리 > 스킨케어',\n",
       "  'salePrice': 14900,\n",
       "  'originalPrice': 14900,\n",
       "  'brand': 'naturerepublic',\n",
       "  'volume': '150ml'}]"
      ]
     },
     "metadata": {},
     "output_type": "display_data"
    },
    {
     "data": {
      "text/plain": [
       "[{'name': '슈퍼 아쿠아 맥스 모이스처 수분크림 [건성용]',\n",
       "  'url': 'https://www.naturerepublic.com/shop/goods_view.php?id=0000010618',\n",
       "  'image': ['http://lfyaklyqypvr852590.gcdn.ntruss.com/data/nature_data/images/product/00/00/01/06/18/b_0000010618.gif',\n",
       "   'http://lfyaklyqypvr852590.gcdn.ntruss.com/data/nature_data/images/addimg/00/00/01/06/18/b_00028570_add.gif',\n",
       "   'http://lfyaklyqypvr852590.gcdn.ntruss.com/data/nature_data/images/addimg/00/00/01/06/18/b_00028571_add.gif'],\n",
       "  'color': '#',\n",
       "  'category': 'HOME > 카테고리 > 스킨케어',\n",
       "  'salePrice': 12500,\n",
       "  'originalPrice': 25000,\n",
       "  'brand': 'naturerepublic',\n",
       "  'volume': '80ml'}]"
      ]
     },
     "metadata": {},
     "output_type": "display_data"
    },
    {
     "data": {
      "text/plain": [
       "[{'name': '슈퍼 아쿠아 맥스 수분 에멀젼',\n",
       "  'url': 'https://www.naturerepublic.com/shop/goods_view.php?id=0000010364',\n",
       "  'image': ['http://lfyaklyqypvr852590.gcdn.ntruss.com/data/nature_data/images/product/00/00/01/03/64/b_0000010364.gif'],\n",
       "  'color': '#',\n",
       "  'category': 'HOME > 카테고리 > 스킨케어',\n",
       "  'salePrice': 13900,\n",
       "  'originalPrice': 13900,\n",
       "  'brand': 'naturerepublic',\n",
       "  'volume': '150ml'}]"
      ]
     },
     "metadata": {},
     "output_type": "display_data"
    },
    {
     "data": {
      "text/plain": [
       "[{'name': '셀파워 에멀전',\n",
       "  'url': 'https://www.naturerepublic.com/shop/goods_view.php?id=0000009855',\n",
       "  'image': ['http://lfyaklyqypvr852590.gcdn.ntruss.com/data/nature_data/images/product/00/00/00/98/55/b_0000009855.gif',\n",
       "   'http://lfyaklyqypvr852590.gcdn.ntruss.com/data/nature_data/images/addimg/00/00/00/98/55/b_00027567_add.gif'],\n",
       "  'color': '#',\n",
       "  'category': 'HOME > 카테고리 > 스킨케어',\n",
       "  'salePrice': 25000,\n",
       "  'originalPrice': 25000,\n",
       "  'brand': 'naturerepublic',\n",
       "  'volume': '120㎖'}]"
      ]
     },
     "metadata": {},
     "output_type": "display_data"
    },
    {
     "data": {
      "text/plain": [
       "[{'name': '콜라겐 드림 90 스킨 부스터',\n",
       "  'url': 'https://www.naturerepublic.com/shop/goods_view.php?id=0000010369',\n",
       "  'image': ['http://lfyaklyqypvr852590.gcdn.ntruss.com/data/nature_data/images/product/00/00/01/03/69/b_0000010369.gif',\n",
       "   'http://lfyaklyqypvr852590.gcdn.ntruss.com/data/nature_data/images/addimg/00/00/01/03/69/b_00028230_add.gif',\n",
       "   'http://lfyaklyqypvr852590.gcdn.ntruss.com/data/nature_data/images/addimg/00/00/01/03/69/b_00028231_add.gif'],\n",
       "  'color': '#',\n",
       "  'category': 'HOME > 카테고리 > 스킨케어',\n",
       "  'salePrice': 20900,\n",
       "  'originalPrice': 20900,\n",
       "  'brand': 'naturerepublic',\n",
       "  'volume': '150ml'}]"
      ]
     },
     "metadata": {},
     "output_type": "display_data"
    },
    {
     "data": {
      "text/plain": [
       "[{'name': '하와이안 프레시 클리어 세럼',\n",
       "  'url': 'https://www.naturerepublic.com/shop/goods_view.php?id=0000010370',\n",
       "  'image': ['http://lfyaklyqypvr852590.gcdn.ntruss.com/data/nature_data/images/product/00/00/01/03/70/b_0000010370.gif',\n",
       "   'http://lfyaklyqypvr852590.gcdn.ntruss.com/data/nature_data/images/addimg/00/00/01/03/70/b_00028232_add.gif',\n",
       "   'http://lfyaklyqypvr852590.gcdn.ntruss.com/data/nature_data/images/addimg/00/00/01/03/70/b_00028233_add.gif',\n",
       "   'http://lfyaklyqypvr852590.gcdn.ntruss.com/data/nature_data/images/addimg/00/00/01/03/70/b_00028234_add.gif'],\n",
       "  'color': '#',\n",
       "  'category': 'HOME > 카테고리 > 스킨케어',\n",
       "  'salePrice': 14000,\n",
       "  'originalPrice': 14000,\n",
       "  'brand': 'naturerepublic',\n",
       "  'volume': '54㎖'}]"
      ]
     },
     "metadata": {},
     "output_type": "display_data"
    },
    {
     "data": {
      "text/plain": [
       "[{'name': '리얼 스퀴즈 알로에베라 에멀젼',\n",
       "  'url': 'https://www.naturerepublic.com/shop/goods_view.php?id=0000010115',\n",
       "  'image': ['http://lfyaklyqypvr852590.gcdn.ntruss.com/data/nature_data/images/product/00/00/01/01/15/b_0000010115.gif',\n",
       "   'http://lfyaklyqypvr852590.gcdn.ntruss.com/data/nature_data/images/addimg/00/00/01/01/15/b_00027873_add.gif',\n",
       "   'http://lfyaklyqypvr852590.gcdn.ntruss.com/data/nature_data/images/addimg/00/00/01/01/15/b_00027874_add.gif'],\n",
       "  'color': '#',\n",
       "  'category': 'HOME > 카테고리 > 스킨케어',\n",
       "  'salePrice': 14900,\n",
       "  'originalPrice': 14900,\n",
       "  'brand': 'naturerepublic',\n",
       "  'volume': '125ml'}]"
      ]
     },
     "metadata": {},
     "output_type": "display_data"
    },
    {
     "data": {
      "text/plain": [
       "[{'name': '진생 로얄 실크 토너',\n",
       "  'url': 'https://www.naturerepublic.com/shop/goods_view.php?id=0000010372',\n",
       "  'image': ['http://lfyaklyqypvr852590.gcdn.ntruss.com/data/nature_data/images/product/00/00/01/03/72/b_0000010372.gif',\n",
       "   'http://lfyaklyqypvr852590.gcdn.ntruss.com/data/nature_data/images/addimg/00/00/01/03/72/b_00028235_add.gif',\n",
       "   'http://lfyaklyqypvr852590.gcdn.ntruss.com/data/nature_data/images/addimg/00/00/01/03/72/b_00028236_add.gif'],\n",
       "  'color': '#',\n",
       "  'category': 'HOME > 카테고리 > 스킨케어',\n",
       "  'salePrice': 38000,\n",
       "  'originalPrice': 38000,\n",
       "  'brand': 'naturerepublic',\n",
       "  'volume': '120ml'}]"
      ]
     },
     "metadata": {},
     "output_type": "display_data"
    },
    {
     "data": {
      "text/plain": [
       "[{'name': '리얼 스퀴즈 알로에베라 에센스',\n",
       "  'url': 'https://www.naturerepublic.com/shop/goods_view.php?id=0000010121',\n",
       "  'image': ['http://lfyaklyqypvr852590.gcdn.ntruss.com/data/nature_data/images/product/00/00/01/01/21/b_0000010121.gif',\n",
       "   'http://lfyaklyqypvr852590.gcdn.ntruss.com/data/nature_data/images/addimg/00/00/01/01/21/b_00027883_add.gif',\n",
       "   'http://lfyaklyqypvr852590.gcdn.ntruss.com/data/nature_data/images/addimg/00/00/01/01/21/b_00027884_add.gif'],\n",
       "  'color': '#',\n",
       "  'category': 'HOME > 카테고리 > 스킨케어',\n",
       "  'salePrice': 16900,\n",
       "  'originalPrice': 16900,\n",
       "  'brand': 'naturerepublic',\n",
       "  'volume': '50ml'}]"
      ]
     },
     "metadata": {},
     "output_type": "display_data"
    },
    {
     "data": {
      "text/plain": [
       "[{'name': '콜라겐 드림 70 에멀전',\n",
       "  'url': 'https://www.naturerepublic.com/shop/goods_view.php?id=0000010377',\n",
       "  'image': ['http://lfyaklyqypvr852590.gcdn.ntruss.com/data/nature_data/images/product/00/00/01/03/77/b_0000010377.gif',\n",
       "   'http://lfyaklyqypvr852590.gcdn.ntruss.com/data/nature_data/images/addimg/00/00/01/03/77/b_00028240_add.gif',\n",
       "   'http://lfyaklyqypvr852590.gcdn.ntruss.com/data/nature_data/images/addimg/00/00/01/03/77/b_00028241_add.gif'],\n",
       "  'color': '#',\n",
       "  'category': 'HOME > 카테고리 > 스킨케어',\n",
       "  'salePrice': 20900,\n",
       "  'originalPrice': 20900,\n",
       "  'brand': 'naturerepublic',\n",
       "  'volume': '150ml'}]"
      ]
     },
     "metadata": {},
     "output_type": "display_data"
    },
    {
     "data": {
      "text/plain": [
       "[{'name': '수딩 앤 모이스처 알로에베라 92% 수딩젤 미스트',\n",
       "  'url': 'https://www.naturerepublic.com/shop/goods_view.php?id=0000010122',\n",
       "  'image': ['http://lfyaklyqypvr852590.gcdn.ntruss.com/data/nature_data/images/product/00/00/01/01/22/b_0000010122.gif'],\n",
       "  'color': '#',\n",
       "  'category': 'HOME > 카테고리 > 스킨케어',\n",
       "  'salePrice': 5500,\n",
       "  'originalPrice': 5500,\n",
       "  'brand': 'naturerepublic',\n",
       "  'volume': '150ml'}]"
      ]
     },
     "metadata": {},
     "output_type": "display_data"
    },
    {
     "data": {
      "text/plain": [
       "[{'name': '화이트 비타 플로랄 토너',\n",
       "  'url': 'https://www.naturerepublic.com/shop/goods_view.php?id=0000009867',\n",
       "  'image': ['http://lfyaklyqypvr852590.gcdn.ntruss.com/data/nature_data/images/product/00/00/00/98/67/b_0000009867.gif',\n",
       "   'http://lfyaklyqypvr852590.gcdn.ntruss.com/data/nature_data/images/addimg/00/00/00/98/67/b_00027582_add.gif'],\n",
       "  'color': '#',\n",
       "  'category': 'HOME > 카테고리 > 스킨케어',\n",
       "  'salePrice': 20900,\n",
       "  'originalPrice': 20900,\n",
       "  'brand': 'naturerepublic',\n",
       "  'volume': '150㎖'}]"
      ]
     },
     "metadata": {},
     "output_type": "display_data"
    },
    {
     "data": {
      "text/plain": [
       "[{'name': '화이트 비타 플로랄 에멀전',\n",
       "  'url': 'https://www.naturerepublic.com/shop/goods_view.php?id=0000009868',\n",
       "  'image': ['http://lfyaklyqypvr852590.gcdn.ntruss.com/data/nature_data/images/product/00/00/00/98/68/b_0000009868.gif',\n",
       "   'http://lfyaklyqypvr852590.gcdn.ntruss.com/data/nature_data/images/addimg/00/00/00/98/68/b_00027583_add.gif'],\n",
       "  'color': '#',\n",
       "  'category': 'HOME > 카테고리 > 스킨케어',\n",
       "  'salePrice': 20900,\n",
       "  'originalPrice': 20900,\n",
       "  'brand': 'naturerepublic',\n",
       "  'volume': '150㎖'}]"
      ]
     },
     "metadata": {},
     "output_type": "display_data"
    },
    {
     "data": {
      "text/plain": [
       "[{'name': '진생 로얄 실크 에멀전',\n",
       "  'url': 'https://www.naturerepublic.com/shop/goods_view.php?id=0000010382',\n",
       "  'image': ['http://lfyaklyqypvr852590.gcdn.ntruss.com/data/nature_data/images/product/00/00/01/03/82/b_0000010382.gif',\n",
       "   'http://lfyaklyqypvr852590.gcdn.ntruss.com/data/nature_data/images/addimg/00/00/01/03/82/b_00028246_add.gif',\n",
       "   'http://lfyaklyqypvr852590.gcdn.ntruss.com/data/nature_data/images/addimg/00/00/01/03/82/b_00028247_add.gif'],\n",
       "  'color': '#',\n",
       "  'category': 'HOME > 카테고리 > 스킨케어',\n",
       "  'salePrice': 38000,\n",
       "  'originalPrice': 38000,\n",
       "  'brand': 'naturerepublic',\n",
       "  'volume': '120ml'}]"
      ]
     },
     "metadata": {},
     "output_type": "display_data"
    },
    {
     "data": {
      "text/plain": [
       "[{'name': '쉐어버터 에센스로션',\n",
       "  'url': 'https://www.naturerepublic.com/shop/goods_view.php?id=0000007061',\n",
       "  'image': ['http://lfyaklyqypvr852590.gcdn.ntruss.com/data/nature_data/images/product/00/00/00/70/61/b_0000007061.gif',\n",
       "   'http://lfyaklyqypvr852590.gcdn.ntruss.com/data/nature_data/images/addimg/00/00/00/70/61/b_00023639_add.gif'],\n",
       "  'color': '#',\n",
       "  'category': 'HOME > 카테고리 > 스킨케어',\n",
       "  'salePrice': 14900,\n",
       "  'originalPrice': 14900,\n",
       "  'brand': 'naturerepublic',\n",
       "  'volume': '120㎖'}]"
      ]
     },
     "metadata": {},
     "output_type": "display_data"
    },
    {
     "data": {
      "text/plain": [
       "[{'name': '그린더마 마일드 토너',\n",
       "  'url': 'https://www.naturerepublic.com/shop/goods_view.php?id=0000010134',\n",
       "  'image': ['http://lfyaklyqypvr852590.gcdn.ntruss.com/data/nature_data/images/product/00/00/01/01/34/b_0000010134.gif'],\n",
       "  'color': '#',\n",
       "  'category': 'HOME > 카테고리 > 스킨케어',\n",
       "  'salePrice': 16000,\n",
       "  'originalPrice': 16000,\n",
       "  'brand': 'naturerepublic',\n",
       "  'volume': '200㎖'}]"
      ]
     },
     "metadata": {},
     "output_type": "display_data"
    },
    {
     "data": {
      "text/plain": [
       "[{'name': '스네일 솔루션 스킨 부스터',\n",
       "  'url': 'https://www.naturerepublic.com/shop/goods_view.php?id=0000010646',\n",
       "  'image': ['http://lfyaklyqypvr852590.gcdn.ntruss.com/data/nature_data/images/product/00/00/01/06/46/b_0000010646.gif'],\n",
       "  'color': '#',\n",
       "  'category': 'HOME > 카테고리 > 스킨케어',\n",
       "  'salePrice': 25000,\n",
       "  'originalPrice': 25000,\n",
       "  'brand': 'naturerepublic',\n",
       "  'volume': '120'}]"
      ]
     },
     "metadata": {},
     "output_type": "display_data"
    },
    {
     "data": {
      "text/plain": [
       "[{'name': '퓨어 비타 화이트 로션',\n",
       "  'url': 'https://www.naturerepublic.com/shop/goods_view.php?id=0000009879',\n",
       "  'image': ['http://lfyaklyqypvr852590.gcdn.ntruss.com/data/nature_data/images/product/00/00/00/98/79/b_0000009879.gif',\n",
       "   'http://lfyaklyqypvr852590.gcdn.ntruss.com/data/nature_data/images/addimg/00/00/00/98/79/b_00027593_add.gif',\n",
       "   'http://lfyaklyqypvr852590.gcdn.ntruss.com/data/nature_data/images/addimg/00/00/00/98/79/b_00027594_add.gif',\n",
       "   'http://lfyaklyqypvr852590.gcdn.ntruss.com/data/nature_data/images/addimg/00/00/00/98/79/b_00027595_add.gif',\n",
       "   'http://lfyaklyqypvr852590.gcdn.ntruss.com/data/nature_data/images/addimg/00/00/00/98/79/b_00027596_add.gif'],\n",
       "  'color': '#',\n",
       "  'category': 'HOME > 카테고리 > 스킨케어',\n",
       "  'salePrice': 12000,\n",
       "  'originalPrice': 12000,\n",
       "  'brand': 'naturerepublic',\n",
       "  'volume': '100g'}]"
      ]
     },
     "metadata": {},
     "output_type": "display_data"
    },
    {
     "data": {
      "text/plain": [
       "[{'name': '허브 블렌딩 미스트',\n",
       "  'url': 'https://www.naturerepublic.com/shop/goods_view.php?id=0000010392',\n",
       "  'image': ['http://lfyaklyqypvr852590.gcdn.ntruss.com/data/nature_data/images/product/00/00/01/03/92/b_0000010392.gif',\n",
       "   'http://lfyaklyqypvr852590.gcdn.ntruss.com/data/nature_data/images/addimg/00/00/01/03/92/b_00028255_add.gif',\n",
       "   'http://lfyaklyqypvr852590.gcdn.ntruss.com/data/nature_data/images/addimg/00/00/01/03/92/b_00028256_add.gif'],\n",
       "  'color': '#',\n",
       "  'category': 'HOME > 카테고리 > 스킨케어',\n",
       "  'salePrice': 10900,\n",
       "  'originalPrice': 10900,\n",
       "  'brand': 'naturerepublic',\n",
       "  'volume': '80㎖'}]"
      ]
     },
     "metadata": {},
     "output_type": "display_data"
    },
    {
     "data": {
      "text/plain": [
       "[{'name': '캘리포니아 알로에 베라 80% 젤 크림',\n",
       "  'url': 'https://www.naturerepublic.com/shop/goods_view.php?id=0000009625',\n",
       "  'image': ['http://lfyaklyqypvr852590.gcdn.ntruss.com/data/nature_data/images/product/00/00/00/96/25/b_0000009625.gif',\n",
       "   'http://lfyaklyqypvr852590.gcdn.ntruss.com/data/nature_data/images/addimg/00/00/00/96/25/b_00027333_add.gif'],\n",
       "  'color': '#',\n",
       "  'category': 'HOME > 카테고리 > 스킨케어',\n",
       "  'salePrice': 9900,\n",
       "  'originalPrice': 9900,\n",
       "  'brand': 'naturerepublic',\n",
       "  'volume': '50㎖'}]"
      ]
     },
     "metadata": {},
     "output_type": "display_data"
    },
    {
     "data": {
      "text/plain": [
       "[{'name': '쉐어 버터 토너',\n",
       "  'url': 'https://www.naturerepublic.com/shop/goods_view.php?id=0000010403',\n",
       "  'image': ['http://lfyaklyqypvr852590.gcdn.ntruss.com/data/nature_data/images/product/00/00/01/04/03/b_0000010403.gif'],\n",
       "  'color': '#',\n",
       "  'category': 'HOME > 카테고리 > 스킨케어',\n",
       "  'salePrice': 14900,\n",
       "  'originalPrice': 14900,\n",
       "  'brand': 'naturerepublic',\n",
       "  'volume': '150ml'}]"
      ]
     },
     "metadata": {},
     "output_type": "display_data"
    },
    {
     "data": {
      "text/plain": [
       "[{'name': '콜라겐 드림 70 아이크림',\n",
       "  'url': 'https://www.naturerepublic.com/shop/goods_view.php?id=0000010405',\n",
       "  'image': ['http://lfyaklyqypvr852590.gcdn.ntruss.com/data/nature_data/images/product/00/00/01/04/05/b_0000010405.gif',\n",
       "   'http://lfyaklyqypvr852590.gcdn.ntruss.com/data/nature_data/images/addimg/00/00/01/04/05/b_00028270_add.gif',\n",
       "   'http://lfyaklyqypvr852590.gcdn.ntruss.com/data/nature_data/images/addimg/00/00/01/04/05/b_00028271_add.gif'],\n",
       "  'color': '#',\n",
       "  'category': 'HOME > 카테고리 > 스킨케어',\n",
       "  'salePrice': 24900,\n",
       "  'originalPrice': 24900,\n",
       "  'brand': 'naturerepublic',\n",
       "  'volume': '25ml'}]"
      ]
     },
     "metadata": {},
     "output_type": "display_data"
    },
    {
     "data": {
      "text/plain": [
       "[{'name': '캘리포니아 알로에베라 74 쿨링 아이 세럼',\n",
       "  'url': 'https://www.naturerepublic.com/shop/goods_view.php?id=0000010407',\n",
       "  'image': ['http://lfyaklyqypvr852590.gcdn.ntruss.com/data/nature_data/images/product/00/00/01/04/07/b_0000010407.gif',\n",
       "   'http://lfyaklyqypvr852590.gcdn.ntruss.com/data/nature_data/images/addimg/00/00/01/04/07/b_00028273_add.gif',\n",
       "   'http://lfyaklyqypvr852590.gcdn.ntruss.com/data/nature_data/images/addimg/00/00/01/04/07/b_00028274_add.gif',\n",
       "   'http://lfyaklyqypvr852590.gcdn.ntruss.com/data/nature_data/images/addimg/00/00/01/04/07/b_00028275_add.gif',\n",
       "   'http://lfyaklyqypvr852590.gcdn.ntruss.com/data/nature_data/images/addimg/00/00/01/04/07/b_00028276_add.gif'],\n",
       "  'color': '#',\n",
       "  'category': 'HOME > 카테고리 > 스킨케어',\n",
       "  'salePrice': 10900,\n",
       "  'originalPrice': 10900,\n",
       "  'brand': 'naturerepublic',\n",
       "  'volume': '15ml'}]"
      ]
     },
     "metadata": {},
     "output_type": "display_data"
    },
    {
     "data": {
      "text/plain": [
       "[{'name': '율리 수면고 기획 세트',\n",
       "  'url': 'https://www.naturerepublic.com/shop/goods_view.php?id=0000010410',\n",
       "  'image': ['http://lfyaklyqypvr852590.gcdn.ntruss.com/data/nature_data/images/product/00/00/01/04/10/b_0000010410.gif',\n",
       "   'http://lfyaklyqypvr852590.gcdn.ntruss.com/data/nature_data/images/addimg/00/00/01/04/10/b_00028279_add.gif',\n",
       "   'http://lfyaklyqypvr852590.gcdn.ntruss.com/data/nature_data/images/addimg/00/00/01/04/10/b_00028280_add.gif',\n",
       "   'http://lfyaklyqypvr852590.gcdn.ntruss.com/data/nature_data/images/addimg/00/00/01/04/10/b_00028281_add.gif',\n",
       "   'http://lfyaklyqypvr852590.gcdn.ntruss.com/data/nature_data/images/addimg/00/00/01/04/10/b_00028282_add.gif'],\n",
       "  'color': '#',\n",
       "  'category': 'HOME > 카테고리 > 스킨케어',\n",
       "  'salePrice': 50000,\n",
       "  'originalPrice': 50000,\n",
       "  'brand': 'naturerepublic',\n",
       "  'volume': '크림 60g 외 상세페이지 참조'}]"
      ]
     },
     "metadata": {},
     "output_type": "display_data"
    },
    {
     "data": {
      "text/plain": [
       "[{'name': '슈퍼 아쿠아 맥스 컴비네이션 수분 크림 [복합성용]',\n",
       "  'url': 'https://www.naturerepublic.com/shop/goods_view.php?id=0000010668',\n",
       "  'image': ['http://lfyaklyqypvr852590.gcdn.ntruss.com/data/nature_data/images/product/00/00/01/06/68/b_0000010668.gif',\n",
       "   'http://lfyaklyqypvr852590.gcdn.ntruss.com/data/nature_data/images/addimg/00/00/01/06/68/b_00028608_add.gif',\n",
       "   'http://lfyaklyqypvr852590.gcdn.ntruss.com/data/nature_data/images/addimg/00/00/01/06/68/b_00028609_add.gif'],\n",
       "  'color': '#',\n",
       "  'category': 'HOME > 카테고리 > 스킨케어',\n",
       "  'salePrice': 12500,\n",
       "  'originalPrice': 25000,\n",
       "  'brand': 'naturerepublic',\n",
       "  'volume': '80 ml'}]"
      ]
     },
     "metadata": {},
     "output_type": "display_data"
    },
    {
     "data": {
      "text/plain": [
       "[{'name': '[GreenDeal] 진생 로얄 실크 링클업 스팟 (201903 까지)',\n",
       "  'url': 'https://www.naturerepublic.com/shop/goods_view.php?id=0000010413',\n",
       "  'image': ['http://lfyaklyqypvr852590.gcdn.ntruss.com/data/nature_data/images/product/00/00/01/04/13/b_0000010413.gif',\n",
       "   'http://lfyaklyqypvr852590.gcdn.ntruss.com/data/nature_data/images/addimg/00/00/01/04/13/b_00028289_add.gif',\n",
       "   'http://lfyaklyqypvr852590.gcdn.ntruss.com/data/nature_data/images/addimg/00/00/01/04/13/b_00028290_add.gif',\n",
       "   'http://lfyaklyqypvr852590.gcdn.ntruss.com/data/nature_data/images/addimg/00/00/01/04/13/b_00028291_add.gif'],\n",
       "  'color': '#',\n",
       "  'category': 'HOME > 카테고리 > 스킨케어',\n",
       "  'salePrice': 15000,\n",
       "  'originalPrice': 50000,\n",
       "  'brand': 'naturerepublic',\n",
       "  'volume': '6.5ml+리필용 6.5ml'}]"
      ]
     },
     "metadata": {},
     "output_type": "display_data"
    },
    {
     "data": {
      "text/plain": [
       "[{'name': '콜라겐 드림 2종 기획 세트',\n",
       "  'url': 'https://www.naturerepublic.com/shop/goods_view.php?id=0000010415',\n",
       "  'image': ['http://lfyaklyqypvr852590.gcdn.ntruss.com/data/nature_data/images/product/00/00/01/04/15/b_0000010415.gif',\n",
       "   'http://lfyaklyqypvr852590.gcdn.ntruss.com/data/nature_data/images/addimg/00/00/01/04/15/b_00028293_add.gif',\n",
       "   'http://lfyaklyqypvr852590.gcdn.ntruss.com/data/nature_data/images/addimg/00/00/01/04/15/b_00028294_add.gif',\n",
       "   'http://lfyaklyqypvr852590.gcdn.ntruss.com/data/nature_data/images/addimg/00/00/01/04/15/b_00028295_add.gif',\n",
       "   'http://lfyaklyqypvr852590.gcdn.ntruss.com/data/nature_data/images/addimg/00/00/01/04/15/b_00028296_add.gif'],\n",
       "  'color': '#',\n",
       "  'category': 'HOME > 카테고리 > 스킨케어',\n",
       "  'salePrice': 41800,\n",
       "  'originalPrice': 41800,\n",
       "  'brand': 'naturerepublic',\n",
       "  'volume': '2종 세트'}]"
      ]
     },
     "metadata": {},
     "output_type": "display_data"
    },
    {
     "data": {
      "text/plain": [
       "[{'name': '리얼 스퀴즈 알로에베라 안개분사 미스트',\n",
       "  'url': 'https://www.naturerepublic.com/shop/goods_view.php?id=0000010672',\n",
       "  'image': ['http://lfyaklyqypvr852590.gcdn.ntruss.com/data/nature_data/images/product/00/00/01/06/72/b_0000010672.gif',\n",
       "   'http://lfyaklyqypvr852590.gcdn.ntruss.com/data/nature_data/images/addimg/00/00/01/06/72/b_00028614_add.gif',\n",
       "   'http://lfyaklyqypvr852590.gcdn.ntruss.com/data/nature_data/images/addimg/00/00/01/06/72/b_00028615_add.gif'],\n",
       "  'color': '#',\n",
       "  'category': 'HOME > 카테고리 > 스킨케어',\n",
       "  'salePrice': 12000,\n",
       "  'originalPrice': 12000,\n",
       "  'brand': 'naturerepublic',\n",
       "  'volume': '95ml'}]"
      ]
     },
     "metadata": {},
     "output_type": "display_data"
    },
    {
     "data": {
      "text/plain": [
       "[{'name': '스네일 솔루션 에멀전',\n",
       "  'url': 'https://www.naturerepublic.com/shop/goods_view.php?id=0000010676',\n",
       "  'image': ['http://lfyaklyqypvr852590.gcdn.ntruss.com/data/nature_data/images/product/00/00/01/06/76/b_0000010676.gif'],\n",
       "  'color': '#',\n",
       "  'category': 'HOME > 카테고리 > 스킨케어',\n",
       "  'salePrice': 25000,\n",
       "  'originalPrice': 25000,\n",
       "  'brand': 'naturerepublic',\n",
       "  'volume': '120ml'}]"
      ]
     },
     "metadata": {},
     "output_type": "display_data"
    },
    {
     "data": {
      "text/plain": [
       "[{'name': '아르간 20º 에센셜 토너',\n",
       "  'url': 'https://www.naturerepublic.com/shop/goods_view.php?id=0000010421',\n",
       "  'image': ['http://lfyaklyqypvr852590.gcdn.ntruss.com/data/nature_data/images/product/00/00/01/04/21/b_0000010421.gif',\n",
       "   'http://lfyaklyqypvr852590.gcdn.ntruss.com/data/nature_data/images/addimg/00/00/01/04/21/b_00028305_add.gif',\n",
       "   'http://lfyaklyqypvr852590.gcdn.ntruss.com/data/nature_data/images/addimg/00/00/01/04/21/b_00028306_add.gif'],\n",
       "  'color': '#',\n",
       "  'category': 'HOME > 카테고리 > 스킨케어',\n",
       "  'salePrice': 14900,\n",
       "  'originalPrice': 14900,\n",
       "  'brand': 'naturerepublic',\n",
       "  'volume': '170ml'}]"
      ]
     },
     "metadata": {},
     "output_type": "display_data"
    },
    {
     "data": {
      "text/plain": [
       "[{'name': '셀파워 에센셜 스킨',\n",
       "  'url': 'https://www.naturerepublic.com/shop/goods_view.php?id=0000010422',\n",
       "  'image': ['http://lfyaklyqypvr852590.gcdn.ntruss.com/data/nature_data/images/product/00/00/01/04/22/b_0000010422.gif',\n",
       "   'http://lfyaklyqypvr852590.gcdn.ntruss.com/data/nature_data/images/addimg/00/00/01/04/22/b_00028307_add.gif'],\n",
       "  'color': '#',\n",
       "  'category': 'HOME > 카테고리 > 스킨케어',\n",
       "  'salePrice': 25000,\n",
       "  'originalPrice': 25000,\n",
       "  'brand': 'naturerepublic',\n",
       "  'volume': '120㎖'}]"
      ]
     },
     "metadata": {},
     "output_type": "display_data"
    },
    {
     "data": {
      "text/plain": [
       "[{'name': '허브 블렌딩 에센스(대용량)',\n",
       "  'url': 'https://www.naturerepublic.com/shop/goods_view.php?id=0000010423',\n",
       "  'image': ['http://lfyaklyqypvr852590.gcdn.ntruss.com/data/nature_data/images/product/00/00/01/04/23/b_0000010423.gif'],\n",
       "  'color': '#',\n",
       "  'category': 'HOME > 카테고리 > 스킨케어',\n",
       "  'salePrice': 26600,\n",
       "  'originalPrice': 38000,\n",
       "  'brand': 'naturerepublic',\n",
       "  'volume': '100㎖'}]"
      ]
     },
     "metadata": {},
     "output_type": "display_data"
    },
    {
     "data": {
      "text/plain": [
       "[{'name': '콜라겐 드림 50 올인원 래디언스 톤 업 크림 SPF35PA++',\n",
       "  'url': 'https://www.naturerepublic.com/shop/goods_view.php?id=0000010679',\n",
       "  'image': ['http://lfyaklyqypvr852590.gcdn.ntruss.com/data/nature_data/images/product/00/00/01/06/79/b_0000010679.gif',\n",
       "   'http://lfyaklyqypvr852590.gcdn.ntruss.com/data/nature_data/images/addimg/00/00/01/06/79/b_00028624_add.gif'],\n",
       "  'color': '#',\n",
       "  'category': 'HOME > 카테고리 > 스킨케어',\n",
       "  'salePrice': 26900,\n",
       "  'originalPrice': 26900,\n",
       "  'brand': 'naturerepublic',\n",
       "  'volume': '50ml'}]"
      ]
     },
     "metadata": {},
     "output_type": "display_data"
    },
    {
     "data": {
      "text/plain": [
       "[{'name': '그린더마 마일드 로션',\n",
       "  'url': 'https://www.naturerepublic.com/shop/goods_view.php?id=0000010680',\n",
       "  'image': ['http://lfyaklyqypvr852590.gcdn.ntruss.com/data/nature_data/images/product/00/00/01/06/80/b_0000010680.gif'],\n",
       "  'color': '#',\n",
       "  'category': 'HOME > 카테고리 > 스킨케어',\n",
       "  'salePrice': 16000,\n",
       "  'originalPrice': 16000,\n",
       "  'brand': 'naturerepublic',\n",
       "  'volume': '200㎖'}]"
      ]
     },
     "metadata": {},
     "output_type": "display_data"
    },
    {
     "data": {
      "text/plain": [
       "[{'name': '아르간20º 오일 에센스',\n",
       "  'url': 'https://www.naturerepublic.com/shop/goods_view.php?id=0000010427',\n",
       "  'image': ['http://lfyaklyqypvr852590.gcdn.ntruss.com/data/nature_data/images/product/00/00/01/04/27/b_0000010427.gif',\n",
       "   'http://lfyaklyqypvr852590.gcdn.ntruss.com/data/nature_data/images/addimg/00/00/01/04/27/b_00028309_add.gif',\n",
       "   'http://lfyaklyqypvr852590.gcdn.ntruss.com/data/nature_data/images/addimg/00/00/01/04/27/b_00028310_add.gif'],\n",
       "  'color': '#',\n",
       "  'category': 'HOME > 카테고리 > 스킨케어',\n",
       "  'salePrice': 16900,\n",
       "  'originalPrice': 16900,\n",
       "  'brand': 'naturerepublic',\n",
       "  'volume': '40ml'}]"
      ]
     },
     "metadata": {},
     "output_type": "display_data"
    },
    {
     "data": {
      "text/plain": [
       "[{'name': '불가리안 로즈 모이스처 토너',\n",
       "  'url': 'https://www.naturerepublic.com/shop/goods_view.php?id=0000011707',\n",
       "  'image': ['http://lfyaklyqypvr852590.gcdn.ntruss.com/data/nature_data/images/product/00/00/01/17/07/b_0000011707.gif',\n",
       "   'http://lfyaklyqypvr852590.gcdn.ntruss.com/data/nature_data/images/addimg/00/00/01/17/07/b_00029626_add.gif'],\n",
       "  'color': '#',\n",
       "  'category': 'HOME > 카테고리 > 스킨케어',\n",
       "  'salePrice': 3920,\n",
       "  'originalPrice': 4900,\n",
       "  'brand': 'naturerepublic',\n",
       "  'volume': '155 ml'}]"
      ]
     },
     "metadata": {},
     "output_type": "display_data"
    },
    {
     "data": {
      "text/plain": [
       "[{'name': '불가리안 로즈 모이스처 에멀젼',\n",
       "  'url': 'https://www.naturerepublic.com/shop/goods_view.php?id=0000011708',\n",
       "  'image': ['http://lfyaklyqypvr852590.gcdn.ntruss.com/data/nature_data/images/product/00/00/01/17/08/b_0000011708.gif'],\n",
       "  'color': '#',\n",
       "  'category': 'HOME > 카테고리 > 스킨케어',\n",
       "  'salePrice': 3920,\n",
       "  'originalPrice': 4900,\n",
       "  'brand': 'naturerepublic',\n",
       "  'volume': '155ml'}]"
      ]
     },
     "metadata": {},
     "output_type": "display_data"
    },
    {
     "data": {
      "text/plain": [
       "[{'name': '수딩 앤 모이스처 천년초 92% 수딩 젤',\n",
       "  'url': 'https://www.naturerepublic.com/shop/goods_view.php?id=0000009917',\n",
       "  'image': ['http://lfyaklyqypvr852590.gcdn.ntruss.com/data/nature_data/images/product/00/00/00/99/17/b_0000009917.gif'],\n",
       "  'color': '#',\n",
       "  'category': 'HOME > 카테고리 > 스킨케어',\n",
       "  'salePrice': 7700,\n",
       "  'originalPrice': 7700,\n",
       "  'brand': 'naturerepublic',\n",
       "  'volume': '250㎖'}]"
      ]
     },
     "metadata": {},
     "output_type": "display_data"
    },
    {
     "data": {
      "text/plain": [
       "[{'name': '[엑소에디션] 촉촉 보습 스페셜 컬렉션 (세훈/디오/수호/카이)',\n",
       "  'url': 'https://www.naturerepublic.com/shop/goods_view.php?id=0000010689',\n",
       "  'image': ['http://lfyaklyqypvr852590.gcdn.ntruss.com/data/nature_data/images/product/00/00/01/06/89/b_0000010689.gif',\n",
       "   'http://lfyaklyqypvr852590.gcdn.ntruss.com/data/nature_data/images/addimg/00/00/01/06/89/b_00028633_add.gif',\n",
       "   'http://lfyaklyqypvr852590.gcdn.ntruss.com/data/nature_data/images/addimg/00/00/01/06/89/b_00028634_add.gif'],\n",
       "  'color': '#',\n",
       "  'category': 'HOME > 카테고리 > 바디&헤어',\n",
       "  'salePrice': 25900,\n",
       "  'originalPrice': 25900,\n",
       "  'brand': 'naturerepublic',\n",
       "  'volume': '30ml+30ml+40ml+2.5g'}]"
      ]
     },
     "metadata": {},
     "output_type": "display_data"
    },
    {
     "data": {
      "text/plain": [
       "[{'name': '수딩 앤 모이스처 알로에베라 아이스 수딩젤',\n",
       "  'url': 'https://www.naturerepublic.com/shop/goods_view.php?id=0000010690',\n",
       "  'image': ['http://lfyaklyqypvr852590.gcdn.ntruss.com/data/nature_data/images/product/00/00/01/06/90/b_0000010690.gif',\n",
       "   'http://lfyaklyqypvr852590.gcdn.ntruss.com/data/nature_data/images/addimg/00/00/01/06/90/b_00028635_add.gif'],\n",
       "  'color': '#',\n",
       "  'category': 'HOME > 카테고리 > 스킨케어',\n",
       "  'salePrice': 9900,\n",
       "  'originalPrice': 9900,\n",
       "  'brand': 'naturerepublic',\n",
       "  'volume': '150㎖'}]"
      ]
     },
     "metadata": {},
     "output_type": "display_data"
    },
    {
     "data": {
      "text/plain": [
       "[{'name': '수딩 앤 모이스처 알로에베라 90% 토너',\n",
       "  'url': 'https://www.naturerepublic.com/shop/goods_view.php?id=0000009926',\n",
       "  'image': ['http://lfyaklyqypvr852590.gcdn.ntruss.com/data/nature_data/images/product/00/00/00/99/26/b_0000009926.gif',\n",
       "   'http://lfyaklyqypvr852590.gcdn.ntruss.com/data/nature_data/images/addimg/00/00/00/99/26/b_00027654_add.gif'],\n",
       "  'color': '#',\n",
       "  'category': 'HOME > 카테고리 > 스킨케어',\n",
       "  'salePrice': 8800,\n",
       "  'originalPrice': 8800,\n",
       "  'brand': 'naturerepublic',\n",
       "  'volume': '160ml'}]"
      ]
     },
     "metadata": {},
     "output_type": "display_data"
    },
    {
     "data": {
      "text/plain": [
       "[{'name': '시티케어 마린워터 메이크업 픽서',\n",
       "  'url': 'https://www.naturerepublic.com/shop/goods_view.php?id=0000010438',\n",
       "  'image': ['http://lfyaklyqypvr852590.gcdn.ntruss.com/data/nature_data/images/product/00/00/01/04/38/b_0000010438.gif'],\n",
       "  'color': '#',\n",
       "  'category': 'HOME > 카테고리 > 스킨케어',\n",
       "  'salePrice': 11900,\n",
       "  'originalPrice': 11900,\n",
       "  'brand': 'naturerepublic',\n",
       "  'volume': '115㎖'}]"
      ]
     },
     "metadata": {},
     "output_type": "display_data"
    },
    {
     "data": {
      "text/plain": [
       "[{'name': '리얼 네이처 올리브 에센스',\n",
       "  'url': 'https://www.naturerepublic.com/shop/goods_view.php?id=0000010698',\n",
       "  'image': ['http://lfyaklyqypvr852590.gcdn.ntruss.com/data/nature_data/images/product/00/00/01/06/98/b_0000010698.gif',\n",
       "   'http://lfyaklyqypvr852590.gcdn.ntruss.com/data/nature_data/images/addimg/00/00/01/06/98/b_00028642_add.gif',\n",
       "   'http://lfyaklyqypvr852590.gcdn.ntruss.com/data/nature_data/images/addimg/00/00/01/06/98/b_00028643_add.gif'],\n",
       "  'color': '#',\n",
       "  'category': 'HOME > 카테고리 > 스킨케어',\n",
       "  'salePrice': 12500,\n",
       "  'originalPrice': 12500,\n",
       "  'brand': 'naturerepublic',\n",
       "  'volume': '50ml'}]"
      ]
     },
     "metadata": {},
     "output_type": "display_data"
    },
    {
     "data": {
      "text/plain": [
       "[{'name': '그린더마 마일드 크림',\n",
       "  'url': 'https://www.naturerepublic.com/shop/goods_view.php?id=0000010444',\n",
       "  'image': ['http://lfyaklyqypvr852590.gcdn.ntruss.com/data/nature_data/images/product/00/00/01/04/44/b_0000010444.gif'],\n",
       "  'color': '#',\n",
       "  'category': 'HOME > 카테고리 > 스킨케어',\n",
       "  'salePrice': 25000,\n",
       "  'originalPrice': 25000,\n",
       "  'brand': 'naturerepublic',\n",
       "  'volume': '190㎖'}]"
      ]
     },
     "metadata": {},
     "output_type": "display_data"
    },
    {
     "data": {
      "text/plain": [
       "[{'name': '수딩 앤 모이스처 알로에베라 80% 에멀젼',\n",
       "  'url': 'https://www.naturerepublic.com/shop/goods_view.php?id=0000009933',\n",
       "  'image': ['http://lfyaklyqypvr852590.gcdn.ntruss.com/data/nature_data/images/product/00/00/00/99/33/b_0000009933.gif',\n",
       "   'http://lfyaklyqypvr852590.gcdn.ntruss.com/data/nature_data/images/addimg/00/00/00/99/33/b_00027664_add.gif'],\n",
       "  'color': '#',\n",
       "  'category': 'HOME > 카테고리 > 스킨케어',\n",
       "  'salePrice': 8800,\n",
       "  'originalPrice': 8800,\n",
       "  'brand': 'naturerepublic',\n",
       "  'volume': '160ml'}]"
      ]
     },
     "metadata": {},
     "output_type": "display_data"
    },
    {
     "data": {
      "text/plain": [
       "[{'name': '셀파워 나이트 크림',\n",
       "  'url': 'https://www.naturerepublic.com/shop/goods_view.php?id=0000010701',\n",
       "  'image': ['http://lfyaklyqypvr852590.gcdn.ntruss.com/data/nature_data/images/product/00/00/01/07/01/b_0000010701.gif',\n",
       "   'http://lfyaklyqypvr852590.gcdn.ntruss.com/data/nature_data/images/addimg/00/00/01/07/01/b_00028644_add.gif'],\n",
       "  'color': '#',\n",
       "  'category': 'HOME > 카테고리 > 스킨케어',\n",
       "  'salePrice': 35000,\n",
       "  'originalPrice': 35000,\n",
       "  'brand': 'naturerepublic',\n",
       "  'volume': '55㎖'}]"
      ]
     },
     "metadata": {},
     "output_type": "display_data"
    },
    {
     "data": {
      "text/plain": [
       "[{'name': '아르간20º 스팀 에멀전',\n",
       "  'url': 'https://www.naturerepublic.com/shop/goods_view.php?id=0000010451',\n",
       "  'image': ['http://lfyaklyqypvr852590.gcdn.ntruss.com/data/nature_data/images/product/00/00/01/04/51/b_0000010451.gif',\n",
       "   'http://lfyaklyqypvr852590.gcdn.ntruss.com/data/nature_data/images/addimg/00/00/01/04/51/b_00028338_add.gif',\n",
       "   'http://lfyaklyqypvr852590.gcdn.ntruss.com/data/nature_data/images/addimg/00/00/01/04/51/b_00028339_add.gif'],\n",
       "  'color': '#',\n",
       "  'category': 'HOME > 카테고리 > 스킨케어',\n",
       "  'salePrice': 14900,\n",
       "  'originalPrice': 14900,\n",
       "  'brand': 'naturerepublic',\n",
       "  'volume': '125ml'}]"
      ]
     },
     "metadata": {},
     "output_type": "display_data"
    },
    {
     "data": {
      "text/plain": [
       "[{'name': '아르간 20º 리얼 스퀴즈 앰플',\n",
       "  'url': 'https://www.naturerepublic.com/shop/goods_view.php?id=0000010452',\n",
       "  'image': ['http://lfyaklyqypvr852590.gcdn.ntruss.com/data/nature_data/images/product/00/00/01/04/52/b_0000010452.gif',\n",
       "   'http://lfyaklyqypvr852590.gcdn.ntruss.com/data/nature_data/images/addimg/00/00/01/04/52/b_00028340_add.gif',\n",
       "   'http://lfyaklyqypvr852590.gcdn.ntruss.com/data/nature_data/images/addimg/00/00/01/04/52/b_00028341_add.gif',\n",
       "   'http://lfyaklyqypvr852590.gcdn.ntruss.com/data/nature_data/images/addimg/00/00/01/04/52/b_00028342_add.gif'],\n",
       "  'color': '#',\n",
       "  'category': 'HOME > 카테고리 > 스킨케어',\n",
       "  'salePrice': 17500,\n",
       "  'originalPrice': 25000,\n",
       "  'brand': 'naturerepublic',\n",
       "  'volume': '25ml'}]"
      ]
     },
     "metadata": {},
     "output_type": "display_data"
    },
    {
     "data": {
      "text/plain": [
       "[{'name': '화이트 비타 플로랄 캡슐 에센스',\n",
       "  'url': 'https://www.naturerepublic.com/shop/goods_view.php?id=0000009943',\n",
       "  'image': ['http://lfyaklyqypvr852590.gcdn.ntruss.com/data/nature_data/images/product/00/00/00/99/43/b_0000009943.gif',\n",
       "   'http://lfyaklyqypvr852590.gcdn.ntruss.com/data/nature_data/images/addimg/00/00/00/99/43/b_00027689_add.gif',\n",
       "   'http://lfyaklyqypvr852590.gcdn.ntruss.com/data/nature_data/images/addimg/00/00/00/99/43/b_00027690_add.gif'],\n",
       "  'color': '#',\n",
       "  'category': 'HOME > 카테고리 > 스킨케어',\n",
       "  'salePrice': 23900,\n",
       "  'originalPrice': 23900,\n",
       "  'brand': 'naturerepublic',\n",
       "  'volume': '40㎖'}]"
      ]
     },
     "metadata": {},
     "output_type": "display_data"
    },
    {
     "data": {
      "text/plain": [
       "[{'name': '콜라겐 드림 70 크림',\n",
       "  'url': 'https://www.naturerepublic.com/shop/goods_view.php?id=0000010456',\n",
       "  'image': ['http://lfyaklyqypvr852590.gcdn.ntruss.com/data/nature_data/images/product/00/00/01/04/56/b_0000010456.gif'],\n",
       "  'color': '#',\n",
       "  'category': 'HOME > 카테고리 > 스킨케어',\n",
       "  'salePrice': 24900,\n",
       "  'originalPrice': 24900,\n",
       "  'brand': 'naturerepublic',\n",
       "  'volume': '50㎖'}]"
      ]
     },
     "metadata": {},
     "output_type": "display_data"
    },
    {
     "data": {
      "text/plain": [
       "[{'name': '프레시 그린티 70 에멀젼',\n",
       "  'url': 'https://www.naturerepublic.com/shop/goods_view.php?id=0000010458',\n",
       "  'image': ['http://lfyaklyqypvr852590.gcdn.ntruss.com/data/nature_data/images/product/00/00/01/04/58/b_0000010458.gif',\n",
       "   'http://lfyaklyqypvr852590.gcdn.ntruss.com/data/nature_data/images/addimg/00/00/01/04/58/b_00028343_add.gif',\n",
       "   'http://lfyaklyqypvr852590.gcdn.ntruss.com/data/nature_data/images/addimg/00/00/01/04/58/b_00028344_add.gif'],\n",
       "  'color': '#',\n",
       "  'category': 'HOME > 카테고리 > 스킨케어',\n",
       "  'salePrice': 9900,\n",
       "  'originalPrice': 9900,\n",
       "  'brand': 'naturerepublic',\n",
       "  'volume': '180ml'}]"
      ]
     },
     "metadata": {},
     "output_type": "display_data"
    },
    {
     "data": {
      "text/plain": [
       "[{'name': '프레시 그린티 80 크림',\n",
       "  'url': 'https://www.naturerepublic.com/shop/goods_view.php?id=0000010459',\n",
       "  'image': ['http://lfyaklyqypvr852590.gcdn.ntruss.com/data/nature_data/images/product/00/00/01/04/59/b_0000010459.gif',\n",
       "   'http://lfyaklyqypvr852590.gcdn.ntruss.com/data/nature_data/images/addimg/00/00/01/04/59/b_00028345_add.gif',\n",
       "   'http://lfyaklyqypvr852590.gcdn.ntruss.com/data/nature_data/images/addimg/00/00/01/04/59/b_00028346_add.gif'],\n",
       "  'color': '#',\n",
       "  'category': 'HOME > 카테고리 > 스킨케어',\n",
       "  'salePrice': 10900,\n",
       "  'originalPrice': 10900,\n",
       "  'brand': 'naturerepublic',\n",
       "  'volume': '55ml'}]"
      ]
     },
     "metadata": {},
     "output_type": "display_data"
    },
    {
     "data": {
      "text/plain": [
       "[{'name': '그린더마 세라마이드 크림',\n",
       "  'url': 'https://www.naturerepublic.com/shop/goods_view.php?id=0000010717',\n",
       "  'image': ['http://lfyaklyqypvr852590.gcdn.ntruss.com/data/nature_data/images/product/00/00/01/07/17/b_0000010717.gif'],\n",
       "  'color': '#',\n",
       "  'category': 'HOME > 카테고리 > 스킨케어',\n",
       "  'salePrice': 18900,\n",
       "  'originalPrice': 18900,\n",
       "  'brand': 'naturerepublic',\n",
       "  'volume': '50㎖'}]"
      ]
     },
     "metadata": {},
     "output_type": "display_data"
    },
    {
     "data": {
      "text/plain": [
       "[{'name': '리얼 네이처 허니 앰플',\n",
       "  'url': 'https://www.naturerepublic.com/shop/goods_view.php?id=0000010463',\n",
       "  'image': ['http://lfyaklyqypvr852590.gcdn.ntruss.com/data/nature_data/images/product/00/00/01/04/63/b_0000010463.gif',\n",
       "   'http://lfyaklyqypvr852590.gcdn.ntruss.com/data/nature_data/images/addimg/00/00/01/04/63/b_00028355_add.gif',\n",
       "   'http://lfyaklyqypvr852590.gcdn.ntruss.com/data/nature_data/images/addimg/00/00/01/04/63/b_00028356_add.gif'],\n",
       "  'color': '#',\n",
       "  'category': 'HOME > 카테고리 > 스킨케어',\n",
       "  'salePrice': 12500,\n",
       "  'originalPrice': 12500,\n",
       "  'brand': 'naturerepublic',\n",
       "  'volume': '30ml'}]"
      ]
     },
     "metadata": {},
     "output_type": "display_data"
    },
    {
     "data": {
      "text/plain": [
       "[{'name': '쉐어 버터 멀티 밤',\n",
       "  'url': 'https://www.naturerepublic.com/shop/goods_view.php?id=0000010465',\n",
       "  'image': ['http://lfyaklyqypvr852590.gcdn.ntruss.com/data/nature_data/images/product/00/00/01/04/65/b_0000010465.gif',\n",
       "   'http://lfyaklyqypvr852590.gcdn.ntruss.com/data/nature_data/images/addimg/00/00/01/04/65/b_00028359_add.gif'],\n",
       "  'color': '#',\n",
       "  'category': 'HOME > 카테고리 > 스킨케어',\n",
       "  'salePrice': 9900,\n",
       "  'originalPrice': 9900,\n",
       "  'brand': 'naturerepublic',\n",
       "  'volume': '20g'}]"
      ]
     },
     "metadata": {},
     "output_type": "display_data"
    },
    {
     "data": {
      "text/plain": [
       "[{'name': '셀파워 수분크림',\n",
       "  'url': 'https://www.naturerepublic.com/shop/goods_view.php?id=0000010721',\n",
       "  'image': ['http://lfyaklyqypvr852590.gcdn.ntruss.com/data/nature_data/images/product/00/00/01/07/21/b_0000010721.gif'],\n",
       "  'color': '#',\n",
       "  'category': 'HOME > 카테고리 > 스킨케어',\n",
       "  'salePrice': 35000,\n",
       "  'originalPrice': 35000,\n",
       "  'brand': 'naturerepublic',\n",
       "  'volume': '55㎖'}]"
      ]
     },
     "metadata": {},
     "output_type": "display_data"
    },
    {
     "data": {
      "text/plain": [
       "[{'name': '비타민 비파이브 에멀전',\n",
       "  'url': 'https://www.naturerepublic.com/shop/goods_view.php?id=0000010722',\n",
       "  'image': ['http://lfyaklyqypvr852590.gcdn.ntruss.com/data/nature_data/images/product/00/00/01/07/22/b_0000010722.gif',\n",
       "   'http://lfyaklyqypvr852590.gcdn.ntruss.com/data/nature_data/images/addimg/00/00/01/07/22/b_00028662_add.gif',\n",
       "   'http://lfyaklyqypvr852590.gcdn.ntruss.com/data/nature_data/images/addimg/00/00/01/07/22/b_00028663_add.gif'],\n",
       "  'color': '#',\n",
       "  'category': 'HOME > 카테고리 > 스킨케어',\n",
       "  'salePrice': 18900,\n",
       "  'originalPrice': 18900,\n",
       "  'brand': 'naturerepublic',\n",
       "  'volume': '100㎖'}]"
      ]
     },
     "metadata": {},
     "output_type": "display_data"
    },
    {
     "data": {
      "text/plain": [
       "[{'name': '콜라겐 드림 70 에센스',\n",
       "  'url': 'https://www.naturerepublic.com/shop/goods_view.php?id=0000010725',\n",
       "  'image': ['http://lfyaklyqypvr852590.gcdn.ntruss.com/data/nature_data/images/product/00/00/01/07/25/b_0000010725.gif',\n",
       "   'http://lfyaklyqypvr852590.gcdn.ntruss.com/data/nature_data/images/addimg/00/00/01/07/25/b_00028665_add.gif',\n",
       "   'http://lfyaklyqypvr852590.gcdn.ntruss.com/data/nature_data/images/addimg/00/00/01/07/25/b_00028666_add.gif'],\n",
       "  'color': '#',\n",
       "  'category': 'HOME > 카테고리 > 스킨케어',\n",
       "  'salePrice': 24900,\n",
       "  'originalPrice': 24900,\n",
       "  'brand': 'naturerepublic',\n",
       "  'volume': '40㎖'}]"
      ]
     },
     "metadata": {},
     "output_type": "display_data"
    },
    {
     "data": {
      "text/plain": [
       "[{'name': '캐나다 휘슬러 퓨어 아이스 토너',\n",
       "  'url': 'https://www.naturerepublic.com/shop/goods_view.php?id=0000009962',\n",
       "  'image': ['http://lfyaklyqypvr852590.gcdn.ntruss.com/data/nature_data/images/product/00/00/00/99/62/b_0000009962.gif',\n",
       "   'http://lfyaklyqypvr852590.gcdn.ntruss.com/data/nature_data/images/addimg/00/00/00/99/62/b_00027719_add.gif'],\n",
       "  'color': '#',\n",
       "  'category': 'HOME > 카테고리 > 스킨케어',\n",
       "  'salePrice': 9900,\n",
       "  'originalPrice': 9900,\n",
       "  'brand': 'naturerepublic',\n",
       "  'volume': '150㎖'}]"
      ]
     },
     "metadata": {},
     "output_type": "display_data"
    },
    {
     "data": {
      "text/plain": [
       "[{'name': '리얼 네이처 로즈 앰플',\n",
       "  'url': 'https://www.naturerepublic.com/shop/goods_view.php?id=0000010478',\n",
       "  'image': ['http://lfyaklyqypvr852590.gcdn.ntruss.com/data/nature_data/images/product/00/00/01/04/78/b_0000010478.gif',\n",
       "   'http://lfyaklyqypvr852590.gcdn.ntruss.com/data/nature_data/images/addimg/00/00/01/04/78/b_00028379_add.gif',\n",
       "   'http://lfyaklyqypvr852590.gcdn.ntruss.com/data/nature_data/images/addimg/00/00/01/04/78/b_00028380_add.gif'],\n",
       "  'color': '#',\n",
       "  'category': 'HOME > 카테고리 > 스킨케어',\n",
       "  'salePrice': 12500,\n",
       "  'originalPrice': 12500,\n",
       "  'brand': 'naturerepublic',\n",
       "  'volume': '30ml'}]"
      ]
     },
     "metadata": {},
     "output_type": "display_data"
    },
    {
     "data": {
      "text/plain": [
       "[{'name': '아이슬란드 퍼스트 에센스 토너',\n",
       "  'url': 'https://www.naturerepublic.com/shop/goods_view.php?id=0000010734',\n",
       "  'image': ['http://lfyaklyqypvr852590.gcdn.ntruss.com/data/nature_data/images/product/00/00/01/07/34/b_0000010734.gif',\n",
       "   'http://lfyaklyqypvr852590.gcdn.ntruss.com/data/nature_data/images/addimg/00/00/01/07/34/b_00028675_add.gif'],\n",
       "  'color': '#',\n",
       "  'category': 'HOME > 카테고리 > 스킨케어',\n",
       "  'salePrice': 22900,\n",
       "  'originalPrice': 22900,\n",
       "  'brand': 'naturerepublic',\n",
       "  'volume': '150㎖'}]"
      ]
     },
     "metadata": {},
     "output_type": "display_data"
    },
    {
     "data": {
      "text/plain": [
       "[{'name': '폴리네시아 라군워터 하이드로 아이크림',\n",
       "  'url': 'https://www.naturerepublic.com/shop/goods_view.php?id=0000011248',\n",
       "  'image': ['http://lfyaklyqypvr852590.gcdn.ntruss.com/data/nature_data/images/product/00/00/01/12/48/b_0000011248.gif',\n",
       "   'http://lfyaklyqypvr852590.gcdn.ntruss.com/data/nature_data/images/addimg/00/00/01/12/48/b_00029106_add.gif',\n",
       "   'http://lfyaklyqypvr852590.gcdn.ntruss.com/data/nature_data/images/addimg/00/00/01/12/48/b_00029107_add.gif'],\n",
       "  'color': '#',\n",
       "  'category': 'HOME > 카테고리 > 스킨케어',\n",
       "  'salePrice': 8720,\n",
       "  'originalPrice': 10900,\n",
       "  'brand': 'naturerepublic',\n",
       "  'volume': '35ml'}]"
      ]
     },
     "metadata": {},
     "output_type": "display_data"
    },
    {
     "data": {
      "text/plain": [
       "[{'name': '진생 로얄 실크 아이 크림',\n",
       "  'url': 'https://www.naturerepublic.com/shop/goods_view.php?id=0000010485',\n",
       "  'image': ['http://lfyaklyqypvr852590.gcdn.ntruss.com/data/nature_data/images/product/00/00/01/04/85/b_0000010485.gif',\n",
       "   'http://lfyaklyqypvr852590.gcdn.ntruss.com/data/nature_data/images/addimg/00/00/01/04/85/b_00028389_add.gif',\n",
       "   'http://lfyaklyqypvr852590.gcdn.ntruss.com/data/nature_data/images/addimg/00/00/01/04/85/b_00028390_add.gif',\n",
       "   'http://lfyaklyqypvr852590.gcdn.ntruss.com/data/nature_data/images/addimg/00/00/01/04/85/b_00028391_add.gif',\n",
       "   'http://lfyaklyqypvr852590.gcdn.ntruss.com/data/nature_data/images/addimg/00/00/01/04/85/b_00028392_add.gif',\n",
       "   'http://lfyaklyqypvr852590.gcdn.ntruss.com/data/nature_data/images/addimg/00/00/01/04/85/b_00028393_add.gif'],\n",
       "  'color': '#',\n",
       "  'category': 'HOME > 카테고리 > 스킨케어',\n",
       "  'salePrice': 66000,\n",
       "  'originalPrice': 66000,\n",
       "  'brand': 'naturerepublic',\n",
       "  'volume': '25ml'}]"
      ]
     },
     "metadata": {},
     "output_type": "display_data"
    },
    {
     "data": {
      "text/plain": [
       "[{'name': '수딩 앤 모이스처 알로에베라 기초 2종 세트',\n",
       "  'url': 'https://www.naturerepublic.com/shop/goods_view.php?id=0000010230',\n",
       "  'image': ['http://lfyaklyqypvr852590.gcdn.ntruss.com/data/nature_data/images/product/00/00/01/02/30/b_0000010230.gif',\n",
       "   'http://lfyaklyqypvr852590.gcdn.ntruss.com/data/nature_data/images/addimg/00/00/01/02/30/b_00028052_add.gif',\n",
       "   'http://lfyaklyqypvr852590.gcdn.ntruss.com/data/nature_data/images/addimg/00/00/01/02/30/b_00028053_add.gif',\n",
       "   'http://lfyaklyqypvr852590.gcdn.ntruss.com/data/nature_data/images/addimg/00/00/01/02/30/b_00028054_add.gif',\n",
       "   'http://lfyaklyqypvr852590.gcdn.ntruss.com/data/nature_data/images/addimg/00/00/01/02/30/b_00028055_add.gif'],\n",
       "  'color': '#',\n",
       "  'category': 'HOME > 카테고리 > 스킨케어',\n",
       "  'salePrice': 17600,\n",
       "  'originalPrice': 17600,\n",
       "  'brand': 'naturerepublic',\n",
       "  'volume': '160ml+160ml'}]"
      ]
     },
     "metadata": {},
     "output_type": "display_data"
    },
    {
     "data": {
      "text/plain": [
       "[{'name': '비베놈 미스트 에센스 100ml (대용량)',\n",
       "  'url': 'https://www.naturerepublic.com/shop/goods_view.php?id=0000010486',\n",
       "  'image': ['http://lfyaklyqypvr852590.gcdn.ntruss.com/data/nature_data/images/product/00/00/01/04/86/b_0000010486.gif',\n",
       "   'http://lfyaklyqypvr852590.gcdn.ntruss.com/data/nature_data/images/addimg/00/00/01/04/86/b_00028394_add.gif',\n",
       "   'http://lfyaklyqypvr852590.gcdn.ntruss.com/data/nature_data/images/addimg/00/00/01/04/86/b_00028395_add.gif'],\n",
       "  'color': '#',\n",
       "  'category': 'HOME > 카테고리 > 스킨케어',\n",
       "  'salePrice': 15000,\n",
       "  'originalPrice': 15000,\n",
       "  'brand': 'naturerepublic',\n",
       "  'volume': '100ml'}]"
      ]
     },
     "metadata": {},
     "output_type": "display_data"
    },
    {
     "data": {
      "text/plain": [
       "[{'name': '비베놈 트리트먼트 스팟',\n",
       "  'url': 'https://www.naturerepublic.com/shop/goods_view.php?id=0000010487',\n",
       "  'image': ['http://lfyaklyqypvr852590.gcdn.ntruss.com/data/nature_data/images/product/00/00/01/04/87/b_0000010487.gif',\n",
       "   'http://lfyaklyqypvr852590.gcdn.ntruss.com/data/nature_data/images/addimg/00/00/01/04/87/b_00028396_add.gif',\n",
       "   'http://lfyaklyqypvr852590.gcdn.ntruss.com/data/nature_data/images/addimg/00/00/01/04/87/b_00028397_add.gif'],\n",
       "  'color': '#',\n",
       "  'category': 'HOME > 카테고리 > 스킨케어',\n",
       "  'salePrice': 10000,\n",
       "  'originalPrice': 10000,\n",
       "  'brand': 'naturerepublic',\n",
       "  'volume': '30ml'}]"
      ]
     },
     "metadata": {},
     "output_type": "display_data"
    },
    {
     "data": {
      "text/plain": [
       "[{'name': '화이트 비타 퍼스트 에센스',\n",
       "  'url': 'https://www.naturerepublic.com/shop/goods_view.php?id=0000010746',\n",
       "  'image': ['http://lfyaklyqypvr852590.gcdn.ntruss.com/data/nature_data/images/product/00/00/01/07/46/b_0000010746.gif',\n",
       "   'http://lfyaklyqypvr852590.gcdn.ntruss.com/data/nature_data/images/addimg/00/00/01/07/46/b_00028691_add.gif'],\n",
       "  'color': '#',\n",
       "  'category': 'HOME > 카테고리 > 스킨케어',\n",
       "  'salePrice': 23900,\n",
       "  'originalPrice': 23900,\n",
       "  'brand': 'naturerepublic',\n",
       "  'volume': '150㎖'}]"
      ]
     },
     "metadata": {},
     "output_type": "display_data"
    },
    {
     "data": {
      "text/plain": [
       "[{'name': '아이슬란드 퍼밍 수분크림',\n",
       "  'url': 'https://www.naturerepublic.com/shop/goods_view.php?id=0000008956',\n",
       "  'image': ['http://lfyaklyqypvr852590.gcdn.ntruss.com/data/nature_data/images/product/00/00/00/89/56/b_0000008956.gif',\n",
       "   'http://lfyaklyqypvr852590.gcdn.ntruss.com/data/nature_data/images/addimg/00/00/00/89/56/b_00026712_add.gif',\n",
       "   'http://lfyaklyqypvr852590.gcdn.ntruss.com/data/nature_data/images/addimg/00/00/00/89/56/b_00026713_add.gif'],\n",
       "  'color': '#',\n",
       "  'category': 'HOME > 카테고리 > 스킨케어',\n",
       "  'salePrice': 24900,\n",
       "  'originalPrice': 24900,\n",
       "  'brand': 'naturerepublic',\n",
       "  'volume': '50㎖'}]"
      ]
     },
     "metadata": {},
     "output_type": "display_data"
    },
    {
     "data": {
      "text/plain": [
       "[{'name': '진짜진짜 촉촉한 올리브 토너',\n",
       "  'url': 'https://www.naturerepublic.com/shop/goods_view.php?id=0000010493',\n",
       "  'image': ['http://lfyaklyqypvr852590.gcdn.ntruss.com/data/nature_data/images/product/00/00/01/04/93/b_0000010493.gif'],\n",
       "  'color': '#',\n",
       "  'category': 'HOME > 카테고리 > 스킨케어',\n",
       "  'salePrice': 8000,\n",
       "  'originalPrice': 10000,\n",
       "  'brand': 'naturerepublic',\n",
       "  'volume': '180㎖'}]"
      ]
     },
     "metadata": {},
     "output_type": "display_data"
    },
    {
     "data": {
      "text/plain": [
       "[{'name': '진짜진짜 촉촉한 올리브 에멀전',\n",
       "  'url': 'https://www.naturerepublic.com/shop/goods_view.php?id=0000010494',\n",
       "  'image': ['http://lfyaklyqypvr852590.gcdn.ntruss.com/data/nature_data/images/product/00/00/01/04/94/b_0000010494.gif'],\n",
       "  'color': '#',\n",
       "  'category': 'HOME > 카테고리 > 스킨케어',\n",
       "  'salePrice': 8000,\n",
       "  'originalPrice': 10000,\n",
       "  'brand': 'naturerepublic',\n",
       "  'volume': '180㎖'}]"
      ]
     },
     "metadata": {},
     "output_type": "display_data"
    },
    {
     "name": "stdout",
     "output_type": "stream",
     "text": [
      "상품 개수: 클렌징\n",
      "전체\n",
      "총 43개\n"
     ]
    },
    {
     "data": {
      "text/plain": [
       "[{'name': '포레스트 가든 미셀라 클렌징 오일 인 워터_카모마일',\n",
       "  'url': 'https://www.naturerepublic.com/shop/goods_view.php?id=0000012100',\n",
       "  'image': ['http://lfyaklyqypvr852590.gcdn.ntruss.com/data/nature_data/images/product/00/00/01/21/00/b_0000012100.gif',\n",
       "   'http://lfyaklyqypvr852590.gcdn.ntruss.com/data/nature_data/images/addimg/00/00/01/21/00/b_00029999_add.gif'],\n",
       "  'color': '#',\n",
       "  'category': 'HOME > 카테고리 > 클렌징',\n",
       "  'salePrice': 14000,\n",
       "  'originalPrice': 14000,\n",
       "  'brand': 'naturerepublic',\n",
       "  'volume': '포레스트 가든 미셀라 클렌징 오일 인 워터_카모마일\\n250ml'}]"
      ]
     },
     "metadata": {},
     "output_type": "display_data"
    },
    {
     "data": {
      "text/plain": [
       "[{'name': '제주 탄산 올인원 클렌징 패드',\n",
       "  'url': 'https://www.naturerepublic.com/shop/goods_view.php?id=0000010739',\n",
       "  'image': ['http://lfyaklyqypvr852590.gcdn.ntruss.com/data/nature_data/images/product/00/00/01/07/39/b_0000010739.gif',\n",
       "   'http://lfyaklyqypvr852590.gcdn.ntruss.com/data/nature_data/images/addimg/00/00/01/07/39/b_00029864_add.gif'],\n",
       "  'color': '#',\n",
       "  'category': 'HOME > 카테고리 > 클렌징',\n",
       "  'salePrice': 17000,\n",
       "  'originalPrice': 17000,\n",
       "  'brand': 'naturerepublic',\n",
       "  'volume': '130g'}]"
      ]
     },
     "metadata": {},
     "output_type": "display_data"
    },
    {
     "data": {
      "text/plain": [
       "[{'name': '제주 탄산 트리플 필링 패드',\n",
       "  'url': 'https://www.naturerepublic.com/shop/goods_view.php?id=0000010740',\n",
       "  'image': ['http://lfyaklyqypvr852590.gcdn.ntruss.com/data/nature_data/images/product/00/00/01/07/40/b_0000010740.gif',\n",
       "   'http://lfyaklyqypvr852590.gcdn.ntruss.com/data/nature_data/images/addimg/00/00/01/07/40/b_00029865_add.gif'],\n",
       "  'color': '#',\n",
       "  'category': 'HOME > 카테고리 > 클렌징',\n",
       "  'salePrice': 17000,\n",
       "  'originalPrice': 17000,\n",
       "  'brand': 'naturerepublic',\n",
       "  'volume': '140g'}]"
      ]
     },
     "metadata": {},
     "output_type": "display_data"
    },
    {
     "data": {
      "text/plain": [
       "[{'name': '프레시 허브 피치 클렌징 폼',\n",
       "  'url': 'https://www.naturerepublic.com/shop/goods_view.php?id=0000009990',\n",
       "  'image': ['http://lfyaklyqypvr852590.gcdn.ntruss.com/data/nature_data/images/product/00/00/00/99/90/b_0000009990.gif'],\n",
       "  'color': '#',\n",
       "  'category': 'HOME > 카테고리 > 클렌징',\n",
       "  'salePrice': 3300,\n",
       "  'originalPrice': 6600,\n",
       "  'brand': 'naturerepublic',\n",
       "  'volume': '170㎖'}]"
      ]
     },
     "metadata": {},
     "output_type": "display_data"
    },
    {
     "data": {
      "text/plain": [
       "[{'name': '진생 로얄 실크 폼 클렌저',\n",
       "  'url': 'https://www.naturerepublic.com/shop/goods_view.php?id=0000010519',\n",
       "  'image': ['http://lfyaklyqypvr852590.gcdn.ntruss.com/data/nature_data/images/product/00/00/01/05/19/b_0000010519.gif'],\n",
       "  'color': '#',\n",
       "  'category': 'HOME > 카테고리 > 클렌징',\n",
       "  'salePrice': 20000,\n",
       "  'originalPrice': 20000,\n",
       "  'brand': 'naturerepublic',\n",
       "  'volume': '150ml'}]"
      ]
     },
     "metadata": {},
     "output_type": "display_data"
    },
    {
     "data": {
      "text/plain": [
       "[{'name': '리얼 네이처 폼 클렌저 -  아르간',\n",
       "  'url': 'https://www.naturerepublic.com/shop/goods_view.php?id=0000011287',\n",
       "  'image': ['http://lfyaklyqypvr852590.gcdn.ntruss.com/data/nature_data/images/product/00/00/01/12/87/b_0000011287.gif'],\n",
       "  'color': '#',\n",
       "  'category': 'HOME > 카테고리 > 클렌징',\n",
       "  'salePrice': 5390,\n",
       "  'originalPrice': 7700,\n",
       "  'brand': 'naturerepublic',\n",
       "  'volume': '150ml'}]"
      ]
     },
     "metadata": {},
     "output_type": "display_data"
    },
    {
     "data": {
      "text/plain": [
       "[{'name': '제주 탄산 클렌징 티슈 15매',\n",
       "  'url': 'https://www.naturerepublic.com/shop/goods_view.php?id=0000010274',\n",
       "  'image': ['http://lfyaklyqypvr852590.gcdn.ntruss.com/data/nature_data/images/product/00/00/01/02/74/b_0000010274.gif'],\n",
       "  'color': '#',\n",
       "  'category': 'HOME > 카테고리 > 클렌징',\n",
       "  'salePrice': 2000,\n",
       "  'originalPrice': 2000,\n",
       "  'brand': 'naturerepublic',\n",
       "  'volume': '15매'}]"
      ]
     },
     "metadata": {},
     "output_type": "display_data"
    },
    {
     "data": {
      "text/plain": [
       "[{'name': '리얼 네이처 폼 클렌저 - 쉐어버터',\n",
       "  'url': 'https://www.naturerepublic.com/shop/goods_view.php?id=0000011309',\n",
       "  'image': ['http://lfyaklyqypvr852590.gcdn.ntruss.com/data/nature_data/images/product/00/00/01/13/09/b_0000011309.gif'],\n",
       "  'color': '#',\n",
       "  'category': 'HOME > 카테고리 > 클렌징',\n",
       "  'salePrice': 5390,\n",
       "  'originalPrice': 7700,\n",
       "  'brand': 'naturerepublic',\n",
       "  'volume': '150ml'}]"
      ]
     },
     "metadata": {},
     "output_type": "display_data"
    },
    {
     "data": {
      "text/plain": [
       "[{'name': '제주 탄산 폼 클렌저',\n",
       "  'url': 'https://www.naturerepublic.com/shop/goods_view.php?id=0000010291',\n",
       "  'image': ['http://lfyaklyqypvr852590.gcdn.ntruss.com/data/nature_data/images/product/00/00/01/02/91/b_0000010291.gif',\n",
       "   'http://lfyaklyqypvr852590.gcdn.ntruss.com/data/nature_data/images/addimg/00/00/01/02/91/b_00028125_add.gif',\n",
       "   'http://lfyaklyqypvr852590.gcdn.ntruss.com/data/nature_data/images/addimg/00/00/01/02/91/b_00028126_add.gif'],\n",
       "  'color': '#',\n",
       "  'category': 'HOME > 카테고리 > 클렌징',\n",
       "  'salePrice': 9900,\n",
       "  'originalPrice': 9900,\n",
       "  'brand': 'naturerepublic',\n",
       "  'volume': '150ml'}]"
      ]
     },
     "metadata": {},
     "output_type": "display_data"
    },
    {
     "data": {
      "text/plain": [
       "[{'name': '프레시 허브 아세로라 클렌징폼',\n",
       "  'url': 'https://www.naturerepublic.com/shop/goods_view.php?id=0000010552',\n",
       "  'image': ['http://lfyaklyqypvr852590.gcdn.ntruss.com/data/nature_data/images/product/00/00/01/05/52/b_0000010552.gif'],\n",
       "  'color': '#',\n",
       "  'category': 'HOME > 카테고리 > 클렌징',\n",
       "  'salePrice': 3300,\n",
       "  'originalPrice': 6600,\n",
       "  'brand': 'naturerepublic',\n",
       "  'volume': '170㎖'}]"
      ]
     },
     "metadata": {},
     "output_type": "display_data"
    },
    {
     "data": {
      "text/plain": [
       "[{'name': '리얼 네이처 알로에 클렌징 크림 (200ml)',\n",
       "  'url': 'https://www.naturerepublic.com/shop/goods_view.php?id=0000010349',\n",
       "  'image': ['http://lfyaklyqypvr852590.gcdn.ntruss.com/data/nature_data/images/product/00/00/01/03/49/b_0000010349.gif',\n",
       "   'http://lfyaklyqypvr852590.gcdn.ntruss.com/data/nature_data/images/addimg/00/00/01/03/49/b_00028210_add.gif',\n",
       "   'http://lfyaklyqypvr852590.gcdn.ntruss.com/data/nature_data/images/addimg/00/00/01/03/49/b_00028211_add.gif',\n",
       "   'http://lfyaklyqypvr852590.gcdn.ntruss.com/data/nature_data/images/addimg/00/00/01/03/49/b_00028212_add.gif'],\n",
       "  'color': '#',\n",
       "  'category': 'HOME > 카테고리 > 클렌징',\n",
       "  'salePrice': 9900,\n",
       "  'originalPrice': 9900,\n",
       "  'brand': 'naturerepublic',\n",
       "  'volume': '200ml'}]"
      ]
     },
     "metadata": {},
     "output_type": "display_data"
    },
    {
     "data": {
      "text/plain": [
       "[{'name': '리얼 네이처 올리브 클렌징 크림 (200ml)',\n",
       "  'url': 'https://www.naturerepublic.com/shop/goods_view.php?id=0000010350',\n",
       "  'image': ['http://lfyaklyqypvr852590.gcdn.ntruss.com/data/nature_data/images/product/00/00/01/03/50/b_0000010350.gif',\n",
       "   'http://lfyaklyqypvr852590.gcdn.ntruss.com/data/nature_data/images/addimg/00/00/01/03/50/b_00028213_add.gif',\n",
       "   'http://lfyaklyqypvr852590.gcdn.ntruss.com/data/nature_data/images/addimg/00/00/01/03/50/b_00028214_add.gif',\n",
       "   'http://lfyaklyqypvr852590.gcdn.ntruss.com/data/nature_data/images/addimg/00/00/01/03/50/b_00028215_add.gif',\n",
       "   'http://lfyaklyqypvr852590.gcdn.ntruss.com/data/nature_data/images/addimg/00/00/01/03/50/b_00028216_add.gif'],\n",
       "  'color': '#',\n",
       "  'category': 'HOME > 카테고리 > 클렌징',\n",
       "  'salePrice': 9900,\n",
       "  'originalPrice': 9900,\n",
       "  'brand': 'naturerepublic',\n",
       "  'volume': '200ml'}]"
      ]
     },
     "metadata": {},
     "output_type": "display_data"
    },
    {
     "data": {
      "text/plain": [
       "[{'name': '제주 탄산 클렌징 워터 (단품)',\n",
       "  'url': 'https://www.naturerepublic.com/shop/goods_view.php?id=0000010354',\n",
       "  'image': ['http://lfyaklyqypvr852590.gcdn.ntruss.com/data/nature_data/images/product/00/00/01/03/54/b_0000010354.gif'],\n",
       "  'color': '#',\n",
       "  'category': 'HOME > 카테고리 > 클렌징',\n",
       "  'salePrice': 15000,\n",
       "  'originalPrice': 15000,\n",
       "  'brand': 'naturerepublic',\n",
       "  'volume': '510㎖'}]"
      ]
     },
     "metadata": {},
     "output_type": "display_data"
    },
    {
     "data": {
      "text/plain": [
       "[{'name': '스네일 솔루션 폼 클렌저',\n",
       "  'url': 'https://www.naturerepublic.com/shop/goods_view.php?id=0000010105',\n",
       "  'image': ['http://lfyaklyqypvr852590.gcdn.ntruss.com/data/nature_data/images/product/00/00/01/01/05/b_0000010105.gif'],\n",
       "  'color': '#',\n",
       "  'category': 'HOME > 카테고리 > 클렌징',\n",
       "  'salePrice': 12900,\n",
       "  'originalPrice': 12900,\n",
       "  'brand': 'naturerepublic',\n",
       "  'volume': '150ml'}]"
      ]
     },
     "metadata": {},
     "output_type": "display_data"
    },
    {
     "data": {
      "text/plain": [
       "[{'name': '수딩 앤 모이스처 알로에 베라 폼 클렌저',\n",
       "  'url': 'https://www.naturerepublic.com/shop/goods_view.php?id=0000010366',\n",
       "  'image': ['http://lfyaklyqypvr852590.gcdn.ntruss.com/data/nature_data/images/product/00/00/01/03/66/b_0000010366.gif'],\n",
       "  'color': '#',\n",
       "  'category': 'HOME > 카테고리 > 클렌징',\n",
       "  'salePrice': 4400,\n",
       "  'originalPrice': 4400,\n",
       "  'brand': 'naturerepublic',\n",
       "  'volume': '150ml'}]"
      ]
     },
     "metadata": {},
     "output_type": "display_data"
    },
    {
     "data": {
      "text/plain": [
       "[{'name': '포레스트 가든 립 앤 아이 리무버 마일드',\n",
       "  'url': 'https://www.naturerepublic.com/shop/goods_view.php?id=0000011134',\n",
       "  'image': ['http://lfyaklyqypvr852590.gcdn.ntruss.com/data/nature_data/images/product/00/00/01/11/34/b_0000011134.gif'],\n",
       "  'color': '#',\n",
       "  'category': 'HOME > 카테고리 > 클렌징',\n",
       "  'salePrice': 6900,\n",
       "  'originalPrice': 6900,\n",
       "  'brand': 'naturerepublic',\n",
       "  'volume': '115ml'}]"
      ]
     },
     "metadata": {},
     "output_type": "display_data"
    },
    {
     "data": {
      "text/plain": [
       "[{'name': '제주 탄산 머드 클렌징 크림',\n",
       "  'url': 'https://www.naturerepublic.com/shop/goods_view.php?id=0000010112',\n",
       "  'image': ['http://lfyaklyqypvr852590.gcdn.ntruss.com/data/nature_data/images/product/00/00/01/01/12/b_0000010112.gif',\n",
       "   'http://lfyaklyqypvr852590.gcdn.ntruss.com/data/nature_data/images/addimg/00/00/01/01/12/b_00027869_add.gif',\n",
       "   'http://lfyaklyqypvr852590.gcdn.ntruss.com/data/nature_data/images/addimg/00/00/01/01/12/b_00027870_add.gif'],\n",
       "  'color': '#',\n",
       "  'category': 'HOME > 카테고리 > 클렌징',\n",
       "  'salePrice': 12000,\n",
       "  'originalPrice': 12000,\n",
       "  'brand': 'naturerepublic',\n",
       "  'volume': '215ml'}]"
      ]
     },
     "metadata": {},
     "output_type": "display_data"
    },
    {
     "data": {
      "text/plain": [
       "[{'name': '[1+1 기획] 캘리포니아 알로에베라 클렌징 티슈',\n",
       "  'url': 'https://www.naturerepublic.com/shop/goods_view.php?id=0000010116',\n",
       "  'image': ['http://lfyaklyqypvr852590.gcdn.ntruss.com/data/nature_data/images/product/00/00/01/01/16/b_0000010116.gif',\n",
       "   'http://lfyaklyqypvr852590.gcdn.ntruss.com/data/nature_data/images/addimg/00/00/01/01/16/b_00027875_add.gif',\n",
       "   'http://lfyaklyqypvr852590.gcdn.ntruss.com/data/nature_data/images/addimg/00/00/01/01/16/b_00027876_add.gif'],\n",
       "  'color': '#',\n",
       "  'category': 'HOME > 카테고리 > 클렌징',\n",
       "  'salePrice': 8900,\n",
       "  'originalPrice': 8900,\n",
       "  'brand': 'naturerepublic',\n",
       "  'volume': '80매(317g) x 2ea'}]"
      ]
     },
     "metadata": {},
     "output_type": "display_data"
    },
    {
     "data": {
      "text/plain": [
       "[{'name': '포레스트 가든 카모마일 클렌징 오일 500ml (대용량)',\n",
       "  'url': 'https://www.naturerepublic.com/shop/goods_view.php?id=0000010379',\n",
       "  'image': ['http://lfyaklyqypvr852590.gcdn.ntruss.com/data/nature_data/images/product/00/00/01/03/79/b_0000010379.gif'],\n",
       "  'color': '#',\n",
       "  'category': 'HOME > 카테고리 > 클렌징',\n",
       "  'salePrice': 29000,\n",
       "  'originalPrice': 29000,\n",
       "  'brand': 'naturerepublic',\n",
       "  'volume': '500ml'}]"
      ]
     },
     "metadata": {},
     "output_type": "display_data"
    },
    {
     "data": {
      "text/plain": [
       "[{'name': '프레시 허브 알로에 클렌징 폼',\n",
       "  'url': 'https://www.naturerepublic.com/shop/goods_view.php?id=0000010384',\n",
       "  'image': ['http://lfyaklyqypvr852590.gcdn.ntruss.com/data/nature_data/images/product/00/00/01/03/84/b_0000010384.gif'],\n",
       "  'color': '#',\n",
       "  'category': 'HOME > 카테고리 > 클렌징',\n",
       "  'salePrice': 3300,\n",
       "  'originalPrice': 6600,\n",
       "  'brand': 'naturerepublic',\n",
       "  'volume': '170 ml'}]"
      ]
     },
     "metadata": {},
     "output_type": "display_data"
    },
    {
     "data": {
      "text/plain": [
       "[{'name': '프레시 허브 스네일 클렌징 폼',\n",
       "  'url': 'https://www.naturerepublic.com/shop/goods_view.php?id=0000010385',\n",
       "  'image': ['http://lfyaklyqypvr852590.gcdn.ntruss.com/data/nature_data/images/product/00/00/01/03/85/b_0000010385.gif'],\n",
       "  'color': '#',\n",
       "  'category': 'HOME > 카테고리 > 클렌징',\n",
       "  'salePrice': 3300,\n",
       "  'originalPrice': 6600,\n",
       "  'brand': 'naturerepublic',\n",
       "  'volume': '170ml'}]"
      ]
     },
     "metadata": {},
     "output_type": "display_data"
    },
    {
     "data": {
      "text/plain": [
       "[{'name': '리얼 네이처 폼 클렌저 -  올리브',\n",
       "  'url': 'https://www.naturerepublic.com/shop/goods_view.php?id=0000011409',\n",
       "  'image': ['http://lfyaklyqypvr852590.gcdn.ntruss.com/data/nature_data/images/product/00/00/01/14/09/b_0000011409.gif'],\n",
       "  'color': '#',\n",
       "  'category': 'HOME > 카테고리 > 클렌징',\n",
       "  'salePrice': 5390,\n",
       "  'originalPrice': 7700,\n",
       "  'brand': 'naturerepublic',\n",
       "  'volume': '150ml'}]"
      ]
     },
     "metadata": {},
     "output_type": "display_data"
    },
    {
     "data": {
      "text/plain": [
       "[{'name': '리얼 네이처 폼 클렌저 - 로즈',\n",
       "  'url': 'https://www.naturerepublic.com/shop/goods_view.php?id=0000011410',\n",
       "  'image': ['http://lfyaklyqypvr852590.gcdn.ntruss.com/data/nature_data/images/product/00/00/01/14/10/b_0000011410.gif'],\n",
       "  'color': '#',\n",
       "  'category': 'HOME > 카테고리 > 클렌징',\n",
       "  'salePrice': 5390,\n",
       "  'originalPrice': 7700,\n",
       "  'brand': 'naturerepublic',\n",
       "  'volume': '150ml'}]"
      ]
     },
     "metadata": {},
     "output_type": "display_data"
    },
    {
     "data": {
      "text/plain": [
       "[{'name': '히말라야 솔트 클렌징 밤 핑크 솔트',\n",
       "  'url': 'https://www.naturerepublic.com/shop/goods_view.php?id=0000010662',\n",
       "  'image': ['http://lfyaklyqypvr852590.gcdn.ntruss.com/data/nature_data/images/product/00/00/01/06/62/b_0000010662.gif',\n",
       "   'http://lfyaklyqypvr852590.gcdn.ntruss.com/data/nature_data/images/addimg/00/00/01/06/62/b_00028593_add.gif',\n",
       "   'http://lfyaklyqypvr852590.gcdn.ntruss.com/data/nature_data/images/addimg/00/00/01/06/62/b_00028594_add.gif',\n",
       "   'http://lfyaklyqypvr852590.gcdn.ntruss.com/data/nature_data/images/addimg/00/00/01/06/62/b_00028595_add.gif'],\n",
       "  'color': '#',\n",
       "  'category': 'HOME > 카테고리 > 클렌징',\n",
       "  'salePrice': 14900,\n",
       "  'originalPrice': 14900,\n",
       "  'brand': 'naturerepublic',\n",
       "  'volume': '90ml'}]"
      ]
     },
     "metadata": {},
     "output_type": "display_data"
    },
    {
     "data": {
      "text/plain": [
       "[{'name': '히말라야 솔트 클렌징 밤 화이트 솔트',\n",
       "  'url': 'https://www.naturerepublic.com/shop/goods_view.php?id=0000010663',\n",
       "  'image': ['http://lfyaklyqypvr852590.gcdn.ntruss.com/data/nature_data/images/product/00/00/01/06/63/b_0000010663.gif',\n",
       "   'http://lfyaklyqypvr852590.gcdn.ntruss.com/data/nature_data/images/addimg/00/00/01/06/63/b_00028596_add.gif',\n",
       "   'http://lfyaklyqypvr852590.gcdn.ntruss.com/data/nature_data/images/addimg/00/00/01/06/63/b_00028597_add.gif'],\n",
       "  'color': '#',\n",
       "  'category': 'HOME > 카테고리 > 클렌징',\n",
       "  'salePrice': 14900,\n",
       "  'originalPrice': 14900,\n",
       "  'brand': 'naturerepublic',\n",
       "  'volume': '90ml'}]"
      ]
     },
     "metadata": {},
     "output_type": "display_data"
    },
    {
     "data": {
      "text/plain": [
       "[{'name': '시티 케어 마린워터 트랜스 팩 투 폼',\n",
       "  'url': 'https://www.naturerepublic.com/shop/goods_view.php?id=0000011434',\n",
       "  'image': ['http://lfyaklyqypvr852590.gcdn.ntruss.com/data/nature_data/images/product/00/00/01/14/34/b_0000011434.gif',\n",
       "   'http://lfyaklyqypvr852590.gcdn.ntruss.com/data/nature_data/images/addimg/00/00/01/14/34/b_00029277_add.gif',\n",
       "   'http://lfyaklyqypvr852590.gcdn.ntruss.com/data/nature_data/images/addimg/00/00/01/14/34/b_00029278_add.gif',\n",
       "   'http://lfyaklyqypvr852590.gcdn.ntruss.com/data/nature_data/images/addimg/00/00/01/14/34/b_00029279_add.gif',\n",
       "   'http://lfyaklyqypvr852590.gcdn.ntruss.com/data/nature_data/images/addimg/00/00/01/14/34/b_00029280_add.gif'],\n",
       "  'color': '#',\n",
       "  'category': 'HOME > 카테고리 > 클렌징',\n",
       "  'salePrice': 18900,\n",
       "  'originalPrice': 18900,\n",
       "  'brand': 'naturerepublic',\n",
       "  'volume': '100㎖'}]"
      ]
     },
     "metadata": {},
     "output_type": "display_data"
    },
    {
     "data": {
      "text/plain": [
       "[{'name': '율리 폼클렌저',\n",
       "  'url': 'https://www.naturerepublic.com/shop/goods_view.php?id=0000010155',\n",
       "  'image': ['http://lfyaklyqypvr852590.gcdn.ntruss.com/data/nature_data/images/product/00/00/01/01/55/b_0000010155.gif'],\n",
       "  'color': '#',\n",
       "  'category': 'HOME > 카테고리 > 클렌징',\n",
       "  'salePrice': 20000,\n",
       "  'originalPrice': 20000,\n",
       "  'brand': 'naturerepublic',\n",
       "  'volume': '150㎖'}]"
      ]
     },
     "metadata": {},
     "output_type": "display_data"
    },
    {
     "data": {
      "text/plain": [
       "[{'name': '리얼 네이처 필링젤 - 크랜베리',\n",
       "  'url': 'https://www.naturerepublic.com/shop/goods_view.php?id=0000010158',\n",
       "  'image': ['http://lfyaklyqypvr852590.gcdn.ntruss.com/data/nature_data/images/product/00/00/01/01/58/b_0000010158.gif',\n",
       "   'http://lfyaklyqypvr852590.gcdn.ntruss.com/data/nature_data/images/addimg/00/00/01/01/58/b_00027950_add.gif'],\n",
       "  'color': '#',\n",
       "  'category': 'HOME > 카테고리 > 클렌징',\n",
       "  'salePrice': 6900,\n",
       "  'originalPrice': 6900,\n",
       "  'brand': 'naturerepublic',\n",
       "  'volume': '120ml'}]"
      ]
     },
     "metadata": {},
     "output_type": "display_data"
    },
    {
     "data": {
      "text/plain": [
       "[{'name': '포레스트 가든 올리브 클렌징 오일',\n",
       "  'url': 'https://www.naturerepublic.com/shop/goods_view.php?id=0000010419',\n",
       "  'image': ['http://lfyaklyqypvr852590.gcdn.ntruss.com/data/nature_data/images/product/00/00/01/04/19/b_0000010419.gif',\n",
       "   'http://lfyaklyqypvr852590.gcdn.ntruss.com/data/nature_data/images/addimg/00/00/01/04/19/b_00028302_add.gif'],\n",
       "  'color': '#',\n",
       "  'category': 'HOME > 카테고리 > 클렌징',\n",
       "  'salePrice': 14000,\n",
       "  'originalPrice': 14000,\n",
       "  'brand': 'naturerepublic',\n",
       "  'volume': '200ml'}]"
      ]
     },
     "metadata": {},
     "output_type": "display_data"
    },
    {
     "data": {
      "text/plain": [
       "[{'name': '콜라겐 드림 비타민C 캡슐 폼 클렌저',\n",
       "  'url': 'https://www.naturerepublic.com/shop/goods_view.php?id=0000010167',\n",
       "  'image': ['http://lfyaklyqypvr852590.gcdn.ntruss.com/data/nature_data/images/product/00/00/01/01/67/b_0000010167.gif',\n",
       "   'http://lfyaklyqypvr852590.gcdn.ntruss.com/data/nature_data/images/addimg/00/00/01/01/67/b_00027965_add.gif'],\n",
       "  'color': '#',\n",
       "  'category': 'HOME > 카테고리 > 클렌징',\n",
       "  'salePrice': 9900,\n",
       "  'originalPrice': 9900,\n",
       "  'brand': 'naturerepublic',\n",
       "  'volume': '150ml'}]"
      ]
     },
     "metadata": {},
     "output_type": "display_data"
    },
    {
     "data": {
      "text/plain": [
       "[{'name': '불가리안 로즈 모이스처 폼 클렌저',\n",
       "  'url': 'https://www.naturerepublic.com/shop/goods_view.php?id=0000010941',\n",
       "  'image': ['http://lfyaklyqypvr852590.gcdn.ntruss.com/data/nature_data/images/product/00/00/01/09/41/b_0000010941.gif'],\n",
       "  'color': '#',\n",
       "  'category': 'HOME > 카테고리 > 클렌징',\n",
       "  'salePrice': 3120,\n",
       "  'originalPrice': 3900,\n",
       "  'brand': 'naturerepublic',\n",
       "  'volume': '120㎖'}]"
      ]
     },
     "metadata": {},
     "output_type": "display_data"
    },
    {
     "data": {
      "text/plain": [
       "[{'name': '하와이안 프레시 팩 투 폼',\n",
       "  'url': 'https://www.naturerepublic.com/shop/goods_view.php?id=0000009918',\n",
       "  'image': ['http://lfyaklyqypvr852590.gcdn.ntruss.com/data/nature_data/images/product/00/00/00/99/18/b_0000009918.gif',\n",
       "   'http://lfyaklyqypvr852590.gcdn.ntruss.com/data/nature_data/images/addimg/00/00/00/99/18/b_00027643_add.gif'],\n",
       "  'color': '#',\n",
       "  'category': 'HOME > 카테고리 > 클렌징',\n",
       "  'salePrice': 12000,\n",
       "  'originalPrice': 12000,\n",
       "  'brand': 'naturerepublic',\n",
       "  'volume': '150㎖'}]"
      ]
     },
     "metadata": {},
     "output_type": "display_data"
    },
    {
     "data": {
      "text/plain": [
       "[{'name': '포레스트 가든 카모마일 클렌징 오일',\n",
       "  'url': 'https://www.naturerepublic.com/shop/goods_view.php?id=0000010431',\n",
       "  'image': ['http://lfyaklyqypvr852590.gcdn.ntruss.com/data/nature_data/images/product/00/00/01/04/31/b_0000010431.gif',\n",
       "   'http://lfyaklyqypvr852590.gcdn.ntruss.com/data/nature_data/images/addimg/00/00/01/04/31/b_00028315_add.gif'],\n",
       "  'color': '#',\n",
       "  'category': 'HOME > 카테고리 > 클렌징',\n",
       "  'salePrice': 14000,\n",
       "  'originalPrice': 14000,\n",
       "  'brand': 'naturerepublic',\n",
       "  'volume': '200ml'}]"
      ]
     },
     "metadata": {},
     "output_type": "display_data"
    },
    {
     "data": {
      "text/plain": [
       "[{'name': '슈퍼 아쿠아 맥스 소프트 필링 젤',\n",
       "  'url': 'https://www.naturerepublic.com/shop/goods_view.php?id=0000010439',\n",
       "  'image': ['http://lfyaklyqypvr852590.gcdn.ntruss.com/data/nature_data/images/product/00/00/01/04/39/b_0000010439.gif',\n",
       "   'http://lfyaklyqypvr852590.gcdn.ntruss.com/data/nature_data/images/addimg/00/00/01/04/39/b_00028322_add.gif',\n",
       "   'http://lfyaklyqypvr852590.gcdn.ntruss.com/data/nature_data/images/addimg/00/00/01/04/39/b_00028323_add.gif',\n",
       "   'http://lfyaklyqypvr852590.gcdn.ntruss.com/data/nature_data/images/addimg/00/00/01/04/39/b_00028324_add.gif',\n",
       "   'http://lfyaklyqypvr852590.gcdn.ntruss.com/data/nature_data/images/addimg/00/00/01/04/39/b_00028325_add.gif'],\n",
       "  'color': '#',\n",
       "  'category': 'HOME > 카테고리 > 클렌징',\n",
       "  'salePrice': 8900,\n",
       "  'originalPrice': 8900,\n",
       "  'brand': 'naturerepublic',\n",
       "  'volume': '155ml'}]"
      ]
     },
     "metadata": {},
     "output_type": "display_data"
    },
    {
     "data": {
      "text/plain": [
       "[{'name': '그린더마 마일드 필링젤',\n",
       "  'url': 'https://www.naturerepublic.com/shop/goods_view.php?id=0000010695',\n",
       "  'image': ['http://lfyaklyqypvr852590.gcdn.ntruss.com/data/nature_data/images/product/00/00/01/06/95/b_0000010695.gif',\n",
       "   'http://lfyaklyqypvr852590.gcdn.ntruss.com/data/nature_data/images/addimg/00/00/01/06/95/b_00028640_add.gif',\n",
       "   'http://lfyaklyqypvr852590.gcdn.ntruss.com/data/nature_data/images/addimg/00/00/01/06/95/b_00028641_add.gif'],\n",
       "  'color': '#',\n",
       "  'category': 'HOME > 카테고리 > 클렌징',\n",
       "  'salePrice': 16000,\n",
       "  'originalPrice': 16000,\n",
       "  'brand': 'naturerepublic',\n",
       "  'volume': '150㎖'}]"
      ]
     },
     "metadata": {},
     "output_type": "display_data"
    },
    {
     "data": {
      "text/plain": [
       "[{'name': '제주 탄산 클렌징 티슈',\n",
       "  'url': 'https://www.naturerepublic.com/shop/goods_view.php?id=0000010453',\n",
       "  'image': ['http://lfyaklyqypvr852590.gcdn.ntruss.com/data/nature_data/images/product/00/00/01/04/53/b_0000010453.gif'],\n",
       "  'color': '#',\n",
       "  'category': 'HOME > 카테고리 > 클렌징',\n",
       "  'salePrice': 5500,\n",
       "  'originalPrice': 5500,\n",
       "  'brand': 'naturerepublic',\n",
       "  'volume': '50매(205g)'}]"
      ]
     },
     "metadata": {},
     "output_type": "display_data"
    },
    {
     "data": {
      "text/plain": [
       "[{'name': '제주 탄산 폼 클렌저 300ml (대용량)',\n",
       "  'url': 'https://www.naturerepublic.com/shop/goods_view.php?id=0000010209',\n",
       "  'image': ['http://lfyaklyqypvr852590.gcdn.ntruss.com/data/nature_data/images/product/00/00/01/02/09/b_0000010209.gif'],\n",
       "  'color': '#',\n",
       "  'category': 'HOME > 카테고리 > 클렌징',\n",
       "  'salePrice': 15000,\n",
       "  'originalPrice': 15000,\n",
       "  'brand': 'naturerepublic',\n",
       "  'volume': '300ml'}]"
      ]
     },
     "metadata": {},
     "output_type": "display_data"
    },
    {
     "data": {
      "text/plain": [
       "[{'name': '비베놈 클렌징 폼',\n",
       "  'url': 'https://www.naturerepublic.com/shop/goods_view.php?id=0000010211',\n",
       "  'image': ['http://lfyaklyqypvr852590.gcdn.ntruss.com/data/nature_data/images/product/00/00/01/02/11/b_0000010211.gif'],\n",
       "  'color': '#',\n",
       "  'category': 'HOME > 카테고리 > 클렌징',\n",
       "  'salePrice': 10000,\n",
       "  'originalPrice': 10000,\n",
       "  'brand': 'naturerepublic',\n",
       "  'volume': '150㎖'}]"
      ]
     },
     "metadata": {},
     "output_type": "display_data"
    },
    {
     "data": {
      "text/plain": [
       "[{'name': '포레스트 가든 아르간 클렌징 오일',\n",
       "  'url': 'https://www.naturerepublic.com/shop/goods_view.php?id=0000010472',\n",
       "  'image': ['http://lfyaklyqypvr852590.gcdn.ntruss.com/data/nature_data/images/product/00/00/01/04/72/b_0000010472.gif',\n",
       "   'http://lfyaklyqypvr852590.gcdn.ntruss.com/data/nature_data/images/addimg/00/00/01/04/72/b_00028369_add.gif'],\n",
       "  'color': '#',\n",
       "  'category': 'HOME > 카테고리 > 클렌징',\n",
       "  'salePrice': 14000,\n",
       "  'originalPrice': 14000,\n",
       "  'brand': 'naturerepublic',\n",
       "  'volume': '200ml'}]"
      ]
     },
     "metadata": {},
     "output_type": "display_data"
    },
    {
     "data": {
      "text/plain": [
       "[{'name': '그린더마 마일드 폼 클렌저',\n",
       "  'url': 'https://www.naturerepublic.com/shop/goods_view.php?id=0000010729',\n",
       "  'image': ['http://lfyaklyqypvr852590.gcdn.ntruss.com/data/nature_data/images/product/00/00/01/07/29/b_0000010729.gif'],\n",
       "  'color': '#',\n",
       "  'category': 'HOME > 카테고리 > 클렌징',\n",
       "  'salePrice': 10000,\n",
       "  'originalPrice': 10000,\n",
       "  'brand': 'naturerepublic',\n",
       "  'volume': '150㎖'}]"
      ]
     },
     "metadata": {},
     "output_type": "display_data"
    },
    {
     "data": {
      "text/plain": [
       "[{'name': '제주 탄산 머드 폼 클렌저',\n",
       "  'url': 'https://www.naturerepublic.com/shop/goods_view.php?id=0000010481',\n",
       "  'image': ['http://lfyaklyqypvr852590.gcdn.ntruss.com/data/nature_data/images/product/00/00/01/04/81/b_0000010481.gif',\n",
       "   'http://lfyaklyqypvr852590.gcdn.ntruss.com/data/nature_data/images/addimg/00/00/01/04/81/b_00028383_add.gif',\n",
       "   'http://lfyaklyqypvr852590.gcdn.ntruss.com/data/nature_data/images/addimg/00/00/01/04/81/b_00028384_add.gif'],\n",
       "  'color': '#',\n",
       "  'category': 'HOME > 카테고리 > 클렌징',\n",
       "  'salePrice': 9900,\n",
       "  'originalPrice': 9900,\n",
       "  'brand': 'naturerepublic',\n",
       "  'volume': '150ml'}]"
      ]
     },
     "metadata": {},
     "output_type": "display_data"
    },
    {
     "data": {
      "text/plain": [
       "[{'name': '하와이안 딥 씨 약산성 클렌징로션',\n",
       "  'url': 'https://www.naturerepublic.com/shop/goods_view.php?id=0000011000',\n",
       "  'image': ['http://lfyaklyqypvr852590.gcdn.ntruss.com/data/nature_data/images/product/00/00/01/10/00/b_0000011000.gif',\n",
       "   'http://lfyaklyqypvr852590.gcdn.ntruss.com/data/nature_data/images/addimg/00/00/01/10/00/b_00028885_add.gif'],\n",
       "  'color': '#',\n",
       "  'category': 'HOME > 카테고리 > 클렌징',\n",
       "  'salePrice': 10900,\n",
       "  'originalPrice': 10900,\n",
       "  'brand': 'naturerepublic',\n",
       "  'volume': '130㎖'}]"
      ]
     },
     "metadata": {},
     "output_type": "display_data"
    },
    {
     "data": {
      "text/plain": [
       "[{'name': '포레스트 가든 립 앤 아이 리무버 워터프루프',\n",
       "  'url': 'https://www.naturerepublic.com/shop/goods_view.php?id=0000011257',\n",
       "  'image': ['http://lfyaklyqypvr852590.gcdn.ntruss.com/data/nature_data/images/product/00/00/01/12/57/b_0000011257.gif'],\n",
       "  'color': '#',\n",
       "  'category': 'HOME > 카테고리 > 클렌징',\n",
       "  'salePrice': 7900,\n",
       "  'originalPrice': 7900,\n",
       "  'brand': 'naturerepublic',\n",
       "  'volume': '115ml'}]"
      ]
     },
     "metadata": {},
     "output_type": "display_data"
    },
    {
     "name": "stdout",
     "output_type": "stream",
     "text": [
      "상품 개수: 팩&마스크\n",
      "전체\n",
      "총 72개\n"
     ]
    },
    {
     "data": {
      "text/plain": [
       "[{'name': 'NEW [10+10] 리얼 네이처 마스크 시트 (티트리 10매+캐모마일 10매)',\n",
       "  'url': 'https://www.naturerepublic.com/shop/goods_view.php?id=0000012127',\n",
       "  'image': ['http://lfyaklyqypvr852590.gcdn.ntruss.com/data/nature_data/images/product/00/00/01/21/27/b_0000012127.gif'],\n",
       "  'color': '#',\n",
       "  'category': 'HOME > 카테고리 > 팩&마스크',\n",
       "  'salePrice': 10000,\n",
       "  'originalPrice': 10000,\n",
       "  'brand': 'naturerepublic',\n",
       "  'volume': '상세페이지 참조'}]"
      ]
     },
     "metadata": {},
     "output_type": "display_data"
    },
    {
     "data": {
      "text/plain": [
       "[{'name': 'NEW [10+10] 리얼 네이처 마스크 시트 (녹차 10매+티트리 10매)',\n",
       "  'url': 'https://www.naturerepublic.com/shop/goods_view.php?id=0000012126',\n",
       "  'image': ['http://lfyaklyqypvr852590.gcdn.ntruss.com/data/nature_data/images/product/00/00/01/21/26/b_0000012126.gif'],\n",
       "  'color': '#',\n",
       "  'category': 'HOME > 카테고리 > 팩&마스크',\n",
       "  'salePrice': 10000,\n",
       "  'originalPrice': 10000,\n",
       "  'brand': 'naturerepublic',\n",
       "  'volume': '상세페이지 참조'}]"
      ]
     },
     "metadata": {},
     "output_type": "display_data"
    },
    {
     "data": {
      "text/plain": [
       "[{'name': 'NEW [10+10] 리얼 네이처 마스크 시트 (올리브 10매+오렌지 10매)',\n",
       "  'url': 'https://www.naturerepublic.com/shop/goods_view.php?id=0000012125',\n",
       "  'image': ['http://lfyaklyqypvr852590.gcdn.ntruss.com/data/nature_data/images/product/00/00/01/21/25/b_0000012125.gif'],\n",
       "  'color': '#',\n",
       "  'category': 'HOME > 카테고리 > 팩&마스크',\n",
       "  'salePrice': 10000,\n",
       "  'originalPrice': 10000,\n",
       "  'brand': 'naturerepublic',\n",
       "  'volume': '상세페이지 참조'}]"
      ]
     },
     "metadata": {},
     "output_type": "display_data"
    },
    {
     "data": {
      "text/plain": [
       "[{'name': 'NEW [10+10] 리얼 네이처 마스크 시트 (캐모마일 10매+알로에 10매)',\n",
       "  'url': 'https://www.naturerepublic.com/shop/goods_view.php?id=0000012124',\n",
       "  'image': ['http://lfyaklyqypvr852590.gcdn.ntruss.com/data/nature_data/images/product/00/00/01/21/24/b_0000012124.gif'],\n",
       "  'color': '#',\n",
       "  'category': 'HOME > 카테고리 > 팩&마스크',\n",
       "  'salePrice': 10000,\n",
       "  'originalPrice': 10000,\n",
       "  'brand': 'naturerepublic',\n",
       "  'volume': '상세페이지 참조'}]"
      ]
     },
     "metadata": {},
     "output_type": "display_data"
    },
    {
     "data": {
      "text/plain": [
       "[{'name': 'NEW [10+10] 리얼 네이처 마스크 시트 (아사이베리 10매+토마토 10매)',\n",
       "  'url': 'https://www.naturerepublic.com/shop/goods_view.php?id=0000012123',\n",
       "  'image': ['http://lfyaklyqypvr852590.gcdn.ntruss.com/data/nature_data/images/product/00/00/01/21/23/b_0000012123.gif'],\n",
       "  'color': '#',\n",
       "  'category': 'HOME > 카테고리 > 팩&마스크',\n",
       "  'salePrice': 10000,\n",
       "  'originalPrice': 10000,\n",
       "  'brand': 'naturerepublic',\n",
       "  'volume': '상세페이지 참조'}]"
      ]
     },
     "metadata": {},
     "output_type": "display_data"
    },
    {
     "data": {
      "text/plain": [
       "[{'name': 'NEW [10+10] 리얼 네이처 마스크 시트 (쉐어버터 10매+로얄젤리 10매)',\n",
       "  'url': 'https://www.naturerepublic.com/shop/goods_view.php?id=0000012122',\n",
       "  'image': ['http://lfyaklyqypvr852590.gcdn.ntruss.com/data/nature_data/images/product/00/00/01/21/22/b_0000012122.gif'],\n",
       "  'color': '#',\n",
       "  'category': 'HOME > 카테고리 > 팩&마스크',\n",
       "  'salePrice': 10000,\n",
       "  'originalPrice': 10000,\n",
       "  'brand': 'naturerepublic',\n",
       "  'volume': '상세페이지 참조'}]"
      ]
     },
     "metadata": {},
     "output_type": "display_data"
    },
    {
     "data": {
      "text/plain": [
       "[{'name': 'NEW [10+10] 리얼 네이처 마스크 시트 (녹차 10매+아보카도 10매)',\n",
       "  'url': 'https://www.naturerepublic.com/shop/goods_view.php?id=0000012121',\n",
       "  'image': ['http://lfyaklyqypvr852590.gcdn.ntruss.com/data/nature_data/images/product/00/00/01/21/21/b_0000012121.gif'],\n",
       "  'color': '#',\n",
       "  'category': 'HOME > 카테고리 > 팩&마스크',\n",
       "  'salePrice': 10000,\n",
       "  'originalPrice': 10000,\n",
       "  'brand': 'naturerepublic',\n",
       "  'volume': '상세페이지 참조'}]"
      ]
     },
     "metadata": {},
     "output_type": "display_data"
    },
    {
     "data": {
      "text/plain": [
       "[{'name': 'NEW [10+10] 리얼 네이처 마스크 시트 (장미 10매+대나무 10매)',\n",
       "  'url': 'https://www.naturerepublic.com/shop/goods_view.php?id=0000012120',\n",
       "  'image': ['http://lfyaklyqypvr852590.gcdn.ntruss.com/data/nature_data/images/product/00/00/01/21/20/b_0000012120.gif'],\n",
       "  'color': '#',\n",
       "  'category': 'HOME > 카테고리 > 팩&마스크',\n",
       "  'salePrice': 10000,\n",
       "  'originalPrice': 10000,\n",
       "  'brand': 'naturerepublic',\n",
       "  'volume': '상세페이지 참조'}]"
      ]
     },
     "metadata": {},
     "output_type": "display_data"
    },
    {
     "data": {
      "text/plain": [
       "[{'name': 'NEW [10+10] 리얼 네이처 마스크 시트 (오이 10매+알로에 10매)',\n",
       "  'url': 'https://www.naturerepublic.com/shop/goods_view.php?id=0000012119',\n",
       "  'image': ['http://lfyaklyqypvr852590.gcdn.ntruss.com/data/nature_data/images/product/00/00/01/21/19/b_0000012119.gif'],\n",
       "  'color': '#',\n",
       "  'category': 'HOME > 카테고리 > 팩&마스크',\n",
       "  'salePrice': 10000,\n",
       "  'originalPrice': 10000,\n",
       "  'brand': 'naturerepublic',\n",
       "  'volume': '상세페이지 참조'}]"
      ]
     },
     "metadata": {},
     "output_type": "display_data"
    },
    {
     "data": {
      "text/plain": [
       "[{'name': '[10+10] 리얼네이처 마스크 시트 (쉐어버터 20매)',\n",
       "  'url': 'https://www.naturerepublic.com/shop/goods_view.php?id=0000012109',\n",
       "  'image': ['http://lfyaklyqypvr852590.gcdn.ntruss.com/data/nature_data/images/product/00/00/01/21/09/b_0000012109.gif',\n",
       "   'http://lfyaklyqypvr852590.gcdn.ntruss.com/data/nature_data/images/addimg/00/00/01/21/09/b_00030023_add.gif'],\n",
       "  'color': '#',\n",
       "  'category': 'HOME > 카테고리 > 팩&마스크',\n",
       "  'salePrice': 10000,\n",
       "  'originalPrice': 10000,\n",
       "  'brand': 'naturerepublic',\n",
       "  'volume': '상세페이지 참조'}]"
      ]
     },
     "metadata": {},
     "output_type": "display_data"
    },
    {
     "data": {
      "text/plain": [
       "[{'name': '[10+10] 리얼네이처 마스크 시트 (녹차 20매)',\n",
       "  'url': 'https://www.naturerepublic.com/shop/goods_view.php?id=0000012108',\n",
       "  'image': ['http://lfyaklyqypvr852590.gcdn.ntruss.com/data/nature_data/images/product/00/00/01/21/08/b_0000012108.gif',\n",
       "   'http://lfyaklyqypvr852590.gcdn.ntruss.com/data/nature_data/images/addimg/00/00/01/21/08/b_00030022_add.gif'],\n",
       "  'color': '#',\n",
       "  'category': 'HOME > 카테고리 > 팩&마스크',\n",
       "  'salePrice': 10000,\n",
       "  'originalPrice': 10000,\n",
       "  'brand': 'naturerepublic',\n",
       "  'volume': '상세페이지 참조'}]"
      ]
     },
     "metadata": {},
     "output_type": "display_data"
    },
    {
     "data": {
      "text/plain": [
       "[{'name': '[1+1] 내추럴 펩타이드 2스텝 밴드 마스크 아보카도/오미자',\n",
       "  'url': 'https://www.naturerepublic.com/shop/goods_view.php?id=0000012025',\n",
       "  'image': ['http://lfyaklyqypvr852590.gcdn.ntruss.com/data/nature_data/images/product/00/00/01/20/25/b_0000012025.gif',\n",
       "   'http://lfyaklyqypvr852590.gcdn.ntruss.com/data/nature_data/images/addimg/00/00/01/20/25/b_00029863_add.gif'],\n",
       "  'color': '#',\n",
       "  'category': 'HOME > 카테고리 > 팩&마스크',\n",
       "  'salePrice': 8000,\n",
       "  'originalPrice': 8000,\n",
       "  'brand': 'naturerepublic',\n",
       "  'volume': '상세페이지 참조'}]"
      ]
     },
     "metadata": {},
     "output_type": "display_data"
    },
    {
     "data": {
      "text/plain": [
       "[{'name': '[1+1] 내추럴 펩타이드 프리미엄 브이패치',\n",
       "  'url': 'https://www.naturerepublic.com/shop/goods_view.php?id=0000012024',\n",
       "  'image': ['http://lfyaklyqypvr852590.gcdn.ntruss.com/data/nature_data/images/product/00/00/01/20/24/b_0000012024.gif'],\n",
       "  'color': '#',\n",
       "  'category': 'HOME > 카테고리 > 팩&마스크',\n",
       "  'salePrice': 11000,\n",
       "  'originalPrice': 11000,\n",
       "  'brand': 'naturerepublic',\n",
       "  'volume': '내추럴 펩타이드 프리미엄 브이패치\\n8g'}]"
      ]
     },
     "metadata": {},
     "output_type": "display_data"
    },
    {
     "data": {
      "text/plain": [
       "[{'name': '[엑소에디션] 더 착한 마음 마스크 시트_AHA/BHA(카이)',\n",
       "  'url': 'https://www.naturerepublic.com/shop/goods_view.php?id=0000011990',\n",
       "  'image': ['http://lfyaklyqypvr852590.gcdn.ntruss.com/data/nature_data/images/product/00/00/01/19/90/b_0000011990.gif',\n",
       "   'http://lfyaklyqypvr852590.gcdn.ntruss.com/data/nature_data/images/addimg/00/00/01/19/90/b_00029797_add.gif'],\n",
       "  'color': '#',\n",
       "  'category': 'HOME > 카테고리 > 팩&마스크',\n",
       "  'salePrice': 6500,\n",
       "  'originalPrice': 6500,\n",
       "  'brand': 'naturerepublic',\n",
       "  'volume': '[엑소에디션] 더 착한 마음 마스크 시트_AHA/BHA(카이)\\n24g'}]"
      ]
     },
     "metadata": {},
     "output_type": "display_data"
    },
    {
     "data": {
      "text/plain": [
       "[{'name': '[엑소에디션] 더 착한 마음 마스크 시트_티트리(수호)',\n",
       "  'url': 'https://www.naturerepublic.com/shop/goods_view.php?id=0000011989',\n",
       "  'image': ['http://lfyaklyqypvr852590.gcdn.ntruss.com/data/nature_data/images/product/00/00/01/19/89/b_0000011989.gif',\n",
       "   'http://lfyaklyqypvr852590.gcdn.ntruss.com/data/nature_data/images/addimg/00/00/01/19/89/b_00029796_add.gif'],\n",
       "  'color': '#',\n",
       "  'category': 'HOME > 카테고리 > 팩&마스크',\n",
       "  'salePrice': 6500,\n",
       "  'originalPrice': 6500,\n",
       "  'brand': 'naturerepublic',\n",
       "  'volume': '[엑소에디션] 더 착한 마음 마스크 시트_티트리(수호)\\n24g'}]"
      ]
     },
     "metadata": {},
     "output_type": "display_data"
    },
    {
     "data": {
      "text/plain": [
       "[{'name': '[엑소에디션] 더 착한 마음 마스크 시트_비타민E(디오)',\n",
       "  'url': 'https://www.naturerepublic.com/shop/goods_view.php?id=0000011988',\n",
       "  'image': ['http://lfyaklyqypvr852590.gcdn.ntruss.com/data/nature_data/images/product/00/00/01/19/88/b_0000011988.gif',\n",
       "   'http://lfyaklyqypvr852590.gcdn.ntruss.com/data/nature_data/images/addimg/00/00/01/19/88/b_00029795_add.gif'],\n",
       "  'color': '#',\n",
       "  'category': 'HOME > 카테고리 > 팩&마스크',\n",
       "  'salePrice': 6500,\n",
       "  'originalPrice': 6500,\n",
       "  'brand': 'naturerepublic',\n",
       "  'volume': '[엑소에디션] 더 착한 마음 마스크 시트_비타민E(디오)\\n24g'}]"
      ]
     },
     "metadata": {},
     "output_type": "display_data"
    },
    {
     "data": {
      "text/plain": [
       "[{'name': '[엑소에디션] 더 착한 마음 마스크 시트_세라마이드(첸)',\n",
       "  'url': 'https://www.naturerepublic.com/shop/goods_view.php?id=0000011987',\n",
       "  'image': ['http://lfyaklyqypvr852590.gcdn.ntruss.com/data/nature_data/images/product/00/00/01/19/87/b_0000011987.gif',\n",
       "   'http://lfyaklyqypvr852590.gcdn.ntruss.com/data/nature_data/images/addimg/00/00/01/19/87/b_00029794_add.gif'],\n",
       "  'color': '#',\n",
       "  'category': 'HOME > 카테고리 > 팩&마스크',\n",
       "  'salePrice': 6500,\n",
       "  'originalPrice': 6500,\n",
       "  'brand': 'naturerepublic',\n",
       "  'volume': '[엑소에디션] 더 착한 마음 마스크 시트_세라마이드(첸)\\n24g'}]"
      ]
     },
     "metadata": {},
     "output_type": "display_data"
    },
    {
     "data": {
      "text/plain": [
       "[{'name': '[엑소에디션] 더 착한 마음 마스크 시트_콜라겐(세훈)',\n",
       "  'url': 'https://www.naturerepublic.com/shop/goods_view.php?id=0000011986',\n",
       "  'image': ['http://lfyaklyqypvr852590.gcdn.ntruss.com/data/nature_data/images/product/00/00/01/19/86/b_0000011986.gif',\n",
       "   'http://lfyaklyqypvr852590.gcdn.ntruss.com/data/nature_data/images/addimg/00/00/01/19/86/b_00029793_add.gif'],\n",
       "  'color': '#',\n",
       "  'category': 'HOME > 카테고리 > 팩&마스크',\n",
       "  'salePrice': 6500,\n",
       "  'originalPrice': 6500,\n",
       "  'brand': 'naturerepublic',\n",
       "  'volume': '[엑소에디션] 더 착한 마음 마스크 시트_콜라겐(세훈)\\n24g'}]"
      ]
     },
     "metadata": {},
     "output_type": "display_data"
    },
    {
     "data": {
      "text/plain": [
       "[{'name': '[엑소에디션] 더 착한 마음 마스크 시트_마데카소사이드(시우민)',\n",
       "  'url': 'https://www.naturerepublic.com/shop/goods_view.php?id=0000011985',\n",
       "  'image': ['http://lfyaklyqypvr852590.gcdn.ntruss.com/data/nature_data/images/product/00/00/01/19/85/b_0000011985.gif',\n",
       "   'http://lfyaklyqypvr852590.gcdn.ntruss.com/data/nature_data/images/addimg/00/00/01/19/85/b_00029792_add.gif'],\n",
       "  'color': '#',\n",
       "  'category': 'HOME > 카테고리 > 팩&마스크',\n",
       "  'salePrice': 6500,\n",
       "  'originalPrice': 6500,\n",
       "  'brand': 'naturerepublic',\n",
       "  'volume': '[엑소에디션] 더 착한 마음 마스크 시트_마데카소사이드(시우민)\\n24g'}]"
      ]
     },
     "metadata": {},
     "output_type": "display_data"
    },
    {
     "data": {
      "text/plain": [
       "[{'name': '[엑소에디션] 더 착한 마음 마스크 시트_비타민C(찬열)',\n",
       "  'url': 'https://www.naturerepublic.com/shop/goods_view.php?id=0000011984',\n",
       "  'image': ['http://lfyaklyqypvr852590.gcdn.ntruss.com/data/nature_data/images/product/00/00/01/19/84/b_0000011984.gif',\n",
       "   'http://lfyaklyqypvr852590.gcdn.ntruss.com/data/nature_data/images/addimg/00/00/01/19/84/b_00029791_add.gif'],\n",
       "  'color': '#',\n",
       "  'category': 'HOME > 카테고리 > 팩&마스크',\n",
       "  'salePrice': 6500,\n",
       "  'originalPrice': 6500,\n",
       "  'brand': 'naturerepublic',\n",
       "  'volume': '[엑소에디션] 더 착한 마음 마스크 시트_비타민C(찬열)\\n24g'}]"
      ]
     },
     "metadata": {},
     "output_type": "display_data"
    },
    {
     "data": {
      "text/plain": [
       "[{'name': '[엑소에디션] 더 착한 마음 마스크 시트_히알루론산(백현)',\n",
       "  'url': 'https://www.naturerepublic.com/shop/goods_view.php?id=0000011983',\n",
       "  'image': ['http://lfyaklyqypvr852590.gcdn.ntruss.com/data/nature_data/images/product/00/00/01/19/83/b_0000011983.gif',\n",
       "   'http://lfyaklyqypvr852590.gcdn.ntruss.com/data/nature_data/images/addimg/00/00/01/19/83/b_00029790_add.gif'],\n",
       "  'color': '#',\n",
       "  'category': 'HOME > 카테고리 > 팩&마스크',\n",
       "  'salePrice': 6500,\n",
       "  'originalPrice': 6500,\n",
       "  'brand': 'naturerepublic',\n",
       "  'volume': '[엑소에디션] 더 착한 마음 마스크 시트_히알루론산(백현)\\n24g'}]"
      ]
     },
     "metadata": {},
     "output_type": "display_data"
    },
    {
     "data": {
      "text/plain": [
       "[{'name': '[10+10] 리얼 네이처 마스크 시트 (오이 10매 + 알로에 10매)',\n",
       "  'url': 'https://www.naturerepublic.com/shop/goods_view.php?id=0000011907',\n",
       "  'image': ['http://lfyaklyqypvr852590.gcdn.ntruss.com/data/nature_data/images/product/00/00/01/19/07/b_0000011907.gif'],\n",
       "  'color': '#',\n",
       "  'category': 'HOME > 카테고리 > 팩&마스크',\n",
       "  'salePrice': 10000,\n",
       "  'originalPrice': 10000,\n",
       "  'brand': 'naturerepublic',\n",
       "  'volume': '23ml*20매'}]"
      ]
     },
     "metadata": {},
     "output_type": "display_data"
    },
    {
     "data": {
      "text/plain": [
       "[{'name': '[10+10] 리얼 네이처 마스크 시트 (장미 10매 + 대나무 10매)',\n",
       "  'url': 'https://www.naturerepublic.com/shop/goods_view.php?id=0000011906',\n",
       "  'image': ['http://lfyaklyqypvr852590.gcdn.ntruss.com/data/nature_data/images/product/00/00/01/19/06/b_0000011906.gif'],\n",
       "  'color': '#',\n",
       "  'category': 'HOME > 카테고리 > 팩&마스크',\n",
       "  'salePrice': 10000,\n",
       "  'originalPrice': 10000,\n",
       "  'brand': 'naturerepublic',\n",
       "  'volume': '23ml*20매'}]"
      ]
     },
     "metadata": {},
     "output_type": "display_data"
    },
    {
     "data": {
      "text/plain": [
       "[{'name': '[10+10] 리얼 네이처 마스크 시트 (오렌지 20매)',\n",
       "  'url': 'https://www.naturerepublic.com/shop/goods_view.php?id=0000011899',\n",
       "  'image': ['http://lfyaklyqypvr852590.gcdn.ntruss.com/data/nature_data/images/product/00/00/01/18/99/b_0000011899.gif'],\n",
       "  'color': '#',\n",
       "  'category': 'HOME > 카테고리 > 팩&마스크',\n",
       "  'salePrice': 10000,\n",
       "  'originalPrice': 10000,\n",
       "  'brand': 'naturerepublic',\n",
       "  'volume': '23ml*20매'}]"
      ]
     },
     "metadata": {},
     "output_type": "display_data"
    },
    {
     "data": {
      "text/plain": [
       "[{'name': '[10+10] 리얼 네이처 마스크 시트 (캐모마일 10매 + 알로에 10매)',\n",
       "  'url': 'https://www.naturerepublic.com/shop/goods_view.php?id=0000011898',\n",
       "  'image': ['http://lfyaklyqypvr852590.gcdn.ntruss.com/data/nature_data/images/product/00/00/01/18/98/b_0000011898.gif'],\n",
       "  'color': '#',\n",
       "  'category': 'HOME > 카테고리 > 팩&마스크',\n",
       "  'salePrice': 10000,\n",
       "  'originalPrice': 10000,\n",
       "  'brand': 'naturerepublic',\n",
       "  'volume': '23ml*20매'}]"
      ]
     },
     "metadata": {},
     "output_type": "display_data"
    },
    {
     "data": {
      "text/plain": [
       "[{'name': '[10+10] 리얼 네이처 마스크 시트 (올리브 20매)',\n",
       "  'url': 'https://www.naturerepublic.com/shop/goods_view.php?id=0000011896',\n",
       "  'image': ['http://lfyaklyqypvr852590.gcdn.ntruss.com/data/nature_data/images/product/00/00/01/18/96/b_0000011896.gif'],\n",
       "  'color': '#',\n",
       "  'category': 'HOME > 카테고리 > 팩&마스크',\n",
       "  'salePrice': 10000,\n",
       "  'originalPrice': 10000,\n",
       "  'brand': 'naturerepublic',\n",
       "  'volume': '23ml*20매'}]"
      ]
     },
     "metadata": {},
     "output_type": "display_data"
    },
    {
     "data": {
      "text/plain": [
       "[{'name': '[1+1] 더 착한 마음 마스크 시트',\n",
       "  'url': 'https://www.naturerepublic.com/shop/goods_view.php?id=0000011895',\n",
       "  'image': ['http://lfyaklyqypvr852590.gcdn.ntruss.com/data/nature_data/images/product/00/00/01/18/95/b_0000011895.gif'],\n",
       "  'color': '#',\n",
       "  'category': 'HOME > 카테고리 > 팩&마스크',\n",
       "  'salePrice': 1200,\n",
       "  'originalPrice': 1200,\n",
       "  'brand': 'naturerepublic',\n",
       "  'volume': '24g'}]"
      ]
     },
     "metadata": {},
     "output_type": "display_data"
    },
    {
     "data": {
      "text/plain": [
       "[{'name': '[10+10] 리얼네이처 마스크 시트 (알로에 20매)',\n",
       "  'url': 'https://www.naturerepublic.com/shop/goods_view.php?id=0000011894',\n",
       "  'image': ['http://lfyaklyqypvr852590.gcdn.ntruss.com/data/nature_data/images/product/00/00/01/18/94/b_0000011894.gif'],\n",
       "  'color': '#',\n",
       "  'category': 'HOME > 카테고리 > 팩&마스크',\n",
       "  'salePrice': 10000,\n",
       "  'originalPrice': 10000,\n",
       "  'brand': 'naturerepublic',\n",
       "  'volume': '23ml*20매'}]"
      ]
     },
     "metadata": {},
     "output_type": "display_data"
    },
    {
     "data": {
      "text/plain": [
       "[{'name': '[10+10] 리얼네이처 마스크 시트 (올리브 10매 + 오렌지 10매)',\n",
       "  'url': 'https://www.naturerepublic.com/shop/goods_view.php?id=0000011893',\n",
       "  'image': ['http://lfyaklyqypvr852590.gcdn.ntruss.com/data/nature_data/images/product/00/00/01/18/93/b_0000011893.gif'],\n",
       "  'color': '#',\n",
       "  'category': 'HOME > 카테고리 > 팩&마스크',\n",
       "  'salePrice': 10000,\n",
       "  'originalPrice': 10000,\n",
       "  'brand': 'naturerepublic',\n",
       "  'volume': '23ml*20매'}]"
      ]
     },
     "metadata": {},
     "output_type": "display_data"
    },
    {
     "data": {
      "text/plain": [
       "[{'name': '[10+10] 리얼 네이처 마스크 시트 (캐모마일 20매)',\n",
       "  'url': 'https://www.naturerepublic.com/shop/goods_view.php?id=0000011890',\n",
       "  'image': ['http://lfyaklyqypvr852590.gcdn.ntruss.com/data/nature_data/images/product/00/00/01/18/90/b_0000011890.gif'],\n",
       "  'color': '#',\n",
       "  'category': 'HOME > 카테고리 > 팩&마스크',\n",
       "  'salePrice': 10000,\n",
       "  'originalPrice': 10000,\n",
       "  'brand': 'naturerepublic',\n",
       "  'volume': '23ml*20매'}]"
      ]
     },
     "metadata": {},
     "output_type": "display_data"
    },
    {
     "data": {
      "text/plain": [
       "[{'name': '[10+10] 리얼 네이처 마스크 시트 (토마토 20매)',\n",
       "  'url': 'https://www.naturerepublic.com/shop/goods_view.php?id=0000011887',\n",
       "  'image': ['http://lfyaklyqypvr852590.gcdn.ntruss.com/data/nature_data/images/product/00/00/01/18/87/b_0000011887.gif'],\n",
       "  'color': '#',\n",
       "  'category': 'HOME > 카테고리 > 팩&마스크',\n",
       "  'salePrice': 10000,\n",
       "  'originalPrice': 10000,\n",
       "  'brand': 'naturerepublic',\n",
       "  'volume': '23ml*10매'}]"
      ]
     },
     "metadata": {},
     "output_type": "display_data"
    },
    {
     "data": {
      "text/plain": [
       "[{'name': '수딩 앤 모이스처 알로에베라 92% 수딩젤 마스크시트',\n",
       "  'url': 'https://www.naturerepublic.com/shop/goods_view.php?id=0000010699',\n",
       "  'image': ['http://lfyaklyqypvr852590.gcdn.ntruss.com/data/nature_data/images/product/00/00/01/06/99/b_0000010699.gif'],\n",
       "  'color': '#',\n",
       "  'category': 'HOME > 카테고리 > 팩&마스크',\n",
       "  'salePrice': 2000,\n",
       "  'originalPrice': 2000,\n",
       "  'brand': 'naturerepublic',\n",
       "  'volume': '30g'}]"
      ]
     },
     "metadata": {},
     "output_type": "display_data"
    },
    {
     "data": {
      "text/plain": [
       "[{'name': '[엑소에디션] 더 착한 마음 마스크 시트_세라마이드(첸)',\n",
       "  'url': 'https://www.naturerepublic.com/shop/goods_view.php?id=0000011987',\n",
       "  'image': ['http://lfyaklyqypvr852590.gcdn.ntruss.com/data/nature_data/images/product/00/00/01/19/87/b_0000011987.gif',\n",
       "   'http://lfyaklyqypvr852590.gcdn.ntruss.com/data/nature_data/images/addimg/00/00/01/19/87/b_00029794_add.gif'],\n",
       "  'color': '#',\n",
       "  'category': 'HOME > 카테고리 > 팩&마스크',\n",
       "  'salePrice': 6500,\n",
       "  'originalPrice': 6500,\n",
       "  'brand': 'naturerepublic',\n",
       "  'volume': '[엑소에디션] 더 착한 마음 마스크 시트_세라마이드(첸)\\n24g'}]"
      ]
     },
     "metadata": {},
     "output_type": "display_data"
    },
    {
     "data": {
      "text/plain": [
       "[{'name': '[엑소에디션] 더 착한 마음 마스크 시트_콜라겐(세훈)',\n",
       "  'url': 'https://www.naturerepublic.com/shop/goods_view.php?id=0000011986',\n",
       "  'image': ['http://lfyaklyqypvr852590.gcdn.ntruss.com/data/nature_data/images/product/00/00/01/19/86/b_0000011986.gif',\n",
       "   'http://lfyaklyqypvr852590.gcdn.ntruss.com/data/nature_data/images/addimg/00/00/01/19/86/b_00029793_add.gif'],\n",
       "  'color': '#',\n",
       "  'category': 'HOME > 카테고리 > 팩&마스크',\n",
       "  'salePrice': 6500,\n",
       "  'originalPrice': 6500,\n",
       "  'brand': 'naturerepublic',\n",
       "  'volume': '[엑소에디션] 더 착한 마음 마스크 시트_콜라겐(세훈)\\n24g'}]"
      ]
     },
     "metadata": {},
     "output_type": "display_data"
    },
    {
     "data": {
      "text/plain": [
       "[{'name': '[엑소에디션] 더 착한 마음 마스크 시트_마데카소사이드(시우민)',\n",
       "  'url': 'https://www.naturerepublic.com/shop/goods_view.php?id=0000011985',\n",
       "  'image': ['http://lfyaklyqypvr852590.gcdn.ntruss.com/data/nature_data/images/product/00/00/01/19/85/b_0000011985.gif',\n",
       "   'http://lfyaklyqypvr852590.gcdn.ntruss.com/data/nature_data/images/addimg/00/00/01/19/85/b_00029792_add.gif'],\n",
       "  'color': '#',\n",
       "  'category': 'HOME > 카테고리 > 팩&마스크',\n",
       "  'salePrice': 6500,\n",
       "  'originalPrice': 6500,\n",
       "  'brand': 'naturerepublic',\n",
       "  'volume': '[엑소에디션] 더 착한 마음 마스크 시트_마데카소사이드(시우민)\\n24g'}]"
      ]
     },
     "metadata": {},
     "output_type": "display_data"
    },
    {
     "data": {
      "text/plain": [
       "[{'name': '[엑소에디션] 더 착한 마음 마스크 시트_비타민C(찬열)',\n",
       "  'url': 'https://www.naturerepublic.com/shop/goods_view.php?id=0000011984',\n",
       "  'image': ['http://lfyaklyqypvr852590.gcdn.ntruss.com/data/nature_data/images/product/00/00/01/19/84/b_0000011984.gif',\n",
       "   'http://lfyaklyqypvr852590.gcdn.ntruss.com/data/nature_data/images/addimg/00/00/01/19/84/b_00029791_add.gif'],\n",
       "  'color': '#',\n",
       "  'category': 'HOME > 카테고리 > 팩&마스크',\n",
       "  'salePrice': 6500,\n",
       "  'originalPrice': 6500,\n",
       "  'brand': 'naturerepublic',\n",
       "  'volume': '[엑소에디션] 더 착한 마음 마스크 시트_비타민C(찬열)\\n24g'}]"
      ]
     },
     "metadata": {},
     "output_type": "display_data"
    },
    {
     "data": {
      "text/plain": [
       "[{'name': '[엑소에디션] 더 착한 마음 마스크 시트_히알루론산(백현)',\n",
       "  'url': 'https://www.naturerepublic.com/shop/goods_view.php?id=0000011983',\n",
       "  'image': ['http://lfyaklyqypvr852590.gcdn.ntruss.com/data/nature_data/images/product/00/00/01/19/83/b_0000011983.gif',\n",
       "   'http://lfyaklyqypvr852590.gcdn.ntruss.com/data/nature_data/images/addimg/00/00/01/19/83/b_00029790_add.gif'],\n",
       "  'color': '#',\n",
       "  'category': 'HOME > 카테고리 > 팩&마스크',\n",
       "  'salePrice': 6500,\n",
       "  'originalPrice': 6500,\n",
       "  'brand': 'naturerepublic',\n",
       "  'volume': '[엑소에디션] 더 착한 마음 마스크 시트_히알루론산(백현)\\n24g'}]"
      ]
     },
     "metadata": {},
     "output_type": "display_data"
    },
    {
     "data": {
      "text/plain": [
       "[{'name': '[10+10] 리얼 네이처 마스크 시트 (오이 10매 + 알로에 10매)',\n",
       "  'url': 'https://www.naturerepublic.com/shop/goods_view.php?id=0000011907',\n",
       "  'image': ['http://lfyaklyqypvr852590.gcdn.ntruss.com/data/nature_data/images/product/00/00/01/19/07/b_0000011907.gif'],\n",
       "  'color': '#',\n",
       "  'category': 'HOME > 카테고리 > 팩&마스크',\n",
       "  'salePrice': 10000,\n",
       "  'originalPrice': 10000,\n",
       "  'brand': 'naturerepublic',\n",
       "  'volume': '23ml*20매'}]"
      ]
     },
     "metadata": {},
     "output_type": "display_data"
    },
    {
     "data": {
      "text/plain": [
       "[{'name': '[10+10] 리얼 네이처 마스크 시트 (장미 10매 + 대나무 10매)',\n",
       "  'url': 'https://www.naturerepublic.com/shop/goods_view.php?id=0000011906',\n",
       "  'image': ['http://lfyaklyqypvr852590.gcdn.ntruss.com/data/nature_data/images/product/00/00/01/19/06/b_0000011906.gif'],\n",
       "  'color': '#',\n",
       "  'category': 'HOME > 카테고리 > 팩&마스크',\n",
       "  'salePrice': 10000,\n",
       "  'originalPrice': 10000,\n",
       "  'brand': 'naturerepublic',\n",
       "  'volume': '23ml*20매'}]"
      ]
     },
     "metadata": {},
     "output_type": "display_data"
    },
    {
     "data": {
      "text/plain": [
       "[{'name': '[10+10] 리얼 네이처 마스크 시트 (오렌지 20매)',\n",
       "  'url': 'https://www.naturerepublic.com/shop/goods_view.php?id=0000011899',\n",
       "  'image': ['http://lfyaklyqypvr852590.gcdn.ntruss.com/data/nature_data/images/product/00/00/01/18/99/b_0000011899.gif'],\n",
       "  'color': '#',\n",
       "  'category': 'HOME > 카테고리 > 팩&마스크',\n",
       "  'salePrice': 10000,\n",
       "  'originalPrice': 10000,\n",
       "  'brand': 'naturerepublic',\n",
       "  'volume': '23ml*20매'}]"
      ]
     },
     "metadata": {},
     "output_type": "display_data"
    },
    {
     "data": {
      "text/plain": [
       "[{'name': '[10+10] 리얼 네이처 마스크 시트 (캐모마일 10매 + 알로에 10매)',\n",
       "  'url': 'https://www.naturerepublic.com/shop/goods_view.php?id=0000011898',\n",
       "  'image': ['http://lfyaklyqypvr852590.gcdn.ntruss.com/data/nature_data/images/product/00/00/01/18/98/b_0000011898.gif'],\n",
       "  'color': '#',\n",
       "  'category': 'HOME > 카테고리 > 팩&마스크',\n",
       "  'salePrice': 10000,\n",
       "  'originalPrice': 10000,\n",
       "  'brand': 'naturerepublic',\n",
       "  'volume': '23ml*20매'}]"
      ]
     },
     "metadata": {},
     "output_type": "display_data"
    },
    {
     "data": {
      "text/plain": [
       "[{'name': '[10+10] 리얼 네이처 마스크 시트 (올리브 20매)',\n",
       "  'url': 'https://www.naturerepublic.com/shop/goods_view.php?id=0000011896',\n",
       "  'image': ['http://lfyaklyqypvr852590.gcdn.ntruss.com/data/nature_data/images/product/00/00/01/18/96/b_0000011896.gif'],\n",
       "  'color': '#',\n",
       "  'category': 'HOME > 카테고리 > 팩&마스크',\n",
       "  'salePrice': 10000,\n",
       "  'originalPrice': 10000,\n",
       "  'brand': 'naturerepublic',\n",
       "  'volume': '23ml*20매'}]"
      ]
     },
     "metadata": {},
     "output_type": "display_data"
    },
    {
     "data": {
      "text/plain": [
       "[{'name': '[1+1] 더 착한 마음 마스크 시트',\n",
       "  'url': 'https://www.naturerepublic.com/shop/goods_view.php?id=0000011895',\n",
       "  'image': ['http://lfyaklyqypvr852590.gcdn.ntruss.com/data/nature_data/images/product/00/00/01/18/95/b_0000011895.gif'],\n",
       "  'color': '#',\n",
       "  'category': 'HOME > 카테고리 > 팩&마스크',\n",
       "  'salePrice': 1200,\n",
       "  'originalPrice': 1200,\n",
       "  'brand': 'naturerepublic',\n",
       "  'volume': '24g'}]"
      ]
     },
     "metadata": {},
     "output_type": "display_data"
    },
    {
     "data": {
      "text/plain": [
       "[{'name': '[10+10] 리얼네이처 마스크 시트 (알로에 20매)',\n",
       "  'url': 'https://www.naturerepublic.com/shop/goods_view.php?id=0000011894',\n",
       "  'image': ['http://lfyaklyqypvr852590.gcdn.ntruss.com/data/nature_data/images/product/00/00/01/18/94/b_0000011894.gif'],\n",
       "  'color': '#',\n",
       "  'category': 'HOME > 카테고리 > 팩&마스크',\n",
       "  'salePrice': 10000,\n",
       "  'originalPrice': 10000,\n",
       "  'brand': 'naturerepublic',\n",
       "  'volume': '23ml*20매'}]"
      ]
     },
     "metadata": {},
     "output_type": "display_data"
    },
    {
     "data": {
      "text/plain": [
       "[{'name': '[10+10] 리얼네이처 마스크 시트 (올리브 10매 + 오렌지 10매)',\n",
       "  'url': 'https://www.naturerepublic.com/shop/goods_view.php?id=0000011893',\n",
       "  'image': ['http://lfyaklyqypvr852590.gcdn.ntruss.com/data/nature_data/images/product/00/00/01/18/93/b_0000011893.gif'],\n",
       "  'color': '#',\n",
       "  'category': 'HOME > 카테고리 > 팩&마스크',\n",
       "  'salePrice': 10000,\n",
       "  'originalPrice': 10000,\n",
       "  'brand': 'naturerepublic',\n",
       "  'volume': '23ml*20매'}]"
      ]
     },
     "metadata": {},
     "output_type": "display_data"
    },
    {
     "data": {
      "text/plain": [
       "[{'name': '[10+10] 리얼 네이처 마스크 시트 (캐모마일 20매)',\n",
       "  'url': 'https://www.naturerepublic.com/shop/goods_view.php?id=0000011890',\n",
       "  'image': ['http://lfyaklyqypvr852590.gcdn.ntruss.com/data/nature_data/images/product/00/00/01/18/90/b_0000011890.gif'],\n",
       "  'color': '#',\n",
       "  'category': 'HOME > 카테고리 > 팩&마스크',\n",
       "  'salePrice': 10000,\n",
       "  'originalPrice': 10000,\n",
       "  'brand': 'naturerepublic',\n",
       "  'volume': '23ml*20매'}]"
      ]
     },
     "metadata": {},
     "output_type": "display_data"
    },
    {
     "data": {
      "text/plain": [
       "[{'name': '[10+10] 리얼 네이처 마스크 시트 (토마토 20매)',\n",
       "  'url': 'https://www.naturerepublic.com/shop/goods_view.php?id=0000011887',\n",
       "  'image': ['http://lfyaklyqypvr852590.gcdn.ntruss.com/data/nature_data/images/product/00/00/01/18/87/b_0000011887.gif'],\n",
       "  'color': '#',\n",
       "  'category': 'HOME > 카테고리 > 팩&마스크',\n",
       "  'salePrice': 10000,\n",
       "  'originalPrice': 10000,\n",
       "  'brand': 'naturerepublic',\n",
       "  'volume': '23ml*10매'}]"
      ]
     },
     "metadata": {},
     "output_type": "display_data"
    },
    {
     "data": {
      "text/plain": [
       "[{'name': '수딩 앤 모이스처 알로에베라 92% 수딩젤 마스크시트',\n",
       "  'url': 'https://www.naturerepublic.com/shop/goods_view.php?id=0000010699',\n",
       "  'image': ['http://lfyaklyqypvr852590.gcdn.ntruss.com/data/nature_data/images/product/00/00/01/06/99/b_0000010699.gif'],\n",
       "  'color': '#',\n",
       "  'category': 'HOME > 카테고리 > 팩&마스크',\n",
       "  'salePrice': 2000,\n",
       "  'originalPrice': 2000,\n",
       "  'brand': 'naturerepublic',\n",
       "  'volume': '30g'}]"
      ]
     },
     "metadata": {},
     "output_type": "display_data"
    },
    {
     "data": {
      "text/plain": [
       "[{'name': '그린더마 리얼 거즈 필링 마스크 아하',\n",
       "  'url': 'https://www.naturerepublic.com/shop/goods_view.php?id=0000010753',\n",
       "  'image': ['http://lfyaklyqypvr852590.gcdn.ntruss.com/data/nature_data/images/product/00/00/01/07/53/b_0000010753.gif'],\n",
       "  'color': '#',\n",
       "  'category': 'HOME > 카테고리 > 팩&마스크',\n",
       "  'salePrice': 3500,\n",
       "  'originalPrice': 3500,\n",
       "  'brand': 'naturerepublic',\n",
       "  'volume': '28g'}]"
      ]
     },
     "metadata": {},
     "output_type": "display_data"
    },
    {
     "data": {
      "text/plain": [
       "[{'name': '리얼 네이처 알로에 모이스처 데일리 마스크 시트',\n",
       "  'url': 'https://www.naturerepublic.com/shop/goods_view.php?id=0000010755',\n",
       "  'image': ['http://lfyaklyqypvr852590.gcdn.ntruss.com/data/nature_data/images/product/00/00/01/07/55/b_0000010755.gif',\n",
       "   'http://lfyaklyqypvr852590.gcdn.ntruss.com/data/nature_data/images/addimg/00/00/01/07/55/b_00028698_add.gif',\n",
       "   'http://lfyaklyqypvr852590.gcdn.ntruss.com/data/nature_data/images/addimg/00/00/01/07/55/b_00028699_add.gif'],\n",
       "  'color': '#',\n",
       "  'category': 'HOME > 카테고리 > 팩&마스크',\n",
       "  'salePrice': 7000,\n",
       "  'originalPrice': 10000,\n",
       "  'brand': 'naturerepublic',\n",
       "  'volume': '350g'}]"
      ]
     },
     "metadata": {},
     "output_type": "display_data"
    },
    {
     "data": {
      "text/plain": [
       "[{'name': '클리어 스팟 패치',\n",
       "  'url': 'https://www.naturerepublic.com/shop/goods_view.php?id=0000010252',\n",
       "  'image': ['http://lfyaklyqypvr852590.gcdn.ntruss.com/data/nature_data/images/product/00/00/01/02/52/b_0000010252.gif',\n",
       "   'http://lfyaklyqypvr852590.gcdn.ntruss.com/data/nature_data/images/addimg/00/00/01/02/52/b_00028079_add.gif'],\n",
       "  'color': '#',\n",
       "  'category': 'HOME > 카테고리 > 팩&마스크',\n",
       "  'salePrice': 3500,\n",
       "  'originalPrice': 3500,\n",
       "  'brand': 'naturerepublic',\n",
       "  'volume': '1ea'}]"
      ]
     },
     "metadata": {},
     "output_type": "display_data"
    },
    {
     "data": {
      "text/plain": [
       "[{'name': '[엑소에디션] 리얼 네이처 캐모마일 미니 마스크_수호',\n",
       "  'url': 'https://www.naturerepublic.com/shop/goods_view.php?id=0000011021',\n",
       "  'image': ['http://lfyaklyqypvr852590.gcdn.ntruss.com/data/nature_data/images/product/00/00/01/10/21/b_0000011021.gif'],\n",
       "  'color': '#',\n",
       "  'category': 'HOME > 카테고리 > 팩&마스크',\n",
       "  'salePrice': 7000,\n",
       "  'originalPrice': 7000,\n",
       "  'brand': 'naturerepublic',\n",
       "  'volume': '3개입(4g * 2매)'}]"
      ]
     },
     "metadata": {},
     "output_type": "display_data"
    },
    {
     "data": {
      "text/plain": [
       "[{'name': '[엑소에디션] 리얼 네이처 미니 마스크_디오',\n",
       "  'url': 'https://www.naturerepublic.com/shop/goods_view.php?id=0000011805',\n",
       "  'image': ['http://lfyaklyqypvr852590.gcdn.ntruss.com/data/nature_data/images/product/00/00/01/18/05/b_0000011805.gif',\n",
       "   'http://lfyaklyqypvr852590.gcdn.ntruss.com/data/nature_data/images/addimg/00/00/01/18/05/b_00029690_add.gif',\n",
       "   'http://lfyaklyqypvr852590.gcdn.ntruss.com/data/nature_data/images/addimg/00/00/01/18/05/b_00029691_add.gif'],\n",
       "  'color': '#',\n",
       "  'category': 'HOME > 카테고리 > 팩&마스크',\n",
       "  'salePrice': 7000,\n",
       "  'originalPrice': 7000,\n",
       "  'brand': 'naturerepublic',\n",
       "  'volume': '3개입(4g * 2매)'}]"
      ]
     },
     "metadata": {},
     "output_type": "display_data"
    },
    {
     "data": {
      "text/plain": [
       "[{'name': '리얼 네이처 알로에 하이드로겔 마스크',\n",
       "  'url': 'https://www.naturerepublic.com/shop/goods_view.php?id=0000010534',\n",
       "  'image': ['http://lfyaklyqypvr852590.gcdn.ntruss.com/data/nature_data/images/product/00/00/01/05/34/b_0000010534.gif'],\n",
       "  'color': '#',\n",
       "  'category': 'HOME > 카테고리 > 팩&마스크',\n",
       "  'salePrice': 1950,\n",
       "  'originalPrice': 1950,\n",
       "  'brand': 'naturerepublic',\n",
       "  'volume': ''}]"
      ]
     },
     "metadata": {},
     "output_type": "display_data"
    },
    {
     "data": {
      "text/plain": [
       "[{'name': '리얼 네이처 쉐어버터 하이드로겔 마스크',\n",
       "  'url': 'https://www.naturerepublic.com/shop/goods_view.php?id=0000010537',\n",
       "  'image': ['http://lfyaklyqypvr852590.gcdn.ntruss.com/data/nature_data/images/product/00/00/01/05/37/b_0000010537.gif'],\n",
       "  'color': '#',\n",
       "  'category': 'HOME > 카테고리 > 팩&마스크',\n",
       "  'salePrice': 1950,\n",
       "  'originalPrice': 1950,\n",
       "  'brand': 'naturerepublic',\n",
       "  'volume': ''}]"
      ]
     },
     "metadata": {},
     "output_type": "display_data"
    },
    {
     "data": {
      "text/plain": [
       "[{'name': '리얼 네이처 아르간 하이드로겔 마스크',\n",
       "  'url': 'https://www.naturerepublic.com/shop/goods_view.php?id=0000010538',\n",
       "  'image': ['http://lfyaklyqypvr852590.gcdn.ntruss.com/data/nature_data/images/product/00/00/01/05/38/b_0000010538.gif'],\n",
       "  'color': '#',\n",
       "  'category': 'HOME > 카테고리 > 팩&마스크',\n",
       "  'salePrice': 1950,\n",
       "  'originalPrice': 1950,\n",
       "  'brand': 'naturerepublic',\n",
       "  'volume': '22g'}]"
      ]
     },
     "metadata": {},
     "output_type": "display_data"
    },
    {
     "data": {
      "text/plain": [
       "[{'name': '리얼 네이처 카카두플럼 하이드로겔 마스크',\n",
       "  'url': 'https://www.naturerepublic.com/shop/goods_view.php?id=0000010539',\n",
       "  'image': ['http://lfyaklyqypvr852590.gcdn.ntruss.com/data/nature_data/images/product/00/00/01/05/39/b_0000010539.gif'],\n",
       "  'color': '#',\n",
       "  'category': 'HOME > 카테고리 > 팩&마스크',\n",
       "  'salePrice': 1950,\n",
       "  'originalPrice': 1950,\n",
       "  'brand': 'naturerepublic',\n",
       "  'volume': '22g'}]"
      ]
     },
     "metadata": {},
     "output_type": "display_data"
    },
    {
     "data": {
      "text/plain": [
       "[{'name': '리얼 네이처 청포도 하이드로겔 마스크',\n",
       "  'url': 'https://www.naturerepublic.com/shop/goods_view.php?id=0000010540',\n",
       "  'image': ['http://lfyaklyqypvr852590.gcdn.ntruss.com/data/nature_data/images/product/00/00/01/05/40/b_0000010540.gif'],\n",
       "  'color': '#',\n",
       "  'category': 'HOME > 카테고리 > 팩&마스크',\n",
       "  'salePrice': 1950,\n",
       "  'originalPrice': 1950,\n",
       "  'brand': 'naturerepublic',\n",
       "  'volume': ''}]"
      ]
     },
     "metadata": {},
     "output_type": "display_data"
    },
    {
     "data": {
      "text/plain": [
       "[{'name': '리얼 네이처 자몽 하이드로겔 마스크',\n",
       "  'url': 'https://www.naturerepublic.com/shop/goods_view.php?id=0000010541',\n",
       "  'image': ['http://lfyaklyqypvr852590.gcdn.ntruss.com/data/nature_data/images/product/00/00/01/05/41/b_0000010541.gif'],\n",
       "  'color': '#',\n",
       "  'category': 'HOME > 카테고리 > 팩&마스크',\n",
       "  'salePrice': 1950,\n",
       "  'originalPrice': 1950,\n",
       "  'brand': 'naturerepublic',\n",
       "  'volume': ''}]"
      ]
     },
     "metadata": {},
     "output_type": "display_data"
    },
    {
     "data": {
      "text/plain": [
       "[{'name': '리얼 네이처 석류 하이드로겔 마스크',\n",
       "  'url': 'https://www.naturerepublic.com/shop/goods_view.php?id=0000010542',\n",
       "  'image': ['http://lfyaklyqypvr852590.gcdn.ntruss.com/data/nature_data/images/product/00/00/01/05/42/b_0000010542.gif'],\n",
       "  'color': '#',\n",
       "  'category': 'HOME > 카테고리 > 팩&마스크',\n",
       "  'salePrice': 1950,\n",
       "  'originalPrice': 1950,\n",
       "  'brand': 'naturerepublic',\n",
       "  'volume': ''}]"
      ]
     },
     "metadata": {},
     "output_type": "display_data"
    },
    {
     "data": {
      "text/plain": [
       "[{'name': '리얼 네이처 캐모마일 하이드로겔 마스크',\n",
       "  'url': 'https://www.naturerepublic.com/shop/goods_view.php?id=0000010543',\n",
       "  'image': ['http://lfyaklyqypvr852590.gcdn.ntruss.com/data/nature_data/images/product/00/00/01/05/43/b_0000010543.gif'],\n",
       "  'color': '#',\n",
       "  'category': 'HOME > 카테고리 > 팩&마스크',\n",
       "  'salePrice': 1950,\n",
       "  'originalPrice': 1950,\n",
       "  'brand': 'naturerepublic',\n",
       "  'volume': '22g'}]"
      ]
     },
     "metadata": {},
     "output_type": "display_data"
    },
    {
     "data": {
      "text/plain": [
       "[{'name': '리얼 네이처 마누카허니 하이드로겔 마스크',\n",
       "  'url': 'https://www.naturerepublic.com/shop/goods_view.php?id=0000010544',\n",
       "  'image': ['http://lfyaklyqypvr852590.gcdn.ntruss.com/data/nature_data/images/product/00/00/01/05/44/b_0000010544.gif'],\n",
       "  'color': '#',\n",
       "  'category': 'HOME > 카테고리 > 팩&마스크',\n",
       "  'salePrice': 1950,\n",
       "  'originalPrice': 1950,\n",
       "  'brand': 'naturerepublic',\n",
       "  'volume': '22g'}]"
      ]
     },
     "metadata": {},
     "output_type": "display_data"
    },
    {
     "data": {
      "text/plain": [
       "[{'name': '리얼 스퀴즈 알로에 베라 필오프 팩',\n",
       "  'url': 'https://www.naturerepublic.com/shop/goods_view.php?id=0000009777',\n",
       "  'image': ['http://lfyaklyqypvr852590.gcdn.ntruss.com/data/nature_data/images/product/00/00/00/97/77/b_0000009777.gif',\n",
       "   'http://lfyaklyqypvr852590.gcdn.ntruss.com/data/nature_data/images/addimg/00/00/00/97/77/b_00027475_add.gif'],\n",
       "  'color': '#',\n",
       "  'category': 'HOME > 카테고리 > 팩&마스크',\n",
       "  'salePrice': 9900,\n",
       "  'originalPrice': 9900,\n",
       "  'brand': 'naturerepublic',\n",
       "  'volume': '120㎖'}]"
      ]
     },
     "metadata": {},
     "output_type": "display_data"
    },
    {
     "data": {
      "text/plain": [
       "[{'name': '아쿠아 콜라겐 솔루션 마린 하이드로겔 마스크',\n",
       "  'url': 'https://www.naturerepublic.com/shop/goods_view.php?id=0000010292',\n",
       "  'image': ['http://lfyaklyqypvr852590.gcdn.ntruss.com/data/nature_data/images/product/00/00/01/02/92/b_0000010292.gif'],\n",
       "  'color': '#',\n",
       "  'category': 'HOME > 카테고리 > 팩&마스크',\n",
       "  'salePrice': 4500,\n",
       "  'originalPrice': 4500,\n",
       "  'brand': 'naturerepublic',\n",
       "  'volume': '25g'}]"
      ]
     },
     "metadata": {},
     "output_type": "display_data"
    },
    {
     "data": {
      "text/plain": [
       "[{'name': '그릭 요거트 팩',\n",
       "  'url': 'https://www.naturerepublic.com/shop/goods_view.php?id=0000011444',\n",
       "  'image': ['http://lfyaklyqypvr852590.gcdn.ntruss.com/data/nature_data/images/product/00/00/01/14/44/b_0000011444.gif',\n",
       "   'http://lfyaklyqypvr852590.gcdn.ntruss.com/data/nature_data/images/addimg/00/00/01/14/44/b_00029298_add.gif',\n",
       "   'http://lfyaklyqypvr852590.gcdn.ntruss.com/data/nature_data/images/addimg/00/00/01/14/44/b_00029299_add.gif',\n",
       "   'http://lfyaklyqypvr852590.gcdn.ntruss.com/data/nature_data/images/addimg/00/00/01/14/44/b_00029300_add.gif',\n",
       "   'http://lfyaklyqypvr852590.gcdn.ntruss.com/data/nature_data/images/addimg/00/00/01/14/44/b_00029301_add.gif'],\n",
       "  'color': '#',\n",
       "  'category': 'HOME > 카테고리 > 팩&마스크',\n",
       "  'salePrice': 9900,\n",
       "  'originalPrice': 9900,\n",
       "  'brand': 'naturerepublic',\n",
       "  'volume': '130ml'}]"
      ]
     },
     "metadata": {},
     "output_type": "display_data"
    },
    {
     "data": {
      "text/plain": [
       "[{'name': '양치 마스크 시트',\n",
       "  'url': 'https://www.naturerepublic.com/shop/goods_view.php?id=0000011717',\n",
       "  'image': ['http://lfyaklyqypvr852590.gcdn.ntruss.com/data/nature_data/images/product/00/00/01/17/17/b_0000011717.gif'],\n",
       "  'color': '#',\n",
       "  'category': 'HOME > 카테고리 > 팩&마스크',\n",
       "  'salePrice': 2000,\n",
       "  'originalPrice': 2000,\n",
       "  'brand': 'naturerepublic',\n",
       "  'volume': '17g'}]"
      ]
     },
     "metadata": {},
     "output_type": "display_data"
    },
    {
     "data": {
      "text/plain": [
       "[{'name': '양치 마스크 시트 [블랙]',\n",
       "  'url': 'https://www.naturerepublic.com/shop/goods_view.php?id=0000011718',\n",
       "  'image': ['http://lfyaklyqypvr852590.gcdn.ntruss.com/data/nature_data/images/product/00/00/01/17/18/b_0000011718.gif'],\n",
       "  'color': '#',\n",
       "  'category': 'HOME > 카테고리 > 팩&마스크',\n",
       "  'salePrice': 2000,\n",
       "  'originalPrice': 2000,\n",
       "  'brand': 'naturerepublic',\n",
       "  'volume': '20g'}]"
      ]
     },
     "metadata": {},
     "output_type": "display_data"
    },
    {
     "data": {
      "text/plain": [
       "[{'name': '블랙헤드 클리어 3-스텝 코팩',\n",
       "  'url': 'https://www.naturerepublic.com/shop/goods_view.php?id=0000010203',\n",
       "  'image': ['http://lfyaklyqypvr852590.gcdn.ntruss.com/data/nature_data/images/product/00/00/01/02/03/b_0000010203.gif',\n",
       "   'http://lfyaklyqypvr852590.gcdn.ntruss.com/data/nature_data/images/addimg/00/00/01/02/03/b_00028017_add.gif',\n",
       "   'http://lfyaklyqypvr852590.gcdn.ntruss.com/data/nature_data/images/addimg/00/00/01/02/03/b_00028018_add.gif',\n",
       "   'http://lfyaklyqypvr852590.gcdn.ntruss.com/data/nature_data/images/addimg/00/00/01/02/03/b_00028019_add.gif'],\n",
       "  'color': '#',\n",
       "  'category': 'HOME > 카테고리 > 팩&마스크',\n",
       "  'salePrice': 2000,\n",
       "  'originalPrice': 2000,\n",
       "  'brand': 'naturerepublic',\n",
       "  'volume': '3g+0.2g+3g'}]"
      ]
     },
     "metadata": {},
     "output_type": "display_data"
    },
    {
     "data": {
      "text/plain": [
       "[{'name': '리얼 스퀴즈 알로에베라 슬리핑 팩',\n",
       "  'url': 'https://www.naturerepublic.com/shop/goods_view.php?id=0000010210',\n",
       "  'image': ['http://lfyaklyqypvr852590.gcdn.ntruss.com/data/nature_data/images/product/00/00/01/02/10/b_0000010210.gif',\n",
       "   'http://lfyaklyqypvr852590.gcdn.ntruss.com/data/nature_data/images/addimg/00/00/01/02/10/b_00028027_add.gif',\n",
       "   'http://lfyaklyqypvr852590.gcdn.ntruss.com/data/nature_data/images/addimg/00/00/01/02/10/b_00028028_add.gif'],\n",
       "  'color': '#',\n",
       "  'category': 'HOME > 카테고리 > 팩&마스크',\n",
       "  'salePrice': 9900,\n",
       "  'originalPrice': 9900,\n",
       "  'brand': 'naturerepublic',\n",
       "  'volume': '160ml'}]"
      ]
     },
     "metadata": {},
     "output_type": "display_data"
    },
    {
     "data": {
      "text/plain": [
       "[{'name': '그린더마 리얼 거즈 필링 마스크 바하',\n",
       "  'url': 'https://www.naturerepublic.com/shop/goods_view.php?id=0000010723',\n",
       "  'image': ['http://lfyaklyqypvr852590.gcdn.ntruss.com/data/nature_data/images/product/00/00/01/07/23/b_0000010723.gif'],\n",
       "  'color': '#',\n",
       "  'category': 'HOME > 카테고리 > 팩&마스크',\n",
       "  'salePrice': 3500,\n",
       "  'originalPrice': 3500,\n",
       "  'brand': 'naturerepublic',\n",
       "  'volume': '28g'}]"
      ]
     },
     "metadata": {},
     "output_type": "display_data"
    },
    {
     "data": {
      "text/plain": [
       "[{'name': '슈퍼 아쿠아 맥스 딥 모이스처 슬리핑 팩',\n",
       "  'url': 'https://www.naturerepublic.com/shop/goods_view.php?id=0000010469',\n",
       "  'image': ['http://lfyaklyqypvr852590.gcdn.ntruss.com/data/nature_data/images/product/00/00/01/04/69/b_0000010469.gif',\n",
       "   'http://lfyaklyqypvr852590.gcdn.ntruss.com/data/nature_data/images/addimg/00/00/01/04/69/b_00028362_add.gif',\n",
       "   'http://lfyaklyqypvr852590.gcdn.ntruss.com/data/nature_data/images/addimg/00/00/01/04/69/b_00028363_add.gif'],\n",
       "  'color': '#',\n",
       "  'category': 'HOME > 카테고리 > 팩&마스크',\n",
       "  'salePrice': 10900,\n",
       "  'originalPrice': 10900,\n",
       "  'brand': 'naturerepublic',\n",
       "  'volume': '100ml'}]"
      ]
     },
     "metadata": {},
     "output_type": "display_data"
    },
    {
     "data": {
      "text/plain": [
       "[{'name': '양치 마스크 시트 10매 기획세트 [블랙]',\n",
       "  'url': 'https://www.naturerepublic.com/shop/goods_view.php?id=0000010732',\n",
       "  'image': ['http://lfyaklyqypvr852590.gcdn.ntruss.com/data/nature_data/images/product/00/00/01/07/32/b_0000010732.gif',\n",
       "   'http://lfyaklyqypvr852590.gcdn.ntruss.com/data/nature_data/images/addimg/00/00/01/07/32/b_00028671_add.gif'],\n",
       "  'color': '#',\n",
       "  'category': 'HOME > 카테고리 > 팩&마스크',\n",
       "  'salePrice': 20000,\n",
       "  'originalPrice': 20000,\n",
       "  'brand': 'naturerepublic',\n",
       "  'volume': '200g'}]"
      ]
     },
     "metadata": {},
     "output_type": "display_data"
    },
    {
     "name": "stdout",
     "output_type": "stream",
     "text": [
      "상품 개수: 베이스 메이크업\n",
      "전체\n",
      "총 80개\n"
     ]
    },
    {
     "data": {
      "text/plain": [
       "[{'name': '프로방스 인텐시브 앰플 파운데이션 SPF30 PA+++',\n",
       "  'url': 'https://www.naturerepublic.com/shop/goods_view.php?id=0000012079',\n",
       "  'image': ['http://lfyaklyqypvr852590.gcdn.ntruss.com/data/nature_data/images/product/00/00/01/20/79/b_0000012079.gif',\n",
       "   'http://lfyaklyqypvr852590.gcdn.ntruss.com/data/nature_data/images/addimg/00/00/01/20/79/b_00029941_add.gif',\n",
       "   'http://lfyaklyqypvr852590.gcdn.ntruss.com/data/nature_data/images/addimg/00/00/01/20/79/b_00029947_add.gif',\n",
       "   'http://lfyaklyqypvr852590.gcdn.ntruss.com/data/nature_data/images/addimg/00/00/01/20/79/b_00029948_add.gif'],\n",
       "  'color': 'P21 로지 바닐라',\n",
       "  'category': 'HOME > 카테고리 > 베이스 메이크업',\n",
       "  'salePrice': 22000,\n",
       "  'originalPrice': 22000,\n",
       "  'brand': 'naturerepublic',\n",
       "  'volume': '30ml'},\n",
       " {'name': '프로방스 인텐시브 앰플 파운데이션 SPF30 PA+++',\n",
       "  'url': 'https://www.naturerepublic.com/shop/goods_view.php?id=0000012079',\n",
       "  'image': ['http://lfyaklyqypvr852590.gcdn.ntruss.com/data/nature_data/images/product/00/00/01/20/79/b_0000012079.gif',\n",
       "   'http://lfyaklyqypvr852590.gcdn.ntruss.com/data/nature_data/images/addimg/00/00/01/20/79/b_00029941_add.gif',\n",
       "   'http://lfyaklyqypvr852590.gcdn.ntruss.com/data/nature_data/images/addimg/00/00/01/20/79/b_00029947_add.gif',\n",
       "   'http://lfyaklyqypvr852590.gcdn.ntruss.com/data/nature_data/images/addimg/00/00/01/20/79/b_00029948_add.gif'],\n",
       "  'color': 'Y21 퓨어 바닐라',\n",
       "  'category': 'HOME > 카테고리 > 베이스 메이크업',\n",
       "  'salePrice': 22000,\n",
       "  'originalPrice': 22000,\n",
       "  'brand': 'naturerepublic',\n",
       "  'volume': '30ml'},\n",
       " {'name': '프로방스 인텐시브 앰플 파운데이션 SPF30 PA+++',\n",
       "  'url': 'https://www.naturerepublic.com/shop/goods_view.php?id=0000012079',\n",
       "  'image': ['http://lfyaklyqypvr852590.gcdn.ntruss.com/data/nature_data/images/product/00/00/01/20/79/b_0000012079.gif',\n",
       "   'http://lfyaklyqypvr852590.gcdn.ntruss.com/data/nature_data/images/addimg/00/00/01/20/79/b_00029941_add.gif',\n",
       "   'http://lfyaklyqypvr852590.gcdn.ntruss.com/data/nature_data/images/addimg/00/00/01/20/79/b_00029947_add.gif',\n",
       "   'http://lfyaklyqypvr852590.gcdn.ntruss.com/data/nature_data/images/addimg/00/00/01/20/79/b_00029948_add.gif'],\n",
       "  'color': 'Y23 웜 베이지',\n",
       "  'category': 'HOME > 카테고리 > 베이스 메이크업',\n",
       "  'salePrice': 22000,\n",
       "  'originalPrice': 22000,\n",
       "  'brand': 'naturerepublic',\n",
       "  'volume': '30ml'}]"
      ]
     },
     "metadata": {},
     "output_type": "display_data"
    },
    {
     "data": {
      "text/plain": [
       "[{'name': '*행사* BEST 쿠션 구매 시 9p 퍼프 3천원',\n",
       "  'url': 'https://www.naturerepublic.com/shop/goods_view.php?id=0000012027',\n",
       "  'image': ['http://lfyaklyqypvr852590.gcdn.ntruss.com/data/nature_data/images/product/00/00/01/20/27/b_0000012027.gif',\n",
       "   'http://lfyaklyqypvr852590.gcdn.ntruss.com/data/nature_data/images/addimg/00/00/01/20/27/b_00029866_add.gif',\n",
       "   'http://lfyaklyqypvr852590.gcdn.ntruss.com/data/nature_data/images/addimg/00/00/01/20/27/b_00029867_add.gif',\n",
       "   'http://lfyaklyqypvr852590.gcdn.ntruss.com/data/nature_data/images/addimg/00/00/01/20/27/b_00029868_add.gif'],\n",
       "  'color': '#',\n",
       "  'category': 'HOME > 카테고리 > 베이스 메이크업',\n",
       "  'salePrice': 20000,\n",
       "  'originalPrice': 20000,\n",
       "  'brand': 'naturerepublic',\n",
       "  'volume': '상세페이지 참조'}]"
      ]
     },
     "metadata": {},
     "output_type": "display_data"
    },
    {
     "data": {
      "text/plain": [
       "[{'name': '네이처 오리진 아쿠아 마블 파운데이션 02 내추럴 베이지 SPF50+ PA+++',\n",
       "  'url': 'https://www.naturerepublic.com/shop/goods_view.php?id=0000012010',\n",
       "  'image': ['http://lfyaklyqypvr852590.gcdn.ntruss.com/data/nature_data/images/product/00/00/01/20/10/b_0000012010.gif'],\n",
       "  'color': '#',\n",
       "  'category': 'HOME > 카테고리 > 베이스 메이크업',\n",
       "  'salePrice': 24000,\n",
       "  'originalPrice': 24000,\n",
       "  'brand': 'naturerepublic',\n",
       "  'volume': '네이처 오리진 아쿠아 마블 파운데이션 02 내추럴 베이지 SPF50+ PA+++\\n14g'}]"
      ]
     },
     "metadata": {},
     "output_type": "display_data"
    },
    {
     "data": {
      "text/plain": [
       "[{'name': '네이처 오리진 아쿠아 마블 파운데이션 01 라이트베이지 SPF50+ PA+++',\n",
       "  'url': 'https://www.naturerepublic.com/shop/goods_view.php?id=0000012009',\n",
       "  'image': ['http://lfyaklyqypvr852590.gcdn.ntruss.com/data/nature_data/images/product/00/00/01/20/09/b_0000012009.gif'],\n",
       "  'color': '#',\n",
       "  'category': 'HOME > 카테고리 > 베이스 메이크업',\n",
       "  'salePrice': 24000,\n",
       "  'originalPrice': 24000,\n",
       "  'brand': 'naturerepublic',\n",
       "  'volume': '네이처 오리진 아쿠아 마블 파운데이션 01 라이트베이지 SPF50+ PA+++\\n14g'}]"
      ]
     },
     "metadata": {},
     "output_type": "display_data"
    },
    {
     "data": {
      "text/plain": [
       "[{'name': '*행사* F/W 메이크업 룩(+브러시 세트 5천원)',\n",
       "  'url': 'https://www.naturerepublic.com/shop/goods_view.php?id=0000011968',\n",
       "  'image': ['http://lfyaklyqypvr852590.gcdn.ntruss.com/data/nature_data/images/product/00/00/01/19/68/b_0000011968.gif',\n",
       "   'http://lfyaklyqypvr852590.gcdn.ntruss.com/data/nature_data/images/addimg/00/00/01/19/68/b_00029736_add.gif'],\n",
       "  'color': '#',\n",
       "  'category': 'HOME > 카테고리 > 베이스 메이크업',\n",
       "  'salePrice': 24900,\n",
       "  'originalPrice': 24900,\n",
       "  'brand': 'naturerepublic',\n",
       "  'volume': '파데쿠션 : 14g / 블러셔팔레트 : 34g / 머랭틴트 : 4.5g / 브러쉬 : 5EA'}]"
      ]
     },
     "metadata": {},
     "output_type": "display_data"
    },
    {
     "data": {
      "text/plain": [
       "[{'name': '보테니컬 그린 티 포어 스틱',\n",
       "  'url': 'https://www.naturerepublic.com/shop/goods_view.php?id=0000010248',\n",
       "  'image': ['http://lfyaklyqypvr852590.gcdn.ntruss.com/data/nature_data/images/product/00/00/01/02/48/b_0000010248.gif',\n",
       "   'http://lfyaklyqypvr852590.gcdn.ntruss.com/data/nature_data/images/addimg/00/00/01/02/48/b_00028072_add.gif',\n",
       "   'http://lfyaklyqypvr852590.gcdn.ntruss.com/data/nature_data/images/addimg/00/00/01/02/48/b_00028073_add.gif'],\n",
       "  'color': '#',\n",
       "  'category': 'HOME > 카테고리 > 베이스 메이크업',\n",
       "  'salePrice': 7900,\n",
       "  'originalPrice': 7900,\n",
       "  'brand': 'naturerepublic',\n",
       "  'volume': '3.5g'}]"
      ]
     },
     "metadata": {},
     "output_type": "display_data"
    },
    {
     "data": {
      "text/plain": [
       "[{'name': '프로방스 에어 스킨 핏 원데이 래스팅 파운데이션 Y23 웜베이지 SPF30 PA++',\n",
       "  'url': 'https://www.naturerepublic.com/shop/goods_view.php?id=0000011784',\n",
       "  'image': ['http://lfyaklyqypvr852590.gcdn.ntruss.com/data/nature_data/images/product/00/00/01/17/84/b_0000011784.gif'],\n",
       "  'color': '#',\n",
       "  'category': 'HOME > 카테고리 > 베이스 메이크업',\n",
       "  'salePrice': 18000,\n",
       "  'originalPrice': 18000,\n",
       "  'brand': 'naturerepublic',\n",
       "  'volume': '30㎖'}]"
      ]
     },
     "metadata": {},
     "output_type": "display_data"
    },
    {
     "data": {
      "text/plain": [
       "[{'name': '프로방스 인텐스 커버 크리미 컨실러 03 진저 베이지 SPF30 PA++',\n",
       "  'url': 'https://www.naturerepublic.com/shop/goods_view.php?id=0000011279',\n",
       "  'image': ['http://lfyaklyqypvr852590.gcdn.ntruss.com/data/nature_data/images/product/00/00/01/12/79/b_0000011279.gif',\n",
       "   'http://lfyaklyqypvr852590.gcdn.ntruss.com/data/nature_data/images/addimg/00/00/01/12/79/b_00029142_add.gif'],\n",
       "  'color': '#',\n",
       "  'category': 'HOME > 카테고리 > 베이스 메이크업',\n",
       "  'salePrice': 10000,\n",
       "  'originalPrice': 10000,\n",
       "  'brand': 'naturerepublic',\n",
       "  'volume': '4.5㎖'}]"
      ]
     },
     "metadata": {},
     "output_type": "display_data"
    },
    {
     "data": {
      "text/plain": [
       "[{'name': '프로방스 에어 스킨 핏 메이크업 베이스',\n",
       "  'url': 'https://www.naturerepublic.com/shop/goods_view.php?id=0000011542',\n",
       "  'image': ['http://lfyaklyqypvr852590.gcdn.ntruss.com/data/nature_data/images/product/00/00/01/15/42/b_0000011542.gif',\n",
       "   'http://lfyaklyqypvr852590.gcdn.ntruss.com/data/nature_data/images/addimg/00/00/01/15/42/b_00029427_add.gif'],\n",
       "  'color': '#',\n",
       "  'category': 'HOME > 카테고리 > 베이스 메이크업',\n",
       "  'salePrice': 12900,\n",
       "  'originalPrice': 12900,\n",
       "  'brand': 'naturerepublic',\n",
       "  'volume': '30ml'}]"
      ]
     },
     "metadata": {},
     "output_type": "display_data"
    },
    {
     "data": {
      "text/plain": [
       "[{'name': '프로방스 인텐시브 앰플 쿠션 02 내추럴 베이지 SPF50+ PA+++',\n",
       "  'url': 'https://www.naturerepublic.com/shop/goods_view.php?id=0000011031',\n",
       "  'image': ['http://lfyaklyqypvr852590.gcdn.ntruss.com/data/nature_data/images/product/00/00/01/10/31/b_0000011031.gif',\n",
       "   'http://lfyaklyqypvr852590.gcdn.ntruss.com/data/nature_data/images/addimg/00/00/01/10/31/b_00028921_add.gif',\n",
       "   'http://lfyaklyqypvr852590.gcdn.ntruss.com/data/nature_data/images/addimg/00/00/01/10/31/b_00028922_add.gif'],\n",
       "  'color': '#',\n",
       "  'category': 'HOME > 카테고리 > 베이스 메이크업',\n",
       "  'salePrice': 23900,\n",
       "  'originalPrice': 23900,\n",
       "  'brand': 'naturerepublic',\n",
       "  'volume': '15g'}]"
      ]
     },
     "metadata": {},
     "output_type": "display_data"
    },
    {
     "data": {
      "text/plain": [
       "[{'name': '프로방스 에어 스킨 핏 메이크업 베이스 02 그린 SPF30 PA++',\n",
       "  'url': 'https://www.naturerepublic.com/shop/goods_view.php?id=0000011543',\n",
       "  'image': ['http://lfyaklyqypvr852590.gcdn.ntruss.com/data/nature_data/images/product/00/00/01/15/43/b_0000011543.gif',\n",
       "   'http://lfyaklyqypvr852590.gcdn.ntruss.com/data/nature_data/images/addimg/00/00/01/15/43/b_00029428_add.gif'],\n",
       "  'color': '#',\n",
       "  'category': 'HOME > 카테고리 > 베이스 메이크업',\n",
       "  'salePrice': 12900,\n",
       "  'originalPrice': 12900,\n",
       "  'brand': 'naturerepublic',\n",
       "  'volume': '30ml'}]"
      ]
     },
     "metadata": {},
     "output_type": "display_data"
    },
    {
     "data": {
      "text/plain": [
       "[{'name': '프로방스 에어 스킨 핏 오일 컨트롤 쿠션 01 라이트 베이지 SPF50+ PA+++',\n",
       "  'url': 'https://www.naturerepublic.com/shop/goods_view.php?id=0000011802',\n",
       "  'image': ['http://lfyaklyqypvr852590.gcdn.ntruss.com/data/nature_data/images/product/00/00/01/18/02/b_0000011802.gif',\n",
       "   'http://lfyaklyqypvr852590.gcdn.ntruss.com/data/nature_data/images/addimg/00/00/01/18/02/b_00029687_add.gif',\n",
       "   'http://lfyaklyqypvr852590.gcdn.ntruss.com/data/nature_data/images/addimg/00/00/01/18/02/b_00029688_add.gif'],\n",
       "  'color': '#',\n",
       "  'category': 'HOME > 카테고리 > 베이스 메이크업',\n",
       "  'salePrice': 16900,\n",
       "  'originalPrice': 16900,\n",
       "  'brand': 'naturerepublic',\n",
       "  'volume': '15g'}]"
      ]
     },
     "metadata": {},
     "output_type": "display_data"
    },
    {
     "data": {
      "text/plain": [
       "[{'name': '네이처 오리진 프라이머 01 윤광 SPF30,PA++ [3중기능성화장품]',\n",
       "  'url': 'https://www.naturerepublic.com/shop/goods_view.php?id=0000010523',\n",
       "  'image': ['http://lfyaklyqypvr852590.gcdn.ntruss.com/data/nature_data/images/product/00/00/01/05/23/b_0000010523.gif',\n",
       "   'http://lfyaklyqypvr852590.gcdn.ntruss.com/data/nature_data/images/addimg/00/00/01/05/23/b_00028450_add.gif'],\n",
       "  'color': '#',\n",
       "  'category': 'HOME > 카테고리 > 베이스 메이크업',\n",
       "  'salePrice': 15900,\n",
       "  'originalPrice': 15900,\n",
       "  'brand': 'naturerepublic',\n",
       "  'volume': '30ml'}]"
      ]
     },
     "metadata": {},
     "output_type": "display_data"
    },
    {
     "data": {
      "text/plain": [
       "[{'name': '보테니컬 크림 컨실러 21호 라이트 베이지',\n",
       "  'url': 'https://www.naturerepublic.com/shop/goods_view.php?id=0000011039',\n",
       "  'image': ['http://lfyaklyqypvr852590.gcdn.ntruss.com/data/nature_data/images/product/00/00/01/10/39/b_0000011039.gif',\n",
       "   'http://lfyaklyqypvr852590.gcdn.ntruss.com/data/nature_data/images/addimg/00/00/01/10/39/b_00028928_add.gif'],\n",
       "  'color': '#',\n",
       "  'category': 'HOME > 카테고리 > 베이스 메이크업',\n",
       "  'salePrice': 7700,\n",
       "  'originalPrice': 7700,\n",
       "  'brand': 'naturerepublic',\n",
       "  'volume': '15g'}]"
      ]
     },
     "metadata": {},
     "output_type": "display_data"
    },
    {
     "data": {
      "text/plain": [
       "[{'name': '네이처 오리진 커버 쿠션 01 라이트 베이지 SPF50+ PA+++',\n",
       "  'url': 'https://www.naturerepublic.com/shop/goods_view.php?id=0000011555',\n",
       "  'image': ['http://lfyaklyqypvr852590.gcdn.ntruss.com/data/nature_data/images/product/00/00/01/15/55/b_0000011555.gif',\n",
       "   'http://lfyaklyqypvr852590.gcdn.ntruss.com/data/nature_data/images/addimg/00/00/01/15/55/b_00029442_add.gif'],\n",
       "  'color': '#',\n",
       "  'category': 'HOME > 카테고리 > 베이스 메이크업',\n",
       "  'salePrice': 18900,\n",
       "  'originalPrice': 18900,\n",
       "  'brand': 'naturerepublic',\n",
       "  'volume': '15g'}]"
      ]
     },
     "metadata": {},
     "output_type": "display_data"
    },
    {
     "data": {
      "text/plain": [
       "[{'name': '네이처 오리진 커버 쿠션 02 내추럴 베이지 SPF50+ PA+++',\n",
       "  'url': 'https://www.naturerepublic.com/shop/goods_view.php?id=0000011556',\n",
       "  'image': ['http://lfyaklyqypvr852590.gcdn.ntruss.com/data/nature_data/images/product/00/00/01/15/56/b_0000011556.gif',\n",
       "   'http://lfyaklyqypvr852590.gcdn.ntruss.com/data/nature_data/images/addimg/00/00/01/15/56/b_00029443_add.gif'],\n",
       "  'color': '#',\n",
       "  'category': 'HOME > 카테고리 > 베이스 메이크업',\n",
       "  'salePrice': 18900,\n",
       "  'originalPrice': 18900,\n",
       "  'brand': 'naturerepublic',\n",
       "  'volume': '15g'}]"
      ]
     },
     "metadata": {},
     "output_type": "display_data"
    },
    {
     "data": {
      "text/plain": [
       "[{'name': 'NEW 네이처 오리진 아우라 타이트업 쿠션 01 라이트 베이지 SPF50+ PA+++',\n",
       "  'url': 'https://www.naturerepublic.com/shop/goods_view.php?id=0000011047',\n",
       "  'image': ['http://lfyaklyqypvr852590.gcdn.ntruss.com/data/nature_data/images/product/00/00/01/10/47/b_0000011047.gif'],\n",
       "  'color': '#',\n",
       "  'category': 'HOME > 카테고리 > 베이스 메이크업',\n",
       "  'salePrice': 20000,\n",
       "  'originalPrice': 20000,\n",
       "  'brand': 'naturerepublic',\n",
       "  'volume': '15g'}]"
      ]
     },
     "metadata": {},
     "output_type": "display_data"
    },
    {
     "data": {
      "text/plain": [
       "[{'name': 'NEW 네이처 오리진 아우라 타이트업 쿠션 02 내추럴 베이지 SPF50+ PA+++',\n",
       "  'url': 'https://www.naturerepublic.com/shop/goods_view.php?id=0000011048',\n",
       "  'image': ['http://lfyaklyqypvr852590.gcdn.ntruss.com/data/nature_data/images/product/00/00/01/10/48/b_0000011048.gif'],\n",
       "  'color': '#',\n",
       "  'category': 'HOME > 카테고리 > 베이스 메이크업',\n",
       "  'salePrice': 20000,\n",
       "  'originalPrice': 20000,\n",
       "  'brand': 'naturerepublic',\n",
       "  'volume': '15g'}]"
      ]
     },
     "metadata": {},
     "output_type": "display_data"
    },
    {
     "data": {
      "text/plain": [
       "[{'name': '비베놈 비비크림 02내추럴베이지 SPF30PA++',\n",
       "  'url': 'https://www.naturerepublic.com/shop/goods_view.php?id=0000011307',\n",
       "  'image': ['http://lfyaklyqypvr852590.gcdn.ntruss.com/data/nature_data/images/product/00/00/01/13/07/b_0000011307.gif',\n",
       "   'http://lfyaklyqypvr852590.gcdn.ntruss.com/data/nature_data/images/addimg/00/00/01/13/07/b_00029165_add.gif'],\n",
       "  'color': '#',\n",
       "  'category': 'HOME > 카테고리 > 베이스 메이크업',\n",
       "  'salePrice': 9900,\n",
       "  'originalPrice': 9900,\n",
       "  'brand': 'naturerepublic',\n",
       "  'volume': '40㎖'}]"
      ]
     },
     "metadata": {},
     "output_type": "display_data"
    },
    {
     "data": {
      "text/plain": [
       "[{'name': '프로방스 에어 스킨 핏 원데이 래스팅 파데 쿠션 N13 포슬린 SPF50+ PA+++',\n",
       "  'url': 'https://www.naturerepublic.com/shop/goods_view.php?id=0000011052',\n",
       "  'image': ['http://lfyaklyqypvr852590.gcdn.ntruss.com/data/nature_data/images/product/00/00/01/10/52/b_0000011052.gif',\n",
       "   'http://lfyaklyqypvr852590.gcdn.ntruss.com/data/nature_data/images/addimg/00/00/01/10/52/b_00029729_add.gif',\n",
       "   'http://lfyaklyqypvr852590.gcdn.ntruss.com/data/nature_data/images/addimg/00/00/01/10/52/b_00029732_add.gif'],\n",
       "  'color': '#',\n",
       "  'category': 'HOME > 카테고리 > 베이스 메이크업',\n",
       "  'salePrice': 23000,\n",
       "  'originalPrice': 23000,\n",
       "  'brand': 'naturerepublic',\n",
       "  'volume': '14g'}]"
      ]
     },
     "metadata": {},
     "output_type": "display_data"
    },
    {
     "data": {
      "text/plain": [
       "[{'name': '프로방스 에어 스킨 핏 원데이 래스팅 파데 쿠션 P21 로지 바닐라 SPF50+ PA+++',\n",
       "  'url': 'https://www.naturerepublic.com/shop/goods_view.php?id=0000011053',\n",
       "  'image': ['http://lfyaklyqypvr852590.gcdn.ntruss.com/data/nature_data/images/product/00/00/01/10/53/b_0000011053.gif',\n",
       "   'http://lfyaklyqypvr852590.gcdn.ntruss.com/data/nature_data/images/addimg/00/00/01/10/53/b_00029728_add.gif',\n",
       "   'http://lfyaklyqypvr852590.gcdn.ntruss.com/data/nature_data/images/addimg/00/00/01/10/53/b_00029733_add.gif'],\n",
       "  'color': '#',\n",
       "  'category': 'HOME > 카테고리 > 베이스 메이크업',\n",
       "  'salePrice': 23000,\n",
       "  'originalPrice': 23000,\n",
       "  'brand': 'naturerepublic',\n",
       "  'volume': '14g'}]"
      ]
     },
     "metadata": {},
     "output_type": "display_data"
    },
    {
     "data": {
      "text/plain": [
       "[{'name': '네이처 오리진 프라이머 02 톤업 SPF30,PA++ [3중기능성화장품]',\n",
       "  'url': 'https://www.naturerepublic.com/shop/goods_view.php?id=0000010545',\n",
       "  'image': ['http://lfyaklyqypvr852590.gcdn.ntruss.com/data/nature_data/images/product/00/00/01/05/45/b_0000010545.gif',\n",
       "   'http://lfyaklyqypvr852590.gcdn.ntruss.com/data/nature_data/images/addimg/00/00/01/05/45/b_00028464_add.gif'],\n",
       "  'color': '#',\n",
       "  'category': 'HOME > 카테고리 > 베이스 메이크업',\n",
       "  'salePrice': 15900,\n",
       "  'originalPrice': 15900,\n",
       "  'brand': 'naturerepublic',\n",
       "  'volume': '30ml'}]"
      ]
     },
     "metadata": {},
     "output_type": "display_data"
    },
    {
     "data": {
      "text/plain": [
       "[{'name': '스네일 솔루션 비비크림 01 SPF30 PA++',\n",
       "  'url': 'https://www.naturerepublic.com/shop/goods_view.php?id=0000010809',\n",
       "  'image': ['http://lfyaklyqypvr852590.gcdn.ntruss.com/data/nature_data/images/product/00/00/01/08/09/b_0000010809.gif',\n",
       "   'http://lfyaklyqypvr852590.gcdn.ntruss.com/data/nature_data/images/addimg/00/00/01/08/09/b_00028726_add.gif',\n",
       "   'http://lfyaklyqypvr852590.gcdn.ntruss.com/data/nature_data/images/addimg/00/00/01/08/09/b_00028727_add.gif',\n",
       "   'http://lfyaklyqypvr852590.gcdn.ntruss.com/data/nature_data/images/addimg/00/00/01/08/09/b_00028728_add.gif',\n",
       "   'http://lfyaklyqypvr852590.gcdn.ntruss.com/data/nature_data/images/addimg/00/00/01/08/09/b_00028729_add.gif',\n",
       "   'http://lfyaklyqypvr852590.gcdn.ntruss.com/data/nature_data/images/addimg/00/00/01/08/09/b_00028730_add.gif'],\n",
       "  'color': '#',\n",
       "  'category': 'HOME > 카테고리 > 베이스 메이크업',\n",
       "  'salePrice': 25000,\n",
       "  'originalPrice': 25000,\n",
       "  'brand': 'naturerepublic',\n",
       "  'volume': '40ml'}]"
      ]
     },
     "metadata": {},
     "output_type": "display_data"
    },
    {
     "data": {
      "text/plain": [
       "[{'name': '프로방스 인텐스커버 3in1 스트로빙 파운데이션 02 내추럴베이지',\n",
       "  'url': 'https://www.naturerepublic.com/shop/goods_view.php?id=0000010810',\n",
       "  'image': ['http://lfyaklyqypvr852590.gcdn.ntruss.com/data/nature_data/images/product/00/00/01/08/10/b_0000010810.gif',\n",
       "   'http://lfyaklyqypvr852590.gcdn.ntruss.com/data/nature_data/images/addimg/00/00/01/08/10/b_00028731_add.gif',\n",
       "   'http://lfyaklyqypvr852590.gcdn.ntruss.com/data/nature_data/images/addimg/00/00/01/08/10/b_00028732_add.gif',\n",
       "   'http://lfyaklyqypvr852590.gcdn.ntruss.com/data/nature_data/images/addimg/00/00/01/08/10/b_00028733_add.gif',\n",
       "   'http://lfyaklyqypvr852590.gcdn.ntruss.com/data/nature_data/images/addimg/00/00/01/08/10/b_00028734_add.gif'],\n",
       "  'color': '#',\n",
       "  'category': 'HOME > 카테고리 > 베이스 메이크업',\n",
       "  'salePrice': 23900,\n",
       "  'originalPrice': 23900,\n",
       "  'brand': 'naturerepublic',\n",
       "  'volume': '12g'}]"
      ]
     },
     "metadata": {},
     "output_type": "display_data"
    },
    {
     "data": {
      "text/plain": [
       "[{'name': '[GreenDeal] 네이처 오리진 트리플 컬러 톤업 쿠션 SPF50+ PA+++ (리필) (201902 까지)',\n",
       "  'url': 'https://www.naturerepublic.com/shop/goods_view.php?id=0000010557',\n",
       "  'image': ['http://lfyaklyqypvr852590.gcdn.ntruss.com/data/nature_data/images/product/00/00/01/05/57/b_0000010557.gif'],\n",
       "  'color': '#',\n",
       "  'category': 'HOME > 카테고리 > 베이스 메이크업',\n",
       "  'salePrice': 3450,\n",
       "  'originalPrice': 11900,\n",
       "  'brand': 'naturerepublic',\n",
       "  'volume': '15g'}]"
      ]
     },
     "metadata": {},
     "output_type": "display_data"
    },
    {
     "data": {
      "text/plain": [
       "[{'name': '프로방스 인텐스 커버 크리미 컨실러 01 라이트 베이지 SPF30 PA++',\n",
       "  'url': 'https://www.naturerepublic.com/shop/goods_view.php?id=0000011069',\n",
       "  'image': ['http://lfyaklyqypvr852590.gcdn.ntruss.com/data/nature_data/images/product/00/00/01/10/69/b_0000011069.gif',\n",
       "   'http://lfyaklyqypvr852590.gcdn.ntruss.com/data/nature_data/images/addimg/00/00/01/10/69/b_00028943_add.gif',\n",
       "   'http://lfyaklyqypvr852590.gcdn.ntruss.com/data/nature_data/images/addimg/00/00/01/10/69/b_00028944_add.gif'],\n",
       "  'color': '#',\n",
       "  'category': 'HOME > 카테고리 > 베이스 메이크업',\n",
       "  'salePrice': 10000,\n",
       "  'originalPrice': 10000,\n",
       "  'brand': 'naturerepublic',\n",
       "  'volume': '4.5㎖'}]"
      ]
     },
     "metadata": {},
     "output_type": "display_data"
    },
    {
     "data": {
      "text/plain": [
       "[{'name': '프로방스 에어 스킨 핏 원데이 래스팅 파데 쿠션 Y21 퓨어 바닐라 SPF50+ PA+++',\n",
       "  'url': 'https://www.naturerepublic.com/shop/goods_view.php?id=0000011070',\n",
       "  'image': ['http://lfyaklyqypvr852590.gcdn.ntruss.com/data/nature_data/images/product/00/00/01/10/70/b_0000011070.gif',\n",
       "   'http://lfyaklyqypvr852590.gcdn.ntruss.com/data/nature_data/images/addimg/00/00/01/10/70/b_00029730_add.gif',\n",
       "   'http://lfyaklyqypvr852590.gcdn.ntruss.com/data/nature_data/images/addimg/00/00/01/10/70/b_00029734_add.gif'],\n",
       "  'color': '#',\n",
       "  'category': 'HOME > 카테고리 > 베이스 메이크업',\n",
       "  'salePrice': 23000,\n",
       "  'originalPrice': 23000,\n",
       "  'brand': 'naturerepublic',\n",
       "  'volume': '14g'}]"
      ]
     },
     "metadata": {},
     "output_type": "display_data"
    },
    {
     "data": {
      "text/plain": [
       "[{'name': '진생 로얄 실크 커버 텐션 파운데이션 02 내추럴 베이지 [SPF50+PA+++]',\n",
       "  'url': 'https://www.naturerepublic.com/shop/goods_view.php?id=0000011582',\n",
       "  'image': ['http://lfyaklyqypvr852590.gcdn.ntruss.com/data/nature_data/images/product/00/00/01/15/82/b_0000011582.gif',\n",
       "   'http://lfyaklyqypvr852590.gcdn.ntruss.com/data/nature_data/images/addimg/00/00/01/15/82/b_00029463_add.gif',\n",
       "   'http://lfyaklyqypvr852590.gcdn.ntruss.com/data/nature_data/images/addimg/00/00/01/15/82/b_00029464_add.gif',\n",
       "   'http://lfyaklyqypvr852590.gcdn.ntruss.com/data/nature_data/images/addimg/00/00/01/15/82/b_00029465_add.gif',\n",
       "   'http://lfyaklyqypvr852590.gcdn.ntruss.com/data/nature_data/images/addimg/00/00/01/15/82/b_00029466_add.gif'],\n",
       "  'color': '#',\n",
       "  'category': 'HOME > 카테고리 > 베이스 메이크업',\n",
       "  'salePrice': 35000,\n",
       "  'originalPrice': 35000,\n",
       "  'brand': 'naturerepublic',\n",
       "  'volume': '12g'}]"
      ]
     },
     "metadata": {},
     "output_type": "display_data"
    },
    {
     "data": {
      "text/plain": [
       "[{'name': '프로방스 에어 스킨 핏 원데이 래스팅 파데 쿠션 Y23 웜 베이지 SPF50+ PA+++',\n",
       "  'url': 'https://www.naturerepublic.com/shop/goods_view.php?id=0000011071',\n",
       "  'image': ['http://lfyaklyqypvr852590.gcdn.ntruss.com/data/nature_data/images/product/00/00/01/10/71/b_0000011071.gif',\n",
       "   'http://lfyaklyqypvr852590.gcdn.ntruss.com/data/nature_data/images/addimg/00/00/01/10/71/b_00029731_add.gif',\n",
       "   'http://lfyaklyqypvr852590.gcdn.ntruss.com/data/nature_data/images/addimg/00/00/01/10/71/b_00029735_add.gif'],\n",
       "  'color': '#',\n",
       "  'category': 'HOME > 카테고리 > 베이스 메이크업',\n",
       "  'salePrice': 23000,\n",
       "  'originalPrice': 23000,\n",
       "  'brand': 'naturerepublic',\n",
       "  'volume': '14g'}]"
      ]
     },
     "metadata": {},
     "output_type": "display_data"
    },
    {
     "data": {
      "text/plain": [
       "[{'name': '프로방스 인텐스 커버 크리미 컨실러 02 내추럴 베이지 SPF30 PA++',\n",
       "  'url': 'https://www.naturerepublic.com/shop/goods_view.php?id=0000011074',\n",
       "  'image': ['http://lfyaklyqypvr852590.gcdn.ntruss.com/data/nature_data/images/product/00/00/01/10/74/b_0000011074.gif',\n",
       "   'http://lfyaklyqypvr852590.gcdn.ntruss.com/data/nature_data/images/addimg/00/00/01/10/74/b_00028946_add.gif'],\n",
       "  'color': '#',\n",
       "  'category': 'HOME > 카테고리 > 베이스 메이크업',\n",
       "  'salePrice': 10000,\n",
       "  'originalPrice': 10000,\n",
       "  'brand': 'naturerepublic',\n",
       "  'volume': '4.5㎖'}]"
      ]
     },
     "metadata": {},
     "output_type": "display_data"
    },
    {
     "data": {
      "text/plain": [
       "[{'name': '진생 로얄 실크 크림 파운데이션 02 내추럴 베이지 [SPF37,PA+++]',\n",
       "  'url': 'https://www.naturerepublic.com/shop/goods_view.php?id=0000011594',\n",
       "  'image': ['http://lfyaklyqypvr852590.gcdn.ntruss.com/data/nature_data/images/product/00/00/01/15/94/b_0000011594.gif',\n",
       "   'http://lfyaklyqypvr852590.gcdn.ntruss.com/data/nature_data/images/addimg/00/00/01/15/94/b_00029473_add.gif',\n",
       "   'http://lfyaklyqypvr852590.gcdn.ntruss.com/data/nature_data/images/addimg/00/00/01/15/94/b_00029474_add.gif',\n",
       "   'http://lfyaklyqypvr852590.gcdn.ntruss.com/data/nature_data/images/addimg/00/00/01/15/94/b_00029475_add.gif',\n",
       "   'http://lfyaklyqypvr852590.gcdn.ntruss.com/data/nature_data/images/addimg/00/00/01/15/94/b_00029476_add.gif'],\n",
       "  'color': '#',\n",
       "  'category': 'HOME > 카테고리 > 베이스 메이크업',\n",
       "  'salePrice': 33000,\n",
       "  'originalPrice': 33000,\n",
       "  'brand': 'naturerepublic',\n",
       "  'volume': '30㎖'}]"
      ]
     },
     "metadata": {},
     "output_type": "display_data"
    },
    {
     "data": {
      "text/plain": [
       "[{'name': '보테니컬 그린티 듀얼 컨실러 02 내추럴 베이지',\n",
       "  'url': 'https://www.naturerepublic.com/shop/goods_view.php?id=0000011084',\n",
       "  'image': ['http://lfyaklyqypvr852590.gcdn.ntruss.com/data/nature_data/images/product/00/00/01/10/84/b_0000011084.gif',\n",
       "   'http://lfyaklyqypvr852590.gcdn.ntruss.com/data/nature_data/images/addimg/00/00/01/10/84/b_00028947_add.gif',\n",
       "   'http://lfyaklyqypvr852590.gcdn.ntruss.com/data/nature_data/images/addimg/00/00/01/10/84/b_00028948_add.gif'],\n",
       "  'color': '#',\n",
       "  'category': 'HOME > 카테고리 > 베이스 메이크업',\n",
       "  'salePrice': 10900,\n",
       "  'originalPrice': 10900,\n",
       "  'brand': 'naturerepublic',\n",
       "  'volume': '4.4g+3.4ml'}]"
      ]
     },
     "metadata": {},
     "output_type": "display_data"
    },
    {
     "data": {
      "text/plain": [
       "[{'name': 'NEW 네이처 오리진 아우라 타이트업 쿠션 01 라이트 베이지 SPF50+ PA+++',\n",
       "  'url': 'https://www.naturerepublic.com/shop/goods_view.php?id=0000011047',\n",
       "  'image': ['http://lfyaklyqypvr852590.gcdn.ntruss.com/data/nature_data/images/product/00/00/01/10/47/b_0000011047.gif'],\n",
       "  'color': '#',\n",
       "  'category': 'HOME > 카테고리 > 베이스 메이크업',\n",
       "  'salePrice': 20000,\n",
       "  'originalPrice': 20000,\n",
       "  'brand': 'naturerepublic',\n",
       "  'volume': '15g'}]"
      ]
     },
     "metadata": {},
     "output_type": "display_data"
    },
    {
     "data": {
      "text/plain": [
       "[{'name': 'NEW 네이처 오리진 아우라 타이트업 쿠션 02 내추럴 베이지 SPF50+ PA+++',\n",
       "  'url': 'https://www.naturerepublic.com/shop/goods_view.php?id=0000011048',\n",
       "  'image': ['http://lfyaklyqypvr852590.gcdn.ntruss.com/data/nature_data/images/product/00/00/01/10/48/b_0000011048.gif'],\n",
       "  'color': '#',\n",
       "  'category': 'HOME > 카테고리 > 베이스 메이크업',\n",
       "  'salePrice': 20000,\n",
       "  'originalPrice': 20000,\n",
       "  'brand': 'naturerepublic',\n",
       "  'volume': '15g'}]"
      ]
     },
     "metadata": {},
     "output_type": "display_data"
    },
    {
     "data": {
      "text/plain": [
       "[{'name': '비베놈 비비크림 02내추럴베이지 SPF30PA++',\n",
       "  'url': 'https://www.naturerepublic.com/shop/goods_view.php?id=0000011307',\n",
       "  'image': ['http://lfyaklyqypvr852590.gcdn.ntruss.com/data/nature_data/images/product/00/00/01/13/07/b_0000011307.gif',\n",
       "   'http://lfyaklyqypvr852590.gcdn.ntruss.com/data/nature_data/images/addimg/00/00/01/13/07/b_00029165_add.gif'],\n",
       "  'color': '#',\n",
       "  'category': 'HOME > 카테고리 > 베이스 메이크업',\n",
       "  'salePrice': 9900,\n",
       "  'originalPrice': 9900,\n",
       "  'brand': 'naturerepublic',\n",
       "  'volume': '40㎖'}]"
      ]
     },
     "metadata": {},
     "output_type": "display_data"
    },
    {
     "data": {
      "text/plain": [
       "[{'name': '프로방스 에어 스킨 핏 원데이 래스팅 파데 쿠션 N13 포슬린 SPF50+ PA+++',\n",
       "  'url': 'https://www.naturerepublic.com/shop/goods_view.php?id=0000011052',\n",
       "  'image': ['http://lfyaklyqypvr852590.gcdn.ntruss.com/data/nature_data/images/product/00/00/01/10/52/b_0000011052.gif',\n",
       "   'http://lfyaklyqypvr852590.gcdn.ntruss.com/data/nature_data/images/addimg/00/00/01/10/52/b_00029729_add.gif',\n",
       "   'http://lfyaklyqypvr852590.gcdn.ntruss.com/data/nature_data/images/addimg/00/00/01/10/52/b_00029732_add.gif'],\n",
       "  'color': '#',\n",
       "  'category': 'HOME > 카테고리 > 베이스 메이크업',\n",
       "  'salePrice': 23000,\n",
       "  'originalPrice': 23000,\n",
       "  'brand': 'naturerepublic',\n",
       "  'volume': '14g'}]"
      ]
     },
     "metadata": {},
     "output_type": "display_data"
    },
    {
     "data": {
      "text/plain": [
       "[{'name': '프로방스 에어 스킨 핏 원데이 래스팅 파데 쿠션 P21 로지 바닐라 SPF50+ PA+++',\n",
       "  'url': 'https://www.naturerepublic.com/shop/goods_view.php?id=0000011053',\n",
       "  'image': ['http://lfyaklyqypvr852590.gcdn.ntruss.com/data/nature_data/images/product/00/00/01/10/53/b_0000011053.gif',\n",
       "   'http://lfyaklyqypvr852590.gcdn.ntruss.com/data/nature_data/images/addimg/00/00/01/10/53/b_00029728_add.gif',\n",
       "   'http://lfyaklyqypvr852590.gcdn.ntruss.com/data/nature_data/images/addimg/00/00/01/10/53/b_00029733_add.gif'],\n",
       "  'color': '#',\n",
       "  'category': 'HOME > 카테고리 > 베이스 메이크업',\n",
       "  'salePrice': 23000,\n",
       "  'originalPrice': 23000,\n",
       "  'brand': 'naturerepublic',\n",
       "  'volume': '14g'}]"
      ]
     },
     "metadata": {},
     "output_type": "display_data"
    },
    {
     "data": {
      "text/plain": [
       "[{'name': '네이처 오리진 프라이머 02 톤업 SPF30,PA++ [3중기능성화장품]',\n",
       "  'url': 'https://www.naturerepublic.com/shop/goods_view.php?id=0000010545',\n",
       "  'image': ['http://lfyaklyqypvr852590.gcdn.ntruss.com/data/nature_data/images/product/00/00/01/05/45/b_0000010545.gif',\n",
       "   'http://lfyaklyqypvr852590.gcdn.ntruss.com/data/nature_data/images/addimg/00/00/01/05/45/b_00028464_add.gif'],\n",
       "  'color': '#',\n",
       "  'category': 'HOME > 카테고리 > 베이스 메이크업',\n",
       "  'salePrice': 15900,\n",
       "  'originalPrice': 15900,\n",
       "  'brand': 'naturerepublic',\n",
       "  'volume': '30ml'}]"
      ]
     },
     "metadata": {},
     "output_type": "display_data"
    },
    {
     "data": {
      "text/plain": [
       "[{'name': '스네일 솔루션 비비크림 01 SPF30 PA++',\n",
       "  'url': 'https://www.naturerepublic.com/shop/goods_view.php?id=0000010809',\n",
       "  'image': ['http://lfyaklyqypvr852590.gcdn.ntruss.com/data/nature_data/images/product/00/00/01/08/09/b_0000010809.gif',\n",
       "   'http://lfyaklyqypvr852590.gcdn.ntruss.com/data/nature_data/images/addimg/00/00/01/08/09/b_00028726_add.gif',\n",
       "   'http://lfyaklyqypvr852590.gcdn.ntruss.com/data/nature_data/images/addimg/00/00/01/08/09/b_00028727_add.gif',\n",
       "   'http://lfyaklyqypvr852590.gcdn.ntruss.com/data/nature_data/images/addimg/00/00/01/08/09/b_00028728_add.gif',\n",
       "   'http://lfyaklyqypvr852590.gcdn.ntruss.com/data/nature_data/images/addimg/00/00/01/08/09/b_00028729_add.gif',\n",
       "   'http://lfyaklyqypvr852590.gcdn.ntruss.com/data/nature_data/images/addimg/00/00/01/08/09/b_00028730_add.gif'],\n",
       "  'color': '#',\n",
       "  'category': 'HOME > 카테고리 > 베이스 메이크업',\n",
       "  'salePrice': 25000,\n",
       "  'originalPrice': 25000,\n",
       "  'brand': 'naturerepublic',\n",
       "  'volume': '40ml'}]"
      ]
     },
     "metadata": {},
     "output_type": "display_data"
    },
    {
     "data": {
      "text/plain": [
       "[{'name': '프로방스 인텐스커버 3in1 스트로빙 파운데이션 02 내추럴베이지',\n",
       "  'url': 'https://www.naturerepublic.com/shop/goods_view.php?id=0000010810',\n",
       "  'image': ['http://lfyaklyqypvr852590.gcdn.ntruss.com/data/nature_data/images/product/00/00/01/08/10/b_0000010810.gif',\n",
       "   'http://lfyaklyqypvr852590.gcdn.ntruss.com/data/nature_data/images/addimg/00/00/01/08/10/b_00028731_add.gif',\n",
       "   'http://lfyaklyqypvr852590.gcdn.ntruss.com/data/nature_data/images/addimg/00/00/01/08/10/b_00028732_add.gif',\n",
       "   'http://lfyaklyqypvr852590.gcdn.ntruss.com/data/nature_data/images/addimg/00/00/01/08/10/b_00028733_add.gif',\n",
       "   'http://lfyaklyqypvr852590.gcdn.ntruss.com/data/nature_data/images/addimg/00/00/01/08/10/b_00028734_add.gif'],\n",
       "  'color': '#',\n",
       "  'category': 'HOME > 카테고리 > 베이스 메이크업',\n",
       "  'salePrice': 23900,\n",
       "  'originalPrice': 23900,\n",
       "  'brand': 'naturerepublic',\n",
       "  'volume': '12g'}]"
      ]
     },
     "metadata": {},
     "output_type": "display_data"
    },
    {
     "data": {
      "text/plain": [
       "[{'name': '[GreenDeal] 네이처 오리진 트리플 컬러 톤업 쿠션 SPF50+ PA+++ (리필) (201902 까지)',\n",
       "  'url': 'https://www.naturerepublic.com/shop/goods_view.php?id=0000010557',\n",
       "  'image': ['http://lfyaklyqypvr852590.gcdn.ntruss.com/data/nature_data/images/product/00/00/01/05/57/b_0000010557.gif'],\n",
       "  'color': '#',\n",
       "  'category': 'HOME > 카테고리 > 베이스 메이크업',\n",
       "  'salePrice': 3450,\n",
       "  'originalPrice': 11900,\n",
       "  'brand': 'naturerepublic',\n",
       "  'volume': '15g'}]"
      ]
     },
     "metadata": {},
     "output_type": "display_data"
    },
    {
     "data": {
      "text/plain": [
       "[{'name': '프로방스 인텐스 커버 크리미 컨실러 01 라이트 베이지 SPF30 PA++',\n",
       "  'url': 'https://www.naturerepublic.com/shop/goods_view.php?id=0000011069',\n",
       "  'image': ['http://lfyaklyqypvr852590.gcdn.ntruss.com/data/nature_data/images/product/00/00/01/10/69/b_0000011069.gif',\n",
       "   'http://lfyaklyqypvr852590.gcdn.ntruss.com/data/nature_data/images/addimg/00/00/01/10/69/b_00028943_add.gif',\n",
       "   'http://lfyaklyqypvr852590.gcdn.ntruss.com/data/nature_data/images/addimg/00/00/01/10/69/b_00028944_add.gif'],\n",
       "  'color': '#',\n",
       "  'category': 'HOME > 카테고리 > 베이스 메이크업',\n",
       "  'salePrice': 10000,\n",
       "  'originalPrice': 10000,\n",
       "  'brand': 'naturerepublic',\n",
       "  'volume': '4.5㎖'}]"
      ]
     },
     "metadata": {},
     "output_type": "display_data"
    },
    {
     "data": {
      "text/plain": [
       "[{'name': '프로방스 에어 스킨 핏 원데이 래스팅 파데 쿠션 Y21 퓨어 바닐라 SPF50+ PA+++',\n",
       "  'url': 'https://www.naturerepublic.com/shop/goods_view.php?id=0000011070',\n",
       "  'image': ['http://lfyaklyqypvr852590.gcdn.ntruss.com/data/nature_data/images/product/00/00/01/10/70/b_0000011070.gif',\n",
       "   'http://lfyaklyqypvr852590.gcdn.ntruss.com/data/nature_data/images/addimg/00/00/01/10/70/b_00029730_add.gif',\n",
       "   'http://lfyaklyqypvr852590.gcdn.ntruss.com/data/nature_data/images/addimg/00/00/01/10/70/b_00029734_add.gif'],\n",
       "  'color': '#',\n",
       "  'category': 'HOME > 카테고리 > 베이스 메이크업',\n",
       "  'salePrice': 23000,\n",
       "  'originalPrice': 23000,\n",
       "  'brand': 'naturerepublic',\n",
       "  'volume': '14g'}]"
      ]
     },
     "metadata": {},
     "output_type": "display_data"
    },
    {
     "data": {
      "text/plain": [
       "[{'name': '진생 로얄 실크 커버 텐션 파운데이션 02 내추럴 베이지 [SPF50+PA+++]',\n",
       "  'url': 'https://www.naturerepublic.com/shop/goods_view.php?id=0000011582',\n",
       "  'image': ['http://lfyaklyqypvr852590.gcdn.ntruss.com/data/nature_data/images/product/00/00/01/15/82/b_0000011582.gif',\n",
       "   'http://lfyaklyqypvr852590.gcdn.ntruss.com/data/nature_data/images/addimg/00/00/01/15/82/b_00029463_add.gif',\n",
       "   'http://lfyaklyqypvr852590.gcdn.ntruss.com/data/nature_data/images/addimg/00/00/01/15/82/b_00029464_add.gif',\n",
       "   'http://lfyaklyqypvr852590.gcdn.ntruss.com/data/nature_data/images/addimg/00/00/01/15/82/b_00029465_add.gif',\n",
       "   'http://lfyaklyqypvr852590.gcdn.ntruss.com/data/nature_data/images/addimg/00/00/01/15/82/b_00029466_add.gif'],\n",
       "  'color': '#',\n",
       "  'category': 'HOME > 카테고리 > 베이스 메이크업',\n",
       "  'salePrice': 35000,\n",
       "  'originalPrice': 35000,\n",
       "  'brand': 'naturerepublic',\n",
       "  'volume': '12g'}]"
      ]
     },
     "metadata": {},
     "output_type": "display_data"
    },
    {
     "data": {
      "text/plain": [
       "[{'name': '프로방스 에어 스킨 핏 원데이 래스팅 파데 쿠션 Y23 웜 베이지 SPF50+ PA+++',\n",
       "  'url': 'https://www.naturerepublic.com/shop/goods_view.php?id=0000011071',\n",
       "  'image': ['http://lfyaklyqypvr852590.gcdn.ntruss.com/data/nature_data/images/product/00/00/01/10/71/b_0000011071.gif',\n",
       "   'http://lfyaklyqypvr852590.gcdn.ntruss.com/data/nature_data/images/addimg/00/00/01/10/71/b_00029731_add.gif',\n",
       "   'http://lfyaklyqypvr852590.gcdn.ntruss.com/data/nature_data/images/addimg/00/00/01/10/71/b_00029735_add.gif'],\n",
       "  'color': '#',\n",
       "  'category': 'HOME > 카테고리 > 베이스 메이크업',\n",
       "  'salePrice': 23000,\n",
       "  'originalPrice': 23000,\n",
       "  'brand': 'naturerepublic',\n",
       "  'volume': '14g'}]"
      ]
     },
     "metadata": {},
     "output_type": "display_data"
    },
    {
     "data": {
      "text/plain": [
       "[{'name': '프로방스 인텐스 커버 크리미 컨실러 02 내추럴 베이지 SPF30 PA++',\n",
       "  'url': 'https://www.naturerepublic.com/shop/goods_view.php?id=0000011074',\n",
       "  'image': ['http://lfyaklyqypvr852590.gcdn.ntruss.com/data/nature_data/images/product/00/00/01/10/74/b_0000011074.gif',\n",
       "   'http://lfyaklyqypvr852590.gcdn.ntruss.com/data/nature_data/images/addimg/00/00/01/10/74/b_00028946_add.gif'],\n",
       "  'color': '#',\n",
       "  'category': 'HOME > 카테고리 > 베이스 메이크업',\n",
       "  'salePrice': 10000,\n",
       "  'originalPrice': 10000,\n",
       "  'brand': 'naturerepublic',\n",
       "  'volume': '4.5㎖'}]"
      ]
     },
     "metadata": {},
     "output_type": "display_data"
    },
    {
     "data": {
      "text/plain": [
       "[{'name': '진생 로얄 실크 크림 파운데이션 02 내추럴 베이지 [SPF37,PA+++]',\n",
       "  'url': 'https://www.naturerepublic.com/shop/goods_view.php?id=0000011594',\n",
       "  'image': ['http://lfyaklyqypvr852590.gcdn.ntruss.com/data/nature_data/images/product/00/00/01/15/94/b_0000011594.gif',\n",
       "   'http://lfyaklyqypvr852590.gcdn.ntruss.com/data/nature_data/images/addimg/00/00/01/15/94/b_00029473_add.gif',\n",
       "   'http://lfyaklyqypvr852590.gcdn.ntruss.com/data/nature_data/images/addimg/00/00/01/15/94/b_00029474_add.gif',\n",
       "   'http://lfyaklyqypvr852590.gcdn.ntruss.com/data/nature_data/images/addimg/00/00/01/15/94/b_00029475_add.gif',\n",
       "   'http://lfyaklyqypvr852590.gcdn.ntruss.com/data/nature_data/images/addimg/00/00/01/15/94/b_00029476_add.gif'],\n",
       "  'color': '#',\n",
       "  'category': 'HOME > 카테고리 > 베이스 메이크업',\n",
       "  'salePrice': 33000,\n",
       "  'originalPrice': 33000,\n",
       "  'brand': 'naturerepublic',\n",
       "  'volume': '30㎖'}]"
      ]
     },
     "metadata": {},
     "output_type": "display_data"
    },
    {
     "data": {
      "text/plain": [
       "[{'name': '보테니컬 그린티 듀얼 컨실러 02 내추럴 베이지',\n",
       "  'url': 'https://www.naturerepublic.com/shop/goods_view.php?id=0000011084',\n",
       "  'image': ['http://lfyaklyqypvr852590.gcdn.ntruss.com/data/nature_data/images/product/00/00/01/10/84/b_0000011084.gif',\n",
       "   'http://lfyaklyqypvr852590.gcdn.ntruss.com/data/nature_data/images/addimg/00/00/01/10/84/b_00028947_add.gif',\n",
       "   'http://lfyaklyqypvr852590.gcdn.ntruss.com/data/nature_data/images/addimg/00/00/01/10/84/b_00028948_add.gif'],\n",
       "  'color': '#',\n",
       "  'category': 'HOME > 카테고리 > 베이스 메이크업',\n",
       "  'salePrice': 10900,\n",
       "  'originalPrice': 10900,\n",
       "  'brand': 'naturerepublic',\n",
       "  'volume': '4.4g+3.4ml'}]"
      ]
     },
     "metadata": {},
     "output_type": "display_data"
    },
    {
     "data": {
      "text/plain": [
       "[{'name': '보테니컬 그린티 포어 파우더',\n",
       "  'url': 'https://www.naturerepublic.com/shop/goods_view.php?id=0000010317',\n",
       "  'image': ['http://lfyaklyqypvr852590.gcdn.ntruss.com/data/nature_data/images/product/00/00/01/03/17/b_0000010317.gif',\n",
       "   'http://lfyaklyqypvr852590.gcdn.ntruss.com/data/nature_data/images/addimg/00/00/01/03/17/b_00028159_add.gif',\n",
       "   'http://lfyaklyqypvr852590.gcdn.ntruss.com/data/nature_data/images/addimg/00/00/01/03/17/b_00028160_add.gif',\n",
       "   'http://lfyaklyqypvr852590.gcdn.ntruss.com/data/nature_data/images/addimg/00/00/01/03/17/b_00028161_add.gif',\n",
       "   'http://lfyaklyqypvr852590.gcdn.ntruss.com/data/nature_data/images/addimg/00/00/01/03/17/b_00028162_add.gif'],\n",
       "  'color': '#',\n",
       "  'category': 'HOME > 카테고리 > 베이스 메이크업',\n",
       "  'salePrice': 8000,\n",
       "  'originalPrice': 8000,\n",
       "  'brand': 'naturerepublic',\n",
       "  'volume': '5g'}]"
      ]
     },
     "metadata": {},
     "output_type": "display_data"
    },
    {
     "data": {
      "text/plain": [
       "[{'name': '보테니컬 그린티 포어 팩트',\n",
       "  'url': 'https://www.naturerepublic.com/shop/goods_view.php?id=0000010318',\n",
       "  'image': ['http://lfyaklyqypvr852590.gcdn.ntruss.com/data/nature_data/images/product/00/00/01/03/18/b_0000010318.gif',\n",
       "   'http://lfyaklyqypvr852590.gcdn.ntruss.com/data/nature_data/images/addimg/00/00/01/03/18/b_00028163_add.gif',\n",
       "   'http://lfyaklyqypvr852590.gcdn.ntruss.com/data/nature_data/images/addimg/00/00/01/03/18/b_00028164_add.gif',\n",
       "   'http://lfyaklyqypvr852590.gcdn.ntruss.com/data/nature_data/images/addimg/00/00/01/03/18/b_00028165_add.gif'],\n",
       "  'color': '#',\n",
       "  'category': 'HOME > 카테고리 > 베이스 메이크업',\n",
       "  'salePrice': 10000,\n",
       "  'originalPrice': 10000,\n",
       "  'brand': 'naturerepublic',\n",
       "  'volume': '8.5g'}]"
      ]
     },
     "metadata": {},
     "output_type": "display_data"
    },
    {
     "data": {
      "text/plain": [
       "[{'name': '진생 로얄 실크 커버 텐션 파운데이션 01 라이트 베이지 [SPF50+PA+++]',\n",
       "  'url': 'https://www.naturerepublic.com/shop/goods_view.php?id=0000011605',\n",
       "  'image': ['http://lfyaklyqypvr852590.gcdn.ntruss.com/data/nature_data/images/product/00/00/01/16/05/b_0000011605.gif',\n",
       "   'http://lfyaklyqypvr852590.gcdn.ntruss.com/data/nature_data/images/addimg/00/00/01/16/05/b_00029486_add.gif',\n",
       "   'http://lfyaklyqypvr852590.gcdn.ntruss.com/data/nature_data/images/addimg/00/00/01/16/05/b_00029487_add.gif',\n",
       "   'http://lfyaklyqypvr852590.gcdn.ntruss.com/data/nature_data/images/addimg/00/00/01/16/05/b_00029488_add.gif',\n",
       "   'http://lfyaklyqypvr852590.gcdn.ntruss.com/data/nature_data/images/addimg/00/00/01/16/05/b_00029489_add.gif'],\n",
       "  'color': '#',\n",
       "  'category': 'HOME > 카테고리 > 베이스 메이크업',\n",
       "  'salePrice': 35000,\n",
       "  'originalPrice': 35000,\n",
       "  'brand': 'naturerepublic',\n",
       "  'volume': '12g'}]"
      ]
     },
     "metadata": {},
     "output_type": "display_data"
    },
    {
     "data": {
      "text/plain": [
       "[{'name': '보테니컬 그린티 포어 프라이머',\n",
       "  'url': 'https://www.naturerepublic.com/shop/goods_view.php?id=0000010071',\n",
       "  'image': ['http://lfyaklyqypvr852590.gcdn.ntruss.com/data/nature_data/images/product/00/00/01/00/71/b_0000010071.gif',\n",
       "   'http://lfyaklyqypvr852590.gcdn.ntruss.com/data/nature_data/images/addimg/00/00/01/00/71/b_00027826_add.gif'],\n",
       "  'color': '#',\n",
       "  'category': 'HOME > 카테고리 > 베이스 메이크업',\n",
       "  'salePrice': 9900,\n",
       "  'originalPrice': 9900,\n",
       "  'brand': 'naturerepublic',\n",
       "  'volume': '20㎖'}]"
      ]
     },
     "metadata": {},
     "output_type": "display_data"
    },
    {
     "data": {
      "text/plain": [
       "[{'name': '프로방스 에어스킨핏 비비크림 01라이트베이지[SPF35PA++]',\n",
       "  'url': 'https://www.naturerepublic.com/shop/goods_view.php?id=0000009578',\n",
       "  'image': ['http://lfyaklyqypvr852590.gcdn.ntruss.com/data/nature_data/images/product/00/00/00/95/78/b_0000009578.gif',\n",
       "   'http://lfyaklyqypvr852590.gcdn.ntruss.com/data/nature_data/images/addimg/00/00/00/95/78/b_00027287_add.gif'],\n",
       "  'color': '#',\n",
       "  'category': 'HOME > 카테고리 > 베이스 메이크업',\n",
       "  'salePrice': 12900,\n",
       "  'originalPrice': 12900,\n",
       "  'brand': 'naturerepublic',\n",
       "  'volume': '30㎖'}]"
      ]
     },
     "metadata": {},
     "output_type": "display_data"
    },
    {
     "data": {
      "text/plain": [
       "[{'name': '프로방스 인텐스커버 3in1 스트로빙 파운데이션',\n",
       "  'url': 'https://www.naturerepublic.com/shop/goods_view.php?id=0000010858',\n",
       "  'image': ['http://lfyaklyqypvr852590.gcdn.ntruss.com/data/nature_data/images/product/00/00/01/08/58/b_0000010858.gif',\n",
       "   'http://lfyaklyqypvr852590.gcdn.ntruss.com/data/nature_data/images/addimg/00/00/01/08/58/b_00028792_add.gif',\n",
       "   'http://lfyaklyqypvr852590.gcdn.ntruss.com/data/nature_data/images/addimg/00/00/01/08/58/b_00028793_add.gif',\n",
       "   'http://lfyaklyqypvr852590.gcdn.ntruss.com/data/nature_data/images/addimg/00/00/01/08/58/b_00028794_add.gif',\n",
       "   'http://lfyaklyqypvr852590.gcdn.ntruss.com/data/nature_data/images/addimg/00/00/01/08/58/b_00028795_add.gif'],\n",
       "  'color': '#',\n",
       "  'category': 'HOME > 카테고리 > 베이스 메이크업',\n",
       "  'salePrice': 23900,\n",
       "  'originalPrice': 23900,\n",
       "  'brand': 'naturerepublic',\n",
       "  'volume': '12g'}]"
      ]
     },
     "metadata": {},
     "output_type": "display_data"
    },
    {
     "data": {
      "text/plain": [
       "[{'name': '진생 로얄 실크 크림 파운데이션 01 라이트 베이지 [SPF37,PA+++]',\n",
       "  'url': 'https://www.naturerepublic.com/shop/goods_view.php?id=0000011635',\n",
       "  'image': ['http://lfyaklyqypvr852590.gcdn.ntruss.com/data/nature_data/images/product/00/00/01/16/35/b_0000011635.gif',\n",
       "   'http://lfyaklyqypvr852590.gcdn.ntruss.com/data/nature_data/images/addimg/00/00/01/16/35/b_00029541_add.gif',\n",
       "   'http://lfyaklyqypvr852590.gcdn.ntruss.com/data/nature_data/images/addimg/00/00/01/16/35/b_00029542_add.gif',\n",
       "   'http://lfyaklyqypvr852590.gcdn.ntruss.com/data/nature_data/images/addimg/00/00/01/16/35/b_00029543_add.gif',\n",
       "   'http://lfyaklyqypvr852590.gcdn.ntruss.com/data/nature_data/images/addimg/00/00/01/16/35/b_00029544_add.gif'],\n",
       "  'color': '#',\n",
       "  'category': 'HOME > 카테고리 > 베이스 메이크업',\n",
       "  'salePrice': 33000,\n",
       "  'originalPrice': 33000,\n",
       "  'brand': 'naturerepublic',\n",
       "  'volume': '30㎖'}]"
      ]
     },
     "metadata": {},
     "output_type": "display_data"
    },
    {
     "data": {
      "text/plain": [
       "[{'name': '보테니컬 스틱 컨실러 02 내추럴',\n",
       "  'url': 'https://www.naturerepublic.com/shop/goods_view.php?id=0000011126',\n",
       "  'image': ['http://lfyaklyqypvr852590.gcdn.ntruss.com/data/nature_data/images/product/00/00/01/11/26/b_0000011126.gif',\n",
       "   'http://lfyaklyqypvr852590.gcdn.ntruss.com/data/nature_data/images/addimg/00/00/01/11/26/b_00029000_add.gif'],\n",
       "  'color': '#',\n",
       "  'category': 'HOME > 카테고리 > 베이스 메이크업',\n",
       "  'salePrice': 4800,\n",
       "  'originalPrice': 4800,\n",
       "  'brand': 'naturerepublic',\n",
       "  'volume': '1.5g'}]"
      ]
     },
     "metadata": {},
     "output_type": "display_data"
    },
    {
     "data": {
      "text/plain": [
       "[{'name': '퓨어 샤인 내추럴 쿠션 02 내추럴 베이지 SPF50+ PA+++',\n",
       "  'url': 'https://www.naturerepublic.com/shop/goods_view.php?id=0000010875',\n",
       "  'image': ['http://lfyaklyqypvr852590.gcdn.ntruss.com/data/nature_data/images/product/00/00/01/08/75/b_0000010875.gif',\n",
       "   'http://lfyaklyqypvr852590.gcdn.ntruss.com/data/nature_data/images/addimg/00/00/01/08/75/b_00028805_add.gif',\n",
       "   'http://lfyaklyqypvr852590.gcdn.ntruss.com/data/nature_data/images/addimg/00/00/01/08/75/b_00028806_add.gif'],\n",
       "  'color': '#',\n",
       "  'category': 'HOME > 카테고리 > 베이스 메이크업',\n",
       "  'salePrice': 9900,\n",
       "  'originalPrice': 9900,\n",
       "  'brand': 'naturerepublic',\n",
       "  'volume': '12g'}]"
      ]
     },
     "metadata": {},
     "output_type": "display_data"
    },
    {
     "data": {
      "text/plain": [
       "[{'name': '퓨어 샤인 내추럴 쿠션 01 라이트 베이지  SPF50+ PA+++',\n",
       "  'url': 'https://www.naturerepublic.com/shop/goods_view.php?id=0000010876',\n",
       "  'image': ['http://lfyaklyqypvr852590.gcdn.ntruss.com/data/nature_data/images/product/00/00/01/08/76/b_0000010876.gif',\n",
       "   'http://lfyaklyqypvr852590.gcdn.ntruss.com/data/nature_data/images/addimg/00/00/01/08/76/b_00028807_add.gif',\n",
       "   'http://lfyaklyqypvr852590.gcdn.ntruss.com/data/nature_data/images/addimg/00/00/01/08/76/b_00028808_add.gif'],\n",
       "  'color': '#',\n",
       "  'category': 'HOME > 카테고리 > 베이스 메이크업',\n",
       "  'salePrice': 9900,\n",
       "  'originalPrice': 9900,\n",
       "  'brand': 'naturerepublic',\n",
       "  'volume': '12g'}]"
      ]
     },
     "metadata": {},
     "output_type": "display_data"
    },
    {
     "data": {
      "text/plain": [
       "[{'name': '프로방스 인텐시브 앰플 쿠션 01 라이트 베이지 SPF50+ PA+++ (리필)',\n",
       "  'url': 'https://www.naturerepublic.com/shop/goods_view.php?id=0000010884',\n",
       "  'image': ['http://lfyaklyqypvr852590.gcdn.ntruss.com/data/nature_data/images/product/00/00/01/08/84/b_0000010884.gif',\n",
       "   'http://lfyaklyqypvr852590.gcdn.ntruss.com/data/nature_data/images/addimg/00/00/01/08/84/b_00028822_add.gif'],\n",
       "  'color': '#',\n",
       "  'category': 'HOME > 카테고리 > 베이스 메이크업',\n",
       "  'salePrice': 13900,\n",
       "  'originalPrice': 13900,\n",
       "  'brand': 'naturerepublic',\n",
       "  'volume': '15g'}]"
      ]
     },
     "metadata": {},
     "output_type": "display_data"
    },
    {
     "data": {
      "text/plain": [
       "[{'name': '멀티플 터치 스틱 02 내추럴 베이지',\n",
       "  'url': 'https://www.naturerepublic.com/shop/goods_view.php?id=0000011652',\n",
       "  'image': ['http://lfyaklyqypvr852590.gcdn.ntruss.com/data/nature_data/images/product/00/00/01/16/52/b_0000011652.gif',\n",
       "   'http://lfyaklyqypvr852590.gcdn.ntruss.com/data/nature_data/images/addimg/00/00/01/16/52/b_00029564_add.gif'],\n",
       "  'color': '#',\n",
       "  'category': 'HOME > 카테고리 > 베이스 메이크업',\n",
       "  'salePrice': 12000,\n",
       "  'originalPrice': 12000,\n",
       "  'brand': 'naturerepublic',\n",
       "  'volume': '8g'}]"
      ]
     },
     "metadata": {},
     "output_type": "display_data"
    },
    {
     "data": {
      "text/plain": [
       "[{'name': '프로방스 인텐시브 앰플 쿠션 02 내추럴 베이지 SPF50+ PA+++ (리필)',\n",
       "  'url': 'https://www.naturerepublic.com/shop/goods_view.php?id=0000010885',\n",
       "  'image': ['http://lfyaklyqypvr852590.gcdn.ntruss.com/data/nature_data/images/product/00/00/01/08/85/b_0000010885.gif',\n",
       "   'http://lfyaklyqypvr852590.gcdn.ntruss.com/data/nature_data/images/addimg/00/00/01/08/85/b_00028823_add.gif'],\n",
       "  'color': '#',\n",
       "  'category': 'HOME > 카테고리 > 베이스 메이크업',\n",
       "  'salePrice': 13900,\n",
       "  'originalPrice': 13900,\n",
       "  'brand': 'naturerepublic',\n",
       "  'volume': '15g'}]"
      ]
     },
     "metadata": {},
     "output_type": "display_data"
    },
    {
     "data": {
      "text/plain": [
       "[{'name': '멀티플 터치 스틱 03 딥베이지',\n",
       "  'url': 'https://www.naturerepublic.com/shop/goods_view.php?id=0000011661',\n",
       "  'image': ['http://lfyaklyqypvr852590.gcdn.ntruss.com/data/nature_data/images/product/00/00/01/16/61/b_0000011661.gif',\n",
       "   'http://lfyaklyqypvr852590.gcdn.ntruss.com/data/nature_data/images/addimg/00/00/01/16/61/b_00029578_add.gif'],\n",
       "  'color': '#',\n",
       "  'category': 'HOME > 카테고리 > 베이스 메이크업',\n",
       "  'salePrice': 12000,\n",
       "  'originalPrice': 12000,\n",
       "  'brand': 'naturerepublic',\n",
       "  'volume': '8g'}]"
      ]
     },
     "metadata": {},
     "output_type": "display_data"
    },
    {
     "data": {
      "text/plain": [
       "[{'name': '보테니컬 크림 컨실러 23 내추럴 베이지',\n",
       "  'url': 'https://www.naturerepublic.com/shop/goods_view.php?id=0000011662',\n",
       "  'image': ['http://lfyaklyqypvr852590.gcdn.ntruss.com/data/nature_data/images/product/00/00/01/16/62/b_0000011662.gif',\n",
       "   'http://lfyaklyqypvr852590.gcdn.ntruss.com/data/nature_data/images/addimg/00/00/01/16/62/b_00029579_add.gif'],\n",
       "  'color': '#',\n",
       "  'category': 'HOME > 카테고리 > 베이스 메이크업',\n",
       "  'salePrice': 7700,\n",
       "  'originalPrice': 7700,\n",
       "  'brand': 'naturerepublic',\n",
       "  'volume': '15g'}]"
      ]
     },
     "metadata": {},
     "output_type": "display_data"
    },
    {
     "data": {
      "text/plain": [
       "[{'name': '프로방스 인텐시브 앰플 파운데이션 01 라이트 베이지 SPF30 PA++',\n",
       "  'url': 'https://www.naturerepublic.com/shop/goods_view.php?id=0000011665',\n",
       "  'image': ['http://lfyaklyqypvr852590.gcdn.ntruss.com/data/nature_data/images/product/00/00/01/16/65/b_0000011665.gif'],\n",
       "  'color': '#',\n",
       "  'category': 'HOME > 카테고리 > 베이스 메이크업',\n",
       "  'salePrice': 18900,\n",
       "  'originalPrice': 18900,\n",
       "  'brand': 'naturerepublic',\n",
       "  'volume': '30ml'}]"
      ]
     },
     "metadata": {},
     "output_type": "display_data"
    },
    {
     "data": {
      "text/plain": [
       "[{'name': '퓨어샤인 메이크업 베이스 02 바닐라 핑크 SPF20 PA++',\n",
       "  'url': 'https://www.naturerepublic.com/shop/goods_view.php?id=0000011154',\n",
       "  'image': ['http://lfyaklyqypvr852590.gcdn.ntruss.com/data/nature_data/images/product/00/00/01/11/54/b_0000011154.gif',\n",
       "   'http://lfyaklyqypvr852590.gcdn.ntruss.com/data/nature_data/images/addimg/00/00/01/11/54/b_00029033_add.gif'],\n",
       "  'color': '#',\n",
       "  'category': 'HOME > 카테고리 > 베이스 메이크업',\n",
       "  'salePrice': 5900,\n",
       "  'originalPrice': 5900,\n",
       "  'brand': 'naturerepublic',\n",
       "  'volume': '35g'}]"
      ]
     },
     "metadata": {},
     "output_type": "display_data"
    },
    {
     "data": {
      "text/plain": [
       "[{'name': '퓨어샤인 메이크업 베이스 01 바닐라 그린 SPF20 PA++',\n",
       "  'url': 'https://www.naturerepublic.com/shop/goods_view.php?id=0000011155',\n",
       "  'image': ['http://lfyaklyqypvr852590.gcdn.ntruss.com/data/nature_data/images/product/00/00/01/11/55/b_0000011155.gif',\n",
       "   'http://lfyaklyqypvr852590.gcdn.ntruss.com/data/nature_data/images/addimg/00/00/01/11/55/b_00029034_add.gif'],\n",
       "  'color': '#',\n",
       "  'category': 'HOME > 카테고리 > 베이스 메이크업',\n",
       "  'salePrice': 5900,\n",
       "  'originalPrice': 5900,\n",
       "  'brand': 'naturerepublic',\n",
       "  'volume': '35g'}]"
      ]
     },
     "metadata": {},
     "output_type": "display_data"
    },
    {
     "data": {
      "text/plain": [
       "[{'name': '퓨어 샤인 커버 비비 01 화사한 비비',\n",
       "  'url': 'https://www.naturerepublic.com/shop/goods_view.php?id=0000011159',\n",
       "  'image': ['http://lfyaklyqypvr852590.gcdn.ntruss.com/data/nature_data/images/product/00/00/01/11/59/b_0000011159.gif',\n",
       "   'http://lfyaklyqypvr852590.gcdn.ntruss.com/data/nature_data/images/addimg/00/00/01/11/59/b_00029037_add.gif'],\n",
       "  'color': '#',\n",
       "  'category': 'HOME > 카테고리 > 베이스 메이크업',\n",
       "  'salePrice': 5900,\n",
       "  'originalPrice': 5900,\n",
       "  'brand': 'naturerepublic',\n",
       "  'volume': '35g'}]"
      ]
     },
     "metadata": {},
     "output_type": "display_data"
    },
    {
     "data": {
      "text/plain": [
       "[{'name': '퓨어 샤인 커버 비비 02 차분한 비비',\n",
       "  'url': 'https://www.naturerepublic.com/shop/goods_view.php?id=0000011160',\n",
       "  'image': ['http://lfyaklyqypvr852590.gcdn.ntruss.com/data/nature_data/images/product/00/00/01/11/60/b_0000011160.gif',\n",
       "   'http://lfyaklyqypvr852590.gcdn.ntruss.com/data/nature_data/images/addimg/00/00/01/11/60/b_00029038_add.gif'],\n",
       "  'color': '#',\n",
       "  'category': 'HOME > 카테고리 > 베이스 메이크업',\n",
       "  'salePrice': 5900,\n",
       "  'originalPrice': 5900,\n",
       "  'brand': 'naturerepublic',\n",
       "  'volume': '35g'}]"
      ]
     },
     "metadata": {},
     "output_type": "display_data"
    },
    {
     "data": {
      "text/plain": [
       "[{'name': '프로방스 인텐시브 앰플 파운데이션 02 내추럴 베이지 SPF30 PA++',\n",
       "  'url': 'https://www.naturerepublic.com/shop/goods_view.php?id=0000011675',\n",
       "  'image': ['http://lfyaklyqypvr852590.gcdn.ntruss.com/data/nature_data/images/product/00/00/01/16/75/b_0000011675.gif'],\n",
       "  'color': '#',\n",
       "  'category': 'HOME > 카테고리 > 베이스 메이크업',\n",
       "  'salePrice': 18900,\n",
       "  'originalPrice': 18900,\n",
       "  'brand': 'naturerepublic',\n",
       "  'volume': '30ml'}]"
      ]
     },
     "metadata": {},
     "output_type": "display_data"
    },
    {
     "data": {
      "text/plain": [
       "[{'name': '프로방스 인텐시브 앰플 메이크업 베이스 02 라벤더 SPF30 PA++',\n",
       "  'url': 'https://www.naturerepublic.com/shop/goods_view.php?id=0000011676',\n",
       "  'image': ['http://lfyaklyqypvr852590.gcdn.ntruss.com/data/nature_data/images/product/00/00/01/16/76/b_0000011676.gif',\n",
       "   'http://lfyaklyqypvr852590.gcdn.ntruss.com/data/nature_data/images/addimg/00/00/01/16/76/b_00029593_add.gif'],\n",
       "  'color': '#',\n",
       "  'category': 'HOME > 카테고리 > 베이스 메이크업',\n",
       "  'salePrice': 18900,\n",
       "  'originalPrice': 18900,\n",
       "  'brand': 'naturerepublic',\n",
       "  'volume': '30ml'}]"
      ]
     },
     "metadata": {},
     "output_type": "display_data"
    },
    {
     "data": {
      "text/plain": [
       "[{'name': '프로방스 에어 스킨 핏 원데이 래스팅 파운데이션 Y21 퓨어 바닐라 SPF30 PA++',\n",
       "  'url': 'https://www.naturerepublic.com/shop/goods_view.php?id=0000011165',\n",
       "  'image': ['http://lfyaklyqypvr852590.gcdn.ntruss.com/data/nature_data/images/product/00/00/01/11/65/b_0000011165.gif'],\n",
       "  'color': '#',\n",
       "  'category': 'HOME > 카테고리 > 베이스 메이크업',\n",
       "  'salePrice': 18000,\n",
       "  'originalPrice': 18000,\n",
       "  'brand': 'naturerepublic',\n",
       "  'volume': '30㎖'}]"
      ]
     },
     "metadata": {},
     "output_type": "display_data"
    },
    {
     "data": {
      "text/plain": [
       "[{'name': '프로방스 인텐시브 앰플 메이크업 베이스',\n",
       "  'url': 'https://www.naturerepublic.com/shop/goods_view.php?id=0000011677',\n",
       "  'image': ['http://lfyaklyqypvr852590.gcdn.ntruss.com/data/nature_data/images/product/00/00/01/16/77/b_0000011677.gif',\n",
       "   'http://lfyaklyqypvr852590.gcdn.ntruss.com/data/nature_data/images/addimg/00/00/01/16/77/b_00029594_add.gif'],\n",
       "  'color': '#',\n",
       "  'category': 'HOME > 카테고리 > 베이스 메이크업',\n",
       "  'salePrice': 18900,\n",
       "  'originalPrice': 18900,\n",
       "  'brand': 'naturerepublic',\n",
       "  'volume': '30ml'}]"
      ]
     },
     "metadata": {},
     "output_type": "display_data"
    },
    {
     "data": {
      "text/plain": [
       "[{'name': '프로방스 인텐시브 앰플 쿠션 01 라이트 베이지 SPF50+ PA+++',\n",
       "  'url': 'https://www.naturerepublic.com/shop/goods_view.php?id=0000010912',\n",
       "  'image': ['http://lfyaklyqypvr852590.gcdn.ntruss.com/data/nature_data/images/product/00/00/01/09/12/b_0000010912.gif',\n",
       "   'http://lfyaklyqypvr852590.gcdn.ntruss.com/data/nature_data/images/addimg/00/00/01/09/12/b_00028844_add.gif',\n",
       "   'http://lfyaklyqypvr852590.gcdn.ntruss.com/data/nature_data/images/addimg/00/00/01/09/12/b_00028845_add.gif'],\n",
       "  'color': '#',\n",
       "  'category': 'HOME > 카테고리 > 베이스 메이크업',\n",
       "  'salePrice': 23900,\n",
       "  'originalPrice': 23900,\n",
       "  'brand': 'naturerepublic',\n",
       "  'volume': '15g'}]"
      ]
     },
     "metadata": {},
     "output_type": "display_data"
    },
    {
     "data": {
      "text/plain": [
       "[{'name': '프로방스 에어스킨핏 비비크림 02내추럴베이지 [SPF35PA++]',\n",
       "  'url': 'https://www.naturerepublic.com/shop/goods_view.php?id=0000010157',\n",
       "  'image': ['http://lfyaklyqypvr852590.gcdn.ntruss.com/data/nature_data/images/product/00/00/01/01/57/b_0000010157.gif',\n",
       "   'http://lfyaklyqypvr852590.gcdn.ntruss.com/data/nature_data/images/addimg/00/00/01/01/57/b_00027949_add.gif'],\n",
       "  'color': '#',\n",
       "  'category': 'HOME > 카테고리 > 베이스 메이크업',\n",
       "  'salePrice': 12900,\n",
       "  'originalPrice': 12900,\n",
       "  'brand': 'naturerepublic',\n",
       "  'volume': '30㎖'}]"
      ]
     },
     "metadata": {},
     "output_type": "display_data"
    },
    {
     "data": {
      "text/plain": [
       "[{'name': '네이처 오리진 씨씨 브라이트닝 SPF30 PA++',\n",
       "  'url': 'https://www.naturerepublic.com/shop/goods_view.php?id=0000010416',\n",
       "  'image': ['http://lfyaklyqypvr852590.gcdn.ntruss.com/data/nature_data/images/product/00/00/01/04/16/b_0000010416.gif',\n",
       "   'http://lfyaklyqypvr852590.gcdn.ntruss.com/data/nature_data/images/addimg/00/00/01/04/16/b_00028297_add.gif',\n",
       "   'http://lfyaklyqypvr852590.gcdn.ntruss.com/data/nature_data/images/addimg/00/00/01/04/16/b_00028298_add.gif'],\n",
       "  'color': '#',\n",
       "  'category': 'HOME > 카테고리 > 베이스 메이크업',\n",
       "  'salePrice': 14000,\n",
       "  'originalPrice': 14000,\n",
       "  'brand': 'naturerepublic',\n",
       "  'volume': '45g'}]"
      ]
     },
     "metadata": {},
     "output_type": "display_data"
    },
    {
     "data": {
      "text/plain": [
       "[{'name': '네이처 오리진 씨씨 틴티드 SPF30 PA++',\n",
       "  'url': 'https://www.naturerepublic.com/shop/goods_view.php?id=0000010417',\n",
       "  'image': ['http://lfyaklyqypvr852590.gcdn.ntruss.com/data/nature_data/images/product/00/00/01/04/17/b_0000010417.gif',\n",
       "   'http://lfyaklyqypvr852590.gcdn.ntruss.com/data/nature_data/images/addimg/00/00/01/04/17/b_00028299_add.gif'],\n",
       "  'color': '#',\n",
       "  'category': 'HOME > 카테고리 > 베이스 메이크업',\n",
       "  'salePrice': 14000,\n",
       "  'originalPrice': 14000,\n",
       "  'brand': 'naturerepublic',\n",
       "  'volume': '45g'}]"
      ]
     },
     "metadata": {},
     "output_type": "display_data"
    },
    {
     "data": {
      "text/plain": [
       "[{'name': '보테니컬 그린티 듀얼 컨실러',\n",
       "  'url': 'https://www.naturerepublic.com/shop/goods_view.php?id=0000011441',\n",
       "  'image': ['http://lfyaklyqypvr852590.gcdn.ntruss.com/data/nature_data/images/product/00/00/01/14/41/b_0000011441.gif',\n",
       "   'http://lfyaklyqypvr852590.gcdn.ntruss.com/data/nature_data/images/addimg/00/00/01/14/41/b_00029287_add.gif',\n",
       "   'http://lfyaklyqypvr852590.gcdn.ntruss.com/data/nature_data/images/addimg/00/00/01/14/41/b_00029288_add.gif',\n",
       "   'http://lfyaklyqypvr852590.gcdn.ntruss.com/data/nature_data/images/addimg/00/00/01/14/41/b_00029289_add.gif'],\n",
       "  'color': '#',\n",
       "  'category': 'HOME > 카테고리 > 베이스 메이크업',\n",
       "  'salePrice': 10900,\n",
       "  'originalPrice': 10900,\n",
       "  'brand': 'naturerepublic',\n",
       "  'volume': '4.4g+3.4ml'}]"
      ]
     },
     "metadata": {},
     "output_type": "display_data"
    },
    {
     "data": {
      "text/plain": [
       "[{'name': '프로방스 에어 스킨 핏 파운데이션 W01 라이트 베이지 SPF30 PA++',\n",
       "  'url': 'https://www.naturerepublic.com/shop/goods_view.php?id=0000010677',\n",
       "  'image': ['http://lfyaklyqypvr852590.gcdn.ntruss.com/data/nature_data/images/product/00/00/01/06/77/b_0000010677.gif',\n",
       "   'http://lfyaklyqypvr852590.gcdn.ntruss.com/data/nature_data/images/addimg/00/00/01/06/77/b_00028622_add.gif'],\n",
       "  'color': '#',\n",
       "  'category': 'HOME > 카테고리 > 베이스 메이크업',\n",
       "  'salePrice': 12900,\n",
       "  'originalPrice': 12900,\n",
       "  'brand': 'naturerepublic',\n",
       "  'volume': '30ml'}]"
      ]
     },
     "metadata": {},
     "output_type": "display_data"
    },
    {
     "data": {
      "text/plain": [
       "[{'name': '프로방스 인텐시브 앰플 비비크림 01 라이트 베이지 SPF30 PA++',\n",
       "  'url': 'https://www.naturerepublic.com/shop/goods_view.php?id=0000011709',\n",
       "  'image': ['http://lfyaklyqypvr852590.gcdn.ntruss.com/data/nature_data/images/product/00/00/01/17/09/b_0000011709.gif',\n",
       "   'http://lfyaklyqypvr852590.gcdn.ntruss.com/data/nature_data/images/addimg/00/00/01/17/09/b_00029627_add.gif'],\n",
       "  'color': '#',\n",
       "  'category': 'HOME > 카테고리 > 베이스 메이크업',\n",
       "  'salePrice': 18900,\n",
       "  'originalPrice': 18900,\n",
       "  'brand': 'naturerepublic',\n",
       "  'volume': '50 ml'}]"
      ]
     },
     "metadata": {},
     "output_type": "display_data"
    },
    {
     "data": {
      "text/plain": [
       "[{'name': '프로방스 인텐시브 앰플 비비크림 02 내추럴 베이지 SPF30 PA++',\n",
       "  'url': 'https://www.naturerepublic.com/shop/goods_view.php?id=0000011710',\n",
       "  'image': ['http://lfyaklyqypvr852590.gcdn.ntruss.com/data/nature_data/images/product/00/00/01/17/10/b_0000011710.gif',\n",
       "   'http://lfyaklyqypvr852590.gcdn.ntruss.com/data/nature_data/images/addimg/00/00/01/17/10/b_00029628_add.gif'],\n",
       "  'color': '#',\n",
       "  'category': 'HOME > 카테고리 > 베이스 메이크업',\n",
       "  'salePrice': 18900,\n",
       "  'originalPrice': 18900,\n",
       "  'brand': 'naturerepublic',\n",
       "  'volume': '50 ml'}]"
      ]
     },
     "metadata": {},
     "output_type": "display_data"
    },
    {
     "data": {
      "text/plain": [
       "[{'name': '네이처 오리진 씨씨 블러 SPF30 PA++',\n",
       "  'url': 'https://www.naturerepublic.com/shop/goods_view.php?id=0000010432',\n",
       "  'image': ['http://lfyaklyqypvr852590.gcdn.ntruss.com/data/nature_data/images/product/00/00/01/04/32/b_0000010432.gif',\n",
       "   'http://lfyaklyqypvr852590.gcdn.ntruss.com/data/nature_data/images/addimg/00/00/01/04/32/b_00028316_add.gif',\n",
       "   'http://lfyaklyqypvr852590.gcdn.ntruss.com/data/nature_data/images/addimg/00/00/01/04/32/b_00028317_add.gif'],\n",
       "  'color': '#',\n",
       "  'category': 'HOME > 카테고리 > 베이스 메이크업',\n",
       "  'salePrice': 14000,\n",
       "  'originalPrice': 14000,\n",
       "  'brand': 'naturerepublic',\n",
       "  'volume': '45g'}]"
      ]
     },
     "metadata": {},
     "output_type": "display_data"
    },
    {
     "data": {
      "text/plain": [
       "[{'name': '네이처 오리진 콜라겐 비비크림 오리지널 SPF25 PA++',\n",
       "  'url': 'https://www.naturerepublic.com/shop/goods_view.php?id=0000011461',\n",
       "  'image': ['http://lfyaklyqypvr852590.gcdn.ntruss.com/data/nature_data/images/product/00/00/01/14/61/b_0000011461.gif',\n",
       "   'http://lfyaklyqypvr852590.gcdn.ntruss.com/data/nature_data/images/addimg/00/00/01/14/61/b_00029327_add.gif',\n",
       "   'http://lfyaklyqypvr852590.gcdn.ntruss.com/data/nature_data/images/addimg/00/00/01/14/61/b_00029328_add.gif'],\n",
       "  'color': '#',\n",
       "  'category': 'HOME > 카테고리 > 베이스 메이크업',\n",
       "  'salePrice': 15900,\n",
       "  'originalPrice': 15900,\n",
       "  'brand': 'naturerepublic',\n",
       "  'volume': '45g'}]"
      ]
     },
     "metadata": {},
     "output_type": "display_data"
    },
    {
     "data": {
      "text/plain": [
       "[{'name': '네이처 오리진 아우라 타이트업 쿠션 02 내추럴 베이지 SPF50+ PA+++',\n",
       "  'url': 'https://www.naturerepublic.com/shop/goods_view.php?id=0000011723',\n",
       "  'image': ['http://lfyaklyqypvr852590.gcdn.ntruss.com/data/nature_data/images/product/00/00/01/17/23/b_0000011723.gif'],\n",
       "  'color': '#',\n",
       "  'category': 'HOME > 카테고리 > 베이스 메이크업',\n",
       "  'salePrice': 20000,\n",
       "  'originalPrice': 20000,\n",
       "  'brand': 'naturerepublic',\n",
       "  'volume': '15g'}]"
      ]
     },
     "metadata": {},
     "output_type": "display_data"
    },
    {
     "data": {
      "text/plain": [
       "[{'name': '진생 로얄 실크 프라이머',\n",
       "  'url': 'https://www.naturerepublic.com/shop/goods_view.php?id=0000010704',\n",
       "  'image': ['http://lfyaklyqypvr852590.gcdn.ntruss.com/data/nature_data/images/product/00/00/01/07/04/b_0000010704.gif',\n",
       "   'http://lfyaklyqypvr852590.gcdn.ntruss.com/data/nature_data/images/addimg/00/00/01/07/04/b_00028649_add.gif'],\n",
       "  'color': '#',\n",
       "  'category': 'HOME > 카테고리 > 베이스 메이크업',\n",
       "  'salePrice': 30000,\n",
       "  'originalPrice': 30000,\n",
       "  'brand': 'naturerepublic',\n",
       "  'volume': '30㎖'}]"
      ]
     },
     "metadata": {},
     "output_type": "display_data"
    },
    {
     "data": {
      "text/plain": [
       "[{'name': '아프리카 버드 옴므 비비 모이스처라이저 [내추럴타입] SPF30 PA++',\n",
       "  'url': 'https://www.naturerepublic.com/shop/goods_view.php?id=0000010449',\n",
       "  'image': ['http://lfyaklyqypvr852590.gcdn.ntruss.com/data/nature_data/images/product/00/00/01/04/49/b_0000010449.gif',\n",
       "   'http://lfyaklyqypvr852590.gcdn.ntruss.com/data/nature_data/images/addimg/00/00/01/04/49/b_00028336_add.gif',\n",
       "   'http://lfyaklyqypvr852590.gcdn.ntruss.com/data/nature_data/images/addimg/00/00/01/04/49/b_00028337_add.gif'],\n",
       "  'color': '#',\n",
       "  'category': 'HOME > 카테고리 > 베이스 메이크업',\n",
       "  'salePrice': 12000,\n",
       "  'originalPrice': 12000,\n",
       "  'brand': 'naturerepublic',\n",
       "  'volume': '50ml'}]"
      ]
     },
     "metadata": {},
     "output_type": "display_data"
    },
    {
     "data": {
      "text/plain": [
       "[{'name': '퓨어 샤인 파우더 팩트',\n",
       "  'url': 'https://www.naturerepublic.com/shop/goods_view.php?id=0000011745',\n",
       "  'image': ['http://lfyaklyqypvr852590.gcdn.ntruss.com/data/nature_data/images/product/00/00/01/17/45/b_0000011745.gif',\n",
       "   'http://lfyaklyqypvr852590.gcdn.ntruss.com/data/nature_data/images/addimg/00/00/01/17/45/b_00029649_add.gif'],\n",
       "  'color': '#',\n",
       "  'category': 'HOME > 카테고리 > 베이스 메이크업',\n",
       "  'salePrice': 5900,\n",
       "  'originalPrice': 5900,\n",
       "  'brand': 'naturerepublic',\n",
       "  'volume': '12g'}]"
      ]
     },
     "metadata": {},
     "output_type": "display_data"
    },
    {
     "data": {
      "text/plain": [
       "[{'name': '네이처 오리진 콜라겐 워터프루프 비비크림 SPF50+, PA++++',\n",
       "  'url': 'https://www.naturerepublic.com/shop/goods_view.php?id=0000010468',\n",
       "  'image': ['http://lfyaklyqypvr852590.gcdn.ntruss.com/data/nature_data/images/product/00/00/01/04/68/b_0000010468.gif'],\n",
       "  'color': '#',\n",
       "  'category': 'HOME > 카테고리 > 베이스 메이크업',\n",
       "  'salePrice': 16900,\n",
       "  'originalPrice': 16900,\n",
       "  'brand': 'naturerepublic',\n",
       "  'volume': '45g'}]"
      ]
     },
     "metadata": {},
     "output_type": "display_data"
    },
    {
     "data": {
      "text/plain": [
       "[{'name': '프로방스 에어 스킨 핏 원데이 래스팅 파운데이션 N13 포슬린 SPF30 PA++',\n",
       "  'url': 'https://www.naturerepublic.com/shop/goods_view.php?id=0000011748',\n",
       "  'image': ['http://lfyaklyqypvr852590.gcdn.ntruss.com/data/nature_data/images/product/00/00/01/17/48/b_0000011748.gif',\n",
       "   'http://lfyaklyqypvr852590.gcdn.ntruss.com/data/nature_data/images/addimg/00/00/01/17/48/b_00029653_add.gif'],\n",
       "  'color': '#',\n",
       "  'category': 'HOME > 카테고리 > 베이스 메이크업',\n",
       "  'salePrice': 18000,\n",
       "  'originalPrice': 18000,\n",
       "  'brand': 'naturerepublic',\n",
       "  'volume': '30㎖'}]"
      ]
     },
     "metadata": {},
     "output_type": "display_data"
    },
    {
     "data": {
      "text/plain": [
       "[{'name': '네이처 오리진 트리플 컬러 톤업 쿠션',\n",
       "  'url': 'https://www.naturerepublic.com/shop/goods_view.php?id=0000011495',\n",
       "  'image': ['http://lfyaklyqypvr852590.gcdn.ntruss.com/data/nature_data/images/product/00/00/01/14/95/b_0000011495.gif',\n",
       "   'http://lfyaklyqypvr852590.gcdn.ntruss.com/data/nature_data/images/addimg/00/00/01/14/95/b_00029370_add.gif'],\n",
       "  'color': '#',\n",
       "  'category': 'HOME > 카테고리 > 베이스 메이크업',\n",
       "  'salePrice': 18900,\n",
       "  'originalPrice': 18900,\n",
       "  'brand': 'naturerepublic',\n",
       "  'volume': '15g'}]"
      ]
     },
     "metadata": {},
     "output_type": "display_data"
    },
    {
     "data": {
      "text/plain": [
       "[{'name': '프로방스 에어 스킨 핏 오일 컨트롤 쿠션 02 내추럴 베이지 SPF50+ PA+++',\n",
       "  'url': 'https://www.naturerepublic.com/shop/goods_view.php?id=0000011754',\n",
       "  'image': ['http://lfyaklyqypvr852590.gcdn.ntruss.com/data/nature_data/images/product/00/00/01/17/54/b_0000011754.gif'],\n",
       "  'color': '#',\n",
       "  'category': 'HOME > 카테고리 > 베이스 메이크업',\n",
       "  'salePrice': 16900,\n",
       "  'originalPrice': 16900,\n",
       "  'brand': 'naturerepublic',\n",
       "  'volume': '15g'}]"
      ]
     },
     "metadata": {},
     "output_type": "display_data"
    },
    {
     "data": {
      "text/plain": [
       "[{'name': '프로방스 에어 스킨 핏 원데이 래스팅 파운데이션 P21 로지 바닐라 SPF30 PA++',\n",
       "  'url': 'https://www.naturerepublic.com/shop/goods_view.php?id=0000011768',\n",
       "  'image': ['http://lfyaklyqypvr852590.gcdn.ntruss.com/data/nature_data/images/product/00/00/01/17/68/b_0000011768.gif'],\n",
       "  'color': '#',\n",
       "  'category': 'HOME > 카테고리 > 베이스 메이크업',\n",
       "  'salePrice': 18000,\n",
       "  'originalPrice': 18000,\n",
       "  'brand': 'naturerepublic',\n",
       "  'volume': '30㎖'}]"
      ]
     },
     "metadata": {},
     "output_type": "display_data"
    },
    {
     "data": {
      "text/plain": [
       "[{'name': '비베놈 비비크림 SPF30PA++',\n",
       "  'url': 'https://www.naturerepublic.com/shop/goods_view.php?id=0000011260',\n",
       "  'image': ['http://lfyaklyqypvr852590.gcdn.ntruss.com/data/nature_data/images/product/00/00/01/12/60/b_0000011260.gif',\n",
       "   'http://lfyaklyqypvr852590.gcdn.ntruss.com/data/nature_data/images/addimg/00/00/01/12/60/b_00029124_add.gif'],\n",
       "  'color': '#',\n",
       "  'category': 'HOME > 카테고리 > 베이스 메이크업',\n",
       "  'salePrice': 9900,\n",
       "  'originalPrice': 9900,\n",
       "  'brand': 'naturerepublic',\n",
       "  'volume': '40㎖'}]"
      ]
     },
     "metadata": {},
     "output_type": "display_data"
    },
    {
     "data": {
      "text/plain": [
       "[{'name': '네이처 오리진 콜라겐 비비크림 01 라이트 베이지 SPF25 PA++',\n",
       "  'url': 'https://www.naturerepublic.com/shop/goods_view.php?id=0000011516',\n",
       "  'image': ['http://lfyaklyqypvr852590.gcdn.ntruss.com/data/nature_data/images/product/00/00/01/15/16/b_0000011516.gif',\n",
       "   'http://lfyaklyqypvr852590.gcdn.ntruss.com/data/nature_data/images/addimg/00/00/01/15/16/b_00029395_add.gif',\n",
       "   'http://lfyaklyqypvr852590.gcdn.ntruss.com/data/nature_data/images/addimg/00/00/01/15/16/b_00029396_add.gif'],\n",
       "  'color': '#',\n",
       "  'category': 'HOME > 카테고리 > 베이스 메이크업',\n",
       "  'salePrice': 15900,\n",
       "  'originalPrice': 15900,\n",
       "  'brand': 'naturerepublic',\n",
       "  'volume': '45g'}]"
      ]
     },
     "metadata": {},
     "output_type": "display_data"
    },
    {
     "data": {
      "text/plain": [
       "[{'name': '퓨어 샤인 파우더 팩트 23 내추럴 베이지',\n",
       "  'url': 'https://www.naturerepublic.com/shop/goods_view.php?id=0000011772',\n",
       "  'image': ['http://lfyaklyqypvr852590.gcdn.ntruss.com/data/nature_data/images/product/00/00/01/17/72/b_0000011772.gif',\n",
       "   'http://lfyaklyqypvr852590.gcdn.ntruss.com/data/nature_data/images/addimg/00/00/01/17/72/b_00029669_add.gif'],\n",
       "  'color': '#',\n",
       "  'category': 'HOME > 카테고리 > 베이스 메이크업',\n",
       "  'salePrice': 5900,\n",
       "  'originalPrice': 5900,\n",
       "  'brand': 'naturerepublic',\n",
       "  'volume': '12g'}]"
      ]
     },
     "metadata": {},
     "output_type": "display_data"
    },
    {
     "data": {
      "text/plain": [
       "[{'name': '네이처 오리진 콜라겐 비비크림 02 내추럴 베이지 SPF25 PA++',\n",
       "  'url': 'https://www.naturerepublic.com/shop/goods_view.php?id=0000011517',\n",
       "  'image': ['http://lfyaklyqypvr852590.gcdn.ntruss.com/data/nature_data/images/product/00/00/01/15/17/b_0000011517.gif',\n",
       "   'http://lfyaklyqypvr852590.gcdn.ntruss.com/data/nature_data/images/addimg/00/00/01/15/17/b_00029397_add.gif',\n",
       "   'http://lfyaklyqypvr852590.gcdn.ntruss.com/data/nature_data/images/addimg/00/00/01/15/17/b_00029398_add.gif'],\n",
       "  'color': '#',\n",
       "  'category': 'HOME > 카테고리 > 베이스 메이크업',\n",
       "  'salePrice': 15900,\n",
       "  'originalPrice': 15900,\n",
       "  'brand': 'naturerepublic',\n",
       "  'volume': '45g'}]"
      ]
     },
     "metadata": {},
     "output_type": "display_data"
    },
    {
     "data": {
      "text/plain": [
       "[{'name': '스네일 솔루션 비비크림 02 SPF30 PA++',\n",
       "  'url': 'https://www.naturerepublic.com/shop/goods_view.php?id=0000011519',\n",
       "  'image': ['http://lfyaklyqypvr852590.gcdn.ntruss.com/data/nature_data/images/product/00/00/01/15/19/b_0000011519.gif',\n",
       "   'http://lfyaklyqypvr852590.gcdn.ntruss.com/data/nature_data/images/addimg/00/00/01/15/19/b_00029400_add.gif',\n",
       "   'http://lfyaklyqypvr852590.gcdn.ntruss.com/data/nature_data/images/addimg/00/00/01/15/19/b_00029401_add.gif',\n",
       "   'http://lfyaklyqypvr852590.gcdn.ntruss.com/data/nature_data/images/addimg/00/00/01/15/19/b_00029402_add.gif',\n",
       "   'http://lfyaklyqypvr852590.gcdn.ntruss.com/data/nature_data/images/addimg/00/00/01/15/19/b_00029403_add.gif',\n",
       "   'http://lfyaklyqypvr852590.gcdn.ntruss.com/data/nature_data/images/addimg/00/00/01/15/19/b_00029404_add.gif'],\n",
       "  'color': '#',\n",
       "  'category': 'HOME > 카테고리 > 베이스 메이크업',\n",
       "  'salePrice': 25000,\n",
       "  'originalPrice': 25000,\n",
       "  'brand': 'naturerepublic',\n",
       "  'volume': '40ml'}]"
      ]
     },
     "metadata": {},
     "output_type": "display_data"
    },
    {
     "name": "stdout",
     "output_type": "stream",
     "text": [
      "상품 개수: 포인트 메이크업\n",
      "전체\n",
      "총 316개\n"
     ]
    },
    {
     "data": {
      "text/plain": [
       "[{'name': 'NEW 바이플라워 블러셔 03 자몽솜사탕',\n",
       "  'url': 'https://www.naturerepublic.com/shop/goods_view.php?id=0000012145',\n",
       "  'image': ['http://lfyaklyqypvr852590.gcdn.ntruss.com/data/nature_data/images/product/00/00/01/21/45/b_0000012145.gif'],\n",
       "  'color': '#',\n",
       "  'category': 'HOME > 카테고리 > 포인트 메이크업',\n",
       "  'salePrice': 7900,\n",
       "  'originalPrice': 7900,\n",
       "  'brand': 'naturerepublic',\n",
       "  'volume': '바이플라워 블러셔 03 자몽솜사탕\\n5.5g'}]"
      ]
     },
     "metadata": {},
     "output_type": "display_data"
    },
    {
     "data": {
      "text/plain": [
       "[{'name': '프로 터치 케미스트리 멀티 팔레트예약상품',\n",
       "  'url': 'https://www.naturerepublic.com/shop/goods_view.php?id=0000012138',\n",
       "  'image': ['http://lfyaklyqypvr852590.gcdn.ntruss.com/data/nature_data/images/product/00/00/01/21/38/b_0000012138.gif',\n",
       "   'http://lfyaklyqypvr852590.gcdn.ntruss.com/data/nature_data/images/addimg/00/00/01/21/38/b_00030053_add.gif',\n",
       "   'http://lfyaklyqypvr852590.gcdn.ntruss.com/data/nature_data/images/addimg/00/00/01/21/38/b_00030054_add.gif'],\n",
       "  'color': '#',\n",
       "  'category': 'HOME > 카테고리 > 포인트 메이크업',\n",
       "  'salePrice': 15120,\n",
       "  'originalPrice': 37800,\n",
       "  'brand': 'naturerepublic',\n",
       "  'volume': '프로 터치 케미스트리 멀티 팔레트\\n14.7 g'}]"
      ]
     },
     "metadata": {},
     "output_type": "display_data"
    },
    {
     "data": {
      "text/plain": [
       "[{'name': '컬러 앤 네이처 글리터피아 젤네일 스트립',\n",
       "  'url': 'https://www.naturerepublic.com/shop/goods_view.php?id=0000012110',\n",
       "  'image': ['http://lfyaklyqypvr852590.gcdn.ntruss.com/data/nature_data/images/product/00/00/01/21/10/b_0000012110.gif'],\n",
       "  'color': '웨딩플래쉬',\n",
       "  'category': 'HOME > 카테고리 > 포인트 메이크업',\n",
       "  'salePrice': 7900,\n",
       "  'originalPrice': 7900,\n",
       "  'brand': 'naturerepublic',\n",
       "  'volume': '상세페이지 참조'},\n",
       " {'name': '컬러 앤 네이처 글리터피아 젤네일 스트립',\n",
       "  'url': 'https://www.naturerepublic.com/shop/goods_view.php?id=0000012110',\n",
       "  'image': ['http://lfyaklyqypvr852590.gcdn.ntruss.com/data/nature_data/images/product/00/00/01/21/10/b_0000012110.gif'],\n",
       "  'color': '윈터 트리',\n",
       "  'category': 'HOME > 카테고리 > 포인트 메이크업',\n",
       "  'salePrice': 7900,\n",
       "  'originalPrice': 7900,\n",
       "  'brand': 'naturerepublic',\n",
       "  'volume': '상세페이지 참조'},\n",
       " {'name': '컬러 앤 네이처 글리터피아 젤네일 스트립',\n",
       "  'url': 'https://www.naturerepublic.com/shop/goods_view.php?id=0000012110',\n",
       "  'image': ['http://lfyaklyqypvr852590.gcdn.ntruss.com/data/nature_data/images/product/00/00/01/21/10/b_0000012110.gif'],\n",
       "  'color': '레드빔 하트',\n",
       "  'category': 'HOME > 카테고리 > 포인트 메이크업',\n",
       "  'salePrice': 7900,\n",
       "  'originalPrice': 7900,\n",
       "  'brand': 'naturerepublic',\n",
       "  'volume': '상세페이지 참조'},\n",
       " {'name': '컬러 앤 네이처 글리터피아 젤네일 스트립',\n",
       "  'url': 'https://www.naturerepublic.com/shop/goods_view.php?id=0000012110',\n",
       "  'image': ['http://lfyaklyqypvr852590.gcdn.ntruss.com/data/nature_data/images/product/00/00/01/21/10/b_0000012110.gif'],\n",
       "  'color': '버닝 샌드',\n",
       "  'category': 'HOME > 카테고리 > 포인트 메이크업',\n",
       "  'salePrice': 7900,\n",
       "  'originalPrice': 7900,\n",
       "  'brand': 'naturerepublic',\n",
       "  'volume': '상세페이지 참조'},\n",
       " {'name': '컬러 앤 네이처 글리터피아 젤네일 스트립',\n",
       "  'url': 'https://www.naturerepublic.com/shop/goods_view.php?id=0000012110',\n",
       "  'image': ['http://lfyaklyqypvr852590.gcdn.ntruss.com/data/nature_data/images/product/00/00/01/21/10/b_0000012110.gif'],\n",
       "  'color': '레더핏 스타',\n",
       "  'category': 'HOME > 카테고리 > 포인트 메이크업',\n",
       "  'salePrice': 7900,\n",
       "  'originalPrice': 7900,\n",
       "  'brand': 'naturerepublic',\n",
       "  'volume': '상세페이지 참조'},\n",
       " {'name': '컬러 앤 네이처 글리터피아 젤네일 스트립',\n",
       "  'url': 'https://www.naturerepublic.com/shop/goods_view.php?id=0000012110',\n",
       "  'image': ['http://lfyaklyqypvr852590.gcdn.ntruss.com/data/nature_data/images/product/00/00/01/21/10/b_0000012110.gif'],\n",
       "  'color': '스타크러쉬',\n",
       "  'category': 'HOME > 카테고리 > 포인트 메이크업',\n",
       "  'salePrice': 7900,\n",
       "  'originalPrice': 7900,\n",
       "  'brand': 'naturerepublic',\n",
       "  'volume': '상세페이지 참조'}]"
      ]
     },
     "metadata": {},
     "output_type": "display_data"
    },
    {
     "data": {
      "text/plain": [
       "[{'name': '퓨어 샤인 립 스크럽',\n",
       "  'url': 'https://www.naturerepublic.com/shop/goods_view.php?id=0000012105',\n",
       "  'image': ['http://lfyaklyqypvr852590.gcdn.ntruss.com/data/nature_data/images/product/00/00/01/21/05/b_0000012105.gif'],\n",
       "  'color': '#',\n",
       "  'category': 'HOME > 카테고리 > 포인트 메이크업',\n",
       "  'salePrice': 5000,\n",
       "  'originalPrice': 5000,\n",
       "  'brand': 'naturerepublic',\n",
       "  'volume': '퓨어 샤인 립 스크럽\\n10g'}]"
      ]
     },
     "metadata": {},
     "output_type": "display_data"
    },
    {
     "data": {
      "text/plain": [
       "[{'name': '[그린홀리데이에디션] 트윙클 펄리 섀도',\n",
       "  'url': 'https://www.naturerepublic.com/shop/goods_view.php?id=0000012091',\n",
       "  'image': ['http://lfyaklyqypvr852590.gcdn.ntruss.com/data/nature_data/images/product/00/00/01/20/91/b_0000012091.gif',\n",
       "   'http://lfyaklyqypvr852590.gcdn.ntruss.com/data/nature_data/images/addimg/00/00/01/20/91/b_00029967_add.gif',\n",
       "   'http://lfyaklyqypvr852590.gcdn.ntruss.com/data/nature_data/images/addimg/00/00/01/20/91/b_00029968_add.gif',\n",
       "   'http://lfyaklyqypvr852590.gcdn.ntruss.com/data/nature_data/images/addimg/00/00/01/20/91/b_00029969_add.gif'],\n",
       "  'color': '#',\n",
       "  'category': 'HOME > 카테고리 > 포인트 메이크업',\n",
       "  'salePrice': 8000,\n",
       "  'originalPrice': 8000,\n",
       "  'brand': 'naturerepublic',\n",
       "  'volume': '상세페이지 참조'}]"
      ]
     },
     "metadata": {},
     "output_type": "display_data"
    },
    {
     "data": {
      "text/plain": [
       "[{'name': '리얼 립플래쉬',\n",
       "  'url': 'https://www.naturerepublic.com/shop/goods_view.php?id=0000012082',\n",
       "  'image': ['http://lfyaklyqypvr852590.gcdn.ntruss.com/data/nature_data/images/product/00/00/01/20/82/b_0000012082.gif',\n",
       "   'http://lfyaklyqypvr852590.gcdn.ntruss.com/data/nature_data/images/addimg/00/00/01/20/82/b_00029942_add.gif',\n",
       "   'http://lfyaklyqypvr852590.gcdn.ntruss.com/data/nature_data/images/addimg/00/00/01/20/82/b_00029943_add.gif',\n",
       "   'http://lfyaklyqypvr852590.gcdn.ntruss.com/data/nature_data/images/addimg/00/00/01/20/82/b_00029944_add.gif',\n",
       "   'http://lfyaklyqypvr852590.gcdn.ntruss.com/data/nature_data/images/addimg/00/00/01/20/82/b_00029945_add.gif',\n",
       "   'http://lfyaklyqypvr852590.gcdn.ntruss.com/data/nature_data/images/addimg/00/00/01/20/82/b_00029946_add.gif'],\n",
       "  'color': '01 샤이닝 스타',\n",
       "  'category': 'HOME > 카테고리 > 포인트 메이크업',\n",
       "  'salePrice': 12000,\n",
       "  'originalPrice': 12000,\n",
       "  'brand': 'naturerepublic',\n",
       "  'volume': '4g'},\n",
       " {'name': '리얼 립플래쉬',\n",
       "  'url': 'https://www.naturerepublic.com/shop/goods_view.php?id=0000012082',\n",
       "  'image': ['http://lfyaklyqypvr852590.gcdn.ntruss.com/data/nature_data/images/product/00/00/01/20/82/b_0000012082.gif',\n",
       "   'http://lfyaklyqypvr852590.gcdn.ntruss.com/data/nature_data/images/addimg/00/00/01/20/82/b_00029942_add.gif',\n",
       "   'http://lfyaklyqypvr852590.gcdn.ntruss.com/data/nature_data/images/addimg/00/00/01/20/82/b_00029943_add.gif',\n",
       "   'http://lfyaklyqypvr852590.gcdn.ntruss.com/data/nature_data/images/addimg/00/00/01/20/82/b_00029944_add.gif',\n",
       "   'http://lfyaklyqypvr852590.gcdn.ntruss.com/data/nature_data/images/addimg/00/00/01/20/82/b_00029945_add.gif',\n",
       "   'http://lfyaklyqypvr852590.gcdn.ntruss.com/data/nature_data/images/addimg/00/00/01/20/82/b_00029946_add.gif'],\n",
       "  'color': '02 로즈 소울',\n",
       "  'category': 'HOME > 카테고리 > 포인트 메이크업',\n",
       "  'salePrice': 12000,\n",
       "  'originalPrice': 12000,\n",
       "  'brand': 'naturerepublic',\n",
       "  'volume': '4g'},\n",
       " {'name': '리얼 립플래쉬',\n",
       "  'url': 'https://www.naturerepublic.com/shop/goods_view.php?id=0000012082',\n",
       "  'image': ['http://lfyaklyqypvr852590.gcdn.ntruss.com/data/nature_data/images/product/00/00/01/20/82/b_0000012082.gif',\n",
       "   'http://lfyaklyqypvr852590.gcdn.ntruss.com/data/nature_data/images/addimg/00/00/01/20/82/b_00029942_add.gif',\n",
       "   'http://lfyaklyqypvr852590.gcdn.ntruss.com/data/nature_data/images/addimg/00/00/01/20/82/b_00029943_add.gif',\n",
       "   'http://lfyaklyqypvr852590.gcdn.ntruss.com/data/nature_data/images/addimg/00/00/01/20/82/b_00029944_add.gif',\n",
       "   'http://lfyaklyqypvr852590.gcdn.ntruss.com/data/nature_data/images/addimg/00/00/01/20/82/b_00029945_add.gif',\n",
       "   'http://lfyaklyqypvr852590.gcdn.ntruss.com/data/nature_data/images/addimg/00/00/01/20/82/b_00029946_add.gif'],\n",
       "  'color': '3호 코랄 뮤즈',\n",
       "  'category': 'HOME > 카테고리 > 포인트 메이크업',\n",
       "  'salePrice': 12000,\n",
       "  'originalPrice': 12000,\n",
       "  'brand': 'naturerepublic',\n",
       "  'volume': '4g'},\n",
       " {'name': '리얼 립플래쉬',\n",
       "  'url': 'https://www.naturerepublic.com/shop/goods_view.php?id=0000012082',\n",
       "  'image': ['http://lfyaklyqypvr852590.gcdn.ntruss.com/data/nature_data/images/product/00/00/01/20/82/b_0000012082.gif',\n",
       "   'http://lfyaklyqypvr852590.gcdn.ntruss.com/data/nature_data/images/addimg/00/00/01/20/82/b_00029942_add.gif',\n",
       "   'http://lfyaklyqypvr852590.gcdn.ntruss.com/data/nature_data/images/addimg/00/00/01/20/82/b_00029943_add.gif',\n",
       "   'http://lfyaklyqypvr852590.gcdn.ntruss.com/data/nature_data/images/addimg/00/00/01/20/82/b_00029944_add.gif',\n",
       "   'http://lfyaklyqypvr852590.gcdn.ntruss.com/data/nature_data/images/addimg/00/00/01/20/82/b_00029945_add.gif',\n",
       "   'http://lfyaklyqypvr852590.gcdn.ntruss.com/data/nature_data/images/addimg/00/00/01/20/82/b_00029946_add.gif'],\n",
       "  'color': '4호 레드 글램',\n",
       "  'category': 'HOME > 카테고리 > 포인트 메이크업',\n",
       "  'salePrice': 12000,\n",
       "  'originalPrice': 12000,\n",
       "  'brand': 'naturerepublic',\n",
       "  'volume': '4g'},\n",
       " {'name': '리얼 립플래쉬',\n",
       "  'url': 'https://www.naturerepublic.com/shop/goods_view.php?id=0000012082',\n",
       "  'image': ['http://lfyaklyqypvr852590.gcdn.ntruss.com/data/nature_data/images/product/00/00/01/20/82/b_0000012082.gif',\n",
       "   'http://lfyaklyqypvr852590.gcdn.ntruss.com/data/nature_data/images/addimg/00/00/01/20/82/b_00029942_add.gif',\n",
       "   'http://lfyaklyqypvr852590.gcdn.ntruss.com/data/nature_data/images/addimg/00/00/01/20/82/b_00029943_add.gif',\n",
       "   'http://lfyaklyqypvr852590.gcdn.ntruss.com/data/nature_data/images/addimg/00/00/01/20/82/b_00029944_add.gif',\n",
       "   'http://lfyaklyqypvr852590.gcdn.ntruss.com/data/nature_data/images/addimg/00/00/01/20/82/b_00029945_add.gif',\n",
       "   'http://lfyaklyqypvr852590.gcdn.ntruss.com/data/nature_data/images/addimg/00/00/01/20/82/b_00029946_add.gif'],\n",
       "  'color': '05 플럼 파탈',\n",
       "  'category': 'HOME > 카테고리 > 포인트 메이크업',\n",
       "  'salePrice': 12000,\n",
       "  'originalPrice': 12000,\n",
       "  'brand': 'naturerepublic',\n",
       "  'volume': '4g'}]"
      ]
     },
     "metadata": {},
     "output_type": "display_data"
    },
    {
     "data": {
      "text/plain": [
       "[{'name': '바이플라워 컨투어링',\n",
       "  'url': 'https://www.naturerepublic.com/shop/goods_view.php?id=0000012071',\n",
       "  'image': ['http://lfyaklyqypvr852590.gcdn.ntruss.com/data/nature_data/images/product/00/00/01/20/71/b_0000012071.gif',\n",
       "   'http://lfyaklyqypvr852590.gcdn.ntruss.com/data/nature_data/images/addimg/00/00/01/20/71/b_00030041_add.gif',\n",
       "   'http://lfyaklyqypvr852590.gcdn.ntruss.com/data/nature_data/images/addimg/00/00/01/20/71/b_00030042_add.gif'],\n",
       "  'color': '01 새틴 드레스',\n",
       "  'category': 'HOME > 카테고리 > 포인트 메이크업',\n",
       "  'salePrice': 7900,\n",
       "  'originalPrice': 7900,\n",
       "  'brand': 'naturerepublic',\n",
       "  'volume': '바이플라워 컨투어링 01 새틴 드레스\\n5.5g\\n바이플라워 컨투어링 02 바닐라 라떼\\n5.5g\\n바이플라워 컨투어링 03 시나몬 모카\\n5.5g'},\n",
       " {'name': '바이플라워 컨투어링',\n",
       "  'url': 'https://www.naturerepublic.com/shop/goods_view.php?id=0000012071',\n",
       "  'image': ['http://lfyaklyqypvr852590.gcdn.ntruss.com/data/nature_data/images/product/00/00/01/20/71/b_0000012071.gif',\n",
       "   'http://lfyaklyqypvr852590.gcdn.ntruss.com/data/nature_data/images/addimg/00/00/01/20/71/b_00030041_add.gif',\n",
       "   'http://lfyaklyqypvr852590.gcdn.ntruss.com/data/nature_data/images/addimg/00/00/01/20/71/b_00030042_add.gif'],\n",
       "  'color': '02 바닐라 라떼',\n",
       "  'category': 'HOME > 카테고리 > 포인트 메이크업',\n",
       "  'salePrice': 7900,\n",
       "  'originalPrice': 7900,\n",
       "  'brand': 'naturerepublic',\n",
       "  'volume': '바이플라워 컨투어링 01 새틴 드레스\\n5.5g\\n바이플라워 컨투어링 02 바닐라 라떼\\n5.5g\\n바이플라워 컨투어링 03 시나몬 모카\\n5.5g'},\n",
       " {'name': '바이플라워 컨투어링',\n",
       "  'url': 'https://www.naturerepublic.com/shop/goods_view.php?id=0000012071',\n",
       "  'image': ['http://lfyaklyqypvr852590.gcdn.ntruss.com/data/nature_data/images/product/00/00/01/20/71/b_0000012071.gif',\n",
       "   'http://lfyaklyqypvr852590.gcdn.ntruss.com/data/nature_data/images/addimg/00/00/01/20/71/b_00030041_add.gif',\n",
       "   'http://lfyaklyqypvr852590.gcdn.ntruss.com/data/nature_data/images/addimg/00/00/01/20/71/b_00030042_add.gif'],\n",
       "  'color': '03 시나몬 모카',\n",
       "  'category': 'HOME > 카테고리 > 포인트 메이크업',\n",
       "  'salePrice': 7900,\n",
       "  'originalPrice': 7900,\n",
       "  'brand': 'naturerepublic',\n",
       "  'volume': '바이플라워 컨투어링 01 새틴 드레스\\n5.5g\\n바이플라워 컨투어링 02 바닐라 라떼\\n5.5g\\n바이플라워 컨투어링 03 시나몬 모카\\n5.5g'}]"
      ]
     },
     "metadata": {},
     "output_type": "display_data"
    },
    {
     "data": {
      "text/plain": [
       "[{'name': '보테니컬 스키니 아이브로우 코팅카라 03 로지빈스',\n",
       "  'url': 'https://www.naturerepublic.com/shop/goods_view.php?id=0000012051',\n",
       "  'image': ['http://lfyaklyqypvr852590.gcdn.ntruss.com/data/nature_data/images/product/00/00/01/20/51/b_0000012051.gif'],\n",
       "  'color': '#',\n",
       "  'category': 'HOME > 카테고리 > 포인트 메이크업',\n",
       "  'salePrice': 7500,\n",
       "  'originalPrice': 7500,\n",
       "  'brand': 'naturerepublic',\n",
       "  'volume': '보테니컬 스키니 아이브로우 코팅카라 03 로지빈스\\n3.5g'}]"
      ]
     },
     "metadata": {},
     "output_type": "display_data"
    },
    {
     "data": {
      "text/plain": [
       "[{'name': '보테니컬 스키니 아이브로우 코팅카라 02 브레드브라운',\n",
       "  'url': 'https://www.naturerepublic.com/shop/goods_view.php?id=0000012050',\n",
       "  'image': ['http://lfyaklyqypvr852590.gcdn.ntruss.com/data/nature_data/images/product/00/00/01/20/50/b_0000012050.gif'],\n",
       "  'color': '#',\n",
       "  'category': 'HOME > 카테고리 > 포인트 메이크업',\n",
       "  'salePrice': 7500,\n",
       "  'originalPrice': 7500,\n",
       "  'brand': 'naturerepublic',\n",
       "  'volume': '보테니컬 스키니 아이브로우 코팅카라 02 브레드브라운\\n3.5g'}]"
      ]
     },
     "metadata": {},
     "output_type": "display_data"
    },
    {
     "data": {
      "text/plain": [
       "[{'name': '보테니컬 스키니 아이브로우 코팅카라 01 초콜렛브라운',\n",
       "  'url': 'https://www.naturerepublic.com/shop/goods_view.php?id=0000012049',\n",
       "  'image': ['http://lfyaklyqypvr852590.gcdn.ntruss.com/data/nature_data/images/product/00/00/01/20/49/b_0000012049.gif'],\n",
       "  'color': '#',\n",
       "  'category': 'HOME > 카테고리 > 포인트 메이크업',\n",
       "  'salePrice': 7500,\n",
       "  'originalPrice': 7500,\n",
       "  'brand': 'naturerepublic',\n",
       "  'volume': '보테니컬 스키니 아이브로우 코팅카라 01 초콜렛브라운\\n3.5g'}]"
      ]
     },
     "metadata": {},
     "output_type": "display_data"
    },
    {
     "data": {
      "text/plain": [
       "[{'name': '바이플라워 벨벳 듀이 틴트',\n",
       "  'url': 'https://www.naturerepublic.com/shop/goods_view.php?id=0000012013',\n",
       "  'image': ['http://lfyaklyqypvr852590.gcdn.ntruss.com/data/nature_data/images/product/00/00/01/20/13/b_0000012013.gif',\n",
       "   'http://lfyaklyqypvr852590.gcdn.ntruss.com/data/nature_data/images/addimg/00/00/01/20/13/b_00029818_add.gif'],\n",
       "  'color': '01 새초롬 사루비아',\n",
       "  'category': 'HOME > 카테고리 > 포인트 메이크업',\n",
       "  'salePrice': 7200,\n",
       "  'originalPrice': 9000,\n",
       "  'brand': 'naturerepublic',\n",
       "  'volume': '4g'},\n",
       " {'name': '바이플라워 벨벳 듀이 틴트',\n",
       "  'url': 'https://www.naturerepublic.com/shop/goods_view.php?id=0000012013',\n",
       "  'image': ['http://lfyaklyqypvr852590.gcdn.ntruss.com/data/nature_data/images/product/00/00/01/20/13/b_0000012013.gif',\n",
       "   'http://lfyaklyqypvr852590.gcdn.ntruss.com/data/nature_data/images/addimg/00/00/01/20/13/b_00029818_add.gif'],\n",
       "  'color': '02 수줍은 로즈',\n",
       "  'category': 'HOME > 카테고리 > 포인트 메이크업',\n",
       "  'salePrice': 7200,\n",
       "  'originalPrice': 9000,\n",
       "  'brand': 'naturerepublic',\n",
       "  'volume': '4g'},\n",
       " {'name': '바이플라워 벨벳 듀이 틴트',\n",
       "  'url': 'https://www.naturerepublic.com/shop/goods_view.php?id=0000012013',\n",
       "  'image': ['http://lfyaklyqypvr852590.gcdn.ntruss.com/data/nature_data/images/product/00/00/01/20/13/b_0000012013.gif',\n",
       "   'http://lfyaklyqypvr852590.gcdn.ntruss.com/data/nature_data/images/addimg/00/00/01/20/13/b_00029818_add.gif'],\n",
       "  'color': '03 설레는 데이지',\n",
       "  'category': 'HOME > 카테고리 > 포인트 메이크업',\n",
       "  'salePrice': 7200,\n",
       "  'originalPrice': 9000,\n",
       "  'brand': 'naturerepublic',\n",
       "  'volume': '4g'}]"
      ]
     },
     "metadata": {},
     "output_type": "display_data"
    },
    {
     "data": {
      "text/plain": [
       "[{'name': '퓨어 샤인 립스틱 06 캔디 팝 핑크',\n",
       "  'url': 'https://www.naturerepublic.com/shop/goods_view.php?id=0000011981',\n",
       "  'image': ['http://lfyaklyqypvr852590.gcdn.ntruss.com/data/nature_data/images/product/00/00/01/19/81/b_0000011981.gif'],\n",
       "  'color': '#',\n",
       "  'category': 'HOME > 카테고리 > 포인트 메이크업',\n",
       "  'salePrice': 8800,\n",
       "  'originalPrice': 8800,\n",
       "  'brand': 'naturerepublic',\n",
       "  'volume': '3.5g'}]"
      ]
     },
     "metadata": {},
     "output_type": "display_data"
    },
    {
     "data": {
      "text/plain": [
       "[{'name': '퓨어 샤인 립스틱 05 밀키핑크',\n",
       "  'url': 'https://www.naturerepublic.com/shop/goods_view.php?id=0000011937',\n",
       "  'image': ['http://lfyaklyqypvr852590.gcdn.ntruss.com/data/nature_data/images/product/00/00/01/19/37/b_0000011937.gif'],\n",
       "  'color': '#',\n",
       "  'category': 'HOME > 카테고리 > 포인트 메이크업',\n",
       "  'salePrice': 8800,\n",
       "  'originalPrice': 8800,\n",
       "  'brand': 'naturerepublic',\n",
       "  'volume': '3.5g'}]"
      ]
     },
     "metadata": {},
     "output_type": "display_data"
    },
    {
     "data": {
      "text/plain": [
       "[{'name': '퓨어 샤인 립스틱 03 줄리엣 로즈',\n",
       "  'url': 'https://www.naturerepublic.com/shop/goods_view.php?id=0000011932',\n",
       "  'image': ['http://lfyaklyqypvr852590.gcdn.ntruss.com/data/nature_data/images/product/00/00/01/19/32/b_0000011932.gif'],\n",
       "  'color': '#',\n",
       "  'category': 'HOME > 카테고리 > 포인트 메이크업',\n",
       "  'salePrice': 8800,\n",
       "  'originalPrice': 8800,\n",
       "  'brand': 'naturerepublic',\n",
       "  'volume': '3.5g'}]"
      ]
     },
     "metadata": {},
     "output_type": "display_data"
    },
    {
     "data": {
      "text/plain": [
       "[{'name': '컬러왈츠 컬러 팝 초콜렛 컬렉션 (+우드스틱 증정)',\n",
       "  'url': 'https://www.naturerepublic.com/shop/goods_view.php?id=0000011928',\n",
       "  'image': ['http://lfyaklyqypvr852590.gcdn.ntruss.com/data/nature_data/images/product/00/00/01/19/28/b_0000011928.gif'],\n",
       "  'color': '#',\n",
       "  'category': 'HOME > 카테고리 > 포인트 메이크업',\n",
       "  'salePrice': 15000,\n",
       "  'originalPrice': 15000,\n",
       "  'brand': 'naturerepublic',\n",
       "  'volume': '7㎖*10ea'}]"
      ]
     },
     "metadata": {},
     "output_type": "display_data"
    },
    {
     "data": {
      "text/plain": [
       "[{'name': 'NEW 에코 크레용 립루즈 01 캔디핑크',\n",
       "  'url': 'https://www.naturerepublic.com/shop/goods_view.php?id=0000011025',\n",
       "  'image': ['http://lfyaklyqypvr852590.gcdn.ntruss.com/data/nature_data/images/product/00/00/01/10/25/b_0000011025.gif',\n",
       "   'http://lfyaklyqypvr852590.gcdn.ntruss.com/data/nature_data/images/addimg/00/00/01/10/25/b_00028916_add.gif'],\n",
       "  'color': '#',\n",
       "  'category': 'HOME > 카테고리 > 포인트 메이크업',\n",
       "  'salePrice': 6000,\n",
       "  'originalPrice': 6000,\n",
       "  'brand': 'naturerepublic',\n",
       "  'volume': '2.5g'}]"
      ]
     },
     "metadata": {},
     "output_type": "display_data"
    },
    {
     "data": {
      "text/plain": [
       "[{'name': '멀티플 3D 올인원 브로우 03 애쉬모카',\n",
       "  'url': 'https://www.naturerepublic.com/shop/goods_view.php?id=0000011719',\n",
       "  'image': ['http://lfyaklyqypvr852590.gcdn.ntruss.com/data/nature_data/images/product/00/00/01/17/19/b_0000011719.gif'],\n",
       "  'color': '#',\n",
       "  'category': 'HOME > 카테고리 > 포인트 메이크업',\n",
       "  'salePrice': 9900,\n",
       "  'originalPrice': 9900,\n",
       "  'brand': 'naturerepublic',\n",
       "  'volume': '0.7g'}]"
      ]
     },
     "metadata": {},
     "output_type": "display_data"
    },
    {
     "data": {
      "text/plain": [
       "[{'name': '멀티플 3D 올인원 브로우 02 초코브라우니',\n",
       "  'url': 'https://www.naturerepublic.com/shop/goods_view.php?id=0000011722',\n",
       "  'image': ['http://lfyaklyqypvr852590.gcdn.ntruss.com/data/nature_data/images/product/00/00/01/17/22/b_0000011722.gif'],\n",
       "  'color': '#',\n",
       "  'category': 'HOME > 카테고리 > 포인트 메이크업',\n",
       "  'salePrice': 9900,\n",
       "  'originalPrice': 9900,\n",
       "  'brand': 'naturerepublic',\n",
       "  'volume': '0.7g'}]"
      ]
     },
     "metadata": {},
     "output_type": "display_data"
    },
    {
     "data": {
      "text/plain": [
       "[{'name': '인텐시브 잉크 립 래커 02 피치 메모리',\n",
       "  'url': 'https://www.naturerepublic.com/shop/goods_view.php?id=0000011009',\n",
       "  'image': ['http://lfyaklyqypvr852590.gcdn.ntruss.com/data/nature_data/images/product/00/00/01/10/09/b_0000011009.gif',\n",
       "   'http://lfyaklyqypvr852590.gcdn.ntruss.com/data/nature_data/images/addimg/00/00/01/10/09/b_00028904_add.gif'],\n",
       "  'color': '#',\n",
       "  'category': 'HOME > 카테고리 > 포인트 메이크업',\n",
       "  'salePrice': 12000,\n",
       "  'originalPrice': 12000,\n",
       "  'brand': 'naturerepublic',\n",
       "  'volume': '4.5g'}]"
      ]
     },
     "metadata": {},
     "output_type": "display_data"
    },
    {
     "data": {
      "text/plain": [
       "[{'name': '크리미 립스틱 8호 베리 오렌지',\n",
       "  'url': 'https://www.naturerepublic.com/shop/goods_view.php?id=0000011265',\n",
       "  'image': ['http://lfyaklyqypvr852590.gcdn.ntruss.com/data/nature_data/images/product/00/00/01/12/65/b_0000011265.gif'],\n",
       "  'color': '#',\n",
       "  'category': 'HOME > 카테고리 > 포인트 메이크업',\n",
       "  'salePrice': 12000,\n",
       "  'originalPrice': 12000,\n",
       "  'brand': 'naturerepublic',\n",
       "  'volume': '3.9g'}]"
      ]
     },
     "metadata": {},
     "output_type": "display_data"
    },
    {
     "data": {
      "text/plain": [
       "[{'name': 'NEW 에코 크레용 아이즈 01 화이트',\n",
       "  'url': 'https://www.naturerepublic.com/shop/goods_view.php?id=0000011777',\n",
       "  'image': ['http://lfyaklyqypvr852590.gcdn.ntruss.com/data/nature_data/images/product/00/00/01/17/77/b_0000011777.gif',\n",
       "   'http://lfyaklyqypvr852590.gcdn.ntruss.com/data/nature_data/images/addimg/00/00/01/17/77/b_00029673_add.gif'],\n",
       "  'color': '#',\n",
       "  'category': 'HOME > 카테고리 > 포인트 메이크업',\n",
       "  'salePrice': 6000,\n",
       "  'originalPrice': 6000,\n",
       "  'brand': 'naturerepublic',\n",
       "  'volume': '3g'}]"
      ]
     },
     "metadata": {},
     "output_type": "display_data"
    },
    {
     "data": {
      "text/plain": [
       "[{'name': '인텐시브 잉크 립 래커 03 판타지 코랄',\n",
       "  'url': 'https://www.naturerepublic.com/shop/goods_view.php?id=0000011010',\n",
       "  'image': ['http://lfyaklyqypvr852590.gcdn.ntruss.com/data/nature_data/images/product/00/00/01/10/10/b_0000011010.gif',\n",
       "   'http://lfyaklyqypvr852590.gcdn.ntruss.com/data/nature_data/images/addimg/00/00/01/10/10/b_00028905_add.gif'],\n",
       "  'color': '#',\n",
       "  'category': 'HOME > 카테고리 > 포인트 메이크업',\n",
       "  'salePrice': 12000,\n",
       "  'originalPrice': 12000,\n",
       "  'brand': 'naturerepublic',\n",
       "  'volume': '4.5g'}]"
      ]
     },
     "metadata": {},
     "output_type": "display_data"
    },
    {
     "data": {
      "text/plain": [
       "[{'name': 'NEW 에코 크레용 아이즈 02 핑크',\n",
       "  'url': 'https://www.naturerepublic.com/shop/goods_view.php?id=0000011778',\n",
       "  'image': ['http://lfyaklyqypvr852590.gcdn.ntruss.com/data/nature_data/images/product/00/00/01/17/78/b_0000011778.gif'],\n",
       "  'color': '#',\n",
       "  'category': 'HOME > 카테고리 > 포인트 메이크업',\n",
       "  'salePrice': 6000,\n",
       "  'originalPrice': 6000,\n",
       "  'brand': 'naturerepublic',\n",
       "  'volume': '3g'}]"
      ]
     },
     "metadata": {},
     "output_type": "display_data"
    },
    {
     "data": {
      "text/plain": [
       "[{'name': 'NEW 에코 크레용 아이즈 03 골든핑크',\n",
       "  'url': 'https://www.naturerepublic.com/shop/goods_view.php?id=0000011779',\n",
       "  'image': ['http://lfyaklyqypvr852590.gcdn.ntruss.com/data/nature_data/images/product/00/00/01/17/79/b_0000011779.gif'],\n",
       "  'color': '#',\n",
       "  'category': 'HOME > 카테고리 > 포인트 메이크업',\n",
       "  'salePrice': 6000,\n",
       "  'originalPrice': 6000,\n",
       "  'brand': 'naturerepublic',\n",
       "  'volume': '3g'}]"
      ]
     },
     "metadata": {},
     "output_type": "display_data"
    },
    {
     "data": {
      "text/plain": [
       "[{'name': '인텐시브 잉크 립 래커 04 클래식 레드',\n",
       "  'url': 'https://www.naturerepublic.com/shop/goods_view.php?id=0000011012',\n",
       "  'image': ['http://lfyaklyqypvr852590.gcdn.ntruss.com/data/nature_data/images/product/00/00/01/10/12/b_0000011012.gif',\n",
       "   'http://lfyaklyqypvr852590.gcdn.ntruss.com/data/nature_data/images/addimg/00/00/01/10/12/b_00028907_add.gif'],\n",
       "  'color': '#',\n",
       "  'category': 'HOME > 카테고리 > 포인트 메이크업',\n",
       "  'salePrice': 12000,\n",
       "  'originalPrice': 12000,\n",
       "  'brand': 'naturerepublic',\n",
       "  'volume': '4.5g'}]"
      ]
     },
     "metadata": {},
     "output_type": "display_data"
    },
    {
     "data": {
      "text/plain": [
       "[{'name': '에코 크레용 아이즈 04 브라운',\n",
       "  'url': 'https://www.naturerepublic.com/shop/goods_view.php?id=0000011780',\n",
       "  'image': ['http://lfyaklyqypvr852590.gcdn.ntruss.com/data/nature_data/images/product/00/00/01/17/80/b_0000011780.gif'],\n",
       "  'color': '#',\n",
       "  'category': 'HOME > 카테고리 > 포인트 메이크업',\n",
       "  'salePrice': 6000,\n",
       "  'originalPrice': 6000,\n",
       "  'brand': 'naturerepublic',\n",
       "  'volume': '3g'}]"
      ]
     },
     "metadata": {},
     "output_type": "display_data"
    },
    {
     "data": {
      "text/plain": [
       "[{'name': 'NEW 에코 크레용 아이즈 05 다크브라운',\n",
       "  'url': 'https://www.naturerepublic.com/shop/goods_view.php?id=0000011781',\n",
       "  'image': ['http://lfyaklyqypvr852590.gcdn.ntruss.com/data/nature_data/images/product/00/00/01/17/81/b_0000011781.gif'],\n",
       "  'color': '#',\n",
       "  'category': 'HOME > 카테고리 > 포인트 메이크업',\n",
       "  'salePrice': 6000,\n",
       "  'originalPrice': 6000,\n",
       "  'brand': 'naturerepublic',\n",
       "  'volume': '3g'}]"
      ]
     },
     "metadata": {},
     "output_type": "display_data"
    },
    {
     "data": {
      "text/plain": [
       "[{'name': '보테니컬 스키니 오토 아이라이너 02 브라운',\n",
       "  'url': 'https://www.naturerepublic.com/shop/goods_view.php?id=0000011783',\n",
       "  'image': ['http://lfyaklyqypvr852590.gcdn.ntruss.com/data/nature_data/images/product/00/00/01/17/83/b_0000011783.gif'],\n",
       "  'color': '#',\n",
       "  'category': 'HOME > 카테고리 > 포인트 메이크업',\n",
       "  'salePrice': 7900,\n",
       "  'originalPrice': 7900,\n",
       "  'brand': 'naturerepublic',\n",
       "  'volume': '0.14g'}]"
      ]
     },
     "metadata": {},
     "output_type": "display_data"
    },
    {
     "data": {
      "text/plain": [
       "[{'name': '[2018] 컬러 앤 네이처 네일 케어 매트 탑 코트',\n",
       "  'url': 'https://www.naturerepublic.com/shop/goods_view.php?id=0000010760',\n",
       "  'image': ['http://lfyaklyqypvr852590.gcdn.ntruss.com/data/nature_data/images/product/00/00/01/07/60/b_0000010760.gif'],\n",
       "  'color': '#',\n",
       "  'category': 'HOME > 카테고리 > 포인트 메이크업',\n",
       "  'salePrice': 2500,\n",
       "  'originalPrice': 2500,\n",
       "  'brand': 'naturerepublic',\n",
       "  'volume': '8㎖'}]"
      ]
     },
     "metadata": {},
     "output_type": "display_data"
    },
    {
     "data": {
      "text/plain": [
       "[{'name': '보테니컬 아이브로우 코팅카라 03 골드 브라운',\n",
       "  'url': 'https://www.naturerepublic.com/shop/goods_view.php?id=0000011017',\n",
       "  'image': ['http://lfyaklyqypvr852590.gcdn.ntruss.com/data/nature_data/images/product/00/00/01/10/17/b_0000011017.gif',\n",
       "   'http://lfyaklyqypvr852590.gcdn.ntruss.com/data/nature_data/images/addimg/00/00/01/10/17/b_00028908_add.gif'],\n",
       "  'color': '#',\n",
       "  'category': 'HOME > 카테고리 > 포인트 메이크업',\n",
       "  'salePrice': 6500,\n",
       "  'originalPrice': 6500,\n",
       "  'brand': 'naturerepublic',\n",
       "  'volume': '4.5g'}]"
      ]
     },
     "metadata": {},
     "output_type": "display_data"
    },
    {
     "data": {
      "text/plain": [
       "[{'name': '보테니컬 아이브로우 코팅카라 04 와인 브라운',\n",
       "  'url': 'https://www.naturerepublic.com/shop/goods_view.php?id=0000011018',\n",
       "  'image': ['http://lfyaklyqypvr852590.gcdn.ntruss.com/data/nature_data/images/product/00/00/01/10/18/b_0000011018.gif',\n",
       "   'http://lfyaklyqypvr852590.gcdn.ntruss.com/data/nature_data/images/addimg/00/00/01/10/18/b_00028909_add.gif'],\n",
       "  'color': '#',\n",
       "  'category': 'HOME > 카테고리 > 포인트 메이크업',\n",
       "  'salePrice': 6500,\n",
       "  'originalPrice': 6500,\n",
       "  'brand': 'naturerepublic',\n",
       "  'volume': '4.5g'}]"
      ]
     },
     "metadata": {},
     "output_type": "display_data"
    },
    {
     "data": {
      "text/plain": [
       "[{'name': '[2018] 컬러 앤 네이처 네일 컬러 36호 누디 핑크',\n",
       "  'url': 'https://www.naturerepublic.com/shop/goods_view.php?id=0000011786',\n",
       "  'image': ['http://lfyaklyqypvr852590.gcdn.ntruss.com/data/nature_data/images/product/00/00/01/17/86/b_0000011786.gif',\n",
       "   'http://lfyaklyqypvr852590.gcdn.ntruss.com/data/nature_data/images/addimg/00/00/01/17/86/b_00029674_add.gif'],\n",
       "  'color': '#',\n",
       "  'category': 'HOME > 카테고리 > 포인트 메이크업',\n",
       "  'salePrice': 3500,\n",
       "  'originalPrice': 3500,\n",
       "  'brand': 'naturerepublic',\n",
       "  'volume': '8㎖'}]"
      ]
     },
     "metadata": {},
     "output_type": "display_data"
    },
    {
     "data": {
      "text/plain": [
       "[{'name': '멀티플 3D 올인원 브로우 03 애쉬모카',\n",
       "  'url': 'https://www.naturerepublic.com/shop/goods_view.php?id=0000011719',\n",
       "  'image': ['http://lfyaklyqypvr852590.gcdn.ntruss.com/data/nature_data/images/product/00/00/01/17/19/b_0000011719.gif'],\n",
       "  'color': '#',\n",
       "  'category': 'HOME > 카테고리 > 포인트 메이크업',\n",
       "  'salePrice': 9900,\n",
       "  'originalPrice': 9900,\n",
       "  'brand': 'naturerepublic',\n",
       "  'volume': '0.7g'}]"
      ]
     },
     "metadata": {},
     "output_type": "display_data"
    },
    {
     "data": {
      "text/plain": [
       "[{'name': '멀티플 3D 올인원 브로우 02 초코브라우니',\n",
       "  'url': 'https://www.naturerepublic.com/shop/goods_view.php?id=0000011722',\n",
       "  'image': ['http://lfyaklyqypvr852590.gcdn.ntruss.com/data/nature_data/images/product/00/00/01/17/22/b_0000011722.gif'],\n",
       "  'color': '#',\n",
       "  'category': 'HOME > 카테고리 > 포인트 메이크업',\n",
       "  'salePrice': 9900,\n",
       "  'originalPrice': 9900,\n",
       "  'brand': 'naturerepublic',\n",
       "  'volume': '0.7g'}]"
      ]
     },
     "metadata": {},
     "output_type": "display_data"
    },
    {
     "data": {
      "text/plain": [
       "[{'name': '인텐시브 잉크 립 래커 02 피치 메모리',\n",
       "  'url': 'https://www.naturerepublic.com/shop/goods_view.php?id=0000011009',\n",
       "  'image': ['http://lfyaklyqypvr852590.gcdn.ntruss.com/data/nature_data/images/product/00/00/01/10/09/b_0000011009.gif',\n",
       "   'http://lfyaklyqypvr852590.gcdn.ntruss.com/data/nature_data/images/addimg/00/00/01/10/09/b_00028904_add.gif'],\n",
       "  'color': '#',\n",
       "  'category': 'HOME > 카테고리 > 포인트 메이크업',\n",
       "  'salePrice': 12000,\n",
       "  'originalPrice': 12000,\n",
       "  'brand': 'naturerepublic',\n",
       "  'volume': '4.5g'}]"
      ]
     },
     "metadata": {},
     "output_type": "display_data"
    },
    {
     "data": {
      "text/plain": [
       "[{'name': '크리미 립스틱 8호 베리 오렌지',\n",
       "  'url': 'https://www.naturerepublic.com/shop/goods_view.php?id=0000011265',\n",
       "  'image': ['http://lfyaklyqypvr852590.gcdn.ntruss.com/data/nature_data/images/product/00/00/01/12/65/b_0000011265.gif'],\n",
       "  'color': '#',\n",
       "  'category': 'HOME > 카테고리 > 포인트 메이크업',\n",
       "  'salePrice': 12000,\n",
       "  'originalPrice': 12000,\n",
       "  'brand': 'naturerepublic',\n",
       "  'volume': '3.9g'}]"
      ]
     },
     "metadata": {},
     "output_type": "display_data"
    },
    {
     "data": {
      "text/plain": [
       "[{'name': 'NEW 에코 크레용 아이즈 01 화이트',\n",
       "  'url': 'https://www.naturerepublic.com/shop/goods_view.php?id=0000011777',\n",
       "  'image': ['http://lfyaklyqypvr852590.gcdn.ntruss.com/data/nature_data/images/product/00/00/01/17/77/b_0000011777.gif',\n",
       "   'http://lfyaklyqypvr852590.gcdn.ntruss.com/data/nature_data/images/addimg/00/00/01/17/77/b_00029673_add.gif'],\n",
       "  'color': '#',\n",
       "  'category': 'HOME > 카테고리 > 포인트 메이크업',\n",
       "  'salePrice': 6000,\n",
       "  'originalPrice': 6000,\n",
       "  'brand': 'naturerepublic',\n",
       "  'volume': '3g'}]"
      ]
     },
     "metadata": {},
     "output_type": "display_data"
    },
    {
     "data": {
      "text/plain": [
       "[{'name': '인텐시브 잉크 립 래커 03 판타지 코랄',\n",
       "  'url': 'https://www.naturerepublic.com/shop/goods_view.php?id=0000011010',\n",
       "  'image': ['http://lfyaklyqypvr852590.gcdn.ntruss.com/data/nature_data/images/product/00/00/01/10/10/b_0000011010.gif',\n",
       "   'http://lfyaklyqypvr852590.gcdn.ntruss.com/data/nature_data/images/addimg/00/00/01/10/10/b_00028905_add.gif'],\n",
       "  'color': '#',\n",
       "  'category': 'HOME > 카테고리 > 포인트 메이크업',\n",
       "  'salePrice': 12000,\n",
       "  'originalPrice': 12000,\n",
       "  'brand': 'naturerepublic',\n",
       "  'volume': '4.5g'}]"
      ]
     },
     "metadata": {},
     "output_type": "display_data"
    },
    {
     "data": {
      "text/plain": [
       "[{'name': 'NEW 에코 크레용 아이즈 02 핑크',\n",
       "  'url': 'https://www.naturerepublic.com/shop/goods_view.php?id=0000011778',\n",
       "  'image': ['http://lfyaklyqypvr852590.gcdn.ntruss.com/data/nature_data/images/product/00/00/01/17/78/b_0000011778.gif'],\n",
       "  'color': '#',\n",
       "  'category': 'HOME > 카테고리 > 포인트 메이크업',\n",
       "  'salePrice': 6000,\n",
       "  'originalPrice': 6000,\n",
       "  'brand': 'naturerepublic',\n",
       "  'volume': '3g'}]"
      ]
     },
     "metadata": {},
     "output_type": "display_data"
    },
    {
     "data": {
      "text/plain": [
       "[{'name': 'NEW 에코 크레용 아이즈 03 골든핑크',\n",
       "  'url': 'https://www.naturerepublic.com/shop/goods_view.php?id=0000011779',\n",
       "  'image': ['http://lfyaklyqypvr852590.gcdn.ntruss.com/data/nature_data/images/product/00/00/01/17/79/b_0000011779.gif'],\n",
       "  'color': '#',\n",
       "  'category': 'HOME > 카테고리 > 포인트 메이크업',\n",
       "  'salePrice': 6000,\n",
       "  'originalPrice': 6000,\n",
       "  'brand': 'naturerepublic',\n",
       "  'volume': '3g'}]"
      ]
     },
     "metadata": {},
     "output_type": "display_data"
    },
    {
     "data": {
      "text/plain": [
       "[{'name': '인텐시브 잉크 립 래커 04 클래식 레드',\n",
       "  'url': 'https://www.naturerepublic.com/shop/goods_view.php?id=0000011012',\n",
       "  'image': ['http://lfyaklyqypvr852590.gcdn.ntruss.com/data/nature_data/images/product/00/00/01/10/12/b_0000011012.gif',\n",
       "   'http://lfyaklyqypvr852590.gcdn.ntruss.com/data/nature_data/images/addimg/00/00/01/10/12/b_00028907_add.gif'],\n",
       "  'color': '#',\n",
       "  'category': 'HOME > 카테고리 > 포인트 메이크업',\n",
       "  'salePrice': 12000,\n",
       "  'originalPrice': 12000,\n",
       "  'brand': 'naturerepublic',\n",
       "  'volume': '4.5g'}]"
      ]
     },
     "metadata": {},
     "output_type": "display_data"
    },
    {
     "data": {
      "text/plain": [
       "[{'name': '에코 크레용 아이즈 04 브라운',\n",
       "  'url': 'https://www.naturerepublic.com/shop/goods_view.php?id=0000011780',\n",
       "  'image': ['http://lfyaklyqypvr852590.gcdn.ntruss.com/data/nature_data/images/product/00/00/01/17/80/b_0000011780.gif'],\n",
       "  'color': '#',\n",
       "  'category': 'HOME > 카테고리 > 포인트 메이크업',\n",
       "  'salePrice': 6000,\n",
       "  'originalPrice': 6000,\n",
       "  'brand': 'naturerepublic',\n",
       "  'volume': '3g'}]"
      ]
     },
     "metadata": {},
     "output_type": "display_data"
    },
    {
     "data": {
      "text/plain": [
       "[{'name': 'NEW 에코 크레용 아이즈 05 다크브라운',\n",
       "  'url': 'https://www.naturerepublic.com/shop/goods_view.php?id=0000011781',\n",
       "  'image': ['http://lfyaklyqypvr852590.gcdn.ntruss.com/data/nature_data/images/product/00/00/01/17/81/b_0000011781.gif'],\n",
       "  'color': '#',\n",
       "  'category': 'HOME > 카테고리 > 포인트 메이크업',\n",
       "  'salePrice': 6000,\n",
       "  'originalPrice': 6000,\n",
       "  'brand': 'naturerepublic',\n",
       "  'volume': '3g'}]"
      ]
     },
     "metadata": {},
     "output_type": "display_data"
    },
    {
     "data": {
      "text/plain": [
       "[{'name': '보테니컬 스키니 오토 아이라이너 02 브라운',\n",
       "  'url': 'https://www.naturerepublic.com/shop/goods_view.php?id=0000011783',\n",
       "  'image': ['http://lfyaklyqypvr852590.gcdn.ntruss.com/data/nature_data/images/product/00/00/01/17/83/b_0000011783.gif'],\n",
       "  'color': '#',\n",
       "  'category': 'HOME > 카테고리 > 포인트 메이크업',\n",
       "  'salePrice': 7900,\n",
       "  'originalPrice': 7900,\n",
       "  'brand': 'naturerepublic',\n",
       "  'volume': '0.14g'}]"
      ]
     },
     "metadata": {},
     "output_type": "display_data"
    },
    {
     "data": {
      "text/plain": [
       "[{'name': '[2018] 컬러 앤 네이처 네일 케어 매트 탑 코트',\n",
       "  'url': 'https://www.naturerepublic.com/shop/goods_view.php?id=0000010760',\n",
       "  'image': ['http://lfyaklyqypvr852590.gcdn.ntruss.com/data/nature_data/images/product/00/00/01/07/60/b_0000010760.gif'],\n",
       "  'color': '#',\n",
       "  'category': 'HOME > 카테고리 > 포인트 메이크업',\n",
       "  'salePrice': 2500,\n",
       "  'originalPrice': 2500,\n",
       "  'brand': 'naturerepublic',\n",
       "  'volume': '8㎖'}]"
      ]
     },
     "metadata": {},
     "output_type": "display_data"
    },
    {
     "data": {
      "text/plain": [
       "[{'name': '보테니컬 아이브로우 코팅카라 03 골드 브라운',\n",
       "  'url': 'https://www.naturerepublic.com/shop/goods_view.php?id=0000011017',\n",
       "  'image': ['http://lfyaklyqypvr852590.gcdn.ntruss.com/data/nature_data/images/product/00/00/01/10/17/b_0000011017.gif',\n",
       "   'http://lfyaklyqypvr852590.gcdn.ntruss.com/data/nature_data/images/addimg/00/00/01/10/17/b_00028908_add.gif'],\n",
       "  'color': '#',\n",
       "  'category': 'HOME > 카테고리 > 포인트 메이크업',\n",
       "  'salePrice': 6500,\n",
       "  'originalPrice': 6500,\n",
       "  'brand': 'naturerepublic',\n",
       "  'volume': '4.5g'}]"
      ]
     },
     "metadata": {},
     "output_type": "display_data"
    },
    {
     "data": {
      "text/plain": [
       "[{'name': '보테니컬 아이브로우 코팅카라 04 와인 브라운',\n",
       "  'url': 'https://www.naturerepublic.com/shop/goods_view.php?id=0000011018',\n",
       "  'image': ['http://lfyaklyqypvr852590.gcdn.ntruss.com/data/nature_data/images/product/00/00/01/10/18/b_0000011018.gif',\n",
       "   'http://lfyaklyqypvr852590.gcdn.ntruss.com/data/nature_data/images/addimg/00/00/01/10/18/b_00028909_add.gif'],\n",
       "  'color': '#',\n",
       "  'category': 'HOME > 카테고리 > 포인트 메이크업',\n",
       "  'salePrice': 6500,\n",
       "  'originalPrice': 6500,\n",
       "  'brand': 'naturerepublic',\n",
       "  'volume': '4.5g'}]"
      ]
     },
     "metadata": {},
     "output_type": "display_data"
    },
    {
     "data": {
      "text/plain": [
       "[{'name': '[2018] 컬러 앤 네이처 네일 컬러 36호 누디 핑크',\n",
       "  'url': 'https://www.naturerepublic.com/shop/goods_view.php?id=0000011786',\n",
       "  'image': ['http://lfyaklyqypvr852590.gcdn.ntruss.com/data/nature_data/images/product/00/00/01/17/86/b_0000011786.gif',\n",
       "   'http://lfyaklyqypvr852590.gcdn.ntruss.com/data/nature_data/images/addimg/00/00/01/17/86/b_00029674_add.gif'],\n",
       "  'color': '#',\n",
       "  'category': 'HOME > 카테고리 > 포인트 메이크업',\n",
       "  'salePrice': 3500,\n",
       "  'originalPrice': 3500,\n",
       "  'brand': 'naturerepublic',\n",
       "  'volume': '8㎖'}]"
      ]
     },
     "metadata": {},
     "output_type": "display_data"
    },
    {
     "data": {
      "text/plain": [
       "[{'name': '프로 터치 컬러 마스터 섀도 팔레트 스프링 에디션',\n",
       "  'url': 'https://www.naturerepublic.com/shop/goods_view.php?id=0000010507',\n",
       "  'image': ['http://lfyaklyqypvr852590.gcdn.ntruss.com/data/nature_data/images/product/00/00/01/05/07/b_0000010507.gif',\n",
       "   'http://lfyaklyqypvr852590.gcdn.ntruss.com/data/nature_data/images/addimg/00/00/01/05/07/b_00028435_add.gif',\n",
       "   'http://lfyaklyqypvr852590.gcdn.ntruss.com/data/nature_data/images/addimg/00/00/01/05/07/b_00028436_add.gif'],\n",
       "  'color': '#',\n",
       "  'category': 'HOME > 카테고리 > 포인트 메이크업',\n",
       "  'salePrice': 24900,\n",
       "  'originalPrice': 49800,\n",
       "  'brand': 'naturerepublic',\n",
       "  'volume': '14g'}]"
      ]
     },
     "metadata": {},
     "output_type": "display_data"
    },
    {
     "data": {
      "text/plain": [
       "[{'name': '리얼 젤 틴트 02 핑크',\n",
       "  'url': 'https://www.naturerepublic.com/shop/goods_view.php?id=0000011019',\n",
       "  'image': ['http://lfyaklyqypvr852590.gcdn.ntruss.com/data/nature_data/images/product/00/00/01/10/19/b_0000011019.gif',\n",
       "   'http://lfyaklyqypvr852590.gcdn.ntruss.com/data/nature_data/images/addimg/00/00/01/10/19/b_00028910_add.gif',\n",
       "   'http://lfyaklyqypvr852590.gcdn.ntruss.com/data/nature_data/images/addimg/00/00/01/10/19/b_00028911_add.gif'],\n",
       "  'color': '#',\n",
       "  'category': 'HOME > 카테고리 > 포인트 메이크업',\n",
       "  'salePrice': 3080,\n",
       "  'originalPrice': 4400,\n",
       "  'brand': 'naturerepublic',\n",
       "  'volume': '9ml'}]"
      ]
     },
     "metadata": {},
     "output_type": "display_data"
    },
    {
     "data": {
      "text/plain": [
       "[{'name': '세럼 인 틴트 05 크림슨 레드',\n",
       "  'url': 'https://www.naturerepublic.com/shop/goods_view.php?id=0000011531',\n",
       "  'image': ['http://lfyaklyqypvr852590.gcdn.ntruss.com/data/nature_data/images/product/00/00/01/15/31/b_0000011531.gif'],\n",
       "  'color': '#',\n",
       "  'category': 'HOME > 카테고리 > 포인트 메이크업',\n",
       "  'salePrice': 8400,\n",
       "  'originalPrice': 12000,\n",
       "  'brand': 'naturerepublic',\n",
       "  'volume': '4g'}]"
      ]
     },
     "metadata": {},
     "output_type": "display_data"
    },
    {
     "data": {
      "text/plain": [
       "[{'name': '리얼 젤 틴트 03 오렌지',\n",
       "  'url': 'https://www.naturerepublic.com/shop/goods_view.php?id=0000011020',\n",
       "  'image': ['http://lfyaklyqypvr852590.gcdn.ntruss.com/data/nature_data/images/product/00/00/01/10/20/b_0000011020.gif',\n",
       "   'http://lfyaklyqypvr852590.gcdn.ntruss.com/data/nature_data/images/addimg/00/00/01/10/20/b_00028912_add.gif',\n",
       "   'http://lfyaklyqypvr852590.gcdn.ntruss.com/data/nature_data/images/addimg/00/00/01/10/20/b_00028913_add.gif'],\n",
       "  'color': '#',\n",
       "  'category': 'HOME > 카테고리 > 포인트 메이크업',\n",
       "  'salePrice': 3080,\n",
       "  'originalPrice': 4400,\n",
       "  'brand': 'naturerepublic',\n",
       "  'volume': '9ml'}]"
      ]
     },
     "metadata": {},
     "output_type": "display_data"
    },
    {
     "data": {
      "text/plain": [
       "[{'name': '세럼 인 틴트 06 멜로우 로즈',\n",
       "  'url': 'https://www.naturerepublic.com/shop/goods_view.php?id=0000011532',\n",
       "  'image': ['http://lfyaklyqypvr852590.gcdn.ntruss.com/data/nature_data/images/product/00/00/01/15/32/b_0000011532.gif'],\n",
       "  'color': '#',\n",
       "  'category': 'HOME > 카테고리 > 포인트 메이크업',\n",
       "  'salePrice': 8400,\n",
       "  'originalPrice': 12000,\n",
       "  'brand': 'naturerepublic',\n",
       "  'volume': '4g'}]"
      ]
     },
     "metadata": {},
     "output_type": "display_data"
    },
    {
     "data": {
      "text/plain": [
       "[{'name': '[2018] 컬러 앤 네이처 네일 컬러 41호 라즈베리',\n",
       "  'url': 'https://www.naturerepublic.com/shop/goods_view.php?id=0000011788',\n",
       "  'image': ['http://lfyaklyqypvr852590.gcdn.ntruss.com/data/nature_data/images/product/00/00/01/17/88/b_0000011788.gif',\n",
       "   'http://lfyaklyqypvr852590.gcdn.ntruss.com/data/nature_data/images/addimg/00/00/01/17/88/b_00029676_add.gif'],\n",
       "  'color': '#',\n",
       "  'category': 'HOME > 카테고리 > 포인트 메이크업',\n",
       "  'salePrice': 3500,\n",
       "  'originalPrice': 3500,\n",
       "  'brand': 'naturerepublic',\n",
       "  'volume': '8㎖'}]"
      ]
     },
     "metadata": {},
     "output_type": "display_data"
    },
    {
     "data": {
      "text/plain": [
       "[{'name': '바이플라워 우드 아이브로우 02 딥 브라운',\n",
       "  'url': 'https://www.naturerepublic.com/shop/goods_view.php?id=0000011789',\n",
       "  'image': ['http://lfyaklyqypvr852590.gcdn.ntruss.com/data/nature_data/images/product/00/00/01/17/89/b_0000011789.gif'],\n",
       "  'color': '#',\n",
       "  'category': 'HOME > 카테고리 > 포인트 메이크업',\n",
       "  'salePrice': 3000,\n",
       "  'originalPrice': 3000,\n",
       "  'brand': 'naturerepublic',\n",
       "  'volume': '1.6g'}]"
      ]
     },
     "metadata": {},
     "output_type": "display_data"
    },
    {
     "data": {
      "text/plain": [
       "[{'name': '에코 립글로스 4호 핑크',\n",
       "  'url': 'https://www.naturerepublic.com/shop/goods_view.php?id=0000011022',\n",
       "  'image': ['http://lfyaklyqypvr852590.gcdn.ntruss.com/data/nature_data/images/product/00/00/01/10/22/b_0000011022.gif',\n",
       "   'http://lfyaklyqypvr852590.gcdn.ntruss.com/data/nature_data/images/addimg/00/00/01/10/22/b_00028914_add.gif',\n",
       "   'http://lfyaklyqypvr852590.gcdn.ntruss.com/data/nature_data/images/addimg/00/00/01/10/22/b_00028915_add.gif'],\n",
       "  'color': '#',\n",
       "  'category': 'HOME > 카테고리 > 포인트 메이크업',\n",
       "  'salePrice': 5390,\n",
       "  'originalPrice': 7700,\n",
       "  'brand': 'naturerepublic',\n",
       "  'volume': '5.8g'}]"
      ]
     },
     "metadata": {},
     "output_type": "display_data"
    },
    {
     "data": {
      "text/plain": [
       "[{'name': '크리미 립스틱 10호 헐리웃 레드',\n",
       "  'url': 'https://www.naturerepublic.com/shop/goods_view.php?id=0000011278',\n",
       "  'image': ['http://lfyaklyqypvr852590.gcdn.ntruss.com/data/nature_data/images/product/00/00/01/12/78/b_0000011278.gif'],\n",
       "  'color': '#',\n",
       "  'category': 'HOME > 카테고리 > 포인트 메이크업',\n",
       "  'salePrice': 12000,\n",
       "  'originalPrice': 12000,\n",
       "  'brand': 'naturerepublic',\n",
       "  'volume': '3.9g'}]"
      ]
     },
     "metadata": {},
     "output_type": "display_data"
    },
    {
     "data": {
      "text/plain": [
       "[{'name': '[2018] 컬러 앤 네이처 네일 컬러_일반',\n",
       "  'url': 'https://www.naturerepublic.com/shop/goods_view.php?id=0000011790',\n",
       "  'image': ['http://lfyaklyqypvr852590.gcdn.ntruss.com/data/nature_data/images/product/00/00/01/17/90/b_0000011790.gif',\n",
       "   'http://lfyaklyqypvr852590.gcdn.ntruss.com/data/nature_data/images/addimg/00/00/01/17/90/b_00029677_add.gif',\n",
       "   'http://lfyaklyqypvr852590.gcdn.ntruss.com/data/nature_data/images/addimg/00/00/01/17/90/b_00029678_add.gif'],\n",
       "  'color': '#',\n",
       "  'category': 'HOME > 카테고리 > 포인트 메이크업',\n",
       "  'salePrice': 3000,\n",
       "  'originalPrice': 3000,\n",
       "  'brand': 'naturerepublic',\n",
       "  'volume': '8㎖'}]"
      ]
     },
     "metadata": {},
     "output_type": "display_data"
    },
    {
     "data": {
      "text/plain": [
       "[{'name': '프로 터치 섀도 팔레트 01 브라운 노트',\n",
       "  'url': 'https://www.naturerepublic.com/shop/goods_view.php?id=0000010767',\n",
       "  'image': ['http://lfyaklyqypvr852590.gcdn.ntruss.com/data/nature_data/images/product/00/00/01/07/67/b_0000010767.gif',\n",
       "   'http://lfyaklyqypvr852590.gcdn.ntruss.com/data/nature_data/images/addimg/00/00/01/07/67/b_00028704_add.gif'],\n",
       "  'color': '#',\n",
       "  'category': 'HOME > 카테고리 > 포인트 메이크업',\n",
       "  'salePrice': 15500,\n",
       "  'originalPrice': 31000,\n",
       "  'brand': 'naturerepublic',\n",
       "  'volume': '10g'}]"
      ]
     },
     "metadata": {},
     "output_type": "display_data"
    },
    {
     "data": {
      "text/plain": [
       "[{'name': '[2018] 컬러 앤 네이처 네일 컬러 3호 초코 케이크',\n",
       "  'url': 'https://www.naturerepublic.com/shop/goods_view.php?id=0000011791',\n",
       "  'image': ['http://lfyaklyqypvr852590.gcdn.ntruss.com/data/nature_data/images/product/00/00/01/17/91/b_0000011791.gif',\n",
       "   'http://lfyaklyqypvr852590.gcdn.ntruss.com/data/nature_data/images/addimg/00/00/01/17/91/b_00029679_add.gif'],\n",
       "  'color': '#',\n",
       "  'category': 'HOME > 카테고리 > 포인트 메이크업',\n",
       "  'salePrice': 3000,\n",
       "  'originalPrice': 3000,\n",
       "  'brand': 'naturerepublic',\n",
       "  'volume': '8㎖'}]"
      ]
     },
     "metadata": {},
     "output_type": "display_data"
    },
    {
     "data": {
      "text/plain": [
       "[{'name': '[2018] 컬러 앤 네이처 네일 컬러 4호 블랙 커런트',\n",
       "  'url': 'https://www.naturerepublic.com/shop/goods_view.php?id=0000011792',\n",
       "  'image': ['http://lfyaklyqypvr852590.gcdn.ntruss.com/data/nature_data/images/product/00/00/01/17/92/b_0000011792.gif',\n",
       "   'http://lfyaklyqypvr852590.gcdn.ntruss.com/data/nature_data/images/addimg/00/00/01/17/92/b_00029680_add.gif'],\n",
       "  'color': '#',\n",
       "  'category': 'HOME > 카테고리 > 포인트 메이크업',\n",
       "  'salePrice': 3000,\n",
       "  'originalPrice': 3000,\n",
       "  'brand': 'naturerepublic',\n",
       "  'volume': '8㎖'}]"
      ]
     },
     "metadata": {},
     "output_type": "display_data"
    },
    {
     "data": {
      "text/plain": [
       "[{'name': '샤인 블라썸 블러셔 01 핑크 블라썸',\n",
       "  'url': 'https://www.naturerepublic.com/shop/goods_view.php?id=0000011537',\n",
       "  'image': ['http://lfyaklyqypvr852590.gcdn.ntruss.com/data/nature_data/images/product/00/00/01/15/37/b_0000011537.gif',\n",
       "   'http://lfyaklyqypvr852590.gcdn.ntruss.com/data/nature_data/images/addimg/00/00/01/15/37/b_00029421_add.gif',\n",
       "   'http://lfyaklyqypvr852590.gcdn.ntruss.com/data/nature_data/images/addimg/00/00/01/15/37/b_00029422_add.gif'],\n",
       "  'color': '#',\n",
       "  'category': 'HOME > 카테고리 > 포인트 메이크업',\n",
       "  'salePrice': 6900,\n",
       "  'originalPrice': 6900,\n",
       "  'brand': 'naturerepublic',\n",
       "  'volume': '10g'}]"
      ]
     },
     "metadata": {},
     "output_type": "display_data"
    },
    {
     "data": {
      "text/plain": [
       "[{'name': 'NEW 에코 크레용 립루즈 02 베리 핑크',\n",
       "  'url': 'https://www.naturerepublic.com/shop/goods_view.php?id=0000011026',\n",
       "  'image': ['http://lfyaklyqypvr852590.gcdn.ntruss.com/data/nature_data/images/product/00/00/01/10/26/b_0000011026.gif'],\n",
       "  'color': '#',\n",
       "  'category': 'HOME > 카테고리 > 포인트 메이크업',\n",
       "  'salePrice': 6000,\n",
       "  'originalPrice': 6000,\n",
       "  'brand': 'naturerepublic',\n",
       "  'volume': '2.5g'}]"
      ]
     },
     "metadata": {},
     "output_type": "display_data"
    },
    {
     "data": {
      "text/plain": [
       "[{'name': '[2018] 컬러 앤 네이처 네일 컬러 25호 로제 와인',\n",
       "  'url': 'https://www.naturerepublic.com/shop/goods_view.php?id=0000011794',\n",
       "  'image': ['http://lfyaklyqypvr852590.gcdn.ntruss.com/data/nature_data/images/product/00/00/01/17/94/b_0000011794.gif',\n",
       "   'http://lfyaklyqypvr852590.gcdn.ntruss.com/data/nature_data/images/addimg/00/00/01/17/94/b_00029681_add.gif'],\n",
       "  'color': '#',\n",
       "  'category': 'HOME > 카테고리 > 포인트 메이크업',\n",
       "  'salePrice': 3000,\n",
       "  'originalPrice': 3000,\n",
       "  'brand': 'naturerepublic',\n",
       "  'volume': '8㎖'}]"
      ]
     },
     "metadata": {},
     "output_type": "display_data"
    },
    {
     "data": {
      "text/plain": [
       "[{'name': 'NEW 에코 크레용 립루즈 03 피치코랄',\n",
       "  'url': 'https://www.naturerepublic.com/shop/goods_view.php?id=0000011027',\n",
       "  'image': ['http://lfyaklyqypvr852590.gcdn.ntruss.com/data/nature_data/images/product/00/00/01/10/27/b_0000011027.gif'],\n",
       "  'color': '#',\n",
       "  'category': 'HOME > 카테고리 > 포인트 메이크업',\n",
       "  'salePrice': 6000,\n",
       "  'originalPrice': 6000,\n",
       "  'brand': 'naturerepublic',\n",
       "  'volume': '2.5g'}]"
      ]
     },
     "metadata": {},
     "output_type": "display_data"
    },
    {
     "data": {
      "text/plain": [
       "[{'name': '[2018] 컬러 앤 네이처 네일 컬러 27호 딸기 밀푀유',\n",
       "  'url': 'https://www.naturerepublic.com/shop/goods_view.php?id=0000011795',\n",
       "  'image': ['http://lfyaklyqypvr852590.gcdn.ntruss.com/data/nature_data/images/product/00/00/01/17/95/b_0000011795.gif',\n",
       "   'http://lfyaklyqypvr852590.gcdn.ntruss.com/data/nature_data/images/addimg/00/00/01/17/95/b_00029682_add.gif'],\n",
       "  'color': '#',\n",
       "  'category': 'HOME > 카테고리 > 포인트 메이크업',\n",
       "  'salePrice': 3000,\n",
       "  'originalPrice': 3000,\n",
       "  'brand': 'naturerepublic',\n",
       "  'volume': '8㎖'}]"
      ]
     },
     "metadata": {},
     "output_type": "display_data"
    },
    {
     "data": {
      "text/plain": [
       "[{'name': '에코 립글로스 5호 로즈',\n",
       "  'url': 'https://www.naturerepublic.com/shop/goods_view.php?id=0000011028',\n",
       "  'image': ['http://lfyaklyqypvr852590.gcdn.ntruss.com/data/nature_data/images/product/00/00/01/10/28/b_0000011028.gif',\n",
       "   'http://lfyaklyqypvr852590.gcdn.ntruss.com/data/nature_data/images/addimg/00/00/01/10/28/b_00028917_add.gif',\n",
       "   'http://lfyaklyqypvr852590.gcdn.ntruss.com/data/nature_data/images/addimg/00/00/01/10/28/b_00028918_add.gif'],\n",
       "  'color': '#',\n",
       "  'category': 'HOME > 카테고리 > 포인트 메이크업',\n",
       "  'salePrice': 5390,\n",
       "  'originalPrice': 7700,\n",
       "  'brand': 'naturerepublic',\n",
       "  'volume': '5.8g'}]"
      ]
     },
     "metadata": {},
     "output_type": "display_data"
    },
    {
     "data": {
      "text/plain": [
       "[{'name': '[2018] 컬러 앤 네이처 네일 컬러 29호 발레 슈즈',\n",
       "  'url': 'https://www.naturerepublic.com/shop/goods_view.php?id=0000011796',\n",
       "  'image': ['http://lfyaklyqypvr852590.gcdn.ntruss.com/data/nature_data/images/product/00/00/01/17/96/b_0000011796.gif',\n",
       "   'http://lfyaklyqypvr852590.gcdn.ntruss.com/data/nature_data/images/addimg/00/00/01/17/96/b_00029683_add.gif'],\n",
       "  'color': '#',\n",
       "  'category': 'HOME > 카테고리 > 포인트 메이크업',\n",
       "  'salePrice': 3000,\n",
       "  'originalPrice': 3000,\n",
       "  'brand': 'naturerepublic',\n",
       "  'volume': '8㎖'}]"
      ]
     },
     "metadata": {},
     "output_type": "display_data"
    },
    {
     "data": {
      "text/plain": [
       "[{'name': '[2018] 컬러 앤 네이처 네일 컬러 30호 에브리데이',\n",
       "  'url': 'https://www.naturerepublic.com/shop/goods_view.php?id=0000011797',\n",
       "  'image': ['http://lfyaklyqypvr852590.gcdn.ntruss.com/data/nature_data/images/product/00/00/01/17/97/b_0000011797.gif',\n",
       "   'http://lfyaklyqypvr852590.gcdn.ntruss.com/data/nature_data/images/addimg/00/00/01/17/97/b_00029684_add.gif'],\n",
       "  'color': '#',\n",
       "  'category': 'HOME > 카테고리 > 포인트 메이크업',\n",
       "  'salePrice': 3000,\n",
       "  'originalPrice': 3000,\n",
       "  'brand': 'naturerepublic',\n",
       "  'volume': '8㎖'}]"
      ]
     },
     "metadata": {},
     "output_type": "display_data"
    },
    {
     "data": {
      "text/plain": [
       "[{'name': '와일드 마스카라',\n",
       "  'url': 'https://www.naturerepublic.com/shop/goods_view.php?id=0000011030',\n",
       "  'image': ['http://lfyaklyqypvr852590.gcdn.ntruss.com/data/nature_data/images/product/00/00/01/10/30/b_0000011030.gif',\n",
       "   'http://lfyaklyqypvr852590.gcdn.ntruss.com/data/nature_data/images/addimg/00/00/01/10/30/b_00028919_add.gif',\n",
       "   'http://lfyaklyqypvr852590.gcdn.ntruss.com/data/nature_data/images/addimg/00/00/01/10/30/b_00028920_add.gif'],\n",
       "  'color': '#',\n",
       "  'category': 'HOME > 카테고리 > 포인트 메이크업',\n",
       "  'salePrice': 8800,\n",
       "  'originalPrice': 8800,\n",
       "  'brand': 'naturerepublic',\n",
       "  'volume': '9g'}]"
      ]
     },
     "metadata": {},
     "output_type": "display_data"
    },
    {
     "data": {
      "text/plain": [
       "[{'name': '[2018] 컬러 앤 네이처 네일 컬러 32호 크로아상',\n",
       "  'url': 'https://www.naturerepublic.com/shop/goods_view.php?id=0000011032',\n",
       "  'image': ['http://lfyaklyqypvr852590.gcdn.ntruss.com/data/nature_data/images/product/00/00/01/10/32/b_0000011032.gif',\n",
       "   'http://lfyaklyqypvr852590.gcdn.ntruss.com/data/nature_data/images/addimg/00/00/01/10/32/b_00028923_add.gif'],\n",
       "  'color': '#',\n",
       "  'category': 'HOME > 카테고리 > 포인트 메이크업',\n",
       "  'salePrice': 3000,\n",
       "  'originalPrice': 3000,\n",
       "  'brand': 'naturerepublic',\n",
       "  'volume': '8㎖'}]"
      ]
     },
     "metadata": {},
     "output_type": "display_data"
    },
    {
     "data": {
      "text/plain": [
       "[{'name': '[2018] 컬러 앤 네이처 네일 컬러 45호 블랙 수트',\n",
       "  'url': 'https://www.naturerepublic.com/shop/goods_view.php?id=0000011288',\n",
       "  'image': ['http://lfyaklyqypvr852590.gcdn.ntruss.com/data/nature_data/images/product/00/00/01/12/88/b_0000011288.gif',\n",
       "   'http://lfyaklyqypvr852590.gcdn.ntruss.com/data/nature_data/images/addimg/00/00/01/12/88/b_00029150_add.gif'],\n",
       "  'color': '#',\n",
       "  'category': 'HOME > 카테고리 > 포인트 메이크업',\n",
       "  'salePrice': 3500,\n",
       "  'originalPrice': 3500,\n",
       "  'brand': 'naturerepublic',\n",
       "  'volume': '8㎖'}]"
      ]
     },
     "metadata": {},
     "output_type": "display_data"
    },
    {
     "data": {
      "text/plain": [
       "[{'name': '프로방스 크리미 젤 아이라이너 02 카카오 초코',\n",
       "  'url': 'https://www.naturerepublic.com/shop/goods_view.php?id=0000011800',\n",
       "  'image': ['http://lfyaklyqypvr852590.gcdn.ntruss.com/data/nature_data/images/product/00/00/01/18/00/b_0000011800.gif'],\n",
       "  'color': '#',\n",
       "  'category': 'HOME > 카테고리 > 포인트 메이크업',\n",
       "  'salePrice': 8000,\n",
       "  'originalPrice': 8000,\n",
       "  'brand': 'naturerepublic',\n",
       "  'volume': '0.5g'}]"
      ]
     },
     "metadata": {},
     "output_type": "display_data"
    },
    {
     "data": {
      "text/plain": [
       "[{'name': '[2018] 컬러 앤 네이처 네일 컬러 33호 마롱 파이',\n",
       "  'url': 'https://www.naturerepublic.com/shop/goods_view.php?id=0000011033',\n",
       "  'image': ['http://lfyaklyqypvr852590.gcdn.ntruss.com/data/nature_data/images/product/00/00/01/10/33/b_0000011033.gif',\n",
       "   'http://lfyaklyqypvr852590.gcdn.ntruss.com/data/nature_data/images/addimg/00/00/01/10/33/b_00028924_add.gif'],\n",
       "  'color': '#',\n",
       "  'category': 'HOME > 카테고리 > 포인트 메이크업',\n",
       "  'salePrice': 3000,\n",
       "  'originalPrice': 3000,\n",
       "  'brand': 'naturerepublic',\n",
       "  'volume': '8㎖'}]"
      ]
     },
     "metadata": {},
     "output_type": "display_data"
    },
    {
     "data": {
      "text/plain": [
       "[{'name': '[2018] 컬러 앤 네이처 네일 컬러 47호 빈티지 토프',\n",
       "  'url': 'https://www.naturerepublic.com/shop/goods_view.php?id=0000011289',\n",
       "  'image': ['http://lfyaklyqypvr852590.gcdn.ntruss.com/data/nature_data/images/product/00/00/01/12/89/b_0000011289.gif',\n",
       "   'http://lfyaklyqypvr852590.gcdn.ntruss.com/data/nature_data/images/addimg/00/00/01/12/89/b_00029151_add.gif'],\n",
       "  'color': '#',\n",
       "  'category': 'HOME > 카테고리 > 포인트 메이크업',\n",
       "  'salePrice': 3500,\n",
       "  'originalPrice': 3500,\n",
       "  'brand': 'naturerepublic',\n",
       "  'volume': '8㎖'}]"
      ]
     },
     "metadata": {},
     "output_type": "display_data"
    },
    {
     "data": {
      "text/plain": [
       "[{'name': '프로방스 크리미 젤 아이라이너 05 샤이닝 피치',\n",
       "  'url': 'https://www.naturerepublic.com/shop/goods_view.php?id=0000011801',\n",
       "  'image': ['http://lfyaklyqypvr852590.gcdn.ntruss.com/data/nature_data/images/product/00/00/01/18/01/b_0000011801.gif'],\n",
       "  'color': '#',\n",
       "  'category': 'HOME > 카테고리 > 포인트 메이크업',\n",
       "  'salePrice': 8000,\n",
       "  'originalPrice': 8000,\n",
       "  'brand': 'naturerepublic',\n",
       "  'volume': '0.5g'}]"
      ]
     },
     "metadata": {},
     "output_type": "display_data"
    },
    {
     "data": {
      "text/plain": [
       "[{'name': '[2018] 컬러 앤 네이처 네일 컬러_매트 34호 벨벳 화이트',\n",
       "  'url': 'https://www.naturerepublic.com/shop/goods_view.php?id=0000011034',\n",
       "  'image': ['http://lfyaklyqypvr852590.gcdn.ntruss.com/data/nature_data/images/product/00/00/01/10/34/b_0000011034.gif',\n",
       "   'http://lfyaklyqypvr852590.gcdn.ntruss.com/data/nature_data/images/addimg/00/00/01/10/34/b_00028925_add.gif',\n",
       "   'http://lfyaklyqypvr852590.gcdn.ntruss.com/data/nature_data/images/addimg/00/00/01/10/34/b_00028926_add.gif'],\n",
       "  'color': '#',\n",
       "  'category': 'HOME > 카테고리 > 포인트 메이크업',\n",
       "  'salePrice': 3500,\n",
       "  'originalPrice': 3500,\n",
       "  'brand': 'naturerepublic',\n",
       "  'volume': '8㎖'}]"
      ]
     },
     "metadata": {},
     "output_type": "display_data"
    },
    {
     "data": {
      "text/plain": [
       "[{'name': '[2018] 컬러 앤 네이처 네일 컬러 48호 웨딩 부케',\n",
       "  'url': 'https://www.naturerepublic.com/shop/goods_view.php?id=0000011290',\n",
       "  'image': ['http://lfyaklyqypvr852590.gcdn.ntruss.com/data/nature_data/images/product/00/00/01/12/90/b_0000011290.gif',\n",
       "   'http://lfyaklyqypvr852590.gcdn.ntruss.com/data/nature_data/images/addimg/00/00/01/12/90/b_00029152_add.gif'],\n",
       "  'color': '#',\n",
       "  'category': 'HOME > 카테고리 > 포인트 메이크업',\n",
       "  'salePrice': 3500,\n",
       "  'originalPrice': 3500,\n",
       "  'brand': 'naturerepublic',\n",
       "  'volume': '8㎖'}]"
      ]
     },
     "metadata": {},
     "output_type": "display_data"
    },
    {
     "data": {
      "text/plain": [
       "[{'name': '[2018] 컬러 앤 네이처 네일 컬러 35호 베이비 핑크',\n",
       "  'url': 'https://www.naturerepublic.com/shop/goods_view.php?id=0000011035',\n",
       "  'image': ['http://lfyaklyqypvr852590.gcdn.ntruss.com/data/nature_data/images/product/00/00/01/10/35/b_0000011035.gif',\n",
       "   'http://lfyaklyqypvr852590.gcdn.ntruss.com/data/nature_data/images/addimg/00/00/01/10/35/b_00028927_add.gif'],\n",
       "  'color': '#',\n",
       "  'category': 'HOME > 카테고리 > 포인트 메이크업',\n",
       "  'salePrice': 3500,\n",
       "  'originalPrice': 3500,\n",
       "  'brand': 'naturerepublic',\n",
       "  'volume': '8㎖'}]"
      ]
     },
     "metadata": {},
     "output_type": "display_data"
    },
    {
     "data": {
      "text/plain": [
       "[{'name': '[2018] 컬러 앤 네이처 네일 컬러 49호 스윗 핫핑크',\n",
       "  'url': 'https://www.naturerepublic.com/shop/goods_view.php?id=0000011291',\n",
       "  'image': ['http://lfyaklyqypvr852590.gcdn.ntruss.com/data/nature_data/images/product/00/00/01/12/91/b_0000011291.gif',\n",
       "   'http://lfyaklyqypvr852590.gcdn.ntruss.com/data/nature_data/images/addimg/00/00/01/12/91/b_00029153_add.gif'],\n",
       "  'color': '#',\n",
       "  'category': 'HOME > 카테고리 > 포인트 메이크업',\n",
       "  'salePrice': 3500,\n",
       "  'originalPrice': 3500,\n",
       "  'brand': 'naturerepublic',\n",
       "  'volume': '8㎖'}]"
      ]
     },
     "metadata": {},
     "output_type": "display_data"
    },
    {
     "data": {
      "text/plain": [
       "[{'name': 'NEW 바이플라워 우드 아이브로우 01 딥 그레이',\n",
       "  'url': 'https://www.naturerepublic.com/shop/goods_view.php?id=0000011803',\n",
       "  'image': ['http://lfyaklyqypvr852590.gcdn.ntruss.com/data/nature_data/images/product/00/00/01/18/03/b_0000011803.gif',\n",
       "   'http://lfyaklyqypvr852590.gcdn.ntruss.com/data/nature_data/images/addimg/00/00/01/18/03/b_00029689_add.gif'],\n",
       "  'color': '#',\n",
       "  'category': 'HOME > 카테고리 > 포인트 메이크업',\n",
       "  'salePrice': 3000,\n",
       "  'originalPrice': 3000,\n",
       "  'brand': 'naturerepublic',\n",
       "  'volume': '1.6g'}]"
      ]
     },
     "metadata": {},
     "output_type": "display_data"
    },
    {
     "data": {
      "text/plain": [
       "[{'name': '크리미 립스틱 02 핑크 썸데이',\n",
       "  'url': 'https://www.naturerepublic.com/shop/goods_view.php?id=0000011036',\n",
       "  'image': ['http://lfyaklyqypvr852590.gcdn.ntruss.com/data/nature_data/images/product/00/00/01/10/36/b_0000011036.gif'],\n",
       "  'color': '#',\n",
       "  'category': 'HOME > 카테고리 > 포인트 메이크업',\n",
       "  'salePrice': 12000,\n",
       "  'originalPrice': 12000,\n",
       "  'brand': 'naturerepublic',\n",
       "  'volume': '3.9g'}]"
      ]
     },
     "metadata": {},
     "output_type": "display_data"
    },
    {
     "data": {
      "text/plain": [
       "[{'name': '[2018] 컬러 앤 네이처 네일 컬러_글리터/펄',\n",
       "  'url': 'https://www.naturerepublic.com/shop/goods_view.php?id=0000011292',\n",
       "  'image': ['http://lfyaklyqypvr852590.gcdn.ntruss.com/data/nature_data/images/product/00/00/01/12/92/b_0000011292.gif',\n",
       "   'http://lfyaklyqypvr852590.gcdn.ntruss.com/data/nature_data/images/addimg/00/00/01/12/92/b_00029154_add.gif',\n",
       "   'http://lfyaklyqypvr852590.gcdn.ntruss.com/data/nature_data/images/addimg/00/00/01/12/92/b_00029155_add.gif'],\n",
       "  'color': '#',\n",
       "  'category': 'HOME > 카테고리 > 포인트 메이크업',\n",
       "  'salePrice': 3500,\n",
       "  'originalPrice': 3500,\n",
       "  'brand': 'naturerepublic',\n",
       "  'volume': '8㎖'}]"
      ]
     },
     "metadata": {},
     "output_type": "display_data"
    },
    {
     "data": {
      "text/plain": [
       "[{'name': '크리미 립스틱 04 새먼 오렌지',\n",
       "  'url': 'https://www.naturerepublic.com/shop/goods_view.php?id=0000011037',\n",
       "  'image': ['http://lfyaklyqypvr852590.gcdn.ntruss.com/data/nature_data/images/product/00/00/01/10/37/b_0000011037.gif'],\n",
       "  'color': '#',\n",
       "  'category': 'HOME > 카테고리 > 포인트 메이크업',\n",
       "  'salePrice': 12000,\n",
       "  'originalPrice': 12000,\n",
       "  'brand': 'naturerepublic',\n",
       "  'volume': '3.9g'}]"
      ]
     },
     "metadata": {},
     "output_type": "display_data"
    },
    {
     "data": {
      "text/plain": [
       "[{'name': '[2018] 컬러 앤 네이처 네일 컬러 51호 드림걸즈',\n",
       "  'url': 'https://www.naturerepublic.com/shop/goods_view.php?id=0000011293',\n",
       "  'image': ['http://lfyaklyqypvr852590.gcdn.ntruss.com/data/nature_data/images/product/00/00/01/12/93/b_0000011293.gif',\n",
       "   'http://lfyaklyqypvr852590.gcdn.ntruss.com/data/nature_data/images/addimg/00/00/01/12/93/b_00029156_add.gif'],\n",
       "  'color': '#',\n",
       "  'category': 'HOME > 카테고리 > 포인트 메이크업',\n",
       "  'salePrice': 3500,\n",
       "  'originalPrice': 3500,\n",
       "  'brand': 'naturerepublic',\n",
       "  'volume': '8㎖'}]"
      ]
     },
     "metadata": {},
     "output_type": "display_data"
    },
    {
     "data": {
      "text/plain": [
       "[{'name': '보테니컬 쿠션 블러셔 03 하이라이터',\n",
       "  'url': 'https://www.naturerepublic.com/shop/goods_view.php?id=0000011549',\n",
       "  'image': ['http://lfyaklyqypvr852590.gcdn.ntruss.com/data/nature_data/images/product/00/00/01/15/49/b_0000011549.gif',\n",
       "   'http://lfyaklyqypvr852590.gcdn.ntruss.com/data/nature_data/images/addimg/00/00/01/15/49/b_00029433_add.gif',\n",
       "   'http://lfyaklyqypvr852590.gcdn.ntruss.com/data/nature_data/images/addimg/00/00/01/15/49/b_00029434_add.gif'],\n",
       "  'color': '#',\n",
       "  'category': 'HOME > 카테고리 > 포인트 메이크업',\n",
       "  'salePrice': 10900,\n",
       "  'originalPrice': 10900,\n",
       "  'brand': 'naturerepublic',\n",
       "  'volume': '8g'}]"
      ]
     },
     "metadata": {},
     "output_type": "display_data"
    },
    {
     "data": {
      "text/plain": [
       "[{'name': '크리미 립스틱 05 코랄 프레소',\n",
       "  'url': 'https://www.naturerepublic.com/shop/goods_view.php?id=0000011038',\n",
       "  'image': ['http://lfyaklyqypvr852590.gcdn.ntruss.com/data/nature_data/images/product/00/00/01/10/38/b_0000011038.gif'],\n",
       "  'color': '#',\n",
       "  'category': 'HOME > 카테고리 > 포인트 메이크업',\n",
       "  'salePrice': 12000,\n",
       "  'originalPrice': 12000,\n",
       "  'brand': 'naturerepublic',\n",
       "  'volume': '3.9g'}]"
      ]
     },
     "metadata": {},
     "output_type": "display_data"
    },
    {
     "data": {
      "text/plain": [
       "[{'name': '[2018] 컬러 앤 네이처 네일 컬러 52호 핑크 블룸',\n",
       "  'url': 'https://www.naturerepublic.com/shop/goods_view.php?id=0000011294',\n",
       "  'image': ['http://lfyaklyqypvr852590.gcdn.ntruss.com/data/nature_data/images/product/00/00/01/12/94/b_0000011294.gif',\n",
       "   'http://lfyaklyqypvr852590.gcdn.ntruss.com/data/nature_data/images/addimg/00/00/01/12/94/b_00029157_add.gif'],\n",
       "  'color': '#',\n",
       "  'category': 'HOME > 카테고리 > 포인트 메이크업',\n",
       "  'salePrice': 3500,\n",
       "  'originalPrice': 3500,\n",
       "  'brand': 'naturerepublic',\n",
       "  'volume': '8㎖'}]"
      ]
     },
     "metadata": {},
     "output_type": "display_data"
    },
    {
     "data": {
      "text/plain": [
       "[{'name': '[2018] 써니 젤 네일 3호 봄의 나른함',\n",
       "  'url': 'https://www.naturerepublic.com/shop/goods_view.php?id=0000011806',\n",
       "  'image': ['http://lfyaklyqypvr852590.gcdn.ntruss.com/data/nature_data/images/product/00/00/01/18/06/b_0000011806.gif'],\n",
       "  'color': '#',\n",
       "  'category': 'HOME > 카테고리 > 포인트 메이크업',\n",
       "  'salePrice': 4500,\n",
       "  'originalPrice': 4500,\n",
       "  'brand': 'naturerepublic',\n",
       "  'volume': '8.5㎖'}]"
      ]
     },
     "metadata": {},
     "output_type": "display_data"
    },
    {
     "data": {
      "text/plain": [
       "[{'name': '에코 립글로스 6호 레드',\n",
       "  'url': 'https://www.naturerepublic.com/shop/goods_view.php?id=0000011040',\n",
       "  'image': ['http://lfyaklyqypvr852590.gcdn.ntruss.com/data/nature_data/images/product/00/00/01/10/40/b_0000011040.gif',\n",
       "   'http://lfyaklyqypvr852590.gcdn.ntruss.com/data/nature_data/images/addimg/00/00/01/10/40/b_00028929_add.gif',\n",
       "   'http://lfyaklyqypvr852590.gcdn.ntruss.com/data/nature_data/images/addimg/00/00/01/10/40/b_00028930_add.gif'],\n",
       "  'color': '#',\n",
       "  'category': 'HOME > 카테고리 > 포인트 메이크업',\n",
       "  'salePrice': 5390,\n",
       "  'originalPrice': 7700,\n",
       "  'brand': 'naturerepublic',\n",
       "  'volume': '5.8g'}]"
      ]
     },
     "metadata": {},
     "output_type": "display_data"
    },
    {
     "data": {
      "text/plain": [
       "[{'name': '에코 립글로스 3호 체리',\n",
       "  'url': 'https://www.naturerepublic.com/shop/goods_view.php?id=0000011041',\n",
       "  'image': ['http://lfyaklyqypvr852590.gcdn.ntruss.com/data/nature_data/images/product/00/00/01/10/41/b_0000011041.gif',\n",
       "   'http://lfyaklyqypvr852590.gcdn.ntruss.com/data/nature_data/images/addimg/00/00/01/10/41/b_00028931_add.gif',\n",
       "   'http://lfyaklyqypvr852590.gcdn.ntruss.com/data/nature_data/images/addimg/00/00/01/10/41/b_00028932_add.gif'],\n",
       "  'color': '#',\n",
       "  'category': 'HOME > 카테고리 > 포인트 메이크업',\n",
       "  'salePrice': 5390,\n",
       "  'originalPrice': 7700,\n",
       "  'brand': 'naturerepublic',\n",
       "  'volume': '5.8g'}]"
      ]
     },
     "metadata": {},
     "output_type": "display_data"
    },
    {
     "data": {
      "text/plain": [
       "[{'name': '퓨어 샤인 립스틱 11 블러디 버건디',\n",
       "  'url': 'https://www.naturerepublic.com/shop/goods_view.php?id=0000011809',\n",
       "  'image': ['http://lfyaklyqypvr852590.gcdn.ntruss.com/data/nature_data/images/product/00/00/01/18/09/b_0000011809.gif'],\n",
       "  'color': '#',\n",
       "  'category': 'HOME > 카테고리 > 포인트 메이크업',\n",
       "  'salePrice': 8800,\n",
       "  'originalPrice': 8800,\n",
       "  'brand': 'naturerepublic',\n",
       "  'volume': '3.5g'}]"
      ]
     },
     "metadata": {},
     "output_type": "display_data"
    },
    {
     "data": {
      "text/plain": [
       "[{'name': '에코 립글로스 2호 피치',\n",
       "  'url': 'https://www.naturerepublic.com/shop/goods_view.php?id=0000011042',\n",
       "  'image': ['http://lfyaklyqypvr852590.gcdn.ntruss.com/data/nature_data/images/product/00/00/01/10/42/b_0000011042.gif',\n",
       "   'http://lfyaklyqypvr852590.gcdn.ntruss.com/data/nature_data/images/addimg/00/00/01/10/42/b_00028933_add.gif',\n",
       "   'http://lfyaklyqypvr852590.gcdn.ntruss.com/data/nature_data/images/addimg/00/00/01/10/42/b_00028934_add.gif'],\n",
       "  'color': '#',\n",
       "  'category': 'HOME > 카테고리 > 포인트 메이크업',\n",
       "  'salePrice': 5390,\n",
       "  'originalPrice': 7700,\n",
       "  'brand': 'naturerepublic',\n",
       "  'volume': '5.8g'}]"
      ]
     },
     "metadata": {},
     "output_type": "display_data"
    },
    {
     "data": {
      "text/plain": [
       "[{'name': '보테니컬 스키니 오토 아이라이너 01 블랙',\n",
       "  'url': 'https://www.naturerepublic.com/shop/goods_view.php?id=0000011298',\n",
       "  'image': ['http://lfyaklyqypvr852590.gcdn.ntruss.com/data/nature_data/images/product/00/00/01/12/98/b_0000011298.gif',\n",
       "   'http://lfyaklyqypvr852590.gcdn.ntruss.com/data/nature_data/images/addimg/00/00/01/12/98/b_00029159_add.gif'],\n",
       "  'color': '#',\n",
       "  'category': 'HOME > 카테고리 > 포인트 메이크업',\n",
       "  'salePrice': 7900,\n",
       "  'originalPrice': 7900,\n",
       "  'brand': 'naturerepublic',\n",
       "  'volume': '0.14g'}]"
      ]
     },
     "metadata": {},
     "output_type": "display_data"
    },
    {
     "data": {
      "text/plain": [
       "[{'name': '[2018] 컬러 앤 네이처 네일 컬러 31호 글램 베이지',\n",
       "  'url': 'https://www.naturerepublic.com/shop/goods_view.php?id=0000011810',\n",
       "  'image': ['http://lfyaklyqypvr852590.gcdn.ntruss.com/data/nature_data/images/product/00/00/01/18/10/b_0000011810.gif',\n",
       "   'http://lfyaklyqypvr852590.gcdn.ntruss.com/data/nature_data/images/addimg/00/00/01/18/10/b_00029692_add.gif'],\n",
       "  'color': '#',\n",
       "  'category': 'HOME > 카테고리 > 포인트 메이크업',\n",
       "  'salePrice': 3000,\n",
       "  'originalPrice': 3000,\n",
       "  'brand': 'naturerepublic',\n",
       "  'volume': '8㎖'}]"
      ]
     },
     "metadata": {},
     "output_type": "display_data"
    },
    {
     "data": {
      "text/plain": [
       "[{'name': '에코 립글로스 1호 라떼',\n",
       "  'url': 'https://www.naturerepublic.com/shop/goods_view.php?id=0000011043',\n",
       "  'image': ['http://lfyaklyqypvr852590.gcdn.ntruss.com/data/nature_data/images/product/00/00/01/10/43/b_0000011043.gif',\n",
       "   'http://lfyaklyqypvr852590.gcdn.ntruss.com/data/nature_data/images/addimg/00/00/01/10/43/b_00028935_add.gif',\n",
       "   'http://lfyaklyqypvr852590.gcdn.ntruss.com/data/nature_data/images/addimg/00/00/01/10/43/b_00028936_add.gif'],\n",
       "  'color': '#',\n",
       "  'category': 'HOME > 카테고리 > 포인트 메이크업',\n",
       "  'salePrice': 5390,\n",
       "  'originalPrice': 7700,\n",
       "  'brand': 'naturerepublic',\n",
       "  'volume': '5.8g'}]"
      ]
     },
     "metadata": {},
     "output_type": "display_data"
    },
    {
     "data": {
      "text/plain": [
       "[{'name': 'NEW 에코 크레용 립루즈 03 피치코랄',\n",
       "  'url': 'https://www.naturerepublic.com/shop/goods_view.php?id=0000011027',\n",
       "  'image': ['http://lfyaklyqypvr852590.gcdn.ntruss.com/data/nature_data/images/product/00/00/01/10/27/b_0000011027.gif'],\n",
       "  'color': '#',\n",
       "  'category': 'HOME > 카테고리 > 포인트 메이크업',\n",
       "  'salePrice': 6000,\n",
       "  'originalPrice': 6000,\n",
       "  'brand': 'naturerepublic',\n",
       "  'volume': '2.5g'}]"
      ]
     },
     "metadata": {},
     "output_type": "display_data"
    },
    {
     "data": {
      "text/plain": [
       "[{'name': '[2018] 컬러 앤 네이처 네일 컬러 27호 딸기 밀푀유',\n",
       "  'url': 'https://www.naturerepublic.com/shop/goods_view.php?id=0000011795',\n",
       "  'image': ['http://lfyaklyqypvr852590.gcdn.ntruss.com/data/nature_data/images/product/00/00/01/17/95/b_0000011795.gif',\n",
       "   'http://lfyaklyqypvr852590.gcdn.ntruss.com/data/nature_data/images/addimg/00/00/01/17/95/b_00029682_add.gif'],\n",
       "  'color': '#',\n",
       "  'category': 'HOME > 카테고리 > 포인트 메이크업',\n",
       "  'salePrice': 3000,\n",
       "  'originalPrice': 3000,\n",
       "  'brand': 'naturerepublic',\n",
       "  'volume': '8㎖'}]"
      ]
     },
     "metadata": {},
     "output_type": "display_data"
    },
    {
     "data": {
      "text/plain": [
       "[{'name': '에코 립글로스 5호 로즈',\n",
       "  'url': 'https://www.naturerepublic.com/shop/goods_view.php?id=0000011028',\n",
       "  'image': ['http://lfyaklyqypvr852590.gcdn.ntruss.com/data/nature_data/images/product/00/00/01/10/28/b_0000011028.gif',\n",
       "   'http://lfyaklyqypvr852590.gcdn.ntruss.com/data/nature_data/images/addimg/00/00/01/10/28/b_00028917_add.gif',\n",
       "   'http://lfyaklyqypvr852590.gcdn.ntruss.com/data/nature_data/images/addimg/00/00/01/10/28/b_00028918_add.gif'],\n",
       "  'color': '#',\n",
       "  'category': 'HOME > 카테고리 > 포인트 메이크업',\n",
       "  'salePrice': 5390,\n",
       "  'originalPrice': 7700,\n",
       "  'brand': 'naturerepublic',\n",
       "  'volume': '5.8g'}]"
      ]
     },
     "metadata": {},
     "output_type": "display_data"
    },
    {
     "data": {
      "text/plain": [
       "[{'name': '[2018] 컬러 앤 네이처 네일 컬러 29호 발레 슈즈',\n",
       "  'url': 'https://www.naturerepublic.com/shop/goods_view.php?id=0000011796',\n",
       "  'image': ['http://lfyaklyqypvr852590.gcdn.ntruss.com/data/nature_data/images/product/00/00/01/17/96/b_0000011796.gif',\n",
       "   'http://lfyaklyqypvr852590.gcdn.ntruss.com/data/nature_data/images/addimg/00/00/01/17/96/b_00029683_add.gif'],\n",
       "  'color': '#',\n",
       "  'category': 'HOME > 카테고리 > 포인트 메이크업',\n",
       "  'salePrice': 3000,\n",
       "  'originalPrice': 3000,\n",
       "  'brand': 'naturerepublic',\n",
       "  'volume': '8㎖'}]"
      ]
     },
     "metadata": {},
     "output_type": "display_data"
    },
    {
     "data": {
      "text/plain": [
       "[{'name': '[2018] 컬러 앤 네이처 네일 컬러 30호 에브리데이',\n",
       "  'url': 'https://www.naturerepublic.com/shop/goods_view.php?id=0000011797',\n",
       "  'image': ['http://lfyaklyqypvr852590.gcdn.ntruss.com/data/nature_data/images/product/00/00/01/17/97/b_0000011797.gif',\n",
       "   'http://lfyaklyqypvr852590.gcdn.ntruss.com/data/nature_data/images/addimg/00/00/01/17/97/b_00029684_add.gif'],\n",
       "  'color': '#',\n",
       "  'category': 'HOME > 카테고리 > 포인트 메이크업',\n",
       "  'salePrice': 3000,\n",
       "  'originalPrice': 3000,\n",
       "  'brand': 'naturerepublic',\n",
       "  'volume': '8㎖'}]"
      ]
     },
     "metadata": {},
     "output_type": "display_data"
    },
    {
     "data": {
      "text/plain": [
       "[{'name': '와일드 마스카라',\n",
       "  'url': 'https://www.naturerepublic.com/shop/goods_view.php?id=0000011030',\n",
       "  'image': ['http://lfyaklyqypvr852590.gcdn.ntruss.com/data/nature_data/images/product/00/00/01/10/30/b_0000011030.gif',\n",
       "   'http://lfyaklyqypvr852590.gcdn.ntruss.com/data/nature_data/images/addimg/00/00/01/10/30/b_00028919_add.gif',\n",
       "   'http://lfyaklyqypvr852590.gcdn.ntruss.com/data/nature_data/images/addimg/00/00/01/10/30/b_00028920_add.gif'],\n",
       "  'color': '#',\n",
       "  'category': 'HOME > 카테고리 > 포인트 메이크업',\n",
       "  'salePrice': 8800,\n",
       "  'originalPrice': 8800,\n",
       "  'brand': 'naturerepublic',\n",
       "  'volume': '9g'}]"
      ]
     },
     "metadata": {},
     "output_type": "display_data"
    },
    {
     "data": {
      "text/plain": [
       "[{'name': '[2018] 컬러 앤 네이처 네일 컬러 32호 크로아상',\n",
       "  'url': 'https://www.naturerepublic.com/shop/goods_view.php?id=0000011032',\n",
       "  'image': ['http://lfyaklyqypvr852590.gcdn.ntruss.com/data/nature_data/images/product/00/00/01/10/32/b_0000011032.gif',\n",
       "   'http://lfyaklyqypvr852590.gcdn.ntruss.com/data/nature_data/images/addimg/00/00/01/10/32/b_00028923_add.gif'],\n",
       "  'color': '#',\n",
       "  'category': 'HOME > 카테고리 > 포인트 메이크업',\n",
       "  'salePrice': 3000,\n",
       "  'originalPrice': 3000,\n",
       "  'brand': 'naturerepublic',\n",
       "  'volume': '8㎖'}]"
      ]
     },
     "metadata": {},
     "output_type": "display_data"
    },
    {
     "data": {
      "text/plain": [
       "[{'name': '[2018] 컬러 앤 네이처 네일 컬러 45호 블랙 수트',\n",
       "  'url': 'https://www.naturerepublic.com/shop/goods_view.php?id=0000011288',\n",
       "  'image': ['http://lfyaklyqypvr852590.gcdn.ntruss.com/data/nature_data/images/product/00/00/01/12/88/b_0000011288.gif',\n",
       "   'http://lfyaklyqypvr852590.gcdn.ntruss.com/data/nature_data/images/addimg/00/00/01/12/88/b_00029150_add.gif'],\n",
       "  'color': '#',\n",
       "  'category': 'HOME > 카테고리 > 포인트 메이크업',\n",
       "  'salePrice': 3500,\n",
       "  'originalPrice': 3500,\n",
       "  'brand': 'naturerepublic',\n",
       "  'volume': '8㎖'}]"
      ]
     },
     "metadata": {},
     "output_type": "display_data"
    },
    {
     "data": {
      "text/plain": [
       "[{'name': '프로방스 크리미 젤 아이라이너 02 카카오 초코',\n",
       "  'url': 'https://www.naturerepublic.com/shop/goods_view.php?id=0000011800',\n",
       "  'image': ['http://lfyaklyqypvr852590.gcdn.ntruss.com/data/nature_data/images/product/00/00/01/18/00/b_0000011800.gif'],\n",
       "  'color': '#',\n",
       "  'category': 'HOME > 카테고리 > 포인트 메이크업',\n",
       "  'salePrice': 8000,\n",
       "  'originalPrice': 8000,\n",
       "  'brand': 'naturerepublic',\n",
       "  'volume': '0.5g'}]"
      ]
     },
     "metadata": {},
     "output_type": "display_data"
    },
    {
     "data": {
      "text/plain": [
       "[{'name': '[2018] 컬러 앤 네이처 네일 컬러 33호 마롱 파이',\n",
       "  'url': 'https://www.naturerepublic.com/shop/goods_view.php?id=0000011033',\n",
       "  'image': ['http://lfyaklyqypvr852590.gcdn.ntruss.com/data/nature_data/images/product/00/00/01/10/33/b_0000011033.gif',\n",
       "   'http://lfyaklyqypvr852590.gcdn.ntruss.com/data/nature_data/images/addimg/00/00/01/10/33/b_00028924_add.gif'],\n",
       "  'color': '#',\n",
       "  'category': 'HOME > 카테고리 > 포인트 메이크업',\n",
       "  'salePrice': 3000,\n",
       "  'originalPrice': 3000,\n",
       "  'brand': 'naturerepublic',\n",
       "  'volume': '8㎖'}]"
      ]
     },
     "metadata": {},
     "output_type": "display_data"
    },
    {
     "data": {
      "text/plain": [
       "[{'name': '[2018] 컬러 앤 네이처 네일 컬러 47호 빈티지 토프',\n",
       "  'url': 'https://www.naturerepublic.com/shop/goods_view.php?id=0000011289',\n",
       "  'image': ['http://lfyaklyqypvr852590.gcdn.ntruss.com/data/nature_data/images/product/00/00/01/12/89/b_0000011289.gif',\n",
       "   'http://lfyaklyqypvr852590.gcdn.ntruss.com/data/nature_data/images/addimg/00/00/01/12/89/b_00029151_add.gif'],\n",
       "  'color': '#',\n",
       "  'category': 'HOME > 카테고리 > 포인트 메이크업',\n",
       "  'salePrice': 3500,\n",
       "  'originalPrice': 3500,\n",
       "  'brand': 'naturerepublic',\n",
       "  'volume': '8㎖'}]"
      ]
     },
     "metadata": {},
     "output_type": "display_data"
    },
    {
     "data": {
      "text/plain": [
       "[{'name': '프로방스 크리미 젤 아이라이너 05 샤이닝 피치',\n",
       "  'url': 'https://www.naturerepublic.com/shop/goods_view.php?id=0000011801',\n",
       "  'image': ['http://lfyaklyqypvr852590.gcdn.ntruss.com/data/nature_data/images/product/00/00/01/18/01/b_0000011801.gif'],\n",
       "  'color': '#',\n",
       "  'category': 'HOME > 카테고리 > 포인트 메이크업',\n",
       "  'salePrice': 8000,\n",
       "  'originalPrice': 8000,\n",
       "  'brand': 'naturerepublic',\n",
       "  'volume': '0.5g'}]"
      ]
     },
     "metadata": {},
     "output_type": "display_data"
    },
    {
     "data": {
      "text/plain": [
       "[{'name': '[2018] 컬러 앤 네이처 네일 컬러_매트 34호 벨벳 화이트',\n",
       "  'url': 'https://www.naturerepublic.com/shop/goods_view.php?id=0000011034',\n",
       "  'image': ['http://lfyaklyqypvr852590.gcdn.ntruss.com/data/nature_data/images/product/00/00/01/10/34/b_0000011034.gif',\n",
       "   'http://lfyaklyqypvr852590.gcdn.ntruss.com/data/nature_data/images/addimg/00/00/01/10/34/b_00028925_add.gif',\n",
       "   'http://lfyaklyqypvr852590.gcdn.ntruss.com/data/nature_data/images/addimg/00/00/01/10/34/b_00028926_add.gif'],\n",
       "  'color': '#',\n",
       "  'category': 'HOME > 카테고리 > 포인트 메이크업',\n",
       "  'salePrice': 3500,\n",
       "  'originalPrice': 3500,\n",
       "  'brand': 'naturerepublic',\n",
       "  'volume': '8㎖'}]"
      ]
     },
     "metadata": {},
     "output_type": "display_data"
    },
    {
     "data": {
      "text/plain": [
       "[{'name': '[2018] 컬러 앤 네이처 네일 컬러 48호 웨딩 부케',\n",
       "  'url': 'https://www.naturerepublic.com/shop/goods_view.php?id=0000011290',\n",
       "  'image': ['http://lfyaklyqypvr852590.gcdn.ntruss.com/data/nature_data/images/product/00/00/01/12/90/b_0000011290.gif',\n",
       "   'http://lfyaklyqypvr852590.gcdn.ntruss.com/data/nature_data/images/addimg/00/00/01/12/90/b_00029152_add.gif'],\n",
       "  'color': '#',\n",
       "  'category': 'HOME > 카테고리 > 포인트 메이크업',\n",
       "  'salePrice': 3500,\n",
       "  'originalPrice': 3500,\n",
       "  'brand': 'naturerepublic',\n",
       "  'volume': '8㎖'}]"
      ]
     },
     "metadata": {},
     "output_type": "display_data"
    },
    {
     "data": {
      "text/plain": [
       "[{'name': '[2018] 컬러 앤 네이처 네일 컬러 35호 베이비 핑크',\n",
       "  'url': 'https://www.naturerepublic.com/shop/goods_view.php?id=0000011035',\n",
       "  'image': ['http://lfyaklyqypvr852590.gcdn.ntruss.com/data/nature_data/images/product/00/00/01/10/35/b_0000011035.gif',\n",
       "   'http://lfyaklyqypvr852590.gcdn.ntruss.com/data/nature_data/images/addimg/00/00/01/10/35/b_00028927_add.gif'],\n",
       "  'color': '#',\n",
       "  'category': 'HOME > 카테고리 > 포인트 메이크업',\n",
       "  'salePrice': 3500,\n",
       "  'originalPrice': 3500,\n",
       "  'brand': 'naturerepublic',\n",
       "  'volume': '8㎖'}]"
      ]
     },
     "metadata": {},
     "output_type": "display_data"
    },
    {
     "data": {
      "text/plain": [
       "[{'name': '[2018] 컬러 앤 네이처 네일 컬러 49호 스윗 핫핑크',\n",
       "  'url': 'https://www.naturerepublic.com/shop/goods_view.php?id=0000011291',\n",
       "  'image': ['http://lfyaklyqypvr852590.gcdn.ntruss.com/data/nature_data/images/product/00/00/01/12/91/b_0000011291.gif',\n",
       "   'http://lfyaklyqypvr852590.gcdn.ntruss.com/data/nature_data/images/addimg/00/00/01/12/91/b_00029153_add.gif'],\n",
       "  'color': '#',\n",
       "  'category': 'HOME > 카테고리 > 포인트 메이크업',\n",
       "  'salePrice': 3500,\n",
       "  'originalPrice': 3500,\n",
       "  'brand': 'naturerepublic',\n",
       "  'volume': '8㎖'}]"
      ]
     },
     "metadata": {},
     "output_type": "display_data"
    },
    {
     "data": {
      "text/plain": [
       "[{'name': '컬러 왈츠 3호 오렌지 팝',\n",
       "  'url': 'https://www.naturerepublic.com/shop/goods_view.php?id=0000011819',\n",
       "  'image': ['http://lfyaklyqypvr852590.gcdn.ntruss.com/data/nature_data/images/product/00/00/01/18/19/b_0000011819.gif'],\n",
       "  'color': '#',\n",
       "  'category': 'HOME > 카테고리 > 포인트 메이크업',\n",
       "  'salePrice': 1500,\n",
       "  'originalPrice': 1500,\n",
       "  'brand': 'naturerepublic',\n",
       "  'volume': '7㎖'}]"
      ]
     },
     "metadata": {},
     "output_type": "display_data"
    },
    {
     "data": {
      "text/plain": [
       "[{'name': '바이 플라워 아이 섀도 23 메이플',\n",
       "  'url': 'https://www.naturerepublic.com/shop/goods_view.php?id=0000010796',\n",
       "  'image': ['http://lfyaklyqypvr852590.gcdn.ntruss.com/data/nature_data/images/product/00/00/01/07/96/b_0000010796.gif',\n",
       "   'http://lfyaklyqypvr852590.gcdn.ntruss.com/data/nature_data/images/addimg/00/00/01/07/96/b_00028712_add.gif'],\n",
       "  'color': '#',\n",
       "  'category': 'HOME > 카테고리 > 포인트 메이크업',\n",
       "  'salePrice': 4500,\n",
       "  'originalPrice': 4500,\n",
       "  'brand': 'naturerepublic',\n",
       "  'volume': '1.4g'}]"
      ]
     },
     "metadata": {},
     "output_type": "display_data"
    },
    {
     "data": {
      "text/plain": [
       "[{'name': '퓨어 샤인 립스틱 07 코랄 젤라또',\n",
       "  'url': 'https://www.naturerepublic.com/shop/goods_view.php?id=0000011564',\n",
       "  'image': ['http://lfyaklyqypvr852590.gcdn.ntruss.com/data/nature_data/images/product/00/00/01/15/64/b_0000011564.gif'],\n",
       "  'color': '#',\n",
       "  'category': 'HOME > 카테고리 > 포인트 메이크업',\n",
       "  'salePrice': 8800,\n",
       "  'originalPrice': 8800,\n",
       "  'brand': 'naturerepublic',\n",
       "  'volume': '3.5g'}]"
      ]
     },
     "metadata": {},
     "output_type": "display_data"
    },
    {
     "data": {
      "text/plain": [
       "[{'name': '컬러 왈츠 4호 레몬 팝',\n",
       "  'url': 'https://www.naturerepublic.com/shop/goods_view.php?id=0000011820',\n",
       "  'image': ['http://lfyaklyqypvr852590.gcdn.ntruss.com/data/nature_data/images/product/00/00/01/18/20/b_0000011820.gif'],\n",
       "  'color': '#',\n",
       "  'category': 'HOME > 카테고리 > 포인트 메이크업',\n",
       "  'salePrice': 1500,\n",
       "  'originalPrice': 1500,\n",
       "  'brand': 'naturerepublic',\n",
       "  'volume': '7㎖'}]"
      ]
     },
     "metadata": {},
     "output_type": "display_data"
    },
    {
     "data": {
      "text/plain": [
       "[{'name': '바이 플라워 아이 섀도 24 웜 코코아',\n",
       "  'url': 'https://www.naturerepublic.com/shop/goods_view.php?id=0000010797',\n",
       "  'image': ['http://lfyaklyqypvr852590.gcdn.ntruss.com/data/nature_data/images/product/00/00/01/07/97/b_0000010797.gif',\n",
       "   'http://lfyaklyqypvr852590.gcdn.ntruss.com/data/nature_data/images/addimg/00/00/01/07/97/b_00028713_add.gif'],\n",
       "  'color': '#',\n",
       "  'category': 'HOME > 카테고리 > 포인트 메이크업',\n",
       "  'salePrice': 4500,\n",
       "  'originalPrice': 4500,\n",
       "  'brand': 'naturerepublic',\n",
       "  'volume': '1.4g'}]"
      ]
     },
     "metadata": {},
     "output_type": "display_data"
    },
    {
     "data": {
      "text/plain": [
       "[{'name': '퓨어 샤인 립스틱 08 오렌지 봉봉',\n",
       "  'url': 'https://www.naturerepublic.com/shop/goods_view.php?id=0000011565',\n",
       "  'image': ['http://lfyaklyqypvr852590.gcdn.ntruss.com/data/nature_data/images/product/00/00/01/15/65/b_0000011565.gif'],\n",
       "  'color': '#',\n",
       "  'category': 'HOME > 카테고리 > 포인트 메이크업',\n",
       "  'salePrice': 8800,\n",
       "  'originalPrice': 8800,\n",
       "  'brand': 'naturerepublic',\n",
       "  'volume': '3.5g'}]"
      ]
     },
     "metadata": {},
     "output_type": "display_data"
    },
    {
     "data": {
      "text/plain": [
       "[{'name': '컬러 왈츠 5호 올리브 팝',\n",
       "  'url': 'https://www.naturerepublic.com/shop/goods_view.php?id=0000011821',\n",
       "  'image': ['http://lfyaklyqypvr852590.gcdn.ntruss.com/data/nature_data/images/product/00/00/01/18/21/b_0000011821.gif'],\n",
       "  'color': '#',\n",
       "  'category': 'HOME > 카테고리 > 포인트 메이크업',\n",
       "  'salePrice': 1500,\n",
       "  'originalPrice': 1500,\n",
       "  'brand': 'naturerepublic',\n",
       "  'volume': '7㎖'}]"
      ]
     },
     "metadata": {},
     "output_type": "display_data"
    },
    {
     "data": {
      "text/plain": [
       "[{'name': '바이 플라워 아이 섀도 37 애프터눈 선셋',\n",
       "  'url': 'https://www.naturerepublic.com/shop/goods_view.php?id=0000010798',\n",
       "  'image': ['http://lfyaklyqypvr852590.gcdn.ntruss.com/data/nature_data/images/product/00/00/01/07/98/b_0000010798.gif',\n",
       "   'http://lfyaklyqypvr852590.gcdn.ntruss.com/data/nature_data/images/addimg/00/00/01/07/98/b_00028714_add.gif'],\n",
       "  'color': '#',\n",
       "  'category': 'HOME > 카테고리 > 포인트 메이크업',\n",
       "  'salePrice': 5000,\n",
       "  'originalPrice': 5000,\n",
       "  'brand': 'naturerepublic',\n",
       "  'volume': '1.1g'}]"
      ]
     },
     "metadata": {},
     "output_type": "display_data"
    },
    {
     "data": {
      "text/plain": [
       "[{'name': '바이플라워 트리플 무스 틴트 09 쉬어 로즈 무스',\n",
       "  'url': 'https://www.naturerepublic.com/shop/goods_view.php?id=0000011054',\n",
       "  'image': ['http://lfyaklyqypvr852590.gcdn.ntruss.com/data/nature_data/images/product/00/00/01/10/54/b_0000011054.gif'],\n",
       "  'color': '#',\n",
       "  'category': 'HOME > 카테고리 > 포인트 메이크업',\n",
       "  'salePrice': 7000,\n",
       "  'originalPrice': 10000,\n",
       "  'brand': 'naturerepublic',\n",
       "  'volume': '4.5g'}]"
      ]
     },
     "metadata": {},
     "output_type": "display_data"
    },
    {
     "data": {
      "text/plain": [
       "[{'name': '컬러 왈츠 6호 그린 팝',\n",
       "  'url': 'https://www.naturerepublic.com/shop/goods_view.php?id=0000011822',\n",
       "  'image': ['http://lfyaklyqypvr852590.gcdn.ntruss.com/data/nature_data/images/product/00/00/01/18/22/b_0000011822.gif'],\n",
       "  'color': '#',\n",
       "  'category': 'HOME > 카테고리 > 포인트 메이크업',\n",
       "  'salePrice': 1500,\n",
       "  'originalPrice': 1500,\n",
       "  'brand': 'naturerepublic',\n",
       "  'volume': '7㎖'}]"
      ]
     },
     "metadata": {},
     "output_type": "display_data"
    },
    {
     "data": {
      "text/plain": [
       "[{'name': '바이 플라워 아이 섀도 38 이브닝 드레스',\n",
       "  'url': 'https://www.naturerepublic.com/shop/goods_view.php?id=0000010799',\n",
       "  'image': ['http://lfyaklyqypvr852590.gcdn.ntruss.com/data/nature_data/images/product/00/00/01/07/99/b_0000010799.gif',\n",
       "   'http://lfyaklyqypvr852590.gcdn.ntruss.com/data/nature_data/images/addimg/00/00/01/07/99/b_00028715_add.gif'],\n",
       "  'color': '#',\n",
       "  'category': 'HOME > 카테고리 > 포인트 메이크업',\n",
       "  'salePrice': 5000,\n",
       "  'originalPrice': 5000,\n",
       "  'brand': 'naturerepublic',\n",
       "  'volume': '1.1g'}]"
      ]
     },
     "metadata": {},
     "output_type": "display_data"
    },
    {
     "data": {
      "text/plain": [
       "[{'name': '컬러 왈츠 9호 네이비 팝',\n",
       "  'url': 'https://www.naturerepublic.com/shop/goods_view.php?id=0000011823',\n",
       "  'image': ['http://lfyaklyqypvr852590.gcdn.ntruss.com/data/nature_data/images/product/00/00/01/18/23/b_0000011823.gif'],\n",
       "  'color': '#',\n",
       "  'category': 'HOME > 카테고리 > 포인트 메이크업',\n",
       "  'salePrice': 1500,\n",
       "  'originalPrice': 1500,\n",
       "  'brand': 'naturerepublic',\n",
       "  'volume': '7㎖'}]"
      ]
     },
     "metadata": {},
     "output_type": "display_data"
    },
    {
     "data": {
      "text/plain": [
       "[{'name': '키스 마이 무스 틴트 6종 키트 (블랙)',\n",
       "  'url': 'https://www.naturerepublic.com/shop/goods_view.php?id=0000010288',\n",
       "  'image': ['http://lfyaklyqypvr852590.gcdn.ntruss.com/data/nature_data/images/product/00/00/01/02/88/b_0000010288.gif',\n",
       "   'http://lfyaklyqypvr852590.gcdn.ntruss.com/data/nature_data/images/addimg/00/00/01/02/88/b_00028119_add.gif',\n",
       "   'http://lfyaklyqypvr852590.gcdn.ntruss.com/data/nature_data/images/addimg/00/00/01/02/88/b_00028120_add.gif'],\n",
       "  'color': '#',\n",
       "  'category': 'HOME > 카테고리 > 포인트 메이크업',\n",
       "  'salePrice': 21000,\n",
       "  'originalPrice': 30000,\n",
       "  'brand': 'naturerepublic',\n",
       "  'volume': '9g'}]"
      ]
     },
     "metadata": {},
     "output_type": "display_data"
    },
    {
     "data": {
      "text/plain": [
       "[{'name': '바이 플라워 아이 섀도 04 마이 판타지',\n",
       "  'url': 'https://www.naturerepublic.com/shop/goods_view.php?id=0000010800',\n",
       "  'image': ['http://lfyaklyqypvr852590.gcdn.ntruss.com/data/nature_data/images/product/00/00/01/08/00/b_0000010800.gif',\n",
       "   'http://lfyaklyqypvr852590.gcdn.ntruss.com/data/nature_data/images/addimg/00/00/01/08/00/b_00028716_add.gif'],\n",
       "  'color': '#',\n",
       "  'category': 'HOME > 카테고리 > 포인트 메이크업',\n",
       "  'salePrice': 5500,\n",
       "  'originalPrice': 5500,\n",
       "  'brand': 'naturerepublic',\n",
       "  'volume': '1.4g'}]"
      ]
     },
     "metadata": {},
     "output_type": "display_data"
    },
    {
     "data": {
      "text/plain": [
       "[{'name': '컬러 왈츠 10호 퍼플 팝',\n",
       "  'url': 'https://www.naturerepublic.com/shop/goods_view.php?id=0000011824',\n",
       "  'image': ['http://lfyaklyqypvr852590.gcdn.ntruss.com/data/nature_data/images/product/00/00/01/18/24/b_0000011824.gif'],\n",
       "  'color': '#',\n",
       "  'category': 'HOME > 카테고리 > 포인트 메이크업',\n",
       "  'salePrice': 1500,\n",
       "  'originalPrice': 1500,\n",
       "  'brand': 'naturerepublic',\n",
       "  'volume': '7㎖'}]"
      ]
     },
     "metadata": {},
     "output_type": "display_data"
    },
    {
     "data": {
      "text/plain": [
       "[{'name': '바이 플라워 아이 섀도 08 스파클링 체리',\n",
       "  'url': 'https://www.naturerepublic.com/shop/goods_view.php?id=0000010801',\n",
       "  'image': ['http://lfyaklyqypvr852590.gcdn.ntruss.com/data/nature_data/images/product/00/00/01/08/01/b_0000010801.gif',\n",
       "   'http://lfyaklyqypvr852590.gcdn.ntruss.com/data/nature_data/images/addimg/00/00/01/08/01/b_00028717_add.gif'],\n",
       "  'color': '#',\n",
       "  'category': 'HOME > 카테고리 > 포인트 메이크업',\n",
       "  'salePrice': 5500,\n",
       "  'originalPrice': 5500,\n",
       "  'brand': 'naturerepublic',\n",
       "  'volume': '1.4g'}]"
      ]
     },
     "metadata": {},
     "output_type": "display_data"
    },
    {
     "data": {
      "text/plain": [
       "[{'name': '[2018] 써니 젤 네일 4호 사랑스런 풍경',\n",
       "  'url': 'https://www.naturerepublic.com/shop/goods_view.php?id=0000011825',\n",
       "  'image': ['http://lfyaklyqypvr852590.gcdn.ntruss.com/data/nature_data/images/product/00/00/01/18/25/b_0000011825.gif'],\n",
       "  'color': '#',\n",
       "  'category': 'HOME > 카테고리 > 포인트 메이크업',\n",
       "  'salePrice': 4500,\n",
       "  'originalPrice': 4500,\n",
       "  'brand': 'naturerepublic',\n",
       "  'volume': '8.5㎖'}]"
      ]
     },
     "metadata": {},
     "output_type": "display_data"
    },
    {
     "data": {
      "text/plain": [
       "[{'name': '바이 플라워 아이 섀도 09 라즈베리',\n",
       "  'url': 'https://www.naturerepublic.com/shop/goods_view.php?id=0000010802',\n",
       "  'image': ['http://lfyaklyqypvr852590.gcdn.ntruss.com/data/nature_data/images/product/00/00/01/08/02/b_0000010802.gif',\n",
       "   'http://lfyaklyqypvr852590.gcdn.ntruss.com/data/nature_data/images/addimg/00/00/01/08/02/b_00028718_add.gif'],\n",
       "  'color': '#',\n",
       "  'category': 'HOME > 카테고리 > 포인트 메이크업',\n",
       "  'salePrice': 5500,\n",
       "  'originalPrice': 5500,\n",
       "  'brand': 'naturerepublic',\n",
       "  'volume': '1.4g'}]"
      ]
     },
     "metadata": {},
     "output_type": "display_data"
    },
    {
     "data": {
      "text/plain": [
       "[{'name': '[2018] 써니 젤 네일 7호 기분좋은 여운',\n",
       "  'url': 'https://www.naturerepublic.com/shop/goods_view.php?id=0000011826',\n",
       "  'image': ['http://lfyaklyqypvr852590.gcdn.ntruss.com/data/nature_data/images/product/00/00/01/18/26/b_0000011826.gif'],\n",
       "  'color': '#',\n",
       "  'category': 'HOME > 카테고리 > 포인트 메이크업',\n",
       "  'salePrice': 4500,\n",
       "  'originalPrice': 4500,\n",
       "  'brand': 'naturerepublic',\n",
       "  'volume': '8.5㎖'}]"
      ]
     },
     "metadata": {},
     "output_type": "display_data"
    },
    {
     "data": {
      "text/plain": [
       "[{'name': '프로 터치 블러셔 팔레트',\n",
       "  'url': 'https://www.naturerepublic.com/shop/goods_view.php?id=0000010035',\n",
       "  'image': ['http://lfyaklyqypvr852590.gcdn.ntruss.com/data/nature_data/images/product/00/00/01/00/35/b_0000010035.gif',\n",
       "   'http://lfyaklyqypvr852590.gcdn.ntruss.com/data/nature_data/images/addimg/00/00/01/00/35/b_00029720_add.gif',\n",
       "   'http://lfyaklyqypvr852590.gcdn.ntruss.com/data/nature_data/images/addimg/00/00/01/00/35/b_00029721_add.gif'],\n",
       "  'color': '#',\n",
       "  'category': 'HOME > 카테고리 > 포인트 메이크업',\n",
       "  'salePrice': 24900,\n",
       "  'originalPrice': 49800,\n",
       "  'brand': 'naturerepublic',\n",
       "  'volume': '34g'}]"
      ]
     },
     "metadata": {},
     "output_type": "display_data"
    },
    {
     "data": {
      "text/plain": [
       "[{'name': '바이 플라워 아이 섀도 10 브런치 카페',\n",
       "  'url': 'https://www.naturerepublic.com/shop/goods_view.php?id=0000010803',\n",
       "  'image': ['http://lfyaklyqypvr852590.gcdn.ntruss.com/data/nature_data/images/product/00/00/01/08/03/b_0000010803.gif',\n",
       "   'http://lfyaklyqypvr852590.gcdn.ntruss.com/data/nature_data/images/addimg/00/00/01/08/03/b_00028719_add.gif'],\n",
       "  'color': '#',\n",
       "  'category': 'HOME > 카테고리 > 포인트 메이크업',\n",
       "  'salePrice': 5500,\n",
       "  'originalPrice': 5500,\n",
       "  'brand': 'naturerepublic',\n",
       "  'volume': '1.4g'}]"
      ]
     },
     "metadata": {},
     "output_type": "display_data"
    },
    {
     "data": {
      "text/plain": [
       "[{'name': '컬러 왈츠 2호 핑크 팝',\n",
       "  'url': 'https://www.naturerepublic.com/shop/goods_view.php?id=0000011827',\n",
       "  'image': ['http://lfyaklyqypvr852590.gcdn.ntruss.com/data/nature_data/images/product/00/00/01/18/27/b_0000011827.gif'],\n",
       "  'color': '#',\n",
       "  'category': 'HOME > 카테고리 > 포인트 메이크업',\n",
       "  'salePrice': 1500,\n",
       "  'originalPrice': 1500,\n",
       "  'brand': 'naturerepublic',\n",
       "  'volume': '7㎖'}]"
      ]
     },
     "metadata": {},
     "output_type": "display_data"
    },
    {
     "data": {
      "text/plain": [
       "[{'name': '바이 플라워 아이 섀도 11 브론즈 퀸',\n",
       "  'url': 'https://www.naturerepublic.com/shop/goods_view.php?id=0000010804',\n",
       "  'image': ['http://lfyaklyqypvr852590.gcdn.ntruss.com/data/nature_data/images/product/00/00/01/08/04/b_0000010804.gif',\n",
       "   'http://lfyaklyqypvr852590.gcdn.ntruss.com/data/nature_data/images/addimg/00/00/01/08/04/b_00028720_add.gif'],\n",
       "  'color': '#',\n",
       "  'category': 'HOME > 카테고리 > 포인트 메이크업',\n",
       "  'salePrice': 5500,\n",
       "  'originalPrice': 5500,\n",
       "  'brand': 'naturerepublic',\n",
       "  'volume': '1.4g'}]"
      ]
     },
     "metadata": {},
     "output_type": "display_data"
    },
    {
     "data": {
      "text/plain": [
       "[{'name': '바이 플라워 아이 섀도 12 펑키 브라운',\n",
       "  'url': 'https://www.naturerepublic.com/shop/goods_view.php?id=0000010805',\n",
       "  'image': ['http://lfyaklyqypvr852590.gcdn.ntruss.com/data/nature_data/images/product/00/00/01/08/05/b_0000010805.gif',\n",
       "   'http://lfyaklyqypvr852590.gcdn.ntruss.com/data/nature_data/images/addimg/00/00/01/08/05/b_00028721_add.gif'],\n",
       "  'color': '#',\n",
       "  'category': 'HOME > 카테고리 > 포인트 메이크업',\n",
       "  'salePrice': 5500,\n",
       "  'originalPrice': 5500,\n",
       "  'brand': 'naturerepublic',\n",
       "  'volume': '1.4g'}]"
      ]
     },
     "metadata": {},
     "output_type": "display_data"
    },
    {
     "data": {
      "text/plain": [
       "[{'name': '바이 플라워 아이 섀도 18 클래식 피치',\n",
       "  'url': 'https://www.naturerepublic.com/shop/goods_view.php?id=0000010806',\n",
       "  'image': ['http://lfyaklyqypvr852590.gcdn.ntruss.com/data/nature_data/images/product/00/00/01/08/06/b_0000010806.gif',\n",
       "   'http://lfyaklyqypvr852590.gcdn.ntruss.com/data/nature_data/images/addimg/00/00/01/08/06/b_00028722_add.gif'],\n",
       "  'color': '#',\n",
       "  'category': 'HOME > 카테고리 > 포인트 메이크업',\n",
       "  'salePrice': 4500,\n",
       "  'originalPrice': 4500,\n",
       "  'brand': 'naturerepublic',\n",
       "  'volume': '1.4g'}]"
      ]
     },
     "metadata": {},
     "output_type": "display_data"
    },
    {
     "data": {
      "text/plain": [
       "[{'name': '바이 플라워 아이 섀도 34 멜로우 브라운',\n",
       "  'url': 'https://www.naturerepublic.com/shop/goods_view.php?id=0000010807',\n",
       "  'image': ['http://lfyaklyqypvr852590.gcdn.ntruss.com/data/nature_data/images/product/00/00/01/08/07/b_0000010807.gif',\n",
       "   'http://lfyaklyqypvr852590.gcdn.ntruss.com/data/nature_data/images/addimg/00/00/01/08/07/b_00028723_add.gif'],\n",
       "  'color': '#',\n",
       "  'category': 'HOME > 카테고리 > 포인트 메이크업',\n",
       "  'salePrice': 5000,\n",
       "  'originalPrice': 5000,\n",
       "  'brand': 'naturerepublic',\n",
       "  'volume': '1.2g'}]"
      ]
     },
     "metadata": {},
     "output_type": "display_data"
    },
    {
     "data": {
      "text/plain": [
       "[{'name': '바이 플라워 아이 섀도 36 골드 슈가',\n",
       "  'url': 'https://www.naturerepublic.com/shop/goods_view.php?id=0000010808',\n",
       "  'image': ['http://lfyaklyqypvr852590.gcdn.ntruss.com/data/nature_data/images/product/00/00/01/08/08/b_0000010808.gif',\n",
       "   'http://lfyaklyqypvr852590.gcdn.ntruss.com/data/nature_data/images/addimg/00/00/01/08/08/b_00028724_add.gif',\n",
       "   'http://lfyaklyqypvr852590.gcdn.ntruss.com/data/nature_data/images/addimg/00/00/01/08/08/b_00028725_add.gif'],\n",
       "  'color': '#',\n",
       "  'category': 'HOME > 카테고리 > 포인트 메이크업',\n",
       "  'salePrice': 5000,\n",
       "  'originalPrice': 5000,\n",
       "  'brand': 'naturerepublic',\n",
       "  'volume': '1.1g'}]"
      ]
     },
     "metadata": {},
     "output_type": "display_data"
    },
    {
     "data": {
      "text/plain": [
       "[{'name': '[2018] 컬러 앤 네이처 네일 컬러 53호 루비 스파클링',\n",
       "  'url': 'https://www.naturerepublic.com/shop/goods_view.php?id=0000011322',\n",
       "  'image': ['http://lfyaklyqypvr852590.gcdn.ntruss.com/data/nature_data/images/product/00/00/01/13/22/b_0000011322.gif',\n",
       "   'http://lfyaklyqypvr852590.gcdn.ntruss.com/data/nature_data/images/addimg/00/00/01/13/22/b_00029175_add.gif'],\n",
       "  'color': '#',\n",
       "  'category': 'HOME > 카테고리 > 포인트 메이크업',\n",
       "  'salePrice': 3500,\n",
       "  'originalPrice': 3500,\n",
       "  'brand': 'naturerepublic',\n",
       "  'volume': '8㎖'}]"
      ]
     },
     "metadata": {},
     "output_type": "display_data"
    },
    {
     "data": {
      "text/plain": [
       "[{'name': '바이 플라워 아이 섀도 21 캐시미어 코트',\n",
       "  'url': 'https://www.naturerepublic.com/shop/goods_view.php?id=0000010811',\n",
       "  'image': ['http://lfyaklyqypvr852590.gcdn.ntruss.com/data/nature_data/images/product/00/00/01/08/11/b_0000010811.gif',\n",
       "   'http://lfyaklyqypvr852590.gcdn.ntruss.com/data/nature_data/images/addimg/00/00/01/08/11/b_00028735_add.gif'],\n",
       "  'color': '#',\n",
       "  'category': 'HOME > 카테고리 > 포인트 메이크업',\n",
       "  'salePrice': 4500,\n",
       "  'originalPrice': 4500,\n",
       "  'brand': 'naturerepublic',\n",
       "  'volume': '1.4g'}]"
      ]
     },
     "metadata": {},
     "output_type": "display_data"
    },
    {
     "data": {
      "text/plain": [
       "[{'name': '바이 플라워 아이 섀도 22 핑크 메모리',\n",
       "  'url': 'https://www.naturerepublic.com/shop/goods_view.php?id=0000010812',\n",
       "  'image': ['http://lfyaklyqypvr852590.gcdn.ntruss.com/data/nature_data/images/product/00/00/01/08/12/b_0000010812.gif',\n",
       "   'http://lfyaklyqypvr852590.gcdn.ntruss.com/data/nature_data/images/addimg/00/00/01/08/12/b_00028736_add.gif'],\n",
       "  'color': '#',\n",
       "  'category': 'HOME > 카테고리 > 포인트 메이크업',\n",
       "  'salePrice': 4500,\n",
       "  'originalPrice': 4500,\n",
       "  'brand': 'naturerepublic',\n",
       "  'volume': '1.4g'}]"
      ]
     },
     "metadata": {},
     "output_type": "display_data"
    },
    {
     "data": {
      "text/plain": [
       "[{'name': '바이 플라워 아이 섀도 43 샤이닝 어텀',\n",
       "  'url': 'https://www.naturerepublic.com/shop/goods_view.php?id=0000010813',\n",
       "  'image': ['http://lfyaklyqypvr852590.gcdn.ntruss.com/data/nature_data/images/product/00/00/01/08/13/b_0000010813.gif',\n",
       "   'http://lfyaklyqypvr852590.gcdn.ntruss.com/data/nature_data/images/addimg/00/00/01/08/13/b_00028737_add.gif'],\n",
       "  'color': '#',\n",
       "  'category': 'HOME > 카테고리 > 포인트 메이크업',\n",
       "  'salePrice': 5000,\n",
       "  'originalPrice': 5000,\n",
       "  'brand': 'naturerepublic',\n",
       "  'volume': '1.1g'}]"
      ]
     },
     "metadata": {},
     "output_type": "display_data"
    },
    {
     "data": {
      "text/plain": [
       "[{'name': '바이 플라워 아이 섀도 44 초콜릿 샤워',\n",
       "  'url': 'https://www.naturerepublic.com/shop/goods_view.php?id=0000010814',\n",
       "  'image': ['http://lfyaklyqypvr852590.gcdn.ntruss.com/data/nature_data/images/product/00/00/01/08/14/b_0000010814.gif',\n",
       "   'http://lfyaklyqypvr852590.gcdn.ntruss.com/data/nature_data/images/addimg/00/00/01/08/14/b_00028738_add.gif'],\n",
       "  'color': '#',\n",
       "  'category': 'HOME > 카테고리 > 포인트 메이크업',\n",
       "  'salePrice': 5000,\n",
       "  'originalPrice': 5000,\n",
       "  'brand': 'naturerepublic',\n",
       "  'volume': '1.1g'}]"
      ]
     },
     "metadata": {},
     "output_type": "display_data"
    },
    {
     "data": {
      "text/plain": [
       "[{'name': '컬러 왈츠 7호 스카이 팝',\n",
       "  'url': 'https://www.naturerepublic.com/shop/goods_view.php?id=0000011811',\n",
       "  'image': ['http://lfyaklyqypvr852590.gcdn.ntruss.com/data/nature_data/images/product/00/00/01/18/11/b_0000011811.gif'],\n",
       "  'color': '#',\n",
       "  'category': 'HOME > 카테고리 > 포인트 메이크업',\n",
       "  'salePrice': 1500,\n",
       "  'originalPrice': 1500,\n",
       "  'brand': 'naturerepublic',\n",
       "  'volume': '7㎖'}]"
      ]
     },
     "metadata": {},
     "output_type": "display_data"
    },
    {
     "data": {
      "text/plain": [
       "[{'name': '네일 리무버 (그린티)',\n",
       "  'url': 'https://www.naturerepublic.com/shop/goods_view.php?id=0000010276',\n",
       "  'image': ['http://lfyaklyqypvr852590.gcdn.ntruss.com/data/nature_data/images/product/00/00/01/02/76/b_0000010276.gif'],\n",
       "  'color': '#',\n",
       "  'category': 'HOME > 카테고리 > 포인트 메이크업',\n",
       "  'salePrice': 2000,\n",
       "  'originalPrice': 2000,\n",
       "  'brand': 'naturerepublic',\n",
       "  'volume': '100ml'}]"
      ]
     },
     "metadata": {},
     "output_type": "display_data"
    },
    {
     "data": {
      "text/plain": [
       "[{'name': '컬러 왈츠 8호 블루 팝',\n",
       "  'url': 'https://www.naturerepublic.com/shop/goods_view.php?id=0000011812',\n",
       "  'image': ['http://lfyaklyqypvr852590.gcdn.ntruss.com/data/nature_data/images/product/00/00/01/18/12/b_0000011812.gif'],\n",
       "  'color': '#',\n",
       "  'category': 'HOME > 카테고리 > 포인트 메이크업',\n",
       "  'salePrice': 1500,\n",
       "  'originalPrice': 1500,\n",
       "  'brand': 'naturerepublic',\n",
       "  'volume': '7㎖'}]"
      ]
     },
     "metadata": {},
     "output_type": "display_data"
    },
    {
     "data": {
      "text/plain": [
       "[{'name': '컬러 앤 네이처 네일 케어 손톱 강화제 펜',\n",
       "  'url': 'https://www.naturerepublic.com/shop/goods_view.php?id=0000010277',\n",
       "  'image': ['http://lfyaklyqypvr852590.gcdn.ntruss.com/data/nature_data/images/product/00/00/01/02/77/b_0000010277.gif',\n",
       "   'http://lfyaklyqypvr852590.gcdn.ntruss.com/data/nature_data/images/addimg/00/00/01/02/77/b_00028109_add.gif'],\n",
       "  'color': '#',\n",
       "  'category': 'HOME > 카테고리 > 포인트 메이크업',\n",
       "  'salePrice': 4500,\n",
       "  'originalPrice': 4500,\n",
       "  'brand': 'naturerepublic',\n",
       "  'volume': '2.3g'}]"
      ]
     },
     "metadata": {},
     "output_type": "display_data"
    },
    {
     "data": {
      "text/plain": [
       "[{'name': '[2018] 써니 젤 네일 5호 오후의 차',\n",
       "  'url': 'https://www.naturerepublic.com/shop/goods_view.php?id=0000011813',\n",
       "  'image': ['http://lfyaklyqypvr852590.gcdn.ntruss.com/data/nature_data/images/product/00/00/01/18/13/b_0000011813.gif'],\n",
       "  'color': '#',\n",
       "  'category': 'HOME > 카테고리 > 포인트 메이크업',\n",
       "  'salePrice': 4500,\n",
       "  'originalPrice': 4500,\n",
       "  'brand': 'naturerepublic',\n",
       "  'volume': '8.5㎖'}]"
      ]
     },
     "metadata": {},
     "output_type": "display_data"
    },
    {
     "data": {
      "text/plain": [
       "[{'name': '컬러 앤 네이처 네일 케어 에센스 펜',\n",
       "  'url': 'https://www.naturerepublic.com/shop/goods_view.php?id=0000010278',\n",
       "  'image': ['http://lfyaklyqypvr852590.gcdn.ntruss.com/data/nature_data/images/product/00/00/01/02/78/b_0000010278.gif',\n",
       "   'http://lfyaklyqypvr852590.gcdn.ntruss.com/data/nature_data/images/addimg/00/00/01/02/78/b_00028110_add.gif'],\n",
       "  'color': '#',\n",
       "  'category': 'HOME > 카테고리 > 포인트 메이크업',\n",
       "  'salePrice': 4500,\n",
       "  'originalPrice': 4500,\n",
       "  'brand': 'naturerepublic',\n",
       "  'volume': '2.3g'}]"
      ]
     },
     "metadata": {},
     "output_type": "display_data"
    },
    {
     "data": {
      "text/plain": [
       "[{'name': '바이플라워 트리플 무스 틴트 04 시크레드무스',\n",
       "  'url': 'https://www.naturerepublic.com/shop/goods_view.php?id=0000011814',\n",
       "  'image': ['http://lfyaklyqypvr852590.gcdn.ntruss.com/data/nature_data/images/product/00/00/01/18/14/b_0000011814.gif'],\n",
       "  'color': '#',\n",
       "  'category': 'HOME > 카테고리 > 포인트 메이크업',\n",
       "  'salePrice': 7000,\n",
       "  'originalPrice': 10000,\n",
       "  'brand': 'naturerepublic',\n",
       "  'volume': '4.5g'}]"
      ]
     },
     "metadata": {},
     "output_type": "display_data"
    },
    {
     "data": {
      "text/plain": [
       "[{'name': '바이 플라워 아이 섀도 01 오로라 핑크',\n",
       "  'url': 'https://www.naturerepublic.com/shop/goods_view.php?id=0000010792',\n",
       "  'image': ['http://lfyaklyqypvr852590.gcdn.ntruss.com/data/nature_data/images/product/00/00/01/07/92/b_0000010792.gif',\n",
       "   'http://lfyaklyqypvr852590.gcdn.ntruss.com/data/nature_data/images/addimg/00/00/01/07/92/b_00028707_add.gif',\n",
       "   'http://lfyaklyqypvr852590.gcdn.ntruss.com/data/nature_data/images/addimg/00/00/01/07/92/b_00028708_add.gif'],\n",
       "  'color': '#',\n",
       "  'category': 'HOME > 카테고리 > 포인트 메이크업',\n",
       "  'salePrice': 5500,\n",
       "  'originalPrice': 5500,\n",
       "  'brand': 'naturerepublic',\n",
       "  'volume': '1.4g'}]"
      ]
     },
     "metadata": {},
     "output_type": "display_data"
    },
    {
     "data": {
      "text/plain": [
       "[{'name': '바이 플라워 아이 섀도 06 칵테일 핑크',\n",
       "  'url': 'https://www.naturerepublic.com/shop/goods_view.php?id=0000010793',\n",
       "  'image': ['http://lfyaklyqypvr852590.gcdn.ntruss.com/data/nature_data/images/product/00/00/01/07/93/b_0000010793.gif',\n",
       "   'http://lfyaklyqypvr852590.gcdn.ntruss.com/data/nature_data/images/addimg/00/00/01/07/93/b_00028709_add.gif'],\n",
       "  'color': '#',\n",
       "  'category': 'HOME > 카테고리 > 포인트 메이크업',\n",
       "  'salePrice': 5500,\n",
       "  'originalPrice': 5500,\n",
       "  'brand': 'naturerepublic',\n",
       "  'volume': '1.4g'}]"
      ]
     },
     "metadata": {},
     "output_type": "display_data"
    },
    {
     "data": {
      "text/plain": [
       "[{'name': '바이플라워 트리플 머랭 틴트 01 로즈 마카롱',\n",
       "  'url': 'https://www.naturerepublic.com/shop/goods_view.php?id=0000011049',\n",
       "  'image': ['http://lfyaklyqypvr852590.gcdn.ntruss.com/data/nature_data/images/product/00/00/01/10/49/b_0000011049.gif'],\n",
       "  'color': '#',\n",
       "  'category': 'HOME > 카테고리 > 포인트 메이크업',\n",
       "  'salePrice': 7700,\n",
       "  'originalPrice': 11000,\n",
       "  'brand': 'naturerepublic',\n",
       "  'volume': '4g'}]"
      ]
     },
     "metadata": {},
     "output_type": "display_data"
    },
    {
     "data": {
      "text/plain": [
       "[{'name': '퓨어 샤인 마스카라 01 볼륨',\n",
       "  'url': 'https://www.naturerepublic.com/shop/goods_view.php?id=0000011817',\n",
       "  'image': ['http://lfyaklyqypvr852590.gcdn.ntruss.com/data/nature_data/images/product/00/00/01/18/17/b_0000011817.gif',\n",
       "   'http://lfyaklyqypvr852590.gcdn.ntruss.com/data/nature_data/images/addimg/00/00/01/18/17/b_00029694_add.gif'],\n",
       "  'color': '#',\n",
       "  'category': 'HOME > 카테고리 > 포인트 메이크업',\n",
       "  'salePrice': 4400,\n",
       "  'originalPrice': 4400,\n",
       "  'brand': 'naturerepublic',\n",
       "  'volume': '12g'}]"
      ]
     },
     "metadata": {},
     "output_type": "display_data"
    },
    {
     "data": {
      "text/plain": [
       "[{'name': '바이 플라워 아이 섀도 07 오렌지 샤벳',\n",
       "  'url': 'https://www.naturerepublic.com/shop/goods_view.php?id=0000010794',\n",
       "  'image': ['http://lfyaklyqypvr852590.gcdn.ntruss.com/data/nature_data/images/product/00/00/01/07/94/b_0000010794.gif',\n",
       "   'http://lfyaklyqypvr852590.gcdn.ntruss.com/data/nature_data/images/addimg/00/00/01/07/94/b_00028710_add.gif'],\n",
       "  'color': '#',\n",
       "  'category': 'HOME > 카테고리 > 포인트 메이크업',\n",
       "  'salePrice': 5500,\n",
       "  'originalPrice': 5500,\n",
       "  'brand': 'naturerepublic',\n",
       "  'volume': '1.4g'}]"
      ]
     },
     "metadata": {},
     "output_type": "display_data"
    },
    {
     "data": {
      "text/plain": [
       "[{'name': '바이플라워 트리플 머랭 틴트 02 캐롯 케이크',\n",
       "  'url': 'https://www.naturerepublic.com/shop/goods_view.php?id=0000011050',\n",
       "  'image': ['http://lfyaklyqypvr852590.gcdn.ntruss.com/data/nature_data/images/product/00/00/01/10/50/b_0000011050.gif'],\n",
       "  'color': '#',\n",
       "  'category': 'HOME > 카테고리 > 포인트 메이크업',\n",
       "  'salePrice': 7700,\n",
       "  'originalPrice': 11000,\n",
       "  'brand': 'naturerepublic',\n",
       "  'volume': '4g'}]"
      ]
     },
     "metadata": {},
     "output_type": "display_data"
    },
    {
     "data": {
      "text/plain": [
       "[{'name': '보테니컬 심플 메이킹 젤 아이라이너 02 다크 브라운',\n",
       "  'url': 'https://www.naturerepublic.com/shop/goods_view.php?id=0000011818',\n",
       "  'image': ['http://lfyaklyqypvr852590.gcdn.ntruss.com/data/nature_data/images/product/00/00/01/18/18/b_0000011818.gif',\n",
       "   'http://lfyaklyqypvr852590.gcdn.ntruss.com/data/nature_data/images/addimg/00/00/01/18/18/b_00029695_add.gif'],\n",
       "  'color': '#',\n",
       "  'category': 'HOME > 카테고리 > 포인트 메이크업',\n",
       "  'salePrice': 8500,\n",
       "  'originalPrice': 8500,\n",
       "  'brand': 'naturerepublic',\n",
       "  'volume': '4g'}]"
      ]
     },
     "metadata": {},
     "output_type": "display_data"
    },
    {
     "data": {
      "text/plain": [
       "[{'name': '바이 플라워 아이 섀도 17 아몬드',\n",
       "  'url': 'https://www.naturerepublic.com/shop/goods_view.php?id=0000010795',\n",
       "  'image': ['http://lfyaklyqypvr852590.gcdn.ntruss.com/data/nature_data/images/product/00/00/01/07/95/b_0000010795.gif',\n",
       "   'http://lfyaklyqypvr852590.gcdn.ntruss.com/data/nature_data/images/addimg/00/00/01/07/95/b_00028711_add.gif'],\n",
       "  'color': '#',\n",
       "  'category': 'HOME > 카테고리 > 포인트 메이크업',\n",
       "  'salePrice': 4500,\n",
       "  'originalPrice': 4500,\n",
       "  'brand': 'naturerepublic',\n",
       "  'volume': '1.4g'}]"
      ]
     },
     "metadata": {},
     "output_type": "display_data"
    },
    {
     "data": {
      "text/plain": [
       "[{'name': '바이플라워 트리플 머랭 틴트 03 레드 브라우니',\n",
       "  'url': 'https://www.naturerepublic.com/shop/goods_view.php?id=0000011051',\n",
       "  'image': ['http://lfyaklyqypvr852590.gcdn.ntruss.com/data/nature_data/images/product/00/00/01/10/51/b_0000011051.gif'],\n",
       "  'color': '#',\n",
       "  'category': 'HOME > 카테고리 > 포인트 메이크업',\n",
       "  'salePrice': 7700,\n",
       "  'originalPrice': 11000,\n",
       "  'brand': 'naturerepublic',\n",
       "  'volume': '4g'}]"
      ]
     },
     "metadata": {},
     "output_type": "display_data"
    },
    {
     "data": {
      "text/plain": [
       "[{'name': '바이 플라워 아이 섀도 45 스모키 카키',\n",
       "  'url': 'https://www.naturerepublic.com/shop/goods_view.php?id=0000010815',\n",
       "  'image': ['http://lfyaklyqypvr852590.gcdn.ntruss.com/data/nature_data/images/product/00/00/01/08/15/b_0000010815.gif',\n",
       "   'http://lfyaklyqypvr852590.gcdn.ntruss.com/data/nature_data/images/addimg/00/00/01/08/15/b_00028739_add.gif'],\n",
       "  'color': '#',\n",
       "  'category': 'HOME > 카테고리 > 포인트 메이크업',\n",
       "  'salePrice': 5000,\n",
       "  'originalPrice': 5000,\n",
       "  'brand': 'naturerepublic',\n",
       "  'volume': '1.1g'}]"
      ]
     },
     "metadata": {},
     "output_type": "display_data"
    },
    {
     "data": {
      "text/plain": [
       "[{'name': '바이 플라워 아이 섀도 46 블랙 은하수',\n",
       "  'url': 'https://www.naturerepublic.com/shop/goods_view.php?id=0000010816',\n",
       "  'image': ['http://lfyaklyqypvr852590.gcdn.ntruss.com/data/nature_data/images/product/00/00/01/08/16/b_0000010816.gif',\n",
       "   'http://lfyaklyqypvr852590.gcdn.ntruss.com/data/nature_data/images/addimg/00/00/01/08/16/b_00028740_add.gif'],\n",
       "  'color': '#',\n",
       "  'category': 'HOME > 카테고리 > 포인트 메이크업',\n",
       "  'salePrice': 5000,\n",
       "  'originalPrice': 5000,\n",
       "  'brand': 'naturerepublic',\n",
       "  'volume': '1.1g'}]"
      ]
     },
     "metadata": {},
     "output_type": "display_data"
    },
    {
     "data": {
      "text/plain": [
       "[{'name': '보테니컬 스타일러 케익 아이브로우 02 모카 그레이',\n",
       "  'url': 'https://www.naturerepublic.com/shop/goods_view.php?id=0000011072',\n",
       "  'image': ['http://lfyaklyqypvr852590.gcdn.ntruss.com/data/nature_data/images/product/00/00/01/10/72/b_0000011072.gif',\n",
       "   'http://lfyaklyqypvr852590.gcdn.ntruss.com/data/nature_data/images/addimg/00/00/01/10/72/b_00029723_add.gif',\n",
       "   'http://lfyaklyqypvr852590.gcdn.ntruss.com/data/nature_data/images/addimg/00/00/01/10/72/b_00029724_add.gif'],\n",
       "  'color': '#',\n",
       "  'category': 'HOME > 카테고리 > 포인트 메이크업',\n",
       "  'salePrice': 12900,\n",
       "  'originalPrice': 12900,\n",
       "  'brand': 'naturerepublic',\n",
       "  'volume': '1g*3'}]"
      ]
     },
     "metadata": {},
     "output_type": "display_data"
    },
    {
     "data": {
      "text/plain": [
       "[{'name': '멀티플 터치 스틱 06 베이비 코랄',\n",
       "  'url': 'https://www.naturerepublic.com/shop/goods_view.php?id=0000011584',\n",
       "  'image': ['http://lfyaklyqypvr852590.gcdn.ntruss.com/data/nature_data/images/product/00/00/01/15/84/b_0000011584.gif',\n",
       "   'http://lfyaklyqypvr852590.gcdn.ntruss.com/data/nature_data/images/addimg/00/00/01/15/84/b_00029468_add.gif'],\n",
       "  'color': '#',\n",
       "  'category': 'HOME > 카테고리 > 포인트 메이크업',\n",
       "  'salePrice': 12000,\n",
       "  'originalPrice': 12000,\n",
       "  'brand': 'naturerepublic',\n",
       "  'volume': '8g'}]"
      ]
     },
     "metadata": {},
     "output_type": "display_data"
    },
    {
     "data": {
      "text/plain": [
       "[{'name': '바이 플라워 아이 섀도 32 새틴 마르살라',\n",
       "  'url': 'https://www.naturerepublic.com/shop/goods_view.php?id=0000010817',\n",
       "  'image': ['http://lfyaklyqypvr852590.gcdn.ntruss.com/data/nature_data/images/product/00/00/01/08/17/b_0000010817.gif',\n",
       "   'http://lfyaklyqypvr852590.gcdn.ntruss.com/data/nature_data/images/addimg/00/00/01/08/17/b_00028741_add.gif'],\n",
       "  'color': '#',\n",
       "  'category': 'HOME > 카테고리 > 포인트 메이크업',\n",
       "  'salePrice': 5000,\n",
       "  'originalPrice': 5000,\n",
       "  'brand': 'naturerepublic',\n",
       "  'volume': '1.2g'}]"
      ]
     },
     "metadata": {},
     "output_type": "display_data"
    },
    {
     "data": {
      "text/plain": [
       "[{'name': '인텐시브 잉크 립 래커 05 버건디 레드',\n",
       "  'url': 'https://www.naturerepublic.com/shop/goods_view.php?id=0000011073',\n",
       "  'image': ['http://lfyaklyqypvr852590.gcdn.ntruss.com/data/nature_data/images/product/00/00/01/10/73/b_0000011073.gif',\n",
       "   'http://lfyaklyqypvr852590.gcdn.ntruss.com/data/nature_data/images/addimg/00/00/01/10/73/b_00028945_add.gif'],\n",
       "  'color': '#',\n",
       "  'category': 'HOME > 카테고리 > 포인트 메이크업',\n",
       "  'salePrice': 12000,\n",
       "  'originalPrice': 12000,\n",
       "  'brand': 'naturerepublic',\n",
       "  'volume': '4.5g'}]"
      ]
     },
     "metadata": {},
     "output_type": "display_data"
    },
    {
     "data": {
      "text/plain": [
       "[{'name': '바이 플라워 아이 섀도 33 퍼플 라떼',\n",
       "  'url': 'https://www.naturerepublic.com/shop/goods_view.php?id=0000010818',\n",
       "  'image': ['http://lfyaklyqypvr852590.gcdn.ntruss.com/data/nature_data/images/product/00/00/01/08/18/b_0000010818.gif',\n",
       "   'http://lfyaklyqypvr852590.gcdn.ntruss.com/data/nature_data/images/addimg/00/00/01/08/18/b_00028742_add.gif'],\n",
       "  'color': '#',\n",
       "  'category': 'HOME > 카테고리 > 포인트 메이크업',\n",
       "  'salePrice': 5000,\n",
       "  'originalPrice': 5000,\n",
       "  'brand': 'naturerepublic',\n",
       "  'volume': '1.2g'}]"
      ]
     },
     "metadata": {},
     "output_type": "display_data"
    },
    {
     "data": {
      "text/plain": [
       "[{'name': '바이 플라워 아이 섀도 39 핑크 팝팝',\n",
       "  'url': 'https://www.naturerepublic.com/shop/goods_view.php?id=0000010819',\n",
       "  'image': ['http://lfyaklyqypvr852590.gcdn.ntruss.com/data/nature_data/images/product/00/00/01/08/19/b_0000010819.gif',\n",
       "   'http://lfyaklyqypvr852590.gcdn.ntruss.com/data/nature_data/images/addimg/00/00/01/08/19/b_00028743_add.gif'],\n",
       "  'color': '#',\n",
       "  'category': 'HOME > 카테고리 > 포인트 메이크업',\n",
       "  'salePrice': 5000,\n",
       "  'originalPrice': 5000,\n",
       "  'brand': 'naturerepublic',\n",
       "  'volume': '1.1g'}]"
      ]
     },
     "metadata": {},
     "output_type": "display_data"
    },
    {
     "data": {
      "text/plain": [
       "[{'name': '극세사 슬림핏 아이라이너',\n",
       "  'url': 'https://www.naturerepublic.com/shop/goods_view.php?id=0000011075',\n",
       "  'image': ['http://lfyaklyqypvr852590.gcdn.ntruss.com/data/nature_data/images/product/00/00/01/10/75/b_0000011075.gif',\n",
       "   'http://lfyaklyqypvr852590.gcdn.ntruss.com/data/nature_data/images/addimg/00/00/01/10/75/b_00030036_add.gif'],\n",
       "  'color': '01 블랙',\n",
       "  'category': 'HOME > 카테고리 > 포인트 메이크업',\n",
       "  'salePrice': 6900,\n",
       "  'originalPrice': 6900,\n",
       "  'brand': 'naturerepublic',\n",
       "  'volume': '0.05g'},\n",
       " {'name': '극세사 슬림핏 아이라이너',\n",
       "  'url': 'https://www.naturerepublic.com/shop/goods_view.php?id=0000011075',\n",
       "  'image': ['http://lfyaklyqypvr852590.gcdn.ntruss.com/data/nature_data/images/product/00/00/01/10/75/b_0000011075.gif',\n",
       "   'http://lfyaklyqypvr852590.gcdn.ntruss.com/data/nature_data/images/addimg/00/00/01/10/75/b_00030036_add.gif'],\n",
       "  'color': '02 브라운',\n",
       "  'category': 'HOME > 카테고리 > 포인트 메이크업',\n",
       "  'salePrice': 6900,\n",
       "  'originalPrice': 6900,\n",
       "  'brand': 'naturerepublic',\n",
       "  'volume': '0.05g'}]"
      ]
     },
     "metadata": {},
     "output_type": "display_data"
    },
    {
     "data": {
      "text/plain": [
       "[{'name': '[2017SS]프로방스 매직스텝 아이즈 02 걸리쉬핑크',\n",
       "  'url': 'https://www.naturerepublic.com/shop/goods_view.php?id=0000010564',\n",
       "  'image': ['http://lfyaklyqypvr852590.gcdn.ntruss.com/data/nature_data/images/product/00/00/01/05/64/b_0000010564.gif'],\n",
       "  'color': '#',\n",
       "  'category': 'HOME > 카테고리 > 포인트 메이크업',\n",
       "  'salePrice': 18900,\n",
       "  'originalPrice': 18900,\n",
       "  'brand': 'naturerepublic',\n",
       "  'volume': '7g'}]"
      ]
     },
     "metadata": {},
     "output_type": "display_data"
    },
    {
     "data": {
      "text/plain": [
       "[{'name': '바이 플라워 아이 섀도 40 타로 밀크티',\n",
       "  'url': 'https://www.naturerepublic.com/shop/goods_view.php?id=0000010820',\n",
       "  'image': ['http://lfyaklyqypvr852590.gcdn.ntruss.com/data/nature_data/images/product/00/00/01/08/20/b_0000010820.gif',\n",
       "   'http://lfyaklyqypvr852590.gcdn.ntruss.com/data/nature_data/images/addimg/00/00/01/08/20/b_00028744_add.gif'],\n",
       "  'color': '#',\n",
       "  'category': 'HOME > 카테고리 > 포인트 메이크업',\n",
       "  'salePrice': 5000,\n",
       "  'originalPrice': 5000,\n",
       "  'brand': 'naturerepublic',\n",
       "  'volume': '1.1g'}]"
      ]
     },
     "metadata": {},
     "output_type": "display_data"
    },
    {
     "data": {
      "text/plain": [
       "[{'name': '바이 플라워 아이 섀도 41 유쓰',\n",
       "  'url': 'https://www.naturerepublic.com/shop/goods_view.php?id=0000010821',\n",
       "  'image': ['http://lfyaklyqypvr852590.gcdn.ntruss.com/data/nature_data/images/product/00/00/01/08/21/b_0000010821.gif',\n",
       "   'http://lfyaklyqypvr852590.gcdn.ntruss.com/data/nature_data/images/addimg/00/00/01/08/21/b_00028745_add.gif'],\n",
       "  'color': '#',\n",
       "  'category': 'HOME > 카테고리 > 포인트 메이크업',\n",
       "  'salePrice': 5000,\n",
       "  'originalPrice': 5000,\n",
       "  'brand': 'naturerepublic',\n",
       "  'volume': '1.1g'}]"
      ]
     },
     "metadata": {},
     "output_type": "display_data"
    },
    {
     "data": {
      "text/plain": [
       "[{'name': '프로방스 크리미 젤 아이라이너 03 브라우니 스타',\n",
       "  'url': 'https://www.naturerepublic.com/shop/goods_view.php?id=0000011077',\n",
       "  'image': ['http://lfyaklyqypvr852590.gcdn.ntruss.com/data/nature_data/images/product/00/00/01/10/77/b_0000011077.gif'],\n",
       "  'color': '#',\n",
       "  'category': 'HOME > 카테고리 > 포인트 메이크업',\n",
       "  'salePrice': 8000,\n",
       "  'originalPrice': 8000,\n",
       "  'brand': 'naturerepublic',\n",
       "  'volume': '0.5g'}]"
      ]
     },
     "metadata": {},
     "output_type": "display_data"
    },
    {
     "data": {
      "text/plain": [
       "[{'name': '바이 플라워 아이 섀도 42 얼쓰 메탈',\n",
       "  'url': 'https://www.naturerepublic.com/shop/goods_view.php?id=0000010822',\n",
       "  'image': ['http://lfyaklyqypvr852590.gcdn.ntruss.com/data/nature_data/images/product/00/00/01/08/22/b_0000010822.gif',\n",
       "   'http://lfyaklyqypvr852590.gcdn.ntruss.com/data/nature_data/images/addimg/00/00/01/08/22/b_00028746_add.gif'],\n",
       "  'color': '#',\n",
       "  'category': 'HOME > 카테고리 > 포인트 메이크업',\n",
       "  'salePrice': 5000,\n",
       "  'originalPrice': 5000,\n",
       "  'brand': 'naturerepublic',\n",
       "  'volume': '1.1g'}]"
      ]
     },
     "metadata": {},
     "output_type": "display_data"
    },
    {
     "data": {
      "text/plain": [
       "[{'name': '프로방스 크리미 젤 아이라이너 04 드라이 메이플',\n",
       "  'url': 'https://www.naturerepublic.com/shop/goods_view.php?id=0000011078',\n",
       "  'image': ['http://lfyaklyqypvr852590.gcdn.ntruss.com/data/nature_data/images/product/00/00/01/10/78/b_0000011078.gif'],\n",
       "  'color': '#',\n",
       "  'category': 'HOME > 카테고리 > 포인트 메이크업',\n",
       "  'salePrice': 8000,\n",
       "  'originalPrice': 8000,\n",
       "  'brand': 'naturerepublic',\n",
       "  'volume': '0.5g'}]"
      ]
     },
     "metadata": {},
     "output_type": "display_data"
    },
    {
     "data": {
      "text/plain": [
       "[{'name': '바이 플라워 아이 섀도 25 피치 쉐이크',\n",
       "  'url': 'https://www.naturerepublic.com/shop/goods_view.php?id=0000010823',\n",
       "  'image': ['http://lfyaklyqypvr852590.gcdn.ntruss.com/data/nature_data/images/product/00/00/01/08/23/b_0000010823.gif',\n",
       "   'http://lfyaklyqypvr852590.gcdn.ntruss.com/data/nature_data/images/addimg/00/00/01/08/23/b_00028747_add.gif',\n",
       "   'http://lfyaklyqypvr852590.gcdn.ntruss.com/data/nature_data/images/addimg/00/00/01/08/23/b_00028748_add.gif'],\n",
       "  'color': '#',\n",
       "  'category': 'HOME > 카테고리 > 포인트 메이크업',\n",
       "  'salePrice': 5000,\n",
       "  'originalPrice': 5000,\n",
       "  'brand': 'naturerepublic',\n",
       "  'volume': '1.2g'}]"
      ]
     },
     "metadata": {},
     "output_type": "display_data"
    },
    {
     "data": {
      "text/plain": [
       "[{'name': '바이 플라워 아이 섀도 29 실크 슬립',\n",
       "  'url': 'https://www.naturerepublic.com/shop/goods_view.php?id=0000010824',\n",
       "  'image': ['http://lfyaklyqypvr852590.gcdn.ntruss.com/data/nature_data/images/product/00/00/01/08/24/b_0000010824.gif',\n",
       "   'http://lfyaklyqypvr852590.gcdn.ntruss.com/data/nature_data/images/addimg/00/00/01/08/24/b_00028749_add.gif'],\n",
       "  'color': '#',\n",
       "  'category': 'HOME > 카테고리 > 포인트 메이크업',\n",
       "  'salePrice': 5000,\n",
       "  'originalPrice': 5000,\n",
       "  'brand': 'naturerepublic',\n",
       "  'volume': '1.2g'}]"
      ]
     },
     "metadata": {},
     "output_type": "display_data"
    },
    {
     "data": {
      "text/plain": [
       "[{'name': '[2018] 컬러 앤 네이처 네일 컬러 59호 이브닝 나잇',\n",
       "  'url': 'https://www.naturerepublic.com/shop/goods_view.php?id=0000011336',\n",
       "  'image': ['http://lfyaklyqypvr852590.gcdn.ntruss.com/data/nature_data/images/product/00/00/01/13/36/b_0000011336.gif',\n",
       "   'http://lfyaklyqypvr852590.gcdn.ntruss.com/data/nature_data/images/addimg/00/00/01/13/36/b_00029188_add.gif'],\n",
       "  'color': '#',\n",
       "  'category': 'HOME > 카테고리 > 포인트 메이크업',\n",
       "  'salePrice': 3500,\n",
       "  'originalPrice': 3500,\n",
       "  'brand': 'naturerepublic',\n",
       "  'volume': '8㎖'}]"
      ]
     },
     "metadata": {},
     "output_type": "display_data"
    },
    {
     "data": {
      "text/plain": [
       "[{'name': '바이 플라워 아이 섀도 30 핑크 레이스',\n",
       "  'url': 'https://www.naturerepublic.com/shop/goods_view.php?id=0000010825',\n",
       "  'image': ['http://lfyaklyqypvr852590.gcdn.ntruss.com/data/nature_data/images/product/00/00/01/08/25/b_0000010825.gif',\n",
       "   'http://lfyaklyqypvr852590.gcdn.ntruss.com/data/nature_data/images/addimg/00/00/01/08/25/b_00028750_add.gif'],\n",
       "  'color': '#',\n",
       "  'category': 'HOME > 카테고리 > 포인트 메이크업',\n",
       "  'salePrice': 5000,\n",
       "  'originalPrice': 5000,\n",
       "  'brand': 'naturerepublic',\n",
       "  'volume': '1.2g'}]"
      ]
     },
     "metadata": {},
     "output_type": "display_data"
    },
    {
     "data": {
      "text/plain": [
       "[{'name': '크리미 립스틱 09 애플 레드',\n",
       "  'url': 'https://www.naturerepublic.com/shop/goods_view.php?id=0000011081',\n",
       "  'image': ['http://lfyaklyqypvr852590.gcdn.ntruss.com/data/nature_data/images/product/00/00/01/10/81/b_0000011081.gif'],\n",
       "  'color': '#',\n",
       "  'category': 'HOME > 카테고리 > 포인트 메이크업',\n",
       "  'salePrice': 12000,\n",
       "  'originalPrice': 12000,\n",
       "  'brand': 'naturerepublic',\n",
       "  'volume': '3.9g'}]"
      ]
     },
     "metadata": {},
     "output_type": "display_data"
    },
    {
     "data": {
      "text/plain": [
       "[{'name': '[2018] 컬러 앤 네이처 네일 컬러 60호 미러볼 파티',\n",
       "  'url': 'https://www.naturerepublic.com/shop/goods_view.php?id=0000011337',\n",
       "  'image': ['http://lfyaklyqypvr852590.gcdn.ntruss.com/data/nature_data/images/product/00/00/01/13/37/b_0000011337.gif',\n",
       "   'http://lfyaklyqypvr852590.gcdn.ntruss.com/data/nature_data/images/addimg/00/00/01/13/37/b_00029189_add.gif'],\n",
       "  'color': '#',\n",
       "  'category': 'HOME > 카테고리 > 포인트 메이크업',\n",
       "  'salePrice': 3500,\n",
       "  'originalPrice': 3500,\n",
       "  'brand': 'naturerepublic',\n",
       "  'volume': '8㎖'}]"
      ]
     },
     "metadata": {},
     "output_type": "display_data"
    },
    {
     "data": {
      "text/plain": [
       "[{'name': '바이 플라워 아이 섀도 35 이집트',\n",
       "  'url': 'https://www.naturerepublic.com/shop/goods_view.php?id=0000010826',\n",
       "  'image': ['http://lfyaklyqypvr852590.gcdn.ntruss.com/data/nature_data/images/product/00/00/01/08/26/b_0000010826.gif',\n",
       "   'http://lfyaklyqypvr852590.gcdn.ntruss.com/data/nature_data/images/addimg/00/00/01/08/26/b_00028751_add.gif'],\n",
       "  'color': '#',\n",
       "  'category': 'HOME > 카테고리 > 포인트 메이크업',\n",
       "  'salePrice': 5000,\n",
       "  'originalPrice': 5000,\n",
       "  'brand': 'naturerepublic',\n",
       "  'volume': '1.2g'}]"
      ]
     },
     "metadata": {},
     "output_type": "display_data"
    },
    {
     "data": {
      "text/plain": [
       "[{'name': '크리미 립스틱 14 메이플 로즈',\n",
       "  'url': 'https://www.naturerepublic.com/shop/goods_view.php?id=0000011083',\n",
       "  'image': ['http://lfyaklyqypvr852590.gcdn.ntruss.com/data/nature_data/images/product/00/00/01/10/83/b_0000011083.gif'],\n",
       "  'color': '#',\n",
       "  'category': 'HOME > 카테고리 > 포인트 메이크업',\n",
       "  'salePrice': 12000,\n",
       "  'originalPrice': 12000,\n",
       "  'brand': 'naturerepublic',\n",
       "  'volume': '3.9g'}]"
      ]
     },
     "metadata": {},
     "output_type": "display_data"
    },
    {
     "data": {
      "text/plain": [
       "[{'name': '멀티플 터치 스틱 09 레이디 탠저린',\n",
       "  'url': 'https://www.naturerepublic.com/shop/goods_view.php?id=0000011597',\n",
       "  'image': ['http://lfyaklyqypvr852590.gcdn.ntruss.com/data/nature_data/images/product/00/00/01/15/97/b_0000011597.gif',\n",
       "   'http://lfyaklyqypvr852590.gcdn.ntruss.com/data/nature_data/images/addimg/00/00/01/15/97/b_00029481_add.gif'],\n",
       "  'color': '#',\n",
       "  'category': 'HOME > 카테고리 > 포인트 메이크업',\n",
       "  'salePrice': 12000,\n",
       "  'originalPrice': 12000,\n",
       "  'brand': 'naturerepublic',\n",
       "  'volume': '8g'}]"
      ]
     },
     "metadata": {},
     "output_type": "display_data"
    },
    {
     "data": {
      "text/plain": [
       "[{'name': '리얼 젤 틴트 01 레드',\n",
       "  'url': 'https://www.naturerepublic.com/shop/goods_view.php?id=0000011088',\n",
       "  'image': ['http://lfyaklyqypvr852590.gcdn.ntruss.com/data/nature_data/images/product/00/00/01/10/88/b_0000011088.gif',\n",
       "   'http://lfyaklyqypvr852590.gcdn.ntruss.com/data/nature_data/images/addimg/00/00/01/10/88/b_00028950_add.gif',\n",
       "   'http://lfyaklyqypvr852590.gcdn.ntruss.com/data/nature_data/images/addimg/00/00/01/10/88/b_00028951_add.gif'],\n",
       "  'color': '#',\n",
       "  'category': 'HOME > 카테고리 > 포인트 메이크업',\n",
       "  'salePrice': 3080,\n",
       "  'originalPrice': 4400,\n",
       "  'brand': 'naturerepublic',\n",
       "  'volume': '9ml'}]"
      ]
     },
     "metadata": {},
     "output_type": "display_data"
    },
    {
     "data": {
      "text/plain": [
       "[{'name': '보테니컬 애플 돔 블러셔 02 코랄 애플',\n",
       "  'url': 'https://www.naturerepublic.com/shop/goods_view.php?id=0000011094',\n",
       "  'image': ['http://lfyaklyqypvr852590.gcdn.ntruss.com/data/nature_data/images/product/00/00/01/10/94/b_0000011094.gif',\n",
       "   'http://lfyaklyqypvr852590.gcdn.ntruss.com/data/nature_data/images/addimg/00/00/01/10/94/b_00028961_add.gif'],\n",
       "  'color': '#',\n",
       "  'category': 'HOME > 카테고리 > 포인트 메이크업',\n",
       "  'salePrice': 7700,\n",
       "  'originalPrice': 7700,\n",
       "  'brand': 'naturerepublic',\n",
       "  'volume': '8.5g'}]"
      ]
     },
     "metadata": {},
     "output_type": "display_data"
    },
    {
     "data": {
      "text/plain": [
       "[{'name': '바이 플라워 아이 섀도 13 밀키 베이지',\n",
       "  'url': 'https://www.naturerepublic.com/shop/goods_view.php?id=0000010839',\n",
       "  'image': ['http://lfyaklyqypvr852590.gcdn.ntruss.com/data/nature_data/images/product/00/00/01/08/39/b_0000010839.gif',\n",
       "   'http://lfyaklyqypvr852590.gcdn.ntruss.com/data/nature_data/images/addimg/00/00/01/08/39/b_00028768_add.gif',\n",
       "   'http://lfyaklyqypvr852590.gcdn.ntruss.com/data/nature_data/images/addimg/00/00/01/08/39/b_00028769_add.gif'],\n",
       "  'color': '#',\n",
       "  'category': 'HOME > 카테고리 > 포인트 메이크업',\n",
       "  'salePrice': 4500,\n",
       "  'originalPrice': 4500,\n",
       "  'brand': 'naturerepublic',\n",
       "  'volume': '1.4g'}]"
      ]
     },
     "metadata": {},
     "output_type": "display_data"
    },
    {
     "data": {
      "text/plain": [
       "[{'name': '바이 플라워 아이 섀도 14 바나나',\n",
       "  'url': 'https://www.naturerepublic.com/shop/goods_view.php?id=0000010840',\n",
       "  'image': ['http://lfyaklyqypvr852590.gcdn.ntruss.com/data/nature_data/images/product/00/00/01/08/40/b_0000010840.gif',\n",
       "   'http://lfyaklyqypvr852590.gcdn.ntruss.com/data/nature_data/images/addimg/00/00/01/08/40/b_00028770_add.gif'],\n",
       "  'color': '#',\n",
       "  'category': 'HOME > 카테고리 > 포인트 메이크업',\n",
       "  'salePrice': 4500,\n",
       "  'originalPrice': 4500,\n",
       "  'brand': 'naturerepublic',\n",
       "  'volume': '1.4g'}]"
      ]
     },
     "metadata": {},
     "output_type": "display_data"
    },
    {
     "data": {
      "text/plain": [
       "[{'name': '바이 플라워 아이 섀도 15 진저 베이지',\n",
       "  'url': 'https://www.naturerepublic.com/shop/goods_view.php?id=0000010841',\n",
       "  'image': ['http://lfyaklyqypvr852590.gcdn.ntruss.com/data/nature_data/images/product/00/00/01/08/41/b_0000010841.gif',\n",
       "   'http://lfyaklyqypvr852590.gcdn.ntruss.com/data/nature_data/images/addimg/00/00/01/08/41/b_00028771_add.gif'],\n",
       "  'color': '#',\n",
       "  'category': 'HOME > 카테고리 > 포인트 메이크업',\n",
       "  'salePrice': 4500,\n",
       "  'originalPrice': 4500,\n",
       "  'brand': 'naturerepublic',\n",
       "  'volume': '1.4g'}]"
      ]
     },
     "metadata": {},
     "output_type": "display_data"
    },
    {
     "data": {
      "text/plain": [
       "[{'name': '멀티플 듀얼 컨투어스틱 03 샤인코랄',\n",
       "  'url': 'https://www.naturerepublic.com/shop/goods_view.php?id=0000011609',\n",
       "  'image': ['http://lfyaklyqypvr852590.gcdn.ntruss.com/data/nature_data/images/product/00/00/01/16/09/b_0000011609.gif',\n",
       "   'http://lfyaklyqypvr852590.gcdn.ntruss.com/data/nature_data/images/addimg/00/00/01/16/09/b_00029494_add.gif',\n",
       "   'http://lfyaklyqypvr852590.gcdn.ntruss.com/data/nature_data/images/addimg/00/00/01/16/09/b_00029495_add.gif',\n",
       "   'http://lfyaklyqypvr852590.gcdn.ntruss.com/data/nature_data/images/addimg/00/00/01/16/09/b_00029496_add.gif',\n",
       "   'http://lfyaklyqypvr852590.gcdn.ntruss.com/data/nature_data/images/addimg/00/00/01/16/09/b_00029497_add.gif'],\n",
       "  'color': '#',\n",
       "  'category': 'HOME > 카테고리 > 포인트 메이크업',\n",
       "  'salePrice': 12900,\n",
       "  'originalPrice': 12900,\n",
       "  'brand': 'naturerepublic',\n",
       "  'volume': '9g'}]"
      ]
     },
     "metadata": {},
     "output_type": "display_data"
    },
    {
     "data": {
      "text/plain": [
       "[{'name': '바이 플라워 아이 섀도 16 피넛 토스트',\n",
       "  'url': 'https://www.naturerepublic.com/shop/goods_view.php?id=0000010842',\n",
       "  'image': ['http://lfyaklyqypvr852590.gcdn.ntruss.com/data/nature_data/images/product/00/00/01/08/42/b_0000010842.gif',\n",
       "   'http://lfyaklyqypvr852590.gcdn.ntruss.com/data/nature_data/images/addimg/00/00/01/08/42/b_00028772_add.gif'],\n",
       "  'color': '#',\n",
       "  'category': 'HOME > 카테고리 > 포인트 메이크업',\n",
       "  'salePrice': 4500,\n",
       "  'originalPrice': 4500,\n",
       "  'brand': 'naturerepublic',\n",
       "  'volume': '1.4g'}]"
      ]
     },
     "metadata": {},
     "output_type": "display_data"
    },
    {
     "data": {
      "text/plain": [
       "[{'name': '글리터 라이너 03 칵테일 핑크',\n",
       "  'url': 'https://www.naturerepublic.com/shop/goods_view.php?id=0000010844',\n",
       "  'image': ['http://lfyaklyqypvr852590.gcdn.ntruss.com/data/nature_data/images/product/00/00/01/08/44/b_0000010844.gif'],\n",
       "  'color': '#',\n",
       "  'category': 'HOME > 카테고리 > 포인트 메이크업',\n",
       "  'salePrice': 7000,\n",
       "  'originalPrice': 7000,\n",
       "  'brand': 'naturerepublic',\n",
       "  'volume': ''}]"
      ]
     },
     "metadata": {},
     "output_type": "display_data"
    },
    {
     "data": {
      "text/plain": [
       "[{'name': '바이 플라워 아이 섀도 26 샤이 오렌지',\n",
       "  'url': 'https://www.naturerepublic.com/shop/goods_view.php?id=0000010845',\n",
       "  'image': ['http://lfyaklyqypvr852590.gcdn.ntruss.com/data/nature_data/images/product/00/00/01/08/45/b_0000010845.gif',\n",
       "   'http://lfyaklyqypvr852590.gcdn.ntruss.com/data/nature_data/images/addimg/00/00/01/08/45/b_00028774_add.gif'],\n",
       "  'color': '#',\n",
       "  'category': 'HOME > 카테고리 > 포인트 메이크업',\n",
       "  'salePrice': 5000,\n",
       "  'originalPrice': 5000,\n",
       "  'brand': 'naturerepublic',\n",
       "  'volume': '1.2g'}]"
      ]
     },
     "metadata": {},
     "output_type": "display_data"
    },
    {
     "data": {
      "text/plain": [
       "[{'name': '바이 플라워 블러셔 2호 코랄 블라썸',\n",
       "  'url': 'https://www.naturerepublic.com/shop/goods_view.php?id=0000011357',\n",
       "  'image': ['http://lfyaklyqypvr852590.gcdn.ntruss.com/data/nature_data/images/product/00/00/01/13/57/b_0000011357.gif',\n",
       "   'http://lfyaklyqypvr852590.gcdn.ntruss.com/data/nature_data/images/addimg/00/00/01/13/57/b_00029202_add.gif'],\n",
       "  'color': '#',\n",
       "  'category': 'HOME > 카테고리 > 포인트 메이크업',\n",
       "  'salePrice': 7000,\n",
       "  'originalPrice': 7000,\n",
       "  'brand': 'naturerepublic',\n",
       "  'volume': '5.5g'}]"
      ]
     },
     "metadata": {},
     "output_type": "display_data"
    },
    {
     "data": {
      "text/plain": [
       "[{'name': '뷰티툴쌍꺼풀액',\n",
       "  'url': 'https://www.naturerepublic.com/shop/goods_view.php?id=0000009822',\n",
       "  'image': ['http://lfyaklyqypvr852590.gcdn.ntruss.com/data/nature_data/images/product/00/00/00/98/22/b_0000009822.gif',\n",
       "   'http://lfyaklyqypvr852590.gcdn.ntruss.com/data/nature_data/images/addimg/00/00/00/98/22/b_00027522_add.gif',\n",
       "   'http://lfyaklyqypvr852590.gcdn.ntruss.com/data/nature_data/images/addimg/00/00/00/98/22/b_00027523_add.gif'],\n",
       "  'color': '#',\n",
       "  'category': 'HOME > 카테고리 > 포인트 메이크업',\n",
       "  'salePrice': 3000,\n",
       "  'originalPrice': 3000,\n",
       "  'brand': 'naturerepublic',\n",
       "  'volume': '5㎖'}]"
      ]
     },
     "metadata": {},
     "output_type": "display_data"
    },
    {
     "data": {
      "text/plain": [
       "[{'name': '바이 플라워 아이 섀도 27 피치 플라워',\n",
       "  'url': 'https://www.naturerepublic.com/shop/goods_view.php?id=0000010846',\n",
       "  'image': ['http://lfyaklyqypvr852590.gcdn.ntruss.com/data/nature_data/images/product/00/00/01/08/46/b_0000010846.gif',\n",
       "   'http://lfyaklyqypvr852590.gcdn.ntruss.com/data/nature_data/images/addimg/00/00/01/08/46/b_00028775_add.gif'],\n",
       "  'color': '#',\n",
       "  'category': 'HOME > 카테고리 > 포인트 메이크업',\n",
       "  'salePrice': 5000,\n",
       "  'originalPrice': 5000,\n",
       "  'brand': 'naturerepublic',\n",
       "  'volume': '1.2g'}]"
      ]
     },
     "metadata": {},
     "output_type": "display_data"
    },
    {
     "data": {
      "text/plain": [
       "[{'name': '바이 플라워 아이 섀도 28 코지 드림',\n",
       "  'url': 'https://www.naturerepublic.com/shop/goods_view.php?id=0000010847',\n",
       "  'image': ['http://lfyaklyqypvr852590.gcdn.ntruss.com/data/nature_data/images/product/00/00/01/08/47/b_0000010847.gif',\n",
       "   'http://lfyaklyqypvr852590.gcdn.ntruss.com/data/nature_data/images/addimg/00/00/01/08/47/b_00028776_add.gif'],\n",
       "  'color': '#',\n",
       "  'category': 'HOME > 카테고리 > 포인트 메이크업',\n",
       "  'salePrice': 5000,\n",
       "  'originalPrice': 5000,\n",
       "  'brand': 'naturerepublic',\n",
       "  'volume': '1.2g'}]"
      ]
     },
     "metadata": {},
     "output_type": "display_data"
    },
    {
     "data": {
      "text/plain": [
       "[{'name': '바이 플라워 블러셔 4호 캔디 로즈',\n",
       "  'url': 'https://www.naturerepublic.com/shop/goods_view.php?id=0000011359',\n",
       "  'image': ['http://lfyaklyqypvr852590.gcdn.ntruss.com/data/nature_data/images/product/00/00/01/13/59/b_0000011359.gif',\n",
       "   'http://lfyaklyqypvr852590.gcdn.ntruss.com/data/nature_data/images/addimg/00/00/01/13/59/b_00029204_add.gif'],\n",
       "  'color': '#',\n",
       "  'category': 'HOME > 카테고리 > 포인트 메이크업',\n",
       "  'salePrice': 7000,\n",
       "  'originalPrice': 7000,\n",
       "  'brand': 'naturerepublic',\n",
       "  'volume': '5.5g'}]"
      ]
     },
     "metadata": {},
     "output_type": "display_data"
    },
    {
     "data": {
      "text/plain": [
       "[{'name': '바이 플라워 아이 섀도 31 댄싱 버건디',\n",
       "  'url': 'https://www.naturerepublic.com/shop/goods_view.php?id=0000010848',\n",
       "  'image': ['http://lfyaklyqypvr852590.gcdn.ntruss.com/data/nature_data/images/product/00/00/01/08/48/b_0000010848.gif',\n",
       "   'http://lfyaklyqypvr852590.gcdn.ntruss.com/data/nature_data/images/addimg/00/00/01/08/48/b_00028777_add.gif'],\n",
       "  'color': '#',\n",
       "  'category': 'HOME > 카테고리 > 포인트 메이크업',\n",
       "  'salePrice': 5000,\n",
       "  'originalPrice': 5000,\n",
       "  'brand': 'naturerepublic',\n",
       "  'volume': '1.2g'}]"
      ]
     },
     "metadata": {},
     "output_type": "display_data"
    },
    {
     "data": {
      "text/plain": [
       "[{'name': '보테니컬 하이퍼 라이너 02 브라운',\n",
       "  'url': 'https://www.naturerepublic.com/shop/goods_view.php?id=0000011104',\n",
       "  'image': ['http://lfyaklyqypvr852590.gcdn.ntruss.com/data/nature_data/images/product/00/00/01/11/04/b_0000011104.gif'],\n",
       "  'color': '#',\n",
       "  'category': 'HOME > 카테고리 > 포인트 메이크업',\n",
       "  'salePrice': 9900,\n",
       "  'originalPrice': 9900,\n",
       "  'brand': 'naturerepublic',\n",
       "  'volume': '0.6g'}]"
      ]
     },
     "metadata": {},
     "output_type": "display_data"
    },
    {
     "data": {
      "text/plain": [
       "[{'name': '바이 플라워 하드 아이라이너',\n",
       "  'url': 'https://www.naturerepublic.com/shop/goods_view.php?id=0000011360',\n",
       "  'image': ['http://lfyaklyqypvr852590.gcdn.ntruss.com/data/nature_data/images/product/00/00/01/13/60/b_0000011360.gif',\n",
       "   'http://lfyaklyqypvr852590.gcdn.ntruss.com/data/nature_data/images/addimg/00/00/01/13/60/b_00029205_add.gif',\n",
       "   'http://lfyaklyqypvr852590.gcdn.ntruss.com/data/nature_data/images/addimg/00/00/01/13/60/b_00029206_add.gif',\n",
       "   'http://lfyaklyqypvr852590.gcdn.ntruss.com/data/nature_data/images/addimg/00/00/01/13/60/b_00030034_add.gif',\n",
       "   'http://lfyaklyqypvr852590.gcdn.ntruss.com/data/nature_data/images/addimg/00/00/01/13/60/b_00030035_add.gif'],\n",
       "  'color': '01 블랙',\n",
       "  'category': 'HOME > 카테고리 > 포인트 메이크업',\n",
       "  'salePrice': 5900,\n",
       "  'originalPrice': 5900,\n",
       "  'brand': 'naturerepublic',\n",
       "  'volume': '0.8g'},\n",
       " {'name': '바이 플라워 하드 아이라이너',\n",
       "  'url': 'https://www.naturerepublic.com/shop/goods_view.php?id=0000011360',\n",
       "  'image': ['http://lfyaklyqypvr852590.gcdn.ntruss.com/data/nature_data/images/product/00/00/01/13/60/b_0000011360.gif',\n",
       "   'http://lfyaklyqypvr852590.gcdn.ntruss.com/data/nature_data/images/addimg/00/00/01/13/60/b_00029205_add.gif',\n",
       "   'http://lfyaklyqypvr852590.gcdn.ntruss.com/data/nature_data/images/addimg/00/00/01/13/60/b_00029206_add.gif',\n",
       "   'http://lfyaklyqypvr852590.gcdn.ntruss.com/data/nature_data/images/addimg/00/00/01/13/60/b_00030034_add.gif',\n",
       "   'http://lfyaklyqypvr852590.gcdn.ntruss.com/data/nature_data/images/addimg/00/00/01/13/60/b_00030035_add.gif'],\n",
       "  'color': '02 브라운',\n",
       "  'category': 'HOME > 카테고리 > 포인트 메이크업',\n",
       "  'salePrice': 5900,\n",
       "  'originalPrice': 5900,\n",
       "  'brand': 'naturerepublic',\n",
       "  'volume': '0.8g'}]"
      ]
     },
     "metadata": {},
     "output_type": "display_data"
    },
    {
     "data": {
      "text/plain": [
       "[{'name': '바이 플라워 아이 섀도 19 워터멜론',\n",
       "  'url': 'https://www.naturerepublic.com/shop/goods_view.php?id=0000010849',\n",
       "  'image': ['http://lfyaklyqypvr852590.gcdn.ntruss.com/data/nature_data/images/product/00/00/01/08/49/b_0000010849.gif',\n",
       "   'http://lfyaklyqypvr852590.gcdn.ntruss.com/data/nature_data/images/addimg/00/00/01/08/49/b_00028778_add.gif'],\n",
       "  'color': '#',\n",
       "  'category': 'HOME > 카테고리 > 포인트 메이크업',\n",
       "  'salePrice': 4500,\n",
       "  'originalPrice': 4500,\n",
       "  'brand': 'naturerepublic',\n",
       "  'volume': '1.4g'}]"
      ]
     },
     "metadata": {},
     "output_type": "display_data"
    },
    {
     "data": {
      "text/plain": [
       "[{'name': '바이 플라워 아이 섀도 20 자몽 케익',\n",
       "  'url': 'https://www.naturerepublic.com/shop/goods_view.php?id=0000010850',\n",
       "  'image': ['http://lfyaklyqypvr852590.gcdn.ntruss.com/data/nature_data/images/product/00/00/01/08/50/b_0000010850.gif',\n",
       "   'http://lfyaklyqypvr852590.gcdn.ntruss.com/data/nature_data/images/addimg/00/00/01/08/50/b_00028779_add.gif'],\n",
       "  'color': '#',\n",
       "  'category': 'HOME > 카테고리 > 포인트 메이크업',\n",
       "  'salePrice': 4500,\n",
       "  'originalPrice': 4500,\n",
       "  'brand': 'naturerepublic',\n",
       "  'volume': '1.4g'}]"
      ]
     },
     "metadata": {},
     "output_type": "display_data"
    },
    {
     "data": {
      "text/plain": [
       "[{'name': '멀티플 듀얼 컨투어스틱 01 웜바닐라',\n",
       "  'url': 'https://www.naturerepublic.com/shop/goods_view.php?id=0000010853',\n",
       "  'image': ['http://lfyaklyqypvr852590.gcdn.ntruss.com/data/nature_data/images/product/00/00/01/08/53/b_0000010853.gif',\n",
       "   'http://lfyaklyqypvr852590.gcdn.ntruss.com/data/nature_data/images/addimg/00/00/01/08/53/b_00028783_add.gif',\n",
       "   'http://lfyaklyqypvr852590.gcdn.ntruss.com/data/nature_data/images/addimg/00/00/01/08/53/b_00028784_add.gif',\n",
       "   'http://lfyaklyqypvr852590.gcdn.ntruss.com/data/nature_data/images/addimg/00/00/01/08/53/b_00028785_add.gif',\n",
       "   'http://lfyaklyqypvr852590.gcdn.ntruss.com/data/nature_data/images/addimg/00/00/01/08/53/b_00028786_add.gif'],\n",
       "  'color': '#',\n",
       "  'category': 'HOME > 카테고리 > 포인트 메이크업',\n",
       "  'salePrice': 12900,\n",
       "  'originalPrice': 12900,\n",
       "  'brand': 'naturerepublic',\n",
       "  'volume': '9g'}]"
      ]
     },
     "metadata": {},
     "output_type": "display_data"
    },
    {
     "data": {
      "text/plain": [
       "[{'name': '바이 플라워 아이섀도 48호 다크초코 나이트',\n",
       "  'url': 'https://www.naturerepublic.com/shop/goods_view.php?id=0000011365',\n",
       "  'image': ['http://lfyaklyqypvr852590.gcdn.ntruss.com/data/nature_data/images/product/00/00/01/13/65/b_0000011365.gif',\n",
       "   'http://lfyaklyqypvr852590.gcdn.ntruss.com/data/nature_data/images/addimg/00/00/01/13/65/b_00029208_add.gif'],\n",
       "  'color': '#',\n",
       "  'category': 'HOME > 카테고리 > 포인트 메이크업',\n",
       "  'salePrice': 5500,\n",
       "  'originalPrice': 5500,\n",
       "  'brand': 'naturerepublic',\n",
       "  'volume': '2.5g'}]"
      ]
     },
     "metadata": {},
     "output_type": "display_data"
    },
    {
     "data": {
      "text/plain": [
       "[{'name': 'NEW 에코 크레용 립루즈 04 스칼렛 오렌지',\n",
       "  'url': 'https://www.naturerepublic.com/shop/goods_view.php?id=0000011621',\n",
       "  'image': ['http://lfyaklyqypvr852590.gcdn.ntruss.com/data/nature_data/images/product/00/00/01/16/21/b_0000011621.gif'],\n",
       "  'color': '#',\n",
       "  'category': 'HOME > 카테고리 > 포인트 메이크업',\n",
       "  'salePrice': 6000,\n",
       "  'originalPrice': 6000,\n",
       "  'brand': 'naturerepublic',\n",
       "  'volume': '2.5g'}]"
      ]
     },
     "metadata": {},
     "output_type": "display_data"
    },
    {
     "data": {
      "text/plain": [
       "[{'name': '퓨어 샤인 비비드 워터 틴트 01 체리 와인',\n",
       "  'url': 'https://www.naturerepublic.com/shop/goods_view.php?id=0000010854',\n",
       "  'image': ['http://lfyaklyqypvr852590.gcdn.ntruss.com/data/nature_data/images/product/00/00/01/08/54/b_0000010854.gif',\n",
       "   'http://lfyaklyqypvr852590.gcdn.ntruss.com/data/nature_data/images/addimg/00/00/01/08/54/b_00028787_add.gif',\n",
       "   'http://lfyaklyqypvr852590.gcdn.ntruss.com/data/nature_data/images/addimg/00/00/01/08/54/b_00028788_add.gif'],\n",
       "  'color': '#',\n",
       "  'category': 'HOME > 카테고리 > 포인트 메이크업',\n",
       "  'salePrice': 4620,\n",
       "  'originalPrice': 6600,\n",
       "  'brand': 'naturerepublic',\n",
       "  'volume': '9㎖'}]"
      ]
     },
     "metadata": {},
     "output_type": "display_data"
    },
    {
     "data": {
      "text/plain": [
       "[{'name': 'NEW 에코 크레용 립루즈 05 버건디 레드',\n",
       "  'url': 'https://www.naturerepublic.com/shop/goods_view.php?id=0000011622',\n",
       "  'image': ['http://lfyaklyqypvr852590.gcdn.ntruss.com/data/nature_data/images/product/00/00/01/16/22/b_0000011622.gif'],\n",
       "  'color': '#',\n",
       "  'category': 'HOME > 카테고리 > 포인트 메이크업',\n",
       "  'salePrice': 6000,\n",
       "  'originalPrice': 6000,\n",
       "  'brand': 'naturerepublic',\n",
       "  'volume': '2.5g'}]"
      ]
     },
     "metadata": {},
     "output_type": "display_data"
    },
    {
     "data": {
      "text/plain": [
       "[{'name': '[2018] 컬러 앤 네이처 네일 컬러 58호 비치 파티',\n",
       "  'url': 'https://www.naturerepublic.com/shop/goods_view.php?id=0000011386',\n",
       "  'image': ['http://lfyaklyqypvr852590.gcdn.ntruss.com/data/nature_data/images/product/00/00/01/13/86/b_0000011386.gif',\n",
       "   'http://lfyaklyqypvr852590.gcdn.ntruss.com/data/nature_data/images/addimg/00/00/01/13/86/b_00029235_add.gif'],\n",
       "  'color': '#',\n",
       "  'category': 'HOME > 카테고리 > 포인트 메이크업',\n",
       "  'salePrice': 3500,\n",
       "  'originalPrice': 3500,\n",
       "  'brand': 'naturerepublic',\n",
       "  'volume': '8㎖'}]"
      ]
     },
     "metadata": {},
     "output_type": "display_data"
    },
    {
     "data": {
      "text/plain": [
       "[{'name': '[GreenDeal] 바이 플라워 아이섀도 37호 프라이머 섀도 (201903 까지)',\n",
       "  'url': 'https://www.naturerepublic.com/shop/goods_view.php?id=0000010111',\n",
       "  'image': ['http://lfyaklyqypvr852590.gcdn.ntruss.com/data/nature_data/images/product/00/00/01/01/11/b_0000010111.gif',\n",
       "   'http://lfyaklyqypvr852590.gcdn.ntruss.com/data/nature_data/images/addimg/00/00/01/01/11/b_00027868_add.gif'],\n",
       "  'color': '#',\n",
       "  'category': 'HOME > 카테고리 > 포인트 메이크업',\n",
       "  'salePrice': 3800,\n",
       "  'originalPrice': 10000,\n",
       "  'brand': 'naturerepublic',\n",
       "  'volume': '4g'}]"
      ]
     },
     "metadata": {},
     "output_type": "display_data"
    },
    {
     "data": {
      "text/plain": [
       "[{'name': '보테니컬 쿠션 블러셔',\n",
       "  'url': 'https://www.naturerepublic.com/shop/goods_view.php?id=0000011649',\n",
       "  'image': ['http://lfyaklyqypvr852590.gcdn.ntruss.com/data/nature_data/images/product/00/00/01/16/49/b_0000011649.gif',\n",
       "   'http://lfyaklyqypvr852590.gcdn.ntruss.com/data/nature_data/images/addimg/00/00/01/16/49/b_00029559_add.gif',\n",
       "   'http://lfyaklyqypvr852590.gcdn.ntruss.com/data/nature_data/images/addimg/00/00/01/16/49/b_00029560_add.gif'],\n",
       "  'color': '#',\n",
       "  'category': 'HOME > 카테고리 > 포인트 메이크업',\n",
       "  'salePrice': 10900,\n",
       "  'originalPrice': 10900,\n",
       "  'brand': 'naturerepublic',\n",
       "  'volume': '8g'}]"
      ]
     },
     "metadata": {},
     "output_type": "display_data"
    },
    {
     "data": {
      "text/plain": [
       "[{'name': '보테니컬 쿠션 블러셔 02 애프리콧',\n",
       "  'url': 'https://www.naturerepublic.com/shop/goods_view.php?id=0000011650',\n",
       "  'image': ['http://lfyaklyqypvr852590.gcdn.ntruss.com/data/nature_data/images/product/00/00/01/16/50/b_0000011650.gif',\n",
       "   'http://lfyaklyqypvr852590.gcdn.ntruss.com/data/nature_data/images/addimg/00/00/01/16/50/b_00029561_add.gif',\n",
       "   'http://lfyaklyqypvr852590.gcdn.ntruss.com/data/nature_data/images/addimg/00/00/01/16/50/b_00029562_add.gif'],\n",
       "  'color': '#',\n",
       "  'category': 'HOME > 카테고리 > 포인트 메이크업',\n",
       "  'salePrice': 10900,\n",
       "  'originalPrice': 10900,\n",
       "  'brand': 'naturerepublic',\n",
       "  'volume': '8g'}]"
      ]
     },
     "metadata": {},
     "output_type": "display_data"
    },
    {
     "data": {
      "text/plain": [
       "[{'name': '[2018] 컬러 왈츠',\n",
       "  'url': 'https://www.naturerepublic.com/shop/goods_view.php?id=0000011139',\n",
       "  'image': ['http://lfyaklyqypvr852590.gcdn.ntruss.com/data/nature_data/images/product/00/00/01/11/39/b_0000011139.gif',\n",
       "   'http://lfyaklyqypvr852590.gcdn.ntruss.com/data/nature_data/images/addimg/00/00/01/11/39/b_00029015_add.gif'],\n",
       "  'color': '#',\n",
       "  'category': 'HOME > 카테고리 > 포인트 메이크업',\n",
       "  'salePrice': 1500,\n",
       "  'originalPrice': 1500,\n",
       "  'brand': 'naturerepublic',\n",
       "  'volume': '7㎖'}]"
      ]
     },
     "metadata": {},
     "output_type": "display_data"
    },
    {
     "data": {
      "text/plain": [
       "[{'name': '멀티플 터치 스틱 04 샤이닝 빔',\n",
       "  'url': 'https://www.naturerepublic.com/shop/goods_view.php?id=0000011651',\n",
       "  'image': ['http://lfyaklyqypvr852590.gcdn.ntruss.com/data/nature_data/images/product/00/00/01/16/51/b_0000011651.gif',\n",
       "   'http://lfyaklyqypvr852590.gcdn.ntruss.com/data/nature_data/images/addimg/00/00/01/16/51/b_00029563_add.gif'],\n",
       "  'color': '#',\n",
       "  'category': 'HOME > 카테고리 > 포인트 메이크업',\n",
       "  'salePrice': 12000,\n",
       "  'originalPrice': 12000,\n",
       "  'brand': 'naturerepublic',\n",
       "  'volume': '8g'}]"
      ]
     },
     "metadata": {},
     "output_type": "display_data"
    },
    {
     "data": {
      "text/plain": [
       "[{'name': '내추럴 버터 립밤 03 자몽',\n",
       "  'url': 'https://www.naturerepublic.com/shop/goods_view.php?id=0000011140',\n",
       "  'image': ['http://lfyaklyqypvr852590.gcdn.ntruss.com/data/nature_data/images/product/00/00/01/11/40/b_0000011140.gif',\n",
       "   'http://lfyaklyqypvr852590.gcdn.ntruss.com/data/nature_data/images/addimg/00/00/01/11/40/b_00029016_add.gif',\n",
       "   'http://lfyaklyqypvr852590.gcdn.ntruss.com/data/nature_data/images/addimg/00/00/01/11/40/b_00029017_add.gif'],\n",
       "  'color': '#',\n",
       "  'category': 'HOME > 카테고리 > 포인트 메이크업',\n",
       "  'salePrice': 6900,\n",
       "  'originalPrice': 6900,\n",
       "  'brand': 'naturerepublic',\n",
       "  'volume': '4g'}]"
      ]
     },
     "metadata": {},
     "output_type": "display_data"
    },
    {
     "data": {
      "text/plain": [
       "[{'name': '롱라스팅 올데이 픽서',\n",
       "  'url': 'https://www.naturerepublic.com/shop/goods_view.php?id=0000010118',\n",
       "  'image': ['http://lfyaklyqypvr852590.gcdn.ntruss.com/data/nature_data/images/product/00/00/01/01/18/b_0000010118.gif',\n",
       "   'http://lfyaklyqypvr852590.gcdn.ntruss.com/data/nature_data/images/addimg/00/00/01/01/18/b_00027877_add.gif',\n",
       "   'http://lfyaklyqypvr852590.gcdn.ntruss.com/data/nature_data/images/addimg/00/00/01/01/18/b_00027878_add.gif'],\n",
       "  'color': '#',\n",
       "  'category': 'HOME > 카테고리 > 포인트 메이크업',\n",
       "  'salePrice': 8800,\n",
       "  'originalPrice': 8800,\n",
       "  'brand': 'naturerepublic',\n",
       "  'volume': '9g'}]"
      ]
     },
     "metadata": {},
     "output_type": "display_data"
    },
    {
     "data": {
      "text/plain": [
       "[{'name': '[2018] 써니 젤 네일',\n",
       "  'url': 'https://www.naturerepublic.com/shop/goods_view.php?id=0000010886',\n",
       "  'image': ['http://lfyaklyqypvr852590.gcdn.ntruss.com/data/nature_data/images/product/00/00/01/08/86/b_0000010886.gif',\n",
       "   'http://lfyaklyqypvr852590.gcdn.ntruss.com/data/nature_data/images/addimg/00/00/01/08/86/b_00028824_add.gif'],\n",
       "  'color': '#',\n",
       "  'category': 'HOME > 카테고리 > 포인트 메이크업',\n",
       "  'salePrice': 4500,\n",
       "  'originalPrice': 4500,\n",
       "  'brand': 'naturerepublic',\n",
       "  'volume': '8.5㎖'}]"
      ]
     },
     "metadata": {},
     "output_type": "display_data"
    },
    {
     "data": {
      "text/plain": [
       "[{'name': '[2018] 써니 젤 네일 2호 편안한 기분',\n",
       "  'url': 'https://www.naturerepublic.com/shop/goods_view.php?id=0000010887',\n",
       "  'image': ['http://lfyaklyqypvr852590.gcdn.ntruss.com/data/nature_data/images/product/00/00/01/08/87/b_0000010887.gif'],\n",
       "  'color': '#',\n",
       "  'category': 'HOME > 카테고리 > 포인트 메이크업',\n",
       "  'salePrice': 4500,\n",
       "  'originalPrice': 4500,\n",
       "  'brand': 'naturerepublic',\n",
       "  'volume': '8.5㎖'}]"
      ]
     },
     "metadata": {},
     "output_type": "display_data"
    },
    {
     "data": {
      "text/plain": [
       "[{'name': '키스 마이 립 오일 01 스윗허니',\n",
       "  'url': 'https://www.naturerepublic.com/shop/goods_view.php?id=0000010120',\n",
       "  'image': ['http://lfyaklyqypvr852590.gcdn.ntruss.com/data/nature_data/images/product/00/00/01/01/20/b_0000010120.gif',\n",
       "   'http://lfyaklyqypvr852590.gcdn.ntruss.com/data/nature_data/images/addimg/00/00/01/01/20/b_00027879_add.gif',\n",
       "   'http://lfyaklyqypvr852590.gcdn.ntruss.com/data/nature_data/images/addimg/00/00/01/01/20/b_00027880_add.gif',\n",
       "   'http://lfyaklyqypvr852590.gcdn.ntruss.com/data/nature_data/images/addimg/00/00/01/01/20/b_00027881_add.gif',\n",
       "   'http://lfyaklyqypvr852590.gcdn.ntruss.com/data/nature_data/images/addimg/00/00/01/01/20/b_00027882_add.gif'],\n",
       "  'color': '#',\n",
       "  'category': 'HOME > 카테고리 > 포인트 메이크업',\n",
       "  'salePrice': 9900,\n",
       "  'originalPrice': 9900,\n",
       "  'brand': 'naturerepublic',\n",
       "  'volume': '7ml'}]"
      ]
     },
     "metadata": {},
     "output_type": "display_data"
    },
    {
     "data": {
      "text/plain": [
       "[{'name': '리얼 매트 립스틱 01 리얼 레드',\n",
       "  'url': 'https://www.naturerepublic.com/shop/goods_view.php?id=0000010888',\n",
       "  'image': ['http://lfyaklyqypvr852590.gcdn.ntruss.com/data/nature_data/images/product/00/00/01/08/88/b_0000010888.gif'],\n",
       "  'color': '#',\n",
       "  'category': 'HOME > 카테고리 > 포인트 메이크업',\n",
       "  'salePrice': 15000,\n",
       "  'originalPrice': 15000,\n",
       "  'brand': 'naturerepublic',\n",
       "  'volume': '4.5g'}]"
      ]
     },
     "metadata": {},
     "output_type": "display_data"
    },
    {
     "data": {
      "text/plain": [
       "[{'name': '프로방스 크리미 젤 아이라이너 01 올 댓 블랙',\n",
       "  'url': 'https://www.naturerepublic.com/shop/goods_view.php?id=0000011400',\n",
       "  'image': ['http://lfyaklyqypvr852590.gcdn.ntruss.com/data/nature_data/images/product/00/00/01/14/00/b_0000011400.gif',\n",
       "   'http://lfyaklyqypvr852590.gcdn.ntruss.com/data/nature_data/images/addimg/00/00/01/14/00/b_00029248_add.gif'],\n",
       "  'color': '#',\n",
       "  'category': 'HOME > 카테고리 > 포인트 메이크업',\n",
       "  'salePrice': 8000,\n",
       "  'originalPrice': 8000,\n",
       "  'brand': 'naturerepublic',\n",
       "  'volume': '0.5g'}]"
      ]
     },
     "metadata": {},
     "output_type": "display_data"
    },
    {
     "data": {
      "text/plain": [
       "[{'name': '리얼 매트 립스틱 02 브릭 오렌지',\n",
       "  'url': 'https://www.naturerepublic.com/shop/goods_view.php?id=0000010889',\n",
       "  'image': ['http://lfyaklyqypvr852590.gcdn.ntruss.com/data/nature_data/images/product/00/00/01/08/89/b_0000010889.gif'],\n",
       "  'color': '#',\n",
       "  'category': 'HOME > 카테고리 > 포인트 메이크업',\n",
       "  'salePrice': 15000,\n",
       "  'originalPrice': 15000,\n",
       "  'brand': 'naturerepublic',\n",
       "  'volume': '4.5g'}]"
      ]
     },
     "metadata": {},
     "output_type": "display_data"
    },
    {
     "data": {
      "text/plain": [
       "[{'name': '롱라스팅 스머지 섀도 스틱 07 시티 라이트',\n",
       "  'url': 'https://www.naturerepublic.com/shop/goods_view.php?id=0000011657',\n",
       "  'image': ['http://lfyaklyqypvr852590.gcdn.ntruss.com/data/nature_data/images/product/00/00/01/16/57/b_0000011657.gif',\n",
       "   'http://lfyaklyqypvr852590.gcdn.ntruss.com/data/nature_data/images/addimg/00/00/01/16/57/b_00029573_add.gif',\n",
       "   'http://lfyaklyqypvr852590.gcdn.ntruss.com/data/nature_data/images/addimg/00/00/01/16/57/b_00029574_add.gif'],\n",
       "  'color': '#',\n",
       "  'category': 'HOME > 카테고리 > 포인트 메이크업',\n",
       "  'salePrice': 7000,\n",
       "  'originalPrice': 7000,\n",
       "  'brand': 'naturerepublic',\n",
       "  'volume': '1.4g'}]"
      ]
     },
     "metadata": {},
     "output_type": "display_data"
    },
    {
     "data": {
      "text/plain": [
       "[{'name': '리얼 매트 립스틱 03 코랄 썬샤인',\n",
       "  'url': 'https://www.naturerepublic.com/shop/goods_view.php?id=0000010890',\n",
       "  'image': ['http://lfyaklyqypvr852590.gcdn.ntruss.com/data/nature_data/images/product/00/00/01/08/90/b_0000010890.gif'],\n",
       "  'color': '#',\n",
       "  'category': 'HOME > 카테고리 > 포인트 메이크업',\n",
       "  'salePrice': 15000,\n",
       "  'originalPrice': 15000,\n",
       "  'brand': 'naturerepublic',\n",
       "  'volume': '4.5g'}]"
      ]
     },
     "metadata": {},
     "output_type": "display_data"
    },
    {
     "data": {
      "text/plain": [
       "[{'name': '바이 플라워 아이 섀도 45 스모키 카키',\n",
       "  'url': 'https://www.naturerepublic.com/shop/goods_view.php?id=0000010815',\n",
       "  'image': ['http://lfyaklyqypvr852590.gcdn.ntruss.com/data/nature_data/images/product/00/00/01/08/15/b_0000010815.gif',\n",
       "   'http://lfyaklyqypvr852590.gcdn.ntruss.com/data/nature_data/images/addimg/00/00/01/08/15/b_00028739_add.gif'],\n",
       "  'color': '#',\n",
       "  'category': 'HOME > 카테고리 > 포인트 메이크업',\n",
       "  'salePrice': 5000,\n",
       "  'originalPrice': 5000,\n",
       "  'brand': 'naturerepublic',\n",
       "  'volume': '1.1g'}]"
      ]
     },
     "metadata": {},
     "output_type": "display_data"
    },
    {
     "data": {
      "text/plain": [
       "[{'name': '바이 플라워 아이 섀도 46 블랙 은하수',\n",
       "  'url': 'https://www.naturerepublic.com/shop/goods_view.php?id=0000010816',\n",
       "  'image': ['http://lfyaklyqypvr852590.gcdn.ntruss.com/data/nature_data/images/product/00/00/01/08/16/b_0000010816.gif',\n",
       "   'http://lfyaklyqypvr852590.gcdn.ntruss.com/data/nature_data/images/addimg/00/00/01/08/16/b_00028740_add.gif'],\n",
       "  'color': '#',\n",
       "  'category': 'HOME > 카테고리 > 포인트 메이크업',\n",
       "  'salePrice': 5000,\n",
       "  'originalPrice': 5000,\n",
       "  'brand': 'naturerepublic',\n",
       "  'volume': '1.1g'}]"
      ]
     },
     "metadata": {},
     "output_type": "display_data"
    },
    {
     "data": {
      "text/plain": [
       "[{'name': '보테니컬 스타일러 케익 아이브로우 02 모카 그레이',\n",
       "  'url': 'https://www.naturerepublic.com/shop/goods_view.php?id=0000011072',\n",
       "  'image': ['http://lfyaklyqypvr852590.gcdn.ntruss.com/data/nature_data/images/product/00/00/01/10/72/b_0000011072.gif',\n",
       "   'http://lfyaklyqypvr852590.gcdn.ntruss.com/data/nature_data/images/addimg/00/00/01/10/72/b_00029723_add.gif',\n",
       "   'http://lfyaklyqypvr852590.gcdn.ntruss.com/data/nature_data/images/addimg/00/00/01/10/72/b_00029724_add.gif'],\n",
       "  'color': '#',\n",
       "  'category': 'HOME > 카테고리 > 포인트 메이크업',\n",
       "  'salePrice': 12900,\n",
       "  'originalPrice': 12900,\n",
       "  'brand': 'naturerepublic',\n",
       "  'volume': '1g*3'}]"
      ]
     },
     "metadata": {},
     "output_type": "display_data"
    },
    {
     "data": {
      "text/plain": [
       "[{'name': '멀티플 터치 스틱 06 베이비 코랄',\n",
       "  'url': 'https://www.naturerepublic.com/shop/goods_view.php?id=0000011584',\n",
       "  'image': ['http://lfyaklyqypvr852590.gcdn.ntruss.com/data/nature_data/images/product/00/00/01/15/84/b_0000011584.gif',\n",
       "   'http://lfyaklyqypvr852590.gcdn.ntruss.com/data/nature_data/images/addimg/00/00/01/15/84/b_00029468_add.gif'],\n",
       "  'color': '#',\n",
       "  'category': 'HOME > 카테고리 > 포인트 메이크업',\n",
       "  'salePrice': 12000,\n",
       "  'originalPrice': 12000,\n",
       "  'brand': 'naturerepublic',\n",
       "  'volume': '8g'}]"
      ]
     },
     "metadata": {},
     "output_type": "display_data"
    },
    {
     "data": {
      "text/plain": [
       "[{'name': '바이 플라워 아이 섀도 32 새틴 마르살라',\n",
       "  'url': 'https://www.naturerepublic.com/shop/goods_view.php?id=0000010817',\n",
       "  'image': ['http://lfyaklyqypvr852590.gcdn.ntruss.com/data/nature_data/images/product/00/00/01/08/17/b_0000010817.gif',\n",
       "   'http://lfyaklyqypvr852590.gcdn.ntruss.com/data/nature_data/images/addimg/00/00/01/08/17/b_00028741_add.gif'],\n",
       "  'color': '#',\n",
       "  'category': 'HOME > 카테고리 > 포인트 메이크업',\n",
       "  'salePrice': 5000,\n",
       "  'originalPrice': 5000,\n",
       "  'brand': 'naturerepublic',\n",
       "  'volume': '1.2g'}]"
      ]
     },
     "metadata": {},
     "output_type": "display_data"
    },
    {
     "data": {
      "text/plain": [
       "[{'name': '인텐시브 잉크 립 래커 05 버건디 레드',\n",
       "  'url': 'https://www.naturerepublic.com/shop/goods_view.php?id=0000011073',\n",
       "  'image': ['http://lfyaklyqypvr852590.gcdn.ntruss.com/data/nature_data/images/product/00/00/01/10/73/b_0000011073.gif',\n",
       "   'http://lfyaklyqypvr852590.gcdn.ntruss.com/data/nature_data/images/addimg/00/00/01/10/73/b_00028945_add.gif'],\n",
       "  'color': '#',\n",
       "  'category': 'HOME > 카테고리 > 포인트 메이크업',\n",
       "  'salePrice': 12000,\n",
       "  'originalPrice': 12000,\n",
       "  'brand': 'naturerepublic',\n",
       "  'volume': '4.5g'}]"
      ]
     },
     "metadata": {},
     "output_type": "display_data"
    },
    {
     "data": {
      "text/plain": [
       "[{'name': '바이 플라워 아이 섀도 33 퍼플 라떼',\n",
       "  'url': 'https://www.naturerepublic.com/shop/goods_view.php?id=0000010818',\n",
       "  'image': ['http://lfyaklyqypvr852590.gcdn.ntruss.com/data/nature_data/images/product/00/00/01/08/18/b_0000010818.gif',\n",
       "   'http://lfyaklyqypvr852590.gcdn.ntruss.com/data/nature_data/images/addimg/00/00/01/08/18/b_00028742_add.gif'],\n",
       "  'color': '#',\n",
       "  'category': 'HOME > 카테고리 > 포인트 메이크업',\n",
       "  'salePrice': 5000,\n",
       "  'originalPrice': 5000,\n",
       "  'brand': 'naturerepublic',\n",
       "  'volume': '1.2g'}]"
      ]
     },
     "metadata": {},
     "output_type": "display_data"
    },
    {
     "data": {
      "text/plain": [
       "[{'name': '바이 플라워 아이 섀도 39 핑크 팝팝',\n",
       "  'url': 'https://www.naturerepublic.com/shop/goods_view.php?id=0000010819',\n",
       "  'image': ['http://lfyaklyqypvr852590.gcdn.ntruss.com/data/nature_data/images/product/00/00/01/08/19/b_0000010819.gif',\n",
       "   'http://lfyaklyqypvr852590.gcdn.ntruss.com/data/nature_data/images/addimg/00/00/01/08/19/b_00028743_add.gif'],\n",
       "  'color': '#',\n",
       "  'category': 'HOME > 카테고리 > 포인트 메이크업',\n",
       "  'salePrice': 5000,\n",
       "  'originalPrice': 5000,\n",
       "  'brand': 'naturerepublic',\n",
       "  'volume': '1.1g'}]"
      ]
     },
     "metadata": {},
     "output_type": "display_data"
    },
    {
     "data": {
      "text/plain": [
       "[{'name': '극세사 슬림핏 아이라이너',\n",
       "  'url': 'https://www.naturerepublic.com/shop/goods_view.php?id=0000011075',\n",
       "  'image': ['http://lfyaklyqypvr852590.gcdn.ntruss.com/data/nature_data/images/product/00/00/01/10/75/b_0000011075.gif',\n",
       "   'http://lfyaklyqypvr852590.gcdn.ntruss.com/data/nature_data/images/addimg/00/00/01/10/75/b_00030036_add.gif'],\n",
       "  'color': '01 블랙',\n",
       "  'category': 'HOME > 카테고리 > 포인트 메이크업',\n",
       "  'salePrice': 6900,\n",
       "  'originalPrice': 6900,\n",
       "  'brand': 'naturerepublic',\n",
       "  'volume': '0.05g'},\n",
       " {'name': '극세사 슬림핏 아이라이너',\n",
       "  'url': 'https://www.naturerepublic.com/shop/goods_view.php?id=0000011075',\n",
       "  'image': ['http://lfyaklyqypvr852590.gcdn.ntruss.com/data/nature_data/images/product/00/00/01/10/75/b_0000011075.gif',\n",
       "   'http://lfyaklyqypvr852590.gcdn.ntruss.com/data/nature_data/images/addimg/00/00/01/10/75/b_00030036_add.gif'],\n",
       "  'color': '02 브라운',\n",
       "  'category': 'HOME > 카테고리 > 포인트 메이크업',\n",
       "  'salePrice': 6900,\n",
       "  'originalPrice': 6900,\n",
       "  'brand': 'naturerepublic',\n",
       "  'volume': '0.05g'}]"
      ]
     },
     "metadata": {},
     "output_type": "display_data"
    },
    {
     "data": {
      "text/plain": [
       "[{'name': '[2017SS]프로방스 매직스텝 아이즈 02 걸리쉬핑크',\n",
       "  'url': 'https://www.naturerepublic.com/shop/goods_view.php?id=0000010564',\n",
       "  'image': ['http://lfyaklyqypvr852590.gcdn.ntruss.com/data/nature_data/images/product/00/00/01/05/64/b_0000010564.gif'],\n",
       "  'color': '#',\n",
       "  'category': 'HOME > 카테고리 > 포인트 메이크업',\n",
       "  'salePrice': 18900,\n",
       "  'originalPrice': 18900,\n",
       "  'brand': 'naturerepublic',\n",
       "  'volume': '7g'}]"
      ]
     },
     "metadata": {},
     "output_type": "display_data"
    },
    {
     "data": {
      "text/plain": [
       "[{'name': '바이 플라워 아이 섀도 40 타로 밀크티',\n",
       "  'url': 'https://www.naturerepublic.com/shop/goods_view.php?id=0000010820',\n",
       "  'image': ['http://lfyaklyqypvr852590.gcdn.ntruss.com/data/nature_data/images/product/00/00/01/08/20/b_0000010820.gif',\n",
       "   'http://lfyaklyqypvr852590.gcdn.ntruss.com/data/nature_data/images/addimg/00/00/01/08/20/b_00028744_add.gif'],\n",
       "  'color': '#',\n",
       "  'category': 'HOME > 카테고리 > 포인트 메이크업',\n",
       "  'salePrice': 5000,\n",
       "  'originalPrice': 5000,\n",
       "  'brand': 'naturerepublic',\n",
       "  'volume': '1.1g'}]"
      ]
     },
     "metadata": {},
     "output_type": "display_data"
    },
    {
     "data": {
      "text/plain": [
       "[{'name': '바이 플라워 아이 섀도 41 유쓰',\n",
       "  'url': 'https://www.naturerepublic.com/shop/goods_view.php?id=0000010821',\n",
       "  'image': ['http://lfyaklyqypvr852590.gcdn.ntruss.com/data/nature_data/images/product/00/00/01/08/21/b_0000010821.gif',\n",
       "   'http://lfyaklyqypvr852590.gcdn.ntruss.com/data/nature_data/images/addimg/00/00/01/08/21/b_00028745_add.gif'],\n",
       "  'color': '#',\n",
       "  'category': 'HOME > 카테고리 > 포인트 메이크업',\n",
       "  'salePrice': 5000,\n",
       "  'originalPrice': 5000,\n",
       "  'brand': 'naturerepublic',\n",
       "  'volume': '1.1g'}]"
      ]
     },
     "metadata": {},
     "output_type": "display_data"
    },
    {
     "data": {
      "text/plain": [
       "[{'name': '프로방스 크리미 젤 아이라이너 03 브라우니 스타',\n",
       "  'url': 'https://www.naturerepublic.com/shop/goods_view.php?id=0000011077',\n",
       "  'image': ['http://lfyaklyqypvr852590.gcdn.ntruss.com/data/nature_data/images/product/00/00/01/10/77/b_0000011077.gif'],\n",
       "  'color': '#',\n",
       "  'category': 'HOME > 카테고리 > 포인트 메이크업',\n",
       "  'salePrice': 8000,\n",
       "  'originalPrice': 8000,\n",
       "  'brand': 'naturerepublic',\n",
       "  'volume': '0.5g'}]"
      ]
     },
     "metadata": {},
     "output_type": "display_data"
    },
    {
     "data": {
      "text/plain": [
       "[{'name': '바이 플라워 아이 섀도 42 얼쓰 메탈',\n",
       "  'url': 'https://www.naturerepublic.com/shop/goods_view.php?id=0000010822',\n",
       "  'image': ['http://lfyaklyqypvr852590.gcdn.ntruss.com/data/nature_data/images/product/00/00/01/08/22/b_0000010822.gif',\n",
       "   'http://lfyaklyqypvr852590.gcdn.ntruss.com/data/nature_data/images/addimg/00/00/01/08/22/b_00028746_add.gif'],\n",
       "  'color': '#',\n",
       "  'category': 'HOME > 카테고리 > 포인트 메이크업',\n",
       "  'salePrice': 5000,\n",
       "  'originalPrice': 5000,\n",
       "  'brand': 'naturerepublic',\n",
       "  'volume': '1.1g'}]"
      ]
     },
     "metadata": {},
     "output_type": "display_data"
    },
    {
     "data": {
      "text/plain": [
       "[{'name': '프로방스 크리미 젤 아이라이너 04 드라이 메이플',\n",
       "  'url': 'https://www.naturerepublic.com/shop/goods_view.php?id=0000011078',\n",
       "  'image': ['http://lfyaklyqypvr852590.gcdn.ntruss.com/data/nature_data/images/product/00/00/01/10/78/b_0000011078.gif'],\n",
       "  'color': '#',\n",
       "  'category': 'HOME > 카테고리 > 포인트 메이크업',\n",
       "  'salePrice': 8000,\n",
       "  'originalPrice': 8000,\n",
       "  'brand': 'naturerepublic',\n",
       "  'volume': '0.5g'}]"
      ]
     },
     "metadata": {},
     "output_type": "display_data"
    },
    {
     "data": {
      "text/plain": [
       "[{'name': '바이 플라워 아이 섀도 25 피치 쉐이크',\n",
       "  'url': 'https://www.naturerepublic.com/shop/goods_view.php?id=0000010823',\n",
       "  'image': ['http://lfyaklyqypvr852590.gcdn.ntruss.com/data/nature_data/images/product/00/00/01/08/23/b_0000010823.gif',\n",
       "   'http://lfyaklyqypvr852590.gcdn.ntruss.com/data/nature_data/images/addimg/00/00/01/08/23/b_00028747_add.gif',\n",
       "   'http://lfyaklyqypvr852590.gcdn.ntruss.com/data/nature_data/images/addimg/00/00/01/08/23/b_00028748_add.gif'],\n",
       "  'color': '#',\n",
       "  'category': 'HOME > 카테고리 > 포인트 메이크업',\n",
       "  'salePrice': 5000,\n",
       "  'originalPrice': 5000,\n",
       "  'brand': 'naturerepublic',\n",
       "  'volume': '1.2g'}]"
      ]
     },
     "metadata": {},
     "output_type": "display_data"
    },
    {
     "data": {
      "text/plain": [
       "[{'name': '퓨어 샤인 비비드 워터 틴트 02 애플 주스',\n",
       "  'url': 'https://www.naturerepublic.com/shop/goods_view.php?id=0000010855',\n",
       "  'image': ['http://lfyaklyqypvr852590.gcdn.ntruss.com/data/nature_data/images/product/00/00/01/08/55/b_0000010855.gif',\n",
       "   'http://lfyaklyqypvr852590.gcdn.ntruss.com/data/nature_data/images/addimg/00/00/01/08/55/b_00028789_add.gif'],\n",
       "  'color': '#',\n",
       "  'category': 'HOME > 카테고리 > 포인트 메이크업',\n",
       "  'salePrice': 4620,\n",
       "  'originalPrice': 6600,\n",
       "  'brand': 'naturerepublic',\n",
       "  'volume': '9㎖'}]"
      ]
     },
     "metadata": {},
     "output_type": "display_data"
    },
    {
     "data": {
      "text/plain": [
       "[{'name': '퓨어 샤인 비비드 워터 틴트 03 자몽 에이드',\n",
       "  'url': 'https://www.naturerepublic.com/shop/goods_view.php?id=0000010856',\n",
       "  'image': ['http://lfyaklyqypvr852590.gcdn.ntruss.com/data/nature_data/images/product/00/00/01/08/56/b_0000010856.gif',\n",
       "   'http://lfyaklyqypvr852590.gcdn.ntruss.com/data/nature_data/images/addimg/00/00/01/08/56/b_00028790_add.gif'],\n",
       "  'color': '#',\n",
       "  'category': 'HOME > 카테고리 > 포인트 메이크업',\n",
       "  'salePrice': 4620,\n",
       "  'originalPrice': 6600,\n",
       "  'brand': 'naturerepublic',\n",
       "  'volume': '9㎖'}]"
      ]
     },
     "metadata": {},
     "output_type": "display_data"
    },
    {
     "data": {
      "text/plain": [
       "[{'name': '멀티플 듀얼 컨투어스틱 04 샤인핑크',\n",
       "  'url': 'https://www.naturerepublic.com/shop/goods_view.php?id=0000011624',\n",
       "  'image': ['http://lfyaklyqypvr852590.gcdn.ntruss.com/data/nature_data/images/product/00/00/01/16/24/b_0000011624.gif',\n",
       "   'http://lfyaklyqypvr852590.gcdn.ntruss.com/data/nature_data/images/addimg/00/00/01/16/24/b_00029517_add.gif',\n",
       "   'http://lfyaklyqypvr852590.gcdn.ntruss.com/data/nature_data/images/addimg/00/00/01/16/24/b_00029518_add.gif',\n",
       "   'http://lfyaklyqypvr852590.gcdn.ntruss.com/data/nature_data/images/addimg/00/00/01/16/24/b_00029519_add.gif',\n",
       "   'http://lfyaklyqypvr852590.gcdn.ntruss.com/data/nature_data/images/addimg/00/00/01/16/24/b_00029520_add.gif'],\n",
       "  'color': '#',\n",
       "  'category': 'HOME > 카테고리 > 포인트 메이크업',\n",
       "  'salePrice': 12900,\n",
       "  'originalPrice': 12900,\n",
       "  'brand': 'naturerepublic',\n",
       "  'volume': '9g'}]"
      ]
     },
     "metadata": {},
     "output_type": "display_data"
    },
    {
     "data": {
      "text/plain": [
       "[{'name': '바이 플라워 블러셔 5호 샤이 라일락',\n",
       "  'url': 'https://www.naturerepublic.com/shop/goods_view.php?id=0000011369',\n",
       "  'image': ['http://lfyaklyqypvr852590.gcdn.ntruss.com/data/nature_data/images/product/00/00/01/13/69/b_0000011369.gif',\n",
       "   'http://lfyaklyqypvr852590.gcdn.ntruss.com/data/nature_data/images/addimg/00/00/01/13/69/b_00029213_add.gif'],\n",
       "  'color': '#',\n",
       "  'category': 'HOME > 카테고리 > 포인트 메이크업',\n",
       "  'salePrice': 7000,\n",
       "  'originalPrice': 7000,\n",
       "  'brand': 'naturerepublic',\n",
       "  'volume': '5.5g'}]"
      ]
     },
     "metadata": {},
     "output_type": "display_data"
    },
    {
     "data": {
      "text/plain": [
       "[{'name': '글리터 라이너 02 골든 판타지',\n",
       "  'url': 'https://www.naturerepublic.com/shop/goods_view.php?id=0000010859',\n",
       "  'image': ['http://lfyaklyqypvr852590.gcdn.ntruss.com/data/nature_data/images/product/00/00/01/08/59/b_0000010859.gif'],\n",
       "  'color': '#',\n",
       "  'category': 'HOME > 카테고리 > 포인트 메이크업',\n",
       "  'salePrice': 7000,\n",
       "  'originalPrice': 7000,\n",
       "  'brand': 'naturerepublic',\n",
       "  'volume': '2.5g'}]"
      ]
     },
     "metadata": {},
     "output_type": "display_data"
    },
    {
     "data": {
      "text/plain": [
       "[{'name': '바이 플라워 블러셔 8호 시나몬 모카',\n",
       "  'url': 'https://www.naturerepublic.com/shop/goods_view.php?id=0000011372',\n",
       "  'image': ['http://lfyaklyqypvr852590.gcdn.ntruss.com/data/nature_data/images/product/00/00/01/13/72/b_0000011372.gif',\n",
       "   'http://lfyaklyqypvr852590.gcdn.ntruss.com/data/nature_data/images/addimg/00/00/01/13/72/b_00029216_add.gif'],\n",
       "  'color': '#',\n",
       "  'category': 'HOME > 카테고리 > 포인트 메이크업',\n",
       "  'salePrice': 7000,\n",
       "  'originalPrice': 7000,\n",
       "  'brand': 'naturerepublic',\n",
       "  'volume': '5.5g'}]"
      ]
     },
     "metadata": {},
     "output_type": "display_data"
    },
    {
     "data": {
      "text/plain": [
       "[{'name': '크리미 립스틱 13 글램 베이지',\n",
       "  'url': 'https://www.naturerepublic.com/shop/goods_view.php?id=0000011633',\n",
       "  'image': ['http://lfyaklyqypvr852590.gcdn.ntruss.com/data/nature_data/images/product/00/00/01/16/33/b_0000011633.gif',\n",
       "   'http://lfyaklyqypvr852590.gcdn.ntruss.com/data/nature_data/images/addimg/00/00/01/16/33/b_00029538_add.gif'],\n",
       "  'color': '#',\n",
       "  'category': 'HOME > 카테고리 > 포인트 메이크업',\n",
       "  'salePrice': 12000,\n",
       "  'originalPrice': 12000,\n",
       "  'brand': 'naturerepublic',\n",
       "  'volume': '3.9g'}]"
      ]
     },
     "metadata": {},
     "output_type": "display_data"
    },
    {
     "data": {
      "text/plain": [
       "[{'name': '써니 젤 네일 탑코트',\n",
       "  'url': 'https://www.naturerepublic.com/shop/goods_view.php?id=0000010870',\n",
       "  'image': ['http://lfyaklyqypvr852590.gcdn.ntruss.com/data/nature_data/images/product/00/00/01/08/70/b_0000010870.gif'],\n",
       "  'color': '#',\n",
       "  'category': 'HOME > 카테고리 > 포인트 메이크업',\n",
       "  'salePrice': 5500,\n",
       "  'originalPrice': 5500,\n",
       "  'brand': 'naturerepublic',\n",
       "  'volume': '8.5g'}]"
      ]
     },
     "metadata": {},
     "output_type": "display_data"
    },
    {
     "data": {
      "text/plain": [
       "[{'name': '모이스트 엔젤 립밤',\n",
       "  'url': 'https://www.naturerepublic.com/shop/goods_view.php?id=0000010871',\n",
       "  'image': ['http://lfyaklyqypvr852590.gcdn.ntruss.com/data/nature_data/images/product/00/00/01/08/71/b_0000010871.gif',\n",
       "   'http://lfyaklyqypvr852590.gcdn.ntruss.com/data/nature_data/images/addimg/00/00/01/08/71/b_00028801_add.gif'],\n",
       "  'color': '#',\n",
       "  'category': 'HOME > 카테고리 > 포인트 메이크업',\n",
       "  'salePrice': 6930,\n",
       "  'originalPrice': 9900,\n",
       "  'brand': 'naturerepublic',\n",
       "  'volume': '3.3g'}]"
      ]
     },
     "metadata": {},
     "output_type": "display_data"
    },
    {
     "data": {
      "text/plain": [
       "[{'name': '[2018] 컬러 앤 네이처 네일 컬러 54호 메이플 쥬얼리',\n",
       "  'url': 'https://www.naturerepublic.com/shop/goods_view.php?id=0000011383',\n",
       "  'image': ['http://lfyaklyqypvr852590.gcdn.ntruss.com/data/nature_data/images/product/00/00/01/13/83/b_0000011383.gif',\n",
       "   'http://lfyaklyqypvr852590.gcdn.ntruss.com/data/nature_data/images/addimg/00/00/01/13/83/b_00029233_add.gif'],\n",
       "  'color': '#',\n",
       "  'category': 'HOME > 카테고리 > 포인트 메이크업',\n",
       "  'salePrice': 3500,\n",
       "  'originalPrice': 3500,\n",
       "  'brand': 'naturerepublic',\n",
       "  'volume': '8㎖'}]"
      ]
     },
     "metadata": {},
     "output_type": "display_data"
    },
    {
     "data": {
      "text/plain": [
       "[{'name': '바이 플라워 아이 섀도 02 프라이머',\n",
       "  'url': 'https://www.naturerepublic.com/shop/goods_view.php?id=0000010872',\n",
       "  'image': ['http://lfyaklyqypvr852590.gcdn.ntruss.com/data/nature_data/images/product/00/00/01/08/72/b_0000010872.gif',\n",
       "   'http://lfyaklyqypvr852590.gcdn.ntruss.com/data/nature_data/images/addimg/00/00/01/08/72/b_00028802_add.gif'],\n",
       "  'color': '#',\n",
       "  'category': 'HOME > 카테고리 > 포인트 메이크업',\n",
       "  'salePrice': 5500,\n",
       "  'originalPrice': 5500,\n",
       "  'brand': 'naturerepublic',\n",
       "  'volume': '1.4g'}]"
      ]
     },
     "metadata": {},
     "output_type": "display_data"
    },
    {
     "data": {
      "text/plain": [
       "[{'name': '내추럴 버터 립밤 01 체리',\n",
       "  'url': 'https://www.naturerepublic.com/shop/goods_view.php?id=0000011128',\n",
       "  'image': ['http://lfyaklyqypvr852590.gcdn.ntruss.com/data/nature_data/images/product/00/00/01/11/28/b_0000011128.gif',\n",
       "   'http://lfyaklyqypvr852590.gcdn.ntruss.com/data/nature_data/images/addimg/00/00/01/11/28/b_00029001_add.gif',\n",
       "   'http://lfyaklyqypvr852590.gcdn.ntruss.com/data/nature_data/images/addimg/00/00/01/11/28/b_00029002_add.gif'],\n",
       "  'color': '#',\n",
       "  'category': 'HOME > 카테고리 > 포인트 메이크업',\n",
       "  'salePrice': 6900,\n",
       "  'originalPrice': 6900,\n",
       "  'brand': 'naturerepublic',\n",
       "  'volume': '4g'}]"
      ]
     },
     "metadata": {},
     "output_type": "display_data"
    },
    {
     "data": {
      "text/plain": [
       "[{'name': '프로 터치 섀도 10구 팔레트',\n",
       "  'url': 'https://www.naturerepublic.com/shop/goods_view.php?id=0000010617',\n",
       "  'image': ['http://lfyaklyqypvr852590.gcdn.ntruss.com/data/nature_data/images/product/00/00/01/06/17/b_0000010617.gif',\n",
       "   'http://lfyaklyqypvr852590.gcdn.ntruss.com/data/nature_data/images/addimg/00/00/01/06/17/b_00028569_add.gif'],\n",
       "  'color': '#',\n",
       "  'category': 'HOME > 카테고리 > 포인트 메이크업',\n",
       "  'salePrice': 15500,\n",
       "  'originalPrice': 31000,\n",
       "  'brand': 'naturerepublic',\n",
       "  'volume': '10g'}]"
      ]
     },
     "metadata": {},
     "output_type": "display_data"
    },
    {
     "data": {
      "text/plain": [
       "[{'name': '바이 플라워 아이 섀도 03 골드 베일',\n",
       "  'url': 'https://www.naturerepublic.com/shop/goods_view.php?id=0000010873',\n",
       "  'image': ['http://lfyaklyqypvr852590.gcdn.ntruss.com/data/nature_data/images/product/00/00/01/08/73/b_0000010873.gif',\n",
       "   'http://lfyaklyqypvr852590.gcdn.ntruss.com/data/nature_data/images/addimg/00/00/01/08/73/b_00028803_add.gif'],\n",
       "  'color': '#',\n",
       "  'category': 'HOME > 카테고리 > 포인트 메이크업',\n",
       "  'salePrice': 5500,\n",
       "  'originalPrice': 5500,\n",
       "  'brand': 'naturerepublic',\n",
       "  'volume': '1.4g'}]"
      ]
     },
     "metadata": {},
     "output_type": "display_data"
    },
    {
     "data": {
      "text/plain": [
       "[{'name': '[2018] 컬러 앤 네이처 네일 컬러 57호 실버 커플링',\n",
       "  'url': 'https://www.naturerepublic.com/shop/goods_view.php?id=0000011385',\n",
       "  'image': ['http://lfyaklyqypvr852590.gcdn.ntruss.com/data/nature_data/images/product/00/00/01/13/85/b_0000011385.gif',\n",
       "   'http://lfyaklyqypvr852590.gcdn.ntruss.com/data/nature_data/images/addimg/00/00/01/13/85/b_00029234_add.gif'],\n",
       "  'color': '#',\n",
       "  'category': 'HOME > 카테고리 > 포인트 메이크업',\n",
       "  'salePrice': 3500,\n",
       "  'originalPrice': 3500,\n",
       "  'brand': 'naturerepublic',\n",
       "  'volume': '8㎖'}]"
      ]
     },
     "metadata": {},
     "output_type": "display_data"
    },
    {
     "data": {
      "text/plain": [
       "[{'name': '바이 플라워 아이 섀도 05 로즈 스파클',\n",
       "  'url': 'https://www.naturerepublic.com/shop/goods_view.php?id=0000010874',\n",
       "  'image': ['http://lfyaklyqypvr852590.gcdn.ntruss.com/data/nature_data/images/product/00/00/01/08/74/b_0000010874.gif',\n",
       "   'http://lfyaklyqypvr852590.gcdn.ntruss.com/data/nature_data/images/addimg/00/00/01/08/74/b_00028804_add.gif'],\n",
       "  'color': '#',\n",
       "  'category': 'HOME > 카테고리 > 포인트 메이크업',\n",
       "  'salePrice': 5500,\n",
       "  'originalPrice': 5500,\n",
       "  'brand': 'naturerepublic',\n",
       "  'volume': '1.4g'}]"
      ]
     },
     "metadata": {},
     "output_type": "display_data"
    },
    {
     "data": {
      "text/plain": [
       "[{'name': '내추럴 버터 립밤 04 망고',\n",
       "  'url': 'https://www.naturerepublic.com/shop/goods_view.php?id=0000011148',\n",
       "  'image': ['http://lfyaklyqypvr852590.gcdn.ntruss.com/data/nature_data/images/product/00/00/01/11/48/b_0000011148.gif',\n",
       "   'http://lfyaklyqypvr852590.gcdn.ntruss.com/data/nature_data/images/addimg/00/00/01/11/48/b_00029024_add.gif',\n",
       "   'http://lfyaklyqypvr852590.gcdn.ntruss.com/data/nature_data/images/addimg/00/00/01/11/48/b_00029025_add.gif'],\n",
       "  'color': '#',\n",
       "  'category': 'HOME > 카테고리 > 포인트 메이크업',\n",
       "  'salePrice': 6900,\n",
       "  'originalPrice': 6900,\n",
       "  'brand': 'naturerepublic',\n",
       "  'volume': '4g'}]"
      ]
     },
     "metadata": {},
     "output_type": "display_data"
    },
    {
     "data": {
      "text/plain": [
       "[{'name': '리얼 매트 립스틱 04 핑크 마카롱',\n",
       "  'url': 'https://www.naturerepublic.com/shop/goods_view.php?id=0000010893',\n",
       "  'image': ['http://lfyaklyqypvr852590.gcdn.ntruss.com/data/nature_data/images/product/00/00/01/08/93/b_0000010893.gif'],\n",
       "  'color': '#',\n",
       "  'category': 'HOME > 카테고리 > 포인트 메이크업',\n",
       "  'salePrice': 15000,\n",
       "  'originalPrice': 15000,\n",
       "  'brand': 'naturerepublic',\n",
       "  'volume': '4.5g'}]"
      ]
     },
     "metadata": {},
     "output_type": "display_data"
    },
    {
     "data": {
      "text/plain": [
       "[{'name': '내추럴 버터 립밤 05 라임 민트',\n",
       "  'url': 'https://www.naturerepublic.com/shop/goods_view.php?id=0000011149',\n",
       "  'image': ['http://lfyaklyqypvr852590.gcdn.ntruss.com/data/nature_data/images/product/00/00/01/11/49/b_0000011149.gif',\n",
       "   'http://lfyaklyqypvr852590.gcdn.ntruss.com/data/nature_data/images/addimg/00/00/01/11/49/b_00029026_add.gif',\n",
       "   'http://lfyaklyqypvr852590.gcdn.ntruss.com/data/nature_data/images/addimg/00/00/01/11/49/b_00029027_add.gif'],\n",
       "  'color': '#',\n",
       "  'category': 'HOME > 카테고리 > 포인트 메이크업',\n",
       "  'salePrice': 6900,\n",
       "  'originalPrice': 6900,\n",
       "  'brand': 'naturerepublic',\n",
       "  'volume': '4g'}]"
      ]
     },
     "metadata": {},
     "output_type": "display_data"
    },
    {
     "data": {
      "text/plain": [
       "[{'name': '리얼 매트 립스틱 05 스파클링 핑크',\n",
       "  'url': 'https://www.naturerepublic.com/shop/goods_view.php?id=0000010894',\n",
       "  'image': ['http://lfyaklyqypvr852590.gcdn.ntruss.com/data/nature_data/images/product/00/00/01/08/94/b_0000010894.gif'],\n",
       "  'color': '#',\n",
       "  'category': 'HOME > 카테고리 > 포인트 메이크업',\n",
       "  'salePrice': 15000,\n",
       "  'originalPrice': 15000,\n",
       "  'brand': 'naturerepublic',\n",
       "  'volume': '4.5g'}]"
      ]
     },
     "metadata": {},
     "output_type": "display_data"
    },
    {
     "data": {
      "text/plain": [
       "[{'name': '퓨어 샤인 멜팅 틴트 01 새콤한 오렌지',\n",
       "  'url': 'https://www.naturerepublic.com/shop/goods_view.php?id=0000010895',\n",
       "  'image': ['http://lfyaklyqypvr852590.gcdn.ntruss.com/data/nature_data/images/product/00/00/01/08/95/b_0000010895.gif',\n",
       "   'http://lfyaklyqypvr852590.gcdn.ntruss.com/data/nature_data/images/addimg/00/00/01/08/95/b_00028826_add.gif',\n",
       "   'http://lfyaklyqypvr852590.gcdn.ntruss.com/data/nature_data/images/addimg/00/00/01/08/95/b_00028827_add.gif'],\n",
       "  'color': '#',\n",
       "  'category': 'HOME > 카테고리 > 포인트 메이크업',\n",
       "  'salePrice': 4130,\n",
       "  'originalPrice': 5900,\n",
       "  'brand': 'naturerepublic',\n",
       "  'volume': '2g'}]"
      ]
     },
     "metadata": {},
     "output_type": "display_data"
    },
    {
     "data": {
      "text/plain": [
       "[{'name': '인텐시브 잉크 립 래커',\n",
       "  'url': 'https://www.naturerepublic.com/shop/goods_view.php?id=0000010896',\n",
       "  'image': ['http://lfyaklyqypvr852590.gcdn.ntruss.com/data/nature_data/images/product/00/00/01/08/96/b_0000010896.gif',\n",
       "   'http://lfyaklyqypvr852590.gcdn.ntruss.com/data/nature_data/images/addimg/00/00/01/08/96/b_00028828_add.gif',\n",
       "   'http://lfyaklyqypvr852590.gcdn.ntruss.com/data/nature_data/images/addimg/00/00/01/08/96/b_00028829_add.gif'],\n",
       "  'color': '#',\n",
       "  'category': 'HOME > 카테고리 > 포인트 메이크업',\n",
       "  'salePrice': 12000,\n",
       "  'originalPrice': 12000,\n",
       "  'brand': 'naturerepublic',\n",
       "  'volume': '4.5g'}]"
      ]
     },
     "metadata": {},
     "output_type": "display_data"
    },
    {
     "data": {
      "text/plain": [
       "[{'name': '[GreenDeal] 크리스탈 아이 틴트 07 러브 메이플 (201903 까지)',\n",
       "  'url': 'https://www.naturerepublic.com/shop/goods_view.php?id=0000011667',\n",
       "  'image': ['http://lfyaklyqypvr852590.gcdn.ntruss.com/data/nature_data/images/product/00/00/01/16/67/b_0000011667.gif',\n",
       "   'http://lfyaklyqypvr852590.gcdn.ntruss.com/data/nature_data/images/addimg/00/00/01/16/67/b_00029586_add.gif'],\n",
       "  'color': '#',\n",
       "  'category': 'HOME > 카테고리 > 포인트 메이크업',\n",
       "  'salePrice': 2700,\n",
       "  'originalPrice': 9000,\n",
       "  'brand': 'naturerepublic',\n",
       "  'volume': '4g'}]"
      ]
     },
     "metadata": {},
     "output_type": "display_data"
    },
    {
     "data": {
      "text/plain": [
       "[{'name': '[2018] 컬러 앤 네이처 네일 케어 미러 탑코트',\n",
       "  'url': 'https://www.naturerepublic.com/shop/goods_view.php?id=0000010132',\n",
       "  'image': ['http://lfyaklyqypvr852590.gcdn.ntruss.com/data/nature_data/images/product/00/00/01/01/32/b_0000010132.gif'],\n",
       "  'color': '#',\n",
       "  'category': 'HOME > 카테고리 > 포인트 메이크업',\n",
       "  'salePrice': 4500,\n",
       "  'originalPrice': 4500,\n",
       "  'brand': 'naturerepublic',\n",
       "  'volume': '8㎖'}]"
      ]
     },
     "metadata": {},
     "output_type": "display_data"
    },
    {
     "data": {
      "text/plain": [
       "[{'name': '[GreenDeal] 크리스탈 아이 틴트 08 빈티지 골드 (201903 까지)',\n",
       "  'url': 'https://www.naturerepublic.com/shop/goods_view.php?id=0000011668',\n",
       "  'image': ['http://lfyaklyqypvr852590.gcdn.ntruss.com/data/nature_data/images/product/00/00/01/16/68/b_0000011668.gif',\n",
       "   'http://lfyaklyqypvr852590.gcdn.ntruss.com/data/nature_data/images/addimg/00/00/01/16/68/b_00029587_add.gif'],\n",
       "  'color': '#',\n",
       "  'category': 'HOME > 카테고리 > 포인트 메이크업',\n",
       "  'salePrice': 2700,\n",
       "  'originalPrice': 9000,\n",
       "  'brand': 'naturerepublic',\n",
       "  'volume': '4g'}]"
      ]
     },
     "metadata": {},
     "output_type": "display_data"
    },
    {
     "data": {
      "text/plain": [
       "[{'name': '크리미 립스틱 01 어텀 로즈',\n",
       "  'url': 'https://www.naturerepublic.com/shop/goods_view.php?id=0000010901',\n",
       "  'image': ['http://lfyaklyqypvr852590.gcdn.ntruss.com/data/nature_data/images/product/00/00/01/09/01/b_0000010901.gif',\n",
       "   'http://lfyaklyqypvr852590.gcdn.ntruss.com/data/nature_data/images/addimg/00/00/01/09/01/b_00028835_add.gif'],\n",
       "  'color': '#',\n",
       "  'category': 'HOME > 카테고리 > 포인트 메이크업',\n",
       "  'salePrice': 12000,\n",
       "  'originalPrice': 12000,\n",
       "  'brand': 'naturerepublic',\n",
       "  'volume': '3.9g'}]"
      ]
     },
     "metadata": {},
     "output_type": "display_data"
    },
    {
     "data": {
      "text/plain": [
       "[{'name': '크리미 립스틱 06 플래쉬 핑크',\n",
       "  'url': 'https://www.naturerepublic.com/shop/goods_view.php?id=0000011669',\n",
       "  'image': ['http://lfyaklyqypvr852590.gcdn.ntruss.com/data/nature_data/images/product/00/00/01/16/69/b_0000011669.gif'],\n",
       "  'color': '#',\n",
       "  'category': 'HOME > 카테고리 > 포인트 메이크업',\n",
       "  'salePrice': 12000,\n",
       "  'originalPrice': 12000,\n",
       "  'brand': 'naturerepublic',\n",
       "  'volume': '3.9g'}]"
      ]
     },
     "metadata": {},
     "output_type": "display_data"
    },
    {
     "data": {
      "text/plain": [
       "[{'name': '모이스트 엔젤 립밤 02 크랜베리 틴트밤',\n",
       "  'url': 'https://www.naturerepublic.com/shop/goods_view.php?id=0000011158',\n",
       "  'image': ['http://lfyaklyqypvr852590.gcdn.ntruss.com/data/nature_data/images/product/00/00/01/11/58/b_0000011158.gif',\n",
       "   'http://lfyaklyqypvr852590.gcdn.ntruss.com/data/nature_data/images/addimg/00/00/01/11/58/b_00029036_add.gif'],\n",
       "  'color': '#',\n",
       "  'category': 'HOME > 카테고리 > 포인트 메이크업',\n",
       "  'salePrice': 6930,\n",
       "  'originalPrice': 9900,\n",
       "  'brand': 'naturerepublic',\n",
       "  'volume': '3.3g'}]"
      ]
     },
     "metadata": {},
     "output_type": "display_data"
    },
    {
     "data": {
      "text/plain": [
       "[{'name': '바이 플라워 블러셔 1호 핑크 블라썸',\n",
       "  'url': 'https://www.naturerepublic.com/shop/goods_view.php?id=0000010903',\n",
       "  'image': ['http://lfyaklyqypvr852590.gcdn.ntruss.com/data/nature_data/images/product/00/00/01/09/03/b_0000010903.gif',\n",
       "   'http://lfyaklyqypvr852590.gcdn.ntruss.com/data/nature_data/images/addimg/00/00/01/09/03/b_00028837_add.gif'],\n",
       "  'color': '#',\n",
       "  'category': 'HOME > 카테고리 > 포인트 메이크업',\n",
       "  'salePrice': 7000,\n",
       "  'originalPrice': 7000,\n",
       "  'brand': 'naturerepublic',\n",
       "  'volume': '5.5g'}]"
      ]
     },
     "metadata": {},
     "output_type": "display_data"
    },
    {
     "data": {
      "text/plain": [
       "[{'name': '키스 마이 무스 틴트 6종 키트 (핑크)',\n",
       "  'url': 'https://www.naturerepublic.com/shop/goods_view.php?id=0000010137',\n",
       "  'image': ['http://lfyaklyqypvr852590.gcdn.ntruss.com/data/nature_data/images/product/00/00/01/01/37/b_0000010137.gif',\n",
       "   'http://lfyaklyqypvr852590.gcdn.ntruss.com/data/nature_data/images/addimg/00/00/01/01/37/b_00027912_add.gif',\n",
       "   'http://lfyaklyqypvr852590.gcdn.ntruss.com/data/nature_data/images/addimg/00/00/01/01/37/b_00027913_add.gif'],\n",
       "  'color': '#',\n",
       "  'category': 'HOME > 카테고리 > 포인트 메이크업',\n",
       "  'salePrice': 21000,\n",
       "  'originalPrice': 30000,\n",
       "  'brand': 'naturerepublic',\n",
       "  'volume': '9g'}]"
      ]
     },
     "metadata": {},
     "output_type": "display_data"
    },
    {
     "data": {
      "text/plain": [
       "[{'name': '컬러 앤 네이처 리얼 글리터 3호 브론즈',\n",
       "  'url': 'https://www.naturerepublic.com/shop/goods_view.php?id=0000011674',\n",
       "  'image': ['http://lfyaklyqypvr852590.gcdn.ntruss.com/data/nature_data/images/product/00/00/01/16/74/b_0000011674.gif',\n",
       "   'http://lfyaklyqypvr852590.gcdn.ntruss.com/data/nature_data/images/addimg/00/00/01/16/74/b_00029592_add.gif'],\n",
       "  'color': '#',\n",
       "  'category': 'HOME > 카테고리 > 포인트 메이크업',\n",
       "  'salePrice': 2500,\n",
       "  'originalPrice': 2500,\n",
       "  'brand': 'naturerepublic',\n",
       "  'volume': '1ea'}]"
      ]
     },
     "metadata": {},
     "output_type": "display_data"
    },
    {
     "data": {
      "text/plain": [
       "[{'name': '모이스트 엔젤 립밤 03 오렌지 틴트밤',\n",
       "  'url': 'https://www.naturerepublic.com/shop/goods_view.php?id=0000011167',\n",
       "  'image': ['http://lfyaklyqypvr852590.gcdn.ntruss.com/data/nature_data/images/product/00/00/01/11/67/b_0000011167.gif',\n",
       "   'http://lfyaklyqypvr852590.gcdn.ntruss.com/data/nature_data/images/addimg/00/00/01/11/67/b_00029044_add.gif'],\n",
       "  'color': '#',\n",
       "  'category': 'HOME > 카테고리 > 포인트 메이크업',\n",
       "  'salePrice': 6930,\n",
       "  'originalPrice': 9900,\n",
       "  'brand': 'naturerepublic',\n",
       "  'volume': '3.3g'}]"
      ]
     },
     "metadata": {},
     "output_type": "display_data"
    },
    {
     "data": {
      "text/plain": [
       "[{'name': '[GreenDeal] 프로방스 매직스텝 아이즈 03 로지 블루 (201903 까지)',\n",
       "  'url': 'https://www.naturerepublic.com/shop/goods_view.php?id=0000011168',\n",
       "  'image': ['http://lfyaklyqypvr852590.gcdn.ntruss.com/data/nature_data/images/product/00/00/01/11/68/b_0000011168.gif',\n",
       "   'http://lfyaklyqypvr852590.gcdn.ntruss.com/data/nature_data/images/addimg/00/00/01/11/68/b_00029045_add.gif',\n",
       "   'http://lfyaklyqypvr852590.gcdn.ntruss.com/data/nature_data/images/addimg/00/00/01/11/68/b_00029046_add.gif',\n",
       "   'http://lfyaklyqypvr852590.gcdn.ntruss.com/data/nature_data/images/addimg/00/00/01/11/68/b_00029047_add.gif'],\n",
       "  'color': '#',\n",
       "  'category': 'HOME > 카테고리 > 포인트 메이크업',\n",
       "  'salePrice': 5370,\n",
       "  'originalPrice': 17900,\n",
       "  'brand': 'naturerepublic',\n",
       "  'volume': '7g'}]"
      ]
     },
     "metadata": {},
     "output_type": "display_data"
    },
    {
     "data": {
      "text/plain": [
       "[{'name': '[2018] 컬러 앤 네이처 네일 컬러 39호 라이징 선',\n",
       "  'url': 'https://www.naturerepublic.com/shop/goods_view.php?id=0000010913',\n",
       "  'image': ['http://lfyaklyqypvr852590.gcdn.ntruss.com/data/nature_data/images/product/00/00/01/09/13/b_0000010913.gif',\n",
       "   'http://lfyaklyqypvr852590.gcdn.ntruss.com/data/nature_data/images/addimg/00/00/01/09/13/b_00028846_add.gif'],\n",
       "  'color': '#',\n",
       "  'category': 'HOME > 카테고리 > 포인트 메이크업',\n",
       "  'salePrice': 3500,\n",
       "  'originalPrice': 3500,\n",
       "  'brand': 'naturerepublic',\n",
       "  'volume': '8㎖'}]"
      ]
     },
     "metadata": {},
     "output_type": "display_data"
    },
    {
     "data": {
      "text/plain": [
       "[{'name': '컬러 앤 네이처 네일 스티커 4호 쥬얼 체인',\n",
       "  'url': 'https://www.naturerepublic.com/shop/goods_view.php?id=0000011681',\n",
       "  'image': ['http://lfyaklyqypvr852590.gcdn.ntruss.com/data/nature_data/images/product/00/00/01/16/81/b_0000011681.gif'],\n",
       "  'color': '#',\n",
       "  'category': 'HOME > 카테고리 > 포인트 메이크업',\n",
       "  'salePrice': 2500,\n",
       "  'originalPrice': 2500,\n",
       "  'brand': 'naturerepublic',\n",
       "  'volume': '1ea'}]"
      ]
     },
     "metadata": {},
     "output_type": "display_data"
    },
    {
     "data": {
      "text/plain": [
       "[{'name': '[2018] 컬러 앤 네이처 네일 컬러 40호 칠리 페퍼',\n",
       "  'url': 'https://www.naturerepublic.com/shop/goods_view.php?id=0000010914',\n",
       "  'image': ['http://lfyaklyqypvr852590.gcdn.ntruss.com/data/nature_data/images/product/00/00/01/09/14/b_0000010914.gif',\n",
       "   'http://lfyaklyqypvr852590.gcdn.ntruss.com/data/nature_data/images/addimg/00/00/01/09/14/b_00028847_add.gif'],\n",
       "  'color': '#',\n",
       "  'category': 'HOME > 카테고리 > 포인트 메이크업',\n",
       "  'salePrice': 3500,\n",
       "  'originalPrice': 3500,\n",
       "  'brand': 'naturerepublic',\n",
       "  'volume': '8㎖'}]"
      ]
     },
     "metadata": {},
     "output_type": "display_data"
    },
    {
     "data": {
      "text/plain": [
       "[{'name': '컬러 앤 네이처 페이크 타투 스티커 1호 골드 레터링',\n",
       "  'url': 'https://www.naturerepublic.com/shop/goods_view.php?id=0000011682',\n",
       "  'image': ['http://lfyaklyqypvr852590.gcdn.ntruss.com/data/nature_data/images/product/00/00/01/16/82/b_0000011682.gif'],\n",
       "  'color': '#',\n",
       "  'category': 'HOME > 카테고리 > 포인트 메이크업',\n",
       "  'salePrice': 3000,\n",
       "  'originalPrice': 3000,\n",
       "  'brand': 'naturerepublic',\n",
       "  'volume': '1ea'}]"
      ]
     },
     "metadata": {},
     "output_type": "display_data"
    },
    {
     "data": {
      "text/plain": [
       "[{'name': '프로 터치 컬러 마스터 섀도 팔레트',\n",
       "  'url': 'https://www.naturerepublic.com/shop/goods_view.php?id=0000009891',\n",
       "  'image': ['http://lfyaklyqypvr852590.gcdn.ntruss.com/data/nature_data/images/product/00/00/00/98/91/b_0000009891.gif',\n",
       "   'http://lfyaklyqypvr852590.gcdn.ntruss.com/data/nature_data/images/addimg/00/00/00/98/91/b_00027602_add.gif',\n",
       "   'http://lfyaklyqypvr852590.gcdn.ntruss.com/data/nature_data/images/addimg/00/00/00/98/91/b_00027603_add.gif',\n",
       "   'http://lfyaklyqypvr852590.gcdn.ntruss.com/data/nature_data/images/addimg/00/00/00/98/91/b_00027604_add.gif',\n",
       "   'http://lfyaklyqypvr852590.gcdn.ntruss.com/data/nature_data/images/addimg/00/00/00/98/91/b_00027605_add.gif'],\n",
       "  'color': '#',\n",
       "  'category': 'HOME > 카테고리 > 포인트 메이크업',\n",
       "  'salePrice': 24900,\n",
       "  'originalPrice': 49800,\n",
       "  'brand': 'naturerepublic',\n",
       "  'volume': '14g'}]"
      ]
     },
     "metadata": {},
     "output_type": "display_data"
    },
    {
     "data": {
      "text/plain": [
       "[{'name': '[2018] 컬러 앤 네이처 네일 컬러 42호 포트 와인',\n",
       "  'url': 'https://www.naturerepublic.com/shop/goods_view.php?id=0000010915',\n",
       "  'image': ['http://lfyaklyqypvr852590.gcdn.ntruss.com/data/nature_data/images/product/00/00/01/09/15/b_0000010915.gif',\n",
       "   'http://lfyaklyqypvr852590.gcdn.ntruss.com/data/nature_data/images/addimg/00/00/01/09/15/b_00028848_add.gif'],\n",
       "  'color': '#',\n",
       "  'category': 'HOME > 카테고리 > 포인트 메이크업',\n",
       "  'salePrice': 3500,\n",
       "  'originalPrice': 3500,\n",
       "  'brand': 'naturerepublic',\n",
       "  'volume': '8㎖'}]"
      ]
     },
     "metadata": {},
     "output_type": "display_data"
    },
    {
     "data": {
      "text/plain": [
       "[{'name': '세럼 인 틴트 02 핑크 스캔들',\n",
       "  'url': 'https://www.naturerepublic.com/shop/goods_view.php?id=0000011427',\n",
       "  'image': ['http://lfyaklyqypvr852590.gcdn.ntruss.com/data/nature_data/images/product/00/00/01/14/27/b_0000011427.gif'],\n",
       "  'color': '#',\n",
       "  'category': 'HOME > 카테고리 > 포인트 메이크업',\n",
       "  'salePrice': 8400,\n",
       "  'originalPrice': 12000,\n",
       "  'brand': 'naturerepublic',\n",
       "  'volume': '4g'}]"
      ]
     },
     "metadata": {},
     "output_type": "display_data"
    },
    {
     "data": {
      "text/plain": [
       "[{'name': '컬러 앤 네이처 페이크 타투 스티커 2호 블랙 레터링',\n",
       "  'url': 'https://www.naturerepublic.com/shop/goods_view.php?id=0000011683',\n",
       "  'image': ['http://lfyaklyqypvr852590.gcdn.ntruss.com/data/nature_data/images/product/00/00/01/16/83/b_0000011683.gif'],\n",
       "  'color': '#',\n",
       "  'category': 'HOME > 카테고리 > 포인트 메이크업',\n",
       "  'salePrice': 3000,\n",
       "  'originalPrice': 3000,\n",
       "  'brand': 'naturerepublic',\n",
       "  'volume': '1ea'}]"
      ]
     },
     "metadata": {},
     "output_type": "display_data"
    },
    {
     "data": {
      "text/plain": [
       "[{'name': '초강력 네일 리무버',\n",
       "  'url': 'https://www.naturerepublic.com/shop/goods_view.php?id=0000009892',\n",
       "  'image': ['http://lfyaklyqypvr852590.gcdn.ntruss.com/data/nature_data/images/product/00/00/00/98/92/b_0000009892.gif'],\n",
       "  'color': '#',\n",
       "  'category': 'HOME > 카테고리 > 포인트 메이크업',\n",
       "  'salePrice': 3000,\n",
       "  'originalPrice': 3000,\n",
       "  'brand': 'naturerepublic',\n",
       "  'volume': '100ml'}]"
      ]
     },
     "metadata": {},
     "output_type": "display_data"
    },
    {
     "data": {
      "text/plain": [
       "[{'name': '[2018] 컬러 앤 네이처 네일 컬러 43호 웜 그레이',\n",
       "  'url': 'https://www.naturerepublic.com/shop/goods_view.php?id=0000010916',\n",
       "  'image': ['http://lfyaklyqypvr852590.gcdn.ntruss.com/data/nature_data/images/product/00/00/01/09/16/b_0000010916.gif',\n",
       "   'http://lfyaklyqypvr852590.gcdn.ntruss.com/data/nature_data/images/addimg/00/00/01/09/16/b_00028849_add.gif'],\n",
       "  'color': '#',\n",
       "  'category': 'HOME > 카테고리 > 포인트 메이크업',\n",
       "  'salePrice': 3500,\n",
       "  'originalPrice': 3500,\n",
       "  'brand': 'naturerepublic',\n",
       "  'volume': '8㎖'}]"
      ]
     },
     "metadata": {},
     "output_type": "display_data"
    },
    {
     "data": {
      "text/plain": [
       "[{'name': '세럼 인 틴트 03 탠저린 자몽',\n",
       "  'url': 'https://www.naturerepublic.com/shop/goods_view.php?id=0000011428',\n",
       "  'image': ['http://lfyaklyqypvr852590.gcdn.ntruss.com/data/nature_data/images/product/00/00/01/14/28/b_0000011428.gif'],\n",
       "  'color': '#',\n",
       "  'category': 'HOME > 카테고리 > 포인트 메이크업',\n",
       "  'salePrice': 8400,\n",
       "  'originalPrice': 12000,\n",
       "  'brand': 'naturerepublic',\n",
       "  'volume': '4g'}]"
      ]
     },
     "metadata": {},
     "output_type": "display_data"
    }
   ],
   "source": [
    "start_time = time.time() \n",
    "#-------------------------------------------------------------#\n",
    "categoryList = getCategoryList(url_products)\n",
    "result = []\n",
    "for category in categoryList:\n",
    "    driver.get(category)\n",
    "    driver.execute_script(\"window.scrollTo(0, 0)\") \n",
    "    clickSeeMoreButton()\n",
    "    itemList = getItemList()\n",
    "    \n",
    "    totalItemNum = driver.find_element_by_class_name('sel_cat').text\n",
    "    print('상품 개수:',totalItemNum)\n",
    "    if getNumber(totalItemNum) > len(itemList):\n",
    "        print('크롤링된 개수:',len(itemList))\n",
    "        print('더보기 버튼이 충분히 눌려지지 않았습니다.')\n",
    "        raise \n",
    "        \n",
    "    for item in itemList:\n",
    "        driver.get(item)\n",
    "        result += getItem()\n",
    "#-------------------------------------------------------------#\n",
    "print(\"--- %0.2f seconds ---\" %(time.time() - start_time))"
   ]
  },
  {
   "cell_type": "code",
   "execution_count": null,
   "metadata": {},
   "outputs": [],
   "source": [
    "output = json.dumps(result,ensure_ascii=False, indent='\\t')\n",
    "\n",
    "writeJSON(output, output_name = 'naturerepublic.json')"
   ]
  },
  {
   "cell_type": "code",
   "execution_count": null,
   "metadata": {},
   "outputs": [],
   "source": []
  }
 ],
 "metadata": {
  "kernelspec": {
   "display_name": "Python 3",
   "language": "python",
   "name": "python3"
  },
  "language_info": {
   "codemirror_mode": {
    "name": "ipython",
    "version": 3
   },
   "file_extension": ".py",
   "mimetype": "text/x-python",
   "name": "python",
   "nbconvert_exporter": "python",
   "pygments_lexer": "ipython3",
   "version": "3.7.0"
  }
 },
 "nbformat": 4,
 "nbformat_minor": 2
}
