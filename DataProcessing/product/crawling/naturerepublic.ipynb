{
 "cells": [
  {
   "cell_type": "markdown",
   "metadata": {},
   "source": [
    "# naturerepublic"
   ]
  },
  {
   "cell_type": "code",
   "execution_count": 1,
   "metadata": {},
   "outputs": [],
   "source": [
    "from bs4 import BeautifulSoup as bs              # 데이터파싱 라이브러리\n",
    "from selenium import webdriver\n",
    "import json\n",
    "import platform\n",
    "import re\n",
    "import time\n",
    "import copy"
   ]
  },
  {
   "cell_type": "code",
   "execution_count": 2,
   "metadata": {},
   "outputs": [],
   "source": [
    "def getNumber(string):\n",
    "    numExtracter = re.compile('[0-9]+')\n",
    "    return int(''.join(numExtracter.findall(string)))\n",
    "    "
   ]
  },
  {
   "cell_type": "code",
   "execution_count": 3,
   "metadata": {},
   "outputs": [],
   "source": [
    "def writeJSON(jsonString, output_name='data.json'):\n",
    "    with open(output_name,'w',encoding='UTF-8') as file:\n",
    "        file.write(jsonString)\n"
   ]
  },
  {
   "cell_type": "code",
   "execution_count": 4,
   "metadata": {},
   "outputs": [],
   "source": [
    "path = 'chromedriver.exe' if (platform.system() == 'Windows') else '/Users/jg/Desktop/develop/DataTeam/DataProcessing/product/crawling/chromedriver';\n",
    "driver = webdriver.Chrome(path)\n",
    "\n",
    "url_home = 'https://www.naturerepublic.com'\n",
    "url_products = 'https://www.naturerepublic.com/shop/goods_list.php?cid=000000000000000&depth=0'\n",
    "driver.get(url_products)"
   ]
  },
  {
   "cell_type": "code",
   "execution_count": 5,
   "metadata": {},
   "outputs": [],
   "source": [
    "# getCategoryList\n",
    "\n",
    "driver.get(url_products)\n",
    "html = driver.page_source\n",
    "soup = bs(html,'html.parser')\n",
    "categories = soup.find('ul',{'class':'tab_category'})\n",
    "categoryList = []\n",
    "for category in categories:\n",
    "    try:\n",
    "        categoryList.append(url_home + category.li.a['href'])\n",
    "    except:\n",
    "        pass"
   ]
  },
  {
   "cell_type": "code",
   "execution_count": 6,
   "metadata": {},
   "outputs": [],
   "source": [
    "# getItemList\n",
    "\n",
    "driver.get(categoryList[0])    \n",
    "html = driver.page_source\n",
    "soup = bs(html,'html.parser')\n",
    "items = soup.find('ul',{'product_list contents_list'})\n",
    "itemList = []\n",
    "for i, item in enumerate(items):\n",
    "    try:\n",
    "        itemList.append(url_home + item.a['href'])\n",
    "    except:\n",
    "        pass"
   ]
  },
  {
   "cell_type": "code",
   "execution_count": 7,
   "metadata": {},
   "outputs": [
    {
     "data": {
      "text/plain": [
       "['https://www.naturerepublic.com/shop/goods_view.php?id=0000012117',\n",
       " 'https://www.naturerepublic.com/shop/goods_view.php?id=0000012116',\n",
       " 'https://www.naturerepublic.com/shop/goods_view.php?id=0000012102',\n",
       " 'https://www.naturerepublic.com/shop/goods_view.php?id=0000012101',\n",
       " 'https://www.naturerepublic.com/shop/goods_view.php?id=0000012098',\n",
       " 'https://www.naturerepublic.com/shop/goods_view.php?id=0000012023',\n",
       " 'https://www.naturerepublic.com/shop/goods_view.php?id=0000011974',\n",
       " 'https://www.naturerepublic.com/shop/goods_view.php?id=0000011969',\n",
       " 'https://www.naturerepublic.com/shop/goods_view.php?id=0000011947',\n",
       " 'https://www.naturerepublic.com/shop/goods_view.php?id=0000011936',\n",
       " 'https://www.naturerepublic.com/shop/goods_view.php?id=0000010687',\n",
       " 'https://www.naturerepublic.com/shop/goods_view.php?id=0000010212',\n",
       " 'https://www.naturerepublic.com/shop/goods_view.php?id=0000010756',\n",
       " 'https://www.naturerepublic.com/shop/goods_view.php?id=0000011270',\n",
       " 'https://www.naturerepublic.com/shop/goods_view.php?id=0000010503',\n",
       " 'https://www.naturerepublic.com/shop/goods_view.php?id=0000010506']"
      ]
     },
     "execution_count": 7,
     "metadata": {},
     "output_type": "execute_result"
    }
   ],
   "source": [
    "itemList # 더보기 클릭문제 해결해야한다."
   ]
  },
  {
   "cell_type": "code",
   "execution_count": null,
   "metadata": {},
   "outputs": [],
   "source": [
    "html = driver.page_source\n",
    "soup = bs(html, 'html.parser')\n",
    "seeMoreButton = soup.find{'a',{'class':'btn_more arrow'}}"
   ]
  },
  {
   "cell_type": "code",
   "execution_count": 24,
   "metadata": {},
   "outputs": [
    {
     "name": "stdout",
     "output_type": "stream",
     "text": [
      "category : 스킨케어\n",
      "category : 팩/마스크\n",
      "category : 페이스메이크업\n",
      "category : 컬러메이크업\n",
      "category : 클렌징\n",
      "category : 바디\n",
      "category : 네일\n",
      "category : 헤어\n",
      "category : 방향\n",
      "category : 미용소품\n",
      "category : 남성\n",
      "category : 라이프 스타일\n",
      "category : 온라인 전용\n",
      "category : 마이파운데이션\n",
      "start_time 1547710305.1649578\n",
      "--- 2049.026768922806 seconds ---\n"
     ]
    }
   ],
   "source": [
    "start_time = time.time() \n",
    "#-------------------------------------------------------------#\n",
    "#-------------------------------------------------------------#\n",
    "print(\"--- %s seconds ---\" %(time.time() - start_time))"
   ]
  },
  {
   "cell_type": "code",
   "execution_count": 25,
   "metadata": {},
   "outputs": [],
   "source": [
    "output = json.dumps(result_json,ensure_ascii=False, indent='\\t')\n",
    "\n",
    "writeJSON(output, output_name = 'innisfree.json')"
   ]
  },
  {
   "cell_type": "code",
   "execution_count": null,
   "metadata": {},
   "outputs": [],
   "source": []
  }
 ],
 "metadata": {
  "kernelspec": {
   "display_name": "Python 3",
   "language": "python",
   "name": "python3"
  },
  "language_info": {
   "codemirror_mode": {
    "name": "ipython",
    "version": 3
   },
   "file_extension": ".py",
   "mimetype": "text/x-python",
   "name": "python",
   "nbconvert_exporter": "python",
   "pygments_lexer": "ipython3",
   "version": "3.7.0"
  }
 },
 "nbformat": 4,
 "nbformat_minor": 2
}
