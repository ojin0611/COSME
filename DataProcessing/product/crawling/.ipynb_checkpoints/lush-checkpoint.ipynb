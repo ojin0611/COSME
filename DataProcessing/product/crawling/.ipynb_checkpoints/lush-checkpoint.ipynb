{
 "cells": [
  {
   "cell_type": "markdown",
   "metadata": {},
   "source": [
    "# lush"
   ]
  },
  {
   "cell_type": "code",
   "execution_count": 1,
   "metadata": {},
   "outputs": [],
   "source": [
    "from bs4 import BeautifulSoup as bs              # 데이터파싱 라이브러리\n",
    "from selenium import webdriver\n",
    "import json\n",
    "import platform\n",
    "import re\n",
    "import time\n",
    "import copy"
   ]
  },
  {
   "cell_type": "code",
   "execution_count": 2,
   "metadata": {},
   "outputs": [],
   "source": [
    "def getNumber(string):\n",
    "    numExtracter = re.compile('[0-9]+')\n",
    "    return int(''.join(numExtracter.findall(string)))\n",
    "    "
   ]
  },
  {
   "cell_type": "code",
   "execution_count": 3,
   "metadata": {},
   "outputs": [],
   "source": [
    "def getCategoryList():\n",
    "    html = driver.page_source\n",
    "    soup = bs(html, 'html.parser')\n",
    "    categories = soup.find('div',{'class':'all-category-layer category db'}).div.ul.li.ul\n",
    "\n",
    "    categoryList=[]\n",
    "    for category in categories:\n",
    "        if '베스트' in category.a.get_text():\n",
    "            continue\n",
    "        categoryList.append(url_home + category.a['href'][2:])    \n",
    "    return categoryList\n"
   ]
  },
  {
   "cell_type": "code",
   "execution_count": 4,
   "metadata": {},
   "outputs": [],
   "source": [
    "def getItemList():\n",
    "    html = driver.page_source\n",
    "    soup = bs(html, 'html.parser')\n",
    "    items = soup.find('ul',{'class':'prdList'}).find_all('li')\n",
    "    itemList = []\n",
    "    for item in items:\n",
    "        itemList.append(url_home + item.a['href'][2:])\n",
    "    return itemList"
   ]
  },
  {
   "cell_type": "code",
   "execution_count": 5,
   "metadata": {},
   "outputs": [],
   "source": [
    "def readNextPage():\n",
    "    html = driver.page_source\n",
    "    soup = bs(html, 'html.parser')\n",
    "    items = soup.find('ul',{'class':'pagination pagination-sm'})\n",
    "    nextPage = False\n",
    "    for item in items:\n",
    "        if nextPage:\n",
    "            driver.get(url_home +'/goods' + item.a['href'][1:])\n",
    "            nextPage = False\n",
    "        if not item.find('a'):\n",
    "            nextPage = True\n",
    "            if item.get_text() == str(len(items)):\n",
    "                raise"
   ]
  },
  {
   "cell_type": "code",
   "execution_count": 35,
   "metadata": {},
   "outputs": [],
   "source": [
    "def getItem():\n",
    "    html = driver.page_source\n",
    "    soup = bs(html, 'html.parser')\n",
    "    item={}\n",
    "\n",
    "    # name\n",
    "    name = soup.find('div',{'class':'tit'}).get_text().strip()\n",
    "\n",
    "    # image\n",
    "    images = soup.find('div',{'class':'more-thumbnail'}).div.div.div.div.find_all('span')\n",
    "    imageList = []\n",
    "    for image in images:\n",
    "        imageList.append(url_home + image.img['src'])\n",
    "\n",
    "    # category\n",
    "    path\n",
    "    categories = soup.find('div',{'class':'path'}).find_all('div',{'class':'navi'})\n",
    "    category = ''\n",
    "    for c in categories:\n",
    "        category += c.a.get_text().strip()+' > '\n",
    "    category = category[:-3]\n",
    "\n",
    "    # price\n",
    "    salePrice = getNumber(soup.find('strong',text = ' 판매가').parent.div.strong.get_text())\n",
    "    originalPrice = salePrice\n",
    "\n",
    "    item['name']=name\n",
    "    item['image']=imageList\n",
    "    item['category']=category\n",
    "    item['salePrice']=salePrice\n",
    "    item['originalPrice']=originalPrice\n",
    "    item['brand'] = '러쉬'\n",
    "    item['url'] = driver.current_url\n",
    "    item['color'] = ''\n",
    "\n",
    "    items = []    \n",
    "    # volume\n",
    "    volumes = soup.find('select',{'name':'optionSnoInput'})\n",
    "    if volumes:\n",
    "        volumes = volumes.find_all('option')\n",
    "        for volume in volumes:\n",
    "            volume = ''.join(volume.get_text().split())\n",
    "            if '옵션' in volume:\n",
    "                continue\n",
    "\n",
    "            item_copy = copy.deepcopy(item)\n",
    "            item_copy['volume'] = volume\n",
    "            items.append(item_copy)\n",
    "    else:\n",
    "        item['volume']=''\n",
    "        items.append(item)\n",
    "\n",
    "    display(items)\n",
    "    return items"
   ]
  },
  {
   "cell_type": "code",
   "execution_count": 7,
   "metadata": {},
   "outputs": [],
   "source": [
    "def writeJSON(jsonString, output_name='data.json'):\n",
    "    with open(output_name,'w',encoding='UTF-8') as file:\n",
    "        file.write(jsonString)\n"
   ]
  },
  {
   "cell_type": "code",
   "execution_count": 37,
   "metadata": {},
   "outputs": [],
   "source": [
    "path = 'chromedriver.exe' if (platform.system() == 'Windows') else '/Users/jg/Desktop/develop/DataTeam/DataProcessing/product/crawling/chromedriver';\n",
    "driver = webdriver.Chrome(path)\n",
    "\n",
    "url_home = 'https://lush.co.kr'\n",
    "url_products = 'https://lush.co.kr/goods/goods_list.php?cateCd=001013'\n",
    "driver.get(url_products)"
   ]
  },
  {
   "cell_type": "code",
   "execution_count": 39,
   "metadata": {},
   "outputs": [
    {
     "data": {
      "text/plain": [
       "[{'name': '가디스',\n",
       "  'image': ['https://lush.co.kr/data/goods/18/12/50/1000000118/t50_1000000118_detail_075.png'],\n",
       "  'category': '러쉬 > 배쓰',\n",
       "  'salePrice': 19000,\n",
       "  'originalPrice': 19000,\n",
       "  'brand': '러쉬',\n",
       "  'url': 'https://lush.co.kr/goods/goods_view.php?goodsNo=1000000118',\n",
       "  'color': '',\n",
       "  'volume': ''}]"
      ]
     },
     "metadata": {},
     "output_type": "display_data"
    },
    {
     "data": {
      "text/plain": [
       "[{'name': '아임 포에버 블로잉 버블스',\n",
       "  'image': ['https://lush.co.kr/data/goods/18/12/50/1000000117/t50_1000000117_detail_039.png'],\n",
       "  'category': '러쉬 > 배쓰',\n",
       "  'salePrice': 21000,\n",
       "  'originalPrice': 21000,\n",
       "  'brand': '러쉬',\n",
       "  'url': 'https://lush.co.kr/goods/goods_view.php?goodsNo=1000000117',\n",
       "  'color': '',\n",
       "  'volume': ''}]"
      ]
     },
     "metadata": {},
     "output_type": "display_data"
    },
    {
     "data": {
      "text/plain": [
       "[{'name': '가디언 오브 더 포레스트',\n",
       "  'image': ['https://lush.co.kr/data/goods/18/12/49/1000000105/t50_1000000105_detail_031.png'],\n",
       "  'category': '러쉬 > 배쓰 > 배쓰 밤',\n",
       "  'salePrice': 17000,\n",
       "  'originalPrice': 17000,\n",
       "  'brand': '러쉬',\n",
       "  'url': 'https://lush.co.kr/goods/goods_view.php?goodsNo=1000000105',\n",
       "  'color': '',\n",
       "  'volume': ''}]"
      ]
     },
     "metadata": {},
     "output_type": "display_data"
    },
    {
     "data": {
      "text/plain": [
       "[{'name': '핑크 페티그레인 버블 스피너',\n",
       "  'image': ['https://lush.co.kr/data/goods/18/11/48/1000000028/t50_1000000028_detail_098.png'],\n",
       "  'category': '러쉬 > 배쓰 > 버블 바',\n",
       "  'salePrice': 21000,\n",
       "  'originalPrice': 21000,\n",
       "  'brand': '러쉬',\n",
       "  'url': 'https://lush.co.kr/goods/goods_view.php?goodsNo=1000000028',\n",
       "  'color': '',\n",
       "  'volume': ''}]"
      ]
     },
     "metadata": {},
     "output_type": "display_data"
    },
    {
     "data": {
      "text/plain": [
       "[{'name': '캔디 버블 브러시',\n",
       "  'image': ['https://lush.co.kr/data/goods/18/11/48/1000000025/t50_1000000025_detail_025.png'],\n",
       "  'category': '러쉬 > 배쓰 > 버블 바',\n",
       "  'salePrice': 21000,\n",
       "  'originalPrice': 21000,\n",
       "  'brand': '러쉬',\n",
       "  'url': 'https://lush.co.kr/goods/goods_view.php?goodsNo=1000000025',\n",
       "  'color': '',\n",
       "  'volume': ''}]"
      ]
     },
     "metadata": {},
     "output_type": "display_data"
    },
    {
     "data": {
      "text/plain": [
       "[{'name': '레몬 버블 브러시',\n",
       "  'image': ['https://lush.co.kr/data/goods/18/11/48/1000000024/t50_1000000024_detail_074.png'],\n",
       "  'category': '러쉬 > 배쓰 > 버블 바',\n",
       "  'salePrice': 21000,\n",
       "  'originalPrice': 21000,\n",
       "  'brand': '러쉬',\n",
       "  'url': 'https://lush.co.kr/goods/goods_view.php?goodsNo=1000000024',\n",
       "  'color': '',\n",
       "  'volume': ''}]"
      ]
     },
     "metadata": {},
     "output_type": "display_data"
    },
    {
     "data": {
      "text/plain": [
       "[{'name': '바닐라리',\n",
       "  'image': ['https://lush.co.kr/data/goods/18/12/50/1000000116/t50_1000000116_detail_099.png',\n",
       "   'https://lush.co.kr/data/goods/18/12/50/1000000116/t50_1000000116_detail_131.png'],\n",
       "  'category': '러쉬 > 보디 > 보디 스프레이',\n",
       "  'salePrice': 65000,\n",
       "  'originalPrice': 65000,\n",
       "  'brand': '러쉬',\n",
       "  'url': 'https://lush.co.kr/goods/goods_view.php?goodsNo=1000000116',\n",
       "  'color': '',\n",
       "  'volume': ''}]"
      ]
     },
     "metadata": {},
     "output_type": "display_data"
    },
    {
     "data": {
      "text/plain": [
       "[{'name': '로즈 잼',\n",
       "  'image': ['https://lush.co.kr/data/goods/17/08/16/247/t50_247_detail_081.png',\n",
       "   'https://lush.co.kr/data/goods/17/08/16/247/t50_247_detail_127.png'],\n",
       "  'category': '러쉬 > 보디 > 보디 스프레이',\n",
       "  'salePrice': 65000,\n",
       "  'originalPrice': 65000,\n",
       "  'brand': '러쉬',\n",
       "  'url': 'https://lush.co.kr/goods/goods_view.php?goodsNo=247',\n",
       "  'color': '',\n",
       "  'volume': ''}]"
      ]
     },
     "metadata": {},
     "output_type": "display_data"
    },
    {
     "data": {
      "text/plain": [
       "[{'name': '골든 페어',\n",
       "  'image': ['https://lush.co.kr/data/goods/18/12/49/1000000091/t50_1000000091_detail_029.png',\n",
       "   'https://lush.co.kr/data/goods/18/12/49/1000000091/t50_1000000091_detail_119.png'],\n",
       "  'category': '러쉬 > 보디 > 보디 스프레이',\n",
       "  'salePrice': 50000,\n",
       "  'originalPrice': 50000,\n",
       "  'brand': '러쉬',\n",
       "  'url': 'https://lush.co.kr/goods/goods_view.php?goodsNo=1000000091',\n",
       "  'color': '',\n",
       "  'volume': ''}]"
      ]
     },
     "metadata": {},
     "output_type": "display_data"
    },
    {
     "data": {
      "text/plain": [
       "[{'name': '칼라카스',\n",
       "  'image': ['https://lush.co.kr/data/goods/18/12/49/1000000090/t50_1000000090_detail_039.png',\n",
       "   'https://lush.co.kr/data/goods/18/12/49/1000000090/t50_1000000090_detail_143.png'],\n",
       "  'category': '러쉬 > 보디 > 보디 스프레이',\n",
       "  'salePrice': 50000,\n",
       "  'originalPrice': 50000,\n",
       "  'brand': '러쉬',\n",
       "  'url': 'https://lush.co.kr/goods/goods_view.php?goodsNo=1000000090',\n",
       "  'color': '',\n",
       "  'volume': ''}]"
      ]
     },
     "metadata": {},
     "output_type": "display_data"
    },
    {
     "data": {
      "text/plain": [
       "[{'name': '트와일라잇',\n",
       "  'image': ['https://lush.co.kr/data/goods/17/08/16/248/t50_248_detail_018.png',\n",
       "   'https://lush.co.kr/data/goods/17/08/16/248/t50_248_detail_140.png'],\n",
       "  'category': '러쉬 > 보디 > 보디 스프레이',\n",
       "  'salePrice': 50000,\n",
       "  'originalPrice': 50000,\n",
       "  'brand': '러쉬',\n",
       "  'url': 'https://lush.co.kr/goods/goods_view.php?goodsNo=248',\n",
       "  'color': '',\n",
       "  'volume': ''}]"
      ]
     },
     "metadata": {},
     "output_type": "display_data"
    },
    {
     "data": {
      "text/plain": [
       "[{'name': '더티 보디 스프레이',\n",
       "  'image': ['https://lush.co.kr/data/goods/17/08/16/246/t50_246_detail_078.png',\n",
       "   'https://lush.co.kr/data/goods/17/08/16/246/t50_246_detail_16.png'],\n",
       "  'category': '러쉬 > 보디 > 보디 스프레이',\n",
       "  'salePrice': 50000,\n",
       "  'originalPrice': 50000,\n",
       "  'brand': '러쉬',\n",
       "  'url': 'https://lush.co.kr/goods/goods_view.php?goodsNo=246',\n",
       "  'color': '',\n",
       "  'volume': ''}]"
      ]
     },
     "metadata": {},
     "output_type": "display_data"
    },
    {
     "data": {
      "text/plain": [
       "[{'name': '마스크 오브 매그너민티',\n",
       "  'image': ['https://lush.co.kr/data/goods/12/03/07/97/t50_97_detail_042.png',\n",
       "   'https://lush.co.kr/data/goods/12/03/07/97/t50_97_detail_115.png',\n",
       "   'https://lush.co.kr/data/goods/12/03/07/97/t50_97_detail_293.png'],\n",
       "  'category': '러쉬 > 페이스 > 클렌저',\n",
       "  'salePrice': 20000,\n",
       "  'originalPrice': 20000,\n",
       "  'brand': '러쉬',\n",
       "  'url': 'https://lush.co.kr/goods/goods_view.php?goodsNo=97',\n",
       "  'color': '',\n",
       "  'volume': '125g'},\n",
       " {'name': '마스크 오브 매그너민티',\n",
       "  'image': ['https://lush.co.kr/data/goods/12/03/07/97/t50_97_detail_042.png',\n",
       "   'https://lush.co.kr/data/goods/12/03/07/97/t50_97_detail_115.png',\n",
       "   'https://lush.co.kr/data/goods/12/03/07/97/t50_97_detail_293.png'],\n",
       "  'category': '러쉬 > 페이스 > 클렌저',\n",
       "  'salePrice': 20000,\n",
       "  'originalPrice': 20000,\n",
       "  'brand': '러쉬',\n",
       "  'url': 'https://lush.co.kr/goods/goods_view.php?goodsNo=97',\n",
       "  'color': '',\n",
       "  'volume': '315g:￦+20,000'}]"
      ]
     },
     "metadata": {},
     "output_type": "display_data"
    },
    {
     "data": {
      "text/plain": [
       "[{'name': '더티 보디 스프레이',\n",
       "  'image': ['https://lush.co.kr/data/goods/17/08/16/246/t50_246_detail_078.png',\n",
       "   'https://lush.co.kr/data/goods/17/08/16/246/t50_246_detail_16.png'],\n",
       "  'category': '러쉬 > 보디 > 보디 스프레이',\n",
       "  'salePrice': 50000,\n",
       "  'originalPrice': 50000,\n",
       "  'brand': '러쉬',\n",
       "  'url': 'https://lush.co.kr/goods/goods_view.php?goodsNo=246',\n",
       "  'color': '',\n",
       "  'volume': ''}]"
      ]
     },
     "metadata": {},
     "output_type": "display_data"
    },
    {
     "data": {
      "text/plain": [
       "[{'name': '칼라카스',\n",
       "  'image': ['https://lush.co.kr/data/goods/18/12/49/1000000090/t50_1000000090_detail_039.png',\n",
       "   'https://lush.co.kr/data/goods/18/12/49/1000000090/t50_1000000090_detail_143.png'],\n",
       "  'category': '러쉬 > 보디 > 보디 스프레이',\n",
       "  'salePrice': 50000,\n",
       "  'originalPrice': 50000,\n",
       "  'brand': '러쉬',\n",
       "  'url': 'https://lush.co.kr/goods/goods_view.php?goodsNo=1000000090',\n",
       "  'color': '',\n",
       "  'volume': ''}]"
      ]
     },
     "metadata": {},
     "output_type": "display_data"
    },
    {
     "data": {
      "text/plain": [
       "[{'name': '허벌리즘',\n",
       "  'image': ['https://lush.co.kr/data/goods/11/01/20/85/t50_85_detail_022.png',\n",
       "   'https://lush.co.kr/data/goods/11/01/20/85/t50_85_detail_122.png',\n",
       "   'https://lush.co.kr/data/goods/11/01/20/85/t50_85_detail_279.png'],\n",
       "  'category': '러쉬 > 페이스 > 클렌저',\n",
       "  'salePrice': 22000,\n",
       "  'originalPrice': 22000,\n",
       "  'brand': '러쉬',\n",
       "  'url': 'https://lush.co.kr/goods/goods_view.php?goodsNo=85',\n",
       "  'color': '',\n",
       "  'volume': '100g'},\n",
       " {'name': '허벌리즘',\n",
       "  'image': ['https://lush.co.kr/data/goods/11/01/20/85/t50_85_detail_022.png',\n",
       "   'https://lush.co.kr/data/goods/11/01/20/85/t50_85_detail_122.png',\n",
       "   'https://lush.co.kr/data/goods/11/01/20/85/t50_85_detail_279.png'],\n",
       "  'category': '러쉬 > 페이스 > 클렌저',\n",
       "  'salePrice': 22000,\n",
       "  'originalPrice': 22000,\n",
       "  'brand': '러쉬',\n",
       "  'url': 'https://lush.co.kr/goods/goods_view.php?goodsNo=85',\n",
       "  'color': '',\n",
       "  'volume': '250g:￦+22,000'}]"
      ]
     },
     "metadata": {},
     "output_type": "display_data"
    },
    {
     "data": {
      "text/plain": [
       "[{'name': '트와일라잇',\n",
       "  'image': ['https://lush.co.kr/data/goods/17/08/16/248/t50_248_detail_018.png',\n",
       "   'https://lush.co.kr/data/goods/17/08/16/248/t50_248_detail_140.png'],\n",
       "  'category': '러쉬 > 보디 > 보디 스프레이',\n",
       "  'salePrice': 50000,\n",
       "  'originalPrice': 50000,\n",
       "  'brand': '러쉬',\n",
       "  'url': 'https://lush.co.kr/goods/goods_view.php?goodsNo=248',\n",
       "  'color': '',\n",
       "  'volume': ''}]"
      ]
     },
     "metadata": {},
     "output_type": "display_data"
    },
    {
     "data": {
      "text/plain": [
       "[{'name': '엔젤스 온 배어 스킨',\n",
       "  'image': ['https://lush.co.kr/data/goods/11/01/20/62/t50_62_detail_023.png',\n",
       "   'https://lush.co.kr/data/goods/11/01/20/62/t50_62_detail_119.png',\n",
       "   'https://lush.co.kr/data/goods/11/01/20/62/t50_62_detail_210.png'],\n",
       "  'category': '러쉬 > 페이스 > 클렌저',\n",
       "  'salePrice': 22000,\n",
       "  'originalPrice': 22000,\n",
       "  'brand': '러쉬',\n",
       "  'url': 'https://lush.co.kr/goods/goods_view.php?goodsNo=62',\n",
       "  'color': '',\n",
       "  'volume': '100g'},\n",
       " {'name': '엔젤스 온 배어 스킨',\n",
       "  'image': ['https://lush.co.kr/data/goods/11/01/20/62/t50_62_detail_023.png',\n",
       "   'https://lush.co.kr/data/goods/11/01/20/62/t50_62_detail_119.png',\n",
       "   'https://lush.co.kr/data/goods/11/01/20/62/t50_62_detail_210.png'],\n",
       "  'category': '러쉬 > 페이스 > 클렌저',\n",
       "  'salePrice': 22000,\n",
       "  'originalPrice': 22000,\n",
       "  'brand': '러쉬',\n",
       "  'url': 'https://lush.co.kr/goods/goods_view.php?goodsNo=62',\n",
       "  'color': '',\n",
       "  'volume': '250g:￦+22,000'}]"
      ]
     },
     "metadata": {},
     "output_type": "display_data"
    },
    {
     "data": {
      "text/plain": [
       "[{'name': '마스크 오브 매그너민티',\n",
       "  'image': ['https://lush.co.kr/data/goods/12/03/07/97/t50_97_detail_042.png',\n",
       "   'https://lush.co.kr/data/goods/12/03/07/97/t50_97_detail_115.png',\n",
       "   'https://lush.co.kr/data/goods/12/03/07/97/t50_97_detail_293.png'],\n",
       "  'category': '러쉬 > 페이스 > 클렌저',\n",
       "  'salePrice': 20000,\n",
       "  'originalPrice': 20000,\n",
       "  'brand': '러쉬',\n",
       "  'url': 'https://lush.co.kr/goods/goods_view.php?goodsNo=97',\n",
       "  'color': '',\n",
       "  'volume': '125g'},\n",
       " {'name': '마스크 오브 매그너민티',\n",
       "  'image': ['https://lush.co.kr/data/goods/12/03/07/97/t50_97_detail_042.png',\n",
       "   'https://lush.co.kr/data/goods/12/03/07/97/t50_97_detail_115.png',\n",
       "   'https://lush.co.kr/data/goods/12/03/07/97/t50_97_detail_293.png'],\n",
       "  'category': '러쉬 > 페이스 > 클렌저',\n",
       "  'salePrice': 20000,\n",
       "  'originalPrice': 20000,\n",
       "  'brand': '러쉬',\n",
       "  'url': 'https://lush.co.kr/goods/goods_view.php?goodsNo=97',\n",
       "  'color': '',\n",
       "  'volume': '315g:￦+20,000'}]"
      ]
     },
     "metadata": {},
     "output_type": "display_data"
    },
    {
     "data": {
      "text/plain": [
       "[{'name': '코스메틱 워리어',\n",
       "  'image': ['https://lush.co.kr/data/goods/11/01/20/79/t50_79_detail_072.png',\n",
       "   'https://lush.co.kr/data/goods/11/01/20/79/t50_79_detail_136.png'],\n",
       "  'category': '러쉬 > 페이스 > 페이스 마스크',\n",
       "  'salePrice': 25000,\n",
       "  'originalPrice': 25000,\n",
       "  'brand': '러쉬',\n",
       "  'url': 'https://lush.co.kr/goods/goods_view.php?goodsNo=79',\n",
       "  'color': '',\n",
       "  'volume': ''}]"
      ]
     },
     "metadata": {},
     "output_type": "display_data"
    },
    {
     "data": {
      "text/plain": [
       "[{'name': '콜페이스',\n",
       "  'image': ['https://lush.co.kr/data/goods/11/01/25/88/t50_88_detail_089.png'],\n",
       "  'category': '러쉬 > 페이스 > 클렌저',\n",
       "  'salePrice': 18000,\n",
       "  'originalPrice': 18000,\n",
       "  'brand': '러쉬',\n",
       "  'url': 'https://lush.co.kr/goods/goods_view.php?goodsNo=88',\n",
       "  'color': '',\n",
       "  'volume': ''}]"
      ]
     },
     "metadata": {},
     "output_type": "display_data"
    },
    {
     "data": {
      "text/plain": [
       "[{'name': '허벌리즘',\n",
       "  'image': ['https://lush.co.kr/data/goods/11/01/20/85/t50_85_detail_022.png',\n",
       "   'https://lush.co.kr/data/goods/11/01/20/85/t50_85_detail_122.png',\n",
       "   'https://lush.co.kr/data/goods/11/01/20/85/t50_85_detail_279.png'],\n",
       "  'category': '러쉬 > 페이스 > 클렌저',\n",
       "  'salePrice': 22000,\n",
       "  'originalPrice': 22000,\n",
       "  'brand': '러쉬',\n",
       "  'url': 'https://lush.co.kr/goods/goods_view.php?goodsNo=85',\n",
       "  'color': '',\n",
       "  'volume': '100g'},\n",
       " {'name': '허벌리즘',\n",
       "  'image': ['https://lush.co.kr/data/goods/11/01/20/85/t50_85_detail_022.png',\n",
       "   'https://lush.co.kr/data/goods/11/01/20/85/t50_85_detail_122.png',\n",
       "   'https://lush.co.kr/data/goods/11/01/20/85/t50_85_detail_279.png'],\n",
       "  'category': '러쉬 > 페이스 > 클렌저',\n",
       "  'salePrice': 22000,\n",
       "  'originalPrice': 22000,\n",
       "  'brand': '러쉬',\n",
       "  'url': 'https://lush.co.kr/goods/goods_view.php?goodsNo=85',\n",
       "  'color': '',\n",
       "  'volume': '250g:￦+22,000'}]"
      ]
     },
     "metadata": {},
     "output_type": "display_data"
    },
    {
     "data": {
      "text/plain": [
       "[{'name': '카타스트로피 코스메틱',\n",
       "  'image': ['https://lush.co.kr/data/goods/11/01/20/76/t50_76_detail_089.png',\n",
       "   'https://lush.co.kr/data/goods/11/01/20/76/t50_76_detail_168.png'],\n",
       "  'category': '러쉬 > 페이스 > 페이스 마스크',\n",
       "  'salePrice': 25000,\n",
       "  'originalPrice': 25000,\n",
       "  'brand': '러쉬',\n",
       "  'url': 'https://lush.co.kr/goods/goods_view.php?goodsNo=76',\n",
       "  'color': '',\n",
       "  'volume': ''}]"
      ]
     },
     "metadata": {},
     "output_type": "display_data"
    },
    {
     "data": {
      "text/plain": [
       "[{'name': '비비 씨위드',\n",
       "  'image': ['https://lush.co.kr/data/goods/11/01/20/37/t50_37_detail_049.png',\n",
       "   'https://lush.co.kr/data/goods/11/01/20/37/t50_37_detail_113.png'],\n",
       "  'category': '러쉬',\n",
       "  'salePrice': 25000,\n",
       "  'originalPrice': 25000,\n",
       "  'brand': '러쉬',\n",
       "  'url': 'https://lush.co.kr/goods/goods_view.php?goodsNo=37',\n",
       "  'color': '',\n",
       "  'volume': ''}]"
      ]
     },
     "metadata": {},
     "output_type": "display_data"
    },
    {
     "data": {
      "text/plain": [
       "[{'name': '대디-오',\n",
       "  'image': ['https://lush.co.kr/data/goods/11/01/20/15/t50_15_detail_060.png',\n",
       "   'https://lush.co.kr/data/goods/11/01/20/15/t50_15_detail_118.png',\n",
       "   'https://lush.co.kr/data/goods/11/01/20/15/t50_15_detail_295.png',\n",
       "   'https://lush.co.kr/data/goods/11/01/20/15/t50_15_detail_380.png'],\n",
       "  'category': '러쉬 > 헤어 > 샴푸',\n",
       "  'salePrice': 19000,\n",
       "  'originalPrice': 19000,\n",
       "  'brand': '러쉬',\n",
       "  'url': 'https://lush.co.kr/goods/goods_view.php?goodsNo=15',\n",
       "  'color': '',\n",
       "  'volume': '100g'},\n",
       " {'name': '대디-오',\n",
       "  'image': ['https://lush.co.kr/data/goods/11/01/20/15/t50_15_detail_060.png',\n",
       "   'https://lush.co.kr/data/goods/11/01/20/15/t50_15_detail_118.png',\n",
       "   'https://lush.co.kr/data/goods/11/01/20/15/t50_15_detail_295.png',\n",
       "   'https://lush.co.kr/data/goods/11/01/20/15/t50_15_detail_380.png'],\n",
       "  'category': '러쉬 > 헤어 > 샴푸',\n",
       "  'salePrice': 19000,\n",
       "  'originalPrice': 19000,\n",
       "  'brand': '러쉬',\n",
       "  'url': 'https://lush.co.kr/goods/goods_view.php?goodsNo=15',\n",
       "  'color': '',\n",
       "  'volume': '250g:￦+17,000'},\n",
       " {'name': '대디-오',\n",
       "  'image': ['https://lush.co.kr/data/goods/11/01/20/15/t50_15_detail_060.png',\n",
       "   'https://lush.co.kr/data/goods/11/01/20/15/t50_15_detail_118.png',\n",
       "   'https://lush.co.kr/data/goods/11/01/20/15/t50_15_detail_295.png',\n",
       "   'https://lush.co.kr/data/goods/11/01/20/15/t50_15_detail_380.png'],\n",
       "  'category': '러쉬 > 헤어 > 샴푸',\n",
       "  'salePrice': 19000,\n",
       "  'originalPrice': 19000,\n",
       "  'brand': '러쉬',\n",
       "  'url': 'https://lush.co.kr/goods/goods_view.php?goodsNo=15',\n",
       "  'color': '',\n",
       "  'volume': '500g:￦+43,000'}]"
      ]
     },
     "metadata": {},
     "output_type": "display_data"
    },
    {
     "data": {
      "text/plain": [
       "[{'name': '뉴',\n",
       "  'image': ['https://lush.co.kr/data/goods/17/05/30/241/t50_241_detail_031.png'],\n",
       "  'category': '러쉬 > 헤어 > 샴푸 바',\n",
       "  'salePrice': 18000,\n",
       "  'originalPrice': 18000,\n",
       "  'brand': '러쉬',\n",
       "  'url': 'https://lush.co.kr/goods/goods_view.php?goodsNo=241',\n",
       "  'color': '',\n",
       "  'volume': ''}]"
      ]
     },
     "metadata": {},
     "output_type": "display_data"
    },
    {
     "data": {
      "text/plain": [
       "[{'name': '아메리칸 크림',\n",
       "  'image': ['https://lush.co.kr/data/goods/11/01/20/54/t50_54_detail_080.png',\n",
       "   'https://lush.co.kr/data/goods/11/01/20/54/t50_54_detail_131.png',\n",
       "   'https://lush.co.kr/data/goods/11/01/20/54/t50_54_detail_295.png',\n",
       "   'https://lush.co.kr/data/goods/11/01/20/54/t50_54_detail_365.png'],\n",
       "  'category': '러쉬 > 헤어 > 컨디셔너',\n",
       "  'salePrice': 17000,\n",
       "  'originalPrice': 17000,\n",
       "  'brand': '러쉬',\n",
       "  'url': 'https://lush.co.kr/goods/goods_view.php?goodsNo=54',\n",
       "  'color': '',\n",
       "  'volume': '100g'},\n",
       " {'name': '아메리칸 크림',\n",
       "  'image': ['https://lush.co.kr/data/goods/11/01/20/54/t50_54_detail_080.png',\n",
       "   'https://lush.co.kr/data/goods/11/01/20/54/t50_54_detail_131.png',\n",
       "   'https://lush.co.kr/data/goods/11/01/20/54/t50_54_detail_295.png',\n",
       "   'https://lush.co.kr/data/goods/11/01/20/54/t50_54_detail_365.png'],\n",
       "  'category': '러쉬 > 헤어 > 컨디셔너',\n",
       "  'salePrice': 17000,\n",
       "  'originalPrice': 17000,\n",
       "  'brand': '러쉬',\n",
       "  'url': 'https://lush.co.kr/goods/goods_view.php?goodsNo=54',\n",
       "  'color': '',\n",
       "  'volume': '250g:￦+15,000'},\n",
       " {'name': '아메리칸 크림',\n",
       "  'image': ['https://lush.co.kr/data/goods/11/01/20/54/t50_54_detail_080.png',\n",
       "   'https://lush.co.kr/data/goods/11/01/20/54/t50_54_detail_131.png',\n",
       "   'https://lush.co.kr/data/goods/11/01/20/54/t50_54_detail_295.png',\n",
       "   'https://lush.co.kr/data/goods/11/01/20/54/t50_54_detail_365.png'],\n",
       "  'category': '러쉬 > 헤어 > 컨디셔너',\n",
       "  'salePrice': 17000,\n",
       "  'originalPrice': 17000,\n",
       "  'brand': '러쉬',\n",
       "  'url': 'https://lush.co.kr/goods/goods_view.php?goodsNo=54',\n",
       "  'color': '',\n",
       "  'volume': '500g:￦+37,000'}]"
      ]
     },
     "metadata": {},
     "output_type": "display_data"
    },
    {
     "data": {
      "text/plain": [
       "[{'name': '리햅',\n",
       "  'image': ['https://lush.co.kr/data/goods/11/01/20/22/t50_22_detail_028.png',\n",
       "   'https://lush.co.kr/data/goods/11/01/20/22/t50_22_detail_188.png',\n",
       "   'https://lush.co.kr/data/goods/11/01/20/22/t50_22_detail_271.png',\n",
       "   'https://lush.co.kr/data/goods/11/01/20/22/t50_22_detail_315.png'],\n",
       "  'category': '러쉬 > 헤어 > 샴푸',\n",
       "  'salePrice': 19000,\n",
       "  'originalPrice': 19000,\n",
       "  'brand': '러쉬',\n",
       "  'url': 'https://lush.co.kr/goods/goods_view.php?goodsNo=22',\n",
       "  'color': '',\n",
       "  'volume': '100g'},\n",
       " {'name': '리햅',\n",
       "  'image': ['https://lush.co.kr/data/goods/11/01/20/22/t50_22_detail_028.png',\n",
       "   'https://lush.co.kr/data/goods/11/01/20/22/t50_22_detail_188.png',\n",
       "   'https://lush.co.kr/data/goods/11/01/20/22/t50_22_detail_271.png',\n",
       "   'https://lush.co.kr/data/goods/11/01/20/22/t50_22_detail_315.png'],\n",
       "  'category': '러쉬 > 헤어 > 샴푸',\n",
       "  'salePrice': 19000,\n",
       "  'originalPrice': 19000,\n",
       "  'brand': '러쉬',\n",
       "  'url': 'https://lush.co.kr/goods/goods_view.php?goodsNo=22',\n",
       "  'color': '',\n",
       "  'volume': '250g:￦+17,000'},\n",
       " {'name': '리햅',\n",
       "  'image': ['https://lush.co.kr/data/goods/11/01/20/22/t50_22_detail_028.png',\n",
       "   'https://lush.co.kr/data/goods/11/01/20/22/t50_22_detail_188.png',\n",
       "   'https://lush.co.kr/data/goods/11/01/20/22/t50_22_detail_271.png',\n",
       "   'https://lush.co.kr/data/goods/11/01/20/22/t50_22_detail_315.png'],\n",
       "  'category': '러쉬 > 헤어 > 샴푸',\n",
       "  'salePrice': 19000,\n",
       "  'originalPrice': 19000,\n",
       "  'brand': '러쉬',\n",
       "  'url': 'https://lush.co.kr/goods/goods_view.php?goodsNo=22',\n",
       "  'color': '',\n",
       "  'volume': '500g:￦+43,000'}]"
      ]
     },
     "metadata": {},
     "output_type": "display_data"
    },
    {
     "data": {
      "text/plain": [
       "[{'name': '카마 콤바',\n",
       "  'image': ['https://lush.co.kr/data/goods/11/01/20/74/t50_74_detail_094.png'],\n",
       "  'category': '러쉬 > 헤어 > 샴푸 바',\n",
       "  'salePrice': 18000,\n",
       "  'originalPrice': 18000,\n",
       "  'brand': '러쉬',\n",
       "  'url': 'https://lush.co.kr/goods/goods_view.php?goodsNo=74',\n",
       "  'color': '',\n",
       "  'volume': ''}]"
      ]
     },
     "metadata": {},
     "output_type": "display_data"
    },
    {
     "data": {
      "text/plain": [
       "[{'name': '빅',\n",
       "  'image': ['https://lush.co.kr/data/goods/11/01/20/38/t50_38_detail_052.png',\n",
       "   'https://lush.co.kr/data/goods/11/01/20/38/t50_38_detail_189.png'],\n",
       "  'category': '러쉬 > 헤어 > 샴푸',\n",
       "  'salePrice': 35000,\n",
       "  'originalPrice': 35000,\n",
       "  'brand': '러쉬',\n",
       "  'url': 'https://lush.co.kr/goods/goods_view.php?goodsNo=38',\n",
       "  'color': '',\n",
       "  'volume': ''}]"
      ]
     },
     "metadata": {},
     "output_type": "display_data"
    },
    {
     "data": {
      "text/plain": [
       "[{'name': '슬랩 스틱 40N',\n",
       "  'image': ['https://lush.co.kr/data/goods/18/11/48/1000000068/t50_1000000068_detail_078.png'],\n",
       "  'category': '러쉬 > 프로모션',\n",
       "  'salePrice': 34000,\n",
       "  'originalPrice': 34000,\n",
       "  'brand': '러쉬',\n",
       "  'url': 'https://lush.co.kr/goods/goods_view.php?goodsNo=1000000068',\n",
       "  'color': '',\n",
       "  'volume': ''}]"
      ]
     },
     "metadata": {},
     "output_type": "display_data"
    },
    {
     "data": {
      "text/plain": [
       "[{'name': '필링 영거',\n",
       "  'image': ['https://lush.co.kr/data/goods/18/03/12/385/t50_385_detail_085.png',\n",
       "   'https://lush.co.kr/data/goods/18/03/12/385/t50_385_detail_186.png'],\n",
       "  'category': '러쉬 > 메이크업 > 블러쉬',\n",
       "  'salePrice': 26000,\n",
       "  'originalPrice': 26000,\n",
       "  'brand': '러쉬',\n",
       "  'url': 'https://lush.co.kr/goods/goods_view.php?goodsNo=385',\n",
       "  'color': '',\n",
       "  'volume': ''}]"
      ]
     },
     "metadata": {},
     "output_type": "display_data"
    },
    {
     "data": {
      "text/plain": [
       "[{'name': '슬랩 스틱 9W',\n",
       "  'image': ['https://lush.co.kr/data/goods/18/11/48/1000000037/t50_1000000037_detail_081.png'],\n",
       "  'category': '러쉬 > 프로모션',\n",
       "  'salePrice': 34000,\n",
       "  'originalPrice': 34000,\n",
       "  'brand': '러쉬',\n",
       "  'url': 'https://lush.co.kr/goods/goods_view.php?goodsNo=1000000037',\n",
       "  'color': '',\n",
       "  'volume': ''}]"
      ]
     },
     "metadata": {},
     "output_type": "display_data"
    },
    {
     "data": {
      "text/plain": [
       "[{'name': '슬랩 스틱 1C',\n",
       "  'image': ['https://lush.co.kr/data/goods/18/11/48/1000000029/t50_1000000029_detail_040.png'],\n",
       "  'category': '러쉬 > 프로모션',\n",
       "  'salePrice': 34000,\n",
       "  'originalPrice': 34000,\n",
       "  'brand': '러쉬',\n",
       "  'url': 'https://lush.co.kr/goods/goods_view.php?goodsNo=1000000029',\n",
       "  'color': '',\n",
       "  'volume': ''}]"
      ]
     },
     "metadata": {},
     "output_type": "display_data"
    },
    {
     "data": {
      "text/plain": [
       "[{'name': '이모셔널 브릴리언스',\n",
       "  'image': ['https://lush.co.kr/data/goods/18/03/12/388/t50_388_detail_065.png',\n",
       "   'https://lush.co.kr/data/goods/18/03/12/388/t50_388_detail_174.png'],\n",
       "  'category': '러쉬 > 메이크업 > 블러쉬',\n",
       "  'salePrice': 28000,\n",
       "  'originalPrice': 28000,\n",
       "  'brand': '러쉬',\n",
       "  'url': 'https://lush.co.kr/goods/goods_view.php?goodsNo=388',\n",
       "  'color': '',\n",
       "  'volume': ''}]"
      ]
     },
     "metadata": {},
     "output_type": "display_data"
    },
    {
     "data": {
      "text/plain": [
       "[{'name': '슬랩 스틱 10C',\n",
       "  'image': ['https://lush.co.kr/data/goods/18/11/48/1000000038/t50_1000000038_detail_052.png'],\n",
       "  'category': '러쉬 > 프로모션',\n",
       "  'salePrice': 34000,\n",
       "  'originalPrice': 34000,\n",
       "  'brand': '러쉬',\n",
       "  'url': 'https://lush.co.kr/goods/goods_view.php?goodsNo=1000000038',\n",
       "  'color': '',\n",
       "  'volume': ''}]"
      ]
     },
     "metadata": {},
     "output_type": "display_data"
    },
    {
     "data": {
      "text/plain": [
       "[{'name': '카마 솔리드 퍼퓸',\n",
       "  'image': ['https://lush.co.kr/data/goods/17/10/10/273/t50_273_detail_098.png'],\n",
       "  'category': '러쉬 > 퍼퓸 > 화이트 솔리드',\n",
       "  'salePrice': 22000,\n",
       "  'originalPrice': 22000,\n",
       "  'brand': '러쉬',\n",
       "  'url': 'https://lush.co.kr/goods/goods_view.php?goodsNo=273',\n",
       "  'color': '',\n",
       "  'volume': ''}]"
      ]
     },
     "metadata": {},
     "output_type": "display_data"
    },
    {
     "data": {
      "text/plain": [
       "[{'name': '스머글러스 소울 솔리드 퍼퓸',\n",
       "  'image': ['https://lush.co.kr/data/goods/17/10/10/306/t50_306_detail_073.png'],\n",
       "  'category': '러쉬 > 퍼퓸 > 화이트 솔리드',\n",
       "  'salePrice': 22000,\n",
       "  'originalPrice': 22000,\n",
       "  'brand': '러쉬',\n",
       "  'url': 'https://lush.co.kr/goods/goods_view.php?goodsNo=306',\n",
       "  'color': '',\n",
       "  'volume': ''}]"
      ]
     },
     "metadata": {},
     "output_type": "display_data"
    },
    {
     "data": {
      "text/plain": [
       "[{'name': '더티 솔리드 퍼퓸',\n",
       "  'image': ['https://lush.co.kr/data/goods/17/10/10/302/t50_302_detail_040.png'],\n",
       "  'category': '러쉬 > 퍼퓸 > 화이트 솔리드',\n",
       "  'salePrice': 22000,\n",
       "  'originalPrice': 22000,\n",
       "  'brand': '러쉬',\n",
       "  'url': 'https://lush.co.kr/goods/goods_view.php?goodsNo=302',\n",
       "  'color': '',\n",
       "  'volume': ''}]"
      ]
     },
     "metadata": {},
     "output_type": "display_data"
    },
    {
     "data": {
      "text/plain": [
       "[{'name': '왓 우드 러브 두? 솔리드 퍼퓸',\n",
       "  'image': ['https://lush.co.kr/data/goods/17/10/10/329/t50_329_detail_018.png'],\n",
       "  'category': '러쉬 > 퍼퓸 > 화이트 솔리드',\n",
       "  'salePrice': 22000,\n",
       "  'originalPrice': 22000,\n",
       "  'brand': '러쉬',\n",
       "  'url': 'https://lush.co.kr/goods/goods_view.php?goodsNo=329',\n",
       "  'color': '',\n",
       "  'volume': ''}]"
      ]
     },
     "metadata": {},
     "output_type": "display_data"
    },
    {
     "data": {
      "text/plain": [
       "[{'name': '시킴 걸스 솔리드 퍼퓸',\n",
       "  'image': ['https://lush.co.kr/data/goods/17/10/10/298/t50_298_detail_010.png'],\n",
       "  'category': '러쉬 > 퍼퓸 > 화이트 솔리드',\n",
       "  'salePrice': 22000,\n",
       "  'originalPrice': 22000,\n",
       "  'brand': '러쉬',\n",
       "  'url': 'https://lush.co.kr/goods/goods_view.php?goodsNo=298',\n",
       "  'color': '',\n",
       "  'volume': ''}]"
      ]
     },
     "metadata": {},
     "output_type": "display_data"
    },
    {
     "data": {
      "text/plain": [
       "[{'name': '더티 30ML',\n",
       "  'image': ['https://lush.co.kr/data/goods/17/10/10/300/t50_300_detail_066.png',\n",
       "   'https://lush.co.kr/data/goods/17/10/10/300/t50_300_detail_114.png'],\n",
       "  'category': '러쉬 > 퍼퓸 > 화이트 리퀴드',\n",
       "  'salePrice': 55000,\n",
       "  'originalPrice': 55000,\n",
       "  'brand': '러쉬',\n",
       "  'url': 'https://lush.co.kr/goods/goods_view.php?goodsNo=300',\n",
       "  'color': '',\n",
       "  'volume': ''}]"
      ]
     },
     "metadata": {},
     "output_type": "display_data"
    },
    {
     "data": {
      "text/plain": [
       "[{'name': '마사지 바 틴',\n",
       "  'image': ['https://lush.co.kr/data/goods/11/01/20/26/t50_26_detail_027.png'],\n",
       "  'category': '러쉬 > 기프트 > 악세서리',\n",
       "  'salePrice': 7100,\n",
       "  'originalPrice': 7100,\n",
       "  'brand': '러쉬',\n",
       "  'url': 'https://lush.co.kr/goods/goods_view.php?goodsNo=26',\n",
       "  'color': '',\n",
       "  'volume': ''}]"
      ]
     },
     "metadata": {},
     "output_type": "display_data"
    },
    {
     "data": {
      "text/plain": [
       "[{'name': '올 포 유 박스',\n",
       "  'image': ['https://lush.co.kr/data/goods/15/10/26/166/t50_166_detail_083.png'],\n",
       "  'category': '러쉬 > 기프트 > 악세서리',\n",
       "  'salePrice': 3000,\n",
       "  'originalPrice': 3000,\n",
       "  'brand': '러쉬',\n",
       "  'url': 'https://lush.co.kr/goods/goods_view.php?goodsNo=166',\n",
       "  'color': '',\n",
       "  'volume': ''}]"
      ]
     },
     "metadata": {},
     "output_type": "display_data"
    },
    {
     "data": {
      "text/plain": [
       "[{'name': '서프라이즈 박스',\n",
       "  'image': ['https://lush.co.kr/data/goods/15/10/26/165/t50_165_detail_032.png'],\n",
       "  'category': '러쉬 > 기프트 > 악세서리',\n",
       "  'salePrice': 2000,\n",
       "  'originalPrice': 2000,\n",
       "  'brand': '러쉬',\n",
       "  'url': 'https://lush.co.kr/goods/goods_view.php?goodsNo=165',\n",
       "  'color': '',\n",
       "  'volume': ''}]"
      ]
     },
     "metadata": {},
     "output_type": "display_data"
    },
    {
     "data": {
      "text/plain": [
       "[{'name': '포레스트 박스',\n",
       "  'image': ['https://lush.co.kr/data/goods/15/10/26/164/t50_164_detail_046.png'],\n",
       "  'category': '러쉬 > 기프트 > 악세서리',\n",
       "  'salePrice': 1500,\n",
       "  'originalPrice': 1500,\n",
       "  'brand': '러쉬',\n",
       "  'url': 'https://lush.co.kr/goods/goods_view.php?goodsNo=164',\n",
       "  'color': '',\n",
       "  'volume': ''}]"
      ]
     },
     "metadata": {},
     "output_type": "display_data"
    },
    {
     "data": {
      "text/plain": [
       "[{'name': '샴푸 바 틴',\n",
       "  'image': ['https://lush.co.kr/data/goods/11/01/20/40/t50_40_detail_070.png'],\n",
       "  'category': '러쉬 > 기프트 > 악세서리',\n",
       "  'salePrice': 7100,\n",
       "  'originalPrice': 7100,\n",
       "  'brand': '러쉬',\n",
       "  'url': 'https://lush.co.kr/goods/goods_view.php?goodsNo=40',\n",
       "  'color': '',\n",
       "  'volume': ''}]"
      ]
     },
     "metadata": {},
     "output_type": "display_data"
    },
    {
     "data": {
      "text/plain": [
       "[{'name': '보디 버터 틴',\n",
       "  'image': ['https://lush.co.kr/data/goods/11/01/20/27/t50_27_detail_058.png'],\n",
       "  'category': '러쉬 > 기프트 > 악세서리',\n",
       "  'salePrice': 7100,\n",
       "  'originalPrice': 7100,\n",
       "  'brand': '러쉬',\n",
       "  'url': 'https://lush.co.kr/goods/goods_view.php?goodsNo=27',\n",
       "  'color': '',\n",
       "  'volume': ''}]"
      ]
     },
     "metadata": {},
     "output_type": "display_data"
    },
    {
     "data": {
      "text/plain": [
       "[{'name': '스노우 페어리 보디 스프레이',\n",
       "  'image': ['https://lush.co.kr/data/goods/18/12/52/1000000130/t50_1000000130_detail_030.png'],\n",
       "  'category': '러쉬 > 크리스마스 > 크리스마스 기프트',\n",
       "  'salePrice': 63000,\n",
       "  'originalPrice': 63000,\n",
       "  'brand': '러쉬',\n",
       "  'url': 'https://lush.co.kr/goods/goods_view.php?goodsNo=1000000130',\n",
       "  'color': '',\n",
       "  'volume': ''}]"
      ]
     },
     "metadata": {},
     "output_type": "display_data"
    },
    {
     "data": {
      "text/plain": [
       "[{'name': '리니아',\n",
       "  'image': ['https://lush.co.kr/data/goods/18/12/51/1000000123/t50_1000000123_detail_077.png'],\n",
       "  'category': '러쉬 > 기프트 > 낫랩',\n",
       "  'salePrice': 10000,\n",
       "  'originalPrice': 10000,\n",
       "  'brand': '러쉬',\n",
       "  'url': 'https://lush.co.kr/goods/goods_view.php?goodsNo=1000000123',\n",
       "  'color': '',\n",
       "  'volume': ''}]"
      ]
     },
     "metadata": {},
     "output_type": "display_data"
    },
    {
     "data": {
      "text/plain": [
       "[{'name': '가디스',\n",
       "  'image': ['https://lush.co.kr/data/goods/18/12/50/1000000118/t50_1000000118_detail_075.png'],\n",
       "  'category': '러쉬 > 배쓰',\n",
       "  'salePrice': 19000,\n",
       "  'originalPrice': 19000,\n",
       "  'brand': '러쉬',\n",
       "  'url': 'https://lush.co.kr/goods/goods_view.php?goodsNo=1000000118',\n",
       "  'color': '',\n",
       "  'volume': ''}]"
      ]
     },
     "metadata": {},
     "output_type": "display_data"
    },
    {
     "data": {
      "text/plain": [
       "[{'name': '아임 포에버 블로잉 버블스',\n",
       "  'image': ['https://lush.co.kr/data/goods/18/12/50/1000000117/t50_1000000117_detail_039.png'],\n",
       "  'category': '러쉬 > 배쓰',\n",
       "  'salePrice': 21000,\n",
       "  'originalPrice': 21000,\n",
       "  'brand': '러쉬',\n",
       "  'url': 'https://lush.co.kr/goods/goods_view.php?goodsNo=1000000117',\n",
       "  'color': '',\n",
       "  'volume': ''}]"
      ]
     },
     "metadata": {},
     "output_type": "display_data"
    },
    {
     "data": {
      "text/plain": [
       "[{'name': '바닐라리',\n",
       "  'image': ['https://lush.co.kr/data/goods/18/12/50/1000000116/t50_1000000116_detail_099.png',\n",
       "   'https://lush.co.kr/data/goods/18/12/50/1000000116/t50_1000000116_detail_131.png'],\n",
       "  'category': '러쉬 > 보디 > 보디 스프레이',\n",
       "  'salePrice': 65000,\n",
       "  'originalPrice': 65000,\n",
       "  'brand': '러쉬',\n",
       "  'url': 'https://lush.co.kr/goods/goods_view.php?goodsNo=1000000116',\n",
       "  'color': '',\n",
       "  'volume': ''}]"
      ]
     },
     "metadata": {},
     "output_type": "display_data"
    },
    {
     "data": {
      "text/plain": [
       "[{'name': '칼라카스',\n",
       "  'image': ['https://lush.co.kr/data/goods/18/12/49/1000000115/t50_1000000115_detail_078.png',\n",
       "   'https://lush.co.kr/data/goods/18/12/49/1000000115/t50_1000000115_detail_196.png'],\n",
       "  'category': '러쉬 > 프로모션 > 커뮤니티',\n",
       "  'salePrice': 45000,\n",
       "  'originalPrice': 45000,\n",
       "  'brand': '러쉬',\n",
       "  'url': 'https://lush.co.kr/goods/goods_view.php?goodsNo=1000000115',\n",
       "  'color': '',\n",
       "  'volume': ''}]"
      ]
     },
     "metadata": {},
     "output_type": "display_data"
    },
    {
     "data": {
      "text/plain": [
       "[{'name': '골든 원더',\n",
       "  'image': ['https://lush.co.kr/data/goods/18/09/19/549/t50_549_detail_016.png'],\n",
       "  'category': '러쉬 > 크리스마스 > 크리스마스 단품',\n",
       "  'salePrice': 16000,\n",
       "  'originalPrice': 16000,\n",
       "  'brand': '러쉬',\n",
       "  'url': 'https://lush.co.kr/goods/goods_view.php?goodsNo=549',\n",
       "  'color': '',\n",
       "  'volume': ''}]"
      ]
     },
     "metadata": {},
     "output_type": "display_data"
    },
    {
     "data": {
      "text/plain": [
       "[{'name': '퍼디 홀리',\n",
       "  'image': ['https://lush.co.kr/data/goods/18/09/14/470/t50_470_detail_046.png'],\n",
       "  'category': '러쉬',\n",
       "  'salePrice': 15000,\n",
       "  'originalPrice': 15000,\n",
       "  'brand': '러쉬',\n",
       "  'url': 'https://lush.co.kr/goods/goods_view.php?goodsNo=470',\n",
       "  'color': '',\n",
       "  'volume': ''}]"
      ]
     },
     "metadata": {},
     "output_type": "display_data"
    },
    {
     "data": {
      "text/plain": [
       "[{'name': '캔디 마운틴 율 로그',\n",
       "  'image': ['https://lush.co.kr/data/goods/18/09/14/467/t50_467_detail_063.png'],\n",
       "  'category': '러쉬',\n",
       "  'salePrice': 12000,\n",
       "  'originalPrice': 12000,\n",
       "  'brand': '러쉬',\n",
       "  'url': 'https://lush.co.kr/goods/goods_view.php?goodsNo=467',\n",
       "  'color': '',\n",
       "  'volume': ''}]"
      ]
     },
     "metadata": {},
     "output_type": "display_data"
    },
    {
     "data": {
      "text/plain": [
       "[{'name': '부쉐 드 노엘',\n",
       "  'image': ['https://lush.co.kr/data/goods/18/09/19/547/t50_547_detail_068.png',\n",
       "   'https://lush.co.kr/data/goods/18/09/19/547/t50_547_detail_111.png',\n",
       "   'https://lush.co.kr/data/goods/18/09/19/547/t50_547_detail_250.png'],\n",
       "  'category': '러쉬 > 페이스 > 클렌저',\n",
       "  'salePrice': 20000,\n",
       "  'originalPrice': 20000,\n",
       "  'brand': '러쉬',\n",
       "  'url': 'https://lush.co.kr/goods/goods_view.php?goodsNo=547',\n",
       "  'color': '',\n",
       "  'volume': '100g'},\n",
       " {'name': '부쉐 드 노엘',\n",
       "  'image': ['https://lush.co.kr/data/goods/18/09/19/547/t50_547_detail_068.png',\n",
       "   'https://lush.co.kr/data/goods/18/09/19/547/t50_547_detail_111.png',\n",
       "   'https://lush.co.kr/data/goods/18/09/19/547/t50_547_detail_250.png'],\n",
       "  'category': '러쉬 > 페이스 > 클렌저',\n",
       "  'salePrice': 20000,\n",
       "  'originalPrice': 20000,\n",
       "  'brand': '러쉬',\n",
       "  'url': 'https://lush.co.kr/goods/goods_view.php?goodsNo=547',\n",
       "  'color': '',\n",
       "  'volume': '250g:￦+20,000'}]"
      ]
     },
     "metadata": {},
     "output_type": "display_data"
    },
    {
     "data": {
      "text/plain": [
       "[{'name': '슛 포 더 스타스',\n",
       "  'image': ['https://lush.co.kr/data/goods/18/09/14/462/t50_462_detail_091.png'],\n",
       "  'category': '러쉬',\n",
       "  'salePrice': 16000,\n",
       "  'originalPrice': 16000,\n",
       "  'brand': '러쉬',\n",
       "  'url': 'https://lush.co.kr/goods/goods_view.php?goodsNo=462',\n",
       "  'color': '',\n",
       "  'volume': ''}]"
      ]
     },
     "metadata": {},
     "output_type": "display_data"
    },
    {
     "data": {
      "text/plain": [
       "[{'name': '스노우 페어리',\n",
       "  'image': ['https://lush.co.kr/data/goods/18/09/17/511/t50_511_detail_162.png',\n",
       "   'https://lush.co.kr/data/goods/18/09/17/511/t50_511_detail_244.png',\n",
       "   'https://lush.co.kr/data/goods/18/09/17/511/t50_511_detail_366.png',\n",
       "   'https://lush.co.kr/data/goods/18/09/17/511/t50_511_detail_481.png',\n",
       "   'https://lush.co.kr/data/goods/18/09/17/511/t50_511_detail_018.png',\n",
       "   'https://lush.co.kr/data/goods/18/09/17/511/t50_511_detail_162.png',\n",
       "   'https://lush.co.kr/data/goods/18/09/17/511/t50_511_detail_244.png',\n",
       "   'https://lush.co.kr/data/goods/18/09/17/511/t50_511_detail_366.png',\n",
       "   'https://lush.co.kr/data/goods/18/09/17/511/t50_511_detail_481.png',\n",
       "   'https://lush.co.kr/data/goods/18/09/17/511/t50_511_detail_018.png',\n",
       "   'https://lush.co.kr/data/goods/18/09/17/511/t50_511_detail_162.png',\n",
       "   'https://lush.co.kr/data/goods/18/09/17/511/t50_511_detail_244.png',\n",
       "   'https://lush.co.kr/data/goods/18/09/17/511/t50_511_detail_366.png'],\n",
       "  'category': '러쉬 > 프로모션',\n",
       "  'salePrice': 14000,\n",
       "  'originalPrice': 14000,\n",
       "  'brand': '러쉬',\n",
       "  'url': 'https://lush.co.kr/goods/goods_view.php?goodsNo=511',\n",
       "  'color': '',\n",
       "  'volume': '100g[품절]'},\n",
       " {'name': '스노우 페어리',\n",
       "  'image': ['https://lush.co.kr/data/goods/18/09/17/511/t50_511_detail_162.png',\n",
       "   'https://lush.co.kr/data/goods/18/09/17/511/t50_511_detail_244.png',\n",
       "   'https://lush.co.kr/data/goods/18/09/17/511/t50_511_detail_366.png',\n",
       "   'https://lush.co.kr/data/goods/18/09/17/511/t50_511_detail_481.png',\n",
       "   'https://lush.co.kr/data/goods/18/09/17/511/t50_511_detail_018.png',\n",
       "   'https://lush.co.kr/data/goods/18/09/17/511/t50_511_detail_162.png',\n",
       "   'https://lush.co.kr/data/goods/18/09/17/511/t50_511_detail_244.png',\n",
       "   'https://lush.co.kr/data/goods/18/09/17/511/t50_511_detail_366.png',\n",
       "   'https://lush.co.kr/data/goods/18/09/17/511/t50_511_detail_481.png',\n",
       "   'https://lush.co.kr/data/goods/18/09/17/511/t50_511_detail_018.png',\n",
       "   'https://lush.co.kr/data/goods/18/09/17/511/t50_511_detail_162.png',\n",
       "   'https://lush.co.kr/data/goods/18/09/17/511/t50_511_detail_244.png',\n",
       "   'https://lush.co.kr/data/goods/18/09/17/511/t50_511_detail_366.png'],\n",
       "  'category': '러쉬 > 프로모션',\n",
       "  'salePrice': 14000,\n",
       "  'originalPrice': 14000,\n",
       "  'brand': '러쉬',\n",
       "  'url': 'https://lush.co.kr/goods/goods_view.php?goodsNo=511',\n",
       "  'color': '',\n",
       "  'volume': '250g:￦+12,000[품절]'},\n",
       " {'name': '스노우 페어리',\n",
       "  'image': ['https://lush.co.kr/data/goods/18/09/17/511/t50_511_detail_162.png',\n",
       "   'https://lush.co.kr/data/goods/18/09/17/511/t50_511_detail_244.png',\n",
       "   'https://lush.co.kr/data/goods/18/09/17/511/t50_511_detail_366.png',\n",
       "   'https://lush.co.kr/data/goods/18/09/17/511/t50_511_detail_481.png',\n",
       "   'https://lush.co.kr/data/goods/18/09/17/511/t50_511_detail_018.png',\n",
       "   'https://lush.co.kr/data/goods/18/09/17/511/t50_511_detail_162.png',\n",
       "   'https://lush.co.kr/data/goods/18/09/17/511/t50_511_detail_244.png',\n",
       "   'https://lush.co.kr/data/goods/18/09/17/511/t50_511_detail_366.png',\n",
       "   'https://lush.co.kr/data/goods/18/09/17/511/t50_511_detail_481.png',\n",
       "   'https://lush.co.kr/data/goods/18/09/17/511/t50_511_detail_018.png',\n",
       "   'https://lush.co.kr/data/goods/18/09/17/511/t50_511_detail_162.png',\n",
       "   'https://lush.co.kr/data/goods/18/09/17/511/t50_511_detail_244.png',\n",
       "   'https://lush.co.kr/data/goods/18/09/17/511/t50_511_detail_366.png'],\n",
       "  'category': '러쉬 > 프로모션',\n",
       "  'salePrice': 14000,\n",
       "  'originalPrice': 14000,\n",
       "  'brand': '러쉬',\n",
       "  'url': 'https://lush.co.kr/goods/goods_view.php?goodsNo=511',\n",
       "  'color': '',\n",
       "  'volume': '500g:￦+34,000'},\n",
       " {'name': '스노우 페어리',\n",
       "  'image': ['https://lush.co.kr/data/goods/18/09/17/511/t50_511_detail_162.png',\n",
       "   'https://lush.co.kr/data/goods/18/09/17/511/t50_511_detail_244.png',\n",
       "   'https://lush.co.kr/data/goods/18/09/17/511/t50_511_detail_366.png',\n",
       "   'https://lush.co.kr/data/goods/18/09/17/511/t50_511_detail_481.png',\n",
       "   'https://lush.co.kr/data/goods/18/09/17/511/t50_511_detail_018.png',\n",
       "   'https://lush.co.kr/data/goods/18/09/17/511/t50_511_detail_162.png',\n",
       "   'https://lush.co.kr/data/goods/18/09/17/511/t50_511_detail_244.png',\n",
       "   'https://lush.co.kr/data/goods/18/09/17/511/t50_511_detail_366.png',\n",
       "   'https://lush.co.kr/data/goods/18/09/17/511/t50_511_detail_481.png',\n",
       "   'https://lush.co.kr/data/goods/18/09/17/511/t50_511_detail_018.png',\n",
       "   'https://lush.co.kr/data/goods/18/09/17/511/t50_511_detail_162.png',\n",
       "   'https://lush.co.kr/data/goods/18/09/17/511/t50_511_detail_244.png',\n",
       "   'https://lush.co.kr/data/goods/18/09/17/511/t50_511_detail_366.png'],\n",
       "  'category': '러쉬 > 프로모션',\n",
       "  'salePrice': 14000,\n",
       "  'originalPrice': 14000,\n",
       "  'brand': '러쉬',\n",
       "  'url': 'https://lush.co.kr/goods/goods_view.php?goodsNo=511',\n",
       "  'color': '',\n",
       "  'volume': '1kg:￦+71,000'}]"
      ]
     },
     "metadata": {},
     "output_type": "display_data"
    }
   ],
   "source": [
    "categoryList = getCategoryList()\n",
    "result = []\n",
    "for category in categoryList:\n",
    "    driver.get(category)\n",
    "    itemList = []\n",
    "    while True:\n",
    "        try:\n",
    "            itemList += getItemList()\n",
    "            readNextPage()\n",
    "        except:\n",
    "            break\n",
    "    for item in itemList:\n",
    "        driver.get(item)\n",
    "        result += getItem()\n"
   ]
  },
  {
   "cell_type": "code",
   "execution_count": 40,
   "metadata": {},
   "outputs": [],
   "source": [
    "output = json.dumps(result,ensure_ascii=False, indent='\\t')\n",
    "\n",
    "writeJSON(output, output_name = 'lush.json')"
   ]
  },
  {
   "cell_type": "code",
   "execution_count": null,
   "metadata": {},
   "outputs": [],
   "source": []
  }
 ],
 "metadata": {
  "kernelspec": {
   "display_name": "Python 3",
   "language": "python",
   "name": "python3"
  },
  "language_info": {
   "codemirror_mode": {
    "name": "ipython",
    "version": 3
   },
   "file_extension": ".py",
   "mimetype": "text/x-python",
   "name": "python",
   "nbconvert_exporter": "python",
   "pygments_lexer": "ipython3",
   "version": "3.7.0"
  }
 },
 "nbformat": 4,
 "nbformat_minor": 2
}
