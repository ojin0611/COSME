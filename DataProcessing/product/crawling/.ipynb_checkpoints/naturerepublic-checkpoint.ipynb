{
 "cells": [
  {
   "cell_type": "markdown",
   "metadata": {},
   "source": [
    "# naturerepublic"
   ]
  },
  {
   "cell_type": "code",
   "execution_count": 1,
   "metadata": {},
   "outputs": [],
   "source": [
    "from bs4 import BeautifulSoup as bs              # 데이터파싱 라이브러리\n",
    "from selenium import webdriver\n",
    "import json\n",
    "import platform\n",
    "import re\n",
    "import time\n",
    "import copy\n",
    "from selenium.webdriver.support.ui import WebDriverWait"
   ]
  },
  {
   "cell_type": "code",
   "execution_count": 2,
   "metadata": {},
   "outputs": [],
   "source": [
    "def getNumber(string):\n",
    "    numExtracter = re.compile('[0-9]+')\n",
    "    return int(''.join(numExtracter.findall(string)))\n",
    "    "
   ]
  },
  {
   "cell_type": "code",
   "execution_count": 3,
   "metadata": {},
   "outputs": [],
   "source": [
    "def getCategoryList(url_products):\n",
    "    driver.get(url_products)\n",
    "    html = driver.page_source\n",
    "    soup = bs(html,'html.parser')\n",
    "    categories = soup.find('ul',{'class':'tab_category'})\n",
    "    categoryList = []\n",
    "    for category in categories:\n",
    "        try:\n",
    "            categoryList.append(url_home + category.li.a['href'])\n",
    "        except:\n",
    "            pass\n",
    "\n",
    "    return categoryList"
   ]
  },
  {
   "cell_type": "code",
   "execution_count": 4,
   "metadata": {},
   "outputs": [],
   "source": [
    "def clickSeeMoreButton():\n",
    "    while True:\n",
    "        try:\n",
    "            seeMoreButton = driver.find_element_by_class_name('btn_more')            \n",
    "            seeMoreButton.click()\n",
    "            time.sleep(3)\n",
    "            \n",
    "        except:\n",
    "            break"
   ]
  },
  {
   "cell_type": "code",
   "execution_count": 5,
   "metadata": {},
   "outputs": [],
   "source": [
    "def getItemList():\n",
    "    html = driver.page_source\n",
    "    soup = bs(html,'html.parser')\n",
    "    items = soup.find('ul',{'product_list contents_list'})\n",
    "    itemList = []\n",
    "    for i, item in enumerate(items):\n",
    "        try:\n",
    "            itemList.append(url_home + item.a['href'])\n",
    "        except:\n",
    "            pass\n",
    "    return itemList"
   ]
  },
  {
   "cell_type": "code",
   "execution_count": 6,
   "metadata": {},
   "outputs": [],
   "source": [
    "def getItem():\n",
    "    \n",
    "    html = driver.page_source\n",
    "    soup = bs(html, 'html.parser')\n",
    "\n",
    "    name = soup.find('div',{'class':'sub_tit_wrap tit_pro_view'}).h2.get_text().strip()\n",
    "\n",
    "    imageList = soup.find('div',{'class':'thumb_img'})\n",
    "    images = [image['rel'] for image in imageList.ul.find_all('img')]\n",
    "\n",
    "    categoryTexts = soup.find('div',{'class':'line-nav'}).find_all('a')\n",
    "    category = ''\n",
    "    for categoryText in categoryTexts:\n",
    "        category += categoryText.get_text()+' > '\n",
    "    category = category[:-3]\n",
    "\n",
    "    volume = soup.find('dl',{'class':'volume'}).dd.get_text().strip()\n",
    "\n",
    "    price = soup.find('dl',{'class':'wrap-price-area money'}).find_all('dd')\n",
    "    originalPrice = getNumber(price[0].get_text())\n",
    "    if len(price)>1:\n",
    "        salePrice = getNumber(price[1].get_text())\n",
    "    else:\n",
    "        salePrice = originalPrice\n",
    "\n",
    "    brand = '네이처리퍼블릭'\n",
    "\n",
    "    url = driver.current_url\n",
    "\n",
    "\n",
    "    item={}\n",
    "    item['name']=name\n",
    "    item['image']=images\n",
    "    item['category']=category\n",
    "    item['volume']=volume\n",
    "    item['originalPrice']=originalPrice\n",
    "    item['salePrice']=salePrice\n",
    "    item['brand']=brand\n",
    "    item['url']=url\n",
    "\n",
    "    items = []\n",
    "    colors = soup.find('ul',{'class':'txt_img'})\n",
    "    if colors:\n",
    "        colors = [color.get_text().strip() for color in colors.find_all('li')]\n",
    "        for color in colors:\n",
    "            item_copy = copy.deepcopy(item)\n",
    "            item_copy['color'] = color\n",
    "            items.append(item_copy)\n",
    "    else:\n",
    "        items.append(item)\n",
    "    display(items)\n",
    "    return items"
   ]
  },
  {
   "cell_type": "code",
   "execution_count": 7,
   "metadata": {},
   "outputs": [],
   "source": [
    "def writeJSON(jsonString, output_name='data.json'):\n",
    "    with open(output_name,'w',encoding='UTF-8') as file:\n",
    "        file.write(jsonString)\n"
   ]
  },
  {
   "cell_type": "code",
   "execution_count": 8,
   "metadata": {},
   "outputs": [],
   "source": [
    "path = 'chromedriver.exe' if (platform.system() == 'Windows') else '/Users/jg/Desktop/develop/DataTeam/DataProcessing/product/crawling/chromedriver';\n",
    "driver = webdriver.Chrome(path)\n",
    "\n",
    "url_home = 'https://www.naturerepublic.com'\n",
    "url_products = 'https://www.naturerepublic.com/shop/goods_list.php?cid=000000000000000&depth=0'\n",
    "driver.get(url_products)"
   ]
  },
  {
   "cell_type": "code",
   "execution_count": null,
   "metadata": {},
   "outputs": [],
   "source": [
    "start_time = time.time() \n",
    "#-------------------------------------------------------------#\n",
    "categoryList = getCategoryList(url_products)\n",
    "result = []\n",
    "for category in categoryList:\n",
    "    driver.get(category)\n",
    "    driver.execute_script(\"window.scrollTo(0, 0)\") \n",
    "    clickSeeMoreButton()\n",
    "    itemList = getItemList()\n",
    "    \n",
    "    totalItemNum = driver.find_element_by_class_name('sel_cat').text\n",
    "    if getNumber(totalItemNum) != len(itemList):\n",
    "        print('상품 개수:',totalItemNum)\n",
    "        print('크롤링된 개수:',itemList)\n",
    "        print('더보기 버튼이 충분히 눌려지지 않았습니다.')\n",
    "        raise \n",
    "        \n",
    "    for item in itemList:\n",
    "        driver.get(item)\n",
    "        result += getItem()\n",
    "#-------------------------------------------------------------#\n",
    "print(\"--- %0.2f seconds ---\" %(time.time() - start_time))"
   ]
  },
  {
   "cell_type": "code",
   "execution_count": 10,
   "metadata": {},
   "outputs": [],
   "source": [
    "output = json.dumps(result,ensure_ascii=False, indent='\\t')\n",
    "\n",
    "writeJSON(output, output_name = 'naturerepublic.json')"
   ]
  },
  {
   "cell_type": "code",
   "execution_count": null,
   "metadata": {},
   "outputs": [],
   "source": []
  }
 ],
 "metadata": {
  "kernelspec": {
   "display_name": "Python 3",
   "language": "python",
   "name": "python3"
  },
  "language_info": {
   "codemirror_mode": {
    "name": "ipython",
    "version": 3
   },
   "file_extension": ".py",
   "mimetype": "text/x-python",
   "name": "python",
   "nbconvert_exporter": "python",
   "pygments_lexer": "ipython3",
   "version": "3.7.0"
  }
 },
 "nbformat": 4,
 "nbformat_minor": 2
}
