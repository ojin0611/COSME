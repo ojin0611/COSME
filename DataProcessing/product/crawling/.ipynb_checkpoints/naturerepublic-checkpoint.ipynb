{
 "cells": [
  {
   "cell_type": "markdown",
   "metadata": {},
   "source": [
    "# naturerepublic"
   ]
  },
  {
   "cell_type": "code",
   "execution_count": 1,
   "metadata": {},
   "outputs": [],
   "source": [
    "from bs4 import BeautifulSoup as bs              # 데이터파싱 라이브러리\n",
    "from selenium import webdriver\n",
    "import json\n",
    "import platform\n",
    "import re\n",
    "import time\n",
    "import copy\n",
    "from selenium.webdriver.support.ui import WebDriverWait"
   ]
  },
  {
   "cell_type": "code",
   "execution_count": 2,
   "metadata": {},
   "outputs": [],
   "source": [
    "def getNumber(string):\n",
    "    numExtracter = re.compile('[0-9]+')\n",
    "    return int(''.join(numExtracter.findall(string)))\n",
    "    "
   ]
  },
  {
   "cell_type": "code",
   "execution_count": 3,
   "metadata": {},
   "outputs": [],
   "source": [
    "def getCategoryList(url_products):\n",
    "    driver.get(url_products)\n",
    "    html = driver.page_source\n",
    "    soup = bs(html,'html.parser')\n",
    "    categories = soup.find('ul',{'class':'tab_category'})\n",
    "    categoryList = []\n",
    "    for category in categories:\n",
    "        try:\n",
    "            categoryList.append(url_home + category.li.a['href'])\n",
    "        except:\n",
    "            pass\n",
    "\n",
    "    return categoryList"
   ]
  },
  {
   "cell_type": "code",
   "execution_count": 11,
   "metadata": {},
   "outputs": [],
   "source": [
    "def clickSeeMoreButton():\n",
    "    while True:\n",
    "        try:\n",
    "            seeMoreButton = driver.find_element_by_class_name('btn_more')            \n",
    "            seeMoreButton.click()\n",
    "            time.sleep(5)\n",
    "            \n",
    "        except:\n",
    "            break"
   ]
  },
  {
   "cell_type": "code",
   "execution_count": 5,
   "metadata": {},
   "outputs": [],
   "source": [
    "def getItemList():\n",
    "    html = driver.page_source\n",
    "    soup = bs(html,'html.parser')\n",
    "    items = soup.find('ul',{'product_list contents_list'})\n",
    "    itemList = []\n",
    "    for i, item in enumerate(items):\n",
    "        try:\n",
    "            itemList.append(url_home + item.a['href'])\n",
    "        except:\n",
    "            pass\n",
    "    return itemList"
   ]
  },
  {
   "cell_type": "code",
   "execution_count": 18,
   "metadata": {},
   "outputs": [],
   "source": [
    "def getItem():\n",
    "    \n",
    "    html = driver.page_source\n",
    "    soup = bs(html, 'html.parser')\n",
    "\n",
    "    name = soup.find('div',{'class':'sub_tit_wrap tit_pro_view'}).h2.get_text().strip()\n",
    "\n",
    "    imageList = soup.find('div',{'class':'thumb_img'})\n",
    "    images = [image['rel'] for image in imageList.ul.find_all('img')]\n",
    "\n",
    "    categoryTexts = soup.find('div',{'class':'line-nav'}).find_all('a')\n",
    "    category = ''\n",
    "    for categoryText in categoryTexts:\n",
    "        category += categoryText.get_text()+' > '\n",
    "    category = category[:-3]\n",
    "\n",
    "    volume = soup.find('dl',{'class':'volume'}).dd.get_text()\n",
    "\n",
    "    price = soup.find('dl',{'class':'wrap-price-area money'}).find_all('dd')\n",
    "    originalPrice = getNumber(price[0].get_text())\n",
    "    if len(price)>1:\n",
    "        salePrice = getNumber(price[1].get_text())\n",
    "    else:\n",
    "        salePrice = originalPrice\n",
    "\n",
    "    brand = '네이처리퍼블릭'\n",
    "\n",
    "    url = driver.current_url\n",
    "\n",
    "\n",
    "    item={}\n",
    "    item['name']=name\n",
    "    item['image']=images\n",
    "    item['category']=category\n",
    "    item['volume']=volume\n",
    "    item['originalPrice']=originalPrice\n",
    "    item['salePrice']=salePrice\n",
    "    item['brand']=brand\n",
    "    item['url']=url\n",
    "\n",
    "    items = []\n",
    "    colors = soup.find('ul',{'class':'txt_img'})\n",
    "    if colors:\n",
    "        colors = [color.get_text().strip() for color in colors.find_all('li')]\n",
    "        for color in colors:\n",
    "            item_copy = copy.deepcopy(item)\n",
    "            item_copy['color'] = color\n",
    "            items.append(item_copy)\n",
    "    else:\n",
    "        items.append(item)\n",
    "    display(items)\n",
    "    return items"
   ]
  },
  {
   "cell_type": "code",
   "execution_count": 7,
   "metadata": {},
   "outputs": [],
   "source": [
    "def writeJSON(jsonString, output_name='data.json'):\n",
    "    with open(output_name,'w',encoding='UTF-8') as file:\n",
    "        file.write(jsonString)\n"
   ]
  },
  {
   "cell_type": "code",
   "execution_count": 25,
   "metadata": {},
   "outputs": [],
   "source": [
    "path = 'chromedriver.exe' if (platform.system() == 'Windows') else '/Users/jg/Desktop/develop/DataTeam/DataProcessing/product/crawling/chromedriver';\n",
    "driver = webdriver.Chrome(path)\n",
    "\n",
    "url_home = 'https://www.naturerepublic.com'\n",
    "url_products = 'https://www.naturerepublic.com/shop/goods_list.php?cid=000000000000000&depth=0'\n",
    "driver.get(url_products)"
   ]
  },
  {
   "cell_type": "code",
   "execution_count": 26,
   "metadata": {},
   "outputs": [
    {
     "name": "stdout",
     "output_type": "stream",
     "text": [
      "더보기 버튼 click 횟수 : 1\n",
      "더보기 버튼 click 횟수 : 2\n",
      "더보기 버튼 click 횟수 : 3\n",
      "더보기 버튼 click 횟수 : 4\n",
      "더보기 버튼 click 횟수 : 5\n",
      "더보기 버튼 click 횟수 : 6\n",
      "더보기 버튼 click 횟수 : 7\n",
      "[{'name': '*행사* 히아 인텐스 로즈 앰플 세럼(+마스크 5매 증정)', 'image': ['http://lfyaklyqypvr852590.gcdn.ntruss.com/data/nature_data/images/product/00/00/01/21/17/b_0000012117.gif', 'http://lfyaklyqypvr852590.gcdn.ntruss.com/data/nature_data/images/addimg/00/00/01/21/17/b_00030030_add.gif', 'http://lfyaklyqypvr852590.gcdn.ntruss.com/data/nature_data/images/addimg/00/00/01/21/17/b_00030031_add.gif'], 'category': 'HOME > 카테고리 > 스킨케어', 'volume': '상세페이지 참조', 'originalPrice': 38000, 'salePrice': 26600, 'brand': '네이처리퍼블릭', 'url': 'https://www.naturerepublic.com/shop/goods_view.php?id=0000012117'}]\n",
      "[{'name': '*행사* 히아 인텐스 로즈 크림 기획세트(+마스크 10매 증정)', 'image': ['http://lfyaklyqypvr852590.gcdn.ntruss.com/data/nature_data/images/product/00/00/01/21/16/b_0000012116.gif', 'http://lfyaklyqypvr852590.gcdn.ntruss.com/data/nature_data/images/addimg/00/00/01/21/16/b_00030028_add.gif', 'http://lfyaklyqypvr852590.gcdn.ntruss.com/data/nature_data/images/addimg/00/00/01/21/16/b_00030029_add.gif'], 'category': 'HOME > 카테고리 > 스킨케어', 'volume': '상세페이지 참조', 'originalPrice': 55000, 'salePrice': 55000, 'brand': '네이처리퍼블릭', 'url': 'https://www.naturerepublic.com/shop/goods_view.php?id=0000012116'}]\n",
      "[{'name': '더 착한 마음 히알루론산 수분 앰플', 'image': ['http://lfyaklyqypvr852590.gcdn.ntruss.com/data/nature_data/images/product/00/00/01/21/02/b_0000012102.gif'], 'category': 'HOME > 카테고리 > 스킨케어', 'volume': '더 착한 마음 히알루론산 수분 앰플\\n50ml\\n', 'originalPrice': 16000, 'salePrice': 11200, 'brand': '네이처리퍼블릭', 'url': 'https://www.naturerepublic.com/shop/goods_view.php?id=0000012102'}]\n",
      "[{'name': '더 착한 마음 히알루론산 워터 토너', 'image': ['http://lfyaklyqypvr852590.gcdn.ntruss.com/data/nature_data/images/product/00/00/01/21/01/b_0000012101.gif'], 'category': 'HOME > 카테고리 > 스킨케어', 'volume': '더 착한 마음 히알루론산 워터 토너\\n400ml\\n', 'originalPrice': 18000, 'salePrice': 12600, 'brand': '네이처리퍼블릭', 'url': 'https://www.naturerepublic.com/shop/goods_view.php?id=0000012101'}]\n",
      "[{'name': '*행사* 쉐어버터 스팀크림(+추가 구매 시 할인혜택)', 'image': ['http://lfyaklyqypvr852590.gcdn.ntruss.com/data/nature_data/images/product/00/00/01/20/98/b_0000012098.gif', 'http://lfyaklyqypvr852590.gcdn.ntruss.com/data/nature_data/images/addimg/00/00/01/20/98/b_00029993_add.gif', 'http://lfyaklyqypvr852590.gcdn.ntruss.com/data/nature_data/images/addimg/00/00/01/20/98/b_00029994_add.gif', 'http://lfyaklyqypvr852590.gcdn.ntruss.com/data/nature_data/images/addimg/00/00/01/20/98/b_00029995_add.gif', 'http://lfyaklyqypvr852590.gcdn.ntruss.com/data/nature_data/images/addimg/00/00/01/20/98/b_00029996_add.gif', 'http://lfyaklyqypvr852590.gcdn.ntruss.com/data/nature_data/images/addimg/00/00/01/20/98/b_00029997_add.gif', 'http://lfyaklyqypvr852590.gcdn.ntruss.com/data/nature_data/images/addimg/00/00/01/20/98/b_00029998_add.gif'], 'category': 'HOME > 카테고리 > 스킨케어', 'volume': '상세페이지 참조', 'originalPrice': 45900, 'salePrice': 22950, 'brand': '네이처리퍼블릭', 'url': 'https://www.naturerepublic.com/shop/goods_view.php?id=0000012098'}]\n",
      "[{'name': '*행사* 그린더마 마일드 크림 (+증정 or 할인혜택)', 'image': ['http://lfyaklyqypvr852590.gcdn.ntruss.com/data/nature_data/images/product/00/00/01/20/23/b_0000012023.gif', 'http://lfyaklyqypvr852590.gcdn.ntruss.com/data/nature_data/images/addimg/00/00/01/20/23/b_00029856_add.gif', 'http://lfyaklyqypvr852590.gcdn.ntruss.com/data/nature_data/images/addimg/00/00/01/20/23/b_00030040_add.gif'], 'category': 'HOME > 카테고리 > 스킨케어', 'volume': '상세페이지 참조', 'originalPrice': 25000, 'salePrice': 25000, 'brand': '네이처리퍼블릭', 'url': 'https://www.naturerepublic.com/shop/goods_view.php?id=0000012023'}]\n",
      "[{'name': '진생 로얄 실크 럭셔리 케어 세트', 'image': ['http://lfyaklyqypvr852590.gcdn.ntruss.com/data/nature_data/images/product/00/00/01/19/74/b_0000011974.gif', 'http://lfyaklyqypvr852590.gcdn.ntruss.com/data/nature_data/images/addimg/00/00/01/19/74/b_00029746_add.gif', 'http://lfyaklyqypvr852590.gcdn.ntruss.com/data/nature_data/images/addimg/00/00/01/19/74/b_00029747_add.gif', 'http://lfyaklyqypvr852590.gcdn.ntruss.com/data/nature_data/images/addimg/00/00/01/19/74/b_00029748_add.gif'], 'category': 'HOME > 카테고리 > 스킨케어', 'volume': '진생 로얄 실크 럭셔리 케어 세트\\n크림 60g+앰플 10ml*4\\n', 'originalPrice': 160000, 'salePrice': 128000, 'brand': '네이처리퍼블릭', 'url': 'https://www.naturerepublic.com/shop/goods_view.php?id=0000011974'}]\n"
     ]
    },
    {
     "ename": "TypeError",
     "evalue": "object of type 'NoneType' has no len()",
     "output_type": "error",
     "traceback": [
      "\u001b[1;31m---------------------------------------------------------------------------\u001b[0m",
      "\u001b[1;31mTypeError\u001b[0m                                 Traceback (most recent call last)",
      "\u001b[1;32m<ipython-input-26-cb1197ca8d3b>\u001b[0m in \u001b[0;36m<module>\u001b[1;34m()\u001b[0m\n\u001b[0;32m     18\u001b[0m     \u001b[1;32mfor\u001b[0m \u001b[0mitem\u001b[0m \u001b[1;32min\u001b[0m \u001b[0mitemList\u001b[0m\u001b[1;33m:\u001b[0m\u001b[1;33m\u001b[0m\u001b[0m\n\u001b[0;32m     19\u001b[0m         \u001b[0mdriver\u001b[0m\u001b[1;33m.\u001b[0m\u001b[0mget\u001b[0m\u001b[1;33m(\u001b[0m\u001b[0mitem\u001b[0m\u001b[1;33m)\u001b[0m\u001b[1;33m\u001b[0m\u001b[0m\n\u001b[1;32m---> 20\u001b[1;33m         \u001b[0mresult\u001b[0m \u001b[1;33m+=\u001b[0m \u001b[0mgetItem\u001b[0m\u001b[1;33m(\u001b[0m\u001b[1;33m)\u001b[0m\u001b[1;33m\u001b[0m\u001b[0m\n\u001b[0m\u001b[0;32m     21\u001b[0m \u001b[1;31m#-------------------------------------------------------------#\u001b[0m\u001b[1;33m\u001b[0m\u001b[1;33m\u001b[0m\u001b[0m\n\u001b[0;32m     22\u001b[0m \u001b[0mprint\u001b[0m\u001b[1;33m(\u001b[0m\u001b[1;34m\"--- %0.2f seconds ---\"\u001b[0m \u001b[1;33m%\u001b[0m\u001b[1;33m(\u001b[0m\u001b[0mtime\u001b[0m\u001b[1;33m.\u001b[0m\u001b[0mtime\u001b[0m\u001b[1;33m(\u001b[0m\u001b[1;33m)\u001b[0m \u001b[1;33m-\u001b[0m \u001b[0mstart_time\u001b[0m\u001b[1;33m)\u001b[0m\u001b[1;33m)\u001b[0m\u001b[1;33m\u001b[0m\u001b[0m\n",
      "\u001b[1;32m<ipython-input-18-5405ce7177c6>\u001b[0m in \u001b[0;36mgetItem\u001b[1;34m()\u001b[0m\n\u001b[0;32m      2\u001b[0m \u001b[1;33m\u001b[0m\u001b[0m\n\u001b[0;32m      3\u001b[0m     \u001b[0mhtml\u001b[0m \u001b[1;33m=\u001b[0m \u001b[0mdriver\u001b[0m\u001b[1;33m.\u001b[0m\u001b[0mpage_source\u001b[0m\u001b[1;33m\u001b[0m\u001b[0m\n\u001b[1;32m----> 4\u001b[1;33m     \u001b[0msoup\u001b[0m \u001b[1;33m=\u001b[0m \u001b[0mbs\u001b[0m\u001b[1;33m(\u001b[0m\u001b[0mhtml\u001b[0m\u001b[1;33m,\u001b[0m \u001b[1;34m'html.parser'\u001b[0m\u001b[1;33m)\u001b[0m\u001b[1;33m\u001b[0m\u001b[0m\n\u001b[0m\u001b[0;32m      5\u001b[0m \u001b[1;33m\u001b[0m\u001b[0m\n\u001b[0;32m      6\u001b[0m     \u001b[0mname\u001b[0m \u001b[1;33m=\u001b[0m \u001b[0msoup\u001b[0m\u001b[1;33m.\u001b[0m\u001b[0mfind\u001b[0m\u001b[1;33m(\u001b[0m\u001b[1;34m'div'\u001b[0m\u001b[1;33m,\u001b[0m\u001b[1;33m{\u001b[0m\u001b[1;34m'class'\u001b[0m\u001b[1;33m:\u001b[0m\u001b[1;34m'sub_tit_wrap tit_pro_view'\u001b[0m\u001b[1;33m}\u001b[0m\u001b[1;33m)\u001b[0m\u001b[1;33m.\u001b[0m\u001b[0mh2\u001b[0m\u001b[1;33m.\u001b[0m\u001b[0mget_text\u001b[0m\u001b[1;33m(\u001b[0m\u001b[1;33m)\u001b[0m\u001b[1;33m.\u001b[0m\u001b[0mstrip\u001b[0m\u001b[1;33m(\u001b[0m\u001b[1;33m)\u001b[0m\u001b[1;33m\u001b[0m\u001b[0m\n",
      "\u001b[1;32m~\\Anaconda3\\lib\\site-packages\\bs4\\__init__.py\u001b[0m in \u001b[0;36m__init__\u001b[1;34m(self, markup, features, builder, parse_only, from_encoding, exclude_encodings, **kwargs)\u001b[0m\n\u001b[0;32m    244\u001b[0m         \u001b[1;32mif\u001b[0m \u001b[0mhasattr\u001b[0m\u001b[1;33m(\u001b[0m\u001b[0mmarkup\u001b[0m\u001b[1;33m,\u001b[0m \u001b[1;34m'read'\u001b[0m\u001b[1;33m)\u001b[0m\u001b[1;33m:\u001b[0m        \u001b[1;31m# It's a file-type object.\u001b[0m\u001b[1;33m\u001b[0m\u001b[0m\n\u001b[0;32m    245\u001b[0m             \u001b[0mmarkup\u001b[0m \u001b[1;33m=\u001b[0m \u001b[0mmarkup\u001b[0m\u001b[1;33m.\u001b[0m\u001b[0mread\u001b[0m\u001b[1;33m(\u001b[0m\u001b[1;33m)\u001b[0m\u001b[1;33m\u001b[0m\u001b[0m\n\u001b[1;32m--> 246\u001b[1;33m         elif len(markup) <= 256 and (\n\u001b[0m\u001b[0;32m    247\u001b[0m                 \u001b[1;33m(\u001b[0m\u001b[0misinstance\u001b[0m\u001b[1;33m(\u001b[0m\u001b[0mmarkup\u001b[0m\u001b[1;33m,\u001b[0m \u001b[0mbytes\u001b[0m\u001b[1;33m)\u001b[0m \u001b[1;32mand\u001b[0m \u001b[1;32mnot\u001b[0m \u001b[1;34mb'<'\u001b[0m \u001b[1;32min\u001b[0m \u001b[0mmarkup\u001b[0m\u001b[1;33m)\u001b[0m\u001b[1;33m\u001b[0m\u001b[0m\n\u001b[0;32m    248\u001b[0m                 \u001b[1;32mor\u001b[0m \u001b[1;33m(\u001b[0m\u001b[0misinstance\u001b[0m\u001b[1;33m(\u001b[0m\u001b[0mmarkup\u001b[0m\u001b[1;33m,\u001b[0m \u001b[0mstr\u001b[0m\u001b[1;33m)\u001b[0m \u001b[1;32mand\u001b[0m \u001b[1;32mnot\u001b[0m \u001b[1;34m'<'\u001b[0m \u001b[1;32min\u001b[0m \u001b[0mmarkup\u001b[0m\u001b[1;33m)\u001b[0m\u001b[1;33m\u001b[0m\u001b[0m\n",
      "\u001b[1;31mTypeError\u001b[0m: object of type 'NoneType' has no len()"
     ]
    }
   ],
   "source": [
    "start_time = time.time() \n",
    "#-------------------------------------------------------------#\n",
    "categoryList = getCategoryList(url_products)\n",
    "result = []\n",
    "for category in categoryList:\n",
    "    driver.get(category)\n",
    "    driver.execute_script(\"window.scrollTo(0, 0)\") \n",
    "    clickSeeMoreButton()\n",
    "    itemList = getItemList()\n",
    "    \n",
    "    totalItemNum = driver.find_element_by_class_name('sel_cat').text\n",
    "    if getNumber(totalItemNum) != len(itemList):\n",
    "        print('상품 개수:',totalItemNum)\n",
    "        print('크롤링된 개수:',itemList)\n",
    "        print('더보기 버튼이 충분히 눌려지지 않았습니다.')\n",
    "        raise \n",
    "        \n",
    "    for item in itemList:\n",
    "        driver.get(item)\n",
    "        result += getItem()\n",
    "#-------------------------------------------------------------#\n",
    "print(\"--- %0.2f seconds ---\" %(time.time() - start_time))"
   ]
  },
  {
   "cell_type": "code",
   "execution_count": 21,
   "metadata": {},
   "outputs": [],
   "source": [
    "output = json.dumps(result,ensure_ascii=False, indent='\\t')\n",
    "\n",
    "writeJSON(output, output_name = 'naturerepublic.json')"
   ]
  },
  {
   "cell_type": "code",
   "execution_count": null,
   "metadata": {},
   "outputs": [],
   "source": []
  }
 ],
 "metadata": {
  "kernelspec": {
   "display_name": "Python 3",
   "language": "python",
   "name": "python3"
  },
  "language_info": {
   "codemirror_mode": {
    "name": "ipython",
    "version": 3
   },
   "file_extension": ".py",
   "mimetype": "text/x-python",
   "name": "python",
   "nbconvert_exporter": "python",
   "pygments_lexer": "ipython3",
   "version": "3.7.0"
  }
 },
 "nbformat": 4,
 "nbformat_minor": 2
}
