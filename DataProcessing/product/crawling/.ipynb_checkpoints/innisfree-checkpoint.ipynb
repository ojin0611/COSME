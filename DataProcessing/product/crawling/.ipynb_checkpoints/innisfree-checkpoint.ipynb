{
 "cells": [
  {
   "cell_type": "markdown",
   "metadata": {},
   "source": [
    "# innisfree"
   ]
  },
  {
   "cell_type": "code",
   "execution_count": 1,
   "metadata": {},
   "outputs": [],
   "source": [
    "from bs4 import BeautifulSoup as bs              # 데이터파싱 라이브러리\n",
    "from selenium import webdriver\n",
    "import json\n",
    "import platform\n",
    "import re\n",
    "import time\n",
    "import copy"
   ]
  },
  {
   "cell_type": "code",
   "execution_count": 2,
   "metadata": {},
   "outputs": [],
   "source": [
    "def getNumber(string):\n",
    "    numExtracter = re.compile('[0-9]+')\n",
    "    return int(''.join(numExtracter.findall(string)))\n",
    "    "
   ]
  },
  {
   "cell_type": "code",
   "execution_count": 3,
   "metadata": {},
   "outputs": [],
   "source": [
    "def getCategories(driver):\n",
    "    driver.get(url_products)    # click main page\n",
    "    html = driver.page_source\n",
    "    soup = bs(html,'html.parser')\n",
    "    categories = driver.find_elements_by_xpath(\"//ul[@class='tabArea']/li/a\")\n",
    "    for c, category in enumerate(categories):\n",
    "        categories[c]=category.text\n",
    "    return categories"
   ]
  },
  {
   "cell_type": "code",
   "execution_count": 4,
   "metadata": {},
   "outputs": [],
   "source": [
    "def clickCategory(driver, category):\n",
    "    target = driver.find_element_by_link_text(category)\n",
    "    driver.execute_script('arguments[0].scrollIntoView(true);', target)\n",
    "    target.click()\n",
    "#    return driver"
   ]
  },
  {
   "cell_type": "code",
   "execution_count": 5,
   "metadata": {},
   "outputs": [],
   "source": [
    "def getItems(driver):\n",
    "    # after click category\n",
    "    html = driver.page_source \n",
    "    soup = bs(html,'html.parser')\n",
    "    items = soup.find_all('span',{'class':'prdWrap'})\n",
    "    return items # item.a['href']를 통해 링크 얻기"
   ]
  },
  {
   "cell_type": "code",
   "execution_count": 6,
   "metadata": {},
   "outputs": [],
   "source": [
    "def getItem(driver, url, category):\n",
    "    driver.get(url)\n",
    "    \n",
    "    # Start!\n",
    "    html = driver.page_source\n",
    "    soup = bs(html,'html.parser')\n",
    "\n",
    "    result_json = []\n",
    "\n",
    "    #name\n",
    "    name = soup.find('p',{'class':'pdtName'}).get_text().strip()\n",
    "    \n",
    "    #image\n",
    "    images = soup.find('ul',{'class':'imgList'}).find_all('img')\n",
    "    images = [image['src'] for image in images]\n",
    "\n",
    "    # color, price\n",
    "    isOption = False\n",
    "    selectArea = soup.find_all('div',{'class':'selectArea'})\n",
    "    for select in selectArea:\n",
    "        if select.button['id']=='selTitOpt': \n",
    "            options = select.find('ul',{'class':'selList'}).find_all('li')\n",
    "            options = [option.get_text().strip() for option in options]\n",
    "            isOption = True\n",
    "\n",
    "        if select.button['id']=='selTitAdd': \n",
    "            additions = select.find('ul',{'class':'selList'}).find_all('li')\n",
    "            additions = [addition.get_text().strip() for addition in additions]\n",
    "\n",
    "    if isOption:\n",
    "        price = soup.find('p',{'id':'pdtPrice'})\n",
    "        price = getNumber(price.get_text()) if price else ''\n",
    "\n",
    "    else:\n",
    "        price = soup.find('p',{'id':'sum'})\n",
    "        price = getNumber(price.get_text()) if price else ''\n",
    "\n",
    "\n",
    "    # dictionary 생성\n",
    "    result = {'name':'#', 'url':'#', 'image':'#', 'salePrice':'#', 'originalPrice':'#', \n",
    "              'color':'#', 'category':'#', 'brand':'innisfree','volume':'#'}\n",
    "\n",
    "    result['name']=name\n",
    "    result['url']=driver.current_url\n",
    "    result['image']=images\n",
    "    result['salePrice']=price\n",
    "    result['originalPrice']=price\n",
    "    result['category']=category\n",
    "\n",
    "    # JSON으로 저장\n",
    "    if isOption:\n",
    "        for option in options:\n",
    "            if '- 일시품절' in option:\n",
    "                option = option[:-7]\n",
    "            result_dict = copy.deepcopy(result)\n",
    "            result_dict['color']=option\n",
    "            result_json.append(result_dict)\n",
    "    else:\n",
    "        result_dict = copy.deepcopy(result)\n",
    "        result_json.append(result_dict)\n",
    "    \n",
    "    return result_json\n"
   ]
  },
  {
   "cell_type": "code",
   "execution_count": 7,
   "metadata": {},
   "outputs": [],
   "source": [
    "def writeJSON(jsonString, output_name='data.json'):\n",
    "    with open(output_name,'w',encoding='UTF-8') as file:\n",
    "        file.write(jsonString)\n"
   ]
  },
  {
   "cell_type": "code",
   "execution_count": 8,
   "metadata": {},
   "outputs": [],
   "source": [
    "path = 'chromedriver.exe' if (platform.system() == 'Windows') else '/Users/jg/Desktop/develop/DataTeam/DataProcessing/product/crawling/chromedriver';\n",
    "driver = webdriver.Chrome(path)\n",
    "\n",
    "url_home = 'http://www.innisfree.com'\n",
    "url_products = 'http://www.innisfree.com/kr/ko/ShopProductMap.do'\n",
    "driver.get(url_products)\n",
    "categories = getCategories(driver)"
   ]
  },
  {
   "cell_type": "code",
   "execution_count": 9,
   "metadata": {},
   "outputs": [
    {
     "name": "stdout",
     "output_type": "stream",
     "text": [
      "category : 스킨케어\n",
      "상품 개수 : 137\n",
      "category : 팩/마스크\n",
      "상품 개수 : 24\n",
      "category : 페이스메이크업\n",
      "상품 개수 : 6\n",
      "category : 컬러메이크업\n",
      "상품 개수 : 63\n",
      "category : 클렌징\n",
      "상품 개수 : 36\n",
      "category : 바디\n",
      "상품 개수 : 25\n",
      "category : 네일\n",
      "상품 개수 : 4\n",
      "category : 헤어\n",
      "상품 개수 : 25\n",
      "category : 방향\n",
      "상품 개수 : 76\n",
      "category : 미용소품\n",
      "상품 개수 : 106\n",
      "category : 남성\n",
      "상품 개수 : 29\n",
      "category : 라이프 스타일\n",
      "상품 개수 : 2\n",
      "category : 온라인 전용\n",
      "상품 개수 : 30\n",
      "category : 마이파운데이션\n",
      "상품 개수 : 0\n",
      "start_time 1548299057.394912\n",
      "--- 2195.351884841919 seconds ---\n"
     ]
    }
   ],
   "source": [
    "start_time = time.time() \n",
    "#-------------------------------------------------------------#\n",
    "result_json = []\n",
    "for category in categories:\n",
    "    category=category.strip()\n",
    "    clickCategory(driver,category)\n",
    "    time.sleep(2)\n",
    "    print('category :', category)\n",
    "    \n",
    "    items = getItems(driver)\n",
    "    print('상품 개수 :', len(items))\n",
    "    for item in items:\n",
    "        url = url_home + item.a['href']\n",
    "        result_json += getItem(driver,url,category)\n",
    "\n",
    "    driver.get(url_products)\n",
    "#-------------------------------------------------------------#\n",
    "print(\"start_time\", start_time) #출력해보면, 시간형식이 사람이 읽기 힘든 일련번호형식입니다.\n",
    "print(\"--- %s seconds ---\" %(time.time() - start_time))"
   ]
  },
  {
   "cell_type": "code",
   "execution_count": 10,
   "metadata": {},
   "outputs": [],
   "source": [
    "output = json.dumps(result_json,ensure_ascii=False, indent='\\t')\n",
    "\n",
    "writeJSON(output, output_name = 'innisfree.json')"
   ]
  },
  {
   "cell_type": "code",
   "execution_count": null,
   "metadata": {},
   "outputs": [],
   "source": []
  }
 ],
 "metadata": {
  "kernelspec": {
   "display_name": "Python 3",
   "language": "python",
   "name": "python3"
  },
  "language_info": {
   "codemirror_mode": {
    "name": "ipython",
    "version": 3
   },
   "file_extension": ".py",
   "mimetype": "text/x-python",
   "name": "python",
   "nbconvert_exporter": "python",
   "pygments_lexer": "ipython3",
   "version": "3.7.0"
  }
 },
 "nbformat": 4,
 "nbformat_minor": 2
}
