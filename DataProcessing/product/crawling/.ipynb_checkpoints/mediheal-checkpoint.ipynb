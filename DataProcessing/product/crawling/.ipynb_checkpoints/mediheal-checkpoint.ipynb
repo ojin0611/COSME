{
 "cells": [
  {
   "cell_type": "markdown",
   "metadata": {},
   "source": [
    "# mediheal"
   ]
  },
  {
   "cell_type": "code",
   "execution_count": 1,
   "metadata": {},
   "outputs": [],
   "source": [
    "from bs4 import BeautifulSoup as bs              # 데이터파싱 라이브러리\n",
    "from selenium import webdriver\n",
    "import json\n",
    "import platform\n",
    "import re\n",
    "import time\n",
    "import copy"
   ]
  },
  {
   "cell_type": "code",
   "execution_count": 2,
   "metadata": {},
   "outputs": [],
   "source": [
    "def getNumber(string):\n",
    "    numExtracter = re.compile('[0-9]+')\n",
    "    return int(''.join(numExtracter.findall(string)))\n",
    "    "
   ]
  },
  {
   "cell_type": "code",
   "execution_count": 3,
   "metadata": {},
   "outputs": [],
   "source": [
    "def getCategoryList():\n",
    "    html = driver.page_source\n",
    "    soup = bs(html, 'html.parser')\n",
    "    categories = soup.find('ul',{'class':'listWrap depthListWrap depth1'}).find_all('li')\n",
    "    categoryList = [url_home + category.a['href'] for category in categories]\n",
    "    categoryName = [category.get_text().strip() for category in categories]\n",
    "    return categoryList, categoryName"
   ]
  },
  {
   "cell_type": "code",
   "execution_count": 4,
   "metadata": {},
   "outputs": [],
   "source": [
    "def getPageList():\n",
    "    html = driver.page_source\n",
    "    soup = bs(html, 'html.parser')\n",
    "    pages = soup.find('div',{'class':'paginate'}).find_all('a')\n",
    "    \n",
    "    pageList = []\n",
    "    for page in pages:\n",
    "        pageList.append(url_home + page['href'])\n",
    "    return list(set(pageList))\n"
   ]
  },
  {
   "cell_type": "code",
   "execution_count": 5,
   "metadata": {},
   "outputs": [],
   "source": [
    "def getItemList():\n",
    "    html = driver.page_source\n",
    "    soup = bs(html, 'html.parser')\n",
    "    items = soup.find_all('dl',{'class':'item-list'})\n",
    "    itemList = [url_home + item.dt.a['href'] for item in items]\n",
    "    \n",
    "    return itemList\n"
   ]
  },
  {
   "cell_type": "code",
   "execution_count": 6,
   "metadata": {},
   "outputs": [],
   "source": [
    "def getItem(categoryName):\n",
    "    html = driver.page_source\n",
    "    soup = bs(html, 'html.parser')\n",
    "\n",
    "    name = soup.find('div',{'class':'prdInfoWrap'}).h3.get_text().strip()\n",
    "    \n",
    "    image = url_home + soup.find('img',{'class':'originImg'})['src']\n",
    "    \n",
    "    # categoryName 위에서 받아오자\n",
    "    category = categoryName\n",
    "    \n",
    "    volume = soup.find('span',text='용량 또는 중량')\n",
    "    volume = volume.parent.parent.td.get_text().strip() if volume else '#'\n",
    "\n",
    "    salePrice = getNumber(soup.find('span',{'class':'priceVal'}).get_text())\n",
    "    \n",
    "    originalPrice = soup.find('em',text='소비자가')\n",
    "    originalPrice = getNumber(originalPrice.parent.span.get_text()) if originalPrice else salePrice\n",
    "\n",
    "\n",
    "    item = {'name':'#', 'url':'#', 'image':'#', 'color':'#', 'category':'#', \n",
    "                   'salePrice':'#', 'originalPrice':'#', 'brand':'#','volume':'#'}\n",
    "    item['name'] = name\n",
    "    item['image']= image\n",
    "    item['category']=category\n",
    "    item['volume']=volume\n",
    "    item['salePrice']=salePrice\n",
    "    item['originalPrice']=originalPrice\n",
    "    item['brand']='mediheal'\n",
    "    item['url']=driver.current_url\n",
    "    \n",
    "    items=[]\n",
    "    items.append(item)\n",
    "    display(items)\n",
    "    return items"
   ]
  },
  {
   "cell_type": "code",
   "execution_count": 7,
   "metadata": {},
   "outputs": [],
   "source": [
    "def writeJSON(jsonString, output_name='data.json'):\n",
    "    with open(output_name,'w',encoding='UTF-8') as file:\n",
    "        file.write(jsonString)\n"
   ]
  },
  {
   "cell_type": "code",
   "execution_count": 8,
   "metadata": {},
   "outputs": [],
   "source": [
    "path = 'chromedriver.exe' if (platform.system() == 'Windows') else '/Users/jg/Desktop/develop/DataTeam/DataProcessing/product/crawling/chromedriver';\n",
    "driver = webdriver.Chrome(path)\n",
    "\n",
    "url_home = 'http://www.medihealshop.com'\n",
    "url_products = 'http://www.medihealshop.com/shop/shopbrand.html?xcode=003&type=X'"
   ]
  },
  {
   "cell_type": "code",
   "execution_count": 9,
   "metadata": {},
   "outputs": [
    {
     "data": {
      "text/plain": [
       "[{'name': '메디힐 서클 포인트 블랙칩 마스크팩',\n",
       "  'url': 'http://www.medihealshop.com/shop/shopdetail.html?branduid=1124&xcode=003&mcode=001&scode=&type=X&sort=manual&cur_code=003&GfDT=Zmh3UQ%3D%3D',\n",
       "  'image': 'http://www.medihealshop.com/shopimages/lnpcos/003001000041.jpg?1547446124',\n",
       "  'color': '#',\n",
       "  'category': '마스크팩',\n",
       "  'salePrice': 4000,\n",
       "  'originalPrice': 4000,\n",
       "  'brand': 'mediheal',\n",
       "  'volume': '25ml*1'}]"
      ]
     },
     "metadata": {},
     "output_type": "display_data"
    },
    {
     "data": {
      "text/plain": [
       "[{'name': '메디힐 서클 포인트 골든칩 마스크팩',\n",
       "  'url': 'http://www.medihealshop.com/shop/shopdetail.html?branduid=1122&xcode=003&mcode=002&scode=&type=X&sort=manual&cur_code=003&GfDT=bm18W10%3D',\n",
       "  'image': 'http://www.medihealshop.com/shopimages/lnpcos/003002000011.jpg?1547446124',\n",
       "  'color': '#',\n",
       "  'category': '마스크팩',\n",
       "  'salePrice': 2000,\n",
       "  'originalPrice': 4000,\n",
       "  'brand': 'mediheal',\n",
       "  'volume': '25ml*1'}]"
      ]
     },
     "metadata": {},
     "output_type": "display_data"
    },
    {
     "data": {
      "text/plain": [
       "[{'name': '메디힐 서클 포인트 아쿠아칩 마스크팩',\n",
       "  'url': 'http://www.medihealshop.com/shop/shopdetail.html?branduid=1123&xcode=003&mcode=001&scode=&type=X&sort=manual&cur_code=003&GfDT=bm17W14%3D',\n",
       "  'image': 'http://www.medihealshop.com/shopimages/lnpcos/003001000042.jpg?1547446124',\n",
       "  'color': '#',\n",
       "  'category': '마스크팩',\n",
       "  'salePrice': 4000,\n",
       "  'originalPrice': 4000,\n",
       "  'brand': 'mediheal',\n",
       "  'volume': '25ml*1'}]"
      ]
     },
     "metadata": {},
     "output_type": "display_data"
    },
    {
     "data": {
      "text/plain": [
       "[{'name': '메디힐 설파케어 블랙헤드 석션 코팩(10매입)',\n",
       "  'url': 'http://www.medihealshop.com/shop/shopdetail.html?branduid=132&xcode=003&mcode=004&scode=&type=X&sort=manual&cur_code=003&GfDT=aWZ3Ug%3D%3D',\n",
       "  'image': 'http://www.medihealshop.com/shopimages/lnpcos/003004000010.jpg?1547446095',\n",
       "  'color': '#',\n",
       "  'category': '마스크팩',\n",
       "  'salePrice': 6400,\n",
       "  'originalPrice': 6400,\n",
       "  'brand': 'mediheal',\n",
       "  'volume': '#'}]"
      ]
     },
     "metadata": {},
     "output_type": "display_data"
    },
    {
     "data": {
      "text/plain": [
       "[{'name': '메디힐 라보케어 판테노이드 마스크팩',\n",
       "  'url': 'http://www.medihealshop.com/shop/shopdetail.html?branduid=1107&xcode=003&mcode=001&scode=&type=X&sort=manual&cur_code=003&GfDT=aWt3VQ%3D%3D',\n",
       "  'image': 'http://www.medihealshop.com/shopimages/lnpcos/003001000024.jpg?1547446124',\n",
       "  'color': '#',\n",
       "  'category': '마스크팩',\n",
       "  'salePrice': 3000,\n",
       "  'originalPrice': 3000,\n",
       "  'brand': 'mediheal',\n",
       "  'volume': '25ml*1'}]"
      ]
     },
     "metadata": {},
     "output_type": "display_data"
    },
    {
     "data": {
      "text/plain": [
       "[{'name': '메디힐 라보케어 세라마티카 마스크팩',\n",
       "  'url': 'http://www.medihealshop.com/shop/shopdetail.html?branduid=1106&xcode=003&mcode=001&scode=&type=X&sort=manual&cur_code=003&GfDT=bGh3VA%3D%3D',\n",
       "  'image': 'http://www.medihealshop.com/shopimages/lnpcos/003001000023.jpg?1547446124',\n",
       "  'color': '#',\n",
       "  'category': '마스크팩',\n",
       "  'salePrice': 3000,\n",
       "  'originalPrice': 3000,\n",
       "  'brand': 'mediheal',\n",
       "  'volume': '25ml*1'}]"
      ]
     },
     "metadata": {},
     "output_type": "display_data"
    },
    {
     "data": {
      "text/plain": [
       "[{'name': '메디힐 에어팩킹 핑크랩 마스크',\n",
       "  'url': 'http://www.medihealshop.com/shop/shopdetail.html?branduid=1046&xcode=003&mcode=001&scode=&type=X&sort=manual&cur_code=003&GfDT=aW93Vw%3D%3D',\n",
       "  'image': 'http://www.medihealshop.com/shopimages/lnpcos/003001000053.jpg?1547446125',\n",
       "  'color': '#',\n",
       "  'category': '마스크팩',\n",
       "  'salePrice': 5000,\n",
       "  'originalPrice': 5000,\n",
       "  'brand': 'mediheal',\n",
       "  'volume': '20ml*1'}]"
      ]
     },
     "metadata": {},
     "output_type": "display_data"
    },
    {
     "data": {
      "text/plain": [
       "[{'name': '메디엔탈 매선톡스 마스크 5매 (EXP 2019.12)',\n",
       "  'url': 'http://www.medihealshop.com/shop/shopdetail.html?branduid=2664254&xcode=003&mcode=001&scode=&type=X&sort=manual&cur_code=003&GfDT=bmt%2BW1s%3D',\n",
       "  'image': 'http://www.medihealshop.com/shopimages/lnpcos/003001000083.jpg?1543562255',\n",
       "  'color': '#',\n",
       "  'category': '마스크팩',\n",
       "  'salePrice': 6000,\n",
       "  'originalPrice': 20000,\n",
       "  'brand': 'mediheal',\n",
       "  'volume': '#'}]"
      ]
     },
     "metadata": {},
     "output_type": "display_data"
    },
    {
     "data": {
      "text/plain": [
       "[{'name': '메디엔탈 백명MTS 마스크팩 5매 (EXP 2019.08)',\n",
       "  'url': 'http://www.medihealshop.com/shop/shopdetail.html?branduid=2664253&xcode=003&mcode=001&scode=&type=X&sort=manual&cur_code=003&GfDT=aG93WQ%3D%3D',\n",
       "  'image': 'http://www.medihealshop.com/shopimages/lnpcos/003001000082.jpg?1543562292',\n",
       "  'color': '#',\n",
       "  'category': '마스크팩',\n",
       "  'salePrice': 6000,\n",
       "  'originalPrice': 20000,\n",
       "  'brand': 'mediheal',\n",
       "  'volume': '#'}]"
      ]
     },
     "metadata": {},
     "output_type": "display_data"
    },
    {
     "data": {
      "text/plain": [
       "[{'name': '메디힐 제로솔루션 스킨차트 세라아쿠아 마스크',\n",
       "  'url': 'http://www.medihealshop.com/shop/shopdetail.html?branduid=1165&xcode=003&mcode=001&scode=&type=X&sort=manual&cur_code=003&GfDT=bmt%2FW1U%3D',\n",
       "  'image': 'http://www.medihealshop.com/shopimages/lnpcos/003001000064.jpg?1547446151',\n",
       "  'color': '#',\n",
       "  'category': '마스크팩',\n",
       "  'salePrice': 3000,\n",
       "  'originalPrice': 3000,\n",
       "  'brand': 'mediheal',\n",
       "  'volume': '25ml*1'}]"
      ]
     },
     "metadata": {},
     "output_type": "display_data"
    },
    {
     "data": {
      "text/plain": [
       "[{'name': '메디힐 디스패치 바이오드레싱 포 스팟 키트',\n",
       "  'url': 'http://www.medihealshop.com/shop/shopdetail.html?branduid=1184&xcode=003&mcode=004&scode=&type=X&sort=manual&cur_code=003&GfDT=aGh3UFw%3D',\n",
       "  'image': 'http://www.medihealshop.com/shopimages/lnpcos/003004000004.jpg?1547446150',\n",
       "  'color': '#',\n",
       "  'category': '마스크팩',\n",
       "  'salePrice': 7000,\n",
       "  'originalPrice': 7000,\n",
       "  'brand': 'mediheal',\n",
       "  'volume': '트러블 엑스20패치*2스팟 컨트롤20패치*2'}]"
      ]
     },
     "metadata": {},
     "output_type": "display_data"
    },
    {
     "data": {
      "text/plain": [
       "[{'name': '메디힐 디스패치 콜라젠타 포 뷔사지 업',\n",
       "  'url': 'http://www.medihealshop.com/shop/shopdetail.html?branduid=1186&xcode=003&mcode=004&scode=&type=X&sort=manual&cur_code=003&GfDT=bm19W11F',\n",
       "  'image': 'http://www.medihealshop.com/shopimages/lnpcos/003004000005.jpg?1547446150',\n",
       "  'color': '#',\n",
       "  'category': '마스크팩',\n",
       "  'salePrice': 3000,\n",
       "  'originalPrice': 3000,\n",
       "  'brand': 'mediheal',\n",
       "  'volume': '28ml*1'}]"
      ]
     },
     "metadata": {},
     "output_type": "display_data"
    },
    {
     "data": {
      "text/plain": [
       "[{'name': '메디엔탈 모공센서 하이드로겔 마스크팩 5매 (EXP 19.07.30)',\n",
       "  'url': 'http://www.medihealshop.com/shop/shopdetail.html?branduid=65&xcode=003&mcode=003&scode=&type=X&sort=manual&cur_code=003&GfDT=bm1%2BW11G',\n",
       "  'image': 'http://www.medihealshop.com/shopimages/lnpcos/003003000001.jpg?1542004816',\n",
       "  'color': '#',\n",
       "  'category': '마스크팩',\n",
       "  'salePrice': 6000,\n",
       "  'originalPrice': 15000,\n",
       "  'brand': 'mediheal',\n",
       "  'volume': '#'}]"
      ]
     },
     "metadata": {},
     "output_type": "display_data"
    },
    {
     "data": {
      "text/plain": [
       "[{'name': '메디힐 엔엠에프 미드나잇 캡핑팩',\n",
       "  'url': 'http://www.medihealshop.com/shop/shopdetail.html?branduid=590&xcode=003&mcode=003&scode=&type=X&sort=manual&cur_code=003&GfDT=aGd3UF8%3D',\n",
       "  'image': 'http://www.medihealshop.com/shopimages/lnpcos/003003000013.jpg?1547446109',\n",
       "  'color': '#',\n",
       "  'category': '마스크팩',\n",
       "  'salePrice': 3000,\n",
       "  'originalPrice': 3000,\n",
       "  'brand': 'mediheal',\n",
       "  'volume': '15ml*1'}]"
      ]
     },
     "metadata": {},
     "output_type": "display_data"
    },
    {
     "data": {
      "text/plain": [
       "[{'name': '메디힐 에어팩킹 민트랩 마스크',\n",
       "  'url': 'http://www.medihealshop.com/shop/shopdetail.html?branduid=1047&xcode=003&mcode=001&scode=&type=X&sort=manual&cur_code=003&GfDT=aW53UFg%3D',\n",
       "  'image': 'http://www.medihealshop.com/shopimages/lnpcos/003001000052.jpg?1547446125',\n",
       "  'color': '#',\n",
       "  'category': '마스크팩',\n",
       "  'salePrice': 5000,\n",
       "  'originalPrice': 5000,\n",
       "  'brand': 'mediheal',\n",
       "  'volume': '20ml*1'}]"
      ]
     },
     "metadata": {},
     "output_type": "display_data"
    },
    {
     "data": {
      "text/plain": [
       "[{'name': '메디힐 태반 리바이탈 에센셜 마스크 이엑스',\n",
       "  'url': 'http://www.medihealshop.com/shop/shopdetail.html?branduid=101&xcode=003&mcode=001&scode=&type=X&sort=manual&cur_code=003&GfDT=bmt6W11B',\n",
       "  'image': 'http://www.medihealshop.com/shopimages/lnpcos/003001000070.jpg?1547446096',\n",
       "  'color': '#',\n",
       "  'category': '마스크팩',\n",
       "  'salePrice': 2000,\n",
       "  'originalPrice': 2000,\n",
       "  'brand': 'mediheal',\n",
       "  'volume': '25ml*1'}]"
      ]
     },
     "metadata": {},
     "output_type": "display_data"
    },
    {
     "data": {
      "text/plain": [
       "[{'name': '내 마음대로 골라담는 사랑 선물세트 (+세컨덤 알파10매 추가증정)',\n",
       "  'url': 'http://www.medihealshop.com/shop/shopdetail.html?branduid=2664146&xcode=003&mcode=001&scode=&type=X&sort=manual&cur_code=003&GfDT=bm9%2BW1w%3D',\n",
       "  'image': 'http://www.medihealshop.com/shopimages/lnpcos/003001000084.jpg?1547631397',\n",
       "  'color': '#',\n",
       "  'category': '마스크팩',\n",
       "  'salePrice': 0,\n",
       "  'originalPrice': 200000,\n",
       "  'brand': 'mediheal',\n",
       "  'volume': '27ml*40'}]"
      ]
     },
     "metadata": {},
     "output_type": "display_data"
    },
    {
     "data": {
      "text/plain": [
       "[{'name': '내 마음대로 골라담는 힐링 선물세트 (+엔엠에프 마스크 11매 추가증정)',\n",
       "  'url': 'http://www.medihealshop.com/shop/shopdetail.html?branduid=1272&xcode=003&mcode=001&scode=&type=X&sort=manual&cur_code=003&GfDT=bmp5W10%3D',\n",
       "  'image': 'http://www.medihealshop.com/shopimages/lnpcos/003001000087.jpg?1547631483',\n",
       "  'color': '#',\n",
       "  'category': '마스크팩',\n",
       "  'salePrice': 0,\n",
       "  'originalPrice': 90000,\n",
       "  'brand': 'mediheal',\n",
       "  'volume': '27ml*30'}]"
      ]
     },
     "metadata": {},
     "output_type": "display_data"
    },
    {
     "data": {
      "text/plain": [
       "[{'name': '내 마음대로 골라담는 행복 선물세트 (+테라핀 핸드 5매 추가증정)',\n",
       "  'url': 'http://www.medihealshop.com/shop/shopdetail.html?branduid=2664059&xcode=003&mcode=001&scode=&type=X&sort=manual&cur_code=003&GfDT=bmx8W14%3D',\n",
       "  'image': 'http://www.medihealshop.com/shopimages/lnpcos/003001000086.jpg?1547631436',\n",
       "  'color': '#',\n",
       "  'category': '마스크팩',\n",
       "  'salePrice': 0,\n",
       "  'originalPrice': 60000,\n",
       "  'brand': 'mediheal',\n",
       "  'volume': '27ml*20'}]"
      ]
     },
     "metadata": {},
     "output_type": "display_data"
    },
    {
     "data": {
      "text/plain": [
       "[{'name': '메디힐 엔엠에프 아쿠아링 앰플 마스크 이엑스 [현빈]',\n",
       "  'url': 'http://www.medihealshop.com/shop/shopdetail.html?branduid=898&xcode=003&mcode=001&scode=&type=X&sort=manual&cur_code=003&GfDT=bm1%2BW18%3D',\n",
       "  'image': 'http://www.medihealshop.com/shopimages/lnpcos/003001000060.jpg?1547446107',\n",
       "  'color': '#',\n",
       "  'category': '마스크팩',\n",
       "  'salePrice': 3000,\n",
       "  'originalPrice': 3000,\n",
       "  'brand': 'mediheal',\n",
       "  'volume': '#'}]"
      ]
     },
     "metadata": {},
     "output_type": "display_data"
    },
    {
     "data": {
      "text/plain": [
       "[{'name': '메디힐 엔엠에프 아쿠아링 앰플 마스크 이엑스',\n",
       "  'url': 'http://www.medihealshop.com/shop/shopdetail.html?branduid=710&xcode=003&mcode=001&scode=&type=X&sort=manual&cur_code=003&GfDT=a213VQ%3D%3D',\n",
       "  'image': 'http://www.medihealshop.com/shopimages/lnpcos/003001000058.jpg?1547446108',\n",
       "  'color': '#',\n",
       "  'category': '마스크팩',\n",
       "  'salePrice': 3000,\n",
       "  'originalPrice': 3000,\n",
       "  'brand': 'mediheal',\n",
       "  'volume': '27ml*1'}]"
      ]
     },
     "metadata": {},
     "output_type": "display_data"
    },
    {
     "data": {
      "text/plain": [
       "[{'name': '메디힐 디엔에이 프로아틴 마스크',\n",
       "  'url': 'http://www.medihealshop.com/shop/shopdetail.html?branduid=963&xcode=003&mcode=001&scode=&type=X&sort=manual&cur_code=003&GfDT=bm5%2FW1k%3D',\n",
       "  'image': 'http://www.medihealshop.com/shopimages/lnpcos/003001000021.jpg?1547446107',\n",
       "  'color': '#',\n",
       "  'category': '마스크팩',\n",
       "  'salePrice': 1500,\n",
       "  'originalPrice': 3000,\n",
       "  'brand': 'mediheal',\n",
       "  'volume': '25ML*1'}]"
      ]
     },
     "metadata": {},
     "output_type": "display_data"
    },
    {
     "data": {
      "text/plain": [
       "[{'name': '메디힐 에이피이 프로아틴 마스크',\n",
       "  'url': 'http://www.medihealshop.com/shop/shopdetail.html?branduid=965&xcode=003&mcode=001&scode=&type=X&sort=manual&cur_code=003&GfDT=bG13Vw%3D%3D',\n",
       "  'image': 'http://www.medihealshop.com/shopimages/lnpcos/003001000057.jpg?1547446107',\n",
       "  'color': '#',\n",
       "  'category': '마스크팩',\n",
       "  'salePrice': 3000,\n",
       "  'originalPrice': 3000,\n",
       "  'brand': 'mediheal',\n",
       "  'volume': '25ML*1'}]"
      ]
     },
     "metadata": {},
     "output_type": "display_data"
    },
    {
     "data": {
      "text/plain": [
       "[{'name': '메디힐 알엔에이 프로아틴 마스크',\n",
       "  'url': 'http://www.medihealshop.com/shop/shopdetail.html?branduid=964&xcode=003&mcode=001&scode=&type=X&sort=manual&cur_code=003&GfDT=aGV6',\n",
       "  'image': 'http://www.medihealshop.com/shopimages/lnpcos/003001000045.jpg?1547446107',\n",
       "  'color': '#',\n",
       "  'category': '마스크팩',\n",
       "  'salePrice': 1500,\n",
       "  'originalPrice': 3000,\n",
       "  'brand': 'mediheal',\n",
       "  'volume': '25ML*1'}]"
      ]
     },
     "metadata": {},
     "output_type": "display_data"
    },
    {
     "data": {
      "text/plain": [
       "[{'name': '메디힐 피이피 프로아틴 마스크',\n",
       "  'url': 'http://www.medihealshop.com/shop/shopdetail.html?branduid=966&xcode=003&mcode=001&scode=&type=X&sort=manual&cur_code=003&GfDT=bWd3WQ%3D%3D',\n",
       "  'image': 'http://www.medihealshop.com/shopimages/lnpcos/003001000078.jpg?1547446107',\n",
       "  'color': '#',\n",
       "  'category': '마스크팩',\n",
       "  'salePrice': 3000,\n",
       "  'originalPrice': 3000,\n",
       "  'brand': 'mediheal',\n",
       "  'volume': '25ML*1'}]"
      ]
     },
     "metadata": {},
     "output_type": "display_data"
    },
    {
     "data": {
      "text/plain": [
       "[{'name': '메디힐 더블유에이치피 미백수분 블랙 마스크 이엑스',\n",
       "  'url': 'http://www.medihealshop.com/shop/shopdetail.html?branduid=709&xcode=003&mcode=002&scode=&type=X&sort=manual&cur_code=003&GfDT=bWV0',\n",
       "  'image': 'http://www.medihealshop.com/shopimages/lnpcos/003002000002.jpg?1547446108',\n",
       "  'color': '#',\n",
       "  'category': '마스크팩',\n",
       "  'salePrice': 1500,\n",
       "  'originalPrice': 3000,\n",
       "  'brand': 'mediheal',\n",
       "  'volume': '25ml*1'}]"
      ]
     },
     "metadata": {},
     "output_type": "display_data"
    },
    {
     "data": {
      "text/plain": [
       "[{'name': '메디힐 피디에프 에이씨드레싱 앰플 마스크 이엑스',\n",
       "  'url': 'http://www.medihealshop.com/shop/shopdetail.html?branduid=116&xcode=003&mcode=001&scode=&type=X&sort=manual&cur_code=003&GfDT=aGd3UFw%3D',\n",
       "  'image': 'http://www.medihealshop.com/shopimages/lnpcos/003001000077.jpg?1547446095',\n",
       "  'color': '#',\n",
       "  'category': '마스크팩',\n",
       "  'salePrice': 3000,\n",
       "  'originalPrice': 3000,\n",
       "  'brand': 'mediheal',\n",
       "  'volume': '25ml*1'}]"
      ]
     },
     "metadata": {},
     "output_type": "display_data"
    },
    {
     "data": {
      "text/plain": [
       "[{'name': '메디힐 아이피아이 라이트맥스 앰플 마스크 이엑스',\n",
       "  'url': 'http://www.medihealshop.com/shop/shopdetail.html?branduid=130&xcode=003&mcode=001&scode=&type=X&sort=manual&cur_code=003&GfDT=bmx4W11F',\n",
       "  'image': 'http://www.medihealshop.com/shopimages/lnpcos/003001000043.jpg?1547446095',\n",
       "  'color': '#',\n",
       "  'category': '마스크팩',\n",
       "  'salePrice': 1500,\n",
       "  'originalPrice': 3000,\n",
       "  'brand': 'mediheal',\n",
       "  'volume': '25ml*1'}]"
      ]
     },
     "metadata": {},
     "output_type": "display_data"
    },
    {
     "data": {
      "text/plain": [
       "[{'name': '메디힐 이지티 타임톡스 앰플 마스크 이엑스',\n",
       "  'url': 'http://www.medihealshop.com/shop/shopdetail.html?branduid=104&xcode=003&mcode=001&scode=&type=X&sort=manual&cur_code=003&GfDT=bm55W11G',\n",
       "  'image': 'http://www.medihealshop.com/shopimages/lnpcos/003001000062.jpg?1547446096',\n",
       "  'color': '#',\n",
       "  'category': '마스크팩',\n",
       "  'salePrice': 3000,\n",
       "  'originalPrice': 3000,\n",
       "  'brand': 'mediheal',\n",
       "  'volume': '25ml*1'}]"
      ]
     },
     "metadata": {},
     "output_type": "display_data"
    },
    {
     "data": {
      "text/plain": [
       "[{'name': '메디힐 티트리 케어솔루션 에센셜 마스크 이엑스',\n",
       "  'url': 'http://www.medihealshop.com/shop/shopdetail.html?branduid=711&xcode=003&mcode=001&scode=&type=X&sort=manual&cur_code=003&GfDT=bm5%2FW11H',\n",
       "  'image': 'http://www.medihealshop.com/shopimages/lnpcos/003001000073.jpg?1547446108',\n",
       "  'color': '#',\n",
       "  'category': '마스크팩',\n",
       "  'salePrice': 2000,\n",
       "  'originalPrice': 2000,\n",
       "  'brand': 'mediheal',\n",
       "  'volume': '24ml*1'}]"
      ]
     },
     "metadata": {},
     "output_type": "display_data"
    },
    {
     "data": {
      "text/plain": [
       "[{'name': '메디힐 콜라겐 임팩트 에센셜 마스크 이엑스',\n",
       "  'url': 'http://www.medihealshop.com/shop/shopdetail.html?branduid=100&xcode=003&mcode=001&scode=&type=X&sort=manual&cur_code=003&GfDT=Z2x3UFg%3D',\n",
       "  'image': 'http://www.medihealshop.com/shopimages/lnpcos/003001000068.jpg?1547446096',\n",
       "  'color': '#',\n",
       "  'category': '마스크팩',\n",
       "  'salePrice': 1000,\n",
       "  'originalPrice': 2000,\n",
       "  'brand': 'mediheal',\n",
       "  'volume': '24ml*1'}]"
      ]
     },
     "metadata": {},
     "output_type": "display_data"
    },
    {
     "data": {
      "text/plain": [
       "[{'name': '메디힐 비타 라이트빔 에센셜 마스크 이엑스',\n",
       "  'url': 'http://www.medihealshop.com/shop/shopdetail.html?branduid=131&xcode=003&mcode=001&scode=&type=X&sort=manual&cur_code=003&GfDT=bml6W11B',\n",
       "  'image': 'http://www.medihealshop.com/shopimages/lnpcos/003001000039.jpg?1547446095',\n",
       "  'color': '#',\n",
       "  'category': '마스크팩',\n",
       "  'salePrice': 2000,\n",
       "  'originalPrice': 2000,\n",
       "  'brand': 'mediheal',\n",
       "  'volume': '24ml*1'}]"
      ]
     },
     "metadata": {},
     "output_type": "display_data"
    },
    {
     "data": {
      "text/plain": [
       "[{'name': '메디힐 피기맘 쏙쏙 코팩',\n",
       "  'url': 'http://www.medihealshop.com/shop/shopdetail.html?branduid=2664281&xcode=003&mcode=004&scode=&type=X&sort=manual&cur_code=003&GfDT=bWd3UQ%3D%3D',\n",
       "  'image': 'http://www.medihealshop.com/shopimages/lnpcos/003004000012.jpg?1547171606',\n",
       "  'color': '#',\n",
       "  'category': '마스크팩',\n",
       "  'salePrice': 3000,\n",
       "  'originalPrice': 3000,\n",
       "  'brand': 'mediheal',\n",
       "  'volume': '6g * 1회'}]"
      ]
     },
     "metadata": {},
     "output_type": "display_data"
    },
    {
     "data": {
      "text/plain": [
       "[{'name': '메디힐 바이오 세컨덤 마스크 하이드로베타',\n",
       "  'url': 'http://www.medihealshop.com/shop/shopdetail.html?branduid=1125&xcode=003&mcode=003&scode=&type=X&sort=manual&cur_code=003&GfDT=aGp3UA%3D%3D',\n",
       "  'image': 'http://www.medihealshop.com/shopimages/lnpcos/003003000008.jpg?1547446124',\n",
       "  'color': '#',\n",
       "  'category': '마스크팩',\n",
       "  'salePrice': 5000,\n",
       "  'originalPrice': 5000,\n",
       "  'brand': 'mediheal',\n",
       "  'volume': '(23ML+4ml)*1'}]"
      ]
     },
     "metadata": {},
     "output_type": "display_data"
    },
    {
     "data": {
      "text/plain": [
       "[{'name': '메디힐 바이오 세컨덤 마스크 라이트 감마',\n",
       "  'url': 'http://www.medihealshop.com/shop/shopdetail.html?branduid=1127&xcode=003&mcode=003&scode=&type=X&sort=manual&cur_code=003&GfDT=bmt4W14%3D',\n",
       "  'image': 'http://www.medihealshop.com/shopimages/lnpcos/003003000006.jpg?1547446123',\n",
       "  'color': '#',\n",
       "  'category': '마스크팩',\n",
       "  'salePrice': 2500,\n",
       "  'originalPrice': 5000,\n",
       "  'brand': 'mediheal',\n",
       "  'volume': '(23ML+4ml)*1'}]"
      ]
     },
     "metadata": {},
     "output_type": "display_data"
    },
    {
     "data": {
      "text/plain": [
       "[{'name': '메디힐 바이오 세컨덤 마스크 클리어 알파 (EXP 2019.10)',\n",
       "  'url': 'http://www.medihealshop.com/shop/shopdetail.html?branduid=1126&xcode=003&mcode=003&scode=&type=X&sort=manual&cur_code=003&GfDT=aGl3Ug%3D%3D',\n",
       "  'image': 'http://www.medihealshop.com/shopimages/lnpcos/003003000007.jpg?1546396420',\n",
       "  'color': '#',\n",
       "  'category': '마스크팩',\n",
       "  'salePrice': 2250,\n",
       "  'originalPrice': 5000,\n",
       "  'brand': 'mediheal',\n",
       "  'volume': '(23ML+4ml)*1'}]"
      ]
     },
     "metadata": {},
     "output_type": "display_data"
    },
    {
     "data": {
      "text/plain": [
       "[{'name': '메디힐 엔엠에프 아쿠아링 누드겔 마스크',\n",
       "  'url': 'http://www.medihealshop.com/shop/shopdetail.html?branduid=583&xcode=003&mcode=003&scode=&type=X&sort=manual&cur_code=003&GfDT=aGx3VQ%3D%3D',\n",
       "  'image': 'http://www.medihealshop.com/shopimages/lnpcos/003003000016.jpg?1547446094',\n",
       "  'color': '#',\n",
       "  'category': '마스크팩',\n",
       "  'salePrice': 2000,\n",
       "  'originalPrice': 4000,\n",
       "  'brand': 'mediheal',\n",
       "  'volume': '30g*1'}]"
      ]
     },
     "metadata": {},
     "output_type": "display_data"
    },
    {
     "data": {
      "text/plain": [
       "[{'name': '메디힐 아이피아이 라이트맥스 누드겔 마스크',\n",
       "  'url': 'http://www.medihealshop.com/shop/shopdetail.html?branduid=584&xcode=003&mcode=003&scode=&type=X&sort=manual&cur_code=003&GfDT=bm54W1k%3D',\n",
       "  'image': 'http://www.medihealshop.com/shopimages/lnpcos/003003000015.jpg?1547446094',\n",
       "  'color': '#',\n",
       "  'category': '마스크팩',\n",
       "  'salePrice': 2000,\n",
       "  'originalPrice': 4000,\n",
       "  'brand': 'mediheal',\n",
       "  'volume': '30g*1'}]"
      ]
     },
     "metadata": {},
     "output_type": "display_data"
    },
    {
     "data": {
      "text/plain": [
       "[{'name': '메디힐 피디에프 에이씨디펜스 누드겔 마스크',\n",
       "  'url': 'http://www.medihealshop.com/shop/shopdetail.html?branduid=606&xcode=003&mcode=003&scode=&type=X&sort=manual&cur_code=003&GfDT=bmt3Vw%3D%3D',\n",
       "  'image': 'http://www.medihealshop.com/shopimages/lnpcos/003003000017.jpg?1547446108',\n",
       "  'color': '#',\n",
       "  'category': '마스크팩',\n",
       "  'salePrice': 4000,\n",
       "  'originalPrice': 4000,\n",
       "  'brand': 'mediheal',\n",
       "  'volume': '30g*1'}]"
      ]
     },
     "metadata": {},
     "output_type": "display_data"
    },
    {
     "data": {
      "text/plain": [
       "[{'name': '메디힐 제로솔루션 스킨차트 시카밍 마스크',\n",
       "  'url': 'http://www.medihealshop.com/shop/shopdetail.html?branduid=1164&xcode=003&mcode=001&scode=&type=X&sort=manual&cur_code=003&GfDT=bm57W1s%3D',\n",
       "  'image': 'http://www.medihealshop.com/shopimages/lnpcos/003001000065.jpg?1547446151',\n",
       "  'color': '#',\n",
       "  'category': '마스크팩',\n",
       "  'salePrice': 3000,\n",
       "  'originalPrice': 3000,\n",
       "  'brand': 'mediheal',\n",
       "  'volume': '30ml*1'}]"
      ]
     },
     "metadata": {},
     "output_type": "display_data"
    },
    {
     "data": {
      "text/plain": [
       "[{'name': '메디힐 제로솔루션 스킨차트 밀크플래쉬 마스크',\n",
       "  'url': 'http://www.medihealshop.com/shop/shopdetail.html?branduid=1162&xcode=003&mcode=001&scode=&type=X&sort=manual&cur_code=003&GfDT=bm5%2FW1Q%3D',\n",
       "  'image': 'http://www.medihealshop.com/shopimages/lnpcos/003001000063.jpg?1547446123',\n",
       "  'color': '#',\n",
       "  'category': '마스크팩',\n",
       "  'salePrice': 3000,\n",
       "  'originalPrice': 3000,\n",
       "  'brand': 'mediheal',\n",
       "  'volume': '25ml*1'}]"
      ]
     },
     "metadata": {},
     "output_type": "display_data"
    },
    {
     "data": {
      "text/plain": [
       "[{'name': '메디힐 디스패치 하이드라샷 포 아이 앤 스마일 라인 (아이/팔자)',\n",
       "  'url': 'http://www.medihealshop.com/shop/shopdetail.html?branduid=1187&xcode=003&mcode=004&scode=&type=X&sort=manual&cur_code=003&GfDT=bG53WA%3D%3D',\n",
       "  'image': 'http://www.medihealshop.com/shopimages/lnpcos/003004000007.jpg?1547446150',\n",
       "  'color': '#',\n",
       "  'category': '마스크팩',\n",
       "  'salePrice': 1500,\n",
       "  'originalPrice': 3000,\n",
       "  'brand': 'mediheal',\n",
       "  'volume': '2g*1'}]"
      ]
     },
     "metadata": {},
     "output_type": "display_data"
    },
    {
     "data": {
      "text/plain": [
       "[{'name': '메디힐 디스패치 리퀴드 스팟 포 스킨',\n",
       "  'url': 'http://www.medihealshop.com/shop/shopdetail.html?branduid=1188&xcode=003&mcode=004&scode=&type=X&sort=manual&cur_code=003&GfDT=Z2V8UQ%3D%3D',\n",
       "  'image': 'http://www.medihealshop.com/shopimages/lnpcos/003004000002.jpg?1547446150',\n",
       "  'color': '#',\n",
       "  'category': '마스크팩',\n",
       "  'salePrice': 5000,\n",
       "  'originalPrice': 10000,\n",
       "  'brand': 'mediheal',\n",
       "  'volume': '10g*1'}]"
      ]
     },
     "metadata": {},
     "output_type": "display_data"
    },
    {
     "data": {
      "text/plain": [
       "[{'name': '메디힐 디스패치 리필톡스 포 립 앤 넥 라인',\n",
       "  'url': 'http://www.medihealshop.com/shop/shopdetail.html?branduid=1183&xcode=003&mcode=004&scode=&type=X&sort=manual&cur_code=003&GfDT=bml5W11F',\n",
       "  'image': 'http://www.medihealshop.com/shopimages/lnpcos/003004000003.jpg?1547446150',\n",
       "  'color': '#',\n",
       "  'category': '마스크팩',\n",
       "  'salePrice': 1500,\n",
       "  'originalPrice': 3000,\n",
       "  'brand': 'mediheal',\n",
       "  'volume': '4g*1'}]"
      ]
     },
     "metadata": {},
     "output_type": "display_data"
    },
    {
     "data": {
      "text/plain": [
       "[{'name': '메디힐 디스패치 포어라스틱 포 노즈 앤 치크',\n",
       "  'url': 'http://www.medihealshop.com/shop/shopdetail.html?branduid=1185&xcode=003&mcode=004&scode=&type=X&sort=manual&cur_code=003&GfDT=aW53UF4%3D',\n",
       "  'image': 'http://www.medihealshop.com/shopimages/lnpcos/003004000006.jpg?1547446150',\n",
       "  'color': '#',\n",
       "  'category': '마스크팩',\n",
       "  'salePrice': 3000,\n",
       "  'originalPrice': 3000,\n",
       "  'brand': 'mediheal',\n",
       "  'volume': '8ml*1'}]"
      ]
     },
     "metadata": {},
     "output_type": "display_data"
    },
    {
     "data": {
      "text/plain": [
       "[{'name': '메디힐 엠이엔 타임톡스 블랙 마스크 이엑스',\n",
       "  'url': 'http://www.medihealshop.com/shop/shopdetail.html?branduid=106&xcode=003&mcode=002&scode=&type=X&sort=manual&cur_code=003&GfDT=aWt3UF8%3D',\n",
       "  'image': 'http://www.medihealshop.com/shopimages/lnpcos/003002000009.jpg?1547446096',\n",
       "  'color': '#',\n",
       "  'category': '마스크팩',\n",
       "  'salePrice': 1500,\n",
       "  'originalPrice': 3000,\n",
       "  'brand': 'mediheal',\n",
       "  'volume': '#'}]"
      ]
     },
     "metadata": {},
     "output_type": "display_data"
    },
    {
     "data": {
      "text/plain": [
       "[{'name': '메디힐 에이치디피 포어스탬핑 블랙 마스크 이엑스',\n",
       "  'url': 'http://www.medihealshop.com/shop/shopdetail.html?branduid=105&xcode=003&mcode=002&scode=&type=X&sort=manual&cur_code=003&GfDT=bmZ3UFg%3D',\n",
       "  'image': 'http://www.medihealshop.com/shopimages/lnpcos/003002000008.jpg?1547446096',\n",
       "  'color': '#',\n",
       "  'category': '마스크팩',\n",
       "  'salePrice': 3000,\n",
       "  'originalPrice': 3000,\n",
       "  'brand': 'mediheal',\n",
       "  'volume': '25ml*1'}]"
      ]
     },
     "metadata": {},
     "output_type": "display_data"
    },
    {
     "data": {
      "text/plain": [
       "[{'name': '메디힐 모공톡스 탄산 버블 시트',\n",
       "  'url': 'http://www.medihealshop.com/shop/shopdetail.html?branduid=640&xcode=003&mcode=002&scode=&type=X&sort=manual&cur_code=003&GfDT=bmt3UFk%3D',\n",
       "  'image': 'http://www.medihealshop.com/shopimages/lnpcos/003002000004.jpg?1547446108',\n",
       "  'color': '#',\n",
       "  'category': '마스크팩',\n",
       "  'salePrice': 1500,\n",
       "  'originalPrice': 3000,\n",
       "  'brand': 'mediheal',\n",
       "  'volume': '18ml*1'}]"
      ]
     },
     "metadata": {},
     "output_type": "display_data"
    },
    {
     "data": {
      "text/plain": [
       "[{'name': '메디힐 E.G.T타임톡스겔 팔자주름패치',\n",
       "  'url': 'http://www.medihealshop.com/shop/shopdetail.html?branduid=127&xcode=003&mcode=004&scode=&type=X&sort=manual&cur_code=003&GfDT=ZmV9',\n",
       "  'image': 'http://www.medihealshop.com/shopimages/lnpcos/003004000001.jpg?1547446095',\n",
       "  'color': '#',\n",
       "  'category': '마스크팩',\n",
       "  'salePrice': 2400,\n",
       "  'originalPrice': 2400,\n",
       "  'brand': 'mediheal',\n",
       "  'volume': '14g*1'}]"
      ]
     },
     "metadata": {},
     "output_type": "display_data"
    },
    {
     "data": {
      "text/plain": [
       "[{'name': '메디힐 엔엠에프 아쿠아링겔 아이필 패치',\n",
       "  'url': 'http://www.medihealshop.com/shop/shopdetail.html?branduid=118&xcode=003&mcode=004&scode=&type=X&sort=manual&cur_code=003&GfDT=bml9W10%3D',\n",
       "  'image': 'http://www.medihealshop.com/shopimages/lnpcos/003004000009.jpg?1547446095',\n",
       "  'color': '#',\n",
       "  'category': '마스크팩',\n",
       "  'salePrice': 2400,\n",
       "  'originalPrice': 2400,\n",
       "  'brand': 'mediheal',\n",
       "  'volume': '14.5g*1'}]"
      ]
     },
     "metadata": {},
     "output_type": "display_data"
    },
    {
     "data": {
      "text/plain": [
       "[{'name': '메디힐 브이티알 스트레칭패치',\n",
       "  'url': 'http://www.medihealshop.com/shop/shopdetail.html?branduid=162&xcode=003&mcode=004&scode=&type=X&sort=manual&cur_code=003&GfDT=aGd3Uw%3D%3D',\n",
       "  'image': 'http://www.medihealshop.com/shopimages/lnpcos/003004000008.jpg?1547446094',\n",
       "  'color': '#',\n",
       "  'category': '마스크팩',\n",
       "  'salePrice': 2500,\n",
       "  'originalPrice': 2500,\n",
       "  'brand': 'mediheal',\n",
       "  'volume': '20ml*1'}]"
      ]
     },
     "metadata": {},
     "output_type": "display_data"
    },
    {
     "data": {
      "text/plain": [
       "[{'name': '메디힐 메이언스 검은콩차 마스크',\n",
       "  'url': 'http://www.medihealshop.com/shop/shopdetail.html?branduid=1364&xcode=003&mcode=002&scode=&type=X&sort=manual&cur_code=003&GfDT=bmx6W18%3D',\n",
       "  'image': 'http://www.medihealshop.com/shopimages/lnpcos/003002000010.jpg?1547446151',\n",
       "  'color': '#',\n",
       "  'category': '마스크팩',\n",
       "  'salePrice': 2000,\n",
       "  'originalPrice': 2000,\n",
       "  'brand': 'mediheal',\n",
       "  'volume': '25ml*1'}]"
      ]
     },
     "metadata": {},
     "output_type": "display_data"
    },
    {
     "data": {
      "text/plain": [
       "[{'name': '메디힐 메이언스 낫또검 마스크',\n",
       "  'url': 'http://www.medihealshop.com/shop/shopdetail.html?branduid=1367&xcode=003&mcode=001&scode=&type=X&sort=manual&cur_code=003&GfDT=bmx6W1g%3D',\n",
       "  'image': 'http://www.medihealshop.com/shopimages/lnpcos/003001000029.jpg?1547446151',\n",
       "  'color': '#',\n",
       "  'category': '마스크팩',\n",
       "  'salePrice': 2000,\n",
       "  'originalPrice': 2000,\n",
       "  'brand': 'mediheal',\n",
       "  'volume': '25ml*1'}]"
      ]
     },
     "metadata": {},
     "output_type": "display_data"
    },
    {
     "data": {
      "text/plain": [
       "[{'name': '메디힐 메이언스 두부밀크 마스크',\n",
       "  'url': 'http://www.medihealshop.com/shop/shopdetail.html?branduid=1365&xcode=003&mcode=001&scode=&type=X&sort=manual&cur_code=003&GfDT=bml3VA%3D%3D',\n",
       "  'image': 'http://www.medihealshop.com/shopimages/lnpcos/003001000030.jpg?1547446151',\n",
       "  'color': '#',\n",
       "  'category': '마스크팩',\n",
       "  'salePrice': 2000,\n",
       "  'originalPrice': 2000,\n",
       "  'brand': 'mediheal',\n",
       "  'volume': '25ml*1'}]"
      ]
     },
     "metadata": {},
     "output_type": "display_data"
    },
    {
     "data": {
      "text/plain": [
       "[{'name': '메디힐 메이언스 프로젤리 마스크',\n",
       "  'url': 'http://www.medihealshop.com/shop/shopdetail.html?branduid=1366&xcode=003&mcode=001&scode=&type=X&sort=manual&cur_code=003&GfDT=bm51W1o%3D',\n",
       "  'image': 'http://www.medihealshop.com/shopimages/lnpcos/003001000031.jpg?1547446151',\n",
       "  'color': '#',\n",
       "  'category': '마스크팩',\n",
       "  'salePrice': 2000,\n",
       "  'originalPrice': 2000,\n",
       "  'brand': 'mediheal',\n",
       "  'volume': '25ml*1'}]"
      ]
     },
     "metadata": {},
     "output_type": "display_data"
    },
    {
     "data": {
      "text/plain": [
       "[{'name': '메디힐 더블유에이치피 샤워 캡핑팩',\n",
       "  'url': 'http://www.medihealshop.com/shop/shopdetail.html?branduid=588&xcode=003&mcode=003&scode=&type=X&sort=manual&cur_code=003&GfDT=aW13Vg%3D%3D',\n",
       "  'image': 'http://www.medihealshop.com/shopimages/lnpcos/003003000009.jpg?1547446094',\n",
       "  'color': '#',\n",
       "  'category': '마스크팩',\n",
       "  'salePrice': 1500,\n",
       "  'originalPrice': 3000,\n",
       "  'brand': 'mediheal',\n",
       "  'volume': '15ml*1'}]"
      ]
     },
     "metadata": {},
     "output_type": "display_data"
    },
    {
     "data": {
      "text/plain": [
       "[{'name': '메디힐 l 라인프렌즈 워밍아이 마스크 (무향)',\n",
       "  'url': 'http://www.medihealshop.com/shop/shopdetail.html?branduid=1041&xcode=003&mcode=001&scode=&type=X&sort=manual&cur_code=003&GfDT=Z2Z3WQ%3D%3D',\n",
       "  'image': 'http://www.medihealshop.com/shopimages/lnpcos/003001000015.jpg?1547446126',\n",
       "  'color': '#',\n",
       "  'category': '마스크팩',\n",
       "  'salePrice': 3000,\n",
       "  'originalPrice': 3000,\n",
       "  'brand': 'mediheal',\n",
       "  'volume': 'ETC'}]"
      ]
     },
     "metadata": {},
     "output_type": "display_data"
    },
    {
     "data": {
      "text/plain": [
       "[{'name': '메디힐 l 라인프렌즈 워밍아이 마스크 (라벤더향)',\n",
       "  'url': 'http://www.medihealshop.com/shop/shopdetail.html?branduid=1042&xcode=003&mcode=001&scode=&type=X&sort=manual&cur_code=003&GfDT=aG53WA%3D%3D',\n",
       "  'image': 'http://www.medihealshop.com/shopimages/lnpcos/003001000014.jpg?1547446125',\n",
       "  'color': '#',\n",
       "  'category': '마스크팩',\n",
       "  'salePrice': 3000,\n",
       "  'originalPrice': 3000,\n",
       "  'brand': 'mediheal',\n",
       "  'volume': 'ETC'}]"
      ]
     },
     "metadata": {},
     "output_type": "display_data"
    },
    {
     "data": {
      "text/plain": [
       "[{'name': '메디힐 l 라인프렌즈 워밍아이 마스크 (자몽향)',\n",
       "  'url': 'http://www.medihealshop.com/shop/shopdetail.html?branduid=1043&xcode=003&mcode=001&scode=&type=X&sort=manual&cur_code=003&GfDT=bmx8W11E',\n",
       "  'image': 'http://www.medihealshop.com/shopimages/lnpcos/003001000016.jpg?1547446125',\n",
       "  'color': '#',\n",
       "  'category': '마스크팩',\n",
       "  'salePrice': 3000,\n",
       "  'originalPrice': 3000,\n",
       "  'brand': 'mediheal',\n",
       "  'volume': 'ETC'}]"
      ]
     },
     "metadata": {},
     "output_type": "display_data"
    },
    {
     "data": {
      "text/plain": [
       "[{'name': '메디힐 브라이트클레이 메쉬필 마스크',\n",
       "  'url': 'http://www.medihealshop.com/shop/shopdetail.html?branduid=1044&xcode=003&mcode=001&scode=&type=X&sort=manual&cur_code=003&GfDT=bm97W11F',\n",
       "  'image': 'http://www.medihealshop.com/shopimages/lnpcos/003001000035.jpg?1546396411',\n",
       "  'color': '#',\n",
       "  'category': '마스크팩',\n",
       "  'salePrice': 3500,\n",
       "  'originalPrice': 7000,\n",
       "  'brand': 'mediheal',\n",
       "  'volume': '17g*1'}]"
      ]
     },
     "metadata": {},
     "output_type": "display_data"
    },
    {
     "data": {
      "text/plain": [
       "[{'name': '메디힐 핑크칼라민 메쉬필 마스크 (EXP 2019.11)',\n",
       "  'url': 'http://www.medihealshop.com/shop/shopdetail.html?branduid=1045&xcode=003&mcode=001&scode=&type=X&sort=manual&cur_code=003&GfDT=aW93UF4%3D',\n",
       "  'image': 'http://www.medihealshop.com/shopimages/lnpcos/003001000079.jpg?1546396422',\n",
       "  'color': '#',\n",
       "  'category': '마스크팩',\n",
       "  'salePrice': 2800,\n",
       "  'originalPrice': 7000,\n",
       "  'brand': 'mediheal',\n",
       "  'volume': '17g*1'}]"
      ]
     },
     "metadata": {},
     "output_type": "display_data"
    },
    {
     "data": {
      "text/plain": [
       "[{'name': '메디힐 에이제로샷 파마스크',\n",
       "  'url': 'http://www.medihealshop.com/shop/shopdetail.html?branduid=1277&xcode=003&mcode=001&scode=&type=X&sort=manual&cur_code=003&GfDT=bmt%2BW11H',\n",
       "  'image': 'http://www.medihealshop.com/shopimages/lnpcos/003001000054.jpg?1547446149',\n",
       "  'color': '#',\n",
       "  'category': '마스크팩',\n",
       "  'salePrice': 2000,\n",
       "  'originalPrice': 2000,\n",
       "  'brand': 'mediheal',\n",
       "  'volume': '#'}]"
      ]
     },
     "metadata": {},
     "output_type": "display_data"
    },
    {
     "data": {
      "text/plain": [
       "[{'name': '메디힐 플래티넘 V-라이프 에센셜 마스크 이엑스',\n",
       "  'url': 'http://www.medihealshop.com/shop/shopdetail.html?branduid=885&xcode=003&mcode=001&scode=&type=X&sort=manual&cur_code=003&GfDT=aGl3UFg%3D',\n",
       "  'image': 'http://www.medihealshop.com/shopimages/lnpcos/003001000075.jpg?1547446107',\n",
       "  'color': '#',\n",
       "  'category': '마스크팩',\n",
       "  'salePrice': 2000,\n",
       "  'originalPrice': 2000,\n",
       "  'brand': 'mediheal',\n",
       "  'volume': '25ml*1'}]"
      ]
     },
     "metadata": {},
     "output_type": "display_data"
    },
    {
     "data": {
      "text/plain": [
       "[{'name': '메디힐 에스테 3스텝 마스크 - 엔엠에프',\n",
       "  'url': 'http://www.medihealshop.com/shop/shopdetail.html?branduid=1058&xcode=003&mcode=001&scode=&type=X&sort=manual&cur_code=003&GfDT=Z2x3UFk%3D',\n",
       "  'image': 'http://www.medihealshop.com/shopimages/lnpcos/003001000050.jpg?1547446125',\n",
       "  'color': '#',\n",
       "  'category': '마스크팩',\n",
       "  'salePrice': 2000,\n",
       "  'originalPrice': 4000,\n",
       "  'brand': 'mediheal',\n",
       "  'volume': '(3ml*25ml*1.5ml)*1'}]"
      ]
     },
     "metadata": {},
     "output_type": "display_data"
    },
    {
     "data": {
      "text/plain": [
       "[{'name': '메디엔탈 탄력센서 하이드로겔 마스크팩 5매 (EXP 19.07.30)',\n",
       "  'url': 'http://www.medihealshop.com/shop/shopdetail.html?branduid=66&xcode=003&mcode=003&scode=&type=X&sort=manual&cur_code=003&GfDT=bmx5W1w%3D',\n",
       "  'image': 'http://www.medihealshop.com/shopimages/lnpcos/003003000004.jpg?1542004816',\n",
       "  'color': '#',\n",
       "  'category': '마스크팩',\n",
       "  'salePrice': 6000,\n",
       "  'originalPrice': 6000,\n",
       "  'brand': 'mediheal',\n",
       "  'volume': '#'}]"
      ]
     },
     "metadata": {},
     "output_type": "display_data"
    },
    {
     "data": {
      "text/plain": [
       "[{'name': '메디엔탈 수분센서 하이드로겔 마스크팩 5매 (EXP 19.07.30)',\n",
       "  'url': 'http://www.medihealshop.com/shop/shopdetail.html?branduid=75&xcode=003&mcode=003&scode=&type=X&sort=manual&cur_code=003&GfDT=bm98W10%3D',\n",
       "  'image': 'http://www.medihealshop.com/shopimages/lnpcos/003003000002.jpg?1542004816',\n",
       "  'color': '#',\n",
       "  'category': '마스크팩',\n",
       "  'salePrice': 6000,\n",
       "  'originalPrice': 6000,\n",
       "  'brand': 'mediheal',\n",
       "  'volume': '#'}]"
      ]
     },
     "metadata": {},
     "output_type": "display_data"
    },
    {
     "data": {
      "text/plain": [
       "[{'name': '메디엔탈 피부톤센서 하이드로겔 마스크팩 5매 (EXP 19.07.30)',\n",
       "  'url': 'http://www.medihealshop.com/shop/shopdetail.html?branduid=64&xcode=003&mcode=003&scode=&type=X&sort=manual&cur_code=003&GfDT=a2V%2F',\n",
       "  'image': 'http://www.medihealshop.com/shopimages/lnpcos/003003000005.jpg?1542004817',\n",
       "  'color': '#',\n",
       "  'category': '마스크팩',\n",
       "  'salePrice': 6000,\n",
       "  'originalPrice': 6000,\n",
       "  'brand': 'mediheal',\n",
       "  'volume': '#'}]"
      ]
     },
     "metadata": {},
     "output_type": "display_data"
    },
    {
     "data": {
      "text/plain": [
       "[{'name': '메디엔탈 진정센서 하이드로겔 마스크팩 5매 (EXP 19.07.30)',\n",
       "  'url': 'http://www.medihealshop.com/shop/shopdetail.html?branduid=67&xcode=003&mcode=003&scode=&type=X&sort=manual&cur_code=003&GfDT=bW53Ug%3D%3D',\n",
       "  'image': 'http://www.medihealshop.com/shopimages/lnpcos/003003000003.jpg?1542004816',\n",
       "  'color': '#',\n",
       "  'category': '마스크팩',\n",
       "  'salePrice': 6000,\n",
       "  'originalPrice': 6000,\n",
       "  'brand': 'mediheal',\n",
       "  'volume': '#'}]"
      ]
     },
     "metadata": {},
     "output_type": "display_data"
    },
    {
     "data": {
      "text/plain": [
       "[{'name': '메디힐 에스테 3스텝 피디에프 마스크 5매 (EXP 2019.04~06)',\n",
       "  'url': 'http://www.medihealshop.com/shop/shopdetail.html?branduid=1059&xcode=003&mcode=001&scode=&type=X&sort=manual&cur_code=003&GfDT=bml9W1g%3D',\n",
       "  'image': 'http://www.medihealshop.com/shopimages/lnpcos/003001000051.jpg?1542004835',\n",
       "  'color': '#',\n",
       "  'category': '마스크팩',\n",
       "  'salePrice': 8000,\n",
       "  'originalPrice': 8000,\n",
       "  'brand': 'mediheal',\n",
       "  'volume': '(3ml*25ml*1.5ml)*1'}]"
      ]
     },
     "metadata": {},
     "output_type": "display_data"
    },
    {
     "data": {
      "text/plain": [
       "[{'name': '메디엔탈 보타닉 가든 마스크 브로콜리 10매 (EXP 2019.06~11)',\n",
       "  'url': 'http://www.medihealshop.com/shop/shopdetail.html?branduid=2664250&xcode=003&mcode=001&scode=&type=X&sort=manual&cur_code=003&GfDT=bWt3VA%3D%3D',\n",
       "  'image': 'http://www.medihealshop.com/shopimages/lnpcos/003001000080.jpg?1543562340',\n",
       "  'color': '#',\n",
       "  'category': '마스크팩',\n",
       "  'salePrice': 4000,\n",
       "  'originalPrice': 4000,\n",
       "  'brand': 'mediheal',\n",
       "  'volume': '#'}]"
      ]
     },
     "metadata": {},
     "output_type": "display_data"
    },
    {
     "data": {
      "text/plain": [
       "[{'name': '메디엔탈 보타닉 가든 마스크 호박 10매 (EXP 2019.06~11)',\n",
       "  'url': 'http://www.medihealshop.com/shop/shopdetail.html?branduid=2664251&xcode=003&mcode=001&scode=&type=X&sort=manual&cur_code=003&GfDT=aGd3Vw%3D%3D',\n",
       "  'image': 'http://www.medihealshop.com/shopimages/lnpcos/003001000081.jpg?1543562318',\n",
       "  'color': '#',\n",
       "  'category': '마스크팩',\n",
       "  'salePrice': 4000,\n",
       "  'originalPrice': 4000,\n",
       "  'brand': 'mediheal',\n",
       "  'volume': '#'}]"
      ]
     },
     "metadata": {},
     "output_type": "display_data"
    },
    {
     "data": {
      "text/plain": [
       "[{'name': '메디힐 제로솔루션 스킨차트 티트리페어 마스크',\n",
       "  'url': 'http://www.medihealshop.com/shop/shopdetail.html?branduid=1163&xcode=003&mcode=001&scode=&type=X&sort=manual&cur_code=003&GfDT=bm16W1s%3D',\n",
       "  'image': 'http://www.medihealshop.com/shopimages/lnpcos/003001000066.jpg?1547446123',\n",
       "  'color': '#',\n",
       "  'category': '마스크팩',\n",
       "  'salePrice': 4000,\n",
       "  'originalPrice': 4000,\n",
       "  'brand': 'mediheal',\n",
       "  'volume': '25ml*1'}]"
      ]
     },
     "metadata": {},
     "output_type": "display_data"
    },
    {
     "data": {
      "text/plain": [
       "[{'name': '메디힐 에스큐에스 미드나잇 캡핑팩',\n",
       "  'url': 'http://www.medihealshop.com/shop/shopdetail.html?branduid=591&xcode=003&mcode=003&scode=&type=X&sort=manual&cur_code=003&GfDT=Zmh3WQ%3D%3D',\n",
       "  'image': 'http://www.medihealshop.com/shopimages/lnpcos/003003000010.jpg?1547446108',\n",
       "  'color': '#',\n",
       "  'category': '마스크팩',\n",
       "  'salePrice': 3000,\n",
       "  'originalPrice': 3000,\n",
       "  'brand': 'mediheal',\n",
       "  'volume': '15ml*1'}]"
      ]
     },
     "metadata": {},
     "output_type": "display_data"
    },
    {
     "data": {
      "text/plain": [
       "[{'name': '메디힐 제비집 프로아틴 3X 마스크',\n",
       "  'url': 'http://www.medihealshop.com/shop/shopdetail.html?branduid=1005&xcode=003&mcode=001&scode=&type=X&sort=manual&cur_code=003&GfDT=Zm93WA%3D%3D',\n",
       "  'image': 'http://www.medihealshop.com/shopimages/lnpcos/003001000067.jpg?1547446106',\n",
       "  'color': '#',\n",
       "  'category': '마스크팩',\n",
       "  'salePrice': 4000,\n",
       "  'originalPrice': 4000,\n",
       "  'brand': 'mediheal',\n",
       "  'volume': '#'}]"
      ]
     },
     "metadata": {},
     "output_type": "display_data"
    },
    {
     "data": {
      "text/plain": [
       "[{'name': '메디힐 마유 프로아틴 3X 마스크',\n",
       "  'url': 'http://www.medihealshop.com/shop/shopdetail.html?branduid=1006&xcode=003&mcode=001&scode=&type=X&sort=manual&cur_code=003&GfDT=amh3UFw%3D',\n",
       "  'image': 'http://www.medihealshop.com/shopimages/lnpcos/003001000027.jpg?1547446106',\n",
       "  'color': '#',\n",
       "  'category': '마스크팩',\n",
       "  'salePrice': 4000,\n",
       "  'originalPrice': 4000,\n",
       "  'brand': 'mediheal',\n",
       "  'volume': '#'}]"
      ]
     },
     "metadata": {},
     "output_type": "display_data"
    },
    {
     "data": {
      "text/plain": [
       "[{'name': '메디플랜 센서티브 선크림 60g',\n",
       "  'url': 'http://www.medihealshop.com/shop/shopdetail.html?branduid=738&xcode=004&mcode=003&scode=&type=X&sort=manual&cur_code=004&GfDT=bm96W1w%3D',\n",
       "  'image': 'http://www.medihealshop.com/shopimages/lnpcos/004003000001.jpg?1538043554',\n",
       "  'color': '#',\n",
       "  'category': '스킨케어',\n",
       "  'salePrice': 12600,\n",
       "  'originalPrice': 18000,\n",
       "  'brand': 'mediheal',\n",
       "  'volume': '60ml'}]"
      ]
     },
     "metadata": {},
     "output_type": "display_data"
    },
    {
     "data": {
      "text/plain": [
       "[{'name': '메디엔탈 콜라겐 필레이저 마일드필링젤 150ml',\n",
       "  'url': 'http://www.medihealshop.com/shop/shopdetail.html?branduid=59&xcode=004&mcode=001&scode=&type=X&sort=manual&cur_code=004&GfDT=Zmd3UA%3D%3D',\n",
       "  'image': 'http://www.medihealshop.com/shopimages/lnpcos/004001000027.jpg?1536572234',\n",
       "  'color': '#',\n",
       "  'category': '스킨케어',\n",
       "  'salePrice': 12600,\n",
       "  'originalPrice': 18000,\n",
       "  'brand': 'mediheal',\n",
       "  'volume': '#'}]"
      ]
     },
     "metadata": {},
     "output_type": "display_data"
    },
    {
     "data": {
      "text/plain": [
       "[{'name': '메디힐 올인원 화이트 포토 에센셜',\n",
       "  'url': 'http://www.medihealshop.com/shop/shopdetail.html?branduid=210&xcode=004&mcode=002&scode=&type=X&sort=manual&cur_code=004&GfDT=bmp0W14%3D',\n",
       "  'image': 'http://www.medihealshop.com/shopimages/lnpcos/004002000024.jpg?1538042077',\n",
       "  'color': '#',\n",
       "  'category': '스킨케어',\n",
       "  'salePrice': 13500,\n",
       "  'originalPrice': 19500,\n",
       "  'brand': 'mediheal',\n",
       "  'volume': '#'}]"
      ]
     },
     "metadata": {},
     "output_type": "display_data"
    },
    {
     "data": {
      "text/plain": [
       "[{'name': '메디힐 멜라킬 선크림 60ml',\n",
       "  'url': 'http://www.medihealshop.com/shop/shopdetail.html?branduid=228&xcode=004&mcode=003&scode=&type=X&sort=manual&cur_code=004&GfDT=aGZ3Ug%3D%3D',\n",
       "  'image': 'http://www.medihealshop.com/shopimages/lnpcos/004003000005.jpg?1538043578',\n",
       "  'color': '#',\n",
       "  'category': '스킨케어',\n",
       "  'salePrice': 10000,\n",
       "  'originalPrice': 10000,\n",
       "  'brand': 'mediheal',\n",
       "  'volume': '60ml'}]"
      ]
     },
     "metadata": {},
     "output_type": "display_data"
    },
    {
     "data": {
      "text/plain": [
       "[{'name': '메디힐 라보케어 판테노립스 힐밤 [리뉴얼]',\n",
       "  'url': 'http://www.medihealshop.com/shop/shopdetail.html?branduid=1204&xcode=004&mcode=002&scode=&type=X&sort=manual&cur_code=004&GfDT=bmp7W1g%3D',\n",
       "  'image': 'http://www.medihealshop.com/shopimages/lnpcos/004002000021.jpg?1538041656',\n",
       "  'color': '#',\n",
       "  'category': '스킨케어',\n",
       "  'salePrice': 4900,\n",
       "  'originalPrice': 7000,\n",
       "  'brand': 'mediheal',\n",
       "  'volume': '#'}]"
      ]
     },
     "metadata": {},
     "output_type": "display_data"
    },
    {
     "data": {
      "text/plain": [
       "[{'name': '메디힐 에이제로샷 5종 기획세트',\n",
       "  'url': 'http://www.medihealshop.com/shop/shopdetail.html?branduid=1215&xcode=004&mcode=002&scode=&type=X&sort=manual&cur_code=004&GfDT=aWh3VA%3D%3D',\n",
       "  'image': 'http://www.medihealshop.com/shopimages/lnpcos/004002000023.jpg?1538041592',\n",
       "  'color': '#',\n",
       "  'category': '스킨케어',\n",
       "  'salePrice': 47000,\n",
       "  'originalPrice': 47000,\n",
       "  'brand': 'mediheal',\n",
       "  'volume': '#'}]"
      ]
     },
     "metadata": {},
     "output_type": "display_data"
    },
    {
     "data": {
      "text/plain": [
       "[{'name': '메디힐 라보케어 선 스프레이',\n",
       "  'url': 'http://www.medihealshop.com/shop/shopdetail.html?branduid=2664042&xcode=004&mcode=003&scode=&type=X&sort=manual&cur_code=004&GfDT=bm97W1o%3D',\n",
       "  'image': 'http://www.medihealshop.com/shopimages/lnpcos/004003000006.jpg?1538043322',\n",
       "  'color': '#',\n",
       "  'category': '스킨케어',\n",
       "  'salePrice': 7900,\n",
       "  'originalPrice': 7900,\n",
       "  'brand': 'mediheal',\n",
       "  'volume': '180ml'}]"
      ]
     },
     "metadata": {},
     "output_type": "display_data"
    },
    {
     "data": {
      "text/plain": [
       "[{'name': '메디힐 제로 솔루션 클렌징 워터 300 ml + 50ml',\n",
       "  'url': 'http://www.medihealshop.com/shop/shopdetail.html?branduid=1137&xcode=004&mcode=001&scode=&type=X&sort=manual&cur_code=004&GfDT=bm13Vg%3D%3D',\n",
       "  'image': 'http://www.medihealshop.com/shopimages/lnpcos/004001000014.jpg?1538042949',\n",
       "  'color': '#',\n",
       "  'category': '스킨케어',\n",
       "  'salePrice': 12600,\n",
       "  'originalPrice': 18000,\n",
       "  'brand': 'mediheal',\n",
       "  'volume': '300ml+증정50ml'}]"
      ]
     },
     "metadata": {},
     "output_type": "display_data"
    },
    {
     "data": {
      "text/plain": [
       "[{'name': '메디힐 NMF 엔엠에프 아쿠아링 히아루론 겔 255ml',\n",
       "  'url': 'http://www.medihealshop.com/shop/shopdetail.html?branduid=873&xcode=004&mcode=002&scode=&type=X&sort=manual&cur_code=004&GfDT=bmx0W1Q%3D',\n",
       "  'image': 'http://www.medihealshop.com/shopimages/lnpcos/004002000003.jpg?1538041866',\n",
       "  'color': '#',\n",
       "  'category': '스킨케어',\n",
       "  'salePrice': 10500,\n",
       "  'originalPrice': 10500,\n",
       "  'brand': 'mediheal',\n",
       "  'volume': '#'}]"
      ]
     },
     "metadata": {},
     "output_type": "display_data"
    },
    {
     "data": {
      "text/plain": [
       "[{'name': '메디힐 라보케어 판테노이드 크림 [건조피부, 중건성용]',\n",
       "  'url': 'http://www.medihealshop.com/shop/shopdetail.html?branduid=1039&xcode=004&mcode=002&scode=&type=X&sort=manual&cur_code=004&GfDT=bmx%2BW1U%3D',\n",
       "  'image': 'http://www.medihealshop.com/shopimages/lnpcos/004002000009.jpg?1538041815',\n",
       "  'color': '#',\n",
       "  'category': '스킨케어',\n",
       "  'salePrice': 16100,\n",
       "  'originalPrice': 16100,\n",
       "  'brand': 'mediheal',\n",
       "  'volume': '50ml'}]"
      ]
     },
     "metadata": {},
     "output_type": "display_data"
    },
    {
     "data": {
      "text/plain": [
       "[{'name': '메디엔탈 콜라겐 필레이저 클렌징크림 300ml',\n",
       "  'url': 'http://www.medihealshop.com/shop/shopdetail.html?branduid=58&xcode=004&mcode=001&scode=&type=X&sort=manual&cur_code=004&GfDT=Z2d3UFw%3D',\n",
       "  'image': 'http://www.medihealshop.com/shopimages/lnpcos/004001000028.jpg?1536572234',\n",
       "  'color': '#',\n",
       "  'category': '스킨케어',\n",
       "  'salePrice': 10500,\n",
       "  'originalPrice': 10500,\n",
       "  'brand': 'mediheal',\n",
       "  'volume': '#'}]"
      ]
     },
     "metadata": {},
     "output_type": "display_data"
    },
    {
     "data": {
      "text/plain": [
       "[{'name': '메디힐 에이 제로 샷 스페셜 케어 2종 기획세트',\n",
       "  'url': 'http://www.medihealshop.com/shop/shopdetail.html?branduid=1096&xcode=004&mcode=002&scode=&type=X&sort=manual&cur_code=004&GfDT=bmx1W11F',\n",
       "  'image': 'http://www.medihealshop.com/shopimages/lnpcos/004002000022.jpg?1538041694',\n",
       "  'color': '#',\n",
       "  'category': '스킨케어',\n",
       "  'salePrice': 54000,\n",
       "  'originalPrice': 54000,\n",
       "  'brand': 'mediheal',\n",
       "  'volume': '#'}]"
      ]
     },
     "metadata": {},
     "output_type": "display_data"
    },
    {
     "data": {
      "text/plain": [
       "[{'name': '메디힐 필로소프트 아이앤립 클렌징 듀오',\n",
       "  'url': 'http://www.medihealshop.com/shop/shopdetail.html?branduid=1302&xcode=004&mcode=001&scode=&type=X&sort=manual&cur_code=004&GfDT=ZmV8Uw%3D%3D',\n",
       "  'image': 'http://www.medihealshop.com/shopimages/lnpcos/004001000021.jpg?1538042565',\n",
       "  'color': '#',\n",
       "  'category': '스킨케어',\n",
       "  'salePrice': 7800,\n",
       "  'originalPrice': 7800,\n",
       "  'brand': 'mediheal',\n",
       "  'volume': '88g+8g (패드 : 70매 / 클린봉 : 45개)'}]"
      ]
     },
     "metadata": {},
     "output_type": "display_data"
    },
    {
     "data": {
      "text/plain": [
       "[{'name': '메디힐 라보케어 선스틱',\n",
       "  'url': 'http://www.medihealshop.com/shop/shopdetail.html?branduid=2664041&xcode=004&mcode=003&scode=&type=X&sort=manual&cur_code=004&GfDT=Z2Z3UF8%3D',\n",
       "  'image': 'http://www.medihealshop.com/shopimages/lnpcos/004003000007.jpg?1538043482',\n",
       "  'color': '#',\n",
       "  'category': '스킨케어',\n",
       "  'salePrice': 17000,\n",
       "  'originalPrice': 17000,\n",
       "  'brand': 'mediheal',\n",
       "  'volume': '20g'}]"
      ]
     },
     "metadata": {},
     "output_type": "display_data"
    },
    {
     "data": {
      "text/plain": [
       "[{'name': '메디힐 멜라킬 더마베이스 선블럭',\n",
       "  'url': 'http://www.medihealshop.com/shop/shopdetail.html?branduid=96&xcode=004&mcode=003&scode=&type=X&sort=manual&cur_code=004&GfDT=amZ3UFg%3D',\n",
       "  'image': 'http://www.medihealshop.com/shopimages/lnpcos/004003000004.jpg?1538043609',\n",
       "  'color': '#',\n",
       "  'category': '스킨케어',\n",
       "  'salePrice': 22400,\n",
       "  'originalPrice': 22400,\n",
       "  'brand': 'mediheal',\n",
       "  'volume': '60ml+60ml'}]"
      ]
     },
     "metadata": {},
     "output_type": "display_data"
    },
    {
     "data": {
      "text/plain": [
       "[{'name': '메디힐 콜라겐케어 클렌징폼 170ml',\n",
       "  'url': 'http://www.medihealshop.com/shop/shopdetail.html?branduid=98&xcode=004&mcode=001&scode=&type=X&sort=manual&cur_code=004&GfDT=bml%2BW1w%3D',\n",
       "  'image': 'http://www.medihealshop.com/shopimages/lnpcos/004001000026.jpg?1538043206',\n",
       "  'color': '#',\n",
       "  'category': '스킨케어',\n",
       "  'salePrice': 14000,\n",
       "  'originalPrice': 14000,\n",
       "  'brand': 'mediheal',\n",
       "  'volume': '170ml'}]"
      ]
     },
     "metadata": {},
     "output_type": "display_data"
    },
    {
     "data": {
      "text/plain": [
       "[{'name': '메디힐 알로에베라 아쿠아겔 XL 300ml',\n",
       "  'url': 'http://www.medihealshop.com/shop/shopdetail.html?branduid=79&xcode=004&mcode=002&scode=&type=X&sort=manual&cur_code=004&GfDT=aGd3UA%3D%3D',\n",
       "  'image': 'http://www.medihealshop.com/shopimages/lnpcos/004002000015.jpg?1538042104',\n",
       "  'color': '#',\n",
       "  'category': '스킨케어',\n",
       "  'salePrice': 28000,\n",
       "  'originalPrice': 28000,\n",
       "  'brand': 'mediheal',\n",
       "  'volume': '300ml'}]"
      ]
     },
     "metadata": {},
     "output_type": "display_data"
    },
    {
     "data": {
      "text/plain": [
       "[{'name': '메디힐 알로에베라 아쿠아겔 120ml',\n",
       "  'url': 'http://www.medihealshop.com/shop/shopdetail.html?branduid=61&xcode=004&mcode=002&scode=&type=X&sort=manual&cur_code=004&GfDT=bm55W14%3D',\n",
       "  'image': 'http://www.medihealshop.com/shopimages/lnpcos/004002000014.jpg?1538042140',\n",
       "  'color': '#',\n",
       "  'category': '스킨케어',\n",
       "  'salePrice': 16000,\n",
       "  'originalPrice': 16000,\n",
       "  'brand': 'mediheal',\n",
       "  'volume': '120ml+10ml'}]"
      ]
     },
     "metadata": {},
     "output_type": "display_data"
    },
    {
     "data": {
      "text/plain": [
       "[{'name': '메디힐 알로에베라 하이드로겔',\n",
       "  'url': 'http://www.medihealshop.com/shop/shopdetail.html?branduid=764&xcode=004&mcode=002&scode=&type=X&sort=manual&cur_code=004&GfDT=bmh8W18%3D',\n",
       "  'image': 'http://www.medihealshop.com/shopimages/lnpcos/004002000016.jpg?1538041895',\n",
       "  'color': '#',\n",
       "  'category': '스킨케어',\n",
       "  'salePrice': 5000,\n",
       "  'originalPrice': 5000,\n",
       "  'brand': 'mediheal',\n",
       "  'volume': '#'}]"
      ]
     },
     "metadata": {},
     "output_type": "display_data"
    },
    {
     "data": {
      "text/plain": [
       "[{'name': '메디힐 엔엠에프 아쿠아링 이펙트 크림 50 ml',\n",
       "  'url': 'http://www.medihealshop.com/shop/shopdetail.html?branduid=215&xcode=004&mcode=002&scode=&type=X&sort=manual&cur_code=004&GfDT=bm91W1g%3D',\n",
       "  'image': 'http://www.medihealshop.com/shopimages/lnpcos/004002000019.jpg?1538041935',\n",
       "  'color': '#',\n",
       "  'category': '스킨케어',\n",
       "  'salePrice': 26000,\n",
       "  'originalPrice': 26000,\n",
       "  'brand': 'mediheal',\n",
       "  'volume': '50ml'}]"
      ]
     },
     "metadata": {},
     "output_type": "display_data"
    },
    {
     "data": {
      "text/plain": [
       "[{'name': '메디힐 엔엠에프 아쿠아링 이펙트 에멀젼 150 ml',\n",
       "  'url': 'http://www.medihealshop.com/shop/shopdetail.html?branduid=213&xcode=004&mcode=002&scode=&type=X&sort=manual&cur_code=004&GfDT=bWx3VA%3D%3D',\n",
       "  'image': 'http://www.medihealshop.com/shopimages/lnpcos/004002000018.jpg?1538042016',\n",
       "  'color': '#',\n",
       "  'category': '스킨케어',\n",
       "  'salePrice': 22000,\n",
       "  'originalPrice': 22000,\n",
       "  'brand': 'mediheal',\n",
       "  'volume': '150ml'}]"
      ]
     },
     "metadata": {},
     "output_type": "display_data"
    },
    {
     "data": {
      "text/plain": [
       "[{'name': '메디힐 엔엠에프 아쿠아링 이펙트 토너 165 ml',\n",
       "  'url': 'http://www.medihealshop.com/shop/shopdetail.html?branduid=212&xcode=004&mcode=002&scode=&type=X&sort=manual&cur_code=004&GfDT=bmp%2BW1o%3D',\n",
       "  'image': 'http://www.medihealshop.com/shopimages/lnpcos/004002000020.jpg?1538042044',\n",
       "  'color': '#',\n",
       "  'category': '스킨케어',\n",
       "  'salePrice': 20000,\n",
       "  'originalPrice': 20000,\n",
       "  'brand': 'mediheal',\n",
       "  'volume': '165ml'}]"
      ]
     },
     "metadata": {},
     "output_type": "display_data"
    },
    {
     "data": {
      "text/plain": [
       "[{'name': '메디힐 엔엠에프 아쿠아링 이펙트 세럼 55 ml',\n",
       "  'url': 'http://www.medihealshop.com/shop/shopdetail.html?branduid=214&xcode=004&mcode=002&scode=&type=X&sort=manual&cur_code=004&GfDT=Zmx3Vg%3D%3D',\n",
       "  'image': 'http://www.medihealshop.com/shopimages/lnpcos/004002000017.jpg?1538041988',\n",
       "  'color': '#',\n",
       "  'category': '스킨케어',\n",
       "  'salePrice': 26000,\n",
       "  'originalPrice': 26000,\n",
       "  'brand': 'mediheal',\n",
       "  'volume': '55ml'}]"
      ]
     },
     "metadata": {},
     "output_type": "display_data"
    },
    {
     "data": {
      "text/plain": [
       "[{'name': '메디힐 라보케어 세라마티카 크림 [피지조절, 지복합성]',\n",
       "  'url': 'http://www.medihealshop.com/shop/shopdetail.html?branduid=1040&xcode=004&mcode=002&scode=&type=X&sort=manual&cur_code=004&GfDT=bmp7W1Q%3D',\n",
       "  'image': 'http://www.medihealshop.com/shopimages/lnpcos/004002000006.jpg?1538041758',\n",
       "  'color': '#',\n",
       "  'category': '스킨케어',\n",
       "  'salePrice': 16100,\n",
       "  'originalPrice': 23000,\n",
       "  'brand': 'mediheal',\n",
       "  'volume': '50ml'}]"
      ]
     },
     "metadata": {},
     "output_type": "display_data"
    },
    {
     "data": {
      "text/plain": [
       "[{'name': '메디힐 필로소프트 XP 블랙포어샷 2개 (10% 블랙포어샷) (EXP 2019.08)',\n",
       "  'url': 'http://www.medihealshop.com/shop/shopdetail.html?branduid=1012&xcode=004&mcode=001&scode=&type=X&sort=manual&cur_code=004&GfDT=bm9%2FW1U%3D',\n",
       "  'image': 'http://www.medihealshop.com/shopimages/lnpcos/004001000016.jpg?1538043047',\n",
       "  'color': '#',\n",
       "  'category': '스킨케어',\n",
       "  'salePrice': 4800,\n",
       "  'originalPrice': 12000,\n",
       "  'brand': 'mediheal',\n",
       "  'volume': '#'}]"
      ]
     },
     "metadata": {},
     "output_type": "display_data"
    },
    {
     "data": {
      "text/plain": [
       "[{'name': '메디힐 필로소프트 XP샷 (7% 마일드샷)',\n",
       "  'url': 'http://www.medihealshop.com/shop/shopdetail.html?branduid=855&xcode=004&mcode=001&scode=&type=X&sort=manual&cur_code=004&GfDT=bmZ3UFw%3D',\n",
       "  'image': 'http://www.medihealshop.com/shopimages/lnpcos/004001000017.jpg?1538043094',\n",
       "  'color': '#',\n",
       "  'category': '스킨케어',\n",
       "  'salePrice': 6000,\n",
       "  'originalPrice': 6000,\n",
       "  'brand': 'mediheal',\n",
       "  'volume': '#'}]"
      ]
     },
     "metadata": {},
     "output_type": "display_data"
    },
    {
     "data": {
      "text/plain": [
       "[{'name': '메디힐 필로소프트 XP샷 (9% 클리어샷)',\n",
       "  'url': 'http://www.medihealshop.com/shop/shopdetail.html?branduid=901&xcode=004&mcode=001&scode=&type=X&sort=manual&cur_code=004&GfDT=Z2t3UF0%3D',\n",
       "  'image': 'http://www.medihealshop.com/shopimages/lnpcos/004001000018.jpg?1538043070',\n",
       "  'color': '#',\n",
       "  'category': '스킨케어',\n",
       "  'salePrice': 6000,\n",
       "  'originalPrice': 6000,\n",
       "  'brand': 'mediheal',\n",
       "  'volume': '#'}]"
      ]
     },
     "metadata": {},
     "output_type": "display_data"
    },
    {
     "data": {
      "text/plain": [
       "[{'name': '메디힐 필로소프트 엑스피 브라이트닝 필링 패드 (7매입)',\n",
       "  'url': 'http://www.medihealshop.com/shop/shopdetail.html?branduid=1020&xcode=004&mcode=001&scode=&type=X&sort=manual&cur_code=004&GfDT=aW13UF4%3D',\n",
       "  'image': 'http://www.medihealshop.com/shopimages/lnpcos/004001000023.jpg?1538042980',\n",
       "  'color': '#',\n",
       "  'category': '스킨케어',\n",
       "  'salePrice': 5900,\n",
       "  'originalPrice': 5900,\n",
       "  'brand': 'mediheal',\n",
       "  'volume': '#'}]"
      ]
     },
     "metadata": {},
     "output_type": "display_data"
    },
    {
     "data": {
      "text/plain": [
       "[{'name': '메디힐 필로소프트 엑스피 아쿠아 필링 패드 (7매입)',\n",
       "  'url': 'http://www.medihealshop.com/shop/shopdetail.html?branduid=1019&xcode=004&mcode=001&scode=&type=X&sort=manual&cur_code=004&GfDT=bmp9W11H',\n",
       "  'image': 'http://www.medihealshop.com/shopimages/lnpcos/004001000024.jpg?1538043007',\n",
       "  'color': '#',\n",
       "  'category': '스킨케어',\n",
       "  'salePrice': 5900,\n",
       "  'originalPrice': 5900,\n",
       "  'brand': 'mediheal',\n",
       "  'volume': '#'}]"
      ]
     },
     "metadata": {},
     "output_type": "display_data"
    },
    {
     "data": {
      "text/plain": [
       "[{'name': '메디힐 제로 솔루션 립앤아이 리무버 120ml + 화장솜증정',\n",
       "  'url': 'http://www.medihealshop.com/shop/shopdetail.html?branduid=1139&xcode=004&mcode=001&scode=&type=X&sort=manual&cur_code=004&GfDT=aGt3UFg%3D',\n",
       "  'image': 'http://www.medihealshop.com/shopimages/lnpcos/004001000012.jpg?1538042781',\n",
       "  'color': '#',\n",
       "  'category': '스킨케어',\n",
       "  'salePrice': 9800,\n",
       "  'originalPrice': 14000,\n",
       "  'brand': 'mediheal',\n",
       "  'volume': '120ml+화장솜30매'}]"
      ]
     },
     "metadata": {},
     "output_type": "display_data"
    },
    {
     "data": {
      "text/plain": [
       "[{'name': '메디힐 제로 솔루션 버블 폼 150ml',\n",
       "  'url': 'http://www.medihealshop.com/shop/shopdetail.html?branduid=1138&xcode=004&mcode=001&scode=&type=X&sort=manual&cur_code=004&GfDT=bmp1W11B',\n",
       "  'image': 'http://www.medihealshop.com/shopimages/lnpcos/004001000013.jpg?1538042921',\n",
       "  'color': '#',\n",
       "  'category': '스킨케어',\n",
       "  'salePrice': 12600,\n",
       "  'originalPrice': 18000,\n",
       "  'brand': 'mediheal',\n",
       "  'volume': '150ml'}]"
      ]
     },
     "metadata": {},
     "output_type": "display_data"
    },
    {
     "data": {
      "text/plain": [
       "[{'name': '메디힐 필로소프트 버블레이저 패드',\n",
       "  'url': 'http://www.medihealshop.com/shop/shopdetail.html?branduid=1303&xcode=004&mcode=001&scode=&type=X&sort=manual&cur_code=004&GfDT=bmx9W1w%3D',\n",
       "  'image': 'http://www.medihealshop.com/shopimages/lnpcos/004001000019.jpg?1538042532',\n",
       "  'color': '#',\n",
       "  'category': '스킨케어',\n",
       "  'salePrice': 7500,\n",
       "  'originalPrice': 9800,\n",
       "  'brand': 'mediheal',\n",
       "  'volume': '패드 20매'}]"
      ]
     },
     "metadata": {},
     "output_type": "display_data"
    },
    {
     "data": {
      "text/plain": [
       "[{'name': '메디힐 마스킹 레이어링 앰플 하이드라샷',\n",
       "  'url': 'http://www.medihealshop.com/shop/shopdetail.html?branduid=1290&xcode=004&mcode=002&scode=&type=X&sort=manual&cur_code=004&GfDT=aGl3UA%3D%3D',\n",
       "  'image': 'http://www.medihealshop.com/shopimages/lnpcos/004002000013.jpg?1538041497',\n",
       "  'color': '#',\n",
       "  'category': '스킨케어',\n",
       "  'salePrice': 7700,\n",
       "  'originalPrice': 11000,\n",
       "  'brand': 'mediheal',\n",
       "  'volume': '4ml*3'}]"
      ]
     },
     "metadata": {},
     "output_type": "display_data"
    },
    {
     "data": {
      "text/plain": [
       "[{'name': '메디힐 마스킹 레이어링 앰플 엑셀토닝샷',\n",
       "  'url': 'http://www.medihealshop.com/shop/shopdetail.html?branduid=1291&xcode=004&mcode=002&scode=&type=X&sort=manual&cur_code=004&GfDT=Z2t3Uw%3D%3D',\n",
       "  'image': 'http://www.medihealshop.com/shopimages/lnpcos/004002000011.jpg?1538040797',\n",
       "  'color': '#',\n",
       "  'category': '스킨케어',\n",
       "  'salePrice': 7700,\n",
       "  'originalPrice': 11000,\n",
       "  'brand': 'mediheal',\n",
       "  'volume': '4ml*3'}]"
      ]
     },
     "metadata": {},
     "output_type": "display_data"
    },
    {
     "data": {
      "text/plain": [
       "[{'name': '메디힐 마스킹 레이어링 앰플 포어마이너샷',\n",
       "  'url': 'http://www.medihealshop.com/shop/shopdetail.html?branduid=1292&xcode=004&mcode=002&scode=&type=X&sort=manual&cur_code=004&GfDT=bm18W18%3D',\n",
       "  'image': 'http://www.medihealshop.com/shopimages/lnpcos/004002000012.jpg?1538040763',\n",
       "  'color': '#',\n",
       "  'category': '스킨케어',\n",
       "  'salePrice': 7700,\n",
       "  'originalPrice': 11000,\n",
       "  'brand': 'mediheal',\n",
       "  'volume': '4ml*3'}]"
      ]
     },
     "metadata": {},
     "output_type": "display_data"
    },
    {
     "data": {
      "text/plain": [
       "[{'name': '메디힐 마스킹 레이어링 앰플 스페셜 에디션',\n",
       "  'url': 'http://www.medihealshop.com/shop/shopdetail.html?branduid=1293&xcode=004&mcode=002&scode=&type=X&sort=manual&cur_code=004&GfDT=a2p3VQ%3D%3D',\n",
       "  'image': 'http://www.medihealshop.com/shopimages/lnpcos/004002000010.jpg?1538040721',\n",
       "  'color': '#',\n",
       "  'category': '스킨케어',\n",
       "  'salePrice': 7700,\n",
       "  'originalPrice': 11000,\n",
       "  'brand': 'mediheal',\n",
       "  'volume': '4ml*3'}]"
      ]
     },
     "metadata": {},
     "output_type": "display_data"
    },
    {
     "data": {
      "text/plain": [
       "[{'name': '메디힐 마스킹 레이어링 앰플 타임케어 솔루션 세트 (견본품 증정)',\n",
       "  'url': 'http://www.medihealshop.com/shop/shopdetail.html?branduid=2664160&xcode=004&mcode=002&scode=&type=X&sort=manual&cur_code=004&GfDT=bm51W1k%3D',\n",
       "  'image': 'http://www.medihealshop.com/shopimages/lnpcos/004002000025.jpg?1538469754',\n",
       "  'color': '#',\n",
       "  'category': '스킨케어',\n",
       "  'salePrice': 15400,\n",
       "  'originalPrice': 22000,\n",
       "  'brand': 'mediheal',\n",
       "  'volume': '하이드라 샷 4ml*4, 엑셀토닝 샷 4ml*1, 포어마이너샷 4m*1'}]"
      ]
     },
     "metadata": {},
     "output_type": "display_data"
    },
    {
     "data": {
      "text/plain": [
       "[{'name': '메디힐 아쿠하 로즈 아하 클렌징 폼',\n",
       "  'url': 'http://www.medihealshop.com/shop/shopdetail.html?branduid=1313&xcode=004&mcode=001&scode=&type=X&sort=manual&cur_code=004&GfDT=a253Vw%3D%3D',\n",
       "  'image': 'http://www.medihealshop.com/shopimages/lnpcos/004001000002.jpg?1538042500',\n",
       "  'color': '#',\n",
       "  'category': '스킨케어',\n",
       "  'salePrice': 7200,\n",
       "  'originalPrice': 9000,\n",
       "  'brand': 'mediheal',\n",
       "  'volume': '150ml'}]"
      ]
     },
     "metadata": {},
     "output_type": "display_data"
    },
    {
     "data": {
      "text/plain": [
       "[{'name': '메디힐 아쿠하 모링가 파하 클렌징 폼',\n",
       "  'url': 'http://www.medihealshop.com/shop/shopdetail.html?branduid=1314&xcode=004&mcode=001&scode=&type=X&sort=manual&cur_code=004&GfDT=bm99W1s%3D',\n",
       "  'image': 'http://www.medihealshop.com/shopimages/lnpcos/004001000005.jpg?1538042477',\n",
       "  'color': '#',\n",
       "  'category': '스킨케어',\n",
       "  'salePrice': 7200,\n",
       "  'originalPrice': 9000,\n",
       "  'brand': 'mediheal',\n",
       "  'volume': '150ml'}]"
      ]
     },
     "metadata": {},
     "output_type": "display_data"
    },
    {
     "data": {
      "text/plain": [
       "[{'name': '메디힐 아쿠하 티트리 바하 클렌징 폼',\n",
       "  'url': 'http://www.medihealshop.com/shop/shopdetail.html?branduid=1315&xcode=004&mcode=001&scode=&type=X&sort=manual&cur_code=004&GfDT=am53WQ%3D%3D',\n",
       "  'image': 'http://www.medihealshop.com/shopimages/lnpcos/004001000010.jpg?1538042450',\n",
       "  'color': '#',\n",
       "  'category': '스킨케어',\n",
       "  'salePrice': 7200,\n",
       "  'originalPrice': 9000,\n",
       "  'brand': 'mediheal',\n",
       "  'volume': '150ml'}]"
      ]
     },
     "metadata": {},
     "output_type": "display_data"
    },
    {
     "data": {
      "text/plain": [
       "[{'name': '메디힐 아쿠하 로즈 아하 스킨 토닉',\n",
       "  'url': 'http://www.medihealshop.com/shop/shopdetail.html?branduid=1354&xcode=004&mcode=002&scode=&type=X&sort=manual&cur_code=004&GfDT=bmh%2FW1U%3D',\n",
       "  'image': 'http://www.medihealshop.com/shopimages/lnpcos/004002000029.jpg?1538126750',\n",
       "  'color': '#',\n",
       "  'category': '스킨케어',\n",
       "  'salePrice': 10500,\n",
       "  'originalPrice': 15000,\n",
       "  'brand': 'mediheal',\n",
       "  'volume': '300ml'}]"
      ]
     },
     "metadata": {},
     "output_type": "display_data"
    },
    {
     "data": {
      "text/plain": [
       "[{'name': '메디힐 아쿠하 모링가 파하 스킨 토닉',\n",
       "  'url': 'http://www.medihealshop.com/shop/shopdetail.html?branduid=1355&xcode=004&mcode=002&scode=&type=X&sort=manual&cur_code=004&GfDT=am53UFw%3D',\n",
       "  'image': 'http://www.medihealshop.com/shopimages/lnpcos/004002000028.jpg?1538042329',\n",
       "  'color': '#',\n",
       "  'category': '스킨케어',\n",
       "  'salePrice': 10500,\n",
       "  'originalPrice': 15000,\n",
       "  'brand': 'mediheal',\n",
       "  'volume': '300ml'}]"
      ]
     },
     "metadata": {},
     "output_type": "display_data"
    },
    {
     "data": {
      "text/plain": [
       "[{'name': '메디힐 아쿠하 티트리 바하 스킨 토닉',\n",
       "  'url': 'http://www.medihealshop.com/shop/shopdetail.html?branduid=1356&xcode=004&mcode=002&scode=&type=X&sort=manual&cur_code=004&GfDT=Zmx3UF0%3D',\n",
       "  'image': 'http://www.medihealshop.com/shopimages/lnpcos/004002000027.jpg?1538042292',\n",
       "  'color': '#',\n",
       "  'category': '스킨케어',\n",
       "  'salePrice': 10500,\n",
       "  'originalPrice': 15000,\n",
       "  'brand': 'mediheal',\n",
       "  'volume': '300ml'}]"
      ]
     },
     "metadata": {},
     "output_type": "display_data"
    },
    {
     "data": {
      "text/plain": [
       "[{'name': '메디힐 아쿠하 오일 탑 클렌징 워터',\n",
       "  'url': 'http://www.medihealshop.com/shop/shopdetail.html?branduid=1322&xcode=004&mcode=001&scode=&type=X&sort=manual&cur_code=004&GfDT=aWx3UF4%3D',\n",
       "  'image': 'http://www.medihealshop.com/shopimages/lnpcos/004001000007.jpg?1538042421',\n",
       "  'color': '#',\n",
       "  'category': '스킨케어',\n",
       "  'salePrice': 7700,\n",
       "  'originalPrice': 11000,\n",
       "  'brand': 'mediheal',\n",
       "  'volume': '300ml'}]"
      ]
     },
     "metadata": {},
     "output_type": "display_data"
    },
    {
     "data": {
      "text/plain": [
       "[{'name': '메디힐 수분강화 클렌징 폼 170ml',\n",
       "  'url': 'http://www.medihealshop.com/shop/shopdetail.html?branduid=147&xcode=004&mcode=001&scode=&type=X&sort=manual&cur_code=004&GfDT=bGp3UF8%3D',\n",
       "  'image': 'http://www.medihealshop.com/shopimages/lnpcos/004001000025.jpg?1538043143',\n",
       "  'color': '#',\n",
       "  'category': '스킨케어',\n",
       "  'salePrice': 14000,\n",
       "  'originalPrice': 14000,\n",
       "  'brand': 'mediheal',\n",
       "  'volume': '170ml'}]"
      ]
     },
     "metadata": {},
     "output_type": "display_data"
    },
    {
     "data": {
      "text/plain": [
       "[{'name': '메디힐 모공청정 클렌징폼 170ml',\n",
       "  'url': 'http://www.medihealshop.com/shop/shopdetail.html?branduid=97&xcode=004&mcode=001&scode=&type=X&sort=manual&cur_code=004&GfDT=am13UFg%3D',\n",
       "  'image': 'http://www.medihealshop.com/shopimages/lnpcos/004001000022.jpg?1538043237',\n",
       "  'color': '#',\n",
       "  'category': '스킨케어',\n",
       "  'salePrice': 14000,\n",
       "  'originalPrice': 14000,\n",
       "  'brand': 'mediheal',\n",
       "  'volume': '170ml'}]"
      ]
     },
     "metadata": {},
     "output_type": "display_data"
    },
    {
     "data": {
      "text/plain": [
       "[{'name': '메디힐 티트리 케어 클렌징 폼 170ml',\n",
       "  'url': 'http://www.medihealshop.com/shop/shopdetail.html?branduid=99&xcode=004&mcode=001&scode=&type=X&sort=manual&cur_code=004&GfDT=Zm53UFk%3D',\n",
       "  'image': 'http://www.medihealshop.com/shopimages/lnpcos/004001000015.jpg?1538043178',\n",
       "  'color': '#',\n",
       "  'category': '스킨케어',\n",
       "  'salePrice': 14000,\n",
       "  'originalPrice': 14000,\n",
       "  'brand': 'mediheal',\n",
       "  'volume': '170ml'}]"
      ]
     },
     "metadata": {},
     "output_type": "display_data"
    },
    {
     "data": {
      "text/plain": [
       "[{'name': '메디힐 라인프렌즈 테라핀 핸드 마스크',\n",
       "  'url': 'http://www.medihealshop.com/shop/shopdetail.html?branduid=1213&xcode=005&mcode=001&scode=&type=X&sort=manual&cur_code=005&GfDT=bmp%2BW1w%3D',\n",
       "  'image': 'http://www.medihealshop.com/shopimages/lnpcos/005001000002.jpg?1538043717',\n",
       "  'color': '#',\n",
       "  'category': '바디케어',\n",
       "  'salePrice': 3000,\n",
       "  'originalPrice': 3000,\n",
       "  'brand': 'mediheal',\n",
       "  'volume': '7ml*1'}]"
      ]
     },
     "metadata": {},
     "output_type": "display_data"
    },
    {
     "data": {
      "text/plain": [
       "[{'name': '메디힐 라인프렌즈 파라핀 풋 마스크',\n",
       "  'url': 'http://www.medihealshop.com/shop/shopdetail.html?branduid=1214&xcode=005&mcode=001&scode=&type=X&sort=manual&cur_code=005&GfDT=bml%2FW10%3D',\n",
       "  'image': 'http://www.medihealshop.com/shopimages/lnpcos/005001000003.jpg?1538043693',\n",
       "  'color': '#',\n",
       "  'category': '바디케어',\n",
       "  'salePrice': 3000,\n",
       "  'originalPrice': 3000,\n",
       "  'brand': 'mediheal',\n",
       "  'volume': '9ml*1'}]"
      ]
     },
     "metadata": {},
     "output_type": "display_data"
    },
    {
     "data": {
      "text/plain": [
       "[{'name': '메디힐 테라핀 핸드 마스크',\n",
       "  'url': 'http://www.medihealshop.com/shop/shopdetail.html?branduid=635&xcode=005&mcode=001&scode=&type=X&sort=manual&cur_code=005&GfDT=bm19W14%3D',\n",
       "  'image': 'http://www.medihealshop.com/shopimages/lnpcos/005001000004.jpg?1538043810',\n",
       "  'color': '#',\n",
       "  'category': '바디케어',\n",
       "  'salePrice': 1500,\n",
       "  'originalPrice': 3000,\n",
       "  'brand': 'mediheal',\n",
       "  'volume': '14ml*1'}]"
      ]
     },
     "metadata": {},
     "output_type": "display_data"
    },
    {
     "data": {
      "text/plain": [
       "[{'name': '비쥬드 헤어 컬러 크림',\n",
       "  'url': 'http://www.medihealshop.com/shop/shopdetail.html?branduid=2664113&xcode=005&mcode=002&scode=&type=X&sort=manual&cur_code=005&GfDT=bmx%2BW18%3D',\n",
       "  'image': 'http://www.medihealshop.com/shopimages/lnpcos/005002000014.jpg?1538043929',\n",
       "  'color': '#',\n",
       "  'category': '바디케어',\n",
       "  'salePrice': 3900,\n",
       "  'originalPrice': 4600,\n",
       "  'brand': 'mediheal',\n",
       "  'volume': '제 1제 : 염모제 50g(25gx2), 제 2제 : 산화제 50g(25gx2)'}]"
      ]
     },
     "metadata": {},
     "output_type": "display_data"
    },
    {
     "data": {
      "text/plain": [
       "[{'name': '비쥬드 헤어 컬러 코팅',\n",
       "  'url': 'http://www.medihealshop.com/shop/shopdetail.html?branduid=939&xcode=005&mcode=002&scode=&type=X&sort=manual&cur_code=005&GfDT=bm50W1g%3D',\n",
       "  'image': 'http://www.medihealshop.com/shopimages/lnpcos/005002000012.jpg?1538044009',\n",
       "  'color': '#',\n",
       "  'category': '바디케어',\n",
       "  'salePrice': 4500,\n",
       "  'originalPrice': 5200,\n",
       "  'brand': 'mediheal',\n",
       "  'volume': '코팅제 75g (25g*3ea)'}]"
      ]
     },
     "metadata": {},
     "output_type": "display_data"
    },
    {
     "data": {
      "text/plain": [
       "[{'name': '비쥬드 헤어 블리치',\n",
       "  'url': 'http://www.medihealshop.com/shop/shopdetail.html?branduid=936&xcode=005&mcode=002&scode=&type=X&sort=manual&cur_code=005&GfDT=a253VA%3D%3D',\n",
       "  'image': 'http://www.medihealshop.com/shopimages/lnpcos/005002000011.jpg?1538044032',\n",
       "  'color': '#',\n",
       "  'category': '바디케어',\n",
       "  'salePrice': 2600,\n",
       "  'originalPrice': 2900,\n",
       "  'brand': 'mediheal',\n",
       "  'volume': '제 1제 탈색제(파우더) 10g / 제 2제 산화제(로션) 30ml'}]"
      ]
     },
     "metadata": {},
     "output_type": "display_data"
    },
    {
     "data": {
      "text/plain": [
       "[{'name': '[닥터포헤어]5분 클리닉 칼라크림',\n",
       "  'url': 'http://www.medihealshop.com/shop/shopdetail.html?branduid=23&xcode=005&mcode=002&scode=&type=X&sort=manual&cur_code=005&GfDT=bml7W1o%3D',\n",
       "  'image': 'http://www.medihealshop.com/shopimages/lnpcos/005002000001.jpg?1538044085',\n",
       "  'color': '#',\n",
       "  'category': '바디케어',\n",
       "  'salePrice': 8400,\n",
       "  'originalPrice': 12000,\n",
       "  'brand': 'mediheal',\n",
       "  'volume': '#'}]"
      ]
     },
     "metadata": {},
     "output_type": "display_data"
    },
    {
     "data": {
      "text/plain": [
       "[{'name': '메디힐 시크릿 체인지 헤어 컬러 크림',\n",
       "  'url': 'http://www.medihealshop.com/shop/shopdetail.html?branduid=2664128&xcode=005&mcode=002&scode=&type=X&sort=manual&cur_code=005&GfDT=bmp0W1s%3D',\n",
       "  'image': 'http://www.medihealshop.com/shopimages/lnpcos/005002000015.jpg?1536837311',\n",
       "  'color': '#',\n",
       "  'category': '바디케어',\n",
       "  'salePrice': 3900,\n",
       "  'originalPrice': 4600,\n",
       "  'brand': 'mediheal',\n",
       "  'volume': '제 1제 : 염모제 50g(25gx2), 제 2제 : 산화제 50g(25gx2)'}]"
      ]
     },
     "metadata": {},
     "output_type": "display_data"
    },
    {
     "data": {
      "text/plain": [
       "[{'name': '메디힐 시크릿 체인지 헤어 컬러 코팅',\n",
       "  'url': 'http://www.medihealshop.com/shop/shopdetail.html?branduid=2664129&xcode=005&mcode=002&scode=&type=X&sort=manual&cur_code=005&GfDT=bGh3WQ%3D%3D',\n",
       "  'image': 'http://www.medihealshop.com/shopimages/lnpcos/005002000016.jpg?1536837342',\n",
       "  'color': '#',\n",
       "  'category': '바디케어',\n",
       "  'salePrice': 4500,\n",
       "  'originalPrice': 5200,\n",
       "  'brand': 'mediheal',\n",
       "  'volume': '코팅제 75g (25g*3ea)'}]"
      ]
     },
     "metadata": {},
     "output_type": "display_data"
    },
    {
     "data": {
      "text/plain": [
       "[{'name': '닥터포헤어 울트라하드 헤어 스프레이 450ml',\n",
       "  'url': 'http://www.medihealshop.com/shop/shopdetail.html?branduid=24&xcode=005&mcode=002&scode=&type=X&sort=manual&cur_code=005&GfDT=Zml3WA%3D%3D',\n",
       "  'image': 'http://www.medihealshop.com/shopimages/lnpcos/005002000004.jpg?1538044060',\n",
       "  'color': '#',\n",
       "  'category': '바디케어',\n",
       "  'salePrice': 7000,\n",
       "  'originalPrice': 7000,\n",
       "  'brand': 'mediheal',\n",
       "  'volume': '#'}]"
      ]
     },
     "metadata": {},
     "output_type": "display_data"
    },
    {
     "data": {
      "text/plain": [
       "[{'name': '아봄 아르간 오일 웨이브 헤어 미스트',\n",
       "  'url': 'http://www.medihealshop.com/shop/shopdetail.html?branduid=1206&xcode=005&mcode=002&scode=&type=X&sort=manual&cur_code=005&GfDT=bmt6W11E',\n",
       "  'image': 'http://www.medihealshop.com/shopimages/lnpcos/005002000010.jpg?1538043986',\n",
       "  'color': '#',\n",
       "  'category': '바디케어',\n",
       "  'salePrice': 6300,\n",
       "  'originalPrice': 9000,\n",
       "  'brand': 'mediheal',\n",
       "  'volume': '260ml'}]"
      ]
     },
     "metadata": {},
     "output_type": "display_data"
    },
    {
     "data": {
      "text/plain": [
       "[{'name': '아봄 아르간 오일 멀티 헤어 에센스',\n",
       "  'url': 'http://www.medihealshop.com/shop/shopdetail.html?branduid=1207&xcode=005&mcode=002&scode=&type=X&sort=manual&cur_code=005&GfDT=bmx4W11F',\n",
       "  'image': 'http://www.medihealshop.com/shopimages/lnpcos/005002000009.jpg?1538043962',\n",
       "  'color': '#',\n",
       "  'category': '바디케어',\n",
       "  'salePrice': 9800,\n",
       "  'originalPrice': 14000,\n",
       "  'brand': 'mediheal',\n",
       "  'volume': '500ml'}]"
      ]
     },
     "metadata": {},
     "output_type": "display_data"
    },
    {
     "data": {
      "text/plain": [
       "[{'name': '메디힐 손애다 핸드크림 50ml',\n",
       "  'url': 'http://www.medihealshop.com/shop/shopdetail.html?branduid=642&xcode=005&mcode=001&scode=&type=X&sort=manual&cur_code=005&GfDT=bml%2BW11G',\n",
       "  'image': 'http://www.medihealshop.com/shopimages/lnpcos/005001000001.jpg?1538043778',\n",
       "  'color': '#',\n",
       "  'category': '바디케어',\n",
       "  'salePrice': 1500,\n",
       "  'originalPrice': 3000,\n",
       "  'brand': 'mediheal',\n",
       "  'volume': '50ml*1'}]"
      ]
     },
     "metadata": {},
     "output_type": "display_data"
    },
    {
     "data": {
      "text/plain": [
       "[{'name': '메디힐 헤어 쉽 스팀 팩',\n",
       "  'url': 'http://www.medihealshop.com/shop/shopdetail.html?branduid=895&xcode=005&mcode=002&scode=&type=X&sort=manual&cur_code=005&GfDT=bmt%2BW11H',\n",
       "  'image': 'http://www.medihealshop.com/shopimages/lnpcos/005002000013.jpg?1538043853',\n",
       "  'color': '#',\n",
       "  'category': '바디케어',\n",
       "  'salePrice': 3500,\n",
       "  'originalPrice': 3500,\n",
       "  'brand': 'mediheal',\n",
       "  'volume': '40g*1'}]"
      ]
     },
     "metadata": {},
     "output_type": "display_data"
    },
    {
     "data": {
      "text/plain": [
       "[{'name': '메디힐 시크릿 체인지 헤어 블리치',\n",
       "  'url': 'http://www.medihealshop.com/shop/shopdetail.html?branduid=2664130&xcode=005&mcode=002&scode=&type=X&sort=manual&cur_code=005&GfDT=aGl3UFg%3D',\n",
       "  'image': 'http://www.medihealshop.com/shopimages/lnpcos/005002000017.jpg?1536840635',\n",
       "  'color': '#',\n",
       "  'category': '바디케어',\n",
       "  'salePrice': 2600,\n",
       "  'originalPrice': 2600,\n",
       "  'brand': 'mediheal',\n",
       "  'volume': '제 1제 탈색제(파우더) 10g / 제 2제 산화제(로션) 30ml'}]"
      ]
     },
     "metadata": {},
     "output_type": "display_data"
    },
    {
     "data": {
      "text/plain": [
       "[{'name': '메디힐 l 라인프렌즈 워밍아이 마스크 (자몽향)',\n",
       "  'url': 'http://www.medihealshop.com/shop/shopdetail.html?branduid=2664058&xcode=006&mcode=003&scode=&type=X&sort=manual&cur_code=006&GfDT=bmp4W1w%3D',\n",
       "  'image': 'http://www.medihealshop.com/shopimages/lnpcos/006003000005.jpg?1538044993',\n",
       "  'color': '#',\n",
       "  'category': '스페셜 세트',\n",
       "  'salePrice': 3000,\n",
       "  'originalPrice': 3000,\n",
       "  'brand': 'mediheal',\n",
       "  'volume': 'ETC'}]"
      ]
     },
     "metadata": {},
     "output_type": "display_data"
    },
    {
     "data": {
      "text/plain": [
       "[{'name': 'MEDIHEAL x BTS  4종 스페셜 세트',\n",
       "  'url': 'http://www.medihealshop.com/shop/shopdetail.html?branduid=1267&xcode=006&mcode=001&scode=&type=X&sort=manual&cur_code=006&GfDT=bWx3UQ%3D%3D',\n",
       "  'image': 'http://www.medihealshop.com/shopimages/lnpcos/006001000001.jpg?1538044394',\n",
       "  'color': '#',\n",
       "  'category': '스페셜 세트',\n",
       "  'salePrice': 70000,\n",
       "  'originalPrice': 100000,\n",
       "  'brand': 'mediheal',\n",
       "  'volume': '(27ml*5+24ml*5)*4개 세트 패키지'}]"
      ]
     },
     "metadata": {},
     "output_type": "display_data"
    },
    {
     "data": {
      "text/plain": [
       "[{'name': 'MEDIHEAL x BTS 수분케어 스페셜 세트',\n",
       "  'url': 'http://www.medihealshop.com/shop/shopdetail.html?branduid=1263&xcode=006&mcode=001&scode=&type=X&sort=manual&cur_code=006&GfDT=bm93UA%3D%3D',\n",
       "  'image': 'http://www.medihealshop.com/shopimages/lnpcos/006001000004.jpg?1538044562',\n",
       "  'color': '#',\n",
       "  'category': '스페셜 세트',\n",
       "  'salePrice': 17500,\n",
       "  'originalPrice': 25000,\n",
       "  'brand': 'mediheal',\n",
       "  'volume': '27ml*5+24ml*5'}]"
      ]
     },
     "metadata": {},
     "output_type": "display_data"
    },
    {
     "data": {
      "text/plain": [
       "[{'name': 'MEDIHEAL x BTS 보습케어 스페셜 세트',\n",
       "  'url': 'http://www.medihealshop.com/shop/shopdetail.html?branduid=1264&xcode=006&mcode=001&scode=&type=X&sort=manual&cur_code=006&GfDT=bmx%2FW14%3D',\n",
       "  'image': 'http://www.medihealshop.com/shopimages/lnpcos/006001000002.jpg?1538044536',\n",
       "  'color': '#',\n",
       "  'category': '스페셜 세트',\n",
       "  'salePrice': 17500,\n",
       "  'originalPrice': 25000,\n",
       "  'brand': 'mediheal',\n",
       "  'volume': '25ml*5+24ml*5'}]"
      ]
     },
     "metadata": {},
     "output_type": "display_data"
    },
    {
     "data": {
      "text/plain": [
       "[{'name': 'MEDIHEAL x BTS 브라이트닝 케어 스페셜 세트',\n",
       "  'url': 'http://www.medihealshop.com/shop/shopdetail.html?branduid=1265&xcode=006&mcode=001&scode=&type=X&sort=manual&cur_code=006&GfDT=bm97W18%3D',\n",
       "  'image': 'http://www.medihealshop.com/shopimages/lnpcos/006001000003.jpg?1538044510',\n",
       "  'color': '#',\n",
       "  'category': '스페셜 세트',\n",
       "  'salePrice': 17500,\n",
       "  'originalPrice': 25000,\n",
       "  'brand': 'mediheal',\n",
       "  'volume': '25ml*5+24ml*5'}]"
      ]
     },
     "metadata": {},
     "output_type": "display_data"
    },
    {
     "data": {
      "text/plain": [
       "[{'name': 'MEDIHEAL x BTS 진정케어 스페셜 세트',\n",
       "  'url': 'http://www.medihealshop.com/shop/shopdetail.html?branduid=1266&xcode=006&mcode=001&scode=&type=X&sort=manual&cur_code=006&GfDT=bG93VQ%3D%3D',\n",
       "  'image': 'http://www.medihealshop.com/shopimages/lnpcos/006001000005.jpg?1538044419',\n",
       "  'color': '#',\n",
       "  'category': '스페셜 세트',\n",
       "  'salePrice': 17500,\n",
       "  'originalPrice': 25000,\n",
       "  'brand': 'mediheal',\n",
       "  'volume': '25ml*5+24ml*5'}]"
      ]
     },
     "metadata": {},
     "output_type": "display_data"
    },
    {
     "data": {
      "text/plain": [
       "[{'name': 'MEDIHEAL | BT21 타타 페이스 포인트 마스크',\n",
       "  'url': 'http://www.medihealshop.com/shop/shopdetail.html?branduid=1305&xcode=006&mcode=002&scode=&type=X&sort=manual&cur_code=006&GfDT=bmx6W1k%3D',\n",
       "  'image': 'http://www.medihealshop.com/shopimages/lnpcos/006002000007.jpg?1538044930',\n",
       "  'color': '#',\n",
       "  'category': '스페셜 세트',\n",
       "  'salePrice': 8400,\n",
       "  'originalPrice': 12000,\n",
       "  'brand': 'mediheal',\n",
       "  'volume': '20ml*4'}]"
      ]
     },
     "metadata": {},
     "output_type": "display_data"
    },
    {
     "data": {
      "text/plain": [
       "[{'name': 'MEDIHEAL | BT21 알제이 페이스 포인트 마스크',\n",
       "  'url': 'http://www.medihealshop.com/shop/shopdetail.html?branduid=1310&xcode=006&mcode=002&scode=&type=X&sort=manual&cur_code=006&GfDT=Z2x3Vw%3D%3D',\n",
       "  'image': 'http://www.medihealshop.com/shopimages/lnpcos/006002000003.jpg?1538044766',\n",
       "  'color': '#',\n",
       "  'category': '스페셜 세트',\n",
       "  'salePrice': 8400,\n",
       "  'originalPrice': 12000,\n",
       "  'brand': 'mediheal',\n",
       "  'volume': '20ml*4'}]"
      ]
     },
     "metadata": {},
     "output_type": "display_data"
    },
    {
     "data": {
      "text/plain": [
       "[{'name': 'MEDIHEAL | BT21 슈키 페이스 포인트 마스크',\n",
       "  'url': 'http://www.medihealshop.com/shop/shopdetail.html?branduid=1306&xcode=006&mcode=002&scode=&type=X&sort=manual&cur_code=006&GfDT=bml6W1s%3D',\n",
       "  'image': 'http://www.medihealshop.com/shopimages/lnpcos/006002000002.jpg?1538044907',\n",
       "  'color': '#',\n",
       "  'category': '스페셜 세트',\n",
       "  'salePrice': 8400,\n",
       "  'originalPrice': 12000,\n",
       "  'brand': 'mediheal',\n",
       "  'volume': '20ml*4'}]"
      ]
     },
     "metadata": {},
     "output_type": "display_data"
    },
    {
     "data": {
      "text/plain": [
       "[{'name': 'MEDIHEAL | BT21 치미 페이스 포인트 마스크',\n",
       "  'url': 'http://www.medihealshop.com/shop/shopdetail.html?branduid=1308&xcode=006&mcode=002&scode=&type=X&sort=manual&cur_code=006&GfDT=bm5%2BW1Q%3D',\n",
       "  'image': 'http://www.medihealshop.com/shopimages/lnpcos/006002000004.jpg?1538044832',\n",
       "  'color': '#',\n",
       "  'category': '스페셜 세트',\n",
       "  'salePrice': 8400,\n",
       "  'originalPrice': 12000,\n",
       "  'brand': 'mediheal',\n",
       "  'volume': '20ml*4'}]"
      ]
     },
     "metadata": {},
     "output_type": "display_data"
    },
    {
     "data": {
      "text/plain": [
       "[{'name': 'MEDIHEAL | BT21 쿠키 페이스 포인트 마스크',\n",
       "  'url': 'http://www.medihealshop.com/shop/shopdetail.html?branduid=1307&xcode=006&mcode=002&scode=&type=X&sort=manual&cur_code=006&GfDT=Zmp3WA%3D%3D',\n",
       "  'image': 'http://www.medihealshop.com/shopimages/lnpcos/006002000006.jpg?1538044884',\n",
       "  'color': '#',\n",
       "  'category': '스페셜 세트',\n",
       "  'salePrice': 8400,\n",
       "  'originalPrice': 12000,\n",
       "  'brand': 'mediheal',\n",
       "  'volume': '20ml*4'}]"
      ]
     },
     "metadata": {},
     "output_type": "display_data"
    },
    {
     "data": {
      "text/plain": [
       "[{'name': 'MEDIHEAL | BT21 코야 페이스 포인트 마스크',\n",
       "  'url': 'http://www.medihealshop.com/shop/shopdetail.html?branduid=1311&xcode=006&mcode=002&scode=&type=X&sort=manual&cur_code=006&GfDT=bWV8UQ%3D%3D',\n",
       "  'image': 'http://www.medihealshop.com/shopimages/lnpcos/006002000005.jpg?1538044658',\n",
       "  'color': '#',\n",
       "  'category': '스페셜 세트',\n",
       "  'salePrice': 8400,\n",
       "  'originalPrice': 12000,\n",
       "  'brand': 'mediheal',\n",
       "  'volume': '20ml*4'}]"
      ]
     },
     "metadata": {},
     "output_type": "display_data"
    },
    {
     "data": {
      "text/plain": [
       "[{'name': 'MEDIHEAL | BT21 망 페이스 포인트 마스크',\n",
       "  'url': 'http://www.medihealshop.com/shop/shopdetail.html?branduid=1309&xcode=006&mcode=002&scode=&type=X&sort=manual&cur_code=006&GfDT=bmh9W11F',\n",
       "  'image': 'http://www.medihealshop.com/shopimages/lnpcos/006002000001.jpg?1538044788',\n",
       "  'color': '#',\n",
       "  'category': '스페셜 세트',\n",
       "  'salePrice': 8400,\n",
       "  'originalPrice': 12000,\n",
       "  'brand': 'mediheal',\n",
       "  'volume': '20ml*4'}]"
      ]
     },
     "metadata": {},
     "output_type": "display_data"
    },
    {
     "data": {
      "text/plain": [
       "[{'name': '메디힐 라인프렌즈 테라핀 핸드 마스크',\n",
       "  'url': 'http://www.medihealshop.com/shop/shopdetail.html?branduid=2664054&xcode=006&mcode=003&scode=&type=X&sort=manual&cur_code=006&GfDT=bmp4W11G',\n",
       "  'image': 'http://www.medihealshop.com/shopimages/lnpcos/006003000001.jpg?1538045119',\n",
       "  'color': '#',\n",
       "  'category': '스페셜 세트',\n",
       "  'salePrice': 3000,\n",
       "  'originalPrice': 3000,\n",
       "  'brand': 'mediheal',\n",
       "  'volume': '7ml*1'}]"
      ]
     },
     "metadata": {},
     "output_type": "display_data"
    },
    {
     "data": {
      "text/plain": [
       "[{'name': '메디힐 라인프렌즈 파라핀 풋 마스크',\n",
       "  'url': 'http://www.medihealshop.com/shop/shopdetail.html?branduid=2664055&xcode=006&mcode=003&scode=&type=X&sort=manual&cur_code=006&GfDT=bmZ3UF8%3D',\n",
       "  'image': 'http://www.medihealshop.com/shopimages/lnpcos/006003000002.jpg?1538045093',\n",
       "  'color': '#',\n",
       "  'category': '스페셜 세트',\n",
       "  'salePrice': 3000,\n",
       "  'originalPrice': 3000,\n",
       "  'brand': 'mediheal',\n",
       "  'volume': '9ml*1'}]"
      ]
     },
     "metadata": {},
     "output_type": "display_data"
    },
    {
     "data": {
      "text/plain": [
       "[{'name': '메디힐 l 라인프렌즈 워밍아이 마스크 (무향)',\n",
       "  'url': 'http://www.medihealshop.com/shop/shopdetail.html?branduid=2664057&xcode=006&mcode=003&scode=&type=X&sort=manual&cur_code=006&GfDT=a2p3UFg%3D',\n",
       "  'image': 'http://www.medihealshop.com/shopimages/lnpcos/006003000004.jpg?1538045018',\n",
       "  'color': '#',\n",
       "  'category': '스페셜 세트',\n",
       "  'salePrice': 3000,\n",
       "  'originalPrice': 3000,\n",
       "  'brand': 'mediheal',\n",
       "  'volume': 'ETC'}]"
      ]
     },
     "metadata": {},
     "output_type": "display_data"
    },
    {
     "data": {
      "text/plain": [
       "[{'name': '메디힐 l 라인프렌즈 워밍아이 마스크 (라벤더향)',\n",
       "  'url': 'http://www.medihealshop.com/shop/shopdetail.html?branduid=2664056&xcode=006&mcode=003&scode=&type=X&sort=manual&cur_code=006&GfDT=a2d3UFk%3D',\n",
       "  'image': 'http://www.medihealshop.com/shopimages/lnpcos/006003000003.jpg?1538045047',\n",
       "  'color': '#',\n",
       "  'category': '스페셜 세트',\n",
       "  'salePrice': 3000,\n",
       "  'originalPrice': 3000,\n",
       "  'brand': 'mediheal',\n",
       "  'volume': 'ETC'}]"
      ]
     },
     "metadata": {},
     "output_type": "display_data"
    },
    {
     "data": {
      "text/plain": [
       "[{'name': '메디힐 바이오 세컨덤 마스크 클리어 알파 (EXP 2019.10)',\n",
       "  'url': 'http://www.medihealshop.com/shop/shopdetail.html?branduid=1126&xcode=012&mcode=001&scode=&type=Y&sort=manual&cur_code=012&GfDT=bml1W1w%3D',\n",
       "  'image': 'http://www.medihealshop.com/shopimages/lnpcos/003003000007.jpg?1546396420',\n",
       "  'color': '#',\n",
       "  'category': '알뜰쇼핑',\n",
       "  'salePrice': 2250,\n",
       "  'originalPrice': 5000,\n",
       "  'brand': 'mediheal',\n",
       "  'volume': '(23ML+4ml)*1'}]"
      ]
     },
     "metadata": {},
     "output_type": "display_data"
    },
    {
     "data": {
      "text/plain": [
       "[{'name': '메디엔탈 백명MTS 마스크팩 5매 (EXP 2019.08)',\n",
       "  'url': 'http://www.medihealshop.com/shop/shopdetail.html?branduid=2664253&xcode=012&mcode=001&scode=&type=Y&sort=manual&cur_code=012&GfDT=bm91W10%3D',\n",
       "  'image': 'http://www.medihealshop.com/shopimages/lnpcos/003001000082.jpg?1543562292',\n",
       "  'color': '#',\n",
       "  'category': '알뜰쇼핑',\n",
       "  'salePrice': 6000,\n",
       "  'originalPrice': 20000,\n",
       "  'brand': 'mediheal',\n",
       "  'volume': '#'}]"
      ]
     },
     "metadata": {},
     "output_type": "display_data"
    },
    {
     "data": {
      "text/plain": [
       "[{'name': '메디엔탈 매선톡스 마스크 5매 (EXP 2019.12)',\n",
       "  'url': 'http://www.medihealshop.com/shop/shopdetail.html?branduid=2664254&xcode=012&mcode=001&scode=&type=Y&sort=manual&cur_code=012&GfDT=bm98W14%3D',\n",
       "  'image': 'http://www.medihealshop.com/shopimages/lnpcos/003001000083.jpg?1543562255',\n",
       "  'color': '#',\n",
       "  'category': '알뜰쇼핑',\n",
       "  'salePrice': 6000,\n",
       "  'originalPrice': 20000,\n",
       "  'brand': 'mediheal',\n",
       "  'volume': '#'}]"
      ]
     },
     "metadata": {},
     "output_type": "display_data"
    },
    {
     "data": {
      "text/plain": [
       "[{'name': '메디힐 핑크칼라민 메쉬필 마스크 (EXP 2019.11)',\n",
       "  'url': 'http://www.medihealshop.com/shop/shopdetail.html?branduid=1045&xcode=012&mcode=001&scode=&type=Y&sort=manual&cur_code=012&GfDT=bmt1W18%3D',\n",
       "  'image': 'http://www.medihealshop.com/shopimages/lnpcos/003001000079.jpg?1546396422',\n",
       "  'color': '#',\n",
       "  'category': '알뜰쇼핑',\n",
       "  'salePrice': 2800,\n",
       "  'originalPrice': 7000,\n",
       "  'brand': 'mediheal',\n",
       "  'volume': '17g*1'}]"
      ]
     },
     "metadata": {},
     "output_type": "display_data"
    },
    {
     "data": {
      "text/plain": [
       "[{'name': '메디엔탈 모공센서 하이드로겔 마스크팩 5매 (EXP 19.07.30)',\n",
       "  'url': 'http://www.medihealshop.com/shop/shopdetail.html?branduid=65&xcode=012&mcode=001&scode=&type=Y&sort=manual&cur_code=012&GfDT=aGp3VQ%3D%3D',\n",
       "  'image': 'http://www.medihealshop.com/shopimages/lnpcos/003003000001.jpg?1542004816',\n",
       "  'color': '#',\n",
       "  'category': '알뜰쇼핑',\n",
       "  'salePrice': 6000,\n",
       "  'originalPrice': 15000,\n",
       "  'brand': 'mediheal',\n",
       "  'volume': '#'}]"
      ]
     },
     "metadata": {},
     "output_type": "display_data"
    },
    {
     "data": {
      "text/plain": [
       "[{'name': '메디힐 필로소프트 XP 블랙포어샷 2개 (10% 블랙포어샷) (EXP 2019.08)',\n",
       "  'url': 'http://www.medihealshop.com/shop/shopdetail.html?branduid=1012&xcode=012&mcode=001&scode=&type=Y&sort=manual&cur_code=012&GfDT=aWV4',\n",
       "  'image': 'http://www.medihealshop.com/shopimages/lnpcos/004001000016.jpg?1538043047',\n",
       "  'color': '#',\n",
       "  'category': '알뜰쇼핑',\n",
       "  'salePrice': 4800,\n",
       "  'originalPrice': 12000,\n",
       "  'brand': 'mediheal',\n",
       "  'volume': '#'}]"
      ]
     },
     "metadata": {},
     "output_type": "display_data"
    },
    {
     "data": {
      "text/plain": [
       "[{'name': '메디힐 에스테 3스텝 피디에프 마스크 5매 (EXP 2019.04~06)',\n",
       "  'url': 'http://www.medihealshop.com/shop/shopdetail.html?branduid=1059&xcode=012&mcode=001&scode=&type=Y&sort=manual&cur_code=012&GfDT=bm97W1o%3D',\n",
       "  'image': 'http://www.medihealshop.com/shopimages/lnpcos/003001000051.jpg?1542004835',\n",
       "  'color': '#',\n",
       "  'category': '알뜰쇼핑',\n",
       "  'salePrice': 8000,\n",
       "  'originalPrice': 8000,\n",
       "  'brand': 'mediheal',\n",
       "  'volume': '(3ml*25ml*1.5ml)*1'}]"
      ]
     },
     "metadata": {},
     "output_type": "display_data"
    },
    {
     "data": {
      "text/plain": [
       "[{'name': '메디엔탈 보타닉 가든 마스크 호박 10매 (EXP 2019.06~11)',\n",
       "  'url': 'http://www.medihealshop.com/shop/shopdetail.html?branduid=2664251&xcode=012&mcode=001&scode=&type=Y&sort=manual&cur_code=012&GfDT=bmx0W1s%3D',\n",
       "  'image': 'http://www.medihealshop.com/shopimages/lnpcos/003001000081.jpg?1543562318',\n",
       "  'color': '#',\n",
       "  'category': '알뜰쇼핑',\n",
       "  'salePrice': 4000,\n",
       "  'originalPrice': 4000,\n",
       "  'brand': 'mediheal',\n",
       "  'volume': '#'}]"
      ]
     },
     "metadata": {},
     "output_type": "display_data"
    },
    {
     "data": {
      "text/plain": [
       "[{'name': '메디엔탈 보타닉 가든 마스크 브로콜리 10매 (EXP 2019.06~11)',\n",
       "  'url': 'http://www.medihealshop.com/shop/shopdetail.html?branduid=2664250&xcode=012&mcode=001&scode=&type=Y&sort=manual&cur_code=012&GfDT=Zmx3WQ%3D%3D',\n",
       "  'image': 'http://www.medihealshop.com/shopimages/lnpcos/003001000080.jpg?1543562340',\n",
       "  'color': '#',\n",
       "  'category': '알뜰쇼핑',\n",
       "  'salePrice': 4000,\n",
       "  'originalPrice': 4000,\n",
       "  'brand': 'mediheal',\n",
       "  'volume': '#'}]"
      ]
     },
     "metadata": {},
     "output_type": "display_data"
    },
    {
     "data": {
      "text/plain": [
       "[{'name': '메디엔탈 진정센서 하이드로겔 마스크팩 5매 (EXP 19.07.30)',\n",
       "  'url': 'http://www.medihealshop.com/shop/shopdetail.html?branduid=67&xcode=012&mcode=001&scode=&type=Y&sort=manual&cur_code=012&GfDT=bm91W1U%3D',\n",
       "  'image': 'http://www.medihealshop.com/shopimages/lnpcos/003003000003.jpg?1542004816',\n",
       "  'color': '#',\n",
       "  'category': '알뜰쇼핑',\n",
       "  'salePrice': 6000,\n",
       "  'originalPrice': 6000,\n",
       "  'brand': 'mediheal',\n",
       "  'volume': '#'}]"
      ]
     },
     "metadata": {},
     "output_type": "display_data"
    },
    {
     "data": {
      "text/plain": [
       "[{'name': '메디엔탈 수분센서 하이드로겔 마스크팩 5매 (EXP 19.07.30)',\n",
       "  'url': 'http://www.medihealshop.com/shop/shopdetail.html?branduid=75&xcode=012&mcode=001&scode=&type=Y&sort=manual&cur_code=012&GfDT=bm51W11E',\n",
       "  'image': 'http://www.medihealshop.com/shopimages/lnpcos/003003000002.jpg?1542004816',\n",
       "  'color': '#',\n",
       "  'category': '알뜰쇼핑',\n",
       "  'salePrice': 6000,\n",
       "  'originalPrice': 6000,\n",
       "  'brand': 'mediheal',\n",
       "  'volume': '#'}]"
      ]
     },
     "metadata": {},
     "output_type": "display_data"
    },
    {
     "data": {
      "text/plain": [
       "[{'name': '메디엔탈 탄력센서 하이드로겔 마스크팩 5매 (EXP 19.07.30)',\n",
       "  'url': 'http://www.medihealshop.com/shop/shopdetail.html?branduid=66&xcode=012&mcode=001&scode=&type=Y&sort=manual&cur_code=012&GfDT=bmt%2FW11F',\n",
       "  'image': 'http://www.medihealshop.com/shopimages/lnpcos/003003000004.jpg?1542004816',\n",
       "  'color': '#',\n",
       "  'category': '알뜰쇼핑',\n",
       "  'salePrice': 6000,\n",
       "  'originalPrice': 6000,\n",
       "  'brand': 'mediheal',\n",
       "  'volume': '#'}]"
      ]
     },
     "metadata": {},
     "output_type": "display_data"
    },
    {
     "data": {
      "text/plain": [
       "[{'name': '메디엔탈 피부톤센서 하이드로겔 마스크팩 5매 (EXP 19.07.30)',\n",
       "  'url': 'http://www.medihealshop.com/shop/shopdetail.html?branduid=64&xcode=012&mcode=001&scode=&type=Y&sort=manual&cur_code=012&GfDT=bmh8W11G',\n",
       "  'image': 'http://www.medihealshop.com/shopimages/lnpcos/003003000005.jpg?1542004817',\n",
       "  'color': '#',\n",
       "  'category': '알뜰쇼핑',\n",
       "  'salePrice': 6000,\n",
       "  'originalPrice': 6000,\n",
       "  'brand': 'mediheal',\n",
       "  'volume': '#'}]"
      ]
     },
     "metadata": {},
     "output_type": "display_data"
    }
   ],
   "source": [
    "driver.get(url_products)\n",
    "result = []\n",
    "categoryList, categoryName = getCategoryList()\n",
    "for c,category in enumerate(categoryList):\n",
    "    driver.get(category)\n",
    "    pageList = getPageList()\n",
    "    itemList = []\n",
    "    cName = categoryName[c]\n",
    "    for page in pageList:\n",
    "        driver.get(page)\n",
    "        itemList += getItemList()\n",
    "    for item in itemList:\n",
    "        driver.get(item)\n",
    "        result += getItem(cName)\n"
   ]
  },
  {
   "cell_type": "code",
   "execution_count": 10,
   "metadata": {},
   "outputs": [],
   "source": [
    "output = json.dumps(result,ensure_ascii=False, indent='\\t')\n",
    "\n",
    "writeJSON(output, output_name = 'mediheal.json')"
   ]
  },
  {
   "cell_type": "code",
   "execution_count": null,
   "metadata": {},
   "outputs": [],
   "source": []
  }
 ],
 "metadata": {
  "kernelspec": {
   "display_name": "Python 3",
   "language": "python",
   "name": "python3"
  },
  "language_info": {
   "codemirror_mode": {
    "name": "ipython",
    "version": 3
   },
   "file_extension": ".py",
   "mimetype": "text/x-python",
   "name": "python",
   "nbconvert_exporter": "python",
   "pygments_lexer": "ipython3",
   "version": "3.7.0"
  }
 },
 "nbformat": 4,
 "nbformat_minor": 2
}
