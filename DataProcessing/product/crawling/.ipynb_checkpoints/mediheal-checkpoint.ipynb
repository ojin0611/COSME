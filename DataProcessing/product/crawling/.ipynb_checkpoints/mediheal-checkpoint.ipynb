{
 "cells": [
  {
   "cell_type": "markdown",
   "metadata": {},
   "source": [
    "# mediheal"
   ]
  },
  {
   "cell_type": "code",
   "execution_count": 1,
   "metadata": {},
   "outputs": [],
   "source": [
    "from bs4 import BeautifulSoup as bs              # 데이터파싱 라이브러리\n",
    "from selenium import webdriver\n",
    "import json\n",
    "import platform\n",
    "import re\n",
    "import time\n",
    "import copy"
   ]
  },
  {
   "cell_type": "code",
   "execution_count": 2,
   "metadata": {},
   "outputs": [],
   "source": [
    "def getNumber(string):\n",
    "    numExtracter = re.compile('[0-9]+')\n",
    "    return int(''.join(numExtracter.findall(string)))\n",
    "    "
   ]
  },
  {
   "cell_type": "code",
   "execution_count": 19,
   "metadata": {},
   "outputs": [],
   "source": [
    "def getCategoryList():\n",
    "    html = driver.page_source\n",
    "    soup = bs(html, 'html.parser')\n",
    "    categories = soup.find('ul',{'class':'listWrap depthListWrap depth1'}).find_all('li')\n",
    "    categoryList = [url_home + category.a['href'] for category in categories]\n",
    "    return categoryList"
   ]
  },
  {
   "cell_type": "code",
   "execution_count": 24,
   "metadata": {},
   "outputs": [],
   "source": [
    "def getPageList():\n",
    "    html = driver.page_source\n",
    "    soup = bs(html, 'html.parser')\n",
    "    pages = soup.find('div',{'class':'paginate'}).find_all('a')\n",
    "    \n",
    "    pageList = []\n",
    "    for page in pages:\n",
    "        pageList.append(url_home + page['href'])\n",
    "    return list(set(pageList))\n"
   ]
  },
  {
   "cell_type": "code",
   "execution_count": 31,
   "metadata": {},
   "outputs": [],
   "source": [
    "def getItemList():\n",
    "    html = driver.page_source\n",
    "    soup = bs(html, 'html.parser')\n",
    "    items = soup.find_all('dl',{'class':'item-list'})\n",
    "    itemList = [url_home + item.dt.a['href'] for item in items]\n",
    "    \n",
    "    return itemList\n"
   ]
  },
  {
   "cell_type": "code",
   "execution_count": 65,
   "metadata": {},
   "outputs": [],
   "source": [
    "def getItem():\n",
    "    html = driver.page_source\n",
    "    soup = bs(html, 'html.parser')\n",
    "\n",
    "    name = soup.find('div',{'class':'prdInfoWrap'}).h3.get_text().strip()\n",
    "    \n",
    "    image = url_home + soup.find('img',{'class':'originImg'})['src']\n",
    "    \n",
    "    # categoryName 위에서 받아오자\n",
    "    category = ''\n",
    "    color = ''\n",
    "    \n",
    "    volume = soup.find('span',text='용량 또는 중량').parent.parent.td.get_text().strip()\n",
    "\n",
    "    salePrice = getNumber(soup.find('span',{'class':'priceVal'}).get_text())\n",
    "    \n",
    "    originalPrice = soup.find('em',text='소비자가')\n",
    "    originalPrice = getNumber(originalPrice.parent.span.get_text()) if originalPrice else salePrice\n",
    "\n",
    "\n",
    "    item={}\n",
    "    item['name'] = name\n",
    "    item['image']= image\n",
    "    item['category']=category\n",
    "    item['volume']=volume\n",
    "    item['salePrice']=salePrice\n",
    "    item['originalPrice']=originalPrice\n",
    "    item['brand']='mediheal'\n",
    "    item['url']=driver.current_url\n",
    "    item['color'] = color\n",
    "    \n",
    "\n",
    "    items.append(item)\n",
    "    display(items)\n",
    "    return items"
   ]
  },
  {
   "cell_type": "code",
   "execution_count": 7,
   "metadata": {},
   "outputs": [],
   "source": [
    "def writeJSON(jsonString, output_name='data.json'):\n",
    "    with open(output_name,'w',encoding='UTF-8') as file:\n",
    "        file.write(jsonString)\n"
   ]
  },
  {
   "cell_type": "code",
   "execution_count": 62,
   "metadata": {},
   "outputs": [],
   "source": [
    "path = 'chromedriver.exe' if (platform.system() == 'Windows') else '/Users/jg/Desktop/develop/DataTeam/DataProcessing/product/crawling/chromedriver';\n",
    "driver = webdriver.Chrome(path)\n",
    "\n",
    "url_home = 'http://www.medihealshop.com'\n",
    "url_products = 'http://www.medihealshop.com/shop/shopbrand.html?xcode=003&type=X'"
   ]
  },
  {
   "cell_type": "code",
   "execution_count": 63,
   "metadata": {},
   "outputs": [],
   "source": [
    "driver.get(url_products)\n",
    "result = []\n",
    "categoryList = getCategoryList()\n",
    "for category in categoryList:\n",
    "    driver.get(category)\n",
    "    pageList = getPageList()\n",
    "    itemList = []\n",
    "    for page in pageList:\n",
    "        driver.get(page)\n",
    "        itemList += getItemList()\n",
    "    for item in itemList:\n",
    "        driver.get(item)\n",
    "        result += getItem()\n"
   ]
  },
  {
   "cell_type": "code",
   "execution_count": 15,
   "metadata": {},
   "outputs": [],
   "source": [
    "output = json.dumps(result,ensure_ascii=False, indent='\\t')\n",
    "\n",
    "writeJSON(output, output_name = 'mediheal.json')"
   ]
  },
  {
   "cell_type": "code",
   "execution_count": null,
   "metadata": {},
   "outputs": [],
   "source": []
  }
 ],
 "metadata": {
  "kernelspec": {
   "display_name": "Python 3",
   "language": "python",
   "name": "python3"
  },
  "language_info": {
   "codemirror_mode": {
    "name": "ipython",
    "version": 3
   },
   "file_extension": ".py",
   "mimetype": "text/x-python",
   "name": "python",
   "nbconvert_exporter": "python",
   "pygments_lexer": "ipython3",
   "version": "3.7.0"
  }
 },
 "nbformat": 4,
 "nbformat_minor": 2
}
