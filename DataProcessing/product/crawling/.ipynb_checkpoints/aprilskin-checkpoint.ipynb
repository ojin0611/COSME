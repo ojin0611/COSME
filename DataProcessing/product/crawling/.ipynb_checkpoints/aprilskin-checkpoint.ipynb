{
 "cells": [
  {
   "cell_type": "markdown",
   "metadata": {},
   "source": [
    "# aprilskin"
   ]
  },
  {
   "cell_type": "code",
   "execution_count": 1,
   "metadata": {},
   "outputs": [],
   "source": [
    "from bs4 import BeautifulSoup as bs              # 데이터파싱 라이브러리\n",
    "from selenium import webdriver\n",
    "import json\n",
    "import platform\n",
    "import re\n",
    "import time\n",
    "import copy"
   ]
  },
  {
   "cell_type": "code",
   "execution_count": 31,
   "metadata": {},
   "outputs": [],
   "source": [
    "def getNumber(string):\n",
    "    numExtracter = re.compile('[0-9]+')\n",
    "    return int(''.join(numExtracter.findall(string)))\n",
    "    "
   ]
  },
  {
   "cell_type": "code",
   "execution_count": 32,
   "metadata": {},
   "outputs": [],
   "source": [
    "def getCategoryList():\n",
    "    html = driver.page_source\n",
    "    soup = bs(html, 'html.parser')\n",
    "    categories = soup.find('ul',{'class':'menuCategory'}).find_all('a')\n",
    "    categoryList=[]\n",
    "    categoryNameList =[]\n",
    "    for category in categories:\n",
    "        categoryList.append(url_home + category['href'])\n",
    "        categoryNameList.append(category.get_text().strip())\n",
    "    return categoryList, categoryNameList"
   ]
  },
  {
   "cell_type": "code",
   "execution_count": 33,
   "metadata": {},
   "outputs": [],
   "source": [
    "def getItemList():\n",
    "    html = driver.page_source\n",
    "    soup = bs(html, 'html.parser')\n",
    "    items = soup.find('ul',{'class':'prdList grid4 april_list'}).find_all('div',{'class':'thumbnail'})\n",
    "    itemList=[]\n",
    "    for item in items:\n",
    "        itemList.append(url_home + item.a['href'])\n",
    "\n",
    "    return itemList\n"
   ]
  },
  {
   "cell_type": "code",
   "execution_count": 34,
   "metadata": {},
   "outputs": [],
   "source": [
    "def getItem(categoryName):\n",
    "    html = driver.page_source\n",
    "    soup = bs(html, 'html.parser')\n",
    "    item={}\n",
    "\n",
    "    name = soup.find('div',{'class':'infoArea'}).h2.get_text().strip()\n",
    "\n",
    "    imageList = soup.find('div',\n",
    "        {'class':'xans-element- xans-product xans-product-addimage listimg2'}).ul.find_all('li')\n",
    "    images = ['http:'+image.img['src'] for image in imageList]\n",
    "\n",
    "    category = 'categoryName'\n",
    "\n",
    "    volume = ''\n",
    "\n",
    "    salePrice = getNumber(soup.find('strong',{'id':'span_product_price_text'}).get_text())\n",
    "    try:\n",
    "        originalPrice = getNumber(soup.find('span',{'id':'span_product_price_custom'}).get_text())\n",
    "    except:\n",
    "        originalPrice = salePrice\n",
    "\n",
    "    item['name']=name\n",
    "    item['image']=images\n",
    "    item['category']=category\n",
    "    item['volume']=volume\n",
    "    item['salePrice']=salePrice\n",
    "    item['originalPrice']=originalPrice\n",
    "    item['brand'] = 'aprilskin'\n",
    "    item['url'] = driver.current_url\n",
    "\n",
    "    items=[]\n",
    "\n",
    "    colorList = soup.find('th',text='색상')\n",
    "    if colorList:\n",
    "        colorList = colorList.parent.td.find_all('option')\n",
    "        for color in colorList:\n",
    "            color = color.get_text().strip()\n",
    "            if '-----' in color:\n",
    "                continue\n",
    "            if '옵션을' in color:\n",
    "                continue\n",
    "            if '[품절]' in color:\n",
    "                color = color[:color.find('[품절]')]\n",
    "            if '(+' in color:\n",
    "                color = color[:color.find('(+')]\n",
    "            item_copy = copy.deepcopy(item)\n",
    "            item_copy['color'] = color.strip()\n",
    "            items.append(item_copy)\n",
    "\n",
    "    else:\n",
    "        item['color']=''\n",
    "        items.append(item)\n",
    "\n",
    "    display(items)\n",
    "    return items"
   ]
  },
  {
   "cell_type": "code",
   "execution_count": 35,
   "metadata": {},
   "outputs": [],
   "source": [
    "def writeJSON(jsonString, output_name='data.json'):\n",
    "    with open(output_name,'w',encoding='UTF-8') as file:\n",
    "        file.write(jsonString)\n"
   ]
  },
  {
   "cell_type": "code",
   "execution_count": 25,
   "metadata": {},
   "outputs": [],
   "source": [
    "path = 'chromedriver.exe' if (platform.system() == 'Windows') else '/Users/jg/Desktop/develop/DataTeam/DataProcessing/product/crawling/chromedriver';\n",
    "driver = webdriver.Chrome(path)\n",
    "\n",
    "url_home = 'http://aprilskin.com'\n",
    "url_products = 'http://aprilskin.com/product/list.html?cate_no=48'"
   ]
  },
  {
   "cell_type": "code",
   "execution_count": 29,
   "metadata": {},
   "outputs": [
    {
     "data": {
      "text/plain": [
       "[{'name': '[리미티드]퍼펙트 매직 커버 핏 쿠션 2.0 핑크홀릭',\n",
       "  'image': ['http://aprilskin.com/web/product/small/201812/088dd93c72696e681fc243371c4c1592.jpg',\n",
       "   'http://aprilskin.com/web/product/extra/small/201811/583dba06a071bc25e2e1c19c8717c0b2.jpg',\n",
       "   'http://aprilskin.com/web/product/extra/small/201811/0fe18dd94b23b27230526a736ed773c0.jpg',\n",
       "   'http://aprilskin.com/web/product/extra/small/201811/57431da4768908893552a3d8ceb4cd1a.jpg'],\n",
       "  'category': 'categoryName',\n",
       "  'volume': '',\n",
       "  'salePrice': 29000,\n",
       "  'originalPrice': 34000,\n",
       "  'brand': 'aprilskin',\n",
       "  'url': 'http://aprilskin.com/product/detail.html?product_no=885&cate_no=48&display_group=1',\n",
       "  'color': '17호 모찌베이지 '},\n",
       " {'name': '[리미티드]퍼펙트 매직 커버 핏 쿠션 2.0 핑크홀릭',\n",
       "  'image': ['http://aprilskin.com/web/product/small/201812/088dd93c72696e681fc243371c4c1592.jpg',\n",
       "   'http://aprilskin.com/web/product/extra/small/201811/583dba06a071bc25e2e1c19c8717c0b2.jpg',\n",
       "   'http://aprilskin.com/web/product/extra/small/201811/0fe18dd94b23b27230526a736ed773c0.jpg',\n",
       "   'http://aprilskin.com/web/product/extra/small/201811/57431da4768908893552a3d8ceb4cd1a.jpg'],\n",
       "  'category': 'categoryName',\n",
       "  'volume': '',\n",
       "  'salePrice': 29000,\n",
       "  'originalPrice': 34000,\n",
       "  'brand': 'aprilskin',\n",
       "  'url': 'http://aprilskin.com/product/detail.html?product_no=885&cate_no=48&display_group=1',\n",
       "  'color': '21호 라이트베이지'},\n",
       " {'name': '[리미티드]퍼펙트 매직 커버 핏 쿠션 2.0 핑크홀릭',\n",
       "  'image': ['http://aprilskin.com/web/product/small/201812/088dd93c72696e681fc243371c4c1592.jpg',\n",
       "   'http://aprilskin.com/web/product/extra/small/201811/583dba06a071bc25e2e1c19c8717c0b2.jpg',\n",
       "   'http://aprilskin.com/web/product/extra/small/201811/0fe18dd94b23b27230526a736ed773c0.jpg',\n",
       "   'http://aprilskin.com/web/product/extra/small/201811/57431da4768908893552a3d8ceb4cd1a.jpg'],\n",
       "  'category': 'categoryName',\n",
       "  'volume': '',\n",
       "  'salePrice': 29000,\n",
       "  'originalPrice': 34000,\n",
       "  'brand': 'aprilskin',\n",
       "  'url': 'http://aprilskin.com/product/detail.html?product_no=885&cate_no=48&display_group=1',\n",
       "  'color': '22호 핑크베이지'},\n",
       " {'name': '[리미티드]퍼펙트 매직 커버 핏 쿠션 2.0 핑크홀릭',\n",
       "  'image': ['http://aprilskin.com/web/product/small/201812/088dd93c72696e681fc243371c4c1592.jpg',\n",
       "   'http://aprilskin.com/web/product/extra/small/201811/583dba06a071bc25e2e1c19c8717c0b2.jpg',\n",
       "   'http://aprilskin.com/web/product/extra/small/201811/0fe18dd94b23b27230526a736ed773c0.jpg',\n",
       "   'http://aprilskin.com/web/product/extra/small/201811/57431da4768908893552a3d8ceb4cd1a.jpg'],\n",
       "  'category': 'categoryName',\n",
       "  'volume': '',\n",
       "  'salePrice': 29000,\n",
       "  'originalPrice': 34000,\n",
       "  'brand': 'aprilskin',\n",
       "  'url': 'http://aprilskin.com/product/detail.html?product_no=885&cate_no=48&display_group=1',\n",
       "  'color': '23호 내추럴베이지'}]"
      ]
     },
     "metadata": {},
     "output_type": "display_data"
    },
    {
     "data": {
      "text/plain": [
       "[{'name': '[리미티드]퍼펙트 매직 커버 핏 쿠션 2.0 핑크홀릭 리필',\n",
       "  'image': ['http://aprilskin.com/web/product/small/201812/b3a8935aeeaf1f45959165ebaefe1532.jpg',\n",
       "   'http://aprilskin.com/web/product/extra/small/201811/583dba06a071bc25e2e1c19c8717c0b2.jpg',\n",
       "   'http://aprilskin.com/web/product/extra/small/201811/0fe18dd94b23b27230526a736ed773c0.jpg',\n",
       "   'http://aprilskin.com/web/product/extra/small/201811/57431da4768908893552a3d8ceb4cd1a.jpg'],\n",
       "  'category': 'categoryName',\n",
       "  'volume': '',\n",
       "  'salePrice': 18000,\n",
       "  'originalPrice': 20000,\n",
       "  'brand': 'aprilskin',\n",
       "  'url': 'http://aprilskin.com/product/detail.html?product_no=929&cate_no=48&display_group=1',\n",
       "  'color': '17호 모찌모찌베이지(10%off) '},\n",
       " {'name': '[리미티드]퍼펙트 매직 커버 핏 쿠션 2.0 핑크홀릭 리필',\n",
       "  'image': ['http://aprilskin.com/web/product/small/201812/b3a8935aeeaf1f45959165ebaefe1532.jpg',\n",
       "   'http://aprilskin.com/web/product/extra/small/201811/583dba06a071bc25e2e1c19c8717c0b2.jpg',\n",
       "   'http://aprilskin.com/web/product/extra/small/201811/0fe18dd94b23b27230526a736ed773c0.jpg',\n",
       "   'http://aprilskin.com/web/product/extra/small/201811/57431da4768908893552a3d8ceb4cd1a.jpg'],\n",
       "  'category': 'categoryName',\n",
       "  'volume': '',\n",
       "  'salePrice': 18000,\n",
       "  'originalPrice': 20000,\n",
       "  'brand': 'aprilskin',\n",
       "  'url': 'http://aprilskin.com/product/detail.html?product_no=929&cate_no=48&display_group=1',\n",
       "  'color': '21호 라이트베이지(10%off)'},\n",
       " {'name': '[리미티드]퍼펙트 매직 커버 핏 쿠션 2.0 핑크홀릭 리필',\n",
       "  'image': ['http://aprilskin.com/web/product/small/201812/b3a8935aeeaf1f45959165ebaefe1532.jpg',\n",
       "   'http://aprilskin.com/web/product/extra/small/201811/583dba06a071bc25e2e1c19c8717c0b2.jpg',\n",
       "   'http://aprilskin.com/web/product/extra/small/201811/0fe18dd94b23b27230526a736ed773c0.jpg',\n",
       "   'http://aprilskin.com/web/product/extra/small/201811/57431da4768908893552a3d8ceb4cd1a.jpg'],\n",
       "  'category': 'categoryName',\n",
       "  'volume': '',\n",
       "  'salePrice': 18000,\n",
       "  'originalPrice': 20000,\n",
       "  'brand': 'aprilskin',\n",
       "  'url': 'http://aprilskin.com/product/detail.html?product_no=929&cate_no=48&display_group=1',\n",
       "  'color': '22호 핑크베이지(10%off)'},\n",
       " {'name': '[리미티드]퍼펙트 매직 커버 핏 쿠션 2.0 핑크홀릭 리필',\n",
       "  'image': ['http://aprilskin.com/web/product/small/201812/b3a8935aeeaf1f45959165ebaefe1532.jpg',\n",
       "   'http://aprilskin.com/web/product/extra/small/201811/583dba06a071bc25e2e1c19c8717c0b2.jpg',\n",
       "   'http://aprilskin.com/web/product/extra/small/201811/0fe18dd94b23b27230526a736ed773c0.jpg',\n",
       "   'http://aprilskin.com/web/product/extra/small/201811/57431da4768908893552a3d8ceb4cd1a.jpg'],\n",
       "  'category': 'categoryName',\n",
       "  'volume': '',\n",
       "  'salePrice': 18000,\n",
       "  'originalPrice': 20000,\n",
       "  'brand': 'aprilskin',\n",
       "  'url': 'http://aprilskin.com/product/detail.html?product_no=929&cate_no=48&display_group=1',\n",
       "  'color': '23호 내추럴베이지(10%off)'},\n",
       " {'name': '[리미티드]퍼펙트 매직 커버 핏 쿠션 2.0 핑크홀릭 리필',\n",
       "  'image': ['http://aprilskin.com/web/product/small/201812/b3a8935aeeaf1f45959165ebaefe1532.jpg',\n",
       "   'http://aprilskin.com/web/product/extra/small/201811/583dba06a071bc25e2e1c19c8717c0b2.jpg',\n",
       "   'http://aprilskin.com/web/product/extra/small/201811/0fe18dd94b23b27230526a736ed773c0.jpg',\n",
       "   'http://aprilskin.com/web/product/extra/small/201811/57431da4768908893552a3d8ceb4cd1a.jpg'],\n",
       "  'category': 'categoryName',\n",
       "  'volume': '',\n",
       "  'salePrice': 18000,\n",
       "  'originalPrice': 20000,\n",
       "  'brand': 'aprilskin',\n",
       "  'url': 'http://aprilskin.com/product/detail.html?product_no=929&cate_no=48&display_group=1',\n",
       "  'color': '[2+1] 17호 모찌모찌베이지(33%off) '},\n",
       " {'name': '[리미티드]퍼펙트 매직 커버 핏 쿠션 2.0 핑크홀릭 리필',\n",
       "  'image': ['http://aprilskin.com/web/product/small/201812/b3a8935aeeaf1f45959165ebaefe1532.jpg',\n",
       "   'http://aprilskin.com/web/product/extra/small/201811/583dba06a071bc25e2e1c19c8717c0b2.jpg',\n",
       "   'http://aprilskin.com/web/product/extra/small/201811/0fe18dd94b23b27230526a736ed773c0.jpg',\n",
       "   'http://aprilskin.com/web/product/extra/small/201811/57431da4768908893552a3d8ceb4cd1a.jpg'],\n",
       "  'category': 'categoryName',\n",
       "  'volume': '',\n",
       "  'salePrice': 18000,\n",
       "  'originalPrice': 20000,\n",
       "  'brand': 'aprilskin',\n",
       "  'url': 'http://aprilskin.com/product/detail.html?product_no=929&cate_no=48&display_group=1',\n",
       "  'color': '[2+1] 21호 라이트베이지(33%off) '},\n",
       " {'name': '[리미티드]퍼펙트 매직 커버 핏 쿠션 2.0 핑크홀릭 리필',\n",
       "  'image': ['http://aprilskin.com/web/product/small/201812/b3a8935aeeaf1f45959165ebaefe1532.jpg',\n",
       "   'http://aprilskin.com/web/product/extra/small/201811/583dba06a071bc25e2e1c19c8717c0b2.jpg',\n",
       "   'http://aprilskin.com/web/product/extra/small/201811/0fe18dd94b23b27230526a736ed773c0.jpg',\n",
       "   'http://aprilskin.com/web/product/extra/small/201811/57431da4768908893552a3d8ceb4cd1a.jpg'],\n",
       "  'category': 'categoryName',\n",
       "  'volume': '',\n",
       "  'salePrice': 18000,\n",
       "  'originalPrice': 20000,\n",
       "  'brand': 'aprilskin',\n",
       "  'url': 'http://aprilskin.com/product/detail.html?product_no=929&cate_no=48&display_group=1',\n",
       "  'color': '[2+1] 22호 핑크베이지(33%off) '},\n",
       " {'name': '[리미티드]퍼펙트 매직 커버 핏 쿠션 2.0 핑크홀릭 리필',\n",
       "  'image': ['http://aprilskin.com/web/product/small/201812/b3a8935aeeaf1f45959165ebaefe1532.jpg',\n",
       "   'http://aprilskin.com/web/product/extra/small/201811/583dba06a071bc25e2e1c19c8717c0b2.jpg',\n",
       "   'http://aprilskin.com/web/product/extra/small/201811/0fe18dd94b23b27230526a736ed773c0.jpg',\n",
       "   'http://aprilskin.com/web/product/extra/small/201811/57431da4768908893552a3d8ceb4cd1a.jpg'],\n",
       "  'category': 'categoryName',\n",
       "  'volume': '',\n",
       "  'salePrice': 18000,\n",
       "  'originalPrice': 20000,\n",
       "  'brand': 'aprilskin',\n",
       "  'url': 'http://aprilskin.com/product/detail.html?product_no=929&cate_no=48&display_group=1',\n",
       "  'color': '[2+1] 23호 내추럴베이지(33%off) '}]"
      ]
     },
     "metadata": {},
     "output_type": "display_data"
    },
    {
     "data": {
      "text/plain": [
       "[{'name': '퍼펙트 매직 커버 핏 쿠션 2.0',\n",
       "  'image': ['http://aprilskin.com/web/product/small/201812/3121e58a4665e06aa12ebd35eca2655f.jpg'],\n",
       "  'category': 'categoryName',\n",
       "  'volume': '',\n",
       "  'salePrice': 29000,\n",
       "  'originalPrice': 34000,\n",
       "  'brand': 'aprilskin',\n",
       "  'url': 'http://aprilskin.com/product/detail.html?product_no=748&cate_no=48&display_group=1',\n",
       "  'color': ''}]"
      ]
     },
     "metadata": {},
     "output_type": "display_data"
    },
    {
     "data": {
      "text/plain": [
       "[{'name': '[슬림핏퍼프증정] 퍼펙트 커버 핏 듀오',\n",
       "  'image': ['http://aprilskin.com/web/product/small/201812/240dae8f12334120cbea5598c4c15264.jpg',\n",
       "   'http://aprilskin.com/web/product/extra/small/201808/148ca3131d5a1ddec17f1d407228a646.jpg',\n",
       "   'http://aprilskin.com/web/product/extra/small/201808/6af2c9b753830b24a7f4c490a7f2e202.jpg',\n",
       "   'http://aprilskin.com/web/product/extra/small/201808/393b4d784a88070fe8de9391dd81f40e.jpg'],\n",
       "  'category': 'categoryName',\n",
       "  'volume': '',\n",
       "  'salePrice': 49000,\n",
       "  'originalPrice': 67000,\n",
       "  'brand': 'aprilskin',\n",
       "  'url': 'http://aprilskin.com/product/detail.html?product_no=854&cate_no=48&display_group=1',\n",
       "  'color': '21호 라이트베이지'},\n",
       " {'name': '[슬림핏퍼프증정] 퍼펙트 커버 핏 듀오',\n",
       "  'image': ['http://aprilskin.com/web/product/small/201812/240dae8f12334120cbea5598c4c15264.jpg',\n",
       "   'http://aprilskin.com/web/product/extra/small/201808/148ca3131d5a1ddec17f1d407228a646.jpg',\n",
       "   'http://aprilskin.com/web/product/extra/small/201808/6af2c9b753830b24a7f4c490a7f2e202.jpg',\n",
       "   'http://aprilskin.com/web/product/extra/small/201808/393b4d784a88070fe8de9391dd81f40e.jpg'],\n",
       "  'category': 'categoryName',\n",
       "  'volume': '',\n",
       "  'salePrice': 49000,\n",
       "  'originalPrice': 67000,\n",
       "  'brand': 'aprilskin',\n",
       "  'url': 'http://aprilskin.com/product/detail.html?product_no=854&cate_no=48&display_group=1',\n",
       "  'color': '22호 핑크베이지'},\n",
       " {'name': '[슬림핏퍼프증정] 퍼펙트 커버 핏 듀오',\n",
       "  'image': ['http://aprilskin.com/web/product/small/201812/240dae8f12334120cbea5598c4c15264.jpg',\n",
       "   'http://aprilskin.com/web/product/extra/small/201808/148ca3131d5a1ddec17f1d407228a646.jpg',\n",
       "   'http://aprilskin.com/web/product/extra/small/201808/6af2c9b753830b24a7f4c490a7f2e202.jpg',\n",
       "   'http://aprilskin.com/web/product/extra/small/201808/393b4d784a88070fe8de9391dd81f40e.jpg'],\n",
       "  'category': 'categoryName',\n",
       "  'volume': '',\n",
       "  'salePrice': 49000,\n",
       "  'originalPrice': 67000,\n",
       "  'brand': 'aprilskin',\n",
       "  'url': 'http://aprilskin.com/product/detail.html?product_no=854&cate_no=48&display_group=1',\n",
       "  'color': '23호 내추럴베이지'}]"
      ]
     },
     "metadata": {},
     "output_type": "display_data"
    },
    {
     "data": {
      "text/plain": [
       "[{'name': '매직스노우쿠션 3.0',\n",
       "  'image': ['http://aprilskin.com/web/product/small/201812/055af7fa7da9b00590c8dc7cca973183.jpg',\n",
       "   'http://aprilskin.com/web/product/extra/small/201809/bc300ea7d8485677f4345d9867c9382b.jpg',\n",
       "   'http://aprilskin.com/web/product/extra/small/201809/f4792376d5d8f938c0a015604806d496.jpg'],\n",
       "  'category': 'categoryName',\n",
       "  'volume': '',\n",
       "  'salePrice': 28000,\n",
       "  'originalPrice': 33000,\n",
       "  'brand': 'aprilskin',\n",
       "  'url': 'http://aprilskin.com/product/detail.html?product_no=747&cate_no=48&display_group=1',\n",
       "  'color': '21 라이트베이지'},\n",
       " {'name': '매직스노우쿠션 3.0',\n",
       "  'image': ['http://aprilskin.com/web/product/small/201812/055af7fa7da9b00590c8dc7cca973183.jpg',\n",
       "   'http://aprilskin.com/web/product/extra/small/201809/bc300ea7d8485677f4345d9867c9382b.jpg',\n",
       "   'http://aprilskin.com/web/product/extra/small/201809/f4792376d5d8f938c0a015604806d496.jpg'],\n",
       "  'category': 'categoryName',\n",
       "  'volume': '',\n",
       "  'salePrice': 28000,\n",
       "  'originalPrice': 33000,\n",
       "  'brand': 'aprilskin',\n",
       "  'url': 'http://aprilskin.com/product/detail.html?product_no=747&cate_no=48&display_group=1',\n",
       "  'color': '22 핑크베이지'},\n",
       " {'name': '매직스노우쿠션 3.0',\n",
       "  'image': ['http://aprilskin.com/web/product/small/201812/055af7fa7da9b00590c8dc7cca973183.jpg',\n",
       "   'http://aprilskin.com/web/product/extra/small/201809/bc300ea7d8485677f4345d9867c9382b.jpg',\n",
       "   'http://aprilskin.com/web/product/extra/small/201809/f4792376d5d8f938c0a015604806d496.jpg'],\n",
       "  'category': 'categoryName',\n",
       "  'volume': '',\n",
       "  'salePrice': 28000,\n",
       "  'originalPrice': 33000,\n",
       "  'brand': 'aprilskin',\n",
       "  'url': 'http://aprilskin.com/product/detail.html?product_no=747&cate_no=48&display_group=1',\n",
       "  'color': '23 내추럴베이지'}]"
      ]
     },
     "metadata": {},
     "output_type": "display_data"
    },
    {
     "data": {
      "text/plain": [
       "[{'name': '[퍼프증정] 퍼펙트 매직 커버 핏 파운데이션',\n",
       "  'image': ['http://aprilskin.com/web/product/small/201812/6f41fb1fd15a2f12d9257b47c9e49361.jpg',\n",
       "   'http://aprilskin.com/web/product/extra/small/201808/148ca3131d5a1ddec17f1d407228a646.jpg',\n",
       "   'http://aprilskin.com/web/product/extra/small/201808/6af2c9b753830b24a7f4c490a7f2e202.jpg',\n",
       "   'http://aprilskin.com/web/product/extra/small/201808/393b4d784a88070fe8de9391dd81f40e.jpg'],\n",
       "  'category': 'categoryName',\n",
       "  'volume': '',\n",
       "  'salePrice': 28000,\n",
       "  'originalPrice': 33000,\n",
       "  'brand': 'aprilskin',\n",
       "  'url': 'http://aprilskin.com/product/detail.html?product_no=827&cate_no=48&display_group=1',\n",
       "  'color': '21호 라이트베이지'},\n",
       " {'name': '[퍼프증정] 퍼펙트 매직 커버 핏 파운데이션',\n",
       "  'image': ['http://aprilskin.com/web/product/small/201812/6f41fb1fd15a2f12d9257b47c9e49361.jpg',\n",
       "   'http://aprilskin.com/web/product/extra/small/201808/148ca3131d5a1ddec17f1d407228a646.jpg',\n",
       "   'http://aprilskin.com/web/product/extra/small/201808/6af2c9b753830b24a7f4c490a7f2e202.jpg',\n",
       "   'http://aprilskin.com/web/product/extra/small/201808/393b4d784a88070fe8de9391dd81f40e.jpg'],\n",
       "  'category': 'categoryName',\n",
       "  'volume': '',\n",
       "  'salePrice': 28000,\n",
       "  'originalPrice': 33000,\n",
       "  'brand': 'aprilskin',\n",
       "  'url': 'http://aprilskin.com/product/detail.html?product_no=827&cate_no=48&display_group=1',\n",
       "  'color': '22호 핑크베이지'},\n",
       " {'name': '[퍼프증정] 퍼펙트 매직 커버 핏 파운데이션',\n",
       "  'image': ['http://aprilskin.com/web/product/small/201812/6f41fb1fd15a2f12d9257b47c9e49361.jpg',\n",
       "   'http://aprilskin.com/web/product/extra/small/201808/148ca3131d5a1ddec17f1d407228a646.jpg',\n",
       "   'http://aprilskin.com/web/product/extra/small/201808/6af2c9b753830b24a7f4c490a7f2e202.jpg',\n",
       "   'http://aprilskin.com/web/product/extra/small/201808/393b4d784a88070fe8de9391dd81f40e.jpg'],\n",
       "  'category': 'categoryName',\n",
       "  'volume': '',\n",
       "  'salePrice': 28000,\n",
       "  'originalPrice': 33000,\n",
       "  'brand': 'aprilskin',\n",
       "  'url': 'http://aprilskin.com/product/detail.html?product_no=827&cate_no=48&display_group=1',\n",
       "  'color': '23호 내추럴베이지'}]"
      ]
     },
     "metadata": {},
     "output_type": "display_data"
    },
    {
     "data": {
      "text/plain": [
       "[{'name': '[리필증정] 퍼펙트 매직 커버프루프 쿠션',\n",
       "  'image': ['http://aprilskin.com/web/product/small/201901/4481f3f10ba3e836dda0ded8e18dd811.jpg',\n",
       "   'http://aprilskin.com/web/product/extra/small/201807/742_shop1_15312923924746.png',\n",
       "   'http://aprilskin.com/web/product/extra/small/201807/742_shop1_15312923928385.png',\n",
       "   'http://aprilskin.com/web/product/extra/small/201807/742_shop1_15312923931317.png'],\n",
       "  'category': 'categoryName',\n",
       "  'volume': '',\n",
       "  'salePrice': 29000,\n",
       "  'originalPrice': 34000,\n",
       "  'brand': 'aprilskin',\n",
       "  'url': 'http://aprilskin.com/product/detail.html?product_no=742&cate_no=48&display_group=1',\n",
       "  'color': ''}]"
      ]
     },
     "metadata": {},
     "output_type": "display_data"
    },
    {
     "data": {
      "text/plain": [
       "[{'name': '퍼펙트 매직 커버 핏 쿠션 2.0 SET(본품+리필)',\n",
       "  'image': ['http://aprilskin.com/web/product/small/201812/0363b034005ea85ee79ae330d7fbfdd7.jpg'],\n",
       "  'category': 'categoryName',\n",
       "  'volume': '',\n",
       "  'salePrice': 39500,\n",
       "  'originalPrice': 52000,\n",
       "  'brand': 'aprilskin',\n",
       "  'url': 'http://aprilskin.com/product/detail.html?product_no=821&cate_no=48&display_group=1',\n",
       "  'color': ''}]"
      ]
     },
     "metadata": {},
     "output_type": "display_data"
    },
    {
     "data": {
      "text/plain": [
       "[{'name': '퍼펙트 매직 커버 핏 쿠션 2.0 리필',\n",
       "  'image': ['http://aprilskin.com/web/product/small/201812/2a47f7a461fd27a637e5c4275d3c720f.jpg'],\n",
       "  'category': 'categoryName',\n",
       "  'volume': '',\n",
       "  'salePrice': 18000,\n",
       "  'originalPrice': 20000,\n",
       "  'brand': 'aprilskin',\n",
       "  'url': 'http://aprilskin.com/product/detail.html?product_no=855&cate_no=48&display_group=1',\n",
       "  'color': ''}]"
      ]
     },
     "metadata": {},
     "output_type": "display_data"
    },
    {
     "data": {
      "text/plain": [
       "[{'name': '매직스노우쿠션 3.0 SET (본품+리필)',\n",
       "  'image': ['http://aprilskin.com/web/product/small/201812/681496f231337d821180832eb597520f.jpg',\n",
       "   'http://aprilskin.com/web/product/extra/small/201809/045cd6ff8882c77593d58143d078f505.jpg',\n",
       "   'http://aprilskin.com/web/product/extra/small/201809/60d1158883513f6b7334b15641e367d0.jpg'],\n",
       "  'category': 'categoryName',\n",
       "  'volume': '',\n",
       "  'salePrice': 39000,\n",
       "  'originalPrice': 51000,\n",
       "  'brand': 'aprilskin',\n",
       "  'url': 'http://aprilskin.com/product/detail.html?product_no=846&cate_no=48&display_group=1',\n",
       "  'color': '21 라이트베이지'},\n",
       " {'name': '매직스노우쿠션 3.0 SET (본품+리필)',\n",
       "  'image': ['http://aprilskin.com/web/product/small/201812/681496f231337d821180832eb597520f.jpg',\n",
       "   'http://aprilskin.com/web/product/extra/small/201809/045cd6ff8882c77593d58143d078f505.jpg',\n",
       "   'http://aprilskin.com/web/product/extra/small/201809/60d1158883513f6b7334b15641e367d0.jpg'],\n",
       "  'category': 'categoryName',\n",
       "  'volume': '',\n",
       "  'salePrice': 39000,\n",
       "  'originalPrice': 51000,\n",
       "  'brand': 'aprilskin',\n",
       "  'url': 'http://aprilskin.com/product/detail.html?product_no=846&cate_no=48&display_group=1',\n",
       "  'color': '22 핑크베이지'},\n",
       " {'name': '매직스노우쿠션 3.0 SET (본품+리필)',\n",
       "  'image': ['http://aprilskin.com/web/product/small/201812/681496f231337d821180832eb597520f.jpg',\n",
       "   'http://aprilskin.com/web/product/extra/small/201809/045cd6ff8882c77593d58143d078f505.jpg',\n",
       "   'http://aprilskin.com/web/product/extra/small/201809/60d1158883513f6b7334b15641e367d0.jpg'],\n",
       "  'category': 'categoryName',\n",
       "  'volume': '',\n",
       "  'salePrice': 39000,\n",
       "  'originalPrice': 51000,\n",
       "  'brand': 'aprilskin',\n",
       "  'url': 'http://aprilskin.com/product/detail.html?product_no=846&cate_no=48&display_group=1',\n",
       "  'color': '23 내추럴베이지'}]"
      ]
     },
     "metadata": {},
     "output_type": "display_data"
    },
    {
     "data": {
      "text/plain": [
       "[{'name': '매직스노우쿠션 3.0 리필',\n",
       "  'image': ['http://aprilskin.com/web/product/small/201812/a9d335b7448806d6965e6456cba49291.jpg',\n",
       "   'http://aprilskin.com/web/product/extra/small/201809/56f000683a374bf924682866132172bd.jpg',\n",
       "   'http://aprilskin.com/web/product/extra/small/201809/035722ea66d1d24a64ed57831b3afa00.jpg'],\n",
       "  'category': 'categoryName',\n",
       "  'volume': '',\n",
       "  'salePrice': 18000,\n",
       "  'originalPrice': 20000,\n",
       "  'brand': 'aprilskin',\n",
       "  'url': 'http://aprilskin.com/product/detail.html?product_no=845&cate_no=48&display_group=1',\n",
       "  'color': '21 라이트베이지(10%off)'},\n",
       " {'name': '매직스노우쿠션 3.0 리필',\n",
       "  'image': ['http://aprilskin.com/web/product/small/201812/a9d335b7448806d6965e6456cba49291.jpg',\n",
       "   'http://aprilskin.com/web/product/extra/small/201809/56f000683a374bf924682866132172bd.jpg',\n",
       "   'http://aprilskin.com/web/product/extra/small/201809/035722ea66d1d24a64ed57831b3afa00.jpg'],\n",
       "  'category': 'categoryName',\n",
       "  'volume': '',\n",
       "  'salePrice': 18000,\n",
       "  'originalPrice': 20000,\n",
       "  'brand': 'aprilskin',\n",
       "  'url': 'http://aprilskin.com/product/detail.html?product_no=845&cate_no=48&display_group=1',\n",
       "  'color': '22 핑크베이지(10%off)'},\n",
       " {'name': '매직스노우쿠션 3.0 리필',\n",
       "  'image': ['http://aprilskin.com/web/product/small/201812/a9d335b7448806d6965e6456cba49291.jpg',\n",
       "   'http://aprilskin.com/web/product/extra/small/201809/56f000683a374bf924682866132172bd.jpg',\n",
       "   'http://aprilskin.com/web/product/extra/small/201809/035722ea66d1d24a64ed57831b3afa00.jpg'],\n",
       "  'category': 'categoryName',\n",
       "  'volume': '',\n",
       "  'salePrice': 18000,\n",
       "  'originalPrice': 20000,\n",
       "  'brand': 'aprilskin',\n",
       "  'url': 'http://aprilskin.com/product/detail.html?product_no=845&cate_no=48&display_group=1',\n",
       "  'color': '23 내추럴베이지(10%off)'},\n",
       " {'name': '매직스노우쿠션 3.0 리필',\n",
       "  'image': ['http://aprilskin.com/web/product/small/201812/a9d335b7448806d6965e6456cba49291.jpg',\n",
       "   'http://aprilskin.com/web/product/extra/small/201809/56f000683a374bf924682866132172bd.jpg',\n",
       "   'http://aprilskin.com/web/product/extra/small/201809/035722ea66d1d24a64ed57831b3afa00.jpg'],\n",
       "  'category': 'categoryName',\n",
       "  'volume': '',\n",
       "  'salePrice': 18000,\n",
       "  'originalPrice': 20000,\n",
       "  'brand': 'aprilskin',\n",
       "  'url': 'http://aprilskin.com/product/detail.html?product_no=845&cate_no=48&display_group=1',\n",
       "  'color': '[2+1] 21호 라이트베이지(33%off) '},\n",
       " {'name': '매직스노우쿠션 3.0 리필',\n",
       "  'image': ['http://aprilskin.com/web/product/small/201812/a9d335b7448806d6965e6456cba49291.jpg',\n",
       "   'http://aprilskin.com/web/product/extra/small/201809/56f000683a374bf924682866132172bd.jpg',\n",
       "   'http://aprilskin.com/web/product/extra/small/201809/035722ea66d1d24a64ed57831b3afa00.jpg'],\n",
       "  'category': 'categoryName',\n",
       "  'volume': '',\n",
       "  'salePrice': 18000,\n",
       "  'originalPrice': 20000,\n",
       "  'brand': 'aprilskin',\n",
       "  'url': 'http://aprilskin.com/product/detail.html?product_no=845&cate_no=48&display_group=1',\n",
       "  'color': '[2+1] 22호 핑크베이지(33%off) '},\n",
       " {'name': '매직스노우쿠션 3.0 리필',\n",
       "  'image': ['http://aprilskin.com/web/product/small/201812/a9d335b7448806d6965e6456cba49291.jpg',\n",
       "   'http://aprilskin.com/web/product/extra/small/201809/56f000683a374bf924682866132172bd.jpg',\n",
       "   'http://aprilskin.com/web/product/extra/small/201809/035722ea66d1d24a64ed57831b3afa00.jpg'],\n",
       "  'category': 'categoryName',\n",
       "  'volume': '',\n",
       "  'salePrice': 18000,\n",
       "  'originalPrice': 20000,\n",
       "  'brand': 'aprilskin',\n",
       "  'url': 'http://aprilskin.com/product/detail.html?product_no=845&cate_no=48&display_group=1',\n",
       "  'color': '[2+1] 23호 내추럴베이지(33%off) '}]"
      ]
     },
     "metadata": {},
     "output_type": "display_data"
    },
    {
     "data": {
      "text/plain": [
       "[{'name': '퍼펙트 매직 커버프루프 쿠션 리필',\n",
       "  'image': ['http://aprilskin.com/web/product/small/201901/40cedefcd9887f140afe68e3f04dc852.jpg',\n",
       "   'http://aprilskin.com/web/product/extra/small/201807/764_shop1_15323361800965.png',\n",
       "   'http://aprilskin.com/web/product/extra/small/201807/764_shop1_15323361844432.png',\n",
       "   'http://aprilskin.com/web/product/extra/small/201807/764_shop1_15323361879915.png'],\n",
       "  'category': 'categoryName',\n",
       "  'volume': '',\n",
       "  'salePrice': 15000,\n",
       "  'originalPrice': 18000,\n",
       "  'brand': 'aprilskin',\n",
       "  'url': 'http://aprilskin.com/product/detail.html?product_no=764&cate_no=48&display_group=1',\n",
       "  'color': ''}]"
      ]
     },
     "metadata": {},
     "output_type": "display_data"
    },
    {
     "data": {
      "text/plain": [
       "[{'name': '퍼펙트 매직 페이스 스타터',\n",
       "  'image': ['http://aprilskin.com/web/product/small/201811/90f5b38aff3f13eb7952917392d754e5.png',\n",
       "   'http://aprilskin.com/web/product/extra/small/201807/568_shop1_15329315825097.png',\n",
       "   'http://aprilskin.com/web/product/extra/small/201807/568_shop1_15329315865899.png'],\n",
       "  'category': 'categoryName',\n",
       "  'volume': '',\n",
       "  'salePrice': 19000,\n",
       "  'originalPrice': 24000,\n",
       "  'brand': 'aprilskin',\n",
       "  'url': 'http://aprilskin.com/product/detail.html?product_no=568&cate_no=48&display_group=1',\n",
       "  'color': ''}]"
      ]
     },
     "metadata": {},
     "output_type": "display_data"
    },
    {
     "data": {
      "text/plain": [
       "[{'name': '퍼펙트 매직 매트 스타터',\n",
       "  'image': ['http://aprilskin.com/web/product/small/201812/cba36bfff2cdfeae5a049ce35c0fe773.jpg',\n",
       "   'http://aprilskin.com/web/product/extra/small/201807/740_shop1_15329248459953.jpg',\n",
       "   'http://aprilskin.com/web/product/extra/small/201807/740_shop1_1532924849297.jpg',\n",
       "   'http://aprilskin.com/web/product/extra/small/201807/740_shop1_15329248531038.jpg'],\n",
       "  'category': 'categoryName',\n",
       "  'volume': '',\n",
       "  'salePrice': 19000,\n",
       "  'originalPrice': 24000,\n",
       "  'brand': 'aprilskin',\n",
       "  'url': 'http://aprilskin.com/product/detail.html?product_no=740&cate_no=48&display_group=1',\n",
       "  'color': ''}]"
      ]
     },
     "metadata": {},
     "output_type": "display_data"
    },
    {
     "data": {
      "text/plain": [
       "[{'name': '[리필증정] 매직스노우쿠션2.0',\n",
       "  'image': ['http://aprilskin.com/web/product/small/201812/260f0daec26112ca8327fe50895b9dac.jpg',\n",
       "   'http://aprilskin.com/web/product/extra/small/201807/286_shop1_15329323312456.png',\n",
       "   'http://aprilskin.com/web/product/extra/small/201807/286_shop1_15329323327213.png'],\n",
       "  'category': 'categoryName',\n",
       "  'volume': '',\n",
       "  'salePrice': 15000,\n",
       "  'originalPrice': 33000,\n",
       "  'brand': 'aprilskin',\n",
       "  'url': 'http://aprilskin.com/product/detail.html?product_no=286&cate_no=48&display_group=1',\n",
       "  'color': '21 라이트베이지 '},\n",
       " {'name': '[리필증정] 매직스노우쿠션2.0',\n",
       "  'image': ['http://aprilskin.com/web/product/small/201812/260f0daec26112ca8327fe50895b9dac.jpg',\n",
       "   'http://aprilskin.com/web/product/extra/small/201807/286_shop1_15329323312456.png',\n",
       "   'http://aprilskin.com/web/product/extra/small/201807/286_shop1_15329323327213.png'],\n",
       "  'category': 'categoryName',\n",
       "  'volume': '',\n",
       "  'salePrice': 15000,\n",
       "  'originalPrice': 33000,\n",
       "  'brand': 'aprilskin',\n",
       "  'url': 'http://aprilskin.com/product/detail.html?product_no=286&cate_no=48&display_group=1',\n",
       "  'color': '22 핑크베이지 '},\n",
       " {'name': '[리필증정] 매직스노우쿠션2.0',\n",
       "  'image': ['http://aprilskin.com/web/product/small/201812/260f0daec26112ca8327fe50895b9dac.jpg',\n",
       "   'http://aprilskin.com/web/product/extra/small/201807/286_shop1_15329323312456.png',\n",
       "   'http://aprilskin.com/web/product/extra/small/201807/286_shop1_15329323327213.png'],\n",
       "  'category': 'categoryName',\n",
       "  'volume': '',\n",
       "  'salePrice': 15000,\n",
       "  'originalPrice': 33000,\n",
       "  'brand': 'aprilskin',\n",
       "  'url': 'http://aprilskin.com/product/detail.html?product_no=286&cate_no=48&display_group=1',\n",
       "  'color': '23 내추럴베이지'}]"
      ]
     },
     "metadata": {},
     "output_type": "display_data"
    },
    {
     "data": {
      "text/plain": [
       "[{'name': '퍼펙트 매직 커버 듀얼 쿠션',\n",
       "  'image': ['http://aprilskin.com/web/product/small/201812/1f3100876e98a33b71fa0d9199a596b9.jpg',\n",
       "   'http://aprilskin.com/web/product/extra/small/201807/721_shop1_15312924776806.png',\n",
       "   'http://aprilskin.com/web/product/extra/small/201807/721_shop1_15312924780156.png',\n",
       "   'http://aprilskin.com/web/product/extra/small/201807/721_shop1_15312924783389.png'],\n",
       "  'category': 'categoryName',\n",
       "  'volume': '',\n",
       "  'salePrice': 32000,\n",
       "  'originalPrice': 40000,\n",
       "  'brand': 'aprilskin',\n",
       "  'url': 'http://aprilskin.com/product/detail.html?product_no=721&cate_no=48&display_group=1',\n",
       "  'color': ''}]"
      ]
     },
     "metadata": {},
     "output_type": "display_data"
    },
    {
     "data": {
      "text/plain": [
       "[{'name': '퍼펙트 매직 커버 듀얼 쿠션 SET (본품+리필)',\n",
       "  'image': ['http://aprilskin.com/web/product/small/201812/4fd6cebe0c1cde51d2212816f7e356d4.jpg',\n",
       "   'http://aprilskin.com/web/product/extra/small/201807/757_shop1_1531292710642.png',\n",
       "   'http://aprilskin.com/web/product/extra/small/201807/757_shop1_1531292717725.png',\n",
       "   'http://aprilskin.com/web/product/extra/small/201807/757_shop1_15312927238111.png'],\n",
       "  'category': 'categoryName',\n",
       "  'volume': '',\n",
       "  'salePrice': 48000,\n",
       "  'originalPrice': 62000,\n",
       "  'brand': 'aprilskin',\n",
       "  'url': 'http://aprilskin.com/product/detail.html?product_no=757&cate_no=48&display_group=1',\n",
       "  'color': ''}]"
      ]
     },
     "metadata": {},
     "output_type": "display_data"
    },
    {
     "data": {
      "text/plain": [
       "[{'name': '퍼펙트 매직 커버 듀얼 쿠션 리필',\n",
       "  'image': ['http://aprilskin.com/web/product/small/201901/c242cbe2bf30a724483bfabaccc72a1e.jpg',\n",
       "   'http://aprilskin.com/web/product/extra/small/201807/756_shop1_15312924562363.png',\n",
       "   'http://aprilskin.com/web/product/extra/small/201807/756_shop1_15312924565174.png',\n",
       "   'http://aprilskin.com/web/product/extra/small/201807/756_shop1_15312924569439.png'],\n",
       "  'category': 'categoryName',\n",
       "  'volume': '',\n",
       "  'salePrice': 19000,\n",
       "  'originalPrice': 22000,\n",
       "  'brand': 'aprilskin',\n",
       "  'url': 'http://aprilskin.com/product/detail.html?product_no=756&cate_no=48&display_group=1',\n",
       "  'color': ''}]"
      ]
     },
     "metadata": {},
     "output_type": "display_data"
    },
    {
     "data": {
      "text/plain": [
       "[{'name': '매직 에센스 미스트 쿠션',\n",
       "  'image': ['http://aprilskin.com/web/product/small/201812/c6afef58548a4925c5bf13960d02eb8d.jpg',\n",
       "   'http://aprilskin.com/web/product/extra/small/201811/39d307b276f3c35b38650f1f70526b51.png',\n",
       "   'http://aprilskin.com/web/product/extra/small/201811/687da880f5974306ef87a692ed49e785.png',\n",
       "   'http://aprilskin.com/web/product/extra/small/201811/51e1088b25c8b22d249d8ba720e7cb40.png'],\n",
       "  'category': 'categoryName',\n",
       "  'volume': '',\n",
       "  'salePrice': 45000,\n",
       "  'originalPrice': 45000,\n",
       "  'brand': 'aprilskin',\n",
       "  'url': 'http://aprilskin.com/product/detail.html?product_no=891&cate_no=48&display_group=1',\n",
       "  'color': ''}]"
      ]
     },
     "metadata": {},
     "output_type": "display_data"
    },
    {
     "data": {
      "text/plain": [
       "[{'name': '매직 에센스 샤워쿠션',\n",
       "  'image': ['http://aprilskin.com/web/product/small/201901/56b570c4d4893cd42ea1eb164c044eac.jpg'],\n",
       "  'category': 'categoryName',\n",
       "  'volume': '',\n",
       "  'salePrice': 45000,\n",
       "  'originalPrice': 45000,\n",
       "  'brand': 'aprilskin',\n",
       "  'url': 'http://aprilskin.com/product/detail.html?product_no=715&cate_no=48&display_group=1',\n",
       "  'color': ''}]"
      ]
     },
     "metadata": {},
     "output_type": "display_data"
    },
    {
     "data": {
      "text/plain": [
       "[{'name': '매직 에센스 샤워쿠션 SET(본품1+리필2)',\n",
       "  'image': ['http://aprilskin.com/web/product/small/201901/6c489117512a5941cf6090ffdb542c14.jpg'],\n",
       "  'category': 'categoryName',\n",
       "  'volume': '',\n",
       "  'salePrice': 45000,\n",
       "  'originalPrice': 63000,\n",
       "  'brand': 'aprilskin',\n",
       "  'url': 'http://aprilskin.com/product/detail.html?product_no=714&cate_no=48&display_group=1',\n",
       "  'color': ''}]"
      ]
     },
     "metadata": {},
     "output_type": "display_data"
    },
    {
     "data": {
      "text/plain": [
       "[{'name': '퍼펙트 매직 커버 핏 쿠션 SET(본품+리필)',\n",
       "  'image': ['http://aprilskin.com/web/product/small/201812/258bd919179ae4b4f4f513908d9a8bd8.jpg',\n",
       "   'http://aprilskin.com/web/product/extra/small/201807/587_shop1_15329316377249.png',\n",
       "   'http://aprilskin.com/web/product/extra/small/201807/587_shop1_15329316403781.png',\n",
       "   'http://aprilskin.com/web/product/extra/small/201807/587_shop1_15329316465325.png'],\n",
       "  'category': 'categoryName',\n",
       "  'volume': '',\n",
       "  'salePrice': 39500,\n",
       "  'originalPrice': 52000,\n",
       "  'brand': 'aprilskin',\n",
       "  'url': 'http://aprilskin.com/product/detail.html?product_no=587&cate_no=48&display_group=1',\n",
       "  'color': '21호 라이트베이지 '},\n",
       " {'name': '퍼펙트 매직 커버 핏 쿠션 SET(본품+리필)',\n",
       "  'image': ['http://aprilskin.com/web/product/small/201812/258bd919179ae4b4f4f513908d9a8bd8.jpg',\n",
       "   'http://aprilskin.com/web/product/extra/small/201807/587_shop1_15329316377249.png',\n",
       "   'http://aprilskin.com/web/product/extra/small/201807/587_shop1_15329316403781.png',\n",
       "   'http://aprilskin.com/web/product/extra/small/201807/587_shop1_15329316465325.png'],\n",
       "  'category': 'categoryName',\n",
       "  'volume': '',\n",
       "  'salePrice': 39500,\n",
       "  'originalPrice': 52000,\n",
       "  'brand': 'aprilskin',\n",
       "  'url': 'http://aprilskin.com/product/detail.html?product_no=587&cate_no=48&display_group=1',\n",
       "  'color': '22호 핑크베이지 '},\n",
       " {'name': '퍼펙트 매직 커버 핏 쿠션 SET(본품+리필)',\n",
       "  'image': ['http://aprilskin.com/web/product/small/201812/258bd919179ae4b4f4f513908d9a8bd8.jpg',\n",
       "   'http://aprilskin.com/web/product/extra/small/201807/587_shop1_15329316377249.png',\n",
       "   'http://aprilskin.com/web/product/extra/small/201807/587_shop1_15329316403781.png',\n",
       "   'http://aprilskin.com/web/product/extra/small/201807/587_shop1_15329316465325.png'],\n",
       "  'category': 'categoryName',\n",
       "  'volume': '',\n",
       "  'salePrice': 39500,\n",
       "  'originalPrice': 52000,\n",
       "  'brand': 'aprilskin',\n",
       "  'url': 'http://aprilskin.com/product/detail.html?product_no=587&cate_no=48&display_group=1',\n",
       "  'color': '23호 내추럴베이지'}]"
      ]
     },
     "metadata": {},
     "output_type": "display_data"
    },
    {
     "data": {
      "text/plain": [
       "[{'name': '퍼펙트 매직 커버 핏 쿠션',\n",
       "  'image': ['http://aprilskin.com/web/product/small/201812/5ec3e33df0940bc511ddc6ed44c1d2af.jpg',\n",
       "   'http://aprilskin.com/web/product/extra/small/201807/583_shop1_15329316050448.png',\n",
       "   'http://aprilskin.com/web/product/extra/small/201807/583_shop1_15329316056182.png',\n",
       "   'http://aprilskin.com/web/product/extra/small/201807/583_shop1_15329316095877.png'],\n",
       "  'category': 'categoryName',\n",
       "  'volume': '',\n",
       "  'salePrice': 29000,\n",
       "  'originalPrice': 34000,\n",
       "  'brand': 'aprilskin',\n",
       "  'url': 'http://aprilskin.com/product/detail.html?product_no=583&cate_no=48&display_group=1',\n",
       "  'color': ''}]"
      ]
     },
     "metadata": {},
     "output_type": "display_data"
    },
    {
     "data": {
      "text/plain": [
       "[{'name': '퍼펙트 매직 커버 핏 쿠션(리필)',\n",
       "  'image': ['http://aprilskin.com/web/product/small/201812/ee7a96eb4a78fed9385b573d7a7414de.jpg',\n",
       "   'http://aprilskin.com/web/product/extra/small/201807/588_shop1_15329316604792.png',\n",
       "   'http://aprilskin.com/web/product/extra/small/201807/588_shop1_15329316633709.png',\n",
       "   'http://aprilskin.com/web/product/extra/small/201807/588_shop1_1532931666051.png'],\n",
       "  'category': 'categoryName',\n",
       "  'volume': '',\n",
       "  'salePrice': 15000,\n",
       "  'originalPrice': 20000,\n",
       "  'brand': 'aprilskin',\n",
       "  'url': 'http://aprilskin.com/product/detail.html?product_no=588&cate_no=48&display_group=1',\n",
       "  'color': ''}]"
      ]
     },
     "metadata": {},
     "output_type": "display_data"
    },
    {
     "data": {
      "text/plain": [
       "[{'name': '매직스노우쿠션2.0 리필용',\n",
       "  'image': ['http://aprilskin.com/web/product/small/201901/89025115e2de6d94399404bcff1728a7.jpg',\n",
       "   'http://aprilskin.com/web/product/extra/small/201807/293_shop1_15329323441641.png',\n",
       "   'http://aprilskin.com/web/product/extra/small/201807/293_shop1_15329323472231.png'],\n",
       "  'category': 'categoryName',\n",
       "  'volume': '',\n",
       "  'salePrice': 9000,\n",
       "  'originalPrice': 20000,\n",
       "  'brand': 'aprilskin',\n",
       "  'url': 'http://aprilskin.com/product/detail.html?product_no=293&cate_no=48&display_group=1',\n",
       "  'color': '21 라이트베이지(55%off)'},\n",
       " {'name': '매직스노우쿠션2.0 리필용',\n",
       "  'image': ['http://aprilskin.com/web/product/small/201901/89025115e2de6d94399404bcff1728a7.jpg',\n",
       "   'http://aprilskin.com/web/product/extra/small/201807/293_shop1_15329323441641.png',\n",
       "   'http://aprilskin.com/web/product/extra/small/201807/293_shop1_15329323472231.png'],\n",
       "  'category': 'categoryName',\n",
       "  'volume': '',\n",
       "  'salePrice': 9000,\n",
       "  'originalPrice': 20000,\n",
       "  'brand': 'aprilskin',\n",
       "  'url': 'http://aprilskin.com/product/detail.html?product_no=293&cate_no=48&display_group=1',\n",
       "  'color': '22 핑크베이지(55%off)'},\n",
       " {'name': '매직스노우쿠션2.0 리필용',\n",
       "  'image': ['http://aprilskin.com/web/product/small/201901/89025115e2de6d94399404bcff1728a7.jpg',\n",
       "   'http://aprilskin.com/web/product/extra/small/201807/293_shop1_15329323441641.png',\n",
       "   'http://aprilskin.com/web/product/extra/small/201807/293_shop1_15329323472231.png'],\n",
       "  'category': 'categoryName',\n",
       "  'volume': '',\n",
       "  'salePrice': 9000,\n",
       "  'originalPrice': 20000,\n",
       "  'brand': 'aprilskin',\n",
       "  'url': 'http://aprilskin.com/product/detail.html?product_no=293&cate_no=48&display_group=1',\n",
       "  'color': '23 내추럴베이지(55%off)'},\n",
       " {'name': '매직스노우쿠션2.0 리필용',\n",
       "  'image': ['http://aprilskin.com/web/product/small/201901/89025115e2de6d94399404bcff1728a7.jpg',\n",
       "   'http://aprilskin.com/web/product/extra/small/201807/293_shop1_15329323441641.png',\n",
       "   'http://aprilskin.com/web/product/extra/small/201807/293_shop1_15329323472231.png'],\n",
       "  'category': 'categoryName',\n",
       "  'volume': '',\n",
       "  'salePrice': 9000,\n",
       "  'originalPrice': 20000,\n",
       "  'brand': 'aprilskin',\n",
       "  'url': 'http://aprilskin.com/product/detail.html?product_no=293&cate_no=48&display_group=1',\n",
       "  'color': '[2+1] 21호 라이트베이지(67%off) '},\n",
       " {'name': '매직스노우쿠션2.0 리필용',\n",
       "  'image': ['http://aprilskin.com/web/product/small/201901/89025115e2de6d94399404bcff1728a7.jpg',\n",
       "   'http://aprilskin.com/web/product/extra/small/201807/293_shop1_15329323441641.png',\n",
       "   'http://aprilskin.com/web/product/extra/small/201807/293_shop1_15329323472231.png'],\n",
       "  'category': 'categoryName',\n",
       "  'volume': '',\n",
       "  'salePrice': 9000,\n",
       "  'originalPrice': 20000,\n",
       "  'brand': 'aprilskin',\n",
       "  'url': 'http://aprilskin.com/product/detail.html?product_no=293&cate_no=48&display_group=1',\n",
       "  'color': '[2+1] 22호 핑크베이지(67%off) '},\n",
       " {'name': '매직스노우쿠션2.0 리필용',\n",
       "  'image': ['http://aprilskin.com/web/product/small/201901/89025115e2de6d94399404bcff1728a7.jpg',\n",
       "   'http://aprilskin.com/web/product/extra/small/201807/293_shop1_15329323441641.png',\n",
       "   'http://aprilskin.com/web/product/extra/small/201807/293_shop1_15329323472231.png'],\n",
       "  'category': 'categoryName',\n",
       "  'volume': '',\n",
       "  'salePrice': 9000,\n",
       "  'originalPrice': 20000,\n",
       "  'brand': 'aprilskin',\n",
       "  'url': 'http://aprilskin.com/product/detail.html?product_no=293&cate_no=48&display_group=1',\n",
       "  'color': '[2+1] 23호 내추럴베이지(67%off) '}]"
      ]
     },
     "metadata": {},
     "output_type": "display_data"
    },
    {
     "data": {
      "text/plain": [
       "[{'name': '매직스노우쿠션 화이트 2.0 리필용',\n",
       "  'image': ['http://aprilskin.com/web/product/small/201701/401_shop1_812031.jpg',\n",
       "   'http://aprilskin.com/web/product/extra/small/201807/401_shop1_15329324185753.png',\n",
       "   'http://aprilskin.com/web/product/extra/small/201807/401_shop1_1532932421373.png',\n",
       "   'http://aprilskin.com/web/product/extra/small/201807/401_shop1_15329324245047.png'],\n",
       "  'category': 'categoryName',\n",
       "  'volume': '',\n",
       "  'salePrice': 5900,\n",
       "  'originalPrice': 18000,\n",
       "  'brand': 'aprilskin',\n",
       "  'url': 'http://aprilskin.com/product/detail.html?product_no=401&cate_no=48&display_group=1',\n",
       "  'color': ''}]"
      ]
     },
     "metadata": {},
     "output_type": "display_data"
    },
    {
     "data": {
      "text/plain": [
       "[{'name': '[픽싱쿠션] 매직스노우 픽싱파운데이션 SET(본품+리필)',\n",
       "  'image': ['http://aprilskin.com/web/product/small/201803/253_shop1_272644.png'],\n",
       "  'category': 'categoryName',\n",
       "  'volume': '',\n",
       "  'salePrice': 39500,\n",
       "  'originalPrice': 52000,\n",
       "  'brand': 'aprilskin',\n",
       "  'url': 'http://aprilskin.com/product/detail.html?product_no=253&cate_no=48&display_group=1',\n",
       "  'color': ''}]"
      ]
     },
     "metadata": {},
     "output_type": "display_data"
    },
    {
     "data": {
      "text/plain": [
       "[{'name': '[리필증정] [픽싱쿠션] 매직스노우 픽싱파운데이션',\n",
       "  'image': ['http://aprilskin.com/web/product/small/201812/8c132eb0d11c3f22cb241c9eea44566d.jpg',\n",
       "   'http://aprilskin.com/web/product/extra/small/201807/201_shop1_15329324733038.png',\n",
       "   'http://aprilskin.com/web/product/extra/small/201807/201_shop1_15329324769765.png'],\n",
       "  'category': 'categoryName',\n",
       "  'volume': '',\n",
       "  'salePrice': 15000,\n",
       "  'originalPrice': 34000,\n",
       "  'brand': 'aprilskin',\n",
       "  'url': 'http://aprilskin.com/product/detail.html?product_no=201&cate_no=48&display_group=1',\n",
       "  'color': '픽싱쿠션 21호 라이트 베이지 '},\n",
       " {'name': '[리필증정] [픽싱쿠션] 매직스노우 픽싱파운데이션',\n",
       "  'image': ['http://aprilskin.com/web/product/small/201812/8c132eb0d11c3f22cb241c9eea44566d.jpg',\n",
       "   'http://aprilskin.com/web/product/extra/small/201807/201_shop1_15329324733038.png',\n",
       "   'http://aprilskin.com/web/product/extra/small/201807/201_shop1_15329324769765.png'],\n",
       "  'category': 'categoryName',\n",
       "  'volume': '',\n",
       "  'salePrice': 15000,\n",
       "  'originalPrice': 34000,\n",
       "  'brand': 'aprilskin',\n",
       "  'url': 'http://aprilskin.com/product/detail.html?product_no=201&cate_no=48&display_group=1',\n",
       "  'color': '픽싱쿠션 22호 핑크 베이지'},\n",
       " {'name': '[리필증정] [픽싱쿠션] 매직스노우 픽싱파운데이션',\n",
       "  'image': ['http://aprilskin.com/web/product/small/201812/8c132eb0d11c3f22cb241c9eea44566d.jpg',\n",
       "   'http://aprilskin.com/web/product/extra/small/201807/201_shop1_15329324733038.png',\n",
       "   'http://aprilskin.com/web/product/extra/small/201807/201_shop1_15329324769765.png'],\n",
       "  'category': 'categoryName',\n",
       "  'volume': '',\n",
       "  'salePrice': 15000,\n",
       "  'originalPrice': 34000,\n",
       "  'brand': 'aprilskin',\n",
       "  'url': 'http://aprilskin.com/product/detail.html?product_no=201&cate_no=48&display_group=1',\n",
       "  'color': '픽싱쿠션 23호 내추럴 베이지'}]"
      ]
     },
     "metadata": {},
     "output_type": "display_data"
    },
    {
     "data": {
      "text/plain": [
       "[{'name': '[픽싱쿠션] 매직스노우 픽싱파운데이션(리필)',\n",
       "  'image': ['http://aprilskin.com/web/product/small/201901/346446b505cbdcf0f2a6fce8435b8144.jpg',\n",
       "   'http://aprilskin.com/web/product/extra/small/201807/252_shop1_15329324463968.png',\n",
       "   'http://aprilskin.com/web/product/extra/small/201807/252_shop1_15329324527356.png'],\n",
       "  'category': 'categoryName',\n",
       "  'volume': '',\n",
       "  'salePrice': 9000,\n",
       "  'originalPrice': 20000,\n",
       "  'brand': 'aprilskin',\n",
       "  'url': 'http://aprilskin.com/product/detail.html?product_no=252&cate_no=48&display_group=1',\n",
       "  'color': ''}]"
      ]
     },
     "metadata": {},
     "output_type": "display_data"
    },
    {
     "data": {
      "text/plain": [
       "[{'name': '로즈글램 모이스처 커버 파운데이션',\n",
       "  'image': ['http://aprilskin.com/web/product/small/201712/361_shop1_832962.jpg',\n",
       "   'http://aprilskin.com/web/product/extra/small/201807/361_shop1_15329329999717.png',\n",
       "   'http://aprilskin.com/web/product/extra/small/201807/361_shop1_15329330045023.png',\n",
       "   'http://aprilskin.com/web/product/extra/small/201807/361_shop1_15329330079683.png'],\n",
       "  'category': 'categoryName',\n",
       "  'volume': '',\n",
       "  'salePrice': 10000,\n",
       "  'originalPrice': 38000,\n",
       "  'brand': 'aprilskin',\n",
       "  'url': 'http://aprilskin.com/product/detail.html?product_no=361&cate_no=48&display_group=1',\n",
       "  'color': ''}]"
      ]
     },
     "metadata": {},
     "output_type": "display_data"
    },
    {
     "data": {
      "text/plain": [
       "[{'name': '퍼펙트 수정화장패드',\n",
       "  'image': ['http://aprilskin.com/web/product/small/201901/ac576ac6d261dd6587ab2b096e27e5bc.jpg',\n",
       "   'http://aprilskin.com/web/product/extra/small/201807/694_shop1_1532925406021.jpg',\n",
       "   'http://aprilskin.com/web/product/extra/small/201812/63d5e7ea7e8fd3e432a8b19e4cf4a277.jpg',\n",
       "   'http://aprilskin.com/web/product/extra/small/201812/7b5ac618dacfe89925dca80d54b302f8.jpg'],\n",
       "  'category': 'categoryName',\n",
       "  'volume': '',\n",
       "  'salePrice': 3300,\n",
       "  'originalPrice': 4900,\n",
       "  'brand': 'aprilskin',\n",
       "  'url': 'http://aprilskin.com/product/detail.html?product_no=694&cate_no=48&display_group=1',\n",
       "  'color': ''}]"
      ]
     },
     "metadata": {},
     "output_type": "display_data"
    },
    {
     "data": {
      "text/plain": [
       "[{'name': '매직스노우 선쿠션 2.0',\n",
       "  'image': ['http://aprilskin.com/web/product/small/201707/532_shop1_442275.jpg',\n",
       "   'http://aprilskin.com/web/product/extra/small/201807/532_shop1_15329285634559.png',\n",
       "   'http://aprilskin.com/web/product/extra/small/201807/532_shop1_15329285671537.png'],\n",
       "  'category': 'categoryName',\n",
       "  'volume': '',\n",
       "  'salePrice': 21000,\n",
       "  'originalPrice': 28000,\n",
       "  'brand': 'aprilskin',\n",
       "  'url': 'http://aprilskin.com/product/detail.html?product_no=532&cate_no=48&display_group=1',\n",
       "  'color': ''}]"
      ]
     },
     "metadata": {},
     "output_type": "display_data"
    },
    {
     "data": {
      "text/plain": [
       "[{'name': '[최대67%할인] 픽싱 메이크업 픽서',\n",
       "  'image': ['http://aprilskin.com/web/product/small/201901/2d846330ff03ba154e72888d3d50275d.jpg',\n",
       "   'http://aprilskin.com/web/product/extra/small/201807/536_shop1_1532933771683.png'],\n",
       "  'category': 'categoryName',\n",
       "  'volume': '',\n",
       "  'salePrice': 10500,\n",
       "  'originalPrice': 21000,\n",
       "  'brand': 'aprilskin',\n",
       "  'url': 'http://aprilskin.com/product/detail.html?product_no=536&cate_no=48&display_group=1',\n",
       "  'color': ''}]"
      ]
     },
     "metadata": {},
     "output_type": "display_data"
    },
    {
     "data": {
      "text/plain": [
       "[{'name': '퍼펙트 매직 아이스타터',\n",
       "  'image': ['http://aprilskin.com/web/product/small/201812/0a53f88c15589e25822385392f4ee5a8.jpg',\n",
       "   'http://aprilskin.com/web/product/extra/small/201807/567_shop1_15329349597791.png',\n",
       "   'http://aprilskin.com/web/product/extra/small/201807/567_shop1_15329349631473.png'],\n",
       "  'category': 'categoryName',\n",
       "  'volume': '',\n",
       "  'salePrice': 12000,\n",
       "  'originalPrice': 15000,\n",
       "  'brand': 'aprilskin',\n",
       "  'url': 'http://aprilskin.com/product/detail.html?product_no=567&cate_no=48&display_group=1',\n",
       "  'color': ''}]"
      ]
     },
     "metadata": {},
     "output_type": "display_data"
    },
    {
     "data": {
      "text/plain": [
       "[{'name': '픽싱 듀얼 컨실러',\n",
       "  'image': ['http://aprilskin.com/web/product/small/201805/516_shop1_15271441889339.jpg',\n",
       "   'http://aprilskin.com/web/product/extra/small/201807/516_shop1_15329329603148.png',\n",
       "   'http://aprilskin.com/web/product/extra/small/201807/516_shop1_15329329819375.png',\n",
       "   'http://aprilskin.com/web/product/extra/small/201807/516_shop1_15329329853385.png'],\n",
       "  'category': 'categoryName',\n",
       "  'volume': '',\n",
       "  'salePrice': 9900,\n",
       "  'originalPrice': 25000,\n",
       "  'brand': 'aprilskin',\n",
       "  'url': 'http://aprilskin.com/product/detail.html?product_no=516&cate_no=48&display_group=1',\n",
       "  'color': ''}]"
      ]
     },
     "metadata": {},
     "output_type": "display_data"
    },
    {
     "data": {
      "text/plain": [
       "[{'name': '[[1+1]] 4D스틱(윤곽스틱, 쉐딩스틱, 컨투어링메이크업)',\n",
       "  'image': ['http://aprilskin.com/web/product/small/201611/124_shop1_254659.jpg',\n",
       "   'http://aprilskin.com/web/product/extra/small/201807/124_shop1_15329352036841.png'],\n",
       "  'category': 'categoryName',\n",
       "  'volume': '',\n",
       "  'salePrice': 8900,\n",
       "  'originalPrice': 23000,\n",
       "  'brand': 'aprilskin',\n",
       "  'url': 'http://aprilskin.com/product/detail.html?product_no=124&cate_no=48&display_group=1',\n",
       "  'color': ''}]"
      ]
     },
     "metadata": {},
     "output_type": "display_data"
    },
    {
     "data": {
      "text/plain": [
       "[{'name': '[리미티드]퍼펙트 매직 커버 핏 쿠션 2.0 핑크홀릭 리필',\n",
       "  'image': ['http://aprilskin.com/web/product/small/201812/b3a8935aeeaf1f45959165ebaefe1532.jpg',\n",
       "   'http://aprilskin.com/web/product/extra/small/201811/583dba06a071bc25e2e1c19c8717c0b2.jpg',\n",
       "   'http://aprilskin.com/web/product/extra/small/201811/0fe18dd94b23b27230526a736ed773c0.jpg',\n",
       "   'http://aprilskin.com/web/product/extra/small/201811/57431da4768908893552a3d8ceb4cd1a.jpg'],\n",
       "  'category': 'categoryName',\n",
       "  'volume': '',\n",
       "  'salePrice': 18000,\n",
       "  'originalPrice': 20000,\n",
       "  'brand': 'aprilskin',\n",
       "  'url': 'http://aprilskin.com/product/detail.html?product_no=929&cate_no=265&display_group=1',\n",
       "  'color': '17호 모찌모찌베이지(10%off) '},\n",
       " {'name': '[리미티드]퍼펙트 매직 커버 핏 쿠션 2.0 핑크홀릭 리필',\n",
       "  'image': ['http://aprilskin.com/web/product/small/201812/b3a8935aeeaf1f45959165ebaefe1532.jpg',\n",
       "   'http://aprilskin.com/web/product/extra/small/201811/583dba06a071bc25e2e1c19c8717c0b2.jpg',\n",
       "   'http://aprilskin.com/web/product/extra/small/201811/0fe18dd94b23b27230526a736ed773c0.jpg',\n",
       "   'http://aprilskin.com/web/product/extra/small/201811/57431da4768908893552a3d8ceb4cd1a.jpg'],\n",
       "  'category': 'categoryName',\n",
       "  'volume': '',\n",
       "  'salePrice': 18000,\n",
       "  'originalPrice': 20000,\n",
       "  'brand': 'aprilskin',\n",
       "  'url': 'http://aprilskin.com/product/detail.html?product_no=929&cate_no=265&display_group=1',\n",
       "  'color': '21호 라이트베이지(10%off)'},\n",
       " {'name': '[리미티드]퍼펙트 매직 커버 핏 쿠션 2.0 핑크홀릭 리필',\n",
       "  'image': ['http://aprilskin.com/web/product/small/201812/b3a8935aeeaf1f45959165ebaefe1532.jpg',\n",
       "   'http://aprilskin.com/web/product/extra/small/201811/583dba06a071bc25e2e1c19c8717c0b2.jpg',\n",
       "   'http://aprilskin.com/web/product/extra/small/201811/0fe18dd94b23b27230526a736ed773c0.jpg',\n",
       "   'http://aprilskin.com/web/product/extra/small/201811/57431da4768908893552a3d8ceb4cd1a.jpg'],\n",
       "  'category': 'categoryName',\n",
       "  'volume': '',\n",
       "  'salePrice': 18000,\n",
       "  'originalPrice': 20000,\n",
       "  'brand': 'aprilskin',\n",
       "  'url': 'http://aprilskin.com/product/detail.html?product_no=929&cate_no=265&display_group=1',\n",
       "  'color': '22호 핑크베이지(10%off)'},\n",
       " {'name': '[리미티드]퍼펙트 매직 커버 핏 쿠션 2.0 핑크홀릭 리필',\n",
       "  'image': ['http://aprilskin.com/web/product/small/201812/b3a8935aeeaf1f45959165ebaefe1532.jpg',\n",
       "   'http://aprilskin.com/web/product/extra/small/201811/583dba06a071bc25e2e1c19c8717c0b2.jpg',\n",
       "   'http://aprilskin.com/web/product/extra/small/201811/0fe18dd94b23b27230526a736ed773c0.jpg',\n",
       "   'http://aprilskin.com/web/product/extra/small/201811/57431da4768908893552a3d8ceb4cd1a.jpg'],\n",
       "  'category': 'categoryName',\n",
       "  'volume': '',\n",
       "  'salePrice': 18000,\n",
       "  'originalPrice': 20000,\n",
       "  'brand': 'aprilskin',\n",
       "  'url': 'http://aprilskin.com/product/detail.html?product_no=929&cate_no=265&display_group=1',\n",
       "  'color': '23호 내추럴베이지(10%off)'},\n",
       " {'name': '[리미티드]퍼펙트 매직 커버 핏 쿠션 2.0 핑크홀릭 리필',\n",
       "  'image': ['http://aprilskin.com/web/product/small/201812/b3a8935aeeaf1f45959165ebaefe1532.jpg',\n",
       "   'http://aprilskin.com/web/product/extra/small/201811/583dba06a071bc25e2e1c19c8717c0b2.jpg',\n",
       "   'http://aprilskin.com/web/product/extra/small/201811/0fe18dd94b23b27230526a736ed773c0.jpg',\n",
       "   'http://aprilskin.com/web/product/extra/small/201811/57431da4768908893552a3d8ceb4cd1a.jpg'],\n",
       "  'category': 'categoryName',\n",
       "  'volume': '',\n",
       "  'salePrice': 18000,\n",
       "  'originalPrice': 20000,\n",
       "  'brand': 'aprilskin',\n",
       "  'url': 'http://aprilskin.com/product/detail.html?product_no=929&cate_no=265&display_group=1',\n",
       "  'color': '[2+1] 17호 모찌모찌베이지(33%off) '},\n",
       " {'name': '[리미티드]퍼펙트 매직 커버 핏 쿠션 2.0 핑크홀릭 리필',\n",
       "  'image': ['http://aprilskin.com/web/product/small/201812/b3a8935aeeaf1f45959165ebaefe1532.jpg',\n",
       "   'http://aprilskin.com/web/product/extra/small/201811/583dba06a071bc25e2e1c19c8717c0b2.jpg',\n",
       "   'http://aprilskin.com/web/product/extra/small/201811/0fe18dd94b23b27230526a736ed773c0.jpg',\n",
       "   'http://aprilskin.com/web/product/extra/small/201811/57431da4768908893552a3d8ceb4cd1a.jpg'],\n",
       "  'category': 'categoryName',\n",
       "  'volume': '',\n",
       "  'salePrice': 18000,\n",
       "  'originalPrice': 20000,\n",
       "  'brand': 'aprilskin',\n",
       "  'url': 'http://aprilskin.com/product/detail.html?product_no=929&cate_no=265&display_group=1',\n",
       "  'color': '[2+1] 21호 라이트베이지(33%off) '},\n",
       " {'name': '[리미티드]퍼펙트 매직 커버 핏 쿠션 2.0 핑크홀릭 리필',\n",
       "  'image': ['http://aprilskin.com/web/product/small/201812/b3a8935aeeaf1f45959165ebaefe1532.jpg',\n",
       "   'http://aprilskin.com/web/product/extra/small/201811/583dba06a071bc25e2e1c19c8717c0b2.jpg',\n",
       "   'http://aprilskin.com/web/product/extra/small/201811/0fe18dd94b23b27230526a736ed773c0.jpg',\n",
       "   'http://aprilskin.com/web/product/extra/small/201811/57431da4768908893552a3d8ceb4cd1a.jpg'],\n",
       "  'category': 'categoryName',\n",
       "  'volume': '',\n",
       "  'salePrice': 18000,\n",
       "  'originalPrice': 20000,\n",
       "  'brand': 'aprilskin',\n",
       "  'url': 'http://aprilskin.com/product/detail.html?product_no=929&cate_no=265&display_group=1',\n",
       "  'color': '[2+1] 22호 핑크베이지(33%off) '},\n",
       " {'name': '[리미티드]퍼펙트 매직 커버 핏 쿠션 2.0 핑크홀릭 리필',\n",
       "  'image': ['http://aprilskin.com/web/product/small/201812/b3a8935aeeaf1f45959165ebaefe1532.jpg',\n",
       "   'http://aprilskin.com/web/product/extra/small/201811/583dba06a071bc25e2e1c19c8717c0b2.jpg',\n",
       "   'http://aprilskin.com/web/product/extra/small/201811/0fe18dd94b23b27230526a736ed773c0.jpg',\n",
       "   'http://aprilskin.com/web/product/extra/small/201811/57431da4768908893552a3d8ceb4cd1a.jpg'],\n",
       "  'category': 'categoryName',\n",
       "  'volume': '',\n",
       "  'salePrice': 18000,\n",
       "  'originalPrice': 20000,\n",
       "  'brand': 'aprilskin',\n",
       "  'url': 'http://aprilskin.com/product/detail.html?product_no=929&cate_no=265&display_group=1',\n",
       "  'color': '[2+1] 23호 내추럴베이지(33%off) '}]"
      ]
     },
     "metadata": {},
     "output_type": "display_data"
    },
    {
     "data": {
      "text/plain": [
       "[{'name': '매직스노우쿠션 3.0 리필',\n",
       "  'image': ['http://aprilskin.com/web/product/small/201812/a9d335b7448806d6965e6456cba49291.jpg',\n",
       "   'http://aprilskin.com/web/product/extra/small/201809/56f000683a374bf924682866132172bd.jpg',\n",
       "   'http://aprilskin.com/web/product/extra/small/201809/035722ea66d1d24a64ed57831b3afa00.jpg'],\n",
       "  'category': 'categoryName',\n",
       "  'volume': '',\n",
       "  'salePrice': 18000,\n",
       "  'originalPrice': 20000,\n",
       "  'brand': 'aprilskin',\n",
       "  'url': 'http://aprilskin.com/product/detail.html?product_no=845&cate_no=265&display_group=1',\n",
       "  'color': '21 라이트베이지(10%off)'},\n",
       " {'name': '매직스노우쿠션 3.0 리필',\n",
       "  'image': ['http://aprilskin.com/web/product/small/201812/a9d335b7448806d6965e6456cba49291.jpg',\n",
       "   'http://aprilskin.com/web/product/extra/small/201809/56f000683a374bf924682866132172bd.jpg',\n",
       "   'http://aprilskin.com/web/product/extra/small/201809/035722ea66d1d24a64ed57831b3afa00.jpg'],\n",
       "  'category': 'categoryName',\n",
       "  'volume': '',\n",
       "  'salePrice': 18000,\n",
       "  'originalPrice': 20000,\n",
       "  'brand': 'aprilskin',\n",
       "  'url': 'http://aprilskin.com/product/detail.html?product_no=845&cate_no=265&display_group=1',\n",
       "  'color': '22 핑크베이지(10%off)'},\n",
       " {'name': '매직스노우쿠션 3.0 리필',\n",
       "  'image': ['http://aprilskin.com/web/product/small/201812/a9d335b7448806d6965e6456cba49291.jpg',\n",
       "   'http://aprilskin.com/web/product/extra/small/201809/56f000683a374bf924682866132172bd.jpg',\n",
       "   'http://aprilskin.com/web/product/extra/small/201809/035722ea66d1d24a64ed57831b3afa00.jpg'],\n",
       "  'category': 'categoryName',\n",
       "  'volume': '',\n",
       "  'salePrice': 18000,\n",
       "  'originalPrice': 20000,\n",
       "  'brand': 'aprilskin',\n",
       "  'url': 'http://aprilskin.com/product/detail.html?product_no=845&cate_no=265&display_group=1',\n",
       "  'color': '23 내추럴베이지(10%off)'},\n",
       " {'name': '매직스노우쿠션 3.0 리필',\n",
       "  'image': ['http://aprilskin.com/web/product/small/201812/a9d335b7448806d6965e6456cba49291.jpg',\n",
       "   'http://aprilskin.com/web/product/extra/small/201809/56f000683a374bf924682866132172bd.jpg',\n",
       "   'http://aprilskin.com/web/product/extra/small/201809/035722ea66d1d24a64ed57831b3afa00.jpg'],\n",
       "  'category': 'categoryName',\n",
       "  'volume': '',\n",
       "  'salePrice': 18000,\n",
       "  'originalPrice': 20000,\n",
       "  'brand': 'aprilskin',\n",
       "  'url': 'http://aprilskin.com/product/detail.html?product_no=845&cate_no=265&display_group=1',\n",
       "  'color': '[2+1] 21호 라이트베이지(33%off) '},\n",
       " {'name': '매직스노우쿠션 3.0 리필',\n",
       "  'image': ['http://aprilskin.com/web/product/small/201812/a9d335b7448806d6965e6456cba49291.jpg',\n",
       "   'http://aprilskin.com/web/product/extra/small/201809/56f000683a374bf924682866132172bd.jpg',\n",
       "   'http://aprilskin.com/web/product/extra/small/201809/035722ea66d1d24a64ed57831b3afa00.jpg'],\n",
       "  'category': 'categoryName',\n",
       "  'volume': '',\n",
       "  'salePrice': 18000,\n",
       "  'originalPrice': 20000,\n",
       "  'brand': 'aprilskin',\n",
       "  'url': 'http://aprilskin.com/product/detail.html?product_no=845&cate_no=265&display_group=1',\n",
       "  'color': '[2+1] 22호 핑크베이지(33%off) '},\n",
       " {'name': '매직스노우쿠션 3.0 리필',\n",
       "  'image': ['http://aprilskin.com/web/product/small/201812/a9d335b7448806d6965e6456cba49291.jpg',\n",
       "   'http://aprilskin.com/web/product/extra/small/201809/56f000683a374bf924682866132172bd.jpg',\n",
       "   'http://aprilskin.com/web/product/extra/small/201809/035722ea66d1d24a64ed57831b3afa00.jpg'],\n",
       "  'category': 'categoryName',\n",
       "  'volume': '',\n",
       "  'salePrice': 18000,\n",
       "  'originalPrice': 20000,\n",
       "  'brand': 'aprilskin',\n",
       "  'url': 'http://aprilskin.com/product/detail.html?product_no=845&cate_no=265&display_group=1',\n",
       "  'color': '[2+1] 23호 내추럴베이지(33%off) '}]"
      ]
     },
     "metadata": {},
     "output_type": "display_data"
    },
    {
     "data": {
      "text/plain": [
       "[{'name': '퍼펙트 매직 커버 듀얼 쿠션 리필',\n",
       "  'image': ['http://aprilskin.com/web/product/small/201901/c242cbe2bf30a724483bfabaccc72a1e.jpg',\n",
       "   'http://aprilskin.com/web/product/extra/small/201807/756_shop1_15312924562363.png',\n",
       "   'http://aprilskin.com/web/product/extra/small/201807/756_shop1_15312924565174.png',\n",
       "   'http://aprilskin.com/web/product/extra/small/201807/756_shop1_15312924569439.png'],\n",
       "  'category': 'categoryName',\n",
       "  'volume': '',\n",
       "  'salePrice': 19000,\n",
       "  'originalPrice': 22000,\n",
       "  'brand': 'aprilskin',\n",
       "  'url': 'http://aprilskin.com/product/detail.html?product_no=756&cate_no=265&display_group=1',\n",
       "  'color': ''}]"
      ]
     },
     "metadata": {},
     "output_type": "display_data"
    },
    {
     "data": {
      "text/plain": [
       "[{'name': '퍼펙트 매직 커버프루프 쿠션 리필',\n",
       "  'image': ['http://aprilskin.com/web/product/small/201901/40cedefcd9887f140afe68e3f04dc852.jpg',\n",
       "   'http://aprilskin.com/web/product/extra/small/201807/764_shop1_15323361800965.png',\n",
       "   'http://aprilskin.com/web/product/extra/small/201807/764_shop1_15323361844432.png',\n",
       "   'http://aprilskin.com/web/product/extra/small/201807/764_shop1_15323361879915.png'],\n",
       "  'category': 'categoryName',\n",
       "  'volume': '',\n",
       "  'salePrice': 15000,\n",
       "  'originalPrice': 18000,\n",
       "  'brand': 'aprilskin',\n",
       "  'url': 'http://aprilskin.com/product/detail.html?product_no=764&cate_no=265&display_group=1',\n",
       "  'color': ''}]"
      ]
     },
     "metadata": {},
     "output_type": "display_data"
    },
    {
     "data": {
      "text/plain": [
       "[{'name': '퍼펙트 매직 커버 핏 쿠션 2.0 리필',\n",
       "  'image': ['http://aprilskin.com/web/product/small/201812/2a47f7a461fd27a637e5c4275d3c720f.jpg'],\n",
       "  'category': 'categoryName',\n",
       "  'volume': '',\n",
       "  'salePrice': 18000,\n",
       "  'originalPrice': 20000,\n",
       "  'brand': 'aprilskin',\n",
       "  'url': 'http://aprilskin.com/product/detail.html?product_no=855&cate_no=265&display_group=1',\n",
       "  'color': ''}]"
      ]
     },
     "metadata": {},
     "output_type": "display_data"
    },
    {
     "data": {
      "text/plain": [
       "[{'name': '매직스노우쿠션2.0 리필용',\n",
       "  'image': ['http://aprilskin.com/web/product/small/201901/89025115e2de6d94399404bcff1728a7.jpg',\n",
       "   'http://aprilskin.com/web/product/extra/small/201807/293_shop1_15329323441641.png',\n",
       "   'http://aprilskin.com/web/product/extra/small/201807/293_shop1_15329323472231.png'],\n",
       "  'category': 'categoryName',\n",
       "  'volume': '',\n",
       "  'salePrice': 9000,\n",
       "  'originalPrice': 20000,\n",
       "  'brand': 'aprilskin',\n",
       "  'url': 'http://aprilskin.com/product/detail.html?product_no=293&cate_no=265&display_group=1',\n",
       "  'color': '21 라이트베이지(55%off)'},\n",
       " {'name': '매직스노우쿠션2.0 리필용',\n",
       "  'image': ['http://aprilskin.com/web/product/small/201901/89025115e2de6d94399404bcff1728a7.jpg',\n",
       "   'http://aprilskin.com/web/product/extra/small/201807/293_shop1_15329323441641.png',\n",
       "   'http://aprilskin.com/web/product/extra/small/201807/293_shop1_15329323472231.png'],\n",
       "  'category': 'categoryName',\n",
       "  'volume': '',\n",
       "  'salePrice': 9000,\n",
       "  'originalPrice': 20000,\n",
       "  'brand': 'aprilskin',\n",
       "  'url': 'http://aprilskin.com/product/detail.html?product_no=293&cate_no=265&display_group=1',\n",
       "  'color': '22 핑크베이지(55%off)'},\n",
       " {'name': '매직스노우쿠션2.0 리필용',\n",
       "  'image': ['http://aprilskin.com/web/product/small/201901/89025115e2de6d94399404bcff1728a7.jpg',\n",
       "   'http://aprilskin.com/web/product/extra/small/201807/293_shop1_15329323441641.png',\n",
       "   'http://aprilskin.com/web/product/extra/small/201807/293_shop1_15329323472231.png'],\n",
       "  'category': 'categoryName',\n",
       "  'volume': '',\n",
       "  'salePrice': 9000,\n",
       "  'originalPrice': 20000,\n",
       "  'brand': 'aprilskin',\n",
       "  'url': 'http://aprilskin.com/product/detail.html?product_no=293&cate_no=265&display_group=1',\n",
       "  'color': '23 내추럴베이지(55%off)'},\n",
       " {'name': '매직스노우쿠션2.0 리필용',\n",
       "  'image': ['http://aprilskin.com/web/product/small/201901/89025115e2de6d94399404bcff1728a7.jpg',\n",
       "   'http://aprilskin.com/web/product/extra/small/201807/293_shop1_15329323441641.png',\n",
       "   'http://aprilskin.com/web/product/extra/small/201807/293_shop1_15329323472231.png'],\n",
       "  'category': 'categoryName',\n",
       "  'volume': '',\n",
       "  'salePrice': 9000,\n",
       "  'originalPrice': 20000,\n",
       "  'brand': 'aprilskin',\n",
       "  'url': 'http://aprilskin.com/product/detail.html?product_no=293&cate_no=265&display_group=1',\n",
       "  'color': '[2+1] 21호 라이트베이지(67%off) '},\n",
       " {'name': '매직스노우쿠션2.0 리필용',\n",
       "  'image': ['http://aprilskin.com/web/product/small/201901/89025115e2de6d94399404bcff1728a7.jpg',\n",
       "   'http://aprilskin.com/web/product/extra/small/201807/293_shop1_15329323441641.png',\n",
       "   'http://aprilskin.com/web/product/extra/small/201807/293_shop1_15329323472231.png'],\n",
       "  'category': 'categoryName',\n",
       "  'volume': '',\n",
       "  'salePrice': 9000,\n",
       "  'originalPrice': 20000,\n",
       "  'brand': 'aprilskin',\n",
       "  'url': 'http://aprilskin.com/product/detail.html?product_no=293&cate_no=265&display_group=1',\n",
       "  'color': '[2+1] 22호 핑크베이지(67%off) '},\n",
       " {'name': '매직스노우쿠션2.0 리필용',\n",
       "  'image': ['http://aprilskin.com/web/product/small/201901/89025115e2de6d94399404bcff1728a7.jpg',\n",
       "   'http://aprilskin.com/web/product/extra/small/201807/293_shop1_15329323441641.png',\n",
       "   'http://aprilskin.com/web/product/extra/small/201807/293_shop1_15329323472231.png'],\n",
       "  'category': 'categoryName',\n",
       "  'volume': '',\n",
       "  'salePrice': 9000,\n",
       "  'originalPrice': 20000,\n",
       "  'brand': 'aprilskin',\n",
       "  'url': 'http://aprilskin.com/product/detail.html?product_no=293&cate_no=265&display_group=1',\n",
       "  'color': '[2+1] 23호 내추럴베이지(67%off) '}]"
      ]
     },
     "metadata": {},
     "output_type": "display_data"
    },
    {
     "data": {
      "text/plain": [
       "[{'name': '매직스노우쿠션 화이트 2.0 리필용',\n",
       "  'image': ['http://aprilskin.com/web/product/small/201701/401_shop1_812031.jpg',\n",
       "   'http://aprilskin.com/web/product/extra/small/201807/401_shop1_15329324185753.png',\n",
       "   'http://aprilskin.com/web/product/extra/small/201807/401_shop1_1532932421373.png',\n",
       "   'http://aprilskin.com/web/product/extra/small/201807/401_shop1_15329324245047.png'],\n",
       "  'category': 'categoryName',\n",
       "  'volume': '',\n",
       "  'salePrice': 5900,\n",
       "  'originalPrice': 18000,\n",
       "  'brand': 'aprilskin',\n",
       "  'url': 'http://aprilskin.com/product/detail.html?product_no=401&cate_no=265&display_group=1',\n",
       "  'color': ''}]"
      ]
     },
     "metadata": {},
     "output_type": "display_data"
    },
    {
     "data": {
      "text/plain": [
       "[{'name': '퍼펙트 매직 커버 핏 쿠션(리필)',\n",
       "  'image': ['http://aprilskin.com/web/product/small/201812/ee7a96eb4a78fed9385b573d7a7414de.jpg',\n",
       "   'http://aprilskin.com/web/product/extra/small/201807/588_shop1_15329316604792.png',\n",
       "   'http://aprilskin.com/web/product/extra/small/201807/588_shop1_15329316633709.png',\n",
       "   'http://aprilskin.com/web/product/extra/small/201807/588_shop1_1532931666051.png'],\n",
       "  'category': 'categoryName',\n",
       "  'volume': '',\n",
       "  'salePrice': 15000,\n",
       "  'originalPrice': 20000,\n",
       "  'brand': 'aprilskin',\n",
       "  'url': 'http://aprilskin.com/product/detail.html?product_no=588&cate_no=265&display_group=1',\n",
       "  'color': ''}]"
      ]
     },
     "metadata": {},
     "output_type": "display_data"
    },
    {
     "data": {
      "text/plain": [
       "[{'name': '[픽싱쿠션] 매직스노우 픽싱파운데이션(리필)',\n",
       "  'image': ['http://aprilskin.com/web/product/small/201901/346446b505cbdcf0f2a6fce8435b8144.jpg',\n",
       "   'http://aprilskin.com/web/product/extra/small/201807/252_shop1_15329324463968.png',\n",
       "   'http://aprilskin.com/web/product/extra/small/201807/252_shop1_15329324527356.png'],\n",
       "  'category': 'categoryName',\n",
       "  'volume': '',\n",
       "  'salePrice': 9000,\n",
       "  'originalPrice': 20000,\n",
       "  'brand': 'aprilskin',\n",
       "  'url': 'http://aprilskin.com/product/detail.html?product_no=252&cate_no=265&display_group=1',\n",
       "  'color': ''}]"
      ]
     },
     "metadata": {},
     "output_type": "display_data"
    },
    {
     "data": {
      "text/plain": [
       "[{'name': '리얼 카렌둘라 폼 클렌저',\n",
       "  'image': ['http://aprilskin.com/web/product/small/201812/0c830018a72b0c1d470e8fa4eb7bf033.jpg'],\n",
       "  'category': 'categoryName',\n",
       "  'volume': '',\n",
       "  'salePrice': 15000,\n",
       "  'originalPrice': 20000,\n",
       "  'brand': 'aprilskin',\n",
       "  'url': 'http://aprilskin.com/product/detail.html?product_no=915&cate_no=45&display_group=1',\n",
       "  'color': ''}]"
      ]
     },
     "metadata": {},
     "output_type": "display_data"
    },
    {
     "data": {
      "text/plain": [
       "[{'name': '퍼펙트 매직 립&아이 리무버',\n",
       "  'image': ['http://aprilskin.com/web/product/small/201812/3ffdb762ebbc8f181a9bf0279d8b78b5.jpg',\n",
       "   'http://aprilskin.com/web/product/extra/small/201809/d36c601b8d6723c4238d068ed627fde8.jpg',\n",
       "   'http://aprilskin.com/web/product/extra/small/201809/27bec5d6cae6d270e8362a47f980a918.jpg'],\n",
       "  'category': 'categoryName',\n",
       "  'volume': '',\n",
       "  'salePrice': 9000,\n",
       "  'originalPrice': 11000,\n",
       "  'brand': 'aprilskin',\n",
       "  'url': 'http://aprilskin.com/product/detail.html?product_no=778&cate_no=45&display_group=1',\n",
       "  'color': ''}]"
      ]
     },
     "metadata": {},
     "output_type": "display_data"
    },
    {
     "data": {
      "text/plain": [
       "[{'name': '퍼펙트 수정화장패드',\n",
       "  'image': ['http://aprilskin.com/web/product/small/201901/ac576ac6d261dd6587ab2b096e27e5bc.jpg',\n",
       "   'http://aprilskin.com/web/product/extra/small/201807/694_shop1_1532925406021.jpg',\n",
       "   'http://aprilskin.com/web/product/extra/small/201812/63d5e7ea7e8fd3e432a8b19e4cf4a277.jpg',\n",
       "   'http://aprilskin.com/web/product/extra/small/201812/7b5ac618dacfe89925dca80d54b302f8.jpg'],\n",
       "  'category': 'categoryName',\n",
       "  'volume': '',\n",
       "  'salePrice': 3300,\n",
       "  'originalPrice': 4900,\n",
       "  'brand': 'aprilskin',\n",
       "  'url': 'http://aprilskin.com/product/detail.html?product_no=694&cate_no=45&display_group=1',\n",
       "  'color': ''}]"
      ]
     },
     "metadata": {},
     "output_type": "display_data"
    },
    {
     "data": {
      "text/plain": [
       "[{'name': '국민비누 블랙',\n",
       "  'image': ['http://aprilskin.com/web/product/small/201809/0262cca6dbf5ef60fa4b2b4341c82d62.jpg',\n",
       "   'http://aprilskin.com/web/product/extra/small/201807/368_shop1_15329255450934.png',\n",
       "   'http://aprilskin.com/web/product/extra/small/201807/368_shop1_15329255486793.png',\n",
       "   'http://aprilskin.com/web/product/extra/small/201807/368_shop1_15329255521232.jpg',\n",
       "   'http://aprilskin.com/web/product/extra/small/201807/368_shop1_15329255551324.jpg'],\n",
       "  'category': 'categoryName',\n",
       "  'volume': '',\n",
       "  'salePrice': 13500,\n",
       "  'originalPrice': 20000,\n",
       "  'brand': 'aprilskin',\n",
       "  'url': 'http://aprilskin.com/product/detail.html?product_no=368&cate_no=45&display_group=1',\n",
       "  'color': ''}]"
      ]
     },
     "metadata": {},
     "output_type": "display_data"
    },
    {
     "data": {
      "text/plain": [
       "[{'name': '국민비누 오리지널',\n",
       "  'image': ['http://aprilskin.com/web/product/small/201809/c42b84e27191258cfae022f5560da087.jpg',\n",
       "   'http://aprilskin.com/web/product/extra/small/201807/367_shop1_15329255893097.png',\n",
       "   'http://aprilskin.com/web/product/extra/small/201807/367_shop1_15329255929746.png',\n",
       "   'http://aprilskin.com/web/product/extra/small/201807/367_shop1_15329255956593.jpg',\n",
       "   'http://aprilskin.com/web/product/extra/small/201807/367_shop1_15329255987368.jpg'],\n",
       "  'category': 'categoryName',\n",
       "  'volume': '',\n",
       "  'salePrice': 13500,\n",
       "  'originalPrice': 20000,\n",
       "  'brand': 'aprilskin',\n",
       "  'url': 'http://aprilskin.com/product/detail.html?product_no=367&cate_no=45&display_group=1',\n",
       "  'color': ''}]"
      ]
     },
     "metadata": {},
     "output_type": "display_data"
    },
    {
     "data": {
      "text/plain": [
       "[{'name': '[1+2] 사케 더블 밸런싱 클렌저',\n",
       "  'image': ['http://aprilskin.com/web/product/small/201812/a651adf77eebd9a2395297d5c5840485.jpg',\n",
       "   'http://aprilskin.com/web/product/extra/small/201807/606_shop1_15330100711862.png',\n",
       "   'http://aprilskin.com/web/product/extra/small/201807/606_shop1_1533010074844.png'],\n",
       "  'category': 'categoryName',\n",
       "  'volume': '',\n",
       "  'salePrice': 10000,\n",
       "  'originalPrice': 54000,\n",
       "  'brand': 'aprilskin',\n",
       "  'url': 'http://aprilskin.com/product/detail.html?product_no=606&cate_no=45&display_group=1',\n",
       "  'color': ''}]"
      ]
     },
     "metadata": {},
     "output_type": "display_data"
    },
    {
     "data": {
      "text/plain": [
       "[{'name': '[[1+1]] 살리실산 솔루션 클렌저',\n",
       "  'image': ['http://aprilskin.com/web/product/small/201701/404_shop1_781826.jpg',\n",
       "   'http://aprilskin.com/web/product/extra/small/201807/404_shop1_15329254680804.png',\n",
       "   'http://aprilskin.com/web/product/extra/small/201807/404_shop1_15329254714338.png'],\n",
       "  'category': 'categoryName',\n",
       "  'volume': '',\n",
       "  'salePrice': 10000,\n",
       "  'originalPrice': 38000,\n",
       "  'brand': 'aprilskin',\n",
       "  'url': 'http://aprilskin.com/product/detail.html?product_no=404&cate_no=45&display_group=1',\n",
       "  'color': ''}]"
      ]
     },
     "metadata": {},
     "output_type": "display_data"
    },
    {
     "data": {
      "text/plain": [
       "[{'name': '리얼 카렌둘라 필링 패드',\n",
       "  'image': ['http://aprilskin.com/web/product/small/201812/35e1ae47c6e22eee25102804e8fb3d07.jpg',\n",
       "   'http://aprilskin.com/web/product/extra/small/201809/58f626ac561c77320822b0398ffbb9ee.jpg',\n",
       "   'http://aprilskin.com/web/product/extra/small/201809/1ab042198e0d36d879ee92d8511309a7.jpg',\n",
       "   'http://aprilskin.com/web/product/extra/small/201809/6a33646ec245cc13c8e6297c96ef1702.jpg'],\n",
       "  'category': 'categoryName',\n",
       "  'volume': '',\n",
       "  'salePrice': 19000,\n",
       "  'originalPrice': 24000,\n",
       "  'brand': 'aprilskin',\n",
       "  'url': 'http://aprilskin.com/product/detail.html?product_no=837&cate_no=42&display_group=1',\n",
       "  'color': ''}]"
      ]
     },
     "metadata": {},
     "output_type": "display_data"
    },
    {
     "data": {
      "text/plain": [
       "[{'name': '[폼클렌저 증정] 리얼 카렌둘라 수분 필링 3종 SET',\n",
       "  'image': ['http://aprilskin.com/web/product/small/201812/30d2bf57d81d4996fe28260fe20b5378.jpg',\n",
       "   'http://aprilskin.com/web/product/extra/small/201809/cbc285d1d83a081174a15422f4f6afc4.png',\n",
       "   'http://aprilskin.com/web/product/extra/small/201809/c6c255b6f903eeca32dfb2477a4a2626.jpg',\n",
       "   'http://aprilskin.com/web/product/extra/small/201809/4063564f49d92b6ed9449dcfd3267562.jpg'],\n",
       "  'category': 'categoryName',\n",
       "  'volume': '',\n",
       "  'salePrice': 53000,\n",
       "  'originalPrice': 88000,\n",
       "  'brand': 'aprilskin',\n",
       "  'url': 'http://aprilskin.com/product/detail.html?product_no=876&cate_no=42&display_group=1',\n",
       "  'color': ''}]"
      ]
     },
     "metadata": {},
     "output_type": "display_data"
    },
    {
     "data": {
      "text/plain": [
       "[{'name': '[모공 에센스] 리얼 카렌둘라 딥 모이스처 에센스',\n",
       "  'image': ['http://aprilskin.com/web/product/small/201812/edc86931ebced36487c15765dd808fe1.jpg'],\n",
       "  'category': 'categoryName',\n",
       "  'volume': '',\n",
       "  'salePrice': 19000,\n",
       "  'originalPrice': 24000,\n",
       "  'brand': 'aprilskin',\n",
       "  'url': 'http://aprilskin.com/product/detail.html?product_no=874&cate_no=42&display_group=1',\n",
       "  'color': ''}]"
      ]
     },
     "metadata": {},
     "output_type": "display_data"
    },
    {
     "data": {
      "text/plain": [
       "[{'name': '퍼펙트 매직스노우 크림',\n",
       "  'image': ['http://aprilskin.com/web/product/small/201812/03b6725bdeee8d9d3474b2b365ab0281.jpg',\n",
       "   'http://aprilskin.com/web/product/extra/small/201807/569_shop1_15329284363337.png',\n",
       "   'http://aprilskin.com/web/product/extra/small/201807/569_shop1_15329284413728.png',\n",
       "   'http://aprilskin.com/web/product/extra/small/201812/5decbc18190a8a49a92c374a9210ac77.jpg'],\n",
       "  'category': 'categoryName',\n",
       "  'volume': '',\n",
       "  'salePrice': 25000,\n",
       "  'originalPrice': 30000,\n",
       "  'brand': 'aprilskin',\n",
       "  'url': 'http://aprilskin.com/product/detail.html?product_no=569&cate_no=42&display_group=1',\n",
       "  'color': ''}]"
      ]
     },
     "metadata": {},
     "output_type": "display_data"
    },
    {
     "data": {
      "text/plain": [
       "[{'name': 'BTTN 그린 에센스 라인 (건성용)',\n",
       "  'image': ['http://aprilskin.com/web/product/small/201812/3307e4d99835d1c8c310c36c11fc81ee.jpg',\n",
       "   'http://aprilskin.com/web/product/extra/small/201807/615_shop1_15329283913653.png',\n",
       "   'http://aprilskin.com/web/product/extra/small/201807/615_shop1_15329283949151.png',\n",
       "   'http://aprilskin.com/web/product/extra/small/201807/615_shop1_15329283978573.png'],\n",
       "  'category': 'categoryName',\n",
       "  'volume': '',\n",
       "  'salePrice': 15000,\n",
       "  'originalPrice': 25000,\n",
       "  'brand': 'aprilskin',\n",
       "  'url': 'http://aprilskin.com/product/detail.html?product_no=615&cate_no=42&display_group=1',\n",
       "  'color': ''}]"
      ]
     },
     "metadata": {},
     "output_type": "display_data"
    },
    {
     "data": {
      "text/plain": [
       "[{'name': 'BTTN 블루 미네랄 라인 (복합성)',\n",
       "  'image': ['http://aprilskin.com/web/product/small/201711/616_shop1_719280.jpg',\n",
       "   'http://aprilskin.com/web/product/extra/small/201807/616_shop1_15329284095528.png',\n",
       "   'http://aprilskin.com/web/product/extra/small/201807/616_shop1_15329284123215.png',\n",
       "   'http://aprilskin.com/web/product/extra/small/201807/616_shop1_15329284152453.png'],\n",
       "  'category': 'categoryName',\n",
       "  'volume': '',\n",
       "  'salePrice': 15000,\n",
       "  'originalPrice': 25000,\n",
       "  'brand': 'aprilskin',\n",
       "  'url': 'http://aprilskin.com/product/detail.html?product_no=616&cate_no=42&display_group=1',\n",
       "  'color': ''}]"
      ]
     },
     "metadata": {},
     "output_type": "display_data"
    },
    {
     "data": {
      "text/plain": [
       "[{'name': '클리어 피치 데오 티슈',\n",
       "  'image': ['http://aprilskin.com/web/product/small/201803/690_shop1_606577.png',\n",
       "   'http://aprilskin.com/web/product/extra/small/201807/690_shop1_15329389297596.png'],\n",
       "  'category': 'categoryName',\n",
       "  'volume': '',\n",
       "  'salePrice': 5500,\n",
       "  'originalPrice': 7000,\n",
       "  'brand': 'aprilskin',\n",
       "  'url': 'http://aprilskin.com/product/detail.html?product_no=690&cate_no=42&display_group=1',\n",
       "  'color': ''}]"
      ]
     },
     "metadata": {},
     "output_type": "display_data"
    },
    {
     "data": {
      "text/plain": [
       "[{'name': '프레쉬 자몽 데오 티슈',\n",
       "  'image': ['http://aprilskin.com/web/product/small/201705/507_shop1_518416.jpg',\n",
       "   'http://aprilskin.com/web/product/extra/small/201807/507_shop1_15329389556897.png'],\n",
       "  'category': 'categoryName',\n",
       "  'volume': '',\n",
       "  'salePrice': 4900,\n",
       "  'originalPrice': 4900,\n",
       "  'brand': 'aprilskin',\n",
       "  'url': 'http://aprilskin.com/product/detail.html?product_no=507&cate_no=42&display_group=1',\n",
       "  'color': ''}]"
      ]
     },
     "metadata": {},
     "output_type": "display_data"
    },
    {
     "data": {
      "text/plain": [
       "[{'name': '[[1+1]] 펌킨 릴렉싱 쿨링 크림',\n",
       "  'image': ['http://aprilskin.com/web/product/small/201701/392_shop1_210182.jpg',\n",
       "   'http://aprilskin.com/web/product/extra/small/201807/392_shop1_15329284544165.png',\n",
       "   'http://aprilskin.com/web/product/extra/small/201807/392_shop1_15329284576719.png'],\n",
       "  'category': 'categoryName',\n",
       "  'volume': '',\n",
       "  'salePrice': 10000,\n",
       "  'originalPrice': 31000,\n",
       "  'brand': 'aprilskin',\n",
       "  'url': 'http://aprilskin.com/product/detail.html?product_no=392&cate_no=42&display_group=1',\n",
       "  'color': ''}]"
      ]
     },
     "metadata": {},
     "output_type": "display_data"
    },
    {
     "data": {
      "text/plain": [
       "[{'name': '[[1+1]] 칼라민 솔루션 스팟크림',\n",
       "  'image': ['http://aprilskin.com/web/product/small/201701/398_shop1_905809.jpg',\n",
       "   'http://aprilskin.com/web/product/extra/small/201807/398_shop1_15329284913905.png',\n",
       "   'http://aprilskin.com/web/product/extra/small/201807/398_shop1_15329284954524.png'],\n",
       "  'category': 'categoryName',\n",
       "  'volume': '',\n",
       "  'salePrice': 10000,\n",
       "  'originalPrice': 24000,\n",
       "  'brand': 'aprilskin',\n",
       "  'url': 'http://aprilskin.com/product/detail.html?product_no=398&cate_no=42&display_group=1',\n",
       "  'color': ''}]"
      ]
     },
     "metadata": {},
     "output_type": "display_data"
    },
    {
     "data": {
      "text/plain": [
       "[{'name': '매직스노우 선스틱',\n",
       "  'image': ['http://aprilskin.com/web/product/small/201707/518_shop1_964152.jpg',\n",
       "   'http://aprilskin.com/web/product/extra/small/201807/518_shop1_15329285837271.png',\n",
       "   'http://aprilskin.com/web/product/extra/small/201807/518_shop1_1532928590625.png'],\n",
       "  'category': 'categoryName',\n",
       "  'volume': '',\n",
       "  'salePrice': 16000,\n",
       "  'originalPrice': 21000,\n",
       "  'brand': 'aprilskin',\n",
       "  'url': 'http://aprilskin.com/product/detail.html?product_no=518&cate_no=42&display_group=1',\n",
       "  'color': ''}]"
      ]
     },
     "metadata": {},
     "output_type": "display_data"
    },
    {
     "data": {
      "text/plain": [
       "[{'name': '매직스노우 선쿠션 2.0',\n",
       "  'image': ['http://aprilskin.com/web/product/small/201707/532_shop1_442275.jpg',\n",
       "   'http://aprilskin.com/web/product/extra/small/201807/532_shop1_15329285634559.png',\n",
       "   'http://aprilskin.com/web/product/extra/small/201807/532_shop1_15329285671537.png'],\n",
       "  'category': 'categoryName',\n",
       "  'volume': '',\n",
       "  'salePrice': 21000,\n",
       "  'originalPrice': 28000,\n",
       "  'brand': 'aprilskin',\n",
       "  'url': 'http://aprilskin.com/product/detail.html?product_no=532&cate_no=42&display_group=1',\n",
       "  'color': ''}]"
      ]
     },
     "metadata": {},
     "output_type": "display_data"
    },
    {
     "data": {
      "text/plain": [
       "[{'name': '[폼클렌저 증정] 리얼 카렌둘라 수분 필링 3종 SET',\n",
       "  'image': ['http://aprilskin.com/web/product/small/201812/30d2bf57d81d4996fe28260fe20b5378.jpg',\n",
       "   'http://aprilskin.com/web/product/extra/small/201809/cbc285d1d83a081174a15422f4f6afc4.png',\n",
       "   'http://aprilskin.com/web/product/extra/small/201809/c6c255b6f903eeca32dfb2477a4a2626.jpg',\n",
       "   'http://aprilskin.com/web/product/extra/small/201809/4063564f49d92b6ed9449dcfd3267562.jpg'],\n",
       "  'category': 'categoryName',\n",
       "  'volume': '',\n",
       "  'salePrice': 53000,\n",
       "  'originalPrice': 88000,\n",
       "  'brand': 'aprilskin',\n",
       "  'url': 'http://aprilskin.com/product/detail.html?product_no=876&cate_no=53&display_group=1',\n",
       "  'color': ''}]"
      ]
     },
     "metadata": {},
     "output_type": "display_data"
    },
    {
     "data": {
      "text/plain": [
       "[{'name': '로즈워터 모델링 마스크',\n",
       "  'image': ['http://aprilskin.com/web/product/small/201802/675_shop1_515387.png',\n",
       "   'http://aprilskin.com/web/product/extra/small/201807/675_shop1_15329293263569.png',\n",
       "   'http://aprilskin.com/web/product/extra/small/201807/675_shop1_15329293308744.png'],\n",
       "  'category': 'categoryName',\n",
       "  'volume': '',\n",
       "  'salePrice': 5500,\n",
       "  'originalPrice': 6900,\n",
       "  'brand': 'aprilskin',\n",
       "  'url': 'http://aprilskin.com/product/detail.html?product_no=675&cate_no=53&display_group=1',\n",
       "  'color': ''}]"
      ]
     },
     "metadata": {},
     "output_type": "display_data"
    },
    {
     "data": {
      "text/plain": [
       "[{'name': '리얼 카렌둘라 필 오프 팩',\n",
       "  'image': ['http://aprilskin.com/web/product/small/201812/4e67e8a48f84c653b55cd085ee3b2d80.jpg',\n",
       "   'http://aprilskin.com/web/product/extra/small/201807/577_shop1_15329293452628.png',\n",
       "   'http://aprilskin.com/web/product/extra/small/201807/577_shop1_15329293492469.png'],\n",
       "  'category': 'categoryName',\n",
       "  'volume': '',\n",
       "  'salePrice': 15000,\n",
       "  'originalPrice': 20000,\n",
       "  'brand': 'aprilskin',\n",
       "  'url': 'http://aprilskin.com/product/detail.html?product_no=577&cate_no=53&display_group=1',\n",
       "  'color': ''}]"
      ]
     },
     "metadata": {},
     "output_type": "display_data"
    },
    {
     "data": {
      "text/plain": [
       "[{'name': '리얼 카렌둘라 필링 패드',\n",
       "  'image': ['http://aprilskin.com/web/product/small/201812/35e1ae47c6e22eee25102804e8fb3d07.jpg',\n",
       "   'http://aprilskin.com/web/product/extra/small/201809/58f626ac561c77320822b0398ffbb9ee.jpg',\n",
       "   'http://aprilskin.com/web/product/extra/small/201809/1ab042198e0d36d879ee92d8511309a7.jpg',\n",
       "   'http://aprilskin.com/web/product/extra/small/201809/6a33646ec245cc13c8e6297c96ef1702.jpg'],\n",
       "  'category': 'categoryName',\n",
       "  'volume': '',\n",
       "  'salePrice': 19000,\n",
       "  'originalPrice': 24000,\n",
       "  'brand': 'aprilskin',\n",
       "  'url': 'http://aprilskin.com/product/detail.html?product_no=837&cate_no=53&display_group=1',\n",
       "  'color': ''}]"
      ]
     },
     "metadata": {},
     "output_type": "display_data"
    },
    {
     "data": {
      "text/plain": [
       "[{'name': '[미라팩]머미머드 마스크',\n",
       "  'image': ['http://aprilskin.com/web/product/small/201701/87_shop1_789322.jpg',\n",
       "   'http://aprilskin.com/web/product/extra/small/201807/87_shop1_15329293612056.png',\n",
       "   'http://aprilskin.com/web/product/extra/small/201807/87_shop1_15329293642088.png',\n",
       "   'http://aprilskin.com/web/product/extra/small/201807/87_shop1_15329293673665.png'],\n",
       "  'category': 'categoryName',\n",
       "  'volume': '',\n",
       "  'salePrice': 5000,\n",
       "  'originalPrice': 7000,\n",
       "  'brand': 'aprilskin',\n",
       "  'url': 'http://aprilskin.com/product/detail.html?product_no=87&cate_no=53&display_group=1',\n",
       "  'color': ''}]"
      ]
     },
     "metadata": {},
     "output_type": "display_data"
    },
    {
     "data": {
      "text/plain": [
       "[{'name': '[[1+1]] 매직스노우 패드',\n",
       "  'image': ['http://aprilskin.com/web/product/small/201701/365_shop1_164261.jpg',\n",
       "   'http://aprilskin.com/web/product/extra/small/201807/365_shop1_1532929309436.png',\n",
       "   'http://aprilskin.com/web/product/extra/small/201807/365_shop1_15329293128316.png'],\n",
       "  'category': 'categoryName',\n",
       "  'volume': '',\n",
       "  'salePrice': 1500,\n",
       "  'originalPrice': 2000,\n",
       "  'brand': 'aprilskin',\n",
       "  'url': 'http://aprilskin.com/product/detail.html?product_no=365&cate_no=53&display_group=1',\n",
       "  'color': ''}]"
      ]
     },
     "metadata": {},
     "output_type": "display_data"
    },
    {
     "data": {
      "text/plain": [
       "[{'name': '퍼펙트 매직 킬핏 틴트',\n",
       "  'image': ['http://aprilskin.com/web/product/small/201812/fce2eb08edf886e9362c6a43c3d7ac17.jpg',\n",
       "   'http://aprilskin.com/web/product/extra/small/201811/f97ebc853885ae30c5db30705d10a104.jpg',\n",
       "   'http://aprilskin.com/web/product/extra/small/201811/b19ef99fea1d32030ded8be864d9eca2.jpg',\n",
       "   'http://aprilskin.com/web/product/extra/small/201811/9d895bac939b1e660e9876c4a4e6d2ea.jpg'],\n",
       "  'category': 'categoryName',\n",
       "  'volume': '',\n",
       "  'salePrice': 9000,\n",
       "  'originalPrice': 13000,\n",
       "  'brand': 'aprilskin',\n",
       "  'url': 'http://aprilskin.com/product/detail.html?product_no=877&cate_no=55&display_group=1',\n",
       "  'color': '01호 리즈폭발 레드핑크'},\n",
       " {'name': '퍼펙트 매직 킬핏 틴트',\n",
       "  'image': ['http://aprilskin.com/web/product/small/201812/fce2eb08edf886e9362c6a43c3d7ac17.jpg',\n",
       "   'http://aprilskin.com/web/product/extra/small/201811/f97ebc853885ae30c5db30705d10a104.jpg',\n",
       "   'http://aprilskin.com/web/product/extra/small/201811/b19ef99fea1d32030ded8be864d9eca2.jpg',\n",
       "   'http://aprilskin.com/web/product/extra/small/201811/9d895bac939b1e660e9876c4a4e6d2ea.jpg'],\n",
       "  'category': 'categoryName',\n",
       "  'volume': '',\n",
       "  'salePrice': 9000,\n",
       "  'originalPrice': 13000,\n",
       "  'brand': 'aprilskin',\n",
       "  'url': 'http://aprilskin.com/product/detail.html?product_no=877&cate_no=55&display_group=1',\n",
       "  'color': '02호 분위기셀럽 칠리'},\n",
       " {'name': '퍼펙트 매직 킬핏 틴트',\n",
       "  'image': ['http://aprilskin.com/web/product/small/201812/fce2eb08edf886e9362c6a43c3d7ac17.jpg',\n",
       "   'http://aprilskin.com/web/product/extra/small/201811/f97ebc853885ae30c5db30705d10a104.jpg',\n",
       "   'http://aprilskin.com/web/product/extra/small/201811/b19ef99fea1d32030ded8be864d9eca2.jpg',\n",
       "   'http://aprilskin.com/web/product/extra/small/201811/9d895bac939b1e660e9876c4a4e6d2ea.jpg'],\n",
       "  'category': 'categoryName',\n",
       "  'volume': '',\n",
       "  'salePrice': 9000,\n",
       "  'originalPrice': 13000,\n",
       "  'brand': 'aprilskin',\n",
       "  'url': 'http://aprilskin.com/product/detail.html?product_no=877&cate_no=55&display_group=1',\n",
       "  'color': '[17호] 핑크홀릭쿠션+틴트2종+퍼파우치 (41% off) '},\n",
       " {'name': '퍼펙트 매직 킬핏 틴트',\n",
       "  'image': ['http://aprilskin.com/web/product/small/201812/fce2eb08edf886e9362c6a43c3d7ac17.jpg',\n",
       "   'http://aprilskin.com/web/product/extra/small/201811/f97ebc853885ae30c5db30705d10a104.jpg',\n",
       "   'http://aprilskin.com/web/product/extra/small/201811/b19ef99fea1d32030ded8be864d9eca2.jpg',\n",
       "   'http://aprilskin.com/web/product/extra/small/201811/9d895bac939b1e660e9876c4a4e6d2ea.jpg'],\n",
       "  'category': 'categoryName',\n",
       "  'volume': '',\n",
       "  'salePrice': 9000,\n",
       "  'originalPrice': 13000,\n",
       "  'brand': 'aprilskin',\n",
       "  'url': 'http://aprilskin.com/product/detail.html?product_no=877&cate_no=55&display_group=1',\n",
       "  'color': '[21호] 핑크홀릭쿠션+틴트2종+퍼파우치 (41% off) '},\n",
       " {'name': '퍼펙트 매직 킬핏 틴트',\n",
       "  'image': ['http://aprilskin.com/web/product/small/201812/fce2eb08edf886e9362c6a43c3d7ac17.jpg',\n",
       "   'http://aprilskin.com/web/product/extra/small/201811/f97ebc853885ae30c5db30705d10a104.jpg',\n",
       "   'http://aprilskin.com/web/product/extra/small/201811/b19ef99fea1d32030ded8be864d9eca2.jpg',\n",
       "   'http://aprilskin.com/web/product/extra/small/201811/9d895bac939b1e660e9876c4a4e6d2ea.jpg'],\n",
       "  'category': 'categoryName',\n",
       "  'volume': '',\n",
       "  'salePrice': 9000,\n",
       "  'originalPrice': 13000,\n",
       "  'brand': 'aprilskin',\n",
       "  'url': 'http://aprilskin.com/product/detail.html?product_no=877&cate_no=55&display_group=1',\n",
       "  'color': '[22호] 핑크홀릭쿠션+틴트2종+퍼파우치 (41% off) '},\n",
       " {'name': '퍼펙트 매직 킬핏 틴트',\n",
       "  'image': ['http://aprilskin.com/web/product/small/201812/fce2eb08edf886e9362c6a43c3d7ac17.jpg',\n",
       "   'http://aprilskin.com/web/product/extra/small/201811/f97ebc853885ae30c5db30705d10a104.jpg',\n",
       "   'http://aprilskin.com/web/product/extra/small/201811/b19ef99fea1d32030ded8be864d9eca2.jpg',\n",
       "   'http://aprilskin.com/web/product/extra/small/201811/9d895bac939b1e660e9876c4a4e6d2ea.jpg'],\n",
       "  'category': 'categoryName',\n",
       "  'volume': '',\n",
       "  'salePrice': 9000,\n",
       "  'originalPrice': 13000,\n",
       "  'brand': 'aprilskin',\n",
       "  'url': 'http://aprilskin.com/product/detail.html?product_no=877&cate_no=55&display_group=1',\n",
       "  'color': '[23호] 핑크홀릭쿠션+틴트2종+퍼파우치 (41% off) '},\n",
       " {'name': '퍼펙트 매직 킬핏 틴트',\n",
       "  'image': ['http://aprilskin.com/web/product/small/201812/fce2eb08edf886e9362c6a43c3d7ac17.jpg',\n",
       "   'http://aprilskin.com/web/product/extra/small/201811/f97ebc853885ae30c5db30705d10a104.jpg',\n",
       "   'http://aprilskin.com/web/product/extra/small/201811/b19ef99fea1d32030ded8be864d9eca2.jpg',\n",
       "   'http://aprilskin.com/web/product/extra/small/201811/9d895bac939b1e660e9876c4a4e6d2ea.jpg'],\n",
       "  'category': 'categoryName',\n",
       "  'volume': '',\n",
       "  'salePrice': 9000,\n",
       "  'originalPrice': 13000,\n",
       "  'brand': 'aprilskin',\n",
       "  'url': 'http://aprilskin.com/product/detail.html?product_no=877&cate_no=55&display_group=1',\n",
       "  'color': '립 올킬 SET(틴트2종+리무버)(46%off) '},\n",
       " {'name': '퍼펙트 매직 킬핏 틴트',\n",
       "  'image': ['http://aprilskin.com/web/product/small/201812/fce2eb08edf886e9362c6a43c3d7ac17.jpg',\n",
       "   'http://aprilskin.com/web/product/extra/small/201811/f97ebc853885ae30c5db30705d10a104.jpg',\n",
       "   'http://aprilskin.com/web/product/extra/small/201811/b19ef99fea1d32030ded8be864d9eca2.jpg',\n",
       "   'http://aprilskin.com/web/product/extra/small/201811/9d895bac939b1e660e9876c4a4e6d2ea.jpg'],\n",
       "  'category': 'categoryName',\n",
       "  'volume': '',\n",
       "  'salePrice': 9000,\n",
       "  'originalPrice': 13000,\n",
       "  'brand': 'aprilskin',\n",
       "  'url': 'http://aprilskin.com/product/detail.html?product_no=877&cate_no=55&display_group=1',\n",
       "  'color': '퍼펙트 립 SET(틴트2종+리무버+립실드)(55%off) '}]"
      ]
     },
     "metadata": {},
     "output_type": "display_data"
    },
    {
     "data": {
      "text/plain": [
       "[{'name': '퍼펙트 매직 듀얼 아이섀도우',\n",
       "  'image': ['http://aprilskin.com/web/product/small/201806/746_shop1_1528796311234.png',\n",
       "   'http://aprilskin.com/web/product/extra/small/201807/746_shop1_15329248185954.jpg',\n",
       "   'http://aprilskin.com/web/product/extra/small/201807/746_shop1_15329248218084.jpg',\n",
       "   'http://aprilskin.com/web/product/extra/small/201807/746_shop1_15329248254089.jpg'],\n",
       "  'category': 'categoryName',\n",
       "  'volume': '',\n",
       "  'salePrice': 19900,\n",
       "  'originalPrice': 26000,\n",
       "  'brand': 'aprilskin',\n",
       "  'url': 'http://aprilskin.com/product/detail.html?product_no=746&cate_no=55&display_group=1',\n",
       "  'color': '01호 리즈폭발 레드핑크'},\n",
       " {'name': '퍼펙트 매직 듀얼 아이섀도우',\n",
       "  'image': ['http://aprilskin.com/web/product/small/201806/746_shop1_1528796311234.png',\n",
       "   'http://aprilskin.com/web/product/extra/small/201807/746_shop1_15329248185954.jpg',\n",
       "   'http://aprilskin.com/web/product/extra/small/201807/746_shop1_15329248218084.jpg',\n",
       "   'http://aprilskin.com/web/product/extra/small/201807/746_shop1_15329248254089.jpg'],\n",
       "  'category': 'categoryName',\n",
       "  'volume': '',\n",
       "  'salePrice': 19900,\n",
       "  'originalPrice': 26000,\n",
       "  'brand': 'aprilskin',\n",
       "  'url': 'http://aprilskin.com/product/detail.html?product_no=746&cate_no=55&display_group=1',\n",
       "  'color': '02호 분위기셀럽 칠리'},\n",
       " {'name': '퍼펙트 매직 듀얼 아이섀도우',\n",
       "  'image': ['http://aprilskin.com/web/product/small/201806/746_shop1_1528796311234.png',\n",
       "   'http://aprilskin.com/web/product/extra/small/201807/746_shop1_15329248185954.jpg',\n",
       "   'http://aprilskin.com/web/product/extra/small/201807/746_shop1_15329248218084.jpg',\n",
       "   'http://aprilskin.com/web/product/extra/small/201807/746_shop1_15329248254089.jpg'],\n",
       "  'category': 'categoryName',\n",
       "  'volume': '',\n",
       "  'salePrice': 19900,\n",
       "  'originalPrice': 26000,\n",
       "  'brand': 'aprilskin',\n",
       "  'url': 'http://aprilskin.com/product/detail.html?product_no=746&cate_no=55&display_group=1',\n",
       "  'color': '[17호] 핑크홀릭쿠션+틴트2종+퍼파우치 (41% off) '},\n",
       " {'name': '퍼펙트 매직 듀얼 아이섀도우',\n",
       "  'image': ['http://aprilskin.com/web/product/small/201806/746_shop1_1528796311234.png',\n",
       "   'http://aprilskin.com/web/product/extra/small/201807/746_shop1_15329248185954.jpg',\n",
       "   'http://aprilskin.com/web/product/extra/small/201807/746_shop1_15329248218084.jpg',\n",
       "   'http://aprilskin.com/web/product/extra/small/201807/746_shop1_15329248254089.jpg'],\n",
       "  'category': 'categoryName',\n",
       "  'volume': '',\n",
       "  'salePrice': 19900,\n",
       "  'originalPrice': 26000,\n",
       "  'brand': 'aprilskin',\n",
       "  'url': 'http://aprilskin.com/product/detail.html?product_no=746&cate_no=55&display_group=1',\n",
       "  'color': '[21호] 핑크홀릭쿠션+틴트2종+퍼파우치 (41% off) '},\n",
       " {'name': '퍼펙트 매직 듀얼 아이섀도우',\n",
       "  'image': ['http://aprilskin.com/web/product/small/201806/746_shop1_1528796311234.png',\n",
       "   'http://aprilskin.com/web/product/extra/small/201807/746_shop1_15329248185954.jpg',\n",
       "   'http://aprilskin.com/web/product/extra/small/201807/746_shop1_15329248218084.jpg',\n",
       "   'http://aprilskin.com/web/product/extra/small/201807/746_shop1_15329248254089.jpg'],\n",
       "  'category': 'categoryName',\n",
       "  'volume': '',\n",
       "  'salePrice': 19900,\n",
       "  'originalPrice': 26000,\n",
       "  'brand': 'aprilskin',\n",
       "  'url': 'http://aprilskin.com/product/detail.html?product_no=746&cate_no=55&display_group=1',\n",
       "  'color': '[22호] 핑크홀릭쿠션+틴트2종+퍼파우치 (41% off) '},\n",
       " {'name': '퍼펙트 매직 듀얼 아이섀도우',\n",
       "  'image': ['http://aprilskin.com/web/product/small/201806/746_shop1_1528796311234.png',\n",
       "   'http://aprilskin.com/web/product/extra/small/201807/746_shop1_15329248185954.jpg',\n",
       "   'http://aprilskin.com/web/product/extra/small/201807/746_shop1_15329248218084.jpg',\n",
       "   'http://aprilskin.com/web/product/extra/small/201807/746_shop1_15329248254089.jpg'],\n",
       "  'category': 'categoryName',\n",
       "  'volume': '',\n",
       "  'salePrice': 19900,\n",
       "  'originalPrice': 26000,\n",
       "  'brand': 'aprilskin',\n",
       "  'url': 'http://aprilskin.com/product/detail.html?product_no=746&cate_no=55&display_group=1',\n",
       "  'color': '[23호] 핑크홀릭쿠션+틴트2종+퍼파우치 (41% off) '},\n",
       " {'name': '퍼펙트 매직 듀얼 아이섀도우',\n",
       "  'image': ['http://aprilskin.com/web/product/small/201806/746_shop1_1528796311234.png',\n",
       "   'http://aprilskin.com/web/product/extra/small/201807/746_shop1_15329248185954.jpg',\n",
       "   'http://aprilskin.com/web/product/extra/small/201807/746_shop1_15329248218084.jpg',\n",
       "   'http://aprilskin.com/web/product/extra/small/201807/746_shop1_15329248254089.jpg'],\n",
       "  'category': 'categoryName',\n",
       "  'volume': '',\n",
       "  'salePrice': 19900,\n",
       "  'originalPrice': 26000,\n",
       "  'brand': 'aprilskin',\n",
       "  'url': 'http://aprilskin.com/product/detail.html?product_no=746&cate_no=55&display_group=1',\n",
       "  'color': '립 올킬 SET(틴트2종+리무버)(46%off) '},\n",
       " {'name': '퍼펙트 매직 듀얼 아이섀도우',\n",
       "  'image': ['http://aprilskin.com/web/product/small/201806/746_shop1_1528796311234.png',\n",
       "   'http://aprilskin.com/web/product/extra/small/201807/746_shop1_15329248185954.jpg',\n",
       "   'http://aprilskin.com/web/product/extra/small/201807/746_shop1_15329248218084.jpg',\n",
       "   'http://aprilskin.com/web/product/extra/small/201807/746_shop1_15329248254089.jpg'],\n",
       "  'category': 'categoryName',\n",
       "  'volume': '',\n",
       "  'salePrice': 19900,\n",
       "  'originalPrice': 26000,\n",
       "  'brand': 'aprilskin',\n",
       "  'url': 'http://aprilskin.com/product/detail.html?product_no=746&cate_no=55&display_group=1',\n",
       "  'color': '퍼펙트 립 SET(틴트2종+리무버+립실드)(55%off) '}]"
      ]
     },
     "metadata": {},
     "output_type": "display_data"
    },
    {
     "data": {
      "text/plain": [
       "[{'name': '[[1+1]] 매직 브로우 타투 젤',\n",
       "  'image': ['http://aprilskin.com/web/product/small/201612/314_shop1_225803.jpg',\n",
       "   'http://aprilskin.com/web/product/extra/small/201807/314_shop1_1532935110542.png',\n",
       "   'http://aprilskin.com/web/product/extra/small/201807/314_shop1_15329351149742.png'],\n",
       "  'category': 'categoryName',\n",
       "  'volume': '',\n",
       "  'salePrice': 5900,\n",
       "  'originalPrice': 16000,\n",
       "  'brand': 'aprilskin',\n",
       "  'url': 'http://aprilskin.com/product/detail.html?product_no=314&cate_no=55&display_group=1',\n",
       "  'color': ''}]"
      ]
     },
     "metadata": {},
     "output_type": "display_data"
    },
    {
     "data": {
      "text/plain": [
       "[{'name': '[[1+1]] 헤어팩트',\n",
       "  'image': ['http://aprilskin.com/web/product/small/201701/321_shop1_533146.jpg',\n",
       "   'http://aprilskin.com/web/product/extra/small/201807/321_shop1_15329351769823.png'],\n",
       "  'category': 'categoryName',\n",
       "  'volume': '',\n",
       "  'salePrice': 9900,\n",
       "  'originalPrice': 19000,\n",
       "  'brand': 'aprilskin',\n",
       "  'url': 'http://aprilskin.com/product/detail.html?product_no=321&cate_no=55&display_group=1',\n",
       "  'color': ''}]"
      ]
     },
     "metadata": {},
     "output_type": "display_data"
    },
    {
     "data": {
      "text/plain": [
       "[{'name': '[[1+1]] 4D스틱(윤곽스틱, 쉐딩스틱, 컨투어링메이크업)',\n",
       "  'image': ['http://aprilskin.com/web/product/small/201611/124_shop1_254659.jpg',\n",
       "   'http://aprilskin.com/web/product/extra/small/201807/124_shop1_15329352036841.png'],\n",
       "  'category': 'categoryName',\n",
       "  'volume': '',\n",
       "  'salePrice': 8900,\n",
       "  'originalPrice': 23000,\n",
       "  'brand': 'aprilskin',\n",
       "  'url': 'http://aprilskin.com/product/detail.html?product_no=124&cate_no=55&display_group=1',\n",
       "  'color': ''}]"
      ]
     },
     "metadata": {},
     "output_type": "display_data"
    },
    {
     "data": {
      "text/plain": [
       "[{'name': '퍼펙트 매직 아이스타터',\n",
       "  'image': ['http://aprilskin.com/web/product/small/201812/0a53f88c15589e25822385392f4ee5a8.jpg',\n",
       "   'http://aprilskin.com/web/product/extra/small/201807/567_shop1_15329349597791.png',\n",
       "   'http://aprilskin.com/web/product/extra/small/201807/567_shop1_15329349631473.png'],\n",
       "  'category': 'categoryName',\n",
       "  'volume': '',\n",
       "  'salePrice': 12000,\n",
       "  'originalPrice': 15000,\n",
       "  'brand': 'aprilskin',\n",
       "  'url': 'http://aprilskin.com/product/detail.html?product_no=567&cate_no=55&display_group=1',\n",
       "  'color': ''}]"
      ]
     },
     "metadata": {},
     "output_type": "display_data"
    },
    {
     "data": {
      "text/plain": [
       "[{'name': '[최대50%할인] 픽싱 립 실드',\n",
       "  'image': ['http://aprilskin.com/web/product/small/201901/ed3d8e89fa94b6443311cd5aa77543a9.jpg',\n",
       "   'http://aprilskin.com/web/product/extra/small/201807/446_shop1_15329351588023.png',\n",
       "   'http://aprilskin.com/web/product/extra/small/201807/446_shop1_15329351621381.png'],\n",
       "  'category': 'categoryName',\n",
       "  'volume': '',\n",
       "  'salePrice': 9500,\n",
       "  'originalPrice': 19000,\n",
       "  'brand': 'aprilskin',\n",
       "  'url': 'http://aprilskin.com/product/detail.html?product_no=446&cate_no=55&display_group=1',\n",
       "  'color': ''}]"
      ]
     },
     "metadata": {},
     "output_type": "display_data"
    },
    {
     "data": {
      "text/plain": [
       "[{'name': '[[1+1]] 헤어팩트',\n",
       "  'image': ['http://aprilskin.com/web/product/small/201701/321_shop1_533146.jpg',\n",
       "   'http://aprilskin.com/web/product/extra/small/201807/321_shop1_15329351769823.png'],\n",
       "  'category': 'categoryName',\n",
       "  'volume': '',\n",
       "  'salePrice': 9900,\n",
       "  'originalPrice': 19000,\n",
       "  'brand': 'aprilskin',\n",
       "  'url': 'http://aprilskin.com/product/detail.html?product_no=321&cate_no=43&display_group=1',\n",
       "  'color': ''}]"
      ]
     },
     "metadata": {},
     "output_type": "display_data"
    },
    {
     "data": {
      "text/plain": [
       "[{'name': '[[1+1]] 매직젠틀에센스 라이트',\n",
       "  'image': ['http://aprilskin.com/web/product/small/201701/241_shop1_340390.jpg'],\n",
       "  'category': 'categoryName',\n",
       "  'volume': '',\n",
       "  'salePrice': 12000,\n",
       "  'originalPrice': 25000,\n",
       "  'brand': 'aprilskin',\n",
       "  'url': 'http://aprilskin.com/product/detail.html?product_no=241&cate_no=43&display_group=1',\n",
       "  'color': ''}]"
      ]
     },
     "metadata": {},
     "output_type": "display_data"
    },
    {
     "data": {
      "text/plain": [
       "[{'name': '[[1+1]] 매직젠틀다운펌 (+트리트먼트)',\n",
       "  'image': ['http://aprilskin.com/web/product/small/201701/287_shop1_153470.jpg',\n",
       "   'http://aprilskin.com/web/product/extra/small/201807/287_shop1_15329390446122.png',\n",
       "   'http://aprilskin.com/web/product/extra/small/201807/287_shop1_15329390488156.png'],\n",
       "  'category': 'categoryName',\n",
       "  'volume': '',\n",
       "  'salePrice': 9900,\n",
       "  'originalPrice': 24000,\n",
       "  'brand': 'aprilskin',\n",
       "  'url': 'http://aprilskin.com/product/detail.html?product_no=287&cate_no=43&display_group=1',\n",
       "  'color': ''}]"
      ]
     },
     "metadata": {},
     "output_type": "display_data"
    },
    {
     "data": {
      "text/plain": [
       "[{'name': '턴업 앞머리 뽕 패드',\n",
       "  'image': ['http://aprilskin.com/web/product/small/201812/ce26556b32f1705732a4e9f351fc325d.jpg',\n",
       "   'http://aprilskin.com/web/product/extra/small/201809/83ff2f061948d7dc94f91bd7a5e3ad55.jpg',\n",
       "   'http://aprilskin.com/web/product/extra/small/201809/20cb9a94d7a155d60c3555f250f91f36.jpg',\n",
       "   'http://aprilskin.com/web/product/extra/small/201809/eabffb3273f30b0ecba7f798e84a8537.jpg'],\n",
       "  'category': 'categoryName',\n",
       "  'volume': '',\n",
       "  'salePrice': 6000,\n",
       "  'originalPrice': 6900,\n",
       "  'brand': 'aprilskin',\n",
       "  'url': 'http://aprilskin.com/product/detail.html?product_no=859&cate_no=52&display_group=1',\n",
       "  'color': ''}]"
      ]
     },
     "metadata": {},
     "output_type": "display_data"
    },
    {
     "data": {
      "text/plain": [
       "[{'name': '턴업 컬러 원데이 무스',\n",
       "  'image': ['http://aprilskin.com/web/product/small/201812/ada78d4aac264e150b9b5d343b41a8ed.jpg',\n",
       "   'http://aprilskin.com/web/product/extra/small/201807/722_shop1_15329404700825.png',\n",
       "   'http://aprilskin.com/web/product/extra/small/201807/722_shop1_15329404761704.png',\n",
       "   'http://aprilskin.com/web/product/extra/small/201807/722_shop1_15329404884557.png',\n",
       "   'http://aprilskin.com/web/product/extra/small/201807/722_shop1_15329404935677.png'],\n",
       "  'category': 'categoryName',\n",
       "  'volume': '',\n",
       "  'salePrice': 9900,\n",
       "  'originalPrice': 12000,\n",
       "  'brand': 'aprilskin',\n",
       "  'url': 'http://aprilskin.com/product/detail.html?product_no=722&cate_no=52&display_group=1',\n",
       "  'color': ''}]"
      ]
     },
     "metadata": {},
     "output_type": "display_data"
    },
    {
     "data": {
      "text/plain": [
       "[{'name': '턴업 헤어 퍼퓸',\n",
       "  'image': ['http://aprilskin.com/web/product/small/201811/3762b6d00f3e56a1b34338cc16c74233.jpg'],\n",
       "  'category': 'categoryName',\n",
       "  'volume': '',\n",
       "  'salePrice': 9900,\n",
       "  'originalPrice': 12000,\n",
       "  'brand': 'aprilskin',\n",
       "  'url': 'http://aprilskin.com/product/detail.html?product_no=799&cate_no=52&display_group=1',\n",
       "  'color': ''}]"
      ]
     },
     "metadata": {},
     "output_type": "display_data"
    },
    {
     "data": {
      "text/plain": [
       "[{'name': '턴업 헤어 에센스',\n",
       "  'image': ['http://aprilskin.com/web/product/small/201812/5c26cdc9afd885aa44c13c0025509a69.jpg'],\n",
       "  'category': 'categoryName',\n",
       "  'volume': '',\n",
       "  'salePrice': 10800,\n",
       "  'originalPrice': 15000,\n",
       "  'brand': 'aprilskin',\n",
       "  'url': 'http://aprilskin.com/product/detail.html?product_no=787&cate_no=52&display_group=1',\n",
       "  'color': ''}]"
      ]
     },
     "metadata": {},
     "output_type": "display_data"
    },
    {
     "data": {
      "text/plain": [
       "[{'name': '밀크 부스터 패스트샴푸/트리트먼트',\n",
       "  'image': ['http://aprilskin.com/web/product/small/201812/e6e325b6feab0591fdda2411467c8470.jpg',\n",
       "   'http://aprilskin.com/web/product/extra/small/201807/717_shop1_15329418468401.png',\n",
       "   'http://aprilskin.com/web/product/extra/small/201807/717_shop1_15329418531485.jpg'],\n",
       "  'category': 'categoryName',\n",
       "  'volume': '',\n",
       "  'salePrice': 17000,\n",
       "  'originalPrice': 19000,\n",
       "  'brand': 'aprilskin',\n",
       "  'url': 'http://aprilskin.com/product/detail.html?product_no=717&cate_no=52&display_group=1',\n",
       "  'color': ''}]"
      ]
     },
     "metadata": {},
     "output_type": "display_data"
    },
    {
     "data": {
      "text/plain": [
       "[{'name': '[[1+1]] 턴업 볼륨업',\n",
       "  'image': ['http://aprilskin.com/web/product/small/201710/566_shop1_267989.jpg',\n",
       "   'http://aprilskin.com/web/product/extra/small/201807/566_shop1_153294178125.png',\n",
       "   'http://aprilskin.com/web/product/extra/small/201807/566_shop1_15329417920185.png',\n",
       "   'http://aprilskin.com/web/product/extra/small/201807/566_shop1_15329417961221.png'],\n",
       "  'category': 'categoryName',\n",
       "  'volume': '',\n",
       "  'salePrice': 10000,\n",
       "  'originalPrice': 28000,\n",
       "  'brand': 'aprilskin',\n",
       "  'url': 'http://aprilskin.com/product/detail.html?product_no=566&cate_no=52&display_group=1',\n",
       "  'color': ''}]"
      ]
     },
     "metadata": {},
     "output_type": "display_data"
    },
    {
     "data": {
      "text/plain": [
       "[{'name': '턴업 블리치',\n",
       "  'image': ['http://aprilskin.com/web/product/small/201702/409_shop1_675510.jpg',\n",
       "   'http://aprilskin.com/web/product/extra/small/201807/409_shop1_15329421415261.png',\n",
       "   'http://aprilskin.com/web/product/extra/small/201807/409_shop1_15329421445203.png',\n",
       "   'http://aprilskin.com/web/product/extra/small/201807/409_shop1_1532942147801.png',\n",
       "   'http://aprilskin.com/web/product/extra/small/201807/409_shop1_15329421507271.png'],\n",
       "  'category': 'categoryName',\n",
       "  'volume': '',\n",
       "  'salePrice': 3500,\n",
       "  'originalPrice': 4500,\n",
       "  'brand': 'aprilskin',\n",
       "  'url': 'http://aprilskin.com/product/detail.html?product_no=409&cate_no=52&display_group=1',\n",
       "  'color': ''}]"
      ]
     },
     "metadata": {},
     "output_type": "display_data"
    },
    {
     "data": {
      "text/plain": [
       "[{'name': '턴업 컬러 크림',\n",
       "  'image': ['http://aprilskin.com/web/product/small/201710/457_shop1_412728.jpg'],\n",
       "  'category': 'categoryName',\n",
       "  'volume': '',\n",
       "  'salePrice': 11000,\n",
       "  'originalPrice': 14000,\n",
       "  'brand': 'aprilskin',\n",
       "  'url': 'http://aprilskin.com/product/detail.html?product_no=457&cate_no=52&display_group=1',\n",
       "  'color': ''}]"
      ]
     },
     "metadata": {},
     "output_type": "display_data"
    },
    {
     "data": {
      "text/plain": [
       "[{'name': '턴업 도구 세트',\n",
       "  'image': ['http://aprilskin.com/web/product/small/201707/535_shop1_268545.jpg',\n",
       "   'http://aprilskin.com/web/product/extra/small/201807/535_shop1_15329449242144.png'],\n",
       "  'category': 'categoryName',\n",
       "  'volume': '',\n",
       "  'salePrice': 3900,\n",
       "  'originalPrice': 3900,\n",
       "  'brand': 'aprilskin',\n",
       "  'url': 'http://aprilskin.com/product/detail.html?product_no=535&cate_no=52&display_group=1',\n",
       "  'color': ''}]"
      ]
     },
     "metadata": {},
     "output_type": "display_data"
    },
    {
     "data": {
      "text/plain": [
       "[{'name': '[최대60%할인] 턴업 컬러 트리트먼트',\n",
       "  'image': ['http://aprilskin.com/web/product/small/201901/ecdc29182d8cb3c60921cd7e1e046411.gif',\n",
       "   'http://aprilskin.com/web/product/extra/small/201807/421_shop1_15329389076222.png',\n",
       "   'http://aprilskin.com/web/product/extra/small/201807/421_shop1_15329389125771.png'],\n",
       "  'category': 'categoryName',\n",
       "  'volume': '',\n",
       "  'salePrice': 6900,\n",
       "  'originalPrice': 12000,\n",
       "  'brand': 'aprilskin',\n",
       "  'url': 'http://aprilskin.com/product/detail.html?product_no=421&cate_no=52&display_group=1',\n",
       "  'color': ''}]"
      ]
     },
     "metadata": {},
     "output_type": "display_data"
    },
    {
     "data": {
      "text/plain": [
       "[{'name': '[[1+1]] 헤어 스타일러 드라이 샴푸',\n",
       "  'image': ['http://aprilskin.com/web/product/small/201705/498_shop1_359205.jpg',\n",
       "   'http://aprilskin.com/web/product/extra/small/201807/498_shop1_15329413099129.png',\n",
       "   'http://aprilskin.com/web/product/extra/small/201807/498_shop1_15329413151678.png'],\n",
       "  'category': 'categoryName',\n",
       "  'volume': '',\n",
       "  'salePrice': 10000,\n",
       "  'originalPrice': 32000,\n",
       "  'brand': 'aprilskin',\n",
       "  'url': 'http://aprilskin.com/product/detail.html?product_no=498&cate_no=52&display_group=1',\n",
       "  'color': ''}]"
      ]
     },
     "metadata": {},
     "output_type": "display_data"
    },
    {
     "data": {
      "text/plain": [
       "[{'name': '[[1+1]] 헤어 스타일러 드라이 트리트먼트',\n",
       "  'image': ['http://aprilskin.com/web/product/small/201705/499_shop1_458830.jpg',\n",
       "   'http://aprilskin.com/web/product/extra/small/201807/499_shop1_15329414971695.png',\n",
       "   'http://aprilskin.com/web/product/extra/small/201807/499_shop1_15329415048563.png'],\n",
       "  'category': 'categoryName',\n",
       "  'volume': '',\n",
       "  'salePrice': 8900,\n",
       "  'originalPrice': 15000,\n",
       "  'brand': 'aprilskin',\n",
       "  'url': 'http://aprilskin.com/product/detail.html?product_no=499&cate_no=52&display_group=1',\n",
       "  'color': ''}]"
      ]
     },
     "metadata": {},
     "output_type": "display_data"
    },
    {
     "data": {
      "text/plain": [
       "[{'name': '[[1+1]] 헤어팩트',\n",
       "  'image': ['http://aprilskin.com/web/product/small/201701/321_shop1_533146.jpg',\n",
       "   'http://aprilskin.com/web/product/extra/small/201807/321_shop1_15329351769823.png'],\n",
       "  'category': 'categoryName',\n",
       "  'volume': '',\n",
       "  'salePrice': 9900,\n",
       "  'originalPrice': 19000,\n",
       "  'brand': 'aprilskin',\n",
       "  'url': 'http://aprilskin.com/product/detail.html?product_no=321&cate_no=52&display_group=1',\n",
       "  'color': ''}]"
      ]
     },
     "metadata": {},
     "output_type": "display_data"
    },
    {
     "data": {
      "text/plain": [
       "[{'name': '[[1+1]] 매직젠틀다운펌 (+트리트먼트)',\n",
       "  'image': ['http://aprilskin.com/web/product/small/201701/287_shop1_153470.jpg',\n",
       "   'http://aprilskin.com/web/product/extra/small/201807/287_shop1_15329390446122.png',\n",
       "   'http://aprilskin.com/web/product/extra/small/201807/287_shop1_15329390488156.png'],\n",
       "  'category': 'categoryName',\n",
       "  'volume': '',\n",
       "  'salePrice': 9900,\n",
       "  'originalPrice': 24000,\n",
       "  'brand': 'aprilskin',\n",
       "  'url': 'http://aprilskin.com/product/detail.html?product_no=287&cate_no=52&display_group=1',\n",
       "  'color': ''}]"
      ]
     },
     "metadata": {},
     "output_type": "display_data"
    },
    {
     "data": {
      "text/plain": [
       "[{'name': '클리어 피치 데오 티슈',\n",
       "  'image': ['http://aprilskin.com/web/product/small/201803/690_shop1_606577.png',\n",
       "   'http://aprilskin.com/web/product/extra/small/201807/690_shop1_15329389297596.png'],\n",
       "  'category': 'categoryName',\n",
       "  'volume': '',\n",
       "  'salePrice': 5500,\n",
       "  'originalPrice': 7000,\n",
       "  'brand': 'aprilskin',\n",
       "  'url': 'http://aprilskin.com/product/detail.html?product_no=690&cate_no=52&display_group=1',\n",
       "  'color': ''}]"
      ]
     },
     "metadata": {},
     "output_type": "display_data"
    },
    {
     "data": {
      "text/plain": [
       "[{'name': '프레쉬 자몽 데오 티슈',\n",
       "  'image': ['http://aprilskin.com/web/product/small/201705/507_shop1_518416.jpg',\n",
       "   'http://aprilskin.com/web/product/extra/small/201807/507_shop1_15329389556897.png'],\n",
       "  'category': 'categoryName',\n",
       "  'volume': '',\n",
       "  'salePrice': 4900,\n",
       "  'originalPrice': 4900,\n",
       "  'brand': 'aprilskin',\n",
       "  'url': 'http://aprilskin.com/product/detail.html?product_no=507&cate_no=52&display_group=1',\n",
       "  'color': ''}]"
      ]
     },
     "metadata": {},
     "output_type": "display_data"
    },
    {
     "data": {
      "text/plain": [
       "[{'name': '[리미티드]핑크홀릭 퍼 파우치',\n",
       "  'image': ['http://aprilskin.com/web/product/small/201812/ae777a85046242e9c896005a12a64d0e.jpg'],\n",
       "  'category': 'categoryName',\n",
       "  'volume': '',\n",
       "  'salePrice': 15000,\n",
       "  'originalPrice': 25000,\n",
       "  'brand': 'aprilskin',\n",
       "  'url': 'http://aprilskin.com/product/detail.html?product_no=886&cate_no=54&display_group=1',\n",
       "  'color': ''}]"
      ]
     },
     "metadata": {},
     "output_type": "display_data"
    },
    {
     "data": {
      "text/plain": [
       "[{'name': '퍼펙트 슬림 핏 퍼프',\n",
       "  'image': ['http://aprilskin.com/web/product/small/201812/5040bdaae20fc77065f04b00b91a03a3.jpg',\n",
       "   'http://aprilskin.com/web/product/extra/small/201808/6e2dad6adfd5e58e015fea2c3a427347.jpg',\n",
       "   'http://aprilskin.com/web/product/extra/small/201808/4f4d625ca54d462f1083bb0e010177f9.jpg',\n",
       "   'http://aprilskin.com/web/product/extra/small/201808/bf757ab5be143f54b2825777729794a2.jpg'],\n",
       "  'category': 'categoryName',\n",
       "  'volume': '',\n",
       "  'salePrice': 4900,\n",
       "  'originalPrice': 5900,\n",
       "  'brand': 'aprilskin',\n",
       "  'url': 'http://aprilskin.com/product/detail.html?product_no=828&cate_no=54&display_group=1',\n",
       "  'color': ''}]"
      ]
     },
     "metadata": {},
     "output_type": "display_data"
    },
    {
     "data": {
      "text/plain": [
       "[{'name': '라텍스 프리 워터 핏 퍼프',\n",
       "  'image': ['http://aprilskin.com/web/product/small/201812/9ddd2710997ae60ece980117a5503996.jpg',\n",
       "   'http://aprilskin.com/web/product/extra/small/201807/723_shop1_15329439402005.jpg',\n",
       "   'http://aprilskin.com/web/product/extra/small/201807/723_shop1_15329439435696.jpg'],\n",
       "  'category': 'categoryName',\n",
       "  'volume': '',\n",
       "  'salePrice': 4900,\n",
       "  'originalPrice': 7000,\n",
       "  'brand': 'aprilskin',\n",
       "  'url': 'http://aprilskin.com/product/detail.html?product_no=723&cate_no=54&display_group=1',\n",
       "  'color': ''}]"
      ]
     },
     "metadata": {},
     "output_type": "display_data"
    },
    {
     "data": {
      "text/plain": [
       "[{'name': '[[1+1]] 매직 실리콘 퍼프',\n",
       "  'image': ['http://aprilskin.com/web/product/small/201812/d36dc2151e0beda9ed0ef2c5b61fb63d.jpg',\n",
       "   'http://aprilskin.com/web/product/extra/small/201807/581_shop1_15329439541405.png',\n",
       "   'http://aprilskin.com/web/product/extra/small/201807/581_shop1_15329439573129.png'],\n",
       "  'category': 'categoryName',\n",
       "  'volume': '',\n",
       "  'salePrice': 5000,\n",
       "  'originalPrice': 7000,\n",
       "  'brand': 'aprilskin',\n",
       "  'url': 'http://aprilskin.com/product/detail.html?product_no=581&cate_no=54&display_group=1',\n",
       "  'color': ''}]"
      ]
     },
     "metadata": {},
     "output_type": "display_data"
    },
    {
     "data": {
      "text/plain": [
       "[{'name': '클리어 피치 데오 티슈',\n",
       "  'image': ['http://aprilskin.com/web/product/small/201803/690_shop1_606577.png',\n",
       "   'http://aprilskin.com/web/product/extra/small/201807/690_shop1_15329389297596.png'],\n",
       "  'category': 'categoryName',\n",
       "  'volume': '',\n",
       "  'salePrice': 5500,\n",
       "  'originalPrice': 7000,\n",
       "  'brand': 'aprilskin',\n",
       "  'url': 'http://aprilskin.com/product/detail.html?product_no=690&cate_no=54&display_group=1',\n",
       "  'color': ''}]"
      ]
     },
     "metadata": {},
     "output_type": "display_data"
    },
    {
     "data": {
      "text/plain": [
       "[{'name': '프레쉬 자몽 데오 티슈',\n",
       "  'image': ['http://aprilskin.com/web/product/small/201705/507_shop1_518416.jpg',\n",
       "   'http://aprilskin.com/web/product/extra/small/201807/507_shop1_15329389556897.png'],\n",
       "  'category': 'categoryName',\n",
       "  'volume': '',\n",
       "  'salePrice': 4900,\n",
       "  'originalPrice': 4900,\n",
       "  'brand': 'aprilskin',\n",
       "  'url': 'http://aprilskin.com/product/detail.html?product_no=507&cate_no=54&display_group=1',\n",
       "  'color': ''}]"
      ]
     },
     "metadata": {},
     "output_type": "display_data"
    },
    {
     "data": {
      "text/plain": [
       "[{'name': '3단 컬링 업 뷰러',\n",
       "  'image': ['http://aprilskin.com/web/product/small/201711/580_shop1_854663.jpg',\n",
       "   'http://aprilskin.com/web/product/extra/small/201807/580_shop1_15329439706416.png',\n",
       "   'http://aprilskin.com/web/product/extra/small/201807/580_shop1_1532943973861.png',\n",
       "   'http://aprilskin.com/web/product/extra/small/201807/580_shop1_15329449693648.png'],\n",
       "  'category': 'categoryName',\n",
       "  'volume': '',\n",
       "  'salePrice': 6900,\n",
       "  'originalPrice': 9000,\n",
       "  'brand': 'aprilskin',\n",
       "  'url': 'http://aprilskin.com/product/detail.html?product_no=580&cate_no=54&display_group=1',\n",
       "  'color': ''}]"
      ]
     },
     "metadata": {},
     "output_type": "display_data"
    },
    {
     "data": {
      "text/plain": [
       "[{'name': '턴업 도구 세트',\n",
       "  'image': ['http://aprilskin.com/web/product/small/201707/535_shop1_268545.jpg',\n",
       "   'http://aprilskin.com/web/product/extra/small/201807/535_shop1_15329449242144.png'],\n",
       "  'category': 'categoryName',\n",
       "  'volume': '',\n",
       "  'salePrice': 3900,\n",
       "  'originalPrice': 3900,\n",
       "  'brand': 'aprilskin',\n",
       "  'url': 'http://aprilskin.com/product/detail.html?product_no=535&cate_no=54&display_group=1',\n",
       "  'color': ''}]"
      ]
     },
     "metadata": {},
     "output_type": "display_data"
    },
    {
     "data": {
      "text/plain": [
       "[{'name': '올 킬 모공 브러쉬',\n",
       "  'image': ['http://aprilskin.com/web/product/small/201705/508_shop1_525978.jpg',\n",
       "   'http://aprilskin.com/web/product/extra/small/201807/508_shop1_15329439887798.png',\n",
       "   'http://aprilskin.com/web/product/extra/small/201807/508_shop1_15329439920758.png',\n",
       "   'http://aprilskin.com/web/product/extra/small/201807/508_shop1_1532943995406.png'],\n",
       "  'category': 'categoryName',\n",
       "  'volume': '',\n",
       "  'salePrice': 12000,\n",
       "  'originalPrice': 15000,\n",
       "  'brand': 'aprilskin',\n",
       "  'url': 'http://aprilskin.com/product/detail.html?product_no=508&cate_no=54&display_group=1',\n",
       "  'color': ''}]"
      ]
     },
     "metadata": {},
     "output_type": "display_data"
    },
    {
     "data": {
      "text/plain": [
       "[{'name': '핑크미러',\n",
       "  'image': ['http://aprilskin.com/web/product/small/201607/142_shop1_247126.jpg',\n",
       "   'http://aprilskin.com/web/product/extra/small/201807/142_shop1_15329444733817.png',\n",
       "   'http://aprilskin.com/web/product/extra/small/201807/142_shop1_1532944477349.png'],\n",
       "  'category': 'categoryName',\n",
       "  'volume': '',\n",
       "  'salePrice': 6000,\n",
       "  'originalPrice': 10000,\n",
       "  'brand': 'aprilskin',\n",
       "  'url': 'http://aprilskin.com/product/detail.html?product_no=142&cate_no=54&display_group=1',\n",
       "  'color': ''}]"
      ]
     },
     "metadata": {},
     "output_type": "display_data"
    },
    {
     "data": {
      "text/plain": [
       "[{'name': 'BTTN 블루 미네랄 라인 (복합성)',\n",
       "  'image': ['http://aprilskin.com/web/product/small/201711/616_shop1_719280.jpg',\n",
       "   'http://aprilskin.com/web/product/extra/small/201807/616_shop1_15329284095528.png',\n",
       "   'http://aprilskin.com/web/product/extra/small/201807/616_shop1_15329284123215.png',\n",
       "   'http://aprilskin.com/web/product/extra/small/201807/616_shop1_15329284152453.png'],\n",
       "  'category': 'categoryName',\n",
       "  'volume': '',\n",
       "  'salePrice': 15000,\n",
       "  'originalPrice': 25000,\n",
       "  'brand': 'aprilskin',\n",
       "  'url': 'http://aprilskin.com/product/detail.html?product_no=616&cate_no=51&display_group=1',\n",
       "  'color': ''}]"
      ]
     },
     "metadata": {},
     "output_type": "display_data"
    },
    {
     "data": {
      "text/plain": [
       "[{'name': 'BTTN 그린 에센스 라인 (건성용)',\n",
       "  'image': ['http://aprilskin.com/web/product/small/201812/3307e4d99835d1c8c310c36c11fc81ee.jpg',\n",
       "   'http://aprilskin.com/web/product/extra/small/201807/615_shop1_15329283913653.png',\n",
       "   'http://aprilskin.com/web/product/extra/small/201807/615_shop1_15329283949151.png',\n",
       "   'http://aprilskin.com/web/product/extra/small/201807/615_shop1_15329283978573.png'],\n",
       "  'category': 'categoryName',\n",
       "  'volume': '',\n",
       "  'salePrice': 15000,\n",
       "  'originalPrice': 25000,\n",
       "  'brand': 'aprilskin',\n",
       "  'url': 'http://aprilskin.com/product/detail.html?product_no=615&cate_no=51&display_group=1',\n",
       "  'color': ''}]"
      ]
     },
     "metadata": {},
     "output_type": "display_data"
    },
    {
     "data": {
      "text/plain": [
       "[{'name': '[폼클렌저 증정] 리얼 카렌둘라 수분 필링 3종 SET',\n",
       "  'image': ['http://aprilskin.com/web/product/small/201812/30d2bf57d81d4996fe28260fe20b5378.jpg',\n",
       "   'http://aprilskin.com/web/product/extra/small/201809/cbc285d1d83a081174a15422f4f6afc4.png',\n",
       "   'http://aprilskin.com/web/product/extra/small/201809/c6c255b6f903eeca32dfb2477a4a2626.jpg',\n",
       "   'http://aprilskin.com/web/product/extra/small/201809/4063564f49d92b6ed9449dcfd3267562.jpg'],\n",
       "  'category': 'categoryName',\n",
       "  'volume': '',\n",
       "  'salePrice': 53000,\n",
       "  'originalPrice': 88000,\n",
       "  'brand': 'aprilskin',\n",
       "  'url': 'http://aprilskin.com/product/detail.html?product_no=876&cate_no=51&display_group=1',\n",
       "  'color': ''}]"
      ]
     },
     "metadata": {},
     "output_type": "display_data"
    },
    {
     "data": {
      "text/plain": [
       "[{'name': '[슬림핏퍼프증정] 퍼펙트 커버 핏 듀오',\n",
       "  'image': ['http://aprilskin.com/web/product/small/201812/240dae8f12334120cbea5598c4c15264.jpg',\n",
       "   'http://aprilskin.com/web/product/extra/small/201808/148ca3131d5a1ddec17f1d407228a646.jpg',\n",
       "   'http://aprilskin.com/web/product/extra/small/201808/6af2c9b753830b24a7f4c490a7f2e202.jpg',\n",
       "   'http://aprilskin.com/web/product/extra/small/201808/393b4d784a88070fe8de9391dd81f40e.jpg'],\n",
       "  'category': 'categoryName',\n",
       "  'volume': '',\n",
       "  'salePrice': 49000,\n",
       "  'originalPrice': 67000,\n",
       "  'brand': 'aprilskin',\n",
       "  'url': 'http://aprilskin.com/product/detail.html?product_no=854&cate_no=51&display_group=1',\n",
       "  'color': '21호 라이트베이지'},\n",
       " {'name': '[슬림핏퍼프증정] 퍼펙트 커버 핏 듀오',\n",
       "  'image': ['http://aprilskin.com/web/product/small/201812/240dae8f12334120cbea5598c4c15264.jpg',\n",
       "   'http://aprilskin.com/web/product/extra/small/201808/148ca3131d5a1ddec17f1d407228a646.jpg',\n",
       "   'http://aprilskin.com/web/product/extra/small/201808/6af2c9b753830b24a7f4c490a7f2e202.jpg',\n",
       "   'http://aprilskin.com/web/product/extra/small/201808/393b4d784a88070fe8de9391dd81f40e.jpg'],\n",
       "  'category': 'categoryName',\n",
       "  'volume': '',\n",
       "  'salePrice': 49000,\n",
       "  'originalPrice': 67000,\n",
       "  'brand': 'aprilskin',\n",
       "  'url': 'http://aprilskin.com/product/detail.html?product_no=854&cate_no=51&display_group=1',\n",
       "  'color': '22호 핑크베이지'},\n",
       " {'name': '[슬림핏퍼프증정] 퍼펙트 커버 핏 듀오',\n",
       "  'image': ['http://aprilskin.com/web/product/small/201812/240dae8f12334120cbea5598c4c15264.jpg',\n",
       "   'http://aprilskin.com/web/product/extra/small/201808/148ca3131d5a1ddec17f1d407228a646.jpg',\n",
       "   'http://aprilskin.com/web/product/extra/small/201808/6af2c9b753830b24a7f4c490a7f2e202.jpg',\n",
       "   'http://aprilskin.com/web/product/extra/small/201808/393b4d784a88070fe8de9391dd81f40e.jpg'],\n",
       "  'category': 'categoryName',\n",
       "  'volume': '',\n",
       "  'salePrice': 49000,\n",
       "  'originalPrice': 67000,\n",
       "  'brand': 'aprilskin',\n",
       "  'url': 'http://aprilskin.com/product/detail.html?product_no=854&cate_no=51&display_group=1',\n",
       "  'color': '23호 내추럴베이지'}]"
      ]
     },
     "metadata": {},
     "output_type": "display_data"
    },
    {
     "data": {
      "text/plain": [
       "[{'name': '매직스노우쿠션 3.0 SET (본품+리필)',\n",
       "  'image': ['http://aprilskin.com/web/product/small/201812/681496f231337d821180832eb597520f.jpg',\n",
       "   'http://aprilskin.com/web/product/extra/small/201809/045cd6ff8882c77593d58143d078f505.jpg',\n",
       "   'http://aprilskin.com/web/product/extra/small/201809/60d1158883513f6b7334b15641e367d0.jpg'],\n",
       "  'category': 'categoryName',\n",
       "  'volume': '',\n",
       "  'salePrice': 39000,\n",
       "  'originalPrice': 51000,\n",
       "  'brand': 'aprilskin',\n",
       "  'url': 'http://aprilskin.com/product/detail.html?product_no=846&cate_no=51&display_group=1',\n",
       "  'color': '21 라이트베이지'},\n",
       " {'name': '매직스노우쿠션 3.0 SET (본품+리필)',\n",
       "  'image': ['http://aprilskin.com/web/product/small/201812/681496f231337d821180832eb597520f.jpg',\n",
       "   'http://aprilskin.com/web/product/extra/small/201809/045cd6ff8882c77593d58143d078f505.jpg',\n",
       "   'http://aprilskin.com/web/product/extra/small/201809/60d1158883513f6b7334b15641e367d0.jpg'],\n",
       "  'category': 'categoryName',\n",
       "  'volume': '',\n",
       "  'salePrice': 39000,\n",
       "  'originalPrice': 51000,\n",
       "  'brand': 'aprilskin',\n",
       "  'url': 'http://aprilskin.com/product/detail.html?product_no=846&cate_no=51&display_group=1',\n",
       "  'color': '22 핑크베이지'},\n",
       " {'name': '매직스노우쿠션 3.0 SET (본품+리필)',\n",
       "  'image': ['http://aprilskin.com/web/product/small/201812/681496f231337d821180832eb597520f.jpg',\n",
       "   'http://aprilskin.com/web/product/extra/small/201809/045cd6ff8882c77593d58143d078f505.jpg',\n",
       "   'http://aprilskin.com/web/product/extra/small/201809/60d1158883513f6b7334b15641e367d0.jpg'],\n",
       "  'category': 'categoryName',\n",
       "  'volume': '',\n",
       "  'salePrice': 39000,\n",
       "  'originalPrice': 51000,\n",
       "  'brand': 'aprilskin',\n",
       "  'url': 'http://aprilskin.com/product/detail.html?product_no=846&cate_no=51&display_group=1',\n",
       "  'color': '23 내추럴베이지'}]"
      ]
     },
     "metadata": {},
     "output_type": "display_data"
    },
    {
     "data": {
      "text/plain": [
       "[{'name': '[리필증정] 퍼펙트 매직 커버프루프 쿠션',\n",
       "  'image': ['http://aprilskin.com/web/product/small/201901/4481f3f10ba3e836dda0ded8e18dd811.jpg',\n",
       "   'http://aprilskin.com/web/product/extra/small/201807/742_shop1_15312923924746.png',\n",
       "   'http://aprilskin.com/web/product/extra/small/201807/742_shop1_15312923928385.png',\n",
       "   'http://aprilskin.com/web/product/extra/small/201807/742_shop1_15312923931317.png'],\n",
       "  'category': 'categoryName',\n",
       "  'volume': '',\n",
       "  'salePrice': 29000,\n",
       "  'originalPrice': 34000,\n",
       "  'brand': 'aprilskin',\n",
       "  'url': 'http://aprilskin.com/product/detail.html?product_no=742&cate_no=51&display_group=1',\n",
       "  'color': ''}]"
      ]
     },
     "metadata": {},
     "output_type": "display_data"
    },
    {
     "data": {
      "text/plain": [
       "[{'name': '[리필증정] [픽싱쿠션] 매직스노우 픽싱파운데이션',\n",
       "  'image': ['http://aprilskin.com/web/product/small/201812/8c132eb0d11c3f22cb241c9eea44566d.jpg',\n",
       "   'http://aprilskin.com/web/product/extra/small/201807/201_shop1_15329324733038.png',\n",
       "   'http://aprilskin.com/web/product/extra/small/201807/201_shop1_15329324769765.png'],\n",
       "  'category': 'categoryName',\n",
       "  'volume': '',\n",
       "  'salePrice': 15000,\n",
       "  'originalPrice': 34000,\n",
       "  'brand': 'aprilskin',\n",
       "  'url': 'http://aprilskin.com/product/detail.html?product_no=201&cate_no=51&display_group=1',\n",
       "  'color': '픽싱쿠션 21호 라이트 베이지 '},\n",
       " {'name': '[리필증정] [픽싱쿠션] 매직스노우 픽싱파운데이션',\n",
       "  'image': ['http://aprilskin.com/web/product/small/201812/8c132eb0d11c3f22cb241c9eea44566d.jpg',\n",
       "   'http://aprilskin.com/web/product/extra/small/201807/201_shop1_15329324733038.png',\n",
       "   'http://aprilskin.com/web/product/extra/small/201807/201_shop1_15329324769765.png'],\n",
       "  'category': 'categoryName',\n",
       "  'volume': '',\n",
       "  'salePrice': 15000,\n",
       "  'originalPrice': 34000,\n",
       "  'brand': 'aprilskin',\n",
       "  'url': 'http://aprilskin.com/product/detail.html?product_no=201&cate_no=51&display_group=1',\n",
       "  'color': '픽싱쿠션 22호 핑크 베이지'},\n",
       " {'name': '[리필증정] [픽싱쿠션] 매직스노우 픽싱파운데이션',\n",
       "  'image': ['http://aprilskin.com/web/product/small/201812/8c132eb0d11c3f22cb241c9eea44566d.jpg',\n",
       "   'http://aprilskin.com/web/product/extra/small/201807/201_shop1_15329324733038.png',\n",
       "   'http://aprilskin.com/web/product/extra/small/201807/201_shop1_15329324769765.png'],\n",
       "  'category': 'categoryName',\n",
       "  'volume': '',\n",
       "  'salePrice': 15000,\n",
       "  'originalPrice': 34000,\n",
       "  'brand': 'aprilskin',\n",
       "  'url': 'http://aprilskin.com/product/detail.html?product_no=201&cate_no=51&display_group=1',\n",
       "  'color': '픽싱쿠션 23호 내추럴 베이지'}]"
      ]
     },
     "metadata": {},
     "output_type": "display_data"
    },
    {
     "data": {
      "text/plain": [
       "[{'name': '[리필증정] 매직스노우쿠션2.0',\n",
       "  'image': ['http://aprilskin.com/web/product/small/201812/260f0daec26112ca8327fe50895b9dac.jpg',\n",
       "   'http://aprilskin.com/web/product/extra/small/201807/286_shop1_15329323312456.png',\n",
       "   'http://aprilskin.com/web/product/extra/small/201807/286_shop1_15329323327213.png'],\n",
       "  'category': 'categoryName',\n",
       "  'volume': '',\n",
       "  'salePrice': 15000,\n",
       "  'originalPrice': 33000,\n",
       "  'brand': 'aprilskin',\n",
       "  'url': 'http://aprilskin.com/product/detail.html?product_no=286&cate_no=51&display_group=1',\n",
       "  'color': '21 라이트베이지 '},\n",
       " {'name': '[리필증정] 매직스노우쿠션2.0',\n",
       "  'image': ['http://aprilskin.com/web/product/small/201812/260f0daec26112ca8327fe50895b9dac.jpg',\n",
       "   'http://aprilskin.com/web/product/extra/small/201807/286_shop1_15329323312456.png',\n",
       "   'http://aprilskin.com/web/product/extra/small/201807/286_shop1_15329323327213.png'],\n",
       "  'category': 'categoryName',\n",
       "  'volume': '',\n",
       "  'salePrice': 15000,\n",
       "  'originalPrice': 33000,\n",
       "  'brand': 'aprilskin',\n",
       "  'url': 'http://aprilskin.com/product/detail.html?product_no=286&cate_no=51&display_group=1',\n",
       "  'color': '22 핑크베이지 '},\n",
       " {'name': '[리필증정] 매직스노우쿠션2.0',\n",
       "  'image': ['http://aprilskin.com/web/product/small/201812/260f0daec26112ca8327fe50895b9dac.jpg',\n",
       "   'http://aprilskin.com/web/product/extra/small/201807/286_shop1_15329323312456.png',\n",
       "   'http://aprilskin.com/web/product/extra/small/201807/286_shop1_15329323327213.png'],\n",
       "  'category': 'categoryName',\n",
       "  'volume': '',\n",
       "  'salePrice': 15000,\n",
       "  'originalPrice': 33000,\n",
       "  'brand': 'aprilskin',\n",
       "  'url': 'http://aprilskin.com/product/detail.html?product_no=286&cate_no=51&display_group=1',\n",
       "  'color': '23 내추럴베이지'}]"
      ]
     },
     "metadata": {},
     "output_type": "display_data"
    },
    {
     "data": {
      "text/plain": [
       "[{'name': '매직 에센스 샤워쿠션 SET(본품1+리필2)',\n",
       "  'image': ['http://aprilskin.com/web/product/small/201901/6c489117512a5941cf6090ffdb542c14.jpg'],\n",
       "  'category': 'categoryName',\n",
       "  'volume': '',\n",
       "  'salePrice': 45000,\n",
       "  'originalPrice': 63000,\n",
       "  'brand': 'aprilskin',\n",
       "  'url': 'http://aprilskin.com/product/detail.html?product_no=714&cate_no=51&display_group=1',\n",
       "  'color': ''}]"
      ]
     },
     "metadata": {},
     "output_type": "display_data"
    },
    {
     "data": {
      "text/plain": [
       "[{'name': '퍼펙트 매직 커버 듀얼 쿠션 SET (본품+리필)',\n",
       "  'image': ['http://aprilskin.com/web/product/small/201812/4fd6cebe0c1cde51d2212816f7e356d4.jpg',\n",
       "   'http://aprilskin.com/web/product/extra/small/201807/757_shop1_1531292710642.png',\n",
       "   'http://aprilskin.com/web/product/extra/small/201807/757_shop1_1531292717725.png',\n",
       "   'http://aprilskin.com/web/product/extra/small/201807/757_shop1_15312927238111.png'],\n",
       "  'category': 'categoryName',\n",
       "  'volume': '',\n",
       "  'salePrice': 48000,\n",
       "  'originalPrice': 62000,\n",
       "  'brand': 'aprilskin',\n",
       "  'url': 'http://aprilskin.com/product/detail.html?product_no=757&cate_no=51&display_group=1',\n",
       "  'color': ''}]"
      ]
     },
     "metadata": {},
     "output_type": "display_data"
    },
    {
     "data": {
      "text/plain": [
       "[{'name': '퍼펙트 매직 커버 핏 쿠션 SET(본품+리필)',\n",
       "  'image': ['http://aprilskin.com/web/product/small/201812/258bd919179ae4b4f4f513908d9a8bd8.jpg',\n",
       "   'http://aprilskin.com/web/product/extra/small/201807/587_shop1_15329316377249.png',\n",
       "   'http://aprilskin.com/web/product/extra/small/201807/587_shop1_15329316403781.png',\n",
       "   'http://aprilskin.com/web/product/extra/small/201807/587_shop1_15329316465325.png'],\n",
       "  'category': 'categoryName',\n",
       "  'volume': '',\n",
       "  'salePrice': 39500,\n",
       "  'originalPrice': 52000,\n",
       "  'brand': 'aprilskin',\n",
       "  'url': 'http://aprilskin.com/product/detail.html?product_no=587&cate_no=51&display_group=1',\n",
       "  'color': '21호 라이트베이지 '},\n",
       " {'name': '퍼펙트 매직 커버 핏 쿠션 SET(본품+리필)',\n",
       "  'image': ['http://aprilskin.com/web/product/small/201812/258bd919179ae4b4f4f513908d9a8bd8.jpg',\n",
       "   'http://aprilskin.com/web/product/extra/small/201807/587_shop1_15329316377249.png',\n",
       "   'http://aprilskin.com/web/product/extra/small/201807/587_shop1_15329316403781.png',\n",
       "   'http://aprilskin.com/web/product/extra/small/201807/587_shop1_15329316465325.png'],\n",
       "  'category': 'categoryName',\n",
       "  'volume': '',\n",
       "  'salePrice': 39500,\n",
       "  'originalPrice': 52000,\n",
       "  'brand': 'aprilskin',\n",
       "  'url': 'http://aprilskin.com/product/detail.html?product_no=587&cate_no=51&display_group=1',\n",
       "  'color': '22호 핑크베이지 '},\n",
       " {'name': '퍼펙트 매직 커버 핏 쿠션 SET(본품+리필)',\n",
       "  'image': ['http://aprilskin.com/web/product/small/201812/258bd919179ae4b4f4f513908d9a8bd8.jpg',\n",
       "   'http://aprilskin.com/web/product/extra/small/201807/587_shop1_15329316377249.png',\n",
       "   'http://aprilskin.com/web/product/extra/small/201807/587_shop1_15329316403781.png',\n",
       "   'http://aprilskin.com/web/product/extra/small/201807/587_shop1_15329316465325.png'],\n",
       "  'category': 'categoryName',\n",
       "  'volume': '',\n",
       "  'salePrice': 39500,\n",
       "  'originalPrice': 52000,\n",
       "  'brand': 'aprilskin',\n",
       "  'url': 'http://aprilskin.com/product/detail.html?product_no=587&cate_no=51&display_group=1',\n",
       "  'color': '23호 내추럴베이지'}]"
      ]
     },
     "metadata": {},
     "output_type": "display_data"
    },
    {
     "data": {
      "text/plain": [
       "[{'name': '자외선 완벽차단 세트',\n",
       "  'image': ['http://aprilskin.com/web/product/small/201707/533_shop1_681944.jpg',\n",
       "   'http://aprilskin.com/web/product/extra/small/201807/533_shop1_15329451009137.png',\n",
       "   'http://aprilskin.com/web/product/extra/small/201807/533_shop1_15329451079409.png',\n",
       "   'http://aprilskin.com/web/product/extra/small/201807/533_shop1_15329451125253.png',\n",
       "   'http://aprilskin.com/web/product/extra/small/201807/533_shop1_15329451184109.png'],\n",
       "  'category': 'categoryName',\n",
       "  'volume': '',\n",
       "  'salePrice': 35000,\n",
       "  'originalPrice': 49000,\n",
       "  'brand': 'aprilskin',\n",
       "  'url': 'http://aprilskin.com/product/detail.html?product_no=533&cate_no=51&display_group=1',\n",
       "  'color': ''}]"
      ]
     },
     "metadata": {},
     "output_type": "display_data"
    },
    {
     "data": {
      "text/plain": [
       "[{'name': '모공 청소 세트',\n",
       "  'image': ['http://aprilskin.com/web/product/small/201705/509_shop1_153409.jpg',\n",
       "   'http://aprilskin.com/web/product/extra/small/201807/509_shop1_15329453469087.png',\n",
       "   'http://aprilskin.com/web/product/extra/small/201807/509_shop1_15329453523237.png',\n",
       "   'http://aprilskin.com/web/product/extra/small/201807/509_shop1_1532945359121.png',\n",
       "   'http://aprilskin.com/web/product/extra/small/201807/509_shop1_15329453749626.jpg'],\n",
       "  'category': 'categoryName',\n",
       "  'volume': '',\n",
       "  'salePrice': 24000,\n",
       "  'originalPrice': 27000,\n",
       "  'brand': 'aprilskin',\n",
       "  'url': 'http://aprilskin.com/product/detail.html?product_no=509&cate_no=51&display_group=1',\n",
       "  'color': ''}]"
      ]
     },
     "metadata": {},
     "output_type": "display_data"
    },
    {
     "data": {
      "text/plain": [
       "[{'name': '[픽싱쿠션] 매직스노우 픽싱파운데이션 SET(본품+리필)',\n",
       "  'image': ['http://aprilskin.com/web/product/small/201803/253_shop1_272644.png'],\n",
       "  'category': 'categoryName',\n",
       "  'volume': '',\n",
       "  'salePrice': 39500,\n",
       "  'originalPrice': 52000,\n",
       "  'brand': 'aprilskin',\n",
       "  'url': 'http://aprilskin.com/product/detail.html?product_no=253&cate_no=51&display_group=1',\n",
       "  'color': ''}]"
      ]
     },
     "metadata": {},
     "output_type": "display_data"
    },
    {
     "data": {
      "text/plain": [
       "[{'name': '퍼펙트 매직 커버 핏 쿠션 2.0 SET(본품+리필)',\n",
       "  'image': ['http://aprilskin.com/web/product/small/201812/0363b034005ea85ee79ae330d7fbfdd7.jpg'],\n",
       "  'category': 'categoryName',\n",
       "  'volume': '',\n",
       "  'salePrice': 39500,\n",
       "  'originalPrice': 52000,\n",
       "  'brand': 'aprilskin',\n",
       "  'url': 'http://aprilskin.com/product/detail.html?product_no=821&cate_no=51&display_group=1',\n",
       "  'color': ''}]"
      ]
     },
     "metadata": {},
     "output_type": "display_data"
    }
   ],
   "source": [
    "driver.get(url_products)\n",
    "result=[]\n",
    "\n",
    "categoryList, categoryNameList = getCategoryList()\n",
    "for c,category in enumerate(categoryList):\n",
    "    driver.get(category)\n",
    "    categoryName = categoryNameList[c]\n",
    "    itemList = getItemList()\n",
    "    for item in itemList:\n",
    "        driver.get(item)\n",
    "        result += getItem(categoryName)\n"
   ]
  },
  {
   "cell_type": "code",
   "execution_count": 36,
   "metadata": {},
   "outputs": [],
   "source": [
    "output = json.dumps(result,ensure_ascii=False, indent='\\t')\n",
    "\n",
    "writeJSON(output, output_name = 'aprilskin.json')"
   ]
  },
  {
   "cell_type": "code",
   "execution_count": null,
   "metadata": {},
   "outputs": [],
   "source": []
  }
 ],
 "metadata": {
  "kernelspec": {
   "display_name": "Python 3",
   "language": "python",
   "name": "python3"
  },
  "language_info": {
   "codemirror_mode": {
    "name": "ipython",
    "version": 3
   },
   "file_extension": ".py",
   "mimetype": "text/x-python",
   "name": "python",
   "nbconvert_exporter": "python",
   "pygments_lexer": "ipython3",
   "version": "3.7.0"
  }
 },
 "nbformat": 4,
 "nbformat_minor": 2
}
