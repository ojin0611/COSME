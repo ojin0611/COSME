{
 "cells": [
  {
   "cell_type": "markdown",
   "metadata": {},
   "source": [
    "# etudehouse"
   ]
  },
  {
   "cell_type": "code",
   "execution_count": 106,
   "metadata": {},
   "outputs": [],
   "source": [
    "from bs4 import BeautifulSoup as bs              # 데이터파싱 라이브러리\n",
    "from selenium import webdriver\n",
    "import json\n",
    "import platform\n",
    "import re\n",
    "import time\n",
    "import copy\n",
    "from selenium.webdriver.support.ui import WebDriverWait"
   ]
  },
  {
   "cell_type": "code",
   "execution_count": 107,
   "metadata": {},
   "outputs": [],
   "source": [
    "def getNumber(string):\n",
    "    numExtracter = re.compile('[0-9]+')\n",
    "    return int(''.join(numExtracter.findall(string)))\n",
    "    "
   ]
  },
  {
   "cell_type": "code",
   "execution_count": 108,
   "metadata": {},
   "outputs": [],
   "source": [
    "def getCategoryList(url_products):\n",
    "    driver.get(url_products)\n",
    "    html = driver.page_source\n",
    "    soup = bs(html,'html.parser')\n",
    "    categories = soup.find('dl',{'class':'focus_target'}).dd.ul.find_all('li')\n",
    "    categoryList = [url_home + category.a['href'] for category in categories]\n",
    "    categoryNameList = [category.a.get_text() for category in categories]\n",
    "    return categoryList, categoryNameList\n"
   ]
  },
  {
   "cell_type": "code",
   "execution_count": 109,
   "metadata": {},
   "outputs": [],
   "source": [
    "def clickNextPage():\n",
    "    html = driver.page_source\n",
    "    soup = bs(html,'html.parser')\n",
    "    nextPage = soup.find('a',{'class':'navi next'})\n",
    "    if nextPage:\n",
    "        driver.find_element_by_link_text('next page').click()\n",
    "    else:\n",
    "        raise"
   ]
  },
  {
   "cell_type": "code",
   "execution_count": 110,
   "metadata": {},
   "outputs": [],
   "source": [
    "def getItemList():\n",
    "    html = driver.page_source\n",
    "    soup = bs(html,'html.parser')\n",
    "    items = soup.find('div',{'class':'item_list column2'}).find_all('div',{'class':'item item-apply'})\n",
    "    itemList = [url_home + item.find('div',{'class':'item_images'}).a['href'] for item in items]\n",
    "    return itemList"
   ]
  },
  {
   "cell_type": "code",
   "execution_count": 117,
   "metadata": {},
   "outputs": [],
   "source": [
    "def getItem(categoryName):\n",
    "    html = driver.page_source\n",
    "    soup = bs(html, 'html.parser')\n",
    "\n",
    "    name = soup.find('h3',{'class':'h_title'}).get_text().strip()\n",
    "    images = soup.find('div',{'class':'prd_thm_wrap preview_thumbs'}).find_all('img')\n",
    "    imageList = [image['src'] for image in images]\n",
    "    category = categoryName\n",
    "    volume = soup.find('th',text='용량')\n",
    "    volume = volume.parent.td.get_text() if volume else '#'\n",
    "    originalPrice = getNumber(soup.find('span',{'class':'price'}).get_text())\n",
    "    salePrice = originalPrice\n",
    "    brand = 'etudehouse'\n",
    "    url = driver.current_url\n",
    "    colors = soup.find('button',text='옵션선택')\n",
    "    if colors: \n",
    "        image_colors = colors.parent.find_all('img')\n",
    "        image_colorList = [image_color['src'] for image_color in image_colors] if image_colors else []\n",
    "    colors = colors.parent.ul.find_all('code') if colors else '#'\n",
    "    colorList = [color.get_text().strip() for color in colors] if colors != '#' else '#'\n",
    "    pd_type = soup.find('th',text='제품 주요 사양 - 피부타입, 색상(호,번)등')\n",
    "    pd_type = pd_type.parent.td.get_text() if pd_type else '#'\n",
    "    \n",
    "    \n",
    "    item = {'name':'#', 'url':'#', 'image':'#', 'color':'#', 'category':'#', \n",
    "                   'salePrice':'#', 'originalPrice':'#', 'brand':'#','volume':'#','type':'#'}\n",
    "    item['name']=name\n",
    "    item['image']=imageList\n",
    "    item['category']=category\n",
    "    item['volume']=volume\n",
    "    item['originalPrice']=originalPrice\n",
    "    item['salePrice']=salePrice\n",
    "    item['brand']=brand\n",
    "    item['url']=url\n",
    "    item['type']=pd_type\n",
    "\n",
    "    items = []\n",
    "    if colorList != '#':\n",
    "        for co, color in enumerate(colorList):\n",
    "            item_copy = copy.deepcopy(item)\n",
    "            item_copy['color'] = color\n",
    "            if image_colorList:\n",
    "                item_copy['image'].append(image_colorList[co])\n",
    "            items.append(item_copy)\n",
    "    else:\n",
    "        items.append(item)\n",
    "    display(items)\n",
    "    return items"
   ]
  },
  {
   "cell_type": "code",
   "execution_count": 112,
   "metadata": {},
   "outputs": [],
   "source": [
    "def writeJSON(jsonString, output_name='data.json'):\n",
    "    with open(output_name,'w',encoding='UTF-8') as file:\n",
    "        file.write(jsonString)\n"
   ]
  },
  {
   "cell_type": "code",
   "execution_count": 120,
   "metadata": {},
   "outputs": [],
   "source": [
    "path = 'chromedriver.exe' if (platform.system() == 'Windows') else '/Users/jg/Desktop/develop/DataTeam/DataProcessing/product/crawling/chromedriver';\n",
    "driver = webdriver.Chrome(path)\n",
    "\n",
    "url_home = 'https://www.etudehouse.com'\n",
    "url_products = 'https://www.etudehouse.com/kr/ko/main'"
   ]
  },
  {
   "cell_type": "code",
   "execution_count": 121,
   "metadata": {},
   "outputs": [
    {
     "name": "stdout",
     "output_type": "stream",
     "text": [
      "상품 개수 : 79\n"
     ]
    },
    {
     "ename": "IndexError",
     "evalue": "list index out of range",
     "output_type": "error",
     "traceback": [
      "\u001b[1;31m---------------------------------------------------------------------------\u001b[0m",
      "\u001b[1;31mIndexError\u001b[0m                                Traceback (most recent call last)",
      "\u001b[1;32m<ipython-input-121-4b2c51dd26b5>\u001b[0m in \u001b[0;36m<module>\u001b[1;34m()\u001b[0m\n\u001b[0;32m     24\u001b[0m     \u001b[1;32mfor\u001b[0m \u001b[0mitem\u001b[0m \u001b[1;32min\u001b[0m \u001b[0mitemList\u001b[0m\u001b[1;33m:\u001b[0m\u001b[1;33m\u001b[0m\u001b[0m\n\u001b[0;32m     25\u001b[0m         \u001b[0mdriver\u001b[0m\u001b[1;33m.\u001b[0m\u001b[0mget\u001b[0m\u001b[1;33m(\u001b[0m\u001b[0mitem\u001b[0m\u001b[1;33m)\u001b[0m\u001b[1;33m\u001b[0m\u001b[0m\n\u001b[1;32m---> 26\u001b[1;33m         \u001b[0mresult\u001b[0m \u001b[1;33m+=\u001b[0m \u001b[0mgetItem\u001b[0m\u001b[1;33m(\u001b[0m\u001b[0mcategoryName\u001b[0m\u001b[1;33m)\u001b[0m\u001b[1;33m\u001b[0m\u001b[0m\n\u001b[0m\u001b[0;32m     27\u001b[0m \u001b[1;33m\u001b[0m\u001b[0m\n\u001b[0;32m     28\u001b[0m \u001b[1;31m#---------------------------------------------------------------------#\u001b[0m\u001b[1;33m\u001b[0m\u001b[1;33m\u001b[0m\u001b[0m\n",
      "\u001b[1;32m<ipython-input-117-6d567914c689>\u001b[0m in \u001b[0;36mgetItem\u001b[1;34m(categoryName)\u001b[0m\n\u001b[0;32m     40\u001b[0m             \u001b[0mitem_copy\u001b[0m \u001b[1;33m=\u001b[0m \u001b[0mcopy\u001b[0m\u001b[1;33m.\u001b[0m\u001b[0mdeepcopy\u001b[0m\u001b[1;33m(\u001b[0m\u001b[0mitem\u001b[0m\u001b[1;33m)\u001b[0m\u001b[1;33m\u001b[0m\u001b[0m\n\u001b[0;32m     41\u001b[0m             \u001b[0mitem_copy\u001b[0m\u001b[1;33m[\u001b[0m\u001b[1;34m'color'\u001b[0m\u001b[1;33m]\u001b[0m \u001b[1;33m=\u001b[0m \u001b[0mcolor\u001b[0m\u001b[1;33m\u001b[0m\u001b[0m\n\u001b[1;32m---> 42\u001b[1;33m             \u001b[0mitem_copy\u001b[0m\u001b[1;33m[\u001b[0m\u001b[1;34m'image'\u001b[0m\u001b[1;33m]\u001b[0m\u001b[1;33m.\u001b[0m\u001b[0mappend\u001b[0m\u001b[1;33m(\u001b[0m\u001b[0mimage_colorList\u001b[0m\u001b[1;33m[\u001b[0m\u001b[0mco\u001b[0m\u001b[1;33m]\u001b[0m\u001b[1;33m)\u001b[0m\u001b[1;33m\u001b[0m\u001b[0m\n\u001b[0m\u001b[0;32m     43\u001b[0m             \u001b[0mitems\u001b[0m\u001b[1;33m.\u001b[0m\u001b[0mappend\u001b[0m\u001b[1;33m(\u001b[0m\u001b[0mitem_copy\u001b[0m\u001b[1;33m)\u001b[0m\u001b[1;33m\u001b[0m\u001b[0m\n\u001b[0;32m     44\u001b[0m     \u001b[1;32melse\u001b[0m\u001b[1;33m:\u001b[0m\u001b[1;33m\u001b[0m\u001b[0m\n",
      "\u001b[1;31mIndexError\u001b[0m: list index out of range"
     ]
    }
   ],
   "source": [
    "start_time = time.time() \n",
    "#---------------------------------------------------------------------#\n",
    "driver.get(url_products)\n",
    "categoryList, categoryNameList = getCategoryList(url_products)\n",
    "result = []\n",
    "for c, category in enumerate(categoryList):\n",
    "    driver.get(category)\n",
    "    categoryName = categoryNameList[c]\n",
    "    itemList = []\n",
    "    while True:\n",
    "        try:\n",
    "            newItemList = getItemList()\n",
    "            if newItemList[0] not in itemList:\n",
    "                itemList += newItemList\n",
    "                clickNextPage()\n",
    "            else:\n",
    "                time.sleep(2)\n",
    "                continue\n",
    "            \n",
    "        except:\n",
    "            break\n",
    "            \n",
    "    print('상품 개수 :', len(list(set(itemList))))\n",
    "    for item in itemList:\n",
    "        driver.get(item)\n",
    "        result += getItem(categoryName)\n",
    "    \n",
    "#---------------------------------------------------------------------#\n",
    "print(\"--- %0.2f seconds ---\" %(time.time() - start_time))"
   ]
  },
  {
   "cell_type": "code",
   "execution_count": 10,
   "metadata": {},
   "outputs": [],
   "source": [
    "output = json.dumps(result,ensure_ascii=False, indent='\\t')\n",
    "\n",
    "writeJSON(output, output_name = 'etudehouse.json')"
   ]
  },
  {
   "cell_type": "code",
   "execution_count": null,
   "metadata": {},
   "outputs": [],
   "source": []
  }
 ],
 "metadata": {
  "kernelspec": {
   "display_name": "Python 3",
   "language": "python",
   "name": "python3"
  },
  "language_info": {
   "codemirror_mode": {
    "name": "ipython",
    "version": 3
   },
   "file_extension": ".py",
   "mimetype": "text/x-python",
   "name": "python",
   "nbconvert_exporter": "python",
   "pygments_lexer": "ipython3",
   "version": "3.7.0"
  }
 },
 "nbformat": 4,
 "nbformat_minor": 2
}
