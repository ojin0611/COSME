{
 "cells": [
  {
   "cell_type": "markdown",
   "metadata": {},
   "source": [
    "# WOODBURY"
   ]
  },
  {
   "cell_type": "code",
   "execution_count": 1,
   "metadata": {},
   "outputs": [],
   "source": [
    "from bs4 import BeautifulSoup as bs              # 데이터파싱 라이브러리\n",
    "from selenium import webdriver\n",
    "import json\n",
    "import re\n"
   ]
  },
  {
   "cell_type": "code",
   "execution_count": 2,
   "metadata": {},
   "outputs": [],
   "source": [
    "#path = 'chromedriver.exe' # 크롬드라이브 경로 지정  ## 맥과 리눅스는 exe.를 붙이지 않습니다. \n",
    "path = '/Users/jg/Desktop/develop/DataTeam/DataProcessing/product/crawling/chromedriver' # 크롬드라이브 경로 지정  ## 맥과 리눅스는 exe.를 붙이지 않습니다. \n",
    "driver = webdriver.Chrome(path)"
   ]
  },
  {
   "cell_type": "code",
   "execution_count": 3,
   "metadata": {},
   "outputs": [],
   "source": [
    "driver.get(\"http://woodbury.co.kr/\")"
   ]
  },
  {
   "cell_type": "code",
   "execution_count": 4,
   "metadata": {},
   "outputs": [],
   "source": [
    "def writeJSON(jsonString, output_name='data.json'):\n",
    "    with open(output_name,'w',encoding='UTF-8') as file:\n",
    "        file.write(jsonString)\n"
   ]
  },
  {
   "cell_type": "code",
   "execution_count": 5,
   "metadata": {},
   "outputs": [],
   "source": [
    "def getNumber(string):\n",
    "    numExtracter = re.compile('[0-9]+')\n",
    "    return int(''.join(numExtracter.findall(string)))\n",
    "    "
   ]
  },
  {
   "cell_type": "code",
   "execution_count": 6,
   "metadata": {},
   "outputs": [],
   "source": [
    "def getPrdCount(driver):\n",
    "    html = driver.page_source\n",
    "    soup = bs(html,'lxml')\n",
    "    prdCount = soup.find('p',{'class':'prdCount'})\n",
    "    \n",
    "    return getNumber(prdCount.get_text())\n",
    "    "
   ]
  },
  {
   "cell_type": "code",
   "execution_count": 7,
   "metadata": {},
   "outputs": [],
   "source": [
    "def getItems(category, categoryname):\n",
    "    driver.find_element_by_id(category).click()\n",
    "    \n",
    "    productsImages = driver.find_elements_by_class_name('prdImg')\n",
    "    total_len = len(productsImages)\n",
    "    prdCount = getPrdCount(driver)\n",
    "    \n",
    "    result_json = []\n",
    "    \n",
    "    for i in range(total_len - prdCount, total_len):\n",
    "        result_dict = {'name':'', 'url':'', 'image':'', 'salePrice':'', 'originalPrice':'', 'color':'', \n",
    "                       'category':categoryname, 'brand':'우드버리'}\n",
    "        productsImages = driver.find_elements_by_class_name('prdImg')\n",
    "        productsImages[i].click()\n",
    "\n",
    "        html = driver.page_source\n",
    "        soup = bs(html,'lxml')\n",
    "\n",
    "        # 상품명, 가격 적힌 태그 뽑기\n",
    "        tags = soup.find_all('tr',{'class':'xans-record-'})\n",
    "        \n",
    "        for tag in tags:\n",
    "            if '상품명' in tag.get_text().strip():\n",
    "                result_dict['name'] = tag.get_text().strip()[4:]\n",
    "                \n",
    "            elif '소비자가' in tag.get_text().strip():\n",
    "                result_dict['originalPrice'] = getNumber(tag.get_text().strip()[5:])\n",
    "\n",
    "            elif '판매가' in tag.get_text().strip():\n",
    "                result_dict['salePrice'] = getNumber(tag.get_text().strip()[4:])\n",
    "                if result_dict['originalPrice'] == '':\n",
    "                    result_dict['originalPrice'] = getNumber(tag.get_text().strip()[4:])\n",
    "            \n",
    "        # url, image \n",
    "        result_dict['url']  = driver.current_url\n",
    "        result_dict['image'] = soup.find_all('img',{'class':'BigImage'})[0]['src']\n",
    "        \n",
    "        # 색깔 개수만큼 output\n",
    "        for j, item in enumerate(soup.find_all('option')):\n",
    "            if j>1:\n",
    "                color = ''.join(str(item.find(text=True)))\n",
    "                result_dict = result_dict.copy()\n",
    "                result_dict['color'] = color \n",
    "                result_json.append(result_dict)\n",
    "\n",
    "        driver.find_element_by_id(category).click()\n",
    "        \n",
    "    \n",
    "    return result_json"
   ]
  },
  {
   "cell_type": "code",
   "execution_count": 8,
   "metadata": {},
   "outputs": [],
   "source": [
    "eyeLiner = 'cate_img_45'\n",
    "eyeBrow = 'cate_img_46'\n",
    "lipPencilTint = 'cate_img_49'\n",
    "Mascara = 'cate_img_50'\n",
    "baseMakeUp = 'cate_img_87'\n",
    "concealer = 'cate_img_82'\n",
    "accessory = 'cate_img_48'"
   ]
  },
  {
   "cell_type": "code",
   "execution_count": 9,
   "metadata": {},
   "outputs": [],
   "source": [
    "result = []\n",
    "result += getItems(eyeLiner,'아이라이너')\n",
    "result += getItems(eyeBrow,'아이브로우')\n",
    "result += getItems(lipPencilTint,'립펜슬, 틴트')\n",
    "result += getItems(Mascara,'마스카라')\n",
    "result += getItems(baseMakeUp,'베이스 메이크업')\n",
    "result += getItems(concealer,'컨실러')\n",
    "result += getItems(accessory,'악세서리')\n"
   ]
  },
  {
   "cell_type": "code",
   "execution_count": 10,
   "metadata": {},
   "outputs": [],
   "source": [
    "output = json.dumps(result,ensure_ascii=False, indent='\\t')"
   ]
  },
  {
   "cell_type": "code",
   "execution_count": 11,
   "metadata": {},
   "outputs": [],
   "source": [
    "writeJSON(output, output_name = 'woodbury.json')"
   ]
  }
 ],
 "metadata": {
  "kernelspec": {
   "display_name": "Python 3",
   "language": "python",
   "name": "python3"
  },
  "language_info": {
   "codemirror_mode": {
    "name": "ipython",
    "version": 3
   },
   "file_extension": ".py",
   "mimetype": "text/x-python",
   "name": "python",
   "nbconvert_exporter": "python",
   "pygments_lexer": "ipython3",
   "version": "3.6.6"
  }
 },
 "nbformat": 4,
 "nbformat_minor": 2
}
