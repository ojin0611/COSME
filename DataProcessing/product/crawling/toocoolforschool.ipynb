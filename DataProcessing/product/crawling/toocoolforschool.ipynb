{
 "cells": [
  {
   "cell_type": "markdown",
   "metadata": {},
   "source": [
    "# toocoolforschool"
   ]
  },
  {
   "cell_type": "code",
   "execution_count": 1,
   "metadata": {},
   "outputs": [],
   "source": [
    "from bs4 import BeautifulSoup as bs              # 데이터파싱 라이브러리\n",
    "from selenium import webdriver\n",
    "import json\n",
    "import platform\n",
    "import re\n",
    "import time\n",
    "import copy"
   ]
  },
  {
   "cell_type": "code",
   "execution_count": 2,
   "metadata": {},
   "outputs": [],
   "source": [
    "def getNumber(string):\n",
    "    numExtracter = re.compile('[0-9]+')\n",
    "    return int(''.join(numExtracter.findall(string)))\n",
    "    "
   ]
  },
  {
   "cell_type": "code",
   "execution_count": 3,
   "metadata": {},
   "outputs": [],
   "source": [
    "def getCategoryList():\n",
    "    html = driver.page_source\n",
    "    soup = bs(html, 'html.parser')\n",
    "    categories = soup.find('ul',{'class':'menulist'}).find_all('li') # 사이트마다 다름\n",
    "    categoryList=[]\n",
    "    for category in categories:\n",
    "        if '신제품' in category.get_text():\n",
    "            continue\n",
    "        if '베스트' in category.get_text():\n",
    "            continue\n",
    "        categoryList.append(url_home + category.a['href'])\n",
    "    return categoryList"
   ]
  },
  {
   "cell_type": "code",
   "execution_count": 4,
   "metadata": {},
   "outputs": [],
   "source": [
    "def getItemList():\n",
    "    html = driver.page_source\n",
    "    soup = bs(html, 'html.parser')\n",
    "    items = soup.find('div',{'class':'product_line'}).ul.find_all('li') # 사이트마다 다름\n",
    "    itemList=[]\n",
    "    for item in items:\n",
    "        itemList.append(url_home + '/shop'+item.a['href'][2:])\n",
    "\n",
    "    return itemList\n"
   ]
  },
  {
   "cell_type": "code",
   "execution_count": 5,
   "metadata": {},
   "outputs": [],
   "source": [
    "def goToNextPage():\n",
    "    html = driver.page_source\n",
    "    soup = bs(html, 'html.parser')\n",
    "    try:\n",
    "        nextPage = url_home + soup.find('a',{'class':'next2'})['href']\n",
    "        driver.get(nextPage)\n",
    "        return True\n",
    "    except:\n",
    "        return False\n"
   ]
  },
  {
   "cell_type": "code",
   "execution_count": 6,
   "metadata": {},
   "outputs": [],
   "source": [
    "def getCategoryItemList():\n",
    "    html = driver.page_source\n",
    "    soup = bs(html, 'html.parser')\n",
    "    goto = True\n",
    "    itemList = []\n",
    "    while goto:\n",
    "        itemList += getItemList()\n",
    "        goto = goToNextPage()\n",
    "    return itemList"
   ]
  },
  {
   "cell_type": "code",
   "execution_count": 7,
   "metadata": {},
   "outputs": [],
   "source": [
    "def getItem():\n",
    "    html = driver.page_source\n",
    "    soup = bs(html, 'html.parser')\n",
    "    item={}\n",
    "    item['name'] = soup.find('p',{'class':'title_en'}).get_text().strip()\n",
    "    image = soup.find('img',{'id':'objImg'})['src']\n",
    "\n",
    "    item['image'] = url_home + '/shop' + image[2:]\n",
    "\n",
    "    categoryList = soup.find('div',{'id':'path'}).ul.find_all('li')\n",
    "    category=''\n",
    "    for c in categoryList:\n",
    "        if len(category)<1:\n",
    "            pass\n",
    "        else:\n",
    "            category += ' > '\n",
    "        category += c.get_text().strip()\n",
    "    item['category'] = category\n",
    "    item['volume'] = soup.find('th',text='용량 및 규격').parent.td.get_text().strip()\n",
    "    price = soup.find('div',{'class':'value'})\n",
    "    salePrice = getNumber(price.find('input')['value'])\n",
    "    originalPrice = price.find('del')\n",
    "    originalPrice = getNumber(originalPrice.get_text()) if originalPrice else salePrice\n",
    "    item['originalPrice'] = originalPrice\n",
    "    item['salePrice'] = salePrice\n",
    "    item['brand'] = 'toocoolforschool'\n",
    "    item['url'] = driver.current_url\n",
    "\n",
    "    colorList = soup.find('select',{'name':'opt[]'})\n",
    "    items=[]\n",
    "    if colorList:\n",
    "        colorList = colorList.find_all('option')\n",
    "        for c, color in enumerate(colorList):\n",
    "            if c==0:\n",
    "                continue\n",
    "            item_copy = copy.deepcopy(item)\n",
    "            item_copy['color'] = color.get_text().strip() \n",
    "            items.append(item_copy)\n",
    "    else:\n",
    "        item['color'] = ''\n",
    "        items.append(item)\n",
    "    display(items)\n",
    "    return items"
   ]
  },
  {
   "cell_type": "code",
   "execution_count": 8,
   "metadata": {},
   "outputs": [],
   "source": [
    "def writeJSON(jsonString, output_name='data.json'):\n",
    "    with open(output_name,'w',encoding='UTF-8') as file:\n",
    "        file.write(jsonString)\n"
   ]
  },
  {
   "cell_type": "code",
   "execution_count": 9,
   "metadata": {},
   "outputs": [],
   "source": [
    "path = 'chromedriver.exe' if (platform.system() == 'Windows') else '/Users/jg/Desktop/develop/DataTeam/DataProcessing/product/crawling/chromedriver';\n",
    "driver = webdriver.Chrome(path)\n",
    "\n",
    "url_home = 'http://www.toocoolforschool.com'\n",
    "url_products = 'http://www.toocoolforschool.com/shop/goods/goods_list.php?&category=001'"
   ]
  },
  {
   "cell_type": "code",
   "execution_count": 10,
   "metadata": {},
   "outputs": [
    {
     "data": {
      "text/plain": [
       "[{'name': '★20%할인★에그 멜로우 크림',\n",
       "  'image': 'http://www.toocoolforschool.com/shop/data/goods/14964071469l0.jpg',\n",
       "  'category': '홈 > E-SHOP > BRAND LINE',\n",
       "  'volume': '50g',\n",
       "  'originalPrice': 23000,\n",
       "  'salePrice': 18400,\n",
       "  'brand': 'toocoolforschool',\n",
       "  'url': 'http://www.toocoolforschool.com/shop/goods/goods_view.php?goodsno=14110242&category=001',\n",
       "  'color': ''}]"
      ]
     },
     "metadata": {},
     "output_type": "display_data"
    },
    {
     "data": {
      "text/plain": [
       "[{'name': '★각질 필수템 1위★맥걸리 고두밥 스크럽',\n",
       "  'image': 'http://www.toocoolforschool.com/shop/data/goods/1496411879329l0.jpg',\n",
       "  'category': '홈 > E-SHOP > BRAND LINE',\n",
       "  'volume': '80ml',\n",
       "  'originalPrice': 12000,\n",
       "  'salePrice': 12000,\n",
       "  'brand': 'toocoolforschool',\n",
       "  'url': 'http://www.toocoolforschool.com/shop/goods/goods_view.php?goodsno=14110103&category=001',\n",
       "  'color': ''}]"
      ]
     },
     "metadata": {},
     "output_type": "display_data"
    },
    {
     "data": {
      "text/plain": [
       "[{'name': '룰스 오브 매스틱 IX 인핸서',\n",
       "  'image': 'http://www.toocoolforschool.com/shop/data/goods/1531380293291l0.jpg',\n",
       "  'category': '홈 > E-SHOP > BRAND LINE',\n",
       "  'volume': '80g',\n",
       "  'originalPrice': 27000,\n",
       "  'salePrice': 27000,\n",
       "  'brand': 'toocoolforschool',\n",
       "  'url': 'http://www.toocoolforschool.com/shop/goods/goods_view.php?goodsno=14110322&category=001',\n",
       "  'color': ''}]"
      ]
     },
     "metadata": {},
     "output_type": "display_data"
    },
    {
     "data": {
      "text/plain": [
       "[{'name': '룰스 오브 매스틱 페이셜 토닉',\n",
       "  'image': 'http://www.toocoolforschool.com/shop/data/goods/1512007921368l0.jpg',\n",
       "  'category': '홈 > E-SHOP > BRAND LINE',\n",
       "  'volume': '120ml',\n",
       "  'originalPrice': 18000,\n",
       "  'salePrice': 18000,\n",
       "  'brand': 'toocoolforschool',\n",
       "  'url': 'http://www.toocoolforschool.com/shop/goods/goods_view.php?goodsno=14110324&category=001',\n",
       "  'color': ''}]"
      ]
     },
     "metadata": {},
     "output_type": "display_data"
    },
    {
     "data": {
      "text/plain": [
       "[{'name': '룰스 오브 매스틱 IX 드롭',\n",
       "  'image': 'http://www.toocoolforschool.com/shop/data/goods/1512022995721l0.jpg',\n",
       "  'category': '홈 > E-SHOP > BRAND LINE',\n",
       "  'volume': '40ml',\n",
       "  'originalPrice': 23000,\n",
       "  'salePrice': 23000,\n",
       "  'brand': 'toocoolforschool',\n",
       "  'url': 'http://www.toocoolforschool.com/shop/goods/goods_view.php?goodsno=14110325&category=001',\n",
       "  'color': ''}]"
      ]
     },
     "metadata": {},
     "output_type": "display_data"
    },
    {
     "data": {
      "text/plain": [
       "[{'name': '룰스 오브 매스틱 IX 크림',\n",
       "  'image': 'http://www.toocoolforschool.com/shop/data/goods/1531380226894l0.jpg',\n",
       "  'category': '홈 > E-SHOP > BRAND LINE',\n",
       "  'volume': '50g',\n",
       "  'originalPrice': 25000,\n",
       "  'salePrice': 25000,\n",
       "  'brand': 'toocoolforschool',\n",
       "  'url': 'http://www.toocoolforschool.com/shop/goods/goods_view.php?goodsno=14110326&category=001',\n",
       "  'color': ''}]"
      ]
     },
     "metadata": {},
     "output_type": "display_data"
    },
    {
     "data": {
      "text/plain": [
       "[{'name': '★30%할인★펌킨 퓨리파잉 24K 마스크',\n",
       "  'image': 'http://www.toocoolforschool.com/shop/data/goods/1496403624313l0.jpg',\n",
       "  'category': '홈 > E-SHOP > BRAND LINE',\n",
       "  'volume': '100ml',\n",
       "  'originalPrice': 15000,\n",
       "  'salePrice': 10500,\n",
       "  'brand': 'toocoolforschool',\n",
       "  'url': 'http://www.toocoolforschool.com/shop/goods/goods_view.php?goodsno=14110348&category=001',\n",
       "  'color': ''}]"
      ]
     },
     "metadata": {},
     "output_type": "display_data"
    },
    {
     "data": {
      "text/plain": [
       "[{'name': '에그 크림 마스크 3종',\n",
       "  'image': 'http://www.toocoolforschool.com/shop/data/goods/1496407859341l0.jpg',\n",
       "  'category': '홈 > E-SHOP > BRAND LINE',\n",
       "  'volume': '28g (0.98 oz)',\n",
       "  'originalPrice': 3000,\n",
       "  'salePrice': 3000,\n",
       "  'brand': 'toocoolforschool',\n",
       "  'url': 'http://www.toocoolforschool.com/shop/goods/goods_view.php?goodsno=14110097&category=001',\n",
       "  'color': '하이드레이션 (리뉴얼)'},\n",
       " {'name': '에그 크림 마스크 3종',\n",
       "  'image': 'http://www.toocoolforschool.com/shop/data/goods/1496407859341l0.jpg',\n",
       "  'category': '홈 > E-SHOP > BRAND LINE',\n",
       "  'volume': '28g (0.98 oz)',\n",
       "  'originalPrice': 3000,\n",
       "  'salePrice': 3000,\n",
       "  'brand': 'toocoolforschool',\n",
       "  'url': 'http://www.toocoolforschool.com/shop/goods/goods_view.php?goodsno=14110097&category=001',\n",
       "  'color': '포어타이트닝 (뉴타입)'},\n",
       " {'name': '에그 크림 마스크 3종',\n",
       "  'image': 'http://www.toocoolforschool.com/shop/data/goods/1496407859341l0.jpg',\n",
       "  'category': '홈 > E-SHOP > BRAND LINE',\n",
       "  'volume': '28g (0.98 oz)',\n",
       "  'originalPrice': 3000,\n",
       "  'salePrice': 3000,\n",
       "  'brand': 'toocoolforschool',\n",
       "  'url': 'http://www.toocoolforschool.com/shop/goods/goods_view.php?goodsno=14110097&category=001',\n",
       "  'color': '퍼밍 (뉴타입)'}]"
      ]
     },
     "metadata": {},
     "output_type": "display_data"
    },
    {
     "data": {
      "text/plain": [
       "[{'name': '에그 크림 마스크 세트 3종 (5EA)',\n",
       "  'image': 'http://www.toocoolforschool.com/shop/data/goods/1513127314484l0.jpg',\n",
       "  'category': '홈 > E-SHOP > BRAND LINE',\n",
       "  'volume': '28g (0.98 oz) * 5ea',\n",
       "  'originalPrice': 15000,\n",
       "  'salePrice': 15000,\n",
       "  'brand': 'toocoolforschool',\n",
       "  'url': 'http://www.toocoolforschool.com/shop/goods/goods_view.php?goodsno=14110096&category=001',\n",
       "  'color': '하이드레이션 (리뉴얼)'},\n",
       " {'name': '에그 크림 마스크 세트 3종 (5EA)',\n",
       "  'image': 'http://www.toocoolforschool.com/shop/data/goods/1513127314484l0.jpg',\n",
       "  'category': '홈 > E-SHOP > BRAND LINE',\n",
       "  'volume': '28g (0.98 oz) * 5ea',\n",
       "  'originalPrice': 15000,\n",
       "  'salePrice': 15000,\n",
       "  'brand': 'toocoolforschool',\n",
       "  'url': 'http://www.toocoolforschool.com/shop/goods/goods_view.php?goodsno=14110096&category=001',\n",
       "  'color': '포어타이트닝 (뉴타입)'},\n",
       " {'name': '에그 크림 마스크 세트 3종 (5EA)',\n",
       "  'image': 'http://www.toocoolforschool.com/shop/data/goods/1513127314484l0.jpg',\n",
       "  'category': '홈 > E-SHOP > BRAND LINE',\n",
       "  'volume': '28g (0.98 oz) * 5ea',\n",
       "  'originalPrice': 15000,\n",
       "  'salePrice': 15000,\n",
       "  'brand': 'toocoolforschool',\n",
       "  'url': 'http://www.toocoolforschool.com/shop/goods/goods_view.php?goodsno=14110096&category=001',\n",
       "  'color': '퍼밍 (뉴타입)  [품절]'}]"
      ]
     },
     "metadata": {},
     "output_type": "display_data"
    },
    {
     "data": {
      "text/plain": [
       "[{'name': '룰스 애플존 버터플라이 마스크',\n",
       "  'image': 'http://www.toocoolforschool.com/shop/data/goods/1496411987148l0.jpg',\n",
       "  'category': '홈 > E-SHOP > BRAND LINE',\n",
       "  'volume': '1개입',\n",
       "  'originalPrice': 1000,\n",
       "  'salePrice': 1000,\n",
       "  'brand': 'toocoolforschool',\n",
       "  'url': 'http://www.toocoolforschool.com/shop/goods/goods_view.php?goodsno=14110087&category=001',\n",
       "  'color': ''}]"
      ]
     },
     "metadata": {},
     "output_type": "display_data"
    },
    {
     "data": {
      "text/plain": [
       "[{'name': '★20%할인★에그 무스 팩',\n",
       "  'image': 'http://www.toocoolforschool.com/shop/data/goods/1496407786883l0.jpg',\n",
       "  'category': '홈 > E-SHOP > BRAND LINE',\n",
       "  'volume': '코스맥스',\n",
       "  'originalPrice': 12000,\n",
       "  'salePrice': 9600,\n",
       "  'brand': 'toocoolforschool',\n",
       "  'url': 'http://www.toocoolforschool.com/shop/goods/goods_view.php?goodsno=14110098&category=001',\n",
       "  'color': ''}]"
      ]
     },
     "metadata": {},
     "output_type": "display_data"
    },
    {
     "data": {
      "text/plain": [
       "[{'name': '★10+10★코코넛 세라마이드 마스크',\n",
       "  'image': 'http://www.toocoolforschool.com/shop/data/goods/1546221978214l0.jpg',\n",
       "  'category': '홈 > E-SHOP > BRAND LINE',\n",
       "  'volume': '23g _ 0.81 oz',\n",
       "  'originalPrice': 60000,\n",
       "  'salePrice': 30000,\n",
       "  'brand': 'toocoolforschool',\n",
       "  'url': 'http://www.toocoolforschool.com/shop/goods/goods_view.php?goodsno=14110278&category=001',\n",
       "  'color': ''}]"
      ]
     },
     "metadata": {},
     "output_type": "display_data"
    },
    {
     "data": {
      "text/plain": [
       "[{'name': '★코코넛 워터 80%★코코넛 워터 겔 마스크',\n",
       "  'image': 'http://www.toocoolforschool.com/shop/data/goods/1503887789366l0.jpg',\n",
       "  'category': '홈 > E-SHOP > BRAND LINE',\n",
       "  'volume': '20g',\n",
       "  'originalPrice': 3000,\n",
       "  'salePrice': 3000,\n",
       "  'brand': 'toocoolforschool',\n",
       "  'url': 'http://www.toocoolforschool.com/shop/goods/goods_view.php?goodsno=14110398&category=001',\n",
       "  'color': ''}]"
      ]
     },
     "metadata": {},
     "output_type": "display_data"
    },
    {
     "data": {
      "text/plain": [
       "[{'name': '★Big Size★코코넛 오일 세럼 아이 패치',\n",
       "  'image': 'http://www.toocoolforschool.com/shop/data/goods/1496406188231l0.jpg',\n",
       "  'category': '홈 > E-SHOP > BRAND LINE',\n",
       "  'volume': '5.5g',\n",
       "  'originalPrice': 3000,\n",
       "  'salePrice': 3000,\n",
       "  'brand': 'toocoolforschool',\n",
       "  'url': 'http://www.toocoolforschool.com/shop/goods/goods_view.php?goodsno=14110298&category=001',\n",
       "  'color': ''}]"
      ]
     },
     "metadata": {},
     "output_type": "display_data"
    },
    {
     "data": {
      "text/plain": [
       "[{'name': '★붙이는 비타민 크림★멀티 비타민 마스크 4종',\n",
       "  'image': 'http://www.toocoolforschool.com/shop/data/goods/1496406009530l0.jpg',\n",
       "  'category': '홈 > E-SHOP > BRAND LINE',\n",
       "  'volume': '20g (1EA)',\n",
       "  'originalPrice': 3500,\n",
       "  'salePrice': 3500,\n",
       "  'brand': 'toocoolforschool',\n",
       "  'url': 'http://www.toocoolforschool.com/shop/goods/goods_view.php?goodsno=14110306&category=001',\n",
       "  'color': '비타C (브라이트닝)'},\n",
       " {'name': '★붙이는 비타민 크림★멀티 비타민 마스크 4종',\n",
       "  'image': 'http://www.toocoolforschool.com/shop/data/goods/1496406009530l0.jpg',\n",
       "  'category': '홈 > E-SHOP > BRAND LINE',\n",
       "  'volume': '20g (1EA)',\n",
       "  'originalPrice': 3500,\n",
       "  'salePrice': 3500,\n",
       "  'brand': 'toocoolforschool',\n",
       "  'url': 'http://www.toocoolforschool.com/shop/goods/goods_view.php?goodsno=14110306&category=001',\n",
       "  'color': '비타B5 (하이드레이팅)'},\n",
       " {'name': '★붙이는 비타민 크림★멀티 비타민 마스크 4종',\n",
       "  'image': 'http://www.toocoolforschool.com/shop/data/goods/1496406009530l0.jpg',\n",
       "  'category': '홈 > E-SHOP > BRAND LINE',\n",
       "  'volume': '20g (1EA)',\n",
       "  'originalPrice': 3500,\n",
       "  'salePrice': 3500,\n",
       "  'brand': 'toocoolforschool',\n",
       "  'url': 'http://www.toocoolforschool.com/shop/goods/goods_view.php?goodsno=14110306&category=001',\n",
       "  'color': '비타E (너리싱)'},\n",
       " {'name': '★붙이는 비타민 크림★멀티 비타민 마스크 4종',\n",
       "  'image': 'http://www.toocoolforschool.com/shop/data/goods/1496406009530l0.jpg',\n",
       "  'category': '홈 > E-SHOP > BRAND LINE',\n",
       "  'volume': '20g (1EA)',\n",
       "  'originalPrice': 3500,\n",
       "  'salePrice': 3500,\n",
       "  'brand': 'toocoolforschool',\n",
       "  'url': 'http://www.toocoolforschool.com/shop/goods/goods_view.php?goodsno=14110306&category=001',\n",
       "  'color': '비타A (퍼밍)'}]"
      ]
     },
     "metadata": {},
     "output_type": "display_data"
    },
    {
     "data": {
      "text/plain": [
       "[{'name': '글램락 아브라카다브라 마스크',\n",
       "  'image': 'http://www.toocoolforschool.com/shop/data/goods/1501468893389l0.jpg',\n",
       "  'category': '홈 > E-SHOP > BRAND LINE',\n",
       "  'volume': '12.5g',\n",
       "  'originalPrice': 3000,\n",
       "  'salePrice': 3000,\n",
       "  'brand': 'toocoolforschool',\n",
       "  'url': 'http://www.toocoolforschool.com/shop/goods/goods_view.php?goodsno=14110385&category=001',\n",
       "  'color': ''}]"
      ]
     },
     "metadata": {},
     "output_type": "display_data"
    },
    {
     "data": {
      "text/plain": [
       "[{'name': '★20%할인★에그 센셜 플루이드',\n",
       "  'image': 'http://www.toocoolforschool.com/shop/data/goods/1496403485144l0.jpg',\n",
       "  'category': '홈 > E-SHOP > BRAND LINE',\n",
       "  'volume': '200ml',\n",
       "  'originalPrice': 16000,\n",
       "  'salePrice': 12800,\n",
       "  'brand': 'toocoolforschool',\n",
       "  'url': 'http://www.toocoolforschool.com/shop/goods/goods_view.php?goodsno=14110353&category=001',\n",
       "  'color': ''}]"
      ]
     },
     "metadata": {},
     "output_type": "display_data"
    },
    {
     "data": {
      "text/plain": [
       "[{'name': '코코넛 퓨어 수딩젤',\n",
       "  'image': 'http://www.toocoolforschool.com/shop/data/goods/1497012409242l0.jpg',\n",
       "  'category': '홈 > E-SHOP > BRAND LINE',\n",
       "  'volume': '110ml',\n",
       "  'originalPrice': 12000,\n",
       "  'salePrice': 12000,\n",
       "  'brand': 'toocoolforschool',\n",
       "  'url': 'http://www.toocoolforschool.com/shop/goods/goods_view.php?goodsno=14110345&category=001',\n",
       "  'color': ''}]"
      ]
     },
     "metadata": {},
     "output_type": "display_data"
    },
    {
     "data": {
      "text/plain": [
       "[{'name': '★95% 천연유래★온더무브 인스턴트 쿨링 미스트',\n",
       "  'image': 'http://www.toocoolforschool.com/shop/data/goods/150122582981l0.jpg',\n",
       "  'category': '홈 > E-SHOP > BRAND LINE',\n",
       "  'volume': '100ml',\n",
       "  'originalPrice': 12000,\n",
       "  'salePrice': 12000,\n",
       "  'brand': 'toocoolforschool',\n",
       "  'url': 'http://www.toocoolforschool.com/shop/goods/goods_view.php?goodsno=14110344&category=001',\n",
       "  'color': ''}]"
      ]
     },
     "metadata": {},
     "output_type": "display_data"
    },
    {
     "data": {
      "text/plain": [
       "[{'name': '★10+10★코코넛 오일 세럼 마스크',\n",
       "  'image': 'http://www.toocoolforschool.com/shop/data/goods/1546223354346l0.jpg',\n",
       "  'category': '홈 > E-SHOP > BRAND LINE',\n",
       "  'volume': '30g',\n",
       "  'originalPrice': 60000,\n",
       "  'salePrice': 30000,\n",
       "  'brand': 'toocoolforschool',\n",
       "  'url': 'http://www.toocoolforschool.com/shop/goods/goods_view.php?goodsno=14110309&category=001',\n",
       "  'color': ''}]"
      ]
     },
     "metadata": {},
     "output_type": "display_data"
    },
    {
     "data": {
      "text/plain": [
       "[{'name': '★코코넛 워터 87%★코코넛 밀키 미스트',\n",
       "  'image': 'http://www.toocoolforschool.com/shop/data/goods/1496406838924l0.jpg',\n",
       "  'category': '홈 > E-SHOP > BRAND LINE',\n",
       "  'volume': '80ml',\n",
       "  'originalPrice': 12000,\n",
       "  'salePrice': 12000,\n",
       "  'brand': 'toocoolforschool',\n",
       "  'url': 'http://www.toocoolforschool.com/shop/goods/goods_view.php?goodsno=14110274&category=001',\n",
       "  'color': ''}]"
      ]
     },
     "metadata": {},
     "output_type": "display_data"
    },
    {
     "data": {
      "text/plain": [
       "[{'name': '★30%할인★펌킨 24K 골드 마스크 세트 (10EA)',\n",
       "  'image': 'http://www.toocoolforschool.com/shop/data/goods/149640707736l0.jpg',\n",
       "  'category': '홈 > E-SHOP > BRAND LINE',\n",
       "  'volume': '25g X 10ea',\n",
       "  'originalPrice': 50000,\n",
       "  'salePrice': 35000,\n",
       "  'brand': 'toocoolforschool',\n",
       "  'url': 'http://www.toocoolforschool.com/shop/goods/goods_view.php?goodsno=14110247&category=001',\n",
       "  'color': ''}]"
      ]
     },
     "metadata": {},
     "output_type": "display_data"
    },
    {
     "data": {
      "text/plain": [
       "[{'name': '★30%할인★펌킨 24K 골드 마스크',\n",
       "  'image': 'http://www.toocoolforschool.com/shop/data/goods/1503416508167l0.jpg',\n",
       "  'category': '홈 > E-SHOP > BRAND LINE',\n",
       "  'volume': '25g',\n",
       "  'originalPrice': 5000,\n",
       "  'salePrice': 3000,\n",
       "  'brand': 'toocoolforschool',\n",
       "  'url': 'http://www.toocoolforschool.com/shop/goods/goods_view.php?goodsno=14110240&category=001',\n",
       "  'color': ''}]"
      ]
     },
     "metadata": {},
     "output_type": "display_data"
    },
    {
     "data": {
      "text/plain": [
       "[{'name': '룰스 오브 아쿠아 미네랄 워터 젤 토너',\n",
       "  'image': 'http://www.toocoolforschool.com/shop/data/goods/1496410961982l0.jpg',\n",
       "  'category': '홈 > E-SHOP > BRAND LINE',\n",
       "  'volume': '120ml',\n",
       "  'originalPrice': 18500,\n",
       "  'salePrice': 18500,\n",
       "  'brand': 'toocoolforschool',\n",
       "  'url': 'http://www.toocoolforschool.com/shop/goods/goods_view.php?goodsno=14110138&category=001',\n",
       "  'color': ''}]"
      ]
     },
     "metadata": {},
     "output_type": "display_data"
    },
    {
     "data": {
      "text/plain": [
       "[{'name': '★30%할인★펌킨 하이드라 앤 필링 듀오 패드',\n",
       "  'image': 'http://www.toocoolforschool.com/shop/data/goods/1525236509572l0.jpg',\n",
       "  'category': '홈 > E-SHOP > BRAND LINE',\n",
       "  'volume': '에센스 패드: 50ea_82g (2.89oz) /필링 패드: 50ea_82g (2.89oz)',\n",
       "  'originalPrice': 10000,\n",
       "  'salePrice': 7000,\n",
       "  'brand': 'toocoolforschool',\n",
       "  'url': 'http://www.toocoolforschool.com/shop/goods/goods_view.php?goodsno=14110420&category=001',\n",
       "  'color': ''}]"
      ]
     },
     "metadata": {},
     "output_type": "display_data"
    },
    {
     "data": {
      "text/plain": [
       "[{'name': '코코넛 슈가  스크럽 립밤',\n",
       "  'image': 'http://www.toocoolforschool.com/shop/data/goods/1545019078741l0.jpg',\n",
       "  'category': '홈 > E-SHOP > BRAND LINE',\n",
       "  'volume': '3.4g',\n",
       "  'originalPrice': 9800,\n",
       "  'salePrice': 9800,\n",
       "  'brand': 'toocoolforschool',\n",
       "  'url': 'http://www.toocoolforschool.com/shop/goods/goods_view.php?goodsno=14110430&category=001',\n",
       "  'color': ''}]"
      ]
     },
     "metadata": {},
     "output_type": "display_data"
    },
    {
     "data": {
      "text/plain": [
       "[{'name': '★50g 크림 한통 가득★코코넛 밀크  크림 마스크',\n",
       "  'image': 'http://www.toocoolforschool.com/shop/data/goods/1518490118433l0.jpg',\n",
       "  'category': '홈 > E-SHOP > BRAND LINE',\n",
       "  'volume': '50g',\n",
       "  'originalPrice': 3500,\n",
       "  'salePrice': 3500,\n",
       "  'brand': 'toocoolforschool',\n",
       "  'url': 'http://www.toocoolforschool.com/shop/goods/goods_view.php?goodsno=14110431&category=001',\n",
       "  'color': ''}]"
      ]
     },
     "metadata": {},
     "output_type": "display_data"
    },
    {
     "data": {
      "text/plain": [
       "[{'name': '★20%할인★에그 멜로우 크림 프리미엄',\n",
       "  'image': 'http://www.toocoolforschool.com/shop/data/goods/1536655190824l0.jpg',\n",
       "  'category': '홈 > E-SHOP > BRAND LINE',\n",
       "  'volume': '100ml',\n",
       "  'originalPrice': 50000,\n",
       "  'salePrice': 40000,\n",
       "  'brand': 'toocoolforschool',\n",
       "  'url': 'http://www.toocoolforschool.com/shop/goods/goods_view.php?goodsno=14110473&category=001',\n",
       "  'color': ''}]"
      ]
     },
     "metadata": {},
     "output_type": "display_data"
    },
    {
     "data": {
      "text/plain": [
       "[{'name': '★스크럽+영양팩★코코넛 슈가 페이셜 스크럽',\n",
       "  'image': 'http://www.toocoolforschool.com/shop/data/goods/1504761382781l0.jpg',\n",
       "  'category': '홈 > E-SHOP > BRAND LINE',\n",
       "  'volume': '100ml',\n",
       "  'originalPrice': 16000,\n",
       "  'salePrice': 16000,\n",
       "  'brand': 'toocoolforschool',\n",
       "  'url': 'http://www.toocoolforschool.com/shop/goods/goods_view.php?goodsno=14110403&category=002',\n",
       "  'color': ''}]"
      ]
     },
     "metadata": {},
     "output_type": "display_data"
    },
    {
     "data": {
      "text/plain": [
       "[{'name': '★재구매율 1위★룰스 프레쉬 고어 슬리핑 팩',\n",
       "  'image': 'http://www.toocoolforschool.com/shop/data/goods/1496410125708l0.jpg',\n",
       "  'category': '홈 > E-SHOP > BRAND LINE',\n",
       "  'volume': '100ml',\n",
       "  'originalPrice': 15000,\n",
       "  'salePrice': 15000,\n",
       "  'brand': 'toocoolforschool',\n",
       "  'url': 'http://www.toocoolforschool.com/shop/goods/goods_view.php?goodsno=14110210&category=002',\n",
       "  'color': ''}]"
      ]
     },
     "metadata": {},
     "output_type": "display_data"
    },
    {
     "data": {
      "text/plain": [
       "[{'name': '★30%할인★펌킨 슬리핑 팩',\n",
       "  'image': 'http://www.toocoolforschool.com/shop/data/goods/1496412032570l0.jpg',\n",
       "  'category': '홈 > E-SHOP > BRAND LINE',\n",
       "  'volume': '100ml',\n",
       "  'originalPrice': 12000,\n",
       "  'salePrice': 8400,\n",
       "  'brand': 'toocoolforschool',\n",
       "  'url': 'http://www.toocoolforschool.com/shop/goods/goods_view.php?goodsno=14110084&category=002',\n",
       "  'color': ''}]"
      ]
     },
     "metadata": {},
     "output_type": "display_data"
    },
    {
     "data": {
      "text/plain": [
       "[{'name': '★30%할인★펌킨 슬리핑 팩 (미니)',\n",
       "  'image': 'http://www.toocoolforschool.com/shop/data/goods/1496409519806l0.jpg',\n",
       "  'category': '홈 > E-SHOP > BRAND LINE',\n",
       "  'volume': '30ml',\n",
       "  'originalPrice': 6000,\n",
       "  'salePrice': 4200,\n",
       "  'brand': 'toocoolforschool',\n",
       "  'url': 'http://www.toocoolforschool.com/shop/goods/goods_view.php?goodsno=14110226&category=002',\n",
       "  'color': ''}]"
      ]
     },
     "metadata": {},
     "output_type": "display_data"
    },
    {
     "data": {
      "text/plain": [
       "[{'name': '★50%할인★모로코 가슬 타블렛 팩+스파츌러',\n",
       "  'image': 'http://www.toocoolforschool.com/shop/data/goods/1504501995600l0.jpg',\n",
       "  'category': '홈 > E-SHOP > BRAND LINE',\n",
       "  'volume': '100g',\n",
       "  'originalPrice': 18000,\n",
       "  'salePrice': 9000,\n",
       "  'brand': 'toocoolforschool',\n",
       "  'url': 'http://www.toocoolforschool.com/shop/goods/goods_view.php?goodsno=14110059&category=002',\n",
       "  'color': ''}]"
      ]
     },
     "metadata": {},
     "output_type": "display_data"
    },
    {
     "data": {
      "text/plain": [
       "[{'name': '모로코 가슬 크리미 무스팩',\n",
       "  'image': 'http://www.toocoolforschool.com/shop/data/goods/1496412356844l0.jpg',\n",
       "  'category': '홈 > E-SHOP > BRAND LINE',\n",
       "  'volume': '100g',\n",
       "  'originalPrice': 16000,\n",
       "  'salePrice': 16000,\n",
       "  'brand': 'toocoolforschool',\n",
       "  'url': 'http://www.toocoolforschool.com/shop/goods/goods_view.php?goodsno=14110061&category=002',\n",
       "  'color': ''}]"
      ]
     },
     "metadata": {},
     "output_type": "display_data"
    },
    {
     "data": {
      "text/plain": [
       "[{'name': '모로코 가슬 블랙헤드 아웃 세트 10+1 (11EA)',\n",
       "  'image': 'http://www.toocoolforschool.com/shop/data/goods/1496409422533l0.jpg',\n",
       "  'category': '홈 > E-SHOP > BRAND LINE',\n",
       "  'volume': '11ea',\n",
       "  'originalPrice': 5000,\n",
       "  'salePrice': 5000,\n",
       "  'brand': 'toocoolforschool',\n",
       "  'url': 'http://www.toocoolforschool.com/shop/goods/goods_view.php?goodsno=14110064&category=002',\n",
       "  'color': ''}]"
      ]
     },
     "metadata": {},
     "output_type": "display_data"
    },
    {
     "data": {
      "text/plain": [
       "[{'name': '모로코 가슬 블랙헤드 아웃 단품',\n",
       "  'image': 'http://www.toocoolforschool.com/shop/data/goods/149640940860l0.jpg',\n",
       "  'category': '홈 > E-SHOP > BRAND LINE',\n",
       "  'volume': '1ea',\n",
       "  'originalPrice': 500,\n",
       "  'salePrice': 500,\n",
       "  'brand': 'toocoolforschool',\n",
       "  'url': 'http://www.toocoolforschool.com/shop/goods/goods_view.php?goodsno=14110065&category=002',\n",
       "  'color': ''}]"
      ]
     },
     "metadata": {},
     "output_type": "display_data"
    },
    {
     "data": {
      "text/plain": [
       "[{'name': '모로코 가슬 크림 팩',\n",
       "  'image': 'http://www.toocoolforschool.com/shop/data/goods/1496412378694l0.jpg',\n",
       "  'category': '홈 > E-SHOP > BRAND LINE',\n",
       "  'volume': '100g',\n",
       "  'originalPrice': 12000,\n",
       "  'salePrice': 12000,\n",
       "  'brand': 'toocoolforschool',\n",
       "  'url': 'http://www.toocoolforschool.com/shop/goods/goods_view.php?goodsno=14110060&category=002',\n",
       "  'color': ''}]"
      ]
     },
     "metadata": {},
     "output_type": "display_data"
    },
    {
     "data": {
      "text/plain": [
       "[{'name': '★30%할인★펌킨 하이드라 앤 필링 듀오 패드',\n",
       "  'image': 'http://www.toocoolforschool.com/shop/data/goods/1525236509572l0.jpg',\n",
       "  'category': '홈 > E-SHOP > BRAND LINE',\n",
       "  'volume': '에센스 패드: 50ea_82g (2.89oz) /필링 패드: 50ea_82g (2.89oz)',\n",
       "  'originalPrice': 10000,\n",
       "  'salePrice': 7000,\n",
       "  'brand': 'toocoolforschool',\n",
       "  'url': 'http://www.toocoolforschool.com/shop/goods/goods_view.php?goodsno=14110420&category=002',\n",
       "  'color': ''}]"
      ]
     },
     "metadata": {},
     "output_type": "display_data"
    },
    {
     "data": {
      "text/plain": [
       "[{'name': '★50g 크림 한통 가득★코코넛 밀크  크림 마스크',\n",
       "  'image': 'http://www.toocoolforschool.com/shop/data/goods/1518490118433l0.jpg',\n",
       "  'category': '홈 > E-SHOP > BRAND LINE',\n",
       "  'volume': '50g',\n",
       "  'originalPrice': 3500,\n",
       "  'salePrice': 3500,\n",
       "  'brand': 'toocoolforschool',\n",
       "  'url': 'http://www.toocoolforschool.com/shop/goods/goods_view.php?goodsno=14110431&category=002',\n",
       "  'color': ''}]"
      ]
     },
     "metadata": {},
     "output_type": "display_data"
    },
    {
     "data": {
      "text/plain": [
       "[{'name': '★순도 98% 콜라겐★ 에그 콜라겐 크림 마스크 세트',\n",
       "  'image': 'http://www.toocoolforschool.com/shop/data/goods/1536655365706l0.jpg',\n",
       "  'category': '홈 > E-SHOP > BRAND LINE',\n",
       "  'volume': '12gx5',\n",
       "  'originalPrice': 25000,\n",
       "  'salePrice': 25000,\n",
       "  'brand': 'toocoolforschool',\n",
       "  'url': 'http://www.toocoolforschool.com/shop/goods/goods_view.php?goodsno=14110472&category=002',\n",
       "  'color': ''}]"
      ]
     },
     "metadata": {},
     "output_type": "display_data"
    },
    {
     "data": {
      "text/plain": [
       "[{'name': '★순도 98% 콜라겐★에그 콜라겐 크림 마스크',\n",
       "  'image': 'http://www.toocoolforschool.com/shop/data/goods/1536655782433l0.jpg',\n",
       "  'category': '홈 > E-SHOP > BRAND LINE',\n",
       "  'volume': '12g',\n",
       "  'originalPrice': 5000,\n",
       "  'salePrice': 5000,\n",
       "  'brand': 'toocoolforschool',\n",
       "  'url': 'http://www.toocoolforschool.com/shop/goods/goods_view.php?goodsno=14110471&category=002',\n",
       "  'color': ''}]"
      ]
     },
     "metadata": {},
     "output_type": "display_data"
    },
    {
     "data": {
      "text/plain": [
       "[{'name': '장조지롱 선블록 SPF50+/PA+++',\n",
       "  'image': 'http://www.toocoolforschool.com/shop/data/goods/1530257155119l0.jpg',\n",
       "  'category': '홈 > E-SHOP > BRAND LINE',\n",
       "  'volume': '50ml',\n",
       "  'originalPrice': 15000,\n",
       "  'salePrice': 15000,\n",
       "  'brand': 'toocoolforschool',\n",
       "  'url': 'http://www.toocoolforschool.com/shop/goods/goods_view.php?goodsno=14110152&category=003',\n",
       "  'color': '근육 케이스(블랙 튜브)'},\n",
       " {'name': '장조지롱 선블록 SPF50+/PA+++',\n",
       "  'image': 'http://www.toocoolforschool.com/shop/data/goods/1530257155119l0.jpg',\n",
       "  'category': '홈 > E-SHOP > BRAND LINE',\n",
       "  'volume': '50ml',\n",
       "  'originalPrice': 15000,\n",
       "  'salePrice': 15000,\n",
       "  'brand': 'toocoolforschool',\n",
       "  'url': 'http://www.toocoolforschool.com/shop/goods/goods_view.php?goodsno=14110152&category=003',\n",
       "  'color': '블랙 케이스(근육 튜브)'}]"
      ]
     },
     "metadata": {},
     "output_type": "display_data"
    },
    {
     "data": {
      "text/plain": [
       "[{'name': '★완벽차단★마일드 시카 선 로션 SPF50+/PA++++',\n",
       "  'image': 'http://www.toocoolforschool.com/shop/data/goods/1530232548947l0.jpg',\n",
       "  'category': '홈 > E-SHOP > BRAND LINE',\n",
       "  'volume': '100ml',\n",
       "  'originalPrice': 23000,\n",
       "  'salePrice': 23000,\n",
       "  'brand': 'toocoolforschool',\n",
       "  'url': 'http://www.toocoolforschool.com/shop/goods/goods_view.php?goodsno=14110330&category=003',\n",
       "  'color': ''}]"
      ]
     },
     "metadata": {},
     "output_type": "display_data"
    },
    {
     "data": {
      "text/plain": [
       "[{'name': '★환절기추천★에어 선 프라이머 SPF50+/PA+++',\n",
       "  'image': 'http://www.toocoolforschool.com/shop/data/goods/1530232649756l0.jpg',\n",
       "  'category': '홈 > E-SHOP > BRAND LINE',\n",
       "  'volume': '100ml',\n",
       "  'originalPrice': 22000,\n",
       "  'salePrice': 22000,\n",
       "  'brand': 'toocoolforschool',\n",
       "  'url': 'http://www.toocoolforschool.com/shop/goods/goods_view.php?goodsno=14110269&category=003',\n",
       "  'color': ''}]"
      ]
     },
     "metadata": {},
     "output_type": "display_data"
    },
    {
     "data": {
      "text/plain": [
       "[{'name': '★미니 팩트★체크 UV 커버 팩트 SPF50+/PA+++',\n",
       "  'image': 'http://www.toocoolforschool.com/shop/data/goods/1496409637134l0.jpg',\n",
       "  'category': '홈 > E-SHOP > BRAND LINE',\n",
       "  'volume': '6g',\n",
       "  'originalPrice': 16000,\n",
       "  'salePrice': 16000,\n",
       "  'brand': 'toocoolforschool',\n",
       "  'url': 'http://www.toocoolforschool.com/shop/goods/goods_view.php?goodsno=14110219&category=003',\n",
       "  'color': ''}]"
      ]
     },
     "metadata": {},
     "output_type": "display_data"
    },
    {
     "data": {
      "text/plain": [
       "[{'name': '온더무브 쿼드러플 UV 쉴드 SPF50+/PA++++',\n",
       "  'image': 'http://www.toocoolforschool.com/shop/data/goods/1535967367945l0.jpg',\n",
       "  'category': '홈 > E-SHOP > BRAND LINE',\n",
       "  'volume': '80ml',\n",
       "  'originalPrice': 18000,\n",
       "  'salePrice': 18000,\n",
       "  'brand': 'toocoolforschool',\n",
       "  'url': 'http://www.toocoolforschool.com/shop/goods/goods_view.php?goodsno=14110342&category=003',\n",
       "  'color': ''}]"
      ]
     },
     "metadata": {},
     "output_type": "display_data"
    },
    {
     "data": {
      "text/plain": [
       "[{'name': '다이노플라츠 구게노사우르스 컨실러 SPF30/PA++',\n",
       "  'image': 'http://www.toocoolforschool.com/shop/data/goods/1496412238925l0.jpg',\n",
       "  'category': '홈 > E-SHOP > BRAND LINE',\n",
       "  'volume': '1.8g',\n",
       "  'originalPrice': 17000,\n",
       "  'salePrice': 17000,\n",
       "  'brand': 'toocoolforschool',\n",
       "  'url': 'http://www.toocoolforschool.com/shop/goods/goods_view.php?goodsno=14110068&category=003',\n",
       "  'color': ''}]"
      ]
     },
     "metadata": {},
     "output_type": "display_data"
    },
    {
     "data": {
      "text/plain": [
       "[{'name': '★1+1★아티파이 애프터스쿨 BB 파운데이션 런치박스',\n",
       "  'image': 'http://www.toocoolforschool.com/shop/data/goods/1546222755631l0.jpg',\n",
       "  'category': '홈 > E-SHOP > BRAND LINE',\n",
       "  'volume': '40ml',\n",
       "  'originalPrice': 36000,\n",
       "  'salePrice': 18000,\n",
       "  'brand': 'toocoolforschool',\n",
       "  'url': 'http://www.toocoolforschool.com/shop/goods/goods_view.php?goodsno=14110120&category=003',\n",
       "  'color': '1호 보송한피부'},\n",
       " {'name': '★1+1★아티파이 애프터스쿨 BB 파운데이션 런치박스',\n",
       "  'image': 'http://www.toocoolforschool.com/shop/data/goods/1546222755631l0.jpg',\n",
       "  'category': '홈 > E-SHOP > BRAND LINE',\n",
       "  'volume': '40ml',\n",
       "  'originalPrice': 36000,\n",
       "  'salePrice': 18000,\n",
       "  'brand': 'toocoolforschool',\n",
       "  'url': 'http://www.toocoolforschool.com/shop/goods/goods_view.php?goodsno=14110120&category=003',\n",
       "  'color': '2호 촉촉한피부'},\n",
       " {'name': '★1+1★아티파이 애프터스쿨 BB 파운데이션 런치박스',\n",
       "  'image': 'http://www.toocoolforschool.com/shop/data/goods/1546222755631l0.jpg',\n",
       "  'category': '홈 > E-SHOP > BRAND LINE',\n",
       "  'volume': '40ml',\n",
       "  'originalPrice': 36000,\n",
       "  'salePrice': 18000,\n",
       "  'brand': 'toocoolforschool',\n",
       "  'url': 'http://www.toocoolforschool.com/shop/goods/goods_view.php?goodsno=14110120&category=003',\n",
       "  'color': '3호 건강한피부'}]"
      ]
     },
     "metadata": {},
     "output_type": "display_data"
    },
    {
     "data": {
      "text/plain": [
       "[{'name': '아트클래스 스튜디오 드 땅뜨 리퀴드 에어',\n",
       "  'image': 'http://www.toocoolforschool.com/shop/data/goods/1542594560345l0.jpg',\n",
       "  'category': '홈 > E-SHOP > BRAND LINE',\n",
       "  'volume': '30ml',\n",
       "  'originalPrice': 28000,\n",
       "  'salePrice': 28000,\n",
       "  'brand': 'toocoolforschool',\n",
       "  'url': 'http://www.toocoolforschool.com/shop/goods/goods_view.php?goodsno=14110335&category=004',\n",
       "  'color': '1호 포슬린'},\n",
       " {'name': '아트클래스 스튜디오 드 땅뜨 리퀴드 에어',\n",
       "  'image': 'http://www.toocoolforschool.com/shop/data/goods/1542594560345l0.jpg',\n",
       "  'category': '홈 > E-SHOP > BRAND LINE',\n",
       "  'volume': '30ml',\n",
       "  'originalPrice': 28000,\n",
       "  'salePrice': 28000,\n",
       "  'brand': 'toocoolforschool',\n",
       "  'url': 'http://www.toocoolforschool.com/shop/goods/goods_view.php?goodsno=14110335&category=004',\n",
       "  'color': '2호 아이보리'},\n",
       " {'name': '아트클래스 스튜디오 드 땅뜨 리퀴드 에어',\n",
       "  'image': 'http://www.toocoolforschool.com/shop/data/goods/1542594560345l0.jpg',\n",
       "  'category': '홈 > E-SHOP > BRAND LINE',\n",
       "  'volume': '30ml',\n",
       "  'originalPrice': 28000,\n",
       "  'salePrice': 28000,\n",
       "  'brand': 'toocoolforschool',\n",
       "  'url': 'http://www.toocoolforschool.com/shop/goods/goods_view.php?goodsno=14110335&category=004',\n",
       "  'color': '3호 베이지'},\n",
       " {'name': '아트클래스 스튜디오 드 땅뜨 리퀴드 에어',\n",
       "  'image': 'http://www.toocoolforschool.com/shop/data/goods/1542594560345l0.jpg',\n",
       "  'category': '홈 > E-SHOP > BRAND LINE',\n",
       "  'volume': '30ml',\n",
       "  'originalPrice': 28000,\n",
       "  'salePrice': 28000,\n",
       "  'brand': 'toocoolforschool',\n",
       "  'url': 'http://www.toocoolforschool.com/shop/goods/goods_view.php?goodsno=14110335&category=004',\n",
       "  'color': '4호 샌드'}]"
      ]
     },
     "metadata": {},
     "output_type": "display_data"
    },
    {
     "data": {
      "text/plain": [
       "[{'name': '★케이스리뉴얼★글램락 뱀파이어 키스 허쉬 브라운',\n",
       "  'image': 'http://www.toocoolforschool.com/shop/data/goods/1539670132981l0.jpg',\n",
       "  'category': '홈 > E-SHOP > BRAND LINE',\n",
       "  'volume': '4.2g',\n",
       "  'originalPrice': 13000,\n",
       "  'salePrice': 13000,\n",
       "  'brand': 'toocoolforschool',\n",
       "  'url': 'http://www.toocoolforschool.com/shop/goods/goods_view.php?goodsno=14110404&category=004',\n",
       "  'color': '1호 뮤트(소프트브라운)'},\n",
       " {'name': '★케이스리뉴얼★글램락 뱀파이어 키스 허쉬 브라운',\n",
       "  'image': 'http://www.toocoolforschool.com/shop/data/goods/1539670132981l0.jpg',\n",
       "  'category': '홈 > E-SHOP > BRAND LINE',\n",
       "  'volume': '4.2g',\n",
       "  'originalPrice': 13000,\n",
       "  'salePrice': 13000,\n",
       "  'brand': 'toocoolforschool',\n",
       "  'url': 'http://www.toocoolforschool.com/shop/goods/goods_view.php?goodsno=14110404&category=004',\n",
       "  'color': '2호 로프티(카밍브라운)'},\n",
       " {'name': '★케이스리뉴얼★글램락 뱀파이어 키스 허쉬 브라운',\n",
       "  'image': 'http://www.toocoolforschool.com/shop/data/goods/1539670132981l0.jpg',\n",
       "  'category': '홈 > E-SHOP > BRAND LINE',\n",
       "  'volume': '4.2g',\n",
       "  'originalPrice': 13000,\n",
       "  'salePrice': 13000,\n",
       "  'brand': 'toocoolforschool',\n",
       "  'url': 'http://www.toocoolforschool.com/shop/goods/goods_view.php?goodsno=14110404&category=004',\n",
       "  'color': '3호 모더레이트(MLBB)'},\n",
       " {'name': '★케이스리뉴얼★글램락 뱀파이어 키스 허쉬 브라운',\n",
       "  'image': 'http://www.toocoolforschool.com/shop/data/goods/1539670132981l0.jpg',\n",
       "  'category': '홈 > E-SHOP > BRAND LINE',\n",
       "  'volume': '4.2g',\n",
       "  'originalPrice': 13000,\n",
       "  'salePrice': 13000,\n",
       "  'brand': 'toocoolforschool',\n",
       "  'url': 'http://www.toocoolforschool.com/shop/goods/goods_view.php?goodsno=14110404&category=004',\n",
       "  'color': '4호 드무어(레드 브라운)'},\n",
       " {'name': '★케이스리뉴얼★글램락 뱀파이어 키스 허쉬 브라운',\n",
       "  'image': 'http://www.toocoolforschool.com/shop/data/goods/1539670132981l0.jpg',\n",
       "  'category': '홈 > E-SHOP > BRAND LINE',\n",
       "  'volume': '4.2g',\n",
       "  'originalPrice': 13000,\n",
       "  'salePrice': 13000,\n",
       "  'brand': 'toocoolforschool',\n",
       "  'url': 'http://www.toocoolforschool.com/shop/goods/goods_view.php?goodsno=14110404&category=004',\n",
       "  'color': '5호 블라인드(트렌디 브라운)'}]"
      ]
     },
     "metadata": {},
     "output_type": "display_data"
    },
    {
     "data": {
      "text/plain": [
       "[{'name': '★C컬 세팅★글램락 몬스트러스 웨이브 볼륨 카라',\n",
       "  'image': 'http://www.toocoolforschool.com/shop/data/goods/1504761412883l0.jpg',\n",
       "  'category': '홈 > E-SHOP > BRAND LINE',\n",
       "  'volume': '8.5g',\n",
       "  'originalPrice': 12000,\n",
       "  'salePrice': 12000,\n",
       "  'brand': 'toocoolforschool',\n",
       "  'url': 'http://www.toocoolforschool.com/shop/goods/goods_view.php?goodsno=14110402&category=004',\n",
       "  'color': '1호 볼드 블랙  [품절]'},\n",
       " {'name': '★C컬 세팅★글램락 몬스트러스 웨이브 볼륨 카라',\n",
       "  'image': 'http://www.toocoolforschool.com/shop/data/goods/1504761412883l0.jpg',\n",
       "  'category': '홈 > E-SHOP > BRAND LINE',\n",
       "  'volume': '8.5g',\n",
       "  'originalPrice': 12000,\n",
       "  'salePrice': 12000,\n",
       "  'brand': 'toocoolforschool',\n",
       "  'url': 'http://www.toocoolforschool.com/shop/goods/goods_view.php?goodsno=14110402&category=004',\n",
       "  'color': '2호 메가 브라운'}]"
      ]
     },
     "metadata": {},
     "output_type": "display_data"
    },
    {
     "data": {
      "text/plain": [
       "[{'name': '아트클래스 스튜디오 드 땅뜨 리퀴드 새틴',\n",
       "  'image': 'http://www.toocoolforschool.com/shop/data/goods/1542594695256l0.jpg',\n",
       "  'category': '홈 > E-SHOP > BRAND LINE',\n",
       "  'volume': '30ml',\n",
       "  'originalPrice': 28000,\n",
       "  'salePrice': 28000,\n",
       "  'brand': 'toocoolforschool',\n",
       "  'url': 'http://www.toocoolforschool.com/shop/goods/goods_view.php?goodsno=14110401&category=004',\n",
       "  'color': '1호 페일'},\n",
       " {'name': '아트클래스 스튜디오 드 땅뜨 리퀴드 새틴',\n",
       "  'image': 'http://www.toocoolforschool.com/shop/data/goods/1542594695256l0.jpg',\n",
       "  'category': '홈 > E-SHOP > BRAND LINE',\n",
       "  'volume': '30ml',\n",
       "  'originalPrice': 28000,\n",
       "  'salePrice': 28000,\n",
       "  'brand': 'toocoolforschool',\n",
       "  'url': 'http://www.toocoolforschool.com/shop/goods/goods_view.php?goodsno=14110401&category=004',\n",
       "  'color': '2호 포슬린'},\n",
       " {'name': '아트클래스 스튜디오 드 땅뜨 리퀴드 새틴',\n",
       "  'image': 'http://www.toocoolforschool.com/shop/data/goods/1542594695256l0.jpg',\n",
       "  'category': '홈 > E-SHOP > BRAND LINE',\n",
       "  'volume': '30ml',\n",
       "  'originalPrice': 28000,\n",
       "  'salePrice': 28000,\n",
       "  'brand': 'toocoolforschool',\n",
       "  'url': 'http://www.toocoolforschool.com/shop/goods/goods_view.php?goodsno=14110401&category=004',\n",
       "  'color': '3호 아이보리'},\n",
       " {'name': '아트클래스 스튜디오 드 땅뜨 리퀴드 새틴',\n",
       "  'image': 'http://www.toocoolforschool.com/shop/data/goods/1542594695256l0.jpg',\n",
       "  'category': '홈 > E-SHOP > BRAND LINE',\n",
       "  'volume': '30ml',\n",
       "  'originalPrice': 28000,\n",
       "  'salePrice': 28000,\n",
       "  'brand': 'toocoolforschool',\n",
       "  'url': 'http://www.toocoolforschool.com/shop/goods/goods_view.php?goodsno=14110401&category=004',\n",
       "  'color': '4호 베이지'}]"
      ]
     },
     "metadata": {},
     "output_type": "display_data"
    },
    {
     "data": {
      "text/plain": [
       "[{'name': '★글로우 래스팅★아트클래스 오로라 미스트',\n",
       "  'image': 'http://www.toocoolforschool.com/shop/data/goods/1504228004450l0.jpg',\n",
       "  'category': '홈 > E-SHOP > BRAND LINE',\n",
       "  'volume': '80ml',\n",
       "  'originalPrice': 15000,\n",
       "  'salePrice': 15000,\n",
       "  'brand': 'toocoolforschool',\n",
       "  'url': 'http://www.toocoolforschool.com/shop/goods/goods_view.php?goodsno=14110400&category=004',\n",
       "  'color': ''}]"
      ]
     },
     "metadata": {},
     "output_type": "display_data"
    },
    {
     "data": {
      "text/plain": [
       "[{'name': '아트클래스 아티스트 파운데이션',\n",
       "  'image': 'http://www.toocoolforschool.com/shop/data/goods/1496412980169l0.jpg',\n",
       "  'category': '홈 > E-SHOP > BRAND LINE',\n",
       "  'volume': '2.3cmX2.9cm / 15.5cm',\n",
       "  'originalPrice': 16000,\n",
       "  'salePrice': 16000,\n",
       "  'brand': 'toocoolforschool',\n",
       "  'url': 'http://www.toocoolforschool.com/shop/goods/goods_view.php?goodsno=14110043&category=004',\n",
       "  'color': ''}]"
      ]
     },
     "metadata": {},
     "output_type": "display_data"
    },
    {
     "data": {
      "text/plain": [
       "[{'name': '★반전 틴티드★다이노플라츠 민티 알프스 립밤',\n",
       "  'image': 'http://www.toocoolforschool.com/shop/data/goods/1496403896415l0.jpg',\n",
       "  'category': '홈 > E-SHOP > BRAND LINE',\n",
       "  'volume': '9g',\n",
       "  'originalPrice': 10000,\n",
       "  'salePrice': 10000,\n",
       "  'brand': 'toocoolforschool',\n",
       "  'url': 'http://www.toocoolforschool.com/shop/goods/goods_view.php?goodsno=14110341&category=004',\n",
       "  'color': '2호 묀희사우르스 (스피아민트향)'},\n",
       " {'name': '★반전 틴티드★다이노플라츠 민티 알프스 립밤',\n",
       "  'image': 'http://www.toocoolforschool.com/shop/data/goods/1496403896415l0.jpg',\n",
       "  'category': '홈 > E-SHOP > BRAND LINE',\n",
       "  'volume': '9g',\n",
       "  'originalPrice': 10000,\n",
       "  'salePrice': 10000,\n",
       "  'brand': 'toocoolforschool',\n",
       "  'url': 'http://www.toocoolforschool.com/shop/goods/goods_view.php?goodsno=14110341&category=004',\n",
       "  'color': '3호 아이거톱스 (포레스트민트향)'}]"
      ]
     },
     "metadata": {},
     "output_type": "display_data"
    },
    {
     "data": {
      "text/plain": [
       "[{'name': '★50%할인★글램락 베일드 씬',\n",
       "  'image': 'http://www.toocoolforschool.com/shop/data/goods/152119011429l0.jpg',\n",
       "  'category': '홈 > E-SHOP > BRAND LINE',\n",
       "  'volume': '24g (아이섀도우2g*6 / 블러셔 4g*2 / 하이라이터 4g*1)',\n",
       "  'originalPrice': 36000,\n",
       "  'salePrice': 18000,\n",
       "  'brand': 'toocoolforschool',\n",
       "  'url': 'http://www.toocoolforschool.com/shop/goods/goods_view.php?goodsno=14110346&category=004',\n",
       "  'color': 'No.1 미스테리어스(신비로운 퍼플 테크니컬)'},\n",
       " {'name': '★50%할인★글램락 베일드 씬',\n",
       "  'image': 'http://www.toocoolforschool.com/shop/data/goods/152119011429l0.jpg',\n",
       "  'category': '홈 > E-SHOP > BRAND LINE',\n",
       "  'volume': '24g (아이섀도우2g*6 / 블러셔 4g*2 / 하이라이터 4g*1)',\n",
       "  'originalPrice': 36000,\n",
       "  'salePrice': 18000,\n",
       "  'brand': 'toocoolforschool',\n",
       "  'url': 'http://www.toocoolforschool.com/shop/goods/goods_view.php?goodsno=14110346&category=004',\n",
       "  'color': 'No.2 시크리티브(대담한 플레임 골드)'}]"
      ]
     },
     "metadata": {},
     "output_type": "display_data"
    },
    {
     "data": {
      "text/plain": [
       "[{'name': '다이노플라츠 팔라초비티',\n",
       "  'image': 'http://www.toocoolforschool.com/shop/data/goods/1521189697830l0.jpg',\n",
       "  'category': '홈 > E-SHOP > BRAND LINE',\n",
       "  'volume': '2g',\n",
       "  'originalPrice': 19000,\n",
       "  'salePrice': 19000,\n",
       "  'brand': 'toocoolforschool',\n",
       "  'url': 'http://www.toocoolforschool.com/shop/goods/goods_view.php?goodsno=14110350&category=004',\n",
       "  'color': '1. 루비노 (다크레드)  [품절]'},\n",
       " {'name': '다이노플라츠 팔라초비티',\n",
       "  'image': 'http://www.toocoolforschool.com/shop/data/goods/1521189697830l0.jpg',\n",
       "  'category': '홈 > E-SHOP > BRAND LINE',\n",
       "  'volume': '2g',\n",
       "  'originalPrice': 19000,\n",
       "  'salePrice': 19000,\n",
       "  'brand': 'toocoolforschool',\n",
       "  'url': 'http://www.toocoolforschool.com/shop/goods/goods_view.php?goodsno=14110350&category=004',\n",
       "  'color': '2. 로쏘 (클래식레드)  [품절]'},\n",
       " {'name': '다이노플라츠 팔라초비티',\n",
       "  'image': 'http://www.toocoolforschool.com/shop/data/goods/1521189697830l0.jpg',\n",
       "  'category': '홈 > E-SHOP > BRAND LINE',\n",
       "  'volume': '2g',\n",
       "  'originalPrice': 19000,\n",
       "  'salePrice': 19000,\n",
       "  'brand': 'toocoolforschool',\n",
       "  'url': 'http://www.toocoolforschool.com/shop/goods/goods_view.php?goodsno=14110350&category=004',\n",
       "  'color': '3. 만다리노 (레드오렌지)  [품절]'},\n",
       " {'name': '다이노플라츠 팔라초비티',\n",
       "  'image': 'http://www.toocoolforschool.com/shop/data/goods/1521189697830l0.jpg',\n",
       "  'category': '홈 > E-SHOP > BRAND LINE',\n",
       "  'volume': '2g',\n",
       "  'originalPrice': 19000,\n",
       "  'salePrice': 19000,\n",
       "  'brand': 'toocoolforschool',\n",
       "  'url': 'http://www.toocoolforschool.com/shop/goods/goods_view.php?goodsno=14110350&category=004',\n",
       "  'color': '4. 로사 (텐더핑크)  [품절]'},\n",
       " {'name': '다이노플라츠 팔라초비티',\n",
       "  'image': 'http://www.toocoolforschool.com/shop/data/goods/1521189697830l0.jpg',\n",
       "  'category': '홈 > E-SHOP > BRAND LINE',\n",
       "  'volume': '2g',\n",
       "  'originalPrice': 19000,\n",
       "  'salePrice': 19000,\n",
       "  'brand': 'toocoolforschool',\n",
       "  'url': 'http://www.toocoolforschool.com/shop/goods/goods_view.php?goodsno=14110350&category=004',\n",
       "  'color': '5. 푸시아 (핫핑크)  [품절]'},\n",
       " {'name': '다이노플라츠 팔라초비티',\n",
       "  'image': 'http://www.toocoolforschool.com/shop/data/goods/1521189697830l0.jpg',\n",
       "  'category': '홈 > E-SHOP > BRAND LINE',\n",
       "  'volume': '2g',\n",
       "  'originalPrice': 19000,\n",
       "  'salePrice': 19000,\n",
       "  'brand': 'toocoolforschool',\n",
       "  'url': 'http://www.toocoolforschool.com/shop/goods/goods_view.php?goodsno=14110350&category=004',\n",
       "  'color': '6. 비올라 (플럼퍼플)'}]"
      ]
     },
     "metadata": {},
     "output_type": "display_data"
    },
    {
     "data": {
      "text/plain": [
       "[{'name': '글램락 어반 브로우',\n",
       "  'image': 'http://www.toocoolforschool.com/shop/data/goods/15014690370l0.jpg',\n",
       "  'category': '홈 > E-SHOP > BRAND LINE',\n",
       "  'volume': '5ml',\n",
       "  'originalPrice': 11000,\n",
       "  'salePrice': 11000,\n",
       "  'brand': 'toocoolforschool',\n",
       "  'url': 'http://www.toocoolforschool.com/shop/goods/goods_view.php?goodsno=14110384&category=004',\n",
       "  'color': '내추럴 브라운  [품절]'},\n",
       " {'name': '글램락 어반 브로우',\n",
       "  'image': 'http://www.toocoolforschool.com/shop/data/goods/15014690370l0.jpg',\n",
       "  'category': '홈 > E-SHOP > BRAND LINE',\n",
       "  'volume': '5ml',\n",
       "  'originalPrice': 11000,\n",
       "  'salePrice': 11000,\n",
       "  'brand': 'toocoolforschool',\n",
       "  'url': 'http://www.toocoolforschool.com/shop/goods/goods_view.php?goodsno=14110384&category=004',\n",
       "  'color': '라이트 브라운  [품절]'},\n",
       " {'name': '글램락 어반 브로우',\n",
       "  'image': 'http://www.toocoolforschool.com/shop/data/goods/15014690370l0.jpg',\n",
       "  'category': '홈 > E-SHOP > BRAND LINE',\n",
       "  'volume': '5ml',\n",
       "  'originalPrice': 11000,\n",
       "  'salePrice': 11000,\n",
       "  'brand': 'toocoolforschool',\n",
       "  'url': 'http://www.toocoolforschool.com/shop/goods/goods_view.php?goodsno=14110384&category=004',\n",
       "  'color': '레드 브라운  [품절]'}]"
      ]
     },
     "metadata": {},
     "output_type": "display_data"
    },
    {
     "data": {
      "text/plain": [
       "[{'name': '글램락 어반 섀도우',\n",
       "  'image': 'http://www.toocoolforschool.com/shop/data/goods/1501468863484l0.jpg',\n",
       "  'category': '홈 > E-SHOP > BRAND LINE',\n",
       "  'volume': '2.6g',\n",
       "  'originalPrice': 8000,\n",
       "  'salePrice': 8000,\n",
       "  'brand': 'toocoolforschool',\n",
       "  'url': 'http://www.toocoolforschool.com/shop/goods/goods_view.php?goodsno=14110386&category=004',\n",
       "  'color': '1호 어반플라워  [품절]'},\n",
       " {'name': '글램락 어반 섀도우',\n",
       "  'image': 'http://www.toocoolforschool.com/shop/data/goods/1501468863484l0.jpg',\n",
       "  'category': '홈 > E-SHOP > BRAND LINE',\n",
       "  'volume': '2.6g',\n",
       "  'originalPrice': 8000,\n",
       "  'salePrice': 8000,\n",
       "  'brand': 'toocoolforschool',\n",
       "  'url': 'http://www.toocoolforschool.com/shop/goods/goods_view.php?goodsno=14110386&category=004',\n",
       "  'color': '2호 레트로오렌지  [품절]'},\n",
       " {'name': '글램락 어반 섀도우',\n",
       "  'image': 'http://www.toocoolforschool.com/shop/data/goods/1501468863484l0.jpg',\n",
       "  'category': '홈 > E-SHOP > BRAND LINE',\n",
       "  'volume': '2.6g',\n",
       "  'originalPrice': 8000,\n",
       "  'salePrice': 8000,\n",
       "  'brand': 'toocoolforschool',\n",
       "  'url': 'http://www.toocoolforschool.com/shop/goods/goods_view.php?goodsno=14110386&category=004',\n",
       "  'color': '3호 피치글로우  [품절]'},\n",
       " {'name': '글램락 어반 섀도우',\n",
       "  'image': 'http://www.toocoolforschool.com/shop/data/goods/1501468863484l0.jpg',\n",
       "  'category': '홈 > E-SHOP > BRAND LINE',\n",
       "  'volume': '2.6g',\n",
       "  'originalPrice': 8000,\n",
       "  'salePrice': 8000,\n",
       "  'brand': 'toocoolforschool',\n",
       "  'url': 'http://www.toocoolforschool.com/shop/goods/goods_view.php?goodsno=14110386&category=004',\n",
       "  'color': '4호 무디누드  [품절]'},\n",
       " {'name': '글램락 어반 섀도우',\n",
       "  'image': 'http://www.toocoolforschool.com/shop/data/goods/1501468863484l0.jpg',\n",
       "  'category': '홈 > E-SHOP > BRAND LINE',\n",
       "  'volume': '2.6g',\n",
       "  'originalPrice': 8000,\n",
       "  'salePrice': 8000,\n",
       "  'brand': 'toocoolforschool',\n",
       "  'url': 'http://www.toocoolforschool.com/shop/goods/goods_view.php?goodsno=14110386&category=004',\n",
       "  'color': '5호 골든엣지  [품절]'},\n",
       " {'name': '글램락 어반 섀도우',\n",
       "  'image': 'http://www.toocoolforschool.com/shop/data/goods/1501468863484l0.jpg',\n",
       "  'category': '홈 > E-SHOP > BRAND LINE',\n",
       "  'volume': '2.6g',\n",
       "  'originalPrice': 8000,\n",
       "  'salePrice': 8000,\n",
       "  'brand': 'toocoolforschool',\n",
       "  'url': 'http://www.toocoolforschool.com/shop/goods/goods_view.php?goodsno=14110386&category=004',\n",
       "  'color': '6호 데빌블루  [품절]'},\n",
       " {'name': '글램락 어반 섀도우',\n",
       "  'image': 'http://www.toocoolforschool.com/shop/data/goods/1501468863484l0.jpg',\n",
       "  'category': '홈 > E-SHOP > BRAND LINE',\n",
       "  'volume': '2.6g',\n",
       "  'originalPrice': 8000,\n",
       "  'salePrice': 8000,\n",
       "  'brand': 'toocoolforschool',\n",
       "  'url': 'http://www.toocoolforschool.com/shop/goods/goods_view.php?goodsno=14110386&category=004',\n",
       "  'color': '7호 록블랙  [품절]'},\n",
       " {'name': '글램락 어반 섀도우',\n",
       "  'image': 'http://www.toocoolforschool.com/shop/data/goods/1501468863484l0.jpg',\n",
       "  'category': '홈 > E-SHOP > BRAND LINE',\n",
       "  'volume': '2.6g',\n",
       "  'originalPrice': 8000,\n",
       "  'salePrice': 8000,\n",
       "  'brand': 'toocoolforschool',\n",
       "  'url': 'http://www.toocoolforschool.com/shop/goods/goods_view.php?goodsno=14110386&category=004',\n",
       "  'color': '8호 글로우로즈  [품절]'},\n",
       " {'name': '글램락 어반 섀도우',\n",
       "  'image': 'http://www.toocoolforschool.com/shop/data/goods/1501468863484l0.jpg',\n",
       "  'category': '홈 > E-SHOP > BRAND LINE',\n",
       "  'volume': '2.6g',\n",
       "  'originalPrice': 8000,\n",
       "  'salePrice': 8000,\n",
       "  'brand': 'toocoolforschool',\n",
       "  'url': 'http://www.toocoolforschool.com/shop/goods/goods_view.php?goodsno=14110386&category=004',\n",
       "  'color': '9호 스파클로프테 (10,000원) [품절]'},\n",
       " {'name': '글램락 어반 섀도우',\n",
       "  'image': 'http://www.toocoolforschool.com/shop/data/goods/1501468863484l0.jpg',\n",
       "  'category': '홈 > E-SHOP > BRAND LINE',\n",
       "  'volume': '2.6g',\n",
       "  'originalPrice': 8000,\n",
       "  'salePrice': 8000,\n",
       "  'brand': 'toocoolforschool',\n",
       "  'url': 'http://www.toocoolforschool.com/shop/goods/goods_view.php?goodsno=14110386&category=004',\n",
       "  'color': '10호 메탈시크 (10,000원) [품절]'},\n",
       " {'name': '글램락 어반 섀도우',\n",
       "  'image': 'http://www.toocoolforschool.com/shop/data/goods/1501468863484l0.jpg',\n",
       "  'category': '홈 > E-SHOP > BRAND LINE',\n",
       "  'volume': '2.6g',\n",
       "  'originalPrice': 8000,\n",
       "  'salePrice': 8000,\n",
       "  'brand': 'toocoolforschool',\n",
       "  'url': 'http://www.toocoolforschool.com/shop/goods/goods_view.php?goodsno=14110386&category=004',\n",
       "  'color': '11호 워닝레드  [품절]'},\n",
       " {'name': '글램락 어반 섀도우',\n",
       "  'image': 'http://www.toocoolforschool.com/shop/data/goods/1501468863484l0.jpg',\n",
       "  'category': '홈 > E-SHOP > BRAND LINE',\n",
       "  'volume': '2.6g',\n",
       "  'originalPrice': 8000,\n",
       "  'salePrice': 8000,\n",
       "  'brand': 'toocoolforschool',\n",
       "  'url': 'http://www.toocoolforschool.com/shop/goods/goods_view.php?goodsno=14110386&category=004',\n",
       "  'color': '12호 다크블론드  [품절]'},\n",
       " {'name': '글램락 어반 섀도우',\n",
       "  'image': 'http://www.toocoolforschool.com/shop/data/goods/1501468863484l0.jpg',\n",
       "  'category': '홈 > E-SHOP > BRAND LINE',\n",
       "  'volume': '2.6g',\n",
       "  'originalPrice': 8000,\n",
       "  'salePrice': 8000,\n",
       "  'brand': 'toocoolforschool',\n",
       "  'url': 'http://www.toocoolforschool.com/shop/goods/goods_view.php?goodsno=14110386&category=004',\n",
       "  'color': '15호 로즈브리즈'},\n",
       " {'name': '글램락 어반 섀도우',\n",
       "  'image': 'http://www.toocoolforschool.com/shop/data/goods/1501468863484l0.jpg',\n",
       "  'category': '홈 > E-SHOP > BRAND LINE',\n",
       "  'volume': '2.6g',\n",
       "  'originalPrice': 8000,\n",
       "  'salePrice': 8000,\n",
       "  'brand': 'toocoolforschool',\n",
       "  'url': 'http://www.toocoolforschool.com/shop/goods/goods_view.php?goodsno=14110386&category=004',\n",
       "  'color': '16호 스위트피치  [품절]'},\n",
       " {'name': '글램락 어반 섀도우',\n",
       "  'image': 'http://www.toocoolforschool.com/shop/data/goods/1501468863484l0.jpg',\n",
       "  'category': '홈 > E-SHOP > BRAND LINE',\n",
       "  'volume': '2.6g',\n",
       "  'originalPrice': 8000,\n",
       "  'salePrice': 8000,\n",
       "  'brand': 'toocoolforschool',\n",
       "  'url': 'http://www.toocoolforschool.com/shop/goods/goods_view.php?goodsno=14110386&category=004',\n",
       "  'color': '17호 시나몬슈가'},\n",
       " {'name': '글램락 어반 섀도우',\n",
       "  'image': 'http://www.toocoolforschool.com/shop/data/goods/1501468863484l0.jpg',\n",
       "  'category': '홈 > E-SHOP > BRAND LINE',\n",
       "  'volume': '2.6g',\n",
       "  'originalPrice': 8000,\n",
       "  'salePrice': 8000,\n",
       "  'brand': 'toocoolforschool',\n",
       "  'url': 'http://www.toocoolforschool.com/shop/goods/goods_view.php?goodsno=14110386&category=004',\n",
       "  'color': '18호 진저트  [품절]'},\n",
       " {'name': '글램락 어반 섀도우',\n",
       "  'image': 'http://www.toocoolforschool.com/shop/data/goods/1501468863484l0.jpg',\n",
       "  'category': '홈 > E-SHOP > BRAND LINE',\n",
       "  'volume': '2.6g',\n",
       "  'originalPrice': 8000,\n",
       "  'salePrice': 8000,\n",
       "  'brand': 'toocoolforschool',\n",
       "  'url': 'http://www.toocoolforschool.com/shop/goods/goods_view.php?goodsno=14110386&category=004',\n",
       "  'color': '19호 드레시핑크  [품절]'},\n",
       " {'name': '글램락 어반 섀도우',\n",
       "  'image': 'http://www.toocoolforschool.com/shop/data/goods/1501468863484l0.jpg',\n",
       "  'category': '홈 > E-SHOP > BRAND LINE',\n",
       "  'volume': '2.6g',\n",
       "  'originalPrice': 8000,\n",
       "  'salePrice': 8000,\n",
       "  'brand': 'toocoolforschool',\n",
       "  'url': 'http://www.toocoolforschool.com/shop/goods/goods_view.php?goodsno=14110386&category=004',\n",
       "  'color': '20호 자몽소르베'},\n",
       " {'name': '글램락 어반 섀도우',\n",
       "  'image': 'http://www.toocoolforschool.com/shop/data/goods/1501468863484l0.jpg',\n",
       "  'category': '홈 > E-SHOP > BRAND LINE',\n",
       "  'volume': '2.6g',\n",
       "  'originalPrice': 8000,\n",
       "  'salePrice': 8000,\n",
       "  'brand': 'toocoolforschool',\n",
       "  'url': 'http://www.toocoolforschool.com/shop/goods/goods_view.php?goodsno=14110386&category=004',\n",
       "  'color': '21호 캐시미어코랄  [품절]'},\n",
       " {'name': '글램락 어반 섀도우',\n",
       "  'image': 'http://www.toocoolforschool.com/shop/data/goods/1501468863484l0.jpg',\n",
       "  'category': '홈 > E-SHOP > BRAND LINE',\n",
       "  'volume': '2.6g',\n",
       "  'originalPrice': 8000,\n",
       "  'salePrice': 8000,\n",
       "  'brand': 'toocoolforschool',\n",
       "  'url': 'http://www.toocoolforschool.com/shop/goods/goods_view.php?goodsno=14110386&category=004',\n",
       "  'color': '22호 카멜오렌지  [품절]'},\n",
       " {'name': '글램락 어반 섀도우',\n",
       "  'image': 'http://www.toocoolforschool.com/shop/data/goods/1501468863484l0.jpg',\n",
       "  'category': '홈 > E-SHOP > BRAND LINE',\n",
       "  'volume': '2.6g',\n",
       "  'originalPrice': 8000,\n",
       "  'salePrice': 8000,\n",
       "  'brand': 'toocoolforschool',\n",
       "  'url': 'http://www.toocoolforschool.com/shop/goods/goods_view.php?goodsno=14110386&category=004',\n",
       "  'color': '23호 블룸레드 (10,000원) [품절]'},\n",
       " {'name': '글램락 어반 섀도우',\n",
       "  'image': 'http://www.toocoolforschool.com/shop/data/goods/1501468863484l0.jpg',\n",
       "  'category': '홈 > E-SHOP > BRAND LINE',\n",
       "  'volume': '2.6g',\n",
       "  'originalPrice': 8000,\n",
       "  'salePrice': 8000,\n",
       "  'brand': 'toocoolforschool',\n",
       "  'url': 'http://www.toocoolforschool.com/shop/goods/goods_view.php?goodsno=14110386&category=004',\n",
       "  'color': '24호 타아라 (10,000원) [품절]'},\n",
       " {'name': '글램락 어반 섀도우',\n",
       "  'image': 'http://www.toocoolforschool.com/shop/data/goods/1501468863484l0.jpg',\n",
       "  'category': '홈 > E-SHOP > BRAND LINE',\n",
       "  'volume': '2.6g',\n",
       "  'originalPrice': 8000,\n",
       "  'salePrice': 8000,\n",
       "  'brand': 'toocoolforschool',\n",
       "  'url': 'http://www.toocoolforschool.com/shop/goods/goods_view.php?goodsno=14110386&category=004',\n",
       "  'color': '25호 쇼콜라토핑 (10,000원) [품절]'},\n",
       " {'name': '글램락 어반 섀도우',\n",
       "  'image': 'http://www.toocoolforschool.com/shop/data/goods/1501468863484l0.jpg',\n",
       "  'category': '홈 > E-SHOP > BRAND LINE',\n",
       "  'volume': '2.6g',\n",
       "  'originalPrice': 8000,\n",
       "  'salePrice': 8000,\n",
       "  'brand': 'toocoolforschool',\n",
       "  'url': 'http://www.toocoolforschool.com/shop/goods/goods_view.php?goodsno=14110386&category=004',\n",
       "  'color': '26호 멜로우핑크'},\n",
       " {'name': '글램락 어반 섀도우',\n",
       "  'image': 'http://www.toocoolforschool.com/shop/data/goods/1501468863484l0.jpg',\n",
       "  'category': '홈 > E-SHOP > BRAND LINE',\n",
       "  'volume': '2.6g',\n",
       "  'originalPrice': 8000,\n",
       "  'salePrice': 8000,\n",
       "  'brand': 'toocoolforschool',\n",
       "  'url': 'http://www.toocoolforschool.com/shop/goods/goods_view.php?goodsno=14110386&category=004',\n",
       "  'color': '27호 미스틱모브  [품절]'},\n",
       " {'name': '글램락 어반 섀도우',\n",
       "  'image': 'http://www.toocoolforschool.com/shop/data/goods/1501468863484l0.jpg',\n",
       "  'category': '홈 > E-SHOP > BRAND LINE',\n",
       "  'volume': '2.6g',\n",
       "  'originalPrice': 8000,\n",
       "  'salePrice': 8000,\n",
       "  'brand': 'toocoolforschool',\n",
       "  'url': 'http://www.toocoolforschool.com/shop/goods/goods_view.php?goodsno=14110386&category=004',\n",
       "  'color': '28호 코랄캔디  [품절]'},\n",
       " {'name': '글램락 어반 섀도우',\n",
       "  'image': 'http://www.toocoolforschool.com/shop/data/goods/1501468863484l0.jpg',\n",
       "  'category': '홈 > E-SHOP > BRAND LINE',\n",
       "  'volume': '2.6g',\n",
       "  'originalPrice': 8000,\n",
       "  'salePrice': 8000,\n",
       "  'brand': 'toocoolforschool',\n",
       "  'url': 'http://www.toocoolforschool.com/shop/goods/goods_view.php?goodsno=14110386&category=004',\n",
       "  'color': '29호 시나몬모카'},\n",
       " {'name': '글램락 어반 섀도우',\n",
       "  'image': 'http://www.toocoolforschool.com/shop/data/goods/1501468863484l0.jpg',\n",
       "  'category': '홈 > E-SHOP > BRAND LINE',\n",
       "  'volume': '2.6g',\n",
       "  'originalPrice': 8000,\n",
       "  'salePrice': 8000,\n",
       "  'brand': 'toocoolforschool',\n",
       "  'url': 'http://www.toocoolforschool.com/shop/goods/goods_view.php?goodsno=14110386&category=004',\n",
       "  'color': '30호 스타즈 (10,000원) [품절]'}]"
      ]
     },
     "metadata": {},
     "output_type": "display_data"
    },
    {
     "data": {
      "text/plain": [
       "[{'name': '글램락 어반 시크 아이브로우 펜슬',\n",
       "  'image': 'http://www.toocoolforschool.com/shop/data/goods/1542011730812l0.jpg',\n",
       "  'category': '홈 > E-SHOP > BRAND LINE',\n",
       "  'volume': '0.25g',\n",
       "  'originalPrice': 9500,\n",
       "  'salePrice': 9500,\n",
       "  'brand': 'toocoolforschool',\n",
       "  'url': 'http://www.toocoolforschool.com/shop/goods/goods_view.php?goodsno=14110388&category=004',\n",
       "  'color': '1호 내추럴 브라운  [품절]'},\n",
       " {'name': '글램락 어반 시크 아이브로우 펜슬',\n",
       "  'image': 'http://www.toocoolforschool.com/shop/data/goods/1542011730812l0.jpg',\n",
       "  'category': '홈 > E-SHOP > BRAND LINE',\n",
       "  'volume': '0.25g',\n",
       "  'originalPrice': 9500,\n",
       "  'salePrice': 9500,\n",
       "  'brand': 'toocoolforschool',\n",
       "  'url': 'http://www.toocoolforschool.com/shop/goods/goods_view.php?goodsno=14110388&category=004',\n",
       "  'color': '2호 차콜 그레이  [품절]'},\n",
       " {'name': '글램락 어반 시크 아이브로우 펜슬',\n",
       "  'image': 'http://www.toocoolforschool.com/shop/data/goods/1542011730812l0.jpg',\n",
       "  'category': '홈 > E-SHOP > BRAND LINE',\n",
       "  'volume': '0.25g',\n",
       "  'originalPrice': 9500,\n",
       "  'salePrice': 9500,\n",
       "  'brand': 'toocoolforschool',\n",
       "  'url': 'http://www.toocoolforschool.com/shop/goods/goods_view.php?goodsno=14110388&category=004',\n",
       "  'color': '3호 라이트 브라운'},\n",
       " {'name': '글램락 어반 시크 아이브로우 펜슬',\n",
       "  'image': 'http://www.toocoolforschool.com/shop/data/goods/1542011730812l0.jpg',\n",
       "  'category': '홈 > E-SHOP > BRAND LINE',\n",
       "  'volume': '0.25g',\n",
       "  'originalPrice': 9500,\n",
       "  'salePrice': 9500,\n",
       "  'brand': 'toocoolforschool',\n",
       "  'url': 'http://www.toocoolforschool.com/shop/goods/goods_view.php?goodsno=14110388&category=004',\n",
       "  'color': '4호 레드 브라운'}]"
      ]
     },
     "metadata": {},
     "output_type": "display_data"
    },
    {
     "data": {
      "text/plain": [
       "[{'name': '★53%할인★바이로댕 누벨레퐁쥬 SPF50+/PA+++',\n",
       "  'image': 'http://www.toocoolforschool.com/shop/data/goods/153870172843l0.jpg',\n",
       "  'category': '홈 > E-SHOP > BRAND LINE',\n",
       "  'volume': '12g',\n",
       "  'originalPrice': 21000,\n",
       "  'salePrice': 9900,\n",
       "  'brand': 'toocoolforschool',\n",
       "  'url': 'http://www.toocoolforschool.com/shop/goods/goods_view.php?goodsno=14110349&category=004',\n",
       "  'color': '1. 단품_누벨레퐁쥬 1호 아이보리'},\n",
       " {'name': '★53%할인★바이로댕 누벨레퐁쥬 SPF50+/PA+++',\n",
       "  'image': 'http://www.toocoolforschool.com/shop/data/goods/153870172843l0.jpg',\n",
       "  'category': '홈 > E-SHOP > BRAND LINE',\n",
       "  'volume': '12g',\n",
       "  'originalPrice': 21000,\n",
       "  'salePrice': 9900,\n",
       "  'brand': 'toocoolforschool',\n",
       "  'url': 'http://www.toocoolforschool.com/shop/goods/goods_view.php?goodsno=14110349&category=004',\n",
       "  'color': '2. 세트_누벨레퐁쥬 1호 아이보리 단품+리필 (16,900원) [품절]'},\n",
       " {'name': '★53%할인★바이로댕 누벨레퐁쥬 SPF50+/PA+++',\n",
       "  'image': 'http://www.toocoolforschool.com/shop/data/goods/153870172843l0.jpg',\n",
       "  'category': '홈 > E-SHOP > BRAND LINE',\n",
       "  'volume': '12g',\n",
       "  'originalPrice': 21000,\n",
       "  'salePrice': 9900,\n",
       "  'brand': 'toocoolforschool',\n",
       "  'url': 'http://www.toocoolforschool.com/shop/goods/goods_view.php?goodsno=14110349&category=004',\n",
       "  'color': '3. 세트_누벨레퐁쥬 2호 베이지 단품+리필 (16,900원)'},\n",
       " {'name': '★53%할인★바이로댕 누벨레퐁쥬 SPF50+/PA+++',\n",
       "  'image': 'http://www.toocoolforschool.com/shop/data/goods/153870172843l0.jpg',\n",
       "  'category': '홈 > E-SHOP > BRAND LINE',\n",
       "  'volume': '12g',\n",
       "  'originalPrice': 21000,\n",
       "  'salePrice': 9900,\n",
       "  'brand': 'toocoolforschool',\n",
       "  'url': 'http://www.toocoolforschool.com/shop/goods/goods_view.php?goodsno=14110349&category=004',\n",
       "  'color': '4. 세트_누벨레퐁쥬 1호 단품+쉐딩+체크틴트(미니)+프라이머 2종 (미니) (25,900원)'}]"
      ]
     },
     "metadata": {},
     "output_type": "display_data"
    },
    {
     "data": {
      "text/plain": [
       "[{'name': '스튜디오 드 땅뜨 코렉터',\n",
       "  'image': 'http://www.toocoolforschool.com/shop/data/goods/1535967311776l0.jpg',\n",
       "  'category': '홈 > E-SHOP > BRAND LINE',\n",
       "  'volume': '30ml',\n",
       "  'originalPrice': 25000,\n",
       "  'salePrice': 25000,\n",
       "  'brand': 'toocoolforschool',\n",
       "  'url': 'http://www.toocoolforschool.com/shop/goods/goods_view.php?goodsno=14110337&category=004',\n",
       "  'color': '1호 클리어 블루'},\n",
       " {'name': '스튜디오 드 땅뜨 코렉터',\n",
       "  'image': 'http://www.toocoolforschool.com/shop/data/goods/1535967311776l0.jpg',\n",
       "  'category': '홈 > E-SHOP > BRAND LINE',\n",
       "  'volume': '30ml',\n",
       "  'originalPrice': 25000,\n",
       "  'salePrice': 25000,\n",
       "  'brand': 'toocoolforschool',\n",
       "  'url': 'http://www.toocoolforschool.com/shop/goods/goods_view.php?goodsno=14110337&category=004',\n",
       "  'color': '2호 에끌라 로즈'}]"
      ]
     },
     "metadata": {},
     "output_type": "display_data"
    },
    {
     "data": {
      "text/plain": [
       "[{'name': '아트클래스 컨실드 크렘',\n",
       "  'image': 'http://www.toocoolforschool.com/shop/data/goods/153596756472l0.jpg',\n",
       "  'category': '홈 > E-SHOP > BRAND LINE',\n",
       "  'volume': '9g',\n",
       "  'originalPrice': 16000,\n",
       "  'salePrice': 16000,\n",
       "  'brand': 'toocoolforschool',\n",
       "  'url': 'http://www.toocoolforschool.com/shop/goods/goods_view.php?goodsno=14110340&category=004',\n",
       "  'color': '1호 아이보리'},\n",
       " {'name': '아트클래스 컨실드 크렘',\n",
       "  'image': 'http://www.toocoolforschool.com/shop/data/goods/153596756472l0.jpg',\n",
       "  'category': '홈 > E-SHOP > BRAND LINE',\n",
       "  'volume': '9g',\n",
       "  'originalPrice': 16000,\n",
       "  'salePrice': 16000,\n",
       "  'brand': 'toocoolforschool',\n",
       "  'url': 'http://www.toocoolforschool.com/shop/goods/goods_view.php?goodsno=14110340&category=004',\n",
       "  'color': '2호 베이지'},\n",
       " {'name': '아트클래스 컨실드 크렘',\n",
       "  'image': 'http://www.toocoolforschool.com/shop/data/goods/153596756472l0.jpg',\n",
       "  'category': '홈 > E-SHOP > BRAND LINE',\n",
       "  'volume': '9g',\n",
       "  'originalPrice': 16000,\n",
       "  'salePrice': 16000,\n",
       "  'brand': 'toocoolforschool',\n",
       "  'url': 'http://www.toocoolforschool.com/shop/goods/goods_view.php?goodsno=14110340&category=004',\n",
       "  'color': '3호 허니'}]"
      ]
     },
     "metadata": {},
     "output_type": "display_data"
    },
    {
     "data": {
      "text/plain": [
       "[{'name': '아트클래스 인토나코 마스터 SPF30/PA++',\n",
       "  'image': 'http://www.toocoolforschool.com/shop/data/goods/1496405012593l0.jpg',\n",
       "  'category': '홈 > E-SHOP > BRAND LINE',\n",
       "  'volume': '9ml',\n",
       "  'originalPrice': 15000,\n",
       "  'salePrice': 15000,\n",
       "  'brand': 'toocoolforschool',\n",
       "  'url': 'http://www.toocoolforschool.com/shop/goods/goods_view.php?goodsno=14110328&category=004',\n",
       "  'color': '1호 아이보리  [품절]'},\n",
       " {'name': '아트클래스 인토나코 마스터 SPF30/PA++',\n",
       "  'image': 'http://www.toocoolforschool.com/shop/data/goods/1496405012593l0.jpg',\n",
       "  'category': '홈 > E-SHOP > BRAND LINE',\n",
       "  'volume': '9ml',\n",
       "  'originalPrice': 15000,\n",
       "  'salePrice': 15000,\n",
       "  'brand': 'toocoolforschool',\n",
       "  'url': 'http://www.toocoolforschool.com/shop/goods/goods_view.php?goodsno=14110328&category=004',\n",
       "  'color': '2호 베이지  [품절]'},\n",
       " {'name': '아트클래스 인토나코 마스터 SPF30/PA++',\n",
       "  'image': 'http://www.toocoolforschool.com/shop/data/goods/1496405012593l0.jpg',\n",
       "  'category': '홈 > E-SHOP > BRAND LINE',\n",
       "  'volume': '9ml',\n",
       "  'originalPrice': 15000,\n",
       "  'salePrice': 15000,\n",
       "  'brand': 'toocoolforschool',\n",
       "  'url': 'http://www.toocoolforschool.com/shop/goods/goods_view.php?goodsno=14110328&category=004',\n",
       "  'color': '3호 허니  [품절]'}]"
      ]
     },
     "metadata": {},
     "output_type": "display_data"
    },
    {
     "data": {
      "text/plain": [
       "[{'name': '★100% 천연양모★아트클래스 아티스트 디파인 블렌더',\n",
       "  'image': 'http://www.toocoolforschool.com/shop/data/goods/1496406030984l0.jpg',\n",
       "  'category': '홈 > E-SHOP > BRAND LINE',\n",
       "  'volume': '1.3cm X 2.0cm / 14.7cm',\n",
       "  'originalPrice': 9000,\n",
       "  'salePrice': 9000,\n",
       "  'brand': 'toocoolforschool',\n",
       "  'url': 'http://www.toocoolforschool.com/shop/goods/goods_view.php?goodsno=14110304&category=004',\n",
       "  'color': ''}]"
      ]
     },
     "metadata": {},
     "output_type": "display_data"
    },
    {
     "data": {
      "text/plain": [
       "[{'name': '아트클래스 더 카무플라주 SPF30/PA++',\n",
       "  'image': 'http://www.toocoolforschool.com/shop/data/goods/1496409462357l0.jpg',\n",
       "  'category': '홈 > E-SHOP > BRAND LINE',\n",
       "  'volume': '1.5g',\n",
       "  'originalPrice': 13000,\n",
       "  'salePrice': 13000,\n",
       "  'brand': 'toocoolforschool',\n",
       "  'url': 'http://www.toocoolforschool.com/shop/goods/goods_view.php?goodsno=14110233&category=004',\n",
       "  'color': '1호 베이비 베이지'},\n",
       " {'name': '아트클래스 더 카무플라주 SPF30/PA++',\n",
       "  'image': 'http://www.toocoolforschool.com/shop/data/goods/1496409462357l0.jpg',\n",
       "  'category': '홈 > E-SHOP > BRAND LINE',\n",
       "  'volume': '1.5g',\n",
       "  'originalPrice': 13000,\n",
       "  'salePrice': 13000,\n",
       "  'brand': 'toocoolforschool',\n",
       "  'url': 'http://www.toocoolforschool.com/shop/goods/goods_view.php?goodsno=14110233&category=004',\n",
       "  'color': '2호 레이디 베이지'},\n",
       " {'name': '아트클래스 더 카무플라주 SPF30/PA++',\n",
       "  'image': 'http://www.toocoolforschool.com/shop/data/goods/1496409462357l0.jpg',\n",
       "  'category': '홈 > E-SHOP > BRAND LINE',\n",
       "  'volume': '1.5g',\n",
       "  'originalPrice': 13000,\n",
       "  'salePrice': 13000,\n",
       "  'brand': 'toocoolforschool',\n",
       "  'url': 'http://www.toocoolforschool.com/shop/goods/goods_view.php?goodsno=14110233&category=004',\n",
       "  'color': '★NEW★3호 피치 베이지  [품절]'}]"
      ]
     },
     "metadata": {},
     "output_type": "display_data"
    },
    {
     "data": {
      "text/plain": [
       "[{'name': '아트클래스 아티스트 립 브러쉬',\n",
       "  'image': 'http://www.toocoolforschool.com/shop/data/goods/1496412851229l0.jpg',\n",
       "  'category': '홈 > E-SHOP > BRAND LINE',\n",
       "  'volume': '0.5cmX0.9cm / 11.3cm',\n",
       "  'originalPrice': 8000,\n",
       "  'salePrice': 8000,\n",
       "  'brand': 'toocoolforschool',\n",
       "  'url': 'http://www.toocoolforschool.com/shop/goods/goods_view.php?goodsno=14110048&category=004',\n",
       "  'color': ''}]"
      ]
     },
     "metadata": {},
     "output_type": "display_data"
    },
    {
     "data": {
      "text/plain": [
       "[{'name': '★100% 천연양모★아트클래스 아티스트 멀티 블렌더',\n",
       "  'image': 'http://www.toocoolforschool.com/shop/data/goods/1496408720745l0.jpg',\n",
       "  'category': '홈 > E-SHOP > BRAND LINE',\n",
       "  'volume': '1.9cmX3.2cm / 15.8cm',\n",
       "  'originalPrice': 16000,\n",
       "  'salePrice': 16000,\n",
       "  'brand': 'toocoolforschool',\n",
       "  'url': 'http://www.toocoolforschool.com/shop/goods/goods_view.php?goodsno=14110047&category=004',\n",
       "  'color': ''}]"
      ]
     },
     "metadata": {},
     "output_type": "display_data"
    },
    {
     "data": {
      "text/plain": [
       "[{'name': '★100% 천연마모★아트클래스 아티스트 아이 섀도우',\n",
       "  'image': 'http://www.toocoolforschool.com/shop/data/goods/1496412878790l0.jpg',\n",
       "  'category': '홈 > E-SHOP > BRAND LINE',\n",
       "  'volume': '1cmX1cm / 총 길이 13.9cm',\n",
       "  'originalPrice': 9000,\n",
       "  'salePrice': 9000,\n",
       "  'brand': 'toocoolforschool',\n",
       "  'url': 'http://www.toocoolforschool.com/shop/goods/goods_view.php?goodsno=14110046&category=004',\n",
       "  'color': ''}]"
      ]
     },
     "metadata": {},
     "output_type": "display_data"
    },
    {
     "data": {
      "text/plain": [
       "[{'name': '★100% 천연마모★아트클래스 아티스트 아이 스머지',\n",
       "  'image': 'http://www.toocoolforschool.com/shop/data/goods/1496412909478l0.jpg',\n",
       "  'category': '홈 > E-SHOP > BRAND LINE',\n",
       "  'volume': '0.6cmX0.9cm /  총 길이12.8cm',\n",
       "  'originalPrice': 9000,\n",
       "  'salePrice': 9000,\n",
       "  'brand': 'toocoolforschool',\n",
       "  'url': 'http://www.toocoolforschool.com/shop/goods/goods_view.php?goodsno=14110045&category=004',\n",
       "  'color': ''}]"
      ]
     },
     "metadata": {},
     "output_type": "display_data"
    },
    {
     "data": {
      "text/plain": [
       "[{'name': '★100% 천연양모★아트클래스 아티스트 피니쉬 파우더',\n",
       "  'image': 'http://www.toocoolforschool.com/shop/data/goods/1496412995763l0.jpg',\n",
       "  'category': '홈 > E-SHOP > BRAND LINE',\n",
       "  'volume': '브러쉬 폭 2.5cm / 모 길이 5cm / 총 길이 17.5cm',\n",
       "  'originalPrice': 23000,\n",
       "  'salePrice': 23000,\n",
       "  'brand': 'toocoolforschool',\n",
       "  'url': 'http://www.toocoolforschool.com/shop/goods/goods_view.php?goodsno=14110041&category=004',\n",
       "  'color': ''}]"
      ]
     },
     "metadata": {},
     "output_type": "display_data"
    },
    {
     "data": {
      "text/plain": [
       "[{'name': '★뉴컬러 출시★아트클래스 스푸마토 듀얼섀도우',\n",
       "  'image': 'http://www.toocoolforschool.com/shop/data/goods/149640906846l0.jpg',\n",
       "  'category': '홈 > E-SHOP > BRAND LINE',\n",
       "  'volume': '2g',\n",
       "  'originalPrice': 15000,\n",
       "  'salePrice': 15000,\n",
       "  'brand': 'toocoolforschool',\n",
       "  'url': 'http://www.toocoolforschool.com/shop/goods/goods_view.php?goodsno=14110032&category=004',\n",
       "  'color': '2호 엔드리스 드로잉  [품절]'},\n",
       " {'name': '★뉴컬러 출시★아트클래스 스푸마토 듀얼섀도우',\n",
       "  'image': 'http://www.toocoolforschool.com/shop/data/goods/149640906846l0.jpg',\n",
       "  'category': '홈 > E-SHOP > BRAND LINE',\n",
       "  'volume': '2g',\n",
       "  'originalPrice': 15000,\n",
       "  'salePrice': 15000,\n",
       "  'brand': 'toocoolforschool',\n",
       "  'url': 'http://www.toocoolforschool.com/shop/goods/goods_view.php?goodsno=14110032&category=004',\n",
       "  'color': '4호 시크 에클레어  [품절]'},\n",
       " {'name': '★뉴컬러 출시★아트클래스 스푸마토 듀얼섀도우',\n",
       "  'image': 'http://www.toocoolforschool.com/shop/data/goods/149640906846l0.jpg',\n",
       "  'category': '홈 > E-SHOP > BRAND LINE',\n",
       "  'volume': '2g',\n",
       "  'originalPrice': 15000,\n",
       "  'salePrice': 15000,\n",
       "  'brand': 'toocoolforschool',\n",
       "  'url': 'http://www.toocoolforschool.com/shop/goods/goods_view.php?goodsno=14110032&category=004',\n",
       "  'color': '5호 비노 로사  [품절]'},\n",
       " {'name': '★뉴컬러 출시★아트클래스 스푸마토 듀얼섀도우',\n",
       "  'image': 'http://www.toocoolforschool.com/shop/data/goods/149640906846l0.jpg',\n",
       "  'category': '홈 > E-SHOP > BRAND LINE',\n",
       "  'volume': '2g',\n",
       "  'originalPrice': 15000,\n",
       "  'salePrice': 15000,\n",
       "  'brand': 'toocoolforschool',\n",
       "  'url': 'http://www.toocoolforschool.com/shop/goods/goods_view.php?goodsno=14110032&category=004',\n",
       "  'color': '6호 샤이 리사'},\n",
       " {'name': '★뉴컬러 출시★아트클래스 스푸마토 듀얼섀도우',\n",
       "  'image': 'http://www.toocoolforschool.com/shop/data/goods/149640906846l0.jpg',\n",
       "  'category': '홈 > E-SHOP > BRAND LINE',\n",
       "  'volume': '2g',\n",
       "  'originalPrice': 15000,\n",
       "  'salePrice': 15000,\n",
       "  'brand': 'toocoolforschool',\n",
       "  'url': 'http://www.toocoolforschool.com/shop/goods/goods_view.php?goodsno=14110032&category=004',\n",
       "  'color': '7호 아마레또 루체  [품절]'},\n",
       " {'name': '★뉴컬러 출시★아트클래스 스푸마토 듀얼섀도우',\n",
       "  'image': 'http://www.toocoolforschool.com/shop/data/goods/149640906846l0.jpg',\n",
       "  'category': '홈 > E-SHOP > BRAND LINE',\n",
       "  'volume': '2g',\n",
       "  'originalPrice': 15000,\n",
       "  'salePrice': 15000,\n",
       "  'brand': 'toocoolforschool',\n",
       "  'url': 'http://www.toocoolforschool.com/shop/goods/goods_view.php?goodsno=14110032&category=004',\n",
       "  'color': '8호 코랄 코랄레  [품절]'}]"
      ]
     },
     "metadata": {},
     "output_type": "display_data"
    },
    {
     "data": {
      "text/plain": [
       "[{'name': '아트클래스 아이 스케치 펜슬',\n",
       "  'image': 'http://www.toocoolforschool.com/shop/data/goods/1496413192845l0.jpg',\n",
       "  'category': '홈 > E-SHOP > BRAND LINE',\n",
       "  'volume': '0.25g',\n",
       "  'originalPrice': 5000,\n",
       "  'salePrice': 5000,\n",
       "  'brand': 'toocoolforschool',\n",
       "  'url': 'http://www.toocoolforschool.com/shop/goods/goods_view.php?goodsno=14110021&category=004',\n",
       "  'color': '1호 진회색  [품절]'},\n",
       " {'name': '아트클래스 아이 스케치 펜슬',\n",
       "  'image': 'http://www.toocoolforschool.com/shop/data/goods/1496413192845l0.jpg',\n",
       "  'category': '홈 > E-SHOP > BRAND LINE',\n",
       "  'volume': '0.25g',\n",
       "  'originalPrice': 5000,\n",
       "  'salePrice': 5000,\n",
       "  'brand': 'toocoolforschool',\n",
       "  'url': 'http://www.toocoolforschool.com/shop/goods/goods_view.php?goodsno=14110021&category=004',\n",
       "  'color': '2호 회갈색  [품절]'}]"
      ]
     },
     "metadata": {},
     "output_type": "display_data"
    },
    {
     "data": {
      "text/plain": [
       "[{'name': '아트클래스 임파스토',\n",
       "  'image': 'http://www.toocoolforschool.com/shop/data/goods/1496413384863l0.jpg',\n",
       "  'category': '홈 > E-SHOP > BRAND LINE',\n",
       "  'volume': '10g',\n",
       "  'originalPrice': 10000,\n",
       "  'salePrice': 10000,\n",
       "  'brand': 'toocoolforschool',\n",
       "  'url': 'http://www.toocoolforschool.com/shop/goods/goods_view.php?goodsno=14110018&category=004',\n",
       "  'color': '1호 핑크'},\n",
       " {'name': '아트클래스 임파스토',\n",
       "  'image': 'http://www.toocoolforschool.com/shop/data/goods/1496413384863l0.jpg',\n",
       "  'category': '홈 > E-SHOP > BRAND LINE',\n",
       "  'volume': '10g',\n",
       "  'originalPrice': 10000,\n",
       "  'salePrice': 10000,\n",
       "  'brand': 'toocoolforschool',\n",
       "  'url': 'http://www.toocoolforschool.com/shop/goods/goods_view.php?goodsno=14110018&category=004',\n",
       "  'color': '2호 피치  [품절]'},\n",
       " {'name': '아트클래스 임파스토',\n",
       "  'image': 'http://www.toocoolforschool.com/shop/data/goods/1496413384863l0.jpg',\n",
       "  'category': '홈 > E-SHOP > BRAND LINE',\n",
       "  'volume': '10g',\n",
       "  'originalPrice': 10000,\n",
       "  'salePrice': 10000,\n",
       "  'brand': 'toocoolforschool',\n",
       "  'url': 'http://www.toocoolforschool.com/shop/goods/goods_view.php?goodsno=14110018&category=004',\n",
       "  'color': '3호 라벤더'}]"
      ]
     },
     "metadata": {},
     "output_type": "display_data"
    },
    {
     "data": {
      "text/plain": [
       "[{'name': '★100% 천연양모★아트클래스 아티스트 멀티 컨투어',\n",
       "  'image': 'http://www.toocoolforschool.com/shop/data/goods/1496406057685l0.jpg',\n",
       "  'category': '홈 > E-SHOP > BRAND LINE',\n",
       "  'volume': '2.5cm X 4.0cm / 16.7cm',\n",
       "  'originalPrice': 16000,\n",
       "  'salePrice': 16000,\n",
       "  'brand': 'toocoolforschool',\n",
       "  'url': 'http://www.toocoolforschool.com/shop/goods/goods_view.php?goodsno=14110303&category=004',\n",
       "  'color': ''}]"
      ]
     },
     "metadata": {},
     "output_type": "display_data"
    },
    {
     "data": {
      "text/plain": [
       "[{'name': '★브로우 디자인 툴즈 증정★글램락 브로우 박스',\n",
       "  'image': 'http://www.toocoolforschool.com/shop/data/goods/1509498313207l0.jpg',\n",
       "  'category': '홈 > E-SHOP > BRAND LINE',\n",
       "  'volume': '브로우섀도우: 1.2g*3 / 브로우마스카라: 2.2ml / 브로우펜슬: 0.45g',\n",
       "  'originalPrice': 25000,\n",
       "  'salePrice': 25000,\n",
       "  'brand': 'toocoolforschool',\n",
       "  'url': 'http://www.toocoolforschool.com/shop/goods/goods_view.php?goodsno=14110360&category=004',\n",
       "  'color': ''}]"
      ]
     },
     "metadata": {},
     "output_type": "display_data"
    },
    {
     "data": {
      "text/plain": [
       "[{'name': '체크 크리미 블라스터 틴트',\n",
       "  'image': 'http://www.toocoolforschool.com/shop/data/goods/152574476879l0.jpg',\n",
       "  'category': '홈 > E-SHOP > BRAND LINE',\n",
       "  'volume': '5g',\n",
       "  'originalPrice': 10000,\n",
       "  'salePrice': 10000,\n",
       "  'brand': 'toocoolforschool',\n",
       "  'url': 'http://www.toocoolforschool.com/shop/goods/goods_view.php?goodsno=14110359&category=004',\n",
       "  'color': '1호 로즈 클라우드 (크림 레드)'},\n",
       " {'name': '체크 크리미 블라스터 틴트',\n",
       "  'image': 'http://www.toocoolforschool.com/shop/data/goods/152574476879l0.jpg',\n",
       "  'category': '홈 > E-SHOP > BRAND LINE',\n",
       "  'volume': '5g',\n",
       "  'originalPrice': 10000,\n",
       "  'salePrice': 10000,\n",
       "  'brand': 'toocoolforschool',\n",
       "  'url': 'http://www.toocoolforschool.com/shop/goods/goods_view.php?goodsno=14110359&category=004',\n",
       "  'color': '2호 퍼지 베리 (스칼렛 레드)'},\n",
       " {'name': '체크 크리미 블라스터 틴트',\n",
       "  'image': 'http://www.toocoolforschool.com/shop/data/goods/152574476879l0.jpg',\n",
       "  'category': '홈 > E-SHOP > BRAND LINE',\n",
       "  'volume': '5g',\n",
       "  'originalPrice': 10000,\n",
       "  'salePrice': 10000,\n",
       "  'brand': 'toocoolforschool',\n",
       "  'url': 'http://www.toocoolforschool.com/shop/goods/goods_view.php?goodsno=14110359&category=004',\n",
       "  'color': '3호 피오니 쉬폰 (크리미 핑크)'},\n",
       " {'name': '체크 크리미 블라스터 틴트',\n",
       "  'image': 'http://www.toocoolforschool.com/shop/data/goods/152574476879l0.jpg',\n",
       "  'category': '홈 > E-SHOP > BRAND LINE',\n",
       "  'volume': '5g',\n",
       "  'originalPrice': 10000,\n",
       "  'salePrice': 10000,\n",
       "  'brand': 'toocoolforschool',\n",
       "  'url': 'http://www.toocoolforschool.com/shop/goods/goods_view.php?goodsno=14110359&category=004',\n",
       "  'color': '4호 핑크 플로스 (핑크 코랄)'},\n",
       " {'name': '체크 크리미 블라스터 틴트',\n",
       "  'image': 'http://www.toocoolforschool.com/shop/data/goods/152574476879l0.jpg',\n",
       "  'category': '홈 > E-SHOP > BRAND LINE',\n",
       "  'volume': '5g',\n",
       "  'originalPrice': 10000,\n",
       "  'salePrice': 10000,\n",
       "  'brand': 'toocoolforschool',\n",
       "  'url': 'http://www.toocoolforschool.com/shop/goods/goods_view.php?goodsno=14110359&category=004',\n",
       "  'color': '5호 코랄리 무스 (오렌지 코랄)'},\n",
       " {'name': '체크 크리미 블라스터 틴트',\n",
       "  'image': 'http://www.toocoolforschool.com/shop/data/goods/152574476879l0.jpg',\n",
       "  'category': '홈 > E-SHOP > BRAND LINE',\n",
       "  'volume': '5g',\n",
       "  'originalPrice': 10000,\n",
       "  'salePrice': 10000,\n",
       "  'brand': 'toocoolforschool',\n",
       "  'url': 'http://www.toocoolforschool.com/shop/goods/goods_view.php?goodsno=14110359&category=004',\n",
       "  'color': '6호 로지 피즈 (피치 로즈)'},\n",
       " {'name': '체크 크리미 블라스터 틴트',\n",
       "  'image': 'http://www.toocoolforschool.com/shop/data/goods/152574476879l0.jpg',\n",
       "  'category': '홈 > E-SHOP > BRAND LINE',\n",
       "  'volume': '5g',\n",
       "  'originalPrice': 10000,\n",
       "  'salePrice': 10000,\n",
       "  'brand': 'toocoolforschool',\n",
       "  'url': 'http://www.toocoolforschool.com/shop/goods/goods_view.php?goodsno=14110359&category=004',\n",
       "  'color': '7호 러버블 레드 (토마토 레드)'},\n",
       " {'name': '체크 크리미 블라스터 틴트',\n",
       "  'image': 'http://www.toocoolforschool.com/shop/data/goods/152574476879l0.jpg',\n",
       "  'category': '홈 > E-SHOP > BRAND LINE',\n",
       "  'volume': '5g',\n",
       "  'originalPrice': 10000,\n",
       "  'salePrice': 10000,\n",
       "  'brand': 'toocoolforschool',\n",
       "  'url': 'http://www.toocoolforschool.com/shop/goods/goods_view.php?goodsno=14110359&category=004',\n",
       "  'color': '8호 팬지 슈 (팬지 핑크)'}]"
      ]
     },
     "metadata": {},
     "output_type": "display_data"
    },
    {
     "data": {
      "text/plain": [
       "[{'name': '체크 워터리 블라스터 틴트',\n",
       "  'image': 'http://www.toocoolforschool.com/shop/data/goods/1525744602350l0.jpg',\n",
       "  'category': '홈 > E-SHOP > BRAND LINE',\n",
       "  'volume': '4.3g',\n",
       "  'originalPrice': 10000,\n",
       "  'salePrice': 10000,\n",
       "  'brand': 'toocoolforschool',\n",
       "  'url': 'http://www.toocoolforschool.com/shop/goods/goods_view.php?goodsno=14110358&category=004',\n",
       "  'color': '1호 매드 스칼렛 (클래식 레드)  [품절]'},\n",
       " {'name': '체크 워터리 블라스터 틴트',\n",
       "  'image': 'http://www.toocoolforschool.com/shop/data/goods/1525744602350l0.jpg',\n",
       "  'category': '홈 > E-SHOP > BRAND LINE',\n",
       "  'volume': '4.3g',\n",
       "  'originalPrice': 10000,\n",
       "  'salePrice': 10000,\n",
       "  'brand': 'toocoolforschool',\n",
       "  'url': 'http://www.toocoolforschool.com/shop/goods/goods_view.php?goodsno=14110358&category=004',\n",
       "  'color': '2호 레드 드리즐 (비비드 레드)  [품절]'},\n",
       " {'name': '체크 워터리 블라스터 틴트',\n",
       "  'image': 'http://www.toocoolforschool.com/shop/data/goods/1525744602350l0.jpg',\n",
       "  'category': '홈 > E-SHOP > BRAND LINE',\n",
       "  'volume': '4.3g',\n",
       "  'originalPrice': 10000,\n",
       "  'salePrice': 10000,\n",
       "  'brand': 'toocoolforschool',\n",
       "  'url': 'http://www.toocoolforschool.com/shop/goods/goods_view.php?goodsno=14110358&category=004',\n",
       "  'color': '3호 오렌지 풀 (자몽 레드)  [품절]'},\n",
       " {'name': '체크 워터리 블라스터 틴트',\n",
       "  'image': 'http://www.toocoolforschool.com/shop/data/goods/1525744602350l0.jpg',\n",
       "  'category': '홈 > E-SHOP > BRAND LINE',\n",
       "  'volume': '4.3g',\n",
       "  'originalPrice': 10000,\n",
       "  'salePrice': 10000,\n",
       "  'brand': 'toocoolforschool',\n",
       "  'url': 'http://www.toocoolforschool.com/shop/goods/goods_view.php?goodsno=14110358&category=004',\n",
       "  'color': '4호 핑크 스트림 (브라이트 핑크)  [품절]'},\n",
       " {'name': '체크 워터리 블라스터 틴트',\n",
       "  'image': 'http://www.toocoolforschool.com/shop/data/goods/1525744602350l0.jpg',\n",
       "  'category': '홈 > E-SHOP > BRAND LINE',\n",
       "  'volume': '4.3g',\n",
       "  'originalPrice': 10000,\n",
       "  'salePrice': 10000,\n",
       "  'brand': 'toocoolforschool',\n",
       "  'url': 'http://www.toocoolforschool.com/shop/goods/goods_view.php?goodsno=14110358&category=004',\n",
       "  'color': '5호 코랄 듀이 (브라이트 핑크)  [품절]'}]"
      ]
     },
     "metadata": {},
     "output_type": "display_data"
    },
    {
     "data": {
      "text/plain": [
       "[{'name': '체크 글로시 블라스터 틴트',\n",
       "  'image': 'http://www.toocoolforschool.com/shop/data/goods/152574545360l0.jpg',\n",
       "  'category': '홈 > E-SHOP > BRAND LINE',\n",
       "  'volume': '4.8ml',\n",
       "  'originalPrice': 10000,\n",
       "  'salePrice': 10000,\n",
       "  'brand': 'toocoolforschool',\n",
       "  'url': 'http://www.toocoolforschool.com/shop/goods/goods_view.php?goodsno=14110106&category=004',\n",
       "  'color': '1호 칙 레드'},\n",
       " {'name': '체크 글로시 블라스터 틴트',\n",
       "  'image': 'http://www.toocoolforschool.com/shop/data/goods/152574545360l0.jpg',\n",
       "  'category': '홈 > E-SHOP > BRAND LINE',\n",
       "  'volume': '4.8ml',\n",
       "  'originalPrice': 10000,\n",
       "  'salePrice': 10000,\n",
       "  'brand': 'toocoolforschool',\n",
       "  'url': 'http://www.toocoolforschool.com/shop/goods/goods_view.php?goodsno=14110106&category=004',\n",
       "  'color': '2호 기디 로지'},\n",
       " {'name': '체크 글로시 블라스터 틴트',\n",
       "  'image': 'http://www.toocoolforschool.com/shop/data/goods/152574545360l0.jpg',\n",
       "  'category': '홈 > E-SHOP > BRAND LINE',\n",
       "  'volume': '4.8ml',\n",
       "  'originalPrice': 10000,\n",
       "  'salePrice': 10000,\n",
       "  'brand': 'toocoolforschool',\n",
       "  'url': 'http://www.toocoolforschool.com/shop/goods/goods_view.php?goodsno=14110106&category=004',\n",
       "  'color': '3호 딩키 핑크'},\n",
       " {'name': '체크 글로시 블라스터 틴트',\n",
       "  'image': 'http://www.toocoolforschool.com/shop/data/goods/152574545360l0.jpg',\n",
       "  'category': '홈 > E-SHOP > BRAND LINE',\n",
       "  'volume': '4.8ml',\n",
       "  'originalPrice': 10000,\n",
       "  'salePrice': 10000,\n",
       "  'brand': 'toocoolforschool',\n",
       "  'url': 'http://www.toocoolforschool.com/shop/goods/goods_view.php?goodsno=14110106&category=004',\n",
       "  'color': '4호 포쉬 코랄'},\n",
       " {'name': '체크 글로시 블라스터 틴트',\n",
       "  'image': 'http://www.toocoolforschool.com/shop/data/goods/152574545360l0.jpg',\n",
       "  'category': '홈 > E-SHOP > BRAND LINE',\n",
       "  'volume': '4.8ml',\n",
       "  'originalPrice': 10000,\n",
       "  'salePrice': 10000,\n",
       "  'brand': 'toocoolforschool',\n",
       "  'url': 'http://www.toocoolforschool.com/shop/goods/goods_view.php?goodsno=14110106&category=004',\n",
       "  'color': '5호 메리 텐저린'},\n",
       " {'name': '체크 글로시 블라스터 틴트',\n",
       "  'image': 'http://www.toocoolforschool.com/shop/data/goods/152574545360l0.jpg',\n",
       "  'category': '홈 > E-SHOP > BRAND LINE',\n",
       "  'volume': '4.8ml',\n",
       "  'originalPrice': 10000,\n",
       "  'salePrice': 10000,\n",
       "  'brand': 'toocoolforschool',\n",
       "  'url': 'http://www.toocoolforschool.com/shop/goods/goods_view.php?goodsno=14110106&category=004',\n",
       "  'color': '7호 로즈 라떼'},\n",
       " {'name': '체크 글로시 블라스터 틴트',\n",
       "  'image': 'http://www.toocoolforschool.com/shop/data/goods/152574545360l0.jpg',\n",
       "  'category': '홈 > E-SHOP > BRAND LINE',\n",
       "  'volume': '4.8ml',\n",
       "  'originalPrice': 10000,\n",
       "  'salePrice': 10000,\n",
       "  'brand': 'toocoolforschool',\n",
       "  'url': 'http://www.toocoolforschool.com/shop/goods/goods_view.php?goodsno=14110106&category=004',\n",
       "  'color': '8호 펀치 에이드'},\n",
       " {'name': '체크 글로시 블라스터 틴트',\n",
       "  'image': 'http://www.toocoolforschool.com/shop/data/goods/152574545360l0.jpg',\n",
       "  'category': '홈 > E-SHOP > BRAND LINE',\n",
       "  'volume': '4.8ml',\n",
       "  'originalPrice': 10000,\n",
       "  'salePrice': 10000,\n",
       "  'brand': 'toocoolforschool',\n",
       "  'url': 'http://www.toocoolforschool.com/shop/goods/goods_view.php?goodsno=14110106&category=004',\n",
       "  'color': '9호 피에스타'},\n",
       " {'name': '체크 글로시 블라스터 틴트',\n",
       "  'image': 'http://www.toocoolforschool.com/shop/data/goods/152574545360l0.jpg',\n",
       "  'category': '홈 > E-SHOP > BRAND LINE',\n",
       "  'volume': '4.8ml',\n",
       "  'originalPrice': 10000,\n",
       "  'salePrice': 10000,\n",
       "  'brand': 'toocoolforschool',\n",
       "  'url': 'http://www.toocoolforschool.com/shop/goods/goods_view.php?goodsno=14110106&category=004',\n",
       "  'color': '10호 패션 마젠타'},\n",
       " {'name': '체크 글로시 블라스터 틴트',\n",
       "  'image': 'http://www.toocoolforschool.com/shop/data/goods/152574545360l0.jpg',\n",
       "  'category': '홈 > E-SHOP > BRAND LINE',\n",
       "  'volume': '4.8ml',\n",
       "  'originalPrice': 10000,\n",
       "  'salePrice': 10000,\n",
       "  'brand': 'toocoolforschool',\n",
       "  'url': 'http://www.toocoolforschool.com/shop/goods/goods_view.php?goodsno=14110106&category=004',\n",
       "  'color': '11호 플럼 오키드  [품절]'},\n",
       " {'name': '체크 글로시 블라스터 틴트',\n",
       "  'image': 'http://www.toocoolforschool.com/shop/data/goods/152574545360l0.jpg',\n",
       "  'category': '홈 > E-SHOP > BRAND LINE',\n",
       "  'volume': '4.8ml',\n",
       "  'originalPrice': 10000,\n",
       "  'salePrice': 10000,\n",
       "  'brand': 'toocoolforschool',\n",
       "  'url': 'http://www.toocoolforschool.com/shop/goods/goods_view.php?goodsno=14110106&category=004',\n",
       "  'color': '12호 레드 드래곤'},\n",
       " {'name': '체크 글로시 블라스터 틴트',\n",
       "  'image': 'http://www.toocoolforschool.com/shop/data/goods/152574545360l0.jpg',\n",
       "  'category': '홈 > E-SHOP > BRAND LINE',\n",
       "  'volume': '4.8ml',\n",
       "  'originalPrice': 10000,\n",
       "  'salePrice': 10000,\n",
       "  'brand': 'toocoolforschool',\n",
       "  'url': 'http://www.toocoolforschool.com/shop/goods/goods_view.php?goodsno=14110106&category=004',\n",
       "  'color': '13호 포터리 레드'},\n",
       " {'name': '체크 글로시 블라스터 틴트',\n",
       "  'image': 'http://www.toocoolforschool.com/shop/data/goods/152574545360l0.jpg',\n",
       "  'category': '홈 > E-SHOP > BRAND LINE',\n",
       "  'volume': '4.8ml',\n",
       "  'originalPrice': 10000,\n",
       "  'salePrice': 10000,\n",
       "  'brand': 'toocoolforschool',\n",
       "  'url': 'http://www.toocoolforschool.com/shop/goods/goods_view.php?goodsno=14110106&category=004',\n",
       "  'color': '14호 드라이 피오니'},\n",
       " {'name': '체크 글로시 블라스터 틴트',\n",
       "  'image': 'http://www.toocoolforschool.com/shop/data/goods/152574545360l0.jpg',\n",
       "  'category': '홈 > E-SHOP > BRAND LINE',\n",
       "  'volume': '4.8ml',\n",
       "  'originalPrice': 10000,\n",
       "  'salePrice': 10000,\n",
       "  'brand': 'toocoolforschool',\n",
       "  'url': 'http://www.toocoolforschool.com/shop/goods/goods_view.php?goodsno=14110106&category=004',\n",
       "  'color': '15호 블리스 코랄'},\n",
       " {'name': '체크 글로시 블라스터 틴트',\n",
       "  'image': 'http://www.toocoolforschool.com/shop/data/goods/152574545360l0.jpg',\n",
       "  'category': '홈 > E-SHOP > BRAND LINE',\n",
       "  'volume': '4.8ml',\n",
       "  'originalPrice': 10000,\n",
       "  'salePrice': 10000,\n",
       "  'brand': 'toocoolforschool',\n",
       "  'url': 'http://www.toocoolforschool.com/shop/goods/goods_view.php?goodsno=14110106&category=004',\n",
       "  'color': '16호 블루밍 달리아'}]"
      ]
     },
     "metadata": {},
     "output_type": "display_data"
    },
    {
     "data": {
      "text/plain": [
       "[{'name': '★겟잇뷰티 1위★퍼펙트데이 메이크업 픽서',\n",
       "  'image': 'http://www.toocoolforschool.com/shop/data/goods/1496414996293l0.jpg',\n",
       "  'category': '홈 > E-SHOP > BRAND LINE',\n",
       "  'volume': '50ml',\n",
       "  'originalPrice': 12000,\n",
       "  'salePrice': 12000,\n",
       "  'brand': 'toocoolforschool',\n",
       "  'url': 'http://www.toocoolforschool.com/shop/goods/goods_view.php?goodsno=14110157&category=004',\n",
       "  'color': ''}]"
      ]
     },
     "metadata": {},
     "output_type": "display_data"
    },
    {
     "data": {
      "text/plain": [
       "[{'name': '★뉴컬러★체크 젤리 블러셔',\n",
       "  'image': 'http://www.toocoolforschool.com/shop/data/goods/1542594106306l0.jpg',\n",
       "  'category': '홈 > E-SHOP > BRAND LINE',\n",
       "  'volume': '8g (38.2mm X 35mm X 9mm)',\n",
       "  'originalPrice': 12000,\n",
       "  'salePrice': 12000,\n",
       "  'brand': 'toocoolforschool',\n",
       "  'url': 'http://www.toocoolforschool.com/shop/goods/goods_view.php?goodsno=14110319&category=004',\n",
       "  'color': '1호 스트로베리슈'},\n",
       " {'name': '★뉴컬러★체크 젤리 블러셔',\n",
       "  'image': 'http://www.toocoolforschool.com/shop/data/goods/1542594106306l0.jpg',\n",
       "  'category': '홈 > E-SHOP > BRAND LINE',\n",
       "  'volume': '8g (38.2mm X 35mm X 9mm)',\n",
       "  'originalPrice': 12000,\n",
       "  'salePrice': 12000,\n",
       "  'brand': 'toocoolforschool',\n",
       "  'url': 'http://www.toocoolforschool.com/shop/goods/goods_view.php?goodsno=14110319&category=004',\n",
       "  'color': '2호 애프리콧 샤벳'},\n",
       " {'name': '★뉴컬러★체크 젤리 블러셔',\n",
       "  'image': 'http://www.toocoolforschool.com/shop/data/goods/1542594106306l0.jpg',\n",
       "  'category': '홈 > E-SHOP > BRAND LINE',\n",
       "  'volume': '8g (38.2mm X 35mm X 9mm)',\n",
       "  'originalPrice': 12000,\n",
       "  'salePrice': 12000,\n",
       "  'brand': 'toocoolforschool',\n",
       "  'url': 'http://www.toocoolforschool.com/shop/goods/goods_view.php?goodsno=14110319&category=004',\n",
       "  'color': '3호 피치 넥타'},\n",
       " {'name': '★뉴컬러★체크 젤리 블러셔',\n",
       "  'image': 'http://www.toocoolforschool.com/shop/data/goods/1542594106306l0.jpg',\n",
       "  'category': '홈 > E-SHOP > BRAND LINE',\n",
       "  'volume': '8g (38.2mm X 35mm X 9mm)',\n",
       "  'originalPrice': 12000,\n",
       "  'salePrice': 12000,\n",
       "  'brand': 'toocoolforschool',\n",
       "  'url': 'http://www.toocoolforschool.com/shop/goods/goods_view.php?goodsno=14110319&category=004',\n",
       "  'color': '4호 체리 스퀴즈'},\n",
       " {'name': '★뉴컬러★체크 젤리 블러셔',\n",
       "  'image': 'http://www.toocoolforschool.com/shop/data/goods/1542594106306l0.jpg',\n",
       "  'category': '홈 > E-SHOP > BRAND LINE',\n",
       "  'volume': '8g (38.2mm X 35mm X 9mm)',\n",
       "  'originalPrice': 12000,\n",
       "  'salePrice': 12000,\n",
       "  'brand': 'toocoolforschool',\n",
       "  'url': 'http://www.toocoolforschool.com/shop/goods/goods_view.php?goodsno=14110319&category=004',\n",
       "  'color': '5호 애플 레드'},\n",
       " {'name': '★뉴컬러★체크 젤리 블러셔',\n",
       "  'image': 'http://www.toocoolforschool.com/shop/data/goods/1542594106306l0.jpg',\n",
       "  'category': '홈 > E-SHOP > BRAND LINE',\n",
       "  'volume': '8g (38.2mm X 35mm X 9mm)',\n",
       "  'originalPrice': 12000,\n",
       "  'salePrice': 12000,\n",
       "  'brand': 'toocoolforschool',\n",
       "  'url': 'http://www.toocoolforschool.com/shop/goods/goods_view.php?goodsno=14110319&category=004',\n",
       "  'color': '6호 로즈 무스'},\n",
       " {'name': '★뉴컬러★체크 젤리 블러셔',\n",
       "  'image': 'http://www.toocoolforschool.com/shop/data/goods/1542594106306l0.jpg',\n",
       "  'category': '홈 > E-SHOP > BRAND LINE',\n",
       "  'volume': '8g (38.2mm X 35mm X 9mm)',\n",
       "  'originalPrice': 12000,\n",
       "  'salePrice': 12000,\n",
       "  'brand': 'toocoolforschool',\n",
       "  'url': 'http://www.toocoolforschool.com/shop/goods/goods_view.php?goodsno=14110319&category=004',\n",
       "  'color': '7호 피오니 모브'}]"
      ]
     },
     "metadata": {},
     "output_type": "display_data"
    },
    {
     "data": {
      "text/plain": [
       "[{'name': '★환절기추천★에어 선 프라이머 SPF50+/PA+++',\n",
       "  'image': 'http://www.toocoolforschool.com/shop/data/goods/1530232649756l0.jpg',\n",
       "  'category': '홈 > E-SHOP > BRAND LINE',\n",
       "  'volume': '100ml',\n",
       "  'originalPrice': 22000,\n",
       "  'salePrice': 22000,\n",
       "  'brand': 'toocoolforschool',\n",
       "  'url': 'http://www.toocoolforschool.com/shop/goods/goods_view.php?goodsno=14110269&category=004',\n",
       "  'color': ''}]"
      ]
     },
     "metadata": {},
     "output_type": "display_data"
    },
    {
     "data": {
      "text/plain": [
       "[{'name': '★리뉴얼 출시★다이노플라츠 트위스티테일 마스카라',\n",
       "  'image': 'http://www.toocoolforschool.com/shop/data/goods/1496406945585l0.jpg',\n",
       "  'category': '홈 > E-SHOP > BRAND LINE',\n",
       "  'volume': '10g',\n",
       "  'originalPrice': 23000,\n",
       "  'salePrice': 23000,\n",
       "  'brand': 'toocoolforschool',\n",
       "  'url': 'http://www.toocoolforschool.com/shop/goods/goods_view.php?goodsno=14110265&category=004',\n",
       "  'color': ''}]"
      ]
     },
     "metadata": {},
     "output_type": "display_data"
    },
    {
     "data": {
      "text/plain": [
       "[{'name': '아트클래스 바실리의 라이너',\n",
       "  'image': 'http://www.toocoolforschool.com/shop/data/goods/1496409481379l0.jpg',\n",
       "  'category': '홈 > E-SHOP > BRAND LINE',\n",
       "  'volume': '0.55ml',\n",
       "  'originalPrice': 15000,\n",
       "  'salePrice': 15000,\n",
       "  'brand': 'toocoolforschool',\n",
       "  'url': 'http://www.toocoolforschool.com/shop/goods/goods_view.php?goodsno=14110232&category=004',\n",
       "  'color': '1호 러시안 블랙'},\n",
       " {'name': '아트클래스 바실리의 라이너',\n",
       "  'image': 'http://www.toocoolforschool.com/shop/data/goods/1496409481379l0.jpg',\n",
       "  'category': '홈 > E-SHOP > BRAND LINE',\n",
       "  'volume': '0.55ml',\n",
       "  'originalPrice': 15000,\n",
       "  'salePrice': 15000,\n",
       "  'brand': 'toocoolforschool',\n",
       "  'url': 'http://www.toocoolforschool.com/shop/goods/goods_view.php?goodsno=14110232&category=004',\n",
       "  'color': '2호 프렌치 브라운'}]"
      ]
     },
     "metadata": {},
     "output_type": "display_data"
    },
    {
     "data": {
      "text/plain": [
       "[{'name': '★미니 팩트★체크 UV 커버 팩트 SPF50+/PA+++',\n",
       "  'image': 'http://www.toocoolforschool.com/shop/data/goods/1496409637134l0.jpg',\n",
       "  'category': '홈 > E-SHOP > BRAND LINE',\n",
       "  'volume': '6g',\n",
       "  'originalPrice': 16000,\n",
       "  'salePrice': 16000,\n",
       "  'brand': 'toocoolforschool',\n",
       "  'url': 'http://www.toocoolforschool.com/shop/goods/goods_view.php?goodsno=14110219&category=004',\n",
       "  'color': ''}]"
      ]
     },
     "metadata": {},
     "output_type": "display_data"
    },
    {
     "data": {
      "text/plain": [
       "[{'name': '★모공 커버 팩트★체크 벨벳 포어 팩트',\n",
       "  'image': 'http://www.toocoolforschool.com/shop/data/goods/1496409650854l0.jpg',\n",
       "  'category': '홈 > E-SHOP > BRAND LINE',\n",
       "  'volume': '7g',\n",
       "  'originalPrice': 16000,\n",
       "  'salePrice': 16000,\n",
       "  'brand': 'toocoolforschool',\n",
       "  'url': 'http://www.toocoolforschool.com/shop/goods/goods_view.php?goodsno=14110217&category=004',\n",
       "  'color': ''}]"
      ]
     },
     "metadata": {},
     "output_type": "display_data"
    },
    {
     "data": {
      "text/plain": [
       "[{'name': '★50할인★체크 글로시 틴트 페이보릿 키트',\n",
       "  'image': 'http://www.toocoolforschool.com/shop/data/goods/1496410194762l0.jpg',\n",
       "  'category': '홈 > E-SHOP > BRAND LINE',\n",
       "  'volume': '3ml*3ea',\n",
       "  'originalPrice': 25000,\n",
       "  'salePrice': 12500,\n",
       "  'brand': 'toocoolforschool',\n",
       "  'url': 'http://www.toocoolforschool.com/shop/goods/goods_view.php?goodsno=14110205&category=004',\n",
       "  'color': '키트 1호 (1+2+5호)  [품절]'},\n",
       " {'name': '★50할인★체크 글로시 틴트 페이보릿 키트',\n",
       "  'image': 'http://www.toocoolforschool.com/shop/data/goods/1496410194762l0.jpg',\n",
       "  'category': '홈 > E-SHOP > BRAND LINE',\n",
       "  'volume': '3ml*3ea',\n",
       "  'originalPrice': 25000,\n",
       "  'salePrice': 12500,\n",
       "  'brand': 'toocoolforschool',\n",
       "  'url': 'http://www.toocoolforschool.com/shop/goods/goods_view.php?goodsno=14110205&category=004',\n",
       "  'color': '키트 2호 (4+7+9호)'}]"
      ]
     },
     "metadata": {},
     "output_type": "display_data"
    },
    {
     "data": {
      "text/plain": [
       "[{'name': '밀크 틴트',\n",
       "  'image': 'http://www.toocoolforschool.com/shop/data/goods/149641082452l0.jpg',\n",
       "  'category': '홈 > E-SHOP > BRAND LINE',\n",
       "  'volume': '9.5g',\n",
       "  'originalPrice': 6000,\n",
       "  'salePrice': 6000,\n",
       "  'brand': 'toocoolforschool',\n",
       "  'url': 'http://www.toocoolforschool.com/shop/goods/goods_view.php?goodsno=14110153&category=004',\n",
       "  'color': '1호 밀키 핑크'},\n",
       " {'name': '밀크 틴트',\n",
       "  'image': 'http://www.toocoolforschool.com/shop/data/goods/149641082452l0.jpg',\n",
       "  'category': '홈 > E-SHOP > BRAND LINE',\n",
       "  'volume': '9.5g',\n",
       "  'originalPrice': 6000,\n",
       "  'salePrice': 6000,\n",
       "  'brand': 'toocoolforschool',\n",
       "  'url': 'http://www.toocoolforschool.com/shop/goods/goods_view.php?goodsno=14110153&category=004',\n",
       "  'color': '2호 밀키 오렌지'},\n",
       " {'name': '밀크 틴트',\n",
       "  'image': 'http://www.toocoolforschool.com/shop/data/goods/149641082452l0.jpg',\n",
       "  'category': '홈 > E-SHOP > BRAND LINE',\n",
       "  'volume': '9.5g',\n",
       "  'originalPrice': 6000,\n",
       "  'salePrice': 6000,\n",
       "  'brand': 'toocoolforschool',\n",
       "  'url': 'http://www.toocoolforschool.com/shop/goods/goods_view.php?goodsno=14110153&category=004',\n",
       "  'color': '3호 밀키 레드'},\n",
       " {'name': '밀크 틴트',\n",
       "  'image': 'http://www.toocoolforschool.com/shop/data/goods/149641082452l0.jpg',\n",
       "  'category': '홈 > E-SHOP > BRAND LINE',\n",
       "  'volume': '9.5g',\n",
       "  'originalPrice': 6000,\n",
       "  'salePrice': 6000,\n",
       "  'brand': 'toocoolforschool',\n",
       "  'url': 'http://www.toocoolforschool.com/shop/goods/goods_view.php?goodsno=14110153&category=004',\n",
       "  'color': '★NEW★4호 밀키 라벤더'}]"
      ]
     },
     "metadata": {},
     "output_type": "display_data"
    },
    {
     "data": {
      "text/plain": [
       "[{'name': '★프라이머 1위★룰스 겟레디 듀얼 프라이머',\n",
       "  'image': 'http://www.toocoolforschool.com/shop/data/goods/149640898196l0.jpg',\n",
       "  'category': '홈 > E-SHOP > BRAND LINE',\n",
       "  'volume': '프라이머 50ml+프라이머밤 1.5g',\n",
       "  'originalPrice': 18500,\n",
       "  'salePrice': 18500,\n",
       "  'brand': 'toocoolforschool',\n",
       "  'url': 'http://www.toocoolforschool.com/shop/goods/goods_view.php?goodsno=14110142&category=004',\n",
       "  'color': ''}]"
      ]
     },
     "metadata": {},
     "output_type": "display_data"
    },
    {
     "data": {
      "text/plain": [
       "[{'name': '룰스 듀얼 커버 비비크림 SPF30/PA++',\n",
       "  'image': 'http://www.toocoolforschool.com/shop/data/goods/1496409016427l0.jpg',\n",
       "  'category': '홈 > E-SHOP > BRAND LINE',\n",
       "  'volume': '비비크림 50ml + 컨실러 1.5g',\n",
       "  'originalPrice': 22000,\n",
       "  'salePrice': 22000,\n",
       "  'brand': 'toocoolforschool',\n",
       "  'url': 'http://www.toocoolforschool.com/shop/goods/goods_view.php?goodsno=14110140&category=004',\n",
       "  'color': ''}]"
      ]
     },
     "metadata": {},
     "output_type": "display_data"
    },
    {
     "data": {
      "text/plain": [
       "[{'name': '★1+1★아티파이 애프터스쿨 BB 파운데이션 런치박스',\n",
       "  'image': 'http://www.toocoolforschool.com/shop/data/goods/1546222755631l0.jpg',\n",
       "  'category': '홈 > E-SHOP > BRAND LINE',\n",
       "  'volume': '40ml',\n",
       "  'originalPrice': 36000,\n",
       "  'salePrice': 18000,\n",
       "  'brand': 'toocoolforschool',\n",
       "  'url': 'http://www.toocoolforschool.com/shop/goods/goods_view.php?goodsno=14110120&category=004',\n",
       "  'color': '1호 보송한피부'},\n",
       " {'name': '★1+1★아티파이 애프터스쿨 BB 파운데이션 런치박스',\n",
       "  'image': 'http://www.toocoolforschool.com/shop/data/goods/1546222755631l0.jpg',\n",
       "  'category': '홈 > E-SHOP > BRAND LINE',\n",
       "  'volume': '40ml',\n",
       "  'originalPrice': 36000,\n",
       "  'salePrice': 18000,\n",
       "  'brand': 'toocoolforschool',\n",
       "  'url': 'http://www.toocoolforschool.com/shop/goods/goods_view.php?goodsno=14110120&category=004',\n",
       "  'color': '2호 촉촉한피부'},\n",
       " {'name': '★1+1★아티파이 애프터스쿨 BB 파운데이션 런치박스',\n",
       "  'image': 'http://www.toocoolforschool.com/shop/data/goods/1546222755631l0.jpg',\n",
       "  'category': '홈 > E-SHOP > BRAND LINE',\n",
       "  'volume': '40ml',\n",
       "  'originalPrice': 36000,\n",
       "  'salePrice': 18000,\n",
       "  'brand': 'toocoolforschool',\n",
       "  'url': 'http://www.toocoolforschool.com/shop/goods/goods_view.php?goodsno=14110120&category=004',\n",
       "  'color': '3호 건강한피부'}]"
      ]
     },
     "metadata": {},
     "output_type": "display_data"
    },
    {
     "data": {
      "text/plain": [
       "[{'name': '★2 in 1★체크 메이비 베이비 립',\n",
       "  'image': 'http://www.toocoolforschool.com/shop/data/goods/1496411645193l0.jpg',\n",
       "  'category': '홈 > E-SHOP > BRAND LINE',\n",
       "  'volume': '립에센스 3.5g, 립스크럽 3.3g',\n",
       "  'originalPrice': 13000,\n",
       "  'salePrice': 13000,\n",
       "  'brand': 'toocoolforschool',\n",
       "  'url': 'http://www.toocoolforschool.com/shop/goods/goods_view.php?goodsno=14110111&category=004',\n",
       "  'color': ''}]"
      ]
     },
     "metadata": {},
     "output_type": "display_data"
    },
    {
     "data": {
      "text/plain": [
       "[{'name': '★2 in 1★체크 베드 걸 굿 걸',\n",
       "  'image': 'http://www.toocoolforschool.com/shop/data/goods/1496411677597l0.jpg',\n",
       "  'category': '홈 > E-SHOP > BRAND LINE',\n",
       "  'volume': '9.5g',\n",
       "  'originalPrice': 12000,\n",
       "  'salePrice': 12000,\n",
       "  'brand': 'toocoolforschool',\n",
       "  'url': 'http://www.toocoolforschool.com/shop/goods/goods_view.php?goodsno=14110110&category=004',\n",
       "  'color': '1호 리얼레드  [품절]'},\n",
       " {'name': '★2 in 1★체크 베드 걸 굿 걸',\n",
       "  'image': 'http://www.toocoolforschool.com/shop/data/goods/1496411677597l0.jpg',\n",
       "  'category': '홈 > E-SHOP > BRAND LINE',\n",
       "  'volume': '9.5g',\n",
       "  'originalPrice': 12000,\n",
       "  'salePrice': 12000,\n",
       "  'brand': 'toocoolforschool',\n",
       "  'url': 'http://www.toocoolforschool.com/shop/goods/goods_view.php?goodsno=14110110&category=004',\n",
       "  'color': '2호 리얼오렌지  [품절]'}]"
      ]
     },
     "metadata": {},
     "output_type": "display_data"
    },
    {
     "data": {
      "text/plain": [
       "[{'name': '체크 케익 블러셔 (브러쉬 내장)',\n",
       "  'image': 'http://www.toocoolforschool.com/shop/data/goods/1496455700145l0.jpg',\n",
       "  'category': '홈 > E-SHOP > BRAND LINE',\n",
       "  'volume': '7.6g',\n",
       "  'originalPrice': 17000,\n",
       "  'salePrice': 17000,\n",
       "  'brand': 'toocoolforschool',\n",
       "  'url': 'http://www.toocoolforschool.com/shop/goods/goods_view.php?goodsno=14110109&category=004',\n",
       "  'color': '1호 핑크  [품절]'}]"
      ]
     },
     "metadata": {},
     "output_type": "display_data"
    },
    {
     "data": {
      "text/plain": [
       "[{'name': '★50할인★체크 핫 걸 립 스티커',\n",
       "  'image': 'http://www.toocoolforschool.com/shop/data/goods/1496411851815l0.jpg',\n",
       "  'category': '홈 > E-SHOP > BRAND LINE',\n",
       "  'volume': '2.0g',\n",
       "  'originalPrice': 8000,\n",
       "  'salePrice': 4000,\n",
       "  'brand': 'toocoolforschool',\n",
       "  'url': 'http://www.toocoolforschool.com/shop/goods/goods_view.php?goodsno=14110105&category=004',\n",
       "  'color': '2호 하와이안 플라워  [품절]'},\n",
       " {'name': '★50할인★체크 핫 걸 립 스티커',\n",
       "  'image': 'http://www.toocoolforschool.com/shop/data/goods/1496411851815l0.jpg',\n",
       "  'category': '홈 > E-SHOP > BRAND LINE',\n",
       "  'volume': '2.0g',\n",
       "  'originalPrice': 8000,\n",
       "  'salePrice': 4000,\n",
       "  'brand': 'toocoolforschool',\n",
       "  'url': 'http://www.toocoolforschool.com/shop/goods/goods_view.php?goodsno=14110105&category=004',\n",
       "  'color': '3호 레이디 살먼  [품절]'},\n",
       " {'name': '★50할인★체크 핫 걸 립 스티커',\n",
       "  'image': 'http://www.toocoolforschool.com/shop/data/goods/1496411851815l0.jpg',\n",
       "  'category': '홈 > E-SHOP > BRAND LINE',\n",
       "  'volume': '2.0g',\n",
       "  'originalPrice': 8000,\n",
       "  'salePrice': 4000,\n",
       "  'brand': 'toocoolforschool',\n",
       "  'url': 'http://www.toocoolforschool.com/shop/goods/goods_view.php?goodsno=14110105&category=004',\n",
       "  'color': '4호\\t탠저린  [품절]'},\n",
       " {'name': '★50할인★체크 핫 걸 립 스티커',\n",
       "  'image': 'http://www.toocoolforschool.com/shop/data/goods/1496411851815l0.jpg',\n",
       "  'category': '홈 > E-SHOP > BRAND LINE',\n",
       "  'volume': '2.0g',\n",
       "  'originalPrice': 8000,\n",
       "  'salePrice': 4000,\n",
       "  'brand': 'toocoolforschool',\n",
       "  'url': 'http://www.toocoolforschool.com/shop/goods/goods_view.php?goodsno=14110105&category=004',\n",
       "  'color': '5호 리얼레드  [품절]'},\n",
       " {'name': '★50할인★체크 핫 걸 립 스티커',\n",
       "  'image': 'http://www.toocoolforschool.com/shop/data/goods/1496411851815l0.jpg',\n",
       "  'category': '홈 > E-SHOP > BRAND LINE',\n",
       "  'volume': '2.0g',\n",
       "  'originalPrice': 8000,\n",
       "  'salePrice': 4000,\n",
       "  'brand': 'toocoolforschool',\n",
       "  'url': 'http://www.toocoolforschool.com/shop/goods/goods_view.php?goodsno=14110105&category=004',\n",
       "  'color': '6호 선데이 로즈  [품절]'},\n",
       " {'name': '★50할인★체크 핫 걸 립 스티커',\n",
       "  'image': 'http://www.toocoolforschool.com/shop/data/goods/1496411851815l0.jpg',\n",
       "  'category': '홈 > E-SHOP > BRAND LINE',\n",
       "  'volume': '2.0g',\n",
       "  'originalPrice': 8000,\n",
       "  'salePrice': 4000,\n",
       "  'brand': 'toocoolforschool',\n",
       "  'url': 'http://www.toocoolforschool.com/shop/goods/goods_view.php?goodsno=14110105&category=004',\n",
       "  'color': '7호 핑크문  [품절]'},\n",
       " {'name': '★50할인★체크 핫 걸 립 스티커',\n",
       "  'image': 'http://www.toocoolforschool.com/shop/data/goods/1496411851815l0.jpg',\n",
       "  'category': '홈 > E-SHOP > BRAND LINE',\n",
       "  'volume': '2.0g',\n",
       "  'originalPrice': 8000,\n",
       "  'salePrice': 4000,\n",
       "  'brand': 'toocoolforschool',\n",
       "  'url': 'http://www.toocoolforschool.com/shop/goods/goods_view.php?goodsno=14110105&category=004',\n",
       "  'color': '8호 어반 오키드  [품절]'},\n",
       " {'name': '★50할인★체크 핫 걸 립 스티커',\n",
       "  'image': 'http://www.toocoolforschool.com/shop/data/goods/1496411851815l0.jpg',\n",
       "  'category': '홈 > E-SHOP > BRAND LINE',\n",
       "  'volume': '2.0g',\n",
       "  'originalPrice': 8000,\n",
       "  'salePrice': 4000,\n",
       "  'brand': 'toocoolforschool',\n",
       "  'url': 'http://www.toocoolforschool.com/shop/goods/goods_view.php?goodsno=14110105&category=004',\n",
       "  'color': '10호 누디로즈  [품절]'},\n",
       " {'name': '★50할인★체크 핫 걸 립 스티커',\n",
       "  'image': 'http://www.toocoolforschool.com/shop/data/goods/1496411851815l0.jpg',\n",
       "  'category': '홈 > E-SHOP > BRAND LINE',\n",
       "  'volume': '2.0g',\n",
       "  'originalPrice': 8000,\n",
       "  'salePrice': 4000,\n",
       "  'brand': 'toocoolforschool',\n",
       "  'url': 'http://www.toocoolforschool.com/shop/goods/goods_view.php?goodsno=14110105&category=004',\n",
       "  'color': '11호 뮤즈코랄  [품절]'},\n",
       " {'name': '★50할인★체크 핫 걸 립 스티커',\n",
       "  'image': 'http://www.toocoolforschool.com/shop/data/goods/1496411851815l0.jpg',\n",
       "  'category': '홈 > E-SHOP > BRAND LINE',\n",
       "  'volume': '2.0g',\n",
       "  'originalPrice': 8000,\n",
       "  'salePrice': 4000,\n",
       "  'brand': 'toocoolforschool',\n",
       "  'url': 'http://www.toocoolforschool.com/shop/goods/goods_view.php?goodsno=14110105&category=004',\n",
       "  'color': '12호 글램 탠저린  [품절]'},\n",
       " {'name': '★50할인★체크 핫 걸 립 스티커',\n",
       "  'image': 'http://www.toocoolforschool.com/shop/data/goods/1496411851815l0.jpg',\n",
       "  'category': '홈 > E-SHOP > BRAND LINE',\n",
       "  'volume': '2.0g',\n",
       "  'originalPrice': 8000,\n",
       "  'salePrice': 4000,\n",
       "  'brand': 'toocoolforschool',\n",
       "  'url': 'http://www.toocoolforschool.com/shop/goods/goods_view.php?goodsno=14110105&category=004',\n",
       "  'color': '13호 레드 플래쉬  [품절]'},\n",
       " {'name': '★50할인★체크 핫 걸 립 스티커',\n",
       "  'image': 'http://www.toocoolforschool.com/shop/data/goods/1496411851815l0.jpg',\n",
       "  'category': '홈 > E-SHOP > BRAND LINE',\n",
       "  'volume': '2.0g',\n",
       "  'originalPrice': 8000,\n",
       "  'salePrice': 4000,\n",
       "  'brand': 'toocoolforschool',\n",
       "  'url': 'http://www.toocoolforschool.com/shop/goods/goods_view.php?goodsno=14110105&category=004',\n",
       "  'color': '14호 코랄리 선셋  [품절]'},\n",
       " {'name': '★50할인★체크 핫 걸 립 스티커',\n",
       "  'image': 'http://www.toocoolforschool.com/shop/data/goods/1496411851815l0.jpg',\n",
       "  'category': '홈 > E-SHOP > BRAND LINE',\n",
       "  'volume': '2.0g',\n",
       "  'originalPrice': 8000,\n",
       "  'salePrice': 4000,\n",
       "  'brand': 'toocoolforschool',\n",
       "  'url': 'http://www.toocoolforschool.com/shop/goods/goods_view.php?goodsno=14110105&category=004',\n",
       "  'color': '15호 오렌지 쥬이시  [품절]'},\n",
       " {'name': '★50할인★체크 핫 걸 립 스티커',\n",
       "  'image': 'http://www.toocoolforschool.com/shop/data/goods/1496411851815l0.jpg',\n",
       "  'category': '홈 > E-SHOP > BRAND LINE',\n",
       "  'volume': '2.0g',\n",
       "  'originalPrice': 8000,\n",
       "  'salePrice': 4000,\n",
       "  'brand': 'toocoolforschool',\n",
       "  'url': 'http://www.toocoolforschool.com/shop/goods/goods_view.php?goodsno=14110105&category=004',\n",
       "  'color': '16호 푸시아 홀릭'},\n",
       " {'name': '★50할인★체크 핫 걸 립 스티커',\n",
       "  'image': 'http://www.toocoolforschool.com/shop/data/goods/1496411851815l0.jpg',\n",
       "  'category': '홈 > E-SHOP > BRAND LINE',\n",
       "  'volume': '2.0g',\n",
       "  'originalPrice': 8000,\n",
       "  'salePrice': 4000,\n",
       "  'brand': 'toocoolforschool',\n",
       "  'url': 'http://www.toocoolforschool.com/shop/goods/goods_view.php?goodsno=14110105&category=004',\n",
       "  'color': '17호 딜라잇 피치  [품절]'},\n",
       " {'name': '★50할인★체크 핫 걸 립 스티커',\n",
       "  'image': 'http://www.toocoolforschool.com/shop/data/goods/1496411851815l0.jpg',\n",
       "  'category': '홈 > E-SHOP > BRAND LINE',\n",
       "  'volume': '2.0g',\n",
       "  'originalPrice': 8000,\n",
       "  'salePrice': 4000,\n",
       "  'brand': 'toocoolforschool',\n",
       "  'url': 'http://www.toocoolforschool.com/shop/goods/goods_view.php?goodsno=14110105&category=004',\n",
       "  'color': '18호 엔티크 로지  [품절]'},\n",
       " {'name': '★50할인★체크 핫 걸 립 스티커',\n",
       "  'image': 'http://www.toocoolforschool.com/shop/data/goods/1496411851815l0.jpg',\n",
       "  'category': '홈 > E-SHOP > BRAND LINE',\n",
       "  'volume': '2.0g',\n",
       "  'originalPrice': 8000,\n",
       "  'salePrice': 4000,\n",
       "  'brand': 'toocoolforschool',\n",
       "  'url': 'http://www.toocoolforschool.com/shop/goods/goods_view.php?goodsno=14110105&category=004',\n",
       "  'color': '19호 오로라 레드  [품절]'},\n",
       " {'name': '★50할인★체크 핫 걸 립 스티커',\n",
       "  'image': 'http://www.toocoolforschool.com/shop/data/goods/1496411851815l0.jpg',\n",
       "  'category': '홈 > E-SHOP > BRAND LINE',\n",
       "  'volume': '2.0g',\n",
       "  'originalPrice': 8000,\n",
       "  'salePrice': 4000,\n",
       "  'brand': 'toocoolforschool',\n",
       "  'url': 'http://www.toocoolforschool.com/shop/goods/goods_view.php?goodsno=14110105&category=004',\n",
       "  'color': '20호 로즈 매더  [품절]'}]"
      ]
     },
     "metadata": {},
     "output_type": "display_data"
    },
    {
     "data": {
      "text/plain": [
       "[{'name': '다이노플라츠 구게노사우르스 컨실러 SPF30/PA++',\n",
       "  'image': 'http://www.toocoolforschool.com/shop/data/goods/1496412238925l0.jpg',\n",
       "  'category': '홈 > E-SHOP > BRAND LINE',\n",
       "  'volume': '1.8g',\n",
       "  'originalPrice': 17000,\n",
       "  'salePrice': 17000,\n",
       "  'brand': 'toocoolforschool',\n",
       "  'url': 'http://www.toocoolforschool.com/shop/goods/goods_view.php?goodsno=14110068&category=004',\n",
       "  'color': ''}]"
      ]
     },
     "metadata": {},
     "output_type": "display_data"
    },
    {
     "data": {
      "text/plain": [
       "[{'name': '다이노플라츠 로스트 아이덴티티',\n",
       "  'image': 'http://www.toocoolforschool.com/shop/data/goods/149641518420l0.jpg',\n",
       "  'category': '홈 > E-SHOP > BRAND LINE',\n",
       "  'volume': '2.5g',\n",
       "  'originalPrice': 11000,\n",
       "  'salePrice': 11000,\n",
       "  'brand': 'toocoolforschool',\n",
       "  'url': 'http://www.toocoolforschool.com/shop/goods/goods_view.php?goodsno=14110058&category=004',\n",
       "  'color': '1호 핑크'},\n",
       " {'name': '다이노플라츠 로스트 아이덴티티',\n",
       "  'image': 'http://www.toocoolforschool.com/shop/data/goods/149641518420l0.jpg',\n",
       "  'category': '홈 > E-SHOP > BRAND LINE',\n",
       "  'volume': '2.5g',\n",
       "  'originalPrice': 11000,\n",
       "  'salePrice': 11000,\n",
       "  'brand': 'toocoolforschool',\n",
       "  'url': 'http://www.toocoolforschool.com/shop/goods/goods_view.php?goodsno=14110058&category=004',\n",
       "  'color': '2호 오렌지'},\n",
       " {'name': '다이노플라츠 로스트 아이덴티티',\n",
       "  'image': 'http://www.toocoolforschool.com/shop/data/goods/149641518420l0.jpg',\n",
       "  'category': '홈 > E-SHOP > BRAND LINE',\n",
       "  'volume': '2.5g',\n",
       "  'originalPrice': 11000,\n",
       "  'salePrice': 11000,\n",
       "  'brand': 'toocoolforschool',\n",
       "  'url': 'http://www.toocoolforschool.com/shop/goods/goods_view.php?goodsno=14110058&category=004',\n",
       "  'color': '3호 민트  [품절]'}]"
      ]
     },
     "metadata": {},
     "output_type": "display_data"
    },
    {
     "data": {
      "text/plain": [
       "[{'name': '다이노플라츠 립밤',\n",
       "  'image': 'http://www.toocoolforschool.com/shop/data/goods/1521192635268l0.jpg',\n",
       "  'category': '홈 > E-SHOP > BRAND LINE',\n",
       "  'volume': '13g',\n",
       "  'originalPrice': 12000,\n",
       "  'salePrice': 12000,\n",
       "  'brand': 'toocoolforschool',\n",
       "  'url': 'http://www.toocoolforschool.com/shop/goods/goods_view.php?goodsno=14110055&category=004',\n",
       "  'color': '1호 스필드와인 버건디  [품절]'},\n",
       " {'name': '다이노플라츠 립밤',\n",
       "  'image': 'http://www.toocoolforschool.com/shop/data/goods/1521192635268l0.jpg',\n",
       "  'category': '홈 > E-SHOP > BRAND LINE',\n",
       "  'volume': '13g',\n",
       "  'originalPrice': 12000,\n",
       "  'salePrice': 12000,\n",
       "  'brand': 'toocoolforschool',\n",
       "  'url': 'http://www.toocoolforschool.com/shop/goods/goods_view.php?goodsno=14110055&category=004',\n",
       "  'color': '2호 비트잼 레드'},\n",
       " {'name': '다이노플라츠 립밤',\n",
       "  'image': 'http://www.toocoolforschool.com/shop/data/goods/1521192635268l0.jpg',\n",
       "  'category': '홈 > E-SHOP > BRAND LINE',\n",
       "  'volume': '13g',\n",
       "  'originalPrice': 12000,\n",
       "  'salePrice': 12000,\n",
       "  'brand': 'toocoolforschool',\n",
       "  'url': 'http://www.toocoolforschool.com/shop/goods/goods_view.php?goodsno=14110055&category=004',\n",
       "  'color': '3호 래빗푸드 오렌지'},\n",
       " {'name': '다이노플라츠 립밤',\n",
       "  'image': 'http://www.toocoolforschool.com/shop/data/goods/1521192635268l0.jpg',\n",
       "  'category': '홈 > E-SHOP > BRAND LINE',\n",
       "  'volume': '13g',\n",
       "  'originalPrice': 12000,\n",
       "  'salePrice': 12000,\n",
       "  'brand': 'toocoolforschool',\n",
       "  'url': 'http://www.toocoolforschool.com/shop/goods/goods_view.php?goodsno=14110055&category=004',\n",
       "  'color': '4호 피치멜바 피치'},\n",
       " {'name': '다이노플라츠 립밤',\n",
       "  'image': 'http://www.toocoolforschool.com/shop/data/goods/1521192635268l0.jpg',\n",
       "  'category': '홈 > E-SHOP > BRAND LINE',\n",
       "  'volume': '13g',\n",
       "  'originalPrice': 12000,\n",
       "  'salePrice': 12000,\n",
       "  'brand': 'toocoolforschool',\n",
       "  'url': 'http://www.toocoolforschool.com/shop/goods/goods_view.php?goodsno=14110055&category=004',\n",
       "  'color': '5호 핑키 파이  [품절]'},\n",
       " {'name': '다이노플라츠 립밤',\n",
       "  'image': 'http://www.toocoolforschool.com/shop/data/goods/1521192635268l0.jpg',\n",
       "  'category': '홈 > E-SHOP > BRAND LINE',\n",
       "  'volume': '13g',\n",
       "  'originalPrice': 12000,\n",
       "  'salePrice': 12000,\n",
       "  'brand': 'toocoolforschool',\n",
       "  'url': 'http://www.toocoolforschool.com/shop/goods/goods_view.php?goodsno=14110055&category=004',\n",
       "  'color': '6호 플럼타르트'},\n",
       " {'name': '다이노플라츠 립밤',\n",
       "  'image': 'http://www.toocoolforschool.com/shop/data/goods/1521192635268l0.jpg',\n",
       "  'category': '홈 > E-SHOP > BRAND LINE',\n",
       "  'volume': '13g',\n",
       "  'originalPrice': 12000,\n",
       "  'salePrice': 12000,\n",
       "  'brand': 'toocoolforschool',\n",
       "  'url': 'http://www.toocoolforschool.com/shop/goods/goods_view.php?goodsno=14110055&category=004',\n",
       "  'color': '7호 그레이트 프룻  [품절]'},\n",
       " {'name': '다이노플라츠 립밤',\n",
       "  'image': 'http://www.toocoolforschool.com/shop/data/goods/1521192635268l0.jpg',\n",
       "  'category': '홈 > E-SHOP > BRAND LINE',\n",
       "  'volume': '13g',\n",
       "  'originalPrice': 12000,\n",
       "  'salePrice': 12000,\n",
       "  'brand': 'toocoolforschool',\n",
       "  'url': 'http://www.toocoolforschool.com/shop/goods/goods_view.php?goodsno=14110055&category=004',\n",
       "  'color': '8호 치어리 체리'}]"
      ]
     },
     "metadata": {},
     "output_type": "display_data"
    },
    {
     "data": {
      "text/plain": [
       "[{'name': '다이노플라츠 시네마 시티',\n",
       "  'image': 'http://www.toocoolforschool.com/shop/data/goods/1496412606200l0.png',\n",
       "  'category': '홈 > E-SHOP > BRAND LINE',\n",
       "  'volume': 'CC크림 30ml / 컨실러 2.8g / 하이라이터 2.8g / 치크 2.8g',\n",
       "  'originalPrice': 25000,\n",
       "  'salePrice': 25000,\n",
       "  'brand': 'toocoolforschool',\n",
       "  'url': 'http://www.toocoolforschool.com/shop/goods/goods_view.php?goodsno=14110053&category=004',\n",
       "  'color': '1호 포슬린 (밝은 아이보리)'},\n",
       " {'name': '다이노플라츠 시네마 시티',\n",
       "  'image': 'http://www.toocoolforschool.com/shop/data/goods/1496412606200l0.png',\n",
       "  'category': '홈 > E-SHOP > BRAND LINE',\n",
       "  'volume': 'CC크림 30ml / 컨실러 2.8g / 하이라이터 2.8g / 치크 2.8g',\n",
       "  'originalPrice': 25000,\n",
       "  'salePrice': 25000,\n",
       "  'brand': 'toocoolforschool',\n",
       "  'url': 'http://www.toocoolforschool.com/shop/goods/goods_view.php?goodsno=14110053&category=004',\n",
       "  'color': '2호 라이트 (바닐라 베이지)'},\n",
       " {'name': '다이노플라츠 시네마 시티',\n",
       "  'image': 'http://www.toocoolforschool.com/shop/data/goods/1496412606200l0.png',\n",
       "  'category': '홈 > E-SHOP > BRAND LINE',\n",
       "  'volume': 'CC크림 30ml / 컨실러 2.8g / 하이라이터 2.8g / 치크 2.8g',\n",
       "  'originalPrice': 25000,\n",
       "  'salePrice': 25000,\n",
       "  'brand': 'toocoolforschool',\n",
       "  'url': 'http://www.toocoolforschool.com/shop/goods/goods_view.php?goodsno=14110053&category=004',\n",
       "  'color': '3호 내추럴 (차분한 베이지)'}]"
      ]
     },
     "metadata": {},
     "output_type": "display_data"
    },
    {
     "data": {
      "text/plain": [
       "[{'name': '다이노플라츠 아이섀도우 온 플랫아이언',\n",
       "  'image': 'http://www.toocoolforschool.com/shop/data/goods/1496415267297l0.jpg',\n",
       "  'category': '홈 > E-SHOP > BRAND LINE',\n",
       "  'volume': '7g',\n",
       "  'originalPrice': 11000,\n",
       "  'salePrice': 11000,\n",
       "  'brand': 'toocoolforschool',\n",
       "  'url': 'http://www.toocoolforschool.com/shop/goods/goods_view.php?goodsno=14110052&category=004',\n",
       "  'color': '1호 라벤더'},\n",
       " {'name': '다이노플라츠 아이섀도우 온 플랫아이언',\n",
       "  'image': 'http://www.toocoolforschool.com/shop/data/goods/1496415267297l0.jpg',\n",
       "  'category': '홈 > E-SHOP > BRAND LINE',\n",
       "  'volume': '7g',\n",
       "  'originalPrice': 11000,\n",
       "  'salePrice': 11000,\n",
       "  'brand': 'toocoolforschool',\n",
       "  'url': 'http://www.toocoolforschool.com/shop/goods/goods_view.php?goodsno=14110052&category=004',\n",
       "  'color': '2호 피치골드  [품절]'},\n",
       " {'name': '다이노플라츠 아이섀도우 온 플랫아이언',\n",
       "  'image': 'http://www.toocoolforschool.com/shop/data/goods/1496415267297l0.jpg',\n",
       "  'category': '홈 > E-SHOP > BRAND LINE',\n",
       "  'volume': '7g',\n",
       "  'originalPrice': 11000,\n",
       "  'salePrice': 11000,\n",
       "  'brand': 'toocoolforschool',\n",
       "  'url': 'http://www.toocoolforschool.com/shop/goods/goods_view.php?goodsno=14110052&category=004',\n",
       "  'color': '3호 브론즈  [품절]'}]"
      ]
     },
     "metadata": {},
     "output_type": "display_data"
    },
    {
     "data": {
      "text/plain": [
       "[{'name': '다이노플라츠 에스컬레이터 마스카라',\n",
       "  'image': 'http://www.toocoolforschool.com/shop/data/goods/1545019135390l0.jpg',\n",
       "  'category': '홈 > E-SHOP > BRAND LINE',\n",
       "  'volume': '6.5g',\n",
       "  'originalPrice': 19000,\n",
       "  'salePrice': 19000,\n",
       "  'brand': 'toocoolforschool',\n",
       "  'url': 'http://www.toocoolforschool.com/shop/goods/goods_view.php?goodsno=14110050&category=004',\n",
       "  'color': ''}]"
      ]
     },
     "metadata": {},
     "output_type": "display_data"
    },
    {
     "data": {
      "text/plain": [
       "[{'name': '다이노플라츠 하이라인',\n",
       "  'image': 'http://www.toocoolforschool.com/shop/data/goods/1521189935159l0.jpg',\n",
       "  'category': '홈 > E-SHOP > BRAND LINE',\n",
       "  'volume': '0.6g',\n",
       "  'originalPrice': 13000,\n",
       "  'salePrice': 13000,\n",
       "  'brand': 'toocoolforschool',\n",
       "  'url': 'http://www.toocoolforschool.com/shop/goods/goods_view.php?goodsno=14110038&category=004',\n",
       "  'color': '11호 블랙 락  [품절]'},\n",
       " {'name': '다이노플라츠 하이라인',\n",
       "  'image': 'http://www.toocoolforschool.com/shop/data/goods/1521189935159l0.jpg',\n",
       "  'category': '홈 > E-SHOP > BRAND LINE',\n",
       "  'volume': '0.6g',\n",
       "  'originalPrice': 13000,\n",
       "  'salePrice': 13000,\n",
       "  'brand': 'toocoolforschool',\n",
       "  'url': 'http://www.toocoolforschool.com/shop/goods/goods_view.php?goodsno=14110038&category=004',\n",
       "  'color': '12호 글램베이지  [품절]'}]"
      ]
     },
     "metadata": {},
     "output_type": "display_data"
    },
    {
     "data": {
      "text/plain": [
       "[{'name': '글램락 뱀파이어 키스',\n",
       "  'image': 'http://www.toocoolforschool.com/shop/data/goods/1496413573715l0.jpg',\n",
       "  'category': '홈 > E-SHOP > BRAND LINE',\n",
       "  'volume': '3g',\n",
       "  'originalPrice': 13000,\n",
       "  'salePrice': 13000,\n",
       "  'brand': 'toocoolforschool',\n",
       "  'url': 'http://www.toocoolforschool.com/shop/goods/goods_view.php?goodsno=14110009&category=004',\n",
       "  'color': '1호 블러디키스  [품절]'},\n",
       " {'name': '글램락 뱀파이어 키스',\n",
       "  'image': 'http://www.toocoolforschool.com/shop/data/goods/1496413573715l0.jpg',\n",
       "  'category': '홈 > E-SHOP > BRAND LINE',\n",
       "  'volume': '3g',\n",
       "  'originalPrice': 13000,\n",
       "  'salePrice': 13000,\n",
       "  'brand': 'toocoolforschool',\n",
       "  'url': 'http://www.toocoolforschool.com/shop/goods/goods_view.php?goodsno=14110009&category=004',\n",
       "  'color': '2호 레드벨벳  [품절]'}]"
      ]
     },
     "metadata": {},
     "output_type": "display_data"
    },
    {
     "data": {
      "text/plain": [
       "[{'name': '글램락 스트로빙 아이즈',\n",
       "  'image': 'http://www.toocoolforschool.com/shop/data/goods/1521167888773l0.jpg',\n",
       "  'category': '홈 > E-SHOP > BRAND LINE',\n",
       "  'volume': '6.5g',\n",
       "  'originalPrice': 15000,\n",
       "  'salePrice': 15000,\n",
       "  'brand': 'toocoolforschool',\n",
       "  'url': 'http://www.toocoolforschool.com/shop/goods/goods_view.php?goodsno=14110409&category=004',\n",
       "  'color': '1호 메탈 크러쉬  [품절]'},\n",
       " {'name': '글램락 스트로빙 아이즈',\n",
       "  'image': 'http://www.toocoolforschool.com/shop/data/goods/1521167888773l0.jpg',\n",
       "  'category': '홈 > E-SHOP > BRAND LINE',\n",
       "  'volume': '6.5g',\n",
       "  'originalPrice': 15000,\n",
       "  'salePrice': 15000,\n",
       "  'brand': 'toocoolforschool',\n",
       "  'url': 'http://www.toocoolforschool.com/shop/goods/goods_view.php?goodsno=14110409&category=004',\n",
       "  'color': '2호 오드 사이렌  [품절]'},\n",
       " {'name': '글램락 스트로빙 아이즈',\n",
       "  'image': 'http://www.toocoolforschool.com/shop/data/goods/1521167888773l0.jpg',\n",
       "  'category': '홈 > E-SHOP > BRAND LINE',\n",
       "  'volume': '6.5g',\n",
       "  'originalPrice': 15000,\n",
       "  'salePrice': 15000,\n",
       "  'brand': 'toocoolforschool',\n",
       "  'url': 'http://www.toocoolforschool.com/shop/goods/goods_view.php?goodsno=14110409&category=004',\n",
       "  'color': '3호 하이퍼 코퍼  [품절]'}]"
      ]
     },
     "metadata": {},
     "output_type": "display_data"
    },
    {
     "data": {
      "text/plain": [
       "[{'name': '글램락 스트로빙 립',\n",
       "  'image': 'http://www.toocoolforschool.com/shop/data/goods/1508921951726l0.jpg',\n",
       "  'category': '홈 > E-SHOP > BRAND LINE',\n",
       "  'volume': '6g',\n",
       "  'originalPrice': 12000,\n",
       "  'salePrice': 12000,\n",
       "  'brand': 'toocoolforschool',\n",
       "  'url': 'http://www.toocoolforschool.com/shop/goods/goods_view.php?goodsno=14110410&category=004',\n",
       "  'color': '1호 갤럭시워  [품절]'},\n",
       " {'name': '글램락 스트로빙 립',\n",
       "  'image': 'http://www.toocoolforschool.com/shop/data/goods/1508921951726l0.jpg',\n",
       "  'category': '홈 > E-SHOP > BRAND LINE',\n",
       "  'volume': '6g',\n",
       "  'originalPrice': 12000,\n",
       "  'salePrice': 12000,\n",
       "  'brand': 'toocoolforschool',\n",
       "  'url': 'http://www.toocoolforschool.com/shop/goods/goods_view.php?goodsno=14110410&category=004',\n",
       "  'color': '2호 프로즌럭스  [품절]'}]"
      ]
     },
     "metadata": {},
     "output_type": "display_data"
    },
    {
     "data": {
      "text/plain": [
       "[{'name': '★세트 할인★바이로댕 뤼미네즈 바니쉬',\n",
       "  'image': 'http://www.toocoolforschool.com/shop/data/goods/1521429080965l0.jpg',\n",
       "  'category': '홈 > E-SHOP > BRAND LINE',\n",
       "  'volume': '7g',\n",
       "  'originalPrice': 23000,\n",
       "  'salePrice': 18000,\n",
       "  'brand': 'toocoolforschool',\n",
       "  'url': 'http://www.toocoolforschool.com/shop/goods/goods_view.php?goodsno=14110412&category=004',\n",
       "  'color': '1. 바니쉬+듀얼터치'},\n",
       " {'name': '★세트 할인★바이로댕 뤼미네즈 바니쉬',\n",
       "  'image': 'http://www.toocoolforschool.com/shop/data/goods/1521429080965l0.jpg',\n",
       "  'category': '홈 > E-SHOP > BRAND LINE',\n",
       "  'volume': '7g',\n",
       "  'originalPrice': 23000,\n",
       "  'salePrice': 18000,\n",
       "  'brand': 'toocoolforschool',\n",
       "  'url': 'http://www.toocoolforschool.com/shop/goods/goods_view.php?goodsno=14110412&category=004',\n",
       "  'color': '2. 바니쉬+오로라미스트+듀얼터치 (28,000원)'}]"
      ]
     },
     "metadata": {},
     "output_type": "display_data"
    },
    {
     "data": {
      "text/plain": [
       "[{'name': '★2in1★아티스트 글로잉 듀얼 터치',\n",
       "  'image': 'http://www.toocoolforschool.com/shop/data/goods/1510276885842l0.jpg',\n",
       "  'category': '홈 > E-SHOP > BRAND LINE',\n",
       "  'volume': '1EA',\n",
       "  'originalPrice': 5000,\n",
       "  'salePrice': 5000,\n",
       "  'brand': 'toocoolforschool',\n",
       "  'url': 'http://www.toocoolforschool.com/shop/goods/goods_view.php?goodsno=14110413&category=004',\n",
       "  'color': ''}]"
      ]
     },
     "metadata": {},
     "output_type": "display_data"
    },
    {
     "data": {
      "text/plain": [
       "[{'name': '★퍼프증정★아트클래스 스튜디오 드 땅뜨 스페셜에디션',\n",
       "  'image': 'http://www.toocoolforschool.com/shop/data/goods/1546222489288l0.jpg',\n",
       "  'category': '홈 > E-SHOP > BRAND LINE',\n",
       "  'volume': '새틴 / 에어 30ml, 브러쉬클렌저100ml, 미니 브러쉬',\n",
       "  'originalPrice': 33000,\n",
       "  'salePrice': 28000,\n",
       "  'brand': 'toocoolforschool',\n",
       "  'url': 'http://www.toocoolforschool.com/shop/goods/goods_view.php?goodsno=14110414&category=004',\n",
       "  'color': '새틴 세트 3호(아이보리)'},\n",
       " {'name': '★퍼프증정★아트클래스 스튜디오 드 땅뜨 스페셜에디션',\n",
       "  'image': 'http://www.toocoolforschool.com/shop/data/goods/1546222489288l0.jpg',\n",
       "  'category': '홈 > E-SHOP > BRAND LINE',\n",
       "  'volume': '새틴 / 에어 30ml, 브러쉬클렌저100ml, 미니 브러쉬',\n",
       "  'originalPrice': 33000,\n",
       "  'salePrice': 28000,\n",
       "  'brand': 'toocoolforschool',\n",
       "  'url': 'http://www.toocoolforschool.com/shop/goods/goods_view.php?goodsno=14110414&category=004',\n",
       "  'color': '에어 세트 1호(포슬린)  [품절]'},\n",
       " {'name': '★퍼프증정★아트클래스 스튜디오 드 땅뜨 스페셜에디션',\n",
       "  'image': 'http://www.toocoolforschool.com/shop/data/goods/1546222489288l0.jpg',\n",
       "  'category': '홈 > E-SHOP > BRAND LINE',\n",
       "  'volume': '새틴 / 에어 30ml, 브러쉬클렌저100ml, 미니 브러쉬',\n",
       "  'originalPrice': 33000,\n",
       "  'salePrice': 28000,\n",
       "  'brand': 'toocoolforschool',\n",
       "  'url': 'http://www.toocoolforschool.com/shop/goods/goods_view.php?goodsno=14110414&category=004',\n",
       "  'color': '에어 세트 2호 (아이보리)'}]"
      ]
     },
     "metadata": {},
     "output_type": "display_data"
    },
    {
     "data": {
      "text/plain": [
       "[{'name': '★퍼펙트 윤광 세트★새틴 X 바니쉬',\n",
       "  'image': 'http://www.toocoolforschool.com/shop/data/goods/1516953488438l0.jpg',\n",
       "  'category': '홈 > E-SHOP > BRAND LINE',\n",
       "  'volume': '스튜디오 드 땅뜨 리퀴드 새틴: 30ml /',\n",
       "  'originalPrice': 61000,\n",
       "  'salePrice': 46000,\n",
       "  'brand': 'toocoolforschool',\n",
       "  'url': 'http://www.toocoolforschool.com/shop/goods/goods_view.php?goodsno=14110416&category=004',\n",
       "  'color': '1호 페일+바니쉬+피팅퍼프+듀얼터치+체크틴트 미니'},\n",
       " {'name': '★퍼펙트 윤광 세트★새틴 X 바니쉬',\n",
       "  'image': 'http://www.toocoolforschool.com/shop/data/goods/1516953488438l0.jpg',\n",
       "  'category': '홈 > E-SHOP > BRAND LINE',\n",
       "  'volume': '스튜디오 드 땅뜨 리퀴드 새틴: 30ml /',\n",
       "  'originalPrice': 61000,\n",
       "  'salePrice': 46000,\n",
       "  'brand': 'toocoolforschool',\n",
       "  'url': 'http://www.toocoolforschool.com/shop/goods/goods_view.php?goodsno=14110416&category=004',\n",
       "  'color': '2호 포슬린+바니쉬+피팅퍼프+듀얼터치+체크틴트 미니'},\n",
       " {'name': '★퍼펙트 윤광 세트★새틴 X 바니쉬',\n",
       "  'image': 'http://www.toocoolforschool.com/shop/data/goods/1516953488438l0.jpg',\n",
       "  'category': '홈 > E-SHOP > BRAND LINE',\n",
       "  'volume': '스튜디오 드 땅뜨 리퀴드 새틴: 30ml /',\n",
       "  'originalPrice': 61000,\n",
       "  'salePrice': 46000,\n",
       "  'brand': 'toocoolforschool',\n",
       "  'url': 'http://www.toocoolforschool.com/shop/goods/goods_view.php?goodsno=14110416&category=004',\n",
       "  'color': '3호 아이보리+바니쉬+피팅퍼프+듀얼터치+체크틴트 미니'},\n",
       " {'name': '★퍼펙트 윤광 세트★새틴 X 바니쉬',\n",
       "  'image': 'http://www.toocoolforschool.com/shop/data/goods/1516953488438l0.jpg',\n",
       "  'category': '홈 > E-SHOP > BRAND LINE',\n",
       "  'volume': '스튜디오 드 땅뜨 리퀴드 새틴: 30ml /',\n",
       "  'originalPrice': 61000,\n",
       "  'salePrice': 46000,\n",
       "  'brand': 'toocoolforschool',\n",
       "  'url': 'http://www.toocoolforschool.com/shop/goods/goods_view.php?goodsno=14110416&category=004',\n",
       "  'color': '4호 베이지+바니쉬+피팅퍼프+듀얼터치+체크틴트 미니'}]"
      ]
     },
     "metadata": {},
     "output_type": "display_data"
    },
    {
     "data": {
      "text/plain": [
       "[{'name': '★마약쿠션★초강력 글로우 커버쿠션(본품+리필)',\n",
       "  'image': 'http://www.toocoolforschool.com/shop/data/goods/1543364641177l0.jpg',\n",
       "  'category': '홈 > E-SHOP > BRAND LINE',\n",
       "  'volume': '본품: 14g, 리필: 14g',\n",
       "  'originalPrice': 35000,\n",
       "  'salePrice': 35000,\n",
       "  'brand': 'toocoolforschool',\n",
       "  'url': 'http://www.toocoolforschool.com/shop/goods/goods_view.php?goodsno=14110435&category=004',\n",
       "  'color': '1호 포슬린 (13호~21호)'},\n",
       " {'name': '★마약쿠션★초강력 글로우 커버쿠션(본품+리필)',\n",
       "  'image': 'http://www.toocoolforschool.com/shop/data/goods/1543364641177l0.jpg',\n",
       "  'category': '홈 > E-SHOP > BRAND LINE',\n",
       "  'volume': '본품: 14g, 리필: 14g',\n",
       "  'originalPrice': 35000,\n",
       "  'salePrice': 35000,\n",
       "  'brand': 'toocoolforschool',\n",
       "  'url': 'http://www.toocoolforschool.com/shop/goods/goods_view.php?goodsno=14110435&category=004',\n",
       "  'color': '2호 아이보리 (21호~23호)'},\n",
       " {'name': '★마약쿠션★초강력 글로우 커버쿠션(본품+리필)',\n",
       "  'image': 'http://www.toocoolforschool.com/shop/data/goods/1543364641177l0.jpg',\n",
       "  'category': '홈 > E-SHOP > BRAND LINE',\n",
       "  'volume': '본품: 14g, 리필: 14g',\n",
       "  'originalPrice': 35000,\n",
       "  'salePrice': 35000,\n",
       "  'brand': 'toocoolforschool',\n",
       "  'url': 'http://www.toocoolforschool.com/shop/goods/goods_view.php?goodsno=14110435&category=004',\n",
       "  'color': '3호 베이지 (23호)'}]"
      ]
     },
     "metadata": {},
     "output_type": "display_data"
    },
    {
     "data": {
      "text/plain": [
       "[{'name': '아트클래스 스튜디오 드 땅뜨 포어 제로 프라이머',\n",
       "  'image': 'http://www.toocoolforschool.com/shop/data/goods/1534490129113l0.jpg',\n",
       "  'category': '홈 > E-SHOP > BRAND LINE',\n",
       "  'volume': '30ml',\n",
       "  'originalPrice': 18000,\n",
       "  'salePrice': 18000,\n",
       "  'brand': 'toocoolforschool',\n",
       "  'url': 'http://www.toocoolforschool.com/shop/goods/goods_view.php?goodsno=14110437&category=004',\n",
       "  'color': ''}]"
      ]
     },
     "metadata": {},
     "output_type": "display_data"
    },
    {
     "data": {
      "text/plain": [
       "[{'name': '아트클래스 스튜디오 드 땅뜨 하이드라 프라이머',\n",
       "  'image': 'http://www.toocoolforschool.com/shop/data/goods/1534490315239l0.jpg',\n",
       "  'category': '홈 > E-SHOP > BRAND LINE',\n",
       "  'volume': '30ml',\n",
       "  'originalPrice': 18000,\n",
       "  'salePrice': 18000,\n",
       "  'brand': 'toocoolforschool',\n",
       "  'url': 'http://www.toocoolforschool.com/shop/goods/goods_view.php?goodsno=14110436&category=004',\n",
       "  'color': ''}]"
      ]
     },
     "metadata": {},
     "output_type": "display_data"
    },
    {
     "data": {
      "text/plain": [
       "[{'name': '★세트20%할인★아트클래스 스튜디오 드 땅뜨 프라이머+마약쿠션',\n",
       "  'image': 'http://www.toocoolforschool.com/shop/data/goods/1546222679607l0.jpg',\n",
       "  'category': '홈 > E-SHOP > BRAND LINE',\n",
       "  'volume': '프라이머: 30ml, 마약쿠션: 본품: 14g, 리필: 14g',\n",
       "  'originalPrice': 53000,\n",
       "  'salePrice': 42400,\n",
       "  'brand': 'toocoolforschool',\n",
       "  'url': 'http://www.toocoolforschool.com/shop/goods/goods_view.php?goodsno=14110440&category=004',\n",
       "  'color': '마약쿠션 1호: 포슬린 (13호~21호)'},\n",
       " {'name': '★세트20%할인★아트클래스 스튜디오 드 땅뜨 프라이머+마약쿠션',\n",
       "  'image': 'http://www.toocoolforschool.com/shop/data/goods/1546222679607l0.jpg',\n",
       "  'category': '홈 > E-SHOP > BRAND LINE',\n",
       "  'volume': '프라이머: 30ml, 마약쿠션: 본품: 14g, 리필: 14g',\n",
       "  'originalPrice': 53000,\n",
       "  'salePrice': 42400,\n",
       "  'brand': 'toocoolforschool',\n",
       "  'url': 'http://www.toocoolforschool.com/shop/goods/goods_view.php?goodsno=14110440&category=004',\n",
       "  'color': '마약쿠션 2호: 아이보리 (21호~23호)'},\n",
       " {'name': '★세트20%할인★아트클래스 스튜디오 드 땅뜨 프라이머+마약쿠션',\n",
       "  'image': 'http://www.toocoolforschool.com/shop/data/goods/1546222679607l0.jpg',\n",
       "  'category': '홈 > E-SHOP > BRAND LINE',\n",
       "  'volume': '프라이머: 30ml, 마약쿠션: 본품: 14g, 리필: 14g',\n",
       "  'originalPrice': 53000,\n",
       "  'salePrice': 42400,\n",
       "  'brand': 'toocoolforschool',\n",
       "  'url': 'http://www.toocoolforschool.com/shop/goods/goods_view.php?goodsno=14110440&category=004',\n",
       "  'color': '마약쿠션 3호: 베이지 (23호)'}]"
      ]
     },
     "metadata": {},
     "output_type": "display_data"
    },
    {
     "data": {
      "text/plain": [
       "[{'name': '★20%할인★아트클래스 프로타주 펜슬',\n",
       "  'image': 'http://www.toocoolforschool.com/shop/data/goods/1542592391622l0.jpg',\n",
       "  'category': '홈 > E-SHOP > BRAND LINE',\n",
       "  'volume': '1,3호 1.1g / 2,4,5호 1.5g',\n",
       "  'originalPrice': 12000,\n",
       "  'salePrice': 9600,\n",
       "  'brand': 'toocoolforschool',\n",
       "  'url': 'http://www.toocoolforschool.com/shop/goods/goods_view.php?goodsno=14110444&category=004',\n",
       "  'color': '1호 샤이닝 린넨 (샴페인 베이지)'},\n",
       " {'name': '★20%할인★아트클래스 프로타주 펜슬',\n",
       "  'image': 'http://www.toocoolforschool.com/shop/data/goods/1542592391622l0.jpg',\n",
       "  'category': '홈 > E-SHOP > BRAND LINE',\n",
       "  'volume': '1,3호 1.1g / 2,4,5호 1.5g',\n",
       "  'originalPrice': 12000,\n",
       "  'salePrice': 9600,\n",
       "  'brand': 'toocoolforschool',\n",
       "  'url': 'http://www.toocoolforschool.com/shop/goods/goods_view.php?goodsno=14110444&category=004',\n",
       "  'color': '2호 로지 듀 (로지 핑크)'},\n",
       " {'name': '★20%할인★아트클래스 프로타주 펜슬',\n",
       "  'image': 'http://www.toocoolforschool.com/shop/data/goods/1542592391622l0.jpg',\n",
       "  'category': '홈 > E-SHOP > BRAND LINE',\n",
       "  'volume': '1,3호 1.1g / 2,4,5호 1.5g',\n",
       "  'originalPrice': 12000,\n",
       "  'salePrice': 9600,\n",
       "  'brand': 'toocoolforschool',\n",
       "  'url': 'http://www.toocoolforschool.com/shop/goods/goods_view.php?goodsno=14110444&category=004',\n",
       "  'color': '3호 타이거 릴리 (오렌지 브라운)'},\n",
       " {'name': '★20%할인★아트클래스 프로타주 펜슬',\n",
       "  'image': 'http://www.toocoolforschool.com/shop/data/goods/1542592391622l0.jpg',\n",
       "  'category': '홈 > E-SHOP > BRAND LINE',\n",
       "  'volume': '1,3호 1.1g / 2,4,5호 1.5g',\n",
       "  'originalPrice': 12000,\n",
       "  'salePrice': 9600,\n",
       "  'brand': 'toocoolforschool',\n",
       "  'url': 'http://www.toocoolforschool.com/shop/goods/goods_view.php?goodsno=14110444&category=004',\n",
       "  'color': '4호 브론즈 문 (마일드 브라운)'},\n",
       " {'name': '★20%할인★아트클래스 프로타주 펜슬',\n",
       "  'image': 'http://www.toocoolforschool.com/shop/data/goods/1542592391622l0.jpg',\n",
       "  'category': '홈 > E-SHOP > BRAND LINE',\n",
       "  'volume': '1,3호 1.1g / 2,4,5호 1.5g',\n",
       "  'originalPrice': 12000,\n",
       "  'salePrice': 9600,\n",
       "  'brand': 'toocoolforschool',\n",
       "  'url': 'http://www.toocoolforschool.com/shop/goods/goods_view.php?goodsno=14110444&category=004',\n",
       "  'color': '5호 터프 브라운 (딥 브라운)'}]"
      ]
     },
     "metadata": {},
     "output_type": "display_data"
    },
    {
     "data": {
      "text/plain": [
       "[{'name': '체크 스키니 젤 라이너',\n",
       "  'image': 'http://www.toocoolforschool.com/shop/data/goods/1542594235769l0.jpg',\n",
       "  'category': '홈 > E-SHOP > BRAND LINE',\n",
       "  'volume': '0.06g',\n",
       "  'originalPrice': 9500,\n",
       "  'salePrice': 9500,\n",
       "  'brand': 'toocoolforschool',\n",
       "  'url': 'http://www.toocoolforschool.com/shop/goods/goods_view.php?goodsno=14110446&category=004',\n",
       "  'color': '1호 다크 블랙'},\n",
       " {'name': '체크 스키니 젤 라이너',\n",
       "  'image': 'http://www.toocoolforschool.com/shop/data/goods/1542594235769l0.jpg',\n",
       "  'category': '홈 > E-SHOP > BRAND LINE',\n",
       "  'volume': '0.06g',\n",
       "  'originalPrice': 9500,\n",
       "  'salePrice': 9500,\n",
       "  'brand': 'toocoolforschool',\n",
       "  'url': 'http://www.toocoolforschool.com/shop/goods/goods_view.php?goodsno=14110446&category=004',\n",
       "  'color': '2호 딥 브라운'},\n",
       " {'name': '체크 스키니 젤 라이너',\n",
       "  'image': 'http://www.toocoolforschool.com/shop/data/goods/1542594235769l0.jpg',\n",
       "  'category': '홈 > E-SHOP > BRAND LINE',\n",
       "  'volume': '0.06g',\n",
       "  'originalPrice': 9500,\n",
       "  'salePrice': 9500,\n",
       "  'brand': 'toocoolforschool',\n",
       "  'url': 'http://www.toocoolforschool.com/shop/goods/goods_view.php?goodsno=14110446&category=004',\n",
       "  'color': '3호 멜로우 브라운'},\n",
       " {'name': '체크 스키니 젤 라이너',\n",
       "  'image': 'http://www.toocoolforschool.com/shop/data/goods/1542594235769l0.jpg',\n",
       "  'category': '홈 > E-SHOP > BRAND LINE',\n",
       "  'volume': '0.06g',\n",
       "  'originalPrice': 9500,\n",
       "  'salePrice': 9500,\n",
       "  'brand': 'toocoolforschool',\n",
       "  'url': 'http://www.toocoolforschool.com/shop/goods/goods_view.php?goodsno=14110446&category=004',\n",
       "  'color': '4호 로지 브라운'}]"
      ]
     },
     "metadata": {},
     "output_type": "display_data"
    },
    {
     "data": {
      "text/plain": [
       "[{'name': '체크 키시 틴티드 스틱',\n",
       "  'image': 'http://www.toocoolforschool.com/shop/data/goods/1542595095866l0.jpg',\n",
       "  'category': '홈 > E-SHOP > BRAND LINE',\n",
       "  'volume': '0.3g',\n",
       "  'originalPrice': 9500,\n",
       "  'salePrice': 9500,\n",
       "  'brand': 'toocoolforschool',\n",
       "  'url': 'http://www.toocoolforschool.com/shop/goods/goods_view.php?goodsno=14110449&category=004',\n",
       "  'color': '1호 러비 레드'},\n",
       " {'name': '체크 키시 틴티드 스틱',\n",
       "  'image': 'http://www.toocoolforschool.com/shop/data/goods/1542595095866l0.jpg',\n",
       "  'category': '홈 > E-SHOP > BRAND LINE',\n",
       "  'volume': '0.3g',\n",
       "  'originalPrice': 9500,\n",
       "  'salePrice': 9500,\n",
       "  'brand': 'toocoolforschool',\n",
       "  'url': 'http://www.toocoolforschool.com/shop/goods/goods_view.php?goodsno=14110449&category=004',\n",
       "  'color': '2호 허거블 로지'},\n",
       " {'name': '체크 키시 틴티드 스틱',\n",
       "  'image': 'http://www.toocoolforschool.com/shop/data/goods/1542595095866l0.jpg',\n",
       "  'category': '홈 > E-SHOP > BRAND LINE',\n",
       "  'volume': '0.3g',\n",
       "  'originalPrice': 9500,\n",
       "  'salePrice': 9500,\n",
       "  'brand': 'toocoolforschool',\n",
       "  'url': 'http://www.toocoolforschool.com/shop/goods/goods_view.php?goodsno=14110449&category=004',\n",
       "  'color': '3호 러버스 코랄'},\n",
       " {'name': '체크 키시 틴티드 스틱',\n",
       "  'image': 'http://www.toocoolforschool.com/shop/data/goods/1542595095866l0.jpg',\n",
       "  'category': '홈 > E-SHOP > BRAND LINE',\n",
       "  'volume': '0.3g',\n",
       "  'originalPrice': 9500,\n",
       "  'salePrice': 9500,\n",
       "  'brand': 'toocoolforschool',\n",
       "  'url': 'http://www.toocoolforschool.com/shop/goods/goods_view.php?goodsno=14110449&category=004',\n",
       "  'color': '4호 프렌치 베리'},\n",
       " {'name': '체크 키시 틴티드 스틱',\n",
       "  'image': 'http://www.toocoolforschool.com/shop/data/goods/1542595095866l0.jpg',\n",
       "  'category': '홈 > E-SHOP > BRAND LINE',\n",
       "  'volume': '0.3g',\n",
       "  'originalPrice': 9500,\n",
       "  'salePrice': 9500,\n",
       "  'brand': 'toocoolforschool',\n",
       "  'url': 'http://www.toocoolforschool.com/shop/goods/goods_view.php?goodsno=14110449&category=004',\n",
       "  'color': '5호 블레싱 피치'}]"
      ]
     },
     "metadata": {},
     "output_type": "display_data"
    },
    {
     "data": {
      "text/plain": [
       "[{'name': '체크 젤리 아이즈',\n",
       "  'image': 'http://www.toocoolforschool.com/shop/data/goods/1542594009437l0.jpg',\n",
       "  'category': '홈 > E-SHOP > BRAND LINE',\n",
       "  'volume': '매트 1.9g / 쉬머 2.1g / 글리터 2.3g',\n",
       "  'originalPrice': 7000,\n",
       "  'salePrice': 7000,\n",
       "  'brand': 'toocoolforschool',\n",
       "  'url': 'http://www.toocoolforschool.com/shop/goods/goods_view.php?goodsno=14110450&category=004',\n",
       "  'color': 'G01 트윙클 오로라'},\n",
       " {'name': '체크 젤리 아이즈',\n",
       "  'image': 'http://www.toocoolforschool.com/shop/data/goods/1542594009437l0.jpg',\n",
       "  'category': '홈 > E-SHOP > BRAND LINE',\n",
       "  'volume': '매트 1.9g / 쉬머 2.1g / 글리터 2.3g',\n",
       "  'originalPrice': 7000,\n",
       "  'salePrice': 7000,\n",
       "  'brand': 'toocoolforschool',\n",
       "  'url': 'http://www.toocoolforschool.com/shop/goods/goods_view.php?goodsno=14110450&category=004',\n",
       "  'color': 'M01 피치젤로'},\n",
       " {'name': '체크 젤리 아이즈',\n",
       "  'image': 'http://www.toocoolforschool.com/shop/data/goods/1542594009437l0.jpg',\n",
       "  'category': '홈 > E-SHOP > BRAND LINE',\n",
       "  'volume': '매트 1.9g / 쉬머 2.1g / 글리터 2.3g',\n",
       "  'originalPrice': 7000,\n",
       "  'salePrice': 7000,\n",
       "  'brand': 'toocoolforschool',\n",
       "  'url': 'http://www.toocoolforschool.com/shop/goods/goods_view.php?goodsno=14110450&category=004',\n",
       "  'color': 'M02 블러쉬 핑크'},\n",
       " {'name': '체크 젤리 아이즈',\n",
       "  'image': 'http://www.toocoolforschool.com/shop/data/goods/1542594009437l0.jpg',\n",
       "  'category': '홈 > E-SHOP > BRAND LINE',\n",
       "  'volume': '매트 1.9g / 쉬머 2.1g / 글리터 2.3g',\n",
       "  'originalPrice': 7000,\n",
       "  'salePrice': 7000,\n",
       "  'brand': 'toocoolforschool',\n",
       "  'url': 'http://www.toocoolforschool.com/shop/goods/goods_view.php?goodsno=14110450&category=004',\n",
       "  'color': 'M03 더스티 로즈'},\n",
       " {'name': '체크 젤리 아이즈',\n",
       "  'image': 'http://www.toocoolforschool.com/shop/data/goods/1542594009437l0.jpg',\n",
       "  'category': '홈 > E-SHOP > BRAND LINE',\n",
       "  'volume': '매트 1.9g / 쉬머 2.1g / 글리터 2.3g',\n",
       "  'originalPrice': 7000,\n",
       "  'salePrice': 7000,\n",
       "  'brand': 'toocoolforschool',\n",
       "  'url': 'http://www.toocoolforschool.com/shop/goods/goods_view.php?goodsno=14110450&category=004',\n",
       "  'color': 'M04 로열 밀크티'},\n",
       " {'name': '체크 젤리 아이즈',\n",
       "  'image': 'http://www.toocoolforschool.com/shop/data/goods/1542594009437l0.jpg',\n",
       "  'category': '홈 > E-SHOP > BRAND LINE',\n",
       "  'volume': '매트 1.9g / 쉬머 2.1g / 글리터 2.3g',\n",
       "  'originalPrice': 7000,\n",
       "  'salePrice': 7000,\n",
       "  'brand': 'toocoolforschool',\n",
       "  'url': 'http://www.toocoolforschool.com/shop/goods/goods_view.php?goodsno=14110450&category=004',\n",
       "  'color': 'M05 허니 아몬드'},\n",
       " {'name': '체크 젤리 아이즈',\n",
       "  'image': 'http://www.toocoolforschool.com/shop/data/goods/1542594009437l0.jpg',\n",
       "  'category': '홈 > E-SHOP > BRAND LINE',\n",
       "  'volume': '매트 1.9g / 쉬머 2.1g / 글리터 2.3g',\n",
       "  'originalPrice': 7000,\n",
       "  'salePrice': 7000,\n",
       "  'brand': 'toocoolforschool',\n",
       "  'url': 'http://www.toocoolforschool.com/shop/goods/goods_view.php?goodsno=14110450&category=004',\n",
       "  'color': 'S01 버터크림'},\n",
       " {'name': '체크 젤리 아이즈',\n",
       "  'image': 'http://www.toocoolforschool.com/shop/data/goods/1542594009437l0.jpg',\n",
       "  'category': '홈 > E-SHOP > BRAND LINE',\n",
       "  'volume': '매트 1.9g / 쉬머 2.1g / 글리터 2.3g',\n",
       "  'originalPrice': 7000,\n",
       "  'salePrice': 7000,\n",
       "  'brand': 'toocoolforschool',\n",
       "  'url': 'http://www.toocoolforschool.com/shop/goods/goods_view.php?goodsno=14110450&category=004',\n",
       "  'color': 'S02 실크로브'},\n",
       " {'name': '체크 젤리 아이즈',\n",
       "  'image': 'http://www.toocoolforschool.com/shop/data/goods/1542594009437l0.jpg',\n",
       "  'category': '홈 > E-SHOP > BRAND LINE',\n",
       "  'volume': '매트 1.9g / 쉬머 2.1g / 글리터 2.3g',\n",
       "  'originalPrice': 7000,\n",
       "  'salePrice': 7000,\n",
       "  'brand': 'toocoolforschool',\n",
       "  'url': 'http://www.toocoolforschool.com/shop/goods/goods_view.php?goodsno=14110450&category=004',\n",
       "  'color': 'S03 선셋골드'},\n",
       " {'name': '체크 젤리 아이즈',\n",
       "  'image': 'http://www.toocoolforschool.com/shop/data/goods/1542594009437l0.jpg',\n",
       "  'category': '홈 > E-SHOP > BRAND LINE',\n",
       "  'volume': '매트 1.9g / 쉬머 2.1g / 글리터 2.3g',\n",
       "  'originalPrice': 7000,\n",
       "  'salePrice': 7000,\n",
       "  'brand': 'toocoolforschool',\n",
       "  'url': 'http://www.toocoolforschool.com/shop/goods/goods_view.php?goodsno=14110450&category=004',\n",
       "  'color': 'S04 피치 블론드'},\n",
       " {'name': '체크 젤리 아이즈',\n",
       "  'image': 'http://www.toocoolforschool.com/shop/data/goods/1542594009437l0.jpg',\n",
       "  'category': '홈 > E-SHOP > BRAND LINE',\n",
       "  'volume': '매트 1.9g / 쉬머 2.1g / 글리터 2.3g',\n",
       "  'originalPrice': 7000,\n",
       "  'salePrice': 7000,\n",
       "  'brand': 'toocoolforschool',\n",
       "  'url': 'http://www.toocoolforschool.com/shop/goods/goods_view.php?goodsno=14110450&category=004',\n",
       "  'color': 'S05 퍼지 브라운'},\n",
       " {'name': '체크 젤리 아이즈',\n",
       "  'image': 'http://www.toocoolforschool.com/shop/data/goods/1542594009437l0.jpg',\n",
       "  'category': '홈 > E-SHOP > BRAND LINE',\n",
       "  'volume': '매트 1.9g / 쉬머 2.1g / 글리터 2.3g',\n",
       "  'originalPrice': 7000,\n",
       "  'salePrice': 7000,\n",
       "  'brand': 'toocoolforschool',\n",
       "  'url': 'http://www.toocoolforschool.com/shop/goods/goods_view.php?goodsno=14110450&category=004',\n",
       "  'color': 'S06 딥 코코아'}]"
      ]
     },
     "metadata": {},
     "output_type": "display_data"
    },
    {
     "data": {
      "text/plain": [
       "[{'name': '★픽서 증정★마약쿠션(본품+리필)+국민쉐딩 세트',\n",
       "  'image': 'http://www.toocoolforschool.com/shop/data/goods/1533103576142l0.jpg',\n",
       "  'category': '홈 > E-SHOP > BRAND LINE',\n",
       "  'volume': '각 제품 상세 페이지',\n",
       "  'originalPrice': 63000,\n",
       "  'salePrice': 51000,\n",
       "  'brand': 'toocoolforschool',\n",
       "  'url': 'http://www.toocoolforschool.com/shop/goods/goods_view.php?goodsno=14110453&category=004',\n",
       "  'color': '1호 포슬린 (13호~21호)'},\n",
       " {'name': '★픽서 증정★마약쿠션(본품+리필)+국민쉐딩 세트',\n",
       "  'image': 'http://www.toocoolforschool.com/shop/data/goods/1533103576142l0.jpg',\n",
       "  'category': '홈 > E-SHOP > BRAND LINE',\n",
       "  'volume': '각 제품 상세 페이지',\n",
       "  'originalPrice': 63000,\n",
       "  'salePrice': 51000,\n",
       "  'brand': 'toocoolforschool',\n",
       "  'url': 'http://www.toocoolforschool.com/shop/goods/goods_view.php?goodsno=14110453&category=004',\n",
       "  'color': '2호 아이보리 (21호~23호)'},\n",
       " {'name': '★픽서 증정★마약쿠션(본품+리필)+국민쉐딩 세트',\n",
       "  'image': 'http://www.toocoolforschool.com/shop/data/goods/1533103576142l0.jpg',\n",
       "  'category': '홈 > E-SHOP > BRAND LINE',\n",
       "  'volume': '각 제품 상세 페이지',\n",
       "  'originalPrice': 63000,\n",
       "  'salePrice': 51000,\n",
       "  'brand': 'toocoolforschool',\n",
       "  'url': 'http://www.toocoolforschool.com/shop/goods/goods_view.php?goodsno=14110453&category=004',\n",
       "  'color': '3호 베이지 (23호)'}]"
      ]
     },
     "metadata": {},
     "output_type": "display_data"
    },
    {
     "data": {
      "text/plain": [
       "[{'name': '★세트할인★젤리아이즈+젤리블러셔',\n",
       "  'image': 'http://www.toocoolforschool.com/shop/data/goods/1527751900205l0.jpg',\n",
       "  'category': '홈 > E-SHOP > BRAND LINE',\n",
       "  'volume': '[젤리아이즈] 매트 1.9g / 쉬머 2.1g / 글리터 2.3g , [젤리블러셔] 8g (38.2mm X 35mm X 9mm)',\n",
       "  'originalPrice': 19000,\n",
       "  'salePrice': 15000,\n",
       "  'brand': 'toocoolforschool',\n",
       "  'url': 'http://www.toocoolforschool.com/shop/goods/goods_view.php?goodsno=14110454&category=004',\n",
       "  'color': 'G01 트윙클 오로라'},\n",
       " {'name': '★세트할인★젤리아이즈+젤리블러셔',\n",
       "  'image': 'http://www.toocoolforschool.com/shop/data/goods/1527751900205l0.jpg',\n",
       "  'category': '홈 > E-SHOP > BRAND LINE',\n",
       "  'volume': '[젤리아이즈] 매트 1.9g / 쉬머 2.1g / 글리터 2.3g , [젤리블러셔] 8g (38.2mm X 35mm X 9mm)',\n",
       "  'originalPrice': 19000,\n",
       "  'salePrice': 15000,\n",
       "  'brand': 'toocoolforschool',\n",
       "  'url': 'http://www.toocoolforschool.com/shop/goods/goods_view.php?goodsno=14110454&category=004',\n",
       "  'color': 'M01 피치젤로'},\n",
       " {'name': '★세트할인★젤리아이즈+젤리블러셔',\n",
       "  'image': 'http://www.toocoolforschool.com/shop/data/goods/1527751900205l0.jpg',\n",
       "  'category': '홈 > E-SHOP > BRAND LINE',\n",
       "  'volume': '[젤리아이즈] 매트 1.9g / 쉬머 2.1g / 글리터 2.3g , [젤리블러셔] 8g (38.2mm X 35mm X 9mm)',\n",
       "  'originalPrice': 19000,\n",
       "  'salePrice': 15000,\n",
       "  'brand': 'toocoolforschool',\n",
       "  'url': 'http://www.toocoolforschool.com/shop/goods/goods_view.php?goodsno=14110454&category=004',\n",
       "  'color': 'M03 더스티 로즈'},\n",
       " {'name': '★세트할인★젤리아이즈+젤리블러셔',\n",
       "  'image': 'http://www.toocoolforschool.com/shop/data/goods/1527751900205l0.jpg',\n",
       "  'category': '홈 > E-SHOP > BRAND LINE',\n",
       "  'volume': '[젤리아이즈] 매트 1.9g / 쉬머 2.1g / 글리터 2.3g , [젤리블러셔] 8g (38.2mm X 35mm X 9mm)',\n",
       "  'originalPrice': 19000,\n",
       "  'salePrice': 15000,\n",
       "  'brand': 'toocoolforschool',\n",
       "  'url': 'http://www.toocoolforschool.com/shop/goods/goods_view.php?goodsno=14110454&category=004',\n",
       "  'color': 'M04 로열 밀크티'},\n",
       " {'name': '★세트할인★젤리아이즈+젤리블러셔',\n",
       "  'image': 'http://www.toocoolforschool.com/shop/data/goods/1527751900205l0.jpg',\n",
       "  'category': '홈 > E-SHOP > BRAND LINE',\n",
       "  'volume': '[젤리아이즈] 매트 1.9g / 쉬머 2.1g / 글리터 2.3g , [젤리블러셔] 8g (38.2mm X 35mm X 9mm)',\n",
       "  'originalPrice': 19000,\n",
       "  'salePrice': 15000,\n",
       "  'brand': 'toocoolforschool',\n",
       "  'url': 'http://www.toocoolforschool.com/shop/goods/goods_view.php?goodsno=14110454&category=004',\n",
       "  'color': 'S01 버터크림'},\n",
       " {'name': '★세트할인★젤리아이즈+젤리블러셔',\n",
       "  'image': 'http://www.toocoolforschool.com/shop/data/goods/1527751900205l0.jpg',\n",
       "  'category': '홈 > E-SHOP > BRAND LINE',\n",
       "  'volume': '[젤리아이즈] 매트 1.9g / 쉬머 2.1g / 글리터 2.3g , [젤리블러셔] 8g (38.2mm X 35mm X 9mm)',\n",
       "  'originalPrice': 19000,\n",
       "  'salePrice': 15000,\n",
       "  'brand': 'toocoolforschool',\n",
       "  'url': 'http://www.toocoolforschool.com/shop/goods/goods_view.php?goodsno=14110454&category=004',\n",
       "  'color': 'S03 선셋골드'},\n",
       " {'name': '★세트할인★젤리아이즈+젤리블러셔',\n",
       "  'image': 'http://www.toocoolforschool.com/shop/data/goods/1527751900205l0.jpg',\n",
       "  'category': '홈 > E-SHOP > BRAND LINE',\n",
       "  'volume': '[젤리아이즈] 매트 1.9g / 쉬머 2.1g / 글리터 2.3g , [젤리블러셔] 8g (38.2mm X 35mm X 9mm)',\n",
       "  'originalPrice': 19000,\n",
       "  'salePrice': 15000,\n",
       "  'brand': 'toocoolforschool',\n",
       "  'url': 'http://www.toocoolforschool.com/shop/goods/goods_view.php?goodsno=14110454&category=004',\n",
       "  'color': 'S04 피치 블론드'},\n",
       " {'name': '★세트할인★젤리아이즈+젤리블러셔',\n",
       "  'image': 'http://www.toocoolforschool.com/shop/data/goods/1527751900205l0.jpg',\n",
       "  'category': '홈 > E-SHOP > BRAND LINE',\n",
       "  'volume': '[젤리아이즈] 매트 1.9g / 쉬머 2.1g / 글리터 2.3g , [젤리블러셔] 8g (38.2mm X 35mm X 9mm)',\n",
       "  'originalPrice': 19000,\n",
       "  'salePrice': 15000,\n",
       "  'brand': 'toocoolforschool',\n",
       "  'url': 'http://www.toocoolforschool.com/shop/goods/goods_view.php?goodsno=14110454&category=004',\n",
       "  'color': 'S05 퍼지 브라운'}]"
      ]
     },
     "metadata": {},
     "output_type": "display_data"
    },
    {
     "data": {
      "text/plain": [
       "[{'name': '글램락 더블 프루프 브로우',\n",
       "  'image': 'http://www.toocoolforschool.com/shop/data/goods/1542594948448l0.jpg',\n",
       "  'category': '홈 > E-SHOP > BRAND LINE',\n",
       "  'volume': '잉크:3.5g / 카라:3.5g',\n",
       "  'originalPrice': 16000,\n",
       "  'salePrice': 16000,\n",
       "  'brand': 'toocoolforschool',\n",
       "  'url': 'http://www.toocoolforschool.com/shop/goods/goods_view.php?goodsno=14110456&category=004',\n",
       "  'color': '1호 내추럴 브라운'},\n",
       " {'name': '글램락 더블 프루프 브로우',\n",
       "  'image': 'http://www.toocoolforschool.com/shop/data/goods/1542594948448l0.jpg',\n",
       "  'category': '홈 > E-SHOP > BRAND LINE',\n",
       "  'volume': '잉크:3.5g / 카라:3.5g',\n",
       "  'originalPrice': 16000,\n",
       "  'salePrice': 16000,\n",
       "  'brand': 'toocoolforschool',\n",
       "  'url': 'http://www.toocoolforschool.com/shop/goods/goods_view.php?goodsno=14110456&category=004',\n",
       "  'color': '2호 애쉬 브라운'},\n",
       " {'name': '글램락 더블 프루프 브로우',\n",
       "  'image': 'http://www.toocoolforschool.com/shop/data/goods/1542594948448l0.jpg',\n",
       "  'category': '홈 > E-SHOP > BRAND LINE',\n",
       "  'volume': '잉크:3.5g / 카라:3.5g',\n",
       "  'originalPrice': 16000,\n",
       "  'salePrice': 16000,\n",
       "  'brand': 'toocoolforschool',\n",
       "  'url': 'http://www.toocoolforschool.com/shop/goods/goods_view.php?goodsno=14110456&category=004',\n",
       "  'color': '3호 라이트 브라운'}]"
      ]
     },
     "metadata": {},
     "output_type": "display_data"
    },
    {
     "data": {
      "text/plain": [
       "[{'name': '글램락 슬림 시크  브로우',\n",
       "  'image': 'http://www.toocoolforschool.com/shop/data/goods/1528794971322l0.jpg',\n",
       "  'category': '홈 > E-SHOP > BRAND LINE',\n",
       "  'volume': '0.05g',\n",
       "  'originalPrice': 9800,\n",
       "  'salePrice': 9800,\n",
       "  'brand': 'toocoolforschool',\n",
       "  'url': 'http://www.toocoolforschool.com/shop/goods/goods_view.php?goodsno=14110457&category=004',\n",
       "  'color': '1호 내추럴 브라운'},\n",
       " {'name': '글램락 슬림 시크  브로우',\n",
       "  'image': 'http://www.toocoolforschool.com/shop/data/goods/1528794971322l0.jpg',\n",
       "  'category': '홈 > E-SHOP > BRAND LINE',\n",
       "  'volume': '0.05g',\n",
       "  'originalPrice': 9800,\n",
       "  'salePrice': 9800,\n",
       "  'brand': 'toocoolforschool',\n",
       "  'url': 'http://www.toocoolforschool.com/shop/goods/goods_view.php?goodsno=14110457&category=004',\n",
       "  'color': '2호 라이트 브라운'}]"
      ]
     },
     "metadata": {},
     "output_type": "display_data"
    },
    {
     "data": {
      "text/plain": [
       "[{'name': '★윤곽 필수템★ 쉐딩+픽서+멀티블렌더브러쉬',\n",
       "  'image': 'http://www.toocoolforschool.com/shop/data/goods/1533012843468l0.jpg',\n",
       "  'category': '홈 > E-SHOP > BRAND LINE',\n",
       "  'volume': '각 제품 상세페이지 확인',\n",
       "  'originalPrice': 44000,\n",
       "  'salePrice': 33000,\n",
       "  'brand': 'toocoolforschool',\n",
       "  'url': 'http://www.toocoolforschool.com/shop/goods/goods_view.php?goodsno=14110458&category=004',\n",
       "  'color': ''}]"
      ]
     },
     "metadata": {},
     "output_type": "display_data"
    },
    {
     "data": {
      "text/plain": [
       "[{'name': '아트클래스 듀얼 아이브로우 브러쉬',\n",
       "  'image': 'http://www.toocoolforschool.com/shop/data/goods/1535679957231l0.jpg',\n",
       "  'category': '홈 > E-SHOP > BRAND LINE',\n",
       "  'volume': '0.8 cm X 16 cm',\n",
       "  'originalPrice': 8000,\n",
       "  'salePrice': 8000,\n",
       "  'brand': 'toocoolforschool',\n",
       "  'url': 'http://www.toocoolforschool.com/shop/goods/goods_view.php?goodsno=14110461&category=004',\n",
       "  'color': ''}]"
      ]
     },
     "metadata": {},
     "output_type": "display_data"
    },
    {
     "data": {
      "text/plain": [
       "[{'name': '★뷰티툴즈증정★미네랄 핑크 솔트 딥 클렌징 오일',\n",
       "  'image': 'http://www.toocoolforschool.com/shop/data/goods/1545012093439l0.jpg',\n",
       "  'category': '홈 > E-SHOP > BRAND LINE',\n",
       "  'volume': '150ml',\n",
       "  'originalPrice': 23000,\n",
       "  'salePrice': 23000,\n",
       "  'brand': 'toocoolforschool',\n",
       "  'url': 'http://www.toocoolforschool.com/shop/goods/goods_view.php?goodsno=14110469&category=004',\n",
       "  'color': ''}]"
      ]
     },
     "metadata": {},
     "output_type": "display_data"
    },
    {
     "data": {
      "text/plain": [
       "[{'name': '★뷰티툴즈증정★미네랄 핑크 솔트 딥 클렌징 워터',\n",
       "  'image': 'http://www.toocoolforschool.com/shop/data/goods/1545012118680l0.jpg',\n",
       "  'category': '홈 > E-SHOP > BRAND LINE',\n",
       "  'volume': '500ml',\n",
       "  'originalPrice': 15000,\n",
       "  'salePrice': 15000,\n",
       "  'brand': 'toocoolforschool',\n",
       "  'url': 'http://www.toocoolforschool.com/shop/goods/goods_view.php?goodsno=14110470&category=004',\n",
       "  'color': ''}]"
      ]
     },
     "metadata": {},
     "output_type": "display_data"
    },
    {
     "data": {
      "text/plain": [
       "[{'name': '★미니브러쉬내장★아트클래스 바이로댕 쉐딩 마스터',\n",
       "  'image': 'http://www.toocoolforschool.com/shop/data/goods/1546220730145l0.jpg',\n",
       "  'category': '홈 > E-SHOP > BRAND LINE',\n",
       "  'volume': '9.5g',\n",
       "  'originalPrice': 16000,\n",
       "  'salePrice': 12800,\n",
       "  'brand': 'toocoolforschool',\n",
       "  'url': 'http://www.toocoolforschool.com/shop/goods/goods_view.php?goodsno=14110474&category=004',\n",
       "  'color': ''}]"
      ]
     },
     "metadata": {},
     "output_type": "display_data"
    },
    {
     "data": {
      "text/plain": [
       "[{'name': '아트클래스 바이로댕 하이라이터 마스터',\n",
       "  'image': 'http://www.toocoolforschool.com/shop/data/goods/1546405868223l0.jpg',\n",
       "  'category': '홈 > E-SHOP > BRAND LINE',\n",
       "  'volume': '11g',\n",
       "  'originalPrice': 17000,\n",
       "  'salePrice': 13600,\n",
       "  'brand': 'toocoolforschool',\n",
       "  'url': 'http://www.toocoolforschool.com/shop/goods/goods_view.php?goodsno=14110475&category=004',\n",
       "  'color': ''}]"
      ]
     },
     "metadata": {},
     "output_type": "display_data"
    },
    {
     "data": {
      "text/plain": [
       "[{'name': '★新작품★아트클래스 누아즈 립',\n",
       "  'image': 'http://www.toocoolforschool.com/shop/data/goods/1547021950186l0.jpg',\n",
       "  'category': '홈 > E-SHOP > BRAND LINE',\n",
       "  'volume': '4.8g',\n",
       "  'originalPrice': 12000,\n",
       "  'salePrice': 12000,\n",
       "  'brand': 'toocoolforschool',\n",
       "  'url': 'http://www.toocoolforschool.com/shop/goods/goods_view.php?goodsno=14110478&category=004',\n",
       "  'color': '1호 누디 슬립'},\n",
       " {'name': '★新작품★아트클래스 누아즈 립',\n",
       "  'image': 'http://www.toocoolforschool.com/shop/data/goods/1547021950186l0.jpg',\n",
       "  'category': '홈 > E-SHOP > BRAND LINE',\n",
       "  'volume': '4.8g',\n",
       "  'originalPrice': 12000,\n",
       "  'salePrice': 12000,\n",
       "  'brand': 'toocoolforschool',\n",
       "  'url': 'http://www.toocoolforschool.com/shop/goods/goods_view.php?goodsno=14110478&category=004',\n",
       "  'color': '2호 헤이지 코랄'},\n",
       " {'name': '★新작품★아트클래스 누아즈 립',\n",
       "  'image': 'http://www.toocoolforschool.com/shop/data/goods/1547021950186l0.jpg',\n",
       "  'category': '홈 > E-SHOP > BRAND LINE',\n",
       "  'volume': '4.8g',\n",
       "  'originalPrice': 12000,\n",
       "  'salePrice': 12000,\n",
       "  'brand': 'toocoolforschool',\n",
       "  'url': 'http://www.toocoolforschool.com/shop/goods/goods_view.php?goodsno=14110478&category=004',\n",
       "  'color': '3호 플리시 로지'},\n",
       " {'name': '★新작품★아트클래스 누아즈 립',\n",
       "  'image': 'http://www.toocoolforschool.com/shop/data/goods/1547021950186l0.jpg',\n",
       "  'category': '홈 > E-SHOP > BRAND LINE',\n",
       "  'volume': '4.8g',\n",
       "  'originalPrice': 12000,\n",
       "  'salePrice': 12000,\n",
       "  'brand': 'toocoolforschool',\n",
       "  'url': 'http://www.toocoolforschool.com/shop/goods/goods_view.php?goodsno=14110478&category=004',\n",
       "  'color': '4호 스너그 레드'},\n",
       " {'name': '★新작품★아트클래스 누아즈 립',\n",
       "  'image': 'http://www.toocoolforschool.com/shop/data/goods/1547021950186l0.jpg',\n",
       "  'category': '홈 > E-SHOP > BRAND LINE',\n",
       "  'volume': '4.8g',\n",
       "  'originalPrice': 12000,\n",
       "  'salePrice': 12000,\n",
       "  'brand': 'toocoolforschool',\n",
       "  'url': 'http://www.toocoolforschool.com/shop/goods/goods_view.php?goodsno=14110478&category=004',\n",
       "  'color': '5호 우디 벨벳'},\n",
       " {'name': '★新작품★아트클래스 누아즈 립',\n",
       "  'image': 'http://www.toocoolforschool.com/shop/data/goods/1547021950186l0.jpg',\n",
       "  'category': '홈 > E-SHOP > BRAND LINE',\n",
       "  'volume': '4.8g',\n",
       "  'originalPrice': 12000,\n",
       "  'salePrice': 12000,\n",
       "  'brand': 'toocoolforschool',\n",
       "  'url': 'http://www.toocoolforschool.com/shop/goods/goods_view.php?goodsno=14110478&category=004',\n",
       "  'color': '6호 로즈 뮬리'},\n",
       " {'name': '★新작품★아트클래스 누아즈 립',\n",
       "  'image': 'http://www.toocoolforschool.com/shop/data/goods/1547021950186l0.jpg',\n",
       "  'category': '홈 > E-SHOP > BRAND LINE',\n",
       "  'volume': '4.8g',\n",
       "  'originalPrice': 12000,\n",
       "  'salePrice': 12000,\n",
       "  'brand': 'toocoolforschool',\n",
       "  'url': 'http://www.toocoolforschool.com/shop/goods/goods_view.php?goodsno=14110478&category=004',\n",
       "  'color': '7호 브라운 머스크'},\n",
       " {'name': '★新작품★아트클래스 누아즈 립',\n",
       "  'image': 'http://www.toocoolforschool.com/shop/data/goods/1547021950186l0.jpg',\n",
       "  'category': '홈 > E-SHOP > BRAND LINE',\n",
       "  'volume': '4.8g',\n",
       "  'originalPrice': 12000,\n",
       "  'salePrice': 12000,\n",
       "  'brand': 'toocoolforschool',\n",
       "  'url': 'http://www.toocoolforschool.com/shop/goods/goods_view.php?goodsno=14110478&category=004',\n",
       "  'color': '8호 레드 램블러'}]"
      ]
     },
     "metadata": {},
     "output_type": "display_data"
    },
    {
     "data": {
      "text/plain": [
       "[{'name': '★新작품★ 아트클래스 누아즈 치크 앤 아이',\n",
       "  'image': 'http://www.toocoolforschool.com/shop/data/goods/1537490711756l0.jpg',\n",
       "  'category': '홈 > E-SHOP > BRAND LINE',\n",
       "  'volume': '3g',\n",
       "  'originalPrice': 13000,\n",
       "  'salePrice': 13000,\n",
       "  'brand': 'toocoolforschool',\n",
       "  'url': 'http://www.toocoolforschool.com/shop/goods/goods_view.php?goodsno=14110479&category=004',\n",
       "  'color': '1호 누디 캐시미어'},\n",
       " {'name': '★新작품★ 아트클래스 누아즈 치크 앤 아이',\n",
       "  'image': 'http://www.toocoolforschool.com/shop/data/goods/1537490711756l0.jpg',\n",
       "  'category': '홈 > E-SHOP > BRAND LINE',\n",
       "  'volume': '3g',\n",
       "  'originalPrice': 13000,\n",
       "  'salePrice': 13000,\n",
       "  'brand': 'toocoolforschool',\n",
       "  'url': 'http://www.toocoolforschool.com/shop/goods/goods_view.php?goodsno=14110479&category=004',\n",
       "  'color': '2호 코트니 피치'},\n",
       " {'name': '★新작품★ 아트클래스 누아즈 치크 앤 아이',\n",
       "  'image': 'http://www.toocoolforschool.com/shop/data/goods/1537490711756l0.jpg',\n",
       "  'category': '홈 > E-SHOP > BRAND LINE',\n",
       "  'volume': '3g',\n",
       "  'originalPrice': 13000,\n",
       "  'salePrice': 13000,\n",
       "  'brand': 'toocoolforschool',\n",
       "  'url': 'http://www.toocoolforschool.com/shop/goods/goods_view.php?goodsno=14110479&category=004',\n",
       "  'color': '3호 로지 스웨이드'},\n",
       " {'name': '★新작품★ 아트클래스 누아즈 치크 앤 아이',\n",
       "  'image': 'http://www.toocoolforschool.com/shop/data/goods/1537490711756l0.jpg',\n",
       "  'category': '홈 > E-SHOP > BRAND LINE',\n",
       "  'volume': '3g',\n",
       "  'originalPrice': 13000,\n",
       "  'salePrice': 13000,\n",
       "  'brand': 'toocoolforschool',\n",
       "  'url': 'http://www.toocoolforschool.com/shop/goods/goods_view.php?goodsno=14110479&category=004',\n",
       "  'color': '4호 멜로우 레드'},\n",
       " {'name': '★新작품★ 아트클래스 누아즈 치크 앤 아이',\n",
       "  'image': 'http://www.toocoolforschool.com/shop/data/goods/1537490711756l0.jpg',\n",
       "  'category': '홈 > E-SHOP > BRAND LINE',\n",
       "  'volume': '3g',\n",
       "  'originalPrice': 13000,\n",
       "  'salePrice': 13000,\n",
       "  'brand': 'toocoolforschool',\n",
       "  'url': 'http://www.toocoolforschool.com/shop/goods/goods_view.php?goodsno=14110479&category=004',\n",
       "  'color': '5호 브라운 워머'}]"
      ]
     },
     "metadata": {},
     "output_type": "display_data"
    },
    {
     "data": {
      "text/plain": [
       "[{'name': '★겟잇뷰티 1위★퍼펙트데이 메이크업 대용량 픽서',\n",
       "  'image': 'http://www.toocoolforschool.com/shop/data/goods/1539670582734l0.jpg',\n",
       "  'category': '홈 > E-SHOP > BRAND LINE',\n",
       "  'volume': '100ml',\n",
       "  'originalPrice': 18000,\n",
       "  'salePrice': 18000,\n",
       "  'brand': 'toocoolforschool',\n",
       "  'url': 'http://www.toocoolforschool.com/shop/goods/goods_view.php?goodsno=14110480&category=004',\n",
       "  'color': ''}]"
      ]
     },
     "metadata": {},
     "output_type": "display_data"
    },
    {
     "data": {
      "text/plain": [
       "[{'name': '★으깬장미★글램락 미스티 로즈',\n",
       "  'image': 'http://www.toocoolforschool.com/shop/data/goods/1539670172510l0.jpg',\n",
       "  'category': '홈 > E-SHOP > BRAND LINE',\n",
       "  'volume': '4.2g',\n",
       "  'originalPrice': 13000,\n",
       "  'salePrice': 13000,\n",
       "  'brand': 'toocoolforschool',\n",
       "  'url': 'http://www.toocoolforschool.com/shop/goods/goods_view.php?goodsno=14110482&category=004',\n",
       "  'color': '1호 베어(페일로즈)'},\n",
       " {'name': '★으깬장미★글램락 미스티 로즈',\n",
       "  'image': 'http://www.toocoolforschool.com/shop/data/goods/1539670172510l0.jpg',\n",
       "  'category': '홈 > E-SHOP > BRAND LINE',\n",
       "  'volume': '4.2g',\n",
       "  'originalPrice': 13000,\n",
       "  'salePrice': 13000,\n",
       "  'brand': 'toocoolforschool',\n",
       "  'url': 'http://www.toocoolforschool.com/shop/goods/goods_view.php?goodsno=14110482&category=004',\n",
       "  'color': '2호 젠티(모브로즈)'},\n",
       " {'name': '★으깬장미★글램락 미스티 로즈',\n",
       "  'image': 'http://www.toocoolforschool.com/shop/data/goods/1539670172510l0.jpg',\n",
       "  'category': '홈 > E-SHOP > BRAND LINE',\n",
       "  'volume': '4.2g',\n",
       "  'originalPrice': 13000,\n",
       "  'salePrice': 13000,\n",
       "  'brand': 'toocoolforschool',\n",
       "  'url': 'http://www.toocoolforschool.com/shop/goods/goods_view.php?goodsno=14110482&category=004',\n",
       "  'color': '3호 마일디(코랄로즈)'},\n",
       " {'name': '★으깬장미★글램락 미스티 로즈',\n",
       "  'image': 'http://www.toocoolforschool.com/shop/data/goods/1539670172510l0.jpg',\n",
       "  'category': '홈 > E-SHOP > BRAND LINE',\n",
       "  'volume': '4.2g',\n",
       "  'originalPrice': 13000,\n",
       "  'salePrice': 13000,\n",
       "  'brand': 'toocoolforschool',\n",
       "  'url': 'http://www.toocoolforschool.com/shop/goods/goods_view.php?goodsno=14110482&category=004',\n",
       "  'color': '4호 웜미쉬(캐시미어 로즈)'},\n",
       " {'name': '★으깬장미★글램락 미스티 로즈',\n",
       "  'image': 'http://www.toocoolforschool.com/shop/data/goods/1539670172510l0.jpg',\n",
       "  'category': '홈 > E-SHOP > BRAND LINE',\n",
       "  'volume': '4.2g',\n",
       "  'originalPrice': 13000,\n",
       "  'salePrice': 13000,\n",
       "  'brand': 'toocoolforschool',\n",
       "  'url': 'http://www.toocoolforschool.com/shop/goods/goods_view.php?goodsno=14110482&category=004',\n",
       "  'color': '5호 프로스티(마르살라 로즈)'}]"
      ]
     },
     "metadata": {},
     "output_type": "display_data"
    },
    {
     "data": {
      "text/plain": [
       "[{'name': '★2in1★아트클래스 듀얼 컨투어 브러쉬',\n",
       "  'image': 'http://www.toocoolforschool.com/shop/data/goods/1540513539951l0.jpg',\n",
       "  'category': '홈 > E-SHOP > BRAND LINE',\n",
       "  'volume': '1.9cmX3.2cm / 15.8cm',\n",
       "  'originalPrice': 15000,\n",
       "  'salePrice': 15000,\n",
       "  'brand': 'toocoolforschool',\n",
       "  'url': 'http://www.toocoolforschool.com/shop/goods/goods_view.php?goodsno=14110483&category=004',\n",
       "  'color': ''}]"
      ]
     },
     "metadata": {},
     "output_type": "display_data"
    },
    {
     "data": {
      "text/plain": [
       "[{'name': '아트클래스 스튜디오 드 땅뜨 리퀴드 커버',\n",
       "  'image': 'http://www.toocoolforschool.com/shop/data/goods/1542594436453l0.jpg',\n",
       "  'category': '홈 > E-SHOP > BRAND LINE',\n",
       "  'volume': '30ml',\n",
       "  'originalPrice': 28000,\n",
       "  'salePrice': 28000,\n",
       "  'brand': 'toocoolforschool',\n",
       "  'url': 'http://www.toocoolforschool.com/shop/goods/goods_view.php?goodsno=14110484&category=004',\n",
       "  'color': '1호 포슬린'},\n",
       " {'name': '아트클래스 스튜디오 드 땅뜨 리퀴드 커버',\n",
       "  'image': 'http://www.toocoolforschool.com/shop/data/goods/1542594436453l0.jpg',\n",
       "  'category': '홈 > E-SHOP > BRAND LINE',\n",
       "  'volume': '30ml',\n",
       "  'originalPrice': 28000,\n",
       "  'salePrice': 28000,\n",
       "  'brand': 'toocoolforschool',\n",
       "  'url': 'http://www.toocoolforschool.com/shop/goods/goods_view.php?goodsno=14110484&category=004',\n",
       "  'color': '2호 아이보리'},\n",
       " {'name': '아트클래스 스튜디오 드 땅뜨 리퀴드 커버',\n",
       "  'image': 'http://www.toocoolforschool.com/shop/data/goods/1542594436453l0.jpg',\n",
       "  'category': '홈 > E-SHOP > BRAND LINE',\n",
       "  'volume': '30ml',\n",
       "  'originalPrice': 28000,\n",
       "  'salePrice': 28000,\n",
       "  'brand': 'toocoolforschool',\n",
       "  'url': 'http://www.toocoolforschool.com/shop/goods/goods_view.php?goodsno=14110484&category=004',\n",
       "  'color': '3호 베이지'},\n",
       " {'name': '아트클래스 스튜디오 드 땅뜨 리퀴드 커버',\n",
       "  'image': 'http://www.toocoolforschool.com/shop/data/goods/1542594436453l0.jpg',\n",
       "  'category': '홈 > E-SHOP > BRAND LINE',\n",
       "  'volume': '30ml',\n",
       "  'originalPrice': 28000,\n",
       "  'salePrice': 28000,\n",
       "  'brand': 'toocoolforschool',\n",
       "  'url': 'http://www.toocoolforschool.com/shop/goods/goods_view.php?goodsno=14110484&category=004',\n",
       "  'color': '4호 샌드'}]"
      ]
     },
     "metadata": {},
     "output_type": "display_data"
    },
    {
     "data": {
      "text/plain": [
       "[{'name': '아트클래스 바이로댕 블러셔',\n",
       "  'image': 'http://www.toocoolforschool.com/shop/data/goods/1542186290369l0.jpg',\n",
       "  'category': '홈 > E-SHOP > BRAND LINE',\n",
       "  'volume': '9.5g',\n",
       "  'originalPrice': 17000,\n",
       "  'salePrice': 17000,\n",
       "  'brand': 'toocoolforschool',\n",
       "  'url': 'http://www.toocoolforschool.com/shop/goods/goods_view.php?goodsno=14110486&category=004',\n",
       "  'color': ''}]"
      ]
     },
     "metadata": {},
     "output_type": "display_data"
    },
    {
     "data": {
      "text/plain": [
       "[{'name': '★국민쉐딩★아트클래스 바이로댕 쉐딩',\n",
       "  'image': 'http://www.toocoolforschool.com/shop/data/goods/154218635665l0.jpg',\n",
       "  'category': '홈 > E-SHOP > BRAND LINE',\n",
       "  'volume': '9.5g',\n",
       "  'originalPrice': 16000,\n",
       "  'salePrice': 16000,\n",
       "  'brand': 'toocoolforschool',\n",
       "  'url': 'http://www.toocoolforschool.com/shop/goods/goods_view.php?goodsno=14110488&category=004',\n",
       "  'color': ''}]"
      ]
     },
     "metadata": {},
     "output_type": "display_data"
    },
    {
     "data": {
      "text/plain": [
       "[{'name': '체크 스키니 젤 라이너+젤리 아이즈',\n",
       "  'image': 'http://www.toocoolforschool.com/shop/data/goods/1546223206421l0.jpg',\n",
       "  'category': '홈 > E-SHOP > BRAND LINE',\n",
       "  'volume': '0.06g',\n",
       "  'originalPrice': 16500,\n",
       "  'salePrice': 9500,\n",
       "  'brand': 'toocoolforschool',\n",
       "  'url': 'http://www.toocoolforschool.com/shop/goods/goods_view.php?goodsno=14110491&category=004',\n",
       "  'color': '1호 다크 블랙'},\n",
       " {'name': '체크 스키니 젤 라이너+젤리 아이즈',\n",
       "  'image': 'http://www.toocoolforschool.com/shop/data/goods/1546223206421l0.jpg',\n",
       "  'category': '홈 > E-SHOP > BRAND LINE',\n",
       "  'volume': '0.06g',\n",
       "  'originalPrice': 16500,\n",
       "  'salePrice': 9500,\n",
       "  'brand': 'toocoolforschool',\n",
       "  'url': 'http://www.toocoolforschool.com/shop/goods/goods_view.php?goodsno=14110491&category=004',\n",
       "  'color': '2호 딥 브라운'},\n",
       " {'name': '체크 스키니 젤 라이너+젤리 아이즈',\n",
       "  'image': 'http://www.toocoolforschool.com/shop/data/goods/1546223206421l0.jpg',\n",
       "  'category': '홈 > E-SHOP > BRAND LINE',\n",
       "  'volume': '0.06g',\n",
       "  'originalPrice': 16500,\n",
       "  'salePrice': 9500,\n",
       "  'brand': 'toocoolforschool',\n",
       "  'url': 'http://www.toocoolforschool.com/shop/goods/goods_view.php?goodsno=14110491&category=004',\n",
       "  'color': '3호 멜로우 브라운'},\n",
       " {'name': '체크 스키니 젤 라이너+젤리 아이즈',\n",
       "  'image': 'http://www.toocoolforschool.com/shop/data/goods/1546223206421l0.jpg',\n",
       "  'category': '홈 > E-SHOP > BRAND LINE',\n",
       "  'volume': '0.06g',\n",
       "  'originalPrice': 16500,\n",
       "  'salePrice': 9500,\n",
       "  'brand': 'toocoolforschool',\n",
       "  'url': 'http://www.toocoolforschool.com/shop/goods/goods_view.php?goodsno=14110491&category=004',\n",
       "  'color': '4호 로지 브라운'}]"
      ]
     },
     "metadata": {},
     "output_type": "display_data"
    },
    {
     "data": {
      "text/plain": [
       "[{'name': '★퍼프증정★아트클래스 스튜디오 드 땅뜨 리퀴드 커버',\n",
       "  'image': 'http://www.toocoolforschool.com/shop/data/goods/1546221182245l0.jpg',\n",
       "  'category': '홈 > E-SHOP > BRAND LINE',\n",
       "  'volume': '30ml',\n",
       "  'originalPrice': 33000,\n",
       "  'salePrice': 28000,\n",
       "  'brand': 'toocoolforschool',\n",
       "  'url': 'http://www.toocoolforschool.com/shop/goods/goods_view.php?goodsno=14110492&category=004',\n",
       "  'color': '1호 포슬린'},\n",
       " {'name': '★퍼프증정★아트클래스 스튜디오 드 땅뜨 리퀴드 커버',\n",
       "  'image': 'http://www.toocoolforschool.com/shop/data/goods/1546221182245l0.jpg',\n",
       "  'category': '홈 > E-SHOP > BRAND LINE',\n",
       "  'volume': '30ml',\n",
       "  'originalPrice': 33000,\n",
       "  'salePrice': 28000,\n",
       "  'brand': 'toocoolforschool',\n",
       "  'url': 'http://www.toocoolforschool.com/shop/goods/goods_view.php?goodsno=14110492&category=004',\n",
       "  'color': '2호 아이보리'},\n",
       " {'name': '★퍼프증정★아트클래스 스튜디오 드 땅뜨 리퀴드 커버',\n",
       "  'image': 'http://www.toocoolforschool.com/shop/data/goods/1546221182245l0.jpg',\n",
       "  'category': '홈 > E-SHOP > BRAND LINE',\n",
       "  'volume': '30ml',\n",
       "  'originalPrice': 33000,\n",
       "  'salePrice': 28000,\n",
       "  'brand': 'toocoolforschool',\n",
       "  'url': 'http://www.toocoolforschool.com/shop/goods/goods_view.php?goodsno=14110492&category=004',\n",
       "  'color': '3호 베이지'},\n",
       " {'name': '★퍼프증정★아트클래스 스튜디오 드 땅뜨 리퀴드 커버',\n",
       "  'image': 'http://www.toocoolforschool.com/shop/data/goods/1546221182245l0.jpg',\n",
       "  'category': '홈 > E-SHOP > BRAND LINE',\n",
       "  'volume': '30ml',\n",
       "  'originalPrice': 33000,\n",
       "  'salePrice': 28000,\n",
       "  'brand': 'toocoolforschool',\n",
       "  'url': 'http://www.toocoolforschool.com/shop/goods/goods_view.php?goodsno=14110492&category=004',\n",
       "  'color': '4호 샌드'}]"
      ]
     },
     "metadata": {},
     "output_type": "display_data"
    },
    {
     "data": {
      "text/plain": [
       "[{'name': '★퍼프증정★아트클래스 스튜디오 드 땅뜨 리퀴드 새틴',\n",
       "  'image': 'http://www.toocoolforschool.com/shop/data/goods/1546221238773l0.jpg',\n",
       "  'category': '홈 > E-SHOP > BRAND LINE',\n",
       "  'volume': '30ml',\n",
       "  'originalPrice': 33000,\n",
       "  'salePrice': 28000,\n",
       "  'brand': 'toocoolforschool',\n",
       "  'url': 'http://www.toocoolforschool.com/shop/goods/goods_view.php?goodsno=14110493&category=004',\n",
       "  'color': '1호 페일'},\n",
       " {'name': '★퍼프증정★아트클래스 스튜디오 드 땅뜨 리퀴드 새틴',\n",
       "  'image': 'http://www.toocoolforschool.com/shop/data/goods/1546221238773l0.jpg',\n",
       "  'category': '홈 > E-SHOP > BRAND LINE',\n",
       "  'volume': '30ml',\n",
       "  'originalPrice': 33000,\n",
       "  'salePrice': 28000,\n",
       "  'brand': 'toocoolforschool',\n",
       "  'url': 'http://www.toocoolforschool.com/shop/goods/goods_view.php?goodsno=14110493&category=004',\n",
       "  'color': '2호 포슬린'},\n",
       " {'name': '★퍼프증정★아트클래스 스튜디오 드 땅뜨 리퀴드 새틴',\n",
       "  'image': 'http://www.toocoolforschool.com/shop/data/goods/1546221238773l0.jpg',\n",
       "  'category': '홈 > E-SHOP > BRAND LINE',\n",
       "  'volume': '30ml',\n",
       "  'originalPrice': 33000,\n",
       "  'salePrice': 28000,\n",
       "  'brand': 'toocoolforschool',\n",
       "  'url': 'http://www.toocoolforschool.com/shop/goods/goods_view.php?goodsno=14110493&category=004',\n",
       "  'color': '3호 아이보리'},\n",
       " {'name': '★퍼프증정★아트클래스 스튜디오 드 땅뜨 리퀴드 새틴',\n",
       "  'image': 'http://www.toocoolforschool.com/shop/data/goods/1546221238773l0.jpg',\n",
       "  'category': '홈 > E-SHOP > BRAND LINE',\n",
       "  'volume': '30ml',\n",
       "  'originalPrice': 33000,\n",
       "  'salePrice': 28000,\n",
       "  'brand': 'toocoolforschool',\n",
       "  'url': 'http://www.toocoolforschool.com/shop/goods/goods_view.php?goodsno=14110493&category=004',\n",
       "  'color': '4호 베이지'}]"
      ]
     },
     "metadata": {},
     "output_type": "display_data"
    },
    {
     "data": {
      "text/plain": [
       "[{'name': '★퍼프증정★아트클래스 스튜디오 드 땅뜨 리퀴드 에어',\n",
       "  'image': 'http://www.toocoolforschool.com/shop/data/goods/154622165421l0.jpg',\n",
       "  'category': '홈 > E-SHOP > BRAND LINE',\n",
       "  'volume': '30ml',\n",
       "  'originalPrice': 33000,\n",
       "  'salePrice': 28000,\n",
       "  'brand': 'toocoolforschool',\n",
       "  'url': 'http://www.toocoolforschool.com/shop/goods/goods_view.php?goodsno=14110494&category=004',\n",
       "  'color': '1호 포슬린'},\n",
       " {'name': '★퍼프증정★아트클래스 스튜디오 드 땅뜨 리퀴드 에어',\n",
       "  'image': 'http://www.toocoolforschool.com/shop/data/goods/154622165421l0.jpg',\n",
       "  'category': '홈 > E-SHOP > BRAND LINE',\n",
       "  'volume': '30ml',\n",
       "  'originalPrice': 33000,\n",
       "  'salePrice': 28000,\n",
       "  'brand': 'toocoolforschool',\n",
       "  'url': 'http://www.toocoolforschool.com/shop/goods/goods_view.php?goodsno=14110494&category=004',\n",
       "  'color': '2호 아이보리'},\n",
       " {'name': '★퍼프증정★아트클래스 스튜디오 드 땅뜨 리퀴드 에어',\n",
       "  'image': 'http://www.toocoolforschool.com/shop/data/goods/154622165421l0.jpg',\n",
       "  'category': '홈 > E-SHOP > BRAND LINE',\n",
       "  'volume': '30ml',\n",
       "  'originalPrice': 33000,\n",
       "  'salePrice': 28000,\n",
       "  'brand': 'toocoolforschool',\n",
       "  'url': 'http://www.toocoolforschool.com/shop/goods/goods_view.php?goodsno=14110494&category=004',\n",
       "  'color': '3호 베이지'},\n",
       " {'name': '★퍼프증정★아트클래스 스튜디오 드 땅뜨 리퀴드 에어',\n",
       "  'image': 'http://www.toocoolforschool.com/shop/data/goods/154622165421l0.jpg',\n",
       "  'category': '홈 > E-SHOP > BRAND LINE',\n",
       "  'volume': '30ml',\n",
       "  'originalPrice': 33000,\n",
       "  'salePrice': 28000,\n",
       "  'brand': 'toocoolforschool',\n",
       "  'url': 'http://www.toocoolforschool.com/shop/goods/goods_view.php?goodsno=14110494&category=004',\n",
       "  'color': '4호 샌드'}]"
      ]
     },
     "metadata": {},
     "output_type": "display_data"
    },
    {
     "data": {
      "text/plain": [
       "[{'name': '★아이브러쉬 증정★아트클래스 바이 로댕 콜렉터즈',\n",
       "  'image': 'http://www.toocoolforschool.com/shop/data/goods/1546224649233l0.jpg',\n",
       "  'category': '홈 > E-SHOP > BRAND LINE',\n",
       "  'volume': '각 1.5g',\n",
       "  'originalPrice': 26000,\n",
       "  'salePrice': 26000,\n",
       "  'brand': 'toocoolforschool',\n",
       "  'url': 'http://www.toocoolforschool.com/shop/goods/goods_view.php?goodsno=14110497&category=004',\n",
       "  'color': ''}]"
      ]
     },
     "metadata": {},
     "output_type": "display_data"
    },
    {
     "data": {
      "text/plain": [
       "[{'name': '★온라인단독★누드 메이크업 세트',\n",
       "  'image': 'http://www.toocoolforschool.com/shop/data/goods/1547168205752l0.jpg',\n",
       "  'category': '홈 > E-SHOP > BRAND LINE',\n",
       "  'volume': '각 1.5g',\n",
       "  'originalPrice': 54000,\n",
       "  'salePrice': 35000,\n",
       "  'brand': 'toocoolforschool',\n",
       "  'url': 'http://www.toocoolforschool.com/shop/goods/goods_view.php?goodsno=14110499&category=004',\n",
       "  'color': '01. 누디슬립'},\n",
       " {'name': '★온라인단독★누드 메이크업 세트',\n",
       "  'image': 'http://www.toocoolforschool.com/shop/data/goods/1547168205752l0.jpg',\n",
       "  'category': '홈 > E-SHOP > BRAND LINE',\n",
       "  'volume': '각 1.5g',\n",
       "  'originalPrice': 54000,\n",
       "  'salePrice': 35000,\n",
       "  'brand': 'toocoolforschool',\n",
       "  'url': 'http://www.toocoolforschool.com/shop/goods/goods_view.php?goodsno=14110499&category=004',\n",
       "  'color': '02. 헤이지 코랄'},\n",
       " {'name': '★온라인단독★누드 메이크업 세트',\n",
       "  'image': 'http://www.toocoolforschool.com/shop/data/goods/1547168205752l0.jpg',\n",
       "  'category': '홈 > E-SHOP > BRAND LINE',\n",
       "  'volume': '각 1.5g',\n",
       "  'originalPrice': 54000,\n",
       "  'salePrice': 35000,\n",
       "  'brand': 'toocoolforschool',\n",
       "  'url': 'http://www.toocoolforschool.com/shop/goods/goods_view.php?goodsno=14110499&category=004',\n",
       "  'color': '03. 플리시 로지'},\n",
       " {'name': '★온라인단독★누드 메이크업 세트',\n",
       "  'image': 'http://www.toocoolforschool.com/shop/data/goods/1547168205752l0.jpg',\n",
       "  'category': '홈 > E-SHOP > BRAND LINE',\n",
       "  'volume': '각 1.5g',\n",
       "  'originalPrice': 54000,\n",
       "  'salePrice': 35000,\n",
       "  'brand': 'toocoolforschool',\n",
       "  'url': 'http://www.toocoolforschool.com/shop/goods/goods_view.php?goodsno=14110499&category=004',\n",
       "  'color': '04.스너그 레드'},\n",
       " {'name': '★온라인단독★누드 메이크업 세트',\n",
       "  'image': 'http://www.toocoolforschool.com/shop/data/goods/1547168205752l0.jpg',\n",
       "  'category': '홈 > E-SHOP > BRAND LINE',\n",
       "  'volume': '각 1.5g',\n",
       "  'originalPrice': 54000,\n",
       "  'salePrice': 35000,\n",
       "  'brand': 'toocoolforschool',\n",
       "  'url': 'http://www.toocoolforschool.com/shop/goods/goods_view.php?goodsno=14110499&category=004',\n",
       "  'color': '05. 우디 벨벳'},\n",
       " {'name': '★온라인단독★누드 메이크업 세트',\n",
       "  'image': 'http://www.toocoolforschool.com/shop/data/goods/1547168205752l0.jpg',\n",
       "  'category': '홈 > E-SHOP > BRAND LINE',\n",
       "  'volume': '각 1.5g',\n",
       "  'originalPrice': 54000,\n",
       "  'salePrice': 35000,\n",
       "  'brand': 'toocoolforschool',\n",
       "  'url': 'http://www.toocoolforschool.com/shop/goods/goods_view.php?goodsno=14110499&category=004',\n",
       "  'color': '06.로즈 뮬리'},\n",
       " {'name': '★온라인단독★누드 메이크업 세트',\n",
       "  'image': 'http://www.toocoolforschool.com/shop/data/goods/1547168205752l0.jpg',\n",
       "  'category': '홈 > E-SHOP > BRAND LINE',\n",
       "  'volume': '각 1.5g',\n",
       "  'originalPrice': 54000,\n",
       "  'salePrice': 35000,\n",
       "  'brand': 'toocoolforschool',\n",
       "  'url': 'http://www.toocoolforschool.com/shop/goods/goods_view.php?goodsno=14110499&category=004',\n",
       "  'color': '07.브라운 머스크'},\n",
       " {'name': '★온라인단독★누드 메이크업 세트',\n",
       "  'image': 'http://www.toocoolforschool.com/shop/data/goods/1547168205752l0.jpg',\n",
       "  'category': '홈 > E-SHOP > BRAND LINE',\n",
       "  'volume': '각 1.5g',\n",
       "  'originalPrice': 54000,\n",
       "  'salePrice': 35000,\n",
       "  'brand': 'toocoolforschool',\n",
       "  'url': 'http://www.toocoolforschool.com/shop/goods/goods_view.php?goodsno=14110499&category=004',\n",
       "  'color': '08.레드 램블러'}]"
      ]
     },
     "metadata": {},
     "output_type": "display_data"
    },
    {
     "data": {
      "text/plain": [
       "[{'name': '체크 젤리 블러셔',\n",
       "  'image': 'http://www.toocoolforschool.com/shop/data/goods/154622103782l0.jpg',\n",
       "  'category': '홈 > E-SHOP > BRAND LINE',\n",
       "  'volume': '8g (38.2mm X 35mm X 9mm)',\n",
       "  'originalPrice': 22000,\n",
       "  'salePrice': 12000,\n",
       "  'brand': 'toocoolforschool',\n",
       "  'url': 'http://www.toocoolforschool.com/shop/goods/goods_view.php?goodsno=14110500&category=004',\n",
       "  'color': '1호 스트로베리슈'},\n",
       " {'name': '체크 젤리 블러셔',\n",
       "  'image': 'http://www.toocoolforschool.com/shop/data/goods/154622103782l0.jpg',\n",
       "  'category': '홈 > E-SHOP > BRAND LINE',\n",
       "  'volume': '8g (38.2mm X 35mm X 9mm)',\n",
       "  'originalPrice': 22000,\n",
       "  'salePrice': 12000,\n",
       "  'brand': 'toocoolforschool',\n",
       "  'url': 'http://www.toocoolforschool.com/shop/goods/goods_view.php?goodsno=14110500&category=004',\n",
       "  'color': '2호 애프리콧 샤벳'},\n",
       " {'name': '체크 젤리 블러셔',\n",
       "  'image': 'http://www.toocoolforschool.com/shop/data/goods/154622103782l0.jpg',\n",
       "  'category': '홈 > E-SHOP > BRAND LINE',\n",
       "  'volume': '8g (38.2mm X 35mm X 9mm)',\n",
       "  'originalPrice': 22000,\n",
       "  'salePrice': 12000,\n",
       "  'brand': 'toocoolforschool',\n",
       "  'url': 'http://www.toocoolforschool.com/shop/goods/goods_view.php?goodsno=14110500&category=004',\n",
       "  'color': '3호 피치 넥타'},\n",
       " {'name': '체크 젤리 블러셔',\n",
       "  'image': 'http://www.toocoolforschool.com/shop/data/goods/154622103782l0.jpg',\n",
       "  'category': '홈 > E-SHOP > BRAND LINE',\n",
       "  'volume': '8g (38.2mm X 35mm X 9mm)',\n",
       "  'originalPrice': 22000,\n",
       "  'salePrice': 12000,\n",
       "  'brand': 'toocoolforschool',\n",
       "  'url': 'http://www.toocoolforschool.com/shop/goods/goods_view.php?goodsno=14110500&category=004',\n",
       "  'color': '4호 체리 스퀴즈'},\n",
       " {'name': '체크 젤리 블러셔',\n",
       "  'image': 'http://www.toocoolforschool.com/shop/data/goods/154622103782l0.jpg',\n",
       "  'category': '홈 > E-SHOP > BRAND LINE',\n",
       "  'volume': '8g (38.2mm X 35mm X 9mm)',\n",
       "  'originalPrice': 22000,\n",
       "  'salePrice': 12000,\n",
       "  'brand': 'toocoolforschool',\n",
       "  'url': 'http://www.toocoolforschool.com/shop/goods/goods_view.php?goodsno=14110500&category=004',\n",
       "  'color': '5호 애플 레드'},\n",
       " {'name': '체크 젤리 블러셔',\n",
       "  'image': 'http://www.toocoolforschool.com/shop/data/goods/154622103782l0.jpg',\n",
       "  'category': '홈 > E-SHOP > BRAND LINE',\n",
       "  'volume': '8g (38.2mm X 35mm X 9mm)',\n",
       "  'originalPrice': 22000,\n",
       "  'salePrice': 12000,\n",
       "  'brand': 'toocoolforschool',\n",
       "  'url': 'http://www.toocoolforschool.com/shop/goods/goods_view.php?goodsno=14110500&category=004',\n",
       "  'color': '6호 로즈 무스'},\n",
       " {'name': '체크 젤리 블러셔',\n",
       "  'image': 'http://www.toocoolforschool.com/shop/data/goods/154622103782l0.jpg',\n",
       "  'category': '홈 > E-SHOP > BRAND LINE',\n",
       "  'volume': '8g (38.2mm X 35mm X 9mm)',\n",
       "  'originalPrice': 22000,\n",
       "  'salePrice': 12000,\n",
       "  'brand': 'toocoolforschool',\n",
       "  'url': 'http://www.toocoolforschool.com/shop/goods/goods_view.php?goodsno=14110500&category=004',\n",
       "  'color': '7호 피오니 모브'},\n",
       " {'name': '체크 젤리 블러셔',\n",
       "  'image': 'http://www.toocoolforschool.com/shop/data/goods/154622103782l0.jpg',\n",
       "  'category': '홈 > E-SHOP > BRAND LINE',\n",
       "  'volume': '8g (38.2mm X 35mm X 9mm)',\n",
       "  'originalPrice': 22000,\n",
       "  'salePrice': 12000,\n",
       "  'brand': 'toocoolforschool',\n",
       "  'url': 'http://www.toocoolforschool.com/shop/goods/goods_view.php?goodsno=14110500&category=004',\n",
       "  'color': '8호 진저 파이'}]"
      ]
     },
     "metadata": {},
     "output_type": "display_data"
    },
    {
     "data": {
      "text/plain": [
       "[{'name': '★뉴컬러★아트클래스 누아즈 립',\n",
       "  'image': 'http://www.toocoolforschool.com/shop/data/goods/1548056312146l0.jpg',\n",
       "  'category': '홈 > E-SHOP > BRAND LINE',\n",
       "  'volume': '4.8g*2',\n",
       "  'originalPrice': 24000,\n",
       "  'salePrice': 19200,\n",
       "  'brand': 'toocoolforschool',\n",
       "  'url': 'http://www.toocoolforschool.com/shop/goods/goods_view.php?goodsno=14110502&category=004',\n",
       "  'color': '1호 누디 슬립'},\n",
       " {'name': '★뉴컬러★아트클래스 누아즈 립',\n",
       "  'image': 'http://www.toocoolforschool.com/shop/data/goods/1548056312146l0.jpg',\n",
       "  'category': '홈 > E-SHOP > BRAND LINE',\n",
       "  'volume': '4.8g*2',\n",
       "  'originalPrice': 24000,\n",
       "  'salePrice': 19200,\n",
       "  'brand': 'toocoolforschool',\n",
       "  'url': 'http://www.toocoolforschool.com/shop/goods/goods_view.php?goodsno=14110502&category=004',\n",
       "  'color': '2호 헤이지 코랄'},\n",
       " {'name': '★뉴컬러★아트클래스 누아즈 립',\n",
       "  'image': 'http://www.toocoolforschool.com/shop/data/goods/1548056312146l0.jpg',\n",
       "  'category': '홈 > E-SHOP > BRAND LINE',\n",
       "  'volume': '4.8g*2',\n",
       "  'originalPrice': 24000,\n",
       "  'salePrice': 19200,\n",
       "  'brand': 'toocoolforschool',\n",
       "  'url': 'http://www.toocoolforschool.com/shop/goods/goods_view.php?goodsno=14110502&category=004',\n",
       "  'color': '3호 플리시 로지'},\n",
       " {'name': '★뉴컬러★아트클래스 누아즈 립',\n",
       "  'image': 'http://www.toocoolforschool.com/shop/data/goods/1548056312146l0.jpg',\n",
       "  'category': '홈 > E-SHOP > BRAND LINE',\n",
       "  'volume': '4.8g*2',\n",
       "  'originalPrice': 24000,\n",
       "  'salePrice': 19200,\n",
       "  'brand': 'toocoolforschool',\n",
       "  'url': 'http://www.toocoolforschool.com/shop/goods/goods_view.php?goodsno=14110502&category=004',\n",
       "  'color': '4호 스너그 레드'},\n",
       " {'name': '★뉴컬러★아트클래스 누아즈 립',\n",
       "  'image': 'http://www.toocoolforschool.com/shop/data/goods/1548056312146l0.jpg',\n",
       "  'category': '홈 > E-SHOP > BRAND LINE',\n",
       "  'volume': '4.8g*2',\n",
       "  'originalPrice': 24000,\n",
       "  'salePrice': 19200,\n",
       "  'brand': 'toocoolforschool',\n",
       "  'url': 'http://www.toocoolforschool.com/shop/goods/goods_view.php?goodsno=14110502&category=004',\n",
       "  'color': '5호 우디 벨벳'},\n",
       " {'name': '★뉴컬러★아트클래스 누아즈 립',\n",
       "  'image': 'http://www.toocoolforschool.com/shop/data/goods/1548056312146l0.jpg',\n",
       "  'category': '홈 > E-SHOP > BRAND LINE',\n",
       "  'volume': '4.8g*2',\n",
       "  'originalPrice': 24000,\n",
       "  'salePrice': 19200,\n",
       "  'brand': 'toocoolforschool',\n",
       "  'url': 'http://www.toocoolforschool.com/shop/goods/goods_view.php?goodsno=14110502&category=004',\n",
       "  'color': '6호 로즈 뮬리'},\n",
       " {'name': '★뉴컬러★아트클래스 누아즈 립',\n",
       "  'image': 'http://www.toocoolforschool.com/shop/data/goods/1548056312146l0.jpg',\n",
       "  'category': '홈 > E-SHOP > BRAND LINE',\n",
       "  'volume': '4.8g*2',\n",
       "  'originalPrice': 24000,\n",
       "  'salePrice': 19200,\n",
       "  'brand': 'toocoolforschool',\n",
       "  'url': 'http://www.toocoolforschool.com/shop/goods/goods_view.php?goodsno=14110502&category=004',\n",
       "  'color': '7호 브라운 머스크'},\n",
       " {'name': '★뉴컬러★아트클래스 누아즈 립',\n",
       "  'image': 'http://www.toocoolforschool.com/shop/data/goods/1548056312146l0.jpg',\n",
       "  'category': '홈 > E-SHOP > BRAND LINE',\n",
       "  'volume': '4.8g*2',\n",
       "  'originalPrice': 24000,\n",
       "  'salePrice': 19200,\n",
       "  'brand': 'toocoolforschool',\n",
       "  'url': 'http://www.toocoolforschool.com/shop/goods/goods_view.php?goodsno=14110502&category=004',\n",
       "  'color': '8호 레드 램블러'}]"
      ]
     },
     "metadata": {},
     "output_type": "display_data"
    },
    {
     "data": {
      "text/plain": [
       "[{'name': '바이로댕 콜렉터즈&누아즈 세트',\n",
       "  'image': 'http://www.toocoolforschool.com/shop/data/goods/1547605099641l0.jpg',\n",
       "  'category': '홈 > E-SHOP > BRAND LINE',\n",
       "  'volume': '각 1.5g',\n",
       "  'originalPrice': 38000,\n",
       "  'salePrice': 29800,\n",
       "  'brand': 'toocoolforschool',\n",
       "  'url': 'http://www.toocoolforschool.com/shop/goods/goods_view.php?goodsno=14110503&category=004',\n",
       "  'color': '01. 누디슬립'},\n",
       " {'name': '바이로댕 콜렉터즈&누아즈 세트',\n",
       "  'image': 'http://www.toocoolforschool.com/shop/data/goods/1547605099641l0.jpg',\n",
       "  'category': '홈 > E-SHOP > BRAND LINE',\n",
       "  'volume': '각 1.5g',\n",
       "  'originalPrice': 38000,\n",
       "  'salePrice': 29800,\n",
       "  'brand': 'toocoolforschool',\n",
       "  'url': 'http://www.toocoolforschool.com/shop/goods/goods_view.php?goodsno=14110503&category=004',\n",
       "  'color': '02. 헤이지 코랄'},\n",
       " {'name': '바이로댕 콜렉터즈&누아즈 세트',\n",
       "  'image': 'http://www.toocoolforschool.com/shop/data/goods/1547605099641l0.jpg',\n",
       "  'category': '홈 > E-SHOP > BRAND LINE',\n",
       "  'volume': '각 1.5g',\n",
       "  'originalPrice': 38000,\n",
       "  'salePrice': 29800,\n",
       "  'brand': 'toocoolforschool',\n",
       "  'url': 'http://www.toocoolforschool.com/shop/goods/goods_view.php?goodsno=14110503&category=004',\n",
       "  'color': '03. 플리시 로지'},\n",
       " {'name': '바이로댕 콜렉터즈&누아즈 세트',\n",
       "  'image': 'http://www.toocoolforschool.com/shop/data/goods/1547605099641l0.jpg',\n",
       "  'category': '홈 > E-SHOP > BRAND LINE',\n",
       "  'volume': '각 1.5g',\n",
       "  'originalPrice': 38000,\n",
       "  'salePrice': 29800,\n",
       "  'brand': 'toocoolforschool',\n",
       "  'url': 'http://www.toocoolforschool.com/shop/goods/goods_view.php?goodsno=14110503&category=004',\n",
       "  'color': '04.스너그 레드'},\n",
       " {'name': '바이로댕 콜렉터즈&누아즈 세트',\n",
       "  'image': 'http://www.toocoolforschool.com/shop/data/goods/1547605099641l0.jpg',\n",
       "  'category': '홈 > E-SHOP > BRAND LINE',\n",
       "  'volume': '각 1.5g',\n",
       "  'originalPrice': 38000,\n",
       "  'salePrice': 29800,\n",
       "  'brand': 'toocoolforschool',\n",
       "  'url': 'http://www.toocoolforschool.com/shop/goods/goods_view.php?goodsno=14110503&category=004',\n",
       "  'color': '05. 우디 벨벳'},\n",
       " {'name': '바이로댕 콜렉터즈&누아즈 세트',\n",
       "  'image': 'http://www.toocoolforschool.com/shop/data/goods/1547605099641l0.jpg',\n",
       "  'category': '홈 > E-SHOP > BRAND LINE',\n",
       "  'volume': '각 1.5g',\n",
       "  'originalPrice': 38000,\n",
       "  'salePrice': 29800,\n",
       "  'brand': 'toocoolforschool',\n",
       "  'url': 'http://www.toocoolforschool.com/shop/goods/goods_view.php?goodsno=14110503&category=004',\n",
       "  'color': 'NEW 06.로즈 뮬리'},\n",
       " {'name': '바이로댕 콜렉터즈&누아즈 세트',\n",
       "  'image': 'http://www.toocoolforschool.com/shop/data/goods/1547605099641l0.jpg',\n",
       "  'category': '홈 > E-SHOP > BRAND LINE',\n",
       "  'volume': '각 1.5g',\n",
       "  'originalPrice': 38000,\n",
       "  'salePrice': 29800,\n",
       "  'brand': 'toocoolforschool',\n",
       "  'url': 'http://www.toocoolforschool.com/shop/goods/goods_view.php?goodsno=14110503&category=004',\n",
       "  'color': 'NEW 07.브라운 머스크'},\n",
       " {'name': '바이로댕 콜렉터즈&누아즈 세트',\n",
       "  'image': 'http://www.toocoolforschool.com/shop/data/goods/1547605099641l0.jpg',\n",
       "  'category': '홈 > E-SHOP > BRAND LINE',\n",
       "  'volume': '각 1.5g',\n",
       "  'originalPrice': 38000,\n",
       "  'salePrice': 29800,\n",
       "  'brand': 'toocoolforschool',\n",
       "  'url': 'http://www.toocoolforschool.com/shop/goods/goods_view.php?goodsno=14110503&category=004',\n",
       "  'color': 'NEW 08.레드 램블러'}]"
      ]
     },
     "metadata": {},
     "output_type": "display_data"
    },
    {
     "data": {
      "text/plain": [
       "[{'name': '★각질 필수템 1위★맥걸리 고두밥 스크럽',\n",
       "  'image': 'http://www.toocoolforschool.com/shop/data/goods/1496411879329l0.jpg',\n",
       "  'category': '홈 > E-SHOP > BRAND LINE',\n",
       "  'volume': '80ml',\n",
       "  'originalPrice': 12000,\n",
       "  'salePrice': 12000,\n",
       "  'brand': 'toocoolforschool',\n",
       "  'url': 'http://www.toocoolforschool.com/shop/goods/goods_view.php?goodsno=14110103&category=005',\n",
       "  'color': ''}]"
      ]
     },
     "metadata": {},
     "output_type": "display_data"
    },
    {
     "data": {
      "text/plain": [
       "[{'name': '모로코 가슬 폼 클렌저',\n",
       "  'image': 'http://www.toocoolforschool.com/shop/data/goods/1496412485352l0.jpg',\n",
       "  'category': '홈 > E-SHOP > BRAND LINE',\n",
       "  'volume': '150ml',\n",
       "  'originalPrice': 9500,\n",
       "  'salePrice': 9500,\n",
       "  'brand': 'toocoolforschool',\n",
       "  'url': 'http://www.toocoolforschool.com/shop/goods/goods_view.php?goodsno=14110057&category=005',\n",
       "  'color': ''}]"
      ]
     },
     "metadata": {},
     "output_type": "display_data"
    },
    {
     "data": {
      "text/plain": [
       "[{'name': '★20%할인★에그 무스 솝',\n",
       "  'image': 'http://www.toocoolforschool.com/shop/data/goods/1496407756608l0.jpg',\n",
       "  'category': '홈 > E-SHOP > BRAND LINE',\n",
       "  'volume': '150ml',\n",
       "  'originalPrice': 12000,\n",
       "  'salePrice': 9600,\n",
       "  'brand': 'toocoolforschool',\n",
       "  'url': 'http://www.toocoolforschool.com/shop/goods/goods_view.php?goodsno=14110099&category=005',\n",
       "  'color': ''}]"
      ]
     },
     "metadata": {},
     "output_type": "display_data"
    },
    {
     "data": {
      "text/plain": [
       "[{'name': '★뷰티크리에이터 추천★지우고자 립앤아이 리무버',\n",
       "  'image': 'http://www.toocoolforschool.com/shop/data/goods/1496411554271l0.png',\n",
       "  'category': '홈 > E-SHOP > BRAND LINE',\n",
       "  'volume': '100ml',\n",
       "  'originalPrice': 7000,\n",
       "  'salePrice': 7000,\n",
       "  'brand': 'toocoolforschool',\n",
       "  'url': 'http://www.toocoolforschool.com/shop/goods/goods_view.php?goodsno=14110113&category=005',\n",
       "  'color': ''}]"
      ]
     },
     "metadata": {},
     "output_type": "display_data"
    },
    {
     "data": {
      "text/plain": [
       "[{'name': '★1+1★블랙 폼 내자',\n",
       "  'image': 'http://www.toocoolforschool.com/shop/data/goods/1546222179638l0.jpg',\n",
       "  'category': '홈 > E-SHOP > BRAND LINE',\n",
       "  'volume': '150ml',\n",
       "  'originalPrice': 30000,\n",
       "  'salePrice': 15000,\n",
       "  'brand': 'toocoolforschool',\n",
       "  'url': 'http://www.toocoolforschool.com/shop/goods/goods_view.php?goodsno=14110355&category=005',\n",
       "  'color': ''}]"
      ]
     },
     "metadata": {},
     "output_type": "display_data"
    },
    {
     "data": {
      "text/plain": [
       "[{'name': '★20%할인★에그자임 휩 폼',\n",
       "  'image': 'http://www.toocoolforschool.com/shop/data/goods/1496403434830l0.jpg',\n",
       "  'category': '홈 > E-SHOP > BRAND LINE',\n",
       "  'volume': '150g',\n",
       "  'originalPrice': 12000,\n",
       "  'salePrice': 9600,\n",
       "  'brand': 'toocoolforschool',\n",
       "  'url': 'http://www.toocoolforschool.com/shop/goods/goods_view.php?goodsno=14110354&category=005',\n",
       "  'color': ''}]"
      ]
     },
     "metadata": {},
     "output_type": "display_data"
    },
    {
     "data": {
      "text/plain": [
       "[{'name': '룰스 오브 매스틱 마일드 클렌저',\n",
       "  'image': 'http://www.toocoolforschool.com/shop/data/goods/1512007410305l0.jpg',\n",
       "  'category': '홈 > E-SHOP > BRAND LINE',\n",
       "  'volume': '150ml',\n",
       "  'originalPrice': 16000,\n",
       "  'salePrice': 16000,\n",
       "  'brand': 'toocoolforschool',\n",
       "  'url': 'http://www.toocoolforschool.com/shop/goods/goods_view.php?goodsno=14110323&category=005',\n",
       "  'color': ''}]"
      ]
     },
     "metadata": {},
     "output_type": "display_data"
    },
    {
     "data": {
      "text/plain": [
       "[{'name': '블랙 오일로 지우자',\n",
       "  'image': 'http://www.toocoolforschool.com/shop/data/goods/1496409355227l0.jpg',\n",
       "  'category': '홈 > E-SHOP > BRAND LINE',\n",
       "  'volume': '150ml',\n",
       "  'originalPrice': 23000,\n",
       "  'salePrice': 23000,\n",
       "  'brand': 'toocoolforschool',\n",
       "  'url': 'http://www.toocoolforschool.com/shop/goods/goods_view.php?goodsno=14110311&category=005',\n",
       "  'color': ''}]"
      ]
     },
     "metadata": {},
     "output_type": "display_data"
    },
    {
     "data": {
      "text/plain": [
       "[{'name': '맥걸리 컴 클린 (미니)',\n",
       "  'image': 'http://www.toocoolforschool.com/shop/data/goods/1496409537578l0.jpg',\n",
       "  'category': '홈 > E-SHOP > BRAND LINE',\n",
       "  'volume': '30ml',\n",
       "  'originalPrice': 5000,\n",
       "  'salePrice': 5000,\n",
       "  'brand': 'toocoolforschool',\n",
       "  'url': 'http://www.toocoolforschool.com/shop/goods/goods_view.php?goodsno=14110225&category=005',\n",
       "  'color': ''}]"
      ]
     },
     "metadata": {},
     "output_type": "display_data"
    },
    {
     "data": {
      "text/plain": [
       "[{'name': '싹지우자 클렌징 워터',\n",
       "  'image': 'http://www.toocoolforschool.com/shop/data/goods/1496411449724l0.jpg',\n",
       "  'category': '홈 > E-SHOP > BRAND LINE',\n",
       "  'volume': '200ml',\n",
       "  'originalPrice': 15000,\n",
       "  'salePrice': 15000,\n",
       "  'brand': 'toocoolforschool',\n",
       "  'url': 'http://www.toocoolforschool.com/shop/goods/goods_view.php?goodsno=14110116&category=005',\n",
       "  'color': ''}]"
      ]
     },
     "metadata": {},
     "output_type": "display_data"
    },
    {
     "data": {
      "text/plain": [
       "[{'name': '맥걸리 컴 클린',\n",
       "  'image': 'http://www.toocoolforschool.com/shop/data/goods/1496411909953l0.jpg',\n",
       "  'category': '홈 > E-SHOP > BRAND LINE',\n",
       "  'volume': '150ml',\n",
       "  'originalPrice': 11000,\n",
       "  'salePrice': 11000,\n",
       "  'brand': 'toocoolforschool',\n",
       "  'url': 'http://www.toocoolforschool.com/shop/goods/goods_view.php?goodsno=14110092&category=005',\n",
       "  'color': ''}]"
      ]
     },
     "metadata": {},
     "output_type": "display_data"
    },
    {
     "data": {
      "text/plain": [
       "[{'name': '다이노플라츠 매직 완드 리무버 스틱',\n",
       "  'image': 'http://www.toocoolforschool.com/shop/data/goods/1496412590827l0.jpg',\n",
       "  'category': '홈 > E-SHOP > BRAND LINE',\n",
       "  'volume': '20개입',\n",
       "  'originalPrice': 4500,\n",
       "  'salePrice': 4500,\n",
       "  'brand': 'toocoolforschool',\n",
       "  'url': 'http://www.toocoolforschool.com/shop/goods/goods_view.php?goodsno=14110054&category=005',\n",
       "  'color': ''}]"
      ]
     },
     "metadata": {},
     "output_type": "display_data"
    },
    {
     "data": {
      "text/plain": [
       "[{'name': '★스크럽+영양팩★코코넛 슈가 페이셜 스크럽',\n",
       "  'image': 'http://www.toocoolforschool.com/shop/data/goods/1504761382781l0.jpg',\n",
       "  'category': '홈 > E-SHOP > BRAND LINE',\n",
       "  'volume': '100ml',\n",
       "  'originalPrice': 16000,\n",
       "  'salePrice': 16000,\n",
       "  'brand': 'toocoolforschool',\n",
       "  'url': 'http://www.toocoolforschool.com/shop/goods/goods_view.php?goodsno=14110403&category=005',\n",
       "  'color': ''}]"
      ]
     },
     "metadata": {},
     "output_type": "display_data"
    },
    {
     "data": {
      "text/plain": [
       "[{'name': '★30%할인★펌킨 하이드라 앤 필링 듀오 패드',\n",
       "  'image': 'http://www.toocoolforschool.com/shop/data/goods/1525236509572l0.jpg',\n",
       "  'category': '홈 > E-SHOP > BRAND LINE',\n",
       "  'volume': '에센스 패드: 50ea_82g (2.89oz) /필링 패드: 50ea_82g (2.89oz)',\n",
       "  'originalPrice': 10000,\n",
       "  'salePrice': 7000,\n",
       "  'brand': 'toocoolforschool',\n",
       "  'url': 'http://www.toocoolforschool.com/shop/goods/goods_view.php?goodsno=14110420&category=005',\n",
       "  'color': ''}]"
      ]
     },
     "metadata": {},
     "output_type": "display_data"
    },
    {
     "data": {
      "text/plain": [
       "[{'name': '★뷰티툴즈증정★미네랄 핑크 솔트 딥 클렌징 폼',\n",
       "  'image': 'http://www.toocoolforschool.com/shop/data/goods/1545012165683l0.jpg',\n",
       "  'category': '홈 > E-SHOP > BRAND LINE',\n",
       "  'volume': '150ml',\n",
       "  'originalPrice': 13000,\n",
       "  'salePrice': 13000,\n",
       "  'brand': 'toocoolforschool',\n",
       "  'url': 'http://www.toocoolforschool.com/shop/goods/goods_view.php?goodsno=14110468&category=005',\n",
       "  'color': ''}]"
      ]
     },
     "metadata": {},
     "output_type": "display_data"
    },
    {
     "data": {
      "text/plain": [
       "[{'name': '★뷰티툴즈증정★미네랄 핑크 솔트 딥 클렌징 오일',\n",
       "  'image': 'http://www.toocoolforschool.com/shop/data/goods/1545012093439l0.jpg',\n",
       "  'category': '홈 > E-SHOP > BRAND LINE',\n",
       "  'volume': '150ml',\n",
       "  'originalPrice': 23000,\n",
       "  'salePrice': 23000,\n",
       "  'brand': 'toocoolforschool',\n",
       "  'url': 'http://www.toocoolforschool.com/shop/goods/goods_view.php?goodsno=14110469&category=005',\n",
       "  'color': ''}]"
      ]
     },
     "metadata": {},
     "output_type": "display_data"
    },
    {
     "data": {
      "text/plain": [
       "[{'name': '★뷰티툴즈증정★미네랄 핑크 솔트 딥 클렌징 워터',\n",
       "  'image': 'http://www.toocoolforschool.com/shop/data/goods/1545012118680l0.jpg',\n",
       "  'category': '홈 > E-SHOP > BRAND LINE',\n",
       "  'volume': '500ml',\n",
       "  'originalPrice': 15000,\n",
       "  'salePrice': 15000,\n",
       "  'brand': 'toocoolforschool',\n",
       "  'url': 'http://www.toocoolforschool.com/shop/goods/goods_view.php?goodsno=14110470&category=005',\n",
       "  'color': ''}]"
      ]
     },
     "metadata": {},
     "output_type": "display_data"
    },
    {
     "data": {
      "text/plain": [
       "[{'name': '아트클래스 퀵 드라이 브러쉬 클렌징 티슈',\n",
       "  'image': 'http://www.toocoolforschool.com/shop/data/goods/1544507126800l0.jpg',\n",
       "  'category': '홈 > E-SHOP > BRAND LINE',\n",
       "  'volume': '77g_20ea',\n",
       "  'originalPrice': 2500,\n",
       "  'salePrice': 2500,\n",
       "  'brand': 'toocoolforschool',\n",
       "  'url': 'http://www.toocoolforschool.com/shop/goods/goods_view.php?goodsno=14110498&category=005',\n",
       "  'color': ''}]"
      ]
     },
     "metadata": {},
     "output_type": "display_data"
    },
    {
     "data": {
      "text/plain": [
       "[{'name': '미네랄 핑크 솔트 딥 클렌징 패드',\n",
       "  'image': 'http://www.toocoolforschool.com/shop/data/goods/1546922456438l0.jpg',\n",
       "  'category': '홈 > E-SHOP > BRAND LINE',\n",
       "  'volume': '30ea(190ml)',\n",
       "  'originalPrice': 12500,\n",
       "  'salePrice': 12500,\n",
       "  'brand': 'toocoolforschool',\n",
       "  'url': 'http://www.toocoolforschool.com/shop/goods/goods_view.php?goodsno=14110501&category=005',\n",
       "  'color': ''}]"
      ]
     },
     "metadata": {},
     "output_type": "display_data"
    },
    {
     "data": {
      "text/plain": [
       "[{'name': '★20%할인★에그 레미디 헤어팩',\n",
       "  'image': 'http://www.toocoolforschool.com/shop/data/goods/1526350602315l0.jpg',\n",
       "  'category': '홈 > E-SHOP > BRAND LINE',\n",
       "  'volume': '200g',\n",
       "  'originalPrice': 15000,\n",
       "  'salePrice': 12000,\n",
       "  'brand': 'toocoolforschool',\n",
       "  'url': 'http://www.toocoolforschool.com/shop/goods/goods_view.php?goodsno=14110277&category=006',\n",
       "  'color': ''}]"
      ]
     },
     "metadata": {},
     "output_type": "display_data"
    },
    {
     "data": {
      "text/plain": [
       "[{'name': '★20%할인★에그 멜로우 바디 버터',\n",
       "  'image': 'http://www.toocoolforschool.com/shop/data/goods/1496407163720l0.jpg',\n",
       "  'category': '홈 > E-SHOP > BRAND LINE',\n",
       "  'volume': '200g',\n",
       "  'originalPrice': 22000,\n",
       "  'salePrice': 17600,\n",
       "  'brand': 'toocoolforschool',\n",
       "  'url': 'http://www.toocoolforschool.com/shop/goods/goods_view.php?goodsno=14110241&category=006',\n",
       "  'color': ''}]"
      ]
     },
     "metadata": {},
     "output_type": "display_data"
    },
    {
     "data": {
      "text/plain": [
       "[{'name': '★코코넛오일+밀크단백질★코코넛 밀키 오일 로션',\n",
       "  'image': 'http://www.toocoolforschool.com/shop/data/goods/1503888227934l0.jpg',\n",
       "  'category': '홈 > E-SHOP > BRAND LINE',\n",
       "  'volume': '300ml',\n",
       "  'originalPrice': 15000,\n",
       "  'salePrice': 15000,\n",
       "  'brand': 'toocoolforschool',\n",
       "  'url': 'http://www.toocoolforschool.com/shop/goods/goods_view.php?goodsno=14110399&category=006',\n",
       "  'color': ''}]"
      ]
     },
     "metadata": {},
     "output_type": "display_data"
    },
    {
     "data": {
      "text/plain": [
       "[{'name': '★20%할인★에그 레미디 팩 샴푸',\n",
       "  'image': 'http://www.toocoolforschool.com/shop/data/goods/1526350477503l0.jpg',\n",
       "  'category': '홈 > E-SHOP > BRAND LINE',\n",
       "  'volume': '200g',\n",
       "  'originalPrice': 15000,\n",
       "  'salePrice': 12000,\n",
       "  'brand': 'toocoolforschool',\n",
       "  'url': 'http://www.toocoolforschool.com/shop/goods/goods_view.php?goodsno=14110352&category=006',\n",
       "  'color': ''}]"
      ]
     },
     "metadata": {},
     "output_type": "display_data"
    },
    {
     "data": {
      "text/plain": [
       "[{'name': '코코넛 밀키 바디 스크럽',\n",
       "  'image': 'http://www.toocoolforschool.com/shop/data/goods/1505714644793l0.jpg',\n",
       "  'category': '홈 > E-SHOP > BRAND LINE',\n",
       "  'volume': '170g',\n",
       "  'originalPrice': 15000,\n",
       "  'salePrice': 15000,\n",
       "  'brand': 'toocoolforschool',\n",
       "  'url': 'http://www.toocoolforschool.com/shop/goods/goods_view.php?goodsno=14110300&category=006',\n",
       "  'color': ''}]"
      ]
     },
     "metadata": {},
     "output_type": "display_data"
    },
    {
     "data": {
      "text/plain": [
       "[{'name': '코코넛 밀키 오일 샤워',\n",
       "  'image': 'http://www.toocoolforschool.com/shop/data/goods/1496406166347l0.jpg',\n",
       "  'category': '홈 > E-SHOP > BRAND LINE',\n",
       "  'volume': '300ml',\n",
       "  'originalPrice': 15000,\n",
       "  'salePrice': 15000,\n",
       "  'brand': 'toocoolforschool',\n",
       "  'url': 'http://www.toocoolforschool.com/shop/goods/goods_view.php?goodsno=14110299&category=006',\n",
       "  'color': ''}]"
      ]
     },
     "metadata": {},
     "output_type": "display_data"
    },
    {
     "data": {
      "text/plain": [
       "[{'name': '엔젤 핸드크림',\n",
       "  'image': 'http://www.toocoolforschool.com/shop/data/goods/1496410724995l0.jpg',\n",
       "  'category': '홈 > E-SHOP > BRAND LINE',\n",
       "  'volume': '40ml',\n",
       "  'originalPrice': 7000,\n",
       "  'salePrice': 7000,\n",
       "  'brand': 'toocoolforschool',\n",
       "  'url': 'http://www.toocoolforschool.com/shop/goods/goods_view.php?goodsno=14110162&category=006',\n",
       "  'color': '모링가  [품절]'},\n",
       " {'name': '엔젤 핸드크림',\n",
       "  'image': 'http://www.toocoolforschool.com/shop/data/goods/1496410724995l0.jpg',\n",
       "  'category': '홈 > E-SHOP > BRAND LINE',\n",
       "  'volume': '40ml',\n",
       "  'originalPrice': 7000,\n",
       "  'salePrice': 7000,\n",
       "  'brand': 'toocoolforschool',\n",
       "  'url': 'http://www.toocoolforschool.com/shop/goods/goods_view.php?goodsno=14110162&category=006',\n",
       "  'color': '쉐어버터  [품절]'},\n",
       " {'name': '엔젤 핸드크림',\n",
       "  'image': 'http://www.toocoolforschool.com/shop/data/goods/1496410724995l0.jpg',\n",
       "  'category': '홈 > E-SHOP > BRAND LINE',\n",
       "  'volume': '40ml',\n",
       "  'originalPrice': 7000,\n",
       "  'salePrice': 7000,\n",
       "  'brand': 'toocoolforschool',\n",
       "  'url': 'http://www.toocoolforschool.com/shop/goods/goods_view.php?goodsno=14110162&category=006',\n",
       "  'color': '자몽  [품절]'}]"
      ]
     },
     "metadata": {},
     "output_type": "display_data"
    },
    {
     "data": {
      "text/plain": [
       "[{'name': '★20%할인★에그 무스 바디오일',\n",
       "  'image': 'http://www.toocoolforschool.com/shop/data/goods/1496407737377l0.jpg',\n",
       "  'category': '홈 > E-SHOP > BRAND LINE',\n",
       "  'volume': '150ml',\n",
       "  'originalPrice': 17000,\n",
       "  'salePrice': 13600,\n",
       "  'brand': 'toocoolforschool',\n",
       "  'url': 'http://www.toocoolforschool.com/shop/goods/goods_view.php?goodsno=14110102&category=006',\n",
       "  'color': ''}]"
      ]
     },
     "metadata": {},
     "output_type": "display_data"
    },
    {
     "data": {
      "text/plain": [
       "[{'name': '코코넛 슈가  스크럽 립밤',\n",
       "  'image': 'http://www.toocoolforschool.com/shop/data/goods/1545019078741l0.jpg',\n",
       "  'category': '홈 > E-SHOP > BRAND LINE',\n",
       "  'volume': '3.4g',\n",
       "  'originalPrice': 9800,\n",
       "  'salePrice': 9800,\n",
       "  'brand': 'toocoolforschool',\n",
       "  'url': 'http://www.toocoolforschool.com/shop/goods/goods_view.php?goodsno=14110430&category=006',\n",
       "  'color': ''}]"
      ]
     },
     "metadata": {},
     "output_type": "display_data"
    },
    {
     "data": {
      "text/plain": [
       "[{'name': '★30%할인★펌킨 슬림 바디 쉐이퍼',\n",
       "  'image': 'http://www.toocoolforschool.com/shop/data/goods/153049846770l0.jpg',\n",
       "  'category': '홈 > E-SHOP > BRAND LINE',\n",
       "  'volume': '200ml',\n",
       "  'originalPrice': 18500,\n",
       "  'salePrice': 12950,\n",
       "  'brand': 'toocoolforschool',\n",
       "  'url': 'http://www.toocoolforschool.com/shop/goods/goods_view.php?goodsno=14110433&category=006',\n",
       "  'color': ''}]"
      ]
     },
     "metadata": {},
     "output_type": "display_data"
    },
    {
     "data": {
      "text/plain": [
       "[{'name': '★20%할인★에그 레미디 헤어 오일',\n",
       "  'image': 'http://www.toocoolforschool.com/shop/data/goods/1533099075655l0.jpg',\n",
       "  'category': '홈 > E-SHOP > BRAND LINE',\n",
       "  'volume': '100ml',\n",
       "  'originalPrice': 15000,\n",
       "  'salePrice': 12000,\n",
       "  'brand': 'toocoolforschool',\n",
       "  'url': 'http://www.toocoolforschool.com/shop/goods/goods_view.php?goodsno=14110448&category=006',\n",
       "  'color': ''}]"
      ]
     },
     "metadata": {},
     "output_type": "display_data"
    },
    {
     "data": {
      "text/plain": [
       "[{'name': '코코넛 핸드 앤 네일 트리트먼트',\n",
       "  'image': 'http://www.toocoolforschool.com/shop/data/goods/1545019108952l0.jpg',\n",
       "  'category': '홈 > E-SHOP > BRAND LINE',\n",
       "  'volume': '50ml',\n",
       "  'originalPrice': 7500,\n",
       "  'salePrice': 7500,\n",
       "  'brand': 'toocoolforschool',\n",
       "  'url': 'http://www.toocoolforschool.com/shop/goods/goods_view.php?goodsno=14110455&category=006',\n",
       "  'color': ''}]"
      ]
     },
     "metadata": {},
     "output_type": "display_data"
    },
    {
     "data": {
      "text/plain": [
       "[{'name': '★2+1★에그 레미디 헤어케어 3종',\n",
       "  'image': 'http://www.toocoolforschool.com/shop/data/goods/1546223495321l0.jpg',\n",
       "  'category': '홈 > E-SHOP > BRAND LINE',\n",
       "  'volume': '100ml,200ml,200ml',\n",
       "  'originalPrice': 45000,\n",
       "  'salePrice': 30000,\n",
       "  'brand': 'toocoolforschool',\n",
       "  'url': 'http://www.toocoolforschool.com/shop/goods/goods_view.php?goodsno=14110477&category=006',\n",
       "  'color': '헤어오일+레미디팩샴푸+레미디헤어팩'},\n",
       " {'name': '★2+1★에그 레미디 헤어케어 3종',\n",
       "  'image': 'http://www.toocoolforschool.com/shop/data/goods/1546223495321l0.jpg',\n",
       "  'category': '홈 > E-SHOP > BRAND LINE',\n",
       "  'volume': '100ml,200ml,200ml',\n",
       "  'originalPrice': 45000,\n",
       "  'salePrice': 30000,\n",
       "  'brand': 'toocoolforschool',\n",
       "  'url': 'http://www.toocoolforschool.com/shop/goods/goods_view.php?goodsno=14110477&category=006',\n",
       "  'color': '헤어오일 2개+레미디팩샴푸'},\n",
       " {'name': '★2+1★에그 레미디 헤어케어 3종',\n",
       "  'image': 'http://www.toocoolforschool.com/shop/data/goods/1546223495321l0.jpg',\n",
       "  'category': '홈 > E-SHOP > BRAND LINE',\n",
       "  'volume': '100ml,200ml,200ml',\n",
       "  'originalPrice': 45000,\n",
       "  'salePrice': 30000,\n",
       "  'brand': 'toocoolforschool',\n",
       "  'url': 'http://www.toocoolforschool.com/shop/goods/goods_view.php?goodsno=14110477&category=006',\n",
       "  'color': '헤어오일 2개+레미디헤어팩'},\n",
       " {'name': '★2+1★에그 레미디 헤어케어 3종',\n",
       "  'image': 'http://www.toocoolforschool.com/shop/data/goods/1546223495321l0.jpg',\n",
       "  'category': '홈 > E-SHOP > BRAND LINE',\n",
       "  'volume': '100ml,200ml,200ml',\n",
       "  'originalPrice': 45000,\n",
       "  'salePrice': 30000,\n",
       "  'brand': 'toocoolforschool',\n",
       "  'url': 'http://www.toocoolforschool.com/shop/goods/goods_view.php?goodsno=14110477&category=006',\n",
       "  'color': '레미디팩샴푸 2개+ 헤어오일'},\n",
       " {'name': '★2+1★에그 레미디 헤어케어 3종',\n",
       "  'image': 'http://www.toocoolforschool.com/shop/data/goods/1546223495321l0.jpg',\n",
       "  'category': '홈 > E-SHOP > BRAND LINE',\n",
       "  'volume': '100ml,200ml,200ml',\n",
       "  'originalPrice': 45000,\n",
       "  'salePrice': 30000,\n",
       "  'brand': 'toocoolforschool',\n",
       "  'url': 'http://www.toocoolforschool.com/shop/goods/goods_view.php?goodsno=14110477&category=006',\n",
       "  'color': '레미디팩샴푸 2개+ 레미디헤어팩'},\n",
       " {'name': '★2+1★에그 레미디 헤어케어 3종',\n",
       "  'image': 'http://www.toocoolforschool.com/shop/data/goods/1546223495321l0.jpg',\n",
       "  'category': '홈 > E-SHOP > BRAND LINE',\n",
       "  'volume': '100ml,200ml,200ml',\n",
       "  'originalPrice': 45000,\n",
       "  'salePrice': 30000,\n",
       "  'brand': 'toocoolforschool',\n",
       "  'url': 'http://www.toocoolforschool.com/shop/goods/goods_view.php?goodsno=14110477&category=006',\n",
       "  'color': '레미디헤어팩 2개+ 헤어오일'},\n",
       " {'name': '★2+1★에그 레미디 헤어케어 3종',\n",
       "  'image': 'http://www.toocoolforschool.com/shop/data/goods/1546223495321l0.jpg',\n",
       "  'category': '홈 > E-SHOP > BRAND LINE',\n",
       "  'volume': '100ml,200ml,200ml',\n",
       "  'originalPrice': 45000,\n",
       "  'salePrice': 30000,\n",
       "  'brand': 'toocoolforschool',\n",
       "  'url': 'http://www.toocoolforschool.com/shop/goods/goods_view.php?goodsno=14110477&category=006',\n",
       "  'color': '레미디헤어팩 2개+ 레미디팩샴푸'}]"
      ]
     },
     "metadata": {},
     "output_type": "display_data"
    },
    {
     "data": {
      "text/plain": [
       "[{'name': '★100% 천연양모★아트클래스 아티스트 멀티 블렌더',\n",
       "  'image': 'http://www.toocoolforschool.com/shop/data/goods/1496408720745l0.jpg',\n",
       "  'category': '홈 > E-SHOP > BRAND LINE',\n",
       "  'volume': '1.9cmX3.2cm / 15.8cm',\n",
       "  'originalPrice': 16000,\n",
       "  'salePrice': 16000,\n",
       "  'brand': 'toocoolforschool',\n",
       "  'url': 'http://www.toocoolforschool.com/shop/goods/goods_view.php?goodsno=14110047&category=007',\n",
       "  'color': ''}]"
      ]
     },
     "metadata": {},
     "output_type": "display_data"
    },
    {
     "data": {
      "text/plain": [
       "[{'name': '★100% 천연양모★아트클래스 아티스트 디파인 블렌더',\n",
       "  'image': 'http://www.toocoolforschool.com/shop/data/goods/1496406030984l0.jpg',\n",
       "  'category': '홈 > E-SHOP > BRAND LINE',\n",
       "  'volume': '1.3cm X 2.0cm / 14.7cm',\n",
       "  'originalPrice': 9000,\n",
       "  'salePrice': 9000,\n",
       "  'brand': 'toocoolforschool',\n",
       "  'url': 'http://www.toocoolforschool.com/shop/goods/goods_view.php?goodsno=14110304&category=007',\n",
       "  'color': ''}]"
      ]
     },
     "metadata": {},
     "output_type": "display_data"
    },
    {
     "data": {
      "text/plain": [
       "[{'name': '★뉴타입★다이노플라츠 디얼 브라키오사우르스',\n",
       "  'image': 'http://www.toocoolforschool.com/shop/data/goods/1496412283352l0.jpg',\n",
       "  'category': '홈 > E-SHOP > BRAND LINE',\n",
       "  'volume': '50매',\n",
       "  'originalPrice': 5000,\n",
       "  'salePrice': 5000,\n",
       "  'brand': 'toocoolforschool',\n",
       "  'url': 'http://www.toocoolforschool.com/shop/goods/goods_view.php?goodsno=14110063&category=007',\n",
       "  'color': '1호 멀버리'},\n",
       " {'name': '★뉴타입★다이노플라츠 디얼 브라키오사우르스',\n",
       "  'image': 'http://www.toocoolforschool.com/shop/data/goods/1496412283352l0.jpg',\n",
       "  'category': '홈 > E-SHOP > BRAND LINE',\n",
       "  'volume': '50매',\n",
       "  'originalPrice': 5000,\n",
       "  'salePrice': 5000,\n",
       "  'brand': 'toocoolforschool',\n",
       "  'url': 'http://www.toocoolforschool.com/shop/goods/goods_view.php?goodsno=14110063&category=007',\n",
       "  'color': '★NEW★2호 그린티'},\n",
       " {'name': '★뉴타입★다이노플라츠 디얼 브라키오사우르스',\n",
       "  'image': 'http://www.toocoolforschool.com/shop/data/goods/1496412283352l0.jpg',\n",
       "  'category': '홈 > E-SHOP > BRAND LINE',\n",
       "  'volume': '50매',\n",
       "  'originalPrice': 5000,\n",
       "  'salePrice': 5000,\n",
       "  'brand': 'toocoolforschool',\n",
       "  'url': 'http://www.toocoolforschool.com/shop/goods/goods_view.php?goodsno=14110063&category=007',\n",
       "  'color': '★NEW★3호 차콜'}]"
      ]
     },
     "metadata": {},
     "output_type": "display_data"
    },
    {
     "data": {
      "text/plain": [
       "[{'name': '★뉴타입★다이노플라츠 디얼 브라키오사우르스 (리필)',\n",
       "  'image': 'http://www.toocoolforschool.com/shop/data/goods/149641232168l0.jpg',\n",
       "  'category': '홈 > E-SHOP > BRAND LINE',\n",
       "  'volume': '50매',\n",
       "  'originalPrice': 2500,\n",
       "  'salePrice': 2500,\n",
       "  'brand': 'toocoolforschool',\n",
       "  'url': 'http://www.toocoolforschool.com/shop/goods/goods_view.php?goodsno=14110062&category=007',\n",
       "  'color': '1호 멀버리'},\n",
       " {'name': '★뉴타입★다이노플라츠 디얼 브라키오사우르스 (리필)',\n",
       "  'image': 'http://www.toocoolforschool.com/shop/data/goods/149641232168l0.jpg',\n",
       "  'category': '홈 > E-SHOP > BRAND LINE',\n",
       "  'volume': '50매',\n",
       "  'originalPrice': 2500,\n",
       "  'salePrice': 2500,\n",
       "  'brand': 'toocoolforschool',\n",
       "  'url': 'http://www.toocoolforschool.com/shop/goods/goods_view.php?goodsno=14110062&category=007',\n",
       "  'color': '★NEW★2호 그린티'},\n",
       " {'name': '★뉴타입★다이노플라츠 디얼 브라키오사우르스 (리필)',\n",
       "  'image': 'http://www.toocoolforschool.com/shop/data/goods/149641232168l0.jpg',\n",
       "  'category': '홈 > E-SHOP > BRAND LINE',\n",
       "  'volume': '50매',\n",
       "  'originalPrice': 2500,\n",
       "  'salePrice': 2500,\n",
       "  'brand': 'toocoolforschool',\n",
       "  'url': 'http://www.toocoolforschool.com/shop/goods/goods_view.php?goodsno=14110062&category=007',\n",
       "  'color': '★NEW★3호 차콜'}]"
      ]
     },
     "metadata": {},
     "output_type": "display_data"
    },
    {
     "data": {
      "text/plain": [
       "[{'name': '누드 핏 쌍꺼풀 테이프 11회x2매입 (44개입)',\n",
       "  'image': 'http://www.toocoolforschool.com/shop/data/goods/1496407202709l0.jpg',\n",
       "  'category': '홈 > E-SHOP > BRAND LINE',\n",
       "  'volume': '11회x2매입 (44개입)',\n",
       "  'originalPrice': 2500,\n",
       "  'salePrice': 2500,\n",
       "  'brand': 'toocoolforschool',\n",
       "  'url': 'http://www.toocoolforschool.com/shop/goods/goods_view.php?goodsno=14110237&category=007',\n",
       "  'color': ''}]"
      ]
     },
     "metadata": {},
     "output_type": "display_data"
    },
    {
     "data": {
      "text/plain": [
       "[{'name': '쌍꺼풀 테이프(양면) 11회x2매입 (44개입)',\n",
       "  'image': 'http://www.toocoolforschool.com/shop/data/goods/1496406347816l0.jpg',\n",
       "  'category': '홈 > E-SHOP > BRAND LINE',\n",
       "  'volume': '11회*2매입 (44개입)',\n",
       "  'originalPrice': 2500,\n",
       "  'salePrice': 2500,\n",
       "  'brand': 'toocoolforschool',\n",
       "  'url': 'http://www.toocoolforschool.com/shop/goods/goods_view.php?goodsno=14110292&category=007',\n",
       "  'color': ''}]"
      ]
     },
     "metadata": {},
     "output_type": "display_data"
    },
    {
     "data": {
      "text/plain": [
       "[{'name': '아트클래스 아티스트 파운데이션',\n",
       "  'image': 'http://www.toocoolforschool.com/shop/data/goods/1496412980169l0.jpg',\n",
       "  'category': '홈 > E-SHOP > BRAND LINE',\n",
       "  'volume': '2.3cmX2.9cm / 15.5cm',\n",
       "  'originalPrice': 16000,\n",
       "  'salePrice': 16000,\n",
       "  'brand': 'toocoolforschool',\n",
       "  'url': 'http://www.toocoolforschool.com/shop/goods/goods_view.php?goodsno=14110043&category=007',\n",
       "  'color': ''}]"
      ]
     },
     "metadata": {},
     "output_type": "display_data"
    },
    {
     "data": {
      "text/plain": [
       "[{'name': '★다각도 멀티 엣지★아트클래스 아티스트 피팅 퍼프',\n",
       "  'image': 'http://www.toocoolforschool.com/shop/data/goods/1496403968623l0.jpg',\n",
       "  'category': '홈 > E-SHOP > BRAND LINE',\n",
       "  'volume': '1EA',\n",
       "  'originalPrice': 10000,\n",
       "  'salePrice': 10000,\n",
       "  'brand': 'toocoolforschool',\n",
       "  'url': 'http://www.toocoolforschool.com/shop/goods/goods_view.php?goodsno=14110338&category=007',\n",
       "  'color': ''}]"
      ]
     },
     "metadata": {},
     "output_type": "display_data"
    },
    {
     "data": {
      "text/plain": [
       "[{'name': '아트클래스 아티스트 아이래쉬 컬러 (리필 고무 2개 내장)',\n",
       "  'image': 'http://www.toocoolforschool.com/shop/data/goods/1496406256838l0.jpg',\n",
       "  'category': '홈 > E-SHOP > BRAND LINE',\n",
       "  'volume': '본품 1EA (+리필 2EA)',\n",
       "  'originalPrice': 5000,\n",
       "  'salePrice': 5000,\n",
       "  'brand': 'toocoolforschool',\n",
       "  'url': 'http://www.toocoolforschool.com/shop/goods/goods_view.php?goodsno=14110294&category=007',\n",
       "  'color': ''}]"
      ]
     },
     "metadata": {},
     "output_type": "display_data"
    },
    {
     "data": {
      "text/plain": [
       "[{'name': '아트클래스 아티스트 립 브러쉬',\n",
       "  'image': 'http://www.toocoolforschool.com/shop/data/goods/1496412851229l0.jpg',\n",
       "  'category': '홈 > E-SHOP > BRAND LINE',\n",
       "  'volume': '0.5cmX0.9cm / 11.3cm',\n",
       "  'originalPrice': 8000,\n",
       "  'salePrice': 8000,\n",
       "  'brand': 'toocoolforschool',\n",
       "  'url': 'http://www.toocoolforschool.com/shop/goods/goods_view.php?goodsno=14110048&category=007',\n",
       "  'color': ''}]"
      ]
     },
     "metadata": {},
     "output_type": "display_data"
    },
    {
     "data": {
      "text/plain": [
       "[{'name': '★100% 천연마모★아트클래스 아티스트 아이 섀도우',\n",
       "  'image': 'http://www.toocoolforschool.com/shop/data/goods/1496412878790l0.jpg',\n",
       "  'category': '홈 > E-SHOP > BRAND LINE',\n",
       "  'volume': '1cmX1cm / 총 길이 13.9cm',\n",
       "  'originalPrice': 9000,\n",
       "  'salePrice': 9000,\n",
       "  'brand': 'toocoolforschool',\n",
       "  'url': 'http://www.toocoolforschool.com/shop/goods/goods_view.php?goodsno=14110046&category=007',\n",
       "  'color': ''}]"
      ]
     },
     "metadata": {},
     "output_type": "display_data"
    },
    {
     "data": {
      "text/plain": [
       "[{'name': '★100% 천연마모★아트클래스 아티스트 아이 스머지',\n",
       "  'image': 'http://www.toocoolforschool.com/shop/data/goods/1496412909478l0.jpg',\n",
       "  'category': '홈 > E-SHOP > BRAND LINE',\n",
       "  'volume': '0.6cmX0.9cm /  총 길이12.8cm',\n",
       "  'originalPrice': 9000,\n",
       "  'salePrice': 9000,\n",
       "  'brand': 'toocoolforschool',\n",
       "  'url': 'http://www.toocoolforschool.com/shop/goods/goods_view.php?goodsno=14110045&category=007',\n",
       "  'color': ''}]"
      ]
     },
     "metadata": {},
     "output_type": "display_data"
    },
    {
     "data": {
      "text/plain": [
       "[{'name': '★100% 천연양모★아트클래스 아티스트 피니쉬 파우더',\n",
       "  'image': 'http://www.toocoolforschool.com/shop/data/goods/1496412995763l0.jpg',\n",
       "  'category': '홈 > E-SHOP > BRAND LINE',\n",
       "  'volume': '브러쉬 폭 2.5cm / 모 길이 5cm / 총 길이 17.5cm',\n",
       "  'originalPrice': 23000,\n",
       "  'salePrice': 23000,\n",
       "  'brand': 'toocoolforschool',\n",
       "  'url': 'http://www.toocoolforschool.com/shop/goods/goods_view.php?goodsno=14110041&category=007',\n",
       "  'color': ''}]"
      ]
     },
     "metadata": {},
     "output_type": "display_data"
    },
    {
     "data": {
      "text/plain": [
       "[{'name': '★100% 천연양모★아트클래스 아티스트 멀티 컨투어',\n",
       "  'image': 'http://www.toocoolforschool.com/shop/data/goods/1496406057685l0.jpg',\n",
       "  'category': '홈 > E-SHOP > BRAND LINE',\n",
       "  'volume': '2.5cm X 4.0cm / 16.7cm',\n",
       "  'originalPrice': 16000,\n",
       "  'salePrice': 16000,\n",
       "  'brand': 'toocoolforschool',\n",
       "  'url': 'http://www.toocoolforschool.com/shop/goods/goods_view.php?goodsno=14110303&category=007',\n",
       "  'color': ''}]"
      ]
     },
     "metadata": {},
     "output_type": "display_data"
    },
    {
     "data": {
      "text/plain": [
       "[{'name': '눈썹 수정칼 (2개입)',\n",
       "  'image': 'http://www.toocoolforschool.com/shop/data/goods/1496410370410l0.jpg',\n",
       "  'category': '홈 > E-SHOP > BRAND LINE',\n",
       "  'volume': '2개입',\n",
       "  'originalPrice': 2000,\n",
       "  'salePrice': 2000,\n",
       "  'brand': 'toocoolforschool',\n",
       "  'url': 'http://www.toocoolforschool.com/shop/goods/goods_view.php?goodsno=14110181&category=007',\n",
       "  'color': ''}]"
      ]
     },
     "metadata": {},
     "output_type": "display_data"
    },
    {
     "data": {
      "text/plain": [
       "[{'name': '머쉬멜로우 퍼프',\n",
       "  'image': 'http://www.toocoolforschool.com/shop/data/goods/1496410542431l0.jpg',\n",
       "  'category': '홈 > E-SHOP > BRAND LINE',\n",
       "  'volume': '1개',\n",
       "  'originalPrice': 5000,\n",
       "  'salePrice': 5000,\n",
       "  'brand': 'toocoolforschool',\n",
       "  'url': 'http://www.toocoolforschool.com/shop/goods/goods_view.php?goodsno=14110180&category=007',\n",
       "  'color': '핑크'},\n",
       " {'name': '머쉬멜로우 퍼프',\n",
       "  'image': 'http://www.toocoolforschool.com/shop/data/goods/1496410542431l0.jpg',\n",
       "  'category': '홈 > E-SHOP > BRAND LINE',\n",
       "  'volume': '1개',\n",
       "  'originalPrice': 5000,\n",
       "  'salePrice': 5000,\n",
       "  'brand': 'toocoolforschool',\n",
       "  'url': 'http://www.toocoolforschool.com/shop/goods/goods_view.php?goodsno=14110180&category=007',\n",
       "  'color': '화이트'}]"
      ]
     },
     "metadata": {},
     "output_type": "display_data"
    },
    {
     "data": {
      "text/plain": [
       "[{'name': '원형 퍼프 (2개입)',\n",
       "  'image': 'http://www.toocoolforschool.com/shop/data/goods/1496410647283l0.jpg',\n",
       "  'category': '홈 > E-SHOP > BRAND LINE',\n",
       "  'volume': '2pcs',\n",
       "  'originalPrice': 1500,\n",
       "  'salePrice': 1500,\n",
       "  'brand': 'toocoolforschool',\n",
       "  'url': 'http://www.toocoolforschool.com/shop/goods/goods_view.php?goodsno=14110175&category=007',\n",
       "  'color': ''}]"
      ]
     },
     "metadata": {},
     "output_type": "display_data"
    },
    {
     "data": {
      "text/plain": [
       "[{'name': '펜슬 전용 샤프너 12mm',\n",
       "  'image': 'http://www.toocoolforschool.com/shop/data/goods/1498805030829l0.jpg',\n",
       "  'category': '홈 > E-SHOP > BRAND LINE',\n",
       "  'volume': '12mm',\n",
       "  'originalPrice': 1000,\n",
       "  'salePrice': 1000,\n",
       "  'brand': 'toocoolforschool',\n",
       "  'url': 'http://www.toocoolforschool.com/shop/goods/goods_view.php?goodsno=14110173&category=007',\n",
       "  'color': ''}]"
      ]
     },
     "metadata": {},
     "output_type": "display_data"
    },
    {
     "data": {
      "text/plain": [
       "[{'name': '★2in1★아티스트 글로잉 듀얼 터치',\n",
       "  'image': 'http://www.toocoolforschool.com/shop/data/goods/1510276885842l0.jpg',\n",
       "  'category': '홈 > E-SHOP > BRAND LINE',\n",
       "  'volume': '1EA',\n",
       "  'originalPrice': 5000,\n",
       "  'salePrice': 5000,\n",
       "  'brand': 'toocoolforschool',\n",
       "  'url': 'http://www.toocoolforschool.com/shop/goods/goods_view.php?goodsno=14110413&category=007',\n",
       "  'color': ''}]"
      ]
     },
     "metadata": {},
     "output_type": "display_data"
    },
    {
     "data": {
      "text/plain": [
       "[{'name': '아트클래스 듀얼 아이브로우 브러쉬',\n",
       "  'image': 'http://www.toocoolforschool.com/shop/data/goods/1535679957231l0.jpg',\n",
       "  'category': '홈 > E-SHOP > BRAND LINE',\n",
       "  'volume': '0.8 cm X 16 cm',\n",
       "  'originalPrice': 8000,\n",
       "  'salePrice': 8000,\n",
       "  'brand': 'toocoolforschool',\n",
       "  'url': 'http://www.toocoolforschool.com/shop/goods/goods_view.php?goodsno=14110461&category=007',\n",
       "  'color': ''}]"
      ]
     },
     "metadata": {},
     "output_type": "display_data"
    },
    {
     "data": {
      "text/plain": [
       "[{'name': '★2in1★아트클래스 듀얼 컨투어 브러쉬',\n",
       "  'image': 'http://www.toocoolforschool.com/shop/data/goods/1540513539951l0.jpg',\n",
       "  'category': '홈 > E-SHOP > BRAND LINE',\n",
       "  'volume': '1.9cmX3.2cm / 15.8cm',\n",
       "  'originalPrice': 15000,\n",
       "  'salePrice': 15000,\n",
       "  'brand': 'toocoolforschool',\n",
       "  'url': 'http://www.toocoolforschool.com/shop/goods/goods_view.php?goodsno=14110483&category=007',\n",
       "  'color': ''}]"
      ]
     },
     "metadata": {},
     "output_type": "display_data"
    },
    {
     "data": {
      "text/plain": [
       "[{'name': '아트클래스 퀵 드라이 브러쉬 클렌징 티슈',\n",
       "  'image': 'http://www.toocoolforschool.com/shop/data/goods/1544507126800l0.jpg',\n",
       "  'category': '홈 > E-SHOP > BRAND LINE',\n",
       "  'volume': '77g_20ea',\n",
       "  'originalPrice': 2500,\n",
       "  'salePrice': 2500,\n",
       "  'brand': 'toocoolforschool',\n",
       "  'url': 'http://www.toocoolforschool.com/shop/goods/goods_view.php?goodsno=14110498&category=007',\n",
       "  'color': ''}]"
      ]
     },
     "metadata": {},
     "output_type": "display_data"
    }
   ],
   "source": [
    "driver.get(url_products)\n",
    "result= []\n",
    "categoryList = getCategoryList()\n",
    "for category in categoryList:\n",
    "    driver.get(category)\n",
    "    itemList=[]\n",
    "    itemList += getCategoryItemList()\n",
    "    for item in itemList:\n",
    "        driver.get(item)\n",
    "        result += getItem()\n"
   ]
  },
  {
   "cell_type": "code",
   "execution_count": 11,
   "metadata": {},
   "outputs": [],
   "source": [
    "output = json.dumps(result,ensure_ascii=False, indent='\\t')\n",
    "\n",
    "writeJSON(output, output_name = 'toocoolforschool.json')"
   ]
  },
  {
   "cell_type": "code",
   "execution_count": null,
   "metadata": {},
   "outputs": [],
   "source": []
  }
 ],
 "metadata": {
  "kernelspec": {
   "display_name": "Python 3",
   "language": "python",
   "name": "python3"
  },
  "language_info": {
   "codemirror_mode": {
    "name": "ipython",
    "version": 3
   },
   "file_extension": ".py",
   "mimetype": "text/x-python",
   "name": "python",
   "nbconvert_exporter": "python",
   "pygments_lexer": "ipython3",
   "version": "3.7.0"
  }
 },
 "nbformat": 4,
 "nbformat_minor": 2
}
