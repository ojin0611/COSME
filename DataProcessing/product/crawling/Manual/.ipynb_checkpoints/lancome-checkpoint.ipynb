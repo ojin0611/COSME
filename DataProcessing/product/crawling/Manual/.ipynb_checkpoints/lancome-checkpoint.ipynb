{
 "cells": [
  {
   "cell_type": "markdown",
   "metadata": {},
   "source": [
    "# lancome"
   ]
  },
  {
   "cell_type": "code",
   "execution_count": 1,
   "metadata": {},
   "outputs": [],
   "source": [
    "from bs4 import BeautifulSoup as bs              # 데이터파싱 라이브러리\n",
    "from selenium import webdriver\n",
    "import json\n",
    "import platform\n",
    "import re\n",
    "import time\n",
    "import copy"
   ]
  },
  {
   "cell_type": "code",
   "execution_count": 2,
   "metadata": {},
   "outputs": [],
   "source": [
    "def getNumber(string):\n",
    "    numExtracter = re.compile('[0-9]+')\n",
    "    return int(''.join(numExtracter.findall(string)))\n",
    "    "
   ]
  },
  {
   "cell_type": "code",
   "execution_count": 3,
   "metadata": {},
   "outputs": [],
   "source": [
    "def getCategoryList(categoryNameList):\n",
    "    html = driver.page_source\n",
    "    soup = bs(html, 'html.parser')\n",
    "    categories = soup.find('ul',{'class':'mobile-menu scrollable-menu'})\n",
    "    categoryList = []\n",
    "    for categoryName in categoryNameList:\n",
    "        categoryList.append(categories.find('a', text = re.compile(categoryName))['href'])\n",
    "    \n",
    "    return categoryList\n"
   ]
  },
  {
   "cell_type": "code",
   "execution_count": 4,
   "metadata": {},
   "outputs": [],
   "source": [
    "def clickSeeMoreButton():\n",
    "    html = driver.page_source\n",
    "    soup = bs(html, 'html.parser')\n",
    "    button = soup.find('a',text='더 보기')\n",
    "    driver.get(button['href'])\n",
    "    return\n"
   ]
  },
  {
   "cell_type": "code",
   "execution_count": 5,
   "metadata": {},
   "outputs": [],
   "source": [
    "def getItemList():\n",
    "    html = driver.page_source\n",
    "    soup = bs(html, 'html.parser')\n",
    "    items = soup.find('div',{'class':\n",
    "        'search_result_items row small-collapse xlarge-uncollapse b-search_result-list'}).find_all('h3')\n",
    "    itemList=[]\n",
    "    for item in items:\n",
    "        itemList.append(item.a['href'])\n",
    "\n",
    "    return itemList # list    "
   ]
  },
  {
   "cell_type": "code",
   "execution_count": 10,
   "metadata": {},
   "outputs": [],
   "source": [
    "def getItem(categoryName):\n",
    "    \n",
    "    html = driver.page_source\n",
    "    soup = bs(html, 'html.parser')\n",
    "    item={'name':'#', 'url':'#', 'image':'#', 'salePrice':'#', 'originalPrice':'#', \n",
    "              'color':'#', 'category':'#', 'brand':'ohui','volume':'#'}\n",
    "    \n",
    "    info = soup.find('div',{'class':'product_detail pdp__detail small-12 medium-6 large-5 columns'})\n",
    "    \n",
    "    name = info.h1.get_text().strip() + ' '+ info.h2.get_text().strip()\n",
    "    item['name'] = name\n",
    "    \n",
    "    imageList = [soup.find('div',{'id':'wrap'}).a['href']] # main image\n",
    "    # image : 사진이 여러장이기도 하다.\n",
    "    # image 예시 > https://www.lancome.co.kr/kr/%ED%96%A5%EC%88%98/best-sellers/07210w-LAC.html#start=1&cgid=L1_Axe_Fragrance\n",
    "    item['image'] = imageList\n",
    "    \n",
    "    category = categoryName\n",
    "    item['category'] = category\n",
    "    \n",
    "    item['url'] = driver.current_url\n",
    "\n",
    "    # volume 예시 > https://www.lancome.co.kr/kr/%EC%8A%A4%ED%82%A8%EC%BC%80%EC%96%B4/%EC%A0%9C%ED%92%88-%EB%9D%BC%EC%9D%B8%EB%B3%84/%EC%A0%9C%EB%8B%88%ED%94%BC%EB%81%84/26901c-LAC.html\n",
    "    \n",
    "    # price : volume마다 가격 변한다. \n",
    "    # price 예시 > https://www.lancome.co.kr/kr/%EC%8A%A4%ED%82%A8%EC%BC%80%EC%96%B4/%EC%A0%9C%ED%92%88-%EB%9D%BC%EC%9D%B8%EB%B3%84/%EC%A0%9C%EB%8B%88%ED%94%BC%EB%81%84/26901c-LAC.html\n",
    "    \n",
    "    # color : 클릭시 다른 이미지 선택된다. 메인이미지의 변화가 존재하기도 한다. \n",
    "    # color 예시 > https://www.lancome.co.kr/kr/best-lips-awards/A00918-LAC.html#start=3&cgid=L1_L1_Axe_MakeUp\n",
    "\n",
    "    item['brand'] = 'lancome'\n",
    "    \n",
    "    items=[]\n",
    "    \n",
    "    items.append(item)\n",
    "        \n",
    "    display(items)\n",
    "\n",
    "    return items # list형태\n"
   ]
  },
  {
   "cell_type": "code",
   "execution_count": 9,
   "metadata": {},
   "outputs": [],
   "source": [
    "def writeJSON(jsonString, output_name='data.json'):\n",
    "    with open(output_name,'w',encoding='UTF-8') as file:\n",
    "        file.write(jsonString)\n"
   ]
  },
  {
   "cell_type": "code",
   "execution_count": 6,
   "metadata": {},
   "outputs": [],
   "source": [
    "path = '../chromedriver.exe' if (platform.system() == 'Windows') else '/Users/jg/Desktop/develop/DataTeam/DataProcessing/product/crawling/chromedriver';\n",
    "driver = webdriver.Chrome(path)\n",
    "\n",
    "url_home = 'https://www.lancome.co.kr'\n",
    "url_products = 'https://www.lancome.co.kr'\n",
    "\n",
    "driver.get(url_products)\n",
    "\n",
    "categoryNameList = ['스킨케어','메이크업','향수']\n",
    "categoryList=getCategoryList(categoryNameList)"
   ]
  },
  {
   "cell_type": "code",
   "execution_count": 11,
   "metadata": {},
   "outputs": [
    {
     "name": "stdout",
     "output_type": "stream",
     "text": [
      "상품개수 : 81\n"
     ]
    },
    {
     "data": {
      "text/plain": [
       "[{'name': 'UV EXPERT UV 엑스퍼트 유스 쉴드 톤업 자외선 차단제 SPF50+ PA++++',\n",
       "  'url': 'https://www.lancome.co.kr/kr/%EC%8A%A4%ED%82%A8%EC%BC%80%EC%96%B4/A00702-LAC.html',\n",
       "  'image': ['https://www.lancome.co.kr/dw/image/v2/AAWH_PRD/on/demandware.static/-/Sites-lancome-master-catalog/ko_KR/dwd26005d5/images/PACKSHOTS/SKINCARE/UVEX%202018%20TONE%20UP%20SPF50%2030ML/A00702-LAC/4935421651745.jpg?sw=750&sh=750&sm=fit&q=70'],\n",
       "  'salePrice': '#',\n",
       "  'originalPrice': '#',\n",
       "  'color': '#',\n",
       "  'category': '스킨케어',\n",
       "  'brand': 'lancome',\n",
       "  'volume': '#'}]"
      ]
     },
     "metadata": {},
     "output_type": "display_data"
    },
    {
     "data": {
      "text/plain": [
       "[{'name': 'ADVANCED GÊNIFIQUE 제니피끄 프로바이오틱스* 에센스',\n",
       "  'url': 'https://www.lancome.co.kr/kr/%EC%8A%A4%ED%82%A8%EC%BC%80%EC%96%B4/%EC%A0%9C%ED%92%88-%EB%9D%BC%EC%9D%B8%EB%B3%84/%EC%A0%9C%EB%8B%88%ED%94%BC%EB%81%84/26901c-LAC.html',\n",
       "  'image': ['https://www.lancome.co.kr/dw/image/v2/AAWH_PRD/on/demandware.static/-/Sites-lancome-master-catalog/default/dwaf843230/medias/sys_master/root/h43/hab/9112297209886/LORE-3605532978802-1.jpg?sw=650&sh=650&sm=fit&q=70'],\n",
       "  'salePrice': '#',\n",
       "  'originalPrice': '#',\n",
       "  'color': '#',\n",
       "  'category': '스킨케어',\n",
       "  'brand': 'lancome',\n",
       "  'volume': '#'}]"
      ]
     },
     "metadata": {},
     "output_type": "display_data"
    },
    {
     "data": {
      "text/plain": [
       "[{'name': 'UV EXPERT UV 엑스퍼트 유스 쉴드밀키 브라이트 SPF50+ PA++++',\n",
       "  'url': 'https://www.lancome.co.kr/kr/%EC%8A%A4%ED%82%A8%EC%BC%80%EC%96%B4/%EC%A0%9C%ED%92%88-%EB%9D%BC%EC%9D%B8%EB%B3%84/%EC%9C%A0%EB%B8%8C%EC%9D%B4-%EC%97%91%EC%8A%A4%ED%8D%BC%ED%8A%B8/A00282-LAC.html',\n",
       "  'image': ['https://www.lancome.co.kr/dw/image/v2/AAWH_PRD/on/demandware.static/-/Sites-lancome-master-catalog/ko_KR/dwb2847197/images/PACKSHOTS/SKINCARE/UV_Expert/4935421635943_UV_EXPERT_MILKY_BRIGHT_++++.jpg?sw=750&sh=750&sm=fit&sfrm=png&q=70'],\n",
       "  'salePrice': '#',\n",
       "  'originalPrice': '#',\n",
       "  'color': '#',\n",
       "  'category': '스킨케어',\n",
       "  'brand': 'lancome',\n",
       "  'volume': '#'}]"
      ]
     },
     "metadata": {},
     "output_type": "display_data"
    },
    {
     "data": {
      "text/plain": [
       "[{'name': 'ADVANCED GÊNIFIQUE 2019 제니피끄 10주년 스페셜 에디션',\n",
       "  'url': 'https://www.lancome.co.kr/kr/%EC%8B%A0%EC%A0%9C%ED%92%88/A00895-LAC.html',\n",
       "  'image': ['https://www.lancome.co.kr/dw/image/v2/AAWH_PRD/on/demandware.static/-/Sites-lancome-master-catalog/default/dwc6de68cb/images/PACKSHOTS/SKINCARE/GENIFIQUE/Limited_Edition_2019/3614272452206_advanced_genifique_serum_100_ml.jpg?sw=750&sh=750&sm=fit&q=70'],\n",
       "  'salePrice': '#',\n",
       "  'originalPrice': '#',\n",
       "  'color': '#',\n",
       "  'category': '스킨케어',\n",
       "  'brand': 'lancome',\n",
       "  'volume': '#'}]"
      ]
     },
     "metadata": {},
     "output_type": "display_data"
    },
    {
     "name": "stdout",
     "output_type": "stream",
     "text": [
      "상품개수 : 95\n"
     ]
    },
    {
     "data": {
      "text/plain": [
       "[{'name': 'TEINT IDOLE ULTRA WEAR 뗑 이돌 롱라스팅 파운데이션',\n",
       "  'url': 'https://www.lancome.co.kr/kr/%EB%A9%94%EC%9D%B4%ED%81%AC%EC%97%85/%ED%8E%98%EC%9D%B4%EC%8A%A4/%ED%8C%8C%EC%9A%B4%EB%8D%B0%EC%9D%B4%EC%85%98/A00961-LAC.html',\n",
       "  'image': ['https://www.lancome.co.kr/dw/image/v2/AAWH_PRD/on/demandware.static/-/Sites-lancome-master-catalog/ko_KR/dw3f7c4b32/images/PACKSHOTS/MAKEUP/FACE/TEINT_IDOLE_ULTRA-WEAR_ASIA-A00961-LAC/3614272030107_TIU-WEAR-Asie_B-01.jpg?sw=750&sh=750&sm=fit&q=70'],\n",
       "  'salePrice': '#',\n",
       "  'originalPrice': '#',\n",
       "  'color': '#',\n",
       "  'category': '메이크업',\n",
       "  'brand': 'lancome',\n",
       "  'volume': '#'}]"
      ]
     },
     "metadata": {},
     "output_type": "display_data"
    },
    {
     "data": {
      "text/plain": [
       "[{'name': \"L'ABSOLU ROUGE DRAMA MATTE 압솔뤼 루즈 드라마 마뜨\",\n",
       "  'url': 'https://www.lancome.co.kr/kr/%EC%8B%A0%EC%A0%9C%ED%92%88/A01102-LAC.html',\n",
       "  'image': ['https://www.lancome.co.kr/dw/image/v2/AAWH_PRD/on/demandware.static/-/Sites-lancome-master-catalog/ko_KR/dw3fadf5dc/images/PACKSHOTS/MAKEUP/LIPS/ABSOLU%20ROUGE%20DRAMA%20MATTE/0723-LAN-3614272011267-157-Obsessive-Red.jpg?sw=750&sh=750&sm=fit&q=70'],\n",
       "  'salePrice': '#',\n",
       "  'originalPrice': '#',\n",
       "  'color': '#',\n",
       "  'category': '메이크업',\n",
       "  'brand': 'lancome',\n",
       "  'volume': '#'}]"
      ]
     },
     "metadata": {},
     "output_type": "display_data"
    },
    {
     "data": {
      "text/plain": [
       "[{'name': \"L'ABSOLU ROUGE 압솔뤼 루즈 크림\",\n",
       "  'url': 'https://www.lancome.co.kr/kr/best-lips-awards/A00918-LAC.html',\n",
       "  'image': ['https://www.lancome.co.kr/dw/image/v2/AAWH_PRD/on/demandware.static/-/Sites-lancome-master-catalog/default/dw3a870fca/images/PACKSHOTS/MAKEUP/LIPS/ABSOLU_ROUGE_NEW/3614271426611_ABSOLU_ROUGE_CREAM_114.jpg?sw=750&sh=750&sm=fit&sfrm=png&q=70'],\n",
       "  'salePrice': '#',\n",
       "  'originalPrice': '#',\n",
       "  'color': '#',\n",
       "  'category': '메이크업',\n",
       "  'brand': 'lancome',\n",
       "  'volume': '#'}]"
      ]
     },
     "metadata": {},
     "output_type": "display_data"
    },
    {
     "data": {
      "text/plain": [
       "[{'name': 'TEINT MIRACLE 뗑 미라클 핏 파운데이션',\n",
       "  'url': 'https://www.lancome.co.kr/kr/A00510-LAC.html',\n",
       "  'image': ['https://www.lancome.co.kr/dw/image/v2/AAWH_PRD/on/demandware.static/-/Sites-lancome-master-catalog/default/dw3fb33eca/LAC_KR_PDP/makeup_teint%20miracle/3614271436603_Lancome_Teint_Miracle_O-01.jpg?sw=750&sh=750&sm=fit&sfrm=png&q=70'],\n",
       "  'salePrice': '#',\n",
       "  'originalPrice': '#',\n",
       "  'color': '#',\n",
       "  'category': '메이크업',\n",
       "  'brand': 'lancome',\n",
       "  'volume': '#'}]"
      ]
     },
     "metadata": {},
     "output_type": "display_data"
    },
    {
     "name": "stdout",
     "output_type": "stream",
     "text": [
      "상품개수 : 23\n"
     ]
    },
    {
     "data": {
      "text/plain": [
       "[{'name': 'TRESOR 라 뉘 트레조 오드 퍼퓸',\n",
       "  'url': 'https://www.lancome.co.kr/kr/%ED%96%A5%EC%88%98/best-sellers/07210w-LAC.html',\n",
       "  'image': ['https://www.lancome.co.kr/dw/image/v2/AAWH_PRD/on/demandware.static/-/Sites-lancome-master-catalog/default/dw90bfd930/medias/sys_master/root/h0d/hde/9099863654430/LORE-3605533315224-0.jpg?sw=750&sh=750&sm=fit&q=70'],\n",
       "  'salePrice': '#',\n",
       "  'originalPrice': '#',\n",
       "  'color': '#',\n",
       "  'category': '향수',\n",
       "  'brand': 'lancome',\n",
       "  'volume': '#'}]"
      ]
     },
     "metadata": {},
     "output_type": "display_data"
    },
    {
     "data": {
      "text/plain": [
       "[{'name': 'Maison Lancôme 우드 앙브루아지 오 드 퍼퓸',\n",
       "  'url': 'https://www.lancome.co.kr/kr/%ED%96%A5%EC%88%98/%EC%97%AC%EC%84%B1%EC%9A%A9-%ED%96%A5%EC%88%98/%EB%A9%94%EC%A2%85-%EB%9E%91%EC%BD%A4/A00125-LAC.html',\n",
       "  'image': ['https://www.lancome.co.kr/dw/image/v2/AAWH_PRD/on/demandware.static/-/Sites-lancome-master-catalog/ko_KR/dwa26095ea/images/PACKSHOTS/FRAGRANCE/MAISON_LANCOME/3614270284939_Oud_Ambrois/3614270284939_MAISON_LANCOME_Oud_Ambroisie_1.jpg?sw=750&sh=750&sm=fit&q=70'],\n",
       "  'salePrice': '#',\n",
       "  'originalPrice': '#',\n",
       "  'color': '#',\n",
       "  'category': '향수',\n",
       "  'brand': 'lancome',\n",
       "  'volume': '#'}]"
      ]
     },
     "metadata": {},
     "output_type": "display_data"
    },
    {
     "data": {
      "text/plain": [
       "[{'name': 'Maison Lancôme 파르페 드 로즈 오 드 퍼퓸',\n",
       "  'url': 'https://www.lancome.co.kr/kr/%ED%96%A5%EC%88%98/%EC%97%AC%EC%84%B1%EC%9A%A9-%ED%96%A5%EC%88%98/%EB%A9%94%EC%A2%85-%EB%9E%91%EC%BD%A4/A00348-LAC.html',\n",
       "  'image': ['https://www.lancome.co.kr/dw/image/v2/AAWH_PRD/on/demandware.static/-/Sites-lancome-master-catalog/ko_KR/dw730f33fa/images/PACKSHOTS/FRAGRANCE/MAISON_LANCOME/PARFAIT%20DE%20ROSES/3614271687647_1.jpg?sw=750&sh=750&sm=fit&q=70'],\n",
       "  'salePrice': '#',\n",
       "  'originalPrice': '#',\n",
       "  'color': '#',\n",
       "  'category': '향수',\n",
       "  'brand': 'lancome',\n",
       "  'volume': '#'}]"
      ]
     },
     "metadata": {},
     "output_type": "display_data"
    },
    {
     "data": {
      "text/plain": [
       "[{'name': 'Maison Lancôme 자스민 마지팬 오 드 퍼퓸',\n",
       "  'url': 'https://www.lancome.co.kr/kr/%ED%96%A5%EC%88%98/%EC%97%AC%EC%84%B1%EC%9A%A9-%ED%96%A5%EC%88%98/%EB%A9%94%EC%A2%85-%EB%9E%91%EC%BD%A4/A00122-LAC.html',\n",
       "  'image': ['https://www.lancome.co.kr/dw/image/v2/AAWH_PRD/on/demandware.static/-/Sites-lancome-master-catalog/ko_KR/dw536d7e6b/images/PACKSHOTS/FRAGRANCE/MAISON_LANCOME/3614270529511_Jasmins/3614270529511_MAISON_LANCOME_Jasmins.jpg?sw=750&sh=750&sm=fit&q=70'],\n",
       "  'salePrice': '#',\n",
       "  'originalPrice': '#',\n",
       "  'color': '#',\n",
       "  'category': '향수',\n",
       "  'brand': 'lancome',\n",
       "  'volume': '#'}]"
      ]
     },
     "metadata": {},
     "output_type": "display_data"
    }
   ],
   "source": [
    "result= []\n",
    "for i, category in enumerate(categoryList):\n",
    "    driver.get(category)\n",
    "    categoryName = categoryNameList[i]\n",
    "    itemList = []\n",
    "    while True:\n",
    "        try:\n",
    "            itemList += getItemList()\n",
    "            clickSeeMoreButton()\n",
    "        except Exception as e: \n",
    "            # print(e)\n",
    "            break\n",
    "            \n",
    "    print('상품개수 :',len(itemList))\n",
    "    for i,item in enumerate(itemList):\n",
    "        driver.get(item)\n",
    "        result += getItem(categoryName)\n",
    "        if i>2:\n",
    "            break"
   ]
  },
  {
   "cell_type": "code",
   "execution_count": 12,
   "metadata": {},
   "outputs": [],
   "source": [
    "output = json.dumps(result,ensure_ascii=False, indent='\\t')\n",
    "\n",
    "writeJSON(output, output_name = 'ohui.json')"
   ]
  },
  {
   "cell_type": "code",
   "execution_count": null,
   "metadata": {},
   "outputs": [],
   "source": []
  }
 ],
 "metadata": {
  "kernelspec": {
   "display_name": "Python 3",
   "language": "python",
   "name": "python3"
  },
  "language_info": {
   "codemirror_mode": {
    "name": "ipython",
    "version": 3
   },
   "file_extension": ".py",
   "mimetype": "text/x-python",
   "name": "python",
   "nbconvert_exporter": "python",
   "pygments_lexer": "ipython3",
   "version": "3.7.0"
  }
 },
 "nbformat": 4,
 "nbformat_minor": 2
}
