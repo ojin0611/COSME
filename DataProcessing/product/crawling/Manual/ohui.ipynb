{
 "cells": [
  {
   "cell_type": "markdown",
   "metadata": {},
   "source": [
    "# ohui"
   ]
  },
  {
   "cell_type": "code",
   "execution_count": 1,
   "metadata": {},
   "outputs": [],
   "source": [
    "from bs4 import BeautifulSoup as bs              # 데이터파싱 라이브러리\n",
    "from selenium import webdriver\n",
    "import json\n",
    "import platform\n",
    "import re\n",
    "import time\n",
    "import copy"
   ]
  },
  {
   "cell_type": "code",
   "execution_count": 2,
   "metadata": {},
   "outputs": [],
   "source": [
    "def getNumber(string):\n",
    "    numExtracter = re.compile('[0-9]+')\n",
    "    return int(''.join(numExtracter.findall(string)))\n",
    "    "
   ]
  },
  {
   "cell_type": "code",
   "execution_count": 4,
   "metadata": {},
   "outputs": [],
   "source": [
    "def getCategoryList():\n",
    "\n",
    "    html = driver.page_source\n",
    "    soup = bs(html, 'html.parser')\n",
    "    categories = soup.find_all('ul',{'class':'cateList'})\n",
    "    categoryList = []\n",
    "    for category in categories:\n",
    "        categoryList += [url_home + c['href'] for c in category.find_all('a')]\n",
    "    return categoryList    \n",
    "\n"
   ]
  },
  {
   "cell_type": "code",
   "execution_count": 5,
   "metadata": {},
   "outputs": [],
   "source": [
    "def getItemList():\n",
    "    html = driver.page_source\n",
    "    soup = bs(html, 'html.parser')\n",
    "    items = soup.find('div',{'class':'product'}) # 사이트마다 다름\n",
    "    itemList = [url_home + item['href'] for item in items.find_all('a')]\n",
    "\n",
    "    return itemList # list    "
   ]
  },
  {
   "cell_type": "code",
   "execution_count": 6,
   "metadata": {},
   "outputs": [],
   "source": [
    "def getItem():\n",
    "    html = driver.page_source\n",
    "    soup = bs(html, 'html.parser')\n",
    "\n",
    "    item={'name':'#', 'url':'#', 'image':'#', 'salePrice':'#', 'originalPrice':'#', \n",
    "              'color':'#', 'category':'#', 'brand':'ohui','volume':'#'}\n",
    "    \n",
    "    item['name'] = soup.find('strong',{'class':'shareTit'}).get_text().strip()\n",
    "    item['image'] = [soup.find('li',{'class':'selected shareImg'}).img['src']]\n",
    "    \n",
    "    category = soup.find_all('span',{'class':'loca02'}) \n",
    "    item['category'] = category[-1].get_text().strip()\n",
    "    item['volume'] = soup.find('p',{'class':'txt01 shareTit02'}).get_text().strip()\n",
    "    item['url'] = driver.current_url\n",
    "\n",
    "    items=[]\n",
    "    \n",
    "    colors = soup.find('div',{'class':'productInfo active'}).ul\n",
    "    if colors:\n",
    "        colors = colors.find_all('li')\n",
    "        for color in colors:\n",
    "            item_copy = copy.deepcopy(item)\n",
    "            item_copy['image'].append(url_home + color.img['src'])\n",
    "            items.append(item_copy)\n",
    "    else:\n",
    "        items.append(item)\n",
    "        \n",
    "    display(items)\n",
    "\n",
    "    return items # list형태\n"
   ]
  },
  {
   "cell_type": "code",
   "execution_count": 3,
   "metadata": {},
   "outputs": [],
   "source": [
    "def writeJSON(jsonString, output_name='data.json'):\n",
    "    with open(output_name,'w',encoding='UTF-8') as file:\n",
    "        file.write(jsonString)\n"
   ]
  },
  {
   "cell_type": "code",
   "execution_count": 7,
   "metadata": {},
   "outputs": [],
   "source": [
    "path = '../chromedriver.exe' if (platform.system() == 'Windows') else '/Users/jg/Desktop/develop/DataTeam/DataProcessing/product/crawling/chromedriver';\n",
    "driver = webdriver.Chrome(path)\n",
    "\n",
    "url_home = 'http://www.ohui.co.kr'\n",
    "url_products = 'http://www.ohui.co.kr/product/category.jsp'"
   ]
  },
  {
   "cell_type": "code",
   "execution_count": 8,
   "metadata": {},
   "outputs": [
    {
     "data": {
      "text/plain": [
       "[{'name': '피토 바이탈 딥 퓨리파잉 솝',\n",
       "  'url': 'http://www.ohui.co.kr/product/detail.jsp?pid=ACM31937&cid1=1&cid2=A',\n",
       "  'image': ['http://www.careshop.co.kr/eimages/display/ACM31937_E04_l.png'],\n",
       "  'salePrice': '#',\n",
       "  'originalPrice': '#',\n",
       "  'color': '#',\n",
       "  'category': 'Cleansing',\n",
       "  'brand': 'ohui',\n",
       "  'volume': 'Phyto Vital Deep Purifying Soap 130g'}]"
      ]
     },
     "metadata": {},
     "output_type": "display_data"
    },
    {
     "data": {
      "text/plain": [
       "[{'name': '미라클 아쿠아 버블 클렌저',\n",
       "  'url': 'http://www.ohui.co.kr/product/detail.jsp?pid=ACM28546&cid1=1&cid2=A',\n",
       "  'image': ['http://www.careshop.co.kr/eimages/display/ACM28546_E04_l.png'],\n",
       "  'salePrice': '#',\n",
       "  'originalPrice': '#',\n",
       "  'color': '#',\n",
       "  'category': 'Cleansing',\n",
       "  'brand': 'ohui',\n",
       "  'volume': 'MIRACLE AQUA bubble cleanser 150ml'}]"
      ]
     },
     "metadata": {},
     "output_type": "display_data"
    },
    {
     "data": {
      "text/plain": [
       "[{'name': '익스트림 화이트 폼',\n",
       "  'url': 'http://www.ohui.co.kr/product/detail.jsp?pid=ACM10899&cid1=1&cid2=A',\n",
       "  'image': ['http://www.careshop.co.kr/eimages/display/ACM10899_E04_l.png'],\n",
       "  'salePrice': '#',\n",
       "  'originalPrice': '#',\n",
       "  'color': '#',\n",
       "  'category': 'Cleansing',\n",
       "  'brand': 'ohui',\n",
       "  'volume': 'Extreme White Foam\\n 160ml'}]"
      ]
     },
     "metadata": {},
     "output_type": "display_data"
    },
    {
     "data": {
      "text/plain": [
       "[{'name': '퍼펙트 선 워터클렌저',\n",
       "  'url': 'http://www.ohui.co.kr/product/detail.jsp?pid=ACM32107&cid1=1&cid2=A',\n",
       "  'image': ['http://www.careshop.co.kr/eimages/display/ACM32107_E04_l.png'],\n",
       "  'salePrice': '#',\n",
       "  'originalPrice': '#',\n",
       "  'color': '#',\n",
       "  'category': 'Sun Care',\n",
       "  'brand': 'ohui',\n",
       "  'volume': 'Perfect Sun Water Cleanser 300ml'}]"
      ]
     },
     "metadata": {},
     "output_type": "display_data"
    },
    {
     "data": {
      "text/plain": [
       "[{'name': '익스트림 화이트 필링',\n",
       "  'url': 'http://www.ohui.co.kr/product/detail.jsp?pid=ACM10900&cid1=1&cid2=A',\n",
       "  'image': ['http://www.careshop.co.kr/eimages/display/ACM10900_E04_l.png'],\n",
       "  'salePrice': '#',\n",
       "  'originalPrice': '#',\n",
       "  'color': '#',\n",
       "  'category': 'Cleansing',\n",
       "  'brand': 'ohui',\n",
       "  'volume': 'Extreme White Peeling\\n 60ml'}]"
      ]
     },
     "metadata": {},
     "output_type": "display_data"
    },
    {
     "data": {
      "text/plain": [
       "[{'name': '더 퍼스트 제너츄어 폼 클렌저',\n",
       "  'url': 'http://www.ohui.co.kr/product/detail.jsp?pid=ACM40936&cid1=1&cid2=A',\n",
       "  'image': ['http://www.careshop.co.kr/eimages/display/ACM40936_E04_l.png'],\n",
       "  'salePrice': '#',\n",
       "  'originalPrice': '#',\n",
       "  'color': '#',\n",
       "  'category': 'Cleansing',\n",
       "  'brand': 'ohui',\n",
       "  'volume': 'THE FIRST GENITURE FOAM CLEANSER 200ml'}]"
      ]
     },
     "metadata": {},
     "output_type": "display_data"
    },
    {
     "data": {
      "text/plain": [
       "[{'name': '리얼 컬러 아이앤립 메이크업 리무버',\n",
       "  'url': 'http://www.ohui.co.kr/product/detail.jsp?pid=ACM27801&cid1=1&cid2=A',\n",
       "  'image': ['http://www.careshop.co.kr/eimages/display/ACM27801_E04_l.png'],\n",
       "  'salePrice': '#',\n",
       "  'originalPrice': '#',\n",
       "  'color': '#',\n",
       "  'category': 'Cleansing',\n",
       "  'brand': 'ohui',\n",
       "  'volume': 'Real Color Eye & Lip Makeup Remover 120ml'}]"
      ]
     },
     "metadata": {},
     "output_type": "display_data"
    },
    {
     "data": {
      "text/plain": [
       "[{'name': '클리닉 사이언스 딥메디 클렌징 폼',\n",
       "  'url': 'http://www.ohui.co.kr/product/detail.jsp?pid=ACM04487&cid1=1&cid2=A',\n",
       "  'image': ['http://www.careshop.co.kr/eimages/display/ACM04487_E04_l.png'],\n",
       "  'salePrice': '#',\n",
       "  'originalPrice': '#',\n",
       "  'color': '#',\n",
       "  'category': 'Cleansing',\n",
       "  'brand': 'ohui',\n",
       "  'volume': 'Deep Medi-Cleansing Foam 120ml'}]"
      ]
     },
     "metadata": {},
     "output_type": "display_data"
    },
    {
     "data": {
      "text/plain": [
       "[{'name': '텐더 클렌징 에멀전 워셔블',\n",
       "  'url': 'http://www.ohui.co.kr/product/detail.jsp?pid=ACM03937&cid1=1&cid2=A',\n",
       "  'image': ['http://www.careshop.co.kr/eimages/display/ACM03937_E04_l.png'],\n",
       "  'salePrice': '#',\n",
       "  'originalPrice': '#',\n",
       "  'color': '#',\n",
       "  'category': 'Cleansing',\n",
       "  'brand': 'ohui',\n",
       "  'volume': 'Tender Cleansing Emulsion Washable 150ml'}]"
      ]
     },
     "metadata": {},
     "output_type": "display_data"
    },
    {
     "data": {
      "text/plain": [
       "[{'name': '텐더 페이스 스크럽',\n",
       "  'url': 'http://www.ohui.co.kr/product/detail.jsp?pid=ACM03941&cid1=1&cid2=A',\n",
       "  'image': ['http://www.careshop.co.kr/eimages/display/ACM03941_E04_l.png'],\n",
       "  'salePrice': '#',\n",
       "  'originalPrice': '#',\n",
       "  'color': '#',\n",
       "  'category': 'Cleansing',\n",
       "  'brand': 'ohui',\n",
       "  'volume': 'Tender Face Scrub 100ml'}]"
      ]
     },
     "metadata": {},
     "output_type": "display_data"
    },
    {
     "data": {
      "text/plain": [
       "[{'name': '텐더 클렌징 시트',\n",
       "  'url': 'http://www.ohui.co.kr/product/detail.jsp?pid=ACM03935&cid1=1&cid2=A',\n",
       "  'image': ['http://www.careshop.co.kr/eimages/display/ACM03935_E04_l.png'],\n",
       "  'salePrice': '#',\n",
       "  'originalPrice': '#',\n",
       "  'color': '#',\n",
       "  'category': 'Cleansing',\n",
       "  'brand': 'ohui',\n",
       "  'volume': 'Tender Cleansing Sheet 60EA'}]"
      ]
     },
     "metadata": {},
     "output_type": "display_data"
    },
    {
     "data": {
      "text/plain": [
       "[{'name': '피토 바이탈 리프레싱 토너',\n",
       "  'url': 'http://www.ohui.co.kr/product/detail.jsp?pid=ACM31940&cid1=1&cid2=B',\n",
       "  'image': ['http://www.careshop.co.kr/eimages/display/ACM31940_E04_l.png'],\n",
       "  'salePrice': '#',\n",
       "  'originalPrice': '#',\n",
       "  'color': '#',\n",
       "  'category': 'Skin Softner',\n",
       "  'brand': 'ohui',\n",
       "  'volume': 'Phyto Vital Refreshing Toner 150ml'}]"
      ]
     },
     "metadata": {},
     "output_type": "display_data"
    },
    {
     "data": {
      "text/plain": [
       "[{'name': '미라클 아쿠아 스킨 소프너',\n",
       "  'url': 'http://www.ohui.co.kr/product/detail.jsp?pid=ACM25307&cid1=1&cid2=B',\n",
       "  'image': ['http://www.careshop.co.kr/eimages/display/ACM25307_E04_l.png'],\n",
       "  'salePrice': '#',\n",
       "  'originalPrice': '#',\n",
       "  'color': '#',\n",
       "  'category': 'Skin Softner',\n",
       "  'brand': 'ohui',\n",
       "  'volume': 'Miracle Aqua Skin Softener 150ml'}]"
      ]
     },
     "metadata": {},
     "output_type": "display_data"
    },
    {
     "data": {
      "text/plain": [
       "[{'name': '미라클 모이스처 스킨 소프너 - 산뜻',\n",
       "  'url': 'http://www.ohui.co.kr/product/detail.jsp?pid=ACM10683&cid1=1&cid2=B',\n",
       "  'image': ['http://www.careshop.co.kr/eimages/display/ACM10683_E04_l.png'],\n",
       "  'salePrice': '#',\n",
       "  'originalPrice': '#',\n",
       "  'color': '#',\n",
       "  'category': 'Skin Softner',\n",
       "  'brand': 'ohui',\n",
       "  'volume': 'Miracle Moisture Skin Softener - Fresh 150ml'}]"
      ]
     },
     "metadata": {},
     "output_type": "display_data"
    },
    {
     "data": {
      "text/plain": [
       "[{'name': '미라클 모이스처 스킨 소프너 - 촉촉',\n",
       "  'url': 'http://www.ohui.co.kr/product/detail.jsp?pid=ACM10686&cid1=1&cid2=B',\n",
       "  'image': ['http://www.careshop.co.kr/eimages/display/ACM10686_E04_l.png'],\n",
       "  'salePrice': '#',\n",
       "  'originalPrice': '#',\n",
       "  'color': '#',\n",
       "  'category': 'Skin Softner',\n",
       "  'brand': 'ohui',\n",
       "  'volume': 'Miracle Moisture Skin Softener - Moist 150ml'}]"
      ]
     },
     "metadata": {},
     "output_type": "display_data"
    },
    {
     "data": {
      "text/plain": [
       "[{'name': '에이지 리커버리 스킨 소프너',\n",
       "  'url': 'http://www.ohui.co.kr/product/detail.jsp?pid=ACM26510&cid1=1&cid2=B',\n",
       "  'image': ['http://www.careshop.co.kr/eimages/display/ACM26510_E04_l.png'],\n",
       "  'salePrice': '#',\n",
       "  'originalPrice': '#',\n",
       "  'color': '#',\n",
       "  'category': 'Skin Softner',\n",
       "  'brand': 'ohui',\n",
       "  'volume': 'Age Recovery Skin Softener 150ml'}]"
      ]
     },
     "metadata": {},
     "output_type": "display_data"
    },
    {
     "data": {
      "text/plain": [
       "[{'name': '익스트림 화이트 스킨소프너',\n",
       "  'url': 'http://www.ohui.co.kr/product/detail.jsp?pid=ACM10895&cid1=1&cid2=B',\n",
       "  'image': ['http://www.careshop.co.kr/eimages/display/ACM10895_E04_l.png'],\n",
       "  'salePrice': '#',\n",
       "  'originalPrice': '#',\n",
       "  'color': '#',\n",
       "  'category': 'Skin Softner',\n",
       "  'brand': 'ohui',\n",
       "  'volume': 'Extreme White Skin Softener  150ml'}]"
      ]
     },
     "metadata": {},
     "output_type": "display_data"
    },
    {
     "data": {
      "text/plain": [
       "[{'name': '미라클 아쿠아 미스트',\n",
       "  'url': 'http://www.ohui.co.kr/product/detail.jsp?pid=ACM25311&cid1=1&cid2=B',\n",
       "  'image': ['http://www.careshop.co.kr/eimages/display/ACM25311_E04_l.png'],\n",
       "  'salePrice': '#',\n",
       "  'originalPrice': '#',\n",
       "  'color': '#',\n",
       "  'category': 'Skin Softner',\n",
       "  'brand': 'ohui',\n",
       "  'volume': 'Miracle Aqua Mist 50ml'}]"
      ]
     },
     "metadata": {},
     "output_type": "display_data"
    },
    {
     "data": {
      "text/plain": [
       "[{'name': '프라임 어드밴서 스킨 소프너',\n",
       "  'url': 'http://www.ohui.co.kr/product/detail.jsp?pid=ACM39048&cid1=1&cid2=B',\n",
       "  'image': ['http://www.careshop.co.kr/eimages/display/ACM39048_E04_l.png'],\n",
       "  'salePrice': '#',\n",
       "  'originalPrice': '#',\n",
       "  'color': '#',\n",
       "  'category': 'Skin Softner',\n",
       "  'brand': 'ohui',\n",
       "  'volume': 'PRIME ADVANCER skin softener 150ml'}]"
      ]
     },
     "metadata": {},
     "output_type": "display_data"
    },
    {
     "data": {
      "text/plain": [
       "[{'name': '더 퍼스트 제너츄어 스킨 소프너',\n",
       "  'url': 'http://www.ohui.co.kr/product/detail.jsp?pid=ACM30356&cid1=1&cid2=B',\n",
       "  'image': ['http://www.careshop.co.kr/eimages/display/ACM30356_E04_l.png'],\n",
       "  'salePrice': '#',\n",
       "  'originalPrice': '#',\n",
       "  'color': '#',\n",
       "  'category': 'Skin Softner',\n",
       "  'brand': 'ohui',\n",
       "  'volume': 'THE FIRST GENITURE SKIN SOFTENER 150ml'}]"
      ]
     },
     "metadata": {},
     "output_type": "display_data"
    },
    {
     "data": {
      "text/plain": [
       "[{'name': '클리닉 사이언스 리파이닝 메디 토너',\n",
       "  'url': 'http://www.ohui.co.kr/product/detail.jsp?pid=ACM04485&cid1=1&cid2=B',\n",
       "  'image': ['http://www.careshop.co.kr/eimages/display/ACM04485_E04_l.png'],\n",
       "  'salePrice': '#',\n",
       "  'originalPrice': '#',\n",
       "  'color': '#',\n",
       "  'category': 'Skin Softner',\n",
       "  'brand': 'ohui',\n",
       "  'volume': 'Refining Medi-Toner (Alcohol Free) 150ml'}]"
      ]
     },
     "metadata": {},
     "output_type": "display_data"
    },
    {
     "data": {
      "text/plain": [
       "[{'name': '에이지 리커버리 에센스',\n",
       "  'url': 'http://www.ohui.co.kr/product/detail.jsp?pid=ACM26508&cid1=1&cid2=C',\n",
       "  'image': ['http://www.careshop.co.kr/eimages/display/ACM26508_E04_l.png'],\n",
       "  'salePrice': '#',\n",
       "  'originalPrice': '#',\n",
       "  'color': '#',\n",
       "  'category': 'Essence',\n",
       "  'brand': 'ohui',\n",
       "  'volume': 'Age Recovery Essence 45ml'}]"
      ]
     },
     "metadata": {},
     "output_type": "display_data"
    },
    {
     "data": {
      "text/plain": [
       "[{'name': '셀 파워 넘버원 에센스',\n",
       "  'url': 'http://www.ohui.co.kr/product/detail.jsp?pid=ACM26017&cid1=1&cid2=C',\n",
       "  'image': ['http://www.careshop.co.kr/eimages/display/ACM26017_E04_l.png'],\n",
       "  'salePrice': '#',\n",
       "  'originalPrice': '#',\n",
       "  'color': '#',\n",
       "  'category': 'Essence',\n",
       "  'brand': 'ohui',\n",
       "  'volume': 'Cell Power No.1 Essence 70ml'}]"
      ]
     },
     "metadata": {},
     "output_type": "display_data"
    },
    {
     "data": {
      "text/plain": [
       "[{'name': '피토 바이탈 인텐시브 에센스',\n",
       "  'url': 'http://www.ohui.co.kr/product/detail.jsp?pid=ACM31939&cid1=1&cid2=C',\n",
       "  'image': ['http://www.careshop.co.kr/eimages/display/ACM31939_E04_l.png'],\n",
       "  'salePrice': '#',\n",
       "  'originalPrice': '#',\n",
       "  'color': '#',\n",
       "  'category': 'Essence',\n",
       "  'brand': 'ohui',\n",
       "  'volume': 'Phyto Vital Itensive Essence 95ml'}]"
      ]
     },
     "metadata": {},
     "output_type": "display_data"
    },
    {
     "data": {
      "text/plain": [
       "[{'name': '셀 파워 넘버원 에센스(미스트 타입)',\n",
       "  'url': 'http://www.ohui.co.kr/product/detail.jsp?pid=ACM26016&cid1=1&cid2=C',\n",
       "  'image': ['http://www.careshop.co.kr/eimages/display/ACM26016_E04_l.png'],\n",
       "  'salePrice': '#',\n",
       "  'originalPrice': '#',\n",
       "  'color': '#',\n",
       "  'category': 'Essence',\n",
       "  'brand': 'ohui',\n",
       "  'volume': 'Cell Power No.1 Essence(Mist Type) 200ml'}]"
      ]
     },
     "metadata": {},
     "output_type": "display_data"
    },
    {
     "data": {
      "text/plain": [
       "[{'name': '미라클 아쿠아 에센스',\n",
       "  'url': 'http://www.ohui.co.kr/product/detail.jsp?pid=ACM25308&cid1=1&cid2=C',\n",
       "  'image': ['http://www.careshop.co.kr/eimages/display/ACM25308_E04_l.png'],\n",
       "  'salePrice': '#',\n",
       "  'originalPrice': '#',\n",
       "  'color': '#',\n",
       "  'category': 'Essence',\n",
       "  'brand': 'ohui',\n",
       "  'volume': 'Miracle Aqua Essence 45ml'}]"
      ]
     },
     "metadata": {},
     "output_type": "display_data"
    },
    {
     "data": {
      "text/plain": [
       "[{'name': '미라클 모이스처 에센스',\n",
       "  'url': 'http://www.ohui.co.kr/product/detail.jsp?pid=ACM10688&cid1=1&cid2=C',\n",
       "  'image': ['http://www.careshop.co.kr/eimages/display/ACM10688_E04_l.png'],\n",
       "  'salePrice': '#',\n",
       "  'originalPrice': '#',\n",
       "  'color': '#',\n",
       "  'category': 'Essence',\n",
       "  'brand': 'ohui',\n",
       "  'volume': 'Miracle Moisture Essence 45ml'}]"
      ]
     },
     "metadata": {},
     "output_type": "display_data"
    },
    {
     "data": {
      "text/plain": [
       "[{'name': '미라클 모이스처 퍼펙팅 피니셔',\n",
       "  'url': 'http://www.ohui.co.kr/product/detail.jsp?pid=ACM29766&cid1=1&cid2=C',\n",
       "  'image': ['http://www.careshop.co.kr/eimages/display/ACM29766_E04_l.png'],\n",
       "  'salePrice': '#',\n",
       "  'originalPrice': '#',\n",
       "  'color': '#',\n",
       "  'category': 'Essence',\n",
       "  'brand': 'ohui',\n",
       "  'volume': 'Miracle Moisture Perfecting Finisher 45ml'}]"
      ]
     },
     "metadata": {},
     "output_type": "display_data"
    },
    {
     "data": {
      "text/plain": [
       "[{'name': '더 퍼스트 제너츄어 에센스',\n",
       "  'url': 'http://www.ohui.co.kr/product/detail.jsp?pid=ACM30359&cid1=1&cid2=C',\n",
       "  'image': ['http://www.careshop.co.kr/eimages/display/ACM30359_E04_l.png'],\n",
       "  'salePrice': '#',\n",
       "  'originalPrice': '#',\n",
       "  'color': '#',\n",
       "  'category': 'Essence',\n",
       "  'brand': 'ohui',\n",
       "  'volume': 'THE FIRST GENITURE ESSENCE 50ml'}]"
      ]
     },
     "metadata": {},
     "output_type": "display_data"
    },
    {
     "data": {
      "text/plain": [
       "[{'name': '더 퍼스트 제너츄어 셀 에센셜 소스',\n",
       "  'url': 'http://www.ohui.co.kr/product/detail.jsp?pid=ACM30357&cid1=1&cid2=C',\n",
       "  'image': ['http://www.careshop.co.kr/eimages/display/ACM30357_E04_l.png'],\n",
       "  'salePrice': '#',\n",
       "  'originalPrice': '#',\n",
       "  'color': '#',\n",
       "  'category': 'Essence',\n",
       "  'brand': 'ohui',\n",
       "  'volume': 'THE FIRST GENITURE CELL ESSENTIAL SOURCE\\n 120ml'}]"
      ]
     },
     "metadata": {},
     "output_type": "display_data"
    },
    {
     "data": {
      "text/plain": [
       "[{'name': '피토 바이탈 컴포팅 에멀전',\n",
       "  'url': 'http://www.ohui.co.kr/product/detail.jsp?pid=ACM31941&cid1=1&cid2=D',\n",
       "  'image': ['http://www.careshop.co.kr/eimages/display/ACM31941_E04_l.png'],\n",
       "  'salePrice': '#',\n",
       "  'originalPrice': '#',\n",
       "  'color': '#',\n",
       "  'category': 'Emulsion',\n",
       "  'brand': 'ohui',\n",
       "  'volume': 'Phyto Vital Comforting Emulsion 145ml'}]"
      ]
     },
     "metadata": {},
     "output_type": "display_data"
    },
    {
     "data": {
      "text/plain": [
       "[{'name': '미라클 아쿠아 에멀전',\n",
       "  'url': 'http://www.ohui.co.kr/product/detail.jsp?pid=ACM25309&cid1=1&cid2=D',\n",
       "  'image': ['http://www.careshop.co.kr/eimages/display/ACM25309_E04_l.png'],\n",
       "  'salePrice': '#',\n",
       "  'originalPrice': '#',\n",
       "  'color': '#',\n",
       "  'category': 'Emulsion',\n",
       "  'brand': 'ohui',\n",
       "  'volume': 'Miracle Aqua Emulsion 130ml'}]"
      ]
     },
     "metadata": {},
     "output_type": "display_data"
    },
    {
     "data": {
      "text/plain": [
       "[{'name': '에이지 리커버리 에멀전',\n",
       "  'url': 'http://www.ohui.co.kr/product/detail.jsp?pid=ACM26509&cid1=1&cid2=D',\n",
       "  'image': ['http://www.careshop.co.kr/eimages/display/ACM26509_E04_l.png'],\n",
       "  'salePrice': '#',\n",
       "  'originalPrice': '#',\n",
       "  'color': '#',\n",
       "  'category': 'Emulsion',\n",
       "  'brand': 'ohui',\n",
       "  'volume': 'Age Recovery Emulsion 130ml'}]"
      ]
     },
     "metadata": {},
     "output_type": "display_data"
    },
    {
     "data": {
      "text/plain": [
       "[{'name': '익스트림 화이트 에멀전',\n",
       "  'url': 'http://www.ohui.co.kr/product/detail.jsp?pid=ACM10896&cid1=1&cid2=D',\n",
       "  'image': ['http://www.careshop.co.kr/eimages/display/ACM10896_E04_l.png'],\n",
       "  'salePrice': '#',\n",
       "  'originalPrice': '#',\n",
       "  'color': '#',\n",
       "  'category': 'Emulsion',\n",
       "  'brand': 'ohui',\n",
       "  'volume': 'Extreme White Emulsion 130ml'}]"
      ]
     },
     "metadata": {},
     "output_type": "display_data"
    },
    {
     "data": {
      "text/plain": [
       "[{'name': '미라클 모이스처 에멀전',\n",
       "  'url': 'http://www.ohui.co.kr/product/detail.jsp?pid=ACM10687&cid1=1&cid2=D',\n",
       "  'image': ['http://www.careshop.co.kr/eimages/display/ACM10687_E04_l.png'],\n",
       "  'salePrice': '#',\n",
       "  'originalPrice': '#',\n",
       "  'color': '#',\n",
       "  'category': 'Emulsion',\n",
       "  'brand': 'ohui',\n",
       "  'volume': 'Miracle Moisture Emulsion 130ml'}]"
      ]
     },
     "metadata": {},
     "output_type": "display_data"
    },
    {
     "data": {
      "text/plain": [
       "[{'name': '프라임 어드밴서 에멀전',\n",
       "  'url': 'http://www.ohui.co.kr/product/detail.jsp?pid=ACM39049&cid1=1&cid2=D',\n",
       "  'image': ['http://www.careshop.co.kr/eimages/display/ACM39049_E04_l.png'],\n",
       "  'salePrice': '#',\n",
       "  'originalPrice': '#',\n",
       "  'color': '#',\n",
       "  'category': 'Emulsion',\n",
       "  'brand': 'ohui',\n",
       "  'volume': 'PRIME ADVANCER emulsion 130ml'}]"
      ]
     },
     "metadata": {},
     "output_type": "display_data"
    },
    {
     "data": {
      "text/plain": [
       "[{'name': '더 퍼스트 제너츄어 에멀전',\n",
       "  'url': 'http://www.ohui.co.kr/product/detail.jsp?pid=ACM30360&cid1=1&cid2=D',\n",
       "  'image': ['http://www.careshop.co.kr/eimages/display/ACM30360_E04_l.png'],\n",
       "  'salePrice': '#',\n",
       "  'originalPrice': '#',\n",
       "  'color': '#',\n",
       "  'category': 'Emulsion',\n",
       "  'brand': 'ohui',\n",
       "  'volume': 'THE FIRST GENITURE EMULSION 150ml'}]"
      ]
     },
     "metadata": {},
     "output_type": "display_data"
    },
    {
     "data": {
      "text/plain": [
       "[{'name': '클리닉 사이언스 풀메디 모이스처라이저',\n",
       "  'url': 'http://www.ohui.co.kr/product/detail.jsp?pid=ACM04486&cid1=1&cid2=D',\n",
       "  'image': ['http://www.careshop.co.kr/eimages/display/ACM04486_E04_l.png'],\n",
       "  'salePrice': '#',\n",
       "  'originalPrice': '#',\n",
       "  'color': '#',\n",
       "  'category': 'Emulsion',\n",
       "  'brand': 'ohui',\n",
       "  'volume': 'Full Medi-Moisturizer (Mineral Oil Free) 75ml'}]"
      ]
     },
     "metadata": {},
     "output_type": "display_data"
    },
    {
     "data": {
      "text/plain": [
       "[{'name': '에이지 리커버리 더 스타즈 크림',\n",
       "  'url': 'http://www.ohui.co.kr/product/detail.jsp?pid=ACM26165&cid1=1&cid2=E',\n",
       "  'image': ['http://www.careshop.co.kr/eimages/display/ACM26165_E04_l.png'],\n",
       "  'salePrice': '#',\n",
       "  'originalPrice': '#',\n",
       "  'color': '#',\n",
       "  'category': 'Cream',\n",
       "  'brand': 'ohui',\n",
       "  'volume': 'Age Recovery The Stars Cream 60ml'}]"
      ]
     },
     "metadata": {},
     "output_type": "display_data"
    },
    {
     "data": {
      "text/plain": [
       "[{'name': '피토 바이탈 리바이탈라이징 크림',\n",
       "  'url': 'http://www.ohui.co.kr/product/detail.jsp?pid=ACM31942&cid1=1&cid2=E',\n",
       "  'image': ['http://www.careshop.co.kr/eimages/display/ACM31942_E04_l.png'],\n",
       "  'salePrice': '#',\n",
       "  'originalPrice': '#',\n",
       "  'color': '#',\n",
       "  'category': 'Cream',\n",
       "  'brand': 'ohui',\n",
       "  'volume': 'Phyto Vital Revitalizing Cream 55ml'}]"
      ]
     },
     "metadata": {},
     "output_type": "display_data"
    },
    {
     "data": {
      "text/plain": [
       "[{'name': '미라클 아쿠아 젤크림',\n",
       "  'url': 'http://www.ohui.co.kr/product/detail.jsp?pid=ACM25310&cid1=1&cid2=E',\n",
       "  'image': ['http://www.careshop.co.kr/eimages/display/ACM25310_E04_l.png'],\n",
       "  'salePrice': '#',\n",
       "  'originalPrice': '#',\n",
       "  'color': '#',\n",
       "  'category': 'Cream',\n",
       "  'brand': 'ohui',\n",
       "  'volume': 'Miracle Aqua Gel Cream 50ml'}]"
      ]
     },
     "metadata": {},
     "output_type": "display_data"
    },
    {
     "data": {
      "text/plain": [
       "[{'name': '에이지 리커버리 크림',\n",
       "  'url': 'http://www.ohui.co.kr/product/detail.jsp?pid=ACM26507&cid1=1&cid2=E',\n",
       "  'image': ['http://www.careshop.co.kr/eimages/display/ACM26507_E04_l.png'],\n",
       "  'salePrice': '#',\n",
       "  'originalPrice': '#',\n",
       "  'color': '#',\n",
       "  'category': 'Cream',\n",
       "  'brand': 'ohui',\n",
       "  'volume': 'Age Recovery Cream 50ml'}]"
      ]
     },
     "metadata": {},
     "output_type": "display_data"
    },
    {
     "data": {
      "text/plain": [
       "[{'name': '익스트림 화이트 크림',\n",
       "  'url': 'http://www.ohui.co.kr/product/detail.jsp?pid=ACM10898&cid1=1&cid2=E',\n",
       "  'image': ['http://www.careshop.co.kr/eimages/display/ACM10898_E04_l.png'],\n",
       "  'salePrice': '#',\n",
       "  'originalPrice': '#',\n",
       "  'color': '#',\n",
       "  'category': 'Cream',\n",
       "  'brand': 'ohui',\n",
       "  'volume': 'Extreme White Cream\\n 50ml'}]"
      ]
     },
     "metadata": {},
     "output_type": "display_data"
    },
    {
     "data": {
      "text/plain": [
       "[{'name': '미라클 모이스처 크림',\n",
       "  'url': 'http://www.ohui.co.kr/product/detail.jsp?pid=ACM10689&cid1=1&cid2=E',\n",
       "  'image': ['http://www.careshop.co.kr/eimages/display/ACM10689_E04_l.png'],\n",
       "  'salePrice': '#',\n",
       "  'originalPrice': '#',\n",
       "  'color': '#',\n",
       "  'category': 'Cream',\n",
       "  'brand': 'ohui',\n",
       "  'volume': 'Miracle Moisture Cream 50ml'}]"
      ]
     },
     "metadata": {},
     "output_type": "display_data"
    },
    {
     "data": {
      "text/plain": [
       "[{'name': '프라임 어드밴서 앰플 캡쳐 크림',\n",
       "  'url': 'http://www.ohui.co.kr/product/detail.jsp?pid=ACM39050&cid1=1&cid2=E',\n",
       "  'image': ['http://www.careshop.co.kr/eimages/display/ACM39050_E04_l.png'],\n",
       "  'salePrice': '#',\n",
       "  'originalPrice': '#',\n",
       "  'color': '#',\n",
       "  'category': 'Cream',\n",
       "  'brand': 'ohui',\n",
       "  'volume': 'PRIME ADVANCER ampoule capture cream 50ml'}]"
      ]
     },
     "metadata": {},
     "output_type": "display_data"
    },
    {
     "data": {
      "text/plain": [
       "[{'name': '피토 바이탈 수분 크림',\n",
       "  'url': 'http://www.ohui.co.kr/product/detail.jsp?pid=ACM32287&cid1=1&cid2=E',\n",
       "  'image': ['http://www.careshop.co.kr/eimages/display/ACM32287_E04_l.png'],\n",
       "  'salePrice': '#',\n",
       "  'originalPrice': '#',\n",
       "  'color': '#',\n",
       "  'category': 'Cream',\n",
       "  'brand': 'ohui',\n",
       "  'volume': 'Phyto Vital Water Moist Cream 100ml'}]"
      ]
     },
     "metadata": {},
     "output_type": "display_data"
    },
    {
     "data": {
      "text/plain": [
       "[{'name': '더 퍼스트 제너츄어 크림 인텐시브',\n",
       "  'url': 'http://www.ohui.co.kr/product/detail.jsp?pid=ACM30361&cid1=1&cid2=E',\n",
       "  'image': ['http://www.careshop.co.kr/eimages/display/ACM30361_E04_l.png'],\n",
       "  'salePrice': '#',\n",
       "  'originalPrice': '#',\n",
       "  'color': '#',\n",
       "  'category': 'Cream',\n",
       "  'brand': 'ohui',\n",
       "  'volume': 'THE FIRST GENITURE CREAM INTENSIVE\\n 55ml'}]"
      ]
     },
     "metadata": {},
     "output_type": "display_data"
    },
    {
     "data": {
      "text/plain": [
       "[{'name': '프라임 어드밴서 앰플 세럼',\n",
       "  'url': 'http://www.ohui.co.kr/product/detail.jsp?pid=ACM34715&cid1=1&cid2=F',\n",
       "  'image': ['http://www.careshop.co.kr/eimages/display/ACM34715_E04_l.png'],\n",
       "  'salePrice': '#',\n",
       "  'originalPrice': '#',\n",
       "  'color': '#',\n",
       "  'category': 'Ampoule',\n",
       "  'brand': 'ohui',\n",
       "  'volume': 'Prime Advancer Ampoule Serum 50ml'}]"
      ]
     },
     "metadata": {},
     "output_type": "display_data"
    },
    {
     "data": {
      "text/plain": [
       "[{'name': '미라클 모이스처 앰플777',\n",
       "  'url': 'http://www.ohui.co.kr/product/detail.jsp?pid=ACM10690&cid1=1&cid2=F',\n",
       "  'image': ['http://www.careshop.co.kr/eimages/display/ACM10690_E04_l.png'],\n",
       "  'salePrice': '#',\n",
       "  'originalPrice': '#',\n",
       "  'color': '#',\n",
       "  'category': 'Ampoule',\n",
       "  'brand': 'ohui',\n",
       "  'volume': 'Miracle Moisture Ampoule 777 7ml*7EA'}]"
      ]
     },
     "metadata": {},
     "output_type": "display_data"
    },
    {
     "data": {
      "text/plain": [
       "[{'name': '더 퍼스트 제너츄어 앰풀 어드밴스드',\n",
       "  'url': 'http://www.ohui.co.kr/product/detail.jsp?pid=ACM30358&cid1=1&cid2=F',\n",
       "  'image': ['http://www.careshop.co.kr/eimages/display/ACM30358_E04_l.png'],\n",
       "  'salePrice': '#',\n",
       "  'originalPrice': '#',\n",
       "  'color': '#',\n",
       "  'category': 'Ampoule',\n",
       "  'brand': 'ohui',\n",
       "  'volume': 'THE FIRST GENITURE AMPOULE ADVANCED \\n 40ml'}]"
      ]
     },
     "metadata": {},
     "output_type": "display_data"
    },
    {
     "data": {
      "text/plain": [
       "[{'name': '에이지 리커버리 아이크림',\n",
       "  'url': 'http://www.ohui.co.kr/product/detail.jsp?pid=ACM26506&cid1=1&cid2=G',\n",
       "  'image': ['http://www.careshop.co.kr/eimages/display/ACM26506_E04_l.png'],\n",
       "  'salePrice': '#',\n",
       "  'originalPrice': '#',\n",
       "  'color': '#',\n",
       "  'category': 'Eye Care',\n",
       "  'brand': 'ohui',\n",
       "  'volume': 'Age Recovery Eye Cream 20ml'}]"
      ]
     },
     "metadata": {},
     "output_type": "display_data"
    },
    {
     "data": {
      "text/plain": [
       "[{'name': '프라임 어드밴서 아이 크림',\n",
       "  'url': 'http://www.ohui.co.kr/product/detail.jsp?pid=ACM39051&cid1=1&cid2=G',\n",
       "  'image': ['http://www.careshop.co.kr/eimages/display/ACM39051_E04_l.png'],\n",
       "  'salePrice': '#',\n",
       "  'originalPrice': '#',\n",
       "  'color': '#',\n",
       "  'category': 'Eye Care',\n",
       "  'brand': 'ohui',\n",
       "  'volume': 'PRIME ADVANCER eye cream 25ml'}]"
      ]
     },
     "metadata": {},
     "output_type": "display_data"
    },
    {
     "data": {
      "text/plain": [
       "[{'name': '더 퍼스트 제너츄어 아이크림',\n",
       "  'url': 'http://www.ohui.co.kr/product/detail.jsp?pid=ACM30362&cid1=1&cid2=G',\n",
       "  'image': ['http://www.careshop.co.kr/eimages/display/ACM30362_E04_l.png'],\n",
       "  'salePrice': '#',\n",
       "  'originalPrice': '#',\n",
       "  'color': '#',\n",
       "  'category': 'Eye Care',\n",
       "  'brand': 'ohui',\n",
       "  'volume': 'THE FIRST GENITURE EYE CREAM\\n 25ml'}]"
      ]
     },
     "metadata": {},
     "output_type": "display_data"
    },
    {
     "data": {
      "text/plain": [
       "[{'name': '익스트림 화이트 세럼',\n",
       "  'url': 'http://www.ohui.co.kr/product/detail.jsp?pid=ACM10897&cid1=1&cid2=H',\n",
       "  'image': ['http://www.careshop.co.kr/eimages/display/ACM10897_E04_l.png'],\n",
       "  'salePrice': '#',\n",
       "  'originalPrice': '#',\n",
       "  'color': '#',\n",
       "  'category': 'Special Care',\n",
       "  'brand': 'ohui',\n",
       "  'volume': 'Extreme White Serum\\n 45ml'}]"
      ]
     },
     "metadata": {},
     "output_type": "display_data"
    },
    {
     "data": {
      "text/plain": [
       "[{'name': '익스트림 화이트 슬리핑 마스크',\n",
       "  'url': 'http://www.ohui.co.kr/product/detail.jsp?pid=ACM26838&cid1=1&cid2=H',\n",
       "  'image': ['http://www.careshop.co.kr/eimages/display/ACM26838_E04_l.png'],\n",
       "  'salePrice': '#',\n",
       "  'originalPrice': '#',\n",
       "  'color': '#',\n",
       "  'category': 'Special Care',\n",
       "  'brand': 'ohui',\n",
       "  'volume': 'EXTREME WHITE Sleeping Mask 100ml'}]"
      ]
     },
     "metadata": {},
     "output_type": "display_data"
    },
    {
     "data": {
      "text/plain": [
       "[{'name': '피토 바이탈 딥 모이스처라이징 마스크',\n",
       "  'url': 'http://www.ohui.co.kr/product/detail.jsp?pid=ACM31938&cid1=1&cid2=H',\n",
       "  'image': ['http://www.careshop.co.kr/eimages/display/ACM31938_E04_l.png'],\n",
       "  'salePrice': '#',\n",
       "  'originalPrice': '#',\n",
       "  'color': '#',\n",
       "  'category': 'Special Care',\n",
       "  'brand': 'ohui',\n",
       "  'volume': 'Phyto Vital Deep Moisturizing Mask 100ml'}]"
      ]
     },
     "metadata": {},
     "output_type": "display_data"
    },
    {
     "data": {
      "text/plain": [
       "[{'name': '에이지 리커버리 트리트먼트 오일',\n",
       "  'url': 'http://www.ohui.co.kr/product/detail.jsp?pid=ACM26514&cid1=1&cid2=H',\n",
       "  'image': ['http://www.careshop.co.kr/eimages/display/ACM26514_E04_l.png'],\n",
       "  'salePrice': '#',\n",
       "  'originalPrice': '#',\n",
       "  'color': '#',\n",
       "  'category': 'Special Care',\n",
       "  'brand': 'ohui',\n",
       "  'volume': 'Age Recovery Treatment Oil 30ml'}]"
      ]
     },
     "metadata": {},
     "output_type": "display_data"
    },
    {
     "data": {
      "text/plain": [
       "[{'name': '익스트림 화이트 3D 블랙마스크',\n",
       "  'url': 'http://www.ohui.co.kr/product/detail.jsp?pid=ACM10901&cid1=1&cid2=H',\n",
       "  'image': ['http://www.careshop.co.kr/eimages/display/ACM10901_E04_l.png'],\n",
       "  'salePrice': '#',\n",
       "  'originalPrice': '#',\n",
       "  'color': '#',\n",
       "  'category': 'Special Care',\n",
       "  'brand': 'ohui',\n",
       "  'volume': 'Extreme White 3d Black Mask\\n 27g*6ea'}]"
      ]
     },
     "metadata": {},
     "output_type": "display_data"
    },
    {
     "data": {
      "text/plain": [
       "[{'name': '더 퍼스트 제너츄어 앰풀 오일',\n",
       "  'url': 'http://www.ohui.co.kr/product/detail.jsp?pid=ACM40937&cid1=1&cid2=H',\n",
       "  'image': ['http://www.careshop.co.kr/eimages/display/ACM40937_E04_l.png'],\n",
       "  'salePrice': '#',\n",
       "  'originalPrice': '#',\n",
       "  'color': '#',\n",
       "  'category': 'Special Care',\n",
       "  'brand': 'ohui',\n",
       "  'volume': 'THE FIRST GENITURE AMPOULE OIL 40ml'}]"
      ]
     },
     "metadata": {},
     "output_type": "display_data"
    },
    {
     "data": {
      "text/plain": [
       "[{'name': '더 퍼스트 제너츄어 앰풀 마스크',\n",
       "  'url': 'http://www.ohui.co.kr/product/detail.jsp?pid=ACM40934&cid1=1&cid2=H',\n",
       "  'image': ['http://www.careshop.co.kr/eimages/display/ACM40934_E04_l.png'],\n",
       "  'salePrice': '#',\n",
       "  'originalPrice': '#',\n",
       "  'color': '#',\n",
       "  'category': 'Special Care',\n",
       "  'brand': 'ohui',\n",
       "  'volume': 'THE FIRST GENITURE AMPOULE MASK 6매'}]"
      ]
     },
     "metadata": {},
     "output_type": "display_data"
    },
    {
     "data": {
      "text/plain": [
       "[{'name': '미라클 모이스처 앰플&크림 마스크',\n",
       "  'url': 'http://www.ohui.co.kr/product/detail.jsp?pid=ACM32664&cid1=1&cid2=H',\n",
       "  'image': ['http://www.careshop.co.kr/eimages/display/ACM32664_E04_l.png'],\n",
       "  'salePrice': '#',\n",
       "  'originalPrice': '#',\n",
       "  'color': '#',\n",
       "  'category': 'Special Care',\n",
       "  'brand': 'ohui',\n",
       "  'volume': 'Miracle Moisture Cream Mask'}]"
      ]
     },
     "metadata": {},
     "output_type": "display_data"
    },
    {
     "data": {
      "text/plain": [
       "[{'name': '더 퍼스트 제너츄어 마스크 트리트먼트',\n",
       "  'url': 'http://www.ohui.co.kr/product/detail.jsp?pid=ACM30363&cid1=1&cid2=H',\n",
       "  'image': ['http://www.careshop.co.kr/eimages/display/ACM30363_E04_l.png'],\n",
       "  'salePrice': '#',\n",
       "  'originalPrice': '#',\n",
       "  'color': '#',\n",
       "  'category': 'Special Care',\n",
       "  'brand': 'ohui',\n",
       "  'volume': 'THE FIRST GENITURE MASK TREATMENT 60ml'}]"
      ]
     },
     "metadata": {},
     "output_type": "display_data"
    },
    {
     "data": {
      "text/plain": [
       "[{'name': '클리닉 사이언스 트러블 클리어 컨트롤러 2.0',\n",
       "  'url': 'http://www.ohui.co.kr/product/detail.jsp?pid=ACM04057&cid1=1&cid2=H',\n",
       "  'image': ['http://www.careshop.co.kr/eimages/display/ACM04057_E04_l.png'],\n",
       "  'salePrice': '#',\n",
       "  'originalPrice': '#',\n",
       "  'color': '#',\n",
       "  'category': 'Special Care',\n",
       "  'brand': 'ohui',\n",
       "  'volume': 'Trouble Clear Controller 2.0 15ml'}]"
      ]
     },
     "metadata": {},
     "output_type": "display_data"
    },
    {
     "data": {
      "text/plain": [
       "[{'name': '텐더 마사지 크림',\n",
       "  'url': 'http://www.ohui.co.kr/product/detail.jsp?pid=ACM03942&cid1=1&cid2=H',\n",
       "  'image': ['http://www.careshop.co.kr/eimages/display/ACM03942_E04_l.png'],\n",
       "  'salePrice': '#',\n",
       "  'originalPrice': '#',\n",
       "  'color': '#',\n",
       "  'category': 'Special Care',\n",
       "  'brand': 'ohui',\n",
       "  'volume': 'Tender Massage Cream 250ml'}]"
      ]
     },
     "metadata": {},
     "output_type": "display_data"
    },
    {
     "data": {
      "text/plain": [
       "[{'name': '선 마스터 인피니트 (SPF50+/PA++++)',\n",
       "  'url': 'http://www.ohui.co.kr/product/detail.jsp?pid=ACM32106&cid1=1&cid2=I',\n",
       "  'image': ['http://www.careshop.co.kr/eimages/display/ACM32106_E04_l.png'],\n",
       "  'salePrice': '#',\n",
       "  'originalPrice': '#',\n",
       "  'color': '#',\n",
       "  'category': 'Sun Care',\n",
       "  'brand': 'ohui',\n",
       "  'volume': 'Sun Master Infinite 50ml'}]"
      ]
     },
     "metadata": {},
     "output_type": "display_data"
    },
    {
     "data": {
      "text/plain": [
       "[{'name': '퍼펙트 선 프로 블랙 (SPF50+/PA++++)',\n",
       "  'url': 'http://www.ohui.co.kr/product/detail.jsp?pid=ACM10914&cid1=1&cid2=I',\n",
       "  'image': ['http://www.careshop.co.kr/eimages/display/ACM10914_E04_l.png'],\n",
       "  'salePrice': '#',\n",
       "  'originalPrice': '#',\n",
       "  'color': '#',\n",
       "  'category': 'Sun Care',\n",
       "  'brand': 'ohui',\n",
       "  'volume': 'Perfect Sun Pro\\xa0Black 50ml'}]"
      ]
     },
     "metadata": {},
     "output_type": "display_data"
    },
    {
     "data": {
      "text/plain": [
       "[{'name': '퍼펙트 선 프로 레드 (SPF50+/PA++++)',\n",
       "  'url': 'http://www.ohui.co.kr/product/detail.jsp?pid=ACM10913&cid1=1&cid2=I',\n",
       "  'image': ['http://www.careshop.co.kr/eimages/display/ACM10913_E04_l.png'],\n",
       "  'salePrice': '#',\n",
       "  'originalPrice': '#',\n",
       "  'color': '#',\n",
       "  'category': 'Sun Care',\n",
       "  'brand': 'ohui',\n",
       "  'volume': 'Perfect Sun Pro\\xa0Red 50ml'}]"
      ]
     },
     "metadata": {},
     "output_type": "display_data"
    },
    {
     "data": {
      "text/plain": [
       "[{'name': '퍼펙트 선 프로 아쿠아 (SPF50+/PA++)',\n",
       "  'url': 'http://www.ohui.co.kr/product/detail.jsp?pid=ACM32108&cid1=1&cid2=I',\n",
       "  'image': ['http://www.careshop.co.kr/eimages/display/ACM32108_E04_l.png'],\n",
       "  'salePrice': '#',\n",
       "  'originalPrice': '#',\n",
       "  'color': '#',\n",
       "  'category': 'Sun Care',\n",
       "  'brand': 'ohui',\n",
       "  'volume': 'Perfect Sun Pro Aqua 50ml'}]"
      ]
     },
     "metadata": {},
     "output_type": "display_data"
    },
    {
     "data": {
      "text/plain": [
       "[{'name': '퍼펙트 선 워터 스판',\n",
       "  'url': 'http://www.ohui.co.kr/product/detail.jsp?pid=ACM27724&cid1=1&cid2=I',\n",
       "  'image': ['http://www.careshop.co.kr/eimages/display/ACM27724_E04_l.png'],\n",
       "  'salePrice': '#',\n",
       "  'originalPrice': '#',\n",
       "  'color': '#',\n",
       "  'category': 'Sun Care',\n",
       "  'brand': 'ohui',\n",
       "  'volume': 'Perfect Sun Water Span 15g'}]"
      ]
     },
     "metadata": {},
     "output_type": "display_data"
    },
    {
     "data": {
      "text/plain": [
       "[{'name': '퍼펙트 선 파우더 (SPF50+/PA+++)',\n",
       "  'url': 'http://www.ohui.co.kr/product/detail.jsp?pid=ACM32109&cid1=1&cid2=I',\n",
       "  'image': ['http://www.careshop.co.kr/eimages/display/ACM32109_E04_l.png'],\n",
       "  'salePrice': '#',\n",
       "  'originalPrice': '#',\n",
       "  'color': '#',\n",
       "  'category': 'Sun Care',\n",
       "  'brand': 'ohui',\n",
       "  'volume': 'Perfect Sun Powder 20g'}]"
      ]
     },
     "metadata": {},
     "output_type": "display_data"
    },
    {
     "data": {
      "text/plain": [
       "[{'name': '퍼펙트 선 워터클렌저',\n",
       "  'url': 'http://www.ohui.co.kr/product/detail.jsp?pid=ACM32107&cid1=1&cid2=I',\n",
       "  'image': ['http://www.careshop.co.kr/eimages/display/ACM32107_E04_l.png'],\n",
       "  'salePrice': '#',\n",
       "  'originalPrice': '#',\n",
       "  'color': '#',\n",
       "  'category': 'Sun Care',\n",
       "  'brand': 'ohui',\n",
       "  'volume': 'Perfect Sun Water Cleanser 300ml'}]"
      ]
     },
     "metadata": {},
     "output_type": "display_data"
    },
    {
     "data": {
      "text/plain": [
       "[{'name': '프레쉬 필 클렌징 폼',\n",
       "  'url': 'http://www.ohui.co.kr/product/detail.jsp?pid=ACM05975&cid1=1&cid2=K',\n",
       "  'image': ['http://www.careshop.co.kr/eimages/display/ACM05975_E04_l.png'],\n",
       "  'salePrice': '#',\n",
       "  'originalPrice': '#',\n",
       "  'color': '#',\n",
       "  'category': 'For Men',\n",
       "  'brand': 'ohui',\n",
       "  'volume': 'Fresh Feel Cleansing Foam 130ml'}]"
      ]
     },
     "metadata": {},
     "output_type": "display_data"
    },
    {
     "data": {
      "text/plain": [
       "[{'name': '올인원 파워 트리트먼트',\n",
       "  'url': 'http://www.ohui.co.kr/product/detail.jsp?pid=ACM07034&cid1=1&cid2=K',\n",
       "  'image': ['http://www.careshop.co.kr/eimages/display/ACM07034_E04_l.png'],\n",
       "  'salePrice': '#',\n",
       "  'originalPrice': '#',\n",
       "  'color': '#',\n",
       "  'category': 'For Men',\n",
       "  'brand': 'ohui',\n",
       "  'volume': 'All In One Power Treatment 110ml'}]"
      ]
     },
     "metadata": {},
     "output_type": "display_data"
    },
    {
     "data": {
      "text/plain": [
       "[{'name': '하이드라 스킨',\n",
       "  'url': 'http://www.ohui.co.kr/product/detail.jsp?pid=ACM05976&cid1=1&cid2=K',\n",
       "  'image': ['http://www.careshop.co.kr/eimages/display/ACM05976_E04_l.png'],\n",
       "  'salePrice': '#',\n",
       "  'originalPrice': '#',\n",
       "  'color': '#',\n",
       "  'category': 'For Men',\n",
       "  'brand': 'ohui',\n",
       "  'volume': 'Hydra Skin 135ml'}]"
      ]
     },
     "metadata": {},
     "output_type": "display_data"
    },
    {
     "data": {
      "text/plain": [
       "[{'name': '하이드라 로션',\n",
       "  'url': 'http://www.ohui.co.kr/product/detail.jsp?pid=ACM05979&cid1=1&cid2=K',\n",
       "  'image': ['http://www.careshop.co.kr/eimages/display/ACM05979_E04_l.png'],\n",
       "  'salePrice': '#',\n",
       "  'originalPrice': '#',\n",
       "  'color': '#',\n",
       "  'category': 'For Men',\n",
       "  'brand': 'ohui',\n",
       "  'volume': 'Hydra Lotion 115ml'}]"
      ]
     },
     "metadata": {},
     "output_type": "display_data"
    },
    {
     "data": {
      "text/plain": [
       "[{'name': '프레쉬 스킨',\n",
       "  'url': 'http://www.ohui.co.kr/product/detail.jsp?pid=ACM05977&cid1=1&cid2=K',\n",
       "  'image': ['http://www.careshop.co.kr/eimages/display/ACM05977_E04_l.png'],\n",
       "  'salePrice': '#',\n",
       "  'originalPrice': '#',\n",
       "  'color': '#',\n",
       "  'category': 'For Men',\n",
       "  'brand': 'ohui',\n",
       "  'volume': 'Fresh Skin 135ml'}]"
      ]
     },
     "metadata": {},
     "output_type": "display_data"
    },
    {
     "data": {
      "text/plain": [
       "[{'name': '프레쉬 로션',\n",
       "  'url': 'http://www.ohui.co.kr/product/detail.jsp?pid=ACM05980&cid1=1&cid2=K',\n",
       "  'image': ['http://www.careshop.co.kr/eimages/display/ACM05980_E04_l.png'],\n",
       "  'salePrice': '#',\n",
       "  'originalPrice': '#',\n",
       "  'color': '#',\n",
       "  'category': 'For Men',\n",
       "  'brand': 'ohui',\n",
       "  'volume': 'Fresh Lotion 115ml'}]"
      ]
     },
     "metadata": {},
     "output_type": "display_data"
    },
    {
     "data": {
      "text/plain": [
       "[{'name': '네오필 하이트레이팅 토너',\n",
       "  'url': 'http://www.ohui.co.kr/product/detail.jsp?pid=ACM02838&cid1=1&cid2=K',\n",
       "  'image': ['http://www.careshop.co.kr/eimages/display/ACM02838_E04_l.png'],\n",
       "  'salePrice': '#',\n",
       "  'originalPrice': '#',\n",
       "  'color': '#',\n",
       "  'category': 'For Men',\n",
       "  'brand': 'ohui',\n",
       "  'volume': 'Neopeel Hydrating Toner 135ml'}]"
      ]
     },
     "metadata": {},
     "output_type": "display_data"
    },
    {
     "data": {
      "text/plain": [
       "[{'name': '네오필 모이스처라이징 에멀전',\n",
       "  'url': 'http://www.ohui.co.kr/product/detail.jsp?pid=ACM02839&cid1=1&cid2=K',\n",
       "  'image': ['http://www.careshop.co.kr/eimages/display/ACM02839_E04_l.png'],\n",
       "  'salePrice': '#',\n",
       "  'originalPrice': '#',\n",
       "  'color': '#',\n",
       "  'category': 'For Men',\n",
       "  'brand': 'ohui',\n",
       "  'volume': 'Neopeel Moisturising Emulsion 135ml'}]"
      ]
     },
     "metadata": {},
     "output_type": "display_data"
    },
    {
     "data": {
      "text/plain": [
       "[{'name': '아쿠아 리차져',\n",
       "  'url': 'http://www.ohui.co.kr/product/detail.jsp?pid=ACM05981&cid1=1&cid2=K',\n",
       "  'image': ['http://www.careshop.co.kr/eimages/display/ACM05981_E04_l.png'],\n",
       "  'salePrice': '#',\n",
       "  'originalPrice': '#',\n",
       "  'color': '#',\n",
       "  'category': 'For Men',\n",
       "  'brand': 'ohui',\n",
       "  'volume': 'Aqua Recharger 50ml'}]"
      ]
     },
     "metadata": {},
     "output_type": "display_data"
    },
    {
     "data": {
      "text/plain": [
       "[{'name': '레포츠 선크림',\n",
       "  'url': 'http://www.ohui.co.kr/product/detail.jsp?pid=ACM05982&cid1=1&cid2=K',\n",
       "  'image': ['http://www.careshop.co.kr/eimages/display/ACM05982_E04_l.png'],\n",
       "  'salePrice': '#',\n",
       "  'originalPrice': '#',\n",
       "  'color': '#',\n",
       "  'category': 'For Men',\n",
       "  'brand': 'ohui',\n",
       "  'volume': 'Leports SunCream 50ml'}]"
      ]
     },
     "metadata": {},
     "output_type": "display_data"
    },
    {
     "data": {
      "text/plain": [
       "[{'name': '내츄럴 UV CC 크림',\n",
       "  'url': 'http://www.ohui.co.kr/product/detail.jsp?pid=ACM08658&cid1=1&cid2=K',\n",
       "  'image': ['http://www.careshop.co.kr/eimages/display/ACM08658_E04_l.png'],\n",
       "  'salePrice': '#',\n",
       "  'originalPrice': '#',\n",
       "  'color': '#',\n",
       "  'category': 'For Men',\n",
       "  'brand': 'ohui',\n",
       "  'volume': 'Natural UV CC Cream 50ml'}]"
      ]
     },
     "metadata": {},
     "output_type": "display_data"
    },
    {
     "data": {
      "text/plain": [
       "[{'name': '얼티밋 커버 쿠션 모이스처',\n",
       "  'url': 'http://www.ohui.co.kr/product/detail.jsp?pid=ACM31173&cid1=1&cid2=L',\n",
       "  'image': ['http://www.careshop.co.kr/eimages/display/ACM31173_E04_l.png'],\n",
       "  'salePrice': '#',\n",
       "  'originalPrice': '#',\n",
       "  'color': '#',\n",
       "  'category': 'Base Make Up',\n",
       "  'brand': 'ohui',\n",
       "  'volume': 'Ultimate Cover Cushion Moisture 15g + 15g (01호 밀크 베이지 02호 허니 베이지)'}]"
      ]
     },
     "metadata": {},
     "output_type": "display_data"
    },
    {
     "data": {
      "text/plain": [
       "[{'name': '얼티밋 커버 쿠션 매트 피니쉬',\n",
       "  'url': 'http://www.ohui.co.kr/product/detail.jsp?pid=ACM31174&cid1=1&cid2=L',\n",
       "  'image': ['http://www.careshop.co.kr/eimages/display/ACM31174_E04_l.png'],\n",
       "  'salePrice': '#',\n",
       "  'originalPrice': '#',\n",
       "  'color': '#',\n",
       "  'category': 'Base Make Up',\n",
       "  'brand': 'ohui',\n",
       "  'volume': 'Ultimate Cover Cushion Matt Finish 15g + 15g (01호 밀크 베이지 02호 허니 베이지)'}]"
      ]
     },
     "metadata": {},
     "output_type": "display_data"
    },
    {
     "data": {
      "text/plain": [
       "[{'name': '얼티밋 커버 컨실러 메탈 쿠션',\n",
       "  'url': 'http://www.ohui.co.kr/product/detail.jsp?pid=ACM31175&cid1=1&cid2=L',\n",
       "  'image': ['http://www.careshop.co.kr/eimages/display/ACM31175_E04_l.png'],\n",
       "  'salePrice': '#',\n",
       "  'originalPrice': '#',\n",
       "  'color': '#',\n",
       "  'category': 'Base Make Up',\n",
       "  'brand': 'ohui',\n",
       "  'volume': 'Ultimate Cover Concealer\\xa0 Metal Cushion 15g + 15g (01호 밀크 베이지 02호 허니 베이지)'}]"
      ]
     },
     "metadata": {},
     "output_type": "display_data"
    },
    {
     "data": {
      "text/plain": [
       "[{'name': '세컨스킨 쉬어베이스',\n",
       "  'url': 'http://www.ohui.co.kr/product/detail.jsp?pid=ACM25727&cid1=1&cid2=L',\n",
       "  'image': ['http://www.careshop.co.kr/eimages/display/ACM25727_E04_l.png'],\n",
       "  'salePrice': '#',\n",
       "  'originalPrice': '#',\n",
       "  'color': '#',\n",
       "  'category': 'Base Make Up',\n",
       "  'brand': 'ohui',\n",
       "  'volume': 'Second Skin Sheer Base 40ml'}]"
      ]
     },
     "metadata": {},
     "output_type": "display_data"
    },
    {
     "data": {
      "text/plain": [
       "[{'name': '세컨스킨 그린베이스',\n",
       "  'url': 'http://www.ohui.co.kr/product/detail.jsp?pid=ACM25728&cid1=1&cid2=L',\n",
       "  'image': ['http://www.careshop.co.kr/eimages/display/ACM25728_E04_l.png'],\n",
       "  'salePrice': '#',\n",
       "  'originalPrice': '#',\n",
       "  'color': '#',\n",
       "  'category': 'Base Make Up',\n",
       "  'brand': 'ohui',\n",
       "  'volume': 'Second Skin Green Base 40ml'}]"
      ]
     },
     "metadata": {},
     "output_type": "display_data"
    },
    {
     "data": {
      "text/plain": [
       "[{'name': '세컨스킨 파운데이션',\n",
       "  'url': 'http://www.ohui.co.kr/product/detail.jsp?pid=ACM25726&cid1=1&cid2=L',\n",
       "  'image': ['http://www.careshop.co.kr/eimages/display/ACM25726_E04_l.png'],\n",
       "  'salePrice': '#',\n",
       "  'originalPrice': '#',\n",
       "  'color': '#',\n",
       "  'category': 'Base Make Up',\n",
       "  'brand': 'ohui',\n",
       "  'volume': 'Second Skin Foundation 35ml'}]"
      ]
     },
     "metadata": {},
     "output_type": "display_data"
    },
    {
     "data": {
      "text/plain": [
       "[{'name': '미라클 모이스처 퍼펙팅 피니셔',\n",
       "  'url': 'http://www.ohui.co.kr/product/detail.jsp?pid=ACM29766&cid1=1&cid2=L',\n",
       "  'image': ['http://www.careshop.co.kr/eimages/display/ACM29766_E04_l.png'],\n",
       "  'salePrice': '#',\n",
       "  'originalPrice': '#',\n",
       "  'color': '#',\n",
       "  'category': 'Essence',\n",
       "  'brand': 'ohui',\n",
       "  'volume': 'Miracle Moisture Perfecting Finisher 45ml'}]"
      ]
     },
     "metadata": {},
     "output_type": "display_data"
    },
    {
     "data": {
      "text/plain": [
       "[{'name': '더 퍼스트 제너츄어 앰풀 커버 쿠션 SPF50+, PA+++',\n",
       "  'url': 'http://www.ohui.co.kr/product/detail.jsp?pid=ACM40935&cid1=1&cid2=L',\n",
       "  'image': ['http://www.careshop.co.kr/eimages/display/ACM40935_E04_l.png'],\n",
       "  'salePrice': '#',\n",
       "  'originalPrice': '#',\n",
       "  'color': '#',\n",
       "  'category': 'Base Make Up',\n",
       "  'brand': 'ohui',\n",
       "  'volume': 'THE FIRST GENITURE AMPOULE COVER CUSHION 15g + 15g (1호 : 밀크베이지, 2호 : 허니베이지)'}]"
      ]
     },
     "metadata": {},
     "output_type": "display_data"
    },
    {
     "data": {
      "text/plain": [
       "[{'name': '미라클 모이스처 쉬폰 쿠션',\n",
       "  'url': 'http://www.ohui.co.kr/product/detail.jsp?pid=ACM28294&cid1=1&cid2=L',\n",
       "  'image': ['http://www.careshop.co.kr/eimages/display/ACM28294_E04_l.png'],\n",
       "  'salePrice': '#',\n",
       "  'originalPrice': '#',\n",
       "  'color': '#',\n",
       "  'category': 'Base Make Up',\n",
       "  'brand': 'ohui',\n",
       "  'volume': 'Miracle Moisture Chiffon Cushion 15g'}]"
      ]
     },
     "metadata": {},
     "output_type": "display_data"
    },
    {
     "data": {
      "text/plain": [
       "[{'name': '스킨 퍼펙팅 컨실러 듀오',\n",
       "  'url': 'http://www.ohui.co.kr/product/detail.jsp?pid=ACM06110&cid1=1&cid2=L',\n",
       "  'image': ['http://www.careshop.co.kr/eimages/display/ACM06110_E04_l.png'],\n",
       "  'salePrice': '#',\n",
       "  'originalPrice': '#',\n",
       "  'color': '#',\n",
       "  'category': 'Base Make Up',\n",
       "  'brand': 'ohui',\n",
       "  'volume': 'Skin Perfecting Concealer Duo 5.5g/2.5g'}]"
      ]
     },
     "metadata": {},
     "output_type": "display_data"
    },
    {
     "data": {
      "text/plain": [
       "[{'name': '리얼컬러2 아이섀도우',\n",
       "  'url': 'http://www.ohui.co.kr/product/detail.jsp?pid=ACM25444&cid1=1&cid2=M',\n",
       "  'image': ['http://www.careshop.co.kr/eimages/display/ACM25444_E04_l.png',\n",
       "   'http://www.ohui.co.kr/resources/images/content/color24.jpg'],\n",
       "  'salePrice': '#',\n",
       "  'originalPrice': '#',\n",
       "  'color': '#',\n",
       "  'category': 'Point Make Up',\n",
       "  'brand': 'ohui',\n",
       "  'volume': 'Real color 2 eyeshadow \\u30000'},\n",
       " {'name': '리얼컬러2 아이섀도우',\n",
       "  'url': 'http://www.ohui.co.kr/product/detail.jsp?pid=ACM25444&cid1=1&cid2=M',\n",
       "  'image': ['http://www.careshop.co.kr/eimages/display/ACM25444_E04_l.png',\n",
       "   'http://www.ohui.co.kr/resources/images/content/color25.jpg'],\n",
       "  'salePrice': '#',\n",
       "  'originalPrice': '#',\n",
       "  'color': '#',\n",
       "  'category': 'Point Make Up',\n",
       "  'brand': 'ohui',\n",
       "  'volume': 'Real color 2 eyeshadow \\u30000'},\n",
       " {'name': '리얼컬러2 아이섀도우',\n",
       "  'url': 'http://www.ohui.co.kr/product/detail.jsp?pid=ACM25444&cid1=1&cid2=M',\n",
       "  'image': ['http://www.careshop.co.kr/eimages/display/ACM25444_E04_l.png',\n",
       "   'http://www.ohui.co.kr/resources/images/content/color26.jpg'],\n",
       "  'salePrice': '#',\n",
       "  'originalPrice': '#',\n",
       "  'color': '#',\n",
       "  'category': 'Point Make Up',\n",
       "  'brand': 'ohui',\n",
       "  'volume': 'Real color 2 eyeshadow \\u30000'},\n",
       " {'name': '리얼컬러2 아이섀도우',\n",
       "  'url': 'http://www.ohui.co.kr/product/detail.jsp?pid=ACM25444&cid1=1&cid2=M',\n",
       "  'image': ['http://www.careshop.co.kr/eimages/display/ACM25444_E04_l.png',\n",
       "   'http://www.ohui.co.kr/resources/images/content/color27.jpg'],\n",
       "  'salePrice': '#',\n",
       "  'originalPrice': '#',\n",
       "  'color': '#',\n",
       "  'category': 'Point Make Up',\n",
       "  'brand': 'ohui',\n",
       "  'volume': 'Real color 2 eyeshadow \\u30000'},\n",
       " {'name': '리얼컬러2 아이섀도우',\n",
       "  'url': 'http://www.ohui.co.kr/product/detail.jsp?pid=ACM25444&cid1=1&cid2=M',\n",
       "  'image': ['http://www.careshop.co.kr/eimages/display/ACM25444_E04_l.png',\n",
       "   'http://www.ohui.co.kr/resources/images/content/color28.jpg'],\n",
       "  'salePrice': '#',\n",
       "  'originalPrice': '#',\n",
       "  'color': '#',\n",
       "  'category': 'Point Make Up',\n",
       "  'brand': 'ohui',\n",
       "  'volume': 'Real color 2 eyeshadow \\u30000'}]"
      ]
     },
     "metadata": {},
     "output_type": "display_data"
    },
    {
     "data": {
      "text/plain": [
       "[{'name': '리얼 컬러 5 아이섀도우',\n",
       "  'url': 'http://www.ohui.co.kr/product/detail.jsp?pid=ACM06719&cid1=1&cid2=M',\n",
       "  'image': ['http://www.careshop.co.kr/eimages/display/ACM06719_E04_l.png',\n",
       "   'http://www.ohui.co.kr/resources/images/content/color1.jpg'],\n",
       "  'salePrice': '#',\n",
       "  'originalPrice': '#',\n",
       "  'color': '#',\n",
       "  'category': 'Point Make Up',\n",
       "  'brand': 'ohui',\n",
       "  'volume': 'Real Color 5 eye shadow 5.4g / 6 shade'},\n",
       " {'name': '리얼 컬러 5 아이섀도우',\n",
       "  'url': 'http://www.ohui.co.kr/product/detail.jsp?pid=ACM06719&cid1=1&cid2=M',\n",
       "  'image': ['http://www.careshop.co.kr/eimages/display/ACM06719_E04_l.png',\n",
       "   'http://www.ohui.co.kr/resources/images/content/color2.jpg'],\n",
       "  'salePrice': '#',\n",
       "  'originalPrice': '#',\n",
       "  'color': '#',\n",
       "  'category': 'Point Make Up',\n",
       "  'brand': 'ohui',\n",
       "  'volume': 'Real Color 5 eye shadow 5.4g / 6 shade'},\n",
       " {'name': '리얼 컬러 5 아이섀도우',\n",
       "  'url': 'http://www.ohui.co.kr/product/detail.jsp?pid=ACM06719&cid1=1&cid2=M',\n",
       "  'image': ['http://www.careshop.co.kr/eimages/display/ACM06719_E04_l.png',\n",
       "   'http://www.ohui.co.kr/resources/images/content/color3.jpg'],\n",
       "  'salePrice': '#',\n",
       "  'originalPrice': '#',\n",
       "  'color': '#',\n",
       "  'category': 'Point Make Up',\n",
       "  'brand': 'ohui',\n",
       "  'volume': 'Real Color 5 eye shadow 5.4g / 6 shade'},\n",
       " {'name': '리얼 컬러 5 아이섀도우',\n",
       "  'url': 'http://www.ohui.co.kr/product/detail.jsp?pid=ACM06719&cid1=1&cid2=M',\n",
       "  'image': ['http://www.careshop.co.kr/eimages/display/ACM06719_E04_l.png',\n",
       "   'http://www.ohui.co.kr/resources/images/content/color4.jpg'],\n",
       "  'salePrice': '#',\n",
       "  'originalPrice': '#',\n",
       "  'color': '#',\n",
       "  'category': 'Point Make Up',\n",
       "  'brand': 'ohui',\n",
       "  'volume': 'Real Color 5 eye shadow 5.4g / 6 shade'},\n",
       " {'name': '리얼 컬러 5 아이섀도우',\n",
       "  'url': 'http://www.ohui.co.kr/product/detail.jsp?pid=ACM06719&cid1=1&cid2=M',\n",
       "  'image': ['http://www.careshop.co.kr/eimages/display/ACM06719_E04_l.png',\n",
       "   'http://www.ohui.co.kr/resources/images/content/color5.jpg'],\n",
       "  'salePrice': '#',\n",
       "  'originalPrice': '#',\n",
       "  'color': '#',\n",
       "  'category': 'Point Make Up',\n",
       "  'brand': 'ohui',\n",
       "  'volume': 'Real Color 5 eye shadow 5.4g / 6 shade'},\n",
       " {'name': '리얼 컬러 5 아이섀도우',\n",
       "  'url': 'http://www.ohui.co.kr/product/detail.jsp?pid=ACM06719&cid1=1&cid2=M',\n",
       "  'image': ['http://www.careshop.co.kr/eimages/display/ACM06719_E04_l.png',\n",
       "   'http://www.ohui.co.kr/resources/images/content/color6.jpg'],\n",
       "  'salePrice': '#',\n",
       "  'originalPrice': '#',\n",
       "  'color': '#',\n",
       "  'category': 'Point Make Up',\n",
       "  'brand': 'ohui',\n",
       "  'volume': 'Real Color 5 eye shadow 5.4g / 6 shade'}]"
      ]
     },
     "metadata": {},
     "output_type": "display_data"
    },
    {
     "data": {
      "text/plain": [
       "[{'name': '래쉬 스테이 마스카라',\n",
       "  'url': 'http://www.ohui.co.kr/product/detail.jsp?pid=ACM05494&cid1=1&cid2=M',\n",
       "  'image': ['http://www.careshop.co.kr/eimages/display/ACM05494_E04_l.png'],\n",
       "  'salePrice': '#',\n",
       "  'originalPrice': '#',\n",
       "  'color': '#',\n",
       "  'category': 'Point Make Up',\n",
       "  'brand': 'ohui',\n",
       "  'volume': 'Lash Stay Mascara'}]"
      ]
     },
     "metadata": {},
     "output_type": "display_data"
    },
    {
     "data": {
      "text/plain": [
       "[{'name': '아이브로우 틴트',\n",
       "  'url': 'http://www.ohui.co.kr/product/detail.jsp?pid=ACM04081&cid1=1&cid2=M',\n",
       "  'image': ['http://www.careshop.co.kr/eimages/display/ACM04081_E04_l.png'],\n",
       "  'salePrice': '#',\n",
       "  'originalPrice': '#',\n",
       "  'color': '#',\n",
       "  'category': 'Point Make Up',\n",
       "  'brand': 'ohui',\n",
       "  'volume': 'EyeBrow Tint 2g'}]"
      ]
     },
     "metadata": {},
     "output_type": "display_data"
    }
   ],
   "source": [
    "driver.get(url_products)\n",
    "result = []\n",
    "categoryList = getCategoryList()\n",
    "for category in categoryList:\n",
    "    driver.get(category)\n",
    "    itemList = getItemList()\n",
    "    for item in itemList:\n",
    "        driver.get(item)\n",
    "        result += getItem()\n"
   ]
  },
  {
   "cell_type": "code",
   "execution_count": 11,
   "metadata": {},
   "outputs": [],
   "source": [
    "output = json.dumps(result,ensure_ascii=False, indent='\\t')\n",
    "\n",
    "writeJSON(output, output_name = 'ohui.json')"
   ]
  },
  {
   "cell_type": "code",
   "execution_count": 10,
   "metadata": {},
   "outputs": [],
   "source": [
    "# [r['volume'].split()[-1] for r in result]"
   ]
  },
  {
   "cell_type": "code",
   "execution_count": null,
   "metadata": {},
   "outputs": [],
   "source": []
  }
 ],
 "metadata": {
  "kernelspec": {
   "display_name": "Python 3",
   "language": "python",
   "name": "python3"
  },
  "language_info": {
   "codemirror_mode": {
    "name": "ipython",
    "version": 3
   },
   "file_extension": ".py",
   "mimetype": "text/x-python",
   "name": "python",
   "nbconvert_exporter": "python",
   "pygments_lexer": "ipython3",
   "version": "3.7.0"
  }
 },
 "nbformat": 4,
 "nbformat_minor": 2
}
