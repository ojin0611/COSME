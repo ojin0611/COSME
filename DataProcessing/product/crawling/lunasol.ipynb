{
 "cells": [
  {
   "cell_type": "markdown",
   "metadata": {},
   "source": [
    "# lunasol"
   ]
  },
  {
   "cell_type": "code",
   "execution_count": 1,
   "metadata": {},
   "outputs": [],
   "source": [
    "from bs4 import BeautifulSoup as bs              # 데이터파싱 라이브러리\n",
    "from selenium import webdriver\n",
    "import json\n",
    "import platform\n",
    "import re\n",
    "import copy"
   ]
  },
  {
   "cell_type": "markdown",
   "metadata": {},
   "source": [
    "# write to json file"
   ]
  },
  {
   "cell_type": "code",
   "execution_count": 2,
   "metadata": {},
   "outputs": [],
   "source": [
    "def writeJSON(jsonString, output_name='data.json'):\n",
    "    with open(output_name,'w',encoding='UTF-8') as file:\n",
    "        file.write(jsonString)\n"
   ]
  },
  {
   "cell_type": "markdown",
   "metadata": {},
   "source": [
    "# get item"
   ]
  },
  {
   "cell_type": "code",
   "execution_count": 9,
   "metadata": {},
   "outputs": [],
   "source": [
    "def getItem(driver): #루나솔 버전\n",
    "    html = driver.page_source\n",
    "    soup = bs(html,'lxml')\n",
    "    \n",
    "    name = soup.find('div',{'class':'product_summary'}).h1.get_text()    \n",
    "    url = driver.current_url\n",
    "    category = soup.find('div',{'id':'directory_link'}).get_text().replace(' > '+name,\"\")\n",
    "    imageList = []\n",
    "    image_main = url_home + soup.find('div',{'class':'product_photo'}).img['src']\n",
    "    imageList.append(image_main)\n",
    "    \n",
    "    \n",
    "    # item 설정\n",
    "    item = {'name':'#', 'url':'#', 'image':'#', 'color':'#', 'category':'#', \n",
    "                   'salePrice':'#', 'originalPrice':'#', 'brand':'lunasol','volume':'#'}\n",
    "    \n",
    "    item['name']=name\n",
    "    item['url'] = url\n",
    "    item['category']=category.strip()\n",
    "    item['image'] = imageList\n",
    "    \n",
    "    # return 할 json 설정\n",
    "    item_json = []\n",
    "    \n",
    "    # color로 상품 구분\n",
    "    colors= soup.find('div',{'class':'product_color'})\n",
    "    \n",
    "    if colors: # 색상이 있는 경우\n",
    "        colors = colors.find_all('img')\n",
    "        for color in colors:\n",
    "            image_color = url_home + color['src']\n",
    "            name_color = color['alt']\n",
    "\n",
    "            item_dict = copy.deepcopy(item)\n",
    "            item_dict['image'].append(image_color)\n",
    "            item_dict['color'] = name_color\n",
    "            item_json.append(item_dict)\n",
    "            \n",
    "    else:\n",
    "        colors='#'\n",
    "        item_dict = copy.deepcopy(item)\n",
    "        item_dict['color'] = colors\n",
    "        item_json.append(item_dict)\n",
    "        \n",
    "    display(item_json)\n",
    "    return item_json\n"
   ]
  },
  {
   "cell_type": "markdown",
   "metadata": {},
   "source": [
    "# start"
   ]
  },
  {
   "cell_type": "code",
   "execution_count": 4,
   "metadata": {},
   "outputs": [],
   "source": [
    "path = 'chromedriver.exe' if (platform.system() == 'Windows') else '/Users/jg/Desktop/develop/DataTeam/DataProcessing/product/crawling/chromedriver';\n",
    "driver = webdriver.Chrome(path)"
   ]
  },
  {
   "cell_type": "code",
   "execution_count": 10,
   "metadata": {},
   "outputs": [],
   "source": [
    "url_home = 'https://www.lunasol-net.com'\n",
    "url_product = 'https://www.lunasol-net.com/kr/product/index.html'\n",
    "driver.get(url_product)"
   ]
  },
  {
   "cell_type": "markdown",
   "metadata": {},
   "source": [
    "## get category"
   ]
  },
  {
   "cell_type": "code",
   "execution_count": 11,
   "metadata": {},
   "outputs": [],
   "source": [
    "html = driver.page_source\n",
    "soup = bs(html,'lxml')\n",
    "category_total = soup.find('div',{'class':'product_mn_list png_fix'})\n",
    "category_big = category_total.find_all('div')"
   ]
  },
  {
   "cell_type": "markdown",
   "metadata": {},
   "source": [
    "# crawling start"
   ]
  },
  {
   "cell_type": "code",
   "execution_count": 12,
   "metadata": {},
   "outputs": [
    {
     "data": {
      "text/plain": [
       "[{'name': 'GEMINATE EYES N',\n",
       "  'url': 'https://www.lunasol-net.com/kr/product/details/pointmake/p0101004.html',\n",
       "  'image': ['https://www.lunasol-net.com/kr/product/parts/p0101004/img/l.jpg',\n",
       "   'https://www.lunasol-net.com/kr/product/parts/p0101004/img/01_ce.jpg'],\n",
       "  'color': '01 CE',\n",
       "  'category': 'TOP > PRODUCT > POINT MAKEUP > EYE SHADOW',\n",
       "  'salePrice': '#',\n",
       "  'originalPrice': '#',\n",
       "  'brand': 'lunasol',\n",
       "  'volume': '#'},\n",
       " {'name': 'GEMINATE EYES N',\n",
       "  'url': 'https://www.lunasol-net.com/kr/product/details/pointmake/p0101004.html',\n",
       "  'image': ['https://www.lunasol-net.com/kr/product/parts/p0101004/img/l.jpg',\n",
       "   'https://www.lunasol-net.com/kr/product/parts/p0101004/img/05_rb.jpg'],\n",
       "  'color': '05 RB',\n",
       "  'category': 'TOP > PRODUCT > POINT MAKEUP > EYE SHADOW',\n",
       "  'salePrice': '#',\n",
       "  'originalPrice': '#',\n",
       "  'brand': 'lunasol',\n",
       "  'volume': '#'}]"
      ]
     },
     "metadata": {},
     "output_type": "display_data"
    },
    {
     "data": {
      "text/plain": [
       "[{'name': 'THE BEIGE EYES',\n",
       "  'url': 'https://www.lunasol-net.com/kr/product/details/pointmake/p0102022.html',\n",
       "  'image': ['https://www.lunasol-net.com/kr/product/parts/p0102022/img/l.jpg',\n",
       "   'https://www.lunasol-net.com/kr/product/parts/p0102022/img/01_neutral_beige.jpg'],\n",
       "  'color': '01 Neutral Beige',\n",
       "  'category': 'TOP > PRODUCT > POINT MAKEUP > EYE SHADOW',\n",
       "  'salePrice': '#',\n",
       "  'originalPrice': '#',\n",
       "  'brand': 'lunasol',\n",
       "  'volume': '#'},\n",
       " {'name': 'THE BEIGE EYES',\n",
       "  'url': 'https://www.lunasol-net.com/kr/product/details/pointmake/p0102022.html',\n",
       "  'image': ['https://www.lunasol-net.com/kr/product/parts/p0102022/img/l.jpg',\n",
       "   'https://www.lunasol-net.com/kr/product/parts/p0102022/img/02_noble_beige.jpg'],\n",
       "  'color': '02 Noble Beige',\n",
       "  'category': 'TOP > PRODUCT > POINT MAKEUP > EYE SHADOW',\n",
       "  'salePrice': '#',\n",
       "  'originalPrice': '#',\n",
       "  'brand': 'lunasol',\n",
       "  'volume': '#'}]"
      ]
     },
     "metadata": {},
     "output_type": "display_data"
    },
    {
     "data": {
      "text/plain": [
       "[{'name': 'NUANCE SHADE EYES',\n",
       "  'url': 'https://www.lunasol-net.com/kr/product/details/pointmake/p0101033.html',\n",
       "  'image': ['https://www.lunasol-net.com/kr/product/parts/p0101033/img/l.jpg',\n",
       "   'https://www.lunasol-net.com/kr/product/parts/p0101033/img/01_romantic_scene.jpg'],\n",
       "  'color': '01 Romantic Scene',\n",
       "  'category': 'TOP > PRODUCT > POINT MAKEUP > EYE SHADOW',\n",
       "  'salePrice': '#',\n",
       "  'originalPrice': '#',\n",
       "  'brand': 'lunasol',\n",
       "  'volume': '#'},\n",
       " {'name': 'NUANCE SHADE EYES',\n",
       "  'url': 'https://www.lunasol-net.com/kr/product/details/pointmake/p0101033.html',\n",
       "  'image': ['https://www.lunasol-net.com/kr/product/parts/p0101033/img/l.jpg',\n",
       "   'https://www.lunasol-net.com/kr/product/parts/p0101033/img/02_tender_scene.jpg'],\n",
       "  'color': '02 Tender Scene',\n",
       "  'category': 'TOP > PRODUCT > POINT MAKEUP > EYE SHADOW',\n",
       "  'salePrice': '#',\n",
       "  'originalPrice': '#',\n",
       "  'brand': 'lunasol',\n",
       "  'volume': '#'},\n",
       " {'name': 'NUANCE SHADE EYES',\n",
       "  'url': 'https://www.lunasol-net.com/kr/product/details/pointmake/p0101033.html',\n",
       "  'image': ['https://www.lunasol-net.com/kr/product/parts/p0101033/img/l.jpg',\n",
       "   'https://www.lunasol-net.com/kr/product/parts/p0101033/img/03_foggy_scene.jpg'],\n",
       "  'color': '03 Foggy Scene',\n",
       "  'category': 'TOP > PRODUCT > POINT MAKEUP > EYE SHADOW',\n",
       "  'salePrice': '#',\n",
       "  'originalPrice': '#',\n",
       "  'brand': 'lunasol',\n",
       "  'volume': '#'},\n",
       " {'name': 'NUANCE SHADE EYES',\n",
       "  'url': 'https://www.lunasol-net.com/kr/product/details/pointmake/p0101033.html',\n",
       "  'image': ['https://www.lunasol-net.com/kr/product/parts/p0101033/img/l.jpg',\n",
       "   'https://www.lunasol-net.com/kr/product/parts/p0101033/img/04_dazzling_night_scene.jpg'],\n",
       "  'color': '04 Dazzling Night Scene',\n",
       "  'category': 'TOP > PRODUCT > POINT MAKEUP > EYE SHADOW',\n",
       "  'salePrice': '#',\n",
       "  'originalPrice': '#',\n",
       "  'brand': 'lunasol',\n",
       "  'volume': '#'}]"
      ]
     },
     "metadata": {},
     "output_type": "display_data"
    },
    {
     "data": {
      "text/plain": [
       "[{'name': 'MACARON GLOW EYES',\n",
       "  'url': 'https://www.lunasol-net.com/kr/product/details/pointmake/p0101031.html',\n",
       "  'image': ['https://www.lunasol-net.com/kr/product/parts/p0101031/img/l.jpg',\n",
       "   'https://www.lunasol-net.com/kr/product/parts/p0101031/img/01_cassis.jpg'],\n",
       "  'color': '01 Cassis',\n",
       "  'category': 'TOP > PRODUCT > POINT MAKEUP > EYE SHADOW',\n",
       "  'salePrice': '#',\n",
       "  'originalPrice': '#',\n",
       "  'brand': 'lunasol',\n",
       "  'volume': '#'},\n",
       " {'name': 'MACARON GLOW EYES',\n",
       "  'url': 'https://www.lunasol-net.com/kr/product/details/pointmake/p0101031.html',\n",
       "  'image': ['https://www.lunasol-net.com/kr/product/parts/p0101031/img/l.jpg',\n",
       "   'https://www.lunasol-net.com/kr/product/parts/p0101031/img/02_green_tea.jpg'],\n",
       "  'color': '02 Green Tea',\n",
       "  'category': 'TOP > PRODUCT > POINT MAKEUP > EYE SHADOW',\n",
       "  'salePrice': '#',\n",
       "  'originalPrice': '#',\n",
       "  'brand': 'lunasol',\n",
       "  'volume': '#'},\n",
       " {'name': 'MACARON GLOW EYES',\n",
       "  'url': 'https://www.lunasol-net.com/kr/product/details/pointmake/p0101031.html',\n",
       "  'image': ['https://www.lunasol-net.com/kr/product/parts/p0101031/img/l.jpg',\n",
       "   'https://www.lunasol-net.com/kr/product/parts/p0101031/img/03_caramel.jpg'],\n",
       "  'color': '03 Caramel',\n",
       "  'category': 'TOP > PRODUCT > POINT MAKEUP > EYE SHADOW',\n",
       "  'salePrice': '#',\n",
       "  'originalPrice': '#',\n",
       "  'brand': 'lunasol',\n",
       "  'volume': '#'}]"
      ]
     },
     "metadata": {},
     "output_type": "display_data"
    },
    {
     "data": {
      "text/plain": [
       "[{'name': 'SHINE FALL EYES',\n",
       "  'url': 'https://www.lunasol-net.com/kr/product/details/pointmake/p0101030.html',\n",
       "  'image': ['https://www.lunasol-net.com/kr/product/parts/p0101030/img/l.jpg',\n",
       "   'https://www.lunasol-net.com/kr/product/parts/p0101030/img/01_natural.jpg'],\n",
       "  'color': '01 Natural',\n",
       "  'category': 'TOP > PRODUCT > POINT MAKEUP > EYE SHADOW',\n",
       "  'salePrice': '#',\n",
       "  'originalPrice': '#',\n",
       "  'brand': 'lunasol',\n",
       "  'volume': '#'},\n",
       " {'name': 'SHINE FALL EYES',\n",
       "  'url': 'https://www.lunasol-net.com/kr/product/details/pointmake/p0101030.html',\n",
       "  'image': ['https://www.lunasol-net.com/kr/product/parts/p0101030/img/l.jpg',\n",
       "   'https://www.lunasol-net.com/kr/product/parts/p0101030/img/02_sophisticate.jpg'],\n",
       "  'color': '02 Sophisticate',\n",
       "  'category': 'TOP > PRODUCT > POINT MAKEUP > EYE SHADOW',\n",
       "  'salePrice': '#',\n",
       "  'originalPrice': '#',\n",
       "  'brand': 'lunasol',\n",
       "  'volume': '#'},\n",
       " {'name': 'SHINE FALL EYES',\n",
       "  'url': 'https://www.lunasol-net.com/kr/product/details/pointmake/p0101030.html',\n",
       "  'image': ['https://www.lunasol-net.com/kr/product/parts/p0101030/img/l.jpg',\n",
       "   'https://www.lunasol-net.com/kr/product/parts/p0101030/img/03_elegant.jpg'],\n",
       "  'color': '03 Elegant',\n",
       "  'category': 'TOP > PRODUCT > POINT MAKEUP > EYE SHADOW',\n",
       "  'salePrice': '#',\n",
       "  'originalPrice': '#',\n",
       "  'brand': 'lunasol',\n",
       "  'volume': '#'}]"
      ]
     },
     "metadata": {},
     "output_type": "display_data"
    },
    {
     "data": {
      "text/plain": [
       "[{'name': 'COLORFUL SKY EYES',\n",
       "  'url': 'https://www.lunasol-net.com/kr/product/details/pointmake/p0101028.html',\n",
       "  'image': ['https://www.lunasol-net.com/kr/product/parts/p0101028/img/l.jpg',\n",
       "   'https://www.lunasol-net.com/kr/product/parts/p0101028/img/02_blue_green.jpg'],\n",
       "  'color': '02 Blue Green',\n",
       "  'category': 'TOP > PRODUCT > POINT MAKEUP > EYE SHADOW',\n",
       "  'salePrice': '#',\n",
       "  'originalPrice': '#',\n",
       "  'brand': 'lunasol',\n",
       "  'volume': '#'},\n",
       " {'name': 'COLORFUL SKY EYES',\n",
       "  'url': 'https://www.lunasol-net.com/kr/product/details/pointmake/p0101028.html',\n",
       "  'image': ['https://www.lunasol-net.com/kr/product/parts/p0101028/img/l.jpg',\n",
       "   'https://www.lunasol-net.com/kr/product/parts/p0101028/img/03_pink_orange.jpg'],\n",
       "  'color': '03 Pink Orange',\n",
       "  'category': 'TOP > PRODUCT > POINT MAKEUP > EYE SHADOW',\n",
       "  'salePrice': '#',\n",
       "  'originalPrice': '#',\n",
       "  'brand': 'lunasol',\n",
       "  'volume': '#'}]"
      ]
     },
     "metadata": {},
     "output_type": "display_data"
    },
    {
     "data": {
      "text/plain": [
       "[{'name': 'SPARKLING EYES',\n",
       "  'url': 'https://www.lunasol-net.com/kr/product/details/pointmake/p0101024.html',\n",
       "  'image': ['https://www.lunasol-net.com/kr/product/parts/p0101024/img/l.jpg',\n",
       "   'https://www.lunasol-net.com/kr/product/parts/p0101024/img/01_gold_sparkling.jpg'],\n",
       "  'color': '01 Gold Sparkling',\n",
       "  'category': 'TOP > PRODUCT > POINT MAKEUP > EYE SHADOW',\n",
       "  'salePrice': '#',\n",
       "  'originalPrice': '#',\n",
       "  'brand': 'lunasol',\n",
       "  'volume': '#'},\n",
       " {'name': 'SPARKLING EYES',\n",
       "  'url': 'https://www.lunasol-net.com/kr/product/details/pointmake/p0101024.html',\n",
       "  'image': ['https://www.lunasol-net.com/kr/product/parts/p0101024/img/l.jpg',\n",
       "   'https://www.lunasol-net.com/kr/product/parts/p0101024/img/02_rose_pink_sparkling.jpg'],\n",
       "  'color': '02 Rose Pink Sparkling',\n",
       "  'category': 'TOP > PRODUCT > POINT MAKEUP > EYE SHADOW',\n",
       "  'salePrice': '#',\n",
       "  'originalPrice': '#',\n",
       "  'brand': 'lunasol',\n",
       "  'volume': '#'}]"
      ]
     },
     "metadata": {},
     "output_type": "display_data"
    },
    {
     "data": {
      "text/plain": [
       "[{'name': 'SELECTION DE CHOCOLAT EYES',\n",
       "  'url': 'https://www.lunasol-net.com/kr/product/details/pointmake/p0101023.html',\n",
       "  'image': ['https://www.lunasol-net.com/kr/product/parts/p0101023/img/l.jpg',\n",
       "   'https://www.lunasol-net.com/kr/product/parts/p0101023/img/01_chocolat_blanc.jpg'],\n",
       "  'color': '01 Chocolat Blanc',\n",
       "  'category': 'TOP > PRODUCT > POINT MAKEUP > EYE SHADOW',\n",
       "  'salePrice': '#',\n",
       "  'originalPrice': '#',\n",
       "  'brand': 'lunasol',\n",
       "  'volume': '#'},\n",
       " {'name': 'SELECTION DE CHOCOLAT EYES',\n",
       "  'url': 'https://www.lunasol-net.com/kr/product/details/pointmake/p0101023.html',\n",
       "  'image': ['https://www.lunasol-net.com/kr/product/parts/p0101023/img/l.jpg',\n",
       "   'https://www.lunasol-net.com/kr/product/parts/p0101023/img/02_chocolat_amer.jpg'],\n",
       "  'color': '02 Chocolat Amer',\n",
       "  'category': 'TOP > PRODUCT > POINT MAKEUP > EYE SHADOW',\n",
       "  'salePrice': '#',\n",
       "  'originalPrice': '#',\n",
       "  'brand': 'lunasol',\n",
       "  'volume': '#'},\n",
       " {'name': 'SELECTION DE CHOCOLAT EYES',\n",
       "  'url': 'https://www.lunasol-net.com/kr/product/details/pointmake/p0101023.html',\n",
       "  'image': ['https://www.lunasol-net.com/kr/product/parts/p0101023/img/l.jpg',\n",
       "   'https://www.lunasol-net.com/kr/product/parts/p0101023/img/03_chocolat_raisin.jpg'],\n",
       "  'color': '03 Chocolat Raisin',\n",
       "  'category': 'TOP > PRODUCT > POINT MAKEUP > EYE SHADOW',\n",
       "  'salePrice': '#',\n",
       "  'originalPrice': '#',\n",
       "  'brand': 'lunasol',\n",
       "  'volume': '#'}]"
      ]
     },
     "metadata": {},
     "output_type": "display_data"
    },
    {
     "data": {
      "text/plain": [
       "[{'name': 'GRACE CONTRASTING EYES',\n",
       "  'url': 'https://www.lunasol-net.com/kr/product/details/pointmake/p0101020.html',\n",
       "  'image': ['https://www.lunasol-net.com/kr/product/parts/p0101020/img/l.jpg',\n",
       "   'https://www.lunasol-net.com/kr/product/parts/p0101020/img/02_romantic_pink.jpg'],\n",
       "  'color': '02 Romantic Pink',\n",
       "  'category': 'TOP > PRODUCT > POINT MAKEUP > EYE SHADOW',\n",
       "  'salePrice': '#',\n",
       "  'originalPrice': '#',\n",
       "  'brand': 'lunasol',\n",
       "  'volume': '#'}]"
      ]
     },
     "metadata": {},
     "output_type": "display_data"
    },
    {
     "data": {
      "text/plain": [
       "[{'name': 'SAND NATURAL EYES',\n",
       "  'url': 'https://www.lunasol-net.com/kr/product/details/pointmake/p0101018.html',\n",
       "  'image': ['https://www.lunasol-net.com/kr/product/parts/p0101018/img/l.jpg',\n",
       "   'https://www.lunasol-net.com/kr/product/parts/p0101018/img/01_neutral_sand.jpg'],\n",
       "  'color': '01 Neutral Sand',\n",
       "  'category': 'TOP > PRODUCT > POINT MAKEUP > EYE SHADOW',\n",
       "  'salePrice': '#',\n",
       "  'originalPrice': '#',\n",
       "  'brand': 'lunasol',\n",
       "  'volume': '#'},\n",
       " {'name': 'SAND NATURAL EYES',\n",
       "  'url': 'https://www.lunasol-net.com/kr/product/details/pointmake/p0101018.html',\n",
       "  'image': ['https://www.lunasol-net.com/kr/product/parts/p0101018/img/l.jpg',\n",
       "   'https://www.lunasol-net.com/kr/product/parts/p0101018/img/04_cool_sand.jpg'],\n",
       "  'color': '04 Cool Sand',\n",
       "  'category': 'TOP > PRODUCT > POINT MAKEUP > EYE SHADOW',\n",
       "  'salePrice': '#',\n",
       "  'originalPrice': '#',\n",
       "  'brand': 'lunasol',\n",
       "  'volume': '#'}]"
      ]
     },
     "metadata": {},
     "output_type": "display_data"
    },
    {
     "data": {
      "text/plain": [
       "[{'name': 'VELVETFUL EYES',\n",
       "  'url': 'https://www.lunasol-net.com/kr/product/details/pointmake/p0101016.html',\n",
       "  'image': ['https://www.lunasol-net.com/kr/product/parts/p0101016/img/l.jpg',\n",
       "   'https://www.lunasol-net.com/kr/product/parts/p0101016/img/01_deep_bordeaux_velvet.jpg'],\n",
       "  'color': '01 Deep Bordeaux Velvet',\n",
       "  'category': 'TOP > PRODUCT > POINT MAKEUP > EYE SHADOW',\n",
       "  'salePrice': '#',\n",
       "  'originalPrice': '#',\n",
       "  'brand': 'lunasol',\n",
       "  'volume': '#'},\n",
       " {'name': 'VELVETFUL EYES',\n",
       "  'url': 'https://www.lunasol-net.com/kr/product/details/pointmake/p0101016.html',\n",
       "  'image': ['https://www.lunasol-net.com/kr/product/parts/p0101016/img/l.jpg',\n",
       "   'https://www.lunasol-net.com/kr/product/parts/p0101016/img/03_dark_brown_velvet.jpg'],\n",
       "  'color': '03 Dark Brown Velvet',\n",
       "  'category': 'TOP > PRODUCT > POINT MAKEUP > EYE SHADOW',\n",
       "  'salePrice': '#',\n",
       "  'originalPrice': '#',\n",
       "  'brand': 'lunasol',\n",
       "  'volume': '#'}]"
      ]
     },
     "metadata": {},
     "output_type": "display_data"
    },
    {
     "data": {
      "text/plain": [
       "[{'name': 'PETAL PURE EYES',\n",
       "  'url': 'https://www.lunasol-net.com/kr/product/details/pointmake/p0101012.html',\n",
       "  'image': ['https://www.lunasol-net.com/kr/product/parts/p0101012/img/l.jpg',\n",
       "   'https://www.lunasol-net.com/kr/product/parts/p0101012/img/01_sweet_peach.jpg'],\n",
       "  'color': '01 Sweet Peach',\n",
       "  'category': 'TOP > PRODUCT > POINT MAKEUP > EYE SHADOW',\n",
       "  'salePrice': '#',\n",
       "  'originalPrice': '#',\n",
       "  'brand': 'lunasol',\n",
       "  'volume': '#'}]"
      ]
     },
     "metadata": {},
     "output_type": "display_data"
    },
    {
     "data": {
      "text/plain": [
       "[{'name': 'THREE-DIMENSIONAL EYES',\n",
       "  'url': 'https://www.lunasol-net.com/kr/product/details/pointmake/p0101011.html',\n",
       "  'image': ['https://www.lunasol-net.com/kr/product/parts/p0101011/img/l.jpg',\n",
       "   'https://www.lunasol-net.com/kr/product/parts/p0101011/img/01_neutral_beige.jpg'],\n",
       "  'color': '01 Neutral Beige',\n",
       "  'category': 'TOP > PRODUCT > POINT MAKEUP > EYE SHADOW',\n",
       "  'salePrice': '#',\n",
       "  'originalPrice': '#',\n",
       "  'brand': 'lunasol',\n",
       "  'volume': '#'},\n",
       " {'name': 'THREE-DIMENSIONAL EYES',\n",
       "  'url': 'https://www.lunasol-net.com/kr/product/details/pointmake/p0101011.html',\n",
       "  'image': ['https://www.lunasol-net.com/kr/product/parts/p0101011/img/l.jpg',\n",
       "   'https://www.lunasol-net.com/kr/product/parts/p0101011/img/02_soft_beige.jpg'],\n",
       "  'color': '02 Soft Beige',\n",
       "  'category': 'TOP > PRODUCT > POINT MAKEUP > EYE SHADOW',\n",
       "  'salePrice': '#',\n",
       "  'originalPrice': '#',\n",
       "  'brand': 'lunasol',\n",
       "  'volume': '#'}]"
      ]
     },
     "metadata": {},
     "output_type": "display_data"
    },
    {
     "data": {
      "text/plain": [
       "[{'name': 'AURORIZED EYES',\n",
       "  'url': 'https://www.lunasol-net.com/kr/product/details/pointmake/p0101009.html',\n",
       "  'image': ['https://www.lunasol-net.com/kr/product/parts/p0101009/img/l.jpg',\n",
       "   'https://www.lunasol-net.com/kr/product/parts/p0101009/img/02_light_variation.jpg'],\n",
       "  'color': '02 Light Variation',\n",
       "  'category': 'TOP > PRODUCT > POINT MAKEUP > EYE SHADOW',\n",
       "  'salePrice': '#',\n",
       "  'originalPrice': '#',\n",
       "  'brand': 'lunasol',\n",
       "  'volume': '#'}]"
      ]
     },
     "metadata": {},
     "output_type": "display_data"
    },
    {
     "data": {
      "text/plain": [
       "[{'name': 'STAR SHOWER EYES',\n",
       "  'url': 'https://www.lunasol-net.com/kr/product/details/pointmake/p0101007.html',\n",
       "  'image': ['https://www.lunasol-net.com/kr/product/parts/p0101007/img/l.jpg',\n",
       "   'https://www.lunasol-net.com/kr/product/parts/p0101007/img/05_close_of_night.jpg'],\n",
       "  'color': '05 Close of Night',\n",
       "  'category': 'TOP > PRODUCT > POINT MAKEUP > EYE SHADOW',\n",
       "  'salePrice': '#',\n",
       "  'originalPrice': '#',\n",
       "  'brand': 'lunasol',\n",
       "  'volume': '#'}]"
      ]
     },
     "metadata": {},
     "output_type": "display_data"
    },
    {
     "data": {
      "text/plain": [
       "[{'name': 'SHEER CONTRAST EYES',\n",
       "  'url': 'https://www.lunasol-net.com/kr/product/details/pointmake/p0101005.html',\n",
       "  'image': ['https://www.lunasol-net.com/kr/product/parts/p0101005/img/l.jpg',\n",
       "   'https://www.lunasol-net.com/kr/product/parts/p0101005/img/01_coral_coral.jpg'],\n",
       "  'color': '01 Coral Coral',\n",
       "  'category': 'TOP > PRODUCT > POINT MAKEUP > EYE SHADOW',\n",
       "  'salePrice': '#',\n",
       "  'originalPrice': '#',\n",
       "  'brand': 'lunasol',\n",
       "  'volume': '#'},\n",
       " {'name': 'SHEER CONTRAST EYES',\n",
       "  'url': 'https://www.lunasol-net.com/kr/product/details/pointmake/p0101005.html',\n",
       "  'image': ['https://www.lunasol-net.com/kr/product/parts/p0101005/img/l.jpg',\n",
       "   'https://www.lunasol-net.com/kr/product/parts/p0101005/img/02_lavender_coral.jpg'],\n",
       "  'color': '02 Lavender Coral',\n",
       "  'category': 'TOP > PRODUCT > POINT MAKEUP > EYE SHADOW',\n",
       "  'salePrice': '#',\n",
       "  'originalPrice': '#',\n",
       "  'brand': 'lunasol',\n",
       "  'volume': '#'},\n",
       " {'name': 'SHEER CONTRAST EYES',\n",
       "  'url': 'https://www.lunasol-net.com/kr/product/details/pointmake/p0101005.html',\n",
       "  'image': ['https://www.lunasol-net.com/kr/product/parts/p0101005/img/l.jpg',\n",
       "   'https://www.lunasol-net.com/kr/product/parts/p0101005/img/04_green_coral.jpg'],\n",
       "  'color': '04 Green Coral',\n",
       "  'category': 'TOP > PRODUCT > POINT MAKEUP > EYE SHADOW',\n",
       "  'salePrice': '#',\n",
       "  'originalPrice': '#',\n",
       "  'brand': 'lunasol',\n",
       "  'volume': '#'}]"
      ]
     },
     "metadata": {},
     "output_type": "display_data"
    },
    {
     "data": {
      "text/plain": [
       "[{'name': 'SKIN MODELING EYES',\n",
       "  'url': 'https://www.lunasol-net.com/kr/product/details/pointmake/p0101003.html',\n",
       "  'image': ['https://www.lunasol-net.com/kr/product/parts/p0101003/img/l.jpg',\n",
       "   'https://www.lunasol-net.com/kr/product/parts/p0101003/img/01_beige_beige.jpg'],\n",
       "  'color': '01 Beige Beige',\n",
       "  'category': 'TOP > PRODUCT > POINT MAKEUP > EYE SHADOW',\n",
       "  'salePrice': '#',\n",
       "  'originalPrice': '#',\n",
       "  'brand': 'lunasol',\n",
       "  'volume': '#'},\n",
       " {'name': 'SKIN MODELING EYES',\n",
       "  'url': 'https://www.lunasol-net.com/kr/product/details/pointmake/p0101003.html',\n",
       "  'image': ['https://www.lunasol-net.com/kr/product/parts/p0101003/img/l.jpg',\n",
       "   'https://www.lunasol-net.com/kr/product/parts/p0101003/img/02_beige_orange.jpg'],\n",
       "  'color': '02 Beige Orange',\n",
       "  'category': 'TOP > PRODUCT > POINT MAKEUP > EYE SHADOW',\n",
       "  'salePrice': '#',\n",
       "  'originalPrice': '#',\n",
       "  'brand': 'lunasol',\n",
       "  'volume': '#'}]"
      ]
     },
     "metadata": {},
     "output_type": "display_data"
    },
    {
     "data": {
      "text/plain": [
       "[{'name': 'SCENT FORM EYES',\n",
       "  'url': 'https://www.lunasol-net.com/kr/product/details/pointmake/p0101002.html',\n",
       "  'image': ['https://www.lunasol-net.com/kr/product/parts/p0101002/img/l.jpg',\n",
       "   'https://www.lunasol-net.com/kr/product/parts/p0101002/img/05_chocolate_cosmos.jpg'],\n",
       "  'color': '05 Chocolate Cosmos',\n",
       "  'category': 'TOP > PRODUCT > POINT MAKEUP > EYE SHADOW',\n",
       "  'salePrice': '#',\n",
       "  'originalPrice': '#',\n",
       "  'brand': 'lunasol',\n",
       "  'volume': '#'}]"
      ]
     },
     "metadata": {},
     "output_type": "display_data"
    },
    {
     "data": {
      "text/plain": [
       "[{'name': 'LIGHTING FOR EYES',\n",
       "  'url': 'https://www.lunasol-net.com/kr/product/details/pointmake/p0101001.html',\n",
       "  'image': ['https://www.lunasol-net.com/kr/product/parts/p0101001/img/l.jpg',\n",
       "   'https://www.lunasol-net.com/kr/product/parts/p0101001/img/04_neutral.jpg'],\n",
       "  'color': '04 Neutral',\n",
       "  'category': 'TOP > PRODUCT > POINT MAKEUP > EYE SHADOW',\n",
       "  'salePrice': '#',\n",
       "  'originalPrice': '#',\n",
       "  'brand': 'lunasol',\n",
       "  'volume': '#'}]"
      ]
     },
     "metadata": {},
     "output_type": "display_data"
    },
    {
     "data": {
      "text/plain": [
       "[{'name': 'FEATHERY NUANCE EYES',\n",
       "  'url': 'https://www.lunasol-net.com/kr/product/details/pointmake/p0102014.html',\n",
       "  'image': ['https://www.lunasol-net.com/kr/product/parts/p0102014/img/l.jpg',\n",
       "   'https://www.lunasol-net.com/kr/product/parts/p0102014/img/01_mauve_pink.jpg'],\n",
       "  'color': '01 Mauve Pink',\n",
       "  'category': 'TOP > PRODUCT > POINT MAKEUP > EYE SHADOW',\n",
       "  'salePrice': '#',\n",
       "  'originalPrice': '#',\n",
       "  'brand': 'lunasol',\n",
       "  'volume': '#'},\n",
       " {'name': 'FEATHERY NUANCE EYES',\n",
       "  'url': 'https://www.lunasol-net.com/kr/product/details/pointmake/p0102014.html',\n",
       "  'image': ['https://www.lunasol-net.com/kr/product/parts/p0102014/img/l.jpg',\n",
       "   'https://www.lunasol-net.com/kr/product/parts/p0102014/img/02_neutral_beige.jpg'],\n",
       "  'color': '02 Neutral Beige',\n",
       "  'category': 'TOP > PRODUCT > POINT MAKEUP > EYE SHADOW',\n",
       "  'salePrice': '#',\n",
       "  'originalPrice': '#',\n",
       "  'brand': 'lunasol',\n",
       "  'volume': '#'}]"
      ]
     },
     "metadata": {},
     "output_type": "display_data"
    },
    {
     "data": {
      "text/plain": [
       "[{'name': 'SPARKLING LIGHT EYES',\n",
       "  'url': 'https://www.lunasol-net.com/kr/product/details/pointmake/p0102012.html',\n",
       "  'image': ['https://www.lunasol-net.com/kr/product/parts/p0102012/img/l.jpg',\n",
       "   'https://www.lunasol-net.com/kr/product/parts/p0102012/img/01_blue_sparkling.jpg'],\n",
       "  'color': '01 Blue Sparkling',\n",
       "  'category': 'TOP > PRODUCT > POINT MAKEUP > EYE SHADOW',\n",
       "  'salePrice': '#',\n",
       "  'originalPrice': '#',\n",
       "  'brand': 'lunasol',\n",
       "  'volume': '#'},\n",
       " {'name': 'SPARKLING LIGHT EYES',\n",
       "  'url': 'https://www.lunasol-net.com/kr/product/details/pointmake/p0102012.html',\n",
       "  'image': ['https://www.lunasol-net.com/kr/product/parts/p0102012/img/l.jpg',\n",
       "   'https://www.lunasol-net.com/kr/product/parts/p0102012/img/02_violet_sparkling.jpg'],\n",
       "  'color': '02 Violet Sparkling',\n",
       "  'category': 'TOP > PRODUCT > POINT MAKEUP > EYE SHADOW',\n",
       "  'salePrice': '#',\n",
       "  'originalPrice': '#',\n",
       "  'brand': 'lunasol',\n",
       "  'volume': '#'},\n",
       " {'name': 'SPARKLING LIGHT EYES',\n",
       "  'url': 'https://www.lunasol-net.com/kr/product/details/pointmake/p0102012.html',\n",
       "  'image': ['https://www.lunasol-net.com/kr/product/parts/p0102012/img/l.jpg',\n",
       "   'https://www.lunasol-net.com/kr/product/parts/p0102012/img/03_green_sparkling.jpg'],\n",
       "  'color': '03 Green Sparkling',\n",
       "  'category': 'TOP > PRODUCT > POINT MAKEUP > EYE SHADOW',\n",
       "  'salePrice': '#',\n",
       "  'originalPrice': '#',\n",
       "  'brand': 'lunasol',\n",
       "  'volume': '#'},\n",
       " {'name': 'SPARKLING LIGHT EYES',\n",
       "  'url': 'https://www.lunasol-net.com/kr/product/details/pointmake/p0102012.html',\n",
       "  'image': ['https://www.lunasol-net.com/kr/product/parts/p0102012/img/l.jpg',\n",
       "   'https://www.lunasol-net.com/kr/product/parts/p0102012/img/04_beige_sparkling.jpg'],\n",
       "  'color': '04 Beige Sparkling',\n",
       "  'category': 'TOP > PRODUCT > POINT MAKEUP > EYE SHADOW',\n",
       "  'salePrice': '#',\n",
       "  'originalPrice': '#',\n",
       "  'brand': 'lunasol',\n",
       "  'volume': '#'}]"
      ]
     },
     "metadata": {},
     "output_type": "display_data"
    },
    {
     "data": {
      "text/plain": [
       "[{'name': 'LIGHTING EYES',\n",
       "  'url': 'https://www.lunasol-net.com/kr/product/details/pointmake/p0102001.html',\n",
       "  'image': ['https://www.lunasol-net.com/kr/product/parts/p0102001/img/l.jpg',\n",
       "   'https://www.lunasol-net.com/kr/product/parts/p0102001/img/01_shiny_white.jpg'],\n",
       "  'color': '01 Shiny White',\n",
       "  'category': 'TOP > PRODUCT > POINT MAKEUP > EYE SHADOW',\n",
       "  'salePrice': '#',\n",
       "  'originalPrice': '#',\n",
       "  'brand': 'lunasol',\n",
       "  'volume': '#'},\n",
       " {'name': 'LIGHTING EYES',\n",
       "  'url': 'https://www.lunasol-net.com/kr/product/details/pointmake/p0102001.html',\n",
       "  'image': ['https://www.lunasol-net.com/kr/product/parts/p0102001/img/l.jpg',\n",
       "   'https://www.lunasol-net.com/kr/product/parts/p0102001/img/02_sheer_light_beige.jpg'],\n",
       "  'color': '02 Sheer Light Beige',\n",
       "  'category': 'TOP > PRODUCT > POINT MAKEUP > EYE SHADOW',\n",
       "  'salePrice': '#',\n",
       "  'originalPrice': '#',\n",
       "  'brand': 'lunasol',\n",
       "  'volume': '#'},\n",
       " {'name': 'LIGHTING EYES',\n",
       "  'url': 'https://www.lunasol-net.com/kr/product/details/pointmake/p0102001.html',\n",
       "  'image': ['https://www.lunasol-net.com/kr/product/parts/p0102001/img/l.jpg',\n",
       "   'https://www.lunasol-net.com/kr/product/parts/p0102001/img/03_shiny_pink.jpg'],\n",
       "  'color': '03 Shiny Pink',\n",
       "  'category': 'TOP > PRODUCT > POINT MAKEUP > EYE SHADOW',\n",
       "  'salePrice': '#',\n",
       "  'originalPrice': '#',\n",
       "  'brand': 'lunasol',\n",
       "  'volume': '#'},\n",
       " {'name': 'LIGHTING EYES',\n",
       "  'url': 'https://www.lunasol-net.com/kr/product/details/pointmake/p0102001.html',\n",
       "  'image': ['https://www.lunasol-net.com/kr/product/parts/p0102001/img/l.jpg',\n",
       "   'https://www.lunasol-net.com/kr/product/parts/p0102001/img/07_shiny_beige.jpg'],\n",
       "  'color': '07 Shiny Beige',\n",
       "  'category': 'TOP > PRODUCT > POINT MAKEUP > EYE SHADOW',\n",
       "  'salePrice': '#',\n",
       "  'originalPrice': '#',\n",
       "  'brand': 'lunasol',\n",
       "  'volume': '#'},\n",
       " {'name': 'LIGHTING EYES',\n",
       "  'url': 'https://www.lunasol-net.com/kr/product/details/pointmake/p0102001.html',\n",
       "  'image': ['https://www.lunasol-net.com/kr/product/parts/p0102001/img/l.jpg',\n",
       "   'https://www.lunasol-net.com/kr/product/parts/p0102001/img/08_shining_silver.jpg'],\n",
       "  'color': '08 Shining Silver',\n",
       "  'category': 'TOP > PRODUCT > POINT MAKEUP > EYE SHADOW',\n",
       "  'salePrice': '#',\n",
       "  'originalPrice': '#',\n",
       "  'brand': 'lunasol',\n",
       "  'volume': '#'}]"
      ]
     },
     "metadata": {},
     "output_type": "display_data"
    },
    {
     "data": {
      "text/plain": [
       "[{'name': 'EYELID BASE(N)',\n",
       "  'url': 'https://www.lunasol-net.com/kr/product/details/pointmake/p0103001.html',\n",
       "  'image': ['https://www.lunasol-net.com/kr/product/parts/p0103001/img/l.jpg',\n",
       "   'https://www.lunasol-net.com/kr/product/parts/p0103001/img/01_neutral.jpg'],\n",
       "  'color': '01 Neutral',\n",
       "  'category': 'TOP > PRODUCT > POINT MAKEUP > EYE SHADOW',\n",
       "  'salePrice': '#',\n",
       "  'originalPrice': '#',\n",
       "  'brand': 'lunasol',\n",
       "  'volume': '#'},\n",
       " {'name': 'EYELID BASE(N)',\n",
       "  'url': 'https://www.lunasol-net.com/kr/product/details/pointmake/p0103001.html',\n",
       "  'image': ['https://www.lunasol-net.com/kr/product/parts/p0103001/img/l.jpg',\n",
       "   'https://www.lunasol-net.com/kr/product/parts/p0103001/img/02_light.jpg'],\n",
       "  'color': '02 Light',\n",
       "  'category': 'TOP > PRODUCT > POINT MAKEUP > EYE SHADOW',\n",
       "  'salePrice': '#',\n",
       "  'originalPrice': '#',\n",
       "  'brand': 'lunasol',\n",
       "  'volume': '#'}]"
      ]
     },
     "metadata": {},
     "output_type": "display_data"
    },
    {
     "data": {
      "text/plain": [
       "[{'name': 'FEATHERY LASH MASCARA',\n",
       "  'url': 'https://www.lunasol-net.com/kr/product/details/pointmake/p0201008.html',\n",
       "  'image': ['https://www.lunasol-net.com/kr/product/parts/p0201008/img/l.jpg',\n",
       "   'https://www.lunasol-net.com/kr/product/parts/p0201008/img/01_deep_black.jpg'],\n",
       "  'color': '01 Deep Black',\n",
       "  'category': 'TOP > PRODUCT > POINT MAKEUP > OTHER EYES',\n",
       "  'salePrice': '#',\n",
       "  'originalPrice': '#',\n",
       "  'brand': 'lunasol',\n",
       "  'volume': '#'},\n",
       " {'name': 'FEATHERY LASH MASCARA',\n",
       "  'url': 'https://www.lunasol-net.com/kr/product/details/pointmake/p0201008.html',\n",
       "  'image': ['https://www.lunasol-net.com/kr/product/parts/p0201008/img/l.jpg',\n",
       "   'https://www.lunasol-net.com/kr/product/parts/p0201008/img/02_brownish_black.jpg'],\n",
       "  'color': '02 Brownish Black',\n",
       "  'category': 'TOP > PRODUCT > POINT MAKEUP > OTHER EYES',\n",
       "  'salePrice': '#',\n",
       "  'originalPrice': '#',\n",
       "  'brand': 'lunasol',\n",
       "  'volume': '#'}]"
      ]
     },
     "metadata": {},
     "output_type": "display_data"
    },
    {
     "data": {
      "text/plain": [
       "[{'name': 'LASH DEFINING MASCARA WP',\n",
       "  'url': 'https://www.lunasol-net.com/kr/product/details/pointmake/p0201002.html',\n",
       "  'image': ['https://www.lunasol-net.com/kr/product/parts/p0201002/img/l.jpg',\n",
       "   'https://www.lunasol-net.com/kr/product/parts/p0201002/img/01_deep_black.jpg'],\n",
       "  'color': '01 Deep Black',\n",
       "  'category': 'TOP > PRODUCT > POINT MAKEUP > OTHER EYES',\n",
       "  'salePrice': '#',\n",
       "  'originalPrice': '#',\n",
       "  'brand': 'lunasol',\n",
       "  'volume': '#'}]"
      ]
     },
     "metadata": {},
     "output_type": "display_data"
    },
    {
     "data": {
      "text/plain": [
       "[{'name': 'TREATMENT MASCARA BASE N',\n",
       "  'url': 'https://www.lunasol-net.com/kr/product/details/pointmake/p0201101.html',\n",
       "  'image': ['https://www.lunasol-net.com/kr/product/parts/p0201101/img/l.jpg'],\n",
       "  'color': '#',\n",
       "  'category': 'TOP > PRODUCT > POINT MAKEUP > OTHER EYES',\n",
       "  'salePrice': '#',\n",
       "  'originalPrice': '#',\n",
       "  'brand': 'lunasol',\n",
       "  'volume': '#'}]"
      ]
     },
     "metadata": {},
     "output_type": "display_data"
    },
    {
     "data": {
      "text/plain": [
       "[{'name': 'EYELASH CURLER',\n",
       "  'url': 'https://www.lunasol-net.com/kr/product/details/pointmake/p0201102.html',\n",
       "  'image': ['https://www.lunasol-net.com/kr/product/parts/p0201102/img/l.jpg'],\n",
       "  'color': '#',\n",
       "  'category': 'TOP > PRODUCT > POINT MAKEUP > OTHER EYES',\n",
       "  'salePrice': '#',\n",
       "  'originalPrice': '#',\n",
       "  'brand': 'lunasol',\n",
       "  'volume': '#'}]"
      ]
     },
     "metadata": {},
     "output_type": "display_data"
    },
    {
     "data": {
      "text/plain": [
       "[{'name': 'CREAMY MATTE LIQUID LIPS',\n",
       "  'url': 'https://www.lunasol-net.com/kr/product/details/pointmake/p0301031.html',\n",
       "  'image': ['https://www.lunasol-net.com/kr/product/parts/p0301031/img/l.jpg',\n",
       "   'https://www.lunasol-net.com/kr/product/parts/p0301031/img/01_holiday_pink.jpg'],\n",
       "  'color': '01 Holiday Pink',\n",
       "  'category': 'TOP > PRODUCT > POINT MAKEUP > LIPS',\n",
       "  'salePrice': '#',\n",
       "  'originalPrice': '#',\n",
       "  'brand': 'lunasol',\n",
       "  'volume': '#'},\n",
       " {'name': 'CREAMY MATTE LIQUID LIPS',\n",
       "  'url': 'https://www.lunasol-net.com/kr/product/details/pointmake/p0301031.html',\n",
       "  'image': ['https://www.lunasol-net.com/kr/product/parts/p0301031/img/l.jpg',\n",
       "   'https://www.lunasol-net.com/kr/product/parts/p0301031/img/02_chai_tea.jpg'],\n",
       "  'color': '02 Chai Tea',\n",
       "  'category': 'TOP > PRODUCT > POINT MAKEUP > LIPS',\n",
       "  'salePrice': '#',\n",
       "  'originalPrice': '#',\n",
       "  'brand': 'lunasol',\n",
       "  'volume': '#'},\n",
       " {'name': 'CREAMY MATTE LIQUID LIPS',\n",
       "  'url': 'https://www.lunasol-net.com/kr/product/details/pointmake/p0301031.html',\n",
       "  'image': ['https://www.lunasol-net.com/kr/product/parts/p0301031/img/l.jpg',\n",
       "   'https://www.lunasol-net.com/kr/product/parts/p0301031/img/03_cranberry_red.jpg'],\n",
       "  'color': '03 Cranberry Red',\n",
       "  'category': 'TOP > PRODUCT > POINT MAKEUP > LIPS',\n",
       "  'salePrice': '#',\n",
       "  'originalPrice': '#',\n",
       "  'brand': 'lunasol',\n",
       "  'volume': '#'},\n",
       " {'name': 'CREAMY MATTE LIQUID LIPS',\n",
       "  'url': 'https://www.lunasol-net.com/kr/product/details/pointmake/p0301031.html',\n",
       "  'image': ['https://www.lunasol-net.com/kr/product/parts/p0301031/img/l.jpg',\n",
       "   'https://www.lunasol-net.com/kr/product/parts/p0301031/img/04_deep_garnet.jpg'],\n",
       "  'color': '04 Deep Garnet',\n",
       "  'category': 'TOP > PRODUCT > POINT MAKEUP > LIPS',\n",
       "  'salePrice': '#',\n",
       "  'originalPrice': '#',\n",
       "  'brand': 'lunasol',\n",
       "  'volume': '#'},\n",
       " {'name': 'CREAMY MATTE LIQUID LIPS',\n",
       "  'url': 'https://www.lunasol-net.com/kr/product/details/pointmake/p0301031.html',\n",
       "  'image': ['https://www.lunasol-net.com/kr/product/parts/p0301031/img/l.jpg',\n",
       "   'https://www.lunasol-net.com/kr/product/parts/p0301031/img/05_berry.jpg'],\n",
       "  'color': '05 Berry',\n",
       "  'category': 'TOP > PRODUCT > POINT MAKEUP > LIPS',\n",
       "  'salePrice': '#',\n",
       "  'originalPrice': '#',\n",
       "  'brand': 'lunasol',\n",
       "  'volume': '#'}]"
      ]
     },
     "metadata": {},
     "output_type": "display_data"
    },
    {
     "data": {
      "text/plain": [
       "[{'name': 'AIRY GLOW LIPS',\n",
       "  'url': 'https://www.lunasol-net.com/kr/product/details/pointmake/p0301026.html',\n",
       "  'image': ['https://www.lunasol-net.com/kr/product/parts/p0301026/img/l.jpg',\n",
       "   'https://www.lunasol-net.com/kr/product/parts/p0301026/img/01_vivid_pink.jpg'],\n",
       "  'color': '01 Vivid Pink',\n",
       "  'category': 'TOP > PRODUCT > POINT MAKEUP > LIPS',\n",
       "  'salePrice': '#',\n",
       "  'originalPrice': '#',\n",
       "  'brand': 'lunasol',\n",
       "  'volume': '#'},\n",
       " {'name': 'AIRY GLOW LIPS',\n",
       "  'url': 'https://www.lunasol-net.com/kr/product/details/pointmake/p0301026.html',\n",
       "  'image': ['https://www.lunasol-net.com/kr/product/parts/p0301026/img/l.jpg',\n",
       "   'https://www.lunasol-net.com/kr/product/parts/p0301026/img/02_fresh_pink.jpg'],\n",
       "  'color': '02 Fresh Pink',\n",
       "  'category': 'TOP > PRODUCT > POINT MAKEUP > LIPS',\n",
       "  'salePrice': '#',\n",
       "  'originalPrice': '#',\n",
       "  'brand': 'lunasol',\n",
       "  'volume': '#'},\n",
       " {'name': 'AIRY GLOW LIPS',\n",
       "  'url': 'https://www.lunasol-net.com/kr/product/details/pointmake/p0301026.html',\n",
       "  'image': ['https://www.lunasol-net.com/kr/product/parts/p0301026/img/l.jpg',\n",
       "   'https://www.lunasol-net.com/kr/product/parts/p0301026/img/03_macaron_coral.jpg'],\n",
       "  'color': '03 Macaron Coral',\n",
       "  'category': 'TOP > PRODUCT > POINT MAKEUP > LIPS',\n",
       "  'salePrice': '#',\n",
       "  'originalPrice': '#',\n",
       "  'brand': 'lunasol',\n",
       "  'volume': '#'},\n",
       " {'name': 'AIRY GLOW LIPS',\n",
       "  'url': 'https://www.lunasol-net.com/kr/product/details/pointmake/p0301026.html',\n",
       "  'image': ['https://www.lunasol-net.com/kr/product/parts/p0301026/img/l.jpg',\n",
       "   'https://www.lunasol-net.com/kr/product/parts/p0301026/img/04_bright_red.jpg'],\n",
       "  'color': '04 Bright red',\n",
       "  'category': 'TOP > PRODUCT > POINT MAKEUP > LIPS',\n",
       "  'salePrice': '#',\n",
       "  'originalPrice': '#',\n",
       "  'brand': 'lunasol',\n",
       "  'volume': '#'},\n",
       " {'name': 'AIRY GLOW LIPS',\n",
       "  'url': 'https://www.lunasol-net.com/kr/product/details/pointmake/p0301026.html',\n",
       "  'image': ['https://www.lunasol-net.com/kr/product/parts/p0301026/img/l.jpg',\n",
       "   'https://www.lunasol-net.com/kr/product/parts/p0301026/img/05_mocha.jpg'],\n",
       "  'color': '05 Mocha',\n",
       "  'category': 'TOP > PRODUCT > POINT MAKEUP > LIPS',\n",
       "  'salePrice': '#',\n",
       "  'originalPrice': '#',\n",
       "  'brand': 'lunasol',\n",
       "  'volume': '#'},\n",
       " {'name': 'AIRY GLOW LIPS',\n",
       "  'url': 'https://www.lunasol-net.com/kr/product/details/pointmake/p0301026.html',\n",
       "  'image': ['https://www.lunasol-net.com/kr/product/parts/p0301026/img/l.jpg',\n",
       "   'https://www.lunasol-net.com/kr/product/parts/p0301026/img/06_camel_orange.jpg'],\n",
       "  'color': '06 Camel Orange',\n",
       "  'category': 'TOP > PRODUCT > POINT MAKEUP > LIPS',\n",
       "  'salePrice': '#',\n",
       "  'originalPrice': '#',\n",
       "  'brand': 'lunasol',\n",
       "  'volume': '#'},\n",
       " {'name': 'AIRY GLOW LIPS',\n",
       "  'url': 'https://www.lunasol-net.com/kr/product/details/pointmake/p0301026.html',\n",
       "  'image': ['https://www.lunasol-net.com/kr/product/parts/p0301026/img/l.jpg',\n",
       "   'https://www.lunasol-net.com/kr/product/parts/p0301026/img/07_bitter.jpg'],\n",
       "  'color': '07 Bitter',\n",
       "  'category': 'TOP > PRODUCT > POINT MAKEUP > LIPS',\n",
       "  'salePrice': '#',\n",
       "  'originalPrice': '#',\n",
       "  'brand': 'lunasol',\n",
       "  'volume': '#'},\n",
       " {'name': 'AIRY GLOW LIPS',\n",
       "  'url': 'https://www.lunasol-net.com/kr/product/details/pointmake/p0301026.html',\n",
       "  'image': ['https://www.lunasol-net.com/kr/product/parts/p0301026/img/l.jpg',\n",
       "   'https://www.lunasol-net.com/kr/product/parts/p0301026/img/08_brown_red.jpg'],\n",
       "  'color': '08 Brown Red',\n",
       "  'category': 'TOP > PRODUCT > POINT MAKEUP > LIPS',\n",
       "  'salePrice': '#',\n",
       "  'originalPrice': '#',\n",
       "  'brand': 'lunasol',\n",
       "  'volume': '#'},\n",
       " {'name': 'AIRY GLOW LIPS',\n",
       "  'url': 'https://www.lunasol-net.com/kr/product/details/pointmake/p0301026.html',\n",
       "  'image': ['https://www.lunasol-net.com/kr/product/parts/p0301026/img/l.jpg',\n",
       "   'https://www.lunasol-net.com/kr/product/parts/p0301026/img/09_deep_red.jpg'],\n",
       "  'color': '09 Deep Red',\n",
       "  'category': 'TOP > PRODUCT > POINT MAKEUP > LIPS',\n",
       "  'salePrice': '#',\n",
       "  'originalPrice': '#',\n",
       "  'brand': 'lunasol',\n",
       "  'volume': '#'}]"
      ]
     },
     "metadata": {},
     "output_type": "display_data"
    },
    {
     "data": {
      "text/plain": [
       "[{'name': 'COLORING CRAYON',\n",
       "  'url': 'https://www.lunasol-net.com/kr/product/details/pointmake/p0301027.html',\n",
       "  'image': ['https://www.lunasol-net.com/kr/product/parts/p0301027/img/l.jpg',\n",
       "   'https://www.lunasol-net.com/kr/product/parts/p0301027/img/01_berry_pink.jpg'],\n",
       "  'color': '01 Berry Pink',\n",
       "  'category': 'TOP > PRODUCT > POINT MAKEUP > LIPS',\n",
       "  'salePrice': '#',\n",
       "  'originalPrice': '#',\n",
       "  'brand': 'lunasol',\n",
       "  'volume': '#'},\n",
       " {'name': 'COLORING CRAYON',\n",
       "  'url': 'https://www.lunasol-net.com/kr/product/details/pointmake/p0301027.html',\n",
       "  'image': ['https://www.lunasol-net.com/kr/product/parts/p0301027/img/l.jpg',\n",
       "   'https://www.lunasol-net.com/kr/product/parts/p0301027/img/02_natural_orange.jpg'],\n",
       "  'color': '02 Natural Orange',\n",
       "  'category': 'TOP > PRODUCT > POINT MAKEUP > LIPS',\n",
       "  'salePrice': '#',\n",
       "  'originalPrice': '#',\n",
       "  'brand': 'lunasol',\n",
       "  'volume': '#'}]"
      ]
     },
     "metadata": {},
     "output_type": "display_data"
    },
    {
     "data": {
      "text/plain": [
       "[{'name': 'FULL GLAMOUR LIPS',\n",
       "  'url': 'https://www.lunasol-net.com/kr/product/details/pointmake/p0301007.html',\n",
       "  'image': ['https://www.lunasol-net.com/kr/product/parts/p0301007/img/l.jpg',\n",
       "   'https://www.lunasol-net.com/kr/product/parts/p0301007/img/03_warm_pink.jpg'],\n",
       "  'color': '03 Warm Pink',\n",
       "  'category': 'TOP > PRODUCT > POINT MAKEUP > LIPS',\n",
       "  'salePrice': '#',\n",
       "  'originalPrice': '#',\n",
       "  'brand': 'lunasol',\n",
       "  'volume': '#'},\n",
       " {'name': 'FULL GLAMOUR LIPS',\n",
       "  'url': 'https://www.lunasol-net.com/kr/product/details/pointmake/p0301007.html',\n",
       "  'image': ['https://www.lunasol-net.com/kr/product/parts/p0301007/img/l.jpg',\n",
       "   'https://www.lunasol-net.com/kr/product/parts/p0301007/img/08_soft_red_rose.jpg'],\n",
       "  'color': '08 Soft Red Rose',\n",
       "  'category': 'TOP > PRODUCT > POINT MAKEUP > LIPS',\n",
       "  'salePrice': '#',\n",
       "  'originalPrice': '#',\n",
       "  'brand': 'lunasol',\n",
       "  'volume': '#'},\n",
       " {'name': 'FULL GLAMOUR LIPS',\n",
       "  'url': 'https://www.lunasol-net.com/kr/product/details/pointmake/p0301007.html',\n",
       "  'image': ['https://www.lunasol-net.com/kr/product/parts/p0301007/img/l.jpg',\n",
       "   'https://www.lunasol-net.com/kr/product/parts/p0301007/img/11_soft_red.jpg'],\n",
       "  'color': '11 Soft Red',\n",
       "  'category': 'TOP > PRODUCT > POINT MAKEUP > LIPS',\n",
       "  'salePrice': '#',\n",
       "  'originalPrice': '#',\n",
       "  'brand': 'lunasol',\n",
       "  'volume': '#'},\n",
       " {'name': 'FULL GLAMOUR LIPS',\n",
       "  'url': 'https://www.lunasol-net.com/kr/product/details/pointmake/p0301007.html',\n",
       "  'image': ['https://www.lunasol-net.com/kr/product/parts/p0301007/img/l.jpg',\n",
       "   'https://www.lunasol-net.com/kr/product/parts/p0301007/img/24_soft_beige_pink.jpg'],\n",
       "  'color': '24 Soft Beige Pink',\n",
       "  'category': 'TOP > PRODUCT > POINT MAKEUP > LIPS',\n",
       "  'salePrice': '#',\n",
       "  'originalPrice': '#',\n",
       "  'brand': 'lunasol',\n",
       "  'volume': '#'},\n",
       " {'name': 'FULL GLAMOUR LIPS',\n",
       "  'url': 'https://www.lunasol-net.com/kr/product/details/pointmake/p0301007.html',\n",
       "  'image': ['https://www.lunasol-net.com/kr/product/parts/p0301007/img/l.jpg',\n",
       "   'https://www.lunasol-net.com/kr/product/parts/p0301007/img/33_soft_brown_rose.jpg'],\n",
       "  'color': '33 Soft Brown Rose',\n",
       "  'category': 'TOP > PRODUCT > POINT MAKEUP > LIPS',\n",
       "  'salePrice': '#',\n",
       "  'originalPrice': '#',\n",
       "  'brand': 'lunasol',\n",
       "  'volume': '#'},\n",
       " {'name': 'FULL GLAMOUR LIPS',\n",
       "  'url': 'https://www.lunasol-net.com/kr/product/details/pointmake/p0301007.html',\n",
       "  'image': ['https://www.lunasol-net.com/kr/product/parts/p0301007/img/l.jpg',\n",
       "   'https://www.lunasol-net.com/kr/product/parts/p0301007/img/34_rose_pink.jpg'],\n",
       "  'color': '34 Rose Pink',\n",
       "  'category': 'TOP > PRODUCT > POINT MAKEUP > LIPS',\n",
       "  'salePrice': '#',\n",
       "  'originalPrice': '#',\n",
       "  'brand': 'lunasol',\n",
       "  'volume': '#'},\n",
       " {'name': 'FULL GLAMOUR LIPS',\n",
       "  'url': 'https://www.lunasol-net.com/kr/product/details/pointmake/p0301007.html',\n",
       "  'image': ['https://www.lunasol-net.com/kr/product/parts/p0301007/img/l.jpg',\n",
       "   'https://www.lunasol-net.com/kr/product/parts/p0301007/img/35_pink_beige.jpg'],\n",
       "  'color': '35 Pink Beige',\n",
       "  'category': 'TOP > PRODUCT > POINT MAKEUP > LIPS',\n",
       "  'salePrice': '#',\n",
       "  'originalPrice': '#',\n",
       "  'brand': 'lunasol',\n",
       "  'volume': '#'},\n",
       " {'name': 'FULL GLAMOUR LIPS',\n",
       "  'url': 'https://www.lunasol-net.com/kr/product/details/pointmake/p0301007.html',\n",
       "  'image': ['https://www.lunasol-net.com/kr/product/parts/p0301007/img/l.jpg',\n",
       "   'https://www.lunasol-net.com/kr/product/parts/p0301007/img/36_soft_beige.jpg'],\n",
       "  'color': '36 Soft Beige',\n",
       "  'category': 'TOP > PRODUCT > POINT MAKEUP > LIPS',\n",
       "  'salePrice': '#',\n",
       "  'originalPrice': '#',\n",
       "  'brand': 'lunasol',\n",
       "  'volume': '#'},\n",
       " {'name': 'FULL GLAMOUR LIPS',\n",
       "  'url': 'https://www.lunasol-net.com/kr/product/details/pointmake/p0301007.html',\n",
       "  'image': ['https://www.lunasol-net.com/kr/product/parts/p0301007/img/l.jpg',\n",
       "   'https://www.lunasol-net.com/kr/product/parts/p0301007/img/39_soft_pink_beige.jpg'],\n",
       "  'color': '39 Soft Pink Beige',\n",
       "  'category': 'TOP > PRODUCT > POINT MAKEUP > LIPS',\n",
       "  'salePrice': '#',\n",
       "  'originalPrice': '#',\n",
       "  'brand': 'lunasol',\n",
       "  'volume': '#'},\n",
       " {'name': 'FULL GLAMOUR LIPS',\n",
       "  'url': 'https://www.lunasol-net.com/kr/product/details/pointmake/p0301007.html',\n",
       "  'image': ['https://www.lunasol-net.com/kr/product/parts/p0301007/img/l.jpg',\n",
       "   'https://www.lunasol-net.com/kr/product/parts/p0301007/img/41_soft_coral_pink.jpg'],\n",
       "  'color': '41 Soft Coral Pink',\n",
       "  'category': 'TOP > PRODUCT > POINT MAKEUP > LIPS',\n",
       "  'salePrice': '#',\n",
       "  'originalPrice': '#',\n",
       "  'brand': 'lunasol',\n",
       "  'volume': '#'},\n",
       " {'name': 'FULL GLAMOUR LIPS',\n",
       "  'url': 'https://www.lunasol-net.com/kr/product/details/pointmake/p0301007.html',\n",
       "  'image': ['https://www.lunasol-net.com/kr/product/parts/p0301007/img/l.jpg',\n",
       "   'https://www.lunasol-net.com/kr/product/parts/p0301007/img/42_soft_beige_orange.jpg'],\n",
       "  'color': '42 Soft Beige Orange',\n",
       "  'category': 'TOP > PRODUCT > POINT MAKEUP > LIPS',\n",
       "  'salePrice': '#',\n",
       "  'originalPrice': '#',\n",
       "  'brand': 'lunasol',\n",
       "  'volume': '#'},\n",
       " {'name': 'FULL GLAMOUR LIPS',\n",
       "  'url': 'https://www.lunasol-net.com/kr/product/details/pointmake/p0301007.html',\n",
       "  'image': ['https://www.lunasol-net.com/kr/product/parts/p0301007/img/l.jpg',\n",
       "   'https://www.lunasol-net.com/kr/product/parts/p0301007/img/43_autumn_coral.jpg'],\n",
       "  'color': '43 Autumn Coral',\n",
       "  'category': 'TOP > PRODUCT > POINT MAKEUP > LIPS',\n",
       "  'salePrice': '#',\n",
       "  'originalPrice': '#',\n",
       "  'brand': 'lunasol',\n",
       "  'volume': '#'},\n",
       " {'name': 'FULL GLAMOUR LIPS',\n",
       "  'url': 'https://www.lunasol-net.com/kr/product/details/pointmake/p0301007.html',\n",
       "  'image': ['https://www.lunasol-net.com/kr/product/parts/p0301007/img/l.jpg',\n",
       "   'https://www.lunasol-net.com/kr/product/parts/p0301007/img/44_autumn_orange.jpg'],\n",
       "  'color': '44 Autumn Orange',\n",
       "  'category': 'TOP > PRODUCT > POINT MAKEUP > LIPS',\n",
       "  'salePrice': '#',\n",
       "  'originalPrice': '#',\n",
       "  'brand': 'lunasol',\n",
       "  'volume': '#'},\n",
       " {'name': 'FULL GLAMOUR LIPS',\n",
       "  'url': 'https://www.lunasol-net.com/kr/product/details/pointmake/p0301007.html',\n",
       "  'image': ['https://www.lunasol-net.com/kr/product/parts/p0301007/img/l.jpg',\n",
       "   'https://www.lunasol-net.com/kr/product/parts/p0301007/img/45_cool_pink_beige.jpg'],\n",
       "  'color': '45 Cool Pink Beige',\n",
       "  'category': 'TOP > PRODUCT > POINT MAKEUP > LIPS',\n",
       "  'salePrice': '#',\n",
       "  'originalPrice': '#',\n",
       "  'brand': 'lunasol',\n",
       "  'volume': '#'},\n",
       " {'name': 'FULL GLAMOUR LIPS',\n",
       "  'url': 'https://www.lunasol-net.com/kr/product/details/pointmake/p0301007.html',\n",
       "  'image': ['https://www.lunasol-net.com/kr/product/parts/p0301007/img/l.jpg',\n",
       "   'https://www.lunasol-net.com/kr/product/parts/p0301007/img/46_soft_brown_red.jpg'],\n",
       "  'color': '46 Soft Brown Red',\n",
       "  'category': 'TOP > PRODUCT > POINT MAKEUP > LIPS',\n",
       "  'salePrice': '#',\n",
       "  'originalPrice': '#',\n",
       "  'brand': 'lunasol',\n",
       "  'volume': '#'}]"
      ]
     },
     "metadata": {},
     "output_type": "display_data"
    },
    {
     "data": {
      "text/plain": [
       "[{'name': 'SHEER AQUA STICK LIPS',\n",
       "  'url': 'https://www.lunasol-net.com/kr/product/details/pointmake/p0301020.html',\n",
       "  'image': ['https://www.lunasol-net.com/kr/product/parts/p0301020/img/l.jpg',\n",
       "   'https://www.lunasol-net.com/kr/product/parts/p0301020/img/01_fresh_orange.jpg'],\n",
       "  'color': '01 Fresh Orange',\n",
       "  'category': 'TOP > PRODUCT > POINT MAKEUP > LIPS',\n",
       "  'salePrice': '#',\n",
       "  'originalPrice': '#',\n",
       "  'brand': 'lunasol',\n",
       "  'volume': '#'},\n",
       " {'name': 'SHEER AQUA STICK LIPS',\n",
       "  'url': 'https://www.lunasol-net.com/kr/product/details/pointmake/p0301020.html',\n",
       "  'image': ['https://www.lunasol-net.com/kr/product/parts/p0301020/img/l.jpg',\n",
       "   'https://www.lunasol-net.com/kr/product/parts/p0301020/img/02_fuchsia_pink.jpg'],\n",
       "  'color': '02 Fuchsia Pink',\n",
       "  'category': 'TOP > PRODUCT > POINT MAKEUP > LIPS',\n",
       "  'salePrice': '#',\n",
       "  'originalPrice': '#',\n",
       "  'brand': 'lunasol',\n",
       "  'volume': '#'},\n",
       " {'name': 'SHEER AQUA STICK LIPS',\n",
       "  'url': 'https://www.lunasol-net.com/kr/product/details/pointmake/p0301020.html',\n",
       "  'image': ['https://www.lunasol-net.com/kr/product/parts/p0301020/img/l.jpg',\n",
       "   'https://www.lunasol-net.com/kr/product/parts/p0301020/img/04_coral.jpg'],\n",
       "  'color': '04 Coral',\n",
       "  'category': 'TOP > PRODUCT > POINT MAKEUP > LIPS',\n",
       "  'salePrice': '#',\n",
       "  'originalPrice': '#',\n",
       "  'brand': 'lunasol',\n",
       "  'volume': '#'},\n",
       " {'name': 'SHEER AQUA STICK LIPS',\n",
       "  'url': 'https://www.lunasol-net.com/kr/product/details/pointmake/p0301020.html',\n",
       "  'image': ['https://www.lunasol-net.com/kr/product/parts/p0301020/img/l.jpg',\n",
       "   'https://www.lunasol-net.com/kr/product/parts/p0301020/img/05_cherry_red.jpg'],\n",
       "  'color': '05 Cherry Red',\n",
       "  'category': 'TOP > PRODUCT > POINT MAKEUP > LIPS',\n",
       "  'salePrice': '#',\n",
       "  'originalPrice': '#',\n",
       "  'brand': 'lunasol',\n",
       "  'volume': '#'}]"
      ]
     },
     "metadata": {},
     "output_type": "display_data"
    },
    {
     "data": {
      "text/plain": [
       "[{'name': 'SHEER LIGHT GLOSS',\n",
       "  'url': 'https://www.lunasol-net.com/kr/product/details/pointmake/p0301016.html',\n",
       "  'image': ['https://www.lunasol-net.com/kr/product/parts/p0301016/img/l.jpg',\n",
       "   'https://www.lunasol-net.com/kr/product/parts/p0301016/img/01_pure_fuchsia.jpg'],\n",
       "  'color': '01 Pure Fuchsia',\n",
       "  'category': 'TOP > PRODUCT > POINT MAKEUP > LIPS',\n",
       "  'salePrice': '#',\n",
       "  'originalPrice': '#',\n",
       "  'brand': 'lunasol',\n",
       "  'volume': '#'},\n",
       " {'name': 'SHEER LIGHT GLOSS',\n",
       "  'url': 'https://www.lunasol-net.com/kr/product/details/pointmake/p0301016.html',\n",
       "  'image': ['https://www.lunasol-net.com/kr/product/parts/p0301016/img/l.jpg',\n",
       "   'https://www.lunasol-net.com/kr/product/parts/p0301016/img/02_cool_beige.jpg'],\n",
       "  'color': '02 Cool Beige',\n",
       "  'category': 'TOP > PRODUCT > POINT MAKEUP > LIPS',\n",
       "  'salePrice': '#',\n",
       "  'originalPrice': '#',\n",
       "  'brand': 'lunasol',\n",
       "  'volume': '#'},\n",
       " {'name': 'SHEER LIGHT GLOSS',\n",
       "  'url': 'https://www.lunasol-net.com/kr/product/details/pointmake/p0301016.html',\n",
       "  'image': ['https://www.lunasol-net.com/kr/product/parts/p0301016/img/l.jpg',\n",
       "   'https://www.lunasol-net.com/kr/product/parts/p0301016/img/03_petal_pink.jpg'],\n",
       "  'color': '03 Petal Pink',\n",
       "  'category': 'TOP > PRODUCT > POINT MAKEUP > LIPS',\n",
       "  'salePrice': '#',\n",
       "  'originalPrice': '#',\n",
       "  'brand': 'lunasol',\n",
       "  'volume': '#'},\n",
       " {'name': 'SHEER LIGHT GLOSS',\n",
       "  'url': 'https://www.lunasol-net.com/kr/product/details/pointmake/p0301016.html',\n",
       "  'image': ['https://www.lunasol-net.com/kr/product/parts/p0301016/img/l.jpg',\n",
       "   'https://www.lunasol-net.com/kr/product/parts/p0301016/img/05_apricot.jpg'],\n",
       "  'color': '05 Apricot',\n",
       "  'category': 'TOP > PRODUCT > POINT MAKEUP > LIPS',\n",
       "  'salePrice': '#',\n",
       "  'originalPrice': '#',\n",
       "  'brand': 'lunasol',\n",
       "  'volume': '#'},\n",
       " {'name': 'SHEER LIGHT GLOSS',\n",
       "  'url': 'https://www.lunasol-net.com/kr/product/details/pointmake/p0301016.html',\n",
       "  'image': ['https://www.lunasol-net.com/kr/product/parts/p0301016/img/l.jpg',\n",
       "   'https://www.lunasol-net.com/kr/product/parts/p0301016/img/06_clear_red.jpg'],\n",
       "  'color': '06 Clear Red',\n",
       "  'category': 'TOP > PRODUCT > POINT MAKEUP > LIPS',\n",
       "  'salePrice': '#',\n",
       "  'originalPrice': '#',\n",
       "  'brand': 'lunasol',\n",
       "  'volume': '#'}]"
      ]
     },
     "metadata": {},
     "output_type": "display_data"
    },
    {
     "data": {
      "text/plain": [
       "[{'name': 'TREATMENT GLOSS',\n",
       "  'url': 'https://www.lunasol-net.com/kr/product/details/pointmake/p0301009.html',\n",
       "  'image': ['https://www.lunasol-net.com/kr/product/parts/p0301009/img/l.jpg',\n",
       "   'https://www.lunasol-net.com/kr/product/parts/p0301009/img/01_pure_pink.jpg'],\n",
       "  'color': '01 Pure Pink',\n",
       "  'category': 'TOP > PRODUCT > POINT MAKEUP > LIPS',\n",
       "  'salePrice': '#',\n",
       "  'originalPrice': '#',\n",
       "  'brand': 'lunasol',\n",
       "  'volume': '#'}]"
      ]
     },
     "metadata": {},
     "output_type": "display_data"
    },
    {
     "data": {
      "text/plain": [
       "[{'name': 'LIP SHADOW LINER N',\n",
       "  'url': 'https://www.lunasol-net.com/kr/product/details/pointmake/p0301103.html',\n",
       "  'image': ['https://www.lunasol-net.com/kr/product/parts/p0301103/img/l.jpg',\n",
       "   'https://www.lunasol-net.com/kr/product/parts/p0301103/img/01_natural.jpg'],\n",
       "  'color': '01 Natural',\n",
       "  'category': 'TOP > PRODUCT > POINT MAKEUP > LIPS',\n",
       "  'salePrice': '#',\n",
       "  'originalPrice': '#',\n",
       "  'brand': 'lunasol',\n",
       "  'volume': '#'},\n",
       " {'name': 'LIP SHADOW LINER N',\n",
       "  'url': 'https://www.lunasol-net.com/kr/product/details/pointmake/p0301103.html',\n",
       "  'image': ['https://www.lunasol-net.com/kr/product/parts/p0301103/img/l.jpg',\n",
       "   'https://www.lunasol-net.com/kr/product/parts/p0301103/img/02_beige_pink.jpg'],\n",
       "  'color': '02 Beige Pink',\n",
       "  'category': 'TOP > PRODUCT > POINT MAKEUP > LIPS',\n",
       "  'salePrice': '#',\n",
       "  'originalPrice': '#',\n",
       "  'brand': 'lunasol',\n",
       "  'volume': '#'},\n",
       " {'name': 'LIP SHADOW LINER N',\n",
       "  'url': 'https://www.lunasol-net.com/kr/product/details/pointmake/p0301103.html',\n",
       "  'image': ['https://www.lunasol-net.com/kr/product/parts/p0301103/img/l.jpg',\n",
       "   'https://www.lunasol-net.com/kr/product/parts/p0301103/img/03_beige_coral.jpg'],\n",
       "  'color': '03 Beige Coral',\n",
       "  'category': 'TOP > PRODUCT > POINT MAKEUP > LIPS',\n",
       "  'salePrice': '#',\n",
       "  'originalPrice': '#',\n",
       "  'brand': 'lunasol',\n",
       "  'volume': '#'},\n",
       " {'name': 'LIP SHADOW LINER N',\n",
       "  'url': 'https://www.lunasol-net.com/kr/product/details/pointmake/p0301103.html',\n",
       "  'image': ['https://www.lunasol-net.com/kr/product/parts/p0301103/img/l.jpg',\n",
       "   'https://www.lunasol-net.com/kr/product/parts/p0301103/img/04_red_beige.jpg'],\n",
       "  'color': '04 Red Beige',\n",
       "  'category': 'TOP > PRODUCT > POINT MAKEUP > LIPS',\n",
       "  'salePrice': '#',\n",
       "  'originalPrice': '#',\n",
       "  'brand': 'lunasol',\n",
       "  'volume': '#'}]"
      ]
     },
     "metadata": {},
     "output_type": "display_data"
    },
    {
     "data": {
      "text/plain": [
       "[{'name': 'MODELING FACE COMAPCT',\n",
       "  'url': 'https://www.lunasol-net.com/kr/product/details/pointmake/p0401031.html',\n",
       "  'image': ['https://www.lunasol-net.com/kr/product/parts/p0401031/img/l.jpg',\n",
       "   'https://www.lunasol-net.com/kr/product/parts/p0401031/img/01_beige_nude.jpg'],\n",
       "  'color': '01 Beige Nude',\n",
       "  'category': 'TOP > PRODUCT > POINT MAKEUP > FACE COLOR',\n",
       "  'salePrice': '#',\n",
       "  'originalPrice': '#',\n",
       "  'brand': 'lunasol',\n",
       "  'volume': '#'}]"
      ]
     },
     "metadata": {},
     "output_type": "display_data"
    },
    {
     "data": {
      "text/plain": [
       "[{'name': 'COLORING SHEER CHEEKS',\n",
       "  'url': 'https://www.lunasol-net.com/kr/product/details/pointmake/p0401018.html',\n",
       "  'image': ['https://www.lunasol-net.com/kr/product/parts/p0401018/img/l.jpg',\n",
       "   'https://www.lunasol-net.com/kr/product/parts/p0401018/img/01_light_coral_pink.jpg'],\n",
       "  'color': '01 Light Coral Pink',\n",
       "  'category': 'TOP > PRODUCT > POINT MAKEUP > FACE COLOR',\n",
       "  'salePrice': '#',\n",
       "  'originalPrice': '#',\n",
       "  'brand': 'lunasol',\n",
       "  'volume': '#'},\n",
       " {'name': 'COLORING SHEER CHEEKS',\n",
       "  'url': 'https://www.lunasol-net.com/kr/product/details/pointmake/p0401018.html',\n",
       "  'image': ['https://www.lunasol-net.com/kr/product/parts/p0401018/img/l.jpg',\n",
       "   'https://www.lunasol-net.com/kr/product/parts/p0401018/img/02_clear_pink.jpg'],\n",
       "  'color': '02 Clear Pink',\n",
       "  'category': 'TOP > PRODUCT > POINT MAKEUP > FACE COLOR',\n",
       "  'salePrice': '#',\n",
       "  'originalPrice': '#',\n",
       "  'brand': 'lunasol',\n",
       "  'volume': '#'},\n",
       " {'name': 'COLORING SHEER CHEEKS',\n",
       "  'url': 'https://www.lunasol-net.com/kr/product/details/pointmake/p0401018.html',\n",
       "  'image': ['https://www.lunasol-net.com/kr/product/parts/p0401018/img/l.jpg',\n",
       "   'https://www.lunasol-net.com/kr/product/parts/p0401018/img/03_pink_rose.jpg'],\n",
       "  'color': '03 Pink Rose',\n",
       "  'category': 'TOP > PRODUCT > POINT MAKEUP > FACE COLOR',\n",
       "  'salePrice': '#',\n",
       "  'originalPrice': '#',\n",
       "  'brand': 'lunasol',\n",
       "  'volume': '#'},\n",
       " {'name': 'COLORING SHEER CHEEKS',\n",
       "  'url': 'https://www.lunasol-net.com/kr/product/details/pointmake/p0401018.html',\n",
       "  'image': ['https://www.lunasol-net.com/kr/product/parts/p0401018/img/l.jpg',\n",
       "   'https://www.lunasol-net.com/kr/product/parts/p0401018/img/04_coral_red.jpg'],\n",
       "  'color': '04 Coral Red',\n",
       "  'category': 'TOP > PRODUCT > POINT MAKEUP > FACE COLOR',\n",
       "  'salePrice': '#',\n",
       "  'originalPrice': '#',\n",
       "  'brand': 'lunasol',\n",
       "  'volume': '#'},\n",
       " {'name': 'COLORING SHEER CHEEKS',\n",
       "  'url': 'https://www.lunasol-net.com/kr/product/details/pointmake/p0401018.html',\n",
       "  'image': ['https://www.lunasol-net.com/kr/product/parts/p0401018/img/l.jpg',\n",
       "   'https://www.lunasol-net.com/kr/product/parts/p0401018/img/05_fresh_orange.jpg'],\n",
       "  'color': '05 Fresh Orange',\n",
       "  'category': 'TOP > PRODUCT > POINT MAKEUP > FACE COLOR',\n",
       "  'salePrice': '#',\n",
       "  'originalPrice': '#',\n",
       "  'brand': 'lunasol',\n",
       "  'volume': '#'},\n",
       " {'name': 'COLORING SHEER CHEEKS',\n",
       "  'url': 'https://www.lunasol-net.com/kr/product/details/pointmake/p0401018.html',\n",
       "  'image': ['https://www.lunasol-net.com/kr/product/parts/p0401018/img/l.jpg',\n",
       "   'https://www.lunasol-net.com/kr/product/parts/p0401018/img/06_natural_pink.jpg'],\n",
       "  'color': '06 Natural Pink',\n",
       "  'category': 'TOP > PRODUCT > POINT MAKEUP > FACE COLOR',\n",
       "  'salePrice': '#',\n",
       "  'originalPrice': '#',\n",
       "  'brand': 'lunasol',\n",
       "  'volume': '#'},\n",
       " {'name': 'COLORING SHEER CHEEKS',\n",
       "  'url': 'https://www.lunasol-net.com/kr/product/details/pointmake/p0401018.html',\n",
       "  'image': ['https://www.lunasol-net.com/kr/product/parts/p0401018/img/l.jpg',\n",
       "   'https://www.lunasol-net.com/kr/product/parts/p0401018/img/08_beige_orange.jpg'],\n",
       "  'color': '08 Beige Orange',\n",
       "  'category': 'TOP > PRODUCT > POINT MAKEUP > FACE COLOR',\n",
       "  'salePrice': '#',\n",
       "  'originalPrice': '#',\n",
       "  'brand': 'lunasol',\n",
       "  'volume': '#'}]"
      ]
     },
     "metadata": {},
     "output_type": "display_data"
    },
    {
     "data": {
      "text/plain": [
       "[{'name': 'COLORING SOFT CHEEKS',\n",
       "  'url': 'https://www.lunasol-net.com/kr/product/details/pointmake/p0401028.html',\n",
       "  'image': ['https://www.lunasol-net.com/kr/product/parts/p0401028/img/l.jpg',\n",
       "   'https://www.lunasol-net.com/kr/product/parts/p0401028/img/01_beige_red.jpg'],\n",
       "  'color': '01 Beige Red',\n",
       "  'category': 'TOP > PRODUCT > POINT MAKEUP > FACE COLOR',\n",
       "  'salePrice': '#',\n",
       "  'originalPrice': '#',\n",
       "  'brand': 'lunasol',\n",
       "  'volume': '#'},\n",
       " {'name': 'COLORING SOFT CHEEKS',\n",
       "  'url': 'https://www.lunasol-net.com/kr/product/details/pointmake/p0401028.html',\n",
       "  'image': ['https://www.lunasol-net.com/kr/product/parts/p0401028/img/l.jpg',\n",
       "   'https://www.lunasol-net.com/kr/product/parts/p0401028/img/02_rose_pink.jpg'],\n",
       "  'color': '02 Rose Pink',\n",
       "  'category': 'TOP > PRODUCT > POINT MAKEUP > FACE COLOR',\n",
       "  'salePrice': '#',\n",
       "  'originalPrice': '#',\n",
       "  'brand': 'lunasol',\n",
       "  'volume': '#'}]"
      ]
     },
     "metadata": {},
     "output_type": "display_data"
    },
    {
     "data": {
      "text/plain": [
       "[{'name': 'LIGHTING SHEER HIGHLIGHT',\n",
       "  'url': 'https://www.lunasol-net.com/kr/product/details/pointmake/p0401021.html',\n",
       "  'image': ['https://www.lunasol-net.com/kr/product/parts/p0401021/img/l.jpg',\n",
       "   'https://www.lunasol-net.com/kr/product/parts/p0401021/img/01_sheer_lavender_pink.jpg'],\n",
       "  'color': '01 Sheer Lavender Pink',\n",
       "  'category': 'TOP > PRODUCT > POINT MAKEUP > FACE COLOR',\n",
       "  'salePrice': '#',\n",
       "  'originalPrice': '#',\n",
       "  'brand': 'lunasol',\n",
       "  'volume': '#'},\n",
       " {'name': 'LIGHTING SHEER HIGHLIGHT',\n",
       "  'url': 'https://www.lunasol-net.com/kr/product/details/pointmake/p0401021.html',\n",
       "  'image': ['https://www.lunasol-net.com/kr/product/parts/p0401021/img/l.jpg',\n",
       "   'https://www.lunasol-net.com/kr/product/parts/p0401021/img/02_sheer_beige.jpg'],\n",
       "  'color': '02 Sheer Beige',\n",
       "  'category': 'TOP > PRODUCT > POINT MAKEUP > FACE COLOR',\n",
       "  'salePrice': '#',\n",
       "  'originalPrice': '#',\n",
       "  'brand': 'lunasol',\n",
       "  'volume': '#'}]"
      ]
     },
     "metadata": {},
     "output_type": "display_data"
    },
    {
     "data": {
      "text/plain": [
       "[{'name': 'SHADING CHEEKS N',\n",
       "  'url': 'https://www.lunasol-net.com/kr/product/details/pointmake/p0401022.html',\n",
       "  'image': ['https://www.lunasol-net.com/kr/product/parts/p0401022/img/l.jpg',\n",
       "   'https://www.lunasol-net.com/kr/product/parts/p0401022/img/01_natural_beige.jpg'],\n",
       "  'color': '01 Natural Beige',\n",
       "  'category': 'TOP > PRODUCT > POINT MAKEUP > FACE COLOR',\n",
       "  'salePrice': '#',\n",
       "  'originalPrice': '#',\n",
       "  'brand': 'lunasol',\n",
       "  'volume': '#'}]"
      ]
     },
     "metadata": {},
     "output_type": "display_data"
    },
    {
     "data": {
      "text/plain": [
       "[{'name': 'NAIL FINISH N',\n",
       "  'url': 'https://www.lunasol-net.com/kr/product/details/pointmake/p0501004.html',\n",
       "  'image': ['https://www.lunasol-net.com/kr/product/parts/p0501004/img/l.jpg',\n",
       "   'https://www.lunasol-net.com/kr/product/parts/p0501004/img/04_rose_beige.jpg'],\n",
       "  'color': '04 Rose Beige',\n",
       "  'category': 'TOP > PRODUCT > POINT MAKEUP > NAILS',\n",
       "  'salePrice': '#',\n",
       "  'originalPrice': '#',\n",
       "  'brand': 'lunasol',\n",
       "  'volume': '#'},\n",
       " {'name': 'NAIL FINISH N',\n",
       "  'url': 'https://www.lunasol-net.com/kr/product/details/pointmake/p0501004.html',\n",
       "  'image': ['https://www.lunasol-net.com/kr/product/parts/p0501004/img/l.jpg',\n",
       "   'https://www.lunasol-net.com/kr/product/parts/p0501004/img/06_shining_gold.jpg'],\n",
       "  'color': '06 Shining Gold',\n",
       "  'category': 'TOP > PRODUCT > POINT MAKEUP > NAILS',\n",
       "  'salePrice': '#',\n",
       "  'originalPrice': '#',\n",
       "  'brand': 'lunasol',\n",
       "  'volume': '#'},\n",
       " {'name': 'NAIL FINISH N',\n",
       "  'url': 'https://www.lunasol-net.com/kr/product/details/pointmake/p0501004.html',\n",
       "  'image': ['https://www.lunasol-net.com/kr/product/parts/p0501004/img/l.jpg',\n",
       "   'https://www.lunasol-net.com/kr/product/parts/p0501004/img/08_pearlish_pink.jpg'],\n",
       "  'color': '08 Pearlish Pink',\n",
       "  'category': 'TOP > PRODUCT > POINT MAKEUP > NAILS',\n",
       "  'salePrice': '#',\n",
       "  'originalPrice': '#',\n",
       "  'brand': 'lunasol',\n",
       "  'volume': '#'},\n",
       " {'name': 'NAIL FINISH N',\n",
       "  'url': 'https://www.lunasol-net.com/kr/product/details/pointmake/p0501004.html',\n",
       "  'image': ['https://www.lunasol-net.com/kr/product/parts/p0501004/img/l.jpg',\n",
       "   'https://www.lunasol-net.com/kr/product/parts/p0501004/img/10_neutral_beige.jpg'],\n",
       "  'color': '10 Neutral Beige',\n",
       "  'category': 'TOP > PRODUCT > POINT MAKEUP > NAILS',\n",
       "  'salePrice': '#',\n",
       "  'originalPrice': '#',\n",
       "  'brand': 'lunasol',\n",
       "  'volume': '#'},\n",
       " {'name': 'NAIL FINISH N',\n",
       "  'url': 'https://www.lunasol-net.com/kr/product/details/pointmake/p0501004.html',\n",
       "  'image': ['https://www.lunasol-net.com/kr/product/parts/p0501004/img/l.jpg',\n",
       "   'https://www.lunasol-net.com/kr/product/parts/p0501004/img/11_beige.jpg'],\n",
       "  'color': '11 Beige',\n",
       "  'category': 'TOP > PRODUCT > POINT MAKEUP > NAILS',\n",
       "  'salePrice': '#',\n",
       "  'originalPrice': '#',\n",
       "  'brand': 'lunasol',\n",
       "  'volume': '#'},\n",
       " {'name': 'NAIL FINISH N',\n",
       "  'url': 'https://www.lunasol-net.com/kr/product/details/pointmake/p0501004.html',\n",
       "  'image': ['https://www.lunasol-net.com/kr/product/parts/p0501004/img/l.jpg',\n",
       "   'https://www.lunasol-net.com/kr/product/parts/p0501004/img/12_medium_beige.jpg'],\n",
       "  'color': '12 Medium Beige',\n",
       "  'category': 'TOP > PRODUCT > POINT MAKEUP > NAILS',\n",
       "  'salePrice': '#',\n",
       "  'originalPrice': '#',\n",
       "  'brand': 'lunasol',\n",
       "  'volume': '#'},\n",
       " {'name': 'NAIL FINISH N',\n",
       "  'url': 'https://www.lunasol-net.com/kr/product/details/pointmake/p0501004.html',\n",
       "  'image': ['https://www.lunasol-net.com/kr/product/parts/p0501004/img/l.jpg',\n",
       "   'https://www.lunasol-net.com/kr/product/parts/p0501004/img/14_natural_pink.jpg'],\n",
       "  'color': '14 Natural Pink',\n",
       "  'category': 'TOP > PRODUCT > POINT MAKEUP > NAILS',\n",
       "  'salePrice': '#',\n",
       "  'originalPrice': '#',\n",
       "  'brand': 'lunasol',\n",
       "  'volume': '#'},\n",
       " {'name': 'NAIL FINISH N',\n",
       "  'url': 'https://www.lunasol-net.com/kr/product/details/pointmake/p0501004.html',\n",
       "  'image': ['https://www.lunasol-net.com/kr/product/parts/p0501004/img/l.jpg',\n",
       "   'https://www.lunasol-net.com/kr/product/parts/p0501004/img/15_greige.jpg'],\n",
       "  'color': '15 Greige',\n",
       "  'category': 'TOP > PRODUCT > POINT MAKEUP > NAILS',\n",
       "  'salePrice': '#',\n",
       "  'originalPrice': '#',\n",
       "  'brand': 'lunasol',\n",
       "  'volume': '#'},\n",
       " {'name': 'NAIL FINISH N',\n",
       "  'url': 'https://www.lunasol-net.com/kr/product/details/pointmake/p0501004.html',\n",
       "  'image': ['https://www.lunasol-net.com/kr/product/parts/p0501004/img/l.jpg',\n",
       "   'https://www.lunasol-net.com/kr/product/parts/p0501004/img/16_shine_fall.jpg'],\n",
       "  'color': '16 Shine Fall',\n",
       "  'category': 'TOP > PRODUCT > POINT MAKEUP > NAILS',\n",
       "  'salePrice': '#',\n",
       "  'originalPrice': '#',\n",
       "  'brand': 'lunasol',\n",
       "  'volume': '#'}]"
      ]
     },
     "metadata": {},
     "output_type": "display_data"
    },
    {
     "data": {
      "text/plain": [
       "[{'name': 'BASE COAT N',\n",
       "  'url': 'https://www.lunasol-net.com/kr/product/details/pointmake/p0501003.html',\n",
       "  'image': ['https://www.lunasol-net.com/kr/product/parts/p0501003/img/l.jpg'],\n",
       "  'color': '#',\n",
       "  'category': 'TOP > PRODUCT > POINT MAKEUP > NAILS',\n",
       "  'salePrice': '#',\n",
       "  'originalPrice': '#',\n",
       "  'brand': 'lunasol',\n",
       "  'volume': '#'}]"
      ]
     },
     "metadata": {},
     "output_type": "display_data"
    },
    {
     "data": {
      "text/plain": [
       "[{'name': 'GLOW TOP',\n",
       "  'url': 'https://www.lunasol-net.com/kr/product/details/pointmake/p0501002.html',\n",
       "  'image': ['https://www.lunasol-net.com/kr/product/parts/p0501002/img/l.jpg'],\n",
       "  'color': '#',\n",
       "  'category': 'TOP > PRODUCT > POINT MAKEUP > NAILS',\n",
       "  'salePrice': '#',\n",
       "  'originalPrice': '#',\n",
       "  'brand': 'lunasol',\n",
       "  'volume': '#'}]"
      ]
     },
     "metadata": {},
     "output_type": "display_data"
    },
    {
     "data": {
      "text/plain": [
       "[{'name': 'EYE SHADOW TIP A',\n",
       "  'url': 'https://www.lunasol-net.com/kr/product/details/pointmake/p0601020.html',\n",
       "  'image': ['https://www.lunasol-net.com/kr/product/parts/p0601020/img/l.jpg'],\n",
       "  'color': '#',\n",
       "  'category': 'TOP > PRODUCT > POINT MAKEUP > TOOLS',\n",
       "  'salePrice': '#',\n",
       "  'originalPrice': '#',\n",
       "  'brand': 'lunasol',\n",
       "  'volume': '#'}]"
      ]
     },
     "metadata": {},
     "output_type": "display_data"
    },
    {
     "data": {
      "text/plain": [
       "[{'name': 'EYE SHADOW TIP B',\n",
       "  'url': 'https://www.lunasol-net.com/kr/product/details/pointmake/p0601021.html',\n",
       "  'image': ['https://www.lunasol-net.com/kr/product/parts/p0601021/img/l.jpg'],\n",
       "  'color': '#',\n",
       "  'category': 'TOP > PRODUCT > POINT MAKEUP > TOOLS',\n",
       "  'salePrice': '#',\n",
       "  'originalPrice': '#',\n",
       "  'brand': 'lunasol',\n",
       "  'volume': '#'}]"
      ]
     },
     "metadata": {},
     "output_type": "display_data"
    },
    {
     "data": {
      "text/plain": [
       "[{'name': 'CHEEK COLOR COMPACT',\n",
       "  'url': 'https://www.lunasol-net.com/kr/product/details/pointmake/p0601019.html',\n",
       "  'image': ['https://www.lunasol-net.com/kr/product/parts/p0601019/img/l.jpg'],\n",
       "  'color': '#',\n",
       "  'category': 'TOP > PRODUCT > POINT MAKEUP > TOOLS',\n",
       "  'salePrice': '#',\n",
       "  'originalPrice': '#',\n",
       "  'brand': 'lunasol',\n",
       "  'volume': '#'}]"
      ]
     },
     "metadata": {},
     "output_type": "display_data"
    },
    {
     "data": {
      "text/plain": [
       "[{'name': 'CHEEK COLOR COMPACT S',\n",
       "  'url': 'https://www.lunasol-net.com/kr/product/details/pointmake/p0601022.html',\n",
       "  'image': ['https://www.lunasol-net.com/kr/product/parts/p0601022/img/l.jpg'],\n",
       "  'color': '#',\n",
       "  'category': 'TOP > PRODUCT > POINT MAKEUP > TOOLS',\n",
       "  'salePrice': '#',\n",
       "  'originalPrice': '#',\n",
       "  'brand': 'lunasol',\n",
       "  'volume': '#'}]"
      ]
     },
     "metadata": {},
     "output_type": "display_data"
    },
    {
     "data": {
      "text/plain": [
       "[{'name': 'FACE COLOR COMPACT',\n",
       "  'url': 'https://www.lunasol-net.com/kr/product/details/pointmake/p0601026.html',\n",
       "  'image': ['https://www.lunasol-net.com/kr/product/parts/p0601026/img/l.jpg'],\n",
       "  'color': '#',\n",
       "  'category': 'TOP > PRODUCT > POINT MAKEUP > TOOLS',\n",
       "  'salePrice': '#',\n",
       "  'originalPrice': '#',\n",
       "  'brand': 'lunasol',\n",
       "  'volume': '#'}]"
      ]
     },
     "metadata": {},
     "output_type": "display_data"
    },
    {
     "data": {
      "text/plain": [
       "[{'name': 'FACE BRUSH',\n",
       "  'url': 'https://www.lunasol-net.com/kr/product/details/pointmake/p0601024.html',\n",
       "  'image': ['https://www.lunasol-net.com/kr/product/parts/p0601024/img/l.jpg'],\n",
       "  'color': '#',\n",
       "  'category': 'TOP > PRODUCT > POINT MAKEUP > TOOLS',\n",
       "  'salePrice': '#',\n",
       "  'originalPrice': '#',\n",
       "  'brand': 'lunasol',\n",
       "  'volume': '#'}]"
      ]
     },
     "metadata": {},
     "output_type": "display_data"
    },
    {
     "data": {
      "text/plain": [
       "[{'name': 'POWDER BRUSH N',\n",
       "  'url': 'https://www.lunasol-net.com/kr/product/details/pointmake/p0601012.html',\n",
       "  'image': ['https://www.lunasol-net.com/kr/product/parts/p0601012/img/l.jpg'],\n",
       "  'color': '#',\n",
       "  'category': 'TOP > PRODUCT > POINT MAKEUP > TOOLS',\n",
       "  'salePrice': '#',\n",
       "  'originalPrice': '#',\n",
       "  'brand': 'lunasol',\n",
       "  'volume': '#'}]"
      ]
     },
     "metadata": {},
     "output_type": "display_data"
    },
    {
     "data": {
      "text/plain": [
       "[{'name': 'CHEEK BRUSH N',\n",
       "  'url': 'https://www.lunasol-net.com/kr/product/details/pointmake/p0601010.html',\n",
       "  'image': ['https://www.lunasol-net.com/kr/product/parts/p0601010/img/l.jpg'],\n",
       "  'color': '#',\n",
       "  'category': 'TOP > PRODUCT > POINT MAKEUP > TOOLS',\n",
       "  'salePrice': '#',\n",
       "  'originalPrice': '#',\n",
       "  'brand': 'lunasol',\n",
       "  'volume': '#'}]"
      ]
     },
     "metadata": {},
     "output_type": "display_data"
    },
    {
     "data": {
      "text/plain": [
       "[{'name': 'CHEEK BRUSH (S)',\n",
       "  'url': 'https://www.lunasol-net.com/kr/product/details/pointmake/p0601011.html',\n",
       "  'image': ['https://www.lunasol-net.com/kr/product/parts/p0601011/img/l.jpg'],\n",
       "  'color': '#',\n",
       "  'category': 'TOP > PRODUCT > POINT MAKEUP > TOOLS',\n",
       "  'salePrice': '#',\n",
       "  'originalPrice': '#',\n",
       "  'brand': 'lunasol',\n",
       "  'volume': '#'}]"
      ]
     },
     "metadata": {},
     "output_type": "display_data"
    },
    {
     "data": {
      "text/plain": [
       "[{'name': 'EYE SHADOW BRUSH (L) N',\n",
       "  'url': 'https://www.lunasol-net.com/kr/product/details/pointmake/p0601009.html',\n",
       "  'image': ['https://www.lunasol-net.com/kr/product/parts/p0601009/img/l.jpg'],\n",
       "  'color': '#',\n",
       "  'category': 'TOP > PRODUCT > POINT MAKEUP > TOOLS',\n",
       "  'salePrice': '#',\n",
       "  'originalPrice': '#',\n",
       "  'brand': 'lunasol',\n",
       "  'volume': '#'}]"
      ]
     },
     "metadata": {},
     "output_type": "display_data"
    },
    {
     "data": {
      "text/plain": [
       "[{'name': 'EYE SHADOW BRUSH (M) N',\n",
       "  'url': 'https://www.lunasol-net.com/kr/product/details/pointmake/p0601008.html',\n",
       "  'image': ['https://www.lunasol-net.com/kr/product/parts/p0601008/img/l.jpg'],\n",
       "  'color': '#',\n",
       "  'category': 'TOP > PRODUCT > POINT MAKEUP > TOOLS',\n",
       "  'salePrice': '#',\n",
       "  'originalPrice': '#',\n",
       "  'brand': 'lunasol',\n",
       "  'volume': '#'}]"
      ]
     },
     "metadata": {},
     "output_type": "display_data"
    },
    {
     "data": {
      "text/plain": [
       "[{'name': 'EYE SHADOW BRUSH (S) N',\n",
       "  'url': 'https://www.lunasol-net.com/kr/product/details/pointmake/p0601007.html',\n",
       "  'image': ['https://www.lunasol-net.com/kr/product/parts/p0601007/img/l.jpg'],\n",
       "  'color': '#',\n",
       "  'category': 'TOP > PRODUCT > POINT MAKEUP > TOOLS',\n",
       "  'salePrice': '#',\n",
       "  'originalPrice': '#',\n",
       "  'brand': 'lunasol',\n",
       "  'volume': '#'}]"
      ]
     },
     "metadata": {},
     "output_type": "display_data"
    },
    {
     "data": {
      "text/plain": [
       "[{'name': 'SHADOW LINER BRUSH N',\n",
       "  'url': 'https://www.lunasol-net.com/kr/product/details/pointmake/p0601005.html',\n",
       "  'image': ['https://www.lunasol-net.com/kr/product/parts/p0601005/img/l.jpg'],\n",
       "  'color': '#',\n",
       "  'category': 'TOP > PRODUCT > POINT MAKEUP > TOOLS',\n",
       "  'salePrice': '#',\n",
       "  'originalPrice': '#',\n",
       "  'brand': 'lunasol',\n",
       "  'volume': '#'}]"
      ]
     },
     "metadata": {},
     "output_type": "display_data"
    },
    {
     "data": {
      "text/plain": [
       "[{'name': 'EYE SHADOW TIP N',\n",
       "  'url': 'https://www.lunasol-net.com/kr/product/details/pointmake/p0601006.html',\n",
       "  'image': ['https://www.lunasol-net.com/kr/product/parts/p0601006/img/l.jpg'],\n",
       "  'color': '#',\n",
       "  'category': 'TOP > PRODUCT > POINT MAKEUP > TOOLS',\n",
       "  'salePrice': '#',\n",
       "  'originalPrice': '#',\n",
       "  'brand': 'lunasol',\n",
       "  'volume': '#'}]"
      ]
     },
     "metadata": {},
     "output_type": "display_data"
    },
    {
     "data": {
      "text/plain": [
       "[{'name': 'CONCEALER BRUSH N',\n",
       "  'url': 'https://www.lunasol-net.com/kr/product/details/pointmake/p0601003.html',\n",
       "  'image': ['https://www.lunasol-net.com/kr/product/parts/p0601003/img/l.jpg'],\n",
       "  'color': '#',\n",
       "  'category': 'TOP > PRODUCT > POINT MAKEUP > TOOLS',\n",
       "  'salePrice': '#',\n",
       "  'originalPrice': '#',\n",
       "  'brand': 'lunasol',\n",
       "  'volume': '#'}]"
      ]
     },
     "metadata": {},
     "output_type": "display_data"
    },
    {
     "data": {
      "text/plain": [
       "[{'name': 'LIP BRUSH',\n",
       "  'url': 'https://www.lunasol-net.com/kr/product/details/pointmake/p0601025.html',\n",
       "  'image': ['https://www.lunasol-net.com/kr/product/parts/p0601025/img/l.jpg'],\n",
       "  'color': '#',\n",
       "  'category': 'TOP > PRODUCT > POINT MAKEUP > TOOLS',\n",
       "  'salePrice': '#',\n",
       "  'originalPrice': '#',\n",
       "  'brand': 'lunasol',\n",
       "  'volume': '#'}]"
      ]
     },
     "metadata": {},
     "output_type": "display_data"
    },
    {
     "data": {
      "text/plain": [
       "[{'name': 'PENCIL SHARPENER',\n",
       "  'url': 'https://www.lunasol-net.com/kr/product/details/pointmake/p0601017.html',\n",
       "  'image': ['https://www.lunasol-net.com/kr/product/parts/p0601017/img/l.jpg'],\n",
       "  'color': '#',\n",
       "  'category': 'TOP > PRODUCT > POINT MAKEUP > TOOLS',\n",
       "  'salePrice': '#',\n",
       "  'originalPrice': '#',\n",
       "  'brand': 'lunasol',\n",
       "  'volume': '#'}]"
      ]
     },
     "metadata": {},
     "output_type": "display_data"
    },
    {
     "data": {
      "text/plain": [
       "[{'name': 'NAIL COLOR RESETTER',\n",
       "  'url': 'https://www.lunasol-net.com/kr/product/details/pointmake/p0601016.html',\n",
       "  'image': ['https://www.lunasol-net.com/kr/product/parts/p0601016/img/l.jpg'],\n",
       "  'color': '#',\n",
       "  'category': 'TOP > PRODUCT > POINT MAKEUP > TOOLS',\n",
       "  'salePrice': '#',\n",
       "  'originalPrice': '#',\n",
       "  'brand': 'lunasol',\n",
       "  'volume': '#'}]"
      ]
     },
     "metadata": {},
     "output_type": "display_data"
    },
    {
     "data": {
      "text/plain": [
       "[{'name': 'POINT MAKE OFF N',\n",
       "  'url': 'https://www.lunasol-net.com/kr/product/details/pointmake/p0601015.html',\n",
       "  'image': ['https://www.lunasol-net.com/kr/product/parts/p0601015/img/l.jpg'],\n",
       "  'color': '#',\n",
       "  'category': 'TOP > PRODUCT > POINT MAKEUP > TOOLS',\n",
       "  'salePrice': '#',\n",
       "  'originalPrice': '#',\n",
       "  'brand': 'lunasol',\n",
       "  'volume': '#'}]"
      ]
     },
     "metadata": {},
     "output_type": "display_data"
    },
    {
     "data": {
      "text/plain": [
       "[{'name': 'GLOWING WATERY OIL LIQUID',\n",
       "  'url': 'https://www.lunasol-net.com/kr/product/details/basemake/b0101009.html',\n",
       "  'image': ['https://www.lunasol-net.com/kr/product/parts/b0101009/img/l.jpg',\n",
       "   'https://www.lunasol-net.com/kr/product/parts/b0101009/img/01_light.jpg'],\n",
       "  'color': '01 Light',\n",
       "  'category': 'TOP > PRODUCT > BASE MAKEUP > FOUNDATION/MAKE UP BASE/FACE POWDER',\n",
       "  'salePrice': '#',\n",
       "  'originalPrice': '#',\n",
       "  'brand': 'lunasol',\n",
       "  'volume': '#'},\n",
       " {'name': 'GLOWING WATERY OIL LIQUID',\n",
       "  'url': 'https://www.lunasol-net.com/kr/product/details/basemake/b0101009.html',\n",
       "  'image': ['https://www.lunasol-net.com/kr/product/parts/b0101009/img/l.jpg',\n",
       "   'https://www.lunasol-net.com/kr/product/parts/b0101009/img/02_natural.jpg'],\n",
       "  'color': '02 Natural',\n",
       "  'category': 'TOP > PRODUCT > BASE MAKEUP > FOUNDATION/MAKE UP BASE/FACE POWDER',\n",
       "  'salePrice': '#',\n",
       "  'originalPrice': '#',\n",
       "  'brand': 'lunasol',\n",
       "  'volume': '#'},\n",
       " {'name': 'GLOWING WATERY OIL LIQUID',\n",
       "  'url': 'https://www.lunasol-net.com/kr/product/details/basemake/b0101009.html',\n",
       "  'image': ['https://www.lunasol-net.com/kr/product/parts/b0101009/img/l.jpg',\n",
       "   'https://www.lunasol-net.com/kr/product/parts/b0101009/img/03_medium.jpg'],\n",
       "  'color': '03 Medium',\n",
       "  'category': 'TOP > PRODUCT > BASE MAKEUP > FOUNDATION/MAKE UP BASE/FACE POWDER',\n",
       "  'salePrice': '#',\n",
       "  'originalPrice': '#',\n",
       "  'brand': 'lunasol',\n",
       "  'volume': '#'},\n",
       " {'name': 'GLOWING WATERY OIL LIQUID',\n",
       "  'url': 'https://www.lunasol-net.com/kr/product/details/basemake/b0101009.html',\n",
       "  'image': ['https://www.lunasol-net.com/kr/product/parts/b0101009/img/l.jpg',\n",
       "   'https://www.lunasol-net.com/kr/product/parts/b0101009/img/04_dark.jpg'],\n",
       "  'color': '04 Dark',\n",
       "  'category': 'TOP > PRODUCT > BASE MAKEUP > FOUNDATION/MAKE UP BASE/FACE POWDER',\n",
       "  'salePrice': '#',\n",
       "  'originalPrice': '#',\n",
       "  'brand': 'lunasol',\n",
       "  'volume': '#'},\n",
       " {'name': 'GLOWING WATERY OIL LIQUID',\n",
       "  'url': 'https://www.lunasol-net.com/kr/product/details/basemake/b0101009.html',\n",
       "  'image': ['https://www.lunasol-net.com/kr/product/parts/b0101009/img/l.jpg',\n",
       "   'https://www.lunasol-net.com/kr/product/parts/b0101009/img/cl_clear.jpg'],\n",
       "  'color': 'CL Clear',\n",
       "  'category': 'TOP > PRODUCT > BASE MAKEUP > FOUNDATION/MAKE UP BASE/FACE POWDER',\n",
       "  'salePrice': '#',\n",
       "  'originalPrice': '#',\n",
       "  'brand': 'lunasol',\n",
       "  'volume': '#'}]"
      ]
     },
     "metadata": {},
     "output_type": "display_data"
    },
    {
     "data": {
      "text/plain": [
       "[{'name': 'SKIN MODELING POWDER GLOW',\n",
       "  'url': 'https://www.lunasol-net.com/kr/product/details/basemake/b0101008.html',\n",
       "  'image': ['https://www.lunasol-net.com/kr/product/parts/b0101008/img/l.jpg',\n",
       "   'https://www.lunasol-net.com/kr/product/parts/b0101008/img/oc01.jpg'],\n",
       "  'color': 'OC01',\n",
       "  'category': 'TOP > PRODUCT > BASE MAKEUP > FOUNDATION/MAKE UP BASE/FACE POWDER',\n",
       "  'salePrice': '#',\n",
       "  'originalPrice': '#',\n",
       "  'brand': 'lunasol',\n",
       "  'volume': '#'},\n",
       " {'name': 'SKIN MODELING POWDER GLOW',\n",
       "  'url': 'https://www.lunasol-net.com/kr/product/details/basemake/b0101008.html',\n",
       "  'image': ['https://www.lunasol-net.com/kr/product/parts/b0101008/img/l.jpg',\n",
       "   'https://www.lunasol-net.com/kr/product/parts/b0101008/img/oc02.jpg'],\n",
       "  'color': 'OC02',\n",
       "  'category': 'TOP > PRODUCT > BASE MAKEUP > FOUNDATION/MAKE UP BASE/FACE POWDER',\n",
       "  'salePrice': '#',\n",
       "  'originalPrice': '#',\n",
       "  'brand': 'lunasol',\n",
       "  'volume': '#'},\n",
       " {'name': 'SKIN MODELING POWDER GLOW',\n",
       "  'url': 'https://www.lunasol-net.com/kr/product/details/basemake/b0101008.html',\n",
       "  'image': ['https://www.lunasol-net.com/kr/product/parts/b0101008/img/l.jpg',\n",
       "   'https://www.lunasol-net.com/kr/product/parts/b0101008/img/oc03.jpg'],\n",
       "  'color': 'OC03',\n",
       "  'category': 'TOP > PRODUCT > BASE MAKEUP > FOUNDATION/MAKE UP BASE/FACE POWDER',\n",
       "  'salePrice': '#',\n",
       "  'originalPrice': '#',\n",
       "  'brand': 'lunasol',\n",
       "  'volume': '#'},\n",
       " {'name': 'SKIN MODELING POWDER GLOW',\n",
       "  'url': 'https://www.lunasol-net.com/kr/product/details/basemake/b0101008.html',\n",
       "  'image': ['https://www.lunasol-net.com/kr/product/parts/b0101008/img/l.jpg',\n",
       "   'https://www.lunasol-net.com/kr/product/parts/b0101008/img/oc04.jpg'],\n",
       "  'color': 'OC04',\n",
       "  'category': 'TOP > PRODUCT > BASE MAKEUP > FOUNDATION/MAKE UP BASE/FACE POWDER',\n",
       "  'salePrice': '#',\n",
       "  'originalPrice': '#',\n",
       "  'brand': 'lunasol',\n",
       "  'volume': '#'},\n",
       " {'name': 'SKIN MODELING POWDER GLOW',\n",
       "  'url': 'https://www.lunasol-net.com/kr/product/details/basemake/b0101008.html',\n",
       "  'image': ['https://www.lunasol-net.com/kr/product/parts/b0101008/img/l.jpg',\n",
       "   'https://www.lunasol-net.com/kr/product/parts/b0101008/img/yo02.jpg'],\n",
       "  'color': 'YO02',\n",
       "  'category': 'TOP > PRODUCT > BASE MAKEUP > FOUNDATION/MAKE UP BASE/FACE POWDER',\n",
       "  'salePrice': '#',\n",
       "  'originalPrice': '#',\n",
       "  'brand': 'lunasol',\n",
       "  'volume': '#'},\n",
       " {'name': 'SKIN MODELING POWDER GLOW',\n",
       "  'url': 'https://www.lunasol-net.com/kr/product/details/basemake/b0101008.html',\n",
       "  'image': ['https://www.lunasol-net.com/kr/product/parts/b0101008/img/l.jpg',\n",
       "   'https://www.lunasol-net.com/kr/product/parts/b0101008/img/yo03.jpg'],\n",
       "  'color': 'YO03',\n",
       "  'category': 'TOP > PRODUCT > BASE MAKEUP > FOUNDATION/MAKE UP BASE/FACE POWDER',\n",
       "  'salePrice': '#',\n",
       "  'originalPrice': '#',\n",
       "  'brand': 'lunasol',\n",
       "  'volume': '#'}]"
      ]
     },
     "metadata": {},
     "output_type": "display_data"
    },
    {
     "data": {
      "text/plain": [
       "[{'name': 'SHEER LIGHT LOOSE FOUNDATION',\n",
       "  'url': 'https://www.lunasol-net.com/kr/product/details/basemake/b0101007.html',\n",
       "  'image': ['https://www.lunasol-net.com/kr/product/parts/b0101007/img/l.jpg',\n",
       "   'https://www.lunasol-net.com/kr/product/parts/b0101007/img/01_light.jpg'],\n",
       "  'color': '01 Light',\n",
       "  'category': 'TOP > PRODUCT > BASE MAKEUP > FOUNDATION/MAKE UP BASE/FACE POWDER',\n",
       "  'salePrice': '#',\n",
       "  'originalPrice': '#',\n",
       "  'brand': 'lunasol',\n",
       "  'volume': '#'},\n",
       " {'name': 'SHEER LIGHT LOOSE FOUNDATION',\n",
       "  'url': 'https://www.lunasol-net.com/kr/product/details/basemake/b0101007.html',\n",
       "  'image': ['https://www.lunasol-net.com/kr/product/parts/b0101007/img/l.jpg',\n",
       "   'https://www.lunasol-net.com/kr/product/parts/b0101007/img/02_natural.jpg'],\n",
       "  'color': '02 Natural',\n",
       "  'category': 'TOP > PRODUCT > BASE MAKEUP > FOUNDATION/MAKE UP BASE/FACE POWDER',\n",
       "  'salePrice': '#',\n",
       "  'originalPrice': '#',\n",
       "  'brand': 'lunasol',\n",
       "  'volume': '#'}]"
      ]
     },
     "metadata": {},
     "output_type": "display_data"
    },
    {
     "data": {
      "text/plain": [
       "[{'name': 'MODELING BEIGE SKIN',\n",
       "  'url': 'https://www.lunasol-net.com/kr/product/details/basemake/b0101006.html',\n",
       "  'image': ['https://www.lunasol-net.com/kr/product/parts/b0101006/img/l.jpg',\n",
       "   'https://www.lunasol-net.com/kr/product/parts/b0101006/img/01_beige_beige.jpg'],\n",
       "  'color': '01 Beige Beige',\n",
       "  'category': 'TOP > PRODUCT > BASE MAKEUP > FOUNDATION/MAKE UP BASE/FACE POWDER',\n",
       "  'salePrice': '#',\n",
       "  'originalPrice': '#',\n",
       "  'brand': 'lunasol',\n",
       "  'volume': '#'}]"
      ]
     },
     "metadata": {},
     "output_type": "display_data"
    },
    {
     "data": {
      "text/plain": [
       "[{'name': 'SKIN MODELING WATER CREAM FOUNDATION',\n",
       "  'url': 'https://www.lunasol-net.com/kr/product/details/basemake/b0101005.html',\n",
       "  'image': ['https://www.lunasol-net.com/kr/product/parts/b0101005/img/l.jpg',\n",
       "   'https://www.lunasol-net.com/kr/product/parts/b0101005/img/oc01.jpg'],\n",
       "  'color': 'OC01',\n",
       "  'category': 'TOP > PRODUCT > BASE MAKEUP > FOUNDATION/MAKE UP BASE/FACE POWDER',\n",
       "  'salePrice': '#',\n",
       "  'originalPrice': '#',\n",
       "  'brand': 'lunasol',\n",
       "  'volume': '#'},\n",
       " {'name': 'SKIN MODELING WATER CREAM FOUNDATION',\n",
       "  'url': 'https://www.lunasol-net.com/kr/product/details/basemake/b0101005.html',\n",
       "  'image': ['https://www.lunasol-net.com/kr/product/parts/b0101005/img/l.jpg',\n",
       "   'https://www.lunasol-net.com/kr/product/parts/b0101005/img/oc02.jpg'],\n",
       "  'color': 'OC02',\n",
       "  'category': 'TOP > PRODUCT > BASE MAKEUP > FOUNDATION/MAKE UP BASE/FACE POWDER',\n",
       "  'salePrice': '#',\n",
       "  'originalPrice': '#',\n",
       "  'brand': 'lunasol',\n",
       "  'volume': '#'},\n",
       " {'name': 'SKIN MODELING WATER CREAM FOUNDATION',\n",
       "  'url': 'https://www.lunasol-net.com/kr/product/details/basemake/b0101005.html',\n",
       "  'image': ['https://www.lunasol-net.com/kr/product/parts/b0101005/img/l.jpg',\n",
       "   'https://www.lunasol-net.com/kr/product/parts/b0101005/img/oc03.jpg'],\n",
       "  'color': 'OC03',\n",
       "  'category': 'TOP > PRODUCT > BASE MAKEUP > FOUNDATION/MAKE UP BASE/FACE POWDER',\n",
       "  'salePrice': '#',\n",
       "  'originalPrice': '#',\n",
       "  'brand': 'lunasol',\n",
       "  'volume': '#'},\n",
       " {'name': 'SKIN MODELING WATER CREAM FOUNDATION',\n",
       "  'url': 'https://www.lunasol-net.com/kr/product/details/basemake/b0101005.html',\n",
       "  'image': ['https://www.lunasol-net.com/kr/product/parts/b0101005/img/l.jpg',\n",
       "   'https://www.lunasol-net.com/kr/product/parts/b0101005/img/oc04.jpg'],\n",
       "  'color': 'OC04',\n",
       "  'category': 'TOP > PRODUCT > BASE MAKEUP > FOUNDATION/MAKE UP BASE/FACE POWDER',\n",
       "  'salePrice': '#',\n",
       "  'originalPrice': '#',\n",
       "  'brand': 'lunasol',\n",
       "  'volume': '#'},\n",
       " {'name': 'SKIN MODELING WATER CREAM FOUNDATION',\n",
       "  'url': 'https://www.lunasol-net.com/kr/product/details/basemake/b0101005.html',\n",
       "  'image': ['https://www.lunasol-net.com/kr/product/parts/b0101005/img/l.jpg',\n",
       "   'https://www.lunasol-net.com/kr/product/parts/b0101005/img/yo02.jpg'],\n",
       "  'color': 'YO02',\n",
       "  'category': 'TOP > PRODUCT > BASE MAKEUP > FOUNDATION/MAKE UP BASE/FACE POWDER',\n",
       "  'salePrice': '#',\n",
       "  'originalPrice': '#',\n",
       "  'brand': 'lunasol',\n",
       "  'volume': '#'},\n",
       " {'name': 'SKIN MODELING WATER CREAM FOUNDATION',\n",
       "  'url': 'https://www.lunasol-net.com/kr/product/details/basemake/b0101005.html',\n",
       "  'image': ['https://www.lunasol-net.com/kr/product/parts/b0101005/img/l.jpg',\n",
       "   'https://www.lunasol-net.com/kr/product/parts/b0101005/img/yo03.jpg'],\n",
       "  'color': 'YO03',\n",
       "  'category': 'TOP > PRODUCT > BASE MAKEUP > FOUNDATION/MAKE UP BASE/FACE POWDER',\n",
       "  'salePrice': '#',\n",
       "  'originalPrice': '#',\n",
       "  'brand': 'lunasol',\n",
       "  'volume': '#'}]"
      ]
     },
     "metadata": {},
     "output_type": "display_data"
    },
    {
     "data": {
      "text/plain": [
       "[{'name': 'COLOR STICK',\n",
       "  'url': 'https://www.lunasol-net.com/kr/product/details/basemake/b0201007.html',\n",
       "  'image': ['https://www.lunasol-net.com/kr/product/parts/b0201007/img/l.jpg',\n",
       "   'https://www.lunasol-net.com/kr/product/parts/b0201007/img/01_sheer_pink.jpg'],\n",
       "  'color': '01 Sheer Pink',\n",
       "  'category': 'TOP > PRODUCT > BASE MAKEUP > OPTION/TOOLS',\n",
       "  'salePrice': '#',\n",
       "  'originalPrice': '#',\n",
       "  'brand': 'lunasol',\n",
       "  'volume': '#'},\n",
       " {'name': 'COLOR STICK',\n",
       "  'url': 'https://www.lunasol-net.com/kr/product/details/basemake/b0201007.html',\n",
       "  'image': ['https://www.lunasol-net.com/kr/product/parts/b0201007/img/l.jpg',\n",
       "   'https://www.lunasol-net.com/kr/product/parts/b0201007/img/02_sheer_orange.jpg'],\n",
       "  'color': '02 Sheer Orange',\n",
       "  'category': 'TOP > PRODUCT > BASE MAKEUP > OPTION/TOOLS',\n",
       "  'salePrice': '#',\n",
       "  'originalPrice': '#',\n",
       "  'brand': 'lunasol',\n",
       "  'volume': '#'}]"
      ]
     },
     "metadata": {},
     "output_type": "display_data"
    },
    {
     "data": {
      "text/plain": [
       "[{'name': 'RADIANT STICK',\n",
       "  'url': 'https://www.lunasol-net.com/kr/product/details/basemake/b0201004.html',\n",
       "  'image': ['https://www.lunasol-net.com/kr/product/parts/b0201004/img/l.jpg',\n",
       "   'https://www.lunasol-net.com/kr/product/parts/b0201004/img/01_sheer.jpg'],\n",
       "  'color': '01 Sheer',\n",
       "  'category': 'TOP > PRODUCT > BASE MAKEUP > OPTION/TOOLS',\n",
       "  'salePrice': '#',\n",
       "  'originalPrice': '#',\n",
       "  'brand': 'lunasol',\n",
       "  'volume': '#'}]"
      ]
     },
     "metadata": {},
     "output_type": "display_data"
    },
    {
     "data": {
      "text/plain": [
       "[{'name': 'CONTOURING STICK',\n",
       "  'url': 'https://www.lunasol-net.com/kr/product/details/basemake/b0201005.html',\n",
       "  'image': ['https://www.lunasol-net.com/kr/product/parts/b0201005/img/l.jpg',\n",
       "   'https://www.lunasol-net.com/kr/product/parts/b0201005/img/01_natural_shade.jpg'],\n",
       "  'color': '01 Natural Shade',\n",
       "  'category': 'TOP > PRODUCT > BASE MAKEUP > OPTION/TOOLS',\n",
       "  'salePrice': '#',\n",
       "  'originalPrice': '#',\n",
       "  'brand': 'lunasol',\n",
       "  'volume': '#'}]"
      ]
     },
     "metadata": {},
     "output_type": "display_data"
    },
    {
     "data": {
      "text/plain": [
       "[{'name': 'SEAMLESS CONCEALING COMPACT',\n",
       "  'url': 'https://www.lunasol-net.com/kr/product/details/basemake/b0201006.html',\n",
       "  'image': ['https://www.lunasol-net.com/kr/product/parts/b0201006/img/l.jpg',\n",
       "   'https://www.lunasol-net.com/kr/product/parts/b0201006/img/01_natural.jpg'],\n",
       "  'color': '01 Natural',\n",
       "  'category': 'TOP > PRODUCT > BASE MAKEUP > OPTION/TOOLS',\n",
       "  'salePrice': '#',\n",
       "  'originalPrice': '#',\n",
       "  'brand': 'lunasol',\n",
       "  'volume': '#'}]"
      ]
     },
     "metadata": {},
     "output_type": "display_data"
    },
    {
     "data": {
      "text/plain": [
       "[{'name': 'GLOWING DAY STICK',\n",
       "  'url': 'https://www.lunasol-net.com/kr/product/details/basemake/b0201003.html',\n",
       "  'image': ['https://www.lunasol-net.com/kr/product/parts/b0201003/img/l.jpg',\n",
       "   'https://www.lunasol-net.com/kr/product/parts/b0201003/img/01_lucent.jpg'],\n",
       "  'color': '01 Lucent',\n",
       "  'category': 'TOP > PRODUCT > BASE MAKEUP > OPTION/TOOLS',\n",
       "  'salePrice': '#',\n",
       "  'originalPrice': '#',\n",
       "  'brand': 'lunasol',\n",
       "  'volume': '#'}]"
      ]
     },
     "metadata": {},
     "output_type": "display_data"
    },
    {
     "data": {
      "text/plain": [
       "[{'name': 'UNDER EYES CONCEALER',\n",
       "  'url': 'https://www.lunasol-net.com/kr/product/details/basemake/b0201001.html',\n",
       "  'image': ['https://www.lunasol-net.com/kr/product/parts/b0201001/img/l.jpg',\n",
       "   'https://www.lunasol-net.com/kr/product/parts/b0201001/img/00_light_beige.jpg'],\n",
       "  'color': '00 Light Beige',\n",
       "  'category': 'TOP > PRODUCT > BASE MAKEUP > OPTION/TOOLS',\n",
       "  'salePrice': '#',\n",
       "  'originalPrice': '#',\n",
       "  'brand': 'lunasol',\n",
       "  'volume': '#'},\n",
       " {'name': 'UNDER EYES CONCEALER',\n",
       "  'url': 'https://www.lunasol-net.com/kr/product/details/basemake/b0201001.html',\n",
       "  'image': ['https://www.lunasol-net.com/kr/product/parts/b0201001/img/l.jpg',\n",
       "   'https://www.lunasol-net.com/kr/product/parts/b0201001/img/01_natural_beige.jpg'],\n",
       "  'color': '01 Natural Beige',\n",
       "  'category': 'TOP > PRODUCT > BASE MAKEUP > OPTION/TOOLS',\n",
       "  'salePrice': '#',\n",
       "  'originalPrice': '#',\n",
       "  'brand': 'lunasol',\n",
       "  'volume': '#'},\n",
       " {'name': 'UNDER EYES CONCEALER',\n",
       "  'url': 'https://www.lunasol-net.com/kr/product/details/basemake/b0201001.html',\n",
       "  'image': ['https://www.lunasol-net.com/kr/product/parts/b0201001/img/l.jpg',\n",
       "   'https://www.lunasol-net.com/kr/product/parts/b0201001/img/02_dark_beige.jpg'],\n",
       "  'color': '02 Dark Beige',\n",
       "  'category': 'TOP > PRODUCT > BASE MAKEUP > OPTION/TOOLS',\n",
       "  'salePrice': '#',\n",
       "  'originalPrice': '#',\n",
       "  'brand': 'lunasol',\n",
       "  'volume': '#'},\n",
       " {'name': 'UNDER EYES CONCEALER',\n",
       "  'url': 'https://www.lunasol-net.com/kr/product/details/basemake/b0201001.html',\n",
       "  'image': ['https://www.lunasol-net.com/kr/product/parts/b0201001/img/l.jpg',\n",
       "   'https://www.lunasol-net.com/kr/product/parts/b0201001/img/yl_natural_yellow.jpg'],\n",
       "  'color': 'YL Natural Yellow',\n",
       "  'category': 'TOP > PRODUCT > BASE MAKEUP > OPTION/TOOLS',\n",
       "  'salePrice': '#',\n",
       "  'originalPrice': '#',\n",
       "  'brand': 'lunasol',\n",
       "  'volume': '#'},\n",
       " {'name': 'UNDER EYES CONCEALER',\n",
       "  'url': 'https://www.lunasol-net.com/kr/product/details/basemake/b0201001.html',\n",
       "  'image': ['https://www.lunasol-net.com/kr/product/parts/b0201001/img/l.jpg',\n",
       "   'https://www.lunasol-net.com/kr/product/parts/b0201001/img/or_natural_orange.jpg'],\n",
       "  'color': 'OR Natural Orange',\n",
       "  'category': 'TOP > PRODUCT > BASE MAKEUP > OPTION/TOOLS',\n",
       "  'salePrice': '#',\n",
       "  'originalPrice': '#',\n",
       "  'brand': 'lunasol',\n",
       "  'volume': '#'}]"
      ]
     },
     "metadata": {},
     "output_type": "display_data"
    },
    {
     "data": {
      "text/plain": [
       "[{'name': 'OIL-IN SOLUTION',\n",
       "  'url': 'https://www.lunasol-net.com/kr/product/details/skincare/s0101008.html',\n",
       "  'image': ['https://www.lunasol-net.com/kr/product/parts/s0101008/img/l.jpg'],\n",
       "  'color': '#',\n",
       "  'category': 'TOP > PRODUCT > SKINCARE',\n",
       "  'salePrice': '#',\n",
       "  'originalPrice': '#',\n",
       "  'brand': 'lunasol',\n",
       "  'volume': '#'}]"
      ]
     },
     "metadata": {},
     "output_type": "display_data"
    },
    {
     "data": {
      "text/plain": [
       "[{'name': 'POSITIVE SOLUTION',\n",
       "  'url': 'https://www.lunasol-net.com/kr/product/details/skincare/s0101009.html',\n",
       "  'image': ['https://www.lunasol-net.com/kr/product/parts/s0101009/img/l.jpg'],\n",
       "  'color': '#',\n",
       "  'category': 'TOP > PRODUCT > SKINCARE',\n",
       "  'salePrice': '#',\n",
       "  'originalPrice': '#',\n",
       "  'brand': 'lunasol',\n",
       "  'volume': '#'}]"
      ]
     },
     "metadata": {},
     "output_type": "display_data"
    },
    {
     "data": {
      "text/plain": [
       "[{'name': 'WATERY CLEAR OIL CLEANSING',\n",
       "  'url': 'https://www.lunasol-net.com/kr/product/details/skincare/s0101006.html',\n",
       "  'image': ['https://www.lunasol-net.com/kr/product/parts/s0101006/img/l.jpg'],\n",
       "  'color': '#',\n",
       "  'category': 'TOP > PRODUCT > SKINCARE',\n",
       "  'salePrice': '#',\n",
       "  'originalPrice': '#',\n",
       "  'brand': 'lunasol',\n",
       "  'volume': '#'}]"
      ]
     },
     "metadata": {},
     "output_type": "display_data"
    },
    {
     "data": {
      "text/plain": [
       "[{'name': 'GLOWING DAY CREAM',\n",
       "  'url': 'https://www.lunasol-net.com/kr/product/details/skincare/s0101007.html',\n",
       "  'image': ['https://www.lunasol-net.com/kr/product/parts/s0101007/img/l.jpg'],\n",
       "  'color': '#',\n",
       "  'category': 'TOP > PRODUCT > SKINCARE',\n",
       "  'salePrice': '#',\n",
       "  'originalPrice': '#',\n",
       "  'brand': 'lunasol',\n",
       "  'volume': '#'}]"
      ]
     },
     "metadata": {},
     "output_type": "display_data"
    },
    {
     "data": {
      "text/plain": [
       "[{'name': 'WRAPPING SKIN REPAIR',\n",
       "  'url': 'https://www.lunasol-net.com/kr/product/details/skincare/s0201007.html',\n",
       "  'image': ['https://www.lunasol-net.com/kr/product/parts/s0201007/img/l.jpg'],\n",
       "  'color': '#',\n",
       "  'category': 'TOP > PRODUCT > SKINCARE',\n",
       "  'salePrice': '#',\n",
       "  'originalPrice': '#',\n",
       "  'brand': 'lunasol',\n",
       "  'volume': '#'}]"
      ]
     },
     "metadata": {},
     "output_type": "display_data"
    }
   ],
   "source": [
    "# open category, item\n",
    "result = []\n",
    "for categories in category_big:\n",
    "    list_category = categories.find_all('li')\n",
    "    for category in list_category:\n",
    "        url_category = category.a['href'] # get url of category\n",
    "        driver.get(url_home + url_category)\n",
    "        \n",
    "        html = driver.page_source\n",
    "        soup = bs(html,'lxml')\n",
    "        items = soup.find('div',{'class':'product_cat product_cat_first'})\n",
    "        items = items.find_all('a')\n",
    "        for item in items:\n",
    "            driver.get(url_home + item['href'])\n",
    "            item = getItem(driver)\n",
    "            result += item\n",
    "            \n",
    "        driver.get(url_product)\n"
   ]
  },
  {
   "cell_type": "code",
   "execution_count": 13,
   "metadata": {},
   "outputs": [],
   "source": [
    "output = json.dumps(result,ensure_ascii=False, indent='\\t')\n",
    "\n",
    "writeJSON(output, output_name = 'lunasol.json')"
   ]
  },
  {
   "cell_type": "code",
   "execution_count": null,
   "metadata": {},
   "outputs": [],
   "source": []
  }
 ],
 "metadata": {
  "kernelspec": {
   "display_name": "Python 3",
   "language": "python",
   "name": "python3"
  },
  "language_info": {
   "codemirror_mode": {
    "name": "ipython",
    "version": 3
   },
   "file_extension": ".py",
   "mimetype": "text/x-python",
   "name": "python",
   "nbconvert_exporter": "python",
   "pygments_lexer": "ipython3",
   "version": "3.7.0"
  }
 },
 "nbformat": 4,
 "nbformat_minor": 2
}
