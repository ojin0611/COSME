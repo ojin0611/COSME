{
 "cells": [
  {
   "cell_type": "code",
   "execution_count": 124,
   "metadata": {},
   "outputs": [],
   "source": [
    "from bs4 import BeautifulSoup as bs              # 데이터파싱 라이브러리\n",
    "from selenium import webdriver\n",
    "from selenium.webdriver.support.wait import WebDriverWait\n",
    "from selenium.webdriver.support import expected_conditions as EC\n",
    "from selenium.webdriver.common.by import By\n",
    "from selenium.common.exceptions import NoSuchElementException\n",
    "import json\n",
    "import platform\n",
    "import re\n",
    "import time\n",
    "import copy"
   ]
  },
  {
   "cell_type": "code",
   "execution_count": 125,
   "metadata": {},
   "outputs": [],
   "source": [
    "path = 'chromedriver.exe' if (platform.system() == 'Windows') else '/Users/jg/Desktop/develop/DataTeam/DataProcessing/product/crawling/chromedriver';\n",
    "driver = webdriver.Chrome(path)\n",
    "\n",
    "base_url = 'http://www.narscosmetics.co.kr/'"
   ]
  },
  {
   "cell_type": "code",
   "execution_count": 126,
   "metadata": {},
   "outputs": [],
   "source": [
    "def writeJSON(jsonString, output_name='data.json'):\n",
    "    with open(output_name,'w',encoding='UTF-8') as file:\n",
    "        file.write(jsonString)"
   ]
  },
  {
   "cell_type": "code",
   "execution_count": 133,
   "metadata": {},
   "outputs": [],
   "source": [
    "categorys = [\"lips\", \"cheeks\", \"face\", \"eyes\", \"multi-use\", \"cult-classics\", \"narsskin\", \"makeup-removers\", \"brushes-tools\", ]"
   ]
  },
  {
   "cell_type": "code",
   "execution_count": 134,
   "metadata": {},
   "outputs": [],
   "source": [
    "def getUrlList():\n",
    "    urlList = []\n",
    "    for category in categorys:\n",
    "        #카테고리별로 접속\n",
    "        driver.get(base_url + category)\n",
    "        last_height = driver.execute_script(\"return document.body.scrollHeight\")\n",
    "        #상품 긁기\n",
    "        while True:\n",
    "            driver.execute_script(\"window.scrollTo(0,document.body.scrollHeight);\")\n",
    "            time.sleep(1)\n",
    "            new_height = driver.execute_script(\"return document.body.scrollHeight\")\n",
    "            if new_height == last_height:\n",
    "                break\n",
    "            last_height = new_height\n",
    "        html = driver.page_source\n",
    "        soup = bs(html,'html.parser')\n",
    "        products = driver.find_elements_by_xpath(\"//div[@class='product-image']//a[@class='thumb-link']\")\n",
    "        for product in products:\n",
    "            urlList.append(product.get_attribute(\"href\"))\n",
    "    return urlList\n",
    "        \n",
    "        #다음 페이지가 있으면 다음 페이지로 이동"
   ]
  },
  {
   "cell_type": "code",
   "execution_count": 135,
   "metadata": {},
   "outputs": [],
   "source": [
    "urlList = getUrlList()"
   ]
  },
  {
   "cell_type": "code",
   "execution_count": 130,
   "metadata": {},
   "outputs": [
    {
     "name": "stdout",
     "output_type": "stream",
     "text": [
      "35\n"
     ]
    }
   ],
   "source": [
    "urlList = list(set(urlList))\n",
    "print(len(urlList))"
   ]
  },
  {
   "cell_type": "code",
   "execution_count": 131,
   "metadata": {},
   "outputs": [],
   "source": [
    "def getItemDetailByUrl(urlList):\n",
    "    \n",
    "    result_json = []\n",
    "    for idx, item in enumerate(urlList):\n",
    "        driver.get(item)\n",
    "        html = driver.page_source\n",
    "        soup = bs(html,'html.parser')\n",
    "        # dictionary 생성\n",
    "        result = {'name':'', 'url':'', 'image':'', 'salePrice':'', 'originalPrice':'', 'color':'', \n",
    "                   'category':'', 'brand':'나스','volume':''}\n",
    "        \n",
    "        result['name'] = soup.find('h1',{'class':'product-name page-title'}).get_text()\n",
    "        result['url'] = driver.current_url\n",
    "        images = []\n",
    "        \n",
    "        #Color만큼 \n",
    "        if soup.find('div',{'class':'selectricItems'}) is None:\n",
    "            #단품\n",
    "            if soup.find('div',{'id':'thumbnails'}) is None:\n",
    "                images.append(soup.find('div',{'class':'product-primary-image'}).find('img')['src'])\n",
    "                result['image'] = images\n",
    "            else:\n",
    "                images = driver.find_elements_by_xpath(\"//div[@id='thumbnails']//li//a\")\n",
    "                result['image'] = [image.get_attribute('href') for image in images]\n",
    "            result['salePrice'] = soup.find('span',{'class':'price-sales'}).get_text()\n",
    "            result['originalPrice'] = result['salePrice']\n",
    "            result['volume'] = \"#\"\n",
    "            result['color'] = \"#\"\n",
    "            display(result)\n",
    "            result_json.append(result)\n",
    "        else:\n",
    "            \n",
    "            colors = driver.find_elements_by_xpath(\"//div[@class='selectricHideSelect']//option\")\n",
    "            htmlList = [color.get_attribute('data-href') for color in colors]\n",
    "            totalColors = len(colors)\n",
    "            for html in htmlList:\n",
    "                driver.get(html)\n",
    "                html = driver.page_source\n",
    "                soup = bs(html,'html.parser')\n",
    "                result['name'] = soup.find('h1',{'class':'product-name page-title'}).get_text()\n",
    "                result['url'] = driver.current_url\n",
    "                if soup.find('div',{'id':'thumbnails'}) is None:\n",
    "                    images.append(soup.find('div',{'class':'product-primary-image'}).find('img')['src'])\n",
    "                    result['image'] = images\n",
    "                else:\n",
    "                    images = driver.find_elements_by_xpath(\"//div[@id='thumbnails']//li//a\")\n",
    "                    result['image'] = [image.get_attribute('href') for image in images]\n",
    "                result['salePrice'] = soup.find('span',{'class':'price-sales'}).get_text()\n",
    "                result['originalPrice'] = result['salePrice']\n",
    "                result['volume'] = \"#\"\n",
    "                result['color'] = soup.find('span',{'class':'colorName'}).get_text()\n",
    "                display(result)\n",
    "                result_json.append(result)\n",
    "        if idx % (len(urlList)//50) == 0:\n",
    "            print(\"%3.1f 퍼센트 진행중\" % round(idx / len(urlList) * 100))\n",
    "#             for color in colors:\n",
    "                \n",
    "#                 color.click()\n",
    "#                 time.sleep(2)\n",
    "#                 html = driver.page_source\n",
    "#                 soup = bs(html,'html.parser')\n",
    "#                 result_dict = copy.deepcopy(result)\n",
    "#                 result_dict['name'] = soup.find('h1',{'class':'product-name page-title'}).get_text()\n",
    "#                 result_dict['url'] = driver.current_url\n",
    "#                 result_dict['color'] = color.text\n",
    "                \n",
    "                \n",
    "#                 if soup.find('div',{'id':'thumbnails'}) is None:\n",
    "#                     images.append(soup.find('div',{'class':'product-primary-image'}).find('img')['src'])\n",
    "#                     result_dict['image'] = images\n",
    "#                 else:\n",
    "#                     images = driver.find_elements_by_xpath(\"//div[@id='thumbnails']//li//a\")\n",
    "#                     result_dict['image'] = [image.get_attribute('href') for image in images]\n",
    "#                 result_dict['salePrice'] = soup.find('div',{'id':'product-content'}).find('span',{'class':'price-sales'}).get_text()\n",
    "#                 result_dict['salePrice'] = result_dict['originalPrice']\n",
    "#                 result_dict['volume'] = \"#\"\n",
    "                \n",
    "#                 display(result_dict)\n",
    "#                 result_json.append(result_dict)\n",
    "        \n",
    "    return result_json"
   ]
  },
  {
   "cell_type": "code",
   "execution_count": 132,
   "metadata": {},
   "outputs": [
    {
     "data": {
      "text/plain": [
       "<selenium.webdriver.remote.webelement.WebElement (session=\"ba51fcd1a1bc41dec611cca0306e5511\", element=\"0.9803823357552255-3\")>"
      ]
     },
     "metadata": {},
     "output_type": "display_data"
    },
    {
     "data": {
      "text/plain": [
       "{'name': '파워매트 립 피그먼트 - 아메리칸 우먼',\n",
       " 'url': 'http://www.narscosmetics.co.kr/on/demandware.store/Sites-KR-Site/en_KR/Product-Variation?pid=999NAC0000053&dwvar_999NAC0000053_color=7845027720',\n",
       " 'image': ['http://en.narscosmetics.co.kr/on/demandware.static/-/Sites-itemmaster_NARS/default/dwba0ddabc/hi-res/0607845027720.jpg',\n",
       "  'http://en.narscosmetics.co.kr/on/demandware.static/-/Sites-itemmaster_NARS/default/dwe4a213e0/swatch/0607845027720.jpg'],\n",
       " 'salePrice': '₩ 37,000',\n",
       " 'originalPrice': '₩ 37,000',\n",
       " 'color': '아메리칸 우먼',\n",
       " 'category': '',\n",
       " 'brand': '나스',\n",
       " 'volume': '#'}"
      ]
     },
     "metadata": {},
     "output_type": "display_data"
    },
    {
     "data": {
      "text/plain": [
       "<selenium.webdriver.remote.webelement.WebElement (session=\"ba51fcd1a1bc41dec611cca0306e5511\", element=\"0.11696008367089394-3\")>"
      ]
     },
     "metadata": {},
     "output_type": "display_data"
    },
    {
     "data": {
      "text/plain": [
       "{'name': '파워매트 립 피그먼트 - 콜 미',\n",
       " 'url': 'http://www.narscosmetics.co.kr/on/demandware.store/Sites-KR-Site/en_KR/Product-Variation?pid=999NAC0000053&dwvar_999NAC0000053_color=7845027843',\n",
       " 'image': ['http://en.narscosmetics.co.kr/on/demandware.static/-/Sites-itemmaster_NARS/default/dwfadff468/hi-res/0607845027843.jpg',\n",
       "  'http://en.narscosmetics.co.kr/on/demandware.static/-/Sites-itemmaster_NARS/default/dw94ee6748/swatch/0607845027843.jpg'],\n",
       " 'salePrice': '₩ 37,000',\n",
       " 'originalPrice': '₩ 37,000',\n",
       " 'color': '콜 미',\n",
       " 'category': '',\n",
       " 'brand': '나스',\n",
       " 'volume': '#'}"
      ]
     },
     "metadata": {},
     "output_type": "display_data"
    },
    {
     "data": {
      "text/plain": [
       "<selenium.webdriver.remote.webelement.WebElement (session=\"ba51fcd1a1bc41dec611cca0306e5511\", element=\"0.041000347307711404-3\")>"
      ]
     },
     "metadata": {},
     "output_type": "display_data"
    },
    {
     "data": {
      "text/plain": [
       "{'name': '파워매트 립 피그먼트 - 던 잇 어게인',\n",
       " 'url': 'http://www.narscosmetics.co.kr/on/demandware.store/Sites-KR-Site/en_KR/Product-Variation?pid=999NAC0000053&dwvar_999NAC0000053_color=7845027751',\n",
       " 'image': ['http://en.narscosmetics.co.kr/on/demandware.static/-/Sites-itemmaster_NARS/default/dw7443f4cb/hi-res/0607845027751.jpg',\n",
       "  'http://en.narscosmetics.co.kr/on/demandware.static/-/Sites-itemmaster_NARS/default/dw6dcbe7cc/swatch/0607845027751.jpg'],\n",
       " 'salePrice': '₩ 37,000',\n",
       " 'originalPrice': '₩ 37,000',\n",
       " 'color': '던 잇 어게인',\n",
       " 'category': '',\n",
       " 'brand': '나스',\n",
       " 'volume': '#'}"
      ]
     },
     "metadata": {},
     "output_type": "display_data"
    },
    {
     "data": {
      "text/plain": [
       "<selenium.webdriver.remote.webelement.WebElement (session=\"ba51fcd1a1bc41dec611cca0306e5511\", element=\"0.5327119166847787-3\")>"
      ]
     },
     "metadata": {},
     "output_type": "display_data"
    },
    {
     "data": {
      "text/plain": [
       "{'name': '파워매트 립 피그먼트 - 돈 스탑',\n",
       " 'url': 'http://www.narscosmetics.co.kr/on/demandware.store/Sites-KR-Site/en_KR/Product-Variation?pid=999NAC0000053&dwvar_999NAC0000053_color=7845027713',\n",
       " 'image': ['http://en.narscosmetics.co.kr/on/demandware.static/-/Sites-itemmaster_NARS/default/dw3ae3b5de/hi-res/0607845027713.jpg',\n",
       "  'http://en.narscosmetics.co.kr/on/demandware.static/-/Sites-itemmaster_NARS/default/dwff9d37a1/swatch/0607845027713.jpg'],\n",
       " 'salePrice': '₩ 37,000',\n",
       " 'originalPrice': '₩ 37,000',\n",
       " 'color': '돈 스탑',\n",
       " 'category': '',\n",
       " 'brand': '나스',\n",
       " 'volume': '#'}"
      ]
     },
     "metadata": {},
     "output_type": "display_data"
    },
    {
     "data": {
      "text/plain": [
       "<selenium.webdriver.remote.webelement.WebElement (session=\"ba51fcd1a1bc41dec611cca0306e5511\", element=\"0.24735694932039665-3\")>"
      ]
     },
     "metadata": {},
     "output_type": "display_data"
    },
    {
     "data": {
      "text/plain": [
       "{'name': '파워매트 립 피그먼트 - 겟 잇 온',\n",
       " 'url': 'http://www.narscosmetics.co.kr/on/demandware.store/Sites-KR-Site/en_KR/Product-Variation?pid=999NAC0000053&dwvar_999NAC0000053_color=7845027645',\n",
       " 'image': ['http://en.narscosmetics.co.kr/on/demandware.static/-/Sites-itemmaster_NARS/default/dw3da2846b/hi-res/0607845027645.jpg',\n",
       "  'http://en.narscosmetics.co.kr/on/demandware.static/-/Sites-itemmaster_NARS/default/dwb72a502f/swatch/0607845027645.jpg'],\n",
       " 'salePrice': '₩ 37,000',\n",
       " 'originalPrice': '₩ 37,000',\n",
       " 'color': '겟 잇 온',\n",
       " 'category': '',\n",
       " 'brand': '나스',\n",
       " 'volume': '#'}"
      ]
     },
     "metadata": {},
     "output_type": "display_data"
    },
    {
     "data": {
      "text/plain": [
       "<selenium.webdriver.remote.webelement.WebElement (session=\"ba51fcd1a1bc41dec611cca0306e5511\", element=\"0.1902120948069661-3\")>"
      ]
     },
     "metadata": {},
     "output_type": "display_data"
    },
    {
     "data": {
      "text/plain": [
       "{'name': '파워매트 립 피그먼트 - 겟 업 스탠드 업',\n",
       " 'url': 'http://www.narscosmetics.co.kr/on/demandware.store/Sites-KR-Site/en_KR/Product-Variation?pid=999NAC0000053&dwvar_999NAC0000053_color=7845027690',\n",
       " 'image': ['http://en.narscosmetics.co.kr/on/demandware.static/-/Sites-itemmaster_NARS/default/dw74cdc23d/hi-res/0607845027690.jpg',\n",
       "  'http://en.narscosmetics.co.kr/on/demandware.static/-/Sites-itemmaster_NARS/default/dw98e80f4e/swatch/0607845027690.jpg'],\n",
       " 'salePrice': '₩ 37,000',\n",
       " 'originalPrice': '₩ 37,000',\n",
       " 'color': '겟 업 스탠드 업',\n",
       " 'category': '',\n",
       " 'brand': '나스',\n",
       " 'volume': '#'}"
      ]
     },
     "metadata": {},
     "output_type": "display_data"
    },
    {
     "data": {
      "text/plain": [
       "<selenium.webdriver.remote.webelement.WebElement (session=\"ba51fcd1a1bc41dec611cca0306e5511\", element=\"0.9056692559097757-3\")>"
      ]
     },
     "metadata": {},
     "output_type": "display_data"
    },
    {
     "data": {
      "text/plain": [
       "{'name': '파워매트 립 피그먼트 - 기브 잇 업',\n",
       " 'url': 'http://www.narscosmetics.co.kr/on/demandware.store/Sites-KR-Site/en_KR/Product-Variation?pid=999NAC0000053&dwvar_999NAC0000053_color=7845027683',\n",
       " 'image': ['http://en.narscosmetics.co.kr/on/demandware.static/-/Sites-itemmaster_NARS/default/dw50b8758e/hi-res/0607845027683.jpg',\n",
       "  'http://en.narscosmetics.co.kr/on/demandware.static/-/Sites-itemmaster_NARS/default/dw96a7311e/swatch/0607845027683.jpg'],\n",
       " 'salePrice': '₩ 37,000',\n",
       " 'originalPrice': '₩ 37,000',\n",
       " 'color': '기브 잇 업',\n",
       " 'category': '',\n",
       " 'brand': '나스',\n",
       " 'volume': '#'}"
      ]
     },
     "metadata": {},
     "output_type": "display_data"
    },
    {
     "data": {
      "text/plain": [
       "<selenium.webdriver.remote.webelement.WebElement (session=\"ba51fcd1a1bc41dec611cca0306e5511\", element=\"0.805177948961034-3\")>"
      ]
     },
     "metadata": {},
     "output_type": "display_data"
    },
    {
     "data": {
      "text/plain": [
       "{'name': '파워매트 립 피그먼트 - 저스트 푸시 플레이',\n",
       " 'url': 'http://www.narscosmetics.co.kr/on/demandware.store/Sites-KR-Site/en_KR/Product-Variation?pid=999NAC0000053&dwvar_999NAC0000053_color=7845027829',\n",
       " 'image': ['http://en.narscosmetics.co.kr/on/demandware.static/-/Sites-itemmaster_NARS/default/dwba1db14a/hi-res/0607845027829.jpg',\n",
       "  'http://en.narscosmetics.co.kr/on/demandware.static/-/Sites-itemmaster_NARS/default/dwc9a21c1f/swatch/0607845027829.jpg'],\n",
       " 'salePrice': '₩ 37,000',\n",
       " 'originalPrice': '₩ 37,000',\n",
       " 'color': '저스트 푸시 플레이',\n",
       " 'category': '',\n",
       " 'brand': '나스',\n",
       " 'volume': '#'}"
      ]
     },
     "metadata": {},
     "output_type": "display_data"
    },
    {
     "data": {
      "text/plain": [
       "<selenium.webdriver.remote.webelement.WebElement (session=\"ba51fcd1a1bc41dec611cca0306e5511\", element=\"0.07157890048222693-3\")>"
      ]
     },
     "metadata": {},
     "output_type": "display_data"
    },
    {
     "data": {
      "text/plain": [
       "{'name': '파워매트 립 피그먼트 - 저스트 왓 아이 니디드',\n",
       " 'url': 'http://www.narscosmetics.co.kr/on/demandware.store/Sites-KR-Site/en_KR/Product-Variation?pid=999NAC0000053&dwvar_999NAC0000053_color=7845027782',\n",
       " 'image': ['http://en.narscosmetics.co.kr/on/demandware.static/-/Sites-itemmaster_NARS/default/dw156c7ab3/hi-res/0607845027782.jpg',\n",
       "  'http://en.narscosmetics.co.kr/on/demandware.static/-/Sites-itemmaster_NARS/default/dwa12f576c/swatch/0607845027782.jpg'],\n",
       " 'salePrice': '₩ 37,000',\n",
       " 'originalPrice': '₩ 37,000',\n",
       " 'color': '저스트 왓 아이 니디드',\n",
       " 'category': '',\n",
       " 'brand': '나스',\n",
       " 'volume': '#'}"
      ]
     },
     "metadata": {},
     "output_type": "display_data"
    },
    {
     "data": {
      "text/plain": [
       "<selenium.webdriver.remote.webelement.WebElement (session=\"ba51fcd1a1bc41dec611cca0306e5511\", element=\"0.7476855786766732-3\")>"
      ]
     },
     "metadata": {},
     "output_type": "display_data"
    },
    {
     "data": {
      "text/plain": [
       "{'name': '파워매트 립 피그먼트 - 라이트 마이 파이어',\n",
       " 'url': 'http://www.narscosmetics.co.kr/on/demandware.store/Sites-KR-Site/en_KR/Product-Variation?pid=999NAC0000053&dwvar_999NAC0000053_color=7845027706',\n",
       " 'image': ['http://en.narscosmetics.co.kr/on/demandware.static/-/Sites-itemmaster_NARS/default/dw25b9397b/hi-res/0607845027706.jpg',\n",
       "  'http://en.narscosmetics.co.kr/on/demandware.static/-/Sites-itemmaster_NARS/default/dw7b5a2831/swatch/0607845027706.jpg'],\n",
       " 'salePrice': '₩ 37,000',\n",
       " 'originalPrice': '₩ 37,000',\n",
       " 'color': '라이트 마이 파이어',\n",
       " 'category': '',\n",
       " 'brand': '나스',\n",
       " 'volume': '#'}"
      ]
     },
     "metadata": {},
     "output_type": "display_data"
    },
    {
     "data": {
      "text/plain": [
       "<selenium.webdriver.remote.webelement.WebElement (session=\"ba51fcd1a1bc41dec611cca0306e5511\", element=\"0.947744281108676-3\")>"
      ]
     },
     "metadata": {},
     "output_type": "display_data"
    },
    {
     "data": {
      "text/plain": [
       "{'name': '파워매트 립 피그먼트 - 런던 콜링',\n",
       " 'url': 'http://www.narscosmetics.co.kr/on/demandware.store/Sites-KR-Site/en_KR/Product-Variation?pid=999NAC0000053&dwvar_999NAC0000053_color=7845027614',\n",
       " 'image': ['http://en.narscosmetics.co.kr/on/demandware.static/-/Sites-itemmaster_NARS/default/dw5e603693/hi-res/0607845027614.jpg',\n",
       "  'http://en.narscosmetics.co.kr/on/demandware.static/-/Sites-itemmaster_NARS/default/dw8d7d2cf6/swatch/0607845027614.jpg'],\n",
       " 'salePrice': '₩ 37,000',\n",
       " 'originalPrice': '₩ 37,000',\n",
       " 'color': '런던 콜링',\n",
       " 'category': '',\n",
       " 'brand': '나스',\n",
       " 'volume': '#'}"
      ]
     },
     "metadata": {},
     "output_type": "display_data"
    },
    {
     "data": {
      "text/plain": [
       "<selenium.webdriver.remote.webelement.WebElement (session=\"ba51fcd1a1bc41dec611cca0306e5511\", element=\"0.35241576545244047-3\")>"
      ]
     },
     "metadata": {},
     "output_type": "display_data"
    },
    {
     "data": {
      "text/plain": [
       "{'name': '파워매트 립 피그먼트 - 로우 라이더',\n",
       " 'url': 'http://www.narscosmetics.co.kr/on/demandware.store/Sites-KR-Site/en_KR/Product-Variation?pid=999NAC0000053&dwvar_999NAC0000053_color=7845027676',\n",
       " 'image': ['http://en.narscosmetics.co.kr/on/demandware.static/-/Sites-itemmaster_NARS/default/dw4880ccf2/hi-res/0607845027676.jpg',\n",
       "  'http://en.narscosmetics.co.kr/on/demandware.static/-/Sites-itemmaster_NARS/default/dw3600cbb9/swatch/0607845027676.jpg'],\n",
       " 'salePrice': '₩ 37,000',\n",
       " 'originalPrice': '₩ 37,000',\n",
       " 'color': '로우 라이더',\n",
       " 'category': '',\n",
       " 'brand': '나스',\n",
       " 'volume': '#'}"
      ]
     },
     "metadata": {},
     "output_type": "display_data"
    },
    {
     "data": {
      "text/plain": [
       "<selenium.webdriver.remote.webelement.WebElement (session=\"ba51fcd1a1bc41dec611cca0306e5511\", element=\"0.11925815070651358-3\")>"
      ]
     },
     "metadata": {},
     "output_type": "display_data"
    },
    {
     "data": {
      "text/plain": [
       "{'name': '파워매트 립 피그먼트 - 페인트 잇 블랙',\n",
       " 'url': 'http://www.narscosmetics.co.kr/on/demandware.store/Sites-KR-Site/en_KR/Product-Variation?pid=999NAC0000053&dwvar_999NAC0000053_color=7845027768',\n",
       " 'image': ['http://en.narscosmetics.co.kr/on/demandware.static/-/Sites-itemmaster_NARS/default/dwc1558bc9/hi-res/0607845027768.jpg',\n",
       "  'http://en.narscosmetics.co.kr/on/demandware.static/-/Sites-itemmaster_NARS/default/dw2f7f6e46/swatch/0607845027768.jpg'],\n",
       " 'salePrice': '₩ 37,000',\n",
       " 'originalPrice': '₩ 37,000',\n",
       " 'color': '페인트 잇 블랙',\n",
       " 'category': '',\n",
       " 'brand': '나스',\n",
       " 'volume': '#'}"
      ]
     },
     "metadata": {},
     "output_type": "display_data"
    },
    {
     "data": {
      "text/plain": [
       "<selenium.webdriver.remote.webelement.WebElement (session=\"ba51fcd1a1bc41dec611cca0306e5511\", element=\"0.6178690675046874-3\")>"
      ]
     },
     "metadata": {},
     "output_type": "display_data"
    },
    {
     "data": {
      "text/plain": [
       "{'name': '파워매트 립 피그먼트 - 락 위드 유',\n",
       " 'url': 'http://www.narscosmetics.co.kr/on/demandware.store/Sites-KR-Site/en_KR/Product-Variation?pid=999NAC0000053&dwvar_999NAC0000053_color=7845027744',\n",
       " 'image': ['http://en.narscosmetics.co.kr/on/demandware.static/-/Sites-itemmaster_NARS/default/dw1b1e5007/hi-res/0607845027744.jpg',\n",
       "  'http://en.narscosmetics.co.kr/on/demandware.static/-/Sites-itemmaster_NARS/default/dw92eae6cb/swatch/0607845027744.jpg'],\n",
       " 'salePrice': '₩ 37,000',\n",
       " 'originalPrice': '₩ 37,000',\n",
       " 'color': '락 위드 유',\n",
       " 'category': '',\n",
       " 'brand': '나스',\n",
       " 'volume': '#'}"
      ]
     },
     "metadata": {},
     "output_type": "display_data"
    },
    {
     "data": {
      "text/plain": [
       "<selenium.webdriver.remote.webelement.WebElement (session=\"ba51fcd1a1bc41dec611cca0306e5511\", element=\"0.6747266806994545-3\")>"
      ]
     },
     "metadata": {},
     "output_type": "display_data"
    },
    {
     "data": {
      "text/plain": [
       "{'name': '파워매트 립 피그먼트 - 세이브 더 퀸',\n",
       " 'url': 'http://www.narscosmetics.co.kr/on/demandware.store/Sites-KR-Site/en_KR/Product-Variation?pid=999NAC0000053&dwvar_999NAC0000053_color=7845027669',\n",
       " 'image': ['http://en.narscosmetics.co.kr/on/demandware.static/-/Sites-itemmaster_NARS/default/dwf64df86a/hi-res/0607845027669.jpg',\n",
       "  'http://en.narscosmetics.co.kr/on/demandware.static/-/Sites-itemmaster_NARS/default/dw41dac3a2/swatch/0607845027669.jpg'],\n",
       " 'salePrice': '₩ 37,000',\n",
       " 'originalPrice': '₩ 37,000',\n",
       " 'color': '세이브 더 퀸',\n",
       " 'category': '',\n",
       " 'brand': '나스',\n",
       " 'volume': '#'}"
      ]
     },
     "metadata": {},
     "output_type": "display_data"
    },
    {
     "data": {
      "text/plain": [
       "<selenium.webdriver.remote.webelement.WebElement (session=\"ba51fcd1a1bc41dec611cca0306e5511\", element=\"0.3773038892246725-3\")>"
      ]
     },
     "metadata": {},
     "output_type": "display_data"
    },
    {
     "data": {
      "text/plain": [
       "{'name': '파워매트 립 피그먼트 - 슬로우 라이드',\n",
       " 'url': 'http://www.narscosmetics.co.kr/on/demandware.store/Sites-KR-Site/en_KR/Product-Variation?pid=999NAC0000053&dwvar_999NAC0000053_color=7845027607',\n",
       " 'image': ['http://en.narscosmetics.co.kr/on/demandware.static/-/Sites-itemmaster_NARS/default/dw80df3d6e/hi-res/0607845027607.jpg',\n",
       "  'http://en.narscosmetics.co.kr/on/demandware.static/-/Sites-itemmaster_NARS/default/dw6e83b68e/swatch/0607845027607.jpg'],\n",
       " 'salePrice': '₩ 37,000',\n",
       " 'originalPrice': '₩ 37,000',\n",
       " 'color': '슬로우 라이드',\n",
       " 'category': '',\n",
       " 'brand': '나스',\n",
       " 'volume': '#'}"
      ]
     },
     "metadata": {},
     "output_type": "display_data"
    },
    {
     "data": {
      "text/plain": [
       "<selenium.webdriver.remote.webelement.WebElement (session=\"ba51fcd1a1bc41dec611cca0306e5511\", element=\"0.2653561681021386-3\")>"
      ]
     },
     "metadata": {},
     "output_type": "display_data"
    },
    {
     "data": {
      "text/plain": [
       "{'name': '파워매트 립 피그먼트',\n",
       " 'url': 'http://www.narscosmetics.co.kr/on/demandware.store/Sites-KR-Site/en_KR/Product-Variation?pid=999NAC0000053&dwvar_999NAC0000053_color=',\n",
       " 'image': ['http://en.narscosmetics.co.kr/on/demandware.static/-/Sites-itemmaster_NARS/default/dwae4d19bb/hi-res/0607845027805.jpg',\n",
       "  'http://en.narscosmetics.co.kr/on/demandware.static/-/Sites-itemmaster_NARS/default/dwabc25cf8/swatch/0607845027805.jpg'],\n",
       " 'salePrice': '₩ 37,000',\n",
       " 'originalPrice': '₩ 37,000',\n",
       " 'color': '아메리칸 우먼',\n",
       " 'category': '',\n",
       " 'brand': '나스',\n",
       " 'volume': '#'}"
      ]
     },
     "metadata": {},
     "output_type": "display_data"
    },
    {
     "data": {
      "text/plain": [
       "<selenium.webdriver.remote.webelement.WebElement (session=\"ba51fcd1a1bc41dec611cca0306e5511\", element=\"0.8482449376924728-3\")>"
      ]
     },
     "metadata": {},
     "output_type": "display_data"
    },
    {
     "data": {
      "text/plain": [
       "{'name': '파워매트 립 피그먼트 - 스핀 미',\n",
       " 'url': 'http://www.narscosmetics.co.kr/on/demandware.store/Sites-KR-Site/en_KR/Product-Variation?pid=999NAC0000053&dwvar_999NAC0000053_color=7845027874',\n",
       " 'image': ['http://en.narscosmetics.co.kr/on/demandware.static/-/Sites-itemmaster_NARS/default/dw30876d83/hi-res/0607845027874.jpg',\n",
       "  'http://en.narscosmetics.co.kr/on/demandware.static/-/Sites-itemmaster_NARS/default/dw83a1a5e8/swatch/0607845027874.jpg'],\n",
       " 'salePrice': '₩ 37,000',\n",
       " 'originalPrice': '₩ 37,000',\n",
       " 'color': '스핀 미',\n",
       " 'category': '',\n",
       " 'brand': '나스',\n",
       " 'volume': '#'}"
      ]
     },
     "metadata": {},
     "output_type": "display_data"
    },
    {
     "data": {
      "text/plain": [
       "<selenium.webdriver.remote.webelement.WebElement (session=\"ba51fcd1a1bc41dec611cca0306e5511\", element=\"0.7406585762068449-3\")>"
      ]
     },
     "metadata": {},
     "output_type": "display_data"
    },
    {
     "data": {
      "text/plain": [
       "{'name': '파워매트 립 피그먼트 - 스타우먼',\n",
       " 'url': 'http://www.narscosmetics.co.kr/on/demandware.store/Sites-KR-Site/en_KR/Product-Variation?pid=999NAC0000053&dwvar_999NAC0000053_color=7845027737',\n",
       " 'image': ['http://en.narscosmetics.co.kr/on/demandware.static/-/Sites-itemmaster_NARS/default/dw981d361b/hi-res/0607845027737.jpg',\n",
       "  'http://en.narscosmetics.co.kr/on/demandware.static/-/Sites-itemmaster_NARS/default/dw04cfde5f/swatch/0607845027737.jpg'],\n",
       " 'salePrice': '₩ 37,000',\n",
       " 'originalPrice': '₩ 37,000',\n",
       " 'color': '스타우먼',\n",
       " 'category': '',\n",
       " 'brand': '나스',\n",
       " 'volume': '#'}"
      ]
     },
     "metadata": {},
     "output_type": "display_data"
    },
    {
     "data": {
      "text/plain": [
       "<selenium.webdriver.remote.webelement.WebElement (session=\"ba51fcd1a1bc41dec611cca0306e5511\", element=\"0.31465361227975874-3\")>"
      ]
     },
     "metadata": {},
     "output_type": "display_data"
    },
    {
     "data": {
      "text/plain": [
       "{'name': '파워매트 립 피그먼트 - 언더 마이 떰',\n",
       " 'url': 'http://www.narscosmetics.co.kr/on/demandware.store/Sites-KR-Site/en_KR/Product-Variation?pid=999NAC0000053&dwvar_999NAC0000053_color=7845027638',\n",
       " 'image': ['http://en.narscosmetics.co.kr/on/demandware.static/-/Sites-itemmaster_NARS/default/dw020f2631/hi-res/0607845027638.jpg',\n",
       "  'http://en.narscosmetics.co.kr/on/demandware.static/-/Sites-itemmaster_NARS/default/dwebfbf75c/swatch/0607845027638.jpg'],\n",
       " 'salePrice': '₩ 37,000',\n",
       " 'originalPrice': '₩ 37,000',\n",
       " 'color': '언더 마이 떰',\n",
       " 'category': '',\n",
       " 'brand': '나스',\n",
       " 'volume': '#'}"
      ]
     },
     "metadata": {},
     "output_type": "display_data"
    },
    {
     "data": {
      "text/plain": [
       "<selenium.webdriver.remote.webelement.WebElement (session=\"ba51fcd1a1bc41dec611cca0306e5511\", element=\"0.024107200043063548-3\")>"
      ]
     },
     "metadata": {},
     "output_type": "display_data"
    },
    {
     "data": {
      "text/plain": [
       "{'name': '파워매트 립 피그먼트 - 베인',\n",
       " 'url': 'http://www.narscosmetics.co.kr/on/demandware.store/Sites-KR-Site/en_KR/Product-Variation?pid=999NAC0000053&dwvar_999NAC0000053_color=7845027867',\n",
       " 'image': ['http://en.narscosmetics.co.kr/on/demandware.static/-/Sites-itemmaster_NARS/default/dw30204c8b/hi-res/0607845027867.jpg',\n",
       "  'http://en.narscosmetics.co.kr/on/demandware.static/-/Sites-itemmaster_NARS/default/dw09864df8/swatch/0607845027867.jpg'],\n",
       " 'salePrice': '₩ 37,000',\n",
       " 'originalPrice': '₩ 37,000',\n",
       " 'color': '베인',\n",
       " 'category': '',\n",
       " 'brand': '나스',\n",
       " 'volume': '#'}"
      ]
     },
     "metadata": {},
     "output_type": "display_data"
    },
    {
     "data": {
      "text/plain": [
       "<selenium.webdriver.remote.webelement.WebElement (session=\"ba51fcd1a1bc41dec611cca0306e5511\", element=\"0.20357359533742403-3\")>"
      ]
     },
     "metadata": {},
     "output_type": "display_data"
    },
    {
     "data": {
      "text/plain": [
       "{'name': '파워매트 립 피그먼트 - 워크 디스 웨이',\n",
       " 'url': 'http://www.narscosmetics.co.kr/on/demandware.store/Sites-KR-Site/en_KR/Product-Variation?pid=999NAC0000053&dwvar_999NAC0000053_color=7845027621',\n",
       " 'image': ['http://en.narscosmetics.co.kr/on/demandware.static/-/Sites-itemmaster_NARS/default/dw89d8c4b2/hi-res/0607845027621.jpg',\n",
       "  'http://en.narscosmetics.co.kr/on/demandware.static/-/Sites-itemmaster_NARS/default/dw4782827f/swatch/0607845027621.jpg'],\n",
       " 'salePrice': '₩ 37,000',\n",
       " 'originalPrice': '₩ 37,000',\n",
       " 'color': '워크 디스 웨이',\n",
       " 'category': '',\n",
       " 'brand': '나스',\n",
       " 'volume': '#'}"
      ]
     },
     "metadata": {},
     "output_type": "display_data"
    },
    {
     "data": {
      "text/plain": [
       "<selenium.webdriver.remote.webelement.WebElement (session=\"ba51fcd1a1bc41dec611cca0306e5511\", element=\"0.48383894812738815-3\")>"
      ]
     },
     "metadata": {},
     "output_type": "display_data"
    },
    {
     "data": {
      "text/plain": [
       "{'name': '파워매트 립 피그먼트 - 웜 레더렛',\n",
       " 'url': 'http://www.narscosmetics.co.kr/on/demandware.store/Sites-KR-Site/en_KR/Product-Variation?pid=999NAC0000053&dwvar_999NAC0000053_color=7845027652',\n",
       " 'image': ['http://en.narscosmetics.co.kr/on/demandware.static/-/Sites-itemmaster_NARS/default/dwe854caaa/hi-res/0607845027652.jpg',\n",
       "  'http://en.narscosmetics.co.kr/on/demandware.static/-/Sites-itemmaster_NARS/default/dw8e41665b/swatch/0607845027652.jpg'],\n",
       " 'salePrice': '₩ 37,000',\n",
       " 'originalPrice': '₩ 37,000',\n",
       " 'color': '웜 레더렛',\n",
       " 'category': '',\n",
       " 'brand': '나스',\n",
       " 'volume': '#'}"
      ]
     },
     "metadata": {},
     "output_type": "display_data"
    },
    {
     "data": {
      "text/plain": [
       "<selenium.webdriver.remote.webelement.WebElement (session=\"ba51fcd1a1bc41dec611cca0306e5511\", element=\"0.5764162042087178-3\")>"
      ]
     },
     "metadata": {},
     "output_type": "display_data"
    },
    {
     "data": {
      "text/plain": [
       "{'name': '파워매트 립 피그먼트 - 와일드 나이트',\n",
       " 'url': 'http://www.narscosmetics.co.kr/on/demandware.store/Sites-KR-Site/en_KR/Product-Variation?pid=999NAC0000053&dwvar_999NAC0000053_color=7845027775',\n",
       " 'image': ['http://en.narscosmetics.co.kr/on/demandware.static/-/Sites-itemmaster_NARS/default/dw4f7d0c46/hi-res/0607845027775.jpg',\n",
       "  'http://en.narscosmetics.co.kr/on/demandware.static/-/Sites-itemmaster_NARS/default/dw7c26c272/swatch/0607845027775.jpg'],\n",
       " 'salePrice': '₩ 37,000',\n",
       " 'originalPrice': '₩ 37,000',\n",
       " 'color': '와일드 나이트',\n",
       " 'category': '',\n",
       " 'brand': '나스',\n",
       " 'volume': '#'}"
      ]
     },
     "metadata": {},
     "output_type": "display_data"
    },
    {
     "data": {
      "text/plain": [
       "<selenium.webdriver.remote.webelement.WebElement (session=\"ba51fcd1a1bc41dec611cca0306e5511\", element=\"0.8012589120626374-3\")>"
      ]
     },
     "metadata": {},
     "output_type": "display_data"
    },
    {
     "data": {
      "text/plain": [
       "{'name': '파워매트 립 피그먼트 - 유아 노 굿',\n",
       " 'url': 'http://www.narscosmetics.co.kr/on/demandware.store/Sites-KR-Site/en_KR/Product-Variation?pid=999NAC0000053&dwvar_999NAC0000053_color=7845027850',\n",
       " 'image': ['http://en.narscosmetics.co.kr/on/demandware.static/-/Sites-itemmaster_NARS/default/dw600d7e08/hi-res/0607845027850.jpg',\n",
       "  'http://en.narscosmetics.co.kr/on/demandware.static/-/Sites-itemmaster_NARS/default/dw29f40087/swatch/0607845027850.jpg'],\n",
       " 'salePrice': '₩ 37,000',\n",
       " 'originalPrice': '₩ 37,000',\n",
       " 'color': '유아 노 굿',\n",
       " 'category': '',\n",
       " 'brand': '나스',\n",
       " 'volume': '#'}"
      ]
     },
     "metadata": {},
     "output_type": "display_data"
    },
    {
     "data": {
      "text/plain": [
       "<selenium.webdriver.remote.webelement.WebElement (session=\"ba51fcd1a1bc41dec611cca0306e5511\", element=\"0.6736924893970295-3\")>"
      ]
     },
     "metadata": {},
     "output_type": "display_data"
    },
    {
     "data": {
      "text/plain": [
       "{'name': '파워매트 립 피그먼트 - 언페이머스 레드',\n",
       " 'url': 'http://www.narscosmetics.co.kr/on/demandware.store/Sites-KR-Site/en_KR/Product-Variation?pid=999NAC0000053&dwvar_999NAC0000053_color=Unfamous%20Red',\n",
       " 'image': ['http://en.narscosmetics.co.kr/on/demandware.static/-/Sites-itemmaster_NARS/default/dw8a66cef0/hi-res/607845027362.jpg',\n",
       "  'http://en.narscosmetics.co.kr/on/demandware.static/-/Sites-itemmaster_NARS/default/dw2cc02a27/hi-res/607845027362_v2.jpg'],\n",
       " 'salePrice': '₩ 37,000',\n",
       " 'originalPrice': '₩ 37,000',\n",
       " 'color': '언페이머스 레드',\n",
       " 'category': '',\n",
       " 'brand': '나스',\n",
       " 'volume': '#'}"
      ]
     },
     "metadata": {},
     "output_type": "display_data"
    },
    {
     "data": {
      "text/plain": [
       "<selenium.webdriver.remote.webelement.WebElement (session=\"ba51fcd1a1bc41dec611cca0306e5511\", element=\"0.7391540437795798-3\")>"
      ]
     },
     "metadata": {},
     "output_type": "display_data"
    },
    {
     "data": {
      "text/plain": [
       "{'name': '파워매트 립 피그먼트 - 익스플리시트 레드',\n",
       " 'url': 'http://www.narscosmetics.co.kr/on/demandware.store/Sites-KR-Site/en_KR/Product-Variation?pid=999NAC0000053&dwvar_999NAC0000053_color=Explicit%20Red',\n",
       " 'image': ['http://en.narscosmetics.co.kr/on/demandware.static/-/Sites-itemmaster_NARS/default/dwb9faebe2/hi-res/607845027379.jpg',\n",
       "  'http://en.narscosmetics.co.kr/on/demandware.static/-/Sites-itemmaster_NARS/default/dwc69bda15/hi-res/607845027379_v2.jpg'],\n",
       " 'salePrice': '₩ 37,000',\n",
       " 'originalPrice': '₩ 37,000',\n",
       " 'color': '익스플리시트 레드',\n",
       " 'category': '',\n",
       " 'brand': '나스',\n",
       " 'volume': '#'}"
      ]
     },
     "metadata": {},
     "output_type": "display_data"
    },
    {
     "data": {
      "text/plain": [
       "<selenium.webdriver.remote.webelement.WebElement (session=\"ba51fcd1a1bc41dec611cca0306e5511\", element=\"0.951721836032958-3\")>"
      ]
     },
     "metadata": {},
     "output_type": "display_data"
    },
    {
     "data": {
      "text/plain": [
       "{'name': '립커버 - 앙브라스 므와',\n",
       " 'url': 'http://www.narscosmetics.co.kr/on/demandware.store/Sites-KR-Site/en_KR/Product-Variation?pid=999NAC0000036&dwvar_999NAC0000036_color=7845056904',\n",
       " 'image': ['http://en.narscosmetics.co.kr/on/demandware.static/-/Sites-itemmaster_NARS/default/dwb8921291/hi-res/0607845056904.jpg',\n",
       "  'http://en.narscosmetics.co.kr/on/demandware.static/-/Sites-itemmaster_NARS/default/dw57c389cf/swatch/0607845056904.jpg'],\n",
       " 'salePrice': '₩ 38,000',\n",
       " 'originalPrice': '₩ 38,000',\n",
       " 'color': '앙브라스 므와',\n",
       " 'category': '',\n",
       " 'brand': '나스',\n",
       " 'volume': '#'}"
      ]
     },
     "metadata": {},
     "output_type": "display_data"
    },
    {
     "data": {
      "text/plain": [
       "<selenium.webdriver.remote.webelement.WebElement (session=\"ba51fcd1a1bc41dec611cca0306e5511\", element=\"0.34386558631185404-3\")>"
      ]
     },
     "metadata": {},
     "output_type": "display_data"
    },
    {
     "data": {
      "text/plain": [
       "{'name': '립커버',\n",
       " 'url': 'http://www.narscosmetics.co.kr/on/demandware.store/Sites-KR-Site/en_KR/Product-Variation?pid=999NAC0000036&dwvar_999NAC0000036_color=',\n",
       " 'image': ['http://en.narscosmetics.co.kr/on/demandware.static/-/Sites-itemmaster_NARS/default/dwb8921291/hi-res/0607845056904.jpg',\n",
       "  'http://en.narscosmetics.co.kr/on/demandware.static/-/Sites-itemmaster_NARS/default/dw57c389cf/swatch/0607845056904.jpg'],\n",
       " 'salePrice': '₩ 38,000',\n",
       " 'originalPrice': '₩ 38,000',\n",
       " 'color': '앙브라스 므와',\n",
       " 'category': '',\n",
       " 'brand': '나스',\n",
       " 'volume': '#'}"
      ]
     },
     "metadata": {},
     "output_type": "display_data"
    },
    {
     "data": {
      "text/plain": [
       "<selenium.webdriver.remote.webelement.WebElement (session=\"ba51fcd1a1bc41dec611cca0306e5511\", element=\"0.9944364002164083-3\")>"
      ]
     },
     "metadata": {},
     "output_type": "display_data"
    },
    {
     "data": {
      "text/plain": [
       "{'name': '립커버 - 썸머 파이어',\n",
       " 'url': 'http://www.narscosmetics.co.kr/on/demandware.store/Sites-KR-Site/en_KR/Product-Variation?pid=999NAC0000036&dwvar_999NAC0000036_color=7845056928',\n",
       " 'image': ['http://en.narscosmetics.co.kr/on/demandware.static/-/Sites-itemmaster_NARS/default/dw1c945d44/hi-res/0607845056928.jpg',\n",
       "  'http://en.narscosmetics.co.kr/on/demandware.static/-/Sites-itemmaster_NARS/default/dw029d0acf/swatch/0607845056928.jpg'],\n",
       " 'salePrice': '₩ 38,000',\n",
       " 'originalPrice': '₩ 38,000',\n",
       " 'color': '썸머 파이어',\n",
       " 'category': '',\n",
       " 'brand': '나스',\n",
       " 'volume': '#'}"
      ]
     },
     "metadata": {},
     "output_type": "display_data"
    },
    {
     "data": {
      "text/plain": [
       "<selenium.webdriver.remote.webelement.WebElement (session=\"ba51fcd1a1bc41dec611cca0306e5511\", element=\"0.22422881887803237-3\")>"
      ]
     },
     "metadata": {},
     "output_type": "display_data"
    },
    {
     "data": {
      "text/plain": [
       "{'name': '립커버 - 언더 어레스트',\n",
       " 'url': 'http://www.narscosmetics.co.kr/on/demandware.store/Sites-KR-Site/en_KR/Product-Variation?pid=999NAC0000036&dwvar_999NAC0000036_color=7845056911',\n",
       " 'image': ['http://en.narscosmetics.co.kr/on/demandware.static/-/Sites-itemmaster_NARS/default/dwdda4fbe1/hi-res/0607845056911.jpg',\n",
       "  'http://en.narscosmetics.co.kr/on/demandware.static/-/Sites-itemmaster_NARS/default/dw6ab04f4d/swatch/0607845056911.jpg'],\n",
       " 'salePrice': '₩ 38,000',\n",
       " 'originalPrice': '₩ 38,000',\n",
       " 'color': '언더 어레스트',\n",
       " 'category': '',\n",
       " 'brand': '나스',\n",
       " 'volume': '#'}"
      ]
     },
     "metadata": {},
     "output_type": "display_data"
    },
    {
     "data": {
      "text/plain": [
       "<selenium.webdriver.remote.webelement.WebElement (session=\"ba51fcd1a1bc41dec611cca0306e5511\", element=\"0.5925098366764927-3\")>"
      ]
     },
     "metadata": {},
     "output_type": "display_data"
    },
    {
     "data": {
      "text/plain": [
       "{'name': '립커버',\n",
       " 'url': 'http://www.narscosmetics.co.kr/on/demandware.store/Sites-KR-Site/en_KR/Product-Variation?pid=999NAC0000036&dwvar_999NAC0000036_color=',\n",
       " 'image': ['http://en.narscosmetics.co.kr/on/demandware.static/-/Sites-itemmaster_NARS/default/dwb8921291/hi-res/0607845056904.jpg',\n",
       "  'http://en.narscosmetics.co.kr/on/demandware.static/-/Sites-itemmaster_NARS/default/dw57c389cf/swatch/0607845056904.jpg'],\n",
       " 'salePrice': '₩ 38,000',\n",
       " 'originalPrice': '₩ 38,000',\n",
       " 'color': '앙브라스 므와',\n",
       " 'category': '',\n",
       " 'brand': '나스',\n",
       " 'volume': '#'}"
      ]
     },
     "metadata": {},
     "output_type": "display_data"
    },
    {
     "data": {
      "text/plain": [
       "<selenium.webdriver.remote.webelement.WebElement (session=\"ba51fcd1a1bc41dec611cca0306e5511\", element=\"0.23886471235335738-3\")>"
      ]
     },
     "metadata": {},
     "output_type": "display_data"
    },
    {
     "data": {
      "text/plain": [
       "{'name': '립커버 - 헬 게이트',\n",
       " 'url': 'http://www.narscosmetics.co.kr/on/demandware.store/Sites-KR-Site/en_KR/Product-Variation?pid=999NAC0000036&dwvar_999NAC0000036_color=7845056935',\n",
       " 'image': ['http://en.narscosmetics.co.kr/on/demandware.static/-/Sites-itemmaster_NARS/default/dwcc7c1ff1/hi-res/0607845056935.jpg',\n",
       "  'http://en.narscosmetics.co.kr/on/demandware.static/-/Sites-itemmaster_NARS/default/dw74f4ef86/swatch/0607845056935.jpg'],\n",
       " 'salePrice': '₩ 38,000',\n",
       " 'originalPrice': '₩ 38,000',\n",
       " 'color': '헬 게이트',\n",
       " 'category': '',\n",
       " 'brand': '나스',\n",
       " 'volume': '#'}"
      ]
     },
     "metadata": {},
     "output_type": "display_data"
    },
    {
     "data": {
      "text/plain": [
       "<selenium.webdriver.remote.webelement.WebElement (session=\"ba51fcd1a1bc41dec611cca0306e5511\", element=\"0.6277180554819455-3\")>"
      ]
     },
     "metadata": {},
     "output_type": "display_data"
    },
    {
     "data": {
      "text/plain": [
       "{'name': '립커버 - 썸머 파이어',\n",
       " 'url': 'http://www.narscosmetics.co.kr/on/demandware.store/Sites-KR-Site/en_KR/Product-Variation?pid=999NAC0000036&dwvar_999NAC0000036_color=7845056928',\n",
       " 'image': ['http://en.narscosmetics.co.kr/on/demandware.static/-/Sites-itemmaster_NARS/default/dw1c945d44/hi-res/0607845056928.jpg',\n",
       "  'http://en.narscosmetics.co.kr/on/demandware.static/-/Sites-itemmaster_NARS/default/dw029d0acf/swatch/0607845056928.jpg'],\n",
       " 'salePrice': '₩ 38,000',\n",
       " 'originalPrice': '₩ 38,000',\n",
       " 'color': '썸머 파이어',\n",
       " 'category': '',\n",
       " 'brand': '나스',\n",
       " 'volume': '#'}"
      ]
     },
     "metadata": {},
     "output_type": "display_data"
    },
    {
     "data": {
      "text/plain": [
       "<selenium.webdriver.remote.webelement.WebElement (session=\"ba51fcd1a1bc41dec611cca0306e5511\", element=\"0.5915010551507947-3\")>"
      ]
     },
     "metadata": {},
     "output_type": "display_data"
    },
    {
     "data": {
      "text/plain": [
       "{'name': '립커버 - 언더 어레스트',\n",
       " 'url': 'http://www.narscosmetics.co.kr/on/demandware.store/Sites-KR-Site/en_KR/Product-Variation?pid=999NAC0000036&dwvar_999NAC0000036_color=7845056911',\n",
       " 'image': ['http://en.narscosmetics.co.kr/on/demandware.static/-/Sites-itemmaster_NARS/default/dwdda4fbe1/hi-res/0607845056911.jpg',\n",
       "  'http://en.narscosmetics.co.kr/on/demandware.static/-/Sites-itemmaster_NARS/default/dw6ab04f4d/swatch/0607845056911.jpg'],\n",
       " 'salePrice': '₩ 38,000',\n",
       " 'originalPrice': '₩ 38,000',\n",
       " 'color': '언더 어레스트',\n",
       " 'category': '',\n",
       " 'brand': '나스',\n",
       " 'volume': '#'}"
      ]
     },
     "metadata": {},
     "output_type": "display_data"
    },
    {
     "data": {
      "text/plain": [
       "{'name': '세븐 데들리 신스 어데이셔스 립스틱 팔레트',\n",
       " 'url': 'http://www.narscosmetics.co.kr/7-deadly-sins-audacious-lipstick-palette/0607845084723.html',\n",
       " 'image': ['http://en.narscosmetics.co.kr/on/demandware.static/-/Sites-itemmaster_NARS/default/dw1e78ce95/hi-res/0607845084723.jpg',\n",
       "  'http://en.narscosmetics.co.kr/on/demandware.static/-/Sites-itemmaster_NARS/default/dw97ca64df/alt1/0607845084723_2.jpg',\n",
       "  'http://en.narscosmetics.co.kr/on/demandware.static/-/Sites-itemmaster_NARS/default/dw9cddeeed/alt1/7_Deadly_Sins_OnModel_Alt_Images/audacious_lip_palette_stylized_V7_QC_1000x1000.jpg',\n",
       "  'http://en.narscosmetics.co.kr/on/demandware.static/-/Sites-itemmaster_NARS/default/dw58d4c807/alt1/7_Deadly_Sins_OnModel_Alt_Images/7%20Deadly%20Sins_OnModel_1000x1000_Disobedience.jpg',\n",
       "  'http://en.narscosmetics.co.kr/on/demandware.static/-/Sites-itemmaster_NARS/default/dw50665a18/alt1/7_Deadly_Sins_OnModel_Alt_Images/7%20Deadly%20Sins_OnModel_1000x1000_Foolishness.jpg',\n",
       "  'http://en.narscosmetics.co.kr/on/demandware.static/-/Sites-itemmaster_NARS/default/dw8d42a41e/alt1/7_Deadly_Sins_OnModel_Alt_Images/7%20Deadly%20Sins_OnModel_1000x1000_Idolatry.jpg',\n",
       "  'http://en.narscosmetics.co.kr/on/demandware.static/-/Sites-itemmaster_NARS/default/dw0b11eb60/alt1/7_Deadly_Sins_OnModel_Alt_Images/7%20Deadly%20Sins_OnModel_1000x1000_Greed.jpg',\n",
       "  'http://en.narscosmetics.co.kr/on/demandware.static/-/Sites-itemmaster_NARS/default/dw62eedb04/alt1/7_Deadly_Sins_OnModel_Alt_Images/7%20Deadly%20Sins_OnModel_1000x1000_Pride.jpg',\n",
       "  'http://en.narscosmetics.co.kr/on/demandware.static/-/Sites-itemmaster_NARS/default/dw33da2bd9/alt1/7_Deadly_Sins_OnModel_Alt_Images/7%20Deadly%20Sins_OnModel_1000x1000_Sloth.jpg',\n",
       "  'http://en.narscosmetics.co.kr/on/demandware.static/-/Sites-itemmaster_NARS/default/dwb484d20e/alt1/7_Deadly_Sins_OnModel_Alt_Images/7%20Deadly%20Sins_OnModel_1000x1000_Wrath.jpg',\n",
       "  'http://en.narscosmetics.co.kr/on/demandware.static/-/Sites-itemmaster_NARS/default/dwc349db06/alt1/7_Deadly_Sins_OnModel_Alt_Images/B_Audacious_LipSwatch_FW_1_c_1000x1000.jpg',\n",
       "  'http://en.narscosmetics.co.kr/on/demandware.static/-/Sites-itemmaster_NARS/default/dw2f9051b2/alt1/7_Deadly_Sins_OnModel_Alt_Images/B_Audacious_LipSwatch_FW_2_b_1000x1000.jpg',\n",
       "  'http://en.narscosmetics.co.kr/on/demandware.static/-/Sites-itemmaster_NARS/default/dw74663b4e/alt1/7_Deadly_Sins_OnModel_Alt_Images/B_Audacious_LipSwatch_FW_3_b_1000x1000.jpg',\n",
       "  'http://en.narscosmetics.co.kr/on/demandware.static/-/Sites-itemmaster_NARS/default/dw5b20299f/alt1/7_Deadly_Sins_OnModel_Alt_Images/B_Audacious_LipSwatch_FW_4_c_1000x1000.jpg',\n",
       "  'http://en.narscosmetics.co.kr/on/demandware.static/-/Sites-itemmaster_NARS/default/dw862a3eca/alt1/7_Deadly_Sins_OnModel_Alt_Images/B_Audacious_LipSwatch_FW_5_d_1000x1000.jpg',\n",
       "  'http://en.narscosmetics.co.kr/on/demandware.static/-/Sites-itemmaster_NARS/default/dw6f0a1fbc/alt1/7_Deadly_Sins_OnModel_Alt_Images/B_Audacious_LipSwatch_FW_6_d_1000x1000.jpg',\n",
       "  'http://en.narscosmetics.co.kr/on/demandware.static/-/Sites-itemmaster_NARS/default/dwfc4518af/alt1/7_Deadly_Sins_OnModel_Alt_Images/B_Audacious_LipSwatch_FW_7_c_1000x1000.jpg'],\n",
       " 'salePrice': '₩ 68,000',\n",
       " 'originalPrice': '₩ 68,000',\n",
       " 'color': '#',\n",
       " 'category': '',\n",
       " 'brand': '나스',\n",
       " 'volume': '#'}"
      ]
     },
     "metadata": {},
     "output_type": "display_data"
    },
    {
     "data": {
      "text/plain": [
       "{'name': '벨벳 립 글라이드 코프레 언더그라운드',\n",
       " 'url': 'http://www.narscosmetics.co.kr/underground-velvet-lip-glide-set/0607845083887.html',\n",
       " 'image': ['http://en.narscosmetics.co.kr/on/demandware.static/-/Sites-itemmaster_NARS/default/dw9e7e5dc8/hi-res/0607845083887_2.jpg',\n",
       "  'http://en.narscosmetics.co.kr/on/demandware.static/-/Sites-itemmaster_NARS/default/dw5232465c/hi-res/0607845083887.jpg'],\n",
       " 'salePrice': '₩ 32,000',\n",
       " 'originalPrice': '₩ 32,000',\n",
       " 'color': '#',\n",
       " 'category': '',\n",
       " 'brand': '나스',\n",
       " 'volume': '#'}"
      ]
     },
     "metadata": {},
     "output_type": "display_data"
    },
    {
     "data": {
      "text/plain": [
       "<selenium.webdriver.remote.webelement.WebElement (session=\"ba51fcd1a1bc41dec611cca0306e5511\", element=\"0.8351688187859343-3\")>"
      ]
     },
     "metadata": {},
     "output_type": "display_data"
    },
    {
     "data": {
      "text/plain": [
       "{'name': '파워매트 립 피그먼트',\n",
       " 'url': 'http://www.narscosmetics.co.kr/on/demandware.store/Sites-KR-Site/en_KR/Product-Variation?pid=999NAC0000084&dwvar_999NAC0000084_color=',\n",
       " 'image': ['http://en.narscosmetics.co.kr/on/demandware.static/-/Sites-itemmaster_NARS/default/dw4f697cac/hi-res/0607845027980.jpg',\n",
       "  'http://en.narscosmetics.co.kr/on/demandware.static/-/Sites-itemmaster_NARS/default/dwcc294dc5/hi-res/0607845027980_swatch.jpg'],\n",
       " 'salePrice': '₩ 37,000',\n",
       " 'originalPrice': '₩ 37,000',\n",
       " 'color': '플레임',\n",
       " 'category': '',\n",
       " 'brand': '나스',\n",
       " 'volume': '#'}"
      ]
     },
     "metadata": {},
     "output_type": "display_data"
    },
    {
     "data": {
      "text/plain": [
       "<selenium.webdriver.remote.webelement.WebElement (session=\"ba51fcd1a1bc41dec611cca0306e5511\", element=\"0.024846042718056793-3\")>"
      ]
     },
     "metadata": {},
     "output_type": "display_data"
    },
    {
     "data": {
      "text/plain": [
       "{'name': '파워매트 립 피그먼트',\n",
       " 'url': 'http://www.narscosmetics.co.kr/on/demandware.store/Sites-KR-Site/en_KR/Product-Variation?pid=999NAC0000084&dwvar_999NAC0000084_color=firework',\n",
       " 'image': ['http://en.narscosmetics.co.kr/on/demandware.static/-/Sites-itemmaster_NARS/default/dwf208ab18/hi-res/0607845027997.jpg',\n",
       "  'http://en.narscosmetics.co.kr/on/demandware.static/-/Sites-itemmaster_NARS/default/dwc83fb11d/hi-res/0607845027997_swatch.jpg'],\n",
       " 'salePrice': '₩ 37,000',\n",
       " 'originalPrice': '₩ 37,000',\n",
       " 'color': '파이어워크',\n",
       " 'category': '',\n",
       " 'brand': '나스',\n",
       " 'volume': '#'}"
      ]
     },
     "metadata": {},
     "output_type": "display_data"
    },
    {
     "data": {
      "text/plain": [
       "<selenium.webdriver.remote.webelement.WebElement (session=\"ba51fcd1a1bc41dec611cca0306e5511\", element=\"0.12348933637710502-3\")>"
      ]
     },
     "metadata": {},
     "output_type": "display_data"
    },
    {
     "data": {
      "text/plain": [
       "{'name': '파워매트 립 피그먼트',\n",
       " 'url': 'http://www.narscosmetics.co.kr/on/demandware.store/Sites-KR-Site/en_KR/Product-Variation?pid=999NAC0000084&dwvar_999NAC0000084_color=firecracker',\n",
       " 'image': ['http://en.narscosmetics.co.kr/on/demandware.static/-/Sites-itemmaster_NARS/default/dw7b5214e6/hi-res/0607845028000.jpg',\n",
       "  'http://en.narscosmetics.co.kr/on/demandware.static/-/Sites-itemmaster_NARS/default/dw6aa30f07/hi-res/0607845028000_swatch.jpg'],\n",
       " 'salePrice': '₩ 37,000',\n",
       " 'originalPrice': '₩ 37,000',\n",
       " 'color': '파이어크래커',\n",
       " 'category': '',\n",
       " 'brand': '나스',\n",
       " 'volume': '#'}"
      ]
     },
     "metadata": {},
     "output_type": "display_data"
    },
    {
     "data": {
      "text/plain": [
       "<selenium.webdriver.remote.webelement.WebElement (session=\"ba51fcd1a1bc41dec611cca0306e5511\", element=\"0.3542124784245617-4\")>"
      ]
     },
     "metadata": {},
     "output_type": "display_data"
    },
    {
     "data": {
      "text/plain": [
       "{'name': '벨벳 글로스 립 펜슬 - 바로크',\n",
       " 'url': 'http://www.narscosmetics.co.kr/on/demandware.store/Sites-KR-Site/en_KR/Product-Variation?pid=999NACVGLPL01&dwvar_999NACVGLPL01_color=7845091059',\n",
       " 'image': ['http://en.narscosmetics.co.kr/on/demandware.static/-/Sites-itemmaster_NARS/default/dwb1e07491/hi-res/0607845091059.jpg',\n",
       "  'http://en.narscosmetics.co.kr/on/demandware.static/-/Sites-itemmaster_NARS/default/dw13c5c7fd/alt1/0607845091059.jpg',\n",
       "  'http://en.narscosmetics.co.kr/on/demandware.static/Sites-KR-Site/-/en_KR/v1546225498151/images/noimageshadesmall.png'],\n",
       " 'salePrice': '₩ 37,000',\n",
       " 'originalPrice': '₩ 37,000',\n",
       " 'color': '바로크',\n",
       " 'category': '',\n",
       " 'brand': '나스',\n",
       " 'volume': '#'}"
      ]
     },
     "metadata": {},
     "output_type": "display_data"
    },
    {
     "data": {
      "text/plain": [
       "<selenium.webdriver.remote.webelement.WebElement (session=\"ba51fcd1a1bc41dec611cca0306e5511\", element=\"0.019191832679624987-4\")>"
      ]
     },
     "metadata": {},
     "output_type": "display_data"
    },
    {
     "data": {
      "text/plain": [
       "{'name': '벨벳 글로스 립 펜슬 - 부에노스 아이레스',\n",
       " 'url': 'http://www.narscosmetics.co.kr/on/demandware.store/Sites-KR-Site/en_KR/Product-Variation?pid=999NACVGLPL01&dwvar_999NACVGLPL01_color=7845091080',\n",
       " 'image': ['http://en.narscosmetics.co.kr/on/demandware.static/-/Sites-itemmaster_NARS/default/dwa23802fc/hi-res/0607845091080.jpg',\n",
       "  'http://en.narscosmetics.co.kr/on/demandware.static/-/Sites-itemmaster_NARS/default/dwcc312585/alt1/0607845091080.jpg',\n",
       "  'http://en.narscosmetics.co.kr/on/demandware.static/Sites-KR-Site/-/en_KR/v1546225498151/images/noimageshadesmall.png'],\n",
       " 'salePrice': '₩ 37,000',\n",
       " 'originalPrice': '₩ 37,000',\n",
       " 'color': '부에노스 아이레스',\n",
       " 'category': '',\n",
       " 'brand': '나스',\n",
       " 'volume': '#'}"
      ]
     },
     "metadata": {},
     "output_type": "display_data"
    },
    {
     "data": {
      "text/plain": [
       "<selenium.webdriver.remote.webelement.WebElement (session=\"ba51fcd1a1bc41dec611cca0306e5511\", element=\"0.769504925332833-4\")>"
      ]
     },
     "metadata": {},
     "output_type": "display_data"
    },
    {
     "data": {
      "text/plain": [
       "{'name': '벨벳 글로스 립 펜슬 - 클럽믹스',\n",
       " 'url': 'http://www.narscosmetics.co.kr/on/demandware.store/Sites-KR-Site/en_KR/Product-Variation?pid=999NACVGLPL01&dwvar_999NACVGLPL01_color=7845091066',\n",
       " 'image': ['http://en.narscosmetics.co.kr/on/demandware.static/-/Sites-itemmaster_NARS/default/dwb6b2d8f6/hi-res/0607845091066.jpg',\n",
       "  'http://en.narscosmetics.co.kr/on/demandware.static/-/Sites-itemmaster_NARS/default/dw5e0abd24/alt1/0607845091066.jpg',\n",
       "  'http://en.narscosmetics.co.kr/on/demandware.static/Sites-KR-Site/-/en_KR/v1546225498151/images/noimageshadesmall.png'],\n",
       " 'salePrice': '₩ 37,000',\n",
       " 'originalPrice': '₩ 37,000',\n",
       " 'color': '클럽믹스',\n",
       " 'category': '',\n",
       " 'brand': '나스',\n",
       " 'volume': '#'}"
      ]
     },
     "metadata": {},
     "output_type": "display_data"
    },
    {
     "data": {
      "text/plain": [
       "<selenium.webdriver.remote.webelement.WebElement (session=\"ba51fcd1a1bc41dec611cca0306e5511\", element=\"0.0007003997302030829-4\")>"
      ]
     },
     "metadata": {},
     "output_type": "display_data"
    },
    {
     "data": {
      "text/plain": [
       "{'name': '벨벳 글로스 립 펜슬 - 프리볼러스',\n",
       " 'url': 'http://www.narscosmetics.co.kr/on/demandware.store/Sites-KR-Site/en_KR/Product-Variation?pid=999NACVGLPL01&dwvar_999NACVGLPL01_color=7845091035',\n",
       " 'image': ['http://en.narscosmetics.co.kr/on/demandware.static/-/Sites-itemmaster_NARS/default/dw8c8562bc/hi-res/0607845091035.jpg',\n",
       "  'http://en.narscosmetics.co.kr/on/demandware.static/-/Sites-itemmaster_NARS/default/dw8f8c170b/alt1/0607845091035.jpg',\n",
       "  'http://en.narscosmetics.co.kr/on/demandware.static/Sites-KR-Site/-/en_KR/v1546225498151/images/noimageshadesmall.png'],\n",
       " 'salePrice': '₩ 37,000',\n",
       " 'originalPrice': '₩ 37,000',\n",
       " 'color': '프리볼러스',\n",
       " 'category': '',\n",
       " 'brand': '나스',\n",
       " 'volume': '#'}"
      ]
     },
     "metadata": {},
     "output_type": "display_data"
    },
    {
     "data": {
      "text/plain": [
       "<selenium.webdriver.remote.webelement.WebElement (session=\"ba51fcd1a1bc41dec611cca0306e5511\", element=\"0.9185825519374009-4\")>"
      ]
     },
     "metadata": {},
     "output_type": "display_data"
    },
    {
     "data": {
      "text/plain": [
       "{'name': '벨벳 글로스 립 펜슬 - 해피 데이즈',\n",
       " 'url': 'http://www.narscosmetics.co.kr/on/demandware.store/Sites-KR-Site/en_KR/Product-Variation?pid=999NACVGLPL01&dwvar_999NACVGLPL01_color=7845091011',\n",
       " 'image': ['http://en.narscosmetics.co.kr/on/demandware.static/-/Sites-itemmaster_NARS/default/dw82928b24/hi-res/0607845091011.jpg',\n",
       "  'http://en.narscosmetics.co.kr/on/demandware.static/-/Sites-itemmaster_NARS/default/dwbf79c44a/alt1/0607845091011.jpg',\n",
       "  'http://en.narscosmetics.co.kr/on/demandware.static/Sites-KR-Site/-/en_KR/v1546225498151/images/noimageshadesmall.png'],\n",
       " 'salePrice': '₩ 37,000',\n",
       " 'originalPrice': '₩ 37,000',\n",
       " 'color': '해피 데이즈',\n",
       " 'category': '',\n",
       " 'brand': '나스',\n",
       " 'volume': '#'}"
      ]
     },
     "metadata": {},
     "output_type": "display_data"
    },
    {
     "data": {
      "text/plain": [
       "<selenium.webdriver.remote.webelement.WebElement (session=\"ba51fcd1a1bc41dec611cca0306e5511\", element=\"0.24025034405632595-4\")>"
      ]
     },
     "metadata": {},
     "output_type": "display_data"
    },
    {
     "data": {
      "text/plain": [
       "{'name': '벨벳 글로스 립 펜슬 - 호피',\n",
       " 'url': 'http://www.narscosmetics.co.kr/on/demandware.store/Sites-KR-Site/en_KR/Product-Variation?pid=999NACVGLPL01&dwvar_999NACVGLPL01_color=7845091042',\n",
       " 'image': ['http://en.narscosmetics.co.kr/on/demandware.static/-/Sites-itemmaster_NARS/default/dw5077f3de/hi-res/0607845091042.jpg',\n",
       "  'http://en.narscosmetics.co.kr/on/demandware.static/-/Sites-itemmaster_NARS/default/dwb4d7b703/alt1/0607845091042.jpg',\n",
       "  'http://en.narscosmetics.co.kr/on/demandware.static/Sites-KR-Site/-/en_KR/v1546225498151/images/noimageshadesmall.png'],\n",
       " 'salePrice': '₩ 37,000',\n",
       " 'originalPrice': '₩ 37,000',\n",
       " 'color': '호피',\n",
       " 'category': '',\n",
       " 'brand': '나스',\n",
       " 'volume': '#'}"
      ]
     },
     "metadata": {},
     "output_type": "display_data"
    },
    {
     "data": {
      "text/plain": [
       "<selenium.webdriver.remote.webelement.WebElement (session=\"ba51fcd1a1bc41dec611cca0306e5511\", element=\"0.7980613472331464-4\")>"
      ]
     },
     "metadata": {},
     "output_type": "display_data"
    },
    {
     "data": {
      "text/plain": [
       "{'name': '벨벳 글로스 립 펜슬 - 멕시칸 로즈',\n",
       " 'url': 'http://www.narscosmetics.co.kr/on/demandware.store/Sites-KR-Site/en_KR/Product-Variation?pid=999NACVGLPL01&dwvar_999NACVGLPL01_color=7845091073',\n",
       " 'image': ['http://en.narscosmetics.co.kr/on/demandware.static/-/Sites-itemmaster_NARS/default/dw6ad85073/hi-res/0607845091073.jpg',\n",
       "  'http://en.narscosmetics.co.kr/on/demandware.static/-/Sites-itemmaster_NARS/default/dw571f4940/alt1/0607845091073.jpg',\n",
       "  'http://en.narscosmetics.co.kr/on/demandware.static/Sites-KR-Site/-/en_KR/v1546225498151/images/noimageshadesmall.png'],\n",
       " 'salePrice': '₩ 37,000',\n",
       " 'originalPrice': '₩ 37,000',\n",
       " 'color': '멕시칸 로즈',\n",
       " 'category': '',\n",
       " 'brand': '나스',\n",
       " 'volume': '#'}"
      ]
     },
     "metadata": {},
     "output_type": "display_data"
    },
    {
     "data": {
      "text/plain": [
       "<selenium.webdriver.remote.webelement.WebElement (session=\"ba51fcd1a1bc41dec611cca0306e5511\", element=\"0.025101659143084376-4\")>"
      ]
     },
     "metadata": {},
     "output_type": "display_data"
    },
    {
     "data": {
      "text/plain": [
       "{'name': '벨벳 글로스 립 펜슬',\n",
       " 'url': 'http://www.narscosmetics.co.kr/on/demandware.store/Sites-KR-Site/en_KR/Product-Variation?pid=999NACVGLPL01&dwvar_999NACVGLPL01_color=',\n",
       " 'image': ['http://en.narscosmetics.co.kr/on/demandware.static/-/Sites-itemmaster_NARS/default/dw4f6f8764/hi-res/0607845091028.jpg',\n",
       "  'http://en.narscosmetics.co.kr/on/demandware.static/-/Sites-itemmaster_NARS/default/dw94c97d09/alt1/0607845091028.jpg',\n",
       "  'http://en.narscosmetics.co.kr/on/demandware.static/Sites-KR-Site/-/en_KR/v1546225498151/images/noimageshadesmall.png'],\n",
       " 'salePrice': '₩ 37,000',\n",
       " 'originalPrice': '₩ 37,000',\n",
       " 'color': '바로크',\n",
       " 'category': '',\n",
       " 'brand': '나스',\n",
       " 'volume': '#'}"
      ]
     },
     "metadata": {},
     "output_type": "display_data"
    },
    {
     "data": {
      "text/plain": [
       "<selenium.webdriver.remote.webelement.WebElement (session=\"ba51fcd1a1bc41dec611cca0306e5511\", element=\"0.04675973185951188-3\")>"
      ]
     },
     "metadata": {},
     "output_type": "display_data"
    },
    {
     "data": {
      "text/plain": [
       "{'name': '벨벳 립 글라이드 - 에어리어',\n",
       " 'url': 'http://www.narscosmetics.co.kr/on/demandware.store/Sites-KR-Site/en_KR/Product-Variation?pid=999NAC0000040&dwvar_999NAC0000040_color=7845027218',\n",
       " 'image': ['http://en.narscosmetics.co.kr/on/demandware.static/-/Sites-itemmaster_NARS/default/dwc43a5cb1/hi-res/0607845027218.jpg',\n",
       "  'http://en.narscosmetics.co.kr/on/demandware.static/-/Sites-itemmaster_NARS/default/dw89034268/swatch/0607845027218.jpg'],\n",
       " 'salePrice': '₩ 37,000',\n",
       " 'originalPrice': '₩ 37,000',\n",
       " 'color': '에어리어',\n",
       " 'category': '',\n",
       " 'brand': '나스',\n",
       " 'volume': '#'}"
      ]
     },
     "metadata": {},
     "output_type": "display_data"
    },
    {
     "data": {
      "text/plain": [
       "<selenium.webdriver.remote.webelement.WebElement (session=\"ba51fcd1a1bc41dec611cca0306e5511\", element=\"0.45670219169360227-3\")>"
      ]
     },
     "metadata": {},
     "output_type": "display_data"
    },
    {
     "data": {
      "text/plain": [
       "{'name': '벨벳 립 글라이드 - 베이트',\n",
       " 'url': 'http://www.narscosmetics.co.kr/on/demandware.store/Sites-KR-Site/en_KR/Product-Variation?pid=999NAC0000040&dwvar_999NAC0000040_color=7845027232',\n",
       " 'image': ['http://en.narscosmetics.co.kr/on/demandware.static/-/Sites-itemmaster_NARS/default/dwc532eee2/hi-res/0607845027232.jpg',\n",
       "  'http://en.narscosmetics.co.kr/on/demandware.static/-/Sites-itemmaster_NARS/default/dw660df221/swatch/0607845027232.jpg'],\n",
       " 'salePrice': '₩ 37,000',\n",
       " 'originalPrice': '₩ 37,000',\n",
       " 'color': '베이트',\n",
       " 'category': '',\n",
       " 'brand': '나스',\n",
       " 'volume': '#'}"
      ]
     },
     "metadata": {},
     "output_type": "display_data"
    },
    {
     "data": {
      "text/plain": [
       "<selenium.webdriver.remote.webelement.WebElement (session=\"ba51fcd1a1bc41dec611cca0306e5511\", element=\"0.7913857988360984-3\")>"
      ]
     },
     "metadata": {},
     "output_type": "display_data"
    },
    {
     "data": {
      "text/plain": [
       "{'name': '벨벳 립 글라이드 - 바운드',\n",
       " 'url': 'http://www.narscosmetics.co.kr/on/demandware.store/Sites-KR-Site/en_KR/Product-Variation?pid=999NAC0000040&dwvar_999NAC0000040_color=7845027133',\n",
       " 'image': ['http://en.narscosmetics.co.kr/on/demandware.static/-/Sites-itemmaster_NARS/default/dw1b1a08a9/hi-res/0607845027133.jpg',\n",
       "  'http://en.narscosmetics.co.kr/on/demandware.static/-/Sites-itemmaster_NARS/default/dwc98c9858/swatch/0607845027133.jpg'],\n",
       " 'salePrice': '₩ 37,000',\n",
       " 'originalPrice': '₩ 37,000',\n",
       " 'color': '바운드',\n",
       " 'category': '',\n",
       " 'brand': '나스',\n",
       " 'volume': '#'}"
      ]
     },
     "metadata": {},
     "output_type": "display_data"
    },
    {
     "data": {
      "text/plain": [
       "<selenium.webdriver.remote.webelement.WebElement (session=\"ba51fcd1a1bc41dec611cca0306e5511\", element=\"0.05275031653615603-3\")>"
      ]
     },
     "metadata": {},
     "output_type": "display_data"
    },
    {
     "data": {
      "text/plain": [
       "{'name': '벨벳 립 글라이드 - 댄스테리아',\n",
       " 'url': 'http://www.narscosmetics.co.kr/on/demandware.store/Sites-KR-Site/en_KR/Product-Variation?pid=999NAC0000040&dwvar_999NAC0000040_color=7845027140',\n",
       " 'image': ['http://en.narscosmetics.co.kr/on/demandware.static/-/Sites-itemmaster_NARS/default/dw01610599/hi-res/0607845027140.jpg',\n",
       "  'http://en.narscosmetics.co.kr/on/demandware.static/-/Sites-itemmaster_NARS/default/dw8b6fd604/swatch/0607845027140.jpg'],\n",
       " 'salePrice': '₩ 37,000',\n",
       " 'originalPrice': '₩ 37,000',\n",
       " 'color': '댄스테리아',\n",
       " 'category': '',\n",
       " 'brand': '나스',\n",
       " 'volume': '#'}"
      ]
     },
     "metadata": {},
     "output_type": "display_data"
    },
    {
     "data": {
      "text/plain": [
       "<selenium.webdriver.remote.webelement.WebElement (session=\"ba51fcd1a1bc41dec611cca0306e5511\", element=\"0.06216087209348742-3\")>"
      ]
     },
     "metadata": {},
     "output_type": "display_data"
    },
    {
     "data": {
      "text/plain": [
       "{'name': '벨벳 립 글라이드 - 디스럽터',\n",
       " 'url': 'http://www.narscosmetics.co.kr/on/demandware.store/Sites-KR-Site/en_KR/Product-Variation?pid=999NAC0000040&dwvar_999NAC0000040_color=7845027256',\n",
       " 'image': ['http://en.narscosmetics.co.kr/on/demandware.static/-/Sites-itemmaster_NARS/default/dwb8c861ff/hi-res/0607845027256.jpg',\n",
       "  'http://en.narscosmetics.co.kr/on/demandware.static/-/Sites-itemmaster_NARS/default/dwbce58e00/swatch/0607845027256.jpg'],\n",
       " 'salePrice': '₩ 37,000',\n",
       " 'originalPrice': '₩ 37,000',\n",
       " 'color': '디스럽터',\n",
       " 'category': '',\n",
       " 'brand': '나스',\n",
       " 'volume': '#'}"
      ]
     },
     "metadata": {},
     "output_type": "display_data"
    },
    {
     "data": {
      "text/plain": [
       "<selenium.webdriver.remote.webelement.WebElement (session=\"ba51fcd1a1bc41dec611cca0306e5511\", element=\"0.6496531775475567-3\")>"
      ]
     },
     "metadata": {},
     "output_type": "display_data"
    },
    {
     "data": {
      "text/plain": [
       "{'name': '벨벳 립 글라이드 - 임파서블 레드',\n",
       " 'url': 'http://www.narscosmetics.co.kr/on/demandware.store/Sites-KR-Site/en_KR/Product-Variation?pid=999NAC0000040&dwvar_999NAC0000040_color=7845027249',\n",
       " 'image': ['http://en.narscosmetics.co.kr/on/demandware.static/-/Sites-itemmaster_NARS/default/dw299aff38/hi-res/0607845027249.jpg',\n",
       "  'http://en.narscosmetics.co.kr/on/demandware.static/-/Sites-itemmaster_NARS/default/dw35ee1a06/swatch/0607845027249.jpg'],\n",
       " 'salePrice': '₩ 37,000',\n",
       " 'originalPrice': '₩ 37,000',\n",
       " 'color': '임파서블 레드',\n",
       " 'category': '',\n",
       " 'brand': '나스',\n",
       " 'volume': '#'}"
      ]
     },
     "metadata": {},
     "output_type": "display_data"
    },
    {
     "data": {
      "text/plain": [
       "<selenium.webdriver.remote.webelement.WebElement (session=\"ba51fcd1a1bc41dec611cca0306e5511\", element=\"0.6519847677492825-3\")>"
      ]
     },
     "metadata": {},
     "output_type": "display_data"
    },
    {
     "data": {
      "text/plain": [
       "{'name': '벨벳 립 글라이드 - 라 망 블뢰',\n",
       " 'url': 'http://www.narscosmetics.co.kr/on/demandware.store/Sites-KR-Site/en_KR/Product-Variation?pid=999NAC0000040&dwvar_999NAC0000040_color=7845027157',\n",
       " 'image': ['http://en.narscosmetics.co.kr/on/demandware.static/-/Sites-itemmaster_NARS/default/dwe3752571/hi-res/0607845027157.jpg',\n",
       "  'http://en.narscosmetics.co.kr/on/demandware.static/-/Sites-itemmaster_NARS/default/dw70c5533d/swatch/0607845027157.jpg'],\n",
       " 'salePrice': '₩ 37,000',\n",
       " 'originalPrice': '₩ 37,000',\n",
       " 'color': '라 망 블뢰',\n",
       " 'category': '',\n",
       " 'brand': '나스',\n",
       " 'volume': '#'}"
      ]
     },
     "metadata": {},
     "output_type": "display_data"
    },
    {
     "data": {
      "text/plain": [
       "<selenium.webdriver.remote.webelement.WebElement (session=\"ba51fcd1a1bc41dec611cca0306e5511\", element=\"0.16587113816604204-3\")>"
      ]
     },
     "metadata": {},
     "output_type": "display_data"
    },
    {
     "data": {
      "text/plain": [
       "{'name': '벨벳 립 글라이드 - 르 팔라스',\n",
       " 'url': 'http://www.narscosmetics.co.kr/on/demandware.store/Sites-KR-Site/en_KR/Product-Variation?pid=999NAC0000040&dwvar_999NAC0000040_color=7845027188',\n",
       " 'image': ['http://en.narscosmetics.co.kr/on/demandware.static/-/Sites-itemmaster_NARS/default/dw50624f43/hi-res/0607845027188.jpg',\n",
       "  'http://en.narscosmetics.co.kr/on/demandware.static/-/Sites-itemmaster_NARS/default/dw6e7e5c6c/swatch/0607845027188.jpg'],\n",
       " 'salePrice': '₩ 37,000',\n",
       " 'originalPrice': '₩ 37,000',\n",
       " 'color': '르 팔라스',\n",
       " 'category': '',\n",
       " 'brand': '나스',\n",
       " 'volume': '#'}"
      ]
     },
     "metadata": {},
     "output_type": "display_data"
    },
    {
     "data": {
      "text/plain": [
       "<selenium.webdriver.remote.webelement.WebElement (session=\"ba51fcd1a1bc41dec611cca0306e5511\", element=\"0.3574739371488662-3\")>"
      ]
     },
     "metadata": {},
     "output_type": "display_data"
    },
    {
     "data": {
      "text/plain": [
       "{'name': '벨벳 립 글라이드 - 마스',\n",
       " 'url': 'http://www.narscosmetics.co.kr/on/demandware.store/Sites-KR-Site/en_KR/Product-Variation?pid=999NAC0000040&dwvar_999NAC0000040_color=7845027355',\n",
       " 'image': ['http://en.narscosmetics.co.kr/on/demandware.static/-/Sites-itemmaster_NARS/default/dwf9428b74/hi-res/0607845027355.jpg',\n",
       "  'http://en.narscosmetics.co.kr/on/demandware.static/-/Sites-itemmaster_NARS/default/dw0f701d9f/swatch/0607845027355.jpg'],\n",
       " 'salePrice': '₩ 37,000',\n",
       " 'originalPrice': '₩ 37,000',\n",
       " 'color': '마스',\n",
       " 'category': '',\n",
       " 'brand': '나스',\n",
       " 'volume': '#'}"
      ]
     },
     "metadata": {},
     "output_type": "display_data"
    },
    {
     "data": {
      "text/plain": [
       "<selenium.webdriver.remote.webelement.WebElement (session=\"ba51fcd1a1bc41dec611cca0306e5511\", element=\"0.30608636066692974-3\")>"
      ]
     },
     "metadata": {},
     "output_type": "display_data"
    },
    {
     "data": {
      "text/plain": [
       "{'name': '벨벳 립 글라이드 - No. 54',\n",
       " 'url': 'http://www.narscosmetics.co.kr/on/demandware.store/Sites-KR-Site/en_KR/Product-Variation?pid=999NAC0000040&dwvar_999NAC0000040_color=7845027171',\n",
       " 'image': ['http://en.narscosmetics.co.kr/on/demandware.static/-/Sites-itemmaster_NARS/default/dw895d4a31/hi-res/0607845027171.jpg',\n",
       "  'http://en.narscosmetics.co.kr/on/demandware.static/-/Sites-itemmaster_NARS/default/dwe3e413bc/swatch/0607845027171.jpg'],\n",
       " 'salePrice': '₩ 37,000',\n",
       " 'originalPrice': '₩ 37,000',\n",
       " 'color': '\\nNo. 54\\n',\n",
       " 'category': '',\n",
       " 'brand': '나스',\n",
       " 'volume': '#'}"
      ]
     },
     "metadata": {},
     "output_type": "display_data"
    },
    {
     "data": {
      "text/plain": [
       "<selenium.webdriver.remote.webelement.WebElement (session=\"ba51fcd1a1bc41dec611cca0306e5511\", element=\"0.6796692521032239-3\")>"
      ]
     },
     "metadata": {},
     "output_type": "display_data"
    },
    {
     "data": {
      "text/plain": [
       "{'name': '벨벳 립 글라이드 - 파라다이스 그라지',\n",
       " 'url': 'http://www.narscosmetics.co.kr/on/demandware.store/Sites-KR-Site/en_KR/Product-Variation?pid=999NAC0000040&dwvar_999NAC0000040_color=7845027348',\n",
       " 'image': ['http://en.narscosmetics.co.kr/on/demandware.static/-/Sites-itemmaster_NARS/default/dw54d0d43e/hi-res/0607845027348.jpg',\n",
       "  'http://en.narscosmetics.co.kr/on/demandware.static/-/Sites-itemmaster_NARS/default/dwf14afb31/swatch/0607845027348.jpg'],\n",
       " 'salePrice': '₩ 37,000',\n",
       " 'originalPrice': '₩ 37,000',\n",
       " 'color': '파라다이스 그라지',\n",
       " 'category': '',\n",
       " 'brand': '나스',\n",
       " 'volume': '#'}"
      ]
     },
     "metadata": {},
     "output_type": "display_data"
    },
    {
     "data": {
      "text/plain": [
       "<selenium.webdriver.remote.webelement.WebElement (session=\"ba51fcd1a1bc41dec611cca0306e5511\", element=\"0.10299225002960011-3\")>"
      ]
     },
     "metadata": {},
     "output_type": "display_data"
    },
    {
     "data": {
      "text/plain": [
       "{'name': '벨벳 립 글라이드 - 플레이펜',\n",
       " 'url': 'http://www.narscosmetics.co.kr/on/demandware.store/Sites-KR-Site/en_KR/Product-Variation?pid=999NAC0000040&dwvar_999NAC0000040_color=7845027126',\n",
       " 'image': ['http://en.narscosmetics.co.kr/on/demandware.static/-/Sites-itemmaster_NARS/default/dw6c9ffc78/hi-res/0607845027126.jpg',\n",
       "  'http://en.narscosmetics.co.kr/on/demandware.static/-/Sites-itemmaster_NARS/default/dwc6ef6570/swatch/0607845027126.jpg'],\n",
       " 'salePrice': '₩ 37,000',\n",
       " 'originalPrice': '₩ 37,000',\n",
       " 'color': '플레이펜',\n",
       " 'category': '',\n",
       " 'brand': '나스',\n",
       " 'volume': '#'}"
      ]
     },
     "metadata": {},
     "output_type": "display_data"
    },
    {
     "data": {
      "text/plain": [
       "<selenium.webdriver.remote.webelement.WebElement (session=\"ba51fcd1a1bc41dec611cca0306e5511\", element=\"0.019950251501398286-3\")>"
      ]
     },
     "metadata": {},
     "output_type": "display_data"
    },
    {
     "data": {
      "text/plain": [
       "{'name': '벨벳 립 글라이드 - 로즈랜드',\n",
       " 'url': 'http://www.narscosmetics.co.kr/on/demandware.store/Sites-KR-Site/en_KR/Product-Variation?pid=999NAC0000040&dwvar_999NAC0000040_color=7845027331',\n",
       " 'image': ['http://en.narscosmetics.co.kr/on/demandware.static/-/Sites-itemmaster_NARS/default/dwe5303f25/hi-res/0607845027331.jpg',\n",
       "  'http://en.narscosmetics.co.kr/on/demandware.static/-/Sites-itemmaster_NARS/default/dw7843d968/swatch/0607845027331.jpg'],\n",
       " 'salePrice': '₩ 37,000',\n",
       " 'originalPrice': '₩ 37,000',\n",
       " 'color': '로즈랜드',\n",
       " 'category': '',\n",
       " 'brand': '나스',\n",
       " 'volume': '#'}"
      ]
     },
     "metadata": {},
     "output_type": "display_data"
    },
    {
     "data": {
      "text/plain": [
       "<selenium.webdriver.remote.webelement.WebElement (session=\"ba51fcd1a1bc41dec611cca0306e5511\", element=\"0.713035611814701-3\")>"
      ]
     },
     "metadata": {},
     "output_type": "display_data"
    },
    {
     "data": {
      "text/plain": [
       "{'name': '벨벳 립 글라이드 - 스트립드',\n",
       " 'url': 'http://www.narscosmetics.co.kr/on/demandware.store/Sites-KR-Site/en_KR/Product-Variation?pid=999NAC0000040&dwvar_999NAC0000040_color=7845027102',\n",
       " 'image': ['http://en.narscosmetics.co.kr/on/demandware.static/-/Sites-itemmaster_NARS/default/dwa556b430/hi-res/0607845027102.jpg',\n",
       "  'http://en.narscosmetics.co.kr/on/demandware.static/-/Sites-itemmaster_NARS/default/dw6b395b44/swatch/0607845027102.jpg'],\n",
       " 'salePrice': '₩ 37,000',\n",
       " 'originalPrice': '₩ 37,000',\n",
       " 'color': '스트립드',\n",
       " 'category': '',\n",
       " 'brand': '나스',\n",
       " 'volume': '#'}"
      ]
     },
     "metadata": {},
     "output_type": "display_data"
    },
    {
     "data": {
      "text/plain": [
       "<selenium.webdriver.remote.webelement.WebElement (session=\"ba51fcd1a1bc41dec611cca0306e5511\", element=\"0.37328220271918244-3\")>"
      ]
     },
     "metadata": {},
     "output_type": "display_data"
    },
    {
     "data": {
      "text/plain": [
       "{'name': '벨벳 립 글라이드 - 서크',\n",
       " 'url': 'http://www.narscosmetics.co.kr/on/demandware.store/Sites-KR-Site/en_KR/Product-Variation?pid=999NAC0000040&dwvar_999NAC0000040_color=7845027225',\n",
       " 'image': ['http://en.narscosmetics.co.kr/on/demandware.static/-/Sites-itemmaster_NARS/default/dw99fe0924/hi-res/0607845027225.jpg',\n",
       "  'http://en.narscosmetics.co.kr/on/demandware.static/-/Sites-itemmaster_NARS/default/dw56e058ee/swatch/0607845027225.jpg'],\n",
       " 'salePrice': '₩ 37,000',\n",
       " 'originalPrice': '₩ 37,000',\n",
       " 'color': '서크',\n",
       " 'category': '',\n",
       " 'brand': '나스',\n",
       " 'volume': '#'}"
      ]
     },
     "metadata": {},
     "output_type": "display_data"
    },
    {
     "data": {
      "text/plain": [
       "<selenium.webdriver.remote.webelement.WebElement (session=\"ba51fcd1a1bc41dec611cca0306e5511\", element=\"0.5221062980622824-3\")>"
      ]
     },
     "metadata": {},
     "output_type": "display_data"
    },
    {
     "data": {
      "text/plain": [
       "{'name': '벨벳 립 글라이드 - 스윙',\n",
       " 'url': 'http://www.narscosmetics.co.kr/on/demandware.store/Sites-KR-Site/en_KR/Product-Variation?pid=999NAC0000040&dwvar_999NAC0000040_color=7845027324',\n",
       " 'image': ['http://en.narscosmetics.co.kr/on/demandware.static/-/Sites-itemmaster_NARS/default/dwfd7b6c3c/hi-res/0607845027324.jpg',\n",
       "  'http://en.narscosmetics.co.kr/on/demandware.static/-/Sites-itemmaster_NARS/default/dw20579fb6/swatch/0607845027324.jpg'],\n",
       " 'salePrice': '₩ 37,000',\n",
       " 'originalPrice': '₩ 37,000',\n",
       " 'color': '스윙',\n",
       " 'category': '',\n",
       " 'brand': '나스',\n",
       " 'volume': '#'}"
      ]
     },
     "metadata": {},
     "output_type": "display_data"
    },
    {
     "data": {
      "text/plain": [
       "<selenium.webdriver.remote.webelement.WebElement (session=\"ba51fcd1a1bc41dec611cca0306e5511\", element=\"0.7097339332280754-3\")>"
      ]
     },
     "metadata": {},
     "output_type": "display_data"
    },
    {
     "data": {
      "text/plain": [
       "{'name': '벨벳 립 글라이드 - 언레이스드',\n",
       " 'url': 'http://www.narscosmetics.co.kr/on/demandware.store/Sites-KR-Site/en_KR/Product-Variation?pid=999NAC0000040&dwvar_999NAC0000040_color=7845027119',\n",
       " 'image': ['http://en.narscosmetics.co.kr/on/demandware.static/-/Sites-itemmaster_NARS/default/dw1c159535/hi-res/0607845027119.jpg',\n",
       "  'http://en.narscosmetics.co.kr/on/demandware.static/-/Sites-itemmaster_NARS/default/dw5f2707b4/swatch/0607845027119.jpg'],\n",
       " 'salePrice': '₩ 37,000',\n",
       " 'originalPrice': '₩ 37,000',\n",
       " 'color': '언레이스드',\n",
       " 'category': '',\n",
       " 'brand': '나스',\n",
       " 'volume': '#'}"
      ]
     },
     "metadata": {},
     "output_type": "display_data"
    },
    {
     "data": {
      "text/plain": [
       "<selenium.webdriver.remote.webelement.WebElement (session=\"ba51fcd1a1bc41dec611cca0306e5511\", element=\"0.3228801244464279-3\")>"
      ]
     },
     "metadata": {},
     "output_type": "display_data"
    },
    {
     "data": {
      "text/plain": [
       "{'name': '벨벳 립 글라이드 - 언스피커블',\n",
       " 'url': 'http://www.narscosmetics.co.kr/on/demandware.store/Sites-KR-Site/en_KR/Product-Variation?pid=999NAC0000040&dwvar_999NAC0000040_color=7845027195',\n",
       " 'image': ['http://en.narscosmetics.co.kr/on/demandware.static/-/Sites-itemmaster_NARS/default/dw21f9fe19/hi-res/0607845027195.jpg',\n",
       "  'http://en.narscosmetics.co.kr/on/demandware.static/-/Sites-itemmaster_NARS/default/dwb225468b/swatch/0607845027195.jpg'],\n",
       " 'salePrice': '₩ 37,000',\n",
       " 'originalPrice': '₩ 37,000',\n",
       " 'color': '언스피커블',\n",
       " 'category': '',\n",
       " 'brand': '나스',\n",
       " 'volume': '#'}"
      ]
     },
     "metadata": {},
     "output_type": "display_data"
    },
    {
     "data": {
      "text/plain": [
       "<selenium.webdriver.remote.webelement.WebElement (session=\"ba51fcd1a1bc41dec611cca0306e5511\", element=\"0.3258832943507697-3\")>"
      ]
     },
     "metadata": {},
     "output_type": "display_data"
    },
    {
     "data": {
      "text/plain": [
       "{'name': '벨벳 립 글라이드 - 제논',\n",
       " 'url': 'http://www.narscosmetics.co.kr/on/demandware.store/Sites-KR-Site/en_KR/Product-Variation?pid=999NAC0000040&dwvar_999NAC0000040_color=7845027317',\n",
       " 'image': ['http://en.narscosmetics.co.kr/on/demandware.static/-/Sites-itemmaster_NARS/default/dw886bcef8/hi-res/0607845027317.jpg',\n",
       "  'http://en.narscosmetics.co.kr/on/demandware.static/-/Sites-itemmaster_NARS/default/dw8b9e82cd/swatch/0607845027317.jpg'],\n",
       " 'salePrice': '₩ 37,000',\n",
       " 'originalPrice': '₩ 37,000',\n",
       " 'color': '제논',\n",
       " 'category': '',\n",
       " 'brand': '나스',\n",
       " 'volume': '#'}"
      ]
     },
     "metadata": {},
     "output_type": "display_data"
    },
    {
     "data": {
      "text/plain": [
       "<selenium.webdriver.remote.webelement.WebElement (session=\"ba51fcd1a1bc41dec611cca0306e5511\", element=\"0.9247329702956912-3\")>"
      ]
     },
     "metadata": {},
     "output_type": "display_data"
    },
    {
     "data": {
      "text/plain": [
       "{'name': '벨벳 립 글라이드 - 범프',\n",
       " 'url': 'http://www.narscosmetics.co.kr/on/demandware.store/Sites-KR-Site/en_KR/Product-Variation?pid=999NAC0000040&dwvar_999NAC0000040_color=607845034308',\n",
       " 'image': ['http://en.narscosmetics.co.kr/on/demandware.static/-/Sites-itemmaster_NARS/default/dw99477fd8/hi-res/607845034308.jpg',\n",
       "  'http://en.narscosmetics.co.kr/on/demandware.static/-/Sites-itemmaster_NARS/default/dwfca08e3e/swatch/607845034308.jpg'],\n",
       " 'salePrice': '₩ 37,000',\n",
       " 'originalPrice': '₩ 37,000',\n",
       " 'color': '범프',\n",
       " 'category': '',\n",
       " 'brand': '나스',\n",
       " 'volume': '#'}"
      ]
     },
     "metadata": {},
     "output_type": "display_data"
    },
    {
     "data": {
      "text/plain": [
       "<selenium.webdriver.remote.webelement.WebElement (session=\"ba51fcd1a1bc41dec611cca0306e5511\", element=\"0.737225474117005-3\")>"
      ]
     },
     "metadata": {},
     "output_type": "display_data"
    },
    {
     "data": {
      "text/plain": [
       "{'name': '벨벳 립 글라이드',\n",
       " 'url': 'http://www.narscosmetics.co.kr/on/demandware.store/Sites-KR-Site/en_KR/Product-Variation?pid=999NAC0000040&dwvar_999NAC0000040_color=',\n",
       " 'image': ['http://en.narscosmetics.co.kr/on/demandware.static/-/Sites-itemmaster_NARS/default/dwc43a5cb1/hi-res/0607845027218.jpg',\n",
       "  'http://en.narscosmetics.co.kr/on/demandware.static/-/Sites-itemmaster_NARS/default/dw89034268/swatch/0607845027218.jpg'],\n",
       " 'salePrice': '₩ 37,000',\n",
       " 'originalPrice': '₩ 37,000',\n",
       " 'color': '에어리어',\n",
       " 'category': '',\n",
       " 'brand': '나스',\n",
       " 'volume': '#'}"
      ]
     },
     "metadata": {},
     "output_type": "display_data"
    },
    {
     "data": {
      "text/plain": [
       "<selenium.webdriver.remote.webelement.WebElement (session=\"ba51fcd1a1bc41dec611cca0306e5511\", element=\"0.7838959246901662-4\")>"
      ]
     },
     "metadata": {},
     "output_type": "display_data"
    },
    {
     "data": {
      "text/plain": [
       "{'name': '라저 댄 라이프 립 글로스 - 파리 폴리',\n",
       " 'url': 'http://www.narscosmetics.co.kr/on/demandware.store/Sites-KR-Site/en_KR/Product-Variation?pid=999NACLTLLG01&dwvar_999NACLTLLG01_color=7845013389',\n",
       " 'image': ['http://en.narscosmetics.co.kr/on/demandware.static/-/Sites-itemmaster_NARS/default/dw61ae4234/hi-res/0607845013389.jpg',\n",
       "  'http://en.narscosmetics.co.kr/on/demandware.static/-/Sites-itemmaster_NARS/default/dwa0dd2d32/alt1/0607845013389.jpg',\n",
       "  'http://en.narscosmetics.co.kr/on/demandware.static/Sites-KR-Site/-/en_KR/v1546225498151/images/noimageshadesmall.png'],\n",
       " 'salePrice': '₩ 36,000',\n",
       " 'originalPrice': '₩ 36,000',\n",
       " 'color': '파리 폴리',\n",
       " 'category': '',\n",
       " 'brand': '나스',\n",
       " 'volume': '#'}"
      ]
     },
     "metadata": {},
     "output_type": "display_data"
    },
    {
     "data": {
      "text/plain": [
       "<selenium.webdriver.remote.webelement.WebElement (session=\"ba51fcd1a1bc41dec611cca0306e5511\", element=\"0.8384058608289353-4\")>"
      ]
     },
     "metadata": {},
     "output_type": "display_data"
    },
    {
     "data": {
      "text/plain": [
       "{'name': '라저 댄 라이프 립 글로스',\n",
       " 'url': 'http://www.narscosmetics.co.kr/on/demandware.store/Sites-KR-Site/en_KR/Product-Variation?pid=999NACLTLLG01&dwvar_999NACLTLLG01_color=',\n",
       " 'image': ['http://en.narscosmetics.co.kr/on/demandware.static/-/Sites-itemmaster_NARS/default/dw5f23b3f9/hi-res/0607845013280.jpg',\n",
       "  'http://en.narscosmetics.co.kr/on/demandware.static/-/Sites-itemmaster_NARS/default/dw654cf26b/alt1/0607845013280.jpg',\n",
       "  'http://en.narscosmetics.co.kr/on/demandware.static/Sites-KR-Site/-/en_KR/v1546225498151/images/noimageshadesmall.png'],\n",
       " 'salePrice': '₩ 36,000',\n",
       " 'originalPrice': '₩ 36,000',\n",
       " 'color': '파리 폴리',\n",
       " 'category': '',\n",
       " 'brand': '나스',\n",
       " 'volume': '#'}"
      ]
     },
     "metadata": {},
     "output_type": "display_data"
    },
    {
     "data": {
      "text/plain": [
       "<selenium.webdriver.remote.webelement.WebElement (session=\"ba51fcd1a1bc41dec611cca0306e5511\", element=\"0.0356376953464268-4\")>"
      ]
     },
     "metadata": {},
     "output_type": "display_data"
    },
    {
     "data": {
      "text/plain": [
       "{'name': '라저 댄 라이프 립 글로스 - 아네 폴',\n",
       " 'url': 'http://www.narscosmetics.co.kr/on/demandware.store/Sites-KR-Site/en_KR/Product-Variation?pid=999NACLTLLG01&dwvar_999NACLTLLG01_color=7845013457',\n",
       " 'image': ['http://en.narscosmetics.co.kr/on/demandware.static/-/Sites-itemmaster_NARS/default/dwc0a424ce/hi-res/0607845013457.jpg',\n",
       "  'http://en.narscosmetics.co.kr/on/demandware.static/-/Sites-itemmaster_NARS/default/dwd192f28c/alt1/0607845013457.jpg',\n",
       "  'http://en.narscosmetics.co.kr/on/demandware.static/Sites-KR-Site/-/en_KR/v1546225498151/images/noimageshadesmall.png'],\n",
       " 'salePrice': '₩ 36,000',\n",
       " 'originalPrice': '₩ 36,000',\n",
       " 'color': '아네 폴',\n",
       " 'category': '',\n",
       " 'brand': '나스',\n",
       " 'volume': '#'}"
      ]
     },
     "metadata": {},
     "output_type": "display_data"
    },
    {
     "data": {
      "text/plain": [
       "<selenium.webdriver.remote.webelement.WebElement (session=\"ba51fcd1a1bc41dec611cca0306e5511\", element=\"0.2794345388671402-4\")>"
      ]
     },
     "metadata": {},
     "output_type": "display_data"
    },
    {
     "data": {
      "text/plain": [
       "{'name': '라저 댄 라이프 립 글로스 - 본 디스 웨이',\n",
       " 'url': 'http://www.narscosmetics.co.kr/on/demandware.store/Sites-KR-Site/en_KR/Product-Variation?pid=999NACLTLLG01&dwvar_999NACLTLLG01_color=7845013303',\n",
       " 'image': ['http://en.narscosmetics.co.kr/on/demandware.static/-/Sites-itemmaster_NARS/default/dw5e548ca1/hi-res/0607845013303.jpg',\n",
       "  'http://en.narscosmetics.co.kr/on/demandware.static/-/Sites-itemmaster_NARS/default/dwcd2b956d/alt1/0607845013303.jpg',\n",
       "  'http://en.narscosmetics.co.kr/on/demandware.static/Sites-KR-Site/-/en_KR/v1546225498151/images/noimageshadesmall.png'],\n",
       " 'salePrice': '₩ 36,000',\n",
       " 'originalPrice': '₩ 36,000',\n",
       " 'color': '본 디스 웨이',\n",
       " 'category': '',\n",
       " 'brand': '나스',\n",
       " 'volume': '#'}"
      ]
     },
     "metadata": {},
     "output_type": "display_data"
    },
    {
     "data": {
      "text/plain": [
       "<selenium.webdriver.remote.webelement.WebElement (session=\"ba51fcd1a1bc41dec611cca0306e5511\", element=\"0.27113240820195483-4\")>"
      ]
     },
     "metadata": {},
     "output_type": "display_data"
    },
    {
     "data": {
      "text/plain": [
       "{'name': '라저 댄 라이프 립 글로스 - 꾀흐 수끄레',\n",
       " 'url': 'http://www.narscosmetics.co.kr/on/demandware.store/Sites-KR-Site/en_KR/Product-Variation?pid=999NACLTLLG01&dwvar_999NACLTLLG01_color=7845013297',\n",
       " 'image': ['http://en.narscosmetics.co.kr/on/demandware.static/-/Sites-itemmaster_NARS/default/dw3beb3ac6/hi-res/0607845013297.jpg',\n",
       "  'http://en.narscosmetics.co.kr/on/demandware.static/-/Sites-itemmaster_NARS/default/dw1275ea09/alt1/0607845013297.jpg',\n",
       "  'http://en.narscosmetics.co.kr/on/demandware.static/Sites-KR-Site/-/en_KR/v1546225498151/images/noimageshadesmall.png'],\n",
       " 'salePrice': '₩ 36,000',\n",
       " 'originalPrice': '₩ 36,000',\n",
       " 'color': '꾀흐 수끄레',\n",
       " 'category': '',\n",
       " 'brand': '나스',\n",
       " 'volume': '#'}"
      ]
     },
     "metadata": {},
     "output_type": "display_data"
    },
    {
     "data": {
      "text/plain": [
       "<selenium.webdriver.remote.webelement.WebElement (session=\"ba51fcd1a1bc41dec611cca0306e5511\", element=\"0.2192699459203673-4\")>"
      ]
     },
     "metadata": {},
     "output_type": "display_data"
    },
    {
     "data": {
      "text/plain": [
       "{'name': '라저 댄 라이프 립 글로스 - 코모',\n",
       " 'url': 'http://www.narscosmetics.co.kr/on/demandware.store/Sites-KR-Site/en_KR/Product-Variation?pid=999NACLTLLG01&dwvar_999NACLTLLG01_color=7845013242',\n",
       " 'image': ['http://en.narscosmetics.co.kr/on/demandware.static/-/Sites-itemmaster_NARS/default/dwd76382ab/hi-res/0607845013242.jpg',\n",
       "  'http://en.narscosmetics.co.kr/on/demandware.static/-/Sites-itemmaster_NARS/default/dw8526c761/alt1/0607845013242.jpg',\n",
       "  'http://en.narscosmetics.co.kr/on/demandware.static/Sites-KR-Site/-/en_KR/v1546225498151/images/noimageshadesmall.png'],\n",
       " 'salePrice': '₩ 36,000',\n",
       " 'originalPrice': '₩ 36,000',\n",
       " 'color': '코모',\n",
       " 'category': '',\n",
       " 'brand': '나스',\n",
       " 'volume': '#'}"
      ]
     },
     "metadata": {},
     "output_type": "display_data"
    },
    {
     "data": {
      "text/plain": [
       "<selenium.webdriver.remote.webelement.WebElement (session=\"ba51fcd1a1bc41dec611cca0306e5511\", element=\"0.17431753590883248-4\")>"
      ]
     },
     "metadata": {},
     "output_type": "display_data"
    },
    {
     "data": {
      "text/plain": [
       "{'name': '라저 댄 라이프 립 글로스 - 골드 디거',\n",
       " 'url': 'http://www.narscosmetics.co.kr/on/demandware.store/Sites-KR-Site/en_KR/Product-Variation?pid=999NACLTLLG01&dwvar_999NACLTLLG01_color=7845013280',\n",
       " 'image': ['http://en.narscosmetics.co.kr/on/demandware.static/-/Sites-itemmaster_NARS/default/dw5f23b3f9/hi-res/0607845013280.jpg',\n",
       "  'http://en.narscosmetics.co.kr/on/demandware.static/-/Sites-itemmaster_NARS/default/dw654cf26b/alt1/0607845013280.jpg',\n",
       "  'http://en.narscosmetics.co.kr/on/demandware.static/Sites-KR-Site/-/en_KR/v1546225498151/images/noimageshadesmall.png'],\n",
       " 'salePrice': '₩ 36,000',\n",
       " 'originalPrice': '₩ 36,000',\n",
       " 'color': '골드 디거',\n",
       " 'category': '',\n",
       " 'brand': '나스',\n",
       " 'volume': '#'}"
      ]
     },
     "metadata": {},
     "output_type": "display_data"
    },
    {
     "data": {
      "text/plain": [
       "<selenium.webdriver.remote.webelement.WebElement (session=\"ba51fcd1a1bc41dec611cca0306e5511\", element=\"0.967198140333305-4\")>"
      ]
     },
     "metadata": {},
     "output_type": "display_data"
    },
    {
     "data": {
      "text/plain": [
       "{'name': '라저 댄 라이프 립 글로스 - 노르마',\n",
       " 'url': 'http://www.narscosmetics.co.kr/on/demandware.store/Sites-KR-Site/en_KR/Product-Variation?pid=999NACLTLLG01&dwvar_999NACLTLLG01_color=7845013266',\n",
       " 'image': ['http://en.narscosmetics.co.kr/on/demandware.static/-/Sites-itemmaster_NARS/default/dwfbe547d6/hi-res/0607845013266.jpg',\n",
       "  'http://en.narscosmetics.co.kr/on/demandware.static/-/Sites-itemmaster_NARS/default/dw80b951c7/alt1/0607845013266.jpg',\n",
       "  'http://en.narscosmetics.co.kr/on/demandware.static/Sites-KR-Site/-/en_KR/v1546225498151/images/noimageshadesmall.png'],\n",
       " 'salePrice': '₩ 36,000',\n",
       " 'originalPrice': '₩ 36,000',\n",
       " 'color': '노르마',\n",
       " 'category': '',\n",
       " 'brand': '나스',\n",
       " 'volume': '#'}"
      ]
     },
     "metadata": {},
     "output_type": "display_data"
    },
    {
     "data": {
      "text/plain": [
       "<selenium.webdriver.remote.webelement.WebElement (session=\"ba51fcd1a1bc41dec611cca0306e5511\", element=\"0.8789385651237003-4\")>"
      ]
     },
     "metadata": {},
     "output_type": "display_data"
    },
    {
     "data": {
      "text/plain": [
       "{'name': '라저 댄 라이프 립 글로스 - 피레',\n",
       " 'url': 'http://www.narscosmetics.co.kr/on/demandware.store/Sites-KR-Site/en_KR/Product-Variation?pid=999NACLTLLG01&dwvar_999NACLTLLG01_color=7845013228',\n",
       " 'image': ['http://en.narscosmetics.co.kr/on/demandware.static/-/Sites-itemmaster_NARS/default/dw7e387de9/hi-res/0607845013228.jpg',\n",
       "  'http://en.narscosmetics.co.kr/on/demandware.static/-/Sites-itemmaster_NARS/default/dw695371e6/alt1/0607845013228.jpg',\n",
       "  'http://en.narscosmetics.co.kr/on/demandware.static/Sites-KR-Site/-/en_KR/v1546225498151/images/noimageshadesmall.png'],\n",
       " 'salePrice': '₩ 36,000',\n",
       " 'originalPrice': '₩ 36,000',\n",
       " 'color': '피레',\n",
       " 'category': '',\n",
       " 'brand': '나스',\n",
       " 'volume': '#'}"
      ]
     },
     "metadata": {},
     "output_type": "display_data"
    },
    {
     "data": {
      "text/plain": [
       "<selenium.webdriver.remote.webelement.WebElement (session=\"ba51fcd1a1bc41dec611cca0306e5511\", element=\"0.6821070300993826-4\")>"
      ]
     },
     "metadata": {},
     "output_type": "display_data"
    },
    {
     "data": {
      "text/plain": [
       "{'name': '라저 댄 라이프 립 글로스 - 플레이스 방돔',\n",
       " 'url': 'http://www.narscosmetics.co.kr/on/demandware.store/Sites-KR-Site/en_KR/Product-Variation?pid=999NACLTLLG01&dwvar_999NACLTLLG01_color=7845013259',\n",
       " 'image': ['http://en.narscosmetics.co.kr/on/demandware.static/-/Sites-itemmaster_NARS/default/dw8ff06345/hi-res/0607845013259.jpg',\n",
       "  'http://en.narscosmetics.co.kr/on/demandware.static/-/Sites-itemmaster_NARS/default/dw4fdce652/alt1/0607845013259.jpg',\n",
       "  'http://en.narscosmetics.co.kr/on/demandware.static/Sites-KR-Site/-/en_KR/v1546225498151/images/noimageshadesmall.png'],\n",
       " 'salePrice': '₩ 36,000',\n",
       " 'originalPrice': '₩ 36,000',\n",
       " 'color': '플레이스 방돔',\n",
       " 'category': '',\n",
       " 'brand': '나스',\n",
       " 'volume': '#'}"
      ]
     },
     "metadata": {},
     "output_type": "display_data"
    },
    {
     "data": {
      "text/plain": [
       "<selenium.webdriver.remote.webelement.WebElement (session=\"ba51fcd1a1bc41dec611cca0306e5511\", element=\"0.43997430880399757-4\")>"
      ]
     },
     "metadata": {},
     "output_type": "display_data"
    },
    {
     "data": {
      "text/plain": [
       "{'name': '라저 댄 라이프 립 글로스 - 루즈 트리발',\n",
       " 'url': 'http://www.narscosmetics.co.kr/on/demandware.store/Sites-KR-Site/en_KR/Product-Variation?pid=999NACLTLLG01&dwvar_999NACLTLLG01_color=7845013310',\n",
       " 'image': ['http://en.narscosmetics.co.kr/on/demandware.static/-/Sites-itemmaster_NARS/default/dw8a8147f5/hi-res/0607845013310.jpg',\n",
       "  'http://en.narscosmetics.co.kr/on/demandware.static/-/Sites-itemmaster_NARS/default/dw66959ce9/alt1/0607845013310.jpg',\n",
       "  'http://en.narscosmetics.co.kr/on/demandware.static/Sites-KR-Site/-/en_KR/v1546225498151/images/noimageshadesmall.png'],\n",
       " 'salePrice': '₩ 36,000',\n",
       " 'originalPrice': '₩ 36,000',\n",
       " 'color': '루즈 트리발',\n",
       " 'category': '',\n",
       " 'brand': '나스',\n",
       " 'volume': '#'}"
      ]
     },
     "metadata": {},
     "output_type": "display_data"
    },
    {
     "data": {
      "text/plain": [
       "<selenium.webdriver.remote.webelement.WebElement (session=\"ba51fcd1a1bc41dec611cca0306e5511\", element=\"0.9771721571356431-4\")>"
      ]
     },
     "metadata": {},
     "output_type": "display_data"
    },
    {
     "data": {
      "text/plain": [
       "{'name': '라저 댄 라이프 립 글로스 - 티베르',\n",
       " 'url': 'http://www.narscosmetics.co.kr/on/demandware.store/Sites-KR-Site/en_KR/Product-Variation?pid=999NACLTLLG01&dwvar_999NACLTLLG01_color=7845013235',\n",
       " 'image': ['http://en.narscosmetics.co.kr/on/demandware.static/-/Sites-itemmaster_NARS/default/dw79e8994e/hi-res/0607845013235.jpg',\n",
       "  'http://en.narscosmetics.co.kr/on/demandware.static/-/Sites-itemmaster_NARS/default/dw1d64f0fc/alt1/0607845013235.jpg',\n",
       "  'http://en.narscosmetics.co.kr/on/demandware.static/Sites-KR-Site/-/en_KR/v1546225498151/images/noimageshadesmall.png'],\n",
       " 'salePrice': '₩ 36,000',\n",
       " 'originalPrice': '₩ 36,000',\n",
       " 'color': '티베르',\n",
       " 'category': '',\n",
       " 'brand': '나스',\n",
       " 'volume': '#'}"
      ]
     },
     "metadata": {},
     "output_type": "display_data"
    },
    {
     "data": {
      "text/plain": [
       "<selenium.webdriver.remote.webelement.WebElement (session=\"ba51fcd1a1bc41dec611cca0306e5511\", element=\"0.26496160282331793-4\")>"
      ]
     },
     "metadata": {},
     "output_type": "display_data"
    },
    {
     "data": {
      "text/plain": [
       "{'name': '퓨어 매트 립스틱',\n",
       " 'url': 'http://www.narscosmetics.co.kr/on/demandware.store/Sites-KR-Site/en_KR/Product-Variation?pid=999NACPRMLS01&dwvar_999NACPRMLS01_color=',\n",
       " 'image': ['http://en.narscosmetics.co.kr/on/demandware.static/-/Sites-itemmaster_NARS/default/dw3f958845/hi-res/0607845035220.jpg',\n",
       "  'http://en.narscosmetics.co.kr/on/demandware.static/-/Sites-itemmaster_NARS/default/dw3616f470/alt1/0607845035220.jpg',\n",
       "  'http://en.narscosmetics.co.kr/on/demandware.static/Sites-KR-Site/-/en_KR/v1546225498151/images/noimageshadesmall.png'],\n",
       " 'salePrice': '₩ 37,000',\n",
       " 'originalPrice': '₩ 37,000',\n",
       " 'color': '암스테르담',\n",
       " 'category': '',\n",
       " 'brand': '나스',\n",
       " 'volume': '#'}"
      ]
     },
     "metadata": {},
     "output_type": "display_data"
    },
    {
     "data": {
      "text/plain": [
       "<selenium.webdriver.remote.webelement.WebElement (session=\"ba51fcd1a1bc41dec611cca0306e5511\", element=\"0.6543178242193755-4\")>"
      ]
     },
     "metadata": {},
     "output_type": "display_data"
    },
    {
     "data": {
      "text/plain": [
       "{'name': '퓨어 매트 립스틱 - 카르타쥬',\n",
       " 'url': 'http://www.narscosmetics.co.kr/on/demandware.store/Sites-KR-Site/en_KR/Product-Variation?pid=999NACPRMLS01&dwvar_999NACPRMLS01_color=7845035091',\n",
       " 'image': ['http://en.narscosmetics.co.kr/on/demandware.static/-/Sites-itemmaster_NARS/default/dwa414253d/hi-res/0607845035091.jpg',\n",
       "  'http://en.narscosmetics.co.kr/on/demandware.static/-/Sites-itemmaster_NARS/default/dw3bda3432/alt1/0607845035091.jpg',\n",
       "  'http://en.narscosmetics.co.kr/on/demandware.static/Sites-KR-Site/-/en_KR/v1546225498151/images/noimageshadesmall.png'],\n",
       " 'salePrice': '₩ 37,000',\n",
       " 'originalPrice': '₩ 37,000',\n",
       " 'color': '카르타쥬',\n",
       " 'category': '',\n",
       " 'brand': '나스',\n",
       " 'volume': '#'}"
      ]
     },
     "metadata": {},
     "output_type": "display_data"
    },
    {
     "data": {
      "text/plain": [
       "<selenium.webdriver.remote.webelement.WebElement (session=\"ba51fcd1a1bc41dec611cca0306e5511\", element=\"0.8213491192609137-4\")>"
      ]
     },
     "metadata": {},
     "output_type": "display_data"
    },
    {
     "data": {
      "text/plain": [
       "{'name': '퓨어 매트 립스틱 - 마데르',\n",
       " 'url': 'http://www.narscosmetics.co.kr/on/demandware.store/Sites-KR-Site/en_KR/Product-Variation?pid=999NACPRMLS01&dwvar_999NACPRMLS01_color=7845035084',\n",
       " 'image': ['http://en.narscosmetics.co.kr/on/demandware.static/-/Sites-itemmaster_NARS/default/dw2de901b2/hi-res/0607845035084.jpg',\n",
       "  'http://en.narscosmetics.co.kr/on/demandware.static/-/Sites-itemmaster_NARS/default/dw8cbf281e/alt1/0607845035084.jpg',\n",
       "  'http://en.narscosmetics.co.kr/on/demandware.static/Sites-KR-Site/-/en_KR/v1546225498151/images/noimageshadesmall.png'],\n",
       " 'salePrice': '₩ 37,000',\n",
       " 'originalPrice': '₩ 37,000',\n",
       " 'color': '마데르',\n",
       " 'category': '',\n",
       " 'brand': '나스',\n",
       " 'volume': '#'}"
      ]
     },
     "metadata": {},
     "output_type": "display_data"
    },
    {
     "data": {
      "text/plain": [
       "<selenium.webdriver.remote.webelement.WebElement (session=\"ba51fcd1a1bc41dec611cca0306e5511\", element=\"0.8416025005308558-4\")>"
      ]
     },
     "metadata": {},
     "output_type": "display_data"
    },
    {
     "data": {
      "text/plain": [
       "{'name': '퓨어 매트 립스틱 - 몬테고 베이',\n",
       " 'url': 'http://www.narscosmetics.co.kr/on/demandware.store/Sites-KR-Site/en_KR/Product-Variation?pid=999NACPRMLS01&dwvar_999NACPRMLS01_color=7845035121',\n",
       " 'image': ['http://en.narscosmetics.co.kr/on/demandware.static/-/Sites-itemmaster_NARS/default/dw57af156d/hi-res/0607845035121.jpg',\n",
       "  'http://en.narscosmetics.co.kr/on/demandware.static/-/Sites-itemmaster_NARS/default/dw2f79746f/alt1/0607845035121.jpg',\n",
       "  'http://en.narscosmetics.co.kr/on/demandware.static/Sites-KR-Site/-/en_KR/v1546225498151/images/noimageshadesmall.png'],\n",
       " 'salePrice': '₩ 37,000',\n",
       " 'originalPrice': '₩ 37,000',\n",
       " 'color': '몬테고 베이',\n",
       " 'category': '',\n",
       " 'brand': '나스',\n",
       " 'volume': '#'}"
      ]
     },
     "metadata": {},
     "output_type": "display_data"
    },
    {
     "data": {
      "text/plain": [
       "<selenium.webdriver.remote.webelement.WebElement (session=\"ba51fcd1a1bc41dec611cca0306e5511\", element=\"0.23580845802697237-4\")>"
      ]
     },
     "metadata": {},
     "output_type": "display_data"
    },
    {
     "data": {
      "text/plain": [
       "{'name': '퓨어 매트 립스틱 - 모스크바',\n",
       " 'url': 'http://www.narscosmetics.co.kr/on/demandware.store/Sites-KR-Site/en_KR/Product-Variation?pid=999NACPRMLS01&dwvar_999NACPRMLS01_color=7845035145',\n",
       " 'image': ['http://en.narscosmetics.co.kr/on/demandware.static/-/Sites-itemmaster_NARS/default/dw13ee339f/hi-res/0607845035145.jpg',\n",
       "  'http://en.narscosmetics.co.kr/on/demandware.static/-/Sites-itemmaster_NARS/default/dw7ac0539e/alt1/0607845035145.jpg',\n",
       "  'http://en.narscosmetics.co.kr/on/demandware.static/Sites-KR-Site/-/en_KR/v1546225498151/images/noimageshadesmall.png'],\n",
       " 'salePrice': '₩ 37,000',\n",
       " 'originalPrice': '₩ 37,000',\n",
       " 'color': '모스크바',\n",
       " 'category': '',\n",
       " 'brand': '나스',\n",
       " 'volume': '#'}"
      ]
     },
     "metadata": {},
     "output_type": "display_data"
    },
    {
     "data": {
      "text/plain": [
       "<selenium.webdriver.remote.webelement.WebElement (session=\"ba51fcd1a1bc41dec611cca0306e5511\", element=\"0.451224622724429-4\")>"
      ]
     },
     "metadata": {},
     "output_type": "display_data"
    },
    {
     "data": {
      "text/plain": [
       "{'name': '퓨어 매트 립스틱 - 통킨',\n",
       " 'url': 'http://www.narscosmetics.co.kr/on/demandware.store/Sites-KR-Site/en_KR/Product-Variation?pid=999NACPRMLS01&dwvar_999NACPRMLS01_color=7845035039',\n",
       " 'image': ['http://en.narscosmetics.co.kr/on/demandware.static/-/Sites-itemmaster_NARS/default/dwc3de3afe/hi-res/0607845035039.jpg',\n",
       "  'http://en.narscosmetics.co.kr/on/demandware.static/-/Sites-itemmaster_NARS/default/dw86250400/alt1/0607845035039.jpg',\n",
       "  'http://en.narscosmetics.co.kr/on/demandware.static/Sites-KR-Site/-/en_KR/v1546225498151/images/noimageshadesmall.png'],\n",
       " 'salePrice': '₩ 37,000',\n",
       " 'originalPrice': '₩ 37,000',\n",
       " 'color': '통킨',\n",
       " 'category': '',\n",
       " 'brand': '나스',\n",
       " 'volume': '#'}"
      ]
     },
     "metadata": {},
     "output_type": "display_data"
    },
    {
     "data": {
      "text/plain": [
       "<selenium.webdriver.remote.webelement.WebElement (session=\"ba51fcd1a1bc41dec611cca0306e5511\", element=\"0.11519889539397798-4\")>"
      ]
     },
     "metadata": {},
     "output_type": "display_data"
    },
    {
     "data": {
      "text/plain": [
       "{'name': '퓨어 매트 립스틱 - 베수비오',\n",
       " 'url': 'http://www.narscosmetics.co.kr/on/demandware.store/Sites-KR-Site/en_KR/Product-Variation?pid=999NACPRMLS01&dwvar_999NACPRMLS01_color=7845035060',\n",
       " 'image': ['http://en.narscosmetics.co.kr/on/demandware.static/-/Sites-itemmaster_NARS/default/dw50000cff/hi-res/0607845035060.jpg',\n",
       "  'http://en.narscosmetics.co.kr/on/demandware.static/-/Sites-itemmaster_NARS/default/dwed519a59/alt1/0607845035060.jpg',\n",
       "  'http://en.narscosmetics.co.kr/on/demandware.static/Sites-KR-Site/-/en_KR/v1546225498151/images/noimageshadesmall.png'],\n",
       " 'salePrice': '₩ 37,000',\n",
       " 'originalPrice': '₩ 37,000',\n",
       " 'color': '베수비오',\n",
       " 'category': '',\n",
       " 'brand': '나스',\n",
       " 'volume': '#'}"
      ]
     },
     "metadata": {},
     "output_type": "display_data"
    },
    {
     "data": {
      "text/plain": [
       "<selenium.webdriver.remote.webelement.WebElement (session=\"ba51fcd1a1bc41dec611cca0306e5511\", element=\"0.44256553737160886-4\")>"
      ]
     },
     "metadata": {},
     "output_type": "display_data"
    },
    {
     "data": {
      "text/plain": [
       "{'name': '퓨어 매트 립스틱 - 볼가',\n",
       " 'url': 'http://www.narscosmetics.co.kr/on/demandware.store/Sites-KR-Site/en_KR/Product-Variation?pid=999NACPRMLS01&dwvar_999NACPRMLS01_color=7845035015',\n",
       " 'image': ['http://en.narscosmetics.co.kr/on/demandware.static/-/Sites-itemmaster_NARS/default/dw78352174/hi-res/0607845035015.jpg',\n",
       "  'http://en.narscosmetics.co.kr/on/demandware.static/-/Sites-itemmaster_NARS/default/dwcafc3e9a/alt1/0607845035015.jpg',\n",
       "  'http://en.narscosmetics.co.kr/on/demandware.static/Sites-KR-Site/-/en_KR/v1546225498151/images/noimageshadesmall.png'],\n",
       " 'salePrice': '₩ 37,000',\n",
       " 'originalPrice': '₩ 37,000',\n",
       " 'color': '볼가',\n",
       " 'category': '',\n",
       " 'brand': '나스',\n",
       " 'volume': '#'}"
      ]
     },
     "metadata": {},
     "output_type": "display_data"
    },
    {
     "data": {
      "text/plain": [
       "<selenium.webdriver.remote.webelement.WebElement (session=\"ba51fcd1a1bc41dec611cca0306e5511\", element=\"0.3045464437537959-1\")>"
      ]
     },
     "metadata": {},
     "output_type": "display_data"
    },
    {
     "data": {
      "text/plain": [
       "{'name': '스파이크드 어데이셔스 립스틱',\n",
       " 'url': 'http://www.narscosmetics.co.kr/on/demandware.store/Sites-KR-Site/en_KR/Product-Variation?pid=999NAC00201802&dwvar_999NAC00201802_color=',\n",
       " 'image': ['http://en.narscosmetics.co.kr/on/demandware.static/-/Sites-itemmaster_NARS/default/dw724c6e7e/hi-res/0607845028581.jpg'],\n",
       " 'salePrice': '₩ 41,000',\n",
       " 'originalPrice': '₩ 41,000',\n",
       " 'color': '수지',\n",
       " 'category': '',\n",
       " 'brand': '나스',\n",
       " 'volume': '#'}"
      ]
     },
     "metadata": {},
     "output_type": "display_data"
    },
    {
     "data": {
      "text/plain": [
       "<selenium.webdriver.remote.webelement.WebElement (session=\"ba51fcd1a1bc41dec611cca0306e5511\", element=\"0.20237337813192546-1\")>"
      ]
     },
     "metadata": {},
     "output_type": "display_data"
    },
    {
     "data": {
      "text/plain": [
       "{'name': '스파이크드 어데이셔스 립스틱',\n",
       " 'url': 'http://www.narscosmetics.co.kr/on/demandware.store/Sites-KR-Site/en_KR/Product-Variation?pid=999NAC00201802&dwvar_999NAC00201802_color=Deep%20Plum',\n",
       " 'image': ['http://en.narscosmetics.co.kr/on/demandware.static/-/Sites-itemmaster_NARS/default/dw724c6e7e/hi-res/0607845028581.jpg',\n",
       "  'http://en.narscosmetics.co.kr/on/demandware.static/-/Sites-itemmaster_NARS/default/dw89aeac54/hi-res/0607845028598.jpg'],\n",
       " 'salePrice': '₩ 41,000',\n",
       " 'originalPrice': '₩ 41,000',\n",
       " 'color': '낸시',\n",
       " 'category': '',\n",
       " 'brand': '나스',\n",
       " 'volume': '#'}"
      ]
     },
     "metadata": {},
     "output_type": "display_data"
    },
    {
     "data": {
      "text/plain": [
       "<selenium.webdriver.remote.webelement.WebElement (session=\"ba51fcd1a1bc41dec611cca0306e5511\", element=\"0.7216577848606038-1\")>"
      ]
     },
     "metadata": {},
     "output_type": "display_data"
    },
    {
     "data": {
      "text/plain": [
       "{'name': '스파이크드 어데이셔스 립스틱',\n",
       " 'url': 'http://www.narscosmetics.co.kr/on/demandware.store/Sites-KR-Site/en_KR/Product-Variation?pid=999NAC00201802&dwvar_999NAC00201802_color=Burnt%20Coral%20Nude',\n",
       " 'image': ['http://en.narscosmetics.co.kr/on/demandware.static/-/Sites-itemmaster_NARS/default/dw724c6e7e/hi-res/0607845028581.jpg',\n",
       "  'http://en.narscosmetics.co.kr/on/demandware.static/-/Sites-itemmaster_NARS/default/dw89aeac54/hi-res/0607845028598.jpg',\n",
       "  'http://en.narscosmetics.co.kr/on/demandware.static/-/Sites-itemmaster_NARS/default/dwbd30b426/hi-res/0607845028611.jpg'],\n",
       " 'salePrice': '₩ 41,000',\n",
       " 'originalPrice': '₩ 41,000',\n",
       " 'color': '쉬나',\n",
       " 'category': '',\n",
       " 'brand': '나스',\n",
       " 'volume': '#'}"
      ]
     },
     "metadata": {},
     "output_type": "display_data"
    },
    {
     "data": {
      "text/plain": [
       "<selenium.webdriver.remote.webelement.WebElement (session=\"ba51fcd1a1bc41dec611cca0306e5511\", element=\"0.2872329653564092-3\")>"
      ]
     },
     "metadata": {},
     "output_type": "display_data"
    },
    {
     "data": {
      "text/plain": [
       "{'name': '립커버 - 앙브라스 므와',\n",
       " 'url': 'http://www.narscosmetics.co.kr/on/demandware.store/Sites-KR-Site/en_KR/Product-Variation?pid=999NAC0000036&dwvar_999NAC0000036_color=7845056904',\n",
       " 'image': ['http://en.narscosmetics.co.kr/on/demandware.static/-/Sites-itemmaster_NARS/default/dwb8921291/hi-res/0607845056904.jpg',\n",
       "  'http://en.narscosmetics.co.kr/on/demandware.static/-/Sites-itemmaster_NARS/default/dw57c389cf/swatch/0607845056904.jpg'],\n",
       " 'salePrice': '₩ 38,000',\n",
       " 'originalPrice': '₩ 38,000',\n",
       " 'color': '앙브라스 므와',\n",
       " 'category': '',\n",
       " 'brand': '나스',\n",
       " 'volume': '#'}"
      ]
     },
     "metadata": {},
     "output_type": "display_data"
    },
    {
     "data": {
      "text/plain": [
       "<selenium.webdriver.remote.webelement.WebElement (session=\"ba51fcd1a1bc41dec611cca0306e5511\", element=\"0.13850382082871704-3\")>"
      ]
     },
     "metadata": {},
     "output_type": "display_data"
    },
    {
     "data": {
      "text/plain": [
       "{'name': '립커버 - 헬 게이트',\n",
       " 'url': 'http://www.narscosmetics.co.kr/on/demandware.store/Sites-KR-Site/en_KR/Product-Variation?pid=999NAC0000036&dwvar_999NAC0000036_color=7845056935',\n",
       " 'image': ['http://en.narscosmetics.co.kr/on/demandware.static/-/Sites-itemmaster_NARS/default/dwcc7c1ff1/hi-res/0607845056935.jpg',\n",
       "  'http://en.narscosmetics.co.kr/on/demandware.static/-/Sites-itemmaster_NARS/default/dw74f4ef86/swatch/0607845056935.jpg'],\n",
       " 'salePrice': '₩ 38,000',\n",
       " 'originalPrice': '₩ 38,000',\n",
       " 'color': '헬 게이트',\n",
       " 'category': '',\n",
       " 'brand': '나스',\n",
       " 'volume': '#'}"
      ]
     },
     "metadata": {},
     "output_type": "display_data"
    },
    {
     "data": {
      "text/plain": [
       "<selenium.webdriver.remote.webelement.WebElement (session=\"ba51fcd1a1bc41dec611cca0306e5511\", element=\"0.8940268157693647-3\")>"
      ]
     },
     "metadata": {},
     "output_type": "display_data"
    },
    {
     "data": {
      "text/plain": [
       "{'name': '립커버 - 썸머 파이어',\n",
       " 'url': 'http://www.narscosmetics.co.kr/on/demandware.store/Sites-KR-Site/en_KR/Product-Variation?pid=999NAC0000036&dwvar_999NAC0000036_color=7845056928',\n",
       " 'image': ['http://en.narscosmetics.co.kr/on/demandware.static/-/Sites-itemmaster_NARS/default/dw1c945d44/hi-res/0607845056928.jpg',\n",
       "  'http://en.narscosmetics.co.kr/on/demandware.static/-/Sites-itemmaster_NARS/default/dw029d0acf/swatch/0607845056928.jpg'],\n",
       " 'salePrice': '₩ 38,000',\n",
       " 'originalPrice': '₩ 38,000',\n",
       " 'color': '썸머 파이어',\n",
       " 'category': '',\n",
       " 'brand': '나스',\n",
       " 'volume': '#'}"
      ]
     },
     "metadata": {},
     "output_type": "display_data"
    },
    {
     "data": {
      "text/plain": [
       "<selenium.webdriver.remote.webelement.WebElement (session=\"ba51fcd1a1bc41dec611cca0306e5511\", element=\"0.6103062093643015-3\")>"
      ]
     },
     "metadata": {},
     "output_type": "display_data"
    },
    {
     "data": {
      "text/plain": [
       "{'name': '립커버',\n",
       " 'url': 'http://www.narscosmetics.co.kr/on/demandware.store/Sites-KR-Site/en_KR/Product-Variation?pid=999NAC0000036&dwvar_999NAC0000036_color=',\n",
       " 'image': ['http://en.narscosmetics.co.kr/on/demandware.static/-/Sites-itemmaster_NARS/default/dwb8921291/hi-res/0607845056904.jpg',\n",
       "  'http://en.narscosmetics.co.kr/on/demandware.static/-/Sites-itemmaster_NARS/default/dw57c389cf/swatch/0607845056904.jpg'],\n",
       " 'salePrice': '₩ 38,000',\n",
       " 'originalPrice': '₩ 38,000',\n",
       " 'color': '앙브라스 므와',\n",
       " 'category': '',\n",
       " 'brand': '나스',\n",
       " 'volume': '#'}"
      ]
     },
     "metadata": {},
     "output_type": "display_data"
    },
    {
     "data": {
      "text/plain": [
       "<selenium.webdriver.remote.webelement.WebElement (session=\"ba51fcd1a1bc41dec611cca0306e5511\", element=\"0.1627534905096797-3\")>"
      ]
     },
     "metadata": {},
     "output_type": "display_data"
    },
    {
     "data": {
      "text/plain": [
       "{'name': '파워매트 립 피그먼트 - 아메리칸 우먼',\n",
       " 'url': 'http://www.narscosmetics.co.kr/on/demandware.store/Sites-KR-Site/en_KR/Product-Variation?pid=999NAC0000053&dwvar_999NAC0000053_color=7845027720',\n",
       " 'image': ['http://en.narscosmetics.co.kr/on/demandware.static/-/Sites-itemmaster_NARS/default/dwba0ddabc/hi-res/0607845027720.jpg',\n",
       "  'http://en.narscosmetics.co.kr/on/demandware.static/-/Sites-itemmaster_NARS/default/dwe4a213e0/swatch/0607845027720.jpg'],\n",
       " 'salePrice': '₩ 37,000',\n",
       " 'originalPrice': '₩ 37,000',\n",
       " 'color': '아메리칸 우먼',\n",
       " 'category': '',\n",
       " 'brand': '나스',\n",
       " 'volume': '#'}"
      ]
     },
     "metadata": {},
     "output_type": "display_data"
    },
    {
     "data": {
      "text/plain": [
       "<selenium.webdriver.remote.webelement.WebElement (session=\"ba51fcd1a1bc41dec611cca0306e5511\", element=\"0.5048007814276774-3\")>"
      ]
     },
     "metadata": {},
     "output_type": "display_data"
    },
    {
     "data": {
      "text/plain": [
       "{'name': '파워매트 립 피그먼트 - 콜 미',\n",
       " 'url': 'http://www.narscosmetics.co.kr/on/demandware.store/Sites-KR-Site/en_KR/Product-Variation?pid=999NAC0000053&dwvar_999NAC0000053_color=7845027843',\n",
       " 'image': ['http://en.narscosmetics.co.kr/on/demandware.static/-/Sites-itemmaster_NARS/default/dwfadff468/hi-res/0607845027843.jpg',\n",
       "  'http://en.narscosmetics.co.kr/on/demandware.static/-/Sites-itemmaster_NARS/default/dw94ee6748/swatch/0607845027843.jpg'],\n",
       " 'salePrice': '₩ 37,000',\n",
       " 'originalPrice': '₩ 37,000',\n",
       " 'color': '콜 미',\n",
       " 'category': '',\n",
       " 'brand': '나스',\n",
       " 'volume': '#'}"
      ]
     },
     "metadata": {},
     "output_type": "display_data"
    },
    {
     "data": {
      "text/plain": [
       "<selenium.webdriver.remote.webelement.WebElement (session=\"ba51fcd1a1bc41dec611cca0306e5511\", element=\"0.22891443237315956-3\")>"
      ]
     },
     "metadata": {},
     "output_type": "display_data"
    },
    {
     "data": {
      "text/plain": [
       "{'name': '파워매트 립 피그먼트 - 던 잇 어게인',\n",
       " 'url': 'http://www.narscosmetics.co.kr/on/demandware.store/Sites-KR-Site/en_KR/Product-Variation?pid=999NAC0000053&dwvar_999NAC0000053_color=7845027751',\n",
       " 'image': ['http://en.narscosmetics.co.kr/on/demandware.static/-/Sites-itemmaster_NARS/default/dw7443f4cb/hi-res/0607845027751.jpg',\n",
       "  'http://en.narscosmetics.co.kr/on/demandware.static/-/Sites-itemmaster_NARS/default/dw6dcbe7cc/swatch/0607845027751.jpg'],\n",
       " 'salePrice': '₩ 37,000',\n",
       " 'originalPrice': '₩ 37,000',\n",
       " 'color': '던 잇 어게인',\n",
       " 'category': '',\n",
       " 'brand': '나스',\n",
       " 'volume': '#'}"
      ]
     },
     "metadata": {},
     "output_type": "display_data"
    },
    {
     "data": {
      "text/plain": [
       "<selenium.webdriver.remote.webelement.WebElement (session=\"ba51fcd1a1bc41dec611cca0306e5511\", element=\"0.6219618689079387-3\")>"
      ]
     },
     "metadata": {},
     "output_type": "display_data"
    },
    {
     "data": {
      "text/plain": [
       "{'name': '파워매트 립 피그먼트 - 돈 스탑',\n",
       " 'url': 'http://www.narscosmetics.co.kr/on/demandware.store/Sites-KR-Site/en_KR/Product-Variation?pid=999NAC0000053&dwvar_999NAC0000053_color=7845027713',\n",
       " 'image': ['http://en.narscosmetics.co.kr/on/demandware.static/-/Sites-itemmaster_NARS/default/dw3ae3b5de/hi-res/0607845027713.jpg',\n",
       "  'http://en.narscosmetics.co.kr/on/demandware.static/-/Sites-itemmaster_NARS/default/dwff9d37a1/swatch/0607845027713.jpg'],\n",
       " 'salePrice': '₩ 37,000',\n",
       " 'originalPrice': '₩ 37,000',\n",
       " 'color': '돈 스탑',\n",
       " 'category': '',\n",
       " 'brand': '나스',\n",
       " 'volume': '#'}"
      ]
     },
     "metadata": {},
     "output_type": "display_data"
    },
    {
     "data": {
      "text/plain": [
       "<selenium.webdriver.remote.webelement.WebElement (session=\"ba51fcd1a1bc41dec611cca0306e5511\", element=\"0.10055512088678586-3\")>"
      ]
     },
     "metadata": {},
     "output_type": "display_data"
    },
    {
     "data": {
      "text/plain": [
       "{'name': '파워매트 립 피그먼트 - 겟 잇 온',\n",
       " 'url': 'http://www.narscosmetics.co.kr/on/demandware.store/Sites-KR-Site/en_KR/Product-Variation?pid=999NAC0000053&dwvar_999NAC0000053_color=7845027645',\n",
       " 'image': ['http://en.narscosmetics.co.kr/on/demandware.static/-/Sites-itemmaster_NARS/default/dw3da2846b/hi-res/0607845027645.jpg',\n",
       "  'http://en.narscosmetics.co.kr/on/demandware.static/-/Sites-itemmaster_NARS/default/dwb72a502f/swatch/0607845027645.jpg'],\n",
       " 'salePrice': '₩ 37,000',\n",
       " 'originalPrice': '₩ 37,000',\n",
       " 'color': '겟 잇 온',\n",
       " 'category': '',\n",
       " 'brand': '나스',\n",
       " 'volume': '#'}"
      ]
     },
     "metadata": {},
     "output_type": "display_data"
    },
    {
     "data": {
      "text/plain": [
       "<selenium.webdriver.remote.webelement.WebElement (session=\"ba51fcd1a1bc41dec611cca0306e5511\", element=\"0.14358237551393382-3\")>"
      ]
     },
     "metadata": {},
     "output_type": "display_data"
    },
    {
     "data": {
      "text/plain": [
       "{'name': '파워매트 립 피그먼트 - 겟 업 스탠드 업',\n",
       " 'url': 'http://www.narscosmetics.co.kr/on/demandware.store/Sites-KR-Site/en_KR/Product-Variation?pid=999NAC0000053&dwvar_999NAC0000053_color=7845027690',\n",
       " 'image': ['http://en.narscosmetics.co.kr/on/demandware.static/-/Sites-itemmaster_NARS/default/dw74cdc23d/hi-res/0607845027690.jpg',\n",
       "  'http://en.narscosmetics.co.kr/on/demandware.static/-/Sites-itemmaster_NARS/default/dw98e80f4e/swatch/0607845027690.jpg'],\n",
       " 'salePrice': '₩ 37,000',\n",
       " 'originalPrice': '₩ 37,000',\n",
       " 'color': '겟 업 스탠드 업',\n",
       " 'category': '',\n",
       " 'brand': '나스',\n",
       " 'volume': '#'}"
      ]
     },
     "metadata": {},
     "output_type": "display_data"
    },
    {
     "data": {
      "text/plain": [
       "<selenium.webdriver.remote.webelement.WebElement (session=\"ba51fcd1a1bc41dec611cca0306e5511\", element=\"0.26747278345951164-3\")>"
      ]
     },
     "metadata": {},
     "output_type": "display_data"
    },
    {
     "data": {
      "text/plain": [
       "{'name': '파워매트 립 피그먼트 - 기브 잇 업',\n",
       " 'url': 'http://www.narscosmetics.co.kr/on/demandware.store/Sites-KR-Site/en_KR/Product-Variation?pid=999NAC0000053&dwvar_999NAC0000053_color=7845027683',\n",
       " 'image': ['http://en.narscosmetics.co.kr/on/demandware.static/-/Sites-itemmaster_NARS/default/dw50b8758e/hi-res/0607845027683.jpg',\n",
       "  'http://en.narscosmetics.co.kr/on/demandware.static/-/Sites-itemmaster_NARS/default/dw96a7311e/swatch/0607845027683.jpg'],\n",
       " 'salePrice': '₩ 37,000',\n",
       " 'originalPrice': '₩ 37,000',\n",
       " 'color': '기브 잇 업',\n",
       " 'category': '',\n",
       " 'brand': '나스',\n",
       " 'volume': '#'}"
      ]
     },
     "metadata": {},
     "output_type": "display_data"
    },
    {
     "data": {
      "text/plain": [
       "<selenium.webdriver.remote.webelement.WebElement (session=\"ba51fcd1a1bc41dec611cca0306e5511\", element=\"0.7804860430178997-3\")>"
      ]
     },
     "metadata": {},
     "output_type": "display_data"
    },
    {
     "data": {
      "text/plain": [
       "{'name': '파워매트 립 피그먼트 - 저스트 푸시 플레이',\n",
       " 'url': 'http://www.narscosmetics.co.kr/on/demandware.store/Sites-KR-Site/en_KR/Product-Variation?pid=999NAC0000053&dwvar_999NAC0000053_color=7845027829',\n",
       " 'image': ['http://en.narscosmetics.co.kr/on/demandware.static/-/Sites-itemmaster_NARS/default/dwba1db14a/hi-res/0607845027829.jpg',\n",
       "  'http://en.narscosmetics.co.kr/on/demandware.static/-/Sites-itemmaster_NARS/default/dwc9a21c1f/swatch/0607845027829.jpg'],\n",
       " 'salePrice': '₩ 37,000',\n",
       " 'originalPrice': '₩ 37,000',\n",
       " 'color': '저스트 푸시 플레이',\n",
       " 'category': '',\n",
       " 'brand': '나스',\n",
       " 'volume': '#'}"
      ]
     },
     "metadata": {},
     "output_type": "display_data"
    },
    {
     "data": {
      "text/plain": [
       "<selenium.webdriver.remote.webelement.WebElement (session=\"ba51fcd1a1bc41dec611cca0306e5511\", element=\"0.42880162159037716-3\")>"
      ]
     },
     "metadata": {},
     "output_type": "display_data"
    },
    {
     "data": {
      "text/plain": [
       "{'name': '파워매트 립 피그먼트 - 저스트 왓 아이 니디드',\n",
       " 'url': 'http://www.narscosmetics.co.kr/on/demandware.store/Sites-KR-Site/en_KR/Product-Variation?pid=999NAC0000053&dwvar_999NAC0000053_color=7845027782',\n",
       " 'image': ['http://en.narscosmetics.co.kr/on/demandware.static/-/Sites-itemmaster_NARS/default/dw156c7ab3/hi-res/0607845027782.jpg',\n",
       "  'http://en.narscosmetics.co.kr/on/demandware.static/-/Sites-itemmaster_NARS/default/dwa12f576c/swatch/0607845027782.jpg'],\n",
       " 'salePrice': '₩ 37,000',\n",
       " 'originalPrice': '₩ 37,000',\n",
       " 'color': '저스트 왓 아이 니디드',\n",
       " 'category': '',\n",
       " 'brand': '나스',\n",
       " 'volume': '#'}"
      ]
     },
     "metadata": {},
     "output_type": "display_data"
    },
    {
     "data": {
      "text/plain": [
       "<selenium.webdriver.remote.webelement.WebElement (session=\"ba51fcd1a1bc41dec611cca0306e5511\", element=\"0.4936865316763741-3\")>"
      ]
     },
     "metadata": {},
     "output_type": "display_data"
    },
    {
     "data": {
      "text/plain": [
       "{'name': '파워매트 립 피그먼트 - 라이트 마이 파이어',\n",
       " 'url': 'http://www.narscosmetics.co.kr/on/demandware.store/Sites-KR-Site/en_KR/Product-Variation?pid=999NAC0000053&dwvar_999NAC0000053_color=7845027706',\n",
       " 'image': ['http://en.narscosmetics.co.kr/on/demandware.static/-/Sites-itemmaster_NARS/default/dw25b9397b/hi-res/0607845027706.jpg',\n",
       "  'http://en.narscosmetics.co.kr/on/demandware.static/-/Sites-itemmaster_NARS/default/dw7b5a2831/swatch/0607845027706.jpg'],\n",
       " 'salePrice': '₩ 37,000',\n",
       " 'originalPrice': '₩ 37,000',\n",
       " 'color': '라이트 마이 파이어',\n",
       " 'category': '',\n",
       " 'brand': '나스',\n",
       " 'volume': '#'}"
      ]
     },
     "metadata": {},
     "output_type": "display_data"
    },
    {
     "data": {
      "text/plain": [
       "<selenium.webdriver.remote.webelement.WebElement (session=\"ba51fcd1a1bc41dec611cca0306e5511\", element=\"0.677410714317779-3\")>"
      ]
     },
     "metadata": {},
     "output_type": "display_data"
    },
    {
     "data": {
      "text/plain": [
       "{'name': '파워매트 립 피그먼트 - 런던 콜링',\n",
       " 'url': 'http://www.narscosmetics.co.kr/on/demandware.store/Sites-KR-Site/en_KR/Product-Variation?pid=999NAC0000053&dwvar_999NAC0000053_color=7845027614',\n",
       " 'image': ['http://en.narscosmetics.co.kr/on/demandware.static/-/Sites-itemmaster_NARS/default/dw5e603693/hi-res/0607845027614.jpg',\n",
       "  'http://en.narscosmetics.co.kr/on/demandware.static/-/Sites-itemmaster_NARS/default/dw8d7d2cf6/swatch/0607845027614.jpg'],\n",
       " 'salePrice': '₩ 37,000',\n",
       " 'originalPrice': '₩ 37,000',\n",
       " 'color': '런던 콜링',\n",
       " 'category': '',\n",
       " 'brand': '나스',\n",
       " 'volume': '#'}"
      ]
     },
     "metadata": {},
     "output_type": "display_data"
    },
    {
     "data": {
      "text/plain": [
       "<selenium.webdriver.remote.webelement.WebElement (session=\"ba51fcd1a1bc41dec611cca0306e5511\", element=\"0.8817200708734421-3\")>"
      ]
     },
     "metadata": {},
     "output_type": "display_data"
    },
    {
     "data": {
      "text/plain": [
       "{'name': '파워매트 립 피그먼트 - 로우 라이더',\n",
       " 'url': 'http://www.narscosmetics.co.kr/on/demandware.store/Sites-KR-Site/en_KR/Product-Variation?pid=999NAC0000053&dwvar_999NAC0000053_color=7845027676',\n",
       " 'image': ['http://en.narscosmetics.co.kr/on/demandware.static/-/Sites-itemmaster_NARS/default/dw4880ccf2/hi-res/0607845027676.jpg',\n",
       "  'http://en.narscosmetics.co.kr/on/demandware.static/-/Sites-itemmaster_NARS/default/dw3600cbb9/swatch/0607845027676.jpg'],\n",
       " 'salePrice': '₩ 37,000',\n",
       " 'originalPrice': '₩ 37,000',\n",
       " 'color': '로우 라이더',\n",
       " 'category': '',\n",
       " 'brand': '나스',\n",
       " 'volume': '#'}"
      ]
     },
     "metadata": {},
     "output_type": "display_data"
    },
    {
     "data": {
      "text/plain": [
       "<selenium.webdriver.remote.webelement.WebElement (session=\"ba51fcd1a1bc41dec611cca0306e5511\", element=\"0.7912392529872088-3\")>"
      ]
     },
     "metadata": {},
     "output_type": "display_data"
    },
    {
     "data": {
      "text/plain": [
       "{'name': '파워매트 립 피그먼트 - 페인트 잇 블랙',\n",
       " 'url': 'http://www.narscosmetics.co.kr/on/demandware.store/Sites-KR-Site/en_KR/Product-Variation?pid=999NAC0000053&dwvar_999NAC0000053_color=7845027768',\n",
       " 'image': ['http://en.narscosmetics.co.kr/on/demandware.static/-/Sites-itemmaster_NARS/default/dwc1558bc9/hi-res/0607845027768.jpg',\n",
       "  'http://en.narscosmetics.co.kr/on/demandware.static/-/Sites-itemmaster_NARS/default/dw2f7f6e46/swatch/0607845027768.jpg'],\n",
       " 'salePrice': '₩ 37,000',\n",
       " 'originalPrice': '₩ 37,000',\n",
       " 'color': '페인트 잇 블랙',\n",
       " 'category': '',\n",
       " 'brand': '나스',\n",
       " 'volume': '#'}"
      ]
     },
     "metadata": {},
     "output_type": "display_data"
    },
    {
     "data": {
      "text/plain": [
       "<selenium.webdriver.remote.webelement.WebElement (session=\"ba51fcd1a1bc41dec611cca0306e5511\", element=\"0.4619851650217235-3\")>"
      ]
     },
     "metadata": {},
     "output_type": "display_data"
    },
    {
     "data": {
      "text/plain": [
       "{'name': '파워매트 립 피그먼트 - 락 위드 유',\n",
       " 'url': 'http://www.narscosmetics.co.kr/on/demandware.store/Sites-KR-Site/en_KR/Product-Variation?pid=999NAC0000053&dwvar_999NAC0000053_color=7845027744',\n",
       " 'image': ['http://en.narscosmetics.co.kr/on/demandware.static/-/Sites-itemmaster_NARS/default/dw1b1e5007/hi-res/0607845027744.jpg',\n",
       "  'http://en.narscosmetics.co.kr/on/demandware.static/-/Sites-itemmaster_NARS/default/dw92eae6cb/swatch/0607845027744.jpg'],\n",
       " 'salePrice': '₩ 37,000',\n",
       " 'originalPrice': '₩ 37,000',\n",
       " 'color': '락 위드 유',\n",
       " 'category': '',\n",
       " 'brand': '나스',\n",
       " 'volume': '#'}"
      ]
     },
     "metadata": {},
     "output_type": "display_data"
    },
    {
     "data": {
      "text/plain": [
       "<selenium.webdriver.remote.webelement.WebElement (session=\"ba51fcd1a1bc41dec611cca0306e5511\", element=\"0.8978434136292408-3\")>"
      ]
     },
     "metadata": {},
     "output_type": "display_data"
    },
    {
     "data": {
      "text/plain": [
       "{'name': '파워매트 립 피그먼트 - 세이브 더 퀸',\n",
       " 'url': 'http://www.narscosmetics.co.kr/on/demandware.store/Sites-KR-Site/en_KR/Product-Variation?pid=999NAC0000053&dwvar_999NAC0000053_color=7845027669',\n",
       " 'image': ['http://en.narscosmetics.co.kr/on/demandware.static/-/Sites-itemmaster_NARS/default/dwf64df86a/hi-res/0607845027669.jpg',\n",
       "  'http://en.narscosmetics.co.kr/on/demandware.static/-/Sites-itemmaster_NARS/default/dw41dac3a2/swatch/0607845027669.jpg'],\n",
       " 'salePrice': '₩ 37,000',\n",
       " 'originalPrice': '₩ 37,000',\n",
       " 'color': '세이브 더 퀸',\n",
       " 'category': '',\n",
       " 'brand': '나스',\n",
       " 'volume': '#'}"
      ]
     },
     "metadata": {},
     "output_type": "display_data"
    },
    {
     "data": {
      "text/plain": [
       "<selenium.webdriver.remote.webelement.WebElement (session=\"ba51fcd1a1bc41dec611cca0306e5511\", element=\"0.15424412075780514-3\")>"
      ]
     },
     "metadata": {},
     "output_type": "display_data"
    },
    {
     "data": {
      "text/plain": [
       "{'name': '파워매트 립 피그먼트 - 슬로우 라이드',\n",
       " 'url': 'http://www.narscosmetics.co.kr/on/demandware.store/Sites-KR-Site/en_KR/Product-Variation?pid=999NAC0000053&dwvar_999NAC0000053_color=7845027607',\n",
       " 'image': ['http://en.narscosmetics.co.kr/on/demandware.static/-/Sites-itemmaster_NARS/default/dw80df3d6e/hi-res/0607845027607.jpg',\n",
       "  'http://en.narscosmetics.co.kr/on/demandware.static/-/Sites-itemmaster_NARS/default/dw6e83b68e/swatch/0607845027607.jpg'],\n",
       " 'salePrice': '₩ 37,000',\n",
       " 'originalPrice': '₩ 37,000',\n",
       " 'color': '슬로우 라이드',\n",
       " 'category': '',\n",
       " 'brand': '나스',\n",
       " 'volume': '#'}"
      ]
     },
     "metadata": {},
     "output_type": "display_data"
    },
    {
     "data": {
      "text/plain": [
       "<selenium.webdriver.remote.webelement.WebElement (session=\"ba51fcd1a1bc41dec611cca0306e5511\", element=\"0.8141388716256628-3\")>"
      ]
     },
     "metadata": {},
     "output_type": "display_data"
    },
    {
     "data": {
      "text/plain": [
       "{'name': '파워매트 립 피그먼트 - 썸바디 투 러브',\n",
       " 'url': 'http://www.narscosmetics.co.kr/on/demandware.store/Sites-KR-Site/en_KR/Product-Variation?pid=999NAC0000053&dwvar_999NAC0000053_color=7845027805',\n",
       " 'image': ['http://en.narscosmetics.co.kr/on/demandware.static/-/Sites-itemmaster_NARS/default/dwae4d19bb/hi-res/0607845027805.jpg',\n",
       "  'http://en.narscosmetics.co.kr/on/demandware.static/-/Sites-itemmaster_NARS/default/dwabc25cf8/swatch/0607845027805.jpg'],\n",
       " 'salePrice': '₩ 37,000',\n",
       " 'originalPrice': '₩ 37,000',\n",
       " 'color': '썸바디 투 러브',\n",
       " 'category': '',\n",
       " 'brand': '나스',\n",
       " 'volume': '#'}"
      ]
     },
     "metadata": {},
     "output_type": "display_data"
    },
    {
     "data": {
      "text/plain": [
       "<selenium.webdriver.remote.webelement.WebElement (session=\"ba51fcd1a1bc41dec611cca0306e5511\", element=\"0.2587463087922153-3\")>"
      ]
     },
     "metadata": {},
     "output_type": "display_data"
    },
    {
     "data": {
      "text/plain": [
       "{'name': '파워매트 립 피그먼트 - 스핀 미',\n",
       " 'url': 'http://www.narscosmetics.co.kr/on/demandware.store/Sites-KR-Site/en_KR/Product-Variation?pid=999NAC0000053&dwvar_999NAC0000053_color=7845027874',\n",
       " 'image': ['http://en.narscosmetics.co.kr/on/demandware.static/-/Sites-itemmaster_NARS/default/dw30876d83/hi-res/0607845027874.jpg',\n",
       "  'http://en.narscosmetics.co.kr/on/demandware.static/-/Sites-itemmaster_NARS/default/dw83a1a5e8/swatch/0607845027874.jpg'],\n",
       " 'salePrice': '₩ 37,000',\n",
       " 'originalPrice': '₩ 37,000',\n",
       " 'color': '스핀 미',\n",
       " 'category': '',\n",
       " 'brand': '나스',\n",
       " 'volume': '#'}"
      ]
     },
     "metadata": {},
     "output_type": "display_data"
    },
    {
     "data": {
      "text/plain": [
       "<selenium.webdriver.remote.webelement.WebElement (session=\"ba51fcd1a1bc41dec611cca0306e5511\", element=\"0.9280209347199557-3\")>"
      ]
     },
     "metadata": {},
     "output_type": "display_data"
    },
    {
     "data": {
      "text/plain": [
       "{'name': '파워매트 립 피그먼트 - 스타우먼',\n",
       " 'url': 'http://www.narscosmetics.co.kr/on/demandware.store/Sites-KR-Site/en_KR/Product-Variation?pid=999NAC0000053&dwvar_999NAC0000053_color=7845027737',\n",
       " 'image': ['http://en.narscosmetics.co.kr/on/demandware.static/-/Sites-itemmaster_NARS/default/dw981d361b/hi-res/0607845027737.jpg',\n",
       "  'http://en.narscosmetics.co.kr/on/demandware.static/-/Sites-itemmaster_NARS/default/dw04cfde5f/swatch/0607845027737.jpg'],\n",
       " 'salePrice': '₩ 37,000',\n",
       " 'originalPrice': '₩ 37,000',\n",
       " 'color': '스타우먼',\n",
       " 'category': '',\n",
       " 'brand': '나스',\n",
       " 'volume': '#'}"
      ]
     },
     "metadata": {},
     "output_type": "display_data"
    },
    {
     "data": {
      "text/plain": [
       "<selenium.webdriver.remote.webelement.WebElement (session=\"ba51fcd1a1bc41dec611cca0306e5511\", element=\"0.28420448440513413-3\")>"
      ]
     },
     "metadata": {},
     "output_type": "display_data"
    },
    {
     "data": {
      "text/plain": [
       "{'name': '파워매트 립 피그먼트 - 언더 마이 떰',\n",
       " 'url': 'http://www.narscosmetics.co.kr/on/demandware.store/Sites-KR-Site/en_KR/Product-Variation?pid=999NAC0000053&dwvar_999NAC0000053_color=7845027638',\n",
       " 'image': ['http://en.narscosmetics.co.kr/on/demandware.static/-/Sites-itemmaster_NARS/default/dw020f2631/hi-res/0607845027638.jpg',\n",
       "  'http://en.narscosmetics.co.kr/on/demandware.static/-/Sites-itemmaster_NARS/default/dwebfbf75c/swatch/0607845027638.jpg'],\n",
       " 'salePrice': '₩ 37,000',\n",
       " 'originalPrice': '₩ 37,000',\n",
       " 'color': '언더 마이 떰',\n",
       " 'category': '',\n",
       " 'brand': '나스',\n",
       " 'volume': '#'}"
      ]
     },
     "metadata": {},
     "output_type": "display_data"
    },
    {
     "data": {
      "text/plain": [
       "<selenium.webdriver.remote.webelement.WebElement (session=\"ba51fcd1a1bc41dec611cca0306e5511\", element=\"0.40301238806697404-3\")>"
      ]
     },
     "metadata": {},
     "output_type": "display_data"
    },
    {
     "data": {
      "text/plain": [
       "{'name': '파워매트 립 피그먼트 - 베인',\n",
       " 'url': 'http://www.narscosmetics.co.kr/on/demandware.store/Sites-KR-Site/en_KR/Product-Variation?pid=999NAC0000053&dwvar_999NAC0000053_color=7845027867',\n",
       " 'image': ['http://en.narscosmetics.co.kr/on/demandware.static/-/Sites-itemmaster_NARS/default/dw30204c8b/hi-res/0607845027867.jpg',\n",
       "  'http://en.narscosmetics.co.kr/on/demandware.static/-/Sites-itemmaster_NARS/default/dw09864df8/swatch/0607845027867.jpg'],\n",
       " 'salePrice': '₩ 37,000',\n",
       " 'originalPrice': '₩ 37,000',\n",
       " 'color': '베인',\n",
       " 'category': '',\n",
       " 'brand': '나스',\n",
       " 'volume': '#'}"
      ]
     },
     "metadata": {},
     "output_type": "display_data"
    },
    {
     "data": {
      "text/plain": [
       "<selenium.webdriver.remote.webelement.WebElement (session=\"ba51fcd1a1bc41dec611cca0306e5511\", element=\"0.9432691968229197-3\")>"
      ]
     },
     "metadata": {},
     "output_type": "display_data"
    },
    {
     "data": {
      "text/plain": [
       "{'name': '파워매트 립 피그먼트 - 워크 디스 웨이',\n",
       " 'url': 'http://www.narscosmetics.co.kr/on/demandware.store/Sites-KR-Site/en_KR/Product-Variation?pid=999NAC0000053&dwvar_999NAC0000053_color=7845027621',\n",
       " 'image': ['http://en.narscosmetics.co.kr/on/demandware.static/-/Sites-itemmaster_NARS/default/dw89d8c4b2/hi-res/0607845027621.jpg',\n",
       "  'http://en.narscosmetics.co.kr/on/demandware.static/-/Sites-itemmaster_NARS/default/dw4782827f/swatch/0607845027621.jpg'],\n",
       " 'salePrice': '₩ 37,000',\n",
       " 'originalPrice': '₩ 37,000',\n",
       " 'color': '워크 디스 웨이',\n",
       " 'category': '',\n",
       " 'brand': '나스',\n",
       " 'volume': '#'}"
      ]
     },
     "metadata": {},
     "output_type": "display_data"
    },
    {
     "data": {
      "text/plain": [
       "<selenium.webdriver.remote.webelement.WebElement (session=\"ba51fcd1a1bc41dec611cca0306e5511\", element=\"0.016319775207190634-3\")>"
      ]
     },
     "metadata": {},
     "output_type": "display_data"
    },
    {
     "data": {
      "text/plain": [
       "{'name': '파워매트 립 피그먼트 - 웜 레더렛',\n",
       " 'url': 'http://www.narscosmetics.co.kr/on/demandware.store/Sites-KR-Site/en_KR/Product-Variation?pid=999NAC0000053&dwvar_999NAC0000053_color=7845027652',\n",
       " 'image': ['http://en.narscosmetics.co.kr/on/demandware.static/-/Sites-itemmaster_NARS/default/dwe854caaa/hi-res/0607845027652.jpg',\n",
       "  'http://en.narscosmetics.co.kr/on/demandware.static/-/Sites-itemmaster_NARS/default/dw8e41665b/swatch/0607845027652.jpg'],\n",
       " 'salePrice': '₩ 37,000',\n",
       " 'originalPrice': '₩ 37,000',\n",
       " 'color': '웜 레더렛',\n",
       " 'category': '',\n",
       " 'brand': '나스',\n",
       " 'volume': '#'}"
      ]
     },
     "metadata": {},
     "output_type": "display_data"
    },
    {
     "data": {
      "text/plain": [
       "<selenium.webdriver.remote.webelement.WebElement (session=\"ba51fcd1a1bc41dec611cca0306e5511\", element=\"0.9073559488101113-3\")>"
      ]
     },
     "metadata": {},
     "output_type": "display_data"
    },
    {
     "data": {
      "text/plain": [
       "{'name': '파워매트 립 피그먼트 - 와일드 나이트',\n",
       " 'url': 'http://www.narscosmetics.co.kr/on/demandware.store/Sites-KR-Site/en_KR/Product-Variation?pid=999NAC0000053&dwvar_999NAC0000053_color=7845027775',\n",
       " 'image': ['http://en.narscosmetics.co.kr/on/demandware.static/-/Sites-itemmaster_NARS/default/dw4f7d0c46/hi-res/0607845027775.jpg',\n",
       "  'http://en.narscosmetics.co.kr/on/demandware.static/-/Sites-itemmaster_NARS/default/dw7c26c272/swatch/0607845027775.jpg'],\n",
       " 'salePrice': '₩ 37,000',\n",
       " 'originalPrice': '₩ 37,000',\n",
       " 'color': '와일드 나이트',\n",
       " 'category': '',\n",
       " 'brand': '나스',\n",
       " 'volume': '#'}"
      ]
     },
     "metadata": {},
     "output_type": "display_data"
    },
    {
     "data": {
      "text/plain": [
       "<selenium.webdriver.remote.webelement.WebElement (session=\"ba51fcd1a1bc41dec611cca0306e5511\", element=\"0.2773607685347077-3\")>"
      ]
     },
     "metadata": {},
     "output_type": "display_data"
    },
    {
     "data": {
      "text/plain": [
       "{'name': '파워매트 립 피그먼트 - 유아 노 굿',\n",
       " 'url': 'http://www.narscosmetics.co.kr/on/demandware.store/Sites-KR-Site/en_KR/Product-Variation?pid=999NAC0000053&dwvar_999NAC0000053_color=7845027850',\n",
       " 'image': ['http://en.narscosmetics.co.kr/on/demandware.static/-/Sites-itemmaster_NARS/default/dw600d7e08/hi-res/0607845027850.jpg',\n",
       "  'http://en.narscosmetics.co.kr/on/demandware.static/-/Sites-itemmaster_NARS/default/dw29f40087/swatch/0607845027850.jpg'],\n",
       " 'salePrice': '₩ 37,000',\n",
       " 'originalPrice': '₩ 37,000',\n",
       " 'color': '유아 노 굿',\n",
       " 'category': '',\n",
       " 'brand': '나스',\n",
       " 'volume': '#'}"
      ]
     },
     "metadata": {},
     "output_type": "display_data"
    },
    {
     "data": {
      "text/plain": [
       "<selenium.webdriver.remote.webelement.WebElement (session=\"ba51fcd1a1bc41dec611cca0306e5511\", element=\"0.3789296123211372-3\")>"
      ]
     },
     "metadata": {},
     "output_type": "display_data"
    },
    {
     "data": {
      "text/plain": [
       "{'name': '파워매트 립 피그먼트 - 언페이머스 레드',\n",
       " 'url': 'http://www.narscosmetics.co.kr/on/demandware.store/Sites-KR-Site/en_KR/Product-Variation?pid=999NAC0000053&dwvar_999NAC0000053_color=Unfamous%20Red',\n",
       " 'image': ['http://en.narscosmetics.co.kr/on/demandware.static/-/Sites-itemmaster_NARS/default/dw8a66cef0/hi-res/607845027362.jpg',\n",
       "  'http://en.narscosmetics.co.kr/on/demandware.static/-/Sites-itemmaster_NARS/default/dw2cc02a27/hi-res/607845027362_v2.jpg'],\n",
       " 'salePrice': '₩ 37,000',\n",
       " 'originalPrice': '₩ 37,000',\n",
       " 'color': '언페이머스 레드',\n",
       " 'category': '',\n",
       " 'brand': '나스',\n",
       " 'volume': '#'}"
      ]
     },
     "metadata": {},
     "output_type": "display_data"
    },
    {
     "data": {
      "text/plain": [
       "<selenium.webdriver.remote.webelement.WebElement (session=\"ba51fcd1a1bc41dec611cca0306e5511\", element=\"0.16236972439337038-3\")>"
      ]
     },
     "metadata": {},
     "output_type": "display_data"
    },
    {
     "data": {
      "text/plain": [
       "{'name': '파워매트 립 피그먼트',\n",
       " 'url': 'http://www.narscosmetics.co.kr/on/demandware.store/Sites-KR-Site/en_KR/Product-Variation?pid=999NAC0000053&dwvar_999NAC0000053_color=',\n",
       " 'image': ['http://en.narscosmetics.co.kr/on/demandware.static/-/Sites-itemmaster_NARS/default/dwae4d19bb/hi-res/0607845027805.jpg',\n",
       "  'http://en.narscosmetics.co.kr/on/demandware.static/-/Sites-itemmaster_NARS/default/dwabc25cf8/swatch/0607845027805.jpg'],\n",
       " 'salePrice': '₩ 37,000',\n",
       " 'originalPrice': '₩ 37,000',\n",
       " 'color': '아메리칸 우먼',\n",
       " 'category': '',\n",
       " 'brand': '나스',\n",
       " 'volume': '#'}"
      ]
     },
     "metadata": {},
     "output_type": "display_data"
    },
    {
     "data": {
      "text/plain": [
       "{'name': '나스 벨벳 매트 립 펜슬 세트 라이엇',\n",
       " 'url': 'http://www.narscosmetics.co.kr/riot-velvet-matte-lip-pencil-set/0607845083825.html',\n",
       " 'image': ['http://en.narscosmetics.co.kr/on/demandware.static/-/Sites-itemmaster_NARS/default/dwac777a09/hi-res/0607845083825.jpg',\n",
       "  'http://en.narscosmetics.co.kr/on/demandware.static/-/Sites-itemmaster_NARS/default/dwfcebbeab/alt2/0607845083825.jpg',\n",
       "  'http://en.narscosmetics.co.kr/on/demandware.static/-/Sites-itemmaster_NARS/default/dwb277c171/hi-res/0607845083825_2.jpg',\n",
       "  'http://en.narscosmetics.co.kr/on/demandware.static/-/Sites-itemmaster_NARS/default/dwe6ef2cb9/hi-res/0607845083825_3.jpg',\n",
       "  'http://en.narscosmetics.co.kr/on/demandware.static/-/Sites-itemmaster_NARS/default/dwc6ff2a07/shade/0607845083825_01.jpg',\n",
       "  'http://en.narscosmetics.co.kr/on/demandware.static/-/Sites-itemmaster_NARS/default/dw57540a55/shade/0607845083825_02.jpg',\n",
       "  'http://en.narscosmetics.co.kr/on/demandware.static/-/Sites-itemmaster_NARS/default/dwede2eb0b/shade/0607845083825_03.jpg'],\n",
       " 'salePrice': '₩ 79,000',\n",
       " 'originalPrice': '₩ 79,000',\n",
       " 'color': '#',\n",
       " 'category': '',\n",
       " 'brand': '나스',\n",
       " 'volume': '#'}"
      ]
     },
     "metadata": {},
     "output_type": "display_data"
    },
    {
     "data": {
      "text/plain": [
       "<selenium.webdriver.remote.webelement.WebElement (session=\"ba51fcd1a1bc41dec611cca0306e5511\", element=\"0.7973325471338524-3\")>"
      ]
     },
     "metadata": {},
     "output_type": "display_data"
    },
    {
     "data": {
      "text/plain": [
       "{'name': '벨벳 립 글라이드 - 에어리어',\n",
       " 'url': 'http://www.narscosmetics.co.kr/on/demandware.store/Sites-KR-Site/en_KR/Product-Variation?pid=999NAC0000040&dwvar_999NAC0000040_color=7845027218',\n",
       " 'image': ['http://en.narscosmetics.co.kr/on/demandware.static/-/Sites-itemmaster_NARS/default/dwc43a5cb1/hi-res/0607845027218.jpg',\n",
       "  'http://en.narscosmetics.co.kr/on/demandware.static/-/Sites-itemmaster_NARS/default/dw89034268/swatch/0607845027218.jpg'],\n",
       " 'salePrice': '₩ 37,000',\n",
       " 'originalPrice': '₩ 37,000',\n",
       " 'color': '에어리어',\n",
       " 'category': '',\n",
       " 'brand': '나스',\n",
       " 'volume': '#'}"
      ]
     },
     "metadata": {},
     "output_type": "display_data"
    },
    {
     "data": {
      "text/plain": [
       "<selenium.webdriver.remote.webelement.WebElement (session=\"ba51fcd1a1bc41dec611cca0306e5511\", element=\"0.028755794167440563-3\")>"
      ]
     },
     "metadata": {},
     "output_type": "display_data"
    },
    {
     "data": {
      "text/plain": [
       "{'name': '벨벳 립 글라이드 - 베이트',\n",
       " 'url': 'http://www.narscosmetics.co.kr/on/demandware.store/Sites-KR-Site/en_KR/Product-Variation?pid=999NAC0000040&dwvar_999NAC0000040_color=7845027232',\n",
       " 'image': ['http://en.narscosmetics.co.kr/on/demandware.static/-/Sites-itemmaster_NARS/default/dwc532eee2/hi-res/0607845027232.jpg',\n",
       "  'http://en.narscosmetics.co.kr/on/demandware.static/-/Sites-itemmaster_NARS/default/dw660df221/swatch/0607845027232.jpg'],\n",
       " 'salePrice': '₩ 37,000',\n",
       " 'originalPrice': '₩ 37,000',\n",
       " 'color': '베이트',\n",
       " 'category': '',\n",
       " 'brand': '나스',\n",
       " 'volume': '#'}"
      ]
     },
     "metadata": {},
     "output_type": "display_data"
    },
    {
     "data": {
      "text/plain": [
       "<selenium.webdriver.remote.webelement.WebElement (session=\"ba51fcd1a1bc41dec611cca0306e5511\", element=\"0.39083680594954484-3\")>"
      ]
     },
     "metadata": {},
     "output_type": "display_data"
    },
    {
     "data": {
      "text/plain": [
       "{'name': '벨벳 립 글라이드 - 바운드',\n",
       " 'url': 'http://www.narscosmetics.co.kr/on/demandware.store/Sites-KR-Site/en_KR/Product-Variation?pid=999NAC0000040&dwvar_999NAC0000040_color=7845027133',\n",
       " 'image': ['http://en.narscosmetics.co.kr/on/demandware.static/-/Sites-itemmaster_NARS/default/dw1b1a08a9/hi-res/0607845027133.jpg',\n",
       "  'http://en.narscosmetics.co.kr/on/demandware.static/-/Sites-itemmaster_NARS/default/dwc98c9858/swatch/0607845027133.jpg'],\n",
       " 'salePrice': '₩ 37,000',\n",
       " 'originalPrice': '₩ 37,000',\n",
       " 'color': '바운드',\n",
       " 'category': '',\n",
       " 'brand': '나스',\n",
       " 'volume': '#'}"
      ]
     },
     "metadata": {},
     "output_type": "display_data"
    },
    {
     "data": {
      "text/plain": [
       "<selenium.webdriver.remote.webelement.WebElement (session=\"ba51fcd1a1bc41dec611cca0306e5511\", element=\"0.6603792704044757-3\")>"
      ]
     },
     "metadata": {},
     "output_type": "display_data"
    },
    {
     "data": {
      "text/plain": [
       "{'name': '벨벳 립 글라이드 - 댄스테리아',\n",
       " 'url': 'http://www.narscosmetics.co.kr/on/demandware.store/Sites-KR-Site/en_KR/Product-Variation?pid=999NAC0000040&dwvar_999NAC0000040_color=7845027140',\n",
       " 'image': ['http://en.narscosmetics.co.kr/on/demandware.static/-/Sites-itemmaster_NARS/default/dw01610599/hi-res/0607845027140.jpg',\n",
       "  'http://en.narscosmetics.co.kr/on/demandware.static/-/Sites-itemmaster_NARS/default/dw8b6fd604/swatch/0607845027140.jpg'],\n",
       " 'salePrice': '₩ 37,000',\n",
       " 'originalPrice': '₩ 37,000',\n",
       " 'color': '댄스테리아',\n",
       " 'category': '',\n",
       " 'brand': '나스',\n",
       " 'volume': '#'}"
      ]
     },
     "metadata": {},
     "output_type": "display_data"
    },
    {
     "data": {
      "text/plain": [
       "<selenium.webdriver.remote.webelement.WebElement (session=\"ba51fcd1a1bc41dec611cca0306e5511\", element=\"0.8940727148893153-3\")>"
      ]
     },
     "metadata": {},
     "output_type": "display_data"
    },
    {
     "data": {
      "text/plain": [
       "{'name': '벨벳 립 글라이드 - 디스럽터',\n",
       " 'url': 'http://www.narscosmetics.co.kr/on/demandware.store/Sites-KR-Site/en_KR/Product-Variation?pid=999NAC0000040&dwvar_999NAC0000040_color=7845027256',\n",
       " 'image': ['http://en.narscosmetics.co.kr/on/demandware.static/-/Sites-itemmaster_NARS/default/dwb8c861ff/hi-res/0607845027256.jpg',\n",
       "  'http://en.narscosmetics.co.kr/on/demandware.static/-/Sites-itemmaster_NARS/default/dwbce58e00/swatch/0607845027256.jpg'],\n",
       " 'salePrice': '₩ 37,000',\n",
       " 'originalPrice': '₩ 37,000',\n",
       " 'color': '디스럽터',\n",
       " 'category': '',\n",
       " 'brand': '나스',\n",
       " 'volume': '#'}"
      ]
     },
     "metadata": {},
     "output_type": "display_data"
    },
    {
     "data": {
      "text/plain": [
       "<selenium.webdriver.remote.webelement.WebElement (session=\"ba51fcd1a1bc41dec611cca0306e5511\", element=\"0.1526042971869901-3\")>"
      ]
     },
     "metadata": {},
     "output_type": "display_data"
    },
    {
     "data": {
      "text/plain": [
       "{'name': '벨벳 립 글라이드 - 임파서블 레드',\n",
       " 'url': 'http://www.narscosmetics.co.kr/on/demandware.store/Sites-KR-Site/en_KR/Product-Variation?pid=999NAC0000040&dwvar_999NAC0000040_color=7845027249',\n",
       " 'image': ['http://en.narscosmetics.co.kr/on/demandware.static/-/Sites-itemmaster_NARS/default/dw299aff38/hi-res/0607845027249.jpg',\n",
       "  'http://en.narscosmetics.co.kr/on/demandware.static/-/Sites-itemmaster_NARS/default/dw35ee1a06/swatch/0607845027249.jpg'],\n",
       " 'salePrice': '₩ 37,000',\n",
       " 'originalPrice': '₩ 37,000',\n",
       " 'color': '임파서블 레드',\n",
       " 'category': '',\n",
       " 'brand': '나스',\n",
       " 'volume': '#'}"
      ]
     },
     "metadata": {},
     "output_type": "display_data"
    },
    {
     "data": {
      "text/plain": [
       "<selenium.webdriver.remote.webelement.WebElement (session=\"ba51fcd1a1bc41dec611cca0306e5511\", element=\"0.6027998734924882-3\")>"
      ]
     },
     "metadata": {},
     "output_type": "display_data"
    },
    {
     "data": {
      "text/plain": [
       "{'name': '벨벳 립 글라이드 - 라 망 블뢰',\n",
       " 'url': 'http://www.narscosmetics.co.kr/on/demandware.store/Sites-KR-Site/en_KR/Product-Variation?pid=999NAC0000040&dwvar_999NAC0000040_color=7845027157',\n",
       " 'image': ['http://en.narscosmetics.co.kr/on/demandware.static/-/Sites-itemmaster_NARS/default/dwe3752571/hi-res/0607845027157.jpg',\n",
       "  'http://en.narscosmetics.co.kr/on/demandware.static/-/Sites-itemmaster_NARS/default/dw70c5533d/swatch/0607845027157.jpg'],\n",
       " 'salePrice': '₩ 37,000',\n",
       " 'originalPrice': '₩ 37,000',\n",
       " 'color': '라 망 블뢰',\n",
       " 'category': '',\n",
       " 'brand': '나스',\n",
       " 'volume': '#'}"
      ]
     },
     "metadata": {},
     "output_type": "display_data"
    },
    {
     "data": {
      "text/plain": [
       "<selenium.webdriver.remote.webelement.WebElement (session=\"ba51fcd1a1bc41dec611cca0306e5511\", element=\"0.9993331260000367-3\")>"
      ]
     },
     "metadata": {},
     "output_type": "display_data"
    },
    {
     "data": {
      "text/plain": [
       "{'name': '벨벳 립 글라이드 - 르 팔라스',\n",
       " 'url': 'http://www.narscosmetics.co.kr/on/demandware.store/Sites-KR-Site/en_KR/Product-Variation?pid=999NAC0000040&dwvar_999NAC0000040_color=7845027188',\n",
       " 'image': ['http://en.narscosmetics.co.kr/on/demandware.static/-/Sites-itemmaster_NARS/default/dw50624f43/hi-res/0607845027188.jpg',\n",
       "  'http://en.narscosmetics.co.kr/on/demandware.static/-/Sites-itemmaster_NARS/default/dw6e7e5c6c/swatch/0607845027188.jpg'],\n",
       " 'salePrice': '₩ 37,000',\n",
       " 'originalPrice': '₩ 37,000',\n",
       " 'color': '르 팔라스',\n",
       " 'category': '',\n",
       " 'brand': '나스',\n",
       " 'volume': '#'}"
      ]
     },
     "metadata": {},
     "output_type": "display_data"
    },
    {
     "data": {
      "text/plain": [
       "<selenium.webdriver.remote.webelement.WebElement (session=\"ba51fcd1a1bc41dec611cca0306e5511\", element=\"0.7031070884647173-3\")>"
      ]
     },
     "metadata": {},
     "output_type": "display_data"
    },
    {
     "data": {
      "text/plain": [
       "{'name': '벨벳 립 글라이드 - 마스',\n",
       " 'url': 'http://www.narscosmetics.co.kr/on/demandware.store/Sites-KR-Site/en_KR/Product-Variation?pid=999NAC0000040&dwvar_999NAC0000040_color=7845027355',\n",
       " 'image': ['http://en.narscosmetics.co.kr/on/demandware.static/-/Sites-itemmaster_NARS/default/dwf9428b74/hi-res/0607845027355.jpg',\n",
       "  'http://en.narscosmetics.co.kr/on/demandware.static/-/Sites-itemmaster_NARS/default/dw0f701d9f/swatch/0607845027355.jpg'],\n",
       " 'salePrice': '₩ 37,000',\n",
       " 'originalPrice': '₩ 37,000',\n",
       " 'color': '마스',\n",
       " 'category': '',\n",
       " 'brand': '나스',\n",
       " 'volume': '#'}"
      ]
     },
     "metadata": {},
     "output_type": "display_data"
    },
    {
     "data": {
      "text/plain": [
       "<selenium.webdriver.remote.webelement.WebElement (session=\"ba51fcd1a1bc41dec611cca0306e5511\", element=\"0.27342061019049946-3\")>"
      ]
     },
     "metadata": {},
     "output_type": "display_data"
    },
    {
     "data": {
      "text/plain": [
       "{'name': '벨벳 립 글라이드 - No. 54',\n",
       " 'url': 'http://www.narscosmetics.co.kr/on/demandware.store/Sites-KR-Site/en_KR/Product-Variation?pid=999NAC0000040&dwvar_999NAC0000040_color=7845027171',\n",
       " 'image': ['http://en.narscosmetics.co.kr/on/demandware.static/-/Sites-itemmaster_NARS/default/dw895d4a31/hi-res/0607845027171.jpg',\n",
       "  'http://en.narscosmetics.co.kr/on/demandware.static/-/Sites-itemmaster_NARS/default/dwe3e413bc/swatch/0607845027171.jpg'],\n",
       " 'salePrice': '₩ 37,000',\n",
       " 'originalPrice': '₩ 37,000',\n",
       " 'color': '\\nNo. 54\\n',\n",
       " 'category': '',\n",
       " 'brand': '나스',\n",
       " 'volume': '#'}"
      ]
     },
     "metadata": {},
     "output_type": "display_data"
    },
    {
     "data": {
      "text/plain": [
       "<selenium.webdriver.remote.webelement.WebElement (session=\"ba51fcd1a1bc41dec611cca0306e5511\", element=\"0.8414322818064055-3\")>"
      ]
     },
     "metadata": {},
     "output_type": "display_data"
    },
    {
     "data": {
      "text/plain": [
       "{'name': '벨벳 립 글라이드 - 파라다이스 그라지',\n",
       " 'url': 'http://www.narscosmetics.co.kr/on/demandware.store/Sites-KR-Site/en_KR/Product-Variation?pid=999NAC0000040&dwvar_999NAC0000040_color=7845027348',\n",
       " 'image': ['http://en.narscosmetics.co.kr/on/demandware.static/-/Sites-itemmaster_NARS/default/dw54d0d43e/hi-res/0607845027348.jpg',\n",
       "  'http://en.narscosmetics.co.kr/on/demandware.static/-/Sites-itemmaster_NARS/default/dwf14afb31/swatch/0607845027348.jpg'],\n",
       " 'salePrice': '₩ 37,000',\n",
       " 'originalPrice': '₩ 37,000',\n",
       " 'color': '파라다이스 그라지',\n",
       " 'category': '',\n",
       " 'brand': '나스',\n",
       " 'volume': '#'}"
      ]
     },
     "metadata": {},
     "output_type": "display_data"
    },
    {
     "data": {
      "text/plain": [
       "<selenium.webdriver.remote.webelement.WebElement (session=\"ba51fcd1a1bc41dec611cca0306e5511\", element=\"0.8771359406237629-3\")>"
      ]
     },
     "metadata": {},
     "output_type": "display_data"
    },
    {
     "data": {
      "text/plain": [
       "{'name': '벨벳 립 글라이드 - 플레이펜',\n",
       " 'url': 'http://www.narscosmetics.co.kr/on/demandware.store/Sites-KR-Site/en_KR/Product-Variation?pid=999NAC0000040&dwvar_999NAC0000040_color=7845027126',\n",
       " 'image': ['http://en.narscosmetics.co.kr/on/demandware.static/-/Sites-itemmaster_NARS/default/dw6c9ffc78/hi-res/0607845027126.jpg',\n",
       "  'http://en.narscosmetics.co.kr/on/demandware.static/-/Sites-itemmaster_NARS/default/dwc6ef6570/swatch/0607845027126.jpg'],\n",
       " 'salePrice': '₩ 37,000',\n",
       " 'originalPrice': '₩ 37,000',\n",
       " 'color': '플레이펜',\n",
       " 'category': '',\n",
       " 'brand': '나스',\n",
       " 'volume': '#'}"
      ]
     },
     "metadata": {},
     "output_type": "display_data"
    },
    {
     "data": {
      "text/plain": [
       "<selenium.webdriver.remote.webelement.WebElement (session=\"ba51fcd1a1bc41dec611cca0306e5511\", element=\"0.13452396044139525-3\")>"
      ]
     },
     "metadata": {},
     "output_type": "display_data"
    },
    {
     "data": {
      "text/plain": [
       "{'name': '벨벳 립 글라이드 - 로즈랜드',\n",
       " 'url': 'http://www.narscosmetics.co.kr/on/demandware.store/Sites-KR-Site/en_KR/Product-Variation?pid=999NAC0000040&dwvar_999NAC0000040_color=7845027331',\n",
       " 'image': ['http://en.narscosmetics.co.kr/on/demandware.static/-/Sites-itemmaster_NARS/default/dwe5303f25/hi-res/0607845027331.jpg',\n",
       "  'http://en.narscosmetics.co.kr/on/demandware.static/-/Sites-itemmaster_NARS/default/dw7843d968/swatch/0607845027331.jpg'],\n",
       " 'salePrice': '₩ 37,000',\n",
       " 'originalPrice': '₩ 37,000',\n",
       " 'color': '로즈랜드',\n",
       " 'category': '',\n",
       " 'brand': '나스',\n",
       " 'volume': '#'}"
      ]
     },
     "metadata": {},
     "output_type": "display_data"
    },
    {
     "data": {
      "text/plain": [
       "<selenium.webdriver.remote.webelement.WebElement (session=\"ba51fcd1a1bc41dec611cca0306e5511\", element=\"0.9257389658983204-3\")>"
      ]
     },
     "metadata": {},
     "output_type": "display_data"
    },
    {
     "data": {
      "text/plain": [
       "{'name': '벨벳 립 글라이드 - 스트립드',\n",
       " 'url': 'http://www.narscosmetics.co.kr/on/demandware.store/Sites-KR-Site/en_KR/Product-Variation?pid=999NAC0000040&dwvar_999NAC0000040_color=7845027102',\n",
       " 'image': ['http://en.narscosmetics.co.kr/on/demandware.static/-/Sites-itemmaster_NARS/default/dwa556b430/hi-res/0607845027102.jpg',\n",
       "  'http://en.narscosmetics.co.kr/on/demandware.static/-/Sites-itemmaster_NARS/default/dw6b395b44/swatch/0607845027102.jpg'],\n",
       " 'salePrice': '₩ 37,000',\n",
       " 'originalPrice': '₩ 37,000',\n",
       " 'color': '스트립드',\n",
       " 'category': '',\n",
       " 'brand': '나스',\n",
       " 'volume': '#'}"
      ]
     },
     "metadata": {},
     "output_type": "display_data"
    },
    {
     "data": {
      "text/plain": [
       "<selenium.webdriver.remote.webelement.WebElement (session=\"ba51fcd1a1bc41dec611cca0306e5511\", element=\"0.4703486333980784-3\")>"
      ]
     },
     "metadata": {},
     "output_type": "display_data"
    },
    {
     "data": {
      "text/plain": [
       "{'name': '벨벳 립 글라이드 - 서크',\n",
       " 'url': 'http://www.narscosmetics.co.kr/on/demandware.store/Sites-KR-Site/en_KR/Product-Variation?pid=999NAC0000040&dwvar_999NAC0000040_color=7845027225',\n",
       " 'image': ['http://en.narscosmetics.co.kr/on/demandware.static/-/Sites-itemmaster_NARS/default/dw99fe0924/hi-res/0607845027225.jpg',\n",
       "  'http://en.narscosmetics.co.kr/on/demandware.static/-/Sites-itemmaster_NARS/default/dw56e058ee/swatch/0607845027225.jpg'],\n",
       " 'salePrice': '₩ 37,000',\n",
       " 'originalPrice': '₩ 37,000',\n",
       " 'color': '서크',\n",
       " 'category': '',\n",
       " 'brand': '나스',\n",
       " 'volume': '#'}"
      ]
     },
     "metadata": {},
     "output_type": "display_data"
    },
    {
     "data": {
      "text/plain": [
       "<selenium.webdriver.remote.webelement.WebElement (session=\"ba51fcd1a1bc41dec611cca0306e5511\", element=\"0.29151807760401915-3\")>"
      ]
     },
     "metadata": {},
     "output_type": "display_data"
    },
    {
     "data": {
      "text/plain": [
       "{'name': '벨벳 립 글라이드 - 스윙',\n",
       " 'url': 'http://www.narscosmetics.co.kr/on/demandware.store/Sites-KR-Site/en_KR/Product-Variation?pid=999NAC0000040&dwvar_999NAC0000040_color=7845027324',\n",
       " 'image': ['http://en.narscosmetics.co.kr/on/demandware.static/-/Sites-itemmaster_NARS/default/dwfd7b6c3c/hi-res/0607845027324.jpg',\n",
       "  'http://en.narscosmetics.co.kr/on/demandware.static/-/Sites-itemmaster_NARS/default/dw20579fb6/swatch/0607845027324.jpg'],\n",
       " 'salePrice': '₩ 37,000',\n",
       " 'originalPrice': '₩ 37,000',\n",
       " 'color': '스윙',\n",
       " 'category': '',\n",
       " 'brand': '나스',\n",
       " 'volume': '#'}"
      ]
     },
     "metadata": {},
     "output_type": "display_data"
    },
    {
     "data": {
      "text/plain": [
       "<selenium.webdriver.remote.webelement.WebElement (session=\"ba51fcd1a1bc41dec611cca0306e5511\", element=\"0.42644003544093123-3\")>"
      ]
     },
     "metadata": {},
     "output_type": "display_data"
    },
    {
     "data": {
      "text/plain": [
       "{'name': '벨벳 립 글라이드 - 언레이스드',\n",
       " 'url': 'http://www.narscosmetics.co.kr/on/demandware.store/Sites-KR-Site/en_KR/Product-Variation?pid=999NAC0000040&dwvar_999NAC0000040_color=7845027119',\n",
       " 'image': ['http://en.narscosmetics.co.kr/on/demandware.static/-/Sites-itemmaster_NARS/default/dw1c159535/hi-res/0607845027119.jpg',\n",
       "  'http://en.narscosmetics.co.kr/on/demandware.static/-/Sites-itemmaster_NARS/default/dw5f2707b4/swatch/0607845027119.jpg'],\n",
       " 'salePrice': '₩ 37,000',\n",
       " 'originalPrice': '₩ 37,000',\n",
       " 'color': '언레이스드',\n",
       " 'category': '',\n",
       " 'brand': '나스',\n",
       " 'volume': '#'}"
      ]
     },
     "metadata": {},
     "output_type": "display_data"
    },
    {
     "data": {
      "text/plain": [
       "<selenium.webdriver.remote.webelement.WebElement (session=\"ba51fcd1a1bc41dec611cca0306e5511\", element=\"0.8568267176823425-3\")>"
      ]
     },
     "metadata": {},
     "output_type": "display_data"
    },
    {
     "data": {
      "text/plain": [
       "{'name': '벨벳 립 글라이드 - 언스피커블',\n",
       " 'url': 'http://www.narscosmetics.co.kr/on/demandware.store/Sites-KR-Site/en_KR/Product-Variation?pid=999NAC0000040&dwvar_999NAC0000040_color=7845027195',\n",
       " 'image': ['http://en.narscosmetics.co.kr/on/demandware.static/-/Sites-itemmaster_NARS/default/dw21f9fe19/hi-res/0607845027195.jpg',\n",
       "  'http://en.narscosmetics.co.kr/on/demandware.static/-/Sites-itemmaster_NARS/default/dwb225468b/swatch/0607845027195.jpg'],\n",
       " 'salePrice': '₩ 37,000',\n",
       " 'originalPrice': '₩ 37,000',\n",
       " 'color': '언스피커블',\n",
       " 'category': '',\n",
       " 'brand': '나스',\n",
       " 'volume': '#'}"
      ]
     },
     "metadata": {},
     "output_type": "display_data"
    },
    {
     "data": {
      "text/plain": [
       "<selenium.webdriver.remote.webelement.WebElement (session=\"ba51fcd1a1bc41dec611cca0306e5511\", element=\"0.49078123286996433-3\")>"
      ]
     },
     "metadata": {},
     "output_type": "display_data"
    },
    {
     "data": {
      "text/plain": [
       "{'name': '벨벳 립 글라이드 - 제논',\n",
       " 'url': 'http://www.narscosmetics.co.kr/on/demandware.store/Sites-KR-Site/en_KR/Product-Variation?pid=999NAC0000040&dwvar_999NAC0000040_color=7845027317',\n",
       " 'image': ['http://en.narscosmetics.co.kr/on/demandware.static/-/Sites-itemmaster_NARS/default/dw886bcef8/hi-res/0607845027317.jpg',\n",
       "  'http://en.narscosmetics.co.kr/on/demandware.static/-/Sites-itemmaster_NARS/default/dw8b9e82cd/swatch/0607845027317.jpg'],\n",
       " 'salePrice': '₩ 37,000',\n",
       " 'originalPrice': '₩ 37,000',\n",
       " 'color': '제논',\n",
       " 'category': '',\n",
       " 'brand': '나스',\n",
       " 'volume': '#'}"
      ]
     },
     "metadata": {},
     "output_type": "display_data"
    },
    {
     "data": {
      "text/plain": [
       "<selenium.webdriver.remote.webelement.WebElement (session=\"ba51fcd1a1bc41dec611cca0306e5511\", element=\"0.9511043282980736-3\")>"
      ]
     },
     "metadata": {},
     "output_type": "display_data"
    },
    {
     "data": {
      "text/plain": [
       "{'name': '벨벳 립 글라이드',\n",
       " 'url': 'http://www.narscosmetics.co.kr/on/demandware.store/Sites-KR-Site/en_KR/Product-Variation?pid=999NAC0000040&dwvar_999NAC0000040_color=',\n",
       " 'image': ['http://en.narscosmetics.co.kr/on/demandware.static/-/Sites-itemmaster_NARS/default/dwc43a5cb1/hi-res/0607845027218.jpg',\n",
       "  'http://en.narscosmetics.co.kr/on/demandware.static/-/Sites-itemmaster_NARS/default/dw89034268/swatch/0607845027218.jpg'],\n",
       " 'salePrice': '₩ 37,000',\n",
       " 'originalPrice': '₩ 37,000',\n",
       " 'color': '에어리어',\n",
       " 'category': '',\n",
       " 'brand': '나스',\n",
       " 'volume': '#'}"
      ]
     },
     "metadata": {},
     "output_type": "display_data"
    },
    {
     "data": {
      "text/plain": [
       "<selenium.webdriver.remote.webelement.WebElement (session=\"ba51fcd1a1bc41dec611cca0306e5511\", element=\"0.9992022713499478-3\")>"
      ]
     },
     "metadata": {},
     "output_type": "display_data"
    },
    {
     "data": {
      "text/plain": [
       "{'name': '벨벳 립 글라이드 - 르 클리끄',\n",
       " 'url': 'http://www.narscosmetics.co.kr/on/demandware.store/Sites-KR-Site/en_KR/Product-Variation?pid=999NAC0000040&dwvar_999NAC0000040_color=607845034315',\n",
       " 'image': ['http://en.narscosmetics.co.kr/on/demandware.static/-/Sites-itemmaster_NARS/default/dw8d3fcabe/hi-res/607845034315.jpg',\n",
       "  'http://en.narscosmetics.co.kr/on/demandware.static/-/Sites-itemmaster_NARS/default/dwf70e7349/swatch/607845034315.jpg'],\n",
       " 'salePrice': '₩ 37,000',\n",
       " 'originalPrice': '₩ 37,000',\n",
       " 'color': '르 클리끄',\n",
       " 'category': '',\n",
       " 'brand': '나스',\n",
       " 'volume': '#'}"
      ]
     },
     "metadata": {},
     "output_type": "display_data"
    },
    {
     "data": {
      "text/plain": [
       "<selenium.webdriver.remote.webelement.WebElement (session=\"ba51fcd1a1bc41dec611cca0306e5511\", element=\"0.9989469635973485-3\")>"
      ]
     },
     "metadata": {},
     "output_type": "display_data"
    },
    {
     "data": {
      "text/plain": [
       "{'name': '벨벳 매트 립 펜슬 - 바하마',\n",
       " 'url': 'http://www.narscosmetics.co.kr/on/demandware.store/Sites-KR-Site/en_KR/Product-Variation?pid=999NACVTMLP01&dwvar_999NACVTMLP01_color=7845024590',\n",
       " 'image': ['http://en.narscosmetics.co.kr/on/demandware.static/-/Sites-itemmaster_NARS/default/dwef63c5b6/hi-res/0607845024590.jpg',\n",
       "  'http://en.narscosmetics.co.kr/on/demandware.static/-/Sites-itemmaster_NARS/default/dw0feb4e5a/swatch/0607845024590.jpg'],\n",
       " 'salePrice': '₩ 37,000',\n",
       " 'originalPrice': '₩ 37,000',\n",
       " 'color': '바하마',\n",
       " 'category': '',\n",
       " 'brand': '나스',\n",
       " 'volume': '#'}"
      ]
     },
     "metadata": {},
     "output_type": "display_data"
    },
    {
     "data": {
      "text/plain": [
       "<selenium.webdriver.remote.webelement.WebElement (session=\"ba51fcd1a1bc41dec611cca0306e5511\", element=\"0.05451967679050229-3\")>"
      ]
     },
     "metadata": {},
     "output_type": "display_data"
    },
    {
     "data": {
      "text/plain": [
       "{'name': '벨벳 매트 립 펜슬 - 벨르 드 쥬르',\n",
       " 'url': 'http://www.narscosmetics.co.kr/on/demandware.store/Sites-KR-Site/en_KR/Product-Variation?pid=999NACVTMLP01&dwvar_999NACVTMLP01_color=7845024651',\n",
       " 'image': ['http://en.narscosmetics.co.kr/on/demandware.static/-/Sites-itemmaster_NARS/default/dw2c82e370/hi-res/0607845024651.jpg',\n",
       "  'http://en.narscosmetics.co.kr/on/demandware.static/-/Sites-itemmaster_NARS/default/dw90d060c3/swatch/0607845024651.jpg'],\n",
       " 'salePrice': '₩ 37,000',\n",
       " 'originalPrice': '₩ 37,000',\n",
       " 'color': '벨르 드 쥬르',\n",
       " 'category': '',\n",
       " 'brand': '나스',\n",
       " 'volume': '#'}"
      ]
     },
     "metadata": {},
     "output_type": "display_data"
    },
    {
     "data": {
      "text/plain": [
       "<selenium.webdriver.remote.webelement.WebElement (session=\"ba51fcd1a1bc41dec611cca0306e5511\", element=\"0.18563135409217346-3\")>"
      ]
     },
     "metadata": {},
     "output_type": "display_data"
    },
    {
     "data": {
      "text/plain": [
       "{'name': '벨벳 매트 립 펜슬 - 베티나',\n",
       " 'url': 'http://www.narscosmetics.co.kr/on/demandware.store/Sites-KR-Site/en_KR/Product-Variation?pid=999NACVTMLP01&dwvar_999NACVTMLP01_color=7845024613',\n",
       " 'image': ['http://en.narscosmetics.co.kr/on/demandware.static/-/Sites-itemmaster_NARS/default/dwdfbcf350/hi-res/0607845024613.jpg',\n",
       "  'http://en.narscosmetics.co.kr/on/demandware.static/-/Sites-itemmaster_NARS/default/dwfd914a2a/swatch/0607845024613.jpg'],\n",
       " 'salePrice': '₩ 37,000',\n",
       " 'originalPrice': '₩ 37,000',\n",
       " 'color': '베티나',\n",
       " 'category': '',\n",
       " 'brand': '나스',\n",
       " 'volume': '#'}"
      ]
     },
     "metadata": {},
     "output_type": "display_data"
    },
    {
     "data": {
      "text/plain": [
       "<selenium.webdriver.remote.webelement.WebElement (session=\"ba51fcd1a1bc41dec611cca0306e5511\", element=\"0.3328422439602907-3\")>"
      ]
     },
     "metadata": {},
     "output_type": "display_data"
    },
    {
     "data": {
      "text/plain": [
       "{'name': '벨벳 매트 립 펜슬 - 볼레로',\n",
       " 'url': 'http://www.narscosmetics.co.kr/on/demandware.store/Sites-KR-Site/en_KR/Product-Variation?pid=999NACVTMLP01&dwvar_999NACVTMLP01_color=7845024705',\n",
       " 'image': ['http://en.narscosmetics.co.kr/on/demandware.static/-/Sites-itemmaster_NARS/default/dwd1d0765a/hi-res/0607845024705.jpg',\n",
       "  'http://en.narscosmetics.co.kr/on/demandware.static/-/Sites-itemmaster_NARS/default/dw4779112d/swatch/0607845024705.jpg'],\n",
       " 'salePrice': '₩ 37,000',\n",
       " 'originalPrice': '₩ 37,000',\n",
       " 'color': '볼레로',\n",
       " 'category': '',\n",
       " 'brand': '나스',\n",
       " 'volume': '#'}"
      ]
     },
     "metadata": {},
     "output_type": "display_data"
    },
    {
     "data": {
      "text/plain": [
       "<selenium.webdriver.remote.webelement.WebElement (session=\"ba51fcd1a1bc41dec611cca0306e5511\", element=\"0.026872648459415505-4\")>"
      ]
     },
     "metadata": {},
     "output_type": "display_data"
    },
    {
     "data": {
      "text/plain": [
       "{'name': '벨벳 매트 립 펜슬 - 컨수밍 레드',\n",
       " 'url': 'http://www.narscosmetics.co.kr/on/demandware.store/Sites-KR-Site/en_KR/Product-Variation?pid=999NACVTMLP01&dwvar_999NACVTMLP01_color=7845024804',\n",
       " 'image': ['http://en.narscosmetics.co.kr/on/demandware.static/-/Sites-itemmaster_NARS/default/dwdf7c28d9/hi-res/0607845024804.jpg',\n",
       "  'http://en.narscosmetics.co.kr/on/demandware.static/-/Sites-itemmaster_NARS/default/dw1a9c53ab/alt1/0607845024804.jpg',\n",
       "  'http://en.narscosmetics.co.kr/on/demandware.static/Sites-KR-Site/-/en_KR/v1546225498151/images/noimageshadesmall.png'],\n",
       " 'salePrice': '₩ 37,000',\n",
       " 'originalPrice': '₩ 37,000',\n",
       " 'color': '컨수밍 레드',\n",
       " 'category': '',\n",
       " 'brand': '나스',\n",
       " 'volume': '#'}"
      ]
     },
     "metadata": {},
     "output_type": "display_data"
    },
    {
     "data": {
      "text/plain": [
       "<selenium.webdriver.remote.webelement.WebElement (session=\"ba51fcd1a1bc41dec611cca0306e5511\", element=\"0.05225826476557849-3\")>"
      ]
     },
     "metadata": {},
     "output_type": "display_data"
    },
    {
     "data": {
      "text/plain": [
       "{'name': '벨벳 매트 립 펜슬 - 크루엘라',\n",
       " 'url': 'http://www.narscosmetics.co.kr/on/demandware.store/Sites-KR-Site/en_KR/Product-Variation?pid=999NACVTMLP01&dwvar_999NACVTMLP01_color=7845024545',\n",
       " 'image': ['http://en.narscosmetics.co.kr/on/demandware.static/-/Sites-itemmaster_NARS/default/dw6f461bec/hi-res/0607845024545.jpg',\n",
       "  'http://en.narscosmetics.co.kr/on/demandware.static/-/Sites-itemmaster_NARS/default/dw8bcd88d7/swatch/0607845024545.jpg'],\n",
       " 'salePrice': '₩ 37,000',\n",
       " 'originalPrice': '₩ 37,000',\n",
       " 'color': '크루엘라',\n",
       " 'category': '',\n",
       " 'brand': '나스',\n",
       " 'volume': '#'}"
      ]
     },
     "metadata": {},
     "output_type": "display_data"
    },
    {
     "data": {
      "text/plain": [
       "<selenium.webdriver.remote.webelement.WebElement (session=\"ba51fcd1a1bc41dec611cca0306e5511\", element=\"0.4136950553095471-3\")>"
      ]
     },
     "metadata": {},
     "output_type": "display_data"
    },
    {
     "data": {
      "text/plain": [
       "{'name': '벨벳 매트 립 펜슬 - 댐드',\n",
       " 'url': 'http://www.narscosmetics.co.kr/on/demandware.store/Sites-KR-Site/en_KR/Product-Variation?pid=999NACVTMLP01&dwvar_999NACVTMLP01_color=7845024569',\n",
       " 'image': ['http://en.narscosmetics.co.kr/on/demandware.static/-/Sites-itemmaster_NARS/default/dw96a03902/hi-res/0607845024569.jpg',\n",
       "  'http://en.narscosmetics.co.kr/on/demandware.static/-/Sites-itemmaster_NARS/default/dw6815186f/swatch/0607845024569.jpg'],\n",
       " 'salePrice': '₩ 37,000',\n",
       " 'originalPrice': '₩ 37,000',\n",
       " 'color': '댐드',\n",
       " 'category': '',\n",
       " 'brand': '나스',\n",
       " 'volume': '#'}"
      ]
     },
     "metadata": {},
     "output_type": "display_data"
    },
    {
     "data": {
      "text/plain": [
       "<selenium.webdriver.remote.webelement.WebElement (session=\"ba51fcd1a1bc41dec611cca0306e5511\", element=\"0.8769886403933949-4\")>"
      ]
     },
     "metadata": {},
     "output_type": "display_data"
    },
    {
     "data": {
      "text/plain": [
       "{'name': '벨벳 매트 립 펜슬 - 더티 마인드',\n",
       " 'url': 'http://www.narscosmetics.co.kr/on/demandware.store/Sites-KR-Site/en_KR/Product-Variation?pid=999NACVTMLP01&dwvar_999NACVTMLP01_color=7845024927',\n",
       " 'image': ['http://en.narscosmetics.co.kr/on/demandware.static/-/Sites-itemmaster_NARS/default/dw71d73bce/hi-res/0607845024927.jpg',\n",
       "  'http://en.narscosmetics.co.kr/on/demandware.static/-/Sites-itemmaster_NARS/default/dwc9b65ec0/alt1/0607845024927.jpg',\n",
       "  'http://en.narscosmetics.co.kr/on/demandware.static/Sites-KR-Site/-/en_KR/v1546225498151/images/noimageshadesmall.png'],\n",
       " 'salePrice': '₩ 37,000',\n",
       " 'originalPrice': '₩ 37,000',\n",
       " 'color': '더티 마인드',\n",
       " 'category': '',\n",
       " 'brand': '나스',\n",
       " 'volume': '#'}"
      ]
     },
     "metadata": {},
     "output_type": "display_data"
    },
    {
     "data": {
      "text/plain": [
       "<selenium.webdriver.remote.webelement.WebElement (session=\"ba51fcd1a1bc41dec611cca0306e5511\", element=\"0.15801424764450211-4\")>"
      ]
     },
     "metadata": {},
     "output_type": "display_data"
    },
    {
     "data": {
      "text/plain": [
       "{'name': '벨벳 매트 립 펜슬 - 두 미 베이비',\n",
       " 'url': 'http://www.narscosmetics.co.kr/on/demandware.store/Sites-KR-Site/en_KR/Product-Variation?pid=999NACVTMLP01&dwvar_999NACVTMLP01_color=7845024880',\n",
       " 'image': ['http://en.narscosmetics.co.kr/on/demandware.static/-/Sites-itemmaster_NARS/default/dwd0b19ebd/hi-res/0607845024880.jpg',\n",
       "  'http://en.narscosmetics.co.kr/on/demandware.static/-/Sites-itemmaster_NARS/default/dwc9b65ec0/alt1/0607845024880.jpg',\n",
       "  'http://en.narscosmetics.co.kr/on/demandware.static/Sites-KR-Site/-/en_KR/v1546225498151/images/noimageshadesmall.png'],\n",
       " 'salePrice': '₩ 37,000',\n",
       " 'originalPrice': '₩ 37,000',\n",
       " 'color': '두 미 베이비',\n",
       " 'category': '',\n",
       " 'brand': '나스',\n",
       " 'volume': '#'}"
      ]
     },
     "metadata": {},
     "output_type": "display_data"
    },
    {
     "data": {
      "text/plain": [
       "<selenium.webdriver.remote.webelement.WebElement (session=\"ba51fcd1a1bc41dec611cca0306e5511\", element=\"0.8953973004879683-3\")>"
      ]
     },
     "metadata": {},
     "output_type": "display_data"
    },
    {
     "data": {
      "text/plain": [
       "{'name': '벨벳 매트 립 펜슬',\n",
       " 'url': 'http://www.narscosmetics.co.kr/on/demandware.store/Sites-KR-Site/en_KR/Product-Variation?pid=999NACVTMLP01&dwvar_999NACVTMLP01_color=',\n",
       " 'image': ['http://en.narscosmetics.co.kr/on/demandware.static/-/Sites-itemmaster_NARS/default/dwcff62ebd/hi-res/0607845024675.jpg',\n",
       "  'http://en.narscosmetics.co.kr/on/demandware.static/-/Sites-itemmaster_NARS/default/dw25625dfa/swatch/0607845024675.jpg'],\n",
       " 'salePrice': '₩ 37,000',\n",
       " 'originalPrice': '₩ 37,000',\n",
       " 'color': '바하마',\n",
       " 'category': '',\n",
       " 'brand': '나스',\n",
       " 'volume': '#'}"
      ]
     },
     "metadata": {},
     "output_type": "display_data"
    },
    {
     "data": {
      "text/plain": [
       "<selenium.webdriver.remote.webelement.WebElement (session=\"ba51fcd1a1bc41dec611cca0306e5511\", element=\"0.27721577507803863-3\")>"
      ]
     },
     "metadata": {},
     "output_type": "display_data"
    },
    {
     "data": {
      "text/plain": [
       "{'name': '벨벳 매트 립 펜슬 - 드래곤 걸',\n",
       " 'url': 'http://www.narscosmetics.co.kr/on/demandware.store/Sites-KR-Site/en_KR/Product-Variation?pid=999NACVTMLP01&dwvar_999NACVTMLP01_color=7845024576',\n",
       " 'image': ['http://en.narscosmetics.co.kr/on/demandware.static/-/Sites-itemmaster_NARS/default/dw5812a7f4/hi-res/0607845024576.jpg',\n",
       "  'http://en.narscosmetics.co.kr/on/demandware.static/-/Sites-itemmaster_NARS/default/dwf5c1dbd1/swatch/0607845024576.jpg'],\n",
       " 'salePrice': '₩ 37,000',\n",
       " 'originalPrice': '₩ 37,000',\n",
       " 'color': '드래곤 걸',\n",
       " 'category': '',\n",
       " 'brand': '나스',\n",
       " 'volume': '#'}"
      ]
     },
     "metadata": {},
     "output_type": "display_data"
    },
    {
     "data": {
      "text/plain": [
       "<selenium.webdriver.remote.webelement.WebElement (session=\"ba51fcd1a1bc41dec611cca0306e5511\", element=\"0.009884644776299245-4\")>"
      ]
     },
     "metadata": {},
     "output_type": "display_data"
    },
    {
     "data": {
      "text/plain": [
       "{'name': '벨벳 매트 립 펜슬 - 인데인저드 레드',\n",
       " 'url': 'http://www.narscosmetics.co.kr/on/demandware.store/Sites-KR-Site/en_KR/Product-Variation?pid=999NACVTMLP01&dwvar_999NACVTMLP01_color=7845024934',\n",
       " 'image': ['http://en.narscosmetics.co.kr/on/demandware.static/-/Sites-itemmaster_NARS/default/dw4c41aca4/hi-res/0607845024934.jpg',\n",
       "  'http://en.narscosmetics.co.kr/on/demandware.static/-/Sites-itemmaster_NARS/default/dwc9b65ec0/alt1/0607845024934.jpg',\n",
       "  'http://en.narscosmetics.co.kr/on/demandware.static/Sites-KR-Site/-/en_KR/v1546225498151/images/noimageshadesmall.png'],\n",
       " 'salePrice': '₩ 37,000',\n",
       " 'originalPrice': '₩ 37,000',\n",
       " 'color': '인데인저드 레드',\n",
       " 'category': '',\n",
       " 'brand': '나스',\n",
       " 'volume': '#'}"
      ]
     },
     "metadata": {},
     "output_type": "display_data"
    },
    {
     "data": {
      "text/plain": [
       "<selenium.webdriver.remote.webelement.WebElement (session=\"ba51fcd1a1bc41dec611cca0306e5511\", element=\"0.6501991967098839-4\")>"
      ]
     },
     "metadata": {},
     "output_type": "display_data"
    },
    {
     "data": {
      "text/plain": [
       "{'name': '벨벳 매트 립 펜슬 - 페이머스 레드',\n",
       " 'url': 'http://www.narscosmetics.co.kr/on/demandware.store/Sites-KR-Site/en_KR/Product-Variation?pid=999NACVTMLP01&dwvar_999NACVTMLP01_color=7845024897',\n",
       " 'image': ['http://en.narscosmetics.co.kr/on/demandware.static/-/Sites-itemmaster_NARS/default/dw40dfa561/hi-res/0607845024897.jpg',\n",
       "  'http://en.narscosmetics.co.kr/on/demandware.static/-/Sites-itemmaster_NARS/default/dwc9b65ec0/alt1/0607845024897.jpg',\n",
       "  'http://en.narscosmetics.co.kr/on/demandware.static/Sites-KR-Site/-/en_KR/v1546225498151/images/noimageshadesmall.png'],\n",
       " 'salePrice': '₩ 37,000',\n",
       " 'originalPrice': '₩ 37,000',\n",
       " 'color': '페이머스 레드',\n",
       " 'category': '',\n",
       " 'brand': '나스',\n",
       " 'volume': '#'}"
      ]
     },
     "metadata": {},
     "output_type": "display_data"
    },
    {
     "data": {
      "text/plain": [
       "<selenium.webdriver.remote.webelement.WebElement (session=\"ba51fcd1a1bc41dec611cca0306e5511\", element=\"0.7936118003488617-4\")>"
      ]
     },
     "metadata": {},
     "output_type": "display_data"
    },
    {
     "data": {
      "text/plain": [
       "{'name': '벨벳 매트 립 펜슬 - 겟 오프',\n",
       " 'url': 'http://www.narscosmetics.co.kr/on/demandware.store/Sites-KR-Site/en_KR/Product-Variation?pid=999NACVTMLP01&dwvar_999NACVTMLP01_color=7845024866',\n",
       " 'image': ['http://en.narscosmetics.co.kr/on/demandware.static/-/Sites-itemmaster_NARS/default/dw6ae48a73/hi-res/0607845024866.jpg',\n",
       "  'http://en.narscosmetics.co.kr/on/demandware.static/-/Sites-itemmaster_NARS/default/dwc9b65ec0/alt1/0607845024866.jpg',\n",
       "  'http://en.narscosmetics.co.kr/on/demandware.static/Sites-KR-Site/-/en_KR/v1546225498151/images/noimageshadesmall.png'],\n",
       " 'salePrice': '₩ 37,000',\n",
       " 'originalPrice': '₩ 37,000',\n",
       " 'color': '겟 오프',\n",
       " 'category': '',\n",
       " 'brand': '나스',\n",
       " 'volume': '#'}"
      ]
     },
     "metadata": {},
     "output_type": "display_data"
    },
    {
     "data": {
      "text/plain": [
       "<selenium.webdriver.remote.webelement.WebElement (session=\"ba51fcd1a1bc41dec611cca0306e5511\", element=\"0.1825304882389931-4\")>"
      ]
     },
     "metadata": {},
     "output_type": "display_data"
    },
    {
     "data": {
      "text/plain": [
       "{'name': '벨벳 매트 립 펜슬 - 인페추에이티드 레드',\n",
       " 'url': 'http://www.narscosmetics.co.kr/on/demandware.store/Sites-KR-Site/en_KR/Product-Variation?pid=999NACVTMLP01&dwvar_999NACVTMLP01_color=7845024798',\n",
       " 'image': ['http://en.narscosmetics.co.kr/on/demandware.static/-/Sites-itemmaster_NARS/default/dw1835d2c5/hi-res/0607845024798.jpg',\n",
       "  'http://en.narscosmetics.co.kr/on/demandware.static/-/Sites-itemmaster_NARS/default/dw1a9c53ab/alt1/0607845024798.jpg',\n",
       "  'http://en.narscosmetics.co.kr/on/demandware.static/Sites-KR-Site/-/en_KR/v1546225498151/images/noimageshadesmall.png'],\n",
       " 'salePrice': '₩ 37,000',\n",
       " 'originalPrice': '₩ 37,000',\n",
       " 'color': '인페추에이티드 레드',\n",
       " 'category': '',\n",
       " 'brand': '나스',\n",
       " 'volume': '#'}"
      ]
     },
     "metadata": {},
     "output_type": "display_data"
    },
    {
     "data": {
      "text/plain": [
       "<selenium.webdriver.remote.webelement.WebElement (session=\"ba51fcd1a1bc41dec611cca0306e5511\", element=\"0.02311341773893516-4\")>"
      ]
     },
     "metadata": {},
     "output_type": "display_data"
    },
    {
     "data": {
      "text/plain": [
       "{'name': '벨벳 매트 립 펜슬 - 인트리깅',\n",
       " 'url': 'http://www.narscosmetics.co.kr/on/demandware.store/Sites-KR-Site/en_KR/Product-Variation?pid=999NACVTMLP01&dwvar_999NACVTMLP01_color=7845024873',\n",
       " 'image': ['http://en.narscosmetics.co.kr/on/demandware.static/-/Sites-itemmaster_NARS/default/dw5cc1b683/hi-res/0607845024873.jpg',\n",
       "  'http://en.narscosmetics.co.kr/on/demandware.static/-/Sites-itemmaster_NARS/default/dwc9b65ec0/alt1/0607845024873.jpg',\n",
       "  'http://en.narscosmetics.co.kr/on/demandware.static/Sites-KR-Site/-/en_KR/v1546225498151/images/noimageshadesmall.png'],\n",
       " 'salePrice': '₩ 37,000',\n",
       " 'originalPrice': '₩ 37,000',\n",
       " 'color': '인트리깅',\n",
       " 'category': '',\n",
       " 'brand': '나스',\n",
       " 'volume': '#'}"
      ]
     },
     "metadata": {},
     "output_type": "display_data"
    },
    {
     "data": {
      "text/plain": [
       "<selenium.webdriver.remote.webelement.WebElement (session=\"ba51fcd1a1bc41dec611cca0306e5511\", element=\"0.5531308551121068-4\")>"
      ]
     },
     "metadata": {},
     "output_type": "display_data"
    },
    {
     "data": {
      "text/plain": [
       "{'name': '벨벳 매트 립 펜슬 - 레츠 고 크레이지',\n",
       " 'url': 'http://www.narscosmetics.co.kr/on/demandware.store/Sites-KR-Site/en_KR/Product-Variation?pid=999NACVTMLP01&dwvar_999NACVTMLP01_color=7845024903',\n",
       " 'image': ['http://en.narscosmetics.co.kr/on/demandware.static/-/Sites-itemmaster_NARS/default/dw5c7284cd/hi-res/0607845024903.jpg',\n",
       "  'http://en.narscosmetics.co.kr/on/demandware.static/-/Sites-itemmaster_NARS/default/dwc9b65ec0/alt1/0607845024903.jpg',\n",
       "  'http://en.narscosmetics.co.kr/on/demandware.static/Sites-KR-Site/-/en_KR/v1546225498151/images/noimageshadesmall.png'],\n",
       " 'salePrice': '₩ 37,000',\n",
       " 'originalPrice': '₩ 37,000',\n",
       " 'color': '렛츠 고 크레이지',\n",
       " 'category': '',\n",
       " 'brand': '나스',\n",
       " 'volume': '#'}"
      ]
     },
     "metadata": {},
     "output_type": "display_data"
    },
    {
     "data": {
      "text/plain": [
       "<selenium.webdriver.remote.webelement.WebElement (session=\"ba51fcd1a1bc41dec611cca0306e5511\", element=\"0.9743962199654848-4\")>"
      ]
     },
     "metadata": {},
     "output_type": "display_data"
    },
    {
     "data": {
      "text/plain": [
       "{'name': '벨벳 매트 립 펜슬 - 론리 하트',\n",
       " 'url': 'http://www.narscosmetics.co.kr/on/demandware.store/Sites-KR-Site/en_KR/Product-Variation?pid=999NACVTMLP01&dwvar_999NACVTMLP01_color=7845024958',\n",
       " 'image': ['http://en.narscosmetics.co.kr/on/demandware.static/-/Sites-itemmaster_NARS/default/dw61d5fa23/hi-res/0607845024958.jpg',\n",
       "  'http://en.narscosmetics.co.kr/on/demandware.static/-/Sites-itemmaster_NARS/default/dwc9b65ec0/alt1/0607845024958.jpg',\n",
       "  'http://en.narscosmetics.co.kr/on/demandware.static/Sites-KR-Site/-/en_KR/v1546225498151/images/noimageshadesmall.png'],\n",
       " 'salePrice': '₩ 37,000',\n",
       " 'originalPrice': '₩ 37,000',\n",
       " 'color': '론리 하트',\n",
       " 'category': '',\n",
       " 'brand': '나스',\n",
       " 'volume': '#'}"
      ]
     },
     "metadata": {},
     "output_type": "display_data"
    },
    {
     "data": {
      "text/plain": [
       "<selenium.webdriver.remote.webelement.WebElement (session=\"ba51fcd1a1bc41dec611cca0306e5511\", element=\"0.6383018535263243-3\")>"
      ]
     },
     "metadata": {},
     "output_type": "display_data"
    },
    {
     "data": {
      "text/plain": [
       "{'name': '벨벳 매트 립 펜슬 - 미스테리어스 레드',\n",
       " 'url': 'http://www.narscosmetics.co.kr/on/demandware.store/Sites-KR-Site/en_KR/Product-Variation?pid=999NACVTMLP01&dwvar_999NACVTMLP01_color=7845024774',\n",
       " 'image': ['http://en.narscosmetics.co.kr/on/demandware.static/-/Sites-itemmaster_NARS/default/dw99254097/hi-res/0607845024774.jpg',\n",
       "  'http://en.narscosmetics.co.kr/on/demandware.static/-/Sites-itemmaster_NARS/default/dw953362fd/swatch/0607845024774.jpg'],\n",
       " 'salePrice': '₩ 37,000',\n",
       " 'originalPrice': '₩ 37,000',\n",
       " 'color': '미스테리어스 레드',\n",
       " 'category': '',\n",
       " 'brand': '나스',\n",
       " 'volume': '#'}"
      ]
     },
     "metadata": {},
     "output_type": "display_data"
    },
    {
     "data": {
      "text/plain": [
       "<selenium.webdriver.remote.webelement.WebElement (session=\"ba51fcd1a1bc41dec611cca0306e5511\", element=\"0.9431904670219251-3\")>"
      ]
     },
     "metadata": {},
     "output_type": "display_data"
    },
    {
     "data": {
      "text/plain": [
       "{'name': '벨벳 매트 립 펜슬 - 네버 세이 네버',\n",
       " 'url': 'http://www.narscosmetics.co.kr/on/demandware.store/Sites-KR-Site/en_KR/Product-Variation?pid=999NACVTMLP01&dwvar_999NACVTMLP01_color=7845024729',\n",
       " 'image': ['http://en.narscosmetics.co.kr/on/demandware.static/-/Sites-itemmaster_NARS/default/dwc0d12a57/hi-res/0607845024729.jpg',\n",
       "  'http://en.narscosmetics.co.kr/on/demandware.static/-/Sites-itemmaster_NARS/default/dweae08611/swatch/0607845024729.jpg'],\n",
       " 'salePrice': '₩ 37,000',\n",
       " 'originalPrice': '₩ 37,000',\n",
       " 'color': '네버 세이 네버',\n",
       " 'category': '',\n",
       " 'brand': '나스',\n",
       " 'volume': '#'}"
      ]
     },
     "metadata": {},
     "output_type": "display_data"
    },
    {
     "data": {
      "text/plain": [
       "<selenium.webdriver.remote.webelement.WebElement (session=\"ba51fcd1a1bc41dec611cca0306e5511\", element=\"0.8108949097710552-3\")>"
      ]
     },
     "metadata": {},
     "output_type": "display_data"
    },
    {
     "data": {
      "text/plain": [
       "{'name': '벨벳 매트 립 펜슬 - 팽폴',\n",
       " 'url': 'http://www.narscosmetics.co.kr/on/demandware.store/Sites-KR-Site/en_KR/Product-Variation?pid=999NACVTMLP01&dwvar_999NACVTMLP01_color=7845024767',\n",
       " 'image': ['http://en.narscosmetics.co.kr/on/demandware.static/-/Sites-itemmaster_NARS/default/dw7aa4a4be/hi-res/0607845024767.jpg',\n",
       "  'http://en.narscosmetics.co.kr/on/demandware.static/-/Sites-itemmaster_NARS/default/dwe5c052ca/swatch/0607845024767.jpg'],\n",
       " 'salePrice': '₩ 37,000',\n",
       " 'originalPrice': '₩ 37,000',\n",
       " 'color': '팽폴',\n",
       " 'category': '',\n",
       " 'brand': '나스',\n",
       " 'volume': '#'}"
      ]
     },
     "metadata": {},
     "output_type": "display_data"
    },
    {
     "data": {
      "text/plain": [
       "<selenium.webdriver.remote.webelement.WebElement (session=\"ba51fcd1a1bc41dec611cca0306e5511\", element=\"0.7761597904965367-3\")>"
      ]
     },
     "metadata": {},
     "output_type": "display_data"
    },
    {
     "data": {
      "text/plain": [
       "{'name': '벨벳 매트 립 펜슬 - 팝 라이프',\n",
       " 'url': 'http://www.narscosmetics.co.kr/on/demandware.store/Sites-KR-Site/en_KR/Product-Variation?pid=999NACVTMLP01&dwvar_999NACVTMLP01_color=7845024699',\n",
       " 'image': ['http://en.narscosmetics.co.kr/on/demandware.static/-/Sites-itemmaster_NARS/default/dwaf7e1128/hi-res/0607845024699.jpg',\n",
       "  'http://en.narscosmetics.co.kr/on/demandware.static/-/Sites-itemmaster_NARS/default/dwd03f9262/swatch/0607845024699.jpg'],\n",
       " 'salePrice': '₩ 37,000',\n",
       " 'originalPrice': '₩ 37,000',\n",
       " 'color': '팝 라이프',\n",
       " 'category': '',\n",
       " 'brand': '나스',\n",
       " 'volume': '#'}"
      ]
     },
     "metadata": {},
     "output_type": "display_data"
    },
    {
     "data": {
      "text/plain": [
       "<selenium.webdriver.remote.webelement.WebElement (session=\"ba51fcd1a1bc41dec611cca0306e5511\", element=\"0.7878730535903793-4\")>"
      ]
     },
     "metadata": {},
     "output_type": "display_data"
    },
    {
     "data": {
      "text/plain": [
       "{'name': '벨벳 매트 립 펜슬 - 푸시 컨트롤',\n",
       " 'url': 'http://www.narscosmetics.co.kr/on/demandware.store/Sites-KR-Site/en_KR/Product-Variation?pid=999NACVTMLP01&dwvar_999NACVTMLP01_color=7845024910',\n",
       " 'image': ['http://en.narscosmetics.co.kr/on/demandware.static/-/Sites-itemmaster_NARS/default/dw7b5e94e0/hi-res/0607845024910.jpg',\n",
       "  'http://en.narscosmetics.co.kr/on/demandware.static/-/Sites-itemmaster_NARS/default/dwc9b65ec0/alt1/0607845024910.jpg',\n",
       "  'http://en.narscosmetics.co.kr/on/demandware.static/Sites-KR-Site/-/en_KR/v1546225498151/images/noimageshadesmall.png'],\n",
       " 'salePrice': '₩ 37,000',\n",
       " 'originalPrice': '₩ 37,000',\n",
       " 'color': '푸시 컨트롤',\n",
       " 'category': '',\n",
       " 'brand': '나스',\n",
       " 'volume': '#'}"
      ]
     },
     "metadata": {},
     "output_type": "display_data"
    },
    {
     "data": {
      "text/plain": [
       "<selenium.webdriver.remote.webelement.WebElement (session=\"ba51fcd1a1bc41dec611cca0306e5511\", element=\"0.6419276222302355-3\")>"
      ]
     },
     "metadata": {},
     "output_type": "display_data"
    },
    {
     "data": {
      "text/plain": [
       "{'name': '벨벳 매트 립 펜슬 - 레드 스퀘어',\n",
       " 'url': 'http://www.narscosmetics.co.kr/on/demandware.store/Sites-KR-Site/en_KR/Product-Variation?pid=999NACVTMLP01&dwvar_999NACVTMLP01_color=7845024552',\n",
       " 'image': ['http://en.narscosmetics.co.kr/on/demandware.static/-/Sites-itemmaster_NARS/default/dw39a502e1/hi-res/0607845024552.jpg',\n",
       "  'http://en.narscosmetics.co.kr/on/demandware.static/-/Sites-itemmaster_NARS/default/dw7b44c5b5/swatch/0607845024552.jpg'],\n",
       " 'salePrice': '₩ 37,000',\n",
       " 'originalPrice': '₩ 37,000',\n",
       " 'color': '레드 스퀘어',\n",
       " 'category': '',\n",
       " 'brand': '나스',\n",
       " 'volume': '#'}"
      ]
     },
     "metadata": {},
     "output_type": "display_data"
    },
    {
     "data": {
      "text/plain": [
       "<selenium.webdriver.remote.webelement.WebElement (session=\"ba51fcd1a1bc41dec611cca0306e5511\", element=\"0.264033982529303-3\")>"
      ]
     },
     "metadata": {},
     "output_type": "display_data"
    },
    {
     "data": {
      "text/plain": [
       "{'name': '벨벳 매트 립 펜슬 - 로만 홀리데이',\n",
       " 'url': 'http://www.narscosmetics.co.kr/on/demandware.store/Sites-KR-Site/en_KR/Product-Variation?pid=999NACVTMLP01&dwvar_999NACVTMLP01_color=7845024668',\n",
       " 'image': ['http://en.narscosmetics.co.kr/on/demandware.static/-/Sites-itemmaster_NARS/default/dw8ab6245e/hi-res/0607845024668.jpg',\n",
       "  'http://en.narscosmetics.co.kr/on/demandware.static/-/Sites-itemmaster_NARS/default/dw7d0f470f/swatch/0607845024668.jpg'],\n",
       " 'salePrice': '₩ 37,000',\n",
       " 'originalPrice': '₩ 37,000',\n",
       " 'color': '로만 홀리데이',\n",
       " 'category': '',\n",
       " 'brand': '나스',\n",
       " 'volume': '#'}"
      ]
     },
     "metadata": {},
     "output_type": "display_data"
    },
    {
     "data": {
      "text/plain": [
       "<selenium.webdriver.remote.webelement.WebElement (session=\"ba51fcd1a1bc41dec611cca0306e5511\", element=\"0.06507783971853809-3\")>"
      ]
     },
     "metadata": {},
     "output_type": "display_data"
    },
    {
     "data": {
      "text/plain": [
       "{'name': '벨벳 매트 립 펜슬 - 섹스 머신',\n",
       " 'url': 'http://www.narscosmetics.co.kr/on/demandware.store/Sites-KR-Site/en_KR/Product-Variation?pid=999NACVTMLP01&dwvar_999NACVTMLP01_color=7845024521',\n",
       " 'image': ['http://en.narscosmetics.co.kr/on/demandware.static/-/Sites-itemmaster_NARS/default/dw092285b9/hi-res/0607845024521.jpg',\n",
       "  'http://en.narscosmetics.co.kr/on/demandware.static/-/Sites-itemmaster_NARS/default/dw06e6a313/swatch/0607845024521.jpg'],\n",
       " 'salePrice': '₩ 37,000',\n",
       " 'originalPrice': '₩ 37,000',\n",
       " 'color': '섹스 머신',\n",
       " 'category': '',\n",
       " 'brand': '나스',\n",
       " 'volume': '#'}"
      ]
     },
     "metadata": {},
     "output_type": "display_data"
    },
    {
     "data": {
      "text/plain": [
       "<selenium.webdriver.remote.webelement.WebElement (session=\"ba51fcd1a1bc41dec611cca0306e5511\", element=\"0.03091801328547783-3\")>"
      ]
     },
     "metadata": {},
     "output_type": "display_data"
    },
    {
     "data": {
      "text/plain": [
       "{'name': '벨벳 매트 립 펜슬 - 트랭블루',\n",
       " 'url': 'http://www.narscosmetics.co.kr/on/demandware.store/Sites-KR-Site/en_KR/Product-Variation?pid=999NACVTMLP01&dwvar_999NACVTMLP01_color=7845024712',\n",
       " 'image': ['http://en.narscosmetics.co.kr/on/demandware.static/-/Sites-itemmaster_NARS/default/dw45be3747/hi-res/0607845024712.jpg',\n",
       "  'http://en.narscosmetics.co.kr/on/demandware.static/-/Sites-itemmaster_NARS/default/dwf6ff060f/swatch/0607845024712.jpg'],\n",
       " 'salePrice': '₩ 37,000',\n",
       " 'originalPrice': '₩ 37,000',\n",
       " 'color': '트랭블루',\n",
       " 'category': '',\n",
       " 'brand': '나스',\n",
       " 'volume': '#'}"
      ]
     },
     "metadata": {},
     "output_type": "display_data"
    },
    {
     "data": {
      "text/plain": [
       "<selenium.webdriver.remote.webelement.WebElement (session=\"ba51fcd1a1bc41dec611cca0306e5511\", element=\"0.008981990472872292-4\")>"
      ]
     },
     "metadata": {},
     "output_type": "display_data"
    },
    {
     "data": {
      "text/plain": [
       "{'name': '벨벳 매트 립 펜슬 - 언스포큰',\n",
       " 'url': 'http://www.narscosmetics.co.kr/on/demandware.store/Sites-KR-Site/en_KR/Product-Variation?pid=999NACVTMLP01&dwvar_999NACVTMLP01_color=7845024941',\n",
       " 'image': ['http://en.narscosmetics.co.kr/on/demandware.static/-/Sites-itemmaster_NARS/default/dwd6e25293/hi-res/0607845024941.jpg',\n",
       "  'http://en.narscosmetics.co.kr/on/demandware.static/-/Sites-itemmaster_NARS/default/dwc9b65ec0/alt1/0607845024941.jpg',\n",
       "  'http://en.narscosmetics.co.kr/on/demandware.static/Sites-KR-Site/-/en_KR/v1546225498151/images/noimageshadesmall.png'],\n",
       " 'salePrice': '₩ 37,000',\n",
       " 'originalPrice': '₩ 37,000',\n",
       " 'color': '언스포큰',\n",
       " 'category': '',\n",
       " 'brand': '나스',\n",
       " 'volume': '#'}"
      ]
     },
     "metadata": {},
     "output_type": "display_data"
    },
    {
     "data": {
      "text/plain": [
       "<selenium.webdriver.remote.webelement.WebElement (session=\"ba51fcd1a1bc41dec611cca0306e5511\", element=\"0.6386697349607438-3\")>"
      ]
     },
     "metadata": {},
     "output_type": "display_data"
    },
    {
     "data": {
      "text/plain": [
       "{'name': '벨벳 매트 립 펜슬 - 발키리',\n",
       " 'url': 'http://www.narscosmetics.co.kr/on/demandware.store/Sites-KR-Site/en_KR/Product-Variation?pid=999NACVTMLP01&dwvar_999NACVTMLP01_color=7845024637',\n",
       " 'image': ['http://en.narscosmetics.co.kr/on/demandware.static/-/Sites-itemmaster_NARS/default/dw30f851ea/hi-res/0607845024637.jpg',\n",
       "  'http://en.narscosmetics.co.kr/on/demandware.static/-/Sites-itemmaster_NARS/default/dw86486fa3/swatch/0607845024637.jpg'],\n",
       " 'salePrice': '₩ 37,000',\n",
       " 'originalPrice': '₩ 37,000',\n",
       " 'color': '발키리',\n",
       " 'category': '',\n",
       " 'brand': '나스',\n",
       " 'volume': '#'}"
      ]
     },
     "metadata": {},
     "output_type": "display_data"
    },
    {
     "data": {
      "text/plain": [
       "<selenium.webdriver.remote.webelement.WebElement (session=\"ba51fcd1a1bc41dec611cca0306e5511\", element=\"0.031155589165825948-3\")>"
      ]
     },
     "metadata": {},
     "output_type": "display_data"
    },
    {
     "data": {
      "text/plain": [
       "{'name': '나스 파워매트 립 러스터',\n",
       " 'url': 'http://www.narscosmetics.co.kr/on/demandware.store/Sites-KR-Site/en_KR/Product-Variation?pid=999NAC00201801&dwvar_999NAC00201801_color=',\n",
       " 'image': ['http://en.narscosmetics.co.kr/on/demandware.static/-/Sites-itemmaster_NARS/default/dwd1c3a317/hi-res/0607845027881.jpg',\n",
       "  'http://en.narscosmetics.co.kr/on/demandware.static/-/Sites-itemmaster_NARS/default/dwb1d7754c/shade/0607845027881.jpg'],\n",
       " 'salePrice': '₩ 37,000',\n",
       " 'originalPrice': '₩ 37,000',\n",
       " 'color': '하드코어',\n",
       " 'category': '',\n",
       " 'brand': '나스',\n",
       " 'volume': '#'}"
      ]
     },
     "metadata": {},
     "output_type": "display_data"
    },
    {
     "data": {
      "text/plain": [
       "<selenium.webdriver.remote.webelement.WebElement (session=\"ba51fcd1a1bc41dec611cca0306e5511\", element=\"0.9728350409142577-3\")>"
      ]
     },
     "metadata": {},
     "output_type": "display_data"
    },
    {
     "data": {
      "text/plain": [
       "{'name': '나스 파워매트 립 러스터',\n",
       " 'url': 'http://www.narscosmetics.co.kr/on/demandware.store/Sites-KR-Site/en_KR/Product-Variation?pid=999NAC00201801&dwvar_999NAC00201801_color=Shimmering%20Mauve%20Rose',\n",
       " 'image': ['http://en.narscosmetics.co.kr/on/demandware.static/-/Sites-itemmaster_NARS/default/dw98d0ef53/hi-res/B_powermatte_metallic_shredded_p2_1000x1000.jpg',\n",
       "  'http://en.narscosmetics.co.kr/on/demandware.static/-/Sites-itemmaster_NARS/default/dw330c24c4/hi-res/B_power_matte_lip_swatch_proposal_02_1000x1000.jpg'],\n",
       " 'salePrice': '₩ 37,000',\n",
       " 'originalPrice': '₩ 37,000',\n",
       " 'color': '슈레디드',\n",
       " 'category': '',\n",
       " 'brand': '나스',\n",
       " 'volume': '#'}"
      ]
     },
     "metadata": {},
     "output_type": "display_data"
    },
    {
     "data": {
      "text/plain": [
       "<selenium.webdriver.remote.webelement.WebElement (session=\"ba51fcd1a1bc41dec611cca0306e5511\", element=\"0.3745505702957539-3\")>"
      ]
     },
     "metadata": {},
     "output_type": "display_data"
    },
    {
     "data": {
      "text/plain": [
       "{'name': '나스 파워매트 립 러스터',\n",
       " 'url': 'http://www.narscosmetics.co.kr/on/demandware.store/Sites-KR-Site/en_KR/Product-Variation?pid=999NAC00201801&dwvar_999NAC00201801_color=Shimmering%20Cocoa',\n",
       " 'image': ['http://en.narscosmetics.co.kr/on/demandware.static/-/Sites-itemmaster_NARS/default/dwa612aa12/hi-res/B_powermatte_metallic_shatter_p3_1000x1000.jpg',\n",
       "  'http://en.narscosmetics.co.kr/on/demandware.static/-/Sites-itemmaster_NARS/default/dwc11af437/hi-res/B_power_matte_lip_swatch_proposal_03_1000x1000.jpg'],\n",
       " 'salePrice': '₩ 37,000',\n",
       " 'originalPrice': '₩ 37,000',\n",
       " 'color': '쉐터',\n",
       " 'category': '',\n",
       " 'brand': '나스',\n",
       " 'volume': '#'}"
      ]
     },
     "metadata": {},
     "output_type": "display_data"
    },
    {
     "data": {
      "text/plain": [
       "<selenium.webdriver.remote.webelement.WebElement (session=\"ba51fcd1a1bc41dec611cca0306e5511\", element=\"0.778915321512595-3\")>"
      ]
     },
     "metadata": {},
     "output_type": "display_data"
    },
    {
     "data": {
      "text/plain": [
       "{'name': '나스 파워매트 립 러스터',\n",
       " 'url': 'http://www.narscosmetics.co.kr/on/demandware.store/Sites-KR-Site/en_KR/Product-Variation?pid=999NAC00201801&dwvar_999NAC00201801_color=Shimmering%20Burgundy',\n",
       " 'image': ['http://en.narscosmetics.co.kr/on/demandware.static/-/Sites-itemmaster_NARS/default/dwe4486b27/hi-res/0607845027911.jpg',\n",
       "  'http://en.narscosmetics.co.kr/on/demandware.static/-/Sites-itemmaster_NARS/default/dw8f9f994e/shade/0607845027911.jpg'],\n",
       " 'salePrice': '₩ 37,000',\n",
       " 'originalPrice': '₩ 37,000',\n",
       " 'color': '피어스',\n",
       " 'category': '',\n",
       " 'brand': '나스',\n",
       " 'volume': '#'}"
      ]
     },
     "metadata": {},
     "output_type": "display_data"
    },
    {
     "data": {
      "text/plain": [
       "<selenium.webdriver.remote.webelement.WebElement (session=\"ba51fcd1a1bc41dec611cca0306e5511\", element=\"0.710937452499363-3\")>"
      ]
     },
     "metadata": {},
     "output_type": "display_data"
    },
    {
     "data": {
      "text/plain": [
       "{'name': '나스 파워매트 립 러스터',\n",
       " 'url': 'http://www.narscosmetics.co.kr/on/demandware.store/Sites-KR-Site/en_KR/Product-Variation?pid=999NAC00201801&dwvar_999NAC00201801_color=Shimmering%20Blackberry',\n",
       " 'image': ['http://en.narscosmetics.co.kr/on/demandware.static/-/Sites-itemmaster_NARS/default/dwc0f9fb4b/hi-res/B_powermatte_metallic_combat_p5_1000x1000.jpg',\n",
       "  'http://en.narscosmetics.co.kr/on/demandware.static/-/Sites-itemmaster_NARS/default/dwab2c9d9c/hi-res/B_power_matte_lip_swatch_proposal_05_1000x1000.jpg'],\n",
       " 'salePrice': '₩ 37,000',\n",
       " 'originalPrice': '₩ 37,000',\n",
       " 'color': '컴배트',\n",
       " 'category': '',\n",
       " 'brand': '나스',\n",
       " 'volume': '#'}"
      ]
     },
     "metadata": {},
     "output_type": "display_data"
    },
    {
     "data": {
      "text/plain": [
       "<selenium.webdriver.remote.webelement.WebElement (session=\"ba51fcd1a1bc41dec611cca0306e5511\", element=\"0.9581146756586476-3\")>"
      ]
     },
     "metadata": {},
     "output_type": "display_data"
    },
    {
     "data": {
      "text/plain": [
       "{'name': '나스 파워매트 립 러스터',\n",
       " 'url': 'http://www.narscosmetics.co.kr/on/demandware.store/Sites-KR-Site/en_KR/Product-Variation?pid=999NAC00201801&dwvar_999NAC00201801_color=Shimmering%20Black%2fBrown',\n",
       " 'image': ['http://en.narscosmetics.co.kr/on/demandware.static/-/Sites-itemmaster_NARS/default/dw5786a99e/hi-res/B_powermatte_metallic_blackheart_p6_1000x1000.jpg',\n",
       "  'http://en.narscosmetics.co.kr/on/demandware.static/-/Sites-itemmaster_NARS/default/dwc154dea3/hi-res/B_power_matte_lip_swatch_proposal_06_1000x1000.jpg'],\n",
       " 'salePrice': '₩ 37,000',\n",
       " 'originalPrice': '₩ 37,000',\n",
       " 'color': '블랙하트',\n",
       " 'category': '',\n",
       " 'brand': '나스',\n",
       " 'volume': '#'}"
      ]
     },
     "metadata": {},
     "output_type": "display_data"
    },
    {
     "data": {
      "text/plain": [
       "<selenium.webdriver.remote.webelement.WebElement (session=\"ba51fcd1a1bc41dec611cca0306e5511\", element=\"0.8634772750205235-5\")>"
      ]
     },
     "metadata": {},
     "output_type": "display_data"
    },
    {
     "data": {
      "text/plain": [
       "{'name': '프리시전 립 라이너 - 아를',\n",
       " 'url': 'http://www.narscosmetics.co.kr/on/demandware.store/Sites-KR-Site/en_KR/Product-Variation?pid=999NAC0000054&dwvar_999NAC0000054_color=7845090830',\n",
       " 'image': ['http://en.narscosmetics.co.kr/on/demandware.static/-/Sites-itemmaster_NARS/default/dwc249244f/hi-res/0607845090830.jpg',\n",
       "  'http://en.narscosmetics.co.kr/on/demandware.static/-/Sites-itemmaster_NARS/default/dwfb766ed6/assets/PrecisionLipLiner_OnModel_2_ShadeRange_1000x1000.jpg',\n",
       "  'http://en.narscosmetics.co.kr/on/demandware.static/-/Sites-itemmaster_NARS/default/dwbe5511b8/assets/PrecisionLipLiner_OnModel_ShadeRange_1000x1000.jpg',\n",
       "  'http://en.narscosmetics.co.kr/on/demandware.static/Sites-KR-Site/-/en_KR/v1546225498151/images/noimageshadesmall.png'],\n",
       " 'salePrice': '₩ 33,000',\n",
       " 'originalPrice': '₩ 33,000',\n",
       " 'color': '아를',\n",
       " 'category': '',\n",
       " 'brand': '나스',\n",
       " 'volume': '#'}"
      ]
     },
     "metadata": {},
     "output_type": "display_data"
    },
    {
     "data": {
      "text/plain": [
       "<selenium.webdriver.remote.webelement.WebElement (session=\"ba51fcd1a1bc41dec611cca0306e5511\", element=\"0.8994350212946096-5\")>"
      ]
     },
     "metadata": {},
     "output_type": "display_data"
    },
    {
     "data": {
      "text/plain": [
       "{'name': '프리시전 립 라이너',\n",
       " 'url': 'http://www.narscosmetics.co.kr/on/demandware.store/Sites-KR-Site/en_KR/Product-Variation?pid=999NAC0000054&dwvar_999NAC0000054_color=',\n",
       " 'image': ['http://en.narscosmetics.co.kr/on/demandware.static/-/Sites-itemmaster_NARS/default/dwb8636ecf/hi-res/0607845090700.jpg',\n",
       "  'http://en.narscosmetics.co.kr/on/demandware.static/-/Sites-itemmaster_NARS/default/dwbe5511b8/assets/PrecisionLipLiner_OnModel_ShadeRange_1000x1000.jpg',\n",
       "  'http://en.narscosmetics.co.kr/on/demandware.static/-/Sites-itemmaster_NARS/default/dwfb766ed6/assets/PrecisionLipLiner_OnModel_2_ShadeRange_1000x1000.jpg',\n",
       "  'http://en.narscosmetics.co.kr/on/demandware.static/Sites-KR-Site/-/en_KR/v1546225498151/images/noimageshadesmall.png'],\n",
       " 'salePrice': '₩ 33,000',\n",
       " 'originalPrice': '₩ 33,000',\n",
       " 'color': '아를',\n",
       " 'category': '',\n",
       " 'brand': '나스',\n",
       " 'volume': '#'}"
      ]
     },
     "metadata": {},
     "output_type": "display_data"
    },
    {
     "data": {
      "text/plain": [
       "<selenium.webdriver.remote.webelement.WebElement (session=\"ba51fcd1a1bc41dec611cca0306e5511\", element=\"0.9184006789950603-5\")>"
      ]
     },
     "metadata": {},
     "output_type": "display_data"
    },
    {
     "data": {
      "text/plain": [
       "{'name': '프리시전 립 라이너 - 카프다일',\n",
       " 'url': 'http://www.narscosmetics.co.kr/on/demandware.store/Sites-KR-Site/en_KR/Product-Variation?pid=999NAC0000054&dwvar_999NAC0000054_color=7845090755',\n",
       " 'image': ['http://en.narscosmetics.co.kr/on/demandware.static/-/Sites-itemmaster_NARS/default/dw81270508/hi-res/0607845090755.jpg',\n",
       "  'http://en.narscosmetics.co.kr/on/demandware.static/-/Sites-itemmaster_NARS/default/dwfb766ed6/assets/PrecisionLipLiner_OnModel_2_ShadeRange_1000x1000.jpg',\n",
       "  'http://en.narscosmetics.co.kr/on/demandware.static/-/Sites-itemmaster_NARS/default/dwbe5511b8/assets/PrecisionLipLiner_OnModel_ShadeRange_1000x1000.jpg',\n",
       "  'http://en.narscosmetics.co.kr/on/demandware.static/Sites-KR-Site/-/en_KR/v1546225498151/images/noimageshadesmall.png'],\n",
       " 'salePrice': '₩ 33,000',\n",
       " 'originalPrice': '₩ 33,000',\n",
       " 'color': '카프다일',\n",
       " 'category': '',\n",
       " 'brand': '나스',\n",
       " 'volume': '#'}"
      ]
     },
     "metadata": {},
     "output_type": "display_data"
    },
    {
     "data": {
      "text/plain": [
       "<selenium.webdriver.remote.webelement.WebElement (session=\"ba51fcd1a1bc41dec611cca0306e5511\", element=\"0.5068973510174091-5\")>"
      ]
     },
     "metadata": {},
     "output_type": "display_data"
    },
    {
     "data": {
      "text/plain": [
       "{'name': '프리시전 립 라이너 - 카시스',\n",
       " 'url': 'http://www.narscosmetics.co.kr/on/demandware.store/Sites-KR-Site/en_KR/Product-Variation?pid=999NAC0000054&dwvar_999NAC0000054_color=7845090939',\n",
       " 'image': ['http://en.narscosmetics.co.kr/on/demandware.static/-/Sites-itemmaster_NARS/default/dw54951ca0/hi-res/0607845090939.jpg',\n",
       "  'http://en.narscosmetics.co.kr/on/demandware.static/-/Sites-itemmaster_NARS/default/dwfb766ed6/assets/PrecisionLipLiner_OnModel_2_ShadeRange_1000x1000.jpg',\n",
       "  'http://en.narscosmetics.co.kr/on/demandware.static/-/Sites-itemmaster_NARS/default/dwbe5511b8/assets/PrecisionLipLiner_OnModel_ShadeRange_1000x1000.jpg',\n",
       "  'http://en.narscosmetics.co.kr/on/demandware.static/Sites-KR-Site/-/en_KR/v1546225498151/images/noimageshadesmall.png'],\n",
       " 'salePrice': '₩ 33,000',\n",
       " 'originalPrice': '₩ 33,000',\n",
       " 'color': '카시스',\n",
       " 'category': '',\n",
       " 'brand': '나스',\n",
       " 'volume': '#'}"
      ]
     },
     "metadata": {},
     "output_type": "display_data"
    },
    {
     "data": {
      "text/plain": [
       "<selenium.webdriver.remote.webelement.WebElement (session=\"ba51fcd1a1bc41dec611cca0306e5511\", element=\"0.18603684957133493-5\")>"
      ]
     },
     "metadata": {},
     "output_type": "display_data"
    },
    {
     "data": {
      "text/plain": [
       "{'name': '프리시전 립 라이너 - 고르드',\n",
       " 'url': 'http://www.narscosmetics.co.kr/on/demandware.store/Sites-KR-Site/en_KR/Product-Variation?pid=999NAC0000054&dwvar_999NAC0000054_color=7845090885',\n",
       " 'image': ['http://en.narscosmetics.co.kr/on/demandware.static/-/Sites-itemmaster_NARS/default/dw89c467cf/hi-res/0607845090885.jpg',\n",
       "  'http://en.narscosmetics.co.kr/on/demandware.static/-/Sites-itemmaster_NARS/default/dwfb766ed6/assets/PrecisionLipLiner_OnModel_2_ShadeRange_1000x1000.jpg',\n",
       "  'http://en.narscosmetics.co.kr/on/demandware.static/-/Sites-itemmaster_NARS/default/dwbe5511b8/assets/PrecisionLipLiner_OnModel_ShadeRange_1000x1000.jpg',\n",
       "  'http://en.narscosmetics.co.kr/on/demandware.static/Sites-KR-Site/-/en_KR/v1546225498151/images/noimageshadesmall.png'],\n",
       " 'salePrice': '₩ 33,000',\n",
       " 'originalPrice': '₩ 33,000',\n",
       " 'color': '고르드',\n",
       " 'category': '',\n",
       " 'brand': '나스',\n",
       " 'volume': '#'}"
      ]
     },
     "metadata": {},
     "output_type": "display_data"
    },
    {
     "data": {
      "text/plain": [
       "<selenium.webdriver.remote.webelement.WebElement (session=\"ba51fcd1a1bc41dec611cca0306e5511\", element=\"0.6953195499317093-5\")>"
      ]
     },
     "metadata": {},
     "output_type": "display_data"
    },
    {
     "data": {
      "text/plain": [
       "{'name': '프리시전 립 라이너 - 그라스',\n",
       " 'url': 'http://www.narscosmetics.co.kr/on/demandware.store/Sites-KR-Site/en_KR/Product-Variation?pid=999NAC0000054&dwvar_999NAC0000054_color=7845090854',\n",
       " 'image': ['http://en.narscosmetics.co.kr/on/demandware.static/-/Sites-itemmaster_NARS/default/dwca3064be/hi-res/0607845090854.jpg',\n",
       "  'http://en.narscosmetics.co.kr/on/demandware.static/-/Sites-itemmaster_NARS/default/dwfb766ed6/assets/PrecisionLipLiner_OnModel_2_ShadeRange_1000x1000.jpg',\n",
       "  'http://en.narscosmetics.co.kr/on/demandware.static/-/Sites-itemmaster_NARS/default/dwbe5511b8/assets/PrecisionLipLiner_OnModel_ShadeRange_1000x1000.jpg',\n",
       "  'http://en.narscosmetics.co.kr/on/demandware.static/Sites-KR-Site/-/en_KR/v1546225498151/images/noimageshadesmall.png'],\n",
       " 'salePrice': '₩ 33,000',\n",
       " 'originalPrice': '₩ 33,000',\n",
       " 'color': '그라스',\n",
       " 'category': '',\n",
       " 'brand': '나스',\n",
       " 'volume': '#'}"
      ]
     },
     "metadata": {},
     "output_type": "display_data"
    },
    {
     "data": {
      "text/plain": [
       "<selenium.webdriver.remote.webelement.WebElement (session=\"ba51fcd1a1bc41dec611cca0306e5511\", element=\"0.4798197617212845-5\")>"
      ]
     },
     "metadata": {},
     "output_type": "display_data"
    },
    {
     "data": {
      "text/plain": [
       "{'name': '프리시전 립 라이너 - 하롱 베이',\n",
       " 'url': 'http://www.narscosmetics.co.kr/on/demandware.store/Sites-KR-Site/en_KR/Product-Variation?pid=999NAC0000054&dwvar_999NAC0000054_color=7845090717',\n",
       " 'image': ['http://en.narscosmetics.co.kr/on/demandware.static/-/Sites-itemmaster_NARS/default/dw10e895ff/hi-res/0607845090717.jpg',\n",
       "  'http://en.narscosmetics.co.kr/on/demandware.static/-/Sites-itemmaster_NARS/default/dwfb766ed6/assets/PrecisionLipLiner_OnModel_2_ShadeRange_1000x1000.jpg',\n",
       "  'http://en.narscosmetics.co.kr/on/demandware.static/-/Sites-itemmaster_NARS/default/dwbe5511b8/assets/PrecisionLipLiner_OnModel_ShadeRange_1000x1000.jpg',\n",
       "  'http://en.narscosmetics.co.kr/on/demandware.static/Sites-KR-Site/-/en_KR/v1546225498151/images/noimageshadesmall.png'],\n",
       " 'salePrice': '₩ 33,000',\n",
       " 'originalPrice': '₩ 33,000',\n",
       " 'color': '하롱 베이',\n",
       " 'category': '',\n",
       " 'brand': '나스',\n",
       " 'volume': '#'}"
      ]
     },
     "metadata": {},
     "output_type": "display_data"
    },
    {
     "data": {
      "text/plain": [
       "<selenium.webdriver.remote.webelement.WebElement (session=\"ba51fcd1a1bc41dec611cca0306e5511\", element=\"0.22504417465453175-5\")>"
      ]
     },
     "metadata": {},
     "output_type": "display_data"
    },
    {
     "data": {
      "text/plain": [
       "{'name': '프리시전 립 라이너 - 홀리 레드',\n",
       " 'url': 'http://www.narscosmetics.co.kr/on/demandware.store/Sites-KR-Site/en_KR/Product-Variation?pid=999NAC0000054&dwvar_999NAC0000054_color=7845090786',\n",
       " 'image': ['http://en.narscosmetics.co.kr/on/demandware.static/-/Sites-itemmaster_NARS/default/dwc921b5cc/hi-res/0607845090786.jpg',\n",
       "  'http://en.narscosmetics.co.kr/on/demandware.static/-/Sites-itemmaster_NARS/default/dwfb766ed6/assets/PrecisionLipLiner_OnModel_2_ShadeRange_1000x1000.jpg',\n",
       "  'http://en.narscosmetics.co.kr/on/demandware.static/-/Sites-itemmaster_NARS/default/dwbe5511b8/assets/PrecisionLipLiner_OnModel_ShadeRange_1000x1000.jpg',\n",
       "  'http://en.narscosmetics.co.kr/on/demandware.static/Sites-KR-Site/-/en_KR/v1546225498151/images/noimageshadesmall.png'],\n",
       " 'salePrice': '₩ 33,000',\n",
       " 'originalPrice': '₩ 33,000',\n",
       " 'color': '홀리 레드',\n",
       " 'category': '',\n",
       " 'brand': '나스',\n",
       " 'volume': '#'}"
      ]
     },
     "metadata": {},
     "output_type": "display_data"
    },
    {
     "data": {
      "text/plain": [
       "<selenium.webdriver.remote.webelement.WebElement (session=\"ba51fcd1a1bc41dec611cca0306e5511\", element=\"0.7429813025632896-5\")>"
      ]
     },
     "metadata": {},
     "output_type": "display_data"
    },
    {
     "data": {
      "text/plain": [
       "{'name': '프리시전 립 라이너 - 이에르',\n",
       " 'url': 'http://www.narscosmetics.co.kr/on/demandware.store/Sites-KR-Site/en_KR/Product-Variation?pid=999NAC0000054&dwvar_999NAC0000054_color=7845090953',\n",
       " 'image': ['http://en.narscosmetics.co.kr/on/demandware.static/-/Sites-itemmaster_NARS/default/dw103fe14d/hi-res/0607845090953.jpg',\n",
       "  'http://en.narscosmetics.co.kr/on/demandware.static/-/Sites-itemmaster_NARS/default/dwfb766ed6/assets/PrecisionLipLiner_OnModel_2_ShadeRange_1000x1000.jpg',\n",
       "  'http://en.narscosmetics.co.kr/on/demandware.static/-/Sites-itemmaster_NARS/default/dwbe5511b8/assets/PrecisionLipLiner_OnModel_ShadeRange_1000x1000.jpg',\n",
       "  'http://en.narscosmetics.co.kr/on/demandware.static/Sites-KR-Site/-/en_KR/v1546225498151/images/noimageshadesmall.png'],\n",
       " 'salePrice': '₩ 33,000',\n",
       " 'originalPrice': '₩ 33,000',\n",
       " 'color': '이에르',\n",
       " 'category': '',\n",
       " 'brand': '나스',\n",
       " 'volume': '#'}"
      ]
     },
     "metadata": {},
     "output_type": "display_data"
    },
    {
     "data": {
      "text/plain": [
       "<selenium.webdriver.remote.webelement.WebElement (session=\"ba51fcd1a1bc41dec611cca0306e5511\", element=\"0.09003308021158163-5\")>"
      ]
     },
     "metadata": {},
     "output_type": "display_data"
    },
    {
     "data": {
      "text/plain": [
       "{'name': '프리시전 립 라이너 - 주앙-레-팽',\n",
       " 'url': 'http://www.narscosmetics.co.kr/on/demandware.store/Sites-KR-Site/en_KR/Product-Variation?pid=999NAC0000054&dwvar_999NAC0000054_color=7845090779',\n",
       " 'image': ['http://en.narscosmetics.co.kr/on/demandware.static/-/Sites-itemmaster_NARS/default/dwf9373b58/hi-res/0607845090779.jpg',\n",
       "  'http://en.narscosmetics.co.kr/on/demandware.static/-/Sites-itemmaster_NARS/default/dwfb766ed6/assets/PrecisionLipLiner_OnModel_2_ShadeRange_1000x1000.jpg',\n",
       "  'http://en.narscosmetics.co.kr/on/demandware.static/-/Sites-itemmaster_NARS/default/dwbe5511b8/assets/PrecisionLipLiner_OnModel_ShadeRange_1000x1000.jpg',\n",
       "  'http://en.narscosmetics.co.kr/on/demandware.static/Sites-KR-Site/-/en_KR/v1546225498151/images/noimageshadesmall.png'],\n",
       " 'salePrice': '₩ 33,000',\n",
       " 'originalPrice': '₩ 33,000',\n",
       " 'color': '주앙-레-팽',\n",
       " 'category': '',\n",
       " 'brand': '나스',\n",
       " 'volume': '#'}"
      ]
     },
     "metadata": {},
     "output_type": "display_data"
    },
    {
     "data": {
      "text/plain": [
       "<selenium.webdriver.remote.webelement.WebElement (session=\"ba51fcd1a1bc41dec611cca0306e5511\", element=\"0.41941619368159544-5\")>"
      ]
     },
     "metadata": {},
     "output_type": "display_data"
    },
    {
     "data": {
      "text/plain": [
       "{'name': '프리시전 립 라이너 - 르 라방두',\n",
       " 'url': 'http://www.narscosmetics.co.kr/on/demandware.store/Sites-KR-Site/en_KR/Product-Variation?pid=999NAC0000054&dwvar_999NAC0000054_color=7845090922',\n",
       " 'image': ['http://en.narscosmetics.co.kr/on/demandware.static/-/Sites-itemmaster_NARS/default/dw6f079d7f/hi-res/0607845090922.jpg',\n",
       "  'http://en.narscosmetics.co.kr/on/demandware.static/-/Sites-itemmaster_NARS/default/dwfb766ed6/assets/PrecisionLipLiner_OnModel_2_ShadeRange_1000x1000.jpg',\n",
       "  'http://en.narscosmetics.co.kr/on/demandware.static/-/Sites-itemmaster_NARS/default/dwbe5511b8/assets/PrecisionLipLiner_OnModel_ShadeRange_1000x1000.jpg',\n",
       "  'http://en.narscosmetics.co.kr/on/demandware.static/Sites-KR-Site/-/en_KR/v1546225498151/images/noimageshadesmall.png'],\n",
       " 'salePrice': '₩ 33,000',\n",
       " 'originalPrice': '₩ 33,000',\n",
       " 'color': '르 라방두',\n",
       " 'category': '',\n",
       " 'brand': '나스',\n",
       " 'volume': '#'}"
      ]
     },
     "metadata": {},
     "output_type": "display_data"
    },
    {
     "data": {
      "text/plain": [
       "<selenium.webdriver.remote.webelement.WebElement (session=\"ba51fcd1a1bc41dec611cca0306e5511\", element=\"0.8347715539245033-5\")>"
      ]
     },
     "metadata": {},
     "output_type": "display_data"
    },
    {
     "data": {
      "text/plain": [
       "{'name': '프리시전 립 라이너 - 레랭',\n",
       " 'url': 'http://www.narscosmetics.co.kr/on/demandware.store/Sites-KR-Site/en_KR/Product-Variation?pid=999NAC0000054&dwvar_999NAC0000054_color=7845090731',\n",
       " 'image': ['http://en.narscosmetics.co.kr/on/demandware.static/-/Sites-itemmaster_NARS/default/dwc5d3d59f/hi-res/0607845090731.jpg',\n",
       "  'http://en.narscosmetics.co.kr/on/demandware.static/-/Sites-itemmaster_NARS/default/dwfb766ed6/assets/PrecisionLipLiner_OnModel_2_ShadeRange_1000x1000.jpg',\n",
       "  'http://en.narscosmetics.co.kr/on/demandware.static/-/Sites-itemmaster_NARS/default/dwbe5511b8/assets/PrecisionLipLiner_OnModel_ShadeRange_1000x1000.jpg',\n",
       "  'http://en.narscosmetics.co.kr/on/demandware.static/Sites-KR-Site/-/en_KR/v1546225498151/images/noimageshadesmall.png'],\n",
       " 'salePrice': '₩ 33,000',\n",
       " 'originalPrice': '₩ 33,000',\n",
       " 'color': '레랭',\n",
       " 'category': '',\n",
       " 'brand': '나스',\n",
       " 'volume': '#'}"
      ]
     },
     "metadata": {},
     "output_type": "display_data"
    },
    {
     "data": {
      "text/plain": [
       "<selenium.webdriver.remote.webelement.WebElement (session=\"ba51fcd1a1bc41dec611cca0306e5511\", element=\"0.03050597201301586-5\")>"
      ]
     },
     "metadata": {},
     "output_type": "display_data"
    },
    {
     "data": {
      "text/plain": [
       "{'name': '프리시전 립 라이너 - 마리아치',\n",
       " 'url': 'http://www.narscosmetics.co.kr/on/demandware.store/Sites-KR-Site/en_KR/Product-Variation?pid=999NAC0000054&dwvar_999NAC0000054_color=7845090816',\n",
       " 'image': ['http://en.narscosmetics.co.kr/on/demandware.static/-/Sites-itemmaster_NARS/default/dw2a91df8b/hi-res/0607845090816.jpg',\n",
       "  'http://en.narscosmetics.co.kr/on/demandware.static/-/Sites-itemmaster_NARS/default/dwfb766ed6/assets/PrecisionLipLiner_OnModel_2_ShadeRange_1000x1000.jpg',\n",
       "  'http://en.narscosmetics.co.kr/on/demandware.static/-/Sites-itemmaster_NARS/default/dwbe5511b8/assets/PrecisionLipLiner_OnModel_ShadeRange_1000x1000.jpg',\n",
       "  'http://en.narscosmetics.co.kr/on/demandware.static/Sites-KR-Site/-/en_KR/v1546225498151/images/noimageshadesmall.png'],\n",
       " 'salePrice': '₩ 33,000',\n",
       " 'originalPrice': '₩ 33,000',\n",
       " 'color': '마리아치',\n",
       " 'category': '',\n",
       " 'brand': '나스',\n",
       " 'volume': '#'}"
      ]
     },
     "metadata": {},
     "output_type": "display_data"
    },
    {
     "data": {
      "text/plain": [
       "<selenium.webdriver.remote.webelement.WebElement (session=\"ba51fcd1a1bc41dec611cca0306e5511\", element=\"0.6697515562069685-5\")>"
      ]
     },
     "metadata": {},
     "output_type": "display_data"
    },
    {
     "data": {
      "text/plain": [
       "{'name': '프리시전 립 라이너 - 마니',\n",
       " 'url': 'http://www.narscosmetics.co.kr/on/demandware.store/Sites-KR-Site/en_KR/Product-Variation?pid=999NAC0000054&dwvar_999NAC0000054_color=7845090915',\n",
       " 'image': ['http://en.narscosmetics.co.kr/on/demandware.static/-/Sites-itemmaster_NARS/default/dw9c638216/hi-res/0607845090915.jpg',\n",
       "  'http://en.narscosmetics.co.kr/on/demandware.static/-/Sites-itemmaster_NARS/default/dwfb766ed6/assets/PrecisionLipLiner_OnModel_2_ShadeRange_1000x1000.jpg',\n",
       "  'http://en.narscosmetics.co.kr/on/demandware.static/-/Sites-itemmaster_NARS/default/dwbe5511b8/assets/PrecisionLipLiner_OnModel_ShadeRange_1000x1000.jpg',\n",
       "  'http://en.narscosmetics.co.kr/on/demandware.static/Sites-KR-Site/-/en_KR/v1546225498151/images/noimageshadesmall.png'],\n",
       " 'salePrice': '₩ 33,000',\n",
       " 'originalPrice': '₩ 33,000',\n",
       " 'color': '마니',\n",
       " 'category': '',\n",
       " 'brand': '나스',\n",
       " 'volume': '#'}"
      ]
     },
     "metadata": {},
     "output_type": "display_data"
    },
    {
     "data": {
      "text/plain": [
       "<selenium.webdriver.remote.webelement.WebElement (session=\"ba51fcd1a1bc41dec611cca0306e5511\", element=\"0.0415689745160841-5\")>"
      ]
     },
     "metadata": {},
     "output_type": "display_data"
    },
    {
     "data": {
      "text/plain": [
       "{'name': '프리시전 립 라이너 - 망통',\n",
       " 'url': 'http://www.narscosmetics.co.kr/on/demandware.store/Sites-KR-Site/en_KR/Product-Variation?pid=999NAC0000054&dwvar_999NAC0000054_color=7845090847',\n",
       " 'image': ['http://en.narscosmetics.co.kr/on/demandware.static/-/Sites-itemmaster_NARS/default/dw51079838/hi-res/0607845090847.jpg',\n",
       "  'http://en.narscosmetics.co.kr/on/demandware.static/-/Sites-itemmaster_NARS/default/dwfb766ed6/assets/PrecisionLipLiner_OnModel_2_ShadeRange_1000x1000.jpg',\n",
       "  'http://en.narscosmetics.co.kr/on/demandware.static/-/Sites-itemmaster_NARS/default/dwbe5511b8/assets/PrecisionLipLiner_OnModel_ShadeRange_1000x1000.jpg',\n",
       "  'http://en.narscosmetics.co.kr/on/demandware.static/Sites-KR-Site/-/en_KR/v1546225498151/images/noimageshadesmall.png'],\n",
       " 'salePrice': '₩ 33,000',\n",
       " 'originalPrice': '₩ 33,000',\n",
       " 'color': '망통',\n",
       " 'category': '',\n",
       " 'brand': '나스',\n",
       " 'volume': '#'}"
      ]
     },
     "metadata": {},
     "output_type": "display_data"
    },
    {
     "data": {
      "text/plain": [
       "<selenium.webdriver.remote.webelement.WebElement (session=\"ba51fcd1a1bc41dec611cca0306e5511\", element=\"0.8322086657741457-5\")>"
      ]
     },
     "metadata": {},
     "output_type": "display_data"
    },
    {
     "data": {
      "text/plain": [
       "{'name': '프리시전 립 라이너 - 무쟁',\n",
       " 'url': 'http://www.narscosmetics.co.kr/on/demandware.store/Sites-KR-Site/en_KR/Product-Variation?pid=999NAC0000054&dwvar_999NAC0000054_color=7845090823',\n",
       " 'image': ['http://en.narscosmetics.co.kr/on/demandware.static/-/Sites-itemmaster_NARS/default/dw8c8df932/hi-res/0607845090823.jpg',\n",
       "  'http://en.narscosmetics.co.kr/on/demandware.static/-/Sites-itemmaster_NARS/default/dwfb766ed6/assets/PrecisionLipLiner_OnModel_2_ShadeRange_1000x1000.jpg',\n",
       "  'http://en.narscosmetics.co.kr/on/demandware.static/-/Sites-itemmaster_NARS/default/dwbe5511b8/assets/PrecisionLipLiner_OnModel_ShadeRange_1000x1000.jpg',\n",
       "  'http://en.narscosmetics.co.kr/on/demandware.static/Sites-KR-Site/-/en_KR/v1546225498151/images/noimageshadesmall.png'],\n",
       " 'salePrice': '₩ 33,000',\n",
       " 'originalPrice': '₩ 33,000',\n",
       " 'color': '무쟁',\n",
       " 'category': '',\n",
       " 'brand': '나스',\n",
       " 'volume': '#'}"
      ]
     },
     "metadata": {},
     "output_type": "display_data"
    },
    {
     "data": {
      "text/plain": [
       "<selenium.webdriver.remote.webelement.WebElement (session=\"ba51fcd1a1bc41dec611cca0306e5511\", element=\"0.31418995125734006-5\")>"
      ]
     },
     "metadata": {},
     "output_type": "display_data"
    },
    {
     "data": {
      "text/plain": [
       "{'name': '프리시전 립 라이너 - 네스티 걸',\n",
       " 'url': 'http://www.narscosmetics.co.kr/on/demandware.store/Sites-KR-Site/en_KR/Product-Variation?pid=999NAC0000054&dwvar_999NAC0000054_color=7845090991',\n",
       " 'image': ['http://en.narscosmetics.co.kr/on/demandware.static/-/Sites-itemmaster_NARS/default/dwc473adbd/hi-res/0607845090991.jpg',\n",
       "  'http://en.narscosmetics.co.kr/on/demandware.static/-/Sites-itemmaster_NARS/default/dwfb766ed6/assets/PrecisionLipLiner_OnModel_2_ShadeRange_1000x1000.jpg',\n",
       "  'http://en.narscosmetics.co.kr/on/demandware.static/-/Sites-itemmaster_NARS/default/dwbe5511b8/assets/PrecisionLipLiner_OnModel_ShadeRange_1000x1000.jpg',\n",
       "  'http://en.narscosmetics.co.kr/on/demandware.static/Sites-KR-Site/-/en_KR/v1546225498151/images/noimageshadesmall.png'],\n",
       " 'salePrice': '₩ 33,000',\n",
       " 'originalPrice': '₩ 33,000',\n",
       " 'color': '네스티 걸',\n",
       " 'category': '',\n",
       " 'brand': '나스',\n",
       " 'volume': '#'}"
      ]
     },
     "metadata": {},
     "output_type": "display_data"
    },
    {
     "data": {
      "text/plain": [
       "<selenium.webdriver.remote.webelement.WebElement (session=\"ba51fcd1a1bc41dec611cca0306e5511\", element=\"0.15017626707868592-5\")>"
      ]
     },
     "metadata": {},
     "output_type": "display_data"
    },
    {
     "data": {
      "text/plain": [
       "{'name': '프리시전 립 라이너 - 프르크롤',\n",
       " 'url': 'http://www.narscosmetics.co.kr/on/demandware.store/Sites-KR-Site/en_KR/Product-Variation?pid=999NAC0000054&dwvar_999NAC0000054_color=7845090793',\n",
       " 'image': ['http://en.narscosmetics.co.kr/on/demandware.static/-/Sites-itemmaster_NARS/default/dw4e0e1afa/hi-res/0607845090793.jpg',\n",
       "  'http://en.narscosmetics.co.kr/on/demandware.static/-/Sites-itemmaster_NARS/default/dwfb766ed6/assets/PrecisionLipLiner_OnModel_2_ShadeRange_1000x1000.jpg',\n",
       "  'http://en.narscosmetics.co.kr/on/demandware.static/-/Sites-itemmaster_NARS/default/dwbe5511b8/assets/PrecisionLipLiner_OnModel_ShadeRange_1000x1000.jpg',\n",
       "  'http://en.narscosmetics.co.kr/on/demandware.static/Sites-KR-Site/-/en_KR/v1546225498151/images/noimageshadesmall.png'],\n",
       " 'salePrice': '₩ 33,000',\n",
       " 'originalPrice': '₩ 33,000',\n",
       " 'color': '프르크롤',\n",
       " 'category': '',\n",
       " 'brand': '나스',\n",
       " 'volume': '#'}"
      ]
     },
     "metadata": {},
     "output_type": "display_data"
    },
    {
     "data": {
      "text/plain": [
       "<selenium.webdriver.remote.webelement.WebElement (session=\"ba51fcd1a1bc41dec611cca0306e5511\", element=\"0.5406797309386477-5\")>"
      ]
     },
     "metadata": {},
     "output_type": "display_data"
    },
    {
     "data": {
      "text/plain": [
       "{'name': '프리시전 립 라이너 - 포트 그리모',\n",
       " 'url': 'http://www.narscosmetics.co.kr/on/demandware.store/Sites-KR-Site/en_KR/Product-Variation?pid=999NAC0000054&dwvar_999NAC0000054_color=7845090878',\n",
       " 'image': ['http://en.narscosmetics.co.kr/on/demandware.static/-/Sites-itemmaster_NARS/default/dw74dc050f/hi-res/0607845090878.jpg',\n",
       "  'http://en.narscosmetics.co.kr/on/demandware.static/-/Sites-itemmaster_NARS/default/dwfb766ed6/assets/PrecisionLipLiner_OnModel_2_ShadeRange_1000x1000.jpg',\n",
       "  'http://en.narscosmetics.co.kr/on/demandware.static/-/Sites-itemmaster_NARS/default/dwbe5511b8/assets/PrecisionLipLiner_OnModel_ShadeRange_1000x1000.jpg',\n",
       "  'http://en.narscosmetics.co.kr/on/demandware.static/Sites-KR-Site/-/en_KR/v1546225498151/images/noimageshadesmall.png'],\n",
       " 'salePrice': '₩ 33,000',\n",
       " 'originalPrice': '₩ 33,000',\n",
       " 'color': '포트 그리모',\n",
       " 'category': '',\n",
       " 'brand': '나스',\n",
       " 'volume': '#'}"
      ]
     },
     "metadata": {},
     "output_type": "display_data"
    },
    {
     "data": {
      "text/plain": [
       "<selenium.webdriver.remote.webelement.WebElement (session=\"ba51fcd1a1bc41dec611cca0306e5511\", element=\"0.11672862980633969-5\")>"
      ]
     },
     "metadata": {},
     "output_type": "display_data"
    },
    {
     "data": {
      "text/plain": [
       "{'name': '프리시전 립 라이너 - 라이드 잇',\n",
       " 'url': 'http://www.narscosmetics.co.kr/on/demandware.store/Sites-KR-Site/en_KR/Product-Variation?pid=999NAC0000054&dwvar_999NAC0000054_color=7845090908',\n",
       " 'image': ['http://en.narscosmetics.co.kr/on/demandware.static/-/Sites-itemmaster_NARS/default/dwdbc0c66d/hi-res/0607845090908.jpg',\n",
       "  'http://en.narscosmetics.co.kr/on/demandware.static/-/Sites-itemmaster_NARS/default/dwfb766ed6/assets/PrecisionLipLiner_OnModel_2_ShadeRange_1000x1000.jpg',\n",
       "  'http://en.narscosmetics.co.kr/on/demandware.static/-/Sites-itemmaster_NARS/default/dwbe5511b8/assets/PrecisionLipLiner_OnModel_ShadeRange_1000x1000.jpg',\n",
       "  'http://en.narscosmetics.co.kr/on/demandware.static/Sites-KR-Site/-/en_KR/v1546225498151/images/noimageshadesmall.png'],\n",
       " 'salePrice': '₩ 33,000',\n",
       " 'originalPrice': '₩ 33,000',\n",
       " 'color': '라이드 잇',\n",
       " 'category': '',\n",
       " 'brand': '나스',\n",
       " 'volume': '#'}"
      ]
     },
     "metadata": {},
     "output_type": "display_data"
    },
    {
     "data": {
      "text/plain": [
       "<selenium.webdriver.remote.webelement.WebElement (session=\"ba51fcd1a1bc41dec611cca0306e5511\", element=\"0.3801752260496629-5\")>"
      ]
     },
     "metadata": {},
     "output_type": "display_data"
    },
    {
     "data": {
      "text/plain": [
       "{'name': '프리시전 립 라이너 - 루즈 마로케인',\n",
       " 'url': 'http://www.narscosmetics.co.kr/on/demandware.store/Sites-KR-Site/en_KR/Product-Variation?pid=999NAC0000054&dwvar_999NAC0000054_color=7845090892',\n",
       " 'image': ['http://en.narscosmetics.co.kr/on/demandware.static/-/Sites-itemmaster_NARS/default/dw97298798/hi-res/0607845090892.jpg',\n",
       "  'http://en.narscosmetics.co.kr/on/demandware.static/-/Sites-itemmaster_NARS/default/dwfb766ed6/assets/PrecisionLipLiner_OnModel_2_ShadeRange_1000x1000.jpg',\n",
       "  'http://en.narscosmetics.co.kr/on/demandware.static/-/Sites-itemmaster_NARS/default/dwbe5511b8/assets/PrecisionLipLiner_OnModel_ShadeRange_1000x1000.jpg',\n",
       "  'http://en.narscosmetics.co.kr/on/demandware.static/Sites-KR-Site/-/en_KR/v1546225498151/images/noimageshadesmall.png'],\n",
       " 'salePrice': '₩ 33,000',\n",
       " 'originalPrice': '₩ 33,000',\n",
       " 'color': '루즈 마로케인',\n",
       " 'category': '',\n",
       " 'brand': '나스',\n",
       " 'volume': '#'}"
      ]
     },
     "metadata": {},
     "output_type": "display_data"
    },
    {
     "data": {
      "text/plain": [
       "<selenium.webdriver.remote.webelement.WebElement (session=\"ba51fcd1a1bc41dec611cca0306e5511\", element=\"0.9767580978250023-5\")>"
      ]
     },
     "metadata": {},
     "output_type": "display_data"
    },
    {
     "data": {
      "text/plain": [
       "{'name': '프리시전 립 라이너 - 생트막심',\n",
       " 'url': 'http://www.narscosmetics.co.kr/on/demandware.store/Sites-KR-Site/en_KR/Product-Variation?pid=999NAC0000054&dwvar_999NAC0000054_color=7845090861',\n",
       " 'image': ['http://en.narscosmetics.co.kr/on/demandware.static/-/Sites-itemmaster_NARS/default/dw159e5089/hi-res/0607845090861.jpg',\n",
       "  'http://en.narscosmetics.co.kr/on/demandware.static/-/Sites-itemmaster_NARS/default/dwfb766ed6/assets/PrecisionLipLiner_OnModel_2_ShadeRange_1000x1000.jpg',\n",
       "  'http://en.narscosmetics.co.kr/on/demandware.static/-/Sites-itemmaster_NARS/default/dwbe5511b8/assets/PrecisionLipLiner_OnModel_ShadeRange_1000x1000.jpg',\n",
       "  'http://en.narscosmetics.co.kr/on/demandware.static/Sites-KR-Site/-/en_KR/v1546225498151/images/noimageshadesmall.png'],\n",
       " 'salePrice': '₩ 33,000',\n",
       " 'originalPrice': '₩ 33,000',\n",
       " 'color': '생트막심',\n",
       " 'category': '',\n",
       " 'brand': '나스',\n",
       " 'volume': '#'}"
      ]
     },
     "metadata": {},
     "output_type": "display_data"
    },
    {
     "data": {
      "text/plain": [
       "<selenium.webdriver.remote.webelement.WebElement (session=\"ba51fcd1a1bc41dec611cca0306e5511\", element=\"0.3294318885242504-5\")>"
      ]
     },
     "metadata": {},
     "output_type": "display_data"
    },
    {
     "data": {
      "text/plain": [
       "{'name': '프리시전 립 라이너 - 생-라파엘',\n",
       " 'url': 'http://www.narscosmetics.co.kr/on/demandware.store/Sites-KR-Site/en_KR/Product-Variation?pid=999NAC0000054&dwvar_999NAC0000054_color=7845090762',\n",
       " 'image': ['http://en.narscosmetics.co.kr/on/demandware.static/-/Sites-itemmaster_NARS/default/dwa9e724ea/hi-res/0607845090762.jpg',\n",
       "  'http://en.narscosmetics.co.kr/on/demandware.static/-/Sites-itemmaster_NARS/default/dwfb766ed6/assets/PrecisionLipLiner_OnModel_2_ShadeRange_1000x1000.jpg',\n",
       "  'http://en.narscosmetics.co.kr/on/demandware.static/-/Sites-itemmaster_NARS/default/dwbe5511b8/assets/PrecisionLipLiner_OnModel_ShadeRange_1000x1000.jpg',\n",
       "  'http://en.narscosmetics.co.kr/on/demandware.static/Sites-KR-Site/-/en_KR/v1546225498151/images/noimageshadesmall.png'],\n",
       " 'salePrice': '₩ 33,000',\n",
       " 'originalPrice': '₩ 33,000',\n",
       " 'color': '생-라파엘',\n",
       " 'category': '',\n",
       " 'brand': '나스',\n",
       " 'volume': '#'}"
      ]
     },
     "metadata": {},
     "output_type": "display_data"
    },
    {
     "data": {
      "text/plain": [
       "<selenium.webdriver.remote.webelement.WebElement (session=\"ba51fcd1a1bc41dec611cca0306e5511\", element=\"0.72739131569314-5\")>"
      ]
     },
     "metadata": {},
     "output_type": "display_data"
    },
    {
     "data": {
      "text/plain": [
       "{'name': '프리시전 립 라이너 - 스펑크',\n",
       " 'url': 'http://www.narscosmetics.co.kr/on/demandware.store/Sites-KR-Site/en_KR/Product-Variation?pid=999NAC0000054&dwvar_999NAC0000054_color=7845090984',\n",
       " 'image': ['http://en.narscosmetics.co.kr/on/demandware.static/-/Sites-itemmaster_NARS/default/dwa42eeb1a/hi-res/0607845090984.jpg',\n",
       "  'http://en.narscosmetics.co.kr/on/demandware.static/-/Sites-itemmaster_NARS/default/dwfb766ed6/assets/PrecisionLipLiner_OnModel_2_ShadeRange_1000x1000.jpg',\n",
       "  'http://en.narscosmetics.co.kr/on/demandware.static/-/Sites-itemmaster_NARS/default/dwbe5511b8/assets/PrecisionLipLiner_OnModel_ShadeRange_1000x1000.jpg',\n",
       "  'http://en.narscosmetics.co.kr/on/demandware.static/Sites-KR-Site/-/en_KR/v1546225498151/images/noimageshadesmall.png'],\n",
       " 'salePrice': '₩ 33,000',\n",
       " 'originalPrice': '₩ 33,000',\n",
       " 'color': '스펑크',\n",
       " 'category': '',\n",
       " 'brand': '나스',\n",
       " 'volume': '#'}"
      ]
     },
     "metadata": {},
     "output_type": "display_data"
    },
    {
     "data": {
      "text/plain": [
       "<selenium.webdriver.remote.webelement.WebElement (session=\"ba51fcd1a1bc41dec611cca0306e5511\", element=\"0.7715688792726445-5\")>"
      ]
     },
     "metadata": {},
     "output_type": "display_data"
    },
    {
     "data": {
      "text/plain": [
       "{'name': '프리시전 립 라이너 - 스타 로큰',\n",
       " 'url': 'http://www.narscosmetics.co.kr/on/demandware.store/Sites-KR-Site/en_KR/Product-Variation?pid=999NAC0000054&dwvar_999NAC0000054_color=7845090946',\n",
       " 'image': ['http://en.narscosmetics.co.kr/on/demandware.static/-/Sites-itemmaster_NARS/default/dw201799d6/hi-res/0607845090946.jpg',\n",
       "  'http://en.narscosmetics.co.kr/on/demandware.static/-/Sites-itemmaster_NARS/default/dwfb766ed6/assets/PrecisionLipLiner_OnModel_2_ShadeRange_1000x1000.jpg',\n",
       "  'http://en.narscosmetics.co.kr/on/demandware.static/-/Sites-itemmaster_NARS/default/dwbe5511b8/assets/PrecisionLipLiner_OnModel_ShadeRange_1000x1000.jpg',\n",
       "  'http://en.narscosmetics.co.kr/on/demandware.static/Sites-KR-Site/-/en_KR/v1546225498151/images/noimageshadesmall.png'],\n",
       " 'salePrice': '₩ 33,000',\n",
       " 'originalPrice': '₩ 33,000',\n",
       " 'color': '스타 로큰',\n",
       " 'category': '',\n",
       " 'brand': '나스',\n",
       " 'volume': '#'}"
      ]
     },
     "metadata": {},
     "output_type": "display_data"
    },
    {
     "data": {
      "text/plain": [
       "<selenium.webdriver.remote.webelement.WebElement (session=\"ba51fcd1a1bc41dec611cca0306e5511\", element=\"0.5522508327056184-5\")>"
      ]
     },
     "metadata": {},
     "output_type": "display_data"
    },
    {
     "data": {
      "text/plain": [
       "{'name': '프리시전 립 라이너 - 방스',\n",
       " 'url': 'http://www.narscosmetics.co.kr/on/demandware.store/Sites-KR-Site/en_KR/Product-Variation?pid=999NAC0000054&dwvar_999NAC0000054_color=7845090724',\n",
       " 'image': ['http://en.narscosmetics.co.kr/on/demandware.static/-/Sites-itemmaster_NARS/default/dw3966a3a3/hi-res/0607845090724.jpg',\n",
       "  'http://en.narscosmetics.co.kr/on/demandware.static/-/Sites-itemmaster_NARS/default/dwfb766ed6/assets/PrecisionLipLiner_OnModel_2_ShadeRange_1000x1000.jpg',\n",
       "  'http://en.narscosmetics.co.kr/on/demandware.static/-/Sites-itemmaster_NARS/default/dwbe5511b8/assets/PrecisionLipLiner_OnModel_ShadeRange_1000x1000.jpg',\n",
       "  'http://en.narscosmetics.co.kr/on/demandware.static/Sites-KR-Site/-/en_KR/v1546225498151/images/noimageshadesmall.png'],\n",
       " 'salePrice': '₩ 33,000',\n",
       " 'originalPrice': '₩ 33,000',\n",
       " 'color': '방스',\n",
       " 'category': '',\n",
       " 'brand': '나스',\n",
       " 'volume': '#'}"
      ]
     },
     "metadata": {},
     "output_type": "display_data"
    },
    {
     "data": {
      "text/plain": [
       "<selenium.webdriver.remote.webelement.WebElement (session=\"ba51fcd1a1bc41dec611cca0306e5511\", element=\"0.6364083081539456-6\")>"
      ]
     },
     "metadata": {},
     "output_type": "display_data"
    },
    {
     "data": {
      "text/plain": [
       "{'name': '에프터글로우 립 밤',\n",
       " 'url': 'http://www.narscosmetics.co.kr/on/demandware.store/Sites-KR-Site/en_KR/Product-Variation?pid=999NAC0000069&dwvar_999NAC0000069_color=',\n",
       " 'image': ['http://en.narscosmetics.co.kr/on/demandware.static/-/Sites-itemmaster_NARS/default/dw171c8bd7/hi-res/0607845034209.jpg',\n",
       "  'http://en.narscosmetics.co.kr/on/demandware.static/-/Sites-itemmaster_NARS/default/dwce8d4de6/alt1/0607845034209.jpg',\n",
       "  'http://en.narscosmetics.co.kr/on/demandware.static/-/Sites-itemmaster_NARS/default/dw74f55762/alt2/0607845034209.jpg',\n",
       "  'http://en.narscosmetics.co.kr/on/demandware.static/-/Sites-itemmaster_NARS/default/dw1501b910/alt3/0607845034209.jpg',\n",
       "  'http://en.narscosmetics.co.kr/on/demandware.static/-/Sites-itemmaster_NARS/default/dw89ff4edd/alt4/0607845034209.jpg'],\n",
       " 'salePrice': '₩ 37,000',\n",
       " 'originalPrice': '₩ 37,000',\n",
       " 'color': '오르가즘',\n",
       " 'category': '',\n",
       " 'brand': '나스',\n",
       " 'volume': '#'}"
      ]
     },
     "metadata": {},
     "output_type": "display_data"
    },
    {
     "data": {
      "text/plain": [
       "<selenium.webdriver.remote.webelement.WebElement (session=\"ba51fcd1a1bc41dec611cca0306e5511\", element=\"0.39295088693423685-3\")>"
      ]
     },
     "metadata": {},
     "output_type": "display_data"
    },
    {
     "data": {
      "text/plain": [
       "{'name': '립 글로스 - 안젤리카',\n",
       " 'url': 'http://www.narscosmetics.co.kr/on/demandware.store/Sites-KR-Site/en_KR/Product-Variation?pid=999NAC0000003&dwvar_999NAC0000003_color=7845016847',\n",
       " 'image': ['http://en.narscosmetics.co.kr/on/demandware.static/-/Sites-itemmaster_NARS/default/dw9159b43a/hi-res/0607845016847.jpg',\n",
       "  'http://en.narscosmetics.co.kr/on/demandware.static/-/Sites-itemmaster_NARS/default/dw2f9a6e46/swatch/0607845016847.jpg'],\n",
       " 'salePrice': '₩ 36,000',\n",
       " 'originalPrice': '₩ 36,000',\n",
       " 'color': '안젤리카',\n",
       " 'category': '',\n",
       " 'brand': '나스',\n",
       " 'volume': '#'}"
      ]
     },
     "metadata": {},
     "output_type": "display_data"
    },
    {
     "data": {
      "text/plain": [
       "<selenium.webdriver.remote.webelement.WebElement (session=\"ba51fcd1a1bc41dec611cca0306e5511\", element=\"0.7102385965142879-3\")>"
      ]
     },
     "metadata": {},
     "output_type": "display_data"
    },
    {
     "data": {
      "text/plain": [
       "{'name': '립 글로스 - 아라곤',\n",
       " 'url': 'http://www.narscosmetics.co.kr/on/demandware.store/Sites-KR-Site/en_KR/Product-Variation?pid=999NAC0000003&dwvar_999NAC0000003_color=7845056843',\n",
       " 'image': ['http://en.narscosmetics.co.kr/on/demandware.static/-/Sites-itemmaster_NARS/default/dw0152927e/hi-res/0607845056843.jpg',\n",
       "  'http://en.narscosmetics.co.kr/on/demandware.static/-/Sites-itemmaster_NARS/default/dw27d01488/swatch/0607845056843.jpg'],\n",
       " 'salePrice': '₩ 36,000',\n",
       " 'originalPrice': '₩ 36,000',\n",
       " 'color': '아라곤',\n",
       " 'category': '',\n",
       " 'brand': '나스',\n",
       " 'volume': '#'}"
      ]
     },
     "metadata": {},
     "output_type": "display_data"
    },
    {
     "data": {
      "text/plain": [
       "<selenium.webdriver.remote.webelement.WebElement (session=\"ba51fcd1a1bc41dec611cca0306e5511\", element=\"0.5210489787033532-3\")>"
      ]
     },
     "metadata": {},
     "output_type": "display_data"
    },
    {
     "data": {
      "text/plain": [
       "{'name': '립 글로스 - 아스팔트 정글',\n",
       " 'url': 'http://www.narscosmetics.co.kr/on/demandware.store/Sites-KR-Site/en_KR/Product-Variation?pid=999NAC0000003&dwvar_999NAC0000003_color=7845056850',\n",
       " 'image': ['http://en.narscosmetics.co.kr/on/demandware.static/-/Sites-itemmaster_NARS/default/dwec769ead/hi-res/0607845056850.jpg',\n",
       "  'http://en.narscosmetics.co.kr/on/demandware.static/-/Sites-itemmaster_NARS/default/dw86a1b780/swatch/0607845056850.jpg'],\n",
       " 'salePrice': '₩ 36,000',\n",
       " 'originalPrice': '₩ 36,000',\n",
       " 'color': '아스팔트 정글',\n",
       " 'category': '',\n",
       " 'brand': '나스',\n",
       " 'volume': '#'}"
      ]
     },
     "metadata": {},
     "output_type": "display_data"
    },
    {
     "data": {
      "text/plain": [
       "<selenium.webdriver.remote.webelement.WebElement (session=\"ba51fcd1a1bc41dec611cca0306e5511\", element=\"0.8632768790527281-3\")>"
      ]
     },
     "metadata": {},
     "output_type": "display_data"
    },
    {
     "data": {
      "text/plain": [
       "{'name': '립 글로스 - 베이비 돌',\n",
       " 'url': 'http://www.narscosmetics.co.kr/on/demandware.store/Sites-KR-Site/en_KR/Product-Variation?pid=999NAC0000003&dwvar_999NAC0000003_color=7845016960',\n",
       " 'image': ['http://en.narscosmetics.co.kr/on/demandware.static/-/Sites-itemmaster_NARS/default/dw0acc0f99/hi-res/0607845016960.jpg',\n",
       "  'http://en.narscosmetics.co.kr/on/demandware.static/-/Sites-itemmaster_NARS/default/dwd4079a7e/swatch/0607845016960.jpg'],\n",
       " 'salePrice': '₩ 36,000',\n",
       " 'originalPrice': '₩ 36,000',\n",
       " 'color': '베이비 돌',\n",
       " 'category': '',\n",
       " 'brand': '나스',\n",
       " 'volume': '#'}"
      ]
     },
     "metadata": {},
     "output_type": "display_data"
    },
    {
     "data": {
      "text/plain": [
       "<selenium.webdriver.remote.webelement.WebElement (session=\"ba51fcd1a1bc41dec611cca0306e5511\", element=\"0.5145776821356618-3\")>"
      ]
     },
     "metadata": {},
     "output_type": "display_data"
    },
    {
     "data": {
      "text/plain": [
       "{'name': '립 글로스 - 벨리즈',\n",
       " 'url': 'http://www.narscosmetics.co.kr/on/demandware.store/Sites-KR-Site/en_KR/Product-Variation?pid=999NAC0000003&dwvar_999NAC0000003_color=7845016809',\n",
       " 'image': ['http://en.narscosmetics.co.kr/on/demandware.static/-/Sites-itemmaster_NARS/default/dw78f09d32/hi-res/0607845016809.jpg',\n",
       "  'http://en.narscosmetics.co.kr/on/demandware.static/-/Sites-itemmaster_NARS/default/dw7224951f/swatch/0607845016809.jpg'],\n",
       " 'salePrice': '₩ 36,000',\n",
       " 'originalPrice': '₩ 36,000',\n",
       " 'color': '벨리즈',\n",
       " 'category': '',\n",
       " 'brand': '나스',\n",
       " 'volume': '#'}"
      ]
     },
     "metadata": {},
     "output_type": "display_data"
    },
    {
     "data": {
      "text/plain": [
       "<selenium.webdriver.remote.webelement.WebElement (session=\"ba51fcd1a1bc41dec611cca0306e5511\", element=\"0.10333769714703389-3\")>"
      ]
     },
     "metadata": {},
     "output_type": "display_data"
    },
    {
     "data": {
      "text/plain": [
       "{'name': '립 글로스',\n",
       " 'url': 'http://www.narscosmetics.co.kr/on/demandware.store/Sites-KR-Site/en_KR/Product-Variation?pid=999NAC0000003&dwvar_999NAC0000003_color=',\n",
       " 'image': ['http://en.narscosmetics.co.kr/on/demandware.static/-/Sites-itemmaster_NARS/default/dwfc80a03b/hi-res/0607845016953.jpg',\n",
       "  'http://en.narscosmetics.co.kr/on/demandware.static/-/Sites-itemmaster_NARS/default/dw01441edd/swatch/0607845016953.jpg'],\n",
       " 'salePrice': 'N/A',\n",
       " 'originalPrice': 'N/A',\n",
       " 'color': '안젤리카',\n",
       " 'category': '',\n",
       " 'brand': '나스',\n",
       " 'volume': '#'}"
      ]
     },
     "metadata": {},
     "output_type": "display_data"
    },
    {
     "data": {
      "text/plain": [
       "<selenium.webdriver.remote.webelement.WebElement (session=\"ba51fcd1a1bc41dec611cca0306e5511\", element=\"0.33111888415402313-3\")>"
      ]
     },
     "metadata": {},
     "output_type": "display_data"
    },
    {
     "data": {
      "text/plain": [
       "{'name': '립 글로스 - 치와와',\n",
       " 'url': 'http://www.narscosmetics.co.kr/on/demandware.store/Sites-KR-Site/en_KR/Product-Variation?pid=999NAC0000003&dwvar_999NAC0000003_color=7845016694',\n",
       " 'image': ['http://en.narscosmetics.co.kr/on/demandware.static/-/Sites-itemmaster_NARS/default/dw56dad7e5/hi-res/0607845016694.jpg',\n",
       "  'http://en.narscosmetics.co.kr/on/demandware.static/-/Sites-itemmaster_NARS/default/dw4374538c/swatch/0607845016694.jpg'],\n",
       " 'salePrice': '₩ 36,000',\n",
       " 'originalPrice': '₩ 36,000',\n",
       " 'color': '치와와',\n",
       " 'category': '',\n",
       " 'brand': '나스',\n",
       " 'volume': '#'}"
      ]
     },
     "metadata": {},
     "output_type": "display_data"
    },
    {
     "data": {
      "text/plain": [
       "<selenium.webdriver.remote.webelement.WebElement (session=\"ba51fcd1a1bc41dec611cca0306e5511\", element=\"0.6876919529037222-3\")>"
      ]
     },
     "metadata": {},
     "output_type": "display_data"
    },
    {
     "data": {
      "text/plain": [
       "{'name': '립 글로스 - 돌체 비타',\n",
       " 'url': 'http://www.narscosmetics.co.kr/on/demandware.store/Sites-KR-Site/en_KR/Product-Variation?pid=999NAC0000003&dwvar_999NAC0000003_color=7845016762',\n",
       " 'image': ['http://en.narscosmetics.co.kr/on/demandware.static/-/Sites-itemmaster_NARS/default/dw78ca3375/hi-res/0607845016762.jpg',\n",
       "  'http://en.narscosmetics.co.kr/on/demandware.static/-/Sites-itemmaster_NARS/default/dwe764406d/swatch/0607845016762.jpg'],\n",
       " 'salePrice': '₩ 36,000',\n",
       " 'originalPrice': '₩ 36,000',\n",
       " 'color': '돌체 비타',\n",
       " 'category': '',\n",
       " 'brand': '나스',\n",
       " 'volume': '#'}"
      ]
     },
     "metadata": {},
     "output_type": "display_data"
    },
    {
     "data": {
      "text/plain": [
       "<selenium.webdriver.remote.webelement.WebElement (session=\"ba51fcd1a1bc41dec611cca0306e5511\", element=\"0.4662305301022238-3\")>"
      ]
     },
     "metadata": {},
     "output_type": "display_data"
    },
    {
     "data": {
      "text/plain": [
       "{'name': '립 글로스 - 이지 러버',\n",
       " 'url': 'http://www.narscosmetics.co.kr/on/demandware.store/Sites-KR-Site/en_KR/Product-Variation?pid=999NAC0000003&dwvar_999NAC0000003_color=7845016823',\n",
       " 'image': ['http://en.narscosmetics.co.kr/on/demandware.static/-/Sites-itemmaster_NARS/default/dw4d384dd7/hi-res/0607845016823.jpg',\n",
       "  'http://en.narscosmetics.co.kr/on/demandware.static/-/Sites-itemmaster_NARS/default/dw8e4e3e6c/swatch/0607845016823.jpg'],\n",
       " 'salePrice': '₩ 36,000',\n",
       " 'originalPrice': '₩ 36,000',\n",
       " 'color': '이지 러버',\n",
       " 'category': '',\n",
       " 'brand': '나스',\n",
       " 'volume': '#'}"
      ]
     },
     "metadata": {},
     "output_type": "display_data"
    },
    {
     "data": {
      "text/plain": [
       "<selenium.webdriver.remote.webelement.WebElement (session=\"ba51fcd1a1bc41dec611cca0306e5511\", element=\"0.5023223502419318-3\")>"
      ]
     },
     "metadata": {},
     "output_type": "display_data"
    },
    {
     "data": {
      "text/plain": [
       "{'name': '립 글로스 - 이터널 레드',\n",
       " 'url': 'http://www.narscosmetics.co.kr/on/demandware.store/Sites-KR-Site/en_KR/Product-Variation?pid=999NAC0000003&dwvar_999NAC0000003_color=7845016885',\n",
       " 'image': ['http://en.narscosmetics.co.kr/on/demandware.static/-/Sites-itemmaster_NARS/default/dw65f69bdb/hi-res/0607845016885.jpg',\n",
       "  'http://en.narscosmetics.co.kr/on/demandware.static/-/Sites-itemmaster_NARS/default/dw411c8e65/swatch/0607845016885.jpg'],\n",
       " 'salePrice': '₩ 36,000',\n",
       " 'originalPrice': '₩ 36,000',\n",
       " 'color': '이터널 레드',\n",
       " 'category': '',\n",
       " 'brand': '나스',\n",
       " 'volume': '#'}"
      ]
     },
     "metadata": {},
     "output_type": "display_data"
    },
    {
     "data": {
      "text/plain": [
       "<selenium.webdriver.remote.webelement.WebElement (session=\"ba51fcd1a1bc41dec611cca0306e5511\", element=\"0.4020080671366215-3\")>"
      ]
     },
     "metadata": {},
     "output_type": "display_data"
    },
    {
     "data": {
      "text/plain": [
       "{'name': '립 글로스 - 기자',\n",
       " 'url': 'http://www.narscosmetics.co.kr/on/demandware.store/Sites-KR-Site/en_KR/Product-Variation?pid=999NAC0000003&dwvar_999NAC0000003_color=7845016700',\n",
       " 'image': ['http://en.narscosmetics.co.kr/on/demandware.static/-/Sites-itemmaster_NARS/default/dw0d9696fc/hi-res/0607845016700.jpg',\n",
       "  'http://en.narscosmetics.co.kr/on/demandware.static/-/Sites-itemmaster_NARS/default/dwbe7e939b/swatch/0607845016700.jpg'],\n",
       " 'salePrice': '₩ 36,000',\n",
       " 'originalPrice': '₩ 36,000',\n",
       " 'color': '기자',\n",
       " 'category': '',\n",
       " 'brand': '나스',\n",
       " 'volume': '#'}"
      ]
     },
     "metadata": {},
     "output_type": "display_data"
    },
    {
     "data": {
      "text/plain": [
       "<selenium.webdriver.remote.webelement.WebElement (session=\"ba51fcd1a1bc41dec611cca0306e5511\", element=\"0.5270773336102663-3\")>"
      ]
     },
     "metadata": {},
     "output_type": "display_data"
    },
    {
     "data": {
      "text/plain": [
       "{'name': '립 글로스 - 그릭 홀리데이',\n",
       " 'url': 'http://www.narscosmetics.co.kr/on/demandware.store/Sites-KR-Site/en_KR/Product-Variation?pid=999NAC0000003&dwvar_999NAC0000003_color=7845016779',\n",
       " 'image': ['http://en.narscosmetics.co.kr/on/demandware.static/-/Sites-itemmaster_NARS/default/dw8cf43363/hi-res/0607845016779.jpg',\n",
       "  'http://en.narscosmetics.co.kr/on/demandware.static/-/Sites-itemmaster_NARS/default/dw13394316/swatch/0607845016779.jpg'],\n",
       " 'salePrice': '₩ 36,000',\n",
       " 'originalPrice': '₩ 36,000',\n",
       " 'color': '그릭 홀리데이',\n",
       " 'category': '',\n",
       " 'brand': '나스',\n",
       " 'volume': '#'}"
      ]
     },
     "metadata": {},
     "output_type": "display_data"
    },
    {
     "data": {
      "text/plain": [
       "<selenium.webdriver.remote.webelement.WebElement (session=\"ba51fcd1a1bc41dec611cca0306e5511\", element=\"0.6858262019436092-3\")>"
      ]
     },
     "metadata": {},
     "output_type": "display_data"
    },
    {
     "data": {
      "text/plain": [
       "{'name': '립 글로스 - 기아나',\n",
       " 'url': 'http://www.narscosmetics.co.kr/on/demandware.store/Sites-KR-Site/en_KR/Product-Variation?pid=999NAC0000003&dwvar_999NAC0000003_color=7845056003',\n",
       " 'image': ['http://en.narscosmetics.co.kr/on/demandware.static/-/Sites-itemmaster_NARS/default/dw89607a88/hi-res/0607845056003.jpg',\n",
       "  'http://en.narscosmetics.co.kr/on/demandware.static/-/Sites-itemmaster_NARS/default/dwbe1b86cd/swatch/0607845056003.jpg'],\n",
       " 'salePrice': 'N/A',\n",
       " 'originalPrice': 'N/A',\n",
       " 'color': '기아나',\n",
       " 'category': '',\n",
       " 'brand': '나스',\n",
       " 'volume': '#'}"
      ]
     },
     "metadata": {},
     "output_type": "display_data"
    },
    {
     "data": {
      "text/plain": [
       "<selenium.webdriver.remote.webelement.WebElement (session=\"ba51fcd1a1bc41dec611cca0306e5511\", element=\"0.8844603043195092-3\")>"
      ]
     },
     "metadata": {},
     "output_type": "display_data"
    },
    {
     "data": {
      "text/plain": [
       "{'name': '립 글로스 - 핫 샌드',\n",
       " 'url': 'http://www.narscosmetics.co.kr/on/demandware.store/Sites-KR-Site/en_KR/Product-Variation?pid=999NAC0000003&dwvar_999NAC0000003_color=7845056133',\n",
       " 'image': ['http://en.narscosmetics.co.kr/on/demandware.static/-/Sites-itemmaster_NARS/default/dwa4f942a4/hi-res/0607845056133.jpg',\n",
       "  'http://en.narscosmetics.co.kr/on/demandware.static/-/Sites-itemmaster_NARS/default/dw25b851ed/swatch/0607845056133.jpg'],\n",
       " 'salePrice': '₩ 36,000',\n",
       " 'originalPrice': '₩ 36,000',\n",
       " 'color': '핫 샌드',\n",
       " 'category': '',\n",
       " 'brand': '나스',\n",
       " 'volume': '#'}"
      ]
     },
     "metadata": {},
     "output_type": "display_data"
    },
    {
     "data": {
      "text/plain": [
       "<selenium.webdriver.remote.webelement.WebElement (session=\"ba51fcd1a1bc41dec611cca0306e5511\", element=\"0.235507451398288-3\")>"
      ]
     },
     "metadata": {},
     "output_type": "display_data"
    },
    {
     "data": {
      "text/plain": [
       "{'name': '립 글로스 - 인스턴트 크래쉬',\n",
       " 'url': 'http://www.narscosmetics.co.kr/on/demandware.store/Sites-KR-Site/en_KR/Product-Variation?pid=999NAC0000003&dwvar_999NAC0000003_color=7845056126',\n",
       " 'image': ['http://en.narscosmetics.co.kr/on/demandware.static/-/Sites-itemmaster_NARS/default/dwc924ae19/hi-res/0607845056126.jpg',\n",
       "  'http://en.narscosmetics.co.kr/on/demandware.static/-/Sites-itemmaster_NARS/default/dw2a8cbfb0/swatch/0607845056126.jpg'],\n",
       " 'salePrice': '₩ 36,000',\n",
       " 'originalPrice': '₩ 36,000',\n",
       " 'color': '인스턴트 크래쉬',\n",
       " 'category': '',\n",
       " 'brand': '나스',\n",
       " 'volume': '#'}"
      ]
     },
     "metadata": {},
     "output_type": "display_data"
    },
    {
     "data": {
      "text/plain": [
       "<selenium.webdriver.remote.webelement.WebElement (session=\"ba51fcd1a1bc41dec611cca0306e5511\", element=\"0.8159822244233221-3\")>"
      ]
     },
     "metadata": {},
     "output_type": "display_data"
    },
    {
     "data": {
      "text/plain": [
       "{'name': '립 글로스 - 이스트리아',\n",
       " 'url': 'http://www.narscosmetics.co.kr/on/demandware.store/Sites-KR-Site/en_KR/Product-Variation?pid=999NAC0000003&dwvar_999NAC0000003_color=7845016939',\n",
       " 'image': ['http://en.narscosmetics.co.kr/on/demandware.static/-/Sites-itemmaster_NARS/default/dw3ae07d2b/hi-res/0607845016939.jpg',\n",
       "  'http://en.narscosmetics.co.kr/on/demandware.static/-/Sites-itemmaster_NARS/default/dw01af6226/swatch/0607845016939.jpg'],\n",
       " 'salePrice': '₩ 36,000',\n",
       " 'originalPrice': '₩ 36,000',\n",
       " 'color': '이스트리아',\n",
       " 'category': '',\n",
       " 'brand': '나스',\n",
       " 'volume': '#'}"
      ]
     },
     "metadata": {},
     "output_type": "display_data"
    },
    {
     "data": {
      "text/plain": [
       "<selenium.webdriver.remote.webelement.WebElement (session=\"ba51fcd1a1bc41dec611cca0306e5511\", element=\"0.5423263523795845-3\")>"
      ]
     },
     "metadata": {},
     "output_type": "display_data"
    },
    {
     "data": {
      "text/plain": [
       "{'name': '립 글로스 - 미스비헤이브',\n",
       " 'url': 'http://www.narscosmetics.co.kr/on/demandware.store/Sites-KR-Site/en_KR/Product-Variation?pid=999NAC0000003&dwvar_999NAC0000003_color=7845016854',\n",
       " 'image': ['http://en.narscosmetics.co.kr/on/demandware.static/-/Sites-itemmaster_NARS/default/dwe300aae6/hi-res/0607845016854.jpg',\n",
       "  'http://en.narscosmetics.co.kr/on/demandware.static/-/Sites-itemmaster_NARS/default/dwd943c3b1/swatch/0607845016854.jpg'],\n",
       " 'salePrice': '₩ 36,000',\n",
       " 'originalPrice': '₩ 36,000',\n",
       " 'color': '미스비헤이브',\n",
       " 'category': '',\n",
       " 'brand': '나스',\n",
       " 'volume': '#'}"
      ]
     },
     "metadata": {},
     "output_type": "display_data"
    },
    {
     "data": {
      "text/plain": [
       "<selenium.webdriver.remote.webelement.WebElement (session=\"ba51fcd1a1bc41dec611cca0306e5511\", element=\"0.944978791875684-3\")>"
      ]
     },
     "metadata": {},
     "output_type": "display_data"
    },
    {
     "data": {
      "text/plain": [
       "{'name': '립 글로스 - 오필리아',\n",
       " 'url': 'http://www.narscosmetics.co.kr/on/demandware.store/Sites-KR-Site/en_KR/Product-Variation?pid=999NAC0000003&dwvar_999NAC0000003_color=7845016816',\n",
       " 'image': ['http://en.narscosmetics.co.kr/on/demandware.static/-/Sites-itemmaster_NARS/default/dwd6aac586/hi-res/0607845016816.jpg',\n",
       "  'http://en.narscosmetics.co.kr/on/demandware.static/-/Sites-itemmaster_NARS/default/dw3c9873ef/swatch/0607845016816.jpg'],\n",
       " 'salePrice': '₩ 36,000',\n",
       " 'originalPrice': '₩ 36,000',\n",
       " 'color': '오필리아',\n",
       " 'category': '',\n",
       " 'brand': '나스',\n",
       " 'volume': '#'}"
      ]
     },
     "metadata": {},
     "output_type": "display_data"
    },
    {
     "data": {
      "text/plain": [
       "<selenium.webdriver.remote.webelement.WebElement (session=\"ba51fcd1a1bc41dec611cca0306e5511\", element=\"0.04475311954180916-3\")>"
      ]
     },
     "metadata": {},
     "output_type": "display_data"
    },
    {
     "data": {
      "text/plain": [
       "{'name': '립 글로스 - 오르가즘',\n",
       " 'url': 'http://www.narscosmetics.co.kr/on/demandware.store/Sites-KR-Site/en_KR/Product-Variation?pid=999NAC0000003&dwvar_999NAC0000003_color=7845016717',\n",
       " 'image': ['http://en.narscosmetics.co.kr/on/demandware.static/-/Sites-itemmaster_NARS/default/dwaa80cfdf/hi-res/0607845016717.jpg',\n",
       "  'http://en.narscosmetics.co.kr/on/demandware.static/-/Sites-itemmaster_NARS/default/dwa365c258/swatch/0607845016717.jpg'],\n",
       " 'salePrice': '₩ 36,000',\n",
       " 'originalPrice': '₩ 36,000',\n",
       " 'color': '오르가즘',\n",
       " 'category': '',\n",
       " 'brand': '나스',\n",
       " 'volume': '#'}"
      ]
     },
     "metadata": {},
     "output_type": "display_data"
    },
    {
     "data": {
      "text/plain": [
       "<selenium.webdriver.remote.webelement.WebElement (session=\"ba51fcd1a1bc41dec611cca0306e5511\", element=\"0.04407518230268903-3\")>"
      ]
     },
     "metadata": {},
     "output_type": "display_data"
    },
    {
     "data": {
      "text/plain": [
       "{'name': '립 글로스 - 프리실라',\n",
       " 'url': 'http://www.narscosmetics.co.kr/on/demandware.store/Sites-KR-Site/en_KR/Product-Variation?pid=999NAC0000003&dwvar_999NAC0000003_color=7845016915',\n",
       " 'image': ['http://en.narscosmetics.co.kr/on/demandware.static/-/Sites-itemmaster_NARS/default/dw58816930/hi-res/0607845016915.jpg',\n",
       "  'http://en.narscosmetics.co.kr/on/demandware.static/-/Sites-itemmaster_NARS/default/dw32839449/swatch/0607845016915.jpg'],\n",
       " 'salePrice': '₩ 36,000',\n",
       " 'originalPrice': '₩ 36,000',\n",
       " 'color': '프리실라',\n",
       " 'category': '',\n",
       " 'brand': '나스',\n",
       " 'volume': '#'}"
      ]
     },
     "metadata": {},
     "output_type": "display_data"
    },
    {
     "data": {
      "text/plain": [
       "<selenium.webdriver.remote.webelement.WebElement (session=\"ba51fcd1a1bc41dec611cca0306e5511\", element=\"0.33860821334723123-3\")>"
      ]
     },
     "metadata": {},
     "output_type": "display_data"
    },
    {
     "data": {
      "text/plain": [
       "{'name': '립 글로스 - 리스키 비즈니스',\n",
       " 'url': 'http://www.narscosmetics.co.kr/on/demandware.store/Sites-KR-Site/en_KR/Product-Variation?pid=999NAC0000003&dwvar_999NAC0000003_color=7845016748',\n",
       " 'image': ['http://en.narscosmetics.co.kr/on/demandware.static/-/Sites-itemmaster_NARS/default/dwfc40c42d/hi-res/0607845016748.jpg',\n",
       "  'http://en.narscosmetics.co.kr/on/demandware.static/-/Sites-itemmaster_NARS/default/dwcf349ce8/swatch/0607845016748.jpg'],\n",
       " 'salePrice': '₩ 36,000',\n",
       " 'originalPrice': '₩ 36,000',\n",
       " 'color': '리스키 비즈니스',\n",
       " 'category': '',\n",
       " 'brand': '나스',\n",
       " 'volume': '#'}"
      ]
     },
     "metadata": {},
     "output_type": "display_data"
    },
    {
     "data": {
      "text/plain": [
       "<selenium.webdriver.remote.webelement.WebElement (session=\"ba51fcd1a1bc41dec611cca0306e5511\", element=\"0.9906491231255978-3\")>"
      ]
     },
     "metadata": {},
     "output_type": "display_data"
    },
    {
     "data": {
      "text/plain": [
       "{'name': '립 글로스 - 살라망카',\n",
       " 'url': 'http://www.narscosmetics.co.kr/on/demandware.store/Sites-KR-Site/en_KR/Product-Variation?pid=999NAC0000003&dwvar_999NAC0000003_color=7845016878',\n",
       " 'image': ['http://en.narscosmetics.co.kr/on/demandware.static/-/Sites-itemmaster_NARS/default/dw20284138/hi-res/0607845016878.jpg',\n",
       "  'http://en.narscosmetics.co.kr/on/demandware.static/-/Sites-itemmaster_NARS/default/dwbf77eb71/swatch/0607845016878.jpg'],\n",
       " 'salePrice': '₩ 36,000',\n",
       " 'originalPrice': '₩ 36,000',\n",
       " 'color': '살라망카',\n",
       " 'category': '',\n",
       " 'brand': '나스',\n",
       " 'volume': '#'}"
      ]
     },
     "metadata": {},
     "output_type": "display_data"
    },
    {
     "data": {
      "text/plain": [
       "<selenium.webdriver.remote.webelement.WebElement (session=\"ba51fcd1a1bc41dec611cca0306e5511\", element=\"0.15114084600766553-3\")>"
      ]
     },
     "metadata": {},
     "output_type": "display_data"
    },
    {
     "data": {
      "text/plain": [
       "{'name': '립 글로스 - 스캔들',\n",
       " 'url': 'http://www.narscosmetics.co.kr/on/demandware.store/Sites-KR-Site/en_KR/Product-Variation?pid=999NAC0000003&dwvar_999NAC0000003_color=7845016663',\n",
       " 'image': ['http://en.narscosmetics.co.kr/on/demandware.static/-/Sites-itemmaster_NARS/default/dw574772b6/hi-res/0607845016663.jpg',\n",
       "  'http://en.narscosmetics.co.kr/on/demandware.static/-/Sites-itemmaster_NARS/default/dwa5dccfa4/swatch/0607845016663.jpg'],\n",
       " 'salePrice': '₩ 36,000',\n",
       " 'originalPrice': '₩ 36,000',\n",
       " 'color': '스캔들',\n",
       " 'category': '',\n",
       " 'brand': '나스',\n",
       " 'volume': '#'}"
      ]
     },
     "metadata": {},
     "output_type": "display_data"
    },
    {
     "data": {
      "text/plain": [
       "<selenium.webdriver.remote.webelement.WebElement (session=\"ba51fcd1a1bc41dec611cca0306e5511\", element=\"0.14886671094916815-3\")>"
      ]
     },
     "metadata": {},
     "output_type": "display_data"
    },
    {
     "data": {
      "text/plain": [
       "{'name': '립 글로스 - 식스티스 팬',\n",
       " 'url': 'http://www.narscosmetics.co.kr/on/demandware.store/Sites-KR-Site/en_KR/Product-Variation?pid=999NAC0000003&dwvar_999NAC0000003_color=7845016922',\n",
       " 'image': ['http://en.narscosmetics.co.kr/on/demandware.static/-/Sites-itemmaster_NARS/default/dw519e308c/hi-res/0607845016922.jpg',\n",
       "  'http://en.narscosmetics.co.kr/on/demandware.static/-/Sites-itemmaster_NARS/default/dwf40fa612/swatch/0607845016922.jpg'],\n",
       " 'salePrice': '₩ 36,000',\n",
       " 'originalPrice': '₩ 36,000',\n",
       " 'color': '식스티스 팬',\n",
       " 'category': '',\n",
       " 'brand': '나스',\n",
       " 'volume': '#'}"
      ]
     },
     "metadata": {},
     "output_type": "display_data"
    },
    {
     "data": {
      "text/plain": [
       "<selenium.webdriver.remote.webelement.WebElement (session=\"ba51fcd1a1bc41dec611cca0306e5511\", element=\"0.20353566649693655-3\")>"
      ]
     },
     "metadata": {},
     "output_type": "display_data"
    },
    {
     "data": {
      "text/plain": [
       "{'name': '립 글로스 - 스텔라',\n",
       " 'url': 'http://www.narscosmetics.co.kr/on/demandware.store/Sites-KR-Site/en_KR/Product-Variation?pid=999NAC0000003&dwvar_999NAC0000003_color=7845016670',\n",
       " 'image': ['http://en.narscosmetics.co.kr/on/demandware.static/-/Sites-itemmaster_NARS/default/dwbeeb23de/hi-res/0607845016670.jpg',\n",
       "  'http://en.narscosmetics.co.kr/on/demandware.static/-/Sites-itemmaster_NARS/default/dw581403b4/swatch/0607845016670.jpg'],\n",
       " 'salePrice': '₩ 36,000',\n",
       " 'originalPrice': '₩ 36,000',\n",
       " 'color': '스텔라',\n",
       " 'category': '',\n",
       " 'brand': '나스',\n",
       " 'volume': '#'}"
      ]
     },
     "metadata": {},
     "output_type": "display_data"
    },
    {
     "data": {
      "text/plain": [
       "<selenium.webdriver.remote.webelement.WebElement (session=\"ba51fcd1a1bc41dec611cca0306e5511\", element=\"0.05959627788115385-3\")>"
      ]
     },
     "metadata": {},
     "output_type": "display_data"
    },
    {
     "data": {
      "text/plain": [
       "{'name': '립 글로스 - 스톨른 키시스',\n",
       " 'url': 'http://www.narscosmetics.co.kr/on/demandware.store/Sites-KR-Site/en_KR/Product-Variation?pid=999NAC0000003&dwvar_999NAC0000003_color=7845016724',\n",
       " 'image': ['http://en.narscosmetics.co.kr/on/demandware.static/-/Sites-itemmaster_NARS/default/dw3b6b0ad1/hi-res/0607845016724.jpg',\n",
       "  'http://en.narscosmetics.co.kr/on/demandware.static/-/Sites-itemmaster_NARS/default/dw344d627f/swatch/0607845016724.jpg'],\n",
       " 'salePrice': '₩ 36,000',\n",
       " 'originalPrice': '₩ 36,000',\n",
       " 'color': '스톨른 키시스',\n",
       " 'category': '',\n",
       " 'brand': '나스',\n",
       " 'volume': '#'}"
      ]
     },
     "metadata": {},
     "output_type": "display_data"
    },
    {
     "data": {
      "text/plain": [
       "<selenium.webdriver.remote.webelement.WebElement (session=\"ba51fcd1a1bc41dec611cca0306e5511\", element=\"0.44594982159339547-3\")>"
      ]
     },
     "metadata": {},
     "output_type": "display_data"
    },
    {
     "data": {
      "text/plain": [
       "{'name': '립 글로스 - 스트립티즈',\n",
       " 'url': 'http://www.narscosmetics.co.kr/on/demandware.store/Sites-KR-Site/en_KR/Product-Variation?pid=999NAC0000003&dwvar_999NAC0000003_color=7845016755',\n",
       " 'image': ['http://en.narscosmetics.co.kr/on/demandware.static/-/Sites-itemmaster_NARS/default/dw78cc1491/hi-res/0607845016755.jpg',\n",
       "  'http://en.narscosmetics.co.kr/on/demandware.static/-/Sites-itemmaster_NARS/default/dw86b1e681/swatch/0607845016755.jpg'],\n",
       " 'salePrice': '₩ 36,000',\n",
       " 'originalPrice': '₩ 36,000',\n",
       " 'color': '스트립티즈',\n",
       " 'category': '',\n",
       " 'brand': '나스',\n",
       " 'volume': '#'}"
      ]
     },
     "metadata": {},
     "output_type": "display_data"
    },
    {
     "data": {
      "text/plain": [
       "<selenium.webdriver.remote.webelement.WebElement (session=\"ba51fcd1a1bc41dec611cca0306e5511\", element=\"0.592662024119347-3\")>"
      ]
     },
     "metadata": {},
     "output_type": "display_data"
    },
    {
     "data": {
      "text/plain": [
       "{'name': '립 글로스 - 수퍼 오르가즘',\n",
       " 'url': 'http://www.narscosmetics.co.kr/on/demandware.store/Sites-KR-Site/en_KR/Product-Variation?pid=999NAC0000003&dwvar_999NAC0000003_color=7845016731',\n",
       " 'image': ['http://en.narscosmetics.co.kr/on/demandware.static/-/Sites-itemmaster_NARS/default/dw767fe095/hi-res/0607845016731.jpg',\n",
       "  'http://en.narscosmetics.co.kr/on/demandware.static/-/Sites-itemmaster_NARS/default/dw5eff2798/swatch/0607845016731.jpg'],\n",
       " 'salePrice': '₩ 36,000',\n",
       " 'originalPrice': '₩ 36,000',\n",
       " 'color': '수퍼 오르가즘',\n",
       " 'category': '',\n",
       " 'brand': '나스',\n",
       " 'volume': '#'}"
      ]
     },
     "metadata": {},
     "output_type": "display_data"
    },
    {
     "data": {
      "text/plain": [
       "<selenium.webdriver.remote.webelement.WebElement (session=\"ba51fcd1a1bc41dec611cca0306e5511\", element=\"0.6781663472675021-3\")>"
      ]
     },
     "metadata": {},
     "output_type": "display_data"
    },
    {
     "data": {
      "text/plain": [
       "{'name': '립 글로스 - 수퍼빅센',\n",
       " 'url': 'http://www.narscosmetics.co.kr/on/demandware.store/Sites-KR-Site/en_KR/Product-Variation?pid=999NAC0000003&dwvar_999NAC0000003_color=7845016786',\n",
       " 'image': ['http://en.narscosmetics.co.kr/on/demandware.static/-/Sites-itemmaster_NARS/default/dw564079ad/hi-res/0607845016786.jpg',\n",
       "  'http://en.narscosmetics.co.kr/on/demandware.static/-/Sites-itemmaster_NARS/default/dwf0088cde/swatch/0607845016786.jpg'],\n",
       " 'salePrice': '₩ 36,000',\n",
       " 'originalPrice': '₩ 36,000',\n",
       " 'color': '수퍼빅센',\n",
       " 'category': '',\n",
       " 'brand': '나스',\n",
       " 'volume': '#'}"
      ]
     },
     "metadata": {},
     "output_type": "display_data"
    },
    {
     "data": {
      "text/plain": [
       "<selenium.webdriver.remote.webelement.WebElement (session=\"ba51fcd1a1bc41dec611cca0306e5511\", element=\"0.3503840629346797-3\")>"
      ]
     },
     "metadata": {},
     "output_type": "display_data"
    },
    {
     "data": {
      "text/plain": [
       "{'name': '립 글로스 - 스윗 드림스',\n",
       " 'url': 'http://www.narscosmetics.co.kr/on/demandware.store/Sites-KR-Site/en_KR/Product-Variation?pid=999NAC0000003&dwvar_999NAC0000003_color=7845016656',\n",
       " 'image': ['http://en.narscosmetics.co.kr/on/demandware.static/-/Sites-itemmaster_NARS/default/dwf3433c72/hi-res/0607845016656.jpg',\n",
       "  'http://en.narscosmetics.co.kr/on/demandware.static/-/Sites-itemmaster_NARS/default/dw0ffc4f7e/swatch/0607845016656.jpg'],\n",
       " 'salePrice': '₩ 36,000',\n",
       " 'originalPrice': '₩ 36,000',\n",
       " 'color': '스윗 드림스',\n",
       " 'category': '',\n",
       " 'brand': '나스',\n",
       " 'volume': '#'}"
      ]
     },
     "metadata": {},
     "output_type": "display_data"
    },
    {
     "data": {
      "text/plain": [
       "<selenium.webdriver.remote.webelement.WebElement (session=\"ba51fcd1a1bc41dec611cca0306e5511\", element=\"0.2869916666514438-3\")>"
      ]
     },
     "metadata": {},
     "output_type": "display_data"
    },
    {
     "data": {
      "text/plain": [
       "{'name': '립 글로스 - 스윗 리벤지',\n",
       " 'url': 'http://www.narscosmetics.co.kr/on/demandware.store/Sites-KR-Site/en_KR/Product-Variation?pid=999NAC0000003&dwvar_999NAC0000003_color=7845016793',\n",
       " 'image': ['http://en.narscosmetics.co.kr/on/demandware.static/-/Sites-itemmaster_NARS/default/dwe92d7788/hi-res/0607845016793.jpg',\n",
       "  'http://en.narscosmetics.co.kr/on/demandware.static/-/Sites-itemmaster_NARS/default/dw2c96d7e9/swatch/0607845016793.jpg'],\n",
       " 'salePrice': '₩ 36,000',\n",
       " 'originalPrice': '₩ 36,000',\n",
       " 'color': '스윗 리벤지',\n",
       " 'category': '',\n",
       " 'brand': '나스',\n",
       " 'volume': '#'}"
      ]
     },
     "metadata": {},
     "output_type": "display_data"
    },
    {
     "data": {
      "text/plain": [
       "<selenium.webdriver.remote.webelement.WebElement (session=\"ba51fcd1a1bc41dec611cca0306e5511\", element=\"0.05447411670999869-3\")>"
      ]
     },
     "metadata": {},
     "output_type": "display_data"
    },
    {
     "data": {
      "text/plain": [
       "{'name': '립 글로스 - 태즈메이니아',\n",
       " 'url': 'http://www.narscosmetics.co.kr/on/demandware.store/Sites-KR-Site/en_KR/Product-Variation?pid=999NAC0000003&dwvar_999NAC0000003_color=7845016892',\n",
       " 'image': ['http://en.narscosmetics.co.kr/on/demandware.static/-/Sites-itemmaster_NARS/default/dwd8459ae0/hi-res/0607845016892.jpg',\n",
       "  'http://en.narscosmetics.co.kr/on/demandware.static/-/Sites-itemmaster_NARS/default/dw8e3fdbf4/swatch/0607845016892.jpg'],\n",
       " 'salePrice': '₩ 36,000',\n",
       " 'originalPrice': '₩ 36,000',\n",
       " 'color': '태즈메이니아',\n",
       " 'category': '',\n",
       " 'brand': '나스',\n",
       " 'volume': '#'}"
      ]
     },
     "metadata": {},
     "output_type": "display_data"
    },
    {
     "data": {
      "text/plain": [
       "<selenium.webdriver.remote.webelement.WebElement (session=\"ba51fcd1a1bc41dec611cca0306e5511\", element=\"0.742837325398136-3\")>"
      ]
     },
     "metadata": {},
     "output_type": "display_data"
    },
    {
     "data": {
      "text/plain": [
       "{'name': '립 글로스 - 트리플 엑스',\n",
       " 'url': 'http://www.narscosmetics.co.kr/on/demandware.store/Sites-KR-Site/en_KR/Product-Variation?pid=999NAC0000003&dwvar_999NAC0000003_color=7845016649',\n",
       " 'image': ['http://en.narscosmetics.co.kr/on/demandware.static/-/Sites-itemmaster_NARS/default/dw7285cb74/hi-res/0607845016649.jpg',\n",
       "  'http://en.narscosmetics.co.kr/on/demandware.static/-/Sites-itemmaster_NARS/default/dw24ca828a/swatch/0607845016649.jpg'],\n",
       " 'salePrice': '₩ 36,000',\n",
       " 'originalPrice': '₩ 36,000',\n",
       " 'color': '트리플 엑스',\n",
       " 'category': '',\n",
       " 'brand': '나스',\n",
       " 'volume': '#'}"
      ]
     },
     "metadata": {},
     "output_type": "display_data"
    },
    {
     "data": {
      "text/plain": [
       "<selenium.webdriver.remote.webelement.WebElement (session=\"ba51fcd1a1bc41dec611cca0306e5511\", element=\"0.5928383270480522-3\")>"
      ]
     },
     "metadata": {},
     "output_type": "display_data"
    },
    {
     "data": {
      "text/plain": [
       "{'name': '립 글로스 - 터키쉬 딜라이트',\n",
       " 'url': 'http://www.narscosmetics.co.kr/on/demandware.store/Sites-KR-Site/en_KR/Product-Variation?pid=999NAC0000003&dwvar_999NAC0000003_color=7845016687',\n",
       " 'image': ['http://en.narscosmetics.co.kr/on/demandware.static/-/Sites-itemmaster_NARS/default/dwb22e5be7/hi-res/0607845016687.jpg',\n",
       "  'http://en.narscosmetics.co.kr/on/demandware.static/-/Sites-itemmaster_NARS/default/dw177f15c3/swatch/0607845016687.jpg'],\n",
       " 'salePrice': '₩ 36,000',\n",
       " 'originalPrice': '₩ 36,000',\n",
       " 'color': '터키쉬 딜라이트',\n",
       " 'category': '',\n",
       " 'brand': '나스',\n",
       " 'volume': '#'}"
      ]
     },
     "metadata": {},
     "output_type": "display_data"
    },
    {
     "data": {
      "text/plain": [
       "<selenium.webdriver.remote.webelement.WebElement (session=\"ba51fcd1a1bc41dec611cca0306e5511\", element=\"0.7727406596857309-3\")>"
      ]
     },
     "metadata": {},
     "output_type": "display_data"
    },
    {
     "data": {
      "text/plain": [
       "{'name': '립 글로스 - 보 살리',\n",
       " 'url': 'http://www.narscosmetics.co.kr/on/demandware.store/Sites-KR-Site/en_KR/Product-Variation?pid=999NAC0000003&dwvar_999NAC0000003_color=7845056010',\n",
       " 'image': ['http://en.narscosmetics.co.kr/on/demandware.static/-/Sites-itemmaster_NARS/default/dw58edccce/hi-res/0607845056010.jpg',\n",
       "  'http://en.narscosmetics.co.kr/on/demandware.static/-/Sites-itemmaster_NARS/default/dw002408ba/swatch/0607845056010.jpg'],\n",
       " 'salePrice': 'N/A',\n",
       " 'originalPrice': 'N/A',\n",
       " 'color': '보 살리',\n",
       " 'category': '',\n",
       " 'brand': '나스',\n",
       " 'volume': '#'}"
      ]
     },
     "metadata": {},
     "output_type": "display_data"
    },
    {
     "data": {
      "text/plain": [
       "<selenium.webdriver.remote.webelement.WebElement (session=\"ba51fcd1a1bc41dec611cca0306e5511\", element=\"0.14949806336183546-3\")>"
      ]
     },
     "metadata": {},
     "output_type": "display_data"
    },
    {
     "data": {
      "text/plain": [
       "{'name': '립 글로스 - 비다로카',\n",
       " 'url': 'http://www.narscosmetics.co.kr/on/demandware.store/Sites-KR-Site/en_KR/Product-Variation?pid=999NAC0000003&dwvar_999NAC0000003_color=7845056119',\n",
       " 'image': ['http://en.narscosmetics.co.kr/on/demandware.static/-/Sites-itemmaster_NARS/default/dw58b8c2ec/hi-res/0607845056119.jpg',\n",
       "  'http://en.narscosmetics.co.kr/on/demandware.static/-/Sites-itemmaster_NARS/default/dwbdd6170e/swatch/0607845056119.jpg'],\n",
       " 'salePrice': '₩ 36,000',\n",
       " 'originalPrice': '₩ 36,000',\n",
       " 'color': '비다로카',\n",
       " 'category': '',\n",
       " 'brand': '나스',\n",
       " 'volume': '#'}"
      ]
     },
     "metadata": {},
     "output_type": "display_data"
    },
    {
     "data": {
      "text/plain": [
       "<selenium.webdriver.remote.webelement.WebElement (session=\"ba51fcd1a1bc41dec611cca0306e5511\", element=\"0.8761430336292424-3\")>"
      ]
     },
     "metadata": {},
     "output_type": "display_data"
    },
    {
     "data": {
      "text/plain": [
       "{'name': '립 글로스 - 원더',\n",
       " 'url': 'http://www.narscosmetics.co.kr/on/demandware.store/Sites-KR-Site/en_KR/Product-Variation?pid=999NAC0000003&dwvar_999NAC0000003_color=7845016830',\n",
       " 'image': ['http://en.narscosmetics.co.kr/on/demandware.static/-/Sites-itemmaster_NARS/default/dw15c62038/hi-res/0607845016830.jpg',\n",
       "  'http://en.narscosmetics.co.kr/on/demandware.static/-/Sites-itemmaster_NARS/default/dwf2f4d1ad/swatch/0607845016830.jpg'],\n",
       " 'salePrice': '₩ 36,000',\n",
       " 'originalPrice': '₩ 36,000',\n",
       " 'color': '원더',\n",
       " 'category': '',\n",
       " 'brand': '나스',\n",
       " 'volume': '#'}"
      ]
     },
     "metadata": {},
     "output_type": "display_data"
    },
    {
     "data": {
      "text/plain": [
       "{'name': '나스 벨벳 매트 립 펜슬 세트 랜섬',\n",
       " 'url': 'http://www.narscosmetics.co.kr/ransom-velvet-matte-lip-pencil-set/0607845058762.html',\n",
       " 'image': ['http://en.narscosmetics.co.kr/on/demandware.static/-/Sites-itemmaster_NARS/default/dw03f066a5/hi-res/0607845058762.jpg'],\n",
       " 'salePrice': '₩ 79,000',\n",
       " 'originalPrice': '₩ 79,000',\n",
       " 'color': '#',\n",
       " 'category': '',\n",
       " 'brand': '나스',\n",
       " 'volume': '#'}"
      ]
     },
     "metadata": {},
     "output_type": "display_data"
    },
    {
     "data": {
      "text/plain": [
       "{'name': '파워매트 립 클래쉬 코프레',\n",
       " 'url': 'http://www.narscosmetics.co.kr/powermatte-lip-clash-coffret/0607845083726.html',\n",
       " 'image': ['http://en.narscosmetics.co.kr/on/demandware.static/-/Sites-itemmaster_NARS/default/dw44b0c3e4/hi-res/0607845083726.jpg'],\n",
       " 'salePrice': '₩ 74,000',\n",
       " 'originalPrice': '₩ 74,000',\n",
       " 'color': '#',\n",
       " 'category': '',\n",
       " 'brand': '나스',\n",
       " 'volume': '#'}"
      ]
     },
     "metadata": {},
     "output_type": "display_data"
    },
    {
     "data": {
      "text/plain": [
       "<selenium.webdriver.remote.webelement.WebElement (session=\"ba51fcd1a1bc41dec611cca0306e5511\", element=\"0.8660814010663758-3\")>"
      ]
     },
     "metadata": {},
     "output_type": "display_data"
    },
    {
     "data": {
      "text/plain": [
       "{'name': '파워매트 립 피그먼트 - 아메리칸 우먼',\n",
       " 'url': 'http://www.narscosmetics.co.kr/on/demandware.store/Sites-KR-Site/en_KR/Product-Variation?pid=999NAC0000053&dwvar_999NAC0000053_color=7845027720',\n",
       " 'image': ['http://en.narscosmetics.co.kr/on/demandware.static/-/Sites-itemmaster_NARS/default/dwba0ddabc/hi-res/0607845027720.jpg',\n",
       "  'http://en.narscosmetics.co.kr/on/demandware.static/-/Sites-itemmaster_NARS/default/dwe4a213e0/swatch/0607845027720.jpg'],\n",
       " 'salePrice': '₩ 37,000',\n",
       " 'originalPrice': '₩ 37,000',\n",
       " 'color': '아메리칸 우먼',\n",
       " 'category': '',\n",
       " 'brand': '나스',\n",
       " 'volume': '#'}"
      ]
     },
     "metadata": {},
     "output_type": "display_data"
    },
    {
     "data": {
      "text/plain": [
       "<selenium.webdriver.remote.webelement.WebElement (session=\"ba51fcd1a1bc41dec611cca0306e5511\", element=\"0.9825437046478789-3\")>"
      ]
     },
     "metadata": {},
     "output_type": "display_data"
    },
    {
     "data": {
      "text/plain": [
       "{'name': '파워매트 립 피그먼트 - 콜 미',\n",
       " 'url': 'http://www.narscosmetics.co.kr/on/demandware.store/Sites-KR-Site/en_KR/Product-Variation?pid=999NAC0000053&dwvar_999NAC0000053_color=7845027843',\n",
       " 'image': ['http://en.narscosmetics.co.kr/on/demandware.static/-/Sites-itemmaster_NARS/default/dwfadff468/hi-res/0607845027843.jpg',\n",
       "  'http://en.narscosmetics.co.kr/on/demandware.static/-/Sites-itemmaster_NARS/default/dw94ee6748/swatch/0607845027843.jpg'],\n",
       " 'salePrice': '₩ 37,000',\n",
       " 'originalPrice': '₩ 37,000',\n",
       " 'color': '콜 미',\n",
       " 'category': '',\n",
       " 'brand': '나스',\n",
       " 'volume': '#'}"
      ]
     },
     "metadata": {},
     "output_type": "display_data"
    },
    {
     "data": {
      "text/plain": [
       "<selenium.webdriver.remote.webelement.WebElement (session=\"ba51fcd1a1bc41dec611cca0306e5511\", element=\"0.7129887859172959-3\")>"
      ]
     },
     "metadata": {},
     "output_type": "display_data"
    },
    {
     "data": {
      "text/plain": [
       "{'name': '파워매트 립 피그먼트 - 던 잇 어게인',\n",
       " 'url': 'http://www.narscosmetics.co.kr/on/demandware.store/Sites-KR-Site/en_KR/Product-Variation?pid=999NAC0000053&dwvar_999NAC0000053_color=7845027751',\n",
       " 'image': ['http://en.narscosmetics.co.kr/on/demandware.static/-/Sites-itemmaster_NARS/default/dw7443f4cb/hi-res/0607845027751.jpg',\n",
       "  'http://en.narscosmetics.co.kr/on/demandware.static/-/Sites-itemmaster_NARS/default/dw6dcbe7cc/swatch/0607845027751.jpg'],\n",
       " 'salePrice': '₩ 37,000',\n",
       " 'originalPrice': '₩ 37,000',\n",
       " 'color': '던 잇 어게인',\n",
       " 'category': '',\n",
       " 'brand': '나스',\n",
       " 'volume': '#'}"
      ]
     },
     "metadata": {},
     "output_type": "display_data"
    },
    {
     "data": {
      "text/plain": [
       "<selenium.webdriver.remote.webelement.WebElement (session=\"ba51fcd1a1bc41dec611cca0306e5511\", element=\"0.2868095466964147-3\")>"
      ]
     },
     "metadata": {},
     "output_type": "display_data"
    },
    {
     "data": {
      "text/plain": [
       "{'name': '파워매트 립 피그먼트 - 돈 스탑',\n",
       " 'url': 'http://www.narscosmetics.co.kr/on/demandware.store/Sites-KR-Site/en_KR/Product-Variation?pid=999NAC0000053&dwvar_999NAC0000053_color=7845027713',\n",
       " 'image': ['http://en.narscosmetics.co.kr/on/demandware.static/-/Sites-itemmaster_NARS/default/dw3ae3b5de/hi-res/0607845027713.jpg',\n",
       "  'http://en.narscosmetics.co.kr/on/demandware.static/-/Sites-itemmaster_NARS/default/dwff9d37a1/swatch/0607845027713.jpg'],\n",
       " 'salePrice': '₩ 37,000',\n",
       " 'originalPrice': '₩ 37,000',\n",
       " 'color': '돈 스탑',\n",
       " 'category': '',\n",
       " 'brand': '나스',\n",
       " 'volume': '#'}"
      ]
     },
     "metadata": {},
     "output_type": "display_data"
    },
    {
     "data": {
      "text/plain": [
       "<selenium.webdriver.remote.webelement.WebElement (session=\"ba51fcd1a1bc41dec611cca0306e5511\", element=\"0.8363083660474107-3\")>"
      ]
     },
     "metadata": {},
     "output_type": "display_data"
    },
    {
     "data": {
      "text/plain": [
       "{'name': '파워매트 립 피그먼트 - 겟 잇 온',\n",
       " 'url': 'http://www.narscosmetics.co.kr/on/demandware.store/Sites-KR-Site/en_KR/Product-Variation?pid=999NAC0000053&dwvar_999NAC0000053_color=7845027645',\n",
       " 'image': ['http://en.narscosmetics.co.kr/on/demandware.static/-/Sites-itemmaster_NARS/default/dw3da2846b/hi-res/0607845027645.jpg',\n",
       "  'http://en.narscosmetics.co.kr/on/demandware.static/-/Sites-itemmaster_NARS/default/dwb72a502f/swatch/0607845027645.jpg'],\n",
       " 'salePrice': '₩ 37,000',\n",
       " 'originalPrice': '₩ 37,000',\n",
       " 'color': '겟 잇 온',\n",
       " 'category': '',\n",
       " 'brand': '나스',\n",
       " 'volume': '#'}"
      ]
     },
     "metadata": {},
     "output_type": "display_data"
    },
    {
     "data": {
      "text/plain": [
       "<selenium.webdriver.remote.webelement.WebElement (session=\"ba51fcd1a1bc41dec611cca0306e5511\", element=\"0.4814096430577963-3\")>"
      ]
     },
     "metadata": {},
     "output_type": "display_data"
    },
    {
     "data": {
      "text/plain": [
       "{'name': '파워매트 립 피그먼트 - 겟 업 스탠드 업',\n",
       " 'url': 'http://www.narscosmetics.co.kr/on/demandware.store/Sites-KR-Site/en_KR/Product-Variation?pid=999NAC0000053&dwvar_999NAC0000053_color=7845027690',\n",
       " 'image': ['http://en.narscosmetics.co.kr/on/demandware.static/-/Sites-itemmaster_NARS/default/dw74cdc23d/hi-res/0607845027690.jpg',\n",
       "  'http://en.narscosmetics.co.kr/on/demandware.static/-/Sites-itemmaster_NARS/default/dw98e80f4e/swatch/0607845027690.jpg'],\n",
       " 'salePrice': '₩ 37,000',\n",
       " 'originalPrice': '₩ 37,000',\n",
       " 'color': '겟 업 스탠드 업',\n",
       " 'category': '',\n",
       " 'brand': '나스',\n",
       " 'volume': '#'}"
      ]
     },
     "metadata": {},
     "output_type": "display_data"
    },
    {
     "data": {
      "text/plain": [
       "<selenium.webdriver.remote.webelement.WebElement (session=\"ba51fcd1a1bc41dec611cca0306e5511\", element=\"0.22092293223443882-3\")>"
      ]
     },
     "metadata": {},
     "output_type": "display_data"
    },
    {
     "data": {
      "text/plain": [
       "{'name': '파워매트 립 피그먼트 - 기브 잇 업',\n",
       " 'url': 'http://www.narscosmetics.co.kr/on/demandware.store/Sites-KR-Site/en_KR/Product-Variation?pid=999NAC0000053&dwvar_999NAC0000053_color=7845027683',\n",
       " 'image': ['http://en.narscosmetics.co.kr/on/demandware.static/-/Sites-itemmaster_NARS/default/dw50b8758e/hi-res/0607845027683.jpg',\n",
       "  'http://en.narscosmetics.co.kr/on/demandware.static/-/Sites-itemmaster_NARS/default/dw96a7311e/swatch/0607845027683.jpg'],\n",
       " 'salePrice': '₩ 37,000',\n",
       " 'originalPrice': '₩ 37,000',\n",
       " 'color': '기브 잇 업',\n",
       " 'category': '',\n",
       " 'brand': '나스',\n",
       " 'volume': '#'}"
      ]
     },
     "metadata": {},
     "output_type": "display_data"
    },
    {
     "data": {
      "text/plain": [
       "<selenium.webdriver.remote.webelement.WebElement (session=\"ba51fcd1a1bc41dec611cca0306e5511\", element=\"0.9744179702878641-3\")>"
      ]
     },
     "metadata": {},
     "output_type": "display_data"
    },
    {
     "data": {
      "text/plain": [
       "{'name': '파워매트 립 피그먼트 - 저스트 푸시 플레이',\n",
       " 'url': 'http://www.narscosmetics.co.kr/on/demandware.store/Sites-KR-Site/en_KR/Product-Variation?pid=999NAC0000053&dwvar_999NAC0000053_color=7845027829',\n",
       " 'image': ['http://en.narscosmetics.co.kr/on/demandware.static/-/Sites-itemmaster_NARS/default/dwba1db14a/hi-res/0607845027829.jpg',\n",
       "  'http://en.narscosmetics.co.kr/on/demandware.static/-/Sites-itemmaster_NARS/default/dwc9a21c1f/swatch/0607845027829.jpg'],\n",
       " 'salePrice': '₩ 37,000',\n",
       " 'originalPrice': '₩ 37,000',\n",
       " 'color': '저스트 푸시 플레이',\n",
       " 'category': '',\n",
       " 'brand': '나스',\n",
       " 'volume': '#'}"
      ]
     },
     "metadata": {},
     "output_type": "display_data"
    },
    {
     "data": {
      "text/plain": [
       "<selenium.webdriver.remote.webelement.WebElement (session=\"ba51fcd1a1bc41dec611cca0306e5511\", element=\"0.07464552321337914-3\")>"
      ]
     },
     "metadata": {},
     "output_type": "display_data"
    },
    {
     "data": {
      "text/plain": [
       "{'name': '파워매트 립 피그먼트 - 저스트 왓 아이 니디드',\n",
       " 'url': 'http://www.narscosmetics.co.kr/on/demandware.store/Sites-KR-Site/en_KR/Product-Variation?pid=999NAC0000053&dwvar_999NAC0000053_color=7845027782',\n",
       " 'image': ['http://en.narscosmetics.co.kr/on/demandware.static/-/Sites-itemmaster_NARS/default/dw156c7ab3/hi-res/0607845027782.jpg',\n",
       "  'http://en.narscosmetics.co.kr/on/demandware.static/-/Sites-itemmaster_NARS/default/dwa12f576c/swatch/0607845027782.jpg'],\n",
       " 'salePrice': '₩ 37,000',\n",
       " 'originalPrice': '₩ 37,000',\n",
       " 'color': '저스트 왓 아이 니디드',\n",
       " 'category': '',\n",
       " 'brand': '나스',\n",
       " 'volume': '#'}"
      ]
     },
     "metadata": {},
     "output_type": "display_data"
    },
    {
     "data": {
      "text/plain": [
       "<selenium.webdriver.remote.webelement.WebElement (session=\"ba51fcd1a1bc41dec611cca0306e5511\", element=\"0.852765871976469-3\")>"
      ]
     },
     "metadata": {},
     "output_type": "display_data"
    },
    {
     "data": {
      "text/plain": [
       "{'name': '파워매트 립 피그먼트 - 라이트 마이 파이어',\n",
       " 'url': 'http://www.narscosmetics.co.kr/on/demandware.store/Sites-KR-Site/en_KR/Product-Variation?pid=999NAC0000053&dwvar_999NAC0000053_color=7845027706',\n",
       " 'image': ['http://en.narscosmetics.co.kr/on/demandware.static/-/Sites-itemmaster_NARS/default/dw25b9397b/hi-res/0607845027706.jpg',\n",
       "  'http://en.narscosmetics.co.kr/on/demandware.static/-/Sites-itemmaster_NARS/default/dw7b5a2831/swatch/0607845027706.jpg'],\n",
       " 'salePrice': '₩ 37,000',\n",
       " 'originalPrice': '₩ 37,000',\n",
       " 'color': '라이트 마이 파이어',\n",
       " 'category': '',\n",
       " 'brand': '나스',\n",
       " 'volume': '#'}"
      ]
     },
     "metadata": {},
     "output_type": "display_data"
    },
    {
     "data": {
      "text/plain": [
       "<selenium.webdriver.remote.webelement.WebElement (session=\"ba51fcd1a1bc41dec611cca0306e5511\", element=\"0.9450721831080606-3\")>"
      ]
     },
     "metadata": {},
     "output_type": "display_data"
    },
    {
     "data": {
      "text/plain": [
       "{'name': '파워매트 립 피그먼트 - 런던 콜링',\n",
       " 'url': 'http://www.narscosmetics.co.kr/on/demandware.store/Sites-KR-Site/en_KR/Product-Variation?pid=999NAC0000053&dwvar_999NAC0000053_color=7845027614',\n",
       " 'image': ['http://en.narscosmetics.co.kr/on/demandware.static/-/Sites-itemmaster_NARS/default/dw5e603693/hi-res/0607845027614.jpg',\n",
       "  'http://en.narscosmetics.co.kr/on/demandware.static/-/Sites-itemmaster_NARS/default/dw8d7d2cf6/swatch/0607845027614.jpg'],\n",
       " 'salePrice': '₩ 37,000',\n",
       " 'originalPrice': '₩ 37,000',\n",
       " 'color': '런던 콜링',\n",
       " 'category': '',\n",
       " 'brand': '나스',\n",
       " 'volume': '#'}"
      ]
     },
     "metadata": {},
     "output_type": "display_data"
    },
    {
     "data": {
      "text/plain": [
       "<selenium.webdriver.remote.webelement.WebElement (session=\"ba51fcd1a1bc41dec611cca0306e5511\", element=\"0.4862363081845962-3\")>"
      ]
     },
     "metadata": {},
     "output_type": "display_data"
    },
    {
     "data": {
      "text/plain": [
       "{'name': '파워매트 립 피그먼트 - 로우 라이더',\n",
       " 'url': 'http://www.narscosmetics.co.kr/on/demandware.store/Sites-KR-Site/en_KR/Product-Variation?pid=999NAC0000053&dwvar_999NAC0000053_color=7845027676',\n",
       " 'image': ['http://en.narscosmetics.co.kr/on/demandware.static/-/Sites-itemmaster_NARS/default/dw4880ccf2/hi-res/0607845027676.jpg',\n",
       "  'http://en.narscosmetics.co.kr/on/demandware.static/-/Sites-itemmaster_NARS/default/dw3600cbb9/swatch/0607845027676.jpg'],\n",
       " 'salePrice': '₩ 37,000',\n",
       " 'originalPrice': '₩ 37,000',\n",
       " 'color': '로우 라이더',\n",
       " 'category': '',\n",
       " 'brand': '나스',\n",
       " 'volume': '#'}"
      ]
     },
     "metadata": {},
     "output_type": "display_data"
    },
    {
     "data": {
      "text/plain": [
       "<selenium.webdriver.remote.webelement.WebElement (session=\"ba51fcd1a1bc41dec611cca0306e5511\", element=\"0.13284804754344148-3\")>"
      ]
     },
     "metadata": {},
     "output_type": "display_data"
    },
    {
     "data": {
      "text/plain": [
       "{'name': '파워매트 립 피그먼트 - 페인트 잇 블랙',\n",
       " 'url': 'http://www.narscosmetics.co.kr/on/demandware.store/Sites-KR-Site/en_KR/Product-Variation?pid=999NAC0000053&dwvar_999NAC0000053_color=7845027768',\n",
       " 'image': ['http://en.narscosmetics.co.kr/on/demandware.static/-/Sites-itemmaster_NARS/default/dwc1558bc9/hi-res/0607845027768.jpg',\n",
       "  'http://en.narscosmetics.co.kr/on/demandware.static/-/Sites-itemmaster_NARS/default/dw2f7f6e46/swatch/0607845027768.jpg'],\n",
       " 'salePrice': '₩ 37,000',\n",
       " 'originalPrice': '₩ 37,000',\n",
       " 'color': '페인트 잇 블랙',\n",
       " 'category': '',\n",
       " 'brand': '나스',\n",
       " 'volume': '#'}"
      ]
     },
     "metadata": {},
     "output_type": "display_data"
    },
    {
     "data": {
      "text/plain": [
       "<selenium.webdriver.remote.webelement.WebElement (session=\"ba51fcd1a1bc41dec611cca0306e5511\", element=\"0.5714693711191361-3\")>"
      ]
     },
     "metadata": {},
     "output_type": "display_data"
    },
    {
     "data": {
      "text/plain": [
       "{'name': '파워매트 립 피그먼트 - 락 위드 유',\n",
       " 'url': 'http://www.narscosmetics.co.kr/on/demandware.store/Sites-KR-Site/en_KR/Product-Variation?pid=999NAC0000053&dwvar_999NAC0000053_color=7845027744',\n",
       " 'image': ['http://en.narscosmetics.co.kr/on/demandware.static/-/Sites-itemmaster_NARS/default/dw1b1e5007/hi-res/0607845027744.jpg',\n",
       "  'http://en.narscosmetics.co.kr/on/demandware.static/-/Sites-itemmaster_NARS/default/dw92eae6cb/swatch/0607845027744.jpg'],\n",
       " 'salePrice': '₩ 37,000',\n",
       " 'originalPrice': '₩ 37,000',\n",
       " 'color': '락 위드 유',\n",
       " 'category': '',\n",
       " 'brand': '나스',\n",
       " 'volume': '#'}"
      ]
     },
     "metadata": {},
     "output_type": "display_data"
    },
    {
     "data": {
      "text/plain": [
       "<selenium.webdriver.remote.webelement.WebElement (session=\"ba51fcd1a1bc41dec611cca0306e5511\", element=\"0.5483683647316497-3\")>"
      ]
     },
     "metadata": {},
     "output_type": "display_data"
    },
    {
     "data": {
      "text/plain": [
       "{'name': '파워매트 립 피그먼트 - 세이브 더 퀸',\n",
       " 'url': 'http://www.narscosmetics.co.kr/on/demandware.store/Sites-KR-Site/en_KR/Product-Variation?pid=999NAC0000053&dwvar_999NAC0000053_color=7845027669',\n",
       " 'image': ['http://en.narscosmetics.co.kr/on/demandware.static/-/Sites-itemmaster_NARS/default/dwf64df86a/hi-res/0607845027669.jpg',\n",
       "  'http://en.narscosmetics.co.kr/on/demandware.static/-/Sites-itemmaster_NARS/default/dw41dac3a2/swatch/0607845027669.jpg'],\n",
       " 'salePrice': '₩ 37,000',\n",
       " 'originalPrice': '₩ 37,000',\n",
       " 'color': '세이브 더 퀸',\n",
       " 'category': '',\n",
       " 'brand': '나스',\n",
       " 'volume': '#'}"
      ]
     },
     "metadata": {},
     "output_type": "display_data"
    },
    {
     "data": {
      "text/plain": [
       "<selenium.webdriver.remote.webelement.WebElement (session=\"ba51fcd1a1bc41dec611cca0306e5511\", element=\"0.6348071974859621-3\")>"
      ]
     },
     "metadata": {},
     "output_type": "display_data"
    },
    {
     "data": {
      "text/plain": [
       "{'name': '파워매트 립 피그먼트 - 슬로우 라이드',\n",
       " 'url': 'http://www.narscosmetics.co.kr/on/demandware.store/Sites-KR-Site/en_KR/Product-Variation?pid=999NAC0000053&dwvar_999NAC0000053_color=7845027607',\n",
       " 'image': ['http://en.narscosmetics.co.kr/on/demandware.static/-/Sites-itemmaster_NARS/default/dw80df3d6e/hi-res/0607845027607.jpg',\n",
       "  'http://en.narscosmetics.co.kr/on/demandware.static/-/Sites-itemmaster_NARS/default/dw6e83b68e/swatch/0607845027607.jpg'],\n",
       " 'salePrice': '₩ 37,000',\n",
       " 'originalPrice': '₩ 37,000',\n",
       " 'color': '슬로우 라이드',\n",
       " 'category': '',\n",
       " 'brand': '나스',\n",
       " 'volume': '#'}"
      ]
     },
     "metadata": {},
     "output_type": "display_data"
    },
    {
     "data": {
      "text/plain": [
       "<selenium.webdriver.remote.webelement.WebElement (session=\"ba51fcd1a1bc41dec611cca0306e5511\", element=\"0.5383895691771727-3\")>"
      ]
     },
     "metadata": {},
     "output_type": "display_data"
    },
    {
     "data": {
      "text/plain": [
       "{'name': '파워매트 립 피그먼트 - 썸바디 투 러브',\n",
       " 'url': 'http://www.narscosmetics.co.kr/on/demandware.store/Sites-KR-Site/en_KR/Product-Variation?pid=999NAC0000053&dwvar_999NAC0000053_color=7845027805',\n",
       " 'image': ['http://en.narscosmetics.co.kr/on/demandware.static/-/Sites-itemmaster_NARS/default/dwae4d19bb/hi-res/0607845027805.jpg',\n",
       "  'http://en.narscosmetics.co.kr/on/demandware.static/-/Sites-itemmaster_NARS/default/dwabc25cf8/swatch/0607845027805.jpg'],\n",
       " 'salePrice': '₩ 37,000',\n",
       " 'originalPrice': '₩ 37,000',\n",
       " 'color': '썸바디 투 러브',\n",
       " 'category': '',\n",
       " 'brand': '나스',\n",
       " 'volume': '#'}"
      ]
     },
     "metadata": {},
     "output_type": "display_data"
    },
    {
     "data": {
      "text/plain": [
       "<selenium.webdriver.remote.webelement.WebElement (session=\"ba51fcd1a1bc41dec611cca0306e5511\", element=\"0.664569332718161-3\")>"
      ]
     },
     "metadata": {},
     "output_type": "display_data"
    },
    {
     "data": {
      "text/plain": [
       "{'name': '파워매트 립 피그먼트 - 스핀 미',\n",
       " 'url': 'http://www.narscosmetics.co.kr/on/demandware.store/Sites-KR-Site/en_KR/Product-Variation?pid=999NAC0000053&dwvar_999NAC0000053_color=7845027874',\n",
       " 'image': ['http://en.narscosmetics.co.kr/on/demandware.static/-/Sites-itemmaster_NARS/default/dw30876d83/hi-res/0607845027874.jpg',\n",
       "  'http://en.narscosmetics.co.kr/on/demandware.static/-/Sites-itemmaster_NARS/default/dw83a1a5e8/swatch/0607845027874.jpg'],\n",
       " 'salePrice': '₩ 37,000',\n",
       " 'originalPrice': '₩ 37,000',\n",
       " 'color': '스핀 미',\n",
       " 'category': '',\n",
       " 'brand': '나스',\n",
       " 'volume': '#'}"
      ]
     },
     "metadata": {},
     "output_type": "display_data"
    },
    {
     "data": {
      "text/plain": [
       "<selenium.webdriver.remote.webelement.WebElement (session=\"ba51fcd1a1bc41dec611cca0306e5511\", element=\"0.671718801827609-3\")>"
      ]
     },
     "metadata": {},
     "output_type": "display_data"
    },
    {
     "data": {
      "text/plain": [
       "{'name': '파워매트 립 피그먼트 - 스타우먼',\n",
       " 'url': 'http://www.narscosmetics.co.kr/on/demandware.store/Sites-KR-Site/en_KR/Product-Variation?pid=999NAC0000053&dwvar_999NAC0000053_color=7845027737',\n",
       " 'image': ['http://en.narscosmetics.co.kr/on/demandware.static/-/Sites-itemmaster_NARS/default/dw981d361b/hi-res/0607845027737.jpg',\n",
       "  'http://en.narscosmetics.co.kr/on/demandware.static/-/Sites-itemmaster_NARS/default/dw04cfde5f/swatch/0607845027737.jpg'],\n",
       " 'salePrice': '₩ 37,000',\n",
       " 'originalPrice': '₩ 37,000',\n",
       " 'color': '스타우먼',\n",
       " 'category': '',\n",
       " 'brand': '나스',\n",
       " 'volume': '#'}"
      ]
     },
     "metadata": {},
     "output_type": "display_data"
    },
    {
     "data": {
      "text/plain": [
       "<selenium.webdriver.remote.webelement.WebElement (session=\"ba51fcd1a1bc41dec611cca0306e5511\", element=\"0.23195961008311272-3\")>"
      ]
     },
     "metadata": {},
     "output_type": "display_data"
    },
    {
     "data": {
      "text/plain": [
       "{'name': '파워매트 립 피그먼트 - 언더 마이 떰',\n",
       " 'url': 'http://www.narscosmetics.co.kr/on/demandware.store/Sites-KR-Site/en_KR/Product-Variation?pid=999NAC0000053&dwvar_999NAC0000053_color=7845027638',\n",
       " 'image': ['http://en.narscosmetics.co.kr/on/demandware.static/-/Sites-itemmaster_NARS/default/dw020f2631/hi-res/0607845027638.jpg',\n",
       "  'http://en.narscosmetics.co.kr/on/demandware.static/-/Sites-itemmaster_NARS/default/dwebfbf75c/swatch/0607845027638.jpg'],\n",
       " 'salePrice': '₩ 37,000',\n",
       " 'originalPrice': '₩ 37,000',\n",
       " 'color': '언더 마이 떰',\n",
       " 'category': '',\n",
       " 'brand': '나스',\n",
       " 'volume': '#'}"
      ]
     },
     "metadata": {},
     "output_type": "display_data"
    },
    {
     "data": {
      "text/plain": [
       "<selenium.webdriver.remote.webelement.WebElement (session=\"ba51fcd1a1bc41dec611cca0306e5511\", element=\"0.06268869824147227-3\")>"
      ]
     },
     "metadata": {},
     "output_type": "display_data"
    },
    {
     "data": {
      "text/plain": [
       "{'name': '파워매트 립 피그먼트 - 베인',\n",
       " 'url': 'http://www.narscosmetics.co.kr/on/demandware.store/Sites-KR-Site/en_KR/Product-Variation?pid=999NAC0000053&dwvar_999NAC0000053_color=7845027867',\n",
       " 'image': ['http://en.narscosmetics.co.kr/on/demandware.static/-/Sites-itemmaster_NARS/default/dw30204c8b/hi-res/0607845027867.jpg',\n",
       "  'http://en.narscosmetics.co.kr/on/demandware.static/-/Sites-itemmaster_NARS/default/dw09864df8/swatch/0607845027867.jpg'],\n",
       " 'salePrice': '₩ 37,000',\n",
       " 'originalPrice': '₩ 37,000',\n",
       " 'color': '베인',\n",
       " 'category': '',\n",
       " 'brand': '나스',\n",
       " 'volume': '#'}"
      ]
     },
     "metadata": {},
     "output_type": "display_data"
    },
    {
     "data": {
      "text/plain": [
       "<selenium.webdriver.remote.webelement.WebElement (session=\"ba51fcd1a1bc41dec611cca0306e5511\", element=\"0.659038268029708-3\")>"
      ]
     },
     "metadata": {},
     "output_type": "display_data"
    },
    {
     "data": {
      "text/plain": [
       "{'name': '파워매트 립 피그먼트 - 워크 디스 웨이',\n",
       " 'url': 'http://www.narscosmetics.co.kr/on/demandware.store/Sites-KR-Site/en_KR/Product-Variation?pid=999NAC0000053&dwvar_999NAC0000053_color=7845027621',\n",
       " 'image': ['http://en.narscosmetics.co.kr/on/demandware.static/-/Sites-itemmaster_NARS/default/dw89d8c4b2/hi-res/0607845027621.jpg',\n",
       "  'http://en.narscosmetics.co.kr/on/demandware.static/-/Sites-itemmaster_NARS/default/dw4782827f/swatch/0607845027621.jpg'],\n",
       " 'salePrice': '₩ 37,000',\n",
       " 'originalPrice': '₩ 37,000',\n",
       " 'color': '워크 디스 웨이',\n",
       " 'category': '',\n",
       " 'brand': '나스',\n",
       " 'volume': '#'}"
      ]
     },
     "metadata": {},
     "output_type": "display_data"
    },
    {
     "data": {
      "text/plain": [
       "<selenium.webdriver.remote.webelement.WebElement (session=\"ba51fcd1a1bc41dec611cca0306e5511\", element=\"0.8775996734861231-3\")>"
      ]
     },
     "metadata": {},
     "output_type": "display_data"
    },
    {
     "data": {
      "text/plain": [
       "{'name': '파워매트 립 피그먼트 - 웜 레더렛',\n",
       " 'url': 'http://www.narscosmetics.co.kr/on/demandware.store/Sites-KR-Site/en_KR/Product-Variation?pid=999NAC0000053&dwvar_999NAC0000053_color=7845027652',\n",
       " 'image': ['http://en.narscosmetics.co.kr/on/demandware.static/-/Sites-itemmaster_NARS/default/dwe854caaa/hi-res/0607845027652.jpg',\n",
       "  'http://en.narscosmetics.co.kr/on/demandware.static/-/Sites-itemmaster_NARS/default/dw8e41665b/swatch/0607845027652.jpg'],\n",
       " 'salePrice': '₩ 37,000',\n",
       " 'originalPrice': '₩ 37,000',\n",
       " 'color': '웜 레더렛',\n",
       " 'category': '',\n",
       " 'brand': '나스',\n",
       " 'volume': '#'}"
      ]
     },
     "metadata": {},
     "output_type": "display_data"
    },
    {
     "data": {
      "text/plain": [
       "<selenium.webdriver.remote.webelement.WebElement (session=\"ba51fcd1a1bc41dec611cca0306e5511\", element=\"0.9800410042878265-3\")>"
      ]
     },
     "metadata": {},
     "output_type": "display_data"
    },
    {
     "data": {
      "text/plain": [
       "{'name': '파워매트 립 피그먼트 - 와일드 나이트',\n",
       " 'url': 'http://www.narscosmetics.co.kr/on/demandware.store/Sites-KR-Site/en_KR/Product-Variation?pid=999NAC0000053&dwvar_999NAC0000053_color=7845027775',\n",
       " 'image': ['http://en.narscosmetics.co.kr/on/demandware.static/-/Sites-itemmaster_NARS/default/dw4f7d0c46/hi-res/0607845027775.jpg',\n",
       "  'http://en.narscosmetics.co.kr/on/demandware.static/-/Sites-itemmaster_NARS/default/dw7c26c272/swatch/0607845027775.jpg'],\n",
       " 'salePrice': '₩ 37,000',\n",
       " 'originalPrice': '₩ 37,000',\n",
       " 'color': '와일드 나이트',\n",
       " 'category': '',\n",
       " 'brand': '나스',\n",
       " 'volume': '#'}"
      ]
     },
     "metadata": {},
     "output_type": "display_data"
    },
    {
     "data": {
      "text/plain": [
       "<selenium.webdriver.remote.webelement.WebElement (session=\"ba51fcd1a1bc41dec611cca0306e5511\", element=\"0.8842243452267433-3\")>"
      ]
     },
     "metadata": {},
     "output_type": "display_data"
    },
    {
     "data": {
      "text/plain": [
       "{'name': '파워매트 립 피그먼트 - 유아 노 굿',\n",
       " 'url': 'http://www.narscosmetics.co.kr/on/demandware.store/Sites-KR-Site/en_KR/Product-Variation?pid=999NAC0000053&dwvar_999NAC0000053_color=7845027850',\n",
       " 'image': ['http://en.narscosmetics.co.kr/on/demandware.static/-/Sites-itemmaster_NARS/default/dw600d7e08/hi-res/0607845027850.jpg',\n",
       "  'http://en.narscosmetics.co.kr/on/demandware.static/-/Sites-itemmaster_NARS/default/dw29f40087/swatch/0607845027850.jpg'],\n",
       " 'salePrice': '₩ 37,000',\n",
       " 'originalPrice': '₩ 37,000',\n",
       " 'color': '유아 노 굿',\n",
       " 'category': '',\n",
       " 'brand': '나스',\n",
       " 'volume': '#'}"
      ]
     },
     "metadata": {},
     "output_type": "display_data"
    },
    {
     "data": {
      "text/plain": [
       "<selenium.webdriver.remote.webelement.WebElement (session=\"ba51fcd1a1bc41dec611cca0306e5511\", element=\"0.5627664003607096-3\")>"
      ]
     },
     "metadata": {},
     "output_type": "display_data"
    },
    {
     "data": {
      "text/plain": [
       "{'name': '파워매트 립 피그먼트',\n",
       " 'url': 'http://www.narscosmetics.co.kr/on/demandware.store/Sites-KR-Site/en_KR/Product-Variation?pid=999NAC0000053&dwvar_999NAC0000053_color=',\n",
       " 'image': ['http://en.narscosmetics.co.kr/on/demandware.static/-/Sites-itemmaster_NARS/default/dwae4d19bb/hi-res/0607845027805.jpg',\n",
       "  'http://en.narscosmetics.co.kr/on/demandware.static/-/Sites-itemmaster_NARS/default/dwabc25cf8/swatch/0607845027805.jpg'],\n",
       " 'salePrice': '₩ 37,000',\n",
       " 'originalPrice': '₩ 37,000',\n",
       " 'color': '아메리칸 우먼',\n",
       " 'category': '',\n",
       " 'brand': '나스',\n",
       " 'volume': '#'}"
      ]
     },
     "metadata": {},
     "output_type": "display_data"
    },
    {
     "data": {
      "text/plain": [
       "<selenium.webdriver.remote.webelement.WebElement (session=\"ba51fcd1a1bc41dec611cca0306e5511\", element=\"0.4406214838205529-3\")>"
      ]
     },
     "metadata": {},
     "output_type": "display_data"
    },
    {
     "data": {
      "text/plain": [
       "{'name': '파워매트 립 피그먼트 - 익스플리시트 레드',\n",
       " 'url': 'http://www.narscosmetics.co.kr/on/demandware.store/Sites-KR-Site/en_KR/Product-Variation?pid=999NAC0000053&dwvar_999NAC0000053_color=Explicit%20Red',\n",
       " 'image': ['http://en.narscosmetics.co.kr/on/demandware.static/-/Sites-itemmaster_NARS/default/dwb9faebe2/hi-res/607845027379.jpg',\n",
       "  'http://en.narscosmetics.co.kr/on/demandware.static/-/Sites-itemmaster_NARS/default/dwc69bda15/hi-res/607845027379_v2.jpg'],\n",
       " 'salePrice': '₩ 37,000',\n",
       " 'originalPrice': '₩ 37,000',\n",
       " 'color': '익스플리시트 레드',\n",
       " 'category': '',\n",
       " 'brand': '나스',\n",
       " 'volume': '#'}"
      ]
     },
     "metadata": {},
     "output_type": "display_data"
    },
    {
     "data": {
      "text/plain": [
       "<selenium.webdriver.remote.webelement.WebElement (session=\"ba51fcd1a1bc41dec611cca0306e5511\", element=\"0.25408629751095657-3\")>"
      ]
     },
     "metadata": {},
     "output_type": "display_data"
    },
    {
     "data": {
      "text/plain": [
       "{'name': '새틴 립 펜슬 - 방사',\n",
       " 'url': 'http://www.narscosmetics.co.kr/on/demandware.store/Sites-KR-Site/en_KR/Product-Variation?pid=999NACSLP0001&dwvar_999NACSLP0001_color=7845092216',\n",
       " 'image': ['http://en.narscosmetics.co.kr/on/demandware.static/-/Sites-itemmaster_NARS/default/dwd15d09c3/hi-res/0607845092216.jpg',\n",
       "  'http://en.narscosmetics.co.kr/on/demandware.static/-/Sites-itemmaster_NARS/default/dwc0b9a30b/swatch/0607845092216.jpg'],\n",
       " 'salePrice': '₩ 37,000',\n",
       " 'originalPrice': '₩ 37,000',\n",
       " 'color': '방사',\n",
       " 'category': '',\n",
       " 'brand': '나스',\n",
       " 'volume': '#'}"
      ]
     },
     "metadata": {},
     "output_type": "display_data"
    },
    {
     "data": {
      "text/plain": [
       "<selenium.webdriver.remote.webelement.WebElement (session=\"ba51fcd1a1bc41dec611cca0306e5511\", element=\"0.9078194082046938-3\")>"
      ]
     },
     "metadata": {},
     "output_type": "display_data"
    },
    {
     "data": {
      "text/plain": [
       "{'name': '새틴 립 펜슬 - 비스케인 파크',\n",
       " 'url': 'http://www.narscosmetics.co.kr/on/demandware.store/Sites-KR-Site/en_KR/Product-Variation?pid=999NACSLP0001&dwvar_999NACSLP0001_color=7845092049',\n",
       " 'image': ['http://en.narscosmetics.co.kr/on/demandware.static/-/Sites-itemmaster_NARS/default/dw9c76ae13/hi-res/0607845092049.jpg',\n",
       "  'http://en.narscosmetics.co.kr/on/demandware.static/-/Sites-itemmaster_NARS/default/dwb7b25156/swatch/0607845092049.jpg'],\n",
       " 'salePrice': '₩ 37,000',\n",
       " 'originalPrice': '₩ 37,000',\n",
       " 'color': '비스케인 파크',\n",
       " 'category': '',\n",
       " 'brand': '나스',\n",
       " 'volume': '#'}"
      ]
     },
     "metadata": {},
     "output_type": "display_data"
    },
    {
     "data": {
      "text/plain": [
       "<selenium.webdriver.remote.webelement.WebElement (session=\"ba51fcd1a1bc41dec611cca0306e5511\", element=\"0.43865659458784-3\")>"
      ]
     },
     "metadata": {},
     "output_type": "display_data"
    },
    {
     "data": {
      "text/plain": [
       "{'name': '새틴 립 펜슬 - 데스칸소',\n",
       " 'url': 'http://www.narscosmetics.co.kr/on/demandware.store/Sites-KR-Site/en_KR/Product-Variation?pid=999NACSLP0001&dwvar_999NACSLP0001_color=7845092162',\n",
       " 'image': ['http://en.narscosmetics.co.kr/on/demandware.static/-/Sites-itemmaster_NARS/default/dwf6ae0bcf/hi-res/0607845092162.jpg',\n",
       "  'http://en.narscosmetics.co.kr/on/demandware.static/-/Sites-itemmaster_NARS/default/dwbe449d25/swatch/0607845092162.jpg'],\n",
       " 'salePrice': '₩ 37,000',\n",
       " 'originalPrice': '₩ 37,000',\n",
       " 'color': '데스칸소',\n",
       " 'category': '',\n",
       " 'brand': '나스',\n",
       " 'volume': '#'}"
      ]
     },
     "metadata": {},
     "output_type": "display_data"
    },
    {
     "data": {
      "text/plain": [
       "<selenium.webdriver.remote.webelement.WebElement (session=\"ba51fcd1a1bc41dec611cca0306e5511\", element=\"0.624076893482429-3\")>"
      ]
     },
     "metadata": {},
     "output_type": "display_data"
    },
    {
     "data": {
      "text/plain": [
       "{'name': '새틴 립 펜슬 - 플로랄리',\n",
       " 'url': 'http://www.narscosmetics.co.kr/on/demandware.store/Sites-KR-Site/en_KR/Product-Variation?pid=999NACSLP0001&dwvar_999NACSLP0001_color=7845092018',\n",
       " 'image': ['http://en.narscosmetics.co.kr/on/demandware.static/-/Sites-itemmaster_NARS/default/dw99d087e3/hi-res/0607845092018.jpg',\n",
       "  'http://en.narscosmetics.co.kr/on/demandware.static/-/Sites-itemmaster_NARS/default/dwe914c584/swatch/0607845092018.jpg'],\n",
       " 'salePrice': '₩ 37,000',\n",
       " 'originalPrice': '₩ 37,000',\n",
       " 'color': '플로랄리',\n",
       " 'category': '',\n",
       " 'brand': '나스',\n",
       " 'volume': '#'}"
      ]
     },
     "metadata": {},
     "output_type": "display_data"
    },
    {
     "data": {
      "text/plain": [
       "<selenium.webdriver.remote.webelement.WebElement (session=\"ba51fcd1a1bc41dec611cca0306e5511\", element=\"0.49918368080687037-3\")>"
      ]
     },
     "metadata": {},
     "output_type": "display_data"
    },
    {
     "data": {
      "text/plain": [
       "{'name': '새틴 립 펜슬 - 골산',\n",
       " 'url': 'http://www.narscosmetics.co.kr/on/demandware.store/Sites-KR-Site/en_KR/Product-Variation?pid=999NACSLP0001&dwvar_999NACSLP0001_color=7845092063',\n",
       " 'image': ['http://en.narscosmetics.co.kr/on/demandware.static/-/Sites-itemmaster_NARS/default/dwc97e60a6/hi-res/0607845092063.jpg',\n",
       "  'http://en.narscosmetics.co.kr/on/demandware.static/-/Sites-itemmaster_NARS/default/dw477e9614/swatch/0607845092063.jpg'],\n",
       " 'salePrice': '₩ 37,000',\n",
       " 'originalPrice': '₩ 37,000',\n",
       " 'color': '골산',\n",
       " 'category': '',\n",
       " 'brand': '나스',\n",
       " 'volume': '#'}"
      ]
     },
     "metadata": {},
     "output_type": "display_data"
    },
    {
     "data": {
      "text/plain": [
       "<selenium.webdriver.remote.webelement.WebElement (session=\"ba51fcd1a1bc41dec611cca0306e5511\", element=\"0.2421977891798741-3\")>"
      ]
     },
     "metadata": {},
     "output_type": "display_data"
    },
    {
     "data": {
      "text/plain": [
       "{'name': '새틴 립 펜슬 - 헤트 루',\n",
       " 'url': 'http://www.narscosmetics.co.kr/on/demandware.store/Sites-KR-Site/en_KR/Product-Variation?pid=999NACSLP0001&dwvar_999NACSLP0001_color=7845092001',\n",
       " 'image': ['http://en.narscosmetics.co.kr/on/demandware.static/-/Sites-itemmaster_NARS/default/dwbf031d4a/hi-res/0607845092001.jpg',\n",
       "  'http://en.narscosmetics.co.kr/on/demandware.static/-/Sites-itemmaster_NARS/default/dw9135ecc9/swatch/0607845092001.jpg'],\n",
       " 'salePrice': '₩ 37,000',\n",
       " 'originalPrice': '₩ 37,000',\n",
       " 'color': '헤트 루',\n",
       " 'category': '',\n",
       " 'brand': '나스',\n",
       " 'volume': '#'}"
      ]
     },
     "metadata": {},
     "output_type": "display_data"
    },
    {
     "data": {
      "text/plain": [
       "<selenium.webdriver.remote.webelement.WebElement (session=\"ba51fcd1a1bc41dec611cca0306e5511\", element=\"0.9729414984527958-3\")>"
      ]
     },
     "metadata": {},
     "output_type": "display_data"
    },
    {
     "data": {
      "text/plain": [
       "{'name': '새틴 립 펜슬 - 하이드 파크',\n",
       " 'url': 'http://www.narscosmetics.co.kr/on/demandware.store/Sites-KR-Site/en_KR/Product-Variation?pid=999NACSLP0001&dwvar_999NACSLP0001_color=7845092094',\n",
       " 'image': ['http://en.narscosmetics.co.kr/on/demandware.static/-/Sites-itemmaster_NARS/default/dwf96cca4a/hi-res/0607845092094.jpg',\n",
       "  'http://en.narscosmetics.co.kr/on/demandware.static/-/Sites-itemmaster_NARS/default/dwa0a350f1/swatch/0607845092094.jpg'],\n",
       " 'salePrice': '₩ 37,000',\n",
       " 'originalPrice': '₩ 37,000',\n",
       " 'color': '하이드 파크',\n",
       " 'category': '',\n",
       " 'brand': '나스',\n",
       " 'volume': '#'}"
      ]
     },
     "metadata": {},
     "output_type": "display_data"
    },
    {
     "data": {
      "text/plain": [
       "<selenium.webdriver.remote.webelement.WebElement (session=\"ba51fcd1a1bc41dec611cca0306e5511\", element=\"0.6836906043141227-3\")>"
      ]
     },
     "metadata": {},
     "output_type": "display_data"
    },
    {
     "data": {
      "text/plain": [
       "{'name': '새틴 립 펜슬 - 이졸라 벨라',\n",
       " 'url': 'http://www.narscosmetics.co.kr/on/demandware.store/Sites-KR-Site/en_KR/Product-Variation?pid=999NACSLP0001&dwvar_999NACSLP0001_color=7845092025',\n",
       " 'image': ['http://en.narscosmetics.co.kr/on/demandware.static/-/Sites-itemmaster_NARS/default/dw315ceb01/hi-res/0607845092025.jpg',\n",
       "  'http://en.narscosmetics.co.kr/on/demandware.static/-/Sites-itemmaster_NARS/default/dw0b3b94fe/swatch/0607845092025.jpg'],\n",
       " 'salePrice': '₩ 37,000',\n",
       " 'originalPrice': '₩ 37,000',\n",
       " 'color': '이졸라 벨라',\n",
       " 'category': '',\n",
       " 'brand': '나스',\n",
       " 'volume': '#'}"
      ]
     },
     "metadata": {},
     "output_type": "display_data"
    },
    {
     "data": {
      "text/plain": [
       "<selenium.webdriver.remote.webelement.WebElement (session=\"ba51fcd1a1bc41dec611cca0306e5511\", element=\"0.012786974529175987-3\")>"
      ]
     },
     "metadata": {},
     "output_type": "display_data"
    },
    {
     "data": {
      "text/plain": [
       "{'name': '새틴 립 펜슬 - 로디',\n",
       " 'url': 'http://www.narscosmetics.co.kr/on/demandware.store/Sites-KR-Site/en_KR/Product-Variation?pid=999NACSLP0001&dwvar_999NACSLP0001_color=7845092032',\n",
       " 'image': ['http://en.narscosmetics.co.kr/on/demandware.static/-/Sites-itemmaster_NARS/default/dwb244f010/hi-res/0607845092032.jpg',\n",
       "  'http://en.narscosmetics.co.kr/on/demandware.static/-/Sites-itemmaster_NARS/default/dwa5e18c84/swatch/0607845092032.jpg'],\n",
       " 'salePrice': '₩ 37,000',\n",
       " 'originalPrice': '₩ 37,000',\n",
       " 'color': '로디',\n",
       " 'category': '',\n",
       " 'brand': '나스',\n",
       " 'volume': '#'}"
      ]
     },
     "metadata": {},
     "output_type": "display_data"
    },
    {
     "data": {
      "text/plain": [
       "<selenium.webdriver.remote.webelement.WebElement (session=\"ba51fcd1a1bc41dec611cca0306e5511\", element=\"0.43362564769977774-3\")>"
      ]
     },
     "metadata": {},
     "output_type": "display_data"
    },
    {
     "data": {
      "text/plain": [
       "{'name': '새틴 립 펜슬 - 뤽상부르',\n",
       " 'url': 'http://www.narscosmetics.co.kr/on/demandware.store/Sites-KR-Site/en_KR/Product-Variation?pid=999NACSLP0001&dwvar_999NACSLP0001_color=7845092087',\n",
       " 'image': ['http://en.narscosmetics.co.kr/on/demandware.static/-/Sites-itemmaster_NARS/default/dw3462c6f8/hi-res/0607845092087.jpg',\n",
       "  'http://en.narscosmetics.co.kr/on/demandware.static/-/Sites-itemmaster_NARS/default/dw9b3f3292/swatch/0607845092087.jpg'],\n",
       " 'salePrice': '₩ 37,000',\n",
       " 'originalPrice': '₩ 37,000',\n",
       " 'color': '뤽상부르',\n",
       " 'category': '',\n",
       " 'brand': '나스',\n",
       " 'volume': '#'}"
      ]
     },
     "metadata": {},
     "output_type": "display_data"
    },
    {
     "data": {
      "text/plain": [
       "<selenium.webdriver.remote.webelement.WebElement (session=\"ba51fcd1a1bc41dec611cca0306e5511\", element=\"0.9354209643829938-3\")>"
      ]
     },
     "metadata": {},
     "output_type": "display_data"
    },
    {
     "data": {
      "text/plain": [
       "{'name': '새틴 립 펜슬 - 마엘라',\n",
       " 'url': 'http://www.narscosmetics.co.kr/on/demandware.store/Sites-KR-Site/en_KR/Product-Variation?pid=999NACSLP0001&dwvar_999NACSLP0001_color=7845092070',\n",
       " 'image': ['http://en.narscosmetics.co.kr/on/demandware.static/-/Sites-itemmaster_NARS/default/dwa5ec2b02/hi-res/0607845092070.jpg',\n",
       "  'http://en.narscosmetics.co.kr/on/demandware.static/-/Sites-itemmaster_NARS/default/dw1737a379/swatch/0607845092070.jpg'],\n",
       " 'salePrice': '₩ 37,000',\n",
       " 'originalPrice': '₩ 37,000',\n",
       " 'color': '마엘라',\n",
       " 'category': '',\n",
       " 'brand': '나스',\n",
       " 'volume': '#'}"
      ]
     },
     "metadata": {},
     "output_type": "display_data"
    },
    {
     "data": {
      "text/plain": [
       "<selenium.webdriver.remote.webelement.WebElement (session=\"ba51fcd1a1bc41dec611cca0306e5511\", element=\"0.38365860423642606-3\")>"
      ]
     },
     "metadata": {},
     "output_type": "display_data"
    },
    {
     "data": {
      "text/plain": [
       "{'name': '새틴 립 펜슬 - 팔레 로얄',\n",
       " 'url': 'http://www.narscosmetics.co.kr/on/demandware.store/Sites-KR-Site/en_KR/Product-Variation?pid=999NACSLP0001&dwvar_999NACSLP0001_color=7845092100',\n",
       " 'image': ['http://en.narscosmetics.co.kr/on/demandware.static/-/Sites-itemmaster_NARS/default/dw85278f5a/hi-res/0607845092100.jpg',\n",
       "  'http://en.narscosmetics.co.kr/on/demandware.static/-/Sites-itemmaster_NARS/default/dw6c24bcb6/swatch/0607845092100.jpg'],\n",
       " 'salePrice': '₩ 37,000',\n",
       " 'originalPrice': '₩ 37,000',\n",
       " 'color': '팔레 로얄',\n",
       " 'category': '',\n",
       " 'brand': '나스',\n",
       " 'volume': '#'}"
      ]
     },
     "metadata": {},
     "output_type": "display_data"
    },
    {
     "data": {
      "text/plain": [
       "<selenium.webdriver.remote.webelement.WebElement (session=\"ba51fcd1a1bc41dec611cca0306e5511\", element=\"0.24524416781592917-3\")>"
      ]
     },
     "metadata": {},
     "output_type": "display_data"
    },
    {
     "data": {
      "text/plain": [
       "{'name': '새틴 립 펜슬',\n",
       " 'url': 'http://www.narscosmetics.co.kr/on/demandware.store/Sites-KR-Site/en_KR/Product-Variation?pid=999NACSLP0001&dwvar_999NACSLP0001_color=',\n",
       " 'image': ['http://en.narscosmetics.co.kr/on/demandware.static/-/Sites-itemmaster_NARS/default/dwdc4e18fb/hi-res/0607845092056.jpg',\n",
       "  'http://en.narscosmetics.co.kr/on/demandware.static/-/Sites-itemmaster_NARS/default/dwcc8f50b1/swatch/0607845092056.jpg'],\n",
       " 'salePrice': '₩ 37,000',\n",
       " 'originalPrice': '₩ 37,000',\n",
       " 'color': '방사',\n",
       " 'category': '',\n",
       " 'brand': '나스',\n",
       " 'volume': '#'}"
      ]
     },
     "metadata": {},
     "output_type": "display_data"
    },
    {
     "data": {
      "text/plain": [
       "<selenium.webdriver.remote.webelement.WebElement (session=\"ba51fcd1a1bc41dec611cca0306e5511\", element=\"0.5991112426829612-3\")>"
      ]
     },
     "metadata": {},
     "output_type": "display_data"
    },
    {
     "data": {
      "text/plain": [
       "{'name': '새틴 립 펜슬 - 스타우어헤드',\n",
       " 'url': 'http://www.narscosmetics.co.kr/on/demandware.store/Sites-KR-Site/en_KR/Product-Variation?pid=999NACSLP0001&dwvar_999NACSLP0001_color=7845092131',\n",
       " 'image': ['http://en.narscosmetics.co.kr/on/demandware.static/-/Sites-itemmaster_NARS/default/dwdc5d62dd/hi-res/0607845092131.jpg',\n",
       "  'http://en.narscosmetics.co.kr/on/demandware.static/-/Sites-itemmaster_NARS/default/dwf48d7403/swatch/0607845092131.jpg'],\n",
       " 'salePrice': '₩ 37,000',\n",
       " 'originalPrice': '₩ 37,000',\n",
       " 'color': '스타우어헤드',\n",
       " 'category': '',\n",
       " 'brand': '나스',\n",
       " 'volume': '#'}"
      ]
     },
     "metadata": {},
     "output_type": "display_data"
    },
    {
     "data": {
      "text/plain": [
       "<selenium.webdriver.remote.webelement.WebElement (session=\"ba51fcd1a1bc41dec611cca0306e5511\", element=\"0.7765331902830532-3\")>"
      ]
     },
     "metadata": {},
     "output_type": "display_data"
    },
    {
     "data": {
      "text/plain": [
       "{'name': '새틴 립 펜슬 - 티만파야',\n",
       " 'url': 'http://www.narscosmetics.co.kr/on/demandware.store/Sites-KR-Site/en_KR/Product-Variation?pid=999NACSLP0001&dwvar_999NACSLP0001_color=7845092179',\n",
       " 'image': ['http://en.narscosmetics.co.kr/on/demandware.static/-/Sites-itemmaster_NARS/default/dw4b3cef73/hi-res/0607845092179.jpg',\n",
       "  'http://en.narscosmetics.co.kr/on/demandware.static/-/Sites-itemmaster_NARS/default/dweb2a4636/swatch/0607845092179.jpg'],\n",
       " 'salePrice': '₩ 37,000',\n",
       " 'originalPrice': '₩ 37,000',\n",
       " 'color': '티만파야',\n",
       " 'category': '',\n",
       " 'brand': '나스',\n",
       " 'volume': '#'}"
      ]
     },
     "metadata": {},
     "output_type": "display_data"
    },
    {
     "data": {
      "text/plain": [
       "<selenium.webdriver.remote.webelement.WebElement (session=\"ba51fcd1a1bc41dec611cca0306e5511\", element=\"0.03849057971534231-3\")>"
      ]
     },
     "metadata": {},
     "output_type": "display_data"
    },
    {
     "data": {
      "text/plain": [
       "{'name': '새틴 립 펜슬 - 토레스 델 파이네',\n",
       " 'url': 'http://www.narscosmetics.co.kr/on/demandware.store/Sites-KR-Site/en_KR/Product-Variation?pid=999NACSLP0001&dwvar_999NACSLP0001_color=7845092155',\n",
       " 'image': ['http://en.narscosmetics.co.kr/on/demandware.static/-/Sites-itemmaster_NARS/default/dw7297b7eb/hi-res/0607845092155.jpg',\n",
       "  'http://en.narscosmetics.co.kr/on/demandware.static/-/Sites-itemmaster_NARS/default/dw666e625c/swatch/0607845092155.jpg'],\n",
       " 'salePrice': '₩ 37,000',\n",
       " 'originalPrice': '₩ 37,000',\n",
       " 'color': '토레스 델 파이네',\n",
       " 'category': '',\n",
       " 'brand': '나스',\n",
       " 'volume': '#'}"
      ]
     },
     "metadata": {},
     "output_type": "display_data"
    },
    {
     "data": {
      "text/plain": [
       "<selenium.webdriver.remote.webelement.WebElement (session=\"ba51fcd1a1bc41dec611cca0306e5511\", element=\"0.940113969442909-3\")>"
      ]
     },
     "metadata": {},
     "output_type": "display_data"
    },
    {
     "data": {
      "text/plain": [
       "{'name': '새틴 립 펜슬 - 빌라 란테',\n",
       " 'url': 'http://www.narscosmetics.co.kr/on/demandware.store/Sites-KR-Site/en_KR/Product-Variation?pid=999NACSLP0001&dwvar_999NACSLP0001_color=7845092148',\n",
       " 'image': ['http://en.narscosmetics.co.kr/on/demandware.static/-/Sites-itemmaster_NARS/default/dw8e1f0936/hi-res/0607845092148.jpg',\n",
       "  'http://en.narscosmetics.co.kr/on/demandware.static/-/Sites-itemmaster_NARS/default/dw28fa4289/swatch/0607845092148.jpg'],\n",
       " 'salePrice': '₩ 37,000',\n",
       " 'originalPrice': '₩ 37,000',\n",
       " 'color': '빌라 란테',\n",
       " 'category': '',\n",
       " 'brand': '나스',\n",
       " 'volume': '#'}"
      ]
     },
     "metadata": {},
     "output_type": "display_data"
    },
    {
     "data": {
      "text/plain": [
       "<selenium.webdriver.remote.webelement.WebElement (session=\"ba51fcd1a1bc41dec611cca0306e5511\", element=\"0.9683005529025446-3\")>"
      ]
     },
     "metadata": {},
     "output_type": "display_data"
    },
    {
     "data": {
      "text/plain": [
       "{'name': '새틴 립 펜슬 - 위',\n",
       " 'url': 'http://www.narscosmetics.co.kr/on/demandware.store/Sites-KR-Site/en_KR/Product-Variation?pid=999NACSLP0001&dwvar_999NACSLP0001_color=7845092117',\n",
       " 'image': ['http://en.narscosmetics.co.kr/on/demandware.static/-/Sites-itemmaster_NARS/default/dw83047aa0/hi-res/0607845092117.jpg',\n",
       "  'http://en.narscosmetics.co.kr/on/demandware.static/-/Sites-itemmaster_NARS/default/dwc82414a1/swatch/0607845092117.jpg'],\n",
       " 'salePrice': '₩ 37,000',\n",
       " 'originalPrice': '₩ 37,000',\n",
       " 'color': '위',\n",
       " 'category': '',\n",
       " 'brand': '나스',\n",
       " 'volume': '#'}"
      ]
     },
     "metadata": {},
     "output_type": "display_data"
    },
    {
     "data": {
      "text/plain": [
       "<selenium.webdriver.remote.webelement.WebElement (session=\"ba51fcd1a1bc41dec611cca0306e5511\", element=\"0.31559024670972025-3\")>"
      ]
     },
     "metadata": {},
     "output_type": "display_data"
    },
    {
     "data": {
      "text/plain": [
       "{'name': '새틴 립스틱 - 아프간 레드',\n",
       " 'url': 'http://www.narscosmetics.co.kr/on/demandware.store/Sites-KR-Site/en_KR/Product-Variation?pid=999NACSTNLS01&dwvar_999NACSTNLS01_color=7845010609',\n",
       " 'image': ['http://en.narscosmetics.co.kr/on/demandware.static/-/Sites-itemmaster_NARS/default/dwcaf11af6/hi-res/0607845010609.jpg',\n",
       "  'http://en.narscosmetics.co.kr/on/demandware.static/-/Sites-itemmaster_NARS/default/dw26a145ec/swatch/0607845010609.jpg'],\n",
       " 'salePrice': '₩ 37,000',\n",
       " 'originalPrice': '₩ 37,000',\n",
       " 'color': '아프간 레드',\n",
       " 'category': '',\n",
       " 'brand': '나스',\n",
       " 'volume': '#'}"
      ]
     },
     "metadata": {},
     "output_type": "display_data"
    },
    {
     "data": {
      "text/plain": [
       "<selenium.webdriver.remote.webelement.WebElement (session=\"ba51fcd1a1bc41dec611cca0306e5511\", element=\"0.43289184805504544-3\")>"
      ]
     },
     "metadata": {},
     "output_type": "display_data"
    },
    {
     "data": {
      "text/plain": [
       "{'name': '새틴 립스틱 - 밴드레드',\n",
       " 'url': 'http://www.narscosmetics.co.kr/on/demandware.store/Sites-KR-Site/en_KR/Product-Variation?pid=999NACSTNLS01&dwvar_999NACSTNLS01_color=7845094012',\n",
       " 'image': ['http://en.narscosmetics.co.kr/on/demandware.static/-/Sites-itemmaster_NARS/default/dw5504cd86/hi-res/0607845094012.jpg',\n",
       "  'http://en.narscosmetics.co.kr/on/demandware.static/-/Sites-itemmaster_NARS/default/dwb40cb2a1/swatch/0607845094012.jpg'],\n",
       " 'salePrice': '₩ 37,000',\n",
       " 'originalPrice': '₩ 37,000',\n",
       " 'color': '밴드레드',\n",
       " 'category': '',\n",
       " 'brand': '나스',\n",
       " 'volume': '#'}"
      ]
     },
     "metadata": {},
     "output_type": "display_data"
    },
    {
     "data": {
      "text/plain": [
       "<selenium.webdriver.remote.webelement.WebElement (session=\"ba51fcd1a1bc41dec611cca0306e5511\", element=\"0.3973906177481066-3\")>"
      ]
     },
     "metadata": {},
     "output_type": "display_data"
    },
    {
     "data": {
      "text/plain": [
       "{'name': '새틴 립스틱 - 블론드 비너스',\n",
       " 'url': 'http://www.narscosmetics.co.kr/on/demandware.store/Sites-KR-Site/en_KR/Product-Variation?pid=999NACSTNLS01&dwvar_999NACSTNLS01_color=7845010029',\n",
       " 'image': ['http://en.narscosmetics.co.kr/on/demandware.static/-/Sites-itemmaster_NARS/default/dwae79ea50/hi-res/0607845010029.jpg',\n",
       "  'http://en.narscosmetics.co.kr/on/demandware.static/-/Sites-itemmaster_NARS/default/dwfe6841c2/swatch/0607845010029.jpg'],\n",
       " 'salePrice': '₩ 37,000',\n",
       " 'originalPrice': '₩ 37,000',\n",
       " 'color': '블론드 비너스',\n",
       " 'category': '',\n",
       " 'brand': '나스',\n",
       " 'volume': '#'}"
      ]
     },
     "metadata": {},
     "output_type": "display_data"
    },
    {
     "data": {
      "text/plain": [
       "<selenium.webdriver.remote.webelement.WebElement (session=\"ba51fcd1a1bc41dec611cca0306e5511\", element=\"0.20470540907252466-3\")>"
      ]
     },
     "metadata": {},
     "output_type": "display_data"
    },
    {
     "data": {
      "text/plain": [
       "{'name': '새틴 립스틱 - 카사블랑카',\n",
       " 'url': 'http://www.narscosmetics.co.kr/on/demandware.store/Sites-KR-Site/en_KR/Product-Variation?pid=999NACSTNLS01&dwvar_999NACSTNLS01_color=7845010043',\n",
       " 'image': ['http://en.narscosmetics.co.kr/on/demandware.static/-/Sites-itemmaster_NARS/default/dw6ddd016c/hi-res/0607845010043.jpg',\n",
       "  'http://en.narscosmetics.co.kr/on/demandware.static/-/Sites-itemmaster_NARS/default/dw11d42803/swatch/0607845010043.jpg'],\n",
       " 'salePrice': '₩ 37,000',\n",
       " 'originalPrice': '₩ 37,000',\n",
       " 'color': '카사블랑카',\n",
       " 'category': '',\n",
       " 'brand': '나스',\n",
       " 'volume': '#'}"
      ]
     },
     "metadata": {},
     "output_type": "display_data"
    },
    {
     "data": {
      "text/plain": [
       "<selenium.webdriver.remote.webelement.WebElement (session=\"ba51fcd1a1bc41dec611cca0306e5511\", element=\"0.2387769038306733-3\")>"
      ]
     },
     "metadata": {},
     "output_type": "display_data"
    },
    {
     "data": {
      "text/plain": [
       "{'name': '새틴 립스틱 - 드레스드 투 킬',\n",
       " 'url': 'http://www.narscosmetics.co.kr/on/demandware.store/Sites-KR-Site/en_KR/Product-Variation?pid=999NACSTNLS01&dwvar_999NACSTNLS01_color=7845093015',\n",
       " 'image': ['http://en.narscosmetics.co.kr/on/demandware.static/-/Sites-itemmaster_NARS/default/dw7d889c43/hi-res/0607845093015.jpg',\n",
       "  'http://en.narscosmetics.co.kr/on/demandware.static/-/Sites-itemmaster_NARS/default/dw2ce52e94/swatch/0607845093015.jpg'],\n",
       " 'salePrice': '₩ 37,000',\n",
       " 'originalPrice': '₩ 37,000',\n",
       " 'color': '드레스드 투 킬',\n",
       " 'category': '',\n",
       " 'brand': '나스',\n",
       " 'volume': '#'}"
      ]
     },
     "metadata": {},
     "output_type": "display_data"
    },
    {
     "data": {
      "text/plain": [
       "<selenium.webdriver.remote.webelement.WebElement (session=\"ba51fcd1a1bc41dec611cca0306e5511\", element=\"0.762049940964318-3\")>"
      ]
     },
     "metadata": {},
     "output_type": "display_data"
    },
    {
     "data": {
      "text/plain": [
       "{'name': '새틴 립스틱 - 호놀룰루 허니',\n",
       " 'url': 'http://www.narscosmetics.co.kr/on/demandware.store/Sites-KR-Site/en_KR/Product-Variation?pid=999NACSTNLS01&dwvar_999NACSTNLS01_color=7845010012',\n",
       " 'image': ['http://en.narscosmetics.co.kr/on/demandware.static/-/Sites-itemmaster_NARS/default/dw9b19fb94/hi-res/0607845010012.jpg',\n",
       "  'http://en.narscosmetics.co.kr/on/demandware.static/-/Sites-itemmaster_NARS/default/dw650fdb2a/swatch/0607845010012.jpg'],\n",
       " 'salePrice': '₩ 37,000',\n",
       " 'originalPrice': '₩ 37,000',\n",
       " 'color': '호놀룰루 허니',\n",
       " 'category': '',\n",
       " 'brand': '나스',\n",
       " 'volume': '#'}"
      ]
     },
     "metadata": {},
     "output_type": "display_data"
    },
    {
     "data": {
      "text/plain": [
       "<selenium.webdriver.remote.webelement.WebElement (session=\"ba51fcd1a1bc41dec611cca0306e5511\", element=\"0.12784515662383233-3\")>"
      ]
     },
     "metadata": {},
     "output_type": "display_data"
    },
    {
     "data": {
      "text/plain": [
       "{'name': '새틴 립스틱 - 키스 미 스투핏',\n",
       " 'url': 'http://www.narscosmetics.co.kr/on/demandware.store/Sites-KR-Site/en_KR/Product-Variation?pid=999NACSTNLS01&dwvar_999NACSTNLS01_color=7845094067',\n",
       " 'image': ['http://en.narscosmetics.co.kr/on/demandware.static/-/Sites-itemmaster_NARS/default/dw49ff758e/hi-res/0607845094067.jpg',\n",
       "  'http://en.narscosmetics.co.kr/on/demandware.static/-/Sites-itemmaster_NARS/default/dw50983628/swatch/0607845094067.jpg'],\n",
       " 'salePrice': '₩ 37,000',\n",
       " 'originalPrice': '₩ 37,000',\n",
       " 'color': '키스 미 스투핏',\n",
       " 'category': '',\n",
       " 'brand': '나스',\n",
       " 'volume': '#'}"
      ]
     },
     "metadata": {},
     "output_type": "display_data"
    },
    {
     "data": {
      "text/plain": [
       "<selenium.webdriver.remote.webelement.WebElement (session=\"ba51fcd1a1bc41dec611cca0306e5511\", element=\"0.912776916160499-3\")>"
      ]
     },
     "metadata": {},
     "output_type": "display_data"
    },
    {
     "data": {
      "text/plain": [
       "{'name': '새틴 립스틱 - 나이아가라',\n",
       " 'url': 'http://www.narscosmetics.co.kr/on/demandware.store/Sites-KR-Site/en_KR/Product-Variation?pid=999NACSTNLS01&dwvar_999NACSTNLS01_color=7845010203',\n",
       " 'image': ['http://en.narscosmetics.co.kr/on/demandware.static/-/Sites-itemmaster_NARS/default/dw9b27f76f/hi-res/0607845010203.jpg',\n",
       "  'http://en.narscosmetics.co.kr/on/demandware.static/-/Sites-itemmaster_NARS/default/dw357b1272/swatch/0607845010203.jpg'],\n",
       " 'salePrice': '₩ 37,000',\n",
       " 'originalPrice': '₩ 37,000',\n",
       " 'color': '나이아가라',\n",
       " 'category': '',\n",
       " 'brand': '나스',\n",
       " 'volume': '#'}"
      ]
     },
     "metadata": {},
     "output_type": "display_data"
    },
    {
     "data": {
      "text/plain": [
       "<selenium.webdriver.remote.webelement.WebElement (session=\"ba51fcd1a1bc41dec611cca0306e5511\", element=\"0.0969054244303067-4\")>"
      ]
     },
     "metadata": {},
     "output_type": "display_data"
    },
    {
     "data": {
      "text/plain": [
       "{'name': '새틴 립스틱',\n",
       " 'url': 'http://www.narscosmetics.co.kr/on/demandware.store/Sites-KR-Site/en_KR/Product-Variation?pid=999NACSTNLS01&dwvar_999NACSTNLS01_color=',\n",
       " 'image': ['http://en.narscosmetics.co.kr/on/demandware.static/-/Sites-itemmaster_NARS/default/dw75a825dd/hi-res/0607845094081.jpg',\n",
       "  'http://en.narscosmetics.co.kr/on/demandware.static/-/Sites-itemmaster_NARS/default/dw3c50f2da/alt1/0607845094081.jpg',\n",
       "  'http://en.narscosmetics.co.kr/on/demandware.static/Sites-KR-Site/-/en_KR/v1546225498151/images/noimageshadesmall.png'],\n",
       " 'salePrice': '₩ 37,000',\n",
       " 'originalPrice': '₩ 37,000',\n",
       " 'color': '아프간 레드',\n",
       " 'category': '',\n",
       " 'brand': '나스',\n",
       " 'volume': '#'}"
      ]
     },
     "metadata": {},
     "output_type": "display_data"
    },
    {
     "data": {
      "text/plain": [
       "<selenium.webdriver.remote.webelement.WebElement (session=\"ba51fcd1a1bc41dec611cca0306e5511\", element=\"0.047497141117138764-3\")>"
      ]
     },
     "metadata": {},
     "output_type": "display_data"
    },
    {
     "data": {
      "text/plain": [
       "{'name': '새틴 립스틱 - 로즈클리프',\n",
       " 'url': 'http://www.narscosmetics.co.kr/on/demandware.store/Sites-KR-Site/en_KR/Product-Variation?pid=999NACSTNLS01&dwvar_999NACSTNLS01_color=7845094005',\n",
       " 'image': ['http://en.narscosmetics.co.kr/on/demandware.static/-/Sites-itemmaster_NARS/default/dw235f09fd/hi-res/0607845094005.jpg',\n",
       "  'http://en.narscosmetics.co.kr/on/demandware.static/-/Sites-itemmaster_NARS/default/dwbeb9b88f/swatch/0607845094005.jpg'],\n",
       " 'salePrice': '₩ 37,000',\n",
       " 'originalPrice': '₩ 37,000',\n",
       " 'color': '로즈클리프',\n",
       " 'category': '',\n",
       " 'brand': '나스',\n",
       " 'volume': '#'}"
      ]
     },
     "metadata": {},
     "output_type": "display_data"
    },
    {
     "data": {
      "text/plain": [
       "<selenium.webdriver.remote.webelement.WebElement (session=\"ba51fcd1a1bc41dec611cca0306e5511\", element=\"0.0675172426344286-3\")>"
      ]
     },
     "metadata": {},
     "output_type": "display_data"
    },
    {
     "data": {
      "text/plain": [
       "{'name': '새틴 립스틱 - 섹슈얼 힐링',\n",
       " 'url': 'http://www.narscosmetics.co.kr/on/demandware.store/Sites-KR-Site/en_KR/Product-Variation?pid=999NACSTNLS01&dwvar_999NACSTNLS01_color=7845010739',\n",
       " 'image': ['http://en.narscosmetics.co.kr/on/demandware.static/-/Sites-itemmaster_NARS/default/dw76f91133/hi-res/0607845010739.jpg',\n",
       "  'http://en.narscosmetics.co.kr/on/demandware.static/-/Sites-itemmaster_NARS/default/dw5f66ea69/swatch/0607845010739.jpg'],\n",
       " 'salePrice': '₩ 37,000',\n",
       " 'originalPrice': '₩ 37,000',\n",
       " 'color': '섹슈얼 힐링',\n",
       " 'category': '',\n",
       " 'brand': '나스',\n",
       " 'volume': '#'}"
      ]
     },
     "metadata": {},
     "output_type": "display_data"
    },
    {
     "data": {
      "text/plain": [
       "<selenium.webdriver.remote.webelement.WebElement (session=\"ba51fcd1a1bc41dec611cca0306e5511\", element=\"0.2010504752681299-3\")>"
      ]
     },
     "metadata": {},
     "output_type": "display_data"
    },
    {
     "data": {
      "text/plain": [
       "{'name': '새틴 립스틱 - 톨레도',\n",
       " 'url': 'http://www.narscosmetics.co.kr/on/demandware.store/Sites-KR-Site/en_KR/Product-Variation?pid=999NACSTNLS01&dwvar_999NACSTNLS01_color=7845093022',\n",
       " 'image': ['http://en.narscosmetics.co.kr/on/demandware.static/-/Sites-itemmaster_NARS/default/dwddccd974/hi-res/0607845093022.jpg',\n",
       "  'http://en.narscosmetics.co.kr/on/demandware.static/-/Sites-itemmaster_NARS/default/dw26c3dd1d/swatch/0607845093022.jpg'],\n",
       " 'salePrice': '₩ 37,000',\n",
       " 'originalPrice': '₩ 37,000',\n",
       " 'color': '톨레도',\n",
       " 'category': '',\n",
       " 'brand': '나스',\n",
       " 'volume': '#'}"
      ]
     },
     "metadata": {},
     "output_type": "display_data"
    },
    {
     "data": {
      "text/plain": [
       "<selenium.webdriver.remote.webelement.WebElement (session=\"ba51fcd1a1bc41dec611cca0306e5511\", element=\"0.12392818991188448-3\")>"
      ]
     },
     "metadata": {},
     "output_type": "display_data"
    },
    {
     "data": {
      "text/plain": [
       "{'name': '립커버 - 앙브라스 므와',\n",
       " 'url': 'http://www.narscosmetics.co.kr/on/demandware.store/Sites-KR-Site/en_KR/Product-Variation?pid=999NAC0000036&dwvar_999NAC0000036_color=7845056904',\n",
       " 'image': ['http://en.narscosmetics.co.kr/on/demandware.static/-/Sites-itemmaster_NARS/default/dwb8921291/hi-res/0607845056904.jpg',\n",
       "  'http://en.narscosmetics.co.kr/on/demandware.static/-/Sites-itemmaster_NARS/default/dw57c389cf/swatch/0607845056904.jpg'],\n",
       " 'salePrice': '₩ 38,000',\n",
       " 'originalPrice': '₩ 38,000',\n",
       " 'color': '앙브라스 므와',\n",
       " 'category': '',\n",
       " 'brand': '나스',\n",
       " 'volume': '#'}"
      ]
     },
     "metadata": {},
     "output_type": "display_data"
    },
    {
     "data": {
      "text/plain": [
       "<selenium.webdriver.remote.webelement.WebElement (session=\"ba51fcd1a1bc41dec611cca0306e5511\", element=\"0.4158120155585121-3\")>"
      ]
     },
     "metadata": {},
     "output_type": "display_data"
    },
    {
     "data": {
      "text/plain": [
       "{'name': '립커버 - 헬 게이트',\n",
       " 'url': 'http://www.narscosmetics.co.kr/on/demandware.store/Sites-KR-Site/en_KR/Product-Variation?pid=999NAC0000036&dwvar_999NAC0000036_color=7845056935',\n",
       " 'image': ['http://en.narscosmetics.co.kr/on/demandware.static/-/Sites-itemmaster_NARS/default/dwcc7c1ff1/hi-res/0607845056935.jpg',\n",
       "  'http://en.narscosmetics.co.kr/on/demandware.static/-/Sites-itemmaster_NARS/default/dw74f4ef86/swatch/0607845056935.jpg'],\n",
       " 'salePrice': '₩ 38,000',\n",
       " 'originalPrice': '₩ 38,000',\n",
       " 'color': '헬 게이트',\n",
       " 'category': '',\n",
       " 'brand': '나스',\n",
       " 'volume': '#'}"
      ]
     },
     "metadata": {},
     "output_type": "display_data"
    },
    {
     "data": {
      "text/plain": [
       "<selenium.webdriver.remote.webelement.WebElement (session=\"ba51fcd1a1bc41dec611cca0306e5511\", element=\"0.2670658821845344-3\")>"
      ]
     },
     "metadata": {},
     "output_type": "display_data"
    },
    {
     "data": {
      "text/plain": [
       "{'name': '립커버',\n",
       " 'url': 'http://www.narscosmetics.co.kr/on/demandware.store/Sites-KR-Site/en_KR/Product-Variation?pid=999NAC0000036&dwvar_999NAC0000036_color=',\n",
       " 'image': ['http://en.narscosmetics.co.kr/on/demandware.static/-/Sites-itemmaster_NARS/default/dwb8921291/hi-res/0607845056904.jpg',\n",
       "  'http://en.narscosmetics.co.kr/on/demandware.static/-/Sites-itemmaster_NARS/default/dw57c389cf/swatch/0607845056904.jpg'],\n",
       " 'salePrice': '₩ 38,000',\n",
       " 'originalPrice': '₩ 38,000',\n",
       " 'color': '앙브라스 므와',\n",
       " 'category': '',\n",
       " 'brand': '나스',\n",
       " 'volume': '#'}"
      ]
     },
     "metadata": {},
     "output_type": "display_data"
    },
    {
     "data": {
      "text/plain": [
       "<selenium.webdriver.remote.webelement.WebElement (session=\"ba51fcd1a1bc41dec611cca0306e5511\", element=\"0.6724124625568275-3\")>"
      ]
     },
     "metadata": {},
     "output_type": "display_data"
    },
    {
     "data": {
      "text/plain": [
       "{'name': '립커버 - 언더 어레스트',\n",
       " 'url': 'http://www.narscosmetics.co.kr/on/demandware.store/Sites-KR-Site/en_KR/Product-Variation?pid=999NAC0000036&dwvar_999NAC0000036_color=7845056911',\n",
       " 'image': ['http://en.narscosmetics.co.kr/on/demandware.static/-/Sites-itemmaster_NARS/default/dwdda4fbe1/hi-res/0607845056911.jpg',\n",
       "  'http://en.narscosmetics.co.kr/on/demandware.static/-/Sites-itemmaster_NARS/default/dw6ab04f4d/swatch/0607845056911.jpg'],\n",
       " 'salePrice': '₩ 38,000',\n",
       " 'originalPrice': '₩ 38,000',\n",
       " 'color': '언더 어레스트',\n",
       " 'category': '',\n",
       " 'brand': '나스',\n",
       " 'volume': '#'}"
      ]
     },
     "metadata": {},
     "output_type": "display_data"
    },
    {
     "data": {
      "text/plain": [
       "<selenium.webdriver.remote.webelement.WebElement (session=\"ba51fcd1a1bc41dec611cca0306e5511\", element=\"0.4045817301513621-3\")>"
      ]
     },
     "metadata": {},
     "output_type": "display_data"
    },
    {
     "data": {
      "text/plain": [
       "{'name': '어데이셔스 립스틱 - 안젤라',\n",
       " 'url': 'http://www.narscosmetics.co.kr/on/demandware.store/Sites-KR-Site/en_KR/Product-Variation?pid=999NARS000011&dwvar_999NARS000011_color=7845094531',\n",
       " 'image': ['http://en.narscosmetics.co.kr/on/demandware.static/-/Sites-itemmaster_NARS/default/dw2b95cdca/hi-res/0607845094531.jpg',\n",
       "  'http://en.narscosmetics.co.kr/on/demandware.static/-/Sites-itemmaster_NARS/default/dwfbc64b3f/swatch/0607845094531.jpg'],\n",
       " 'salePrice': '₩ 41,000',\n",
       " 'originalPrice': '₩ 41,000',\n",
       " 'color': '안젤라',\n",
       " 'category': '',\n",
       " 'brand': '나스',\n",
       " 'volume': '#'}"
      ]
     },
     "metadata": {},
     "output_type": "display_data"
    },
    {
     "data": {
      "text/plain": [
       "<selenium.webdriver.remote.webelement.WebElement (session=\"ba51fcd1a1bc41dec611cca0306e5511\", element=\"0.7436585855125095-3\")>"
      ]
     },
     "metadata": {},
     "output_type": "display_data"
    },
    {
     "data": {
      "text/plain": [
       "{'name': '어데이셔스 립스틱',\n",
       " 'url': 'http://www.narscosmetics.co.kr/on/demandware.store/Sites-KR-Site/en_KR/Product-Variation?pid=999NARS000011&dwvar_999NARS000011_color=',\n",
       " 'image': ['http://en.narscosmetics.co.kr/on/demandware.static/-/Sites-itemmaster_NARS/default/dwdfbb53fb/hi-res/0607845094609.jpg',\n",
       "  'http://en.narscosmetics.co.kr/on/demandware.static/-/Sites-itemmaster_NARS/default/dw3b964994/swatch/0607845094609.jpg'],\n",
       " 'salePrice': '₩ 41,000',\n",
       " 'originalPrice': '₩ 41,000',\n",
       " 'color': '안젤라',\n",
       " 'category': '',\n",
       " 'brand': '나스',\n",
       " 'volume': '#'}"
      ]
     },
     "metadata": {},
     "output_type": "display_data"
    },
    {
     "data": {
      "text/plain": [
       "<selenium.webdriver.remote.webelement.WebElement (session=\"ba51fcd1a1bc41dec611cca0306e5511\", element=\"0.7572381925033753-3\")>"
      ]
     },
     "metadata": {},
     "output_type": "display_data"
    },
    {
     "data": {
      "text/plain": [
       "{'name': '어데이셔스 립스틱 - 안나',\n",
       " 'url': 'http://www.narscosmetics.co.kr/on/demandware.store/Sites-KR-Site/en_KR/Product-Variation?pid=999NARS000011&dwvar_999NARS000011_color=7845094593',\n",
       " 'image': ['http://en.narscosmetics.co.kr/on/demandware.static/-/Sites-itemmaster_NARS/default/dwab4dcceb/hi-res/0607845094593.jpg',\n",
       "  'http://en.narscosmetics.co.kr/on/demandware.static/-/Sites-itemmaster_NARS/default/dwff24b682/swatch/0607845094593.jpg'],\n",
       " 'salePrice': '₩ 41,000',\n",
       " 'originalPrice': '₩ 41,000',\n",
       " 'color': '안나',\n",
       " 'category': '',\n",
       " 'brand': '나스',\n",
       " 'volume': '#'}"
      ]
     },
     "metadata": {},
     "output_type": "display_data"
    },
    {
     "data": {
      "text/plain": [
       "<selenium.webdriver.remote.webelement.WebElement (session=\"ba51fcd1a1bc41dec611cca0306e5511\", element=\"0.20270217259730483-3\")>"
      ]
     },
     "metadata": {},
     "output_type": "display_data"
    },
    {
     "data": {
      "text/plain": [
       "{'name': '어데이셔스 립스틱 - 아나벨라',\n",
       " 'url': 'http://www.narscosmetics.co.kr/on/demandware.store/Sites-KR-Site/en_KR/Product-Variation?pid=999NARS000011&dwvar_999NARS000011_color=7845094715',\n",
       " 'image': ['http://en.narscosmetics.co.kr/on/demandware.static/-/Sites-itemmaster_NARS/default/dwb33cc7f5/hi-res/0607845094715.jpg',\n",
       "  'http://en.narscosmetics.co.kr/on/demandware.static/-/Sites-itemmaster_NARS/default/dw5fee05d6/swatch/0607845094715.jpg'],\n",
       " 'salePrice': '₩ 41,000',\n",
       " 'originalPrice': '₩ 41,000',\n",
       " 'color': '아나벨라',\n",
       " 'category': '',\n",
       " 'brand': '나스',\n",
       " 'volume': '#'}"
      ]
     },
     "metadata": {},
     "output_type": "display_data"
    },
    {
     "data": {
      "text/plain": [
       "<selenium.webdriver.remote.webelement.WebElement (session=\"ba51fcd1a1bc41dec611cca0306e5511\", element=\"0.8953023406550598-3\")>"
      ]
     },
     "metadata": {},
     "output_type": "display_data"
    },
    {
     "data": {
      "text/plain": [
       "{'name': '어데이셔스 립스틱 - 아폴린',\n",
       " 'url': 'http://www.narscosmetics.co.kr/on/demandware.store/Sites-KR-Site/en_KR/Product-Variation?pid=999NARS000011&dwvar_999NARS000011_color=7845094937',\n",
       " 'image': ['http://en.narscosmetics.co.kr/on/demandware.static/-/Sites-itemmaster_NARS/default/dwb362cb45/hi-res/0607845094937.jpg',\n",
       "  'http://en.narscosmetics.co.kr/on/demandware.static/-/Sites-itemmaster_NARS/default/dw8f0d13f3/swatch/0607845094937.jpg'],\n",
       " 'salePrice': '₩ 41,000',\n",
       " 'originalPrice': '₩ 41,000',\n",
       " 'color': '아폴린',\n",
       " 'category': '',\n",
       " 'brand': '나스',\n",
       " 'volume': '#'}"
      ]
     },
     "metadata": {},
     "output_type": "display_data"
    },
    {
     "data": {
      "text/plain": [
       "<selenium.webdriver.remote.webelement.WebElement (session=\"ba51fcd1a1bc41dec611cca0306e5511\", element=\"0.384171557737244-3\")>"
      ]
     },
     "metadata": {},
     "output_type": "display_data"
    },
    {
     "data": {
      "text/plain": [
       "{'name': '어데이셔스 립스틱 - 오드리',\n",
       " 'url': 'http://www.narscosmetics.co.kr/on/demandware.store/Sites-KR-Site/en_KR/Product-Variation?pid=999NARS000011&dwvar_999NARS000011_color=7845094586',\n",
       " 'image': ['http://en.narscosmetics.co.kr/on/demandware.static/-/Sites-itemmaster_NARS/default/dw14a5e334/hi-res/0607845094586.jpg',\n",
       "  'http://en.narscosmetics.co.kr/on/demandware.static/-/Sites-itemmaster_NARS/default/dwfcb68af7/swatch/0607845094586.jpg'],\n",
       " 'salePrice': '₩ 41,000',\n",
       " 'originalPrice': '₩ 41,000',\n",
       " 'color': '오드리',\n",
       " 'category': '',\n",
       " 'brand': '나스',\n",
       " 'volume': '#'}"
      ]
     },
     "metadata": {},
     "output_type": "display_data"
    },
    {
     "data": {
      "text/plain": [
       "<selenium.webdriver.remote.webelement.WebElement (session=\"ba51fcd1a1bc41dec611cca0306e5511\", element=\"0.31827845684739153-4\")>"
      ]
     },
     "metadata": {},
     "output_type": "display_data"
    },
    {
     "data": {
      "text/plain": [
       "{'name': '어데이셔스 립스틱 - 아야',\n",
       " 'url': 'http://www.narscosmetics.co.kr/on/demandware.store/Sites-KR-Site/en_KR/Product-Variation?pid=999NARS000011&dwvar_999NARS000011_color=7845028321',\n",
       " 'image': ['http://en.narscosmetics.co.kr/on/demandware.static/-/Sites-itemmaster_NARS/default/dw9689e0d9/hi-res/0607845028321.jpg',\n",
       "  'http://en.narscosmetics.co.kr/on/demandware.static/-/Sites-itemmaster_NARS/default/dw0d96e251/alt1/0607845028321.jpg',\n",
       "  'http://en.narscosmetics.co.kr/on/demandware.static/Sites-KR-Site/-/en_KR/v1546225498151/images/noimageshadesmall.png'],\n",
       " 'salePrice': '₩ 41,000',\n",
       " 'originalPrice': '₩ 41,000',\n",
       " 'color': '아야',\n",
       " 'category': '',\n",
       " 'brand': '나스',\n",
       " 'volume': '#'}"
      ]
     },
     "metadata": {},
     "output_type": "display_data"
    },
    {
     "data": {
      "text/plain": [
       "<selenium.webdriver.remote.webelement.WebElement (session=\"ba51fcd1a1bc41dec611cca0306e5511\", element=\"0.5753600504237828-3\")>"
      ]
     },
     "metadata": {},
     "output_type": "display_data"
    },
    {
     "data": {
      "text/plain": [
       "{'name': '어데이셔스 립스틱 - 바바라',\n",
       " 'url': 'http://www.narscosmetics.co.kr/on/demandware.store/Sites-KR-Site/en_KR/Product-Variation?pid=999NARS000011&dwvar_999NARS000011_color=7845094630',\n",
       " 'image': ['http://en.narscosmetics.co.kr/on/demandware.static/-/Sites-itemmaster_NARS/default/dw613c4e4d/hi-res/0607845094630.jpg',\n",
       "  'http://en.narscosmetics.co.kr/on/demandware.static/-/Sites-itemmaster_NARS/default/dwfc172537/swatch/0607845094630.jpg'],\n",
       " 'salePrice': '₩ 41,000',\n",
       " 'originalPrice': '₩ 41,000',\n",
       " 'color': '바바라',\n",
       " 'category': '',\n",
       " 'brand': '나스',\n",
       " 'volume': '#'}"
      ]
     },
     "metadata": {},
     "output_type": "display_data"
    },
    {
     "data": {
      "text/plain": [
       "<selenium.webdriver.remote.webelement.WebElement (session=\"ba51fcd1a1bc41dec611cca0306e5511\", element=\"0.4796084000771865-3\")>"
      ]
     },
     "metadata": {},
     "output_type": "display_data"
    },
    {
     "data": {
      "text/plain": [
       "{'name': '어데이셔스 립스틱 - 베티',\n",
       " 'url': 'http://www.narscosmetics.co.kr/on/demandware.store/Sites-KR-Site/en_KR/Product-Variation?pid=999NARS000011&dwvar_999NARS000011_color=7845094784',\n",
       " 'image': ['http://en.narscosmetics.co.kr/on/demandware.static/-/Sites-itemmaster_NARS/default/dw5d31b14b/hi-res/0607845094784.jpg',\n",
       "  'http://en.narscosmetics.co.kr/on/demandware.static/-/Sites-itemmaster_NARS/default/dwa271b339/swatch/0607845094784.jpg'],\n",
       " 'salePrice': '₩ 41,000',\n",
       " 'originalPrice': '₩ 41,000',\n",
       " 'color': '베티',\n",
       " 'category': '',\n",
       " 'brand': '나스',\n",
       " 'volume': '#'}"
      ]
     },
     "metadata": {},
     "output_type": "display_data"
    },
    {
     "data": {
      "text/plain": [
       "<selenium.webdriver.remote.webelement.WebElement (session=\"ba51fcd1a1bc41dec611cca0306e5511\", element=\"0.7162287108624321-3\")>"
      ]
     },
     "metadata": {},
     "output_type": "display_data"
    },
    {
     "data": {
      "text/plain": [
       "{'name': '어데이셔스 립스틱 - 브리지트',\n",
       " 'url': 'http://www.narscosmetics.co.kr/on/demandware.store/Sites-KR-Site/en_KR/Product-Variation?pid=999NARS000011&dwvar_999NARS000011_color=7845094623',\n",
       " 'image': ['http://en.narscosmetics.co.kr/on/demandware.static/-/Sites-itemmaster_NARS/default/dw2a28be9b/hi-res/0607845094623.jpg',\n",
       "  'http://en.narscosmetics.co.kr/on/demandware.static/-/Sites-itemmaster_NARS/default/dwd0dcf811/swatch/0607845094623.jpg'],\n",
       " 'salePrice': '₩ 41,000',\n",
       " 'originalPrice': '₩ 41,000',\n",
       " 'color': '브리지트',\n",
       " 'category': '',\n",
       " 'brand': '나스',\n",
       " 'volume': '#'}"
      ]
     },
     "metadata": {},
     "output_type": "display_data"
    },
    {
     "data": {
      "text/plain": [
       "<selenium.webdriver.remote.webelement.WebElement (session=\"ba51fcd1a1bc41dec611cca0306e5511\", element=\"0.2520924597359022-3\")>"
      ]
     },
     "metadata": {},
     "output_type": "display_data"
    },
    {
     "data": {
      "text/plain": [
       "{'name': '어데이셔스 립스틱 - 카르멘',\n",
       " 'url': 'http://www.narscosmetics.co.kr/on/demandware.store/Sites-KR-Site/en_KR/Product-Variation?pid=999NARS000011&dwvar_999NARS000011_color=7845094876',\n",
       " 'image': ['http://en.narscosmetics.co.kr/on/demandware.static/-/Sites-itemmaster_NARS/default/dwc0ae0279/hi-res/0607845094876.jpg',\n",
       "  'http://en.narscosmetics.co.kr/on/demandware.static/-/Sites-itemmaster_NARS/default/dwca4fd422/swatch/0607845094876.jpg'],\n",
       " 'salePrice': '₩ 41,000',\n",
       " 'originalPrice': '₩ 41,000',\n",
       " 'color': '카르멘',\n",
       " 'category': '',\n",
       " 'brand': '나스',\n",
       " 'volume': '#'}"
      ]
     },
     "metadata": {},
     "output_type": "display_data"
    },
    {
     "data": {
      "text/plain": [
       "<selenium.webdriver.remote.webelement.WebElement (session=\"ba51fcd1a1bc41dec611cca0306e5511\", element=\"0.8761674164714519-3\")>"
      ]
     },
     "metadata": {},
     "output_type": "display_data"
    },
    {
     "data": {
      "text/plain": [
       "{'name': '어데이셔스 립스틱 - 캐서린',\n",
       " 'url': 'http://www.narscosmetics.co.kr/on/demandware.store/Sites-KR-Site/en_KR/Product-Variation?pid=999NARS000011&dwvar_999NARS000011_color=7845094654',\n",
       " 'image': ['http://en.narscosmetics.co.kr/on/demandware.static/-/Sites-itemmaster_NARS/default/dw575d271b/hi-res/0607845094654.jpg',\n",
       "  'http://en.narscosmetics.co.kr/on/demandware.static/-/Sites-itemmaster_NARS/default/dw1f4899d6/swatch/0607845094654.jpg'],\n",
       " 'salePrice': '₩ 41,000',\n",
       " 'originalPrice': '₩ 41,000',\n",
       " 'color': '캐서린',\n",
       " 'category': '',\n",
       " 'brand': '나스',\n",
       " 'volume': '#'}"
      ]
     },
     "metadata": {},
     "output_type": "display_data"
    },
    {
     "data": {
      "text/plain": [
       "<selenium.webdriver.remote.webelement.WebElement (session=\"ba51fcd1a1bc41dec611cca0306e5511\", element=\"0.9352561833917599-3\")>"
      ]
     },
     "metadata": {},
     "output_type": "display_data"
    },
    {
     "data": {
      "text/plain": [
       "{'name': '어데이셔스 립스틱 - 샬롯',\n",
       " 'url': 'http://www.narscosmetics.co.kr/on/demandware.store/Sites-KR-Site/en_KR/Product-Variation?pid=999NARS000011&dwvar_999NARS000011_color=7845094579',\n",
       " 'image': ['http://en.narscosmetics.co.kr/on/demandware.static/-/Sites-itemmaster_NARS/default/dw1ed62add/hi-res/0607845094579.jpg',\n",
       "  'http://en.narscosmetics.co.kr/on/demandware.static/-/Sites-itemmaster_NARS/default/dwa89ee9e2/swatch/0607845094579.jpg'],\n",
       " 'salePrice': '₩ 41,000',\n",
       " 'originalPrice': '₩ 41,000',\n",
       " 'color': '샬롯',\n",
       " 'category': '',\n",
       " 'brand': '나스',\n",
       " 'volume': '#'}"
      ]
     },
     "metadata": {},
     "output_type": "display_data"
    },
    {
     "data": {
      "text/plain": [
       "<selenium.webdriver.remote.webelement.WebElement (session=\"ba51fcd1a1bc41dec611cca0306e5511\", element=\"0.4245891040282861-3\")>"
      ]
     },
     "metadata": {},
     "output_type": "display_data"
    },
    {
     "data": {
      "text/plain": [
       "{'name': '어데이셔스 립스틱 - 클라우디아',\n",
       " 'url': 'http://www.narscosmetics.co.kr/on/demandware.store/Sites-KR-Site/en_KR/Product-Variation?pid=999NARS000011&dwvar_999NARS000011_color=7845094500',\n",
       " 'image': ['http://en.narscosmetics.co.kr/on/demandware.static/-/Sites-itemmaster_NARS/default/dwa913aae0/hi-res/0607845094500.jpg',\n",
       "  'http://en.narscosmetics.co.kr/on/demandware.static/-/Sites-itemmaster_NARS/default/dwb223f4b5/swatch/0607845094500.jpg'],\n",
       " 'salePrice': '₩ 41,000',\n",
       " 'originalPrice': '₩ 41,000',\n",
       " 'color': '클라우디아',\n",
       " 'category': '',\n",
       " 'brand': '나스',\n",
       " 'volume': '#'}"
      ]
     },
     "metadata": {},
     "output_type": "display_data"
    },
    {
     "data": {
      "text/plain": [
       "<selenium.webdriver.remote.webelement.WebElement (session=\"ba51fcd1a1bc41dec611cca0306e5511\", element=\"0.3743740525473662-3\")>"
      ]
     },
     "metadata": {},
     "output_type": "display_data"
    },
    {
     "data": {
      "text/plain": [
       "{'name': '어데이셔스 립스틱 - 다리아',\n",
       " 'url': 'http://www.narscosmetics.co.kr/on/demandware.store/Sites-KR-Site/en_KR/Product-Variation?pid=999NARS000011&dwvar_999NARS000011_color=7845028543',\n",
       " 'image': ['http://en.narscosmetics.co.kr/on/demandware.static/-/Sites-itemmaster_NARS/default/dw8cb7fac4/hi-res/0607845028543.jpg',\n",
       "  'http://en.narscosmetics.co.kr/on/demandware.static/-/Sites-itemmaster_NARS/default/dw1cc83af3/swatch/0607845028543.jpg'],\n",
       " 'salePrice': '₩ 41,000',\n",
       " 'originalPrice': '₩ 41,000',\n",
       " 'color': '다리아',\n",
       " 'category': '',\n",
       " 'brand': '나스',\n",
       " 'volume': '#'}"
      ]
     },
     "metadata": {},
     "output_type": "display_data"
    },
    {
     "data": {
      "text/plain": [
       "<selenium.webdriver.remote.webelement.WebElement (session=\"ba51fcd1a1bc41dec611cca0306e5511\", element=\"0.41102717319840587-4\")>"
      ]
     },
     "metadata": {},
     "output_type": "display_data"
    },
    {
     "data": {
      "text/plain": [
       "{'name': '어데이셔스 립스틱 - 데일',\n",
       " 'url': 'http://www.narscosmetics.co.kr/on/demandware.store/Sites-KR-Site/en_KR/Product-Variation?pid=999NARS000011&dwvar_999NARS000011_color=7845028277',\n",
       " 'image': ['http://en.narscosmetics.co.kr/on/demandware.static/-/Sites-itemmaster_NARS/default/dwb5224c33/hi-res/0607845028277.jpg',\n",
       "  'http://en.narscosmetics.co.kr/on/demandware.static/-/Sites-itemmaster_NARS/default/dw0d96e251/alt1/0607845028277.jpg',\n",
       "  'http://en.narscosmetics.co.kr/on/demandware.static/Sites-KR-Site/-/en_KR/v1546225498151/images/noimageshadesmall.png'],\n",
       " 'salePrice': '₩ 41,000',\n",
       " 'originalPrice': '₩ 41,000',\n",
       " 'color': '데일',\n",
       " 'category': '',\n",
       " 'brand': '나스',\n",
       " 'volume': '#'}"
      ]
     },
     "metadata": {},
     "output_type": "display_data"
    },
    {
     "data": {
      "text/plain": [
       "<selenium.webdriver.remote.webelement.WebElement (session=\"ba51fcd1a1bc41dec611cca0306e5511\", element=\"0.7127343709884431-3\")>"
      ]
     },
     "metadata": {},
     "output_type": "display_data"
    },
    {
     "data": {
      "text/plain": [
       "{'name': '어데이셔스 립스틱 - 데보라',\n",
       " 'url': 'http://www.narscosmetics.co.kr/on/demandware.store/Sites-KR-Site/en_KR/Product-Variation?pid=999NARS000011&dwvar_999NARS000011_color=7845094777',\n",
       " 'image': ['http://en.narscosmetics.co.kr/on/demandware.static/-/Sites-itemmaster_NARS/default/dwc01a01f4/hi-res/0607845094777.jpg',\n",
       "  'http://en.narscosmetics.co.kr/on/demandware.static/-/Sites-itemmaster_NARS/default/dwead0ce64/swatch/0607845094777.jpg'],\n",
       " 'salePrice': '₩ 41,000',\n",
       " 'originalPrice': '₩ 41,000',\n",
       " 'color': '데보라',\n",
       " 'category': '',\n",
       " 'brand': '나스',\n",
       " 'volume': '#'}"
      ]
     },
     "metadata": {},
     "output_type": "display_data"
    },
    {
     "data": {
      "text/plain": [
       "<selenium.webdriver.remote.webelement.WebElement (session=\"ba51fcd1a1bc41dec611cca0306e5511\", element=\"0.4287842165311304-3\")>"
      ]
     },
     "metadata": {},
     "output_type": "display_data"
    },
    {
     "data": {
      "text/plain": [
       "{'name': '어데이셔스 립스틱 - 도미니크',\n",
       " 'url': 'http://www.narscosmetics.co.kr/on/demandware.store/Sites-KR-Site/en_KR/Product-Variation?pid=999NARS000011&dwvar_999NARS000011_color=7845094883',\n",
       " 'image': ['http://en.narscosmetics.co.kr/on/demandware.static/-/Sites-itemmaster_NARS/default/dwb6f8a47c/hi-res/0607845094883.jpg',\n",
       "  'http://en.narscosmetics.co.kr/on/demandware.static/-/Sites-itemmaster_NARS/default/dw568f2958/swatch/0607845094883.jpg'],\n",
       " 'salePrice': '₩ 41,000',\n",
       " 'originalPrice': '₩ 41,000',\n",
       " 'color': '도미니크',\n",
       " 'category': '',\n",
       " 'brand': '나스',\n",
       " 'volume': '#'}"
      ]
     },
     "metadata": {},
     "output_type": "display_data"
    },
    {
     "data": {
      "text/plain": [
       "<selenium.webdriver.remote.webelement.WebElement (session=\"ba51fcd1a1bc41dec611cca0306e5511\", element=\"0.419955606906232-3\")>"
      ]
     },
     "metadata": {},
     "output_type": "display_data"
    },
    {
     "data": {
      "text/plain": [
       "{'name': '어데이셔스 립스틱 - 화니',\n",
       " 'url': 'http://www.narscosmetics.co.kr/on/demandware.store/Sites-KR-Site/en_KR/Product-Variation?pid=999NARS000011&dwvar_999NARS000011_color=7845094555',\n",
       " 'image': ['http://en.narscosmetics.co.kr/on/demandware.static/-/Sites-itemmaster_NARS/default/dwc62a559e/hi-res/0607845094555.jpg',\n",
       "  'http://en.narscosmetics.co.kr/on/demandware.static/-/Sites-itemmaster_NARS/default/dwb432398d/swatch/0607845094555.jpg'],\n",
       " 'salePrice': '₩ 41,000',\n",
       " 'originalPrice': '₩ 41,000',\n",
       " 'color': '화니',\n",
       " 'category': '',\n",
       " 'brand': '나스',\n",
       " 'volume': '#'}"
      ]
     },
     "metadata": {},
     "output_type": "display_data"
    },
    {
     "data": {
      "text/plain": [
       "<selenium.webdriver.remote.webelement.WebElement (session=\"ba51fcd1a1bc41dec611cca0306e5511\", element=\"0.4818370900836835-3\")>"
      ]
     },
     "metadata": {},
     "output_type": "display_data"
    },
    {
     "data": {
      "text/plain": [
       "{'name': '어데이셔스 립스틱 - 제랄딘',\n",
       " 'url': 'http://www.narscosmetics.co.kr/on/demandware.store/Sites-KR-Site/en_KR/Product-Variation?pid=999NARS000011&dwvar_999NARS000011_color=7845094692',\n",
       " 'image': ['http://en.narscosmetics.co.kr/on/demandware.static/-/Sites-itemmaster_NARS/default/dwbafbef5d/hi-res/0607845094692.jpg',\n",
       "  'http://en.narscosmetics.co.kr/on/demandware.static/-/Sites-itemmaster_NARS/default/dw2ec36bb6/swatch/0607845094692.jpg'],\n",
       " 'salePrice': '₩ 41,000',\n",
       " 'originalPrice': '₩ 41,000',\n",
       " 'color': '제랄딘',\n",
       " 'category': '',\n",
       " 'brand': '나스',\n",
       " 'volume': '#'}"
      ]
     },
     "metadata": {},
     "output_type": "display_data"
    },
    {
     "data": {
      "text/plain": [
       "<selenium.webdriver.remote.webelement.WebElement (session=\"ba51fcd1a1bc41dec611cca0306e5511\", element=\"0.811954244996683-3\")>"
      ]
     },
     "metadata": {},
     "output_type": "display_data"
    },
    {
     "data": {
      "text/plain": [
       "{'name': '어데이셔스 립스틱 - 그레이스',\n",
       " 'url': 'http://www.narscosmetics.co.kr/on/demandware.store/Sites-KR-Site/en_KR/Product-Variation?pid=999NARS000011&dwvar_999NARS000011_color=7845094685',\n",
       " 'image': ['http://en.narscosmetics.co.kr/on/demandware.static/-/Sites-itemmaster_NARS/default/dwa5b58de3/hi-res/0607845094685.jpg',\n",
       "  'http://en.narscosmetics.co.kr/on/demandware.static/-/Sites-itemmaster_NARS/default/dw50708c1b/swatch/0607845094685.jpg'],\n",
       " 'salePrice': '₩ 41,000',\n",
       " 'originalPrice': '₩ 41,000',\n",
       " 'color': '그레이스',\n",
       " 'category': '',\n",
       " 'brand': '나스',\n",
       " 'volume': '#'}"
      ]
     },
     "metadata": {},
     "output_type": "display_data"
    },
    {
     "data": {
      "text/plain": [
       "<selenium.webdriver.remote.webelement.WebElement (session=\"ba51fcd1a1bc41dec611cca0306e5511\", element=\"0.34008574978505157-3\")>"
      ]
     },
     "metadata": {},
     "output_type": "display_data"
    },
    {
     "data": {
      "text/plain": [
       "{'name': '어데이셔스 립스틱 - 그레타',\n",
       " 'url': 'http://www.narscosmetics.co.kr/on/demandware.store/Sites-KR-Site/en_KR/Product-Variation?pid=999NARS000011&dwvar_999NARS000011_color=7845094524',\n",
       " 'image': ['http://en.narscosmetics.co.kr/on/demandware.static/-/Sites-itemmaster_NARS/default/dw6396cb02/hi-res/0607845094524.jpg',\n",
       "  'http://en.narscosmetics.co.kr/on/demandware.static/-/Sites-itemmaster_NARS/default/dw749cf133/swatch/0607845094524.jpg'],\n",
       " 'salePrice': '₩ 41,000',\n",
       " 'originalPrice': '₩ 41,000',\n",
       " 'color': '그레타',\n",
       " 'category': '',\n",
       " 'brand': '나스',\n",
       " 'volume': '#'}"
      ]
     },
     "metadata": {},
     "output_type": "display_data"
    },
    {
     "data": {
      "text/plain": [
       "<selenium.webdriver.remote.webelement.WebElement (session=\"ba51fcd1a1bc41dec611cca0306e5511\", element=\"0.21379471147825369-3\")>"
      ]
     },
     "metadata": {},
     "output_type": "display_data"
    },
    {
     "data": {
      "text/plain": [
       "{'name': '어데이셔스 립스틱 - 인그리드',\n",
       " 'url': 'http://www.narscosmetics.co.kr/on/demandware.store/Sites-KR-Site/en_KR/Product-Variation?pid=999NARS000011&dwvar_999NARS000011_color=7845094920',\n",
       " 'image': ['http://en.narscosmetics.co.kr/on/demandware.static/-/Sites-itemmaster_NARS/default/dw37856b85/hi-res/0607845094920.jpg',\n",
       "  'http://en.narscosmetics.co.kr/on/demandware.static/-/Sites-itemmaster_NARS/default/dwde3c8d4d/swatch/0607845094920.jpg'],\n",
       " 'salePrice': '₩ 41,000',\n",
       " 'originalPrice': '₩ 41,000',\n",
       " 'color': '인그리드',\n",
       " 'category': '',\n",
       " 'brand': '나스',\n",
       " 'volume': '#'}"
      ]
     },
     "metadata": {},
     "output_type": "display_data"
    },
    {
     "data": {
      "text/plain": [
       "<selenium.webdriver.remote.webelement.WebElement (session=\"ba51fcd1a1bc41dec611cca0306e5511\", element=\"0.8667767006883385-3\")>"
      ]
     },
     "metadata": {},
     "output_type": "display_data"
    },
    {
     "data": {
      "text/plain": [
       "{'name': '어데이셔스 립스틱 - 제인',\n",
       " 'url': 'http://www.narscosmetics.co.kr/on/demandware.store/Sites-KR-Site/en_KR/Product-Variation?pid=999NARS000011&dwvar_999NARS000011_color=7845094616',\n",
       " 'image': ['http://en.narscosmetics.co.kr/on/demandware.static/-/Sites-itemmaster_NARS/default/dw403b0373/hi-res/0607845094616.jpg',\n",
       "  'http://en.narscosmetics.co.kr/on/demandware.static/-/Sites-itemmaster_NARS/default/dw9f612bb9/swatch/0607845094616.jpg'],\n",
       " 'salePrice': '₩ 41,000',\n",
       " 'originalPrice': '₩ 41,000',\n",
       " 'color': '제인',\n",
       " 'category': '',\n",
       " 'brand': '나스',\n",
       " 'volume': '#'}"
      ]
     },
     "metadata": {},
     "output_type": "display_data"
    },
    {
     "data": {
      "text/plain": [
       "<selenium.webdriver.remote.webelement.WebElement (session=\"ba51fcd1a1bc41dec611cca0306e5511\", element=\"0.3645261313485766-3\")>"
      ]
     },
     "metadata": {},
     "output_type": "display_data"
    },
    {
     "data": {
      "text/plain": [
       "{'name': '어데이셔스 립스틱 - 자넷',\n",
       " 'url': 'http://www.narscosmetics.co.kr/on/demandware.store/Sites-KR-Site/en_KR/Product-Variation?pid=999NARS000011&dwvar_999NARS000011_color=7845094548',\n",
       " 'image': ['http://en.narscosmetics.co.kr/on/demandware.static/-/Sites-itemmaster_NARS/default/dw63ef74a2/hi-res/0607845094548.jpg',\n",
       "  'http://en.narscosmetics.co.kr/on/demandware.static/-/Sites-itemmaster_NARS/default/dw1bd1b076/swatch/0607845094548.jpg'],\n",
       " 'salePrice': '₩ 41,000',\n",
       " 'originalPrice': '₩ 41,000',\n",
       " 'color': '자넷',\n",
       " 'category': '',\n",
       " 'brand': '나스',\n",
       " 'volume': '#'}"
      ]
     },
     "metadata": {},
     "output_type": "display_data"
    },
    {
     "data": {
      "text/plain": [
       "<selenium.webdriver.remote.webelement.WebElement (session=\"ba51fcd1a1bc41dec611cca0306e5511\", element=\"0.0397495553888878-3\")>"
      ]
     },
     "metadata": {},
     "output_type": "display_data"
    },
    {
     "data": {
      "text/plain": [
       "{'name': '어데이셔스 립스틱 - 잔느',\n",
       " 'url': 'http://www.narscosmetics.co.kr/on/demandware.store/Sites-KR-Site/en_KR/Product-Variation?pid=999NARS000011&dwvar_999NARS000011_color=7845094760',\n",
       " 'image': ['http://en.narscosmetics.co.kr/on/demandware.static/-/Sites-itemmaster_NARS/default/dw36d8c941/hi-res/0607845094760.jpg',\n",
       "  'http://en.narscosmetics.co.kr/on/demandware.static/-/Sites-itemmaster_NARS/default/dw6d0e8da7/swatch/0607845094760.jpg'],\n",
       " 'salePrice': '₩ 41,000',\n",
       " 'originalPrice': '₩ 41,000',\n",
       " 'color': '잔느',\n",
       " 'category': '',\n",
       " 'brand': '나스',\n",
       " 'volume': '#'}"
      ]
     },
     "metadata": {},
     "output_type": "display_data"
    },
    {
     "data": {
      "text/plain": [
       "<selenium.webdriver.remote.webelement.WebElement (session=\"ba51fcd1a1bc41dec611cca0306e5511\", element=\"0.5167438163662068-3\")>"
      ]
     },
     "metadata": {},
     "output_type": "display_data"
    },
    {
     "data": {
      "text/plain": [
       "{'name': '어데이셔스 립스틱 - 줄리',\n",
       " 'url': 'http://www.narscosmetics.co.kr/on/demandware.store/Sites-KR-Site/en_KR/Product-Variation?pid=999NARS000011&dwvar_999NARS000011_color=7845094845',\n",
       " 'image': ['http://en.narscosmetics.co.kr/on/demandware.static/-/Sites-itemmaster_NARS/default/dw1d03e747/hi-res/0607845094845.jpg',\n",
       "  'http://en.narscosmetics.co.kr/on/demandware.static/-/Sites-itemmaster_NARS/default/dwe96a207a/swatch/0607845094845.jpg'],\n",
       " 'salePrice': '₩ 41,000',\n",
       " 'originalPrice': '₩ 41,000',\n",
       " 'color': '줄리',\n",
       " 'category': '',\n",
       " 'brand': '나스',\n",
       " 'volume': '#'}"
      ]
     },
     "metadata": {},
     "output_type": "display_data"
    },
    {
     "data": {
      "text/plain": [
       "<selenium.webdriver.remote.webelement.WebElement (session=\"ba51fcd1a1bc41dec611cca0306e5511\", element=\"0.5603037078778743-3\")>"
      ]
     },
     "metadata": {},
     "output_type": "display_data"
    },
    {
     "data": {
      "text/plain": [
       "{'name': '어데이셔스 립스틱 - 줄리엣',\n",
       " 'url': 'http://www.narscosmetics.co.kr/on/demandware.store/Sites-KR-Site/en_KR/Product-Variation?pid=999NARS000011&dwvar_999NARS000011_color=7845094661',\n",
       " 'image': ['http://en.narscosmetics.co.kr/on/demandware.static/-/Sites-itemmaster_NARS/default/dwe165d180/hi-res/0607845094661.jpg',\n",
       "  'http://en.narscosmetics.co.kr/on/demandware.static/-/Sites-itemmaster_NARS/default/dwf82bc576/swatch/0607845094661.jpg'],\n",
       " 'salePrice': '₩ 41,000',\n",
       " 'originalPrice': '₩ 41,000',\n",
       " 'color': '줄리엣',\n",
       " 'category': '',\n",
       " 'brand': '나스',\n",
       " 'volume': '#'}"
      ]
     },
     "metadata": {},
     "output_type": "display_data"
    },
    {
     "data": {
      "text/plain": [
       "<selenium.webdriver.remote.webelement.WebElement (session=\"ba51fcd1a1bc41dec611cca0306e5511\", element=\"0.979546648197267-3\")>"
      ]
     },
     "metadata": {},
     "output_type": "display_data"
    },
    {
     "data": {
      "text/plain": [
       "{'name': '어데이셔스 립스틱 - 케이트',\n",
       " 'url': 'http://www.narscosmetics.co.kr/on/demandware.store/Sites-KR-Site/en_KR/Product-Variation?pid=999NARS000011&dwvar_999NARS000011_color=7845094968',\n",
       " 'image': ['http://en.narscosmetics.co.kr/on/demandware.static/-/Sites-itemmaster_NARS/default/dw031dafd9/hi-res/0607845094968.jpg',\n",
       "  'http://en.narscosmetics.co.kr/on/demandware.static/-/Sites-itemmaster_NARS/default/dw4ce0c6bd/swatch/0607845094968.jpg'],\n",
       " 'salePrice': '₩ 41,000',\n",
       " 'originalPrice': '₩ 41,000',\n",
       " 'color': '케이트',\n",
       " 'category': '',\n",
       " 'brand': '나스',\n",
       " 'volume': '#'}"
      ]
     },
     "metadata": {},
     "output_type": "display_data"
    },
    {
     "data": {
      "text/plain": [
       "<selenium.webdriver.remote.webelement.WebElement (session=\"ba51fcd1a1bc41dec611cca0306e5511\", element=\"0.807700933336202-3\")>"
      ]
     },
     "metadata": {},
     "output_type": "display_data"
    },
    {
     "data": {
      "text/plain": [
       "{'name': '어데이셔스 립스틱 - 켈리',\n",
       " 'url': 'http://www.narscosmetics.co.kr/on/demandware.store/Sites-KR-Site/en_KR/Product-Variation?pid=999NARS000011&dwvar_999NARS000011_color=7845094869',\n",
       " 'image': ['http://en.narscosmetics.co.kr/on/demandware.static/-/Sites-itemmaster_NARS/default/dw2ca5416b/hi-res/0607845094869.jpg',\n",
       "  'http://en.narscosmetics.co.kr/on/demandware.static/-/Sites-itemmaster_NARS/default/dw316087aa/swatch/0607845094869.jpg'],\n",
       " 'salePrice': '₩ 41,000',\n",
       " 'originalPrice': '₩ 41,000',\n",
       " 'color': '켈리',\n",
       " 'category': '',\n",
       " 'brand': '나스',\n",
       " 'volume': '#'}"
      ]
     },
     "metadata": {},
     "output_type": "display_data"
    },
    {
     "data": {
      "text/plain": [
       "<selenium.webdriver.remote.webelement.WebElement (session=\"ba51fcd1a1bc41dec611cca0306e5511\", element=\"0.113820029783952-4\")>"
      ]
     },
     "metadata": {},
     "output_type": "display_data"
    },
    {
     "data": {
      "text/plain": [
       "{'name': '어데이셔스 립스틱 - 키랏',\n",
       " 'url': 'http://www.narscosmetics.co.kr/on/demandware.store/Sites-KR-Site/en_KR/Product-Variation?pid=999NARS000011&dwvar_999NARS000011_color=7845028314',\n",
       " 'image': ['http://en.narscosmetics.co.kr/on/demandware.static/-/Sites-itemmaster_NARS/default/dw17244d9e/hi-res/0607845028314.jpg',\n",
       "  'http://en.narscosmetics.co.kr/on/demandware.static/-/Sites-itemmaster_NARS/default/dw0d96e251/alt1/0607845028314.jpg',\n",
       "  'http://en.narscosmetics.co.kr/on/demandware.static/Sites-KR-Site/-/en_KR/v1546225498151/images/noimageshadesmall.png'],\n",
       " 'salePrice': '₩ 41,000',\n",
       " 'originalPrice': '₩ 41,000',\n",
       " 'color': '키랏',\n",
       " 'category': '',\n",
       " 'brand': '나스',\n",
       " 'volume': '#'}"
      ]
     },
     "metadata": {},
     "output_type": "display_data"
    },
    {
     "data": {
      "text/plain": [
       "<selenium.webdriver.remote.webelement.WebElement (session=\"ba51fcd1a1bc41dec611cca0306e5511\", element=\"0.22383562766578624-3\")>"
      ]
     },
     "metadata": {},
     "output_type": "display_data"
    },
    {
     "data": {
      "text/plain": [
       "{'name': '어데이셔스 립스틱 - 라나',\n",
       " 'url': 'http://www.narscosmetics.co.kr/on/demandware.store/Sites-KR-Site/en_KR/Product-Variation?pid=999NARS000011&dwvar_999NARS000011_color=7845094708',\n",
       " 'image': ['http://en.narscosmetics.co.kr/on/demandware.static/-/Sites-itemmaster_NARS/default/dwcc65fd7a/hi-res/0607845094708.jpg',\n",
       "  'http://en.narscosmetics.co.kr/on/demandware.static/-/Sites-itemmaster_NARS/default/dw78a110db/swatch/0607845094708.jpg'],\n",
       " 'salePrice': '₩ 41,000',\n",
       " 'originalPrice': '₩ 41,000',\n",
       " 'color': '라나',\n",
       " 'category': '',\n",
       " 'brand': '나스',\n",
       " 'volume': '#'}"
      ]
     },
     "metadata": {},
     "output_type": "display_data"
    },
    {
     "data": {
      "text/plain": [
       "<selenium.webdriver.remote.webelement.WebElement (session=\"ba51fcd1a1bc41dec611cca0306e5511\", element=\"0.04415144269412474-3\")>"
      ]
     },
     "metadata": {},
     "output_type": "display_data"
    },
    {
     "data": {
      "text/plain": [
       "{'name': '어데이셔스 립스틱 - 라라',\n",
       " 'url': 'http://www.narscosmetics.co.kr/on/demandware.store/Sites-KR-Site/en_KR/Product-Variation?pid=999NARS000011&dwvar_999NARS000011_color=7845028567',\n",
       " 'image': ['http://en.narscosmetics.co.kr/on/demandware.static/-/Sites-itemmaster_NARS/default/dw3ec6fb1d/hi-res/0607845028567.jpg',\n",
       "  'http://en.narscosmetics.co.kr/on/demandware.static/-/Sites-itemmaster_NARS/default/dw6f0ccc5e/swatch/0607845028567.jpg'],\n",
       " 'salePrice': '₩ 41,000',\n",
       " 'originalPrice': '₩ 41,000',\n",
       " 'color': '라라',\n",
       " 'category': '',\n",
       " 'brand': '나스',\n",
       " 'volume': '#'}"
      ]
     },
     "metadata": {},
     "output_type": "display_data"
    },
    {
     "data": {
      "text/plain": [
       "<selenium.webdriver.remote.webelement.WebElement (session=\"ba51fcd1a1bc41dec611cca0306e5511\", element=\"0.7777015701575882-3\")>"
      ]
     },
     "metadata": {},
     "output_type": "display_data"
    },
    {
     "data": {
      "text/plain": [
       "{'name': '어데이셔스 립스틱 - 레슬리',\n",
       " 'url': 'http://www.narscosmetics.co.kr/on/demandware.store/Sites-KR-Site/en_KR/Product-Variation?pid=999NARS000011&dwvar_999NARS000011_color=7845094753',\n",
       " 'image': ['http://en.narscosmetics.co.kr/on/demandware.static/-/Sites-itemmaster_NARS/default/dweb3770d9/hi-res/0607845094753.jpg',\n",
       "  'http://en.narscosmetics.co.kr/on/demandware.static/-/Sites-itemmaster_NARS/default/dw6cf8e1e2/swatch/0607845094753.jpg'],\n",
       " 'salePrice': '₩ 41,000',\n",
       " 'originalPrice': '₩ 41,000',\n",
       " 'color': '레슬리',\n",
       " 'category': '',\n",
       " 'brand': '나스',\n",
       " 'volume': '#'}"
      ]
     },
     "metadata": {},
     "output_type": "display_data"
    },
    {
     "data": {
      "text/plain": [
       "<selenium.webdriver.remote.webelement.WebElement (session=\"ba51fcd1a1bc41dec611cca0306e5511\", element=\"0.748585987241587-3\")>"
      ]
     },
     "metadata": {},
     "output_type": "display_data"
    },
    {
     "data": {
      "text/plain": [
       "{'name': '어데이셔스 립스틱 - 릴리',\n",
       " 'url': 'http://www.narscosmetics.co.kr/on/demandware.store/Sites-KR-Site/en_KR/Product-Variation?pid=999NARS000011&dwvar_999NARS000011_color=7845028352',\n",
       " 'image': ['http://en.narscosmetics.co.kr/on/demandware.static/-/Sites-itemmaster_NARS/default/dwda17a0ac/hi-res/0607845028352.jpg',\n",
       "  'http://en.narscosmetics.co.kr/on/demandware.static/-/Sites-itemmaster_NARS/default/dw40d1f703/swatch/0607845028352.jpg'],\n",
       " 'salePrice': '₩ 41,000',\n",
       " 'originalPrice': '₩ 41,000',\n",
       " 'color': '릴리',\n",
       " 'category': '',\n",
       " 'brand': '나스',\n",
       " 'volume': '#'}"
      ]
     },
     "metadata": {},
     "output_type": "display_data"
    },
    {
     "data": {
      "text/plain": [
       "<selenium.webdriver.remote.webelement.WebElement (session=\"ba51fcd1a1bc41dec611cca0306e5511\", element=\"0.47165586554702843-4\")>"
      ]
     },
     "metadata": {},
     "output_type": "display_data"
    },
    {
     "data": {
      "text/plain": [
       "{'name': '어데이셔스 립스틱 - 린다',\n",
       " 'url': 'http://www.narscosmetics.co.kr/on/demandware.store/Sites-KR-Site/en_KR/Product-Variation?pid=999NARS000011&dwvar_999NARS000011_color=7845028291',\n",
       " 'image': ['http://en.narscosmetics.co.kr/on/demandware.static/-/Sites-itemmaster_NARS/default/dwacaf9f88/hi-res/0607845028291.jpg',\n",
       "  'http://en.narscosmetics.co.kr/on/demandware.static/-/Sites-itemmaster_NARS/default/dw0d96e251/alt1/0607845028291.jpg',\n",
       "  'http://en.narscosmetics.co.kr/on/demandware.static/Sites-KR-Site/-/en_KR/v1546225498151/images/noimageshadesmall.png'],\n",
       " 'salePrice': '₩ 41,000',\n",
       " 'originalPrice': '₩ 41,000',\n",
       " 'color': '린다',\n",
       " 'category': '',\n",
       " 'brand': '나스',\n",
       " 'volume': '#'}"
      ]
     },
     "metadata": {},
     "output_type": "display_data"
    },
    {
     "data": {
      "text/plain": [
       "<selenium.webdriver.remote.webelement.WebElement (session=\"ba51fcd1a1bc41dec611cca0306e5511\", element=\"0.33642264380890397-3\")>"
      ]
     },
     "metadata": {},
     "output_type": "display_data"
    },
    {
     "data": {
      "text/plain": [
       "{'name': '어데이셔스 립스틱 - 리브',\n",
       " 'url': 'http://www.narscosmetics.co.kr/on/demandware.store/Sites-KR-Site/en_KR/Product-Variation?pid=999NARS000011&dwvar_999NARS000011_color=7845094791',\n",
       " 'image': ['http://en.narscosmetics.co.kr/on/demandware.static/-/Sites-itemmaster_NARS/default/dwb71ab9bc/hi-res/0607845094791.jpg',\n",
       "  'http://en.narscosmetics.co.kr/on/demandware.static/-/Sites-itemmaster_NARS/default/dwad9f8e6a/swatch/0607845094791.jpg'],\n",
       " 'salePrice': '₩ 41,000',\n",
       " 'originalPrice': '₩ 41,000',\n",
       " 'color': '리브',\n",
       " 'category': '',\n",
       " 'brand': '나스',\n",
       " 'volume': '#'}"
      ]
     },
     "metadata": {},
     "output_type": "display_data"
    },
    {
     "data": {
      "text/plain": [
       "<selenium.webdriver.remote.webelement.WebElement (session=\"ba51fcd1a1bc41dec611cca0306e5511\", element=\"0.5854834131064943-3\")>"
      ]
     },
     "metadata": {},
     "output_type": "display_data"
    },
    {
     "data": {
      "text/plain": [
       "{'name': '어데이셔스 립스틱 - 루',\n",
       " 'url': 'http://www.narscosmetics.co.kr/on/demandware.store/Sites-KR-Site/en_KR/Product-Variation?pid=999NARS000011&dwvar_999NARS000011_color=7845028536',\n",
       " 'image': ['http://en.narscosmetics.co.kr/on/demandware.static/-/Sites-itemmaster_NARS/default/dwf0d69ac3/hi-res/0607845028536.jpg',\n",
       "  'http://en.narscosmetics.co.kr/on/demandware.static/-/Sites-itemmaster_NARS/default/dw86eae0b5/swatch/0607845028536.jpg'],\n",
       " 'salePrice': '₩ 41,000',\n",
       " 'originalPrice': '₩ 41,000',\n",
       " 'color': '루',\n",
       " 'category': '',\n",
       " 'brand': '나스',\n",
       " 'volume': '#'}"
      ]
     },
     "metadata": {},
     "output_type": "display_data"
    },
    {
     "data": {
      "text/plain": [
       "<selenium.webdriver.remote.webelement.WebElement (session=\"ba51fcd1a1bc41dec611cca0306e5511\", element=\"0.9397550044737981-4\")>"
      ]
     },
     "metadata": {},
     "output_type": "display_data"
    },
    {
     "data": {
      "text/plain": [
       "{'name': '어데이셔스 립스틱 - 루이스',\n",
       " 'url': 'http://www.narscosmetics.co.kr/on/demandware.store/Sites-KR-Site/en_KR/Product-Variation?pid=999NARS000011&dwvar_999NARS000011_color=7845028307',\n",
       " 'image': ['http://en.narscosmetics.co.kr/on/demandware.static/-/Sites-itemmaster_NARS/default/dw16363412/hi-res/0607845028307.jpg',\n",
       "  'http://en.narscosmetics.co.kr/on/demandware.static/-/Sites-itemmaster_NARS/default/dw0d96e251/alt1/0607845028307.jpg',\n",
       "  'http://en.narscosmetics.co.kr/on/demandware.static/Sites-KR-Site/-/en_KR/v1546225498151/images/noimageshadesmall.png'],\n",
       " 'salePrice': '₩ 41,000',\n",
       " 'originalPrice': '₩ 41,000',\n",
       " 'color': '루이스',\n",
       " 'category': '',\n",
       " 'brand': '나스',\n",
       " 'volume': '#'}"
      ]
     },
     "metadata": {},
     "output_type": "display_data"
    },
    {
     "data": {
      "text/plain": [
       "<selenium.webdriver.remote.webelement.WebElement (session=\"ba51fcd1a1bc41dec611cca0306e5511\", element=\"0.0627952098632345-3\")>"
      ]
     },
     "metadata": {},
     "output_type": "display_data"
    },
    {
     "data": {
      "text/plain": [
       "{'name': '어데이셔스 립스틱 - 마리사',\n",
       " 'url': 'http://www.narscosmetics.co.kr/on/demandware.store/Sites-KR-Site/en_KR/Product-Variation?pid=999NARS000011&dwvar_999NARS000011_color=7845094852',\n",
       " 'image': ['http://en.narscosmetics.co.kr/on/demandware.static/-/Sites-itemmaster_NARS/default/dw20582ee6/hi-res/0607845094852.jpg',\n",
       "  'http://en.narscosmetics.co.kr/on/demandware.static/-/Sites-itemmaster_NARS/default/dwee885e6c/swatch/0607845094852.jpg'],\n",
       " 'salePrice': '₩ 41,000',\n",
       " 'originalPrice': '₩ 41,000',\n",
       " 'color': '마리사',\n",
       " 'category': '',\n",
       " 'brand': '나스',\n",
       " 'volume': '#'}"
      ]
     },
     "metadata": {},
     "output_type": "display_data"
    },
    {
     "data": {
      "text/plain": [
       "<selenium.webdriver.remote.webelement.WebElement (session=\"ba51fcd1a1bc41dec611cca0306e5511\", element=\"0.22387879389033305-3\")>"
      ]
     },
     "metadata": {},
     "output_type": "display_data"
    },
    {
     "data": {
      "text/plain": [
       "{'name': '어데이셔스 립스틱 - 마를린',\n",
       " 'url': 'http://www.narscosmetics.co.kr/on/demandware.store/Sites-KR-Site/en_KR/Product-Variation?pid=999NARS000011&dwvar_999NARS000011_color=7845094739',\n",
       " 'image': ['http://en.narscosmetics.co.kr/on/demandware.static/-/Sites-itemmaster_NARS/default/dwa34fd6c0/hi-res/0607845094739.jpg',\n",
       "  'http://en.narscosmetics.co.kr/on/demandware.static/-/Sites-itemmaster_NARS/default/dw12f7c31b/swatch/0607845094739.jpg'],\n",
       " 'salePrice': '₩ 41,000',\n",
       " 'originalPrice': '₩ 41,000',\n",
       " 'color': '마를린',\n",
       " 'category': '',\n",
       " 'brand': '나스',\n",
       " 'volume': '#'}"
      ]
     },
     "metadata": {},
     "output_type": "display_data"
    },
    {
     "data": {
      "text/plain": [
       "<selenium.webdriver.remote.webelement.WebElement (session=\"ba51fcd1a1bc41dec611cca0306e5511\", element=\"0.6933559887433196-3\")>"
      ]
     },
     "metadata": {},
     "output_type": "display_data"
    },
    {
     "data": {
      "text/plain": [
       "{'name': '어데이셔스 립스틱 - 미치요',\n",
       " 'url': 'http://www.narscosmetics.co.kr/on/demandware.store/Sites-KR-Site/en_KR/Product-Variation?pid=999NARS000011&dwvar_999NARS000011_color=7845094517',\n",
       " 'image': ['http://en.narscosmetics.co.kr/on/demandware.static/-/Sites-itemmaster_NARS/default/dw93c810e4/hi-res/0607845094517.jpg',\n",
       "  'http://en.narscosmetics.co.kr/on/demandware.static/-/Sites-itemmaster_NARS/default/dwed4e5dc4/swatch/0607845094517.jpg'],\n",
       " 'salePrice': '₩ 41,000',\n",
       " 'originalPrice': '₩ 41,000',\n",
       " 'color': '미치요',\n",
       " 'category': '',\n",
       " 'brand': '나스',\n",
       " 'volume': '#'}"
      ]
     },
     "metadata": {},
     "output_type": "display_data"
    },
    {
     "data": {
      "text/plain": [
       "<selenium.webdriver.remote.webelement.WebElement (session=\"ba51fcd1a1bc41dec611cca0306e5511\", element=\"0.8990507005967068-3\")>"
      ]
     },
     "metadata": {},
     "output_type": "display_data"
    },
    {
     "data": {
      "text/plain": [
       "{'name': '어데이셔스 립스틱 - 모나',\n",
       " 'url': 'http://www.narscosmetics.co.kr/on/demandware.store/Sites-KR-Site/en_KR/Product-Variation?pid=999NARS000011&dwvar_999NARS000011_color=7845094975',\n",
       " 'image': ['http://en.narscosmetics.co.kr/on/demandware.static/-/Sites-itemmaster_NARS/default/dw743bc681/hi-res/0607845094975.jpg',\n",
       "  'http://en.narscosmetics.co.kr/on/demandware.static/-/Sites-itemmaster_NARS/default/dw7abd2311/swatch/0607845094975.jpg'],\n",
       " 'salePrice': '₩ 41,000',\n",
       " 'originalPrice': '₩ 41,000',\n",
       " 'color': '모나',\n",
       " 'category': '',\n",
       " 'brand': '나스',\n",
       " 'volume': '#'}"
      ]
     },
     "metadata": {},
     "output_type": "display_data"
    },
    {
     "data": {
      "text/plain": [
       "<selenium.webdriver.remote.webelement.WebElement (session=\"ba51fcd1a1bc41dec611cca0306e5511\", element=\"0.9241828234015979-3\")>"
      ]
     },
     "metadata": {},
     "output_type": "display_data"
    },
    {
     "data": {
      "text/plain": [
       "{'name': '어데이셔스 립스틱 - 나탈리',\n",
       " 'url': 'http://www.narscosmetics.co.kr/on/demandware.store/Sites-KR-Site/en_KR/Product-Variation?pid=999NARS000011&dwvar_999NARS000011_color=7845094678',\n",
       " 'image': ['http://en.narscosmetics.co.kr/on/demandware.static/-/Sites-itemmaster_NARS/default/dwfc284193/hi-res/0607845094678.jpg',\n",
       "  'http://en.narscosmetics.co.kr/on/demandware.static/-/Sites-itemmaster_NARS/default/dw23a407bb/swatch/0607845094678.jpg'],\n",
       " 'salePrice': '₩ 41,000',\n",
       " 'originalPrice': '₩ 41,000',\n",
       " 'color': '나탈리',\n",
       " 'category': '',\n",
       " 'brand': '나스',\n",
       " 'volume': '#'}"
      ]
     },
     "metadata": {},
     "output_type": "display_data"
    },
    {
     "data": {
      "text/plain": [
       "<selenium.webdriver.remote.webelement.WebElement (session=\"ba51fcd1a1bc41dec611cca0306e5511\", element=\"0.12500968621707287-3\")>"
      ]
     },
     "metadata": {},
     "output_type": "display_data"
    },
    {
     "data": {
      "text/plain": [
       "{'name': '어데이셔스 립스틱 - 니나',\n",
       " 'url': 'http://www.narscosmetics.co.kr/on/demandware.store/Sites-KR-Site/en_KR/Product-Variation?pid=999NARS000011&dwvar_999NARS000011_color=7845028550',\n",
       " 'image': ['http://en.narscosmetics.co.kr/on/demandware.static/-/Sites-itemmaster_NARS/default/dw32a6238b/hi-res/0607845028550.jpg',\n",
       "  'http://en.narscosmetics.co.kr/on/demandware.static/-/Sites-itemmaster_NARS/default/dwa2c4f852/swatch/0607845028550.jpg'],\n",
       " 'salePrice': '₩ 41,000',\n",
       " 'originalPrice': '₩ 41,000',\n",
       " 'color': '니나',\n",
       " 'category': '',\n",
       " 'brand': '나스',\n",
       " 'volume': '#'}"
      ]
     },
     "metadata": {},
     "output_type": "display_data"
    },
    {
     "data": {
      "text/plain": [
       "<selenium.webdriver.remote.webelement.WebElement (session=\"ba51fcd1a1bc41dec611cca0306e5511\", element=\"0.03498820907091105-3\")>"
      ]
     },
     "metadata": {},
     "output_type": "display_data"
    },
    {
     "data": {
      "text/plain": [
       "{'name': '어데이셔스 립스틱 - 올리비아',\n",
       " 'url': 'http://www.narscosmetics.co.kr/on/demandware.store/Sites-KR-Site/en_KR/Product-Variation?pid=999NARS000011&dwvar_999NARS000011_color=7845094746',\n",
       " 'image': ['http://en.narscosmetics.co.kr/on/demandware.static/-/Sites-itemmaster_NARS/default/dw7c9cccda/hi-res/0607845094746.jpg',\n",
       "  'http://en.narscosmetics.co.kr/on/demandware.static/-/Sites-itemmaster_NARS/default/dw42311c1c/swatch/0607845094746.jpg'],\n",
       " 'salePrice': '₩ 41,000',\n",
       " 'originalPrice': '₩ 41,000',\n",
       " 'color': '올리비아',\n",
       " 'category': '',\n",
       " 'brand': '나스',\n",
       " 'volume': '#'}"
      ]
     },
     "metadata": {},
     "output_type": "display_data"
    },
    {
     "data": {
      "text/plain": [
       "<selenium.webdriver.remote.webelement.WebElement (session=\"ba51fcd1a1bc41dec611cca0306e5511\", element=\"0.5244444760186386-3\")>"
      ]
     },
     "metadata": {},
     "output_type": "display_data"
    },
    {
     "data": {
      "text/plain": [
       "{'name': '어데이셔스 립스틱 - 라켈',\n",
       " 'url': 'http://www.narscosmetics.co.kr/on/demandware.store/Sites-KR-Site/en_KR/Product-Variation?pid=999NARS000011&dwvar_999NARS000011_color=7845094647',\n",
       " 'image': ['http://en.narscosmetics.co.kr/on/demandware.static/-/Sites-itemmaster_NARS/default/dw2098d701/hi-res/0607845094647.jpg',\n",
       "  'http://en.narscosmetics.co.kr/on/demandware.static/-/Sites-itemmaster_NARS/default/dw51857af7/swatch/0607845094647.jpg'],\n",
       " 'salePrice': '₩ 41,000',\n",
       " 'originalPrice': '₩ 41,000',\n",
       " 'color': '라켈',\n",
       " 'category': '',\n",
       " 'brand': '나스',\n",
       " 'volume': '#'}"
      ]
     },
     "metadata": {},
     "output_type": "display_data"
    },
    {
     "data": {
      "text/plain": [
       "<selenium.webdriver.remote.webelement.WebElement (session=\"ba51fcd1a1bc41dec611cca0306e5511\", element=\"0.2047381658295755-3\")>"
      ]
     },
     "metadata": {},
     "output_type": "display_data"
    },
    {
     "data": {
      "text/plain": [
       "{'name': '어데이셔스 립스틱 - 리타',\n",
       " 'url': 'http://www.narscosmetics.co.kr/on/demandware.store/Sites-KR-Site/en_KR/Product-Variation?pid=999NARS000011&dwvar_999NARS000011_color=7845094722',\n",
       " 'image': ['http://en.narscosmetics.co.kr/on/demandware.static/-/Sites-itemmaster_NARS/default/dwbd434463/hi-res/0607845094722.jpg',\n",
       "  'http://en.narscosmetics.co.kr/on/demandware.static/-/Sites-itemmaster_NARS/default/dwfc5291de/swatch/0607845094722.jpg'],\n",
       " 'salePrice': '₩ 41,000',\n",
       " 'originalPrice': '₩ 41,000',\n",
       " 'color': '리타',\n",
       " 'category': '',\n",
       " 'brand': '나스',\n",
       " 'volume': '#'}"
      ]
     },
     "metadata": {},
     "output_type": "display_data"
    },
    {
     "data": {
      "text/plain": [
       "<selenium.webdriver.remote.webelement.WebElement (session=\"ba51fcd1a1bc41dec611cca0306e5511\", element=\"0.6884415801998485-3\")>"
      ]
     },
     "metadata": {},
     "output_type": "display_data"
    },
    {
     "data": {
      "text/plain": [
       "{'name': '어데이셔스 립스틱 - 산드라',\n",
       " 'url': 'http://www.narscosmetics.co.kr/on/demandware.store/Sites-KR-Site/en_KR/Product-Variation?pid=999NARS000011&dwvar_999NARS000011_color=7845094913',\n",
       " 'image': ['http://en.narscosmetics.co.kr/on/demandware.static/-/Sites-itemmaster_NARS/default/dw2912f133/hi-res/0607845094913.jpg',\n",
       "  'http://en.narscosmetics.co.kr/on/demandware.static/-/Sites-itemmaster_NARS/default/dwdcec3323/swatch/0607845094913.jpg'],\n",
       " 'salePrice': '₩ 41,000',\n",
       " 'originalPrice': '₩ 41,000',\n",
       " 'color': '산드라',\n",
       " 'category': '',\n",
       " 'brand': '나스',\n",
       " 'volume': '#'}"
      ]
     },
     "metadata": {},
     "output_type": "display_data"
    },
    {
     "data": {
      "text/plain": [
       "<selenium.webdriver.remote.webelement.WebElement (session=\"ba51fcd1a1bc41dec611cca0306e5511\", element=\"0.8715251596518185-3\")>"
      ]
     },
     "metadata": {},
     "output_type": "display_data"
    },
    {
     "data": {
      "text/plain": [
       "{'name': '어데이셔스 립스틱 - 셜리',\n",
       " 'url': 'http://www.narscosmetics.co.kr/on/demandware.store/Sites-KR-Site/en_KR/Product-Variation?pid=999NARS000011&dwvar_999NARS000011_color=7845094944',\n",
       " 'image': ['http://en.narscosmetics.co.kr/on/demandware.static/-/Sites-itemmaster_NARS/default/dwd3009119/hi-res/0607845094944.jpg',\n",
       "  'http://en.narscosmetics.co.kr/on/demandware.static/-/Sites-itemmaster_NARS/default/dw254c0853/swatch/0607845094944.jpg'],\n",
       " 'salePrice': '₩ 41,000',\n",
       " 'originalPrice': '₩ 41,000',\n",
       " 'color': '셜리',\n",
       " 'category': '',\n",
       " 'brand': '나스',\n",
       " 'volume': '#'}"
      ]
     },
     "metadata": {},
     "output_type": "display_data"
    },
    {
     "data": {
      "text/plain": [
       "<selenium.webdriver.remote.webelement.WebElement (session=\"ba51fcd1a1bc41dec611cca0306e5511\", element=\"0.41726956299406703-3\")>"
      ]
     },
     "metadata": {},
     "output_type": "display_data"
    },
    {
     "data": {
      "text/plain": [
       "{'name': '어데이셔스 립스틱 - 실비아',\n",
       " 'url': 'http://www.narscosmetics.co.kr/on/demandware.store/Sites-KR-Site/en_KR/Product-Variation?pid=999NARS000011&dwvar_999NARS000011_color=7845094890',\n",
       " 'image': ['http://en.narscosmetics.co.kr/on/demandware.static/-/Sites-itemmaster_NARS/default/dw71ae6dcc/hi-res/0607845094890.jpg',\n",
       "  'http://en.narscosmetics.co.kr/on/demandware.static/-/Sites-itemmaster_NARS/default/dwaa24513c/swatch/0607845094890.jpg'],\n",
       " 'salePrice': '₩ 41,000',\n",
       " 'originalPrice': '₩ 41,000',\n",
       " 'color': '실비아',\n",
       " 'category': '',\n",
       " 'brand': '나스',\n",
       " 'volume': '#'}"
      ]
     },
     "metadata": {},
     "output_type": "display_data"
    },
    {
     "data": {
      "text/plain": [
       "<selenium.webdriver.remote.webelement.WebElement (session=\"ba51fcd1a1bc41dec611cca0306e5511\", element=\"0.1700686322747147-3\")>"
      ]
     },
     "metadata": {},
     "output_type": "display_data"
    },
    {
     "data": {
      "text/plain": [
       "{'name': '어데이셔스 립스틱 - 스테파니아',\n",
       " 'url': 'http://www.narscosmetics.co.kr/on/demandware.store/Sites-KR-Site/en_KR/Product-Variation?pid=999NARS000011&dwvar_999NARS000011_color=7845094951',\n",
       " 'image': ['http://en.narscosmetics.co.kr/on/demandware.static/-/Sites-itemmaster_NARS/default/dw1c7f92e9/hi-res/0607845094951.jpg',\n",
       "  'http://en.narscosmetics.co.kr/on/demandware.static/-/Sites-itemmaster_NARS/default/dw45d2123b/swatch/0607845094951.jpg'],\n",
       " 'salePrice': '₩ 41,000',\n",
       " 'originalPrice': '₩ 41,000',\n",
       " 'color': '스테파니아',\n",
       " 'category': '',\n",
       " 'brand': '나스',\n",
       " 'volume': '#'}"
      ]
     },
     "metadata": {},
     "output_type": "display_data"
    },
    {
     "data": {
      "text/plain": [
       "<selenium.webdriver.remote.webelement.WebElement (session=\"ba51fcd1a1bc41dec611cca0306e5511\", element=\"0.6371345492890765-3\")>"
      ]
     },
     "metadata": {},
     "output_type": "display_data"
    },
    {
     "data": {
      "text/plain": [
       "{'name': '어데이셔스 립스틱 - 타티아나',\n",
       " 'url': 'http://www.narscosmetics.co.kr/on/demandware.store/Sites-KR-Site/en_KR/Product-Variation?pid=999NARS000011&dwvar_999NARS000011_color=7845028574',\n",
       " 'image': ['http://en.narscosmetics.co.kr/on/demandware.static/-/Sites-itemmaster_NARS/default/dwbf9cce80/hi-res/0607845028574.jpg',\n",
       "  'http://en.narscosmetics.co.kr/on/demandware.static/-/Sites-itemmaster_NARS/default/dw8e298a3a/swatch/0607845028574.jpg'],\n",
       " 'salePrice': '₩ 41,000',\n",
       " 'originalPrice': '₩ 41,000',\n",
       " 'color': '타티아나',\n",
       " 'category': '',\n",
       " 'brand': '나스',\n",
       " 'volume': '#'}"
      ]
     },
     "metadata": {},
     "output_type": "display_data"
    },
    {
     "data": {
      "text/plain": [
       "<selenium.webdriver.remote.webelement.WebElement (session=\"ba51fcd1a1bc41dec611cca0306e5511\", element=\"0.5781410327286138-3\")>"
      ]
     },
     "metadata": {},
     "output_type": "display_data"
    },
    {
     "data": {
      "text/plain": [
       "{'name': '어데이셔스 립스틱 - 바네사',\n",
       " 'url': 'http://www.narscosmetics.co.kr/on/demandware.store/Sites-KR-Site/en_KR/Product-Variation?pid=999NARS000011&dwvar_999NARS000011_color=7845094838',\n",
       " 'image': ['http://en.narscosmetics.co.kr/on/demandware.static/-/Sites-itemmaster_NARS/default/dw8be5de73/hi-res/0607845094838.jpg',\n",
       "  'http://en.narscosmetics.co.kr/on/demandware.static/-/Sites-itemmaster_NARS/default/dwb37b21af/swatch/0607845094838.jpg'],\n",
       " 'salePrice': '₩ 41,000',\n",
       " 'originalPrice': '₩ 41,000',\n",
       " 'color': '바네사',\n",
       " 'category': '',\n",
       " 'brand': '나스',\n",
       " 'volume': '#'}"
      ]
     },
     "metadata": {},
     "output_type": "display_data"
    },
    {
     "data": {
      "text/plain": [
       "<selenium.webdriver.remote.webelement.WebElement (session=\"ba51fcd1a1bc41dec611cca0306e5511\", element=\"0.43698744413904556-3\")>"
      ]
     },
     "metadata": {},
     "output_type": "display_data"
    },
    {
     "data": {
      "text/plain": [
       "{'name': '어데이셔스 립스틱 - 베라',\n",
       " 'url': 'http://www.narscosmetics.co.kr/on/demandware.store/Sites-KR-Site/en_KR/Product-Variation?pid=999NARS000011&dwvar_999NARS000011_color=7845094562',\n",
       " 'image': ['http://en.narscosmetics.co.kr/on/demandware.static/-/Sites-itemmaster_NARS/default/dw6a110ffc/hi-res/0607845094562.jpg',\n",
       "  'http://en.narscosmetics.co.kr/on/demandware.static/-/Sites-itemmaster_NARS/default/dwee02b188/swatch/0607845094562.jpg'],\n",
       " 'salePrice': '₩ 41,000',\n",
       " 'originalPrice': '₩ 41,000',\n",
       " 'color': '베라',\n",
       " 'category': '',\n",
       " 'brand': '나스',\n",
       " 'volume': '#'}"
      ]
     },
     "metadata": {},
     "output_type": "display_data"
    },
    {
     "data": {
      "text/plain": [
       "<selenium.webdriver.remote.webelement.WebElement (session=\"ba51fcd1a1bc41dec611cca0306e5511\", element=\"0.9373457798864333-4\")>"
      ]
     },
     "metadata": {},
     "output_type": "display_data"
    },
    {
     "data": {
      "text/plain": [
       "{'name': '어데이셔스 립스틱 - 비베케',\n",
       " 'url': 'http://www.narscosmetics.co.kr/on/demandware.store/Sites-KR-Site/en_KR/Product-Variation?pid=999NARS000011&dwvar_999NARS000011_color=7845028284',\n",
       " 'image': ['http://en.narscosmetics.co.kr/on/demandware.static/-/Sites-itemmaster_NARS/default/dw010b2454/hi-res/0607845028284.jpg',\n",
       "  'http://en.narscosmetics.co.kr/on/demandware.static/-/Sites-itemmaster_NARS/default/dw0d96e251/alt1/0607845028284.jpg',\n",
       "  'http://en.narscosmetics.co.kr/on/demandware.static/Sites-KR-Site/-/en_KR/v1546225498151/images/noimageshadesmall.png'],\n",
       " 'salePrice': '₩ 41,000',\n",
       " 'originalPrice': '₩ 41,000',\n",
       " 'color': '비베케',\n",
       " 'category': '',\n",
       " 'brand': '나스',\n",
       " 'volume': '#'}"
      ]
     },
     "metadata": {},
     "output_type": "display_data"
    },
    {
     "data": {
      "text/plain": [
       "<selenium.webdriver.remote.webelement.WebElement (session=\"ba51fcd1a1bc41dec611cca0306e5511\", element=\"0.07902485076341126-3\")>"
      ]
     },
     "metadata": {},
     "output_type": "display_data"
    },
    {
     "data": {
      "text/plain": [
       "{'name': '어데이셔스 립스틱 - 비비안',\n",
       " 'url': 'http://www.narscosmetics.co.kr/on/demandware.store/Sites-KR-Site/en_KR/Product-Variation?pid=999NARS000011&dwvar_999NARS000011_color=7845094906',\n",
       " 'image': ['http://en.narscosmetics.co.kr/on/demandware.static/-/Sites-itemmaster_NARS/default/dw398e487a/hi-res/0607845094906.jpg',\n",
       "  'http://en.narscosmetics.co.kr/on/demandware.static/-/Sites-itemmaster_NARS/default/dwb6aeef70/swatch/0607845094906.jpg'],\n",
       " 'salePrice': '₩ 41,000',\n",
       " 'originalPrice': '₩ 41,000',\n",
       " 'color': '비비안',\n",
       " 'category': '',\n",
       " 'brand': '나스',\n",
       " 'volume': '#'}"
      ]
     },
     "metadata": {},
     "output_type": "display_data"
    },
    {
     "data": {
      "text/plain": [
       "{'name': '벨벳 매트 립 펜슬 듀오',\n",
       " 'url': 'http://www.narscosmetics.co.kr/chaos-velvet-matte-lip-pencil-duo/0607845058687.html',\n",
       " 'image': ['http://en.narscosmetics.co.kr/on/demandware.static/-/Sites-itemmaster_NARS/default/dwee5ffd6d/hi-res/0607845058687.jpg',\n",
       "  'http://en.narscosmetics.co.kr/on/demandware.static/-/Sites-itemmaster_NARS/default/dw0f4209da/hi-res/0607845058687_2.jpg',\n",
       "  'http://en.narscosmetics.co.kr/on/demandware.static/-/Sites-itemmaster_NARS/default/dw3c2da93f/hi-res/0607845058687_3.jpg',\n",
       "  'http://en.narscosmetics.co.kr/on/demandware.static/-/Sites-itemmaster_NARS/default/dwfb86afb4/shade/0607845058687_01.jpg',\n",
       "  'http://en.narscosmetics.co.kr/on/demandware.static/-/Sites-itemmaster_NARS/default/dw3147b722/shade/0607845058687_02.jpg',\n",
       "  'http://en.narscosmetics.co.kr/on/demandware.static/-/Sites-itemmaster_NARS/default/dw6afdf351/alt1/0607845058687.jpg',\n",
       "  'http://en.narscosmetics.co.kr/on/demandware.static/-/Sites-itemmaster_NARS/default/dwb610a204/alt2/0607845058687.jpg'],\n",
       " 'salePrice': '₩ 42,000',\n",
       " 'originalPrice': '₩ 42,000',\n",
       " 'color': '#',\n",
       " 'category': '',\n",
       " 'brand': '나스',\n",
       " 'volume': '#'}"
      ]
     },
     "metadata": {},
     "output_type": "display_data"
    },
    {
     "data": {
      "text/plain": [
       "<selenium.webdriver.remote.webelement.WebElement (session=\"ba51fcd1a1bc41dec611cca0306e5511\", element=\"0.6150637435253752-3\")>"
      ]
     },
     "metadata": {},
     "output_type": "display_data"
    },
    {
     "data": {
      "text/plain": [
       "{'name': '풀 바이닐 립 라커',\n",
       " 'url': 'http://www.narscosmetics.co.kr/on/demandware.store/Sites-KR-Site/en_KR/Product-Variation?pid=999NAC0000071&dwvar_999NAC0000071_color=',\n",
       " 'image': ['http://en.narscosmetics.co.kr/on/demandware.static/-/Sites-itemmaster_NARS/default/dwe80e4a75/hi-res/0607845024309.jpg',\n",
       "  'http://en.narscosmetics.co.kr/on/demandware.static/-/Sites-itemmaster_NARS/default/dw35a3b205/swatch/0607845024309.jpg'],\n",
       " 'salePrice': '₩ 38,000',\n",
       " 'originalPrice': '₩ 38,000',\n",
       " 'color': '산토 도밍고',\n",
       " 'category': '',\n",
       " 'brand': '나스',\n",
       " 'volume': '#'}"
      ]
     },
     "metadata": {},
     "output_type": "display_data"
    },
    {
     "data": {
      "text/plain": [
       "<selenium.webdriver.remote.webelement.WebElement (session=\"ba51fcd1a1bc41dec611cca0306e5511\", element=\"0.4745026966110495-3\")>"
      ]
     },
     "metadata": {},
     "output_type": "display_data"
    },
    {
     "data": {
      "text/plain": [
       "{'name': '풀 바이닐 립 라커 - 컨퀘스트',\n",
       " 'url': 'http://www.narscosmetics.co.kr/on/demandware.store/Sites-KR-Site/en_KR/Product-Variation?pid=999NAC0000071&dwvar_999NAC0000071_color=7845024316',\n",
       " 'image': ['http://en.narscosmetics.co.kr/on/demandware.static/-/Sites-itemmaster_NARS/default/dwb42ba396/hi-res/0607845024316.jpg',\n",
       "  'http://en.narscosmetics.co.kr/on/demandware.static/-/Sites-itemmaster_NARS/default/dw45da7ead/swatch/0607845024316.jpg'],\n",
       " 'salePrice': '₩ 38,000',\n",
       " 'originalPrice': '₩ 38,000',\n",
       " 'color': '컨퀘스트',\n",
       " 'category': '',\n",
       " 'brand': '나스',\n",
       " 'volume': '#'}"
      ]
     },
     "metadata": {},
     "output_type": "display_data"
    },
    {
     "data": {
      "text/plain": [
       "<selenium.webdriver.remote.webelement.WebElement (session=\"ba51fcd1a1bc41dec611cca0306e5511\", element=\"0.8360951308547413-3\")>"
      ]
     },
     "metadata": {},
     "output_type": "display_data"
    },
    {
     "data": {
      "text/plain": [
       "{'name': '풀 바이닐 립 라커 - 발렌시아',\n",
       " 'url': 'http://www.narscosmetics.co.kr/on/demandware.store/Sites-KR-Site/en_KR/Product-Variation?pid=999NAC0000071&dwvar_999NAC0000071_color=7845024323',\n",
       " 'image': ['http://en.narscosmetics.co.kr/on/demandware.static/-/Sites-itemmaster_NARS/default/dw573a42ae/hi-res/0607845024323.jpg',\n",
       "  'http://en.narscosmetics.co.kr/on/demandware.static/-/Sites-itemmaster_NARS/default/dw206cf877/swatch/0607845024323.jpg'],\n",
       " 'salePrice': '₩ 38,000',\n",
       " 'originalPrice': '₩ 38,000',\n",
       " 'color': '발렌시아',\n",
       " 'category': '',\n",
       " 'brand': '나스',\n",
       " 'volume': '#'}"
      ]
     },
     "metadata": {},
     "output_type": "display_data"
    },
    {
     "data": {
      "text/plain": [
       "<selenium.webdriver.remote.webelement.WebElement (session=\"ba51fcd1a1bc41dec611cca0306e5511\", element=\"0.23843744151207535-3\")>"
      ]
     },
     "metadata": {},
     "output_type": "display_data"
    },
    {
     "data": {
      "text/plain": [
       "{'name': '풀 바이닐 립 라커 - 레드 디스트릭트',\n",
       " 'url': 'http://www.narscosmetics.co.kr/on/demandware.store/Sites-KR-Site/en_KR/Product-Variation?pid=999NAC0000071&dwvar_999NAC0000071_color=7845024330',\n",
       " 'image': ['http://en.narscosmetics.co.kr/on/demandware.static/-/Sites-itemmaster_NARS/default/dw4fa734f8/hi-res/0607845024330.jpg',\n",
       "  'http://en.narscosmetics.co.kr/on/demandware.static/-/Sites-itemmaster_NARS/default/dw8a783773/swatch/0607845024330.jpg'],\n",
       " 'salePrice': '₩ 38,000',\n",
       " 'originalPrice': '₩ 38,000',\n",
       " 'color': '레드 디스트릭트',\n",
       " 'category': '',\n",
       " 'brand': '나스',\n",
       " 'volume': '#'}"
      ]
     },
     "metadata": {},
     "output_type": "display_data"
    },
    {
     "data": {
      "text/plain": [
       "<selenium.webdriver.remote.webelement.WebElement (session=\"ba51fcd1a1bc41dec611cca0306e5511\", element=\"0.7878861856382595-3\")>"
      ]
     },
     "metadata": {},
     "output_type": "display_data"
    },
    {
     "data": {
      "text/plain": [
       "{'name': '풀 바이닐 립 라커 - 미시시피',\n",
       " 'url': 'http://www.narscosmetics.co.kr/on/demandware.store/Sites-KR-Site/en_KR/Product-Variation?pid=999NAC0000071&dwvar_999NAC0000071_color=7845024347',\n",
       " 'image': ['http://en.narscosmetics.co.kr/on/demandware.static/-/Sites-itemmaster_NARS/default/dw51137261/hi-res/0607845024347.jpg',\n",
       "  'http://en.narscosmetics.co.kr/on/demandware.static/-/Sites-itemmaster_NARS/default/dwc6e0acc0/swatch/0607845024347.jpg'],\n",
       " 'salePrice': '₩ 38,000',\n",
       " 'originalPrice': '₩ 38,000',\n",
       " 'color': '미시시피',\n",
       " 'category': '',\n",
       " 'brand': '나스',\n",
       " 'volume': '#'}"
      ]
     },
     "metadata": {},
     "output_type": "display_data"
    },
    {
     "data": {
      "text/plain": [
       "<selenium.webdriver.remote.webelement.WebElement (session=\"ba51fcd1a1bc41dec611cca0306e5511\", element=\"0.5865995732583185-3\")>"
      ]
     },
     "metadata": {},
     "output_type": "display_data"
    },
    {
     "data": {
      "text/plain": [
       "{'name': '풀 바이닐 립 라커 - 바덴 바덴',\n",
       " 'url': 'http://www.narscosmetics.co.kr/on/demandware.store/Sites-KR-Site/en_KR/Product-Variation?pid=999NAC0000071&dwvar_999NAC0000071_color=7845024354',\n",
       " 'image': ['http://en.narscosmetics.co.kr/on/demandware.static/-/Sites-itemmaster_NARS/default/dw97e82d8f/hi-res/0607845024354.jpg',\n",
       "  'http://en.narscosmetics.co.kr/on/demandware.static/-/Sites-itemmaster_NARS/default/dwc4f410bd/swatch/0607845024354.jpg'],\n",
       " 'salePrice': '₩ 38,000',\n",
       " 'originalPrice': '₩ 38,000',\n",
       " 'color': '바덴 바덴',\n",
       " 'category': '',\n",
       " 'brand': '나스',\n",
       " 'volume': '#'}"
      ]
     },
     "metadata": {},
     "output_type": "display_data"
    },
    {
     "data": {
      "text/plain": [
       "<selenium.webdriver.remote.webelement.WebElement (session=\"ba51fcd1a1bc41dec611cca0306e5511\", element=\"0.9170582391304585-3\")>"
      ]
     },
     "metadata": {},
     "output_type": "display_data"
    },
    {
     "data": {
      "text/plain": [
       "{'name': '풀 바이닐 립 라커 - 아브루쪼',\n",
       " 'url': 'http://www.narscosmetics.co.kr/on/demandware.store/Sites-KR-Site/en_KR/Product-Variation?pid=999NAC0000071&dwvar_999NAC0000071_color=7845024361',\n",
       " 'image': ['http://en.narscosmetics.co.kr/on/demandware.static/-/Sites-itemmaster_NARS/default/dw9a2d1df6/hi-res/0607845024361.jpg',\n",
       "  'http://en.narscosmetics.co.kr/on/demandware.static/-/Sites-itemmaster_NARS/default/dw78c4c5b2/swatch/0607845024361.jpg'],\n",
       " 'salePrice': '₩ 38,000',\n",
       " 'originalPrice': '₩ 38,000',\n",
       " 'color': '아브루쪼',\n",
       " 'category': '',\n",
       " 'brand': '나스',\n",
       " 'volume': '#'}"
      ]
     },
     "metadata": {},
     "output_type": "display_data"
    },
    {
     "data": {
      "text/plain": [
       "<selenium.webdriver.remote.webelement.WebElement (session=\"ba51fcd1a1bc41dec611cca0306e5511\", element=\"0.1500118132884254-3\")>"
      ]
     },
     "metadata": {},
     "output_type": "display_data"
    },
    {
     "data": {
      "text/plain": [
       "{'name': '풀 바이닐 립 라커 - 케이프 타운',\n",
       " 'url': 'http://www.narscosmetics.co.kr/on/demandware.store/Sites-KR-Site/en_KR/Product-Variation?pid=999NAC0000071&dwvar_999NAC0000071_color=7845024378',\n",
       " 'image': ['http://en.narscosmetics.co.kr/on/demandware.static/-/Sites-itemmaster_NARS/default/dwb0d2e1ad/hi-res/0607845024378.jpg',\n",
       "  'http://en.narscosmetics.co.kr/on/demandware.static/-/Sites-itemmaster_NARS/default/dw40083b9d/swatch/0607845024378.jpg'],\n",
       " 'salePrice': '₩ 38,000',\n",
       " 'originalPrice': '₩ 38,000',\n",
       " 'color': '케이프 타운',\n",
       " 'category': '',\n",
       " 'brand': '나스',\n",
       " 'volume': '#'}"
      ]
     },
     "metadata": {},
     "output_type": "display_data"
    },
    {
     "data": {
      "text/plain": [
       "<selenium.webdriver.remote.webelement.WebElement (session=\"ba51fcd1a1bc41dec611cca0306e5511\", element=\"0.37360071078710666-3\")>"
      ]
     },
     "metadata": {},
     "output_type": "display_data"
    },
    {
     "data": {
      "text/plain": [
       "{'name': '풀 바이닐 립 라커 - 엣 퍼스트 사이트',\n",
       " 'url': 'http://www.narscosmetics.co.kr/on/demandware.store/Sites-KR-Site/en_KR/Product-Variation?pid=999NAC0000071&dwvar_999NAC0000071_color=7845024385',\n",
       " 'image': ['http://en.narscosmetics.co.kr/on/demandware.static/-/Sites-itemmaster_NARS/default/dwfb4113a0/hi-res/0607845024385.jpg',\n",
       "  'http://en.narscosmetics.co.kr/on/demandware.static/-/Sites-itemmaster_NARS/default/dw5d66550d/swatch/0607845024385.jpg'],\n",
       " 'salePrice': '₩ 38,000',\n",
       " 'originalPrice': '₩ 38,000',\n",
       " 'color': '엣 퍼스트 사이트',\n",
       " 'category': '',\n",
       " 'brand': '나스',\n",
       " 'volume': '#'}"
      ]
     },
     "metadata": {},
     "output_type": "display_data"
    },
    {
     "data": {
      "text/plain": [
       "<selenium.webdriver.remote.webelement.WebElement (session=\"ba51fcd1a1bc41dec611cca0306e5511\", element=\"0.030934528967947017-3\")>"
      ]
     },
     "metadata": {},
     "output_type": "display_data"
    },
    {
     "data": {
      "text/plain": [
       "{'name': '풀 바이닐 립 라커 - 에버글레이즈',\n",
       " 'url': 'http://www.narscosmetics.co.kr/on/demandware.store/Sites-KR-Site/en_KR/Product-Variation?pid=999NAC0000071&dwvar_999NAC0000071_color=7845024392',\n",
       " 'image': ['http://en.narscosmetics.co.kr/on/demandware.static/-/Sites-itemmaster_NARS/default/dw6331da8f/hi-res/0607845024392.jpg',\n",
       "  'http://en.narscosmetics.co.kr/on/demandware.static/-/Sites-itemmaster_NARS/default/dwfc258004/swatch/0607845024392.jpg'],\n",
       " 'salePrice': '₩ 38,000',\n",
       " 'originalPrice': '₩ 38,000',\n",
       " 'color': '에버글레이즈',\n",
       " 'category': '',\n",
       " 'brand': '나스',\n",
       " 'volume': '#'}"
      ]
     },
     "metadata": {},
     "output_type": "display_data"
    },
    {
     "data": {
      "text/plain": [
       "{'name': '포이즌 로즈 립 파우더 팔레트',\n",
       " 'url': 'http://www.narscosmetics.co.kr/poison-rose-lip-powder-palette/0607845084754.html',\n",
       " 'image': ['http://en.narscosmetics.co.kr/on/demandware.static/-/Sites-itemmaster_NARS/default/dwee13a651/hi-res/0607845084754.png',\n",
       "  'http://en.narscosmetics.co.kr/on/demandware.static/-/Sites-itemmaster_NARS/default/dw171a3f3a/alt1/erdem1.jpg',\n",
       "  'http://en.narscosmetics.co.kr/on/demandware.static/-/Sites-itemmaster_NARS/default/dw66db9a52/alt2/0607845084754.jpg',\n",
       "  'http://en.narscosmetics.co.kr/on/demandware.static/-/Sites-itemmaster_NARS/default/dw819233a3/alt3/0607845084754.jpg'],\n",
       " 'salePrice': '₩ 65,000',\n",
       " 'originalPrice': '₩ 65,000',\n",
       " 'color': '#',\n",
       " 'category': '',\n",
       " 'brand': '나스',\n",
       " 'volume': '#'}"
      ]
     },
     "metadata": {},
     "output_type": "display_data"
    },
    {
     "data": {
      "text/plain": [
       "<selenium.webdriver.remote.webelement.WebElement (session=\"ba51fcd1a1bc41dec611cca0306e5511\", element=\"0.8009388006222731-4\")>"
      ]
     },
     "metadata": {},
     "output_type": "display_data"
    },
    {
     "data": {
      "text/plain": [
       "{'name': '쉬어 립스틱 - 바바렐라',\n",
       " 'url': 'http://www.narscosmetics.co.kr/on/demandware.store/Sites-KR-Site/en_KR/Product-Variation?pid=999NACSHRLS01&dwvar_999NACSHRLS01_color=7845010364',\n",
       " 'image': ['http://en.narscosmetics.co.kr/on/demandware.static/-/Sites-itemmaster_NARS/default/dwd29cc2d4/hi-res/0607845010364.jpg',\n",
       "  'http://en.narscosmetics.co.kr/on/demandware.static/-/Sites-itemmaster_NARS/default/dwe3b34951/alt1/0607845010364.jpg',\n",
       "  'http://en.narscosmetics.co.kr/on/demandware.static/Sites-KR-Site/-/en_KR/v1546225498151/images/noimageshadesmall.png'],\n",
       " 'salePrice': '₩ 37,000',\n",
       " 'originalPrice': '₩ 37,000',\n",
       " 'color': '바바렐라',\n",
       " 'category': '',\n",
       " 'brand': '나스',\n",
       " 'volume': '#'}"
      ]
     },
     "metadata": {},
     "output_type": "display_data"
    },
    {
     "data": {
      "text/plain": [
       "<selenium.webdriver.remote.webelement.WebElement (session=\"ba51fcd1a1bc41dec611cca0306e5511\", element=\"0.8485306762690064-4\")>"
      ]
     },
     "metadata": {},
     "output_type": "display_data"
    },
    {
     "data": {
      "text/plain": [
       "{'name': '쉬어 립스틱 - 벨르 드 쥬르',\n",
       " 'url': 'http://www.narscosmetics.co.kr/on/demandware.store/Sites-KR-Site/en_KR/Product-Variation?pid=999NACSHRLS01&dwvar_999NACSHRLS01_color=7845010357',\n",
       " 'image': ['http://en.narscosmetics.co.kr/on/demandware.static/-/Sites-itemmaster_NARS/default/dwf5ae2323/hi-res/0607845010357.jpg',\n",
       "  'http://en.narscosmetics.co.kr/on/demandware.static/-/Sites-itemmaster_NARS/default/dwee11cc03/alt1/0607845010357.jpg',\n",
       "  'http://en.narscosmetics.co.kr/on/demandware.static/Sites-KR-Site/-/en_KR/v1546225498151/images/noimageshadesmall.png'],\n",
       " 'salePrice': '₩ 37,000',\n",
       " 'originalPrice': '₩ 37,000',\n",
       " 'color': '벨르 드 쥬르',\n",
       " 'category': '',\n",
       " 'brand': '나스',\n",
       " 'volume': '#'}"
      ]
     },
     "metadata": {},
     "output_type": "display_data"
    },
    {
     "data": {
      "text/plain": [
       "<selenium.webdriver.remote.webelement.WebElement (session=\"ba51fcd1a1bc41dec611cca0306e5511\", element=\"0.5505735746420946-4\")>"
      ]
     },
     "metadata": {},
     "output_type": "display_data"
    },
    {
     "data": {
      "text/plain": [
       "{'name': '쉬어 립스틱 - 크루징',\n",
       " 'url': 'http://www.narscosmetics.co.kr/on/demandware.store/Sites-KR-Site/en_KR/Product-Variation?pid=999NACSHRLS01&dwvar_999NACSHRLS01_color=7845010883',\n",
       " 'image': ['http://en.narscosmetics.co.kr/on/demandware.static/-/Sites-itemmaster_NARS/default/dw1e133be2/hi-res/0607845010883.jpg',\n",
       "  'http://en.narscosmetics.co.kr/on/demandware.static/-/Sites-itemmaster_NARS/default/dwf96d17a7/alt1/0607845010883.jpg',\n",
       "  'http://en.narscosmetics.co.kr/on/demandware.static/Sites-KR-Site/-/en_KR/v1546225498151/images/noimageshadesmall.png'],\n",
       " 'salePrice': '₩ 37,000',\n",
       " 'originalPrice': '₩ 37,000',\n",
       " 'color': '크루징',\n",
       " 'category': '',\n",
       " 'brand': '나스',\n",
       " 'volume': '#'}"
      ]
     },
     "metadata": {},
     "output_type": "display_data"
    },
    {
     "data": {
      "text/plain": [
       "<selenium.webdriver.remote.webelement.WebElement (session=\"ba51fcd1a1bc41dec611cca0306e5511\", element=\"0.30337488645950494-4\")>"
      ]
     },
     "metadata": {},
     "output_type": "display_data"
    },
    {
     "data": {
      "text/plain": [
       "{'name': '쉬어 립스틱 - 데미지',\n",
       " 'url': 'http://www.narscosmetics.co.kr/on/demandware.store/Sites-KR-Site/en_KR/Product-Variation?pid=999NACSHRLS01&dwvar_999NACSHRLS01_color=7845010524',\n",
       " 'image': ['http://en.narscosmetics.co.kr/on/demandware.static/-/Sites-itemmaster_NARS/default/dw4bb0a538/hi-res/0607845010524.jpg',\n",
       "  'http://en.narscosmetics.co.kr/on/demandware.static/-/Sites-itemmaster_NARS/default/dwcfd6f021/alt1/0607845010524.jpg',\n",
       "  'http://en.narscosmetics.co.kr/on/demandware.static/Sites-KR-Site/-/en_KR/v1546225498151/images/noimageshadesmall.png'],\n",
       " 'salePrice': '₩ 37,000',\n",
       " 'originalPrice': '₩ 37,000',\n",
       " 'color': '데미지',\n",
       " 'category': '',\n",
       " 'brand': '나스',\n",
       " 'volume': '#'}"
      ]
     },
     "metadata": {},
     "output_type": "display_data"
    },
    {
     "data": {
      "text/plain": [
       "<selenium.webdriver.remote.webelement.WebElement (session=\"ba51fcd1a1bc41dec611cca0306e5511\", element=\"0.1087740592259483-4\")>"
      ]
     },
     "metadata": {},
     "output_type": "display_data"
    },
    {
     "data": {
      "text/plain": [
       "{'name': '쉬어 립스틱',\n",
       " 'url': 'http://www.narscosmetics.co.kr/on/demandware.store/Sites-KR-Site/en_KR/Product-Variation?pid=999NACSHRLS01&dwvar_999NACSHRLS01_color=',\n",
       " 'image': ['http://en.narscosmetics.co.kr/on/demandware.static/-/Sites-itemmaster_NARS/default/dw56f0e575/hi-res/0607845010289.jpg',\n",
       "  'http://en.narscosmetics.co.kr/on/demandware.static/-/Sites-itemmaster_NARS/default/dw0c3adf05/alt1/0607845010289.jpg',\n",
       "  'http://en.narscosmetics.co.kr/on/demandware.static/Sites-KR-Site/-/en_KR/v1546225498151/images/noimageshadesmall.png'],\n",
       " 'salePrice': '₩ 37,000',\n",
       " 'originalPrice': '₩ 37,000',\n",
       " 'color': '바바렐라',\n",
       " 'category': '',\n",
       " 'brand': '나스',\n",
       " 'volume': '#'}"
      ]
     },
     "metadata": {},
     "output_type": "display_data"
    },
    {
     "data": {
      "text/plain": [
       "<selenium.webdriver.remote.webelement.WebElement (session=\"ba51fcd1a1bc41dec611cca0306e5511\", element=\"0.8998865624017973-4\")>"
      ]
     },
     "metadata": {},
     "output_type": "display_data"
    },
    {
     "data": {
      "text/plain": [
       "{'name': '쉬어 립스틱 - 팔발라',\n",
       " 'url': 'http://www.narscosmetics.co.kr/on/demandware.store/Sites-KR-Site/en_KR/Product-Variation?pid=999NACSHRLS01&dwvar_999NACSHRLS01_color=7845010869',\n",
       " 'image': ['http://en.narscosmetics.co.kr/on/demandware.static/-/Sites-itemmaster_NARS/default/dwae05445f/hi-res/0607845010869.jpg',\n",
       "  'http://en.narscosmetics.co.kr/on/demandware.static/-/Sites-itemmaster_NARS/default/dwf91ea59d/alt1/0607845010869.jpg',\n",
       "  'http://en.narscosmetics.co.kr/on/demandware.static/Sites-KR-Site/-/en_KR/v1546225498151/images/noimageshadesmall.png'],\n",
       " 'salePrice': '₩ 37,000',\n",
       " 'originalPrice': '₩ 37,000',\n",
       " 'color': '팔발라',\n",
       " 'category': '',\n",
       " 'brand': '나스',\n",
       " 'volume': '#'}"
      ]
     },
     "metadata": {},
     "output_type": "display_data"
    },
    {
     "data": {
      "text/plain": [
       "<selenium.webdriver.remote.webelement.WebElement (session=\"ba51fcd1a1bc41dec611cca0306e5511\", element=\"0.21370222514838488-4\")>"
      ]
     },
     "metadata": {},
     "output_type": "display_data"
    },
    {
     "data": {
      "text/plain": [
       "{'name': '쉬어 립스틱 - 패스트 라이드',\n",
       " 'url': 'http://www.narscosmetics.co.kr/on/demandware.store/Sites-KR-Site/en_KR/Product-Variation?pid=999NACSHRLS01&dwvar_999NACSHRLS01_color=7845010876',\n",
       " 'image': ['http://en.narscosmetics.co.kr/on/demandware.static/-/Sites-itemmaster_NARS/default/dwea952252/hi-res/0607845010876.jpg',\n",
       "  'http://en.narscosmetics.co.kr/on/demandware.static/-/Sites-itemmaster_NARS/default/dw85002360/alt1/0607845010876.jpg',\n",
       "  'http://en.narscosmetics.co.kr/on/demandware.static/Sites-KR-Site/-/en_KR/v1546225498151/images/noimageshadesmall.png'],\n",
       " 'salePrice': '₩ 37,000',\n",
       " 'originalPrice': '₩ 37,000',\n",
       " 'color': '패스트 라이드',\n",
       " 'category': '',\n",
       " 'brand': '나스',\n",
       " 'volume': '#'}"
      ]
     },
     "metadata": {},
     "output_type": "display_data"
    },
    {
     "data": {
      "text/plain": [
       "<selenium.webdriver.remote.webelement.WebElement (session=\"ba51fcd1a1bc41dec611cca0306e5511\", element=\"0.4650708838695996-4\")>"
      ]
     },
     "metadata": {},
     "output_type": "display_data"
    },
    {
     "data": {
      "text/plain": [
       "{'name': '쉬어 립스틱 - 집시',\n",
       " 'url': 'http://www.narscosmetics.co.kr/on/demandware.store/Sites-KR-Site/en_KR/Product-Variation?pid=999NACSHRLS01&dwvar_999NACSHRLS01_color=7845010265',\n",
       " 'image': ['http://en.narscosmetics.co.kr/on/demandware.static/-/Sites-itemmaster_NARS/default/dwd5a84c4d/hi-res/0607845010265.jpg',\n",
       "  'http://en.narscosmetics.co.kr/on/demandware.static/-/Sites-itemmaster_NARS/default/dwc73d343b/alt1/0607845010265.jpg',\n",
       "  'http://en.narscosmetics.co.kr/on/demandware.static/Sites-KR-Site/-/en_KR/v1546225498151/images/noimageshadesmall.png'],\n",
       " 'salePrice': '₩ 37,000',\n",
       " 'originalPrice': '₩ 37,000',\n",
       " 'color': '집시',\n",
       " 'category': '',\n",
       " 'brand': '나스',\n",
       " 'volume': '#'}"
      ]
     },
     "metadata": {},
     "output_type": "display_data"
    },
    {
     "data": {
      "text/plain": [
       "<selenium.webdriver.remote.webelement.WebElement (session=\"ba51fcd1a1bc41dec611cca0306e5511\", element=\"0.6242955280091154-4\")>"
      ]
     },
     "metadata": {},
     "output_type": "display_data"
    },
    {
     "data": {
      "text/plain": [
       "{'name': '쉬어 립스틱 - 리구리아',\n",
       " 'url': 'http://www.narscosmetics.co.kr/on/demandware.store/Sites-KR-Site/en_KR/Product-Variation?pid=999NACSHRLS01&dwvar_999NACSHRLS01_color=7845093046',\n",
       " 'image': ['http://en.narscosmetics.co.kr/on/demandware.static/-/Sites-itemmaster_NARS/default/dw14a59c58/hi-res/0607845093046.jpg',\n",
       "  'http://en.narscosmetics.co.kr/on/demandware.static/-/Sites-itemmaster_NARS/default/dw13db9277/alt1/0607845093046.jpg',\n",
       "  'http://en.narscosmetics.co.kr/on/demandware.static/Sites-KR-Site/-/en_KR/v1546225498151/images/noimageshadesmall.png'],\n",
       " 'salePrice': '₩ 37,000',\n",
       " 'originalPrice': '₩ 37,000',\n",
       " 'color': '리구리아',\n",
       " 'category': '',\n",
       " 'brand': '나스',\n",
       " 'volume': '#'}"
      ]
     },
     "metadata": {},
     "output_type": "display_data"
    },
    {
     "data": {
      "text/plain": [
       "<selenium.webdriver.remote.webelement.WebElement (session=\"ba51fcd1a1bc41dec611cca0306e5511\", element=\"0.2846364418203504-4\")>"
      ]
     },
     "metadata": {},
     "output_type": "display_data"
    },
    {
     "data": {
      "text/plain": [
       "{'name': '쉬어 립스틱 - 맨헌트',\n",
       " 'url': 'http://www.narscosmetics.co.kr/on/demandware.store/Sites-KR-Site/en_KR/Product-Variation?pid=999NACSHRLS01&dwvar_999NACSHRLS01_color=7845010784',\n",
       " 'image': ['http://en.narscosmetics.co.kr/on/demandware.static/-/Sites-itemmaster_NARS/default/dw3ac8d26e/hi-res/0607845010784.jpg',\n",
       "  'http://en.narscosmetics.co.kr/on/demandware.static/-/Sites-itemmaster_NARS/default/dwe3196f4a/alt1/0607845010784.jpg',\n",
       "  'http://en.narscosmetics.co.kr/on/demandware.static/Sites-KR-Site/-/en_KR/v1546225498151/images/noimageshadesmall.png'],\n",
       " 'salePrice': '₩ 37,000',\n",
       " 'originalPrice': '₩ 37,000',\n",
       " 'color': '맨헌트',\n",
       " 'category': '',\n",
       " 'brand': '나스',\n",
       " 'volume': '#'}"
      ]
     },
     "metadata": {},
     "output_type": "display_data"
    },
    {
     "data": {
      "text/plain": [
       "<selenium.webdriver.remote.webelement.WebElement (session=\"ba51fcd1a1bc41dec611cca0306e5511\", element=\"0.8447469943072685-4\")>"
      ]
     },
     "metadata": {},
     "output_type": "display_data"
    },
    {
     "data": {
      "text/plain": [
       "{'name': '쉬어 립스틱 - 로만 홀리데이',\n",
       " 'url': 'http://www.narscosmetics.co.kr/on/demandware.store/Sites-KR-Site/en_KR/Product-Variation?pid=999NACSHRLS01&dwvar_999NACSHRLS01_color=7845010296',\n",
       " 'image': ['http://en.narscosmetics.co.kr/on/demandware.static/-/Sites-itemmaster_NARS/default/dw05d446b7/hi-res/0607845010296.jpg',\n",
       "  'http://en.narscosmetics.co.kr/on/demandware.static/-/Sites-itemmaster_NARS/default/dw7a774163/alt1/0607845010296.jpg',\n",
       "  'http://en.narscosmetics.co.kr/on/demandware.static/Sites-KR-Site/-/en_KR/v1546225498151/images/noimageshadesmall.png'],\n",
       " 'salePrice': '₩ 37,000',\n",
       " 'originalPrice': '₩ 37,000',\n",
       " 'color': '로만 홀리데이',\n",
       " 'category': '',\n",
       " 'brand': '나스',\n",
       " 'volume': '#'}"
      ]
     },
     "metadata": {},
     "output_type": "display_data"
    },
    {
     "data": {
      "text/plain": [
       "<selenium.webdriver.remote.webelement.WebElement (session=\"ba51fcd1a1bc41dec611cca0306e5511\", element=\"0.05895478273535448-4\")>"
      ]
     },
     "metadata": {},
     "output_type": "display_data"
    },
    {
     "data": {
      "text/plain": [
       "{'name': '쉬어 립스틱 - 슈리나가르',\n",
       " 'url': 'http://www.narscosmetics.co.kr/on/demandware.store/Sites-KR-Site/en_KR/Product-Variation?pid=999NACSHRLS01&dwvar_999NACSHRLS01_color=7845010845',\n",
       " 'image': ['http://en.narscosmetics.co.kr/on/demandware.static/-/Sites-itemmaster_NARS/default/dw382b7645/hi-res/0607845010845.jpg',\n",
       "  'http://en.narscosmetics.co.kr/on/demandware.static/-/Sites-itemmaster_NARS/default/dw3c0d6c13/alt1/0607845010845.jpg',\n",
       "  'http://en.narscosmetics.co.kr/on/demandware.static/Sites-KR-Site/-/en_KR/v1546225498151/images/noimageshadesmall.png'],\n",
       " 'salePrice': '₩ 37,000',\n",
       " 'originalPrice': '₩ 37,000',\n",
       " 'color': '슈리나가르',\n",
       " 'category': '',\n",
       " 'brand': '나스',\n",
       " 'volume': '#'}"
      ]
     },
     "metadata": {},
     "output_type": "display_data"
    },
    {
     "data": {
      "text/plain": [
       "<selenium.webdriver.remote.webelement.WebElement (session=\"ba51fcd1a1bc41dec611cca0306e5511\", element=\"0.4486088112788955-4\")>"
      ]
     },
     "metadata": {},
     "output_type": "display_data"
    },
    {
     "data": {
      "text/plain": [
       "{'name': '쉬어 립스틱 - 탕가니카',\n",
       " 'url': 'http://www.narscosmetics.co.kr/on/demandware.store/Sites-KR-Site/en_KR/Product-Variation?pid=999NACSHRLS01&dwvar_999NACSHRLS01_color=7845010258',\n",
       " 'image': ['http://en.narscosmetics.co.kr/on/demandware.static/-/Sites-itemmaster_NARS/default/dwb5cef8bc/hi-res/0607845010258.jpg',\n",
       "  'http://en.narscosmetics.co.kr/on/demandware.static/-/Sites-itemmaster_NARS/default/dw6bc6f2c5/alt1/0607845010258.jpg',\n",
       "  'http://en.narscosmetics.co.kr/on/demandware.static/Sites-KR-Site/-/en_KR/v1546225498151/images/noimageshadesmall.png'],\n",
       " 'salePrice': '₩ 37,000',\n",
       " 'originalPrice': '₩ 37,000',\n",
       " 'color': '탕가니카',\n",
       " 'category': '',\n",
       " 'brand': '나스',\n",
       " 'volume': '#'}"
      ]
     },
     "metadata": {},
     "output_type": "display_data"
    },
    {
     "data": {
      "text/plain": [
       "{'name': '나스 벨벳 매트 립 펜슬 세트 매닉',\n",
       " 'url': 'http://www.narscosmetics.co.kr/manic-velvet-matte-lip-pencil-set/0607845083818.html',\n",
       " 'image': ['http://en.narscosmetics.co.kr/on/demandware.static/-/Sites-itemmaster_NARS/default/dw381ba9ea/hi-res/0607845083818.jpg'],\n",
       " 'salePrice': '₩ 79,000',\n",
       " 'originalPrice': '₩ 79,000',\n",
       " 'color': '#',\n",
       " 'category': '',\n",
       " 'brand': '나스',\n",
       " 'volume': '#'}"
      ]
     },
     "metadata": {},
     "output_type": "display_data"
    },
    {
     "data": {
      "text/plain": [
       "<selenium.webdriver.remote.webelement.WebElement (session=\"ba51fcd1a1bc41dec611cca0306e5511\", element=\"0.36488964732248896-3\")>"
      ]
     },
     "metadata": {},
     "output_type": "display_data"
    },
    {
     "data": {
      "text/plain": [
       "{'name': '세미 매트 립스틱 - 브레이킹 프리',\n",
       " 'url': 'http://www.narscosmetics.co.kr/on/demandware.store/Sites-KR-Site/en_KR/Product-Variation?pid=999NACSMTLS01&dwvar_999NACSMTLS01_color=7845094074',\n",
       " 'image': ['http://en.narscosmetics.co.kr/on/demandware.static/-/Sites-itemmaster_NARS/default/dwd4c6c5a1/hi-res/0607845094074.jpg',\n",
       "  'http://en.narscosmetics.co.kr/on/demandware.static/-/Sites-itemmaster_NARS/default/dwbfe901cf/swatch/0607845094074.jpg'],\n",
       " 'salePrice': '₩ 37,000',\n",
       " 'originalPrice': '₩ 37,000',\n",
       " 'color': '브레이킹 프리',\n",
       " 'category': '',\n",
       " 'brand': '나스',\n",
       " 'volume': '#'}"
      ]
     },
     "metadata": {},
     "output_type": "display_data"
    },
    {
     "data": {
      "text/plain": [
       "<selenium.webdriver.remote.webelement.WebElement (session=\"ba51fcd1a1bc41dec611cca0306e5511\", element=\"0.6197982192007148-3\")>"
      ]
     },
     "metadata": {},
     "output_type": "display_data"
    },
    {
     "data": {
      "text/plain": [
       "{'name': '세미 매트 립스틱 - 캣파이트',\n",
       " 'url': 'http://www.narscosmetics.co.kr/on/demandware.store/Sites-KR-Site/en_KR/Product-Variation?pid=999NACSMTLS01&dwvar_999NACSMTLS01_color=7845010500',\n",
       " 'image': ['http://en.narscosmetics.co.kr/on/demandware.static/-/Sites-itemmaster_NARS/default/dwcf5a67d2/hi-res/0607845010500.jpg',\n",
       "  'http://en.narscosmetics.co.kr/on/demandware.static/-/Sites-itemmaster_NARS/default/dw5184ce83/swatch/0607845010500.jpg'],\n",
       " 'salePrice': '₩ 37,000',\n",
       " 'originalPrice': '₩ 37,000',\n",
       " 'color': '캣파이트',\n",
       " 'category': '',\n",
       " 'brand': '나스',\n",
       " 'volume': '#'}"
      ]
     },
     "metadata": {},
     "output_type": "display_data"
    },
    {
     "data": {
      "text/plain": [
       "<selenium.webdriver.remote.webelement.WebElement (session=\"ba51fcd1a1bc41dec611cca0306e5511\", element=\"0.8398818823208354-3\")>"
      ]
     },
     "metadata": {},
     "output_type": "display_data"
    },
    {
     "data": {
      "text/plain": [
       "{'name': '세미 매트 립스틱 - 파이어 다운 빌로우',\n",
       " 'url': 'http://www.narscosmetics.co.kr/on/demandware.store/Sites-KR-Site/en_KR/Product-Variation?pid=999NACSMTLS01&dwvar_999NACSMTLS01_color=7845010227',\n",
       " 'image': ['http://en.narscosmetics.co.kr/on/demandware.static/-/Sites-itemmaster_NARS/default/dwec9aaf76/hi-res/0607845010227.jpg',\n",
       "  'http://en.narscosmetics.co.kr/on/demandware.static/-/Sites-itemmaster_NARS/default/dw1e372a58/swatch/0607845010227.jpg'],\n",
       " 'salePrice': '₩ 37,000',\n",
       " 'originalPrice': '₩ 37,000',\n",
       " 'color': '파이어 다운 빌로우',\n",
       " 'category': '',\n",
       " 'brand': '나스',\n",
       " 'volume': '#'}"
      ]
     },
     "metadata": {},
     "output_type": "display_data"
    },
    {
     "data": {
      "text/plain": [
       "<selenium.webdriver.remote.webelement.WebElement (session=\"ba51fcd1a1bc41dec611cca0306e5511\", element=\"0.9074460811400391-3\")>"
      ]
     },
     "metadata": {},
     "output_type": "display_data"
    },
    {
     "data": {
      "text/plain": [
       "{'name': '세미 매트 립스틱 - 퍼니 페이스',\n",
       " 'url': 'http://www.narscosmetics.co.kr/on/demandware.store/Sites-KR-Site/en_KR/Product-Variation?pid=999NACSMTLS01&dwvar_999NACSMTLS01_color=7845010098',\n",
       " 'image': ['http://en.narscosmetics.co.kr/on/demandware.static/-/Sites-itemmaster_NARS/default/dw4b8c52d0/hi-res/0607845010098.jpg',\n",
       "  'http://en.narscosmetics.co.kr/on/demandware.static/-/Sites-itemmaster_NARS/default/dw300bf49e/swatch/0607845010098.jpg'],\n",
       " 'salePrice': '₩ 37,000',\n",
       " 'originalPrice': '₩ 37,000',\n",
       " 'color': '퍼니 페이스',\n",
       " 'category': '',\n",
       " 'brand': '나스',\n",
       " 'volume': '#'}"
      ]
     },
     "metadata": {},
     "output_type": "display_data"
    },
    {
     "data": {
      "text/plain": [
       "<selenium.webdriver.remote.webelement.WebElement (session=\"ba51fcd1a1bc41dec611cca0306e5511\", element=\"0.9254437119078618-3\")>"
      ]
     },
     "metadata": {},
     "output_type": "display_data"
    },
    {
     "data": {
      "text/plain": [
       "{'name': '세미 매트 립스틱 - 히트 웨이브',\n",
       " 'url': 'http://www.narscosmetics.co.kr/on/demandware.store/Sites-KR-Site/en_KR/Product-Variation?pid=999NACSMTLS01&dwvar_999NACSMTLS01_color=7845010104',\n",
       " 'image': ['http://en.narscosmetics.co.kr/on/demandware.static/-/Sites-itemmaster_NARS/default/dwf9f6ac3a/hi-res/0607845010104.jpg',\n",
       "  'http://en.narscosmetics.co.kr/on/demandware.static/-/Sites-itemmaster_NARS/default/dwc5c84739/swatch/0607845010104.jpg'],\n",
       " 'salePrice': '₩ 37,000',\n",
       " 'originalPrice': '₩ 37,000',\n",
       " 'color': '히트 웨이브',\n",
       " 'category': '',\n",
       " 'brand': '나스',\n",
       " 'volume': '#'}"
      ]
     },
     "metadata": {},
     "output_type": "display_data"
    },
    {
     "data": {
      "text/plain": [
       "<selenium.webdriver.remote.webelement.WebElement (session=\"ba51fcd1a1bc41dec611cca0306e5511\", element=\"0.7279263952786772-3\")>"
      ]
     },
     "metadata": {},
     "output_type": "display_data"
    },
    {
     "data": {
      "text/plain": [
       "{'name': '세미 매트 립스틱',\n",
       " 'url': 'http://www.narscosmetics.co.kr/on/demandware.store/Sites-KR-Site/en_KR/Product-Variation?pid=999NACSMTLS01&dwvar_999NACSMTLS01_color=',\n",
       " 'image': ['http://en.narscosmetics.co.kr/on/demandware.static/-/Sites-itemmaster_NARS/default/dw3976fd1b/hi-res/0607845010111.jpg',\n",
       "  'http://en.narscosmetics.co.kr/on/demandware.static/-/Sites-itemmaster_NARS/default/dwec95e797/swatch/0607845010111.jpg'],\n",
       " 'salePrice': '₩ 37,000',\n",
       " 'originalPrice': '₩ 37,000',\n",
       " 'color': '브레이킹 프리',\n",
       " 'category': '',\n",
       " 'brand': '나스',\n",
       " 'volume': '#'}"
      ]
     },
     "metadata": {},
     "output_type": "display_data"
    },
    {
     "data": {
      "text/plain": [
       "<selenium.webdriver.remote.webelement.WebElement (session=\"ba51fcd1a1bc41dec611cca0306e5511\", element=\"0.532657752242738-3\")>"
      ]
     },
     "metadata": {},
     "output_type": "display_data"
    },
    {
     "data": {
      "text/plain": [
       "{'name': '세미 매트 립스틱 - 모로코',\n",
       " 'url': 'http://www.narscosmetics.co.kr/on/demandware.store/Sites-KR-Site/en_KR/Product-Variation?pid=999NACSMTLS01&dwvar_999NACSMTLS01_color=7845010036',\n",
       " 'image': ['http://en.narscosmetics.co.kr/on/demandware.static/-/Sites-itemmaster_NARS/default/dw3169b582/hi-res/0607845010036.jpg',\n",
       "  'http://en.narscosmetics.co.kr/on/demandware.static/-/Sites-itemmaster_NARS/default/dw671f44f2/swatch/0607845010036.jpg'],\n",
       " 'salePrice': '₩ 37,000',\n",
       " 'originalPrice': '₩ 37,000',\n",
       " 'color': '모로코',\n",
       " 'category': '',\n",
       " 'brand': '나스',\n",
       " 'volume': '#'}"
      ]
     },
     "metadata": {},
     "output_type": "display_data"
    },
    {
     "data": {
      "text/plain": [
       "<selenium.webdriver.remote.webelement.WebElement (session=\"ba51fcd1a1bc41dec611cca0306e5511\", element=\"0.6742201119094764-3\")>"
      ]
     },
     "metadata": {},
     "output_type": "display_data"
    },
    {
     "data": {
      "text/plain": [
       "{'name': '세미 매트 립스틱 - 피걀',\n",
       " 'url': 'http://www.narscosmetics.co.kr/on/demandware.store/Sites-KR-Site/en_KR/Product-Variation?pid=999NACSMTLS01&dwvar_999NACSMTLS01_color=7845010173',\n",
       " 'image': ['http://en.narscosmetics.co.kr/on/demandware.static/-/Sites-itemmaster_NARS/default/dwdacc1f4b/hi-res/0607845010173.jpg',\n",
       "  'http://en.narscosmetics.co.kr/on/demandware.static/-/Sites-itemmaster_NARS/default/dwd935d7d0/swatch/0607845010173.jpg'],\n",
       " 'salePrice': '₩ 37,000',\n",
       " 'originalPrice': '₩ 37,000',\n",
       " 'color': '피걀',\n",
       " 'category': '',\n",
       " 'brand': '나스',\n",
       " 'volume': '#'}"
      ]
     },
     "metadata": {},
     "output_type": "display_data"
    },
    {
     "data": {
      "text/plain": [
       "<selenium.webdriver.remote.webelement.WebElement (session=\"ba51fcd1a1bc41dec611cca0306e5511\", element=\"0.26050906077750424-3\")>"
      ]
     },
     "metadata": {},
     "output_type": "display_data"
    },
    {
     "data": {
      "text/plain": [
       "{'name': '세미 매트 립스틱 - 레드 리자드',\n",
       " 'url': 'http://www.narscosmetics.co.kr/on/demandware.store/Sites-KR-Site/en_KR/Product-Variation?pid=999NACSMTLS01&dwvar_999NACSMTLS01_color=7845010050',\n",
       " 'image': ['http://en.narscosmetics.co.kr/on/demandware.static/-/Sites-itemmaster_NARS/default/dwc218415b/hi-res/0607845010050.jpg',\n",
       "  'http://en.narscosmetics.co.kr/on/demandware.static/-/Sites-itemmaster_NARS/default/dw22480226/swatch/0607845010050.jpg'],\n",
       " 'salePrice': '₩ 37,000',\n",
       " 'originalPrice': '₩ 37,000',\n",
       " 'color': '레드 리자드',\n",
       " 'category': '',\n",
       " 'brand': '나스',\n",
       " 'volume': '#'}"
      ]
     },
     "metadata": {},
     "output_type": "display_data"
    },
    {
     "data": {
      "text/plain": [
       "<selenium.webdriver.remote.webelement.WebElement (session=\"ba51fcd1a1bc41dec611cca0306e5511\", element=\"0.2006195062412799-3\")>"
      ]
     },
     "metadata": {},
     "output_type": "display_data"
    },
    {
     "data": {
      "text/plain": [
       "{'name': '세미 매트 립스틱 - 스칼렛 엠퍼러스',\n",
       " 'url': 'http://www.narscosmetics.co.kr/on/demandware.store/Sites-KR-Site/en_KR/Product-Variation?pid=999NACSMTLS01&dwvar_999NACSMTLS01_color=7845010081',\n",
       " 'image': ['http://en.narscosmetics.co.kr/on/demandware.static/-/Sites-itemmaster_NARS/default/dw427bd544/hi-res/0607845010081.jpg',\n",
       "  'http://en.narscosmetics.co.kr/on/demandware.static/-/Sites-itemmaster_NARS/default/dw55884ac7/swatch/0607845010081.jpg'],\n",
       " 'salePrice': '₩ 37,000',\n",
       " 'originalPrice': '₩ 37,000',\n",
       " 'color': '스칼렛 엠퍼러스',\n",
       " 'category': '',\n",
       " 'brand': '나스',\n",
       " 'volume': '#'}"
      ]
     },
     "metadata": {},
     "output_type": "display_data"
    },
    {
     "data": {
      "text/plain": [
       "<selenium.webdriver.remote.webelement.WebElement (session=\"ba51fcd1a1bc41dec611cca0306e5511\", element=\"0.3132584825370335-3\")>"
      ]
     },
     "metadata": {},
     "output_type": "display_data"
    },
    {
     "data": {
      "text/plain": [
       "{'name': '세미 매트 립스틱 - 스키압',\n",
       " 'url': 'http://www.narscosmetics.co.kr/on/demandware.store/Sites-KR-Site/en_KR/Product-Variation?pid=999NACSMTLS01&dwvar_999NACSMTLS01_color=7845010418',\n",
       " 'image': ['http://en.narscosmetics.co.kr/on/demandware.static/-/Sites-itemmaster_NARS/default/dw50e3f311/hi-res/0607845010418.jpg',\n",
       "  'http://en.narscosmetics.co.kr/on/demandware.static/-/Sites-itemmaster_NARS/default/dw9809eef6/swatch/0607845010418.jpg'],\n",
       " 'salePrice': '₩ 37,000',\n",
       " 'originalPrice': '₩ 37,000',\n",
       " 'color': '스키압',\n",
       " 'category': '',\n",
       " 'brand': '나스',\n",
       " 'volume': '#'}"
      ]
     },
     "metadata": {},
     "output_type": "display_data"
    },
    {
     "data": {
      "text/plain": [
       "<selenium.webdriver.remote.webelement.WebElement (session=\"ba51fcd1a1bc41dec611cca0306e5511\", element=\"0.003174593479841281-3\")>"
      ]
     },
     "metadata": {},
     "output_type": "display_data"
    },
    {
     "data": {
      "text/plain": [
       "{'name': '세미 매트 립스틱 - 상하이 익스프레스',\n",
       " 'url': 'http://www.narscosmetics.co.kr/on/demandware.store/Sites-KR-Site/en_KR/Product-Variation?pid=999NACSMTLS01&dwvar_999NACSMTLS01_color=7845010067',\n",
       " 'image': ['http://en.narscosmetics.co.kr/on/demandware.static/-/Sites-itemmaster_NARS/default/dwbce16630/hi-res/0607845010067.jpg',\n",
       "  'http://en.narscosmetics.co.kr/on/demandware.static/-/Sites-itemmaster_NARS/default/dw20c6a7cc/swatch/0607845010067.jpg'],\n",
       " 'salePrice': '₩ 37,000',\n",
       " 'originalPrice': '₩ 37,000',\n",
       " 'color': '상하이 익스프레스',\n",
       " 'category': '',\n",
       " 'brand': '나스',\n",
       " 'volume': '#'}"
      ]
     },
     "metadata": {},
     "output_type": "display_data"
    },
    {
     "data": {
      "text/plain": [
       "<selenium.webdriver.remote.webelement.WebElement (session=\"ba51fcd1a1bc41dec611cca0306e5511\", element=\"0.6681281256009215-3\")>"
      ]
     },
     "metadata": {},
     "output_type": "display_data"
    },
    {
     "data": {
      "text/plain": [
       "{'name': '세미 매트 립스틱 - 트랜스 시베리안',\n",
       " 'url': 'http://www.narscosmetics.co.kr/on/demandware.store/Sites-KR-Site/en_KR/Product-Variation?pid=999NACSMTLS01&dwvar_999NACSMTLS01_color=7845010074',\n",
       " 'image': ['http://en.narscosmetics.co.kr/on/demandware.static/-/Sites-itemmaster_NARS/default/dwca865c06/hi-res/0607845010074.jpg',\n",
       "  'http://en.narscosmetics.co.kr/on/demandware.static/-/Sites-itemmaster_NARS/default/dw976524d3/swatch/0607845010074.jpg'],\n",
       " 'salePrice': '₩ 37,000',\n",
       " 'originalPrice': '₩ 37,000',\n",
       " 'color': '트랜스 시베리안',\n",
       " 'category': '',\n",
       " 'brand': '나스',\n",
       " 'volume': '#'}"
      ]
     },
     "metadata": {},
     "output_type": "display_data"
    },
    {
     "data": {
      "text/plain": [
       "<selenium.webdriver.remote.webelement.WebElement (session=\"ba51fcd1a1bc41dec611cca0306e5511\", element=\"0.07169090930185429-3\")>"
      ]
     },
     "metadata": {},
     "output_type": "display_data"
    },
    {
     "data": {
      "text/plain": [
       "{'name': '세미 매트 립스틱 - 트랜스유럽 익스프레스',\n",
       " 'url': 'http://www.narscosmetics.co.kr/on/demandware.store/Sites-KR-Site/en_KR/Product-Variation?pid=999NACSMTLS01&dwvar_999NACSMTLS01_color=7845010128',\n",
       " 'image': ['http://en.narscosmetics.co.kr/on/demandware.static/-/Sites-itemmaster_NARS/default/dw5d749f89/hi-res/0607845010128.jpg',\n",
       "  'http://en.narscosmetics.co.kr/on/demandware.static/-/Sites-itemmaster_NARS/default/dwebd455f3/swatch/0607845010128.jpg'],\n",
       " 'salePrice': '₩ 37,000',\n",
       " 'originalPrice': '₩ 37,000',\n",
       " 'color': '트랜스유럽 익스프레스',\n",
       " 'category': '',\n",
       " 'brand': '나스',\n",
       " 'volume': '#'}"
      ]
     },
     "metadata": {},
     "output_type": "display_data"
    },
    {
     "data": {
      "text/plain": [
       "<selenium.webdriver.remote.webelement.WebElement (session=\"ba51fcd1a1bc41dec611cca0306e5511\", element=\"0.5278056327259748-6\")>"
      ]
     },
     "metadata": {},
     "output_type": "display_data"
    },
    {
     "data": {
      "text/plain": [
       "{'name': '립스틱',\n",
       " 'url': 'http://www.narscosmetics.co.kr/on/demandware.store/Sites-KR-Site/en_KR/Product-Variation?pid=999NAC0000067&dwvar_999NAC0000067_color=',\n",
       " 'image': ['http://en.narscosmetics.co.kr/on/demandware.static/-/Sites-itemmaster_NARS/default/dw7a930e9d/hi-res/0607845094098.png',\n",
       "  'http://en.narscosmetics.co.kr/on/demandware.static/-/Sites-itemmaster_NARS/default/dw171a3f3a/alt1/erdem1.jpg',\n",
       "  'http://en.narscosmetics.co.kr/on/demandware.static/-/Sites-itemmaster_NARS/default/dw819233a3/alt3/0607845094098.jpg',\n",
       "  'http://en.narscosmetics.co.kr/on/demandware.static/-/Sites-itemmaster_NARS/default/dwad74a757/alt4/0607845094098.jpg',\n",
       "  'http://en.narscosmetics.co.kr/on/demandware.static/Sites-KR-Site/-/en_KR/v1546225498151/images/noimageshadesmall.png'],\n",
       " 'salePrice': '₩ 37,000',\n",
       " 'originalPrice': '₩ 37,000',\n",
       " 'color': '블러드플라워',\n",
       " 'category': '',\n",
       " 'brand': '나스',\n",
       " 'volume': '#'}"
      ]
     },
     "metadata": {},
     "output_type": "display_data"
    },
    {
     "data": {
      "text/plain": [
       "<selenium.webdriver.remote.webelement.WebElement (session=\"ba51fcd1a1bc41dec611cca0306e5511\", element=\"0.5177517334990198-6\")>"
      ]
     },
     "metadata": {},
     "output_type": "display_data"
    },
    {
     "data": {
      "text/plain": [
       "{'name': '립스틱 - 카날 카네이션',\n",
       " 'url': 'http://www.narscosmetics.co.kr/on/demandware.store/Sites-KR-Site/en_KR/Product-Variation?pid=999NAC0000067&dwvar_999NAC0000067_color=7845094142',\n",
       " 'image': ['http://en.narscosmetics.co.kr/on/demandware.static/-/Sites-itemmaster_NARS/default/dwcc0bbd58/hi-res/0607845094142.png',\n",
       "  'http://en.narscosmetics.co.kr/on/demandware.static/-/Sites-itemmaster_NARS/default/dw171a3f3a/alt1/erdem1.jpg',\n",
       "  'http://en.narscosmetics.co.kr/on/demandware.static/-/Sites-itemmaster_NARS/default/dw819233a3/alt3/0607845094142.jpg',\n",
       "  'http://en.narscosmetics.co.kr/on/demandware.static/-/Sites-itemmaster_NARS/default/dwad74a757/alt4/0607845094142.jpg',\n",
       "  'http://en.narscosmetics.co.kr/on/demandware.static/Sites-KR-Site/-/en_KR/v1546225498151/images/noimageshadesmall.png'],\n",
       " 'salePrice': '₩ 37,000',\n",
       " 'originalPrice': '₩ 37,000',\n",
       " 'color': '카날 카네이션',\n",
       " 'category': '',\n",
       " 'brand': '나스',\n",
       " 'volume': '#'}"
      ]
     },
     "metadata": {},
     "output_type": "display_data"
    },
    {
     "data": {
      "text/plain": [
       "<selenium.webdriver.remote.webelement.WebElement (session=\"ba51fcd1a1bc41dec611cca0306e5511\", element=\"0.15580235960223243-6\")>"
      ]
     },
     "metadata": {},
     "output_type": "display_data"
    },
    {
     "data": {
      "text/plain": [
       "{'name': '립스틱 - 라크스퍼',\n",
       " 'url': 'http://www.narscosmetics.co.kr/on/demandware.store/Sites-KR-Site/en_KR/Product-Variation?pid=999NAC0000067&dwvar_999NAC0000067_color=7845094111',\n",
       " 'image': ['http://en.narscosmetics.co.kr/on/demandware.static/-/Sites-itemmaster_NARS/default/dw3194d4ca/hi-res/0607845094111.png',\n",
       "  'http://en.narscosmetics.co.kr/on/demandware.static/-/Sites-itemmaster_NARS/default/dw171a3f3a/alt1/erdem1.jpg',\n",
       "  'http://en.narscosmetics.co.kr/on/demandware.static/-/Sites-itemmaster_NARS/default/dw819233a3/alt3/0607845094111.jpg',\n",
       "  'http://en.narscosmetics.co.kr/on/demandware.static/-/Sites-itemmaster_NARS/default/dwad74a757/alt4/0607845094111.jpg',\n",
       "  'http://en.narscosmetics.co.kr/on/demandware.static/Sites-KR-Site/-/en_KR/v1546225498151/images/noimageshadesmall.png'],\n",
       " 'salePrice': '₩ 37,000',\n",
       " 'originalPrice': '₩ 37,000',\n",
       " 'color': '라크스퍼',\n",
       " 'category': '',\n",
       " 'brand': '나스',\n",
       " 'volume': '#'}"
      ]
     },
     "metadata": {},
     "output_type": "display_data"
    },
    {
     "data": {
      "text/plain": [
       "<selenium.webdriver.remote.webelement.WebElement (session=\"ba51fcd1a1bc41dec611cca0306e5511\", element=\"0.9415781773037024-6\")>"
      ]
     },
     "metadata": {},
     "output_type": "display_data"
    },
    {
     "data": {
      "text/plain": [
       "{'name': '립스틱 - 문 오키드',\n",
       " 'url': 'http://www.narscosmetics.co.kr/on/demandware.store/Sites-KR-Site/en_KR/Product-Variation?pid=999NAC0000067&dwvar_999NAC0000067_color=7845094104',\n",
       " 'image': ['http://en.narscosmetics.co.kr/on/demandware.static/-/Sites-itemmaster_NARS/default/dw94b0a2b9/hi-res/0607845094104.png',\n",
       "  'http://en.narscosmetics.co.kr/on/demandware.static/-/Sites-itemmaster_NARS/default/dw171a3f3a/alt1/erdem1.jpg',\n",
       "  'http://en.narscosmetics.co.kr/on/demandware.static/-/Sites-itemmaster_NARS/default/dw819233a3/alt3/0607845094104.jpg',\n",
       "  'http://en.narscosmetics.co.kr/on/demandware.static/-/Sites-itemmaster_NARS/default/dwad74a757/alt4/0607845094104.jpg',\n",
       "  'http://en.narscosmetics.co.kr/on/demandware.static/Sites-KR-Site/-/en_KR/v1546225498151/images/noimageshadesmall.png'],\n",
       " 'salePrice': '₩ 37,000',\n",
       " 'originalPrice': '₩ 37,000',\n",
       " 'color': '문 오키드',\n",
       " 'category': '',\n",
       " 'brand': '나스',\n",
       " 'volume': '#'}"
      ]
     },
     "metadata": {},
     "output_type": "display_data"
    },
    {
     "data": {
      "text/plain": [
       "<selenium.webdriver.remote.webelement.WebElement (session=\"ba51fcd1a1bc41dec611cca0306e5511\", element=\"0.7546864588468412-6\")>"
      ]
     },
     "metadata": {},
     "output_type": "display_data"
    },
    {
     "data": {
      "text/plain": [
       "{'name': '립스틱 - 부두 릴리',\n",
       " 'url': 'http://www.narscosmetics.co.kr/on/demandware.store/Sites-KR-Site/en_KR/Product-Variation?pid=999NAC0000067&dwvar_999NAC0000067_color=7845094128',\n",
       " 'image': ['http://en.narscosmetics.co.kr/on/demandware.static/-/Sites-itemmaster_NARS/default/dw7bb29523/hi-res/0607845094128.png',\n",
       "  'http://en.narscosmetics.co.kr/on/demandware.static/-/Sites-itemmaster_NARS/default/dw171a3f3a/alt1/erdem1.jpg',\n",
       "  'http://en.narscosmetics.co.kr/on/demandware.static/-/Sites-itemmaster_NARS/default/dw819233a3/alt3/0607845094128.jpg',\n",
       "  'http://en.narscosmetics.co.kr/on/demandware.static/-/Sites-itemmaster_NARS/default/dwad74a757/alt4/0607845094128.jpg',\n",
       "  'http://en.narscosmetics.co.kr/on/demandware.static/Sites-KR-Site/-/en_KR/v1546225498151/images/noimageshadesmall.png'],\n",
       " 'salePrice': '₩ 37,000',\n",
       " 'originalPrice': '₩ 37,000',\n",
       " 'color': '부두 릴리',\n",
       " 'category': '',\n",
       " 'brand': '나스',\n",
       " 'volume': '#'}"
      ]
     },
     "metadata": {},
     "output_type": "display_data"
    },
    {
     "data": {
      "text/plain": [
       "<selenium.webdriver.remote.webelement.WebElement (session=\"ba51fcd1a1bc41dec611cca0306e5511\", element=\"0.3283903469944329-6\")>"
      ]
     },
     "metadata": {},
     "output_type": "display_data"
    },
    {
     "data": {
      "text/plain": [
       "{'name': '립스틱 - 와일드 플라워',\n",
       " 'url': 'http://www.narscosmetics.co.kr/on/demandware.store/Sites-KR-Site/en_KR/Product-Variation?pid=999NAC0000067&dwvar_999NAC0000067_color=7845094135',\n",
       " 'image': ['http://en.narscosmetics.co.kr/on/demandware.static/-/Sites-itemmaster_NARS/default/dwf2b43159/hi-res/0607845094135.png',\n",
       "  'http://en.narscosmetics.co.kr/on/demandware.static/-/Sites-itemmaster_NARS/default/dw171a3f3a/alt1/erdem1.jpg',\n",
       "  'http://en.narscosmetics.co.kr/on/demandware.static/-/Sites-itemmaster_NARS/default/dw819233a3/alt3/0607845094135.jpg',\n",
       "  'http://en.narscosmetics.co.kr/on/demandware.static/-/Sites-itemmaster_NARS/default/dwad74a757/alt4/0607845094135.jpg',\n",
       "  'http://en.narscosmetics.co.kr/on/demandware.static/Sites-KR-Site/-/en_KR/v1546225498151/images/noimageshadesmall.png'],\n",
       " 'salePrice': '₩ 37,000',\n",
       " 'originalPrice': '₩ 37,000',\n",
       " 'color': '와일드 플라워',\n",
       " 'category': '',\n",
       " 'brand': '나스',\n",
       " 'volume': '#'}"
      ]
     },
     "metadata": {},
     "output_type": "display_data"
    },
    {
     "data": {
      "text/plain": [
       "{'name': '립 글로스 세트',\n",
       " 'url': 'http://www.narscosmetics.co.kr/defiant-lip-gloss-set/0607845083856.html',\n",
       " 'image': ['http://en.narscosmetics.co.kr/on/demandware.static/-/Sites-itemmaster_NARS/default/dw174c6016/hi-res/0607845083856.jpg',\n",
       "  'http://en.narscosmetics.co.kr/on/demandware.static/-/Sites-itemmaster_NARS/default/dwbc6efafe/hi-res/0607845083856_2.jpg',\n",
       "  'http://en.narscosmetics.co.kr/on/demandware.static/-/Sites-itemmaster_NARS/default/dw29bac1a4/hi-res/0607845083856_3.jpg',\n",
       "  'http://en.narscosmetics.co.kr/on/demandware.static/-/Sites-itemmaster_NARS/default/dw9aa6678b/alt1/0607845083856.jpg',\n",
       "  'http://en.narscosmetics.co.kr/on/demandware.static/-/Sites-itemmaster_NARS/default/dw4cbf8450/alt2/0607845083856.jpg'],\n",
       " 'salePrice': '₩ 79,000',\n",
       " 'originalPrice': '₩ 79,000',\n",
       " 'color': '#',\n",
       " 'category': '',\n",
       " 'brand': '나스',\n",
       " 'volume': '#'}"
      ]
     },
     "metadata": {},
     "output_type": "display_data"
    },
    {
     "data": {
      "text/plain": [
       "[{'name': '파워매트 립 피그먼트 - 익스플리시트 레드',\n",
       "  'url': 'http://www.narscosmetics.co.kr/on/demandware.store/Sites-KR-Site/en_KR/Product-Variation?pid=999NAC0000053&dwvar_999NAC0000053_color=Explicit%20Red',\n",
       "  'image': ['http://en.narscosmetics.co.kr/on/demandware.static/-/Sites-itemmaster_NARS/default/dwb9faebe2/hi-res/607845027379.jpg',\n",
       "   'http://en.narscosmetics.co.kr/on/demandware.static/-/Sites-itemmaster_NARS/default/dwc69bda15/hi-res/607845027379_v2.jpg'],\n",
       "  'salePrice': '₩ 37,000',\n",
       "  'originalPrice': '₩ 37,000',\n",
       "  'color': '익스플리시트 레드',\n",
       "  'category': '',\n",
       "  'brand': '나스',\n",
       "  'volume': '#'},\n",
       " {'name': '파워매트 립 피그먼트 - 익스플리시트 레드',\n",
       "  'url': 'http://www.narscosmetics.co.kr/on/demandware.store/Sites-KR-Site/en_KR/Product-Variation?pid=999NAC0000053&dwvar_999NAC0000053_color=Explicit%20Red',\n",
       "  'image': ['http://en.narscosmetics.co.kr/on/demandware.static/-/Sites-itemmaster_NARS/default/dwb9faebe2/hi-res/607845027379.jpg',\n",
       "   'http://en.narscosmetics.co.kr/on/demandware.static/-/Sites-itemmaster_NARS/default/dwc69bda15/hi-res/607845027379_v2.jpg'],\n",
       "  'salePrice': '₩ 37,000',\n",
       "  'originalPrice': '₩ 37,000',\n",
       "  'color': '익스플리시트 레드',\n",
       "  'category': '',\n",
       "  'brand': '나스',\n",
       "  'volume': '#'},\n",
       " {'name': '파워매트 립 피그먼트 - 익스플리시트 레드',\n",
       "  'url': 'http://www.narscosmetics.co.kr/on/demandware.store/Sites-KR-Site/en_KR/Product-Variation?pid=999NAC0000053&dwvar_999NAC0000053_color=Explicit%20Red',\n",
       "  'image': ['http://en.narscosmetics.co.kr/on/demandware.static/-/Sites-itemmaster_NARS/default/dwb9faebe2/hi-res/607845027379.jpg',\n",
       "   'http://en.narscosmetics.co.kr/on/demandware.static/-/Sites-itemmaster_NARS/default/dwc69bda15/hi-res/607845027379_v2.jpg'],\n",
       "  'salePrice': '₩ 37,000',\n",
       "  'originalPrice': '₩ 37,000',\n",
       "  'color': '익스플리시트 레드',\n",
       "  'category': '',\n",
       "  'brand': '나스',\n",
       "  'volume': '#'},\n",
       " {'name': '파워매트 립 피그먼트 - 익스플리시트 레드',\n",
       "  'url': 'http://www.narscosmetics.co.kr/on/demandware.store/Sites-KR-Site/en_KR/Product-Variation?pid=999NAC0000053&dwvar_999NAC0000053_color=Explicit%20Red',\n",
       "  'image': ['http://en.narscosmetics.co.kr/on/demandware.static/-/Sites-itemmaster_NARS/default/dwb9faebe2/hi-res/607845027379.jpg',\n",
       "   'http://en.narscosmetics.co.kr/on/demandware.static/-/Sites-itemmaster_NARS/default/dwc69bda15/hi-res/607845027379_v2.jpg'],\n",
       "  'salePrice': '₩ 37,000',\n",
       "  'originalPrice': '₩ 37,000',\n",
       "  'color': '익스플리시트 레드',\n",
       "  'category': '',\n",
       "  'brand': '나스',\n",
       "  'volume': '#'},\n",
       " {'name': '파워매트 립 피그먼트 - 익스플리시트 레드',\n",
       "  'url': 'http://www.narscosmetics.co.kr/on/demandware.store/Sites-KR-Site/en_KR/Product-Variation?pid=999NAC0000053&dwvar_999NAC0000053_color=Explicit%20Red',\n",
       "  'image': ['http://en.narscosmetics.co.kr/on/demandware.static/-/Sites-itemmaster_NARS/default/dwb9faebe2/hi-res/607845027379.jpg',\n",
       "   'http://en.narscosmetics.co.kr/on/demandware.static/-/Sites-itemmaster_NARS/default/dwc69bda15/hi-res/607845027379_v2.jpg'],\n",
       "  'salePrice': '₩ 37,000',\n",
       "  'originalPrice': '₩ 37,000',\n",
       "  'color': '익스플리시트 레드',\n",
       "  'category': '',\n",
       "  'brand': '나스',\n",
       "  'volume': '#'},\n",
       " {'name': '파워매트 립 피그먼트 - 익스플리시트 레드',\n",
       "  'url': 'http://www.narscosmetics.co.kr/on/demandware.store/Sites-KR-Site/en_KR/Product-Variation?pid=999NAC0000053&dwvar_999NAC0000053_color=Explicit%20Red',\n",
       "  'image': ['http://en.narscosmetics.co.kr/on/demandware.static/-/Sites-itemmaster_NARS/default/dwb9faebe2/hi-res/607845027379.jpg',\n",
       "   'http://en.narscosmetics.co.kr/on/demandware.static/-/Sites-itemmaster_NARS/default/dwc69bda15/hi-res/607845027379_v2.jpg'],\n",
       "  'salePrice': '₩ 37,000',\n",
       "  'originalPrice': '₩ 37,000',\n",
       "  'color': '익스플리시트 레드',\n",
       "  'category': '',\n",
       "  'brand': '나스',\n",
       "  'volume': '#'},\n",
       " {'name': '파워매트 립 피그먼트 - 익스플리시트 레드',\n",
       "  'url': 'http://www.narscosmetics.co.kr/on/demandware.store/Sites-KR-Site/en_KR/Product-Variation?pid=999NAC0000053&dwvar_999NAC0000053_color=Explicit%20Red',\n",
       "  'image': ['http://en.narscosmetics.co.kr/on/demandware.static/-/Sites-itemmaster_NARS/default/dwb9faebe2/hi-res/607845027379.jpg',\n",
       "   'http://en.narscosmetics.co.kr/on/demandware.static/-/Sites-itemmaster_NARS/default/dwc69bda15/hi-res/607845027379_v2.jpg'],\n",
       "  'salePrice': '₩ 37,000',\n",
       "  'originalPrice': '₩ 37,000',\n",
       "  'color': '익스플리시트 레드',\n",
       "  'category': '',\n",
       "  'brand': '나스',\n",
       "  'volume': '#'},\n",
       " {'name': '파워매트 립 피그먼트 - 익스플리시트 레드',\n",
       "  'url': 'http://www.narscosmetics.co.kr/on/demandware.store/Sites-KR-Site/en_KR/Product-Variation?pid=999NAC0000053&dwvar_999NAC0000053_color=Explicit%20Red',\n",
       "  'image': ['http://en.narscosmetics.co.kr/on/demandware.static/-/Sites-itemmaster_NARS/default/dwb9faebe2/hi-res/607845027379.jpg',\n",
       "   'http://en.narscosmetics.co.kr/on/demandware.static/-/Sites-itemmaster_NARS/default/dwc69bda15/hi-res/607845027379_v2.jpg'],\n",
       "  'salePrice': '₩ 37,000',\n",
       "  'originalPrice': '₩ 37,000',\n",
       "  'color': '익스플리시트 레드',\n",
       "  'category': '',\n",
       "  'brand': '나스',\n",
       "  'volume': '#'},\n",
       " {'name': '파워매트 립 피그먼트 - 익스플리시트 레드',\n",
       "  'url': 'http://www.narscosmetics.co.kr/on/demandware.store/Sites-KR-Site/en_KR/Product-Variation?pid=999NAC0000053&dwvar_999NAC0000053_color=Explicit%20Red',\n",
       "  'image': ['http://en.narscosmetics.co.kr/on/demandware.static/-/Sites-itemmaster_NARS/default/dwb9faebe2/hi-res/607845027379.jpg',\n",
       "   'http://en.narscosmetics.co.kr/on/demandware.static/-/Sites-itemmaster_NARS/default/dwc69bda15/hi-res/607845027379_v2.jpg'],\n",
       "  'salePrice': '₩ 37,000',\n",
       "  'originalPrice': '₩ 37,000',\n",
       "  'color': '익스플리시트 레드',\n",
       "  'category': '',\n",
       "  'brand': '나스',\n",
       "  'volume': '#'},\n",
       " {'name': '파워매트 립 피그먼트 - 익스플리시트 레드',\n",
       "  'url': 'http://www.narscosmetics.co.kr/on/demandware.store/Sites-KR-Site/en_KR/Product-Variation?pid=999NAC0000053&dwvar_999NAC0000053_color=Explicit%20Red',\n",
       "  'image': ['http://en.narscosmetics.co.kr/on/demandware.static/-/Sites-itemmaster_NARS/default/dwb9faebe2/hi-res/607845027379.jpg',\n",
       "   'http://en.narscosmetics.co.kr/on/demandware.static/-/Sites-itemmaster_NARS/default/dwc69bda15/hi-res/607845027379_v2.jpg'],\n",
       "  'salePrice': '₩ 37,000',\n",
       "  'originalPrice': '₩ 37,000',\n",
       "  'color': '익스플리시트 레드',\n",
       "  'category': '',\n",
       "  'brand': '나스',\n",
       "  'volume': '#'},\n",
       " {'name': '파워매트 립 피그먼트 - 익스플리시트 레드',\n",
       "  'url': 'http://www.narscosmetics.co.kr/on/demandware.store/Sites-KR-Site/en_KR/Product-Variation?pid=999NAC0000053&dwvar_999NAC0000053_color=Explicit%20Red',\n",
       "  'image': ['http://en.narscosmetics.co.kr/on/demandware.static/-/Sites-itemmaster_NARS/default/dwb9faebe2/hi-res/607845027379.jpg',\n",
       "   'http://en.narscosmetics.co.kr/on/demandware.static/-/Sites-itemmaster_NARS/default/dwc69bda15/hi-res/607845027379_v2.jpg'],\n",
       "  'salePrice': '₩ 37,000',\n",
       "  'originalPrice': '₩ 37,000',\n",
       "  'color': '익스플리시트 레드',\n",
       "  'category': '',\n",
       "  'brand': '나스',\n",
       "  'volume': '#'},\n",
       " {'name': '파워매트 립 피그먼트 - 익스플리시트 레드',\n",
       "  'url': 'http://www.narscosmetics.co.kr/on/demandware.store/Sites-KR-Site/en_KR/Product-Variation?pid=999NAC0000053&dwvar_999NAC0000053_color=Explicit%20Red',\n",
       "  'image': ['http://en.narscosmetics.co.kr/on/demandware.static/-/Sites-itemmaster_NARS/default/dwb9faebe2/hi-res/607845027379.jpg',\n",
       "   'http://en.narscosmetics.co.kr/on/demandware.static/-/Sites-itemmaster_NARS/default/dwc69bda15/hi-res/607845027379_v2.jpg'],\n",
       "  'salePrice': '₩ 37,000',\n",
       "  'originalPrice': '₩ 37,000',\n",
       "  'color': '익스플리시트 레드',\n",
       "  'category': '',\n",
       "  'brand': '나스',\n",
       "  'volume': '#'},\n",
       " {'name': '파워매트 립 피그먼트 - 익스플리시트 레드',\n",
       "  'url': 'http://www.narscosmetics.co.kr/on/demandware.store/Sites-KR-Site/en_KR/Product-Variation?pid=999NAC0000053&dwvar_999NAC0000053_color=Explicit%20Red',\n",
       "  'image': ['http://en.narscosmetics.co.kr/on/demandware.static/-/Sites-itemmaster_NARS/default/dwb9faebe2/hi-res/607845027379.jpg',\n",
       "   'http://en.narscosmetics.co.kr/on/demandware.static/-/Sites-itemmaster_NARS/default/dwc69bda15/hi-res/607845027379_v2.jpg'],\n",
       "  'salePrice': '₩ 37,000',\n",
       "  'originalPrice': '₩ 37,000',\n",
       "  'color': '익스플리시트 레드',\n",
       "  'category': '',\n",
       "  'brand': '나스',\n",
       "  'volume': '#'},\n",
       " {'name': '파워매트 립 피그먼트 - 익스플리시트 레드',\n",
       "  'url': 'http://www.narscosmetics.co.kr/on/demandware.store/Sites-KR-Site/en_KR/Product-Variation?pid=999NAC0000053&dwvar_999NAC0000053_color=Explicit%20Red',\n",
       "  'image': ['http://en.narscosmetics.co.kr/on/demandware.static/-/Sites-itemmaster_NARS/default/dwb9faebe2/hi-res/607845027379.jpg',\n",
       "   'http://en.narscosmetics.co.kr/on/demandware.static/-/Sites-itemmaster_NARS/default/dwc69bda15/hi-res/607845027379_v2.jpg'],\n",
       "  'salePrice': '₩ 37,000',\n",
       "  'originalPrice': '₩ 37,000',\n",
       "  'color': '익스플리시트 레드',\n",
       "  'category': '',\n",
       "  'brand': '나스',\n",
       "  'volume': '#'},\n",
       " {'name': '파워매트 립 피그먼트 - 익스플리시트 레드',\n",
       "  'url': 'http://www.narscosmetics.co.kr/on/demandware.store/Sites-KR-Site/en_KR/Product-Variation?pid=999NAC0000053&dwvar_999NAC0000053_color=Explicit%20Red',\n",
       "  'image': ['http://en.narscosmetics.co.kr/on/demandware.static/-/Sites-itemmaster_NARS/default/dwb9faebe2/hi-res/607845027379.jpg',\n",
       "   'http://en.narscosmetics.co.kr/on/demandware.static/-/Sites-itemmaster_NARS/default/dwc69bda15/hi-res/607845027379_v2.jpg'],\n",
       "  'salePrice': '₩ 37,000',\n",
       "  'originalPrice': '₩ 37,000',\n",
       "  'color': '익스플리시트 레드',\n",
       "  'category': '',\n",
       "  'brand': '나스',\n",
       "  'volume': '#'},\n",
       " {'name': '파워매트 립 피그먼트 - 익스플리시트 레드',\n",
       "  'url': 'http://www.narscosmetics.co.kr/on/demandware.store/Sites-KR-Site/en_KR/Product-Variation?pid=999NAC0000053&dwvar_999NAC0000053_color=Explicit%20Red',\n",
       "  'image': ['http://en.narscosmetics.co.kr/on/demandware.static/-/Sites-itemmaster_NARS/default/dwb9faebe2/hi-res/607845027379.jpg',\n",
       "   'http://en.narscosmetics.co.kr/on/demandware.static/-/Sites-itemmaster_NARS/default/dwc69bda15/hi-res/607845027379_v2.jpg'],\n",
       "  'salePrice': '₩ 37,000',\n",
       "  'originalPrice': '₩ 37,000',\n",
       "  'color': '익스플리시트 레드',\n",
       "  'category': '',\n",
       "  'brand': '나스',\n",
       "  'volume': '#'},\n",
       " {'name': '파워매트 립 피그먼트 - 익스플리시트 레드',\n",
       "  'url': 'http://www.narscosmetics.co.kr/on/demandware.store/Sites-KR-Site/en_KR/Product-Variation?pid=999NAC0000053&dwvar_999NAC0000053_color=Explicit%20Red',\n",
       "  'image': ['http://en.narscosmetics.co.kr/on/demandware.static/-/Sites-itemmaster_NARS/default/dwb9faebe2/hi-res/607845027379.jpg',\n",
       "   'http://en.narscosmetics.co.kr/on/demandware.static/-/Sites-itemmaster_NARS/default/dwc69bda15/hi-res/607845027379_v2.jpg'],\n",
       "  'salePrice': '₩ 37,000',\n",
       "  'originalPrice': '₩ 37,000',\n",
       "  'color': '익스플리시트 레드',\n",
       "  'category': '',\n",
       "  'brand': '나스',\n",
       "  'volume': '#'},\n",
       " {'name': '파워매트 립 피그먼트 - 익스플리시트 레드',\n",
       "  'url': 'http://www.narscosmetics.co.kr/on/demandware.store/Sites-KR-Site/en_KR/Product-Variation?pid=999NAC0000053&dwvar_999NAC0000053_color=Explicit%20Red',\n",
       "  'image': ['http://en.narscosmetics.co.kr/on/demandware.static/-/Sites-itemmaster_NARS/default/dwb9faebe2/hi-res/607845027379.jpg',\n",
       "   'http://en.narscosmetics.co.kr/on/demandware.static/-/Sites-itemmaster_NARS/default/dwc69bda15/hi-res/607845027379_v2.jpg'],\n",
       "  'salePrice': '₩ 37,000',\n",
       "  'originalPrice': '₩ 37,000',\n",
       "  'color': '익스플리시트 레드',\n",
       "  'category': '',\n",
       "  'brand': '나스',\n",
       "  'volume': '#'},\n",
       " {'name': '파워매트 립 피그먼트 - 익스플리시트 레드',\n",
       "  'url': 'http://www.narscosmetics.co.kr/on/demandware.store/Sites-KR-Site/en_KR/Product-Variation?pid=999NAC0000053&dwvar_999NAC0000053_color=Explicit%20Red',\n",
       "  'image': ['http://en.narscosmetics.co.kr/on/demandware.static/-/Sites-itemmaster_NARS/default/dwb9faebe2/hi-res/607845027379.jpg',\n",
       "   'http://en.narscosmetics.co.kr/on/demandware.static/-/Sites-itemmaster_NARS/default/dwc69bda15/hi-res/607845027379_v2.jpg'],\n",
       "  'salePrice': '₩ 37,000',\n",
       "  'originalPrice': '₩ 37,000',\n",
       "  'color': '익스플리시트 레드',\n",
       "  'category': '',\n",
       "  'brand': '나스',\n",
       "  'volume': '#'},\n",
       " {'name': '파워매트 립 피그먼트 - 익스플리시트 레드',\n",
       "  'url': 'http://www.narscosmetics.co.kr/on/demandware.store/Sites-KR-Site/en_KR/Product-Variation?pid=999NAC0000053&dwvar_999NAC0000053_color=Explicit%20Red',\n",
       "  'image': ['http://en.narscosmetics.co.kr/on/demandware.static/-/Sites-itemmaster_NARS/default/dwb9faebe2/hi-res/607845027379.jpg',\n",
       "   'http://en.narscosmetics.co.kr/on/demandware.static/-/Sites-itemmaster_NARS/default/dwc69bda15/hi-res/607845027379_v2.jpg'],\n",
       "  'salePrice': '₩ 37,000',\n",
       "  'originalPrice': '₩ 37,000',\n",
       "  'color': '익스플리시트 레드',\n",
       "  'category': '',\n",
       "  'brand': '나스',\n",
       "  'volume': '#'},\n",
       " {'name': '파워매트 립 피그먼트 - 익스플리시트 레드',\n",
       "  'url': 'http://www.narscosmetics.co.kr/on/demandware.store/Sites-KR-Site/en_KR/Product-Variation?pid=999NAC0000053&dwvar_999NAC0000053_color=Explicit%20Red',\n",
       "  'image': ['http://en.narscosmetics.co.kr/on/demandware.static/-/Sites-itemmaster_NARS/default/dwb9faebe2/hi-res/607845027379.jpg',\n",
       "   'http://en.narscosmetics.co.kr/on/demandware.static/-/Sites-itemmaster_NARS/default/dwc69bda15/hi-res/607845027379_v2.jpg'],\n",
       "  'salePrice': '₩ 37,000',\n",
       "  'originalPrice': '₩ 37,000',\n",
       "  'color': '익스플리시트 레드',\n",
       "  'category': '',\n",
       "  'brand': '나스',\n",
       "  'volume': '#'},\n",
       " {'name': '파워매트 립 피그먼트 - 익스플리시트 레드',\n",
       "  'url': 'http://www.narscosmetics.co.kr/on/demandware.store/Sites-KR-Site/en_KR/Product-Variation?pid=999NAC0000053&dwvar_999NAC0000053_color=Explicit%20Red',\n",
       "  'image': ['http://en.narscosmetics.co.kr/on/demandware.static/-/Sites-itemmaster_NARS/default/dwb9faebe2/hi-res/607845027379.jpg',\n",
       "   'http://en.narscosmetics.co.kr/on/demandware.static/-/Sites-itemmaster_NARS/default/dwc69bda15/hi-res/607845027379_v2.jpg'],\n",
       "  'salePrice': '₩ 37,000',\n",
       "  'originalPrice': '₩ 37,000',\n",
       "  'color': '익스플리시트 레드',\n",
       "  'category': '',\n",
       "  'brand': '나스',\n",
       "  'volume': '#'},\n",
       " {'name': '파워매트 립 피그먼트 - 익스플리시트 레드',\n",
       "  'url': 'http://www.narscosmetics.co.kr/on/demandware.store/Sites-KR-Site/en_KR/Product-Variation?pid=999NAC0000053&dwvar_999NAC0000053_color=Explicit%20Red',\n",
       "  'image': ['http://en.narscosmetics.co.kr/on/demandware.static/-/Sites-itemmaster_NARS/default/dwb9faebe2/hi-res/607845027379.jpg',\n",
       "   'http://en.narscosmetics.co.kr/on/demandware.static/-/Sites-itemmaster_NARS/default/dwc69bda15/hi-res/607845027379_v2.jpg'],\n",
       "  'salePrice': '₩ 37,000',\n",
       "  'originalPrice': '₩ 37,000',\n",
       "  'color': '익스플리시트 레드',\n",
       "  'category': '',\n",
       "  'brand': '나스',\n",
       "  'volume': '#'},\n",
       " {'name': '파워매트 립 피그먼트 - 익스플리시트 레드',\n",
       "  'url': 'http://www.narscosmetics.co.kr/on/demandware.store/Sites-KR-Site/en_KR/Product-Variation?pid=999NAC0000053&dwvar_999NAC0000053_color=Explicit%20Red',\n",
       "  'image': ['http://en.narscosmetics.co.kr/on/demandware.static/-/Sites-itemmaster_NARS/default/dwb9faebe2/hi-res/607845027379.jpg',\n",
       "   'http://en.narscosmetics.co.kr/on/demandware.static/-/Sites-itemmaster_NARS/default/dwc69bda15/hi-res/607845027379_v2.jpg'],\n",
       "  'salePrice': '₩ 37,000',\n",
       "  'originalPrice': '₩ 37,000',\n",
       "  'color': '익스플리시트 레드',\n",
       "  'category': '',\n",
       "  'brand': '나스',\n",
       "  'volume': '#'},\n",
       " {'name': '파워매트 립 피그먼트 - 익스플리시트 레드',\n",
       "  'url': 'http://www.narscosmetics.co.kr/on/demandware.store/Sites-KR-Site/en_KR/Product-Variation?pid=999NAC0000053&dwvar_999NAC0000053_color=Explicit%20Red',\n",
       "  'image': ['http://en.narscosmetics.co.kr/on/demandware.static/-/Sites-itemmaster_NARS/default/dwb9faebe2/hi-res/607845027379.jpg',\n",
       "   'http://en.narscosmetics.co.kr/on/demandware.static/-/Sites-itemmaster_NARS/default/dwc69bda15/hi-res/607845027379_v2.jpg'],\n",
       "  'salePrice': '₩ 37,000',\n",
       "  'originalPrice': '₩ 37,000',\n",
       "  'color': '익스플리시트 레드',\n",
       "  'category': '',\n",
       "  'brand': '나스',\n",
       "  'volume': '#'},\n",
       " {'name': '파워매트 립 피그먼트 - 익스플리시트 레드',\n",
       "  'url': 'http://www.narscosmetics.co.kr/on/demandware.store/Sites-KR-Site/en_KR/Product-Variation?pid=999NAC0000053&dwvar_999NAC0000053_color=Explicit%20Red',\n",
       "  'image': ['http://en.narscosmetics.co.kr/on/demandware.static/-/Sites-itemmaster_NARS/default/dwb9faebe2/hi-res/607845027379.jpg',\n",
       "   'http://en.narscosmetics.co.kr/on/demandware.static/-/Sites-itemmaster_NARS/default/dwc69bda15/hi-res/607845027379_v2.jpg'],\n",
       "  'salePrice': '₩ 37,000',\n",
       "  'originalPrice': '₩ 37,000',\n",
       "  'color': '익스플리시트 레드',\n",
       "  'category': '',\n",
       "  'brand': '나스',\n",
       "  'volume': '#'},\n",
       " {'name': '파워매트 립 피그먼트 - 익스플리시트 레드',\n",
       "  'url': 'http://www.narscosmetics.co.kr/on/demandware.store/Sites-KR-Site/en_KR/Product-Variation?pid=999NAC0000053&dwvar_999NAC0000053_color=Explicit%20Red',\n",
       "  'image': ['http://en.narscosmetics.co.kr/on/demandware.static/-/Sites-itemmaster_NARS/default/dwb9faebe2/hi-res/607845027379.jpg',\n",
       "   'http://en.narscosmetics.co.kr/on/demandware.static/-/Sites-itemmaster_NARS/default/dwc69bda15/hi-res/607845027379_v2.jpg'],\n",
       "  'salePrice': '₩ 37,000',\n",
       "  'originalPrice': '₩ 37,000',\n",
       "  'color': '익스플리시트 레드',\n",
       "  'category': '',\n",
       "  'brand': '나스',\n",
       "  'volume': '#'},\n",
       " {'name': '립커버 - 언더 어레스트',\n",
       "  'url': 'http://www.narscosmetics.co.kr/on/demandware.store/Sites-KR-Site/en_KR/Product-Variation?pid=999NAC0000036&dwvar_999NAC0000036_color=7845056911',\n",
       "  'image': ['http://en.narscosmetics.co.kr/on/demandware.static/-/Sites-itemmaster_NARS/default/dwdda4fbe1/hi-res/0607845056911.jpg',\n",
       "   'http://en.narscosmetics.co.kr/on/demandware.static/-/Sites-itemmaster_NARS/default/dw6ab04f4d/swatch/0607845056911.jpg'],\n",
       "  'salePrice': '₩ 38,000',\n",
       "  'originalPrice': '₩ 38,000',\n",
       "  'color': '언더 어레스트',\n",
       "  'category': '',\n",
       "  'brand': '나스',\n",
       "  'volume': '#'},\n",
       " {'name': '립커버 - 언더 어레스트',\n",
       "  'url': 'http://www.narscosmetics.co.kr/on/demandware.store/Sites-KR-Site/en_KR/Product-Variation?pid=999NAC0000036&dwvar_999NAC0000036_color=7845056911',\n",
       "  'image': ['http://en.narscosmetics.co.kr/on/demandware.static/-/Sites-itemmaster_NARS/default/dwdda4fbe1/hi-res/0607845056911.jpg',\n",
       "   'http://en.narscosmetics.co.kr/on/demandware.static/-/Sites-itemmaster_NARS/default/dw6ab04f4d/swatch/0607845056911.jpg'],\n",
       "  'salePrice': '₩ 38,000',\n",
       "  'originalPrice': '₩ 38,000',\n",
       "  'color': '언더 어레스트',\n",
       "  'category': '',\n",
       "  'brand': '나스',\n",
       "  'volume': '#'},\n",
       " {'name': '립커버 - 언더 어레스트',\n",
       "  'url': 'http://www.narscosmetics.co.kr/on/demandware.store/Sites-KR-Site/en_KR/Product-Variation?pid=999NAC0000036&dwvar_999NAC0000036_color=7845056911',\n",
       "  'image': ['http://en.narscosmetics.co.kr/on/demandware.static/-/Sites-itemmaster_NARS/default/dwdda4fbe1/hi-res/0607845056911.jpg',\n",
       "   'http://en.narscosmetics.co.kr/on/demandware.static/-/Sites-itemmaster_NARS/default/dw6ab04f4d/swatch/0607845056911.jpg'],\n",
       "  'salePrice': '₩ 38,000',\n",
       "  'originalPrice': '₩ 38,000',\n",
       "  'color': '언더 어레스트',\n",
       "  'category': '',\n",
       "  'brand': '나스',\n",
       "  'volume': '#'},\n",
       " {'name': '립커버 - 언더 어레스트',\n",
       "  'url': 'http://www.narscosmetics.co.kr/on/demandware.store/Sites-KR-Site/en_KR/Product-Variation?pid=999NAC0000036&dwvar_999NAC0000036_color=7845056911',\n",
       "  'image': ['http://en.narscosmetics.co.kr/on/demandware.static/-/Sites-itemmaster_NARS/default/dwdda4fbe1/hi-res/0607845056911.jpg',\n",
       "   'http://en.narscosmetics.co.kr/on/demandware.static/-/Sites-itemmaster_NARS/default/dw6ab04f4d/swatch/0607845056911.jpg'],\n",
       "  'salePrice': '₩ 38,000',\n",
       "  'originalPrice': '₩ 38,000',\n",
       "  'color': '언더 어레스트',\n",
       "  'category': '',\n",
       "  'brand': '나스',\n",
       "  'volume': '#'},\n",
       " {'name': '립커버 - 언더 어레스트',\n",
       "  'url': 'http://www.narscosmetics.co.kr/on/demandware.store/Sites-KR-Site/en_KR/Product-Variation?pid=999NAC0000036&dwvar_999NAC0000036_color=7845056911',\n",
       "  'image': ['http://en.narscosmetics.co.kr/on/demandware.static/-/Sites-itemmaster_NARS/default/dwdda4fbe1/hi-res/0607845056911.jpg',\n",
       "   'http://en.narscosmetics.co.kr/on/demandware.static/-/Sites-itemmaster_NARS/default/dw6ab04f4d/swatch/0607845056911.jpg'],\n",
       "  'salePrice': '₩ 38,000',\n",
       "  'originalPrice': '₩ 38,000',\n",
       "  'color': '언더 어레스트',\n",
       "  'category': '',\n",
       "  'brand': '나스',\n",
       "  'volume': '#'},\n",
       " {'name': '립커버 - 언더 어레스트',\n",
       "  'url': 'http://www.narscosmetics.co.kr/on/demandware.store/Sites-KR-Site/en_KR/Product-Variation?pid=999NAC0000036&dwvar_999NAC0000036_color=7845056911',\n",
       "  'image': ['http://en.narscosmetics.co.kr/on/demandware.static/-/Sites-itemmaster_NARS/default/dwdda4fbe1/hi-res/0607845056911.jpg',\n",
       "   'http://en.narscosmetics.co.kr/on/demandware.static/-/Sites-itemmaster_NARS/default/dw6ab04f4d/swatch/0607845056911.jpg'],\n",
       "  'salePrice': '₩ 38,000',\n",
       "  'originalPrice': '₩ 38,000',\n",
       "  'color': '언더 어레스트',\n",
       "  'category': '',\n",
       "  'brand': '나스',\n",
       "  'volume': '#'},\n",
       " {'name': '립커버 - 언더 어레스트',\n",
       "  'url': 'http://www.narscosmetics.co.kr/on/demandware.store/Sites-KR-Site/en_KR/Product-Variation?pid=999NAC0000036&dwvar_999NAC0000036_color=7845056911',\n",
       "  'image': ['http://en.narscosmetics.co.kr/on/demandware.static/-/Sites-itemmaster_NARS/default/dwdda4fbe1/hi-res/0607845056911.jpg',\n",
       "   'http://en.narscosmetics.co.kr/on/demandware.static/-/Sites-itemmaster_NARS/default/dw6ab04f4d/swatch/0607845056911.jpg'],\n",
       "  'salePrice': '₩ 38,000',\n",
       "  'originalPrice': '₩ 38,000',\n",
       "  'color': '언더 어레스트',\n",
       "  'category': '',\n",
       "  'brand': '나스',\n",
       "  'volume': '#'},\n",
       " {'name': '립커버 - 언더 어레스트',\n",
       "  'url': 'http://www.narscosmetics.co.kr/on/demandware.store/Sites-KR-Site/en_KR/Product-Variation?pid=999NAC0000036&dwvar_999NAC0000036_color=7845056911',\n",
       "  'image': ['http://en.narscosmetics.co.kr/on/demandware.static/-/Sites-itemmaster_NARS/default/dwdda4fbe1/hi-res/0607845056911.jpg',\n",
       "   'http://en.narscosmetics.co.kr/on/demandware.static/-/Sites-itemmaster_NARS/default/dw6ab04f4d/swatch/0607845056911.jpg'],\n",
       "  'salePrice': '₩ 38,000',\n",
       "  'originalPrice': '₩ 38,000',\n",
       "  'color': '언더 어레스트',\n",
       "  'category': '',\n",
       "  'brand': '나스',\n",
       "  'volume': '#'},\n",
       " {'name': '세븐 데들리 신스 어데이셔스 립스틱 팔레트',\n",
       "  'url': 'http://www.narscosmetics.co.kr/7-deadly-sins-audacious-lipstick-palette/0607845084723.html',\n",
       "  'image': ['http://en.narscosmetics.co.kr/on/demandware.static/-/Sites-itemmaster_NARS/default/dw1e78ce95/hi-res/0607845084723.jpg',\n",
       "   'http://en.narscosmetics.co.kr/on/demandware.static/-/Sites-itemmaster_NARS/default/dw97ca64df/alt1/0607845084723_2.jpg',\n",
       "   'http://en.narscosmetics.co.kr/on/demandware.static/-/Sites-itemmaster_NARS/default/dw9cddeeed/alt1/7_Deadly_Sins_OnModel_Alt_Images/audacious_lip_palette_stylized_V7_QC_1000x1000.jpg',\n",
       "   'http://en.narscosmetics.co.kr/on/demandware.static/-/Sites-itemmaster_NARS/default/dw58d4c807/alt1/7_Deadly_Sins_OnModel_Alt_Images/7%20Deadly%20Sins_OnModel_1000x1000_Disobedience.jpg',\n",
       "   'http://en.narscosmetics.co.kr/on/demandware.static/-/Sites-itemmaster_NARS/default/dw50665a18/alt1/7_Deadly_Sins_OnModel_Alt_Images/7%20Deadly%20Sins_OnModel_1000x1000_Foolishness.jpg',\n",
       "   'http://en.narscosmetics.co.kr/on/demandware.static/-/Sites-itemmaster_NARS/default/dw8d42a41e/alt1/7_Deadly_Sins_OnModel_Alt_Images/7%20Deadly%20Sins_OnModel_1000x1000_Idolatry.jpg',\n",
       "   'http://en.narscosmetics.co.kr/on/demandware.static/-/Sites-itemmaster_NARS/default/dw0b11eb60/alt1/7_Deadly_Sins_OnModel_Alt_Images/7%20Deadly%20Sins_OnModel_1000x1000_Greed.jpg',\n",
       "   'http://en.narscosmetics.co.kr/on/demandware.static/-/Sites-itemmaster_NARS/default/dw62eedb04/alt1/7_Deadly_Sins_OnModel_Alt_Images/7%20Deadly%20Sins_OnModel_1000x1000_Pride.jpg',\n",
       "   'http://en.narscosmetics.co.kr/on/demandware.static/-/Sites-itemmaster_NARS/default/dw33da2bd9/alt1/7_Deadly_Sins_OnModel_Alt_Images/7%20Deadly%20Sins_OnModel_1000x1000_Sloth.jpg',\n",
       "   'http://en.narscosmetics.co.kr/on/demandware.static/-/Sites-itemmaster_NARS/default/dwb484d20e/alt1/7_Deadly_Sins_OnModel_Alt_Images/7%20Deadly%20Sins_OnModel_1000x1000_Wrath.jpg',\n",
       "   'http://en.narscosmetics.co.kr/on/demandware.static/-/Sites-itemmaster_NARS/default/dwc349db06/alt1/7_Deadly_Sins_OnModel_Alt_Images/B_Audacious_LipSwatch_FW_1_c_1000x1000.jpg',\n",
       "   'http://en.narscosmetics.co.kr/on/demandware.static/-/Sites-itemmaster_NARS/default/dw2f9051b2/alt1/7_Deadly_Sins_OnModel_Alt_Images/B_Audacious_LipSwatch_FW_2_b_1000x1000.jpg',\n",
       "   'http://en.narscosmetics.co.kr/on/demandware.static/-/Sites-itemmaster_NARS/default/dw74663b4e/alt1/7_Deadly_Sins_OnModel_Alt_Images/B_Audacious_LipSwatch_FW_3_b_1000x1000.jpg',\n",
       "   'http://en.narscosmetics.co.kr/on/demandware.static/-/Sites-itemmaster_NARS/default/dw5b20299f/alt1/7_Deadly_Sins_OnModel_Alt_Images/B_Audacious_LipSwatch_FW_4_c_1000x1000.jpg',\n",
       "   'http://en.narscosmetics.co.kr/on/demandware.static/-/Sites-itemmaster_NARS/default/dw862a3eca/alt1/7_Deadly_Sins_OnModel_Alt_Images/B_Audacious_LipSwatch_FW_5_d_1000x1000.jpg',\n",
       "   'http://en.narscosmetics.co.kr/on/demandware.static/-/Sites-itemmaster_NARS/default/dw6f0a1fbc/alt1/7_Deadly_Sins_OnModel_Alt_Images/B_Audacious_LipSwatch_FW_6_d_1000x1000.jpg',\n",
       "   'http://en.narscosmetics.co.kr/on/demandware.static/-/Sites-itemmaster_NARS/default/dwfc4518af/alt1/7_Deadly_Sins_OnModel_Alt_Images/B_Audacious_LipSwatch_FW_7_c_1000x1000.jpg'],\n",
       "  'salePrice': '₩ 68,000',\n",
       "  'originalPrice': '₩ 68,000',\n",
       "  'color': '#',\n",
       "  'category': '',\n",
       "  'brand': '나스',\n",
       "  'volume': '#'},\n",
       " {'name': '벨벳 립 글라이드 코프레 언더그라운드',\n",
       "  'url': 'http://www.narscosmetics.co.kr/underground-velvet-lip-glide-set/0607845083887.html',\n",
       "  'image': ['http://en.narscosmetics.co.kr/on/demandware.static/-/Sites-itemmaster_NARS/default/dw9e7e5dc8/hi-res/0607845083887_2.jpg',\n",
       "   'http://en.narscosmetics.co.kr/on/demandware.static/-/Sites-itemmaster_NARS/default/dw5232465c/hi-res/0607845083887.jpg'],\n",
       "  'salePrice': '₩ 32,000',\n",
       "  'originalPrice': '₩ 32,000',\n",
       "  'color': '#',\n",
       "  'category': '',\n",
       "  'brand': '나스',\n",
       "  'volume': '#'},\n",
       " {'name': '파워매트 립 피그먼트',\n",
       "  'url': 'http://www.narscosmetics.co.kr/on/demandware.store/Sites-KR-Site/en_KR/Product-Variation?pid=999NAC0000084&dwvar_999NAC0000084_color=firecracker',\n",
       "  'image': ['http://en.narscosmetics.co.kr/on/demandware.static/-/Sites-itemmaster_NARS/default/dw7b5214e6/hi-res/0607845028000.jpg',\n",
       "   'http://en.narscosmetics.co.kr/on/demandware.static/-/Sites-itemmaster_NARS/default/dw6aa30f07/hi-res/0607845028000_swatch.jpg'],\n",
       "  'salePrice': '₩ 37,000',\n",
       "  'originalPrice': '₩ 37,000',\n",
       "  'color': '파이어크래커',\n",
       "  'category': '',\n",
       "  'brand': '나스',\n",
       "  'volume': '#'},\n",
       " {'name': '파워매트 립 피그먼트',\n",
       "  'url': 'http://www.narscosmetics.co.kr/on/demandware.store/Sites-KR-Site/en_KR/Product-Variation?pid=999NAC0000084&dwvar_999NAC0000084_color=firecracker',\n",
       "  'image': ['http://en.narscosmetics.co.kr/on/demandware.static/-/Sites-itemmaster_NARS/default/dw7b5214e6/hi-res/0607845028000.jpg',\n",
       "   'http://en.narscosmetics.co.kr/on/demandware.static/-/Sites-itemmaster_NARS/default/dw6aa30f07/hi-res/0607845028000_swatch.jpg'],\n",
       "  'salePrice': '₩ 37,000',\n",
       "  'originalPrice': '₩ 37,000',\n",
       "  'color': '파이어크래커',\n",
       "  'category': '',\n",
       "  'brand': '나스',\n",
       "  'volume': '#'},\n",
       " {'name': '파워매트 립 피그먼트',\n",
       "  'url': 'http://www.narscosmetics.co.kr/on/demandware.store/Sites-KR-Site/en_KR/Product-Variation?pid=999NAC0000084&dwvar_999NAC0000084_color=firecracker',\n",
       "  'image': ['http://en.narscosmetics.co.kr/on/demandware.static/-/Sites-itemmaster_NARS/default/dw7b5214e6/hi-res/0607845028000.jpg',\n",
       "   'http://en.narscosmetics.co.kr/on/demandware.static/-/Sites-itemmaster_NARS/default/dw6aa30f07/hi-res/0607845028000_swatch.jpg'],\n",
       "  'salePrice': '₩ 37,000',\n",
       "  'originalPrice': '₩ 37,000',\n",
       "  'color': '파이어크래커',\n",
       "  'category': '',\n",
       "  'brand': '나스',\n",
       "  'volume': '#'},\n",
       " {'name': '벨벳 글로스 립 펜슬',\n",
       "  'url': 'http://www.narscosmetics.co.kr/on/demandware.store/Sites-KR-Site/en_KR/Product-Variation?pid=999NACVGLPL01&dwvar_999NACVGLPL01_color=',\n",
       "  'image': ['http://en.narscosmetics.co.kr/on/demandware.static/-/Sites-itemmaster_NARS/default/dw4f6f8764/hi-res/0607845091028.jpg',\n",
       "   'http://en.narscosmetics.co.kr/on/demandware.static/-/Sites-itemmaster_NARS/default/dw94c97d09/alt1/0607845091028.jpg',\n",
       "   'http://en.narscosmetics.co.kr/on/demandware.static/Sites-KR-Site/-/en_KR/v1546225498151/images/noimageshadesmall.png'],\n",
       "  'salePrice': '₩ 37,000',\n",
       "  'originalPrice': '₩ 37,000',\n",
       "  'color': '바로크',\n",
       "  'category': '',\n",
       "  'brand': '나스',\n",
       "  'volume': '#'},\n",
       " {'name': '벨벳 글로스 립 펜슬',\n",
       "  'url': 'http://www.narscosmetics.co.kr/on/demandware.store/Sites-KR-Site/en_KR/Product-Variation?pid=999NACVGLPL01&dwvar_999NACVGLPL01_color=',\n",
       "  'image': ['http://en.narscosmetics.co.kr/on/demandware.static/-/Sites-itemmaster_NARS/default/dw4f6f8764/hi-res/0607845091028.jpg',\n",
       "   'http://en.narscosmetics.co.kr/on/demandware.static/-/Sites-itemmaster_NARS/default/dw94c97d09/alt1/0607845091028.jpg',\n",
       "   'http://en.narscosmetics.co.kr/on/demandware.static/Sites-KR-Site/-/en_KR/v1546225498151/images/noimageshadesmall.png'],\n",
       "  'salePrice': '₩ 37,000',\n",
       "  'originalPrice': '₩ 37,000',\n",
       "  'color': '바로크',\n",
       "  'category': '',\n",
       "  'brand': '나스',\n",
       "  'volume': '#'},\n",
       " {'name': '벨벳 글로스 립 펜슬',\n",
       "  'url': 'http://www.narscosmetics.co.kr/on/demandware.store/Sites-KR-Site/en_KR/Product-Variation?pid=999NACVGLPL01&dwvar_999NACVGLPL01_color=',\n",
       "  'image': ['http://en.narscosmetics.co.kr/on/demandware.static/-/Sites-itemmaster_NARS/default/dw4f6f8764/hi-res/0607845091028.jpg',\n",
       "   'http://en.narscosmetics.co.kr/on/demandware.static/-/Sites-itemmaster_NARS/default/dw94c97d09/alt1/0607845091028.jpg',\n",
       "   'http://en.narscosmetics.co.kr/on/demandware.static/Sites-KR-Site/-/en_KR/v1546225498151/images/noimageshadesmall.png'],\n",
       "  'salePrice': '₩ 37,000',\n",
       "  'originalPrice': '₩ 37,000',\n",
       "  'color': '바로크',\n",
       "  'category': '',\n",
       "  'brand': '나스',\n",
       "  'volume': '#'},\n",
       " {'name': '벨벳 글로스 립 펜슬',\n",
       "  'url': 'http://www.narscosmetics.co.kr/on/demandware.store/Sites-KR-Site/en_KR/Product-Variation?pid=999NACVGLPL01&dwvar_999NACVGLPL01_color=',\n",
       "  'image': ['http://en.narscosmetics.co.kr/on/demandware.static/-/Sites-itemmaster_NARS/default/dw4f6f8764/hi-res/0607845091028.jpg',\n",
       "   'http://en.narscosmetics.co.kr/on/demandware.static/-/Sites-itemmaster_NARS/default/dw94c97d09/alt1/0607845091028.jpg',\n",
       "   'http://en.narscosmetics.co.kr/on/demandware.static/Sites-KR-Site/-/en_KR/v1546225498151/images/noimageshadesmall.png'],\n",
       "  'salePrice': '₩ 37,000',\n",
       "  'originalPrice': '₩ 37,000',\n",
       "  'color': '바로크',\n",
       "  'category': '',\n",
       "  'brand': '나스',\n",
       "  'volume': '#'},\n",
       " {'name': '벨벳 글로스 립 펜슬',\n",
       "  'url': 'http://www.narscosmetics.co.kr/on/demandware.store/Sites-KR-Site/en_KR/Product-Variation?pid=999NACVGLPL01&dwvar_999NACVGLPL01_color=',\n",
       "  'image': ['http://en.narscosmetics.co.kr/on/demandware.static/-/Sites-itemmaster_NARS/default/dw4f6f8764/hi-res/0607845091028.jpg',\n",
       "   'http://en.narscosmetics.co.kr/on/demandware.static/-/Sites-itemmaster_NARS/default/dw94c97d09/alt1/0607845091028.jpg',\n",
       "   'http://en.narscosmetics.co.kr/on/demandware.static/Sites-KR-Site/-/en_KR/v1546225498151/images/noimageshadesmall.png'],\n",
       "  'salePrice': '₩ 37,000',\n",
       "  'originalPrice': '₩ 37,000',\n",
       "  'color': '바로크',\n",
       "  'category': '',\n",
       "  'brand': '나스',\n",
       "  'volume': '#'},\n",
       " {'name': '벨벳 글로스 립 펜슬',\n",
       "  'url': 'http://www.narscosmetics.co.kr/on/demandware.store/Sites-KR-Site/en_KR/Product-Variation?pid=999NACVGLPL01&dwvar_999NACVGLPL01_color=',\n",
       "  'image': ['http://en.narscosmetics.co.kr/on/demandware.static/-/Sites-itemmaster_NARS/default/dw4f6f8764/hi-res/0607845091028.jpg',\n",
       "   'http://en.narscosmetics.co.kr/on/demandware.static/-/Sites-itemmaster_NARS/default/dw94c97d09/alt1/0607845091028.jpg',\n",
       "   'http://en.narscosmetics.co.kr/on/demandware.static/Sites-KR-Site/-/en_KR/v1546225498151/images/noimageshadesmall.png'],\n",
       "  'salePrice': '₩ 37,000',\n",
       "  'originalPrice': '₩ 37,000',\n",
       "  'color': '바로크',\n",
       "  'category': '',\n",
       "  'brand': '나스',\n",
       "  'volume': '#'},\n",
       " {'name': '벨벳 글로스 립 펜슬',\n",
       "  'url': 'http://www.narscosmetics.co.kr/on/demandware.store/Sites-KR-Site/en_KR/Product-Variation?pid=999NACVGLPL01&dwvar_999NACVGLPL01_color=',\n",
       "  'image': ['http://en.narscosmetics.co.kr/on/demandware.static/-/Sites-itemmaster_NARS/default/dw4f6f8764/hi-res/0607845091028.jpg',\n",
       "   'http://en.narscosmetics.co.kr/on/demandware.static/-/Sites-itemmaster_NARS/default/dw94c97d09/alt1/0607845091028.jpg',\n",
       "   'http://en.narscosmetics.co.kr/on/demandware.static/Sites-KR-Site/-/en_KR/v1546225498151/images/noimageshadesmall.png'],\n",
       "  'salePrice': '₩ 37,000',\n",
       "  'originalPrice': '₩ 37,000',\n",
       "  'color': '바로크',\n",
       "  'category': '',\n",
       "  'brand': '나스',\n",
       "  'volume': '#'},\n",
       " {'name': '벨벳 글로스 립 펜슬',\n",
       "  'url': 'http://www.narscosmetics.co.kr/on/demandware.store/Sites-KR-Site/en_KR/Product-Variation?pid=999NACVGLPL01&dwvar_999NACVGLPL01_color=',\n",
       "  'image': ['http://en.narscosmetics.co.kr/on/demandware.static/-/Sites-itemmaster_NARS/default/dw4f6f8764/hi-res/0607845091028.jpg',\n",
       "   'http://en.narscosmetics.co.kr/on/demandware.static/-/Sites-itemmaster_NARS/default/dw94c97d09/alt1/0607845091028.jpg',\n",
       "   'http://en.narscosmetics.co.kr/on/demandware.static/Sites-KR-Site/-/en_KR/v1546225498151/images/noimageshadesmall.png'],\n",
       "  'salePrice': '₩ 37,000',\n",
       "  'originalPrice': '₩ 37,000',\n",
       "  'color': '바로크',\n",
       "  'category': '',\n",
       "  'brand': '나스',\n",
       "  'volume': '#'},\n",
       " {'name': '벨벳 립 글라이드',\n",
       "  'url': 'http://www.narscosmetics.co.kr/on/demandware.store/Sites-KR-Site/en_KR/Product-Variation?pid=999NAC0000040&dwvar_999NAC0000040_color=',\n",
       "  'image': ['http://en.narscosmetics.co.kr/on/demandware.static/-/Sites-itemmaster_NARS/default/dwc43a5cb1/hi-res/0607845027218.jpg',\n",
       "   'http://en.narscosmetics.co.kr/on/demandware.static/-/Sites-itemmaster_NARS/default/dw89034268/swatch/0607845027218.jpg'],\n",
       "  'salePrice': '₩ 37,000',\n",
       "  'originalPrice': '₩ 37,000',\n",
       "  'color': '에어리어',\n",
       "  'category': '',\n",
       "  'brand': '나스',\n",
       "  'volume': '#'},\n",
       " {'name': '벨벳 립 글라이드',\n",
       "  'url': 'http://www.narscosmetics.co.kr/on/demandware.store/Sites-KR-Site/en_KR/Product-Variation?pid=999NAC0000040&dwvar_999NAC0000040_color=',\n",
       "  'image': ['http://en.narscosmetics.co.kr/on/demandware.static/-/Sites-itemmaster_NARS/default/dwc43a5cb1/hi-res/0607845027218.jpg',\n",
       "   'http://en.narscosmetics.co.kr/on/demandware.static/-/Sites-itemmaster_NARS/default/dw89034268/swatch/0607845027218.jpg'],\n",
       "  'salePrice': '₩ 37,000',\n",
       "  'originalPrice': '₩ 37,000',\n",
       "  'color': '에어리어',\n",
       "  'category': '',\n",
       "  'brand': '나스',\n",
       "  'volume': '#'},\n",
       " {'name': '벨벳 립 글라이드',\n",
       "  'url': 'http://www.narscosmetics.co.kr/on/demandware.store/Sites-KR-Site/en_KR/Product-Variation?pid=999NAC0000040&dwvar_999NAC0000040_color=',\n",
       "  'image': ['http://en.narscosmetics.co.kr/on/demandware.static/-/Sites-itemmaster_NARS/default/dwc43a5cb1/hi-res/0607845027218.jpg',\n",
       "   'http://en.narscosmetics.co.kr/on/demandware.static/-/Sites-itemmaster_NARS/default/dw89034268/swatch/0607845027218.jpg'],\n",
       "  'salePrice': '₩ 37,000',\n",
       "  'originalPrice': '₩ 37,000',\n",
       "  'color': '에어리어',\n",
       "  'category': '',\n",
       "  'brand': '나스',\n",
       "  'volume': '#'},\n",
       " {'name': '벨벳 립 글라이드',\n",
       "  'url': 'http://www.narscosmetics.co.kr/on/demandware.store/Sites-KR-Site/en_KR/Product-Variation?pid=999NAC0000040&dwvar_999NAC0000040_color=',\n",
       "  'image': ['http://en.narscosmetics.co.kr/on/demandware.static/-/Sites-itemmaster_NARS/default/dwc43a5cb1/hi-res/0607845027218.jpg',\n",
       "   'http://en.narscosmetics.co.kr/on/demandware.static/-/Sites-itemmaster_NARS/default/dw89034268/swatch/0607845027218.jpg'],\n",
       "  'salePrice': '₩ 37,000',\n",
       "  'originalPrice': '₩ 37,000',\n",
       "  'color': '에어리어',\n",
       "  'category': '',\n",
       "  'brand': '나스',\n",
       "  'volume': '#'},\n",
       " {'name': '벨벳 립 글라이드',\n",
       "  'url': 'http://www.narscosmetics.co.kr/on/demandware.store/Sites-KR-Site/en_KR/Product-Variation?pid=999NAC0000040&dwvar_999NAC0000040_color=',\n",
       "  'image': ['http://en.narscosmetics.co.kr/on/demandware.static/-/Sites-itemmaster_NARS/default/dwc43a5cb1/hi-res/0607845027218.jpg',\n",
       "   'http://en.narscosmetics.co.kr/on/demandware.static/-/Sites-itemmaster_NARS/default/dw89034268/swatch/0607845027218.jpg'],\n",
       "  'salePrice': '₩ 37,000',\n",
       "  'originalPrice': '₩ 37,000',\n",
       "  'color': '에어리어',\n",
       "  'category': '',\n",
       "  'brand': '나스',\n",
       "  'volume': '#'},\n",
       " {'name': '벨벳 립 글라이드',\n",
       "  'url': 'http://www.narscosmetics.co.kr/on/demandware.store/Sites-KR-Site/en_KR/Product-Variation?pid=999NAC0000040&dwvar_999NAC0000040_color=',\n",
       "  'image': ['http://en.narscosmetics.co.kr/on/demandware.static/-/Sites-itemmaster_NARS/default/dwc43a5cb1/hi-res/0607845027218.jpg',\n",
       "   'http://en.narscosmetics.co.kr/on/demandware.static/-/Sites-itemmaster_NARS/default/dw89034268/swatch/0607845027218.jpg'],\n",
       "  'salePrice': '₩ 37,000',\n",
       "  'originalPrice': '₩ 37,000',\n",
       "  'color': '에어리어',\n",
       "  'category': '',\n",
       "  'brand': '나스',\n",
       "  'volume': '#'},\n",
       " {'name': '벨벳 립 글라이드',\n",
       "  'url': 'http://www.narscosmetics.co.kr/on/demandware.store/Sites-KR-Site/en_KR/Product-Variation?pid=999NAC0000040&dwvar_999NAC0000040_color=',\n",
       "  'image': ['http://en.narscosmetics.co.kr/on/demandware.static/-/Sites-itemmaster_NARS/default/dwc43a5cb1/hi-res/0607845027218.jpg',\n",
       "   'http://en.narscosmetics.co.kr/on/demandware.static/-/Sites-itemmaster_NARS/default/dw89034268/swatch/0607845027218.jpg'],\n",
       "  'salePrice': '₩ 37,000',\n",
       "  'originalPrice': '₩ 37,000',\n",
       "  'color': '에어리어',\n",
       "  'category': '',\n",
       "  'brand': '나스',\n",
       "  'volume': '#'},\n",
       " {'name': '벨벳 립 글라이드',\n",
       "  'url': 'http://www.narscosmetics.co.kr/on/demandware.store/Sites-KR-Site/en_KR/Product-Variation?pid=999NAC0000040&dwvar_999NAC0000040_color=',\n",
       "  'image': ['http://en.narscosmetics.co.kr/on/demandware.static/-/Sites-itemmaster_NARS/default/dwc43a5cb1/hi-res/0607845027218.jpg',\n",
       "   'http://en.narscosmetics.co.kr/on/demandware.static/-/Sites-itemmaster_NARS/default/dw89034268/swatch/0607845027218.jpg'],\n",
       "  'salePrice': '₩ 37,000',\n",
       "  'originalPrice': '₩ 37,000',\n",
       "  'color': '에어리어',\n",
       "  'category': '',\n",
       "  'brand': '나스',\n",
       "  'volume': '#'},\n",
       " {'name': '벨벳 립 글라이드',\n",
       "  'url': 'http://www.narscosmetics.co.kr/on/demandware.store/Sites-KR-Site/en_KR/Product-Variation?pid=999NAC0000040&dwvar_999NAC0000040_color=',\n",
       "  'image': ['http://en.narscosmetics.co.kr/on/demandware.static/-/Sites-itemmaster_NARS/default/dwc43a5cb1/hi-res/0607845027218.jpg',\n",
       "   'http://en.narscosmetics.co.kr/on/demandware.static/-/Sites-itemmaster_NARS/default/dw89034268/swatch/0607845027218.jpg'],\n",
       "  'salePrice': '₩ 37,000',\n",
       "  'originalPrice': '₩ 37,000',\n",
       "  'color': '에어리어',\n",
       "  'category': '',\n",
       "  'brand': '나스',\n",
       "  'volume': '#'},\n",
       " {'name': '벨벳 립 글라이드',\n",
       "  'url': 'http://www.narscosmetics.co.kr/on/demandware.store/Sites-KR-Site/en_KR/Product-Variation?pid=999NAC0000040&dwvar_999NAC0000040_color=',\n",
       "  'image': ['http://en.narscosmetics.co.kr/on/demandware.static/-/Sites-itemmaster_NARS/default/dwc43a5cb1/hi-res/0607845027218.jpg',\n",
       "   'http://en.narscosmetics.co.kr/on/demandware.static/-/Sites-itemmaster_NARS/default/dw89034268/swatch/0607845027218.jpg'],\n",
       "  'salePrice': '₩ 37,000',\n",
       "  'originalPrice': '₩ 37,000',\n",
       "  'color': '에어리어',\n",
       "  'category': '',\n",
       "  'brand': '나스',\n",
       "  'volume': '#'},\n",
       " {'name': '벨벳 립 글라이드',\n",
       "  'url': 'http://www.narscosmetics.co.kr/on/demandware.store/Sites-KR-Site/en_KR/Product-Variation?pid=999NAC0000040&dwvar_999NAC0000040_color=',\n",
       "  'image': ['http://en.narscosmetics.co.kr/on/demandware.static/-/Sites-itemmaster_NARS/default/dwc43a5cb1/hi-res/0607845027218.jpg',\n",
       "   'http://en.narscosmetics.co.kr/on/demandware.static/-/Sites-itemmaster_NARS/default/dw89034268/swatch/0607845027218.jpg'],\n",
       "  'salePrice': '₩ 37,000',\n",
       "  'originalPrice': '₩ 37,000',\n",
       "  'color': '에어리어',\n",
       "  'category': '',\n",
       "  'brand': '나스',\n",
       "  'volume': '#'},\n",
       " {'name': '벨벳 립 글라이드',\n",
       "  'url': 'http://www.narscosmetics.co.kr/on/demandware.store/Sites-KR-Site/en_KR/Product-Variation?pid=999NAC0000040&dwvar_999NAC0000040_color=',\n",
       "  'image': ['http://en.narscosmetics.co.kr/on/demandware.static/-/Sites-itemmaster_NARS/default/dwc43a5cb1/hi-res/0607845027218.jpg',\n",
       "   'http://en.narscosmetics.co.kr/on/demandware.static/-/Sites-itemmaster_NARS/default/dw89034268/swatch/0607845027218.jpg'],\n",
       "  'salePrice': '₩ 37,000',\n",
       "  'originalPrice': '₩ 37,000',\n",
       "  'color': '에어리어',\n",
       "  'category': '',\n",
       "  'brand': '나스',\n",
       "  'volume': '#'},\n",
       " {'name': '벨벳 립 글라이드',\n",
       "  'url': 'http://www.narscosmetics.co.kr/on/demandware.store/Sites-KR-Site/en_KR/Product-Variation?pid=999NAC0000040&dwvar_999NAC0000040_color=',\n",
       "  'image': ['http://en.narscosmetics.co.kr/on/demandware.static/-/Sites-itemmaster_NARS/default/dwc43a5cb1/hi-res/0607845027218.jpg',\n",
       "   'http://en.narscosmetics.co.kr/on/demandware.static/-/Sites-itemmaster_NARS/default/dw89034268/swatch/0607845027218.jpg'],\n",
       "  'salePrice': '₩ 37,000',\n",
       "  'originalPrice': '₩ 37,000',\n",
       "  'color': '에어리어',\n",
       "  'category': '',\n",
       "  'brand': '나스',\n",
       "  'volume': '#'},\n",
       " {'name': '벨벳 립 글라이드',\n",
       "  'url': 'http://www.narscosmetics.co.kr/on/demandware.store/Sites-KR-Site/en_KR/Product-Variation?pid=999NAC0000040&dwvar_999NAC0000040_color=',\n",
       "  'image': ['http://en.narscosmetics.co.kr/on/demandware.static/-/Sites-itemmaster_NARS/default/dwc43a5cb1/hi-res/0607845027218.jpg',\n",
       "   'http://en.narscosmetics.co.kr/on/demandware.static/-/Sites-itemmaster_NARS/default/dw89034268/swatch/0607845027218.jpg'],\n",
       "  'salePrice': '₩ 37,000',\n",
       "  'originalPrice': '₩ 37,000',\n",
       "  'color': '에어리어',\n",
       "  'category': '',\n",
       "  'brand': '나스',\n",
       "  'volume': '#'},\n",
       " {'name': '벨벳 립 글라이드',\n",
       "  'url': 'http://www.narscosmetics.co.kr/on/demandware.store/Sites-KR-Site/en_KR/Product-Variation?pid=999NAC0000040&dwvar_999NAC0000040_color=',\n",
       "  'image': ['http://en.narscosmetics.co.kr/on/demandware.static/-/Sites-itemmaster_NARS/default/dwc43a5cb1/hi-res/0607845027218.jpg',\n",
       "   'http://en.narscosmetics.co.kr/on/demandware.static/-/Sites-itemmaster_NARS/default/dw89034268/swatch/0607845027218.jpg'],\n",
       "  'salePrice': '₩ 37,000',\n",
       "  'originalPrice': '₩ 37,000',\n",
       "  'color': '에어리어',\n",
       "  'category': '',\n",
       "  'brand': '나스',\n",
       "  'volume': '#'},\n",
       " {'name': '벨벳 립 글라이드',\n",
       "  'url': 'http://www.narscosmetics.co.kr/on/demandware.store/Sites-KR-Site/en_KR/Product-Variation?pid=999NAC0000040&dwvar_999NAC0000040_color=',\n",
       "  'image': ['http://en.narscosmetics.co.kr/on/demandware.static/-/Sites-itemmaster_NARS/default/dwc43a5cb1/hi-res/0607845027218.jpg',\n",
       "   'http://en.narscosmetics.co.kr/on/demandware.static/-/Sites-itemmaster_NARS/default/dw89034268/swatch/0607845027218.jpg'],\n",
       "  'salePrice': '₩ 37,000',\n",
       "  'originalPrice': '₩ 37,000',\n",
       "  'color': '에어리어',\n",
       "  'category': '',\n",
       "  'brand': '나스',\n",
       "  'volume': '#'},\n",
       " {'name': '벨벳 립 글라이드',\n",
       "  'url': 'http://www.narscosmetics.co.kr/on/demandware.store/Sites-KR-Site/en_KR/Product-Variation?pid=999NAC0000040&dwvar_999NAC0000040_color=',\n",
       "  'image': ['http://en.narscosmetics.co.kr/on/demandware.static/-/Sites-itemmaster_NARS/default/dwc43a5cb1/hi-res/0607845027218.jpg',\n",
       "   'http://en.narscosmetics.co.kr/on/demandware.static/-/Sites-itemmaster_NARS/default/dw89034268/swatch/0607845027218.jpg'],\n",
       "  'salePrice': '₩ 37,000',\n",
       "  'originalPrice': '₩ 37,000',\n",
       "  'color': '에어리어',\n",
       "  'category': '',\n",
       "  'brand': '나스',\n",
       "  'volume': '#'},\n",
       " {'name': '벨벳 립 글라이드',\n",
       "  'url': 'http://www.narscosmetics.co.kr/on/demandware.store/Sites-KR-Site/en_KR/Product-Variation?pid=999NAC0000040&dwvar_999NAC0000040_color=',\n",
       "  'image': ['http://en.narscosmetics.co.kr/on/demandware.static/-/Sites-itemmaster_NARS/default/dwc43a5cb1/hi-res/0607845027218.jpg',\n",
       "   'http://en.narscosmetics.co.kr/on/demandware.static/-/Sites-itemmaster_NARS/default/dw89034268/swatch/0607845027218.jpg'],\n",
       "  'salePrice': '₩ 37,000',\n",
       "  'originalPrice': '₩ 37,000',\n",
       "  'color': '에어리어',\n",
       "  'category': '',\n",
       "  'brand': '나스',\n",
       "  'volume': '#'},\n",
       " {'name': '벨벳 립 글라이드',\n",
       "  'url': 'http://www.narscosmetics.co.kr/on/demandware.store/Sites-KR-Site/en_KR/Product-Variation?pid=999NAC0000040&dwvar_999NAC0000040_color=',\n",
       "  'image': ['http://en.narscosmetics.co.kr/on/demandware.static/-/Sites-itemmaster_NARS/default/dwc43a5cb1/hi-res/0607845027218.jpg',\n",
       "   'http://en.narscosmetics.co.kr/on/demandware.static/-/Sites-itemmaster_NARS/default/dw89034268/swatch/0607845027218.jpg'],\n",
       "  'salePrice': '₩ 37,000',\n",
       "  'originalPrice': '₩ 37,000',\n",
       "  'color': '에어리어',\n",
       "  'category': '',\n",
       "  'brand': '나스',\n",
       "  'volume': '#'},\n",
       " {'name': '벨벳 립 글라이드',\n",
       "  'url': 'http://www.narscosmetics.co.kr/on/demandware.store/Sites-KR-Site/en_KR/Product-Variation?pid=999NAC0000040&dwvar_999NAC0000040_color=',\n",
       "  'image': ['http://en.narscosmetics.co.kr/on/demandware.static/-/Sites-itemmaster_NARS/default/dwc43a5cb1/hi-res/0607845027218.jpg',\n",
       "   'http://en.narscosmetics.co.kr/on/demandware.static/-/Sites-itemmaster_NARS/default/dw89034268/swatch/0607845027218.jpg'],\n",
       "  'salePrice': '₩ 37,000',\n",
       "  'originalPrice': '₩ 37,000',\n",
       "  'color': '에어리어',\n",
       "  'category': '',\n",
       "  'brand': '나스',\n",
       "  'volume': '#'},\n",
       " {'name': '벨벳 립 글라이드',\n",
       "  'url': 'http://www.narscosmetics.co.kr/on/demandware.store/Sites-KR-Site/en_KR/Product-Variation?pid=999NAC0000040&dwvar_999NAC0000040_color=',\n",
       "  'image': ['http://en.narscosmetics.co.kr/on/demandware.static/-/Sites-itemmaster_NARS/default/dwc43a5cb1/hi-res/0607845027218.jpg',\n",
       "   'http://en.narscosmetics.co.kr/on/demandware.static/-/Sites-itemmaster_NARS/default/dw89034268/swatch/0607845027218.jpg'],\n",
       "  'salePrice': '₩ 37,000',\n",
       "  'originalPrice': '₩ 37,000',\n",
       "  'color': '에어리어',\n",
       "  'category': '',\n",
       "  'brand': '나스',\n",
       "  'volume': '#'},\n",
       " {'name': '라저 댄 라이프 립 글로스 - 티베르',\n",
       "  'url': 'http://www.narscosmetics.co.kr/on/demandware.store/Sites-KR-Site/en_KR/Product-Variation?pid=999NACLTLLG01&dwvar_999NACLTLLG01_color=7845013235',\n",
       "  'image': ['http://en.narscosmetics.co.kr/on/demandware.static/-/Sites-itemmaster_NARS/default/dw79e8994e/hi-res/0607845013235.jpg',\n",
       "   'http://en.narscosmetics.co.kr/on/demandware.static/-/Sites-itemmaster_NARS/default/dw1d64f0fc/alt1/0607845013235.jpg',\n",
       "   'http://en.narscosmetics.co.kr/on/demandware.static/Sites-KR-Site/-/en_KR/v1546225498151/images/noimageshadesmall.png'],\n",
       "  'salePrice': '₩ 36,000',\n",
       "  'originalPrice': '₩ 36,000',\n",
       "  'color': '티베르',\n",
       "  'category': '',\n",
       "  'brand': '나스',\n",
       "  'volume': '#'},\n",
       " {'name': '라저 댄 라이프 립 글로스 - 티베르',\n",
       "  'url': 'http://www.narscosmetics.co.kr/on/demandware.store/Sites-KR-Site/en_KR/Product-Variation?pid=999NACLTLLG01&dwvar_999NACLTLLG01_color=7845013235',\n",
       "  'image': ['http://en.narscosmetics.co.kr/on/demandware.static/-/Sites-itemmaster_NARS/default/dw79e8994e/hi-res/0607845013235.jpg',\n",
       "   'http://en.narscosmetics.co.kr/on/demandware.static/-/Sites-itemmaster_NARS/default/dw1d64f0fc/alt1/0607845013235.jpg',\n",
       "   'http://en.narscosmetics.co.kr/on/demandware.static/Sites-KR-Site/-/en_KR/v1546225498151/images/noimageshadesmall.png'],\n",
       "  'salePrice': '₩ 36,000',\n",
       "  'originalPrice': '₩ 36,000',\n",
       "  'color': '티베르',\n",
       "  'category': '',\n",
       "  'brand': '나스',\n",
       "  'volume': '#'},\n",
       " {'name': '라저 댄 라이프 립 글로스 - 티베르',\n",
       "  'url': 'http://www.narscosmetics.co.kr/on/demandware.store/Sites-KR-Site/en_KR/Product-Variation?pid=999NACLTLLG01&dwvar_999NACLTLLG01_color=7845013235',\n",
       "  'image': ['http://en.narscosmetics.co.kr/on/demandware.static/-/Sites-itemmaster_NARS/default/dw79e8994e/hi-res/0607845013235.jpg',\n",
       "   'http://en.narscosmetics.co.kr/on/demandware.static/-/Sites-itemmaster_NARS/default/dw1d64f0fc/alt1/0607845013235.jpg',\n",
       "   'http://en.narscosmetics.co.kr/on/demandware.static/Sites-KR-Site/-/en_KR/v1546225498151/images/noimageshadesmall.png'],\n",
       "  'salePrice': '₩ 36,000',\n",
       "  'originalPrice': '₩ 36,000',\n",
       "  'color': '티베르',\n",
       "  'category': '',\n",
       "  'brand': '나스',\n",
       "  'volume': '#'},\n",
       " {'name': '라저 댄 라이프 립 글로스 - 티베르',\n",
       "  'url': 'http://www.narscosmetics.co.kr/on/demandware.store/Sites-KR-Site/en_KR/Product-Variation?pid=999NACLTLLG01&dwvar_999NACLTLLG01_color=7845013235',\n",
       "  'image': ['http://en.narscosmetics.co.kr/on/demandware.static/-/Sites-itemmaster_NARS/default/dw79e8994e/hi-res/0607845013235.jpg',\n",
       "   'http://en.narscosmetics.co.kr/on/demandware.static/-/Sites-itemmaster_NARS/default/dw1d64f0fc/alt1/0607845013235.jpg',\n",
       "   'http://en.narscosmetics.co.kr/on/demandware.static/Sites-KR-Site/-/en_KR/v1546225498151/images/noimageshadesmall.png'],\n",
       "  'salePrice': '₩ 36,000',\n",
       "  'originalPrice': '₩ 36,000',\n",
       "  'color': '티베르',\n",
       "  'category': '',\n",
       "  'brand': '나스',\n",
       "  'volume': '#'},\n",
       " {'name': '라저 댄 라이프 립 글로스 - 티베르',\n",
       "  'url': 'http://www.narscosmetics.co.kr/on/demandware.store/Sites-KR-Site/en_KR/Product-Variation?pid=999NACLTLLG01&dwvar_999NACLTLLG01_color=7845013235',\n",
       "  'image': ['http://en.narscosmetics.co.kr/on/demandware.static/-/Sites-itemmaster_NARS/default/dw79e8994e/hi-res/0607845013235.jpg',\n",
       "   'http://en.narscosmetics.co.kr/on/demandware.static/-/Sites-itemmaster_NARS/default/dw1d64f0fc/alt1/0607845013235.jpg',\n",
       "   'http://en.narscosmetics.co.kr/on/demandware.static/Sites-KR-Site/-/en_KR/v1546225498151/images/noimageshadesmall.png'],\n",
       "  'salePrice': '₩ 36,000',\n",
       "  'originalPrice': '₩ 36,000',\n",
       "  'color': '티베르',\n",
       "  'category': '',\n",
       "  'brand': '나스',\n",
       "  'volume': '#'},\n",
       " {'name': '라저 댄 라이프 립 글로스 - 티베르',\n",
       "  'url': 'http://www.narscosmetics.co.kr/on/demandware.store/Sites-KR-Site/en_KR/Product-Variation?pid=999NACLTLLG01&dwvar_999NACLTLLG01_color=7845013235',\n",
       "  'image': ['http://en.narscosmetics.co.kr/on/demandware.static/-/Sites-itemmaster_NARS/default/dw79e8994e/hi-res/0607845013235.jpg',\n",
       "   'http://en.narscosmetics.co.kr/on/demandware.static/-/Sites-itemmaster_NARS/default/dw1d64f0fc/alt1/0607845013235.jpg',\n",
       "   'http://en.narscosmetics.co.kr/on/demandware.static/Sites-KR-Site/-/en_KR/v1546225498151/images/noimageshadesmall.png'],\n",
       "  'salePrice': '₩ 36,000',\n",
       "  'originalPrice': '₩ 36,000',\n",
       "  'color': '티베르',\n",
       "  'category': '',\n",
       "  'brand': '나스',\n",
       "  'volume': '#'},\n",
       " {'name': '라저 댄 라이프 립 글로스 - 티베르',\n",
       "  'url': 'http://www.narscosmetics.co.kr/on/demandware.store/Sites-KR-Site/en_KR/Product-Variation?pid=999NACLTLLG01&dwvar_999NACLTLLG01_color=7845013235',\n",
       "  'image': ['http://en.narscosmetics.co.kr/on/demandware.static/-/Sites-itemmaster_NARS/default/dw79e8994e/hi-res/0607845013235.jpg',\n",
       "   'http://en.narscosmetics.co.kr/on/demandware.static/-/Sites-itemmaster_NARS/default/dw1d64f0fc/alt1/0607845013235.jpg',\n",
       "   'http://en.narscosmetics.co.kr/on/demandware.static/Sites-KR-Site/-/en_KR/v1546225498151/images/noimageshadesmall.png'],\n",
       "  'salePrice': '₩ 36,000',\n",
       "  'originalPrice': '₩ 36,000',\n",
       "  'color': '티베르',\n",
       "  'category': '',\n",
       "  'brand': '나스',\n",
       "  'volume': '#'},\n",
       " {'name': '라저 댄 라이프 립 글로스 - 티베르',\n",
       "  'url': 'http://www.narscosmetics.co.kr/on/demandware.store/Sites-KR-Site/en_KR/Product-Variation?pid=999NACLTLLG01&dwvar_999NACLTLLG01_color=7845013235',\n",
       "  'image': ['http://en.narscosmetics.co.kr/on/demandware.static/-/Sites-itemmaster_NARS/default/dw79e8994e/hi-res/0607845013235.jpg',\n",
       "   'http://en.narscosmetics.co.kr/on/demandware.static/-/Sites-itemmaster_NARS/default/dw1d64f0fc/alt1/0607845013235.jpg',\n",
       "   'http://en.narscosmetics.co.kr/on/demandware.static/Sites-KR-Site/-/en_KR/v1546225498151/images/noimageshadesmall.png'],\n",
       "  'salePrice': '₩ 36,000',\n",
       "  'originalPrice': '₩ 36,000',\n",
       "  'color': '티베르',\n",
       "  'category': '',\n",
       "  'brand': '나스',\n",
       "  'volume': '#'},\n",
       " {'name': '라저 댄 라이프 립 글로스 - 티베르',\n",
       "  'url': 'http://www.narscosmetics.co.kr/on/demandware.store/Sites-KR-Site/en_KR/Product-Variation?pid=999NACLTLLG01&dwvar_999NACLTLLG01_color=7845013235',\n",
       "  'image': ['http://en.narscosmetics.co.kr/on/demandware.static/-/Sites-itemmaster_NARS/default/dw79e8994e/hi-res/0607845013235.jpg',\n",
       "   'http://en.narscosmetics.co.kr/on/demandware.static/-/Sites-itemmaster_NARS/default/dw1d64f0fc/alt1/0607845013235.jpg',\n",
       "   'http://en.narscosmetics.co.kr/on/demandware.static/Sites-KR-Site/-/en_KR/v1546225498151/images/noimageshadesmall.png'],\n",
       "  'salePrice': '₩ 36,000',\n",
       "  'originalPrice': '₩ 36,000',\n",
       "  'color': '티베르',\n",
       "  'category': '',\n",
       "  'brand': '나스',\n",
       "  'volume': '#'},\n",
       " {'name': '라저 댄 라이프 립 글로스 - 티베르',\n",
       "  'url': 'http://www.narscosmetics.co.kr/on/demandware.store/Sites-KR-Site/en_KR/Product-Variation?pid=999NACLTLLG01&dwvar_999NACLTLLG01_color=7845013235',\n",
       "  'image': ['http://en.narscosmetics.co.kr/on/demandware.static/-/Sites-itemmaster_NARS/default/dw79e8994e/hi-res/0607845013235.jpg',\n",
       "   'http://en.narscosmetics.co.kr/on/demandware.static/-/Sites-itemmaster_NARS/default/dw1d64f0fc/alt1/0607845013235.jpg',\n",
       "   'http://en.narscosmetics.co.kr/on/demandware.static/Sites-KR-Site/-/en_KR/v1546225498151/images/noimageshadesmall.png'],\n",
       "  'salePrice': '₩ 36,000',\n",
       "  'originalPrice': '₩ 36,000',\n",
       "  'color': '티베르',\n",
       "  'category': '',\n",
       "  'brand': '나스',\n",
       "  'volume': '#'},\n",
       " {'name': '라저 댄 라이프 립 글로스 - 티베르',\n",
       "  'url': 'http://www.narscosmetics.co.kr/on/demandware.store/Sites-KR-Site/en_KR/Product-Variation?pid=999NACLTLLG01&dwvar_999NACLTLLG01_color=7845013235',\n",
       "  'image': ['http://en.narscosmetics.co.kr/on/demandware.static/-/Sites-itemmaster_NARS/default/dw79e8994e/hi-res/0607845013235.jpg',\n",
       "   'http://en.narscosmetics.co.kr/on/demandware.static/-/Sites-itemmaster_NARS/default/dw1d64f0fc/alt1/0607845013235.jpg',\n",
       "   'http://en.narscosmetics.co.kr/on/demandware.static/Sites-KR-Site/-/en_KR/v1546225498151/images/noimageshadesmall.png'],\n",
       "  'salePrice': '₩ 36,000',\n",
       "  'originalPrice': '₩ 36,000',\n",
       "  'color': '티베르',\n",
       "  'category': '',\n",
       "  'brand': '나스',\n",
       "  'volume': '#'},\n",
       " {'name': '라저 댄 라이프 립 글로스 - 티베르',\n",
       "  'url': 'http://www.narscosmetics.co.kr/on/demandware.store/Sites-KR-Site/en_KR/Product-Variation?pid=999NACLTLLG01&dwvar_999NACLTLLG01_color=7845013235',\n",
       "  'image': ['http://en.narscosmetics.co.kr/on/demandware.static/-/Sites-itemmaster_NARS/default/dw79e8994e/hi-res/0607845013235.jpg',\n",
       "   'http://en.narscosmetics.co.kr/on/demandware.static/-/Sites-itemmaster_NARS/default/dw1d64f0fc/alt1/0607845013235.jpg',\n",
       "   'http://en.narscosmetics.co.kr/on/demandware.static/Sites-KR-Site/-/en_KR/v1546225498151/images/noimageshadesmall.png'],\n",
       "  'salePrice': '₩ 36,000',\n",
       "  'originalPrice': '₩ 36,000',\n",
       "  'color': '티베르',\n",
       "  'category': '',\n",
       "  'brand': '나스',\n",
       "  'volume': '#'},\n",
       " {'name': '퓨어 매트 립스틱 - 볼가',\n",
       "  'url': 'http://www.narscosmetics.co.kr/on/demandware.store/Sites-KR-Site/en_KR/Product-Variation?pid=999NACPRMLS01&dwvar_999NACPRMLS01_color=7845035015',\n",
       "  'image': ['http://en.narscosmetics.co.kr/on/demandware.static/-/Sites-itemmaster_NARS/default/dw78352174/hi-res/0607845035015.jpg',\n",
       "   'http://en.narscosmetics.co.kr/on/demandware.static/-/Sites-itemmaster_NARS/default/dwcafc3e9a/alt1/0607845035015.jpg',\n",
       "   'http://en.narscosmetics.co.kr/on/demandware.static/Sites-KR-Site/-/en_KR/v1546225498151/images/noimageshadesmall.png'],\n",
       "  'salePrice': '₩ 37,000',\n",
       "  'originalPrice': '₩ 37,000',\n",
       "  'color': '볼가',\n",
       "  'category': '',\n",
       "  'brand': '나스',\n",
       "  'volume': '#'},\n",
       " {'name': '퓨어 매트 립스틱 - 볼가',\n",
       "  'url': 'http://www.narscosmetics.co.kr/on/demandware.store/Sites-KR-Site/en_KR/Product-Variation?pid=999NACPRMLS01&dwvar_999NACPRMLS01_color=7845035015',\n",
       "  'image': ['http://en.narscosmetics.co.kr/on/demandware.static/-/Sites-itemmaster_NARS/default/dw78352174/hi-res/0607845035015.jpg',\n",
       "   'http://en.narscosmetics.co.kr/on/demandware.static/-/Sites-itemmaster_NARS/default/dwcafc3e9a/alt1/0607845035015.jpg',\n",
       "   'http://en.narscosmetics.co.kr/on/demandware.static/Sites-KR-Site/-/en_KR/v1546225498151/images/noimageshadesmall.png'],\n",
       "  'salePrice': '₩ 37,000',\n",
       "  'originalPrice': '₩ 37,000',\n",
       "  'color': '볼가',\n",
       "  'category': '',\n",
       "  'brand': '나스',\n",
       "  'volume': '#'},\n",
       " {'name': '퓨어 매트 립스틱 - 볼가',\n",
       "  'url': 'http://www.narscosmetics.co.kr/on/demandware.store/Sites-KR-Site/en_KR/Product-Variation?pid=999NACPRMLS01&dwvar_999NACPRMLS01_color=7845035015',\n",
       "  'image': ['http://en.narscosmetics.co.kr/on/demandware.static/-/Sites-itemmaster_NARS/default/dw78352174/hi-res/0607845035015.jpg',\n",
       "   'http://en.narscosmetics.co.kr/on/demandware.static/-/Sites-itemmaster_NARS/default/dwcafc3e9a/alt1/0607845035015.jpg',\n",
       "   'http://en.narscosmetics.co.kr/on/demandware.static/Sites-KR-Site/-/en_KR/v1546225498151/images/noimageshadesmall.png'],\n",
       "  'salePrice': '₩ 37,000',\n",
       "  'originalPrice': '₩ 37,000',\n",
       "  'color': '볼가',\n",
       "  'category': '',\n",
       "  'brand': '나스',\n",
       "  'volume': '#'},\n",
       " {'name': '퓨어 매트 립스틱 - 볼가',\n",
       "  'url': 'http://www.narscosmetics.co.kr/on/demandware.store/Sites-KR-Site/en_KR/Product-Variation?pid=999NACPRMLS01&dwvar_999NACPRMLS01_color=7845035015',\n",
       "  'image': ['http://en.narscosmetics.co.kr/on/demandware.static/-/Sites-itemmaster_NARS/default/dw78352174/hi-res/0607845035015.jpg',\n",
       "   'http://en.narscosmetics.co.kr/on/demandware.static/-/Sites-itemmaster_NARS/default/dwcafc3e9a/alt1/0607845035015.jpg',\n",
       "   'http://en.narscosmetics.co.kr/on/demandware.static/Sites-KR-Site/-/en_KR/v1546225498151/images/noimageshadesmall.png'],\n",
       "  'salePrice': '₩ 37,000',\n",
       "  'originalPrice': '₩ 37,000',\n",
       "  'color': '볼가',\n",
       "  'category': '',\n",
       "  'brand': '나스',\n",
       "  'volume': '#'},\n",
       " {'name': '퓨어 매트 립스틱 - 볼가',\n",
       "  'url': 'http://www.narscosmetics.co.kr/on/demandware.store/Sites-KR-Site/en_KR/Product-Variation?pid=999NACPRMLS01&dwvar_999NACPRMLS01_color=7845035015',\n",
       "  'image': ['http://en.narscosmetics.co.kr/on/demandware.static/-/Sites-itemmaster_NARS/default/dw78352174/hi-res/0607845035015.jpg',\n",
       "   'http://en.narscosmetics.co.kr/on/demandware.static/-/Sites-itemmaster_NARS/default/dwcafc3e9a/alt1/0607845035015.jpg',\n",
       "   'http://en.narscosmetics.co.kr/on/demandware.static/Sites-KR-Site/-/en_KR/v1546225498151/images/noimageshadesmall.png'],\n",
       "  'salePrice': '₩ 37,000',\n",
       "  'originalPrice': '₩ 37,000',\n",
       "  'color': '볼가',\n",
       "  'category': '',\n",
       "  'brand': '나스',\n",
       "  'volume': '#'},\n",
       " {'name': '퓨어 매트 립스틱 - 볼가',\n",
       "  'url': 'http://www.narscosmetics.co.kr/on/demandware.store/Sites-KR-Site/en_KR/Product-Variation?pid=999NACPRMLS01&dwvar_999NACPRMLS01_color=7845035015',\n",
       "  'image': ['http://en.narscosmetics.co.kr/on/demandware.static/-/Sites-itemmaster_NARS/default/dw78352174/hi-res/0607845035015.jpg',\n",
       "   'http://en.narscosmetics.co.kr/on/demandware.static/-/Sites-itemmaster_NARS/default/dwcafc3e9a/alt1/0607845035015.jpg',\n",
       "   'http://en.narscosmetics.co.kr/on/demandware.static/Sites-KR-Site/-/en_KR/v1546225498151/images/noimageshadesmall.png'],\n",
       "  'salePrice': '₩ 37,000',\n",
       "  'originalPrice': '₩ 37,000',\n",
       "  'color': '볼가',\n",
       "  'category': '',\n",
       "  'brand': '나스',\n",
       "  'volume': '#'},\n",
       " {'name': '퓨어 매트 립스틱 - 볼가',\n",
       "  'url': 'http://www.narscosmetics.co.kr/on/demandware.store/Sites-KR-Site/en_KR/Product-Variation?pid=999NACPRMLS01&dwvar_999NACPRMLS01_color=7845035015',\n",
       "  'image': ['http://en.narscosmetics.co.kr/on/demandware.static/-/Sites-itemmaster_NARS/default/dw78352174/hi-res/0607845035015.jpg',\n",
       "   'http://en.narscosmetics.co.kr/on/demandware.static/-/Sites-itemmaster_NARS/default/dwcafc3e9a/alt1/0607845035015.jpg',\n",
       "   'http://en.narscosmetics.co.kr/on/demandware.static/Sites-KR-Site/-/en_KR/v1546225498151/images/noimageshadesmall.png'],\n",
       "  'salePrice': '₩ 37,000',\n",
       "  'originalPrice': '₩ 37,000',\n",
       "  'color': '볼가',\n",
       "  'category': '',\n",
       "  'brand': '나스',\n",
       "  'volume': '#'},\n",
       " {'name': '퓨어 매트 립스틱 - 볼가',\n",
       "  'url': 'http://www.narscosmetics.co.kr/on/demandware.store/Sites-KR-Site/en_KR/Product-Variation?pid=999NACPRMLS01&dwvar_999NACPRMLS01_color=7845035015',\n",
       "  'image': ['http://en.narscosmetics.co.kr/on/demandware.static/-/Sites-itemmaster_NARS/default/dw78352174/hi-res/0607845035015.jpg',\n",
       "   'http://en.narscosmetics.co.kr/on/demandware.static/-/Sites-itemmaster_NARS/default/dwcafc3e9a/alt1/0607845035015.jpg',\n",
       "   'http://en.narscosmetics.co.kr/on/demandware.static/Sites-KR-Site/-/en_KR/v1546225498151/images/noimageshadesmall.png'],\n",
       "  'salePrice': '₩ 37,000',\n",
       "  'originalPrice': '₩ 37,000',\n",
       "  'color': '볼가',\n",
       "  'category': '',\n",
       "  'brand': '나스',\n",
       "  'volume': '#'},\n",
       " {'name': '스파이크드 어데이셔스 립스틱',\n",
       "  'url': 'http://www.narscosmetics.co.kr/on/demandware.store/Sites-KR-Site/en_KR/Product-Variation?pid=999NAC00201802&dwvar_999NAC00201802_color=Burnt%20Coral%20Nude',\n",
       "  'image': ['http://en.narscosmetics.co.kr/on/demandware.static/-/Sites-itemmaster_NARS/default/dw724c6e7e/hi-res/0607845028581.jpg',\n",
       "   'http://en.narscosmetics.co.kr/on/demandware.static/-/Sites-itemmaster_NARS/default/dw89aeac54/hi-res/0607845028598.jpg',\n",
       "   'http://en.narscosmetics.co.kr/on/demandware.static/-/Sites-itemmaster_NARS/default/dwbd30b426/hi-res/0607845028611.jpg'],\n",
       "  'salePrice': '₩ 41,000',\n",
       "  'originalPrice': '₩ 41,000',\n",
       "  'color': '쉬나',\n",
       "  'category': '',\n",
       "  'brand': '나스',\n",
       "  'volume': '#'},\n",
       " {'name': '스파이크드 어데이셔스 립스틱',\n",
       "  'url': 'http://www.narscosmetics.co.kr/on/demandware.store/Sites-KR-Site/en_KR/Product-Variation?pid=999NAC00201802&dwvar_999NAC00201802_color=Burnt%20Coral%20Nude',\n",
       "  'image': ['http://en.narscosmetics.co.kr/on/demandware.static/-/Sites-itemmaster_NARS/default/dw724c6e7e/hi-res/0607845028581.jpg',\n",
       "   'http://en.narscosmetics.co.kr/on/demandware.static/-/Sites-itemmaster_NARS/default/dw89aeac54/hi-res/0607845028598.jpg',\n",
       "   'http://en.narscosmetics.co.kr/on/demandware.static/-/Sites-itemmaster_NARS/default/dwbd30b426/hi-res/0607845028611.jpg'],\n",
       "  'salePrice': '₩ 41,000',\n",
       "  'originalPrice': '₩ 41,000',\n",
       "  'color': '쉬나',\n",
       "  'category': '',\n",
       "  'brand': '나스',\n",
       "  'volume': '#'},\n",
       " {'name': '스파이크드 어데이셔스 립스틱',\n",
       "  'url': 'http://www.narscosmetics.co.kr/on/demandware.store/Sites-KR-Site/en_KR/Product-Variation?pid=999NAC00201802&dwvar_999NAC00201802_color=Burnt%20Coral%20Nude',\n",
       "  'image': ['http://en.narscosmetics.co.kr/on/demandware.static/-/Sites-itemmaster_NARS/default/dw724c6e7e/hi-res/0607845028581.jpg',\n",
       "   'http://en.narscosmetics.co.kr/on/demandware.static/-/Sites-itemmaster_NARS/default/dw89aeac54/hi-res/0607845028598.jpg',\n",
       "   'http://en.narscosmetics.co.kr/on/demandware.static/-/Sites-itemmaster_NARS/default/dwbd30b426/hi-res/0607845028611.jpg'],\n",
       "  'salePrice': '₩ 41,000',\n",
       "  'originalPrice': '₩ 41,000',\n",
       "  'color': '쉬나',\n",
       "  'category': '',\n",
       "  'brand': '나스',\n",
       "  'volume': '#'},\n",
       " {'name': '립커버',\n",
       "  'url': 'http://www.narscosmetics.co.kr/on/demandware.store/Sites-KR-Site/en_KR/Product-Variation?pid=999NAC0000036&dwvar_999NAC0000036_color=',\n",
       "  'image': ['http://en.narscosmetics.co.kr/on/demandware.static/-/Sites-itemmaster_NARS/default/dwb8921291/hi-res/0607845056904.jpg',\n",
       "   'http://en.narscosmetics.co.kr/on/demandware.static/-/Sites-itemmaster_NARS/default/dw57c389cf/swatch/0607845056904.jpg'],\n",
       "  'salePrice': '₩ 38,000',\n",
       "  'originalPrice': '₩ 38,000',\n",
       "  'color': '앙브라스 므와',\n",
       "  'category': '',\n",
       "  'brand': '나스',\n",
       "  'volume': '#'},\n",
       " {'name': '립커버',\n",
       "  'url': 'http://www.narscosmetics.co.kr/on/demandware.store/Sites-KR-Site/en_KR/Product-Variation?pid=999NAC0000036&dwvar_999NAC0000036_color=',\n",
       "  'image': ['http://en.narscosmetics.co.kr/on/demandware.static/-/Sites-itemmaster_NARS/default/dwb8921291/hi-res/0607845056904.jpg',\n",
       "   'http://en.narscosmetics.co.kr/on/demandware.static/-/Sites-itemmaster_NARS/default/dw57c389cf/swatch/0607845056904.jpg'],\n",
       "  'salePrice': '₩ 38,000',\n",
       "  'originalPrice': '₩ 38,000',\n",
       "  'color': '앙브라스 므와',\n",
       "  'category': '',\n",
       "  'brand': '나스',\n",
       "  'volume': '#'},\n",
       " {'name': '립커버',\n",
       "  'url': 'http://www.narscosmetics.co.kr/on/demandware.store/Sites-KR-Site/en_KR/Product-Variation?pid=999NAC0000036&dwvar_999NAC0000036_color=',\n",
       "  'image': ['http://en.narscosmetics.co.kr/on/demandware.static/-/Sites-itemmaster_NARS/default/dwb8921291/hi-res/0607845056904.jpg',\n",
       "   'http://en.narscosmetics.co.kr/on/demandware.static/-/Sites-itemmaster_NARS/default/dw57c389cf/swatch/0607845056904.jpg'],\n",
       "  'salePrice': '₩ 38,000',\n",
       "  'originalPrice': '₩ 38,000',\n",
       "  'color': '앙브라스 므와',\n",
       "  'category': '',\n",
       "  'brand': '나스',\n",
       "  'volume': '#'},\n",
       " {'name': '립커버',\n",
       "  'url': 'http://www.narscosmetics.co.kr/on/demandware.store/Sites-KR-Site/en_KR/Product-Variation?pid=999NAC0000036&dwvar_999NAC0000036_color=',\n",
       "  'image': ['http://en.narscosmetics.co.kr/on/demandware.static/-/Sites-itemmaster_NARS/default/dwb8921291/hi-res/0607845056904.jpg',\n",
       "   'http://en.narscosmetics.co.kr/on/demandware.static/-/Sites-itemmaster_NARS/default/dw57c389cf/swatch/0607845056904.jpg'],\n",
       "  'salePrice': '₩ 38,000',\n",
       "  'originalPrice': '₩ 38,000',\n",
       "  'color': '앙브라스 므와',\n",
       "  'category': '',\n",
       "  'brand': '나스',\n",
       "  'volume': '#'},\n",
       " {'name': '파워매트 립 피그먼트',\n",
       "  'url': 'http://www.narscosmetics.co.kr/on/demandware.store/Sites-KR-Site/en_KR/Product-Variation?pid=999NAC0000053&dwvar_999NAC0000053_color=',\n",
       "  'image': ['http://en.narscosmetics.co.kr/on/demandware.static/-/Sites-itemmaster_NARS/default/dwae4d19bb/hi-res/0607845027805.jpg',\n",
       "   'http://en.narscosmetics.co.kr/on/demandware.static/-/Sites-itemmaster_NARS/default/dwabc25cf8/swatch/0607845027805.jpg'],\n",
       "  'salePrice': '₩ 37,000',\n",
       "  'originalPrice': '₩ 37,000',\n",
       "  'color': '아메리칸 우먼',\n",
       "  'category': '',\n",
       "  'brand': '나스',\n",
       "  'volume': '#'},\n",
       " {'name': '파워매트 립 피그먼트',\n",
       "  'url': 'http://www.narscosmetics.co.kr/on/demandware.store/Sites-KR-Site/en_KR/Product-Variation?pid=999NAC0000053&dwvar_999NAC0000053_color=',\n",
       "  'image': ['http://en.narscosmetics.co.kr/on/demandware.static/-/Sites-itemmaster_NARS/default/dwae4d19bb/hi-res/0607845027805.jpg',\n",
       "   'http://en.narscosmetics.co.kr/on/demandware.static/-/Sites-itemmaster_NARS/default/dwabc25cf8/swatch/0607845027805.jpg'],\n",
       "  'salePrice': '₩ 37,000',\n",
       "  'originalPrice': '₩ 37,000',\n",
       "  'color': '아메리칸 우먼',\n",
       "  'category': '',\n",
       "  'brand': '나스',\n",
       "  'volume': '#'},\n",
       " {'name': '파워매트 립 피그먼트',\n",
       "  'url': 'http://www.narscosmetics.co.kr/on/demandware.store/Sites-KR-Site/en_KR/Product-Variation?pid=999NAC0000053&dwvar_999NAC0000053_color=',\n",
       "  'image': ['http://en.narscosmetics.co.kr/on/demandware.static/-/Sites-itemmaster_NARS/default/dwae4d19bb/hi-res/0607845027805.jpg',\n",
       "   'http://en.narscosmetics.co.kr/on/demandware.static/-/Sites-itemmaster_NARS/default/dwabc25cf8/swatch/0607845027805.jpg'],\n",
       "  'salePrice': '₩ 37,000',\n",
       "  'originalPrice': '₩ 37,000',\n",
       "  'color': '아메리칸 우먼',\n",
       "  'category': '',\n",
       "  'brand': '나스',\n",
       "  'volume': '#'},\n",
       " {'name': '파워매트 립 피그먼트',\n",
       "  'url': 'http://www.narscosmetics.co.kr/on/demandware.store/Sites-KR-Site/en_KR/Product-Variation?pid=999NAC0000053&dwvar_999NAC0000053_color=',\n",
       "  'image': ['http://en.narscosmetics.co.kr/on/demandware.static/-/Sites-itemmaster_NARS/default/dwae4d19bb/hi-res/0607845027805.jpg',\n",
       "   'http://en.narscosmetics.co.kr/on/demandware.static/-/Sites-itemmaster_NARS/default/dwabc25cf8/swatch/0607845027805.jpg'],\n",
       "  'salePrice': '₩ 37,000',\n",
       "  'originalPrice': '₩ 37,000',\n",
       "  'color': '아메리칸 우먼',\n",
       "  'category': '',\n",
       "  'brand': '나스',\n",
       "  'volume': '#'},\n",
       " {'name': '파워매트 립 피그먼트',\n",
       "  'url': 'http://www.narscosmetics.co.kr/on/demandware.store/Sites-KR-Site/en_KR/Product-Variation?pid=999NAC0000053&dwvar_999NAC0000053_color=',\n",
       "  'image': ['http://en.narscosmetics.co.kr/on/demandware.static/-/Sites-itemmaster_NARS/default/dwae4d19bb/hi-res/0607845027805.jpg',\n",
       "   'http://en.narscosmetics.co.kr/on/demandware.static/-/Sites-itemmaster_NARS/default/dwabc25cf8/swatch/0607845027805.jpg'],\n",
       "  'salePrice': '₩ 37,000',\n",
       "  'originalPrice': '₩ 37,000',\n",
       "  'color': '아메리칸 우먼',\n",
       "  'category': '',\n",
       "  'brand': '나스',\n",
       "  'volume': '#'},\n",
       " {'name': '파워매트 립 피그먼트',\n",
       "  'url': 'http://www.narscosmetics.co.kr/on/demandware.store/Sites-KR-Site/en_KR/Product-Variation?pid=999NAC0000053&dwvar_999NAC0000053_color=',\n",
       "  'image': ['http://en.narscosmetics.co.kr/on/demandware.static/-/Sites-itemmaster_NARS/default/dwae4d19bb/hi-res/0607845027805.jpg',\n",
       "   'http://en.narscosmetics.co.kr/on/demandware.static/-/Sites-itemmaster_NARS/default/dwabc25cf8/swatch/0607845027805.jpg'],\n",
       "  'salePrice': '₩ 37,000',\n",
       "  'originalPrice': '₩ 37,000',\n",
       "  'color': '아메리칸 우먼',\n",
       "  'category': '',\n",
       "  'brand': '나스',\n",
       "  'volume': '#'},\n",
       " {'name': '파워매트 립 피그먼트',\n",
       "  'url': 'http://www.narscosmetics.co.kr/on/demandware.store/Sites-KR-Site/en_KR/Product-Variation?pid=999NAC0000053&dwvar_999NAC0000053_color=',\n",
       "  'image': ['http://en.narscosmetics.co.kr/on/demandware.static/-/Sites-itemmaster_NARS/default/dwae4d19bb/hi-res/0607845027805.jpg',\n",
       "   'http://en.narscosmetics.co.kr/on/demandware.static/-/Sites-itemmaster_NARS/default/dwabc25cf8/swatch/0607845027805.jpg'],\n",
       "  'salePrice': '₩ 37,000',\n",
       "  'originalPrice': '₩ 37,000',\n",
       "  'color': '아메리칸 우먼',\n",
       "  'category': '',\n",
       "  'brand': '나스',\n",
       "  'volume': '#'},\n",
       " {'name': '파워매트 립 피그먼트',\n",
       "  'url': 'http://www.narscosmetics.co.kr/on/demandware.store/Sites-KR-Site/en_KR/Product-Variation?pid=999NAC0000053&dwvar_999NAC0000053_color=',\n",
       "  'image': ['http://en.narscosmetics.co.kr/on/demandware.static/-/Sites-itemmaster_NARS/default/dwae4d19bb/hi-res/0607845027805.jpg',\n",
       "   'http://en.narscosmetics.co.kr/on/demandware.static/-/Sites-itemmaster_NARS/default/dwabc25cf8/swatch/0607845027805.jpg'],\n",
       "  'salePrice': '₩ 37,000',\n",
       "  'originalPrice': '₩ 37,000',\n",
       "  'color': '아메리칸 우먼',\n",
       "  'category': '',\n",
       "  'brand': '나스',\n",
       "  'volume': '#'},\n",
       " {'name': '파워매트 립 피그먼트',\n",
       "  'url': 'http://www.narscosmetics.co.kr/on/demandware.store/Sites-KR-Site/en_KR/Product-Variation?pid=999NAC0000053&dwvar_999NAC0000053_color=',\n",
       "  'image': ['http://en.narscosmetics.co.kr/on/demandware.static/-/Sites-itemmaster_NARS/default/dwae4d19bb/hi-res/0607845027805.jpg',\n",
       "   'http://en.narscosmetics.co.kr/on/demandware.static/-/Sites-itemmaster_NARS/default/dwabc25cf8/swatch/0607845027805.jpg'],\n",
       "  'salePrice': '₩ 37,000',\n",
       "  'originalPrice': '₩ 37,000',\n",
       "  'color': '아메리칸 우먼',\n",
       "  'category': '',\n",
       "  'brand': '나스',\n",
       "  'volume': '#'},\n",
       " {'name': '파워매트 립 피그먼트',\n",
       "  'url': 'http://www.narscosmetics.co.kr/on/demandware.store/Sites-KR-Site/en_KR/Product-Variation?pid=999NAC0000053&dwvar_999NAC0000053_color=',\n",
       "  'image': ['http://en.narscosmetics.co.kr/on/demandware.static/-/Sites-itemmaster_NARS/default/dwae4d19bb/hi-res/0607845027805.jpg',\n",
       "   'http://en.narscosmetics.co.kr/on/demandware.static/-/Sites-itemmaster_NARS/default/dwabc25cf8/swatch/0607845027805.jpg'],\n",
       "  'salePrice': '₩ 37,000',\n",
       "  'originalPrice': '₩ 37,000',\n",
       "  'color': '아메리칸 우먼',\n",
       "  'category': '',\n",
       "  'brand': '나스',\n",
       "  'volume': '#'},\n",
       " {'name': '파워매트 립 피그먼트',\n",
       "  'url': 'http://www.narscosmetics.co.kr/on/demandware.store/Sites-KR-Site/en_KR/Product-Variation?pid=999NAC0000053&dwvar_999NAC0000053_color=',\n",
       "  'image': ['http://en.narscosmetics.co.kr/on/demandware.static/-/Sites-itemmaster_NARS/default/dwae4d19bb/hi-res/0607845027805.jpg',\n",
       "   'http://en.narscosmetics.co.kr/on/demandware.static/-/Sites-itemmaster_NARS/default/dwabc25cf8/swatch/0607845027805.jpg'],\n",
       "  'salePrice': '₩ 37,000',\n",
       "  'originalPrice': '₩ 37,000',\n",
       "  'color': '아메리칸 우먼',\n",
       "  'category': '',\n",
       "  'brand': '나스',\n",
       "  'volume': '#'},\n",
       " {'name': '파워매트 립 피그먼트',\n",
       "  'url': 'http://www.narscosmetics.co.kr/on/demandware.store/Sites-KR-Site/en_KR/Product-Variation?pid=999NAC0000053&dwvar_999NAC0000053_color=',\n",
       "  'image': ['http://en.narscosmetics.co.kr/on/demandware.static/-/Sites-itemmaster_NARS/default/dwae4d19bb/hi-res/0607845027805.jpg',\n",
       "   'http://en.narscosmetics.co.kr/on/demandware.static/-/Sites-itemmaster_NARS/default/dwabc25cf8/swatch/0607845027805.jpg'],\n",
       "  'salePrice': '₩ 37,000',\n",
       "  'originalPrice': '₩ 37,000',\n",
       "  'color': '아메리칸 우먼',\n",
       "  'category': '',\n",
       "  'brand': '나스',\n",
       "  'volume': '#'},\n",
       " {'name': '파워매트 립 피그먼트',\n",
       "  'url': 'http://www.narscosmetics.co.kr/on/demandware.store/Sites-KR-Site/en_KR/Product-Variation?pid=999NAC0000053&dwvar_999NAC0000053_color=',\n",
       "  'image': ['http://en.narscosmetics.co.kr/on/demandware.static/-/Sites-itemmaster_NARS/default/dwae4d19bb/hi-res/0607845027805.jpg',\n",
       "   'http://en.narscosmetics.co.kr/on/demandware.static/-/Sites-itemmaster_NARS/default/dwabc25cf8/swatch/0607845027805.jpg'],\n",
       "  'salePrice': '₩ 37,000',\n",
       "  'originalPrice': '₩ 37,000',\n",
       "  'color': '아메리칸 우먼',\n",
       "  'category': '',\n",
       "  'brand': '나스',\n",
       "  'volume': '#'},\n",
       " {'name': '파워매트 립 피그먼트',\n",
       "  'url': 'http://www.narscosmetics.co.kr/on/demandware.store/Sites-KR-Site/en_KR/Product-Variation?pid=999NAC0000053&dwvar_999NAC0000053_color=',\n",
       "  'image': ['http://en.narscosmetics.co.kr/on/demandware.static/-/Sites-itemmaster_NARS/default/dwae4d19bb/hi-res/0607845027805.jpg',\n",
       "   'http://en.narscosmetics.co.kr/on/demandware.static/-/Sites-itemmaster_NARS/default/dwabc25cf8/swatch/0607845027805.jpg'],\n",
       "  'salePrice': '₩ 37,000',\n",
       "  'originalPrice': '₩ 37,000',\n",
       "  'color': '아메리칸 우먼',\n",
       "  'category': '',\n",
       "  'brand': '나스',\n",
       "  'volume': '#'},\n",
       " {'name': '파워매트 립 피그먼트',\n",
       "  'url': 'http://www.narscosmetics.co.kr/on/demandware.store/Sites-KR-Site/en_KR/Product-Variation?pid=999NAC0000053&dwvar_999NAC0000053_color=',\n",
       "  'image': ['http://en.narscosmetics.co.kr/on/demandware.static/-/Sites-itemmaster_NARS/default/dwae4d19bb/hi-res/0607845027805.jpg',\n",
       "   'http://en.narscosmetics.co.kr/on/demandware.static/-/Sites-itemmaster_NARS/default/dwabc25cf8/swatch/0607845027805.jpg'],\n",
       "  'salePrice': '₩ 37,000',\n",
       "  'originalPrice': '₩ 37,000',\n",
       "  'color': '아메리칸 우먼',\n",
       "  'category': '',\n",
       "  'brand': '나스',\n",
       "  'volume': '#'},\n",
       " {'name': '파워매트 립 피그먼트',\n",
       "  'url': 'http://www.narscosmetics.co.kr/on/demandware.store/Sites-KR-Site/en_KR/Product-Variation?pid=999NAC0000053&dwvar_999NAC0000053_color=',\n",
       "  'image': ['http://en.narscosmetics.co.kr/on/demandware.static/-/Sites-itemmaster_NARS/default/dwae4d19bb/hi-res/0607845027805.jpg',\n",
       "   'http://en.narscosmetics.co.kr/on/demandware.static/-/Sites-itemmaster_NARS/default/dwabc25cf8/swatch/0607845027805.jpg'],\n",
       "  'salePrice': '₩ 37,000',\n",
       "  'originalPrice': '₩ 37,000',\n",
       "  'color': '아메리칸 우먼',\n",
       "  'category': '',\n",
       "  'brand': '나스',\n",
       "  'volume': '#'},\n",
       " {'name': '파워매트 립 피그먼트',\n",
       "  'url': 'http://www.narscosmetics.co.kr/on/demandware.store/Sites-KR-Site/en_KR/Product-Variation?pid=999NAC0000053&dwvar_999NAC0000053_color=',\n",
       "  'image': ['http://en.narscosmetics.co.kr/on/demandware.static/-/Sites-itemmaster_NARS/default/dwae4d19bb/hi-res/0607845027805.jpg',\n",
       "   'http://en.narscosmetics.co.kr/on/demandware.static/-/Sites-itemmaster_NARS/default/dwabc25cf8/swatch/0607845027805.jpg'],\n",
       "  'salePrice': '₩ 37,000',\n",
       "  'originalPrice': '₩ 37,000',\n",
       "  'color': '아메리칸 우먼',\n",
       "  'category': '',\n",
       "  'brand': '나스',\n",
       "  'volume': '#'},\n",
       " {'name': '파워매트 립 피그먼트',\n",
       "  'url': 'http://www.narscosmetics.co.kr/on/demandware.store/Sites-KR-Site/en_KR/Product-Variation?pid=999NAC0000053&dwvar_999NAC0000053_color=',\n",
       "  'image': ['http://en.narscosmetics.co.kr/on/demandware.static/-/Sites-itemmaster_NARS/default/dwae4d19bb/hi-res/0607845027805.jpg',\n",
       "   'http://en.narscosmetics.co.kr/on/demandware.static/-/Sites-itemmaster_NARS/default/dwabc25cf8/swatch/0607845027805.jpg'],\n",
       "  'salePrice': '₩ 37,000',\n",
       "  'originalPrice': '₩ 37,000',\n",
       "  'color': '아메리칸 우먼',\n",
       "  'category': '',\n",
       "  'brand': '나스',\n",
       "  'volume': '#'},\n",
       " {'name': '파워매트 립 피그먼트',\n",
       "  'url': 'http://www.narscosmetics.co.kr/on/demandware.store/Sites-KR-Site/en_KR/Product-Variation?pid=999NAC0000053&dwvar_999NAC0000053_color=',\n",
       "  'image': ['http://en.narscosmetics.co.kr/on/demandware.static/-/Sites-itemmaster_NARS/default/dwae4d19bb/hi-res/0607845027805.jpg',\n",
       "   'http://en.narscosmetics.co.kr/on/demandware.static/-/Sites-itemmaster_NARS/default/dwabc25cf8/swatch/0607845027805.jpg'],\n",
       "  'salePrice': '₩ 37,000',\n",
       "  'originalPrice': '₩ 37,000',\n",
       "  'color': '아메리칸 우먼',\n",
       "  'category': '',\n",
       "  'brand': '나스',\n",
       "  'volume': '#'},\n",
       " {'name': '파워매트 립 피그먼트',\n",
       "  'url': 'http://www.narscosmetics.co.kr/on/demandware.store/Sites-KR-Site/en_KR/Product-Variation?pid=999NAC0000053&dwvar_999NAC0000053_color=',\n",
       "  'image': ['http://en.narscosmetics.co.kr/on/demandware.static/-/Sites-itemmaster_NARS/default/dwae4d19bb/hi-res/0607845027805.jpg',\n",
       "   'http://en.narscosmetics.co.kr/on/demandware.static/-/Sites-itemmaster_NARS/default/dwabc25cf8/swatch/0607845027805.jpg'],\n",
       "  'salePrice': '₩ 37,000',\n",
       "  'originalPrice': '₩ 37,000',\n",
       "  'color': '아메리칸 우먼',\n",
       "  'category': '',\n",
       "  'brand': '나스',\n",
       "  'volume': '#'},\n",
       " {'name': '파워매트 립 피그먼트',\n",
       "  'url': 'http://www.narscosmetics.co.kr/on/demandware.store/Sites-KR-Site/en_KR/Product-Variation?pid=999NAC0000053&dwvar_999NAC0000053_color=',\n",
       "  'image': ['http://en.narscosmetics.co.kr/on/demandware.static/-/Sites-itemmaster_NARS/default/dwae4d19bb/hi-res/0607845027805.jpg',\n",
       "   'http://en.narscosmetics.co.kr/on/demandware.static/-/Sites-itemmaster_NARS/default/dwabc25cf8/swatch/0607845027805.jpg'],\n",
       "  'salePrice': '₩ 37,000',\n",
       "  'originalPrice': '₩ 37,000',\n",
       "  'color': '아메리칸 우먼',\n",
       "  'category': '',\n",
       "  'brand': '나스',\n",
       "  'volume': '#'},\n",
       " {'name': '파워매트 립 피그먼트',\n",
       "  'url': 'http://www.narscosmetics.co.kr/on/demandware.store/Sites-KR-Site/en_KR/Product-Variation?pid=999NAC0000053&dwvar_999NAC0000053_color=',\n",
       "  'image': ['http://en.narscosmetics.co.kr/on/demandware.static/-/Sites-itemmaster_NARS/default/dwae4d19bb/hi-res/0607845027805.jpg',\n",
       "   'http://en.narscosmetics.co.kr/on/demandware.static/-/Sites-itemmaster_NARS/default/dwabc25cf8/swatch/0607845027805.jpg'],\n",
       "  'salePrice': '₩ 37,000',\n",
       "  'originalPrice': '₩ 37,000',\n",
       "  'color': '아메리칸 우먼',\n",
       "  'category': '',\n",
       "  'brand': '나스',\n",
       "  'volume': '#'},\n",
       " {'name': '파워매트 립 피그먼트',\n",
       "  'url': 'http://www.narscosmetics.co.kr/on/demandware.store/Sites-KR-Site/en_KR/Product-Variation?pid=999NAC0000053&dwvar_999NAC0000053_color=',\n",
       "  'image': ['http://en.narscosmetics.co.kr/on/demandware.static/-/Sites-itemmaster_NARS/default/dwae4d19bb/hi-res/0607845027805.jpg',\n",
       "   'http://en.narscosmetics.co.kr/on/demandware.static/-/Sites-itemmaster_NARS/default/dwabc25cf8/swatch/0607845027805.jpg'],\n",
       "  'salePrice': '₩ 37,000',\n",
       "  'originalPrice': '₩ 37,000',\n",
       "  'color': '아메리칸 우먼',\n",
       "  'category': '',\n",
       "  'brand': '나스',\n",
       "  'volume': '#'},\n",
       " {'name': '파워매트 립 피그먼트',\n",
       "  'url': 'http://www.narscosmetics.co.kr/on/demandware.store/Sites-KR-Site/en_KR/Product-Variation?pid=999NAC0000053&dwvar_999NAC0000053_color=',\n",
       "  'image': ['http://en.narscosmetics.co.kr/on/demandware.static/-/Sites-itemmaster_NARS/default/dwae4d19bb/hi-res/0607845027805.jpg',\n",
       "   'http://en.narscosmetics.co.kr/on/demandware.static/-/Sites-itemmaster_NARS/default/dwabc25cf8/swatch/0607845027805.jpg'],\n",
       "  'salePrice': '₩ 37,000',\n",
       "  'originalPrice': '₩ 37,000',\n",
       "  'color': '아메리칸 우먼',\n",
       "  'category': '',\n",
       "  'brand': '나스',\n",
       "  'volume': '#'},\n",
       " {'name': '파워매트 립 피그먼트',\n",
       "  'url': 'http://www.narscosmetics.co.kr/on/demandware.store/Sites-KR-Site/en_KR/Product-Variation?pid=999NAC0000053&dwvar_999NAC0000053_color=',\n",
       "  'image': ['http://en.narscosmetics.co.kr/on/demandware.static/-/Sites-itemmaster_NARS/default/dwae4d19bb/hi-res/0607845027805.jpg',\n",
       "   'http://en.narscosmetics.co.kr/on/demandware.static/-/Sites-itemmaster_NARS/default/dwabc25cf8/swatch/0607845027805.jpg'],\n",
       "  'salePrice': '₩ 37,000',\n",
       "  'originalPrice': '₩ 37,000',\n",
       "  'color': '아메리칸 우먼',\n",
       "  'category': '',\n",
       "  'brand': '나스',\n",
       "  'volume': '#'},\n",
       " {'name': '파워매트 립 피그먼트',\n",
       "  'url': 'http://www.narscosmetics.co.kr/on/demandware.store/Sites-KR-Site/en_KR/Product-Variation?pid=999NAC0000053&dwvar_999NAC0000053_color=',\n",
       "  'image': ['http://en.narscosmetics.co.kr/on/demandware.static/-/Sites-itemmaster_NARS/default/dwae4d19bb/hi-res/0607845027805.jpg',\n",
       "   'http://en.narscosmetics.co.kr/on/demandware.static/-/Sites-itemmaster_NARS/default/dwabc25cf8/swatch/0607845027805.jpg'],\n",
       "  'salePrice': '₩ 37,000',\n",
       "  'originalPrice': '₩ 37,000',\n",
       "  'color': '아메리칸 우먼',\n",
       "  'category': '',\n",
       "  'brand': '나스',\n",
       "  'volume': '#'},\n",
       " {'name': '파워매트 립 피그먼트',\n",
       "  'url': 'http://www.narscosmetics.co.kr/on/demandware.store/Sites-KR-Site/en_KR/Product-Variation?pid=999NAC0000053&dwvar_999NAC0000053_color=',\n",
       "  'image': ['http://en.narscosmetics.co.kr/on/demandware.static/-/Sites-itemmaster_NARS/default/dwae4d19bb/hi-res/0607845027805.jpg',\n",
       "   'http://en.narscosmetics.co.kr/on/demandware.static/-/Sites-itemmaster_NARS/default/dwabc25cf8/swatch/0607845027805.jpg'],\n",
       "  'salePrice': '₩ 37,000',\n",
       "  'originalPrice': '₩ 37,000',\n",
       "  'color': '아메리칸 우먼',\n",
       "  'category': '',\n",
       "  'brand': '나스',\n",
       "  'volume': '#'},\n",
       " {'name': '나스 벨벳 매트 립 펜슬 세트 라이엇',\n",
       "  'url': 'http://www.narscosmetics.co.kr/riot-velvet-matte-lip-pencil-set/0607845083825.html',\n",
       "  'image': ['http://en.narscosmetics.co.kr/on/demandware.static/-/Sites-itemmaster_NARS/default/dwac777a09/hi-res/0607845083825.jpg',\n",
       "   'http://en.narscosmetics.co.kr/on/demandware.static/-/Sites-itemmaster_NARS/default/dwfcebbeab/alt2/0607845083825.jpg',\n",
       "   'http://en.narscosmetics.co.kr/on/demandware.static/-/Sites-itemmaster_NARS/default/dwb277c171/hi-res/0607845083825_2.jpg',\n",
       "   'http://en.narscosmetics.co.kr/on/demandware.static/-/Sites-itemmaster_NARS/default/dwe6ef2cb9/hi-res/0607845083825_3.jpg',\n",
       "   'http://en.narscosmetics.co.kr/on/demandware.static/-/Sites-itemmaster_NARS/default/dwc6ff2a07/shade/0607845083825_01.jpg',\n",
       "   'http://en.narscosmetics.co.kr/on/demandware.static/-/Sites-itemmaster_NARS/default/dw57540a55/shade/0607845083825_02.jpg',\n",
       "   'http://en.narscosmetics.co.kr/on/demandware.static/-/Sites-itemmaster_NARS/default/dwede2eb0b/shade/0607845083825_03.jpg'],\n",
       "  'salePrice': '₩ 79,000',\n",
       "  'originalPrice': '₩ 79,000',\n",
       "  'color': '#',\n",
       "  'category': '',\n",
       "  'brand': '나스',\n",
       "  'volume': '#'},\n",
       " {'name': '벨벳 립 글라이드 - 르 클리끄',\n",
       "  'url': 'http://www.narscosmetics.co.kr/on/demandware.store/Sites-KR-Site/en_KR/Product-Variation?pid=999NAC0000040&dwvar_999NAC0000040_color=607845034315',\n",
       "  'image': ['http://en.narscosmetics.co.kr/on/demandware.static/-/Sites-itemmaster_NARS/default/dw8d3fcabe/hi-res/607845034315.jpg',\n",
       "   'http://en.narscosmetics.co.kr/on/demandware.static/-/Sites-itemmaster_NARS/default/dwf70e7349/swatch/607845034315.jpg'],\n",
       "  'salePrice': '₩ 37,000',\n",
       "  'originalPrice': '₩ 37,000',\n",
       "  'color': '르 클리끄',\n",
       "  'category': '',\n",
       "  'brand': '나스',\n",
       "  'volume': '#'},\n",
       " {'name': '벨벳 립 글라이드 - 르 클리끄',\n",
       "  'url': 'http://www.narscosmetics.co.kr/on/demandware.store/Sites-KR-Site/en_KR/Product-Variation?pid=999NAC0000040&dwvar_999NAC0000040_color=607845034315',\n",
       "  'image': ['http://en.narscosmetics.co.kr/on/demandware.static/-/Sites-itemmaster_NARS/default/dw8d3fcabe/hi-res/607845034315.jpg',\n",
       "   'http://en.narscosmetics.co.kr/on/demandware.static/-/Sites-itemmaster_NARS/default/dwf70e7349/swatch/607845034315.jpg'],\n",
       "  'salePrice': '₩ 37,000',\n",
       "  'originalPrice': '₩ 37,000',\n",
       "  'color': '르 클리끄',\n",
       "  'category': '',\n",
       "  'brand': '나스',\n",
       "  'volume': '#'},\n",
       " {'name': '벨벳 립 글라이드 - 르 클리끄',\n",
       "  'url': 'http://www.narscosmetics.co.kr/on/demandware.store/Sites-KR-Site/en_KR/Product-Variation?pid=999NAC0000040&dwvar_999NAC0000040_color=607845034315',\n",
       "  'image': ['http://en.narscosmetics.co.kr/on/demandware.static/-/Sites-itemmaster_NARS/default/dw8d3fcabe/hi-res/607845034315.jpg',\n",
       "   'http://en.narscosmetics.co.kr/on/demandware.static/-/Sites-itemmaster_NARS/default/dwf70e7349/swatch/607845034315.jpg'],\n",
       "  'salePrice': '₩ 37,000',\n",
       "  'originalPrice': '₩ 37,000',\n",
       "  'color': '르 클리끄',\n",
       "  'category': '',\n",
       "  'brand': '나스',\n",
       "  'volume': '#'},\n",
       " {'name': '벨벳 립 글라이드 - 르 클리끄',\n",
       "  'url': 'http://www.narscosmetics.co.kr/on/demandware.store/Sites-KR-Site/en_KR/Product-Variation?pid=999NAC0000040&dwvar_999NAC0000040_color=607845034315',\n",
       "  'image': ['http://en.narscosmetics.co.kr/on/demandware.static/-/Sites-itemmaster_NARS/default/dw8d3fcabe/hi-res/607845034315.jpg',\n",
       "   'http://en.narscosmetics.co.kr/on/demandware.static/-/Sites-itemmaster_NARS/default/dwf70e7349/swatch/607845034315.jpg'],\n",
       "  'salePrice': '₩ 37,000',\n",
       "  'originalPrice': '₩ 37,000',\n",
       "  'color': '르 클리끄',\n",
       "  'category': '',\n",
       "  'brand': '나스',\n",
       "  'volume': '#'},\n",
       " {'name': '벨벳 립 글라이드 - 르 클리끄',\n",
       "  'url': 'http://www.narscosmetics.co.kr/on/demandware.store/Sites-KR-Site/en_KR/Product-Variation?pid=999NAC0000040&dwvar_999NAC0000040_color=607845034315',\n",
       "  'image': ['http://en.narscosmetics.co.kr/on/demandware.static/-/Sites-itemmaster_NARS/default/dw8d3fcabe/hi-res/607845034315.jpg',\n",
       "   'http://en.narscosmetics.co.kr/on/demandware.static/-/Sites-itemmaster_NARS/default/dwf70e7349/swatch/607845034315.jpg'],\n",
       "  'salePrice': '₩ 37,000',\n",
       "  'originalPrice': '₩ 37,000',\n",
       "  'color': '르 클리끄',\n",
       "  'category': '',\n",
       "  'brand': '나스',\n",
       "  'volume': '#'},\n",
       " {'name': '벨벳 립 글라이드 - 르 클리끄',\n",
       "  'url': 'http://www.narscosmetics.co.kr/on/demandware.store/Sites-KR-Site/en_KR/Product-Variation?pid=999NAC0000040&dwvar_999NAC0000040_color=607845034315',\n",
       "  'image': ['http://en.narscosmetics.co.kr/on/demandware.static/-/Sites-itemmaster_NARS/default/dw8d3fcabe/hi-res/607845034315.jpg',\n",
       "   'http://en.narscosmetics.co.kr/on/demandware.static/-/Sites-itemmaster_NARS/default/dwf70e7349/swatch/607845034315.jpg'],\n",
       "  'salePrice': '₩ 37,000',\n",
       "  'originalPrice': '₩ 37,000',\n",
       "  'color': '르 클리끄',\n",
       "  'category': '',\n",
       "  'brand': '나스',\n",
       "  'volume': '#'},\n",
       " {'name': '벨벳 립 글라이드 - 르 클리끄',\n",
       "  'url': 'http://www.narscosmetics.co.kr/on/demandware.store/Sites-KR-Site/en_KR/Product-Variation?pid=999NAC0000040&dwvar_999NAC0000040_color=607845034315',\n",
       "  'image': ['http://en.narscosmetics.co.kr/on/demandware.static/-/Sites-itemmaster_NARS/default/dw8d3fcabe/hi-res/607845034315.jpg',\n",
       "   'http://en.narscosmetics.co.kr/on/demandware.static/-/Sites-itemmaster_NARS/default/dwf70e7349/swatch/607845034315.jpg'],\n",
       "  'salePrice': '₩ 37,000',\n",
       "  'originalPrice': '₩ 37,000',\n",
       "  'color': '르 클리끄',\n",
       "  'category': '',\n",
       "  'brand': '나스',\n",
       "  'volume': '#'},\n",
       " {'name': '벨벳 립 글라이드 - 르 클리끄',\n",
       "  'url': 'http://www.narscosmetics.co.kr/on/demandware.store/Sites-KR-Site/en_KR/Product-Variation?pid=999NAC0000040&dwvar_999NAC0000040_color=607845034315',\n",
       "  'image': ['http://en.narscosmetics.co.kr/on/demandware.static/-/Sites-itemmaster_NARS/default/dw8d3fcabe/hi-res/607845034315.jpg',\n",
       "   'http://en.narscosmetics.co.kr/on/demandware.static/-/Sites-itemmaster_NARS/default/dwf70e7349/swatch/607845034315.jpg'],\n",
       "  'salePrice': '₩ 37,000',\n",
       "  'originalPrice': '₩ 37,000',\n",
       "  'color': '르 클리끄',\n",
       "  'category': '',\n",
       "  'brand': '나스',\n",
       "  'volume': '#'},\n",
       " {'name': '벨벳 립 글라이드 - 르 클리끄',\n",
       "  'url': 'http://www.narscosmetics.co.kr/on/demandware.store/Sites-KR-Site/en_KR/Product-Variation?pid=999NAC0000040&dwvar_999NAC0000040_color=607845034315',\n",
       "  'image': ['http://en.narscosmetics.co.kr/on/demandware.static/-/Sites-itemmaster_NARS/default/dw8d3fcabe/hi-res/607845034315.jpg',\n",
       "   'http://en.narscosmetics.co.kr/on/demandware.static/-/Sites-itemmaster_NARS/default/dwf70e7349/swatch/607845034315.jpg'],\n",
       "  'salePrice': '₩ 37,000',\n",
       "  'originalPrice': '₩ 37,000',\n",
       "  'color': '르 클리끄',\n",
       "  'category': '',\n",
       "  'brand': '나스',\n",
       "  'volume': '#'},\n",
       " {'name': '벨벳 립 글라이드 - 르 클리끄',\n",
       "  'url': 'http://www.narscosmetics.co.kr/on/demandware.store/Sites-KR-Site/en_KR/Product-Variation?pid=999NAC0000040&dwvar_999NAC0000040_color=607845034315',\n",
       "  'image': ['http://en.narscosmetics.co.kr/on/demandware.static/-/Sites-itemmaster_NARS/default/dw8d3fcabe/hi-res/607845034315.jpg',\n",
       "   'http://en.narscosmetics.co.kr/on/demandware.static/-/Sites-itemmaster_NARS/default/dwf70e7349/swatch/607845034315.jpg'],\n",
       "  'salePrice': '₩ 37,000',\n",
       "  'originalPrice': '₩ 37,000',\n",
       "  'color': '르 클리끄',\n",
       "  'category': '',\n",
       "  'brand': '나스',\n",
       "  'volume': '#'},\n",
       " {'name': '벨벳 립 글라이드 - 르 클리끄',\n",
       "  'url': 'http://www.narscosmetics.co.kr/on/demandware.store/Sites-KR-Site/en_KR/Product-Variation?pid=999NAC0000040&dwvar_999NAC0000040_color=607845034315',\n",
       "  'image': ['http://en.narscosmetics.co.kr/on/demandware.static/-/Sites-itemmaster_NARS/default/dw8d3fcabe/hi-res/607845034315.jpg',\n",
       "   'http://en.narscosmetics.co.kr/on/demandware.static/-/Sites-itemmaster_NARS/default/dwf70e7349/swatch/607845034315.jpg'],\n",
       "  'salePrice': '₩ 37,000',\n",
       "  'originalPrice': '₩ 37,000',\n",
       "  'color': '르 클리끄',\n",
       "  'category': '',\n",
       "  'brand': '나스',\n",
       "  'volume': '#'},\n",
       " {'name': '벨벳 립 글라이드 - 르 클리끄',\n",
       "  'url': 'http://www.narscosmetics.co.kr/on/demandware.store/Sites-KR-Site/en_KR/Product-Variation?pid=999NAC0000040&dwvar_999NAC0000040_color=607845034315',\n",
       "  'image': ['http://en.narscosmetics.co.kr/on/demandware.static/-/Sites-itemmaster_NARS/default/dw8d3fcabe/hi-res/607845034315.jpg',\n",
       "   'http://en.narscosmetics.co.kr/on/demandware.static/-/Sites-itemmaster_NARS/default/dwf70e7349/swatch/607845034315.jpg'],\n",
       "  'salePrice': '₩ 37,000',\n",
       "  'originalPrice': '₩ 37,000',\n",
       "  'color': '르 클리끄',\n",
       "  'category': '',\n",
       "  'brand': '나스',\n",
       "  'volume': '#'},\n",
       " {'name': '벨벳 립 글라이드 - 르 클리끄',\n",
       "  'url': 'http://www.narscosmetics.co.kr/on/demandware.store/Sites-KR-Site/en_KR/Product-Variation?pid=999NAC0000040&dwvar_999NAC0000040_color=607845034315',\n",
       "  'image': ['http://en.narscosmetics.co.kr/on/demandware.static/-/Sites-itemmaster_NARS/default/dw8d3fcabe/hi-res/607845034315.jpg',\n",
       "   'http://en.narscosmetics.co.kr/on/demandware.static/-/Sites-itemmaster_NARS/default/dwf70e7349/swatch/607845034315.jpg'],\n",
       "  'salePrice': '₩ 37,000',\n",
       "  'originalPrice': '₩ 37,000',\n",
       "  'color': '르 클리끄',\n",
       "  'category': '',\n",
       "  'brand': '나스',\n",
       "  'volume': '#'},\n",
       " {'name': '벨벳 립 글라이드 - 르 클리끄',\n",
       "  'url': 'http://www.narscosmetics.co.kr/on/demandware.store/Sites-KR-Site/en_KR/Product-Variation?pid=999NAC0000040&dwvar_999NAC0000040_color=607845034315',\n",
       "  'image': ['http://en.narscosmetics.co.kr/on/demandware.static/-/Sites-itemmaster_NARS/default/dw8d3fcabe/hi-res/607845034315.jpg',\n",
       "   'http://en.narscosmetics.co.kr/on/demandware.static/-/Sites-itemmaster_NARS/default/dwf70e7349/swatch/607845034315.jpg'],\n",
       "  'salePrice': '₩ 37,000',\n",
       "  'originalPrice': '₩ 37,000',\n",
       "  'color': '르 클리끄',\n",
       "  'category': '',\n",
       "  'brand': '나스',\n",
       "  'volume': '#'},\n",
       " {'name': '벨벳 립 글라이드 - 르 클리끄',\n",
       "  'url': 'http://www.narscosmetics.co.kr/on/demandware.store/Sites-KR-Site/en_KR/Product-Variation?pid=999NAC0000040&dwvar_999NAC0000040_color=607845034315',\n",
       "  'image': ['http://en.narscosmetics.co.kr/on/demandware.static/-/Sites-itemmaster_NARS/default/dw8d3fcabe/hi-res/607845034315.jpg',\n",
       "   'http://en.narscosmetics.co.kr/on/demandware.static/-/Sites-itemmaster_NARS/default/dwf70e7349/swatch/607845034315.jpg'],\n",
       "  'salePrice': '₩ 37,000',\n",
       "  'originalPrice': '₩ 37,000',\n",
       "  'color': '르 클리끄',\n",
       "  'category': '',\n",
       "  'brand': '나스',\n",
       "  'volume': '#'},\n",
       " {'name': '벨벳 립 글라이드 - 르 클리끄',\n",
       "  'url': 'http://www.narscosmetics.co.kr/on/demandware.store/Sites-KR-Site/en_KR/Product-Variation?pid=999NAC0000040&dwvar_999NAC0000040_color=607845034315',\n",
       "  'image': ['http://en.narscosmetics.co.kr/on/demandware.static/-/Sites-itemmaster_NARS/default/dw8d3fcabe/hi-res/607845034315.jpg',\n",
       "   'http://en.narscosmetics.co.kr/on/demandware.static/-/Sites-itemmaster_NARS/default/dwf70e7349/swatch/607845034315.jpg'],\n",
       "  'salePrice': '₩ 37,000',\n",
       "  'originalPrice': '₩ 37,000',\n",
       "  'color': '르 클리끄',\n",
       "  'category': '',\n",
       "  'brand': '나스',\n",
       "  'volume': '#'},\n",
       " {'name': '벨벳 립 글라이드 - 르 클리끄',\n",
       "  'url': 'http://www.narscosmetics.co.kr/on/demandware.store/Sites-KR-Site/en_KR/Product-Variation?pid=999NAC0000040&dwvar_999NAC0000040_color=607845034315',\n",
       "  'image': ['http://en.narscosmetics.co.kr/on/demandware.static/-/Sites-itemmaster_NARS/default/dw8d3fcabe/hi-res/607845034315.jpg',\n",
       "   'http://en.narscosmetics.co.kr/on/demandware.static/-/Sites-itemmaster_NARS/default/dwf70e7349/swatch/607845034315.jpg'],\n",
       "  'salePrice': '₩ 37,000',\n",
       "  'originalPrice': '₩ 37,000',\n",
       "  'color': '르 클리끄',\n",
       "  'category': '',\n",
       "  'brand': '나스',\n",
       "  'volume': '#'},\n",
       " {'name': '벨벳 립 글라이드 - 르 클리끄',\n",
       "  'url': 'http://www.narscosmetics.co.kr/on/demandware.store/Sites-KR-Site/en_KR/Product-Variation?pid=999NAC0000040&dwvar_999NAC0000040_color=607845034315',\n",
       "  'image': ['http://en.narscosmetics.co.kr/on/demandware.static/-/Sites-itemmaster_NARS/default/dw8d3fcabe/hi-res/607845034315.jpg',\n",
       "   'http://en.narscosmetics.co.kr/on/demandware.static/-/Sites-itemmaster_NARS/default/dwf70e7349/swatch/607845034315.jpg'],\n",
       "  'salePrice': '₩ 37,000',\n",
       "  'originalPrice': '₩ 37,000',\n",
       "  'color': '르 클리끄',\n",
       "  'category': '',\n",
       "  'brand': '나스',\n",
       "  'volume': '#'},\n",
       " {'name': '벨벳 립 글라이드 - 르 클리끄',\n",
       "  'url': 'http://www.narscosmetics.co.kr/on/demandware.store/Sites-KR-Site/en_KR/Product-Variation?pid=999NAC0000040&dwvar_999NAC0000040_color=607845034315',\n",
       "  'image': ['http://en.narscosmetics.co.kr/on/demandware.static/-/Sites-itemmaster_NARS/default/dw8d3fcabe/hi-res/607845034315.jpg',\n",
       "   'http://en.narscosmetics.co.kr/on/demandware.static/-/Sites-itemmaster_NARS/default/dwf70e7349/swatch/607845034315.jpg'],\n",
       "  'salePrice': '₩ 37,000',\n",
       "  'originalPrice': '₩ 37,000',\n",
       "  'color': '르 클리끄',\n",
       "  'category': '',\n",
       "  'brand': '나스',\n",
       "  'volume': '#'},\n",
       " {'name': '벨벳 립 글라이드 - 르 클리끄',\n",
       "  'url': 'http://www.narscosmetics.co.kr/on/demandware.store/Sites-KR-Site/en_KR/Product-Variation?pid=999NAC0000040&dwvar_999NAC0000040_color=607845034315',\n",
       "  'image': ['http://en.narscosmetics.co.kr/on/demandware.static/-/Sites-itemmaster_NARS/default/dw8d3fcabe/hi-res/607845034315.jpg',\n",
       "   'http://en.narscosmetics.co.kr/on/demandware.static/-/Sites-itemmaster_NARS/default/dwf70e7349/swatch/607845034315.jpg'],\n",
       "  'salePrice': '₩ 37,000',\n",
       "  'originalPrice': '₩ 37,000',\n",
       "  'color': '르 클리끄',\n",
       "  'category': '',\n",
       "  'brand': '나스',\n",
       "  'volume': '#'},\n",
       " {'name': '벨벳 립 글라이드 - 르 클리끄',\n",
       "  'url': 'http://www.narscosmetics.co.kr/on/demandware.store/Sites-KR-Site/en_KR/Product-Variation?pid=999NAC0000040&dwvar_999NAC0000040_color=607845034315',\n",
       "  'image': ['http://en.narscosmetics.co.kr/on/demandware.static/-/Sites-itemmaster_NARS/default/dw8d3fcabe/hi-res/607845034315.jpg',\n",
       "   'http://en.narscosmetics.co.kr/on/demandware.static/-/Sites-itemmaster_NARS/default/dwf70e7349/swatch/607845034315.jpg'],\n",
       "  'salePrice': '₩ 37,000',\n",
       "  'originalPrice': '₩ 37,000',\n",
       "  'color': '르 클리끄',\n",
       "  'category': '',\n",
       "  'brand': '나스',\n",
       "  'volume': '#'},\n",
       " {'name': '벨벳 매트 립 펜슬 - 발키리',\n",
       "  'url': 'http://www.narscosmetics.co.kr/on/demandware.store/Sites-KR-Site/en_KR/Product-Variation?pid=999NACVTMLP01&dwvar_999NACVTMLP01_color=7845024637',\n",
       "  'image': ['http://en.narscosmetics.co.kr/on/demandware.static/-/Sites-itemmaster_NARS/default/dw30f851ea/hi-res/0607845024637.jpg',\n",
       "   'http://en.narscosmetics.co.kr/on/demandware.static/-/Sites-itemmaster_NARS/default/dw86486fa3/swatch/0607845024637.jpg'],\n",
       "  'salePrice': '₩ 37,000',\n",
       "  'originalPrice': '₩ 37,000',\n",
       "  'color': '발키리',\n",
       "  'category': '',\n",
       "  'brand': '나스',\n",
       "  'volume': '#'},\n",
       " {'name': '벨벳 매트 립 펜슬 - 발키리',\n",
       "  'url': 'http://www.narscosmetics.co.kr/on/demandware.store/Sites-KR-Site/en_KR/Product-Variation?pid=999NACVTMLP01&dwvar_999NACVTMLP01_color=7845024637',\n",
       "  'image': ['http://en.narscosmetics.co.kr/on/demandware.static/-/Sites-itemmaster_NARS/default/dw30f851ea/hi-res/0607845024637.jpg',\n",
       "   'http://en.narscosmetics.co.kr/on/demandware.static/-/Sites-itemmaster_NARS/default/dw86486fa3/swatch/0607845024637.jpg'],\n",
       "  'salePrice': '₩ 37,000',\n",
       "  'originalPrice': '₩ 37,000',\n",
       "  'color': '발키리',\n",
       "  'category': '',\n",
       "  'brand': '나스',\n",
       "  'volume': '#'},\n",
       " {'name': '벨벳 매트 립 펜슬 - 발키리',\n",
       "  'url': 'http://www.narscosmetics.co.kr/on/demandware.store/Sites-KR-Site/en_KR/Product-Variation?pid=999NACVTMLP01&dwvar_999NACVTMLP01_color=7845024637',\n",
       "  'image': ['http://en.narscosmetics.co.kr/on/demandware.static/-/Sites-itemmaster_NARS/default/dw30f851ea/hi-res/0607845024637.jpg',\n",
       "   'http://en.narscosmetics.co.kr/on/demandware.static/-/Sites-itemmaster_NARS/default/dw86486fa3/swatch/0607845024637.jpg'],\n",
       "  'salePrice': '₩ 37,000',\n",
       "  'originalPrice': '₩ 37,000',\n",
       "  'color': '발키리',\n",
       "  'category': '',\n",
       "  'brand': '나스',\n",
       "  'volume': '#'},\n",
       " {'name': '벨벳 매트 립 펜슬 - 발키리',\n",
       "  'url': 'http://www.narscosmetics.co.kr/on/demandware.store/Sites-KR-Site/en_KR/Product-Variation?pid=999NACVTMLP01&dwvar_999NACVTMLP01_color=7845024637',\n",
       "  'image': ['http://en.narscosmetics.co.kr/on/demandware.static/-/Sites-itemmaster_NARS/default/dw30f851ea/hi-res/0607845024637.jpg',\n",
       "   'http://en.narscosmetics.co.kr/on/demandware.static/-/Sites-itemmaster_NARS/default/dw86486fa3/swatch/0607845024637.jpg'],\n",
       "  'salePrice': '₩ 37,000',\n",
       "  'originalPrice': '₩ 37,000',\n",
       "  'color': '발키리',\n",
       "  'category': '',\n",
       "  'brand': '나스',\n",
       "  'volume': '#'},\n",
       " {'name': '벨벳 매트 립 펜슬 - 발키리',\n",
       "  'url': 'http://www.narscosmetics.co.kr/on/demandware.store/Sites-KR-Site/en_KR/Product-Variation?pid=999NACVTMLP01&dwvar_999NACVTMLP01_color=7845024637',\n",
       "  'image': ['http://en.narscosmetics.co.kr/on/demandware.static/-/Sites-itemmaster_NARS/default/dw30f851ea/hi-res/0607845024637.jpg',\n",
       "   'http://en.narscosmetics.co.kr/on/demandware.static/-/Sites-itemmaster_NARS/default/dw86486fa3/swatch/0607845024637.jpg'],\n",
       "  'salePrice': '₩ 37,000',\n",
       "  'originalPrice': '₩ 37,000',\n",
       "  'color': '발키리',\n",
       "  'category': '',\n",
       "  'brand': '나스',\n",
       "  'volume': '#'},\n",
       " {'name': '벨벳 매트 립 펜슬 - 발키리',\n",
       "  'url': 'http://www.narscosmetics.co.kr/on/demandware.store/Sites-KR-Site/en_KR/Product-Variation?pid=999NACVTMLP01&dwvar_999NACVTMLP01_color=7845024637',\n",
       "  'image': ['http://en.narscosmetics.co.kr/on/demandware.static/-/Sites-itemmaster_NARS/default/dw30f851ea/hi-res/0607845024637.jpg',\n",
       "   'http://en.narscosmetics.co.kr/on/demandware.static/-/Sites-itemmaster_NARS/default/dw86486fa3/swatch/0607845024637.jpg'],\n",
       "  'salePrice': '₩ 37,000',\n",
       "  'originalPrice': '₩ 37,000',\n",
       "  'color': '발키리',\n",
       "  'category': '',\n",
       "  'brand': '나스',\n",
       "  'volume': '#'},\n",
       " {'name': '벨벳 매트 립 펜슬 - 발키리',\n",
       "  'url': 'http://www.narscosmetics.co.kr/on/demandware.store/Sites-KR-Site/en_KR/Product-Variation?pid=999NACVTMLP01&dwvar_999NACVTMLP01_color=7845024637',\n",
       "  'image': ['http://en.narscosmetics.co.kr/on/demandware.static/-/Sites-itemmaster_NARS/default/dw30f851ea/hi-res/0607845024637.jpg',\n",
       "   'http://en.narscosmetics.co.kr/on/demandware.static/-/Sites-itemmaster_NARS/default/dw86486fa3/swatch/0607845024637.jpg'],\n",
       "  'salePrice': '₩ 37,000',\n",
       "  'originalPrice': '₩ 37,000',\n",
       "  'color': '발키리',\n",
       "  'category': '',\n",
       "  'brand': '나스',\n",
       "  'volume': '#'},\n",
       " {'name': '벨벳 매트 립 펜슬 - 발키리',\n",
       "  'url': 'http://www.narscosmetics.co.kr/on/demandware.store/Sites-KR-Site/en_KR/Product-Variation?pid=999NACVTMLP01&dwvar_999NACVTMLP01_color=7845024637',\n",
       "  'image': ['http://en.narscosmetics.co.kr/on/demandware.static/-/Sites-itemmaster_NARS/default/dw30f851ea/hi-res/0607845024637.jpg',\n",
       "   'http://en.narscosmetics.co.kr/on/demandware.static/-/Sites-itemmaster_NARS/default/dw86486fa3/swatch/0607845024637.jpg'],\n",
       "  'salePrice': '₩ 37,000',\n",
       "  'originalPrice': '₩ 37,000',\n",
       "  'color': '발키리',\n",
       "  'category': '',\n",
       "  'brand': '나스',\n",
       "  'volume': '#'},\n",
       " {'name': '벨벳 매트 립 펜슬 - 발키리',\n",
       "  'url': 'http://www.narscosmetics.co.kr/on/demandware.store/Sites-KR-Site/en_KR/Product-Variation?pid=999NACVTMLP01&dwvar_999NACVTMLP01_color=7845024637',\n",
       "  'image': ['http://en.narscosmetics.co.kr/on/demandware.static/-/Sites-itemmaster_NARS/default/dw30f851ea/hi-res/0607845024637.jpg',\n",
       "   'http://en.narscosmetics.co.kr/on/demandware.static/-/Sites-itemmaster_NARS/default/dw86486fa3/swatch/0607845024637.jpg'],\n",
       "  'salePrice': '₩ 37,000',\n",
       "  'originalPrice': '₩ 37,000',\n",
       "  'color': '발키리',\n",
       "  'category': '',\n",
       "  'brand': '나스',\n",
       "  'volume': '#'},\n",
       " {'name': '벨벳 매트 립 펜슬 - 발키리',\n",
       "  'url': 'http://www.narscosmetics.co.kr/on/demandware.store/Sites-KR-Site/en_KR/Product-Variation?pid=999NACVTMLP01&dwvar_999NACVTMLP01_color=7845024637',\n",
       "  'image': ['http://en.narscosmetics.co.kr/on/demandware.static/-/Sites-itemmaster_NARS/default/dw30f851ea/hi-res/0607845024637.jpg',\n",
       "   'http://en.narscosmetics.co.kr/on/demandware.static/-/Sites-itemmaster_NARS/default/dw86486fa3/swatch/0607845024637.jpg'],\n",
       "  'salePrice': '₩ 37,000',\n",
       "  'originalPrice': '₩ 37,000',\n",
       "  'color': '발키리',\n",
       "  'category': '',\n",
       "  'brand': '나스',\n",
       "  'volume': '#'},\n",
       " {'name': '벨벳 매트 립 펜슬 - 발키리',\n",
       "  'url': 'http://www.narscosmetics.co.kr/on/demandware.store/Sites-KR-Site/en_KR/Product-Variation?pid=999NACVTMLP01&dwvar_999NACVTMLP01_color=7845024637',\n",
       "  'image': ['http://en.narscosmetics.co.kr/on/demandware.static/-/Sites-itemmaster_NARS/default/dw30f851ea/hi-res/0607845024637.jpg',\n",
       "   'http://en.narscosmetics.co.kr/on/demandware.static/-/Sites-itemmaster_NARS/default/dw86486fa3/swatch/0607845024637.jpg'],\n",
       "  'salePrice': '₩ 37,000',\n",
       "  'originalPrice': '₩ 37,000',\n",
       "  'color': '발키리',\n",
       "  'category': '',\n",
       "  'brand': '나스',\n",
       "  'volume': '#'},\n",
       " {'name': '벨벳 매트 립 펜슬 - 발키리',\n",
       "  'url': 'http://www.narscosmetics.co.kr/on/demandware.store/Sites-KR-Site/en_KR/Product-Variation?pid=999NACVTMLP01&dwvar_999NACVTMLP01_color=7845024637',\n",
       "  'image': ['http://en.narscosmetics.co.kr/on/demandware.static/-/Sites-itemmaster_NARS/default/dw30f851ea/hi-res/0607845024637.jpg',\n",
       "   'http://en.narscosmetics.co.kr/on/demandware.static/-/Sites-itemmaster_NARS/default/dw86486fa3/swatch/0607845024637.jpg'],\n",
       "  'salePrice': '₩ 37,000',\n",
       "  'originalPrice': '₩ 37,000',\n",
       "  'color': '발키리',\n",
       "  'category': '',\n",
       "  'brand': '나스',\n",
       "  'volume': '#'},\n",
       " {'name': '벨벳 매트 립 펜슬 - 발키리',\n",
       "  'url': 'http://www.narscosmetics.co.kr/on/demandware.store/Sites-KR-Site/en_KR/Product-Variation?pid=999NACVTMLP01&dwvar_999NACVTMLP01_color=7845024637',\n",
       "  'image': ['http://en.narscosmetics.co.kr/on/demandware.static/-/Sites-itemmaster_NARS/default/dw30f851ea/hi-res/0607845024637.jpg',\n",
       "   'http://en.narscosmetics.co.kr/on/demandware.static/-/Sites-itemmaster_NARS/default/dw86486fa3/swatch/0607845024637.jpg'],\n",
       "  'salePrice': '₩ 37,000',\n",
       "  'originalPrice': '₩ 37,000',\n",
       "  'color': '발키리',\n",
       "  'category': '',\n",
       "  'brand': '나스',\n",
       "  'volume': '#'},\n",
       " {'name': '벨벳 매트 립 펜슬 - 발키리',\n",
       "  'url': 'http://www.narscosmetics.co.kr/on/demandware.store/Sites-KR-Site/en_KR/Product-Variation?pid=999NACVTMLP01&dwvar_999NACVTMLP01_color=7845024637',\n",
       "  'image': ['http://en.narscosmetics.co.kr/on/demandware.static/-/Sites-itemmaster_NARS/default/dw30f851ea/hi-res/0607845024637.jpg',\n",
       "   'http://en.narscosmetics.co.kr/on/demandware.static/-/Sites-itemmaster_NARS/default/dw86486fa3/swatch/0607845024637.jpg'],\n",
       "  'salePrice': '₩ 37,000',\n",
       "  'originalPrice': '₩ 37,000',\n",
       "  'color': '발키리',\n",
       "  'category': '',\n",
       "  'brand': '나스',\n",
       "  'volume': '#'},\n",
       " {'name': '벨벳 매트 립 펜슬 - 발키리',\n",
       "  'url': 'http://www.narscosmetics.co.kr/on/demandware.store/Sites-KR-Site/en_KR/Product-Variation?pid=999NACVTMLP01&dwvar_999NACVTMLP01_color=7845024637',\n",
       "  'image': ['http://en.narscosmetics.co.kr/on/demandware.static/-/Sites-itemmaster_NARS/default/dw30f851ea/hi-res/0607845024637.jpg',\n",
       "   'http://en.narscosmetics.co.kr/on/demandware.static/-/Sites-itemmaster_NARS/default/dw86486fa3/swatch/0607845024637.jpg'],\n",
       "  'salePrice': '₩ 37,000',\n",
       "  'originalPrice': '₩ 37,000',\n",
       "  'color': '발키리',\n",
       "  'category': '',\n",
       "  'brand': '나스',\n",
       "  'volume': '#'},\n",
       " {'name': '벨벳 매트 립 펜슬 - 발키리',\n",
       "  'url': 'http://www.narscosmetics.co.kr/on/demandware.store/Sites-KR-Site/en_KR/Product-Variation?pid=999NACVTMLP01&dwvar_999NACVTMLP01_color=7845024637',\n",
       "  'image': ['http://en.narscosmetics.co.kr/on/demandware.static/-/Sites-itemmaster_NARS/default/dw30f851ea/hi-res/0607845024637.jpg',\n",
       "   'http://en.narscosmetics.co.kr/on/demandware.static/-/Sites-itemmaster_NARS/default/dw86486fa3/swatch/0607845024637.jpg'],\n",
       "  'salePrice': '₩ 37,000',\n",
       "  'originalPrice': '₩ 37,000',\n",
       "  'color': '발키리',\n",
       "  'category': '',\n",
       "  'brand': '나스',\n",
       "  'volume': '#'},\n",
       " {'name': '벨벳 매트 립 펜슬 - 발키리',\n",
       "  'url': 'http://www.narscosmetics.co.kr/on/demandware.store/Sites-KR-Site/en_KR/Product-Variation?pid=999NACVTMLP01&dwvar_999NACVTMLP01_color=7845024637',\n",
       "  'image': ['http://en.narscosmetics.co.kr/on/demandware.static/-/Sites-itemmaster_NARS/default/dw30f851ea/hi-res/0607845024637.jpg',\n",
       "   'http://en.narscosmetics.co.kr/on/demandware.static/-/Sites-itemmaster_NARS/default/dw86486fa3/swatch/0607845024637.jpg'],\n",
       "  'salePrice': '₩ 37,000',\n",
       "  'originalPrice': '₩ 37,000',\n",
       "  'color': '발키리',\n",
       "  'category': '',\n",
       "  'brand': '나스',\n",
       "  'volume': '#'},\n",
       " {'name': '벨벳 매트 립 펜슬 - 발키리',\n",
       "  'url': 'http://www.narscosmetics.co.kr/on/demandware.store/Sites-KR-Site/en_KR/Product-Variation?pid=999NACVTMLP01&dwvar_999NACVTMLP01_color=7845024637',\n",
       "  'image': ['http://en.narscosmetics.co.kr/on/demandware.static/-/Sites-itemmaster_NARS/default/dw30f851ea/hi-res/0607845024637.jpg',\n",
       "   'http://en.narscosmetics.co.kr/on/demandware.static/-/Sites-itemmaster_NARS/default/dw86486fa3/swatch/0607845024637.jpg'],\n",
       "  'salePrice': '₩ 37,000',\n",
       "  'originalPrice': '₩ 37,000',\n",
       "  'color': '발키리',\n",
       "  'category': '',\n",
       "  'brand': '나스',\n",
       "  'volume': '#'},\n",
       " {'name': '벨벳 매트 립 펜슬 - 발키리',\n",
       "  'url': 'http://www.narscosmetics.co.kr/on/demandware.store/Sites-KR-Site/en_KR/Product-Variation?pid=999NACVTMLP01&dwvar_999NACVTMLP01_color=7845024637',\n",
       "  'image': ['http://en.narscosmetics.co.kr/on/demandware.static/-/Sites-itemmaster_NARS/default/dw30f851ea/hi-res/0607845024637.jpg',\n",
       "   'http://en.narscosmetics.co.kr/on/demandware.static/-/Sites-itemmaster_NARS/default/dw86486fa3/swatch/0607845024637.jpg'],\n",
       "  'salePrice': '₩ 37,000',\n",
       "  'originalPrice': '₩ 37,000',\n",
       "  'color': '발키리',\n",
       "  'category': '',\n",
       "  'brand': '나스',\n",
       "  'volume': '#'},\n",
       " {'name': '벨벳 매트 립 펜슬 - 발키리',\n",
       "  'url': 'http://www.narscosmetics.co.kr/on/demandware.store/Sites-KR-Site/en_KR/Product-Variation?pid=999NACVTMLP01&dwvar_999NACVTMLP01_color=7845024637',\n",
       "  'image': ['http://en.narscosmetics.co.kr/on/demandware.static/-/Sites-itemmaster_NARS/default/dw30f851ea/hi-res/0607845024637.jpg',\n",
       "   'http://en.narscosmetics.co.kr/on/demandware.static/-/Sites-itemmaster_NARS/default/dw86486fa3/swatch/0607845024637.jpg'],\n",
       "  'salePrice': '₩ 37,000',\n",
       "  'originalPrice': '₩ 37,000',\n",
       "  'color': '발키리',\n",
       "  'category': '',\n",
       "  'brand': '나스',\n",
       "  'volume': '#'},\n",
       " {'name': '벨벳 매트 립 펜슬 - 발키리',\n",
       "  'url': 'http://www.narscosmetics.co.kr/on/demandware.store/Sites-KR-Site/en_KR/Product-Variation?pid=999NACVTMLP01&dwvar_999NACVTMLP01_color=7845024637',\n",
       "  'image': ['http://en.narscosmetics.co.kr/on/demandware.static/-/Sites-itemmaster_NARS/default/dw30f851ea/hi-res/0607845024637.jpg',\n",
       "   'http://en.narscosmetics.co.kr/on/demandware.static/-/Sites-itemmaster_NARS/default/dw86486fa3/swatch/0607845024637.jpg'],\n",
       "  'salePrice': '₩ 37,000',\n",
       "  'originalPrice': '₩ 37,000',\n",
       "  'color': '발키리',\n",
       "  'category': '',\n",
       "  'brand': '나스',\n",
       "  'volume': '#'},\n",
       " {'name': '벨벳 매트 립 펜슬 - 발키리',\n",
       "  'url': 'http://www.narscosmetics.co.kr/on/demandware.store/Sites-KR-Site/en_KR/Product-Variation?pid=999NACVTMLP01&dwvar_999NACVTMLP01_color=7845024637',\n",
       "  'image': ['http://en.narscosmetics.co.kr/on/demandware.static/-/Sites-itemmaster_NARS/default/dw30f851ea/hi-res/0607845024637.jpg',\n",
       "   'http://en.narscosmetics.co.kr/on/demandware.static/-/Sites-itemmaster_NARS/default/dw86486fa3/swatch/0607845024637.jpg'],\n",
       "  'salePrice': '₩ 37,000',\n",
       "  'originalPrice': '₩ 37,000',\n",
       "  'color': '발키리',\n",
       "  'category': '',\n",
       "  'brand': '나스',\n",
       "  'volume': '#'},\n",
       " {'name': '벨벳 매트 립 펜슬 - 발키리',\n",
       "  'url': 'http://www.narscosmetics.co.kr/on/demandware.store/Sites-KR-Site/en_KR/Product-Variation?pid=999NACVTMLP01&dwvar_999NACVTMLP01_color=7845024637',\n",
       "  'image': ['http://en.narscosmetics.co.kr/on/demandware.static/-/Sites-itemmaster_NARS/default/dw30f851ea/hi-res/0607845024637.jpg',\n",
       "   'http://en.narscosmetics.co.kr/on/demandware.static/-/Sites-itemmaster_NARS/default/dw86486fa3/swatch/0607845024637.jpg'],\n",
       "  'salePrice': '₩ 37,000',\n",
       "  'originalPrice': '₩ 37,000',\n",
       "  'color': '발키리',\n",
       "  'category': '',\n",
       "  'brand': '나스',\n",
       "  'volume': '#'},\n",
       " {'name': '벨벳 매트 립 펜슬 - 발키리',\n",
       "  'url': 'http://www.narscosmetics.co.kr/on/demandware.store/Sites-KR-Site/en_KR/Product-Variation?pid=999NACVTMLP01&dwvar_999NACVTMLP01_color=7845024637',\n",
       "  'image': ['http://en.narscosmetics.co.kr/on/demandware.static/-/Sites-itemmaster_NARS/default/dw30f851ea/hi-res/0607845024637.jpg',\n",
       "   'http://en.narscosmetics.co.kr/on/demandware.static/-/Sites-itemmaster_NARS/default/dw86486fa3/swatch/0607845024637.jpg'],\n",
       "  'salePrice': '₩ 37,000',\n",
       "  'originalPrice': '₩ 37,000',\n",
       "  'color': '발키리',\n",
       "  'category': '',\n",
       "  'brand': '나스',\n",
       "  'volume': '#'},\n",
       " {'name': '벨벳 매트 립 펜슬 - 발키리',\n",
       "  'url': 'http://www.narscosmetics.co.kr/on/demandware.store/Sites-KR-Site/en_KR/Product-Variation?pid=999NACVTMLP01&dwvar_999NACVTMLP01_color=7845024637',\n",
       "  'image': ['http://en.narscosmetics.co.kr/on/demandware.static/-/Sites-itemmaster_NARS/default/dw30f851ea/hi-res/0607845024637.jpg',\n",
       "   'http://en.narscosmetics.co.kr/on/demandware.static/-/Sites-itemmaster_NARS/default/dw86486fa3/swatch/0607845024637.jpg'],\n",
       "  'salePrice': '₩ 37,000',\n",
       "  'originalPrice': '₩ 37,000',\n",
       "  'color': '발키리',\n",
       "  'category': '',\n",
       "  'brand': '나스',\n",
       "  'volume': '#'},\n",
       " {'name': '벨벳 매트 립 펜슬 - 발키리',\n",
       "  'url': 'http://www.narscosmetics.co.kr/on/demandware.store/Sites-KR-Site/en_KR/Product-Variation?pid=999NACVTMLP01&dwvar_999NACVTMLP01_color=7845024637',\n",
       "  'image': ['http://en.narscosmetics.co.kr/on/demandware.static/-/Sites-itemmaster_NARS/default/dw30f851ea/hi-res/0607845024637.jpg',\n",
       "   'http://en.narscosmetics.co.kr/on/demandware.static/-/Sites-itemmaster_NARS/default/dw86486fa3/swatch/0607845024637.jpg'],\n",
       "  'salePrice': '₩ 37,000',\n",
       "  'originalPrice': '₩ 37,000',\n",
       "  'color': '발키리',\n",
       "  'category': '',\n",
       "  'brand': '나스',\n",
       "  'volume': '#'},\n",
       " {'name': '벨벳 매트 립 펜슬 - 발키리',\n",
       "  'url': 'http://www.narscosmetics.co.kr/on/demandware.store/Sites-KR-Site/en_KR/Product-Variation?pid=999NACVTMLP01&dwvar_999NACVTMLP01_color=7845024637',\n",
       "  'image': ['http://en.narscosmetics.co.kr/on/demandware.static/-/Sites-itemmaster_NARS/default/dw30f851ea/hi-res/0607845024637.jpg',\n",
       "   'http://en.narscosmetics.co.kr/on/demandware.static/-/Sites-itemmaster_NARS/default/dw86486fa3/swatch/0607845024637.jpg'],\n",
       "  'salePrice': '₩ 37,000',\n",
       "  'originalPrice': '₩ 37,000',\n",
       "  'color': '발키리',\n",
       "  'category': '',\n",
       "  'brand': '나스',\n",
       "  'volume': '#'},\n",
       " {'name': '벨벳 매트 립 펜슬 - 발키리',\n",
       "  'url': 'http://www.narscosmetics.co.kr/on/demandware.store/Sites-KR-Site/en_KR/Product-Variation?pid=999NACVTMLP01&dwvar_999NACVTMLP01_color=7845024637',\n",
       "  'image': ['http://en.narscosmetics.co.kr/on/demandware.static/-/Sites-itemmaster_NARS/default/dw30f851ea/hi-res/0607845024637.jpg',\n",
       "   'http://en.narscosmetics.co.kr/on/demandware.static/-/Sites-itemmaster_NARS/default/dw86486fa3/swatch/0607845024637.jpg'],\n",
       "  'salePrice': '₩ 37,000',\n",
       "  'originalPrice': '₩ 37,000',\n",
       "  'color': '발키리',\n",
       "  'category': '',\n",
       "  'brand': '나스',\n",
       "  'volume': '#'},\n",
       " {'name': '벨벳 매트 립 펜슬 - 발키리',\n",
       "  'url': 'http://www.narscosmetics.co.kr/on/demandware.store/Sites-KR-Site/en_KR/Product-Variation?pid=999NACVTMLP01&dwvar_999NACVTMLP01_color=7845024637',\n",
       "  'image': ['http://en.narscosmetics.co.kr/on/demandware.static/-/Sites-itemmaster_NARS/default/dw30f851ea/hi-res/0607845024637.jpg',\n",
       "   'http://en.narscosmetics.co.kr/on/demandware.static/-/Sites-itemmaster_NARS/default/dw86486fa3/swatch/0607845024637.jpg'],\n",
       "  'salePrice': '₩ 37,000',\n",
       "  'originalPrice': '₩ 37,000',\n",
       "  'color': '발키리',\n",
       "  'category': '',\n",
       "  'brand': '나스',\n",
       "  'volume': '#'},\n",
       " {'name': '나스 파워매트 립 러스터',\n",
       "  'url': 'http://www.narscosmetics.co.kr/on/demandware.store/Sites-KR-Site/en_KR/Product-Variation?pid=999NAC00201801&dwvar_999NAC00201801_color=Shimmering%20Black%2fBrown',\n",
       "  'image': ['http://en.narscosmetics.co.kr/on/demandware.static/-/Sites-itemmaster_NARS/default/dw5786a99e/hi-res/B_powermatte_metallic_blackheart_p6_1000x1000.jpg',\n",
       "   'http://en.narscosmetics.co.kr/on/demandware.static/-/Sites-itemmaster_NARS/default/dwc154dea3/hi-res/B_power_matte_lip_swatch_proposal_06_1000x1000.jpg'],\n",
       "  'salePrice': '₩ 37,000',\n",
       "  'originalPrice': '₩ 37,000',\n",
       "  'color': '블랙하트',\n",
       "  'category': '',\n",
       "  'brand': '나스',\n",
       "  'volume': '#'},\n",
       " {'name': '나스 파워매트 립 러스터',\n",
       "  'url': 'http://www.narscosmetics.co.kr/on/demandware.store/Sites-KR-Site/en_KR/Product-Variation?pid=999NAC00201801&dwvar_999NAC00201801_color=Shimmering%20Black%2fBrown',\n",
       "  'image': ['http://en.narscosmetics.co.kr/on/demandware.static/-/Sites-itemmaster_NARS/default/dw5786a99e/hi-res/B_powermatte_metallic_blackheart_p6_1000x1000.jpg',\n",
       "   'http://en.narscosmetics.co.kr/on/demandware.static/-/Sites-itemmaster_NARS/default/dwc154dea3/hi-res/B_power_matte_lip_swatch_proposal_06_1000x1000.jpg'],\n",
       "  'salePrice': '₩ 37,000',\n",
       "  'originalPrice': '₩ 37,000',\n",
       "  'color': '블랙하트',\n",
       "  'category': '',\n",
       "  'brand': '나스',\n",
       "  'volume': '#'},\n",
       " {'name': '나스 파워매트 립 러스터',\n",
       "  'url': 'http://www.narscosmetics.co.kr/on/demandware.store/Sites-KR-Site/en_KR/Product-Variation?pid=999NAC00201801&dwvar_999NAC00201801_color=Shimmering%20Black%2fBrown',\n",
       "  'image': ['http://en.narscosmetics.co.kr/on/demandware.static/-/Sites-itemmaster_NARS/default/dw5786a99e/hi-res/B_powermatte_metallic_blackheart_p6_1000x1000.jpg',\n",
       "   'http://en.narscosmetics.co.kr/on/demandware.static/-/Sites-itemmaster_NARS/default/dwc154dea3/hi-res/B_power_matte_lip_swatch_proposal_06_1000x1000.jpg'],\n",
       "  'salePrice': '₩ 37,000',\n",
       "  'originalPrice': '₩ 37,000',\n",
       "  'color': '블랙하트',\n",
       "  'category': '',\n",
       "  'brand': '나스',\n",
       "  'volume': '#'},\n",
       " {'name': '나스 파워매트 립 러스터',\n",
       "  'url': 'http://www.narscosmetics.co.kr/on/demandware.store/Sites-KR-Site/en_KR/Product-Variation?pid=999NAC00201801&dwvar_999NAC00201801_color=Shimmering%20Black%2fBrown',\n",
       "  'image': ['http://en.narscosmetics.co.kr/on/demandware.static/-/Sites-itemmaster_NARS/default/dw5786a99e/hi-res/B_powermatte_metallic_blackheart_p6_1000x1000.jpg',\n",
       "   'http://en.narscosmetics.co.kr/on/demandware.static/-/Sites-itemmaster_NARS/default/dwc154dea3/hi-res/B_power_matte_lip_swatch_proposal_06_1000x1000.jpg'],\n",
       "  'salePrice': '₩ 37,000',\n",
       "  'originalPrice': '₩ 37,000',\n",
       "  'color': '블랙하트',\n",
       "  'category': '',\n",
       "  'brand': '나스',\n",
       "  'volume': '#'},\n",
       " {'name': '나스 파워매트 립 러스터',\n",
       "  'url': 'http://www.narscosmetics.co.kr/on/demandware.store/Sites-KR-Site/en_KR/Product-Variation?pid=999NAC00201801&dwvar_999NAC00201801_color=Shimmering%20Black%2fBrown',\n",
       "  'image': ['http://en.narscosmetics.co.kr/on/demandware.static/-/Sites-itemmaster_NARS/default/dw5786a99e/hi-res/B_powermatte_metallic_blackheart_p6_1000x1000.jpg',\n",
       "   'http://en.narscosmetics.co.kr/on/demandware.static/-/Sites-itemmaster_NARS/default/dwc154dea3/hi-res/B_power_matte_lip_swatch_proposal_06_1000x1000.jpg'],\n",
       "  'salePrice': '₩ 37,000',\n",
       "  'originalPrice': '₩ 37,000',\n",
       "  'color': '블랙하트',\n",
       "  'category': '',\n",
       "  'brand': '나스',\n",
       "  'volume': '#'},\n",
       " {'name': '나스 파워매트 립 러스터',\n",
       "  'url': 'http://www.narscosmetics.co.kr/on/demandware.store/Sites-KR-Site/en_KR/Product-Variation?pid=999NAC00201801&dwvar_999NAC00201801_color=Shimmering%20Black%2fBrown',\n",
       "  'image': ['http://en.narscosmetics.co.kr/on/demandware.static/-/Sites-itemmaster_NARS/default/dw5786a99e/hi-res/B_powermatte_metallic_blackheart_p6_1000x1000.jpg',\n",
       "   'http://en.narscosmetics.co.kr/on/demandware.static/-/Sites-itemmaster_NARS/default/dwc154dea3/hi-res/B_power_matte_lip_swatch_proposal_06_1000x1000.jpg'],\n",
       "  'salePrice': '₩ 37,000',\n",
       "  'originalPrice': '₩ 37,000',\n",
       "  'color': '블랙하트',\n",
       "  'category': '',\n",
       "  'brand': '나스',\n",
       "  'volume': '#'},\n",
       " {'name': '프리시전 립 라이너 - 방스',\n",
       "  'url': 'http://www.narscosmetics.co.kr/on/demandware.store/Sites-KR-Site/en_KR/Product-Variation?pid=999NAC0000054&dwvar_999NAC0000054_color=7845090724',\n",
       "  'image': ['http://en.narscosmetics.co.kr/on/demandware.static/-/Sites-itemmaster_NARS/default/dw3966a3a3/hi-res/0607845090724.jpg',\n",
       "   'http://en.narscosmetics.co.kr/on/demandware.static/-/Sites-itemmaster_NARS/default/dwfb766ed6/assets/PrecisionLipLiner_OnModel_2_ShadeRange_1000x1000.jpg',\n",
       "   'http://en.narscosmetics.co.kr/on/demandware.static/-/Sites-itemmaster_NARS/default/dwbe5511b8/assets/PrecisionLipLiner_OnModel_ShadeRange_1000x1000.jpg',\n",
       "   'http://en.narscosmetics.co.kr/on/demandware.static/Sites-KR-Site/-/en_KR/v1546225498151/images/noimageshadesmall.png'],\n",
       "  'salePrice': '₩ 33,000',\n",
       "  'originalPrice': '₩ 33,000',\n",
       "  'color': '방스',\n",
       "  'category': '',\n",
       "  'brand': '나스',\n",
       "  'volume': '#'},\n",
       " {'name': '프리시전 립 라이너 - 방스',\n",
       "  'url': 'http://www.narscosmetics.co.kr/on/demandware.store/Sites-KR-Site/en_KR/Product-Variation?pid=999NAC0000054&dwvar_999NAC0000054_color=7845090724',\n",
       "  'image': ['http://en.narscosmetics.co.kr/on/demandware.static/-/Sites-itemmaster_NARS/default/dw3966a3a3/hi-res/0607845090724.jpg',\n",
       "   'http://en.narscosmetics.co.kr/on/demandware.static/-/Sites-itemmaster_NARS/default/dwfb766ed6/assets/PrecisionLipLiner_OnModel_2_ShadeRange_1000x1000.jpg',\n",
       "   'http://en.narscosmetics.co.kr/on/demandware.static/-/Sites-itemmaster_NARS/default/dwbe5511b8/assets/PrecisionLipLiner_OnModel_ShadeRange_1000x1000.jpg',\n",
       "   'http://en.narscosmetics.co.kr/on/demandware.static/Sites-KR-Site/-/en_KR/v1546225498151/images/noimageshadesmall.png'],\n",
       "  'salePrice': '₩ 33,000',\n",
       "  'originalPrice': '₩ 33,000',\n",
       "  'color': '방스',\n",
       "  'category': '',\n",
       "  'brand': '나스',\n",
       "  'volume': '#'},\n",
       " {'name': '프리시전 립 라이너 - 방스',\n",
       "  'url': 'http://www.narscosmetics.co.kr/on/demandware.store/Sites-KR-Site/en_KR/Product-Variation?pid=999NAC0000054&dwvar_999NAC0000054_color=7845090724',\n",
       "  'image': ['http://en.narscosmetics.co.kr/on/demandware.static/-/Sites-itemmaster_NARS/default/dw3966a3a3/hi-res/0607845090724.jpg',\n",
       "   'http://en.narscosmetics.co.kr/on/demandware.static/-/Sites-itemmaster_NARS/default/dwfb766ed6/assets/PrecisionLipLiner_OnModel_2_ShadeRange_1000x1000.jpg',\n",
       "   'http://en.narscosmetics.co.kr/on/demandware.static/-/Sites-itemmaster_NARS/default/dwbe5511b8/assets/PrecisionLipLiner_OnModel_ShadeRange_1000x1000.jpg',\n",
       "   'http://en.narscosmetics.co.kr/on/demandware.static/Sites-KR-Site/-/en_KR/v1546225498151/images/noimageshadesmall.png'],\n",
       "  'salePrice': '₩ 33,000',\n",
       "  'originalPrice': '₩ 33,000',\n",
       "  'color': '방스',\n",
       "  'category': '',\n",
       "  'brand': '나스',\n",
       "  'volume': '#'},\n",
       " {'name': '프리시전 립 라이너 - 방스',\n",
       "  'url': 'http://www.narscosmetics.co.kr/on/demandware.store/Sites-KR-Site/en_KR/Product-Variation?pid=999NAC0000054&dwvar_999NAC0000054_color=7845090724',\n",
       "  'image': ['http://en.narscosmetics.co.kr/on/demandware.static/-/Sites-itemmaster_NARS/default/dw3966a3a3/hi-res/0607845090724.jpg',\n",
       "   'http://en.narscosmetics.co.kr/on/demandware.static/-/Sites-itemmaster_NARS/default/dwfb766ed6/assets/PrecisionLipLiner_OnModel_2_ShadeRange_1000x1000.jpg',\n",
       "   'http://en.narscosmetics.co.kr/on/demandware.static/-/Sites-itemmaster_NARS/default/dwbe5511b8/assets/PrecisionLipLiner_OnModel_ShadeRange_1000x1000.jpg',\n",
       "   'http://en.narscosmetics.co.kr/on/demandware.static/Sites-KR-Site/-/en_KR/v1546225498151/images/noimageshadesmall.png'],\n",
       "  'salePrice': '₩ 33,000',\n",
       "  'originalPrice': '₩ 33,000',\n",
       "  'color': '방스',\n",
       "  'category': '',\n",
       "  'brand': '나스',\n",
       "  'volume': '#'},\n",
       " {'name': '프리시전 립 라이너 - 방스',\n",
       "  'url': 'http://www.narscosmetics.co.kr/on/demandware.store/Sites-KR-Site/en_KR/Product-Variation?pid=999NAC0000054&dwvar_999NAC0000054_color=7845090724',\n",
       "  'image': ['http://en.narscosmetics.co.kr/on/demandware.static/-/Sites-itemmaster_NARS/default/dw3966a3a3/hi-res/0607845090724.jpg',\n",
       "   'http://en.narscosmetics.co.kr/on/demandware.static/-/Sites-itemmaster_NARS/default/dwfb766ed6/assets/PrecisionLipLiner_OnModel_2_ShadeRange_1000x1000.jpg',\n",
       "   'http://en.narscosmetics.co.kr/on/demandware.static/-/Sites-itemmaster_NARS/default/dwbe5511b8/assets/PrecisionLipLiner_OnModel_ShadeRange_1000x1000.jpg',\n",
       "   'http://en.narscosmetics.co.kr/on/demandware.static/Sites-KR-Site/-/en_KR/v1546225498151/images/noimageshadesmall.png'],\n",
       "  'salePrice': '₩ 33,000',\n",
       "  'originalPrice': '₩ 33,000',\n",
       "  'color': '방스',\n",
       "  'category': '',\n",
       "  'brand': '나스',\n",
       "  'volume': '#'},\n",
       " {'name': '프리시전 립 라이너 - 방스',\n",
       "  'url': 'http://www.narscosmetics.co.kr/on/demandware.store/Sites-KR-Site/en_KR/Product-Variation?pid=999NAC0000054&dwvar_999NAC0000054_color=7845090724',\n",
       "  'image': ['http://en.narscosmetics.co.kr/on/demandware.static/-/Sites-itemmaster_NARS/default/dw3966a3a3/hi-res/0607845090724.jpg',\n",
       "   'http://en.narscosmetics.co.kr/on/demandware.static/-/Sites-itemmaster_NARS/default/dwfb766ed6/assets/PrecisionLipLiner_OnModel_2_ShadeRange_1000x1000.jpg',\n",
       "   'http://en.narscosmetics.co.kr/on/demandware.static/-/Sites-itemmaster_NARS/default/dwbe5511b8/assets/PrecisionLipLiner_OnModel_ShadeRange_1000x1000.jpg',\n",
       "   'http://en.narscosmetics.co.kr/on/demandware.static/Sites-KR-Site/-/en_KR/v1546225498151/images/noimageshadesmall.png'],\n",
       "  'salePrice': '₩ 33,000',\n",
       "  'originalPrice': '₩ 33,000',\n",
       "  'color': '방스',\n",
       "  'category': '',\n",
       "  'brand': '나스',\n",
       "  'volume': '#'},\n",
       " {'name': '프리시전 립 라이너 - 방스',\n",
       "  'url': 'http://www.narscosmetics.co.kr/on/demandware.store/Sites-KR-Site/en_KR/Product-Variation?pid=999NAC0000054&dwvar_999NAC0000054_color=7845090724',\n",
       "  'image': ['http://en.narscosmetics.co.kr/on/demandware.static/-/Sites-itemmaster_NARS/default/dw3966a3a3/hi-res/0607845090724.jpg',\n",
       "   'http://en.narscosmetics.co.kr/on/demandware.static/-/Sites-itemmaster_NARS/default/dwfb766ed6/assets/PrecisionLipLiner_OnModel_2_ShadeRange_1000x1000.jpg',\n",
       "   'http://en.narscosmetics.co.kr/on/demandware.static/-/Sites-itemmaster_NARS/default/dwbe5511b8/assets/PrecisionLipLiner_OnModel_ShadeRange_1000x1000.jpg',\n",
       "   'http://en.narscosmetics.co.kr/on/demandware.static/Sites-KR-Site/-/en_KR/v1546225498151/images/noimageshadesmall.png'],\n",
       "  'salePrice': '₩ 33,000',\n",
       "  'originalPrice': '₩ 33,000',\n",
       "  'color': '방스',\n",
       "  'category': '',\n",
       "  'brand': '나스',\n",
       "  'volume': '#'},\n",
       " {'name': '프리시전 립 라이너 - 방스',\n",
       "  'url': 'http://www.narscosmetics.co.kr/on/demandware.store/Sites-KR-Site/en_KR/Product-Variation?pid=999NAC0000054&dwvar_999NAC0000054_color=7845090724',\n",
       "  'image': ['http://en.narscosmetics.co.kr/on/demandware.static/-/Sites-itemmaster_NARS/default/dw3966a3a3/hi-res/0607845090724.jpg',\n",
       "   'http://en.narscosmetics.co.kr/on/demandware.static/-/Sites-itemmaster_NARS/default/dwfb766ed6/assets/PrecisionLipLiner_OnModel_2_ShadeRange_1000x1000.jpg',\n",
       "   'http://en.narscosmetics.co.kr/on/demandware.static/-/Sites-itemmaster_NARS/default/dwbe5511b8/assets/PrecisionLipLiner_OnModel_ShadeRange_1000x1000.jpg',\n",
       "   'http://en.narscosmetics.co.kr/on/demandware.static/Sites-KR-Site/-/en_KR/v1546225498151/images/noimageshadesmall.png'],\n",
       "  'salePrice': '₩ 33,000',\n",
       "  'originalPrice': '₩ 33,000',\n",
       "  'color': '방스',\n",
       "  'category': '',\n",
       "  'brand': '나스',\n",
       "  'volume': '#'},\n",
       " {'name': '프리시전 립 라이너 - 방스',\n",
       "  'url': 'http://www.narscosmetics.co.kr/on/demandware.store/Sites-KR-Site/en_KR/Product-Variation?pid=999NAC0000054&dwvar_999NAC0000054_color=7845090724',\n",
       "  'image': ['http://en.narscosmetics.co.kr/on/demandware.static/-/Sites-itemmaster_NARS/default/dw3966a3a3/hi-res/0607845090724.jpg',\n",
       "   'http://en.narscosmetics.co.kr/on/demandware.static/-/Sites-itemmaster_NARS/default/dwfb766ed6/assets/PrecisionLipLiner_OnModel_2_ShadeRange_1000x1000.jpg',\n",
       "   'http://en.narscosmetics.co.kr/on/demandware.static/-/Sites-itemmaster_NARS/default/dwbe5511b8/assets/PrecisionLipLiner_OnModel_ShadeRange_1000x1000.jpg',\n",
       "   'http://en.narscosmetics.co.kr/on/demandware.static/Sites-KR-Site/-/en_KR/v1546225498151/images/noimageshadesmall.png'],\n",
       "  'salePrice': '₩ 33,000',\n",
       "  'originalPrice': '₩ 33,000',\n",
       "  'color': '방스',\n",
       "  'category': '',\n",
       "  'brand': '나스',\n",
       "  'volume': '#'},\n",
       " {'name': '프리시전 립 라이너 - 방스',\n",
       "  'url': 'http://www.narscosmetics.co.kr/on/demandware.store/Sites-KR-Site/en_KR/Product-Variation?pid=999NAC0000054&dwvar_999NAC0000054_color=7845090724',\n",
       "  'image': ['http://en.narscosmetics.co.kr/on/demandware.static/-/Sites-itemmaster_NARS/default/dw3966a3a3/hi-res/0607845090724.jpg',\n",
       "   'http://en.narscosmetics.co.kr/on/demandware.static/-/Sites-itemmaster_NARS/default/dwfb766ed6/assets/PrecisionLipLiner_OnModel_2_ShadeRange_1000x1000.jpg',\n",
       "   'http://en.narscosmetics.co.kr/on/demandware.static/-/Sites-itemmaster_NARS/default/dwbe5511b8/assets/PrecisionLipLiner_OnModel_ShadeRange_1000x1000.jpg',\n",
       "   'http://en.narscosmetics.co.kr/on/demandware.static/Sites-KR-Site/-/en_KR/v1546225498151/images/noimageshadesmall.png'],\n",
       "  'salePrice': '₩ 33,000',\n",
       "  'originalPrice': '₩ 33,000',\n",
       "  'color': '방스',\n",
       "  'category': '',\n",
       "  'brand': '나스',\n",
       "  'volume': '#'},\n",
       " {'name': '프리시전 립 라이너 - 방스',\n",
       "  'url': 'http://www.narscosmetics.co.kr/on/demandware.store/Sites-KR-Site/en_KR/Product-Variation?pid=999NAC0000054&dwvar_999NAC0000054_color=7845090724',\n",
       "  'image': ['http://en.narscosmetics.co.kr/on/demandware.static/-/Sites-itemmaster_NARS/default/dw3966a3a3/hi-res/0607845090724.jpg',\n",
       "   'http://en.narscosmetics.co.kr/on/demandware.static/-/Sites-itemmaster_NARS/default/dwfb766ed6/assets/PrecisionLipLiner_OnModel_2_ShadeRange_1000x1000.jpg',\n",
       "   'http://en.narscosmetics.co.kr/on/demandware.static/-/Sites-itemmaster_NARS/default/dwbe5511b8/assets/PrecisionLipLiner_OnModel_ShadeRange_1000x1000.jpg',\n",
       "   'http://en.narscosmetics.co.kr/on/demandware.static/Sites-KR-Site/-/en_KR/v1546225498151/images/noimageshadesmall.png'],\n",
       "  'salePrice': '₩ 33,000',\n",
       "  'originalPrice': '₩ 33,000',\n",
       "  'color': '방스',\n",
       "  'category': '',\n",
       "  'brand': '나스',\n",
       "  'volume': '#'},\n",
       " {'name': '프리시전 립 라이너 - 방스',\n",
       "  'url': 'http://www.narscosmetics.co.kr/on/demandware.store/Sites-KR-Site/en_KR/Product-Variation?pid=999NAC0000054&dwvar_999NAC0000054_color=7845090724',\n",
       "  'image': ['http://en.narscosmetics.co.kr/on/demandware.static/-/Sites-itemmaster_NARS/default/dw3966a3a3/hi-res/0607845090724.jpg',\n",
       "   'http://en.narscosmetics.co.kr/on/demandware.static/-/Sites-itemmaster_NARS/default/dwfb766ed6/assets/PrecisionLipLiner_OnModel_2_ShadeRange_1000x1000.jpg',\n",
       "   'http://en.narscosmetics.co.kr/on/demandware.static/-/Sites-itemmaster_NARS/default/dwbe5511b8/assets/PrecisionLipLiner_OnModel_ShadeRange_1000x1000.jpg',\n",
       "   'http://en.narscosmetics.co.kr/on/demandware.static/Sites-KR-Site/-/en_KR/v1546225498151/images/noimageshadesmall.png'],\n",
       "  'salePrice': '₩ 33,000',\n",
       "  'originalPrice': '₩ 33,000',\n",
       "  'color': '방스',\n",
       "  'category': '',\n",
       "  'brand': '나스',\n",
       "  'volume': '#'},\n",
       " {'name': '프리시전 립 라이너 - 방스',\n",
       "  'url': 'http://www.narscosmetics.co.kr/on/demandware.store/Sites-KR-Site/en_KR/Product-Variation?pid=999NAC0000054&dwvar_999NAC0000054_color=7845090724',\n",
       "  'image': ['http://en.narscosmetics.co.kr/on/demandware.static/-/Sites-itemmaster_NARS/default/dw3966a3a3/hi-res/0607845090724.jpg',\n",
       "   'http://en.narscosmetics.co.kr/on/demandware.static/-/Sites-itemmaster_NARS/default/dwfb766ed6/assets/PrecisionLipLiner_OnModel_2_ShadeRange_1000x1000.jpg',\n",
       "   'http://en.narscosmetics.co.kr/on/demandware.static/-/Sites-itemmaster_NARS/default/dwbe5511b8/assets/PrecisionLipLiner_OnModel_ShadeRange_1000x1000.jpg',\n",
       "   'http://en.narscosmetics.co.kr/on/demandware.static/Sites-KR-Site/-/en_KR/v1546225498151/images/noimageshadesmall.png'],\n",
       "  'salePrice': '₩ 33,000',\n",
       "  'originalPrice': '₩ 33,000',\n",
       "  'color': '방스',\n",
       "  'category': '',\n",
       "  'brand': '나스',\n",
       "  'volume': '#'},\n",
       " {'name': '프리시전 립 라이너 - 방스',\n",
       "  'url': 'http://www.narscosmetics.co.kr/on/demandware.store/Sites-KR-Site/en_KR/Product-Variation?pid=999NAC0000054&dwvar_999NAC0000054_color=7845090724',\n",
       "  'image': ['http://en.narscosmetics.co.kr/on/demandware.static/-/Sites-itemmaster_NARS/default/dw3966a3a3/hi-res/0607845090724.jpg',\n",
       "   'http://en.narscosmetics.co.kr/on/demandware.static/-/Sites-itemmaster_NARS/default/dwfb766ed6/assets/PrecisionLipLiner_OnModel_2_ShadeRange_1000x1000.jpg',\n",
       "   'http://en.narscosmetics.co.kr/on/demandware.static/-/Sites-itemmaster_NARS/default/dwbe5511b8/assets/PrecisionLipLiner_OnModel_ShadeRange_1000x1000.jpg',\n",
       "   'http://en.narscosmetics.co.kr/on/demandware.static/Sites-KR-Site/-/en_KR/v1546225498151/images/noimageshadesmall.png'],\n",
       "  'salePrice': '₩ 33,000',\n",
       "  'originalPrice': '₩ 33,000',\n",
       "  'color': '방스',\n",
       "  'category': '',\n",
       "  'brand': '나스',\n",
       "  'volume': '#'},\n",
       " {'name': '프리시전 립 라이너 - 방스',\n",
       "  'url': 'http://www.narscosmetics.co.kr/on/demandware.store/Sites-KR-Site/en_KR/Product-Variation?pid=999NAC0000054&dwvar_999NAC0000054_color=7845090724',\n",
       "  'image': ['http://en.narscosmetics.co.kr/on/demandware.static/-/Sites-itemmaster_NARS/default/dw3966a3a3/hi-res/0607845090724.jpg',\n",
       "   'http://en.narscosmetics.co.kr/on/demandware.static/-/Sites-itemmaster_NARS/default/dwfb766ed6/assets/PrecisionLipLiner_OnModel_2_ShadeRange_1000x1000.jpg',\n",
       "   'http://en.narscosmetics.co.kr/on/demandware.static/-/Sites-itemmaster_NARS/default/dwbe5511b8/assets/PrecisionLipLiner_OnModel_ShadeRange_1000x1000.jpg',\n",
       "   'http://en.narscosmetics.co.kr/on/demandware.static/Sites-KR-Site/-/en_KR/v1546225498151/images/noimageshadesmall.png'],\n",
       "  'salePrice': '₩ 33,000',\n",
       "  'originalPrice': '₩ 33,000',\n",
       "  'color': '방스',\n",
       "  'category': '',\n",
       "  'brand': '나스',\n",
       "  'volume': '#'},\n",
       " {'name': '프리시전 립 라이너 - 방스',\n",
       "  'url': 'http://www.narscosmetics.co.kr/on/demandware.store/Sites-KR-Site/en_KR/Product-Variation?pid=999NAC0000054&dwvar_999NAC0000054_color=7845090724',\n",
       "  'image': ['http://en.narscosmetics.co.kr/on/demandware.static/-/Sites-itemmaster_NARS/default/dw3966a3a3/hi-res/0607845090724.jpg',\n",
       "   'http://en.narscosmetics.co.kr/on/demandware.static/-/Sites-itemmaster_NARS/default/dwfb766ed6/assets/PrecisionLipLiner_OnModel_2_ShadeRange_1000x1000.jpg',\n",
       "   'http://en.narscosmetics.co.kr/on/demandware.static/-/Sites-itemmaster_NARS/default/dwbe5511b8/assets/PrecisionLipLiner_OnModel_ShadeRange_1000x1000.jpg',\n",
       "   'http://en.narscosmetics.co.kr/on/demandware.static/Sites-KR-Site/-/en_KR/v1546225498151/images/noimageshadesmall.png'],\n",
       "  'salePrice': '₩ 33,000',\n",
       "  'originalPrice': '₩ 33,000',\n",
       "  'color': '방스',\n",
       "  'category': '',\n",
       "  'brand': '나스',\n",
       "  'volume': '#'},\n",
       " {'name': '프리시전 립 라이너 - 방스',\n",
       "  'url': 'http://www.narscosmetics.co.kr/on/demandware.store/Sites-KR-Site/en_KR/Product-Variation?pid=999NAC0000054&dwvar_999NAC0000054_color=7845090724',\n",
       "  'image': ['http://en.narscosmetics.co.kr/on/demandware.static/-/Sites-itemmaster_NARS/default/dw3966a3a3/hi-res/0607845090724.jpg',\n",
       "   'http://en.narscosmetics.co.kr/on/demandware.static/-/Sites-itemmaster_NARS/default/dwfb766ed6/assets/PrecisionLipLiner_OnModel_2_ShadeRange_1000x1000.jpg',\n",
       "   'http://en.narscosmetics.co.kr/on/demandware.static/-/Sites-itemmaster_NARS/default/dwbe5511b8/assets/PrecisionLipLiner_OnModel_ShadeRange_1000x1000.jpg',\n",
       "   'http://en.narscosmetics.co.kr/on/demandware.static/Sites-KR-Site/-/en_KR/v1546225498151/images/noimageshadesmall.png'],\n",
       "  'salePrice': '₩ 33,000',\n",
       "  'originalPrice': '₩ 33,000',\n",
       "  'color': '방스',\n",
       "  'category': '',\n",
       "  'brand': '나스',\n",
       "  'volume': '#'},\n",
       " {'name': '프리시전 립 라이너 - 방스',\n",
       "  'url': 'http://www.narscosmetics.co.kr/on/demandware.store/Sites-KR-Site/en_KR/Product-Variation?pid=999NAC0000054&dwvar_999NAC0000054_color=7845090724',\n",
       "  'image': ['http://en.narscosmetics.co.kr/on/demandware.static/-/Sites-itemmaster_NARS/default/dw3966a3a3/hi-res/0607845090724.jpg',\n",
       "   'http://en.narscosmetics.co.kr/on/demandware.static/-/Sites-itemmaster_NARS/default/dwfb766ed6/assets/PrecisionLipLiner_OnModel_2_ShadeRange_1000x1000.jpg',\n",
       "   'http://en.narscosmetics.co.kr/on/demandware.static/-/Sites-itemmaster_NARS/default/dwbe5511b8/assets/PrecisionLipLiner_OnModel_ShadeRange_1000x1000.jpg',\n",
       "   'http://en.narscosmetics.co.kr/on/demandware.static/Sites-KR-Site/-/en_KR/v1546225498151/images/noimageshadesmall.png'],\n",
       "  'salePrice': '₩ 33,000',\n",
       "  'originalPrice': '₩ 33,000',\n",
       "  'color': '방스',\n",
       "  'category': '',\n",
       "  'brand': '나스',\n",
       "  'volume': '#'},\n",
       " {'name': '프리시전 립 라이너 - 방스',\n",
       "  'url': 'http://www.narscosmetics.co.kr/on/demandware.store/Sites-KR-Site/en_KR/Product-Variation?pid=999NAC0000054&dwvar_999NAC0000054_color=7845090724',\n",
       "  'image': ['http://en.narscosmetics.co.kr/on/demandware.static/-/Sites-itemmaster_NARS/default/dw3966a3a3/hi-res/0607845090724.jpg',\n",
       "   'http://en.narscosmetics.co.kr/on/demandware.static/-/Sites-itemmaster_NARS/default/dwfb766ed6/assets/PrecisionLipLiner_OnModel_2_ShadeRange_1000x1000.jpg',\n",
       "   'http://en.narscosmetics.co.kr/on/demandware.static/-/Sites-itemmaster_NARS/default/dwbe5511b8/assets/PrecisionLipLiner_OnModel_ShadeRange_1000x1000.jpg',\n",
       "   'http://en.narscosmetics.co.kr/on/demandware.static/Sites-KR-Site/-/en_KR/v1546225498151/images/noimageshadesmall.png'],\n",
       "  'salePrice': '₩ 33,000',\n",
       "  'originalPrice': '₩ 33,000',\n",
       "  'color': '방스',\n",
       "  'category': '',\n",
       "  'brand': '나스',\n",
       "  'volume': '#'},\n",
       " {'name': '프리시전 립 라이너 - 방스',\n",
       "  'url': 'http://www.narscosmetics.co.kr/on/demandware.store/Sites-KR-Site/en_KR/Product-Variation?pid=999NAC0000054&dwvar_999NAC0000054_color=7845090724',\n",
       "  'image': ['http://en.narscosmetics.co.kr/on/demandware.static/-/Sites-itemmaster_NARS/default/dw3966a3a3/hi-res/0607845090724.jpg',\n",
       "   'http://en.narscosmetics.co.kr/on/demandware.static/-/Sites-itemmaster_NARS/default/dwfb766ed6/assets/PrecisionLipLiner_OnModel_2_ShadeRange_1000x1000.jpg',\n",
       "   'http://en.narscosmetics.co.kr/on/demandware.static/-/Sites-itemmaster_NARS/default/dwbe5511b8/assets/PrecisionLipLiner_OnModel_ShadeRange_1000x1000.jpg',\n",
       "   'http://en.narscosmetics.co.kr/on/demandware.static/Sites-KR-Site/-/en_KR/v1546225498151/images/noimageshadesmall.png'],\n",
       "  'salePrice': '₩ 33,000',\n",
       "  'originalPrice': '₩ 33,000',\n",
       "  'color': '방스',\n",
       "  'category': '',\n",
       "  'brand': '나스',\n",
       "  'volume': '#'},\n",
       " {'name': '프리시전 립 라이너 - 방스',\n",
       "  'url': 'http://www.narscosmetics.co.kr/on/demandware.store/Sites-KR-Site/en_KR/Product-Variation?pid=999NAC0000054&dwvar_999NAC0000054_color=7845090724',\n",
       "  'image': ['http://en.narscosmetics.co.kr/on/demandware.static/-/Sites-itemmaster_NARS/default/dw3966a3a3/hi-res/0607845090724.jpg',\n",
       "   'http://en.narscosmetics.co.kr/on/demandware.static/-/Sites-itemmaster_NARS/default/dwfb766ed6/assets/PrecisionLipLiner_OnModel_2_ShadeRange_1000x1000.jpg',\n",
       "   'http://en.narscosmetics.co.kr/on/demandware.static/-/Sites-itemmaster_NARS/default/dwbe5511b8/assets/PrecisionLipLiner_OnModel_ShadeRange_1000x1000.jpg',\n",
       "   'http://en.narscosmetics.co.kr/on/demandware.static/Sites-KR-Site/-/en_KR/v1546225498151/images/noimageshadesmall.png'],\n",
       "  'salePrice': '₩ 33,000',\n",
       "  'originalPrice': '₩ 33,000',\n",
       "  'color': '방스',\n",
       "  'category': '',\n",
       "  'brand': '나스',\n",
       "  'volume': '#'},\n",
       " {'name': '프리시전 립 라이너 - 방스',\n",
       "  'url': 'http://www.narscosmetics.co.kr/on/demandware.store/Sites-KR-Site/en_KR/Product-Variation?pid=999NAC0000054&dwvar_999NAC0000054_color=7845090724',\n",
       "  'image': ['http://en.narscosmetics.co.kr/on/demandware.static/-/Sites-itemmaster_NARS/default/dw3966a3a3/hi-res/0607845090724.jpg',\n",
       "   'http://en.narscosmetics.co.kr/on/demandware.static/-/Sites-itemmaster_NARS/default/dwfb766ed6/assets/PrecisionLipLiner_OnModel_2_ShadeRange_1000x1000.jpg',\n",
       "   'http://en.narscosmetics.co.kr/on/demandware.static/-/Sites-itemmaster_NARS/default/dwbe5511b8/assets/PrecisionLipLiner_OnModel_ShadeRange_1000x1000.jpg',\n",
       "   'http://en.narscosmetics.co.kr/on/demandware.static/Sites-KR-Site/-/en_KR/v1546225498151/images/noimageshadesmall.png'],\n",
       "  'salePrice': '₩ 33,000',\n",
       "  'originalPrice': '₩ 33,000',\n",
       "  'color': '방스',\n",
       "  'category': '',\n",
       "  'brand': '나스',\n",
       "  'volume': '#'},\n",
       " {'name': '프리시전 립 라이너 - 방스',\n",
       "  'url': 'http://www.narscosmetics.co.kr/on/demandware.store/Sites-KR-Site/en_KR/Product-Variation?pid=999NAC0000054&dwvar_999NAC0000054_color=7845090724',\n",
       "  'image': ['http://en.narscosmetics.co.kr/on/demandware.static/-/Sites-itemmaster_NARS/default/dw3966a3a3/hi-res/0607845090724.jpg',\n",
       "   'http://en.narscosmetics.co.kr/on/demandware.static/-/Sites-itemmaster_NARS/default/dwfb766ed6/assets/PrecisionLipLiner_OnModel_2_ShadeRange_1000x1000.jpg',\n",
       "   'http://en.narscosmetics.co.kr/on/demandware.static/-/Sites-itemmaster_NARS/default/dwbe5511b8/assets/PrecisionLipLiner_OnModel_ShadeRange_1000x1000.jpg',\n",
       "   'http://en.narscosmetics.co.kr/on/demandware.static/Sites-KR-Site/-/en_KR/v1546225498151/images/noimageshadesmall.png'],\n",
       "  'salePrice': '₩ 33,000',\n",
       "  'originalPrice': '₩ 33,000',\n",
       "  'color': '방스',\n",
       "  'category': '',\n",
       "  'brand': '나스',\n",
       "  'volume': '#'},\n",
       " {'name': '프리시전 립 라이너 - 방스',\n",
       "  'url': 'http://www.narscosmetics.co.kr/on/demandware.store/Sites-KR-Site/en_KR/Product-Variation?pid=999NAC0000054&dwvar_999NAC0000054_color=7845090724',\n",
       "  'image': ['http://en.narscosmetics.co.kr/on/demandware.static/-/Sites-itemmaster_NARS/default/dw3966a3a3/hi-res/0607845090724.jpg',\n",
       "   'http://en.narscosmetics.co.kr/on/demandware.static/-/Sites-itemmaster_NARS/default/dwfb766ed6/assets/PrecisionLipLiner_OnModel_2_ShadeRange_1000x1000.jpg',\n",
       "   'http://en.narscosmetics.co.kr/on/demandware.static/-/Sites-itemmaster_NARS/default/dwbe5511b8/assets/PrecisionLipLiner_OnModel_ShadeRange_1000x1000.jpg',\n",
       "   'http://en.narscosmetics.co.kr/on/demandware.static/Sites-KR-Site/-/en_KR/v1546225498151/images/noimageshadesmall.png'],\n",
       "  'salePrice': '₩ 33,000',\n",
       "  'originalPrice': '₩ 33,000',\n",
       "  'color': '방스',\n",
       "  'category': '',\n",
       "  'brand': '나스',\n",
       "  'volume': '#'},\n",
       " {'name': '프리시전 립 라이너 - 방스',\n",
       "  'url': 'http://www.narscosmetics.co.kr/on/demandware.store/Sites-KR-Site/en_KR/Product-Variation?pid=999NAC0000054&dwvar_999NAC0000054_color=7845090724',\n",
       "  'image': ['http://en.narscosmetics.co.kr/on/demandware.static/-/Sites-itemmaster_NARS/default/dw3966a3a3/hi-res/0607845090724.jpg',\n",
       "   'http://en.narscosmetics.co.kr/on/demandware.static/-/Sites-itemmaster_NARS/default/dwfb766ed6/assets/PrecisionLipLiner_OnModel_2_ShadeRange_1000x1000.jpg',\n",
       "   'http://en.narscosmetics.co.kr/on/demandware.static/-/Sites-itemmaster_NARS/default/dwbe5511b8/assets/PrecisionLipLiner_OnModel_ShadeRange_1000x1000.jpg',\n",
       "   'http://en.narscosmetics.co.kr/on/demandware.static/Sites-KR-Site/-/en_KR/v1546225498151/images/noimageshadesmall.png'],\n",
       "  'salePrice': '₩ 33,000',\n",
       "  'originalPrice': '₩ 33,000',\n",
       "  'color': '방스',\n",
       "  'category': '',\n",
       "  'brand': '나스',\n",
       "  'volume': '#'},\n",
       " {'name': '프리시전 립 라이너 - 방스',\n",
       "  'url': 'http://www.narscosmetics.co.kr/on/demandware.store/Sites-KR-Site/en_KR/Product-Variation?pid=999NAC0000054&dwvar_999NAC0000054_color=7845090724',\n",
       "  'image': ['http://en.narscosmetics.co.kr/on/demandware.static/-/Sites-itemmaster_NARS/default/dw3966a3a3/hi-res/0607845090724.jpg',\n",
       "   'http://en.narscosmetics.co.kr/on/demandware.static/-/Sites-itemmaster_NARS/default/dwfb766ed6/assets/PrecisionLipLiner_OnModel_2_ShadeRange_1000x1000.jpg',\n",
       "   'http://en.narscosmetics.co.kr/on/demandware.static/-/Sites-itemmaster_NARS/default/dwbe5511b8/assets/PrecisionLipLiner_OnModel_ShadeRange_1000x1000.jpg',\n",
       "   'http://en.narscosmetics.co.kr/on/demandware.static/Sites-KR-Site/-/en_KR/v1546225498151/images/noimageshadesmall.png'],\n",
       "  'salePrice': '₩ 33,000',\n",
       "  'originalPrice': '₩ 33,000',\n",
       "  'color': '방스',\n",
       "  'category': '',\n",
       "  'brand': '나스',\n",
       "  'volume': '#'},\n",
       " {'name': '에프터글로우 립 밤',\n",
       "  'url': 'http://www.narscosmetics.co.kr/on/demandware.store/Sites-KR-Site/en_KR/Product-Variation?pid=999NAC0000069&dwvar_999NAC0000069_color=',\n",
       "  'image': ['http://en.narscosmetics.co.kr/on/demandware.static/-/Sites-itemmaster_NARS/default/dw171c8bd7/hi-res/0607845034209.jpg',\n",
       "   'http://en.narscosmetics.co.kr/on/demandware.static/-/Sites-itemmaster_NARS/default/dwce8d4de6/alt1/0607845034209.jpg',\n",
       "   'http://en.narscosmetics.co.kr/on/demandware.static/-/Sites-itemmaster_NARS/default/dw74f55762/alt2/0607845034209.jpg',\n",
       "   'http://en.narscosmetics.co.kr/on/demandware.static/-/Sites-itemmaster_NARS/default/dw1501b910/alt3/0607845034209.jpg',\n",
       "   'http://en.narscosmetics.co.kr/on/demandware.static/-/Sites-itemmaster_NARS/default/dw89ff4edd/alt4/0607845034209.jpg'],\n",
       "  'salePrice': '₩ 37,000',\n",
       "  'originalPrice': '₩ 37,000',\n",
       "  'color': '오르가즘',\n",
       "  'category': '',\n",
       "  'brand': '나스',\n",
       "  'volume': '#'},\n",
       " {'name': '립 글로스 - 원더',\n",
       "  'url': 'http://www.narscosmetics.co.kr/on/demandware.store/Sites-KR-Site/en_KR/Product-Variation?pid=999NAC0000003&dwvar_999NAC0000003_color=7845016830',\n",
       "  'image': ['http://en.narscosmetics.co.kr/on/demandware.static/-/Sites-itemmaster_NARS/default/dw15c62038/hi-res/0607845016830.jpg',\n",
       "   'http://en.narscosmetics.co.kr/on/demandware.static/-/Sites-itemmaster_NARS/default/dwf2f4d1ad/swatch/0607845016830.jpg'],\n",
       "  'salePrice': '₩ 36,000',\n",
       "  'originalPrice': '₩ 36,000',\n",
       "  'color': '원더',\n",
       "  'category': '',\n",
       "  'brand': '나스',\n",
       "  'volume': '#'},\n",
       " {'name': '립 글로스 - 원더',\n",
       "  'url': 'http://www.narscosmetics.co.kr/on/demandware.store/Sites-KR-Site/en_KR/Product-Variation?pid=999NAC0000003&dwvar_999NAC0000003_color=7845016830',\n",
       "  'image': ['http://en.narscosmetics.co.kr/on/demandware.static/-/Sites-itemmaster_NARS/default/dw15c62038/hi-res/0607845016830.jpg',\n",
       "   'http://en.narscosmetics.co.kr/on/demandware.static/-/Sites-itemmaster_NARS/default/dwf2f4d1ad/swatch/0607845016830.jpg'],\n",
       "  'salePrice': '₩ 36,000',\n",
       "  'originalPrice': '₩ 36,000',\n",
       "  'color': '원더',\n",
       "  'category': '',\n",
       "  'brand': '나스',\n",
       "  'volume': '#'},\n",
       " {'name': '립 글로스 - 원더',\n",
       "  'url': 'http://www.narscosmetics.co.kr/on/demandware.store/Sites-KR-Site/en_KR/Product-Variation?pid=999NAC0000003&dwvar_999NAC0000003_color=7845016830',\n",
       "  'image': ['http://en.narscosmetics.co.kr/on/demandware.static/-/Sites-itemmaster_NARS/default/dw15c62038/hi-res/0607845016830.jpg',\n",
       "   'http://en.narscosmetics.co.kr/on/demandware.static/-/Sites-itemmaster_NARS/default/dwf2f4d1ad/swatch/0607845016830.jpg'],\n",
       "  'salePrice': '₩ 36,000',\n",
       "  'originalPrice': '₩ 36,000',\n",
       "  'color': '원더',\n",
       "  'category': '',\n",
       "  'brand': '나스',\n",
       "  'volume': '#'},\n",
       " {'name': '립 글로스 - 원더',\n",
       "  'url': 'http://www.narscosmetics.co.kr/on/demandware.store/Sites-KR-Site/en_KR/Product-Variation?pid=999NAC0000003&dwvar_999NAC0000003_color=7845016830',\n",
       "  'image': ['http://en.narscosmetics.co.kr/on/demandware.static/-/Sites-itemmaster_NARS/default/dw15c62038/hi-res/0607845016830.jpg',\n",
       "   'http://en.narscosmetics.co.kr/on/demandware.static/-/Sites-itemmaster_NARS/default/dwf2f4d1ad/swatch/0607845016830.jpg'],\n",
       "  'salePrice': '₩ 36,000',\n",
       "  'originalPrice': '₩ 36,000',\n",
       "  'color': '원더',\n",
       "  'category': '',\n",
       "  'brand': '나스',\n",
       "  'volume': '#'},\n",
       " {'name': '립 글로스 - 원더',\n",
       "  'url': 'http://www.narscosmetics.co.kr/on/demandware.store/Sites-KR-Site/en_KR/Product-Variation?pid=999NAC0000003&dwvar_999NAC0000003_color=7845016830',\n",
       "  'image': ['http://en.narscosmetics.co.kr/on/demandware.static/-/Sites-itemmaster_NARS/default/dw15c62038/hi-res/0607845016830.jpg',\n",
       "   'http://en.narscosmetics.co.kr/on/demandware.static/-/Sites-itemmaster_NARS/default/dwf2f4d1ad/swatch/0607845016830.jpg'],\n",
       "  'salePrice': '₩ 36,000',\n",
       "  'originalPrice': '₩ 36,000',\n",
       "  'color': '원더',\n",
       "  'category': '',\n",
       "  'brand': '나스',\n",
       "  'volume': '#'},\n",
       " {'name': '립 글로스 - 원더',\n",
       "  'url': 'http://www.narscosmetics.co.kr/on/demandware.store/Sites-KR-Site/en_KR/Product-Variation?pid=999NAC0000003&dwvar_999NAC0000003_color=7845016830',\n",
       "  'image': ['http://en.narscosmetics.co.kr/on/demandware.static/-/Sites-itemmaster_NARS/default/dw15c62038/hi-res/0607845016830.jpg',\n",
       "   'http://en.narscosmetics.co.kr/on/demandware.static/-/Sites-itemmaster_NARS/default/dwf2f4d1ad/swatch/0607845016830.jpg'],\n",
       "  'salePrice': '₩ 36,000',\n",
       "  'originalPrice': '₩ 36,000',\n",
       "  'color': '원더',\n",
       "  'category': '',\n",
       "  'brand': '나스',\n",
       "  'volume': '#'},\n",
       " {'name': '립 글로스 - 원더',\n",
       "  'url': 'http://www.narscosmetics.co.kr/on/demandware.store/Sites-KR-Site/en_KR/Product-Variation?pid=999NAC0000003&dwvar_999NAC0000003_color=7845016830',\n",
       "  'image': ['http://en.narscosmetics.co.kr/on/demandware.static/-/Sites-itemmaster_NARS/default/dw15c62038/hi-res/0607845016830.jpg',\n",
       "   'http://en.narscosmetics.co.kr/on/demandware.static/-/Sites-itemmaster_NARS/default/dwf2f4d1ad/swatch/0607845016830.jpg'],\n",
       "  'salePrice': '₩ 36,000',\n",
       "  'originalPrice': '₩ 36,000',\n",
       "  'color': '원더',\n",
       "  'category': '',\n",
       "  'brand': '나스',\n",
       "  'volume': '#'},\n",
       " {'name': '립 글로스 - 원더',\n",
       "  'url': 'http://www.narscosmetics.co.kr/on/demandware.store/Sites-KR-Site/en_KR/Product-Variation?pid=999NAC0000003&dwvar_999NAC0000003_color=7845016830',\n",
       "  'image': ['http://en.narscosmetics.co.kr/on/demandware.static/-/Sites-itemmaster_NARS/default/dw15c62038/hi-res/0607845016830.jpg',\n",
       "   'http://en.narscosmetics.co.kr/on/demandware.static/-/Sites-itemmaster_NARS/default/dwf2f4d1ad/swatch/0607845016830.jpg'],\n",
       "  'salePrice': '₩ 36,000',\n",
       "  'originalPrice': '₩ 36,000',\n",
       "  'color': '원더',\n",
       "  'category': '',\n",
       "  'brand': '나스',\n",
       "  'volume': '#'},\n",
       " {'name': '립 글로스 - 원더',\n",
       "  'url': 'http://www.narscosmetics.co.kr/on/demandware.store/Sites-KR-Site/en_KR/Product-Variation?pid=999NAC0000003&dwvar_999NAC0000003_color=7845016830',\n",
       "  'image': ['http://en.narscosmetics.co.kr/on/demandware.static/-/Sites-itemmaster_NARS/default/dw15c62038/hi-res/0607845016830.jpg',\n",
       "   'http://en.narscosmetics.co.kr/on/demandware.static/-/Sites-itemmaster_NARS/default/dwf2f4d1ad/swatch/0607845016830.jpg'],\n",
       "  'salePrice': '₩ 36,000',\n",
       "  'originalPrice': '₩ 36,000',\n",
       "  'color': '원더',\n",
       "  'category': '',\n",
       "  'brand': '나스',\n",
       "  'volume': '#'},\n",
       " {'name': '립 글로스 - 원더',\n",
       "  'url': 'http://www.narscosmetics.co.kr/on/demandware.store/Sites-KR-Site/en_KR/Product-Variation?pid=999NAC0000003&dwvar_999NAC0000003_color=7845016830',\n",
       "  'image': ['http://en.narscosmetics.co.kr/on/demandware.static/-/Sites-itemmaster_NARS/default/dw15c62038/hi-res/0607845016830.jpg',\n",
       "   'http://en.narscosmetics.co.kr/on/demandware.static/-/Sites-itemmaster_NARS/default/dwf2f4d1ad/swatch/0607845016830.jpg'],\n",
       "  'salePrice': '₩ 36,000',\n",
       "  'originalPrice': '₩ 36,000',\n",
       "  'color': '원더',\n",
       "  'category': '',\n",
       "  'brand': '나스',\n",
       "  'volume': '#'},\n",
       " {'name': '립 글로스 - 원더',\n",
       "  'url': 'http://www.narscosmetics.co.kr/on/demandware.store/Sites-KR-Site/en_KR/Product-Variation?pid=999NAC0000003&dwvar_999NAC0000003_color=7845016830',\n",
       "  'image': ['http://en.narscosmetics.co.kr/on/demandware.static/-/Sites-itemmaster_NARS/default/dw15c62038/hi-res/0607845016830.jpg',\n",
       "   'http://en.narscosmetics.co.kr/on/demandware.static/-/Sites-itemmaster_NARS/default/dwf2f4d1ad/swatch/0607845016830.jpg'],\n",
       "  'salePrice': '₩ 36,000',\n",
       "  'originalPrice': '₩ 36,000',\n",
       "  'color': '원더',\n",
       "  'category': '',\n",
       "  'brand': '나스',\n",
       "  'volume': '#'},\n",
       " {'name': '립 글로스 - 원더',\n",
       "  'url': 'http://www.narscosmetics.co.kr/on/demandware.store/Sites-KR-Site/en_KR/Product-Variation?pid=999NAC0000003&dwvar_999NAC0000003_color=7845016830',\n",
       "  'image': ['http://en.narscosmetics.co.kr/on/demandware.static/-/Sites-itemmaster_NARS/default/dw15c62038/hi-res/0607845016830.jpg',\n",
       "   'http://en.narscosmetics.co.kr/on/demandware.static/-/Sites-itemmaster_NARS/default/dwf2f4d1ad/swatch/0607845016830.jpg'],\n",
       "  'salePrice': '₩ 36,000',\n",
       "  'originalPrice': '₩ 36,000',\n",
       "  'color': '원더',\n",
       "  'category': '',\n",
       "  'brand': '나스',\n",
       "  'volume': '#'},\n",
       " {'name': '립 글로스 - 원더',\n",
       "  'url': 'http://www.narscosmetics.co.kr/on/demandware.store/Sites-KR-Site/en_KR/Product-Variation?pid=999NAC0000003&dwvar_999NAC0000003_color=7845016830',\n",
       "  'image': ['http://en.narscosmetics.co.kr/on/demandware.static/-/Sites-itemmaster_NARS/default/dw15c62038/hi-res/0607845016830.jpg',\n",
       "   'http://en.narscosmetics.co.kr/on/demandware.static/-/Sites-itemmaster_NARS/default/dwf2f4d1ad/swatch/0607845016830.jpg'],\n",
       "  'salePrice': '₩ 36,000',\n",
       "  'originalPrice': '₩ 36,000',\n",
       "  'color': '원더',\n",
       "  'category': '',\n",
       "  'brand': '나스',\n",
       "  'volume': '#'},\n",
       " {'name': '립 글로스 - 원더',\n",
       "  'url': 'http://www.narscosmetics.co.kr/on/demandware.store/Sites-KR-Site/en_KR/Product-Variation?pid=999NAC0000003&dwvar_999NAC0000003_color=7845016830',\n",
       "  'image': ['http://en.narscosmetics.co.kr/on/demandware.static/-/Sites-itemmaster_NARS/default/dw15c62038/hi-res/0607845016830.jpg',\n",
       "   'http://en.narscosmetics.co.kr/on/demandware.static/-/Sites-itemmaster_NARS/default/dwf2f4d1ad/swatch/0607845016830.jpg'],\n",
       "  'salePrice': '₩ 36,000',\n",
       "  'originalPrice': '₩ 36,000',\n",
       "  'color': '원더',\n",
       "  'category': '',\n",
       "  'brand': '나스',\n",
       "  'volume': '#'},\n",
       " {'name': '립 글로스 - 원더',\n",
       "  'url': 'http://www.narscosmetics.co.kr/on/demandware.store/Sites-KR-Site/en_KR/Product-Variation?pid=999NAC0000003&dwvar_999NAC0000003_color=7845016830',\n",
       "  'image': ['http://en.narscosmetics.co.kr/on/demandware.static/-/Sites-itemmaster_NARS/default/dw15c62038/hi-res/0607845016830.jpg',\n",
       "   'http://en.narscosmetics.co.kr/on/demandware.static/-/Sites-itemmaster_NARS/default/dwf2f4d1ad/swatch/0607845016830.jpg'],\n",
       "  'salePrice': '₩ 36,000',\n",
       "  'originalPrice': '₩ 36,000',\n",
       "  'color': '원더',\n",
       "  'category': '',\n",
       "  'brand': '나스',\n",
       "  'volume': '#'},\n",
       " {'name': '립 글로스 - 원더',\n",
       "  'url': 'http://www.narscosmetics.co.kr/on/demandware.store/Sites-KR-Site/en_KR/Product-Variation?pid=999NAC0000003&dwvar_999NAC0000003_color=7845016830',\n",
       "  'image': ['http://en.narscosmetics.co.kr/on/demandware.static/-/Sites-itemmaster_NARS/default/dw15c62038/hi-res/0607845016830.jpg',\n",
       "   'http://en.narscosmetics.co.kr/on/demandware.static/-/Sites-itemmaster_NARS/default/dwf2f4d1ad/swatch/0607845016830.jpg'],\n",
       "  'salePrice': '₩ 36,000',\n",
       "  'originalPrice': '₩ 36,000',\n",
       "  'color': '원더',\n",
       "  'category': '',\n",
       "  'brand': '나스',\n",
       "  'volume': '#'},\n",
       " {'name': '립 글로스 - 원더',\n",
       "  'url': 'http://www.narscosmetics.co.kr/on/demandware.store/Sites-KR-Site/en_KR/Product-Variation?pid=999NAC0000003&dwvar_999NAC0000003_color=7845016830',\n",
       "  'image': ['http://en.narscosmetics.co.kr/on/demandware.static/-/Sites-itemmaster_NARS/default/dw15c62038/hi-res/0607845016830.jpg',\n",
       "   'http://en.narscosmetics.co.kr/on/demandware.static/-/Sites-itemmaster_NARS/default/dwf2f4d1ad/swatch/0607845016830.jpg'],\n",
       "  'salePrice': '₩ 36,000',\n",
       "  'originalPrice': '₩ 36,000',\n",
       "  'color': '원더',\n",
       "  'category': '',\n",
       "  'brand': '나스',\n",
       "  'volume': '#'},\n",
       " {'name': '립 글로스 - 원더',\n",
       "  'url': 'http://www.narscosmetics.co.kr/on/demandware.store/Sites-KR-Site/en_KR/Product-Variation?pid=999NAC0000003&dwvar_999NAC0000003_color=7845016830',\n",
       "  'image': ['http://en.narscosmetics.co.kr/on/demandware.static/-/Sites-itemmaster_NARS/default/dw15c62038/hi-res/0607845016830.jpg',\n",
       "   'http://en.narscosmetics.co.kr/on/demandware.static/-/Sites-itemmaster_NARS/default/dwf2f4d1ad/swatch/0607845016830.jpg'],\n",
       "  'salePrice': '₩ 36,000',\n",
       "  'originalPrice': '₩ 36,000',\n",
       "  'color': '원더',\n",
       "  'category': '',\n",
       "  'brand': '나스',\n",
       "  'volume': '#'},\n",
       " {'name': '립 글로스 - 원더',\n",
       "  'url': 'http://www.narscosmetics.co.kr/on/demandware.store/Sites-KR-Site/en_KR/Product-Variation?pid=999NAC0000003&dwvar_999NAC0000003_color=7845016830',\n",
       "  'image': ['http://en.narscosmetics.co.kr/on/demandware.static/-/Sites-itemmaster_NARS/default/dw15c62038/hi-res/0607845016830.jpg',\n",
       "   'http://en.narscosmetics.co.kr/on/demandware.static/-/Sites-itemmaster_NARS/default/dwf2f4d1ad/swatch/0607845016830.jpg'],\n",
       "  'salePrice': '₩ 36,000',\n",
       "  'originalPrice': '₩ 36,000',\n",
       "  'color': '원더',\n",
       "  'category': '',\n",
       "  'brand': '나스',\n",
       "  'volume': '#'},\n",
       " {'name': '립 글로스 - 원더',\n",
       "  'url': 'http://www.narscosmetics.co.kr/on/demandware.store/Sites-KR-Site/en_KR/Product-Variation?pid=999NAC0000003&dwvar_999NAC0000003_color=7845016830',\n",
       "  'image': ['http://en.narscosmetics.co.kr/on/demandware.static/-/Sites-itemmaster_NARS/default/dw15c62038/hi-res/0607845016830.jpg',\n",
       "   'http://en.narscosmetics.co.kr/on/demandware.static/-/Sites-itemmaster_NARS/default/dwf2f4d1ad/swatch/0607845016830.jpg'],\n",
       "  'salePrice': '₩ 36,000',\n",
       "  'originalPrice': '₩ 36,000',\n",
       "  'color': '원더',\n",
       "  'category': '',\n",
       "  'brand': '나스',\n",
       "  'volume': '#'},\n",
       " {'name': '립 글로스 - 원더',\n",
       "  'url': 'http://www.narscosmetics.co.kr/on/demandware.store/Sites-KR-Site/en_KR/Product-Variation?pid=999NAC0000003&dwvar_999NAC0000003_color=7845016830',\n",
       "  'image': ['http://en.narscosmetics.co.kr/on/demandware.static/-/Sites-itemmaster_NARS/default/dw15c62038/hi-res/0607845016830.jpg',\n",
       "   'http://en.narscosmetics.co.kr/on/demandware.static/-/Sites-itemmaster_NARS/default/dwf2f4d1ad/swatch/0607845016830.jpg'],\n",
       "  'salePrice': '₩ 36,000',\n",
       "  'originalPrice': '₩ 36,000',\n",
       "  'color': '원더',\n",
       "  'category': '',\n",
       "  'brand': '나스',\n",
       "  'volume': '#'},\n",
       " {'name': '립 글로스 - 원더',\n",
       "  'url': 'http://www.narscosmetics.co.kr/on/demandware.store/Sites-KR-Site/en_KR/Product-Variation?pid=999NAC0000003&dwvar_999NAC0000003_color=7845016830',\n",
       "  'image': ['http://en.narscosmetics.co.kr/on/demandware.static/-/Sites-itemmaster_NARS/default/dw15c62038/hi-res/0607845016830.jpg',\n",
       "   'http://en.narscosmetics.co.kr/on/demandware.static/-/Sites-itemmaster_NARS/default/dwf2f4d1ad/swatch/0607845016830.jpg'],\n",
       "  'salePrice': '₩ 36,000',\n",
       "  'originalPrice': '₩ 36,000',\n",
       "  'color': '원더',\n",
       "  'category': '',\n",
       "  'brand': '나스',\n",
       "  'volume': '#'},\n",
       " {'name': '립 글로스 - 원더',\n",
       "  'url': 'http://www.narscosmetics.co.kr/on/demandware.store/Sites-KR-Site/en_KR/Product-Variation?pid=999NAC0000003&dwvar_999NAC0000003_color=7845016830',\n",
       "  'image': ['http://en.narscosmetics.co.kr/on/demandware.static/-/Sites-itemmaster_NARS/default/dw15c62038/hi-res/0607845016830.jpg',\n",
       "   'http://en.narscosmetics.co.kr/on/demandware.static/-/Sites-itemmaster_NARS/default/dwf2f4d1ad/swatch/0607845016830.jpg'],\n",
       "  'salePrice': '₩ 36,000',\n",
       "  'originalPrice': '₩ 36,000',\n",
       "  'color': '원더',\n",
       "  'category': '',\n",
       "  'brand': '나스',\n",
       "  'volume': '#'},\n",
       " {'name': '립 글로스 - 원더',\n",
       "  'url': 'http://www.narscosmetics.co.kr/on/demandware.store/Sites-KR-Site/en_KR/Product-Variation?pid=999NAC0000003&dwvar_999NAC0000003_color=7845016830',\n",
       "  'image': ['http://en.narscosmetics.co.kr/on/demandware.static/-/Sites-itemmaster_NARS/default/dw15c62038/hi-res/0607845016830.jpg',\n",
       "   'http://en.narscosmetics.co.kr/on/demandware.static/-/Sites-itemmaster_NARS/default/dwf2f4d1ad/swatch/0607845016830.jpg'],\n",
       "  'salePrice': '₩ 36,000',\n",
       "  'originalPrice': '₩ 36,000',\n",
       "  'color': '원더',\n",
       "  'category': '',\n",
       "  'brand': '나스',\n",
       "  'volume': '#'},\n",
       " {'name': '립 글로스 - 원더',\n",
       "  'url': 'http://www.narscosmetics.co.kr/on/demandware.store/Sites-KR-Site/en_KR/Product-Variation?pid=999NAC0000003&dwvar_999NAC0000003_color=7845016830',\n",
       "  'image': ['http://en.narscosmetics.co.kr/on/demandware.static/-/Sites-itemmaster_NARS/default/dw15c62038/hi-res/0607845016830.jpg',\n",
       "   'http://en.narscosmetics.co.kr/on/demandware.static/-/Sites-itemmaster_NARS/default/dwf2f4d1ad/swatch/0607845016830.jpg'],\n",
       "  'salePrice': '₩ 36,000',\n",
       "  'originalPrice': '₩ 36,000',\n",
       "  'color': '원더',\n",
       "  'category': '',\n",
       "  'brand': '나스',\n",
       "  'volume': '#'},\n",
       " {'name': '립 글로스 - 원더',\n",
       "  'url': 'http://www.narscosmetics.co.kr/on/demandware.store/Sites-KR-Site/en_KR/Product-Variation?pid=999NAC0000003&dwvar_999NAC0000003_color=7845016830',\n",
       "  'image': ['http://en.narscosmetics.co.kr/on/demandware.static/-/Sites-itemmaster_NARS/default/dw15c62038/hi-res/0607845016830.jpg',\n",
       "   'http://en.narscosmetics.co.kr/on/demandware.static/-/Sites-itemmaster_NARS/default/dwf2f4d1ad/swatch/0607845016830.jpg'],\n",
       "  'salePrice': '₩ 36,000',\n",
       "  'originalPrice': '₩ 36,000',\n",
       "  'color': '원더',\n",
       "  'category': '',\n",
       "  'brand': '나스',\n",
       "  'volume': '#'},\n",
       " {'name': '립 글로스 - 원더',\n",
       "  'url': 'http://www.narscosmetics.co.kr/on/demandware.store/Sites-KR-Site/en_KR/Product-Variation?pid=999NAC0000003&dwvar_999NAC0000003_color=7845016830',\n",
       "  'image': ['http://en.narscosmetics.co.kr/on/demandware.static/-/Sites-itemmaster_NARS/default/dw15c62038/hi-res/0607845016830.jpg',\n",
       "   'http://en.narscosmetics.co.kr/on/demandware.static/-/Sites-itemmaster_NARS/default/dwf2f4d1ad/swatch/0607845016830.jpg'],\n",
       "  'salePrice': '₩ 36,000',\n",
       "  'originalPrice': '₩ 36,000',\n",
       "  'color': '원더',\n",
       "  'category': '',\n",
       "  'brand': '나스',\n",
       "  'volume': '#'},\n",
       " {'name': '립 글로스 - 원더',\n",
       "  'url': 'http://www.narscosmetics.co.kr/on/demandware.store/Sites-KR-Site/en_KR/Product-Variation?pid=999NAC0000003&dwvar_999NAC0000003_color=7845016830',\n",
       "  'image': ['http://en.narscosmetics.co.kr/on/demandware.static/-/Sites-itemmaster_NARS/default/dw15c62038/hi-res/0607845016830.jpg',\n",
       "   'http://en.narscosmetics.co.kr/on/demandware.static/-/Sites-itemmaster_NARS/default/dwf2f4d1ad/swatch/0607845016830.jpg'],\n",
       "  'salePrice': '₩ 36,000',\n",
       "  'originalPrice': '₩ 36,000',\n",
       "  'color': '원더',\n",
       "  'category': '',\n",
       "  'brand': '나스',\n",
       "  'volume': '#'},\n",
       " {'name': '립 글로스 - 원더',\n",
       "  'url': 'http://www.narscosmetics.co.kr/on/demandware.store/Sites-KR-Site/en_KR/Product-Variation?pid=999NAC0000003&dwvar_999NAC0000003_color=7845016830',\n",
       "  'image': ['http://en.narscosmetics.co.kr/on/demandware.static/-/Sites-itemmaster_NARS/default/dw15c62038/hi-res/0607845016830.jpg',\n",
       "   'http://en.narscosmetics.co.kr/on/demandware.static/-/Sites-itemmaster_NARS/default/dwf2f4d1ad/swatch/0607845016830.jpg'],\n",
       "  'salePrice': '₩ 36,000',\n",
       "  'originalPrice': '₩ 36,000',\n",
       "  'color': '원더',\n",
       "  'category': '',\n",
       "  'brand': '나스',\n",
       "  'volume': '#'},\n",
       " {'name': '립 글로스 - 원더',\n",
       "  'url': 'http://www.narscosmetics.co.kr/on/demandware.store/Sites-KR-Site/en_KR/Product-Variation?pid=999NAC0000003&dwvar_999NAC0000003_color=7845016830',\n",
       "  'image': ['http://en.narscosmetics.co.kr/on/demandware.static/-/Sites-itemmaster_NARS/default/dw15c62038/hi-res/0607845016830.jpg',\n",
       "   'http://en.narscosmetics.co.kr/on/demandware.static/-/Sites-itemmaster_NARS/default/dwf2f4d1ad/swatch/0607845016830.jpg'],\n",
       "  'salePrice': '₩ 36,000',\n",
       "  'originalPrice': '₩ 36,000',\n",
       "  'color': '원더',\n",
       "  'category': '',\n",
       "  'brand': '나스',\n",
       "  'volume': '#'},\n",
       " {'name': '립 글로스 - 원더',\n",
       "  'url': 'http://www.narscosmetics.co.kr/on/demandware.store/Sites-KR-Site/en_KR/Product-Variation?pid=999NAC0000003&dwvar_999NAC0000003_color=7845016830',\n",
       "  'image': ['http://en.narscosmetics.co.kr/on/demandware.static/-/Sites-itemmaster_NARS/default/dw15c62038/hi-res/0607845016830.jpg',\n",
       "   'http://en.narscosmetics.co.kr/on/demandware.static/-/Sites-itemmaster_NARS/default/dwf2f4d1ad/swatch/0607845016830.jpg'],\n",
       "  'salePrice': '₩ 36,000',\n",
       "  'originalPrice': '₩ 36,000',\n",
       "  'color': '원더',\n",
       "  'category': '',\n",
       "  'brand': '나스',\n",
       "  'volume': '#'},\n",
       " {'name': '립 글로스 - 원더',\n",
       "  'url': 'http://www.narscosmetics.co.kr/on/demandware.store/Sites-KR-Site/en_KR/Product-Variation?pid=999NAC0000003&dwvar_999NAC0000003_color=7845016830',\n",
       "  'image': ['http://en.narscosmetics.co.kr/on/demandware.static/-/Sites-itemmaster_NARS/default/dw15c62038/hi-res/0607845016830.jpg',\n",
       "   'http://en.narscosmetics.co.kr/on/demandware.static/-/Sites-itemmaster_NARS/default/dwf2f4d1ad/swatch/0607845016830.jpg'],\n",
       "  'salePrice': '₩ 36,000',\n",
       "  'originalPrice': '₩ 36,000',\n",
       "  'color': '원더',\n",
       "  'category': '',\n",
       "  'brand': '나스',\n",
       "  'volume': '#'},\n",
       " {'name': '립 글로스 - 원더',\n",
       "  'url': 'http://www.narscosmetics.co.kr/on/demandware.store/Sites-KR-Site/en_KR/Product-Variation?pid=999NAC0000003&dwvar_999NAC0000003_color=7845016830',\n",
       "  'image': ['http://en.narscosmetics.co.kr/on/demandware.static/-/Sites-itemmaster_NARS/default/dw15c62038/hi-res/0607845016830.jpg',\n",
       "   'http://en.narscosmetics.co.kr/on/demandware.static/-/Sites-itemmaster_NARS/default/dwf2f4d1ad/swatch/0607845016830.jpg'],\n",
       "  'salePrice': '₩ 36,000',\n",
       "  'originalPrice': '₩ 36,000',\n",
       "  'color': '원더',\n",
       "  'category': '',\n",
       "  'brand': '나스',\n",
       "  'volume': '#'},\n",
       " {'name': '립 글로스 - 원더',\n",
       "  'url': 'http://www.narscosmetics.co.kr/on/demandware.store/Sites-KR-Site/en_KR/Product-Variation?pid=999NAC0000003&dwvar_999NAC0000003_color=7845016830',\n",
       "  'image': ['http://en.narscosmetics.co.kr/on/demandware.static/-/Sites-itemmaster_NARS/default/dw15c62038/hi-res/0607845016830.jpg',\n",
       "   'http://en.narscosmetics.co.kr/on/demandware.static/-/Sites-itemmaster_NARS/default/dwf2f4d1ad/swatch/0607845016830.jpg'],\n",
       "  'salePrice': '₩ 36,000',\n",
       "  'originalPrice': '₩ 36,000',\n",
       "  'color': '원더',\n",
       "  'category': '',\n",
       "  'brand': '나스',\n",
       "  'volume': '#'},\n",
       " {'name': '립 글로스 - 원더',\n",
       "  'url': 'http://www.narscosmetics.co.kr/on/demandware.store/Sites-KR-Site/en_KR/Product-Variation?pid=999NAC0000003&dwvar_999NAC0000003_color=7845016830',\n",
       "  'image': ['http://en.narscosmetics.co.kr/on/demandware.static/-/Sites-itemmaster_NARS/default/dw15c62038/hi-res/0607845016830.jpg',\n",
       "   'http://en.narscosmetics.co.kr/on/demandware.static/-/Sites-itemmaster_NARS/default/dwf2f4d1ad/swatch/0607845016830.jpg'],\n",
       "  'salePrice': '₩ 36,000',\n",
       "  'originalPrice': '₩ 36,000',\n",
       "  'color': '원더',\n",
       "  'category': '',\n",
       "  'brand': '나스',\n",
       "  'volume': '#'},\n",
       " {'name': '립 글로스 - 원더',\n",
       "  'url': 'http://www.narscosmetics.co.kr/on/demandware.store/Sites-KR-Site/en_KR/Product-Variation?pid=999NAC0000003&dwvar_999NAC0000003_color=7845016830',\n",
       "  'image': ['http://en.narscosmetics.co.kr/on/demandware.static/-/Sites-itemmaster_NARS/default/dw15c62038/hi-res/0607845016830.jpg',\n",
       "   'http://en.narscosmetics.co.kr/on/demandware.static/-/Sites-itemmaster_NARS/default/dwf2f4d1ad/swatch/0607845016830.jpg'],\n",
       "  'salePrice': '₩ 36,000',\n",
       "  'originalPrice': '₩ 36,000',\n",
       "  'color': '원더',\n",
       "  'category': '',\n",
       "  'brand': '나스',\n",
       "  'volume': '#'},\n",
       " {'name': '립 글로스 - 원더',\n",
       "  'url': 'http://www.narscosmetics.co.kr/on/demandware.store/Sites-KR-Site/en_KR/Product-Variation?pid=999NAC0000003&dwvar_999NAC0000003_color=7845016830',\n",
       "  'image': ['http://en.narscosmetics.co.kr/on/demandware.static/-/Sites-itemmaster_NARS/default/dw15c62038/hi-res/0607845016830.jpg',\n",
       "   'http://en.narscosmetics.co.kr/on/demandware.static/-/Sites-itemmaster_NARS/default/dwf2f4d1ad/swatch/0607845016830.jpg'],\n",
       "  'salePrice': '₩ 36,000',\n",
       "  'originalPrice': '₩ 36,000',\n",
       "  'color': '원더',\n",
       "  'category': '',\n",
       "  'brand': '나스',\n",
       "  'volume': '#'},\n",
       " {'name': '나스 벨벳 매트 립 펜슬 세트 랜섬',\n",
       "  'url': 'http://www.narscosmetics.co.kr/ransom-velvet-matte-lip-pencil-set/0607845058762.html',\n",
       "  'image': ['http://en.narscosmetics.co.kr/on/demandware.static/-/Sites-itemmaster_NARS/default/dw03f066a5/hi-res/0607845058762.jpg'],\n",
       "  'salePrice': '₩ 79,000',\n",
       "  'originalPrice': '₩ 79,000',\n",
       "  'color': '#',\n",
       "  'category': '',\n",
       "  'brand': '나스',\n",
       "  'volume': '#'},\n",
       " {'name': '파워매트 립 클래쉬 코프레',\n",
       "  'url': 'http://www.narscosmetics.co.kr/powermatte-lip-clash-coffret/0607845083726.html',\n",
       "  'image': ['http://en.narscosmetics.co.kr/on/demandware.static/-/Sites-itemmaster_NARS/default/dw44b0c3e4/hi-res/0607845083726.jpg'],\n",
       "  'salePrice': '₩ 74,000',\n",
       "  'originalPrice': '₩ 74,000',\n",
       "  'color': '#',\n",
       "  'category': '',\n",
       "  'brand': '나스',\n",
       "  'volume': '#'},\n",
       " {'name': '파워매트 립 피그먼트 - 익스플리시트 레드',\n",
       "  'url': 'http://www.narscosmetics.co.kr/on/demandware.store/Sites-KR-Site/en_KR/Product-Variation?pid=999NAC0000053&dwvar_999NAC0000053_color=Explicit%20Red',\n",
       "  'image': ['http://en.narscosmetics.co.kr/on/demandware.static/-/Sites-itemmaster_NARS/default/dwb9faebe2/hi-res/607845027379.jpg',\n",
       "   'http://en.narscosmetics.co.kr/on/demandware.static/-/Sites-itemmaster_NARS/default/dwc69bda15/hi-res/607845027379_v2.jpg'],\n",
       "  'salePrice': '₩ 37,000',\n",
       "  'originalPrice': '₩ 37,000',\n",
       "  'color': '익스플리시트 레드',\n",
       "  'category': '',\n",
       "  'brand': '나스',\n",
       "  'volume': '#'},\n",
       " {'name': '파워매트 립 피그먼트 - 익스플리시트 레드',\n",
       "  'url': 'http://www.narscosmetics.co.kr/on/demandware.store/Sites-KR-Site/en_KR/Product-Variation?pid=999NAC0000053&dwvar_999NAC0000053_color=Explicit%20Red',\n",
       "  'image': ['http://en.narscosmetics.co.kr/on/demandware.static/-/Sites-itemmaster_NARS/default/dwb9faebe2/hi-res/607845027379.jpg',\n",
       "   'http://en.narscosmetics.co.kr/on/demandware.static/-/Sites-itemmaster_NARS/default/dwc69bda15/hi-res/607845027379_v2.jpg'],\n",
       "  'salePrice': '₩ 37,000',\n",
       "  'originalPrice': '₩ 37,000',\n",
       "  'color': '익스플리시트 레드',\n",
       "  'category': '',\n",
       "  'brand': '나스',\n",
       "  'volume': '#'},\n",
       " {'name': '파워매트 립 피그먼트 - 익스플리시트 레드',\n",
       "  'url': 'http://www.narscosmetics.co.kr/on/demandware.store/Sites-KR-Site/en_KR/Product-Variation?pid=999NAC0000053&dwvar_999NAC0000053_color=Explicit%20Red',\n",
       "  'image': ['http://en.narscosmetics.co.kr/on/demandware.static/-/Sites-itemmaster_NARS/default/dwb9faebe2/hi-res/607845027379.jpg',\n",
       "   'http://en.narscosmetics.co.kr/on/demandware.static/-/Sites-itemmaster_NARS/default/dwc69bda15/hi-res/607845027379_v2.jpg'],\n",
       "  'salePrice': '₩ 37,000',\n",
       "  'originalPrice': '₩ 37,000',\n",
       "  'color': '익스플리시트 레드',\n",
       "  'category': '',\n",
       "  'brand': '나스',\n",
       "  'volume': '#'},\n",
       " {'name': '파워매트 립 피그먼트 - 익스플리시트 레드',\n",
       "  'url': 'http://www.narscosmetics.co.kr/on/demandware.store/Sites-KR-Site/en_KR/Product-Variation?pid=999NAC0000053&dwvar_999NAC0000053_color=Explicit%20Red',\n",
       "  'image': ['http://en.narscosmetics.co.kr/on/demandware.static/-/Sites-itemmaster_NARS/default/dwb9faebe2/hi-res/607845027379.jpg',\n",
       "   'http://en.narscosmetics.co.kr/on/demandware.static/-/Sites-itemmaster_NARS/default/dwc69bda15/hi-res/607845027379_v2.jpg'],\n",
       "  'salePrice': '₩ 37,000',\n",
       "  'originalPrice': '₩ 37,000',\n",
       "  'color': '익스플리시트 레드',\n",
       "  'category': '',\n",
       "  'brand': '나스',\n",
       "  'volume': '#'},\n",
       " {'name': '파워매트 립 피그먼트 - 익스플리시트 레드',\n",
       "  'url': 'http://www.narscosmetics.co.kr/on/demandware.store/Sites-KR-Site/en_KR/Product-Variation?pid=999NAC0000053&dwvar_999NAC0000053_color=Explicit%20Red',\n",
       "  'image': ['http://en.narscosmetics.co.kr/on/demandware.static/-/Sites-itemmaster_NARS/default/dwb9faebe2/hi-res/607845027379.jpg',\n",
       "   'http://en.narscosmetics.co.kr/on/demandware.static/-/Sites-itemmaster_NARS/default/dwc69bda15/hi-res/607845027379_v2.jpg'],\n",
       "  'salePrice': '₩ 37,000',\n",
       "  'originalPrice': '₩ 37,000',\n",
       "  'color': '익스플리시트 레드',\n",
       "  'category': '',\n",
       "  'brand': '나스',\n",
       "  'volume': '#'},\n",
       " {'name': '파워매트 립 피그먼트 - 익스플리시트 레드',\n",
       "  'url': 'http://www.narscosmetics.co.kr/on/demandware.store/Sites-KR-Site/en_KR/Product-Variation?pid=999NAC0000053&dwvar_999NAC0000053_color=Explicit%20Red',\n",
       "  'image': ['http://en.narscosmetics.co.kr/on/demandware.static/-/Sites-itemmaster_NARS/default/dwb9faebe2/hi-res/607845027379.jpg',\n",
       "   'http://en.narscosmetics.co.kr/on/demandware.static/-/Sites-itemmaster_NARS/default/dwc69bda15/hi-res/607845027379_v2.jpg'],\n",
       "  'salePrice': '₩ 37,000',\n",
       "  'originalPrice': '₩ 37,000',\n",
       "  'color': '익스플리시트 레드',\n",
       "  'category': '',\n",
       "  'brand': '나스',\n",
       "  'volume': '#'},\n",
       " {'name': '파워매트 립 피그먼트 - 익스플리시트 레드',\n",
       "  'url': 'http://www.narscosmetics.co.kr/on/demandware.store/Sites-KR-Site/en_KR/Product-Variation?pid=999NAC0000053&dwvar_999NAC0000053_color=Explicit%20Red',\n",
       "  'image': ['http://en.narscosmetics.co.kr/on/demandware.static/-/Sites-itemmaster_NARS/default/dwb9faebe2/hi-res/607845027379.jpg',\n",
       "   'http://en.narscosmetics.co.kr/on/demandware.static/-/Sites-itemmaster_NARS/default/dwc69bda15/hi-res/607845027379_v2.jpg'],\n",
       "  'salePrice': '₩ 37,000',\n",
       "  'originalPrice': '₩ 37,000',\n",
       "  'color': '익스플리시트 레드',\n",
       "  'category': '',\n",
       "  'brand': '나스',\n",
       "  'volume': '#'},\n",
       " {'name': '파워매트 립 피그먼트 - 익스플리시트 레드',\n",
       "  'url': 'http://www.narscosmetics.co.kr/on/demandware.store/Sites-KR-Site/en_KR/Product-Variation?pid=999NAC0000053&dwvar_999NAC0000053_color=Explicit%20Red',\n",
       "  'image': ['http://en.narscosmetics.co.kr/on/demandware.static/-/Sites-itemmaster_NARS/default/dwb9faebe2/hi-res/607845027379.jpg',\n",
       "   'http://en.narscosmetics.co.kr/on/demandware.static/-/Sites-itemmaster_NARS/default/dwc69bda15/hi-res/607845027379_v2.jpg'],\n",
       "  'salePrice': '₩ 37,000',\n",
       "  'originalPrice': '₩ 37,000',\n",
       "  'color': '익스플리시트 레드',\n",
       "  'category': '',\n",
       "  'brand': '나스',\n",
       "  'volume': '#'},\n",
       " {'name': '파워매트 립 피그먼트 - 익스플리시트 레드',\n",
       "  'url': 'http://www.narscosmetics.co.kr/on/demandware.store/Sites-KR-Site/en_KR/Product-Variation?pid=999NAC0000053&dwvar_999NAC0000053_color=Explicit%20Red',\n",
       "  'image': ['http://en.narscosmetics.co.kr/on/demandware.static/-/Sites-itemmaster_NARS/default/dwb9faebe2/hi-res/607845027379.jpg',\n",
       "   'http://en.narscosmetics.co.kr/on/demandware.static/-/Sites-itemmaster_NARS/default/dwc69bda15/hi-res/607845027379_v2.jpg'],\n",
       "  'salePrice': '₩ 37,000',\n",
       "  'originalPrice': '₩ 37,000',\n",
       "  'color': '익스플리시트 레드',\n",
       "  'category': '',\n",
       "  'brand': '나스',\n",
       "  'volume': '#'},\n",
       " {'name': '파워매트 립 피그먼트 - 익스플리시트 레드',\n",
       "  'url': 'http://www.narscosmetics.co.kr/on/demandware.store/Sites-KR-Site/en_KR/Product-Variation?pid=999NAC0000053&dwvar_999NAC0000053_color=Explicit%20Red',\n",
       "  'image': ['http://en.narscosmetics.co.kr/on/demandware.static/-/Sites-itemmaster_NARS/default/dwb9faebe2/hi-res/607845027379.jpg',\n",
       "   'http://en.narscosmetics.co.kr/on/demandware.static/-/Sites-itemmaster_NARS/default/dwc69bda15/hi-res/607845027379_v2.jpg'],\n",
       "  'salePrice': '₩ 37,000',\n",
       "  'originalPrice': '₩ 37,000',\n",
       "  'color': '익스플리시트 레드',\n",
       "  'category': '',\n",
       "  'brand': '나스',\n",
       "  'volume': '#'},\n",
       " {'name': '파워매트 립 피그먼트 - 익스플리시트 레드',\n",
       "  'url': 'http://www.narscosmetics.co.kr/on/demandware.store/Sites-KR-Site/en_KR/Product-Variation?pid=999NAC0000053&dwvar_999NAC0000053_color=Explicit%20Red',\n",
       "  'image': ['http://en.narscosmetics.co.kr/on/demandware.static/-/Sites-itemmaster_NARS/default/dwb9faebe2/hi-res/607845027379.jpg',\n",
       "   'http://en.narscosmetics.co.kr/on/demandware.static/-/Sites-itemmaster_NARS/default/dwc69bda15/hi-res/607845027379_v2.jpg'],\n",
       "  'salePrice': '₩ 37,000',\n",
       "  'originalPrice': '₩ 37,000',\n",
       "  'color': '익스플리시트 레드',\n",
       "  'category': '',\n",
       "  'brand': '나스',\n",
       "  'volume': '#'},\n",
       " {'name': '파워매트 립 피그먼트 - 익스플리시트 레드',\n",
       "  'url': 'http://www.narscosmetics.co.kr/on/demandware.store/Sites-KR-Site/en_KR/Product-Variation?pid=999NAC0000053&dwvar_999NAC0000053_color=Explicit%20Red',\n",
       "  'image': ['http://en.narscosmetics.co.kr/on/demandware.static/-/Sites-itemmaster_NARS/default/dwb9faebe2/hi-res/607845027379.jpg',\n",
       "   'http://en.narscosmetics.co.kr/on/demandware.static/-/Sites-itemmaster_NARS/default/dwc69bda15/hi-res/607845027379_v2.jpg'],\n",
       "  'salePrice': '₩ 37,000',\n",
       "  'originalPrice': '₩ 37,000',\n",
       "  'color': '익스플리시트 레드',\n",
       "  'category': '',\n",
       "  'brand': '나스',\n",
       "  'volume': '#'},\n",
       " {'name': '파워매트 립 피그먼트 - 익스플리시트 레드',\n",
       "  'url': 'http://www.narscosmetics.co.kr/on/demandware.store/Sites-KR-Site/en_KR/Product-Variation?pid=999NAC0000053&dwvar_999NAC0000053_color=Explicit%20Red',\n",
       "  'image': ['http://en.narscosmetics.co.kr/on/demandware.static/-/Sites-itemmaster_NARS/default/dwb9faebe2/hi-res/607845027379.jpg',\n",
       "   'http://en.narscosmetics.co.kr/on/demandware.static/-/Sites-itemmaster_NARS/default/dwc69bda15/hi-res/607845027379_v2.jpg'],\n",
       "  'salePrice': '₩ 37,000',\n",
       "  'originalPrice': '₩ 37,000',\n",
       "  'color': '익스플리시트 레드',\n",
       "  'category': '',\n",
       "  'brand': '나스',\n",
       "  'volume': '#'},\n",
       " {'name': '파워매트 립 피그먼트 - 익스플리시트 레드',\n",
       "  'url': 'http://www.narscosmetics.co.kr/on/demandware.store/Sites-KR-Site/en_KR/Product-Variation?pid=999NAC0000053&dwvar_999NAC0000053_color=Explicit%20Red',\n",
       "  'image': ['http://en.narscosmetics.co.kr/on/demandware.static/-/Sites-itemmaster_NARS/default/dwb9faebe2/hi-res/607845027379.jpg',\n",
       "   'http://en.narscosmetics.co.kr/on/demandware.static/-/Sites-itemmaster_NARS/default/dwc69bda15/hi-res/607845027379_v2.jpg'],\n",
       "  'salePrice': '₩ 37,000',\n",
       "  'originalPrice': '₩ 37,000',\n",
       "  'color': '익스플리시트 레드',\n",
       "  'category': '',\n",
       "  'brand': '나스',\n",
       "  'volume': '#'},\n",
       " {'name': '파워매트 립 피그먼트 - 익스플리시트 레드',\n",
       "  'url': 'http://www.narscosmetics.co.kr/on/demandware.store/Sites-KR-Site/en_KR/Product-Variation?pid=999NAC0000053&dwvar_999NAC0000053_color=Explicit%20Red',\n",
       "  'image': ['http://en.narscosmetics.co.kr/on/demandware.static/-/Sites-itemmaster_NARS/default/dwb9faebe2/hi-res/607845027379.jpg',\n",
       "   'http://en.narscosmetics.co.kr/on/demandware.static/-/Sites-itemmaster_NARS/default/dwc69bda15/hi-res/607845027379_v2.jpg'],\n",
       "  'salePrice': '₩ 37,000',\n",
       "  'originalPrice': '₩ 37,000',\n",
       "  'color': '익스플리시트 레드',\n",
       "  'category': '',\n",
       "  'brand': '나스',\n",
       "  'volume': '#'},\n",
       " {'name': '파워매트 립 피그먼트 - 익스플리시트 레드',\n",
       "  'url': 'http://www.narscosmetics.co.kr/on/demandware.store/Sites-KR-Site/en_KR/Product-Variation?pid=999NAC0000053&dwvar_999NAC0000053_color=Explicit%20Red',\n",
       "  'image': ['http://en.narscosmetics.co.kr/on/demandware.static/-/Sites-itemmaster_NARS/default/dwb9faebe2/hi-res/607845027379.jpg',\n",
       "   'http://en.narscosmetics.co.kr/on/demandware.static/-/Sites-itemmaster_NARS/default/dwc69bda15/hi-res/607845027379_v2.jpg'],\n",
       "  'salePrice': '₩ 37,000',\n",
       "  'originalPrice': '₩ 37,000',\n",
       "  'color': '익스플리시트 레드',\n",
       "  'category': '',\n",
       "  'brand': '나스',\n",
       "  'volume': '#'},\n",
       " {'name': '파워매트 립 피그먼트 - 익스플리시트 레드',\n",
       "  'url': 'http://www.narscosmetics.co.kr/on/demandware.store/Sites-KR-Site/en_KR/Product-Variation?pid=999NAC0000053&dwvar_999NAC0000053_color=Explicit%20Red',\n",
       "  'image': ['http://en.narscosmetics.co.kr/on/demandware.static/-/Sites-itemmaster_NARS/default/dwb9faebe2/hi-res/607845027379.jpg',\n",
       "   'http://en.narscosmetics.co.kr/on/demandware.static/-/Sites-itemmaster_NARS/default/dwc69bda15/hi-res/607845027379_v2.jpg'],\n",
       "  'salePrice': '₩ 37,000',\n",
       "  'originalPrice': '₩ 37,000',\n",
       "  'color': '익스플리시트 레드',\n",
       "  'category': '',\n",
       "  'brand': '나스',\n",
       "  'volume': '#'},\n",
       " {'name': '파워매트 립 피그먼트 - 익스플리시트 레드',\n",
       "  'url': 'http://www.narscosmetics.co.kr/on/demandware.store/Sites-KR-Site/en_KR/Product-Variation?pid=999NAC0000053&dwvar_999NAC0000053_color=Explicit%20Red',\n",
       "  'image': ['http://en.narscosmetics.co.kr/on/demandware.static/-/Sites-itemmaster_NARS/default/dwb9faebe2/hi-res/607845027379.jpg',\n",
       "   'http://en.narscosmetics.co.kr/on/demandware.static/-/Sites-itemmaster_NARS/default/dwc69bda15/hi-res/607845027379_v2.jpg'],\n",
       "  'salePrice': '₩ 37,000',\n",
       "  'originalPrice': '₩ 37,000',\n",
       "  'color': '익스플리시트 레드',\n",
       "  'category': '',\n",
       "  'brand': '나스',\n",
       "  'volume': '#'},\n",
       " {'name': '파워매트 립 피그먼트 - 익스플리시트 레드',\n",
       "  'url': 'http://www.narscosmetics.co.kr/on/demandware.store/Sites-KR-Site/en_KR/Product-Variation?pid=999NAC0000053&dwvar_999NAC0000053_color=Explicit%20Red',\n",
       "  'image': ['http://en.narscosmetics.co.kr/on/demandware.static/-/Sites-itemmaster_NARS/default/dwb9faebe2/hi-res/607845027379.jpg',\n",
       "   'http://en.narscosmetics.co.kr/on/demandware.static/-/Sites-itemmaster_NARS/default/dwc69bda15/hi-res/607845027379_v2.jpg'],\n",
       "  'salePrice': '₩ 37,000',\n",
       "  'originalPrice': '₩ 37,000',\n",
       "  'color': '익스플리시트 레드',\n",
       "  'category': '',\n",
       "  'brand': '나스',\n",
       "  'volume': '#'},\n",
       " {'name': '파워매트 립 피그먼트 - 익스플리시트 레드',\n",
       "  'url': 'http://www.narscosmetics.co.kr/on/demandware.store/Sites-KR-Site/en_KR/Product-Variation?pid=999NAC0000053&dwvar_999NAC0000053_color=Explicit%20Red',\n",
       "  'image': ['http://en.narscosmetics.co.kr/on/demandware.static/-/Sites-itemmaster_NARS/default/dwb9faebe2/hi-res/607845027379.jpg',\n",
       "   'http://en.narscosmetics.co.kr/on/demandware.static/-/Sites-itemmaster_NARS/default/dwc69bda15/hi-res/607845027379_v2.jpg'],\n",
       "  'salePrice': '₩ 37,000',\n",
       "  'originalPrice': '₩ 37,000',\n",
       "  'color': '익스플리시트 레드',\n",
       "  'category': '',\n",
       "  'brand': '나스',\n",
       "  'volume': '#'},\n",
       " {'name': '파워매트 립 피그먼트 - 익스플리시트 레드',\n",
       "  'url': 'http://www.narscosmetics.co.kr/on/demandware.store/Sites-KR-Site/en_KR/Product-Variation?pid=999NAC0000053&dwvar_999NAC0000053_color=Explicit%20Red',\n",
       "  'image': ['http://en.narscosmetics.co.kr/on/demandware.static/-/Sites-itemmaster_NARS/default/dwb9faebe2/hi-res/607845027379.jpg',\n",
       "   'http://en.narscosmetics.co.kr/on/demandware.static/-/Sites-itemmaster_NARS/default/dwc69bda15/hi-res/607845027379_v2.jpg'],\n",
       "  'salePrice': '₩ 37,000',\n",
       "  'originalPrice': '₩ 37,000',\n",
       "  'color': '익스플리시트 레드',\n",
       "  'category': '',\n",
       "  'brand': '나스',\n",
       "  'volume': '#'},\n",
       " {'name': '파워매트 립 피그먼트 - 익스플리시트 레드',\n",
       "  'url': 'http://www.narscosmetics.co.kr/on/demandware.store/Sites-KR-Site/en_KR/Product-Variation?pid=999NAC0000053&dwvar_999NAC0000053_color=Explicit%20Red',\n",
       "  'image': ['http://en.narscosmetics.co.kr/on/demandware.static/-/Sites-itemmaster_NARS/default/dwb9faebe2/hi-res/607845027379.jpg',\n",
       "   'http://en.narscosmetics.co.kr/on/demandware.static/-/Sites-itemmaster_NARS/default/dwc69bda15/hi-res/607845027379_v2.jpg'],\n",
       "  'salePrice': '₩ 37,000',\n",
       "  'originalPrice': '₩ 37,000',\n",
       "  'color': '익스플리시트 레드',\n",
       "  'category': '',\n",
       "  'brand': '나스',\n",
       "  'volume': '#'},\n",
       " {'name': '파워매트 립 피그먼트 - 익스플리시트 레드',\n",
       "  'url': 'http://www.narscosmetics.co.kr/on/demandware.store/Sites-KR-Site/en_KR/Product-Variation?pid=999NAC0000053&dwvar_999NAC0000053_color=Explicit%20Red',\n",
       "  'image': ['http://en.narscosmetics.co.kr/on/demandware.static/-/Sites-itemmaster_NARS/default/dwb9faebe2/hi-res/607845027379.jpg',\n",
       "   'http://en.narscosmetics.co.kr/on/demandware.static/-/Sites-itemmaster_NARS/default/dwc69bda15/hi-res/607845027379_v2.jpg'],\n",
       "  'salePrice': '₩ 37,000',\n",
       "  'originalPrice': '₩ 37,000',\n",
       "  'color': '익스플리시트 레드',\n",
       "  'category': '',\n",
       "  'brand': '나스',\n",
       "  'volume': '#'},\n",
       " {'name': '파워매트 립 피그먼트 - 익스플리시트 레드',\n",
       "  'url': 'http://www.narscosmetics.co.kr/on/demandware.store/Sites-KR-Site/en_KR/Product-Variation?pid=999NAC0000053&dwvar_999NAC0000053_color=Explicit%20Red',\n",
       "  'image': ['http://en.narscosmetics.co.kr/on/demandware.static/-/Sites-itemmaster_NARS/default/dwb9faebe2/hi-res/607845027379.jpg',\n",
       "   'http://en.narscosmetics.co.kr/on/demandware.static/-/Sites-itemmaster_NARS/default/dwc69bda15/hi-res/607845027379_v2.jpg'],\n",
       "  'salePrice': '₩ 37,000',\n",
       "  'originalPrice': '₩ 37,000',\n",
       "  'color': '익스플리시트 레드',\n",
       "  'category': '',\n",
       "  'brand': '나스',\n",
       "  'volume': '#'},\n",
       " {'name': '파워매트 립 피그먼트 - 익스플리시트 레드',\n",
       "  'url': 'http://www.narscosmetics.co.kr/on/demandware.store/Sites-KR-Site/en_KR/Product-Variation?pid=999NAC0000053&dwvar_999NAC0000053_color=Explicit%20Red',\n",
       "  'image': ['http://en.narscosmetics.co.kr/on/demandware.static/-/Sites-itemmaster_NARS/default/dwb9faebe2/hi-res/607845027379.jpg',\n",
       "   'http://en.narscosmetics.co.kr/on/demandware.static/-/Sites-itemmaster_NARS/default/dwc69bda15/hi-res/607845027379_v2.jpg'],\n",
       "  'salePrice': '₩ 37,000',\n",
       "  'originalPrice': '₩ 37,000',\n",
       "  'color': '익스플리시트 레드',\n",
       "  'category': '',\n",
       "  'brand': '나스',\n",
       "  'volume': '#'},\n",
       " {'name': '파워매트 립 피그먼트 - 익스플리시트 레드',\n",
       "  'url': 'http://www.narscosmetics.co.kr/on/demandware.store/Sites-KR-Site/en_KR/Product-Variation?pid=999NAC0000053&dwvar_999NAC0000053_color=Explicit%20Red',\n",
       "  'image': ['http://en.narscosmetics.co.kr/on/demandware.static/-/Sites-itemmaster_NARS/default/dwb9faebe2/hi-res/607845027379.jpg',\n",
       "   'http://en.narscosmetics.co.kr/on/demandware.static/-/Sites-itemmaster_NARS/default/dwc69bda15/hi-res/607845027379_v2.jpg'],\n",
       "  'salePrice': '₩ 37,000',\n",
       "  'originalPrice': '₩ 37,000',\n",
       "  'color': '익스플리시트 레드',\n",
       "  'category': '',\n",
       "  'brand': '나스',\n",
       "  'volume': '#'},\n",
       " {'name': '파워매트 립 피그먼트 - 익스플리시트 레드',\n",
       "  'url': 'http://www.narscosmetics.co.kr/on/demandware.store/Sites-KR-Site/en_KR/Product-Variation?pid=999NAC0000053&dwvar_999NAC0000053_color=Explicit%20Red',\n",
       "  'image': ['http://en.narscosmetics.co.kr/on/demandware.static/-/Sites-itemmaster_NARS/default/dwb9faebe2/hi-res/607845027379.jpg',\n",
       "   'http://en.narscosmetics.co.kr/on/demandware.static/-/Sites-itemmaster_NARS/default/dwc69bda15/hi-res/607845027379_v2.jpg'],\n",
       "  'salePrice': '₩ 37,000',\n",
       "  'originalPrice': '₩ 37,000',\n",
       "  'color': '익스플리시트 레드',\n",
       "  'category': '',\n",
       "  'brand': '나스',\n",
       "  'volume': '#'},\n",
       " {'name': '새틴 립 펜슬 - 위',\n",
       "  'url': 'http://www.narscosmetics.co.kr/on/demandware.store/Sites-KR-Site/en_KR/Product-Variation?pid=999NACSLP0001&dwvar_999NACSLP0001_color=7845092117',\n",
       "  'image': ['http://en.narscosmetics.co.kr/on/demandware.static/-/Sites-itemmaster_NARS/default/dw83047aa0/hi-res/0607845092117.jpg',\n",
       "   'http://en.narscosmetics.co.kr/on/demandware.static/-/Sites-itemmaster_NARS/default/dwc82414a1/swatch/0607845092117.jpg'],\n",
       "  'salePrice': '₩ 37,000',\n",
       "  'originalPrice': '₩ 37,000',\n",
       "  'color': '위',\n",
       "  'category': '',\n",
       "  'brand': '나스',\n",
       "  'volume': '#'},\n",
       " {'name': '새틴 립 펜슬 - 위',\n",
       "  'url': 'http://www.narscosmetics.co.kr/on/demandware.store/Sites-KR-Site/en_KR/Product-Variation?pid=999NACSLP0001&dwvar_999NACSLP0001_color=7845092117',\n",
       "  'image': ['http://en.narscosmetics.co.kr/on/demandware.static/-/Sites-itemmaster_NARS/default/dw83047aa0/hi-res/0607845092117.jpg',\n",
       "   'http://en.narscosmetics.co.kr/on/demandware.static/-/Sites-itemmaster_NARS/default/dwc82414a1/swatch/0607845092117.jpg'],\n",
       "  'salePrice': '₩ 37,000',\n",
       "  'originalPrice': '₩ 37,000',\n",
       "  'color': '위',\n",
       "  'category': '',\n",
       "  'brand': '나스',\n",
       "  'volume': '#'},\n",
       " {'name': '새틴 립 펜슬 - 위',\n",
       "  'url': 'http://www.narscosmetics.co.kr/on/demandware.store/Sites-KR-Site/en_KR/Product-Variation?pid=999NACSLP0001&dwvar_999NACSLP0001_color=7845092117',\n",
       "  'image': ['http://en.narscosmetics.co.kr/on/demandware.static/-/Sites-itemmaster_NARS/default/dw83047aa0/hi-res/0607845092117.jpg',\n",
       "   'http://en.narscosmetics.co.kr/on/demandware.static/-/Sites-itemmaster_NARS/default/dwc82414a1/swatch/0607845092117.jpg'],\n",
       "  'salePrice': '₩ 37,000',\n",
       "  'originalPrice': '₩ 37,000',\n",
       "  'color': '위',\n",
       "  'category': '',\n",
       "  'brand': '나스',\n",
       "  'volume': '#'},\n",
       " {'name': '새틴 립 펜슬 - 위',\n",
       "  'url': 'http://www.narscosmetics.co.kr/on/demandware.store/Sites-KR-Site/en_KR/Product-Variation?pid=999NACSLP0001&dwvar_999NACSLP0001_color=7845092117',\n",
       "  'image': ['http://en.narscosmetics.co.kr/on/demandware.static/-/Sites-itemmaster_NARS/default/dw83047aa0/hi-res/0607845092117.jpg',\n",
       "   'http://en.narscosmetics.co.kr/on/demandware.static/-/Sites-itemmaster_NARS/default/dwc82414a1/swatch/0607845092117.jpg'],\n",
       "  'salePrice': '₩ 37,000',\n",
       "  'originalPrice': '₩ 37,000',\n",
       "  'color': '위',\n",
       "  'category': '',\n",
       "  'brand': '나스',\n",
       "  'volume': '#'},\n",
       " {'name': '새틴 립 펜슬 - 위',\n",
       "  'url': 'http://www.narscosmetics.co.kr/on/demandware.store/Sites-KR-Site/en_KR/Product-Variation?pid=999NACSLP0001&dwvar_999NACSLP0001_color=7845092117',\n",
       "  'image': ['http://en.narscosmetics.co.kr/on/demandware.static/-/Sites-itemmaster_NARS/default/dw83047aa0/hi-res/0607845092117.jpg',\n",
       "   'http://en.narscosmetics.co.kr/on/demandware.static/-/Sites-itemmaster_NARS/default/dwc82414a1/swatch/0607845092117.jpg'],\n",
       "  'salePrice': '₩ 37,000',\n",
       "  'originalPrice': '₩ 37,000',\n",
       "  'color': '위',\n",
       "  'category': '',\n",
       "  'brand': '나스',\n",
       "  'volume': '#'},\n",
       " {'name': '새틴 립 펜슬 - 위',\n",
       "  'url': 'http://www.narscosmetics.co.kr/on/demandware.store/Sites-KR-Site/en_KR/Product-Variation?pid=999NACSLP0001&dwvar_999NACSLP0001_color=7845092117',\n",
       "  'image': ['http://en.narscosmetics.co.kr/on/demandware.static/-/Sites-itemmaster_NARS/default/dw83047aa0/hi-res/0607845092117.jpg',\n",
       "   'http://en.narscosmetics.co.kr/on/demandware.static/-/Sites-itemmaster_NARS/default/dwc82414a1/swatch/0607845092117.jpg'],\n",
       "  'salePrice': '₩ 37,000',\n",
       "  'originalPrice': '₩ 37,000',\n",
       "  'color': '위',\n",
       "  'category': '',\n",
       "  'brand': '나스',\n",
       "  'volume': '#'},\n",
       " {'name': '새틴 립 펜슬 - 위',\n",
       "  'url': 'http://www.narscosmetics.co.kr/on/demandware.store/Sites-KR-Site/en_KR/Product-Variation?pid=999NACSLP0001&dwvar_999NACSLP0001_color=7845092117',\n",
       "  'image': ['http://en.narscosmetics.co.kr/on/demandware.static/-/Sites-itemmaster_NARS/default/dw83047aa0/hi-res/0607845092117.jpg',\n",
       "   'http://en.narscosmetics.co.kr/on/demandware.static/-/Sites-itemmaster_NARS/default/dwc82414a1/swatch/0607845092117.jpg'],\n",
       "  'salePrice': '₩ 37,000',\n",
       "  'originalPrice': '₩ 37,000',\n",
       "  'color': '위',\n",
       "  'category': '',\n",
       "  'brand': '나스',\n",
       "  'volume': '#'},\n",
       " {'name': '새틴 립 펜슬 - 위',\n",
       "  'url': 'http://www.narscosmetics.co.kr/on/demandware.store/Sites-KR-Site/en_KR/Product-Variation?pid=999NACSLP0001&dwvar_999NACSLP0001_color=7845092117',\n",
       "  'image': ['http://en.narscosmetics.co.kr/on/demandware.static/-/Sites-itemmaster_NARS/default/dw83047aa0/hi-res/0607845092117.jpg',\n",
       "   'http://en.narscosmetics.co.kr/on/demandware.static/-/Sites-itemmaster_NARS/default/dwc82414a1/swatch/0607845092117.jpg'],\n",
       "  'salePrice': '₩ 37,000',\n",
       "  'originalPrice': '₩ 37,000',\n",
       "  'color': '위',\n",
       "  'category': '',\n",
       "  'brand': '나스',\n",
       "  'volume': '#'},\n",
       " {'name': '새틴 립 펜슬 - 위',\n",
       "  'url': 'http://www.narscosmetics.co.kr/on/demandware.store/Sites-KR-Site/en_KR/Product-Variation?pid=999NACSLP0001&dwvar_999NACSLP0001_color=7845092117',\n",
       "  'image': ['http://en.narscosmetics.co.kr/on/demandware.static/-/Sites-itemmaster_NARS/default/dw83047aa0/hi-res/0607845092117.jpg',\n",
       "   'http://en.narscosmetics.co.kr/on/demandware.static/-/Sites-itemmaster_NARS/default/dwc82414a1/swatch/0607845092117.jpg'],\n",
       "  'salePrice': '₩ 37,000',\n",
       "  'originalPrice': '₩ 37,000',\n",
       "  'color': '위',\n",
       "  'category': '',\n",
       "  'brand': '나스',\n",
       "  'volume': '#'},\n",
       " {'name': '새틴 립 펜슬 - 위',\n",
       "  'url': 'http://www.narscosmetics.co.kr/on/demandware.store/Sites-KR-Site/en_KR/Product-Variation?pid=999NACSLP0001&dwvar_999NACSLP0001_color=7845092117',\n",
       "  'image': ['http://en.narscosmetics.co.kr/on/demandware.static/-/Sites-itemmaster_NARS/default/dw83047aa0/hi-res/0607845092117.jpg',\n",
       "   'http://en.narscosmetics.co.kr/on/demandware.static/-/Sites-itemmaster_NARS/default/dwc82414a1/swatch/0607845092117.jpg'],\n",
       "  'salePrice': '₩ 37,000',\n",
       "  'originalPrice': '₩ 37,000',\n",
       "  'color': '위',\n",
       "  'category': '',\n",
       "  'brand': '나스',\n",
       "  'volume': '#'},\n",
       " {'name': '새틴 립 펜슬 - 위',\n",
       "  'url': 'http://www.narscosmetics.co.kr/on/demandware.store/Sites-KR-Site/en_KR/Product-Variation?pid=999NACSLP0001&dwvar_999NACSLP0001_color=7845092117',\n",
       "  'image': ['http://en.narscosmetics.co.kr/on/demandware.static/-/Sites-itemmaster_NARS/default/dw83047aa0/hi-res/0607845092117.jpg',\n",
       "   'http://en.narscosmetics.co.kr/on/demandware.static/-/Sites-itemmaster_NARS/default/dwc82414a1/swatch/0607845092117.jpg'],\n",
       "  'salePrice': '₩ 37,000',\n",
       "  'originalPrice': '₩ 37,000',\n",
       "  'color': '위',\n",
       "  'category': '',\n",
       "  'brand': '나스',\n",
       "  'volume': '#'},\n",
       " {'name': '새틴 립 펜슬 - 위',\n",
       "  'url': 'http://www.narscosmetics.co.kr/on/demandware.store/Sites-KR-Site/en_KR/Product-Variation?pid=999NACSLP0001&dwvar_999NACSLP0001_color=7845092117',\n",
       "  'image': ['http://en.narscosmetics.co.kr/on/demandware.static/-/Sites-itemmaster_NARS/default/dw83047aa0/hi-res/0607845092117.jpg',\n",
       "   'http://en.narscosmetics.co.kr/on/demandware.static/-/Sites-itemmaster_NARS/default/dwc82414a1/swatch/0607845092117.jpg'],\n",
       "  'salePrice': '₩ 37,000',\n",
       "  'originalPrice': '₩ 37,000',\n",
       "  'color': '위',\n",
       "  'category': '',\n",
       "  'brand': '나스',\n",
       "  'volume': '#'},\n",
       " {'name': '새틴 립 펜슬 - 위',\n",
       "  'url': 'http://www.narscosmetics.co.kr/on/demandware.store/Sites-KR-Site/en_KR/Product-Variation?pid=999NACSLP0001&dwvar_999NACSLP0001_color=7845092117',\n",
       "  'image': ['http://en.narscosmetics.co.kr/on/demandware.static/-/Sites-itemmaster_NARS/default/dw83047aa0/hi-res/0607845092117.jpg',\n",
       "   'http://en.narscosmetics.co.kr/on/demandware.static/-/Sites-itemmaster_NARS/default/dwc82414a1/swatch/0607845092117.jpg'],\n",
       "  'salePrice': '₩ 37,000',\n",
       "  'originalPrice': '₩ 37,000',\n",
       "  'color': '위',\n",
       "  'category': '',\n",
       "  'brand': '나스',\n",
       "  'volume': '#'},\n",
       " {'name': '새틴 립 펜슬 - 위',\n",
       "  'url': 'http://www.narscosmetics.co.kr/on/demandware.store/Sites-KR-Site/en_KR/Product-Variation?pid=999NACSLP0001&dwvar_999NACSLP0001_color=7845092117',\n",
       "  'image': ['http://en.narscosmetics.co.kr/on/demandware.static/-/Sites-itemmaster_NARS/default/dw83047aa0/hi-res/0607845092117.jpg',\n",
       "   'http://en.narscosmetics.co.kr/on/demandware.static/-/Sites-itemmaster_NARS/default/dwc82414a1/swatch/0607845092117.jpg'],\n",
       "  'salePrice': '₩ 37,000',\n",
       "  'originalPrice': '₩ 37,000',\n",
       "  'color': '위',\n",
       "  'category': '',\n",
       "  'brand': '나스',\n",
       "  'volume': '#'},\n",
       " {'name': '새틴 립 펜슬 - 위',\n",
       "  'url': 'http://www.narscosmetics.co.kr/on/demandware.store/Sites-KR-Site/en_KR/Product-Variation?pid=999NACSLP0001&dwvar_999NACSLP0001_color=7845092117',\n",
       "  'image': ['http://en.narscosmetics.co.kr/on/demandware.static/-/Sites-itemmaster_NARS/default/dw83047aa0/hi-res/0607845092117.jpg',\n",
       "   'http://en.narscosmetics.co.kr/on/demandware.static/-/Sites-itemmaster_NARS/default/dwc82414a1/swatch/0607845092117.jpg'],\n",
       "  'salePrice': '₩ 37,000',\n",
       "  'originalPrice': '₩ 37,000',\n",
       "  'color': '위',\n",
       "  'category': '',\n",
       "  'brand': '나스',\n",
       "  'volume': '#'},\n",
       " {'name': '새틴 립 펜슬 - 위',\n",
       "  'url': 'http://www.narscosmetics.co.kr/on/demandware.store/Sites-KR-Site/en_KR/Product-Variation?pid=999NACSLP0001&dwvar_999NACSLP0001_color=7845092117',\n",
       "  'image': ['http://en.narscosmetics.co.kr/on/demandware.static/-/Sites-itemmaster_NARS/default/dw83047aa0/hi-res/0607845092117.jpg',\n",
       "   'http://en.narscosmetics.co.kr/on/demandware.static/-/Sites-itemmaster_NARS/default/dwc82414a1/swatch/0607845092117.jpg'],\n",
       "  'salePrice': '₩ 37,000',\n",
       "  'originalPrice': '₩ 37,000',\n",
       "  'color': '위',\n",
       "  'category': '',\n",
       "  'brand': '나스',\n",
       "  'volume': '#'},\n",
       " {'name': '새틴 립 펜슬 - 위',\n",
       "  'url': 'http://www.narscosmetics.co.kr/on/demandware.store/Sites-KR-Site/en_KR/Product-Variation?pid=999NACSLP0001&dwvar_999NACSLP0001_color=7845092117',\n",
       "  'image': ['http://en.narscosmetics.co.kr/on/demandware.static/-/Sites-itemmaster_NARS/default/dw83047aa0/hi-res/0607845092117.jpg',\n",
       "   'http://en.narscosmetics.co.kr/on/demandware.static/-/Sites-itemmaster_NARS/default/dwc82414a1/swatch/0607845092117.jpg'],\n",
       "  'salePrice': '₩ 37,000',\n",
       "  'originalPrice': '₩ 37,000',\n",
       "  'color': '위',\n",
       "  'category': '',\n",
       "  'brand': '나스',\n",
       "  'volume': '#'},\n",
       " {'name': '새틴 립 펜슬 - 위',\n",
       "  'url': 'http://www.narscosmetics.co.kr/on/demandware.store/Sites-KR-Site/en_KR/Product-Variation?pid=999NACSLP0001&dwvar_999NACSLP0001_color=7845092117',\n",
       "  'image': ['http://en.narscosmetics.co.kr/on/demandware.static/-/Sites-itemmaster_NARS/default/dw83047aa0/hi-res/0607845092117.jpg',\n",
       "   'http://en.narscosmetics.co.kr/on/demandware.static/-/Sites-itemmaster_NARS/default/dwc82414a1/swatch/0607845092117.jpg'],\n",
       "  'salePrice': '₩ 37,000',\n",
       "  'originalPrice': '₩ 37,000',\n",
       "  'color': '위',\n",
       "  'category': '',\n",
       "  'brand': '나스',\n",
       "  'volume': '#'},\n",
       " {'name': '새틴 립스틱 - 톨레도',\n",
       "  'url': 'http://www.narscosmetics.co.kr/on/demandware.store/Sites-KR-Site/en_KR/Product-Variation?pid=999NACSTNLS01&dwvar_999NACSTNLS01_color=7845093022',\n",
       "  'image': ['http://en.narscosmetics.co.kr/on/demandware.static/-/Sites-itemmaster_NARS/default/dwddccd974/hi-res/0607845093022.jpg',\n",
       "   'http://en.narscosmetics.co.kr/on/demandware.static/-/Sites-itemmaster_NARS/default/dw26c3dd1d/swatch/0607845093022.jpg'],\n",
       "  'salePrice': '₩ 37,000',\n",
       "  'originalPrice': '₩ 37,000',\n",
       "  'color': '톨레도',\n",
       "  'category': '',\n",
       "  'brand': '나스',\n",
       "  'volume': '#'},\n",
       " {'name': '새틴 립스틱 - 톨레도',\n",
       "  'url': 'http://www.narscosmetics.co.kr/on/demandware.store/Sites-KR-Site/en_KR/Product-Variation?pid=999NACSTNLS01&dwvar_999NACSTNLS01_color=7845093022',\n",
       "  'image': ['http://en.narscosmetics.co.kr/on/demandware.static/-/Sites-itemmaster_NARS/default/dwddccd974/hi-res/0607845093022.jpg',\n",
       "   'http://en.narscosmetics.co.kr/on/demandware.static/-/Sites-itemmaster_NARS/default/dw26c3dd1d/swatch/0607845093022.jpg'],\n",
       "  'salePrice': '₩ 37,000',\n",
       "  'originalPrice': '₩ 37,000',\n",
       "  'color': '톨레도',\n",
       "  'category': '',\n",
       "  'brand': '나스',\n",
       "  'volume': '#'},\n",
       " {'name': '새틴 립스틱 - 톨레도',\n",
       "  'url': 'http://www.narscosmetics.co.kr/on/demandware.store/Sites-KR-Site/en_KR/Product-Variation?pid=999NACSTNLS01&dwvar_999NACSTNLS01_color=7845093022',\n",
       "  'image': ['http://en.narscosmetics.co.kr/on/demandware.static/-/Sites-itemmaster_NARS/default/dwddccd974/hi-res/0607845093022.jpg',\n",
       "   'http://en.narscosmetics.co.kr/on/demandware.static/-/Sites-itemmaster_NARS/default/dw26c3dd1d/swatch/0607845093022.jpg'],\n",
       "  'salePrice': '₩ 37,000',\n",
       "  'originalPrice': '₩ 37,000',\n",
       "  'color': '톨레도',\n",
       "  'category': '',\n",
       "  'brand': '나스',\n",
       "  'volume': '#'},\n",
       " {'name': '새틴 립스틱 - 톨레도',\n",
       "  'url': 'http://www.narscosmetics.co.kr/on/demandware.store/Sites-KR-Site/en_KR/Product-Variation?pid=999NACSTNLS01&dwvar_999NACSTNLS01_color=7845093022',\n",
       "  'image': ['http://en.narscosmetics.co.kr/on/demandware.static/-/Sites-itemmaster_NARS/default/dwddccd974/hi-res/0607845093022.jpg',\n",
       "   'http://en.narscosmetics.co.kr/on/demandware.static/-/Sites-itemmaster_NARS/default/dw26c3dd1d/swatch/0607845093022.jpg'],\n",
       "  'salePrice': '₩ 37,000',\n",
       "  'originalPrice': '₩ 37,000',\n",
       "  'color': '톨레도',\n",
       "  'category': '',\n",
       "  'brand': '나스',\n",
       "  'volume': '#'},\n",
       " {'name': '새틴 립스틱 - 톨레도',\n",
       "  'url': 'http://www.narscosmetics.co.kr/on/demandware.store/Sites-KR-Site/en_KR/Product-Variation?pid=999NACSTNLS01&dwvar_999NACSTNLS01_color=7845093022',\n",
       "  'image': ['http://en.narscosmetics.co.kr/on/demandware.static/-/Sites-itemmaster_NARS/default/dwddccd974/hi-res/0607845093022.jpg',\n",
       "   'http://en.narscosmetics.co.kr/on/demandware.static/-/Sites-itemmaster_NARS/default/dw26c3dd1d/swatch/0607845093022.jpg'],\n",
       "  'salePrice': '₩ 37,000',\n",
       "  'originalPrice': '₩ 37,000',\n",
       "  'color': '톨레도',\n",
       "  'category': '',\n",
       "  'brand': '나스',\n",
       "  'volume': '#'},\n",
       " {'name': '새틴 립스틱 - 톨레도',\n",
       "  'url': 'http://www.narscosmetics.co.kr/on/demandware.store/Sites-KR-Site/en_KR/Product-Variation?pid=999NACSTNLS01&dwvar_999NACSTNLS01_color=7845093022',\n",
       "  'image': ['http://en.narscosmetics.co.kr/on/demandware.static/-/Sites-itemmaster_NARS/default/dwddccd974/hi-res/0607845093022.jpg',\n",
       "   'http://en.narscosmetics.co.kr/on/demandware.static/-/Sites-itemmaster_NARS/default/dw26c3dd1d/swatch/0607845093022.jpg'],\n",
       "  'salePrice': '₩ 37,000',\n",
       "  'originalPrice': '₩ 37,000',\n",
       "  'color': '톨레도',\n",
       "  'category': '',\n",
       "  'brand': '나스',\n",
       "  'volume': '#'},\n",
       " {'name': '새틴 립스틱 - 톨레도',\n",
       "  'url': 'http://www.narscosmetics.co.kr/on/demandware.store/Sites-KR-Site/en_KR/Product-Variation?pid=999NACSTNLS01&dwvar_999NACSTNLS01_color=7845093022',\n",
       "  'image': ['http://en.narscosmetics.co.kr/on/demandware.static/-/Sites-itemmaster_NARS/default/dwddccd974/hi-res/0607845093022.jpg',\n",
       "   'http://en.narscosmetics.co.kr/on/demandware.static/-/Sites-itemmaster_NARS/default/dw26c3dd1d/swatch/0607845093022.jpg'],\n",
       "  'salePrice': '₩ 37,000',\n",
       "  'originalPrice': '₩ 37,000',\n",
       "  'color': '톨레도',\n",
       "  'category': '',\n",
       "  'brand': '나스',\n",
       "  'volume': '#'},\n",
       " {'name': '새틴 립스틱 - 톨레도',\n",
       "  'url': 'http://www.narscosmetics.co.kr/on/demandware.store/Sites-KR-Site/en_KR/Product-Variation?pid=999NACSTNLS01&dwvar_999NACSTNLS01_color=7845093022',\n",
       "  'image': ['http://en.narscosmetics.co.kr/on/demandware.static/-/Sites-itemmaster_NARS/default/dwddccd974/hi-res/0607845093022.jpg',\n",
       "   'http://en.narscosmetics.co.kr/on/demandware.static/-/Sites-itemmaster_NARS/default/dw26c3dd1d/swatch/0607845093022.jpg'],\n",
       "  'salePrice': '₩ 37,000',\n",
       "  'originalPrice': '₩ 37,000',\n",
       "  'color': '톨레도',\n",
       "  'category': '',\n",
       "  'brand': '나스',\n",
       "  'volume': '#'},\n",
       " {'name': '새틴 립스틱 - 톨레도',\n",
       "  'url': 'http://www.narscosmetics.co.kr/on/demandware.store/Sites-KR-Site/en_KR/Product-Variation?pid=999NACSTNLS01&dwvar_999NACSTNLS01_color=7845093022',\n",
       "  'image': ['http://en.narscosmetics.co.kr/on/demandware.static/-/Sites-itemmaster_NARS/default/dwddccd974/hi-res/0607845093022.jpg',\n",
       "   'http://en.narscosmetics.co.kr/on/demandware.static/-/Sites-itemmaster_NARS/default/dw26c3dd1d/swatch/0607845093022.jpg'],\n",
       "  'salePrice': '₩ 37,000',\n",
       "  'originalPrice': '₩ 37,000',\n",
       "  'color': '톨레도',\n",
       "  'category': '',\n",
       "  'brand': '나스',\n",
       "  'volume': '#'},\n",
       " {'name': '새틴 립스틱 - 톨레도',\n",
       "  'url': 'http://www.narscosmetics.co.kr/on/demandware.store/Sites-KR-Site/en_KR/Product-Variation?pid=999NACSTNLS01&dwvar_999NACSTNLS01_color=7845093022',\n",
       "  'image': ['http://en.narscosmetics.co.kr/on/demandware.static/-/Sites-itemmaster_NARS/default/dwddccd974/hi-res/0607845093022.jpg',\n",
       "   'http://en.narscosmetics.co.kr/on/demandware.static/-/Sites-itemmaster_NARS/default/dw26c3dd1d/swatch/0607845093022.jpg'],\n",
       "  'salePrice': '₩ 37,000',\n",
       "  'originalPrice': '₩ 37,000',\n",
       "  'color': '톨레도',\n",
       "  'category': '',\n",
       "  'brand': '나스',\n",
       "  'volume': '#'},\n",
       " {'name': '새틴 립스틱 - 톨레도',\n",
       "  'url': 'http://www.narscosmetics.co.kr/on/demandware.store/Sites-KR-Site/en_KR/Product-Variation?pid=999NACSTNLS01&dwvar_999NACSTNLS01_color=7845093022',\n",
       "  'image': ['http://en.narscosmetics.co.kr/on/demandware.static/-/Sites-itemmaster_NARS/default/dwddccd974/hi-res/0607845093022.jpg',\n",
       "   'http://en.narscosmetics.co.kr/on/demandware.static/-/Sites-itemmaster_NARS/default/dw26c3dd1d/swatch/0607845093022.jpg'],\n",
       "  'salePrice': '₩ 37,000',\n",
       "  'originalPrice': '₩ 37,000',\n",
       "  'color': '톨레도',\n",
       "  'category': '',\n",
       "  'brand': '나스',\n",
       "  'volume': '#'},\n",
       " {'name': '새틴 립스틱 - 톨레도',\n",
       "  'url': 'http://www.narscosmetics.co.kr/on/demandware.store/Sites-KR-Site/en_KR/Product-Variation?pid=999NACSTNLS01&dwvar_999NACSTNLS01_color=7845093022',\n",
       "  'image': ['http://en.narscosmetics.co.kr/on/demandware.static/-/Sites-itemmaster_NARS/default/dwddccd974/hi-res/0607845093022.jpg',\n",
       "   'http://en.narscosmetics.co.kr/on/demandware.static/-/Sites-itemmaster_NARS/default/dw26c3dd1d/swatch/0607845093022.jpg'],\n",
       "  'salePrice': '₩ 37,000',\n",
       "  'originalPrice': '₩ 37,000',\n",
       "  'color': '톨레도',\n",
       "  'category': '',\n",
       "  'brand': '나스',\n",
       "  'volume': '#'},\n",
       " {'name': '립커버 - 언더 어레스트',\n",
       "  'url': 'http://www.narscosmetics.co.kr/on/demandware.store/Sites-KR-Site/en_KR/Product-Variation?pid=999NAC0000036&dwvar_999NAC0000036_color=7845056911',\n",
       "  'image': ['http://en.narscosmetics.co.kr/on/demandware.static/-/Sites-itemmaster_NARS/default/dwdda4fbe1/hi-res/0607845056911.jpg',\n",
       "   'http://en.narscosmetics.co.kr/on/demandware.static/-/Sites-itemmaster_NARS/default/dw6ab04f4d/swatch/0607845056911.jpg'],\n",
       "  'salePrice': '₩ 38,000',\n",
       "  'originalPrice': '₩ 38,000',\n",
       "  'color': '언더 어레스트',\n",
       "  'category': '',\n",
       "  'brand': '나스',\n",
       "  'volume': '#'},\n",
       " {'name': '립커버 - 언더 어레스트',\n",
       "  'url': 'http://www.narscosmetics.co.kr/on/demandware.store/Sites-KR-Site/en_KR/Product-Variation?pid=999NAC0000036&dwvar_999NAC0000036_color=7845056911',\n",
       "  'image': ['http://en.narscosmetics.co.kr/on/demandware.static/-/Sites-itemmaster_NARS/default/dwdda4fbe1/hi-res/0607845056911.jpg',\n",
       "   'http://en.narscosmetics.co.kr/on/demandware.static/-/Sites-itemmaster_NARS/default/dw6ab04f4d/swatch/0607845056911.jpg'],\n",
       "  'salePrice': '₩ 38,000',\n",
       "  'originalPrice': '₩ 38,000',\n",
       "  'color': '언더 어레스트',\n",
       "  'category': '',\n",
       "  'brand': '나스',\n",
       "  'volume': '#'},\n",
       " {'name': '립커버 - 언더 어레스트',\n",
       "  'url': 'http://www.narscosmetics.co.kr/on/demandware.store/Sites-KR-Site/en_KR/Product-Variation?pid=999NAC0000036&dwvar_999NAC0000036_color=7845056911',\n",
       "  'image': ['http://en.narscosmetics.co.kr/on/demandware.static/-/Sites-itemmaster_NARS/default/dwdda4fbe1/hi-res/0607845056911.jpg',\n",
       "   'http://en.narscosmetics.co.kr/on/demandware.static/-/Sites-itemmaster_NARS/default/dw6ab04f4d/swatch/0607845056911.jpg'],\n",
       "  'salePrice': '₩ 38,000',\n",
       "  'originalPrice': '₩ 38,000',\n",
       "  'color': '언더 어레스트',\n",
       "  'category': '',\n",
       "  'brand': '나스',\n",
       "  'volume': '#'},\n",
       " {'name': '립커버 - 언더 어레스트',\n",
       "  'url': 'http://www.narscosmetics.co.kr/on/demandware.store/Sites-KR-Site/en_KR/Product-Variation?pid=999NAC0000036&dwvar_999NAC0000036_color=7845056911',\n",
       "  'image': ['http://en.narscosmetics.co.kr/on/demandware.static/-/Sites-itemmaster_NARS/default/dwdda4fbe1/hi-res/0607845056911.jpg',\n",
       "   'http://en.narscosmetics.co.kr/on/demandware.static/-/Sites-itemmaster_NARS/default/dw6ab04f4d/swatch/0607845056911.jpg'],\n",
       "  'salePrice': '₩ 38,000',\n",
       "  'originalPrice': '₩ 38,000',\n",
       "  'color': '언더 어레스트',\n",
       "  'category': '',\n",
       "  'brand': '나스',\n",
       "  'volume': '#'},\n",
       " {'name': '어데이셔스 립스틱 - 비비안',\n",
       "  'url': 'http://www.narscosmetics.co.kr/on/demandware.store/Sites-KR-Site/en_KR/Product-Variation?pid=999NARS000011&dwvar_999NARS000011_color=7845094906',\n",
       "  'image': ['http://en.narscosmetics.co.kr/on/demandware.static/-/Sites-itemmaster_NARS/default/dw398e487a/hi-res/0607845094906.jpg',\n",
       "   'http://en.narscosmetics.co.kr/on/demandware.static/-/Sites-itemmaster_NARS/default/dwb6aeef70/swatch/0607845094906.jpg'],\n",
       "  'salePrice': '₩ 41,000',\n",
       "  'originalPrice': '₩ 41,000',\n",
       "  'color': '비비안',\n",
       "  'category': '',\n",
       "  'brand': '나스',\n",
       "  'volume': '#'},\n",
       " {'name': '어데이셔스 립스틱 - 비비안',\n",
       "  'url': 'http://www.narscosmetics.co.kr/on/demandware.store/Sites-KR-Site/en_KR/Product-Variation?pid=999NARS000011&dwvar_999NARS000011_color=7845094906',\n",
       "  'image': ['http://en.narscosmetics.co.kr/on/demandware.static/-/Sites-itemmaster_NARS/default/dw398e487a/hi-res/0607845094906.jpg',\n",
       "   'http://en.narscosmetics.co.kr/on/demandware.static/-/Sites-itemmaster_NARS/default/dwb6aeef70/swatch/0607845094906.jpg'],\n",
       "  'salePrice': '₩ 41,000',\n",
       "  'originalPrice': '₩ 41,000',\n",
       "  'color': '비비안',\n",
       "  'category': '',\n",
       "  'brand': '나스',\n",
       "  'volume': '#'},\n",
       " {'name': '어데이셔스 립스틱 - 비비안',\n",
       "  'url': 'http://www.narscosmetics.co.kr/on/demandware.store/Sites-KR-Site/en_KR/Product-Variation?pid=999NARS000011&dwvar_999NARS000011_color=7845094906',\n",
       "  'image': ['http://en.narscosmetics.co.kr/on/demandware.static/-/Sites-itemmaster_NARS/default/dw398e487a/hi-res/0607845094906.jpg',\n",
       "   'http://en.narscosmetics.co.kr/on/demandware.static/-/Sites-itemmaster_NARS/default/dwb6aeef70/swatch/0607845094906.jpg'],\n",
       "  'salePrice': '₩ 41,000',\n",
       "  'originalPrice': '₩ 41,000',\n",
       "  'color': '비비안',\n",
       "  'category': '',\n",
       "  'brand': '나스',\n",
       "  'volume': '#'},\n",
       " {'name': '어데이셔스 립스틱 - 비비안',\n",
       "  'url': 'http://www.narscosmetics.co.kr/on/demandware.store/Sites-KR-Site/en_KR/Product-Variation?pid=999NARS000011&dwvar_999NARS000011_color=7845094906',\n",
       "  'image': ['http://en.narscosmetics.co.kr/on/demandware.static/-/Sites-itemmaster_NARS/default/dw398e487a/hi-res/0607845094906.jpg',\n",
       "   'http://en.narscosmetics.co.kr/on/demandware.static/-/Sites-itemmaster_NARS/default/dwb6aeef70/swatch/0607845094906.jpg'],\n",
       "  'salePrice': '₩ 41,000',\n",
       "  'originalPrice': '₩ 41,000',\n",
       "  'color': '비비안',\n",
       "  'category': '',\n",
       "  'brand': '나스',\n",
       "  'volume': '#'},\n",
       " {'name': '어데이셔스 립스틱 - 비비안',\n",
       "  'url': 'http://www.narscosmetics.co.kr/on/demandware.store/Sites-KR-Site/en_KR/Product-Variation?pid=999NARS000011&dwvar_999NARS000011_color=7845094906',\n",
       "  'image': ['http://en.narscosmetics.co.kr/on/demandware.static/-/Sites-itemmaster_NARS/default/dw398e487a/hi-res/0607845094906.jpg',\n",
       "   'http://en.narscosmetics.co.kr/on/demandware.static/-/Sites-itemmaster_NARS/default/dwb6aeef70/swatch/0607845094906.jpg'],\n",
       "  'salePrice': '₩ 41,000',\n",
       "  'originalPrice': '₩ 41,000',\n",
       "  'color': '비비안',\n",
       "  'category': '',\n",
       "  'brand': '나스',\n",
       "  'volume': '#'},\n",
       " {'name': '어데이셔스 립스틱 - 비비안',\n",
       "  'url': 'http://www.narscosmetics.co.kr/on/demandware.store/Sites-KR-Site/en_KR/Product-Variation?pid=999NARS000011&dwvar_999NARS000011_color=7845094906',\n",
       "  'image': ['http://en.narscosmetics.co.kr/on/demandware.static/-/Sites-itemmaster_NARS/default/dw398e487a/hi-res/0607845094906.jpg',\n",
       "   'http://en.narscosmetics.co.kr/on/demandware.static/-/Sites-itemmaster_NARS/default/dwb6aeef70/swatch/0607845094906.jpg'],\n",
       "  'salePrice': '₩ 41,000',\n",
       "  'originalPrice': '₩ 41,000',\n",
       "  'color': '비비안',\n",
       "  'category': '',\n",
       "  'brand': '나스',\n",
       "  'volume': '#'},\n",
       " {'name': '어데이셔스 립스틱 - 비비안',\n",
       "  'url': 'http://www.narscosmetics.co.kr/on/demandware.store/Sites-KR-Site/en_KR/Product-Variation?pid=999NARS000011&dwvar_999NARS000011_color=7845094906',\n",
       "  'image': ['http://en.narscosmetics.co.kr/on/demandware.static/-/Sites-itemmaster_NARS/default/dw398e487a/hi-res/0607845094906.jpg',\n",
       "   'http://en.narscosmetics.co.kr/on/demandware.static/-/Sites-itemmaster_NARS/default/dwb6aeef70/swatch/0607845094906.jpg'],\n",
       "  'salePrice': '₩ 41,000',\n",
       "  'originalPrice': '₩ 41,000',\n",
       "  'color': '비비안',\n",
       "  'category': '',\n",
       "  'brand': '나스',\n",
       "  'volume': '#'},\n",
       " {'name': '어데이셔스 립스틱 - 비비안',\n",
       "  'url': 'http://www.narscosmetics.co.kr/on/demandware.store/Sites-KR-Site/en_KR/Product-Variation?pid=999NARS000011&dwvar_999NARS000011_color=7845094906',\n",
       "  'image': ['http://en.narscosmetics.co.kr/on/demandware.static/-/Sites-itemmaster_NARS/default/dw398e487a/hi-res/0607845094906.jpg',\n",
       "   'http://en.narscosmetics.co.kr/on/demandware.static/-/Sites-itemmaster_NARS/default/dwb6aeef70/swatch/0607845094906.jpg'],\n",
       "  'salePrice': '₩ 41,000',\n",
       "  'originalPrice': '₩ 41,000',\n",
       "  'color': '비비안',\n",
       "  'category': '',\n",
       "  'brand': '나스',\n",
       "  'volume': '#'},\n",
       " {'name': '어데이셔스 립스틱 - 비비안',\n",
       "  'url': 'http://www.narscosmetics.co.kr/on/demandware.store/Sites-KR-Site/en_KR/Product-Variation?pid=999NARS000011&dwvar_999NARS000011_color=7845094906',\n",
       "  'image': ['http://en.narscosmetics.co.kr/on/demandware.static/-/Sites-itemmaster_NARS/default/dw398e487a/hi-res/0607845094906.jpg',\n",
       "   'http://en.narscosmetics.co.kr/on/demandware.static/-/Sites-itemmaster_NARS/default/dwb6aeef70/swatch/0607845094906.jpg'],\n",
       "  'salePrice': '₩ 41,000',\n",
       "  'originalPrice': '₩ 41,000',\n",
       "  'color': '비비안',\n",
       "  'category': '',\n",
       "  'brand': '나스',\n",
       "  'volume': '#'},\n",
       " {'name': '어데이셔스 립스틱 - 비비안',\n",
       "  'url': 'http://www.narscosmetics.co.kr/on/demandware.store/Sites-KR-Site/en_KR/Product-Variation?pid=999NARS000011&dwvar_999NARS000011_color=7845094906',\n",
       "  'image': ['http://en.narscosmetics.co.kr/on/demandware.static/-/Sites-itemmaster_NARS/default/dw398e487a/hi-res/0607845094906.jpg',\n",
       "   'http://en.narscosmetics.co.kr/on/demandware.static/-/Sites-itemmaster_NARS/default/dwb6aeef70/swatch/0607845094906.jpg'],\n",
       "  'salePrice': '₩ 41,000',\n",
       "  'originalPrice': '₩ 41,000',\n",
       "  'color': '비비안',\n",
       "  'category': '',\n",
       "  'brand': '나스',\n",
       "  'volume': '#'},\n",
       " {'name': '어데이셔스 립스틱 - 비비안',\n",
       "  'url': 'http://www.narscosmetics.co.kr/on/demandware.store/Sites-KR-Site/en_KR/Product-Variation?pid=999NARS000011&dwvar_999NARS000011_color=7845094906',\n",
       "  'image': ['http://en.narscosmetics.co.kr/on/demandware.static/-/Sites-itemmaster_NARS/default/dw398e487a/hi-res/0607845094906.jpg',\n",
       "   'http://en.narscosmetics.co.kr/on/demandware.static/-/Sites-itemmaster_NARS/default/dwb6aeef70/swatch/0607845094906.jpg'],\n",
       "  'salePrice': '₩ 41,000',\n",
       "  'originalPrice': '₩ 41,000',\n",
       "  'color': '비비안',\n",
       "  'category': '',\n",
       "  'brand': '나스',\n",
       "  'volume': '#'},\n",
       " {'name': '어데이셔스 립스틱 - 비비안',\n",
       "  'url': 'http://www.narscosmetics.co.kr/on/demandware.store/Sites-KR-Site/en_KR/Product-Variation?pid=999NARS000011&dwvar_999NARS000011_color=7845094906',\n",
       "  'image': ['http://en.narscosmetics.co.kr/on/demandware.static/-/Sites-itemmaster_NARS/default/dw398e487a/hi-res/0607845094906.jpg',\n",
       "   'http://en.narscosmetics.co.kr/on/demandware.static/-/Sites-itemmaster_NARS/default/dwb6aeef70/swatch/0607845094906.jpg'],\n",
       "  'salePrice': '₩ 41,000',\n",
       "  'originalPrice': '₩ 41,000',\n",
       "  'color': '비비안',\n",
       "  'category': '',\n",
       "  'brand': '나스',\n",
       "  'volume': '#'},\n",
       " {'name': '어데이셔스 립스틱 - 비비안',\n",
       "  'url': 'http://www.narscosmetics.co.kr/on/demandware.store/Sites-KR-Site/en_KR/Product-Variation?pid=999NARS000011&dwvar_999NARS000011_color=7845094906',\n",
       "  'image': ['http://en.narscosmetics.co.kr/on/demandware.static/-/Sites-itemmaster_NARS/default/dw398e487a/hi-res/0607845094906.jpg',\n",
       "   'http://en.narscosmetics.co.kr/on/demandware.static/-/Sites-itemmaster_NARS/default/dwb6aeef70/swatch/0607845094906.jpg'],\n",
       "  'salePrice': '₩ 41,000',\n",
       "  'originalPrice': '₩ 41,000',\n",
       "  'color': '비비안',\n",
       "  'category': '',\n",
       "  'brand': '나스',\n",
       "  'volume': '#'},\n",
       " {'name': '어데이셔스 립스틱 - 비비안',\n",
       "  'url': 'http://www.narscosmetics.co.kr/on/demandware.store/Sites-KR-Site/en_KR/Product-Variation?pid=999NARS000011&dwvar_999NARS000011_color=7845094906',\n",
       "  'image': ['http://en.narscosmetics.co.kr/on/demandware.static/-/Sites-itemmaster_NARS/default/dw398e487a/hi-res/0607845094906.jpg',\n",
       "   'http://en.narscosmetics.co.kr/on/demandware.static/-/Sites-itemmaster_NARS/default/dwb6aeef70/swatch/0607845094906.jpg'],\n",
       "  'salePrice': '₩ 41,000',\n",
       "  'originalPrice': '₩ 41,000',\n",
       "  'color': '비비안',\n",
       "  'category': '',\n",
       "  'brand': '나스',\n",
       "  'volume': '#'},\n",
       " {'name': '어데이셔스 립스틱 - 비비안',\n",
       "  'url': 'http://www.narscosmetics.co.kr/on/demandware.store/Sites-KR-Site/en_KR/Product-Variation?pid=999NARS000011&dwvar_999NARS000011_color=7845094906',\n",
       "  'image': ['http://en.narscosmetics.co.kr/on/demandware.static/-/Sites-itemmaster_NARS/default/dw398e487a/hi-res/0607845094906.jpg',\n",
       "   'http://en.narscosmetics.co.kr/on/demandware.static/-/Sites-itemmaster_NARS/default/dwb6aeef70/swatch/0607845094906.jpg'],\n",
       "  'salePrice': '₩ 41,000',\n",
       "  'originalPrice': '₩ 41,000',\n",
       "  'color': '비비안',\n",
       "  'category': '',\n",
       "  'brand': '나스',\n",
       "  'volume': '#'},\n",
       " {'name': '어데이셔스 립스틱 - 비비안',\n",
       "  'url': 'http://www.narscosmetics.co.kr/on/demandware.store/Sites-KR-Site/en_KR/Product-Variation?pid=999NARS000011&dwvar_999NARS000011_color=7845094906',\n",
       "  'image': ['http://en.narscosmetics.co.kr/on/demandware.static/-/Sites-itemmaster_NARS/default/dw398e487a/hi-res/0607845094906.jpg',\n",
       "   'http://en.narscosmetics.co.kr/on/demandware.static/-/Sites-itemmaster_NARS/default/dwb6aeef70/swatch/0607845094906.jpg'],\n",
       "  'salePrice': '₩ 41,000',\n",
       "  'originalPrice': '₩ 41,000',\n",
       "  'color': '비비안',\n",
       "  'category': '',\n",
       "  'brand': '나스',\n",
       "  'volume': '#'},\n",
       " {'name': '어데이셔스 립스틱 - 비비안',\n",
       "  'url': 'http://www.narscosmetics.co.kr/on/demandware.store/Sites-KR-Site/en_KR/Product-Variation?pid=999NARS000011&dwvar_999NARS000011_color=7845094906',\n",
       "  'image': ['http://en.narscosmetics.co.kr/on/demandware.static/-/Sites-itemmaster_NARS/default/dw398e487a/hi-res/0607845094906.jpg',\n",
       "   'http://en.narscosmetics.co.kr/on/demandware.static/-/Sites-itemmaster_NARS/default/dwb6aeef70/swatch/0607845094906.jpg'],\n",
       "  'salePrice': '₩ 41,000',\n",
       "  'originalPrice': '₩ 41,000',\n",
       "  'color': '비비안',\n",
       "  'category': '',\n",
       "  'brand': '나스',\n",
       "  'volume': '#'},\n",
       " {'name': '어데이셔스 립스틱 - 비비안',\n",
       "  'url': 'http://www.narscosmetics.co.kr/on/demandware.store/Sites-KR-Site/en_KR/Product-Variation?pid=999NARS000011&dwvar_999NARS000011_color=7845094906',\n",
       "  'image': ['http://en.narscosmetics.co.kr/on/demandware.static/-/Sites-itemmaster_NARS/default/dw398e487a/hi-res/0607845094906.jpg',\n",
       "   'http://en.narscosmetics.co.kr/on/demandware.static/-/Sites-itemmaster_NARS/default/dwb6aeef70/swatch/0607845094906.jpg'],\n",
       "  'salePrice': '₩ 41,000',\n",
       "  'originalPrice': '₩ 41,000',\n",
       "  'color': '비비안',\n",
       "  'category': '',\n",
       "  'brand': '나스',\n",
       "  'volume': '#'},\n",
       " {'name': '어데이셔스 립스틱 - 비비안',\n",
       "  'url': 'http://www.narscosmetics.co.kr/on/demandware.store/Sites-KR-Site/en_KR/Product-Variation?pid=999NARS000011&dwvar_999NARS000011_color=7845094906',\n",
       "  'image': ['http://en.narscosmetics.co.kr/on/demandware.static/-/Sites-itemmaster_NARS/default/dw398e487a/hi-res/0607845094906.jpg',\n",
       "   'http://en.narscosmetics.co.kr/on/demandware.static/-/Sites-itemmaster_NARS/default/dwb6aeef70/swatch/0607845094906.jpg'],\n",
       "  'salePrice': '₩ 41,000',\n",
       "  'originalPrice': '₩ 41,000',\n",
       "  'color': '비비안',\n",
       "  'category': '',\n",
       "  'brand': '나스',\n",
       "  'volume': '#'},\n",
       " {'name': '어데이셔스 립스틱 - 비비안',\n",
       "  'url': 'http://www.narscosmetics.co.kr/on/demandware.store/Sites-KR-Site/en_KR/Product-Variation?pid=999NARS000011&dwvar_999NARS000011_color=7845094906',\n",
       "  'image': ['http://en.narscosmetics.co.kr/on/demandware.static/-/Sites-itemmaster_NARS/default/dw398e487a/hi-res/0607845094906.jpg',\n",
       "   'http://en.narscosmetics.co.kr/on/demandware.static/-/Sites-itemmaster_NARS/default/dwb6aeef70/swatch/0607845094906.jpg'],\n",
       "  'salePrice': '₩ 41,000',\n",
       "  'originalPrice': '₩ 41,000',\n",
       "  'color': '비비안',\n",
       "  'category': '',\n",
       "  'brand': '나스',\n",
       "  'volume': '#'},\n",
       " {'name': '어데이셔스 립스틱 - 비비안',\n",
       "  'url': 'http://www.narscosmetics.co.kr/on/demandware.store/Sites-KR-Site/en_KR/Product-Variation?pid=999NARS000011&dwvar_999NARS000011_color=7845094906',\n",
       "  'image': ['http://en.narscosmetics.co.kr/on/demandware.static/-/Sites-itemmaster_NARS/default/dw398e487a/hi-res/0607845094906.jpg',\n",
       "   'http://en.narscosmetics.co.kr/on/demandware.static/-/Sites-itemmaster_NARS/default/dwb6aeef70/swatch/0607845094906.jpg'],\n",
       "  'salePrice': '₩ 41,000',\n",
       "  'originalPrice': '₩ 41,000',\n",
       "  'color': '비비안',\n",
       "  'category': '',\n",
       "  'brand': '나스',\n",
       "  'volume': '#'},\n",
       " {'name': '어데이셔스 립스틱 - 비비안',\n",
       "  'url': 'http://www.narscosmetics.co.kr/on/demandware.store/Sites-KR-Site/en_KR/Product-Variation?pid=999NARS000011&dwvar_999NARS000011_color=7845094906',\n",
       "  'image': ['http://en.narscosmetics.co.kr/on/demandware.static/-/Sites-itemmaster_NARS/default/dw398e487a/hi-res/0607845094906.jpg',\n",
       "   'http://en.narscosmetics.co.kr/on/demandware.static/-/Sites-itemmaster_NARS/default/dwb6aeef70/swatch/0607845094906.jpg'],\n",
       "  'salePrice': '₩ 41,000',\n",
       "  'originalPrice': '₩ 41,000',\n",
       "  'color': '비비안',\n",
       "  'category': '',\n",
       "  'brand': '나스',\n",
       "  'volume': '#'},\n",
       " {'name': '어데이셔스 립스틱 - 비비안',\n",
       "  'url': 'http://www.narscosmetics.co.kr/on/demandware.store/Sites-KR-Site/en_KR/Product-Variation?pid=999NARS000011&dwvar_999NARS000011_color=7845094906',\n",
       "  'image': ['http://en.narscosmetics.co.kr/on/demandware.static/-/Sites-itemmaster_NARS/default/dw398e487a/hi-res/0607845094906.jpg',\n",
       "   'http://en.narscosmetics.co.kr/on/demandware.static/-/Sites-itemmaster_NARS/default/dwb6aeef70/swatch/0607845094906.jpg'],\n",
       "  'salePrice': '₩ 41,000',\n",
       "  'originalPrice': '₩ 41,000',\n",
       "  'color': '비비안',\n",
       "  'category': '',\n",
       "  'brand': '나스',\n",
       "  'volume': '#'},\n",
       " {'name': '어데이셔스 립스틱 - 비비안',\n",
       "  'url': 'http://www.narscosmetics.co.kr/on/demandware.store/Sites-KR-Site/en_KR/Product-Variation?pid=999NARS000011&dwvar_999NARS000011_color=7845094906',\n",
       "  'image': ['http://en.narscosmetics.co.kr/on/demandware.static/-/Sites-itemmaster_NARS/default/dw398e487a/hi-res/0607845094906.jpg',\n",
       "   'http://en.narscosmetics.co.kr/on/demandware.static/-/Sites-itemmaster_NARS/default/dwb6aeef70/swatch/0607845094906.jpg'],\n",
       "  'salePrice': '₩ 41,000',\n",
       "  'originalPrice': '₩ 41,000',\n",
       "  'color': '비비안',\n",
       "  'category': '',\n",
       "  'brand': '나스',\n",
       "  'volume': '#'},\n",
       " {'name': '어데이셔스 립스틱 - 비비안',\n",
       "  'url': 'http://www.narscosmetics.co.kr/on/demandware.store/Sites-KR-Site/en_KR/Product-Variation?pid=999NARS000011&dwvar_999NARS000011_color=7845094906',\n",
       "  'image': ['http://en.narscosmetics.co.kr/on/demandware.static/-/Sites-itemmaster_NARS/default/dw398e487a/hi-res/0607845094906.jpg',\n",
       "   'http://en.narscosmetics.co.kr/on/demandware.static/-/Sites-itemmaster_NARS/default/dwb6aeef70/swatch/0607845094906.jpg'],\n",
       "  'salePrice': '₩ 41,000',\n",
       "  'originalPrice': '₩ 41,000',\n",
       "  'color': '비비안',\n",
       "  'category': '',\n",
       "  'brand': '나스',\n",
       "  'volume': '#'},\n",
       " {'name': '어데이셔스 립스틱 - 비비안',\n",
       "  'url': 'http://www.narscosmetics.co.kr/on/demandware.store/Sites-KR-Site/en_KR/Product-Variation?pid=999NARS000011&dwvar_999NARS000011_color=7845094906',\n",
       "  'image': ['http://en.narscosmetics.co.kr/on/demandware.static/-/Sites-itemmaster_NARS/default/dw398e487a/hi-res/0607845094906.jpg',\n",
       "   'http://en.narscosmetics.co.kr/on/demandware.static/-/Sites-itemmaster_NARS/default/dwb6aeef70/swatch/0607845094906.jpg'],\n",
       "  'salePrice': '₩ 41,000',\n",
       "  'originalPrice': '₩ 41,000',\n",
       "  'color': '비비안',\n",
       "  'category': '',\n",
       "  'brand': '나스',\n",
       "  'volume': '#'},\n",
       " {'name': '어데이셔스 립스틱 - 비비안',\n",
       "  'url': 'http://www.narscosmetics.co.kr/on/demandware.store/Sites-KR-Site/en_KR/Product-Variation?pid=999NARS000011&dwvar_999NARS000011_color=7845094906',\n",
       "  'image': ['http://en.narscosmetics.co.kr/on/demandware.static/-/Sites-itemmaster_NARS/default/dw398e487a/hi-res/0607845094906.jpg',\n",
       "   'http://en.narscosmetics.co.kr/on/demandware.static/-/Sites-itemmaster_NARS/default/dwb6aeef70/swatch/0607845094906.jpg'],\n",
       "  'salePrice': '₩ 41,000',\n",
       "  'originalPrice': '₩ 41,000',\n",
       "  'color': '비비안',\n",
       "  'category': '',\n",
       "  'brand': '나스',\n",
       "  'volume': '#'},\n",
       " {'name': '어데이셔스 립스틱 - 비비안',\n",
       "  'url': 'http://www.narscosmetics.co.kr/on/demandware.store/Sites-KR-Site/en_KR/Product-Variation?pid=999NARS000011&dwvar_999NARS000011_color=7845094906',\n",
       "  'image': ['http://en.narscosmetics.co.kr/on/demandware.static/-/Sites-itemmaster_NARS/default/dw398e487a/hi-res/0607845094906.jpg',\n",
       "   'http://en.narscosmetics.co.kr/on/demandware.static/-/Sites-itemmaster_NARS/default/dwb6aeef70/swatch/0607845094906.jpg'],\n",
       "  'salePrice': '₩ 41,000',\n",
       "  'originalPrice': '₩ 41,000',\n",
       "  'color': '비비안',\n",
       "  'category': '',\n",
       "  'brand': '나스',\n",
       "  'volume': '#'},\n",
       " {'name': '어데이셔스 립스틱 - 비비안',\n",
       "  'url': 'http://www.narscosmetics.co.kr/on/demandware.store/Sites-KR-Site/en_KR/Product-Variation?pid=999NARS000011&dwvar_999NARS000011_color=7845094906',\n",
       "  'image': ['http://en.narscosmetics.co.kr/on/demandware.static/-/Sites-itemmaster_NARS/default/dw398e487a/hi-res/0607845094906.jpg',\n",
       "   'http://en.narscosmetics.co.kr/on/demandware.static/-/Sites-itemmaster_NARS/default/dwb6aeef70/swatch/0607845094906.jpg'],\n",
       "  'salePrice': '₩ 41,000',\n",
       "  'originalPrice': '₩ 41,000',\n",
       "  'color': '비비안',\n",
       "  'category': '',\n",
       "  'brand': '나스',\n",
       "  'volume': '#'},\n",
       " {'name': '어데이셔스 립스틱 - 비비안',\n",
       "  'url': 'http://www.narscosmetics.co.kr/on/demandware.store/Sites-KR-Site/en_KR/Product-Variation?pid=999NARS000011&dwvar_999NARS000011_color=7845094906',\n",
       "  'image': ['http://en.narscosmetics.co.kr/on/demandware.static/-/Sites-itemmaster_NARS/default/dw398e487a/hi-res/0607845094906.jpg',\n",
       "   'http://en.narscosmetics.co.kr/on/demandware.static/-/Sites-itemmaster_NARS/default/dwb6aeef70/swatch/0607845094906.jpg'],\n",
       "  'salePrice': '₩ 41,000',\n",
       "  'originalPrice': '₩ 41,000',\n",
       "  'color': '비비안',\n",
       "  'category': '',\n",
       "  'brand': '나스',\n",
       "  'volume': '#'},\n",
       " {'name': '어데이셔스 립스틱 - 비비안',\n",
       "  'url': 'http://www.narscosmetics.co.kr/on/demandware.store/Sites-KR-Site/en_KR/Product-Variation?pid=999NARS000011&dwvar_999NARS000011_color=7845094906',\n",
       "  'image': ['http://en.narscosmetics.co.kr/on/demandware.static/-/Sites-itemmaster_NARS/default/dw398e487a/hi-res/0607845094906.jpg',\n",
       "   'http://en.narscosmetics.co.kr/on/demandware.static/-/Sites-itemmaster_NARS/default/dwb6aeef70/swatch/0607845094906.jpg'],\n",
       "  'salePrice': '₩ 41,000',\n",
       "  'originalPrice': '₩ 41,000',\n",
       "  'color': '비비안',\n",
       "  'category': '',\n",
       "  'brand': '나스',\n",
       "  'volume': '#'},\n",
       " {'name': '어데이셔스 립스틱 - 비비안',\n",
       "  'url': 'http://www.narscosmetics.co.kr/on/demandware.store/Sites-KR-Site/en_KR/Product-Variation?pid=999NARS000011&dwvar_999NARS000011_color=7845094906',\n",
       "  'image': ['http://en.narscosmetics.co.kr/on/demandware.static/-/Sites-itemmaster_NARS/default/dw398e487a/hi-res/0607845094906.jpg',\n",
       "   'http://en.narscosmetics.co.kr/on/demandware.static/-/Sites-itemmaster_NARS/default/dwb6aeef70/swatch/0607845094906.jpg'],\n",
       "  'salePrice': '₩ 41,000',\n",
       "  'originalPrice': '₩ 41,000',\n",
       "  'color': '비비안',\n",
       "  'category': '',\n",
       "  'brand': '나스',\n",
       "  'volume': '#'},\n",
       " {'name': '어데이셔스 립스틱 - 비비안',\n",
       "  'url': 'http://www.narscosmetics.co.kr/on/demandware.store/Sites-KR-Site/en_KR/Product-Variation?pid=999NARS000011&dwvar_999NARS000011_color=7845094906',\n",
       "  'image': ['http://en.narscosmetics.co.kr/on/demandware.static/-/Sites-itemmaster_NARS/default/dw398e487a/hi-res/0607845094906.jpg',\n",
       "   'http://en.narscosmetics.co.kr/on/demandware.static/-/Sites-itemmaster_NARS/default/dwb6aeef70/swatch/0607845094906.jpg'],\n",
       "  'salePrice': '₩ 41,000',\n",
       "  'originalPrice': '₩ 41,000',\n",
       "  'color': '비비안',\n",
       "  'category': '',\n",
       "  'brand': '나스',\n",
       "  'volume': '#'},\n",
       " {'name': '어데이셔스 립스틱 - 비비안',\n",
       "  'url': 'http://www.narscosmetics.co.kr/on/demandware.store/Sites-KR-Site/en_KR/Product-Variation?pid=999NARS000011&dwvar_999NARS000011_color=7845094906',\n",
       "  'image': ['http://en.narscosmetics.co.kr/on/demandware.static/-/Sites-itemmaster_NARS/default/dw398e487a/hi-res/0607845094906.jpg',\n",
       "   'http://en.narscosmetics.co.kr/on/demandware.static/-/Sites-itemmaster_NARS/default/dwb6aeef70/swatch/0607845094906.jpg'],\n",
       "  'salePrice': '₩ 41,000',\n",
       "  'originalPrice': '₩ 41,000',\n",
       "  'color': '비비안',\n",
       "  'category': '',\n",
       "  'brand': '나스',\n",
       "  'volume': '#'},\n",
       " {'name': '어데이셔스 립스틱 - 비비안',\n",
       "  'url': 'http://www.narscosmetics.co.kr/on/demandware.store/Sites-KR-Site/en_KR/Product-Variation?pid=999NARS000011&dwvar_999NARS000011_color=7845094906',\n",
       "  'image': ['http://en.narscosmetics.co.kr/on/demandware.static/-/Sites-itemmaster_NARS/default/dw398e487a/hi-res/0607845094906.jpg',\n",
       "   'http://en.narscosmetics.co.kr/on/demandware.static/-/Sites-itemmaster_NARS/default/dwb6aeef70/swatch/0607845094906.jpg'],\n",
       "  'salePrice': '₩ 41,000',\n",
       "  'originalPrice': '₩ 41,000',\n",
       "  'color': '비비안',\n",
       "  'category': '',\n",
       "  'brand': '나스',\n",
       "  'volume': '#'},\n",
       " {'name': '어데이셔스 립스틱 - 비비안',\n",
       "  'url': 'http://www.narscosmetics.co.kr/on/demandware.store/Sites-KR-Site/en_KR/Product-Variation?pid=999NARS000011&dwvar_999NARS000011_color=7845094906',\n",
       "  'image': ['http://en.narscosmetics.co.kr/on/demandware.static/-/Sites-itemmaster_NARS/default/dw398e487a/hi-res/0607845094906.jpg',\n",
       "   'http://en.narscosmetics.co.kr/on/demandware.static/-/Sites-itemmaster_NARS/default/dwb6aeef70/swatch/0607845094906.jpg'],\n",
       "  'salePrice': '₩ 41,000',\n",
       "  'originalPrice': '₩ 41,000',\n",
       "  'color': '비비안',\n",
       "  'category': '',\n",
       "  'brand': '나스',\n",
       "  'volume': '#'},\n",
       " {'name': '어데이셔스 립스틱 - 비비안',\n",
       "  'url': 'http://www.narscosmetics.co.kr/on/demandware.store/Sites-KR-Site/en_KR/Product-Variation?pid=999NARS000011&dwvar_999NARS000011_color=7845094906',\n",
       "  'image': ['http://en.narscosmetics.co.kr/on/demandware.static/-/Sites-itemmaster_NARS/default/dw398e487a/hi-res/0607845094906.jpg',\n",
       "   'http://en.narscosmetics.co.kr/on/demandware.static/-/Sites-itemmaster_NARS/default/dwb6aeef70/swatch/0607845094906.jpg'],\n",
       "  'salePrice': '₩ 41,000',\n",
       "  'originalPrice': '₩ 41,000',\n",
       "  'color': '비비안',\n",
       "  'category': '',\n",
       "  'brand': '나스',\n",
       "  'volume': '#'},\n",
       " {'name': '어데이셔스 립스틱 - 비비안',\n",
       "  'url': 'http://www.narscosmetics.co.kr/on/demandware.store/Sites-KR-Site/en_KR/Product-Variation?pid=999NARS000011&dwvar_999NARS000011_color=7845094906',\n",
       "  'image': ['http://en.narscosmetics.co.kr/on/demandware.static/-/Sites-itemmaster_NARS/default/dw398e487a/hi-res/0607845094906.jpg',\n",
       "   'http://en.narscosmetics.co.kr/on/demandware.static/-/Sites-itemmaster_NARS/default/dwb6aeef70/swatch/0607845094906.jpg'],\n",
       "  'salePrice': '₩ 41,000',\n",
       "  'originalPrice': '₩ 41,000',\n",
       "  'color': '비비안',\n",
       "  'category': '',\n",
       "  'brand': '나스',\n",
       "  'volume': '#'},\n",
       " {'name': '어데이셔스 립스틱 - 비비안',\n",
       "  'url': 'http://www.narscosmetics.co.kr/on/demandware.store/Sites-KR-Site/en_KR/Product-Variation?pid=999NARS000011&dwvar_999NARS000011_color=7845094906',\n",
       "  'image': ['http://en.narscosmetics.co.kr/on/demandware.static/-/Sites-itemmaster_NARS/default/dw398e487a/hi-res/0607845094906.jpg',\n",
       "   'http://en.narscosmetics.co.kr/on/demandware.static/-/Sites-itemmaster_NARS/default/dwb6aeef70/swatch/0607845094906.jpg'],\n",
       "  'salePrice': '₩ 41,000',\n",
       "  'originalPrice': '₩ 41,000',\n",
       "  'color': '비비안',\n",
       "  'category': '',\n",
       "  'brand': '나스',\n",
       "  'volume': '#'},\n",
       " {'name': '어데이셔스 립스틱 - 비비안',\n",
       "  'url': 'http://www.narscosmetics.co.kr/on/demandware.store/Sites-KR-Site/en_KR/Product-Variation?pid=999NARS000011&dwvar_999NARS000011_color=7845094906',\n",
       "  'image': ['http://en.narscosmetics.co.kr/on/demandware.static/-/Sites-itemmaster_NARS/default/dw398e487a/hi-res/0607845094906.jpg',\n",
       "   'http://en.narscosmetics.co.kr/on/demandware.static/-/Sites-itemmaster_NARS/default/dwb6aeef70/swatch/0607845094906.jpg'],\n",
       "  'salePrice': '₩ 41,000',\n",
       "  'originalPrice': '₩ 41,000',\n",
       "  'color': '비비안',\n",
       "  'category': '',\n",
       "  'brand': '나스',\n",
       "  'volume': '#'},\n",
       " {'name': '어데이셔스 립스틱 - 비비안',\n",
       "  'url': 'http://www.narscosmetics.co.kr/on/demandware.store/Sites-KR-Site/en_KR/Product-Variation?pid=999NARS000011&dwvar_999NARS000011_color=7845094906',\n",
       "  'image': ['http://en.narscosmetics.co.kr/on/demandware.static/-/Sites-itemmaster_NARS/default/dw398e487a/hi-res/0607845094906.jpg',\n",
       "   'http://en.narscosmetics.co.kr/on/demandware.static/-/Sites-itemmaster_NARS/default/dwb6aeef70/swatch/0607845094906.jpg'],\n",
       "  'salePrice': '₩ 41,000',\n",
       "  'originalPrice': '₩ 41,000',\n",
       "  'color': '비비안',\n",
       "  'category': '',\n",
       "  'brand': '나스',\n",
       "  'volume': '#'},\n",
       " {'name': '어데이셔스 립스틱 - 비비안',\n",
       "  'url': 'http://www.narscosmetics.co.kr/on/demandware.store/Sites-KR-Site/en_KR/Product-Variation?pid=999NARS000011&dwvar_999NARS000011_color=7845094906',\n",
       "  'image': ['http://en.narscosmetics.co.kr/on/demandware.static/-/Sites-itemmaster_NARS/default/dw398e487a/hi-res/0607845094906.jpg',\n",
       "   'http://en.narscosmetics.co.kr/on/demandware.static/-/Sites-itemmaster_NARS/default/dwb6aeef70/swatch/0607845094906.jpg'],\n",
       "  'salePrice': '₩ 41,000',\n",
       "  'originalPrice': '₩ 41,000',\n",
       "  'color': '비비안',\n",
       "  'category': '',\n",
       "  'brand': '나스',\n",
       "  'volume': '#'},\n",
       " {'name': '어데이셔스 립스틱 - 비비안',\n",
       "  'url': 'http://www.narscosmetics.co.kr/on/demandware.store/Sites-KR-Site/en_KR/Product-Variation?pid=999NARS000011&dwvar_999NARS000011_color=7845094906',\n",
       "  'image': ['http://en.narscosmetics.co.kr/on/demandware.static/-/Sites-itemmaster_NARS/default/dw398e487a/hi-res/0607845094906.jpg',\n",
       "   'http://en.narscosmetics.co.kr/on/demandware.static/-/Sites-itemmaster_NARS/default/dwb6aeef70/swatch/0607845094906.jpg'],\n",
       "  'salePrice': '₩ 41,000',\n",
       "  'originalPrice': '₩ 41,000',\n",
       "  'color': '비비안',\n",
       "  'category': '',\n",
       "  'brand': '나스',\n",
       "  'volume': '#'},\n",
       " {'name': '어데이셔스 립스틱 - 비비안',\n",
       "  'url': 'http://www.narscosmetics.co.kr/on/demandware.store/Sites-KR-Site/en_KR/Product-Variation?pid=999NARS000011&dwvar_999NARS000011_color=7845094906',\n",
       "  'image': ['http://en.narscosmetics.co.kr/on/demandware.static/-/Sites-itemmaster_NARS/default/dw398e487a/hi-res/0607845094906.jpg',\n",
       "   'http://en.narscosmetics.co.kr/on/demandware.static/-/Sites-itemmaster_NARS/default/dwb6aeef70/swatch/0607845094906.jpg'],\n",
       "  'salePrice': '₩ 41,000',\n",
       "  'originalPrice': '₩ 41,000',\n",
       "  'color': '비비안',\n",
       "  'category': '',\n",
       "  'brand': '나스',\n",
       "  'volume': '#'},\n",
       " {'name': '어데이셔스 립스틱 - 비비안',\n",
       "  'url': 'http://www.narscosmetics.co.kr/on/demandware.store/Sites-KR-Site/en_KR/Product-Variation?pid=999NARS000011&dwvar_999NARS000011_color=7845094906',\n",
       "  'image': ['http://en.narscosmetics.co.kr/on/demandware.static/-/Sites-itemmaster_NARS/default/dw398e487a/hi-res/0607845094906.jpg',\n",
       "   'http://en.narscosmetics.co.kr/on/demandware.static/-/Sites-itemmaster_NARS/default/dwb6aeef70/swatch/0607845094906.jpg'],\n",
       "  'salePrice': '₩ 41,000',\n",
       "  'originalPrice': '₩ 41,000',\n",
       "  'color': '비비안',\n",
       "  'category': '',\n",
       "  'brand': '나스',\n",
       "  'volume': '#'},\n",
       " {'name': '어데이셔스 립스틱 - 비비안',\n",
       "  'url': 'http://www.narscosmetics.co.kr/on/demandware.store/Sites-KR-Site/en_KR/Product-Variation?pid=999NARS000011&dwvar_999NARS000011_color=7845094906',\n",
       "  'image': ['http://en.narscosmetics.co.kr/on/demandware.static/-/Sites-itemmaster_NARS/default/dw398e487a/hi-res/0607845094906.jpg',\n",
       "   'http://en.narscosmetics.co.kr/on/demandware.static/-/Sites-itemmaster_NARS/default/dwb6aeef70/swatch/0607845094906.jpg'],\n",
       "  'salePrice': '₩ 41,000',\n",
       "  'originalPrice': '₩ 41,000',\n",
       "  'color': '비비안',\n",
       "  'category': '',\n",
       "  'brand': '나스',\n",
       "  'volume': '#'},\n",
       " {'name': '어데이셔스 립스틱 - 비비안',\n",
       "  'url': 'http://www.narscosmetics.co.kr/on/demandware.store/Sites-KR-Site/en_KR/Product-Variation?pid=999NARS000011&dwvar_999NARS000011_color=7845094906',\n",
       "  'image': ['http://en.narscosmetics.co.kr/on/demandware.static/-/Sites-itemmaster_NARS/default/dw398e487a/hi-res/0607845094906.jpg',\n",
       "   'http://en.narscosmetics.co.kr/on/demandware.static/-/Sites-itemmaster_NARS/default/dwb6aeef70/swatch/0607845094906.jpg'],\n",
       "  'salePrice': '₩ 41,000',\n",
       "  'originalPrice': '₩ 41,000',\n",
       "  'color': '비비안',\n",
       "  'category': '',\n",
       "  'brand': '나스',\n",
       "  'volume': '#'},\n",
       " {'name': '어데이셔스 립스틱 - 비비안',\n",
       "  'url': 'http://www.narscosmetics.co.kr/on/demandware.store/Sites-KR-Site/en_KR/Product-Variation?pid=999NARS000011&dwvar_999NARS000011_color=7845094906',\n",
       "  'image': ['http://en.narscosmetics.co.kr/on/demandware.static/-/Sites-itemmaster_NARS/default/dw398e487a/hi-res/0607845094906.jpg',\n",
       "   'http://en.narscosmetics.co.kr/on/demandware.static/-/Sites-itemmaster_NARS/default/dwb6aeef70/swatch/0607845094906.jpg'],\n",
       "  'salePrice': '₩ 41,000',\n",
       "  'originalPrice': '₩ 41,000',\n",
       "  'color': '비비안',\n",
       "  'category': '',\n",
       "  'brand': '나스',\n",
       "  'volume': '#'},\n",
       " {'name': '어데이셔스 립스틱 - 비비안',\n",
       "  'url': 'http://www.narscosmetics.co.kr/on/demandware.store/Sites-KR-Site/en_KR/Product-Variation?pid=999NARS000011&dwvar_999NARS000011_color=7845094906',\n",
       "  'image': ['http://en.narscosmetics.co.kr/on/demandware.static/-/Sites-itemmaster_NARS/default/dw398e487a/hi-res/0607845094906.jpg',\n",
       "   'http://en.narscosmetics.co.kr/on/demandware.static/-/Sites-itemmaster_NARS/default/dwb6aeef70/swatch/0607845094906.jpg'],\n",
       "  'salePrice': '₩ 41,000',\n",
       "  'originalPrice': '₩ 41,000',\n",
       "  'color': '비비안',\n",
       "  'category': '',\n",
       "  'brand': '나스',\n",
       "  'volume': '#'},\n",
       " {'name': '어데이셔스 립스틱 - 비비안',\n",
       "  'url': 'http://www.narscosmetics.co.kr/on/demandware.store/Sites-KR-Site/en_KR/Product-Variation?pid=999NARS000011&dwvar_999NARS000011_color=7845094906',\n",
       "  'image': ['http://en.narscosmetics.co.kr/on/demandware.static/-/Sites-itemmaster_NARS/default/dw398e487a/hi-res/0607845094906.jpg',\n",
       "   'http://en.narscosmetics.co.kr/on/demandware.static/-/Sites-itemmaster_NARS/default/dwb6aeef70/swatch/0607845094906.jpg'],\n",
       "  'salePrice': '₩ 41,000',\n",
       "  'originalPrice': '₩ 41,000',\n",
       "  'color': '비비안',\n",
       "  'category': '',\n",
       "  'brand': '나스',\n",
       "  'volume': '#'},\n",
       " {'name': '어데이셔스 립스틱 - 비비안',\n",
       "  'url': 'http://www.narscosmetics.co.kr/on/demandware.store/Sites-KR-Site/en_KR/Product-Variation?pid=999NARS000011&dwvar_999NARS000011_color=7845094906',\n",
       "  'image': ['http://en.narscosmetics.co.kr/on/demandware.static/-/Sites-itemmaster_NARS/default/dw398e487a/hi-res/0607845094906.jpg',\n",
       "   'http://en.narscosmetics.co.kr/on/demandware.static/-/Sites-itemmaster_NARS/default/dwb6aeef70/swatch/0607845094906.jpg'],\n",
       "  'salePrice': '₩ 41,000',\n",
       "  'originalPrice': '₩ 41,000',\n",
       "  'color': '비비안',\n",
       "  'category': '',\n",
       "  'brand': '나스',\n",
       "  'volume': '#'},\n",
       " {'name': '어데이셔스 립스틱 - 비비안',\n",
       "  'url': 'http://www.narscosmetics.co.kr/on/demandware.store/Sites-KR-Site/en_KR/Product-Variation?pid=999NARS000011&dwvar_999NARS000011_color=7845094906',\n",
       "  'image': ['http://en.narscosmetics.co.kr/on/demandware.static/-/Sites-itemmaster_NARS/default/dw398e487a/hi-res/0607845094906.jpg',\n",
       "   'http://en.narscosmetics.co.kr/on/demandware.static/-/Sites-itemmaster_NARS/default/dwb6aeef70/swatch/0607845094906.jpg'],\n",
       "  'salePrice': '₩ 41,000',\n",
       "  'originalPrice': '₩ 41,000',\n",
       "  'color': '비비안',\n",
       "  'category': '',\n",
       "  'brand': '나스',\n",
       "  'volume': '#'},\n",
       " {'name': '어데이셔스 립스틱 - 비비안',\n",
       "  'url': 'http://www.narscosmetics.co.kr/on/demandware.store/Sites-KR-Site/en_KR/Product-Variation?pid=999NARS000011&dwvar_999NARS000011_color=7845094906',\n",
       "  'image': ['http://en.narscosmetics.co.kr/on/demandware.static/-/Sites-itemmaster_NARS/default/dw398e487a/hi-res/0607845094906.jpg',\n",
       "   'http://en.narscosmetics.co.kr/on/demandware.static/-/Sites-itemmaster_NARS/default/dwb6aeef70/swatch/0607845094906.jpg'],\n",
       "  'salePrice': '₩ 41,000',\n",
       "  'originalPrice': '₩ 41,000',\n",
       "  'color': '비비안',\n",
       "  'category': '',\n",
       "  'brand': '나스',\n",
       "  'volume': '#'},\n",
       " {'name': '어데이셔스 립스틱 - 비비안',\n",
       "  'url': 'http://www.narscosmetics.co.kr/on/demandware.store/Sites-KR-Site/en_KR/Product-Variation?pid=999NARS000011&dwvar_999NARS000011_color=7845094906',\n",
       "  'image': ['http://en.narscosmetics.co.kr/on/demandware.static/-/Sites-itemmaster_NARS/default/dw398e487a/hi-res/0607845094906.jpg',\n",
       "   'http://en.narscosmetics.co.kr/on/demandware.static/-/Sites-itemmaster_NARS/default/dwb6aeef70/swatch/0607845094906.jpg'],\n",
       "  'salePrice': '₩ 41,000',\n",
       "  'originalPrice': '₩ 41,000',\n",
       "  'color': '비비안',\n",
       "  'category': '',\n",
       "  'brand': '나스',\n",
       "  'volume': '#'},\n",
       " {'name': '어데이셔스 립스틱 - 비비안',\n",
       "  'url': 'http://www.narscosmetics.co.kr/on/demandware.store/Sites-KR-Site/en_KR/Product-Variation?pid=999NARS000011&dwvar_999NARS000011_color=7845094906',\n",
       "  'image': ['http://en.narscosmetics.co.kr/on/demandware.static/-/Sites-itemmaster_NARS/default/dw398e487a/hi-res/0607845094906.jpg',\n",
       "   'http://en.narscosmetics.co.kr/on/demandware.static/-/Sites-itemmaster_NARS/default/dwb6aeef70/swatch/0607845094906.jpg'],\n",
       "  'salePrice': '₩ 41,000',\n",
       "  'originalPrice': '₩ 41,000',\n",
       "  'color': '비비안',\n",
       "  'category': '',\n",
       "  'brand': '나스',\n",
       "  'volume': '#'},\n",
       " {'name': '어데이셔스 립스틱 - 비비안',\n",
       "  'url': 'http://www.narscosmetics.co.kr/on/demandware.store/Sites-KR-Site/en_KR/Product-Variation?pid=999NARS000011&dwvar_999NARS000011_color=7845094906',\n",
       "  'image': ['http://en.narscosmetics.co.kr/on/demandware.static/-/Sites-itemmaster_NARS/default/dw398e487a/hi-res/0607845094906.jpg',\n",
       "   'http://en.narscosmetics.co.kr/on/demandware.static/-/Sites-itemmaster_NARS/default/dwb6aeef70/swatch/0607845094906.jpg'],\n",
       "  'salePrice': '₩ 41,000',\n",
       "  'originalPrice': '₩ 41,000',\n",
       "  'color': '비비안',\n",
       "  'category': '',\n",
       "  'brand': '나스',\n",
       "  'volume': '#'},\n",
       " {'name': '어데이셔스 립스틱 - 비비안',\n",
       "  'url': 'http://www.narscosmetics.co.kr/on/demandware.store/Sites-KR-Site/en_KR/Product-Variation?pid=999NARS000011&dwvar_999NARS000011_color=7845094906',\n",
       "  'image': ['http://en.narscosmetics.co.kr/on/demandware.static/-/Sites-itemmaster_NARS/default/dw398e487a/hi-res/0607845094906.jpg',\n",
       "   'http://en.narscosmetics.co.kr/on/demandware.static/-/Sites-itemmaster_NARS/default/dwb6aeef70/swatch/0607845094906.jpg'],\n",
       "  'salePrice': '₩ 41,000',\n",
       "  'originalPrice': '₩ 41,000',\n",
       "  'color': '비비안',\n",
       "  'category': '',\n",
       "  'brand': '나스',\n",
       "  'volume': '#'},\n",
       " {'name': '벨벳 매트 립 펜슬 듀오',\n",
       "  'url': 'http://www.narscosmetics.co.kr/chaos-velvet-matte-lip-pencil-duo/0607845058687.html',\n",
       "  'image': ['http://en.narscosmetics.co.kr/on/demandware.static/-/Sites-itemmaster_NARS/default/dwee5ffd6d/hi-res/0607845058687.jpg',\n",
       "   'http://en.narscosmetics.co.kr/on/demandware.static/-/Sites-itemmaster_NARS/default/dw0f4209da/hi-res/0607845058687_2.jpg',\n",
       "   'http://en.narscosmetics.co.kr/on/demandware.static/-/Sites-itemmaster_NARS/default/dw3c2da93f/hi-res/0607845058687_3.jpg',\n",
       "   'http://en.narscosmetics.co.kr/on/demandware.static/-/Sites-itemmaster_NARS/default/dwfb86afb4/shade/0607845058687_01.jpg',\n",
       "   'http://en.narscosmetics.co.kr/on/demandware.static/-/Sites-itemmaster_NARS/default/dw3147b722/shade/0607845058687_02.jpg',\n",
       "   'http://en.narscosmetics.co.kr/on/demandware.static/-/Sites-itemmaster_NARS/default/dw6afdf351/alt1/0607845058687.jpg',\n",
       "   'http://en.narscosmetics.co.kr/on/demandware.static/-/Sites-itemmaster_NARS/default/dwb610a204/alt2/0607845058687.jpg'],\n",
       "  'salePrice': '₩ 42,000',\n",
       "  'originalPrice': '₩ 42,000',\n",
       "  'color': '#',\n",
       "  'category': '',\n",
       "  'brand': '나스',\n",
       "  'volume': '#'},\n",
       " {'name': '풀 바이닐 립 라커 - 에버글레이즈',\n",
       "  'url': 'http://www.narscosmetics.co.kr/on/demandware.store/Sites-KR-Site/en_KR/Product-Variation?pid=999NAC0000071&dwvar_999NAC0000071_color=7845024392',\n",
       "  'image': ['http://en.narscosmetics.co.kr/on/demandware.static/-/Sites-itemmaster_NARS/default/dw6331da8f/hi-res/0607845024392.jpg',\n",
       "   'http://en.narscosmetics.co.kr/on/demandware.static/-/Sites-itemmaster_NARS/default/dwfc258004/swatch/0607845024392.jpg'],\n",
       "  'salePrice': '₩ 38,000',\n",
       "  'originalPrice': '₩ 38,000',\n",
       "  'color': '에버글레이즈',\n",
       "  'category': '',\n",
       "  'brand': '나스',\n",
       "  'volume': '#'},\n",
       " {'name': '풀 바이닐 립 라커 - 에버글레이즈',\n",
       "  'url': 'http://www.narscosmetics.co.kr/on/demandware.store/Sites-KR-Site/en_KR/Product-Variation?pid=999NAC0000071&dwvar_999NAC0000071_color=7845024392',\n",
       "  'image': ['http://en.narscosmetics.co.kr/on/demandware.static/-/Sites-itemmaster_NARS/default/dw6331da8f/hi-res/0607845024392.jpg',\n",
       "   'http://en.narscosmetics.co.kr/on/demandware.static/-/Sites-itemmaster_NARS/default/dwfc258004/swatch/0607845024392.jpg'],\n",
       "  'salePrice': '₩ 38,000',\n",
       "  'originalPrice': '₩ 38,000',\n",
       "  'color': '에버글레이즈',\n",
       "  'category': '',\n",
       "  'brand': '나스',\n",
       "  'volume': '#'},\n",
       " {'name': '풀 바이닐 립 라커 - 에버글레이즈',\n",
       "  'url': 'http://www.narscosmetics.co.kr/on/demandware.store/Sites-KR-Site/en_KR/Product-Variation?pid=999NAC0000071&dwvar_999NAC0000071_color=7845024392',\n",
       "  'image': ['http://en.narscosmetics.co.kr/on/demandware.static/-/Sites-itemmaster_NARS/default/dw6331da8f/hi-res/0607845024392.jpg',\n",
       "   'http://en.narscosmetics.co.kr/on/demandware.static/-/Sites-itemmaster_NARS/default/dwfc258004/swatch/0607845024392.jpg'],\n",
       "  'salePrice': '₩ 38,000',\n",
       "  'originalPrice': '₩ 38,000',\n",
       "  'color': '에버글레이즈',\n",
       "  'category': '',\n",
       "  'brand': '나스',\n",
       "  'volume': '#'},\n",
       " {'name': '풀 바이닐 립 라커 - 에버글레이즈',\n",
       "  'url': 'http://www.narscosmetics.co.kr/on/demandware.store/Sites-KR-Site/en_KR/Product-Variation?pid=999NAC0000071&dwvar_999NAC0000071_color=7845024392',\n",
       "  'image': ['http://en.narscosmetics.co.kr/on/demandware.static/-/Sites-itemmaster_NARS/default/dw6331da8f/hi-res/0607845024392.jpg',\n",
       "   'http://en.narscosmetics.co.kr/on/demandware.static/-/Sites-itemmaster_NARS/default/dwfc258004/swatch/0607845024392.jpg'],\n",
       "  'salePrice': '₩ 38,000',\n",
       "  'originalPrice': '₩ 38,000',\n",
       "  'color': '에버글레이즈',\n",
       "  'category': '',\n",
       "  'brand': '나스',\n",
       "  'volume': '#'},\n",
       " {'name': '풀 바이닐 립 라커 - 에버글레이즈',\n",
       "  'url': 'http://www.narscosmetics.co.kr/on/demandware.store/Sites-KR-Site/en_KR/Product-Variation?pid=999NAC0000071&dwvar_999NAC0000071_color=7845024392',\n",
       "  'image': ['http://en.narscosmetics.co.kr/on/demandware.static/-/Sites-itemmaster_NARS/default/dw6331da8f/hi-res/0607845024392.jpg',\n",
       "   'http://en.narscosmetics.co.kr/on/demandware.static/-/Sites-itemmaster_NARS/default/dwfc258004/swatch/0607845024392.jpg'],\n",
       "  'salePrice': '₩ 38,000',\n",
       "  'originalPrice': '₩ 38,000',\n",
       "  'color': '에버글레이즈',\n",
       "  'category': '',\n",
       "  'brand': '나스',\n",
       "  'volume': '#'},\n",
       " {'name': '풀 바이닐 립 라커 - 에버글레이즈',\n",
       "  'url': 'http://www.narscosmetics.co.kr/on/demandware.store/Sites-KR-Site/en_KR/Product-Variation?pid=999NAC0000071&dwvar_999NAC0000071_color=7845024392',\n",
       "  'image': ['http://en.narscosmetics.co.kr/on/demandware.static/-/Sites-itemmaster_NARS/default/dw6331da8f/hi-res/0607845024392.jpg',\n",
       "   'http://en.narscosmetics.co.kr/on/demandware.static/-/Sites-itemmaster_NARS/default/dwfc258004/swatch/0607845024392.jpg'],\n",
       "  'salePrice': '₩ 38,000',\n",
       "  'originalPrice': '₩ 38,000',\n",
       "  'color': '에버글레이즈',\n",
       "  'category': '',\n",
       "  'brand': '나스',\n",
       "  'volume': '#'},\n",
       " {'name': '풀 바이닐 립 라커 - 에버글레이즈',\n",
       "  'url': 'http://www.narscosmetics.co.kr/on/demandware.store/Sites-KR-Site/en_KR/Product-Variation?pid=999NAC0000071&dwvar_999NAC0000071_color=7845024392',\n",
       "  'image': ['http://en.narscosmetics.co.kr/on/demandware.static/-/Sites-itemmaster_NARS/default/dw6331da8f/hi-res/0607845024392.jpg',\n",
       "   'http://en.narscosmetics.co.kr/on/demandware.static/-/Sites-itemmaster_NARS/default/dwfc258004/swatch/0607845024392.jpg'],\n",
       "  'salePrice': '₩ 38,000',\n",
       "  'originalPrice': '₩ 38,000',\n",
       "  'color': '에버글레이즈',\n",
       "  'category': '',\n",
       "  'brand': '나스',\n",
       "  'volume': '#'},\n",
       " {'name': '풀 바이닐 립 라커 - 에버글레이즈',\n",
       "  'url': 'http://www.narscosmetics.co.kr/on/demandware.store/Sites-KR-Site/en_KR/Product-Variation?pid=999NAC0000071&dwvar_999NAC0000071_color=7845024392',\n",
       "  'image': ['http://en.narscosmetics.co.kr/on/demandware.static/-/Sites-itemmaster_NARS/default/dw6331da8f/hi-res/0607845024392.jpg',\n",
       "   'http://en.narscosmetics.co.kr/on/demandware.static/-/Sites-itemmaster_NARS/default/dwfc258004/swatch/0607845024392.jpg'],\n",
       "  'salePrice': '₩ 38,000',\n",
       "  'originalPrice': '₩ 38,000',\n",
       "  'color': '에버글레이즈',\n",
       "  'category': '',\n",
       "  'brand': '나스',\n",
       "  'volume': '#'},\n",
       " {'name': '풀 바이닐 립 라커 - 에버글레이즈',\n",
       "  'url': 'http://www.narscosmetics.co.kr/on/demandware.store/Sites-KR-Site/en_KR/Product-Variation?pid=999NAC0000071&dwvar_999NAC0000071_color=7845024392',\n",
       "  'image': ['http://en.narscosmetics.co.kr/on/demandware.static/-/Sites-itemmaster_NARS/default/dw6331da8f/hi-res/0607845024392.jpg',\n",
       "   'http://en.narscosmetics.co.kr/on/demandware.static/-/Sites-itemmaster_NARS/default/dwfc258004/swatch/0607845024392.jpg'],\n",
       "  'salePrice': '₩ 38,000',\n",
       "  'originalPrice': '₩ 38,000',\n",
       "  'color': '에버글레이즈',\n",
       "  'category': '',\n",
       "  'brand': '나스',\n",
       "  'volume': '#'},\n",
       " {'name': '풀 바이닐 립 라커 - 에버글레이즈',\n",
       "  'url': 'http://www.narscosmetics.co.kr/on/demandware.store/Sites-KR-Site/en_KR/Product-Variation?pid=999NAC0000071&dwvar_999NAC0000071_color=7845024392',\n",
       "  'image': ['http://en.narscosmetics.co.kr/on/demandware.static/-/Sites-itemmaster_NARS/default/dw6331da8f/hi-res/0607845024392.jpg',\n",
       "   'http://en.narscosmetics.co.kr/on/demandware.static/-/Sites-itemmaster_NARS/default/dwfc258004/swatch/0607845024392.jpg'],\n",
       "  'salePrice': '₩ 38,000',\n",
       "  'originalPrice': '₩ 38,000',\n",
       "  'color': '에버글레이즈',\n",
       "  'category': '',\n",
       "  'brand': '나스',\n",
       "  'volume': '#'},\n",
       " {'name': '포이즌 로즈 립 파우더 팔레트',\n",
       "  'url': 'http://www.narscosmetics.co.kr/poison-rose-lip-powder-palette/0607845084754.html',\n",
       "  'image': ['http://en.narscosmetics.co.kr/on/demandware.static/-/Sites-itemmaster_NARS/default/dwee13a651/hi-res/0607845084754.png',\n",
       "   'http://en.narscosmetics.co.kr/on/demandware.static/-/Sites-itemmaster_NARS/default/dw171a3f3a/alt1/erdem1.jpg',\n",
       "   'http://en.narscosmetics.co.kr/on/demandware.static/-/Sites-itemmaster_NARS/default/dw66db9a52/alt2/0607845084754.jpg',\n",
       "   'http://en.narscosmetics.co.kr/on/demandware.static/-/Sites-itemmaster_NARS/default/dw819233a3/alt3/0607845084754.jpg'],\n",
       "  'salePrice': '₩ 65,000',\n",
       "  'originalPrice': '₩ 65,000',\n",
       "  'color': '#',\n",
       "  'category': '',\n",
       "  'brand': '나스',\n",
       "  'volume': '#'},\n",
       " {'name': '쉬어 립스틱 - 탕가니카',\n",
       "  'url': 'http://www.narscosmetics.co.kr/on/demandware.store/Sites-KR-Site/en_KR/Product-Variation?pid=999NACSHRLS01&dwvar_999NACSHRLS01_color=7845010258',\n",
       "  'image': ['http://en.narscosmetics.co.kr/on/demandware.static/-/Sites-itemmaster_NARS/default/dwb5cef8bc/hi-res/0607845010258.jpg',\n",
       "   'http://en.narscosmetics.co.kr/on/demandware.static/-/Sites-itemmaster_NARS/default/dw6bc6f2c5/alt1/0607845010258.jpg',\n",
       "   'http://en.narscosmetics.co.kr/on/demandware.static/Sites-KR-Site/-/en_KR/v1546225498151/images/noimageshadesmall.png'],\n",
       "  'salePrice': '₩ 37,000',\n",
       "  'originalPrice': '₩ 37,000',\n",
       "  'color': '탕가니카',\n",
       "  'category': '',\n",
       "  'brand': '나스',\n",
       "  'volume': '#'},\n",
       " {'name': '쉬어 립스틱 - 탕가니카',\n",
       "  'url': 'http://www.narscosmetics.co.kr/on/demandware.store/Sites-KR-Site/en_KR/Product-Variation?pid=999NACSHRLS01&dwvar_999NACSHRLS01_color=7845010258',\n",
       "  'image': ['http://en.narscosmetics.co.kr/on/demandware.static/-/Sites-itemmaster_NARS/default/dwb5cef8bc/hi-res/0607845010258.jpg',\n",
       "   'http://en.narscosmetics.co.kr/on/demandware.static/-/Sites-itemmaster_NARS/default/dw6bc6f2c5/alt1/0607845010258.jpg',\n",
       "   'http://en.narscosmetics.co.kr/on/demandware.static/Sites-KR-Site/-/en_KR/v1546225498151/images/noimageshadesmall.png'],\n",
       "  'salePrice': '₩ 37,000',\n",
       "  'originalPrice': '₩ 37,000',\n",
       "  'color': '탕가니카',\n",
       "  'category': '',\n",
       "  'brand': '나스',\n",
       "  'volume': '#'},\n",
       " {'name': '쉬어 립스틱 - 탕가니카',\n",
       "  'url': 'http://www.narscosmetics.co.kr/on/demandware.store/Sites-KR-Site/en_KR/Product-Variation?pid=999NACSHRLS01&dwvar_999NACSHRLS01_color=7845010258',\n",
       "  'image': ['http://en.narscosmetics.co.kr/on/demandware.static/-/Sites-itemmaster_NARS/default/dwb5cef8bc/hi-res/0607845010258.jpg',\n",
       "   'http://en.narscosmetics.co.kr/on/demandware.static/-/Sites-itemmaster_NARS/default/dw6bc6f2c5/alt1/0607845010258.jpg',\n",
       "   'http://en.narscosmetics.co.kr/on/demandware.static/Sites-KR-Site/-/en_KR/v1546225498151/images/noimageshadesmall.png'],\n",
       "  'salePrice': '₩ 37,000',\n",
       "  'originalPrice': '₩ 37,000',\n",
       "  'color': '탕가니카',\n",
       "  'category': '',\n",
       "  'brand': '나스',\n",
       "  'volume': '#'},\n",
       " {'name': '쉬어 립스틱 - 탕가니카',\n",
       "  'url': 'http://www.narscosmetics.co.kr/on/demandware.store/Sites-KR-Site/en_KR/Product-Variation?pid=999NACSHRLS01&dwvar_999NACSHRLS01_color=7845010258',\n",
       "  'image': ['http://en.narscosmetics.co.kr/on/demandware.static/-/Sites-itemmaster_NARS/default/dwb5cef8bc/hi-res/0607845010258.jpg',\n",
       "   'http://en.narscosmetics.co.kr/on/demandware.static/-/Sites-itemmaster_NARS/default/dw6bc6f2c5/alt1/0607845010258.jpg',\n",
       "   'http://en.narscosmetics.co.kr/on/demandware.static/Sites-KR-Site/-/en_KR/v1546225498151/images/noimageshadesmall.png'],\n",
       "  'salePrice': '₩ 37,000',\n",
       "  'originalPrice': '₩ 37,000',\n",
       "  'color': '탕가니카',\n",
       "  'category': '',\n",
       "  'brand': '나스',\n",
       "  'volume': '#'},\n",
       " {'name': '쉬어 립스틱 - 탕가니카',\n",
       "  'url': 'http://www.narscosmetics.co.kr/on/demandware.store/Sites-KR-Site/en_KR/Product-Variation?pid=999NACSHRLS01&dwvar_999NACSHRLS01_color=7845010258',\n",
       "  'image': ['http://en.narscosmetics.co.kr/on/demandware.static/-/Sites-itemmaster_NARS/default/dwb5cef8bc/hi-res/0607845010258.jpg',\n",
       "   'http://en.narscosmetics.co.kr/on/demandware.static/-/Sites-itemmaster_NARS/default/dw6bc6f2c5/alt1/0607845010258.jpg',\n",
       "   'http://en.narscosmetics.co.kr/on/demandware.static/Sites-KR-Site/-/en_KR/v1546225498151/images/noimageshadesmall.png'],\n",
       "  'salePrice': '₩ 37,000',\n",
       "  'originalPrice': '₩ 37,000',\n",
       "  'color': '탕가니카',\n",
       "  'category': '',\n",
       "  'brand': '나스',\n",
       "  'volume': '#'},\n",
       " {'name': '쉬어 립스틱 - 탕가니카',\n",
       "  'url': 'http://www.narscosmetics.co.kr/on/demandware.store/Sites-KR-Site/en_KR/Product-Variation?pid=999NACSHRLS01&dwvar_999NACSHRLS01_color=7845010258',\n",
       "  'image': ['http://en.narscosmetics.co.kr/on/demandware.static/-/Sites-itemmaster_NARS/default/dwb5cef8bc/hi-res/0607845010258.jpg',\n",
       "   'http://en.narscosmetics.co.kr/on/demandware.static/-/Sites-itemmaster_NARS/default/dw6bc6f2c5/alt1/0607845010258.jpg',\n",
       "   'http://en.narscosmetics.co.kr/on/demandware.static/Sites-KR-Site/-/en_KR/v1546225498151/images/noimageshadesmall.png'],\n",
       "  'salePrice': '₩ 37,000',\n",
       "  'originalPrice': '₩ 37,000',\n",
       "  'color': '탕가니카',\n",
       "  'category': '',\n",
       "  'brand': '나스',\n",
       "  'volume': '#'},\n",
       " {'name': '쉬어 립스틱 - 탕가니카',\n",
       "  'url': 'http://www.narscosmetics.co.kr/on/demandware.store/Sites-KR-Site/en_KR/Product-Variation?pid=999NACSHRLS01&dwvar_999NACSHRLS01_color=7845010258',\n",
       "  'image': ['http://en.narscosmetics.co.kr/on/demandware.static/-/Sites-itemmaster_NARS/default/dwb5cef8bc/hi-res/0607845010258.jpg',\n",
       "   'http://en.narscosmetics.co.kr/on/demandware.static/-/Sites-itemmaster_NARS/default/dw6bc6f2c5/alt1/0607845010258.jpg',\n",
       "   'http://en.narscosmetics.co.kr/on/demandware.static/Sites-KR-Site/-/en_KR/v1546225498151/images/noimageshadesmall.png'],\n",
       "  'salePrice': '₩ 37,000',\n",
       "  'originalPrice': '₩ 37,000',\n",
       "  'color': '탕가니카',\n",
       "  'category': '',\n",
       "  'brand': '나스',\n",
       "  'volume': '#'},\n",
       " {'name': '쉬어 립스틱 - 탕가니카',\n",
       "  'url': 'http://www.narscosmetics.co.kr/on/demandware.store/Sites-KR-Site/en_KR/Product-Variation?pid=999NACSHRLS01&dwvar_999NACSHRLS01_color=7845010258',\n",
       "  'image': ['http://en.narscosmetics.co.kr/on/demandware.static/-/Sites-itemmaster_NARS/default/dwb5cef8bc/hi-res/0607845010258.jpg',\n",
       "   'http://en.narscosmetics.co.kr/on/demandware.static/-/Sites-itemmaster_NARS/default/dw6bc6f2c5/alt1/0607845010258.jpg',\n",
       "   'http://en.narscosmetics.co.kr/on/demandware.static/Sites-KR-Site/-/en_KR/v1546225498151/images/noimageshadesmall.png'],\n",
       "  'salePrice': '₩ 37,000',\n",
       "  'originalPrice': '₩ 37,000',\n",
       "  'color': '탕가니카',\n",
       "  'category': '',\n",
       "  'brand': '나스',\n",
       "  'volume': '#'},\n",
       " {'name': '쉬어 립스틱 - 탕가니카',\n",
       "  'url': 'http://www.narscosmetics.co.kr/on/demandware.store/Sites-KR-Site/en_KR/Product-Variation?pid=999NACSHRLS01&dwvar_999NACSHRLS01_color=7845010258',\n",
       "  'image': ['http://en.narscosmetics.co.kr/on/demandware.static/-/Sites-itemmaster_NARS/default/dwb5cef8bc/hi-res/0607845010258.jpg',\n",
       "   'http://en.narscosmetics.co.kr/on/demandware.static/-/Sites-itemmaster_NARS/default/dw6bc6f2c5/alt1/0607845010258.jpg',\n",
       "   'http://en.narscosmetics.co.kr/on/demandware.static/Sites-KR-Site/-/en_KR/v1546225498151/images/noimageshadesmall.png'],\n",
       "  'salePrice': '₩ 37,000',\n",
       "  'originalPrice': '₩ 37,000',\n",
       "  'color': '탕가니카',\n",
       "  'category': '',\n",
       "  'brand': '나스',\n",
       "  'volume': '#'},\n",
       " {'name': '쉬어 립스틱 - 탕가니카',\n",
       "  'url': 'http://www.narscosmetics.co.kr/on/demandware.store/Sites-KR-Site/en_KR/Product-Variation?pid=999NACSHRLS01&dwvar_999NACSHRLS01_color=7845010258',\n",
       "  'image': ['http://en.narscosmetics.co.kr/on/demandware.static/-/Sites-itemmaster_NARS/default/dwb5cef8bc/hi-res/0607845010258.jpg',\n",
       "   'http://en.narscosmetics.co.kr/on/demandware.static/-/Sites-itemmaster_NARS/default/dw6bc6f2c5/alt1/0607845010258.jpg',\n",
       "   'http://en.narscosmetics.co.kr/on/demandware.static/Sites-KR-Site/-/en_KR/v1546225498151/images/noimageshadesmall.png'],\n",
       "  'salePrice': '₩ 37,000',\n",
       "  'originalPrice': '₩ 37,000',\n",
       "  'color': '탕가니카',\n",
       "  'category': '',\n",
       "  'brand': '나스',\n",
       "  'volume': '#'},\n",
       " {'name': '쉬어 립스틱 - 탕가니카',\n",
       "  'url': 'http://www.narscosmetics.co.kr/on/demandware.store/Sites-KR-Site/en_KR/Product-Variation?pid=999NACSHRLS01&dwvar_999NACSHRLS01_color=7845010258',\n",
       "  'image': ['http://en.narscosmetics.co.kr/on/demandware.static/-/Sites-itemmaster_NARS/default/dwb5cef8bc/hi-res/0607845010258.jpg',\n",
       "   'http://en.narscosmetics.co.kr/on/demandware.static/-/Sites-itemmaster_NARS/default/dw6bc6f2c5/alt1/0607845010258.jpg',\n",
       "   'http://en.narscosmetics.co.kr/on/demandware.static/Sites-KR-Site/-/en_KR/v1546225498151/images/noimageshadesmall.png'],\n",
       "  'salePrice': '₩ 37,000',\n",
       "  'originalPrice': '₩ 37,000',\n",
       "  'color': '탕가니카',\n",
       "  'category': '',\n",
       "  'brand': '나스',\n",
       "  'volume': '#'},\n",
       " {'name': '쉬어 립스틱 - 탕가니카',\n",
       "  'url': 'http://www.narscosmetics.co.kr/on/demandware.store/Sites-KR-Site/en_KR/Product-Variation?pid=999NACSHRLS01&dwvar_999NACSHRLS01_color=7845010258',\n",
       "  'image': ['http://en.narscosmetics.co.kr/on/demandware.static/-/Sites-itemmaster_NARS/default/dwb5cef8bc/hi-res/0607845010258.jpg',\n",
       "   'http://en.narscosmetics.co.kr/on/demandware.static/-/Sites-itemmaster_NARS/default/dw6bc6f2c5/alt1/0607845010258.jpg',\n",
       "   'http://en.narscosmetics.co.kr/on/demandware.static/Sites-KR-Site/-/en_KR/v1546225498151/images/noimageshadesmall.png'],\n",
       "  'salePrice': '₩ 37,000',\n",
       "  'originalPrice': '₩ 37,000',\n",
       "  'color': '탕가니카',\n",
       "  'category': '',\n",
       "  'brand': '나스',\n",
       "  'volume': '#'},\n",
       " {'name': '쉬어 립스틱 - 탕가니카',\n",
       "  'url': 'http://www.narscosmetics.co.kr/on/demandware.store/Sites-KR-Site/en_KR/Product-Variation?pid=999NACSHRLS01&dwvar_999NACSHRLS01_color=7845010258',\n",
       "  'image': ['http://en.narscosmetics.co.kr/on/demandware.static/-/Sites-itemmaster_NARS/default/dwb5cef8bc/hi-res/0607845010258.jpg',\n",
       "   'http://en.narscosmetics.co.kr/on/demandware.static/-/Sites-itemmaster_NARS/default/dw6bc6f2c5/alt1/0607845010258.jpg',\n",
       "   'http://en.narscosmetics.co.kr/on/demandware.static/Sites-KR-Site/-/en_KR/v1546225498151/images/noimageshadesmall.png'],\n",
       "  'salePrice': '₩ 37,000',\n",
       "  'originalPrice': '₩ 37,000',\n",
       "  'color': '탕가니카',\n",
       "  'category': '',\n",
       "  'brand': '나스',\n",
       "  'volume': '#'},\n",
       " {'name': '나스 벨벳 매트 립 펜슬 세트 매닉',\n",
       "  'url': 'http://www.narscosmetics.co.kr/manic-velvet-matte-lip-pencil-set/0607845083818.html',\n",
       "  'image': ['http://en.narscosmetics.co.kr/on/demandware.static/-/Sites-itemmaster_NARS/default/dw381ba9ea/hi-res/0607845083818.jpg'],\n",
       "  'salePrice': '₩ 79,000',\n",
       "  'originalPrice': '₩ 79,000',\n",
       "  'color': '#',\n",
       "  'category': '',\n",
       "  'brand': '나스',\n",
       "  'volume': '#'},\n",
       " {'name': '세미 매트 립스틱 - 트랜스유럽 익스프레스',\n",
       "  'url': 'http://www.narscosmetics.co.kr/on/demandware.store/Sites-KR-Site/en_KR/Product-Variation?pid=999NACSMTLS01&dwvar_999NACSMTLS01_color=7845010128',\n",
       "  'image': ['http://en.narscosmetics.co.kr/on/demandware.static/-/Sites-itemmaster_NARS/default/dw5d749f89/hi-res/0607845010128.jpg',\n",
       "   'http://en.narscosmetics.co.kr/on/demandware.static/-/Sites-itemmaster_NARS/default/dwebd455f3/swatch/0607845010128.jpg'],\n",
       "  'salePrice': '₩ 37,000',\n",
       "  'originalPrice': '₩ 37,000',\n",
       "  'color': '트랜스유럽 익스프레스',\n",
       "  'category': '',\n",
       "  'brand': '나스',\n",
       "  'volume': '#'},\n",
       " {'name': '세미 매트 립스틱 - 트랜스유럽 익스프레스',\n",
       "  'url': 'http://www.narscosmetics.co.kr/on/demandware.store/Sites-KR-Site/en_KR/Product-Variation?pid=999NACSMTLS01&dwvar_999NACSMTLS01_color=7845010128',\n",
       "  'image': ['http://en.narscosmetics.co.kr/on/demandware.static/-/Sites-itemmaster_NARS/default/dw5d749f89/hi-res/0607845010128.jpg',\n",
       "   'http://en.narscosmetics.co.kr/on/demandware.static/-/Sites-itemmaster_NARS/default/dwebd455f3/swatch/0607845010128.jpg'],\n",
       "  'salePrice': '₩ 37,000',\n",
       "  'originalPrice': '₩ 37,000',\n",
       "  'color': '트랜스유럽 익스프레스',\n",
       "  'category': '',\n",
       "  'brand': '나스',\n",
       "  'volume': '#'},\n",
       " {'name': '세미 매트 립스틱 - 트랜스유럽 익스프레스',\n",
       "  'url': 'http://www.narscosmetics.co.kr/on/demandware.store/Sites-KR-Site/en_KR/Product-Variation?pid=999NACSMTLS01&dwvar_999NACSMTLS01_color=7845010128',\n",
       "  'image': ['http://en.narscosmetics.co.kr/on/demandware.static/-/Sites-itemmaster_NARS/default/dw5d749f89/hi-res/0607845010128.jpg',\n",
       "   'http://en.narscosmetics.co.kr/on/demandware.static/-/Sites-itemmaster_NARS/default/dwebd455f3/swatch/0607845010128.jpg'],\n",
       "  'salePrice': '₩ 37,000',\n",
       "  'originalPrice': '₩ 37,000',\n",
       "  'color': '트랜스유럽 익스프레스',\n",
       "  'category': '',\n",
       "  'brand': '나스',\n",
       "  'volume': '#'},\n",
       " {'name': '세미 매트 립스틱 - 트랜스유럽 익스프레스',\n",
       "  'url': 'http://www.narscosmetics.co.kr/on/demandware.store/Sites-KR-Site/en_KR/Product-Variation?pid=999NACSMTLS01&dwvar_999NACSMTLS01_color=7845010128',\n",
       "  'image': ['http://en.narscosmetics.co.kr/on/demandware.static/-/Sites-itemmaster_NARS/default/dw5d749f89/hi-res/0607845010128.jpg',\n",
       "   'http://en.narscosmetics.co.kr/on/demandware.static/-/Sites-itemmaster_NARS/default/dwebd455f3/swatch/0607845010128.jpg'],\n",
       "  'salePrice': '₩ 37,000',\n",
       "  'originalPrice': '₩ 37,000',\n",
       "  'color': '트랜스유럽 익스프레스',\n",
       "  'category': '',\n",
       "  'brand': '나스',\n",
       "  'volume': '#'},\n",
       " {'name': '세미 매트 립스틱 - 트랜스유럽 익스프레스',\n",
       "  'url': 'http://www.narscosmetics.co.kr/on/demandware.store/Sites-KR-Site/en_KR/Product-Variation?pid=999NACSMTLS01&dwvar_999NACSMTLS01_color=7845010128',\n",
       "  'image': ['http://en.narscosmetics.co.kr/on/demandware.static/-/Sites-itemmaster_NARS/default/dw5d749f89/hi-res/0607845010128.jpg',\n",
       "   'http://en.narscosmetics.co.kr/on/demandware.static/-/Sites-itemmaster_NARS/default/dwebd455f3/swatch/0607845010128.jpg'],\n",
       "  'salePrice': '₩ 37,000',\n",
       "  'originalPrice': '₩ 37,000',\n",
       "  'color': '트랜스유럽 익스프레스',\n",
       "  'category': '',\n",
       "  'brand': '나스',\n",
       "  'volume': '#'},\n",
       " {'name': '세미 매트 립스틱 - 트랜스유럽 익스프레스',\n",
       "  'url': 'http://www.narscosmetics.co.kr/on/demandware.store/Sites-KR-Site/en_KR/Product-Variation?pid=999NACSMTLS01&dwvar_999NACSMTLS01_color=7845010128',\n",
       "  'image': ['http://en.narscosmetics.co.kr/on/demandware.static/-/Sites-itemmaster_NARS/default/dw5d749f89/hi-res/0607845010128.jpg',\n",
       "   'http://en.narscosmetics.co.kr/on/demandware.static/-/Sites-itemmaster_NARS/default/dwebd455f3/swatch/0607845010128.jpg'],\n",
       "  'salePrice': '₩ 37,000',\n",
       "  'originalPrice': '₩ 37,000',\n",
       "  'color': '트랜스유럽 익스프레스',\n",
       "  'category': '',\n",
       "  'brand': '나스',\n",
       "  'volume': '#'},\n",
       " {'name': '세미 매트 립스틱 - 트랜스유럽 익스프레스',\n",
       "  'url': 'http://www.narscosmetics.co.kr/on/demandware.store/Sites-KR-Site/en_KR/Product-Variation?pid=999NACSMTLS01&dwvar_999NACSMTLS01_color=7845010128',\n",
       "  'image': ['http://en.narscosmetics.co.kr/on/demandware.static/-/Sites-itemmaster_NARS/default/dw5d749f89/hi-res/0607845010128.jpg',\n",
       "   'http://en.narscosmetics.co.kr/on/demandware.static/-/Sites-itemmaster_NARS/default/dwebd455f3/swatch/0607845010128.jpg'],\n",
       "  'salePrice': '₩ 37,000',\n",
       "  'originalPrice': '₩ 37,000',\n",
       "  'color': '트랜스유럽 익스프레스',\n",
       "  'category': '',\n",
       "  'brand': '나스',\n",
       "  'volume': '#'},\n",
       " {'name': '세미 매트 립스틱 - 트랜스유럽 익스프레스',\n",
       "  'url': 'http://www.narscosmetics.co.kr/on/demandware.store/Sites-KR-Site/en_KR/Product-Variation?pid=999NACSMTLS01&dwvar_999NACSMTLS01_color=7845010128',\n",
       "  'image': ['http://en.narscosmetics.co.kr/on/demandware.static/-/Sites-itemmaster_NARS/default/dw5d749f89/hi-res/0607845010128.jpg',\n",
       "   'http://en.narscosmetics.co.kr/on/demandware.static/-/Sites-itemmaster_NARS/default/dwebd455f3/swatch/0607845010128.jpg'],\n",
       "  'salePrice': '₩ 37,000',\n",
       "  'originalPrice': '₩ 37,000',\n",
       "  'color': '트랜스유럽 익스프레스',\n",
       "  'category': '',\n",
       "  'brand': '나스',\n",
       "  'volume': '#'},\n",
       " {'name': '세미 매트 립스틱 - 트랜스유럽 익스프레스',\n",
       "  'url': 'http://www.narscosmetics.co.kr/on/demandware.store/Sites-KR-Site/en_KR/Product-Variation?pid=999NACSMTLS01&dwvar_999NACSMTLS01_color=7845010128',\n",
       "  'image': ['http://en.narscosmetics.co.kr/on/demandware.static/-/Sites-itemmaster_NARS/default/dw5d749f89/hi-res/0607845010128.jpg',\n",
       "   'http://en.narscosmetics.co.kr/on/demandware.static/-/Sites-itemmaster_NARS/default/dwebd455f3/swatch/0607845010128.jpg'],\n",
       "  'salePrice': '₩ 37,000',\n",
       "  'originalPrice': '₩ 37,000',\n",
       "  'color': '트랜스유럽 익스프레스',\n",
       "  'category': '',\n",
       "  'brand': '나스',\n",
       "  'volume': '#'},\n",
       " {'name': '세미 매트 립스틱 - 트랜스유럽 익스프레스',\n",
       "  'url': 'http://www.narscosmetics.co.kr/on/demandware.store/Sites-KR-Site/en_KR/Product-Variation?pid=999NACSMTLS01&dwvar_999NACSMTLS01_color=7845010128',\n",
       "  'image': ['http://en.narscosmetics.co.kr/on/demandware.static/-/Sites-itemmaster_NARS/default/dw5d749f89/hi-res/0607845010128.jpg',\n",
       "   'http://en.narscosmetics.co.kr/on/demandware.static/-/Sites-itemmaster_NARS/default/dwebd455f3/swatch/0607845010128.jpg'],\n",
       "  'salePrice': '₩ 37,000',\n",
       "  'originalPrice': '₩ 37,000',\n",
       "  'color': '트랜스유럽 익스프레스',\n",
       "  'category': '',\n",
       "  'brand': '나스',\n",
       "  'volume': '#'},\n",
       " {'name': '세미 매트 립스틱 - 트랜스유럽 익스프레스',\n",
       "  'url': 'http://www.narscosmetics.co.kr/on/demandware.store/Sites-KR-Site/en_KR/Product-Variation?pid=999NACSMTLS01&dwvar_999NACSMTLS01_color=7845010128',\n",
       "  'image': ['http://en.narscosmetics.co.kr/on/demandware.static/-/Sites-itemmaster_NARS/default/dw5d749f89/hi-res/0607845010128.jpg',\n",
       "   'http://en.narscosmetics.co.kr/on/demandware.static/-/Sites-itemmaster_NARS/default/dwebd455f3/swatch/0607845010128.jpg'],\n",
       "  'salePrice': '₩ 37,000',\n",
       "  'originalPrice': '₩ 37,000',\n",
       "  'color': '트랜스유럽 익스프레스',\n",
       "  'category': '',\n",
       "  'brand': '나스',\n",
       "  'volume': '#'},\n",
       " {'name': '세미 매트 립스틱 - 트랜스유럽 익스프레스',\n",
       "  'url': 'http://www.narscosmetics.co.kr/on/demandware.store/Sites-KR-Site/en_KR/Product-Variation?pid=999NACSMTLS01&dwvar_999NACSMTLS01_color=7845010128',\n",
       "  'image': ['http://en.narscosmetics.co.kr/on/demandware.static/-/Sites-itemmaster_NARS/default/dw5d749f89/hi-res/0607845010128.jpg',\n",
       "   'http://en.narscosmetics.co.kr/on/demandware.static/-/Sites-itemmaster_NARS/default/dwebd455f3/swatch/0607845010128.jpg'],\n",
       "  'salePrice': '₩ 37,000',\n",
       "  'originalPrice': '₩ 37,000',\n",
       "  'color': '트랜스유럽 익스프레스',\n",
       "  'category': '',\n",
       "  'brand': '나스',\n",
       "  'volume': '#'},\n",
       " {'name': '세미 매트 립스틱 - 트랜스유럽 익스프레스',\n",
       "  'url': 'http://www.narscosmetics.co.kr/on/demandware.store/Sites-KR-Site/en_KR/Product-Variation?pid=999NACSMTLS01&dwvar_999NACSMTLS01_color=7845010128',\n",
       "  'image': ['http://en.narscosmetics.co.kr/on/demandware.static/-/Sites-itemmaster_NARS/default/dw5d749f89/hi-res/0607845010128.jpg',\n",
       "   'http://en.narscosmetics.co.kr/on/demandware.static/-/Sites-itemmaster_NARS/default/dwebd455f3/swatch/0607845010128.jpg'],\n",
       "  'salePrice': '₩ 37,000',\n",
       "  'originalPrice': '₩ 37,000',\n",
       "  'color': '트랜스유럽 익스프레스',\n",
       "  'category': '',\n",
       "  'brand': '나스',\n",
       "  'volume': '#'},\n",
       " {'name': '세미 매트 립스틱 - 트랜스유럽 익스프레스',\n",
       "  'url': 'http://www.narscosmetics.co.kr/on/demandware.store/Sites-KR-Site/en_KR/Product-Variation?pid=999NACSMTLS01&dwvar_999NACSMTLS01_color=7845010128',\n",
       "  'image': ['http://en.narscosmetics.co.kr/on/demandware.static/-/Sites-itemmaster_NARS/default/dw5d749f89/hi-res/0607845010128.jpg',\n",
       "   'http://en.narscosmetics.co.kr/on/demandware.static/-/Sites-itemmaster_NARS/default/dwebd455f3/swatch/0607845010128.jpg'],\n",
       "  'salePrice': '₩ 37,000',\n",
       "  'originalPrice': '₩ 37,000',\n",
       "  'color': '트랜스유럽 익스프레스',\n",
       "  'category': '',\n",
       "  'brand': '나스',\n",
       "  'volume': '#'},\n",
       " {'name': '립스틱 - 와일드 플라워',\n",
       "  'url': 'http://www.narscosmetics.co.kr/on/demandware.store/Sites-KR-Site/en_KR/Product-Variation?pid=999NAC0000067&dwvar_999NAC0000067_color=7845094135',\n",
       "  'image': ['http://en.narscosmetics.co.kr/on/demandware.static/-/Sites-itemmaster_NARS/default/dwf2b43159/hi-res/0607845094135.png',\n",
       "   'http://en.narscosmetics.co.kr/on/demandware.static/-/Sites-itemmaster_NARS/default/dw171a3f3a/alt1/erdem1.jpg',\n",
       "   'http://en.narscosmetics.co.kr/on/demandware.static/-/Sites-itemmaster_NARS/default/dw819233a3/alt3/0607845094135.jpg',\n",
       "   'http://en.narscosmetics.co.kr/on/demandware.static/-/Sites-itemmaster_NARS/default/dwad74a757/alt4/0607845094135.jpg',\n",
       "   'http://en.narscosmetics.co.kr/on/demandware.static/Sites-KR-Site/-/en_KR/v1546225498151/images/noimageshadesmall.png'],\n",
       "  'salePrice': '₩ 37,000',\n",
       "  'originalPrice': '₩ 37,000',\n",
       "  'color': '와일드 플라워',\n",
       "  'category': '',\n",
       "  'brand': '나스',\n",
       "  'volume': '#'},\n",
       " {'name': '립스틱 - 와일드 플라워',\n",
       "  'url': 'http://www.narscosmetics.co.kr/on/demandware.store/Sites-KR-Site/en_KR/Product-Variation?pid=999NAC0000067&dwvar_999NAC0000067_color=7845094135',\n",
       "  'image': ['http://en.narscosmetics.co.kr/on/demandware.static/-/Sites-itemmaster_NARS/default/dwf2b43159/hi-res/0607845094135.png',\n",
       "   'http://en.narscosmetics.co.kr/on/demandware.static/-/Sites-itemmaster_NARS/default/dw171a3f3a/alt1/erdem1.jpg',\n",
       "   'http://en.narscosmetics.co.kr/on/demandware.static/-/Sites-itemmaster_NARS/default/dw819233a3/alt3/0607845094135.jpg',\n",
       "   'http://en.narscosmetics.co.kr/on/demandware.static/-/Sites-itemmaster_NARS/default/dwad74a757/alt4/0607845094135.jpg',\n",
       "   'http://en.narscosmetics.co.kr/on/demandware.static/Sites-KR-Site/-/en_KR/v1546225498151/images/noimageshadesmall.png'],\n",
       "  'salePrice': '₩ 37,000',\n",
       "  'originalPrice': '₩ 37,000',\n",
       "  'color': '와일드 플라워',\n",
       "  'category': '',\n",
       "  'brand': '나스',\n",
       "  'volume': '#'},\n",
       " {'name': '립스틱 - 와일드 플라워',\n",
       "  'url': 'http://www.narscosmetics.co.kr/on/demandware.store/Sites-KR-Site/en_KR/Product-Variation?pid=999NAC0000067&dwvar_999NAC0000067_color=7845094135',\n",
       "  'image': ['http://en.narscosmetics.co.kr/on/demandware.static/-/Sites-itemmaster_NARS/default/dwf2b43159/hi-res/0607845094135.png',\n",
       "   'http://en.narscosmetics.co.kr/on/demandware.static/-/Sites-itemmaster_NARS/default/dw171a3f3a/alt1/erdem1.jpg',\n",
       "   'http://en.narscosmetics.co.kr/on/demandware.static/-/Sites-itemmaster_NARS/default/dw819233a3/alt3/0607845094135.jpg',\n",
       "   'http://en.narscosmetics.co.kr/on/demandware.static/-/Sites-itemmaster_NARS/default/dwad74a757/alt4/0607845094135.jpg',\n",
       "   'http://en.narscosmetics.co.kr/on/demandware.static/Sites-KR-Site/-/en_KR/v1546225498151/images/noimageshadesmall.png'],\n",
       "  'salePrice': '₩ 37,000',\n",
       "  'originalPrice': '₩ 37,000',\n",
       "  'color': '와일드 플라워',\n",
       "  'category': '',\n",
       "  'brand': '나스',\n",
       "  'volume': '#'},\n",
       " {'name': '립스틱 - 와일드 플라워',\n",
       "  'url': 'http://www.narscosmetics.co.kr/on/demandware.store/Sites-KR-Site/en_KR/Product-Variation?pid=999NAC0000067&dwvar_999NAC0000067_color=7845094135',\n",
       "  'image': ['http://en.narscosmetics.co.kr/on/demandware.static/-/Sites-itemmaster_NARS/default/dwf2b43159/hi-res/0607845094135.png',\n",
       "   'http://en.narscosmetics.co.kr/on/demandware.static/-/Sites-itemmaster_NARS/default/dw171a3f3a/alt1/erdem1.jpg',\n",
       "   'http://en.narscosmetics.co.kr/on/demandware.static/-/Sites-itemmaster_NARS/default/dw819233a3/alt3/0607845094135.jpg',\n",
       "   'http://en.narscosmetics.co.kr/on/demandware.static/-/Sites-itemmaster_NARS/default/dwad74a757/alt4/0607845094135.jpg',\n",
       "   'http://en.narscosmetics.co.kr/on/demandware.static/Sites-KR-Site/-/en_KR/v1546225498151/images/noimageshadesmall.png'],\n",
       "  'salePrice': '₩ 37,000',\n",
       "  'originalPrice': '₩ 37,000',\n",
       "  'color': '와일드 플라워',\n",
       "  'category': '',\n",
       "  'brand': '나스',\n",
       "  'volume': '#'},\n",
       " {'name': '립스틱 - 와일드 플라워',\n",
       "  'url': 'http://www.narscosmetics.co.kr/on/demandware.store/Sites-KR-Site/en_KR/Product-Variation?pid=999NAC0000067&dwvar_999NAC0000067_color=7845094135',\n",
       "  'image': ['http://en.narscosmetics.co.kr/on/demandware.static/-/Sites-itemmaster_NARS/default/dwf2b43159/hi-res/0607845094135.png',\n",
       "   'http://en.narscosmetics.co.kr/on/demandware.static/-/Sites-itemmaster_NARS/default/dw171a3f3a/alt1/erdem1.jpg',\n",
       "   'http://en.narscosmetics.co.kr/on/demandware.static/-/Sites-itemmaster_NARS/default/dw819233a3/alt3/0607845094135.jpg',\n",
       "   'http://en.narscosmetics.co.kr/on/demandware.static/-/Sites-itemmaster_NARS/default/dwad74a757/alt4/0607845094135.jpg',\n",
       "   'http://en.narscosmetics.co.kr/on/demandware.static/Sites-KR-Site/-/en_KR/v1546225498151/images/noimageshadesmall.png'],\n",
       "  'salePrice': '₩ 37,000',\n",
       "  'originalPrice': '₩ 37,000',\n",
       "  'color': '와일드 플라워',\n",
       "  'category': '',\n",
       "  'brand': '나스',\n",
       "  'volume': '#'},\n",
       " {'name': '립스틱 - 와일드 플라워',\n",
       "  'url': 'http://www.narscosmetics.co.kr/on/demandware.store/Sites-KR-Site/en_KR/Product-Variation?pid=999NAC0000067&dwvar_999NAC0000067_color=7845094135',\n",
       "  'image': ['http://en.narscosmetics.co.kr/on/demandware.static/-/Sites-itemmaster_NARS/default/dwf2b43159/hi-res/0607845094135.png',\n",
       "   'http://en.narscosmetics.co.kr/on/demandware.static/-/Sites-itemmaster_NARS/default/dw171a3f3a/alt1/erdem1.jpg',\n",
       "   'http://en.narscosmetics.co.kr/on/demandware.static/-/Sites-itemmaster_NARS/default/dw819233a3/alt3/0607845094135.jpg',\n",
       "   'http://en.narscosmetics.co.kr/on/demandware.static/-/Sites-itemmaster_NARS/default/dwad74a757/alt4/0607845094135.jpg',\n",
       "   'http://en.narscosmetics.co.kr/on/demandware.static/Sites-KR-Site/-/en_KR/v1546225498151/images/noimageshadesmall.png'],\n",
       "  'salePrice': '₩ 37,000',\n",
       "  'originalPrice': '₩ 37,000',\n",
       "  'color': '와일드 플라워',\n",
       "  'category': '',\n",
       "  'brand': '나스',\n",
       "  'volume': '#'},\n",
       " {'name': '립 글로스 세트',\n",
       "  'url': 'http://www.narscosmetics.co.kr/defiant-lip-gloss-set/0607845083856.html',\n",
       "  'image': ['http://en.narscosmetics.co.kr/on/demandware.static/-/Sites-itemmaster_NARS/default/dw174c6016/hi-res/0607845083856.jpg',\n",
       "   'http://en.narscosmetics.co.kr/on/demandware.static/-/Sites-itemmaster_NARS/default/dwbc6efafe/hi-res/0607845083856_2.jpg',\n",
       "   'http://en.narscosmetics.co.kr/on/demandware.static/-/Sites-itemmaster_NARS/default/dw29bac1a4/hi-res/0607845083856_3.jpg',\n",
       "   'http://en.narscosmetics.co.kr/on/demandware.static/-/Sites-itemmaster_NARS/default/dw9aa6678b/alt1/0607845083856.jpg',\n",
       "   'http://en.narscosmetics.co.kr/on/demandware.static/-/Sites-itemmaster_NARS/default/dw4cbf8450/alt2/0607845083856.jpg'],\n",
       "  'salePrice': '₩ 79,000',\n",
       "  'originalPrice': '₩ 79,000',\n",
       "  'color': '#',\n",
       "  'category': '',\n",
       "  'brand': '나스',\n",
       "  'volume': '#'}]"
      ]
     },
     "execution_count": 132,
     "metadata": {},
     "output_type": "execute_result"
    }
   ],
   "source": [
    "result_json = getItemDetailByUrl(urlList)"
   ]
  },
  {
   "cell_type": "code",
   "execution_count": null,
   "metadata": {},
   "outputs": [],
   "source": [
    "output = json.dumps(result_json,ensure_ascii=False, indent='\\t')\n",
    "\n",
    "writeJSON(output, output_name = 'nars.json')"
   ]
  }
 ],
 "metadata": {
  "kernelspec": {
   "display_name": "Python 3",
   "language": "python",
   "name": "python3"
  },
  "language_info": {
   "codemirror_mode": {
    "name": "ipython",
    "version": 3
   },
   "file_extension": ".py",
   "mimetype": "text/x-python",
   "name": "python",
   "nbconvert_exporter": "python",
   "pygments_lexer": "ipython3",
   "version": "3.6.6"
  }
 },
 "nbformat": 4,
 "nbformat_minor": 2
}
