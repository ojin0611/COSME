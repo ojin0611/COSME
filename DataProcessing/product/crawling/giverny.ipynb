{
 "cells": [
  {
   "cell_type": "code",
   "execution_count": 18,
   "metadata": {},
   "outputs": [],
   "source": [
    "from bs4 import BeautifulSoup as bs              # 데이터파싱 라이브러리\n",
    "from selenium import webdriver\n",
    "import json\n",
    "import platform\n",
    "import re\n",
    "import copy"
   ]
  },
  {
   "cell_type": "code",
   "execution_count": 19,
   "metadata": {},
   "outputs": [],
   "source": [
    "#path = 'chromedriver.exe' # 크롬드라이브 경로 지정  ## 맥과 리눅스는 exe.를 붙이지 않습니다. \n",
    "path = 'chromedriver.exe' if (platform.system() == 'Windows') else '/Users/jg/Desktop/develop/DataTeam/DataProcessing/product/crawling/chromedriver'; # 크롬드라이브 경로 지정  ## 맥과 리눅스는 exe.를 붙이지 않습니다. \n",
    "driver = webdriver.Chrome(path)\n",
    "\n",
    "def writeJSON(jsonString, output_name='data.json'):\n",
    "    with open(output_name,'w',encoding='UTF-8') as file:\n",
    "        file.write(jsonString)"
   ]
  },
  {
   "cell_type": "code",
   "execution_count": 20,
   "metadata": {},
   "outputs": [],
   "source": [
    "driver.get(\"https://www.e-giverny.com/product/sublist.asp?branduid=3\")\n",
    "html = driver.page_source\n",
    "soup = bs(html,'html.parser')\n",
    "moreButton = soup.find('div',{'id':'more_btn'})\n",
    "while moreButton['style'] != 'display: none;':\n",
    "    driver.find_element_by_id('more_btn').click()\n",
    "    html = driver.page_source\n",
    "    soup = bs(html,'html.parser')\n",
    "    moreButton = soup.find('div',{'id':'more_btn'})\n",
    "items = soup.find_all('div',{'class':'list_top'})"
   ]
  },
  {
   "cell_type": "code",
   "execution_count": 48,
   "metadata": {},
   "outputs": [],
   "source": [
    "base_url = 'https://www.e-giverny.com'\n",
    "result_json = []\n",
    "for item in items:\n",
    "    itemClass = {'name':'', 'url':'', 'image':[], 'color':'', 'category':'', 'volume':'',\n",
    "                   'salePrice':'', 'originalPrice':'', 'brand':'지베르니'}\n",
    "    driver.get(base_url + item.a['href'])\n",
    "    html = driver.page_source\n",
    "    soup = bs(html,'html.parser')\n",
    "    itemClass['name'] = ''.join(soup.find('div',{'class':'infoBox'}).h1.contents[0].split()).replace(\"지베르니\", \"\")\n",
    "    itemClass['url'] = driver.current_url\n",
    "    itemClass['originalPrice'] = ''.join(soup.find('div',{'class':'prd_mkprc'}).get_text().split())\n",
    "    itemClass['salePrice'] = ''.join(soup.find('div',{'class':'prd_prc'}).em.get_text().split())\n",
    "    infoOptions = soup.find_all('dl',{'class':'option_section'})\n",
    "    for option in infoOptions:\n",
    "        if option.dt.get_text() == \"용량\":\n",
    "            itemClass['volume'] = option.dd.get_text()\n",
    "            break;\n",
    "    images = soup.find('div', {'id': 'subImg'})\n",
    "    images = images.find_all('img')\n",
    "    #print(len(images.div.span))\n",
    "    for i in images:\n",
    "        itemClass['image'].append(base_url + i['src'])\n",
    "    \n",
    "    select = soup.find('select', {'class': 'select_fild'})\n",
    "    if select is None:\n",
    "        itemClass['color'] = '#'\n",
    "        result_json.append(itemClass)\n",
    "    else:\n",
    "        colors = select.find_all('option')\n",
    "        for color in colors:\n",
    "            if color['value'] == \"0\":\n",
    "                continue\n",
    "            else:\n",
    "                item_dict = copy.deepcopy(itemClass)\n",
    "                item_dict['color'] = color.get_text()\n",
    "                result_json.append(item_dict)"
   ]
  },
  {
   "cell_type": "code",
   "execution_count": 49,
   "metadata": {},
   "outputs": [],
   "source": [
    "output = json.dumps(result_json,ensure_ascii=False, indent='\\t')\n",
    "writeJSON(output, output_name = 'giverny.json')"
   ]
  },
  {
   "cell_type": "code",
   "execution_count": null,
   "metadata": {},
   "outputs": [],
   "source": []
  }
 ],
 "metadata": {
  "kernelspec": {
   "display_name": "Python 3",
   "language": "python",
   "name": "python3"
  },
  "language_info": {
   "codemirror_mode": {
    "name": "ipython",
    "version": 3
   },
   "file_extension": ".py",
   "mimetype": "text/x-python",
   "name": "python",
   "nbconvert_exporter": "python",
   "pygments_lexer": "ipython3",
   "version": "3.6.6"
  }
 },
 "nbformat": 4,
 "nbformat_minor": 2
}
