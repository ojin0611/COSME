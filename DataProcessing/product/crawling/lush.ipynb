{
 "cells": [
  {
   "cell_type": "markdown",
   "metadata": {},
   "source": [
    "# lush"
   ]
  },
  {
   "cell_type": "code",
   "execution_count": 1,
   "metadata": {},
   "outputs": [],
   "source": [
    "from bs4 import BeautifulSoup as bs              # 데이터파싱 라이브러리\n",
    "from selenium import webdriver\n",
    "import json\n",
    "import platform\n",
    "import re\n",
    "import time\n",
    "import copy"
   ]
  },
  {
   "cell_type": "code",
   "execution_count": 2,
   "metadata": {},
   "outputs": [],
   "source": [
    "def getNumber(string):\n",
    "    numExtracter = re.compile('[0-9]+')\n",
    "    return int(''.join(numExtracter.findall(string)))\n",
    "    "
   ]
  },
  {
   "cell_type": "code",
   "execution_count": 3,
   "metadata": {},
   "outputs": [],
   "source": [
    "def getCategoryList():\n",
    "    html = driver.page_source\n",
    "    soup = bs(html, 'html.parser')\n",
    "    categories = soup.find('div',{'class':'all-category-layer category db'}).div.ul.li.ul\n",
    "\n",
    "    categoryList=[]\n",
    "    for category in categories:\n",
    "        if '베스트' in category.a.get_text():\n",
    "            continue\n",
    "        categoryList.append(url_home + category.a['href'][2:])    \n",
    "    return categoryList\n"
   ]
  },
  {
   "cell_type": "code",
   "execution_count": 4,
   "metadata": {},
   "outputs": [],
   "source": [
    "def getItemList():\n",
    "    html = driver.page_source\n",
    "    soup = bs(html, 'html.parser')\n",
    "    items = soup.find('ul',{'class':'prdList'}).find_all('li')\n",
    "    itemList = []\n",
    "    for item in items:\n",
    "        itemList.append(url_home + item.a['href'][2:])\n",
    "    return itemList"
   ]
  },
  {
   "cell_type": "code",
   "execution_count": 5,
   "metadata": {},
   "outputs": [],
   "source": [
    "def readNextPage():\n",
    "    html = driver.page_source\n",
    "    soup = bs(html, 'html.parser')\n",
    "    items = soup.find('ul',{'class':'pagination pagination-sm'})\n",
    "    nextPage = False\n",
    "    for item in items:\n",
    "        if nextPage:\n",
    "            driver.get(url_home +'/goods' + item.a['href'][1:])\n",
    "            nextPage = False\n",
    "        if not item.find('a'):\n",
    "            nextPage = True\n",
    "            if item.get_text() == str(len(items)):\n",
    "                raise"
   ]
  },
  {
   "cell_type": "code",
   "execution_count": 6,
   "metadata": {},
   "outputs": [],
   "source": [
    "def getItem():\n",
    "    html = driver.page_source\n",
    "    soup = bs(html, 'html.parser')\n",
    "    item={}\n",
    "\n",
    "    # name\n",
    "    name = soup.find('div',{'class':'tit'}).get_text().strip()\n",
    "\n",
    "    # image\n",
    "    images = soup.find('div',{'class':'more-thumbnail'}).div.div.div.div.find_all('span')\n",
    "    imageList = []\n",
    "    for image in images:\n",
    "        imageList.append(url_home + image.img['src'])\n",
    "\n",
    "    # category\n",
    "    path\n",
    "    categories = soup.find('div',{'class':'path'}).find_all('div',{'class':'navi'})\n",
    "    category = ''\n",
    "    for c in categories:\n",
    "        category += c.a.get_text().strip()+' > '\n",
    "    category = category[:-3]\n",
    "\n",
    "    # price\n",
    "    salePrice = getNumber(soup.find('strong',text = ' 판매가').parent.div.strong.get_text())\n",
    "    originalPrice = salePrice\n",
    "    \n",
    "    item = {'name':'#', 'url':'#', 'image':'#', 'color':'#', 'category':'#', \n",
    "                   'salePrice':'#', 'originalPrice':'#', 'brand':'#','volume':'#'}\n",
    "\n",
    "    item['name']=name\n",
    "    item['image']=imageList\n",
    "    item['category']=category\n",
    "    item['salePrice']=salePrice\n",
    "    item['originalPrice']=originalPrice\n",
    "    item['brand'] = 'lush'\n",
    "    item['url'] = driver.current_url\n",
    "\n",
    "    items = []    \n",
    "    # volume\n",
    "    volumes = soup.find('select',{'name':'optionSnoInput'})\n",
    "    if volumes:\n",
    "        volumes = volumes.find_all('option')\n",
    "        for volume in volumes:\n",
    "            volume = ''.join(volume.get_text().split())\n",
    "            if '옵션' in volume:\n",
    "                continue\n",
    "\n",
    "            item_copy = copy.deepcopy(item)\n",
    "            item_copy['volume'] = volume\n",
    "            items.append(item_copy)\n",
    "    else:\n",
    "        items.append(item)\n",
    "\n",
    "    display(items)\n",
    "    return items"
   ]
  },
  {
   "cell_type": "code",
   "execution_count": 7,
   "metadata": {},
   "outputs": [],
   "source": [
    "def writeJSON(jsonString, output_name='data.json'):\n",
    "    with open(output_name,'w',encoding='UTF-8') as file:\n",
    "        file.write(jsonString)\n"
   ]
  },
  {
   "cell_type": "code",
   "execution_count": 8,
   "metadata": {},
   "outputs": [],
   "source": [
    "path = 'chromedriver.exe' if (platform.system() == 'Windows') else '/Users/jg/Desktop/develop/DataTeam/DataProcessing/product/crawling/chromedriver';\n",
    "driver = webdriver.Chrome(path)\n",
    "\n",
    "url_home = 'https://lush.co.kr'\n",
    "url_products = 'https://lush.co.kr/goods/goods_list.php?cateCd=001013'\n",
    "driver.get(url_products)"
   ]
  },
  {
   "cell_type": "code",
   "execution_count": 9,
   "metadata": {},
   "outputs": [
    {
     "data": {
      "text/plain": [
       "[{'name': '피치',\n",
       "  'url': 'https://lush.co.kr/goods/goods_view.php?goodsNo=1000000173',\n",
       "  'image': ['https://lush.co.kr/data/goods/19/01/04/1000000173/t50_1000000173_detail_032.png'],\n",
       "  'color': '#',\n",
       "  'category': '러쉬 > 프로모션 > 발렌타인',\n",
       "  'salePrice': 15000,\n",
       "  'originalPrice': 15000,\n",
       "  'brand': 'lush',\n",
       "  'volume': '#'}]"
      ]
     },
     "metadata": {},
     "output_type": "display_data"
    },
    {
     "data": {
      "text/plain": [
       "[{'name': '오버진',\n",
       "  'url': 'https://lush.co.kr/goods/goods_view.php?goodsNo=1000000172',\n",
       "  'image': ['https://lush.co.kr/data/goods/19/01/04/1000000172/t50_1000000172_detail_015.png'],\n",
       "  'color': '#',\n",
       "  'category': '러쉬 > 프로모션 > 발렌타인',\n",
       "  'salePrice': 15000,\n",
       "  'originalPrice': 15000,\n",
       "  'brand': 'lush',\n",
       "  'volume': '#'}]"
      ]
     },
     "metadata": {},
     "output_type": "display_data"
    },
    {
     "data": {
      "text/plain": [
       "[{'name': '유니콘 혼',\n",
       "  'url': 'https://lush.co.kr/goods/goods_view.php?goodsNo=1000000171',\n",
       "  'image': ['https://lush.co.kr/data/goods/19/01/04/1000000171/t50_1000000171_detail_013.png'],\n",
       "  'color': '#',\n",
       "  'category': '러쉬 > 프로모션 > 발렌타인',\n",
       "  'salePrice': 16000,\n",
       "  'originalPrice': 16000,\n",
       "  'brand': 'lush',\n",
       "  'volume': '#'}]"
      ]
     },
     "metadata": {},
     "output_type": "display_data"
    },
    {
     "data": {
      "text/plain": [
       "[{'name': '러브 토큰',\n",
       "  'url': 'https://lush.co.kr/goods/goods_view.php?goodsNo=1000000170',\n",
       "  'image': ['https://lush.co.kr/data/goods/19/01/04/1000000170/t50_1000000170_detail_06.png'],\n",
       "  'color': '#',\n",
       "  'category': '러쉬 > 프로모션 > 발렌타인',\n",
       "  'salePrice': 18000,\n",
       "  'originalPrice': 18000,\n",
       "  'brand': 'lush',\n",
       "  'volume': '#'}]"
      ]
     },
     "metadata": {},
     "output_type": "display_data"
    },
    {
     "data": {
      "text/plain": [
       "[{'name': '식스(블루 앤 옐로우)',\n",
       "  'url': 'https://lush.co.kr/goods/goods_view.php?goodsNo=1000000169',\n",
       "  'image': ['https://lush.co.kr/data/goods/19/01/04/1000000169/t50_1000000169_detail_039.png'],\n",
       "  'color': '#',\n",
       "  'category': '러쉬 > 프로모션 > 발렌타인',\n",
       "  'salePrice': 19000,\n",
       "  'originalPrice': 19000,\n",
       "  'brand': 'lush',\n",
       "  'volume': '#'}]"
      ]
     },
     "metadata": {},
     "output_type": "display_data"
    },
    {
     "data": {
      "text/plain": [
       "[{'name': '식스(옐로우 앤 레드)',\n",
       "  'url': 'https://lush.co.kr/goods/goods_view.php?goodsNo=1000000168',\n",
       "  'image': ['https://lush.co.kr/data/goods/19/01/04/1000000168/t50_1000000168_detail_026.png'],\n",
       "  'color': '#',\n",
       "  'category': '러쉬 > 프로모션 > 발렌타인',\n",
       "  'salePrice': 19000,\n",
       "  'originalPrice': 19000,\n",
       "  'brand': 'lush',\n",
       "  'volume': '#'}]"
      ]
     },
     "metadata": {},
     "output_type": "display_data"
    },
    {
     "data": {
      "text/plain": [
       "[{'name': '오픈 유어 하트',\n",
       "  'url': 'https://lush.co.kr/goods/goods_view.php?goodsNo=1000000167',\n",
       "  'image': ['https://lush.co.kr/data/goods/19/01/04/1000000167/t50_1000000167_detail_036.png'],\n",
       "  'color': '#',\n",
       "  'category': '러쉬 > 프로모션 > 발렌타인',\n",
       "  'salePrice': 18000,\n",
       "  'originalPrice': 18000,\n",
       "  'brand': 'lush',\n",
       "  'volume': '#'}]"
      ]
     },
     "metadata": {},
     "output_type": "display_data"
    },
    {
     "data": {
      "text/plain": [
       "[{'name': '러브 보트',\n",
       "  'url': 'https://lush.co.kr/goods/goods_view.php?goodsNo=1000000159',\n",
       "  'image': ['https://lush.co.kr/data/goods/19/01/04/1000000159/t50_1000000159_detail_077.png'],\n",
       "  'color': '#',\n",
       "  'category': '러쉬 > 프로모션 > 발렌타인',\n",
       "  'salePrice': 16000,\n",
       "  'originalPrice': 16000,\n",
       "  'brand': 'lush',\n",
       "  'volume': '#'}]"
      ]
     },
     "metadata": {},
     "output_type": "display_data"
    },
    {
     "data": {
      "text/plain": [
       "[{'name': '가디스',\n",
       "  'url': 'https://lush.co.kr/goods/goods_view.php?goodsNo=1000000118',\n",
       "  'image': ['https://lush.co.kr/data/goods/18/12/50/1000000118/t50_1000000118_detail_075.png'],\n",
       "  'color': '#',\n",
       "  'category': '러쉬 > 배쓰',\n",
       "  'salePrice': 19000,\n",
       "  'originalPrice': 19000,\n",
       "  'brand': 'lush',\n",
       "  'volume': '#'}]"
      ]
     },
     "metadata": {},
     "output_type": "display_data"
    },
    {
     "data": {
      "text/plain": [
       "[{'name': '아임 포에버 블로잉 버블스',\n",
       "  'url': 'https://lush.co.kr/goods/goods_view.php?goodsNo=1000000117',\n",
       "  'image': ['https://lush.co.kr/data/goods/18/12/50/1000000117/t50_1000000117_detail_039.png'],\n",
       "  'color': '#',\n",
       "  'category': '러쉬 > 배쓰',\n",
       "  'salePrice': 21000,\n",
       "  'originalPrice': 21000,\n",
       "  'brand': 'lush',\n",
       "  'volume': '#'}]"
      ]
     },
     "metadata": {},
     "output_type": "display_data"
    },
    {
     "data": {
      "text/plain": [
       "[{'name': '가디언 오브 더 포레스트',\n",
       "  'url': 'https://lush.co.kr/goods/goods_view.php?goodsNo=1000000105',\n",
       "  'image': ['https://lush.co.kr/data/goods/18/12/49/1000000105/t50_1000000105_detail_031.png'],\n",
       "  'color': '#',\n",
       "  'category': '러쉬 > 배쓰 > 배쓰 밤',\n",
       "  'salePrice': 17000,\n",
       "  'originalPrice': 17000,\n",
       "  'brand': 'lush',\n",
       "  'volume': '#'}]"
      ]
     },
     "metadata": {},
     "output_type": "display_data"
    },
    {
     "data": {
      "text/plain": [
       "[{'name': '핑크 페티그레인 버블 스피너',\n",
       "  'url': 'https://lush.co.kr/goods/goods_view.php?goodsNo=1000000028',\n",
       "  'image': ['https://lush.co.kr/data/goods/18/11/48/1000000028/t50_1000000028_detail_098.png'],\n",
       "  'color': '#',\n",
       "  'category': '러쉬 > 배쓰 > 버블 바',\n",
       "  'salePrice': 21000,\n",
       "  'originalPrice': 21000,\n",
       "  'brand': 'lush',\n",
       "  'volume': '#'}]"
      ]
     },
     "metadata": {},
     "output_type": "display_data"
    },
    {
     "data": {
      "text/plain": [
       "[{'name': '캔디 버블 브러시',\n",
       "  'url': 'https://lush.co.kr/goods/goods_view.php?goodsNo=1000000025',\n",
       "  'image': ['https://lush.co.kr/data/goods/18/11/48/1000000025/t50_1000000025_detail_025.png'],\n",
       "  'color': '#',\n",
       "  'category': '러쉬 > 배쓰 > 버블 바',\n",
       "  'salePrice': 21000,\n",
       "  'originalPrice': 21000,\n",
       "  'brand': 'lush',\n",
       "  'volume': '#'}]"
      ]
     },
     "metadata": {},
     "output_type": "display_data"
    },
    {
     "data": {
      "text/plain": [
       "[{'name': '레몬 버블 브러시',\n",
       "  'url': 'https://lush.co.kr/goods/goods_view.php?goodsNo=1000000024',\n",
       "  'image': ['https://lush.co.kr/data/goods/18/11/48/1000000024/t50_1000000024_detail_074.png'],\n",
       "  'color': '#',\n",
       "  'category': '러쉬 > 배쓰 > 버블 바',\n",
       "  'salePrice': 21000,\n",
       "  'originalPrice': 21000,\n",
       "  'brand': 'lush',\n",
       "  'volume': '#'}]"
      ]
     },
     "metadata": {},
     "output_type": "display_data"
    },
    {
     "data": {
      "text/plain": [
       "[{'name': '민트 버블 브러시',\n",
       "  'url': 'https://lush.co.kr/goods/goods_view.php?goodsNo=1000000023',\n",
       "  'image': ['https://lush.co.kr/data/goods/18/11/48/1000000023/t50_1000000023_detail_031.png'],\n",
       "  'color': '#',\n",
       "  'category': '러쉬 > 배쓰 > 버블 바',\n",
       "  'salePrice': 21000,\n",
       "  'originalPrice': 21000,\n",
       "  'brand': 'lush',\n",
       "  'volume': '#'}]"
      ]
     },
     "metadata": {},
     "output_type": "display_data"
    },
    {
     "data": {
      "text/plain": [
       "[{'name': '골든 원더',\n",
       "  'url': 'https://lush.co.kr/goods/goods_view.php?goodsNo=549',\n",
       "  'image': ['https://lush.co.kr/data/goods/18/09/19/549/t50_549_detail_016.png'],\n",
       "  'color': '#',\n",
       "  'category': '러쉬 > 크리스마스 > 크리스마스 단품',\n",
       "  'salePrice': 16000,\n",
       "  'originalPrice': 16000,\n",
       "  'brand': 'lush',\n",
       "  'volume': '#'}]"
      ]
     },
     "metadata": {},
     "output_type": "display_data"
    },
    {
     "data": {
      "text/plain": [
       "[{'name': '스노우 페어리',\n",
       "  'url': 'https://lush.co.kr/goods/goods_view.php?goodsNo=474',\n",
       "  'image': ['https://lush.co.kr/data/goods/18/09/14/474/t50_474_detail_057.png'],\n",
       "  'color': '#',\n",
       "  'category': '러쉬 > 배쓰 > 젤리 밤',\n",
       "  'salePrice': 18000,\n",
       "  'originalPrice': 18000,\n",
       "  'brand': 'lush',\n",
       "  'volume': '#'}]"
      ]
     },
     "metadata": {},
     "output_type": "display_data"
    },
    {
     "data": {
      "text/plain": [
       "[{'name': '엑토플라즘',\n",
       "  'url': 'https://lush.co.kr/goods/goods_view.php?goodsNo=473',\n",
       "  'image': ['https://lush.co.kr/data/goods/18/09/14/473/t50_473_detail_044.png'],\n",
       "  'color': '#',\n",
       "  'category': '러쉬 > 배쓰 > 젤리 밤',\n",
       "  'salePrice': 19000,\n",
       "  'originalPrice': 19000,\n",
       "  'brand': 'lush',\n",
       "  'volume': '#'}]"
      ]
     },
     "metadata": {},
     "output_type": "display_data"
    },
    {
     "data": {
      "text/plain": [
       "[{'name': '스노우플레이크 버블 스피너',\n",
       "  'url': 'https://lush.co.kr/goods/goods_view.php?goodsNo=472',\n",
       "  'image': ['https://lush.co.kr/data/goods/18/09/14/472/t50_472_detail_069.png'],\n",
       "  'color': '#',\n",
       "  'category': '러쉬',\n",
       "  'salePrice': 18000,\n",
       "  'originalPrice': 18000,\n",
       "  'brand': 'lush',\n",
       "  'volume': '#'}]"
      ]
     },
     "metadata": {},
     "output_type": "display_data"
    },
    {
     "data": {
      "text/plain": [
       "[{'name': '퍼디 홀리',\n",
       "  'url': 'https://lush.co.kr/goods/goods_view.php?goodsNo=470',\n",
       "  'image': ['https://lush.co.kr/data/goods/18/09/14/470/t50_470_detail_046.png'],\n",
       "  'color': '#',\n",
       "  'category': '러쉬',\n",
       "  'salePrice': 15000,\n",
       "  'originalPrice': 15000,\n",
       "  'brand': 'lush',\n",
       "  'volume': '#'}]"
      ]
     },
     "metadata": {},
     "output_type": "display_data"
    },
    {
     "data": {
      "text/plain": [
       "[{'name': '너티 엘프',\n",
       "  'url': 'https://lush.co.kr/goods/goods_view.php?goodsNo=469',\n",
       "  'image': ['https://lush.co.kr/data/goods/18/09/14/469/t50_469_detail_09.png'],\n",
       "  'color': '#',\n",
       "  'category': '러쉬',\n",
       "  'salePrice': 18000,\n",
       "  'originalPrice': 18000,\n",
       "  'brand': 'lush',\n",
       "  'volume': '#'}]"
      ]
     },
     "metadata": {},
     "output_type": "display_data"
    },
    {
     "data": {
      "text/plain": [
       "[{'name': '매직 완드',\n",
       "  'url': 'https://lush.co.kr/goods/goods_view.php?goodsNo=468',\n",
       "  'image': ['https://lush.co.kr/data/goods/18/09/14/468/t50_468_detail_085.png'],\n",
       "  'color': '#',\n",
       "  'category': '러쉬',\n",
       "  'salePrice': 20000,\n",
       "  'originalPrice': 20000,\n",
       "  'brand': 'lush',\n",
       "  'volume': '#'}]"
      ]
     },
     "metadata": {},
     "output_type": "display_data"
    },
    {
     "data": {
      "text/plain": [
       "[{'name': '캔디 마운틴 율 로그',\n",
       "  'url': 'https://lush.co.kr/goods/goods_view.php?goodsNo=467',\n",
       "  'image': ['https://lush.co.kr/data/goods/18/09/14/467/t50_467_detail_063.png'],\n",
       "  'color': '#',\n",
       "  'category': '러쉬',\n",
       "  'salePrice': 12000,\n",
       "  'originalPrice': 12000,\n",
       "  'brand': 'lush',\n",
       "  'volume': '#'}]"
      ]
     },
     "metadata": {},
     "output_type": "display_data"
    },
    {
     "data": {
      "text/plain": [
       "[{'name': '비위치드',\n",
       "  'url': 'https://lush.co.kr/goods/goods_view.php?goodsNo=465',\n",
       "  'image': ['https://lush.co.kr/data/goods/18/09/14/465/t50_465_detail_057.png'],\n",
       "  'color': '#',\n",
       "  'category': '러쉬',\n",
       "  'salePrice': 15000,\n",
       "  'originalPrice': 15000,\n",
       "  'brand': 'lush',\n",
       "  'volume': '#'}]"
      ]
     },
     "metadata": {},
     "output_type": "display_data"
    },
    {
     "data": {
      "text/plain": [
       "[{'name': '스노우맨 밤 밤',\n",
       "  'url': 'https://lush.co.kr/goods/goods_view.php?goodsNo=463',\n",
       "  'image': ['https://lush.co.kr/data/goods/18/09/14/463/t50_463_detail_030.png'],\n",
       "  'color': '#',\n",
       "  'category': '러쉬',\n",
       "  'salePrice': 26000,\n",
       "  'originalPrice': 26000,\n",
       "  'brand': 'lush',\n",
       "  'volume': '#'}]"
      ]
     },
     "metadata": {},
     "output_type": "display_data"
    },
    {
     "data": {
      "text/plain": [
       "[{'name': '슛 포 더 스타스',\n",
       "  'url': 'https://lush.co.kr/goods/goods_view.php?goodsNo=462',\n",
       "  'image': ['https://lush.co.kr/data/goods/18/09/14/462/t50_462_detail_091.png'],\n",
       "  'color': '#',\n",
       "  'category': '러쉬',\n",
       "  'salePrice': 16000,\n",
       "  'originalPrice': 16000,\n",
       "  'brand': 'lush',\n",
       "  'volume': '#'}]"
      ]
     },
     "metadata": {},
     "output_type": "display_data"
    },
    {
     "data": {
      "text/plain": [
       "[{'name': '산타 밤 밤',\n",
       "  'url': 'https://lush.co.kr/goods/goods_view.php?goodsNo=461',\n",
       "  'image': ['https://lush.co.kr/data/goods/18/09/14/461/t50_461_detail_031.png'],\n",
       "  'color': '#',\n",
       "  'category': '러쉬',\n",
       "  'salePrice': 26000,\n",
       "  'originalPrice': 26000,\n",
       "  'brand': 'lush',\n",
       "  'volume': '#'}]"
      ]
     },
     "metadata": {},
     "output_type": "display_data"
    },
    {
     "data": {
      "text/plain": [
       "[{'name': '프린세스 밤 밤',\n",
       "  'url': 'https://lush.co.kr/goods/goods_view.php?goodsNo=460',\n",
       "  'image': ['https://lush.co.kr/data/goods/18/09/14/460/t50_460_detail_082.png'],\n",
       "  'color': '#',\n",
       "  'category': '러쉬',\n",
       "  'salePrice': 26000,\n",
       "  'originalPrice': 26000,\n",
       "  'brand': 'lush',\n",
       "  'volume': '#'}]"
      ]
     },
     "metadata": {},
     "output_type": "display_data"
    },
    {
     "data": {
      "text/plain": [
       "[{'name': '럭셔리 러쉬 퍼드',\n",
       "  'url': 'https://lush.co.kr/goods/goods_view.php?goodsNo=457',\n",
       "  'image': ['https://lush.co.kr/data/goods/18/09/14/457/t50_457_detail_085.png'],\n",
       "  'color': '#',\n",
       "  'category': '러쉬',\n",
       "  'salePrice': 16000,\n",
       "  'originalPrice': 16000,\n",
       "  'brand': 'lush',\n",
       "  'volume': '#'}]"
      ]
     },
     "metadata": {},
     "output_type": "display_data"
    },
    {
     "data": {
      "text/plain": [
       "[{'name': '홀리 나이트',\n",
       "  'url': 'https://lush.co.kr/goods/goods_view.php?goodsNo=455',\n",
       "  'image': ['https://lush.co.kr/data/goods/18/09/14/455/t50_455_detail_033.png'],\n",
       "  'color': '#',\n",
       "  'category': '러쉬',\n",
       "  'salePrice': 16000,\n",
       "  'originalPrice': 16000,\n",
       "  'brand': 'lush',\n",
       "  'volume': '#'}]"
      ]
     },
     "metadata": {},
     "output_type": "display_data"
    },
    {
     "data": {
      "text/plain": [
       "[{'name': '터틀 이멀젼',\n",
       "  'url': 'https://lush.co.kr/goods/goods_view.php?goodsNo=450',\n",
       "  'image': ['https://lush.co.kr/data/goods/18/08/28/450/t50_450_detail_073.png'],\n",
       "  'color': '#',\n",
       "  'category': '러쉬 > 배쓰 > 젤리 밤',\n",
       "  'salePrice': 25000,\n",
       "  'originalPrice': 25000,\n",
       "  'brand': 'lush',\n",
       "  'volume': '#'}]"
      ]
     },
     "metadata": {},
     "output_type": "display_data"
    },
    {
     "data": {
      "text/plain": [
       "[{'name': '터틀 젤리 밤',\n",
       "  'url': 'https://lush.co.kr/goods/goods_view.php?goodsNo=433',\n",
       "  'image': ['https://lush.co.kr/data/goods/18/06/04/433/t50_433_detail_02.png'],\n",
       "  'color': '#',\n",
       "  'category': '러쉬 > 배쓰 > 젤리 밤',\n",
       "  'salePrice': 19000,\n",
       "  'originalPrice': 19000,\n",
       "  'brand': 'lush',\n",
       "  'volume': '#'}]"
      ]
     },
     "metadata": {},
     "output_type": "display_data"
    },
    {
     "data": {
      "text/plain": [
       "[{'name': '퍼즈',\n",
       "  'url': 'https://lush.co.kr/goods/goods_view.php?goodsNo=398',\n",
       "  'image': ['https://lush.co.kr/data/goods/18/03/20/398/t50_398_detail_076.png'],\n",
       "  'color': '#',\n",
       "  'category': '러쉬 > 배쓰 > 배쓰 오일',\n",
       "  'salePrice': 8000,\n",
       "  'originalPrice': 8000,\n",
       "  'brand': 'lush',\n",
       "  'volume': '#'}]"
      ]
     },
     "metadata": {},
     "output_type": "display_data"
    },
    {
     "data": {
      "text/plain": [
       "[{'name': '레벨래이션스',\n",
       "  'url': 'https://lush.co.kr/goods/goods_view.php?goodsNo=396',\n",
       "  'image': ['https://lush.co.kr/data/goods/18/03/20/396/t50_396_detail_023.png'],\n",
       "  'color': '#',\n",
       "  'category': '러쉬 > 배쓰 > 배쓰 오일',\n",
       "  'salePrice': 8000,\n",
       "  'originalPrice': 8000,\n",
       "  'brand': 'lush',\n",
       "  'volume': '#'}]"
      ]
     },
     "metadata": {},
     "output_type": "display_data"
    },
    {
     "data": {
      "text/plain": [
       "[{'name': '래즐 대즐',\n",
       "  'url': 'https://lush.co.kr/goods/goods_view.php?goodsNo=395',\n",
       "  'image': ['https://lush.co.kr/data/goods/18/03/20/395/t50_395_detail_070.png'],\n",
       "  'color': '#',\n",
       "  'category': '러쉬 > 배쓰 > 배쓰 오일',\n",
       "  'salePrice': 8000,\n",
       "  'originalPrice': 8000,\n",
       "  'brand': 'lush',\n",
       "  'volume': '#'}]"
      ]
     },
     "metadata": {},
     "output_type": "display_data"
    },
    {
     "data": {
      "text/plain": [
       "[{'name': '해피 또우츠',\n",
       "  'url': 'https://lush.co.kr/goods/goods_view.php?goodsNo=393',\n",
       "  'image': ['https://lush.co.kr/data/goods/18/03/20/393/t50_393_detail_089.png'],\n",
       "  'color': '#',\n",
       "  'category': '러쉬 > 배쓰 > 배쓰 오일',\n",
       "  'salePrice': 8000,\n",
       "  'originalPrice': 8000,\n",
       "  'brand': 'lush',\n",
       "  'volume': '#'}]"
      ]
     },
     "metadata": {},
     "output_type": "display_data"
    },
    {
     "data": {
      "text/plain": [
       "[{'name': '진저',\n",
       "  'url': 'https://lush.co.kr/goods/goods_view.php?goodsNo=392',\n",
       "  'image': ['https://lush.co.kr/data/goods/18/03/20/392/t50_392_detail_047.png'],\n",
       "  'color': '#',\n",
       "  'category': '러쉬 > 배쓰 > 배쓰 오일',\n",
       "  'salePrice': 8000,\n",
       "  'originalPrice': 8000,\n",
       "  'brand': 'lush',\n",
       "  'volume': '#'}]"
      ]
     },
     "metadata": {},
     "output_type": "display_data"
    },
    {
     "data": {
      "text/plain": [
       "[{'name': '더블 바이탈리티',\n",
       "  'url': 'https://lush.co.kr/goods/goods_view.php?goodsNo=391',\n",
       "  'image': ['https://lush.co.kr/data/goods/18/03/20/391/t50_391_detail_084.png'],\n",
       "  'color': '#',\n",
       "  'category': '러쉬 > 배쓰 > 배쓰 오일',\n",
       "  'salePrice': 8000,\n",
       "  'originalPrice': 8000,\n",
       "  'brand': 'lush',\n",
       "  'volume': '#'}]"
      ]
     },
     "metadata": {},
     "output_type": "display_data"
    },
    {
     "data": {
      "text/plain": [
       "[{'name': '딜라이트',\n",
       "  'url': 'https://lush.co.kr/goods/goods_view.php?goodsNo=390',\n",
       "  'image': ['https://lush.co.kr/data/goods/18/03/20/390/t50_390_detail_026.png'],\n",
       "  'color': '#',\n",
       "  'category': '러쉬 > 배쓰 > 배쓰 오일',\n",
       "  'salePrice': 8000,\n",
       "  'originalPrice': 8000,\n",
       "  'brand': 'lush',\n",
       "  'volume': '#'}]"
      ]
     },
     "metadata": {},
     "output_type": "display_data"
    },
    {
     "data": {
      "text/plain": [
       "[{'name': '클로크 오브 인비지빌리티',\n",
       "  'url': 'https://lush.co.kr/goods/goods_view.php?goodsNo=389',\n",
       "  'image': ['https://lush.co.kr/data/goods/18/03/20/389/t50_389_detail_050.png'],\n",
       "  'color': '#',\n",
       "  'category': '러쉬 > 배쓰 > 배쓰 오일',\n",
       "  'salePrice': 8000,\n",
       "  'originalPrice': 8000,\n",
       "  'brand': 'lush',\n",
       "  'volume': '#'}]"
      ]
     },
     "metadata": {},
     "output_type": "display_data"
    },
    {
     "data": {
      "text/plain": [
       "[{'name': '배쓰 오일 박스',\n",
       "  'url': 'https://lush.co.kr/goods/goods_view.php?goodsNo=384',\n",
       "  'image': ['https://lush.co.kr/data/goods/18/02/26/384/t50_384_detail_072.png'],\n",
       "  'color': '#',\n",
       "  'category': '러쉬 > 기프트 > 악세서리',\n",
       "  'salePrice': 2500,\n",
       "  'originalPrice': 2500,\n",
       "  'brand': 'lush',\n",
       "  'volume': '#'}]"
      ]
     },
     "metadata": {},
     "output_type": "display_data"
    },
    {
     "data": {
      "text/plain": [
       "[{'name': '드림타임',\n",
       "  'url': 'https://lush.co.kr/goods/goods_view.php?goodsNo=373',\n",
       "  'image': ['https://lush.co.kr/data/goods/18/02/23/373/t50_373_detail_064.png'],\n",
       "  'color': '#',\n",
       "  'category': '러쉬 > 배쓰 > 배쓰 오일',\n",
       "  'salePrice': 8000,\n",
       "  'originalPrice': 8000,\n",
       "  'brand': 'lush',\n",
       "  'volume': '#'}]"
      ]
     },
     "metadata": {},
     "output_type": "display_data"
    },
    {
     "data": {
      "text/plain": [
       "[{'name': '매그니피센트',\n",
       "  'url': 'https://lush.co.kr/goods/goods_view.php?goodsNo=372',\n",
       "  'image': ['https://lush.co.kr/data/goods/18/02/23/372/t50_372_detail_091.png'],\n",
       "  'color': '#',\n",
       "  'category': '러쉬 > 배쓰 > 배쓰 오일',\n",
       "  'salePrice': 8000,\n",
       "  'originalPrice': 8000,\n",
       "  'brand': 'lush',\n",
       "  'volume': '#'}]"
      ]
     },
     "metadata": {},
     "output_type": "display_data"
    },
    {
     "data": {
      "text/plain": [
       "[{'name': '유브 빈 망고드',\n",
       "  'url': 'https://lush.co.kr/goods/goods_view.php?goodsNo=371',\n",
       "  'image': ['https://lush.co.kr/data/goods/18/02/23/371/t50_371_detail_017.png'],\n",
       "  'color': '#',\n",
       "  'category': '러쉬 > 배쓰 > 배쓰 오일',\n",
       "  'salePrice': 8000,\n",
       "  'originalPrice': 8000,\n",
       "  'brand': 'lush',\n",
       "  'volume': '#'}]"
      ]
     },
     "metadata": {},
     "output_type": "display_data"
    },
    {
     "data": {
      "text/plain": [
       "[{'name': '플로팅 아일랜드',\n",
       "  'url': 'https://lush.co.kr/goods/goods_view.php?goodsNo=369',\n",
       "  'image': ['https://lush.co.kr/data/goods/18/02/23/369/t50_369_detail_078.png'],\n",
       "  'color': '#',\n",
       "  'category': '러쉬 > 배쓰 > 배쓰 오일',\n",
       "  'salePrice': 8000,\n",
       "  'originalPrice': 8000,\n",
       "  'brand': 'lush',\n",
       "  'volume': '#'}]"
      ]
     },
     "metadata": {},
     "output_type": "display_data"
    },
    {
     "data": {
      "text/plain": [
       "[{'name': '멜팅 마쉬멜로우 모멘트',\n",
       "  'url': 'https://lush.co.kr/goods/goods_view.php?goodsNo=368',\n",
       "  'image': ['https://lush.co.kr/data/goods/18/02/23/368/t50_368_detail_088.png'],\n",
       "  'color': '#',\n",
       "  'category': '러쉬 > 배쓰 > 배쓰 오일',\n",
       "  'salePrice': 8000,\n",
       "  'originalPrice': 8000,\n",
       "  'brand': 'lush',\n",
       "  'volume': '#'}]"
      ]
     },
     "metadata": {},
     "output_type": "display_data"
    },
    {
     "data": {
      "text/plain": [
       "[{'name': '드래곤스 에그',\n",
       "  'url': 'https://lush.co.kr/goods/goods_view.php?goodsNo=362',\n",
       "  'image': ['https://lush.co.kr/data/goods/18/02/20/362/t50_362_detail_039.png'],\n",
       "  'color': '#',\n",
       "  'category': '러쉬 > 배쓰 > 배쓰 밤',\n",
       "  'salePrice': 15000,\n",
       "  'originalPrice': 15000,\n",
       "  'brand': 'lush',\n",
       "  'volume': '#'}]"
      ]
     },
     "metadata": {},
     "output_type": "display_data"
    },
    {
     "data": {
      "text/plain": [
       "[{'name': '더 빅 슬립',\n",
       "  'url': 'https://lush.co.kr/goods/goods_view.php?goodsNo=349',\n",
       "  'image': ['https://lush.co.kr/data/goods/17/11/29/349/t50_349_detail_018.png'],\n",
       "  'color': '#',\n",
       "  'category': '러쉬 > 배쓰 > 젤리 밤',\n",
       "  'salePrice': 19000,\n",
       "  'originalPrice': 19000,\n",
       "  'brand': 'lush',\n",
       "  'volume': '#'}]"
      ]
     },
     "metadata": {},
     "output_type": "display_data"
    },
    {
     "data": {
      "text/plain": [
       "[{'name': '시크릿 아츠',\n",
       "  'url': 'https://lush.co.kr/goods/goods_view.php?goodsNo=346',\n",
       "  'image': ['https://lush.co.kr/data/goods/17/11/29/346/t50_346_detail_089.png'],\n",
       "  'color': '#',\n",
       "  'category': '러쉬 > 배쓰 > 젤리 밤',\n",
       "  'salePrice': 19000,\n",
       "  'originalPrice': 19000,\n",
       "  'brand': 'lush',\n",
       "  'volume': '#'}]"
      ]
     },
     "metadata": {},
     "output_type": "display_data"
    },
    {
     "data": {
      "text/plain": [
       "[{'name': '로켓 사이언스',\n",
       "  'url': 'https://lush.co.kr/goods/goods_view.php?goodsNo=345',\n",
       "  'image': ['https://lush.co.kr/data/goods/17/11/29/345/t50_345_detail_08.png'],\n",
       "  'color': '#',\n",
       "  'category': '러쉬 > 배쓰 > 배쓰 밤',\n",
       "  'salePrice': 12000,\n",
       "  'originalPrice': 12000,\n",
       "  'brand': 'lush',\n",
       "  'volume': '#'}]"
      ]
     },
     "metadata": {},
     "output_type": "display_data"
    },
    {
     "data": {
      "text/plain": [
       "[{'name': '치어 업 버터컵',\n",
       "  'url': 'https://lush.co.kr/goods/goods_view.php?goodsNo=335',\n",
       "  'image': ['https://lush.co.kr/data/goods/17/10/25/335/t50_335_detail_066.png'],\n",
       "  'color': '#',\n",
       "  'category': '러쉬 > 배쓰 > 배쓰 밤',\n",
       "  'salePrice': 10000,\n",
       "  'originalPrice': 10000,\n",
       "  'brand': 'lush',\n",
       "  'volume': '#'}]"
      ]
     },
     "metadata": {},
     "output_type": "display_data"
    },
    {
     "data": {
      "text/plain": [
       "[{'name': '옐로 서브마린',\n",
       "  'url': 'https://lush.co.kr/goods/goods_view.php?goodsNo=252',\n",
       "  'image': ['https://lush.co.kr/data/goods/17/09/18/252/t50_252_detail_037.png'],\n",
       "  'color': '#',\n",
       "  'category': '러쉬 > 배쓰 > 배쓰 밤',\n",
       "  'salePrice': 15000,\n",
       "  'originalPrice': 15000,\n",
       "  'brand': 'lush',\n",
       "  'volume': '#'}]"
      ]
     },
     "metadata": {},
     "output_type": "display_data"
    },
    {
     "data": {
      "text/plain": [
       "[{'name': '띵크 핑크',\n",
       "  'url': 'https://lush.co.kr/goods/goods_view.php?goodsNo=250',\n",
       "  'image': ['https://lush.co.kr/data/goods/17/08/25/250/t50_250_detail_057.png'],\n",
       "  'color': '#',\n",
       "  'category': '러쉬 > 배쓰 > 배쓰 밤',\n",
       "  'salePrice': 17000,\n",
       "  'originalPrice': 17000,\n",
       "  'brand': 'lush',\n",
       "  'volume': '#'}]"
      ]
     },
     "metadata": {},
     "output_type": "display_data"
    },
    {
     "data": {
      "text/plain": [
       "[{'name': '오버 앤 오버',\n",
       "  'url': 'https://lush.co.kr/goods/goods_view.php?goodsNo=224',\n",
       "  'image': ['https://lush.co.kr/data/goods/17/03/13/224/t50_224_detail_032.png'],\n",
       "  'color': '#',\n",
       "  'category': '러쉬 > 배쓰 > 배쓰 밤',\n",
       "  'salePrice': 17000,\n",
       "  'originalPrice': 17000,\n",
       "  'brand': 'lush',\n",
       "  'volume': '#'}]"
      ]
     },
     "metadata": {},
     "output_type": "display_data"
    },
    {
     "data": {
      "text/plain": [
       "[{'name': '밀키 배쓰',\n",
       "  'url': 'https://lush.co.kr/goods/goods_view.php?goodsNo=206',\n",
       "  'image': ['https://lush.co.kr/data/goods/16/05/18/206/t50_206_detail_08.png'],\n",
       "  'color': '#',\n",
       "  'category': '러쉬 > 배쓰 > 버블 바',\n",
       "  'salePrice': 12000,\n",
       "  'originalPrice': 12000,\n",
       "  'brand': 'lush',\n",
       "  'volume': '#'}]"
      ]
     },
     "metadata": {},
     "output_type": "display_data"
    },
    {
     "data": {
      "text/plain": [
       "[{'name': '레인보우',\n",
       "  'url': 'https://lush.co.kr/goods/goods_view.php?goodsNo=201',\n",
       "  'image': ['https://lush.co.kr/data/goods/16/05/09/201/t50_201_detail_032.png',\n",
       "   'https://lush.co.kr/data/goods/16/05/09/201/t50_201_detail_15.png'],\n",
       "  'color': '#',\n",
       "  'category': '러쉬 > 배쓰 > 펀',\n",
       "  'salePrice': 22000,\n",
       "  'originalPrice': 22000,\n",
       "  'brand': 'lush',\n",
       "  'volume': '#'}]"
      ]
     },
     "metadata": {},
     "output_type": "display_data"
    },
    {
     "data": {
      "text/plain": [
       "[{'name': '몬스터스 & 에일리언스',\n",
       "  'url': 'https://lush.co.kr/goods/goods_view.php?goodsNo=200',\n",
       "  'image': ['https://lush.co.kr/data/goods/16/05/09/200/t50_200_detail_073.png',\n",
       "   'https://lush.co.kr/data/goods/16/05/09/200/t50_200_detail_169.png'],\n",
       "  'color': '#',\n",
       "  'category': '러쉬 > 배쓰 > 펀',\n",
       "  'salePrice': 22000,\n",
       "  'originalPrice': 22000,\n",
       "  'brand': 'lush',\n",
       "  'volume': '#'}]"
      ]
     },
     "metadata": {},
     "output_type": "display_data"
    },
    {
     "data": {
      "text/plain": [
       "[{'name': '어 프렌치 키스',\n",
       "  'url': 'https://lush.co.kr/goods/goods_view.php?goodsNo=183',\n",
       "  'image': ['https://lush.co.kr/data/goods/16/03/23/183/t50_183_detail_07.png'],\n",
       "  'color': '#',\n",
       "  'category': '러쉬 > 배쓰 > 버블 바',\n",
       "  'salePrice': 17000,\n",
       "  'originalPrice': 17000,\n",
       "  'brand': 'lush',\n",
       "  'volume': '#'}]"
      ]
     },
     "metadata": {},
     "output_type": "display_data"
    },
    {
     "data": {
      "text/plain": [
       "[{'name': '더 엑스페리멘터',\n",
       "  'url': 'https://lush.co.kr/goods/goods_view.php?goodsNo=175',\n",
       "  'image': ['https://lush.co.kr/data/goods/16/03/18/175/t50_175_detail_068.png'],\n",
       "  'color': '#',\n",
       "  'category': '러쉬 > 배쓰 > 배쓰 밤',\n",
       "  'salePrice': 17000,\n",
       "  'originalPrice': 17000,\n",
       "  'brand': 'lush',\n",
       "  'volume': '#'}]"
      ]
     },
     "metadata": {},
     "output_type": "display_data"
    },
    {
     "data": {
      "text/plain": [
       "[{'name': '인터갈락틱',\n",
       "  'url': 'https://lush.co.kr/goods/goods_view.php?goodsNo=174',\n",
       "  'image': ['https://lush.co.kr/data/goods/16/03/18/174/t50_174_detail_017.png'],\n",
       "  'color': '#',\n",
       "  'category': '러쉬 > 배쓰 > 배쓰 밤',\n",
       "  'salePrice': 17000,\n",
       "  'originalPrice': 17000,\n",
       "  'brand': 'lush',\n",
       "  'volume': '#'}]"
      ]
     },
     "metadata": {},
     "output_type": "display_data"
    },
    {
     "data": {
      "text/plain": [
       "[{'name': '트와일라잇',\n",
       "  'url': 'https://lush.co.kr/goods/goods_view.php?goodsNo=159',\n",
       "  'image': ['https://lush.co.kr/data/goods/15/01/28/159/t50_159_detail_048.png'],\n",
       "  'color': '#',\n",
       "  'category': '러쉬 > 배쓰 > 배쓰 밤',\n",
       "  'salePrice': 15000,\n",
       "  'originalPrice': 15000,\n",
       "  'brand': 'lush',\n",
       "  'volume': '#'}]"
      ]
     },
     "metadata": {},
     "output_type": "display_data"
    },
    {
     "data": {
      "text/plain": [
       "[{'name': '버터볼',\n",
       "  'url': 'https://lush.co.kr/goods/goods_view.php?goodsNo=150',\n",
       "  'image': ['https://lush.co.kr/data/goods/14/12/16/150/t50_150_detail_03.png'],\n",
       "  'color': '#',\n",
       "  'category': '러쉬 > 배쓰 > 배쓰 밤',\n",
       "  'salePrice': 7500,\n",
       "  'originalPrice': 7500,\n",
       "  'brand': 'lush',\n",
       "  'volume': '#'}]"
      ]
     },
     "metadata": {},
     "output_type": "display_data"
    },
    {
     "data": {
      "text/plain": [
       "[{'name': '사쿠라',\n",
       "  'url': 'https://lush.co.kr/goods/goods_view.php?goodsNo=137',\n",
       "  'image': ['https://lush.co.kr/data/goods/14/08/22/137/t50_137_detail_027.png'],\n",
       "  'color': '#',\n",
       "  'category': '러쉬 > 배쓰 > 배쓰 밤',\n",
       "  'salePrice': 12000,\n",
       "  'originalPrice': 12000,\n",
       "  'brand': 'lush',\n",
       "  'volume': '#'}]"
      ]
     },
     "metadata": {},
     "output_type": "display_data"
    },
    {
     "data": {
      "text/plain": [
       "[{'name': '브라이트사이드',\n",
       "  'url': 'https://lush.co.kr/goods/goods_view.php?goodsNo=135',\n",
       "  'image': ['https://lush.co.kr/data/goods/14/05/15/135/t50_135_detail_024.png'],\n",
       "  'color': '#',\n",
       "  'category': '러쉬 > 배쓰 > 버블 바',\n",
       "  'salePrice': 18000,\n",
       "  'originalPrice': 18000,\n",
       "  'brand': 'lush',\n",
       "  'volume': '#'}]"
      ]
     },
     "metadata": {},
     "output_type": "display_data"
    },
    {
     "data": {
      "text/plain": [
       "[{'name': '펀 옐로우',\n",
       "  'url': 'https://lush.co.kr/goods/goods_view.php?goodsNo=118',\n",
       "  'image': ['https://lush.co.kr/data/goods/13/04/17/118/t50_118_detail_031.png',\n",
       "   'https://lush.co.kr/data/goods/13/04/17/118/t50_118_detail_127.png'],\n",
       "  'color': '#',\n",
       "  'category': '러쉬 > 배쓰 > 펀',\n",
       "  'salePrice': 17000,\n",
       "  'originalPrice': 17000,\n",
       "  'brand': 'lush',\n",
       "  'volume': '#'}]"
      ]
     },
     "metadata": {},
     "output_type": "display_data"
    },
    {
     "data": {
      "text/plain": [
       "[{'name': '펀 레드',\n",
       "  'url': 'https://lush.co.kr/goods/goods_view.php?goodsNo=117',\n",
       "  'image': ['https://lush.co.kr/data/goods/13/04/17/117/t50_117_detail_094.png',\n",
       "   'https://lush.co.kr/data/goods/13/04/17/117/t50_117_detail_15.png'],\n",
       "  'color': '#',\n",
       "  'category': '러쉬 > 배쓰 > 펀',\n",
       "  'salePrice': 17000,\n",
       "  'originalPrice': 17000,\n",
       "  'brand': 'lush',\n",
       "  'volume': '#'}]"
      ]
     },
     "metadata": {},
     "output_type": "display_data"
    },
    {
     "data": {
      "text/plain": [
       "[{'name': '펀 핑크',\n",
       "  'url': 'https://lush.co.kr/goods/goods_view.php?goodsNo=116',\n",
       "  'image': ['https://lush.co.kr/data/goods/13/04/17/116/t50_116_detail_084.png',\n",
       "   'https://lush.co.kr/data/goods/13/04/17/116/t50_116_detail_120.png'],\n",
       "  'color': '#',\n",
       "  'category': '러쉬 > 배쓰 > 펀',\n",
       "  'salePrice': 17000,\n",
       "  'originalPrice': 17000,\n",
       "  'brand': 'lush',\n",
       "  'volume': '#'}]"
      ]
     },
     "metadata": {},
     "output_type": "display_data"
    },
    {
     "data": {
      "text/plain": [
       "[{'name': '펀 그린',\n",
       "  'url': 'https://lush.co.kr/goods/goods_view.php?goodsNo=115',\n",
       "  'image': ['https://lush.co.kr/data/goods/13/04/17/115/t50_115_detail_060.png',\n",
       "   'https://lush.co.kr/data/goods/13/04/17/115/t50_115_detail_11.png'],\n",
       "  'color': '#',\n",
       "  'category': '러쉬 > 배쓰 > 펀',\n",
       "  'salePrice': 17000,\n",
       "  'originalPrice': 17000,\n",
       "  'brand': 'lush',\n",
       "  'volume': '#'}]"
      ]
     },
     "metadata": {},
     "output_type": "display_data"
    },
    {
     "data": {
      "text/plain": [
       "[{'name': '펀 블루',\n",
       "  'url': 'https://lush.co.kr/goods/goods_view.php?goodsNo=114',\n",
       "  'image': ['https://lush.co.kr/data/goods/13/04/17/114/t50_114_detail_0100.png',\n",
       "   'https://lush.co.kr/data/goods/13/04/17/114/t50_114_detail_166.png'],\n",
       "  'color': '#',\n",
       "  'category': '러쉬 > 배쓰 > 펀',\n",
       "  'salePrice': 17000,\n",
       "  'originalPrice': 17000,\n",
       "  'brand': 'lush',\n",
       "  'volume': '#'}]"
      ]
     },
     "metadata": {},
     "output_type": "display_data"
    },
    {
     "data": {
      "text/plain": [
       "[{'name': '로즈 잼 버블룬',\n",
       "  'url': 'https://lush.co.kr/goods/goods_view.php?goodsNo=96',\n",
       "  'image': ['https://lush.co.kr/data/goods/12/02/14/96/t50_96_detail_069.png'],\n",
       "  'color': '#',\n",
       "  'category': '러쉬 > 배쓰 > 버블 바',\n",
       "  'salePrice': 17000,\n",
       "  'originalPrice': 17000,\n",
       "  'brand': 'lush',\n",
       "  'volume': '#'}]"
      ]
     },
     "metadata": {},
     "output_type": "display_data"
    },
    {
     "data": {
      "text/plain": [
       "[{'name': '이클 베이비 봇',\n",
       "  'url': 'https://lush.co.kr/goods/goods_view.php?goodsNo=92',\n",
       "  'image': ['https://lush.co.kr/data/goods/11/03/30/92/t50_92_detail_079.png'],\n",
       "  'color': '#',\n",
       "  'category': '러쉬 > 배쓰 > 배쓰 밤',\n",
       "  'salePrice': 6000,\n",
       "  'originalPrice': 6000,\n",
       "  'brand': 'lush',\n",
       "  'volume': '#'}]"
      ]
     },
     "metadata": {},
     "output_type": "display_data"
    },
    {
     "data": {
      "text/plain": [
       "[{'name': '크리미 캔디',\n",
       "  'url': 'https://lush.co.kr/goods/goods_view.php?goodsNo=80',\n",
       "  'image': ['https://lush.co.kr/data/goods/11/01/20/80/t50_80_detail_044.png'],\n",
       "  'color': '#',\n",
       "  'category': '러쉬 > 배쓰 > 버블 바',\n",
       "  'salePrice': 12000,\n",
       "  'originalPrice': 12000,\n",
       "  'brand': 'lush',\n",
       "  'volume': '#'}]"
      ]
     },
     "metadata": {},
     "output_type": "display_data"
    },
    {
     "data": {
      "text/plain": [
       "[{'name': '카마 버블바',\n",
       "  'url': 'https://lush.co.kr/goods/goods_view.php?goodsNo=73',\n",
       "  'image': ['https://lush.co.kr/data/goods/11/01/20/73/t50_73_detail_039.png'],\n",
       "  'color': '#',\n",
       "  'category': '러쉬 > 배쓰 > 버블 바',\n",
       "  'salePrice': 19000,\n",
       "  'originalPrice': 19000,\n",
       "  'brand': 'lush',\n",
       "  'volume': '#'}]"
      ]
     },
     "metadata": {},
     "output_type": "display_data"
    },
    {
     "data": {
      "text/plain": [
       "[{'name': '체리드웬즈 콜드론',\n",
       "  'url': 'https://lush.co.kr/goods/goods_view.php?goodsNo=72',\n",
       "  'image': ['https://lush.co.kr/data/goods/11/01/20/72/t50_72_detail_028.png'],\n",
       "  'color': '#',\n",
       "  'category': '러쉬 > 배쓰 > 배쓰 오일',\n",
       "  'salePrice': 18000,\n",
       "  'originalPrice': 18000,\n",
       "  'brand': 'lush',\n",
       "  'volume': '#'}]"
      ]
     },
     "metadata": {},
     "output_type": "display_data"
    },
    {
     "data": {
      "text/plain": [
       "[{'name': '아보배쓰',\n",
       "  'url': 'https://lush.co.kr/goods/goods_view.php?goodsNo=57',\n",
       "  'image': ['https://lush.co.kr/data/goods/11/01/20/57/t50_57_detail_01.png'],\n",
       "  'color': '#',\n",
       "  'category': '러쉬 > 배쓰 > 배쓰 밤',\n",
       "  'salePrice': 12000,\n",
       "  'originalPrice': 12000,\n",
       "  'brand': 'lush',\n",
       "  'volume': '#'}]"
      ]
     },
     "metadata": {},
     "output_type": "display_data"
    },
    {
     "data": {
      "text/plain": [
       "[{'name': '써니사이드',\n",
       "  'url': 'https://lush.co.kr/goods/goods_view.php?goodsNo=52',\n",
       "  'image': ['https://lush.co.kr/data/goods/11/01/20/52/t50_52_detail_078.png'],\n",
       "  'color': '#',\n",
       "  'category': '러쉬 > 배쓰 > 버블 바',\n",
       "  'salePrice': 19000,\n",
       "  'originalPrice': 19000,\n",
       "  'brand': 'lush',\n",
       "  'volume': '#'}]"
      ]
     },
     "metadata": {},
     "output_type": "display_data"
    },
    {
     "data": {
      "text/plain": [
       "[{'name': '섹스 밤',\n",
       "  'url': 'https://lush.co.kr/goods/goods_view.php?goodsNo=41',\n",
       "  'image': ['https://lush.co.kr/data/goods/11/01/20/41/t50_41_detail_098.png'],\n",
       "  'color': '#',\n",
       "  'category': '러쉬 > 배쓰 > 배쓰 밤',\n",
       "  'salePrice': 12000,\n",
       "  'originalPrice': 12000,\n",
       "  'brand': 'lush',\n",
       "  'volume': '#'}]"
      ]
     },
     "metadata": {},
     "output_type": "display_data"
    },
    {
     "data": {
      "text/plain": [
       "[{'name': '빅 블루',\n",
       "  'url': 'https://lush.co.kr/goods/goods_view.php?goodsNo=39',\n",
       "  'image': ['https://lush.co.kr/data/goods/11/01/20/39/t50_39_detail_057.png'],\n",
       "  'color': '#',\n",
       "  'category': '러쉬',\n",
       "  'salePrice': 12000,\n",
       "  'originalPrice': 12000,\n",
       "  'brand': 'lush',\n",
       "  'volume': '#'}]"
      ]
     },
     "metadata": {},
     "output_type": "display_data"
    },
    {
     "data": {
      "text/plain": [
       "[{'name': '블루 스카이스 앤드 플러피 화이트 클라우즈',\n",
       "  'url': 'https://lush.co.kr/goods/goods_view.php?goodsNo=36',\n",
       "  'image': ['https://lush.co.kr/data/goods/11/01/20/36/t50_36_detail_029.png'],\n",
       "  'color': '#',\n",
       "  'category': '러쉬',\n",
       "  'salePrice': 18000,\n",
       "  'originalPrice': 18000,\n",
       "  'brand': 'lush',\n",
       "  'volume': '#'}]"
      ]
     },
     "metadata": {},
     "output_type": "display_data"
    },
    {
     "data": {
      "text/plain": [
       "[{'name': '더 컴포터',\n",
       "  'url': 'https://lush.co.kr/goods/goods_view.php?goodsNo=18',\n",
       "  'image': ['https://lush.co.kr/data/goods/11/01/20/18/t50_18_detail_059.png'],\n",
       "  'color': '#',\n",
       "  'category': '러쉬 > 배쓰 > 버블 바',\n",
       "  'salePrice': 18000,\n",
       "  'originalPrice': 18000,\n",
       "  'brand': 'lush',\n",
       "  'volume': '#'}]"
      ]
     },
     "metadata": {},
     "output_type": "display_data"
    },
    {
     "data": {
      "text/plain": [
       "[{'name': '스파클리 펌킨',\n",
       "  'url': 'https://lush.co.kr/goods/goods_view.php?goodsNo=550',\n",
       "  'image': ['https://lush.co.kr/data/goods/18/09/19/550/t50_550_detail_082.png'],\n",
       "  'color': '#',\n",
       "  'category': '러쉬',\n",
       "  'salePrice': 13000,\n",
       "  'originalPrice': 13000,\n",
       "  'brand': 'lush',\n",
       "  'volume': '#'}]"
      ]
     },
     "metadata": {},
     "output_type": "display_data"
    },
    {
     "data": {
      "text/plain": [
       "[{'name': '페스티브 프렌즈 펀',\n",
       "  'url': 'https://lush.co.kr/goods/goods_view.php?goodsNo=477',\n",
       "  'image': ['https://lush.co.kr/data/goods/18/09/14/477/t50_477_detail_095.png'],\n",
       "  'color': '#',\n",
       "  'category': '러쉬',\n",
       "  'salePrice': 25000,\n",
       "  'originalPrice': 25000,\n",
       "  'brand': 'lush',\n",
       "  'volume': '#'}]"
      ]
     },
     "metadata": {},
     "output_type": "display_data"
    },
    {
     "data": {
      "text/plain": [
       "[{'name': '스타 라이트 스타 브라이트',\n",
       "  'url': 'https://lush.co.kr/goods/goods_view.php?goodsNo=476',\n",
       "  'image': ['https://lush.co.kr/data/goods/18/09/14/476/t50_476_detail_076.png'],\n",
       "  'color': '#',\n",
       "  'category': '러쉬',\n",
       "  'salePrice': 14000,\n",
       "  'originalPrice': 14000,\n",
       "  'brand': 'lush',\n",
       "  'volume': '#'}]"
      ]
     },
     "metadata": {},
     "output_type": "display_data"
    },
    {
     "data": {
      "text/plain": [
       "[{'name': '플럼 푸딩',\n",
       "  'url': 'https://lush.co.kr/goods/goods_view.php?goodsNo=475',\n",
       "  'image': ['https://lush.co.kr/data/goods/18/09/14/475/t50_475_detail_076.png'],\n",
       "  'color': '#',\n",
       "  'category': '러쉬',\n",
       "  'salePrice': 18000,\n",
       "  'originalPrice': 18000,\n",
       "  'brand': 'lush',\n",
       "  'volume': '#'}]"
      ]
     },
     "metadata": {},
     "output_type": "display_data"
    },
    {
     "data": {
      "text/plain": [
       "[{'name': '요그 노그 율 로그',\n",
       "  'url': 'https://lush.co.kr/goods/goods_view.php?goodsNo=471',\n",
       "  'image': ['https://lush.co.kr/data/goods/18/09/14/471/t50_471_detail_087.png'],\n",
       "  'color': '#',\n",
       "  'category': '러쉬',\n",
       "  'salePrice': 16000,\n",
       "  'originalPrice': 16000,\n",
       "  'brand': 'lush',\n",
       "  'volume': '#'}]"
      ]
     },
     "metadata": {},
     "output_type": "display_data"
    },
    {
     "data": {
      "text/plain": [
       "[{'name': '캔디 캐인',\n",
       "  'url': 'https://lush.co.kr/goods/goods_view.php?goodsNo=466',\n",
       "  'image': ['https://lush.co.kr/data/goods/18/09/14/466/t50_466_detail_013.png'],\n",
       "  'color': '#',\n",
       "  'category': '러쉬',\n",
       "  'salePrice': 12000,\n",
       "  'originalPrice': 12000,\n",
       "  'brand': 'lush',\n",
       "  'volume': '#'}]"
      ]
     },
     "metadata": {},
     "output_type": "display_data"
    },
    {
     "data": {
      "text/plain": [
       "[{'name': '더 월드스 스몰리스트 디스코',\n",
       "  'url': 'https://lush.co.kr/goods/goods_view.php?goodsNo=464',\n",
       "  'image': ['https://lush.co.kr/data/goods/18/09/14/464/t50_464_detail_099.png'],\n",
       "  'color': '#',\n",
       "  'category': '러쉬',\n",
       "  'salePrice': 17000,\n",
       "  'originalPrice': 17000,\n",
       "  'brand': 'lush',\n",
       "  'volume': '#'}]"
      ]
     },
     "metadata": {},
     "output_type": "display_data"
    },
    {
     "data": {
      "text/plain": [
       "[{'name': '펄 드 셀',\n",
       "  'url': 'https://lush.co.kr/goods/goods_view.php?goodsNo=459',\n",
       "  'image': ['https://lush.co.kr/data/goods/18/09/14/459/t50_459_detail_04.png'],\n",
       "  'color': '#',\n",
       "  'category': '러쉬',\n",
       "  'salePrice': 16000,\n",
       "  'originalPrice': 16000,\n",
       "  'brand': 'lush',\n",
       "  'volume': '#'}]"
      ]
     },
     "metadata": {},
     "output_type": "display_data"
    },
    {
     "data": {
      "text/plain": [
       "[{'name': '몬스터스 볼',\n",
       "  'url': 'https://lush.co.kr/goods/goods_view.php?goodsNo=458',\n",
       "  'image': ['https://lush.co.kr/data/goods/18/09/14/458/t50_458_detail_073.png'],\n",
       "  'color': '#',\n",
       "  'category': '러쉬',\n",
       "  'salePrice': 16000,\n",
       "  'originalPrice': 16000,\n",
       "  'brand': 'lush',\n",
       "  'volume': '#'}]"
      ]
     },
     "metadata": {},
     "output_type": "display_data"
    },
    {
     "data": {
      "text/plain": [
       "[{'name': '로드 오브 미스룰',\n",
       "  'url': 'https://lush.co.kr/goods/goods_view.php?goodsNo=456',\n",
       "  'image': ['https://lush.co.kr/data/goods/18/09/14/456/t50_456_detail_027.png'],\n",
       "  'color': '#',\n",
       "  'category': '러쉬',\n",
       "  'salePrice': 14000,\n",
       "  'originalPrice': 14000,\n",
       "  'brand': 'lush',\n",
       "  'volume': '#'}]"
      ]
     },
     "metadata": {},
     "output_type": "display_data"
    },
    {
     "data": {
      "text/plain": [
       "[{'name': '아이 볼',\n",
       "  'url': 'https://lush.co.kr/goods/goods_view.php?goodsNo=454',\n",
       "  'image': ['https://lush.co.kr/data/goods/18/09/14/454/t50_454_detail_025.png'],\n",
       "  'color': '#',\n",
       "  'category': '러쉬',\n",
       "  'salePrice': 14000,\n",
       "  'originalPrice': 14000,\n",
       "  'brand': 'lush',\n",
       "  'volume': '#'}]"
      ]
     },
     "metadata": {},
     "output_type": "display_data"
    },
    {
     "data": {
      "text/plain": [
       "[{'name': '치어리 크리스마스',\n",
       "  'url': 'https://lush.co.kr/goods/goods_view.php?goodsNo=453',\n",
       "  'image': ['https://lush.co.kr/data/goods/18/09/14/453/t50_453_detail_011.png'],\n",
       "  'color': '#',\n",
       "  'category': '러쉬',\n",
       "  'salePrice': 12000,\n",
       "  'originalPrice': 12000,\n",
       "  'brand': 'lush',\n",
       "  'volume': '#'}]"
      ]
     },
     "metadata": {},
     "output_type": "display_data"
    },
    {
     "data": {
      "text/plain": [
       "[{'name': '버터베어',\n",
       "  'url': 'https://lush.co.kr/goods/goods_view.php?goodsNo=452',\n",
       "  'image': ['https://lush.co.kr/data/goods/18/09/14/452/t50_452_detail_03.png'],\n",
       "  'color': '#',\n",
       "  'category': '러쉬',\n",
       "  'salePrice': 8000,\n",
       "  'originalPrice': 8000,\n",
       "  'brand': 'lush',\n",
       "  'volume': '#'}]"
      ]
     },
     "metadata": {},
     "output_type": "display_data"
    },
    {
     "data": {
      "text/plain": [
       "[{'name': '오일 온 트러블드 워터',\n",
       "  'url': 'https://lush.co.kr/goods/goods_view.php?goodsNo=430',\n",
       "  'image': ['https://lush.co.kr/data/goods/18/05/28/430/t50_430_detail_016.png'],\n",
       "  'color': '#',\n",
       "  'category': '러쉬 > 배쓰 > 배쓰 오일',\n",
       "  'salePrice': 8000,\n",
       "  'originalPrice': 8000,\n",
       "  'brand': 'lush',\n",
       "  'volume': '#'}]"
      ]
     },
     "metadata": {},
     "output_type": "display_data"
    },
    {
     "data": {
      "text/plain": [
       "[{'name': '플라워스 배로우',\n",
       "  'url': 'https://lush.co.kr/goods/goods_view.php?goodsNo=397',\n",
       "  'image': ['https://lush.co.kr/data/goods/18/03/20/397/t50_397_detail_064.png'],\n",
       "  'color': '#',\n",
       "  'category': '러쉬 > 배쓰 > 배쓰 오일',\n",
       "  'salePrice': 8000,\n",
       "  'originalPrice': 8000,\n",
       "  'brand': 'lush',\n",
       "  'volume': '#'}]"
      ]
     },
     "metadata": {},
     "output_type": "display_data"
    },
    {
     "data": {
      "text/plain": [
       "[{'name': '폴리아모러스',\n",
       "  'url': 'https://lush.co.kr/goods/goods_view.php?goodsNo=394',\n",
       "  'image': ['https://lush.co.kr/data/goods/18/03/20/394/t50_394_detail_057.png'],\n",
       "  'color': '#',\n",
       "  'category': '러쉬 > 배쓰 > 배쓰 오일',\n",
       "  'salePrice': 8000,\n",
       "  'originalPrice': 8000,\n",
       "  'brand': 'lush',\n",
       "  'volume': '#'}]"
      ]
     },
     "metadata": {},
     "output_type": "display_data"
    },
    {
     "data": {
      "text/plain": [
       "[{'name': '바닐라리',\n",
       "  'url': 'https://lush.co.kr/goods/goods_view.php?goodsNo=1000000116',\n",
       "  'image': ['https://lush.co.kr/data/goods/18/12/50/1000000116/t50_1000000116_detail_099.png',\n",
       "   'https://lush.co.kr/data/goods/18/12/50/1000000116/t50_1000000116_detail_131.png'],\n",
       "  'color': '#',\n",
       "  'category': '러쉬 > 보디 > 보디 스프레이',\n",
       "  'salePrice': 65000,\n",
       "  'originalPrice': 65000,\n",
       "  'brand': 'lush',\n",
       "  'volume': '#'}]"
      ]
     },
     "metadata": {},
     "output_type": "display_data"
    },
    {
     "data": {
      "text/plain": [
       "[{'name': '로즈 잼',\n",
       "  'url': 'https://lush.co.kr/goods/goods_view.php?goodsNo=247',\n",
       "  'image': ['https://lush.co.kr/data/goods/17/08/16/247/t50_247_detail_081.png',\n",
       "   'https://lush.co.kr/data/goods/17/08/16/247/t50_247_detail_127.png'],\n",
       "  'color': '#',\n",
       "  'category': '러쉬 > 보디 > 보디 스프레이',\n",
       "  'salePrice': 65000,\n",
       "  'originalPrice': 65000,\n",
       "  'brand': 'lush',\n",
       "  'volume': '#'}]"
      ]
     },
     "metadata": {},
     "output_type": "display_data"
    },
    {
     "data": {
      "text/plain": [
       "[{'name': '아보카도 코-워시',\n",
       "  'url': 'https://lush.co.kr/goods/goods_view.php?goodsNo=1000000092',\n",
       "  'image': ['https://lush.co.kr/data/goods/18/12/49/1000000092/t50_1000000092_detail_077.png',\n",
       "   'https://lush.co.kr/data/goods/18/12/49/1000000092/t50_1000000092_detail_149.png'],\n",
       "  'color': '#',\n",
       "  'category': '러쉬 > 보디 > 보디 스프레이',\n",
       "  'salePrice': 50000,\n",
       "  'originalPrice': 50000,\n",
       "  'brand': 'lush',\n",
       "  'volume': '#'}]"
      ]
     },
     "metadata": {},
     "output_type": "display_data"
    },
    {
     "data": {
      "text/plain": [
       "[{'name': '골든 페어',\n",
       "  'url': 'https://lush.co.kr/goods/goods_view.php?goodsNo=1000000091',\n",
       "  'image': ['https://lush.co.kr/data/goods/18/12/49/1000000091/t50_1000000091_detail_029.png',\n",
       "   'https://lush.co.kr/data/goods/18/12/49/1000000091/t50_1000000091_detail_119.png'],\n",
       "  'color': '#',\n",
       "  'category': '러쉬 > 보디 > 보디 스프레이',\n",
       "  'salePrice': 50000,\n",
       "  'originalPrice': 50000,\n",
       "  'brand': 'lush',\n",
       "  'volume': '#'}]"
      ]
     },
     "metadata": {},
     "output_type": "display_data"
    },
    {
     "data": {
      "text/plain": [
       "[{'name': '칼라카스',\n",
       "  'url': 'https://lush.co.kr/goods/goods_view.php?goodsNo=1000000090',\n",
       "  'image': ['https://lush.co.kr/data/goods/18/12/49/1000000090/t50_1000000090_detail_039.png',\n",
       "   'https://lush.co.kr/data/goods/18/12/49/1000000090/t50_1000000090_detail_143.png'],\n",
       "  'color': '#',\n",
       "  'category': '러쉬 > 보디 > 보디 스프레이',\n",
       "  'salePrice': 50000,\n",
       "  'originalPrice': 50000,\n",
       "  'brand': 'lush',\n",
       "  'volume': '#'}]"
      ]
     },
     "metadata": {},
     "output_type": "display_data"
    },
    {
     "data": {
      "text/plain": [
       "[{'name': '트와일라잇',\n",
       "  'url': 'https://lush.co.kr/goods/goods_view.php?goodsNo=248',\n",
       "  'image': ['https://lush.co.kr/data/goods/17/08/16/248/t50_248_detail_018.png',\n",
       "   'https://lush.co.kr/data/goods/17/08/16/248/t50_248_detail_140.png'],\n",
       "  'color': '#',\n",
       "  'category': '러쉬 > 보디 > 보디 스프레이',\n",
       "  'salePrice': 50000,\n",
       "  'originalPrice': 50000,\n",
       "  'brand': 'lush',\n",
       "  'volume': '#'}]"
      ]
     },
     "metadata": {},
     "output_type": "display_data"
    },
    {
     "data": {
      "text/plain": [
       "[{'name': '더티 보디 스프레이',\n",
       "  'url': 'https://lush.co.kr/goods/goods_view.php?goodsNo=246',\n",
       "  'image': ['https://lush.co.kr/data/goods/17/08/16/246/t50_246_detail_078.png',\n",
       "   'https://lush.co.kr/data/goods/17/08/16/246/t50_246_detail_16.png'],\n",
       "  'color': '#',\n",
       "  'category': '러쉬 > 보디 > 보디 스프레이',\n",
       "  'salePrice': 50000,\n",
       "  'originalPrice': 50000,\n",
       "  'brand': 'lush',\n",
       "  'volume': '#'}]"
      ]
     },
     "metadata": {},
     "output_type": "display_data"
    },
    {
     "data": {
      "text/plain": [
       "[{'name': '대드스 가든 레몬 트리',\n",
       "  'url': 'https://lush.co.kr/goods/goods_view.php?goodsNo=245',\n",
       "  'image': ['https://lush.co.kr/data/goods/17/08/16/245/t50_245_detail_038.png',\n",
       "   'https://lush.co.kr/data/goods/17/08/16/245/t50_245_detail_145.png'],\n",
       "  'color': '#',\n",
       "  'category': '러쉬 > 보디 > 보디 스프레이',\n",
       "  'salePrice': 47000,\n",
       "  'originalPrice': 47000,\n",
       "  'brand': 'lush',\n",
       "  'volume': '#'}]"
      ]
     },
     "metadata": {},
     "output_type": "display_data"
    },
    {
     "data": {
      "text/plain": [
       "[{'name': '로즈 아르간 보디 컨디셔너',\n",
       "  'url': 'https://lush.co.kr/goods/goods_view.php?goodsNo=333',\n",
       "  'image': ['https://lush.co.kr/data/goods/17/10/23/333/t50_333_detail_018.png',\n",
       "   'https://lush.co.kr/data/goods/17/10/23/333/t50_333_detail_123.png',\n",
       "   'https://lush.co.kr/data/goods/17/10/23/333/t50_333_detail_211.png'],\n",
       "  'color': '#',\n",
       "  'category': '러쉬',\n",
       "  'salePrice': 42000,\n",
       "  'originalPrice': 42000,\n",
       "  'brand': 'lush',\n",
       "  'volume': '225g'},\n",
       " {'name': '로즈 아르간 보디 컨디셔너',\n",
       "  'url': 'https://lush.co.kr/goods/goods_view.php?goodsNo=333',\n",
       "  'image': ['https://lush.co.kr/data/goods/17/10/23/333/t50_333_detail_018.png',\n",
       "   'https://lush.co.kr/data/goods/17/10/23/333/t50_333_detail_123.png',\n",
       "   'https://lush.co.kr/data/goods/17/10/23/333/t50_333_detail_211.png'],\n",
       "  'color': '#',\n",
       "  'category': '러쉬',\n",
       "  'salePrice': 42000,\n",
       "  'originalPrice': 42000,\n",
       "  'brand': 'lush',\n",
       "  'volume': '450g:￦+36,000'}]"
      ]
     },
     "metadata": {},
     "output_type": "display_data"
    },
    {
     "data": {
      "text/plain": [
       "[{'name': '오티 크리미 드리미 225g',\n",
       "  'url': 'https://lush.co.kr/goods/goods_view.php?goodsNo=1000000027',\n",
       "  'image': ['https://lush.co.kr/data/goods/18/11/48/1000000027/t50_1000000027_detail_023.png',\n",
       "   'https://lush.co.kr/data/goods/18/11/48/1000000027/t50_1000000027_detail_125.png'],\n",
       "  'color': '#',\n",
       "  'category': '러쉬 > 샤워 > 샤워 젤 & 젤리',\n",
       "  'salePrice': 40000,\n",
       "  'originalPrice': 40000,\n",
       "  'brand': 'lush',\n",
       "  'volume': '#'}]"
      ]
     },
     "metadata": {},
     "output_type": "display_data"
    },
    {
     "data": {
      "text/plain": [
       "[{'name': '스크럽 스크럽 스크럽',\n",
       "  'url': 'https://lush.co.kr/goods/goods_view.php?goodsNo=1000000106',\n",
       "  'image': ['https://lush.co.kr/data/goods/18/12/49/1000000106/t50_1000000106_detail_03.png',\n",
       "   'https://lush.co.kr/data/goods/18/12/49/1000000106/t50_1000000106_detail_15.png',\n",
       "   'https://lush.co.kr/data/goods/18/12/49/1000000106/t50_1000000106_detail_244.png'],\n",
       "  'color': '#',\n",
       "  'category': '러쉬 > 샤워 > 스크럽 & 버터',\n",
       "  'salePrice': 34000,\n",
       "  'originalPrice': 34000,\n",
       "  'brand': 'lush',\n",
       "  'volume': '300g'},\n",
       " {'name': '스크럽 스크럽 스크럽',\n",
       "  'url': 'https://lush.co.kr/goods/goods_view.php?goodsNo=1000000106',\n",
       "  'image': ['https://lush.co.kr/data/goods/18/12/49/1000000106/t50_1000000106_detail_03.png',\n",
       "   'https://lush.co.kr/data/goods/18/12/49/1000000106/t50_1000000106_detail_15.png',\n",
       "   'https://lush.co.kr/data/goods/18/12/49/1000000106/t50_1000000106_detail_244.png'],\n",
       "  'color': '#',\n",
       "  'category': '러쉬 > 샤워 > 스크럽 & 버터',\n",
       "  'salePrice': 34000,\n",
       "  'originalPrice': 34000,\n",
       "  'brand': 'lush',\n",
       "  'volume': '600g:￦+28,000'}]"
      ]
     },
     "metadata": {},
     "output_type": "display_data"
    },
    {
     "data": {
      "text/plain": [
       "[{'name': '매직 크리스탈스',\n",
       "  'url': 'https://lush.co.kr/goods/goods_view.php?goodsNo=1000000026',\n",
       "  'image': ['https://lush.co.kr/data/goods/18/11/48/1000000026/t50_1000000026_detail_035.png',\n",
       "   'https://lush.co.kr/data/goods/18/11/48/1000000026/t50_1000000026_detail_190.png'],\n",
       "  'color': '#',\n",
       "  'category': '러쉬 > 샤워 > 스크럽 & 버터',\n",
       "  'salePrice': 32000,\n",
       "  'originalPrice': 32000,\n",
       "  'brand': 'lush',\n",
       "  'volume': '300g'},\n",
       " {'name': '매직 크리스탈스',\n",
       "  'url': 'https://lush.co.kr/goods/goods_view.php?goodsNo=1000000026',\n",
       "  'image': ['https://lush.co.kr/data/goods/18/11/48/1000000026/t50_1000000026_detail_035.png',\n",
       "   'https://lush.co.kr/data/goods/18/11/48/1000000026/t50_1000000026_detail_190.png'],\n",
       "  'color': '#',\n",
       "  'category': '러쉬 > 샤워 > 스크럽 & 버터',\n",
       "  'salePrice': 32000,\n",
       "  'originalPrice': 32000,\n",
       "  'brand': 'lush',\n",
       "  'volume': '600g:￦+26,000'}]"
      ]
     },
     "metadata": {},
     "output_type": "display_data"
    },
    {
     "data": {
      "text/plain": [
       "[{'name': '크리스팅글',\n",
       "  'url': 'https://lush.co.kr/goods/goods_view.php?goodsNo=482',\n",
       "  'image': ['https://lush.co.kr/data/goods/18/09/17/482/t50_482_detail_091.png',\n",
       "   'https://lush.co.kr/data/goods/18/09/17/482/t50_482_detail_178.png',\n",
       "   'https://lush.co.kr/data/goods/18/09/17/482/t50_482_detail_252.png'],\n",
       "  'color': '#',\n",
       "  'category': '러쉬',\n",
       "  'salePrice': 31000,\n",
       "  'originalPrice': 31000,\n",
       "  'brand': 'lush',\n",
       "  'volume': '100g'},\n",
       " {'name': '크리스팅글',\n",
       "  'url': 'https://lush.co.kr/goods/goods_view.php?goodsNo=482',\n",
       "  'image': ['https://lush.co.kr/data/goods/18/09/17/482/t50_482_detail_091.png',\n",
       "   'https://lush.co.kr/data/goods/18/09/17/482/t50_482_detail_178.png',\n",
       "   'https://lush.co.kr/data/goods/18/09/17/482/t50_482_detail_252.png'],\n",
       "  'color': '#',\n",
       "  'category': '러쉬',\n",
       "  'salePrice': 31000,\n",
       "  'originalPrice': 31000,\n",
       "  'brand': 'lush',\n",
       "  'volume': '225g:￦+27,000'}]"
      ]
     },
     "metadata": {},
     "output_type": "display_data"
    },
    {
     "data": {
      "text/plain": [
       "[{'name': '럽 럽 럽',\n",
       "  'url': 'https://lush.co.kr/goods/goods_view.php?goodsNo=93',\n",
       "  'image': ['https://lush.co.kr/data/goods/11/08/03/93/t50_93_detail_085.png',\n",
       "   'https://lush.co.kr/data/goods/11/08/03/93/t50_93_detail_138.png',\n",
       "   'https://lush.co.kr/data/goods/11/08/03/93/t50_93_detail_243.png'],\n",
       "  'color': '#',\n",
       "  'category': '러쉬 > 샤워 > 스크럽 & 버터',\n",
       "  'salePrice': 30000,\n",
       "  'originalPrice': 30000,\n",
       "  'brand': 'lush',\n",
       "  'volume': '300g'},\n",
       " {'name': '럽 럽 럽',\n",
       "  'url': 'https://lush.co.kr/goods/goods_view.php?goodsNo=93',\n",
       "  'image': ['https://lush.co.kr/data/goods/11/08/03/93/t50_93_detail_085.png',\n",
       "   'https://lush.co.kr/data/goods/11/08/03/93/t50_93_detail_138.png',\n",
       "   'https://lush.co.kr/data/goods/11/08/03/93/t50_93_detail_243.png'],\n",
       "  'color': '#',\n",
       "  'category': '러쉬 > 샤워 > 스크럽 & 버터',\n",
       "  'salePrice': 30000,\n",
       "  'originalPrice': 30000,\n",
       "  'brand': 'lush',\n",
       "  'volume': '600g:￦+24,000'}]"
      ]
     },
     "metadata": {},
     "output_type": "display_data"
    },
    {
     "data": {
      "text/plain": [
       "[{'name': '오션 솔트 셀프-프리저빙',\n",
       "  'url': 'https://lush.co.kr/goods/goods_view.php?goodsNo=153',\n",
       "  'image': ['https://lush.co.kr/data/goods/15/01/07/153/t50_153_detail_058.png',\n",
       "   'https://lush.co.kr/data/goods/15/01/07/153/t50_153_detail_112.png',\n",
       "   'https://lush.co.kr/data/goods/15/01/07/153/t50_153_detail_238.png'],\n",
       "  'color': '#',\n",
       "  'category': '러쉬 > 페이스 > 클렌저',\n",
       "  'salePrice': 27000,\n",
       "  'originalPrice': 27000,\n",
       "  'brand': 'lush',\n",
       "  'volume': '120g'},\n",
       " {'name': '오션 솔트 셀프-프리저빙',\n",
       "  'url': 'https://lush.co.kr/goods/goods_view.php?goodsNo=153',\n",
       "  'image': ['https://lush.co.kr/data/goods/15/01/07/153/t50_153_detail_058.png',\n",
       "   'https://lush.co.kr/data/goods/15/01/07/153/t50_153_detail_112.png',\n",
       "   'https://lush.co.kr/data/goods/15/01/07/153/t50_153_detail_238.png'],\n",
       "  'color': '#',\n",
       "  'category': '러쉬 > 페이스 > 클렌저',\n",
       "  'salePrice': 27000,\n",
       "  'originalPrice': 27000,\n",
       "  'brand': 'lush',\n",
       "  'volume': '250g:￦+25,000'}]"
      ]
     },
     "metadata": {},
     "output_type": "display_data"
    },
    {
     "data": {
      "text/plain": [
       "[{'name': '오션 솔트',\n",
       "  'url': 'https://lush.co.kr/goods/goods_view.php?goodsNo=65',\n",
       "  'image': ['https://lush.co.kr/data/goods/11/01/20/65/t50_65_detail_061.png',\n",
       "   'https://lush.co.kr/data/goods/11/01/20/65/t50_65_detail_116.png',\n",
       "   'https://lush.co.kr/data/goods/11/01/20/65/t50_65_detail_267.png'],\n",
       "  'color': '#',\n",
       "  'category': '러쉬 > 페이스 > 클렌저',\n",
       "  'salePrice': 27000,\n",
       "  'originalPrice': 27000,\n",
       "  'brand': 'lush',\n",
       "  'volume': '120g'},\n",
       " {'name': '오션 솔트',\n",
       "  'url': 'https://lush.co.kr/goods/goods_view.php?goodsNo=65',\n",
       "  'image': ['https://lush.co.kr/data/goods/11/01/20/65/t50_65_detail_061.png',\n",
       "   'https://lush.co.kr/data/goods/11/01/20/65/t50_65_detail_116.png',\n",
       "   'https://lush.co.kr/data/goods/11/01/20/65/t50_65_detail_267.png'],\n",
       "  'color': '#',\n",
       "  'category': '러쉬 > 페이스 > 클렌저',\n",
       "  'salePrice': 27000,\n",
       "  'originalPrice': 27000,\n",
       "  'brand': 'lush',\n",
       "  'volume': '250g:￦+25,000'}]"
      ]
     },
     "metadata": {},
     "output_type": "display_data"
    },
    {
     "data": {
      "text/plain": [
       "[{'name': '슬리피',\n",
       "  'url': 'https://lush.co.kr/goods/goods_view.php?goodsNo=517',\n",
       "  'image': ['https://lush.co.kr/data/goods/18/09/17/517/t50_517_detail_07.png'],\n",
       "  'color': '#',\n",
       "  'category': '러쉬',\n",
       "  'salePrice': 26000,\n",
       "  'originalPrice': 26000,\n",
       "  'brand': 'lush',\n",
       "  'volume': '#'}]"
      ]
     },
     "metadata": {},
     "output_type": "display_data"
    },
    {
     "data": {
      "text/plain": [
       "[{'name': '스노우 페어리',\n",
       "  'url': 'https://lush.co.kr/goods/goods_view.php?goodsNo=518',\n",
       "  'image': ['https://lush.co.kr/data/goods/18/09/17/518/t50_518_detail_029.png'],\n",
       "  'color': '#',\n",
       "  'category': '러쉬',\n",
       "  'salePrice': 24000,\n",
       "  'originalPrice': 24000,\n",
       "  'brand': 'lush',\n",
       "  'volume': '#'}]"
      ]
     },
     "metadata": {},
     "output_type": "display_data"
    },
    {
     "data": {
      "text/plain": [
       "[{'name': '벅스 피즈',\n",
       "  'url': 'https://lush.co.kr/goods/goods_view.php?goodsNo=481',\n",
       "  'image': ['https://lush.co.kr/data/goods/18/09/17/481/t50_481_detail_065.png',\n",
       "   'https://lush.co.kr/data/goods/18/09/17/481/t50_481_detail_146.png',\n",
       "   'https://lush.co.kr/data/goods/18/09/17/481/t50_481_detail_232.png'],\n",
       "  'color': '#',\n",
       "  'category': '러쉬',\n",
       "  'salePrice': 24000,\n",
       "  'originalPrice': 24000,\n",
       "  'brand': 'lush',\n",
       "  'volume': '100g'},\n",
       " {'name': '벅스 피즈',\n",
       "  'url': 'https://lush.co.kr/goods/goods_view.php?goodsNo=481',\n",
       "  'image': ['https://lush.co.kr/data/goods/18/09/17/481/t50_481_detail_065.png',\n",
       "   'https://lush.co.kr/data/goods/18/09/17/481/t50_481_detail_146.png',\n",
       "   'https://lush.co.kr/data/goods/18/09/17/481/t50_481_detail_232.png'],\n",
       "  'color': '#',\n",
       "  'category': '러쉬',\n",
       "  'salePrice': 24000,\n",
       "  'originalPrice': 24000,\n",
       "  'brand': 'lush',\n",
       "  'volume': '225g:￦+20,000'}]"
      ]
     },
     "metadata": {},
     "output_type": "display_data"
    },
    {
     "data": {
      "text/plain": [
       "[{'name': '아메리칸 파이',\n",
       "  'url': 'https://lush.co.kr/goods/goods_view.php?goodsNo=1000000175',\n",
       "  'image': ['https://lush.co.kr/data/goods/19/01/04/1000000175/t50_1000000175_detail_098.png',\n",
       "   'https://lush.co.kr/data/goods/19/01/04/1000000175/t50_1000000175_detail_144.jpg',\n",
       "   'https://lush.co.kr/data/goods/19/01/04/1000000175/t50_1000000175_detail_220.png'],\n",
       "  'color': '#',\n",
       "  'category': '러쉬 > 프로모션 > 발렌타인',\n",
       "  'salePrice': 23000,\n",
       "  'originalPrice': 23000,\n",
       "  'brand': 'lush',\n",
       "  'volume': '100g'},\n",
       " {'name': '아메리칸 파이',\n",
       "  'url': 'https://lush.co.kr/goods/goods_view.php?goodsNo=1000000175',\n",
       "  'image': ['https://lush.co.kr/data/goods/19/01/04/1000000175/t50_1000000175_detail_098.png',\n",
       "   'https://lush.co.kr/data/goods/19/01/04/1000000175/t50_1000000175_detail_144.jpg',\n",
       "   'https://lush.co.kr/data/goods/19/01/04/1000000175/t50_1000000175_detail_220.png'],\n",
       "  'color': '#',\n",
       "  'category': '러쉬 > 프로모션 > 발렌타인',\n",
       "  'salePrice': 23000,\n",
       "  'originalPrice': 23000,\n",
       "  'brand': 'lush',\n",
       "  'volume': '240g:￦+19,000'}]"
      ]
     },
     "metadata": {},
     "output_type": "display_data"
    },
    {
     "data": {
      "text/plain": [
       "[{'name': '골든 페어',\n",
       "  'url': 'https://lush.co.kr/goods/goods_view.php?goodsNo=554',\n",
       "  'image': ['https://lush.co.kr/data/goods/18/09/19/554/t50_554_detail_07.png'],\n",
       "  'color': '#',\n",
       "  'category': '러쉬',\n",
       "  'salePrice': 22000,\n",
       "  'originalPrice': 22000,\n",
       "  'brand': 'lush',\n",
       "  'volume': '#'}]"
      ]
     },
     "metadata": {},
     "output_type": "display_data"
    },
    {
     "data": {
      "text/plain": [
       "[{'name': '올리브 트리',\n",
       "  'url': 'https://lush.co.kr/goods/goods_view.php?goodsNo=251',\n",
       "  'image': ['https://lush.co.kr/data/goods/17/08/25/251/t50_251_detail_055.png'],\n",
       "  'color': '#',\n",
       "  'category': '러쉬 > 샤워 > 솝',\n",
       "  'salePrice': 22000,\n",
       "  'originalPrice': 22000,\n",
       "  'brand': 'lush',\n",
       "  'volume': '#'}]"
      ]
     },
     "metadata": {},
     "output_type": "display_data"
    },
    {
     "data": {
      "text/plain": [
       "[{'name': '레인보우',\n",
       "  'url': 'https://lush.co.kr/goods/goods_view.php?goodsNo=201',\n",
       "  'image': ['https://lush.co.kr/data/goods/16/05/09/201/t50_201_detail_032.png',\n",
       "   'https://lush.co.kr/data/goods/16/05/09/201/t50_201_detail_15.png'],\n",
       "  'color': '#',\n",
       "  'category': '러쉬 > 배쓰 > 펀',\n",
       "  'salePrice': 22000,\n",
       "  'originalPrice': 22000,\n",
       "  'brand': 'lush',\n",
       "  'volume': '#'}]"
      ]
     },
     "metadata": {},
     "output_type": "display_data"
    },
    {
     "data": {
      "text/plain": [
       "[{'name': '몬스터스 & 에일리언스',\n",
       "  'url': 'https://lush.co.kr/goods/goods_view.php?goodsNo=200',\n",
       "  'image': ['https://lush.co.kr/data/goods/16/05/09/200/t50_200_detail_073.png',\n",
       "   'https://lush.co.kr/data/goods/16/05/09/200/t50_200_detail_169.png'],\n",
       "  'color': '#',\n",
       "  'category': '러쉬 > 배쓰 > 펀',\n",
       "  'salePrice': 22000,\n",
       "  'originalPrice': 22000,\n",
       "  'brand': 'lush',\n",
       "  'volume': '#'}]"
      ]
     },
     "metadata": {},
     "output_type": "display_data"
    },
    {
     "data": {
      "text/plain": [
       "[{'name': '마스크 오브 매그너민티',\n",
       "  'url': 'https://lush.co.kr/goods/goods_view.php?goodsNo=97',\n",
       "  'image': ['https://lush.co.kr/data/goods/12/03/07/97/t50_97_detail_042.png',\n",
       "   'https://lush.co.kr/data/goods/12/03/07/97/t50_97_detail_115.png',\n",
       "   'https://lush.co.kr/data/goods/12/03/07/97/t50_97_detail_293.png'],\n",
       "  'color': '#',\n",
       "  'category': '러쉬 > 페이스 > 클렌저',\n",
       "  'salePrice': 20000,\n",
       "  'originalPrice': 20000,\n",
       "  'brand': 'lush',\n",
       "  'volume': '125g'},\n",
       " {'name': '마스크 오브 매그너민티',\n",
       "  'url': 'https://lush.co.kr/goods/goods_view.php?goodsNo=97',\n",
       "  'image': ['https://lush.co.kr/data/goods/12/03/07/97/t50_97_detail_042.png',\n",
       "   'https://lush.co.kr/data/goods/12/03/07/97/t50_97_detail_115.png',\n",
       "   'https://lush.co.kr/data/goods/12/03/07/97/t50_97_detail_293.png'],\n",
       "  'color': '#',\n",
       "  'category': '러쉬 > 페이스 > 클렌저',\n",
       "  'salePrice': 20000,\n",
       "  'originalPrice': 20000,\n",
       "  'brand': 'lush',\n",
       "  'volume': '315g:￦+20,000'}]"
      ]
     },
     "metadata": {},
     "output_type": "display_data"
    },
    {
     "data": {
      "text/plain": [
       "[{'name': '아보카도 워시',\n",
       "  'url': 'https://lush.co.kr/goods/goods_view.php?goodsNo=1000000176',\n",
       "  'image': ['https://lush.co.kr/data/goods/19/01/04/1000000176/t50_1000000176_detail_066.png',\n",
       "   'https://lush.co.kr/data/goods/19/01/04/1000000176/t50_1000000176_detail_125.png'],\n",
       "  'color': '#',\n",
       "  'category': '러쉬 > 프로모션 > 발렌타인',\n",
       "  'salePrice': 19000,\n",
       "  'originalPrice': 19000,\n",
       "  'brand': 'lush',\n",
       "  'volume': '110g'},\n",
       " {'name': '아보카도 워시',\n",
       "  'url': 'https://lush.co.kr/goods/goods_view.php?goodsNo=1000000176',\n",
       "  'image': ['https://lush.co.kr/data/goods/19/01/04/1000000176/t50_1000000176_detail_066.png',\n",
       "   'https://lush.co.kr/data/goods/19/01/04/1000000176/t50_1000000176_detail_125.png'],\n",
       "  'color': '#',\n",
       "  'category': '러쉬 > 프로모션 > 발렌타인',\n",
       "  'salePrice': 19000,\n",
       "  'originalPrice': 19000,\n",
       "  'brand': 'lush',\n",
       "  'volume': '270g:￦+17,000'},\n",
       " {'name': '아보카도 워시',\n",
       "  'url': 'https://lush.co.kr/goods/goods_view.php?goodsNo=1000000176',\n",
       "  'image': ['https://lush.co.kr/data/goods/19/01/04/1000000176/t50_1000000176_detail_066.png',\n",
       "   'https://lush.co.kr/data/goods/19/01/04/1000000176/t50_1000000176_detail_125.png'],\n",
       "  'color': '#',\n",
       "  'category': '러쉬 > 프로모션 > 발렌타인',\n",
       "  'salePrice': 19000,\n",
       "  'originalPrice': 19000,\n",
       "  'brand': 'lush',\n",
       "  'volume': '550g:￦+43,000'}]"
      ]
     },
     "metadata": {},
     "output_type": "display_data"
    },
    {
     "data": {
      "text/plain": [
       "[{'name': '아메리칸 크림',\n",
       "  'url': 'https://lush.co.kr/goods/goods_view.php?goodsNo=1000000166',\n",
       "  'image': ['https://lush.co.kr/data/goods/19/01/04/1000000166/t50_1000000166_detail_042.png',\n",
       "   'https://lush.co.kr/data/goods/19/01/04/1000000166/t50_1000000166_detail_18.png'],\n",
       "  'color': '#',\n",
       "  'category': '러쉬 > 프로모션 > 발렌타인',\n",
       "  'salePrice': 19000,\n",
       "  'originalPrice': 19000,\n",
       "  'brand': 'lush',\n",
       "  'volume': '110g'},\n",
       " {'name': '아메리칸 크림',\n",
       "  'url': 'https://lush.co.kr/goods/goods_view.php?goodsNo=1000000166',\n",
       "  'image': ['https://lush.co.kr/data/goods/19/01/04/1000000166/t50_1000000166_detail_042.png',\n",
       "   'https://lush.co.kr/data/goods/19/01/04/1000000166/t50_1000000166_detail_18.png'],\n",
       "  'color': '#',\n",
       "  'category': '러쉬 > 프로모션 > 발렌타인',\n",
       "  'salePrice': 19000,\n",
       "  'originalPrice': 19000,\n",
       "  'brand': 'lush',\n",
       "  'volume': '270g:￦+17,000'},\n",
       " {'name': '아메리칸 크림',\n",
       "  'url': 'https://lush.co.kr/goods/goods_view.php?goodsNo=1000000166',\n",
       "  'image': ['https://lush.co.kr/data/goods/19/01/04/1000000166/t50_1000000166_detail_042.png',\n",
       "   'https://lush.co.kr/data/goods/19/01/04/1000000166/t50_1000000166_detail_18.png'],\n",
       "  'color': '#',\n",
       "  'category': '러쉬 > 프로모션 > 발렌타인',\n",
       "  'salePrice': 19000,\n",
       "  'originalPrice': 19000,\n",
       "  'brand': 'lush',\n",
       "  'volume': '550g:￦+43,000'}]"
      ]
     },
     "metadata": {},
     "output_type": "display_data"
    },
    {
     "data": {
      "text/plain": [
       "[{'name': '슬리피',\n",
       "  'url': 'https://lush.co.kr/goods/goods_view.php?goodsNo=508',\n",
       "  'image': ['https://lush.co.kr/data/goods/18/09/17/508/t50_508_detail_057.png',\n",
       "   'https://lush.co.kr/data/goods/18/09/17/508/t50_508_detail_171.png',\n",
       "   'https://lush.co.kr/data/goods/18/09/17/508/t50_508_detail_215.png',\n",
       "   'https://lush.co.kr/data/goods/18/09/17/508/t50_508_detail_359.png'],\n",
       "  'color': '#',\n",
       "  'category': '러쉬 > 샤워 > 샤워 젤 & 젤리',\n",
       "  'salePrice': 19000,\n",
       "  'originalPrice': 19000,\n",
       "  'brand': 'lush',\n",
       "  'volume': '110g'},\n",
       " {'name': '슬리피',\n",
       "  'url': 'https://lush.co.kr/goods/goods_view.php?goodsNo=508',\n",
       "  'image': ['https://lush.co.kr/data/goods/18/09/17/508/t50_508_detail_057.png',\n",
       "   'https://lush.co.kr/data/goods/18/09/17/508/t50_508_detail_171.png',\n",
       "   'https://lush.co.kr/data/goods/18/09/17/508/t50_508_detail_215.png',\n",
       "   'https://lush.co.kr/data/goods/18/09/17/508/t50_508_detail_359.png'],\n",
       "  'color': '#',\n",
       "  'category': '러쉬 > 샤워 > 샤워 젤 & 젤리',\n",
       "  'salePrice': 19000,\n",
       "  'originalPrice': 19000,\n",
       "  'brand': 'lush',\n",
       "  'volume': '260g:￦+17,000'},\n",
       " {'name': '슬리피',\n",
       "  'url': 'https://lush.co.kr/goods/goods_view.php?goodsNo=508',\n",
       "  'image': ['https://lush.co.kr/data/goods/18/09/17/508/t50_508_detail_057.png',\n",
       "   'https://lush.co.kr/data/goods/18/09/17/508/t50_508_detail_171.png',\n",
       "   'https://lush.co.kr/data/goods/18/09/17/508/t50_508_detail_215.png',\n",
       "   'https://lush.co.kr/data/goods/18/09/17/508/t50_508_detail_359.png'],\n",
       "  'color': '#',\n",
       "  'category': '러쉬 > 샤워 > 샤워 젤 & 젤리',\n",
       "  'salePrice': 19000,\n",
       "  'originalPrice': 19000,\n",
       "  'brand': 'lush',\n",
       "  'volume': '520g:￦+43,000'}]"
      ]
     },
     "metadata": {},
     "output_type": "display_data"
    },
    {
     "data": {
      "text/plain": [
       "[{'name': '로즈 잼',\n",
       "  'url': 'https://lush.co.kr/goods/goods_view.php?goodsNo=444',\n",
       "  'image': ['https://lush.co.kr/data/goods/18/08/23/444/t50_444_detail_072.png',\n",
       "   'https://lush.co.kr/data/goods/18/08/23/444/t50_444_detail_155.png',\n",
       "   'https://lush.co.kr/data/goods/18/08/23/444/t50_444_detail_297.png',\n",
       "   'https://lush.co.kr/data/goods/18/08/23/444/t50_444_detail_34.png'],\n",
       "  'color': '#',\n",
       "  'category': '러쉬 > 샤워 > 샤워 젤 & 젤리',\n",
       "  'salePrice': 19000,\n",
       "  'originalPrice': 19000,\n",
       "  'brand': 'lush',\n",
       "  'volume': '100g'},\n",
       " {'name': '로즈 잼',\n",
       "  'url': 'https://lush.co.kr/goods/goods_view.php?goodsNo=444',\n",
       "  'image': ['https://lush.co.kr/data/goods/18/08/23/444/t50_444_detail_072.png',\n",
       "   'https://lush.co.kr/data/goods/18/08/23/444/t50_444_detail_155.png',\n",
       "   'https://lush.co.kr/data/goods/18/08/23/444/t50_444_detail_297.png',\n",
       "   'https://lush.co.kr/data/goods/18/08/23/444/t50_444_detail_34.png'],\n",
       "  'color': '#',\n",
       "  'category': '러쉬 > 샤워 > 샤워 젤 & 젤리',\n",
       "  'salePrice': 19000,\n",
       "  'originalPrice': 19000,\n",
       "  'brand': 'lush',\n",
       "  'volume': '250g:￦+17,000'},\n",
       " {'name': '로즈 잼',\n",
       "  'url': 'https://lush.co.kr/goods/goods_view.php?goodsNo=444',\n",
       "  'image': ['https://lush.co.kr/data/goods/18/08/23/444/t50_444_detail_072.png',\n",
       "   'https://lush.co.kr/data/goods/18/08/23/444/t50_444_detail_155.png',\n",
       "   'https://lush.co.kr/data/goods/18/08/23/444/t50_444_detail_297.png',\n",
       "   'https://lush.co.kr/data/goods/18/08/23/444/t50_444_detail_34.png'],\n",
       "  'color': '#',\n",
       "  'category': '러쉬 > 샤워 > 샤워 젤 & 젤리',\n",
       "  'salePrice': 19000,\n",
       "  'originalPrice': 19000,\n",
       "  'brand': 'lush',\n",
       "  'volume': '500g:￦+43,000'}]"
      ]
     },
     "metadata": {},
     "output_type": "display_data"
    },
    {
     "data": {
      "text/plain": [
       "[{'name': '플럼 레인',\n",
       "  'url': 'https://lush.co.kr/goods/goods_view.php?goodsNo=234',\n",
       "  'image': ['https://lush.co.kr/data/goods/17/05/10/234/t50_234_detail_058.png',\n",
       "   'https://lush.co.kr/data/goods/17/05/10/234/t50_234_detail_148.png',\n",
       "   'https://lush.co.kr/data/goods/17/05/10/234/t50_234_detail_261.png',\n",
       "   'https://lush.co.kr/data/goods/17/05/10/234/t50_234_detail_378.png'],\n",
       "  'color': '#',\n",
       "  'category': '러쉬 > 샤워 > 샤워 젤 & 젤리',\n",
       "  'salePrice': 19000,\n",
       "  'originalPrice': 19000,\n",
       "  'brand': 'lush',\n",
       "  'volume': '100g'},\n",
       " {'name': '플럼 레인',\n",
       "  'url': 'https://lush.co.kr/goods/goods_view.php?goodsNo=234',\n",
       "  'image': ['https://lush.co.kr/data/goods/17/05/10/234/t50_234_detail_058.png',\n",
       "   'https://lush.co.kr/data/goods/17/05/10/234/t50_234_detail_148.png',\n",
       "   'https://lush.co.kr/data/goods/17/05/10/234/t50_234_detail_261.png',\n",
       "   'https://lush.co.kr/data/goods/17/05/10/234/t50_234_detail_378.png'],\n",
       "  'color': '#',\n",
       "  'category': '러쉬 > 샤워 > 샤워 젤 & 젤리',\n",
       "  'salePrice': 19000,\n",
       "  'originalPrice': 19000,\n",
       "  'brand': 'lush',\n",
       "  'volume': '270g:￦+17,000'},\n",
       " {'name': '플럼 레인',\n",
       "  'url': 'https://lush.co.kr/goods/goods_view.php?goodsNo=234',\n",
       "  'image': ['https://lush.co.kr/data/goods/17/05/10/234/t50_234_detail_058.png',\n",
       "   'https://lush.co.kr/data/goods/17/05/10/234/t50_234_detail_148.png',\n",
       "   'https://lush.co.kr/data/goods/17/05/10/234/t50_234_detail_261.png',\n",
       "   'https://lush.co.kr/data/goods/17/05/10/234/t50_234_detail_378.png'],\n",
       "  'color': '#',\n",
       "  'category': '러쉬 > 샤워 > 샤워 젤 & 젤리',\n",
       "  'salePrice': 19000,\n",
       "  'originalPrice': 19000,\n",
       "  'brand': 'lush',\n",
       "  'volume': '540g:￦+43,000'}]"
      ]
     },
     "metadata": {},
     "output_type": "display_data"
    },
    {
     "data": {
      "text/plain": [
       "[{'name': '데빌스 나이트캡',\n",
       "  'url': 'https://lush.co.kr/goods/goods_view.php?goodsNo=188',\n",
       "  'image': ['https://lush.co.kr/data/goods/16/04/04/188/t50_188_detail_054.png'],\n",
       "  'color': '#',\n",
       "  'category': '러쉬 > 샤워 > 솝',\n",
       "  'salePrice': 19000,\n",
       "  'originalPrice': 19000,\n",
       "  'brand': 'lush',\n",
       "  'volume': '#'}]"
      ]
     },
     "metadata": {},
     "output_type": "display_data"
    },
    {
     "data": {
      "text/plain": [
       "[{'name': '킹 오브 스킨',\n",
       "  'url': 'https://lush.co.kr/goods/goods_view.php?goodsNo=81',\n",
       "  'image': ['https://lush.co.kr/data/goods/11/01/20/81/t50_81_detail_072.png'],\n",
       "  'color': '#',\n",
       "  'category': '러쉬 > 보디',\n",
       "  'salePrice': 19000,\n",
       "  'originalPrice': 19000,\n",
       "  'brand': 'lush',\n",
       "  'volume': '#'}]"
      ]
     },
     "metadata": {},
     "output_type": "display_data"
    },
    {
     "data": {
      "text/plain": [
       "[{'name': '샛수마',\n",
       "  'url': 'https://lush.co.kr/goods/goods_view.php?goodsNo=1000000104',\n",
       "  'image': ['https://lush.co.kr/data/goods/18/12/49/1000000104/t50_498_detail_070.png'],\n",
       "  'color': '#',\n",
       "  'category': '러쉬',\n",
       "  'salePrice': 18000,\n",
       "  'originalPrice': 18000,\n",
       "  'brand': 'lush',\n",
       "  'volume': '#'}]"
      ]
     },
     "metadata": {},
     "output_type": "display_data"
    },
    {
     "data": {
      "text/plain": [
       "[{'name': '메리 베리',\n",
       "  'url': 'https://lush.co.kr/goods/goods_view.php?goodsNo=497',\n",
       "  'image': ['https://lush.co.kr/data/goods/18/09/17/497/t50_497_detail_066.png'],\n",
       "  'color': '#',\n",
       "  'category': '러쉬',\n",
       "  'salePrice': 18000,\n",
       "  'originalPrice': 18000,\n",
       "  'brand': 'lush',\n",
       "  'volume': '#'}]"
      ]
     },
     "metadata": {},
     "output_type": "display_data"
    },
    {
     "data": {
      "text/plain": [
       "[{'name': '아이스쇼글스',\n",
       "  'url': 'https://lush.co.kr/goods/goods_view.php?goodsNo=496',\n",
       "  'image': ['https://lush.co.kr/data/goods/18/09/17/496/t50_496_detail_014.png'],\n",
       "  'color': '#',\n",
       "  'category': '러쉬',\n",
       "  'salePrice': 18000,\n",
       "  'originalPrice': 18000,\n",
       "  'brand': 'lush',\n",
       "  'volume': '#'}]"
      ]
     },
     "metadata": {},
     "output_type": "display_data"
    },
    {
     "data": {
      "text/plain": [
       "[{'name': '체리쉬',\n",
       "  'url': 'https://lush.co.kr/goods/goods_view.php?goodsNo=370',\n",
       "  'image': ['https://lush.co.kr/data/goods/18/02/23/370/t50_370_detail_047.png'],\n",
       "  'color': '#',\n",
       "  'category': '러쉬 > 샤워 > 스크럽 & 버터',\n",
       "  'salePrice': 18000,\n",
       "  'originalPrice': 18000,\n",
       "  'brand': 'lush',\n",
       "  'volume': '#'}]"
      ]
     },
     "metadata": {},
     "output_type": "display_data"
    },
    {
     "data": {
      "text/plain": [
       "[{'name': '러프 위드 더 스무스',\n",
       "  'url': 'https://lush.co.kr/goods/goods_view.php?goodsNo=187',\n",
       "  'image': ['https://lush.co.kr/data/goods/16/04/04/187/t50_187_detail_093.png'],\n",
       "  'color': '#',\n",
       "  'category': '러쉬 > 샤워 > 스크럽 & 버터',\n",
       "  'salePrice': 18000,\n",
       "  'originalPrice': 18000,\n",
       "  'brand': 'lush',\n",
       "  'volume': '#'}]"
      ]
     },
     "metadata": {},
     "output_type": "display_data"
    },
    {
     "data": {
      "text/plain": [
       "[{'name': '컵 오 커피',\n",
       "  'url': 'https://lush.co.kr/goods/goods_view.php?goodsNo=167',\n",
       "  'image': ['https://lush.co.kr/data/goods/16/01/28/167/t50_167_detail_084.png',\n",
       "   'https://lush.co.kr/data/goods/16/01/28/167/t50_167_detail_169.png',\n",
       "   'https://lush.co.kr/data/goods/16/01/28/167/t50_167_detail_274.png'],\n",
       "  'color': '#',\n",
       "  'category': '러쉬 > 페이스 > 클렌저',\n",
       "  'salePrice': 18000,\n",
       "  'originalPrice': 18000,\n",
       "  'brand': 'lush',\n",
       "  'volume': '130g'},\n",
       " {'name': '컵 오 커피',\n",
       "  'url': 'https://lush.co.kr/goods/goods_view.php?goodsNo=167',\n",
       "  'image': ['https://lush.co.kr/data/goods/16/01/28/167/t50_167_detail_084.png',\n",
       "   'https://lush.co.kr/data/goods/16/01/28/167/t50_167_detail_169.png',\n",
       "   'https://lush.co.kr/data/goods/16/01/28/167/t50_167_detail_274.png'],\n",
       "  'color': '#',\n",
       "  'category': '러쉬 > 페이스 > 클렌저',\n",
       "  'salePrice': 18000,\n",
       "  'originalPrice': 18000,\n",
       "  'brand': 'lush',\n",
       "  'volume': '325g:￦+18,000'}]"
      ]
     },
     "metadata": {},
     "output_type": "display_data"
    },
    {
     "data": {
      "text/plain": [
       "[{'name': '스트로베리 산타',\n",
       "  'url': 'https://lush.co.kr/goods/goods_view.php?goodsNo=500',\n",
       "  'image': ['https://lush.co.kr/data/goods/18/09/17/500/t50_500_detail_054.png'],\n",
       "  'color': '#',\n",
       "  'category': '러쉬',\n",
       "  'salePrice': 17000,\n",
       "  'originalPrice': 17000,\n",
       "  'brand': 'lush',\n",
       "  'volume': '#'}]"
      ]
     },
     "metadata": {},
     "output_type": "display_data"
    },
    {
     "data": {
      "text/plain": [
       "[{'name': '더 올리브 브랜치',\n",
       "  'url': 'https://lush.co.kr/goods/goods_view.php?goodsNo=342',\n",
       "  'image': ['https://lush.co.kr/data/goods/17/11/01/342/t50_342_detail_049.png',\n",
       "   'https://lush.co.kr/data/goods/17/11/01/342/t50_342_detail_166.png',\n",
       "   'https://lush.co.kr/data/goods/17/11/01/342/t50_342_detail_240.png',\n",
       "   'https://lush.co.kr/data/goods/17/11/01/342/t50_342_detail_379.png'],\n",
       "  'color': '#',\n",
       "  'category': '러쉬 > 샤워 > 샤워 젤 & 젤리',\n",
       "  'salePrice': 17000,\n",
       "  'originalPrice': 17000,\n",
       "  'brand': 'lush',\n",
       "  'volume': '100g'},\n",
       " {'name': '더 올리브 브랜치',\n",
       "  'url': 'https://lush.co.kr/goods/goods_view.php?goodsNo=342',\n",
       "  'image': ['https://lush.co.kr/data/goods/17/11/01/342/t50_342_detail_049.png',\n",
       "   'https://lush.co.kr/data/goods/17/11/01/342/t50_342_detail_166.png',\n",
       "   'https://lush.co.kr/data/goods/17/11/01/342/t50_342_detail_240.png',\n",
       "   'https://lush.co.kr/data/goods/17/11/01/342/t50_342_detail_379.png'],\n",
       "  'color': '#',\n",
       "  'category': '러쉬 > 샤워 > 샤워 젤 & 젤리',\n",
       "  'salePrice': 17000,\n",
       "  'originalPrice': 17000,\n",
       "  'brand': 'lush',\n",
       "  'volume': '250g:￦+15,000'},\n",
       " {'name': '더 올리브 브랜치',\n",
       "  'url': 'https://lush.co.kr/goods/goods_view.php?goodsNo=342',\n",
       "  'image': ['https://lush.co.kr/data/goods/17/11/01/342/t50_342_detail_049.png',\n",
       "   'https://lush.co.kr/data/goods/17/11/01/342/t50_342_detail_166.png',\n",
       "   'https://lush.co.kr/data/goods/17/11/01/342/t50_342_detail_240.png',\n",
       "   'https://lush.co.kr/data/goods/17/11/01/342/t50_342_detail_379.png'],\n",
       "  'color': '#',\n",
       "  'category': '러쉬 > 샤워 > 샤워 젤 & 젤리',\n",
       "  'salePrice': 17000,\n",
       "  'originalPrice': 17000,\n",
       "  'brand': 'lush',\n",
       "  'volume': '500g:￦+37,000'}]"
      ]
     },
     "metadata": {},
     "output_type": "display_data"
    },
    {
     "data": {
      "text/plain": [
       "[{'name': '잇츠 레이닝 맨',\n",
       "  'url': 'https://lush.co.kr/goods/goods_view.php?goodsNo=336',\n",
       "  'image': ['https://lush.co.kr/data/goods/17/11/01/336/t50_336_detail_079.png',\n",
       "   'https://lush.co.kr/data/goods/17/11/01/336/t50_336_detail_113.png',\n",
       "   'https://lush.co.kr/data/goods/17/11/01/336/t50_336_detail_285.png',\n",
       "   'https://lush.co.kr/data/goods/17/11/01/336/t50_336_detail_327.png'],\n",
       "  'color': '#',\n",
       "  'category': '러쉬 > 샤워 > 샤워 젤 & 젤리',\n",
       "  'salePrice': 17000,\n",
       "  'originalPrice': 17000,\n",
       "  'brand': 'lush',\n",
       "  'volume': '100g'},\n",
       " {'name': '잇츠 레이닝 맨',\n",
       "  'url': 'https://lush.co.kr/goods/goods_view.php?goodsNo=336',\n",
       "  'image': ['https://lush.co.kr/data/goods/17/11/01/336/t50_336_detail_079.png',\n",
       "   'https://lush.co.kr/data/goods/17/11/01/336/t50_336_detail_113.png',\n",
       "   'https://lush.co.kr/data/goods/17/11/01/336/t50_336_detail_285.png',\n",
       "   'https://lush.co.kr/data/goods/17/11/01/336/t50_336_detail_327.png'],\n",
       "  'color': '#',\n",
       "  'category': '러쉬 > 샤워 > 샤워 젤 & 젤리',\n",
       "  'salePrice': 17000,\n",
       "  'originalPrice': 17000,\n",
       "  'brand': 'lush',\n",
       "  'volume': '250g:￦+15,000'},\n",
       " {'name': '잇츠 레이닝 맨',\n",
       "  'url': 'https://lush.co.kr/goods/goods_view.php?goodsNo=336',\n",
       "  'image': ['https://lush.co.kr/data/goods/17/11/01/336/t50_336_detail_079.png',\n",
       "   'https://lush.co.kr/data/goods/17/11/01/336/t50_336_detail_113.png',\n",
       "   'https://lush.co.kr/data/goods/17/11/01/336/t50_336_detail_285.png',\n",
       "   'https://lush.co.kr/data/goods/17/11/01/336/t50_336_detail_327.png'],\n",
       "  'color': '#',\n",
       "  'category': '러쉬 > 샤워 > 샤워 젤 & 젤리',\n",
       "  'salePrice': 17000,\n",
       "  'originalPrice': 17000,\n",
       "  'brand': 'lush',\n",
       "  'volume': '500g:￦+37,000'}]"
      ]
     },
     "metadata": {},
     "output_type": "display_data"
    },
    {
     "data": {
      "text/plain": [
       "[{'name': '더티 스프링워시',\n",
       "  'url': 'https://lush.co.kr/goods/goods_view.php?goodsNo=238',\n",
       "  'image': ['https://lush.co.kr/data/goods/17/05/29/238/t50_238_detail_046.png',\n",
       "   'https://lush.co.kr/data/goods/17/05/29/238/t50_238_detail_165.png',\n",
       "   'https://lush.co.kr/data/goods/17/05/29/238/t50_238_detail_26.png',\n",
       "   'https://lush.co.kr/data/goods/17/05/29/238/t50_238_detail_391.png'],\n",
       "  'color': '#',\n",
       "  'category': '러쉬 > 샤워 > 샤워 젤 & 젤리',\n",
       "  'salePrice': 17000,\n",
       "  'originalPrice': 17000,\n",
       "  'brand': 'lush',\n",
       "  'volume': '100g'},\n",
       " {'name': '더티 스프링워시',\n",
       "  'url': 'https://lush.co.kr/goods/goods_view.php?goodsNo=238',\n",
       "  'image': ['https://lush.co.kr/data/goods/17/05/29/238/t50_238_detail_046.png',\n",
       "   'https://lush.co.kr/data/goods/17/05/29/238/t50_238_detail_165.png',\n",
       "   'https://lush.co.kr/data/goods/17/05/29/238/t50_238_detail_26.png',\n",
       "   'https://lush.co.kr/data/goods/17/05/29/238/t50_238_detail_391.png'],\n",
       "  'color': '#',\n",
       "  'category': '러쉬 > 샤워 > 샤워 젤 & 젤리',\n",
       "  'salePrice': 17000,\n",
       "  'originalPrice': 17000,\n",
       "  'brand': 'lush',\n",
       "  'volume': '280g:￦+15,000'},\n",
       " {'name': '더티 스프링워시',\n",
       "  'url': 'https://lush.co.kr/goods/goods_view.php?goodsNo=238',\n",
       "  'image': ['https://lush.co.kr/data/goods/17/05/29/238/t50_238_detail_046.png',\n",
       "   'https://lush.co.kr/data/goods/17/05/29/238/t50_238_detail_165.png',\n",
       "   'https://lush.co.kr/data/goods/17/05/29/238/t50_238_detail_26.png',\n",
       "   'https://lush.co.kr/data/goods/17/05/29/238/t50_238_detail_391.png'],\n",
       "  'color': '#',\n",
       "  'category': '러쉬 > 샤워 > 샤워 젤 & 젤리',\n",
       "  'salePrice': 17000,\n",
       "  'originalPrice': 17000,\n",
       "  'brand': 'lush',\n",
       "  'volume': '560g:￦+37,000'}]"
      ]
     },
     "metadata": {},
     "output_type": "display_data"
    },
    {
     "data": {
      "text/plain": [
       "[{'name': '스크러비',\n",
       "  'url': 'https://lush.co.kr/goods/goods_view.php?goodsNo=232',\n",
       "  'image': ['https://lush.co.kr/data/goods/17/05/10/232/t50_232_detail_028.png'],\n",
       "  'color': '#',\n",
       "  'category': '러쉬 > 보디',\n",
       "  'salePrice': 17000,\n",
       "  'originalPrice': 17000,\n",
       "  'brand': 'lush',\n",
       "  'volume': '#'}]"
      ]
     },
     "metadata": {},
     "output_type": "display_data"
    },
    {
     "data": {
      "text/plain": [
       "[{'name': '펀 옐로우',\n",
       "  'url': 'https://lush.co.kr/goods/goods_view.php?goodsNo=118',\n",
       "  'image': ['https://lush.co.kr/data/goods/13/04/17/118/t50_118_detail_031.png',\n",
       "   'https://lush.co.kr/data/goods/13/04/17/118/t50_118_detail_127.png'],\n",
       "  'color': '#',\n",
       "  'category': '러쉬 > 배쓰 > 펀',\n",
       "  'salePrice': 17000,\n",
       "  'originalPrice': 17000,\n",
       "  'brand': 'lush',\n",
       "  'volume': '#'}]"
      ]
     },
     "metadata": {},
     "output_type": "display_data"
    },
    {
     "data": {
      "text/plain": [
       "[{'name': '펀 레드',\n",
       "  'url': 'https://lush.co.kr/goods/goods_view.php?goodsNo=117',\n",
       "  'image': ['https://lush.co.kr/data/goods/13/04/17/117/t50_117_detail_094.png',\n",
       "   'https://lush.co.kr/data/goods/13/04/17/117/t50_117_detail_15.png'],\n",
       "  'color': '#',\n",
       "  'category': '러쉬 > 배쓰 > 펀',\n",
       "  'salePrice': 17000,\n",
       "  'originalPrice': 17000,\n",
       "  'brand': 'lush',\n",
       "  'volume': '#'}]"
      ]
     },
     "metadata": {},
     "output_type": "display_data"
    },
    {
     "data": {
      "text/plain": [
       "[{'name': '펀 핑크',\n",
       "  'url': 'https://lush.co.kr/goods/goods_view.php?goodsNo=116',\n",
       "  'image': ['https://lush.co.kr/data/goods/13/04/17/116/t50_116_detail_084.png',\n",
       "   'https://lush.co.kr/data/goods/13/04/17/116/t50_116_detail_120.png'],\n",
       "  'color': '#',\n",
       "  'category': '러쉬 > 배쓰 > 펀',\n",
       "  'salePrice': 17000,\n",
       "  'originalPrice': 17000,\n",
       "  'brand': 'lush',\n",
       "  'volume': '#'}]"
      ]
     },
     "metadata": {},
     "output_type": "display_data"
    },
    {
     "data": {
      "text/plain": [
       "[{'name': '펀 그린',\n",
       "  'url': 'https://lush.co.kr/goods/goods_view.php?goodsNo=115',\n",
       "  'image': ['https://lush.co.kr/data/goods/13/04/17/115/t50_115_detail_060.png',\n",
       "   'https://lush.co.kr/data/goods/13/04/17/115/t50_115_detail_11.png'],\n",
       "  'color': '#',\n",
       "  'category': '러쉬 > 배쓰 > 펀',\n",
       "  'salePrice': 17000,\n",
       "  'originalPrice': 17000,\n",
       "  'brand': 'lush',\n",
       "  'volume': '#'}]"
      ]
     },
     "metadata": {},
     "output_type": "display_data"
    },
    {
     "data": {
      "text/plain": [
       "[{'name': '펀 블루',\n",
       "  'url': 'https://lush.co.kr/goods/goods_view.php?goodsNo=114',\n",
       "  'image': ['https://lush.co.kr/data/goods/13/04/17/114/t50_114_detail_0100.png',\n",
       "   'https://lush.co.kr/data/goods/13/04/17/114/t50_114_detail_166.png'],\n",
       "  'color': '#',\n",
       "  'category': '러쉬 > 배쓰 > 펀',\n",
       "  'salePrice': 17000,\n",
       "  'originalPrice': 17000,\n",
       "  'brand': 'lush',\n",
       "  'volume': '#'}]"
      ]
     },
     "metadata": {},
     "output_type": "display_data"
    },
    {
     "data": {
      "text/plain": [
       "[{'name': '버피',\n",
       "  'url': 'https://lush.co.kr/goods/goods_view.php?goodsNo=30',\n",
       "  'image': ['https://lush.co.kr/data/goods/11/01/20/30/t50_30_detail_031.png',\n",
       "   'https://lush.co.kr/data/goods/11/01/20/30/t50_30_detail_141.png'],\n",
       "  'color': '#',\n",
       "  'category': '러쉬 > 보디',\n",
       "  'salePrice': 17000,\n",
       "  'originalPrice': 17000,\n",
       "  'brand': 'lush',\n",
       "  'volume': '90g'},\n",
       " {'name': '버피',\n",
       "  'url': 'https://lush.co.kr/goods/goods_view.php?goodsNo=30',\n",
       "  'image': ['https://lush.co.kr/data/goods/11/01/20/30/t50_30_detail_031.png',\n",
       "   'https://lush.co.kr/data/goods/11/01/20/30/t50_30_detail_141.png'],\n",
       "  'color': '#',\n",
       "  'category': '러쉬 > 보디',\n",
       "  'salePrice': 17000,\n",
       "  'originalPrice': 17000,\n",
       "  'brand': 'lush',\n",
       "  'volume': '200g:￦+7,000[품절]'}]"
      ]
     },
     "metadata": {},
     "output_type": "display_data"
    },
    {
     "data": {
      "text/plain": [
       "[{'name': '더 노스 폴라 베어 그린',\n",
       "  'url': 'https://lush.co.kr/goods/goods_view.php?goodsNo=597',\n",
       "  'image': ['https://lush.co.kr/data/goods/18/10/04/597/t50_597_detail_058.png'],\n",
       "  'color': '#',\n",
       "  'category': '러쉬 > 크리스마스 > 크리스마스 단품',\n",
       "  'salePrice': 16000,\n",
       "  'originalPrice': 16000,\n",
       "  'brand': 'lush',\n",
       "  'volume': '#'}]"
      ]
     },
     "metadata": {},
     "output_type": "display_data"
    },
    {
     "data": {
      "text/plain": [
       "[{'name': '더 노스 폴라 베어 레드',\n",
       "  'url': 'https://lush.co.kr/goods/goods_view.php?goodsNo=501',\n",
       "  'image': ['https://lush.co.kr/data/goods/18/09/17/501/t50_501_detail_079.png'],\n",
       "  'color': '#',\n",
       "  'category': '러쉬',\n",
       "  'salePrice': 16000,\n",
       "  'originalPrice': 16000,\n",
       "  'brand': 'lush',\n",
       "  'volume': '#'}]"
      ]
     },
     "metadata": {},
     "output_type": "display_data"
    },
    {
     "data": {
      "text/plain": [
       "[{'name': '해피 히피',\n",
       "  'url': 'https://lush.co.kr/goods/goods_view.php?goodsNo=339',\n",
       "  'image': ['https://lush.co.kr/data/goods/17/11/01/339/t50_339_detail_039.png',\n",
       "   'https://lush.co.kr/data/goods/17/11/01/339/t50_339_detail_162.png',\n",
       "   'https://lush.co.kr/data/goods/17/11/01/339/t50_339_detail_237.png',\n",
       "   'https://lush.co.kr/data/goods/17/11/01/339/t50_339_detail_393.png'],\n",
       "  'color': '#',\n",
       "  'category': '러쉬 > 샤워 > 샤워 젤 & 젤리',\n",
       "  'salePrice': 16000,\n",
       "  'originalPrice': 16000,\n",
       "  'brand': 'lush',\n",
       "  'volume': '100g'},\n",
       " {'name': '해피 히피',\n",
       "  'url': 'https://lush.co.kr/goods/goods_view.php?goodsNo=339',\n",
       "  'image': ['https://lush.co.kr/data/goods/17/11/01/339/t50_339_detail_039.png',\n",
       "   'https://lush.co.kr/data/goods/17/11/01/339/t50_339_detail_162.png',\n",
       "   'https://lush.co.kr/data/goods/17/11/01/339/t50_339_detail_237.png',\n",
       "   'https://lush.co.kr/data/goods/17/11/01/339/t50_339_detail_393.png'],\n",
       "  'color': '#',\n",
       "  'category': '러쉬 > 샤워 > 샤워 젤 & 젤리',\n",
       "  'salePrice': 16000,\n",
       "  'originalPrice': 16000,\n",
       "  'brand': 'lush',\n",
       "  'volume': '250g:￦+14,000'},\n",
       " {'name': '해피 히피',\n",
       "  'url': 'https://lush.co.kr/goods/goods_view.php?goodsNo=339',\n",
       "  'image': ['https://lush.co.kr/data/goods/17/11/01/339/t50_339_detail_039.png',\n",
       "   'https://lush.co.kr/data/goods/17/11/01/339/t50_339_detail_162.png',\n",
       "   'https://lush.co.kr/data/goods/17/11/01/339/t50_339_detail_237.png',\n",
       "   'https://lush.co.kr/data/goods/17/11/01/339/t50_339_detail_393.png'],\n",
       "  'color': '#',\n",
       "  'category': '러쉬 > 샤워 > 샤워 젤 & 젤리',\n",
       "  'salePrice': 16000,\n",
       "  'originalPrice': 16000,\n",
       "  'brand': 'lush',\n",
       "  'volume': '500g:￦+34,000'}]"
      ]
     },
     "metadata": {},
     "output_type": "display_data"
    },
    {
     "data": {
      "text/plain": [
       "[{'name': '스트로베리 휩',\n",
       "  'url': 'https://lush.co.kr/goods/goods_view.php?goodsNo=1000000163',\n",
       "  'image': ['https://lush.co.kr/data/goods/19/01/04/1000000163/t50_1000000163_detail_043.png'],\n",
       "  'color': '#',\n",
       "  'category': '러쉬 > 프로모션 > 발렌타인',\n",
       "  'salePrice': 15000,\n",
       "  'originalPrice': 15000,\n",
       "  'brand': 'lush',\n",
       "  'volume': '#'}]"
      ]
     },
     "metadata": {},
     "output_type": "display_data"
    },
    {
     "data": {
      "text/plain": [
       "[{'name': '산타스 벨리',\n",
       "  'url': 'https://lush.co.kr/goods/goods_view.php?goodsNo=520',\n",
       "  'image': ['https://lush.co.kr/data/goods/18/09/17/520/t50_520_detail_031.png'],\n",
       "  'color': '#',\n",
       "  'category': '러쉬',\n",
       "  'salePrice': 15000,\n",
       "  'originalPrice': 15000,\n",
       "  'brand': 'lush',\n",
       "  'volume': '#'}]"
      ]
     },
     "metadata": {},
     "output_type": "display_data"
    },
    {
     "data": {
      "text/plain": [
       "[{'name': '크리스마스 시트러스',\n",
       "  'url': 'https://lush.co.kr/goods/goods_view.php?goodsNo=494',\n",
       "  'image': ['https://lush.co.kr/data/goods/18/09/17/494/t50_494_detail_047.png'],\n",
       "  'color': '#',\n",
       "  'category': '러쉬',\n",
       "  'salePrice': 15000,\n",
       "  'originalPrice': 15000,\n",
       "  'brand': 'lush',\n",
       "  'volume': '#'}]"
      ]
     },
     "metadata": {},
     "output_type": "display_data"
    },
    {
     "data": {
      "text/plain": [
       "[{'name': '버터베어 샤워 젤리',\n",
       "  'url': 'https://lush.co.kr/goods/goods_view.php?goodsNo=519',\n",
       "  'image': ['https://lush.co.kr/data/goods/18/09/17/519/t50_519_detail_095.png'],\n",
       "  'color': '#',\n",
       "  'category': '러쉬 > 샤워 > 샤워 젤 & 젤리',\n",
       "  'salePrice': 14000,\n",
       "  'originalPrice': 14000,\n",
       "  'brand': 'lush',\n",
       "  'volume': '#'}]"
      ]
     },
     "metadata": {},
     "output_type": "display_data"
    },
    {
     "data": {
      "text/plain": [
       "[{'name': '스노우 페어리',\n",
       "  'url': 'https://lush.co.kr/goods/goods_view.php?goodsNo=511',\n",
       "  'image': ['https://lush.co.kr/data/goods/18/09/17/511/t50_511_detail_162.png',\n",
       "   'https://lush.co.kr/data/goods/18/09/17/511/t50_511_detail_244.png',\n",
       "   'https://lush.co.kr/data/goods/18/09/17/511/t50_511_detail_366.png',\n",
       "   'https://lush.co.kr/data/goods/18/09/17/511/t50_511_detail_481.png',\n",
       "   'https://lush.co.kr/data/goods/18/09/17/511/t50_511_detail_018.png',\n",
       "   'https://lush.co.kr/data/goods/18/09/17/511/t50_511_detail_162.png',\n",
       "   'https://lush.co.kr/data/goods/18/09/17/511/t50_511_detail_244.png',\n",
       "   'https://lush.co.kr/data/goods/18/09/17/511/t50_511_detail_366.png',\n",
       "   'https://lush.co.kr/data/goods/18/09/17/511/t50_511_detail_481.png',\n",
       "   'https://lush.co.kr/data/goods/18/09/17/511/t50_511_detail_018.png',\n",
       "   'https://lush.co.kr/data/goods/18/09/17/511/t50_511_detail_162.png',\n",
       "   'https://lush.co.kr/data/goods/18/09/17/511/t50_511_detail_244.png',\n",
       "   'https://lush.co.kr/data/goods/18/09/17/511/t50_511_detail_366.png'],\n",
       "  'color': '#',\n",
       "  'category': '러쉬 > 프로모션',\n",
       "  'salePrice': 14000,\n",
       "  'originalPrice': 14000,\n",
       "  'brand': 'lush',\n",
       "  'volume': '100g[품절]'},\n",
       " {'name': '스노우 페어리',\n",
       "  'url': 'https://lush.co.kr/goods/goods_view.php?goodsNo=511',\n",
       "  'image': ['https://lush.co.kr/data/goods/18/09/17/511/t50_511_detail_162.png',\n",
       "   'https://lush.co.kr/data/goods/18/09/17/511/t50_511_detail_244.png',\n",
       "   'https://lush.co.kr/data/goods/18/09/17/511/t50_511_detail_366.png',\n",
       "   'https://lush.co.kr/data/goods/18/09/17/511/t50_511_detail_481.png',\n",
       "   'https://lush.co.kr/data/goods/18/09/17/511/t50_511_detail_018.png',\n",
       "   'https://lush.co.kr/data/goods/18/09/17/511/t50_511_detail_162.png',\n",
       "   'https://lush.co.kr/data/goods/18/09/17/511/t50_511_detail_244.png',\n",
       "   'https://lush.co.kr/data/goods/18/09/17/511/t50_511_detail_366.png',\n",
       "   'https://lush.co.kr/data/goods/18/09/17/511/t50_511_detail_481.png',\n",
       "   'https://lush.co.kr/data/goods/18/09/17/511/t50_511_detail_018.png',\n",
       "   'https://lush.co.kr/data/goods/18/09/17/511/t50_511_detail_162.png',\n",
       "   'https://lush.co.kr/data/goods/18/09/17/511/t50_511_detail_244.png',\n",
       "   'https://lush.co.kr/data/goods/18/09/17/511/t50_511_detail_366.png'],\n",
       "  'color': '#',\n",
       "  'category': '러쉬 > 프로모션',\n",
       "  'salePrice': 14000,\n",
       "  'originalPrice': 14000,\n",
       "  'brand': 'lush',\n",
       "  'volume': '250g:￦+12,000[품절]'},\n",
       " {'name': '스노우 페어리',\n",
       "  'url': 'https://lush.co.kr/goods/goods_view.php?goodsNo=511',\n",
       "  'image': ['https://lush.co.kr/data/goods/18/09/17/511/t50_511_detail_162.png',\n",
       "   'https://lush.co.kr/data/goods/18/09/17/511/t50_511_detail_244.png',\n",
       "   'https://lush.co.kr/data/goods/18/09/17/511/t50_511_detail_366.png',\n",
       "   'https://lush.co.kr/data/goods/18/09/17/511/t50_511_detail_481.png',\n",
       "   'https://lush.co.kr/data/goods/18/09/17/511/t50_511_detail_018.png',\n",
       "   'https://lush.co.kr/data/goods/18/09/17/511/t50_511_detail_162.png',\n",
       "   'https://lush.co.kr/data/goods/18/09/17/511/t50_511_detail_244.png',\n",
       "   'https://lush.co.kr/data/goods/18/09/17/511/t50_511_detail_366.png',\n",
       "   'https://lush.co.kr/data/goods/18/09/17/511/t50_511_detail_481.png',\n",
       "   'https://lush.co.kr/data/goods/18/09/17/511/t50_511_detail_018.png',\n",
       "   'https://lush.co.kr/data/goods/18/09/17/511/t50_511_detail_162.png',\n",
       "   'https://lush.co.kr/data/goods/18/09/17/511/t50_511_detail_244.png',\n",
       "   'https://lush.co.kr/data/goods/18/09/17/511/t50_511_detail_366.png'],\n",
       "  'color': '#',\n",
       "  'category': '러쉬 > 프로모션',\n",
       "  'salePrice': 14000,\n",
       "  'originalPrice': 14000,\n",
       "  'brand': 'lush',\n",
       "  'volume': '500g:￦+34,000'},\n",
       " {'name': '스노우 페어리',\n",
       "  'url': 'https://lush.co.kr/goods/goods_view.php?goodsNo=511',\n",
       "  'image': ['https://lush.co.kr/data/goods/18/09/17/511/t50_511_detail_162.png',\n",
       "   'https://lush.co.kr/data/goods/18/09/17/511/t50_511_detail_244.png',\n",
       "   'https://lush.co.kr/data/goods/18/09/17/511/t50_511_detail_366.png',\n",
       "   'https://lush.co.kr/data/goods/18/09/17/511/t50_511_detail_481.png',\n",
       "   'https://lush.co.kr/data/goods/18/09/17/511/t50_511_detail_018.png',\n",
       "   'https://lush.co.kr/data/goods/18/09/17/511/t50_511_detail_162.png',\n",
       "   'https://lush.co.kr/data/goods/18/09/17/511/t50_511_detail_244.png',\n",
       "   'https://lush.co.kr/data/goods/18/09/17/511/t50_511_detail_366.png',\n",
       "   'https://lush.co.kr/data/goods/18/09/17/511/t50_511_detail_481.png',\n",
       "   'https://lush.co.kr/data/goods/18/09/17/511/t50_511_detail_018.png',\n",
       "   'https://lush.co.kr/data/goods/18/09/17/511/t50_511_detail_162.png',\n",
       "   'https://lush.co.kr/data/goods/18/09/17/511/t50_511_detail_244.png',\n",
       "   'https://lush.co.kr/data/goods/18/09/17/511/t50_511_detail_366.png'],\n",
       "  'color': '#',\n",
       "  'category': '러쉬 > 프로모션',\n",
       "  'salePrice': 14000,\n",
       "  'originalPrice': 14000,\n",
       "  'brand': 'lush',\n",
       "  'volume': '1kg:￦+71,000'}]"
      ]
     },
     "metadata": {},
     "output_type": "display_data"
    },
    {
     "data": {
      "text/plain": [
       "[{'name': '신더스',\n",
       "  'url': 'https://lush.co.kr/goods/goods_view.php?goodsNo=502',\n",
       "  'image': ['https://lush.co.kr/data/goods/18/09/17/502/t50_502_detail_083.png',\n",
       "   'https://lush.co.kr/data/goods/18/09/17/502/t50_502_detail_115.png',\n",
       "   'https://lush.co.kr/data/goods/18/09/17/502/t50_502_detail_266.png',\n",
       "   'https://lush.co.kr/data/goods/18/09/17/502/t50_502_detail_398.png'],\n",
       "  'color': '#',\n",
       "  'category': '러쉬',\n",
       "  'salePrice': 14000,\n",
       "  'originalPrice': 14000,\n",
       "  'brand': 'lush',\n",
       "  'volume': '110g[품절]'},\n",
       " {'name': '신더스',\n",
       "  'url': 'https://lush.co.kr/goods/goods_view.php?goodsNo=502',\n",
       "  'image': ['https://lush.co.kr/data/goods/18/09/17/502/t50_502_detail_083.png',\n",
       "   'https://lush.co.kr/data/goods/18/09/17/502/t50_502_detail_115.png',\n",
       "   'https://lush.co.kr/data/goods/18/09/17/502/t50_502_detail_266.png',\n",
       "   'https://lush.co.kr/data/goods/18/09/17/502/t50_502_detail_398.png'],\n",
       "  'color': '#',\n",
       "  'category': '러쉬',\n",
       "  'salePrice': 14000,\n",
       "  'originalPrice': 14000,\n",
       "  'brand': 'lush',\n",
       "  'volume': '260g:￦+14,000'},\n",
       " {'name': '신더스',\n",
       "  'url': 'https://lush.co.kr/goods/goods_view.php?goodsNo=502',\n",
       "  'image': ['https://lush.co.kr/data/goods/18/09/17/502/t50_502_detail_083.png',\n",
       "   'https://lush.co.kr/data/goods/18/09/17/502/t50_502_detail_115.png',\n",
       "   'https://lush.co.kr/data/goods/18/09/17/502/t50_502_detail_266.png',\n",
       "   'https://lush.co.kr/data/goods/18/09/17/502/t50_502_detail_398.png'],\n",
       "  'color': '#',\n",
       "  'category': '러쉬',\n",
       "  'salePrice': 14000,\n",
       "  'originalPrice': 14000,\n",
       "  'brand': 'lush',\n",
       "  'volume': '520g:￦+38,000'}]"
      ]
     },
     "metadata": {},
     "output_type": "display_data"
    },
    {
     "data": {
      "text/plain": [
       "[{'name': '슈팅 스타스',\n",
       "  'url': 'https://lush.co.kr/goods/goods_view.php?goodsNo=599',\n",
       "  'image': ['https://lush.co.kr/data/goods/18/10/04/599/t50_599_detail_027.png'],\n",
       "  'color': '#',\n",
       "  'category': '러쉬 > 프로모션',\n",
       "  'salePrice': 13000,\n",
       "  'originalPrice': 13000,\n",
       "  'brand': 'lush',\n",
       "  'volume': '#'}]"
      ]
     },
     "metadata": {},
     "output_type": "display_data"
    },
    {
     "data": {
      "text/plain": [
       "[{'name': '슈팅 스타스',\n",
       "  'url': 'https://lush.co.kr/goods/goods_view.php?goodsNo=598',\n",
       "  'image': ['https://lush.co.kr/data/goods/18/10/04/598/t50_598_detail_098.png'],\n",
       "  'color': '#',\n",
       "  'category': '러쉬',\n",
       "  'salePrice': 13000,\n",
       "  'originalPrice': 13000,\n",
       "  'brand': 'lush',\n",
       "  'volume': '#'}]"
      ]
     },
     "metadata": {},
     "output_type": "display_data"
    },
    {
     "data": {
      "text/plain": [
       "[{'name': '베이크드 알래스카',\n",
       "  'url': 'https://lush.co.kr/goods/goods_view.php?goodsNo=555',\n",
       "  'image': ['https://lush.co.kr/data/goods/18/09/19/555/t50_555_detail_057.png'],\n",
       "  'color': '#',\n",
       "  'category': '러쉬',\n",
       "  'salePrice': 13000,\n",
       "  'originalPrice': 13000,\n",
       "  'brand': 'lush',\n",
       "  'volume': '#'}]"
      ]
     },
     "metadata": {},
     "output_type": "display_data"
    },
    {
     "data": {
      "text/plain": [
       "[{'name': '딥 슬립',\n",
       "  'url': 'https://lush.co.kr/goods/goods_view.php?goodsNo=426',\n",
       "  'image': ['https://lush.co.kr/data/goods/18/05/02/426/t50_426_detail_038.png',\n",
       "   'https://lush.co.kr/data/goods/18/05/02/426/t50_426_detail_135.gif',\n",
       "   'https://lush.co.kr/data/goods/18/05/02/426/t50_426_detail_26.gif'],\n",
       "  'color': '#',\n",
       "  'category': '러쉬 > 샤워 > 샤워 젤 & 젤리',\n",
       "  'salePrice': 13000,\n",
       "  'originalPrice': 13000,\n",
       "  'brand': 'lush',\n",
       "  'volume': '100g'},\n",
       " {'name': '딥 슬립',\n",
       "  'url': 'https://lush.co.kr/goods/goods_view.php?goodsNo=426',\n",
       "  'image': ['https://lush.co.kr/data/goods/18/05/02/426/t50_426_detail_038.png',\n",
       "   'https://lush.co.kr/data/goods/18/05/02/426/t50_426_detail_135.gif',\n",
       "   'https://lush.co.kr/data/goods/18/05/02/426/t50_426_detail_26.gif'],\n",
       "  'color': '#',\n",
       "  'category': '러쉬 > 샤워 > 샤워 젤 & 젤리',\n",
       "  'salePrice': 13000,\n",
       "  'originalPrice': 13000,\n",
       "  'brand': 'lush',\n",
       "  'volume': '240g:￦+13,000'}]"
      ]
     },
     "metadata": {},
     "output_type": "display_data"
    },
    {
     "data": {
      "text/plain": [
       "[{'name': '후쉬',\n",
       "  'url': 'https://lush.co.kr/goods/goods_view.php?goodsNo=331',\n",
       "  'image': ['https://lush.co.kr/data/goods/17/10/23/331/t50_331_detail_080.png',\n",
       "   'https://lush.co.kr/data/goods/17/10/23/331/t50_331_detail_198.png',\n",
       "   'https://lush.co.kr/data/goods/17/10/23/331/t50_331_detail_232.png'],\n",
       "  'color': '#',\n",
       "  'category': '러쉬 > 샤워 > 샤워 젤 & 젤리',\n",
       "  'salePrice': 13000,\n",
       "  'originalPrice': 13000,\n",
       "  'brand': 'lush',\n",
       "  'volume': '100g'},\n",
       " {'name': '후쉬',\n",
       "  'url': 'https://lush.co.kr/goods/goods_view.php?goodsNo=331',\n",
       "  'image': ['https://lush.co.kr/data/goods/17/10/23/331/t50_331_detail_080.png',\n",
       "   'https://lush.co.kr/data/goods/17/10/23/331/t50_331_detail_198.png',\n",
       "   'https://lush.co.kr/data/goods/17/10/23/331/t50_331_detail_232.png'],\n",
       "  'color': '#',\n",
       "  'category': '러쉬 > 샤워 > 샤워 젤 & 젤리',\n",
       "  'salePrice': 13000,\n",
       "  'originalPrice': 13000,\n",
       "  'brand': 'lush',\n",
       "  'volume': '240g:￦+13,000'}]"
      ]
     },
     "metadata": {},
     "output_type": "display_data"
    },
    {
     "data": {
      "text/plain": [
       "[{'name': '라벤더 비다 로카',\n",
       "  'url': 'https://lush.co.kr/goods/goods_view.php?goodsNo=192',\n",
       "  'image': ['https://lush.co.kr/data/goods/16/04/04/192/t50_192_detail_063.png'],\n",
       "  'color': '#',\n",
       "  'category': '러쉬 > 샤워 > 솝',\n",
       "  'salePrice': 12000,\n",
       "  'originalPrice': 12000,\n",
       "  'brand': 'lush',\n",
       "  'volume': '#'}]"
      ]
     },
     "metadata": {},
     "output_type": "display_data"
    },
    {
     "data": {
      "text/plain": [
       "[{'name': '파슬리 포리지',\n",
       "  'url': 'https://lush.co.kr/goods/goods_view.php?goodsNo=182',\n",
       "  'image': ['https://lush.co.kr/data/goods/16/03/21/182/t50_182_detail_058.png'],\n",
       "  'color': '#',\n",
       "  'category': '러쉬 > 샤워 > 솝',\n",
       "  'salePrice': 12000,\n",
       "  'originalPrice': 12000,\n",
       "  'brand': 'lush',\n",
       "  'volume': '#'}]"
      ]
     },
     "metadata": {},
     "output_type": "display_data"
    },
    {
     "data": {
      "text/plain": [
       "[{'name': '카마',\n",
       "  'url': 'https://lush.co.kr/goods/goods_view.php?goodsNo=6',\n",
       "  'image': ['https://lush.co.kr/data/goods/11/01/19/6/t50_6_detail_047.png'],\n",
       "  'color': '#',\n",
       "  'category': '러쉬 > 샤워 > 솝',\n",
       "  'salePrice': 12000,\n",
       "  'originalPrice': 12000,\n",
       "  'brand': 'lush',\n",
       "  'volume': '#'}]"
      ]
     },
     "metadata": {},
     "output_type": "display_data"
    },
    {
     "data": {
      "text/plain": [
       "[{'name': '밀키 바',\n",
       "  'url': 'https://lush.co.kr/goods/goods_view.php?goodsNo=498',\n",
       "  'image': ['https://lush.co.kr/data/goods/18/09/17/498/t50_498_detail_097.png'],\n",
       "  'color': '#',\n",
       "  'category': '러쉬 > 샤워 > 솝',\n",
       "  'salePrice': 9000,\n",
       "  'originalPrice': 9000,\n",
       "  'brand': 'lush',\n",
       "  'volume': '#'}]"
      ]
     },
     "metadata": {},
     "output_type": "display_data"
    },
    {
     "data": {
      "text/plain": [
       "[{'name': '리스펙트 유어 엘더스',\n",
       "  'url': 'https://lush.co.kr/goods/goods_view.php?goodsNo=191',\n",
       "  'image': ['https://lush.co.kr/data/goods/16/04/04/191/t50_191_detail_091.png'],\n",
       "  'color': '#',\n",
       "  'category': '러쉬 > 샤워 > 솝',\n",
       "  'salePrice': 9000,\n",
       "  'originalPrice': 9000,\n",
       "  'brand': 'lush',\n",
       "  'volume': '#'}]"
      ]
     },
     "metadata": {},
     "output_type": "display_data"
    },
    {
     "data": {
      "text/plain": [
       "[{'name': '아웃백 메이트',\n",
       "  'url': 'https://lush.co.kr/goods/goods_view.php?goodsNo=190',\n",
       "  'image': ['https://lush.co.kr/data/goods/16/04/04/190/t50_190_detail_09.png'],\n",
       "  'color': '#',\n",
       "  'category': '러쉬 > 샤워 > 솝',\n",
       "  'salePrice': 9000,\n",
       "  'originalPrice': 9000,\n",
       "  'brand': 'lush',\n",
       "  'volume': '#'}]"
      ]
     },
     "metadata": {},
     "output_type": "display_data"
    },
    {
     "data": {
      "text/plain": [
       "[{'name': '씨 베지터블',\n",
       "  'url': 'https://lush.co.kr/goods/goods_view.php?goodsNo=9',\n",
       "  'image': ['https://lush.co.kr/data/goods/11/01/19/9/t50_9_detail_051.png'],\n",
       "  'color': '#',\n",
       "  'category': '러쉬 > 샤워 > 솝',\n",
       "  'salePrice': 9000,\n",
       "  'originalPrice': 9000,\n",
       "  'brand': 'lush',\n",
       "  'volume': '#'}]"
      ]
     },
     "metadata": {},
     "output_type": "display_data"
    },
    {
     "data": {
      "text/plain": [
       "[{'name': '락 스타',\n",
       "  'url': 'https://lush.co.kr/goods/goods_view.php?goodsNo=8',\n",
       "  'image': ['https://lush.co.kr/data/goods/11/01/19/8/t50_8_detail_036.png'],\n",
       "  'color': '#',\n",
       "  'category': '러쉬 > 샤워 > 솝',\n",
       "  'salePrice': 9000,\n",
       "  'originalPrice': 9000,\n",
       "  'brand': 'lush',\n",
       "  'volume': '#'}]"
      ]
     },
     "metadata": {},
     "output_type": "display_data"
    },
    {
     "data": {
      "text/plain": [
       "[{'name': '샌드스톤',\n",
       "  'url': 'https://lush.co.kr/goods/goods_view.php?goodsNo=7',\n",
       "  'image': ['https://lush.co.kr/data/goods/11/01/19/7/t50_7_detail_097.png'],\n",
       "  'color': '#',\n",
       "  'category': '러쉬 > 샤워 > 솝',\n",
       "  'salePrice': 9000,\n",
       "  'originalPrice': 9000,\n",
       "  'brand': 'lush',\n",
       "  'volume': '#'}]"
      ]
     },
     "metadata": {},
     "output_type": "display_data"
    },
    {
     "data": {
      "text/plain": [
       "[{'name': '허니 아이 워시드 더 키즈',\n",
       "  'url': 'https://lush.co.kr/goods/goods_view.php?goodsNo=5',\n",
       "  'image': ['https://lush.co.kr/data/goods/11/01/19/5/t50_5_detail_077.png'],\n",
       "  'color': '#',\n",
       "  'category': '러쉬 > 샤워 > 솝',\n",
       "  'salePrice': 9000,\n",
       "  'originalPrice': 9000,\n",
       "  'brand': 'lush',\n",
       "  'volume': '#'}]"
      ]
     },
     "metadata": {},
     "output_type": "display_data"
    },
    {
     "data": {
      "text/plain": [
       "[{'name': '술타나 오브 솝',\n",
       "  'url': 'https://lush.co.kr/goods/goods_view.php?goodsNo=4',\n",
       "  'image': ['https://lush.co.kr/data/goods/11/01/18/4/t50_4_detail_011.png'],\n",
       "  'color': '#',\n",
       "  'category': '러쉬 > 샤워 > 솝',\n",
       "  'salePrice': 9000,\n",
       "  'originalPrice': 9000,\n",
       "  'brand': 'lush',\n",
       "  'volume': '#'}]"
      ]
     },
     "metadata": {},
     "output_type": "display_data"
    },
    {
     "data": {
      "text/plain": [
       "[{'name': '메이폴',\n",
       "  'url': 'https://lush.co.kr/goods/goods_view.php?goodsNo=189',\n",
       "  'image': ['https://lush.co.kr/data/goods/16/04/04/189/t50_189_detail_073.png'],\n",
       "  'color': '#',\n",
       "  'category': '러쉬 > 프로모션',\n",
       "  'salePrice': 8000,\n",
       "  'originalPrice': 8000,\n",
       "  'brand': 'lush',\n",
       "  'volume': '#'}]"
      ]
     },
     "metadata": {},
     "output_type": "display_data"
    },
    {
     "data": {
      "text/plain": [
       "[{'name': '보헤미안',\n",
       "  'url': 'https://lush.co.kr/goods/goods_view.php?goodsNo=3',\n",
       "  'image': ['https://lush.co.kr/data/goods/11/01/18/3/t50_3_detail_09.png'],\n",
       "  'color': '#',\n",
       "  'category': '러쉬 > 샤워 > 솝',\n",
       "  'salePrice': 8000,\n",
       "  'originalPrice': 8000,\n",
       "  'brand': 'lush',\n",
       "  'volume': '#'}]"
      ]
     },
     "metadata": {},
     "output_type": "display_data"
    },
    {
     "data": {
      "text/plain": [
       "[{'name': '빅',\n",
       "  'url': 'https://lush.co.kr/goods/goods_view.php?goodsNo=1000000089',\n",
       "  'image': ['https://lush.co.kr/data/goods/18/12/49/1000000089/t50_1000000089_detail_028.png',\n",
       "   'https://lush.co.kr/data/goods/18/12/49/1000000089/t50_1000000089_detail_183.png'],\n",
       "  'color': '#',\n",
       "  'category': '러쉬 > 보디 > 보디 스프레이',\n",
       "  'salePrice': 60000,\n",
       "  'originalPrice': 60000,\n",
       "  'brand': 'lush',\n",
       "  'volume': '#'}]"
      ]
     },
     "metadata": {},
     "output_type": "display_data"
    },
    {
     "data": {
      "text/plain": [
       "[{'name': '스노우 페어리',\n",
       "  'url': 'https://lush.co.kr/goods/goods_view.php?goodsNo=487',\n",
       "  'image': ['https://lush.co.kr/data/goods/18/09/17/487/t50_487_detail_098.png',\n",
       "   'https://lush.co.kr/data/goods/18/09/17/487/t50_487_detail_171.png'],\n",
       "  'color': '#',\n",
       "  'category': '러쉬 > 보디 > 보디 스프레이',\n",
       "  'salePrice': 55000,\n",
       "  'originalPrice': 55000,\n",
       "  'brand': 'lush',\n",
       "  'volume': '#'}]"
      ]
     },
     "metadata": {},
     "output_type": "display_data"
    },
    {
     "data": {
      "text/plain": [
       "[{'name': '아메리칸 크림',\n",
       "  'url': 'https://lush.co.kr/goods/goods_view.php?goodsNo=1000000161',\n",
       "  'image': ['https://lush.co.kr/data/goods/19/01/04/1000000161/t50_1000000161_detail_02.png'],\n",
       "  'color': '#',\n",
       "  'category': '러쉬 > 프로모션 > 발렌타인',\n",
       "  'salePrice': 27000,\n",
       "  'originalPrice': 27000,\n",
       "  'brand': 'lush',\n",
       "  'volume': '#'}]"
      ]
     },
     "metadata": {},
     "output_type": "display_data"
    },
    {
     "data": {
      "text/plain": [
       "[{'name': '아보카도 워시',\n",
       "  'url': 'https://lush.co.kr/goods/goods_view.php?goodsNo=1000000160',\n",
       "  'image': ['https://lush.co.kr/data/goods/19/01/04/1000000160/t50_1000000160_detail_055.png'],\n",
       "  'color': '#',\n",
       "  'category': '러쉬 > 프로모션 > 발렌타인',\n",
       "  'salePrice': 27000,\n",
       "  'originalPrice': 27000,\n",
       "  'brand': 'lush',\n",
       "  'volume': '#'}]"
      ]
     },
     "metadata": {},
     "output_type": "display_data"
    },
    {
     "data": {
      "text/plain": [
       "[{'name': '엑토플라즘',\n",
       "  'url': 'https://lush.co.kr/goods/goods_view.php?goodsNo=516',\n",
       "  'image': ['https://lush.co.kr/data/goods/18/09/17/516/t50_516_detail_064.png'],\n",
       "  'color': '#',\n",
       "  'category': '러쉬',\n",
       "  'salePrice': 23000,\n",
       "  'originalPrice': 23000,\n",
       "  'brand': 'lush',\n",
       "  'volume': '#'}]"
      ]
     },
     "metadata": {},
     "output_type": "display_data"
    },
    {
     "data": {
      "text/plain": [
       "[{'name': '신더스',\n",
       "  'url': 'https://lush.co.kr/goods/goods_view.php?goodsNo=515',\n",
       "  'image': ['https://lush.co.kr/data/goods/18/09/17/515/t50_515_detail_022.png'],\n",
       "  'color': '#',\n",
       "  'category': '러쉬',\n",
       "  'salePrice': 23000,\n",
       "  'originalPrice': 23000,\n",
       "  'brand': 'lush',\n",
       "  'volume': '#'}]"
      ]
     },
     "metadata": {},
     "output_type": "display_data"
    },
    {
     "data": {
      "text/plain": [
       "[{'name': '고스트 인 더 다크',\n",
       "  'url': 'https://lush.co.kr/goods/goods_view.php?goodsNo=495',\n",
       "  'image': ['https://lush.co.kr/data/goods/18/09/17/495/t50_495_detail_026.png'],\n",
       "  'color': '#',\n",
       "  'category': '러쉬',\n",
       "  'salePrice': 15000,\n",
       "  'originalPrice': 15000,\n",
       "  'brand': 'lush',\n",
       "  'volume': '#'}]"
      ]
     },
     "metadata": {},
     "output_type": "display_data"
    },
    {
     "data": {
      "text/plain": [
       "[{'name': '엑토플라즘',\n",
       "  'url': 'https://lush.co.kr/goods/goods_view.php?goodsNo=505',\n",
       "  'image': ['https://lush.co.kr/data/goods/18/09/17/505/t50_505_detail_093.png',\n",
       "   'https://lush.co.kr/data/goods/18/09/17/505/t50_505_detail_153.png',\n",
       "   'https://lush.co.kr/data/goods/18/09/17/505/t50_505_detail_214.png',\n",
       "   'https://lush.co.kr/data/goods/18/09/17/505/t50_505_detail_368.png'],\n",
       "  'color': '#',\n",
       "  'category': '러쉬',\n",
       "  'salePrice': 14000,\n",
       "  'originalPrice': 14000,\n",
       "  'brand': 'lush',\n",
       "  'volume': '110g'},\n",
       " {'name': '엑토플라즘',\n",
       "  'url': 'https://lush.co.kr/goods/goods_view.php?goodsNo=505',\n",
       "  'image': ['https://lush.co.kr/data/goods/18/09/17/505/t50_505_detail_093.png',\n",
       "   'https://lush.co.kr/data/goods/18/09/17/505/t50_505_detail_153.png',\n",
       "   'https://lush.co.kr/data/goods/18/09/17/505/t50_505_detail_214.png',\n",
       "   'https://lush.co.kr/data/goods/18/09/17/505/t50_505_detail_368.png'],\n",
       "  'color': '#',\n",
       "  'category': '러쉬',\n",
       "  'salePrice': 14000,\n",
       "  'originalPrice': 14000,\n",
       "  'brand': 'lush',\n",
       "  'volume': '260g:￦+14,000'},\n",
       " {'name': '엑토플라즘',\n",
       "  'url': 'https://lush.co.kr/goods/goods_view.php?goodsNo=505',\n",
       "  'image': ['https://lush.co.kr/data/goods/18/09/17/505/t50_505_detail_093.png',\n",
       "   'https://lush.co.kr/data/goods/18/09/17/505/t50_505_detail_153.png',\n",
       "   'https://lush.co.kr/data/goods/18/09/17/505/t50_505_detail_214.png',\n",
       "   'https://lush.co.kr/data/goods/18/09/17/505/t50_505_detail_368.png'],\n",
       "  'color': '#',\n",
       "  'category': '러쉬',\n",
       "  'salePrice': 14000,\n",
       "  'originalPrice': 14000,\n",
       "  'brand': 'lush',\n",
       "  'volume': '520g:￦+38,000'}]"
      ]
     },
     "metadata": {},
     "output_type": "display_data"
    },
    {
     "data": {
      "text/plain": [
       "[{'name': '오랑우탄',\n",
       "  'url': 'https://lush.co.kr/goods/goods_view.php?goodsNo=1000000178',\n",
       "  'image': ['https://lush.co.kr/data/goods/19/01/04/1000000178/t50_1000000178_detail_027.png'],\n",
       "  'color': '#',\n",
       "  'category': '러쉬 > 샤워',\n",
       "  'salePrice': 13000,\n",
       "  'originalPrice': 13000,\n",
       "  'brand': 'lush',\n",
       "  'volume': '#'}]"
      ]
     },
     "metadata": {},
     "output_type": "display_data"
    },
    {
     "data": {
      "text/plain": [
       "[{'name': '슈팅 스타스',\n",
       "  'url': 'https://lush.co.kr/goods/goods_view.php?goodsNo=499',\n",
       "  'image': ['https://lush.co.kr/data/goods/18/09/17/499/t50_499_detail_042.png'],\n",
       "  'color': '#',\n",
       "  'category': '러쉬',\n",
       "  'salePrice': 13000,\n",
       "  'originalPrice': 13000,\n",
       "  'brand': 'lush',\n",
       "  'volume': '#'}]"
      ]
     },
     "metadata": {},
     "output_type": "display_data"
    },
    {
     "data": {
      "text/plain": [
       "[{'name': '픽스 앤 리브즈',\n",
       "  'url': 'https://lush.co.kr/goods/goods_view.php?goodsNo=173',\n",
       "  'image': ['https://lush.co.kr/data/goods/16/02/26/173/t50_173_detail_069.png'],\n",
       "  'color': '#',\n",
       "  'category': '러쉬 > 샤워 > 솝',\n",
       "  'salePrice': 9000,\n",
       "  'originalPrice': 9000,\n",
       "  'brand': 'lush',\n",
       "  'volume': '#'}]"
      ]
     },
     "metadata": {},
     "output_type": "display_data"
    },
    {
     "data": {
      "text/plain": [
       "[{'name': '섹시 필',\n",
       "  'url': 'https://lush.co.kr/goods/goods_view.php?goodsNo=10',\n",
       "  'image': ['https://lush.co.kr/data/goods/11/01/19/10/t50_10_detail_038.png'],\n",
       "  'color': '#',\n",
       "  'category': '러쉬 > 샤워 > 솝',\n",
       "  'salePrice': 9000,\n",
       "  'originalPrice': 9000,\n",
       "  'brand': 'lush',\n",
       "  'volume': '#'}]"
      ]
     },
     "metadata": {},
     "output_type": "display_data"
    },
    {
     "data": {
      "text/plain": [
       "[{'name': '슈가 플럼 페어리',\n",
       "  'url': 'https://lush.co.kr/goods/goods_view.php?goodsNo=479',\n",
       "  'image': ['https://lush.co.kr/data/goods/18/09/14/479/t50_479_detail_033.png'],\n",
       "  'color': '#',\n",
       "  'category': '러쉬',\n",
       "  'salePrice': 8000,\n",
       "  'originalPrice': 8000,\n",
       "  'brand': 'lush',\n",
       "  'volume': '#'}]"
      ]
     },
     "metadata": {},
     "output_type": "display_data"
    },
    {
     "data": {
      "text/plain": [
       "[{'name': '마스크 오브 매그너민티',\n",
       "  'url': 'https://lush.co.kr/goods/goods_view.php?goodsNo=97',\n",
       "  'image': ['https://lush.co.kr/data/goods/12/03/07/97/t50_97_detail_042.png',\n",
       "   'https://lush.co.kr/data/goods/12/03/07/97/t50_97_detail_115.png',\n",
       "   'https://lush.co.kr/data/goods/12/03/07/97/t50_97_detail_293.png'],\n",
       "  'color': '#',\n",
       "  'category': '러쉬 > 페이스 > 클렌저',\n",
       "  'salePrice': 20000,\n",
       "  'originalPrice': 20000,\n",
       "  'brand': 'lush',\n",
       "  'volume': '125g'},\n",
       " {'name': '마스크 오브 매그너민티',\n",
       "  'url': 'https://lush.co.kr/goods/goods_view.php?goodsNo=97',\n",
       "  'image': ['https://lush.co.kr/data/goods/12/03/07/97/t50_97_detail_042.png',\n",
       "   'https://lush.co.kr/data/goods/12/03/07/97/t50_97_detail_115.png',\n",
       "   'https://lush.co.kr/data/goods/12/03/07/97/t50_97_detail_293.png'],\n",
       "  'color': '#',\n",
       "  'category': '러쉬 > 페이스 > 클렌저',\n",
       "  'salePrice': 20000,\n",
       "  'originalPrice': 20000,\n",
       "  'brand': 'lush',\n",
       "  'volume': '315g:￦+20,000'}]"
      ]
     },
     "metadata": {},
     "output_type": "display_data"
    },
    {
     "data": {
      "text/plain": [
       "[{'name': '더티 보디 스프레이',\n",
       "  'url': 'https://lush.co.kr/goods/goods_view.php?goodsNo=246',\n",
       "  'image': ['https://lush.co.kr/data/goods/17/08/16/246/t50_246_detail_078.png',\n",
       "   'https://lush.co.kr/data/goods/17/08/16/246/t50_246_detail_16.png'],\n",
       "  'color': '#',\n",
       "  'category': '러쉬 > 보디 > 보디 스프레이',\n",
       "  'salePrice': 50000,\n",
       "  'originalPrice': 50000,\n",
       "  'brand': 'lush',\n",
       "  'volume': '#'}]"
      ]
     },
     "metadata": {},
     "output_type": "display_data"
    },
    {
     "data": {
      "text/plain": [
       "[{'name': '칼라카스',\n",
       "  'url': 'https://lush.co.kr/goods/goods_view.php?goodsNo=1000000090',\n",
       "  'image': ['https://lush.co.kr/data/goods/18/12/49/1000000090/t50_1000000090_detail_039.png',\n",
       "   'https://lush.co.kr/data/goods/18/12/49/1000000090/t50_1000000090_detail_143.png'],\n",
       "  'color': '#',\n",
       "  'category': '러쉬 > 보디 > 보디 스프레이',\n",
       "  'salePrice': 50000,\n",
       "  'originalPrice': 50000,\n",
       "  'brand': 'lush',\n",
       "  'volume': '#'}]"
      ]
     },
     "metadata": {},
     "output_type": "display_data"
    },
    {
     "data": {
      "text/plain": [
       "[{'name': '허벌리즘',\n",
       "  'url': 'https://lush.co.kr/goods/goods_view.php?goodsNo=85',\n",
       "  'image': ['https://lush.co.kr/data/goods/11/01/20/85/t50_85_detail_022.png',\n",
       "   'https://lush.co.kr/data/goods/11/01/20/85/t50_85_detail_122.png',\n",
       "   'https://lush.co.kr/data/goods/11/01/20/85/t50_85_detail_279.png'],\n",
       "  'color': '#',\n",
       "  'category': '러쉬 > 페이스 > 클렌저',\n",
       "  'salePrice': 22000,\n",
       "  'originalPrice': 22000,\n",
       "  'brand': 'lush',\n",
       "  'volume': '100g'},\n",
       " {'name': '허벌리즘',\n",
       "  'url': 'https://lush.co.kr/goods/goods_view.php?goodsNo=85',\n",
       "  'image': ['https://lush.co.kr/data/goods/11/01/20/85/t50_85_detail_022.png',\n",
       "   'https://lush.co.kr/data/goods/11/01/20/85/t50_85_detail_122.png',\n",
       "   'https://lush.co.kr/data/goods/11/01/20/85/t50_85_detail_279.png'],\n",
       "  'color': '#',\n",
       "  'category': '러쉬 > 페이스 > 클렌저',\n",
       "  'salePrice': 22000,\n",
       "  'originalPrice': 22000,\n",
       "  'brand': 'lush',\n",
       "  'volume': '250g:￦+22,000'}]"
      ]
     },
     "metadata": {},
     "output_type": "display_data"
    },
    {
     "data": {
      "text/plain": [
       "[{'name': '트와일라잇',\n",
       "  'url': 'https://lush.co.kr/goods/goods_view.php?goodsNo=248',\n",
       "  'image': ['https://lush.co.kr/data/goods/17/08/16/248/t50_248_detail_018.png',\n",
       "   'https://lush.co.kr/data/goods/17/08/16/248/t50_248_detail_140.png'],\n",
       "  'color': '#',\n",
       "  'category': '러쉬 > 보디 > 보디 스프레이',\n",
       "  'salePrice': 50000,\n",
       "  'originalPrice': 50000,\n",
       "  'brand': 'lush',\n",
       "  'volume': '#'}]"
      ]
     },
     "metadata": {},
     "output_type": "display_data"
    },
    {
     "data": {
      "text/plain": [
       "[{'name': '엔젤스 온 배어 스킨',\n",
       "  'url': 'https://lush.co.kr/goods/goods_view.php?goodsNo=62',\n",
       "  'image': ['https://lush.co.kr/data/goods/11/01/20/62/t50_62_detail_023.png',\n",
       "   'https://lush.co.kr/data/goods/11/01/20/62/t50_62_detail_119.png',\n",
       "   'https://lush.co.kr/data/goods/11/01/20/62/t50_62_detail_210.png'],\n",
       "  'color': '#',\n",
       "  'category': '러쉬 > 페이스 > 클렌저',\n",
       "  'salePrice': 22000,\n",
       "  'originalPrice': 22000,\n",
       "  'brand': 'lush',\n",
       "  'volume': '100g'},\n",
       " {'name': '엔젤스 온 배어 스킨',\n",
       "  'url': 'https://lush.co.kr/goods/goods_view.php?goodsNo=62',\n",
       "  'image': ['https://lush.co.kr/data/goods/11/01/20/62/t50_62_detail_023.png',\n",
       "   'https://lush.co.kr/data/goods/11/01/20/62/t50_62_detail_119.png',\n",
       "   'https://lush.co.kr/data/goods/11/01/20/62/t50_62_detail_210.png'],\n",
       "  'color': '#',\n",
       "  'category': '러쉬 > 페이스 > 클렌저',\n",
       "  'salePrice': 22000,\n",
       "  'originalPrice': 22000,\n",
       "  'brand': 'lush',\n",
       "  'volume': '250g:￦+22,000'}]"
      ]
     },
     "metadata": {},
     "output_type": "display_data"
    },
    {
     "data": {
      "text/plain": [
       "[{'name': '슬리피',\n",
       "  'url': 'https://lush.co.kr/goods/goods_view.php?goodsNo=220',\n",
       "  'image': ['https://lush.co.kr/data/goods/16/10/12/220/t50_220_detail_079.png',\n",
       "   'https://lush.co.kr/data/goods/16/10/12/220/t50_220_detail_135.png',\n",
       "   'https://lush.co.kr/data/goods/16/10/12/220/t50_220_detail_271.png'],\n",
       "  'color': '#',\n",
       "  'category': '러쉬 > 보디 > 로션',\n",
       "  'salePrice': 22000,\n",
       "  'originalPrice': 22000,\n",
       "  'brand': 'lush',\n",
       "  'volume': '95g'},\n",
       " {'name': '슬리피',\n",
       "  'url': 'https://lush.co.kr/goods/goods_view.php?goodsNo=220',\n",
       "  'image': ['https://lush.co.kr/data/goods/16/10/12/220/t50_220_detail_079.png',\n",
       "   'https://lush.co.kr/data/goods/16/10/12/220/t50_220_detail_135.png',\n",
       "   'https://lush.co.kr/data/goods/16/10/12/220/t50_220_detail_271.png'],\n",
       "  'color': '#',\n",
       "  'category': '러쉬 > 보디 > 로션',\n",
       "  'salePrice': 22000,\n",
       "  'originalPrice': 22000,\n",
       "  'brand': 'lush',\n",
       "  'volume': '225g:￦+22,000'}]"
      ]
     },
     "metadata": {},
     "output_type": "display_data"
    },
    {
     "data": {
      "text/plain": [
       "[{'name': '아보카도 코-워시',\n",
       "  'url': 'https://lush.co.kr/goods/goods_view.php?goodsNo=1000000092',\n",
       "  'image': ['https://lush.co.kr/data/goods/18/12/49/1000000092/t50_1000000092_detail_077.png',\n",
       "   'https://lush.co.kr/data/goods/18/12/49/1000000092/t50_1000000092_detail_149.png'],\n",
       "  'color': '#',\n",
       "  'category': '러쉬 > 보디 > 보디 스프레이',\n",
       "  'salePrice': 50000,\n",
       "  'originalPrice': 50000,\n",
       "  'brand': 'lush',\n",
       "  'volume': '#'}]"
      ]
     },
     "metadata": {},
     "output_type": "display_data"
    },
    {
     "data": {
      "text/plain": [
       "[{'name': '술타나',\n",
       "  'url': 'https://lush.co.kr/goods/goods_view.php?goodsNo=1000000109',\n",
       "  'image': ['https://lush.co.kr/data/goods/18/12/49/1000000109/t50_1000000109_detail_089.png',\n",
       "   'https://lush.co.kr/data/goods/18/12/49/1000000109/t50_1000000109_detail_127.png'],\n",
       "  'color': '#',\n",
       "  'category': '러쉬 > 프로모션 > 커뮤니티',\n",
       "  'salePrice': 40000,\n",
       "  'originalPrice': 40000,\n",
       "  'brand': 'lush',\n",
       "  'volume': '#'}]"
      ]
     },
     "metadata": {},
     "output_type": "display_data"
    },
    {
     "data": {
      "text/plain": [
       "[{'name': '골든 페어',\n",
       "  'url': 'https://lush.co.kr/goods/goods_view.php?goodsNo=1000000091',\n",
       "  'image': ['https://lush.co.kr/data/goods/18/12/49/1000000091/t50_1000000091_detail_029.png',\n",
       "   'https://lush.co.kr/data/goods/18/12/49/1000000091/t50_1000000091_detail_119.png'],\n",
       "  'color': '#',\n",
       "  'category': '러쉬 > 보디 > 보디 스프레이',\n",
       "  'salePrice': 50000,\n",
       "  'originalPrice': 50000,\n",
       "  'brand': 'lush',\n",
       "  'volume': '#'}]"
      ]
     },
     "metadata": {},
     "output_type": "display_data"
    },
    {
     "data": {
      "text/plain": [
       "[{'name': '원스 어폰 어 타임',\n",
       "  'url': 'https://lush.co.kr/goods/goods_view.php?goodsNo=490',\n",
       "  'image': ['https://lush.co.kr/data/goods/18/09/17/490/t50_490_detail_085.png',\n",
       "   'https://lush.co.kr/data/goods/18/09/17/490/t50_490_detail_192.png',\n",
       "   'https://lush.co.kr/data/goods/18/09/17/490/t50_490_detail_289.png'],\n",
       "  'color': '#',\n",
       "  'category': '러쉬 > 보디 > 로션',\n",
       "  'salePrice': 25000,\n",
       "  'originalPrice': 25000,\n",
       "  'brand': 'lush',\n",
       "  'volume': '100g'},\n",
       " {'name': '원스 어폰 어 타임',\n",
       "  'url': 'https://lush.co.kr/goods/goods_view.php?goodsNo=490',\n",
       "  'image': ['https://lush.co.kr/data/goods/18/09/17/490/t50_490_detail_085.png',\n",
       "   'https://lush.co.kr/data/goods/18/09/17/490/t50_490_detail_192.png',\n",
       "   'https://lush.co.kr/data/goods/18/09/17/490/t50_490_detail_289.png'],\n",
       "  'color': '#',\n",
       "  'category': '러쉬 > 보디 > 로션',\n",
       "  'salePrice': 25000,\n",
       "  'originalPrice': 25000,\n",
       "  'brand': 'lush',\n",
       "  'volume': '225g:￦+21,000[품절]'}]"
      ]
     },
     "metadata": {},
     "output_type": "display_data"
    },
    {
     "data": {
      "text/plain": [
       "[{'name': '대드스 가든 레몬 트리',\n",
       "  'url': 'https://lush.co.kr/goods/goods_view.php?goodsNo=245',\n",
       "  'image': ['https://lush.co.kr/data/goods/17/08/16/245/t50_245_detail_038.png',\n",
       "   'https://lush.co.kr/data/goods/17/08/16/245/t50_245_detail_145.png'],\n",
       "  'color': '#',\n",
       "  'category': '러쉬 > 보디 > 보디 스프레이',\n",
       "  'salePrice': 47000,\n",
       "  'originalPrice': 47000,\n",
       "  'brand': 'lush',\n",
       "  'volume': '#'}]"
      ]
     },
     "metadata": {},
     "output_type": "display_data"
    },
    {
     "data": {
      "text/plain": [
       "[{'name': '카마 크림',\n",
       "  'url': 'https://lush.co.kr/goods/goods_view.php?goodsNo=75',\n",
       "  'image': ['https://lush.co.kr/data/goods/11/01/20/75/t50_75_detail_037.png',\n",
       "   'https://lush.co.kr/data/goods/11/01/20/75/t50_75_detail_137.png'],\n",
       "  'color': '#',\n",
       "  'category': '러쉬 > 보디 > 로션',\n",
       "  'salePrice': 45000,\n",
       "  'originalPrice': 45000,\n",
       "  'brand': 'lush',\n",
       "  'volume': '#'}]"
      ]
     },
     "metadata": {},
     "output_type": "display_data"
    },
    {
     "data": {
      "text/plain": [
       "[{'name': '아메리칸 크림',\n",
       "  'url': 'https://lush.co.kr/goods/goods_view.php?goodsNo=1000000113',\n",
       "  'image': ['https://lush.co.kr/data/goods/18/12/49/1000000113/t50_1000000113_detail_039.png',\n",
       "   'https://lush.co.kr/data/goods/18/12/49/1000000113/t50_1000000113_detail_148.png'],\n",
       "  'color': '#',\n",
       "  'category': '러쉬 > 프로모션 > 커뮤니티',\n",
       "  'salePrice': 42000,\n",
       "  'originalPrice': 42000,\n",
       "  'brand': 'lush',\n",
       "  'volume': '#'}]"
      ]
     },
     "metadata": {},
     "output_type": "display_data"
    },
    {
     "data": {
      "text/plain": [
       "[{'name': '칼라카스',\n",
       "  'url': 'https://lush.co.kr/goods/goods_view.php?goodsNo=1000000115',\n",
       "  'image': ['https://lush.co.kr/data/goods/18/12/49/1000000115/t50_1000000115_detail_078.png',\n",
       "   'https://lush.co.kr/data/goods/18/12/49/1000000115/t50_1000000115_detail_196.png'],\n",
       "  'color': '#',\n",
       "  'category': '러쉬 > 프로모션 > 커뮤니티',\n",
       "  'salePrice': 45000,\n",
       "  'originalPrice': 45000,\n",
       "  'brand': 'lush',\n",
       "  'volume': '#'}]"
      ]
     },
     "metadata": {},
     "output_type": "display_data"
    },
    {
     "data": {
      "text/plain": [
       "[{'name': '컵 오 커피',\n",
       "  'url': 'https://lush.co.kr/goods/goods_view.php?goodsNo=167',\n",
       "  'image': ['https://lush.co.kr/data/goods/16/01/28/167/t50_167_detail_084.png',\n",
       "   'https://lush.co.kr/data/goods/16/01/28/167/t50_167_detail_169.png',\n",
       "   'https://lush.co.kr/data/goods/16/01/28/167/t50_167_detail_274.png'],\n",
       "  'color': '#',\n",
       "  'category': '러쉬 > 페이스 > 클렌저',\n",
       "  'salePrice': 18000,\n",
       "  'originalPrice': 18000,\n",
       "  'brand': 'lush',\n",
       "  'volume': '130g'},\n",
       " {'name': '컵 오 커피',\n",
       "  'url': 'https://lush.co.kr/goods/goods_view.php?goodsNo=167',\n",
       "  'image': ['https://lush.co.kr/data/goods/16/01/28/167/t50_167_detail_084.png',\n",
       "   'https://lush.co.kr/data/goods/16/01/28/167/t50_167_detail_169.png',\n",
       "   'https://lush.co.kr/data/goods/16/01/28/167/t50_167_detail_274.png'],\n",
       "  'color': '#',\n",
       "  'category': '러쉬 > 페이스 > 클렌저',\n",
       "  'salePrice': 18000,\n",
       "  'originalPrice': 18000,\n",
       "  'brand': 'lush',\n",
       "  'volume': '325g:￦+18,000'}]"
      ]
     },
     "metadata": {},
     "output_type": "display_data"
    },
    {
     "data": {
      "text/plain": [
       "[{'name': '바닐라리',\n",
       "  'url': 'https://lush.co.kr/goods/goods_view.php?goodsNo=1000000116',\n",
       "  'image': ['https://lush.co.kr/data/goods/18/12/50/1000000116/t50_1000000116_detail_099.png',\n",
       "   'https://lush.co.kr/data/goods/18/12/50/1000000116/t50_1000000116_detail_131.png'],\n",
       "  'color': '#',\n",
       "  'category': '러쉬 > 보디 > 보디 스프레이',\n",
       "  'salePrice': 65000,\n",
       "  'originalPrice': 65000,\n",
       "  'brand': 'lush',\n",
       "  'volume': '#'}]"
      ]
     },
     "metadata": {},
     "output_type": "display_data"
    },
    {
     "data": {
      "text/plain": [
       "[{'name': '로즈 잼',\n",
       "  'url': 'https://lush.co.kr/goods/goods_view.php?goodsNo=247',\n",
       "  'image': ['https://lush.co.kr/data/goods/17/08/16/247/t50_247_detail_081.png',\n",
       "   'https://lush.co.kr/data/goods/17/08/16/247/t50_247_detail_127.png'],\n",
       "  'color': '#',\n",
       "  'category': '러쉬 > 보디 > 보디 스프레이',\n",
       "  'salePrice': 65000,\n",
       "  'originalPrice': 65000,\n",
       "  'brand': 'lush',\n",
       "  'volume': '#'}]"
      ]
     },
     "metadata": {},
     "output_type": "display_data"
    },
    {
     "data": {
      "text/plain": [
       "[{'name': '렛 더 굿 타임즈 롤',\n",
       "  'url': 'https://lush.co.kr/goods/goods_view.php?goodsNo=126',\n",
       "  'image': ['https://lush.co.kr/data/goods/13/10/15/126/t50_126_detail_093.png',\n",
       "   'https://lush.co.kr/data/goods/13/10/15/126/t50_126_detail_180.png',\n",
       "   'https://lush.co.kr/data/goods/13/10/15/126/t50_126_detail_22.png'],\n",
       "  'color': '#',\n",
       "  'category': '러쉬 > 페이스 > 클렌저',\n",
       "  'salePrice': 22000,\n",
       "  'originalPrice': 22000,\n",
       "  'brand': 'lush',\n",
       "  'volume': '100g'},\n",
       " {'name': '렛 더 굿 타임즈 롤',\n",
       "  'url': 'https://lush.co.kr/goods/goods_view.php?goodsNo=126',\n",
       "  'image': ['https://lush.co.kr/data/goods/13/10/15/126/t50_126_detail_093.png',\n",
       "   'https://lush.co.kr/data/goods/13/10/15/126/t50_126_detail_180.png',\n",
       "   'https://lush.co.kr/data/goods/13/10/15/126/t50_126_detail_22.png'],\n",
       "  'color': '#',\n",
       "  'category': '러쉬 > 페이스 > 클렌저',\n",
       "  'salePrice': 22000,\n",
       "  'originalPrice': 22000,\n",
       "  'brand': 'lush',\n",
       "  'volume': '250g:￦+22,000'}]"
      ]
     },
     "metadata": {},
     "output_type": "display_data"
    },
    {
     "data": {
      "text/plain": [
       "[{'name': '로드 오브 미스룰',\n",
       "  'url': 'https://lush.co.kr/goods/goods_view.php?goodsNo=1000000114',\n",
       "  'image': ['https://lush.co.kr/data/goods/18/12/49/1000000114/t50_1000000114_detail_072.png',\n",
       "   'https://lush.co.kr/data/goods/18/12/49/1000000114/t50_1000000114_detail_194.png'],\n",
       "  'color': '#',\n",
       "  'category': '러쉬 > 프로모션 > 커뮤니티',\n",
       "  'salePrice': 45000,\n",
       "  'originalPrice': 45000,\n",
       "  'brand': 'lush',\n",
       "  'volume': '#'}]"
      ]
     },
     "metadata": {},
     "output_type": "display_data"
    },
    {
     "data": {
      "text/plain": [
       "[{'name': '벅스 피즈',\n",
       "  'url': 'https://lush.co.kr/goods/goods_view.php?goodsNo=481',\n",
       "  'image': ['https://lush.co.kr/data/goods/18/09/17/481/t50_481_detail_065.png',\n",
       "   'https://lush.co.kr/data/goods/18/09/17/481/t50_481_detail_146.png',\n",
       "   'https://lush.co.kr/data/goods/18/09/17/481/t50_481_detail_232.png'],\n",
       "  'color': '#',\n",
       "  'category': '러쉬',\n",
       "  'salePrice': 24000,\n",
       "  'originalPrice': 24000,\n",
       "  'brand': 'lush',\n",
       "  'volume': '100g'},\n",
       " {'name': '벅스 피즈',\n",
       "  'url': 'https://lush.co.kr/goods/goods_view.php?goodsNo=481',\n",
       "  'image': ['https://lush.co.kr/data/goods/18/09/17/481/t50_481_detail_065.png',\n",
       "   'https://lush.co.kr/data/goods/18/09/17/481/t50_481_detail_146.png',\n",
       "   'https://lush.co.kr/data/goods/18/09/17/481/t50_481_detail_232.png'],\n",
       "  'color': '#',\n",
       "  'category': '러쉬',\n",
       "  'salePrice': 24000,\n",
       "  'originalPrice': 24000,\n",
       "  'brand': 'lush',\n",
       "  'volume': '225g:￦+20,000'}]"
      ]
     },
     "metadata": {},
     "output_type": "display_data"
    },
    {
     "data": {
      "text/plain": [
       "[{'name': '더티 쉐이빙 크림',\n",
       "  'url': 'https://lush.co.kr/goods/goods_view.php?goodsNo=94',\n",
       "  'image': ['https://lush.co.kr/data/goods/11/08/19/94/t50_94_detail_097.png',\n",
       "   'https://lush.co.kr/data/goods/11/08/19/94/t50_94_detail_161.png',\n",
       "   'https://lush.co.kr/data/goods/11/08/19/94/t50_94_detail_267.png'],\n",
       "  'color': '#',\n",
       "  'category': '러쉬 > 보디',\n",
       "  'salePrice': 19000,\n",
       "  'originalPrice': 19000,\n",
       "  'brand': 'lush',\n",
       "  'volume': '100g'},\n",
       " {'name': '더티 쉐이빙 크림',\n",
       "  'url': 'https://lush.co.kr/goods/goods_view.php?goodsNo=94',\n",
       "  'image': ['https://lush.co.kr/data/goods/11/08/19/94/t50_94_detail_097.png',\n",
       "   'https://lush.co.kr/data/goods/11/08/19/94/t50_94_detail_161.png',\n",
       "   'https://lush.co.kr/data/goods/11/08/19/94/t50_94_detail_267.png'],\n",
       "  'color': '#',\n",
       "  'category': '러쉬 > 보디',\n",
       "  'salePrice': 19000,\n",
       "  'originalPrice': 19000,\n",
       "  'brand': 'lush',\n",
       "  'volume': '225g:￦+13,000'}]"
      ]
     },
     "metadata": {},
     "output_type": "display_data"
    },
    {
     "data": {
      "text/plain": [
       "[{'name': '드림 크림',\n",
       "  'url': 'https://lush.co.kr/goods/goods_view.php?goodsNo=19',\n",
       "  'image': ['https://lush.co.kr/data/goods/11/01/20/19/t50_19_detail_097.png',\n",
       "   'https://lush.co.kr/data/goods/11/01/20/19/t50_19_detail_128.png'],\n",
       "  'color': '#',\n",
       "  'category': '러쉬',\n",
       "  'salePrice': 42000,\n",
       "  'originalPrice': 42000,\n",
       "  'brand': 'lush',\n",
       "  'volume': '#'}]"
      ]
     },
     "metadata": {},
     "output_type": "display_data"
    },
    {
     "data": {
      "text/plain": [
       "[{'name': '핸디 구루구',\n",
       "  'url': 'https://lush.co.kr/goods/goods_view.php?goodsNo=84',\n",
       "  'image': ['https://lush.co.kr/data/goods/11/01/20/84/t50_84_detail_088.png',\n",
       "   'https://lush.co.kr/data/goods/11/01/20/84/t50_84_detail_164.png'],\n",
       "  'color': '#',\n",
       "  'category': '러쉬 > 보디 > 핸드 앤 풋',\n",
       "  'salePrice': 22000,\n",
       "  'originalPrice': 22000,\n",
       "  'brand': 'lush',\n",
       "  'volume': '#'}]"
      ]
     },
     "metadata": {},
     "output_type": "display_data"
    },
    {
     "data": {
      "text/plain": [
       "[{'name': '채러티 팟 45g',\n",
       "  'url': 'https://lush.co.kr/goods/goods_view.php?goodsNo=249',\n",
       "  'image': ['https://lush.co.kr/data/goods/17/08/18/249/t50_249_detail_078.png',\n",
       "   'https://lush.co.kr/data/goods/17/08/18/249/t50_249_detail_186.png'],\n",
       "  'color': '#',\n",
       "  'category': '러쉬 > 보디 > 로션',\n",
       "  'salePrice': 10000,\n",
       "  'originalPrice': 10000,\n",
       "  'brand': 'lush',\n",
       "  'volume': '#'}]"
      ]
     },
     "metadata": {},
     "output_type": "display_data"
    },
    {
     "data": {
      "text/plain": [
       "[{'name': '이치 피치',\n",
       "  'url': 'https://lush.co.kr/goods/goods_view.php?goodsNo=123',\n",
       "  'image': ['https://lush.co.kr/data/goods/13/08/29/123/t50_123_detail_041.png'],\n",
       "  'color': '#',\n",
       "  'category': '러쉬 > 보디 > 마사지 바',\n",
       "  'salePrice': 17000,\n",
       "  'originalPrice': 17000,\n",
       "  'brand': 'lush',\n",
       "  'volume': '#'}]"
      ]
     },
     "metadata": {},
     "output_type": "display_data"
    },
    {
     "data": {
      "text/plain": [
       "[{'name': '버피',\n",
       "  'url': 'https://lush.co.kr/goods/goods_view.php?goodsNo=30',\n",
       "  'image': ['https://lush.co.kr/data/goods/11/01/20/30/t50_30_detail_031.png',\n",
       "   'https://lush.co.kr/data/goods/11/01/20/30/t50_30_detail_141.png'],\n",
       "  'color': '#',\n",
       "  'category': '러쉬 > 보디',\n",
       "  'salePrice': 17000,\n",
       "  'originalPrice': 17000,\n",
       "  'brand': 'lush',\n",
       "  'volume': '90g'},\n",
       " {'name': '버피',\n",
       "  'url': 'https://lush.co.kr/goods/goods_view.php?goodsNo=30',\n",
       "  'image': ['https://lush.co.kr/data/goods/11/01/20/30/t50_30_detail_031.png',\n",
       "   'https://lush.co.kr/data/goods/11/01/20/30/t50_30_detail_141.png'],\n",
       "  'color': '#',\n",
       "  'category': '러쉬 > 보디',\n",
       "  'salePrice': 17000,\n",
       "  'originalPrice': 17000,\n",
       "  'brand': 'lush',\n",
       "  'volume': '200g:￦+7,000[품절]'}]"
      ]
     },
     "metadata": {},
     "output_type": "display_data"
    },
    {
     "data": {
      "text/plain": [
       "[{'name': '아보카도 노-워시',\n",
       "  'url': 'https://lush.co.kr/goods/goods_view.php?goodsNo=1000000112',\n",
       "  'image': ['https://lush.co.kr/data/goods/18/12/49/1000000112/t50_1000000112_detail_068.png',\n",
       "   'https://lush.co.kr/data/goods/18/12/49/1000000112/t50_1000000112_detail_191.png'],\n",
       "  'color': '#',\n",
       "  'category': '러쉬 > 프로모션 > 커뮤니티',\n",
       "  'salePrice': 42000,\n",
       "  'originalPrice': 42000,\n",
       "  'brand': 'lush',\n",
       "  'volume': '#'}]"
      ]
     },
     "metadata": {},
     "output_type": "display_data"
    },
    {
     "data": {
      "text/plain": [
       "[{'name': '버터볼',\n",
       "  'url': 'https://lush.co.kr/goods/goods_view.php?goodsNo=1000000108',\n",
       "  'image': ['https://lush.co.kr/data/goods/18/12/49/1000000108/t50_1000000108_detail_061.png',\n",
       "   'https://lush.co.kr/data/goods/18/12/49/1000000108/t50_1000000108_detail_166.png'],\n",
       "  'color': '#',\n",
       "  'category': '러쉬 > 프로모션 > 커뮤니티',\n",
       "  'salePrice': 40000,\n",
       "  'originalPrice': 40000,\n",
       "  'brand': 'lush',\n",
       "  'volume': '#'}]"
      ]
     },
     "metadata": {},
     "output_type": "display_data"
    },
    {
     "data": {
      "text/plain": [
       "[{'name': '프린스',\n",
       "  'url': 'https://lush.co.kr/goods/goods_view.php?goodsNo=83',\n",
       "  'image': ['https://lush.co.kr/data/goods/11/01/20/83/t50_83_detail_080.png',\n",
       "   'https://lush.co.kr/data/goods/11/01/20/83/t50_83_detail_12.png',\n",
       "   'https://lush.co.kr/data/goods/11/01/20/83/t50_83_detail_249.png'],\n",
       "  'color': '#',\n",
       "  'category': '러쉬 > 보디',\n",
       "  'salePrice': 19000,\n",
       "  'originalPrice': 19000,\n",
       "  'brand': 'lush',\n",
       "  'volume': '100g'},\n",
       " {'name': '프린스',\n",
       "  'url': 'https://lush.co.kr/goods/goods_view.php?goodsNo=83',\n",
       "  'image': ['https://lush.co.kr/data/goods/11/01/20/83/t50_83_detail_080.png',\n",
       "   'https://lush.co.kr/data/goods/11/01/20/83/t50_83_detail_12.png',\n",
       "   'https://lush.co.kr/data/goods/11/01/20/83/t50_83_detail_249.png'],\n",
       "  'color': '#',\n",
       "  'category': '러쉬 > 보디',\n",
       "  'salePrice': 19000,\n",
       "  'originalPrice': 19000,\n",
       "  'brand': 'lush',\n",
       "  'volume': '225g:￦+13,000'}]"
      ]
     },
     "metadata": {},
     "output_type": "display_data"
    },
    {
     "data": {
      "text/plain": [
       "[{'name': '텐더 이즈 더 나잇',\n",
       "  'url': 'https://lush.co.kr/goods/goods_view.php?goodsNo=111',\n",
       "  'image': ['https://lush.co.kr/data/goods/13/03/21/111/t50_111_detail_048.png'],\n",
       "  'color': '#',\n",
       "  'category': '러쉬 > 보디 > 마사지 바',\n",
       "  'salePrice': 22000,\n",
       "  'originalPrice': 22000,\n",
       "  'brand': 'lush',\n",
       "  'volume': '#'}]"
      ]
     },
     "metadata": {},
     "output_type": "display_data"
    },
    {
     "data": {
      "text/plain": [
       "[{'name': '아쿠아 마리나',\n",
       "  'url': 'https://lush.co.kr/goods/goods_view.php?goodsNo=61',\n",
       "  'image': ['https://lush.co.kr/data/goods/11/01/20/61/t50_61_detail_021.png',\n",
       "   'https://lush.co.kr/data/goods/11/01/20/61/t50_61_detail_138.png',\n",
       "   'https://lush.co.kr/data/goods/11/01/20/61/t50_61_detail_2100.png'],\n",
       "  'color': '#',\n",
       "  'category': '러쉬 > 페이스 > 클렌저',\n",
       "  'salePrice': 22000,\n",
       "  'originalPrice': 22000,\n",
       "  'brand': 'lush',\n",
       "  'volume': '100g'},\n",
       " {'name': '아쿠아 마리나',\n",
       "  'url': 'https://lush.co.kr/goods/goods_view.php?goodsNo=61',\n",
       "  'image': ['https://lush.co.kr/data/goods/11/01/20/61/t50_61_detail_021.png',\n",
       "   'https://lush.co.kr/data/goods/11/01/20/61/t50_61_detail_138.png',\n",
       "   'https://lush.co.kr/data/goods/11/01/20/61/t50_61_detail_2100.png'],\n",
       "  'color': '#',\n",
       "  'category': '러쉬 > 페이스 > 클렌저',\n",
       "  'salePrice': 22000,\n",
       "  'originalPrice': 22000,\n",
       "  'brand': 'lush',\n",
       "  'volume': '250g:￦+22,000'}]"
      ]
     },
     "metadata": {},
     "output_type": "display_data"
    },
    {
     "data": {
      "text/plain": [
       "[{'name': '노니 아이 워시드 더 키즈',\n",
       "  'url': 'https://lush.co.kr/goods/goods_view.php?goodsNo=1000000110',\n",
       "  'image': ['https://lush.co.kr/data/goods/18/12/49/1000000110/t50_1000000110_detail_075.png',\n",
       "   'https://lush.co.kr/data/goods/18/12/49/1000000110/t50_1000000110_detail_132.png'],\n",
       "  'color': '#',\n",
       "  'category': '러쉬 > 프로모션 > 커뮤니티',\n",
       "  'salePrice': 40000,\n",
       "  'originalPrice': 40000,\n",
       "  'brand': 'lush',\n",
       "  'volume': '#'}]"
      ]
     },
     "metadata": {},
     "output_type": "display_data"
    },
    {
     "data": {
      "text/plain": [
       "[{'name': '오션 솔트 셀프-프리저빙',\n",
       "  'url': 'https://lush.co.kr/goods/goods_view.php?goodsNo=153',\n",
       "  'image': ['https://lush.co.kr/data/goods/15/01/07/153/t50_153_detail_058.png',\n",
       "   'https://lush.co.kr/data/goods/15/01/07/153/t50_153_detail_112.png',\n",
       "   'https://lush.co.kr/data/goods/15/01/07/153/t50_153_detail_238.png'],\n",
       "  'color': '#',\n",
       "  'category': '러쉬 > 페이스 > 클렌저',\n",
       "  'salePrice': 27000,\n",
       "  'originalPrice': 27000,\n",
       "  'brand': 'lush',\n",
       "  'volume': '120g'},\n",
       " {'name': '오션 솔트 셀프-프리저빙',\n",
       "  'url': 'https://lush.co.kr/goods/goods_view.php?goodsNo=153',\n",
       "  'image': ['https://lush.co.kr/data/goods/15/01/07/153/t50_153_detail_058.png',\n",
       "   'https://lush.co.kr/data/goods/15/01/07/153/t50_153_detail_112.png',\n",
       "   'https://lush.co.kr/data/goods/15/01/07/153/t50_153_detail_238.png'],\n",
       "  'color': '#',\n",
       "  'category': '러쉬 > 페이스 > 클렌저',\n",
       "  'salePrice': 27000,\n",
       "  'originalPrice': 27000,\n",
       "  'brand': 'lush',\n",
       "  'volume': '250g:￦+25,000'}]"
      ]
     },
     "metadata": {},
     "output_type": "display_data"
    },
    {
     "data": {
      "text/plain": [
       "[{'name': '야미 마미',\n",
       "  'url': 'https://lush.co.kr/goods/goods_view.php?goodsNo=1000000111',\n",
       "  'image': ['https://lush.co.kr/data/goods/18/12/49/1000000111/t50_1000000111_detail_070.png',\n",
       "   'https://lush.co.kr/data/goods/18/12/49/1000000111/t50_1000000111_detail_12.png'],\n",
       "  'color': '#',\n",
       "  'category': '러쉬 > 프로모션 > 커뮤니티',\n",
       "  'salePrice': 40000,\n",
       "  'originalPrice': 40000,\n",
       "  'brand': 'lush',\n",
       "  'volume': '#'}]"
      ]
     },
     "metadata": {},
     "output_type": "display_data"
    },
    {
     "data": {
      "text/plain": [
       "[{'name': '테라피',\n",
       "  'url': 'https://lush.co.kr/goods/goods_view.php?goodsNo=125',\n",
       "  'image': ['https://lush.co.kr/data/goods/13/09/11/125/t50_125_detail_08.png'],\n",
       "  'color': '#',\n",
       "  'category': '러쉬 > 보디 > 마사지 바',\n",
       "  'salePrice': 19000,\n",
       "  'originalPrice': 19000,\n",
       "  'brand': 'lush',\n",
       "  'volume': '#'}]"
      ]
     },
     "metadata": {},
     "output_type": "display_data"
    },
    {
     "data": {
      "text/plain": [
       "[{'name': '위키 매직 머슬즈',\n",
       "  'url': 'https://lush.co.kr/goods/goods_view.php?goodsNo=124',\n",
       "  'image': ['https://lush.co.kr/data/goods/13/08/29/124/t50_124_detail_061.png'],\n",
       "  'color': '#',\n",
       "  'category': '러쉬 > 보디 > 마사지 바',\n",
       "  'salePrice': 19000,\n",
       "  'originalPrice': 19000,\n",
       "  'brand': 'lush',\n",
       "  'volume': '#'}]"
      ]
     },
     "metadata": {},
     "output_type": "display_data"
    },
    {
     "data": {
      "text/plain": [
       "[{'name': '헬핑 핸즈',\n",
       "  'url': 'https://lush.co.kr/goods/goods_view.php?goodsNo=86',\n",
       "  'image': ['https://lush.co.kr/data/goods/11/01/20/86/t50_86_detail_061.png',\n",
       "   'https://lush.co.kr/data/goods/11/01/20/86/t50_86_detail_145.png'],\n",
       "  'color': '#',\n",
       "  'category': '러쉬 > 보디 > 핸드 앤 풋',\n",
       "  'salePrice': 22000,\n",
       "  'originalPrice': 22000,\n",
       "  'brand': 'lush',\n",
       "  'volume': '#'}]"
      ]
     },
     "metadata": {},
     "output_type": "display_data"
    },
    {
     "data": {
      "text/plain": [
       "[{'name': '채러티 팟',\n",
       "  'url': 'https://lush.co.kr/goods/goods_view.php?goodsNo=492',\n",
       "  'image': ['https://lush.co.kr/data/goods/18/09/17/492/t50_492_detail_09.png'],\n",
       "  'color': '#',\n",
       "  'category': '러쉬 > 보디 > 로션',\n",
       "  'salePrice': 25000,\n",
       "  'originalPrice': 25000,\n",
       "  'brand': 'lush',\n",
       "  'volume': '#'}]"
      ]
     },
     "metadata": {},
     "output_type": "display_data"
    },
    {
     "data": {
      "text/plain": [
       "[{'name': '오션 솔트',\n",
       "  'url': 'https://lush.co.kr/goods/goods_view.php?goodsNo=65',\n",
       "  'image': ['https://lush.co.kr/data/goods/11/01/20/65/t50_65_detail_061.png',\n",
       "   'https://lush.co.kr/data/goods/11/01/20/65/t50_65_detail_116.png',\n",
       "   'https://lush.co.kr/data/goods/11/01/20/65/t50_65_detail_267.png'],\n",
       "  'color': '#',\n",
       "  'category': '러쉬 > 페이스 > 클렌저',\n",
       "  'salePrice': 27000,\n",
       "  'originalPrice': 27000,\n",
       "  'brand': 'lush',\n",
       "  'volume': '120g'},\n",
       " {'name': '오션 솔트',\n",
       "  'url': 'https://lush.co.kr/goods/goods_view.php?goodsNo=65',\n",
       "  'image': ['https://lush.co.kr/data/goods/11/01/20/65/t50_65_detail_061.png',\n",
       "   'https://lush.co.kr/data/goods/11/01/20/65/t50_65_detail_116.png',\n",
       "   'https://lush.co.kr/data/goods/11/01/20/65/t50_65_detail_267.png'],\n",
       "  'color': '#',\n",
       "  'category': '러쉬 > 페이스 > 클렌저',\n",
       "  'salePrice': 27000,\n",
       "  'originalPrice': 27000,\n",
       "  'brand': 'lush',\n",
       "  'volume': '250g:￦+25,000'}]"
      ]
     },
     "metadata": {},
     "output_type": "display_data"
    },
    {
     "data": {
      "text/plain": [
       "[{'name': '펄',\n",
       "  'url': 'https://lush.co.kr/goods/goods_view.php?goodsNo=160',\n",
       "  'image': ['https://lush.co.kr/data/goods/15/02/13/160/t50_160_detail_048.png'],\n",
       "  'color': '#',\n",
       "  'category': '러쉬 > 보디 > 마사지 바',\n",
       "  'salePrice': 18000,\n",
       "  'originalPrice': 18000,\n",
       "  'brand': 'lush',\n",
       "  'volume': '#'}]"
      ]
     },
     "metadata": {},
     "output_type": "display_data"
    },
    {
     "data": {
      "text/plain": [
       "[{'name': \"디'플러프\",\n",
       "  'url': 'https://lush.co.kr/goods/goods_view.php?goodsNo=145',\n",
       "  'image': ['https://lush.co.kr/data/goods/14/10/17/145/t50_145_detail_011.png',\n",
       "   'https://lush.co.kr/data/goods/14/10/17/145/t50_145_detail_164.png',\n",
       "   'https://lush.co.kr/data/goods/14/10/17/145/t50_145_detail_297.png'],\n",
       "  'color': '#',\n",
       "  'category': '러쉬 > 페이스 > 쉐이빙 크림',\n",
       "  'salePrice': 19000,\n",
       "  'originalPrice': 19000,\n",
       "  'brand': 'lush',\n",
       "  'volume': '70g'},\n",
       " {'name': \"디'플러프\",\n",
       "  'url': 'https://lush.co.kr/goods/goods_view.php?goodsNo=145',\n",
       "  'image': ['https://lush.co.kr/data/goods/14/10/17/145/t50_145_detail_011.png',\n",
       "   'https://lush.co.kr/data/goods/14/10/17/145/t50_145_detail_164.png',\n",
       "   'https://lush.co.kr/data/goods/14/10/17/145/t50_145_detail_297.png'],\n",
       "  'color': '#',\n",
       "  'category': '러쉬 > 페이스 > 쉐이빙 크림',\n",
       "  'salePrice': 19000,\n",
       "  'originalPrice': 19000,\n",
       "  'brand': 'lush',\n",
       "  'volume': '150g:￦+13,000'}]"
      ]
     },
     "metadata": {},
     "output_type": "display_data"
    },
    {
     "data": {
      "text/plain": [
       "[{'name': '스크러비',\n",
       "  'url': 'https://lush.co.kr/goods/goods_view.php?goodsNo=232',\n",
       "  'image': ['https://lush.co.kr/data/goods/17/05/10/232/t50_232_detail_028.png'],\n",
       "  'color': '#',\n",
       "  'category': '러쉬 > 보디',\n",
       "  'salePrice': 17000,\n",
       "  'originalPrice': 17000,\n",
       "  'brand': 'lush',\n",
       "  'volume': '#'}]"
      ]
     },
     "metadata": {},
     "output_type": "display_data"
    },
    {
     "data": {
      "text/plain": [
       "[{'name': '드림 크림 셀프-프리저빙',\n",
       "  'url': 'https://lush.co.kr/goods/goods_view.php?goodsNo=152',\n",
       "  'image': ['https://lush.co.kr/data/goods/15/01/07/152/t50_152_detail_090.png',\n",
       "   'https://lush.co.kr/data/goods/15/01/07/152/t50_152_detail_199.png'],\n",
       "  'color': '#',\n",
       "  'category': '러쉬 > 보디 > 로션',\n",
       "  'salePrice': 42000,\n",
       "  'originalPrice': 42000,\n",
       "  'brand': 'lush',\n",
       "  'volume': '#'}]"
      ]
     },
     "metadata": {},
     "output_type": "display_data"
    },
    {
     "data": {
      "text/plain": [
       "[{'name': '킹 오브 스킨',\n",
       "  'url': 'https://lush.co.kr/goods/goods_view.php?goodsNo=81',\n",
       "  'image': ['https://lush.co.kr/data/goods/11/01/20/81/t50_81_detail_072.png'],\n",
       "  'color': '#',\n",
       "  'category': '러쉬 > 보디',\n",
       "  'salePrice': 19000,\n",
       "  'originalPrice': 19000,\n",
       "  'brand': 'lush',\n",
       "  'volume': '#'}]"
      ]
     },
     "metadata": {},
     "output_type": "display_data"
    },
    {
     "data": {
      "text/plain": [
       "[{'name': '홀리 베리',\n",
       "  'url': 'https://lush.co.kr/goods/goods_view.php?goodsNo=480',\n",
       "  'image': ['https://lush.co.kr/data/goods/18/09/17/480/t50_480_detail_033.png'],\n",
       "  'color': '#',\n",
       "  'category': '러쉬',\n",
       "  'salePrice': 22000,\n",
       "  'originalPrice': 22000,\n",
       "  'brand': 'lush',\n",
       "  'volume': '#'}]"
      ]
     },
     "metadata": {},
     "output_type": "display_data"
    },
    {
     "data": {
      "text/plain": [
       "[{'name': '요그 노그',\n",
       "  'url': 'https://lush.co.kr/goods/goods_view.php?goodsNo=1000000107',\n",
       "  'image': ['https://lush.co.kr/data/goods/18/12/49/1000000107/t50_1000000107_detail_088.png',\n",
       "   'https://lush.co.kr/data/goods/18/12/49/1000000107/t50_1000000107_detail_184.png'],\n",
       "  'color': '#',\n",
       "  'category': '러쉬 > 프로모션 > 커뮤니티',\n",
       "  'salePrice': 40000,\n",
       "  'originalPrice': 40000,\n",
       "  'brand': 'lush',\n",
       "  'volume': '#'}]"
      ]
     },
     "metadata": {},
     "output_type": "display_data"
    },
    {
     "data": {
      "text/plain": [
       "[{'name': '핫티',\n",
       "  'url': 'https://lush.co.kr/goods/goods_view.php?goodsNo=122',\n",
       "  'image': ['https://lush.co.kr/data/goods/13/08/29/122/t50_122_detail_079.png'],\n",
       "  'color': '#',\n",
       "  'category': '러쉬 > 보디 > 마사지 바',\n",
       "  'salePrice': 18000,\n",
       "  'originalPrice': 18000,\n",
       "  'brand': 'lush',\n",
       "  'volume': '#'}]"
      ]
     },
     "metadata": {},
     "output_type": "display_data"
    },
    {
     "data": {
      "text/plain": [
       "[{'name': '채러티 팟 240g',\n",
       "  'url': 'https://lush.co.kr/goods/goods_view.php?goodsNo=119',\n",
       "  'image': ['https://lush.co.kr/data/goods/13/07/17/119/t50_119_detail_046.png',\n",
       "   'https://lush.co.kr/data/goods/13/07/17/119/t50_119_detail_143.png'],\n",
       "  'color': '#',\n",
       "  'category': '러쉬 > 보디 > 로션',\n",
       "  'salePrice': 45000,\n",
       "  'originalPrice': 45000,\n",
       "  'brand': 'lush',\n",
       "  'volume': '#'}]"
      ]
     },
     "metadata": {},
     "output_type": "display_data"
    },
    {
     "data": {
      "text/plain": [
       "[{'name': '다크 엔젤스',\n",
       "  'url': 'https://lush.co.kr/goods/goods_view.php?goodsNo=14',\n",
       "  'image': ['https://lush.co.kr/data/goods/11/01/20/14/t50_14_detail_093.png',\n",
       "   'https://lush.co.kr/data/goods/11/01/20/14/t50_14_detail_190.png',\n",
       "   'https://lush.co.kr/data/goods/11/01/20/14/t50_14_detail_247.png'],\n",
       "  'color': '#',\n",
       "  'category': '러쉬 > 페이스 > 클렌저',\n",
       "  'salePrice': 22000,\n",
       "  'originalPrice': 22000,\n",
       "  'brand': 'lush',\n",
       "  'volume': '100g[품절]'},\n",
       " {'name': '다크 엔젤스',\n",
       "  'url': 'https://lush.co.kr/goods/goods_view.php?goodsNo=14',\n",
       "  'image': ['https://lush.co.kr/data/goods/11/01/20/14/t50_14_detail_093.png',\n",
       "   'https://lush.co.kr/data/goods/11/01/20/14/t50_14_detail_190.png',\n",
       "   'https://lush.co.kr/data/goods/11/01/20/14/t50_14_detail_247.png'],\n",
       "  'color': '#',\n",
       "  'category': '러쉬 > 페이스 > 클렌저',\n",
       "  'salePrice': 22000,\n",
       "  'originalPrice': 22000,\n",
       "  'brand': 'lush',\n",
       "  'volume': '250g:￦+22,000'}]"
      ]
     },
     "metadata": {},
     "output_type": "display_data"
    },
    {
     "data": {
      "text/plain": [
       "[{'name': '심파시 포 더 스킨',\n",
       "  'url': 'https://lush.co.kr/goods/goods_view.php?goodsNo=51',\n",
       "  'image': ['https://lush.co.kr/data/goods/11/01/20/51/t50_51_detail_084.png',\n",
       "   'https://lush.co.kr/data/goods/11/01/20/51/t50_51_detail_128.png'],\n",
       "  'color': '#',\n",
       "  'category': '러쉬 > 보디 > 로션',\n",
       "  'salePrice': 40000,\n",
       "  'originalPrice': 40000,\n",
       "  'brand': 'lush',\n",
       "  'volume': '#'}]"
      ]
     },
     "metadata": {},
     "output_type": "display_data"
    },
    {
     "data": {
      "text/plain": [
       "[{'name': '크리스팅글',\n",
       "  'url': 'https://lush.co.kr/goods/goods_view.php?goodsNo=482',\n",
       "  'image': ['https://lush.co.kr/data/goods/18/09/17/482/t50_482_detail_091.png',\n",
       "   'https://lush.co.kr/data/goods/18/09/17/482/t50_482_detail_178.png',\n",
       "   'https://lush.co.kr/data/goods/18/09/17/482/t50_482_detail_252.png'],\n",
       "  'color': '#',\n",
       "  'category': '러쉬',\n",
       "  'salePrice': 31000,\n",
       "  'originalPrice': 31000,\n",
       "  'brand': 'lush',\n",
       "  'volume': '100g'},\n",
       " {'name': '크리스팅글',\n",
       "  'url': 'https://lush.co.kr/goods/goods_view.php?goodsNo=482',\n",
       "  'image': ['https://lush.co.kr/data/goods/18/09/17/482/t50_482_detail_091.png',\n",
       "   'https://lush.co.kr/data/goods/18/09/17/482/t50_482_detail_178.png',\n",
       "   'https://lush.co.kr/data/goods/18/09/17/482/t50_482_detail_252.png'],\n",
       "  'color': '#',\n",
       "  'category': '러쉬',\n",
       "  'salePrice': 31000,\n",
       "  'originalPrice': 31000,\n",
       "  'brand': 'lush',\n",
       "  'volume': '225g:￦+27,000'}]"
      ]
     },
     "metadata": {},
     "output_type": "display_data"
    },
    {
     "data": {
      "text/plain": [
       "[{'name': '스노우 페어리',\n",
       "  'url': 'https://lush.co.kr/goods/goods_view.php?goodsNo=484',\n",
       "  'image': ['https://lush.co.kr/data/goods/18/09/17/484/t50_484_detail_011.png',\n",
       "   'https://lush.co.kr/data/goods/18/09/17/484/t50_484_detail_150.png',\n",
       "   'https://lush.co.kr/data/goods/18/09/17/484/t50_484_detail_210.png'],\n",
       "  'color': '#',\n",
       "  'category': '러쉬',\n",
       "  'salePrice': 22000,\n",
       "  'originalPrice': 22000,\n",
       "  'brand': 'lush',\n",
       "  'volume': '100g[품절]'},\n",
       " {'name': '스노우 페어리',\n",
       "  'url': 'https://lush.co.kr/goods/goods_view.php?goodsNo=484',\n",
       "  'image': ['https://lush.co.kr/data/goods/18/09/17/484/t50_484_detail_011.png',\n",
       "   'https://lush.co.kr/data/goods/18/09/17/484/t50_484_detail_150.png',\n",
       "   'https://lush.co.kr/data/goods/18/09/17/484/t50_484_detail_210.png'],\n",
       "  'color': '#',\n",
       "  'category': '러쉬',\n",
       "  'salePrice': 22000,\n",
       "  'originalPrice': 22000,\n",
       "  'brand': 'lush',\n",
       "  'volume': '225g:￦+18,000'}]"
      ]
     },
     "metadata": {},
     "output_type": "display_data"
    },
    {
     "data": {
      "text/plain": [
       "[{'name': '소프티 100g',\n",
       "  'url': 'https://lush.co.kr/goods/goods_view.php?goodsNo=226',\n",
       "  'image': ['https://lush.co.kr/data/goods/17/03/21/226/t50_226_detail_041.png',\n",
       "   'https://lush.co.kr/data/goods/17/03/21/226/t50_226_detail_126.png'],\n",
       "  'color': '#',\n",
       "  'category': '러쉬 > 보디 > 핸드 앤 풋',\n",
       "  'salePrice': 21000,\n",
       "  'originalPrice': 21000,\n",
       "  'brand': 'lush',\n",
       "  'volume': '#'}]"
      ]
     },
     "metadata": {},
     "output_type": "display_data"
    },
    {
     "data": {
      "text/plain": [
       "[{'name': '풋 속 앤 팬시 프리',\n",
       "  'url': 'https://lush.co.kr/goods/goods_view.php?goodsNo=227',\n",
       "  'image': ['https://lush.co.kr/data/goods/17/03/21/227/t50_227_detail_033.png'],\n",
       "  'color': '#',\n",
       "  'category': '러쉬 > 보디 > 핸드 앤 풋',\n",
       "  'salePrice': 12000,\n",
       "  'originalPrice': 12000,\n",
       "  'brand': 'lush',\n",
       "  'volume': '#'}]"
      ]
     },
     "metadata": {},
     "output_type": "display_data"
    },
    {
     "data": {
      "text/plain": [
       "[{'name': '실키 언더웨어',\n",
       "  'url': 'https://lush.co.kr/goods/goods_view.php?goodsNo=99',\n",
       "  'image': ['https://lush.co.kr/data/goods/12/07/12/99/t50_99_detail_045.png',\n",
       "   'https://lush.co.kr/data/goods/12/07/12/99/t50_99_detail_158.png'],\n",
       "  'color': '#',\n",
       "  'category': '러쉬 > 보디 > 더스팅 파우더',\n",
       "  'salePrice': 15000,\n",
       "  'originalPrice': 15000,\n",
       "  'brand': 'lush',\n",
       "  'volume': '#'}]"
      ]
     },
     "metadata": {},
     "output_type": "display_data"
    },
    {
     "data": {
      "text/plain": [
       "[{'name': '쉼미 쉼미',\n",
       "  'url': 'https://lush.co.kr/goods/goods_view.php?goodsNo=45',\n",
       "  'image': ['https://lush.co.kr/data/goods/11/01/20/45/t50_45_detail_065.png'],\n",
       "  'color': '#',\n",
       "  'category': '러쉬',\n",
       "  'salePrice': 13000,\n",
       "  'originalPrice': 13000,\n",
       "  'brand': 'lush',\n",
       "  'volume': '#'}]"
      ]
     },
     "metadata": {},
     "output_type": "display_data"
    },
    {
     "data": {
      "text/plain": [
       "[{'name': '진저브레드',\n",
       "  'url': 'https://lush.co.kr/goods/goods_view.php?goodsNo=488',\n",
       "  'image': ['https://lush.co.kr/data/goods/18/09/17/488/t50_488_detail_076.png'],\n",
       "  'color': '#',\n",
       "  'category': '러쉬',\n",
       "  'salePrice': 20000,\n",
       "  'originalPrice': 20000,\n",
       "  'brand': 'lush',\n",
       "  'volume': '#'}]"
      ]
     },
     "metadata": {},
     "output_type": "display_data"
    },
    {
     "data": {
      "text/plain": [
       "[{'name': '로즈 아르간 스파클',\n",
       "  'url': 'https://lush.co.kr/goods/goods_view.php?goodsNo=486',\n",
       "  'image': ['https://lush.co.kr/data/goods/18/09/17/486/t50_486_detail_058.png'],\n",
       "  'color': '#',\n",
       "  'category': '러쉬',\n",
       "  'salePrice': 30000,\n",
       "  'originalPrice': 30000,\n",
       "  'brand': 'lush',\n",
       "  'volume': '#'}]"
      ]
     },
     "metadata": {},
     "output_type": "display_data"
    },
    {
     "data": {
      "text/plain": [
       "[{'name': '티 포 토즈',\n",
       "  'url': 'https://lush.co.kr/goods/goods_view.php?goodsNo=98',\n",
       "  'image': ['https://lush.co.kr/data/goods/12/07/12/98/t50_98_detail_066.png',\n",
       "   'https://lush.co.kr/data/goods/12/07/12/98/t50_98_detail_141.png'],\n",
       "  'color': '#',\n",
       "  'category': '러쉬 > 보디 > 더스팅 파우더',\n",
       "  'salePrice': 15000,\n",
       "  'originalPrice': 15000,\n",
       "  'brand': 'lush',\n",
       "  'volume': '#'}]"
      ]
     },
     "metadata": {},
     "output_type": "display_data"
    },
    {
     "data": {
      "text/plain": [
       "[{'name': '트와일라잇',\n",
       "  'url': 'https://lush.co.kr/goods/goods_view.php?goodsNo=489',\n",
       "  'image': ['https://lush.co.kr/data/goods/18/09/17/489/t50_489_detail_04.png'],\n",
       "  'color': '#',\n",
       "  'category': '러쉬',\n",
       "  'salePrice': 20000,\n",
       "  'originalPrice': 20000,\n",
       "  'brand': 'lush',\n",
       "  'volume': '#'}]"
      ]
     },
     "metadata": {},
     "output_type": "display_data"
    },
    {
     "data": {
      "text/plain": [
       "[{'name': '솔티드 코코넛',\n",
       "  'url': 'https://lush.co.kr/goods/goods_view.php?goodsNo=185',\n",
       "  'image': ['https://lush.co.kr/data/goods/16/04/04/185/t50_185_detail_031.png',\n",
       "   'https://lush.co.kr/data/goods/16/04/04/185/t50_185_detail_190.png',\n",
       "   'https://lush.co.kr/data/goods/16/04/04/185/t50_185_detail_212.png'],\n",
       "  'color': '#',\n",
       "  'category': '러쉬 > 보디 > 핸드 앤 풋',\n",
       "  'salePrice': 19000,\n",
       "  'originalPrice': 19000,\n",
       "  'brand': 'lush',\n",
       "  'volume': '100g'},\n",
       " {'name': '솔티드 코코넛',\n",
       "  'url': 'https://lush.co.kr/goods/goods_view.php?goodsNo=185',\n",
       "  'image': ['https://lush.co.kr/data/goods/16/04/04/185/t50_185_detail_031.png',\n",
       "   'https://lush.co.kr/data/goods/16/04/04/185/t50_185_detail_190.png',\n",
       "   'https://lush.co.kr/data/goods/16/04/04/185/t50_185_detail_212.png'],\n",
       "  'color': '#',\n",
       "  'category': '러쉬 > 보디 > 핸드 앤 풋',\n",
       "  'salePrice': 19000,\n",
       "  'originalPrice': 19000,\n",
       "  'brand': 'lush',\n",
       "  'volume': '250g:￦+19,000'}]"
      ]
     },
     "metadata": {},
     "output_type": "display_data"
    },
    {
     "data": {
      "text/plain": [
       "[{'name': '울트라밤',\n",
       "  'url': 'https://lush.co.kr/goods/goods_view.php?goodsNo=68',\n",
       "  'image': ['https://lush.co.kr/data/goods/11/01/20/68/t50_68_detail_021.png',\n",
       "   'https://lush.co.kr/data/goods/11/01/20/68/t50_68_detail_193.png'],\n",
       "  'color': '#',\n",
       "  'category': '러쉬 > 보디 > 로션',\n",
       "  'salePrice': 25000,\n",
       "  'originalPrice': 25000,\n",
       "  'brand': 'lush',\n",
       "  'volume': '#'}]"
      ]
     },
     "metadata": {},
     "output_type": "display_data"
    },
    {
     "data": {
      "text/plain": [
       "[{'name': '크리스팅글',\n",
       "  'url': 'https://lush.co.kr/goods/goods_view.php?goodsNo=552',\n",
       "  'image': ['https://lush.co.kr/data/goods/18/09/19/552/t50_552_detail_09.png'],\n",
       "  'color': '#',\n",
       "  'category': '러쉬',\n",
       "  'salePrice': 28000,\n",
       "  'originalPrice': 28000,\n",
       "  'brand': 'lush',\n",
       "  'volume': '#'}]"
      ]
     },
     "metadata": {},
     "output_type": "display_data"
    },
    {
     "data": {
      "text/plain": [
       "[{'name': '스노우 페어리',\n",
       "  'url': 'https://lush.co.kr/goods/goods_view.php?goodsNo=551',\n",
       "  'image': ['https://lush.co.kr/data/goods/18/09/19/551/t50_551_detail_089.png'],\n",
       "  'color': '#',\n",
       "  'category': '러쉬',\n",
       "  'salePrice': 20000,\n",
       "  'originalPrice': 20000,\n",
       "  'brand': 'lush',\n",
       "  'volume': '#'}]"
      ]
     },
     "metadata": {},
     "output_type": "display_data"
    },
    {
     "data": {
      "text/plain": [
       "[{'name': '더 빅 바나나',\n",
       "  'url': 'https://lush.co.kr/goods/goods_view.php?goodsNo=1000000164',\n",
       "  'image': ['https://lush.co.kr/data/goods/19/01/04/1000000164/t50_1000000164_detail_065.png'],\n",
       "  'color': '#',\n",
       "  'category': '러쉬 > 프로모션 > 발렌타인',\n",
       "  'salePrice': 19000,\n",
       "  'originalPrice': 19000,\n",
       "  'brand': 'lush',\n",
       "  'volume': '#'}]"
      ]
     },
     "metadata": {},
     "output_type": "display_data"
    },
    {
     "data": {
      "text/plain": [
       "[{'name': '소프트 쿠르',\n",
       "  'url': 'https://lush.co.kr/goods/goods_view.php?goodsNo=43',\n",
       "  'image': ['https://lush.co.kr/data/goods/11/01/20/43/t50_43_detail_068.png'],\n",
       "  'color': '#',\n",
       "  'category': '러쉬 > 보디 > 마사지 바',\n",
       "  'salePrice': 12000,\n",
       "  'originalPrice': 12000,\n",
       "  'brand': 'lush',\n",
       "  'volume': '#'}]"
      ]
     },
     "metadata": {},
     "output_type": "display_data"
    },
    {
     "data": {
      "text/plain": [
       "[{'name': '럼프',\n",
       "  'url': 'https://lush.co.kr/goods/goods_view.php?goodsNo=350',\n",
       "  'image': ['https://lush.co.kr/data/goods/17/11/29/350/t50_350_detail_045.png',\n",
       "   'https://lush.co.kr/data/goods/17/11/29/350/t50_350_detail_129.png'],\n",
       "  'color': '#',\n",
       "  'category': '러쉬 > 보디 > 로션',\n",
       "  'salePrice': 46000,\n",
       "  'originalPrice': 46000,\n",
       "  'brand': 'lush',\n",
       "  'volume': '#'}]"
      ]
     },
     "metadata": {},
     "output_type": "display_data"
    },
    {
     "data": {
      "text/plain": [
       "[{'name': '핑크 페퍼민트',\n",
       "  'url': 'https://lush.co.kr/goods/goods_view.php?goodsNo=170',\n",
       "  'image': ['https://lush.co.kr/data/goods/16/01/28/170/t50_170_detail_053.png',\n",
       "   'https://lush.co.kr/data/goods/16/01/28/170/t50_170_detail_156.png'],\n",
       "  'color': '#',\n",
       "  'category': '러쉬 > 보디 > 핸드 앤 풋',\n",
       "  'salePrice': 43000,\n",
       "  'originalPrice': 43000,\n",
       "  'brand': 'lush',\n",
       "  'volume': '#'}]"
      ]
     },
     "metadata": {},
     "output_type": "display_data"
    },
    {
     "data": {
      "text/plain": [
       "[{'name': '벅스 피즈',\n",
       "  'url': 'https://lush.co.kr/goods/goods_view.php?goodsNo=553',\n",
       "  'image': ['https://lush.co.kr/data/goods/18/09/19/553/t50_553_detail_016.png'],\n",
       "  'color': '#',\n",
       "  'category': '러쉬',\n",
       "  'salePrice': 25000,\n",
       "  'originalPrice': 25000,\n",
       "  'brand': 'lush',\n",
       "  'volume': '#'}]"
      ]
     },
     "metadata": {},
     "output_type": "display_data"
    },
    {
     "data": {
      "text/plain": [
       "[{'name': '아메리칸 파이',\n",
       "  'url': 'https://lush.co.kr/goods/goods_view.php?goodsNo=1000000162',\n",
       "  'image': ['https://lush.co.kr/data/goods/19/01/04/1000000162/t50_1000000162_detail_03.png'],\n",
       "  'color': '#',\n",
       "  'category': '러쉬 > 프로모션 > 발렌타인',\n",
       "  'salePrice': 30000,\n",
       "  'originalPrice': 30000,\n",
       "  'brand': 'lush',\n",
       "  'volume': '#'}]"
      ]
     },
     "metadata": {},
     "output_type": "display_data"
    },
    {
     "data": {
      "text/plain": [
       "[{'name': '러브 앤 라이트 90g',\n",
       "  'url': 'https://lush.co.kr/goods/goods_view.php?goodsNo=184',\n",
       "  'image': ['https://lush.co.kr/data/goods/16/04/04/184/t50_184_detail_064.png',\n",
       "   'https://lush.co.kr/data/goods/16/04/04/184/t50_184_detail_129.png'],\n",
       "  'color': '#',\n",
       "  'category': '러쉬 > 보디 > 핸드 앤 풋',\n",
       "  'salePrice': 31000,\n",
       "  'originalPrice': 31000,\n",
       "  'brand': 'lush',\n",
       "  'volume': '#'}]"
      ]
     },
     "metadata": {},
     "output_type": "display_data"
    },
    {
     "data": {
      "text/plain": [
       "[{'name': '엘보우 그리스',\n",
       "  'url': 'https://lush.co.kr/goods/goods_view.php?goodsNo=176',\n",
       "  'image': ['https://lush.co.kr/data/goods/16/03/18/176/t50_176_detail_018.png',\n",
       "   'https://lush.co.kr/data/goods/16/03/18/176/t50_176_detail_192.png'],\n",
       "  'color': '#',\n",
       "  'category': '러쉬 > 보디 > 핸드 앤 풋',\n",
       "  'salePrice': 22000,\n",
       "  'originalPrice': 22000,\n",
       "  'brand': 'lush',\n",
       "  'volume': '#'}]"
      ]
     },
     "metadata": {},
     "output_type": "display_data"
    },
    {
     "data": {
      "text/plain": [
       "[{'name': '골든 핸드쉐이크',\n",
       "  'url': 'https://lush.co.kr/goods/goods_view.php?goodsNo=198',\n",
       "  'image': ['https://lush.co.kr/data/goods/16/05/09/198/t50_198_detail_095.png'],\n",
       "  'color': '#',\n",
       "  'category': '러쉬 > 보디 > 핸드 앤 풋',\n",
       "  'salePrice': 9000,\n",
       "  'originalPrice': 9000,\n",
       "  'brand': 'lush',\n",
       "  'volume': '#'}]"
      ]
     },
     "metadata": {},
     "output_type": "display_data"
    },
    {
     "data": {
      "text/plain": [
       "[{'name': '블랙 스타킹스',\n",
       "  'url': 'https://lush.co.kr/goods/goods_view.php?goodsNo=147',\n",
       "  'image': ['https://lush.co.kr/data/goods/14/12/01/147/t50_147_detail_019.png'],\n",
       "  'color': '#',\n",
       "  'category': '러쉬 > 보디 > 마사지 바',\n",
       "  'salePrice': 13000,\n",
       "  'originalPrice': 13000,\n",
       "  'brand': 'lush',\n",
       "  'volume': '#'}]"
      ]
     },
     "metadata": {},
     "output_type": "display_data"
    },
    {
     "data": {
      "text/plain": [
       "[{'name': '빅',\n",
       "  'url': 'https://lush.co.kr/goods/goods_view.php?goodsNo=1000000089',\n",
       "  'image': ['https://lush.co.kr/data/goods/18/12/49/1000000089/t50_1000000089_detail_028.png',\n",
       "   'https://lush.co.kr/data/goods/18/12/49/1000000089/t50_1000000089_detail_183.png'],\n",
       "  'color': '#',\n",
       "  'category': '러쉬 > 보디 > 보디 스프레이',\n",
       "  'salePrice': 60000,\n",
       "  'originalPrice': 60000,\n",
       "  'brand': 'lush',\n",
       "  'volume': '#'}]"
      ]
     },
     "metadata": {},
     "output_type": "display_data"
    },
    {
     "data": {
      "text/plain": [
       "[{'name': '스노우 페어리',\n",
       "  'url': 'https://lush.co.kr/goods/goods_view.php?goodsNo=487',\n",
       "  'image': ['https://lush.co.kr/data/goods/18/09/17/487/t50_487_detail_098.png',\n",
       "   'https://lush.co.kr/data/goods/18/09/17/487/t50_487_detail_171.png'],\n",
       "  'color': '#',\n",
       "  'category': '러쉬 > 보디 > 보디 스프레이',\n",
       "  'salePrice': 55000,\n",
       "  'originalPrice': 55000,\n",
       "  'brand': 'lush',\n",
       "  'volume': '#'}]"
      ]
     },
     "metadata": {},
     "output_type": "display_data"
    },
    {
     "data": {
      "text/plain": [
       "[{'name': '퍼미스 파워',\n",
       "  'url': 'https://lush.co.kr/goods/goods_view.php?goodsNo=186',\n",
       "  'image': ['https://lush.co.kr/data/goods/16/04/04/186/t50_186_detail_029.png'],\n",
       "  'color': '#',\n",
       "  'category': '러쉬 > 보디 > 핸드 앤 풋',\n",
       "  'salePrice': 9000,\n",
       "  'originalPrice': 9000,\n",
       "  'brand': 'lush',\n",
       "  'volume': '#'}]"
      ]
     },
     "metadata": {},
     "output_type": "display_data"
    },
    {
     "data": {
      "text/plain": [
       "[{'name': '스노우 페어리',\n",
       "  'url': 'https://lush.co.kr/goods/goods_view.php?goodsNo=559',\n",
       "  'image': ['https://lush.co.kr/data/goods/18/09/20/559/t50_559_detail_026.png'],\n",
       "  'color': '#',\n",
       "  'category': '러쉬',\n",
       "  'salePrice': 21000,\n",
       "  'originalPrice': 21000,\n",
       "  'brand': 'lush',\n",
       "  'volume': '#'}]"
      ]
     },
     "metadata": {},
     "output_type": "display_data"
    },
    {
     "data": {
      "text/plain": [
       "[{'name': '원스 어폰 어 타임',\n",
       "  'url': 'https://lush.co.kr/goods/goods_view.php?goodsNo=493',\n",
       "  'image': ['https://lush.co.kr/data/goods/18/09/17/493/t50_493_detail_026.png'],\n",
       "  'color': '#',\n",
       "  'category': '러쉬',\n",
       "  'salePrice': 25000,\n",
       "  'originalPrice': 25000,\n",
       "  'brand': 'lush',\n",
       "  'volume': '#'}]"
      ]
     },
     "metadata": {},
     "output_type": "display_data"
    },
    {
     "data": {
      "text/plain": [
       "[{'name': '레모니 플러터',\n",
       "  'url': 'https://lush.co.kr/goods/goods_view.php?goodsNo=20',\n",
       "  'image': ['https://lush.co.kr/data/goods/11/01/20/20/t50_20_detail_024.png',\n",
       "   'https://lush.co.kr/data/goods/11/01/20/20/t50_20_detail_14.png'],\n",
       "  'color': '#',\n",
       "  'category': '러쉬 > 보디 > 핸드 앤 풋',\n",
       "  'salePrice': 19000,\n",
       "  'originalPrice': 19000,\n",
       "  'brand': 'lush',\n",
       "  'volume': '#'}]"
      ]
     },
     "metadata": {},
     "output_type": "display_data"
    },
    {
     "data": {
      "text/plain": [
       "[{'name': '볼케이노',\n",
       "  'url': 'https://lush.co.kr/goods/goods_view.php?goodsNo=127',\n",
       "  'image': ['https://lush.co.kr/data/goods/13/11/20/127/t50_127_detail_067.png',\n",
       "   'https://lush.co.kr/data/goods/13/11/20/127/t50_127_detail_166.png'],\n",
       "  'color': '#',\n",
       "  'category': '러쉬 > 보디 > 핸드 앤 풋',\n",
       "  'salePrice': 18000,\n",
       "  'originalPrice': 18000,\n",
       "  'brand': 'lush',\n",
       "  'volume': '#'}]"
      ]
     },
     "metadata": {},
     "output_type": "display_data"
    },
    {
     "data": {
      "text/plain": [
       "[{'name': '페어리 더스트',\n",
       "  'url': 'https://lush.co.kr/goods/goods_view.php?goodsNo=478',\n",
       "  'image': ['https://lush.co.kr/data/goods/18/09/14/478/t50_478_detail_046.png',\n",
       "   'https://lush.co.kr/data/goods/18/09/14/478/t50_478_detail_187.png'],\n",
       "  'color': '#',\n",
       "  'category': '러쉬',\n",
       "  'salePrice': 20000,\n",
       "  'originalPrice': 20000,\n",
       "  'brand': 'lush',\n",
       "  'volume': '#'}]"
      ]
     },
     "metadata": {},
     "output_type": "display_data"
    },
    {
     "data": {
      "text/plain": [
       "[{'name': '마스크 오브 매그너민티',\n",
       "  'url': 'https://lush.co.kr/goods/goods_view.php?goodsNo=97',\n",
       "  'image': ['https://lush.co.kr/data/goods/12/03/07/97/t50_97_detail_042.png',\n",
       "   'https://lush.co.kr/data/goods/12/03/07/97/t50_97_detail_115.png',\n",
       "   'https://lush.co.kr/data/goods/12/03/07/97/t50_97_detail_293.png'],\n",
       "  'color': '#',\n",
       "  'category': '러쉬 > 페이스 > 클렌저',\n",
       "  'salePrice': 20000,\n",
       "  'originalPrice': 20000,\n",
       "  'brand': 'lush',\n",
       "  'volume': '125g'},\n",
       " {'name': '마스크 오브 매그너민티',\n",
       "  'url': 'https://lush.co.kr/goods/goods_view.php?goodsNo=97',\n",
       "  'image': ['https://lush.co.kr/data/goods/12/03/07/97/t50_97_detail_042.png',\n",
       "   'https://lush.co.kr/data/goods/12/03/07/97/t50_97_detail_115.png',\n",
       "   'https://lush.co.kr/data/goods/12/03/07/97/t50_97_detail_293.png'],\n",
       "  'color': '#',\n",
       "  'category': '러쉬 > 페이스 > 클렌저',\n",
       "  'salePrice': 20000,\n",
       "  'originalPrice': 20000,\n",
       "  'brand': 'lush',\n",
       "  'volume': '315g:￦+20,000'}]"
      ]
     },
     "metadata": {},
     "output_type": "display_data"
    },
    {
     "data": {
      "text/plain": [
       "[{'name': '콜페이스',\n",
       "  'url': 'https://lush.co.kr/goods/goods_view.php?goodsNo=88',\n",
       "  'image': ['https://lush.co.kr/data/goods/11/01/25/88/t50_88_detail_089.png'],\n",
       "  'color': '#',\n",
       "  'category': '러쉬 > 페이스 > 클렌저',\n",
       "  'salePrice': 18000,\n",
       "  'originalPrice': 18000,\n",
       "  'brand': 'lush',\n",
       "  'volume': '#'}]"
      ]
     },
     "metadata": {},
     "output_type": "display_data"
    },
    {
     "data": {
      "text/plain": [
       "[{'name': '코스메틱 워리어',\n",
       "  'url': 'https://lush.co.kr/goods/goods_view.php?goodsNo=79',\n",
       "  'image': ['https://lush.co.kr/data/goods/11/01/20/79/t50_79_detail_072.png',\n",
       "   'https://lush.co.kr/data/goods/11/01/20/79/t50_79_detail_136.png'],\n",
       "  'color': '#',\n",
       "  'category': '러쉬 > 페이스 > 페이스 마스크',\n",
       "  'salePrice': 25000,\n",
       "  'originalPrice': 25000,\n",
       "  'brand': 'lush',\n",
       "  'volume': '#'}]"
      ]
     },
     "metadata": {},
     "output_type": "display_data"
    },
    {
     "data": {
      "text/plain": [
       "[{'name': '허벌리즘',\n",
       "  'url': 'https://lush.co.kr/goods/goods_view.php?goodsNo=85',\n",
       "  'image': ['https://lush.co.kr/data/goods/11/01/20/85/t50_85_detail_022.png',\n",
       "   'https://lush.co.kr/data/goods/11/01/20/85/t50_85_detail_122.png',\n",
       "   'https://lush.co.kr/data/goods/11/01/20/85/t50_85_detail_279.png'],\n",
       "  'color': '#',\n",
       "  'category': '러쉬 > 페이스 > 클렌저',\n",
       "  'salePrice': 22000,\n",
       "  'originalPrice': 22000,\n",
       "  'brand': 'lush',\n",
       "  'volume': '100g'},\n",
       " {'name': '허벌리즘',\n",
       "  'url': 'https://lush.co.kr/goods/goods_view.php?goodsNo=85',\n",
       "  'image': ['https://lush.co.kr/data/goods/11/01/20/85/t50_85_detail_022.png',\n",
       "   'https://lush.co.kr/data/goods/11/01/20/85/t50_85_detail_122.png',\n",
       "   'https://lush.co.kr/data/goods/11/01/20/85/t50_85_detail_279.png'],\n",
       "  'color': '#',\n",
       "  'category': '러쉬 > 페이스 > 클렌저',\n",
       "  'salePrice': 22000,\n",
       "  'originalPrice': 22000,\n",
       "  'brand': 'lush',\n",
       "  'volume': '250g:￦+22,000'}]"
      ]
     },
     "metadata": {},
     "output_type": "display_data"
    },
    {
     "data": {
      "text/plain": [
       "[{'name': '비비 씨위드',\n",
       "  'url': 'https://lush.co.kr/goods/goods_view.php?goodsNo=37',\n",
       "  'image': ['https://lush.co.kr/data/goods/11/01/20/37/t50_37_detail_049.png',\n",
       "   'https://lush.co.kr/data/goods/11/01/20/37/t50_37_detail_113.png'],\n",
       "  'color': '#',\n",
       "  'category': '러쉬',\n",
       "  'salePrice': 25000,\n",
       "  'originalPrice': 25000,\n",
       "  'brand': 'lush',\n",
       "  'volume': '#'}]"
      ]
     },
     "metadata": {},
     "output_type": "display_data"
    },
    {
     "data": {
      "text/plain": [
       "[{'name': '카타스트로피 코스메틱',\n",
       "  'url': 'https://lush.co.kr/goods/goods_view.php?goodsNo=76',\n",
       "  'image': ['https://lush.co.kr/data/goods/11/01/20/76/t50_76_detail_089.png',\n",
       "   'https://lush.co.kr/data/goods/11/01/20/76/t50_76_detail_168.png'],\n",
       "  'color': '#',\n",
       "  'category': '러쉬 > 페이스 > 페이스 마스크',\n",
       "  'salePrice': 25000,\n",
       "  'originalPrice': 25000,\n",
       "  'brand': 'lush',\n",
       "  'volume': '#'}]"
      ]
     },
     "metadata": {},
     "output_type": "display_data"
    },
    {
     "data": {
      "text/plain": [
       "[{'name': '티 트리 워터',\n",
       "  'url': 'https://lush.co.kr/goods/goods_view.php?goodsNo=205',\n",
       "  'image': ['https://lush.co.kr/data/goods/16/05/09/205/t50_205_detail_033.png',\n",
       "   'https://lush.co.kr/data/goods/16/05/09/205/t50_205_detail_110.png',\n",
       "   'https://lush.co.kr/data/goods/16/05/09/205/t50_205_detail_225.png'],\n",
       "  'color': '#',\n",
       "  'category': '러쉬 > 페이스 > 토너',\n",
       "  'salePrice': 14000,\n",
       "  'originalPrice': 14000,\n",
       "  'brand': 'lush',\n",
       "  'volume': '100g[품절]'},\n",
       " {'name': '티 트리 워터',\n",
       "  'url': 'https://lush.co.kr/goods/goods_view.php?goodsNo=205',\n",
       "  'image': ['https://lush.co.kr/data/goods/16/05/09/205/t50_205_detail_033.png',\n",
       "   'https://lush.co.kr/data/goods/16/05/09/205/t50_205_detail_110.png',\n",
       "   'https://lush.co.kr/data/goods/16/05/09/205/t50_205_detail_225.png'],\n",
       "  'color': '#',\n",
       "  'category': '러쉬 > 페이스 > 토너',\n",
       "  'salePrice': 14000,\n",
       "  'originalPrice': 14000,\n",
       "  'brand': 'lush',\n",
       "  'volume': '250g:￦+14,000'}]"
      ]
     },
     "metadata": {},
     "output_type": "display_data"
    },
    {
     "data": {
      "text/plain": [
       "[{'name': '엔젤스 온 배어 스킨',\n",
       "  'url': 'https://lush.co.kr/goods/goods_view.php?goodsNo=62',\n",
       "  'image': ['https://lush.co.kr/data/goods/11/01/20/62/t50_62_detail_023.png',\n",
       "   'https://lush.co.kr/data/goods/11/01/20/62/t50_62_detail_119.png',\n",
       "   'https://lush.co.kr/data/goods/11/01/20/62/t50_62_detail_210.png'],\n",
       "  'color': '#',\n",
       "  'category': '러쉬 > 페이스 > 클렌저',\n",
       "  'salePrice': 22000,\n",
       "  'originalPrice': 22000,\n",
       "  'brand': 'lush',\n",
       "  'volume': '100g'},\n",
       " {'name': '엔젤스 온 배어 스킨',\n",
       "  'url': 'https://lush.co.kr/goods/goods_view.php?goodsNo=62',\n",
       "  'image': ['https://lush.co.kr/data/goods/11/01/20/62/t50_62_detail_023.png',\n",
       "   'https://lush.co.kr/data/goods/11/01/20/62/t50_62_detail_119.png',\n",
       "   'https://lush.co.kr/data/goods/11/01/20/62/t50_62_detail_210.png'],\n",
       "  'color': '#',\n",
       "  'category': '러쉬 > 페이스 > 클렌저',\n",
       "  'salePrice': 22000,\n",
       "  'originalPrice': 22000,\n",
       "  'brand': 'lush',\n",
       "  'volume': '250g:￦+22,000'}]"
      ]
     },
     "metadata": {},
     "output_type": "display_data"
    },
    {
     "data": {
      "text/plain": [
       "[{'name': '부쉐 드 노엘',\n",
       "  'url': 'https://lush.co.kr/goods/goods_view.php?goodsNo=547',\n",
       "  'image': ['https://lush.co.kr/data/goods/18/09/19/547/t50_547_detail_068.png',\n",
       "   'https://lush.co.kr/data/goods/18/09/19/547/t50_547_detail_111.png',\n",
       "   'https://lush.co.kr/data/goods/18/09/19/547/t50_547_detail_250.png'],\n",
       "  'color': '#',\n",
       "  'category': '러쉬 > 페이스 > 클렌저',\n",
       "  'salePrice': 20000,\n",
       "  'originalPrice': 20000,\n",
       "  'brand': 'lush',\n",
       "  'volume': '100g'},\n",
       " {'name': '부쉐 드 노엘',\n",
       "  'url': 'https://lush.co.kr/goods/goods_view.php?goodsNo=547',\n",
       "  'image': ['https://lush.co.kr/data/goods/18/09/19/547/t50_547_detail_068.png',\n",
       "   'https://lush.co.kr/data/goods/18/09/19/547/t50_547_detail_111.png',\n",
       "   'https://lush.co.kr/data/goods/18/09/19/547/t50_547_detail_250.png'],\n",
       "  'color': '#',\n",
       "  'category': '러쉬 > 페이스 > 클렌저',\n",
       "  'salePrice': 20000,\n",
       "  'originalPrice': 20000,\n",
       "  'brand': 'lush',\n",
       "  'volume': '250g:￦+20,000'}]"
      ]
     },
     "metadata": {},
     "output_type": "display_data"
    },
    {
     "data": {
      "text/plain": [
       "[{'name': '프레쉬 파머시',\n",
       "  'url': 'https://lush.co.kr/goods/goods_view.php?goodsNo=87',\n",
       "  'image': ['https://lush.co.kr/data/goods/11/01/25/87/t50_87_detail_046.png'],\n",
       "  'color': '#',\n",
       "  'category': '러쉬 > 페이스 > 클렌저',\n",
       "  'salePrice': 15000,\n",
       "  'originalPrice': 15000,\n",
       "  'brand': 'lush',\n",
       "  'volume': '#'}]"
      ]
     },
     "metadata": {},
     "output_type": "display_data"
    },
    {
     "data": {
      "text/plain": [
       "[{'name': '오 로마 워터',\n",
       "  'url': 'https://lush.co.kr/goods/goods_view.php?goodsNo=204',\n",
       "  'image': ['https://lush.co.kr/data/goods/16/05/09/204/t50_204_detail_045.png',\n",
       "   'https://lush.co.kr/data/goods/16/05/09/204/t50_204_detail_186.png',\n",
       "   'https://lush.co.kr/data/goods/16/05/09/204/t50_204_detail_230.png'],\n",
       "  'color': '#',\n",
       "  'category': '러쉬 > 페이스 > 토너',\n",
       "  'salePrice': 14000,\n",
       "  'originalPrice': 14000,\n",
       "  'brand': 'lush',\n",
       "  'volume': '100g'},\n",
       " {'name': '오 로마 워터',\n",
       "  'url': 'https://lush.co.kr/goods/goods_view.php?goodsNo=204',\n",
       "  'image': ['https://lush.co.kr/data/goods/16/05/09/204/t50_204_detail_045.png',\n",
       "   'https://lush.co.kr/data/goods/16/05/09/204/t50_204_detail_186.png',\n",
       "   'https://lush.co.kr/data/goods/16/05/09/204/t50_204_detail_230.png'],\n",
       "  'color': '#',\n",
       "  'category': '러쉬 > 페이스 > 토너',\n",
       "  'salePrice': 14000,\n",
       "  'originalPrice': 14000,\n",
       "  'brand': 'lush',\n",
       "  'volume': '250g:￦+14,000'}]"
      ]
     },
     "metadata": {},
     "output_type": "display_data"
    },
    {
     "data": {
      "text/plain": [
       "[{'name': '돈트 룩 앳 미',\n",
       "  'url': 'https://lush.co.kr/goods/goods_view.php?goodsNo=215',\n",
       "  'image': ['https://lush.co.kr/data/goods/16/07/06/215/t50_215_detail_028.png',\n",
       "   'https://lush.co.kr/data/goods/16/07/06/215/t50_215_detail_191.png'],\n",
       "  'color': '#',\n",
       "  'category': '러쉬 > 프로모션 > 국내제조',\n",
       "  'salePrice': 25000,\n",
       "  'originalPrice': 25000,\n",
       "  'brand': 'lush',\n",
       "  'volume': '#'}]"
      ]
     },
     "metadata": {},
     "output_type": "display_data"
    },
    {
     "data": {
      "text/plain": [
       "[{'name': '브레스 오브 프레쉬 에어',\n",
       "  'url': 'https://lush.co.kr/goods/goods_view.php?goodsNo=203',\n",
       "  'image': ['https://lush.co.kr/data/goods/16/05/09/203/t50_203_detail_080.png',\n",
       "   'https://lush.co.kr/data/goods/16/05/09/203/t50_203_detail_110.png',\n",
       "   'https://lush.co.kr/data/goods/16/05/09/203/t50_203_detail_22.png'],\n",
       "  'color': '#',\n",
       "  'category': '러쉬 > 페이스 > 토너',\n",
       "  'salePrice': 14000,\n",
       "  'originalPrice': 14000,\n",
       "  'brand': 'lush',\n",
       "  'volume': '100g'},\n",
       " {'name': '브레스 오브 프레쉬 에어',\n",
       "  'url': 'https://lush.co.kr/goods/goods_view.php?goodsNo=203',\n",
       "  'image': ['https://lush.co.kr/data/goods/16/05/09/203/t50_203_detail_080.png',\n",
       "   'https://lush.co.kr/data/goods/16/05/09/203/t50_203_detail_110.png',\n",
       "   'https://lush.co.kr/data/goods/16/05/09/203/t50_203_detail_22.png'],\n",
       "  'color': '#',\n",
       "  'category': '러쉬 > 페이스 > 토너',\n",
       "  'salePrice': 14000,\n",
       "  'originalPrice': 14000,\n",
       "  'brand': 'lush',\n",
       "  'volume': '250g:￦+14,000'}]"
      ]
     },
     "metadata": {},
     "output_type": "display_data"
    },
    {
     "data": {
      "text/plain": [
       "[{'name': '컵 오 커피',\n",
       "  'url': 'https://lush.co.kr/goods/goods_view.php?goodsNo=167',\n",
       "  'image': ['https://lush.co.kr/data/goods/16/01/28/167/t50_167_detail_084.png',\n",
       "   'https://lush.co.kr/data/goods/16/01/28/167/t50_167_detail_169.png',\n",
       "   'https://lush.co.kr/data/goods/16/01/28/167/t50_167_detail_274.png'],\n",
       "  'color': '#',\n",
       "  'category': '러쉬 > 페이스 > 클렌저',\n",
       "  'salePrice': 18000,\n",
       "  'originalPrice': 18000,\n",
       "  'brand': 'lush',\n",
       "  'volume': '130g'},\n",
       " {'name': '컵 오 커피',\n",
       "  'url': 'https://lush.co.kr/goods/goods_view.php?goodsNo=167',\n",
       "  'image': ['https://lush.co.kr/data/goods/16/01/28/167/t50_167_detail_084.png',\n",
       "   'https://lush.co.kr/data/goods/16/01/28/167/t50_167_detail_169.png',\n",
       "   'https://lush.co.kr/data/goods/16/01/28/167/t50_167_detail_274.png'],\n",
       "  'color': '#',\n",
       "  'category': '러쉬 > 페이스 > 클렌저',\n",
       "  'salePrice': 18000,\n",
       "  'originalPrice': 18000,\n",
       "  'brand': 'lush',\n",
       "  'volume': '325g:￦+18,000'}]"
      ]
     },
     "metadata": {},
     "output_type": "display_data"
    },
    {
     "data": {
      "text/plain": [
       "[{'name': '렛 더 굿 타임즈 롤',\n",
       "  'url': 'https://lush.co.kr/goods/goods_view.php?goodsNo=126',\n",
       "  'image': ['https://lush.co.kr/data/goods/13/10/15/126/t50_126_detail_093.png',\n",
       "   'https://lush.co.kr/data/goods/13/10/15/126/t50_126_detail_180.png',\n",
       "   'https://lush.co.kr/data/goods/13/10/15/126/t50_126_detail_22.png'],\n",
       "  'color': '#',\n",
       "  'category': '러쉬 > 페이스 > 클렌저',\n",
       "  'salePrice': 22000,\n",
       "  'originalPrice': 22000,\n",
       "  'brand': 'lush',\n",
       "  'volume': '100g'},\n",
       " {'name': '렛 더 굿 타임즈 롤',\n",
       "  'url': 'https://lush.co.kr/goods/goods_view.php?goodsNo=126',\n",
       "  'image': ['https://lush.co.kr/data/goods/13/10/15/126/t50_126_detail_093.png',\n",
       "   'https://lush.co.kr/data/goods/13/10/15/126/t50_126_detail_180.png',\n",
       "   'https://lush.co.kr/data/goods/13/10/15/126/t50_126_detail_22.png'],\n",
       "  'color': '#',\n",
       "  'category': '러쉬 > 페이스 > 클렌저',\n",
       "  'salePrice': 22000,\n",
       "  'originalPrice': 22000,\n",
       "  'brand': 'lush',\n",
       "  'volume': '250g:￦+22,000'}]"
      ]
     },
     "metadata": {},
     "output_type": "display_data"
    },
    {
     "data": {
      "text/plain": [
       "[{'name': '더티 쉐이빙 크림',\n",
       "  'url': 'https://lush.co.kr/goods/goods_view.php?goodsNo=94',\n",
       "  'image': ['https://lush.co.kr/data/goods/11/08/19/94/t50_94_detail_097.png',\n",
       "   'https://lush.co.kr/data/goods/11/08/19/94/t50_94_detail_161.png',\n",
       "   'https://lush.co.kr/data/goods/11/08/19/94/t50_94_detail_267.png'],\n",
       "  'color': '#',\n",
       "  'category': '러쉬 > 보디',\n",
       "  'salePrice': 19000,\n",
       "  'originalPrice': 19000,\n",
       "  'brand': 'lush',\n",
       "  'volume': '100g'},\n",
       " {'name': '더티 쉐이빙 크림',\n",
       "  'url': 'https://lush.co.kr/goods/goods_view.php?goodsNo=94',\n",
       "  'image': ['https://lush.co.kr/data/goods/11/08/19/94/t50_94_detail_097.png',\n",
       "   'https://lush.co.kr/data/goods/11/08/19/94/t50_94_detail_161.png',\n",
       "   'https://lush.co.kr/data/goods/11/08/19/94/t50_94_detail_267.png'],\n",
       "  'color': '#',\n",
       "  'category': '러쉬 > 보디',\n",
       "  'salePrice': 19000,\n",
       "  'originalPrice': 19000,\n",
       "  'brand': 'lush',\n",
       "  'volume': '225g:￦+13,000'}]"
      ]
     },
     "metadata": {},
     "output_type": "display_data"
    },
    {
     "data": {
      "text/plain": [
       "[{'name': '그리스 라이트닝',\n",
       "  'url': 'https://lush.co.kr/goods/goods_view.php?goodsNo=28',\n",
       "  'image': ['https://lush.co.kr/data/goods/11/01/20/28/t50_28_detail_078.png',\n",
       "   'https://lush.co.kr/data/goods/11/01/20/28/t50_28_detail_11.png'],\n",
       "  'color': '#',\n",
       "  'category': '러쉬',\n",
       "  'salePrice': 20000,\n",
       "  'originalPrice': 20000,\n",
       "  'brand': 'lush',\n",
       "  'volume': '#'}]"
      ]
     },
     "metadata": {},
     "output_type": "display_data"
    },
    {
     "data": {
      "text/plain": [
       "[{'name': '로지 칙스',\n",
       "  'url': 'https://lush.co.kr/goods/goods_view.php?goodsNo=169',\n",
       "  'image': ['https://lush.co.kr/data/goods/16/01/28/169/t50_169_detail_073.png',\n",
       "   'https://lush.co.kr/data/goods/16/01/28/169/t50_169_detail_11.png'],\n",
       "  'color': '#',\n",
       "  'category': '러쉬 > 페이스 > 페이스 마스크',\n",
       "  'salePrice': 25000,\n",
       "  'originalPrice': 25000,\n",
       "  'brand': 'lush',\n",
       "  'volume': '#'}]"
      ]
     },
     "metadata": {},
     "output_type": "display_data"
    },
    {
     "data": {
      "text/plain": [
       "[{'name': '허니 트랩',\n",
       "  'url': 'https://lush.co.kr/goods/goods_view.php?goodsNo=120',\n",
       "  'image': ['https://lush.co.kr/data/goods/13/08/27/120/t50_120_detail_073.png',\n",
       "   'https://lush.co.kr/data/goods/13/08/27/120/t50_120_detail_165.png'],\n",
       "  'color': '#',\n",
       "  'category': '러쉬 > 페이스 > 립',\n",
       "  'salePrice': 17000,\n",
       "  'originalPrice': 17000,\n",
       "  'brand': 'lush',\n",
       "  'volume': '#'}]"
      ]
     },
     "metadata": {},
     "output_type": "display_data"
    },
    {
     "data": {
      "text/plain": [
       "[{'name': '오티픽스',\n",
       "  'url': 'https://lush.co.kr/goods/goods_view.php?goodsNo=67',\n",
       "  'image': ['https://lush.co.kr/data/goods/11/01/20/67/t50_67_detail_09.png',\n",
       "   'https://lush.co.kr/data/goods/11/01/20/67/t50_67_detail_117.png'],\n",
       "  'color': '#',\n",
       "  'category': '러쉬 > 프로모션 > 국내제조',\n",
       "  'salePrice': 25000,\n",
       "  'originalPrice': 25000,\n",
       "  'brand': 'lush',\n",
       "  'volume': '#'}]"
      ]
     },
     "metadata": {},
     "output_type": "display_data"
    },
    {
     "data": {
      "text/plain": [
       "[{'name': '슈가 플럼 페어리',\n",
       "  'url': 'https://lush.co.kr/goods/goods_view.php?goodsNo=557',\n",
       "  'image': ['https://lush.co.kr/data/goods/18/09/19/557/t50_557_detail_093.png',\n",
       "   'https://lush.co.kr/data/goods/18/09/19/557/t50_557_detail_13.png'],\n",
       "  'color': '#',\n",
       "  'category': '러쉬 > 페이스 > 립',\n",
       "  'salePrice': 15000,\n",
       "  'originalPrice': 15000,\n",
       "  'brand': 'lush',\n",
       "  'volume': '#'}]"
      ]
     },
     "metadata": {},
     "output_type": "display_data"
    },
    {
     "data": {
      "text/plain": [
       "[{'name': '프린스',\n",
       "  'url': 'https://lush.co.kr/goods/goods_view.php?goodsNo=83',\n",
       "  'image': ['https://lush.co.kr/data/goods/11/01/20/83/t50_83_detail_080.png',\n",
       "   'https://lush.co.kr/data/goods/11/01/20/83/t50_83_detail_12.png',\n",
       "   'https://lush.co.kr/data/goods/11/01/20/83/t50_83_detail_249.png'],\n",
       "  'color': '#',\n",
       "  'category': '러쉬 > 보디',\n",
       "  'salePrice': 19000,\n",
       "  'originalPrice': 19000,\n",
       "  'brand': 'lush',\n",
       "  'volume': '100g'},\n",
       " {'name': '프린스',\n",
       "  'url': 'https://lush.co.kr/goods/goods_view.php?goodsNo=83',\n",
       "  'image': ['https://lush.co.kr/data/goods/11/01/20/83/t50_83_detail_080.png',\n",
       "   'https://lush.co.kr/data/goods/11/01/20/83/t50_83_detail_12.png',\n",
       "   'https://lush.co.kr/data/goods/11/01/20/83/t50_83_detail_249.png'],\n",
       "  'color': '#',\n",
       "  'category': '러쉬 > 보디',\n",
       "  'salePrice': 19000,\n",
       "  'originalPrice': 19000,\n",
       "  'brand': 'lush',\n",
       "  'volume': '225g:￦+13,000'}]"
      ]
     },
     "metadata": {},
     "output_type": "display_data"
    },
    {
     "data": {
      "text/plain": [
       "[{'name': '아쿠아 마리나',\n",
       "  'url': 'https://lush.co.kr/goods/goods_view.php?goodsNo=61',\n",
       "  'image': ['https://lush.co.kr/data/goods/11/01/20/61/t50_61_detail_021.png',\n",
       "   'https://lush.co.kr/data/goods/11/01/20/61/t50_61_detail_138.png',\n",
       "   'https://lush.co.kr/data/goods/11/01/20/61/t50_61_detail_2100.png'],\n",
       "  'color': '#',\n",
       "  'category': '러쉬 > 페이스 > 클렌저',\n",
       "  'salePrice': 22000,\n",
       "  'originalPrice': 22000,\n",
       "  'brand': 'lush',\n",
       "  'volume': '100g'},\n",
       " {'name': '아쿠아 마리나',\n",
       "  'url': 'https://lush.co.kr/goods/goods_view.php?goodsNo=61',\n",
       "  'image': ['https://lush.co.kr/data/goods/11/01/20/61/t50_61_detail_021.png',\n",
       "   'https://lush.co.kr/data/goods/11/01/20/61/t50_61_detail_138.png',\n",
       "   'https://lush.co.kr/data/goods/11/01/20/61/t50_61_detail_2100.png'],\n",
       "  'color': '#',\n",
       "  'category': '러쉬 > 페이스 > 클렌저',\n",
       "  'salePrice': 22000,\n",
       "  'originalPrice': 22000,\n",
       "  'brand': 'lush',\n",
       "  'volume': '250g:￦+22,000'}]"
      ]
     },
     "metadata": {},
     "output_type": "display_data"
    },
    {
     "data": {
      "text/plain": [
       "[{'name': '풀 오브 그레이스',\n",
       "  'url': 'https://lush.co.kr/goods/goods_view.php?goodsNo=2',\n",
       "  'image': ['https://lush.co.kr/data/goods/11/01/12/2/t50_2_detail_087.png'],\n",
       "  'color': '#',\n",
       "  'category': '러쉬 > 페이스 > 모이스춰라이저',\n",
       "  'salePrice': 21000,\n",
       "  'originalPrice': 21000,\n",
       "  'brand': 'lush',\n",
       "  'volume': '#'}]"
      ]
     },
     "metadata": {},
     "output_type": "display_data"
    },
    {
     "data": {
      "text/plain": [
       "[{'name': '오션 솔트 셀프-프리저빙',\n",
       "  'url': 'https://lush.co.kr/goods/goods_view.php?goodsNo=153',\n",
       "  'image': ['https://lush.co.kr/data/goods/15/01/07/153/t50_153_detail_058.png',\n",
       "   'https://lush.co.kr/data/goods/15/01/07/153/t50_153_detail_112.png',\n",
       "   'https://lush.co.kr/data/goods/15/01/07/153/t50_153_detail_238.png'],\n",
       "  'color': '#',\n",
       "  'category': '러쉬 > 페이스 > 클렌저',\n",
       "  'salePrice': 27000,\n",
       "  'originalPrice': 27000,\n",
       "  'brand': 'lush',\n",
       "  'volume': '120g'},\n",
       " {'name': '오션 솔트 셀프-프리저빙',\n",
       "  'url': 'https://lush.co.kr/goods/goods_view.php?goodsNo=153',\n",
       "  'image': ['https://lush.co.kr/data/goods/15/01/07/153/t50_153_detail_058.png',\n",
       "   'https://lush.co.kr/data/goods/15/01/07/153/t50_153_detail_112.png',\n",
       "   'https://lush.co.kr/data/goods/15/01/07/153/t50_153_detail_238.png'],\n",
       "  'color': '#',\n",
       "  'category': '러쉬 > 페이스 > 클렌저',\n",
       "  'salePrice': 27000,\n",
       "  'originalPrice': 27000,\n",
       "  'brand': 'lush',\n",
       "  'volume': '250g:￦+25,000'}]"
      ]
     },
     "metadata": {},
     "output_type": "display_data"
    },
    {
     "data": {
      "text/plain": [
       "[{'name': '버블검',\n",
       "  'url': 'https://lush.co.kr/goods/goods_view.php?goodsNo=89',\n",
       "  'image': ['https://lush.co.kr/data/goods/11/01/27/89/t50_89_detail_037.png',\n",
       "   'https://lush.co.kr/data/goods/11/01/27/89/t50_89_detail_116.png'],\n",
       "  'color': '#',\n",
       "  'category': '러쉬 > 페이스 > 립',\n",
       "  'salePrice': 14000,\n",
       "  'originalPrice': 14000,\n",
       "  'brand': 'lush',\n",
       "  'volume': '#'}]"
      ]
     },
     "metadata": {},
     "output_type": "display_data"
    },
    {
     "data": {
      "text/plain": [
       "[{'name': '셀레스티얼',\n",
       "  'url': 'https://lush.co.kr/goods/goods_view.php?goodsNo=42',\n",
       "  'image': ['https://lush.co.kr/data/goods/11/01/20/42/t50_42_detail_096.png',\n",
       "   'https://lush.co.kr/data/goods/11/01/20/42/t50_42_detail_169.png'],\n",
       "  'color': '#',\n",
       "  'category': '러쉬 > 페이스 > 모이스춰라이저',\n",
       "  'salePrice': 48000,\n",
       "  'originalPrice': 48000,\n",
       "  'brand': 'lush',\n",
       "  'volume': '#'}]"
      ]
     },
     "metadata": {},
     "output_type": "display_data"
    },
    {
     "data": {
      "text/plain": [
       "[{'name': '티 트리',\n",
       "  'url': 'https://lush.co.kr/goods/goods_view.php?goodsNo=229',\n",
       "  'image': ['https://lush.co.kr/data/goods/17/05/10/229/t50_229_detail_019.png'],\n",
       "  'color': '#',\n",
       "  'category': '러쉬 > 페이스 > 토너',\n",
       "  'salePrice': 3000,\n",
       "  'originalPrice': 3000,\n",
       "  'brand': 'lush',\n",
       "  'volume': '#'}]"
      ]
     },
     "metadata": {},
     "output_type": "display_data"
    },
    {
     "data": {
      "text/plain": [
       "[{'name': '울트라블랜드',\n",
       "  'url': 'https://lush.co.kr/goods/goods_view.php?goodsNo=210',\n",
       "  'image': ['https://lush.co.kr/data/goods/16/06/13/210/t50_210_detail_039.png',\n",
       "   'https://lush.co.kr/data/goods/16/06/13/210/t50_210_detail_141.png',\n",
       "   'https://lush.co.kr/data/goods/16/06/13/210/t50_210_detail_287.png'],\n",
       "  'color': '#',\n",
       "  'category': '러쉬 > 페이스 > 클렌저',\n",
       "  'salePrice': 24000,\n",
       "  'originalPrice': 24000,\n",
       "  'brand': 'lush',\n",
       "  'volume': '45g'},\n",
       " {'name': '울트라블랜드',\n",
       "  'url': 'https://lush.co.kr/goods/goods_view.php?goodsNo=210',\n",
       "  'image': ['https://lush.co.kr/data/goods/16/06/13/210/t50_210_detail_039.png',\n",
       "   'https://lush.co.kr/data/goods/16/06/13/210/t50_210_detail_141.png',\n",
       "   'https://lush.co.kr/data/goods/16/06/13/210/t50_210_detail_287.png'],\n",
       "  'color': '#',\n",
       "  'category': '러쉬 > 페이스 > 클렌저',\n",
       "  'salePrice': 24000,\n",
       "  'originalPrice': 24000,\n",
       "  'brand': 'lush',\n",
       "  'volume': '95g:￦+14,000'}]"
      ]
     },
     "metadata": {},
     "output_type": "display_data"
    },
    {
     "data": {
      "text/plain": [
       "[{'name': '컵케익',\n",
       "  'url': 'https://lush.co.kr/goods/goods_view.php?goodsNo=77',\n",
       "  'image': ['https://lush.co.kr/data/goods/11/01/20/77/t50_77_detail_065.png',\n",
       "   'https://lush.co.kr/data/goods/11/01/20/77/t50_77_detail_149.png'],\n",
       "  'color': '#',\n",
       "  'category': '러쉬 > 페이스 > 페이스 마스크',\n",
       "  'salePrice': 25000,\n",
       "  'originalPrice': 25000,\n",
       "  'brand': 'lush',\n",
       "  'volume': '#'}]"
      ]
     },
     "metadata": {},
     "output_type": "display_data"
    },
    {
     "data": {
      "text/plain": [
       "[{'name': '코스메틱 래드',\n",
       "  'url': 'https://lush.co.kr/goods/goods_view.php?goodsNo=78',\n",
       "  'image': ['https://lush.co.kr/data/goods/11/01/20/78/t50_78_detail_093.png',\n",
       "   'https://lush.co.kr/data/goods/11/01/20/78/t50_78_detail_118.png'],\n",
       "  'color': '#',\n",
       "  'category': '러쉬 > 페이스 > 모이스춰라이저',\n",
       "  'salePrice': 48000,\n",
       "  'originalPrice': 48000,\n",
       "  'brand': 'lush',\n",
       "  'volume': '#'}]"
      ]
     },
     "metadata": {},
     "output_type": "display_data"
    },
    {
     "data": {
      "text/plain": [
       "[{'name': '임페리얼리스',\n",
       "  'url': 'https://lush.co.kr/goods/goods_view.php?goodsNo=70',\n",
       "  'image': ['https://lush.co.kr/data/goods/11/01/20/70/t50_70_detail_062.png',\n",
       "   'https://lush.co.kr/data/goods/11/01/20/70/t50_70_detail_163.png'],\n",
       "  'color': '#',\n",
       "  'category': '러쉬 > 페이스 > 모이스춰라이저',\n",
       "  'salePrice': 49000,\n",
       "  'originalPrice': 49000,\n",
       "  'brand': 'lush',\n",
       "  'volume': '#'}]"
      ]
     },
     "metadata": {},
     "output_type": "display_data"
    },
    {
     "data": {
      "text/plain": [
       "[{'name': '오션 솔트',\n",
       "  'url': 'https://lush.co.kr/goods/goods_view.php?goodsNo=65',\n",
       "  'image': ['https://lush.co.kr/data/goods/11/01/20/65/t50_65_detail_061.png',\n",
       "   'https://lush.co.kr/data/goods/11/01/20/65/t50_65_detail_116.png',\n",
       "   'https://lush.co.kr/data/goods/11/01/20/65/t50_65_detail_267.png'],\n",
       "  'color': '#',\n",
       "  'category': '러쉬 > 페이스 > 클렌저',\n",
       "  'salePrice': 27000,\n",
       "  'originalPrice': 27000,\n",
       "  'brand': 'lush',\n",
       "  'volume': '120g'},\n",
       " {'name': '오션 솔트',\n",
       "  'url': 'https://lush.co.kr/goods/goods_view.php?goodsNo=65',\n",
       "  'image': ['https://lush.co.kr/data/goods/11/01/20/65/t50_65_detail_061.png',\n",
       "   'https://lush.co.kr/data/goods/11/01/20/65/t50_65_detail_116.png',\n",
       "   'https://lush.co.kr/data/goods/11/01/20/65/t50_65_detail_267.png'],\n",
       "  'color': '#',\n",
       "  'category': '러쉬 > 페이스 > 클렌저',\n",
       "  'salePrice': 27000,\n",
       "  'originalPrice': 27000,\n",
       "  'brand': 'lush',\n",
       "  'volume': '250g:￦+25,000'}]"
      ]
     },
     "metadata": {},
     "output_type": "display_data"
    },
    {
     "data": {
      "text/plain": [
       "[{'name': '골저스',\n",
       "  'url': 'https://lush.co.kr/goods/goods_view.php?goodsNo=12',\n",
       "  'image': ['https://lush.co.kr/data/goods/11/01/20/12/t50_12_detail_078.png',\n",
       "   'https://lush.co.kr/data/goods/11/01/20/12/t50_12_detail_153.png'],\n",
       "  'color': '#',\n",
       "  'category': '러쉬 > 페이스 > 모이스춰라이저',\n",
       "  'salePrice': 120000,\n",
       "  'originalPrice': 120000,\n",
       "  'brand': 'lush',\n",
       "  'volume': '#'}]"
      ]
     },
     "metadata": {},
     "output_type": "display_data"
    },
    {
     "data": {
      "text/plain": [
       "[{'name': '크랜베리 피즈',\n",
       "  'url': 'https://lush.co.kr/goods/goods_view.php?goodsNo=522',\n",
       "  'image': ['https://lush.co.kr/data/goods/18/09/17/522/t50_522_detail_046.png',\n",
       "   'https://lush.co.kr/data/goods/18/09/17/522/t50_522_detail_199.png'],\n",
       "  'color': '#',\n",
       "  'category': '러쉬 > 페이스 > 립',\n",
       "  'salePrice': 15000,\n",
       "  'originalPrice': 15000,\n",
       "  'brand': 'lush',\n",
       "  'volume': '#'}]"
      ]
     },
     "metadata": {},
     "output_type": "display_data"
    },
    {
     "data": {
      "text/plain": [
       "[{'name': '논 오브 유어 비즈왁스',\n",
       "  'url': 'https://lush.co.kr/goods/goods_view.php?goodsNo=128',\n",
       "  'image': ['https://lush.co.kr/data/goods/13/11/22/128/t50_128_detail_083.png',\n",
       "   'https://lush.co.kr/data/goods/13/11/22/128/t50_128_detail_161.png'],\n",
       "  'color': '#',\n",
       "  'category': '러쉬 > 페이스 > 립',\n",
       "  'salePrice': 17000,\n",
       "  'originalPrice': 17000,\n",
       "  'brand': 'lush',\n",
       "  'volume': '#'}]"
      ]
     },
     "metadata": {},
     "output_type": "display_data"
    },
    {
     "data": {
      "text/plain": [
       "[{'name': \"디'플러프\",\n",
       "  'url': 'https://lush.co.kr/goods/goods_view.php?goodsNo=145',\n",
       "  'image': ['https://lush.co.kr/data/goods/14/10/17/145/t50_145_detail_011.png',\n",
       "   'https://lush.co.kr/data/goods/14/10/17/145/t50_145_detail_164.png',\n",
       "   'https://lush.co.kr/data/goods/14/10/17/145/t50_145_detail_297.png'],\n",
       "  'color': '#',\n",
       "  'category': '러쉬 > 페이스 > 쉐이빙 크림',\n",
       "  'salePrice': 19000,\n",
       "  'originalPrice': 19000,\n",
       "  'brand': 'lush',\n",
       "  'volume': '70g'},\n",
       " {'name': \"디'플러프\",\n",
       "  'url': 'https://lush.co.kr/goods/goods_view.php?goodsNo=145',\n",
       "  'image': ['https://lush.co.kr/data/goods/14/10/17/145/t50_145_detail_011.png',\n",
       "   'https://lush.co.kr/data/goods/14/10/17/145/t50_145_detail_164.png',\n",
       "   'https://lush.co.kr/data/goods/14/10/17/145/t50_145_detail_297.png'],\n",
       "  'color': '#',\n",
       "  'category': '러쉬 > 페이스 > 쉐이빙 크림',\n",
       "  'salePrice': 19000,\n",
       "  'originalPrice': 19000,\n",
       "  'brand': 'lush',\n",
       "  'volume': '150g:￦+13,000'}]"
      ]
     },
     "metadata": {},
     "output_type": "display_data"
    },
    {
     "data": {
      "text/plain": [
       "[{'name': '키 라임 파이',\n",
       "  'url': 'https://lush.co.kr/goods/goods_view.php?goodsNo=199',\n",
       "  'image': ['https://lush.co.kr/data/goods/16/05/09/199/t50_199_detail_064.png',\n",
       "   'https://lush.co.kr/data/goods/16/05/09/199/t50_199_detail_128.png'],\n",
       "  'color': '#',\n",
       "  'category': '러쉬 > 페이스 > 립',\n",
       "  'salePrice': 17000,\n",
       "  'originalPrice': 17000,\n",
       "  'brand': 'lush',\n",
       "  'volume': '#'}]"
      ]
     },
     "metadata": {},
     "output_type": "display_data"
    },
    {
     "data": {
      "text/plain": [
       "[{'name': '엔지미온',\n",
       "  'url': 'https://lush.co.kr/goods/goods_view.php?goodsNo=63',\n",
       "  'image': ['https://lush.co.kr/data/goods/11/01/20/63/t50_63_detail_097.png',\n",
       "   'https://lush.co.kr/data/goods/11/01/20/63/t50_63_detail_177.png'],\n",
       "  'color': '#',\n",
       "  'category': '러쉬 > 페이스 > 모이스춰라이저',\n",
       "  'salePrice': 50000,\n",
       "  'originalPrice': 50000,\n",
       "  'brand': 'lush',\n",
       "  'volume': '#'}]"
      ]
     },
     "metadata": {},
     "output_type": "display_data"
    },
    {
     "data": {
      "text/plain": [
       "[{'name': '1000 밀리헬렌스',\n",
       "  'url': 'https://lush.co.kr/goods/goods_view.php?goodsNo=364',\n",
       "  'image': ['https://lush.co.kr/data/goods/18/02/20/364/t50_364_detail_091.png',\n",
       "   'https://lush.co.kr/data/goods/18/02/20/364/t50_364_detail_176.png'],\n",
       "  'color': '#',\n",
       "  'category': '러쉬 > 페이스 > 젤리 마스크',\n",
       "  'salePrice': 18000,\n",
       "  'originalPrice': 18000,\n",
       "  'brand': 'lush',\n",
       "  'volume': '#'}]"
      ]
     },
     "metadata": {},
     "output_type": "display_data"
    },
    {
     "data": {
      "text/plain": [
       "[{'name': '모비스',\n",
       "  'url': 'https://lush.co.kr/goods/goods_view.php?goodsNo=363',\n",
       "  'image': ['https://lush.co.kr/data/goods/18/02/20/363/t50_363_detail_06.png'],\n",
       "  'color': '#',\n",
       "  'category': '러쉬 > 페이스 > 클렌저',\n",
       "  'salePrice': 15000,\n",
       "  'originalPrice': 15000,\n",
       "  'brand': 'lush',\n",
       "  'volume': '#'}]"
      ]
     },
     "metadata": {},
     "output_type": "display_data"
    },
    {
     "data": {
      "text/plain": [
       "[{'name': '허니',\n",
       "  'url': 'https://lush.co.kr/goods/goods_view.php?goodsNo=233',\n",
       "  'image': ['https://lush.co.kr/data/goods/17/05/10/233/t50_233_detail_0100.png',\n",
       "   'https://lush.co.kr/data/goods/17/05/10/233/t50_233_detail_182.png'],\n",
       "  'color': '#',\n",
       "  'category': '러쉬 > 페이스 > 립',\n",
       "  'salePrice': 14000,\n",
       "  'originalPrice': 14000,\n",
       "  'brand': 'lush',\n",
       "  'volume': '#'}]"
      ]
     },
     "metadata": {},
     "output_type": "display_data"
    },
    {
     "data": {
      "text/plain": [
       "[{'name': '나인 투 파이브',\n",
       "  'url': 'https://lush.co.kr/goods/goods_view.php?goodsNo=101',\n",
       "  'image': ['https://lush.co.kr/data/goods/12/09/12/101/t50_101_detail_03.png',\n",
       "   'https://lush.co.kr/data/goods/12/09/12/101/t50_101_detail_167.png',\n",
       "   'https://lush.co.kr/data/goods/12/09/12/101/t50_101_detail_298.png'],\n",
       "  'color': '#',\n",
       "  'category': '러쉬 > 페이스 > 클렌저',\n",
       "  'salePrice': 15000,\n",
       "  'originalPrice': 15000,\n",
       "  'brand': 'lush',\n",
       "  'volume': '100g'},\n",
       " {'name': '나인 투 파이브',\n",
       "  'url': 'https://lush.co.kr/goods/goods_view.php?goodsNo=101',\n",
       "  'image': ['https://lush.co.kr/data/goods/12/09/12/101/t50_101_detail_03.png',\n",
       "   'https://lush.co.kr/data/goods/12/09/12/101/t50_101_detail_167.png',\n",
       "   'https://lush.co.kr/data/goods/12/09/12/101/t50_101_detail_298.png'],\n",
       "  'color': '#',\n",
       "  'category': '러쉬 > 페이스 > 클렌저',\n",
       "  'salePrice': 15000,\n",
       "  'originalPrice': 15000,\n",
       "  'brand': 'lush',\n",
       "  'volume': '250g:￦+13,000'}]"
      ]
     },
     "metadata": {},
     "output_type": "display_data"
    },
    {
     "data": {
      "text/plain": [
       "[{'name': '스킨즈 샹그릴라',\n",
       "  'url': 'https://lush.co.kr/goods/goods_view.php?goodsNo=47',\n",
       "  'image': ['https://lush.co.kr/data/goods/11/01/20/47/t50_47_detail_011.png',\n",
       "   'https://lush.co.kr/data/goods/11/01/20/47/t50_47_detail_156.png'],\n",
       "  'color': '#',\n",
       "  'category': '러쉬 > 페이스 > 모이스춰라이저',\n",
       "  'salePrice': 85000,\n",
       "  'originalPrice': 85000,\n",
       "  'brand': 'lush',\n",
       "  'volume': '#'}]"
      ]
     },
     "metadata": {},
     "output_type": "display_data"
    },
    {
     "data": {
      "text/plain": [
       "[{'name': '다크 엔젤스',\n",
       "  'url': 'https://lush.co.kr/goods/goods_view.php?goodsNo=14',\n",
       "  'image': ['https://lush.co.kr/data/goods/11/01/20/14/t50_14_detail_093.png',\n",
       "   'https://lush.co.kr/data/goods/11/01/20/14/t50_14_detail_190.png',\n",
       "   'https://lush.co.kr/data/goods/11/01/20/14/t50_14_detail_247.png'],\n",
       "  'color': '#',\n",
       "  'category': '러쉬 > 페이스 > 클렌저',\n",
       "  'salePrice': 22000,\n",
       "  'originalPrice': 22000,\n",
       "  'brand': 'lush',\n",
       "  'volume': '100g[품절]'},\n",
       " {'name': '다크 엔젤스',\n",
       "  'url': 'https://lush.co.kr/goods/goods_view.php?goodsNo=14',\n",
       "  'image': ['https://lush.co.kr/data/goods/11/01/20/14/t50_14_detail_093.png',\n",
       "   'https://lush.co.kr/data/goods/11/01/20/14/t50_14_detail_190.png',\n",
       "   'https://lush.co.kr/data/goods/11/01/20/14/t50_14_detail_247.png'],\n",
       "  'color': '#',\n",
       "  'category': '러쉬 > 페이스 > 클렌저',\n",
       "  'salePrice': 22000,\n",
       "  'originalPrice': 22000,\n",
       "  'brand': 'lush',\n",
       "  'volume': '250g:￦+22,000'}]"
      ]
     },
     "metadata": {},
     "output_type": "display_data"
    },
    {
     "data": {
      "text/plain": [
       "[{'name': '포모',\n",
       "  'url': 'https://lush.co.kr/goods/goods_view.php?goodsNo=353',\n",
       "  'image': ['https://lush.co.kr/data/goods/17/12/08/353/t50_353_detail_030.png',\n",
       "   'https://lush.co.kr/data/goods/17/12/08/353/t50_353_detail_127.png'],\n",
       "  'color': '#',\n",
       "  'category': '러쉬 > 페이스 > 젤리 마스크',\n",
       "  'salePrice': 18000,\n",
       "  'originalPrice': 18000,\n",
       "  'brand': 'lush',\n",
       "  'volume': '#'}]"
      ]
     },
     "metadata": {},
     "output_type": "display_data"
    },
    {
     "data": {
      "text/plain": [
       "[{'name': '배니싱 크림',\n",
       "  'url': 'https://lush.co.kr/goods/goods_view.php?goodsNo=29',\n",
       "  'image': ['https://lush.co.kr/data/goods/11/01/20/29/t50_29_detail_035.png',\n",
       "   'https://lush.co.kr/data/goods/11/01/20/29/t50_29_detail_165.png'],\n",
       "  'color': '#',\n",
       "  'category': '러쉬 > 페이스 > 모이스춰라이저',\n",
       "  'salePrice': 75000,\n",
       "  'originalPrice': 75000,\n",
       "  'brand': 'lush',\n",
       "  'volume': '#'}]"
      ]
     },
     "metadata": {},
     "output_type": "display_data"
    },
    {
     "data": {
      "text/plain": [
       "[{'name': '더 버쓰 오브 비너스',\n",
       "  'url': 'https://lush.co.kr/goods/goods_view.php?goodsNo=355',\n",
       "  'image': ['https://lush.co.kr/data/goods/17/12/08/355/t50_355_detail_057.png',\n",
       "   'https://lush.co.kr/data/goods/17/12/08/355/t50_355_detail_181.png'],\n",
       "  'color': '#',\n",
       "  'category': '러쉬 > 페이스 > 젤리 마스크',\n",
       "  'salePrice': 18000,\n",
       "  'originalPrice': 18000,\n",
       "  'brand': 'lush',\n",
       "  'volume': '#'}]"
      ]
     },
     "metadata": {},
     "output_type": "display_data"
    },
    {
     "data": {
      "text/plain": [
       "[{'name': '브레이즌드 허니',\n",
       "  'url': 'https://lush.co.kr/goods/goods_view.php?goodsNo=35',\n",
       "  'image': ['https://lush.co.kr/data/goods/11/01/20/35/t50_35_detail_042.png',\n",
       "   'https://lush.co.kr/data/goods/11/01/20/35/t50_35_detail_146.png'],\n",
       "  'color': '#',\n",
       "  'category': '러쉬 > 프로모션 > 국내제조',\n",
       "  'salePrice': 25000,\n",
       "  'originalPrice': 25000,\n",
       "  'brand': 'lush',\n",
       "  'volume': '#'}]"
      ]
     },
     "metadata": {},
     "output_type": "display_data"
    },
    {
     "data": {
      "text/plain": [
       "[{'name': '인첸티드 아이 크림',\n",
       "  'url': 'https://lush.co.kr/goods/goods_view.php?goodsNo=69',\n",
       "  'image': ['https://lush.co.kr/data/goods/11/01/20/69/t50_69_detail_03.png',\n",
       "   'https://lush.co.kr/data/goods/11/01/20/69/t50_69_detail_116.png'],\n",
       "  'color': '#',\n",
       "  'category': '러쉬 > 페이스 > 모이스춰라이저',\n",
       "  'salePrice': 48000,\n",
       "  'originalPrice': 48000,\n",
       "  'brand': 'lush',\n",
       "  'volume': '#'}]"
      ]
     },
     "metadata": {},
     "output_type": "display_data"
    },
    {
     "data": {
      "text/plain": [
       "[{'name': '립 서비스',\n",
       "  'url': 'https://lush.co.kr/goods/goods_view.php?goodsNo=121',\n",
       "  'image': ['https://lush.co.kr/data/goods/13/08/27/121/t50_121_detail_05.png',\n",
       "   'https://lush.co.kr/data/goods/13/08/27/121/t50_121_detail_177.png'],\n",
       "  'color': '#',\n",
       "  'category': '러쉬 > 페이스 > 립',\n",
       "  'salePrice': 17000,\n",
       "  'originalPrice': 17000,\n",
       "  'brand': 'lush',\n",
       "  'volume': '#'}]"
      ]
     },
     "metadata": {},
     "output_type": "display_data"
    },
    {
     "data": {
      "text/plain": [
       "[{'name': '버니 문',\n",
       "  'url': 'https://lush.co.kr/goods/goods_view.php?goodsNo=352',\n",
       "  'image': ['https://lush.co.kr/data/goods/17/12/08/352/t50_352_detail_099.png',\n",
       "   'https://lush.co.kr/data/goods/17/12/08/352/t50_352_detail_140.png'],\n",
       "  'color': '#',\n",
       "  'category': '러쉬 > 페이스 > 젤리 마스크',\n",
       "  'salePrice': 18000,\n",
       "  'originalPrice': 18000,\n",
       "  'brand': 'lush',\n",
       "  'volume': '#'}]"
      ]
     },
     "metadata": {},
     "output_type": "display_data"
    },
    {
     "data": {
      "text/plain": [
       "[{'name': '윕스틱',\n",
       "  'url': 'https://lush.co.kr/goods/goods_view.php?goodsNo=148',\n",
       "  'image': ['https://lush.co.kr/data/goods/14/12/01/148/t50_148_detail_024.png',\n",
       "   'https://lush.co.kr/data/goods/14/12/01/148/t50_148_detail_114.png'],\n",
       "  'color': '#',\n",
       "  'category': '러쉬 > 페이스 > 립',\n",
       "  'salePrice': 17000,\n",
       "  'originalPrice': 17000,\n",
       "  'brand': 'lush',\n",
       "  'volume': '#'}]"
      ]
     },
     "metadata": {},
     "output_type": "display_data"
    },
    {
     "data": {
      "text/plain": [
       "[{'name': '스킨 드링크',\n",
       "  'url': 'https://lush.co.kr/goods/goods_view.php?goodsNo=46',\n",
       "  'image': ['https://lush.co.kr/data/goods/11/01/20/46/t50_46_detail_094.png',\n",
       "   'https://lush.co.kr/data/goods/11/01/20/46/t50_46_detail_189.png'],\n",
       "  'color': '#',\n",
       "  'category': '러쉬 > 페이스 > 모이스춰라이저',\n",
       "  'salePrice': 49000,\n",
       "  'originalPrice': 49000,\n",
       "  'brand': 'lush',\n",
       "  'volume': '#'}]"
      ]
     },
     "metadata": {},
     "output_type": "display_data"
    },
    {
     "data": {
      "text/plain": [
       "[{'name': '민트 줄립스',\n",
       "  'url': 'https://lush.co.kr/goods/goods_view.php?goodsNo=90',\n",
       "  'image': ['https://lush.co.kr/data/goods/11/01/27/90/t50_90_detail_014.png',\n",
       "   'https://lush.co.kr/data/goods/11/01/27/90/t50_90_detail_176.png'],\n",
       "  'color': '#',\n",
       "  'category': '러쉬 > 페이스 > 립',\n",
       "  'salePrice': 14000,\n",
       "  'originalPrice': 14000,\n",
       "  'brand': 'lush',\n",
       "  'volume': '#'}]"
      ]
     },
     "metadata": {},
     "output_type": "display_data"
    },
    {
     "data": {
      "text/plain": [
       "[{'name': '이브스 체리',\n",
       "  'url': 'https://lush.co.kr/goods/goods_view.php?goodsNo=1000000177',\n",
       "  'image': ['https://lush.co.kr/data/goods/19/01/04/1000000177/t50_1000000177_detail_043.png',\n",
       "   'https://lush.co.kr/data/goods/19/01/04/1000000177/t50_1000000177_detail_144.png'],\n",
       "  'color': '#',\n",
       "  'category': '러쉬 > 프로모션 > 발렌타인',\n",
       "  'salePrice': 14000,\n",
       "  'originalPrice': 14000,\n",
       "  'brand': 'lush',\n",
       "  'volume': '#'}]"
      ]
     },
     "metadata": {},
     "output_type": "display_data"
    },
    {
     "data": {
      "text/plain": [
       "[{'name': '매지컬 모링가',\n",
       "  'url': 'https://lush.co.kr/goods/goods_view.php?goodsNo=242',\n",
       "  'image': ['https://lush.co.kr/data/goods/17/06/01/242/t50_242_detail_087.png',\n",
       "   'https://lush.co.kr/data/goods/17/06/01/242/t50_242_detail_147.png'],\n",
       "  'color': '#',\n",
       "  'category': '러쉬 > 페이스 > 프라이머',\n",
       "  'salePrice': 54000,\n",
       "  'originalPrice': 54000,\n",
       "  'brand': 'lush',\n",
       "  'volume': '#'}]"
      ]
     },
     "metadata": {},
     "output_type": "display_data"
    },
    {
     "data": {
      "text/plain": [
       "[{'name': '드림 스팀',\n",
       "  'url': 'https://lush.co.kr/goods/goods_view.php?goodsNo=230',\n",
       "  'image': ['https://lush.co.kr/data/goods/17/05/10/230/t50_230_detail_094.png'],\n",
       "  'color': '#',\n",
       "  'category': '러쉬 > 페이스 > 토너',\n",
       "  'salePrice': 5000,\n",
       "  'originalPrice': 5000,\n",
       "  'brand': 'lush',\n",
       "  'volume': '#'}]"
      ]
     },
     "metadata": {},
     "output_type": "display_data"
    },
    {
     "data": {
      "text/plain": [
       "[{'name': '칼라마주',\n",
       "  'url': 'https://lush.co.kr/goods/goods_view.php?goodsNo=161',\n",
       "  'image': ['https://lush.co.kr/data/goods/15/04/24/161/t50_161_detail_040.png',\n",
       "   'https://lush.co.kr/data/goods/15/04/24/161/t50_161_detail_171.png',\n",
       "   'https://lush.co.kr/data/goods/15/04/24/161/t50_161_detail_245.png'],\n",
       "  'color': '#',\n",
       "  'category': '러쉬 > 페이스 > 클렌저',\n",
       "  'salePrice': 21000,\n",
       "  'originalPrice': 21000,\n",
       "  'brand': 'lush',\n",
       "  'volume': '90g'},\n",
       " {'name': '칼라마주',\n",
       "  'url': 'https://lush.co.kr/goods/goods_view.php?goodsNo=161',\n",
       "  'image': ['https://lush.co.kr/data/goods/15/04/24/161/t50_161_detail_040.png',\n",
       "   'https://lush.co.kr/data/goods/15/04/24/161/t50_161_detail_171.png',\n",
       "   'https://lush.co.kr/data/goods/15/04/24/161/t50_161_detail_245.png'],\n",
       "  'color': '#',\n",
       "  'category': '러쉬 > 페이스 > 클렌저',\n",
       "  'salePrice': 21000,\n",
       "  'originalPrice': 21000,\n",
       "  'brand': 'lush',\n",
       "  'volume': '230g:￦+19,000'}]"
      ]
     },
     "metadata": {},
     "output_type": "display_data"
    },
    {
     "data": {
      "text/plain": [
       "[{'name': '저스트 투 클래리파이',\n",
       "  'url': 'https://lush.co.kr/goods/goods_view.php?goodsNo=354',\n",
       "  'image': ['https://lush.co.kr/data/goods/17/12/08/354/t50_354_detail_018.png',\n",
       "   'https://lush.co.kr/data/goods/17/12/08/354/t50_354_detail_193.png'],\n",
       "  'color': '#',\n",
       "  'category': '러쉬 > 페이스 > 젤리 마스크',\n",
       "  'salePrice': 18000,\n",
       "  'originalPrice': 18000,\n",
       "  'brand': 'lush',\n",
       "  'volume': '#'}]"
      ]
     },
     "metadata": {},
     "output_type": "display_data"
    },
    {
     "data": {
      "text/plain": [
       "[{'name': '초콜릿',\n",
       "  'url': 'https://lush.co.kr/goods/goods_view.php?goodsNo=228',\n",
       "  'image': ['https://lush.co.kr/data/goods/17/03/28/228/t50_228_detail_038.png',\n",
       "   'https://lush.co.kr/data/goods/17/03/28/228/t50_228_detail_127.png'],\n",
       "  'color': '#',\n",
       "  'category': '러쉬 > 페이스 > 립',\n",
       "  'salePrice': 14000,\n",
       "  'originalPrice': 14000,\n",
       "  'brand': 'lush',\n",
       "  'volume': '#'}]"
      ]
     },
     "metadata": {},
     "output_type": "display_data"
    },
    {
     "data": {
      "text/plain": [
       "[{'name': '로즈 롤리팝',\n",
       "  'url': 'https://lush.co.kr/goods/goods_view.php?goodsNo=202',\n",
       "  'image': ['https://lush.co.kr/data/goods/16/05/09/202/t50_202_detail_077.png',\n",
       "   'https://lush.co.kr/data/goods/16/05/09/202/t50_202_detail_167.png'],\n",
       "  'color': '#',\n",
       "  'category': '러쉬 > 페이스 > 립',\n",
       "  'salePrice': 17000,\n",
       "  'originalPrice': 17000,\n",
       "  'brand': 'lush',\n",
       "  'volume': '#'}]"
      ]
     },
     "metadata": {},
     "output_type": "display_data"
    },
    {
     "data": {
      "text/plain": [
       "[{'name': '루돌프',\n",
       "  'url': 'https://lush.co.kr/goods/goods_view.php?goodsNo=521',\n",
       "  'image': ['https://lush.co.kr/data/goods/18/09/17/521/t50_521_detail_052.png',\n",
       "   'https://lush.co.kr/data/goods/18/09/17/521/t50_521_detail_157.png'],\n",
       "  'color': '#',\n",
       "  'category': '러쉬 > 페이스 > 젤리 마스크',\n",
       "  'salePrice': 18000,\n",
       "  'originalPrice': 18000,\n",
       "  'brand': 'lush',\n",
       "  'volume': '#'}]"
      ]
     },
     "metadata": {},
     "output_type": "display_data"
    },
    {
     "data": {
      "text/plain": [
       "[{'name': '대디-오',\n",
       "  'url': 'https://lush.co.kr/goods/goods_view.php?goodsNo=15',\n",
       "  'image': ['https://lush.co.kr/data/goods/11/01/20/15/t50_15_detail_060.png',\n",
       "   'https://lush.co.kr/data/goods/11/01/20/15/t50_15_detail_118.png',\n",
       "   'https://lush.co.kr/data/goods/11/01/20/15/t50_15_detail_295.png',\n",
       "   'https://lush.co.kr/data/goods/11/01/20/15/t50_15_detail_380.png'],\n",
       "  'color': '#',\n",
       "  'category': '러쉬 > 헤어 > 샴푸',\n",
       "  'salePrice': 19000,\n",
       "  'originalPrice': 19000,\n",
       "  'brand': 'lush',\n",
       "  'volume': '100g'},\n",
       " {'name': '대디-오',\n",
       "  'url': 'https://lush.co.kr/goods/goods_view.php?goodsNo=15',\n",
       "  'image': ['https://lush.co.kr/data/goods/11/01/20/15/t50_15_detail_060.png',\n",
       "   'https://lush.co.kr/data/goods/11/01/20/15/t50_15_detail_118.png',\n",
       "   'https://lush.co.kr/data/goods/11/01/20/15/t50_15_detail_295.png',\n",
       "   'https://lush.co.kr/data/goods/11/01/20/15/t50_15_detail_380.png'],\n",
       "  'color': '#',\n",
       "  'category': '러쉬 > 헤어 > 샴푸',\n",
       "  'salePrice': 19000,\n",
       "  'originalPrice': 19000,\n",
       "  'brand': 'lush',\n",
       "  'volume': '250g:￦+17,000'},\n",
       " {'name': '대디-오',\n",
       "  'url': 'https://lush.co.kr/goods/goods_view.php?goodsNo=15',\n",
       "  'image': ['https://lush.co.kr/data/goods/11/01/20/15/t50_15_detail_060.png',\n",
       "   'https://lush.co.kr/data/goods/11/01/20/15/t50_15_detail_118.png',\n",
       "   'https://lush.co.kr/data/goods/11/01/20/15/t50_15_detail_295.png',\n",
       "   'https://lush.co.kr/data/goods/11/01/20/15/t50_15_detail_380.png'],\n",
       "  'color': '#',\n",
       "  'category': '러쉬 > 헤어 > 샴푸',\n",
       "  'salePrice': 19000,\n",
       "  'originalPrice': 19000,\n",
       "  'brand': 'lush',\n",
       "  'volume': '500g:￦+43,000'}]"
      ]
     },
     "metadata": {},
     "output_type": "display_data"
    },
    {
     "data": {
      "text/plain": [
       "[{'name': '뉴',\n",
       "  'url': 'https://lush.co.kr/goods/goods_view.php?goodsNo=241',\n",
       "  'image': ['https://lush.co.kr/data/goods/17/05/30/241/t50_241_detail_031.png'],\n",
       "  'color': '#',\n",
       "  'category': '러쉬 > 헤어 > 샴푸 바',\n",
       "  'salePrice': 18000,\n",
       "  'originalPrice': 18000,\n",
       "  'brand': 'lush',\n",
       "  'volume': '#'}]"
      ]
     },
     "metadata": {},
     "output_type": "display_data"
    },
    {
     "data": {
      "text/plain": [
       "[{'name': '아메리칸 크림',\n",
       "  'url': 'https://lush.co.kr/goods/goods_view.php?goodsNo=54',\n",
       "  'image': ['https://lush.co.kr/data/goods/11/01/20/54/t50_54_detail_080.png',\n",
       "   'https://lush.co.kr/data/goods/11/01/20/54/t50_54_detail_131.png',\n",
       "   'https://lush.co.kr/data/goods/11/01/20/54/t50_54_detail_295.png',\n",
       "   'https://lush.co.kr/data/goods/11/01/20/54/t50_54_detail_365.png'],\n",
       "  'color': '#',\n",
       "  'category': '러쉬 > 헤어 > 컨디셔너',\n",
       "  'salePrice': 17000,\n",
       "  'originalPrice': 17000,\n",
       "  'brand': 'lush',\n",
       "  'volume': '100g'},\n",
       " {'name': '아메리칸 크림',\n",
       "  'url': 'https://lush.co.kr/goods/goods_view.php?goodsNo=54',\n",
       "  'image': ['https://lush.co.kr/data/goods/11/01/20/54/t50_54_detail_080.png',\n",
       "   'https://lush.co.kr/data/goods/11/01/20/54/t50_54_detail_131.png',\n",
       "   'https://lush.co.kr/data/goods/11/01/20/54/t50_54_detail_295.png',\n",
       "   'https://lush.co.kr/data/goods/11/01/20/54/t50_54_detail_365.png'],\n",
       "  'color': '#',\n",
       "  'category': '러쉬 > 헤어 > 컨디셔너',\n",
       "  'salePrice': 17000,\n",
       "  'originalPrice': 17000,\n",
       "  'brand': 'lush',\n",
       "  'volume': '250g:￦+15,000'},\n",
       " {'name': '아메리칸 크림',\n",
       "  'url': 'https://lush.co.kr/goods/goods_view.php?goodsNo=54',\n",
       "  'image': ['https://lush.co.kr/data/goods/11/01/20/54/t50_54_detail_080.png',\n",
       "   'https://lush.co.kr/data/goods/11/01/20/54/t50_54_detail_131.png',\n",
       "   'https://lush.co.kr/data/goods/11/01/20/54/t50_54_detail_295.png',\n",
       "   'https://lush.co.kr/data/goods/11/01/20/54/t50_54_detail_365.png'],\n",
       "  'color': '#',\n",
       "  'category': '러쉬 > 헤어 > 컨디셔너',\n",
       "  'salePrice': 17000,\n",
       "  'originalPrice': 17000,\n",
       "  'brand': 'lush',\n",
       "  'volume': '500g:￦+37,000'}]"
      ]
     },
     "metadata": {},
     "output_type": "display_data"
    },
    {
     "data": {
      "text/plain": [
       "[{'name': '리햅',\n",
       "  'url': 'https://lush.co.kr/goods/goods_view.php?goodsNo=22',\n",
       "  'image': ['https://lush.co.kr/data/goods/11/01/20/22/t50_22_detail_028.png',\n",
       "   'https://lush.co.kr/data/goods/11/01/20/22/t50_22_detail_188.png',\n",
       "   'https://lush.co.kr/data/goods/11/01/20/22/t50_22_detail_271.png',\n",
       "   'https://lush.co.kr/data/goods/11/01/20/22/t50_22_detail_315.png'],\n",
       "  'color': '#',\n",
       "  'category': '러쉬 > 헤어 > 샴푸',\n",
       "  'salePrice': 19000,\n",
       "  'originalPrice': 19000,\n",
       "  'brand': 'lush',\n",
       "  'volume': '100g'},\n",
       " {'name': '리햅',\n",
       "  'url': 'https://lush.co.kr/goods/goods_view.php?goodsNo=22',\n",
       "  'image': ['https://lush.co.kr/data/goods/11/01/20/22/t50_22_detail_028.png',\n",
       "   'https://lush.co.kr/data/goods/11/01/20/22/t50_22_detail_188.png',\n",
       "   'https://lush.co.kr/data/goods/11/01/20/22/t50_22_detail_271.png',\n",
       "   'https://lush.co.kr/data/goods/11/01/20/22/t50_22_detail_315.png'],\n",
       "  'color': '#',\n",
       "  'category': '러쉬 > 헤어 > 샴푸',\n",
       "  'salePrice': 19000,\n",
       "  'originalPrice': 19000,\n",
       "  'brand': 'lush',\n",
       "  'volume': '250g:￦+17,000'},\n",
       " {'name': '리햅',\n",
       "  'url': 'https://lush.co.kr/goods/goods_view.php?goodsNo=22',\n",
       "  'image': ['https://lush.co.kr/data/goods/11/01/20/22/t50_22_detail_028.png',\n",
       "   'https://lush.co.kr/data/goods/11/01/20/22/t50_22_detail_188.png',\n",
       "   'https://lush.co.kr/data/goods/11/01/20/22/t50_22_detail_271.png',\n",
       "   'https://lush.co.kr/data/goods/11/01/20/22/t50_22_detail_315.png'],\n",
       "  'color': '#',\n",
       "  'category': '러쉬 > 헤어 > 샴푸',\n",
       "  'salePrice': 19000,\n",
       "  'originalPrice': 19000,\n",
       "  'brand': 'lush',\n",
       "  'volume': '500g:￦+43,000'}]"
      ]
     },
     "metadata": {},
     "output_type": "display_data"
    },
    {
     "data": {
      "text/plain": [
       "[{'name': '카마 콤바',\n",
       "  'url': 'https://lush.co.kr/goods/goods_view.php?goodsNo=74',\n",
       "  'image': ['https://lush.co.kr/data/goods/11/01/20/74/t50_74_detail_094.png'],\n",
       "  'color': '#',\n",
       "  'category': '러쉬 > 헤어 > 샴푸 바',\n",
       "  'salePrice': 18000,\n",
       "  'originalPrice': 18000,\n",
       "  'brand': 'lush',\n",
       "  'volume': '#'}]"
      ]
     },
     "metadata": {},
     "output_type": "display_data"
    },
    {
     "data": {
      "text/plain": [
       "[{'name': '빅',\n",
       "  'url': 'https://lush.co.kr/goods/goods_view.php?goodsNo=38',\n",
       "  'image': ['https://lush.co.kr/data/goods/11/01/20/38/t50_38_detail_052.png',\n",
       "   'https://lush.co.kr/data/goods/11/01/20/38/t50_38_detail_189.png'],\n",
       "  'color': '#',\n",
       "  'category': '러쉬 > 헤어 > 샴푸',\n",
       "  'salePrice': 35000,\n",
       "  'originalPrice': 35000,\n",
       "  'brand': 'lush',\n",
       "  'volume': '#'}]"
      ]
     },
     "metadata": {},
     "output_type": "display_data"
    },
    {
     "data": {
      "text/plain": [
       "[{'name': '제이슨 앤 더 아르간 오일',\n",
       "  'url': 'https://lush.co.kr/goods/goods_view.php?goodsNo=157',\n",
       "  'image': ['https://lush.co.kr/data/goods/15/01/13/157/t50_157_detail_08.png'],\n",
       "  'color': '#',\n",
       "  'category': '러쉬 > 헤어 > 샴푸 바',\n",
       "  'salePrice': 18000,\n",
       "  'originalPrice': 18000,\n",
       "  'brand': 'lush',\n",
       "  'volume': '#'}]"
      ]
     },
     "metadata": {},
     "output_type": "display_data"
    },
    {
     "data": {
      "text/plain": [
       "[{'name': '베가니스',\n",
       "  'url': 'https://lush.co.kr/goods/goods_view.php?goodsNo=31',\n",
       "  'image': ['https://lush.co.kr/data/goods/11/01/20/31/t50_31_detail_057.png',\n",
       "   'https://lush.co.kr/data/goods/11/01/20/31/t50_31_detail_17.png',\n",
       "   'https://lush.co.kr/data/goods/11/01/20/31/t50_31_detail_297.png',\n",
       "   'https://lush.co.kr/data/goods/11/01/20/31/t50_31_detail_338.png'],\n",
       "  'color': '#',\n",
       "  'category': '러쉬 > 헤어 > 컨디셔너',\n",
       "  'salePrice': 15000,\n",
       "  'originalPrice': 15000,\n",
       "  'brand': 'lush',\n",
       "  'volume': '100g[품절]'},\n",
       " {'name': '베가니스',\n",
       "  'url': 'https://lush.co.kr/goods/goods_view.php?goodsNo=31',\n",
       "  'image': ['https://lush.co.kr/data/goods/11/01/20/31/t50_31_detail_057.png',\n",
       "   'https://lush.co.kr/data/goods/11/01/20/31/t50_31_detail_17.png',\n",
       "   'https://lush.co.kr/data/goods/11/01/20/31/t50_31_detail_297.png',\n",
       "   'https://lush.co.kr/data/goods/11/01/20/31/t50_31_detail_338.png'],\n",
       "  'color': '#',\n",
       "  'category': '러쉬 > 헤어 > 컨디셔너',\n",
       "  'salePrice': 15000,\n",
       "  'originalPrice': 15000,\n",
       "  'brand': 'lush',\n",
       "  'volume': '250g:￦+13,000[품절]'},\n",
       " {'name': '베가니스',\n",
       "  'url': 'https://lush.co.kr/goods/goods_view.php?goodsNo=31',\n",
       "  'image': ['https://lush.co.kr/data/goods/11/01/20/31/t50_31_detail_057.png',\n",
       "   'https://lush.co.kr/data/goods/11/01/20/31/t50_31_detail_17.png',\n",
       "   'https://lush.co.kr/data/goods/11/01/20/31/t50_31_detail_297.png',\n",
       "   'https://lush.co.kr/data/goods/11/01/20/31/t50_31_detail_338.png'],\n",
       "  'color': '#',\n",
       "  'category': '러쉬 > 헤어 > 컨디셔너',\n",
       "  'salePrice': 15000,\n",
       "  'originalPrice': 15000,\n",
       "  'brand': 'lush',\n",
       "  'volume': '500g:￦+31,000[품절]'}]"
      ]
     },
     "metadata": {},
     "output_type": "display_data"
    },
    {
     "data": {
      "text/plain": [
       "[{'name': '슈가 대디-오',\n",
       "  'url': 'https://lush.co.kr/goods/goods_view.php?goodsNo=207',\n",
       "  'image': ['https://lush.co.kr/data/goods/16/05/18/207/t50_207_detail_014.png'],\n",
       "  'color': '#',\n",
       "  'category': '러쉬 > 헤어 > 컨디셔너',\n",
       "  'salePrice': 18000,\n",
       "  'originalPrice': 18000,\n",
       "  'brand': 'lush',\n",
       "  'volume': '#'}]"
      ]
     },
     "metadata": {},
     "output_type": "display_data"
    },
    {
     "data": {
      "text/plain": [
       "[{'name': '씨닉',\n",
       "  'url': 'https://lush.co.kr/goods/goods_view.php?goodsNo=53',\n",
       "  'image': ['https://lush.co.kr/data/goods/11/01/20/53/t50_53_detail_091.png'],\n",
       "  'color': '#',\n",
       "  'category': '러쉬 > 헤어 > 샴푸 바',\n",
       "  'salePrice': 18000,\n",
       "  'originalPrice': 18000,\n",
       "  'brand': 'lush',\n",
       "  'volume': '#'}]"
      ]
     },
     "metadata": {},
     "output_type": "display_data"
    },
    {
     "data": {
      "text/plain": [
       "[{'name': '해피 해피 조이 조이',\n",
       "  'url': 'https://lush.co.kr/goods/goods_view.php?goodsNo=112',\n",
       "  'image': ['https://lush.co.kr/data/goods/13/04/01/112/t50_112_detail_077.png',\n",
       "   'https://lush.co.kr/data/goods/13/04/01/112/t50_112_detail_155.png',\n",
       "   'https://lush.co.kr/data/goods/13/04/01/112/t50_112_detail_227.png',\n",
       "   'https://lush.co.kr/data/goods/13/04/01/112/t50_112_detail_330.png'],\n",
       "  'color': '#',\n",
       "  'category': '러쉬 > 헤어 > 컨디셔너',\n",
       "  'salePrice': 29000,\n",
       "  'originalPrice': 29000,\n",
       "  'brand': 'lush',\n",
       "  'volume': '100g'},\n",
       " {'name': '해피 해피 조이 조이',\n",
       "  'url': 'https://lush.co.kr/goods/goods_view.php?goodsNo=112',\n",
       "  'image': ['https://lush.co.kr/data/goods/13/04/01/112/t50_112_detail_077.png',\n",
       "   'https://lush.co.kr/data/goods/13/04/01/112/t50_112_detail_155.png',\n",
       "   'https://lush.co.kr/data/goods/13/04/01/112/t50_112_detail_227.png',\n",
       "   'https://lush.co.kr/data/goods/13/04/01/112/t50_112_detail_330.png'],\n",
       "  'color': '#',\n",
       "  'category': '러쉬 > 헤어 > 컨디셔너',\n",
       "  'salePrice': 29000,\n",
       "  'originalPrice': 29000,\n",
       "  'brand': 'lush',\n",
       "  'volume': '250g:￦+27,000'},\n",
       " {'name': '해피 해피 조이 조이',\n",
       "  'url': 'https://lush.co.kr/goods/goods_view.php?goodsNo=112',\n",
       "  'image': ['https://lush.co.kr/data/goods/13/04/01/112/t50_112_detail_077.png',\n",
       "   'https://lush.co.kr/data/goods/13/04/01/112/t50_112_detail_155.png',\n",
       "   'https://lush.co.kr/data/goods/13/04/01/112/t50_112_detail_227.png',\n",
       "   'https://lush.co.kr/data/goods/13/04/01/112/t50_112_detail_330.png'],\n",
       "  'color': '#',\n",
       "  'category': '러쉬 > 헤어 > 컨디셔너',\n",
       "  'salePrice': 29000,\n",
       "  'originalPrice': 29000,\n",
       "  'brand': 'lush',\n",
       "  'volume': '500g:￦+71,000'}]"
      ]
     },
     "metadata": {},
     "output_type": "display_data"
    },
    {
     "data": {
      "text/plain": [
       "[{'name': '루츠',\n",
       "  'url': 'https://lush.co.kr/goods/goods_view.php?goodsNo=106',\n",
       "  'image': ['https://lush.co.kr/data/goods/13/01/22/106/t50_106_detail_041.png',\n",
       "   'https://lush.co.kr/data/goods/13/01/22/106/t50_106_detail_140.png'],\n",
       "  'color': '#',\n",
       "  'category': '러쉬 > 헤어',\n",
       "  'salePrice': 33000,\n",
       "  'originalPrice': 33000,\n",
       "  'brand': 'lush',\n",
       "  'volume': '#'}]"
      ]
     },
     "metadata": {},
     "output_type": "display_data"
    },
    {
     "data": {
      "text/plain": [
       "[{'name': '점핑 주니퍼',\n",
       "  'url': 'https://lush.co.kr/goods/goods_view.php?goodsNo=71',\n",
       "  'image': ['https://lush.co.kr/data/goods/11/01/20/71/t50_71_detail_08.png'],\n",
       "  'color': '#',\n",
       "  'category': '러쉬 > 헤어 > 샴푸 바',\n",
       "  'salePrice': 18000,\n",
       "  'originalPrice': 18000,\n",
       "  'brand': 'lush',\n",
       "  'volume': '#'}]"
      ]
     },
     "metadata": {},
     "output_type": "display_data"
    },
    {
     "data": {
      "text/plain": [
       "[{'name': '더티 스타일링 크림',\n",
       "  'url': 'https://lush.co.kr/goods/goods_view.php?goodsNo=95',\n",
       "  'image': ['https://lush.co.kr/data/goods/11/08/19/95/t50_95_detail_073.png',\n",
       "   'https://lush.co.kr/data/goods/11/08/19/95/t50_95_detail_114.png'],\n",
       "  'color': '#',\n",
       "  'category': '러쉬 > 헤어 > 스타일링',\n",
       "  'salePrice': 25000,\n",
       "  'originalPrice': 25000,\n",
       "  'brand': 'lush',\n",
       "  'volume': '#'}]"
      ]
     },
     "metadata": {},
     "output_type": "display_data"
    },
    {
     "data": {
      "text/plain": [
       "[{'name': '신시아 실비아 스타우트',\n",
       "  'url': 'https://lush.co.kr/goods/goods_view.php?goodsNo=48',\n",
       "  'image': ['https://lush.co.kr/data/goods/11/01/20/48/t50_48_detail_076.png',\n",
       "   'https://lush.co.kr/data/goods/11/01/20/48/t50_48_detail_182.png',\n",
       "   'https://lush.co.kr/data/goods/11/01/20/48/t50_48_detail_227.png',\n",
       "   'https://lush.co.kr/data/goods/11/01/20/48/t50_48_detail_370.png'],\n",
       "  'color': '#',\n",
       "  'category': '러쉬 > 프로모션 > 온라인 전용',\n",
       "  'salePrice': 15000,\n",
       "  'originalPrice': 15000,\n",
       "  'brand': 'lush',\n",
       "  'volume': '100g'},\n",
       " {'name': '신시아 실비아 스타우트',\n",
       "  'url': 'https://lush.co.kr/goods/goods_view.php?goodsNo=48',\n",
       "  'image': ['https://lush.co.kr/data/goods/11/01/20/48/t50_48_detail_076.png',\n",
       "   'https://lush.co.kr/data/goods/11/01/20/48/t50_48_detail_182.png',\n",
       "   'https://lush.co.kr/data/goods/11/01/20/48/t50_48_detail_227.png',\n",
       "   'https://lush.co.kr/data/goods/11/01/20/48/t50_48_detail_370.png'],\n",
       "  'color': '#',\n",
       "  'category': '러쉬 > 프로모션 > 온라인 전용',\n",
       "  'salePrice': 15000,\n",
       "  'originalPrice': 15000,\n",
       "  'brand': 'lush',\n",
       "  'volume': '250g:￦+15,000'},\n",
       " {'name': '신시아 실비아 스타우트',\n",
       "  'url': 'https://lush.co.kr/goods/goods_view.php?goodsNo=48',\n",
       "  'image': ['https://lush.co.kr/data/goods/11/01/20/48/t50_48_detail_076.png',\n",
       "   'https://lush.co.kr/data/goods/11/01/20/48/t50_48_detail_182.png',\n",
       "   'https://lush.co.kr/data/goods/11/01/20/48/t50_48_detail_227.png',\n",
       "   'https://lush.co.kr/data/goods/11/01/20/48/t50_48_detail_370.png'],\n",
       "  'color': '#',\n",
       "  'category': '러쉬 > 프로모션 > 온라인 전용',\n",
       "  'salePrice': 15000,\n",
       "  'originalPrice': 15000,\n",
       "  'brand': 'lush',\n",
       "  'volume': '500g:￦+35,000'}]"
      ]
     },
     "metadata": {},
     "output_type": "display_data"
    },
    {
     "data": {
      "text/plain": [
       "[{'name': '몬탈바노',\n",
       "  'url': 'https://lush.co.kr/goods/goods_view.php?goodsNo=195',\n",
       "  'image': ['https://lush.co.kr/data/goods/16/04/19/195/t50_195_detail_01.png'],\n",
       "  'color': '#',\n",
       "  'category': '러쉬 > 헤어 > 샴푸 바',\n",
       "  'salePrice': 18000,\n",
       "  'originalPrice': 18000,\n",
       "  'brand': 'lush',\n",
       "  'volume': '#'}]"
      ]
     },
     "metadata": {},
     "output_type": "display_data"
    },
    {
     "data": {
      "text/plain": [
       "[{'name': '아이 러브 쥬시',\n",
       "  'url': 'https://lush.co.kr/goods/goods_view.php?goodsNo=58',\n",
       "  'image': ['https://lush.co.kr/data/goods/11/01/20/58/t50_58_detail_057.png',\n",
       "   'https://lush.co.kr/data/goods/11/01/20/58/t50_58_detail_149.png',\n",
       "   'https://lush.co.kr/data/goods/11/01/20/58/t50_58_detail_253.png',\n",
       "   'https://lush.co.kr/data/goods/11/01/20/58/t50_58_detail_33.png'],\n",
       "  'color': '#',\n",
       "  'category': '러쉬 > 헤어 > 샴푸',\n",
       "  'salePrice': 17000,\n",
       "  'originalPrice': 17000,\n",
       "  'brand': 'lush',\n",
       "  'volume': '100g'},\n",
       " {'name': '아이 러브 쥬시',\n",
       "  'url': 'https://lush.co.kr/goods/goods_view.php?goodsNo=58',\n",
       "  'image': ['https://lush.co.kr/data/goods/11/01/20/58/t50_58_detail_057.png',\n",
       "   'https://lush.co.kr/data/goods/11/01/20/58/t50_58_detail_149.png',\n",
       "   'https://lush.co.kr/data/goods/11/01/20/58/t50_58_detail_253.png',\n",
       "   'https://lush.co.kr/data/goods/11/01/20/58/t50_58_detail_33.png'],\n",
       "  'color': '#',\n",
       "  'category': '러쉬 > 헤어 > 샴푸',\n",
       "  'salePrice': 17000,\n",
       "  'originalPrice': 17000,\n",
       "  'brand': 'lush',\n",
       "  'volume': '250g:￦+15,000'},\n",
       " {'name': '아이 러브 쥬시',\n",
       "  'url': 'https://lush.co.kr/goods/goods_view.php?goodsNo=58',\n",
       "  'image': ['https://lush.co.kr/data/goods/11/01/20/58/t50_58_detail_057.png',\n",
       "   'https://lush.co.kr/data/goods/11/01/20/58/t50_58_detail_149.png',\n",
       "   'https://lush.co.kr/data/goods/11/01/20/58/t50_58_detail_253.png',\n",
       "   'https://lush.co.kr/data/goods/11/01/20/58/t50_58_detail_33.png'],\n",
       "  'color': '#',\n",
       "  'category': '러쉬 > 헤어 > 샴푸',\n",
       "  'salePrice': 17000,\n",
       "  'originalPrice': 17000,\n",
       "  'brand': 'lush',\n",
       "  'volume': '500g:￦+37,000'}]"
      ]
     },
     "metadata": {},
     "output_type": "display_data"
    },
    {
     "data": {
      "text/plain": [
       "[{'name': '페얼리 트레이디드 허니',\n",
       "  'url': 'https://lush.co.kr/goods/goods_view.php?goodsNo=113',\n",
       "  'image': ['https://lush.co.kr/data/goods/13/04/01/113/t50_113_detail_074.png',\n",
       "   'https://lush.co.kr/data/goods/13/04/01/113/t50_113_detail_16.png',\n",
       "   'https://lush.co.kr/data/goods/13/04/01/113/t50_113_detail_250.png',\n",
       "   'https://lush.co.kr/data/goods/13/04/01/113/t50_113_detail_338.png'],\n",
       "  'color': '#',\n",
       "  'category': '러쉬 > 헤어 > 샴푸',\n",
       "  'salePrice': 25000,\n",
       "  'originalPrice': 25000,\n",
       "  'brand': 'lush',\n",
       "  'volume': '120g'},\n",
       " {'name': '페얼리 트레이디드 허니',\n",
       "  'url': 'https://lush.co.kr/goods/goods_view.php?goodsNo=113',\n",
       "  'image': ['https://lush.co.kr/data/goods/13/04/01/113/t50_113_detail_074.png',\n",
       "   'https://lush.co.kr/data/goods/13/04/01/113/t50_113_detail_16.png',\n",
       "   'https://lush.co.kr/data/goods/13/04/01/113/t50_113_detail_250.png',\n",
       "   'https://lush.co.kr/data/goods/13/04/01/113/t50_113_detail_338.png'],\n",
       "  'color': '#',\n",
       "  'category': '러쉬 > 헤어 > 샴푸',\n",
       "  'salePrice': 25000,\n",
       "  'originalPrice': 25000,\n",
       "  'brand': 'lush',\n",
       "  'volume': '310g:￦+23,000'},\n",
       " {'name': '페얼리 트레이디드 허니',\n",
       "  'url': 'https://lush.co.kr/goods/goods_view.php?goodsNo=113',\n",
       "  'image': ['https://lush.co.kr/data/goods/13/04/01/113/t50_113_detail_074.png',\n",
       "   'https://lush.co.kr/data/goods/13/04/01/113/t50_113_detail_16.png',\n",
       "   'https://lush.co.kr/data/goods/13/04/01/113/t50_113_detail_250.png',\n",
       "   'https://lush.co.kr/data/goods/13/04/01/113/t50_113_detail_338.png'],\n",
       "  'color': '#',\n",
       "  'category': '러쉬 > 헤어 > 샴푸',\n",
       "  'salePrice': 25000,\n",
       "  'originalPrice': 25000,\n",
       "  'brand': 'lush',\n",
       "  'volume': '620g:￦+61,000'}]"
      ]
     },
     "metadata": {},
     "output_type": "display_data"
    },
    {
     "data": {
      "text/plain": [
       "[{'name': '브라질리언트',\n",
       "  'url': 'https://lush.co.kr/goods/goods_view.php?goodsNo=155',\n",
       "  'image': ['https://lush.co.kr/data/goods/15/01/13/155/t50_155_detail_090.png'],\n",
       "  'color': '#',\n",
       "  'category': '러쉬 > 헤어 > 샴푸 바',\n",
       "  'salePrice': 18000,\n",
       "  'originalPrice': 18000,\n",
       "  'brand': 'lush',\n",
       "  'volume': '#'}]"
      ]
     },
     "metadata": {},
     "output_type": "display_data"
    },
    {
     "data": {
      "text/plain": [
       "[{'name': '알앤비',\n",
       "  'url': 'https://lush.co.kr/goods/goods_view.php?goodsNo=91',\n",
       "  'image': ['https://lush.co.kr/data/goods/11/03/30/91/t50_91_detail_072.png',\n",
       "   'https://lush.co.kr/data/goods/11/03/30/91/t50_91_detail_135.png',\n",
       "   'https://lush.co.kr/data/goods/11/03/30/91/t50_91_detail_211.png'],\n",
       "  'color': '#',\n",
       "  'category': '러쉬 > 헤어 > 스타일링',\n",
       "  'salePrice': 34000,\n",
       "  'originalPrice': 34000,\n",
       "  'brand': 'lush',\n",
       "  'volume': '100g'},\n",
       " {'name': '알앤비',\n",
       "  'url': 'https://lush.co.kr/goods/goods_view.php?goodsNo=91',\n",
       "  'image': ['https://lush.co.kr/data/goods/11/03/30/91/t50_91_detail_072.png',\n",
       "   'https://lush.co.kr/data/goods/11/03/30/91/t50_91_detail_135.png',\n",
       "   'https://lush.co.kr/data/goods/11/03/30/91/t50_91_detail_211.png'],\n",
       "  'color': '#',\n",
       "  'category': '러쉬 > 헤어 > 스타일링',\n",
       "  'salePrice': 34000,\n",
       "  'originalPrice': 34000,\n",
       "  'brand': 'lush',\n",
       "  'volume': '225g:￦+28,000'}]"
      ]
     },
     "metadata": {},
     "output_type": "display_data"
    },
    {
     "data": {
      "text/plain": [
       "[{'name': '자스민 앤 헤나 플러프-이즈',\n",
       "  'url': 'https://lush.co.kr/goods/goods_view.php?goodsNo=214',\n",
       "  'image': ['https://lush.co.kr/data/goods/16/06/21/214/t50_214_detail_069.png',\n",
       "   'https://lush.co.kr/data/goods/16/06/21/214/t50_214_detail_155.png'],\n",
       "  'color': '#',\n",
       "  'category': '러쉬 > 헤어 > 트리트먼트',\n",
       "  'salePrice': 36000,\n",
       "  'originalPrice': 36000,\n",
       "  'brand': 'lush',\n",
       "  'volume': '#'}]"
      ]
     },
     "metadata": {},
     "output_type": "display_data"
    },
    {
     "data": {
      "text/plain": [
       "[{'name': '허니 아이 워시드 마이 헤어',\n",
       "  'url': 'https://lush.co.kr/goods/goods_view.php?goodsNo=196',\n",
       "  'image': ['https://lush.co.kr/data/goods/16/04/19/196/t50_196_detail_012.png'],\n",
       "  'color': '#',\n",
       "  'category': '러쉬 > 헤어 > 샴푸 바',\n",
       "  'salePrice': 18000,\n",
       "  'originalPrice': 18000,\n",
       "  'brand': 'lush',\n",
       "  'volume': '#'}]"
      ]
     },
     "metadata": {},
     "output_type": "display_data"
    },
    {
     "data": {
      "text/plain": [
       "[{'name': '저지 바운스 280g',\n",
       "  'url': 'https://lush.co.kr/goods/goods_view.php?goodsNo=180',\n",
       "  'image': ['https://lush.co.kr/data/goods/16/03/21/180/t50_180_detail_080.png',\n",
       "   'https://lush.co.kr/data/goods/16/03/21/180/t50_180_detail_165.png'],\n",
       "  'color': '#',\n",
       "  'category': '러쉬 > 헤어 > 샴푸',\n",
       "  'salePrice': 35000,\n",
       "  'originalPrice': 35000,\n",
       "  'brand': 'lush',\n",
       "  'volume': '#'}]"
      ]
     },
     "metadata": {},
     "output_type": "display_data"
    },
    {
     "data": {
      "text/plain": [
       "[{'name': '럴러바이',\n",
       "  'url': 'https://lush.co.kr/goods/goods_view.php?goodsNo=158',\n",
       "  'image': ['https://lush.co.kr/data/goods/15/01/13/158/t50_158_detail_024.png'],\n",
       "  'color': '#',\n",
       "  'category': '러쉬 > 헤어 > 샴푸 바',\n",
       "  'salePrice': 18000,\n",
       "  'originalPrice': 18000,\n",
       "  'brand': 'lush',\n",
       "  'volume': '#'}]"
      ]
     },
     "metadata": {},
     "output_type": "display_data"
    },
    {
     "data": {
      "text/plain": [
       "[{'name': '정글',\n",
       "  'url': 'https://lush.co.kr/goods/goods_view.php?goodsNo=172',\n",
       "  'image': ['https://lush.co.kr/data/goods/16/02/18/172/t50_172_detail_013.png'],\n",
       "  'color': '#',\n",
       "  'category': '러쉬 > 헤어 > 컨디셔너',\n",
       "  'salePrice': 18000,\n",
       "  'originalPrice': 18000,\n",
       "  'brand': 'lush',\n",
       "  'volume': '#'}]"
      ]
     },
     "metadata": {},
     "output_type": "display_data"
    },
    {
     "data": {
      "text/plain": [
       "[{'name': '속 앤 플롯',\n",
       "  'url': 'https://lush.co.kr/goods/goods_view.php?goodsNo=171',\n",
       "  'image': ['https://lush.co.kr/data/goods/16/02/18/171/t50_171_detail_031.png'],\n",
       "  'color': '#',\n",
       "  'category': '러쉬 > 헤어 > 샴푸 바',\n",
       "  'salePrice': 18000,\n",
       "  'originalPrice': 18000,\n",
       "  'brand': 'lush',\n",
       "  'volume': '#'}]"
      ]
     },
     "metadata": {},
     "output_type": "display_data"
    },
    {
     "data": {
      "text/plain": [
       "[{'name': '블라우지',\n",
       "  'url': 'https://lush.co.kr/goods/goods_view.php?goodsNo=105',\n",
       "  'image': ['https://lush.co.kr/data/goods/13/01/21/105/t50_105_detail_015.png',\n",
       "   'https://lush.co.kr/data/goods/13/01/21/105/t50_105_detail_164.png'],\n",
       "  'color': '#',\n",
       "  'category': '러쉬 > 헤어 > 샴푸',\n",
       "  'salePrice': 43000,\n",
       "  'originalPrice': 43000,\n",
       "  'brand': 'lush',\n",
       "  'volume': '#'}]"
      ]
     },
     "metadata": {},
     "output_type": "display_data"
    },
    {
     "data": {
      "text/plain": [
       "[{'name': '빅',\n",
       "  'url': 'https://lush.co.kr/goods/goods_view.php?goodsNo=194',\n",
       "  'image': ['https://lush.co.kr/data/goods/16/04/14/194/t50_194_detail_036.png'],\n",
       "  'color': '#',\n",
       "  'category': '러쉬 > 헤어 > 컨디셔너',\n",
       "  'salePrice': 18000,\n",
       "  'originalPrice': 18000,\n",
       "  'brand': 'lush',\n",
       "  'volume': '#'}]"
      ]
     },
     "metadata": {},
     "output_type": "display_data"
    },
    {
     "data": {
      "text/plain": [
       "[{'name': '수안 웬 후아',\n",
       "  'url': 'https://lush.co.kr/goods/goods_view.php?goodsNo=44',\n",
       "  'image': ['https://lush.co.kr/data/goods/11/01/20/44/t50_44_detail_05.png',\n",
       "   'https://lush.co.kr/data/goods/11/01/20/44/t50_44_detail_158.png'],\n",
       "  'color': '#',\n",
       "  'category': '러쉬 > 헤어 > 트리트먼트',\n",
       "  'salePrice': 32000,\n",
       "  'originalPrice': 32000,\n",
       "  'brand': 'lush',\n",
       "  'volume': '#'}]"
      ]
     },
     "metadata": {},
     "output_type": "display_data"
    },
    {
     "data": {
      "text/plain": [
       "[{'name': '리트레드',\n",
       "  'url': 'https://lush.co.kr/goods/goods_view.php?goodsNo=21',\n",
       "  'image': ['https://lush.co.kr/data/goods/11/01/20/21/t50_21_detail_049.png',\n",
       "   'https://lush.co.kr/data/goods/11/01/20/21/t50_21_detail_139.png'],\n",
       "  'color': '#',\n",
       "  'category': '러쉬 > 헤어 > 컨디셔너',\n",
       "  'salePrice': 32000,\n",
       "  'originalPrice': 32000,\n",
       "  'brand': 'lush',\n",
       "  'volume': '#'}]"
      ]
     },
     "metadata": {},
     "output_type": "display_data"
    },
    {
     "data": {
      "text/plain": [
       "[{'name': '마릴린',\n",
       "  'url': 'https://lush.co.kr/goods/goods_view.php?goodsNo=25',\n",
       "  'image': ['https://lush.co.kr/data/goods/11/01/20/25/t50_25_detail_027.png',\n",
       "   'https://lush.co.kr/data/goods/11/01/20/25/t50_25_detail_196.png'],\n",
       "  'color': '#',\n",
       "  'category': '러쉬 > 헤어 > 트리트먼트',\n",
       "  'salePrice': 32000,\n",
       "  'originalPrice': 32000,\n",
       "  'brand': 'lush',\n",
       "  'volume': '#'}]"
      ]
     },
     "metadata": {},
     "output_type": "display_data"
    },
    {
     "data": {
      "text/plain": [
       "[{'name': '노 드라우트 50g',\n",
       "  'url': 'https://lush.co.kr/goods/goods_view.php?goodsNo=209',\n",
       "  'image': ['https://lush.co.kr/data/goods/16/06/13/209/t50_209_detail_017.png',\n",
       "   'https://lush.co.kr/data/goods/16/06/13/209/t50_209_detail_151.png'],\n",
       "  'color': '#',\n",
       "  'category': '러쉬 > 헤어 > 드라이 샴푸',\n",
       "  'salePrice': 12000,\n",
       "  'originalPrice': 12000,\n",
       "  'brand': 'lush',\n",
       "  'volume': '#'}]"
      ]
     },
     "metadata": {},
     "output_type": "display_data"
    },
    {
     "data": {
      "text/plain": [
       "[{'name': '샤인 소 브라이트',\n",
       "  'url': 'https://lush.co.kr/goods/goods_view.php?goodsNo=108',\n",
       "  'image': ['https://lush.co.kr/data/goods/13/01/22/108/t50_108_detail_013.png',\n",
       "   'https://lush.co.kr/data/goods/13/01/22/108/t50_108_detail_133.png'],\n",
       "  'color': '#',\n",
       "  'category': '러쉬 > 헤어 > 트리트먼트',\n",
       "  'salePrice': 13000,\n",
       "  'originalPrice': 13000,\n",
       "  'brand': 'lush',\n",
       "  'volume': '#'}]"
      ]
     },
     "metadata": {},
     "output_type": "display_data"
    },
    {
     "data": {
      "text/plain": [
       "[{'name': '고디바',\n",
       "  'url': 'https://lush.co.kr/goods/goods_view.php?goodsNo=11',\n",
       "  'image': ['https://lush.co.kr/data/goods/11/01/20/11/t50_11_detail_06.png'],\n",
       "  'color': '#',\n",
       "  'category': '러쉬 > 헤어 > 샴푸 바',\n",
       "  'salePrice': 18000,\n",
       "  'originalPrice': 18000,\n",
       "  'brand': 'lush',\n",
       "  'volume': '#'}]"
      ]
     },
     "metadata": {},
     "output_type": "display_data"
    },
    {
     "data": {
      "text/plain": [
       "[{'name': '써니 데이 100g',\n",
       "  'url': 'https://lush.co.kr/goods/goods_view.php?goodsNo=179',\n",
       "  'image': ['https://lush.co.kr/data/goods/16/03/21/179/t50_179_detail_081.png',\n",
       "   'https://lush.co.kr/data/goods/16/03/21/179/t50_179_detail_121.png'],\n",
       "  'color': '#',\n",
       "  'category': '러쉬 > 헤어 > 스타일링',\n",
       "  'salePrice': 32000,\n",
       "  'originalPrice': 32000,\n",
       "  'brand': 'lush',\n",
       "  'volume': '#'}]"
      ]
     },
     "metadata": {},
     "output_type": "display_data"
    },
    {
     "data": {
      "text/plain": [
       "[{'name': '마릴린',\n",
       "  'url': 'https://lush.co.kr/goods/goods_view.php?goodsNo=358',\n",
       "  'image': ['https://lush.co.kr/data/goods/17/12/14/358/t50_358_detail_06.png'],\n",
       "  'color': '#',\n",
       "  'category': '러쉬 > 헤어 > 트리트먼트',\n",
       "  'salePrice': 13000,\n",
       "  'originalPrice': 13000,\n",
       "  'brand': 'lush',\n",
       "  'volume': '#'}]"
      ]
     },
     "metadata": {},
     "output_type": "display_data"
    },
    {
     "data": {
      "text/plain": [
       "[{'name': '코퍼헤드',\n",
       "  'url': 'https://lush.co.kr/goods/goods_view.php?goodsNo=156',\n",
       "  'image': ['https://lush.co.kr/data/goods/15/01/13/156/t50_156_detail_079.png'],\n",
       "  'color': '#',\n",
       "  'category': '러쉬 > 헤어 > 샴푸 바',\n",
       "  'salePrice': 18000,\n",
       "  'originalPrice': 18000,\n",
       "  'brand': 'lush',\n",
       "  'volume': '#'}]"
      ]
     },
     "metadata": {},
     "output_type": "display_data"
    },
    {
     "data": {
      "text/plain": [
       "[{'name': '수퍼밤',\n",
       "  'url': 'https://lush.co.kr/goods/goods_view.php?goodsNo=109',\n",
       "  'image': ['https://lush.co.kr/data/goods/13/01/22/109/t50_109_detail_053.png',\n",
       "   'https://lush.co.kr/data/goods/13/01/22/109/t50_109_detail_137.png'],\n",
       "  'color': '#',\n",
       "  'category': '러쉬 > 헤어',\n",
       "  'salePrice': 37000,\n",
       "  'originalPrice': 37000,\n",
       "  'brand': 'lush',\n",
       "  'volume': '#'}]"
      ]
     },
     "metadata": {},
     "output_type": "display_data"
    },
    {
     "data": {
      "text/plain": [
       "[{'name': '아보카도 코-워시',\n",
       "  'url': 'https://lush.co.kr/goods/goods_view.php?goodsNo=181',\n",
       "  'image': ['https://lush.co.kr/data/goods/16/03/21/181/t50_181_detail_027.png'],\n",
       "  'color': '#',\n",
       "  'category': '러쉬 > 헤어 > 샴푸 바',\n",
       "  'salePrice': 25000,\n",
       "  'originalPrice': 25000,\n",
       "  'brand': 'lush',\n",
       "  'volume': '#'}]"
      ]
     },
     "metadata": {},
     "output_type": "display_data"
    },
    {
     "data": {
      "text/plain": [
       "[{'name': '데미지드',\n",
       "  'url': 'https://lush.co.kr/goods/goods_view.php?goodsNo=356',\n",
       "  'image': ['https://lush.co.kr/data/goods/17/12/08/356/t50_356_detail_026.png'],\n",
       "  'color': '#',\n",
       "  'category': '러쉬 > 헤어 > 트리트먼트',\n",
       "  'salePrice': 13000,\n",
       "  'originalPrice': 13000,\n",
       "  'brand': 'lush',\n",
       "  'volume': '#'}]"
      ]
     },
     "metadata": {},
     "output_type": "display_data"
    },
    {
     "data": {
      "text/plain": [
       "[{'name': '헤어 커스타드 85g',\n",
       "  'url': 'https://lush.co.kr/goods/goods_view.php?goodsNo=177',\n",
       "  'image': ['https://lush.co.kr/data/goods/16/03/18/177/t50_177_detail_065.png',\n",
       "   'https://lush.co.kr/data/goods/16/03/18/177/t50_177_detail_124.png'],\n",
       "  'color': '#',\n",
       "  'category': '러쉬 > 헤어 > 스타일링',\n",
       "  'salePrice': 37000,\n",
       "  'originalPrice': 37000,\n",
       "  'brand': 'lush',\n",
       "  'volume': '#'}]"
      ]
     },
     "metadata": {},
     "output_type": "display_data"
    },
    {
     "data": {
      "text/plain": [
       "[{'name': '컬리 월리',\n",
       "  'url': 'https://lush.co.kr/goods/goods_view.php?goodsNo=149',\n",
       "  'image': ['https://lush.co.kr/data/goods/14/12/01/149/t50_149_detail_033.png',\n",
       "   'https://lush.co.kr/data/goods/14/12/01/149/t50_149_detail_113.png'],\n",
       "  'color': '#',\n",
       "  'category': '러쉬 > 헤어 > 샴푸',\n",
       "  'salePrice': 33000,\n",
       "  'originalPrice': 33000,\n",
       "  'brand': 'lush',\n",
       "  'volume': '#'}]"
      ]
     },
     "metadata": {},
     "output_type": "display_data"
    },
    {
     "data": {
      "text/plain": [
       "[{'name': '노 드라우트 115g',\n",
       "  'url': 'https://lush.co.kr/goods/goods_view.php?goodsNo=129',\n",
       "  'image': ['https://lush.co.kr/data/goods/14/04/15/129/t50_129_detail_020.png',\n",
       "   'https://lush.co.kr/data/goods/14/04/15/129/t50_129_detail_190.png'],\n",
       "  'color': '#',\n",
       "  'category': '러쉬 > 헤어 > 드라이 샴푸',\n",
       "  'salePrice': 22000,\n",
       "  'originalPrice': 22000,\n",
       "  'brand': 'lush',\n",
       "  'volume': '#'}]"
      ]
     },
     "metadata": {},
     "output_type": "display_data"
    },
    {
     "data": {
      "text/plain": [
       "[{'name': '씨 스프레이',\n",
       "  'url': 'https://lush.co.kr/goods/goods_view.php?goodsNo=107',\n",
       "  'image': ['https://lush.co.kr/data/goods/13/01/22/107/t50_107_detail_039.png',\n",
       "   'https://lush.co.kr/data/goods/13/01/22/107/t50_107_detail_11.png'],\n",
       "  'color': '#',\n",
       "  'category': '러쉬 > 헤어 > 스타일링',\n",
       "  'salePrice': 32000,\n",
       "  'originalPrice': 32000,\n",
       "  'brand': 'lush',\n",
       "  'volume': '#'}]"
      ]
     },
     "metadata": {},
     "output_type": "display_data"
    },
    {
     "data": {
      "text/plain": [
       "[{'name': '유즈',\n",
       "  'url': 'https://lush.co.kr/goods/goods_view.php?goodsNo=360',\n",
       "  'image': ['https://lush.co.kr/data/goods/17/12/14/360/t50_360_detail_058.png'],\n",
       "  'color': '#',\n",
       "  'category': '러쉬 > 헤어 > 트리트먼트',\n",
       "  'salePrice': 13000,\n",
       "  'originalPrice': 13000,\n",
       "  'brand': 'lush',\n",
       "  'volume': '#'}]"
      ]
     },
     "metadata": {},
     "output_type": "display_data"
    },
    {
     "data": {
      "text/plain": [
       "[{'name': '퀸 비',\n",
       "  'url': 'https://lush.co.kr/goods/goods_view.php?goodsNo=178',\n",
       "  'image': ['https://lush.co.kr/data/goods/16/03/21/178/t50_178_detail_05.png'],\n",
       "  'color': '#',\n",
       "  'category': '러쉬 > 헤어 > 스타일링',\n",
       "  'salePrice': 28000,\n",
       "  'originalPrice': 28000,\n",
       "  'brand': 'lush',\n",
       "  'volume': '#'}]"
      ]
     },
     "metadata": {},
     "output_type": "display_data"
    },
    {
     "data": {
      "text/plain": [
       "[{'name': '뉴',\n",
       "  'url': 'https://lush.co.kr/goods/goods_view.php?goodsNo=359',\n",
       "  'image': ['https://lush.co.kr/data/goods/17/12/14/359/t50_359_detail_029.png'],\n",
       "  'color': '#',\n",
       "  'category': '러쉬',\n",
       "  'salePrice': 13000,\n",
       "  'originalPrice': 13000,\n",
       "  'brand': 'lush',\n",
       "  'volume': '#'}]"
      ]
     },
     "metadata": {},
     "output_type": "display_data"
    },
    {
     "data": {
      "text/plain": [
       "[{'name': '헤어 닥터',\n",
       "  'url': 'https://lush.co.kr/goods/goods_view.php?goodsNo=357',\n",
       "  'image': ['https://lush.co.kr/data/goods/17/12/08/357/t50_357_detail_084.png'],\n",
       "  'color': '#',\n",
       "  'category': '러쉬 > 헤어 > 트리트먼트',\n",
       "  'salePrice': 13000,\n",
       "  'originalPrice': 13000,\n",
       "  'brand': 'lush',\n",
       "  'volume': '#'}]"
      ]
     },
     "metadata": {},
     "output_type": "display_data"
    },
    {
     "data": {
      "text/plain": [
       "[{'name': '슬랩 스틱 40N',\n",
       "  'url': 'https://lush.co.kr/goods/goods_view.php?goodsNo=1000000068',\n",
       "  'image': ['https://lush.co.kr/data/goods/18/11/48/1000000068/t50_1000000068_detail_078.png'],\n",
       "  'color': '#',\n",
       "  'category': '러쉬 > 프로모션',\n",
       "  'salePrice': 34000,\n",
       "  'originalPrice': 34000,\n",
       "  'brand': 'lush',\n",
       "  'volume': '#'}]"
      ]
     },
     "metadata": {},
     "output_type": "display_data"
    },
    {
     "data": {
      "text/plain": [
       "[{'name': '필링 영거',\n",
       "  'url': 'https://lush.co.kr/goods/goods_view.php?goodsNo=385',\n",
       "  'image': ['https://lush.co.kr/data/goods/18/03/12/385/t50_385_detail_085.png',\n",
       "   'https://lush.co.kr/data/goods/18/03/12/385/t50_385_detail_186.png'],\n",
       "  'color': '#',\n",
       "  'category': '러쉬 > 메이크업 > 블러쉬',\n",
       "  'salePrice': 26000,\n",
       "  'originalPrice': 26000,\n",
       "  'brand': 'lush',\n",
       "  'volume': '#'}]"
      ]
     },
     "metadata": {},
     "output_type": "display_data"
    },
    {
     "data": {
      "text/plain": [
       "[{'name': '슬랩 스틱 9W',\n",
       "  'url': 'https://lush.co.kr/goods/goods_view.php?goodsNo=1000000037',\n",
       "  'image': ['https://lush.co.kr/data/goods/18/11/48/1000000037/t50_1000000037_detail_081.png'],\n",
       "  'color': '#',\n",
       "  'category': '러쉬 > 프로모션',\n",
       "  'salePrice': 34000,\n",
       "  'originalPrice': 34000,\n",
       "  'brand': 'lush',\n",
       "  'volume': '#'}]"
      ]
     },
     "metadata": {},
     "output_type": "display_data"
    },
    {
     "data": {
      "text/plain": [
       "[{'name': '슬랩 스틱 1C',\n",
       "  'url': 'https://lush.co.kr/goods/goods_view.php?goodsNo=1000000029',\n",
       "  'image': ['https://lush.co.kr/data/goods/18/11/48/1000000029/t50_1000000029_detail_040.png'],\n",
       "  'color': '#',\n",
       "  'category': '러쉬 > 프로모션',\n",
       "  'salePrice': 34000,\n",
       "  'originalPrice': 34000,\n",
       "  'brand': 'lush',\n",
       "  'volume': '#'}]"
      ]
     },
     "metadata": {},
     "output_type": "display_data"
    },
    {
     "data": {
      "text/plain": [
       "[{'name': '이모셔널 브릴리언스',\n",
       "  'url': 'https://lush.co.kr/goods/goods_view.php?goodsNo=388',\n",
       "  'image': ['https://lush.co.kr/data/goods/18/03/12/388/t50_388_detail_065.png',\n",
       "   'https://lush.co.kr/data/goods/18/03/12/388/t50_388_detail_174.png'],\n",
       "  'color': '#',\n",
       "  'category': '러쉬 > 메이크업 > 블러쉬',\n",
       "  'salePrice': 28000,\n",
       "  'originalPrice': 28000,\n",
       "  'brand': 'lush',\n",
       "  'volume': '#'}]"
      ]
     },
     "metadata": {},
     "output_type": "display_data"
    },
    {
     "data": {
      "text/plain": [
       "[{'name': '슬랩 스틱 10C',\n",
       "  'url': 'https://lush.co.kr/goods/goods_view.php?goodsNo=1000000038',\n",
       "  'image': ['https://lush.co.kr/data/goods/18/11/48/1000000038/t50_1000000038_detail_052.png'],\n",
       "  'color': '#',\n",
       "  'category': '러쉬 > 프로모션',\n",
       "  'salePrice': 34000,\n",
       "  'originalPrice': 34000,\n",
       "  'brand': 'lush',\n",
       "  'volume': '#'}]"
      ]
     },
     "metadata": {},
     "output_type": "display_data"
    },
    {
     "data": {
      "text/plain": [
       "[{'name': '슬랩 스틱 4C',\n",
       "  'url': 'https://lush.co.kr/goods/goods_view.php?goodsNo=1000000032',\n",
       "  'image': ['https://lush.co.kr/data/goods/18/11/48/1000000032/t50_1000000032_detail_098.png'],\n",
       "  'color': '#',\n",
       "  'category': '러쉬 > 프로모션',\n",
       "  'salePrice': 34000,\n",
       "  'originalPrice': 34000,\n",
       "  'brand': 'lush',\n",
       "  'volume': '#'}]"
      ]
     },
     "metadata": {},
     "output_type": "display_data"
    },
    {
     "data": {
      "text/plain": [
       "[{'name': '슬랩 스틱 7C',\n",
       "  'url': 'https://lush.co.kr/goods/goods_view.php?goodsNo=1000000035',\n",
       "  'image': ['https://lush.co.kr/data/goods/18/11/48/1000000035/t50_1000000035_detail_015.png'],\n",
       "  'color': '#',\n",
       "  'category': '러쉬 > 프로모션',\n",
       "  'salePrice': 34000,\n",
       "  'originalPrice': 34000,\n",
       "  'brand': 'lush',\n",
       "  'volume': '#'}]"
      ]
     },
     "metadata": {},
     "output_type": "display_data"
    },
    {
     "data": {
      "text/plain": [
       "[{'name': '슬랩 스틱 12W',\n",
       "  'url': 'https://lush.co.kr/goods/goods_view.php?goodsNo=1000000040',\n",
       "  'image': ['https://lush.co.kr/data/goods/18/11/48/1000000040/t50_1000000040_detail_011.png'],\n",
       "  'color': '#',\n",
       "  'category': '러쉬 > 프로모션',\n",
       "  'salePrice': 34000,\n",
       "  'originalPrice': 34000,\n",
       "  'brand': 'lush',\n",
       "  'volume': '#'}]"
      ]
     },
     "metadata": {},
     "output_type": "display_data"
    },
    {
     "data": {
      "text/plain": [
       "[{'name': '슬랩 스틱 23N',\n",
       "  'url': 'https://lush.co.kr/goods/goods_view.php?goodsNo=1000000051',\n",
       "  'image': ['https://lush.co.kr/data/goods/18/11/48/1000000051/t50_1000000051_detail_044.png'],\n",
       "  'color': '#',\n",
       "  'category': '러쉬 > 프로모션',\n",
       "  'salePrice': 34000,\n",
       "  'originalPrice': 34000,\n",
       "  'brand': 'lush',\n",
       "  'volume': '#'}]"
      ]
     },
     "metadata": {},
     "output_type": "display_data"
    },
    {
     "data": {
      "text/plain": [
       "[{'name': '슬랩 스틱 2N',\n",
       "  'url': 'https://lush.co.kr/goods/goods_view.php?goodsNo=1000000030',\n",
       "  'image': ['https://lush.co.kr/data/goods/18/11/48/1000000030/t50_1000000030_detail_024.png'],\n",
       "  'color': '#',\n",
       "  'category': '러쉬 > 프로모션',\n",
       "  'salePrice': 34000,\n",
       "  'originalPrice': 34000,\n",
       "  'brand': 'lush',\n",
       "  'volume': '#'}]"
      ]
     },
     "metadata": {},
     "output_type": "display_data"
    },
    {
     "data": {
      "text/plain": [
       "[{'name': '슬랩 스틱 36C',\n",
       "  'url': 'https://lush.co.kr/goods/goods_view.php?goodsNo=1000000064',\n",
       "  'image': ['https://lush.co.kr/data/goods/18/11/48/1000000064/t50_1000000064_detail_076.png'],\n",
       "  'color': '#',\n",
       "  'category': '러쉬 > 프로모션',\n",
       "  'salePrice': 34000,\n",
       "  'originalPrice': 34000,\n",
       "  'brand': 'lush',\n",
       "  'volume': '#'}]"
      ]
     },
     "metadata": {},
     "output_type": "display_data"
    },
    {
     "data": {
      "text/plain": [
       "[{'name': '슬랩 스틱 14N',\n",
       "  'url': 'https://lush.co.kr/goods/goods_view.php?goodsNo=1000000042',\n",
       "  'image': ['https://lush.co.kr/data/goods/18/11/48/1000000042/t50_1000000042_detail_024.png'],\n",
       "  'color': '#',\n",
       "  'category': '러쉬 > 프로모션',\n",
       "  'salePrice': 34000,\n",
       "  'originalPrice': 34000,\n",
       "  'brand': 'lush',\n",
       "  'volume': '#'}]"
      ]
     },
     "metadata": {},
     "output_type": "display_data"
    },
    {
     "data": {
      "text/plain": [
       "[{'name': '슬랩 스틱 15W',\n",
       "  'url': 'https://lush.co.kr/goods/goods_view.php?goodsNo=1000000043',\n",
       "  'image': ['https://lush.co.kr/data/goods/18/11/48/1000000043/t50_1000000043_detail_086.png'],\n",
       "  'color': '#',\n",
       "  'category': '러쉬 > 프로모션',\n",
       "  'salePrice': 34000,\n",
       "  'originalPrice': 34000,\n",
       "  'brand': 'lush',\n",
       "  'volume': '#'}]"
      ]
     },
     "metadata": {},
     "output_type": "display_data"
    },
    {
     "data": {
      "text/plain": [
       "[{'name': '슬랩 스틱 39N',\n",
       "  'url': 'https://lush.co.kr/goods/goods_view.php?goodsNo=1000000067',\n",
       "  'image': ['https://lush.co.kr/data/goods/18/11/48/1000000067/t50_1000000067_detail_081.png'],\n",
       "  'color': '#',\n",
       "  'category': '러쉬 > 프로모션',\n",
       "  'salePrice': 34000,\n",
       "  'originalPrice': 34000,\n",
       "  'brand': 'lush',\n",
       "  'volume': '#'}]"
      ]
     },
     "metadata": {},
     "output_type": "display_data"
    },
    {
     "data": {
      "text/plain": [
       "[{'name': '슬랩 스틱 38N',\n",
       "  'url': 'https://lush.co.kr/goods/goods_view.php?goodsNo=1000000066',\n",
       "  'image': ['https://lush.co.kr/data/goods/18/11/48/1000000066/t50_1000000066_detail_032.png'],\n",
       "  'color': '#',\n",
       "  'category': '러쉬 > 프로모션',\n",
       "  'salePrice': 34000,\n",
       "  'originalPrice': 34000,\n",
       "  'brand': 'lush',\n",
       "  'volume': '#'}]"
      ]
     },
     "metadata": {},
     "output_type": "display_data"
    },
    {
     "data": {
      "text/plain": [
       "[{'name': '슬랩 스틱 37C',\n",
       "  'url': 'https://lush.co.kr/goods/goods_view.php?goodsNo=1000000065',\n",
       "  'image': ['https://lush.co.kr/data/goods/18/11/48/1000000065/t50_1000000065_detail_03.png'],\n",
       "  'color': '#',\n",
       "  'category': '러쉬 > 프로모션',\n",
       "  'salePrice': 34000,\n",
       "  'originalPrice': 34000,\n",
       "  'brand': 'lush',\n",
       "  'volume': '#'}]"
      ]
     },
     "metadata": {},
     "output_type": "display_data"
    },
    {
     "data": {
      "text/plain": [
       "[{'name': '슬랩 스틱 35W',\n",
       "  'url': 'https://lush.co.kr/goods/goods_view.php?goodsNo=1000000063',\n",
       "  'image': ['https://lush.co.kr/data/goods/18/11/48/1000000063/t50_1000000063_detail_032.png'],\n",
       "  'color': '#',\n",
       "  'category': '러쉬 > 프로모션',\n",
       "  'salePrice': 34000,\n",
       "  'originalPrice': 34000,\n",
       "  'brand': 'lush',\n",
       "  'volume': '#'}]"
      ]
     },
     "metadata": {},
     "output_type": "display_data"
    },
    {
     "data": {
      "text/plain": [
       "[{'name': '슬랩 스틱 34C',\n",
       "  'url': 'https://lush.co.kr/goods/goods_view.php?goodsNo=1000000062',\n",
       "  'image': ['https://lush.co.kr/data/goods/18/11/48/1000000062/t50_1000000062_detail_052.png'],\n",
       "  'color': '#',\n",
       "  'category': '러쉬 > 프로모션',\n",
       "  'salePrice': 34000,\n",
       "  'originalPrice': 34000,\n",
       "  'brand': 'lush',\n",
       "  'volume': '#'}]"
      ]
     },
     "metadata": {},
     "output_type": "display_data"
    },
    {
     "data": {
      "text/plain": [
       "[{'name': '슬랩 스틱 33W',\n",
       "  'url': 'https://lush.co.kr/goods/goods_view.php?goodsNo=1000000061',\n",
       "  'image': ['https://lush.co.kr/data/goods/18/11/48/1000000061/t50_1000000061_detail_060.png'],\n",
       "  'color': '#',\n",
       "  'category': '러쉬 > 프로모션',\n",
       "  'salePrice': 34000,\n",
       "  'originalPrice': 34000,\n",
       "  'brand': 'lush',\n",
       "  'volume': '#'}]"
      ]
     },
     "metadata": {},
     "output_type": "display_data"
    },
    {
     "data": {
      "text/plain": [
       "[{'name': '슬랩 스틱 32C',\n",
       "  'url': 'https://lush.co.kr/goods/goods_view.php?goodsNo=1000000060',\n",
       "  'image': ['https://lush.co.kr/data/goods/18/11/48/1000000060/t50_1000000060_detail_086.png'],\n",
       "  'color': '#',\n",
       "  'category': '러쉬 > 프로모션',\n",
       "  'salePrice': 34000,\n",
       "  'originalPrice': 34000,\n",
       "  'brand': 'lush',\n",
       "  'volume': '#'}]"
      ]
     },
     "metadata": {},
     "output_type": "display_data"
    },
    {
     "data": {
      "text/plain": [
       "[{'name': '슬랩 스틱 31N',\n",
       "  'url': 'https://lush.co.kr/goods/goods_view.php?goodsNo=1000000059',\n",
       "  'image': ['https://lush.co.kr/data/goods/18/11/48/1000000059/t50_1000000059_detail_023.png'],\n",
       "  'color': '#',\n",
       "  'category': '러쉬 > 프로모션',\n",
       "  'salePrice': 34000,\n",
       "  'originalPrice': 34000,\n",
       "  'brand': 'lush',\n",
       "  'volume': '#'}]"
      ]
     },
     "metadata": {},
     "output_type": "display_data"
    },
    {
     "data": {
      "text/plain": [
       "[{'name': '슬랩 스틱 30W',\n",
       "  'url': 'https://lush.co.kr/goods/goods_view.php?goodsNo=1000000058',\n",
       "  'image': ['https://lush.co.kr/data/goods/18/11/48/1000000058/t50_1000000058_detail_075.png'],\n",
       "  'color': '#',\n",
       "  'category': '러쉬 > 프로모션',\n",
       "  'salePrice': 34000,\n",
       "  'originalPrice': 34000,\n",
       "  'brand': 'lush',\n",
       "  'volume': '#'}]"
      ]
     },
     "metadata": {},
     "output_type": "display_data"
    },
    {
     "data": {
      "text/plain": [
       "[{'name': '슬랩 스틱 29N',\n",
       "  'url': 'https://lush.co.kr/goods/goods_view.php?goodsNo=1000000057',\n",
       "  'image': ['https://lush.co.kr/data/goods/18/11/48/1000000057/t50_1000000057_detail_064.png'],\n",
       "  'color': '#',\n",
       "  'category': '러쉬 > 프로모션',\n",
       "  'salePrice': 34000,\n",
       "  'originalPrice': 34000,\n",
       "  'brand': 'lush',\n",
       "  'volume': '#'}]"
      ]
     },
     "metadata": {},
     "output_type": "display_data"
    },
    {
     "data": {
      "text/plain": [
       "[{'name': '슬랩 스틱 28C',\n",
       "  'url': 'https://lush.co.kr/goods/goods_view.php?goodsNo=1000000056',\n",
       "  'image': ['https://lush.co.kr/data/goods/18/11/48/1000000056/t50_1000000056_detail_0100.png'],\n",
       "  'color': '#',\n",
       "  'category': '러쉬 > 프로모션',\n",
       "  'salePrice': 34000,\n",
       "  'originalPrice': 34000,\n",
       "  'brand': 'lush',\n",
       "  'volume': '#'}]"
      ]
     },
     "metadata": {},
     "output_type": "display_data"
    },
    {
     "data": {
      "text/plain": [
       "[{'name': '슬랩 스틱 27C',\n",
       "  'url': 'https://lush.co.kr/goods/goods_view.php?goodsNo=1000000055',\n",
       "  'image': ['https://lush.co.kr/data/goods/18/11/48/1000000055/t50_1000000055_detail_075.png'],\n",
       "  'color': '#',\n",
       "  'category': '러쉬 > 프로모션',\n",
       "  'salePrice': 34000,\n",
       "  'originalPrice': 34000,\n",
       "  'brand': 'lush',\n",
       "  'volume': '#'}]"
      ]
     },
     "metadata": {},
     "output_type": "display_data"
    },
    {
     "data": {
      "text/plain": [
       "[{'name': '슬랩 스틱 26N',\n",
       "  'url': 'https://lush.co.kr/goods/goods_view.php?goodsNo=1000000054',\n",
       "  'image': ['https://lush.co.kr/data/goods/18/11/48/1000000054/t50_1000000054_detail_07.png'],\n",
       "  'color': '#',\n",
       "  'category': '러쉬 > 프로모션',\n",
       "  'salePrice': 34000,\n",
       "  'originalPrice': 34000,\n",
       "  'brand': 'lush',\n",
       "  'volume': '#'}]"
      ]
     },
     "metadata": {},
     "output_type": "display_data"
    },
    {
     "data": {
      "text/plain": [
       "[{'name': '슬랩 스틱 25W',\n",
       "  'url': 'https://lush.co.kr/goods/goods_view.php?goodsNo=1000000053',\n",
       "  'image': ['https://lush.co.kr/data/goods/18/11/48/1000000053/t50_1000000053_detail_077.png'],\n",
       "  'color': '#',\n",
       "  'category': '러쉬 > 프로모션',\n",
       "  'salePrice': 34000,\n",
       "  'originalPrice': 34000,\n",
       "  'brand': 'lush',\n",
       "  'volume': '#'}]"
      ]
     },
     "metadata": {},
     "output_type": "display_data"
    },
    {
     "data": {
      "text/plain": [
       "[{'name': '슬랩 스틱 24W',\n",
       "  'url': 'https://lush.co.kr/goods/goods_view.php?goodsNo=1000000052',\n",
       "  'image': ['https://lush.co.kr/data/goods/18/11/48/1000000052/t50_1000000052_detail_085.png'],\n",
       "  'color': '#',\n",
       "  'category': '러쉬 > 프로모션',\n",
       "  'salePrice': 34000,\n",
       "  'originalPrice': 34000,\n",
       "  'brand': 'lush',\n",
       "  'volume': '#'}]"
      ]
     },
     "metadata": {},
     "output_type": "display_data"
    },
    {
     "data": {
      "text/plain": [
       "[{'name': '슬랩 스틱 22C',\n",
       "  'url': 'https://lush.co.kr/goods/goods_view.php?goodsNo=1000000050',\n",
       "  'image': ['https://lush.co.kr/data/goods/18/11/48/1000000050/t50_1000000050_detail_082.png'],\n",
       "  'color': '#',\n",
       "  'category': '러쉬 > 프로모션',\n",
       "  'salePrice': 34000,\n",
       "  'originalPrice': 34000,\n",
       "  'brand': 'lush',\n",
       "  'volume': '#'}]"
      ]
     },
     "metadata": {},
     "output_type": "display_data"
    },
    {
     "data": {
      "text/plain": [
       "[{'name': '슬랩 스틱 21W',\n",
       "  'url': 'https://lush.co.kr/goods/goods_view.php?goodsNo=1000000049',\n",
       "  'image': ['https://lush.co.kr/data/goods/18/11/48/1000000049/t50_1000000049_detail_032.png'],\n",
       "  'color': '#',\n",
       "  'category': '러쉬 > 프로모션',\n",
       "  'salePrice': 34000,\n",
       "  'originalPrice': 34000,\n",
       "  'brand': 'lush',\n",
       "  'volume': '#'}]"
      ]
     },
     "metadata": {},
     "output_type": "display_data"
    },
    {
     "data": {
      "text/plain": [
       "[{'name': '슬랩 스틱 19W',\n",
       "  'url': 'https://lush.co.kr/goods/goods_view.php?goodsNo=1000000047',\n",
       "  'image': ['https://lush.co.kr/data/goods/18/11/48/1000000047/t50_1000000047_detail_051.png'],\n",
       "  'color': '#',\n",
       "  'category': '러쉬 > 프로모션',\n",
       "  'salePrice': 34000,\n",
       "  'originalPrice': 34000,\n",
       "  'brand': 'lush',\n",
       "  'volume': '#'}]"
      ]
     },
     "metadata": {},
     "output_type": "display_data"
    },
    {
     "data": {
      "text/plain": [
       "[{'name': '슬랩 스틱 18C',\n",
       "  'url': 'https://lush.co.kr/goods/goods_view.php?goodsNo=1000000046',\n",
       "  'image': ['https://lush.co.kr/data/goods/18/11/48/1000000046/t50_1000000046_detail_050.png'],\n",
       "  'color': '#',\n",
       "  'category': '러쉬 > 프로모션',\n",
       "  'salePrice': 34000,\n",
       "  'originalPrice': 34000,\n",
       "  'brand': 'lush',\n",
       "  'volume': '#'}]"
      ]
     },
     "metadata": {},
     "output_type": "display_data"
    },
    {
     "data": {
      "text/plain": [
       "[{'name': '슬랩 스틱 17N',\n",
       "  'url': 'https://lush.co.kr/goods/goods_view.php?goodsNo=1000000045',\n",
       "  'image': ['https://lush.co.kr/data/goods/18/11/48/1000000045/t50_1000000045_detail_041.png'],\n",
       "  'color': '#',\n",
       "  'category': '러쉬 > 프로모션',\n",
       "  'salePrice': 34000,\n",
       "  'originalPrice': 34000,\n",
       "  'brand': 'lush',\n",
       "  'volume': '#'}]"
      ]
     },
     "metadata": {},
     "output_type": "display_data"
    },
    {
     "data": {
      "text/plain": [
       "[{'name': '슬랩 스틱 16W',\n",
       "  'url': 'https://lush.co.kr/goods/goods_view.php?goodsNo=1000000044',\n",
       "  'image': ['https://lush.co.kr/data/goods/18/11/48/1000000044/t50_1000000044_detail_08.png'],\n",
       "  'color': '#',\n",
       "  'category': '러쉬 > 프로모션',\n",
       "  'salePrice': 34000,\n",
       "  'originalPrice': 34000,\n",
       "  'brand': 'lush',\n",
       "  'volume': '#'}]"
      ]
     },
     "metadata": {},
     "output_type": "display_data"
    },
    {
     "data": {
      "text/plain": [
       "[{'name': '슬랩 스틱 13C',\n",
       "  'url': 'https://lush.co.kr/goods/goods_view.php?goodsNo=1000000041',\n",
       "  'image': ['https://lush.co.kr/data/goods/18/11/48/1000000041/t50_1000000041_detail_065.png'],\n",
       "  'color': '#',\n",
       "  'category': '러쉬 > 프로모션',\n",
       "  'salePrice': 34000,\n",
       "  'originalPrice': 34000,\n",
       "  'brand': 'lush',\n",
       "  'volume': '#'}]"
      ]
     },
     "metadata": {},
     "output_type": "display_data"
    },
    {
     "data": {
      "text/plain": [
       "[{'name': '슬랩 스틱 3W',\n",
       "  'url': 'https://lush.co.kr/goods/goods_view.php?goodsNo=1000000031',\n",
       "  'image': ['https://lush.co.kr/data/goods/18/11/48/1000000031/t50_1000000031_detail_050.png'],\n",
       "  'color': '#',\n",
       "  'category': '러쉬 > 프로모션',\n",
       "  'salePrice': 34000,\n",
       "  'originalPrice': 34000,\n",
       "  'brand': 'lush',\n",
       "  'volume': '#'}]"
      ]
     },
     "metadata": {},
     "output_type": "display_data"
    },
    {
     "data": {
      "text/plain": [
       "[{'name': '아이즈 라이트',\n",
       "  'url': 'https://lush.co.kr/goods/goods_view.php?goodsNo=387',\n",
       "  'image': ['https://lush.co.kr/data/goods/18/03/12/387/t50_387_detail_034.png',\n",
       "   'https://lush.co.kr/data/goods/18/03/12/387/t50_387_detail_187.png'],\n",
       "  'color': '#',\n",
       "  'category': '러쉬 > 메이크업 > 아이즈',\n",
       "  'salePrice': 33000,\n",
       "  'originalPrice': 33000,\n",
       "  'brand': 'lush',\n",
       "  'volume': '#'}]"
      ]
     },
     "metadata": {},
     "output_type": "display_data"
    },
    {
     "data": {
      "text/plain": [
       "[{'name': '독립',\n",
       "  'url': 'https://lush.co.kr/goods/goods_view.php?goodsNo=386',\n",
       "  'image': ['https://lush.co.kr/data/goods/18/03/12/386/t50_386_detail_092.png',\n",
       "   'https://lush.co.kr/data/goods/18/03/12/386/t50_386_detail_155.png'],\n",
       "  'color': '#',\n",
       "  'category': '러쉬 > 메이크업 > 아이즈',\n",
       "  'salePrice': 31000,\n",
       "  'originalPrice': 31000,\n",
       "  'brand': 'lush',\n",
       "  'volume': '#'}]"
      ]
     },
     "metadata": {},
     "output_type": "display_data"
    },
    {
     "data": {
      "text/plain": [
       "[{'name': '슬랩 스틱 20N',\n",
       "  'url': 'https://lush.co.kr/goods/goods_view.php?goodsNo=1000000048',\n",
       "  'image': ['https://lush.co.kr/data/goods/18/11/48/1000000048/t50_1000000048_detail_048.png'],\n",
       "  'color': '#',\n",
       "  'category': '러쉬 > 프로모션',\n",
       "  'salePrice': 34000,\n",
       "  'originalPrice': 34000,\n",
       "  'brand': 'lush',\n",
       "  'volume': '#'}]"
      ]
     },
     "metadata": {},
     "output_type": "display_data"
    },
    {
     "data": {
      "text/plain": [
       "[{'name': '슬랩 스틱 11N',\n",
       "  'url': 'https://lush.co.kr/goods/goods_view.php?goodsNo=1000000039',\n",
       "  'image': ['https://lush.co.kr/data/goods/18/11/48/1000000039/t50_1000000039_detail_02.png'],\n",
       "  'color': '#',\n",
       "  'category': '러쉬 > 프로모션',\n",
       "  'salePrice': 34000,\n",
       "  'originalPrice': 34000,\n",
       "  'brand': 'lush',\n",
       "  'volume': '#'}]"
      ]
     },
     "metadata": {},
     "output_type": "display_data"
    },
    {
     "data": {
      "text/plain": [
       "[{'name': '슬랩 스틱 8N',\n",
       "  'url': 'https://lush.co.kr/goods/goods_view.php?goodsNo=1000000036',\n",
       "  'image': ['https://lush.co.kr/data/goods/18/11/48/1000000036/t50_1000000036_detail_063.png'],\n",
       "  'color': '#',\n",
       "  'category': '러쉬 > 프로모션',\n",
       "  'salePrice': 34000,\n",
       "  'originalPrice': 34000,\n",
       "  'brand': 'lush',\n",
       "  'volume': '#'}]"
      ]
     },
     "metadata": {},
     "output_type": "display_data"
    },
    {
     "data": {
      "text/plain": [
       "[{'name': '슬랩 스틱 6W',\n",
       "  'url': 'https://lush.co.kr/goods/goods_view.php?goodsNo=1000000034',\n",
       "  'image': ['https://lush.co.kr/data/goods/18/11/48/1000000034/t50_1000000034_detail_05.png'],\n",
       "  'color': '#',\n",
       "  'category': '러쉬 > 프로모션',\n",
       "  'salePrice': 34000,\n",
       "  'originalPrice': 34000,\n",
       "  'brand': 'lush',\n",
       "  'volume': '#'}]"
      ]
     },
     "metadata": {},
     "output_type": "display_data"
    },
    {
     "data": {
      "text/plain": [
       "[{'name': '슬랩 스틱 5N',\n",
       "  'url': 'https://lush.co.kr/goods/goods_view.php?goodsNo=1000000033',\n",
       "  'image': ['https://lush.co.kr/data/goods/18/11/48/1000000033/t50_1000000033_detail_02.png'],\n",
       "  'color': '#',\n",
       "  'category': '러쉬 > 프로모션',\n",
       "  'salePrice': 34000,\n",
       "  'originalPrice': 34000,\n",
       "  'brand': 'lush',\n",
       "  'volume': '#'}]"
      ]
     },
     "metadata": {},
     "output_type": "display_data"
    },
    {
     "data": {
      "text/plain": [
       "[{'name': '카마 솔리드 퍼퓸',\n",
       "  'url': 'https://lush.co.kr/goods/goods_view.php?goodsNo=273',\n",
       "  'image': ['https://lush.co.kr/data/goods/17/10/10/273/t50_273_detail_098.png'],\n",
       "  'color': '#',\n",
       "  'category': '러쉬 > 퍼퓸 > 화이트 솔리드',\n",
       "  'salePrice': 22000,\n",
       "  'originalPrice': 22000,\n",
       "  'brand': 'lush',\n",
       "  'volume': '#'}]"
      ]
     },
     "metadata": {},
     "output_type": "display_data"
    },
    {
     "data": {
      "text/plain": [
       "[{'name': '스머글러스 소울 솔리드 퍼퓸',\n",
       "  'url': 'https://lush.co.kr/goods/goods_view.php?goodsNo=306',\n",
       "  'image': ['https://lush.co.kr/data/goods/17/10/10/306/t50_306_detail_073.png'],\n",
       "  'color': '#',\n",
       "  'category': '러쉬 > 퍼퓸 > 화이트 솔리드',\n",
       "  'salePrice': 22000,\n",
       "  'originalPrice': 22000,\n",
       "  'brand': 'lush',\n",
       "  'volume': '#'}]"
      ]
     },
     "metadata": {},
     "output_type": "display_data"
    },
    {
     "data": {
      "text/plain": [
       "[{'name': '더티 솔리드 퍼퓸',\n",
       "  'url': 'https://lush.co.kr/goods/goods_view.php?goodsNo=302',\n",
       "  'image': ['https://lush.co.kr/data/goods/17/10/10/302/t50_302_detail_040.png'],\n",
       "  'color': '#',\n",
       "  'category': '러쉬 > 퍼퓸 > 화이트 솔리드',\n",
       "  'salePrice': 22000,\n",
       "  'originalPrice': 22000,\n",
       "  'brand': 'lush',\n",
       "  'volume': '#'}]"
      ]
     },
     "metadata": {},
     "output_type": "display_data"
    },
    {
     "data": {
      "text/plain": [
       "[{'name': '왓 우드 러브 두? 솔리드 퍼퓸',\n",
       "  'url': 'https://lush.co.kr/goods/goods_view.php?goodsNo=329',\n",
       "  'image': ['https://lush.co.kr/data/goods/17/10/10/329/t50_329_detail_018.png'],\n",
       "  'color': '#',\n",
       "  'category': '러쉬 > 퍼퓸 > 화이트 솔리드',\n",
       "  'salePrice': 22000,\n",
       "  'originalPrice': 22000,\n",
       "  'brand': 'lush',\n",
       "  'volume': '#'}]"
      ]
     },
     "metadata": {},
     "output_type": "display_data"
    },
    {
     "data": {
      "text/plain": [
       "[{'name': '시킴 걸스 솔리드 퍼퓸',\n",
       "  'url': 'https://lush.co.kr/goods/goods_view.php?goodsNo=298',\n",
       "  'image': ['https://lush.co.kr/data/goods/17/10/10/298/t50_298_detail_010.png'],\n",
       "  'color': '#',\n",
       "  'category': '러쉬 > 퍼퓸 > 화이트 솔리드',\n",
       "  'salePrice': 22000,\n",
       "  'originalPrice': 22000,\n",
       "  'brand': 'lush',\n",
       "  'volume': '#'}]"
      ]
     },
     "metadata": {},
     "output_type": "display_data"
    },
    {
     "data": {
      "text/plain": [
       "[{'name': '더티 30ML',\n",
       "  'url': 'https://lush.co.kr/goods/goods_view.php?goodsNo=300',\n",
       "  'image': ['https://lush.co.kr/data/goods/17/10/10/300/t50_300_detail_066.png',\n",
       "   'https://lush.co.kr/data/goods/17/10/10/300/t50_300_detail_114.png'],\n",
       "  'color': '#',\n",
       "  'category': '러쉬 > 퍼퓸 > 화이트 리퀴드',\n",
       "  'salePrice': 55000,\n",
       "  'originalPrice': 55000,\n",
       "  'brand': 'lush',\n",
       "  'volume': '#'}]"
      ]
     },
     "metadata": {},
     "output_type": "display_data"
    },
    {
     "data": {
      "text/plain": [
       "[{'name': '카마 30ML',\n",
       "  'url': 'https://lush.co.kr/goods/goods_view.php?goodsNo=272',\n",
       "  'image': ['https://lush.co.kr/data/goods/17/10/10/272/t50_272_detail_029.png',\n",
       "   'https://lush.co.kr/data/goods/17/10/10/272/t50_272_detail_1100.png'],\n",
       "  'color': '#',\n",
       "  'category': '러쉬 > 퍼퓸 > 화이트 리퀴드',\n",
       "  'salePrice': 77000,\n",
       "  'originalPrice': 77000,\n",
       "  'brand': 'lush',\n",
       "  'volume': '#'}]"
      ]
     },
     "metadata": {},
     "output_type": "display_data"
    },
    {
     "data": {
      "text/plain": [
       "[{'name': '올 굿 띵스 솔리드 퍼퓸',\n",
       "  'url': 'https://lush.co.kr/goods/goods_view.php?goodsNo=271',\n",
       "  'image': ['https://lush.co.kr/data/goods/17/10/10/271/t50_271_detail_099.png'],\n",
       "  'color': '#',\n",
       "  'category': '러쉬 > 퍼퓸 > 화이트 솔리드',\n",
       "  'salePrice': 22000,\n",
       "  'originalPrice': 22000,\n",
       "  'brand': 'lush',\n",
       "  'volume': '#'}]"
      ]
     },
     "metadata": {},
     "output_type": "display_data"
    },
    {
     "data": {
      "text/plain": [
       "[{'name': '바닐라리 솔리드 퍼퓸',\n",
       "  'url': 'https://lush.co.kr/goods/goods_view.php?goodsNo=325',\n",
       "  'image': ['https://lush.co.kr/data/goods/17/10/10/325/t50_325_detail_029.png'],\n",
       "  'color': '#',\n",
       "  'category': '러쉬 > 퍼퓸 > 화이트 솔리드',\n",
       "  'salePrice': 22000,\n",
       "  'originalPrice': 22000,\n",
       "  'brand': 'lush',\n",
       "  'volume': '#'}]"
      ]
     },
     "metadata": {},
     "output_type": "display_data"
    },
    {
     "data": {
      "text/plain": [
       "[{'name': '이모젠 로즈 30ML',\n",
       "  'url': 'https://lush.co.kr/goods/goods_view.php?goodsNo=266',\n",
       "  'image': ['https://lush.co.kr/data/goods/17/10/10/266/t50_266_detail_080.png',\n",
       "   'https://lush.co.kr/data/goods/17/10/10/266/t50_266_detail_134.png'],\n",
       "  'color': '#',\n",
       "  'category': '러쉬 > 퍼퓸 > 블랙 라벨',\n",
       "  'salePrice': 99000,\n",
       "  'originalPrice': 99000,\n",
       "  'brand': 'lush',\n",
       "  'volume': '#'}]"
      ]
     },
     "metadata": {},
     "output_type": "display_data"
    },
    {
     "data": {
      "text/plain": [
       "[{'name': '바닐라리 30ML',\n",
       "  'url': 'https://lush.co.kr/goods/goods_view.php?goodsNo=324',\n",
       "  'image': ['https://lush.co.kr/data/goods/17/10/10/324/t50_324_detail_036.png',\n",
       "   'https://lush.co.kr/data/goods/17/10/10/324/t50_324_detail_121.png'],\n",
       "  'color': '#',\n",
       "  'category': '러쉬 > 퍼퓸 > 화이트 리퀴드',\n",
       "  'salePrice': 55000,\n",
       "  'originalPrice': 55000,\n",
       "  'brand': 'lush',\n",
       "  'volume': '#'}]"
      ]
     },
     "metadata": {},
     "output_type": "display_data"
    },
    {
     "data": {
      "text/plain": [
       "[{'name': '아멜리에 매 워시 카드',\n",
       "  'url': 'https://lush.co.kr/goods/goods_view.php?goodsNo=285',\n",
       "  'image': ['https://lush.co.kr/data/goods/17/10/10/285/t50_285_detail_089.png'],\n",
       "  'color': '#',\n",
       "  'category': '러쉬 > 퍼퓸 > 워시 카드',\n",
       "  'salePrice': 4000,\n",
       "  'originalPrice': 4000,\n",
       "  'brand': 'lush',\n",
       "  'volume': '#'}]"
      ]
     },
     "metadata": {},
     "output_type": "display_data"
    },
    {
     "data": {
      "text/plain": [
       "[{'name': '카마 워시 카드',\n",
       "  'url': 'https://lush.co.kr/goods/goods_view.php?goodsNo=274',\n",
       "  'image': ['https://lush.co.kr/data/goods/17/10/10/274/t50_274_detail_097.png'],\n",
       "  'color': '#',\n",
       "  'category': '러쉬 > 퍼퓸 > 워시 카드',\n",
       "  'salePrice': 4000,\n",
       "  'originalPrice': 4000,\n",
       "  'brand': 'lush',\n",
       "  'volume': '#'}]"
      ]
     },
     "metadata": {},
     "output_type": "display_data"
    },
    {
     "data": {
      "text/plain": [
       "[{'name': '더티 100ML',\n",
       "  'url': 'https://lush.co.kr/goods/goods_view.php?goodsNo=299',\n",
       "  'image': ['https://lush.co.kr/data/goods/17/10/10/299/t50_299_detail_048.png',\n",
       "   'https://lush.co.kr/data/goods/17/10/10/299/t50_299_detail_161.png'],\n",
       "  'color': '#',\n",
       "  'category': '러쉬 > 퍼퓸 > 화이트 리퀴드',\n",
       "  'salePrice': 110000,\n",
       "  'originalPrice': 110000,\n",
       "  'brand': 'lush',\n",
       "  'volume': '#'}]"
      ]
     },
     "metadata": {},
     "output_type": "display_data"
    },
    {
     "data": {
      "text/plain": [
       "[{'name': '더티 워시 카드',\n",
       "  'url': 'https://lush.co.kr/goods/goods_view.php?goodsNo=305',\n",
       "  'image': ['https://lush.co.kr/data/goods/17/10/10/305/t50_305_detail_067.png'],\n",
       "  'color': '#',\n",
       "  'category': '러쉬 > 퍼퓸 > 워시 카드',\n",
       "  'salePrice': 4000,\n",
       "  'originalPrice': 4000,\n",
       "  'brand': 'lush',\n",
       "  'volume': '#'}]"
      ]
     },
     "metadata": {},
     "output_type": "display_data"
    },
    {
     "data": {
      "text/plain": [
       "[{'name': '스머글러스 소울 30ML',\n",
       "  'url': 'https://lush.co.kr/goods/goods_view.php?goodsNo=304',\n",
       "  'image': ['https://lush.co.kr/data/goods/17/10/10/304/t50_304_detail_090.png',\n",
       "   'https://lush.co.kr/data/goods/17/10/10/304/t50_304_detail_16.png'],\n",
       "  'color': '#',\n",
       "  'category': '러쉬 > 퍼퓸 > 화이트 리퀴드',\n",
       "  'salePrice': 77000,\n",
       "  'originalPrice': 77000,\n",
       "  'brand': 'lush',\n",
       "  'volume': '#'}]"
      ]
     },
     "metadata": {},
     "output_type": "display_data"
    },
    {
     "data": {
      "text/plain": [
       "[{'name': '바닐라리 워시 카드',\n",
       "  'url': 'https://lush.co.kr/goods/goods_view.php?goodsNo=326',\n",
       "  'image': ['https://lush.co.kr/data/goods/17/10/10/326/t50_326_detail_094.png'],\n",
       "  'color': '#',\n",
       "  'category': '러쉬 > 퍼퓸 > 워시 카드',\n",
       "  'salePrice': 4000,\n",
       "  'originalPrice': 4000,\n",
       "  'brand': 'lush',\n",
       "  'volume': '#'}]"
      ]
     },
     "metadata": {},
     "output_type": "display_data"
    },
    {
     "data": {
      "text/plain": [
       "[{'name': '썬 솔리드 퍼퓸',\n",
       "  'url': 'https://lush.co.kr/goods/goods_view.php?goodsNo=317',\n",
       "  'image': ['https://lush.co.kr/data/goods/17/10/10/317/t50_317_detail_025.png'],\n",
       "  'color': '#',\n",
       "  'category': '러쉬 > 퍼퓸 > 화이트 솔리드',\n",
       "  'salePrice': 22000,\n",
       "  'originalPrice': 22000,\n",
       "  'brand': 'lush',\n",
       "  'volume': '#'}]"
      ]
     },
     "metadata": {},
     "output_type": "display_data"
    },
    {
     "data": {
      "text/plain": [
       "[{'name': '러스트 솔리드 퍼퓸',\n",
       "  'url': 'https://lush.co.kr/goods/goods_view.php?goodsNo=283',\n",
       "  'image': ['https://lush.co.kr/data/goods/17/10/10/283/t50_283_detail_030.png'],\n",
       "  'color': '#',\n",
       "  'category': '러쉬 > 퍼퓸 > 화이트 솔리드',\n",
       "  'salePrice': 22000,\n",
       "  'originalPrice': 22000,\n",
       "  'brand': 'lush',\n",
       "  'volume': '#'}]"
      ]
     },
     "metadata": {},
     "output_type": "display_data"
    },
    {
     "data": {
      "text/plain": [
       "[{'name': '아멜리에 매 솔리드 퍼퓸',\n",
       "  'url': 'https://lush.co.kr/goods/goods_view.php?goodsNo=282',\n",
       "  'image': ['https://lush.co.kr/data/goods/17/10/10/282/t50_282_detail_073.png'],\n",
       "  'color': '#',\n",
       "  'category': '러쉬 > 퍼퓸 > 화이트 솔리드',\n",
       "  'salePrice': 22000,\n",
       "  'originalPrice': 22000,\n",
       "  'brand': 'lush',\n",
       "  'volume': '#'}]"
      ]
     },
     "metadata": {},
     "output_type": "display_data"
    },
    {
     "data": {
      "text/plain": [
       "[{'name': '왓 우드 러브 두? 워시 카드',\n",
       "  'url': 'https://lush.co.kr/goods/goods_view.php?goodsNo=330',\n",
       "  'image': ['https://lush.co.kr/data/goods/17/10/10/330/t50_330_detail_078.png'],\n",
       "  'color': '#',\n",
       "  'category': '러쉬 > 퍼퓸 > 워시 카드',\n",
       "  'salePrice': 4000,\n",
       "  'originalPrice': 4000,\n",
       "  'brand': 'lush',\n",
       "  'volume': '#'}]"
      ]
     },
     "metadata": {},
     "output_type": "display_data"
    },
    {
     "data": {
      "text/plain": [
       "[{'name': '아임 홈 워시 카드',\n",
       "  'url': 'https://lush.co.kr/goods/goods_view.php?goodsNo=265',\n",
       "  'image': ['https://lush.co.kr/data/goods/17/10/10/265/t50_265_detail_095.png'],\n",
       "  'color': '#',\n",
       "  'category': '러쉬 > 퍼퓸 > 워시 카드',\n",
       "  'salePrice': 4000,\n",
       "  'originalPrice': 4000,\n",
       "  'brand': 'lush',\n",
       "  'volume': '#'}]"
      ]
     },
     "metadata": {},
     "output_type": "display_data"
    },
    {
     "data": {
      "text/plain": [
       "[{'name': '왓 우드 러브 두? 30ML',\n",
       "  'url': 'https://lush.co.kr/goods/goods_view.php?goodsNo=328',\n",
       "  'image': ['https://lush.co.kr/data/goods/17/10/10/328/t50_328_detail_06.png',\n",
       "   'https://lush.co.kr/data/goods/17/10/10/328/t50_328_detail_120.png'],\n",
       "  'color': '#',\n",
       "  'category': '러쉬 > 퍼퓸 > 화이트 리퀴드',\n",
       "  'salePrice': 44000,\n",
       "  'originalPrice': 44000,\n",
       "  'brand': 'lush',\n",
       "  'volume': '#'}]"
      ]
     },
     "metadata": {},
     "output_type": "display_data"
    },
    {
     "data": {
      "text/plain": [
       "[{'name': '더 스멜 오브 웨더 터닝 30ML',\n",
       "  'url': 'https://lush.co.kr/goods/goods_view.php?goodsNo=322',\n",
       "  'image': ['https://lush.co.kr/data/goods/17/10/10/322/t50_322_detail_022.png',\n",
       "   'https://lush.co.kr/data/goods/17/10/10/322/t50_322_detail_118.png'],\n",
       "  'color': '#',\n",
       "  'category': '러쉬 > 퍼퓸 > 블랙 라벨',\n",
       "  'salePrice': 88000,\n",
       "  'originalPrice': 88000,\n",
       "  'brand': 'lush',\n",
       "  'volume': '#'}]"
      ]
     },
     "metadata": {},
     "output_type": "display_data"
    },
    {
     "data": {
      "text/plain": [
       "[{'name': '시킴 걸스 워시 카드',\n",
       "  'url': 'https://lush.co.kr/goods/goods_view.php?goodsNo=301',\n",
       "  'image': ['https://lush.co.kr/data/goods/17/10/10/301/t50_301_detail_099.png'],\n",
       "  'color': '#',\n",
       "  'category': '러쉬 > 퍼퓸 > 워시 카드',\n",
       "  'salePrice': 4000,\n",
       "  'originalPrice': 4000,\n",
       "  'brand': 'lush',\n",
       "  'volume': '#'}]"
      ]
     },
     "metadata": {},
     "output_type": "display_data"
    },
    {
     "data": {
      "text/plain": [
       "[{'name': '데빌스 나이트캡 30ML',\n",
       "  'url': 'https://lush.co.kr/goods/goods_view.php?goodsNo=297',\n",
       "  'image': ['https://lush.co.kr/data/goods/17/10/10/297/t50_297_detail_063.png',\n",
       "   'https://lush.co.kr/data/goods/17/10/10/297/t50_297_detail_188.png'],\n",
       "  'color': '#',\n",
       "  'category': '러쉬 > 퍼퓸 > 블랙 라벨',\n",
       "  'salePrice': 99000,\n",
       "  'originalPrice': 99000,\n",
       "  'brand': 'lush',\n",
       "  'volume': '#'}]"
      ]
     },
     "metadata": {},
     "output_type": "display_data"
    },
    {
     "data": {
      "text/plain": [
       "[{'name': '스머글러스 소울 워시 카드',\n",
       "  'url': 'https://lush.co.kr/goods/goods_view.php?goodsNo=308',\n",
       "  'image': ['https://lush.co.kr/data/goods/17/10/10/308/t50_308_detail_065.png'],\n",
       "  'color': '#',\n",
       "  'category': '러쉬 > 퍼퓸 > 워시 카드',\n",
       "  'salePrice': 4000,\n",
       "  'originalPrice': 4000,\n",
       "  'brand': 'lush',\n",
       "  'volume': '#'}]"
      ]
     },
     "metadata": {},
     "output_type": "display_data"
    },
    {
     "data": {
      "text/plain": [
       "[{'name': '더 프레지던츠 햇30ML',\n",
       "  'url': 'https://lush.co.kr/goods/goods_view.php?goodsNo=321',\n",
       "  'image': ['https://lush.co.kr/data/goods/17/10/10/321/t50_321_detail_050.png',\n",
       "   'https://lush.co.kr/data/goods/17/10/10/321/t50_321_detail_139.png'],\n",
       "  'color': '#',\n",
       "  'category': '러쉬 > 퍼퓸 > 블랙 라벨',\n",
       "  'salePrice': 88000,\n",
       "  'originalPrice': 88000,\n",
       "  'brand': 'lush',\n",
       "  'volume': '#'}]"
      ]
     },
     "metadata": {},
     "output_type": "display_data"
    },
    {
     "data": {
      "text/plain": [
       "[{'name': '1000 키시스 딥30ML',\n",
       "  'url': 'https://lush.co.kr/goods/goods_view.php?goodsNo=259',\n",
       "  'image': ['https://lush.co.kr/data/goods/17/10/10/259/t50_259_detail_090.png',\n",
       "   'https://lush.co.kr/data/goods/17/10/10/259/t50_259_detail_114.png'],\n",
       "  'color': '#',\n",
       "  'category': '러쉬 > 퍼퓸 > 블랙 라벨',\n",
       "  'salePrice': 66000,\n",
       "  'originalPrice': 66000,\n",
       "  'brand': 'lush',\n",
       "  'volume': '#'}]"
      ]
     },
     "metadata": {},
     "output_type": "display_data"
    },
    {
     "data": {
      "text/plain": [
       "[{'name': '썬 30ML',\n",
       "  'url': 'https://lush.co.kr/goods/goods_view.php?goodsNo=315',\n",
       "  'image': ['https://lush.co.kr/data/goods/17/10/10/315/t50_315_detail_032.png',\n",
       "   'https://lush.co.kr/data/goods/17/10/10/315/t50_315_detail_115.png'],\n",
       "  'color': '#',\n",
       "  'category': '러쉬 > 퍼퓸 > 화이트 리퀴드',\n",
       "  'salePrice': 44000,\n",
       "  'originalPrice': 44000,\n",
       "  'brand': 'lush',\n",
       "  'volume': '#'}]"
      ]
     },
     "metadata": {},
     "output_type": "display_data"
    },
    {
     "data": {
      "text/plain": [
       "[{'name': '썬 워시 카드',\n",
       "  'url': 'https://lush.co.kr/goods/goods_view.php?goodsNo=319',\n",
       "  'image': ['https://lush.co.kr/data/goods/17/10/10/319/t50_319_detail_018.png'],\n",
       "  'color': '#',\n",
       "  'category': '러쉬 > 퍼퓸 > 워시 카드',\n",
       "  'salePrice': 4000,\n",
       "  'originalPrice': 4000,\n",
       "  'brand': 'lush',\n",
       "  'volume': '#'}]"
      ]
     },
     "metadata": {},
     "output_type": "display_data"
    },
    {
     "data": {
      "text/plain": [
       "[{'name': '디어 존 30ML',\n",
       "  'url': 'https://lush.co.kr/goods/goods_view.php?goodsNo=296',\n",
       "  'image': ['https://lush.co.kr/data/goods/17/10/10/296/t50_296_detail_083.png',\n",
       "   'https://lush.co.kr/data/goods/17/10/10/296/t50_296_detail_134.png'],\n",
       "  'color': '#',\n",
       "  'category': '러쉬 > 퍼퓸 > 블랙 라벨',\n",
       "  'salePrice': 66000,\n",
       "  'originalPrice': 66000,\n",
       "  'brand': 'lush',\n",
       "  'volume': '#'}]"
      ]
     },
     "metadata": {},
     "output_type": "display_data"
    },
    {
     "data": {
      "text/plain": [
       "[{'name': '브레스 오브 갓 워시 카드',\n",
       "  'url': 'https://lush.co.kr/goods/goods_view.php?goodsNo=289',\n",
       "  'image': ['https://lush.co.kr/data/goods/17/10/10/289/t50_289_detail_043.png'],\n",
       "  'color': '#',\n",
       "  'category': '러쉬 > 퍼퓸 > 워시 카드',\n",
       "  'salePrice': 4000,\n",
       "  'originalPrice': 4000,\n",
       "  'brand': 'lush',\n",
       "  'volume': '#'}]"
      ]
     },
     "metadata": {},
     "output_type": "display_data"
    },
    {
     "data": {
      "text/plain": [
       "[{'name': '커브사이드 바이올렛 30ML',\n",
       "  'url': 'https://lush.co.kr/goods/goods_view.php?goodsNo=276',\n",
       "  'image': ['https://lush.co.kr/data/goods/17/10/10/276/t50_276_detail_07.png',\n",
       "   'https://lush.co.kr/data/goods/17/10/10/276/t50_276_detail_168.png'],\n",
       "  'color': '#',\n",
       "  'category': '러쉬 > 퍼퓸 > 블랙 라벨',\n",
       "  'salePrice': 77000,\n",
       "  'originalPrice': 77000,\n",
       "  'brand': 'lush',\n",
       "  'volume': '#'}]"
      ]
     },
     "metadata": {},
     "output_type": "display_data"
    },
    {
     "data": {
      "text/plain": [
       "[{'name': '탱크 배틀30ML',\n",
       "  'url': 'https://lush.co.kr/goods/goods_view.php?goodsNo=320',\n",
       "  'image': ['https://lush.co.kr/data/goods/17/10/10/320/t50_320_detail_026.png',\n",
       "   'https://lush.co.kr/data/goods/17/10/10/320/t50_320_detail_158.png'],\n",
       "  'color': '#',\n",
       "  'category': '러쉬 > 퍼퓸 > 블랙 라벨',\n",
       "  'salePrice': 66000,\n",
       "  'originalPrice': 66000,\n",
       "  'brand': 'lush',\n",
       "  'volume': '#'}]"
      ]
     },
     "metadata": {},
     "output_type": "display_data"
    },
    {
     "data": {
      "text/plain": [
       "[{'name': '아멜리에 매 30ML',\n",
       "  'url': 'https://lush.co.kr/goods/goods_view.php?goodsNo=279',\n",
       "  'image': ['https://lush.co.kr/data/goods/17/10/10/279/t50_279_detail_033.png',\n",
       "   'https://lush.co.kr/data/goods/17/10/10/279/t50_279_detail_138.png'],\n",
       "  'color': '#',\n",
       "  'category': '러쉬 > 퍼퓸 > 화이트 리퀴드',\n",
       "  'salePrice': 55000,\n",
       "  'originalPrice': 55000,\n",
       "  'brand': 'lush',\n",
       "  'volume': '#'}]"
      ]
     },
     "metadata": {},
     "output_type": "display_data"
    },
    {
     "data": {
      "text/plain": [
       "[{'name': '아임 홈 솔리드 퍼퓸',\n",
       "  'url': 'https://lush.co.kr/goods/goods_view.php?goodsNo=264',\n",
       "  'image': ['https://lush.co.kr/data/goods/17/10/10/264/t50_264_detail_070.png'],\n",
       "  'color': '#',\n",
       "  'category': '러쉬 > 퍼퓸 > 화이트 솔리드',\n",
       "  'salePrice': 22000,\n",
       "  'originalPrice': 22000,\n",
       "  'brand': 'lush',\n",
       "  'volume': '#'}]"
      ]
     },
     "metadata": {},
     "output_type": "display_data"
    },
    {
     "data": {
      "text/plain": [
       "[{'name': '블랙',\n",
       "  'url': 'https://lush.co.kr/goods/goods_view.php?goodsNo=257',\n",
       "  'image': ['https://lush.co.kr/data/goods/17/10/10/257/t50_257_detail_05.png'],\n",
       "  'color': '#',\n",
       "  'category': '러쉬 > 퍼퓸 > 퍼퓸 낫랩',\n",
       "  'salePrice': 10000,\n",
       "  'originalPrice': 10000,\n",
       "  'brand': 'lush',\n",
       "  'volume': '#'}]"
      ]
     },
     "metadata": {},
     "output_type": "display_data"
    },
    {
     "data": {
      "text/plain": [
       "[{'name': '렌트리스 솔리드 퍼퓸',\n",
       "  'url': 'https://lush.co.kr/goods/goods_view.php?goodsNo=316',\n",
       "  'image': ['https://lush.co.kr/data/goods/17/10/10/316/t50_316_detail_028.png'],\n",
       "  'color': '#',\n",
       "  'category': '러쉬 > 퍼퓸 > 화이트 솔리드',\n",
       "  'salePrice': 22000,\n",
       "  'originalPrice': 22000,\n",
       "  'brand': 'lush',\n",
       "  'volume': '#'}]"
      ]
     },
     "metadata": {},
     "output_type": "display_data"
    },
    {
     "data": {
      "text/plain": [
       "[{'name': '프린세스 코튼그래스 30ML',\n",
       "  'url': 'https://lush.co.kr/goods/goods_view.php?goodsNo=311',\n",
       "  'image': ['https://lush.co.kr/data/goods/17/10/10/311/t50_311_detail_033.png',\n",
       "   'https://lush.co.kr/data/goods/17/10/10/311/t50_311_detail_167.png'],\n",
       "  'color': '#',\n",
       "  'category': '러쉬 > 퍼퓸 > 블랙 라벨',\n",
       "  'salePrice': 77000,\n",
       "  'originalPrice': 77000,\n",
       "  'brand': 'lush',\n",
       "  'volume': '#'}]"
      ]
     },
     "metadata": {},
     "output_type": "display_data"
    },
    {
     "data": {
      "text/plain": [
       "[{'name': '스머글러스 소울 100ML',\n",
       "  'url': 'https://lush.co.kr/goods/goods_view.php?goodsNo=303',\n",
       "  'image': ['https://lush.co.kr/data/goods/17/10/10/303/t50_303_detail_018.png',\n",
       "   'https://lush.co.kr/data/goods/17/10/10/303/t50_303_detail_157.png'],\n",
       "  'color': '#',\n",
       "  'category': '러쉬 > 퍼퓸 > 화이트 리퀴드',\n",
       "  'salePrice': 154000,\n",
       "  'originalPrice': 154000,\n",
       "  'brand': 'lush',\n",
       "  'volume': '#'}]"
      ]
     },
     "metadata": {},
     "output_type": "display_data"
    },
    {
     "data": {
      "text/plain": [
       "[{'name': '브레스 오브 갓 솔리드 퍼퓸',\n",
       "  'url': 'https://lush.co.kr/goods/goods_view.php?goodsNo=288',\n",
       "  'image': ['https://lush.co.kr/data/goods/17/10/10/288/t50_288_detail_037.png'],\n",
       "  'color': '#',\n",
       "  'category': '러쉬 > 퍼퓸 > 화이트 솔리드',\n",
       "  'salePrice': 22000,\n",
       "  'originalPrice': 22000,\n",
       "  'brand': 'lush',\n",
       "  'volume': '#'}]"
      ]
     },
     "metadata": {},
     "output_type": "display_data"
    },
    {
     "data": {
      "text/plain": [
       "[{'name': '러스트 워시 카드',\n",
       "  'url': 'https://lush.co.kr/goods/goods_view.php?goodsNo=284',\n",
       "  'image': ['https://lush.co.kr/data/goods/17/10/10/284/t50_284_detail_049.png'],\n",
       "  'color': '#',\n",
       "  'category': '러쉬 > 퍼퓸 > 워시 카드',\n",
       "  'salePrice': 4000,\n",
       "  'originalPrice': 4000,\n",
       "  'brand': 'lush',\n",
       "  'volume': '#'}]"
      ]
     },
     "metadata": {},
     "output_type": "display_data"
    },
    {
     "data": {
      "text/plain": [
       "[{'name': '러브 30ML',\n",
       "  'url': 'https://lush.co.kr/goods/goods_view.php?goodsNo=278',\n",
       "  'image': ['https://lush.co.kr/data/goods/17/10/10/278/t50_278_detail_02.png',\n",
       "   'https://lush.co.kr/data/goods/17/10/10/278/t50_278_detail_135.png'],\n",
       "  'color': '#',\n",
       "  'category': '러쉬 > 퍼퓸 > 블랙 라벨',\n",
       "  'salePrice': 77000,\n",
       "  'originalPrice': 77000,\n",
       "  'brand': 'lush',\n",
       "  'volume': '#'}]"
      ]
     },
     "metadata": {},
     "output_type": "display_data"
    },
    {
     "data": {
      "text/plain": [
       "[{'name': '렌트리스 워시 카드',\n",
       "  'url': 'https://lush.co.kr/goods/goods_view.php?goodsNo=318',\n",
       "  'image': ['https://lush.co.kr/data/goods/17/10/10/318/t50_318_detail_090.png'],\n",
       "  'color': '#',\n",
       "  'category': '러쉬 > 퍼퓸 > 워시 카드',\n",
       "  'salePrice': 4000,\n",
       "  'originalPrice': 4000,\n",
       "  'brand': 'lush',\n",
       "  'volume': '#'}]"
      ]
     },
     "metadata": {},
     "output_type": "display_data"
    },
    {
     "data": {
      "text/plain": [
       "[{'name': '플라워스 배로우 30ML',\n",
       "  'url': 'https://lush.co.kr/goods/goods_view.php?goodsNo=309',\n",
       "  'image': ['https://lush.co.kr/data/goods/17/10/10/309/t50_309_detail_034.png',\n",
       "   'https://lush.co.kr/data/goods/17/10/10/309/t50_309_detail_163.png'],\n",
       "  'color': '#',\n",
       "  'category': '러쉬 > 퍼퓸 > 블랙 라벨',\n",
       "  'salePrice': 77000,\n",
       "  'originalPrice': 77000,\n",
       "  'brand': 'lush',\n",
       "  'volume': '#'}]"
      ]
     },
     "metadata": {},
     "output_type": "display_data"
    },
    {
     "data": {
      "text/plain": [
       "[{'name': '카다멈 커피 솔리드 퍼퓸',\n",
       "  'url': 'https://lush.co.kr/goods/goods_view.php?goodsNo=293',\n",
       "  'image': ['https://lush.co.kr/data/goods/17/10/10/293/t50_293_detail_017.png'],\n",
       "  'color': '#',\n",
       "  'category': '러쉬 > 퍼퓸 > 화이트 솔리드',\n",
       "  'salePrice': 22000,\n",
       "  'originalPrice': 22000,\n",
       "  'brand': 'lush',\n",
       "  'volume': '#'}]"
      ]
     },
     "metadata": {},
     "output_type": "display_data"
    },
    {
     "data": {
      "text/plain": [
       "[{'name': '아멜리에 매 100ML',\n",
       "  'url': 'https://lush.co.kr/goods/goods_view.php?goodsNo=277',\n",
       "  'image': ['https://lush.co.kr/data/goods/17/10/10/277/t50_277_detail_01.png',\n",
       "   'https://lush.co.kr/data/goods/17/10/10/277/t50_277_detail_133.png'],\n",
       "  'color': '#',\n",
       "  'category': '러쉬 > 퍼퓸 > 화이트 리퀴드',\n",
       "  'salePrice': 110000,\n",
       "  'originalPrice': 110000,\n",
       "  'brand': 'lush',\n",
       "  'volume': '#'}]"
      ]
     },
     "metadata": {},
     "output_type": "display_data"
    },
    {
     "data": {
      "text/plain": [
       "[{'name': '아임 홈 100ML',\n",
       "  'url': 'https://lush.co.kr/goods/goods_view.php?goodsNo=262',\n",
       "  'image': ['https://lush.co.kr/data/goods/17/10/10/262/t50_262_detail_05.png',\n",
       "   'https://lush.co.kr/data/goods/17/10/10/262/t50_262_detail_116.png'],\n",
       "  'color': '#',\n",
       "  'category': '러쉬 > 퍼퓸 > 화이트 리퀴드',\n",
       "  'salePrice': 132000,\n",
       "  'originalPrice': 132000,\n",
       "  'brand': 'lush',\n",
       "  'volume': '#'}]"
      ]
     },
     "metadata": {},
     "output_type": "display_data"
    },
    {
     "data": {
      "text/plain": [
       "[{'name': '러스트 30ML',\n",
       "  'url': 'https://lush.co.kr/goods/goods_view.php?goodsNo=281',\n",
       "  'image': ['https://lush.co.kr/data/goods/17/10/10/281/t50_281_detail_054.png',\n",
       "   'https://lush.co.kr/data/goods/17/10/10/281/t50_281_detail_198.png'],\n",
       "  'color': '#',\n",
       "  'category': '러쉬 > 퍼퓸 > 화이트 리퀴드',\n",
       "  'salePrice': 55000,\n",
       "  'originalPrice': 55000,\n",
       "  'brand': 'lush',\n",
       "  'volume': '#'}]"
      ]
     },
     "metadata": {},
     "output_type": "display_data"
    },
    {
     "data": {
      "text/plain": [
       "[{'name': '카마 100ML',\n",
       "  'url': 'https://lush.co.kr/goods/goods_view.php?goodsNo=270',\n",
       "  'image': ['https://lush.co.kr/data/goods/17/10/10/270/t50_270_detail_062.png',\n",
       "   'https://lush.co.kr/data/goods/17/10/10/270/t50_270_detail_150.png'],\n",
       "  'color': '#',\n",
       "  'category': '러쉬 > 퍼퓸 > 화이트 리퀴드',\n",
       "  'salePrice': 154000,\n",
       "  'originalPrice': 154000,\n",
       "  'brand': 'lush',\n",
       "  'volume': '#'}]"
      ]
     },
     "metadata": {},
     "output_type": "display_data"
    },
    {
     "data": {
      "text/plain": [
       "[{'name': '인해일 15ML',\n",
       "  'url': 'https://lush.co.kr/goods/goods_view.php?goodsNo=269',\n",
       "  'image': ['https://lush.co.kr/data/goods/17/10/10/269/t50_269_detail_046.png',\n",
       "   'https://lush.co.kr/data/goods/17/10/10/269/t50_269_detail_126.png'],\n",
       "  'color': '#',\n",
       "  'category': '러쉬 > 퍼퓸 > 블랙 라벨',\n",
       "  'salePrice': 45000,\n",
       "  'originalPrice': 45000,\n",
       "  'brand': 'lush',\n",
       "  'volume': '#'}]"
      ]
     },
     "metadata": {},
     "output_type": "display_data"
    },
    {
     "data": {
      "text/plain": [
       "[{'name': '아임 홈 30ML',\n",
       "  'url': 'https://lush.co.kr/goods/goods_view.php?goodsNo=263',\n",
       "  'image': ['https://lush.co.kr/data/goods/17/10/10/263/t50_263_detail_043.png',\n",
       "   'https://lush.co.kr/data/goods/17/10/10/263/t50_263_detail_185.png'],\n",
       "  'color': '#',\n",
       "  'category': '러쉬 > 퍼퓸 > 화이트 리퀴드',\n",
       "  'salePrice': 66000,\n",
       "  'originalPrice': 66000,\n",
       "  'brand': 'lush',\n",
       "  'volume': '#'}]"
      ]
     },
     "metadata": {},
     "output_type": "display_data"
    },
    {
     "data": {
      "text/plain": [
       "[{'name': '오렌지',\n",
       "  'url': 'https://lush.co.kr/goods/goods_view.php?goodsNo=254',\n",
       "  'image': ['https://lush.co.kr/data/goods/17/10/10/254/t50_254_detail_010.png'],\n",
       "  'color': '#',\n",
       "  'category': '러쉬 > 퍼퓸 > 퍼퓸 낫랩',\n",
       "  'salePrice': 10000,\n",
       "  'originalPrice': 10000,\n",
       "  'brand': 'lush',\n",
       "  'volume': '#'}]"
      ]
     },
     "metadata": {},
     "output_type": "display_data"
    },
    {
     "data": {
      "text/plain": [
       "[{'name': '왓 우드 러브 두? 100ML',\n",
       "  'url': 'https://lush.co.kr/goods/goods_view.php?goodsNo=327',\n",
       "  'image': ['https://lush.co.kr/data/goods/17/10/10/327/t50_327_detail_082.png',\n",
       "   'https://lush.co.kr/data/goods/17/10/10/327/t50_327_detail_181.png'],\n",
       "  'color': '#',\n",
       "  'category': '러쉬 > 퍼퓸 > 화이트 리퀴드',\n",
       "  'salePrice': 88000,\n",
       "  'originalPrice': 88000,\n",
       "  'brand': 'lush',\n",
       "  'volume': '#'}]"
      ]
     },
     "metadata": {},
     "output_type": "display_data"
    },
    {
     "data": {
      "text/plain": [
       "[{'name': '스태인 얼라이브30ML',\n",
       "  'url': 'https://lush.co.kr/goods/goods_view.php?goodsNo=310',\n",
       "  'image': ['https://lush.co.kr/data/goods/17/10/10/310/t50_310_detail_028.png',\n",
       "   'https://lush.co.kr/data/goods/17/10/10/310/t50_310_detail_129.png'],\n",
       "  'color': '#',\n",
       "  'category': '러쉬 > 퍼퓸 > 블랙 라벨',\n",
       "  'salePrice': 121000,\n",
       "  'originalPrice': 121000,\n",
       "  'brand': 'lush',\n",
       "  'volume': '#'}]"
      ]
     },
     "metadata": {},
     "output_type": "display_data"
    },
    {
     "data": {
      "text/plain": [
       "[{'name': '브레스 오브 갓 30ML',\n",
       "  'url': 'https://lush.co.kr/goods/goods_view.php?goodsNo=287',\n",
       "  'image': ['https://lush.co.kr/data/goods/17/10/10/287/t50_287_detail_056.png',\n",
       "   'https://lush.co.kr/data/goods/17/10/10/287/t50_287_detail_175.png'],\n",
       "  'color': '#',\n",
       "  'category': '러쉬 > 퍼퓸 > 화이트 리퀴드',\n",
       "  'salePrice': 66000,\n",
       "  'originalPrice': 66000,\n",
       "  'brand': 'lush',\n",
       "  'volume': '#'}]"
      ]
     },
     "metadata": {},
     "output_type": "display_data"
    },
    {
     "data": {
      "text/plain": [
       "[{'name': '퍼즈 30ML',\n",
       "  'url': 'https://lush.co.kr/goods/goods_view.php?goodsNo=260',\n",
       "  'image': ['https://lush.co.kr/data/goods/17/10/10/260/t50_260_detail_072.png',\n",
       "   'https://lush.co.kr/data/goods/17/10/10/260/t50_260_detail_199.png'],\n",
       "  'color': '#',\n",
       "  'category': '러쉬 > 퍼퓸 > 블랙 라벨',\n",
       "  'salePrice': 66000,\n",
       "  'originalPrice': 66000,\n",
       "  'brand': 'lush',\n",
       "  'volume': '#'}]"
      ]
     },
     "metadata": {},
     "output_type": "display_data"
    },
    {
     "data": {
      "text/plain": [
       "[{'name': '바닐라리 100ML',\n",
       "  'url': 'https://lush.co.kr/goods/goods_view.php?goodsNo=323',\n",
       "  'image': ['https://lush.co.kr/data/goods/17/10/10/323/t50_323_detail_010.png',\n",
       "   'https://lush.co.kr/data/goods/17/10/10/323/t50_323_detail_172.png'],\n",
       "  'color': '#',\n",
       "  'category': '러쉬 > 퍼퓸 > 화이트 리퀴드',\n",
       "  'salePrice': 110000,\n",
       "  'originalPrice': 110000,\n",
       "  'brand': 'lush',\n",
       "  'volume': '#'}]"
      ]
     },
     "metadata": {},
     "output_type": "display_data"
    },
    {
     "data": {
      "text/plain": [
       "[{'name': '렌트리스 30ML',\n",
       "  'url': 'https://lush.co.kr/goods/goods_view.php?goodsNo=314',\n",
       "  'image': ['https://lush.co.kr/data/goods/17/10/10/314/t50_314_detail_027.png',\n",
       "   'https://lush.co.kr/data/goods/17/10/10/314/t50_314_detail_115.png'],\n",
       "  'color': '#',\n",
       "  'category': '러쉬 > 퍼퓸 > 화이트 리퀴드',\n",
       "  'salePrice': 66000,\n",
       "  'originalPrice': 66000,\n",
       "  'brand': 'lush',\n",
       "  'volume': '#'}]"
      ]
     },
     "metadata": {},
     "output_type": "display_data"
    },
    {
     "data": {
      "text/plain": [
       "[{'name': '썬 100ML',\n",
       "  'url': 'https://lush.co.kr/goods/goods_view.php?goodsNo=313',\n",
       "  'image': ['https://lush.co.kr/data/goods/17/10/10/313/t50_313_detail_034.png',\n",
       "   'https://lush.co.kr/data/goods/17/10/10/313/t50_313_detail_136.png'],\n",
       "  'color': '#',\n",
       "  'category': '러쉬 > 퍼퓸 > 화이트 리퀴드',\n",
       "  'salePrice': 88000,\n",
       "  'originalPrice': 88000,\n",
       "  'brand': 'lush',\n",
       "  'volume': '#'}]"
      ]
     },
     "metadata": {},
     "output_type": "display_data"
    },
    {
     "data": {
      "text/plain": [
       "[{'name': '렌트리스 100ML',\n",
       "  'url': 'https://lush.co.kr/goods/goods_view.php?goodsNo=312',\n",
       "  'image': ['https://lush.co.kr/data/goods/17/10/10/312/t50_312_detail_065.png',\n",
       "   'https://lush.co.kr/data/goods/17/10/10/312/t50_312_detail_117.png'],\n",
       "  'color': '#',\n",
       "  'category': '러쉬 > 퍼퓸 > 화이트 리퀴드',\n",
       "  'salePrice': 132000,\n",
       "  'originalPrice': 132000,\n",
       "  'brand': 'lush',\n",
       "  'volume': '#'}]"
      ]
     },
     "metadata": {},
     "output_type": "display_data"
    },
    {
     "data": {
      "text/plain": [
       "[{'name': '엑스해일 15ML',\n",
       "  'url': 'https://lush.co.kr/goods/goods_view.php?goodsNo=307',\n",
       "  'image': ['https://lush.co.kr/data/goods/17/10/10/307/t50_307_detail_084.png',\n",
       "   'https://lush.co.kr/data/goods/17/10/10/307/t50_307_detail_155.png'],\n",
       "  'color': '#',\n",
       "  'category': '러쉬 > 퍼퓸 > 블랙 라벨',\n",
       "  'salePrice': 45000,\n",
       "  'originalPrice': 45000,\n",
       "  'brand': 'lush',\n",
       "  'volume': '#'}]"
      ]
     },
     "metadata": {},
     "output_type": "display_data"
    },
    {
     "data": {
      "text/plain": [
       "[{'name': '카다멈 커피 워시 카드',\n",
       "  'url': 'https://lush.co.kr/goods/goods_view.php?goodsNo=295',\n",
       "  'image': ['https://lush.co.kr/data/goods/17/10/10/295/t50_295_detail_015.png'],\n",
       "  'color': '#',\n",
       "  'category': '러쉬 > 퍼퓸 > 워시 카드',\n",
       "  'salePrice': 4000,\n",
       "  'originalPrice': 4000,\n",
       "  'brand': 'lush',\n",
       "  'volume': '#'}]"
      ]
     },
     "metadata": {},
     "output_type": "display_data"
    },
    {
     "data": {
      "text/plain": [
       "[{'name': '시킴 걸스 30ML',\n",
       "  'url': 'https://lush.co.kr/goods/goods_view.php?goodsNo=294',\n",
       "  'image': ['https://lush.co.kr/data/goods/17/10/10/294/t50_294_detail_034.png',\n",
       "   'https://lush.co.kr/data/goods/17/10/10/294/t50_294_detail_159.png'],\n",
       "  'color': '#',\n",
       "  'category': '러쉬 > 퍼퓸 > 화이트 리퀴드',\n",
       "  'salePrice': 77000,\n",
       "  'originalPrice': 77000,\n",
       "  'brand': 'lush',\n",
       "  'volume': '#'}]"
      ]
     },
     "metadata": {},
     "output_type": "display_data"
    },
    {
     "data": {
      "text/plain": [
       "[{'name': '시킴 걸스 100ML',\n",
       "  'url': 'https://lush.co.kr/goods/goods_view.php?goodsNo=292',\n",
       "  'image': ['https://lush.co.kr/data/goods/17/10/10/292/t50_292_detail_028.png',\n",
       "   'https://lush.co.kr/data/goods/17/10/10/292/t50_292_detail_193.png'],\n",
       "  'color': '#',\n",
       "  'category': '러쉬 > 퍼퓸 > 화이트 리퀴드',\n",
       "  'salePrice': 154000,\n",
       "  'originalPrice': 154000,\n",
       "  'brand': 'lush',\n",
       "  'volume': '#'}]"
      ]
     },
     "metadata": {},
     "output_type": "display_data"
    },
    {
     "data": {
      "text/plain": [
       "[{'name': '카다멈 커피 30ML',\n",
       "  'url': 'https://lush.co.kr/goods/goods_view.php?goodsNo=291',\n",
       "  'image': ['https://lush.co.kr/data/goods/17/10/10/291/t50_291_detail_085.png',\n",
       "   'https://lush.co.kr/data/goods/17/10/10/291/t50_291_detail_136.png'],\n",
       "  'color': '#',\n",
       "  'category': '러쉬 > 퍼퓸 > 화이트 리퀴드',\n",
       "  'salePrice': 99000,\n",
       "  'originalPrice': 99000,\n",
       "  'brand': 'lush',\n",
       "  'volume': '#'}]"
      ]
     },
     "metadata": {},
     "output_type": "display_data"
    },
    {
     "data": {
      "text/plain": [
       "[{'name': '카다멈 커피 100ML',\n",
       "  'url': 'https://lush.co.kr/goods/goods_view.php?goodsNo=290',\n",
       "  'image': ['https://lush.co.kr/data/goods/17/10/10/290/t50_290_detail_042.png',\n",
       "   'https://lush.co.kr/data/goods/17/10/10/290/t50_290_detail_115.png'],\n",
       "  'color': '#',\n",
       "  'category': '러쉬 > 퍼퓸 > 화이트 리퀴드',\n",
       "  'salePrice': 220000,\n",
       "  'originalPrice': 220000,\n",
       "  'brand': 'lush',\n",
       "  'volume': '#'}]"
      ]
     },
     "metadata": {},
     "output_type": "display_data"
    },
    {
     "data": {
      "text/plain": [
       "[{'name': '브레스 오브 갓 100ML',\n",
       "  'url': 'https://lush.co.kr/goods/goods_view.php?goodsNo=286',\n",
       "  'image': ['https://lush.co.kr/data/goods/17/10/10/286/t50_286_detail_04.png',\n",
       "   'https://lush.co.kr/data/goods/17/10/10/286/t50_286_detail_194.png'],\n",
       "  'color': '#',\n",
       "  'category': '러쉬 > 퍼퓸 > 화이트 리퀴드',\n",
       "  'salePrice': 132000,\n",
       "  'originalPrice': 132000,\n",
       "  'brand': 'lush',\n",
       "  'volume': '#'}]"
      ]
     },
     "metadata": {},
     "output_type": "display_data"
    },
    {
     "data": {
      "text/plain": [
       "[{'name': '올 굿 띵스 워시 카드',\n",
       "  'url': 'https://lush.co.kr/goods/goods_view.php?goodsNo=275',\n",
       "  'image': ['https://lush.co.kr/data/goods/17/10/10/275/t50_275_detail_093.png'],\n",
       "  'color': '#',\n",
       "  'category': '러쉬 > 퍼퓸 > 워시 카드',\n",
       "  'salePrice': 4000,\n",
       "  'originalPrice': 4000,\n",
       "  'brand': 'lush',\n",
       "  'volume': '#'}]"
      ]
     },
     "metadata": {},
     "output_type": "display_data"
    },
    {
     "data": {
      "text/plain": [
       "[{'name': '올 굿 띵스 30ML',\n",
       "  'url': 'https://lush.co.kr/goods/goods_view.php?goodsNo=268',\n",
       "  'image': ['https://lush.co.kr/data/goods/17/10/10/268/t50_268_detail_056.png',\n",
       "   'https://lush.co.kr/data/goods/17/10/10/268/t50_268_detail_190.png'],\n",
       "  'color': '#',\n",
       "  'category': '러쉬 > 퍼퓸 > 화이트 리퀴드',\n",
       "  'salePrice': 77000,\n",
       "  'originalPrice': 77000,\n",
       "  'brand': 'lush',\n",
       "  'volume': '#'}]"
      ]
     },
     "metadata": {},
     "output_type": "display_data"
    },
    {
     "data": {
      "text/plain": [
       "[{'name': '올 굿 띵스 100ML',\n",
       "  'url': 'https://lush.co.kr/goods/goods_view.php?goodsNo=267',\n",
       "  'image': ['https://lush.co.kr/data/goods/17/10/10/267/t50_267_detail_046.png',\n",
       "   'https://lush.co.kr/data/goods/17/10/10/267/t50_267_detail_149.png'],\n",
       "  'color': '#',\n",
       "  'category': '러쉬 > 퍼퓸 > 화이트 리퀴드',\n",
       "  'salePrice': 154000,\n",
       "  'originalPrice': 154000,\n",
       "  'brand': 'lush',\n",
       "  'volume': '#'}]"
      ]
     },
     "metadata": {},
     "output_type": "display_data"
    },
    {
     "data": {
      "text/plain": [
       "[{'name': '아이콘 30ML',\n",
       "  'url': 'https://lush.co.kr/goods/goods_view.php?goodsNo=261',\n",
       "  'image': ['https://lush.co.kr/data/goods/17/10/10/261/t50_261_detail_094.png',\n",
       "   'https://lush.co.kr/data/goods/17/10/10/261/t50_261_detail_119.png'],\n",
       "  'color': '#',\n",
       "  'category': '러쉬 > 퍼퓸 > 블랙 라벨',\n",
       "  'salePrice': 99000,\n",
       "  'originalPrice': 99000,\n",
       "  'brand': 'lush',\n",
       "  'volume': '#'}]"
      ]
     },
     "metadata": {},
     "output_type": "display_data"
    },
    {
     "data": {
      "text/plain": [
       "[{'name': '블루',\n",
       "  'url': 'https://lush.co.kr/goods/goods_view.php?goodsNo=258',\n",
       "  'image': ['https://lush.co.kr/data/goods/17/10/10/258/t50_258_detail_077.png'],\n",
       "  'color': '#',\n",
       "  'category': '러쉬 > 퍼퓸 > 퍼퓸 낫랩',\n",
       "  'salePrice': 10000,\n",
       "  'originalPrice': 10000,\n",
       "  'brand': 'lush',\n",
       "  'volume': '#'}]"
      ]
     },
     "metadata": {},
     "output_type": "display_data"
    },
    {
     "data": {
      "text/plain": [
       "[{'name': '그린',\n",
       "  'url': 'https://lush.co.kr/goods/goods_view.php?goodsNo=256',\n",
       "  'image': ['https://lush.co.kr/data/goods/17/10/10/256/t50_256_detail_038.png'],\n",
       "  'color': '#',\n",
       "  'category': '러쉬 > 퍼퓸 > 퍼퓸 낫랩',\n",
       "  'salePrice': 10000,\n",
       "  'originalPrice': 10000,\n",
       "  'brand': 'lush',\n",
       "  'volume': '#'}]"
      ]
     },
     "metadata": {},
     "output_type": "display_data"
    },
    {
     "data": {
      "text/plain": [
       "[{'name': '핑크',\n",
       "  'url': 'https://lush.co.kr/goods/goods_view.php?goodsNo=255',\n",
       "  'image': ['https://lush.co.kr/data/goods/17/10/10/255/t50_255_detail_092.png'],\n",
       "  'color': '#',\n",
       "  'category': '러쉬 > 퍼퓸 > 퍼퓸 낫랩',\n",
       "  'salePrice': 10000,\n",
       "  'originalPrice': 10000,\n",
       "  'brand': 'lush',\n",
       "  'volume': '#'}]"
      ]
     },
     "metadata": {},
     "output_type": "display_data"
    },
    {
     "data": {
      "text/plain": [
       "[{'name': '옐로우',\n",
       "  'url': 'https://lush.co.kr/goods/goods_view.php?goodsNo=253',\n",
       "  'image': ['https://lush.co.kr/data/goods/17/10/10/253/t50_253_detail_054.png'],\n",
       "  'color': '#',\n",
       "  'category': '러쉬 > 퍼퓸 > 퍼퓸 낫랩',\n",
       "  'salePrice': 10000,\n",
       "  'originalPrice': 10000,\n",
       "  'brand': 'lush',\n",
       "  'volume': '#'}]"
      ]
     },
     "metadata": {},
     "output_type": "display_data"
    },
    {
     "data": {
      "text/plain": [
       "[{'name': '러스트 100ML',\n",
       "  'url': 'https://lush.co.kr/goods/goods_view.php?goodsNo=280',\n",
       "  'image': ['https://lush.co.kr/data/goods/17/10/10/280/t50_280_detail_010.png',\n",
       "   'https://lush.co.kr/data/goods/17/10/10/280/t50_280_detail_180.png'],\n",
       "  'color': '#',\n",
       "  'category': '러쉬 > 퍼퓸 > 화이트 리퀴드',\n",
       "  'salePrice': 110000,\n",
       "  'originalPrice': 110000,\n",
       "  'brand': 'lush',\n",
       "  'volume': '#'}]"
      ]
     },
     "metadata": {},
     "output_type": "display_data"
    },
    {
     "data": {
      "text/plain": [
       "[{'name': '엑토플라즘',\n",
       "  'url': 'https://lush.co.kr/goods/goods_view.php?goodsNo=526',\n",
       "  'image': ['https://lush.co.kr/data/goods/18/09/18/526/t50_526_detail_094.png'],\n",
       "  'color': '#',\n",
       "  'category': '러쉬 > 퍼퓸 > 워시 카드',\n",
       "  'salePrice': 4000,\n",
       "  'originalPrice': 4000,\n",
       "  'brand': 'lush',\n",
       "  'volume': '#'}]"
      ]
     },
     "metadata": {},
     "output_type": "display_data"
    },
    {
     "data": {
      "text/plain": [
       "[{'name': '엑토플라즘',\n",
       "  'url': 'https://lush.co.kr/goods/goods_view.php?goodsNo=525',\n",
       "  'image': ['https://lush.co.kr/data/goods/18/09/18/525/t50_525_detail_010.png'],\n",
       "  'color': '#',\n",
       "  'category': '러쉬 > 퍼퓸 > 화이트 솔리드',\n",
       "  'salePrice': 20000,\n",
       "  'originalPrice': 20000,\n",
       "  'brand': 'lush',\n",
       "  'volume': '#'}]"
      ]
     },
     "metadata": {},
     "output_type": "display_data"
    },
    {
     "data": {
      "text/plain": [
       "[{'name': '마사지 바 틴',\n",
       "  'url': 'https://lush.co.kr/goods/goods_view.php?goodsNo=26',\n",
       "  'image': ['https://lush.co.kr/data/goods/11/01/20/26/t50_26_detail_027.png'],\n",
       "  'color': '#',\n",
       "  'category': '러쉬 > 기프트 > 악세서리',\n",
       "  'salePrice': 7100,\n",
       "  'originalPrice': 7100,\n",
       "  'brand': 'lush',\n",
       "  'volume': '#'}]"
      ]
     },
     "metadata": {},
     "output_type": "display_data"
    },
    {
     "data": {
      "text/plain": [
       "[{'name': '서프라이즈 박스',\n",
       "  'url': 'https://lush.co.kr/goods/goods_view.php?goodsNo=165',\n",
       "  'image': ['https://lush.co.kr/data/goods/15/10/26/165/t50_165_detail_032.png'],\n",
       "  'color': '#',\n",
       "  'category': '러쉬 > 기프트 > 악세서리',\n",
       "  'salePrice': 2000,\n",
       "  'originalPrice': 2000,\n",
       "  'brand': 'lush',\n",
       "  'volume': '#'}]"
      ]
     },
     "metadata": {},
     "output_type": "display_data"
    },
    {
     "data": {
      "text/plain": [
       "[{'name': '올 포 유 박스',\n",
       "  'url': 'https://lush.co.kr/goods/goods_view.php?goodsNo=166',\n",
       "  'image': ['https://lush.co.kr/data/goods/15/10/26/166/t50_166_detail_083.png'],\n",
       "  'color': '#',\n",
       "  'category': '러쉬 > 기프트 > 악세서리',\n",
       "  'salePrice': 3000,\n",
       "  'originalPrice': 3000,\n",
       "  'brand': 'lush',\n",
       "  'volume': '#'}]"
      ]
     },
     "metadata": {},
     "output_type": "display_data"
    },
    {
     "data": {
      "text/plain": [
       "[{'name': '포레스트 박스',\n",
       "  'url': 'https://lush.co.kr/goods/goods_view.php?goodsNo=164',\n",
       "  'image': ['https://lush.co.kr/data/goods/15/10/26/164/t50_164_detail_046.png'],\n",
       "  'color': '#',\n",
       "  'category': '러쉬 > 기프트 > 악세서리',\n",
       "  'salePrice': 1500,\n",
       "  'originalPrice': 1500,\n",
       "  'brand': 'lush',\n",
       "  'volume': '#'}]"
      ]
     },
     "metadata": {},
     "output_type": "display_data"
    },
    {
     "data": {
      "text/plain": [
       "[{'name': '샴푸 바 틴',\n",
       "  'url': 'https://lush.co.kr/goods/goods_view.php?goodsNo=40',\n",
       "  'image': ['https://lush.co.kr/data/goods/11/01/20/40/t50_40_detail_070.png'],\n",
       "  'color': '#',\n",
       "  'category': '러쉬 > 기프트 > 악세서리',\n",
       "  'salePrice': 7100,\n",
       "  'originalPrice': 7100,\n",
       "  'brand': 'lush',\n",
       "  'volume': '#'}]"
      ]
     },
     "metadata": {},
     "output_type": "display_data"
    },
    {
     "data": {
      "text/plain": [
       "[{'name': '썸띵 박스',\n",
       "  'url': 'https://lush.co.kr/goods/goods_view.php?goodsNo=223',\n",
       "  'image': ['https://lush.co.kr/data/goods/17/02/16/223/t50_223_detail_012.png'],\n",
       "  'color': '#',\n",
       "  'category': '러쉬 > 기프트 > 악세서리',\n",
       "  'salePrice': 1500,\n",
       "  'originalPrice': 1500,\n",
       "  'brand': 'lush',\n",
       "  'volume': '#'}]"
      ]
     },
     "metadata": {},
     "output_type": "display_data"
    },
    {
     "data": {
      "text/plain": [
       "[{'name': '보디 버터 틴',\n",
       "  'url': 'https://lush.co.kr/goods/goods_view.php?goodsNo=27',\n",
       "  'image': ['https://lush.co.kr/data/goods/11/01/20/27/t50_27_detail_058.png'],\n",
       "  'color': '#',\n",
       "  'category': '러쉬 > 기프트 > 악세서리',\n",
       "  'salePrice': 7100,\n",
       "  'originalPrice': 7100,\n",
       "  'brand': 'lush',\n",
       "  'volume': '#'}]"
      ]
     },
     "metadata": {},
     "output_type": "display_data"
    },
    {
     "data": {
      "text/plain": [
       "[{'name': '헤이데이 박스',\n",
       "  'url': 'https://lush.co.kr/goods/goods_view.php?goodsNo=197',\n",
       "  'image': ['https://lush.co.kr/data/goods/16/04/28/197/t50_197_detail_050.png'],\n",
       "  'color': '#',\n",
       "  'category': '러쉬 > 기프트 > 악세서리',\n",
       "  'salePrice': 3500,\n",
       "  'originalPrice': 3500,\n",
       "  'brand': 'lush',\n",
       "  'volume': '#'}]"
      ]
     },
     "metadata": {},
     "output_type": "display_data"
    },
    {
     "data": {
      "text/plain": [
       "[{'name': '샤워 파워',\n",
       "  'url': 'https://lush.co.kr/goods/goods_view.php?goodsNo=377',\n",
       "  'image': ['https://lush.co.kr/data/goods/18/02/25/377/t50_377_detail_053.png'],\n",
       "  'color': '#',\n",
       "  'category': '러쉬',\n",
       "  'salePrice': 37000,\n",
       "  'originalPrice': 37000,\n",
       "  'brand': 'lush',\n",
       "  'volume': '#'}]"
      ]
     },
     "metadata": {},
     "output_type": "display_data"
    },
    {
     "data": {
      "text/plain": [
       "[{'name': '골저스',\n",
       "  'url': 'https://lush.co.kr/goods/goods_view.php?goodsNo=376',\n",
       "  'image': ['https://lush.co.kr/data/goods/18/02/25/376/t50_376_detail_036.png'],\n",
       "  'color': '#',\n",
       "  'category': '러쉬 > 기프트 > 러쉬 세트',\n",
       "  'salePrice': 26000,\n",
       "  'originalPrice': 26000,\n",
       "  'brand': 'lush',\n",
       "  'volume': '#'}]"
      ]
     },
     "metadata": {},
     "output_type": "display_data"
    },
    {
     "data": {
      "text/plain": [
       "[{'name': '릴렉스',\n",
       "  'url': 'https://lush.co.kr/goods/goods_view.php?goodsNo=410',\n",
       "  'image': ['https://lush.co.kr/data/goods/18/03/30/410/t50_410_detail_067.png'],\n",
       "  'color': '#',\n",
       "  'category': '러쉬 > 기프트 > 러쉬 세트',\n",
       "  'salePrice': 49000,\n",
       "  'originalPrice': 49000,\n",
       "  'brand': 'lush',\n",
       "  'volume': '#'}]"
      ]
     },
     "metadata": {},
     "output_type": "display_data"
    },
    {
     "data": {
      "text/plain": [
       "[{'name': '러블리',\n",
       "  'url': 'https://lush.co.kr/goods/goods_view.php?goodsNo=406',\n",
       "  'image': ['https://lush.co.kr/data/goods/18/03/30/406/t50_406_detail_082.png'],\n",
       "  'color': '#',\n",
       "  'category': '러쉬 > 기프트 > 러쉬 세트',\n",
       "  'salePrice': 25000,\n",
       "  'originalPrice': 25000,\n",
       "  'brand': 'lush',\n",
       "  'volume': '#'}]"
      ]
     },
     "metadata": {},
     "output_type": "display_data"
    },
    {
     "data": {
      "text/plain": [
       "[{'name': '듀 드롭',\n",
       "  'url': 'https://lush.co.kr/goods/goods_view.php?goodsNo=402',\n",
       "  'image': ['https://lush.co.kr/data/goods/18/03/30/402/t50_402_detail_044.png'],\n",
       "  'color': '#',\n",
       "  'category': '러쉬 > 기프트 > 러쉬 세트',\n",
       "  'salePrice': 34000,\n",
       "  'originalPrice': 34000,\n",
       "  'brand': 'lush',\n",
       "  'volume': '#'}]"
      ]
     },
     "metadata": {},
     "output_type": "display_data"
    },
    {
     "data": {
      "text/plain": [
       "[{'name': '플라워 가든',\n",
       "  'url': 'https://lush.co.kr/goods/goods_view.php?goodsNo=403',\n",
       "  'image': ['https://lush.co.kr/data/goods/18/03/30/403/t50_403_detail_08.png'],\n",
       "  'color': '#',\n",
       "  'category': '러쉬 > 기프트 > 러쉬 세트',\n",
       "  'salePrice': 40000,\n",
       "  'originalPrice': 40000,\n",
       "  'brand': 'lush',\n",
       "  'volume': '#'}]"
      ]
     },
     "metadata": {},
     "output_type": "display_data"
    },
    {
     "data": {
      "text/plain": [
       "[{'name': '셀러브레이트',\n",
       "  'url': 'https://lush.co.kr/goods/goods_view.php?goodsNo=400',\n",
       "  'image': ['https://lush.co.kr/data/goods/18/03/30/400/t50_400_detail_099.png'],\n",
       "  'color': '#',\n",
       "  'category': '러쉬 > 기프트 > 러쉬 세트',\n",
       "  'salePrice': 44000,\n",
       "  'originalPrice': 44000,\n",
       "  'brand': 'lush',\n",
       "  'volume': '#'}]"
      ]
     },
     "metadata": {},
     "output_type": "display_data"
    },
    {
     "data": {
      "text/plain": [
       "[{'name': '스노우 페어리 보디 스프레이',\n",
       "  'url': 'https://lush.co.kr/goods/goods_view.php?goodsNo=1000000130',\n",
       "  'image': ['https://lush.co.kr/data/goods/18/12/52/1000000130/t50_1000000130_detail_030.png'],\n",
       "  'color': '#',\n",
       "  'category': '러쉬 > 크리스마스 > 크리스마스 기프트',\n",
       "  'salePrice': 63000,\n",
       "  'originalPrice': 63000,\n",
       "  'brand': 'lush',\n",
       "  'volume': '#'}]"
      ]
     },
     "metadata": {},
     "output_type": "display_data"
    },
    {
     "data": {
      "text/plain": [
       "[{'name': '파이팅 애니멀 테스팅 백',\n",
       "  'url': 'https://lush.co.kr/goods/goods_view.php?goodsNo=244',\n",
       "  'image': ['https://lush.co.kr/data/goods/17/07/17/244/t50_244_detail_015.png'],\n",
       "  'color': '#',\n",
       "  'category': '러쉬 > 기프트 > 스웨그',\n",
       "  'salePrice': 22000,\n",
       "  'originalPrice': 22000,\n",
       "  'brand': 'lush',\n",
       "  'volume': '#'}]"
      ]
     },
     "metadata": {},
     "output_type": "display_data"
    },
    {
     "data": {
      "text/plain": [
       "[{'name': '마이크로 박스',\n",
       "  'url': 'https://lush.co.kr/goods/goods_view.php?goodsNo=163',\n",
       "  'image': ['https://lush.co.kr/data/goods/15/10/26/163/t50_163_detail_028.png'],\n",
       "  'color': '#',\n",
       "  'category': '러쉬 > 기프트 > 악세서리',\n",
       "  'salePrice': 700,\n",
       "  'originalPrice': 700,\n",
       "  'brand': 'lush',\n",
       "  'volume': '#'}]"
      ]
     },
     "metadata": {},
     "output_type": "display_data"
    },
    {
     "data": {
      "text/plain": [
       "[{'name': '더 나이트 비포 크리스마스',\n",
       "  'url': 'https://lush.co.kr/goods/goods_view.php?goodsNo=578',\n",
       "  'image': ['https://lush.co.kr/data/goods/18/09/27/578/t50_578_detail_036.png'],\n",
       "  'color': '#',\n",
       "  'category': '러쉬 > 크리스마스 > 크리스마스 기프트',\n",
       "  'salePrice': 35000,\n",
       "  'originalPrice': 35000,\n",
       "  'brand': 'lush',\n",
       "  'volume': '#'}]"
      ]
     },
     "metadata": {},
     "output_type": "display_data"
    },
    {
     "data": {
      "text/plain": [
       "[{'name': '올 더 베스트',\n",
       "  'url': 'https://lush.co.kr/goods/goods_view.php?goodsNo=374',\n",
       "  'image': ['https://lush.co.kr/data/goods/18/02/25/374/t50_374_detail_045.png'],\n",
       "  'color': '#',\n",
       "  'category': '러쉬 > 기프트 > 러쉬 세트',\n",
       "  'salePrice': 43000,\n",
       "  'originalPrice': 43000,\n",
       "  'brand': 'lush',\n",
       "  'volume': '#'}]"
      ]
     },
     "metadata": {},
     "output_type": "display_data"
    },
    {
     "data": {
      "text/plain": [
       "[{'name': '로즈잼',\n",
       "  'url': 'https://lush.co.kr/goods/goods_view.php?goodsNo=423',\n",
       "  'image': ['https://lush.co.kr/data/goods/18/04/26/423/t50_423_detail_053.png'],\n",
       "  'color': '#',\n",
       "  'category': '러쉬 > 기프트 > 러쉬 세트',\n",
       "  'salePrice': 63000,\n",
       "  'originalPrice': 63000,\n",
       "  'brand': 'lush',\n",
       "  'volume': '#'}]"
      ]
     },
     "metadata": {},
     "output_type": "display_data"
    },
    {
     "data": {
      "text/plain": [
       "[{'name': '원스 어폰 어 크리스마스',\n",
       "  'url': 'https://lush.co.kr/goods/goods_view.php?goodsNo=537',\n",
       "  'image': ['https://lush.co.kr/data/goods/18/09/18/537/t50_537_detail_015.png'],\n",
       "  'color': '#',\n",
       "  'category': '러쉬',\n",
       "  'salePrice': 10000,\n",
       "  'originalPrice': 10000,\n",
       "  'brand': 'lush',\n",
       "  'volume': '#'}]"
      ]
     },
     "metadata": {},
     "output_type": "display_data"
    },
    {
     "data": {
      "text/plain": [
       "[{'name': '크리스마스 파티',\n",
       "  'url': 'https://lush.co.kr/goods/goods_view.php?goodsNo=530',\n",
       "  'image': ['https://lush.co.kr/data/goods/18/09/18/530/t50_530_detail_049.png'],\n",
       "  'color': '#',\n",
       "  'category': '러쉬',\n",
       "  'salePrice': 10000,\n",
       "  'originalPrice': 10000,\n",
       "  'brand': 'lush',\n",
       "  'volume': '#'}]"
      ]
     },
     "metadata": {},
     "output_type": "display_data"
    },
    {
     "data": {
      "text/plain": [
       "[{'name': '시즌스 그리팅스',\n",
       "  'url': 'https://lush.co.kr/goods/goods_view.php?goodsNo=573',\n",
       "  'image': ['https://lush.co.kr/data/goods/18/09/27/573/t50_573_detail_06.png'],\n",
       "  'color': '#',\n",
       "  'category': '러쉬',\n",
       "  'salePrice': 33000,\n",
       "  'originalPrice': 33000,\n",
       "  'brand': 'lush',\n",
       "  'volume': '#'}]"
      ]
     },
     "metadata": {},
     "output_type": "display_data"
    },
    {
     "data": {
      "text/plain": [
       "[{'name': '배쓰 오일 박스',\n",
       "  'url': 'https://lush.co.kr/goods/goods_view.php?goodsNo=384',\n",
       "  'image': ['https://lush.co.kr/data/goods/18/02/26/384/t50_384_detail_072.png'],\n",
       "  'color': '#',\n",
       "  'category': '러쉬 > 기프트 > 악세서리',\n",
       "  'salePrice': 2500,\n",
       "  'originalPrice': 2500,\n",
       "  'brand': 'lush',\n",
       "  'volume': '#'}]"
      ]
     },
     "metadata": {},
     "output_type": "display_data"
    },
    {
     "data": {
      "text/plain": [
       "[{'name': '리니아',\n",
       "  'url': 'https://lush.co.kr/goods/goods_view.php?goodsNo=1000000123',\n",
       "  'image': ['https://lush.co.kr/data/goods/18/12/51/1000000123/t50_1000000123_detail_077.png'],\n",
       "  'color': '#',\n",
       "  'category': '러쉬 > 기프트 > 낫랩',\n",
       "  'salePrice': 10000,\n",
       "  'originalPrice': 10000,\n",
       "  'brand': 'lush',\n",
       "  'volume': '#'}]"
      ]
     },
     "metadata": {},
     "output_type": "display_data"
    },
    {
     "data": {
      "text/plain": [
       "[{'name': '땡스 핸즈',\n",
       "  'url': 'https://lush.co.kr/goods/goods_view.php?goodsNo=413',\n",
       "  'image': ['https://lush.co.kr/data/goods/18/03/30/413/t50_413_detail_076.png'],\n",
       "  'color': '#',\n",
       "  'category': '러쉬 > 기프트 > 러쉬 세트',\n",
       "  'salePrice': 28000,\n",
       "  'originalPrice': 28000,\n",
       "  'brand': 'lush',\n",
       "  'volume': '#'}]"
      ]
     },
     "metadata": {},
     "output_type": "display_data"
    },
    {
     "data": {
      "text/plain": [
       "[{'name': '리프레쉬',\n",
       "  'url': 'https://lush.co.kr/goods/goods_view.php?goodsNo=409',\n",
       "  'image': ['https://lush.co.kr/data/goods/18/03/30/409/t50_409_detail_082.png'],\n",
       "  'color': '#',\n",
       "  'category': '러쉬 > 기프트 > 러쉬 세트',\n",
       "  'salePrice': 44000,\n",
       "  'originalPrice': 44000,\n",
       "  'brand': 'lush',\n",
       "  'volume': '#'}]"
      ]
     },
     "metadata": {},
     "output_type": "display_data"
    },
    {
     "data": {
      "text/plain": [
       "[{'name': '배쓰 오일 피라미드',\n",
       "  'url': 'https://lush.co.kr/goods/goods_view.php?goodsNo=1000000156',\n",
       "  'image': ['https://lush.co.kr/data/goods/19/01/02/1000000156/t50_1000000156_detail_097.png'],\n",
       "  'color': '#',\n",
       "  'category': '러쉬 > 기프트 > 러쉬 세트',\n",
       "  'salePrice': 100000,\n",
       "  'originalPrice': 100000,\n",
       "  'brand': 'lush',\n",
       "  'volume': '#'}]"
      ]
     },
     "metadata": {},
     "output_type": "display_data"
    },
    {
     "data": {
      "text/plain": [
       "[{'name': '티켓 투 라이드',\n",
       "  'url': 'https://lush.co.kr/goods/goods_view.php?goodsNo=417',\n",
       "  'image': ['https://lush.co.kr/data/goods/18/03/30/417/t50_417_detail_067.png'],\n",
       "  'color': '#',\n",
       "  'category': '러쉬 > 기프트 > 러쉬 세트',\n",
       "  'salePrice': 29000,\n",
       "  'originalPrice': 29000,\n",
       "  'brand': 'lush',\n",
       "  'volume': '#'}]"
      ]
     },
     "metadata": {},
     "output_type": "display_data"
    },
    {
     "data": {
      "text/plain": [
       "[{'name': '러쉬 라이프',\n",
       "  'url': 'https://lush.co.kr/goods/goods_view.php?goodsNo=408',\n",
       "  'image': ['https://lush.co.kr/data/goods/18/03/30/408/t50_408_detail_055.png'],\n",
       "  'color': '#',\n",
       "  'category': '러쉬 > 기프트 > 러쉬 세트',\n",
       "  'salePrice': 199000,\n",
       "  'originalPrice': 199000,\n",
       "  'brand': 'lush',\n",
       "  'volume': '#'}]"
      ]
     },
     "metadata": {},
     "output_type": "display_data"
    },
    {
     "data": {
      "text/plain": [
       "[{'name': '미트 미 언더 더 미슬토',\n",
       "  'url': 'https://lush.co.kr/goods/goods_view.php?goodsNo=534',\n",
       "  'image': ['https://lush.co.kr/data/goods/18/09/18/534/t50_534_detail_044.png'],\n",
       "  'color': '#',\n",
       "  'category': '러쉬',\n",
       "  'salePrice': 12000,\n",
       "  'originalPrice': 12000,\n",
       "  'brand': 'lush',\n",
       "  'volume': '#'}]"
      ]
     },
     "metadata": {},
     "output_type": "display_data"
    },
    {
     "data": {
      "text/plain": [
       "[{'name': '호, 호, 호!',\n",
       "  'url': 'https://lush.co.kr/goods/goods_view.php?goodsNo=533',\n",
       "  'image': ['https://lush.co.kr/data/goods/18/09/18/533/t50_533_detail_046.png'],\n",
       "  'color': '#',\n",
       "  'category': '러쉬',\n",
       "  'salePrice': 12000,\n",
       "  'originalPrice': 12000,\n",
       "  'brand': 'lush',\n",
       "  'volume': '#'}]"
      ]
     },
     "metadata": {},
     "output_type": "display_data"
    },
    {
     "data": {
      "text/plain": [
       "[{'name': '마크',\n",
       "  'url': 'https://lush.co.kr/goods/goods_view.php?goodsNo=237',\n",
       "  'image': ['https://lush.co.kr/data/goods/17/05/25/237/t50_237_detail_018.png'],\n",
       "  'color': '#',\n",
       "  'category': '러쉬',\n",
       "  'salePrice': 10000,\n",
       "  'originalPrice': 10000,\n",
       "  'brand': 'lush',\n",
       "  'volume': '#'}]"
      ]
     },
     "metadata": {},
     "output_type": "display_data"
    },
    {
     "data": {
      "text/plain": [
       "[{'name': '윈터 플로랄',\n",
       "  'url': 'https://lush.co.kr/goods/goods_view.php?goodsNo=544',\n",
       "  'image': ['https://lush.co.kr/data/goods/18/09/18/544/t50_544_detail_062.png'],\n",
       "  'color': '#',\n",
       "  'category': '러쉬',\n",
       "  'salePrice': 12000,\n",
       "  'originalPrice': 12000,\n",
       "  'brand': 'lush',\n",
       "  'volume': '#'}]"
      ]
     },
     "metadata": {},
     "output_type": "display_data"
    },
    {
     "data": {
      "text/plain": [
       "[{'name': '더 아트 오브 배씽',\n",
       "  'url': 'https://lush.co.kr/goods/goods_view.php?goodsNo=414',\n",
       "  'image': ['https://lush.co.kr/data/goods/18/03/30/414/t50_414_detail_0100.png'],\n",
       "  'color': '#',\n",
       "  'category': '러쉬 > 기프트 > 러쉬 세트',\n",
       "  'salePrice': 144000,\n",
       "  'originalPrice': 144000,\n",
       "  'brand': 'lush',\n",
       "  'volume': '#'}]"
      ]
     },
     "metadata": {},
     "output_type": "display_data"
    },
    {
     "data": {
      "text/plain": [
       "[{'name': '어 리틀 허니',\n",
       "  'url': 'https://lush.co.kr/goods/goods_view.php?goodsNo=399',\n",
       "  'image': ['https://lush.co.kr/data/goods/18/03/30/399/t50_399_detail_04.png'],\n",
       "  'color': '#',\n",
       "  'category': '러쉬 > 기프트 > 러쉬 세트',\n",
       "  'salePrice': 33000,\n",
       "  'originalPrice': 33000,\n",
       "  'brand': 'lush',\n",
       "  'volume': '#'}]"
      ]
     },
     "metadata": {},
     "output_type": "display_data"
    },
    {
     "data": {
      "text/plain": [
       "[{'name': '스노우 페어리',\n",
       "  'url': 'https://lush.co.kr/goods/goods_view.php?goodsNo=542',\n",
       "  'image': ['https://lush.co.kr/data/goods/18/09/18/542/t50_542_detail_094.png'],\n",
       "  'color': '#',\n",
       "  'category': '러쉬',\n",
       "  'salePrice': 12000,\n",
       "  'originalPrice': 12000,\n",
       "  'brand': 'lush',\n",
       "  'volume': '#'}]"
      ]
     },
     "metadata": {},
     "output_type": "display_data"
    },
    {
     "data": {
      "text/plain": [
       "[{'name': '배쓰 아트',\n",
       "  'url': 'https://lush.co.kr/goods/goods_view.php?goodsNo=375',\n",
       "  'image': ['https://lush.co.kr/data/goods/18/02/25/375/t50_375_detail_051.png'],\n",
       "  'color': '#',\n",
       "  'category': '러쉬 > 기프트 > 러쉬 세트',\n",
       "  'salePrice': 34000,\n",
       "  'originalPrice': 34000,\n",
       "  'brand': 'lush',\n",
       "  'volume': '#'}]"
      ]
     },
     "metadata": {},
     "output_type": "display_data"
    },
    {
     "data": {
      "text/plain": [
       "[{'name': '크리스마스 크리터스',\n",
       "  'url': 'https://lush.co.kr/goods/goods_view.php?goodsNo=529',\n",
       "  'image': ['https://lush.co.kr/data/goods/18/09/18/529/t50_529_detail_023.png'],\n",
       "  'color': '#',\n",
       "  'category': '러쉬',\n",
       "  'salePrice': 12000,\n",
       "  'originalPrice': 12000,\n",
       "  'brand': 'lush',\n",
       "  'volume': '#'}]"
      ]
     },
     "metadata": {},
     "output_type": "display_data"
    },
    {
     "data": {
      "text/plain": [
       "[{'name': '스위트니스',\n",
       "  'url': 'https://lush.co.kr/goods/goods_view.php?goodsNo=378',\n",
       "  'image': ['https://lush.co.kr/data/goods/18/02/25/378/t50_378_detail_012.png'],\n",
       "  'color': '#',\n",
       "  'category': '러쉬 > 기프트 > 러쉬 세트',\n",
       "  'salePrice': 33000,\n",
       "  'originalPrice': 33000,\n",
       "  'brand': 'lush',\n",
       "  'volume': '#'}]"
      ]
     },
     "metadata": {},
     "output_type": "display_data"
    },
    {
     "data": {
      "text/plain": [
       "[{'name': '베스트 위시스',\n",
       "  'url': 'https://lush.co.kr/goods/goods_view.php?goodsNo=568',\n",
       "  'image': ['https://lush.co.kr/data/goods/18/09/27/568/t50_568_detail_025.png'],\n",
       "  'color': '#',\n",
       "  'category': '러쉬',\n",
       "  'salePrice': 49000,\n",
       "  'originalPrice': 49000,\n",
       "  'brand': 'lush',\n",
       "  'volume': '#'}]"
      ]
     },
     "metadata": {},
     "output_type": "display_data"
    },
    {
     "data": {
      "text/plain": [
       "[{'name': '펀 가이스',\n",
       "  'url': 'https://lush.co.kr/goods/goods_view.php?goodsNo=531',\n",
       "  'image': ['https://lush.co.kr/data/goods/18/09/18/531/t50_531_detail_037.png'],\n",
       "  'color': '#',\n",
       "  'category': '러쉬',\n",
       "  'salePrice': 10000,\n",
       "  'originalPrice': 10000,\n",
       "  'brand': 'lush',\n",
       "  'volume': '#'}]"
      ]
     },
     "metadata": {},
     "output_type": "display_data"
    },
    {
     "data": {
      "text/plain": [
       "[{'name': '에너지',\n",
       "  'url': 'https://lush.co.kr/goods/goods_view.php?goodsNo=449',\n",
       "  'image': ['https://lush.co.kr/data/goods/18/08/28/449/t50_449_detail_03.png'],\n",
       "  'color': '#',\n",
       "  'category': '러쉬 > 기프트 > 낫랩',\n",
       "  'salePrice': 10000,\n",
       "  'originalPrice': 10000,\n",
       "  'brand': 'lush',\n",
       "  'volume': '#'}]"
      ]
     },
     "metadata": {},
     "output_type": "display_data"
    },
    {
     "data": {
      "text/plain": [
       "[{'name': '후즈 어 프리티',\n",
       "  'url': 'https://lush.co.kr/goods/goods_view.php?goodsNo=418',\n",
       "  'image': ['https://lush.co.kr/data/goods/18/04/20/418/t50_418_detail_031.png'],\n",
       "  'color': '#',\n",
       "  'category': '러쉬',\n",
       "  'salePrice': 10000,\n",
       "  'originalPrice': 10000,\n",
       "  'brand': 'lush',\n",
       "  'volume': '#'}]"
      ]
     },
     "metadata": {},
     "output_type": "display_data"
    },
    {
     "data": {
      "text/plain": [
       "[{'name': '띵크 핑크',\n",
       "  'url': 'https://lush.co.kr/goods/goods_view.php?goodsNo=416',\n",
       "  'image': ['https://lush.co.kr/data/goods/18/03/30/416/t50_416_detail_04.png'],\n",
       "  'color': '#',\n",
       "  'category': '러쉬 > 기프트 > 러쉬 세트',\n",
       "  'salePrice': 92000,\n",
       "  'originalPrice': 92000,\n",
       "  'brand': 'lush',\n",
       "  'volume': '#'}]"
      ]
     },
     "metadata": {},
     "output_type": "display_data"
    },
    {
     "data": {
      "text/plain": [
       "[{'name': '소 드리미',\n",
       "  'url': 'https://lush.co.kr/goods/goods_view.php?goodsNo=412',\n",
       "  'image': ['https://lush.co.kr/data/goods/18/03/30/412/t50_412_detail_097.png'],\n",
       "  'color': '#',\n",
       "  'category': '러쉬 > 기프트 > 러쉬 세트',\n",
       "  'salePrice': 60000,\n",
       "  'originalPrice': 60000,\n",
       "  'brand': 'lush',\n",
       "  'volume': '#'}]"
      ]
     },
     "metadata": {},
     "output_type": "display_data"
    },
    {
     "data": {
      "text/plain": [
       "[{'name': '휘게 홀리데이스',\n",
       "  'url': 'https://lush.co.kr/goods/goods_view.php?goodsNo=566',\n",
       "  'image': ['https://lush.co.kr/data/goods/18/09/20/566/t50_566_detail_047.png'],\n",
       "  'color': '#',\n",
       "  'category': '러쉬',\n",
       "  'salePrice': 54000,\n",
       "  'originalPrice': 54000,\n",
       "  'brand': 'lush',\n",
       "  'volume': '#'}]"
      ]
     },
     "metadata": {},
     "output_type": "display_data"
    },
    {
     "data": {
      "text/plain": [
       "[{'name': '피어스 고 팝',\n",
       "  'url': 'https://lush.co.kr/goods/goods_view.php?goodsNo=538',\n",
       "  'image': ['https://lush.co.kr/data/goods/18/09/18/538/t50_538_detail_05.png'],\n",
       "  'color': '#',\n",
       "  'category': '러쉬',\n",
       "  'salePrice': 10000,\n",
       "  'originalPrice': 10000,\n",
       "  'brand': 'lush',\n",
       "  'volume': '#'}]"
      ]
     },
     "metadata": {},
     "output_type": "display_data"
    },
    {
     "data": {
      "text/plain": [
       "[{'name': '트립',\n",
       "  'url': 'https://lush.co.kr/goods/goods_view.php?goodsNo=448',\n",
       "  'image': ['https://lush.co.kr/data/goods/18/08/28/448/t50_448_detail_022.png'],\n",
       "  'color': '#',\n",
       "  'category': '러쉬 > 기프트 > 낫랩',\n",
       "  'salePrice': 10000,\n",
       "  'originalPrice': 10000,\n",
       "  'brand': 'lush',\n",
       "  'volume': '#'}]"
      ]
     },
     "metadata": {},
     "output_type": "display_data"
    },
    {
     "data": {
      "text/plain": [
       "[{'name': '디노사우르스',\n",
       "  'url': 'https://lush.co.kr/goods/goods_view.php?goodsNo=420',\n",
       "  'image': ['https://lush.co.kr/data/goods/18/04/23/420/t50_420_detail_068.png'],\n",
       "  'color': '#',\n",
       "  'category': '러쉬',\n",
       "  'salePrice': 10000,\n",
       "  'originalPrice': 10000,\n",
       "  'brand': 'lush',\n",
       "  'volume': '#'}]"
      ]
     },
     "metadata": {},
     "output_type": "display_data"
    },
    {
     "data": {
      "text/plain": [
       "[{'name': '더 나이트 가든',\n",
       "  'url': 'https://lush.co.kr/goods/goods_view.php?goodsNo=407',\n",
       "  'image': ['https://lush.co.kr/data/goods/18/03/30/407/t50_407_detail_080.png'],\n",
       "  'color': '#',\n",
       "  'category': '러쉬 > 기프트 > 러쉬 세트',\n",
       "  'salePrice': 72000,\n",
       "  'originalPrice': 72000,\n",
       "  'brand': 'lush',\n",
       "  'volume': '#'}]"
      ]
     },
     "metadata": {},
     "output_type": "display_data"
    },
    {
     "data": {
      "text/plain": [
       "[{'name': '원더풀',\n",
       "  'url': 'https://lush.co.kr/goods/goods_view.php?goodsNo=380',\n",
       "  'image': ['https://lush.co.kr/data/goods/18/02/25/380/t50_380_detail_079.png'],\n",
       "  'color': '#',\n",
       "  'category': '러쉬 > 기프트 > 러쉬 세트',\n",
       "  'salePrice': 86000,\n",
       "  'originalPrice': 86000,\n",
       "  'brand': 'lush',\n",
       "  'volume': '#'}]"
      ]
     },
     "metadata": {},
     "output_type": "display_data"
    },
    {
     "data": {
      "text/plain": [
       "[{'name': '브라이트 부케',\n",
       "  'url': 'https://lush.co.kr/goods/goods_view.php?goodsNo=217',\n",
       "  'image': ['https://lush.co.kr/data/goods/16/08/26/217/t50_217_detail_03.png'],\n",
       "  'color': '#',\n",
       "  'category': '러쉬 > 기프트 > 낫랩',\n",
       "  'salePrice': 10000,\n",
       "  'originalPrice': 10000,\n",
       "  'brand': 'lush',\n",
       "  'volume': '#'}]"
      ]
     },
     "metadata": {},
     "output_type": "display_data"
    },
    {
     "data": {
      "text/plain": [
       "[{'name': '뱅!',\n",
       "  'url': 'https://lush.co.kr/goods/goods_view.php?goodsNo=560',\n",
       "  'image': ['https://lush.co.kr/data/goods/18/09/20/560/t50_560_detail_056.png'],\n",
       "  'color': '#',\n",
       "  'category': '러쉬',\n",
       "  'salePrice': 88000,\n",
       "  'originalPrice': 88000,\n",
       "  'brand': 'lush',\n",
       "  'volume': '#'}]"
      ]
     },
     "metadata": {},
     "output_type": "display_data"
    },
    {
     "data": {
      "text/plain": [
       "[{'name': '러쉬 라이프',\n",
       "  'url': 'https://lush.co.kr/goods/goods_view.php?goodsNo=428',\n",
       "  'image': ['https://lush.co.kr/data/goods/18/05/02/428/t50_428_detail_011.png'],\n",
       "  'color': '#',\n",
       "  'category': '러쉬 > 기프트 > 낫랩',\n",
       "  'salePrice': 10000,\n",
       "  'originalPrice': 10000,\n",
       "  'brand': 'lush',\n",
       "  'volume': '#'}]"
      ]
     },
     "metadata": {},
     "output_type": "display_data"
    },
    {
     "data": {
      "text/plain": [
       "[{'name': '더 워시 박스',\n",
       "  'url': 'https://lush.co.kr/goods/goods_view.php?goodsNo=415',\n",
       "  'image': ['https://lush.co.kr/data/goods/18/03/30/415/t50_415_detail_09.png'],\n",
       "  'color': '#',\n",
       "  'category': '러쉬 > 기프트 > 러쉬 세트',\n",
       "  'salePrice': 70000,\n",
       "  'originalPrice': 70000,\n",
       "  'brand': 'lush',\n",
       "  'volume': '#'}]"
      ]
     },
     "metadata": {},
     "output_type": "display_data"
    },
    {
     "data": {
      "text/plain": [
       "[{'name': '허니 허니',\n",
       "  'url': 'https://lush.co.kr/goods/goods_view.php?goodsNo=405',\n",
       "  'image': ['https://lush.co.kr/data/goods/18/03/30/405/t50_405_detail_069.png'],\n",
       "  'color': '#',\n",
       "  'category': '러쉬 > 기프트 > 러쉬 세트',\n",
       "  'salePrice': 98000,\n",
       "  'originalPrice': 98000,\n",
       "  'brand': 'lush',\n",
       "  'volume': '#'}]"
      ]
     },
     "metadata": {},
     "output_type": "display_data"
    },
    {
     "data": {
      "text/plain": [
       "[{'name': '더 컴포터',\n",
       "  'url': 'https://lush.co.kr/goods/goods_view.php?goodsNo=379',\n",
       "  'image': ['https://lush.co.kr/data/goods/18/02/25/379/t50_379_detail_069.png'],\n",
       "  'color': '#',\n",
       "  'category': '러쉬 > 기프트 > 러쉬 세트',\n",
       "  'salePrice': 67000,\n",
       "  'originalPrice': 67000,\n",
       "  'brand': 'lush',\n",
       "  'volume': '#'}]"
      ]
     },
     "metadata": {},
     "output_type": "display_data"
    },
    {
     "data": {
      "text/plain": [
       "[{'name': '프리덤 오브 무브먼트 와펜',\n",
       "  'url': 'https://lush.co.kr/goods/goods_view.php?goodsNo=361',\n",
       "  'image': ['https://lush.co.kr/data/goods/17/12/28/361/t50_361_detail_067.png'],\n",
       "  'color': '#',\n",
       "  'category': '러쉬 > 기프트 > 스웨그',\n",
       "  'salePrice': 5000,\n",
       "  'originalPrice': 5000,\n",
       "  'brand': 'lush',\n",
       "  'volume': '#'}]"
      ]
     },
     "metadata": {},
     "output_type": "display_data"
    },
    {
     "data": {
      "text/plain": [
       "[{'name': '스노우 글로브',\n",
       "  'url': 'https://lush.co.kr/goods/goods_view.php?goodsNo=593',\n",
       "  'image': ['https://lush.co.kr/data/goods/18/09/27/593/t50_593_detail_068.png'],\n",
       "  'color': '#',\n",
       "  'category': '러쉬',\n",
       "  'salePrice': 83000,\n",
       "  'originalPrice': 83000,\n",
       "  'brand': 'lush',\n",
       "  'volume': '#'}]"
      ]
     },
     "metadata": {},
     "output_type": "display_data"
    },
    {
     "data": {
      "text/plain": [
       "[{'name': '로저 앤드 더 빅 스키',\n",
       "  'url': 'https://lush.co.kr/goods/goods_view.php?goodsNo=540',\n",
       "  'image': ['https://lush.co.kr/data/goods/18/09/18/540/t50_540_detail_041.png'],\n",
       "  'color': '#',\n",
       "  'category': '러쉬',\n",
       "  'salePrice': 12000,\n",
       "  'originalPrice': 12000,\n",
       "  'brand': 'lush',\n",
       "  'volume': '#'}]"
      ]
     },
     "metadata": {},
     "output_type": "display_data"
    },
    {
     "data": {
      "text/plain": [
       "[{'name': '어텀 리브스',\n",
       "  'url': 'https://lush.co.kr/goods/goods_view.php?goodsNo=527',\n",
       "  'image': ['https://lush.co.kr/data/goods/18/09/18/527/t50_527_detail_020.png'],\n",
       "  'color': '#',\n",
       "  'category': '러쉬',\n",
       "  'salePrice': 12000,\n",
       "  'originalPrice': 12000,\n",
       "  'brand': 'lush',\n",
       "  'volume': '#'}]"
      ]
     },
     "metadata": {},
     "output_type": "display_data"
    },
    {
     "data": {
      "text/plain": [
       "[{'name': '와일드 플라워스',\n",
       "  'url': 'https://lush.co.kr/goods/goods_view.php?goodsNo=419',\n",
       "  'image': ['https://lush.co.kr/data/goods/18/04/20/419/t50_419_detail_04.png'],\n",
       "  'color': '#',\n",
       "  'category': '러쉬',\n",
       "  'salePrice': 10000,\n",
       "  'originalPrice': 10000,\n",
       "  'brand': 'lush',\n",
       "  'volume': '#'}]"
      ]
     },
     "metadata": {},
     "output_type": "display_data"
    },
    {
     "data": {
      "text/plain": [
       "[{'name': '치어 업 버터컵',\n",
       "  'url': 'https://lush.co.kr/goods/goods_view.php?goodsNo=401',\n",
       "  'image': ['https://lush.co.kr/data/goods/18/03/30/401/t50_401_detail_03.png'],\n",
       "  'color': '#',\n",
       "  'category': '러쉬 > 기프트 > 러쉬 세트',\n",
       "  'salePrice': 60000,\n",
       "  'originalPrice': 60000,\n",
       "  'brand': 'lush',\n",
       "  'volume': '#'}]"
      ]
     },
     "metadata": {},
     "output_type": "display_data"
    },
    {
     "data": {
      "text/plain": [
       "[{'name': '굿나잇 스윗',\n",
       "  'url': 'https://lush.co.kr/goods/goods_view.php?goodsNo=381',\n",
       "  'image': ['https://lush.co.kr/data/goods/18/02/25/381/t50_381_detail_010.png'],\n",
       "  'color': '#',\n",
       "  'category': '러쉬 > 기프트 > 낫랩',\n",
       "  'salePrice': 10000,\n",
       "  'originalPrice': 10000,\n",
       "  'brand': 'lush',\n",
       "  'volume': '#'}]"
      ]
     },
     "metadata": {},
     "output_type": "display_data"
    },
    {
     "data": {
      "text/plain": [
       "[{'name': '프리티 애즈 어 픽처',\n",
       "  'url': 'https://lush.co.kr/goods/goods_view.php?goodsNo=218',\n",
       "  'image': ['https://lush.co.kr/data/goods/16/08/26/218/t50_218_detail_090.png'],\n",
       "  'color': '#',\n",
       "  'category': '러쉬 > 기프트 > 낫랩',\n",
       "  'salePrice': 10000,\n",
       "  'originalPrice': 10000,\n",
       "  'brand': 'lush',\n",
       "  'volume': '#'}]"
      ]
     },
     "metadata": {},
     "output_type": "display_data"
    },
    {
     "data": {
      "text/plain": [
       "[{'name': '스타더스트',\n",
       "  'url': 'https://lush.co.kr/goods/goods_view.php?goodsNo=1000000120',\n",
       "  'image': ['https://lush.co.kr/data/goods/18/12/50/1000000120/t50_1000000120_detail_089.png'],\n",
       "  'color': '#',\n",
       "  'category': '러쉬 > 크리스마스 > 크리스마스 기프트',\n",
       "  'salePrice': 101000,\n",
       "  'originalPrice': 101000,\n",
       "  'brand': 'lush',\n",
       "  'volume': '#'}]"
      ]
     },
     "metadata": {},
     "output_type": "display_data"
    },
    {
     "data": {
      "text/plain": [
       "[{'name': '팽',\n",
       "  'url': 'https://lush.co.kr/goods/goods_view.php?goodsNo=564',\n",
       "  'image': ['https://lush.co.kr/data/goods/18/09/20/564/t50_564_detail_045.png'],\n",
       "  'color': '#',\n",
       "  'category': '러쉬',\n",
       "  'salePrice': 24000,\n",
       "  'originalPrice': 24000,\n",
       "  'brand': 'lush',\n",
       "  'volume': '#'}]"
      ]
     },
     "metadata": {},
     "output_type": "display_data"
    },
    {
     "data": {
      "text/plain": [
       "[{'name': '윈터 원더랜드',\n",
       "  'url': 'https://lush.co.kr/goods/goods_view.php?goodsNo=545',\n",
       "  'image': ['https://lush.co.kr/data/goods/18/09/18/545/t50_545_detail_025.png'],\n",
       "  'color': '#',\n",
       "  'category': '러쉬',\n",
       "  'salePrice': 25000,\n",
       "  'originalPrice': 25000,\n",
       "  'brand': 'lush',\n",
       "  'volume': '#'}]"
      ]
     },
     "metadata": {},
     "output_type": "display_data"
    },
    {
     "data": {
      "text/plain": [
       "[{'name': '팝',\n",
       "  'url': 'https://lush.co.kr/goods/goods_view.php?goodsNo=447',\n",
       "  'image': ['https://lush.co.kr/data/goods/18/08/28/447/t50_447_detail_081.png'],\n",
       "  'color': '#',\n",
       "  'category': '러쉬 > 기프트 > 낫랩',\n",
       "  'salePrice': 10000,\n",
       "  'originalPrice': 10000,\n",
       "  'brand': 'lush',\n",
       "  'volume': '#'}]"
      ]
     },
     "metadata": {},
     "output_type": "display_data"
    },
    {
     "data": {
      "text/plain": [
       "[{'name': '탄산 월드 트리',\n",
       "  'url': 'https://lush.co.kr/goods/goods_view.php?goodsNo=435',\n",
       "  'image': ['https://lush.co.kr/data/goods/18/08/07/435/t50_435_detail_096.png'],\n",
       "  'color': '#',\n",
       "  'category': '러쉬 > 기프트 > 낫랩',\n",
       "  'salePrice': 10000,\n",
       "  'originalPrice': 10000,\n",
       "  'brand': 'lush',\n",
       "  'volume': '#'}]"
      ]
     },
     "metadata": {},
     "output_type": "display_data"
    },
    {
     "data": {
      "text/plain": [
       "[{'name': '지그재그',\n",
       "  'url': 'https://lush.co.kr/goods/goods_view.php?goodsNo=432',\n",
       "  'image': ['https://lush.co.kr/data/goods/18/05/28/432/t50_432_detail_041.png'],\n",
       "  'color': '#',\n",
       "  'category': '러쉬 > 기프트 > 낫랩',\n",
       "  'salePrice': 10000,\n",
       "  'originalPrice': 10000,\n",
       "  'brand': 'lush',\n",
       "  'volume': '#'}]"
      ]
     },
     "metadata": {},
     "output_type": "display_data"
    },
    {
     "data": {
      "text/plain": [
       "[{'name': '왓츠 잇',\n",
       "  'url': 'https://lush.co.kr/goods/goods_view.php?goodsNo=431',\n",
       "  'image': ['https://lush.co.kr/data/goods/18/05/28/431/t50_431_detail_013.png'],\n",
       "  'color': '#',\n",
       "  'category': '러쉬 > 기프트 > 낫랩',\n",
       "  'salePrice': 10000,\n",
       "  'originalPrice': 10000,\n",
       "  'brand': 'lush',\n",
       "  'volume': '#'}]"
      ]
     },
     "metadata": {},
     "output_type": "display_data"
    },
    {
     "data": {
      "text/plain": [
       "[{'name': '페이즐리',\n",
       "  'url': 'https://lush.co.kr/goods/goods_view.php?goodsNo=429',\n",
       "  'image': ['https://lush.co.kr/data/goods/18/05/02/429/t50_429_detail_031.png'],\n",
       "  'color': '#',\n",
       "  'category': '러쉬 > 기프트 > 낫랩',\n",
       "  'salePrice': 10000,\n",
       "  'originalPrice': 10000,\n",
       "  'brand': 'lush',\n",
       "  'volume': '#'}]"
      ]
     },
     "metadata": {},
     "output_type": "display_data"
    },
    {
     "data": {
      "text/plain": [
       "[{'name': '고릴라스',\n",
       "  'url': 'https://lush.co.kr/goods/goods_view.php?goodsNo=421',\n",
       "  'image': ['https://lush.co.kr/data/goods/18/04/23/421/t50_421_detail_021.png'],\n",
       "  'color': '#',\n",
       "  'category': '러쉬',\n",
       "  'salePrice': 10000,\n",
       "  'originalPrice': 10000,\n",
       "  'brand': 'lush',\n",
       "  'volume': '#'}]"
      ]
     },
     "metadata": {},
     "output_type": "display_data"
    },
    {
     "data": {
      "text/plain": [
       "[{'name': '리버 오브 드림즈',\n",
       "  'url': 'https://lush.co.kr/goods/goods_view.php?goodsNo=411',\n",
       "  'image': ['https://lush.co.kr/data/goods/18/03/30/411/t50_411_detail_01.png'],\n",
       "  'color': '#',\n",
       "  'category': '러쉬 > 기프트 > 러쉬 세트',\n",
       "  'salePrice': 90000,\n",
       "  'originalPrice': 90000,\n",
       "  'brand': 'lush',\n",
       "  'volume': '#'}]"
      ]
     },
     "metadata": {},
     "output_type": "display_data"
    },
    {
     "data": {
      "text/plain": [
       "[{'name': '해피 배씽',\n",
       "  'url': 'https://lush.co.kr/goods/goods_view.php?goodsNo=404',\n",
       "  'image': ['https://lush.co.kr/data/goods/18/03/30/404/t50_404_detail_081.png'],\n",
       "  'color': '#',\n",
       "  'category': '러쉬 > 기프트 > 러쉬 세트',\n",
       "  'salePrice': 48000,\n",
       "  'originalPrice': 48000,\n",
       "  'brand': 'lush',\n",
       "  'volume': '#'}]"
      ]
     },
     "metadata": {},
     "output_type": "display_data"
    },
    {
     "data": {
      "text/plain": [
       "[{'name': '브라이트사이드',\n",
       "  'url': 'https://lush.co.kr/goods/goods_view.php?goodsNo=382',\n",
       "  'image': ['https://lush.co.kr/data/goods/18/02/25/382/t50_382_detail_028.png'],\n",
       "  'color': '#',\n",
       "  'category': '러쉬 > 기프트 > 낫랩',\n",
       "  'salePrice': 25000,\n",
       "  'originalPrice': 25000,\n",
       "  'brand': 'lush',\n",
       "  'volume': '#'}]"
      ]
     },
     "metadata": {},
     "output_type": "display_data"
    },
    {
     "data": {
      "text/plain": [
       "[{'name': '비 해피',\n",
       "  'url': 'https://lush.co.kr/goods/goods_view.php?goodsNo=243',\n",
       "  'image': ['https://lush.co.kr/data/goods/17/07/10/243/t50_243_detail_097.png'],\n",
       "  'color': '#',\n",
       "  'category': '러쉬 > 기프트 > 낫랩',\n",
       "  'salePrice': 10000,\n",
       "  'originalPrice': 10000,\n",
       "  'brand': 'lush',\n",
       "  'volume': '#'}]"
      ]
     },
     "metadata": {},
     "output_type": "display_data"
    },
    {
     "data": {
      "text/plain": [
       "[{'name': '코랄 씨',\n",
       "  'url': 'https://lush.co.kr/goods/goods_view.php?goodsNo=216',\n",
       "  'image': ['https://lush.co.kr/data/goods/16/08/26/216/t50_216_detail_031.png'],\n",
       "  'color': '#',\n",
       "  'category': '러쉬 > 기프트 > 낫랩',\n",
       "  'salePrice': 10000,\n",
       "  'originalPrice': 10000,\n",
       "  'brand': 'lush',\n",
       "  'volume': '#'}]"
      ]
     },
     "metadata": {},
     "output_type": "display_data"
    },
    {
     "data": {
      "text/plain": [
       "[{'name': '드리밍 오브 크리스마스',\n",
       "  'url': 'https://lush.co.kr/goods/goods_view.php?goodsNo=583',\n",
       "  'image': ['https://lush.co.kr/data/goods/18/09/27/583/t50_583_detail_07.png'],\n",
       "  'color': '#',\n",
       "  'category': '러쉬 > 크리스마스 > 크리스마스 기프트',\n",
       "  'salePrice': 50000,\n",
       "  'originalPrice': 50000,\n",
       "  'brand': 'lush',\n",
       "  'volume': '#'}]"
      ]
     },
     "metadata": {},
     "output_type": "display_data"
    },
    {
     "data": {
      "text/plain": [
       "[{'name': '리틀 스노우 페어리',\n",
       "  'url': 'https://lush.co.kr/goods/goods_view.php?goodsNo=587',\n",
       "  'image': ['https://lush.co.kr/data/goods/18/09/27/587/t50_587_detail_011.png'],\n",
       "  'color': '#',\n",
       "  'category': '러쉬',\n",
       "  'salePrice': 35000,\n",
       "  'originalPrice': 35000,\n",
       "  'brand': 'lush',\n",
       "  'volume': '#'}]"
      ]
     },
     "metadata": {},
     "output_type": "display_data"
    },
    {
     "data": {
      "text/plain": [
       "[{'name': '와일드 띵스!',\n",
       "  'url': 'https://lush.co.kr/goods/goods_view.php?goodsNo=596',\n",
       "  'image': ['https://lush.co.kr/data/goods/18/09/27/596/t50_596_detail_019.png'],\n",
       "  'color': '#',\n",
       "  'category': '러쉬',\n",
       "  'salePrice': 76000,\n",
       "  'originalPrice': 76000,\n",
       "  'brand': 'lush',\n",
       "  'volume': '#'}]"
      ]
     },
     "metadata": {},
     "output_type": "display_data"
    },
    {
     "data": {
      "text/plain": [
       "[{'name': '졸리 홀리데이스',\n",
       "  'url': 'https://lush.co.kr/goods/goods_view.php?goodsNo=567',\n",
       "  'image': ['https://lush.co.kr/data/goods/18/09/20/567/t50_567_detail_078.png'],\n",
       "  'color': '#',\n",
       "  'category': '러쉬',\n",
       "  'salePrice': 105000,\n",
       "  'originalPrice': 105000,\n",
       "  'brand': 'lush',\n",
       "  'volume': '#'}]"
      ]
     },
     "metadata": {},
     "output_type": "display_data"
    },
    {
     "data": {
      "text/plain": [
       "[{'name': '조이 투 더 월드',\n",
       "  'url': 'https://lush.co.kr/goods/goods_view.php?goodsNo=586',\n",
       "  'image': ['https://lush.co.kr/data/goods/18/09/27/586/t50_586_detail_013.png'],\n",
       "  'color': '#',\n",
       "  'category': '러쉬',\n",
       "  'salePrice': 33000,\n",
       "  'originalPrice': 33000,\n",
       "  'brand': 'lush',\n",
       "  'volume': '#'}]"
      ]
     },
     "metadata": {},
     "output_type": "display_data"
    },
    {
     "data": {
      "text/plain": [
       "[{'name': '스타 게이징',\n",
       "  'url': 'https://lush.co.kr/goods/goods_view.php?goodsNo=594',\n",
       "  'image': ['https://lush.co.kr/data/goods/18/09/27/594/t50_594_detail_085.png'],\n",
       "  'color': '#',\n",
       "  'category': '러쉬',\n",
       "  'salePrice': 110000,\n",
       "  'originalPrice': 110000,\n",
       "  'brand': 'lush',\n",
       "  'volume': '#'}]"
      ]
     },
     "metadata": {},
     "output_type": "display_data"
    },
    {
     "data": {
      "text/plain": [
       "[{'name': '스위트 크리스마스',\n",
       "  'url': 'https://lush.co.kr/goods/goods_view.php?goodsNo=576',\n",
       "  'image': ['https://lush.co.kr/data/goods/18/09/27/576/t50_576_detail_060.png'],\n",
       "  'color': '#',\n",
       "  'category': '러쉬',\n",
       "  'salePrice': 27000,\n",
       "  'originalPrice': 27000,\n",
       "  'brand': 'lush',\n",
       "  'volume': '#'}]"
      ]
     },
     "metadata": {},
     "output_type": "display_data"
    },
    {
     "data": {
      "text/plain": [
       "[{'name': '조이풀',\n",
       "  'url': 'https://lush.co.kr/goods/goods_view.php?goodsNo=572',\n",
       "  'image': ['https://lush.co.kr/data/goods/18/09/27/572/t50_572_detail_019.png'],\n",
       "  'color': '#',\n",
       "  'category': '러쉬',\n",
       "  'salePrice': 49000,\n",
       "  'originalPrice': 49000,\n",
       "  'brand': 'lush',\n",
       "  'volume': '#'}]"
      ]
     },
     "metadata": {},
     "output_type": "display_data"
    },
    {
     "data": {
      "text/plain": [
       "[{'name': '시크릿 가든',\n",
       "  'url': 'https://lush.co.kr/goods/goods_view.php?goodsNo=591',\n",
       "  'image': ['https://lush.co.kr/data/goods/18/09/27/591/t50_591_detail_076.png'],\n",
       "  'color': '#',\n",
       "  'category': '러쉬',\n",
       "  'salePrice': 100000,\n",
       "  'originalPrice': 100000,\n",
       "  'brand': 'lush',\n",
       "  'volume': '#'}]"
      ]
     },
     "metadata": {},
     "output_type": "display_data"
    },
    {
     "data": {
      "text/plain": [
       "[{'name': '테이크 햇 앤드 파티!',\n",
       "  'url': 'https://lush.co.kr/goods/goods_view.php?goodsNo=577',\n",
       "  'image': ['https://lush.co.kr/data/goods/18/09/27/577/t50_577_detail_043.png'],\n",
       "  'color': '#',\n",
       "  'category': '러쉬',\n",
       "  'salePrice': 49000,\n",
       "  'originalPrice': 49000,\n",
       "  'brand': 'lush',\n",
       "  'volume': '#'}]"
      ]
     },
     "metadata": {},
     "output_type": "display_data"
    },
    {
     "data": {
      "text/plain": [
       "[{'name': '파이어워크스',\n",
       "  'url': 'https://lush.co.kr/goods/goods_view.php?goodsNo=565',\n",
       "  'image': ['https://lush.co.kr/data/goods/18/09/20/565/t50_565_detail_079.png'],\n",
       "  'color': '#',\n",
       "  'category': '러쉬',\n",
       "  'salePrice': 51000,\n",
       "  'originalPrice': 51000,\n",
       "  'brand': 'lush',\n",
       "  'volume': '#'}]"
      ]
     },
     "metadata": {},
     "output_type": "display_data"
    },
    {
     "data": {
      "text/plain": [
       "[{'name': '메리 크리스마스',\n",
       "  'url': 'https://lush.co.kr/goods/goods_view.php?goodsNo=588',\n",
       "  'image': ['https://lush.co.kr/data/goods/18/09/27/588/t50_588_detail_096.png'],\n",
       "  'color': '#',\n",
       "  'category': '러쉬',\n",
       "  'salePrice': 68000,\n",
       "  'originalPrice': 68000,\n",
       "  'brand': 'lush',\n",
       "  'volume': '#'}]"
      ]
     },
     "metadata": {},
     "output_type": "display_data"
    },
    {
     "data": {
      "text/plain": [
       "[{'name': '슬리피',\n",
       "  'url': 'https://lush.co.kr/goods/goods_view.php?goodsNo=574',\n",
       "  'image': ['https://lush.co.kr/data/goods/18/09/27/574/t50_574_detail_011.png'],\n",
       "  'color': '#',\n",
       "  'category': '러쉬 > 프로모션',\n",
       "  'salePrice': 29000,\n",
       "  'originalPrice': 29000,\n",
       "  'brand': 'lush',\n",
       "  'volume': '#'}]"
      ]
     },
     "metadata": {},
     "output_type": "display_data"
    },
    {
     "data": {
      "text/plain": [
       "[{'name': '원스 어폰 어 크리스마스',\n",
       "  'url': 'https://lush.co.kr/goods/goods_view.php?goodsNo=589',\n",
       "  'image': ['https://lush.co.kr/data/goods/18/09/27/589/t50_589_detail_04.png'],\n",
       "  'color': '#',\n",
       "  'category': '러쉬',\n",
       "  'salePrice': 50000,\n",
       "  'originalPrice': 50000,\n",
       "  'brand': 'lush',\n",
       "  'volume': '#'}]"
      ]
     },
     "metadata": {},
     "output_type": "display_data"
    },
    {
     "data": {
      "text/plain": [
       "[{'name': '크리스마스 캔디 박스',\n",
       "  'url': 'https://lush.co.kr/goods/goods_view.php?goodsNo=582',\n",
       "  'image': ['https://lush.co.kr/data/goods/18/09/27/582/t50_582_detail_099.png'],\n",
       "  'color': '#',\n",
       "  'category': '러쉬',\n",
       "  'salePrice': 54000,\n",
       "  'originalPrice': 54000,\n",
       "  'brand': 'lush',\n",
       "  'volume': '#'}]"
      ]
     },
     "metadata": {},
     "output_type": "display_data"
    },
    {
     "data": {
      "text/plain": [
       "[{'name': '스노우 페어리',\n",
       "  'url': 'https://lush.co.kr/goods/goods_view.php?goodsNo=592',\n",
       "  'image': ['https://lush.co.kr/data/goods/18/09/27/592/t50_592_detail_097.png'],\n",
       "  'color': '#',\n",
       "  'category': '러쉬',\n",
       "  'salePrice': 80000,\n",
       "  'originalPrice': 80000,\n",
       "  'brand': 'lush',\n",
       "  'volume': '#'}]"
      ]
     },
     "metadata": {},
     "output_type": "display_data"
    },
    {
     "data": {
      "text/plain": [
       "[{'name': '로지 크리스마스',\n",
       "  'url': 'https://lush.co.kr/goods/goods_view.php?goodsNo=590',\n",
       "  'image': ['https://lush.co.kr/data/goods/18/09/27/590/t50_590_detail_04.png'],\n",
       "  'color': '#',\n",
       "  'category': '러쉬',\n",
       "  'salePrice': 29000,\n",
       "  'originalPrice': 29000,\n",
       "  'brand': 'lush',\n",
       "  'volume': '#'}]"
      ]
     },
     "metadata": {},
     "output_type": "display_data"
    },
    {
     "data": {
      "text/plain": [
       "[{'name': '잇츠 크리스마스 디어',\n",
       "  'url': 'https://lush.co.kr/goods/goods_view.php?goodsNo=585',\n",
       "  'image': ['https://lush.co.kr/data/goods/18/09/27/585/t50_585_detail_064.png'],\n",
       "  'color': '#',\n",
       "  'category': '러쉬',\n",
       "  'salePrice': 120000,\n",
       "  'originalPrice': 120000,\n",
       "  'brand': 'lush',\n",
       "  'volume': '#'}]"
      ]
     },
     "metadata": {},
     "output_type": "display_data"
    },
    {
     "data": {
      "text/plain": [
       "[{'name': '인투 더 우즈',\n",
       "  'url': 'https://lush.co.kr/goods/goods_view.php?goodsNo=584',\n",
       "  'image': ['https://lush.co.kr/data/goods/18/09/27/584/t50_584_detail_044.png'],\n",
       "  'color': '#',\n",
       "  'category': '러쉬',\n",
       "  'salePrice': 240000,\n",
       "  'originalPrice': 240000,\n",
       "  'brand': 'lush',\n",
       "  'volume': '#'}]"
      ]
     },
     "metadata": {},
     "output_type": "display_data"
    },
    {
     "data": {
      "text/plain": [
       "[{'name': '베리 크리스마스',\n",
       "  'url': 'https://lush.co.kr/goods/goods_view.php?goodsNo=580',\n",
       "  'image': ['https://lush.co.kr/data/goods/18/09/27/580/t50_580_detail_068.png'],\n",
       "  'color': '#',\n",
       "  'category': '러쉬',\n",
       "  'salePrice': 26000,\n",
       "  'originalPrice': 26000,\n",
       "  'brand': 'lush',\n",
       "  'volume': '#'}]"
      ]
     },
     "metadata": {},
     "output_type": "display_data"
    },
    {
     "data": {
      "text/plain": [
       "[{'name': '골든 원더',\n",
       "  'url': 'https://lush.co.kr/goods/goods_view.php?goodsNo=571',\n",
       "  'image': ['https://lush.co.kr/data/goods/18/09/27/571/t50_571_detail_083.png'],\n",
       "  'color': '#',\n",
       "  'category': '러쉬',\n",
       "  'salePrice': 75000,\n",
       "  'originalPrice': 75000,\n",
       "  'brand': 'lush',\n",
       "  'volume': '#'}]"
      ]
     },
     "metadata": {},
     "output_type": "display_data"
    },
    {
     "data": {
      "text/plain": [
       "[{'name': '덱 더 홀스',\n",
       "  'url': 'https://lush.co.kr/goods/goods_view.php?goodsNo=563',\n",
       "  'image': ['https://lush.co.kr/data/goods/18/09/20/563/t50_563_detail_011.png'],\n",
       "  'color': '#',\n",
       "  'category': '러쉬',\n",
       "  'salePrice': 38000,\n",
       "  'originalPrice': 38000,\n",
       "  'brand': 'lush',\n",
       "  'volume': '#'}]"
      ]
     },
     "metadata": {},
     "output_type": "display_data"
    },
    {
     "data": {
      "text/plain": [
       "[{'name': '타로',\n",
       "  'url': 'https://lush.co.kr/goods/goods_view.php?goodsNo=543',\n",
       "  'image': ['https://lush.co.kr/data/goods/18/09/18/543/t50_543_detail_075.png'],\n",
       "  'color': '#',\n",
       "  'category': '러쉬',\n",
       "  'salePrice': 25000,\n",
       "  'originalPrice': 25000,\n",
       "  'brand': 'lush',\n",
       "  'volume': '#'}]"
      ]
     },
     "metadata": {},
     "output_type": "display_data"
    },
    {
     "data": {
      "text/plain": [
       "[{'name': '크리스마스 배쓰타임 페이보리츠',\n",
       "  'url': 'https://lush.co.kr/goods/goods_view.php?goodsNo=581',\n",
       "  'image': ['https://lush.co.kr/data/goods/18/09/27/581/t50_581_detail_088.png'],\n",
       "  'color': '#',\n",
       "  'category': '러쉬',\n",
       "  'salePrice': 142000,\n",
       "  'originalPrice': 142000,\n",
       "  'brand': 'lush',\n",
       "  'volume': '#'}]"
      ]
     },
     "metadata": {},
     "output_type": "display_data"
    },
    {
     "data": {
      "text/plain": [
       "[{'name': '투 헤디드 몬스터',\n",
       "  'url': 'https://lush.co.kr/goods/goods_view.php?goodsNo=579',\n",
       "  'image': ['https://lush.co.kr/data/goods/18/09/27/579/t50_579_detail_047.png'],\n",
       "  'color': '#',\n",
       "  'category': '러쉬',\n",
       "  'salePrice': 44000,\n",
       "  'originalPrice': 44000,\n",
       "  'brand': 'lush',\n",
       "  'volume': '#'}]"
      ]
     },
     "metadata": {},
     "output_type": "display_data"
    },
    {
     "data": {
      "text/plain": [
       "[{'name': '스파클',\n",
       "  'url': 'https://lush.co.kr/goods/goods_view.php?goodsNo=575',\n",
       "  'image': ['https://lush.co.kr/data/goods/18/09/27/575/t50_575_detail_092.png'],\n",
       "  'color': '#',\n",
       "  'category': '러쉬',\n",
       "  'salePrice': 50000,\n",
       "  'originalPrice': 50000,\n",
       "  'brand': 'lush',\n",
       "  'volume': '#'}]"
      ]
     },
     "metadata": {},
     "output_type": "display_data"
    },
    {
     "data": {
      "text/plain": [
       "[{'name': '크리스마스 파티',\n",
       "  'url': 'https://lush.co.kr/goods/goods_view.php?goodsNo=570',\n",
       "  'image': ['https://lush.co.kr/data/goods/18/09/27/570/t50_570_detail_035.png'],\n",
       "  'color': '#',\n",
       "  'category': '러쉬',\n",
       "  'salePrice': 46000,\n",
       "  'originalPrice': 46000,\n",
       "  'brand': 'lush',\n",
       "  'volume': '#'}]"
      ]
     },
     "metadata": {},
     "output_type": "display_data"
    },
    {
     "data": {
      "text/plain": [
       "[{'name': '크리스마스 치어',\n",
       "  'url': 'https://lush.co.kr/goods/goods_view.php?goodsNo=569',\n",
       "  'image': ['https://lush.co.kr/data/goods/18/09/27/569/t50_569_detail_027.png'],\n",
       "  'color': '#',\n",
       "  'category': '러쉬',\n",
       "  'salePrice': 59000,\n",
       "  'originalPrice': 59000,\n",
       "  'brand': 'lush',\n",
       "  'volume': '#'}]"
      ]
     },
     "metadata": {},
     "output_type": "display_data"
    },
    {
     "data": {
      "text/plain": [
       "[{'name': '크리스마스 프레젠트',\n",
       "  'url': 'https://lush.co.kr/goods/goods_view.php?goodsNo=562',\n",
       "  'image': ['https://lush.co.kr/data/goods/18/09/20/562/t50_562_detail_048.png'],\n",
       "  'color': '#',\n",
       "  'category': '러쉬',\n",
       "  'salePrice': 73000,\n",
       "  'originalPrice': 73000,\n",
       "  'brand': 'lush',\n",
       "  'volume': '#'}]"
      ]
     },
     "metadata": {},
     "output_type": "display_data"
    },
    {
     "data": {
      "text/plain": [
       "[{'name': '비위치드',\n",
       "  'url': 'https://lush.co.kr/goods/goods_view.php?goodsNo=561',\n",
       "  'image': ['https://lush.co.kr/data/goods/18/09/20/561/t50_561_detail_052.png'],\n",
       "  'color': '#',\n",
       "  'category': '러쉬',\n",
       "  'salePrice': 67000,\n",
       "  'originalPrice': 67000,\n",
       "  'brand': 'lush',\n",
       "  'volume': '#'}]"
      ]
     },
     "metadata": {},
     "output_type": "display_data"
    },
    {
     "data": {
      "text/plain": [
       "[{'name': '배트 백',\n",
       "  'url': 'https://lush.co.kr/goods/goods_view.php?goodsNo=556',\n",
       "  'image': ['https://lush.co.kr/data/goods/18/09/19/556/t50_556_detail_040.png'],\n",
       "  'color': '#',\n",
       "  'category': '러쉬',\n",
       "  'salePrice': 12000,\n",
       "  'originalPrice': 12000,\n",
       "  'brand': 'lush',\n",
       "  'volume': '#'}]"
      ]
     },
     "metadata": {},
     "output_type": "display_data"
    },
    {
     "data": {
      "text/plain": [
       "[{'name': '우프!',\n",
       "  'url': 'https://lush.co.kr/goods/goods_view.php?goodsNo=546',\n",
       "  'image': ['https://lush.co.kr/data/goods/18/09/18/546/t50_546_detail_077.png'],\n",
       "  'color': '#',\n",
       "  'category': '러쉬',\n",
       "  'salePrice': 10000,\n",
       "  'originalPrice': 10000,\n",
       "  'brand': 'lush',\n",
       "  'volume': '#'}]"
      ]
     },
     "metadata": {},
     "output_type": "display_data"
    },
    {
     "data": {
      "text/plain": [
       "[{'name': '산타스 맵',\n",
       "  'url': 'https://lush.co.kr/goods/goods_view.php?goodsNo=541',\n",
       "  'image': ['https://lush.co.kr/data/goods/18/09/18/541/t50_541_detail_0100.png'],\n",
       "  'color': '#',\n",
       "  'category': '러쉬',\n",
       "  'salePrice': 12000,\n",
       "  'originalPrice': 12000,\n",
       "  'brand': 'lush',\n",
       "  'volume': '#'}]"
      ]
     },
     "metadata": {},
     "output_type": "display_data"
    },
    {
     "data": {
      "text/plain": [
       "[{'name': '피카부',\n",
       "  'url': 'https://lush.co.kr/goods/goods_view.php?goodsNo=539',\n",
       "  'image': ['https://lush.co.kr/data/goods/18/09/18/539/t50_539_detail_088.png'],\n",
       "  'color': '#',\n",
       "  'category': '러쉬',\n",
       "  'salePrice': 10000,\n",
       "  'originalPrice': 10000,\n",
       "  'brand': 'lush',\n",
       "  'volume': '#'}]"
      ]
     },
     "metadata": {},
     "output_type": "display_data"
    },
    {
     "data": {
      "text/plain": [
       "[{'name': '몬스터 파티',\n",
       "  'url': 'https://lush.co.kr/goods/goods_view.php?goodsNo=536',\n",
       "  'image': ['https://lush.co.kr/data/goods/18/09/18/536/t50_536_detail_075.png'],\n",
       "  'color': '#',\n",
       "  'category': '러쉬',\n",
       "  'salePrice': 12000,\n",
       "  'originalPrice': 12000,\n",
       "  'brand': 'lush',\n",
       "  'volume': '#'}]"
      ]
     },
     "metadata": {},
     "output_type": "display_data"
    },
    {
     "data": {
      "text/plain": [
       "[{'name': '미야우',\n",
       "  'url': 'https://lush.co.kr/goods/goods_view.php?goodsNo=535',\n",
       "  'image': ['https://lush.co.kr/data/goods/18/09/18/535/t50_535_detail_064.png'],\n",
       "  'color': '#',\n",
       "  'category': '러쉬',\n",
       "  'salePrice': 12000,\n",
       "  'originalPrice': 12000,\n",
       "  'brand': 'lush',\n",
       "  'volume': '#'}]"
      ]
     },
     "metadata": {},
     "output_type": "display_data"
    },
    {
     "data": {
      "text/plain": [
       "[{'name': '할리퀸',\n",
       "  'url': 'https://lush.co.kr/goods/goods_view.php?goodsNo=532',\n",
       "  'image': ['https://lush.co.kr/data/goods/18/09/18/532/t50_532_detail_080.png'],\n",
       "  'color': '#',\n",
       "  'category': '러쉬',\n",
       "  'salePrice': 10000,\n",
       "  'originalPrice': 10000,\n",
       "  'brand': 'lush',\n",
       "  'volume': '#'}]"
      ]
     },
     "metadata": {},
     "output_type": "display_data"
    },
    {
     "data": {
      "text/plain": [
       "[{'name': '레디 젤리 고',\n",
       "  'url': 'https://lush.co.kr/goods/goods_view.php?goodsNo=425',\n",
       "  'image': ['https://lush.co.kr/data/goods/18/04/26/425/t50_425_detail_020.png'],\n",
       "  'color': '#',\n",
       "  'category': '러쉬 > 기프트 > 러쉬 세트',\n",
       "  'salePrice': 80000,\n",
       "  'originalPrice': 80000,\n",
       "  'brand': 'lush',\n",
       "  'volume': '#'}]"
      ]
     },
     "metadata": {},
     "output_type": "display_data"
    },
    {
     "data": {
      "text/plain": [
       "[{'name': '트와일라잇',\n",
       "  'url': 'https://lush.co.kr/goods/goods_view.php?goodsNo=424',\n",
       "  'image': ['https://lush.co.kr/data/goods/18/04/26/424/t50_424_detail_099.png'],\n",
       "  'color': '#',\n",
       "  'category': '러쉬 > 기프트 > 러쉬 세트',\n",
       "  'salePrice': 57000,\n",
       "  'originalPrice': 57000,\n",
       "  'brand': 'lush',\n",
       "  'volume': '#'}]"
      ]
     },
     "metadata": {},
     "output_type": "display_data"
    },
    {
     "data": {
      "text/plain": [
       "[{'name': '더티',\n",
       "  'url': 'https://lush.co.kr/goods/goods_view.php?goodsNo=422',\n",
       "  'image': ['https://lush.co.kr/data/goods/18/04/26/422/t50_422_detail_047.png'],\n",
       "  'color': '#',\n",
       "  'category': '러쉬 > 기프트 > 러쉬 세트',\n",
       "  'salePrice': 64000,\n",
       "  'originalPrice': 64000,\n",
       "  'brand': 'lush',\n",
       "  'volume': '#'}]"
      ]
     },
     "metadata": {},
     "output_type": "display_data"
    },
    {
     "data": {
      "text/plain": [
       "[{'name': '레인보우 배쓰',\n",
       "  'url': 'https://lush.co.kr/goods/goods_view.php?goodsNo=383',\n",
       "  'image': ['https://lush.co.kr/data/goods/18/02/25/383/t50_383_detail_069.png'],\n",
       "  'color': '#',\n",
       "  'category': '러쉬 > 기프트 > 낫랩',\n",
       "  'salePrice': 15000,\n",
       "  'originalPrice': 15000,\n",
       "  'brand': 'lush',\n",
       "  'volume': '#'}]"
      ]
     },
     "metadata": {},
     "output_type": "display_data"
    },
    {
     "data": {
      "text/plain": [
       "[{'name': '이브스 체리',\n",
       "  'url': 'https://lush.co.kr/goods/goods_view.php?goodsNo=1000000177',\n",
       "  'image': ['https://lush.co.kr/data/goods/19/01/04/1000000177/t50_1000000177_detail_043.png',\n",
       "   'https://lush.co.kr/data/goods/19/01/04/1000000177/t50_1000000177_detail_144.png'],\n",
       "  'color': '#',\n",
       "  'category': '러쉬 > 프로모션 > 발렌타인',\n",
       "  'salePrice': 14000,\n",
       "  'originalPrice': 14000,\n",
       "  'brand': 'lush',\n",
       "  'volume': '#'}]"
      ]
     },
     "metadata": {},
     "output_type": "display_data"
    },
    {
     "data": {
      "text/plain": [
       "[{'name': '아보카도 워시',\n",
       "  'url': 'https://lush.co.kr/goods/goods_view.php?goodsNo=1000000176',\n",
       "  'image': ['https://lush.co.kr/data/goods/19/01/04/1000000176/t50_1000000176_detail_066.png',\n",
       "   'https://lush.co.kr/data/goods/19/01/04/1000000176/t50_1000000176_detail_125.png'],\n",
       "  'color': '#',\n",
       "  'category': '러쉬 > 프로모션 > 발렌타인',\n",
       "  'salePrice': 19000,\n",
       "  'originalPrice': 19000,\n",
       "  'brand': 'lush',\n",
       "  'volume': '110g'},\n",
       " {'name': '아보카도 워시',\n",
       "  'url': 'https://lush.co.kr/goods/goods_view.php?goodsNo=1000000176',\n",
       "  'image': ['https://lush.co.kr/data/goods/19/01/04/1000000176/t50_1000000176_detail_066.png',\n",
       "   'https://lush.co.kr/data/goods/19/01/04/1000000176/t50_1000000176_detail_125.png'],\n",
       "  'color': '#',\n",
       "  'category': '러쉬 > 프로모션 > 발렌타인',\n",
       "  'salePrice': 19000,\n",
       "  'originalPrice': 19000,\n",
       "  'brand': 'lush',\n",
       "  'volume': '270g:￦+17,000'},\n",
       " {'name': '아보카도 워시',\n",
       "  'url': 'https://lush.co.kr/goods/goods_view.php?goodsNo=1000000176',\n",
       "  'image': ['https://lush.co.kr/data/goods/19/01/04/1000000176/t50_1000000176_detail_066.png',\n",
       "   'https://lush.co.kr/data/goods/19/01/04/1000000176/t50_1000000176_detail_125.png'],\n",
       "  'color': '#',\n",
       "  'category': '러쉬 > 프로모션 > 발렌타인',\n",
       "  'salePrice': 19000,\n",
       "  'originalPrice': 19000,\n",
       "  'brand': 'lush',\n",
       "  'volume': '550g:￦+43,000'}]"
      ]
     },
     "metadata": {},
     "output_type": "display_data"
    },
    {
     "data": {
      "text/plain": [
       "[{'name': '아메리칸 파이',\n",
       "  'url': 'https://lush.co.kr/goods/goods_view.php?goodsNo=1000000175',\n",
       "  'image': ['https://lush.co.kr/data/goods/19/01/04/1000000175/t50_1000000175_detail_098.png',\n",
       "   'https://lush.co.kr/data/goods/19/01/04/1000000175/t50_1000000175_detail_144.jpg',\n",
       "   'https://lush.co.kr/data/goods/19/01/04/1000000175/t50_1000000175_detail_220.png'],\n",
       "  'color': '#',\n",
       "  'category': '러쉬 > 프로모션 > 발렌타인',\n",
       "  'salePrice': 23000,\n",
       "  'originalPrice': 23000,\n",
       "  'brand': 'lush',\n",
       "  'volume': '100g'},\n",
       " {'name': '아메리칸 파이',\n",
       "  'url': 'https://lush.co.kr/goods/goods_view.php?goodsNo=1000000175',\n",
       "  'image': ['https://lush.co.kr/data/goods/19/01/04/1000000175/t50_1000000175_detail_098.png',\n",
       "   'https://lush.co.kr/data/goods/19/01/04/1000000175/t50_1000000175_detail_144.jpg',\n",
       "   'https://lush.co.kr/data/goods/19/01/04/1000000175/t50_1000000175_detail_220.png'],\n",
       "  'color': '#',\n",
       "  'category': '러쉬 > 프로모션 > 발렌타인',\n",
       "  'salePrice': 23000,\n",
       "  'originalPrice': 23000,\n",
       "  'brand': 'lush',\n",
       "  'volume': '240g:￦+19,000'}]"
      ]
     },
     "metadata": {},
     "output_type": "display_data"
    },
    {
     "data": {
      "text/plain": [
       "[{'name': '피치',\n",
       "  'url': 'https://lush.co.kr/goods/goods_view.php?goodsNo=1000000173',\n",
       "  'image': ['https://lush.co.kr/data/goods/19/01/04/1000000173/t50_1000000173_detail_032.png'],\n",
       "  'color': '#',\n",
       "  'category': '러쉬 > 프로모션 > 발렌타인',\n",
       "  'salePrice': 15000,\n",
       "  'originalPrice': 15000,\n",
       "  'brand': 'lush',\n",
       "  'volume': '#'}]"
      ]
     },
     "metadata": {},
     "output_type": "display_data"
    },
    {
     "data": {
      "text/plain": [
       "[{'name': '오버진',\n",
       "  'url': 'https://lush.co.kr/goods/goods_view.php?goodsNo=1000000172',\n",
       "  'image': ['https://lush.co.kr/data/goods/19/01/04/1000000172/t50_1000000172_detail_015.png'],\n",
       "  'color': '#',\n",
       "  'category': '러쉬 > 프로모션 > 발렌타인',\n",
       "  'salePrice': 15000,\n",
       "  'originalPrice': 15000,\n",
       "  'brand': 'lush',\n",
       "  'volume': '#'}]"
      ]
     },
     "metadata": {},
     "output_type": "display_data"
    },
    {
     "data": {
      "text/plain": [
       "[{'name': '유니콘 혼',\n",
       "  'url': 'https://lush.co.kr/goods/goods_view.php?goodsNo=1000000171',\n",
       "  'image': ['https://lush.co.kr/data/goods/19/01/04/1000000171/t50_1000000171_detail_013.png'],\n",
       "  'color': '#',\n",
       "  'category': '러쉬 > 프로모션 > 발렌타인',\n",
       "  'salePrice': 16000,\n",
       "  'originalPrice': 16000,\n",
       "  'brand': 'lush',\n",
       "  'volume': '#'}]"
      ]
     },
     "metadata": {},
     "output_type": "display_data"
    },
    {
     "data": {
      "text/plain": [
       "[{'name': '러브 토큰',\n",
       "  'url': 'https://lush.co.kr/goods/goods_view.php?goodsNo=1000000170',\n",
       "  'image': ['https://lush.co.kr/data/goods/19/01/04/1000000170/t50_1000000170_detail_06.png'],\n",
       "  'color': '#',\n",
       "  'category': '러쉬 > 프로모션 > 발렌타인',\n",
       "  'salePrice': 18000,\n",
       "  'originalPrice': 18000,\n",
       "  'brand': 'lush',\n",
       "  'volume': '#'}]"
      ]
     },
     "metadata": {},
     "output_type": "display_data"
    },
    {
     "data": {
      "text/plain": [
       "[{'name': '식스(블루 앤 옐로우)',\n",
       "  'url': 'https://lush.co.kr/goods/goods_view.php?goodsNo=1000000169',\n",
       "  'image': ['https://lush.co.kr/data/goods/19/01/04/1000000169/t50_1000000169_detail_039.png'],\n",
       "  'color': '#',\n",
       "  'category': '러쉬 > 프로모션 > 발렌타인',\n",
       "  'salePrice': 19000,\n",
       "  'originalPrice': 19000,\n",
       "  'brand': 'lush',\n",
       "  'volume': '#'}]"
      ]
     },
     "metadata": {},
     "output_type": "display_data"
    },
    {
     "data": {
      "text/plain": [
       "[{'name': '식스(옐로우 앤 레드)',\n",
       "  'url': 'https://lush.co.kr/goods/goods_view.php?goodsNo=1000000168',\n",
       "  'image': ['https://lush.co.kr/data/goods/19/01/04/1000000168/t50_1000000168_detail_026.png'],\n",
       "  'color': '#',\n",
       "  'category': '러쉬 > 프로모션 > 발렌타인',\n",
       "  'salePrice': 19000,\n",
       "  'originalPrice': 19000,\n",
       "  'brand': 'lush',\n",
       "  'volume': '#'}]"
      ]
     },
     "metadata": {},
     "output_type": "display_data"
    },
    {
     "data": {
      "text/plain": [
       "[{'name': '오픈 유어 하트',\n",
       "  'url': 'https://lush.co.kr/goods/goods_view.php?goodsNo=1000000167',\n",
       "  'image': ['https://lush.co.kr/data/goods/19/01/04/1000000167/t50_1000000167_detail_036.png'],\n",
       "  'color': '#',\n",
       "  'category': '러쉬 > 프로모션 > 발렌타인',\n",
       "  'salePrice': 18000,\n",
       "  'originalPrice': 18000,\n",
       "  'brand': 'lush',\n",
       "  'volume': '#'}]"
      ]
     },
     "metadata": {},
     "output_type": "display_data"
    },
    {
     "data": {
      "text/plain": [
       "[{'name': '아메리칸 크림',\n",
       "  'url': 'https://lush.co.kr/goods/goods_view.php?goodsNo=1000000166',\n",
       "  'image': ['https://lush.co.kr/data/goods/19/01/04/1000000166/t50_1000000166_detail_042.png',\n",
       "   'https://lush.co.kr/data/goods/19/01/04/1000000166/t50_1000000166_detail_18.png'],\n",
       "  'color': '#',\n",
       "  'category': '러쉬 > 프로모션 > 발렌타인',\n",
       "  'salePrice': 19000,\n",
       "  'originalPrice': 19000,\n",
       "  'brand': 'lush',\n",
       "  'volume': '110g'},\n",
       " {'name': '아메리칸 크림',\n",
       "  'url': 'https://lush.co.kr/goods/goods_view.php?goodsNo=1000000166',\n",
       "  'image': ['https://lush.co.kr/data/goods/19/01/04/1000000166/t50_1000000166_detail_042.png',\n",
       "   'https://lush.co.kr/data/goods/19/01/04/1000000166/t50_1000000166_detail_18.png'],\n",
       "  'color': '#',\n",
       "  'category': '러쉬 > 프로모션 > 발렌타인',\n",
       "  'salePrice': 19000,\n",
       "  'originalPrice': 19000,\n",
       "  'brand': 'lush',\n",
       "  'volume': '270g:￦+17,000'},\n",
       " {'name': '아메리칸 크림',\n",
       "  'url': 'https://lush.co.kr/goods/goods_view.php?goodsNo=1000000166',\n",
       "  'image': ['https://lush.co.kr/data/goods/19/01/04/1000000166/t50_1000000166_detail_042.png',\n",
       "   'https://lush.co.kr/data/goods/19/01/04/1000000166/t50_1000000166_detail_18.png'],\n",
       "  'color': '#',\n",
       "  'category': '러쉬 > 프로모션 > 발렌타인',\n",
       "  'salePrice': 19000,\n",
       "  'originalPrice': 19000,\n",
       "  'brand': 'lush',\n",
       "  'volume': '550g:￦+43,000'}]"
      ]
     },
     "metadata": {},
     "output_type": "display_data"
    },
    {
     "data": {
      "text/plain": [
       "[{'name': '더 빅 바나나',\n",
       "  'url': 'https://lush.co.kr/goods/goods_view.php?goodsNo=1000000164',\n",
       "  'image': ['https://lush.co.kr/data/goods/19/01/04/1000000164/t50_1000000164_detail_065.png'],\n",
       "  'color': '#',\n",
       "  'category': '러쉬 > 프로모션 > 발렌타인',\n",
       "  'salePrice': 19000,\n",
       "  'originalPrice': 19000,\n",
       "  'brand': 'lush',\n",
       "  'volume': '#'}]"
      ]
     },
     "metadata": {},
     "output_type": "display_data"
    },
    {
     "data": {
      "text/plain": [
       "[{'name': '스트로베리 휩',\n",
       "  'url': 'https://lush.co.kr/goods/goods_view.php?goodsNo=1000000163',\n",
       "  'image': ['https://lush.co.kr/data/goods/19/01/04/1000000163/t50_1000000163_detail_043.png'],\n",
       "  'color': '#',\n",
       "  'category': '러쉬 > 프로모션 > 발렌타인',\n",
       "  'salePrice': 15000,\n",
       "  'originalPrice': 15000,\n",
       "  'brand': 'lush',\n",
       "  'volume': '#'}]"
      ]
     },
     "metadata": {},
     "output_type": "display_data"
    },
    {
     "data": {
      "text/plain": [
       "[{'name': '아메리칸 파이',\n",
       "  'url': 'https://lush.co.kr/goods/goods_view.php?goodsNo=1000000162',\n",
       "  'image': ['https://lush.co.kr/data/goods/19/01/04/1000000162/t50_1000000162_detail_03.png'],\n",
       "  'color': '#',\n",
       "  'category': '러쉬 > 프로모션 > 발렌타인',\n",
       "  'salePrice': 30000,\n",
       "  'originalPrice': 30000,\n",
       "  'brand': 'lush',\n",
       "  'volume': '#'}]"
      ]
     },
     "metadata": {},
     "output_type": "display_data"
    },
    {
     "data": {
      "text/plain": [
       "[{'name': '러브 보트',\n",
       "  'url': 'https://lush.co.kr/goods/goods_view.php?goodsNo=1000000159',\n",
       "  'image': ['https://lush.co.kr/data/goods/19/01/04/1000000159/t50_1000000159_detail_077.png'],\n",
       "  'color': '#',\n",
       "  'category': '러쉬 > 프로모션 > 발렌타인',\n",
       "  'salePrice': 16000,\n",
       "  'originalPrice': 16000,\n",
       "  'brand': 'lush',\n",
       "  'volume': '#'}]"
      ]
     },
     "metadata": {},
     "output_type": "display_data"
    },
    {
     "data": {
      "text/plain": [
       "[{'name': '스노우 페어리 보디 스프레이',\n",
       "  'url': 'https://lush.co.kr/goods/goods_view.php?goodsNo=1000000130',\n",
       "  'image': ['https://lush.co.kr/data/goods/18/12/52/1000000130/t50_1000000130_detail_030.png'],\n",
       "  'color': '#',\n",
       "  'category': '러쉬 > 크리스마스 > 크리스마스 기프트',\n",
       "  'salePrice': 63000,\n",
       "  'originalPrice': 63000,\n",
       "  'brand': 'lush',\n",
       "  'volume': '#'}]"
      ]
     },
     "metadata": {},
     "output_type": "display_data"
    },
    {
     "data": {
      "text/plain": [
       "[{'name': '리니아',\n",
       "  'url': 'https://lush.co.kr/goods/goods_view.php?goodsNo=1000000123',\n",
       "  'image': ['https://lush.co.kr/data/goods/18/12/51/1000000123/t50_1000000123_detail_077.png'],\n",
       "  'color': '#',\n",
       "  'category': '러쉬 > 기프트 > 낫랩',\n",
       "  'salePrice': 10000,\n",
       "  'originalPrice': 10000,\n",
       "  'brand': 'lush',\n",
       "  'volume': '#'}]"
      ]
     },
     "metadata": {},
     "output_type": "display_data"
    },
    {
     "data": {
      "text/plain": [
       "[{'name': '가디스',\n",
       "  'url': 'https://lush.co.kr/goods/goods_view.php?goodsNo=1000000118',\n",
       "  'image': ['https://lush.co.kr/data/goods/18/12/50/1000000118/t50_1000000118_detail_075.png'],\n",
       "  'color': '#',\n",
       "  'category': '러쉬 > 배쓰',\n",
       "  'salePrice': 19000,\n",
       "  'originalPrice': 19000,\n",
       "  'brand': 'lush',\n",
       "  'volume': '#'}]"
      ]
     },
     "metadata": {},
     "output_type": "display_data"
    },
    {
     "data": {
      "text/plain": [
       "[{'name': '아임 포에버 블로잉 버블스',\n",
       "  'url': 'https://lush.co.kr/goods/goods_view.php?goodsNo=1000000117',\n",
       "  'image': ['https://lush.co.kr/data/goods/18/12/50/1000000117/t50_1000000117_detail_039.png'],\n",
       "  'color': '#',\n",
       "  'category': '러쉬 > 배쓰',\n",
       "  'salePrice': 21000,\n",
       "  'originalPrice': 21000,\n",
       "  'brand': 'lush',\n",
       "  'volume': '#'}]"
      ]
     },
     "metadata": {},
     "output_type": "display_data"
    },
    {
     "data": {
      "text/plain": [
       "[{'name': '바닐라리',\n",
       "  'url': 'https://lush.co.kr/goods/goods_view.php?goodsNo=1000000116',\n",
       "  'image': ['https://lush.co.kr/data/goods/18/12/50/1000000116/t50_1000000116_detail_099.png',\n",
       "   'https://lush.co.kr/data/goods/18/12/50/1000000116/t50_1000000116_detail_131.png'],\n",
       "  'color': '#',\n",
       "  'category': '러쉬 > 보디 > 보디 스프레이',\n",
       "  'salePrice': 65000,\n",
       "  'originalPrice': 65000,\n",
       "  'brand': 'lush',\n",
       "  'volume': '#'}]"
      ]
     },
     "metadata": {},
     "output_type": "display_data"
    },
    {
     "data": {
      "text/plain": [
       "[{'name': '칼라카스',\n",
       "  'url': 'https://lush.co.kr/goods/goods_view.php?goodsNo=1000000115',\n",
       "  'image': ['https://lush.co.kr/data/goods/18/12/49/1000000115/t50_1000000115_detail_078.png',\n",
       "   'https://lush.co.kr/data/goods/18/12/49/1000000115/t50_1000000115_detail_196.png'],\n",
       "  'color': '#',\n",
       "  'category': '러쉬 > 프로모션 > 커뮤니티',\n",
       "  'salePrice': 45000,\n",
       "  'originalPrice': 45000,\n",
       "  'brand': 'lush',\n",
       "  'volume': '#'}]"
      ]
     },
     "metadata": {},
     "output_type": "display_data"
    },
    {
     "data": {
      "text/plain": [
       "[{'name': '로드 오브 미스룰',\n",
       "  'url': 'https://lush.co.kr/goods/goods_view.php?goodsNo=1000000114',\n",
       "  'image': ['https://lush.co.kr/data/goods/18/12/49/1000000114/t50_1000000114_detail_072.png',\n",
       "   'https://lush.co.kr/data/goods/18/12/49/1000000114/t50_1000000114_detail_194.png'],\n",
       "  'color': '#',\n",
       "  'category': '러쉬 > 프로모션 > 커뮤니티',\n",
       "  'salePrice': 45000,\n",
       "  'originalPrice': 45000,\n",
       "  'brand': 'lush',\n",
       "  'volume': '#'}]"
      ]
     },
     "metadata": {},
     "output_type": "display_data"
    },
    {
     "data": {
      "text/plain": [
       "[{'name': '아메리칸 크림',\n",
       "  'url': 'https://lush.co.kr/goods/goods_view.php?goodsNo=1000000113',\n",
       "  'image': ['https://lush.co.kr/data/goods/18/12/49/1000000113/t50_1000000113_detail_039.png',\n",
       "   'https://lush.co.kr/data/goods/18/12/49/1000000113/t50_1000000113_detail_148.png'],\n",
       "  'color': '#',\n",
       "  'category': '러쉬 > 프로모션 > 커뮤니티',\n",
       "  'salePrice': 42000,\n",
       "  'originalPrice': 42000,\n",
       "  'brand': 'lush',\n",
       "  'volume': '#'}]"
      ]
     },
     "metadata": {},
     "output_type": "display_data"
    },
    {
     "data": {
      "text/plain": [
       "[{'name': '아보카도 노-워시',\n",
       "  'url': 'https://lush.co.kr/goods/goods_view.php?goodsNo=1000000112',\n",
       "  'image': ['https://lush.co.kr/data/goods/18/12/49/1000000112/t50_1000000112_detail_068.png',\n",
       "   'https://lush.co.kr/data/goods/18/12/49/1000000112/t50_1000000112_detail_191.png'],\n",
       "  'color': '#',\n",
       "  'category': '러쉬 > 프로모션 > 커뮤니티',\n",
       "  'salePrice': 42000,\n",
       "  'originalPrice': 42000,\n",
       "  'brand': 'lush',\n",
       "  'volume': '#'}]"
      ]
     },
     "metadata": {},
     "output_type": "display_data"
    },
    {
     "data": {
      "text/plain": [
       "[{'name': '야미 마미',\n",
       "  'url': 'https://lush.co.kr/goods/goods_view.php?goodsNo=1000000111',\n",
       "  'image': ['https://lush.co.kr/data/goods/18/12/49/1000000111/t50_1000000111_detail_070.png',\n",
       "   'https://lush.co.kr/data/goods/18/12/49/1000000111/t50_1000000111_detail_12.png'],\n",
       "  'color': '#',\n",
       "  'category': '러쉬 > 프로모션 > 커뮤니티',\n",
       "  'salePrice': 40000,\n",
       "  'originalPrice': 40000,\n",
       "  'brand': 'lush',\n",
       "  'volume': '#'}]"
      ]
     },
     "metadata": {},
     "output_type": "display_data"
    },
    {
     "data": {
      "text/plain": [
       "[{'name': '노니 아이 워시드 더 키즈',\n",
       "  'url': 'https://lush.co.kr/goods/goods_view.php?goodsNo=1000000110',\n",
       "  'image': ['https://lush.co.kr/data/goods/18/12/49/1000000110/t50_1000000110_detail_075.png',\n",
       "   'https://lush.co.kr/data/goods/18/12/49/1000000110/t50_1000000110_detail_132.png'],\n",
       "  'color': '#',\n",
       "  'category': '러쉬 > 프로모션 > 커뮤니티',\n",
       "  'salePrice': 40000,\n",
       "  'originalPrice': 40000,\n",
       "  'brand': 'lush',\n",
       "  'volume': '#'}]"
      ]
     },
     "metadata": {},
     "output_type": "display_data"
    },
    {
     "data": {
      "text/plain": [
       "[{'name': '술타나',\n",
       "  'url': 'https://lush.co.kr/goods/goods_view.php?goodsNo=1000000109',\n",
       "  'image': ['https://lush.co.kr/data/goods/18/12/49/1000000109/t50_1000000109_detail_089.png',\n",
       "   'https://lush.co.kr/data/goods/18/12/49/1000000109/t50_1000000109_detail_127.png'],\n",
       "  'color': '#',\n",
       "  'category': '러쉬 > 프로모션 > 커뮤니티',\n",
       "  'salePrice': 40000,\n",
       "  'originalPrice': 40000,\n",
       "  'brand': 'lush',\n",
       "  'volume': '#'}]"
      ]
     },
     "metadata": {},
     "output_type": "display_data"
    },
    {
     "data": {
      "text/plain": [
       "[{'name': '버터볼',\n",
       "  'url': 'https://lush.co.kr/goods/goods_view.php?goodsNo=1000000108',\n",
       "  'image': ['https://lush.co.kr/data/goods/18/12/49/1000000108/t50_1000000108_detail_061.png',\n",
       "   'https://lush.co.kr/data/goods/18/12/49/1000000108/t50_1000000108_detail_166.png'],\n",
       "  'color': '#',\n",
       "  'category': '러쉬 > 프로모션 > 커뮤니티',\n",
       "  'salePrice': 40000,\n",
       "  'originalPrice': 40000,\n",
       "  'brand': 'lush',\n",
       "  'volume': '#'}]"
      ]
     },
     "metadata": {},
     "output_type": "display_data"
    },
    {
     "data": {
      "text/plain": [
       "[{'name': '요그 노그',\n",
       "  'url': 'https://lush.co.kr/goods/goods_view.php?goodsNo=1000000107',\n",
       "  'image': ['https://lush.co.kr/data/goods/18/12/49/1000000107/t50_1000000107_detail_088.png',\n",
       "   'https://lush.co.kr/data/goods/18/12/49/1000000107/t50_1000000107_detail_184.png'],\n",
       "  'color': '#',\n",
       "  'category': '러쉬 > 프로모션 > 커뮤니티',\n",
       "  'salePrice': 40000,\n",
       "  'originalPrice': 40000,\n",
       "  'brand': 'lush',\n",
       "  'volume': '#'}]"
      ]
     },
     "metadata": {},
     "output_type": "display_data"
    },
    {
     "data": {
      "text/plain": [
       "[{'name': '스크럽 스크럽 스크럽',\n",
       "  'url': 'https://lush.co.kr/goods/goods_view.php?goodsNo=1000000106',\n",
       "  'image': ['https://lush.co.kr/data/goods/18/12/49/1000000106/t50_1000000106_detail_03.png',\n",
       "   'https://lush.co.kr/data/goods/18/12/49/1000000106/t50_1000000106_detail_15.png',\n",
       "   'https://lush.co.kr/data/goods/18/12/49/1000000106/t50_1000000106_detail_244.png'],\n",
       "  'color': '#',\n",
       "  'category': '러쉬 > 샤워 > 스크럽 & 버터',\n",
       "  'salePrice': 34000,\n",
       "  'originalPrice': 34000,\n",
       "  'brand': 'lush',\n",
       "  'volume': '300g'},\n",
       " {'name': '스크럽 스크럽 스크럽',\n",
       "  'url': 'https://lush.co.kr/goods/goods_view.php?goodsNo=1000000106',\n",
       "  'image': ['https://lush.co.kr/data/goods/18/12/49/1000000106/t50_1000000106_detail_03.png',\n",
       "   'https://lush.co.kr/data/goods/18/12/49/1000000106/t50_1000000106_detail_15.png',\n",
       "   'https://lush.co.kr/data/goods/18/12/49/1000000106/t50_1000000106_detail_244.png'],\n",
       "  'color': '#',\n",
       "  'category': '러쉬 > 샤워 > 스크럽 & 버터',\n",
       "  'salePrice': 34000,\n",
       "  'originalPrice': 34000,\n",
       "  'brand': 'lush',\n",
       "  'volume': '600g:￦+28,000'}]"
      ]
     },
     "metadata": {},
     "output_type": "display_data"
    },
    {
     "data": {
      "text/plain": [
       "[{'name': '가디언 오브 더 포레스트',\n",
       "  'url': 'https://lush.co.kr/goods/goods_view.php?goodsNo=1000000105',\n",
       "  'image': ['https://lush.co.kr/data/goods/18/12/49/1000000105/t50_1000000105_detail_031.png'],\n",
       "  'color': '#',\n",
       "  'category': '러쉬 > 배쓰 > 배쓰 밤',\n",
       "  'salePrice': 17000,\n",
       "  'originalPrice': 17000,\n",
       "  'brand': 'lush',\n",
       "  'volume': '#'}]"
      ]
     },
     "metadata": {},
     "output_type": "display_data"
    },
    {
     "data": {
      "text/plain": [
       "[{'name': '아보카도 코-워시',\n",
       "  'url': 'https://lush.co.kr/goods/goods_view.php?goodsNo=1000000092',\n",
       "  'image': ['https://lush.co.kr/data/goods/18/12/49/1000000092/t50_1000000092_detail_077.png',\n",
       "   'https://lush.co.kr/data/goods/18/12/49/1000000092/t50_1000000092_detail_149.png'],\n",
       "  'color': '#',\n",
       "  'category': '러쉬 > 보디 > 보디 스프레이',\n",
       "  'salePrice': 50000,\n",
       "  'originalPrice': 50000,\n",
       "  'brand': 'lush',\n",
       "  'volume': '#'}]"
      ]
     },
     "metadata": {},
     "output_type": "display_data"
    },
    {
     "data": {
      "text/plain": [
       "[{'name': '골든 페어',\n",
       "  'url': 'https://lush.co.kr/goods/goods_view.php?goodsNo=1000000091',\n",
       "  'image': ['https://lush.co.kr/data/goods/18/12/49/1000000091/t50_1000000091_detail_029.png',\n",
       "   'https://lush.co.kr/data/goods/18/12/49/1000000091/t50_1000000091_detail_119.png'],\n",
       "  'color': '#',\n",
       "  'category': '러쉬 > 보디 > 보디 스프레이',\n",
       "  'salePrice': 50000,\n",
       "  'originalPrice': 50000,\n",
       "  'brand': 'lush',\n",
       "  'volume': '#'}]"
      ]
     },
     "metadata": {},
     "output_type": "display_data"
    },
    {
     "data": {
      "text/plain": [
       "[{'name': '칼라카스',\n",
       "  'url': 'https://lush.co.kr/goods/goods_view.php?goodsNo=1000000090',\n",
       "  'image': ['https://lush.co.kr/data/goods/18/12/49/1000000090/t50_1000000090_detail_039.png',\n",
       "   'https://lush.co.kr/data/goods/18/12/49/1000000090/t50_1000000090_detail_143.png'],\n",
       "  'color': '#',\n",
       "  'category': '러쉬 > 보디 > 보디 스프레이',\n",
       "  'salePrice': 50000,\n",
       "  'originalPrice': 50000,\n",
       "  'brand': 'lush',\n",
       "  'volume': '#'}]"
      ]
     },
     "metadata": {},
     "output_type": "display_data"
    },
    {
     "data": {
      "text/plain": [
       "[{'name': '슬랩 스틱 40N',\n",
       "  'url': 'https://lush.co.kr/goods/goods_view.php?goodsNo=1000000068',\n",
       "  'image': ['https://lush.co.kr/data/goods/18/11/48/1000000068/t50_1000000068_detail_078.png'],\n",
       "  'color': '#',\n",
       "  'category': '러쉬 > 프로모션',\n",
       "  'salePrice': 34000,\n",
       "  'originalPrice': 34000,\n",
       "  'brand': 'lush',\n",
       "  'volume': '#'}]"
      ]
     },
     "metadata": {},
     "output_type": "display_data"
    },
    {
     "data": {
      "text/plain": [
       "[{'name': '슬랩 스틱 39N',\n",
       "  'url': 'https://lush.co.kr/goods/goods_view.php?goodsNo=1000000067',\n",
       "  'image': ['https://lush.co.kr/data/goods/18/11/48/1000000067/t50_1000000067_detail_081.png'],\n",
       "  'color': '#',\n",
       "  'category': '러쉬 > 프로모션',\n",
       "  'salePrice': 34000,\n",
       "  'originalPrice': 34000,\n",
       "  'brand': 'lush',\n",
       "  'volume': '#'}]"
      ]
     },
     "metadata": {},
     "output_type": "display_data"
    },
    {
     "data": {
      "text/plain": [
       "[{'name': '슬랩 스틱 38N',\n",
       "  'url': 'https://lush.co.kr/goods/goods_view.php?goodsNo=1000000066',\n",
       "  'image': ['https://lush.co.kr/data/goods/18/11/48/1000000066/t50_1000000066_detail_032.png'],\n",
       "  'color': '#',\n",
       "  'category': '러쉬 > 프로모션',\n",
       "  'salePrice': 34000,\n",
       "  'originalPrice': 34000,\n",
       "  'brand': 'lush',\n",
       "  'volume': '#'}]"
      ]
     },
     "metadata": {},
     "output_type": "display_data"
    },
    {
     "data": {
      "text/plain": [
       "[{'name': '슬랩 스틱 37C',\n",
       "  'url': 'https://lush.co.kr/goods/goods_view.php?goodsNo=1000000065',\n",
       "  'image': ['https://lush.co.kr/data/goods/18/11/48/1000000065/t50_1000000065_detail_03.png'],\n",
       "  'color': '#',\n",
       "  'category': '러쉬 > 프로모션',\n",
       "  'salePrice': 34000,\n",
       "  'originalPrice': 34000,\n",
       "  'brand': 'lush',\n",
       "  'volume': '#'}]"
      ]
     },
     "metadata": {},
     "output_type": "display_data"
    },
    {
     "data": {
      "text/plain": [
       "[{'name': '슬랩 스틱 36C',\n",
       "  'url': 'https://lush.co.kr/goods/goods_view.php?goodsNo=1000000064',\n",
       "  'image': ['https://lush.co.kr/data/goods/18/11/48/1000000064/t50_1000000064_detail_076.png'],\n",
       "  'color': '#',\n",
       "  'category': '러쉬 > 프로모션',\n",
       "  'salePrice': 34000,\n",
       "  'originalPrice': 34000,\n",
       "  'brand': 'lush',\n",
       "  'volume': '#'}]"
      ]
     },
     "metadata": {},
     "output_type": "display_data"
    },
    {
     "data": {
      "text/plain": [
       "[{'name': '슬랩 스틱 35W',\n",
       "  'url': 'https://lush.co.kr/goods/goods_view.php?goodsNo=1000000063',\n",
       "  'image': ['https://lush.co.kr/data/goods/18/11/48/1000000063/t50_1000000063_detail_032.png'],\n",
       "  'color': '#',\n",
       "  'category': '러쉬 > 프로모션',\n",
       "  'salePrice': 34000,\n",
       "  'originalPrice': 34000,\n",
       "  'brand': 'lush',\n",
       "  'volume': '#'}]"
      ]
     },
     "metadata": {},
     "output_type": "display_data"
    },
    {
     "data": {
      "text/plain": [
       "[{'name': '슬랩 스틱 34C',\n",
       "  'url': 'https://lush.co.kr/goods/goods_view.php?goodsNo=1000000062',\n",
       "  'image': ['https://lush.co.kr/data/goods/18/11/48/1000000062/t50_1000000062_detail_052.png'],\n",
       "  'color': '#',\n",
       "  'category': '러쉬 > 프로모션',\n",
       "  'salePrice': 34000,\n",
       "  'originalPrice': 34000,\n",
       "  'brand': 'lush',\n",
       "  'volume': '#'}]"
      ]
     },
     "metadata": {},
     "output_type": "display_data"
    },
    {
     "data": {
      "text/plain": [
       "[{'name': '슬랩 스틱 33W',\n",
       "  'url': 'https://lush.co.kr/goods/goods_view.php?goodsNo=1000000061',\n",
       "  'image': ['https://lush.co.kr/data/goods/18/11/48/1000000061/t50_1000000061_detail_060.png'],\n",
       "  'color': '#',\n",
       "  'category': '러쉬 > 프로모션',\n",
       "  'salePrice': 34000,\n",
       "  'originalPrice': 34000,\n",
       "  'brand': 'lush',\n",
       "  'volume': '#'}]"
      ]
     },
     "metadata": {},
     "output_type": "display_data"
    },
    {
     "data": {
      "text/plain": [
       "[{'name': '슬랩 스틱 32C',\n",
       "  'url': 'https://lush.co.kr/goods/goods_view.php?goodsNo=1000000060',\n",
       "  'image': ['https://lush.co.kr/data/goods/18/11/48/1000000060/t50_1000000060_detail_086.png'],\n",
       "  'color': '#',\n",
       "  'category': '러쉬 > 프로모션',\n",
       "  'salePrice': 34000,\n",
       "  'originalPrice': 34000,\n",
       "  'brand': 'lush',\n",
       "  'volume': '#'}]"
      ]
     },
     "metadata": {},
     "output_type": "display_data"
    },
    {
     "data": {
      "text/plain": [
       "[{'name': '슬랩 스틱 31N',\n",
       "  'url': 'https://lush.co.kr/goods/goods_view.php?goodsNo=1000000059',\n",
       "  'image': ['https://lush.co.kr/data/goods/18/11/48/1000000059/t50_1000000059_detail_023.png'],\n",
       "  'color': '#',\n",
       "  'category': '러쉬 > 프로모션',\n",
       "  'salePrice': 34000,\n",
       "  'originalPrice': 34000,\n",
       "  'brand': 'lush',\n",
       "  'volume': '#'}]"
      ]
     },
     "metadata": {},
     "output_type": "display_data"
    },
    {
     "data": {
      "text/plain": [
       "[{'name': '슬랩 스틱 30W',\n",
       "  'url': 'https://lush.co.kr/goods/goods_view.php?goodsNo=1000000058',\n",
       "  'image': ['https://lush.co.kr/data/goods/18/11/48/1000000058/t50_1000000058_detail_075.png'],\n",
       "  'color': '#',\n",
       "  'category': '러쉬 > 프로모션',\n",
       "  'salePrice': 34000,\n",
       "  'originalPrice': 34000,\n",
       "  'brand': 'lush',\n",
       "  'volume': '#'}]"
      ]
     },
     "metadata": {},
     "output_type": "display_data"
    },
    {
     "data": {
      "text/plain": [
       "[{'name': '슬랩 스틱 29N',\n",
       "  'url': 'https://lush.co.kr/goods/goods_view.php?goodsNo=1000000057',\n",
       "  'image': ['https://lush.co.kr/data/goods/18/11/48/1000000057/t50_1000000057_detail_064.png'],\n",
       "  'color': '#',\n",
       "  'category': '러쉬 > 프로모션',\n",
       "  'salePrice': 34000,\n",
       "  'originalPrice': 34000,\n",
       "  'brand': 'lush',\n",
       "  'volume': '#'}]"
      ]
     },
     "metadata": {},
     "output_type": "display_data"
    },
    {
     "data": {
      "text/plain": [
       "[{'name': '슬랩 스틱 28C',\n",
       "  'url': 'https://lush.co.kr/goods/goods_view.php?goodsNo=1000000056',\n",
       "  'image': ['https://lush.co.kr/data/goods/18/11/48/1000000056/t50_1000000056_detail_0100.png'],\n",
       "  'color': '#',\n",
       "  'category': '러쉬 > 프로모션',\n",
       "  'salePrice': 34000,\n",
       "  'originalPrice': 34000,\n",
       "  'brand': 'lush',\n",
       "  'volume': '#'}]"
      ]
     },
     "metadata": {},
     "output_type": "display_data"
    },
    {
     "data": {
      "text/plain": [
       "[{'name': '슬랩 스틱 27C',\n",
       "  'url': 'https://lush.co.kr/goods/goods_view.php?goodsNo=1000000055',\n",
       "  'image': ['https://lush.co.kr/data/goods/18/11/48/1000000055/t50_1000000055_detail_075.png'],\n",
       "  'color': '#',\n",
       "  'category': '러쉬 > 프로모션',\n",
       "  'salePrice': 34000,\n",
       "  'originalPrice': 34000,\n",
       "  'brand': 'lush',\n",
       "  'volume': '#'}]"
      ]
     },
     "metadata": {},
     "output_type": "display_data"
    },
    {
     "data": {
      "text/plain": [
       "[{'name': '슬랩 스틱 26N',\n",
       "  'url': 'https://lush.co.kr/goods/goods_view.php?goodsNo=1000000054',\n",
       "  'image': ['https://lush.co.kr/data/goods/18/11/48/1000000054/t50_1000000054_detail_07.png'],\n",
       "  'color': '#',\n",
       "  'category': '러쉬 > 프로모션',\n",
       "  'salePrice': 34000,\n",
       "  'originalPrice': 34000,\n",
       "  'brand': 'lush',\n",
       "  'volume': '#'}]"
      ]
     },
     "metadata": {},
     "output_type": "display_data"
    },
    {
     "data": {
      "text/plain": [
       "[{'name': '슬랩 스틱 25W',\n",
       "  'url': 'https://lush.co.kr/goods/goods_view.php?goodsNo=1000000053',\n",
       "  'image': ['https://lush.co.kr/data/goods/18/11/48/1000000053/t50_1000000053_detail_077.png'],\n",
       "  'color': '#',\n",
       "  'category': '러쉬 > 프로모션',\n",
       "  'salePrice': 34000,\n",
       "  'originalPrice': 34000,\n",
       "  'brand': 'lush',\n",
       "  'volume': '#'}]"
      ]
     },
     "metadata": {},
     "output_type": "display_data"
    },
    {
     "data": {
      "text/plain": [
       "[{'name': '슬랩 스틱 24W',\n",
       "  'url': 'https://lush.co.kr/goods/goods_view.php?goodsNo=1000000052',\n",
       "  'image': ['https://lush.co.kr/data/goods/18/11/48/1000000052/t50_1000000052_detail_085.png'],\n",
       "  'color': '#',\n",
       "  'category': '러쉬 > 프로모션',\n",
       "  'salePrice': 34000,\n",
       "  'originalPrice': 34000,\n",
       "  'brand': 'lush',\n",
       "  'volume': '#'}]"
      ]
     },
     "metadata": {},
     "output_type": "display_data"
    },
    {
     "data": {
      "text/plain": [
       "[{'name': '슬랩 스틱 23N',\n",
       "  'url': 'https://lush.co.kr/goods/goods_view.php?goodsNo=1000000051',\n",
       "  'image': ['https://lush.co.kr/data/goods/18/11/48/1000000051/t50_1000000051_detail_044.png'],\n",
       "  'color': '#',\n",
       "  'category': '러쉬 > 프로모션',\n",
       "  'salePrice': 34000,\n",
       "  'originalPrice': 34000,\n",
       "  'brand': 'lush',\n",
       "  'volume': '#'}]"
      ]
     },
     "metadata": {},
     "output_type": "display_data"
    },
    {
     "data": {
      "text/plain": [
       "[{'name': '슬랩 스틱 22C',\n",
       "  'url': 'https://lush.co.kr/goods/goods_view.php?goodsNo=1000000050',\n",
       "  'image': ['https://lush.co.kr/data/goods/18/11/48/1000000050/t50_1000000050_detail_082.png'],\n",
       "  'color': '#',\n",
       "  'category': '러쉬 > 프로모션',\n",
       "  'salePrice': 34000,\n",
       "  'originalPrice': 34000,\n",
       "  'brand': 'lush',\n",
       "  'volume': '#'}]"
      ]
     },
     "metadata": {},
     "output_type": "display_data"
    },
    {
     "data": {
      "text/plain": [
       "[{'name': '슬랩 스틱 21W',\n",
       "  'url': 'https://lush.co.kr/goods/goods_view.php?goodsNo=1000000049',\n",
       "  'image': ['https://lush.co.kr/data/goods/18/11/48/1000000049/t50_1000000049_detail_032.png'],\n",
       "  'color': '#',\n",
       "  'category': '러쉬 > 프로모션',\n",
       "  'salePrice': 34000,\n",
       "  'originalPrice': 34000,\n",
       "  'brand': 'lush',\n",
       "  'volume': '#'}]"
      ]
     },
     "metadata": {},
     "output_type": "display_data"
    },
    {
     "data": {
      "text/plain": [
       "[{'name': '슬랩 스틱 19W',\n",
       "  'url': 'https://lush.co.kr/goods/goods_view.php?goodsNo=1000000047',\n",
       "  'image': ['https://lush.co.kr/data/goods/18/11/48/1000000047/t50_1000000047_detail_051.png'],\n",
       "  'color': '#',\n",
       "  'category': '러쉬 > 프로모션',\n",
       "  'salePrice': 34000,\n",
       "  'originalPrice': 34000,\n",
       "  'brand': 'lush',\n",
       "  'volume': '#'}]"
      ]
     },
     "metadata": {},
     "output_type": "display_data"
    },
    {
     "data": {
      "text/plain": [
       "[{'name': '슬랩 스틱 18C',\n",
       "  'url': 'https://lush.co.kr/goods/goods_view.php?goodsNo=1000000046',\n",
       "  'image': ['https://lush.co.kr/data/goods/18/11/48/1000000046/t50_1000000046_detail_050.png'],\n",
       "  'color': '#',\n",
       "  'category': '러쉬 > 프로모션',\n",
       "  'salePrice': 34000,\n",
       "  'originalPrice': 34000,\n",
       "  'brand': 'lush',\n",
       "  'volume': '#'}]"
      ]
     },
     "metadata": {},
     "output_type": "display_data"
    },
    {
     "data": {
      "text/plain": [
       "[{'name': '슬랩 스틱 17N',\n",
       "  'url': 'https://lush.co.kr/goods/goods_view.php?goodsNo=1000000045',\n",
       "  'image': ['https://lush.co.kr/data/goods/18/11/48/1000000045/t50_1000000045_detail_041.png'],\n",
       "  'color': '#',\n",
       "  'category': '러쉬 > 프로모션',\n",
       "  'salePrice': 34000,\n",
       "  'originalPrice': 34000,\n",
       "  'brand': 'lush',\n",
       "  'volume': '#'}]"
      ]
     },
     "metadata": {},
     "output_type": "display_data"
    },
    {
     "data": {
      "text/plain": [
       "[{'name': '슬랩 스틱 16W',\n",
       "  'url': 'https://lush.co.kr/goods/goods_view.php?goodsNo=1000000044',\n",
       "  'image': ['https://lush.co.kr/data/goods/18/11/48/1000000044/t50_1000000044_detail_08.png'],\n",
       "  'color': '#',\n",
       "  'category': '러쉬 > 프로모션',\n",
       "  'salePrice': 34000,\n",
       "  'originalPrice': 34000,\n",
       "  'brand': 'lush',\n",
       "  'volume': '#'}]"
      ]
     },
     "metadata": {},
     "output_type": "display_data"
    },
    {
     "data": {
      "text/plain": [
       "[{'name': '슬랩 스틱 15W',\n",
       "  'url': 'https://lush.co.kr/goods/goods_view.php?goodsNo=1000000043',\n",
       "  'image': ['https://lush.co.kr/data/goods/18/11/48/1000000043/t50_1000000043_detail_086.png'],\n",
       "  'color': '#',\n",
       "  'category': '러쉬 > 프로모션',\n",
       "  'salePrice': 34000,\n",
       "  'originalPrice': 34000,\n",
       "  'brand': 'lush',\n",
       "  'volume': '#'}]"
      ]
     },
     "metadata": {},
     "output_type": "display_data"
    },
    {
     "data": {
      "text/plain": [
       "[{'name': '슬랩 스틱 14N',\n",
       "  'url': 'https://lush.co.kr/goods/goods_view.php?goodsNo=1000000042',\n",
       "  'image': ['https://lush.co.kr/data/goods/18/11/48/1000000042/t50_1000000042_detail_024.png'],\n",
       "  'color': '#',\n",
       "  'category': '러쉬 > 프로모션',\n",
       "  'salePrice': 34000,\n",
       "  'originalPrice': 34000,\n",
       "  'brand': 'lush',\n",
       "  'volume': '#'}]"
      ]
     },
     "metadata": {},
     "output_type": "display_data"
    },
    {
     "data": {
      "text/plain": [
       "[{'name': '슬랩 스틱 13C',\n",
       "  'url': 'https://lush.co.kr/goods/goods_view.php?goodsNo=1000000041',\n",
       "  'image': ['https://lush.co.kr/data/goods/18/11/48/1000000041/t50_1000000041_detail_065.png'],\n",
       "  'color': '#',\n",
       "  'category': '러쉬 > 프로모션',\n",
       "  'salePrice': 34000,\n",
       "  'originalPrice': 34000,\n",
       "  'brand': 'lush',\n",
       "  'volume': '#'}]"
      ]
     },
     "metadata": {},
     "output_type": "display_data"
    },
    {
     "data": {
      "text/plain": [
       "[{'name': '슬랩 스틱 12W',\n",
       "  'url': 'https://lush.co.kr/goods/goods_view.php?goodsNo=1000000040',\n",
       "  'image': ['https://lush.co.kr/data/goods/18/11/48/1000000040/t50_1000000040_detail_011.png'],\n",
       "  'color': '#',\n",
       "  'category': '러쉬 > 프로모션',\n",
       "  'salePrice': 34000,\n",
       "  'originalPrice': 34000,\n",
       "  'brand': 'lush',\n",
       "  'volume': '#'}]"
      ]
     },
     "metadata": {},
     "output_type": "display_data"
    },
    {
     "data": {
      "text/plain": [
       "[{'name': '슬랩 스틱 10C',\n",
       "  'url': 'https://lush.co.kr/goods/goods_view.php?goodsNo=1000000038',\n",
       "  'image': ['https://lush.co.kr/data/goods/18/11/48/1000000038/t50_1000000038_detail_052.png'],\n",
       "  'color': '#',\n",
       "  'category': '러쉬 > 프로모션',\n",
       "  'salePrice': 34000,\n",
       "  'originalPrice': 34000,\n",
       "  'brand': 'lush',\n",
       "  'volume': '#'}]"
      ]
     },
     "metadata": {},
     "output_type": "display_data"
    },
    {
     "data": {
      "text/plain": [
       "[{'name': '슬랩 스틱 9W',\n",
       "  'url': 'https://lush.co.kr/goods/goods_view.php?goodsNo=1000000037',\n",
       "  'image': ['https://lush.co.kr/data/goods/18/11/48/1000000037/t50_1000000037_detail_081.png'],\n",
       "  'color': '#',\n",
       "  'category': '러쉬 > 프로모션',\n",
       "  'salePrice': 34000,\n",
       "  'originalPrice': 34000,\n",
       "  'brand': 'lush',\n",
       "  'volume': '#'}]"
      ]
     },
     "metadata": {},
     "output_type": "display_data"
    },
    {
     "data": {
      "text/plain": [
       "[{'name': '슬랩 스틱 7C',\n",
       "  'url': 'https://lush.co.kr/goods/goods_view.php?goodsNo=1000000035',\n",
       "  'image': ['https://lush.co.kr/data/goods/18/11/48/1000000035/t50_1000000035_detail_015.png'],\n",
       "  'color': '#',\n",
       "  'category': '러쉬 > 프로모션',\n",
       "  'salePrice': 34000,\n",
       "  'originalPrice': 34000,\n",
       "  'brand': 'lush',\n",
       "  'volume': '#'}]"
      ]
     },
     "metadata": {},
     "output_type": "display_data"
    },
    {
     "data": {
      "text/plain": [
       "[{'name': '슬랩 스틱 4C',\n",
       "  'url': 'https://lush.co.kr/goods/goods_view.php?goodsNo=1000000032',\n",
       "  'image': ['https://lush.co.kr/data/goods/18/11/48/1000000032/t50_1000000032_detail_098.png'],\n",
       "  'color': '#',\n",
       "  'category': '러쉬 > 프로모션',\n",
       "  'salePrice': 34000,\n",
       "  'originalPrice': 34000,\n",
       "  'brand': 'lush',\n",
       "  'volume': '#'}]"
      ]
     },
     "metadata": {},
     "output_type": "display_data"
    },
    {
     "data": {
      "text/plain": [
       "[{'name': '슬랩 스틱 3W',\n",
       "  'url': 'https://lush.co.kr/goods/goods_view.php?goodsNo=1000000031',\n",
       "  'image': ['https://lush.co.kr/data/goods/18/11/48/1000000031/t50_1000000031_detail_050.png'],\n",
       "  'color': '#',\n",
       "  'category': '러쉬 > 프로모션',\n",
       "  'salePrice': 34000,\n",
       "  'originalPrice': 34000,\n",
       "  'brand': 'lush',\n",
       "  'volume': '#'}]"
      ]
     },
     "metadata": {},
     "output_type": "display_data"
    },
    {
     "data": {
      "text/plain": [
       "[{'name': '슬랩 스틱 2N',\n",
       "  'url': 'https://lush.co.kr/goods/goods_view.php?goodsNo=1000000030',\n",
       "  'image': ['https://lush.co.kr/data/goods/18/11/48/1000000030/t50_1000000030_detail_024.png'],\n",
       "  'color': '#',\n",
       "  'category': '러쉬 > 프로모션',\n",
       "  'salePrice': 34000,\n",
       "  'originalPrice': 34000,\n",
       "  'brand': 'lush',\n",
       "  'volume': '#'}]"
      ]
     },
     "metadata": {},
     "output_type": "display_data"
    },
    {
     "data": {
      "text/plain": [
       "[{'name': '슬랩 스틱 1C',\n",
       "  'url': 'https://lush.co.kr/goods/goods_view.php?goodsNo=1000000029',\n",
       "  'image': ['https://lush.co.kr/data/goods/18/11/48/1000000029/t50_1000000029_detail_040.png'],\n",
       "  'color': '#',\n",
       "  'category': '러쉬 > 프로모션',\n",
       "  'salePrice': 34000,\n",
       "  'originalPrice': 34000,\n",
       "  'brand': 'lush',\n",
       "  'volume': '#'}]"
      ]
     },
     "metadata": {},
     "output_type": "display_data"
    },
    {
     "data": {
      "text/plain": [
       "[{'name': '핑크 페티그레인 버블 스피너',\n",
       "  'url': 'https://lush.co.kr/goods/goods_view.php?goodsNo=1000000028',\n",
       "  'image': ['https://lush.co.kr/data/goods/18/11/48/1000000028/t50_1000000028_detail_098.png'],\n",
       "  'color': '#',\n",
       "  'category': '러쉬 > 배쓰 > 버블 바',\n",
       "  'salePrice': 21000,\n",
       "  'originalPrice': 21000,\n",
       "  'brand': 'lush',\n",
       "  'volume': '#'}]"
      ]
     },
     "metadata": {},
     "output_type": "display_data"
    },
    {
     "data": {
      "text/plain": [
       "[{'name': '오티 크리미 드리미 225g',\n",
       "  'url': 'https://lush.co.kr/goods/goods_view.php?goodsNo=1000000027',\n",
       "  'image': ['https://lush.co.kr/data/goods/18/11/48/1000000027/t50_1000000027_detail_023.png',\n",
       "   'https://lush.co.kr/data/goods/18/11/48/1000000027/t50_1000000027_detail_125.png'],\n",
       "  'color': '#',\n",
       "  'category': '러쉬 > 샤워 > 샤워 젤 & 젤리',\n",
       "  'salePrice': 40000,\n",
       "  'originalPrice': 40000,\n",
       "  'brand': 'lush',\n",
       "  'volume': '#'}]"
      ]
     },
     "metadata": {},
     "output_type": "display_data"
    },
    {
     "data": {
      "text/plain": [
       "[{'name': '매직 크리스탈스',\n",
       "  'url': 'https://lush.co.kr/goods/goods_view.php?goodsNo=1000000026',\n",
       "  'image': ['https://lush.co.kr/data/goods/18/11/48/1000000026/t50_1000000026_detail_035.png',\n",
       "   'https://lush.co.kr/data/goods/18/11/48/1000000026/t50_1000000026_detail_190.png'],\n",
       "  'color': '#',\n",
       "  'category': '러쉬 > 샤워 > 스크럽 & 버터',\n",
       "  'salePrice': 32000,\n",
       "  'originalPrice': 32000,\n",
       "  'brand': 'lush',\n",
       "  'volume': '300g'},\n",
       " {'name': '매직 크리스탈스',\n",
       "  'url': 'https://lush.co.kr/goods/goods_view.php?goodsNo=1000000026',\n",
       "  'image': ['https://lush.co.kr/data/goods/18/11/48/1000000026/t50_1000000026_detail_035.png',\n",
       "   'https://lush.co.kr/data/goods/18/11/48/1000000026/t50_1000000026_detail_190.png'],\n",
       "  'color': '#',\n",
       "  'category': '러쉬 > 샤워 > 스크럽 & 버터',\n",
       "  'salePrice': 32000,\n",
       "  'originalPrice': 32000,\n",
       "  'brand': 'lush',\n",
       "  'volume': '600g:￦+26,000'}]"
      ]
     },
     "metadata": {},
     "output_type": "display_data"
    },
    {
     "data": {
      "text/plain": [
       "[{'name': '캔디 버블 브러시',\n",
       "  'url': 'https://lush.co.kr/goods/goods_view.php?goodsNo=1000000025',\n",
       "  'image': ['https://lush.co.kr/data/goods/18/11/48/1000000025/t50_1000000025_detail_025.png'],\n",
       "  'color': '#',\n",
       "  'category': '러쉬 > 배쓰 > 버블 바',\n",
       "  'salePrice': 21000,\n",
       "  'originalPrice': 21000,\n",
       "  'brand': 'lush',\n",
       "  'volume': '#'}]"
      ]
     },
     "metadata": {},
     "output_type": "display_data"
    },
    {
     "data": {
      "text/plain": [
       "[{'name': '레몬 버블 브러시',\n",
       "  'url': 'https://lush.co.kr/goods/goods_view.php?goodsNo=1000000024',\n",
       "  'image': ['https://lush.co.kr/data/goods/18/11/48/1000000024/t50_1000000024_detail_074.png'],\n",
       "  'color': '#',\n",
       "  'category': '러쉬 > 배쓰 > 버블 바',\n",
       "  'salePrice': 21000,\n",
       "  'originalPrice': 21000,\n",
       "  'brand': 'lush',\n",
       "  'volume': '#'}]"
      ]
     },
     "metadata": {},
     "output_type": "display_data"
    },
    {
     "data": {
      "text/plain": [
       "[{'name': '민트 버블 브러시',\n",
       "  'url': 'https://lush.co.kr/goods/goods_view.php?goodsNo=1000000023',\n",
       "  'image': ['https://lush.co.kr/data/goods/18/11/48/1000000023/t50_1000000023_detail_031.png'],\n",
       "  'color': '#',\n",
       "  'category': '러쉬 > 배쓰 > 버블 바',\n",
       "  'salePrice': 21000,\n",
       "  'originalPrice': 21000,\n",
       "  'brand': 'lush',\n",
       "  'volume': '#'}]"
      ]
     },
     "metadata": {},
     "output_type": "display_data"
    },
    {
     "data": {
      "text/plain": [
       "[{'name': '슈팅 스타스',\n",
       "  'url': 'https://lush.co.kr/goods/goods_view.php?goodsNo=599',\n",
       "  'image': ['https://lush.co.kr/data/goods/18/10/04/599/t50_599_detail_027.png'],\n",
       "  'color': '#',\n",
       "  'category': '러쉬 > 프로모션',\n",
       "  'salePrice': 13000,\n",
       "  'originalPrice': 13000,\n",
       "  'brand': 'lush',\n",
       "  'volume': '#'}]"
      ]
     },
     "metadata": {},
     "output_type": "display_data"
    },
    {
     "data": {
      "text/plain": [
       "[{'name': '스노우 페어리',\n",
       "  'url': 'https://lush.co.kr/goods/goods_view.php?goodsNo=551',\n",
       "  'image': ['https://lush.co.kr/data/goods/18/09/19/551/t50_551_detail_089.png'],\n",
       "  'color': '#',\n",
       "  'category': '러쉬',\n",
       "  'salePrice': 20000,\n",
       "  'originalPrice': 20000,\n",
       "  'brand': 'lush',\n",
       "  'volume': '#'}]"
      ]
     },
     "metadata": {},
     "output_type": "display_data"
    },
    {
     "data": {
      "text/plain": [
       "[{'name': '부쉐 드 노엘',\n",
       "  'url': 'https://lush.co.kr/goods/goods_view.php?goodsNo=547',\n",
       "  'image': ['https://lush.co.kr/data/goods/18/09/19/547/t50_547_detail_068.png',\n",
       "   'https://lush.co.kr/data/goods/18/09/19/547/t50_547_detail_111.png',\n",
       "   'https://lush.co.kr/data/goods/18/09/19/547/t50_547_detail_250.png'],\n",
       "  'color': '#',\n",
       "  'category': '러쉬 > 페이스 > 클렌저',\n",
       "  'salePrice': 20000,\n",
       "  'originalPrice': 20000,\n",
       "  'brand': 'lush',\n",
       "  'volume': '100g'},\n",
       " {'name': '부쉐 드 노엘',\n",
       "  'url': 'https://lush.co.kr/goods/goods_view.php?goodsNo=547',\n",
       "  'image': ['https://lush.co.kr/data/goods/18/09/19/547/t50_547_detail_068.png',\n",
       "   'https://lush.co.kr/data/goods/18/09/19/547/t50_547_detail_111.png',\n",
       "   'https://lush.co.kr/data/goods/18/09/19/547/t50_547_detail_250.png'],\n",
       "  'color': '#',\n",
       "  'category': '러쉬 > 페이스 > 클렌저',\n",
       "  'salePrice': 20000,\n",
       "  'originalPrice': 20000,\n",
       "  'brand': 'lush',\n",
       "  'volume': '250g:￦+20,000'}]"
      ]
     },
     "metadata": {},
     "output_type": "display_data"
    },
    {
     "data": {
      "text/plain": [
       "[{'name': '스노우 페어리',\n",
       "  'url': 'https://lush.co.kr/goods/goods_view.php?goodsNo=542',\n",
       "  'image': ['https://lush.co.kr/data/goods/18/09/18/542/t50_542_detail_094.png'],\n",
       "  'color': '#',\n",
       "  'category': '러쉬',\n",
       "  'salePrice': 12000,\n",
       "  'originalPrice': 12000,\n",
       "  'brand': 'lush',\n",
       "  'volume': '#'}]"
      ]
     },
     "metadata": {},
     "output_type": "display_data"
    },
    {
     "data": {
      "text/plain": [
       "[{'name': '스노우 페어리',\n",
       "  'url': 'https://lush.co.kr/goods/goods_view.php?goodsNo=518',\n",
       "  'image': ['https://lush.co.kr/data/goods/18/09/17/518/t50_518_detail_029.png'],\n",
       "  'color': '#',\n",
       "  'category': '러쉬',\n",
       "  'salePrice': 24000,\n",
       "  'originalPrice': 24000,\n",
       "  'brand': 'lush',\n",
       "  'volume': '#'}]"
      ]
     },
     "metadata": {},
     "output_type": "display_data"
    },
    {
     "data": {
      "text/plain": [
       "[{'name': '스노우 페어리',\n",
       "  'url': 'https://lush.co.kr/goods/goods_view.php?goodsNo=511',\n",
       "  'image': ['https://lush.co.kr/data/goods/18/09/17/511/t50_511_detail_162.png',\n",
       "   'https://lush.co.kr/data/goods/18/09/17/511/t50_511_detail_244.png',\n",
       "   'https://lush.co.kr/data/goods/18/09/17/511/t50_511_detail_366.png',\n",
       "   'https://lush.co.kr/data/goods/18/09/17/511/t50_511_detail_481.png',\n",
       "   'https://lush.co.kr/data/goods/18/09/17/511/t50_511_detail_018.png',\n",
       "   'https://lush.co.kr/data/goods/18/09/17/511/t50_511_detail_162.png',\n",
       "   'https://lush.co.kr/data/goods/18/09/17/511/t50_511_detail_244.png',\n",
       "   'https://lush.co.kr/data/goods/18/09/17/511/t50_511_detail_366.png',\n",
       "   'https://lush.co.kr/data/goods/18/09/17/511/t50_511_detail_481.png',\n",
       "   'https://lush.co.kr/data/goods/18/09/17/511/t50_511_detail_018.png',\n",
       "   'https://lush.co.kr/data/goods/18/09/17/511/t50_511_detail_162.png',\n",
       "   'https://lush.co.kr/data/goods/18/09/17/511/t50_511_detail_244.png',\n",
       "   'https://lush.co.kr/data/goods/18/09/17/511/t50_511_detail_366.png'],\n",
       "  'color': '#',\n",
       "  'category': '러쉬 > 프로모션',\n",
       "  'salePrice': 14000,\n",
       "  'originalPrice': 14000,\n",
       "  'brand': 'lush',\n",
       "  'volume': '100g[품절]'},\n",
       " {'name': '스노우 페어리',\n",
       "  'url': 'https://lush.co.kr/goods/goods_view.php?goodsNo=511',\n",
       "  'image': ['https://lush.co.kr/data/goods/18/09/17/511/t50_511_detail_162.png',\n",
       "   'https://lush.co.kr/data/goods/18/09/17/511/t50_511_detail_244.png',\n",
       "   'https://lush.co.kr/data/goods/18/09/17/511/t50_511_detail_366.png',\n",
       "   'https://lush.co.kr/data/goods/18/09/17/511/t50_511_detail_481.png',\n",
       "   'https://lush.co.kr/data/goods/18/09/17/511/t50_511_detail_018.png',\n",
       "   'https://lush.co.kr/data/goods/18/09/17/511/t50_511_detail_162.png',\n",
       "   'https://lush.co.kr/data/goods/18/09/17/511/t50_511_detail_244.png',\n",
       "   'https://lush.co.kr/data/goods/18/09/17/511/t50_511_detail_366.png',\n",
       "   'https://lush.co.kr/data/goods/18/09/17/511/t50_511_detail_481.png',\n",
       "   'https://lush.co.kr/data/goods/18/09/17/511/t50_511_detail_018.png',\n",
       "   'https://lush.co.kr/data/goods/18/09/17/511/t50_511_detail_162.png',\n",
       "   'https://lush.co.kr/data/goods/18/09/17/511/t50_511_detail_244.png',\n",
       "   'https://lush.co.kr/data/goods/18/09/17/511/t50_511_detail_366.png'],\n",
       "  'color': '#',\n",
       "  'category': '러쉬 > 프로모션',\n",
       "  'salePrice': 14000,\n",
       "  'originalPrice': 14000,\n",
       "  'brand': 'lush',\n",
       "  'volume': '250g:￦+12,000[품절]'},\n",
       " {'name': '스노우 페어리',\n",
       "  'url': 'https://lush.co.kr/goods/goods_view.php?goodsNo=511',\n",
       "  'image': ['https://lush.co.kr/data/goods/18/09/17/511/t50_511_detail_162.png',\n",
       "   'https://lush.co.kr/data/goods/18/09/17/511/t50_511_detail_244.png',\n",
       "   'https://lush.co.kr/data/goods/18/09/17/511/t50_511_detail_366.png',\n",
       "   'https://lush.co.kr/data/goods/18/09/17/511/t50_511_detail_481.png',\n",
       "   'https://lush.co.kr/data/goods/18/09/17/511/t50_511_detail_018.png',\n",
       "   'https://lush.co.kr/data/goods/18/09/17/511/t50_511_detail_162.png',\n",
       "   'https://lush.co.kr/data/goods/18/09/17/511/t50_511_detail_244.png',\n",
       "   'https://lush.co.kr/data/goods/18/09/17/511/t50_511_detail_366.png',\n",
       "   'https://lush.co.kr/data/goods/18/09/17/511/t50_511_detail_481.png',\n",
       "   'https://lush.co.kr/data/goods/18/09/17/511/t50_511_detail_018.png',\n",
       "   'https://lush.co.kr/data/goods/18/09/17/511/t50_511_detail_162.png',\n",
       "   'https://lush.co.kr/data/goods/18/09/17/511/t50_511_detail_244.png',\n",
       "   'https://lush.co.kr/data/goods/18/09/17/511/t50_511_detail_366.png'],\n",
       "  'color': '#',\n",
       "  'category': '러쉬 > 프로모션',\n",
       "  'salePrice': 14000,\n",
       "  'originalPrice': 14000,\n",
       "  'brand': 'lush',\n",
       "  'volume': '500g:￦+34,000'},\n",
       " {'name': '스노우 페어리',\n",
       "  'url': 'https://lush.co.kr/goods/goods_view.php?goodsNo=511',\n",
       "  'image': ['https://lush.co.kr/data/goods/18/09/17/511/t50_511_detail_162.png',\n",
       "   'https://lush.co.kr/data/goods/18/09/17/511/t50_511_detail_244.png',\n",
       "   'https://lush.co.kr/data/goods/18/09/17/511/t50_511_detail_366.png',\n",
       "   'https://lush.co.kr/data/goods/18/09/17/511/t50_511_detail_481.png',\n",
       "   'https://lush.co.kr/data/goods/18/09/17/511/t50_511_detail_018.png',\n",
       "   'https://lush.co.kr/data/goods/18/09/17/511/t50_511_detail_162.png',\n",
       "   'https://lush.co.kr/data/goods/18/09/17/511/t50_511_detail_244.png',\n",
       "   'https://lush.co.kr/data/goods/18/09/17/511/t50_511_detail_366.png',\n",
       "   'https://lush.co.kr/data/goods/18/09/17/511/t50_511_detail_481.png',\n",
       "   'https://lush.co.kr/data/goods/18/09/17/511/t50_511_detail_018.png',\n",
       "   'https://lush.co.kr/data/goods/18/09/17/511/t50_511_detail_162.png',\n",
       "   'https://lush.co.kr/data/goods/18/09/17/511/t50_511_detail_244.png',\n",
       "   'https://lush.co.kr/data/goods/18/09/17/511/t50_511_detail_366.png'],\n",
       "  'color': '#',\n",
       "  'category': '러쉬 > 프로모션',\n",
       "  'salePrice': 14000,\n",
       "  'originalPrice': 14000,\n",
       "  'brand': 'lush',\n",
       "  'volume': '1kg:￦+71,000'}]"
      ]
     },
     "metadata": {},
     "output_type": "display_data"
    },
    {
     "data": {
      "text/plain": [
       "[{'name': '슬리피',\n",
       "  'url': 'https://lush.co.kr/goods/goods_view.php?goodsNo=508',\n",
       "  'image': ['https://lush.co.kr/data/goods/18/09/17/508/t50_508_detail_057.png',\n",
       "   'https://lush.co.kr/data/goods/18/09/17/508/t50_508_detail_171.png',\n",
       "   'https://lush.co.kr/data/goods/18/09/17/508/t50_508_detail_215.png',\n",
       "   'https://lush.co.kr/data/goods/18/09/17/508/t50_508_detail_359.png'],\n",
       "  'color': '#',\n",
       "  'category': '러쉬 > 샤워 > 샤워 젤 & 젤리',\n",
       "  'salePrice': 19000,\n",
       "  'originalPrice': 19000,\n",
       "  'brand': 'lush',\n",
       "  'volume': '110g'},\n",
       " {'name': '슬리피',\n",
       "  'url': 'https://lush.co.kr/goods/goods_view.php?goodsNo=508',\n",
       "  'image': ['https://lush.co.kr/data/goods/18/09/17/508/t50_508_detail_057.png',\n",
       "   'https://lush.co.kr/data/goods/18/09/17/508/t50_508_detail_171.png',\n",
       "   'https://lush.co.kr/data/goods/18/09/17/508/t50_508_detail_215.png',\n",
       "   'https://lush.co.kr/data/goods/18/09/17/508/t50_508_detail_359.png'],\n",
       "  'color': '#',\n",
       "  'category': '러쉬 > 샤워 > 샤워 젤 & 젤리',\n",
       "  'salePrice': 19000,\n",
       "  'originalPrice': 19000,\n",
       "  'brand': 'lush',\n",
       "  'volume': '260g:￦+17,000'},\n",
       " {'name': '슬리피',\n",
       "  'url': 'https://lush.co.kr/goods/goods_view.php?goodsNo=508',\n",
       "  'image': ['https://lush.co.kr/data/goods/18/09/17/508/t50_508_detail_057.png',\n",
       "   'https://lush.co.kr/data/goods/18/09/17/508/t50_508_detail_171.png',\n",
       "   'https://lush.co.kr/data/goods/18/09/17/508/t50_508_detail_215.png',\n",
       "   'https://lush.co.kr/data/goods/18/09/17/508/t50_508_detail_359.png'],\n",
       "  'color': '#',\n",
       "  'category': '러쉬 > 샤워 > 샤워 젤 & 젤리',\n",
       "  'salePrice': 19000,\n",
       "  'originalPrice': 19000,\n",
       "  'brand': 'lush',\n",
       "  'volume': '520g:￦+43,000'}]"
      ]
     },
     "metadata": {},
     "output_type": "display_data"
    },
    {
     "data": {
      "text/plain": [
       "[{'name': '밀키 바',\n",
       "  'url': 'https://lush.co.kr/goods/goods_view.php?goodsNo=498',\n",
       "  'image': ['https://lush.co.kr/data/goods/18/09/17/498/t50_498_detail_097.png'],\n",
       "  'color': '#',\n",
       "  'category': '러쉬 > 샤워 > 솝',\n",
       "  'salePrice': 9000,\n",
       "  'originalPrice': 9000,\n",
       "  'brand': 'lush',\n",
       "  'volume': '#'}]"
      ]
     },
     "metadata": {},
     "output_type": "display_data"
    },
    {
     "data": {
      "text/plain": [
       "[{'name': '스노우 페어리',\n",
       "  'url': 'https://lush.co.kr/goods/goods_view.php?goodsNo=484',\n",
       "  'image': ['https://lush.co.kr/data/goods/18/09/17/484/t50_484_detail_011.png',\n",
       "   'https://lush.co.kr/data/goods/18/09/17/484/t50_484_detail_150.png',\n",
       "   'https://lush.co.kr/data/goods/18/09/17/484/t50_484_detail_210.png'],\n",
       "  'color': '#',\n",
       "  'category': '러쉬',\n",
       "  'salePrice': 22000,\n",
       "  'originalPrice': 22000,\n",
       "  'brand': 'lush',\n",
       "  'volume': '100g[품절]'},\n",
       " {'name': '스노우 페어리',\n",
       "  'url': 'https://lush.co.kr/goods/goods_view.php?goodsNo=484',\n",
       "  'image': ['https://lush.co.kr/data/goods/18/09/17/484/t50_484_detail_011.png',\n",
       "   'https://lush.co.kr/data/goods/18/09/17/484/t50_484_detail_150.png',\n",
       "   'https://lush.co.kr/data/goods/18/09/17/484/t50_484_detail_210.png'],\n",
       "  'color': '#',\n",
       "  'category': '러쉬',\n",
       "  'salePrice': 22000,\n",
       "  'originalPrice': 22000,\n",
       "  'brand': 'lush',\n",
       "  'volume': '225g:￦+18,000'}]"
      ]
     },
     "metadata": {},
     "output_type": "display_data"
    },
    {
     "data": {
      "text/plain": [
       "[{'name': '스노우 페어리',\n",
       "  'url': 'https://lush.co.kr/goods/goods_view.php?goodsNo=474',\n",
       "  'image': ['https://lush.co.kr/data/goods/18/09/14/474/t50_474_detail_057.png'],\n",
       "  'color': '#',\n",
       "  'category': '러쉬 > 배쓰 > 젤리 밤',\n",
       "  'salePrice': 18000,\n",
       "  'originalPrice': 18000,\n",
       "  'brand': 'lush',\n",
       "  'volume': '#'}]"
      ]
     },
     "metadata": {},
     "output_type": "display_data"
    },
    {
     "data": {
      "text/plain": [
       "[{'name': '매직 완드',\n",
       "  'url': 'https://lush.co.kr/goods/goods_view.php?goodsNo=468',\n",
       "  'image': ['https://lush.co.kr/data/goods/18/09/14/468/t50_468_detail_085.png'],\n",
       "  'color': '#',\n",
       "  'category': '러쉬',\n",
       "  'salePrice': 20000,\n",
       "  'originalPrice': 20000,\n",
       "  'brand': 'lush',\n",
       "  'volume': '#'}]"
      ]
     },
     "metadata": {},
     "output_type": "display_data"
    },
    {
     "data": {
      "text/plain": [
       "[{'name': '에너지',\n",
       "  'url': 'https://lush.co.kr/goods/goods_view.php?goodsNo=449',\n",
       "  'image': ['https://lush.co.kr/data/goods/18/08/28/449/t50_449_detail_03.png'],\n",
       "  'color': '#',\n",
       "  'category': '러쉬 > 기프트 > 낫랩',\n",
       "  'salePrice': 10000,\n",
       "  'originalPrice': 10000,\n",
       "  'brand': 'lush',\n",
       "  'volume': '#'}]"
      ]
     },
     "metadata": {},
     "output_type": "display_data"
    },
    {
     "data": {
      "text/plain": [
       "[{'name': '트립',\n",
       "  'url': 'https://lush.co.kr/goods/goods_view.php?goodsNo=448',\n",
       "  'image': ['https://lush.co.kr/data/goods/18/08/28/448/t50_448_detail_022.png'],\n",
       "  'color': '#',\n",
       "  'category': '러쉬 > 기프트 > 낫랩',\n",
       "  'salePrice': 10000,\n",
       "  'originalPrice': 10000,\n",
       "  'brand': 'lush',\n",
       "  'volume': '#'}]"
      ]
     },
     "metadata": {},
     "output_type": "display_data"
    },
    {
     "data": {
      "text/plain": [
       "[{'name': '팝',\n",
       "  'url': 'https://lush.co.kr/goods/goods_view.php?goodsNo=447',\n",
       "  'image': ['https://lush.co.kr/data/goods/18/08/28/447/t50_447_detail_081.png'],\n",
       "  'color': '#',\n",
       "  'category': '러쉬 > 기프트 > 낫랩',\n",
       "  'salePrice': 10000,\n",
       "  'originalPrice': 10000,\n",
       "  'brand': 'lush',\n",
       "  'volume': '#'}]"
      ]
     },
     "metadata": {},
     "output_type": "display_data"
    },
    {
     "data": {
      "text/plain": [
       "[{'name': '로즈 잼',\n",
       "  'url': 'https://lush.co.kr/goods/goods_view.php?goodsNo=444',\n",
       "  'image': ['https://lush.co.kr/data/goods/18/08/23/444/t50_444_detail_072.png',\n",
       "   'https://lush.co.kr/data/goods/18/08/23/444/t50_444_detail_155.png',\n",
       "   'https://lush.co.kr/data/goods/18/08/23/444/t50_444_detail_297.png',\n",
       "   'https://lush.co.kr/data/goods/18/08/23/444/t50_444_detail_34.png'],\n",
       "  'color': '#',\n",
       "  'category': '러쉬 > 샤워 > 샤워 젤 & 젤리',\n",
       "  'salePrice': 19000,\n",
       "  'originalPrice': 19000,\n",
       "  'brand': 'lush',\n",
       "  'volume': '100g'},\n",
       " {'name': '로즈 잼',\n",
       "  'url': 'https://lush.co.kr/goods/goods_view.php?goodsNo=444',\n",
       "  'image': ['https://lush.co.kr/data/goods/18/08/23/444/t50_444_detail_072.png',\n",
       "   'https://lush.co.kr/data/goods/18/08/23/444/t50_444_detail_155.png',\n",
       "   'https://lush.co.kr/data/goods/18/08/23/444/t50_444_detail_297.png',\n",
       "   'https://lush.co.kr/data/goods/18/08/23/444/t50_444_detail_34.png'],\n",
       "  'color': '#',\n",
       "  'category': '러쉬 > 샤워 > 샤워 젤 & 젤리',\n",
       "  'salePrice': 19000,\n",
       "  'originalPrice': 19000,\n",
       "  'brand': 'lush',\n",
       "  'volume': '250g:￦+17,000'},\n",
       " {'name': '로즈 잼',\n",
       "  'url': 'https://lush.co.kr/goods/goods_view.php?goodsNo=444',\n",
       "  'image': ['https://lush.co.kr/data/goods/18/08/23/444/t50_444_detail_072.png',\n",
       "   'https://lush.co.kr/data/goods/18/08/23/444/t50_444_detail_155.png',\n",
       "   'https://lush.co.kr/data/goods/18/08/23/444/t50_444_detail_297.png',\n",
       "   'https://lush.co.kr/data/goods/18/08/23/444/t50_444_detail_34.png'],\n",
       "  'color': '#',\n",
       "  'category': '러쉬 > 샤워 > 샤워 젤 & 젤리',\n",
       "  'salePrice': 19000,\n",
       "  'originalPrice': 19000,\n",
       "  'brand': 'lush',\n",
       "  'volume': '500g:￦+43,000'}]"
      ]
     },
     "metadata": {},
     "output_type": "display_data"
    },
    {
     "data": {
      "text/plain": [
       "[{'name': '탄산 월드 트리',\n",
       "  'url': 'https://lush.co.kr/goods/goods_view.php?goodsNo=435',\n",
       "  'image': ['https://lush.co.kr/data/goods/18/08/07/435/t50_435_detail_096.png'],\n",
       "  'color': '#',\n",
       "  'category': '러쉬 > 기프트 > 낫랩',\n",
       "  'salePrice': 10000,\n",
       "  'originalPrice': 10000,\n",
       "  'brand': 'lush',\n",
       "  'volume': '#'}]"
      ]
     },
     "metadata": {},
     "output_type": "display_data"
    },
    {
     "data": {
      "text/plain": [
       "[{'name': '지그재그',\n",
       "  'url': 'https://lush.co.kr/goods/goods_view.php?goodsNo=432',\n",
       "  'image': ['https://lush.co.kr/data/goods/18/05/28/432/t50_432_detail_041.png'],\n",
       "  'color': '#',\n",
       "  'category': '러쉬 > 기프트 > 낫랩',\n",
       "  'salePrice': 10000,\n",
       "  'originalPrice': 10000,\n",
       "  'brand': 'lush',\n",
       "  'volume': '#'}]"
      ]
     },
     "metadata": {},
     "output_type": "display_data"
    },
    {
     "data": {
      "text/plain": [
       "[{'name': '왓츠 잇',\n",
       "  'url': 'https://lush.co.kr/goods/goods_view.php?goodsNo=431',\n",
       "  'image': ['https://lush.co.kr/data/goods/18/05/28/431/t50_431_detail_013.png'],\n",
       "  'color': '#',\n",
       "  'category': '러쉬 > 기프트 > 낫랩',\n",
       "  'salePrice': 10000,\n",
       "  'originalPrice': 10000,\n",
       "  'brand': 'lush',\n",
       "  'volume': '#'}]"
      ]
     },
     "metadata": {},
     "output_type": "display_data"
    },
    {
     "data": {
      "text/plain": [
       "[{'name': '페이즐리',\n",
       "  'url': 'https://lush.co.kr/goods/goods_view.php?goodsNo=429',\n",
       "  'image': ['https://lush.co.kr/data/goods/18/05/02/429/t50_429_detail_031.png'],\n",
       "  'color': '#',\n",
       "  'category': '러쉬 > 기프트 > 낫랩',\n",
       "  'salePrice': 10000,\n",
       "  'originalPrice': 10000,\n",
       "  'brand': 'lush',\n",
       "  'volume': '#'}]"
      ]
     },
     "metadata": {},
     "output_type": "display_data"
    },
    {
     "data": {
      "text/plain": [
       "[{'name': '러쉬 라이프',\n",
       "  'url': 'https://lush.co.kr/goods/goods_view.php?goodsNo=428',\n",
       "  'image': ['https://lush.co.kr/data/goods/18/05/02/428/t50_428_detail_011.png'],\n",
       "  'color': '#',\n",
       "  'category': '러쉬 > 기프트 > 낫랩',\n",
       "  'salePrice': 10000,\n",
       "  'originalPrice': 10000,\n",
       "  'brand': 'lush',\n",
       "  'volume': '#'}]"
      ]
     },
     "metadata": {},
     "output_type": "display_data"
    },
    {
     "data": {
      "text/plain": [
       "[{'name': '더 올리브 브랜치',\n",
       "  'url': 'https://lush.co.kr/goods/goods_view.php?goodsNo=342',\n",
       "  'image': ['https://lush.co.kr/data/goods/17/11/01/342/t50_342_detail_049.png',\n",
       "   'https://lush.co.kr/data/goods/17/11/01/342/t50_342_detail_166.png',\n",
       "   'https://lush.co.kr/data/goods/17/11/01/342/t50_342_detail_240.png',\n",
       "   'https://lush.co.kr/data/goods/17/11/01/342/t50_342_detail_379.png'],\n",
       "  'color': '#',\n",
       "  'category': '러쉬 > 샤워 > 샤워 젤 & 젤리',\n",
       "  'salePrice': 17000,\n",
       "  'originalPrice': 17000,\n",
       "  'brand': 'lush',\n",
       "  'volume': '100g'},\n",
       " {'name': '더 올리브 브랜치',\n",
       "  'url': 'https://lush.co.kr/goods/goods_view.php?goodsNo=342',\n",
       "  'image': ['https://lush.co.kr/data/goods/17/11/01/342/t50_342_detail_049.png',\n",
       "   'https://lush.co.kr/data/goods/17/11/01/342/t50_342_detail_166.png',\n",
       "   'https://lush.co.kr/data/goods/17/11/01/342/t50_342_detail_240.png',\n",
       "   'https://lush.co.kr/data/goods/17/11/01/342/t50_342_detail_379.png'],\n",
       "  'color': '#',\n",
       "  'category': '러쉬 > 샤워 > 샤워 젤 & 젤리',\n",
       "  'salePrice': 17000,\n",
       "  'originalPrice': 17000,\n",
       "  'brand': 'lush',\n",
       "  'volume': '250g:￦+15,000'},\n",
       " {'name': '더 올리브 브랜치',\n",
       "  'url': 'https://lush.co.kr/goods/goods_view.php?goodsNo=342',\n",
       "  'image': ['https://lush.co.kr/data/goods/17/11/01/342/t50_342_detail_049.png',\n",
       "   'https://lush.co.kr/data/goods/17/11/01/342/t50_342_detail_166.png',\n",
       "   'https://lush.co.kr/data/goods/17/11/01/342/t50_342_detail_240.png',\n",
       "   'https://lush.co.kr/data/goods/17/11/01/342/t50_342_detail_379.png'],\n",
       "  'color': '#',\n",
       "  'category': '러쉬 > 샤워 > 샤워 젤 & 젤리',\n",
       "  'salePrice': 17000,\n",
       "  'originalPrice': 17000,\n",
       "  'brand': 'lush',\n",
       "  'volume': '500g:￦+37,000'}]"
      ]
     },
     "metadata": {},
     "output_type": "display_data"
    },
    {
     "data": {
      "text/plain": [
       "[{'name': '해피 히피',\n",
       "  'url': 'https://lush.co.kr/goods/goods_view.php?goodsNo=339',\n",
       "  'image': ['https://lush.co.kr/data/goods/17/11/01/339/t50_339_detail_039.png',\n",
       "   'https://lush.co.kr/data/goods/17/11/01/339/t50_339_detail_162.png',\n",
       "   'https://lush.co.kr/data/goods/17/11/01/339/t50_339_detail_237.png',\n",
       "   'https://lush.co.kr/data/goods/17/11/01/339/t50_339_detail_393.png'],\n",
       "  'color': '#',\n",
       "  'category': '러쉬 > 샤워 > 샤워 젤 & 젤리',\n",
       "  'salePrice': 16000,\n",
       "  'originalPrice': 16000,\n",
       "  'brand': 'lush',\n",
       "  'volume': '100g'},\n",
       " {'name': '해피 히피',\n",
       "  'url': 'https://lush.co.kr/goods/goods_view.php?goodsNo=339',\n",
       "  'image': ['https://lush.co.kr/data/goods/17/11/01/339/t50_339_detail_039.png',\n",
       "   'https://lush.co.kr/data/goods/17/11/01/339/t50_339_detail_162.png',\n",
       "   'https://lush.co.kr/data/goods/17/11/01/339/t50_339_detail_237.png',\n",
       "   'https://lush.co.kr/data/goods/17/11/01/339/t50_339_detail_393.png'],\n",
       "  'color': '#',\n",
       "  'category': '러쉬 > 샤워 > 샤워 젤 & 젤리',\n",
       "  'salePrice': 16000,\n",
       "  'originalPrice': 16000,\n",
       "  'brand': 'lush',\n",
       "  'volume': '250g:￦+14,000'},\n",
       " {'name': '해피 히피',\n",
       "  'url': 'https://lush.co.kr/goods/goods_view.php?goodsNo=339',\n",
       "  'image': ['https://lush.co.kr/data/goods/17/11/01/339/t50_339_detail_039.png',\n",
       "   'https://lush.co.kr/data/goods/17/11/01/339/t50_339_detail_162.png',\n",
       "   'https://lush.co.kr/data/goods/17/11/01/339/t50_339_detail_237.png',\n",
       "   'https://lush.co.kr/data/goods/17/11/01/339/t50_339_detail_393.png'],\n",
       "  'color': '#',\n",
       "  'category': '러쉬 > 샤워 > 샤워 젤 & 젤리',\n",
       "  'salePrice': 16000,\n",
       "  'originalPrice': 16000,\n",
       "  'brand': 'lush',\n",
       "  'volume': '500g:￦+34,000'}]"
      ]
     },
     "metadata": {},
     "output_type": "display_data"
    },
    {
     "data": {
      "text/plain": [
       "[{'name': '잇츠 레이닝 맨',\n",
       "  'url': 'https://lush.co.kr/goods/goods_view.php?goodsNo=336',\n",
       "  'image': ['https://lush.co.kr/data/goods/17/11/01/336/t50_336_detail_079.png',\n",
       "   'https://lush.co.kr/data/goods/17/11/01/336/t50_336_detail_113.png',\n",
       "   'https://lush.co.kr/data/goods/17/11/01/336/t50_336_detail_285.png',\n",
       "   'https://lush.co.kr/data/goods/17/11/01/336/t50_336_detail_327.png'],\n",
       "  'color': '#',\n",
       "  'category': '러쉬 > 샤워 > 샤워 젤 & 젤리',\n",
       "  'salePrice': 17000,\n",
       "  'originalPrice': 17000,\n",
       "  'brand': 'lush',\n",
       "  'volume': '100g'},\n",
       " {'name': '잇츠 레이닝 맨',\n",
       "  'url': 'https://lush.co.kr/goods/goods_view.php?goodsNo=336',\n",
       "  'image': ['https://lush.co.kr/data/goods/17/11/01/336/t50_336_detail_079.png',\n",
       "   'https://lush.co.kr/data/goods/17/11/01/336/t50_336_detail_113.png',\n",
       "   'https://lush.co.kr/data/goods/17/11/01/336/t50_336_detail_285.png',\n",
       "   'https://lush.co.kr/data/goods/17/11/01/336/t50_336_detail_327.png'],\n",
       "  'color': '#',\n",
       "  'category': '러쉬 > 샤워 > 샤워 젤 & 젤리',\n",
       "  'salePrice': 17000,\n",
       "  'originalPrice': 17000,\n",
       "  'brand': 'lush',\n",
       "  'volume': '250g:￦+15,000'},\n",
       " {'name': '잇츠 레이닝 맨',\n",
       "  'url': 'https://lush.co.kr/goods/goods_view.php?goodsNo=336',\n",
       "  'image': ['https://lush.co.kr/data/goods/17/11/01/336/t50_336_detail_079.png',\n",
       "   'https://lush.co.kr/data/goods/17/11/01/336/t50_336_detail_113.png',\n",
       "   'https://lush.co.kr/data/goods/17/11/01/336/t50_336_detail_285.png',\n",
       "   'https://lush.co.kr/data/goods/17/11/01/336/t50_336_detail_327.png'],\n",
       "  'color': '#',\n",
       "  'category': '러쉬 > 샤워 > 샤워 젤 & 젤리',\n",
       "  'salePrice': 17000,\n",
       "  'originalPrice': 17000,\n",
       "  'brand': 'lush',\n",
       "  'volume': '500g:￦+37,000'}]"
      ]
     },
     "metadata": {},
     "output_type": "display_data"
    },
    {
     "data": {
      "text/plain": [
       "[{'name': '더티 스프링워시',\n",
       "  'url': 'https://lush.co.kr/goods/goods_view.php?goodsNo=238',\n",
       "  'image': ['https://lush.co.kr/data/goods/17/05/29/238/t50_238_detail_046.png',\n",
       "   'https://lush.co.kr/data/goods/17/05/29/238/t50_238_detail_165.png',\n",
       "   'https://lush.co.kr/data/goods/17/05/29/238/t50_238_detail_26.png',\n",
       "   'https://lush.co.kr/data/goods/17/05/29/238/t50_238_detail_391.png'],\n",
       "  'color': '#',\n",
       "  'category': '러쉬 > 샤워 > 샤워 젤 & 젤리',\n",
       "  'salePrice': 17000,\n",
       "  'originalPrice': 17000,\n",
       "  'brand': 'lush',\n",
       "  'volume': '100g'},\n",
       " {'name': '더티 스프링워시',\n",
       "  'url': 'https://lush.co.kr/goods/goods_view.php?goodsNo=238',\n",
       "  'image': ['https://lush.co.kr/data/goods/17/05/29/238/t50_238_detail_046.png',\n",
       "   'https://lush.co.kr/data/goods/17/05/29/238/t50_238_detail_165.png',\n",
       "   'https://lush.co.kr/data/goods/17/05/29/238/t50_238_detail_26.png',\n",
       "   'https://lush.co.kr/data/goods/17/05/29/238/t50_238_detail_391.png'],\n",
       "  'color': '#',\n",
       "  'category': '러쉬 > 샤워 > 샤워 젤 & 젤리',\n",
       "  'salePrice': 17000,\n",
       "  'originalPrice': 17000,\n",
       "  'brand': 'lush',\n",
       "  'volume': '280g:￦+15,000'},\n",
       " {'name': '더티 스프링워시',\n",
       "  'url': 'https://lush.co.kr/goods/goods_view.php?goodsNo=238',\n",
       "  'image': ['https://lush.co.kr/data/goods/17/05/29/238/t50_238_detail_046.png',\n",
       "   'https://lush.co.kr/data/goods/17/05/29/238/t50_238_detail_165.png',\n",
       "   'https://lush.co.kr/data/goods/17/05/29/238/t50_238_detail_26.png',\n",
       "   'https://lush.co.kr/data/goods/17/05/29/238/t50_238_detail_391.png'],\n",
       "  'color': '#',\n",
       "  'category': '러쉬 > 샤워 > 샤워 젤 & 젤리',\n",
       "  'salePrice': 17000,\n",
       "  'originalPrice': 17000,\n",
       "  'brand': 'lush',\n",
       "  'volume': '560g:￦+37,000'}]"
      ]
     },
     "metadata": {},
     "output_type": "display_data"
    },
    {
     "data": {
      "text/plain": [
       "[{'name': '플럼 레인',\n",
       "  'url': 'https://lush.co.kr/goods/goods_view.php?goodsNo=234',\n",
       "  'image': ['https://lush.co.kr/data/goods/17/05/10/234/t50_234_detail_058.png',\n",
       "   'https://lush.co.kr/data/goods/17/05/10/234/t50_234_detail_148.png',\n",
       "   'https://lush.co.kr/data/goods/17/05/10/234/t50_234_detail_261.png',\n",
       "   'https://lush.co.kr/data/goods/17/05/10/234/t50_234_detail_378.png'],\n",
       "  'color': '#',\n",
       "  'category': '러쉬 > 샤워 > 샤워 젤 & 젤리',\n",
       "  'salePrice': 19000,\n",
       "  'originalPrice': 19000,\n",
       "  'brand': 'lush',\n",
       "  'volume': '100g'},\n",
       " {'name': '플럼 레인',\n",
       "  'url': 'https://lush.co.kr/goods/goods_view.php?goodsNo=234',\n",
       "  'image': ['https://lush.co.kr/data/goods/17/05/10/234/t50_234_detail_058.png',\n",
       "   'https://lush.co.kr/data/goods/17/05/10/234/t50_234_detail_148.png',\n",
       "   'https://lush.co.kr/data/goods/17/05/10/234/t50_234_detail_261.png',\n",
       "   'https://lush.co.kr/data/goods/17/05/10/234/t50_234_detail_378.png'],\n",
       "  'color': '#',\n",
       "  'category': '러쉬 > 샤워 > 샤워 젤 & 젤리',\n",
       "  'salePrice': 19000,\n",
       "  'originalPrice': 19000,\n",
       "  'brand': 'lush',\n",
       "  'volume': '270g:￦+17,000'},\n",
       " {'name': '플럼 레인',\n",
       "  'url': 'https://lush.co.kr/goods/goods_view.php?goodsNo=234',\n",
       "  'image': ['https://lush.co.kr/data/goods/17/05/10/234/t50_234_detail_058.png',\n",
       "   'https://lush.co.kr/data/goods/17/05/10/234/t50_234_detail_148.png',\n",
       "   'https://lush.co.kr/data/goods/17/05/10/234/t50_234_detail_261.png',\n",
       "   'https://lush.co.kr/data/goods/17/05/10/234/t50_234_detail_378.png'],\n",
       "  'color': '#',\n",
       "  'category': '러쉬 > 샤워 > 샤워 젤 & 젤리',\n",
       "  'salePrice': 19000,\n",
       "  'originalPrice': 19000,\n",
       "  'brand': 'lush',\n",
       "  'volume': '540g:￦+43,000'}]"
      ]
     },
     "metadata": {},
     "output_type": "display_data"
    },
    {
     "data": {
      "text/plain": [
       "[{'name': '돈트 룩 앳 미',\n",
       "  'url': 'https://lush.co.kr/goods/goods_view.php?goodsNo=215',\n",
       "  'image': ['https://lush.co.kr/data/goods/16/07/06/215/t50_215_detail_028.png',\n",
       "   'https://lush.co.kr/data/goods/16/07/06/215/t50_215_detail_191.png'],\n",
       "  'color': '#',\n",
       "  'category': '러쉬 > 프로모션 > 국내제조',\n",
       "  'salePrice': 25000,\n",
       "  'originalPrice': 25000,\n",
       "  'brand': 'lush',\n",
       "  'volume': '#'}]"
      ]
     },
     "metadata": {},
     "output_type": "display_data"
    },
    {
     "data": {
      "text/plain": [
       "[{'name': '노 드라우트 50g',\n",
       "  'url': 'https://lush.co.kr/goods/goods_view.php?goodsNo=209',\n",
       "  'image': ['https://lush.co.kr/data/goods/16/06/13/209/t50_209_detail_017.png',\n",
       "   'https://lush.co.kr/data/goods/16/06/13/209/t50_209_detail_151.png'],\n",
       "  'color': '#',\n",
       "  'category': '러쉬 > 헤어 > 드라이 샴푸',\n",
       "  'salePrice': 12000,\n",
       "  'originalPrice': 12000,\n",
       "  'brand': 'lush',\n",
       "  'volume': '#'}]"
      ]
     },
     "metadata": {},
     "output_type": "display_data"
    },
    {
     "data": {
      "text/plain": [
       "[{'name': '메이폴',\n",
       "  'url': 'https://lush.co.kr/goods/goods_view.php?goodsNo=189',\n",
       "  'image': ['https://lush.co.kr/data/goods/16/04/04/189/t50_189_detail_073.png'],\n",
       "  'color': '#',\n",
       "  'category': '러쉬 > 프로모션',\n",
       "  'salePrice': 8000,\n",
       "  'originalPrice': 8000,\n",
       "  'brand': 'lush',\n",
       "  'volume': '#'}]"
      ]
     },
     "metadata": {},
     "output_type": "display_data"
    },
    {
     "data": {
      "text/plain": [
       "[{'name': '로지 칙스',\n",
       "  'url': 'https://lush.co.kr/goods/goods_view.php?goodsNo=169',\n",
       "  'image': ['https://lush.co.kr/data/goods/16/01/28/169/t50_169_detail_073.png',\n",
       "   'https://lush.co.kr/data/goods/16/01/28/169/t50_169_detail_11.png'],\n",
       "  'color': '#',\n",
       "  'category': '러쉬 > 페이스 > 페이스 마스크',\n",
       "  'salePrice': 25000,\n",
       "  'originalPrice': 25000,\n",
       "  'brand': 'lush',\n",
       "  'volume': '#'}]"
      ]
     },
     "metadata": {},
     "output_type": "display_data"
    },
    {
     "data": {
      "text/plain": [
       "[{'name': '컵 오 커피',\n",
       "  'url': 'https://lush.co.kr/goods/goods_view.php?goodsNo=167',\n",
       "  'image': ['https://lush.co.kr/data/goods/16/01/28/167/t50_167_detail_084.png',\n",
       "   'https://lush.co.kr/data/goods/16/01/28/167/t50_167_detail_169.png',\n",
       "   'https://lush.co.kr/data/goods/16/01/28/167/t50_167_detail_274.png'],\n",
       "  'color': '#',\n",
       "  'category': '러쉬 > 페이스 > 클렌저',\n",
       "  'salePrice': 18000,\n",
       "  'originalPrice': 18000,\n",
       "  'brand': 'lush',\n",
       "  'volume': '130g'},\n",
       " {'name': '컵 오 커피',\n",
       "  'url': 'https://lush.co.kr/goods/goods_view.php?goodsNo=167',\n",
       "  'image': ['https://lush.co.kr/data/goods/16/01/28/167/t50_167_detail_084.png',\n",
       "   'https://lush.co.kr/data/goods/16/01/28/167/t50_167_detail_169.png',\n",
       "   'https://lush.co.kr/data/goods/16/01/28/167/t50_167_detail_274.png'],\n",
       "  'color': '#',\n",
       "  'category': '러쉬 > 페이스 > 클렌저',\n",
       "  'salePrice': 18000,\n",
       "  'originalPrice': 18000,\n",
       "  'brand': 'lush',\n",
       "  'volume': '325g:￦+18,000'}]"
      ]
     },
     "metadata": {},
     "output_type": "display_data"
    },
    {
     "data": {
      "text/plain": [
       "[{'name': '럴러바이',\n",
       "  'url': 'https://lush.co.kr/goods/goods_view.php?goodsNo=158',\n",
       "  'image': ['https://lush.co.kr/data/goods/15/01/13/158/t50_158_detail_024.png'],\n",
       "  'color': '#',\n",
       "  'category': '러쉬 > 헤어 > 샴푸 바',\n",
       "  'salePrice': 18000,\n",
       "  'originalPrice': 18000,\n",
       "  'brand': 'lush',\n",
       "  'volume': '#'}]"
      ]
     },
     "metadata": {},
     "output_type": "display_data"
    },
    {
     "data": {
      "text/plain": [
       "[{'name': '코퍼헤드',\n",
       "  'url': 'https://lush.co.kr/goods/goods_view.php?goodsNo=156',\n",
       "  'image': ['https://lush.co.kr/data/goods/15/01/13/156/t50_156_detail_079.png'],\n",
       "  'color': '#',\n",
       "  'category': '러쉬 > 헤어 > 샴푸 바',\n",
       "  'salePrice': 18000,\n",
       "  'originalPrice': 18000,\n",
       "  'brand': 'lush',\n",
       "  'volume': '#'}]"
      ]
     },
     "metadata": {},
     "output_type": "display_data"
    },
    {
     "data": {
      "text/plain": [
       "[{'name': '브라질리언트',\n",
       "  'url': 'https://lush.co.kr/goods/goods_view.php?goodsNo=155',\n",
       "  'image': ['https://lush.co.kr/data/goods/15/01/13/155/t50_155_detail_090.png'],\n",
       "  'color': '#',\n",
       "  'category': '러쉬 > 헤어 > 샴푸 바',\n",
       "  'salePrice': 18000,\n",
       "  'originalPrice': 18000,\n",
       "  'brand': 'lush',\n",
       "  'volume': '#'}]"
      ]
     },
     "metadata": {},
     "output_type": "display_data"
    },
    {
     "data": {
      "text/plain": [
       "[{'name': '논 오브 유어 비즈왁스',\n",
       "  'url': 'https://lush.co.kr/goods/goods_view.php?goodsNo=128',\n",
       "  'image': ['https://lush.co.kr/data/goods/13/11/22/128/t50_128_detail_083.png',\n",
       "   'https://lush.co.kr/data/goods/13/11/22/128/t50_128_detail_161.png'],\n",
       "  'color': '#',\n",
       "  'category': '러쉬 > 페이스 > 립',\n",
       "  'salePrice': 17000,\n",
       "  'originalPrice': 17000,\n",
       "  'brand': 'lush',\n",
       "  'volume': '#'}]"
      ]
     },
     "metadata": {},
     "output_type": "display_data"
    },
    {
     "data": {
      "text/plain": [
       "[{'name': '렛 더 굿 타임즈 롤',\n",
       "  'url': 'https://lush.co.kr/goods/goods_view.php?goodsNo=126',\n",
       "  'image': ['https://lush.co.kr/data/goods/13/10/15/126/t50_126_detail_093.png',\n",
       "   'https://lush.co.kr/data/goods/13/10/15/126/t50_126_detail_180.png',\n",
       "   'https://lush.co.kr/data/goods/13/10/15/126/t50_126_detail_22.png'],\n",
       "  'color': '#',\n",
       "  'category': '러쉬 > 페이스 > 클렌저',\n",
       "  'salePrice': 22000,\n",
       "  'originalPrice': 22000,\n",
       "  'brand': 'lush',\n",
       "  'volume': '100g'},\n",
       " {'name': '렛 더 굿 타임즈 롤',\n",
       "  'url': 'https://lush.co.kr/goods/goods_view.php?goodsNo=126',\n",
       "  'image': ['https://lush.co.kr/data/goods/13/10/15/126/t50_126_detail_093.png',\n",
       "   'https://lush.co.kr/data/goods/13/10/15/126/t50_126_detail_180.png',\n",
       "   'https://lush.co.kr/data/goods/13/10/15/126/t50_126_detail_22.png'],\n",
       "  'color': '#',\n",
       "  'category': '러쉬 > 페이스 > 클렌저',\n",
       "  'salePrice': 22000,\n",
       "  'originalPrice': 22000,\n",
       "  'brand': 'lush',\n",
       "  'volume': '250g:￦+22,000'}]"
      ]
     },
     "metadata": {},
     "output_type": "display_data"
    },
    {
     "data": {
      "text/plain": [
       "[{'name': '펀 옐로우',\n",
       "  'url': 'https://lush.co.kr/goods/goods_view.php?goodsNo=118',\n",
       "  'image': ['https://lush.co.kr/data/goods/13/04/17/118/t50_118_detail_031.png',\n",
       "   'https://lush.co.kr/data/goods/13/04/17/118/t50_118_detail_127.png'],\n",
       "  'color': '#',\n",
       "  'category': '러쉬 > 배쓰 > 펀',\n",
       "  'salePrice': 17000,\n",
       "  'originalPrice': 17000,\n",
       "  'brand': 'lush',\n",
       "  'volume': '#'}]"
      ]
     },
     "metadata": {},
     "output_type": "display_data"
    },
    {
     "data": {
      "text/plain": [
       "[{'name': '펀 레드',\n",
       "  'url': 'https://lush.co.kr/goods/goods_view.php?goodsNo=117',\n",
       "  'image': ['https://lush.co.kr/data/goods/13/04/17/117/t50_117_detail_094.png',\n",
       "   'https://lush.co.kr/data/goods/13/04/17/117/t50_117_detail_15.png'],\n",
       "  'color': '#',\n",
       "  'category': '러쉬 > 배쓰 > 펀',\n",
       "  'salePrice': 17000,\n",
       "  'originalPrice': 17000,\n",
       "  'brand': 'lush',\n",
       "  'volume': '#'}]"
      ]
     },
     "metadata": {},
     "output_type": "display_data"
    },
    {
     "data": {
      "text/plain": [
       "[{'name': '펀 핑크',\n",
       "  'url': 'https://lush.co.kr/goods/goods_view.php?goodsNo=116',\n",
       "  'image': ['https://lush.co.kr/data/goods/13/04/17/116/t50_116_detail_084.png',\n",
       "   'https://lush.co.kr/data/goods/13/04/17/116/t50_116_detail_120.png'],\n",
       "  'color': '#',\n",
       "  'category': '러쉬 > 배쓰 > 펀',\n",
       "  'salePrice': 17000,\n",
       "  'originalPrice': 17000,\n",
       "  'brand': 'lush',\n",
       "  'volume': '#'}]"
      ]
     },
     "metadata": {},
     "output_type": "display_data"
    },
    {
     "data": {
      "text/plain": [
       "[{'name': '펀 그린',\n",
       "  'url': 'https://lush.co.kr/goods/goods_view.php?goodsNo=115',\n",
       "  'image': ['https://lush.co.kr/data/goods/13/04/17/115/t50_115_detail_060.png',\n",
       "   'https://lush.co.kr/data/goods/13/04/17/115/t50_115_detail_11.png'],\n",
       "  'color': '#',\n",
       "  'category': '러쉬 > 배쓰 > 펀',\n",
       "  'salePrice': 17000,\n",
       "  'originalPrice': 17000,\n",
       "  'brand': 'lush',\n",
       "  'volume': '#'}]"
      ]
     },
     "metadata": {},
     "output_type": "display_data"
    },
    {
     "data": {
      "text/plain": [
       "[{'name': '펀 블루',\n",
       "  'url': 'https://lush.co.kr/goods/goods_view.php?goodsNo=114',\n",
       "  'image': ['https://lush.co.kr/data/goods/13/04/17/114/t50_114_detail_0100.png',\n",
       "   'https://lush.co.kr/data/goods/13/04/17/114/t50_114_detail_166.png'],\n",
       "  'color': '#',\n",
       "  'category': '러쉬 > 배쓰 > 펀',\n",
       "  'salePrice': 17000,\n",
       "  'originalPrice': 17000,\n",
       "  'brand': 'lush',\n",
       "  'volume': '#'}]"
      ]
     },
     "metadata": {},
     "output_type": "display_data"
    },
    {
     "data": {
      "text/plain": [
       "[{'name': '샤인 소 브라이트',\n",
       "  'url': 'https://lush.co.kr/goods/goods_view.php?goodsNo=108',\n",
       "  'image': ['https://lush.co.kr/data/goods/13/01/22/108/t50_108_detail_013.png',\n",
       "   'https://lush.co.kr/data/goods/13/01/22/108/t50_108_detail_133.png'],\n",
       "  'color': '#',\n",
       "  'category': '러쉬 > 헤어 > 트리트먼트',\n",
       "  'salePrice': 13000,\n",
       "  'originalPrice': 13000,\n",
       "  'brand': 'lush',\n",
       "  'volume': '#'}]"
      ]
     },
     "metadata": {},
     "output_type": "display_data"
    },
    {
     "data": {
      "text/plain": [
       "[{'name': '블라우지',\n",
       "  'url': 'https://lush.co.kr/goods/goods_view.php?goodsNo=105',\n",
       "  'image': ['https://lush.co.kr/data/goods/13/01/21/105/t50_105_detail_015.png',\n",
       "   'https://lush.co.kr/data/goods/13/01/21/105/t50_105_detail_164.png'],\n",
       "  'color': '#',\n",
       "  'category': '러쉬 > 헤어 > 샴푸',\n",
       "  'salePrice': 43000,\n",
       "  'originalPrice': 43000,\n",
       "  'brand': 'lush',\n",
       "  'volume': '#'}]"
      ]
     },
     "metadata": {},
     "output_type": "display_data"
    },
    {
     "data": {
      "text/plain": [
       "[{'name': '마스크 오브 매그너민티',\n",
       "  'url': 'https://lush.co.kr/goods/goods_view.php?goodsNo=97',\n",
       "  'image': ['https://lush.co.kr/data/goods/12/03/07/97/t50_97_detail_042.png',\n",
       "   'https://lush.co.kr/data/goods/12/03/07/97/t50_97_detail_115.png',\n",
       "   'https://lush.co.kr/data/goods/12/03/07/97/t50_97_detail_293.png'],\n",
       "  'color': '#',\n",
       "  'category': '러쉬 > 페이스 > 클렌저',\n",
       "  'salePrice': 20000,\n",
       "  'originalPrice': 20000,\n",
       "  'brand': 'lush',\n",
       "  'volume': '125g'},\n",
       " {'name': '마스크 오브 매그너민티',\n",
       "  'url': 'https://lush.co.kr/goods/goods_view.php?goodsNo=97',\n",
       "  'image': ['https://lush.co.kr/data/goods/12/03/07/97/t50_97_detail_042.png',\n",
       "   'https://lush.co.kr/data/goods/12/03/07/97/t50_97_detail_115.png',\n",
       "   'https://lush.co.kr/data/goods/12/03/07/97/t50_97_detail_293.png'],\n",
       "  'color': '#',\n",
       "  'category': '러쉬 > 페이스 > 클렌저',\n",
       "  'salePrice': 20000,\n",
       "  'originalPrice': 20000,\n",
       "  'brand': 'lush',\n",
       "  'volume': '315g:￦+20,000'}]"
      ]
     },
     "metadata": {},
     "output_type": "display_data"
    },
    {
     "data": {
      "text/plain": [
       "[{'name': '콜페이스',\n",
       "  'url': 'https://lush.co.kr/goods/goods_view.php?goodsNo=88',\n",
       "  'image': ['https://lush.co.kr/data/goods/11/01/25/88/t50_88_detail_089.png'],\n",
       "  'color': '#',\n",
       "  'category': '러쉬 > 페이스 > 클렌저',\n",
       "  'salePrice': 18000,\n",
       "  'originalPrice': 18000,\n",
       "  'brand': 'lush',\n",
       "  'volume': '#'}]"
      ]
     },
     "metadata": {},
     "output_type": "display_data"
    },
    {
     "data": {
      "text/plain": [
       "[{'name': '프레쉬 파머시',\n",
       "  'url': 'https://lush.co.kr/goods/goods_view.php?goodsNo=87',\n",
       "  'image': ['https://lush.co.kr/data/goods/11/01/25/87/t50_87_detail_046.png'],\n",
       "  'color': '#',\n",
       "  'category': '러쉬 > 페이스 > 클렌저',\n",
       "  'salePrice': 15000,\n",
       "  'originalPrice': 15000,\n",
       "  'brand': 'lush',\n",
       "  'volume': '#'}]"
      ]
     },
     "metadata": {},
     "output_type": "display_data"
    },
    {
     "data": {
      "text/plain": [
       "[{'name': '허벌리즘',\n",
       "  'url': 'https://lush.co.kr/goods/goods_view.php?goodsNo=85',\n",
       "  'image': ['https://lush.co.kr/data/goods/11/01/20/85/t50_85_detail_022.png',\n",
       "   'https://lush.co.kr/data/goods/11/01/20/85/t50_85_detail_122.png',\n",
       "   'https://lush.co.kr/data/goods/11/01/20/85/t50_85_detail_279.png'],\n",
       "  'color': '#',\n",
       "  'category': '러쉬 > 페이스 > 클렌저',\n",
       "  'salePrice': 22000,\n",
       "  'originalPrice': 22000,\n",
       "  'brand': 'lush',\n",
       "  'volume': '100g'},\n",
       " {'name': '허벌리즘',\n",
       "  'url': 'https://lush.co.kr/goods/goods_view.php?goodsNo=85',\n",
       "  'image': ['https://lush.co.kr/data/goods/11/01/20/85/t50_85_detail_022.png',\n",
       "   'https://lush.co.kr/data/goods/11/01/20/85/t50_85_detail_122.png',\n",
       "   'https://lush.co.kr/data/goods/11/01/20/85/t50_85_detail_279.png'],\n",
       "  'color': '#',\n",
       "  'category': '러쉬 > 페이스 > 클렌저',\n",
       "  'salePrice': 22000,\n",
       "  'originalPrice': 22000,\n",
       "  'brand': 'lush',\n",
       "  'volume': '250g:￦+22,000'}]"
      ]
     },
     "metadata": {},
     "output_type": "display_data"
    },
    {
     "data": {
      "text/plain": [
       "[{'name': '코스메틱 워리어',\n",
       "  'url': 'https://lush.co.kr/goods/goods_view.php?goodsNo=79',\n",
       "  'image': ['https://lush.co.kr/data/goods/11/01/20/79/t50_79_detail_072.png',\n",
       "   'https://lush.co.kr/data/goods/11/01/20/79/t50_79_detail_136.png'],\n",
       "  'color': '#',\n",
       "  'category': '러쉬 > 페이스 > 페이스 마스크',\n",
       "  'salePrice': 25000,\n",
       "  'originalPrice': 25000,\n",
       "  'brand': 'lush',\n",
       "  'volume': '#'}]"
      ]
     },
     "metadata": {},
     "output_type": "display_data"
    },
    {
     "data": {
      "text/plain": [
       "[{'name': '컵케익',\n",
       "  'url': 'https://lush.co.kr/goods/goods_view.php?goodsNo=77',\n",
       "  'image': ['https://lush.co.kr/data/goods/11/01/20/77/t50_77_detail_065.png',\n",
       "   'https://lush.co.kr/data/goods/11/01/20/77/t50_77_detail_149.png'],\n",
       "  'color': '#',\n",
       "  'category': '러쉬 > 페이스 > 페이스 마스크',\n",
       "  'salePrice': 25000,\n",
       "  'originalPrice': 25000,\n",
       "  'brand': 'lush',\n",
       "  'volume': '#'}]"
      ]
     },
     "metadata": {},
     "output_type": "display_data"
    },
    {
     "data": {
      "text/plain": [
       "[{'name': '카타스트로피 코스메틱',\n",
       "  'url': 'https://lush.co.kr/goods/goods_view.php?goodsNo=76',\n",
       "  'image': ['https://lush.co.kr/data/goods/11/01/20/76/t50_76_detail_089.png',\n",
       "   'https://lush.co.kr/data/goods/11/01/20/76/t50_76_detail_168.png'],\n",
       "  'color': '#',\n",
       "  'category': '러쉬 > 페이스 > 페이스 마스크',\n",
       "  'salePrice': 25000,\n",
       "  'originalPrice': 25000,\n",
       "  'brand': 'lush',\n",
       "  'volume': '#'}]"
      ]
     },
     "metadata": {},
     "output_type": "display_data"
    },
    {
     "data": {
      "text/plain": [
       "[{'name': '오티픽스',\n",
       "  'url': 'https://lush.co.kr/goods/goods_view.php?goodsNo=67',\n",
       "  'image': ['https://lush.co.kr/data/goods/11/01/20/67/t50_67_detail_09.png',\n",
       "   'https://lush.co.kr/data/goods/11/01/20/67/t50_67_detail_117.png'],\n",
       "  'color': '#',\n",
       "  'category': '러쉬 > 프로모션 > 국내제조',\n",
       "  'salePrice': 25000,\n",
       "  'originalPrice': 25000,\n",
       "  'brand': 'lush',\n",
       "  'volume': '#'}]"
      ]
     },
     "metadata": {},
     "output_type": "display_data"
    },
    {
     "data": {
      "text/plain": [
       "[{'name': '엔젤스 온 배어 스킨',\n",
       "  'url': 'https://lush.co.kr/goods/goods_view.php?goodsNo=62',\n",
       "  'image': ['https://lush.co.kr/data/goods/11/01/20/62/t50_62_detail_023.png',\n",
       "   'https://lush.co.kr/data/goods/11/01/20/62/t50_62_detail_119.png',\n",
       "   'https://lush.co.kr/data/goods/11/01/20/62/t50_62_detail_210.png'],\n",
       "  'color': '#',\n",
       "  'category': '러쉬 > 페이스 > 클렌저',\n",
       "  'salePrice': 22000,\n",
       "  'originalPrice': 22000,\n",
       "  'brand': 'lush',\n",
       "  'volume': '100g'},\n",
       " {'name': '엔젤스 온 배어 스킨',\n",
       "  'url': 'https://lush.co.kr/goods/goods_view.php?goodsNo=62',\n",
       "  'image': ['https://lush.co.kr/data/goods/11/01/20/62/t50_62_detail_023.png',\n",
       "   'https://lush.co.kr/data/goods/11/01/20/62/t50_62_detail_119.png',\n",
       "   'https://lush.co.kr/data/goods/11/01/20/62/t50_62_detail_210.png'],\n",
       "  'color': '#',\n",
       "  'category': '러쉬 > 페이스 > 클렌저',\n",
       "  'salePrice': 22000,\n",
       "  'originalPrice': 22000,\n",
       "  'brand': 'lush',\n",
       "  'volume': '250g:￦+22,000'}]"
      ]
     },
     "metadata": {},
     "output_type": "display_data"
    },
    {
     "data": {
      "text/plain": [
       "[{'name': '아쿠아 마리나',\n",
       "  'url': 'https://lush.co.kr/goods/goods_view.php?goodsNo=61',\n",
       "  'image': ['https://lush.co.kr/data/goods/11/01/20/61/t50_61_detail_021.png',\n",
       "   'https://lush.co.kr/data/goods/11/01/20/61/t50_61_detail_138.png',\n",
       "   'https://lush.co.kr/data/goods/11/01/20/61/t50_61_detail_2100.png'],\n",
       "  'color': '#',\n",
       "  'category': '러쉬 > 페이스 > 클렌저',\n",
       "  'salePrice': 22000,\n",
       "  'originalPrice': 22000,\n",
       "  'brand': 'lush',\n",
       "  'volume': '100g'},\n",
       " {'name': '아쿠아 마리나',\n",
       "  'url': 'https://lush.co.kr/goods/goods_view.php?goodsNo=61',\n",
       "  'image': ['https://lush.co.kr/data/goods/11/01/20/61/t50_61_detail_021.png',\n",
       "   'https://lush.co.kr/data/goods/11/01/20/61/t50_61_detail_138.png',\n",
       "   'https://lush.co.kr/data/goods/11/01/20/61/t50_61_detail_2100.png'],\n",
       "  'color': '#',\n",
       "  'category': '러쉬 > 페이스 > 클렌저',\n",
       "  'salePrice': 22000,\n",
       "  'originalPrice': 22000,\n",
       "  'brand': 'lush',\n",
       "  'volume': '250g:￦+22,000'}]"
      ]
     },
     "metadata": {},
     "output_type": "display_data"
    },
    {
     "data": {
      "text/plain": [
       "[{'name': '신시아 실비아 스타우트',\n",
       "  'url': 'https://lush.co.kr/goods/goods_view.php?goodsNo=48',\n",
       "  'image': ['https://lush.co.kr/data/goods/11/01/20/48/t50_48_detail_076.png',\n",
       "   'https://lush.co.kr/data/goods/11/01/20/48/t50_48_detail_182.png',\n",
       "   'https://lush.co.kr/data/goods/11/01/20/48/t50_48_detail_227.png',\n",
       "   'https://lush.co.kr/data/goods/11/01/20/48/t50_48_detail_370.png'],\n",
       "  'color': '#',\n",
       "  'category': '러쉬 > 프로모션 > 온라인 전용',\n",
       "  'salePrice': 15000,\n",
       "  'originalPrice': 15000,\n",
       "  'brand': 'lush',\n",
       "  'volume': '100g'},\n",
       " {'name': '신시아 실비아 스타우트',\n",
       "  'url': 'https://lush.co.kr/goods/goods_view.php?goodsNo=48',\n",
       "  'image': ['https://lush.co.kr/data/goods/11/01/20/48/t50_48_detail_076.png',\n",
       "   'https://lush.co.kr/data/goods/11/01/20/48/t50_48_detail_182.png',\n",
       "   'https://lush.co.kr/data/goods/11/01/20/48/t50_48_detail_227.png',\n",
       "   'https://lush.co.kr/data/goods/11/01/20/48/t50_48_detail_370.png'],\n",
       "  'color': '#',\n",
       "  'category': '러쉬 > 프로모션 > 온라인 전용',\n",
       "  'salePrice': 15000,\n",
       "  'originalPrice': 15000,\n",
       "  'brand': 'lush',\n",
       "  'volume': '250g:￦+15,000'},\n",
       " {'name': '신시아 실비아 스타우트',\n",
       "  'url': 'https://lush.co.kr/goods/goods_view.php?goodsNo=48',\n",
       "  'image': ['https://lush.co.kr/data/goods/11/01/20/48/t50_48_detail_076.png',\n",
       "   'https://lush.co.kr/data/goods/11/01/20/48/t50_48_detail_182.png',\n",
       "   'https://lush.co.kr/data/goods/11/01/20/48/t50_48_detail_227.png',\n",
       "   'https://lush.co.kr/data/goods/11/01/20/48/t50_48_detail_370.png'],\n",
       "  'color': '#',\n",
       "  'category': '러쉬 > 프로모션 > 온라인 전용',\n",
       "  'salePrice': 15000,\n",
       "  'originalPrice': 15000,\n",
       "  'brand': 'lush',\n",
       "  'volume': '500g:￦+35,000'}]"
      ]
     },
     "metadata": {},
     "output_type": "display_data"
    },
    {
     "data": {
      "text/plain": [
       "[{'name': '비비 씨위드',\n",
       "  'url': 'https://lush.co.kr/goods/goods_view.php?goodsNo=37',\n",
       "  'image': ['https://lush.co.kr/data/goods/11/01/20/37/t50_37_detail_049.png',\n",
       "   'https://lush.co.kr/data/goods/11/01/20/37/t50_37_detail_113.png'],\n",
       "  'color': '#',\n",
       "  'category': '러쉬',\n",
       "  'salePrice': 25000,\n",
       "  'originalPrice': 25000,\n",
       "  'brand': 'lush',\n",
       "  'volume': '#'}]"
      ]
     },
     "metadata": {},
     "output_type": "display_data"
    },
    {
     "data": {
      "text/plain": [
       "[{'name': '브레이즌드 허니',\n",
       "  'url': 'https://lush.co.kr/goods/goods_view.php?goodsNo=35',\n",
       "  'image': ['https://lush.co.kr/data/goods/11/01/20/35/t50_35_detail_042.png',\n",
       "   'https://lush.co.kr/data/goods/11/01/20/35/t50_35_detail_146.png'],\n",
       "  'color': '#',\n",
       "  'category': '러쉬 > 프로모션 > 국내제조',\n",
       "  'salePrice': 25000,\n",
       "  'originalPrice': 25000,\n",
       "  'brand': 'lush',\n",
       "  'volume': '#'}]"
      ]
     },
     "metadata": {},
     "output_type": "display_data"
    },
    {
     "data": {
      "text/plain": [
       "[{'name': '다크 엔젤스',\n",
       "  'url': 'https://lush.co.kr/goods/goods_view.php?goodsNo=14',\n",
       "  'image': ['https://lush.co.kr/data/goods/11/01/20/14/t50_14_detail_093.png',\n",
       "   'https://lush.co.kr/data/goods/11/01/20/14/t50_14_detail_190.png',\n",
       "   'https://lush.co.kr/data/goods/11/01/20/14/t50_14_detail_247.png'],\n",
       "  'color': '#',\n",
       "  'category': '러쉬 > 페이스 > 클렌저',\n",
       "  'salePrice': 22000,\n",
       "  'originalPrice': 22000,\n",
       "  'brand': 'lush',\n",
       "  'volume': '100g[품절]'},\n",
       " {'name': '다크 엔젤스',\n",
       "  'url': 'https://lush.co.kr/goods/goods_view.php?goodsNo=14',\n",
       "  'image': ['https://lush.co.kr/data/goods/11/01/20/14/t50_14_detail_093.png',\n",
       "   'https://lush.co.kr/data/goods/11/01/20/14/t50_14_detail_190.png',\n",
       "   'https://lush.co.kr/data/goods/11/01/20/14/t50_14_detail_247.png'],\n",
       "  'color': '#',\n",
       "  'category': '러쉬 > 페이스 > 클렌저',\n",
       "  'salePrice': 22000,\n",
       "  'originalPrice': 22000,\n",
       "  'brand': 'lush',\n",
       "  'volume': '250g:￦+22,000'}]"
      ]
     },
     "metadata": {},
     "output_type": "display_data"
    },
    {
     "data": {
      "text/plain": [
       "[{'name': '아메리칸 크림',\n",
       "  'url': 'https://lush.co.kr/goods/goods_view.php?goodsNo=1000000161',\n",
       "  'image': ['https://lush.co.kr/data/goods/19/01/04/1000000161/t50_1000000161_detail_02.png'],\n",
       "  'color': '#',\n",
       "  'category': '러쉬 > 프로모션 > 발렌타인',\n",
       "  'salePrice': 27000,\n",
       "  'originalPrice': 27000,\n",
       "  'brand': 'lush',\n",
       "  'volume': '#'}]"
      ]
     },
     "metadata": {},
     "output_type": "display_data"
    },
    {
     "data": {
      "text/plain": [
       "[{'name': '아보카도 워시',\n",
       "  'url': 'https://lush.co.kr/goods/goods_view.php?goodsNo=1000000160',\n",
       "  'image': ['https://lush.co.kr/data/goods/19/01/04/1000000160/t50_1000000160_detail_055.png'],\n",
       "  'color': '#',\n",
       "  'category': '러쉬 > 프로모션 > 발렌타인',\n",
       "  'salePrice': 27000,\n",
       "  'originalPrice': 27000,\n",
       "  'brand': 'lush',\n",
       "  'volume': '#'}]"
      ]
     },
     "metadata": {},
     "output_type": "display_data"
    },
    {
     "data": {
      "text/plain": [
       "[{'name': '빅',\n",
       "  'url': 'https://lush.co.kr/goods/goods_view.php?goodsNo=1000000089',\n",
       "  'image': ['https://lush.co.kr/data/goods/18/12/49/1000000089/t50_1000000089_detail_028.png',\n",
       "   'https://lush.co.kr/data/goods/18/12/49/1000000089/t50_1000000089_detail_183.png'],\n",
       "  'color': '#',\n",
       "  'category': '러쉬 > 보디 > 보디 스프레이',\n",
       "  'salePrice': 60000,\n",
       "  'originalPrice': 60000,\n",
       "  'brand': 'lush',\n",
       "  'volume': '#'}]"
      ]
     },
     "metadata": {},
     "output_type": "display_data"
    },
    {
     "data": {
      "text/plain": [
       "[{'name': '슬랩 스틱 20N',\n",
       "  'url': 'https://lush.co.kr/goods/goods_view.php?goodsNo=1000000048',\n",
       "  'image': ['https://lush.co.kr/data/goods/18/11/48/1000000048/t50_1000000048_detail_048.png'],\n",
       "  'color': '#',\n",
       "  'category': '러쉬 > 프로모션',\n",
       "  'salePrice': 34000,\n",
       "  'originalPrice': 34000,\n",
       "  'brand': 'lush',\n",
       "  'volume': '#'}]"
      ]
     },
     "metadata": {},
     "output_type": "display_data"
    },
    {
     "data": {
      "text/plain": [
       "[{'name': '슬랩 스틱 11N',\n",
       "  'url': 'https://lush.co.kr/goods/goods_view.php?goodsNo=1000000039',\n",
       "  'image': ['https://lush.co.kr/data/goods/18/11/48/1000000039/t50_1000000039_detail_02.png'],\n",
       "  'color': '#',\n",
       "  'category': '러쉬 > 프로모션',\n",
       "  'salePrice': 34000,\n",
       "  'originalPrice': 34000,\n",
       "  'brand': 'lush',\n",
       "  'volume': '#'}]"
      ]
     },
     "metadata": {},
     "output_type": "display_data"
    },
    {
     "data": {
      "text/plain": [
       "[{'name': '슬랩 스틱 8N',\n",
       "  'url': 'https://lush.co.kr/goods/goods_view.php?goodsNo=1000000036',\n",
       "  'image': ['https://lush.co.kr/data/goods/18/11/48/1000000036/t50_1000000036_detail_063.png'],\n",
       "  'color': '#',\n",
       "  'category': '러쉬 > 프로모션',\n",
       "  'salePrice': 34000,\n",
       "  'originalPrice': 34000,\n",
       "  'brand': 'lush',\n",
       "  'volume': '#'}]"
      ]
     },
     "metadata": {},
     "output_type": "display_data"
    },
    {
     "data": {
      "text/plain": [
       "[{'name': '슬랩 스틱 6W',\n",
       "  'url': 'https://lush.co.kr/goods/goods_view.php?goodsNo=1000000034',\n",
       "  'image': ['https://lush.co.kr/data/goods/18/11/48/1000000034/t50_1000000034_detail_05.png'],\n",
       "  'color': '#',\n",
       "  'category': '러쉬 > 프로모션',\n",
       "  'salePrice': 34000,\n",
       "  'originalPrice': 34000,\n",
       "  'brand': 'lush',\n",
       "  'volume': '#'}]"
      ]
     },
     "metadata": {},
     "output_type": "display_data"
    },
    {
     "data": {
      "text/plain": [
       "[{'name': '슬랩 스틱 5N',\n",
       "  'url': 'https://lush.co.kr/goods/goods_view.php?goodsNo=1000000033',\n",
       "  'image': ['https://lush.co.kr/data/goods/18/11/48/1000000033/t50_1000000033_detail_02.png'],\n",
       "  'color': '#',\n",
       "  'category': '러쉬 > 프로모션',\n",
       "  'salePrice': 34000,\n",
       "  'originalPrice': 34000,\n",
       "  'brand': 'lush',\n",
       "  'volume': '#'}]"
      ]
     },
     "metadata": {},
     "output_type": "display_data"
    },
    {
     "data": {
      "text/plain": [
       "[{'name': '투 헤디드 몬스터',\n",
       "  'url': 'https://lush.co.kr/goods/goods_view.php?goodsNo=579',\n",
       "  'image': ['https://lush.co.kr/data/goods/18/09/27/579/t50_579_detail_047.png'],\n",
       "  'color': '#',\n",
       "  'category': '러쉬',\n",
       "  'salePrice': 44000,\n",
       "  'originalPrice': 44000,\n",
       "  'brand': 'lush',\n",
       "  'volume': '#'}]"
      ]
     },
     "metadata": {},
     "output_type": "display_data"
    },
    {
     "data": {
      "text/plain": [
       "[{'name': '슬리피',\n",
       "  'url': 'https://lush.co.kr/goods/goods_view.php?goodsNo=574',\n",
       "  'image': ['https://lush.co.kr/data/goods/18/09/27/574/t50_574_detail_011.png'],\n",
       "  'color': '#',\n",
       "  'category': '러쉬 > 프로모션',\n",
       "  'salePrice': 29000,\n",
       "  'originalPrice': 29000,\n",
       "  'brand': 'lush',\n",
       "  'volume': '#'}]"
      ]
     },
     "metadata": {},
     "output_type": "display_data"
    },
    {
     "data": {
      "text/plain": [
       "[{'name': '골든 원더',\n",
       "  'url': 'https://lush.co.kr/goods/goods_view.php?goodsNo=571',\n",
       "  'image': ['https://lush.co.kr/data/goods/18/09/27/571/t50_571_detail_083.png'],\n",
       "  'color': '#',\n",
       "  'category': '러쉬',\n",
       "  'salePrice': 75000,\n",
       "  'originalPrice': 75000,\n",
       "  'brand': 'lush',\n",
       "  'volume': '#'}]"
      ]
     },
     "metadata": {},
     "output_type": "display_data"
    },
    {
     "data": {
      "text/plain": [
       "[{'name': '스노우 페어리',\n",
       "  'url': 'https://lush.co.kr/goods/goods_view.php?goodsNo=559',\n",
       "  'image': ['https://lush.co.kr/data/goods/18/09/20/559/t50_559_detail_026.png'],\n",
       "  'color': '#',\n",
       "  'category': '러쉬',\n",
       "  'salePrice': 21000,\n",
       "  'originalPrice': 21000,\n",
       "  'brand': 'lush',\n",
       "  'volume': '#'}]"
      ]
     },
     "metadata": {},
     "output_type": "display_data"
    },
    {
     "data": {
      "text/plain": [
       "[{'name': '스노우 페어리',\n",
       "  'url': 'https://lush.co.kr/goods/goods_view.php?goodsNo=487',\n",
       "  'image': ['https://lush.co.kr/data/goods/18/09/17/487/t50_487_detail_098.png',\n",
       "   'https://lush.co.kr/data/goods/18/09/17/487/t50_487_detail_171.png'],\n",
       "  'color': '#',\n",
       "  'category': '러쉬 > 보디 > 보디 스프레이',\n",
       "  'salePrice': 55000,\n",
       "  'originalPrice': 55000,\n",
       "  'brand': 'lush',\n",
       "  'volume': '#'}]"
      ]
     },
     "metadata": {},
     "output_type": "display_data"
    },
    {
     "data": {
      "text/plain": [
       "[{'name': '페어리 더스트',\n",
       "  'url': 'https://lush.co.kr/goods/goods_view.php?goodsNo=478',\n",
       "  'image': ['https://lush.co.kr/data/goods/18/09/14/478/t50_478_detail_046.png',\n",
       "   'https://lush.co.kr/data/goods/18/09/14/478/t50_478_detail_187.png'],\n",
       "  'color': '#',\n",
       "  'category': '러쉬',\n",
       "  'salePrice': 20000,\n",
       "  'originalPrice': 20000,\n",
       "  'brand': 'lush',\n",
       "  'volume': '#'}]"
      ]
     },
     "metadata": {},
     "output_type": "display_data"
    },
    {
     "data": {
      "text/plain": [
       "[{'name': '오일 온 트러블드 워터',\n",
       "  'url': 'https://lush.co.kr/goods/goods_view.php?goodsNo=430',\n",
       "  'image': ['https://lush.co.kr/data/goods/18/05/28/430/t50_430_detail_016.png'],\n",
       "  'color': '#',\n",
       "  'category': '러쉬 > 배쓰 > 배쓰 오일',\n",
       "  'salePrice': 8000,\n",
       "  'originalPrice': 8000,\n",
       "  'brand': 'lush',\n",
       "  'volume': '#'}]"
      ]
     },
     "metadata": {},
     "output_type": "display_data"
    },
    {
     "data": {
      "text/plain": [
       "[{'name': '볼케이노',\n",
       "  'url': 'https://lush.co.kr/goods/goods_view.php?goodsNo=127',\n",
       "  'image': ['https://lush.co.kr/data/goods/13/11/20/127/t50_127_detail_067.png',\n",
       "   'https://lush.co.kr/data/goods/13/11/20/127/t50_127_detail_166.png'],\n",
       "  'color': '#',\n",
       "  'category': '러쉬 > 보디 > 핸드 앤 풋',\n",
       "  'salePrice': 18000,\n",
       "  'originalPrice': 18000,\n",
       "  'brand': 'lush',\n",
       "  'volume': '#'}]"
      ]
     },
     "metadata": {},
     "output_type": "display_data"
    },
    {
     "data": {
      "text/plain": [
       "[{'name': '골든 원더',\n",
       "  'url': 'https://lush.co.kr/goods/goods_view.php?goodsNo=549',\n",
       "  'image': ['https://lush.co.kr/data/goods/18/09/19/549/t50_549_detail_016.png'],\n",
       "  'color': '#',\n",
       "  'category': '러쉬 > 크리스마스 > 크리스마스 단품',\n",
       "  'salePrice': 16000,\n",
       "  'originalPrice': 16000,\n",
       "  'brand': 'lush',\n",
       "  'volume': '#'}]"
      ]
     },
     "metadata": {},
     "output_type": "display_data"
    },
    {
     "data": {
      "text/plain": [
       "[{'name': '퍼디 홀리',\n",
       "  'url': 'https://lush.co.kr/goods/goods_view.php?goodsNo=470',\n",
       "  'image': ['https://lush.co.kr/data/goods/18/09/14/470/t50_470_detail_046.png'],\n",
       "  'color': '#',\n",
       "  'category': '러쉬',\n",
       "  'salePrice': 15000,\n",
       "  'originalPrice': 15000,\n",
       "  'brand': 'lush',\n",
       "  'volume': '#'}]"
      ]
     },
     "metadata": {},
     "output_type": "display_data"
    },
    {
     "data": {
      "text/plain": [
       "[{'name': '캔디 마운틴 율 로그',\n",
       "  'url': 'https://lush.co.kr/goods/goods_view.php?goodsNo=467',\n",
       "  'image': ['https://lush.co.kr/data/goods/18/09/14/467/t50_467_detail_063.png'],\n",
       "  'color': '#',\n",
       "  'category': '러쉬',\n",
       "  'salePrice': 12000,\n",
       "  'originalPrice': 12000,\n",
       "  'brand': 'lush',\n",
       "  'volume': '#'}]"
      ]
     },
     "metadata": {},
     "output_type": "display_data"
    },
    {
     "data": {
      "text/plain": [
       "[{'name': '부쉐 드 노엘',\n",
       "  'url': 'https://lush.co.kr/goods/goods_view.php?goodsNo=547',\n",
       "  'image': ['https://lush.co.kr/data/goods/18/09/19/547/t50_547_detail_068.png',\n",
       "   'https://lush.co.kr/data/goods/18/09/19/547/t50_547_detail_111.png',\n",
       "   'https://lush.co.kr/data/goods/18/09/19/547/t50_547_detail_250.png'],\n",
       "  'color': '#',\n",
       "  'category': '러쉬 > 페이스 > 클렌저',\n",
       "  'salePrice': 20000,\n",
       "  'originalPrice': 20000,\n",
       "  'brand': 'lush',\n",
       "  'volume': '100g'},\n",
       " {'name': '부쉐 드 노엘',\n",
       "  'url': 'https://lush.co.kr/goods/goods_view.php?goodsNo=547',\n",
       "  'image': ['https://lush.co.kr/data/goods/18/09/19/547/t50_547_detail_068.png',\n",
       "   'https://lush.co.kr/data/goods/18/09/19/547/t50_547_detail_111.png',\n",
       "   'https://lush.co.kr/data/goods/18/09/19/547/t50_547_detail_250.png'],\n",
       "  'color': '#',\n",
       "  'category': '러쉬 > 페이스 > 클렌저',\n",
       "  'salePrice': 20000,\n",
       "  'originalPrice': 20000,\n",
       "  'brand': 'lush',\n",
       "  'volume': '250g:￦+20,000'}]"
      ]
     },
     "metadata": {},
     "output_type": "display_data"
    },
    {
     "data": {
      "text/plain": [
       "[{'name': '슛 포 더 스타스',\n",
       "  'url': 'https://lush.co.kr/goods/goods_view.php?goodsNo=462',\n",
       "  'image': ['https://lush.co.kr/data/goods/18/09/14/462/t50_462_detail_091.png'],\n",
       "  'color': '#',\n",
       "  'category': '러쉬',\n",
       "  'salePrice': 16000,\n",
       "  'originalPrice': 16000,\n",
       "  'brand': 'lush',\n",
       "  'volume': '#'}]"
      ]
     },
     "metadata": {},
     "output_type": "display_data"
    },
    {
     "data": {
      "text/plain": [
       "[{'name': '원스 어폰 어 타임',\n",
       "  'url': 'https://lush.co.kr/goods/goods_view.php?goodsNo=490',\n",
       "  'image': ['https://lush.co.kr/data/goods/18/09/17/490/t50_490_detail_085.png',\n",
       "   'https://lush.co.kr/data/goods/18/09/17/490/t50_490_detail_192.png',\n",
       "   'https://lush.co.kr/data/goods/18/09/17/490/t50_490_detail_289.png'],\n",
       "  'color': '#',\n",
       "  'category': '러쉬 > 보디 > 로션',\n",
       "  'salePrice': 25000,\n",
       "  'originalPrice': 25000,\n",
       "  'brand': 'lush',\n",
       "  'volume': '100g'},\n",
       " {'name': '원스 어폰 어 타임',\n",
       "  'url': 'https://lush.co.kr/goods/goods_view.php?goodsNo=490',\n",
       "  'image': ['https://lush.co.kr/data/goods/18/09/17/490/t50_490_detail_085.png',\n",
       "   'https://lush.co.kr/data/goods/18/09/17/490/t50_490_detail_192.png',\n",
       "   'https://lush.co.kr/data/goods/18/09/17/490/t50_490_detail_289.png'],\n",
       "  'color': '#',\n",
       "  'category': '러쉬 > 보디 > 로션',\n",
       "  'salePrice': 25000,\n",
       "  'originalPrice': 25000,\n",
       "  'brand': 'lush',\n",
       "  'volume': '225g:￦+21,000[품절]'}]"
      ]
     },
     "metadata": {},
     "output_type": "display_data"
    },
    {
     "data": {
      "text/plain": [
       "[{'name': '스노우 페어리',\n",
       "  'url': 'https://lush.co.kr/goods/goods_view.php?goodsNo=511',\n",
       "  'image': ['https://lush.co.kr/data/goods/18/09/17/511/t50_511_detail_162.png',\n",
       "   'https://lush.co.kr/data/goods/18/09/17/511/t50_511_detail_244.png',\n",
       "   'https://lush.co.kr/data/goods/18/09/17/511/t50_511_detail_366.png',\n",
       "   'https://lush.co.kr/data/goods/18/09/17/511/t50_511_detail_481.png',\n",
       "   'https://lush.co.kr/data/goods/18/09/17/511/t50_511_detail_018.png',\n",
       "   'https://lush.co.kr/data/goods/18/09/17/511/t50_511_detail_162.png',\n",
       "   'https://lush.co.kr/data/goods/18/09/17/511/t50_511_detail_244.png',\n",
       "   'https://lush.co.kr/data/goods/18/09/17/511/t50_511_detail_366.png',\n",
       "   'https://lush.co.kr/data/goods/18/09/17/511/t50_511_detail_481.png',\n",
       "   'https://lush.co.kr/data/goods/18/09/17/511/t50_511_detail_018.png',\n",
       "   'https://lush.co.kr/data/goods/18/09/17/511/t50_511_detail_162.png',\n",
       "   'https://lush.co.kr/data/goods/18/09/17/511/t50_511_detail_244.png',\n",
       "   'https://lush.co.kr/data/goods/18/09/17/511/t50_511_detail_366.png'],\n",
       "  'color': '#',\n",
       "  'category': '러쉬 > 프로모션',\n",
       "  'salePrice': 14000,\n",
       "  'originalPrice': 14000,\n",
       "  'brand': 'lush',\n",
       "  'volume': '100g[품절]'},\n",
       " {'name': '스노우 페어리',\n",
       "  'url': 'https://lush.co.kr/goods/goods_view.php?goodsNo=511',\n",
       "  'image': ['https://lush.co.kr/data/goods/18/09/17/511/t50_511_detail_162.png',\n",
       "   'https://lush.co.kr/data/goods/18/09/17/511/t50_511_detail_244.png',\n",
       "   'https://lush.co.kr/data/goods/18/09/17/511/t50_511_detail_366.png',\n",
       "   'https://lush.co.kr/data/goods/18/09/17/511/t50_511_detail_481.png',\n",
       "   'https://lush.co.kr/data/goods/18/09/17/511/t50_511_detail_018.png',\n",
       "   'https://lush.co.kr/data/goods/18/09/17/511/t50_511_detail_162.png',\n",
       "   'https://lush.co.kr/data/goods/18/09/17/511/t50_511_detail_244.png',\n",
       "   'https://lush.co.kr/data/goods/18/09/17/511/t50_511_detail_366.png',\n",
       "   'https://lush.co.kr/data/goods/18/09/17/511/t50_511_detail_481.png',\n",
       "   'https://lush.co.kr/data/goods/18/09/17/511/t50_511_detail_018.png',\n",
       "   'https://lush.co.kr/data/goods/18/09/17/511/t50_511_detail_162.png',\n",
       "   'https://lush.co.kr/data/goods/18/09/17/511/t50_511_detail_244.png',\n",
       "   'https://lush.co.kr/data/goods/18/09/17/511/t50_511_detail_366.png'],\n",
       "  'color': '#',\n",
       "  'category': '러쉬 > 프로모션',\n",
       "  'salePrice': 14000,\n",
       "  'originalPrice': 14000,\n",
       "  'brand': 'lush',\n",
       "  'volume': '250g:￦+12,000[품절]'},\n",
       " {'name': '스노우 페어리',\n",
       "  'url': 'https://lush.co.kr/goods/goods_view.php?goodsNo=511',\n",
       "  'image': ['https://lush.co.kr/data/goods/18/09/17/511/t50_511_detail_162.png',\n",
       "   'https://lush.co.kr/data/goods/18/09/17/511/t50_511_detail_244.png',\n",
       "   'https://lush.co.kr/data/goods/18/09/17/511/t50_511_detail_366.png',\n",
       "   'https://lush.co.kr/data/goods/18/09/17/511/t50_511_detail_481.png',\n",
       "   'https://lush.co.kr/data/goods/18/09/17/511/t50_511_detail_018.png',\n",
       "   'https://lush.co.kr/data/goods/18/09/17/511/t50_511_detail_162.png',\n",
       "   'https://lush.co.kr/data/goods/18/09/17/511/t50_511_detail_244.png',\n",
       "   'https://lush.co.kr/data/goods/18/09/17/511/t50_511_detail_366.png',\n",
       "   'https://lush.co.kr/data/goods/18/09/17/511/t50_511_detail_481.png',\n",
       "   'https://lush.co.kr/data/goods/18/09/17/511/t50_511_detail_018.png',\n",
       "   'https://lush.co.kr/data/goods/18/09/17/511/t50_511_detail_162.png',\n",
       "   'https://lush.co.kr/data/goods/18/09/17/511/t50_511_detail_244.png',\n",
       "   'https://lush.co.kr/data/goods/18/09/17/511/t50_511_detail_366.png'],\n",
       "  'color': '#',\n",
       "  'category': '러쉬 > 프로모션',\n",
       "  'salePrice': 14000,\n",
       "  'originalPrice': 14000,\n",
       "  'brand': 'lush',\n",
       "  'volume': '500g:￦+34,000'},\n",
       " {'name': '스노우 페어리',\n",
       "  'url': 'https://lush.co.kr/goods/goods_view.php?goodsNo=511',\n",
       "  'image': ['https://lush.co.kr/data/goods/18/09/17/511/t50_511_detail_162.png',\n",
       "   'https://lush.co.kr/data/goods/18/09/17/511/t50_511_detail_244.png',\n",
       "   'https://lush.co.kr/data/goods/18/09/17/511/t50_511_detail_366.png',\n",
       "   'https://lush.co.kr/data/goods/18/09/17/511/t50_511_detail_481.png',\n",
       "   'https://lush.co.kr/data/goods/18/09/17/511/t50_511_detail_018.png',\n",
       "   'https://lush.co.kr/data/goods/18/09/17/511/t50_511_detail_162.png',\n",
       "   'https://lush.co.kr/data/goods/18/09/17/511/t50_511_detail_244.png',\n",
       "   'https://lush.co.kr/data/goods/18/09/17/511/t50_511_detail_366.png',\n",
       "   'https://lush.co.kr/data/goods/18/09/17/511/t50_511_detail_481.png',\n",
       "   'https://lush.co.kr/data/goods/18/09/17/511/t50_511_detail_018.png',\n",
       "   'https://lush.co.kr/data/goods/18/09/17/511/t50_511_detail_162.png',\n",
       "   'https://lush.co.kr/data/goods/18/09/17/511/t50_511_detail_244.png',\n",
       "   'https://lush.co.kr/data/goods/18/09/17/511/t50_511_detail_366.png'],\n",
       "  'color': '#',\n",
       "  'category': '러쉬 > 프로모션',\n",
       "  'salePrice': 14000,\n",
       "  'originalPrice': 14000,\n",
       "  'brand': 'lush',\n",
       "  'volume': '1kg:￦+71,000'}]"
      ]
     },
     "metadata": {},
     "output_type": "display_data"
    },
    {
     "data": {
      "text/plain": [
       "[{'name': '럭셔리 러쉬 퍼드',\n",
       "  'url': 'https://lush.co.kr/goods/goods_view.php?goodsNo=457',\n",
       "  'image': ['https://lush.co.kr/data/goods/18/09/14/457/t50_457_detail_085.png'],\n",
       "  'color': '#',\n",
       "  'category': '러쉬',\n",
       "  'salePrice': 16000,\n",
       "  'originalPrice': 16000,\n",
       "  'brand': 'lush',\n",
       "  'volume': '#'}]"
      ]
     },
     "metadata": {},
     "output_type": "display_data"
    },
    {
     "data": {
      "text/plain": [
       "[{'name': '비위치드',\n",
       "  'url': 'https://lush.co.kr/goods/goods_view.php?goodsNo=465',\n",
       "  'image': ['https://lush.co.kr/data/goods/18/09/14/465/t50_465_detail_057.png'],\n",
       "  'color': '#',\n",
       "  'category': '러쉬',\n",
       "  'salePrice': 15000,\n",
       "  'originalPrice': 15000,\n",
       "  'brand': 'lush',\n",
       "  'volume': '#'}]"
      ]
     },
     "metadata": {},
     "output_type": "display_data"
    },
    {
     "data": {
      "text/plain": [
       "[{'name': '홀리 나이트',\n",
       "  'url': 'https://lush.co.kr/goods/goods_view.php?goodsNo=455',\n",
       "  'image': ['https://lush.co.kr/data/goods/18/09/14/455/t50_455_detail_033.png'],\n",
       "  'color': '#',\n",
       "  'category': '러쉬',\n",
       "  'salePrice': 16000,\n",
       "  'originalPrice': 16000,\n",
       "  'brand': 'lush',\n",
       "  'volume': '#'}]"
      ]
     },
     "metadata": {},
     "output_type": "display_data"
    },
    {
     "data": {
      "text/plain": [
       "[{'name': '매직 완드',\n",
       "  'url': 'https://lush.co.kr/goods/goods_view.php?goodsNo=468',\n",
       "  'image': ['https://lush.co.kr/data/goods/18/09/14/468/t50_468_detail_085.png'],\n",
       "  'color': '#',\n",
       "  'category': '러쉬',\n",
       "  'salePrice': 20000,\n",
       "  'originalPrice': 20000,\n",
       "  'brand': 'lush',\n",
       "  'volume': '#'}]"
      ]
     },
     "metadata": {},
     "output_type": "display_data"
    },
    {
     "data": {
      "text/plain": [
       "[{'name': '벅스 피즈',\n",
       "  'url': 'https://lush.co.kr/goods/goods_view.php?goodsNo=481',\n",
       "  'image': ['https://lush.co.kr/data/goods/18/09/17/481/t50_481_detail_065.png',\n",
       "   'https://lush.co.kr/data/goods/18/09/17/481/t50_481_detail_146.png',\n",
       "   'https://lush.co.kr/data/goods/18/09/17/481/t50_481_detail_232.png'],\n",
       "  'color': '#',\n",
       "  'category': '러쉬',\n",
       "  'salePrice': 24000,\n",
       "  'originalPrice': 24000,\n",
       "  'brand': 'lush',\n",
       "  'volume': '100g'},\n",
       " {'name': '벅스 피즈',\n",
       "  'url': 'https://lush.co.kr/goods/goods_view.php?goodsNo=481',\n",
       "  'image': ['https://lush.co.kr/data/goods/18/09/17/481/t50_481_detail_065.png',\n",
       "   'https://lush.co.kr/data/goods/18/09/17/481/t50_481_detail_146.png',\n",
       "   'https://lush.co.kr/data/goods/18/09/17/481/t50_481_detail_232.png'],\n",
       "  'color': '#',\n",
       "  'category': '러쉬',\n",
       "  'salePrice': 24000,\n",
       "  'originalPrice': 24000,\n",
       "  'brand': 'lush',\n",
       "  'volume': '225g:￦+20,000'}]"
      ]
     },
     "metadata": {},
     "output_type": "display_data"
    },
    {
     "data": {
      "text/plain": [
       "[{'name': '메리 베리',\n",
       "  'url': 'https://lush.co.kr/goods/goods_view.php?goodsNo=497',\n",
       "  'image': ['https://lush.co.kr/data/goods/18/09/17/497/t50_497_detail_066.png'],\n",
       "  'color': '#',\n",
       "  'category': '러쉬',\n",
       "  'salePrice': 18000,\n",
       "  'originalPrice': 18000,\n",
       "  'brand': 'lush',\n",
       "  'volume': '#'}]"
      ]
     },
     "metadata": {},
     "output_type": "display_data"
    },
    {
     "data": {
      "text/plain": [
       "[{'name': '산타 밤 밤',\n",
       "  'url': 'https://lush.co.kr/goods/goods_view.php?goodsNo=461',\n",
       "  'image': ['https://lush.co.kr/data/goods/18/09/14/461/t50_461_detail_031.png'],\n",
       "  'color': '#',\n",
       "  'category': '러쉬',\n",
       "  'salePrice': 26000,\n",
       "  'originalPrice': 26000,\n",
       "  'brand': 'lush',\n",
       "  'volume': '#'}]"
      ]
     },
     "metadata": {},
     "output_type": "display_data"
    },
    {
     "data": {
      "text/plain": [
       "[{'name': '스노우 페어리',\n",
       "  'url': 'https://lush.co.kr/goods/goods_view.php?goodsNo=474',\n",
       "  'image': ['https://lush.co.kr/data/goods/18/09/14/474/t50_474_detail_057.png'],\n",
       "  'color': '#',\n",
       "  'category': '러쉬 > 배쓰 > 젤리 밤',\n",
       "  'salePrice': 18000,\n",
       "  'originalPrice': 18000,\n",
       "  'brand': 'lush',\n",
       "  'volume': '#'}]"
      ]
     },
     "metadata": {},
     "output_type": "display_data"
    },
    {
     "data": {
      "text/plain": [
       "[{'name': '슈가 플럼 페어리',\n",
       "  'url': 'https://lush.co.kr/goods/goods_view.php?goodsNo=557',\n",
       "  'image': ['https://lush.co.kr/data/goods/18/09/19/557/t50_557_detail_093.png',\n",
       "   'https://lush.co.kr/data/goods/18/09/19/557/t50_557_detail_13.png'],\n",
       "  'color': '#',\n",
       "  'category': '러쉬 > 페이스 > 립',\n",
       "  'salePrice': 15000,\n",
       "  'originalPrice': 15000,\n",
       "  'brand': 'lush',\n",
       "  'volume': '#'}]"
      ]
     },
     "metadata": {},
     "output_type": "display_data"
    },
    {
     "data": {
      "text/plain": [
       "[{'name': '스노우플레이크 버블 스피너',\n",
       "  'url': 'https://lush.co.kr/goods/goods_view.php?goodsNo=472',\n",
       "  'image': ['https://lush.co.kr/data/goods/18/09/14/472/t50_472_detail_069.png'],\n",
       "  'color': '#',\n",
       "  'category': '러쉬',\n",
       "  'salePrice': 18000,\n",
       "  'originalPrice': 18000,\n",
       "  'brand': 'lush',\n",
       "  'volume': '#'}]"
      ]
     },
     "metadata": {},
     "output_type": "display_data"
    },
    {
     "data": {
      "text/plain": [
       "[{'name': '슈팅 스타스',\n",
       "  'url': 'https://lush.co.kr/goods/goods_view.php?goodsNo=599',\n",
       "  'image': ['https://lush.co.kr/data/goods/18/10/04/599/t50_599_detail_027.png'],\n",
       "  'color': '#',\n",
       "  'category': '러쉬 > 프로모션',\n",
       "  'salePrice': 13000,\n",
       "  'originalPrice': 13000,\n",
       "  'brand': 'lush',\n",
       "  'volume': '#'}]"
      ]
     },
     "metadata": {},
     "output_type": "display_data"
    },
    {
     "data": {
      "text/plain": [
       "[{'name': '산타스 벨리',\n",
       "  'url': 'https://lush.co.kr/goods/goods_view.php?goodsNo=520',\n",
       "  'image': ['https://lush.co.kr/data/goods/18/09/17/520/t50_520_detail_031.png'],\n",
       "  'color': '#',\n",
       "  'category': '러쉬',\n",
       "  'salePrice': 15000,\n",
       "  'originalPrice': 15000,\n",
       "  'brand': 'lush',\n",
       "  'volume': '#'}]"
      ]
     },
     "metadata": {},
     "output_type": "display_data"
    },
    {
     "data": {
      "text/plain": [
       "[{'name': '엑토플라즘',\n",
       "  'url': 'https://lush.co.kr/goods/goods_view.php?goodsNo=473',\n",
       "  'image': ['https://lush.co.kr/data/goods/18/09/14/473/t50_473_detail_044.png'],\n",
       "  'color': '#',\n",
       "  'category': '러쉬 > 배쓰 > 젤리 밤',\n",
       "  'salePrice': 19000,\n",
       "  'originalPrice': 19000,\n",
       "  'brand': 'lush',\n",
       "  'volume': '#'}]"
      ]
     },
     "metadata": {},
     "output_type": "display_data"
    },
    {
     "data": {
      "text/plain": [
       "[{'name': '신더스',\n",
       "  'url': 'https://lush.co.kr/goods/goods_view.php?goodsNo=502',\n",
       "  'image': ['https://lush.co.kr/data/goods/18/09/17/502/t50_502_detail_083.png',\n",
       "   'https://lush.co.kr/data/goods/18/09/17/502/t50_502_detail_115.png',\n",
       "   'https://lush.co.kr/data/goods/18/09/17/502/t50_502_detail_266.png',\n",
       "   'https://lush.co.kr/data/goods/18/09/17/502/t50_502_detail_398.png'],\n",
       "  'color': '#',\n",
       "  'category': '러쉬',\n",
       "  'salePrice': 14000,\n",
       "  'originalPrice': 14000,\n",
       "  'brand': 'lush',\n",
       "  'volume': '110g[품절]'},\n",
       " {'name': '신더스',\n",
       "  'url': 'https://lush.co.kr/goods/goods_view.php?goodsNo=502',\n",
       "  'image': ['https://lush.co.kr/data/goods/18/09/17/502/t50_502_detail_083.png',\n",
       "   'https://lush.co.kr/data/goods/18/09/17/502/t50_502_detail_115.png',\n",
       "   'https://lush.co.kr/data/goods/18/09/17/502/t50_502_detail_266.png',\n",
       "   'https://lush.co.kr/data/goods/18/09/17/502/t50_502_detail_398.png'],\n",
       "  'color': '#',\n",
       "  'category': '러쉬',\n",
       "  'salePrice': 14000,\n",
       "  'originalPrice': 14000,\n",
       "  'brand': 'lush',\n",
       "  'volume': '260g:￦+14,000'},\n",
       " {'name': '신더스',\n",
       "  'url': 'https://lush.co.kr/goods/goods_view.php?goodsNo=502',\n",
       "  'image': ['https://lush.co.kr/data/goods/18/09/17/502/t50_502_detail_083.png',\n",
       "   'https://lush.co.kr/data/goods/18/09/17/502/t50_502_detail_115.png',\n",
       "   'https://lush.co.kr/data/goods/18/09/17/502/t50_502_detail_266.png',\n",
       "   'https://lush.co.kr/data/goods/18/09/17/502/t50_502_detail_398.png'],\n",
       "  'color': '#',\n",
       "  'category': '러쉬',\n",
       "  'salePrice': 14000,\n",
       "  'originalPrice': 14000,\n",
       "  'brand': 'lush',\n",
       "  'volume': '520g:￦+38,000'}]"
      ]
     },
     "metadata": {},
     "output_type": "display_data"
    },
    {
     "data": {
      "text/plain": [
       "[{'name': '버터베어 샤워 젤리',\n",
       "  'url': 'https://lush.co.kr/goods/goods_view.php?goodsNo=519',\n",
       "  'image': ['https://lush.co.kr/data/goods/18/09/17/519/t50_519_detail_095.png'],\n",
       "  'color': '#',\n",
       "  'category': '러쉬 > 샤워 > 샤워 젤 & 젤리',\n",
       "  'salePrice': 14000,\n",
       "  'originalPrice': 14000,\n",
       "  'brand': 'lush',\n",
       "  'volume': '#'}]"
      ]
     },
     "metadata": {},
     "output_type": "display_data"
    },
    {
     "data": {
      "text/plain": [
       "[{'name': '베이크드 알래스카',\n",
       "  'url': 'https://lush.co.kr/goods/goods_view.php?goodsNo=555',\n",
       "  'image': ['https://lush.co.kr/data/goods/18/09/19/555/t50_555_detail_057.png'],\n",
       "  'color': '#',\n",
       "  'category': '러쉬',\n",
       "  'salePrice': 13000,\n",
       "  'originalPrice': 13000,\n",
       "  'brand': 'lush',\n",
       "  'volume': '#'}]"
      ]
     },
     "metadata": {},
     "output_type": "display_data"
    },
    {
     "data": {
      "text/plain": [
       "[{'name': '너티 엘프',\n",
       "  'url': 'https://lush.co.kr/goods/goods_view.php?goodsNo=469',\n",
       "  'image': ['https://lush.co.kr/data/goods/18/09/14/469/t50_469_detail_09.png'],\n",
       "  'color': '#',\n",
       "  'category': '러쉬',\n",
       "  'salePrice': 18000,\n",
       "  'originalPrice': 18000,\n",
       "  'brand': 'lush',\n",
       "  'volume': '#'}]"
      ]
     },
     "metadata": {},
     "output_type": "display_data"
    },
    {
     "data": {
      "text/plain": [
       "[{'name': '프린세스 밤 밤',\n",
       "  'url': 'https://lush.co.kr/goods/goods_view.php?goodsNo=460',\n",
       "  'image': ['https://lush.co.kr/data/goods/18/09/14/460/t50_460_detail_082.png'],\n",
       "  'color': '#',\n",
       "  'category': '러쉬',\n",
       "  'salePrice': 26000,\n",
       "  'originalPrice': 26000,\n",
       "  'brand': 'lush',\n",
       "  'volume': '#'}]"
      ]
     },
     "metadata": {},
     "output_type": "display_data"
    },
    {
     "data": {
      "text/plain": [
       "[{'name': '스트로베리 산타',\n",
       "  'url': 'https://lush.co.kr/goods/goods_view.php?goodsNo=500',\n",
       "  'image': ['https://lush.co.kr/data/goods/18/09/17/500/t50_500_detail_054.png'],\n",
       "  'color': '#',\n",
       "  'category': '러쉬',\n",
       "  'salePrice': 17000,\n",
       "  'originalPrice': 17000,\n",
       "  'brand': 'lush',\n",
       "  'volume': '#'}]"
      ]
     },
     "metadata": {},
     "output_type": "display_data"
    },
    {
     "data": {
      "text/plain": [
       "[{'name': '채러티 팟',\n",
       "  'url': 'https://lush.co.kr/goods/goods_view.php?goodsNo=492',\n",
       "  'image': ['https://lush.co.kr/data/goods/18/09/17/492/t50_492_detail_09.png'],\n",
       "  'color': '#',\n",
       "  'category': '러쉬 > 보디 > 로션',\n",
       "  'salePrice': 25000,\n",
       "  'originalPrice': 25000,\n",
       "  'brand': 'lush',\n",
       "  'volume': '#'}]"
      ]
     },
     "metadata": {},
     "output_type": "display_data"
    },
    {
     "data": {
      "text/plain": [
       "[{'name': '스노우 페어리 보디 스프레이',\n",
       "  'url': 'https://lush.co.kr/goods/goods_view.php?goodsNo=1000000130',\n",
       "  'image': ['https://lush.co.kr/data/goods/18/12/52/1000000130/t50_1000000130_detail_030.png'],\n",
       "  'color': '#',\n",
       "  'category': '러쉬 > 크리스마스 > 크리스마스 기프트',\n",
       "  'salePrice': 63000,\n",
       "  'originalPrice': 63000,\n",
       "  'brand': 'lush',\n",
       "  'volume': '#'}]"
      ]
     },
     "metadata": {},
     "output_type": "display_data"
    },
    {
     "data": {
      "text/plain": [
       "[{'name': '슈팅 스타스',\n",
       "  'url': 'https://lush.co.kr/goods/goods_view.php?goodsNo=598',\n",
       "  'image': ['https://lush.co.kr/data/goods/18/10/04/598/t50_598_detail_098.png'],\n",
       "  'color': '#',\n",
       "  'category': '러쉬',\n",
       "  'salePrice': 13000,\n",
       "  'originalPrice': 13000,\n",
       "  'brand': 'lush',\n",
       "  'volume': '#'}]"
      ]
     },
     "metadata": {},
     "output_type": "display_data"
    },
    {
     "data": {
      "text/plain": [
       "[{'name': '스노우 페어리',\n",
       "  'url': 'https://lush.co.kr/goods/goods_view.php?goodsNo=518',\n",
       "  'image': ['https://lush.co.kr/data/goods/18/09/17/518/t50_518_detail_029.png'],\n",
       "  'color': '#',\n",
       "  'category': '러쉬',\n",
       "  'salePrice': 24000,\n",
       "  'originalPrice': 24000,\n",
       "  'brand': 'lush',\n",
       "  'volume': '#'}]"
      ]
     },
     "metadata": {},
     "output_type": "display_data"
    },
    {
     "data": {
      "text/plain": [
       "[{'name': '크랜베리 피즈',\n",
       "  'url': 'https://lush.co.kr/goods/goods_view.php?goodsNo=522',\n",
       "  'image': ['https://lush.co.kr/data/goods/18/09/17/522/t50_522_detail_046.png',\n",
       "   'https://lush.co.kr/data/goods/18/09/17/522/t50_522_detail_199.png'],\n",
       "  'color': '#',\n",
       "  'category': '러쉬 > 페이스 > 립',\n",
       "  'salePrice': 15000,\n",
       "  'originalPrice': 15000,\n",
       "  'brand': 'lush',\n",
       "  'volume': '#'}]"
      ]
     },
     "metadata": {},
     "output_type": "display_data"
    },
    {
     "data": {
      "text/plain": [
       "[{'name': '슬리피',\n",
       "  'url': 'https://lush.co.kr/goods/goods_view.php?goodsNo=517',\n",
       "  'image': ['https://lush.co.kr/data/goods/18/09/17/517/t50_517_detail_07.png'],\n",
       "  'color': '#',\n",
       "  'category': '러쉬',\n",
       "  'salePrice': 26000,\n",
       "  'originalPrice': 26000,\n",
       "  'brand': 'lush',\n",
       "  'volume': '#'}]"
      ]
     },
     "metadata": {},
     "output_type": "display_data"
    },
    {
     "data": {
      "text/plain": [
       "[{'name': '스노우맨 밤 밤',\n",
       "  'url': 'https://lush.co.kr/goods/goods_view.php?goodsNo=463',\n",
       "  'image': ['https://lush.co.kr/data/goods/18/09/14/463/t50_463_detail_030.png'],\n",
       "  'color': '#',\n",
       "  'category': '러쉬',\n",
       "  'salePrice': 26000,\n",
       "  'originalPrice': 26000,\n",
       "  'brand': 'lush',\n",
       "  'volume': '#'}]"
      ]
     },
     "metadata": {},
     "output_type": "display_data"
    },
    {
     "data": {
      "text/plain": [
       "[{'name': '더 나이트 비포 크리스마스',\n",
       "  'url': 'https://lush.co.kr/goods/goods_view.php?goodsNo=578',\n",
       "  'image': ['https://lush.co.kr/data/goods/18/09/27/578/t50_578_detail_036.png'],\n",
       "  'color': '#',\n",
       "  'category': '러쉬 > 크리스마스 > 크리스마스 기프트',\n",
       "  'salePrice': 35000,\n",
       "  'originalPrice': 35000,\n",
       "  'brand': 'lush',\n",
       "  'volume': '#'}]"
      ]
     },
     "metadata": {},
     "output_type": "display_data"
    },
    {
     "data": {
      "text/plain": [
       "[{'name': '홀리 베리',\n",
       "  'url': 'https://lush.co.kr/goods/goods_view.php?goodsNo=480',\n",
       "  'image': ['https://lush.co.kr/data/goods/18/09/17/480/t50_480_detail_033.png'],\n",
       "  'color': '#',\n",
       "  'category': '러쉬',\n",
       "  'salePrice': 22000,\n",
       "  'originalPrice': 22000,\n",
       "  'brand': 'lush',\n",
       "  'volume': '#'}]"
      ]
     },
     "metadata": {},
     "output_type": "display_data"
    },
    {
     "data": {
      "text/plain": [
       "[{'name': '더 노스 폴라 베어 레드',\n",
       "  'url': 'https://lush.co.kr/goods/goods_view.php?goodsNo=501',\n",
       "  'image': ['https://lush.co.kr/data/goods/18/09/17/501/t50_501_detail_079.png'],\n",
       "  'color': '#',\n",
       "  'category': '러쉬',\n",
       "  'salePrice': 16000,\n",
       "  'originalPrice': 16000,\n",
       "  'brand': 'lush',\n",
       "  'volume': '#'}]"
      ]
     },
     "metadata": {},
     "output_type": "display_data"
    },
    {
     "data": {
      "text/plain": [
       "[{'name': '샛수마',\n",
       "  'url': 'https://lush.co.kr/goods/goods_view.php?goodsNo=1000000104',\n",
       "  'image': ['https://lush.co.kr/data/goods/18/12/49/1000000104/t50_498_detail_070.png'],\n",
       "  'color': '#',\n",
       "  'category': '러쉬',\n",
       "  'salePrice': 18000,\n",
       "  'originalPrice': 18000,\n",
       "  'brand': 'lush',\n",
       "  'volume': '#'}]"
      ]
     },
     "metadata": {},
     "output_type": "display_data"
    },
    {
     "data": {
      "text/plain": [
       "[{'name': '아이스쇼글스',\n",
       "  'url': 'https://lush.co.kr/goods/goods_view.php?goodsNo=496',\n",
       "  'image': ['https://lush.co.kr/data/goods/18/09/17/496/t50_496_detail_014.png'],\n",
       "  'color': '#',\n",
       "  'category': '러쉬',\n",
       "  'salePrice': 18000,\n",
       "  'originalPrice': 18000,\n",
       "  'brand': 'lush',\n",
       "  'volume': '#'}]"
      ]
     },
     "metadata": {},
     "output_type": "display_data"
    },
    {
     "data": {
      "text/plain": [
       "[{'name': '골든 페어',\n",
       "  'url': 'https://lush.co.kr/goods/goods_view.php?goodsNo=554',\n",
       "  'image': ['https://lush.co.kr/data/goods/18/09/19/554/t50_554_detail_07.png'],\n",
       "  'color': '#',\n",
       "  'category': '러쉬',\n",
       "  'salePrice': 22000,\n",
       "  'originalPrice': 22000,\n",
       "  'brand': 'lush',\n",
       "  'volume': '#'}]"
      ]
     },
     "metadata": {},
     "output_type": "display_data"
    },
    {
     "data": {
      "text/plain": [
       "[{'name': '크리스팅글',\n",
       "  'url': 'https://lush.co.kr/goods/goods_view.php?goodsNo=482',\n",
       "  'image': ['https://lush.co.kr/data/goods/18/09/17/482/t50_482_detail_091.png',\n",
       "   'https://lush.co.kr/data/goods/18/09/17/482/t50_482_detail_178.png',\n",
       "   'https://lush.co.kr/data/goods/18/09/17/482/t50_482_detail_252.png'],\n",
       "  'color': '#',\n",
       "  'category': '러쉬',\n",
       "  'salePrice': 31000,\n",
       "  'originalPrice': 31000,\n",
       "  'brand': 'lush',\n",
       "  'volume': '100g'},\n",
       " {'name': '크리스팅글',\n",
       "  'url': 'https://lush.co.kr/goods/goods_view.php?goodsNo=482',\n",
       "  'image': ['https://lush.co.kr/data/goods/18/09/17/482/t50_482_detail_091.png',\n",
       "   'https://lush.co.kr/data/goods/18/09/17/482/t50_482_detail_178.png',\n",
       "   'https://lush.co.kr/data/goods/18/09/17/482/t50_482_detail_252.png'],\n",
       "  'color': '#',\n",
       "  'category': '러쉬',\n",
       "  'salePrice': 31000,\n",
       "  'originalPrice': 31000,\n",
       "  'brand': 'lush',\n",
       "  'volume': '225g:￦+27,000'}]"
      ]
     },
     "metadata": {},
     "output_type": "display_data"
    },
    {
     "data": {
      "text/plain": [
       "[{'name': '크리스마스 시트러스',\n",
       "  'url': 'https://lush.co.kr/goods/goods_view.php?goodsNo=494',\n",
       "  'image': ['https://lush.co.kr/data/goods/18/09/17/494/t50_494_detail_047.png'],\n",
       "  'color': '#',\n",
       "  'category': '러쉬',\n",
       "  'salePrice': 15000,\n",
       "  'originalPrice': 15000,\n",
       "  'brand': 'lush',\n",
       "  'volume': '#'}]"
      ]
     },
     "metadata": {},
     "output_type": "display_data"
    },
    {
     "data": {
      "text/plain": [
       "[{'name': '스노우 페어리',\n",
       "  'url': 'https://lush.co.kr/goods/goods_view.php?goodsNo=484',\n",
       "  'image': ['https://lush.co.kr/data/goods/18/09/17/484/t50_484_detail_011.png',\n",
       "   'https://lush.co.kr/data/goods/18/09/17/484/t50_484_detail_150.png',\n",
       "   'https://lush.co.kr/data/goods/18/09/17/484/t50_484_detail_210.png'],\n",
       "  'color': '#',\n",
       "  'category': '러쉬',\n",
       "  'salePrice': 22000,\n",
       "  'originalPrice': 22000,\n",
       "  'brand': 'lush',\n",
       "  'volume': '100g[품절]'},\n",
       " {'name': '스노우 페어리',\n",
       "  'url': 'https://lush.co.kr/goods/goods_view.php?goodsNo=484',\n",
       "  'image': ['https://lush.co.kr/data/goods/18/09/17/484/t50_484_detail_011.png',\n",
       "   'https://lush.co.kr/data/goods/18/09/17/484/t50_484_detail_150.png',\n",
       "   'https://lush.co.kr/data/goods/18/09/17/484/t50_484_detail_210.png'],\n",
       "  'color': '#',\n",
       "  'category': '러쉬',\n",
       "  'salePrice': 22000,\n",
       "  'originalPrice': 22000,\n",
       "  'brand': 'lush',\n",
       "  'volume': '225g:￦+18,000'}]"
      ]
     },
     "metadata": {},
     "output_type": "display_data"
    },
    {
     "data": {
      "text/plain": [
       "[{'name': '원스 어폰 어 크리스마스',\n",
       "  'url': 'https://lush.co.kr/goods/goods_view.php?goodsNo=537',\n",
       "  'image': ['https://lush.co.kr/data/goods/18/09/18/537/t50_537_detail_015.png'],\n",
       "  'color': '#',\n",
       "  'category': '러쉬',\n",
       "  'salePrice': 10000,\n",
       "  'originalPrice': 10000,\n",
       "  'brand': 'lush',\n",
       "  'volume': '#'}]"
      ]
     },
     "metadata": {},
     "output_type": "display_data"
    },
    {
     "data": {
      "text/plain": [
       "[{'name': '크리스마스 파티',\n",
       "  'url': 'https://lush.co.kr/goods/goods_view.php?goodsNo=530',\n",
       "  'image': ['https://lush.co.kr/data/goods/18/09/18/530/t50_530_detail_049.png'],\n",
       "  'color': '#',\n",
       "  'category': '러쉬',\n",
       "  'salePrice': 10000,\n",
       "  'originalPrice': 10000,\n",
       "  'brand': 'lush',\n",
       "  'volume': '#'}]"
      ]
     },
     "metadata": {},
     "output_type": "display_data"
    },
    {
     "data": {
      "text/plain": [
       "[{'name': '진저브레드',\n",
       "  'url': 'https://lush.co.kr/goods/goods_view.php?goodsNo=488',\n",
       "  'image': ['https://lush.co.kr/data/goods/18/09/17/488/t50_488_detail_076.png'],\n",
       "  'color': '#',\n",
       "  'category': '러쉬',\n",
       "  'salePrice': 20000,\n",
       "  'originalPrice': 20000,\n",
       "  'brand': 'lush',\n",
       "  'volume': '#'}]"
      ]
     },
     "metadata": {},
     "output_type": "display_data"
    },
    {
     "data": {
      "text/plain": [
       "[{'name': '로즈 아르간 스파클',\n",
       "  'url': 'https://lush.co.kr/goods/goods_view.php?goodsNo=486',\n",
       "  'image': ['https://lush.co.kr/data/goods/18/09/17/486/t50_486_detail_058.png'],\n",
       "  'color': '#',\n",
       "  'category': '러쉬',\n",
       "  'salePrice': 30000,\n",
       "  'originalPrice': 30000,\n",
       "  'brand': 'lush',\n",
       "  'volume': '#'}]"
      ]
     },
     "metadata": {},
     "output_type": "display_data"
    },
    {
     "data": {
      "text/plain": [
       "[{'name': '시즌스 그리팅스',\n",
       "  'url': 'https://lush.co.kr/goods/goods_view.php?goodsNo=573',\n",
       "  'image': ['https://lush.co.kr/data/goods/18/09/27/573/t50_573_detail_06.png'],\n",
       "  'color': '#',\n",
       "  'category': '러쉬',\n",
       "  'salePrice': 33000,\n",
       "  'originalPrice': 33000,\n",
       "  'brand': 'lush',\n",
       "  'volume': '#'}]"
      ]
     },
     "metadata": {},
     "output_type": "display_data"
    },
    {
     "data": {
      "text/plain": [
       "[{'name': '트와일라잇',\n",
       "  'url': 'https://lush.co.kr/goods/goods_view.php?goodsNo=489',\n",
       "  'image': ['https://lush.co.kr/data/goods/18/09/17/489/t50_489_detail_04.png'],\n",
       "  'color': '#',\n",
       "  'category': '러쉬',\n",
       "  'salePrice': 20000,\n",
       "  'originalPrice': 20000,\n",
       "  'brand': 'lush',\n",
       "  'volume': '#'}]"
      ]
     },
     "metadata": {},
     "output_type": "display_data"
    },
    {
     "data": {
      "text/plain": [
       "[{'name': '크리스팅글',\n",
       "  'url': 'https://lush.co.kr/goods/goods_view.php?goodsNo=552',\n",
       "  'image': ['https://lush.co.kr/data/goods/18/09/19/552/t50_552_detail_09.png'],\n",
       "  'color': '#',\n",
       "  'category': '러쉬',\n",
       "  'salePrice': 28000,\n",
       "  'originalPrice': 28000,\n",
       "  'brand': 'lush',\n",
       "  'volume': '#'}]"
      ]
     },
     "metadata": {},
     "output_type": "display_data"
    },
    {
     "data": {
      "text/plain": [
       "[{'name': '스노우 페어리',\n",
       "  'url': 'https://lush.co.kr/goods/goods_view.php?goodsNo=551',\n",
       "  'image': ['https://lush.co.kr/data/goods/18/09/19/551/t50_551_detail_089.png'],\n",
       "  'color': '#',\n",
       "  'category': '러쉬',\n",
       "  'salePrice': 20000,\n",
       "  'originalPrice': 20000,\n",
       "  'brand': 'lush',\n",
       "  'volume': '#'}]"
      ]
     },
     "metadata": {},
     "output_type": "display_data"
    },
    {
     "data": {
      "text/plain": [
       "[{'name': '미트 미 언더 더 미슬토',\n",
       "  'url': 'https://lush.co.kr/goods/goods_view.php?goodsNo=534',\n",
       "  'image': ['https://lush.co.kr/data/goods/18/09/18/534/t50_534_detail_044.png'],\n",
       "  'color': '#',\n",
       "  'category': '러쉬',\n",
       "  'salePrice': 12000,\n",
       "  'originalPrice': 12000,\n",
       "  'brand': 'lush',\n",
       "  'volume': '#'}]"
      ]
     },
     "metadata": {},
     "output_type": "display_data"
    },
    {
     "data": {
      "text/plain": [
       "[{'name': '호, 호, 호!',\n",
       "  'url': 'https://lush.co.kr/goods/goods_view.php?goodsNo=533',\n",
       "  'image': ['https://lush.co.kr/data/goods/18/09/18/533/t50_533_detail_046.png'],\n",
       "  'color': '#',\n",
       "  'category': '러쉬',\n",
       "  'salePrice': 12000,\n",
       "  'originalPrice': 12000,\n",
       "  'brand': 'lush',\n",
       "  'volume': '#'}]"
      ]
     },
     "metadata": {},
     "output_type": "display_data"
    },
    {
     "data": {
      "text/plain": [
       "[{'name': '윈터 플로랄',\n",
       "  'url': 'https://lush.co.kr/goods/goods_view.php?goodsNo=544',\n",
       "  'image': ['https://lush.co.kr/data/goods/18/09/18/544/t50_544_detail_062.png'],\n",
       "  'color': '#',\n",
       "  'category': '러쉬',\n",
       "  'salePrice': 12000,\n",
       "  'originalPrice': 12000,\n",
       "  'brand': 'lush',\n",
       "  'volume': '#'}]"
      ]
     },
     "metadata": {},
     "output_type": "display_data"
    },
    {
     "data": {
      "text/plain": [
       "[{'name': '스노우 페어리',\n",
       "  'url': 'https://lush.co.kr/goods/goods_view.php?goodsNo=542',\n",
       "  'image': ['https://lush.co.kr/data/goods/18/09/18/542/t50_542_detail_094.png'],\n",
       "  'color': '#',\n",
       "  'category': '러쉬',\n",
       "  'salePrice': 12000,\n",
       "  'originalPrice': 12000,\n",
       "  'brand': 'lush',\n",
       "  'volume': '#'}]"
      ]
     },
     "metadata": {},
     "output_type": "display_data"
    },
    {
     "data": {
      "text/plain": [
       "[{'name': '벅스 피즈',\n",
       "  'url': 'https://lush.co.kr/goods/goods_view.php?goodsNo=553',\n",
       "  'image': ['https://lush.co.kr/data/goods/18/09/19/553/t50_553_detail_016.png'],\n",
       "  'color': '#',\n",
       "  'category': '러쉬',\n",
       "  'salePrice': 25000,\n",
       "  'originalPrice': 25000,\n",
       "  'brand': 'lush',\n",
       "  'volume': '#'}]"
      ]
     },
     "metadata": {},
     "output_type": "display_data"
    },
    {
     "data": {
      "text/plain": [
       "[{'name': '크리스마스 크리터스',\n",
       "  'url': 'https://lush.co.kr/goods/goods_view.php?goodsNo=529',\n",
       "  'image': ['https://lush.co.kr/data/goods/18/09/18/529/t50_529_detail_023.png'],\n",
       "  'color': '#',\n",
       "  'category': '러쉬',\n",
       "  'salePrice': 12000,\n",
       "  'originalPrice': 12000,\n",
       "  'brand': 'lush',\n",
       "  'volume': '#'}]"
      ]
     },
     "metadata": {},
     "output_type": "display_data"
    },
    {
     "data": {
      "text/plain": [
       "[{'name': '베스트 위시스',\n",
       "  'url': 'https://lush.co.kr/goods/goods_view.php?goodsNo=568',\n",
       "  'image': ['https://lush.co.kr/data/goods/18/09/27/568/t50_568_detail_025.png'],\n",
       "  'color': '#',\n",
       "  'category': '러쉬',\n",
       "  'salePrice': 49000,\n",
       "  'originalPrice': 49000,\n",
       "  'brand': 'lush',\n",
       "  'volume': '#'}]"
      ]
     },
     "metadata": {},
     "output_type": "display_data"
    },
    {
     "data": {
      "text/plain": [
       "[{'name': '펀 가이스',\n",
       "  'url': 'https://lush.co.kr/goods/goods_view.php?goodsNo=531',\n",
       "  'image': ['https://lush.co.kr/data/goods/18/09/18/531/t50_531_detail_037.png'],\n",
       "  'color': '#',\n",
       "  'category': '러쉬',\n",
       "  'salePrice': 10000,\n",
       "  'originalPrice': 10000,\n",
       "  'brand': 'lush',\n",
       "  'volume': '#'}]"
      ]
     },
     "metadata": {},
     "output_type": "display_data"
    },
    {
     "data": {
      "text/plain": [
       "[{'name': '휘게 홀리데이스',\n",
       "  'url': 'https://lush.co.kr/goods/goods_view.php?goodsNo=566',\n",
       "  'image': ['https://lush.co.kr/data/goods/18/09/20/566/t50_566_detail_047.png'],\n",
       "  'color': '#',\n",
       "  'category': '러쉬',\n",
       "  'salePrice': 54000,\n",
       "  'originalPrice': 54000,\n",
       "  'brand': 'lush',\n",
       "  'volume': '#'}]"
      ]
     },
     "metadata": {},
     "output_type": "display_data"
    },
    {
     "data": {
      "text/plain": [
       "[{'name': '피어스 고 팝',\n",
       "  'url': 'https://lush.co.kr/goods/goods_view.php?goodsNo=538',\n",
       "  'image': ['https://lush.co.kr/data/goods/18/09/18/538/t50_538_detail_05.png'],\n",
       "  'color': '#',\n",
       "  'category': '러쉬',\n",
       "  'salePrice': 10000,\n",
       "  'originalPrice': 10000,\n",
       "  'brand': 'lush',\n",
       "  'volume': '#'}]"
      ]
     },
     "metadata": {},
     "output_type": "display_data"
    },
    {
     "data": {
      "text/plain": [
       "[{'name': '뱅!',\n",
       "  'url': 'https://lush.co.kr/goods/goods_view.php?goodsNo=560',\n",
       "  'image': ['https://lush.co.kr/data/goods/18/09/20/560/t50_560_detail_056.png'],\n",
       "  'color': '#',\n",
       "  'category': '러쉬',\n",
       "  'salePrice': 88000,\n",
       "  'originalPrice': 88000,\n",
       "  'brand': 'lush',\n",
       "  'volume': '#'}]"
      ]
     },
     "metadata": {},
     "output_type": "display_data"
    },
    {
     "data": {
      "text/plain": [
       "[{'name': '스노우 글로브',\n",
       "  'url': 'https://lush.co.kr/goods/goods_view.php?goodsNo=593',\n",
       "  'image': ['https://lush.co.kr/data/goods/18/09/27/593/t50_593_detail_068.png'],\n",
       "  'color': '#',\n",
       "  'category': '러쉬',\n",
       "  'salePrice': 83000,\n",
       "  'originalPrice': 83000,\n",
       "  'brand': 'lush',\n",
       "  'volume': '#'}]"
      ]
     },
     "metadata": {},
     "output_type": "display_data"
    },
    {
     "data": {
      "text/plain": [
       "[{'name': '로저 앤드 더 빅 스키',\n",
       "  'url': 'https://lush.co.kr/goods/goods_view.php?goodsNo=540',\n",
       "  'image': ['https://lush.co.kr/data/goods/18/09/18/540/t50_540_detail_041.png'],\n",
       "  'color': '#',\n",
       "  'category': '러쉬',\n",
       "  'salePrice': 12000,\n",
       "  'originalPrice': 12000,\n",
       "  'brand': 'lush',\n",
       "  'volume': '#'}]"
      ]
     },
     "metadata": {},
     "output_type": "display_data"
    },
    {
     "data": {
      "text/plain": [
       "[{'name': '어텀 리브스',\n",
       "  'url': 'https://lush.co.kr/goods/goods_view.php?goodsNo=527',\n",
       "  'image': ['https://lush.co.kr/data/goods/18/09/18/527/t50_527_detail_020.png'],\n",
       "  'color': '#',\n",
       "  'category': '러쉬',\n",
       "  'salePrice': 12000,\n",
       "  'originalPrice': 12000,\n",
       "  'brand': 'lush',\n",
       "  'volume': '#'}]"
      ]
     },
     "metadata": {},
     "output_type": "display_data"
    },
    {
     "data": {
      "text/plain": [
       "[{'name': '스타더스트',\n",
       "  'url': 'https://lush.co.kr/goods/goods_view.php?goodsNo=1000000120',\n",
       "  'image': ['https://lush.co.kr/data/goods/18/12/50/1000000120/t50_1000000120_detail_089.png'],\n",
       "  'color': '#',\n",
       "  'category': '러쉬 > 크리스마스 > 크리스마스 기프트',\n",
       "  'salePrice': 101000,\n",
       "  'originalPrice': 101000,\n",
       "  'brand': 'lush',\n",
       "  'volume': '#'}]"
      ]
     },
     "metadata": {},
     "output_type": "display_data"
    },
    {
     "data": {
      "text/plain": [
       "[{'name': '팽',\n",
       "  'url': 'https://lush.co.kr/goods/goods_view.php?goodsNo=564',\n",
       "  'image': ['https://lush.co.kr/data/goods/18/09/20/564/t50_564_detail_045.png'],\n",
       "  'color': '#',\n",
       "  'category': '러쉬',\n",
       "  'salePrice': 24000,\n",
       "  'originalPrice': 24000,\n",
       "  'brand': 'lush',\n",
       "  'volume': '#'}]"
      ]
     },
     "metadata": {},
     "output_type": "display_data"
    },
    {
     "data": {
      "text/plain": [
       "[{'name': '윈터 원더랜드',\n",
       "  'url': 'https://lush.co.kr/goods/goods_view.php?goodsNo=545',\n",
       "  'image': ['https://lush.co.kr/data/goods/18/09/18/545/t50_545_detail_025.png'],\n",
       "  'color': '#',\n",
       "  'category': '러쉬',\n",
       "  'salePrice': 25000,\n",
       "  'originalPrice': 25000,\n",
       "  'brand': 'lush',\n",
       "  'volume': '#'}]"
      ]
     },
     "metadata": {},
     "output_type": "display_data"
    },
    {
     "data": {
      "text/plain": [
       "[{'name': '펄 드 셀',\n",
       "  'url': 'https://lush.co.kr/goods/goods_view.php?goodsNo=459',\n",
       "  'image': ['https://lush.co.kr/data/goods/18/09/14/459/t50_459_detail_04.png'],\n",
       "  'color': '#',\n",
       "  'category': '러쉬',\n",
       "  'salePrice': 16000,\n",
       "  'originalPrice': 16000,\n",
       "  'brand': 'lush',\n",
       "  'volume': '#'}]"
      ]
     },
     "metadata": {},
     "output_type": "display_data"
    },
    {
     "data": {
      "text/plain": [
       "[{'name': '버터베어',\n",
       "  'url': 'https://lush.co.kr/goods/goods_view.php?goodsNo=452',\n",
       "  'image': ['https://lush.co.kr/data/goods/18/09/14/452/t50_452_detail_03.png'],\n",
       "  'color': '#',\n",
       "  'category': '러쉬',\n",
       "  'salePrice': 8000,\n",
       "  'originalPrice': 8000,\n",
       "  'brand': 'lush',\n",
       "  'volume': '#'}]"
      ]
     },
     "metadata": {},
     "output_type": "display_data"
    },
    {
     "data": {
      "text/plain": [
       "[{'name': '스노우 페어리',\n",
       "  'url': 'https://lush.co.kr/goods/goods_view.php?goodsNo=487',\n",
       "  'image': ['https://lush.co.kr/data/goods/18/09/17/487/t50_487_detail_098.png',\n",
       "   'https://lush.co.kr/data/goods/18/09/17/487/t50_487_detail_171.png'],\n",
       "  'color': '#',\n",
       "  'category': '러쉬 > 보디 > 보디 스프레이',\n",
       "  'salePrice': 55000,\n",
       "  'originalPrice': 55000,\n",
       "  'brand': 'lush',\n",
       "  'volume': '#'}]"
      ]
     },
     "metadata": {},
     "output_type": "display_data"
    },
    {
     "data": {
      "text/plain": [
       "[{'name': '스타 라이트 스타 브라이트',\n",
       "  'url': 'https://lush.co.kr/goods/goods_view.php?goodsNo=476',\n",
       "  'image': ['https://lush.co.kr/data/goods/18/09/14/476/t50_476_detail_076.png'],\n",
       "  'color': '#',\n",
       "  'category': '러쉬',\n",
       "  'salePrice': 14000,\n",
       "  'originalPrice': 14000,\n",
       "  'brand': 'lush',\n",
       "  'volume': '#'}]"
      ]
     },
     "metadata": {},
     "output_type": "display_data"
    },
    {
     "data": {
      "text/plain": [
       "[{'name': '더 월드스 스몰리스트 디스코',\n",
       "  'url': 'https://lush.co.kr/goods/goods_view.php?goodsNo=464',\n",
       "  'image': ['https://lush.co.kr/data/goods/18/09/14/464/t50_464_detail_099.png'],\n",
       "  'color': '#',\n",
       "  'category': '러쉬',\n",
       "  'salePrice': 17000,\n",
       "  'originalPrice': 17000,\n",
       "  'brand': 'lush',\n",
       "  'volume': '#'}]"
      ]
     },
     "metadata": {},
     "output_type": "display_data"
    },
    {
     "data": {
      "text/plain": [
       "[{'name': '플럼 푸딩',\n",
       "  'url': 'https://lush.co.kr/goods/goods_view.php?goodsNo=475',\n",
       "  'image': ['https://lush.co.kr/data/goods/18/09/14/475/t50_475_detail_076.png'],\n",
       "  'color': '#',\n",
       "  'category': '러쉬',\n",
       "  'salePrice': 18000,\n",
       "  'originalPrice': 18000,\n",
       "  'brand': 'lush',\n",
       "  'volume': '#'}]"
      ]
     },
     "metadata": {},
     "output_type": "display_data"
    },
    {
     "data": {
      "text/plain": [
       "[{'name': '드리밍 오브 크리스마스',\n",
       "  'url': 'https://lush.co.kr/goods/goods_view.php?goodsNo=583',\n",
       "  'image': ['https://lush.co.kr/data/goods/18/09/27/583/t50_583_detail_07.png'],\n",
       "  'color': '#',\n",
       "  'category': '러쉬 > 크리스마스 > 크리스마스 기프트',\n",
       "  'salePrice': 50000,\n",
       "  'originalPrice': 50000,\n",
       "  'brand': 'lush',\n",
       "  'volume': '#'}]"
      ]
     },
     "metadata": {},
     "output_type": "display_data"
    },
    {
     "data": {
      "text/plain": [
       "[{'name': '스노우 페어리',\n",
       "  'url': 'https://lush.co.kr/goods/goods_view.php?goodsNo=559',\n",
       "  'image': ['https://lush.co.kr/data/goods/18/09/20/559/t50_559_detail_026.png'],\n",
       "  'color': '#',\n",
       "  'category': '러쉬',\n",
       "  'salePrice': 21000,\n",
       "  'originalPrice': 21000,\n",
       "  'brand': 'lush',\n",
       "  'volume': '#'}]"
      ]
     },
     "metadata": {},
     "output_type": "display_data"
    },
    {
     "data": {
      "text/plain": [
       "[{'name': '페스티브 프렌즈 펀',\n",
       "  'url': 'https://lush.co.kr/goods/goods_view.php?goodsNo=477',\n",
       "  'image': ['https://lush.co.kr/data/goods/18/09/14/477/t50_477_detail_095.png'],\n",
       "  'color': '#',\n",
       "  'category': '러쉬',\n",
       "  'salePrice': 25000,\n",
       "  'originalPrice': 25000,\n",
       "  'brand': 'lush',\n",
       "  'volume': '#'}]"
      ]
     },
     "metadata": {},
     "output_type": "display_data"
    },
    {
     "data": {
      "text/plain": [
       "[{'name': '원스 어폰 어 타임',\n",
       "  'url': 'https://lush.co.kr/goods/goods_view.php?goodsNo=493',\n",
       "  'image': ['https://lush.co.kr/data/goods/18/09/17/493/t50_493_detail_026.png'],\n",
       "  'color': '#',\n",
       "  'category': '러쉬',\n",
       "  'salePrice': 25000,\n",
       "  'originalPrice': 25000,\n",
       "  'brand': 'lush',\n",
       "  'volume': '#'}]"
      ]
     },
     "metadata": {},
     "output_type": "display_data"
    },
    {
     "data": {
      "text/plain": [
       "[{'name': '루돌프',\n",
       "  'url': 'https://lush.co.kr/goods/goods_view.php?goodsNo=521',\n",
       "  'image': ['https://lush.co.kr/data/goods/18/09/17/521/t50_521_detail_052.png',\n",
       "   'https://lush.co.kr/data/goods/18/09/17/521/t50_521_detail_157.png'],\n",
       "  'color': '#',\n",
       "  'category': '러쉬 > 페이스 > 젤리 마스크',\n",
       "  'salePrice': 18000,\n",
       "  'originalPrice': 18000,\n",
       "  'brand': 'lush',\n",
       "  'volume': '#'}]"
      ]
     },
     "metadata": {},
     "output_type": "display_data"
    },
    {
     "data": {
      "text/plain": [
       "[{'name': '리틀 스노우 페어리',\n",
       "  'url': 'https://lush.co.kr/goods/goods_view.php?goodsNo=587',\n",
       "  'image': ['https://lush.co.kr/data/goods/18/09/27/587/t50_587_detail_011.png'],\n",
       "  'color': '#',\n",
       "  'category': '러쉬',\n",
       "  'salePrice': 35000,\n",
       "  'originalPrice': 35000,\n",
       "  'brand': 'lush',\n",
       "  'volume': '#'}]"
      ]
     },
     "metadata": {},
     "output_type": "display_data"
    },
    {
     "data": {
      "text/plain": [
       "[{'name': '슈팅 스타스',\n",
       "  'url': 'https://lush.co.kr/goods/goods_view.php?goodsNo=499',\n",
       "  'image': ['https://lush.co.kr/data/goods/18/09/17/499/t50_499_detail_042.png'],\n",
       "  'color': '#',\n",
       "  'category': '러쉬',\n",
       "  'salePrice': 13000,\n",
       "  'originalPrice': 13000,\n",
       "  'brand': 'lush',\n",
       "  'volume': '#'}]"
      ]
     },
     "metadata": {},
     "output_type": "display_data"
    },
    {
     "data": {
      "text/plain": [
       "[{'name': '와일드 띵스!',\n",
       "  'url': 'https://lush.co.kr/goods/goods_view.php?goodsNo=596',\n",
       "  'image': ['https://lush.co.kr/data/goods/18/09/27/596/t50_596_detail_019.png'],\n",
       "  'color': '#',\n",
       "  'category': '러쉬',\n",
       "  'salePrice': 76000,\n",
       "  'originalPrice': 76000,\n",
       "  'brand': 'lush',\n",
       "  'volume': '#'}]"
      ]
     },
     "metadata": {},
     "output_type": "display_data"
    },
    {
     "data": {
      "text/plain": [
       "[{'name': '졸리 홀리데이스',\n",
       "  'url': 'https://lush.co.kr/goods/goods_view.php?goodsNo=567',\n",
       "  'image': ['https://lush.co.kr/data/goods/18/09/20/567/t50_567_detail_078.png'],\n",
       "  'color': '#',\n",
       "  'category': '러쉬',\n",
       "  'salePrice': 105000,\n",
       "  'originalPrice': 105000,\n",
       "  'brand': 'lush',\n",
       "  'volume': '#'}]"
      ]
     },
     "metadata": {},
     "output_type": "display_data"
    },
    {
     "data": {
      "text/plain": [
       "[{'name': '조이 투 더 월드',\n",
       "  'url': 'https://lush.co.kr/goods/goods_view.php?goodsNo=586',\n",
       "  'image': ['https://lush.co.kr/data/goods/18/09/27/586/t50_586_detail_013.png'],\n",
       "  'color': '#',\n",
       "  'category': '러쉬',\n",
       "  'salePrice': 33000,\n",
       "  'originalPrice': 33000,\n",
       "  'brand': 'lush',\n",
       "  'volume': '#'}]"
      ]
     },
     "metadata": {},
     "output_type": "display_data"
    },
    {
     "data": {
      "text/plain": [
       "[{'name': '슈가 플럼 페어리',\n",
       "  'url': 'https://lush.co.kr/goods/goods_view.php?goodsNo=479',\n",
       "  'image': ['https://lush.co.kr/data/goods/18/09/14/479/t50_479_detail_033.png'],\n",
       "  'color': '#',\n",
       "  'category': '러쉬',\n",
       "  'salePrice': 8000,\n",
       "  'originalPrice': 8000,\n",
       "  'brand': 'lush',\n",
       "  'volume': '#'}]"
      ]
     },
     "metadata": {},
     "output_type": "display_data"
    },
    {
     "data": {
      "text/plain": [
       "[{'name': '스타 게이징',\n",
       "  'url': 'https://lush.co.kr/goods/goods_view.php?goodsNo=594',\n",
       "  'image': ['https://lush.co.kr/data/goods/18/09/27/594/t50_594_detail_085.png'],\n",
       "  'color': '#',\n",
       "  'category': '러쉬',\n",
       "  'salePrice': 110000,\n",
       "  'originalPrice': 110000,\n",
       "  'brand': 'lush',\n",
       "  'volume': '#'}]"
      ]
     },
     "metadata": {},
     "output_type": "display_data"
    },
    {
     "data": {
      "text/plain": [
       "[{'name': '스위트 크리스마스',\n",
       "  'url': 'https://lush.co.kr/goods/goods_view.php?goodsNo=576',\n",
       "  'image': ['https://lush.co.kr/data/goods/18/09/27/576/t50_576_detail_060.png'],\n",
       "  'color': '#',\n",
       "  'category': '러쉬',\n",
       "  'salePrice': 27000,\n",
       "  'originalPrice': 27000,\n",
       "  'brand': 'lush',\n",
       "  'volume': '#'}]"
      ]
     },
     "metadata": {},
     "output_type": "display_data"
    },
    {
     "data": {
      "text/plain": [
       "[{'name': '조이풀',\n",
       "  'url': 'https://lush.co.kr/goods/goods_view.php?goodsNo=572',\n",
       "  'image': ['https://lush.co.kr/data/goods/18/09/27/572/t50_572_detail_019.png'],\n",
       "  'color': '#',\n",
       "  'category': '러쉬',\n",
       "  'salePrice': 49000,\n",
       "  'originalPrice': 49000,\n",
       "  'brand': 'lush',\n",
       "  'volume': '#'}]"
      ]
     },
     "metadata": {},
     "output_type": "display_data"
    },
    {
     "data": {
      "text/plain": [
       "[{'name': '스파클리 펌킨',\n",
       "  'url': 'https://lush.co.kr/goods/goods_view.php?goodsNo=550',\n",
       "  'image': ['https://lush.co.kr/data/goods/18/09/19/550/t50_550_detail_082.png'],\n",
       "  'color': '#',\n",
       "  'category': '러쉬',\n",
       "  'salePrice': 13000,\n",
       "  'originalPrice': 13000,\n",
       "  'brand': 'lush',\n",
       "  'volume': '#'}]"
      ]
     },
     "metadata": {},
     "output_type": "display_data"
    },
    {
     "data": {
      "text/plain": [
       "[{'name': '로드 오브 미스룰',\n",
       "  'url': 'https://lush.co.kr/goods/goods_view.php?goodsNo=456',\n",
       "  'image': ['https://lush.co.kr/data/goods/18/09/14/456/t50_456_detail_027.png'],\n",
       "  'color': '#',\n",
       "  'category': '러쉬',\n",
       "  'salePrice': 14000,\n",
       "  'originalPrice': 14000,\n",
       "  'brand': 'lush',\n",
       "  'volume': '#'}]"
      ]
     },
     "metadata": {},
     "output_type": "display_data"
    },
    {
     "data": {
      "text/plain": [
       "[{'name': '시크릿 가든',\n",
       "  'url': 'https://lush.co.kr/goods/goods_view.php?goodsNo=591',\n",
       "  'image': ['https://lush.co.kr/data/goods/18/09/27/591/t50_591_detail_076.png'],\n",
       "  'color': '#',\n",
       "  'category': '러쉬',\n",
       "  'salePrice': 100000,\n",
       "  'originalPrice': 100000,\n",
       "  'brand': 'lush',\n",
       "  'volume': '#'}]"
      ]
     },
     "metadata": {},
     "output_type": "display_data"
    },
    {
     "data": {
      "text/plain": [
       "[{'name': '테이크 햇 앤드 파티!',\n",
       "  'url': 'https://lush.co.kr/goods/goods_view.php?goodsNo=577',\n",
       "  'image': ['https://lush.co.kr/data/goods/18/09/27/577/t50_577_detail_043.png'],\n",
       "  'color': '#',\n",
       "  'category': '러쉬',\n",
       "  'salePrice': 49000,\n",
       "  'originalPrice': 49000,\n",
       "  'brand': 'lush',\n",
       "  'volume': '#'}]"
      ]
     },
     "metadata": {},
     "output_type": "display_data"
    },
    {
     "data": {
      "text/plain": [
       "[{'name': '파이어워크스',\n",
       "  'url': 'https://lush.co.kr/goods/goods_view.php?goodsNo=565',\n",
       "  'image': ['https://lush.co.kr/data/goods/18/09/20/565/t50_565_detail_079.png'],\n",
       "  'color': '#',\n",
       "  'category': '러쉬',\n",
       "  'salePrice': 51000,\n",
       "  'originalPrice': 51000,\n",
       "  'brand': 'lush',\n",
       "  'volume': '#'}]"
      ]
     },
     "metadata": {},
     "output_type": "display_data"
    },
    {
     "data": {
      "text/plain": [
       "[{'name': '몬스터스 볼',\n",
       "  'url': 'https://lush.co.kr/goods/goods_view.php?goodsNo=458',\n",
       "  'image': ['https://lush.co.kr/data/goods/18/09/14/458/t50_458_detail_073.png'],\n",
       "  'color': '#',\n",
       "  'category': '러쉬',\n",
       "  'salePrice': 16000,\n",
       "  'originalPrice': 16000,\n",
       "  'brand': 'lush',\n",
       "  'volume': '#'}]"
      ]
     },
     "metadata": {},
     "output_type": "display_data"
    },
    {
     "data": {
      "text/plain": [
       "[{'name': '아이 볼',\n",
       "  'url': 'https://lush.co.kr/goods/goods_view.php?goodsNo=454',\n",
       "  'image': ['https://lush.co.kr/data/goods/18/09/14/454/t50_454_detail_025.png'],\n",
       "  'color': '#',\n",
       "  'category': '러쉬',\n",
       "  'salePrice': 14000,\n",
       "  'originalPrice': 14000,\n",
       "  'brand': 'lush',\n",
       "  'volume': '#'}]"
      ]
     },
     "metadata": {},
     "output_type": "display_data"
    },
    {
     "data": {
      "text/plain": [
       "[{'name': '메리 크리스마스',\n",
       "  'url': 'https://lush.co.kr/goods/goods_view.php?goodsNo=588',\n",
       "  'image': ['https://lush.co.kr/data/goods/18/09/27/588/t50_588_detail_096.png'],\n",
       "  'color': '#',\n",
       "  'category': '러쉬',\n",
       "  'salePrice': 68000,\n",
       "  'originalPrice': 68000,\n",
       "  'brand': 'lush',\n",
       "  'volume': '#'}]"
      ]
     },
     "metadata": {},
     "output_type": "display_data"
    },
    {
     "data": {
      "text/plain": [
       "[{'name': '고스트 인 더 다크',\n",
       "  'url': 'https://lush.co.kr/goods/goods_view.php?goodsNo=495',\n",
       "  'image': ['https://lush.co.kr/data/goods/18/09/17/495/t50_495_detail_026.png'],\n",
       "  'color': '#',\n",
       "  'category': '러쉬',\n",
       "  'salePrice': 15000,\n",
       "  'originalPrice': 15000,\n",
       "  'brand': 'lush',\n",
       "  'volume': '#'}]"
      ]
     },
     "metadata": {},
     "output_type": "display_data"
    },
    {
     "data": {
      "text/plain": [
       "[{'name': '페어리 더스트',\n",
       "  'url': 'https://lush.co.kr/goods/goods_view.php?goodsNo=478',\n",
       "  'image': ['https://lush.co.kr/data/goods/18/09/14/478/t50_478_detail_046.png',\n",
       "   'https://lush.co.kr/data/goods/18/09/14/478/t50_478_detail_187.png'],\n",
       "  'color': '#',\n",
       "  'category': '러쉬',\n",
       "  'salePrice': 20000,\n",
       "  'originalPrice': 20000,\n",
       "  'brand': 'lush',\n",
       "  'volume': '#'}]"
      ]
     },
     "metadata": {},
     "output_type": "display_data"
    },
    {
     "data": {
      "text/plain": [
       "[{'name': '원스 어폰 어 크리스마스',\n",
       "  'url': 'https://lush.co.kr/goods/goods_view.php?goodsNo=589',\n",
       "  'image': ['https://lush.co.kr/data/goods/18/09/27/589/t50_589_detail_04.png'],\n",
       "  'color': '#',\n",
       "  'category': '러쉬',\n",
       "  'salePrice': 50000,\n",
       "  'originalPrice': 50000,\n",
       "  'brand': 'lush',\n",
       "  'volume': '#'}]"
      ]
     },
     "metadata": {},
     "output_type": "display_data"
    },
    {
     "data": {
      "text/plain": [
       "[{'name': '크리스마스 캔디 박스',\n",
       "  'url': 'https://lush.co.kr/goods/goods_view.php?goodsNo=582',\n",
       "  'image': ['https://lush.co.kr/data/goods/18/09/27/582/t50_582_detail_099.png'],\n",
       "  'color': '#',\n",
       "  'category': '러쉬',\n",
       "  'salePrice': 54000,\n",
       "  'originalPrice': 54000,\n",
       "  'brand': 'lush',\n",
       "  'volume': '#'}]"
      ]
     },
     "metadata": {},
     "output_type": "display_data"
    },
    {
     "data": {
      "text/plain": [
       "[{'name': '스노우 페어리',\n",
       "  'url': 'https://lush.co.kr/goods/goods_view.php?goodsNo=592',\n",
       "  'image': ['https://lush.co.kr/data/goods/18/09/27/592/t50_592_detail_097.png'],\n",
       "  'color': '#',\n",
       "  'category': '러쉬',\n",
       "  'salePrice': 80000,\n",
       "  'originalPrice': 80000,\n",
       "  'brand': 'lush',\n",
       "  'volume': '#'}]"
      ]
     },
     "metadata": {},
     "output_type": "display_data"
    },
    {
     "data": {
      "text/plain": [
       "[{'name': '로지 크리스마스',\n",
       "  'url': 'https://lush.co.kr/goods/goods_view.php?goodsNo=590',\n",
       "  'image': ['https://lush.co.kr/data/goods/18/09/27/590/t50_590_detail_04.png'],\n",
       "  'color': '#',\n",
       "  'category': '러쉬',\n",
       "  'salePrice': 29000,\n",
       "  'originalPrice': 29000,\n",
       "  'brand': 'lush',\n",
       "  'volume': '#'}]"
      ]
     },
     "metadata": {},
     "output_type": "display_data"
    },
    {
     "data": {
      "text/plain": [
       "[{'name': '잇츠 크리스마스 디어',\n",
       "  'url': 'https://lush.co.kr/goods/goods_view.php?goodsNo=585',\n",
       "  'image': ['https://lush.co.kr/data/goods/18/09/27/585/t50_585_detail_064.png'],\n",
       "  'color': '#',\n",
       "  'category': '러쉬',\n",
       "  'salePrice': 120000,\n",
       "  'originalPrice': 120000,\n",
       "  'brand': 'lush',\n",
       "  'volume': '#'}]"
      ]
     },
     "metadata": {},
     "output_type": "display_data"
    },
    {
     "data": {
      "text/plain": [
       "[{'name': '인투 더 우즈',\n",
       "  'url': 'https://lush.co.kr/goods/goods_view.php?goodsNo=584',\n",
       "  'image': ['https://lush.co.kr/data/goods/18/09/27/584/t50_584_detail_044.png'],\n",
       "  'color': '#',\n",
       "  'category': '러쉬',\n",
       "  'salePrice': 240000,\n",
       "  'originalPrice': 240000,\n",
       "  'brand': 'lush',\n",
       "  'volume': '#'}]"
      ]
     },
     "metadata": {},
     "output_type": "display_data"
    },
    {
     "data": {
      "text/plain": [
       "[{'name': '베리 크리스마스',\n",
       "  'url': 'https://lush.co.kr/goods/goods_view.php?goodsNo=580',\n",
       "  'image': ['https://lush.co.kr/data/goods/18/09/27/580/t50_580_detail_068.png'],\n",
       "  'color': '#',\n",
       "  'category': '러쉬',\n",
       "  'salePrice': 26000,\n",
       "  'originalPrice': 26000,\n",
       "  'brand': 'lush',\n",
       "  'volume': '#'}]"
      ]
     },
     "metadata": {},
     "output_type": "display_data"
    },
    {
     "data": {
      "text/plain": [
       "[{'name': '골든 원더',\n",
       "  'url': 'https://lush.co.kr/goods/goods_view.php?goodsNo=571',\n",
       "  'image': ['https://lush.co.kr/data/goods/18/09/27/571/t50_571_detail_083.png'],\n",
       "  'color': '#',\n",
       "  'category': '러쉬',\n",
       "  'salePrice': 75000,\n",
       "  'originalPrice': 75000,\n",
       "  'brand': 'lush',\n",
       "  'volume': '#'}]"
      ]
     },
     "metadata": {},
     "output_type": "display_data"
    },
    {
     "data": {
      "text/plain": [
       "[{'name': '덱 더 홀스',\n",
       "  'url': 'https://lush.co.kr/goods/goods_view.php?goodsNo=563',\n",
       "  'image': ['https://lush.co.kr/data/goods/18/09/20/563/t50_563_detail_011.png'],\n",
       "  'color': '#',\n",
       "  'category': '러쉬',\n",
       "  'salePrice': 38000,\n",
       "  'originalPrice': 38000,\n",
       "  'brand': 'lush',\n",
       "  'volume': '#'}]"
      ]
     },
     "metadata": {},
     "output_type": "display_data"
    },
    {
     "data": {
      "text/plain": [
       "[{'name': '타로',\n",
       "  'url': 'https://lush.co.kr/goods/goods_view.php?goodsNo=543',\n",
       "  'image': ['https://lush.co.kr/data/goods/18/09/18/543/t50_543_detail_075.png'],\n",
       "  'color': '#',\n",
       "  'category': '러쉬',\n",
       "  'salePrice': 25000,\n",
       "  'originalPrice': 25000,\n",
       "  'brand': 'lush',\n",
       "  'volume': '#'}]"
      ]
     },
     "metadata": {},
     "output_type": "display_data"
    },
    {
     "data": {
      "text/plain": [
       "[{'name': '신더스',\n",
       "  'url': 'https://lush.co.kr/goods/goods_view.php?goodsNo=515',\n",
       "  'image': ['https://lush.co.kr/data/goods/18/09/17/515/t50_515_detail_022.png'],\n",
       "  'color': '#',\n",
       "  'category': '러쉬',\n",
       "  'salePrice': 23000,\n",
       "  'originalPrice': 23000,\n",
       "  'brand': 'lush',\n",
       "  'volume': '#'}]"
      ]
     },
     "metadata": {},
     "output_type": "display_data"
    },
    {
     "data": {
      "text/plain": [
       "[{'name': '엑토플라즘',\n",
       "  'url': 'https://lush.co.kr/goods/goods_view.php?goodsNo=505',\n",
       "  'image': ['https://lush.co.kr/data/goods/18/09/17/505/t50_505_detail_093.png',\n",
       "   'https://lush.co.kr/data/goods/18/09/17/505/t50_505_detail_153.png',\n",
       "   'https://lush.co.kr/data/goods/18/09/17/505/t50_505_detail_214.png',\n",
       "   'https://lush.co.kr/data/goods/18/09/17/505/t50_505_detail_368.png'],\n",
       "  'color': '#',\n",
       "  'category': '러쉬',\n",
       "  'salePrice': 14000,\n",
       "  'originalPrice': 14000,\n",
       "  'brand': 'lush',\n",
       "  'volume': '110g'},\n",
       " {'name': '엑토플라즘',\n",
       "  'url': 'https://lush.co.kr/goods/goods_view.php?goodsNo=505',\n",
       "  'image': ['https://lush.co.kr/data/goods/18/09/17/505/t50_505_detail_093.png',\n",
       "   'https://lush.co.kr/data/goods/18/09/17/505/t50_505_detail_153.png',\n",
       "   'https://lush.co.kr/data/goods/18/09/17/505/t50_505_detail_214.png',\n",
       "   'https://lush.co.kr/data/goods/18/09/17/505/t50_505_detail_368.png'],\n",
       "  'color': '#',\n",
       "  'category': '러쉬',\n",
       "  'salePrice': 14000,\n",
       "  'originalPrice': 14000,\n",
       "  'brand': 'lush',\n",
       "  'volume': '260g:￦+14,000'},\n",
       " {'name': '엑토플라즘',\n",
       "  'url': 'https://lush.co.kr/goods/goods_view.php?goodsNo=505',\n",
       "  'image': ['https://lush.co.kr/data/goods/18/09/17/505/t50_505_detail_093.png',\n",
       "   'https://lush.co.kr/data/goods/18/09/17/505/t50_505_detail_153.png',\n",
       "   'https://lush.co.kr/data/goods/18/09/17/505/t50_505_detail_214.png',\n",
       "   'https://lush.co.kr/data/goods/18/09/17/505/t50_505_detail_368.png'],\n",
       "  'color': '#',\n",
       "  'category': '러쉬',\n",
       "  'salePrice': 14000,\n",
       "  'originalPrice': 14000,\n",
       "  'brand': 'lush',\n",
       "  'volume': '520g:￦+38,000'}]"
      ]
     },
     "metadata": {},
     "output_type": "display_data"
    },
    {
     "data": {
      "text/plain": [
       "[{'name': '요그 노그 율 로그',\n",
       "  'url': 'https://lush.co.kr/goods/goods_view.php?goodsNo=471',\n",
       "  'image': ['https://lush.co.kr/data/goods/18/09/14/471/t50_471_detail_087.png'],\n",
       "  'color': '#',\n",
       "  'category': '러쉬',\n",
       "  'salePrice': 16000,\n",
       "  'originalPrice': 16000,\n",
       "  'brand': 'lush',\n",
       "  'volume': '#'}]"
      ]
     },
     "metadata": {},
     "output_type": "display_data"
    },
    {
     "data": {
      "text/plain": [
       "[{'name': '크리스마스 배쓰타임 페이보리츠',\n",
       "  'url': 'https://lush.co.kr/goods/goods_view.php?goodsNo=581',\n",
       "  'image': ['https://lush.co.kr/data/goods/18/09/27/581/t50_581_detail_088.png'],\n",
       "  'color': '#',\n",
       "  'category': '러쉬',\n",
       "  'salePrice': 142000,\n",
       "  'originalPrice': 142000,\n",
       "  'brand': 'lush',\n",
       "  'volume': '#'}]"
      ]
     },
     "metadata": {},
     "output_type": "display_data"
    },
    {
     "data": {
      "text/plain": [
       "[{'name': '스파클',\n",
       "  'url': 'https://lush.co.kr/goods/goods_view.php?goodsNo=575',\n",
       "  'image': ['https://lush.co.kr/data/goods/18/09/27/575/t50_575_detail_092.png'],\n",
       "  'color': '#',\n",
       "  'category': '러쉬',\n",
       "  'salePrice': 50000,\n",
       "  'originalPrice': 50000,\n",
       "  'brand': 'lush',\n",
       "  'volume': '#'}]"
      ]
     },
     "metadata": {},
     "output_type": "display_data"
    },
    {
     "data": {
      "text/plain": [
       "[{'name': '크리스마스 파티',\n",
       "  'url': 'https://lush.co.kr/goods/goods_view.php?goodsNo=570',\n",
       "  'image': ['https://lush.co.kr/data/goods/18/09/27/570/t50_570_detail_035.png'],\n",
       "  'color': '#',\n",
       "  'category': '러쉬',\n",
       "  'salePrice': 46000,\n",
       "  'originalPrice': 46000,\n",
       "  'brand': 'lush',\n",
       "  'volume': '#'}]"
      ]
     },
     "metadata": {},
     "output_type": "display_data"
    },
    {
     "data": {
      "text/plain": [
       "[{'name': '크리스마스 치어',\n",
       "  'url': 'https://lush.co.kr/goods/goods_view.php?goodsNo=569',\n",
       "  'image': ['https://lush.co.kr/data/goods/18/09/27/569/t50_569_detail_027.png'],\n",
       "  'color': '#',\n",
       "  'category': '러쉬',\n",
       "  'salePrice': 59000,\n",
       "  'originalPrice': 59000,\n",
       "  'brand': 'lush',\n",
       "  'volume': '#'}]"
      ]
     },
     "metadata": {},
     "output_type": "display_data"
    },
    {
     "data": {
      "text/plain": [
       "[{'name': '크리스마스 프레젠트',\n",
       "  'url': 'https://lush.co.kr/goods/goods_view.php?goodsNo=562',\n",
       "  'image': ['https://lush.co.kr/data/goods/18/09/20/562/t50_562_detail_048.png'],\n",
       "  'color': '#',\n",
       "  'category': '러쉬',\n",
       "  'salePrice': 73000,\n",
       "  'originalPrice': 73000,\n",
       "  'brand': 'lush',\n",
       "  'volume': '#'}]"
      ]
     },
     "metadata": {},
     "output_type": "display_data"
    },
    {
     "data": {
      "text/plain": [
       "[{'name': '비위치드',\n",
       "  'url': 'https://lush.co.kr/goods/goods_view.php?goodsNo=561',\n",
       "  'image': ['https://lush.co.kr/data/goods/18/09/20/561/t50_561_detail_052.png'],\n",
       "  'color': '#',\n",
       "  'category': '러쉬',\n",
       "  'salePrice': 67000,\n",
       "  'originalPrice': 67000,\n",
       "  'brand': 'lush',\n",
       "  'volume': '#'}]"
      ]
     },
     "metadata": {},
     "output_type": "display_data"
    },
    {
     "data": {
      "text/plain": [
       "[{'name': '배트 백',\n",
       "  'url': 'https://lush.co.kr/goods/goods_view.php?goodsNo=556',\n",
       "  'image': ['https://lush.co.kr/data/goods/18/09/19/556/t50_556_detail_040.png'],\n",
       "  'color': '#',\n",
       "  'category': '러쉬',\n",
       "  'salePrice': 12000,\n",
       "  'originalPrice': 12000,\n",
       "  'brand': 'lush',\n",
       "  'volume': '#'}]"
      ]
     },
     "metadata": {},
     "output_type": "display_data"
    },
    {
     "data": {
      "text/plain": [
       "[{'name': '우프!',\n",
       "  'url': 'https://lush.co.kr/goods/goods_view.php?goodsNo=546',\n",
       "  'image': ['https://lush.co.kr/data/goods/18/09/18/546/t50_546_detail_077.png'],\n",
       "  'color': '#',\n",
       "  'category': '러쉬',\n",
       "  'salePrice': 10000,\n",
       "  'originalPrice': 10000,\n",
       "  'brand': 'lush',\n",
       "  'volume': '#'}]"
      ]
     },
     "metadata": {},
     "output_type": "display_data"
    },
    {
     "data": {
      "text/plain": [
       "[{'name': '산타스 맵',\n",
       "  'url': 'https://lush.co.kr/goods/goods_view.php?goodsNo=541',\n",
       "  'image': ['https://lush.co.kr/data/goods/18/09/18/541/t50_541_detail_0100.png'],\n",
       "  'color': '#',\n",
       "  'category': '러쉬',\n",
       "  'salePrice': 12000,\n",
       "  'originalPrice': 12000,\n",
       "  'brand': 'lush',\n",
       "  'volume': '#'}]"
      ]
     },
     "metadata": {},
     "output_type": "display_data"
    },
    {
     "data": {
      "text/plain": [
       "[{'name': '피카부',\n",
       "  'url': 'https://lush.co.kr/goods/goods_view.php?goodsNo=539',\n",
       "  'image': ['https://lush.co.kr/data/goods/18/09/18/539/t50_539_detail_088.png'],\n",
       "  'color': '#',\n",
       "  'category': '러쉬',\n",
       "  'salePrice': 10000,\n",
       "  'originalPrice': 10000,\n",
       "  'brand': 'lush',\n",
       "  'volume': '#'}]"
      ]
     },
     "metadata": {},
     "output_type": "display_data"
    },
    {
     "data": {
      "text/plain": [
       "[{'name': '몬스터 파티',\n",
       "  'url': 'https://lush.co.kr/goods/goods_view.php?goodsNo=536',\n",
       "  'image': ['https://lush.co.kr/data/goods/18/09/18/536/t50_536_detail_075.png'],\n",
       "  'color': '#',\n",
       "  'category': '러쉬',\n",
       "  'salePrice': 12000,\n",
       "  'originalPrice': 12000,\n",
       "  'brand': 'lush',\n",
       "  'volume': '#'}]"
      ]
     },
     "metadata": {},
     "output_type": "display_data"
    },
    {
     "data": {
      "text/plain": [
       "[{'name': '미야우',\n",
       "  'url': 'https://lush.co.kr/goods/goods_view.php?goodsNo=535',\n",
       "  'image': ['https://lush.co.kr/data/goods/18/09/18/535/t50_535_detail_064.png'],\n",
       "  'color': '#',\n",
       "  'category': '러쉬',\n",
       "  'salePrice': 12000,\n",
       "  'originalPrice': 12000,\n",
       "  'brand': 'lush',\n",
       "  'volume': '#'}]"
      ]
     },
     "metadata": {},
     "output_type": "display_data"
    },
    {
     "data": {
      "text/plain": [
       "[{'name': '할리퀸',\n",
       "  'url': 'https://lush.co.kr/goods/goods_view.php?goodsNo=532',\n",
       "  'image': ['https://lush.co.kr/data/goods/18/09/18/532/t50_532_detail_080.png'],\n",
       "  'color': '#',\n",
       "  'category': '러쉬',\n",
       "  'salePrice': 10000,\n",
       "  'originalPrice': 10000,\n",
       "  'brand': 'lush',\n",
       "  'volume': '#'}]"
      ]
     },
     "metadata": {},
     "output_type": "display_data"
    },
    {
     "data": {
      "text/plain": [
       "[{'name': '엑토플라즘',\n",
       "  'url': 'https://lush.co.kr/goods/goods_view.php?goodsNo=526',\n",
       "  'image': ['https://lush.co.kr/data/goods/18/09/18/526/t50_526_detail_094.png'],\n",
       "  'color': '#',\n",
       "  'category': '러쉬 > 퍼퓸 > 워시 카드',\n",
       "  'salePrice': 4000,\n",
       "  'originalPrice': 4000,\n",
       "  'brand': 'lush',\n",
       "  'volume': '#'}]"
      ]
     },
     "metadata": {},
     "output_type": "display_data"
    },
    {
     "data": {
      "text/plain": [
       "[{'name': '엑토플라즘',\n",
       "  'url': 'https://lush.co.kr/goods/goods_view.php?goodsNo=525',\n",
       "  'image': ['https://lush.co.kr/data/goods/18/09/18/525/t50_525_detail_010.png'],\n",
       "  'color': '#',\n",
       "  'category': '러쉬 > 퍼퓸 > 화이트 솔리드',\n",
       "  'salePrice': 20000,\n",
       "  'originalPrice': 20000,\n",
       "  'brand': 'lush',\n",
       "  'volume': '#'}]"
      ]
     },
     "metadata": {},
     "output_type": "display_data"
    },
    {
     "data": {
      "text/plain": [
       "[{'name': '엑토플라즘',\n",
       "  'url': 'https://lush.co.kr/goods/goods_view.php?goodsNo=516',\n",
       "  'image': ['https://lush.co.kr/data/goods/18/09/17/516/t50_516_detail_064.png'],\n",
       "  'color': '#',\n",
       "  'category': '러쉬',\n",
       "  'salePrice': 23000,\n",
       "  'originalPrice': 23000,\n",
       "  'brand': 'lush',\n",
       "  'volume': '#'}]"
      ]
     },
     "metadata": {},
     "output_type": "display_data"
    },
    {
     "data": {
      "text/plain": [
       "[{'name': '캔디 캐인',\n",
       "  'url': 'https://lush.co.kr/goods/goods_view.php?goodsNo=466',\n",
       "  'image': ['https://lush.co.kr/data/goods/18/09/14/466/t50_466_detail_013.png'],\n",
       "  'color': '#',\n",
       "  'category': '러쉬',\n",
       "  'salePrice': 12000,\n",
       "  'originalPrice': 12000,\n",
       "  'brand': 'lush',\n",
       "  'volume': '#'}]"
      ]
     },
     "metadata": {},
     "output_type": "display_data"
    },
    {
     "data": {
      "text/plain": [
       "[{'name': '치어리 크리스마스',\n",
       "  'url': 'https://lush.co.kr/goods/goods_view.php?goodsNo=453',\n",
       "  'image': ['https://lush.co.kr/data/goods/18/09/14/453/t50_453_detail_011.png'],\n",
       "  'color': '#',\n",
       "  'category': '러쉬',\n",
       "  'salePrice': 12000,\n",
       "  'originalPrice': 12000,\n",
       "  'brand': 'lush',\n",
       "  'volume': '#'}]"
      ]
     },
     "metadata": {},
     "output_type": "display_data"
    }
   ],
   "source": [
    "categoryList = getCategoryList()\n",
    "result = []\n",
    "for category in categoryList:\n",
    "    driver.get(category)\n",
    "    itemList = []\n",
    "    while True:\n",
    "        try:\n",
    "            itemList += getItemList()\n",
    "            readNextPage()\n",
    "        except:\n",
    "            break\n",
    "    for item in itemList:\n",
    "        driver.get(item)\n",
    "        result += getItem()\n"
   ]
  },
  {
   "cell_type": "code",
   "execution_count": 10,
   "metadata": {},
   "outputs": [],
   "source": [
    "output = json.dumps(result,ensure_ascii=False, indent='\\t')\n",
    "\n",
    "writeJSON(output, output_name = 'lush.json')"
   ]
  },
  {
   "cell_type": "code",
   "execution_count": null,
   "metadata": {},
   "outputs": [],
   "source": []
  }
 ],
 "metadata": {
  "kernelspec": {
   "display_name": "Python 3",
   "language": "python",
   "name": "python3"
  },
  "language_info": {
   "codemirror_mode": {
    "name": "ipython",
    "version": 3
   },
   "file_extension": ".py",
   "mimetype": "text/x-python",
   "name": "python",
   "nbconvert_exporter": "python",
   "pygments_lexer": "ipython3",
   "version": "3.7.0"
  }
 },
 "nbformat": 4,
 "nbformat_minor": 2
}
