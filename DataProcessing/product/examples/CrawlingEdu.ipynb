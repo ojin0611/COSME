{
 "cells": [
  {
   "cell_type": "markdown",
   "metadata": {},
   "source": [
    "# import module"
   ]
  },
  {
   "cell_type": "code",
   "execution_count": 74,
   "metadata": {},
   "outputs": [],
   "source": [
    "from urllib.request import urlopen, Request\n",
    "import urllib\n",
    "from bs4 import BeautifulSoup as bs\n"
   ]
  },
  {
   "cell_type": "markdown",
   "metadata": {},
   "source": [
    "# urlib"
   ]
  },
  {
   "cell_type": "code",
   "execution_count": 75,
   "metadata": {
    "scrolled": true
   },
   "outputs": [
    {
     "name": "stdout",
     "output_type": "stream",
     "text": [
      "<http.client.HTTPResponse object at 0x000001EDE80C8828>\n",
      "--------------------\n",
      "200\n",
      "--------------------\n",
      "Date: Tue, 15 Jan 2019 05:04:20 GMT\n",
      "Server: Apache/2.4.7 (Ubuntu)\n",
      "X-Powered-By: PHP/5.5.9-1ubuntu4.26\n",
      "Set-Cookie: ci_kisession=a%3A5%3A%7Bs%3A10%3A%22session_id%22%3Bs%3A32%3A%22615bef7c44e32e6b23d16f0f1ca6ff36%22%3Bs%3A10%3A%22ip_address%22%3Bs%3A12%3A%22130.211.3.43%22%3Bs%3A10%3A%22user_agent%22%3Bs%3A17%3A%22Python-urllib%2F3.7%22%3Bs%3A13%3A%22last_activity%22%3Bi%3A1547528660%3Bs%3A9%3A%22user_data%22%3Bs%3A0%3A%22%22%3B%7D2b1af8a34080660b885024fa9827585b; path=/; domain=.ghmkt.kr\n",
      "P3P: CP=\"NOI CURa ADMa DEVa TAIa OUR DELa BUS IND PHY ONL UNI COM NAV INT DEM PRE\"\n",
      "Expires: 0\n",
      "Last-Modified: Tue, 15 Jan 2019 05:04:20 GMT\n",
      "Cache-Control: pre-check=0, post-check=0, max-age=0\n",
      "Pragma: no-cache\n",
      "Set-Cookie: ci_kisession=a%3A4%3A%7Bs%3A10%3A%22session_id%22%3Bs%3A32%3A%22615bef7c44e32e6b23d16f0f1ca6ff36%22%3Bs%3A10%3A%22ip_address%22%3Bs%3A12%3A%22130.211.3.43%22%3Bs%3A10%3A%22user_agent%22%3Bs%3A17%3A%22Python-urllib%2F3.7%22%3Bs%3A13%3A%22last_activity%22%3Bi%3A1547528660%3B%7D6aefad21e9ec5994845f450ec1bd847e; path=/; domain=.ghmkt.kr\n",
      "Set-Cookie: ci_userlang=english; expires=Thu, 14-Feb-2019 05:04:20 GMT; Max-Age=2592000; path=/; domain=.ghmkt.kr\n",
      "Set-Cookie: ci_kisession=a%3A4%3A%7Bs%3A10%3A%22session_id%22%3Bs%3A32%3A%22615bef7c44e32e6b23d16f0f1ca6ff36%22%3Bs%3A10%3A%22ip_address%22%3Bs%3A12%3A%22130.211.3.43%22%3Bs%3A10%3A%22user_agent%22%3Bs%3A17%3A%22Python-urllib%2F3.7%22%3Bs%3A13%3A%22last_activity%22%3Bi%3A1547528660%3B%7D6aefad21e9ec5994845f450ec1bd847e; path=/; domain=.ghmkt.kr\n",
      "Set-Cookie: ci_kisession=a%3A4%3A%7Bs%3A10%3A%22session_id%22%3Bs%3A32%3A%22615bef7c44e32e6b23d16f0f1ca6ff36%22%3Bs%3A10%3A%22ip_address%22%3Bs%3A12%3A%22130.211.3.43%22%3Bs%3A10%3A%22user_agent%22%3Bs%3A17%3A%22Python-urllib%2F3.7%22%3Bs%3A13%3A%22last_activity%22%3Bi%3A1547528660%3B%7D6aefad21e9ec5994845f450ec1bd847e; path=/; domain=.ghmkt.kr\n",
      "Vary: Accept-Encoding\n",
      "Connection: close\n",
      "Transfer-Encoding: chunked\n",
      "Content-Type: text/html; charset=UTF-8\n",
      "\n",
      "\n",
      "--------------------\n",
      "https://ghmkt.kr/\n",
      "--------------------\n",
      "utf-8\n"
     ]
    }
   ],
   "source": [
    "url = \"http://ghmkt.kr/\" #요청을 하고자 하는 웹 사이트입니다.\n",
    "\n",
    "req = Request(url)  #요청 객체를 만드는 부분입니다.\n",
    "page = urlopen(req) #만들어진 요청 객체를 이용하여 요청하는 부분입니다.\n",
    "\n",
    "print(page)\n",
    "print('-'*20)\n",
    "print(page.code)\n",
    "print('-'*20)\n",
    "print(page.headers)\n",
    "print('-'*20)\n",
    "print(page.url)\n",
    "print('-'*20)\n",
    "print(page.info().get_content_charset())\n",
    "#print(page.read())   #urllib은 read()함수를 이용하여 HTML을 바이너리 형태로 가져옵니다."
   ]
  },
  {
   "cell_type": "markdown",
   "metadata": {},
   "source": [
    "# BeautifulSoup"
   ]
  },
  {
   "cell_type": "code",
   "execution_count": 76,
   "metadata": {},
   "outputs": [
    {
     "name": "stdout",
     "output_type": "stream",
     "text": [
      "<html> <head> </head> <body> <p>test</p> </body></html>\n",
      "--------------------\n",
      "<class 'bs4.BeautifulSoup'>\n",
      "--------------------\n",
      "<html>\n",
      " <head>\n",
      " </head>\n",
      " <body>\n",
      "  <p>\n",
      "   test\n",
      "  </p>\n",
      " </body>\n",
      "</html>\n"
     ]
    }
   ],
   "source": [
    "# from bs4 import BeautifulSoup as bs\n",
    "\n",
    "html = \"\"\"<html> <head> </head> <body> <p>test</p> </body></html>\"\"\"\n",
    "\n",
    "soup = bs(html, 'lxml')\n",
    "print(soup)\n",
    "print('-'*20)\n",
    "print(type(soup))\n",
    "print('-'*20)\n",
    "print(soup.prettify())"
   ]
  },
  {
   "cell_type": "code",
   "execution_count": 77,
   "metadata": {},
   "outputs": [
    {
     "name": "stdout",
     "output_type": "stream",
     "text": [
      "<p>Growth</p>\n",
      "Growth\n",
      "Growth\n",
      "p\n"
     ]
    }
   ],
   "source": [
    "html = \"\"\"<html> <head><title class = 'GH' id = \"이재경\"> Crawling </title> </head> <body> <p>Growth</p> \n",
    "<p>Hackers</p> <p>GH</p></body></html>\"\"\"\n",
    "\n",
    "soup = bs(html, 'lxml')\n",
    "tag_p = soup.p\n",
    "\n",
    "print(tag_p)\n",
    "print(tag_p.text)\n",
    "print(tag_p.string)\n",
    "print(tag_p.name)"
   ]
  },
  {
   "cell_type": "code",
   "execution_count": 78,
   "metadata": {},
   "outputs": [
    {
     "name": "stdout",
     "output_type": "stream",
     "text": [
      "\n",
      "{'class': ['GH'], 'id': '이재경'}\n",
      "['GH']\n",
      "이재경\n"
     ]
    }
   ],
   "source": [
    "tag_title= soup.title\n",
    "\n",
    "print();print(tag_title.attrs)\n",
    "print(tag_title['class'])\n",
    "print(tag_title['id'])"
   ]
  },
  {
   "cell_type": "code",
   "execution_count": 79,
   "metadata": {},
   "outputs": [
    {
     "name": "stdout",
     "output_type": "stream",
     "text": [
      "\n",
      "None\n",
      "없음\n"
     ]
    }
   ],
   "source": [
    "print(); print(tag_title.get('class1'))\n",
    "print(tag_title.get('class1','없음'))"
   ]
  },
  {
   "cell_type": "code",
   "execution_count": 80,
   "metadata": {},
   "outputs": [
    {
     "name": "stdout",
     "output_type": "stream",
     "text": [
      "p 자식 태그\n",
      "<span>Growth</span>\n",
      "<span>Hackers</span>\n",
      "<span>GH</span>\n",
      "span 부모 태그\n",
      "<p><span>Growth</span><span>Hackers</span><span>GH</span></p>\n",
      "<body>\n",
      "<p><span>Growth</span><span>Hackers</span><span>GH</span></p></body>\n",
      "<html> <head><title> Crawling </title> </head> <body>\n",
      "<p><span>Growth</span><span>Hackers</span><span>GH</span></p></body></html>\n",
      "<html> <head><title> Crawling </title> </head> <body>\n",
      "<p><span>Growth</span><span>Hackers</span><span>GH</span></p></body></html>\n",
      "<span>Hackers</span>\n",
      "<span>Growth</span>\n"
     ]
    }
   ],
   "source": [
    "# from bs4 import BeautifulSoup as bs\n",
    "\n",
    "html = \"\"\"<html> <head><title > Crawling </title> </head> <body>\n",
    "<p><span>Growth</span><span>Hackers</span><span>GH</span></p></body></html>\"\"\"\n",
    "\n",
    "soup = bs(html, 'lxml')\n",
    "tag_p_child = soup.p.children\n",
    "\n",
    "print('p 자식 태그')\n",
    "for child in tag_p_child:\n",
    "    print(child)\n",
    "    \n",
    "tag_span = soup.span\n",
    "span_parents = tag_span.parents\n",
    "\n",
    "print('span 부모 태그')\n",
    "for parent in span_parents:\n",
    "    print(parent)\n",
    "\n",
    "next_sibling = tag_span.next_sibling\n",
    "prev_sibling = next_sibling.previous_sibling\n",
    "\n",
    "print(next_sibling)\n",
    "print(prev_sibling)\n"
   ]
  },
  {
   "cell_type": "markdown",
   "metadata": {},
   "source": [
    "#### find_all( ) 함수를 사용하면 원하는 태그들을 리스트의 형태로 얻어올 수 있다."
   ]
  },
  {
   "cell_type": "code",
   "execution_count": 81,
   "metadata": {},
   "outputs": [
    {
     "name": "stdout",
     "output_type": "stream",
     "text": [
      "[<p>Growth</p>, <p>Hackers</p>, <p id=\"GH\">GH</p>]\n",
      "<p>Growth</p>\n",
      "[<title class=\"GH\" id=\"이재경\"> Crawling </title>]\n",
      "[<p>Growth</p>, <p>Hackers</p>]\n",
      "[<p id=\"GH\">GH</p>]\n",
      "[<title class=\"GH\" id=\"이재경\"> Crawling </title>]\n",
      "[<title class=\"GH\" id=\"이재경\"> Crawling </title>]\n",
      " Crawling \n"
     ]
    }
   ],
   "source": [
    "html = \"\"\"<html> <head><title class = 'GH' id = \"이재경\"> Crawling </title> </head> <body> <p>Growth</p> \n",
    "<p>Hackers</p> <p id= \"GH\">GH</p></body></html>\"\"\"\n",
    "\n",
    "soup = bs(html, 'lxml')\n",
    "\n",
    "print(soup.find_all('p'))\n",
    "print(soup.find('p'))\n",
    "print(soup.find_all(id='이재경'))\n",
    "print(soup.body.find_all(id=False))\n",
    "print(soup.find_all('p',id='GH'))\n",
    "print(soup.find_all('title',class_='GH')) #class_는 기존의 클래스를 만들 때 사용하는 키워드인 class와 중복을 피해주기 위해서 사용\n",
    "print(soup.find_all('title','GH'))\n",
    "\n",
    "for name in soup.find_all('title','GH'):\n",
    "    print(name.get_text())"
   ]
  },
  {
   "cell_type": "markdown",
   "metadata": {},
   "source": [
    "#### select() 함수를 이용하면 find_all() 처럼 리스트로 반환하지만 CSS 셀렉터를 활용하여 원하는 요소에 접근합니다."
   ]
  },
  {
   "cell_type": "code",
   "execution_count": 82,
   "metadata": {},
   "outputs": [
    {
     "name": "stdout",
     "output_type": "stream",
     "text": [
      "[<p class=\"a\" id=\"i\">Growth</p>, <p class=\"d\">Hackers</p>, <p class=\"d\">GH</p>]\n",
      "[<p class=\"d\">Hackers</p>, <p class=\"d\">GH</p>]\n",
      "[<p class=\"d\">Hackers</p>, <p class=\"d\">GH</p>]\n",
      "[<p class=\"a\" id=\"i\">Growth</p>]\n",
      "[<p class=\"a\" id=\"i\">Growth</p>]\n",
      "[<p class=\"a\" id=\"i\">Growth</p>]\n"
     ]
    }
   ],
   "source": [
    "html = \"\"\"<html> <head><title class = 'GH' id = \"이재경\"> Crawling </title> </head> \n",
    "<body> <p id = \"i\" class = \"a\">Growth</p> <p class= \"d\">Hackers</p> <p class= \"d\">GH</p></body></html>\"\"\"\n",
    "\n",
    "soup = bs(html, 'lxml')\n",
    "\n",
    "print(soup.select('p')) #클래스는 마침표(.), 아이디는 샵(#)으로 접근\n",
    "print(soup.select('.d'))\n",
    "print(soup.select('p.d'))\n",
    "print(soup.select('#i'))\n",
    "print(soup.select('p#i'))\n",
    "print(soup.select('body > p#i'))  #띄어쓰기를 이용하거나(body p#i) '>'를 이용하여 자식 태그 표현"
   ]
  },
  {
   "cell_type": "code",
   "execution_count": null,
   "metadata": {},
   "outputs": [],
   "source": []
  },
  {
   "cell_type": "code",
   "execution_count": null,
   "metadata": {},
   "outputs": [],
   "source": []
  }
 ],
 "metadata": {
  "kernelspec": {
   "display_name": "Python 3",
   "language": "python",
   "name": "python3"
  },
  "language_info": {
   "codemirror_mode": {
    "name": "ipython",
    "version": 3
   },
   "file_extension": ".py",
   "mimetype": "text/x-python",
   "name": "python",
   "nbconvert_exporter": "python",
   "pygments_lexer": "ipython3",
   "version": "3.7.0"
  }
 },
 "nbformat": 4,
 "nbformat_minor": 2
}
