{
 "cells": [
  {
   "cell_type": "markdown",
   "metadata": {},
   "source": [
    "# 멜론에서 차트 가져오기"
   ]
  },
  {
   "cell_type": "code",
   "execution_count": 14,
   "metadata": {},
   "outputs": [],
   "source": [
    "from bs4 import BeautifulSoup as bs              # 데이터파싱 라이브러리\n",
    "import urllib\n",
    "import urllib.request as req                     # 데이터수신 라이브러리\n",
    "import pandas as pd                              # 데이터정리 라이브러리 \n",
    "import datetime                                  # 날짜데이터 라이브러리\n",
    "import re                                        # 정규표현식 라이브러리"
   ]
  },
  {
   "cell_type": "code",
   "execution_count": 15,
   "metadata": {},
   "outputs": [
    {
     "name": "stdout",
     "output_type": "stream",
     "text": [
      "<class 'pandas.core.frame.DataFrame'>\n",
      "Index: 0 entries\n",
      "Data columns (total 8 columns):\n",
      "artist         0 non-null object\n",
      "artist_code    0 non-null object\n",
      "title          0 non-null object\n",
      "title_code     0 non-null object\n",
      "rank           0 non-null object\n",
      "date           0 non-null object\n",
      "hour           0 non-null object\n",
      "site           0 non-null object\n",
      "dtypes: object(8)\n",
      "memory usage: 0.0+ bytes\n"
     ]
    }
   ],
   "source": [
    "melon_list = pd.DataFrame(columns = ['artist',\n",
    "                                     'artist_code',\n",
    "                                     'title',\n",
    "                                     'title_code',\n",
    "                                     'rank',\n",
    "                                     'date',\n",
    "                                     'hour',\n",
    "                                     'site'])\n",
    "\n",
    "melon_list.info()"
   ]
  },
  {
   "cell_type": "code",
   "execution_count": 16,
   "metadata": {},
   "outputs": [
    {
     "name": "stdout",
     "output_type": "stream",
     "text": [
      "2019-01-15 14:02:10.728055\n"
     ]
    }
   ],
   "source": [
    "dt_now = datetime.datetime.now() \n",
    "print(dt_now)"
   ]
  },
  {
   "cell_type": "markdown",
   "metadata": {},
   "source": [
    "아래와 같이 헤더를 만들어 보내면 서버는 요청된 것을 윈도우- 크롬에서 요청한 것으로 인지한다."
   ]
  },
  {
   "cell_type": "code",
   "execution_count": 17,
   "metadata": {},
   "outputs": [
    {
     "name": "stdout",
     "output_type": "stream",
     "text": [
      "200\n"
     ]
    }
   ],
   "source": [
    "url = \"http://www.melon.com/chart/index.htm\"\n",
    "header_ = \"Mozilla/5.0 (Windows NT 10.0; Win64; x64) AppleWebKit/537.36 (KHTML, like Gecko) Chrome/69.0.3497.100 Safari/537.36\"\n",
    "\n",
    "request = req.Request(url, headers = {'User-Agent':header_})\n",
    "html = req.urlopen(request)\n",
    "page = bs(html.read(), 'lxml')\n",
    "\n",
    "print(html.getcode()) # 200이 뜨면 잘 불러온 것!"
   ]
  },
  {
   "cell_type": "code",
   "execution_count": 18,
   "metadata": {},
   "outputs": [
    {
     "data": {
      "text/plain": [
       "<div class=\"ellipsis rank01\"><span>\n",
       "<a href=\"javascript:melon.play.playSong('19030101',31532643);\" title=\"넘쳐흘러 재생\">넘쳐흘러</a>\n",
       "</span></div>"
      ]
     },
     "execution_count": 18,
     "metadata": {},
     "output_type": "execute_result"
    }
   ],
   "source": [
    "page.find(\"div\", {'class':'ellipsis rank01'})"
   ]
  },
  {
   "cell_type": "code",
   "execution_count": 19,
   "metadata": {},
   "outputs": [
    {
     "name": "stdout",
     "output_type": "stream",
     "text": [
      "넘쳐흘러\n",
      "엠씨더맥스\n"
     ]
    },
    {
     "data": {
      "text/plain": [
       "<div class=\"ellipsis rank01\"><span>\n",
       "<a href=\"javascript:melon.play.playSong('19030101',31532643);\" title=\"넘쳐흘러 재생\">넘쳐흘러</a>\n",
       "</span></div>"
      ]
     },
     "execution_count": 19,
     "metadata": {},
     "output_type": "execute_result"
    }
   ],
   "source": [
    "song_title = page.find(\"div\", {'class':'ellipsis rank01'}).get_text().strip()\n",
    "song_artist = page.find(\"span\", {'class':'checkEllipsis'}).get_text().strip()\n",
    "\n",
    "print(song_title)\n",
    "print(song_artist)\n",
    "\n",
    "page.find(\"div\", {'class':'ellipsis rank01'})"
   ]
  },
  {
   "cell_type": "code",
   "execution_count": 20,
   "metadata": {},
   "outputs": [],
   "source": [
    "songlists50 = page.find_all('tr', {'class':'lst50'})\n",
    "songlists100 = page.find_all('tr', {'class':'lst100'})\n",
    "\n",
    "for half in [songlists50, songlists100]:\n",
    "    for songs in half:\n",
    "        song_artist = songs.find(\"span\", {'class':'checkEllipsis'}).get_text().strip()\n",
    "\n",
    "        ac = songs.find('span', {'class':'checkEllipsis'})\n",
    "        p = re.compile('[0-9]+')\n",
    "        song_artist_code = int(p.findall(str(ac))[0])\n",
    "\n",
    "        song_title = songs.find(\"div\", {'class':'ellipsis rank01'}).get_text().strip()\n",
    "        song_title_code = int(songs['data-song-no'])\n",
    "        song_rank = int(songs.find(\"span\", {'class' : \"rank \"}).get_text())\n",
    "        song_date = dt_now.strftime('%Y-%m-%d')\n",
    "        song_hour = dt_now.strftime('%H')\n",
    "        song_site = \"melon\"\n",
    "\n",
    "    \n",
    "        melon_list = melon_list.append(\n",
    "            {'artist':song_artist,\n",
    "             'artist_code':song_artist_code,\n",
    "             'title' : song_title,\n",
    "             'title_code' : song_title_code,\n",
    "             'rank' : song_rank,\n",
    "             'date' : song_date,\n",
    "             'hour' : song_hour,\n",
    "             'site' : song_site}, ignore_index = True)  "
   ]
  },
  {
   "cell_type": "code",
   "execution_count": 21,
   "metadata": {},
   "outputs": [],
   "source": [
    "melon_list.to_csv(dt_now.strftime(\"%Y_%m_%d_%H\")+\".csv\", index=False, encoding = 'euc-kr')"
   ]
  },
  {
   "cell_type": "markdown",
   "metadata": {},
   "source": [
    "#### 앨범사진 src 가져오기"
   ]
  },
  {
   "cell_type": "code",
   "execution_count": 22,
   "metadata": {},
   "outputs": [
    {
     "data": {
      "text/plain": [
       "'https://cdnimg.melon.co.kr/cm/album/images/102/38/710/10238710_500.jpg/melon/resize/120/quality/80/optimize'"
      ]
     },
     "execution_count": 22,
     "metadata": {},
     "output_type": "execute_result"
    }
   ],
   "source": [
    "a= []\n",
    "for name in page.find(\"a\", {'class':'image_typeAll'}).children:\n",
    "    a.append(name)\n",
    "a[1]['src']"
   ]
  },
  {
   "cell_type": "code",
   "execution_count": 23,
   "metadata": {},
   "outputs": [
    {
     "data": {
      "text/plain": [
       "('묻고싶다 (One Love).jpg', <http.client.HTTPMessage at 0x29ddb1b3358>)"
      ]
     },
     "execution_count": 23,
     "metadata": {},
     "output_type": "execute_result"
    }
   ],
   "source": [
    "urllib.request.urlretrieve(a[1]['src'], \"{0}.jpg\".format(song_title))"
   ]
  },
  {
   "cell_type": "code",
   "execution_count": null,
   "metadata": {},
   "outputs": [],
   "source": []
  }
 ],
 "metadata": {
  "kernelspec": {
   "display_name": "Python 3",
   "language": "python",
   "name": "python3"
  },
  "language_info": {
   "codemirror_mode": {
    "name": "ipython",
    "version": 3
   },
   "file_extension": ".py",
   "mimetype": "text/x-python",
   "name": "python",
   "nbconvert_exporter": "python",
   "pygments_lexer": "ipython3",
   "version": "3.7.0"
  }
 },
 "nbformat": 4,
 "nbformat_minor": 2
}
