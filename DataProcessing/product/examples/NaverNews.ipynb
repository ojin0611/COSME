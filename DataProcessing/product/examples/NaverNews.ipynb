{
 "cells": [
  {
   "cell_type": "markdown",
   "metadata": {},
   "source": [
    "# Quest 네이버 정치 기사 긁어 오기"
   ]
  },
  {
   "cell_type": "code",
   "execution_count": 5,
   "metadata": {},
   "outputs": [],
   "source": [
    "from urllib.request import urlopen\n",
    "from bs4 import BeautifulSoup\n",
    "import re"
   ]
  },
  {
   "cell_type": "code",
   "execution_count": 6,
   "metadata": {},
   "outputs": [],
   "source": [
    "title_list = []\n",
    "url_list   = []\n",
    "\n",
    "for i in range(1,6):\n",
    "    # 5개 페이지의 링크 받아오기.\n",
    "    url = \"https://news.naver.com/main/list.nhn?mode=LS2D&mid=shm&sid2=269&page=\"+str(i)\n",
    "    html = urlopen(url)\n",
    "    soup = BeautifulSoup(html,\"lxml\",from_encoding='utf-8')\n",
    "\n",
    "    articles = soup.findAll(\"dt\")\n",
    "    for link in articles:\n",
    "        title_list.append(link.get_text().strip())\n",
    "        url_list.append(link.find(\"a\")[\"href\"])\n",
    "\n",
    "# title, url list 중복 제거\n",
    "title_list=list(set(title_list))\n",
    "title_list.remove('동영상기사')\n",
    "\n",
    "url_list2 = list(set(url_list)) ##중복 제거\n"
   ]
  },
  {
   "cell_type": "markdown",
   "metadata": {},
   "source": [
    "### 기사 제목, 내용 얻기"
   ]
  },
  {
   "cell_type": "code",
   "execution_count": 7,
   "metadata": {},
   "outputs": [
    {
     "name": "stdout",
     "output_type": "stream",
     "text": [
      "중앙선관위 \"연말정산, 기탁금 10만원 전액 세액공제\"\n",
      "선관위 기탁금 99.8% 10만원 이하…주요 정당 1억~6억원씩 기탁금 지급[아시아경제 류정민 기자] 중앙선거관리위원회는 \"기탁금은 연말정산 시 기부금액의 10만원까지는 전액이, 10만원 초과분은 해당 금액의 15%(3000만원 초과 시 초과금액의 25%)가 세액공제 된다\"고 15일 밝혔다. 기탁금은 국민이 국회의원 후원회나 중앙당 후원회 등에 기부하는 정치 후원금과 달리 선관위에 기탁하는 정치자금이다. 공무원이나 사립학교 교원 등 국민 누구나 참여할 수 있다. 국민 기탁금은 정치자금법에 따라 정당의 교섭단체 구성 여부, 국회 의석 수, 직전 국회의원 선거 득표율 등에 따라 각 정당에 지급한다. 선관위에 정치후원금을 기탁하려는 사람은 정치후원금센터에 접속해 신용카드, 신용카드 포인트, 네이버페이, 카카오페이, PAYCO, 휴대폰 결제 등 다양한 결제 방법을 선택해 기부할 수 있다.지난해 7월20일 서울 여의도 KBS 본관에서 열린 '2018 제1차 정당정책토론회'에 참석한 각 정당 정책담당 대표 의원들이 리허설하고 있다. 왼쪽부터 한정애 더불어민주당 제5정책조정위원장, 추경호 자유한국장 정책위부의장, 조원진 대한애국당 대표, 김종훈 민중당 상임공동대표, 황주홍 민주평화당 정책위의장, 채이배 바른미래당 정책위의장 권한대행, 신장식 정의당 사무총장./강진형 기자aymsdream@한편 중앙선거관리위원회는 2018년 한 해 동안 국민 총 2만2054명이 20억5000만원의 정치자금을 선관위에 기탁했다고 설명했다. 2만2013명(99.8%)은 10만원 이하 금액을 기부했다. 중앙선관위는 국민 기탁금을 분기마다 모금에 필요한 비용을 공제하고 각 정당에 지급한다. 중앙선관위는 2018년 총액 기준으로 더불어민주당 6억4000만원, 자유한국당 6억3000만원, 바른미래당 4억6000만원, 민주평화당 1억2000만원, 정의당 1억2000만원, 민중당 4000만원, 대한애국당 100만원을 지급했다.류정민 기자 jmryu@asiae.co.kr▶ 네이버 홈에서 '아시아경제' 뉴스 확인하기▶ 재미와 신기 '과학을읽다' ▶ 꿀잼 '인기만화'<ⓒ경제를 보는 눈, 세계를 보는 창 아시아경제 무단전재 배포금지>\n"
     ]
    }
   ],
   "source": [
    "# for i in range(length(url_list)):\n",
    "\n",
    "html = urlopen(url_list[3])\n",
    "soup = BeautifulSoup(html,\"html.parser\",from_encoding='utf-8')\n",
    "\n",
    "title = soup.find(\"h3\",{\"id\":\"articleTitle\"}).find(text=True)\n",
    "content = soup.find(\"div\",{\"id\":\"articleBodyContents\"})\n",
    "text_content = content.get_text().strip()\n",
    "\n",
    "# 기사 시작!\n",
    "s = text_content.find('{}\\n\\n')\n",
    "text_content=text_content[s+4:]\n",
    "\n",
    "print(title)\n",
    "print(text_content)\n"
   ]
  },
  {
   "cell_type": "markdown",
   "metadata": {},
   "source": [
    "# 다른 방법"
   ]
  },
  {
   "cell_type": "code",
   "execution_count": 1,
   "metadata": {},
   "outputs": [
    {
     "name": "stdout",
     "output_type": "stream",
     "text": [
      "https://news.naver.com/main/read.nhn?mode=LS2D&mid=shm&sid1=269&oid=008&aid=0004160475\n"
     ]
    }
   ],
   "source": [
    "from urllib.request import urlopen\n",
    "from bs4 import BeautifulSoup\n",
    "import re\n",
    "\n",
    "url = \"https://news.naver.com/main/list.nhn?mode=LS2D&mid=shm&sid2=269\" #네이버 정치 기사 페이지\n",
    "\n",
    "html = urlopen(url)\n",
    "soup = BeautifulSoup(html,\"lxml\",from_encoding='utf-8')\n",
    "\n",
    "articles = soup.findAll(\"dt\")\n",
    "\n",
    "ex_dl = articles[1].find(\"a\")[\"href\"] ## 정치 기사 메인 페이지에서 기사들로 가는 url \n",
    "print(ex_dl)\n"
   ]
  },
  {
   "cell_type": "code",
   "execution_count": 2,
   "metadata": {},
   "outputs": [
    {
     "data": {
      "text/plain": [
       "['https://news.naver.com/main/read.nhn?mode=LS2D&mid=shm&sid1=269&oid=003&aid=0009012212',\n",
       " 'https://news.naver.com/main/read.nhn?mode=LS2D&mid=shm&sid1=269&oid=277&aid=0004394685',\n",
       " 'https://news.naver.com/main/read.nhn?mode=LS2D&mid=shm&sid1=269&oid=008&aid=0004160475',\n",
       " 'https://news.naver.com/main/read.nhn?mode=LS2D&mid=shm&sid1=269&oid=008&aid=0004160458',\n",
       " 'https://news.naver.com/main/read.nhn?mode=LS2D&mid=shm&sid1=269&oid=008&aid=0004160462',\n",
       " 'https://news.naver.com/main/read.nhn?mode=LS2D&mid=shm&sid1=269&oid=003&aid=0009012213',\n",
       " 'https://news.naver.com/main/read.nhn?mode=LS2D&mid=shm&sid1=269&oid=374&aid=0000174976',\n",
       " 'https://news.naver.com/main/read.nhn?mode=LS2D&mid=shm&sid1=269&oid=003&aid=0009012209',\n",
       " 'https://news.naver.com/main/read.nhn?mode=LS2D&mid=shm&sid1=269&oid=008&aid=0004160472',\n",
       " 'https://news.naver.com/main/read.nhn?mode=LS2D&mid=shm&sid1=269&oid=003&aid=0009012210',\n",
       " 'https://news.naver.com/main/read.nhn?mode=LS2D&mid=shm&sid1=269&oid=008&aid=0004160465',\n",
       " 'https://news.naver.com/main/read.nhn?mode=LS2D&mid=shm&sid1=269&oid=008&aid=0004160470',\n",
       " 'https://news.naver.com/main/read.nhn?mode=LS2D&mid=shm&sid1=269&oid=003&aid=0009012215',\n",
       " 'https://news.naver.com/main/read.nhn?mode=LS2D&mid=shm&sid1=269&oid=003&aid=0009012214',\n",
       " 'https://news.naver.com/main/read.nhn?mode=LS2D&mid=shm&sid1=269&oid=008&aid=0004160468',\n",
       " 'https://news.naver.com/main/read.nhn?mode=LS2D&mid=shm&sid1=269&oid=008&aid=0004160460',\n",
       " 'https://news.naver.com/main/read.nhn?mode=LS2D&mid=shm&sid1=269&oid=008&aid=0004160464',\n",
       " 'https://news.naver.com/main/read.nhn?mode=LS2D&mid=shm&sid1=269&oid=008&aid=0004160455',\n",
       " 'https://news.naver.com/main/read.nhn?mode=LS2D&mid=shm&sid1=269&oid=003&aid=0009012211',\n",
       " 'https://news.naver.com/main/read.nhn?mode=LS2D&mid=shm&sid1=269&oid=214&aid=0000908613']"
      ]
     },
     "execution_count": 2,
     "metadata": {},
     "output_type": "execute_result"
    }
   ],
   "source": [
    "url_list = []\n",
    "\n",
    "for link in articles:\n",
    "    url_list.append(link.find(\"a\")[\"href\"])\n",
    "    \n",
    "#url_list\n",
    "\n",
    "\n",
    "url_list2 = list(set(url_list)) ##중복 제거\n",
    "url_list2"
   ]
  },
  {
   "cell_type": "code",
   "execution_count": 3,
   "metadata": {},
   "outputs": [
    {
     "data": {
      "text/plain": [
       "\"// flash 오류를 우회하기 위한 함수 추가\\nfunction _flash_removeCallback() {}\\n\\n\\t\\n\\t[머니투데이 김창현 기자]  정지선 현대백화점그룹 회장이 15일 오후 문재인 대통령 초청으로 열리는 '2019 기업인과의 대화'에 참석하기 위해 청와대로 향하는 버스가 출발하는 서울 중구 대한상공회의소로 들어서고 있다.▶창립20주년 기획 '영리더'▶심석희, 성폭행 피해 폭로 ▶뉴스는 머니투데이 김창현 기자 chmt@mt.co.kr<저작권자 ⓒ '돈이 보이는 리얼타임 뉴스' 머니투데이, 무단전재 및 재배포 금지>\""
      ]
     },
     "execution_count": 3,
     "metadata": {},
     "output_type": "execute_result"
    }
   ],
   "source": [
    "html = urlopen(url_list[0])\n",
    "soup = BeautifulSoup(html,\"html.parser\",from_encoding='utf-8')\n",
    "\n",
    "content = soup.find(\"div\",{\"id\":\"articleBodyContents\"})\n",
    "title = soup.find(\"h3\",{\"id\":\"articleTitle\"}).find(text=True)\n",
    "content.get_text().strip()"
   ]
  },
  {
   "cell_type": "code",
   "execution_count": 4,
   "metadata": {},
   "outputs": [
    {
     "name": "stdout",
     "output_type": "stream",
     "text": [
      "[사진]'기업인과의 대화' 참석하는 정지선 회장\n",
      "  .      머니투데이 김창현 기자     ...정지선 현대백화점그룹 회장이 일 오후 문재인 대통령 초청으로 열리는  기업인과의 대화에 참석하기 위해 청와대로 향하는 버스가 출발하는 서울 중구 대한상공회의소로 들어서고 있다. .... 창립주년 기획 영리더 .... 심석희 성폭행 피해 폭로  .... 뉴스는 머니투데이 김창현 기자 ..저작권자  돈이 보이는 리얼타임 뉴스 머니투데이 무단전재 및 재배포 금지   본문 내용 \n"
     ]
    }
   ],
   "source": [
    "# -*- coding: utf-8 -*-\n",
    "import re\n",
    "hangul = re.compile('[^ ㄱ-ㅣ가-힣.'']+') # # 한글과 띄어쓰기 . ''\"\"를 제외한 모든 글자\n",
    "\n",
    "\n",
    "test = str(content.find)\n",
    "\n",
    "result = hangul.sub('',test) # 한글과 띄어쓰기를 제외한 모든 글자 제외\n",
    "result = re.sub('본문 내용  플레이어   플레이어    오류를 우회하기 위한 함수 추가','',result)\n",
    "result = re.sub('본문 내용  플레이어   동영상 뉴스       영상 플레이어   플레이어    오류를 우회하기 위한 함수 추가','',result)\n",
    "\n",
    "print(title)\n",
    "print(result)"
   ]
  },
  {
   "cell_type": "code",
   "execution_count": null,
   "metadata": {},
   "outputs": [],
   "source": []
  },
  {
   "cell_type": "code",
   "execution_count": null,
   "metadata": {},
   "outputs": [],
   "source": []
  },
  {
   "cell_type": "code",
   "execution_count": null,
   "metadata": {},
   "outputs": [],
   "source": []
  }
 ],
 "metadata": {
  "kernelspec": {
   "display_name": "Python 3",
   "language": "python",
   "name": "python3"
  },
  "language_info": {
   "codemirror_mode": {
    "name": "ipython",
    "version": 3
   },
   "file_extension": ".py",
   "mimetype": "text/x-python",
   "name": "python",
   "nbconvert_exporter": "python",
   "pygments_lexer": "ipython3",
   "version": "3.7.0"
  }
 },
 "nbformat": 4,
 "nbformat_minor": 2
}
