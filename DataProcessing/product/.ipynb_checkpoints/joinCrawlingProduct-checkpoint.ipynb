{
 "cells": [
  {
   "cell_type": "code",
   "execution_count": 1,
   "metadata": {},
   "outputs": [],
   "source": [
    "import os\n",
    "import pandas as pd\n",
    "import json, csv, sys\n",
    "from pandas.io.json import json_normalize\n"
   ]
  },
  {
   "cell_type": "markdown",
   "metadata": {},
   "source": [
    "# file list"
   ]
  },
  {
   "cell_type": "code",
   "execution_count": 2,
   "metadata": {},
   "outputs": [],
   "source": [
    "def getJsonFileNameList(mydir):\n",
    "\n",
    "    fileNameList =os.listdir(mydir)\n",
    "    jsonFileNameList=[]\n",
    "    for file in fileNameList:\n",
    "        if file[-4:] == 'json':\n",
    "            jsonFileNameList.append(file)\n",
    "        \n",
    "    return jsonFileNameList\n",
    "\n",
    "def json2dataframe(mydir, jsonFile):\n",
    "    with open(mydir + jsonFile,encoding='UTF8') as f:\n",
    "        jsonData = json.load(f) # list 얻는다.\n",
    "        \n",
    "    df = pd.DataFrame.from_dict(json_normalize(jsonData), orient='columns')\n",
    "    return df"
   ]
  },
  {
   "cell_type": "code",
   "execution_count": 13,
   "metadata": {},
   "outputs": [],
   "source": [
    "mydir = 'C:/Users/dongm/COSMOCHAIN/Code/DataTeam/DataProcessing/product/crawling/'\n",
    "dir_output = 'C:/Users/dongm/COSMOCHAIN/Data/Product/crawling/'\n",
    "\n",
    "jsonFileNameList = getJsonFileNameList(mydir)"
   ]
  },
  {
   "cell_type": "code",
   "execution_count": 5,
   "metadata": {},
   "outputs": [
    {
     "data": {
      "text/plain": [
       "['aprilskin.json',\n",
       " 'bbia.json',\n",
       " 'bourjois.json',\n",
       " 'clio.json',\n",
       " 'eglips.json',\n",
       " 'giverny.json',\n",
       " 'innisfree.json',\n",
       " 'lunasol.json',\n",
       " 'lush.json',\n",
       " 'mediheal.json',\n",
       " 'naturerepublic.json',\n",
       " 'skinfood.json',\n",
       " 'sonandpark.json',\n",
       " 'thefaceshop.json',\n",
       " 'toocoolforschool.json',\n",
       " 'woodbury.json']"
      ]
     },
     "execution_count": 5,
     "metadata": {},
     "output_type": "execute_result"
    }
   ],
   "source": [
    "jsonFileNameList"
   ]
  },
  {
   "cell_type": "markdown",
   "metadata": {},
   "source": [
    "## colName"
   ]
  },
  {
   "cell_type": "code",
   "execution_count": 4,
   "metadata": {},
   "outputs": [],
   "source": [
    "colName_standard = [\n",
    "    'brand',\n",
    "    'name',\n",
    "    'color',\n",
    "    'volume',\n",
    "    'type',\n",
    "    'category',\n",
    "    'image',\n",
    "    'originalPrice',\n",
    "    'url',\n",
    "    'salePrice',\n",
    "    'id',\n",
    "    'limited',\n",
    "    'originalName',\n",
    "    'notes'\n",
    "]"
   ]
  },
  {
   "cell_type": "markdown",
   "metadata": {},
   "source": [
    "# matching column name"
   ]
  },
  {
   "cell_type": "code",
   "execution_count": 6,
   "metadata": {},
   "outputs": [
    {
     "data": {
      "text/html": [
       "<div>\n",
       "<style scoped>\n",
       "    .dataframe tbody tr th:only-of-type {\n",
       "        vertical-align: middle;\n",
       "    }\n",
       "\n",
       "    .dataframe tbody tr th {\n",
       "        vertical-align: top;\n",
       "    }\n",
       "\n",
       "    .dataframe thead th {\n",
       "        text-align: right;\n",
       "    }\n",
       "</style>\n",
       "<table border=\"1\" class=\"dataframe\">\n",
       "  <thead>\n",
       "    <tr style=\"text-align: right;\">\n",
       "      <th></th>\n",
       "      <th>brand</th>\n",
       "      <th>name</th>\n",
       "      <th>color</th>\n",
       "      <th>volume</th>\n",
       "      <th>type</th>\n",
       "      <th>category</th>\n",
       "      <th>image</th>\n",
       "      <th>originalPrice</th>\n",
       "      <th>url</th>\n",
       "      <th>salePrice</th>\n",
       "      <th>id</th>\n",
       "      <th>limited</th>\n",
       "      <th>originalName</th>\n",
       "      <th>notes</th>\n",
       "    </tr>\n",
       "  </thead>\n",
       "  <tbody>\n",
       "  </tbody>\n",
       "</table>\n",
       "</div>"
      ],
      "text/plain": [
       "Empty DataFrame\n",
       "Columns: [brand, name, color, volume, type, category, image, originalPrice, url, salePrice, id, limited, originalName, notes]\n",
       "Index: []"
      ]
     },
     "execution_count": 6,
     "metadata": {},
     "output_type": "execute_result"
    }
   ],
   "source": [
    "new_df = pd.DataFrame(columns = colName_standard)\n",
    "new_df"
   ]
  },
  {
   "cell_type": "code",
   "execution_count": 7,
   "metadata": {},
   "outputs": [],
   "source": [
    "for jsonFile in jsonFileNameList:\n",
    "    df = json2dataframe(mydir,jsonFile)\n",
    "    new_df = new_df.append(df, ignore_index=True, sort=True)    \n",
    "    "
   ]
  },
  {
   "cell_type": "code",
   "execution_count": 8,
   "metadata": {},
   "outputs": [
    {
     "data": {
      "text/plain": [
       "{'EGLIPS',\n",
       " 'aprilskin',\n",
       " 'bourjois',\n",
       " 'mediheal',\n",
       " 'sonandpark',\n",
       " 'toocoolforschool',\n",
       " '네이처리퍼블릭',\n",
       " '더페이스샵',\n",
       " '러쉬',\n",
       " '루나솔',\n",
       " '삐아',\n",
       " '스킨푸드',\n",
       " '우드버리',\n",
       " '이니스프리',\n",
       " '지베르니',\n",
       " '클리오'}"
      ]
     },
     "execution_count": 8,
     "metadata": {},
     "output_type": "execute_result"
    }
   ],
   "source": [
    "set(new_df['brand'])    "
   ]
  },
  {
   "cell_type": "code",
   "execution_count": 9,
   "metadata": {},
   "outputs": [
    {
     "data": {
      "text/html": [
       "<div>\n",
       "<style scoped>\n",
       "    .dataframe tbody tr th:only-of-type {\n",
       "        vertical-align: middle;\n",
       "    }\n",
       "\n",
       "    .dataframe tbody tr th {\n",
       "        vertical-align: top;\n",
       "    }\n",
       "\n",
       "    .dataframe thead th {\n",
       "        text-align: right;\n",
       "    }\n",
       "</style>\n",
       "<table border=\"1\" class=\"dataframe\">\n",
       "  <thead>\n",
       "    <tr style=\"text-align: right;\">\n",
       "      <th></th>\n",
       "      <th>brand</th>\n",
       "      <th>category</th>\n",
       "      <th>color</th>\n",
       "      <th>id</th>\n",
       "      <th>image</th>\n",
       "      <th>limited</th>\n",
       "      <th>name</th>\n",
       "      <th>notes</th>\n",
       "      <th>originalName</th>\n",
       "      <th>originalPrice</th>\n",
       "      <th>salePrice</th>\n",
       "      <th>type</th>\n",
       "      <th>url</th>\n",
       "      <th>volume</th>\n",
       "    </tr>\n",
       "  </thead>\n",
       "  <tbody>\n",
       "    <tr>\n",
       "      <th>0</th>\n",
       "      <td>aprilskin</td>\n",
       "      <td>페이스 메이크업 ()</td>\n",
       "      <td>[리미티드] 21호 라이트베이지</td>\n",
       "      <td>NaN</td>\n",
       "      <td>[http://aprilskin.com/web/product/small/201901...</td>\n",
       "      <td>NaN</td>\n",
       "      <td>[리미티드]퍼펙트 매직 커버 핏 쿠션 2.0 핑크홀릭</td>\n",
       "      <td>NaN</td>\n",
       "      <td>NaN</td>\n",
       "      <td>34000</td>\n",
       "      <td>29000</td>\n",
       "      <td>NaN</td>\n",
       "      <td>http://aprilskin.com/product/detail.html?produ...</td>\n",
       "      <td></td>\n",
       "    </tr>\n",
       "    <tr>\n",
       "      <th>1</th>\n",
       "      <td>aprilskin</td>\n",
       "      <td>페이스 메이크업 ()</td>\n",
       "      <td>[리미티드] 22호 핑크베이지</td>\n",
       "      <td>NaN</td>\n",
       "      <td>[http://aprilskin.com/web/product/small/201901...</td>\n",
       "      <td>NaN</td>\n",
       "      <td>[리미티드]퍼펙트 매직 커버 핏 쿠션 2.0 핑크홀릭</td>\n",
       "      <td>NaN</td>\n",
       "      <td>NaN</td>\n",
       "      <td>34000</td>\n",
       "      <td>29000</td>\n",
       "      <td>NaN</td>\n",
       "      <td>http://aprilskin.com/product/detail.html?produ...</td>\n",
       "      <td></td>\n",
       "    </tr>\n",
       "    <tr>\n",
       "      <th>2</th>\n",
       "      <td>aprilskin</td>\n",
       "      <td>페이스 메이크업 ()</td>\n",
       "      <td>[리미티드] 23호 내추럴베이지</td>\n",
       "      <td>NaN</td>\n",
       "      <td>[http://aprilskin.com/web/product/small/201901...</td>\n",
       "      <td>NaN</td>\n",
       "      <td>[리미티드]퍼펙트 매직 커버 핏 쿠션 2.0 핑크홀릭</td>\n",
       "      <td>NaN</td>\n",
       "      <td>NaN</td>\n",
       "      <td>34000</td>\n",
       "      <td>29000</td>\n",
       "      <td>NaN</td>\n",
       "      <td>http://aprilskin.com/product/detail.html?produ...</td>\n",
       "      <td></td>\n",
       "    </tr>\n",
       "    <tr>\n",
       "      <th>3</th>\n",
       "      <td>aprilskin</td>\n",
       "      <td>페이스 메이크업 ()</td>\n",
       "      <td>[오리지널] 17호 모찌베이지</td>\n",
       "      <td>NaN</td>\n",
       "      <td>[http://aprilskin.com/web/product/small/201901...</td>\n",
       "      <td>NaN</td>\n",
       "      <td>[리미티드]퍼펙트 매직 커버 핏 쿠션 2.0 핑크홀릭</td>\n",
       "      <td>NaN</td>\n",
       "      <td>NaN</td>\n",
       "      <td>34000</td>\n",
       "      <td>29000</td>\n",
       "      <td>NaN</td>\n",
       "      <td>http://aprilskin.com/product/detail.html?produ...</td>\n",
       "      <td></td>\n",
       "    </tr>\n",
       "    <tr>\n",
       "      <th>4</th>\n",
       "      <td>aprilskin</td>\n",
       "      <td>페이스 메이크업 ()</td>\n",
       "      <td>[오리지널] 21호 라이트베이지</td>\n",
       "      <td>NaN</td>\n",
       "      <td>[http://aprilskin.com/web/product/small/201901...</td>\n",
       "      <td>NaN</td>\n",
       "      <td>[리미티드]퍼펙트 매직 커버 핏 쿠션 2.0 핑크홀릭</td>\n",
       "      <td>NaN</td>\n",
       "      <td>NaN</td>\n",
       "      <td>34000</td>\n",
       "      <td>29000</td>\n",
       "      <td>NaN</td>\n",
       "      <td>http://aprilskin.com/product/detail.html?produ...</td>\n",
       "      <td></td>\n",
       "    </tr>\n",
       "  </tbody>\n",
       "</table>\n",
       "</div>"
      ],
      "text/plain": [
       "       brand     category              color   id  \\\n",
       "0  aprilskin  페이스 메이크업 ()  [리미티드] 21호 라이트베이지  NaN   \n",
       "1  aprilskin  페이스 메이크업 ()   [리미티드] 22호 핑크베이지  NaN   \n",
       "2  aprilskin  페이스 메이크업 ()  [리미티드] 23호 내추럴베이지  NaN   \n",
       "3  aprilskin  페이스 메이크업 ()   [오리지널] 17호 모찌베이지  NaN   \n",
       "4  aprilskin  페이스 메이크업 ()  [오리지널] 21호 라이트베이지  NaN   \n",
       "\n",
       "                                               image limited  \\\n",
       "0  [http://aprilskin.com/web/product/small/201901...     NaN   \n",
       "1  [http://aprilskin.com/web/product/small/201901...     NaN   \n",
       "2  [http://aprilskin.com/web/product/small/201901...     NaN   \n",
       "3  [http://aprilskin.com/web/product/small/201901...     NaN   \n",
       "4  [http://aprilskin.com/web/product/small/201901...     NaN   \n",
       "\n",
       "                            name notes originalName originalPrice salePrice  \\\n",
       "0  [리미티드]퍼펙트 매직 커버 핏 쿠션 2.0 핑크홀릭   NaN          NaN         34000     29000   \n",
       "1  [리미티드]퍼펙트 매직 커버 핏 쿠션 2.0 핑크홀릭   NaN          NaN         34000     29000   \n",
       "2  [리미티드]퍼펙트 매직 커버 핏 쿠션 2.0 핑크홀릭   NaN          NaN         34000     29000   \n",
       "3  [리미티드]퍼펙트 매직 커버 핏 쿠션 2.0 핑크홀릭   NaN          NaN         34000     29000   \n",
       "4  [리미티드]퍼펙트 매직 커버 핏 쿠션 2.0 핑크홀릭   NaN          NaN         34000     29000   \n",
       "\n",
       "  type                                                url volume  \n",
       "0  NaN  http://aprilskin.com/product/detail.html?produ...         \n",
       "1  NaN  http://aprilskin.com/product/detail.html?produ...         \n",
       "2  NaN  http://aprilskin.com/product/detail.html?produ...         \n",
       "3  NaN  http://aprilskin.com/product/detail.html?produ...         \n",
       "4  NaN  http://aprilskin.com/product/detail.html?produ...         "
      ]
     },
     "execution_count": 9,
     "metadata": {},
     "output_type": "execute_result"
    }
   ],
   "source": [
    "new_df.head()"
   ]
  },
  {
   "cell_type": "code",
   "execution_count": 15,
   "metadata": {},
   "outputs": [],
   "source": [
    "# outputname = dir_output+'output_total.xlsx'\n",
    "writer = pd.ExcelWriter(dir_output + 'crawling_product.xlsx', engine='xlsxwriter',options={'strings_to_urls': False})\n",
    "new_df.to_excel(writer, sheet_name='Sheet1')\n",
    "writer.close()"
   ]
  },
  {
   "cell_type": "code",
   "execution_count": null,
   "metadata": {},
   "outputs": [],
   "source": []
  }
 ],
 "metadata": {
  "kernelspec": {
   "display_name": "Python 3",
   "language": "python",
   "name": "python3"
  },
  "language_info": {
   "codemirror_mode": {
    "name": "ipython",
    "version": 3
   },
   "file_extension": ".py",
   "mimetype": "text/x-python",
   "name": "python",
   "nbconvert_exporter": "python",
   "pygments_lexer": "ipython3",
   "version": "3.7.0"
  }
 },
 "nbformat": 4,
 "nbformat_minor": 2
}
