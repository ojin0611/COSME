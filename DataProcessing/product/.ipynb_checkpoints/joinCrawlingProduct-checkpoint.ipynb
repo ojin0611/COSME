{
 "cells": [
  {
   "cell_type": "code",
   "execution_count": 16,
   "metadata": {},
   "outputs": [],
   "source": [
    "import os\n",
    "import pandas as pd\n",
    "import json, csv, sys\n",
    "from pandas.io.json import json_normalize\n"
   ]
  },
  {
   "cell_type": "markdown",
   "metadata": {},
   "source": [
    "# file list"
   ]
  },
  {
   "cell_type": "code",
   "execution_count": 17,
   "metadata": {},
   "outputs": [],
   "source": [
    "def getJsonFileNameList(mydir):\n",
    "\n",
    "    fileNameList =os.listdir(mydir)\n",
    "    jsonFileNameList=[]\n",
    "    for file in fileNameList:\n",
    "        if file[-4:] == 'json':\n",
    "            jsonFileNameList.append(file)\n",
    "        \n",
    "    return jsonFileNameList\n",
    "\n",
    "def json2dataframe(mydir, jsonFile):\n",
    "    with open(mydir + jsonFile,encoding='UTF8') as f:\n",
    "        jsonData = json.load(f) # list 얻는다.\n",
    "        \n",
    "    df = pd.DataFrame.from_dict(json_normalize(jsonData), orient='columns')\n",
    "    return df"
   ]
  },
  {
   "cell_type": "code",
   "execution_count": 18,
   "metadata": {},
   "outputs": [],
   "source": [
    "mydir = 'C:/Users/dongm/COSMOCHAIN/Code/DataTeam/DataProcessing/product/crawling/Manual/'\n",
    "dir_output = 'C:/Users/dongm/COSMOCHAIN/Data/Product/crawling/'\n",
    "\n",
    "jsonFileNameList = getJsonFileNameList(mydir)"
   ]
  },
  {
   "cell_type": "code",
   "execution_count": 19,
   "metadata": {},
   "outputs": [
    {
     "data": {
      "text/plain": [
       "['ohui.json']"
      ]
     },
     "execution_count": 19,
     "metadata": {},
     "output_type": "execute_result"
    }
   ],
   "source": [
    "jsonFileNameList"
   ]
  },
  {
   "cell_type": "markdown",
   "metadata": {},
   "source": [
    "## colName"
   ]
  },
  {
   "cell_type": "code",
   "execution_count": 20,
   "metadata": {},
   "outputs": [],
   "source": [
    "colName_standard = [\n",
    "    'brand',\n",
    "    'name',\n",
    "    'color',\n",
    "    'volume',\n",
    "    'type',\n",
    "    'category',\n",
    "    'image',\n",
    "    'originalPrice',\n",
    "    'url',\n",
    "    'salePrice',\n",
    "    'id',\n",
    "    'limited',\n",
    "    'originalName',\n",
    "    'notes'\n",
    "]"
   ]
  },
  {
   "cell_type": "markdown",
   "metadata": {},
   "source": [
    "# matching column name"
   ]
  },
  {
   "cell_type": "code",
   "execution_count": 21,
   "metadata": {},
   "outputs": [
    {
     "data": {
      "text/html": [
       "<div>\n",
       "<style scoped>\n",
       "    .dataframe tbody tr th:only-of-type {\n",
       "        vertical-align: middle;\n",
       "    }\n",
       "\n",
       "    .dataframe tbody tr th {\n",
       "        vertical-align: top;\n",
       "    }\n",
       "\n",
       "    .dataframe thead th {\n",
       "        text-align: right;\n",
       "    }\n",
       "</style>\n",
       "<table border=\"1\" class=\"dataframe\">\n",
       "  <thead>\n",
       "    <tr style=\"text-align: right;\">\n",
       "      <th></th>\n",
       "      <th>brand</th>\n",
       "      <th>name</th>\n",
       "      <th>color</th>\n",
       "      <th>volume</th>\n",
       "      <th>type</th>\n",
       "      <th>category</th>\n",
       "      <th>image</th>\n",
       "      <th>originalPrice</th>\n",
       "      <th>url</th>\n",
       "      <th>salePrice</th>\n",
       "      <th>id</th>\n",
       "      <th>limited</th>\n",
       "      <th>originalName</th>\n",
       "      <th>notes</th>\n",
       "    </tr>\n",
       "  </thead>\n",
       "  <tbody>\n",
       "  </tbody>\n",
       "</table>\n",
       "</div>"
      ],
      "text/plain": [
       "Empty DataFrame\n",
       "Columns: [brand, name, color, volume, type, category, image, originalPrice, url, salePrice, id, limited, originalName, notes]\n",
       "Index: []"
      ]
     },
     "execution_count": 21,
     "metadata": {},
     "output_type": "execute_result"
    }
   ],
   "source": [
    "new_df = pd.DataFrame(columns = colName_standard)\n",
    "new_df"
   ]
  },
  {
   "cell_type": "code",
   "execution_count": 22,
   "metadata": {},
   "outputs": [],
   "source": [
    "for jsonFile in jsonFileNameList:\n",
    "    df = json2dataframe(mydir,jsonFile)\n",
    "    new_df = new_df.append(df, ignore_index=True, sort=True)    \n",
    "    "
   ]
  },
  {
   "cell_type": "code",
   "execution_count": 23,
   "metadata": {},
   "outputs": [
    {
     "data": {
      "text/plain": [
       "{'ohui'}"
      ]
     },
     "execution_count": 23,
     "metadata": {},
     "output_type": "execute_result"
    }
   ],
   "source": [
    "set(new_df['brand'])    "
   ]
  },
  {
   "cell_type": "code",
   "execution_count": 24,
   "metadata": {},
   "outputs": [
    {
     "data": {
      "text/html": [
       "<div>\n",
       "<style scoped>\n",
       "    .dataframe tbody tr th:only-of-type {\n",
       "        vertical-align: middle;\n",
       "    }\n",
       "\n",
       "    .dataframe tbody tr th {\n",
       "        vertical-align: top;\n",
       "    }\n",
       "\n",
       "    .dataframe thead th {\n",
       "        text-align: right;\n",
       "    }\n",
       "</style>\n",
       "<table border=\"1\" class=\"dataframe\">\n",
       "  <thead>\n",
       "    <tr style=\"text-align: right;\">\n",
       "      <th></th>\n",
       "      <th>brand</th>\n",
       "      <th>category</th>\n",
       "      <th>color</th>\n",
       "      <th>id</th>\n",
       "      <th>image</th>\n",
       "      <th>limited</th>\n",
       "      <th>name</th>\n",
       "      <th>notes</th>\n",
       "      <th>originalName</th>\n",
       "      <th>originalPrice</th>\n",
       "      <th>salePrice</th>\n",
       "      <th>type</th>\n",
       "      <th>url</th>\n",
       "      <th>volume</th>\n",
       "    </tr>\n",
       "  </thead>\n",
       "  <tbody>\n",
       "    <tr>\n",
       "      <th>0</th>\n",
       "      <td>ohui</td>\n",
       "      <td>Home &gt; CATEGORY &gt; Cleansing</td>\n",
       "      <td>#</td>\n",
       "      <td>NaN</td>\n",
       "      <td>[http://www.careshop.co.kr/eimages/display/ACM...</td>\n",
       "      <td>NaN</td>\n",
       "      <td>피토 바이탈 딥 퓨리파잉 솝</td>\n",
       "      <td>NaN</td>\n",
       "      <td>NaN</td>\n",
       "      <td>#</td>\n",
       "      <td>#</td>\n",
       "      <td>NaN</td>\n",
       "      <td>http://www.ohui.co.kr/product/detail.jsp?pid=A...</td>\n",
       "      <td>130g</td>\n",
       "    </tr>\n",
       "    <tr>\n",
       "      <th>1</th>\n",
       "      <td>ohui</td>\n",
       "      <td>Home &gt; CATEGORY &gt; Cleansing</td>\n",
       "      <td>#</td>\n",
       "      <td>NaN</td>\n",
       "      <td>[http://www.careshop.co.kr/eimages/display/ACM...</td>\n",
       "      <td>NaN</td>\n",
       "      <td>미라클 아쿠아 버블 클렌저</td>\n",
       "      <td>NaN</td>\n",
       "      <td>NaN</td>\n",
       "      <td>#</td>\n",
       "      <td>#</td>\n",
       "      <td>NaN</td>\n",
       "      <td>http://www.ohui.co.kr/product/detail.jsp?pid=A...</td>\n",
       "      <td>150ml</td>\n",
       "    </tr>\n",
       "  </tbody>\n",
       "</table>\n",
       "</div>"
      ],
      "text/plain": [
       "  brand                     category color   id  \\\n",
       "0  ohui  Home > CATEGORY > Cleansing     #  NaN   \n",
       "1  ohui  Home > CATEGORY > Cleansing     #  NaN   \n",
       "\n",
       "                                               image limited             name  \\\n",
       "0  [http://www.careshop.co.kr/eimages/display/ACM...     NaN  피토 바이탈 딥 퓨리파잉 솝   \n",
       "1  [http://www.careshop.co.kr/eimages/display/ACM...     NaN   미라클 아쿠아 버블 클렌저   \n",
       "\n",
       "  notes originalName originalPrice salePrice type  \\\n",
       "0   NaN          NaN             #         #  NaN   \n",
       "1   NaN          NaN             #         #  NaN   \n",
       "\n",
       "                                                 url volume  \n",
       "0  http://www.ohui.co.kr/product/detail.jsp?pid=A...   130g  \n",
       "1  http://www.ohui.co.kr/product/detail.jsp?pid=A...  150ml  "
      ]
     },
     "execution_count": 24,
     "metadata": {},
     "output_type": "execute_result"
    }
   ],
   "source": [
    "new_df.head(2)"
   ]
  },
  {
   "cell_type": "code",
   "execution_count": 25,
   "metadata": {},
   "outputs": [],
   "source": [
    "# outputname = dir_output+'output_total.xlsx'\n",
    "writer = pd.ExcelWriter(dir_output + 'crawling product.xlsx', engine='xlsxwriter',options={'strings_to_urls': False})\n",
    "new_df.to_excel(writer, sheet_name='Sheet1')\n",
    "writer.close()"
   ]
  },
  {
   "cell_type": "code",
   "execution_count": null,
   "metadata": {},
   "outputs": [],
   "source": []
  }
 ],
 "metadata": {
  "kernelspec": {
   "display_name": "Python 3",
   "language": "python",
   "name": "python3"
  },
  "language_info": {
   "codemirror_mode": {
    "name": "ipython",
    "version": 3
   },
   "file_extension": ".py",
   "mimetype": "text/x-python",
   "name": "python",
   "nbconvert_exporter": "python",
   "pygments_lexer": "ipython3",
   "version": "3.7.0"
  }
 },
 "nbformat": 4,
 "nbformat_minor": 2
}
