{
 "cells": [
  {
   "cell_type": "markdown",
   "metadata": {},
   "source": [
    "# 코스미 데이터 분석"
   ]
  },
  {
   "cell_type": "code",
   "execution_count": 1,
   "metadata": {},
   "outputs": [
    {
     "name": "stderr",
     "output_type": "stream",
     "text": [
      "C:\\Users\\dongm\\Anaconda3\\lib\\site-packages\\ipykernel\\parentpoller.py:116: UserWarning: Parent poll failed.  If the frontend dies,\n",
      "                the kernel may be left running.  Please let us know\n",
      "                about your system (bitness, Python, etc.) at\n",
      "                ipython-dev@scipy.org\n",
      "  ipython-dev@scipy.org\"\"\")\n"
     ]
    }
   ],
   "source": [
    "import os\n",
    "import pandas as pd\n",
    "import ast # to convert a string to dict\n",
    "from collections import Counter"
   ]
  },
  {
   "cell_type": "code",
   "execution_count": 2,
   "metadata": {},
   "outputs": [
    {
     "data": {
      "text/plain": [
       "['comments.csv',\n",
       " 'comments_update.csv',\n",
       " 'downvote.csv',\n",
       " 'posts.csv',\n",
       " 'posts_tags.csv',\n",
       " 'recomments.csv',\n",
       " 'recomments_update.csv',\n",
       " 'sort.csv',\n",
       " 'user.csv',\n",
       " 'vote.csv']"
      ]
     },
     "metadata": {},
     "output_type": "display_data"
    }
   ],
   "source": [
    "mydir = 'C:/Users/dongm/COSMOCHAIN/Data/Pilot/'\n",
    "filelist =os.listdir(mydir)\n",
    "display(filelist)"
   ]
  },
  {
   "cell_type": "markdown",
   "metadata": {},
   "source": [
    "# csv 파일에서 dataframe으로 전환!"
   ]
  },
  {
   "cell_type": "code",
   "execution_count": 3,
   "metadata": {},
   "outputs": [],
   "source": [
    "# status 공란 비우기\n",
    "def getCleanDF(mydir,inp):\n",
    "    try:\n",
    "        data = pd.read_csv(mydir+inp, encoding='UTF-8')\n",
    "    except:\n",
    "        data = pd.read_csv(mydir+inp, encoding='cp949')\n",
    "\n",
    "    data = data.dropna()\n",
    "    data=data[data.iloc[:,0]!='\"\"']\n",
    "    try:\n",
    "        data=data[data.iloc[:,1]!='\"\"']\n",
    "    except:\n",
    "        pass\n",
    "    \n",
    "    try:\n",
    "        data=data[data.iloc[:,2]!='\"\"'] # ?\n",
    "    except:\n",
    "        pass\n",
    "    return data\n"
   ]
  },
  {
   "cell_type": "code",
   "execution_count": 4,
   "metadata": {},
   "outputs": [
    {
     "name": "stderr",
     "output_type": "stream",
     "text": [
      "C:\\Users\\dongm\\Anaconda3\\lib\\site-packages\\pandas\\core\\ops.py:1167: FutureWarning: elementwise comparison failed; returning scalar instead, but in the future will perform elementwise comparison\n",
      "  result = method(y)\n"
     ]
    }
   ],
   "source": [
    "dic_data={}\n",
    "for i in range(len(filelist)):\n",
    "    inputfilename= filelist[i]\n",
    "    df=getCleanDF(mydir,inputfilename)\n",
    "    dic_data[inputfilename]=df"
   ]
  },
  {
   "cell_type": "markdown",
   "metadata": {},
   "source": [
    "# tag + activities"
   ]
  },
  {
   "cell_type": "code",
   "execution_count": 5,
   "metadata": {},
   "outputs": [],
   "source": [
    "activities = ['recomments.csv', 'comments.csv', 'downvote.csv', 'vote.csv', 'posts.csv']\n",
    "def tags_activity(activity):\n",
    "    caller = dic_data[activity]\n",
    "    other  = dic_data['posts_tags.csv']\n",
    "    try:\n",
    "        tags_activity = caller.set_index('postid').join(other.set_index('postid'))\n",
    "    except:\n",
    "        tags_activity = caller.set_index('targetid').join(other.set_index('postid'))\n",
    "        tags_activity.index.name = 'postid'\n",
    "        \n",
    "    return tags_activity"
   ]
  },
  {
   "cell_type": "code",
   "execution_count": 6,
   "metadata": {},
   "outputs": [],
   "source": [
    "tags_recomments = tags_activity('recomments.csv')\n",
    "tags_comments = tags_activity('comments.csv')\n",
    "tags_downvote = tags_activity('downvote.csv')\n",
    "tags_vote = tags_activity('vote.csv')\n",
    "tags_posts = tags_activity('posts.csv')"
   ]
  },
  {
   "cell_type": "markdown",
   "metadata": {},
   "source": [
    "# what is category of this tag?"
   ]
  },
  {
   "cell_type": "code",
   "execution_count": 7,
   "metadata": {},
   "outputs": [
    {
     "data": {
      "text/html": [
       "<div>\n",
       "<style scoped>\n",
       "    .dataframe tbody tr th:only-of-type {\n",
       "        vertical-align: middle;\n",
       "    }\n",
       "\n",
       "    .dataframe tbody tr th {\n",
       "        vertical-align: top;\n",
       "    }\n",
       "\n",
       "    .dataframe thead th {\n",
       "        text-align: right;\n",
       "    }\n",
       "</style>\n",
       "<table border=\"1\" class=\"dataframe\">\n",
       "  <thead>\n",
       "    <tr style=\"text-align: right;\">\n",
       "      <th></th>\n",
       "      <th>태그</th>\n",
       "      <th>횟수</th>\n",
       "      <th>분류</th>\n",
       "    </tr>\n",
       "  </thead>\n",
       "  <tbody>\n",
       "    <tr>\n",
       "      <th>0</th>\n",
       "      <td>코스미</td>\n",
       "      <td>7874</td>\n",
       "      <td>기타</td>\n",
       "    </tr>\n",
       "    <tr>\n",
       "      <th>1</th>\n",
       "      <td>보습</td>\n",
       "      <td>3453</td>\n",
       "      <td>기능</td>\n",
       "    </tr>\n",
       "    <tr>\n",
       "      <th>2</th>\n",
       "      <td>향수</td>\n",
       "      <td>2803</td>\n",
       "      <td>카테고리별</td>\n",
       "    </tr>\n",
       "    <tr>\n",
       "      <th>3</th>\n",
       "      <td>메이크업</td>\n",
       "      <td>2241</td>\n",
       "      <td>메이크업</td>\n",
       "    </tr>\n",
       "    <tr>\n",
       "      <th>4</th>\n",
       "      <td>립스틱</td>\n",
       "      <td>2104</td>\n",
       "      <td>카테고리별</td>\n",
       "    </tr>\n",
       "  </tbody>\n",
       "</table>\n",
       "</div>"
      ],
      "text/plain": [
       "     태그    횟수     분류\n",
       "0   코스미  7874     기타\n",
       "1    보습  3453     기능\n",
       "2    향수  2803  카테고리별\n",
       "3  메이크업  2241   메이크업\n",
       "4   립스틱  2104  카테고리별"
      ]
     },
     "execution_count": 7,
     "metadata": {},
     "output_type": "execute_result"
    }
   ],
   "source": [
    "sortoftag = dic_data['sort.csv']\n",
    "sortoftag.head()"
   ]
  },
  {
   "cell_type": "markdown",
   "metadata": {},
   "source": [
    "# user"
   ]
  },
  {
   "cell_type": "code",
   "execution_count": 8,
   "metadata": {},
   "outputs": [
    {
     "data": {
      "text/html": [
       "<div>\n",
       "<style scoped>\n",
       "    .dataframe tbody tr th:only-of-type {\n",
       "        vertical-align: middle;\n",
       "    }\n",
       "\n",
       "    .dataframe tbody tr th {\n",
       "        vertical-align: top;\n",
       "    }\n",
       "\n",
       "    .dataframe thead th {\n",
       "        text-align: right;\n",
       "    }\n",
       "</style>\n",
       "<table border=\"1\" class=\"dataframe\">\n",
       "  <thead>\n",
       "    <tr style=\"text-align: right;\">\n",
       "      <th></th>\n",
       "      <th>userid</th>\n",
       "      <th>skinConcerns</th>\n",
       "      <th>skinTone</th>\n",
       "      <th>skinType</th>\n",
       "      <th>age</th>\n",
       "      <th>gender</th>\n",
       "    </tr>\n",
       "  </thead>\n",
       "  <tbody>\n",
       "    <tr>\n",
       "      <th>0</th>\n",
       "      <td>851e3305-731c-47fa-9490-9f5ad27bb5e0</td>\n",
       "      <td>[DRY]</td>\n",
       "      <td>BRIGHT</td>\n",
       "      <td>OILY</td>\n",
       "      <td>43</td>\n",
       "      <td>MALE</td>\n",
       "    </tr>\n",
       "    <tr>\n",
       "      <th>1</th>\n",
       "      <td>57e1cd81-1e3a-43a4-a29b-87afdec001b2</td>\n",
       "      <td>[WHITENING, SENSITIVE]</td>\n",
       "      <td>BRIGHT</td>\n",
       "      <td>DRY</td>\n",
       "      <td>39</td>\n",
       "      <td>MALE</td>\n",
       "    </tr>\n",
       "    <tr>\n",
       "      <th>2</th>\n",
       "      <td>8f589409-f23a-49ef-bd24-d5883793d8e2</td>\n",
       "      <td>[WRINKLE, BLACKHEAD, DRY]</td>\n",
       "      <td>DARK</td>\n",
       "      <td>OILY</td>\n",
       "      <td>35</td>\n",
       "      <td>MALE</td>\n",
       "    </tr>\n",
       "    <tr>\n",
       "      <th>3</th>\n",
       "      <td>5abdfe80-2caa-4981-b117-5500a085f9d5</td>\n",
       "      <td>[WRINKLE, SENSITIVE, DRY]</td>\n",
       "      <td>DARK</td>\n",
       "      <td>COMBINATION</td>\n",
       "      <td>37</td>\n",
       "      <td>MALE</td>\n",
       "    </tr>\n",
       "    <tr>\n",
       "      <th>4</th>\n",
       "      <td>ee9d7f9a-2dc9-40f1-99eb-57e611ad7cc3</td>\n",
       "      <td>[WHITENING, BLACKHEAD, ACNE]</td>\n",
       "      <td>MIDDLE</td>\n",
       "      <td>OILY</td>\n",
       "      <td>24</td>\n",
       "      <td>FEMALE</td>\n",
       "    </tr>\n",
       "  </tbody>\n",
       "</table>\n",
       "</div>"
      ],
      "text/plain": [
       "                                 userid                  skinConcerns  \\\n",
       "0  851e3305-731c-47fa-9490-9f5ad27bb5e0                         [DRY]   \n",
       "1  57e1cd81-1e3a-43a4-a29b-87afdec001b2        [WHITENING, SENSITIVE]   \n",
       "2  8f589409-f23a-49ef-bd24-d5883793d8e2     [WRINKLE, BLACKHEAD, DRY]   \n",
       "3  5abdfe80-2caa-4981-b117-5500a085f9d5     [WRINKLE, SENSITIVE, DRY]   \n",
       "4  ee9d7f9a-2dc9-40f1-99eb-57e611ad7cc3  [WHITENING, BLACKHEAD, ACNE]   \n",
       "\n",
       "  skinTone     skinType  age  gender  \n",
       "0   BRIGHT         OILY   43    MALE  \n",
       "1   BRIGHT          DRY   39    MALE  \n",
       "2     DARK         OILY   35    MALE  \n",
       "3     DARK  COMBINATION   37    MALE  \n",
       "4   MIDDLE         OILY   24  FEMALE  "
      ]
     },
     "execution_count": 8,
     "metadata": {},
     "output_type": "execute_result"
    }
   ],
   "source": [
    "user = dic_data['user.csv']\n",
    "user = user.reset_index()\n",
    "user = user.drop(columns=['index'])\n",
    "\n",
    "skinConcerns = []\n",
    "skinTone = []\n",
    "skinType = []\n",
    "# get Age of user (2019년 기준)\n",
    "age = []\n",
    "gender   = []\n",
    "for i in range(len(user)):\n",
    "    skinConcerns.append(ast.literal_eval(user['basicskininfo'][i])['skinConcerns'])\n",
    "    skinTone.append(ast.literal_eval(user['basicskininfo'][i])['skinTone'])\n",
    "    skinType.append(ast.literal_eval(user['basicskininfo'][i])['skinType'])\n",
    "    thisage = 2020 - int(ast.literal_eval(user['profileproperties'][i])['birthday'][:4])\n",
    "    age.append(thisage)\n",
    "    gender.append(ast.literal_eval(user['profileproperties'][i])['gender'])\n",
    "    \n",
    "\n",
    "user['skinConcerns']= skinConcerns\n",
    "user['skinTone']    = skinTone\n",
    "user['skinType']    = skinType\n",
    "user['age']         = age\n",
    "user['gender']      = gender\n",
    "\n",
    "user = user.drop(columns=['basicskininfo','profileproperties'])\n",
    "user.head()"
   ]
  },
  {
   "cell_type": "markdown",
   "metadata": {},
   "source": [
    "# Now we have"
   ]
  },
  {
   "cell_type": "code",
   "execution_count": 9,
   "metadata": {},
   "outputs": [
    {
     "name": "stdout",
     "output_type": "stream",
     "text": [
      "Tables are ready!\n"
     ]
    }
   ],
   "source": [
    "user\n",
    "tags_recomments\n",
    "tags_comments\n",
    "tags_downvote\n",
    "tags_vote\n",
    "tags_posts\n",
    "sortoftag\n",
    "print('Tables are ready!')"
   ]
  },
  {
   "cell_type": "markdown",
   "metadata": {},
   "source": [
    "# get result1"
   ]
  },
  {
   "cell_type": "code",
   "execution_count": 10,
   "metadata": {},
   "outputs": [],
   "source": [
    "def user_activity(caller,other):\n",
    "    try:\n",
    "        user_act = caller.set_index('userid').join(other.set_index('authorid'))\n",
    "    except:\n",
    "        user_act = caller.set_index('userid').join(other.set_index('userid'))\n",
    "\n",
    "    user_act = user_act.dropna()\n",
    "    user_act.index.name = 'userid'\n",
    "    return user_act"
   ]
  },
  {
   "cell_type": "code",
   "execution_count": 11,
   "metadata": {},
   "outputs": [
    {
     "name": "stdout",
     "output_type": "stream",
     "text": [
      "skinType: {'OILY', 'DRY', 'NORMAL', 'COMBINATION'}\n",
      "skinTone: {'MIDDLE', 'BRIGHT', 'DARK'}\n"
     ]
    }
   ],
   "source": [
    "caller = user\n",
    "activities = [tags_recomments, tags_comments, tags_downvote, tags_vote, tags_posts]\n",
    "other  = tags_posts\n",
    "\n",
    "user_posts = user_activity(caller,other)\n",
    "\n",
    "print('skinType:',set(user_posts['skinType']))\n",
    "print('skinTone:',set(user_posts['skinTone']))"
   ]
  },
  {
   "cell_type": "code",
   "execution_count": 12,
   "metadata": {},
   "outputs": [],
   "source": [
    "def seeTopN(df, colname, col):\n",
    "    user = df[df[colname]==col]\n",
    "    counter = Counter(user['name'])\n",
    "    '''\n",
    "    ignore = ['코스미','보습','향수','메이크업','핸드크림','이니스프리','코스미콘테스트','코스미화이팅']\n",
    "    for word in list(counter):\n",
    "        if word in ignore:\n",
    "            del counter[word]\n",
    "    '''\n",
    "    \n",
    "    return counter.most_common(30)\n"
   ]
  },
  {
   "cell_type": "code",
   "execution_count": 13,
   "metadata": {},
   "outputs": [
    {
     "name": "stdout",
     "output_type": "stream",
     "text": [
      "톤별: ['코스미', '보습', '메이크업', '향수', '립스틱', '수분', '핸드크림', '틴트', '크림', '마스크팩', '수분크림', '립밤', '코스미콘테스트', '로션', '스킨', '에센스', '샴푸', '이니스프리', '선크림', '바디로션', '향수추천', '코스미화이팅']\n",
      "톤별: ['코스미', '보습', '향수', '메이크업', '핸드크림', '립스틱', '수분', '틴트', '마스크팩', '이니스프리', '수분크림', '립밤', '크림', '로션', '샴푸', '에센스', '코스미콘테스트', '선크림', '바디로션', '코스미화이팅', '스킨', '미스트', '향수추천']\n"
     ]
    }
   ],
   "source": [
    "om = seeTopN(user_posts, 'skinTone', 'MIDDLE')\n",
    "ob = seeTopN(user_posts, 'skinTone', 'BRIGHT')\n",
    "od = seeTopN(user_posts, 'skinTone', 'DARK')\n",
    "\n",
    "yd = seeTopN(user_posts, 'skinType', 'DRY')\n",
    "yc = seeTopN(user_posts, 'skinType', 'COMBINATION')\n",
    "yn = seeTopN(user_posts, 'skinType', 'NORMAL')\n",
    "yo = seeTopN(user_posts, 'skinType', 'OILY')\n",
    "\n",
    "\n",
    "\n",
    "yd = dict(yd)\n",
    "yc = dict(yc)\n",
    "yn = dict(yn)\n",
    "yo = dict(yo)\n",
    "\n",
    "c1=Counter(list(yd.keys()))\n",
    "c2=Counter(list(yc.keys()))\n",
    "c3=Counter(list(yn.keys()))\n",
    "c4=Counter(list(yo.keys()))\n",
    "ccc=c1+c2+c3+c4\n",
    "keylist=[]\n",
    "for i,key in enumerate(ccc):\n",
    "    if ccc[key]>3:\n",
    "        keylist.append(key)\n",
    "        \n",
    "print('톤별:', keylist)        \n",
    "for kl in keylist:\n",
    "    del yd[kl]\n",
    "    del yc[kl]\n",
    "    del yn[kl]\n",
    "    del yo[kl]\n",
    "    \n",
    "\n",
    "om = dict(om)\n",
    "od = dict(od)\n",
    "ob = dict(ob)\n",
    "\n",
    "c1=Counter(list(om.keys()))\n",
    "c2=Counter(list(ob.keys()))\n",
    "c3=Counter(list(od.keys()))\n",
    "ccc=c1+c2+c3\n",
    "keylist=[]\n",
    "for i,key in enumerate(ccc):\n",
    "    if ccc[key]==3:\n",
    "        keylist.append(key)\n",
    "        \n",
    "print('톤별:', keylist)        \n",
    "for kl in keylist:\n",
    "    del om[kl]\n",
    "    del ob[kl]\n",
    "    del od[kl]"
   ]
  },
  {
   "cell_type": "code",
   "execution_count": 14,
   "metadata": {},
   "outputs": [
    {
     "data": {
      "text/plain": [
       "'DRY:'"
      ]
     },
     "metadata": {},
     "output_type": "display_data"
    },
    {
     "data": {
      "text/plain": [
       "{'립스틱추천': 212,\n",
       " '바디워시': 199,\n",
       " '틴트추천': 187,\n",
       " '파운데이션': 177,\n",
       " '썬크림': 156,\n",
       " '블러셔': 154,\n",
       " '미백': 151,\n",
       " '토너': 150}"
      ]
     },
     "metadata": {},
     "output_type": "display_data"
    },
    {
     "name": "stdout",
     "output_type": "stream",
     "text": [
      "-------------------------------------\n"
     ]
    },
    {
     "data": {
      "text/plain": [
       "'COMBINATION:'"
      ]
     },
     "metadata": {},
     "output_type": "display_data"
    },
    {
     "data": {
      "text/plain": [
       "{'섀도우': 354,\n",
       " '틴트추천': 302,\n",
       " '립스틱추천': 293,\n",
       " '블러셔': 289,\n",
       " '올리브영': 254,\n",
       " '파운데이션': 249,\n",
       " '미스트': 234,\n",
       " '토너': 226}"
      ]
     },
     "metadata": {},
     "output_type": "display_data"
    },
    {
     "name": "stdout",
     "output_type": "stream",
     "text": [
      "-------------------------------------\n"
     ]
    },
    {
     "data": {
      "text/plain": [
       "'NORMAL:'"
      ]
     },
     "metadata": {},
     "output_type": "display_data"
    },
    {
     "data": {
      "text/plain": [
       "{'미백': 184,\n",
       " 'ATB': 156,\n",
       " '주름개선': 153,\n",
       " '바디워시': 148,\n",
       " '미스트': 137,\n",
       " '헤어': 115,\n",
       " '코스모': 108,\n",
       " '남자향수': 107}"
      ]
     },
     "metadata": {},
     "output_type": "display_data"
    },
    {
     "name": "stdout",
     "output_type": "stream",
     "text": [
      "-------------------------------------\n"
     ]
    },
    {
     "data": {
      "text/plain": [
       "'OILY:'"
      ]
     },
     "metadata": {},
     "output_type": "display_data"
    },
    {
     "data": {
      "text/plain": [
       "{'바디워시': 245,\n",
       " '토너': 176,\n",
       " '촉촉': 168,\n",
       " '미스트': 165,\n",
       " '미백': 151,\n",
       " '클렌징': 147,\n",
       " '클렌징폼': 144,\n",
       " '여드름': 137}"
      ]
     },
     "metadata": {},
     "output_type": "display_data"
    },
    {
     "name": "stdout",
     "output_type": "stream",
     "text": [
      "-------------------------------------\n",
      "-------------------------------------\n"
     ]
    },
    {
     "data": {
      "text/plain": [
       "'BRIGHT:'"
      ]
     },
     "metadata": {},
     "output_type": "display_data"
    },
    {
     "data": {
      "text/plain": [
       "{'립스틱추천': 254,\n",
       " '틴트추천': 241,\n",
       " '토너': 227,\n",
       " '파운데이션': 217,\n",
       " '쿠션': 215,\n",
       " '섀도우': 206,\n",
       " '클렌징': 202}"
      ]
     },
     "metadata": {},
     "output_type": "display_data"
    },
    {
     "name": "stdout",
     "output_type": "stream",
     "text": [
      "-------------------------------------\n"
     ]
    },
    {
     "data": {
      "text/plain": [
       "'MIDDLE:'"
      ]
     },
     "metadata": {},
     "output_type": "display_data"
    },
    {
     "data": {
      "text/plain": [
       "{'바디워시': 443,\n",
       " '섀도우': 434,\n",
       " '미백': 380,\n",
       " '틴트추천': 358,\n",
       " '블러셔': 358,\n",
       " '립스틱추천': 350,\n",
       " '파운데이션': 328}"
      ]
     },
     "metadata": {},
     "output_type": "display_data"
    },
    {
     "name": "stdout",
     "output_type": "stream",
     "text": [
      "-------------------------------------\n"
     ]
    },
    {
     "data": {
      "text/plain": [
       "'DARK  :'"
      ]
     },
     "metadata": {},
     "output_type": "display_data"
    },
    {
     "data": {
      "text/plain": [
       "{'바디워시': 163,\n",
       " '미백': 125,\n",
       " '토너': 116,\n",
       " '썬크림': 114,\n",
       " '클렌징': 113,\n",
       " '남자향수': 108,\n",
       " '여드름': 94}"
      ]
     },
     "metadata": {},
     "output_type": "display_data"
    }
   ],
   "source": [
    "display('DRY:',yd)\n",
    "print('-------------------------------------')\n",
    "display('COMBINATION:',yc)\n",
    "print('-------------------------------------')\n",
    "display('NORMAL:',yn)\n",
    "print('-------------------------------------')\n",
    "display('OILY:',yo)\n",
    "print('-------------------------------------')\n",
    "print('-------------------------------------')\n",
    "\n",
    "display('BRIGHT:',ob)\n",
    "print('-------------------------------------')\n",
    "display('MIDDLE:',om)\n",
    "print('-------------------------------------')\n",
    "display('DARK  :',od)"
   ]
  },
  {
   "cell_type": "code",
   "execution_count": 15,
   "metadata": {},
   "outputs": [],
   "source": [
    "def groupdf(df, col):\n",
    "    gb_df = df.groupby([col])\n",
    "    gb_df=[gb_df.get_group(x) for x in gb_df.groups]\n",
    "    return gb_df"
   ]
  },
  {
   "cell_type": "code",
   "execution_count": null,
   "metadata": {},
   "outputs": [],
   "source": []
  }
 ],
 "metadata": {
  "kernelspec": {
   "display_name": "Python 3",
   "language": "python",
   "name": "python3"
  },
  "language_info": {
   "codemirror_mode": {
    "name": "ipython",
    "version": 3
   },
   "file_extension": ".py",
   "mimetype": "text/x-python",
   "name": "python",
   "nbconvert_exporter": "python",
   "pygments_lexer": "ipython3",
   "version": "3.7.0"
  }
 },
 "nbformat": 4,
 "nbformat_minor": 2
}
