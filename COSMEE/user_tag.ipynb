{
 "cells": [
  {
   "cell_type": "markdown",
   "metadata": {
    "slideshow": {
     "slide_type": "slide"
    }
   },
   "source": [
    "# Pilot Data Analysis"
   ]
  },
  {
   "cell_type": "code",
   "execution_count": 1,
   "metadata": {},
   "outputs": [
    {
     "name": "stderr",
     "output_type": "stream",
     "text": [
      "C:\\Users\\dongm\\Anaconda3\\lib\\site-packages\\ipykernel\\parentpoller.py:116: UserWarning: Parent poll failed.  If the frontend dies,\n",
      "                the kernel may be left running.  Please let us know\n",
      "                about your system (bitness, Python, etc.) at\n",
      "                ipython-dev@scipy.org\n",
      "  ipython-dev@scipy.org\"\"\")\n"
     ]
    }
   ],
   "source": [
    "from pilot_processing import *"
   ]
  },
  {
   "cell_type": "markdown",
   "metadata": {},
   "source": [
    "# 1. Import Data"
   ]
  },
  {
   "cell_type": "markdown",
   "metadata": {},
   "source": [
    "## 1.2. 모든 데이터 dataframe으로 저장"
   ]
  },
  {
   "cell_type": "code",
   "execution_count": 2,
   "metadata": {},
   "outputs": [
    {
     "name": "stdout",
     "output_type": "stream",
     "text": [
      "comments.csv reading\n",
      "comments_update.csv reading\n",
      "downvote.csv reading\n",
      "posts.csv reading\n",
      "posts_tags.csv reading\n",
      "recomments.csv reading\n",
      "recomments_update.csv reading\n",
      "sort.csv reading\n",
      "user.csv reading\n",
      "users_update.csv reading\n",
      "vote.csv reading\n",
      "설문조사에 참여한 사람 : 2192 명\n"
     ]
    }
   ],
   "source": [
    "# file list\n",
    "dir_data = 'C:/Users/dongm/COSMOCHAIN/Data/COSMEE/Pilot/'\n",
    "dir_output = 'C:/Users/dongm/COSMOCHAIN/Data/'\n",
    "filelist =os.listdir(dir_data)\n",
    "\n",
    "# survey answer 파일 경로\n",
    "dir_survey = 'C:/Users/dongm/COSMOCHAIN/Data/COSMEE/정리/'\n",
    "filename_survey = 'survey.xlsx'\n",
    "\n",
    "# 파일 dataframe에 저장    \n",
    "dic_data = saveAllFile(dir_data, filelist)\n",
    "\n",
    "# survey \n",
    "survey_answers = pd.read_excel(dir_survey + filename_survey, sheet_name=3)\n",
    "survey_questions=pd.read_excel(dir_survey + filename_survey, sheet_name=4)\n",
    "\n",
    "print('설문조사에 참여한 사람 :',len(set(survey_answers['userid'])),'명')"
   ]
  },
  {
   "cell_type": "markdown",
   "metadata": {},
   "source": [
    "# 2. 가공"
   ]
  },
  {
   "cell_type": "markdown",
   "metadata": {},
   "source": [
    "## 2.1. column 정리"
   ]
  },
  {
   "cell_type": "markdown",
   "metadata": {},
   "source": [
    "### Survey Answer : Pivot Table (by question id, answer)"
   ]
  },
  {
   "cell_type": "code",
   "execution_count": 3,
   "metadata": {},
   "outputs": [],
   "source": [
    "survey_answers = survey_answers.sort_values(by=['userid','questionid'])\n",
    "survey_answers = survey_answers.pivot('userid','questionid','answer')"
   ]
  },
  {
   "cell_type": "code",
   "execution_count": 4,
   "metadata": {},
   "outputs": [
    {
     "data": {
      "text/html": [
       "<div>\n",
       "<style scoped>\n",
       "    .dataframe tbody tr th:only-of-type {\n",
       "        vertical-align: middle;\n",
       "    }\n",
       "\n",
       "    .dataframe tbody tr th {\n",
       "        vertical-align: top;\n",
       "    }\n",
       "\n",
       "    .dataframe thead th {\n",
       "        text-align: right;\n",
       "    }\n",
       "</style>\n",
       "<table border=\"1\" class=\"dataframe\">\n",
       "  <thead>\n",
       "    <tr style=\"text-align: right;\">\n",
       "      <th></th>\n",
       "      <th>questionId (S)</th>\n",
       "      <th>description (S)</th>\n",
       "      <th>options (L)</th>\n",
       "      <th>step (N)</th>\n",
       "      <th>surveySet (S)</th>\n",
       "      <th>title (S)</th>\n",
       "      <th>type (S)</th>\n",
       "      <th>maxAnswerCount (N)</th>\n",
       "      <th>previousQuestionId (S)</th>\n",
       "      <th>minAnswerCount (N)</th>\n",
       "    </tr>\n",
       "  </thead>\n",
       "  <tbody>\n",
       "    <tr>\n",
       "      <th>0</th>\n",
       "      <td>1-1-0</td>\n",
       "      <td>당신의 성별은 무엇인가요?</td>\n",
       "      <td>[  { \"M\" : {      \"description\" : { \"S\" : \"여자\"...</td>\n",
       "      <td>1</td>\n",
       "      <td>e0222cae-ca95-4f96-8efe-2654e49c232d</td>\n",
       "      <td>demo</td>\n",
       "      <td>SINGLE</td>\n",
       "      <td>NaN</td>\n",
       "      <td>NaN</td>\n",
       "      <td>NaN</td>\n",
       "    </tr>\n",
       "  </tbody>\n",
       "</table>\n",
       "</div>"
      ],
      "text/plain": [
       "  questionId (S) description (S)  \\\n",
       "0          1-1-0  당신의 성별은 무엇인가요?   \n",
       "\n",
       "                                         options (L)  step (N)  \\\n",
       "0  [  { \"M\" : {      \"description\" : { \"S\" : \"여자\"...         1   \n",
       "\n",
       "                          surveySet (S) title (S) type (S)  \\\n",
       "0  e0222cae-ca95-4f96-8efe-2654e49c232d      demo   SINGLE   \n",
       "\n",
       "   maxAnswerCount (N) previousQuestionId (S)  minAnswerCount (N)  \n",
       "0                 NaN                    NaN                 NaN  "
      ]
     },
     "execution_count": 4,
     "metadata": {},
     "output_type": "execute_result"
    }
   ],
   "source": [
    "survey_questions['questionId (S)'][1]\n",
    "survey_questions.head(1)"
   ]
  },
  {
   "cell_type": "markdown",
   "metadata": {},
   "source": [
    "### tag sorting"
   ]
  },
  {
   "cell_type": "code",
   "execution_count": 5,
   "metadata": {},
   "outputs": [
    {
     "data": {
      "text/html": [
       "<div>\n",
       "<style scoped>\n",
       "    .dataframe tbody tr th:only-of-type {\n",
       "        vertical-align: middle;\n",
       "    }\n",
       "\n",
       "    .dataframe tbody tr th {\n",
       "        vertical-align: top;\n",
       "    }\n",
       "\n",
       "    .dataframe thead th {\n",
       "        text-align: right;\n",
       "    }\n",
       "</style>\n",
       "<table border=\"1\" class=\"dataframe\">\n",
       "  <thead>\n",
       "    <tr style=\"text-align: right;\">\n",
       "      <th></th>\n",
       "      <th>태그</th>\n",
       "      <th>횟수</th>\n",
       "      <th>분류</th>\n",
       "    </tr>\n",
       "  </thead>\n",
       "  <tbody>\n",
       "    <tr>\n",
       "      <th>0</th>\n",
       "      <td>코스미</td>\n",
       "      <td>7874</td>\n",
       "      <td>기타</td>\n",
       "    </tr>\n",
       "    <tr>\n",
       "      <th>1</th>\n",
       "      <td>보습</td>\n",
       "      <td>3453</td>\n",
       "      <td>기능</td>\n",
       "    </tr>\n",
       "    <tr>\n",
       "      <th>2</th>\n",
       "      <td>향수</td>\n",
       "      <td>2803</td>\n",
       "      <td>카테고리별</td>\n",
       "    </tr>\n",
       "    <tr>\n",
       "      <th>3</th>\n",
       "      <td>메이크업</td>\n",
       "      <td>2241</td>\n",
       "      <td>메이크업</td>\n",
       "    </tr>\n",
       "    <tr>\n",
       "      <th>4</th>\n",
       "      <td>립스틱</td>\n",
       "      <td>2104</td>\n",
       "      <td>카테고리별</td>\n",
       "    </tr>\n",
       "  </tbody>\n",
       "</table>\n",
       "</div>"
      ],
      "text/plain": [
       "     태그    횟수     분류\n",
       "0   코스미  7874     기타\n",
       "1    보습  3453     기능\n",
       "2    향수  2803  카테고리별\n",
       "3  메이크업  2241   메이크업\n",
       "4   립스틱  2104  카테고리별"
      ]
     },
     "execution_count": 5,
     "metadata": {},
     "output_type": "execute_result"
    }
   ],
   "source": [
    "sortoftag = dic_data['sort.csv']\n",
    "sortoftag.head()"
   ]
  },
  {
   "cell_type": "markdown",
   "metadata": {},
   "source": [
    "### User : basicskininfo 쪼개고, age는 현재 기준"
   ]
  },
  {
   "cell_type": "markdown",
   "metadata": {},
   "source": [
    "### user : 최초 가입 시"
   ]
  },
  {
   "cell_type": "code",
   "execution_count": 6,
   "metadata": {},
   "outputs": [],
   "source": [
    "user = dic_data['user.csv']\n",
    "user = setUser(user)\n",
    "\n",
    "user = user.sort_values(by='userid', ascending=False)\n",
    "user = user.reset_index(drop=True)\n",
    "\n",
    "# user = user.set_index('userid')"
   ]
  },
  {
   "cell_type": "markdown",
   "metadata": {},
   "source": [
    "### users_update : 가입후 정보변경"
   ]
  },
  {
   "cell_type": "code",
   "execution_count": 7,
   "metadata": {},
   "outputs": [],
   "source": [
    "users_update = dic_data['users_update.csv']\n",
    "users_update = setUser(users_update)\n",
    "\n",
    "users_update = users_update.sort_values(by=['userid','age','skinConcern1'], ascending=False)\n",
    "\n",
    "users_update = users_update.drop_duplicates(subset='userid')\n",
    "\n",
    "users_update = users_update.reset_index(drop=True)"
   ]
  },
  {
   "cell_type": "markdown",
   "metadata": {},
   "source": [
    "## 2.2. update data"
   ]
  },
  {
   "cell_type": "code",
   "execution_count": 8,
   "metadata": {},
   "outputs": [
    {
     "name": "stdout",
     "output_type": "stream",
     "text": [
      "시간이 너무 오래걸려서 고민 필요!\n"
     ]
    }
   ],
   "source": [
    "'''\n",
    "def applyUpdate(df1, df2):\n",
    "    cnt=0\n",
    "    print('전체 데이터 개수 :',len(df1))\n",
    "    for i in range(len(df1)):\n",
    "        if df1['userid'][i]==df2['userid'][cnt]:\n",
    "            df1.iloc[i]=df2.iloc[cnt]\n",
    "            cnt+=1\n",
    "            \n",
    "        if i%1000 == 0:\n",
    "            print('df1 row =', i,'df2 row =',cnt)\n",
    "    return df1\n",
    "\n",
    "user = applyUpdate(user, users_update)\n",
    "user.head()\n",
    "'''\n",
    "\n",
    "print('시간이 너무 오래걸려서 고민 필요!')\n"
   ]
  },
  {
   "cell_type": "code",
   "execution_count": 9,
   "metadata": {},
   "outputs": [],
   "source": [
    "# user.to_csv(dir_output+'users_final.csv')\n",
    "dir_total = 'C:/Users/dongm/COSMOCHAIN/Data/COSMEE'\n",
    "user_total = pd.read_csv(dir_total+'users_final.csv', encoding='UTF-8')\n",
    "user_total['skinConcerns'] = '\"'+user_total['skinConcern1'] +'\",\"'+ user_total['skinConcern2'] + '\",\"' +user_total['skinConcern3']+'\"'\n",
    "user_total = user_total.drop(columns=['Unnamed: 0','skinConcern1','skinConcern2','skinConcern3'])\n",
    "\n",
    "user_total = change_skinConcerns(user_total)"
   ]
  },
  {
   "cell_type": "markdown",
   "metadata": {},
   "source": [
    "## 2.3 결합"
   ]
  },
  {
   "cell_type": "markdown",
   "metadata": {},
   "source": [
    "### 2.3.1 tag + posts, comments, recomments, votes, downvotes"
   ]
  },
  {
   "cell_type": "code",
   "execution_count": 10,
   "metadata": {},
   "outputs": [
    {
     "name": "stdout",
     "output_type": "stream",
     "text": [
      "posts.csv join complete!\n"
     ]
    }
   ],
   "source": [
    "'''\n",
    "tags_recomments = join_tags_activity('recomments.csv')\n",
    "tags_comments = join_tags_activity('comments.csv')\n",
    "tags_downvote = join_tags_activity('downvote.csv')\n",
    "tags_vote = join_tags_activity('vote.csv')\n",
    "'''\n",
    "tags_posts = join_tags_activity(dic_data, 'posts.csv')"
   ]
  },
  {
   "cell_type": "code",
   "execution_count": 11,
   "metadata": {},
   "outputs": [
    {
     "data": {
      "text/html": [
       "<div>\n",
       "<style scoped>\n",
       "    .dataframe tbody tr th:only-of-type {\n",
       "        vertical-align: middle;\n",
       "    }\n",
       "\n",
       "    .dataframe tbody tr th {\n",
       "        vertical-align: top;\n",
       "    }\n",
       "\n",
       "    .dataframe thead th {\n",
       "        text-align: right;\n",
       "    }\n",
       "</style>\n",
       "<table border=\"1\" class=\"dataframe\">\n",
       "  <thead>\n",
       "    <tr style=\"text-align: right;\">\n",
       "      <th></th>\n",
       "      <th>postid</th>\n",
       "      <th>name</th>\n",
       "      <th>age</th>\n",
       "      <th>gender</th>\n",
       "      <th>skinTone</th>\n",
       "      <th>skinType</th>\n",
       "      <th>skinConcerns</th>\n",
       "    </tr>\n",
       "  </thead>\n",
       "  <tbody>\n",
       "    <tr>\n",
       "      <th>ffffe04b-cc6d-42ed-bdff-d34c1f681145</th>\n",
       "      <td>55d23326-3ded-41f0-b25e-86f39b23de44</td>\n",
       "      <td>쿠션</td>\n",
       "      <td>28</td>\n",
       "      <td>FEMALE</td>\n",
       "      <td>MIDDLE</td>\n",
       "      <td>COMBINATION</td>\n",
       "      <td>[\"WHITENING\",\"BLACKHEAD\",\"DRY\"]</td>\n",
       "    </tr>\n",
       "    <tr>\n",
       "      <th>ffffe04b-cc6d-42ed-bdff-d34c1f681145</th>\n",
       "      <td>4a0143e6-7ccf-48cc-a5cb-02604f1247cc</td>\n",
       "      <td>진저</td>\n",
       "      <td>28</td>\n",
       "      <td>FEMALE</td>\n",
       "      <td>MIDDLE</td>\n",
       "      <td>COMBINATION</td>\n",
       "      <td>[\"WHITENING\",\"BLACKHEAD\",\"DRY\"]</td>\n",
       "    </tr>\n",
       "    <tr>\n",
       "      <th>ffffe04b-cc6d-42ed-bdff-d34c1f681145</th>\n",
       "      <td>ff65479e-49a6-4027-8f48-d7a38c3219ce</td>\n",
       "      <td>입생로랑틴트</td>\n",
       "      <td>28</td>\n",
       "      <td>FEMALE</td>\n",
       "      <td>MIDDLE</td>\n",
       "      <td>COMBINATION</td>\n",
       "      <td>[\"WHITENING\",\"BLACKHEAD\",\"DRY\"]</td>\n",
       "    </tr>\n",
       "  </tbody>\n",
       "</table>\n",
       "</div>"
      ],
      "text/plain": [
       "                                                                    postid  \\\n",
       "ffffe04b-cc6d-42ed-bdff-d34c1f681145  55d23326-3ded-41f0-b25e-86f39b23de44   \n",
       "ffffe04b-cc6d-42ed-bdff-d34c1f681145  4a0143e6-7ccf-48cc-a5cb-02604f1247cc   \n",
       "ffffe04b-cc6d-42ed-bdff-d34c1f681145  ff65479e-49a6-4027-8f48-d7a38c3219ce   \n",
       "\n",
       "                                        name  age  gender skinTone  \\\n",
       "ffffe04b-cc6d-42ed-bdff-d34c1f681145      쿠션   28  FEMALE   MIDDLE   \n",
       "ffffe04b-cc6d-42ed-bdff-d34c1f681145      진저   28  FEMALE   MIDDLE   \n",
       "ffffe04b-cc6d-42ed-bdff-d34c1f681145  입생로랑틴트   28  FEMALE   MIDDLE   \n",
       "\n",
       "                                         skinType  \\\n",
       "ffffe04b-cc6d-42ed-bdff-d34c1f681145  COMBINATION   \n",
       "ffffe04b-cc6d-42ed-bdff-d34c1f681145  COMBINATION   \n",
       "ffffe04b-cc6d-42ed-bdff-d34c1f681145  COMBINATION   \n",
       "\n",
       "                                                         skinConcerns  \n",
       "ffffe04b-cc6d-42ed-bdff-d34c1f681145  [\"WHITENING\",\"BLACKHEAD\",\"DRY\"]  \n",
       "ffffe04b-cc6d-42ed-bdff-d34c1f681145  [\"WHITENING\",\"BLACKHEAD\",\"DRY\"]  \n",
       "ffffe04b-cc6d-42ed-bdff-d34c1f681145  [\"WHITENING\",\"BLACKHEAD\",\"DRY\"]  "
      ]
     },
     "execution_count": 11,
     "metadata": {},
     "output_type": "execute_result"
    }
   ],
   "source": [
    "caller  = tags_posts\n",
    "other = user_total\n",
    "\n",
    "user_posts = caller.set_index('authorid').join(other.set_index('userid'))\n",
    "user_posts.tail(3)"
   ]
  },
  {
   "cell_type": "code",
   "execution_count": 12,
   "metadata": {},
   "outputs": [
    {
     "name": "stdout",
     "output_type": "stream",
     "text": [
      "전체 tag 개수 : 250423\n"
     ]
    }
   ],
   "source": [
    "user_posts.index.name = 'userid'\n",
    "user_posts = user_posts.reset_index()\n",
    "print('전체 tag 개수 :',len(user_posts))"
   ]
  },
  {
   "cell_type": "code",
   "execution_count": 14,
   "metadata": {},
   "outputs": [],
   "source": [
    "postUserSurvey = user_posts.join(survey_answers,on='userid')\n",
    "postUserSurvey = postUserSurvey.sort_values(by='userid')\n",
    "postUserSurvey = postUserSurvey.reset_index(drop=True)\n",
    "# del dic_data"
   ]
  },
  {
   "cell_type": "markdown",
   "metadata": {},
   "source": [
    "# 3.분석"
   ]
  },
  {
   "cell_type": "markdown",
   "metadata": {},
   "source": [
    "## 3.1. 태그 선택"
   ]
  },
  {
   "cell_type": "markdown",
   "metadata": {
    "slideshow": {
     "slide_type": "slide"
    }
   },
   "source": [
    "### 전체 태그"
   ]
  },
  {
   "cell_type": "code",
   "execution_count": 15,
   "metadata": {
    "slideshow": {
     "slide_type": "-"
    }
   },
   "outputs": [
    {
     "name": "stderr",
     "output_type": "stream",
     "text": [
      "C:\\Users\\dongm\\Anaconda3\\lib\\site-packages\\pandas\\core\\indexes\\api.py:107: RuntimeWarning: '<' not supported between instances of 'int' and 'str', sort order is undefined for incomparable objects\n",
      "  result = result.union(other)\n",
      "C:\\Users\\dongm\\Anaconda3\\lib\\site-packages\\pandas\\core\\frame.py:7397: RuntimeWarning: '<' not supported between instances of 'int' and 'str', sort order is undefined for incomparable objects\n",
      "  index = _union_indexes(indexes)\n",
      "C:\\Users\\dongm\\Anaconda3\\lib\\site-packages\\pandas\\core\\frame.py:7397: RuntimeWarning: '<' not supported between instances of 'str' and 'int', sort order is undefined for incomparable objects\n",
      "  index = _union_indexes(indexes)\n"
     ]
    }
   ],
   "source": [
    "total_tag = getTagSummary(postUserSurvey)"
   ]
  },
  {
   "cell_type": "code",
   "execution_count": 15,
   "metadata": {
    "slideshow": {
     "slide_type": "-"
    }
   },
   "outputs": [],
   "source": [
    "%%capture cap --no-stderr\n",
    "result_brand(total_tag, 'total',survey_questions, topN=8)"
   ]
  },
  {
   "cell_type": "code",
   "execution_count": 16,
   "metadata": {
    "slideshow": {
     "slide_type": "-"
    }
   },
   "outputs": [],
   "source": [
    "with open(dir_output+'summary_total.txt', 'w') as out: out.write(cap.stdout)"
   ]
  },
  {
   "cell_type": "markdown",
   "metadata": {
    "slideshow": {
     "slide_type": "slide"
    }
   },
   "source": [
    "### 미샤 태그 사용 유저"
   ]
  },
  {
   "cell_type": "code",
   "execution_count": 17,
   "metadata": {
    "slideshow": {
     "slide_type": "skip"
    }
   },
   "outputs": [
    {
     "name": "stderr",
     "output_type": "stream",
     "text": [
      "C:\\Users\\dongm\\Anaconda3\\lib\\site-packages\\pandas\\core\\indexes\\api.py:107: RuntimeWarning: '<' not supported between instances of 'int' and 'str', sort order is undefined for incomparable objects\n",
      "  result = result.union(other)\n",
      "C:\\Users\\dongm\\Anaconda3\\lib\\site-packages\\pandas\\core\\frame.py:7397: RuntimeWarning: '<' not supported between instances of 'int' and 'str', sort order is undefined for incomparable objects\n",
      "  index = _union_indexes(indexes)\n",
      "C:\\Users\\dongm\\Anaconda3\\lib\\site-packages\\pandas\\core\\frame.py:7397: RuntimeWarning: '<' not supported between instances of 'str' and 'int', sort order is undefined for incomparable objects\n",
      "  index = _union_indexes(indexes)\n"
     ]
    }
   ],
   "source": [
    "missha = getTagSummary(postUserSurvey,'미샤')"
   ]
  },
  {
   "cell_type": "code",
   "execution_count": 18,
   "metadata": {
    "slideshow": {
     "slide_type": "-"
    }
   },
   "outputs": [],
   "source": [
    "%%capture cap --no-stderr\n",
    "result_brand(missha, '미샤' ,survey_questions)"
   ]
  },
  {
   "cell_type": "code",
   "execution_count": 19,
   "metadata": {
    "slideshow": {
     "slide_type": "-"
    }
   },
   "outputs": [],
   "source": [
    "with open(dir_output+'summary_missha.txt', 'w') as out: out.write(cap.stdout)"
   ]
  },
  {
   "cell_type": "markdown",
   "metadata": {
    "slideshow": {
     "slide_type": "slide"
    }
   },
   "source": [
    "### 이니스프리 태그 사용 유저"
   ]
  },
  {
   "cell_type": "code",
   "execution_count": 20,
   "metadata": {
    "slideshow": {
     "slide_type": "skip"
    }
   },
   "outputs": [
    {
     "name": "stderr",
     "output_type": "stream",
     "text": [
      "C:\\Users\\dongm\\Anaconda3\\lib\\site-packages\\pandas\\core\\indexes\\api.py:107: RuntimeWarning: '<' not supported between instances of 'int' and 'str', sort order is undefined for incomparable objects\n",
      "  result = result.union(other)\n",
      "C:\\Users\\dongm\\Anaconda3\\lib\\site-packages\\pandas\\core\\frame.py:7397: RuntimeWarning: '<' not supported between instances of 'int' and 'str', sort order is undefined for incomparable objects\n",
      "  index = _union_indexes(indexes)\n",
      "C:\\Users\\dongm\\Anaconda3\\lib\\site-packages\\pandas\\core\\frame.py:7397: RuntimeWarning: '<' not supported between instances of 'str' and 'int', sort order is undefined for incomparable objects\n",
      "  index = _union_indexes(indexes)\n"
     ]
    }
   ],
   "source": [
    "innisfree = getTagSummary(postUserSurvey,'이니스프리')"
   ]
  },
  {
   "cell_type": "code",
   "execution_count": 21,
   "metadata": {
    "slideshow": {
     "slide_type": "-"
    }
   },
   "outputs": [],
   "source": [
    "%%capture cap --no-stderr\n",
    "result_brand(innisfree, '이니스프리', survey_questions)"
   ]
  },
  {
   "cell_type": "code",
   "execution_count": 22,
   "metadata": {
    "slideshow": {
     "slide_type": "-"
    }
   },
   "outputs": [],
   "source": [
    "with open(dir_output+'summary_innisfree.txt', 'w') as out: out.write(cap.stdout)"
   ]
  },
  {
   "cell_type": "code",
   "execution_count": 25,
   "metadata": {},
   "outputs": [],
   "source": []
  },
  {
   "cell_type": "markdown",
   "metadata": {},
   "source": [
    "## 3.2 유저의 속성 선택 -> 태그 리스트 보기"
   ]
  },
  {
   "cell_type": "code",
   "execution_count": 13,
   "metadata": {},
   "outputs": [],
   "source": [
    "def getTagList(tags):\n",
    "    tags_posts = tags\n",
    "    user_tag = {}\n",
    "    prev_authorid = ''\n",
    "    for i, authorid in enumerate(tags_posts['authorid']):\n",
    "        if authorid != prev_authorid:\n",
    "            user_tag[authorid] = '\"'+tags_posts['name'][i]+'\"'\n",
    "        else:\n",
    "            user_tag[authorid] = user_tag[authorid] +',\"' + tags_posts['name'][i]+'\"'\n",
    "        prev_authorid = authorid\n",
    "\n",
    "    user_taglist = pd.DataFrame(dict(userid=list(user_tag.keys()),taglist=list(user_tag.values())))\n",
    "    return user_taglist"
   ]
  },
  {
   "cell_type": "code",
   "execution_count": 14,
   "metadata": {},
   "outputs": [],
   "source": [
    "taglist = getTagList(tags_posts)\n",
    "user_taglist  = user_total.set_index('userid').join(taglist.set_index('userid'))"
   ]
  },
  {
   "cell_type": "code",
   "execution_count": 16,
   "metadata": {},
   "outputs": [],
   "source": [
    "postUserSurvey = user_taglist.join(survey_answers,on='userid')\n",
    "postUserSurvey = postUserSurvey.sort_values(by='userid')\n",
    "postUserSurvey = postUserSurvey.reset_index(drop=True)\n",
    "# del dic_data"
   ]
  },
  {
   "cell_type": "code",
   "execution_count": 17,
   "metadata": {},
   "outputs": [],
   "source": [
    "import math"
   ]
  },
  {
   "cell_type": "code",
   "execution_count": 18,
   "metadata": {},
   "outputs": [
    {
     "data": {
      "text/plain": [
       "[('코스미', 7923), ('보습', 3493), ('향수', 2953), ('메이크업', 2269), ('립스틱', 2124)]"
      ]
     },
     "execution_count": 18,
     "metadata": {},
     "output_type": "execute_result"
    }
   ],
   "source": [
    "tag_list = []\n",
    "for tags in postUserSurvey['taglist']:\n",
    "    if isinstance(tags, str):\n",
    "        tags = tags[1:-1]\n",
    "        tags = tags.split('\",\"')\n",
    "        for tag in tags:\n",
    "            tag_list.append(tag)\n",
    "        \n",
    "counter = Counter(tag_list)\n",
    "counter.most_common(5)"
   ]
  },
  {
   "cell_type": "markdown",
   "metadata": {},
   "source": [
    "### user 속성별 분류, 시각화"
   ]
  },
  {
   "cell_type": "code",
   "execution_count": 19,
   "metadata": {},
   "outputs": [],
   "source": [
    "test = postUserSurvey[postUserSurvey['age']>30]"
   ]
  },
  {
   "cell_type": "code",
   "execution_count": 22,
   "metadata": {},
   "outputs": [],
   "source": [
    "user_simple = user_taglist[user_taglist['age']>0]\n",
    "user_simple = user_simple[user_simple['skinTone']!=\"#\"]\n",
    "user_simple = user_simple.reset_index()\n",
    "user_simple = user_simple[['age','gender','skinTone','skinType']]"
   ]
  },
  {
   "cell_type": "code",
   "execution_count": 23,
   "metadata": {},
   "outputs": [],
   "source": [
    "test = user_simple[['gender','skinTone','skinType']]"
   ]
  },
  {
   "cell_type": "code",
   "execution_count": 24,
   "metadata": {},
   "outputs": [
    {
     "data": {
      "text/html": [
       "<div>\n",
       "<style scoped>\n",
       "    .dataframe tbody tr th:only-of-type {\n",
       "        vertical-align: middle;\n",
       "    }\n",
       "\n",
       "    .dataframe tbody tr th {\n",
       "        vertical-align: top;\n",
       "    }\n",
       "\n",
       "    .dataframe thead th {\n",
       "        text-align: right;\n",
       "    }\n",
       "</style>\n",
       "<table border=\"1\" class=\"dataframe\">\n",
       "  <thead>\n",
       "    <tr style=\"text-align: right;\">\n",
       "      <th></th>\n",
       "      <th>gender</th>\n",
       "      <th>skinTone</th>\n",
       "      <th>skinType</th>\n",
       "    </tr>\n",
       "  </thead>\n",
       "  <tbody>\n",
       "    <tr>\n",
       "      <th>0</th>\n",
       "      <td>FEMALE</td>\n",
       "      <td>MIDDLE</td>\n",
       "      <td>COMBINATION</td>\n",
       "    </tr>\n",
       "    <tr>\n",
       "      <th>1</th>\n",
       "      <td>FEMALE</td>\n",
       "      <td>BRIGHT</td>\n",
       "      <td>COMBINATION</td>\n",
       "    </tr>\n",
       "    <tr>\n",
       "      <th>2</th>\n",
       "      <td>FEMALE</td>\n",
       "      <td>MIDDLE</td>\n",
       "      <td>DRY</td>\n",
       "    </tr>\n",
       "    <tr>\n",
       "      <th>3</th>\n",
       "      <td>MALE</td>\n",
       "      <td>MIDDLE</td>\n",
       "      <td>DRY</td>\n",
       "    </tr>\n",
       "    <tr>\n",
       "      <th>4</th>\n",
       "      <td>FEMALE</td>\n",
       "      <td>BRIGHT</td>\n",
       "      <td>COMBINATION</td>\n",
       "    </tr>\n",
       "  </tbody>\n",
       "</table>\n",
       "</div>"
      ],
      "text/plain": [
       "   gender skinTone     skinType\n",
       "0  FEMALE   MIDDLE  COMBINATION\n",
       "1  FEMALE   BRIGHT  COMBINATION\n",
       "2  FEMALE   MIDDLE          DRY\n",
       "3    MALE   MIDDLE          DRY\n",
       "4  FEMALE   BRIGHT  COMBINATION"
      ]
     },
     "execution_count": 24,
     "metadata": {},
     "output_type": "execute_result"
    }
   ],
   "source": [
    "test.head()"
   ]
  },
  {
   "cell_type": "code",
   "execution_count": 25,
   "metadata": {},
   "outputs": [],
   "source": [
    "user_sum = []\n",
    "for i in range(len(test)):\n",
    "    gender = test['gender'][i]\n",
    "    skinTone = test['skinTone'][i]\n",
    "    skinType = test['skinType'][i]\n",
    "    user = gender+' '+skinTone+' '+skinType\n",
    "    user_sum.append(user)\n",
    "            "
   ]
  },
  {
   "cell_type": "code",
   "execution_count": 31,
   "metadata": {},
   "outputs": [],
   "source": [
    "# Counter(user_sum)"
   ]
  },
  {
   "cell_type": "code",
   "execution_count": 27,
   "metadata": {},
   "outputs": [],
   "source": [
    "tt = test.replace(['MALE','FEMALE','BRIGHT','MIDDLE','DARK','DRY','NORMAL','COMBINATION','OILY'],[1,0,0,0.5,1,0,0.3,0.6,1])\n",
    "tt = tt[['skinTone','skinType']]"
   ]
  },
  {
   "cell_type": "code",
   "execution_count": 30,
   "metadata": {},
   "outputs": [
    {
     "data": {
      "text/plain": [
       "<matplotlib.axes._subplots.AxesSubplot at 0x1a4aa966a20>"
      ]
     },
     "execution_count": 30,
     "metadata": {},
     "output_type": "execute_result"
    },
    {
     "data": {
      "image/png": "[encoded data removed]",
      "text/plain": [
       "<Figure size 432x288 with 1 Axes>"
      ]
     },
     "metadata": {
      "needs_background": "light"
     },
     "output_type": "display_data"
    }
   ],
   "source": [
    "tt.plot.scatter(x='skinTone',y='skinType')"
   ]
  },
  {
   "cell_type": "code",
   "execution_count": null,
   "metadata": {},
   "outputs": [],
   "source": []
  }
 ],
 "metadata": {
  "kernelspec": {
   "display_name": "Python 3",
   "language": "python",
   "name": "python3"
  },
  "language_info": {
   "codemirror_mode": {
    "name": "ipython",
    "version": 3
   },
   "file_extension": ".py",
   "mimetype": "text/x-python",
   "name": "python",
   "nbconvert_exporter": "python",
   "pygments_lexer": "ipython3",
   "version": "3.7.0"
  }
 },
 "nbformat": 4,
 "nbformat_minor": 2
}
